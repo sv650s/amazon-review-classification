{
  "nbformat": 4,
  "nbformat_minor": 0,
  "metadata": {
    "accelerator": "GPU",
    "colab": {
      "name": "CNN_prototype.ipynb",
      "version": "0.3.2",
      "provenance": [],
      "collapsed_sections": [],
      "include_colab_link": true
    },
    "kernelspec": {
      "display_name": "Python 3",
      "language": "python",
      "name": "python3"
    },
    "language_info": {
      "codemirror_mode": {
        "name": "ipython",
        "version": 3
      },
      "file_extension": ".py",
      "mimetype": "text/x-python",
      "name": "python",
      "nbconvert_exporter": "python",
      "pygments_lexer": "ipython3",
      "version": "3.7.3"
    }
  },
  "cells": [
    {
      "cell_type": "markdown",
      "metadata": {
        "id": "view-in-github",
        "colab_type": "text"
      },
      "source": [
        "<a href=\"https://colab.research.google.com/github/sv650s/sb-capstone/blob/master/2019-07-22-GRU_prototype.ipynb\" target=\"_parent\"><img src=\"https://colab.research.google.com/assets/colab-badge.svg\" alt=\"Open In Colab\"/></a>"
      ]
    },
    {
      "cell_type": "markdown",
      "metadata": {
        "colab_type": "text",
        "id": "W7_sb1roJXhx"
      },
      "source": [
        "# GRUPrototype\n",
        "\n",
        "Modeling this notebook after the following:\n",
        "\n",
        "https://nbviewer.jupyter.org/github/dipanjanS/nlp_workshop_dhs18/blob/master/Unit%2012%20-%20Project%209%20-%20Sentiment%20Analysis%20-%20Supervised%20Learning/12B%20-%20Project%2011%20-%20Sentiment%20Analysis%20-%20Advanced%20Deep%20Learning%20-%20CNNs.ipynb\n",
        "\n",
        "\n",
        "Making the following changes:\n",
        "\n",
        "* last layer is a 5 node layer with softmax activation function since we are doing a 5 class classification\n",
        "* Changing the loss function from binary_crossentropy to categorical_crossentropy since we are doing multi-class classification\n",
        "* running fit with 50 epochs with early stopping with patience of 2\n",
        "* also this notebook runs the CNN model twice - once with embedding of 32 (original), one with embedding of 300. At the end of the notebook, it prints a table to compare the two"
      ]
    },
    {
      "cell_type": "code",
      "metadata": {
        "colab_type": "code",
        "id": "gwrIhSxpG--S",
        "outputId": "038abed4-bdc0-420c-cddb-9909e591face",
        "colab": {
          "base_uri": "https://localhost:8080/",
          "height": 55
        }
      },
      "source": [
        "from google.colab import drive\n",
        "import sys\n",
        "drive.mount('/content/drive')\n",
        "# add this to sys patch so we can import utility functions\n",
        "sys.path.append('drive/My Drive/Springboard/capstone')\n"
      ],
      "execution_count": 3,
      "outputs": [
        {
          "output_type": "stream",
          "text": [
            "Drive already mounted at /content/drive; to attempt to forcibly remount, call drive.mount(\"/content/drive\", force_remount=True).\n"
          ],
          "name": "stdout"
        }
      ]
    },
    {
      "cell_type": "code",
      "metadata": {
        "colab_type": "code",
        "id": "pAHGtniuJXhy",
        "outputId": "2ee408c2-b821-415c-c432-53b8689ad9ba",
        "colab": {
          "base_uri": "https://localhost:8080/",
          "height": 35
        }
      },
      "source": [
        "from keras.models import Sequential\n",
        "from keras.layers import Dense, Activation, Dropout, GRU, SpatialDropout1D\n",
        "from keras.layers.normalization import BatchNormalization\n",
        "from keras.callbacks import EarlyStopping\n",
        "from keras.models import load_model\n",
        "from sklearn.model_selection import train_test_split\n",
        "from keras.optimizers import SGD\n",
        "from sklearn.preprocessing import OneHotEncoder\n",
        "from keras.layers import Flatten\n",
        "from keras.layers.convolutional import Conv1D\n",
        "from keras.layers.convolutional import MaxPooling1D\n",
        "from keras.layers.embeddings import Embedding\n",
        "import pandas as pd\n",
        "from IPython.display import SVG\n",
        "from keras.utils.vis_utils import model_to_dot\n",
        "import pickle\n",
        "from datetime import datetime\n",
        "from sklearn.metrics import confusion_matrix, classification_report\n",
        "import os\n",
        "import seaborn as sns\n",
        "\n",
        "# custom utility functions\n",
        "import util.dict_util as du\n",
        "import util.plot_util as pu\n",
        "import util.file_util as fu\n",
        "\n",
        "\n",
        "sns.set()\n"
      ],
      "execution_count": 4,
      "outputs": [
        {
          "output_type": "stream",
          "text": [
            "Using TensorFlow backend.\n"
          ],
          "name": "stderr"
        }
      ]
    },
    {
      "cell_type": "code",
      "metadata": {
        "colab_type": "code",
        "id": "At8OhHNfJXh3",
        "colab": {}
      },
      "source": [
        "DRIVE_DIR = \"drive/My Drive/Springboard/capstone\"\n",
        "DATE_FORMAT = '%Y-%m-%d'\n",
        "TIME_FORMAT = '%Y-%m-%d %H:%M:%S'\n",
        "DATA_FILE = f\"{DRIVE_DIR}/data/amazon_reviews_us_Wireless_v1_00-preprocessed-110k.csv\"\n",
        "FEATURE_COLUMN = \"star_rating\"\n",
        "REVIEW_COLUMN = \"review_body\"\n",
        "\n",
        "\n"
      ],
      "execution_count": 0,
      "outputs": []
    },
    {
      "cell_type": "code",
      "metadata": {
        "colab_type": "code",
        "id": "KfGVl2gXLMV_",
        "outputId": "8ef47e7c-75aa-46ce-eda1-ab274eda63e5",
        "colab": {
          "base_uri": "https://localhost:8080/",
          "height": 35
        }
      },
      "source": [
        "import tensorflow as tf\n",
        "# checl to make sure we are using GPU here\n",
        "tf.test.gpu_device_name()"
      ],
      "execution_count": 6,
      "outputs": [
        {
          "output_type": "execute_result",
          "data": {
            "text/plain": [
              "'/device:GPU:0'"
            ]
          },
          "metadata": {
            "tags": []
          },
          "execution_count": 6
        }
      ]
    },
    {
      "cell_type": "code",
      "metadata": {
        "colab_type": "code",
        "hide_input": false,
        "id": "k6fwJp9OJXh5",
        "colab": {}
      },
      "source": [
        "df = pd.read_csv(f\"{DATA_FILE}\")"
      ],
      "execution_count": 0,
      "outputs": []
    },
    {
      "cell_type": "code",
      "metadata": {
        "colab_type": "code",
        "id": "nb3whPNGNsu6",
        "outputId": "288b9401-6809-47ba-e031-080dcb587367",
        "colab": {
          "base_uri": "https://localhost:8080/",
          "height": 517
        }
      },
      "source": [
        "df.head()"
      ],
      "execution_count": 8,
      "outputs": [
        {
          "output_type": "execute_result",
          "data": {
            "text/html": [
              "<div>\n",
              "<style scoped>\n",
              "    .dataframe tbody tr th:only-of-type {\n",
              "        vertical-align: middle;\n",
              "    }\n",
              "\n",
              "    .dataframe tbody tr th {\n",
              "        vertical-align: top;\n",
              "    }\n",
              "\n",
              "    .dataframe thead th {\n",
              "        text-align: right;\n",
              "    }\n",
              "</style>\n",
              "<table border=\"1\" class=\"dataframe\">\n",
              "  <thead>\n",
              "    <tr style=\"text-align: right;\">\n",
              "      <th></th>\n",
              "      <th>customer_id</th>\n",
              "      <th>review_id</th>\n",
              "      <th>product_id</th>\n",
              "      <th>product_parent</th>\n",
              "      <th>product_title</th>\n",
              "      <th>product_category</th>\n",
              "      <th>star_rating</th>\n",
              "      <th>helpful_votes</th>\n",
              "      <th>total_votes</th>\n",
              "      <th>review_headline</th>\n",
              "      <th>review_body</th>\n",
              "      <th>review_date</th>\n",
              "    </tr>\n",
              "  </thead>\n",
              "  <tbody>\n",
              "    <tr>\n",
              "      <th>0</th>\n",
              "      <td>48623501</td>\n",
              "      <td>R1G7J2VAMI4AEC</td>\n",
              "      <td>B00LBK7QBY</td>\n",
              "      <td>361030039</td>\n",
              "      <td>universal waterproof case joto cellphone dry b...</td>\n",
              "      <td>Wireless</td>\n",
              "      <td>5</td>\n",
              "      <td>0</td>\n",
              "      <td>0</td>\n",
              "      <td>good product please note not</td>\n",
              "      <td>good product please note not floating case do ...</td>\n",
              "      <td>2015-08-31</td>\n",
              "    </tr>\n",
              "    <tr>\n",
              "      <th>1</th>\n",
              "      <td>533148</td>\n",
              "      <td>R3Q4JAPXWCCJU7</td>\n",
              "      <td>B00W661MOO</td>\n",
              "      <td>360205932</td>\n",
              "      <td>car mount alpatronix mx101 universal charging ...</td>\n",
              "      <td>Wireless</td>\n",
              "      <td>5</td>\n",
              "      <td>0</td>\n",
              "      <td>0</td>\n",
              "      <td>great product holds phone place</td>\n",
              "      <td>great product holds phone place does not slip ...</td>\n",
              "      <td>2015-08-31</td>\n",
              "    </tr>\n",
              "    <tr>\n",
              "      <th>2</th>\n",
              "      <td>40266813</td>\n",
              "      <td>RJQWVO0QV2WQ4</td>\n",
              "      <td>B00USN9L0E</td>\n",
              "      <td>105913119</td>\n",
              "      <td>synthetic leather galaxy s6 sleeve thin</td>\n",
              "      <td>Wireless</td>\n",
              "      <td>5</td>\n",
              "      <td>0</td>\n",
              "      <td>0</td>\n",
              "      <td>exactly described</td>\n",
              "      <td>quality looks good prompt postage cannot argue...</td>\n",
              "      <td>2015-08-31</td>\n",
              "    </tr>\n",
              "    <tr>\n",
              "      <th>3</th>\n",
              "      <td>228806</td>\n",
              "      <td>R3RFPR7X60WN6C</td>\n",
              "      <td>B00YPAOKMU</td>\n",
              "      <td>564491128</td>\n",
              "      <td>jiake s6 5 0 inch unlocked smart phone quad co...</td>\n",
              "      <td>Wireless</td>\n",
              "      <td>5</td>\n",
              "      <td>0</td>\n",
              "      <td>0</td>\n",
              "      <td>powerful attractive really do love mode</td>\n",
              "      <td>works much like jiake phone love price great b...</td>\n",
              "      <td>2015-08-31</td>\n",
              "    </tr>\n",
              "    <tr>\n",
              "      <th>4</th>\n",
              "      <td>10866798</td>\n",
              "      <td>R3QL2UPH2B7YFT</td>\n",
              "      <td>B00O0S97SE</td>\n",
              "      <td>742788022</td>\n",
              "      <td>tfy universal car headrest mount holder portab...</td>\n",
              "      <td>Wireless</td>\n",
              "      <td>3</td>\n",
              "      <td>0</td>\n",
              "      <td>1</td>\n",
              "      <td>good enough</td>\n",
              "      <td>serves purpose loud whoever sitting seat attached</td>\n",
              "      <td>2015-08-31</td>\n",
              "    </tr>\n",
              "  </tbody>\n",
              "</table>\n",
              "</div>"
            ],
            "text/plain": [
              "   customer_id  ... review_date\n",
              "0     48623501  ...  2015-08-31\n",
              "1       533148  ...  2015-08-31\n",
              "2     40266813  ...  2015-08-31\n",
              "3       228806  ...  2015-08-31\n",
              "4     10866798  ...  2015-08-31\n",
              "\n",
              "[5 rows x 12 columns]"
            ]
          },
          "metadata": {
            "tags": []
          },
          "execution_count": 8
        }
      ]
    },
    {
      "cell_type": "code",
      "metadata": {
        "colab_type": "code",
        "id": "pqHfMf6mJXh7",
        "colab": {}
      },
      "source": [
        "rating = df[FEATURE_COLUMN]\n",
        "reviews = df[REVIEW_COLUMN]"
      ],
      "execution_count": 0,
      "outputs": []
    },
    {
      "cell_type": "markdown",
      "metadata": {
        "colab_type": "text",
        "id": "EBQR0ZpoOiQk"
      },
      "source": [
        "## Preprocessing"
      ]
    },
    {
      "cell_type": "code",
      "metadata": {
        "colab_type": "code",
        "id": "lytdvF4neJ4r",
        "outputId": "9684e856-124f-44b2-e9e6-092d57533360",
        "colab": {
          "base_uri": "https://localhost:8080/",
          "height": 193
        }
      },
      "source": [
        "# one hot encode ratings\n",
        "print(rating.shape)\n",
        "print(type(rating))\n",
        "y = OneHotEncoder().fit_transform(rating.values.reshape(len(rating), 1)).toarray()\n",
        "y[:3]"
      ],
      "execution_count": 10,
      "outputs": [
        {
          "output_type": "stream",
          "text": [
            "(112043,)\n",
            "<class 'pandas.core.series.Series'>\n"
          ],
          "name": "stdout"
        },
        {
          "output_type": "stream",
          "text": [
            "/usr/local/lib/python3.6/dist-packages/sklearn/preprocessing/_encoders.py:415: FutureWarning: The handling of integer data will change in version 0.22. Currently, the categories are determined based on the range [0, max(values)], while in the future they will be determined based on the unique values.\n",
            "If you want the future behaviour and silence this warning, you can specify \"categories='auto'\".\n",
            "In case you used a LabelEncoder before this OneHotEncoder to convert the categories to integers, then you can now use the OneHotEncoder directly.\n",
            "  warnings.warn(msg, FutureWarning)\n"
          ],
          "name": "stderr"
        },
        {
          "output_type": "execute_result",
          "data": {
            "text/plain": [
              "array([[0., 0., 0., 0., 1.],\n",
              "       [0., 0., 0., 0., 1.],\n",
              "       [0., 0., 0., 0., 1.]])"
            ]
          },
          "metadata": {
            "tags": []
          },
          "execution_count": 10
        }
      ]
    },
    {
      "cell_type": "code",
      "metadata": {
        "colab_type": "code",
        "id": "8sdvF7lKPRfD",
        "colab": {}
      },
      "source": [
        "reviews_train, reviews_test, y_train, y_test = train_test_split(reviews, y, random_state=1)"
      ],
      "execution_count": 0,
      "outputs": []
    },
    {
      "cell_type": "code",
      "metadata": {
        "colab_type": "code",
        "id": "i0mwVXPjOpi5",
        "colab": {}
      },
      "source": [
        "from keras.preprocessing.text import Tokenizer\n",
        "from keras.preprocessing import sequence\n",
        "from sklearn.preprocessing import LabelEncoder\n",
        "\n",
        "t = Tokenizer()\n",
        "# fit the tokenizer on the documents\n",
        "t.fit_on_texts(reviews_train)"
      ],
      "execution_count": 0,
      "outputs": []
    },
    {
      "cell_type": "code",
      "metadata": {
        "colab_type": "code",
        "id": "Ou3A0O2aOwcb",
        "colab": {}
      },
      "source": [
        "train_sequences = t.texts_to_sequences(reviews_train)"
      ],
      "execution_count": 0,
      "outputs": []
    },
    {
      "cell_type": "code",
      "metadata": {
        "colab_type": "code",
        "id": "Xx9whgnmPXkC",
        "colab": {}
      },
      "source": [
        "test_sequences = t.texts_to_sequences(reviews_test)"
      ],
      "execution_count": 0,
      "outputs": []
    },
    {
      "cell_type": "code",
      "metadata": {
        "colab_type": "code",
        "id": "bt_xMQApPd_f",
        "outputId": "1454be69-a143-42f6-cb53-81f3ec48c633",
        "colab": {
          "base_uri": "https://localhost:8080/",
          "height": 52
        }
      },
      "source": [
        "print(\"Vocabulary size={}\".format(len(t.word_counts)))\n",
        "print(\"Number of Documents={}\".format(t.document_count))"
      ],
      "execution_count": 15,
      "outputs": [
        {
          "output_type": "stream",
          "text": [
            "Vocabulary size=40788\n",
            "Number of Documents=84032\n"
          ],
          "name": "stdout"
        }
      ]
    },
    {
      "cell_type": "markdown",
      "metadata": {
        "colab_type": "text",
        "id": "vyaOznruPjq-"
      },
      "source": [
        "### Sequence Normalization\n",
        "\n",
        "Figure out max length of review and pad the rest so they are all the same length"
      ]
    },
    {
      "cell_type": "code",
      "metadata": {
        "colab_type": "code",
        "id": "HbmXj-JuPvCT",
        "outputId": "efd83371-2efb-4361-e936-a1550733a947",
        "colab": {
          "base_uri": "https://localhost:8080/",
          "height": 35
        }
      },
      "source": [
        "df[\"review_length\"] = df.review_body.apply(lambda x: len(x.split()))\n",
        "df.review_length.max()"
      ],
      "execution_count": 16,
      "outputs": [
        {
          "output_type": "execute_result",
          "data": {
            "text/plain": [
              "2864"
            ]
          },
          "metadata": {
            "tags": []
          },
          "execution_count": 16
        }
      ]
    },
    {
      "cell_type": "code",
      "metadata": {
        "colab_type": "code",
        "id": "tR3hDNoCQnvR",
        "outputId": "b9d79936-fc86-45fa-d895-09da9d87566c",
        "colab": {
          "base_uri": "https://localhost:8080/",
          "height": 294
        }
      },
      "source": [
        "df.describe()"
      ],
      "execution_count": 17,
      "outputs": [
        {
          "output_type": "execute_result",
          "data": {
            "text/html": [
              "<div>\n",
              "<style scoped>\n",
              "    .dataframe tbody tr th:only-of-type {\n",
              "        vertical-align: middle;\n",
              "    }\n",
              "\n",
              "    .dataframe tbody tr th {\n",
              "        vertical-align: top;\n",
              "    }\n",
              "\n",
              "    .dataframe thead th {\n",
              "        text-align: right;\n",
              "    }\n",
              "</style>\n",
              "<table border=\"1\" class=\"dataframe\">\n",
              "  <thead>\n",
              "    <tr style=\"text-align: right;\">\n",
              "      <th></th>\n",
              "      <th>customer_id</th>\n",
              "      <th>product_parent</th>\n",
              "      <th>star_rating</th>\n",
              "      <th>helpful_votes</th>\n",
              "      <th>total_votes</th>\n",
              "      <th>review_length</th>\n",
              "    </tr>\n",
              "  </thead>\n",
              "  <tbody>\n",
              "    <tr>\n",
              "      <th>count</th>\n",
              "      <td>1.120430e+05</td>\n",
              "      <td>1.120430e+05</td>\n",
              "      <td>112043.000000</td>\n",
              "      <td>112043.000000</td>\n",
              "      <td>112043.000000</td>\n",
              "      <td>112043.000000</td>\n",
              "    </tr>\n",
              "    <tr>\n",
              "      <th>mean</th>\n",
              "      <td>2.547598e+07</td>\n",
              "      <td>4.994998e+08</td>\n",
              "      <td>3.889078</td>\n",
              "      <td>0.912435</td>\n",
              "      <td>1.189704</td>\n",
              "      <td>26.322965</td>\n",
              "    </tr>\n",
              "    <tr>\n",
              "      <th>std</th>\n",
              "      <td>1.582173e+07</td>\n",
              "      <td>2.879968e+08</td>\n",
              "      <td>1.463196</td>\n",
              "      <td>10.304687</td>\n",
              "      <td>11.167197</td>\n",
              "      <td>47.248166</td>\n",
              "    </tr>\n",
              "    <tr>\n",
              "      <th>min</th>\n",
              "      <td>1.014100e+04</td>\n",
              "      <td>1.365700e+04</td>\n",
              "      <td>1.000000</td>\n",
              "      <td>0.000000</td>\n",
              "      <td>0.000000</td>\n",
              "      <td>1.000000</td>\n",
              "    </tr>\n",
              "    <tr>\n",
              "      <th>25%</th>\n",
              "      <td>1.231110e+07</td>\n",
              "      <td>2.493906e+08</td>\n",
              "      <td>3.000000</td>\n",
              "      <td>0.000000</td>\n",
              "      <td>0.000000</td>\n",
              "      <td>8.000000</td>\n",
              "    </tr>\n",
              "    <tr>\n",
              "      <th>50%</th>\n",
              "      <td>2.344848e+07</td>\n",
              "      <td>4.990693e+08</td>\n",
              "      <td>5.000000</td>\n",
              "      <td>0.000000</td>\n",
              "      <td>0.000000</td>\n",
              "      <td>15.000000</td>\n",
              "    </tr>\n",
              "    <tr>\n",
              "      <th>75%</th>\n",
              "      <td>4.040851e+07</td>\n",
              "      <td>7.481358e+08</td>\n",
              "      <td>5.000000</td>\n",
              "      <td>0.000000</td>\n",
              "      <td>1.000000</td>\n",
              "      <td>29.000000</td>\n",
              "    </tr>\n",
              "    <tr>\n",
              "      <th>max</th>\n",
              "      <td>5.309655e+07</td>\n",
              "      <td>9.999930e+08</td>\n",
              "      <td>5.000000</td>\n",
              "      <td>1447.000000</td>\n",
              "      <td>1524.000000</td>\n",
              "      <td>2864.000000</td>\n",
              "    </tr>\n",
              "  </tbody>\n",
              "</table>\n",
              "</div>"
            ],
            "text/plain": [
              "        customer_id  product_parent  ...    total_votes  review_length\n",
              "count  1.120430e+05    1.120430e+05  ...  112043.000000  112043.000000\n",
              "mean   2.547598e+07    4.994998e+08  ...       1.189704      26.322965\n",
              "std    1.582173e+07    2.879968e+08  ...      11.167197      47.248166\n",
              "min    1.014100e+04    1.365700e+04  ...       0.000000       1.000000\n",
              "25%    1.231110e+07    2.493906e+08  ...       0.000000       8.000000\n",
              "50%    2.344848e+07    4.990693e+08  ...       0.000000      15.000000\n",
              "75%    4.040851e+07    7.481358e+08  ...       1.000000      29.000000\n",
              "max    5.309655e+07    9.999930e+08  ...    1524.000000    2864.000000\n",
              "\n",
              "[8 rows x 6 columns]"
            ]
          },
          "metadata": {
            "tags": []
          },
          "execution_count": 17
        }
      ]
    },
    {
      "cell_type": "markdown",
      "metadata": {
        "colab_type": "text",
        "id": "FzomQClub7Qo"
      },
      "source": [
        "Looks like 99% of our reviews have 186 words or less. If we keep our sequence length to around 64 words, this should allow us to keep most of our content\n",
        "\n",
        "NOTE: no need to do encoding for our star_ratings since this is already in a number format"
      ]
    },
    {
      "cell_type": "code",
      "metadata": {
        "colab_type": "code",
        "id": "JnBz2oaMa_uq",
        "outputId": "b22df32b-2209-44dd-cf74-4b3833cb8092",
        "colab": {
          "base_uri": "https://localhost:8080/",
          "height": 35
        }
      },
      "source": [
        "MAX_SEQUENCE_LENGTH = int(df.review_length.quantile([0.99]).values[0])\n",
        "MAX_SEQUENCE_LENGTH"
      ],
      "execution_count": 18,
      "outputs": [
        {
          "output_type": "execute_result",
          "data": {
            "text/plain": [
              "186"
            ]
          },
          "metadata": {
            "tags": []
          },
          "execution_count": 18
        }
      ]
    },
    {
      "cell_type": "code",
      "metadata": {
        "colab_type": "code",
        "id": "W9HZDo9Lbna9",
        "colab": {}
      },
      "source": [
        "# pad dataset to a maximum review length in words\n",
        "X_train = sequence.pad_sequences(train_sequences, maxlen=MAX_SEQUENCE_LENGTH)\n",
        "X_test = sequence.pad_sequences(test_sequences, maxlen=MAX_SEQUENCE_LENGTH)"
      ],
      "execution_count": 0,
      "outputs": []
    },
    {
      "cell_type": "code",
      "metadata": {
        "colab_type": "code",
        "id": "_yP1USpSJXh9",
        "outputId": "2f066943-8232-41a0-833b-485ca144b3e4",
        "colab": {
          "base_uri": "https://localhost:8080/",
          "height": 329
        }
      },
      "source": [
        "X_train[:1]"
      ],
      "execution_count": 20,
      "outputs": [
        {
          "output_type": "execute_result",
          "data": {
            "text/plain": [
              "array([[   0,    0,    0,    0,    0,    0,    0,    0,    0,    0,    0,\n",
              "           0,    0,    0,    0,    0,    0,    0,    0,    0,    0,    0,\n",
              "           0,    0,    0,    0,    0,    0,    0,    0,    0,    0,    0,\n",
              "           0,    0,    0,    0,    0,    0,    0,    0,    0,    0,    0,\n",
              "           0,    0,    0,    0,    0,    0,    0,    0,    0,    0,    0,\n",
              "           0,    0,    0,    0,    0,    0,    0,    0,    0,    0,    0,\n",
              "           0,    0,    0,    0,    0,    0,    0,    0,    0,    0,    0,\n",
              "           0,    0,    0,    0,    0,    0,    0,    0,    0,    0,    0,\n",
              "           0,    0,    0,    0,    0,    0,    0,    0,    0,    0,    0,\n",
              "           0,    0,    0,    0,    0,    0,    0,    0,    0,    0,    0,\n",
              "           0,    0,    0,    0,    0,    0,    0,    0,    0,    0,    0,\n",
              "           0,    0,    0,    0,    0,    0,    0,    0,    0,    0,    0,\n",
              "           0,    0,    0,    0,    0,    0,    0,    0,    0,    0,    0,\n",
              "           0,    0,    0,    0,    0,    0,    0,    0,    0,    0,    0,\n",
              "           0,    0,    0,    0,    0,   20,   24,   16,   11,    1,   21,\n",
              "        2629,  398,  710,   67,  341,   30, 2290,  153,  140,   13,    1,\n",
              "          28,  186,  396,   20,   16,   93,  370, 1346,  408,  992]],\n",
              "      dtype=int32)"
            ]
          },
          "metadata": {
            "tags": []
          },
          "execution_count": 20
        }
      ]
    },
    {
      "cell_type": "code",
      "metadata": {
        "colab_type": "code",
        "id": "lvkxqTmcJXiA",
        "outputId": "56ce572c-1f59-4460-b66e-d1c8056aaef1",
        "colab": {
          "base_uri": "https://localhost:8080/",
          "height": 121
        }
      },
      "source": [
        "# this is our star rating column\n",
        "rating.head()"
      ],
      "execution_count": 21,
      "outputs": [
        {
          "output_type": "execute_result",
          "data": {
            "text/plain": [
              "0    5\n",
              "1    5\n",
              "2    5\n",
              "3    5\n",
              "4    3\n",
              "Name: star_rating, dtype: int64"
            ]
          },
          "metadata": {
            "tags": []
          },
          "execution_count": 21
        }
      ]
    },
    {
      "cell_type": "markdown",
      "metadata": {
        "id": "qd8t1zSvBzgh",
        "colab_type": "text"
      },
      "source": [
        "# Building Our GRU Model"
      ]
    },
    {
      "cell_type": "code",
      "metadata": {
        "colab_type": "code",
        "id": "LxDcAouddq88",
        "colab": {}
      },
      "source": [
        "MODEL_NAME = \"GRU_1layer\"\n",
        "EMBED_SIZE = 300\n",
        "EPOCHS  = 50\n",
        "BATCH_SIZE = 128\n",
        "VOCAB_SIZE = len(t.word_counts)+1\n",
        "GRU_DIM = 64 # total LSTM units\n",
        "\n"
      ],
      "execution_count": 0,
      "outputs": []
    },
    {
      "cell_type": "code",
      "metadata": {
        "colab_type": "code",
        "id": "653DtCuBJXiF",
        "outputId": "1f4b5edf-5a08-4d08-c9a8-b9f25fda0e7b",
        "colab": {
          "base_uri": "https://localhost:8080/",
          "height": 315
        }
      },
      "source": [
        "model = Sequential()\n",
        "model.add(Embedding(VOCAB_SIZE, EMBED_SIZE, input_length=MAX_SEQUENCE_LENGTH))\n",
        "model.add(SpatialDropout1D(0.2))\n",
        "model.add(GRU(units=250, activation='tanh', use_bias=True, dropout=0.2, recurrent_dropout=0.2))\n",
        "model.add(Dense(250, activation='relu'))\n",
        "model.add(Dense(5, activation='softmax'))\n",
        "model.compile(loss='categorical_crossentropy', optimizer='adam', metrics=['accuracy'])\n"
      ],
      "execution_count": 23,
      "outputs": [
        {
          "output_type": "stream",
          "text": [
            "WARNING: Logging before flag parsing goes to stderr.\n",
            "W0723 05:45:14.811837 140595169429376 deprecation_wrapper.py:119] From /usr/local/lib/python3.6/dist-packages/keras/backend/tensorflow_backend.py:74: The name tf.get_default_graph is deprecated. Please use tf.compat.v1.get_default_graph instead.\n",
            "\n",
            "W0723 05:45:14.818269 140595169429376 deprecation_wrapper.py:119] From /usr/local/lib/python3.6/dist-packages/keras/backend/tensorflow_backend.py:517: The name tf.placeholder is deprecated. Please use tf.compat.v1.placeholder instead.\n",
            "\n",
            "W0723 05:45:14.823760 140595169429376 deprecation_wrapper.py:119] From /usr/local/lib/python3.6/dist-packages/keras/backend/tensorflow_backend.py:4138: The name tf.random_uniform is deprecated. Please use tf.random.uniform instead.\n",
            "\n",
            "W0723 05:45:14.852556 140595169429376 deprecation_wrapper.py:119] From /usr/local/lib/python3.6/dist-packages/keras/backend/tensorflow_backend.py:133: The name tf.placeholder_with_default is deprecated. Please use tf.compat.v1.placeholder_with_default instead.\n",
            "\n",
            "W0723 05:45:14.866267 140595169429376 deprecation.py:506] From /usr/local/lib/python3.6/dist-packages/keras/backend/tensorflow_backend.py:3445: calling dropout (from tensorflow.python.ops.nn_ops) with keep_prob is deprecated and will be removed in a future version.\n",
            "Instructions for updating:\n",
            "Please use `rate` instead of `keep_prob`. Rate should be set to `rate = 1 - keep_prob`.\n",
            "W0723 05:45:15.374569 140595169429376 deprecation_wrapper.py:119] From /usr/local/lib/python3.6/dist-packages/keras/optimizers.py:790: The name tf.train.Optimizer is deprecated. Please use tf.compat.v1.train.Optimizer instead.\n",
            "\n",
            "W0723 05:45:15.404663 140595169429376 deprecation_wrapper.py:119] From /usr/local/lib/python3.6/dist-packages/keras/backend/tensorflow_backend.py:3295: The name tf.log is deprecated. Please use tf.math.log instead.\n",
            "\n"
          ],
          "name": "stderr"
        }
      ]
    },
    {
      "cell_type": "code",
      "metadata": {
        "colab_type": "code",
        "id": "iZitdxXPJXiI",
        "outputId": "ae4e45f3-1c89-4289-a13f-0cdae3655be1",
        "colab": {
          "base_uri": "https://localhost:8080/",
          "height": 329
        }
      },
      "source": [
        "print(model.summary())"
      ],
      "execution_count": 24,
      "outputs": [
        {
          "output_type": "stream",
          "text": [
            "_________________________________________________________________\n",
            "Layer (type)                 Output Shape              Param #   \n",
            "=================================================================\n",
            "embedding_1 (Embedding)      (None, 186, 300)          12236700  \n",
            "_________________________________________________________________\n",
            "spatial_dropout1d_1 (Spatial (None, 186, 300)          0         \n",
            "_________________________________________________________________\n",
            "gru_1 (GRU)                  (None, 250)               413250    \n",
            "_________________________________________________________________\n",
            "dense_1 (Dense)              (None, 250)               62750     \n",
            "_________________________________________________________________\n",
            "dense_2 (Dense)              (None, 5)                 1255      \n",
            "=================================================================\n",
            "Total params: 12,713,955\n",
            "Trainable params: 12,713,955\n",
            "Non-trainable params: 0\n",
            "_________________________________________________________________\n",
            "None\n"
          ],
          "name": "stdout"
        }
      ]
    },
    {
      "cell_type": "code",
      "metadata": {
        "colab_type": "code",
        "id": "RqLc7s0BJXiK",
        "outputId": "f06f328a-3423-44a1-8f14-0424ef596225",
        "colab": {
          "base_uri": "https://localhost:8080/",
          "height": 635
        }
      },
      "source": [
        "SVG(model_to_dot(model, show_shapes=True, show_layer_names=False, \n",
        "                 rankdir='TB').create(prog='dot', format='svg'))"
      ],
      "execution_count": 25,
      "outputs": [
        {
          "output_type": "execute_result",
          "data": {
            "text/plain": [
              "<IPython.core.display.SVG object>"
            ],
            "image/svg+xml": "<svg height=\"460pt\" viewBox=\"0.00 0.00 305.00 460.00\" width=\"305pt\" xmlns=\"http://www.w3.org/2000/svg\" xmlns:xlink=\"http://www.w3.org/1999/xlink\">\n<g class=\"graph\" id=\"graph0\" transform=\"scale(1 1) rotate(0) translate(4 456)\">\n<title>G</title>\n<polygon fill=\"#ffffff\" points=\"-4,4 -4,-456 301,-456 301,4 -4,4\" stroke=\"transparent\"/>\n<!-- 140592486932664 -->\n<g class=\"node\" id=\"node1\">\n<title>140592486932664</title>\n<polygon fill=\"none\" points=\"19,-332.5 19,-378.5 278,-378.5 278,-332.5 19,-332.5\" stroke=\"#000000\"/>\n<text fill=\"#000000\" font-family=\"Times,serif\" font-size=\"14.00\" text-anchor=\"middle\" x=\"61\" y=\"-351.8\">Embedding</text>\n<polyline fill=\"none\" points=\"103,-332.5 103,-378.5 \" stroke=\"#000000\"/>\n<text fill=\"#000000\" font-family=\"Times,serif\" font-size=\"14.00\" text-anchor=\"middle\" x=\"132\" y=\"-363.3\">input:</text>\n<polyline fill=\"none\" points=\"103,-355.5 161,-355.5 \" stroke=\"#000000\"/>\n<text fill=\"#000000\" font-family=\"Times,serif\" font-size=\"14.00\" text-anchor=\"middle\" x=\"132\" y=\"-340.3\">output:</text>\n<polyline fill=\"none\" points=\"161,-332.5 161,-378.5 \" stroke=\"#000000\"/>\n<text fill=\"#000000\" font-family=\"Times,serif\" font-size=\"14.00\" text-anchor=\"middle\" x=\"219.5\" y=\"-363.3\">(None, 186)</text>\n<polyline fill=\"none\" points=\"161,-355.5 278,-355.5 \" stroke=\"#000000\"/>\n<text fill=\"#000000\" font-family=\"Times,serif\" font-size=\"14.00\" text-anchor=\"middle\" x=\"219.5\" y=\"-340.3\">(None, 186, 300)</text>\n</g>\n<!-- 140592500768328 -->\n<g class=\"node\" id=\"node2\">\n<title>140592500768328</title>\n<polygon fill=\"none\" points=\"0,-249.5 0,-295.5 297,-295.5 297,-249.5 0,-249.5\" stroke=\"#000000\"/>\n<text fill=\"#000000\" font-family=\"Times,serif\" font-size=\"14.00\" text-anchor=\"middle\" x=\"61\" y=\"-268.8\">SpatialDropout1D</text>\n<polyline fill=\"none\" points=\"122,-249.5 122,-295.5 \" stroke=\"#000000\"/>\n<text fill=\"#000000\" font-family=\"Times,serif\" font-size=\"14.00\" text-anchor=\"middle\" x=\"151\" y=\"-280.3\">input:</text>\n<polyline fill=\"none\" points=\"122,-272.5 180,-272.5 \" stroke=\"#000000\"/>\n<text fill=\"#000000\" font-family=\"Times,serif\" font-size=\"14.00\" text-anchor=\"middle\" x=\"151\" y=\"-257.3\">output:</text>\n<polyline fill=\"none\" points=\"180,-249.5 180,-295.5 \" stroke=\"#000000\"/>\n<text fill=\"#000000\" font-family=\"Times,serif\" font-size=\"14.00\" text-anchor=\"middle\" x=\"238.5\" y=\"-280.3\">(None, 186, 300)</text>\n<polyline fill=\"none\" points=\"180,-272.5 297,-272.5 \" stroke=\"#000000\"/>\n<text fill=\"#000000\" font-family=\"Times,serif\" font-size=\"14.00\" text-anchor=\"middle\" x=\"238.5\" y=\"-257.3\">(None, 186, 300)</text>\n</g>\n<!-- 140592486932664&#45;&gt;140592500768328 -->\n<g class=\"edge\" id=\"edge2\">\n<title>140592486932664-&gt;140592500768328</title>\n<path d=\"M148.5,-332.3799C148.5,-324.1745 148.5,-314.7679 148.5,-305.8786\" fill=\"none\" stroke=\"#000000\"/>\n<polygon fill=\"#000000\" points=\"152.0001,-305.784 148.5,-295.784 145.0001,-305.784 152.0001,-305.784\" stroke=\"#000000\"/>\n</g>\n<!-- 140592486929968 -->\n<g class=\"node\" id=\"node3\">\n<title>140592486929968</title>\n<polygon fill=\"none\" points=\"37.5,-166.5 37.5,-212.5 259.5,-212.5 259.5,-166.5 37.5,-166.5\" stroke=\"#000000\"/>\n<text fill=\"#000000\" font-family=\"Times,serif\" font-size=\"14.00\" text-anchor=\"middle\" x=\"61\" y=\"-185.8\">GRU</text>\n<polyline fill=\"none\" points=\"84.5,-166.5 84.5,-212.5 \" stroke=\"#000000\"/>\n<text fill=\"#000000\" font-family=\"Times,serif\" font-size=\"14.00\" text-anchor=\"middle\" x=\"113.5\" y=\"-197.3\">input:</text>\n<polyline fill=\"none\" points=\"84.5,-189.5 142.5,-189.5 \" stroke=\"#000000\"/>\n<text fill=\"#000000\" font-family=\"Times,serif\" font-size=\"14.00\" text-anchor=\"middle\" x=\"113.5\" y=\"-174.3\">output:</text>\n<polyline fill=\"none\" points=\"142.5,-166.5 142.5,-212.5 \" stroke=\"#000000\"/>\n<text fill=\"#000000\" font-family=\"Times,serif\" font-size=\"14.00\" text-anchor=\"middle\" x=\"201\" y=\"-197.3\">(None, 186, 300)</text>\n<polyline fill=\"none\" points=\"142.5,-189.5 259.5,-189.5 \" stroke=\"#000000\"/>\n<text fill=\"#000000\" font-family=\"Times,serif\" font-size=\"14.00\" text-anchor=\"middle\" x=\"201\" y=\"-174.3\">(None, 250)</text>\n</g>\n<!-- 140592500768328&#45;&gt;140592486929968 -->\n<g class=\"edge\" id=\"edge3\">\n<title>140592500768328-&gt;140592486929968</title>\n<path d=\"M148.5,-249.3799C148.5,-241.1745 148.5,-231.7679 148.5,-222.8786\" fill=\"none\" stroke=\"#000000\"/>\n<polygon fill=\"#000000\" points=\"152.0001,-222.784 148.5,-212.784 145.0001,-222.784 152.0001,-222.784\" stroke=\"#000000\"/>\n</g>\n<!-- 140592486929296 -->\n<g class=\"node\" id=\"node4\">\n<title>140592486929296</title>\n<polygon fill=\"none\" points=\"50,-83.5 50,-129.5 247,-129.5 247,-83.5 50,-83.5\" stroke=\"#000000\"/>\n<text fill=\"#000000\" font-family=\"Times,serif\" font-size=\"14.00\" text-anchor=\"middle\" x=\"76\" y=\"-102.8\">Dense</text>\n<polyline fill=\"none\" points=\"102,-83.5 102,-129.5 \" stroke=\"#000000\"/>\n<text fill=\"#000000\" font-family=\"Times,serif\" font-size=\"14.00\" text-anchor=\"middle\" x=\"131\" y=\"-114.3\">input:</text>\n<polyline fill=\"none\" points=\"102,-106.5 160,-106.5 \" stroke=\"#000000\"/>\n<text fill=\"#000000\" font-family=\"Times,serif\" font-size=\"14.00\" text-anchor=\"middle\" x=\"131\" y=\"-91.3\">output:</text>\n<polyline fill=\"none\" points=\"160,-83.5 160,-129.5 \" stroke=\"#000000\"/>\n<text fill=\"#000000\" font-family=\"Times,serif\" font-size=\"14.00\" text-anchor=\"middle\" x=\"203.5\" y=\"-114.3\">(None, 250)</text>\n<polyline fill=\"none\" points=\"160,-106.5 247,-106.5 \" stroke=\"#000000\"/>\n<text fill=\"#000000\" font-family=\"Times,serif\" font-size=\"14.00\" text-anchor=\"middle\" x=\"203.5\" y=\"-91.3\">(None, 250)</text>\n</g>\n<!-- 140592486929968&#45;&gt;140592486929296 -->\n<g class=\"edge\" id=\"edge4\">\n<title>140592486929968-&gt;140592486929296</title>\n<path d=\"M148.5,-166.3799C148.5,-158.1745 148.5,-148.7679 148.5,-139.8786\" fill=\"none\" stroke=\"#000000\"/>\n<polygon fill=\"#000000\" points=\"152.0001,-139.784 148.5,-129.784 145.0001,-139.784 152.0001,-139.784\" stroke=\"#000000\"/>\n</g>\n<!-- 140592487041512 -->\n<g class=\"node\" id=\"node5\">\n<title>140592487041512</title>\n<polygon fill=\"none\" points=\"50,-.5 50,-46.5 247,-46.5 247,-.5 50,-.5\" stroke=\"#000000\"/>\n<text fill=\"#000000\" font-family=\"Times,serif\" font-size=\"14.00\" text-anchor=\"middle\" x=\"76\" y=\"-19.8\">Dense</text>\n<polyline fill=\"none\" points=\"102,-.5 102,-46.5 \" stroke=\"#000000\"/>\n<text fill=\"#000000\" font-family=\"Times,serif\" font-size=\"14.00\" text-anchor=\"middle\" x=\"131\" y=\"-31.3\">input:</text>\n<polyline fill=\"none\" points=\"102,-23.5 160,-23.5 \" stroke=\"#000000\"/>\n<text fill=\"#000000\" font-family=\"Times,serif\" font-size=\"14.00\" text-anchor=\"middle\" x=\"131\" y=\"-8.3\">output:</text>\n<polyline fill=\"none\" points=\"160,-.5 160,-46.5 \" stroke=\"#000000\"/>\n<text fill=\"#000000\" font-family=\"Times,serif\" font-size=\"14.00\" text-anchor=\"middle\" x=\"203.5\" y=\"-31.3\">(None, 250)</text>\n<polyline fill=\"none\" points=\"160,-23.5 247,-23.5 \" stroke=\"#000000\"/>\n<text fill=\"#000000\" font-family=\"Times,serif\" font-size=\"14.00\" text-anchor=\"middle\" x=\"203.5\" y=\"-8.3\">(None, 5)</text>\n</g>\n<!-- 140592486929296&#45;&gt;140592487041512 -->\n<g class=\"edge\" id=\"edge5\">\n<title>140592486929296-&gt;140592487041512</title>\n<path d=\"M148.5,-83.3799C148.5,-75.1745 148.5,-65.7679 148.5,-56.8786\" fill=\"none\" stroke=\"#000000\"/>\n<polygon fill=\"#000000\" points=\"152.0001,-56.784 148.5,-46.784 145.0001,-56.784 152.0001,-56.784\" stroke=\"#000000\"/>\n</g>\n<!-- 140593762930528 -->\n<g class=\"node\" id=\"node6\">\n<title>140593762930528</title>\n<polygon fill=\"none\" points=\"84,-415.5 84,-451.5 213,-451.5 213,-415.5 84,-415.5\" stroke=\"#000000\"/>\n<text fill=\"#000000\" font-family=\"Times,serif\" font-size=\"14.00\" text-anchor=\"middle\" x=\"148.5\" y=\"-429.8\">140593762930528</text>\n</g>\n<!-- 140593762930528&#45;&gt;140592486932664 -->\n<g class=\"edge\" id=\"edge1\">\n<title>140593762930528-&gt;140592486932664</title>\n<path d=\"M148.5,-415.4092C148.5,-407.4308 148.5,-397.795 148.5,-388.606\" fill=\"none\" stroke=\"#000000\"/>\n<polygon fill=\"#000000\" points=\"152.0001,-388.5333 148.5,-378.5333 145.0001,-388.5334 152.0001,-388.5333\" stroke=\"#000000\"/>\n</g>\n</g>\n</svg>"
          },
          "metadata": {
            "tags": []
          },
          "execution_count": 25
        }
      ]
    },
    {
      "cell_type": "code",
      "metadata": {
        "colab_type": "code",
        "id": "60eC_0fRJXiQ",
        "outputId": "8ba45c74-18be-408f-d219-f6c1db498283",
        "colab": {
          "base_uri": "https://localhost:8080/",
          "height": 263
        }
      },
      "source": [
        "early_stop = EarlyStopping(monitor='val_loss', patience=2, verbose=1)\n",
        "network_history = model.fit(X_train, y_train,\n",
        "                      batch_size=BATCH_SIZE,\n",
        "                      epochs=EPOCHS,\n",
        "                      verbose=1,\n",
        "                      validation_split=0.2,\n",
        "                      callbacks=[early_stop])"
      ],
      "execution_count": 26,
      "outputs": [
        {
          "output_type": "stream",
          "text": [
            "W0723 05:45:15.868380 140595169429376 deprecation.py:323] From /usr/local/lib/python3.6/dist-packages/tensorflow/python/ops/math_grad.py:1250: add_dispatch_support.<locals>.wrapper (from tensorflow.python.ops.array_ops) is deprecated and will be removed in a future version.\n",
            "Instructions for updating:\n",
            "Use tf.where in 2.0, which has the same broadcast rule as np.where\n"
          ],
          "name": "stderr"
        },
        {
          "output_type": "stream",
          "text": [
            "Train on 67225 samples, validate on 16807 samples\n",
            "Epoch 1/50\n",
            "67225/67225 [==============================] - 208s 3ms/step - loss: 0.9602 - acc: 0.6341 - val_loss: 0.8597 - val_acc: 0.6642\n",
            "Epoch 2/50\n",
            "67225/67225 [==============================] - 208s 3ms/step - loss: 0.7869 - acc: 0.6937 - val_loss: 0.8499 - val_acc: 0.6689\n",
            "Epoch 3/50\n",
            "67225/67225 [==============================] - 209s 3ms/step - loss: 0.6957 - acc: 0.7297 - val_loss: 0.8677 - val_acc: 0.6609\n",
            "Epoch 4/50\n",
            "67225/67225 [==============================] - 215s 3ms/step - loss: 0.6077 - acc: 0.7689 - val_loss: 0.9311 - val_acc: 0.6551\n",
            "Epoch 00004: early stopping\n"
          ],
          "name": "stdout"
        }
      ]
    },
    {
      "cell_type": "code",
      "metadata": {
        "colab_type": "code",
        "id": "2VHBrsPjJXiS",
        "outputId": "cd9a380c-9338-46bd-f28d-7e9a21d618d5",
        "colab": {
          "base_uri": "https://localhost:8080/",
          "height": 69
        }
      },
      "source": [
        "scores = model.evaluate(X_test, y_test, verbose=1)\n",
        "print(\"Accuracy: %.2f%%\" % (scores[1]*100))\n"
      ],
      "execution_count": 27,
      "outputs": [
        {
          "output_type": "stream",
          "text": [
            "28011/28011 [==============================] - 121s 4ms/step\n",
            "[0.9136747775970346, 0.664239048951441]\n",
            "Accuracy: 66.42%\n"
          ],
          "name": "stdout"
        }
      ]
    },
    {
      "cell_type": "code",
      "metadata": {
        "colab_type": "code",
        "id": "CsBholvaJXiU",
        "outputId": "c6655073-d310-440d-fc09-25e2b43bc414",
        "colab": {
          "base_uri": "https://localhost:8080/",
          "height": 565
        }
      },
      "source": [
        "import matplotlib.pyplot as plt\n",
        "%matplotlib inline\n",
        "\n",
        "def plot_history(network_history):\n",
        "    plt.figure()\n",
        "    plt.xlabel('Epochs')\n",
        "    plt.ylabel('Loss')\n",
        "    plt.plot(network_history.history['loss'])\n",
        "    plt.plot(network_history.history['val_loss'])\n",
        "    plt.legend(['Training', 'Validation'])\n",
        "\n",
        "    plt.figure()\n",
        "    plt.xlabel('Epochs')\n",
        "    plt.ylabel('Accuracy')\n",
        "    plt.plot(network_history.history['acc'])\n",
        "    plt.plot(network_history.history['val_acc'])\n",
        "    plt.legend(['Training', 'Validation'], loc='lower right')\n",
        "    plt.show()\n",
        "\n",
        "plot_history(network_history)"
      ],
      "execution_count": 29,
      "outputs": [
        {
          "output_type": "display_data",
          "data": {
            "image/png": "[encoded data removed]",
            "text/plain": [
              "<Figure size 432x288 with 1 Axes>"
            ]
          },
          "metadata": {
            "tags": []
          }
        },
        {
          "output_type": "display_data",
          "data": {
            "image/png": "[encoded data removed]",
            "text/plain": [
              "<Figure size 432x288 with 1 Axes>"
            ]
          },
          "metadata": {
            "tags": []
          }
        }
      ]
    },
    {
      "cell_type": "code",
      "metadata": {
        "colab_type": "code",
        "id": "PQjt_pC_JXiX",
        "colab": {}
      },
      "source": [
        "y_predict = model.predict(X_test)"
      ],
      "execution_count": 0,
      "outputs": []
    },
    {
      "cell_type": "code",
      "metadata": {
        "colab_type": "code",
        "id": "x76NhB9rJXia",
        "outputId": "2bb1d051-0614-49ef-ef81-eba26f3df4d6",
        "colab": {
          "base_uri": "https://localhost:8080/",
          "height": 202
        }
      },
      "source": [
        "y_predict_df = pd.DataFrame(y_predict)\n",
        "y_predict_df.head()"
      ],
      "execution_count": 31,
      "outputs": [
        {
          "output_type": "execute_result",
          "data": {
            "text/html": [
              "<div>\n",
              "<style scoped>\n",
              "    .dataframe tbody tr th:only-of-type {\n",
              "        vertical-align: middle;\n",
              "    }\n",
              "\n",
              "    .dataframe tbody tr th {\n",
              "        vertical-align: top;\n",
              "    }\n",
              "\n",
              "    .dataframe thead th {\n",
              "        text-align: right;\n",
              "    }\n",
              "</style>\n",
              "<table border=\"1\" class=\"dataframe\">\n",
              "  <thead>\n",
              "    <tr style=\"text-align: right;\">\n",
              "      <th></th>\n",
              "      <th>0</th>\n",
              "      <th>1</th>\n",
              "      <th>2</th>\n",
              "      <th>3</th>\n",
              "      <th>4</th>\n",
              "    </tr>\n",
              "  </thead>\n",
              "  <tbody>\n",
              "    <tr>\n",
              "      <th>0</th>\n",
              "      <td>0.000694</td>\n",
              "      <td>0.001182</td>\n",
              "      <td>0.017110</td>\n",
              "      <td>0.236517</td>\n",
              "      <td>0.744497</td>\n",
              "    </tr>\n",
              "    <tr>\n",
              "      <th>1</th>\n",
              "      <td>0.000790</td>\n",
              "      <td>0.002116</td>\n",
              "      <td>0.038810</td>\n",
              "      <td>0.317707</td>\n",
              "      <td>0.640577</td>\n",
              "    </tr>\n",
              "    <tr>\n",
              "      <th>2</th>\n",
              "      <td>0.002546</td>\n",
              "      <td>0.002690</td>\n",
              "      <td>0.014671</td>\n",
              "      <td>0.196162</td>\n",
              "      <td>0.783931</td>\n",
              "    </tr>\n",
              "    <tr>\n",
              "      <th>3</th>\n",
              "      <td>0.094496</td>\n",
              "      <td>0.370893</td>\n",
              "      <td>0.475446</td>\n",
              "      <td>0.019403</td>\n",
              "      <td>0.039761</td>\n",
              "    </tr>\n",
              "    <tr>\n",
              "      <th>4</th>\n",
              "      <td>0.000022</td>\n",
              "      <td>0.000033</td>\n",
              "      <td>0.002682</td>\n",
              "      <td>0.058761</td>\n",
              "      <td>0.938502</td>\n",
              "    </tr>\n",
              "  </tbody>\n",
              "</table>\n",
              "</div>"
            ],
            "text/plain": [
              "          0         1         2         3         4\n",
              "0  0.000694  0.001182  0.017110  0.236517  0.744497\n",
              "1  0.000790  0.002116  0.038810  0.317707  0.640577\n",
              "2  0.002546  0.002690  0.014671  0.196162  0.783931\n",
              "3  0.094496  0.370893  0.475446  0.019403  0.039761\n",
              "4  0.000022  0.000033  0.002682  0.058761  0.938502"
            ]
          },
          "metadata": {
            "tags": []
          },
          "execution_count": 31
        }
      ]
    },
    {
      "cell_type": "code",
      "metadata": {
        "colab_type": "code",
        "id": "woC_Rgk4JXid",
        "colab": {}
      },
      "source": [
        "y_predict_unencoded = [row.idxmax() + 1 for index, row in y_predict_df.iterrows()]"
      ],
      "execution_count": 0,
      "outputs": []
    },
    {
      "cell_type": "code",
      "metadata": {
        "colab_type": "code",
        "id": "P0xGW_dOJXie",
        "outputId": "424e7d33-e3c8-4252-f1f0-0c3ec723a66c",
        "colab": {
          "base_uri": "https://localhost:8080/",
          "height": 35
        }
      },
      "source": [
        "# unencode the predictions back into it's classes\n",
        "y_test_df = pd.DataFrame(y_test)\n",
        "y_test_unencoded = [row.idxmax() + 1 for index, row in y_test_df.iterrows()]\n",
        "y_test_unencoded[:3]"
      ],
      "execution_count": 33,
      "outputs": [
        {
          "output_type": "execute_result",
          "data": {
            "text/plain": [
              "[5, 5, 4]"
            ]
          },
          "metadata": {
            "tags": []
          },
          "execution_count": 33
        }
      ]
    },
    {
      "cell_type": "code",
      "metadata": {
        "colab_type": "code",
        "id": "QyaOAdhqJXih",
        "outputId": "7b7e9082-4731-4d3c-f69b-b92e95b0d41f",
        "colab": {
          "base_uri": "https://localhost:8080/",
          "height": 104
        }
      },
      "source": [
        "confusion_matrix(y_test_unencoded, y_predict_unencoded)"
      ],
      "execution_count": 34,
      "outputs": [
        {
          "output_type": "execute_result",
          "data": {
            "text/plain": [
              "array([[ 3009,   300,   380,    62,   217],\n",
              "       [  784,   266,   493,   126,   202],\n",
              "       [  430,   221,   931,   413,   536],\n",
              "       [  132,    91,   615,  1339,  2575],\n",
              "       [  206,    66,   425,  1131, 13061]])"
            ]
          },
          "metadata": {
            "tags": []
          },
          "execution_count": 34
        }
      ]
    },
    {
      "cell_type": "code",
      "metadata": {
        "colab_type": "code",
        "id": "6emER3oBJXil",
        "outputId": "5a93ae35-9485-42ae-9c73-810f85ab50bd",
        "colab": {
          "base_uri": "https://localhost:8080/",
          "height": 225
        }
      },
      "source": [
        "print(classification_report(y_test_unencoded, y_predict_unencoded))"
      ],
      "execution_count": 35,
      "outputs": [
        {
          "output_type": "stream",
          "text": [
            "              precision    recall  f1-score   support\n",
            "\n",
            "           1       0.66      0.76      0.71      3968\n",
            "           2       0.28      0.14      0.19      1871\n",
            "           3       0.33      0.37      0.35      2531\n",
            "           4       0.44      0.28      0.34      4752\n",
            "           5       0.79      0.88      0.83     14889\n",
            "\n",
            "    accuracy                           0.66     28011\n",
            "   macro avg       0.50      0.49      0.48     28011\n",
            "weighted avg       0.63      0.66      0.64     28011\n",
            "\n"
          ],
          "name": "stdout"
        }
      ]
    },
    {
      "cell_type": "code",
      "metadata": {
        "id": "elENX2OdLynt",
        "colab_type": "code",
        "colab": {}
      },
      "source": [
        "from sklearn.metrics import roc_curve, auc\n",
        "import numpy as np\n",
        "\n",
        "\n",
        "def calculate_roc_auc(y_test, y_score):\n",
        "  \"\"\"\n",
        "  Caculates the false positive rate, true positive rate, and roc_auc\n",
        "  Return:\n",
        "    roc_auc - dictinary of AUC values there will be 1 auc per class then a macro \n",
        "        and micro for the overall model\n",
        "        keys: auc_0 to auc_{n_classes} + micro and macro\n",
        "    fpr - dictionary of FPR, each value will be a n_classes x ? interpolated array \n",
        "        so you can plt ROC curve for each class\n",
        "        keys: 0 to {n_classes} + micro and macro\n",
        "    tpr - dictionary of TPR, each value will be a n_classes x ? interpolated array \n",
        "        so used to plt ROC curve for each class\n",
        "        keys: 0 to {n_classes} + micro and macro    \n",
        "  \"\"\"\n",
        "  n_classes = y_test.shape[1]\n",
        "  \n",
        "  # to compute the micro RUC/AUC, we need binariized labels (y_test) and probability of predictions y_predict_df\n",
        "\n",
        "  fpr = {}\n",
        "  tpr = {}\n",
        "  roc_auc = {}\n",
        "  for i in np.arange(0, 5):\n",
        "      fpr[i], tpr[i], _ = roc_curve(y_test[:, i], y_score[i].to_list())\n",
        "      roc_auc[f'auc_{i + 1}'] = auc(fpr[i], tpr[i])\n",
        "\n",
        "\n",
        "  # Compute micro-average ROC curve and ROC area\n",
        "  fpr[\"micro\"], tpr[\"micro\"], _ = roc_curve(y_test.ravel(), y_score.values.ravel())\n",
        "  roc_auc[\"auc_micro\"] = auc(fpr[\"micro\"], tpr[\"micro\"])\n",
        "\n",
        "\n",
        "  # Compute macro-average ROC curve and ROC area\n",
        "\n",
        "  # First aggregate all false positive rates\n",
        "  all_fpr = np.unique(np.concatenate([fpr[i] for i in range(n_classes)]))\n",
        "\n",
        "  # Then interpolate all ROC curves at this points\n",
        "  mean_tpr = np.zeros_like(all_fpr)\n",
        "  for i in range(n_classes):\n",
        "      mean_tpr += np.interp(all_fpr, fpr[i], tpr[i])\n",
        "\n",
        "  # Finally aveage it and compute AUC\n",
        "  mean_tpr /= n_classes\n",
        "\n",
        "  fpr[\"macro\"] = all_fpr\n",
        "  tpr[\"macro\"] = mean_tpr\n",
        "  roc_auc[\"auc_macro\"] = auc(fpr[\"macro\"], tpr[\"macro\"])\n",
        "\n",
        "  return roc_auc, fpr, tpr"
      ],
      "execution_count": 0,
      "outputs": []
    },
    {
      "cell_type": "code",
      "metadata": {
        "id": "55Z-si9qL4CL",
        "colab_type": "code",
        "colab": {}
      },
      "source": [
        "roc_auc, fpr, tpr = calculate_roc_auc(y_test, y_predict_df)"
      ],
      "execution_count": 0,
      "outputs": []
    },
    {
      "cell_type": "code",
      "metadata": {
        "colab_type": "code",
        "id": "J2xF1HQabEPq",
        "colab": {}
      },
      "source": [
        "\n",
        "def plot_roc_auc(model_name, roc_auc, fpr, tpr):\n",
        "  \n",
        "  for i in np.arange(0, len(fpr.keys()) - 2):\n",
        "    plt.plot(fpr[i], tpr[i], label=f'Rating {i+1}')\n",
        "  plt.plot(fpr[\"micro\"], tpr[\"micro\"], label=\"Micro Average ROC\", \n",
        "           linestyle=\":\", linewidth=4, color='pink')\n",
        "  plt.plot(fpr[\"macro\"], tpr[\"macro\"], label=\"Macro Average ROC\", \n",
        "           linestyle=\":\", linewidth=4, color='black')\n",
        "  plt.plot([0, 1], [0, 1], color='navy', linestyle='--')\n",
        "  \n",
        "  space = 0\n",
        "  for i in np.arange(0, len(fpr.keys()) - 2):\n",
        "    plt.text(x=0, y=-0.25+space, \n",
        "      s=f'Rating {i + 1} AUC: {roc_auc[f\"auc_{i + 1}\"]}',\n",
        "      withdash=True)\n",
        "    space -= 0.05\n",
        "  plt.text(x=0, y=-0.25+space, \n",
        "    s=f'Micro AUC: {roc_auc[\"auc_micro\"]}',\n",
        "    withdash=True)\n",
        "  space -= 0.05\n",
        "  plt.text(x=0, y=-0.25+space, \n",
        "    s=f'Macro AUC: {roc_auc[\"auc_macro\"]}',\n",
        "    withdash=True)\n",
        "  \n",
        "  plt.legend(loc='lower right')\n",
        "  plt.xlabel('FPR')\n",
        "  plt.ylabel('TPR')\n",
        "  plt.title(f'{model_name} ROC AUC')\n",
        "  \n"
      ],
      "execution_count": 0,
      "outputs": []
    },
    {
      "cell_type": "code",
      "metadata": {
        "colab_type": "code",
        "id": "H12pYFCj1Hbn",
        "outputId": "4e5504ab-c546-471c-8211-82d0d4dd4664",
        "colab": {
          "base_uri": "https://localhost:8080/",
          "height": 445
        }
      },
      "source": [
        "fig = plt.figure(figsize=(5,5))\n",
        "plot_roc_auc(MODEL_NAME, roc_auc, fpr, tpr)"
      ],
      "execution_count": 39,
      "outputs": [
        {
          "output_type": "display_data",
          "data": {
            "image/png": "[encoded data removed]",
            "text/plain": [
              "<Figure size 360x360 with 1 Axes>"
            ]
          },
          "metadata": {
            "tags": []
          }
        }
      ]
    },
    {
      "cell_type": "markdown",
      "metadata": {
        "colab_type": "text",
        "id": "VQ4GRUTq6t6e"
      },
      "source": [
        "**Save off various files**"
      ]
    },
    {
      "cell_type": "code",
      "metadata": {
        "colab_type": "code",
        "id": "VjW8V1MR61kJ",
        "colab": {}
      },
      "source": [
        "directory, INBASENAME = fu.get_dir_basename(DATA_FILE)\n",
        "DESCRIPTION = f\"{INBASENAME}-{MODEL_NAME}-{MAX_SEQUENCE_LENGTH}-{FEATURE_COLUMN}\"\n",
        "MODEL_FILE = f\"{DRIVE_DIR}/models/{datetime.now().strftime(DATE_FORMAT)}-{DESCRIPTION}.h5\"\n",
        "NETWORK_HISTORY_FILE = f'{DRIVE_DIR}/models/{datetime.now().strftime(DATE_FORMAT)}-{DESCRIPTION}-history.pkl'\n",
        "REPORT_FILE = f\"{DRIVE_DIR}/reports/{datetime.now().strftime(DATE_FORMAT)}-DNN_protype-report.csv\"\n",
        "TOKENIZER_FILE = f'{DRIVE_DIR}/models/{datetime.now().strftime(DATE_FORMAT)}-{DESCRIPTION}-tokenizer.pkl'\n"
      ],
      "execution_count": 0,
      "outputs": []
    },
    {
      "cell_type": "code",
      "metadata": {
        "colab_type": "code",
        "id": "GjVjezXPJXin",
        "colab": {}
      },
      "source": [
        "model.save(MODEL_FILE)"
      ],
      "execution_count": 0,
      "outputs": []
    },
    {
      "cell_type": "code",
      "metadata": {
        "colab_type": "code",
        "id": "Cad0ykC2JXip",
        "colab": {}
      },
      "source": [
        "pickle.dump(network_history, open(NETWORK_HISTORY_FILE, \"wb\"))"
      ],
      "execution_count": 0,
      "outputs": []
    },
    {
      "cell_type": "code",
      "metadata": {
        "colab_type": "code",
        "id": "yrGApZiwgRgR",
        "colab": {}
      },
      "source": [
        "pickle.dump(t, open(TOKENIZER_FILE, \"wb\"))"
      ],
      "execution_count": 0,
      "outputs": []
    },
    {
      "cell_type": "code",
      "metadata": {
        "colab_type": "code",
        "id": "oz4FzsvmJXit",
        "colab": {}
      },
      "source": [
        "# saving off report in the same format as other report just in case we want to compare for later\n",
        "flattened = {}\n",
        "flattened = du.add_dict_to_dict(flattened, classification_report(y_test_unencoded, y_predict_unencoded, output_dict=True))\n",
        "flattened = du.add_dict_to_dict(flattened, roc_auc)\n",
        "flattened[\"tpr\"] = tpr\n",
        "flattened[\"fpr\"] = fpr\n",
        "flattened[\"loss\"] = scores[0]\n",
        "flattened[\"accuracy\"] = scores[1]\n",
        "flattened[\"confusion_matrix\"] = confusion_matrix(y_test_unencoded, y_predict_unencoded)\n",
        "flattened[\"description\"] = DESCRIPTION\n",
        "flattened[\"file\"] = DATA_FILE\n",
        "flattened[\"network_history_file\"] = NETWORK_HISTORY_FILE\n",
        "flattened[\"tokenizer_file\"] = TOKENIZER_FILE\n",
        "flattened[\"max_sequence_length\"] = MAX_SEQUENCE_LENGTH\n",
        "flattened[\"embedding\"] = EMBED_SIZE\n",
        "flattened[\"model_file\"] = MODEL_FILE\n",
        "flattened[\"model_name\"] = MODEL_NAME\n",
        "flattened[\"test_examples\"] = X_test.shape[0]\n",
        "flattened[\"test_features\"] = X_test.shape[1]\n",
        "flattened[\"train_examples\"] = X_train.shape[0]\n",
        "flattened[\"train_features\"] = X_train.shape[1]\n",
        "flattened[\"status\"] = \"success\"\n",
        "flattened[\"status_date\"] = datetime.now().strftime(TIME_FORMAT)\n"
      ],
      "execution_count": 0,
      "outputs": []
    },
    {
      "cell_type": "code",
      "metadata": {
        "colab_type": "code",
        "id": "n_tWTK57JXiv",
        "outputId": "bacf1069-8ca3-4126-d306-8958d9ce02b7",
        "colab": {
          "base_uri": "https://localhost:8080/",
          "height": 169
        }
      },
      "source": [
        "# check to see if report file exisits, if so load it and append\n",
        "exists = os.path.isfile(REPORT_FILE)\n",
        "if exists:\n",
        "    report_df = pd.read_csv(REPORT_FILE)\n",
        "else:\n",
        "    report_df = pd.DataFrame()\n",
        "    \n",
        "report_df = report_df.append(flattened, ignore_index=True)\n",
        "report_df.head(20)\n",
        "\n"
      ],
      "execution_count": 45,
      "outputs": [
        {
          "output_type": "execute_result",
          "data": {
            "text/html": [
              "<div>\n",
              "<style scoped>\n",
              "    .dataframe tbody tr th:only-of-type {\n",
              "        vertical-align: middle;\n",
              "    }\n",
              "\n",
              "    .dataframe tbody tr th {\n",
              "        vertical-align: top;\n",
              "    }\n",
              "\n",
              "    .dataframe thead th {\n",
              "        text-align: right;\n",
              "    }\n",
              "</style>\n",
              "<table border=\"1\" class=\"dataframe\">\n",
              "  <thead>\n",
              "    <tr style=\"text-align: right;\">\n",
              "      <th></th>\n",
              "      <th>1_f1-score</th>\n",
              "      <th>1_precision</th>\n",
              "      <th>1_recall</th>\n",
              "      <th>1_support</th>\n",
              "      <th>2_f1-score</th>\n",
              "      <th>2_precision</th>\n",
              "      <th>2_recall</th>\n",
              "      <th>2_support</th>\n",
              "      <th>3_f1-score</th>\n",
              "      <th>3_precision</th>\n",
              "      <th>3_recall</th>\n",
              "      <th>3_support</th>\n",
              "      <th>4_f1-score</th>\n",
              "      <th>4_precision</th>\n",
              "      <th>4_recall</th>\n",
              "      <th>4_support</th>\n",
              "      <th>5_f1-score</th>\n",
              "      <th>5_precision</th>\n",
              "      <th>5_recall</th>\n",
              "      <th>5_support</th>\n",
              "      <th>accuracy</th>\n",
              "      <th>auc_1</th>\n",
              "      <th>auc_2</th>\n",
              "      <th>auc_3</th>\n",
              "      <th>auc_4</th>\n",
              "      <th>auc_5</th>\n",
              "      <th>auc_macro</th>\n",
              "      <th>auc_micro</th>\n",
              "      <th>confusion_matrix</th>\n",
              "      <th>description</th>\n",
              "      <th>embedding</th>\n",
              "      <th>file</th>\n",
              "      <th>fpr</th>\n",
              "      <th>loss</th>\n",
              "      <th>macro avg_f1-score</th>\n",
              "      <th>macro avg_precision</th>\n",
              "      <th>macro avg_recall</th>\n",
              "      <th>macro avg_support</th>\n",
              "      <th>max_sequence_length</th>\n",
              "      <th>model_file</th>\n",
              "      <th>model_name</th>\n",
              "      <th>network_history_file</th>\n",
              "      <th>status</th>\n",
              "      <th>status_date</th>\n",
              "      <th>test_examples</th>\n",
              "      <th>test_features</th>\n",
              "      <th>tokenizer_file</th>\n",
              "      <th>tpr</th>\n",
              "      <th>train_examples</th>\n",
              "      <th>train_features</th>\n",
              "      <th>weighted avg_f1-score</th>\n",
              "      <th>weighted avg_precision</th>\n",
              "      <th>weighted avg_recall</th>\n",
              "      <th>weighted avg_support</th>\n",
              "    </tr>\n",
              "  </thead>\n",
              "  <tbody>\n",
              "    <tr>\n",
              "      <th>0</th>\n",
              "      <td>0.705593</td>\n",
              "      <td>0.659724</td>\n",
              "      <td>0.758317</td>\n",
              "      <td>3968.0</td>\n",
              "      <td>0.188988</td>\n",
              "      <td>0.28178</td>\n",
              "      <td>0.14217</td>\n",
              "      <td>1871.0</td>\n",
              "      <td>0.346419</td>\n",
              "      <td>0.327356</td>\n",
              "      <td>0.367839</td>\n",
              "      <td>2531.0</td>\n",
              "      <td>0.342324</td>\n",
              "      <td>0.436014</td>\n",
              "      <td>0.281776</td>\n",
              "      <td>4752.0</td>\n",
              "      <td>0.829797</td>\n",
              "      <td>0.787234</td>\n",
              "      <td>0.877225</td>\n",
              "      <td>14889.0</td>\n",
              "      <td>0.664239</td>\n",
              "      <td>0.948508</td>\n",
              "      <td>0.853672</td>\n",
              "      <td>0.81488</td>\n",
              "      <td>0.741322</td>\n",
              "      <td>0.881056</td>\n",
              "      <td>0.847909</td>\n",
              "      <td>0.904417</td>\n",
              "      <td>[[3009, 300, 380, 62, 217], [784, 266, 493, 12...</td>\n",
              "      <td>amazon_reviews_us_Wireless_v1_00-preprocessed-...</td>\n",
              "      <td>300.0</td>\n",
              "      <td>drive/My Drive/Springboard/capstone/data/amazo...</td>\n",
              "      <td>{0: [0.0, 0.0, 0.0, 4.159214740257039e-05, 4.1...</td>\n",
              "      <td>0.913675</td>\n",
              "      <td>0.482624</td>\n",
              "      <td>0.498422</td>\n",
              "      <td>0.485465</td>\n",
              "      <td>28011.0</td>\n",
              "      <td>186.0</td>\n",
              "      <td>drive/My Drive/Springboard/capstone/models/201...</td>\n",
              "      <td>GRU_1layer</td>\n",
              "      <td>drive/My Drive/Springboard/capstone/models/201...</td>\n",
              "      <td>success</td>\n",
              "      <td>2019-07-23 06:06:57</td>\n",
              "      <td>28011.0</td>\n",
              "      <td>186.0</td>\n",
              "      <td>drive/My Drive/Springboard/capstone/models/201...</td>\n",
              "      <td>{0: [0.0, 0.00025201612903225806, 0.0005040322...</td>\n",
              "      <td>84032.0</td>\n",
              "      <td>186.0</td>\n",
              "      <td>0.643024</td>\n",
              "      <td>0.634272</td>\n",
              "      <td>0.664239</td>\n",
              "      <td>28011.0</td>\n",
              "    </tr>\n",
              "  </tbody>\n",
              "</table>\n",
              "</div>"
            ],
            "text/plain": [
              "   1_f1-score  1_precision  ...  weighted avg_recall  weighted avg_support\n",
              "0    0.705593     0.659724  ...             0.664239               28011.0\n",
              "\n",
              "[1 rows x 54 columns]"
            ]
          },
          "metadata": {
            "tags": []
          },
          "execution_count": 45
        }
      ]
    },
    {
      "cell_type": "code",
      "metadata": {
        "colab_type": "code",
        "id": "w0FY2QZvJXiw",
        "colab": {}
      },
      "source": [
        "report_df.to_csv(REPORT_FILE, index=False)"
      ],
      "execution_count": 0,
      "outputs": []
    },
    {
      "cell_type": "code",
      "metadata": {
        "colab_type": "code",
        "id": "96A-A5CBJXiy",
        "colab": {}
      },
      "source": [
        ""
      ],
      "execution_count": 0,
      "outputs": []
    },
    {
      "cell_type": "code",
      "metadata": {
        "colab_type": "code",
        "id": "Q3brst7TTblA",
        "colab": {}
      },
      "source": [
        ""
      ],
      "execution_count": 0,
      "outputs": []
    }
  ]
}