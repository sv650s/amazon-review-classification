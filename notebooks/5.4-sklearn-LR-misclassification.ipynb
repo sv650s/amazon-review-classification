{
 "cells": [
  {
   "cell_type": "markdown",
   "metadata": {},
   "source": [
    "# SKLearn Predict Analysis\n",
    "\n",
    "I've loaded our LR model that uses 500k samples so that we can feed text into our LR model and compare results with LSTM\n",
    "\n",
    "\n"
   ]
  },
  {
   "cell_type": "code",
   "execution_count": 111,
   "metadata": {},
   "outputs": [],
   "source": [
    "import os\n",
    "import sys\n",
    "module_path = os.path.abspath(os.path.join('..'))\n",
    "if module_path not in sys.path:\n",
    "    sys.path.append(module_path)\n",
    "\n",
    "\n",
    "import pandas as pd\n",
    "import numpy as np\n",
    "\n",
    "from nltk import WordPunctTokenizer\n",
    "from sklearn.feature_extraction.text import CountVectorizer, TfidfVectorizer\n",
    "from sklearn.linear_model import LogisticRegression\n",
    "from sklearn.model_selection import train_test_split\n",
    "from sklearn.externals import joblib\n",
    "from sklearn.metrics import classification_report, confusion_matrix\n",
    "import util.text_util as tu\n",
    "\n",
    "\n",
    "model_filename = '../models/review_body-tfidf-df_none-ngram13-497835-4000-nolda-sampling_none-LRB-star_rating.jbl'\n",
    "data_file_prerocessed = '../dataset/feature_files/review_body-tfidf-df_none-ngram13-497835-4000-nolda.csv'\n",
    "data_file = '../dataset/amazon_reviews/amazon_reviews_us_Wireless_v1_00-2m-preprocessed.csv'\n",
    "\n",
    "\n",
    "LABEL_COLUMN = 'star_rating'\n",
    "FEATURE_COLUMN = 'review_body'\n",
    "DROP_COLUMNS = ['helpful_votes', 'total_votes', 'helpful_product']\n",
    "RSTATE = 1\n",
    "MAX_FEATURES = 4000\n",
    "\n",
    "\n",
    "STOP_WORDS_TO_REMOVE=[\n",
    "    'no',\n",
    "    'not',\n",
    "    'do',\n",
    "    'don',\n",
    "    \"don't\",\n",
    "    'does',\n",
    "    'did',\n",
    "    'does',\n",
    "    'doesn',\n",
    "    \"doesn't\",\n",
    "    'should',\n",
    "    'very',\n",
    "    'will'\n",
    "    ]\n",
    "\n",
    "\n",
    "# remove these from NLTK stop words\n",
    "tu.remove_stop_words_from_list(STOP_WORDS_TO_REMOVE)\n"
   ]
  },
  {
   "cell_type": "code",
   "execution_count": 35,
   "metadata": {},
   "outputs": [],
   "source": [
    "data = pd.read_csv(data_file)"
   ]
  },
  {
   "cell_type": "markdown",
   "metadata": {},
   "source": [
    "Looks like we have some reviews with 0 length"
   ]
  },
  {
   "cell_type": "code",
   "execution_count": 37,
   "metadata": {},
   "outputs": [
    {
     "data": {
      "text/html": [
       "<div>\n",
       "<style scoped>\n",
       "    .dataframe tbody tr th:only-of-type {\n",
       "        vertical-align: middle;\n",
       "    }\n",
       "\n",
       "    .dataframe tbody tr th {\n",
       "        vertical-align: top;\n",
       "    }\n",
       "\n",
       "    .dataframe thead th {\n",
       "        text-align: right;\n",
       "    }\n",
       "</style>\n",
       "<table border=\"1\" class=\"dataframe\">\n",
       "  <thead>\n",
       "    <tr style=\"text-align: right;\">\n",
       "      <th></th>\n",
       "      <th>Unnamed: 0</th>\n",
       "      <th>star_rating</th>\n",
       "      <th>helpful_votes</th>\n",
       "      <th>total_votes</th>\n",
       "      <th>reviews_wc</th>\n",
       "    </tr>\n",
       "  </thead>\n",
       "  <tbody>\n",
       "    <tr>\n",
       "      <th>count</th>\n",
       "      <td>2.000000e+06</td>\n",
       "      <td>2.000000e+06</td>\n",
       "      <td>2.000000e+06</td>\n",
       "      <td>2.000000e+06</td>\n",
       "      <td>2.000000e+06</td>\n",
       "    </tr>\n",
       "    <tr>\n",
       "      <th>mean</th>\n",
       "      <td>4.479400e+06</td>\n",
       "      <td>3.891887e+00</td>\n",
       "      <td>8.867985e-01</td>\n",
       "      <td>1.153611e+00</td>\n",
       "      <td>2.591794e+01</td>\n",
       "    </tr>\n",
       "    <tr>\n",
       "      <th>std</th>\n",
       "      <td>2.588526e+06</td>\n",
       "      <td>1.463923e+00</td>\n",
       "      <td>1.125330e+01</td>\n",
       "      <td>1.203111e+01</td>\n",
       "      <td>4.427699e+01</td>\n",
       "    </tr>\n",
       "    <tr>\n",
       "      <th>min</th>\n",
       "      <td>9.000000e+00</td>\n",
       "      <td>1.000000e+00</td>\n",
       "      <td>0.000000e+00</td>\n",
       "      <td>0.000000e+00</td>\n",
       "      <td>1.000000e+00</td>\n",
       "    </tr>\n",
       "    <tr>\n",
       "      <th>25%</th>\n",
       "      <td>2.235681e+06</td>\n",
       "      <td>3.000000e+00</td>\n",
       "      <td>0.000000e+00</td>\n",
       "      <td>0.000000e+00</td>\n",
       "      <td>8.000000e+00</td>\n",
       "    </tr>\n",
       "    <tr>\n",
       "      <th>50%</th>\n",
       "      <td>4.478210e+06</td>\n",
       "      <td>5.000000e+00</td>\n",
       "      <td>0.000000e+00</td>\n",
       "      <td>0.000000e+00</td>\n",
       "      <td>1.500000e+01</td>\n",
       "    </tr>\n",
       "    <tr>\n",
       "      <th>75%</th>\n",
       "      <td>6.723105e+06</td>\n",
       "      <td>5.000000e+00</td>\n",
       "      <td>0.000000e+00</td>\n",
       "      <td>1.000000e+00</td>\n",
       "      <td>2.800000e+01</td>\n",
       "    </tr>\n",
       "    <tr>\n",
       "      <th>max</th>\n",
       "      <td>8.960795e+06</td>\n",
       "      <td>5.000000e+00</td>\n",
       "      <td>3.914000e+03</td>\n",
       "      <td>4.022000e+03</td>\n",
       "      <td>4.686000e+03</td>\n",
       "    </tr>\n",
       "  </tbody>\n",
       "</table>\n",
       "</div>"
      ],
      "text/plain": [
       "         Unnamed: 0   star_rating  helpful_votes   total_votes    reviews_wc\n",
       "count  2.000000e+06  2.000000e+06   2.000000e+06  2.000000e+06  2.000000e+06\n",
       "mean   4.479400e+06  3.891887e+00   8.867985e-01  1.153611e+00  2.591794e+01\n",
       "std    2.588526e+06  1.463923e+00   1.125330e+01  1.203111e+01  4.427699e+01\n",
       "min    9.000000e+00  1.000000e+00   0.000000e+00  0.000000e+00  1.000000e+00\n",
       "25%    2.235681e+06  3.000000e+00   0.000000e+00  0.000000e+00  8.000000e+00\n",
       "50%    4.478210e+06  5.000000e+00   0.000000e+00  0.000000e+00  1.500000e+01\n",
       "75%    6.723105e+06  5.000000e+00   0.000000e+00  1.000000e+00  2.800000e+01\n",
       "max    8.960795e+06  5.000000e+00   3.914000e+03  4.022000e+03  4.686000e+03"
      ]
     },
     "execution_count": 37,
     "metadata": {},
     "output_type": "execute_result"
    }
   ],
   "source": [
    "data[\"reviews_wc\"] = data[FEATURE_COLUMN].apply(lambda x: 0 if type(x) == float else len(x.split()))\n",
    "data = data.dropna(subset=[\"review_body\"], axis=0)\n",
    "\n",
    "data.describe()"
   ]
  },
  {
   "cell_type": "code",
   "execution_count": 39,
   "metadata": {},
   "outputs": [],
   "source": [
    "labels = data[LABEL_COLUMN]\n",
    "reviews = data[FEATURE_COLUMN]"
   ]
  },
  {
   "cell_type": "markdown",
   "metadata": {},
   "source": [
    "# Re-create Vectorizer"
   ]
  },
  {
   "cell_type": "code",
   "execution_count": 41,
   "metadata": {},
   "outputs": [],
   "source": [
    "tv = TfidfVectorizer(min_df=1,\n",
    "                     max_df=1.,\n",
    "                     ngram_range=(1,3),\n",
    "                     max_features=MAX_FEATURES,\n",
    "                     use_idf=True\n",
    "                     )\n",
    "tv = tv.fit(reviews.array)\n",
    "vocab = tv.get_feature_names()\n",
    "\n"
   ]
  },
  {
   "cell_type": "markdown",
   "metadata": {},
   "source": [
    "# Load the Model"
   ]
  },
  {
   "cell_type": "code",
   "execution_count": 44,
   "metadata": {},
   "outputs": [
    {
     "name": "stderr",
     "output_type": "stream",
     "text": [
      "/Users/vinceluk/anaconda3/envs/capstone/lib/python3.7/site-packages/sklearn/base.py:318: UserWarning: Trying to unpickle estimator LogisticRegression from version 0.21.3 when using version 0.22.1. This might lead to breaking code or invalid results. Use at your own risk.\n",
      "  UserWarning)\n"
     ]
    }
   ],
   "source": [
    "with open(model_filename, 'rb') as file:\n",
    "    model = joblib.load(model_filename)"
   ]
  },
  {
   "cell_type": "code",
   "execution_count": 141,
   "metadata": {},
   "outputs": [],
   "source": [
    "RESULT1_INDEX = 0\n",
    "RESULT2_INDEX = 1\n",
    "RESULT3_INDEX = 2\n",
    "RESULT4_INDEX = 3\n",
    "RESULT5_INDEX = 4\n",
    "\n",
    "column_mapper = {0: 1,\n",
    "                                                            1: 2,\n",
    "                                                            2: 3,\n",
    "                                                            3: 4,\n",
    "                                                            4: 5\n",
    "                                                        }\n",
    "\n",
    "def normalize_text(text):\n",
    "    text = tu.remove_stop_words(text)\n",
    "    text = tu.lemmatize_text(text)\n",
    "    return text\n",
    "\n",
    "def predict(model, reviews: list):\n",
    "    \"\"\"\n",
    "    :param reviews: list of pre-processed text reviews\n",
    "    :return: predictions (# reviews x 1), features\n",
    "    \"\"\"\n",
    "    coef_pd_list = []\n",
    "    \n",
    "    # put reviews in pd then remove stopwords and lemmatize so it's identical to LR features\n",
    "    reviews_df = pd.DataFrame(reviews).rename({0: \"review_body_orig\"}, axis=1)\n",
    "    reviews_df[\"review_body\"] = reviews_df[\"review_body_orig\"].apply(lambda x: normalize_text(x))\n",
    "#     print(reviews_pd.head())\n",
    "\n",
    "    # coef_def is 1 x # Features\n",
    "    coef_df = pd.DataFrame(model.coef_, columns=vocab)\n",
    "    # intercept is 5 x 1 matrix\n",
    "    intercept_df = pd.DataFrame(model.intercept_).rename({0: \"intercept\"}, axis=1)\n",
    "\n",
    "    tv_matrix = tv.transform(reviews_df[\"review_body\"].array)\n",
    "    features = pd.DataFrame(np.round(tv_matrix.toarray(), 2), columns=vocab)\n",
    "    \n",
    "    for i, row in features.iterrows():\n",
    "        # multiple coeffiecients with feature value\n",
    "#         print(row_pd.loc[:, (row_pd != 0).any(axis=0)])\n",
    "\n",
    "        row_coef = coef_df.copy()\n",
    "        for si, value in row.iteritems():\n",
    "            row_coef[si] = row_coef[si] * value\n",
    "        # drop any columns that are 0\n",
    "        row_coef = row_coef.loc[:, (row_coef != 0).any(axis=0)]\n",
    "        row_coef = row_coef.join(intercept_df)\n",
    "        row_coef[\"final_value\"] = row_coef.sum(axis=1)\n",
    "#         print(f'row_coef: {row_coef}')\n",
    "        \n",
    "        coef_pd_list.append(row_coef)\n",
    "    \n",
    "    predictions = model.predict(features)\n",
    "    \n",
    "    for i in np.arange(0, len(predictions)):\n",
    "        print(f'\\n\\n\\nReview (Orig): {reviews_df.loc[i, \"review_body_orig\"]}')\n",
    "        print(f'\\nReview (Normalized): {reviews_df.loc[i, \"review_body\"]}')\n",
    "        print(f'Coefficients:\\n{coef_pd_list[i].T.rename(column_mapper, axis=1)}')\n",
    "        print(f'\\nPrediction: {predictions[i]}\\n')\n",
    "    \n",
    "    \n",
    "    return reviews_df, predictions, coef_pd_list\n",
    "\n",
    "# test our function\n",
    "\n",
    "# test_reviews = ['test review']\n",
    "# test_reviews_pd = pd.DataFrame(test_reviews).rename({0: \"reviews\"}, axis=1)\n",
    "# reviews_df, predictions, coef_pd_list = predict(model, test_reviews_pd[\"reviews\"].array)\n"
   ]
  },
  {
   "cell_type": "code",
   "execution_count": null,
   "metadata": {},
   "outputs": [],
   "source": []
  },
  {
   "cell_type": "code",
   "execution_count": null,
   "metadata": {},
   "outputs": [],
   "source": []
  },
  {
   "cell_type": "markdown",
   "metadata": {},
   "source": [
    "# LSTM 4-Star Review Misclassified as 5 (1)\n",
    "\n",
    "Index: 851267\n",
    "\n",
    "Our Prediction is: 2 (we are way off)"
   ]
  },
  {
   "cell_type": "code",
   "execution_count": 142,
   "metadata": {},
   "outputs": [
    {
     "name": "stdout",
     "output_type": "stream",
     "text": [
      "\n",
      "\n",
      "\n",
      "Review (Orig): have to say this thing is what i thought it would be not the best internet but on my it gets the job done\n",
      "\n",
      "Review (Normalized): say thing thought would not best internet get job done\n",
      "Coefficients:\n",
      "                      1         2         3         4         5\n",
      "best          -0.893184 -0.379014 -0.202679  0.446039  1.028839\n",
      "done          -0.034628  0.057986 -0.024925  0.004232 -0.002665\n",
      "get            0.023715  0.051308 -0.092286  0.033845 -0.016583\n",
      "get job       -0.196320 -0.173084 -0.042801  0.159253  0.252953\n",
      "get job done  -0.023283  0.196947 -0.149545 -0.085151  0.061033\n",
      "internet      -0.072925 -0.057645 -0.171028  0.011826  0.289772\n",
      "job           -0.197718  0.048576 -0.044752  0.066619  0.127275\n",
      "job done       1.701417  0.419250 -0.677010 -0.736610 -0.707047\n",
      "not           -0.174793  0.196185  0.244725  0.043348 -0.309465\n",
      "not best       0.607569  0.373076  0.189211 -0.356886 -0.812970\n",
      "say           -0.031799  0.001088 -0.060553  0.032697  0.058567\n",
      "thing          0.013896 -0.133357 -0.127170  0.167960  0.078671\n",
      "thought       -0.124640 -0.011031  0.040158  0.021432  0.074080\n",
      "thought would  0.133458  0.259793  0.173192 -0.189272 -0.377172\n",
      "would         -0.054577 -0.045533 -0.047528  0.042946  0.104692\n",
      "would not     -0.003399  0.014483 -0.007273  0.010366 -0.014177\n",
      "intercept      0.123724  0.080674  0.197804 -0.189372 -0.212831\n",
      "final_value    0.796512  0.899704 -0.802461 -0.516727 -0.377028\n",
      "\n",
      "Prediction: 2\n",
      "\n"
     ]
    }
   ],
   "source": [
    "review_temp = ['have to say this thing is what i thought it would be not the best internet but on my it gets the job done',\n",
    "#                'have to say this thing is what i thought it would be',\n",
    "#                'gets the job done', \n",
    "#                'not the best',\n",
    "#                'not the best internet',\n",
    "#                'not the best but gets the job done',\n",
    "#                'not the best internet but on my gets the job done',\n",
    "#                'on my'\n",
    "               ]\n",
    "\n",
    "# test_reviews_pd = pd.DataFrame(test_reviews).rename({0: \"reviews\"}, axis=1)\n",
    "reviews_df, predictions, test_feature_coefs = predict(model, review_temp)\n",
    "\n"
   ]
  },
  {
   "cell_type": "markdown",
   "metadata": {},
   "source": [
    "# LSTM 4-Star Review Misclassified as 5 (2)\n",
    "\n",
    "Index: 338372\n",
    "\n",
    "**Our Prediction is: 4 (it is correct but 5 is pretty close)**\n",
    "\n",
    "interesting annoy is not in our feature list for LR"
   ]
  },
  {
   "cell_type": "code",
   "execution_count": 143,
   "metadata": {},
   "outputs": [
    {
     "name": "stdout",
     "output_type": "stream",
     "text": [
      "\n",
      "\n",
      "\n",
      "Review (Orig): i like this screen protector as the installation was easy enough there is only one bubble on it which annoys me but it looks good nonetheless\n",
      "\n",
      "Review (Normalized): like screen protector installation easy enough one bubble annoys look good nonetheless\n",
      "Coefficients:\n",
      "                         1         2         3         4         5\n",
      "bubble           -0.139927 -0.095662  0.073783  0.090287  0.071519\n",
      "easy             -0.279118 -0.268486 -0.058702  0.295980  0.310325\n",
      "enough            0.063446 -0.157488 -0.004105  0.014745  0.083402\n",
      "good             -0.160044 -0.293983  0.007104  0.316910  0.130013\n",
      "installation     -0.037506 -0.078353 -0.144626  0.123617  0.136867\n",
      "like             -0.095778  0.060019 -0.013265  0.002954  0.046070\n",
      "like screen       0.090610 -0.013407 -0.111146  0.024240  0.009703\n",
      "look             -0.091722 -0.047828  0.031304  0.078853  0.029393\n",
      "look good        -0.195883  0.123522 -0.014323  0.036646  0.050038\n",
      "one              -0.014068 -0.073610  0.003853 -0.017590  0.101415\n",
      "protector        -0.794963 -0.474601  0.156762  0.566349  0.546452\n",
      "screen           -0.116555 -0.121009  0.046574  0.057428  0.133562\n",
      "screen protector  0.036788  0.032445  0.013466  0.003473 -0.086171\n",
      "intercept         0.123724  0.080674  0.197804 -0.189372 -0.212831\n",
      "final_value      -1.610996 -1.327767  0.184484  1.404520  1.349758\n",
      "\n",
      "Prediction: 4\n",
      "\n"
     ]
    }
   ],
   "source": [
    "review_temp = ['i like this screen protector as the installation was easy enough there is only one bubble on it which annoys me but it looks good nonetheless',\n",
    "#                'i like this screen protector as the installation was easy enough',\n",
    "#                'there is only one bubble on it which annoys me', \n",
    "#                'it looks good',\n",
    "#                'but it looks good',\n",
    "#                'i like this screen protector as the installation was easy enough there is only one bubble on it which annoys me',\n",
    "#                'there is only one bubble on it which annoys me but it looks good',\n",
    "#                'but',\n",
    "#                'like',\n",
    "#                'easy'\n",
    "]\n",
    "reviews_df, predictions, test_feature_coefs = predict(model, review_temp)\n"
   ]
  },
  {
   "cell_type": "markdown",
   "metadata": {},
   "source": [
    "# 5-Star misclassifed as 4-Star\n",
    "\n",
    "Index: 329502\n",
    "\n",
    "**LR Prediction: 5 (correct)**"
   ]
  },
  {
   "cell_type": "code",
   "execution_count": 144,
   "metadata": {},
   "outputs": [
    {
     "name": "stdout",
     "output_type": "stream",
     "text": [
      "\n",
      "\n",
      "\n",
      "Review (Orig): must have for techies all the basic stuff for phone tablet and laptop disassembly the drivers could be better made but no top quality manufacturer is going to challenge apples proprietary pentalobe it is a good quality kit for a great price hence my 5 star rating\n",
      "\n",
      "Review (Normalized): must techie basic stuff phone tablet laptop disassembly driver could better made no top quality manufacturer going challenge apple proprietary pentalobe good quality kit great price hence 5 star rating\n",
      "Coefficients:\n",
      "                     1         2         3         4         5\n",
      "apple        -0.014297  0.081611  0.065976 -0.003165 -0.130124\n",
      "basic        -0.197469 -0.129756  0.294806  0.182655 -0.150236\n",
      "better       -0.232552  0.079765  0.084512  0.033223  0.035051\n",
      "could         0.072086  0.031066  0.070350 -0.008191 -0.165311\n",
      "could better -0.195091 -0.178883 -0.224488  0.008541  0.589920\n",
      "driver       -0.055561 -0.073981  0.005183  0.018979  0.105380\n",
      "going         0.014359 -0.082250 -0.077341  0.055862  0.089370\n",
      "good         -0.094144 -0.172931  0.004179  0.186417  0.076478\n",
      "good quality -0.105278 -0.135120 -0.026040  0.220398  0.046039\n",
      "great         0.001054 -0.029852  0.010697 -0.003668  0.021768\n",
      "great price  -0.066763 -0.009430 -0.205710  0.063666  0.218237\n",
      "kit           0.260607 -0.016085 -0.165428 -0.037845 -0.041250\n",
      "laptop       -0.170788 -0.077055  0.050099  0.073957  0.123787\n",
      "made          0.095459 -0.036500 -0.041292 -0.018452  0.000786\n",
      "manufacturer  0.056885 -0.182292 -0.122447  0.098326  0.149528\n",
      "must         -0.065920  0.087565  0.154047 -0.093976 -0.081716\n",
      "no           -0.031393 -0.085014 -0.014629  0.044087  0.086949\n",
      "phone         0.000263 -0.015506  0.018274 -0.005040  0.002008\n",
      "phone tablet -0.053812 -0.000524  0.189824 -0.048290 -0.087197\n",
      "price        -0.080459 -0.043094  0.010008  0.082517  0.031028\n",
      "quality       0.008960 -0.008497 -0.088248 -0.025266  0.113051\n",
      "rating       -0.011162 -0.059811 -0.111040 -0.014283  0.196296\n",
      "star          0.003007 -0.114430 -0.000534  0.217439 -0.105481\n",
      "star rating   0.141461 -0.101078 -0.088013  0.042481  0.005149\n",
      "stuff         0.008301 -0.133448 -0.033105 -0.035779  0.194031\n",
      "tablet       -0.073340  0.042416 -0.090866 -0.004263  0.126054\n",
      "top          -0.066651 -0.056585  0.020674  0.057439  0.045123\n",
      "intercept     0.123724  0.080674  0.197804 -0.189372 -0.212831\n",
      "final_value  -0.728514 -1.339028 -0.112746  0.898399  1.281889\n",
      "\n",
      "Prediction: 5\n",
      "\n"
     ]
    }
   ],
   "source": [
    "review_temp = ['must have for techies all the basic stuff for phone tablet and laptop disassembly the drivers could be better made but no top quality manufacturer is going to challenge apples proprietary pentalobe it is a good quality kit for a great price hence my 5 star rating',\n",
    "#                'must have for techies all the basic stuff for phone tablet and laptop disassembly',\n",
    "#                'the drivers could be better made',\n",
    "#                'but no top quality manufacturer is going to challenge apples proprietary pentalobe',\n",
    "#                'no top quality manufacturer is going to challenge apples proprietary pentalobe',\n",
    "#                'it is a good quality kit for a great price hence my 5 star rating',\n",
    "#                'no',\n",
    "#                'but',\n",
    "#                'but no',\n",
    "#                'could be better'\n",
    "]\n",
    "reviews_df, predictions, test_feature_coefs = predict(model, review_temp)\n"
   ]
  },
  {
   "cell_type": "markdown",
   "metadata": {},
   "source": [
    "# 2-Star Misclassified as 1-Star\n",
    "\n",
    "LR Prediction: 4 (incorrect)\n"
   ]
  },
  {
   "cell_type": "code",
   "execution_count": 145,
   "metadata": {},
   "outputs": [
    {
     "name": "stdout",
     "output_type": "stream",
     "text": [
      "\n",
      "\n",
      "\n",
      "Review (Orig): nice but the only problem i have is that the belt hoops are too small for most of my belts\n",
      "\n",
      "Review (Normalized): nice problem belt hoop small belt\n",
      "Coefficients:\n",
      "                    1         2         3         4         5\n",
      "belt        -0.303695  0.136244 -0.041256  0.333370 -0.124663\n",
      "nice        -0.074445 -0.017849 -0.137767  0.063525  0.166537\n",
      "problem      0.066083  0.203854 -0.026924 -0.052574 -0.190439\n",
      "small       -0.279121 -0.257232  0.000310  0.153702  0.382342\n",
      "intercept    0.123724  0.080674  0.197804 -0.189372 -0.212831\n",
      "final_value -0.467454  0.145692 -0.007833  0.308650  0.020945\n",
      "\n",
      "Prediction: 4\n",
      "\n"
     ]
    }
   ],
   "source": [
    "review_temp = ['nice but the only problem i have is that the belt hoops are too small for most of my belts',\n",
    "#                'nice',\n",
    "#                'the only problem i have is that the belt hoops are too small for most of my belts',\n",
    "#                'the belt hoops are too small',\n",
    "#                'but the only problem i have is that the belt hoops are too small for most of my belts',\n",
    "#                'but',\n",
    "#                'problem',\n",
    "#                'the only problem',\n",
    "#                'too small'               \n",
    "              ]\n",
    "reviews_df, predictions, test_feature_coefs = predict(model, review_temp)\n"
   ]
  },
  {
   "cell_type": "code",
   "execution_count": null,
   "metadata": {},
   "outputs": [],
   "source": []
  }
 ],
 "metadata": {
  "kernelspec": {
   "display_name": "Python 3",
   "language": "python",
   "name": "python3"
  },
  "language_info": {
   "codemirror_mode": {
    "name": "ipython",
    "version": 3
   },
   "file_extension": ".py",
   "mimetype": "text/x-python",
   "name": "python",
   "nbconvert_exporter": "python",
   "pygments_lexer": "ipython3",
   "version": "3.7.6"
  }
 },
 "nbformat": 4,
 "nbformat_minor": 4
}
