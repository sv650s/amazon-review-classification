{
 "cells": [
  {
   "cell_type": "markdown",
   "metadata": {},
   "source": [
    "# Logistic Regression With More Training Examples Using Sklearn\n",
    "\n",
    "In our previous notebook, Logistic Regression with balanced class weight did the best using TFIDF with ngram(1, 3) with 4000 features\n",
    "\n",
    "In this notebook we will increase the number of examples to see if we can improve our model performance using sklearn's Logistic Regression\n",
    "\n",
    "# Conclusion\n",
    "\n",
    "* Increasing the number of samples did improve the model performance. \n",
    "* There was about a 5% improvement with 500k samples compared to 50k samples\n",
    "* There was a steeper increase been 50k to 100k samples than 100k to 500k samples suggesting that there might be a plateau where increasing our sample size may not help our model improve\n",
    "* Training beyond 500k samples errored out on my 2018 Mac Mini with 32 GB of ram probably because it is trying to hold everything in RAM - will have to use Pyspark to train larger sample size"
   ]
  },
  {
   "cell_type": "code",
   "execution_count": 1,
   "metadata": {},
   "outputs": [
    {
     "name": "stderr",
     "output_type": "stream",
     "text": [
      "/Users/vinceluk/anaconda3/envs/capstone/lib/python3.7/site-packages/sklearn/externals/joblib/__init__.py:15: FutureWarning: sklearn.externals.joblib is deprecated in 0.21 and will be removed in 0.23. Please import this functionality directly from joblib, which can be installed with: pip install joblib. If this warning is raised when loading pickled models, you may need to re-serialize those models with scikit-learn 0.21+.\n",
      "  warnings.warn(msg, category=FutureWarning)\n",
      "/Users/vinceluk/anaconda3/envs/capstone/lib/python3.7/site-packages/tensorflow/python/framework/dtypes.py:516: FutureWarning: Passing (type, 1) or '1type' as a synonym of type is deprecated; in a future version of numpy, it will be understood as (type, (1,)) / '(1,)type'.\n",
      "  _np_qint8 = np.dtype([(\"qint8\", np.int8, 1)])\n",
      "/Users/vinceluk/anaconda3/envs/capstone/lib/python3.7/site-packages/tensorflow/python/framework/dtypes.py:517: FutureWarning: Passing (type, 1) or '1type' as a synonym of type is deprecated; in a future version of numpy, it will be understood as (type, (1,)) / '(1,)type'.\n",
      "  _np_quint8 = np.dtype([(\"quint8\", np.uint8, 1)])\n",
      "/Users/vinceluk/anaconda3/envs/capstone/lib/python3.7/site-packages/tensorflow/python/framework/dtypes.py:518: FutureWarning: Passing (type, 1) or '1type' as a synonym of type is deprecated; in a future version of numpy, it will be understood as (type, (1,)) / '(1,)type'.\n",
      "  _np_qint16 = np.dtype([(\"qint16\", np.int16, 1)])\n",
      "/Users/vinceluk/anaconda3/envs/capstone/lib/python3.7/site-packages/tensorflow/python/framework/dtypes.py:519: FutureWarning: Passing (type, 1) or '1type' as a synonym of type is deprecated; in a future version of numpy, it will be understood as (type, (1,)) / '(1,)type'.\n",
      "  _np_quint16 = np.dtype([(\"quint16\", np.uint16, 1)])\n",
      "/Users/vinceluk/anaconda3/envs/capstone/lib/python3.7/site-packages/tensorflow/python/framework/dtypes.py:520: FutureWarning: Passing (type, 1) or '1type' as a synonym of type is deprecated; in a future version of numpy, it will be understood as (type, (1,)) / '(1,)type'.\n",
      "  _np_qint32 = np.dtype([(\"qint32\", np.int32, 1)])\n",
      "/Users/vinceluk/anaconda3/envs/capstone/lib/python3.7/site-packages/tensorflow/python/framework/dtypes.py:525: FutureWarning: Passing (type, 1) or '1type' as a synonym of type is deprecated; in a future version of numpy, it will be understood as (type, (1,)) / '(1,)type'.\n",
      "  np_resource = np.dtype([(\"resource\", np.ubyte, 1)])\n",
      "/Users/vinceluk/anaconda3/envs/capstone/lib/python3.7/site-packages/tensorboard/compat/tensorflow_stub/dtypes.py:541: FutureWarning: Passing (type, 1) or '1type' as a synonym of type is deprecated; in a future version of numpy, it will be understood as (type, (1,)) / '(1,)type'.\n",
      "  _np_qint8 = np.dtype([(\"qint8\", np.int8, 1)])\n",
      "/Users/vinceluk/anaconda3/envs/capstone/lib/python3.7/site-packages/tensorboard/compat/tensorflow_stub/dtypes.py:542: FutureWarning: Passing (type, 1) or '1type' as a synonym of type is deprecated; in a future version of numpy, it will be understood as (type, (1,)) / '(1,)type'.\n",
      "  _np_quint8 = np.dtype([(\"quint8\", np.uint8, 1)])\n",
      "/Users/vinceluk/anaconda3/envs/capstone/lib/python3.7/site-packages/tensorboard/compat/tensorflow_stub/dtypes.py:543: FutureWarning: Passing (type, 1) or '1type' as a synonym of type is deprecated; in a future version of numpy, it will be understood as (type, (1,)) / '(1,)type'.\n",
      "  _np_qint16 = np.dtype([(\"qint16\", np.int16, 1)])\n",
      "/Users/vinceluk/anaconda3/envs/capstone/lib/python3.7/site-packages/tensorboard/compat/tensorflow_stub/dtypes.py:544: FutureWarning: Passing (type, 1) or '1type' as a synonym of type is deprecated; in a future version of numpy, it will be understood as (type, (1,)) / '(1,)type'.\n",
      "  _np_quint16 = np.dtype([(\"quint16\", np.uint16, 1)])\n",
      "/Users/vinceluk/anaconda3/envs/capstone/lib/python3.7/site-packages/tensorboard/compat/tensorflow_stub/dtypes.py:545: FutureWarning: Passing (type, 1) or '1type' as a synonym of type is deprecated; in a future version of numpy, it will be understood as (type, (1,)) / '(1,)type'.\n",
      "  _np_qint32 = np.dtype([(\"qint32\", np.int32, 1)])\n",
      "/Users/vinceluk/anaconda3/envs/capstone/lib/python3.7/site-packages/tensorboard/compat/tensorflow_stub/dtypes.py:550: FutureWarning: Passing (type, 1) or '1type' as a synonym of type is deprecated; in a future version of numpy, it will be understood as (type, (1,)) / '(1,)type'.\n",
      "  np_resource = np.dtype([(\"resource\", np.ubyte, 1)])\n"
     ]
    }
   ],
   "source": [
    "import os\n",
    "import sys\n",
    "module_path = os.path.abspath(os.path.join('..'))\n",
    "if module_path not in sys.path:\n",
    "    sys.path.append(module_path)\n",
    "    \n",
    "import importlib\n",
    "import re\n",
    "import pandas as pd\n",
    "import numpy as np\n",
    "import matplotlib.pyplot as plt\n",
    "import seaborn as sns\n",
    "import util.model_util as mu\n",
    "import util.report_util as ru\n",
    "import util.plot_util as pu\n",
    "\n",
    "%matplotlib inline\n",
    "sns.set(font_scale=2)\n",
    "\n",
    "CONFIG_DIR = \"../config\"\n",
    "CONFIG_FILE = f'{CONFIG_DIR}/2019-11-run_classifiers-lrb.csv'\n",
    "REPORT_DIR = \"../reports\"\n",
    "REPORT_FILE_PREV = f'{REPORT_DIR}/2019-11-01-run_classifiers-50k-report.csv'\n",
    "REPORT_FILE = f'{REPORT_DIR}/2019-11-run_classifiers-lrb-report.csv'"
   ]
  },
  {
   "cell_type": "markdown",
   "metadata": {},
   "source": [
    "## Running Our Model\n",
    "\n",
    "Jupyter notebook was not stable for me when running models for some reason. So I created a program that takes in configuration files and runs all models serially.\n",
    "\n",
    "To run this again, execute the following command in the tools directory:\n",
    "\n",
    "```\n",
    "python run_classifiers.py ../config/2019-11-run_classifiers-lrb.csv\n",
    "```"
   ]
  },
  {
   "cell_type": "code",
   "execution_count": 2,
   "metadata": {},
   "outputs": [
    {
     "data": {
      "text/html": [
       "<div>\n",
       "<style scoped>\n",
       "    .dataframe tbody tr th:only-of-type {\n",
       "        vertical-align: middle;\n",
       "    }\n",
       "\n",
       "    .dataframe tbody tr th {\n",
       "        vertical-align: top;\n",
       "    }\n",
       "\n",
       "    .dataframe thead th {\n",
       "        text-align: right;\n",
       "    }\n",
       "</style>\n",
       "<table border=\"1\" class=\"dataframe\">\n",
       "  <thead>\n",
       "    <tr style=\"text-align: right;\">\n",
       "      <th></th>\n",
       "      <th>data_dir</th>\n",
       "      <th>data_file</th>\n",
       "      <th>class_column</th>\n",
       "      <th>dtype</th>\n",
       "      <th>drop_columns</th>\n",
       "      <th>model_name</th>\n",
       "      <th>max_iter</th>\n",
       "      <th>sampling</th>\n",
       "      <th>status</th>\n",
       "      <th>status_date</th>\n",
       "      <th>message</th>\n",
       "    </tr>\n",
       "  </thead>\n",
       "  <tbody>\n",
       "    <tr>\n",
       "      <th>0</th>\n",
       "      <td>../dataset/feature_files</td>\n",
       "      <td>review_body-tfidf-df_none-ngram13-99567-4000-n...</td>\n",
       "      <td>star_rating</td>\n",
       "      <td>NaN</td>\n",
       "      <td>helpful_votes, total_votes, helpful_product</td>\n",
       "      <td>LRB</td>\n",
       "      <td>100</td>\n",
       "      <td>NaN</td>\n",
       "      <td>success</td>\n",
       "      <td>2019-11-05 13:47:44</td>\n",
       "      <td>NaN</td>\n",
       "    </tr>\n",
       "    <tr>\n",
       "      <th>1</th>\n",
       "      <td>../dataset/feature_files</td>\n",
       "      <td>review_body-tfidf-df_none-ngram13-199134-4000-...</td>\n",
       "      <td>star_rating</td>\n",
       "      <td>NaN</td>\n",
       "      <td>helpful_votes, total_votes, helpful_product</td>\n",
       "      <td>LRB</td>\n",
       "      <td>100</td>\n",
       "      <td>NaN</td>\n",
       "      <td>success</td>\n",
       "      <td>2019-11-05 13:59:09</td>\n",
       "      <td>NaN</td>\n",
       "    </tr>\n",
       "    <tr>\n",
       "      <th>2</th>\n",
       "      <td>../dataset/feature_files</td>\n",
       "      <td>review_body-tfidf-df_none-ngram13-497835-4000-...</td>\n",
       "      <td>star_rating</td>\n",
       "      <td>NaN</td>\n",
       "      <td>helpful_votes, total_votes, helpful_product</td>\n",
       "      <td>LRB</td>\n",
       "      <td>100</td>\n",
       "      <td>NaN</td>\n",
       "      <td>success</td>\n",
       "      <td>2019-11-20 02:23:22</td>\n",
       "      <td>NaN</td>\n",
       "    </tr>\n",
       "    <tr>\n",
       "      <th>3</th>\n",
       "      <td>../dataset/feature_files</td>\n",
       "      <td>review_body-tfidf-df_none-ngram13-995687-4000-...</td>\n",
       "      <td>star_rating</td>\n",
       "      <td>NaN</td>\n",
       "      <td>helpful_votes, total_votes, helpful_product</td>\n",
       "      <td>LRB</td>\n",
       "      <td>100</td>\n",
       "      <td>NaN</td>\n",
       "      <td>failed</td>\n",
       "      <td>2019-11-20 02:44:00</td>\n",
       "      <td>Input contains NaN, infinity or a value too la...</td>\n",
       "    </tr>\n",
       "    <tr>\n",
       "      <th>4</th>\n",
       "      <td>../dataset/feature_files</td>\n",
       "      <td>review_body-tfidf-df_none-ngram13-1999999-4000...</td>\n",
       "      <td>star_rating</td>\n",
       "      <td>NaN</td>\n",
       "      <td>helpful_votes, total_votes, helpful_product</td>\n",
       "      <td>LRB</td>\n",
       "      <td>100</td>\n",
       "      <td>NaN</td>\n",
       "      <td>failed</td>\n",
       "      <td>2019-11-20 02:44:03</td>\n",
       "      <td>With n_samples=0, test_size=0.25 and train_siz...</td>\n",
       "    </tr>\n",
       "  </tbody>\n",
       "</table>\n",
       "</div>"
      ],
      "text/plain": [
       "                   data_dir  \\\n",
       "0  ../dataset/feature_files   \n",
       "1  ../dataset/feature_files   \n",
       "2  ../dataset/feature_files   \n",
       "3  ../dataset/feature_files   \n",
       "4  ../dataset/feature_files   \n",
       "\n",
       "                                           data_file class_column  dtype  \\\n",
       "0  review_body-tfidf-df_none-ngram13-99567-4000-n...  star_rating    NaN   \n",
       "1  review_body-tfidf-df_none-ngram13-199134-4000-...  star_rating    NaN   \n",
       "2  review_body-tfidf-df_none-ngram13-497835-4000-...  star_rating    NaN   \n",
       "3  review_body-tfidf-df_none-ngram13-995687-4000-...  star_rating    NaN   \n",
       "4  review_body-tfidf-df_none-ngram13-1999999-4000...  star_rating    NaN   \n",
       "\n",
       "                                  drop_columns model_name  max_iter  sampling  \\\n",
       "0  helpful_votes, total_votes, helpful_product        LRB       100       NaN   \n",
       "1  helpful_votes, total_votes, helpful_product        LRB       100       NaN   \n",
       "2  helpful_votes, total_votes, helpful_product        LRB       100       NaN   \n",
       "3  helpful_votes, total_votes, helpful_product        LRB       100       NaN   \n",
       "4  helpful_votes, total_votes, helpful_product        LRB       100       NaN   \n",
       "\n",
       "    status          status_date  \\\n",
       "0  success  2019-11-05 13:47:44   \n",
       "1  success  2019-11-05 13:59:09   \n",
       "2  success  2019-11-20 02:23:22   \n",
       "3   failed  2019-11-20 02:44:00   \n",
       "4   failed  2019-11-20 02:44:03   \n",
       "\n",
       "                                             message  \n",
       "0                                                NaN  \n",
       "1                                                NaN  \n",
       "2                                                NaN  \n",
       "3  Input contains NaN, infinity or a value too la...  \n",
       "4  With n_samples=0, test_size=0.25 and train_siz...  "
      ]
     },
     "execution_count": 2,
     "metadata": {},
     "output_type": "execute_result"
    }
   ],
   "source": [
    "config = pd.read_csv(CONFIG_FILE)\n",
    "config"
   ]
  },
  {
   "cell_type": "markdown",
   "metadata": {},
   "source": [
    "Load our Report"
   ]
  },
  {
   "cell_type": "code",
   "execution_count": 3,
   "metadata": {},
   "outputs": [],
   "source": [
    "# best model from our previous report\n",
    "report = ru.load_best_from_report(REPORT_FILE_PREV)\n",
    "# add our current report\n",
    "report = report.append(ru.load_report(REPORT_FILE)).astype({\"sample_size\": np.int32})"
   ]
  },
  {
   "cell_type": "markdown",
   "metadata": {},
   "source": [
    "# Results\n",
    "\n",
    "Training Time:\n",
    "* training time significantly increases between 200k to 500k samples as you see a much steeper slope for training time between 200k and 500k compared to 100k to 200k samples\n",
    "\n",
    "Model Performance:\n",
    "* increasing sample sized did improve our over all score\n",
    "* slope of improvement is decreasing as we add more samples suggesting there may be a plateau for our model when we increase our sample size\n",
    "* using sample size > 500k actually errored out on my computer\n"
   ]
  },
  {
   "cell_type": "code",
   "execution_count": 4,
   "metadata": {},
   "outputs": [
    {
     "data": {
      "image/png": "[encoded data removed]",
      "text/plain": [
       "<Figure size 1440x360 with 2 Axes>"
      ]
     },
     "metadata": {},
     "output_type": "display_data"
    }
   ],
   "source": [
    "report.total_time_min = report.train_time_min + report.predict_time_min\n",
    "report = report.sort_values(\"sample_size\")\n",
    "\n",
    "f, a = plt.subplots(1, 2, figsize=(20, 5))\n",
    "# sns.lineplot(data = report, x = \"sample_size\", y = \"total_time_min\", sort=False, marker=\"o\", ax=a[0])\n",
    "# _ = plt.title(\"Training Time by Sample Size\")\n",
    "# _ = plt.xlabel(\"Sample Size\")\n",
    "# _ = plt.ylabel(\"Training Time (minutes)\")\n",
    "\n",
    "# Total Training Time\n",
    "sns.lineplot(data = report, x = \"sample_size\", y = \"total_time_min\", sort=False, marker=\"o\", ax=a[0])\n",
    "_ = a[0].set_title(\"Training Time by Sample Size\")\n",
    "_ = a[0].set_xlabel(\"Sample Size\")\n",
    "_ = a[0].set_ylabel(\"Training Time (minutes)\")\n",
    "\n",
    "# Score\n",
    "sns.lineplot(data = report, x = \"sample_size\", y = \"eval_metric\", sort=False, marker=\"o\", ax=a[1])\n",
    "_ = a[1].set_title(\"Score by Sample Size\")\n",
    "_ = a[1].set_xlabel(\"Sample Size\")\n",
    "_ = a[1].set_ylabel(\"Score\")"
   ]
  },
  {
   "cell_type": "code",
   "execution_count": 9,
   "metadata": {},
   "outputs": [
    {
     "data": {
      "text/html": [
       "<div>\n",
       "<style scoped>\n",
       "    .dataframe tbody tr th:only-of-type {\n",
       "        vertical-align: middle;\n",
       "    }\n",
       "\n",
       "    .dataframe tbody tr th {\n",
       "        vertical-align: top;\n",
       "    }\n",
       "\n",
       "    .dataframe thead th {\n",
       "        text-align: right;\n",
       "    }\n",
       "</style>\n",
       "<table border=\"1\" class=\"dataframe\">\n",
       "  <thead>\n",
       "    <tr style=\"text-align: right;\">\n",
       "      <th></th>\n",
       "      <th>description</th>\n",
       "      <th>model_file</th>\n",
       "    </tr>\n",
       "  </thead>\n",
       "  <tbody>\n",
       "    <tr>\n",
       "      <th>2</th>\n",
       "      <td>review_body-tfidf-df_none-ngram13-497835-4000-...</td>\n",
       "      <td>../models/review_body-tfidf-df_none-ngram13-49...</td>\n",
       "    </tr>\n",
       "    <tr>\n",
       "      <th>3</th>\n",
       "      <td>review_body-tfidf-df_none-ngram13-497835-4000-...</td>\n",
       "      <td>../models/review_body-tfidf-df_none-ngram13-49...</td>\n",
       "    </tr>\n",
       "  </tbody>\n",
       "</table>\n",
       "</div>"
      ],
      "text/plain": [
       "                                         description  \\\n",
       "2  review_body-tfidf-df_none-ngram13-497835-4000-...   \n",
       "3  review_body-tfidf-df_none-ngram13-497835-4000-...   \n",
       "\n",
       "                                          model_file  \n",
       "2  ../models/review_body-tfidf-df_none-ngram13-49...  \n",
       "3  ../models/review_body-tfidf-df_none-ngram13-49...  "
      ]
     },
     "execution_count": 9,
     "metadata": {},
     "output_type": "execute_result"
    }
   ],
   "source": [
    "report[report.sample_size == 497835][[\"description\", \"model_file\"]]"
   ]
  },
  {
   "cell_type": "code",
   "execution_count": 8,
   "metadata": {},
   "outputs": [
    {
     "data": {
      "text/plain": [
       "Index(['1_f1-score', '1_precision', '1_recall', '1_support', '2_f1-score',\n",
       "       '2_precision', '2_recall', '2_support', '3_f1-score', '3_precision',\n",
       "       '3_recall', '3_support', '4_f1-score', '4_precision', '4_recall',\n",
       "       '4_support', '5_f1-score', '5_precision', '5_recall', '5_support',\n",
       "       'accuracy', 'confusion_matrix', 'description', 'file',\n",
       "       'file_load_time_min', 'macro avg_f1-score', 'macro avg_precision',\n",
       "       'macro avg_recall', 'macro avg_support', 'model_file', 'model_name',\n",
       "       'model_save_time_min', 'param', 'predict_time_min', 'smote_time_min',\n",
       "       'status', 'status_date', 'test_examples', 'test_features',\n",
       "       'total_time_min', 'train_examples', 'train_features', 'train_time_min',\n",
       "       'weighted avg_f1-score', 'weighted avg_precision',\n",
       "       'weighted avg_recall', 'weighted avg_support', 'config_file',\n",
       "       'eval_metric', 'feature_column', 'feature_engineering', 'config_df',\n",
       "       'config_ngram', 'sample_size', 'feature_size', 'has_lda', 'lda_str',\n",
       "       'has_sampling', 'sampling_type', 'label_column', 'feature_summary',\n",
       "       'feature_summary_sampling'],\n",
       "      dtype='object')"
      ]
     },
     "execution_count": 8,
     "metadata": {},
     "output_type": "execute_result"
    }
   ],
   "source": [
    "report.columns"
   ]
  },
  {
   "cell_type": "code",
   "execution_count": null,
   "metadata": {},
   "outputs": [],
   "source": []
  }
 ],
 "metadata": {
  "kernelspec": {
   "display_name": "Python 3",
   "language": "python",
   "name": "python3"
  },
  "language_info": {
   "codemirror_mode": {
    "name": "ipython",
    "version": 3
   },
   "file_extension": ".py",
   "mimetype": "text/x-python",
   "name": "python",
   "nbconvert_exporter": "python",
   "pygments_lexer": "ipython3",
   "version": "3.7.6"
  }
 },
 "nbformat": 4,
 "nbformat_minor": 4
}
