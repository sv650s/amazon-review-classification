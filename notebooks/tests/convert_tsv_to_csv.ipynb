{
 "cells": [
  {
   "cell_type": "markdown",
   "metadata": {},
   "source": [
    "# Convert Amazon Review Files to CSV\n",
    "\n",
    "Use this notebook to generate a convert Amazon Files to CSV\n",
    "\n",
    "This will also sample Amazon files to reduce the file size\n",
    "\n"
   ]
  },
  {
   "cell_type": "code",
   "execution_count": 3,
   "metadata": {},
   "outputs": [
    {
     "name": "stderr",
     "output_type": "stream",
     "text": [
      "INFO:util.file_util:Converting ../../dataset/amazon_reviews/amazon_reviews_us_Wireless_v1_00.tsv to ../../dataset/amazon_reviews/amazon_reviews_us_Wireless_v1_00-1m.csv with sampling <util.file_samplers.SimpleSampler object at 0x7fe838eb1290>\n"
     ]
    }
   ],
   "source": [
    "# import sibling utilities\n",
    "import sys\n",
    "sys.path.append('../..')\n",
    "\n",
    "from util.file_util import convert_tsv_to_csv\n",
    "import pandas as pd\n",
    "import util.text_util as tu\n",
    "import util.file_samplers as fs\n",
    "import logging\n",
    "\n",
    "logging.basicConfig(level=logging.INFO)\n",
    "\n",
    "# only need to run this one time\n",
    "CONVERT_FILE=False\n",
    "\n",
    "DATA_DIR=\"../../dataset/amazon_reviews\"\n",
    "\n",
    "# full 9mil Wireless reviews - not enough memory locally to do this\n",
    "ORIG_FILE_WIRELESS=f\"{DATA_DIR}/amazon_reviews_us_Wireless_v1_00.tsv\"\n",
    "\n",
    "# about 22k reviews\n",
    "DATA_FILE_TEST = f\"{DATA_DIR}/amazon_reviews_us_Wireless_v1_00-50k.csv\"\n",
    "# about 100023 reviews\n",
    "DATA_FILE_50K = f\"{DATA_DIR}/amazon_reviews_us_Wireless_v1_00-50k.csv\"\n",
    "# about 300068 reviews\n",
    "DATA_FILE_100K = f\"{DATA_DIR}/amazon_reviews_us_Wireless_v1_00-100k.csv\"\n",
    "\n",
    "DATA_FILE_200k = f\"{DATA_DIR}/amazon_reviews_us_Wireless_v1_00-200k.csv\"\n",
    "DATA_FILE_500k = f\"{DATA_DIR}/amazon_reviews_us_Wireless_v1_00-500k.csv\"\n",
    "DATA_FILE_1m = f\"{DATA_DIR}/amazon_reviews_us_Wireless_v1_00-1m.csv\"\n",
    "DATA_FILE_ALL = f\"{DATA_DIR}/amazon_reviews_us_Wireless_v1_00.csv\"\n",
    "\n",
    "# 100k\n",
    "# convert_tsv_to_csv(ORIG_FILE_WIRELESS, DATA_FILE_100K, fs.SimpleSampler(90))\n",
    "\n",
    "# 200k\n",
    "# convert_tsv_to_csv(ORIG_FILE_WIRELESS, DATA_FILE_200k, fs.SimpleSampler(45))\n",
    "# 500k\n",
    "# convert_tsv_to_csv(ORIG_FILE_WIRELESS, DATA_FILE_500k, fs.SimpleSampler(18))\n",
    "# 1m\n",
    "# convert_tsv_to_csv(ORIG_FILE_WIRELESS, DATA_FILE_1m, fs.SimpleSampler(9))\n",
    "convert_tsv_to_csv(ORIG_FILE_WIRELESS, DATA_FILE_ALL)"
   ]
  },
  {
   "cell_type": "code",
   "execution_count": null,
   "metadata": {},
   "outputs": [],
   "source": []
  }
 ],
 "metadata": {
  "kernelspec": {
   "display_name": "Python 3",
   "language": "python",
   "name": "python3"
  },
  "language_info": {
   "codemirror_mode": {
    "name": "ipython",
    "version": 3
   },
   "file_extension": ".py",
   "mimetype": "text/x-python",
   "name": "python",
   "nbconvert_exporter": "python",
   "pygments_lexer": "ipython3",
   "version": "3.7.3"
  }
 },
 "nbformat": 4,
 "nbformat_minor": 4
}
