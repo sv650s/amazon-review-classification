{
 "cells": [
  {
   "cell_type": "markdown",
   "metadata": {},
   "source": [
    "# Rename model files that has nosmote to sampling_none\n",
    "\n",
    "sampling_none came later as I added more undersampling and oversampling\n",
    "\n",
    "have to rename existing files to use sampling_none. Testing to make sure we didn't miss anything before committing\n",
    "\n",
    "Renaming in ../../models/fixNosmote.sh"
   ]
  },
  {
   "cell_type": "code",
   "execution_count": 4,
   "metadata": {},
   "outputs": [],
   "source": [
    "import pandas as pd\n",
    "import os\n",
    "\n",
    "\n",
    "REPORT_DIR = \"../../reports\"\n",
    "report_file = f'{REPORT_DIR}/2019-11-01-run_classifiers-50k-report-merged.csv'\n",
    "\n",
    "report = pd.read_csv(report_file)\n",
    "\n",
    "for file in report.model_file:\n",
    "    fixed_file = f'../{file}'\n",
    "    if not os.path.exists(fixed_file):\n",
    "        print(f'{fixed_file} missing')"
   ]
  },
  {
   "cell_type": "code",
   "execution_count": null,
   "metadata": {},
   "outputs": [],
   "source": []
  }
 ],
 "metadata": {
  "kernelspec": {
   "display_name": "Python 3",
   "language": "python",
   "name": "python3"
  },
  "language_info": {
   "codemirror_mode": {
    "name": "ipython",
    "version": 3
   },
   "file_extension": ".py",
   "mimetype": "text/x-python",
   "name": "python",
   "nbconvert_exporter": "python",
   "pygments_lexer": "ipython3",
   "version": "3.7.5"
  }
 },
 "nbformat": 4,
 "nbformat_minor": 4
}
