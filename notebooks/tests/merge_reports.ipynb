{
 "cells": [
  {
   "cell_type": "code",
   "execution_count": 2,
   "metadata": {},
   "outputs": [],
   "source": [
    "import pandas as pd\n",
    "\n",
    "REPORT_DIR=\"../../reports\"\n",
    "report1=f'{REPORT_DIR}/2019-11-01-run_classifiers-50k-report.csv'\n",
    "report2=f'{REPORT_DIR}/2019-11-01-run_classifiers-50k-report copy.csv'\n",
    "report_out=f'{REPORT_DIR}/2019-11-01-run_classifiers-50k-report-merged.csv'\n",
    "\n",
    "r1 = pd.read_csv(report1)\n",
    "r2 = pd.read_csv(report2)\n",
    "\n",
    "r_new = r2.append(r1, ignore_index=True)\n",
    "r_new.to_csv(report_out, index=False)"
   ]
  },
  {
   "cell_type": "code",
   "execution_count": null,
   "metadata": {},
   "outputs": [],
   "source": []
  }
 ],
 "metadata": {
  "kernelspec": {
   "display_name": "Python 3",
   "language": "python",
   "name": "python3"
  },
  "language_info": {
   "codemirror_mode": {
    "name": "ipython",
    "version": 3
   },
   "file_extension": ".py",
   "mimetype": "text/x-python",
   "name": "python",
   "nbconvert_exporter": "python",
   "pygments_lexer": "ipython3",
   "version": "3.7.5"
  }
 },
 "nbformat": 4,
 "nbformat_minor": 4
}
