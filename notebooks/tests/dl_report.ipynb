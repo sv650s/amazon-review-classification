{
 "cells": [
  {
   "cell_type": "markdown",
   "metadata": {},
   "source": [
    "# DL report"
   ]
  },
  {
   "cell_type": "code",
   "execution_count": 2,
   "metadata": {},
   "outputs": [],
   "source": [
    "import sys\n",
    "sys.path.append('../..')\n",
    "\n",
    "import pandas as pd\n",
    "import util.report_util as ru"
   ]
  },
  {
   "cell_type": "code",
   "execution_count": 4,
   "metadata": {},
   "outputs": [
    {
     "data": {
      "text/html": [
       "<div>\n",
       "<style scoped>\n",
       "    .dataframe tbody tr th:only-of-type {\n",
       "        vertical-align: middle;\n",
       "    }\n",
       "\n",
       "    .dataframe tbody tr th {\n",
       "        vertical-align: top;\n",
       "    }\n",
       "\n",
       "    .dataframe thead th {\n",
       "        text-align: right;\n",
       "    }\n",
       "</style>\n",
       "<table border=\"1\" class=\"dataframe\">\n",
       "  <thead>\n",
       "    <tr style=\"text-align: right;\">\n",
       "      <th></th>\n",
       "      <th>sample_size</th>\n",
       "      <th>status_date</th>\n",
       "      <th>accuracy</th>\n",
       "      <th>eval_metric</th>\n",
       "      <th>environment</th>\n",
       "    </tr>\n",
       "  </thead>\n",
       "  <tbody>\n",
       "    <tr>\n",
       "      <th>0</th>\n",
       "      <td>8978916.0</td>\n",
       "      <td>2020-05-17 17:12:56</td>\n",
       "      <td>0.384615</td>\n",
       "      <td>0.219373</td>\n",
       "      <td>paperspace</td>\n",
       "    </tr>\n",
       "  </tbody>\n",
       "</table>\n",
       "</div>"
      ],
      "text/plain": [
       "   sample_size          status_date  accuracy  eval_metric environment\n",
       "0    8978916.0  2020-05-17 17:12:56  0.384615     0.219373  paperspace"
      ]
     },
     "execution_count": 4,
     "metadata": {},
     "output_type": "execute_result"
    }
   ],
   "source": [
    "REPORT_DIR = '../../reports'\n",
    "# REPORT_FILE = f'{REPORT_DIR}/paperspace-LSTMB128-1x128-dr0-rdr0-batch128-lr01-glove_with_stop_nonlemmatized-sampling_none-review_body-report.csv'\n",
    "report = ru.load_dnn_report(REPORT_DIR, \n",
    "                            'paperspace-LSTMB128-1x128-dr0-rdr0-batch128-lr01-glove_with_stop_nonlemmatized-sampling_none-review_body-report.csv',\n",
    "                           convert_format = True)\n",
    "report[[\"sample_size\", \"status_date\", \"accuracy\", \"eval_metric\", \"environment\"]]"
   ]
  },
  {
   "cell_type": "code",
   "execution_count": 5,
   "metadata": {},
   "outputs": [
    {
     "data": {
      "text/html": [
       "<div>\n",
       "<style scoped>\n",
       "    .dataframe tbody tr th:only-of-type {\n",
       "        vertical-align: middle;\n",
       "    }\n",
       "\n",
       "    .dataframe tbody tr th {\n",
       "        vertical-align: top;\n",
       "    }\n",
       "\n",
       "    .dataframe thead th {\n",
       "        text-align: right;\n",
       "    }\n",
       "</style>\n",
       "<table border=\"1\" class=\"dataframe\">\n",
       "  <thead>\n",
       "    <tr style=\"text-align: right;\">\n",
       "      <th></th>\n",
       "      <th>sample_size</th>\n",
       "      <th>status_date</th>\n",
       "      <th>accuracy</th>\n",
       "      <th>eval_metric</th>\n",
       "      <th>environment</th>\n",
       "    </tr>\n",
       "  </thead>\n",
       "  <tbody>\n",
       "    <tr>\n",
       "      <th>0</th>\n",
       "      <td>498831.0</td>\n",
       "      <td>2020-05-27 07:10:31</td>\n",
       "      <td>0.643046</td>\n",
       "      <td>0.536169</td>\n",
       "      <td>6.9.4.4-LSTMB128_dr0_rdr0_batch128_lr01-GloVe_...</td>\n",
       "    </tr>\n",
       "    <tr>\n",
       "      <th>1</th>\n",
       "      <td>997682.0</td>\n",
       "      <td>2020-05-27 07:24:10</td>\n",
       "      <td>0.641365</td>\n",
       "      <td>0.536902</td>\n",
       "      <td>6.9.4.5-LSTMB128_dr0_rdr0_batch128_lr01-GloVe_...</td>\n",
       "    </tr>\n",
       "    <tr>\n",
       "      <th>2</th>\n",
       "      <td>2244642.0</td>\n",
       "      <td>2020-05-26 15:00:11</td>\n",
       "      <td>0.647055</td>\n",
       "      <td>0.547053</td>\n",
       "      <td>6.9.4.6-LSTMB128_dr0_rdr0_batch128_lr01-GloVe_...</td>\n",
       "    </tr>\n",
       "  </tbody>\n",
       "</table>\n",
       "</div>"
      ],
      "text/plain": [
       "   sample_size          status_date  accuracy  eval_metric  \\\n",
       "0     498831.0  2020-05-27 07:10:31  0.643046     0.536169   \n",
       "1     997682.0  2020-05-27 07:24:10  0.641365     0.536902   \n",
       "2    2244642.0  2020-05-26 15:00:11  0.647055     0.547053   \n",
       "\n",
       "                                         environment  \n",
       "0  6.9.4.4-LSTMB128_dr0_rdr0_batch128_lr01-GloVe_...  \n",
       "1  6.9.4.5-LSTMB128_dr0_rdr0_batch128_lr01-GloVe_...  \n",
       "2  6.9.4.6-LSTMB128_dr0_rdr0_batch128_lr01-GloVe_...  "
      ]
     },
     "execution_count": 5,
     "metadata": {},
     "output_type": "execute_result"
    }
   ],
   "source": [
    "report = ru.load_dnn_report(REPORT_DIR, \n",
    "                            'LSTMB128_dr0_rdr0_batch128_lr01-glove_with_stop_nonlemmatized-dl_prototype-report.csv',\n",
    "                           convert_format = True)\n",
    "report[[\"sample_size\", \"status_date\", \"accuracy\", \"eval_metric\", \"environment\"]]\n"
   ]
  },
  {
   "cell_type": "code",
   "execution_count": null,
   "metadata": {},
   "outputs": [],
   "source": []
  }
 ],
 "metadata": {
  "kernelspec": {
   "display_name": "Python 3",
   "language": "python",
   "name": "python3"
  },
  "language_info": {
   "codemirror_mode": {
    "name": "ipython",
    "version": 3
   },
   "file_extension": ".py",
   "mimetype": "text/x-python",
   "name": "python",
   "nbconvert_exporter": "python",
   "pygments_lexer": "ipython3",
   "version": "3.7.6"
  }
 },
 "nbformat": 4,
 "nbformat_minor": 4
}
