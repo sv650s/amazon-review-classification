{
 "cells": [
  {
   "cell_type": "markdown",
   "metadata": {},
   "source": [
    "# Create Misclassified Spreadsheet With Most Common Mistakes\n",
    "\n",
    "We will take 100 of these and look at them manually\n",
    "\n",
    "* 5 misclassified as 4\n",
    "* 4 misclassified as 5\n",
    "* 3 misclassified as 1, 4, or 5\n",
    "* 2 misclassified as 1 or 3\n",
    "* 1 misclassified as 3\n"
   ]
  },
  {
   "cell_type": "code",
   "execution_count": 1,
   "metadata": {},
   "outputs": [],
   "source": [
    "import pandas as pd\n",
    "import numpy as np\n",
    "\n",
    "NUM_SAMPLES = 100\n",
    "\n",
    "REPORT_FILE = '../../reports/5.1-LSTM-misclassification-analysis-results_comprehensive.csv'"
   ]
  },
  {
   "cell_type": "code",
   "execution_count": 2,
   "metadata": {},
   "outputs": [
    {
     "data": {
      "text/html": [
       "<div>\n",
       "<style scoped>\n",
       "    .dataframe tbody tr th:only-of-type {\n",
       "        vertical-align: middle;\n",
       "    }\n",
       "\n",
       "    .dataframe tbody tr th {\n",
       "        vertical-align: top;\n",
       "    }\n",
       "\n",
       "    .dataframe thead th {\n",
       "        text-align: right;\n",
       "    }\n",
       "</style>\n",
       "<table border=\"1\" class=\"dataframe\">\n",
       "  <thead>\n",
       "    <tr style=\"text-align: right;\">\n",
       "      <th></th>\n",
       "      <th>index_orig</th>\n",
       "      <th>true_all</th>\n",
       "      <th>predict_15</th>\n",
       "      <th>predict_145</th>\n",
       "      <th>predict_1345</th>\n",
       "      <th>predict_all</th>\n",
       "      <th>review_body</th>\n",
       "      <th>out_of_vocab</th>\n",
       "      <th>review_body_train</th>\n",
       "    </tr>\n",
       "  </thead>\n",
       "  <tbody>\n",
       "    <tr>\n",
       "      <th>0</th>\n",
       "      <td>567377</td>\n",
       "      <td>5.0</td>\n",
       "      <td>5.0</td>\n",
       "      <td>NaN</td>\n",
       "      <td>NaN</td>\n",
       "      <td>5.0</td>\n",
       "      <td>i love these connectors they take a lot of the...</td>\n",
       "      <td>NaN</td>\n",
       "      <td>i love these connectors they take a lot of the...</td>\n",
       "    </tr>\n",
       "    <tr>\n",
       "      <th>1</th>\n",
       "      <td>494240</td>\n",
       "      <td>5.0</td>\n",
       "      <td>5.0</td>\n",
       "      <td>NaN</td>\n",
       "      <td>NaN</td>\n",
       "      <td>5.0</td>\n",
       "      <td>fast shipping great price</td>\n",
       "      <td>NaN</td>\n",
       "      <td>fast shipping great price</td>\n",
       "    </tr>\n",
       "    <tr>\n",
       "      <th>2</th>\n",
       "      <td>309913</td>\n",
       "      <td>1.0</td>\n",
       "      <td>1.0</td>\n",
       "      <td>NaN</td>\n",
       "      <td>1.0</td>\n",
       "      <td>1.0</td>\n",
       "      <td>did not fit the phone</td>\n",
       "      <td>NaN</td>\n",
       "      <td>did not fit the phone</td>\n",
       "    </tr>\n",
       "    <tr>\n",
       "      <th>3</th>\n",
       "      <td>333089</td>\n",
       "      <td>5.0</td>\n",
       "      <td>5.0</td>\n",
       "      <td>5.0</td>\n",
       "      <td>NaN</td>\n",
       "      <td>5.0</td>\n",
       "      <td>i love this case compact and efficient nice le...</td>\n",
       "      <td>NaN</td>\n",
       "      <td>i love this case compact and efficient nice le...</td>\n",
       "    </tr>\n",
       "    <tr>\n",
       "      <th>4</th>\n",
       "      <td>450253</td>\n",
       "      <td>5.0</td>\n",
       "      <td>5.0</td>\n",
       "      <td>NaN</td>\n",
       "      <td>NaN</td>\n",
       "      <td>5.0</td>\n",
       "      <td>future project</td>\n",
       "      <td>NaN</td>\n",
       "      <td>future project</td>\n",
       "    </tr>\n",
       "  </tbody>\n",
       "</table>\n",
       "</div>"
      ],
      "text/plain": [
       "   index_orig  true_all  predict_15  predict_145  predict_1345  predict_all  \\\n",
       "0      567377       5.0         5.0          NaN           NaN          5.0   \n",
       "1      494240       5.0         5.0          NaN           NaN          5.0   \n",
       "2      309913       1.0         1.0          NaN           1.0          1.0   \n",
       "3      333089       5.0         5.0          5.0           NaN          5.0   \n",
       "4      450253       5.0         5.0          NaN           NaN          5.0   \n",
       "\n",
       "                                         review_body out_of_vocab  \\\n",
       "0  i love these connectors they take a lot of the...          NaN   \n",
       "1                          fast shipping great price          NaN   \n",
       "2                              did not fit the phone          NaN   \n",
       "3  i love this case compact and efficient nice le...          NaN   \n",
       "4                                     future project          NaN   \n",
       "\n",
       "                                   review_body_train  \n",
       "0  i love these connectors they take a lot of the...  \n",
       "1                          fast shipping great price  \n",
       "2                              did not fit the phone  \n",
       "3  i love this case compact and efficient nice le...  \n",
       "4                                     future project  "
      ]
     },
     "execution_count": 2,
     "metadata": {},
     "output_type": "execute_result"
    }
   ],
   "source": [
    "report = pd.read_csv(REPORT_FILE)\n",
    "\n",
    "report = report[[\"index_orig\", \"true_all\", \"predict_15\", \"predict_145\", \"predict_1345\", \"predict_all\", \"review_body\", \"out_of_vocab\", \"review_body_train\"]]\n",
    "report.head()\n"
   ]
  },
  {
   "cell_type": "code",
   "execution_count": 3,
   "metadata": {},
   "outputs": [
    {
     "name": "stdout",
     "output_type": "stream",
     "text": [
      "5-star shape: (1884, 9)\n",
      "4-star shape: (9887, 9)\n",
      "3-star shape: (2768, 9)\n",
      "2-star shape: (12180, 9)\n",
      "1-star shape: (493, 9)\n"
     ]
    }
   ],
   "source": [
    "mis_5 = report[(report.true_all == 5) &\n",
    "                   ((report.predict_145 == 4) | (report.predict_1345 == 4)) &\n",
    "              (report.predict_all != 5)]\n",
    "print(f'5-star shape: {mis_5.shape}')\n",
    "\n",
    "mis_4 = report[(report.true_all == 4) &\n",
    "                   ((report.predict_145 == 5) | (report.predict_1345 == 5)) &\n",
    "              (report.predict_all != 4)]\n",
    "print(f'4-star shape: {mis_4.shape}')\n",
    "\n",
    "mis_3 = report[(report.true_all == 3) &\n",
    "                      (report.predict_1345.isin([1, 4, 5])) & (report.predict_all != 3)]\n",
    "print(f'3-star shape: {mis_3.shape}')\n",
    "\n",
    "mis_2 = report[(report.true_all == 2) & \n",
    "               ((report.predict_all == 1) | (report.predict_all == 3)) &\n",
    "              (report.predict_all != 2)]\n",
    "print(f'2-star shape: {mis_2.shape}')\n",
    "\n",
    "mis_1 = report[(report.true_all == 1) & \n",
    "                      (report.predict_1345 == 3) & (report.predict_all != 1)]\n",
    "print(f'1-star shape: {mis_1.shape}')"
   ]
  },
  {
   "cell_type": "code",
   "execution_count": 4,
   "metadata": {},
   "outputs": [],
   "source": [
    "OUTFILE = '../../reports/lstm-misclassified.xlsx'\n",
    "\n",
    "with pd.ExcelWriter(OUTFILE) as writer:  \n",
    "    mis_1.sample(NUM_SAMPLES, random_state=1).to_excel(writer, sheet_name='1-star', index=False)\n",
    "    mis_2.sample(NUM_SAMPLES, random_state=1).to_excel(writer, sheet_name='2-star', index=False)\n",
    "    mis_3.sample(NUM_SAMPLES, random_state=1).to_excel(writer, sheet_name='3-star', index=False)\n",
    "    mis_4.sample(NUM_SAMPLES, random_state=1).to_excel(writer, sheet_name='4-star', index=False)\n",
    "    mis_5.sample(NUM_SAMPLES, random_state=1).to_excel(writer, sheet_name='5-star', index=False)"
   ]
  },
  {
   "cell_type": "code",
   "execution_count": null,
   "metadata": {},
   "outputs": [],
   "source": []
  }
 ],
 "metadata": {
  "kernelspec": {
   "display_name": "Python 3",
   "language": "python",
   "name": "python3"
  },
  "language_info": {
   "codemirror_mode": {
    "name": "ipython",
    "version": 3
   },
   "file_extension": ".py",
   "mimetype": "text/x-python",
   "name": "python",
   "nbconvert_exporter": "python",
   "pygments_lexer": "ipython3",
   "version": "3.7.6"
  }
 },
 "nbformat": 4,
 "nbformat_minor": 4
}
