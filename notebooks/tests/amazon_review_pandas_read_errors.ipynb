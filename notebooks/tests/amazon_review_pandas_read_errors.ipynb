{
 "cells": [
  {
   "cell_type": "markdown",
   "metadata": {},
   "source": [
    "# Amazon Review Data Exploration\n",
    "\n",
    "https://s3.amazonaws.com/amazon-reviews-pds/tsv/index.txt\n",
    "\n",
    "SAMPLE CONTENT:\n",
    "https://s3.amazonaws.com/amazon-reviews-pds/tsv/sample_us.tsv\n",
    "https://s3.amazonaws.com/amazon-reviews-pds/tsv/sample_fr.tsv\n",
    "\n",
    "|DATA COLUMNS:| Description |\n",
    "|-------------|--------|\n",
    "|marketplace       | 2 letter country code of the marketplace where the review was written. |\n",
    "|customer_id       | Random identifier that can be used to aggregate reviews written by a single author. |\n",
    "|review_id         | The unique ID of the review. |\n",
    "|product_id        | The unique Product ID the review pertains to. In the multilingual dataset the reviews                    for the same product in different countries can be grouped by the same product_id. |\n",
    "|product_parent    | Random identifier that can be used to aggregate reviews for the same product. |\n",
    "|product_title     | Title of the product. |\n",
    "|product_category  | Broad product category that can be used to group reviews (also used to group the dataset into coherent parts). |\n",
    "|star_rating       | The 1-5 star rating of the review. |\n",
    "|helpful_votes     | Number of helpful votes. |\n",
    "|total_votes       | Number of total votes the review received. |\n",
    "|vine              | Review was written as part of the Vine program. |\n",
    "|verified_purchase | The review is on a verified purchase. |\n",
    "|review_headline   | The title of the review. |\n",
    "|review_body       | The review text. |\n",
    "|review_date       | The date the review was written. |\n",
    "\n",
    "DATA FORMAT\n",
    "Tab ('\\t') separated text file, without quote or escape characters.\n",
    "First line in each file is header; 1 line corresponds to 1 record.\n"
   ]
  },
  {
   "cell_type": "code",
   "execution_count": 1,
   "metadata": {},
   "outputs": [],
   "source": [
    "import pandas as pd\n",
    "from pandas import DataFrame\n",
    "from pandas import Series\n",
    "import numpy as np\n",
    "import matplotlib.pyplot as plt\n",
    "%matplotlib inline\n",
    "\n",
    "\n",
    "# global variables\n",
    "COLUMNS_TO_DROP=[\"marketplace\", \"vine\", \"verified_purchase\"]\n",
    "USE_PANDAS=True\n",
    "\n",
    "\n",
    "# file with mixed lines where some pandas will grab multiple lines but not others\n",
    "DATA_FILE=\"dataset/amazon_reviews/amazon_reviews_us_Wireless_v1_00-error.tsv\"\n",
    "\n"
   ]
  },
  {
   "cell_type": "markdown",
   "metadata": {},
   "source": [
    "# Read using pandas\n",
    "\n",
    "## This doesn't seem to be working if you look down later for analysis for wc from headlines - lines that are saying that there are 22 columns it's not reading new lines properly even though I checked in vi and they have the right number of columns"
   ]
  },
  {
   "cell_type": "code",
   "execution_count": 3,
   "metadata": {},
   "outputs": [
    {
     "name": "stdout",
     "output_type": "stream",
     "text": [
      "<class 'pandas.core.frame.DataFrame'>\n",
      "RangeIndex: 27 entries, 0 to 26\n",
      "Data columns (total 15 columns):\n",
      "marketplace          27 non-null object\n",
      "customer_id          27 non-null int64\n",
      "review_id            27 non-null object\n",
      "product_id           27 non-null object\n",
      "product_parent       27 non-null int64\n",
      "product_title        27 non-null object\n",
      "product_category     27 non-null object\n",
      "star_rating          27 non-null int64\n",
      "helpful_votes        27 non-null int64\n",
      "total_votes          27 non-null int64\n",
      "vine                 27 non-null object\n",
      "verified_purchase    27 non-null object\n",
      "review_headline      27 non-null object\n",
      "review_body          26 non-null object\n",
      "review_date          27 non-null datetime64[ns]\n",
      "dtypes: datetime64[ns](1), int64(5), object(9)\n",
      "memory usage: 3.2+ KB\n"
     ]
    }
   ],
   "source": [
    "\n",
    "if USE_PANDAS == True:\n",
    "\n",
    "    # pandas is doing something weird. The lines that says have bad number of columns actually have the right columns???\n",
    "    reviews = pd.read_csv(DATA_FILE, sep=\"\\t\", \n",
    "                             parse_dates=[\"review_date\"], \n",
    "                             warn_bad_lines=True, \n",
    "                             error_bad_lines=False)\n",
    "    reviews.info()"
   ]
  },
  {
   "cell_type": "markdown",
   "metadata": {},
   "source": [
    "# Try reading line by line and see if this will be better"
   ]
  },
  {
   "cell_type": "code",
   "execution_count": 4,
   "metadata": {},
   "outputs": [
    {
     "name": "stdout",
     "output_type": "stream",
     "text": [
      "<class 'pandas.core.frame.DataFrame'>\n",
      "RangeIndex: 27 entries, 0 to 26\n",
      "Data columns (total 15 columns):\n",
      "marketplace          27 non-null object\n",
      "customer_id          27 non-null int64\n",
      "review_id            27 non-null object\n",
      "product_id           27 non-null object\n",
      "product_parent       27 non-null int64\n",
      "product_title        27 non-null object\n",
      "product_category     27 non-null object\n",
      "star_rating          27 non-null int64\n",
      "helpful_votes        27 non-null int64\n",
      "total_votes          27 non-null int64\n",
      "vine                 27 non-null object\n",
      "verified_purchase    27 non-null object\n",
      "review_headline      27 non-null object\n",
      "review_body          26 non-null object\n",
      "review_date          27 non-null datetime64[ns]\n",
      "dtypes: datetime64[ns](1), int64(5), object(9)\n",
      "memory usage: 3.2+ KB\n"
     ]
    }
   ],
   "source": [
    "# not quite ready\n",
    "if USE_PANDAS == False:\n",
    "\n",
    "    columns = [\"marketplace\", \"customer_id\", \"review_id\", \"product_id\",\n",
    "              \"product_parent\", \"product_title\", \"product_category\", \n",
    "              \"star_rating\", \"helpful_votes\", \"total_votes\", \"vine\",\n",
    "              \"verified_purchase\", \"review_headline\", \"review_body\",\n",
    "              \"review_date\"]\n",
    "    reviews = pd.DataFrame(columns = columns)\n",
    "    count = 0\n",
    "    with open(DATA_FILE, \"r\") as file:\n",
    "        for line in file:\n",
    "            if len(line) > 0:\n",
    "                line = line.rstrip(\"\\n\")\n",
    "                # skip the header\n",
    "                if count > 0:\n",
    "                    splitted = line.split(\"\\t\")\n",
    "#                     print(splitted)\n",
    "                    reviews = reviews.append(pd.Series(splitted, index=columns), \n",
    "                                   ignore_index=True)\n",
    "                count += 1\n",
    "                if count % 10000 == 0:\n",
    "                    print(f\"processed {count}\")\n",
    "#                 if count == 3:\n",
    "#                     break\n",
    "\n",
    "    print(len(reviews))\n",
    "\n",
    "    \n",
    "reviews.info()"
   ]
  },
  {
   "cell_type": "code",
   "execution_count": 5,
   "metadata": {},
   "outputs": [
    {
     "name": "stdout",
     "output_type": "stream",
     "text": [
      "<class 'pandas.core.frame.DataFrame'>\n",
      "RangeIndex: 27 entries, 0 to 26\n",
      "Data columns (total 15 columns):\n",
      "marketplace          27 non-null object\n",
      "customer_id          27 non-null int64\n",
      "review_id            27 non-null object\n",
      "product_id           27 non-null object\n",
      "product_parent       27 non-null int64\n",
      "product_title        27 non-null object\n",
      "product_category     27 non-null object\n",
      "star_rating          27 non-null int64\n",
      "helpful_votes        27 non-null int64\n",
      "total_votes          27 non-null int64\n",
      "vine                 27 non-null object\n",
      "verified_purchase    27 non-null object\n",
      "review_headline      27 non-null object\n",
      "review_body          26 non-null object\n",
      "review_date          27 non-null datetime64[ns]\n",
      "dtypes: datetime64[ns](1), int64(5), object(9)\n",
      "memory usage: 3.2+ KB\n"
     ]
    }
   ],
   "source": [
    "# set datatypes for the columns\n",
    "if USE_PANDAS == False:\n",
    "    reviews = reviews.astype({\n",
    "        \"review_date\": np.datetime64,\n",
    "        \"star_rating\": np.int64,\n",
    "        \"helpful_votes\": np.int64,\n",
    "        \"total_votes\": np.int64\n",
    "    })\n",
    "reviews.info()"
   ]
  },
  {
   "cell_type": "code",
   "execution_count": 6,
   "metadata": {},
   "outputs": [
    {
     "name": "stdout",
     "output_type": "stream",
     "text": [
      "<class 'pandas.core.frame.DataFrame'>\n",
      "Int64Index: 26 entries, 0 to 26\n",
      "Data columns (total 12 columns):\n",
      "customer_id         26 non-null int64\n",
      "review_id           26 non-null object\n",
      "product_id          26 non-null object\n",
      "product_parent      26 non-null int64\n",
      "product_title       26 non-null object\n",
      "product_category    26 non-null object\n",
      "star_rating         26 non-null int64\n",
      "helpful_votes       26 non-null int64\n",
      "total_votes         26 non-null int64\n",
      "review_headline     26 non-null object\n",
      "review_body         26 non-null object\n",
      "review_date         26 non-null datetime64[ns]\n",
      "dtypes: datetime64[ns](1), int64(5), object(6)\n",
      "memory usage: 2.6+ KB\n"
     ]
    }
   ],
   "source": [
    "# looks like sometimes we have reviews with no body, no headline, and no review dates\n",
    "# let's drop those rows with missing data\n",
    "# also drop the following columns since they will always be the same\n",
    "clean_df = reviews.dropna().drop(COLUMNS_TO_DROP, axis = 1)\n",
    "clean_df.info()"
   ]
  },
  {
   "cell_type": "markdown",
   "metadata": {},
   "source": [
    "# Review Stars Distribution"
   ]
  },
  {
   "cell_type": "code",
   "execution_count": 7,
   "metadata": {},
   "outputs": [
    {
     "data": {
      "text/plain": [
       "<matplotlib.axes._subplots.AxesSubplot at 0x11d9ad1d0>"
      ]
     },
     "execution_count": 7,
     "metadata": {},
     "output_type": "execute_result"
    },
    {
     "data": {
      "image/png": "[encoded data removed]",
      "text/plain": [
       "<Figure size 432x288 with 1 Axes>"
      ]
     },
     "metadata": {
      "needs_background": "light"
     },
     "output_type": "display_data"
    }
   ],
   "source": [
    "# let's look at distribution of stars\n",
    "clean_df.groupby(\"star_rating\").size().plot(kind='bar')\n",
    "# reviews lean heavily towards 5-stars"
   ]
  },
  {
   "cell_type": "code",
   "execution_count": 8,
   "metadata": {},
   "outputs": [
    {
     "name": "stdout",
     "output_type": "stream",
     "text": [
      "19.0 percent (5) has votes\n",
      "19.0 percent (5) has helpful votes\n"
     ]
    },
    {
     "data": {
      "text/html": [
       "<div>\n",
       "<style scoped>\n",
       "    .dataframe tbody tr th:only-of-type {\n",
       "        vertical-align: middle;\n",
       "    }\n",
       "\n",
       "    .dataframe tbody tr th {\n",
       "        vertical-align: top;\n",
       "    }\n",
       "\n",
       "    .dataframe thead th {\n",
       "        text-align: right;\n",
       "    }\n",
       "</style>\n",
       "<table border=\"1\" class=\"dataframe\">\n",
       "  <thead>\n",
       "    <tr style=\"text-align: right;\">\n",
       "      <th></th>\n",
       "      <th>customer_id</th>\n",
       "      <th>product_parent</th>\n",
       "      <th>star_rating</th>\n",
       "      <th>helpful_votes</th>\n",
       "      <th>total_votes</th>\n",
       "    </tr>\n",
       "  </thead>\n",
       "  <tbody>\n",
       "    <tr>\n",
       "      <th>count</th>\n",
       "      <td>2.600000e+01</td>\n",
       "      <td>2.600000e+01</td>\n",
       "      <td>26.000000</td>\n",
       "      <td>26.000000</td>\n",
       "      <td>26.000000</td>\n",
       "    </tr>\n",
       "    <tr>\n",
       "      <th>mean</th>\n",
       "      <td>2.486540e+07</td>\n",
       "      <td>4.186121e+08</td>\n",
       "      <td>4.538462</td>\n",
       "      <td>0.346154</td>\n",
       "      <td>0.346154</td>\n",
       "    </tr>\n",
       "    <tr>\n",
       "      <th>std</th>\n",
       "      <td>1.695008e+07</td>\n",
       "      <td>3.223169e+08</td>\n",
       "      <td>1.028816</td>\n",
       "      <td>0.797110</td>\n",
       "      <td>0.797110</td>\n",
       "    </tr>\n",
       "    <tr>\n",
       "      <th>min</th>\n",
       "      <td>1.005773e+06</td>\n",
       "      <td>2.163301e+07</td>\n",
       "      <td>1.000000</td>\n",
       "      <td>0.000000</td>\n",
       "      <td>0.000000</td>\n",
       "    </tr>\n",
       "    <tr>\n",
       "      <th>25%</th>\n",
       "      <td>1.178610e+07</td>\n",
       "      <td>8.713150e+07</td>\n",
       "      <td>5.000000</td>\n",
       "      <td>0.000000</td>\n",
       "      <td>0.000000</td>\n",
       "    </tr>\n",
       "    <tr>\n",
       "      <th>50%</th>\n",
       "      <td>2.214886e+07</td>\n",
       "      <td>4.598929e+08</td>\n",
       "      <td>5.000000</td>\n",
       "      <td>0.000000</td>\n",
       "      <td>0.000000</td>\n",
       "    </tr>\n",
       "    <tr>\n",
       "      <th>75%</th>\n",
       "      <td>3.801677e+07</td>\n",
       "      <td>7.232669e+08</td>\n",
       "      <td>5.000000</td>\n",
       "      <td>0.000000</td>\n",
       "      <td>0.000000</td>\n",
       "    </tr>\n",
       "    <tr>\n",
       "      <th>max</th>\n",
       "      <td>5.288620e+07</td>\n",
       "      <td>9.867828e+08</td>\n",
       "      <td>5.000000</td>\n",
       "      <td>3.000000</td>\n",
       "      <td>3.000000</td>\n",
       "    </tr>\n",
       "  </tbody>\n",
       "</table>\n",
       "</div>"
      ],
      "text/plain": [
       "        customer_id  product_parent  star_rating  helpful_votes  total_votes\n",
       "count  2.600000e+01    2.600000e+01    26.000000      26.000000    26.000000\n",
       "mean   2.486540e+07    4.186121e+08     4.538462       0.346154     0.346154\n",
       "std    1.695008e+07    3.223169e+08     1.028816       0.797110     0.797110\n",
       "min    1.005773e+06    2.163301e+07     1.000000       0.000000     0.000000\n",
       "25%    1.178610e+07    8.713150e+07     5.000000       0.000000     0.000000\n",
       "50%    2.214886e+07    4.598929e+08     5.000000       0.000000     0.000000\n",
       "75%    3.801677e+07    7.232669e+08     5.000000       0.000000     0.000000\n",
       "max    5.288620e+07    9.867828e+08     5.000000       3.000000     3.000000"
      ]
     },
     "execution_count": 8,
     "metadata": {},
     "output_type": "execute_result"
    }
   ],
   "source": [
    "# let's look at what percentage of reviews have votes\n",
    "print(f\"{round(len(clean_df[(clean_df.total_votes > 0)]) / len(clean_df), 2)* 100} percent \"\\\n",
    "      f\"({len(clean_df[(clean_df.total_votes > 0)])}) has votes\")\n",
    "# let's look at what percentage of reviews have votes\n",
    "print(f\"{round(len(clean_df[(clean_df.helpful_votes > 0)]) / len(clean_df), 2)* 100} percent \"\\\n",
    "            f\"({len(clean_df[(clean_df.helpful_votes > 0)])}) has helpful votes\")\n",
    "\n",
    "\n",
    "# let's look at distribution of total_votes\n",
    "clean_df.describe()\n",
    "# looks like most do not have any votes"
   ]
  },
  {
   "cell_type": "markdown",
   "metadata": {},
   "source": [
    "# Review Headlines"
   ]
  },
  {
   "cell_type": "markdown",
   "metadata": {},
   "source": [
    "Looks like the most frequent number of words in headline is 2\n",
    "\n",
    "50% have 2700 words or less in headlines"
   ]
  },
  {
   "cell_type": "code",
   "execution_count": 9,
   "metadata": {},
   "outputs": [
    {
     "name": "stdout",
     "output_type": "stream",
     "text": [
      "count    10.000000\n",
      "mean      2.600000\n",
      "std       3.747592\n",
      "min       1.000000\n",
      "25%       1.000000\n",
      "50%       1.000000\n",
      "75%       2.500000\n",
      "max      13.000000\n",
      "dtype: float64\n"
     ]
    },
    {
     "data": {
      "text/plain": [
       "<matplotlib.axes._subplots.AxesSubplot at 0x11d959ef0>"
      ]
     },
     "execution_count": 9,
     "metadata": {},
     "output_type": "execute_result"
    },
    {
     "data": {
      "image/png": "[encoded data removed]",
      "text/plain": [
       "<Figure size 432x288 with 1 Axes>"
      ]
     },
     "metadata": {
      "needs_background": "light"
     },
     "output_type": "display_data"
    }
   ],
   "source": [
    "# let's look at wordcount for headlines\n",
    "df = clean_df\n",
    "# this doesn't work\n",
    "# df = df.apply(review_headline_wc=lambda x: len(x[\"review_headline\"].str.split()))\n",
    "# this doesn't work either - seems to be applying split across all headlines\n",
    "# df[\"review_headline_wc\"] = df[\"review_headline\"].str.split().count()\n",
    "\n",
    "\n",
    "df[\"review_headline_wc\"] = df[\"review_headline\"].apply(lambda x: len(x.split()))\n",
    "\n",
    "grouped = df.groupby(\"review_headline_wc\")\n",
    "print(grouped.size().describe())\n",
    "\n",
    "grouped.size().plot(kind='bar')"
   ]
  },
  {
   "cell_type": "code",
   "execution_count": 10,
   "metadata": {},
   "outputs": [
    {
     "data": {
      "text/plain": [
       "review_headline_wc\n",
       "2       13\n",
       "3        3\n",
       "4        3\n",
       "5        1\n",
       "6        1\n",
       "7        1\n",
       "8        1\n",
       "11       1\n",
       "19       1\n",
       "3526     1\n",
       "dtype: int64"
      ]
     },
     "execution_count": 10,
     "metadata": {},
     "output_type": "execute_result"
    }
   ],
   "source": [
    "grouped.size()"
   ]
  },
  {
   "cell_type": "markdown",
   "metadata": {},
   "source": [
    "## Interesting.. If you use Pandas, the ones with largest wc grabbed multiple rows"
   ]
  },
  {
   "cell_type": "code",
   "execution_count": 11,
   "metadata": {
    "scrolled": false
   },
   "outputs": [
    {
     "name": "stdout",
     "output_type": "stream",
     "text": [
      "1 headline: [5-Star Rating – Was very easy to put on my new Galaxy\t&#34;5-Star Rating – Was very easy to put on my new Galaxy. I mis-aligned the screen protector slightly but it was easy to lift it and correct the alignment. No bubbles or other problems.&#34;\t2015-07-27\n",
      "US\t26952783\tR3O4ERCN3DTXQO\tB00SWQV4JA\t646700147\tMOONCASE Premium PU Leather Slim Flip Bracket Window Case Cover for HTC One M7 Red\tWireless\t5\t0\t0\tN\tY\tFive Stars\tFast shipping, look nicer than the image, fits well to my HTC M7.\t2015-07-27\n",
      "US\t2275966\tR3LHVUEFR2AGAE\tB00IX5YOG0\t963886012\tS5 HSERIES CASES, BUDDIBOX\tWireless\t5\t0\t0\tN\tY\tFive Stars\tGreat protection I can compare to the OtterBox I definitely purchase from this company again\t2015-07-27\n",
      "US\t430034\tR2L43OCW0MIK11\tB00LXL6ZKO\t129044147\tSamsung Galaxy S3 S III Mini Original OEM Battery - Non-Retail Packaging - Black (Discontinued by Manufacturer)\tWireless\t5\t0\t0\tN\tY\tFive Stars\tgood\t2015-07-27\n",
      "US\t45572467\tR2TA0FMHIV7E7N\tB00ESOMFRA\t966614270\tiLLumiShield – Samsung Convoy 3 Screen Protector Japanese Ultra Clear HD Film with Anti-Bubble and Anti-Fingerprint – High Quality (Invisible) LCD Shield – Lifetime Replacement Warranty – [3-Pack] OEM / Retail Packaging (Model(s): SCH-U680)\tWireless\t5\t0\t0\tN\tY\tFive Stars\tthis is good.\t2015-07-27\n",
      "US\t42776726\tR2C6K74Y4XK0PL\tB00M6QODH2\t204681268\tAUKEY Car Charger, Flush Fit Dual Port 4.8A Output for iPhone X / 8 / 7 / Plus, iPad Pro / Air 2 / mini, Samsung Galaxy Note8 / S8 / S8+ and More - Black\tWireless\t5\t0\t0\tN\tY\tGood buy\tExpensive but good\t2015-07-27\n",
      "US\t13117303\tR3UZZQSY96LRM8\tB00IGISUTG\t588881114\tSamsung Galaxy S5 Glass Screen Protector, Tech Armor Premium Ballistic Glass [1-pack]\tWireless\t5\t0\t0\tN\tY\tFive Stars\tWork and look great\t2015-07-27\n",
      "US\t42853782\tR1B69RD6P26P8I\tB001H4W86C\t645869169\tStinger Gauge Reducer 1/0 Gauge Input to 4 Gauge Pin\tWireless\t5\t1\t1\tN\tY\tFive Stars\tWorks great\t2015-07-27\n",
      "US\t12710949\tRCTKF65W8AYYK\tB00CXAKL1S\t170627894\tiLLumiShield - Nokia Lumia 521 Crystal Clear Screen Protectors with Anti-Bubble/Anti-Fingerprint - 3-Pack + Lifetime Replacements\tWireless\t5\t0\t0\tN\tY\tFive Stars\treasonable\t2015-07-27\n",
      "US\t50064417\tR2TINE0JKVLMZZ\tB0111KZGQU\t385131370\tAccmor IPX8 Waterproof Case With Floating Wrist Strap (AC1039)\tWireless\t5\t0\t0\tN\tN\tNice water proof case for smartphones\tNice water proof case for smartphones. I like that I can still use the phone and take pictures with the case on. I always like to take my phone to the beach and pool but was always worried about getting it wet and the sand scratching the phone. Well the Waterproof Case fixes both of those issues. I also like that it is big enough for my Galaxy S6 with the case on it. As a bonus you get a nice arm band to keep from loosing in those fun times like in the ocean, white water rafting, tubing the river, etc. It also keeps the phone floating if you do happen to lose in it the water. I purchased this product for a reduced price to make an honest and unbiased review.<br /><br />I have used this at the beach (not only protects the case from water but also the sand that that can really scratch a phone) at the pool to take pictures underwater (does a pretty good job but don't expect perfect pics) and in the show to listen to my music.<br /><br />Test the fit with the following:<br />Samsung Galaxy S6 with a URBAN ARMOR GEAR Case<br />Samsung Galaxy S4 with slim/medium case<br />Samsung Galaxy S4 Mini with Trident Case Aegis Series<br />iPhone 5c with slim/medium case<br />iPhone 6 with slim case<br /><br />Highly Recommend.\t2015-07-27\n",
      "US\t22346867\tRNMT5FJMAAHLA\tB00VC23A84\t816763521\tGalaxy S6 Edge Case, CellBee [Life Companion] Super Slim Hard Shell Holster Case Combo with Kickstand and Locking Belt Swivel Clip for Galaxy S6 Edge - Retail Packaging - Manufacturer Warranty\tWireless\t5\t0\t0\tN\tY\tVery good price & quality\tFits perfectly & exactly as description.\t2015-07-27\n",
      "US\t22892596\tR18WQZ0LLSHNS3\tB00P060GNK\t407479041\tiXCC 24W/4.8A 2 Port Car Charger, Fast Car Charger Adapter for iPhone 7s 6s Plus, USB Car Charging Port for Galaxy S8+ S7 S6 Edge, iPad Pro Air mini, Note 5, LG, Nexus and More - Black\tWireless\t5\t0\t0\tN\tY\tCharger\tGreat charger! Thanks!\t2015-07-27\n",
      "US\t48206362\tR3R44B46NDDMPE\tB00V3A7ZUO\t342466125\tiPhone 6s Plus / 6 Plus Case, Benuo [Vintage Book Series] [Card Holder] Genuine Leather Case [Ultra Soft], Protective Folio Case Flip Cover with Stand Function for iPhone 6s Plus / 6 Plus 5.5 inch\tWireless\t5\t0\t0\tN\tY\tFive Stars\tWonderful\t2015-07-27\n",
      "US\t14050533\tR3TCUAM4V139Q3\tB00B1M1B3G\t38358752\tWireless Bluetooth Speaker- BLKBOX POP360 Hands Free Bluetooth Speaker With 360 Degree Sound - For iPhone and all other Smart Phones, Tablets and Computers\tWireless\t5\t0\t0\tN\tY\tFive Stars\tgreat product\t2015-07-27\n",
      "US\t21760759\tR6DVXC1X9FH57\tB00FDS2TW6\t407253581\tOEM VERIZON BLACK SHELL CASE BELT CLIP HOLSTER STAND FOR MOTOROLA DROID MAXX XT1080M\tWireless\t5\t0\t0\tN\tY\tFive Stars\tIt was delivered on time and I love the way it is\t2015-07-27\n",
      "US\t52770820\tR2ODW5VXUIW58D\tB004RO3QPQ\t962120936\tCobra ESD7570 9-Band Performance Radar/Laser Detector with 360 Degree Detection\tWireless\t4\t3\t5\tN\tY\tworks, great price\tIt's cheap, small and easy to use.  I really like that it &#34;auto&#34; mutes after about 4 beeps.  Handy.  Keeps your eyes on the road.  Honestly, I use it as &#34;reminder&#34; to myself to watch my lead foot tendency.  The lights are a bit hard to see even on the brightest  &#34;light&#34; option...(lost a star for that) But, you can definitely hear it.  I honestly don't need to &#34;see&#34; what it is that is tracking.  It is pretty compact, but as I have seen, effective.  It has a cig lighter plug in and fits firmly in it. I have owned several radar detectors over the years, some hundreds and hundreds of dollars and the ones I hold on to are the ones that cost a couple of 20's. Surprisingly, or maybe not so, the cheaper ones seem to last a LOT longer too.  The expensive ones didn't &#34;detect&#34; any more effectively and offered things I would never and did never use.  Just personal choice/observation, everyone chooses for themselves. I will update with any wear or other issues.\t2015-07-27\n",
      "US\t44148716\tR106KO2REBYK14\tB004XZHY34\t654494418\tJabra FREEWAY Bluetooth Speakerphone (Black, Retail Packaging)\tWireless\t2\t0\t0\tN\tY\tFM transmitter is deeply disappointing\tFM transmitter is deeply disappointing and does not perform near as well as the Jabra Cruiser that is several generations older.\t2015-07-27\n",
      "US\t10429449\tR3183PSCCGIBUS\tB00KEXUWQA\t435991480\tSports Armband for Iphone 5|5s|5c, iPod Touch 5|5G From SpartanFive - Keep Your iPhone Running, Top Quality Don't You Deserve The Best iPhone 5 Armband\tWireless\t5\t0\t0\tN\tN\tVery comparable\tI have used this during my workouts and I love it! Very comfortable does not slip or come loose! Would recommend this to everyone\t2015-07-27\n",
      "US\t42099772\tR33LCD6P3T0C93\tB00N5EU616\t188882198\tiPhone 5 3d personalized cell phone cases\tWireless\t5\t0\t0\tN\tY\tFive Stars\tLove it\t2015-07-27\n",
      "US\t45245683\tRLVQSU1U497IB\tB00BY3XN7E\t493845642\tGenuine Nagoya NA-\tWireless\t1\t0\t1\tN\tY\tFail\ta basic fail - the original little rubber duckie works better!\t2015-07-27\n",
      "US\t16103010\tR22CMRQCJGAWUR\tB00V5WQL82\t783830478\tS6 Screen Protector, JETech Premium Tempered Glass Screen Protector Film for Samsung Galaxy S6\tWireless\t5\t1\t1\tN\tY\tJETech Screen Protector for Galaxy S6\tI purchased this product based upon reviews that I read.  I could not be happier with my purchase.  5 Stars.  This was the first time that I used a tempered glass screen protector for my cell phone and I would buy this product again.  Install was fairly easy.  Set aside 5 minutes and you are finished.  Instructions are straight forward and easy to understand.  Zero problems with air bubbles, it adhered flawlessly to the screen.  If you own a S6, this is well worth the $8.00.\t2015-07-27\n",
      "US\t21869465\tR1L71IS6H5T72K\tB00N2JY1JW\t628675863\tUnlocked original Lenovo A806 Smartphone 4G LTE Android 4.4 MTK6592 Octa Core 5.0 Inch HD Screen\tWireless\t4\t0\t0\tN\tY\tFour Stars\tgood phone, good display, bad battery backup, single sim n some applications not running properly\t2015-07-27\n",
      "US\t14802615\tR3CLBC77L4SVF6\tB00OJ79UK6\t121294972\tSabrent Desktop USB Rapid Charger. Smart USB Ports with Auto Detect Technology\tWireless\t5\t0\t0\tN\tN\tGreat multi charger\tGreat multi charger.  Haven't had any issues with it yet.  Very happy with the unit.  Thank you for the great product.\t2015-07-27\n",
      "US\t2371975\tR53SSECPLSFQN\tB00CFYHL2O\t868596084\tHe Yang Vintage Printed Pattern Back Covers Art Abstract Cases For Iphone 4/4s\tWireless\t1\t0\t0\tN\tY\tOne Star\tNo useful\t2015-07-27\n",
      "US\t4076984\tRICKYUINP569N\tB00YMNMUW2\t156532287\tOurmes xiaomi Action Camera Floating Handle Grip Monopod, Gopro Float Bobber Monopod Mount,xiaoyi Sports Cameras Accessories with Screw and xiaomi Adapter For xiaomi sport camera, xiaoyi camera, Sony sport camera, GoPro Hero 1 2 3 3+ 4 Cameras Camera Accessories (Yellow)\tWireless\t5\t0\t0\tN\tY\tAwesome\tThis is awesome. Works with my yi camera (I was too cheap to buy a go pro)\t2015-07-27\n",
      "US\t13651948\tRBKROV959X1QQ\tB00A3NCCTQ\t444039648\tNokia DT-900 Wireless Charging Plate\tWireless\t5\t0\t0\tN\tY\tFive Stars\tworks well\t2015-07-27\n",
      "US\t931723\tR3MS2NPF9Q47R5\tB00NQGP3L6\t395979269\tApple Factory Unlocked\tWireless\t4\t0\t2\tN\tN\tFour Stars\tI'm just wondering, does it come with earphones and a charger?\t2015-07-27\n",
      "US\t49053973\tR4TXJHV5L1X2N\tB0037JE8VS\t983223963\tHome, Wall, Travel Charger AC Adapter for Garmin\tWireless\t5\t0\t0\tN\tY\tFive Stars\tGood product\t2015-07-27\n",
      "US\t16679586\tR30GZOZ75M0OUA\tB00HFED3XA\t280569610\tSamsung Galaxy Note 3 3200mAh Original OEM Rechargeable Battery\tWireless\t5\t0\t0\tN\tY\tFive Stars\tGreat product\t2015-07-27\n",
      "US\t42525963\tRRJ7M6L9BVKF9\tB00NN94T0W\t280320221\tiPhone 6S Plus Case, Verus [Damda Slide]4\tWireless\t4\t0\t0\tN\tY\tgreat case, ok wallet\tGreat case. Very well made. Just isn't a convenient wallet. I put three cards and then some bills in as well but the magnetic clasp wouldn't close securely. So I decided to keep the cash in my wallet. It isn't a replacement for your wallet, but definitely an excellent case for the phone.\t2015-07-27\n",
      "US\t23913176\tRUN0GOJ4M67KP\tB00S7D6NJY\t430559716\tNote 3 Case, T&J Exclusives® Shockproof Hybrid Rugged Case Rubber Three Layer Holster Cover Case for Samsung Galaxy Note 3 with Built-in Rotating Stand and Belt Swivel Clip + Stylus (Black & Black)\tWireless\t2\t1\t1\tN\tY\tTwo Stars\tThe case is ok but the clip broke within the first 2 weeks of use.\t2015-07-27\n",
      "US\t5173357\tR2MTX6QGU401UA\tB001N54TD0\t958469311\tGPS Angel Red Light and Speed Camera Detector - Includes Lifetime Camera Database Subscription\tWireless\t5\t0\t0\tN\tY\tAngel on my dashboard!!!\tLove it!!\t2015-07-27\n",
      "US\t2702418\tR3ADE60VZG7VSH\tB00ISGLXYK\t195231813\t4 items Combo: ITUFFY (TM) LCD Screen Protector Film + Mini Stylus Pen + Case Opener + Silver Pink Pine Tree Leaves Camouflage Wildlife Outdoor Design Rubberized Snap on Hard Shell Cover Faceplate Skin Phone Case for KYOCERA RISE C5155 (SPRINT / VIRGIN MOBILE)\tWireless\t5\t0\t0\tN\tY\tFive Stars\tLasted a long time and very pretty.\t2015-07-27\n",
      "US\t29854170\tR2L2FBO3ZFBJEP\tB0002HBOMO\t825269583\tOriginal Sticky Pad. No sticky adhesives and leaves behind no residue. Removable and reusable.\tWireless\t5\t0\t0\tN\tY\tI really like that it is not to sticky\tThis works well for holding my phone without it sliding when I turn corners. I really like that it is not to sticky.\t2015-07-27\n",
      "US\t2095921\tR2GZ6TQ0458RD3\tB00VC0CAGO\t870252525\tThunderous Starbucks Coffee Ice Cream Silicone Back Cover Case for Apple Iphone 5 5G 5S\tWireless\t5\t6\t6\tN\tY\tLove It \u001a\u001a\u001a\u001a\u001a\u001a\u001a\u001a\u001a\u001a\u001a\u001a\tCute , exactly what I paid for , no weird odor , took a while but not a month .\t2015-07-27\n",
      "US\t2284237\tRF24OGR8H1QTP\tB00JM59JPG\t676414542\tKMASHI Power bank portable charger\tWireless\t4\t0\t0\tN\tY\tGreat product\tYeah this is a really good product. And I love the fact that it's battery life can last for so long with only a short amount of charge.\t2015-07-27\n",
      "US\t161332\tR2S0C5VCSS486U\tB00QLDS3KY\t6232142\tiPhone 6 Plus Case - Maxboost [Vibrance Series] For Apple iPhone 6 Plus Case (5.5-Inch) Protective SOFT-Interior Scratch Protection Hard Cases [Slider Style] (All Colors)\tWireless\t5\t0\t0\tN\tY\tBeautiful case!!\tSo far so good. I just received my case today. It's a very nice case, I love how beautiful it looks and doesn't and bulk. It fits great with the max boost tempered glass. The only thing that concerns me is that it doesn't look like it would protect my phone from a fall. So I'll be extra cautious not to drop my phone.\t2015-07-27\n",
      "US\t15126764\tR2K2M9JVGK9IMS\tB00N4K19EE\t80567978\tGtopin 0.26mm Ultra Thin Anti-Scratch Tempered Glass Screen Protector for iPhone 6 6 Plus 5 5S 5C 4 4S iPad 4 3 2 mini Samsung Galaxy S5 S4 S3 Note 3 2 - Shatterproof / Anti-Fingerprint / Oleophobic Coating Oil-Proof / Explosion Proof / Bubble Free and Easy Installation / 2.5D Rounded Edges / 9H Hardness / High Definition Clarity Guard Shield Film - Retail Packaging\tWireless\t1\t0\t0\tN\tY\trefund???\tarrived broken, would like a refund....\t2015-07-27\n",
      "US\t679904\tR2VM1VSZRMYQT5\tB00SV63296\t549269114\tSpigen Neo Hybrid Galaxy S6 Edge Case with Flexible Inner Protection and Reinforced Hard Bumper Frame for Galaxy S6 Edge 2015\tWireless\t4\t0\t0\tN\tY\tFour Stars\tWorks good\t2015-07-27\n",
      "US\t720049\tR2E6GOY8ZW2NW3\tB00NCJ4KDE\t595346029\tLifeProof iPhone 6 - Fre Series\tWireless\t1\t0\t0\tN\tY\tOne Star\tDid not come with the code to register it on the life proof website\t2015-07-27\n",
      "US\t23529311\tRA1QGRL2L44LH\tB00N4DIKQQ\t952726509\tGalaxy Note 4 Case, Caseology [Envoy Series] Premium Leather Bumper Cover [Burgundy Red] [Leather Bound] for Samsung Galaxy Note 4 - Burgundy Red\tWireless\t5\t0\t0\tN\tY\tFive Stars\tgreat product, protects my note 4\t2015-07-27\n",
      "US\t29187667\tR2NB2SGISQYK59\tB0083L0RHY\t829714838\tBeyond Duo Shield for Samsung Galaxy S Blaze 4G T769, Black/Green\tWireless\t5\t0\t0\tN\tY\tReally works. Don't pay more.\tThis was inexpensive, but does a great job! My toddler grandson ripped off the neoprene and spiked my phone off a tile floor.  Phone wasn't damaged at all.\t2015-07-27\n",
      "US\t2897527\tR2509MIYOZX0ZA\tB00YOBI80A\t647168791\tPower Bank, GMYLE 2500mAh Ultra-Thin Wallet Sized Portable USB External Battery Charger w/ Built-in Lightning & Micro USB Cable for USB-Charged Devices\tWireless\t4\t0\t0\tN\tY\tMeh... its cheap and sort of convenient\tIt's good to have but realistically, it won't fit in your wallet. BUT it is small and I like that.<br /><br />I have a Note 4 and when I'm running low its gives it some juice. However I don't think it charges it all the way back up. Maybe if was on airplane mode? I dunno. This wasn't a life safer but its good to have overnight somewhere... maybe... it just depends on the person since some people use their phones more than others.\t2015-07-27\n",
      "US\t11672192\tR1Y07863OPJFCV\tB00361T844\t334364068\tVERIZON HTC DROID ERIS 6200 Shell Holster Combo Pack\tWireless\t5\t0\t0\tN\tY\tFive Stars\tGREAT/WORKS WELL\t2015-07-27\n",
      "US\t39758868\tR19X5BW957JRDW\tB00W6GB2R6\t907583018\tSenbowe&trade;(New Upgrade Version Phone Holder,Car Charger,FM Transmitter 3 in 1 Combination)360°Degree Rotating Windshield Dashboard Car Mount Holder/ Cell Phone Clip Gooseneck Holder /Car Dock Station /Car Mount Holder with FM Transmitter /FM Radio Transmitter/ USB Car Charger/Cigarette Lighter Charger DC Port,3.5 mm Stereo Output for Apple iPhone 6 5s 5c 4s, Galaxy S4 S3 S2 ,Note 2,Note3,HTC\tWireless\t5\t0\t0\tN\tN\tPerfect if you have an older model car without Bluetooth connectivity\t[[VIDEOID:754f733828c68e0274a9a48ffc1302f9]] I was sent this to test, and I must confess, it made my husband a happy camper. He loves listening to music on his phone, but it wasn't possible in the car, because he has an older vehicle (2006), so his radio isn't set for Bluetooth connectivity. When I showed this to him and asked if he wanted to give it a go on our road trip Sunday, he was thrilled at the idea, stating that he would love to be able to listen to a wider variety of music over that provided by the few CDs he carries in his glove compartment.<br /><br />It set up within minutes and he was happily scrolling through the menu on his phone to select music to play. This is perfect because the music he truly loves is downloaded on his phone. It also means no more radio ads or listening to the same CDs over and over again.<br /><br />The port has an on/off switch, so if you're not listening to music and don't want to keep the unit running, you can leave it in your cigarette holder but simply switch the unit off. The clamp and arm held the phone securely with no slipping. Moreover, it comes with a USB adapter for charging the phone while in use, so there's little worry over the battery dying on your phone while listening to music.<br /><br />I'm truly impressed, with the exception of only a couple of things -- small things.<br /><br />First, most cigarette lighter ports are below utility drawers, which means that accessing these drawers (if used) isn't possible without pulling the unit from the base. While the gooseneck on this product does bend, it doesn't have sufficient give (flexibility) to move it out of the way easily, so pulling it out is the only option.<br /><br />The other issue is that the USB cable that comes with this product doesn't work on some model phones. When I plugged it into my husband's phone a warning popped up that it was incompatible with the phone so it would not charge and to remove it to prevent damage to the phone from occurring. Whileit would have been nice to have the extra USB cable to keep in the car, this is an easy enough fix -- just carry the proper cable.<br /><br />Overall, if you have an older model car and would love to listen to music from your phone through your stereo system, this is the perfect solution. Highly recommended.\t2015-07-27\n",
      "US\t16383117\tR2YZVVWYONDCAP\tB008618CKK\t193971672\tEZOPower All-in-One USB Travel Charger - AC Wall Charger and DC Car Charger in One with Two Dual USB Output Ports - Great for Charging Cell Phones,MP3s, iPods, iPhones, and Other Wireless Devices\tWireless\t5\t0\t0\tN\tN\tGreat wall and car charger!!\tGreat wall and car charger!! Can charge 2 USB devices at once. Much better than having to plug USB devices into laptop or computer to charge which tends to take much longer. We own 2 of these and have gifted 2. No problems with any of them. Has a dust cover for the car charger end. The wall prongs fold up when not in use or for car use so there's no danger of them getting snagged on anything. When plugged into the wall, it does cover both outlets but this is not an issue for us as we generally use surge protectors/power strips for all electronics. Our vehicle has multiple outlets. This does not fit the outlet closest to driver for two reasons: 1) vehicle design - it's a small area with a tight fit 2) charger design - it's a bit thick in a more rounded fashion. However, again, this is a non-issue for us because it's fits another outlet the driver can reach & device cords are long enough to reach if needed. We love these chargers, have had no problems & recommend them to everyone!\t2015-07-27\n",
      "US\t2184497\tRQBYQL51RWXKP\tB00NQGOY66\t589056118\tApple iPhone 6 a1549 64GB Gold Smartphone T-Mobile\tWireless\t5\t0\t0\tN\tN\tFive Stars\tIts cool, very delightful. You should get it.\t2015-07-27\n",
      "US\t14490468\tR3FO2P71P8K2JC\tB00H3H19BW\t313229233\tAokdis New Hot Selling Fashional Individualized Hard Back Case for Iphone 5 5g 5s (Galaxy Nebula)\tWireless\t4\t0\t0\tN\tY\tFour Stars\tuse on phone everday\t2015-07-27\n",
      "US\t21395491\tR317N8KANA4SOW\tB00UAH3LSG\t209141755\tStylus Pens, Cambond 5Pcs 2 in 1 Click Stylus and Ballpoint Pen for iPhone, Samsung, Tablet, iPhone 7, Galaxy note 5, All Capacitive Touch Screen Device (Orange/Green/Blue/Red/Black) (5 Pack)\tWireless\t5\t0\t0\tN\tY\tFive Stars\tI love these pens.  They are great.\t2015-07-27\n",
      "US\t31076551\tR3AK7KTHVUOBSS\tB00PNW6XAQ\t887548556\tLG Ultimate 2 Case, SOGA Hybrid Super Armor Cover Protector Case with Belt Clip Holster Kickstand for LG Ultimate 2 / L41C\tWireless\t4\t0\t0\tN\tY\tGood value buy\tGood quality and performed out of box like it should.  Spouse loves hers.\t2015-07-27\n",
      "US\t43728027\tR1CER4ISPYY554\tB00Y0O2FFA\t298904560\tiPhone 6S Case,iPhone 6 Case,FEIKESI iphone 6/6S Flower Rubber TPU Gel Silicone Soft Case Cover Skin Protective For Apple iPhone 6/6S (4.7-inch)\tWireless\t1\t0\t0\tN\tY\tSo dissaponted. I thought the head would cover the ...\tSo dissaponted.<br />I thought the head would cover the apple symbol but it doesn't and looks so weird.\t2015-07-27\n",
      "US\t47274692\tR3PMZV3XU1EAQ2\tB00IIXKAGK\t180472494\tSamsung GT-I9500 Galaxy S4 16 GB - Unlocked (White)\tWireless\t5\t0\t0\tN\tY\tFive Stars\tgood phone\t2015-07-27\n",
      "US\t2616314\tR3VE8AMWP5SEU7\tB00QRRZBDQ\t966352590\tAokdis Universal Polka Dot Leather Stand Case Cover For Android Tablet PC 7 inch (blue)\tWireless\t5\t2\t2\tN\tY\tGood for a Digiland 7]\n",
      "1 body: [Love it. My daughter loves it too. She has a Digiland 7&#34;. Fits good and is sturdy. It was a little hard to put the tablet in but keeps it in place.]\n",
      "<class 'pandas.core.frame.DataFrame'>\n",
      "Int64Index: 26 entries, 0 to 26\n",
      "Data columns (total 13 columns):\n",
      "customer_id           26 non-null int64\n",
      "review_id             26 non-null object\n",
      "product_id            26 non-null object\n",
      "product_parent        26 non-null int64\n",
      "product_title         26 non-null object\n",
      "product_category      26 non-null object\n",
      "star_rating           26 non-null int64\n",
      "helpful_votes         26 non-null int64\n",
      "total_votes           26 non-null int64\n",
      "review_headline       26 non-null object\n",
      "review_body           26 non-null object\n",
      "review_date           26 non-null datetime64[ns]\n",
      "review_headline_wc    26 non-null int64\n",
      "dtypes: datetime64[ns](1), int64(6), object(6)\n",
      "memory usage: 2.8+ KB\n"
     ]
    }
   ],
   "source": [
    "df = clean_df\n",
    "for index, row in df[(df[\"review_headline_wc\"] == df.review_headline_wc.max())].head(1).iterrows():\n",
    "    print(f'{index} headline: [{row[\"review_headline\"]}]')\n",
    "    print(f'{index} body: [{row[\"review_body\"]}]')\n",
    "clean_df.info()"
   ]
  },
  {
   "cell_type": "markdown",
   "metadata": {},
   "source": [
    "# Review Body"
   ]
  },
  {
   "cell_type": "code",
   "execution_count": 12,
   "metadata": {},
   "outputs": [
    {
     "data": {
      "text/html": [
       "<div>\n",
       "<style scoped>\n",
       "    .dataframe tbody tr th:only-of-type {\n",
       "        vertical-align: middle;\n",
       "    }\n",
       "\n",
       "    .dataframe tbody tr th {\n",
       "        vertical-align: top;\n",
       "    }\n",
       "\n",
       "    .dataframe thead th {\n",
       "        text-align: right;\n",
       "    }\n",
       "</style>\n",
       "<table border=\"1\" class=\"dataframe\">\n",
       "  <thead>\n",
       "    <tr style=\"text-align: right;\">\n",
       "      <th></th>\n",
       "      <th>customer_id</th>\n",
       "      <th>review_id</th>\n",
       "      <th>product_id</th>\n",
       "      <th>product_parent</th>\n",
       "      <th>product_title</th>\n",
       "      <th>product_category</th>\n",
       "      <th>star_rating</th>\n",
       "      <th>helpful_votes</th>\n",
       "      <th>total_votes</th>\n",
       "      <th>review_headline</th>\n",
       "      <th>review_body</th>\n",
       "      <th>review_date</th>\n",
       "      <th>review_headline_wc</th>\n",
       "      <th>review_body_wc</th>\n",
       "    </tr>\n",
       "  </thead>\n",
       "  <tbody>\n",
       "    <tr>\n",
       "      <th>0</th>\n",
       "      <td>19333916</td>\n",
       "      <td>R1AQ5D1SFH1UCW</td>\n",
       "      <td>B00JH882JW</td>\n",
       "      <td>878254697</td>\n",
       "      <td>Spigen Liquid Air iPhone 6 Case with Durable F...</td>\n",
       "      <td>Wireless</td>\n",
       "      <td>5</td>\n",
       "      <td>0</td>\n",
       "      <td>0</td>\n",
       "      <td>I like the clear look</td>\n",
       "      <td>Got the clear case - soft case, fits very well...</td>\n",
       "      <td>2015-07-27</td>\n",
       "      <td>5</td>\n",
       "      <td>30</td>\n",
       "    </tr>\n",
       "    <tr>\n",
       "      <th>1</th>\n",
       "      <td>27593825</td>\n",
       "      <td>R21U7PJCM98QQF</td>\n",
       "      <td>B00SYA3FTQ</td>\n",
       "      <td>104756313</td>\n",
       "      <td>Samsung Galaxy S5 Glass Screen Protector by Vo...</td>\n",
       "      <td>Wireless</td>\n",
       "      <td>5</td>\n",
       "      <td>0</td>\n",
       "      <td>0</td>\n",
       "      <td>5-Star Rating – Was very easy to put on my new...</td>\n",
       "      <td>Love it. My daughter loves it too. She has a D...</td>\n",
       "      <td>2015-07-27</td>\n",
       "      <td>3526</td>\n",
       "      <td>32</td>\n",
       "    </tr>\n",
       "    <tr>\n",
       "      <th>2</th>\n",
       "      <td>22684872</td>\n",
       "      <td>RIPG13XN1OEJY</td>\n",
       "      <td>B00MJ81PYQ</td>\n",
       "      <td>469359817</td>\n",
       "      <td>Galaxy Centura Case, CellJoy® [Future Armor] S...</td>\n",
       "      <td>Wireless</td>\n",
       "      <td>4</td>\n",
       "      <td>0</td>\n",
       "      <td>0</td>\n",
       "      <td>Four Stars</td>\n",
       "      <td>as listed, no screen protector</td>\n",
       "      <td>2015-07-27</td>\n",
       "      <td>2</td>\n",
       "      <td>5</td>\n",
       "    </tr>\n",
       "    <tr>\n",
       "      <th>3</th>\n",
       "      <td>5975621</td>\n",
       "      <td>R13XJO03RAH9PP</td>\n",
       "      <td>B00YHUGZ1W</td>\n",
       "      <td>81256566</td>\n",
       "      <td>QualityStores® LG Logos Case / LG Escape2 Case...</td>\n",
       "      <td>Wireless</td>\n",
       "      <td>5</td>\n",
       "      <td>0</td>\n",
       "      <td>0</td>\n",
       "      <td>Five Stars</td>\n",
       "      <td>Really great quality got such a low price, bea...</td>\n",
       "      <td>2015-07-27</td>\n",
       "      <td>2</td>\n",
       "      <td>15</td>\n",
       "    </tr>\n",
       "    <tr>\n",
       "      <th>4</th>\n",
       "      <td>50684753</td>\n",
       "      <td>RKUM9T6ZN2G9M</td>\n",
       "      <td>B00DI67RTK</td>\n",
       "      <td>474566116</td>\n",
       "      <td>Wallets iPhone 4</td>\n",
       "      <td>Wireless</td>\n",
       "      <td>5</td>\n",
       "      <td>0</td>\n",
       "      <td>0</td>\n",
       "      <td>Iphone 4 case</td>\n",
       "      <td>Nice, small wallet type phone carrier</td>\n",
       "      <td>2015-07-27</td>\n",
       "      <td>3</td>\n",
       "      <td>6</td>\n",
       "    </tr>\n",
       "  </tbody>\n",
       "</table>\n",
       "</div>"
      ],
      "text/plain": [
       "   customer_id       review_id  product_id  product_parent  \\\n",
       "0     19333916  R1AQ5D1SFH1UCW  B00JH882JW       878254697   \n",
       "1     27593825  R21U7PJCM98QQF  B00SYA3FTQ       104756313   \n",
       "2     22684872   RIPG13XN1OEJY  B00MJ81PYQ       469359817   \n",
       "3      5975621  R13XJO03RAH9PP  B00YHUGZ1W        81256566   \n",
       "4     50684753   RKUM9T6ZN2G9M  B00DI67RTK       474566116   \n",
       "\n",
       "                                       product_title product_category  \\\n",
       "0  Spigen Liquid Air iPhone 6 Case with Durable F...         Wireless   \n",
       "1  Samsung Galaxy S5 Glass Screen Protector by Vo...         Wireless   \n",
       "2  Galaxy Centura Case, CellJoy® [Future Armor] S...         Wireless   \n",
       "3  QualityStores® LG Logos Case / LG Escape2 Case...         Wireless   \n",
       "4                                   Wallets iPhone 4         Wireless   \n",
       "\n",
       "   star_rating  helpful_votes  total_votes  \\\n",
       "0            5              0            0   \n",
       "1            5              0            0   \n",
       "2            4              0            0   \n",
       "3            5              0            0   \n",
       "4            5              0            0   \n",
       "\n",
       "                                     review_headline  \\\n",
       "0                              I like the clear look   \n",
       "1  5-Star Rating – Was very easy to put on my new...   \n",
       "2                                         Four Stars   \n",
       "3                                         Five Stars   \n",
       "4                                      Iphone 4 case   \n",
       "\n",
       "                                         review_body review_date  \\\n",
       "0  Got the clear case - soft case, fits very well...  2015-07-27   \n",
       "1  Love it. My daughter loves it too. She has a D...  2015-07-27   \n",
       "2                     as listed, no screen protector  2015-07-27   \n",
       "3  Really great quality got such a low price, bea...  2015-07-27   \n",
       "4              Nice, small wallet type phone carrier  2015-07-27   \n",
       "\n",
       "   review_headline_wc  review_body_wc  \n",
       "0                   5              30  \n",
       "1                3526              32  \n",
       "2                   2               5  \n",
       "3                   2              15  \n",
       "4                   3               6  "
      ]
     },
     "execution_count": 12,
     "metadata": {},
     "output_type": "execute_result"
    }
   ],
   "source": [
    "df = clean_df\n",
    "\n",
    "# now let's look at distribution of wc for review body\n",
    "df[\"review_body_wc\"] = df[\"review_body\"].apply(lambda x: len(x.split()))\n",
    "\n",
    "df.head()"
   ]
  },
  {
   "cell_type": "code",
   "execution_count": 13,
   "metadata": {},
   "outputs": [
    {
     "name": "stdout",
     "output_type": "stream",
     "text": [
      "min review wc: 1 max review wc: 226\n"
     ]
    }
   ],
   "source": [
    "max_wc = df.review_body_wc.max()\n",
    "min_wc = df.review_body_wc.min()\n",
    "print(f\"min review wc: {min_wc} max review wc: {max_wc}\")"
   ]
  },
  {
   "cell_type": "markdown",
   "metadata": {},
   "source": [
    "## we need to strip reviews with 0 wc"
   ]
  },
  {
   "cell_type": "code",
   "execution_count": 14,
   "metadata": {},
   "outputs": [
    {
     "name": "stdout",
     "output_type": "stream",
     "text": [
      "11 headline: [Five Stars]\n",
      "11 body: [[perfect]\n"
     ]
    }
   ],
   "source": [
    "# min review wc\n",
    "for index, row in df[(df[\"review_body_wc\"] == df.review_body_wc.min())].head(1).iterrows():\n",
    "    print(f'{index} headline: [{row[\"review_headline\"]}]')\n",
    "    print(f'{index} body: [{row[\"review_body\"]}]')\n"
   ]
  },
  {
   "cell_type": "code",
   "execution_count": 15,
   "metadata": {
    "scrolled": false
   },
   "outputs": [
    {
     "name": "stdout",
     "output_type": "stream",
     "text": [
      "17 headline: [Good backup power bank for high capacity devices.]\n",
      "17 body: [The URPOWER 12,000mAh portable power bank specifications are well described in the sales promo and need no repetition. When tested it showed some qualities and a few flaws.<br /><br />PROS:<br />Portable - in a purse, backpack, attache etc.<br />LED indicator of residual power.<br />Auto shutdown - if overload, short circuit or user error.<br />Fast charging @5V/1.5A input.<br />Generous power capacity - enough to feed multiple mobile devices simultaneously.<br />Ideal for today’s high capacity mobile devices.<br /><br />Two USB ports - USB1:5V/1.0A ; USB2: 5V/2.4A.<br />Charges most USB compatible devices.<br />Auto shutdown when finished charging - power saver.<br /><br />CONS:<br />Relatively bulky and heavy. Cumbersome in a coat pocket.<br />Lacking expected certifications - ROHS and UL.<br />Has only CE stamp - which means that it conforms with European Standards.<br />Auto shutdown when ipad and tablet charged at the same time?<br />The user’s manual, printed in miniscule letters, could benefit from proper editing.<br /><br />In my opinion, the URPOWER is a good quality power bank that has enough power for today’s, ever-increasing, high capacity mobile devices. It is useful as a backup charger for mobile phones and for large capacity tablets.<br /><br />I received a coupon to purchase this item, but with no obligation to write a review. This is not a barter deal. I have no financial or personal connection with the manufacturer, seller or their employees.]\n"
     ]
    }
   ],
   "source": [
    "for index, row in df[(df[\"review_body_wc\"] == df.review_body_wc.max())].head(1).iterrows():\n",
    "    print(f'{index} headline: [{row[\"review_headline\"]}]')\n",
    "    print(f'{index} body: [{row[\"review_body\"]}]')\n"
   ]
  },
  {
   "cell_type": "markdown",
   "metadata": {},
   "source": [
    "## interesting find. We need to strip HTML newlines from the text\n",
    "## also need to strip numeric characters from reviews"
   ]
  },
  {
   "cell_type": "markdown",
   "metadata": {},
   "source": [
    "\n",
    "Looks like most 50% of reviews have 6 words or less\n",
    "\n",
    "At 75% percentile we start seeing reviews with 6+ words"
   ]
  },
  {
   "cell_type": "code",
   "execution_count": 16,
   "metadata": {},
   "outputs": [
    {
     "name": "stdout",
     "output_type": "stream",
     "text": [
      "count    20.000000\n",
      "mean      1.300000\n",
      "std       0.571241\n",
      "min       1.000000\n",
      "25%       1.000000\n",
      "50%       1.000000\n",
      "75%       1.250000\n",
      "max       3.000000\n",
      "dtype: float64\n"
     ]
    }
   ],
   "source": [
    "df = clean_df\n",
    "\n",
    "# now let's look at distribution of wc for review body\n",
    "df[\"review_body_wc\"] = df[\"review_body\"].apply(lambda x: len(x.split()))\n",
    "\n",
    "grouped = df.groupby(\"review_body_wc\")\n",
    "print(grouped.size().describe())"
   ]
  },
  {
   "cell_type": "code",
   "execution_count": 17,
   "metadata": {},
   "outputs": [
    {
     "data": {
      "text/plain": [
       "<matplotlib.axes._subplots.AxesSubplot at 0x11fab6518>"
      ]
     },
     "execution_count": 17,
     "metadata": {},
     "output_type": "execute_result"
    },
    {
     "data": {
      "image/png": "[encoded data removed]",
      "text/plain": [
       "<Figure size 432x288 with 1 Axes>"
      ]
     },
     "metadata": {
      "needs_background": "light"
     },
     "output_type": "display_data"
    }
   ],
   "source": [
    "df.groupby(\"review_body_wc\").size().hist()"
   ]
  },
  {
   "cell_type": "code",
   "execution_count": 18,
   "metadata": {
    "scrolled": false
   },
   "outputs": [
    {
     "name": "stdout",
     "output_type": "stream",
     "text": [
      "0.0      1.0\n",
      "0.1      1.5\n",
      "0.2      5.0\n",
      "0.3     10.0\n",
      "0.4     12.0\n",
      "0.5     15.0\n",
      "0.6     23.0\n",
      "0.7     27.0\n",
      "0.8     32.0\n",
      "0.9     57.5\n",
      "1.0    226.0\n",
      "Name: review_body_wc, dtype: float64\n"
     ]
    },
    {
     "data": {
      "text/html": [
       "<div>\n",
       "<style scoped>\n",
       "    .dataframe tbody tr th:only-of-type {\n",
       "        vertical-align: middle;\n",
       "    }\n",
       "\n",
       "    .dataframe tbody tr th {\n",
       "        vertical-align: top;\n",
       "    }\n",
       "\n",
       "    .dataframe thead th {\n",
       "        text-align: right;\n",
       "    }\n",
       "</style>\n",
       "<table border=\"1\" class=\"dataframe\">\n",
       "  <thead>\n",
       "    <tr style=\"text-align: right;\">\n",
       "      <th></th>\n",
       "      <th>customer_id</th>\n",
       "      <th>review_id</th>\n",
       "      <th>product_id</th>\n",
       "      <th>product_parent</th>\n",
       "      <th>product_title</th>\n",
       "      <th>product_category</th>\n",
       "      <th>star_rating</th>\n",
       "      <th>helpful_votes</th>\n",
       "      <th>total_votes</th>\n",
       "      <th>review_headline</th>\n",
       "      <th>review_body</th>\n",
       "      <th>review_date</th>\n",
       "      <th>review_headline_wc</th>\n",
       "      <th>review_body_wc</th>\n",
       "      <th>review_body_quantile</th>\n",
       "    </tr>\n",
       "  </thead>\n",
       "  <tbody>\n",
       "    <tr>\n",
       "      <th>0</th>\n",
       "      <td>19333916</td>\n",
       "      <td>R1AQ5D1SFH1UCW</td>\n",
       "      <td>B00JH882JW</td>\n",
       "      <td>878254697</td>\n",
       "      <td>Spigen Liquid Air iPhone 6 Case with Durable F...</td>\n",
       "      <td>Wireless</td>\n",
       "      <td>5</td>\n",
       "      <td>0</td>\n",
       "      <td>0</td>\n",
       "      <td>I like the clear look</td>\n",
       "      <td>Got the clear case - soft case, fits very well...</td>\n",
       "      <td>2015-07-27</td>\n",
       "      <td>5</td>\n",
       "      <td>30</td>\n",
       "      <td>(27.0, 32.0]</td>\n",
       "    </tr>\n",
       "    <tr>\n",
       "      <th>1</th>\n",
       "      <td>27593825</td>\n",
       "      <td>R21U7PJCM98QQF</td>\n",
       "      <td>B00SYA3FTQ</td>\n",
       "      <td>104756313</td>\n",
       "      <td>Samsung Galaxy S5 Glass Screen Protector by Vo...</td>\n",
       "      <td>Wireless</td>\n",
       "      <td>5</td>\n",
       "      <td>0</td>\n",
       "      <td>0</td>\n",
       "      <td>5-Star Rating – Was very easy to put on my new...</td>\n",
       "      <td>Love it. My daughter loves it too. She has a D...</td>\n",
       "      <td>2015-07-27</td>\n",
       "      <td>3526</td>\n",
       "      <td>32</td>\n",
       "      <td>(27.0, 32.0]</td>\n",
       "    </tr>\n",
       "    <tr>\n",
       "      <th>2</th>\n",
       "      <td>22684872</td>\n",
       "      <td>RIPG13XN1OEJY</td>\n",
       "      <td>B00MJ81PYQ</td>\n",
       "      <td>469359817</td>\n",
       "      <td>Galaxy Centura Case, CellJoy® [Future Armor] S...</td>\n",
       "      <td>Wireless</td>\n",
       "      <td>4</td>\n",
       "      <td>0</td>\n",
       "      <td>0</td>\n",
       "      <td>Four Stars</td>\n",
       "      <td>as listed, no screen protector</td>\n",
       "      <td>2015-07-27</td>\n",
       "      <td>2</td>\n",
       "      <td>5</td>\n",
       "      <td>(1.5, 5.0]</td>\n",
       "    </tr>\n",
       "    <tr>\n",
       "      <th>3</th>\n",
       "      <td>5975621</td>\n",
       "      <td>R13XJO03RAH9PP</td>\n",
       "      <td>B00YHUGZ1W</td>\n",
       "      <td>81256566</td>\n",
       "      <td>QualityStores® LG Logos Case / LG Escape2 Case...</td>\n",
       "      <td>Wireless</td>\n",
       "      <td>5</td>\n",
       "      <td>0</td>\n",
       "      <td>0</td>\n",
       "      <td>Five Stars</td>\n",
       "      <td>Really great quality got such a low price, bea...</td>\n",
       "      <td>2015-07-27</td>\n",
       "      <td>2</td>\n",
       "      <td>15</td>\n",
       "      <td>(12.0, 15.0]</td>\n",
       "    </tr>\n",
       "    <tr>\n",
       "      <th>4</th>\n",
       "      <td>50684753</td>\n",
       "      <td>RKUM9T6ZN2G9M</td>\n",
       "      <td>B00DI67RTK</td>\n",
       "      <td>474566116</td>\n",
       "      <td>Wallets iPhone 4</td>\n",
       "      <td>Wireless</td>\n",
       "      <td>5</td>\n",
       "      <td>0</td>\n",
       "      <td>0</td>\n",
       "      <td>Iphone 4 case</td>\n",
       "      <td>Nice, small wallet type phone carrier</td>\n",
       "      <td>2015-07-27</td>\n",
       "      <td>3</td>\n",
       "      <td>6</td>\n",
       "      <td>(5.0, 10.0]</td>\n",
       "    </tr>\n",
       "  </tbody>\n",
       "</table>\n",
       "</div>"
      ],
      "text/plain": [
       "   customer_id       review_id  product_id  product_parent  \\\n",
       "0     19333916  R1AQ5D1SFH1UCW  B00JH882JW       878254697   \n",
       "1     27593825  R21U7PJCM98QQF  B00SYA3FTQ       104756313   \n",
       "2     22684872   RIPG13XN1OEJY  B00MJ81PYQ       469359817   \n",
       "3      5975621  R13XJO03RAH9PP  B00YHUGZ1W        81256566   \n",
       "4     50684753   RKUM9T6ZN2G9M  B00DI67RTK       474566116   \n",
       "\n",
       "                                       product_title product_category  \\\n",
       "0  Spigen Liquid Air iPhone 6 Case with Durable F...         Wireless   \n",
       "1  Samsung Galaxy S5 Glass Screen Protector by Vo...         Wireless   \n",
       "2  Galaxy Centura Case, CellJoy® [Future Armor] S...         Wireless   \n",
       "3  QualityStores® LG Logos Case / LG Escape2 Case...         Wireless   \n",
       "4                                   Wallets iPhone 4         Wireless   \n",
       "\n",
       "   star_rating  helpful_votes  total_votes  \\\n",
       "0            5              0            0   \n",
       "1            5              0            0   \n",
       "2            4              0            0   \n",
       "3            5              0            0   \n",
       "4            5              0            0   \n",
       "\n",
       "                                     review_headline  \\\n",
       "0                              I like the clear look   \n",
       "1  5-Star Rating – Was very easy to put on my new...   \n",
       "2                                         Four Stars   \n",
       "3                                         Five Stars   \n",
       "4                                      Iphone 4 case   \n",
       "\n",
       "                                         review_body review_date  \\\n",
       "0  Got the clear case - soft case, fits very well...  2015-07-27   \n",
       "1  Love it. My daughter loves it too. She has a D...  2015-07-27   \n",
       "2                     as listed, no screen protector  2015-07-27   \n",
       "3  Really great quality got such a low price, bea...  2015-07-27   \n",
       "4              Nice, small wallet type phone carrier  2015-07-27   \n",
       "\n",
       "   review_headline_wc  review_body_wc review_body_quantile  \n",
       "0                   5              30         (27.0, 32.0]  \n",
       "1                3526              32         (27.0, 32.0]  \n",
       "2                   2               5           (1.5, 5.0]  \n",
       "3                   2              15         (12.0, 15.0]  \n",
       "4                   3               6          (5.0, 10.0]  "
      ]
     },
     "execution_count": 18,
     "metadata": {},
     "output_type": "execute_result"
    }
   ],
   "source": [
    "# let's plot by quantile\n",
    "\n",
    "quantile_list = [0, .10, .20, .30, .40, .50, .60, .70, .80, .90, 1.]\n",
    "quantiles = df[\"review_body_wc\"].quantile(quantile_list)\n",
    "\n",
    "print(quantiles)\n",
    "\n",
    "df = df.assign(review_body_quantile=lambda x: pd.cut(x[\"review_body_wc\"], quantiles.array))\n",
    "df.head(5)"
   ]
  },
  {
   "cell_type": "code",
   "execution_count": 19,
   "metadata": {},
   "outputs": [
    {
     "data": {
      "text/plain": [
       "<matplotlib.axes._subplots.AxesSubplot at 0x11fc2a630>"
      ]
     },
     "execution_count": 19,
     "metadata": {},
     "output_type": "execute_result"
    },
    {
     "data": {
      "image/png": "[encoded data removed]",
      "text/plain": [
       "<Figure size 432x288 with 1 Axes>"
      ]
     },
     "metadata": {
      "needs_background": "light"
     },
     "output_type": "display_data"
    }
   ],
   "source": [
    "df.groupby(\"review_body_quantile\").size().plot(kind='bar')"
   ]
  },
  {
   "cell_type": "code",
   "execution_count": 20,
   "metadata": {
    "scrolled": false
   },
   "outputs": [
    {
     "data": {
      "text/html": [
       "<div>\n",
       "<style scoped>\n",
       "    .dataframe tbody tr th:only-of-type {\n",
       "        vertical-align: middle;\n",
       "    }\n",
       "\n",
       "    .dataframe tbody tr th {\n",
       "        vertical-align: top;\n",
       "    }\n",
       "\n",
       "    .dataframe thead th {\n",
       "        text-align: right;\n",
       "    }\n",
       "</style>\n",
       "<table border=\"1\" class=\"dataframe\">\n",
       "  <thead>\n",
       "    <tr style=\"text-align: right;\">\n",
       "      <th></th>\n",
       "      <th>customer_id</th>\n",
       "      <th>review_id</th>\n",
       "      <th>product_id</th>\n",
       "      <th>product_parent</th>\n",
       "      <th>product_title</th>\n",
       "      <th>product_category</th>\n",
       "      <th>star_rating</th>\n",
       "      <th>helpful_votes</th>\n",
       "      <th>total_votes</th>\n",
       "      <th>review_headline</th>\n",
       "      <th>review_body</th>\n",
       "      <th>review_date</th>\n",
       "      <th>review_headline_wc</th>\n",
       "      <th>review_body_wc</th>\n",
       "      <th>review_body_quantile</th>\n",
       "      <th>review_body_fixed_bin</th>\n",
       "    </tr>\n",
       "  </thead>\n",
       "  <tbody>\n",
       "    <tr>\n",
       "      <th>0</th>\n",
       "      <td>19333916</td>\n",
       "      <td>R1AQ5D1SFH1UCW</td>\n",
       "      <td>B00JH882JW</td>\n",
       "      <td>878254697</td>\n",
       "      <td>Spigen Liquid Air iPhone 6 Case with Durable F...</td>\n",
       "      <td>Wireless</td>\n",
       "      <td>5</td>\n",
       "      <td>0</td>\n",
       "      <td>0</td>\n",
       "      <td>I like the clear look</td>\n",
       "      <td>Got the clear case - soft case, fits very well...</td>\n",
       "      <td>2015-07-27</td>\n",
       "      <td>5</td>\n",
       "      <td>30</td>\n",
       "      <td>(27.0, 32.0]</td>\n",
       "      <td>(23.0, 46.0]</td>\n",
       "    </tr>\n",
       "    <tr>\n",
       "      <th>1</th>\n",
       "      <td>27593825</td>\n",
       "      <td>R21U7PJCM98QQF</td>\n",
       "      <td>B00SYA3FTQ</td>\n",
       "      <td>104756313</td>\n",
       "      <td>Samsung Galaxy S5 Glass Screen Protector by Vo...</td>\n",
       "      <td>Wireless</td>\n",
       "      <td>5</td>\n",
       "      <td>0</td>\n",
       "      <td>0</td>\n",
       "      <td>5-Star Rating – Was very easy to put on my new...</td>\n",
       "      <td>Love it. My daughter loves it too. She has a D...</td>\n",
       "      <td>2015-07-27</td>\n",
       "      <td>3526</td>\n",
       "      <td>32</td>\n",
       "      <td>(27.0, 32.0]</td>\n",
       "      <td>(23.0, 46.0]</td>\n",
       "    </tr>\n",
       "    <tr>\n",
       "      <th>2</th>\n",
       "      <td>22684872</td>\n",
       "      <td>RIPG13XN1OEJY</td>\n",
       "      <td>B00MJ81PYQ</td>\n",
       "      <td>469359817</td>\n",
       "      <td>Galaxy Centura Case, CellJoy® [Future Armor] S...</td>\n",
       "      <td>Wireless</td>\n",
       "      <td>4</td>\n",
       "      <td>0</td>\n",
       "      <td>0</td>\n",
       "      <td>Four Stars</td>\n",
       "      <td>as listed, no screen protector</td>\n",
       "      <td>2015-07-27</td>\n",
       "      <td>2</td>\n",
       "      <td>5</td>\n",
       "      <td>(1.5, 5.0]</td>\n",
       "      <td>(0.0, 23.0]</td>\n",
       "    </tr>\n",
       "    <tr>\n",
       "      <th>3</th>\n",
       "      <td>5975621</td>\n",
       "      <td>R13XJO03RAH9PP</td>\n",
       "      <td>B00YHUGZ1W</td>\n",
       "      <td>81256566</td>\n",
       "      <td>QualityStores® LG Logos Case / LG Escape2 Case...</td>\n",
       "      <td>Wireless</td>\n",
       "      <td>5</td>\n",
       "      <td>0</td>\n",
       "      <td>0</td>\n",
       "      <td>Five Stars</td>\n",
       "      <td>Really great quality got such a low price, bea...</td>\n",
       "      <td>2015-07-27</td>\n",
       "      <td>2</td>\n",
       "      <td>15</td>\n",
       "      <td>(12.0, 15.0]</td>\n",
       "      <td>(0.0, 23.0]</td>\n",
       "    </tr>\n",
       "    <tr>\n",
       "      <th>4</th>\n",
       "      <td>50684753</td>\n",
       "      <td>RKUM9T6ZN2G9M</td>\n",
       "      <td>B00DI67RTK</td>\n",
       "      <td>474566116</td>\n",
       "      <td>Wallets iPhone 4</td>\n",
       "      <td>Wireless</td>\n",
       "      <td>5</td>\n",
       "      <td>0</td>\n",
       "      <td>0</td>\n",
       "      <td>Iphone 4 case</td>\n",
       "      <td>Nice, small wallet type phone carrier</td>\n",
       "      <td>2015-07-27</td>\n",
       "      <td>3</td>\n",
       "      <td>6</td>\n",
       "      <td>(5.0, 10.0]</td>\n",
       "      <td>(0.0, 23.0]</td>\n",
       "    </tr>\n",
       "  </tbody>\n",
       "</table>\n",
       "</div>"
      ],
      "text/plain": [
       "   customer_id       review_id  product_id  product_parent  \\\n",
       "0     19333916  R1AQ5D1SFH1UCW  B00JH882JW       878254697   \n",
       "1     27593825  R21U7PJCM98QQF  B00SYA3FTQ       104756313   \n",
       "2     22684872   RIPG13XN1OEJY  B00MJ81PYQ       469359817   \n",
       "3      5975621  R13XJO03RAH9PP  B00YHUGZ1W        81256566   \n",
       "4     50684753   RKUM9T6ZN2G9M  B00DI67RTK       474566116   \n",
       "\n",
       "                                       product_title product_category  \\\n",
       "0  Spigen Liquid Air iPhone 6 Case with Durable F...         Wireless   \n",
       "1  Samsung Galaxy S5 Glass Screen Protector by Vo...         Wireless   \n",
       "2  Galaxy Centura Case, CellJoy® [Future Armor] S...         Wireless   \n",
       "3  QualityStores® LG Logos Case / LG Escape2 Case...         Wireless   \n",
       "4                                   Wallets iPhone 4         Wireless   \n",
       "\n",
       "   star_rating  helpful_votes  total_votes  \\\n",
       "0            5              0            0   \n",
       "1            5              0            0   \n",
       "2            4              0            0   \n",
       "3            5              0            0   \n",
       "4            5              0            0   \n",
       "\n",
       "                                     review_headline  \\\n",
       "0                              I like the clear look   \n",
       "1  5-Star Rating – Was very easy to put on my new...   \n",
       "2                                         Four Stars   \n",
       "3                                         Five Stars   \n",
       "4                                      Iphone 4 case   \n",
       "\n",
       "                                         review_body review_date  \\\n",
       "0  Got the clear case - soft case, fits very well...  2015-07-27   \n",
       "1  Love it. My daughter loves it too. She has a D...  2015-07-27   \n",
       "2                     as listed, no screen protector  2015-07-27   \n",
       "3  Really great quality got such a low price, bea...  2015-07-27   \n",
       "4              Nice, small wallet type phone carrier  2015-07-27   \n",
       "\n",
       "   review_headline_wc  review_body_wc review_body_quantile  \\\n",
       "0                   5              30         (27.0, 32.0]   \n",
       "1                3526              32         (27.0, 32.0]   \n",
       "2                   2               5           (1.5, 5.0]   \n",
       "3                   2              15         (12.0, 15.0]   \n",
       "4                   3               6          (5.0, 10.0]   \n",
       "\n",
       "  review_body_fixed_bin  \n",
       "0          (23.0, 46.0]  \n",
       "1          (23.0, 46.0]  \n",
       "2           (0.0, 23.0]  \n",
       "3           (0.0, 23.0]  \n",
       "4           (0.0, 23.0]  "
      ]
     },
     "execution_count": 20,
     "metadata": {},
     "output_type": "execute_result"
    }
   ],
   "source": [
    "# let's try fixed binning - 10 fixed bins\n",
    "max_wc = df.review_body_wc.max()\n",
    "\n",
    "\n",
    "fixed_bin = df.assign(review_body_fixed_bin=lambda x: pd.cut(x[\"review_body_wc\"], \n",
    "                       np.arange(0, max_wc, round(max_wc/10,0))))\n",
    "fixed_bin.head(5)"
   ]
  },
  {
   "cell_type": "code",
   "execution_count": 21,
   "metadata": {},
   "outputs": [
    {
     "data": {
      "text/plain": [
       "<matplotlib.axes._subplots.AxesSubplot at 0x11fd06eb8>"
      ]
     },
     "execution_count": 21,
     "metadata": {},
     "output_type": "execute_result"
    },
    {
     "data": {
      "image/png": "[encoded data removed]",
      "text/plain": [
       "<Figure size 432x288 with 1 Axes>"
      ]
     },
     "metadata": {
      "needs_background": "light"
     },
     "output_type": "display_data"
    }
   ],
   "source": [
    "fixed_bin.groupby(\"review_body_fixed_bin\").size().plot(kind='bar')"
   ]
  },
  {
   "cell_type": "markdown",
   "metadata": {},
   "source": [
    "# Conslusion\n",
    "\n",
    "looks like Yelp reviews tends to be more verbose than Amazon\n",
    "\n",
    "90% of Amazon reviews have ~80 words or less compared to yelp reviews which is around ~55%\n",
    "\n",
    "## Update - 4/25 - Pandas is having issues reading the lines correctly for Amazon reviews so I think some of this data is incorrect\n",
    "\n"
   ]
  },
  {
   "cell_type": "code",
   "execution_count": null,
   "metadata": {},
   "outputs": [],
   "source": []
  }
 ],
 "metadata": {
  "kernelspec": {
   "display_name": "Python 3",
   "language": "python",
   "name": "python3"
  },
  "language_info": {
   "codemirror_mode": {
    "name": "ipython",
    "version": 3
   },
   "file_extension": ".py",
   "mimetype": "text/x-python",
   "name": "python",
   "nbconvert_exporter": "python",
   "pygments_lexer": "ipython3",
   "version": "3.7.3"
  }
 },
 "nbformat": 4,
 "nbformat_minor": 2
}
