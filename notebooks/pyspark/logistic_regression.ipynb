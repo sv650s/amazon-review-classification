{
 "cells": [
  {
   "cell_type": "markdown",
   "metadata": {},
   "source": [
    "# PySpark Logistic Regression\n",
    "\n",
    "Our full dataset file has around 9 million samples. When trying to run feature_generator."
   ]
  },
  {
   "cell_type": "code",
   "execution_count": 1,
   "metadata": {},
   "outputs": [],
   "source": [
    "import pyspark\n",
    "from pyspark import SparkContext, SparkFiles\n",
    "from pyspark.sql import SparkSession, DataFrameReader, SQLContext\n",
    "\n",
    "\n",
    "DATA_FILE = \"/home/jupyter/dataset/amazon_reviews/amazon_reviews_us_Wireless_v1_00-test1k-preprocessed.csv\"\n",
    "\n",
    "\n",
    "spark = SparkSession.builder \\\n",
    "            .master(\"local[*]\") \\\n",
    "            .appName(\"Test NGram TFIDF (local)\") \\\n",
    "            .config(\"spark.logConf\", True) \\\n",
    "            .getOrCreate()\n",
    "\n",
    "\n",
    "df = spark.read.csv(SparkFiles.get(DATA_FILE), \n",
    "                    header=True, \n",
    "                    inferSchema= True)\n"
   ]
  },
  {
   "cell_type": "code",
   "execution_count": 2,
   "metadata": {},
   "outputs": [
    {
     "name": "stdout",
     "output_type": "stream",
     "text": [
      "root\n",
      " |-- star_rating: integer (nullable = true)\n",
      " |-- helpful_votes: integer (nullable = true)\n",
      " |-- total_votes: integer (nullable = true)\n",
      " |-- review_headline: string (nullable = true)\n",
      " |-- review_body: string (nullable = true)\n",
      " |-- review_date: timestamp (nullable = true)\n",
      "\n"
     ]
    }
   ],
   "source": [
    "df.printSchema()"
   ]
  },
  {
   "cell_type": "code",
   "execution_count": 3,
   "metadata": {},
   "outputs": [
    {
     "name": "stdout",
     "output_type": "stream",
     "text": [
      "entered build\n",
      "root\n",
      " |-- star_rating: integer (nullable = true)\n",
      " |-- helpful_votes: integer (nullable = true)\n",
      " |-- total_votes: integer (nullable = true)\n",
      " |-- review_headline: string (nullable = true)\n",
      " |-- review_body: string (nullable = true)\n",
      " |-- review_date: timestamp (nullable = true)\n",
      " |-- words: array (nullable = true)\n",
      " |    |-- element: string (containsNull = true)\n",
      " |-- 1_grams: array (nullable = true)\n",
      " |    |-- element: string (containsNull = false)\n",
      " |-- 2_grams: array (nullable = true)\n",
      " |    |-- element: string (containsNull = false)\n",
      " |-- 3_grams: array (nullable = true)\n",
      " |    |-- element: string (containsNull = false)\n",
      "\n",
      "+-----------+-------------+-----------+----------------------------------+------------------------------------------------------------------------------------------------------------------------------------+-------------------+---------------------------------------------------------------------------------------------------------------------------------------------------------+---------------------------------------------------------------------------------------------------------------------------------------------------------+------------------------------------------------------------------------------------------------------------------------------------------------------------------------------------------------------------------------------------------------------------------------------+----------------------------------------------------------------------------------------------------------------------------------------------------------------------------------------------------------------------------------------------------------------------------------------------------------------------------------------------------------------------------------------+\n",
      "|star_rating|helpful_votes|total_votes|review_headline                   |review_body                                                                                                                         |review_date        |words                                                                                                                                                    |1_grams                                                                                                                                                  |2_grams                                                                                                                                                                                                                                                                       |3_grams                                                                                                                                                                                                                                                                                                                                                                                 |\n",
      "+-----------+-------------+-----------+----------------------------------+------------------------------------------------------------------------------------------------------------------------------------+-------------------+---------------------------------------------------------------------------------------------------------------------------------------------------------+---------------------------------------------------------------------------------------------------------------------------------------------------------+------------------------------------------------------------------------------------------------------------------------------------------------------------------------------------------------------------------------------------------------------------------------------+----------------------------------------------------------------------------------------------------------------------------------------------------------------------------------------------------------------------------------------------------------------------------------------------------------------------------------------------------------------------------------------+\n",
      "|3          |0            |0          |love polka dot                    |best quality                                                                                                                        |2015-08-31 00:00:00|[best, quality]                                                                                                                                          |[best, quality]                                                                                                                                          |[best quality]                                                                                                                                                                                                                                                                |[]                                                                                                                                                                                                                                                                                                                                                                                      |\n",
      "|5          |0            |0          |five star                         |very good quality price                                                                                                             |2015-08-31 00:00:00|[very, good, quality, price]                                                                                                                             |[very, good, quality, price]                                                                                                                             |[very good, good quality, quality price]                                                                                                                                                                                                                                      |[very good quality, good quality price]                                                                                                                                                                                                                                                                                                                                                 |\n",
      "|5          |0            |0          |case work great fit great very sli|wish bottom top edge little rigid case work great fit great very sli                                                                |2015-08-31 00:00:00|[wish, bottom, top, edge, little, rigid, case, work, great, fit, great, very, sli]                                                                       |[wish, bottom, top, edge, little, rigid, case, work, great, fit, great, very, sli]                                                                       |[wish bottom, bottom top, top edge, edge little, little rigid, rigid case, case work, work great, great fit, fit great, great very, very sli]                                                                                                                                 |[wish bottom top, bottom top edge, top edge little, edge little rigid, little rigid case, rigid case work, case work great, work great fit, great fit great, fit great very, great very sli]                                                                                                                                                                                            |\n",
      "|5          |0            |0          |perfect                           |finished using trip loved able keep tablet operating flight also indicates much power left no guessing game automatically turn using|2015-08-31 00:00:00|[finished, using, trip, loved, able, keep, tablet, operating, flight, also, indicates, much, power, left, no, guessing, game, automatically, turn, using]|[finished, using, trip, loved, able, keep, tablet, operating, flight, also, indicates, much, power, left, no, guessing, game, automatically, turn, using]|[finished using, using trip, trip loved, loved able, able keep, keep tablet, tablet operating, operating flight, flight also, also indicates, indicates much, much power, power left, left no, no guessing, guessing game, game automatically, automatically turn, turn using]|[finished using trip, using trip loved, trip loved able, loved able keep, able keep tablet, keep tablet operating, tablet operating flight, operating flight also, flight also indicates, also indicates much, indicates much power, much power left, power left no, left no guessing, no guessing game, guessing game automatically, game automatically turn, automatically turn using]|\n",
      "|1          |0            |0          |cheaply made                      |low quality earbuds do not stay ear cheaply made                                                                                    |2015-08-31 00:00:00|[low, quality, earbuds, do, not, stay, ear, cheaply, made]                                                                                               |[low, quality, earbuds, do, not, stay, ear, cheaply, made]                                                                                               |[low quality, quality earbuds, earbuds do, do not, not stay, stay ear, ear cheaply, cheaply made]                                                                                                                                                                             |[low quality earbuds, quality earbuds do, earbuds do not, do not stay, not stay ear, stay ear cheaply, ear cheaply made]                                                                                                                                                                                                                                                                |\n",
      "+-----------+-------------+-----------+----------------------------------+------------------------------------------------------------------------------------------------------------------------------------+-------------------+---------------------------------------------------------------------------------------------------------------------------------------------------------+---------------------------------------------------------------------------------------------------------------------------------------------------------+------------------------------------------------------------------------------------------------------------------------------------------------------------------------------------------------------------------------------------------------------------------------------+----------------------------------------------------------------------------------------------------------------------------------------------------------------------------------------------------------------------------------------------------------------------------------------------------------------------------------------------------------------------------------------+\n",
      "only showing top 5 rows\n",
      "\n"
     ]
    }
   ],
   "source": [
    "from pyspark.ml.feature import NGram, CountVectorizer, VectorAssembler, Tokenizer\n",
    "from pyspark.ml import Pipeline\n",
    "\n",
    "\n",
    "def build_ngrams(inputCol, n=3):\n",
    "    print(\"entered build\")\n",
    "    tokenizer = [Tokenizer(inputCol = inputCol, outputCol = \"words\")]\n",
    "    \n",
    "    ngrams = [\n",
    "        NGram(n=i, inputCol=\"words\", outputCol=\"{0}_grams\".format(i))\n",
    "        for i in range(1, n + 1)\n",
    "    ]\n",
    "\n",
    "#     vectorizers = [\n",
    "#         CountVectorizer(inputCol=\"{0}_grams\".format(i),\n",
    "#             outputCol=\"{0}_counts\".format(i))\n",
    "#         for i in range(1, n + 1)\n",
    "#     ]\n",
    "\n",
    "#     assembler = [VectorAssembler(\n",
    "#         inputCols=[\"{0}_counts\".format(i) for i in range(1, n + 1)],\n",
    "#         outputCol=\"features\"\n",
    "#     )]\n",
    "\n",
    "#     return Pipeline(stages=ngrams + vectorizers + assembler)\n",
    "    return Pipeline(stages=tokenizer + ngrams)\n",
    "\n",
    "\n",
    "df = build_ngrams(inputCol = \"review_body\").fit(df).transform(df)\n",
    "df.printSchema()\n",
    "df.show(5, truncate = False)"
   ]
  },
  {
   "cell_type": "code",
   "execution_count": null,
   "metadata": {},
   "outputs": [],
   "source": []
  }
 ],
 "metadata": {
  "kernelspec": {
   "display_name": "Python 3",
   "language": "python",
   "name": "python3"
  },
  "language_info": {
   "codemirror_mode": {
    "name": "ipython",
    "version": 3
   },
   "file_extension": ".py",
   "mimetype": "text/x-python",
   "name": "python",
   "nbconvert_exporter": "python",
   "pygments_lexer": "ipython3",
   "version": "3.7.3"
  }
 },
 "nbformat": 4,
 "nbformat_minor": 4
}
