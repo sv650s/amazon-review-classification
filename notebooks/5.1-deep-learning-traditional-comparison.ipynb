{
 "cells": [
  {
   "cell_type": "markdown",
   "metadata": {
    "colab_type": "text",
    "id": "lUNXNxeLn6yg"
   },
   "source": [
    "# Deep Learning vs Traditional ML (Logistic Regression) Camprison Notebook\n",
    "\n",
    "Now that we have trained LTSM with 2 million samples on Google Colab, we are going to compare the results with our traditional ML model (Logistic Regression)\n",
    "\n",
    "We know that Logistic Regression's performance plateaus after about 200k samples and we know that LSTM is not performing as well as Logistic Regression with only 200k samples. 2 million is around the limit where we can use Google Colab to train our models while still working within the 24 hour backend limit. Further training for LSTM will probably have to be done on GCP using one of the GPU based compute instances.\n",
    "\n",
    "We will take the results that we have so far to see if it's worth our while to keep training LSTM with more examples on GCP.\n",
    "\n",
    "\n",
    "## Traditional ML Model\n",
    "\n",
    "* Model: Logistic Regression\n",
    "* Class weights: balanced\n",
    "* Features: TF-IDF with 4k features\n",
    "* Sample Size: 50k to 9mil\n",
    "\n",
    "## Deep Learning Model\n",
    "\n",
    "* Architecture: LSTM\n",
    "* Class weights: balanced\n",
    "* LSTM Nodes: 64\n",
    "* Input Layer: Random Embedding (300)\n",
    "* Sample Size: 50k to 2mill\n",
    "\n",
    "    \n",
    "# Conclusion\n",
    "\n",
    "We good improvement (~ 0.6) in our score between 200k samples and 500k samples. However, improvement in our model between 500k samples to 1 million samples was minimal (0.017). We also saw a decrease in score (~ 0.03) between 500k and 1 million samples\n",
    "\n",
    "\n",
    "\n",
    "\n"
   ]
  },
  {
   "cell_type": "code",
   "execution_count": 1,
   "metadata": {
    "colab": {},
    "colab_type": "code",
    "id": "Q2bITAS73VZ2"
   },
   "outputs": [
    {
     "name": "stderr",
     "output_type": "stream",
     "text": [
      "/Users/vinceluk/anaconda3/envs/capstone/lib/python3.7/site-packages/tensorflow/python/framework/dtypes.py:516: FutureWarning: Passing (type, 1) or '1type' as a synonym of type is deprecated; in a future version of numpy, it will be understood as (type, (1,)) / '(1,)type'.\n",
      "  _np_qint8 = np.dtype([(\"qint8\", np.int8, 1)])\n",
      "/Users/vinceluk/anaconda3/envs/capstone/lib/python3.7/site-packages/tensorflow/python/framework/dtypes.py:517: FutureWarning: Passing (type, 1) or '1type' as a synonym of type is deprecated; in a future version of numpy, it will be understood as (type, (1,)) / '(1,)type'.\n",
      "  _np_quint8 = np.dtype([(\"quint8\", np.uint8, 1)])\n",
      "/Users/vinceluk/anaconda3/envs/capstone/lib/python3.7/site-packages/tensorflow/python/framework/dtypes.py:518: FutureWarning: Passing (type, 1) or '1type' as a synonym of type is deprecated; in a future version of numpy, it will be understood as (type, (1,)) / '(1,)type'.\n",
      "  _np_qint16 = np.dtype([(\"qint16\", np.int16, 1)])\n",
      "/Users/vinceluk/anaconda3/envs/capstone/lib/python3.7/site-packages/tensorflow/python/framework/dtypes.py:519: FutureWarning: Passing (type, 1) or '1type' as a synonym of type is deprecated; in a future version of numpy, it will be understood as (type, (1,)) / '(1,)type'.\n",
      "  _np_quint16 = np.dtype([(\"quint16\", np.uint16, 1)])\n",
      "/Users/vinceluk/anaconda3/envs/capstone/lib/python3.7/site-packages/tensorflow/python/framework/dtypes.py:520: FutureWarning: Passing (type, 1) or '1type' as a synonym of type is deprecated; in a future version of numpy, it will be understood as (type, (1,)) / '(1,)type'.\n",
      "  _np_qint32 = np.dtype([(\"qint32\", np.int32, 1)])\n",
      "/Users/vinceluk/anaconda3/envs/capstone/lib/python3.7/site-packages/tensorflow/python/framework/dtypes.py:525: FutureWarning: Passing (type, 1) or '1type' as a synonym of type is deprecated; in a future version of numpy, it will be understood as (type, (1,)) / '(1,)type'.\n",
      "  np_resource = np.dtype([(\"resource\", np.ubyte, 1)])\n",
      "/Users/vinceluk/anaconda3/envs/capstone/lib/python3.7/site-packages/tensorboard/compat/tensorflow_stub/dtypes.py:541: FutureWarning: Passing (type, 1) or '1type' as a synonym of type is deprecated; in a future version of numpy, it will be understood as (type, (1,)) / '(1,)type'.\n",
      "  _np_qint8 = np.dtype([(\"qint8\", np.int8, 1)])\n",
      "/Users/vinceluk/anaconda3/envs/capstone/lib/python3.7/site-packages/tensorboard/compat/tensorflow_stub/dtypes.py:542: FutureWarning: Passing (type, 1) or '1type' as a synonym of type is deprecated; in a future version of numpy, it will be understood as (type, (1,)) / '(1,)type'.\n",
      "  _np_quint8 = np.dtype([(\"quint8\", np.uint8, 1)])\n",
      "/Users/vinceluk/anaconda3/envs/capstone/lib/python3.7/site-packages/tensorboard/compat/tensorflow_stub/dtypes.py:543: FutureWarning: Passing (type, 1) or '1type' as a synonym of type is deprecated; in a future version of numpy, it will be understood as (type, (1,)) / '(1,)type'.\n",
      "  _np_qint16 = np.dtype([(\"qint16\", np.int16, 1)])\n",
      "/Users/vinceluk/anaconda3/envs/capstone/lib/python3.7/site-packages/tensorboard/compat/tensorflow_stub/dtypes.py:544: FutureWarning: Passing (type, 1) or '1type' as a synonym of type is deprecated; in a future version of numpy, it will be understood as (type, (1,)) / '(1,)type'.\n",
      "  _np_quint16 = np.dtype([(\"quint16\", np.uint16, 1)])\n",
      "/Users/vinceluk/anaconda3/envs/capstone/lib/python3.7/site-packages/tensorboard/compat/tensorflow_stub/dtypes.py:545: FutureWarning: Passing (type, 1) or '1type' as a synonym of type is deprecated; in a future version of numpy, it will be understood as (type, (1,)) / '(1,)type'.\n",
      "  _np_qint32 = np.dtype([(\"qint32\", np.int32, 1)])\n",
      "/Users/vinceluk/anaconda3/envs/capstone/lib/python3.7/site-packages/tensorboard/compat/tensorflow_stub/dtypes.py:550: FutureWarning: Passing (type, 1) or '1type' as a synonym of type is deprecated; in a future version of numpy, it will be understood as (type, (1,)) / '(1,)type'.\n",
      "  np_resource = np.dtype([(\"resource\", np.ubyte, 1)])\n"
     ]
    }
   ],
   "source": [
    "# import sibling utilities\n",
    "import sys\n",
    "sys.path.append('../')\n",
    "\n",
    "import pandas as pd\n",
    "import numpy as np\n",
    "import json\n",
    "import matplotlib.pyplot as plt\n",
    "import seaborn as sns\n",
    "import logging\n",
    "import importlib\n",
    "\n",
    "import util.dict_util as du\n",
    "import util.report_util as ru\n",
    "import util.plot_util as pu\n",
    "\n",
    "logging.basicConfig(level=logging.ERROR)\n",
    "\n",
    "%matplotlib inline\n",
    "sns.set(font_scale=2)\n"
   ]
  },
  {
   "cell_type": "markdown",
   "metadata": {},
   "source": [
    "Load PySpark LR Report"
   ]
  },
  {
   "cell_type": "code",
   "execution_count": 2,
   "metadata": {},
   "outputs": [],
   "source": [
    "# load report file form all of our deep learning models\n",
    "REPORT_DIR = \"../reports\"\n",
    "REPORT_LR = f'{REPORT_DIR}/201911-pyspark-report.csv'\n",
    "\n",
    "\n",
    "report_lr = pd.read_csv(REPORT_LR, quotechar=\"'\")\n",
    "# flatten out classification report so we can graph later\n",
    "report_lr = ru.convert_dnn_report_format(report_lr)\n",
    "\n",
    "# calculate our custom score\n",
    "report_lr[\"eval_metric\"] = report_lr.classification_report.apply(lambda x: ru.calculate_metric(json.loads(x)))\n"
   ]
  },
  {
   "cell_type": "markdown",
   "metadata": {},
   "source": [
    "ModelWrapper names the reports besed on run date so far. This has to be refactored. Some of the LSTM training was done in 11/2019 and others in 1/2020. Until then, we will merge 2 reports together into one\n"
   ]
  },
  {
   "cell_type": "code",
   "execution_count": 3,
   "metadata": {},
   "outputs": [],
   "source": [
    "# runs from 11/2019\n",
    "REPORT_LSTM_1 = f'{REPORT_DIR}/2019-11-dl_prototype-report.csv'\n",
    "# runs from 1/2020\n",
    "REPORT_LSTM_2 = f'{REPORT_DIR}/2020-01-dl_prototype-report.csv'\n",
    "\n",
    "report_dnn = pd.read_csv(REPORT_LSTM_1, quotechar=\"'\")\n",
    "report_dnn = report_dnn.append(pd.read_csv(REPORT_LSTM_2, quotechar=\"'\"), ignore_index=True, sort=False)\n",
    "\n",
    "\n",
    "\n",
    "# report_lstm = report_dnn[(report_dnn.model_name == \"LSTMB\") & (report_dnn.sampling_type.isna())]\n",
    "report_lstm = report_dnn[(report_dnn.model_name == \"LSTMB\") & (report_dnn.sampling_type == \"none\")].copy()\n",
    "report_lstm = ru.convert_dnn_report_format(report_lstm)\n",
    "\n",
    "# calculate our custom score\n",
    "report_lstm[\"eval_metric\"] = report_lstm.classification_report.apply(lambda x: ru.calculate_metric(json.loads(x)))\n"
   ]
  },
  {
   "cell_type": "code",
   "execution_count": 4,
   "metadata": {},
   "outputs": [
    {
     "data": {
      "text/html": [
       "<div>\n",
       "<style scoped>\n",
       "    .dataframe tbody tr th:only-of-type {\n",
       "        vertical-align: middle;\n",
       "    }\n",
       "\n",
       "    .dataframe tbody tr th {\n",
       "        vertical-align: top;\n",
       "    }\n",
       "\n",
       "    .dataframe thead th {\n",
       "        text-align: right;\n",
       "    }\n",
       "</style>\n",
       "<table border=\"1\" class=\"dataframe\">\n",
       "  <thead>\n",
       "    <tr style=\"text-align: right;\">\n",
       "      <th></th>\n",
       "      <th>train_examples</th>\n",
       "      <th>eval_metric</th>\n",
       "    </tr>\n",
       "  </thead>\n",
       "  <tbody>\n",
       "    <tr>\n",
       "      <th>0</th>\n",
       "      <td>44726.0</td>\n",
       "      <td>0.422127</td>\n",
       "    </tr>\n",
       "    <tr>\n",
       "      <th>1</th>\n",
       "      <td>89544.0</td>\n",
       "      <td>0.454550</td>\n",
       "    </tr>\n",
       "    <tr>\n",
       "      <th>2</th>\n",
       "      <td>179168.0</td>\n",
       "      <td>0.483252</td>\n",
       "    </tr>\n",
       "    <tr>\n",
       "      <th>3</th>\n",
       "      <td>447989.0</td>\n",
       "      <td>0.499181</td>\n",
       "    </tr>\n",
       "    <tr>\n",
       "      <th>4</th>\n",
       "      <td>896004.0</td>\n",
       "      <td>0.507036</td>\n",
       "    </tr>\n",
       "    <tr>\n",
       "      <th>5</th>\n",
       "      <td>1799736.0</td>\n",
       "      <td>0.514962</td>\n",
       "    </tr>\n",
       "    <tr>\n",
       "      <th>6</th>\n",
       "      <td>3599433.0</td>\n",
       "      <td>0.515266</td>\n",
       "    </tr>\n",
       "    <tr>\n",
       "      <th>7</th>\n",
       "      <td>8064337.0</td>\n",
       "      <td>0.517467</td>\n",
       "    </tr>\n",
       "  </tbody>\n",
       "</table>\n",
       "</div>"
      ],
      "text/plain": [
       "   train_examples  eval_metric\n",
       "0         44726.0     0.422127\n",
       "1         89544.0     0.454550\n",
       "2        179168.0     0.483252\n",
       "3        447989.0     0.499181\n",
       "4        896004.0     0.507036\n",
       "5       1799736.0     0.514962\n",
       "6       3599433.0     0.515266\n",
       "7       8064337.0     0.517467"
      ]
     },
     "execution_count": 4,
     "metadata": {},
     "output_type": "execute_result"
    }
   ],
   "source": [
    "report_lr[[\"train_examples\", \"eval_metric\"]]"
   ]
  },
  {
   "cell_type": "code",
   "execution_count": 17,
   "metadata": {},
   "outputs": [
    {
     "data": {
      "text/html": [
       "<div>\n",
       "<style scoped>\n",
       "    .dataframe tbody tr th:only-of-type {\n",
       "        vertical-align: middle;\n",
       "    }\n",
       "\n",
       "    .dataframe tbody tr th {\n",
       "        vertical-align: top;\n",
       "    }\n",
       "\n",
       "    .dataframe thead th {\n",
       "        text-align: right;\n",
       "    }\n",
       "</style>\n",
       "<table border=\"1\" class=\"dataframe\">\n",
       "  <thead>\n",
       "    <tr style=\"text-align: right;\">\n",
       "      <th></th>\n",
       "      <th>train_examples</th>\n",
       "      <th>eval_metric</th>\n",
       "    </tr>\n",
       "  </thead>\n",
       "  <tbody>\n",
       "    <tr>\n",
       "      <th>0</th>\n",
       "      <td>149350.0</td>\n",
       "      <td>0.333960</td>\n",
       "    </tr>\n",
       "    <tr>\n",
       "      <th>2</th>\n",
       "      <td>448051.0</td>\n",
       "      <td>0.394009</td>\n",
       "    </tr>\n",
       "    <tr>\n",
       "      <th>3</th>\n",
       "      <td>896119.0</td>\n",
       "      <td>0.395784</td>\n",
       "    </tr>\n",
       "    <tr>\n",
       "      <th>1</th>\n",
       "      <td>1800000.0</td>\n",
       "      <td>0.367591</td>\n",
       "    </tr>\n",
       "  </tbody>\n",
       "</table>\n",
       "</div>"
      ],
      "text/plain": [
       "   train_examples  eval_metric\n",
       "0        149350.0     0.333960\n",
       "2        448051.0     0.394009\n",
       "3        896119.0     0.395784\n",
       "1       1800000.0     0.367591"
      ]
     },
     "execution_count": 17,
     "metadata": {},
     "output_type": "execute_result"
    }
   ],
   "source": [
    "report_lstm[[\"train_examples\", \"eval_metric\"]].sort_values(\"train_examples\")"
   ]
  },
  {
   "cell_type": "code",
   "execution_count": 6,
   "metadata": {},
   "outputs": [
    {
     "data": {
      "image/png": "[encoded data removed]",
      "text/plain": [
       "<Figure size 1440x720 with 1 Axes>"
      ]
     },
     "metadata": {
      "needs_background": "light"
     },
     "output_type": "display_data"
    }
   ],
   "source": [
    "f, a = plt.subplots(1, 1, figsize=(20, 10))\n",
    "sns.lineplot(data=report_lr, x=\"train_examples\", y=\"eval_metric\", marker=\"o\", color=\"r\", label=\"LRB\")\n",
    "sns.lineplot(data=report_lstm, x=\"train_examples\", y=\"eval_metric\", marker=\"o\", color=\"g\", label=\"LSTMB\")\n",
    "_ = plt.xticks(rotation=45)\n",
    "_ = plt.xlabel(\"Samples\")\n",
    "_ = plt.ylabel(\"Score\")\n",
    "_ = plt.title(\"LRB vs LSTM\")\n",
    "\n",
    "\n"
   ]
  },
  {
   "cell_type": "code",
   "execution_count": null,
   "metadata": {},
   "outputs": [],
   "source": []
  },
  {
   "cell_type": "code",
   "execution_count": null,
   "metadata": {},
   "outputs": [],
   "source": []
  },
  {
   "cell_type": "code",
   "execution_count": null,
   "metadata": {},
   "outputs": [],
   "source": []
  },
  {
   "cell_type": "code",
   "execution_count": null,
   "metadata": {},
   "outputs": [],
   "source": []
  },
  {
   "cell_type": "code",
   "execution_count": null,
   "metadata": {},
   "outputs": [],
   "source": []
  },
  {
   "cell_type": "code",
   "execution_count": null,
   "metadata": {},
   "outputs": [],
   "source": []
  },
  {
   "cell_type": "code",
   "execution_count": null,
   "metadata": {},
   "outputs": [],
   "source": []
  },
  {
   "cell_type": "code",
   "execution_count": null,
   "metadata": {},
   "outputs": [],
   "source": []
  },
  {
   "cell_type": "code",
   "execution_count": null,
   "metadata": {},
   "outputs": [],
   "source": []
  },
  {
   "cell_type": "code",
   "execution_count": null,
   "metadata": {},
   "outputs": [],
   "source": []
  },
  {
   "cell_type": "code",
   "execution_count": null,
   "metadata": {},
   "outputs": [],
   "source": []
  }
 ],
 "metadata": {
  "colab": {
   "name": "2019-07-30-deep_learning_summary.ipynb",
   "provenance": [
    {
     "file_id": "1T-HXwGeGseHkb0WjwtMzzvj4W4mfeTz9",
     "timestamp": 1564552845793
    }
   ],
   "version": "0.3.2"
  },
  "kernelspec": {
   "display_name": "Python 3",
   "language": "python",
   "name": "python3"
  },
  "language_info": {
   "codemirror_mode": {
    "name": "ipython",
    "version": 3
   },
   "file_extension": ".py",
   "mimetype": "text/x-python",
   "name": "python",
   "nbconvert_exporter": "python",
   "pygments_lexer": "ipython3",
   "version": "3.7.6"
  }
 },
 "nbformat": 4,
 "nbformat_minor": 4
}
