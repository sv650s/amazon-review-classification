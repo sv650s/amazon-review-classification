{
 "cells": [
  {
   "cell_type": "markdown",
   "metadata": {},
   "source": [
    "# Sampling\n",
    "\n",
    "We have a class imbalance problem in our dataset where most reviews are 5-stars and 1-stars which leads to model bias wanted to classify reviews into one of these two categories.\n",
    "\n",
    "In this notebook, we will use various sampling techniques to see if we can improve our model performance.\n",
    "\n",
    "Model we will use here logistic regression with sample_weight set to 'balanced' (LRB) since this performed the best in our previous notebook. \n",
    "\n",
    "Since Decision Tree with class_weight set to 'balanced' (DTB) did fairly well in the last notebook, we will also run that here.\n",
    "\n",
    "The same dataset will be used for all models - unigram TF-IDF with max features of 10k.\n",
    "\n",
    "We will re-run this model using the same dataset as a baseline for this notebook to compare.\n",
    "\n",
    "Count of number of examples in each class after sampling was saved to a csv file so we can load them here and look at results.\n",
    "\n",
    "Again, metric we are using is a harmonic mean between recall of minority classes and precision of majority class\n",
    "\n",
    "### Sampling Techniques\n",
    "\n",
    "* Random Under Sampling - undersampling technique to randomly remove majority class samples until our classes are balanced\n",
    "* NEARMISS-2 - undersampling technique where majority class samples that are near minority classes are removed to create a more distinct border between majority and minority classes\n",
    "* SMOTE - oversampling technique where new minority examples are synthesized based on nearest neighbors of minority classes\n",
    "\n",
    "# Result\n",
    "\n",
    "Over sampling and undersampling had little effect on logistic regression. \n",
    "\n",
    "However, under sampling increased our performance for decision tree by around 5%. However, because under sampling give us a resulting dataset of 12k samples (~4 % of our original size). With few training examples, I have concerns about whether this would generalizing well.\n",
    "\n",
    "Our best results for decision tree, logistic regression is still performing at around 10% better.\n",
    "\n",
    "In the futures, if we use under sampling, we would need to start with a bigger dataset. If we want 50k samples, would need to start with 1.25 million samples which seem impractical given my computing contraints\n",
    "\n",
    "```\n",
    "50k * 0.04 = 1.25mil\n",
    "```\n",
    "\n"
   ]
  },
  {
   "cell_type": "code",
   "execution_count": 15,
   "metadata": {},
   "outputs": [],
   "source": [
    "import os\n",
    "import sys\n",
    "module_path = os.path.abspath(os.path.join('..'))\n",
    "if module_path not in sys.path:\n",
    "    sys.path.append(module_path)\n",
    "    \n",
    "import importlib\n",
    "import re\n",
    "import pandas as pd\n",
    "import matplotlib.pyplot as plt\n",
    "import seaborn as sns\n",
    "import util.model_util as mu\n",
    "import util.report_util as ru\n",
    "\n",
    "pd.set_option('max_colwidth', 150)\n",
    "%matplotlib inline\n",
    "sns.set()\n",
    "\n",
    "CONFIG_DIR = \"../config\"\n",
    "CONFIG_FILE = f'{CONFIG_DIR}/2019-11-01-run_classifiers-sampling.csv'\n",
    "REPORT_DIR = \"../reports\"\n",
    "REPORT_FILE = f'{REPORT_DIR}/2019-11-01-run_classifiers-sampling-report.csv'\n",
    "DATA_FILE = f'../dataset/feature_files/review_body-tfidf-df_default-ngram11-49784-10000-nolda.csv'"
   ]
  },
  {
   "cell_type": "markdown",
   "metadata": {},
   "source": [
    "# Running Our model\n",
    "\n",
    "To run the models again, execute this in the *tools* directory\n",
    "\n",
    "```\n",
    "python run_classifiers.py ../config/2019-11-01-run_classifiers-sampling.csv \n",
    "```\n",
    "\n",
    "Configuration file is listed below"
   ]
  },
  {
   "cell_type": "code",
   "execution_count": 7,
   "metadata": {},
   "outputs": [
    {
     "data": {
      "text/html": [
       "<div>\n",
       "<style scoped>\n",
       "    .dataframe tbody tr th:only-of-type {\n",
       "        vertical-align: middle;\n",
       "    }\n",
       "\n",
       "    .dataframe tbody tr th {\n",
       "        vertical-align: top;\n",
       "    }\n",
       "\n",
       "    .dataframe thead th {\n",
       "        text-align: right;\n",
       "    }\n",
       "</style>\n",
       "<table border=\"1\" class=\"dataframe\">\n",
       "  <thead>\n",
       "    <tr style=\"text-align: right;\">\n",
       "      <th></th>\n",
       "      <th>data_dir</th>\n",
       "      <th>data_file</th>\n",
       "      <th>class_column</th>\n",
       "      <th>dtype</th>\n",
       "      <th>drop_columns</th>\n",
       "      <th>model_name</th>\n",
       "      <th>sampling</th>\n",
       "    </tr>\n",
       "  </thead>\n",
       "  <tbody>\n",
       "    <tr>\n",
       "      <th>0</th>\n",
       "      <td>../dataset/feature_files</td>\n",
       "      <td>review_body-tfidf-df_default-ngram11-49784-10000-nolda.csv</td>\n",
       "      <td>star_rating</td>\n",
       "      <td>NaN</td>\n",
       "      <td>helpful_votes, total_votes, helpful_product</td>\n",
       "      <td>LRB</td>\n",
       "      <td>NaN</td>\n",
       "    </tr>\n",
       "    <tr>\n",
       "      <th>1</th>\n",
       "      <td>../dataset/feature_files</td>\n",
       "      <td>review_body-tfidf-df_default-ngram11-49784-10000-nolda.csv</td>\n",
       "      <td>star_rating</td>\n",
       "      <td>NaN</td>\n",
       "      <td>helpful_votes, total_votes, helpful_product</td>\n",
       "      <td>DTB</td>\n",
       "      <td>NaN</td>\n",
       "    </tr>\n",
       "    <tr>\n",
       "      <th>2</th>\n",
       "      <td>../dataset/feature_files</td>\n",
       "      <td>review_body-tfidf-df_default-ngram11-49784-10000-nolda.csv</td>\n",
       "      <td>star_rating</td>\n",
       "      <td>NaN</td>\n",
       "      <td>helpful_votes, total_votes, helpful_product</td>\n",
       "      <td>LRB</td>\n",
       "      <td>smote</td>\n",
       "    </tr>\n",
       "    <tr>\n",
       "      <th>3</th>\n",
       "      <td>../dataset/feature_files</td>\n",
       "      <td>review_body-tfidf-df_default-ngram11-49784-10000-nolda.csv</td>\n",
       "      <td>star_rating</td>\n",
       "      <td>NaN</td>\n",
       "      <td>helpful_votes, total_votes, helpful_product</td>\n",
       "      <td>DTB</td>\n",
       "      <td>smote</td>\n",
       "    </tr>\n",
       "    <tr>\n",
       "      <th>4</th>\n",
       "      <td>../dataset/feature_files</td>\n",
       "      <td>review_body-tfidf-df_default-ngram11-49784-10000-nolda.csv</td>\n",
       "      <td>star_rating</td>\n",
       "      <td>NaN</td>\n",
       "      <td>helpful_votes, total_votes, helpful_product</td>\n",
       "      <td>LRB</td>\n",
       "      <td>random_under_sampling</td>\n",
       "    </tr>\n",
       "    <tr>\n",
       "      <th>5</th>\n",
       "      <td>../dataset/feature_files</td>\n",
       "      <td>review_body-tfidf-df_default-ngram11-49784-10000-nolda.csv</td>\n",
       "      <td>star_rating</td>\n",
       "      <td>NaN</td>\n",
       "      <td>helpful_votes, total_votes, helpful_product</td>\n",
       "      <td>DTB</td>\n",
       "      <td>random_under_sampling</td>\n",
       "    </tr>\n",
       "    <tr>\n",
       "      <th>6</th>\n",
       "      <td>../dataset/feature_files</td>\n",
       "      <td>review_body-tfidf-df_default-ngram11-49784-10000-nolda.csv</td>\n",
       "      <td>star_rating</td>\n",
       "      <td>NaN</td>\n",
       "      <td>helpful_votes, total_votes, helpful_product</td>\n",
       "      <td>LRB</td>\n",
       "      <td>nearmiss-2</td>\n",
       "    </tr>\n",
       "    <tr>\n",
       "      <th>7</th>\n",
       "      <td>../dataset/feature_files</td>\n",
       "      <td>review_body-tfidf-df_default-ngram11-49784-10000-nolda.csv</td>\n",
       "      <td>star_rating</td>\n",
       "      <td>NaN</td>\n",
       "      <td>helpful_votes, total_votes, helpful_product</td>\n",
       "      <td>DTB</td>\n",
       "      <td>nearmiss-2</td>\n",
       "    </tr>\n",
       "  </tbody>\n",
       "</table>\n",
       "</div>"
      ],
      "text/plain": [
       "                   data_dir  \\\n",
       "0  ../dataset/feature_files   \n",
       "1  ../dataset/feature_files   \n",
       "2  ../dataset/feature_files   \n",
       "3  ../dataset/feature_files   \n",
       "4  ../dataset/feature_files   \n",
       "5  ../dataset/feature_files   \n",
       "6  ../dataset/feature_files   \n",
       "7  ../dataset/feature_files   \n",
       "\n",
       "                                                    data_file class_column  \\\n",
       "0  review_body-tfidf-df_default-ngram11-49784-10000-nolda.csv  star_rating   \n",
       "1  review_body-tfidf-df_default-ngram11-49784-10000-nolda.csv  star_rating   \n",
       "2  review_body-tfidf-df_default-ngram11-49784-10000-nolda.csv  star_rating   \n",
       "3  review_body-tfidf-df_default-ngram11-49784-10000-nolda.csv  star_rating   \n",
       "4  review_body-tfidf-df_default-ngram11-49784-10000-nolda.csv  star_rating   \n",
       "5  review_body-tfidf-df_default-ngram11-49784-10000-nolda.csv  star_rating   \n",
       "6  review_body-tfidf-df_default-ngram11-49784-10000-nolda.csv  star_rating   \n",
       "7  review_body-tfidf-df_default-ngram11-49784-10000-nolda.csv  star_rating   \n",
       "\n",
       "   dtype                                 drop_columns model_name  \\\n",
       "0    NaN  helpful_votes, total_votes, helpful_product        LRB   \n",
       "1    NaN  helpful_votes, total_votes, helpful_product        DTB   \n",
       "2    NaN  helpful_votes, total_votes, helpful_product        LRB   \n",
       "3    NaN  helpful_votes, total_votes, helpful_product        DTB   \n",
       "4    NaN  helpful_votes, total_votes, helpful_product        LRB   \n",
       "5    NaN  helpful_votes, total_votes, helpful_product        DTB   \n",
       "6    NaN  helpful_votes, total_votes, helpful_product        LRB   \n",
       "7    NaN  helpful_votes, total_votes, helpful_product        DTB   \n",
       "\n",
       "                sampling  \n",
       "0                    NaN  \n",
       "1                    NaN  \n",
       "2                  smote  \n",
       "3                  smote  \n",
       "4  random_under_sampling  \n",
       "5  random_under_sampling  \n",
       "6             nearmiss-2  \n",
       "7             nearmiss-2  "
      ]
     },
     "execution_count": 7,
     "metadata": {},
     "output_type": "execute_result"
    }
   ],
   "source": [
    "config = pd.read_csv(CONFIG_FILE).drop([\"status\", \"status_date\", \"message\"], axis=1)\n",
    "config"
   ]
  },
  {
   "cell_type": "markdown",
   "metadata": {},
   "source": [
    "# Sampling Distribution\n",
    "\n",
    "Before we look at results, let's look at the original distribution of of samples"
   ]
  },
  {
   "cell_type": "code",
   "execution_count": 16,
   "metadata": {},
   "outputs": [],
   "source": [
    "data = pd.read_csv(f'{report.head(1).data_dir}/{report.head(1).data_file}')"
   ]
  },
  {
   "cell_type": "code",
   "execution_count": 19,
   "metadata": {},
   "outputs": [
    {
     "data": {
      "text/html": [
       "<div>\n",
       "<style scoped>\n",
       "    .dataframe tbody tr th:only-of-type {\n",
       "        vertical-align: middle;\n",
       "    }\n",
       "\n",
       "    .dataframe tbody tr th {\n",
       "        vertical-align: top;\n",
       "    }\n",
       "\n",
       "    .dataframe thead th {\n",
       "        text-align: right;\n",
       "    }\n",
       "</style>\n",
       "<table border=\"1\" class=\"dataframe\">\n",
       "  <thead>\n",
       "    <tr style=\"text-align: right;\">\n",
       "      <th></th>\n",
       "      <th>helpful_product</th>\n",
       "    </tr>\n",
       "    <tr>\n",
       "      <th>star_rating</th>\n",
       "      <th></th>\n",
       "    </tr>\n",
       "  </thead>\n",
       "  <tbody>\n",
       "    <tr>\n",
       "      <th>1</th>\n",
       "      <td>6939</td>\n",
       "    </tr>\n",
       "    <tr>\n",
       "      <th>2</th>\n",
       "      <td>3226</td>\n",
       "    </tr>\n",
       "    <tr>\n",
       "      <th>3</th>\n",
       "      <td>4669</td>\n",
       "    </tr>\n",
       "    <tr>\n",
       "      <th>4</th>\n",
       "      <td>8410</td>\n",
       "    </tr>\n",
       "    <tr>\n",
       "      <th>5</th>\n",
       "      <td>26540</td>\n",
       "    </tr>\n",
       "  </tbody>\n",
       "</table>\n",
       "</div>"
      ],
      "text/plain": [
       "             helpful_product\n",
       "star_rating                 \n",
       "1                       6939\n",
       "2                       3226\n",
       "3                       4669\n",
       "4                       8410\n",
       "5                      26540"
      ]
     },
     "execution_count": 19,
     "metadata": {},
     "output_type": "execute_result"
    }
   ],
   "source": [
    "grouped_count = data[[\"star_rating\", \"helpful_product\"]].groupby(\"star_rating\").count()\n",
    "grouped_count"
   ]
  },
  {
   "cell_type": "code",
   "execution_count": 46,
   "metadata": {},
   "outputs": [],
   "source": [
    "grouped_count = grouped_count.rename({\"helpful_product\": \"original\"}, axis=1)"
   ]
  },
  {
   "cell_type": "code",
   "execution_count": 57,
   "metadata": {},
   "outputs": [],
   "source": [
    "def plot_distribution(name: str, data: pd.DataFrame):\n",
    "    f, a = plt.subplots(1, 1, figsize=(20, 5))\n",
    "    grouped_count.plot(kind='bar', ax=a, alpha=0.5)\n",
    "\n",
    "    _ = data.plot(kind='bar', ax=a, color='orange', alpha=0.5)"
   ]
  },
  {
   "cell_type": "markdown",
   "metadata": {},
   "source": [
    "## Undersampling\n",
    "### Random Undersampling\n",
    "\n",
    "Our sample distribution is even after under sampling. However, because we only had about 2500 Star-2 reviews to begin with, this reduced all classes to only have around 2500 entires giving us only 12k samples to train with"
   ]
  },
  {
   "cell_type": "code",
   "execution_count": 52,
   "metadata": {},
   "outputs": [
    {
     "data": {
      "text/html": [
       "<div>\n",
       "<style scoped>\n",
       "    .dataframe tbody tr th:only-of-type {\n",
       "        vertical-align: middle;\n",
       "    }\n",
       "\n",
       "    .dataframe tbody tr th {\n",
       "        vertical-align: top;\n",
       "    }\n",
       "\n",
       "    .dataframe thead th {\n",
       "        text-align: right;\n",
       "    }\n",
       "</style>\n",
       "<table border=\"1\" class=\"dataframe\">\n",
       "  <thead>\n",
       "    <tr style=\"text-align: right;\">\n",
       "      <th></th>\n",
       "      <th>Random Under Sampling</th>\n",
       "    </tr>\n",
       "    <tr>\n",
       "      <th>star_rating</th>\n",
       "      <th></th>\n",
       "    </tr>\n",
       "  </thead>\n",
       "  <tbody>\n",
       "    <tr>\n",
       "      <th>1</th>\n",
       "      <td>2420</td>\n",
       "    </tr>\n",
       "    <tr>\n",
       "      <th>2</th>\n",
       "      <td>2420</td>\n",
       "    </tr>\n",
       "    <tr>\n",
       "      <th>3</th>\n",
       "      <td>2420</td>\n",
       "    </tr>\n",
       "    <tr>\n",
       "      <th>4</th>\n",
       "      <td>2420</td>\n",
       "    </tr>\n",
       "    <tr>\n",
       "      <th>5</th>\n",
       "      <td>2420</td>\n",
       "    </tr>\n",
       "  </tbody>\n",
       "</table>\n",
       "</div>"
      ],
      "text/plain": [
       "             Random Under Sampling\n",
       "star_rating                       \n",
       "1                             2420\n",
       "2                             2420\n",
       "3                             2420\n",
       "4                             2420\n",
       "5                             2420"
      ]
     },
     "execution_count": 52,
     "metadata": {},
     "output_type": "execute_result"
    }
   ],
   "source": [
    "rus = pd.read_csv('../reports/review_body-tfidf-df_default-ngram11-49784-10000-nolda-histogram-random_under_sampling.csv')\n",
    "rus = rus.set_index(\"star_rating\").rename({\"index\": \"Random Under Sampling\"}, axis=1)\n",
    "rus"
   ]
  },
  {
   "cell_type": "code",
   "execution_count": 56,
   "metadata": {},
   "outputs": [
    {
     "data": {
      "image/png": "[encoded data removed]",
      "text/plain": [
       "<Figure size 1440x360 with 1 Axes>"
      ]
     },
     "metadata": {},
     "output_type": "display_data"
    }
   ],
   "source": [
    "plot_distribution(\"Random Under Sampling\", rus)"
   ]
  },
  {
   "cell_type": "markdown",
   "metadata": {},
   "source": [
    "# Nearmiss-2\n",
    "\n",
    "Again, nearmiss reduced our dataset to be about 12k because there were only about 2500 samples in the 2-star class"
   ]
  },
  {
   "cell_type": "code",
   "execution_count": 58,
   "metadata": {},
   "outputs": [
    {
     "data": {
      "text/html": [
       "<div>\n",
       "<style scoped>\n",
       "    .dataframe tbody tr th:only-of-type {\n",
       "        vertical-align: middle;\n",
       "    }\n",
       "\n",
       "    .dataframe tbody tr th {\n",
       "        vertical-align: top;\n",
       "    }\n",
       "\n",
       "    .dataframe thead th {\n",
       "        text-align: right;\n",
       "    }\n",
       "</style>\n",
       "<table border=\"1\" class=\"dataframe\">\n",
       "  <thead>\n",
       "    <tr style=\"text-align: right;\">\n",
       "      <th></th>\n",
       "      <th>Nearmiss</th>\n",
       "    </tr>\n",
       "    <tr>\n",
       "      <th>star_rating</th>\n",
       "      <th></th>\n",
       "    </tr>\n",
       "  </thead>\n",
       "  <tbody>\n",
       "    <tr>\n",
       "      <th>1</th>\n",
       "      <td>2420</td>\n",
       "    </tr>\n",
       "    <tr>\n",
       "      <th>2</th>\n",
       "      <td>2420</td>\n",
       "    </tr>\n",
       "    <tr>\n",
       "      <th>3</th>\n",
       "      <td>2420</td>\n",
       "    </tr>\n",
       "    <tr>\n",
       "      <th>4</th>\n",
       "      <td>2420</td>\n",
       "    </tr>\n",
       "    <tr>\n",
       "      <th>5</th>\n",
       "      <td>2420</td>\n",
       "    </tr>\n",
       "  </tbody>\n",
       "</table>\n",
       "</div>"
      ],
      "text/plain": [
       "             Nearmiss\n",
       "star_rating          \n",
       "1                2420\n",
       "2                2420\n",
       "3                2420\n",
       "4                2420\n",
       "5                2420"
      ]
     },
     "execution_count": 58,
     "metadata": {},
     "output_type": "execute_result"
    }
   ],
   "source": [
    "nearmiss = pd.read_csv('../reports/review_body-tfidf-df_default-ngram11-49784-10000-nolda-histogram-nearmiss-2.csv')\n",
    "nearmiss = nearmiss.set_index('star_rating').rename({\"index\": \"Nearmiss\"}, axis=1)\n",
    "nearmiss"
   ]
  },
  {
   "cell_type": "code",
   "execution_count": 59,
   "metadata": {},
   "outputs": [
    {
     "data": {
      "image/png": "[encoded data removed]",
      "text/plain": [
       "<Figure size 1440x360 with 1 Axes>"
      ]
     },
     "metadata": {},
     "output_type": "display_data"
    }
   ],
   "source": [
    "plot_distribution(\"Nearmiss\", nearmiss)"
   ]
  },
  {
   "cell_type": "markdown",
   "metadata": {},
   "source": [
    "## SMOTE\n",
    "\n",
    "Since SMOTE over samples the minority class. The resulting distribution gives us about 20k per class resulting is near 100k samples in our dataset"
   ]
  },
  {
   "cell_type": "code",
   "execution_count": 61,
   "metadata": {},
   "outputs": [
    {
     "data": {
      "text/html": [
       "<div>\n",
       "<style scoped>\n",
       "    .dataframe tbody tr th:only-of-type {\n",
       "        vertical-align: middle;\n",
       "    }\n",
       "\n",
       "    .dataframe tbody tr th {\n",
       "        vertical-align: top;\n",
       "    }\n",
       "\n",
       "    .dataframe thead th {\n",
       "        text-align: right;\n",
       "    }\n",
       "</style>\n",
       "<table border=\"1\" class=\"dataframe\">\n",
       "  <thead>\n",
       "    <tr style=\"text-align: right;\">\n",
       "      <th></th>\n",
       "      <th>Nearmiss</th>\n",
       "    </tr>\n",
       "    <tr>\n",
       "      <th>star_rating</th>\n",
       "      <th></th>\n",
       "    </tr>\n",
       "  </thead>\n",
       "  <tbody>\n",
       "    <tr>\n",
       "      <th>1</th>\n",
       "      <td>19905</td>\n",
       "    </tr>\n",
       "    <tr>\n",
       "      <th>2</th>\n",
       "      <td>19905</td>\n",
       "    </tr>\n",
       "    <tr>\n",
       "      <th>3</th>\n",
       "      <td>19905</td>\n",
       "    </tr>\n",
       "    <tr>\n",
       "      <th>4</th>\n",
       "      <td>19905</td>\n",
       "    </tr>\n",
       "    <tr>\n",
       "      <th>5</th>\n",
       "      <td>19905</td>\n",
       "    </tr>\n",
       "  </tbody>\n",
       "</table>\n",
       "</div>"
      ],
      "text/plain": [
       "             Nearmiss\n",
       "star_rating          \n",
       "1               19905\n",
       "2               19905\n",
       "3               19905\n",
       "4               19905\n",
       "5               19905"
      ]
     },
     "execution_count": 61,
     "metadata": {},
     "output_type": "execute_result"
    }
   ],
   "source": [
    "smote = pd.read_csv('../reports/review_body-tfidf-df_default-ngram11-49784-10000-nolda-histogram-smote.csv')\n",
    "smote = smote.set_index('star_rating').rename({\"index\": \"Nearmiss\"}, axis=1)\n",
    "smote"
   ]
  },
  {
   "cell_type": "code",
   "execution_count": 62,
   "metadata": {},
   "outputs": [
    {
     "data": {
      "image/png": "[encoded data removed]",
      "text/plain": [
       "<Figure size 1440x360 with 1 Axes>"
      ]
     },
     "metadata": {},
     "output_type": "display_data"
    }
   ],
   "source": [
    "plot_distribution(\"SMOTE\", smote)"
   ]
  },
  {
   "cell_type": "code",
   "execution_count": null,
   "metadata": {},
   "outputs": [],
   "source": []
  },
  {
   "cell_type": "code",
   "execution_count": null,
   "metadata": {},
   "outputs": [],
   "source": []
  },
  {
   "cell_type": "code",
   "execution_count": null,
   "metadata": {},
   "outputs": [],
   "source": []
  },
  {
   "cell_type": "markdown",
   "metadata": {},
   "source": [
    "# Results\n",
    "\n",
    "Over sampling and under-sampling actually did not do as well as no sampling at all for Logistic Regression\n",
    "\n",
    "For Decision Tree - oversampling with SMOT did .5% worse and under sampling did about 5% better than no sampling"
   ]
  },
  {
   "cell_type": "code",
   "execution_count": 91,
   "metadata": {},
   "outputs": [],
   "source": [
    "report = ru.preprocess_report(pd.read_csv(REPORT_FILE))\n",
    "report"
   ]
  },
  {
   "cell_type": "code",
   "execution_count": 93,
   "metadata": {},
   "outputs": [
    {
     "data": {
      "image/png": "[encoded data removed]",
      "text/plain": [
       "<Figure size 1440x360 with 1 Axes>"
      ]
     },
     "metadata": {},
     "output_type": "display_data"
    }
   ],
   "source": [
    "f, a = plt.subplots(1, 1, figsize=(20, 5))\n",
    "for model in report.model_name.unique():\n",
    "    sns.lineplot(data=report[report.model_name == model], \n",
    "                 x=\"sampling_str\", y='eval_metric', label=model, sort=False)\n",
    "_ = plt.title(\"Performance by Sampling Method and Model\")"
   ]
  },
  {
   "cell_type": "code",
   "execution_count": 94,
   "metadata": {},
   "outputs": [
    {
     "data": {
      "text/html": [
       "<div>\n",
       "<style scoped>\n",
       "    .dataframe tbody tr th:only-of-type {\n",
       "        vertical-align: middle;\n",
       "    }\n",
       "\n",
       "    .dataframe tbody tr th {\n",
       "        vertical-align: top;\n",
       "    }\n",
       "\n",
       "    .dataframe thead th {\n",
       "        text-align: right;\n",
       "    }\n",
       "</style>\n",
       "<table border=\"1\" class=\"dataframe\">\n",
       "  <thead>\n",
       "    <tr style=\"text-align: right;\">\n",
       "      <th></th>\n",
       "      <th>model_name</th>\n",
       "      <th>sampling_str</th>\n",
       "      <th>eval_metric</th>\n",
       "    </tr>\n",
       "  </thead>\n",
       "  <tbody>\n",
       "    <tr>\n",
       "      <th>1</th>\n",
       "      <td>DTB</td>\n",
       "      <td>sampling_none</td>\n",
       "      <td>0.285427</td>\n",
       "    </tr>\n",
       "    <tr>\n",
       "      <th>3</th>\n",
       "      <td>DTB</td>\n",
       "      <td>smote</td>\n",
       "      <td>0.285273</td>\n",
       "    </tr>\n",
       "    <tr>\n",
       "      <th>5</th>\n",
       "      <td>DTB</td>\n",
       "      <td>random_under_sampling</td>\n",
       "      <td>0.336634</td>\n",
       "    </tr>\n",
       "    <tr>\n",
       "      <th>7</th>\n",
       "      <td>DTB</td>\n",
       "      <td>nearmiss</td>\n",
       "      <td>0.329732</td>\n",
       "    </tr>\n",
       "    <tr>\n",
       "      <th>0</th>\n",
       "      <td>LRB</td>\n",
       "      <td>sampling_none</td>\n",
       "      <td>0.448756</td>\n",
       "    </tr>\n",
       "    <tr>\n",
       "      <th>2</th>\n",
       "      <td>LRB</td>\n",
       "      <td>smote</td>\n",
       "      <td>0.423700</td>\n",
       "    </tr>\n",
       "    <tr>\n",
       "      <th>4</th>\n",
       "      <td>LRB</td>\n",
       "      <td>random_under_sampling</td>\n",
       "      <td>0.443906</td>\n",
       "    </tr>\n",
       "    <tr>\n",
       "      <th>6</th>\n",
       "      <td>LRB</td>\n",
       "      <td>nearmiss</td>\n",
       "      <td>0.444631</td>\n",
       "    </tr>\n",
       "  </tbody>\n",
       "</table>\n",
       "</div>"
      ],
      "text/plain": [
       "  model_name           sampling_str  eval_metric\n",
       "1        DTB          sampling_none     0.285427\n",
       "3        DTB                  smote     0.285273\n",
       "5        DTB  random_under_sampling     0.336634\n",
       "7        DTB               nearmiss     0.329732\n",
       "0        LRB          sampling_none     0.448756\n",
       "2        LRB                  smote     0.423700\n",
       "4        LRB  random_under_sampling     0.443906\n",
       "6        LRB               nearmiss     0.444631"
      ]
     },
     "execution_count": 94,
     "metadata": {},
     "output_type": "execute_result"
    }
   ],
   "source": [
    "report[[\"model_name\", \"sampling_str\", \"eval_metric\"]].sort_values(\"model_name\")"
   ]
  },
  {
   "cell_type": "code",
   "execution_count": 96,
   "metadata": {},
   "outputs": [
    {
     "name": "stdout",
     "output_type": "stream",
     "text": [
      "[[ 687  561  209  135  143]\n",
      " [ 215  253  158   93   87]\n",
      " [ 159  318  275  232  183]\n",
      " [ 182  366  363  572  620]\n",
      " [ 435  651  712 1444 3393]]\n"
     ]
    }
   ],
   "source": [
    "import json\n",
    "\n",
    "print(report[(report.model_name == 'DTB') &\n",
    "                              (report.sampling_str == 'random_under_sampling')].confusion_matrix.values[0])"
   ]
  },
  {
   "cell_type": "code",
   "execution_count": 103,
   "metadata": {},
   "outputs": [
    {
     "data": {
      "text/html": [
       "<div>\n",
       "<style scoped>\n",
       "    .dataframe tbody tr th:only-of-type {\n",
       "        vertical-align: middle;\n",
       "    }\n",
       "\n",
       "    .dataframe tbody tr th {\n",
       "        vertical-align: top;\n",
       "    }\n",
       "\n",
       "    .dataframe thead th {\n",
       "        text-align: right;\n",
       "    }\n",
       "</style>\n",
       "<table border=\"1\" class=\"dataframe\">\n",
       "  <thead>\n",
       "    <tr style=\"text-align: right;\">\n",
       "      <th></th>\n",
       "      <th>model_name</th>\n",
       "      <th>eval_metric</th>\n",
       "      <th>1_precision</th>\n",
       "      <th>1_recall</th>\n",
       "      <th>2_precision</th>\n",
       "      <th>2_recall</th>\n",
       "      <th>3_precision</th>\n",
       "      <th>3_recall</th>\n",
       "      <th>4_precision</th>\n",
       "      <th>4_recall</th>\n",
       "      <th>5_precision</th>\n",
       "      <th>5_recall</th>\n",
       "      <th>macro avg_precision</th>\n",
       "      <th>macro avg_recall</th>\n",
       "      <th>weighted avg_precision</th>\n",
       "      <th>weighted avg_recall</th>\n",
       "    </tr>\n",
       "  </thead>\n",
       "  <tbody>\n",
       "    <tr>\n",
       "      <th>4</th>\n",
       "      <td>LRB</td>\n",
       "      <td>0.443906</td>\n",
       "      <td>0.610458</td>\n",
       "      <td>0.598847</td>\n",
       "      <td>0.191789</td>\n",
       "      <td>0.388337</td>\n",
       "      <td>0.233818</td>\n",
       "      <td>0.303342</td>\n",
       "      <td>0.311357</td>\n",
       "      <td>0.388493</td>\n",
       "      <td>0.847608</td>\n",
       "      <td>0.635418</td>\n",
       "      <td>0.439006</td>\n",
       "      <td>0.462887</td>\n",
       "      <td>0.623915</td>\n",
       "      <td>0.541459</td>\n",
       "    </tr>\n",
       "    <tr>\n",
       "      <th>5</th>\n",
       "      <td>DTB</td>\n",
       "      <td>0.336634</td>\n",
       "      <td>0.409416</td>\n",
       "      <td>0.395965</td>\n",
       "      <td>0.117729</td>\n",
       "      <td>0.313896</td>\n",
       "      <td>0.160163</td>\n",
       "      <td>0.235647</td>\n",
       "      <td>0.231018</td>\n",
       "      <td>0.271992</td>\n",
       "      <td>0.766606</td>\n",
       "      <td>0.511379</td>\n",
       "      <td>0.336986</td>\n",
       "      <td>0.345776</td>\n",
       "      <td>0.527431</td>\n",
       "      <td>0.416198</td>\n",
       "    </tr>\n",
       "  </tbody>\n",
       "</table>\n",
       "</div>"
      ],
      "text/plain": [
       "  model_name  eval_metric  1_precision  1_recall  2_precision  2_recall  \\\n",
       "4        LRB     0.443906     0.610458  0.598847     0.191789  0.388337   \n",
       "5        DTB     0.336634     0.409416  0.395965     0.117729  0.313896   \n",
       "\n",
       "   3_precision  3_recall  4_precision  4_recall  5_precision  5_recall  \\\n",
       "4     0.233818  0.303342     0.311357  0.388493     0.847608  0.635418   \n",
       "5     0.160163  0.235647     0.231018  0.271992     0.766606  0.511379   \n",
       "\n",
       "   macro avg_precision  macro avg_recall  weighted avg_precision  \\\n",
       "4             0.439006          0.462887                0.623915   \n",
       "5             0.336986          0.345776                0.527431   \n",
       "\n",
       "   weighted avg_recall  \n",
       "4             0.541459  \n",
       "5             0.416198  "
      ]
     },
     "execution_count": 103,
     "metadata": {},
     "output_type": "execute_result"
    }
   ],
   "source": [
    "cols = [\"model_name\", \"eval_metric\"]\n",
    "cols.extend([col for col in report.columns if re.search(\"(precision|recall)\", col)])\n",
    "report[((report.model_name == 'DTB') | (report.model_name == 'LRB')) &\n",
    "                              (report.sampling_str == 'random_under_sampling')][cols]"
   ]
  },
  {
   "cell_type": "code",
   "execution_count": null,
   "metadata": {},
   "outputs": [],
   "source": []
  }
 ],
 "metadata": {
  "kernelspec": {
   "display_name": "Python 3",
   "language": "python",
   "name": "python3"
  },
  "language_info": {
   "codemirror_mode": {
    "name": "ipython",
    "version": 3
   },
   "file_extension": ".py",
   "mimetype": "text/x-python",
   "name": "python",
   "nbconvert_exporter": "python",
   "pygments_lexer": "ipython3",
   "version": "3.7.5"
  }
 },
 "nbformat": 4,
 "nbformat_minor": 4
}
