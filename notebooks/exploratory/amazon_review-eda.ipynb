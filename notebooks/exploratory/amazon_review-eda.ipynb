{
 "cells": [
  {
   "cell_type": "markdown",
   "metadata": {},
   "source": [
    "# Amazon Review Data Exploration\n",
    "\n",
    "Download the amazon review dataset:\n",
    "https://s3.amazonaws.com/amazon-reviews-pds/tsv/index.txt\n",
    "\n",
    "SAMPLE CONTENT:\n",
    "https://s3.amazonaws.com/amazon-reviews-pds/tsv/sample_us.tsv\n",
    "https://s3.amazonaws.com/amazon-reviews-pds/tsv/sample_fr.tsv\n",
    "\n",
    "|DATA COLUMNS:| Description |\n",
    "|-------------|--------|\n",
    "|marketplace       | 2 letter country code of the marketplace where the review was written. |\n",
    "|customer_id       | Random identifier that can be used to aggregate reviews written by a single author. |\n",
    "|review_id         | The unique ID of the review. |\n",
    "|product_id        | The unique Product ID the review pertains to. In the multilingual dataset the reviews                    for the same product in different countries can be grouped by the same product_id. |\n",
    "|product_parent    | Random identifier that can be used to aggregate reviews for the same product. |\n",
    "|product_title     | Title of the product. |\n",
    "|product_category  | Broad product category that can be used to group reviews (also used to group the dataset into coherent parts). |\n",
    "|star_rating       | The 1-5 star rating of the review. |\n",
    "|helpful_votes     | Number of helpful votes. |\n",
    "|total_votes       | Number of total votes the review received. |\n",
    "|vine              | Review was written as part of the Vine program. |\n",
    "|verified_purchase | The review is on a verified purchase. |\n",
    "|review_headline   | The title of the review. |\n",
    "|review_body       | The review text. |\n",
    "|review_date       | The date the review was written. |\n",
    "\n",
    "DATA FORMAT\n",
    "Tab ('\\t') separated text file, without quote or escape characters.\n",
    "First line in each file is header; 1 line corresponds to 1 record.\n",
    "\n",
    "\n",
    "For speed analysis, I will be loading a subset of the data here - orginal file has 9 million entries. The original Amazon review file is ordered by date. We took 1 out of every 50 lines in the original file to create the dataset we are using here. "
   ]
  },
  {
   "cell_type": "code",
   "execution_count": 6,
   "metadata": {
    "pycharm": {
     "is_executing": false
    }
   },
   "outputs": [],
   "source": [
    "# import sibling utilities\n",
    "import sys\n",
    "sys.path.append('../..')\n",
    "\n",
    "import pandas as pd\n",
    "from pandas import DataFrame\n",
    "from pandas import Series\n",
    "import numpy as np\n",
    "import seaborn as sns\n",
    "import matplotlib.pyplot as plt\n",
    "%matplotlib inline\n",
    "sns.set()\n",
    "import logging\n",
    "\n",
    "logging.basicConfig(level=logging.INFO)\n",
    "\n",
    "import util.file_util as fu\n",
    "\n",
    "# global variables\n",
    "COLUMNS_TO_DROP=[\"marketplace\", \"vine\", \"verified_purchase\"]\n",
    "USE_PANDAS=True\n",
    "SEPERATOR=\",\"\n",
    "\n",
    "DATA_DIR = \"../../dataset/amazon_reviews\"\n",
    "\n",
    "# full 9mil Wireless reviews - not enough memory locally to do this\n",
    "ORIG_FILE_WIRELESS=f\"{DATA_DIR}/amazon_reviews_us_Wireless_v1_00.tsv\"\n"
   ]
  },
  {
   "cell_type": "markdown",
   "metadata": {},
   "source": [
    "# Reading File With Pandas\n",
    "\n",
    "## Unfortunately, this method does not seem to work. It starts merging multiple lines into the healine column of the dataframe"
   ]
  },
  {
   "cell_type": "code",
   "execution_count": 7,
   "metadata": {},
   "outputs": [],
   "source": [
    "\n",
    "# if USE_PANDAS == True:\n",
    "\n",
    "#     # pandas is doing something weird. The lines that says have bad number of columns actually have the right columns???\n",
    "#     reviews = pd.read_csv(DATA_FILE, sep=SEPERATOR, \n",
    "#                              parse_dates=[\"review_date\"], \n",
    "#                              warn_bad_lines=True, \n",
    "#                              error_bad_lines=False)\n",
    "#     reviews.info()"
   ]
  },
  {
   "cell_type": "markdown",
   "metadata": {},
   "source": [
    "## pandas for some reason does not read the amazon TSV correctly and starts to merge lines together. Originally, I tried this method to construct the DataFrame but this proved to be very inefficient and slow. Took about 30 minutes to create a DF that had about 100k entries\n",
    "\n",
    "commenting out since we won't be needing this"
   ]
  },
  {
   "cell_type": "code",
   "execution_count": 8,
   "metadata": {},
   "outputs": [],
   "source": [
    "# not quite ready\n",
    "# if USE_PANDAS == False:\n",
    "\n",
    "#     columns = [\"marketplace\", \"customer_id\", \"review_id\", \"product_id\",\n",
    "#               \"product_parent\", \"product_title\", \"product_category\", \n",
    "#               \"star_rating\", \"helpful_votes\", \"total_votes\", \"vine\",\n",
    "#               \"verified_purchase\", \"review_headline\", \"review_body\",\n",
    "#               \"review_date\"]\n",
    "#     reviews = pd.DataFrame(columns = columns)\n",
    "#     count = 0\n",
    "#     with open(DATA_FILE, \"r\") as file:\n",
    "#         for line in file:\n",
    "#             if len(line) > 0:\n",
    "#                 line = line.rstrip(\"\\n\")\n",
    "#                 # skip the header\n",
    "#                 if count > 0:\n",
    "#                     splitted = line.split(\"\\t\")\n",
    "#                     reviews = reviews.append(pd.Series(splitted, index=columns), \n",
    "#                                    ignore_index=True)\n",
    "#                 count += 1\n",
    "#                 if count % 10000 == 0:\n",
    "#                     print(f\"processed {count}\")\n",
    "\n",
    "#     print(len(reviews))\n",
    "\n",
    "    \n",
    "# reviews.info()"
   ]
  },
  {
   "cell_type": "code",
   "execution_count": 9,
   "metadata": {},
   "outputs": [],
   "source": [
    "# if we don't use pandas, we have to set datatypes for the columns\n",
    "# if USE_PANDAS == False:\n",
    "#     reviews = reviews.astype({\n",
    "#         \"review_date\": np.datetime64,\n",
    "#         \"star_rating\": np.int64,\n",
    "#         \"helpful_votes\": np.int64,\n",
    "#         \"total_votes\": np.int64\n",
    "#     })\n",
    "# reviews.info()"
   ]
  },
  {
   "cell_type": "markdown",
   "metadata": {},
   "source": [
    "## Finally, wrote a utility to convert the file from TSV to CSV by stripping newlines and replacing tabs with , without dataframe seems to be more efficient\n",
    "\n",
    "Code for this has been put into a utility function in file_util.py"
   ]
  },
  {
   "cell_type": "code",
   "execution_count": 10,
   "metadata": {},
   "outputs": [
    {
     "name": "stderr",
     "output_type": "stream",
     "text": [
      "INFO:util.file_util:Converting ../../dataset/amazon_reviews/amazon_reviews_us_Wireless_v1_00.tsv to ../../dataset/amazon_reviews/amazon_reviews_us_Wireless_v1_00-100k.csv with sampling <util.file_samplers.SimpleSampler object at 0x7fccc8b03850>\n"
     ]
    }
   ],
   "source": [
    "# sample original file to create smaller files with different sampling rates to inspect\n",
    "from util.file_samplers import SimpleSampler\n",
    "\n",
    "from util.file_util import convert_tsv_to_csv\n",
    "\n",
    "DATA_FILE_100k=f\"{DATA_DIR}/amazon_reviews_us_Wireless_v1_00-100k.csv\"\n",
    "\n",
    "# already ran this\n",
    "fu.convert_tsv_to_csv(ORIG_FILE_WIRELESS, DATA_FILE_100k, SimpleSampler(90))\n",
    "\n",
    "\n",
    "DATA_FILE=DATA_FILE_100k"
   ]
  },
  {
   "cell_type": "markdown",
   "metadata": {},
   "source": [
    "# Now that we have data files we can use Pandas"
   ]
  },
  {
   "cell_type": "code",
   "execution_count": 11,
   "metadata": {
    "scrolled": true
   },
   "outputs": [
    {
     "name": "stdout",
     "output_type": "stream",
     "text": [
      "<class 'pandas.core.frame.DataFrame'>\n",
      "RangeIndex: 100022 entries, 0 to 100021\n",
      "Data columns (total 15 columns):\n",
      "marketplace          100022 non-null object\n",
      "customer_id          100022 non-null int64\n",
      "review_id            100022 non-null object\n",
      "product_id           100022 non-null object\n",
      "product_parent       100022 non-null int64\n",
      "product_title        100022 non-null object\n",
      "product_category     100022 non-null object\n",
      "star_rating          100022 non-null int64\n",
      "helpful_votes        100022 non-null int64\n",
      "total_votes          100022 non-null int64\n",
      "vine                 100022 non-null object\n",
      "verified_purchase    100022 non-null object\n",
      "review_headline      100020 non-null object\n",
      "review_body          100010 non-null object\n",
      "review_date          100022 non-null datetime64[ns]\n",
      "dtypes: datetime64[ns](1), int64(5), object(9)\n",
      "memory usage: 11.4+ MB\n"
     ]
    }
   ],
   "source": [
    "reviews = pd.read_csv(DATA_FILE, sep=SEPERATOR, \n",
    "                         parse_dates=[\"review_date\"])\n",
    "reviews.info()"
   ]
  },
  {
   "cell_type": "code",
   "execution_count": 12,
   "metadata": {
    "scrolled": true
   },
   "outputs": [
    {
     "name": "stdout",
     "output_type": "stream",
     "text": [
      "<class 'pandas.core.frame.DataFrame'>\n",
      "Int64Index: 100008 entries, 0 to 100021\n",
      "Data columns (total 12 columns):\n",
      "customer_id         100008 non-null int64\n",
      "review_id           100008 non-null object\n",
      "product_id          100008 non-null object\n",
      "product_parent      100008 non-null int64\n",
      "product_title       100008 non-null object\n",
      "product_category    100008 non-null object\n",
      "star_rating         100008 non-null int64\n",
      "helpful_votes       100008 non-null int64\n",
      "total_votes         100008 non-null int64\n",
      "review_headline     100008 non-null object\n",
      "review_body         100008 non-null object\n",
      "review_date         100008 non-null datetime64[ns]\n",
      "dtypes: datetime64[ns](1), int64(5), object(6)\n",
      "memory usage: 9.9+ MB\n"
     ]
    }
   ],
   "source": [
    "# looks like sometimes we have reviews with no body, no headline, and no review dates\n",
    "# let's drop those rows with missing data\n",
    "# also drop the following columns since they will always be the same\n",
    "clean_df = reviews.dropna().drop(COLUMNS_TO_DROP, axis = 1)\n",
    "clean_df.info()"
   ]
  },
  {
   "cell_type": "markdown",
   "metadata": {},
   "source": [
    "## Most Products Only have 1 or 2 reviews\n",
    "\n",
    "Amazon have variations of products under product_parent. If we group by that field, we can see how many unique products we have\n",
    "\n",
    "There are 50k unique products out of 100k reviews\n",
    "\n",
    "75% of our products have 2 or less reviews."
   ]
  },
  {
   "cell_type": "code",
   "execution_count": 13,
   "metadata": {},
   "outputs": [],
   "source": [
    "# how many products do we have?\n",
    "grouped = clean_df.groupby(\"product_parent\")"
   ]
  },
  {
   "cell_type": "code",
   "execution_count": 14,
   "metadata": {},
   "outputs": [
    {
     "name": "stdout",
     "output_type": "stream",
     "text": [
      "There are (50182 unique products out of 100008)\n"
     ]
    },
    {
     "data": {
      "text/plain": [
       "<matplotlib.axes._subplots.AxesSubplot at 0x7fccc84c3390>"
      ]
     },
     "execution_count": 14,
     "metadata": {},
     "output_type": "execute_result"
    },
    {
     "data": {
      "image/png": "[encoded data removed]",
      "text/plain": [
       "<Figure size 432x288 with 1 Axes>"
      ]
     },
     "metadata": {},
     "output_type": "display_data"
    }
   ],
   "source": [
    "unique_products = len(grouped)\n",
    "unique_product_percentage = round(unique_products / len(clean_df) * 100)\n",
    "print(f\"There are ({unique_products} unique products out of {len(clean_df)})\")\n",
    "\n",
    "grouped.size().hist()"
   ]
  },
  {
   "cell_type": "code",
   "execution_count": 15,
   "metadata": {},
   "outputs": [
    {
     "data": {
      "text/plain": [
       "0.00      1.0\n",
       "0.25      1.0\n",
       "0.75      2.0\n",
       "1.00    186.0\n",
       "dtype: float64"
      ]
     },
     "execution_count": 15,
     "metadata": {},
     "output_type": "execute_result"
    }
   ],
   "source": [
    "quantile_list = [0., .25, .75, 1.]\n",
    "quantiles = grouped.size().quantile(quantile_list)\n",
    "quantiles"
   ]
  },
  {
   "cell_type": "code",
   "execution_count": 54,
   "metadata": {},
   "outputs": [
    {
     "name": "stdout",
     "output_type": "stream",
     "text": [
      "                count\n",
      "product_parent       \n",
      "13657               1\n",
      "35475               1\n",
      "87058               1\n",
      "88425               3\n",
      "110850              1\n",
      "...               ...\n",
      "999862592           2\n",
      "999907274           1\n",
      "999915424          11\n",
      "999975338           1\n",
      "999992994           1\n",
      "\n",
      "[50182 rows x 1 columns]\n"
     ]
    },
    {
     "data": {
      "image/png": "[encoded data removed]",
      "text/plain": [
       "<Figure size 360x360 with 1 Axes>"
      ]
     },
     "metadata": {},
     "output_type": "display_data"
    }
   ],
   "source": [
    "# trying some type of binning\n",
    "products_df = pd.DataFrame(grouped.size(), columns=[\"count\"])\n",
    "products_df = products_df.assign(bin=lambda x: pd.cut(x[\"count\"], [0, 1, 2, 3, x[\"count\"].max()]))\n",
    "\n",
    "product_review_df = pd.DataFrame(products_df.groupby(\"bin\").size(), columns=[\"count\"]).reset_index()\n",
    "product_review_df[\"percent\"] = product_review_df[\"count\"] / product_review_df[\"count\"].sum() * 100\n",
    "product_review_df\n",
    "\n",
    "f, a = plt.subplots(1, 1, figsize=(5, 5))\n",
    "_ = plt.pie(product_review_df.percent, labels=product_review_df.bin, autopct='%1.1f%%')\n",
    "_ = plt.title(\"Number of Reviews Per Product\")\n"
   ]
  },
  {
   "cell_type": "markdown",
   "metadata": {},
   "source": [
    "# Reviews By Month and Days\n",
    "\n",
    "We have the least number of reviews in September, October, November and most reviews from January, July, and August\n",
    "\n",
    "Most reviews are done at the beginning of the week. There are less reviews on the weekends (Saturday/Sunday)"
   ]
  },
  {
   "cell_type": "code",
   "execution_count": 41,
   "metadata": {
    "scrolled": true
   },
   "outputs": [
    {
     "data": {
      "text/plain": [
       "<matplotlib.axes._subplots.AxesSubplot at 0x7fcc8a790f90>"
      ]
     },
     "execution_count": 41,
     "metadata": {},
     "output_type": "execute_result"
    },
    {
     "data": {
      "image/png": "[encoded data removed]",
      "text/plain": [
       "<Figure size 432x288 with 1 Axes>"
      ]
     },
     "metadata": {},
     "output_type": "display_data"
    }
   ],
   "source": [
    "# distribution of months\n",
    "\n",
    "df = clean_df\n",
    "df[\"month\"] = df.review_date.dt.month\n",
    "df.groupby(\"month\").size().plot(kind='bar')"
   ]
  },
  {
   "cell_type": "code",
   "execution_count": 18,
   "metadata": {},
   "outputs": [
    {
     "data": {
      "text/plain": [
       "<matplotlib.axes._subplots.AxesSubplot at 0x7fcc9aafae50>"
      ]
     },
     "execution_count": 18,
     "metadata": {},
     "output_type": "execute_result"
    },
    {
     "data": {
      "image/png": "[encoded data removed]",
      "text/plain": [
       "<Figure size 432x288 with 1 Axes>"
      ]
     },
     "metadata": {},
     "output_type": "display_data"
    }
   ],
   "source": [
    "# distribution of days of the week\n",
    "# distribution of months\n",
    "\n",
    "df = clean_df\n",
    "df[\"day\"] = df.review_date.dt.dayofweek\n",
    "df.groupby(\"day\").size().plot(kind='bar')"
   ]
  },
  {
   "cell_type": "markdown",
   "metadata": {},
   "source": [
    "# Review Stars Distribution\n",
    "\n",
    "Amazon reviews are heavily skewed toward 5 stars. Next is 4-1. Rarely do people rate 2 and 3\n",
    "\n",
    "* 2-star only has about 6% of reviews\n",
    "* 3-star only has about 9% of reviews"
   ]
  },
  {
   "cell_type": "code",
   "execution_count": 19,
   "metadata": {},
   "outputs": [
    {
     "data": {
      "image/png": "[encoded data removed]",
      "text/plain": [
       "<Figure size 1440x360 with 2 Axes>"
      ]
     },
     "metadata": {},
     "output_type": "display_data"
    }
   ],
   "source": [
    "f, a = plt.subplots(1, 2, figsize=(20, 5))\n",
    "\n",
    "# let's look at distribution of stars\n",
    "_ = clean_df.groupby(\"star_rating\").size().plot(kind='bar', ax=a[0])\n",
    "_ = a[0].set_title(\"Reviews Distribution Histogram\")\n",
    "# reviews lean heavily towards 5-stars\n",
    "\n",
    "\n",
    "ratings_summary = pd.DataFrame(clean_df.groupby(\"star_rating\").size(), columns=[\"count\"]).reset_index()\n",
    "ratings_summary[\"percent\"] = ratings_summary[\"count\"] / ratings_summary[\"count\"].sum() * 100\n",
    "\n",
    "# clean_df.groupby(\"star_rating\").size().apply(lambda x: 100 * x / float(x.sum()))\n",
    "\n",
    "_ = a[1].pie(ratings_summary.percent, labels=ratings_summary.star_rating, autopct='%1.1f%%')\n",
    "_ = a[1].set_title(\"Distribution of Ratings\")"
   ]
  },
  {
   "cell_type": "markdown",
   "metadata": {},
   "source": [
    "# Votes - Helpful or Not\n",
    "\n",
    "Customer generally only vote when a review is helpful.\n",
    "\n",
    "Again this is heavily imbalanced. only 27% of reviews have votes at all. \n",
    "\n",
    "Around 80% of reviews that are voted on, gets helpful votes"
   ]
  },
  {
   "cell_type": "code",
   "execution_count": 20,
   "metadata": {},
   "outputs": [
    {
     "name": "stdout",
     "output_type": "stream",
     "text": [
      "27.0 percent (26598) has votes\n",
      "21.0 percent (20703) has helpful votes\n",
      "78.0 percent of all voted reviews are helpful\n"
     ]
    },
    {
     "data": {
      "text/html": [
       "<div>\n",
       "<style scoped>\n",
       "    .dataframe tbody tr th:only-of-type {\n",
       "        vertical-align: middle;\n",
       "    }\n",
       "\n",
       "    .dataframe tbody tr th {\n",
       "        vertical-align: top;\n",
       "    }\n",
       "\n",
       "    .dataframe thead th {\n",
       "        text-align: right;\n",
       "    }\n",
       "</style>\n",
       "<table border=\"1\" class=\"dataframe\">\n",
       "  <thead>\n",
       "    <tr style=\"text-align: right;\">\n",
       "      <th></th>\n",
       "      <th>customer_id</th>\n",
       "      <th>product_parent</th>\n",
       "      <th>star_rating</th>\n",
       "      <th>helpful_votes</th>\n",
       "      <th>total_votes</th>\n",
       "      <th>month</th>\n",
       "      <th>day</th>\n",
       "    </tr>\n",
       "  </thead>\n",
       "  <tbody>\n",
       "    <tr>\n",
       "      <td>count</td>\n",
       "      <td>1.000080e+05</td>\n",
       "      <td>1.000080e+05</td>\n",
       "      <td>100008.000000</td>\n",
       "      <td>100008.000000</td>\n",
       "      <td>100008.000000</td>\n",
       "      <td>100008.000000</td>\n",
       "      <td>100008.000000</td>\n",
       "    </tr>\n",
       "    <tr>\n",
       "      <td>mean</td>\n",
       "      <td>2.545804e+07</td>\n",
       "      <td>5.005082e+08</td>\n",
       "      <td>3.894068</td>\n",
       "      <td>0.825734</td>\n",
       "      <td>1.090473</td>\n",
       "      <td>6.235291</td>\n",
       "      <td>2.826254</td>\n",
       "    </tr>\n",
       "    <tr>\n",
       "      <td>std</td>\n",
       "      <td>1.578201e+07</td>\n",
       "      <td>2.880786e+08</td>\n",
       "      <td>1.459667</td>\n",
       "      <td>6.606973</td>\n",
       "      <td>7.356052</td>\n",
       "      <td>3.441638</td>\n",
       "      <td>1.969111</td>\n",
       "    </tr>\n",
       "    <tr>\n",
       "      <td>min</td>\n",
       "      <td>1.031700e+04</td>\n",
       "      <td>1.365700e+04</td>\n",
       "      <td>1.000000</td>\n",
       "      <td>0.000000</td>\n",
       "      <td>0.000000</td>\n",
       "      <td>1.000000</td>\n",
       "      <td>0.000000</td>\n",
       "    </tr>\n",
       "    <tr>\n",
       "      <td>25%</td>\n",
       "      <td>1.232722e+07</td>\n",
       "      <td>2.511852e+08</td>\n",
       "      <td>3.000000</td>\n",
       "      <td>0.000000</td>\n",
       "      <td>0.000000</td>\n",
       "      <td>3.000000</td>\n",
       "      <td>1.000000</td>\n",
       "    </tr>\n",
       "    <tr>\n",
       "      <td>50%</td>\n",
       "      <td>2.340914e+07</td>\n",
       "      <td>4.999781e+08</td>\n",
       "      <td>5.000000</td>\n",
       "      <td>0.000000</td>\n",
       "      <td>0.000000</td>\n",
       "      <td>6.000000</td>\n",
       "      <td>3.000000</td>\n",
       "    </tr>\n",
       "    <tr>\n",
       "      <td>75%</td>\n",
       "      <td>4.030358e+07</td>\n",
       "      <td>7.485788e+08</td>\n",
       "      <td>5.000000</td>\n",
       "      <td>0.000000</td>\n",
       "      <td>1.000000</td>\n",
       "      <td>9.000000</td>\n",
       "      <td>4.000000</td>\n",
       "    </tr>\n",
       "    <tr>\n",
       "      <td>max</td>\n",
       "      <td>5.309587e+07</td>\n",
       "      <td>9.999930e+08</td>\n",
       "      <td>5.000000</td>\n",
       "      <td>495.000000</td>\n",
       "      <td>601.000000</td>\n",
       "      <td>12.000000</td>\n",
       "      <td>6.000000</td>\n",
       "    </tr>\n",
       "  </tbody>\n",
       "</table>\n",
       "</div>"
      ],
      "text/plain": [
       "        customer_id  product_parent    star_rating  helpful_votes  \\\n",
       "count  1.000080e+05    1.000080e+05  100008.000000  100008.000000   \n",
       "mean   2.545804e+07    5.005082e+08       3.894068       0.825734   \n",
       "std    1.578201e+07    2.880786e+08       1.459667       6.606973   \n",
       "min    1.031700e+04    1.365700e+04       1.000000       0.000000   \n",
       "25%    1.232722e+07    2.511852e+08       3.000000       0.000000   \n",
       "50%    2.340914e+07    4.999781e+08       5.000000       0.000000   \n",
       "75%    4.030358e+07    7.485788e+08       5.000000       0.000000   \n",
       "max    5.309587e+07    9.999930e+08       5.000000     495.000000   \n",
       "\n",
       "         total_votes          month            day  \n",
       "count  100008.000000  100008.000000  100008.000000  \n",
       "mean        1.090473       6.235291       2.826254  \n",
       "std         7.356052       3.441638       1.969111  \n",
       "min         0.000000       1.000000       0.000000  \n",
       "25%         0.000000       3.000000       1.000000  \n",
       "50%         0.000000       6.000000       3.000000  \n",
       "75%         1.000000       9.000000       4.000000  \n",
       "max       601.000000      12.000000       6.000000  "
      ]
     },
     "execution_count": 20,
     "metadata": {},
     "output_type": "execute_result"
    }
   ],
   "source": [
    "# let's look at what percentage of reviews have votes\n",
    "has_votes_count = len(clean_df[(clean_df.total_votes > 0)])\n",
    "has_votes_percentage = round(has_votes_count / len(clean_df), 2) * 100\n",
    "print(f\"{has_votes_percentage} percent \"\\\n",
    "      f\"({has_votes_count}) has votes\")\n",
    "# let's look at what percentage of reviews have votes\n",
    "helpful_votes_count = len(clean_df[(clean_df.helpful_votes > 0)])\n",
    "helpful_votes_percentage = round(helpful_votes_count / len(clean_df), 2) * 100\n",
    "print(f\"{helpful_votes_percentage} percent \"\\\n",
    "            f\"({helpful_votes_count}) has helpful votes\")\n",
    "         \n",
    "print(f\"{round(helpful_votes_count / has_votes_count, 2) * 100} percent of all voted reviews are helpful\")\n",
    "\n",
    "\n",
    "# let's look at distribution of total_votes\n",
    "clean_df.describe()\n",
    "# looks like most do not have any votes"
   ]
  },
  {
   "cell_type": "markdown",
   "metadata": {},
   "source": [
    "# Review Body\n",
    "\n",
    "* minimum length of review is 1 word\n",
    "* maximum length of review is 8k words\n",
    "* 70% of our reviews have 50 words or less\n",
    "* 90% of our reviews have 100 words or less"
   ]
  },
  {
   "cell_type": "code",
   "execution_count": 36,
   "metadata": {},
   "outputs": [
    {
     "data": {
      "text/plain": [
       "0.0       1.0\n",
       "0.1       4.0\n",
       "0.2       9.0\n",
       "0.3      18.0\n",
       "0.4      22.0\n",
       "0.5      27.0\n",
       "0.6      35.0\n",
       "0.7      46.0\n",
       "0.8      65.0\n",
       "0.9     107.0\n",
       "1.0    8147.0\n",
       "Name: review_body_wc, dtype: float64"
      ]
     },
     "execution_count": 36,
     "metadata": {},
     "output_type": "execute_result"
    }
   ],
   "source": [
    "df = clean_df\n",
    "\n",
    "# now let's look at distribution of wc for review body\n",
    "df[\"review_body_wc\"] = df[\"review_body\"].apply(lambda x: len(str(x).split()))\n",
    "df[\"review_body_wc\"].quantile([0., 0.1, 0.2, 0.3, 0.4, 0.5, 0.6, 0.7, 0.8, 0.9, 1.])"
   ]
  },
  {
   "cell_type": "code",
   "execution_count": 38,
   "metadata": {},
   "outputs": [
    {
     "name": "stdout",
     "output_type": "stream",
     "text": [
      "min review wc: 1\n",
      "max review wc: 8147\n"
     ]
    }
   ],
   "source": [
    "max_wc = df.review_body_wc.max()\n",
    "min_wc = df.review_body_wc.min()\n",
    "print(f\"min review wc: {min_wc}\\nmax review wc: {max_wc}\")"
   ]
  },
  {
   "cell_type": "code",
   "execution_count": null,
   "metadata": {},
   "outputs": [],
   "source": []
  }
 ],
 "metadata": {
  "kernelspec": {
   "display_name": "Python 3",
   "language": "python",
   "name": "python3"
  },
  "language_info": {
   "codemirror_mode": {
    "name": "ipython",
    "version": 3
   },
   "file_extension": ".py",
   "mimetype": "text/x-python",
   "name": "python",
   "nbconvert_exporter": "python",
   "pygments_lexer": "ipython3",
   "version": "3.7.4"
  },
  "pycharm": {
   "stem_cell": {
    "cell_type": "raw",
    "metadata": {
     "collapsed": false
    },
    "source": []
   }
  }
 },
 "nbformat": 4,
 "nbformat_minor": 4
}
