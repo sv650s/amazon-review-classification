{
 "cells": [
  {
   "cell_type": "markdown",
   "metadata": {},
   "source": [
    "# Pre-trianed embedding analysis (1 mil)\n",
    "\n",
    "For this notebook, we will do some EDA on pre-trained embedding for GloVe\n",
    "\n",
    "To download pre-trained embedding file, please go here: https://nlp.stanford.edu/projects/glove/\n",
    "\n",
    "We will be suing the 840b dataset which has 2.2M vocab and embedding size of 300 length vector\n",
    "\n",
    "The current pre-processed text is lemmatized. We will be looking at words missing and frequency for which they occur in our corpus (review body). To save time, instead of looking at the full dataset of 9 mil, we will look at the dataset with 1 mil.\n",
    "\n",
    "\n",
    "\n",
    "\n"
   ]
  },
  {
   "cell_type": "code",
   "execution_count": null,
   "metadata": {},
   "outputs": [],
   "source": [
    "# import sibling utilities\n",
    "import sys\n",
    "sys.path.append('../..')\n",
    "\n",
    "\n",
    "import os\n",
    "import pandas as pd\n",
    "from pandas import DataFrame\n",
    "from pandas import Series\n",
    "import numpy as np\n",
    "from datetime import datetime\n",
    "\n",
    "import matplotlib.pyplot as plt\n",
    "import seaborn as sns\n",
    "\n",
    "%matplotlib inline\n",
    "sns.set(font_scale=2)\n"
   ]
  }
 ],
 "metadata": {
  "kernelspec": {
   "display_name": "Python 3",
   "language": "python",
   "name": "python3"
  },
  "language_info": {
   "codemirror_mode": {
    "name": "ipython",
    "version": 3
   },
   "file_extension": ".py",
   "mimetype": "text/x-python",
   "name": "python",
   "nbconvert_exporter": "python",
   "pygments_lexer": "ipython3",
   "version": "3.7.5"
  }
 },
 "nbformat": 4,
 "nbformat_minor": 4
}
