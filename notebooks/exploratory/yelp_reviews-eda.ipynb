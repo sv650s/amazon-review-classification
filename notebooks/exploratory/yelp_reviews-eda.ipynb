{
 "cells": [
  {
   "cell_type": "markdown",
   "metadata": {},
   "source": [
    "# Yelp Data - Let's only look at Reviews"
   ]
  },
  {
   "cell_type": "code",
   "execution_count": 1,
   "metadata": {},
   "outputs": [],
   "source": [
    "import pandas as pd\n",
    "from pandas import DataFrame\n",
    "import numpy as np\n",
    "import matplotlib.pyplot as plt\n",
    "%matplotlib inline"
   ]
  },
  {
   "cell_type": "markdown",
   "metadata": {},
   "source": [
    "# Reviews Dataset\n",
    "\n",
    "Here are the columns\n",
    "\n",
    "| column | description | type |\n",
    "|--------|-------------|------|\n",
    "| business_id | ? | string |\n",
    "| cool | ? | int64 |\n",
    "| date | date of review | datetime64 |\n",
    "| funny | count of people voted funny? | int64 |\n",
    "| review_id | unique identifer | string |\n",
    "| stars | stars of the review - discrete values (1 to 5) | int64 |\n",
    "| text | ? | string |\n",
    "| usefule | vote on usefulness | int64 |\n",
    "| user_id | user unique identifier | string |\n",
    "\n",
    "There are 6.7mil unique entries\n",
    "\n",
    "Memory usage for the entire DF = 459.1+ MB\n",
    "\n",
    "1637138 unique users\n",
    "\n",
    "192606 businesses - 3 less that businesses listed in business file\n",
    "\n",
    "Full dataset will take about 30 minutes to load\n",
    "\n",
    "try review_short.json which only has the first 50k entries"
   ]
  },
  {
   "cell_type": "code",
   "execution_count": 2,
   "metadata": {},
   "outputs": [],
   "source": [
    "USE_FULL_DATASET=False\n",
    "\n",
    "if USE_FULL_DATASET:\n",
    "    # full dataset as 6.7mil - takes about 30 minutes to load\n",
    "    reviews = pd.read_json('../../dataset/yelp_dataset2019/review.json', lines=True)\n",
    "else:\n",
    "    #short has around 50k reviews\n",
    "    reviews = pd.read_json('../../dataset/yelp_dataset2019/review_short.json', lines=True)\n"
   ]
  },
  {
   "cell_type": "code",
   "execution_count": 3,
   "metadata": {},
   "outputs": [
    {
     "name": "stdout",
     "output_type": "stream",
     "text": [
      "<class 'pandas.core.frame.DataFrame'>\n",
      "RangeIndex: 50000 entries, 0 to 49999\n",
      "Data columns (total 9 columns):\n",
      "business_id    50000 non-null object\n",
      "cool           50000 non-null int64\n",
      "date           50000 non-null datetime64[ns]\n",
      "funny          50000 non-null int64\n",
      "review_id      50000 non-null object\n",
      "stars          50000 non-null int64\n",
      "text           50000 non-null object\n",
      "useful         50000 non-null int64\n",
      "user_id        50000 non-null object\n",
      "dtypes: datetime64[ns](1), int64(4), object(4)\n",
      "memory usage: 3.4+ MB\n",
      "None\n"
     ]
    },
    {
     "data": {
      "text/html": [
       "<div>\n",
       "<style scoped>\n",
       "    .dataframe tbody tr th:only-of-type {\n",
       "        vertical-align: middle;\n",
       "    }\n",
       "\n",
       "    .dataframe tbody tr th {\n",
       "        vertical-align: top;\n",
       "    }\n",
       "\n",
       "    .dataframe thead th {\n",
       "        text-align: right;\n",
       "    }\n",
       "</style>\n",
       "<table border=\"1\" class=\"dataframe\">\n",
       "  <thead>\n",
       "    <tr style=\"text-align: right;\">\n",
       "      <th></th>\n",
       "      <th>business_id</th>\n",
       "      <th>cool</th>\n",
       "      <th>date</th>\n",
       "      <th>funny</th>\n",
       "      <th>review_id</th>\n",
       "      <th>stars</th>\n",
       "      <th>text</th>\n",
       "      <th>useful</th>\n",
       "      <th>user_id</th>\n",
       "    </tr>\n",
       "  </thead>\n",
       "  <tbody>\n",
       "    <tr>\n",
       "      <th>0</th>\n",
       "      <td>ujmEBvifdJM6h6RLv4wQIg</td>\n",
       "      <td>0</td>\n",
       "      <td>2013-05-07 04:34:36</td>\n",
       "      <td>1</td>\n",
       "      <td>Q1sbwvVQXV2734tPgoKj4Q</td>\n",
       "      <td>1</td>\n",
       "      <td>Total bill for this horrible service? Over $8G...</td>\n",
       "      <td>6</td>\n",
       "      <td>hG7b0MtEbXx5QzbzE6C_VA</td>\n",
       "    </tr>\n",
       "    <tr>\n",
       "      <th>1</th>\n",
       "      <td>NZnhc2sEQy3RmzKTZnqtwQ</td>\n",
       "      <td>0</td>\n",
       "      <td>2017-01-14 21:30:33</td>\n",
       "      <td>0</td>\n",
       "      <td>GJXCdrto3ASJOqKeVWPi6Q</td>\n",
       "      <td>5</td>\n",
       "      <td>I *adore* Travis at the Hard Rock's new Kelly ...</td>\n",
       "      <td>0</td>\n",
       "      <td>yXQM5uF2jS6es16SJzNHfg</td>\n",
       "    </tr>\n",
       "  </tbody>\n",
       "</table>\n",
       "</div>"
      ],
      "text/plain": [
       "              business_id  cool                date  funny  \\\n",
       "0  ujmEBvifdJM6h6RLv4wQIg     0 2013-05-07 04:34:36      1   \n",
       "1  NZnhc2sEQy3RmzKTZnqtwQ     0 2017-01-14 21:30:33      0   \n",
       "\n",
       "                review_id  stars  \\\n",
       "0  Q1sbwvVQXV2734tPgoKj4Q      1   \n",
       "1  GJXCdrto3ASJOqKeVWPi6Q      5   \n",
       "\n",
       "                                                text  useful  \\\n",
       "0  Total bill for this horrible service? Over $8G...       6   \n",
       "1  I *adore* Travis at the Hard Rock's new Kelly ...       0   \n",
       "\n",
       "                  user_id  \n",
       "0  hG7b0MtEbXx5QzbzE6C_VA  \n",
       "1  yXQM5uF2jS6es16SJzNHfg  "
      ]
     },
     "execution_count": 3,
     "metadata": {},
     "output_type": "execute_result"
    }
   ],
   "source": [
    "print(reviews.info())\n",
    "reviews.head(2)"
   ]
  },
  {
   "cell_type": "code",
   "execution_count": 4,
   "metadata": {},
   "outputs": [],
   "source": [
    "# let's drop columns that we won't need\n",
    "# keep business_id, review_id, text, and user_id for now\n",
    "# reviews.drop(['cool', 'date', 'funny', 'useful'])\n"
   ]
  },
  {
   "cell_type": "code",
   "execution_count": 5,
   "metadata": {},
   "outputs": [
    {
     "name": "stdout",
     "output_type": "stream",
     "text": [
      "42988\n"
     ]
    },
    {
     "data": {
      "text/plain": [
       "user_id\n",
       "CxDOIDnH8gp9KXzpBHJYXw    25\n",
       "bLbSNkLggFnqwNNzzq-Ijw    17\n",
       "PKEzKWv_FktMm2mGPjwd0Q    16\n",
       "62GNFh5FySkA3MbrQmnqvg    16\n",
       "QJI9OSEn6ujRCtrX06vs1w    15\n",
       "hWDybu_KvYLSdEFzGrniTw    13\n",
       "rCWrxuRC8_pfagpchtHp6A    12\n",
       "-InhDRRVG7wrwsgAUvN4Qw    12\n",
       "cMEtAiW60I5wE_vLfTxoJQ    11\n",
       "Wc5L6iuvSNF5WGBlqIO8nw    11\n",
       "qewG3X2O4X6JKskxyyqFwQ    11\n",
       "ELcQDlf69kb-ihJfxZyL0A    11\n",
       "L8P5OWO1Jh4B2HLa1Fnbng    10\n",
       "ciXjBfJrAEteIKpzZg4I9g    10\n",
       "fiGqQ7pIGKyZ9G0RqWLMpg    10\n",
       "sTcYq6goD1Fa2WS9MSkSvQ    10\n",
       "rKkpHJkJ27xOwnhy_bMkvA     9\n",
       "3nDUQBjKyVor5wV0reJChg     9\n",
       "71XStF5U0kmJw2Iym9fclQ     9\n",
       "QHX3NxFAlda3I32taYzI8w     9\n",
       "dtype: int64"
      ]
     },
     "execution_count": 5,
     "metadata": {},
     "output_type": "execute_result"
    }
   ],
   "source": [
    "reviews_by_users = reviews.groupby('user_id').size().sort_values(ascending=False)\n",
    "print(len(reviews_by_users))\n",
    "reviews_by_users.head(20)"
   ]
  },
  {
   "cell_type": "code",
   "execution_count": 6,
   "metadata": {
    "scrolled": true
   },
   "outputs": [
    {
     "data": {
      "text/plain": [
       "Text(0, 0.5, 'Number of Users')"
      ]
     },
     "execution_count": 6,
     "metadata": {},
     "output_type": "execute_result"
    },
    {
     "data": {
      "image/png": "[encoded data removed]",
      "text/plain": [
       "<Figure size 432x288 with 1 Axes>"
      ]
     },
     "metadata": {
      "needs_background": "light"
     },
     "output_type": "display_data"
    }
   ],
   "source": [
    "# plot user review histogram to see how often users provide reviews\n",
    "fig, ax = plt.subplots()\n",
    "reviews_by_users.hist(bins=25, color='#A9C5D3', \n",
    "                             edgecolor='black', grid=False)\n",
    "ax.set_title('Reviews By Users Histogram', fontsize=12)\n",
    "ax.set_xlabel('Number of Reviews', fontsize=12)\n",
    "ax.set_ylabel('Number of Users', fontsize=12)"
   ]
  },
  {
   "cell_type": "code",
   "execution_count": 7,
   "metadata": {},
   "outputs": [
    {
     "name": "stdout",
     "output_type": "stream",
     "text": [
      "<class 'pandas.core.series.Series'>\n"
     ]
    },
    {
     "data": {
      "text/plain": [
       "0.00     1.0\n",
       "0.25     1.0\n",
       "0.50     1.0\n",
       "0.75     1.0\n",
       "1.00    25.0\n",
       "dtype: float64"
      ]
     },
     "execution_count": 7,
     "metadata": {},
     "output_type": "execute_result"
    }
   ],
   "source": [
    "# quantile binning of businesses and number of reviews\n",
    "quantile_list = [0, .25, .5, .75, 1.]\n",
    "quantiles = reviews_by_users.quantile(quantile_list)\n",
    "\n",
    "# fig, ax = plt.subplots()\n",
    "# reviews.business_id.hist(bins=30, color='#A9C5D3', \n",
    "#                              edgecolor='black', grid=False)\n",
    "\n",
    "# for quantile in quantiles:\n",
    "#     qvl = plt.axvline(quantile, color='r')\n",
    "\n",
    "print(type(quantiles))\n",
    "quantiles.head()\n"
   ]
  },
  {
   "cell_type": "code",
   "execution_count": 8,
   "metadata": {},
   "outputs": [
    {
     "data": {
      "text/plain": [
       "{'whiskers': [<matplotlib.lines.Line2D at 0x124572f28>,\n",
       "  <matplotlib.lines.Line2D at 0x124572f98>],\n",
       " 'caps': [<matplotlib.lines.Line2D at 0x124587358>,\n",
       "  <matplotlib.lines.Line2D at 0x1245876a0>],\n",
       " 'boxes': [<matplotlib.lines.Line2D at 0x1245727f0>],\n",
       " 'medians': [<matplotlib.lines.Line2D at 0x1245879e8>],\n",
       " 'fliers': [<matplotlib.lines.Line2D at 0x124587d30>],\n",
       " 'means': []}"
      ]
     },
     "execution_count": 8,
     "metadata": {},
     "output_type": "execute_result"
    },
    {
     "data": {
      "image/png": "[encoded data removed]",
      "text/plain": [
       "<Figure size 432x288 with 1 Axes>"
      ]
     },
     "metadata": {
      "needs_background": "light"
     },
     "output_type": "display_data"
    }
   ],
   "source": [
    "fig, ax = plt.subplots()\n",
    "plt.boxplot(reviews_by_users)"
   ]
  },
  {
   "cell_type": "code",
   "execution_count": 9,
   "metadata": {},
   "outputs": [
    {
     "name": "stdout",
     "output_type": "stream",
     "text": [
      "10659\n"
     ]
    },
    {
     "data": {
      "text/plain": [
       "business_id\n",
       "ujHiaprwCQ5ewziu0Vi9rw    376\n",
       "faPVqws-x-5k2CQKDNtHxw    281\n",
       "Wxxvi3LZbHNIDwJ-ZimtnA    279\n",
       "HhVmDybpU7L50Kb5A0jXTg    270\n",
       "XXW_OFaYQkkGOGniujZFHg    264\n",
       "pH0BLkL4cbxKzu471VZnuA    194\n",
       "yNPh5SO-7wr8HPpVCDPbXQ    152\n",
       "uuGL8diLlHfeUeFuod3F-w    150\n",
       "Xg5qEQiB-7L6kGJ5F4K3bQ    148\n",
       "N0apJkxIem2E8irTBRKnHw    147\n",
       "dtype: int64"
      ]
     },
     "execution_count": 9,
     "metadata": {},
     "output_type": "execute_result"
    }
   ],
   "source": [
    "reviews_by_business = reviews.groupby('business_id').size().sort_values(ascending=False)\n",
    "print(len(reviews_by_business))\n",
    "reviews_by_business.head(10)"
   ]
  },
  {
   "cell_type": "code",
   "execution_count": 10,
   "metadata": {},
   "outputs": [
    {
     "data": {
      "text/plain": [
       "Text(0, 0.5, 'Number of Business')"
      ]
     },
     "execution_count": 10,
     "metadata": {},
     "output_type": "execute_result"
    },
    {
     "data": {
      "image/png": "[encoded data removed]",
      "text/plain": [
       "<Figure size 432x288 with 1 Axes>"
      ]
     },
     "metadata": {
      "needs_background": "light"
     },
     "output_type": "display_data"
    }
   ],
   "source": [
    "# plot reviews by business histogram to see how many business have how many review\n",
    "fig, ax = plt.subplots()\n",
    "reviews_by_business.hist(bins=50, color='#A9C5D3', \n",
    "                             edgecolor='black', grid=False)\n",
    "ax.set_title('Reviews By Business Histogram', fontsize=12)\n",
    "ax.set_xlabel('Number of Reviews', fontsize=12)\n",
    "ax.set_ylabel('Number of Business', fontsize=12)"
   ]
  },
  {
   "cell_type": "code",
   "execution_count": 11,
   "metadata": {},
   "outputs": [
    {
     "name": "stdout",
     "output_type": "stream",
     "text": [
      "<class 'pandas.core.series.Series'>\n"
     ]
    },
    {
     "data": {
      "text/plain": [
       "0.00     1.0\n",
       "0.25     1.0\n",
       "0.50     1.0\n",
       "0.75     1.0\n",
       "1.00    25.0\n",
       "dtype: float64"
      ]
     },
     "execution_count": 11,
     "metadata": {},
     "output_type": "execute_result"
    }
   ],
   "source": [
    "# quantile binning of businesses and number of reviews\n",
    "quantile_list = [0, .25, .5, .75, 1.]\n",
    "quantiles = reviews_by_users.quantile(quantile_list)\n",
    "\n",
    "# fig, ax = plt.subplots()\n",
    "# reviews.business_id.hist(bins=30, color='#A9C5D3', \n",
    "#                              edgecolor='black', grid=False)\n",
    "\n",
    "# for quantile in quantiles:\n",
    "#     qvl = plt.axvline(quantile, color='r')\n",
    "\n",
    "print(type(quantiles))\n",
    "quantiles.head()\n"
   ]
  },
  {
   "cell_type": "code",
   "execution_count": 12,
   "metadata": {},
   "outputs": [
    {
     "data": {
      "text/plain": [
       "{'whiskers': [<matplotlib.lines.Line2D at 0x121f65e10>,\n",
       "  <matplotlib.lines.Line2D at 0x121f65f60>],\n",
       " 'caps': [<matplotlib.lines.Line2D at 0x121f825c0>,\n",
       "  <matplotlib.lines.Line2D at 0x121f82908>],\n",
       " 'boxes': [<matplotlib.lines.Line2D at 0x121f65be0>],\n",
       " 'medians': [<matplotlib.lines.Line2D at 0x121f82c50>],\n",
       " 'fliers': [<matplotlib.lines.Line2D at 0x121f82f98>],\n",
       " 'means': []}"
      ]
     },
     "execution_count": 12,
     "metadata": {},
     "output_type": "execute_result"
    },
    {
     "data": {
      "image/png": "[encoded data removed]",
      "text/plain": [
       "<Figure size 432x288 with 1 Axes>"
      ]
     },
     "metadata": {
      "needs_background": "light"
     },
     "output_type": "display_data"
    }
   ],
   "source": [
    "fig, ax = plt.subplots()\n",
    "plt.boxplot(reviews_by_business)"
   ]
  },
  {
   "cell_type": "code",
   "execution_count": 13,
   "metadata": {},
   "outputs": [
    {
     "data": {
      "text/plain": [
       "Text(0, 0.5, 'Number of Reviews')"
      ]
     },
     "execution_count": 13,
     "metadata": {},
     "output_type": "execute_result"
    },
    {
     "data": {
      "image/png": "[encoded data removed]",
      "text/plain": [
       "<Figure size 432x288 with 1 Axes>"
      ]
     },
     "metadata": {
      "needs_background": "light"
     },
     "output_type": "display_data"
    }
   ],
   "source": [
    "# reviews.hist(column='stars', grid=False)\n",
    "fig, ax = plt.subplots()\n",
    "reviews.stars.hist(bins=5, color='#A9C5D3', \n",
    "                             edgecolor='black', grid=False)\n",
    "ax.set_title('Number of Reviews By Stars', fontsize=12)\n",
    "ax.set_xlabel('Stars', fontsize=12)\n",
    "ax.set_ylabel('Number of Reviews', fontsize=12)"
   ]
  },
  {
   "cell_type": "code",
   "execution_count": 14,
   "metadata": {},
   "outputs": [
    {
     "data": {
      "text/plain": [
       "0.00      0.0\n",
       "0.25      0.0\n",
       "0.50      0.0\n",
       "0.75      1.0\n",
       "1.00    101.0\n",
       "Name: useful, dtype: float64"
      ]
     },
     "execution_count": 14,
     "metadata": {},
     "output_type": "execute_result"
    }
   ],
   "source": [
    "# let's look at useful reviews\n",
    "# looks like most reviews do not have a useful rating\n",
    "quantile_list = [0, .25, .5, .75, 1.]\n",
    "reviews.useful.quantile(quantile_list)"
   ]
  },
  {
   "cell_type": "markdown",
   "metadata": {},
   "source": [
    "# Let's start looking at reviews. \n",
    "## How many sentences are there? in each review\n",
    "## How many words are in each review?"
   ]
  },
  {
   "cell_type": "code",
   "execution_count": 5,
   "metadata": {},
   "outputs": [
    {
     "data": {
      "text/html": [
       "<div>\n",
       "<style scoped>\n",
       "    .dataframe tbody tr th:only-of-type {\n",
       "        vertical-align: middle;\n",
       "    }\n",
       "\n",
       "    .dataframe tbody tr th {\n",
       "        vertical-align: top;\n",
       "    }\n",
       "\n",
       "    .dataframe thead th {\n",
       "        text-align: right;\n",
       "    }\n",
       "</style>\n",
       "<table border=\"1\" class=\"dataframe\">\n",
       "  <thead>\n",
       "    <tr style=\"text-align: right;\">\n",
       "      <th></th>\n",
       "      <th>business_id</th>\n",
       "      <th>cool</th>\n",
       "      <th>date</th>\n",
       "      <th>funny</th>\n",
       "      <th>review_id</th>\n",
       "      <th>stars</th>\n",
       "      <th>text</th>\n",
       "      <th>useful</th>\n",
       "      <th>user_id</th>\n",
       "      <th>text_wc</th>\n",
       "    </tr>\n",
       "  </thead>\n",
       "  <tbody>\n",
       "    <tr>\n",
       "      <th>0</th>\n",
       "      <td>ujmEBvifdJM6h6RLv4wQIg</td>\n",
       "      <td>0</td>\n",
       "      <td>2013-05-07 04:34:36</td>\n",
       "      <td>1</td>\n",
       "      <td>Q1sbwvVQXV2734tPgoKj4Q</td>\n",
       "      <td>1</td>\n",
       "      <td>Total bill for this horrible service? Over $8G...</td>\n",
       "      <td>6</td>\n",
       "      <td>hG7b0MtEbXx5QzbzE6C_VA</td>\n",
       "      <td>39</td>\n",
       "    </tr>\n",
       "    <tr>\n",
       "      <th>1</th>\n",
       "      <td>NZnhc2sEQy3RmzKTZnqtwQ</td>\n",
       "      <td>0</td>\n",
       "      <td>2017-01-14 21:30:33</td>\n",
       "      <td>0</td>\n",
       "      <td>GJXCdrto3ASJOqKeVWPi6Q</td>\n",
       "      <td>5</td>\n",
       "      <td>I *adore* Travis at the Hard Rock's new Kelly ...</td>\n",
       "      <td>0</td>\n",
       "      <td>yXQM5uF2jS6es16SJzNHfg</td>\n",
       "      <td>274</td>\n",
       "    </tr>\n",
       "    <tr>\n",
       "      <th>2</th>\n",
       "      <td>WTqjgwHlXbSFevF32_DJVw</td>\n",
       "      <td>0</td>\n",
       "      <td>2016-11-09 20:09:03</td>\n",
       "      <td>0</td>\n",
       "      <td>2TzJjDVDEuAW6MR5Vuc1ug</td>\n",
       "      <td>5</td>\n",
       "      <td>I have to say that this office really has it t...</td>\n",
       "      <td>3</td>\n",
       "      <td>n6-Gk65cPZL6Uz8qRm3NYw</td>\n",
       "      <td>109</td>\n",
       "    </tr>\n",
       "    <tr>\n",
       "      <th>3</th>\n",
       "      <td>ikCg8xy5JIg_NGPx-MSIDA</td>\n",
       "      <td>0</td>\n",
       "      <td>2018-01-09 20:56:38</td>\n",
       "      <td>0</td>\n",
       "      <td>yi0R0Ugj_xUx_Nek0-_Qig</td>\n",
       "      <td>5</td>\n",
       "      <td>Went in for a lunch. Steak sandwich was delici...</td>\n",
       "      <td>0</td>\n",
       "      <td>dacAIZ6fTM6mqwW5uxkskg</td>\n",
       "      <td>68</td>\n",
       "    </tr>\n",
       "    <tr>\n",
       "      <th>4</th>\n",
       "      <td>b1b1eb3uo-w561D0ZfCEiQ</td>\n",
       "      <td>0</td>\n",
       "      <td>2018-01-30 23:07:38</td>\n",
       "      <td>0</td>\n",
       "      <td>11a8sVPMUFtaC7_ABRkmtw</td>\n",
       "      <td>1</td>\n",
       "      <td>Today was my second out of three sessions I ha...</td>\n",
       "      <td>7</td>\n",
       "      <td>ssoyf2_x0EQMed6fgHeMyQ</td>\n",
       "      <td>673</td>\n",
       "    </tr>\n",
       "  </tbody>\n",
       "</table>\n",
       "</div>"
      ],
      "text/plain": [
       "              business_id  cool                date  funny  \\\n",
       "0  ujmEBvifdJM6h6RLv4wQIg     0 2013-05-07 04:34:36      1   \n",
       "1  NZnhc2sEQy3RmzKTZnqtwQ     0 2017-01-14 21:30:33      0   \n",
       "2  WTqjgwHlXbSFevF32_DJVw     0 2016-11-09 20:09:03      0   \n",
       "3  ikCg8xy5JIg_NGPx-MSIDA     0 2018-01-09 20:56:38      0   \n",
       "4  b1b1eb3uo-w561D0ZfCEiQ     0 2018-01-30 23:07:38      0   \n",
       "\n",
       "                review_id  stars  \\\n",
       "0  Q1sbwvVQXV2734tPgoKj4Q      1   \n",
       "1  GJXCdrto3ASJOqKeVWPi6Q      5   \n",
       "2  2TzJjDVDEuAW6MR5Vuc1ug      5   \n",
       "3  yi0R0Ugj_xUx_Nek0-_Qig      5   \n",
       "4  11a8sVPMUFtaC7_ABRkmtw      1   \n",
       "\n",
       "                                                text  useful  \\\n",
       "0  Total bill for this horrible service? Over $8G...       6   \n",
       "1  I *adore* Travis at the Hard Rock's new Kelly ...       0   \n",
       "2  I have to say that this office really has it t...       3   \n",
       "3  Went in for a lunch. Steak sandwich was delici...       0   \n",
       "4  Today was my second out of three sessions I ha...       7   \n",
       "\n",
       "                  user_id  text_wc  \n",
       "0  hG7b0MtEbXx5QzbzE6C_VA       39  \n",
       "1  yXQM5uF2jS6es16SJzNHfg      274  \n",
       "2  n6-Gk65cPZL6Uz8qRm3NYw      109  \n",
       "3  dacAIZ6fTM6mqwW5uxkskg       68  \n",
       "4  ssoyf2_x0EQMed6fgHeMyQ      673  "
      ]
     },
     "execution_count": 5,
     "metadata": {},
     "output_type": "execute_result"
    }
   ],
   "source": [
    "# how many words are in each review?\n",
    "df = reviews\n",
    "df[\"text_wc\"] = df[\"text\"].apply(lambda x: len(x.split()))\n",
    "df.head()"
   ]
  },
  {
   "cell_type": "code",
   "execution_count": 16,
   "metadata": {},
   "outputs": [
    {
     "data": {
      "text/plain": [
       "count    767.000000\n",
       "mean      65.189048\n",
       "std      114.671284\n",
       "min        1.000000\n",
       "25%        2.000000\n",
       "50%        9.000000\n",
       "75%       63.000000\n",
       "max      478.000000\n",
       "dtype: float64"
      ]
     },
     "execution_count": 16,
     "metadata": {},
     "output_type": "execute_result"
    }
   ],
   "source": [
    "grouped = df.groupby(\"text_wc\")\n",
    "grouped.size().describe()"
   ]
  },
  {
   "cell_type": "code",
   "execution_count": 17,
   "metadata": {},
   "outputs": [
    {
     "data": {
      "text/plain": [
       "0.0      1.0\n",
       "0.1     26.0\n",
       "0.2     37.0\n",
       "0.3     48.0\n",
       "0.4     61.0\n",
       "0.5     77.0\n",
       "0.6     96.0\n",
       "0.7    122.0\n",
       "0.8    159.0\n",
       "0.9    226.0\n",
       "1.0    997.0\n",
       "Name: text_wc, dtype: float64"
      ]
     },
     "execution_count": 17,
     "metadata": {},
     "output_type": "execute_result"
    }
   ],
   "source": [
    "quantile_list = [0, 0.1, 0.2, .3, .4, .5, .6, .7, .8, .9, 1.]\n",
    "quantiles = df[\"text_wc\"].quantile(quantile_list)\n",
    "quantiles"
   ]
  },
  {
   "cell_type": "code",
   "execution_count": 18,
   "metadata": {},
   "outputs": [
    {
     "data": {
      "text/html": [
       "<div>\n",
       "<style scoped>\n",
       "    .dataframe tbody tr th:only-of-type {\n",
       "        vertical-align: middle;\n",
       "    }\n",
       "\n",
       "    .dataframe tbody tr th {\n",
       "        vertical-align: top;\n",
       "    }\n",
       "\n",
       "    .dataframe thead th {\n",
       "        text-align: right;\n",
       "    }\n",
       "</style>\n",
       "<table border=\"1\" class=\"dataframe\">\n",
       "  <thead>\n",
       "    <tr style=\"text-align: right;\">\n",
       "      <th></th>\n",
       "      <th>business_id</th>\n",
       "      <th>cool</th>\n",
       "      <th>date</th>\n",
       "      <th>funny</th>\n",
       "      <th>review_id</th>\n",
       "      <th>stars</th>\n",
       "      <th>text</th>\n",
       "      <th>useful</th>\n",
       "      <th>user_id</th>\n",
       "      <th>text_wc</th>\n",
       "      <th>text_quantile</th>\n",
       "    </tr>\n",
       "  </thead>\n",
       "  <tbody>\n",
       "    <tr>\n",
       "      <th>0</th>\n",
       "      <td>ujmEBvifdJM6h6RLv4wQIg</td>\n",
       "      <td>0</td>\n",
       "      <td>2013-05-07 04:34:36</td>\n",
       "      <td>1</td>\n",
       "      <td>Q1sbwvVQXV2734tPgoKj4Q</td>\n",
       "      <td>1</td>\n",
       "      <td>Total bill for this horrible service? Over $8G...</td>\n",
       "      <td>6</td>\n",
       "      <td>hG7b0MtEbXx5QzbzE6C_VA</td>\n",
       "      <td>39</td>\n",
       "      <td>(37.0, 48.0]</td>\n",
       "    </tr>\n",
       "    <tr>\n",
       "      <th>1</th>\n",
       "      <td>NZnhc2sEQy3RmzKTZnqtwQ</td>\n",
       "      <td>0</td>\n",
       "      <td>2017-01-14 21:30:33</td>\n",
       "      <td>0</td>\n",
       "      <td>GJXCdrto3ASJOqKeVWPi6Q</td>\n",
       "      <td>5</td>\n",
       "      <td>I *adore* Travis at the Hard Rock's new Kelly ...</td>\n",
       "      <td>0</td>\n",
       "      <td>yXQM5uF2jS6es16SJzNHfg</td>\n",
       "      <td>274</td>\n",
       "      <td>(226.0, 997.0]</td>\n",
       "    </tr>\n",
       "    <tr>\n",
       "      <th>2</th>\n",
       "      <td>WTqjgwHlXbSFevF32_DJVw</td>\n",
       "      <td>0</td>\n",
       "      <td>2016-11-09 20:09:03</td>\n",
       "      <td>0</td>\n",
       "      <td>2TzJjDVDEuAW6MR5Vuc1ug</td>\n",
       "      <td>5</td>\n",
       "      <td>I have to say that this office really has it t...</td>\n",
       "      <td>3</td>\n",
       "      <td>n6-Gk65cPZL6Uz8qRm3NYw</td>\n",
       "      <td>109</td>\n",
       "      <td>(96.0, 122.0]</td>\n",
       "    </tr>\n",
       "    <tr>\n",
       "      <th>3</th>\n",
       "      <td>ikCg8xy5JIg_NGPx-MSIDA</td>\n",
       "      <td>0</td>\n",
       "      <td>2018-01-09 20:56:38</td>\n",
       "      <td>0</td>\n",
       "      <td>yi0R0Ugj_xUx_Nek0-_Qig</td>\n",
       "      <td>5</td>\n",
       "      <td>Went in for a lunch. Steak sandwich was delici...</td>\n",
       "      <td>0</td>\n",
       "      <td>dacAIZ6fTM6mqwW5uxkskg</td>\n",
       "      <td>68</td>\n",
       "      <td>(61.0, 77.0]</td>\n",
       "    </tr>\n",
       "    <tr>\n",
       "      <th>4</th>\n",
       "      <td>b1b1eb3uo-w561D0ZfCEiQ</td>\n",
       "      <td>0</td>\n",
       "      <td>2018-01-30 23:07:38</td>\n",
       "      <td>0</td>\n",
       "      <td>11a8sVPMUFtaC7_ABRkmtw</td>\n",
       "      <td>1</td>\n",
       "      <td>Today was my second out of three sessions I ha...</td>\n",
       "      <td>7</td>\n",
       "      <td>ssoyf2_x0EQMed6fgHeMyQ</td>\n",
       "      <td>673</td>\n",
       "      <td>(226.0, 997.0]</td>\n",
       "    </tr>\n",
       "  </tbody>\n",
       "</table>\n",
       "</div>"
      ],
      "text/plain": [
       "              business_id  cool                date  funny  \\\n",
       "0  ujmEBvifdJM6h6RLv4wQIg     0 2013-05-07 04:34:36      1   \n",
       "1  NZnhc2sEQy3RmzKTZnqtwQ     0 2017-01-14 21:30:33      0   \n",
       "2  WTqjgwHlXbSFevF32_DJVw     0 2016-11-09 20:09:03      0   \n",
       "3  ikCg8xy5JIg_NGPx-MSIDA     0 2018-01-09 20:56:38      0   \n",
       "4  b1b1eb3uo-w561D0ZfCEiQ     0 2018-01-30 23:07:38      0   \n",
       "\n",
       "                review_id  stars  \\\n",
       "0  Q1sbwvVQXV2734tPgoKj4Q      1   \n",
       "1  GJXCdrto3ASJOqKeVWPi6Q      5   \n",
       "2  2TzJjDVDEuAW6MR5Vuc1ug      5   \n",
       "3  yi0R0Ugj_xUx_Nek0-_Qig      5   \n",
       "4  11a8sVPMUFtaC7_ABRkmtw      1   \n",
       "\n",
       "                                                text  useful  \\\n",
       "0  Total bill for this horrible service? Over $8G...       6   \n",
       "1  I *adore* Travis at the Hard Rock's new Kelly ...       0   \n",
       "2  I have to say that this office really has it t...       3   \n",
       "3  Went in for a lunch. Steak sandwich was delici...       0   \n",
       "4  Today was my second out of three sessions I ha...       7   \n",
       "\n",
       "                  user_id  text_wc   text_quantile  \n",
       "0  hG7b0MtEbXx5QzbzE6C_VA       39    (37.0, 48.0]  \n",
       "1  yXQM5uF2jS6es16SJzNHfg      274  (226.0, 997.0]  \n",
       "2  n6-Gk65cPZL6Uz8qRm3NYw      109   (96.0, 122.0]  \n",
       "3  dacAIZ6fTM6mqwW5uxkskg       68    (61.0, 77.0]  \n",
       "4  ssoyf2_x0EQMed6fgHeMyQ      673  (226.0, 997.0]  "
      ]
     },
     "execution_count": 18,
     "metadata": {},
     "output_type": "execute_result"
    }
   ],
   "source": [
    "df = df.assign(text_quantile=lambda x: pd.cut(x[\"text_wc\"], quantiles))\n",
    "df.head()"
   ]
  },
  {
   "cell_type": "code",
   "execution_count": 12,
   "metadata": {},
   "outputs": [
    {
     "name": "stdout",
     "output_type": "stream",
     "text": [
      "max length 997\n",
      "['I would give 0 stars if,possible. I\\'m making a complaint with the Better Business Bureau. These people are liars. I spoke with Stanley in June about my move from Vegas to Boston. He asked me for a pick up date, and that is when I informed him that I would need everything delivered by August 1, so I asked him what date would be good for pick up to make this happen. He told me that a cross country move would take anywhere from 7 to 12 days or so, so in order to adjust for that we should make the initial pick up on the 19th or 20th of July. I said okay, then asked him what would happen if it gets there earlier, since I won\\'t be able to receive the items until August 1? He assured me that the drivers would contact me beforehand and if i wasn\\'t available for pick up then they would place it in storage and set a redelivery date of August 1 with me. Then...i had to call and remind them of my pick up date. After pick up, I called them a few days before I flew over to Boston for the Aug 1 delivery date trying to get an idea if they knew the time of when my stuff was going to get to Boston. No response. Called the consecutive days and even emailed with no response. Freaking out in Boston now, I finally get a hold of someone on Sunday, Aug 2nd, the day after my delivery date. She informs me that I need to call Dispatch to figure out when they are going to deliver to me and Dispatch is closed Sundays. No one up until that point informed me to contact Dispatch to get this information. At this point, I, along with my elder parents, were renting hotels last minute, and then finally decided to sleep on the floor of my apartment to save money. Got a hold of dispatch on Monday and Ellie tells me she will find out and call me back. I call her back after 30 minutes, she says she will call me back in 2 hours. I call her back after 2 hours and she tells me she still needs to talk to her boss to get an idea of a delivery date and time. Then she tells me that she would call me before end of business day to tell me if she has news or tell me if she has no news, but she will call me. Frustrated I call the main office trying to get in touch with Stanley, and apparently he is not there, but they are aware of my situation and will get back to me, okay? NO, NOT OKAY, so I ask for the manager. When she gets on the phone, i ask who i am speaking with and she goes the manager....yeah i get that, what\\'s your name?! She says Izzy or Bizzy and then proceeds to tell me that I signed a contract with the movers and they are within their 21 days to deliver my items to me. When i state that 21 days should be sometime this week, she states that it is actually 21 days from when i state i can receive the shipment, so basically from aug 1 to the 21st, since i stated i could receive them on the 1st of august. She tells me it\\'s my fault for telling the guys that came to pick up my stuff that I could receive the stuff on Aug 1 and not immediately or else it would be delivered to me by the 1st....no, no i discussed this with stanley, hence the pick up on the 19th etc. etc. and she keeps arguing with me that it is my fault i told the pick up guys that i could receive the stuff on aug 1. I start telling her this is insane that I have to sleep on the floor of my apartment, and I can\\'t even take a proper shower, I don\\'t have my shampoo and things....she instantly replies, \"well shampoo is not that expensive and sleeping on the floor is not the most horrible thing in the world.\" This lady deserves the freaking nobel peace prize in being a subhuman piece of ish. Anyway, I am pretty much in a full on heated argument at this point, and I inform her that this is not what Stanley and I discussed and she denies that Stanley told me what he did because they don\\'t have storage in Boston, they only have storage in Vegas, and if they redelivered to me I would have to pay a huge fee, and I should know all this because I signed the contract. Obviously this conversation is going back and forth and not leading to a date of delivery or any sense since they are absolutely denying accountability or responsibility of their mess up, so we end the conversation with her stating that she will go through the tape recordings of our conversions and that dispatch is working really hard right now to get my stuff over to me as soon as possible. Guess what the kicker is...........I find out my stuff is still in Las Vegas! And Ellie from dispatch never called me back at the end of business day. Wait wait, there is more! My brother goes to their office the next morning, and they tell him they still haven\\'t even scheduled a date for my things to ship out! So we pulled my stuff out of storage and had to hire another set of movers to get my things over here. And they won\\'t give me my money back because they are charging me for storage in their warehouse. \\n\\nI know, this seems crazy for it to be true, but it is. I\\'m filling this complaint to the BBB, so you can check it out there as well!']\n"
     ]
    }
   ],
   "source": [
    "# let's check to see if wc is correct\n",
    "df = reviews\n",
    "max_wc = df[\"text_wc\"].max()\n",
    "print(f\"max length {max_wc}\")\n",
    "print(df[df[\"text_wc\"] == max_wc].text.values)"
   ]
  },
  {
   "cell_type": "code",
   "execution_count": 19,
   "metadata": {},
   "outputs": [
    {
     "data": {
      "text/plain": [
       "<matplotlib.axes._subplots.AxesSubplot at 0x124e5a8d0>"
      ]
     },
     "execution_count": 19,
     "metadata": {},
     "output_type": "execute_result"
    },
    {
     "data": {
      "image/png": "[encoded data removed]",
      "text/plain": [
       "<Figure size 432x288 with 1 Axes>"
      ]
     },
     "metadata": {
      "needs_background": "light"
     },
     "output_type": "display_data"
    }
   ],
   "source": [
    "df.groupby(\"text_quantile\").size().plot(kind='bar')"
   ]
  },
  {
   "cell_type": "code",
   "execution_count": 20,
   "metadata": {},
   "outputs": [],
   "source": [
    "# let's do this but fixed range\n",
    "df = df.assign(text_fixed_range=lambda x: pd.cut(x[\"text_wc\"], np.arange(0, 1000, 100)))"
   ]
  },
  {
   "cell_type": "code",
   "execution_count": 21,
   "metadata": {},
   "outputs": [
    {
     "data": {
      "text/plain": [
       "<matplotlib.axes._subplots.AxesSubplot at 0x123eb12b0>"
      ]
     },
     "execution_count": 21,
     "metadata": {},
     "output_type": "execute_result"
    },
    {
     "data": {
      "image/png": "[encoded data removed]",
      "text/plain": [
       "<Figure size 432x288 with 1 Axes>"
      ]
     },
     "metadata": {
      "needs_background": "light"
     },
     "output_type": "display_data"
    }
   ],
   "source": [
    "df.groupby(\"text_fixed_range\").size().plot(kind='bar')"
   ]
  },
  {
   "cell_type": "code",
   "execution_count": null,
   "metadata": {},
   "outputs": [],
   "source": []
  }
 ],
 "metadata": {
  "kernelspec": {
   "display_name": "Python 3",
   "language": "python",
   "name": "python3"
  },
  "language_info": {
   "codemirror_mode": {
    "name": "ipython",
    "version": 3
   },
   "file_extension": ".py",
   "mimetype": "text/x-python",
   "name": "python",
   "nbconvert_exporter": "python",
   "pygments_lexer": "ipython3",
   "version": "3.7.3"
  },
  "pycharm": {
   "stem_cell": {
    "cell_type": "raw",
    "source": [],
    "metadata": {
     "collapsed": false
    }
   }
  }
 },
 "nbformat": 4,
 "nbformat_minor": 2
}