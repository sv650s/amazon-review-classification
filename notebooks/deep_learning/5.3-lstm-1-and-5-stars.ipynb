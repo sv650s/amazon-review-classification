{
  "nbformat": 4,
  "nbformat_minor": 0,
  "metadata": {
    "colab": {
      "name": "5.3-lstm-1-and-5-stars.ipynb",
      "provenance": [],
      "collapsed_sections": [],
      "authorship_tag": "ABX9TyPI6+UGsk5thPqf6vTMl+8U",
      "include_colab_link": true
    },
    "kernelspec": {
      "name": "python3",
      "display_name": "Python 3"
    }
  },
  "cells": [
    {
      "cell_type": "markdown",
      "metadata": {
        "id": "view-in-github",
        "colab_type": "text"
      },
      "source": [
        "<a href=\"https://colab.research.google.com/github/sv650s/amazon-review-classification/blob/master/notebooks/deep_learning/5.3-lstm-1-and-5-stars.ipynb\" target=\"_parent\"><img src=\"https://colab.research.google.com/assets/colab-badge.svg\" alt=\"Open In Colab\"/></a>"
      ]
    },
    {
      "cell_type": "markdown",
      "metadata": {
        "id": "O2kesE0YG-gY",
        "colab_type": "text"
      },
      "source": [
        "# LSTMB 1-star and 5-star only\n",
        "\n",
        "In this notebook, we will review results of LSTMB network with 16 units.\n",
        "\n",
        "In order to debug our network and see how much noise we are introducing to the network with middle classes (2, 3, 4). We are going to train the network with only 1-star and 5-star reviews only\n",
        "\n",
        "All runs use the same 16 unit LSTM architecture with balanced weights and GloVe pre-trained embedding\n",
        "\n",
        "We will compare our model scores with models that were trained with all 5 star-rating classes.\n",
        "\n",
        "# Notebooks\n",
        "\n",
        "* [6.6.1-LSTMB16_15-GloVe-200k-prototype.ipynb](deep_learning/6.6.1-LSTMB16_15-GloVe-200k-prototype.ipynb)\n",
        "* [6.6.2-LSTMB16_15-GloVe-500k-prototype.ipynb](deep_learning/6.6.2-LSTMB16_15-GloVe-500k-prototype.ipynb)\n",
        "* [6.6.3-LSTMB16_15-GloVe-1m-prototype.ipynb](deep_learning/6.6.3-LSTMB16_15-GloVe-1m-prototype.ipynb)\n",
        "* [6.6.4-LSTMB16_15-GloVe-2m-prototype.ipynb](deep_learning/6.6.4-LSTMB16_15-GloVe-2m-prototype.ipynb)\n",
        "\n",
        "# Results\n",
        "\n",
        "Model is doing really well when classifying only 1 and 5 star reviews\n",
        "\n",
        "Our Score is around 0.95 with small improvements as we increase the number of examples"
      ]
    },
    {
      "cell_type": "code",
      "metadata": {
        "id": "m_cW9ctvGfT0",
        "colab_type": "code",
        "colab": {
          "base_uri": "https://localhost:8080/",
          "height": 87
        },
        "outputId": "7d763fce-9789-43d5-b433-51efe4c60b30"
      },
      "source": [
        "from google.colab import drive\n",
        "drive.mount('/content/drive')\n",
        "\n",
        "import sys\n",
        "DRIVE_DIR = \"drive/My Drive/Springboard/capstone\"\n",
        "sys.path.append(DRIVE_DIR)\n",
        "\n",
        "\n",
        "%tensorflow_version 2.x\n",
        "\n",
        "\n",
        "import tensorflow as tf\n",
        "# checl to make sure we are using GPU here\n",
        "tf.test.gpu_device_name()"
      ],
      "execution_count": 1,
      "outputs": [
        {
          "output_type": "stream",
          "text": [
            "Drive already mounted at /content/drive; to attempt to forcibly remount, call drive.mount(\"/content/drive\", force_remount=True).\n",
            "TensorFlow 2.x selected.\n"
          ],
          "name": "stdout"
        },
        {
          "output_type": "execute_result",
          "data": {
            "text/plain": [
              "''"
            ]
          },
          "metadata": {
            "tags": []
          },
          "execution_count": 1
        }
      ]
    },
    {
      "cell_type": "code",
      "metadata": {
        "id": "2UNg_O3jHHsW",
        "colab_type": "code",
        "colab": {}
      },
      "source": [
        "# import sibling utilities\n",
        "import sys\n",
        "sys.path.append('../')\n",
        "\n",
        "import pandas as pd\n",
        "import numpy as np\n",
        "import json\n",
        "import matplotlib.pyplot as plt\n",
        "import seaborn as sns\n",
        "import logging\n",
        "import importlib\n",
        "from datetime import datetime\n",
        "\n",
        "import util.dict_util as du\n",
        "import util.report_util as ru\n",
        "import util.plot_util as pu\n",
        "import util.keras_util as ku\n",
        "\n",
        "logging.basicConfig(level=logging.ERROR)\n",
        "\n",
        "%matplotlib inline\n",
        "sns.set(font_scale=2)\n",
        "pd.set_option(\"max_colwidth\", 200)\n",
        "\n",
        "\n",
        "DEBUG = False\n",
        "\n",
        "if DEBUG == True:\n",
        "  TRAIN_SIZE = 101008\n",
        "else:\n",
        "  # this the model with the largest sample we can load. \n",
        "  # For some reason kernal dies when I save a 2m model always\n",
        "  TRAIN_SIZE = 505410\n",
        "\n",
        "\n",
        "MAX_SEQUENCE_LENGTH = 100\n",
        "LABEL_COLUMN = \"star_rating\"\n",
        "REVIEW_COLUMN = \"review_body\"\n"
      ],
      "execution_count": 0,
      "outputs": []
    },
    {
      "cell_type": "code",
      "metadata": {
        "id": "ZZ7t-8J1Hd0I",
        "colab_type": "code",
        "colab": {
          "base_uri": "https://localhost:8080/",
          "height": 238
        },
        "outputId": "5e1bccf3-3037-41fe-b852-265f2a3ea6f3"
      },
      "source": [
        "import importlib\n",
        "importlib.reload(ru)\n",
        "\n",
        "REPORT_DIR = f\"{DRIVE_DIR}/reports\"\n",
        "REPORT_LSTM_GLOVE = f'{REPORT_DIR}/glove_embedding-dl_prototype-report.csv'\n",
        "\n",
        "\n",
        "report_glove = pd.read_csv(REPORT_LSTM_GLOVE, quotechar=\"'\")\n",
        "report_glove = ru.convert_dnn_report_format(report_glove)\n",
        "report_glove.train_examples = np.round(report_glove.train_examples).astype(int)\n",
        "\n",
        "lstm_glove = report_glove[report_glove.model_name == \"LSTMB16\"]\n",
        "lstm_glove[\"eval_metric\"] = lstm_glove.classification_report.apply(lambda x: ru.calculate_metric(json.loads(x)))\n",
        "\n",
        "lstm_glove15 = report_glove[report_glove.model_name == \"LSTMB16_15\"]\n",
        "lstm_glove15[\"eval_metric\"] = lstm_glove15.classification_report.apply(lambda x: \\\n",
        "                                                                       ru.calculate_metric15(json.loads(x)))\n"
      ],
      "execution_count": 3,
      "outputs": [
        {
          "output_type": "stream",
          "text": [
            "/usr/local/lib/python3.6/dist-packages/ipykernel_launcher.py:13: SettingWithCopyWarning: \n",
            "A value is trying to be set on a copy of a slice from a DataFrame.\n",
            "Try using .loc[row_indexer,col_indexer] = value instead\n",
            "\n",
            "See the caveats in the documentation: http://pandas.pydata.org/pandas-docs/stable/user_guide/indexing.html#returning-a-view-versus-a-copy\n",
            "  del sys.path[0]\n",
            "/usr/local/lib/python3.6/dist-packages/ipykernel_launcher.py:16: SettingWithCopyWarning: \n",
            "A value is trying to be set on a copy of a slice from a DataFrame.\n",
            "Try using .loc[row_indexer,col_indexer] = value instead\n",
            "\n",
            "See the caveats in the documentation: http://pandas.pydata.org/pandas-docs/stable/user_guide/indexing.html#returning-a-view-versus-a-copy\n",
            "  app.launch_new_instance()\n"
          ],
          "name": "stderr"
        }
      ]
    },
    {
      "cell_type": "markdown",
      "metadata": {
        "id": "lCjuzsKLL2hn",
        "colab_type": "text"
      },
      "source": [
        "# Model Performance\n",
        "\n",
        "NOTE: Because we are filtering out 2, 3, 4 star reviews. When we train with the same initial sample size files, once filtered the number of traning examples is much smaller. Hence the shorter orange line in the graph. For instance, with a 2mil inital sample file, once filtered down, total training sample size went down to 1352517"
      ]
    },
    {
      "cell_type": "code",
      "metadata": {
        "id": "hRgLUYJcHgdy",
        "colab_type": "code",
        "colab": {
          "base_uri": "https://localhost:8080/",
          "height": 741
        },
        "outputId": "e460a5a8-718a-40b4-ac80-133cfe2f3671"
      },
      "source": [
        "f, a = plt.subplots(1, 1, figsize=(20, 10))\n",
        "sns.lineplot(data=lstm_glove, x=\"train_examples\", y=\"eval_metric\", \n",
        "             marker=\"o\", label=\"LSTM (All Classes)\")\n",
        "sns.lineplot(data=lstm_glove15, x=\"train_examples\", y=\"eval_metric\", \n",
        "             marker=\"o\", label=\"LSTM (1 and 5 Stars Only)\")\n",
        "_ = plt.xticks(rotation=45)\n",
        "_ = plt.xlabel(\"Training Samples\")\n",
        "_ = plt.ylabel(\"Score\")\n",
        "_ = plt.title(\"Model Performance\")\n",
        "\n",
        "\n"
      ],
      "execution_count": 4,
      "outputs": [
        {
          "output_type": "display_data",
          "data": {
            "image/png": "[encoded data removed]",
            "text/plain": [
              "<Figure size 1440x720 with 1 Axes>"
            ]
          },
          "metadata": {
            "tags": []
          }
        }
      ]
    },
    {
      "cell_type": "markdown",
      "metadata": {
        "id": "K18zjyXlL-no",
        "colab_type": "text"
      },
      "source": [
        "# Confusion Matrix and Classification Report\n",
        "\n",
        "We will look at 2m samples"
      ]
    },
    {
      "cell_type": "code",
      "metadata": {
        "id": "Z-UNvEClL0bP",
        "colab_type": "code",
        "colab": {
          "base_uri": "https://localhost:8080/",
          "height": 315
        },
        "outputId": "b32fce74-93c4-4112-f1b9-6f5d5e3968c3"
      },
      "source": [
        "# load the report entry for our sample size\n",
        "entry_2m = lstm_glove15[lstm_glove15.train_examples == TRAIN_SIZE]\n",
        "entry_2m\n"
      ],
      "execution_count": 5,
      "outputs": [
        {
          "output_type": "execute_result",
          "data": {
            "text/html": [
              "<div>\n",
              "<style scoped>\n",
              "    .dataframe tbody tr th:only-of-type {\n",
              "        vertical-align: middle;\n",
              "    }\n",
              "\n",
              "    .dataframe tbody tr th {\n",
              "        vertical-align: top;\n",
              "    }\n",
              "\n",
              "    .dataframe thead th {\n",
              "        text-align: right;\n",
              "    }\n",
              "</style>\n",
              "<table border=\"1\" class=\"dataframe\">\n",
              "  <thead>\n",
              "    <tr style=\"text-align: right;\">\n",
              "      <th></th>\n",
              "      <th>1_f1-score</th>\n",
              "      <th>1_precision</th>\n",
              "      <th>1_recall</th>\n",
              "      <th>1_support</th>\n",
              "      <th>2_f1-score</th>\n",
              "      <th>2_precision</th>\n",
              "      <th>2_recall</th>\n",
              "      <th>2_support</th>\n",
              "      <th>3_f1-score</th>\n",
              "      <th>3_precision</th>\n",
              "      <th>3_recall</th>\n",
              "      <th>3_support</th>\n",
              "      <th>4_f1-score</th>\n",
              "      <th>4_precision</th>\n",
              "      <th>4_recall</th>\n",
              "      <th>4_support</th>\n",
              "      <th>5_f1-score</th>\n",
              "      <th>5_precision</th>\n",
              "      <th>5_recall</th>\n",
              "      <th>5_support</th>\n",
              "      <th>accuracy</th>\n",
              "      <th>architecture</th>\n",
              "      <th>batch_size</th>\n",
              "      <th>class_weight</th>\n",
              "      <th>classification_report</th>\n",
              "      <th>confusion_matrix</th>\n",
              "      <th>description</th>\n",
              "      <th>embedding</th>\n",
              "      <th>epochs</th>\n",
              "      <th>evaluate_time_min</th>\n",
              "      <th>feature_set_name</th>\n",
              "      <th>file</th>\n",
              "      <th>loss</th>\n",
              "      <th>macro avg_f1-score</th>\n",
              "      <th>macro avg_precision</th>\n",
              "      <th>macro avg_recall</th>\n",
              "      <th>macro avg_support</th>\n",
              "      <th>max_sequence_length</th>\n",
              "      <th>model_file</th>\n",
              "      <th>model_json_file</th>\n",
              "      <th>model_name</th>\n",
              "      <th>network_history_file</th>\n",
              "      <th>predict_time_min</th>\n",
              "      <th>roc_auc</th>\n",
              "      <th>sampling_type</th>\n",
              "      <th>status</th>\n",
              "      <th>status_date</th>\n",
              "      <th>test_examples</th>\n",
              "      <th>test_features</th>\n",
              "      <th>tokenizer_file</th>\n",
              "      <th>train_examples</th>\n",
              "      <th>train_features</th>\n",
              "      <th>train_time_min</th>\n",
              "      <th>weighted avg_f1-score</th>\n",
              "      <th>weighted avg_precision</th>\n",
              "      <th>weighted avg_recall</th>\n",
              "      <th>weighted avg_support</th>\n",
              "      <th>weights_file</th>\n",
              "      <th>eval_metric</th>\n",
              "    </tr>\n",
              "  </thead>\n",
              "  <tbody>\n",
              "    <tr>\n",
              "      <th>8</th>\n",
              "      <td>0.925178</td>\n",
              "      <td>0.930437</td>\n",
              "      <td>0.919978</td>\n",
              "      <td>35053.0</td>\n",
              "      <td>0.980481</td>\n",
              "      <td>0.979038</td>\n",
              "      <td>0.981929</td>\n",
              "      <td>133418.0</td>\n",
              "      <td>NaN</td>\n",
              "      <td>NaN</td>\n",
              "      <td>NaN</td>\n",
              "      <td>NaN</td>\n",
              "      <td>NaN</td>\n",
              "      <td>NaN</td>\n",
              "      <td>NaN</td>\n",
              "      <td>NaN</td>\n",
              "      <td>NaN</td>\n",
              "      <td>NaN</td>\n",
              "      <td>NaN</td>\n",
              "      <td>NaN</td>\n",
              "      <td>0.969039</td>\n",
              "      <td>1x16</td>\n",
              "      <td>128.0</td>\n",
              "      <td>[2.4074572904534963, 0.6310645335291165]</td>\n",
              "      <td>{\"1\": {\"precision\": 0.9304365388499379, \"recall\": 0.9199783185462015, \"f1-score\": 0.9251778746844158, \"support\": 35053}, \"2\": {\"precision\": 0.9790377544614832, \"recall\": 0.981928975100811, \"f1-sco...</td>\n",
              "      <td>[[32248, 2805], [2411, 131007]]</td>\n",
              "      <td>1 Layer 16 (1 and 5 star rating only) LSTM Units, No Dropout, GloVe Embedding, Balanced Weights</td>\n",
              "      <td>300.0</td>\n",
              "      <td>13.0</td>\n",
              "      <td>0.61</td>\n",
              "      <td>glove</td>\n",
              "      <td>drive/My Drive/Springboard/capstone/data/amazon_reviews_us_Wireless_v1_00-1m-preprocessed.csv</td>\n",
              "      <td>0.087616</td>\n",
              "      <td>0.95283</td>\n",
              "      <td>0.954737</td>\n",
              "      <td>0.950954</td>\n",
              "      <td>168471.0</td>\n",
              "      <td>100.0</td>\n",
              "      <td>drive/My Drive/Springboard/capstone/models/LSTMB16_15-1x16-glove-sampling_none-673881-100-star_rating-model.h5</td>\n",
              "      <td>drive/My Drive/Springboard/capstone/models/LSTMB16_15-1x16-glove-sampling_none-673881-100-star_rating-model.json</td>\n",
              "      <td>LSTMB16_15</td>\n",
              "      <td>drive/My Drive/Springboard/capstone/reports/LSTMB16_15-1x16-glove-sampling_none-673881-100-star_rating-history.pkl</td>\n",
              "      <td>0.42</td>\n",
              "      <td>{\"auc_1\": 0.991486317237537, \"auc_2\": 0.9914863239730539, \"auc_micro\": 0.9947537353033742, \"auc_macro\": 0.9914903136171945}</td>\n",
              "      <td>none</td>\n",
              "      <td>success</td>\n",
              "      <td>2020-02-14 08:44:07</td>\n",
              "      <td>168471.0</td>\n",
              "      <td>100.0</td>\n",
              "      <td>drive/My Drive/Springboard/capstone/models/LSTMB16_15-1x16-glove-sampling_none-673881-100-star_rating-tokenizer.pkl</td>\n",
              "      <td>505410</td>\n",
              "      <td>100.0</td>\n",
              "      <td>10.72</td>\n",
              "      <td>0.968975</td>\n",
              "      <td>0.968926</td>\n",
              "      <td>0.969039</td>\n",
              "      <td>168471.0</td>\n",
              "      <td>drive/My Drive/Springboard/capstone/models/LSTMB16_15-1x16-glove-sampling_none-673881-100-star_rating-weights.h5</td>\n",
              "      <td>0.94859</td>\n",
              "    </tr>\n",
              "  </tbody>\n",
              "</table>\n",
              "</div>"
            ],
            "text/plain": [
              "   1_f1-score  ...  eval_metric\n",
              "8    0.925178  ...      0.94859\n",
              "\n",
              "[1 rows x 59 columns]"
            ]
          },
          "metadata": {
            "tags": []
          },
          "execution_count": 5
        }
      ]
    },
    {
      "cell_type": "code",
      "metadata": {
        "id": "-bcF98IOL0Z7",
        "colab_type": "code",
        "colab": {
          "base_uri": "https://localhost:8080/",
          "height": 166
        },
        "outputId": "3858399d-66cc-48b2-a5f4-e2d1af9eae81"
      },
      "source": [
        "# load and pring classification report\n",
        "crd = json.loads(entry_2m.classification_report.values[0])\n",
        "pd.DataFrame.from_dict(crd)"
      ],
      "execution_count": 6,
      "outputs": [
        {
          "output_type": "execute_result",
          "data": {
            "text/html": [
              "<div>\n",
              "<style scoped>\n",
              "    .dataframe tbody tr th:only-of-type {\n",
              "        vertical-align: middle;\n",
              "    }\n",
              "\n",
              "    .dataframe tbody tr th {\n",
              "        vertical-align: top;\n",
              "    }\n",
              "\n",
              "    .dataframe thead th {\n",
              "        text-align: right;\n",
              "    }\n",
              "</style>\n",
              "<table border=\"1\" class=\"dataframe\">\n",
              "  <thead>\n",
              "    <tr style=\"text-align: right;\">\n",
              "      <th></th>\n",
              "      <th>1</th>\n",
              "      <th>2</th>\n",
              "      <th>accuracy</th>\n",
              "      <th>macro avg</th>\n",
              "      <th>weighted avg</th>\n",
              "    </tr>\n",
              "  </thead>\n",
              "  <tbody>\n",
              "    <tr>\n",
              "      <th>precision</th>\n",
              "      <td>0.930437</td>\n",
              "      <td>0.979038</td>\n",
              "      <td>0.969039</td>\n",
              "      <td>0.954737</td>\n",
              "      <td>0.968926</td>\n",
              "    </tr>\n",
              "    <tr>\n",
              "      <th>recall</th>\n",
              "      <td>0.919978</td>\n",
              "      <td>0.981929</td>\n",
              "      <td>0.969039</td>\n",
              "      <td>0.950954</td>\n",
              "      <td>0.969039</td>\n",
              "    </tr>\n",
              "    <tr>\n",
              "      <th>f1-score</th>\n",
              "      <td>0.925178</td>\n",
              "      <td>0.980481</td>\n",
              "      <td>0.969039</td>\n",
              "      <td>0.952830</td>\n",
              "      <td>0.968975</td>\n",
              "    </tr>\n",
              "    <tr>\n",
              "      <th>support</th>\n",
              "      <td>35053.000000</td>\n",
              "      <td>133418.000000</td>\n",
              "      <td>0.969039</td>\n",
              "      <td>168471.000000</td>\n",
              "      <td>168471.000000</td>\n",
              "    </tr>\n",
              "  </tbody>\n",
              "</table>\n",
              "</div>"
            ],
            "text/plain": [
              "                      1              2  accuracy      macro avg   weighted avg\n",
              "precision      0.930437       0.979038  0.969039       0.954737       0.968926\n",
              "recall         0.919978       0.981929  0.969039       0.950954       0.969039\n",
              "f1-score       0.925178       0.980481  0.969039       0.952830       0.968975\n",
              "support    35053.000000  133418.000000  0.969039  168471.000000  168471.000000"
            ]
          },
          "metadata": {
            "tags": []
          },
          "execution_count": 6
        }
      ]
    },
    {
      "cell_type": "code",
      "metadata": {
        "id": "AL1z7nrSL0YU",
        "colab_type": "code",
        "colab": {
          "base_uri": "https://localhost:8080/",
          "height": 106
        },
        "outputId": "f99c0753-42c2-4eaf-d78f-00bfcd8bd996"
      },
      "source": [
        "# load and print confusion matrix\n",
        "pd.DataFrame(json.loads(entry_2m.confusion_matrix.values[0])).rename(\n",
        "    { 0: 1, 1: 5}, axis=1\n",
        ")"
      ],
      "execution_count": 7,
      "outputs": [
        {
          "output_type": "execute_result",
          "data": {
            "text/html": [
              "<div>\n",
              "<style scoped>\n",
              "    .dataframe tbody tr th:only-of-type {\n",
              "        vertical-align: middle;\n",
              "    }\n",
              "\n",
              "    .dataframe tbody tr th {\n",
              "        vertical-align: top;\n",
              "    }\n",
              "\n",
              "    .dataframe thead th {\n",
              "        text-align: right;\n",
              "    }\n",
              "</style>\n",
              "<table border=\"1\" class=\"dataframe\">\n",
              "  <thead>\n",
              "    <tr style=\"text-align: right;\">\n",
              "      <th></th>\n",
              "      <th>1</th>\n",
              "      <th>5</th>\n",
              "    </tr>\n",
              "  </thead>\n",
              "  <tbody>\n",
              "    <tr>\n",
              "      <th>0</th>\n",
              "      <td>32248</td>\n",
              "      <td>2805</td>\n",
              "    </tr>\n",
              "    <tr>\n",
              "      <th>1</th>\n",
              "      <td>2411</td>\n",
              "      <td>131007</td>\n",
              "    </tr>\n",
              "  </tbody>\n",
              "</table>\n",
              "</div>"
            ],
            "text/plain": [
              "       1       5\n",
              "0  32248    2805\n",
              "1   2411  131007"
            ]
          },
          "metadata": {
            "tags": []
          },
          "execution_count": 7
        }
      ]
    },
    {
      "cell_type": "markdown",
      "metadata": {
        "id": "V_9BjERERvP3",
        "colab_type": "text"
      },
      "source": [
        "# Look at Misclassified Samples\n",
        "\n",
        "### First we have to load our dataset and convert to sequence like we did during training"
      ]
    },
    {
      "cell_type": "code",
      "metadata": {
        "id": "XpZNaz7lL0Rx",
        "colab_type": "code",
        "colab": {}
      },
      "source": [
        "from sklearn.preprocessing import OneHotEncoder\n",
        "from sklearn.metrics import confusion_matrix, classification_report\n",
        "from sklearn.model_selection import train_test_split\n",
        "from tensorflow.keras.preprocessing import sequence\n",
        "import pickle\n",
        "\n",
        "\n",
        "\n",
        "df = pd.read_csv(entry_2m.file.values[0])\n",
        "\n",
        "df = df[(df[LABEL_COLUMN] == 1) | (df[LABEL_COLUMN] == 5)]\n",
        "# have to set 5's to 2's so we can compute class weights later\n",
        "df.loc[df[LABEL_COLUMN] == 5, LABEL_COLUMN] = 2\n",
        "CLASSES = 2\n",
        "\n",
        "rating = df[LABEL_COLUMN]\n",
        "reviews = df[REVIEW_COLUMN]\n",
        "\n",
        "y = OneHotEncoder().fit_transform(rating.values.reshape(len(rating), 1)).toarray()\n",
        "\n",
        "\n",
        "# split our data into train and test sets\n",
        "reviews_train, reviews_test, y_train, y_test = train_test_split(reviews, y, random_state=1)\n",
        "\n",
        "\n",
        "# load tokenizer\n",
        "with open(entry_2m.tokenizer_file.values[0], 'rb') as f:\n",
        "  t = pickle.load(f)\n",
        "\n",
        "\n",
        "test_sequences = t.texts_to_sequences(reviews_test)\n",
        "X_test = sequence.pad_sequences(test_sequences, maxlen=MAX_SEQUENCE_LENGTH)\n"
      ],
      "execution_count": 0,
      "outputs": []
    },
    {
      "cell_type": "code",
      "metadata": {
        "id": "YgHcjC7rL0N5",
        "colab_type": "code",
        "colab": {
          "base_uri": "https://localhost:8080/",
          "height": 101
        },
        "outputId": "e5549cb9-a16f-4ad4-da96-55b80c73be80"
      },
      "source": [
        "y_train[:5]\n"
      ],
      "execution_count": 9,
      "outputs": [
        {
          "output_type": "execute_result",
          "data": {
            "text/plain": [
              "array([[1., 0.],\n",
              "       [0., 1.],\n",
              "       [0., 1.],\n",
              "       [0., 1.],\n",
              "       [0., 1.]])"
            ]
          },
          "metadata": {
            "tags": []
          },
          "execution_count": 9
        }
      ]
    },
    {
      "cell_type": "code",
      "metadata": {
        "id": "_ZoIiViPYOxY",
        "colab_type": "code",
        "colab": {
          "base_uri": "https://localhost:8080/",
          "height": 185
        },
        "outputId": "54c3d133-e27e-48b3-9174-7c81360dc3cc"
      },
      "source": [
        "X_test[-1]"
      ],
      "execution_count": 10,
      "outputs": [
        {
          "output_type": "execute_result",
          "data": {
            "text/plain": [
              "array([   0,    0,    0,    0,    0,    0,    0,    0,    0,    0,    0,\n",
              "          0,    0,    0,    0,    0,    0,    0,    0,    0,    0,    0,\n",
              "          0,    0,    0,    0,    0,    0,    0,    0,    0,    0,    0,\n",
              "          0,    0,    0,    0,    0,    0,    0,    0,    0,    0,    0,\n",
              "          0,    0,    0,    0,    0,    0,    0,    0,    0,    0,    0,\n",
              "          0,    0,    0,    0,    0,    0,    0,    0,    0,    0,    0,\n",
              "          0,    0,    0,    0,    0,    0,    0,    0,    0,    9,    8,\n",
              "         31,    5,   90,    2,   39,  298,  182,   17,  609,  372, 2674,\n",
              "         57,   19,  120,   48, 2666,    6,   32,    2, 1959,  244,    7,\n",
              "         11], dtype=int32)"
            ]
          },
          "metadata": {
            "tags": []
          },
          "execution_count": 10
        }
      ]
    },
    {
      "cell_type": "markdown",
      "metadata": {
        "id": "87llQur7YXDh",
        "colab_type": "text"
      },
      "source": [
        "# Load our Pre-trained Model\n",
        "\n",
        "Our model accuracy from training was: 96.90%\n",
        "\n",
        "see [6.6.4-LSTMB16_15-GloVe-2m-prototype.ipynb](deep_learning/6.6.4-LSTMB16_15-GloVe-2m-prototype.ipynb)"
      ]
    },
    {
      "cell_type": "code",
      "metadata": {
        "id": "jL0pmYMcYTIo",
        "colab_type": "code",
        "colab": {
          "base_uri": "https://localhost:8080/",
          "height": 54
        },
        "outputId": "05785651-72e6-4b12-99bc-112d814c5c4d"
      },
      "source": [
        "from tensorflow.keras.models import load_model\n",
        "\n",
        "model = load_model(entry_2m.model_file.values[0])\n",
        "\n",
        "scores = model.evaluate(X_test, y_test, verbose=1)\n",
        "\n"
      ],
      "execution_count": 11,
      "outputs": [
        {
          "output_type": "stream",
          "text": [
            "168471/168471 [==============================] - 75s 445us/sample - loss: 0.0876 - categorical_accuracy: 0.9690\n"
          ],
          "name": "stdout"
        }
      ]
    },
    {
      "cell_type": "code",
      "metadata": {
        "id": "BoSrJzkjY0e7",
        "colab_type": "code",
        "colab": {
          "base_uri": "https://localhost:8080/",
          "height": 50
        },
        "outputId": "9589bd68-891e-4598-8964-a38dcf3ee053"
      },
      "source": [
        "print(\"Loss: %.2f%%\" % (scores[0]*100))\n",
        "print(\"Accuracy: %.2f%%\" % (scores[1]*100))\n"
      ],
      "execution_count": 12,
      "outputs": [
        {
          "output_type": "stream",
          "text": [
            "Loss: 8.76%\n",
            "Accuracy: 96.90%\n"
          ],
          "name": "stdout"
        }
      ]
    },
    {
      "cell_type": "markdown",
      "metadata": {
        "id": "CauG-6OHaEic",
        "colab_type": "text"
      },
      "source": [
        "# Use our model to make predictions"
      ]
    },
    {
      "cell_type": "code",
      "metadata": {
        "id": "Rq-UiuvyY8St",
        "colab_type": "code",
        "colab": {
          "base_uri": "https://localhost:8080/",
          "height": 101
        },
        "outputId": "10359dc7-3b7b-42e2-d5b8-c06963b3c5d4"
      },
      "source": [
        "y_predict = model.predict(X_test)\n",
        "y_predict[:5]"
      ],
      "execution_count": 13,
      "outputs": [
        {
          "output_type": "execute_result",
          "data": {
            "text/plain": [
              "array([[2.4396912e-03, 9.9756026e-01],\n",
              "       [1.1910465e-04, 9.9988091e-01],\n",
              "       [1.1148667e-03, 9.9888510e-01],\n",
              "       [6.6868518e-04, 9.9933136e-01],\n",
              "       [2.2128834e-05, 9.9997783e-01]], dtype=float32)"
            ]
          },
          "metadata": {
            "tags": []
          },
          "execution_count": 13
        }
      ]
    },
    {
      "cell_type": "code",
      "metadata": {
        "id": "S_Ctc2ObaIWV",
        "colab_type": "code",
        "colab": {
          "base_uri": "https://localhost:8080/",
          "height": 202
        },
        "outputId": "60392965-0bcc-4445-db83-f058c9255ee2"
      },
      "source": [
        "y_test_unencoded = ku.unencode(y_test)\n",
        "y_predict_unencoded = ku.unencode(y_predict)\n",
        "\n",
        "from sklearn.metrics import confusion_matrix, classification_report\n",
        "\n",
        "cr = classification_report(y_test_unencoded, y_predict_unencoded)\n",
        "print(cr)\n",
        "\n",
        "confusion_matrix = confusion_matrix(y_test_unencoded, y_predict_unencoded)\n",
        "print(confusion_matrix)"
      ],
      "execution_count": 14,
      "outputs": [
        {
          "output_type": "stream",
          "text": [
            "              precision    recall  f1-score   support\n",
            "\n",
            "           1       0.93      0.92      0.93     35053\n",
            "           2       0.98      0.98      0.98    133418\n",
            "\n",
            "    accuracy                           0.97    168471\n",
            "   macro avg       0.95      0.95      0.95    168471\n",
            "weighted avg       0.97      0.97      0.97    168471\n",
            "\n",
            "[[ 32248   2805]\n",
            " [  2411 131007]]\n"
          ],
          "name": "stdout"
        }
      ]
    },
    {
      "cell_type": "markdown",
      "metadata": {
        "id": "_pWcuuLcamvG",
        "colab_type": "text"
      },
      "source": [
        "# Create a Dataframe with Our Label and Prediction"
      ]
    },
    {
      "cell_type": "code",
      "metadata": {
        "id": "eTrAZqK8aZzV",
        "colab_type": "code",
        "colab": {
          "base_uri": "https://localhost:8080/",
          "height": 195
        },
        "outputId": "aefd7202-0351-4ae9-adc5-eeb5e77910da"
      },
      "source": [
        "result = pd.DataFrame({\"test\": y_test_unencoded, \"predict\": y_predict_unencoded})\n",
        "\n",
        "# there is an extra step here to change 2's to 5's since we had to change this while training\n",
        "# to get our encoders and class weights to work\n",
        "result.test = result.test.map({1: 1, 2: 5}).astype(int)\n",
        "result.predict = result.predict.map({1: 1, 2: 5}).astype(int)\n",
        "\n",
        "# add column to tell use which ones are misclassified\n",
        "result[\"correct\"] = result.test == result.predict\n",
        "\n",
        "result.sample(5)"
      ],
      "execution_count": 15,
      "outputs": [
        {
          "output_type": "execute_result",
          "data": {
            "text/html": [
              "<div>\n",
              "<style scoped>\n",
              "    .dataframe tbody tr th:only-of-type {\n",
              "        vertical-align: middle;\n",
              "    }\n",
              "\n",
              "    .dataframe tbody tr th {\n",
              "        vertical-align: top;\n",
              "    }\n",
              "\n",
              "    .dataframe thead th {\n",
              "        text-align: right;\n",
              "    }\n",
              "</style>\n",
              "<table border=\"1\" class=\"dataframe\">\n",
              "  <thead>\n",
              "    <tr style=\"text-align: right;\">\n",
              "      <th></th>\n",
              "      <th>test</th>\n",
              "      <th>predict</th>\n",
              "      <th>correct</th>\n",
              "    </tr>\n",
              "  </thead>\n",
              "  <tbody>\n",
              "    <tr>\n",
              "      <th>53053</th>\n",
              "      <td>5</td>\n",
              "      <td>5</td>\n",
              "      <td>True</td>\n",
              "    </tr>\n",
              "    <tr>\n",
              "      <th>13114</th>\n",
              "      <td>1</td>\n",
              "      <td>1</td>\n",
              "      <td>True</td>\n",
              "    </tr>\n",
              "    <tr>\n",
              "      <th>155829</th>\n",
              "      <td>5</td>\n",
              "      <td>5</td>\n",
              "      <td>True</td>\n",
              "    </tr>\n",
              "    <tr>\n",
              "      <th>132516</th>\n",
              "      <td>1</td>\n",
              "      <td>1</td>\n",
              "      <td>True</td>\n",
              "    </tr>\n",
              "    <tr>\n",
              "      <th>109470</th>\n",
              "      <td>1</td>\n",
              "      <td>1</td>\n",
              "      <td>True</td>\n",
              "    </tr>\n",
              "  </tbody>\n",
              "</table>\n",
              "</div>"
            ],
            "text/plain": [
              "        test  predict  correct\n",
              "53053      5        5     True\n",
              "13114      1        1     True\n",
              "155829     5        5     True\n",
              "132516     1        1     True\n",
              "109470     1        1     True"
            ]
          },
          "metadata": {
            "tags": []
          },
          "execution_count": 15
        }
      ]
    },
    {
      "cell_type": "code",
      "metadata": {
        "id": "GQ4-q3z_cgD9",
        "colab_type": "code",
        "colab": {}
      },
      "source": [
        "# reset reviews index so it matches our result dataframe and we can use the index\n",
        "# of incorrect entries to look up review body\n",
        "reviews_reset = reviews_test.reset_index().rename({\"index\": \"index_orig\"}, axis=1)"
      ],
      "execution_count": 0,
      "outputs": []
    },
    {
      "cell_type": "markdown",
      "metadata": {
        "id": "AsWzmEUScSoI",
        "colab_type": "text"
      },
      "source": [
        "# 1-Star Reviews Classified as 5-Star"
      ]
    },
    {
      "cell_type": "code",
      "metadata": {
        "id": "djazy6pVa2Vn",
        "colab_type": "code",
        "colab": {
          "base_uri": "https://localhost:8080/",
          "height": 992
        },
        "outputId": "78d115fb-c6b6-4e74-f55d-7da0de5190d2"
      },
      "source": [
        "incorrect_result = result[(result.test == 1) & (result.correct == False)]\n",
        "incorrect_idx = incorrect_result.index.tolist()\n",
        "incorrect_pd = pd.merge(incorrect_result, \n",
        "                        reviews_reset.loc[incorrect_idx], \n",
        "                        left_index = True, \n",
        "                        right_index = True)\n",
        "incorrect_pd.sample(min(20, len(incorrect_result)), random_state=1)"
      ],
      "execution_count": 17,
      "outputs": [
        {
          "output_type": "execute_result",
          "data": {
            "text/html": [
              "<div>\n",
              "<style scoped>\n",
              "    .dataframe tbody tr th:only-of-type {\n",
              "        vertical-align: middle;\n",
              "    }\n",
              "\n",
              "    .dataframe tbody tr th {\n",
              "        vertical-align: top;\n",
              "    }\n",
              "\n",
              "    .dataframe thead th {\n",
              "        text-align: right;\n",
              "    }\n",
              "</style>\n",
              "<table border=\"1\" class=\"dataframe\">\n",
              "  <thead>\n",
              "    <tr style=\"text-align: right;\">\n",
              "      <th></th>\n",
              "      <th>test</th>\n",
              "      <th>predict</th>\n",
              "      <th>correct</th>\n",
              "      <th>index_orig</th>\n",
              "      <th>review_body</th>\n",
              "    </tr>\n",
              "  </thead>\n",
              "  <tbody>\n",
              "    <tr>\n",
              "      <th>53444</th>\n",
              "      <td>1</td>\n",
              "      <td>5</td>\n",
              "      <td>False</td>\n",
              "      <td>891775</td>\n",
              "      <td>arrived no hole microphone prevented microphone phone working replacement camera cutout wrong place need come 1 4 came 1 8 cover fit phone would not kept anyway did not like textured surface made ...</td>\n",
              "    </tr>\n",
              "    <tr>\n",
              "      <th>22582</th>\n",
              "      <td>1</td>\n",
              "      <td>5</td>\n",
              "      <td>False</td>\n",
              "      <td>588937</td>\n",
              "      <td>charger will not fit samsung galaxy active unless willing cut bottom usb mini jack cover jack cover prevents charger male connector fitting far enough phone jack make good connection can not bend ...</td>\n",
              "    </tr>\n",
              "    <tr>\n",
              "      <th>52406</th>\n",
              "      <td>1</td>\n",
              "      <td>5</td>\n",
              "      <td>False</td>\n",
              "      <td>524324</td>\n",
              "      <td>order use box shave side fine like cheap corded though do eventually fail best thing do still straight apple</td>\n",
              "    </tr>\n",
              "    <tr>\n",
              "      <th>75283</th>\n",
              "      <td>1</td>\n",
              "      <td>5</td>\n",
              "      <td>False</td>\n",
              "      <td>625482</td>\n",
              "      <td>got pink case ordered mint case besides would great would 5 star</td>\n",
              "    </tr>\n",
              "    <tr>\n",
              "      <th>81277</th>\n",
              "      <td>1</td>\n",
              "      <td>5</td>\n",
              "      <td>False</td>\n",
              "      <td>709615</td>\n",
              "      <td>tried could not get rid bubble spend bit buy techarmor competitor instead actually follow installation instruction</td>\n",
              "    </tr>\n",
              "    <tr>\n",
              "      <th>154527</th>\n",
              "      <td>1</td>\n",
              "      <td>5</td>\n",
              "      <td>False</td>\n",
              "      <td>26428</td>\n",
              "      <td>cute doe stick glass cell fun stick friend pas</td>\n",
              "    </tr>\n",
              "    <tr>\n",
              "      <th>97619</th>\n",
              "      <td>1</td>\n",
              "      <td>5</td>\n",
              "      <td>False</td>\n",
              "      <td>624506</td>\n",
              "      <td>granted got use another device tablet concept should able pas power plug another usb device however doe not let power</td>\n",
              "    </tr>\n",
              "    <tr>\n",
              "      <th>1473</th>\n",
              "      <td>1</td>\n",
              "      <td>5</td>\n",
              "      <td>False</td>\n",
              "      <td>833358</td>\n",
              "      <td>could not get bubble film regardless much took cc smooth gave hour trying smooth</td>\n",
              "    </tr>\n",
              "    <tr>\n",
              "      <th>150537</th>\n",
              "      <td>1</td>\n",
              "      <td>5</td>\n",
              "      <td>False</td>\n",
              "      <td>752399</td>\n",
              "      <td>needed car charger galaxy nexus did not work phone car phone husband car phone car phone car finally ran combination phone car realized five buck plus side led charger lit car would like tiny 5 li...</td>\n",
              "    </tr>\n",
              "    <tr>\n",
              "      <th>110593</th>\n",
              "      <td>1</td>\n",
              "      <td>5</td>\n",
              "      <td>False</td>\n",
              "      <td>348944</td>\n",
              "      <td>thought really hard put got quite bubble remove glass also really thick never glass screen protector though may comparable others</td>\n",
              "    </tr>\n",
              "    <tr>\n",
              "      <th>39751</th>\n",
              "      <td>1</td>\n",
              "      <td>5</td>\n",
              "      <td>False</td>\n",
              "      <td>969952</td>\n",
              "      <td>sure sleek thin case design really nice give week review purchase colored shield case not clear one matte coating hard plastic regular wear carrying iphone pocket purse like people do coating begi...</td>\n",
              "    </tr>\n",
              "    <tr>\n",
              "      <th>43666</th>\n",
              "      <td>1</td>\n",
              "      <td>5</td>\n",
              "      <td>False</td>\n",
              "      <td>83082</td>\n",
              "      <td>gone three far ti ame chip crack pocket first one figured maybe put change pocket hitting screen replacement made sure not put anything else pocket yet still cracked would not bad got third one ph...</td>\n",
              "    </tr>\n",
              "    <tr>\n",
              "      <th>19897</th>\n",
              "      <td>1</td>\n",
              "      <td>5</td>\n",
              "      <td>False</td>\n",
              "      <td>242882</td>\n",
              "      <td>bought package case nice compact style</td>\n",
              "    </tr>\n",
              "    <tr>\n",
              "      <th>125089</th>\n",
              "      <td>1</td>\n",
              "      <td>5</td>\n",
              "      <td>False</td>\n",
              "      <td>756655</td>\n",
              "      <td>great case do not need waterproof part used canoeing did not tip canoe entire trip water inside case phone hour case ever submerged halfway let hang minute ti ame water bottom canoe needle say pho...</td>\n",
              "    </tr>\n",
              "    <tr>\n",
              "      <th>83519</th>\n",
              "      <td>1</td>\n",
              "      <td>5</td>\n",
              "      <td>False</td>\n",
              "      <td>250600</td>\n",
              "      <td>liked last one bought cracked dropped assuming did job one little ding glass drove crazy new phone perfect screen glass better not scratching screen not clean should look</td>\n",
              "    </tr>\n",
              "    <tr>\n",
              "      <th>17645</th>\n",
              "      <td>1</td>\n",
              "      <td>5</td>\n",
              "      <td>False</td>\n",
              "      <td>187110</td>\n",
              "      <td>anything case</td>\n",
              "    </tr>\n",
              "    <tr>\n",
              "      <th>98907</th>\n",
              "      <td>1</td>\n",
              "      <td>5</td>\n",
              "      <td>False</td>\n",
              "      <td>214532</td>\n",
              "      <td>case fit blue life play 2</td>\n",
              "    </tr>\n",
              "    <tr>\n",
              "      <th>30535</th>\n",
              "      <td>1</td>\n",
              "      <td>5</td>\n",
              "      <td>False</td>\n",
              "      <td>24591</td>\n",
              "      <td>very nice looking not use defective</td>\n",
              "    </tr>\n",
              "    <tr>\n",
              "      <th>73606</th>\n",
              "      <td>1</td>\n",
              "      <td>5</td>\n",
              "      <td>False</td>\n",
              "      <td>593823</td>\n",
              "      <td>well really cute case phone protects pretty well black fade turn white week 2 switched case bought gas station</td>\n",
              "    </tr>\n",
              "    <tr>\n",
              "      <th>68780</th>\n",
              "      <td>1</td>\n",
              "      <td>5</td>\n",
              "      <td>False</td>\n",
              "      <td>115958</td>\n",
              "      <td>plantronics blue tooth absolute best bluetooth ever used purchased several year however ear bud piece large small person like even size small big also cover piece ear bud wont stay even tried supe...</td>\n",
              "    </tr>\n",
              "  </tbody>\n",
              "</table>\n",
              "</div>"
            ],
            "text/plain": [
              "        test  ...                                                                                                                                                                                              review_body\n",
              "53444      1  ...  arrived no hole microphone prevented microphone phone working replacement camera cutout wrong place need come 1 4 came 1 8 cover fit phone would not kept anyway did not like textured surface made ...\n",
              "22582      1  ...  charger will not fit samsung galaxy active unless willing cut bottom usb mini jack cover jack cover prevents charger male connector fitting far enough phone jack make good connection can not bend ...\n",
              "52406      1  ...                                                                                             order use box shave side fine like cheap corded though do eventually fail best thing do still straight apple\n",
              "75283      1  ...                                                                                                                                         got pink case ordered mint case besides would great would 5 star\n",
              "81277      1  ...                                                                                       tried could not get rid bubble spend bit buy techarmor competitor instead actually follow installation instruction\n",
              "154527     1  ...                                                                                                                                                           cute doe stick glass cell fun stick friend pas\n",
              "97619      1  ...                                                                                    granted got use another device tablet concept should able pas power plug another usb device however doe not let power\n",
              "1473       1  ...                                                                                                                         could not get bubble film regardless much took cc smooth gave hour trying smooth\n",
              "150537     1  ...  needed car charger galaxy nexus did not work phone car phone husband car phone car phone car finally ran combination phone car realized five buck plus side led charger lit car would like tiny 5 li...\n",
              "110593     1  ...                                                                        thought really hard put got quite bubble remove glass also really thick never glass screen protector though may comparable others\n",
              "39751      1  ...  sure sleek thin case design really nice give week review purchase colored shield case not clear one matte coating hard plastic regular wear carrying iphone pocket purse like people do coating begi...\n",
              "43666      1  ...  gone three far ti ame chip crack pocket first one figured maybe put change pocket hitting screen replacement made sure not put anything else pocket yet still cracked would not bad got third one ph...\n",
              "19897      1  ...                                                                                                                                                                   bought package case nice compact style\n",
              "125089     1  ...  great case do not need waterproof part used canoeing did not tip canoe entire trip water inside case phone hour case ever submerged halfway let hang minute ti ame water bottom canoe needle say pho...\n",
              "83519      1  ...                               liked last one bought cracked dropped assuming did job one little ding glass drove crazy new phone perfect screen glass better not scratching screen not clean should look\n",
              "17645      1  ...                                                                                                                                                                                            anything case\n",
              "98907      1  ...                                                                                                                                                                                case fit blue life play 2\n",
              "30535      1  ...                                                                                                                                                                      very nice looking not use defective\n",
              "73606      1  ...                                                                                           well really cute case phone protects pretty well black fade turn white week 2 switched case bought gas station\n",
              "68780      1  ...  plantronics blue tooth absolute best bluetooth ever used purchased several year however ear bud piece large small person like even size small big also cover piece ear bud wont stay even tried supe...\n",
              "\n",
              "[20 rows x 5 columns]"
            ]
          },
          "metadata": {
            "tags": []
          },
          "execution_count": 17
        }
      ]
    },
    {
      "cell_type": "markdown",
      "metadata": {
        "id": "CqcJOl9BcwK9",
        "colab_type": "text"
      },
      "source": [
        "# 5-Star Reviews Classified as 1-Star"
      ]
    },
    {
      "cell_type": "code",
      "metadata": {
        "id": "n03m96LccpF7",
        "colab_type": "code",
        "colab": {
          "base_uri": "https://localhost:8080/",
          "height": 1000
        },
        "outputId": "533b93fe-4b3e-41bf-f6f1-d5087dafdeb9"
      },
      "source": [
        "incorrect_result = result[(result.test == 5) & (result.correct == False)]\n",
        "incorrect_idx = incorrect_result.index.tolist()\n",
        "incorrect_pd = pd.merge(incorrect_result, reviews_reset.loc[incorrect_idx], left_index = True, right_index = True)\n",
        "incorrect_pd.sample(min(20, len(incorrect_result)), random_state=1)"
      ],
      "execution_count": 18,
      "outputs": [
        {
          "output_type": "execute_result",
          "data": {
            "text/html": [
              "<div>\n",
              "<style scoped>\n",
              "    .dataframe tbody tr th:only-of-type {\n",
              "        vertical-align: middle;\n",
              "    }\n",
              "\n",
              "    .dataframe tbody tr th {\n",
              "        vertical-align: top;\n",
              "    }\n",
              "\n",
              "    .dataframe thead th {\n",
              "        text-align: right;\n",
              "    }\n",
              "</style>\n",
              "<table border=\"1\" class=\"dataframe\">\n",
              "  <thead>\n",
              "    <tr style=\"text-align: right;\">\n",
              "      <th></th>\n",
              "      <th>test</th>\n",
              "      <th>predict</th>\n",
              "      <th>correct</th>\n",
              "      <th>index_orig</th>\n",
              "      <th>review_body</th>\n",
              "    </tr>\n",
              "  </thead>\n",
              "  <tbody>\n",
              "    <tr>\n",
              "      <th>65642</th>\n",
              "      <td>5</td>\n",
              "      <td>1</td>\n",
              "      <td>False</td>\n",
              "      <td>797195</td>\n",
              "      <td>do neiping touch screen accidentally damaged touch screen sad can not use phone</td>\n",
              "    </tr>\n",
              "    <tr>\n",
              "      <th>163309</th>\n",
              "      <td>5</td>\n",
              "      <td>1</td>\n",
              "      <td>False</td>\n",
              "      <td>49151</td>\n",
              "      <td>work difficult day able trust called bargain case honestly say received deal card came quickly via priorty mail minute loaded minute text data triple minute android phone do not pas deal</td>\n",
              "    </tr>\n",
              "    <tr>\n",
              "      <th>61882</th>\n",
              "      <td>5</td>\n",
              "      <td>1</td>\n",
              "      <td>False</td>\n",
              "      <td>615303</td>\n",
              "      <td>hated getting elbow sleeve stuck longer antenna work much shorter no snag</td>\n",
              "    </tr>\n",
              "    <tr>\n",
              "      <th>102822</th>\n",
              "      <td>5</td>\n",
              "      <td>1</td>\n",
              "      <td>False</td>\n",
              "      <td>737288</td>\n",
              "      <td>ordered white atmosphere case very good looking case right size doe not make phone thick providing enough protection bad thing case white edge case starting turn yellow case week</td>\n",
              "    </tr>\n",
              "    <tr>\n",
              "      <th>93101</th>\n",
              "      <td>5</td>\n",
              "      <td>1</td>\n",
              "      <td>False</td>\n",
              "      <td>910963</td>\n",
              "      <td>phone battery really getting worn taking long charge not lasting very long bought battery external charger rotate two battery process actually corrected problem old battery</td>\n",
              "    </tr>\n",
              "    <tr>\n",
              "      <th>90563</th>\n",
              "      <td>5</td>\n",
              "      <td>1</td>\n",
              "      <td>False</td>\n",
              "      <td>718941</td>\n",
              "      <td>nothing positive comment completely satisfied required word making little unhappy review</td>\n",
              "    </tr>\n",
              "    <tr>\n",
              "      <th>12136</th>\n",
              "      <td>5</td>\n",
              "      <td>1</td>\n",
              "      <td>False</td>\n",
              "      <td>258666</td>\n",
              "      <td>dont data plan fit need phone txt wifi enabled</td>\n",
              "    </tr>\n",
              "    <tr>\n",
              "      <th>135193</th>\n",
              "      <td>5</td>\n",
              "      <td>1</td>\n",
              "      <td>False</td>\n",
              "      <td>407168</td>\n",
              "      <td>said issue top left corner not working issue realized not screen protector put protector phone pull mine reapply 3 ti ames get right realized did not perfectly centered top corner would stay unatt...</td>\n",
              "    </tr>\n",
              "    <tr>\n",
              "      <th>87225</th>\n",
              "      <td>5</td>\n",
              "      <td>1</td>\n",
              "      <td>False</td>\n",
              "      <td>614386</td>\n",
              "      <td>first several seller got mine cara k company recommend packaged well small bubble wrap mailer tool one baggie speaker another speaker also enclosed little plastic protective cube protect others sa...</td>\n",
              "    </tr>\n",
              "    <tr>\n",
              "      <th>138245</th>\n",
              "      <td>5</td>\n",
              "      <td>1</td>\n",
              "      <td>False</td>\n",
              "      <td>301335</td>\n",
              "      <td>loved however use lifeproof case iphone 4 unable utilize big case drats</td>\n",
              "    </tr>\n",
              "    <tr>\n",
              "      <th>158911</th>\n",
              "      <td>5</td>\n",
              "      <td>1</td>\n",
              "      <td>False</td>\n",
              "      <td>511749</td>\n",
              "      <td>slightly confused first tried figure hook radio actually need connect charging cradle base would nice know buying not deal breaker</td>\n",
              "    </tr>\n",
              "    <tr>\n",
              "      <th>90277</th>\n",
              "      <td>5</td>\n",
              "      <td>1</td>\n",
              "      <td>False</td>\n",
              "      <td>880922</td>\n",
              "      <td>dropped pool followed direction doe not work water resistant best wasted dollar</td>\n",
              "    </tr>\n",
              "    <tr>\n",
              "      <th>24505</th>\n",
              "      <td>5</td>\n",
              "      <td>1</td>\n",
              "      <td>False</td>\n",
              "      <td>503744</td>\n",
              "      <td>opened ipod classic 2 minute</td>\n",
              "    </tr>\n",
              "    <tr>\n",
              "      <th>55984</th>\n",
              "      <td>5</td>\n",
              "      <td>1</td>\n",
              "      <td>False</td>\n",
              "      <td>106243</td>\n",
              "      <td>overall rating 5 5 buy bought april charge iphone 6 handled wide range temperature near freezing oven like condition go ahead buy will not even realize</td>\n",
              "    </tr>\n",
              "    <tr>\n",
              "      <th>93678</th>\n",
              "      <td>5</td>\n",
              "      <td>1</td>\n",
              "      <td>False</td>\n",
              "      <td>118793</td>\n",
              "      <td>best car phone accessory ever purchased phone will slide base not aligned well expected make magnet within phone case aligned right base will not fall even driving bumpy uneven road magnet may als...</td>\n",
              "    </tr>\n",
              "    <tr>\n",
              "      <th>110217</th>\n",
              "      <td>5</td>\n",
              "      <td>1</td>\n",
              "      <td>False</td>\n",
              "      <td>698970</td>\n",
              "      <td>ordered amp fuse received amp fuse extra hundred amp could possibly go wrong thinking anyone recommend good fire extinguisher</td>\n",
              "    </tr>\n",
              "    <tr>\n",
              "      <th>48735</th>\n",
              "      <td>5</td>\n",
              "      <td>1</td>\n",
              "      <td>False</td>\n",
              "      <td>645794</td>\n",
              "      <td>real buzz not shaped like no arm leg waste foot shoulder sound effect deleted scene spanish speaking action bonus mile shirt contest secret message chin strap behind scene tour backstage pass surp...</td>\n",
              "    </tr>\n",
              "    <tr>\n",
              "      <th>101070</th>\n",
              "      <td>5</td>\n",
              "      <td>1</td>\n",
              "      <td>False</td>\n",
              "      <td>168065</td>\n",
              "      <td>could not get bubble</td>\n",
              "    </tr>\n",
              "    <tr>\n",
              "      <th>1195</th>\n",
              "      <td>5</td>\n",
              "      <td>1</td>\n",
              "      <td>False</td>\n",
              "      <td>341939</td>\n",
              "      <td>first do not thrown negative review niche phone like edge very option screen protector either dry application one people complaining protector not sticking edge part likely wrong got frustrated qu...</td>\n",
              "    </tr>\n",
              "    <tr>\n",
              "      <th>360</th>\n",
              "      <td>5</td>\n",
              "      <td>1</td>\n",
              "      <td>False</td>\n",
              "      <td>343231</td>\n",
              "      <td>bought two screen protector one intelliglass iq shield install glass screen first material mini amal not well designed edge do not seal properly 3 day remove try iq love first sight well designed ...</td>\n",
              "    </tr>\n",
              "  </tbody>\n",
              "</table>\n",
              "</div>"
            ],
            "text/plain": [
              "        test  ...                                                                                                                                                                                              review_body\n",
              "65642      5  ...                                                                                                                          do neiping touch screen accidentally damaged touch screen sad can not use phone\n",
              "163309     5  ...               work difficult day able trust called bargain case honestly say received deal card came quickly via priorty mail minute loaded minute text data triple minute android phone do not pas deal\n",
              "61882      5  ...                                                                                                                                hated getting elbow sleeve stuck longer antenna work much shorter no snag\n",
              "102822     5  ...                       ordered white atmosphere case very good looking case right size doe not make phone thick providing enough protection bad thing case white edge case starting turn yellow case week\n",
              "93101      5  ...                             phone battery really getting worn taking long charge not lasting very long bought battery external charger rotate two battery process actually corrected problem old battery\n",
              "90563      5  ...                                                                                                                 nothing positive comment completely satisfied required word making little unhappy review\n",
              "12136      5  ...                                                                                                                                                           dont data plan fit need phone txt wifi enabled\n",
              "135193     5  ...  said issue top left corner not working issue realized not screen protector put protector phone pull mine reapply 3 ti ames get right realized did not perfectly centered top corner would stay unatt...\n",
              "87225      5  ...  first several seller got mine cara k company recommend packaged well small bubble wrap mailer tool one baggie speaker another speaker also enclosed little plastic protective cube protect others sa...\n",
              "138245     5  ...                                                                                                                                  loved however use lifeproof case iphone 4 unable utilize big case drats\n",
              "158911     5  ...                                                                       slightly confused first tried figure hook radio actually need connect charging cradle base would nice know buying not deal breaker\n",
              "90277      5  ...                                                                                                                          dropped pool followed direction doe not work water resistant best wasted dollar\n",
              "24505      5  ...                                                                                                                                                                             opened ipod classic 2 minute\n",
              "55984      5  ...                                                  overall rating 5 5 buy bought april charge iphone 6 handled wide range temperature near freezing oven like condition go ahead buy will not even realize\n",
              "93678      5  ...  best car phone accessory ever purchased phone will slide base not aligned well expected make magnet within phone case aligned right base will not fall even driving bumpy uneven road magnet may als...\n",
              "110217     5  ...                                                                            ordered amp fuse received amp fuse extra hundred amp could possibly go wrong thinking anyone recommend good fire extinguisher\n",
              "48735      5  ...  real buzz not shaped like no arm leg waste foot shoulder sound effect deleted scene spanish speaking action bonus mile shirt contest secret message chin strap behind scene tour backstage pass surp...\n",
              "101070     5  ...                                                                                                                                                                                     could not get bubble\n",
              "1195       5  ...  first do not thrown negative review niche phone like edge very option screen protector either dry application one people complaining protector not sticking edge part likely wrong got frustrated qu...\n",
              "360        5  ...  bought two screen protector one intelliglass iq shield install glass screen first material mini amal not well designed edge do not seal properly 3 day remove try iq love first sight well designed ...\n",
              "\n",
              "[20 rows x 5 columns]"
            ]
          },
          "metadata": {
            "tags": []
          },
          "execution_count": 18
        }
      ]
    },
    {
      "cell_type": "code",
      "metadata": {
        "id": "_EgGFA3Kc1ph",
        "colab_type": "code",
        "colab": {
          "base_uri": "https://localhost:8080/",
          "height": 34
        },
        "outputId": "99664e15-004d-44cb-de33-41297994bc1c"
      },
      "source": [
        "print(datetime.now())"
      ],
      "execution_count": 19,
      "outputs": [
        {
          "output_type": "stream",
          "text": [
            "2020-02-15 01:38:18.375158\n"
          ],
          "name": "stdout"
        }
      ]
    }
  ]
}