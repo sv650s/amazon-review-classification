{
  "nbformat": 4,
  "nbformat_minor": 0,
  "metadata": {
    "colab": {
      "name": "6.1.3-LSTMB16-1mil-prototype.ipynb",
      "provenance": [],
      "collapsed_sections": [],
      "include_colab_link": true
    },
    "language_info": {
      "codemirror_mode": {
        "name": "ipython",
        "version": 3
      },
      "file_extension": ".py",
      "mimetype": "text/x-python",
      "name": "python",
      "nbconvert_exporter": "python",
      "pygments_lexer": "ipython3",
      "version": "3.7.3"
    },
    "kernelspec": {
      "name": "python3",
      "display_name": "Python 3"
    },
    "accelerator": "GPU"
  },
  "cells": [
    {
      "cell_type": "markdown",
      "metadata": {
        "id": "view-in-github",
        "colab_type": "text"
      },
      "source": [
        "<a href=\"https://colab.research.google.com/github/sv650s/amazon-review-classification/blob/master/notebooks/deep_learning/6.1.3-LSTMB16-1mil-prototype.ipynb\" target=\"_parent\"><img src=\"https://colab.research.google.com/assets/colab-badge.svg\" alt=\"Open In Colab\"/></a>"
      ]
    },
    {
      "cell_type": "markdown",
      "metadata": {
        "id": "W7_sb1roJXhx",
        "colab_type": "text"
      },
      "source": [
        "# LSTM Prototype (16 units Balanced Weights)\n",
        "\n",
        "Running LSTM with balanced weights with only 16 units\n",
        "\n",
        "With 500k examples, our score was 0.385\n",
        "\n",
        "# Result\n",
        "\n",
        "We are seeing a decrease in score again from 500k to 1 million examples. The score for this run is 0.3532278758036526"
      ]
    },
    {
      "cell_type": "code",
      "metadata": {
        "id": "pF_xRedK9O1Q",
        "colab_type": "code",
        "outputId": "5e435313-08f0-4ee3-8523-e65bf69d9611",
        "colab": {
          "base_uri": "https://localhost:8080/",
          "height": 87
        }
      },
      "source": [
        "from google.colab import drive\n",
        "drive.mount('/content/drive')\n",
        "\n",
        "import sys\n",
        "DRIVE_DIR = \"drive/My Drive/Springboard/capstone\"\n",
        "sys.path.append(DRIVE_DIR)\n",
        "\n",
        "\n",
        "%tensorflow_version 2.x\n",
        "\n",
        "\n",
        "import tensorflow as tf\n",
        "# checl to make sure we are using GPU here\n",
        "tf.test.gpu_device_name()"
      ],
      "execution_count": 1,
      "outputs": [
        {
          "output_type": "stream",
          "text": [
            "Drive already mounted at /content/drive; to attempt to forcibly remount, call drive.mount(\"/content/drive\", force_remount=True).\n",
            "TensorFlow 2.x selected.\n"
          ],
          "name": "stdout"
        },
        {
          "output_type": "execute_result",
          "data": {
            "text/plain": [
              "'/device:GPU:0'"
            ]
          },
          "metadata": {
            "tags": []
          },
          "execution_count": 1
        }
      ]
    },
    {
      "cell_type": "code",
      "metadata": {
        "id": "pAHGtniuJXhy",
        "colab_type": "code",
        "colab": {}
      },
      "source": [
        "from __future__ import absolute_import, division, print_function, unicode_literals\n",
        "\n",
        "\n",
        "from tensorflow.keras.models import Sequential\n",
        "from tensorflow.keras.layers import Dense, Activation, Dropout\n",
        "from tensorflow.keras.layers import BatchNormalization\n",
        "from tensorflow.keras.callbacks import EarlyStopping, ReduceLROnPlateau\n",
        "from tensorflow.keras.models import load_model\n",
        "from tensorflow.keras.optimizers import SGD\n",
        "from tensorflow.keras.layers import Conv1D, MaxPooling1D, Embedding, \\\n",
        "    SpatialDropout1D, Flatten, LSTM\n",
        "from tensorflow.keras.preprocessing.text import Tokenizer\n",
        "from tensorflow.keras.preprocessing import sequence\n",
        "from tensorflow.keras.utils import model_to_dot\n",
        "\n",
        "from sklearn.model_selection import train_test_split\n",
        "from sklearn.preprocessing import OneHotEncoder\n",
        "from sklearn.preprocessing import LabelEncoder\n",
        "from sklearn.metrics import confusion_matrix, classification_report\n",
        "from sklearn.utils.class_weight import compute_class_weight\n",
        "\n",
        "\n",
        "\n",
        "\n",
        "import random\n",
        "import pandas as pd\n",
        "import numpy as np\n",
        "from IPython.display import SVG\n",
        "import pickle\n",
        "from datetime import datetime\n",
        "import matplotlib.pyplot as plt\n",
        "import seaborn as sns\n",
        "import os\n",
        "import logging\n",
        "\n",
        "\n",
        "import util.dict_util as du\n",
        "import util.plot_util as pu\n",
        "import util.file_util as fu\n",
        "import util.keras_util as ku\n",
        "import util.report_util as ru\n",
        "\n",
        "# fix random seeds\n",
        "tf.compat.v1.reset_default_graph()\n",
        "tf.compat.v1.set_random_seed(1)\n",
        "random.seed(1)\n",
        "np.random.seed(1)\n",
        "\n",
        "\n",
        "\n",
        "logging.basicConfig(level=logging.ERROR)\n",
        "\n",
        "%matplotlib inline\n",
        "sns.set()\n",
        "\n",
        "\n",
        "DATE_FORMAT = '%Y-%m-%d'\n",
        "TIME_FORMAT = '%Y-%m-%d %H:%M:%S'\n",
        "LABEL_COLUMN = \"star_rating\"\n",
        "REVIEW_COLUMN = \"review_body\"\n",
        "\n",
        "\n",
        "DEBUG = False\n",
        "\n",
        "\n",
        "LSTM_DIM = 16 # total LSTM units\n",
        "MODEL_NAME = f\"LSTMB{LSTM_DIM}\"\n",
        "ARCHITECTURE = f\"1x{LSTM_DIM}\"\n",
        "DESCRIPTION = f\"1 Layer {LSTM_DIM} LSTM Units - Balanced Weights\"\n",
        "FEATURE_SET_NAME = \"random_embedding\"\n",
        "PATIENCE = 2\n",
        "\n",
        "if DEBUG:\n",
        "  DATA_FILE = f'{DRIVE_DIR}/data/amazon_reviews_us_Wireless_v1_00-test-preprocessed.csv'\n",
        "  MODEL_NAME = f'test-{MODEL_NAME}'\n",
        "else:\n",
        "  DATA_FILE = f\"{DRIVE_DIR}/data/amazon_reviews_us_Wireless_v1_00-1m-preprocessed.csv\"\n",
        "\n",
        "\n",
        "# first layer filter\n",
        "FILTER1 = 32\n",
        "# Network Settings\n",
        "KERNEL_SIZE=3\n",
        "\n",
        "\n",
        "\n",
        "# length of our embedding - 300 is standard\n",
        "EMBED_SIZE = 300\n",
        "EPOCHS  = 50\n",
        "BATCH_SIZE = 128\n",
        "\n",
        "# From EDA, we know that 90% of review bodies have 100 words or less, \n",
        "# we will use this as our sequence length\n",
        "MAX_SEQUENCE_LENGTH = 100\n",
        "\n"
      ],
      "execution_count": 0,
      "outputs": []
    },
    {
      "cell_type": "code",
      "metadata": {
        "hide_input": false,
        "id": "k6fwJp9OJXh5",
        "colab_type": "code",
        "colab": {}
      },
      "source": [
        "df = pd.read_csv(DATA_FILE)\n",
        "\n",
        "rating = df[LABEL_COLUMN]\n",
        "reviews = df[REVIEW_COLUMN]"
      ],
      "execution_count": 0,
      "outputs": []
    },
    {
      "cell_type": "markdown",
      "metadata": {
        "id": "EBQR0ZpoOiQk",
        "colab_type": "text"
      },
      "source": [
        "# Preprocessing"
      ]
    },
    {
      "cell_type": "code",
      "metadata": {
        "id": "_g2Wm80MCgGZ",
        "colab_type": "code",
        "colab": {}
      },
      "source": [
        ""
      ],
      "execution_count": 0,
      "outputs": []
    },
    {
      "cell_type": "code",
      "metadata": {
        "id": "lytdvF4neJ4r",
        "colab_type": "code",
        "outputId": "960f8cb8-11b6-4d51-aefa-8654077aac74",
        "colab": {
          "base_uri": "https://localhost:8080/",
          "height": 67
        }
      },
      "source": [
        "\n",
        "\n",
        "# pre-process our lables\n",
        "# one hot encode our star ratings since Keras/TF requires this for the labels\n",
        "y = OneHotEncoder().fit_transform(rating.values.reshape(len(rating), 1)).toarray()\n",
        "\n",
        "\n",
        "# split our data into train and test sets\n",
        "reviews_train, reviews_test, y_train, y_test = train_test_split(reviews, y, random_state=1)\n",
        "\n",
        "\n",
        "# Pre-process our features (review body)\n",
        "t = Tokenizer()\n",
        "# fit the tokenizer on the documents\n",
        "t.fit_on_texts(reviews_train)\n",
        "# tokenize both our training and test data\n",
        "train_sequences = t.texts_to_sequences(reviews_train)\n",
        "test_sequences = t.texts_to_sequences(reviews_test)\n",
        "\n",
        "print(\"Vocabulary size={}\".format(len(t.word_counts)))\n",
        "print(\"Number of Documents={}\".format(t.document_count))\n",
        "\n",
        "\n",
        "# pad our reviews to the max sequence length\n",
        "X_train = sequence.pad_sequences(train_sequences, maxlen=MAX_SEQUENCE_LENGTH)\n",
        "X_test = sequence.pad_sequences(test_sequences, maxlen=MAX_SEQUENCE_LENGTH)\n",
        "\n",
        "print('Train review vectors shape:', X_train.shape, ' Test review vectors shape:', X_test.shape)\n"
      ],
      "execution_count": 4,
      "outputs": [
        {
          "output_type": "stream",
          "text": [
            "Vocabulary size=109547\n",
            "Number of Documents=746766\n",
            "Train review vectors shape: (746766, 100)  Test review vectors shape: (248922, 100)\n"
          ],
          "name": "stdout"
        }
      ]
    },
    {
      "cell_type": "markdown",
      "metadata": {
        "id": "6hWLBCjqucDJ",
        "colab_type": "text"
      },
      "source": [
        "**Build LSTM Model Architecture**"
      ]
    },
    {
      "cell_type": "code",
      "metadata": {
        "id": "653DtCuBJXiF",
        "colab_type": "code",
        "colab": {}
      },
      "source": [
        "vocab_size = len(t.word_counts)+1\n",
        "\n",
        "# building our network\n",
        "model = Sequential()\n",
        "model.add(Embedding(input_dim=vocab_size, output_dim=EMBED_SIZE, input_length=MAX_SEQUENCE_LENGTH))\n",
        "model.add(SpatialDropout1D(0.2))\n",
        "model.add(LSTM(LSTM_DIM))\n",
        "model.add(Dense(5, activation=\"softmax\"))\n",
        "\n",
        "model.compile(loss=\"categorical_crossentropy\", optimizer=\"adam\",\n",
        "              metrics=[\"categorical_accuracy\"])\n"
      ],
      "execution_count": 0,
      "outputs": []
    },
    {
      "cell_type": "code",
      "metadata": {
        "id": "iZitdxXPJXiI",
        "colab_type": "code",
        "outputId": "7a7a1caf-07b0-470f-ef24-aa63d27c6438",
        "colab": {
          "base_uri": "https://localhost:8080/",
          "height": 302
        }
      },
      "source": [
        "print(model.summary())"
      ],
      "execution_count": 6,
      "outputs": [
        {
          "output_type": "stream",
          "text": [
            "Model: \"sequential\"\n",
            "_________________________________________________________________\n",
            "Layer (type)                 Output Shape              Param #   \n",
            "=================================================================\n",
            "embedding (Embedding)        (None, 100, 300)          32864400  \n",
            "_________________________________________________________________\n",
            "spatial_dropout1d (SpatialDr (None, 100, 300)          0         \n",
            "_________________________________________________________________\n",
            "lstm (LSTM)                  (None, 16)                20288     \n",
            "_________________________________________________________________\n",
            "dense (Dense)                (None, 5)                 85        \n",
            "=================================================================\n",
            "Total params: 32,884,773\n",
            "Trainable params: 32,884,773\n",
            "Non-trainable params: 0\n",
            "_________________________________________________________________\n",
            "None\n"
          ],
          "name": "stdout"
        }
      ]
    },
    {
      "cell_type": "code",
      "metadata": {
        "scrolled": false,
        "id": "60eC_0fRJXiQ",
        "colab_type": "code",
        "outputId": "e88cb6f8-2572-49d4-817a-0a0526ce0853",
        "colab": {
          "base_uri": "https://localhost:8080/",
          "height": 238
        }
      },
      "source": [
        "\n",
        "# reduce learning rate if we sense a plateau\n",
        "reduce_lr = ReduceLROnPlateau(monitor='val_loss', \n",
        "                            #   factor=0.4,\n",
        "                            #   patience=PATIENCE, \n",
        "                            #   min_lr=0.00001,\n",
        "                            #  mode='auto',\n",
        "                              restore_best_weights=True)\n",
        "\n",
        "early_stop = EarlyStopping(monitor='val_loss', patience=2, verbose=1)\n",
        "\n",
        "weights = compute_class_weight('balanced', np.arange(1, 6), rating)\n",
        "print(f'class weights: {weights}')\n",
        "\n",
        "\n",
        "mw = ku.ModelWrapper(model, \n",
        "                     MODEL_NAME, \n",
        "                     ARCHITECTURE,\n",
        "                     FEATURE_SET_NAME,\n",
        "                     LABEL_COLUMN, \n",
        "                     DATA_FILE, \n",
        "                     embed_size=EMBED_SIZE,\n",
        "                     tokenizer=t,\n",
        "                     description=DESCRIPTION)\n",
        "\n",
        "network_history = mw.fit(X_train, y_train,\n",
        "                      batch_size=BATCH_SIZE,\n",
        "                      epochs=EPOCHS,\n",
        "                      verbose=1,\n",
        "                      validation_split=0.2,\n",
        "                      class_weight=weights,\n",
        "                      callbacks=[early_stop, reduce_lr])"
      ],
      "execution_count": 7,
      "outputs": [
        {
          "output_type": "stream",
          "text": [
            "class weights: [1.42284845 3.02709736 2.2103805  1.20013018 0.37296994]\n",
            "Number of training examples: 746766\n",
            "Train on 597412 samples, validate on 149354 samples\n",
            "Epoch 1/50\n",
            "597412/597412 [==============================] - 1466s 2ms/sample - loss: 0.8217 - categorical_accuracy: 0.6808 - val_loss: 0.7688 - val_categorical_accuracy: 0.6986\n",
            "Epoch 2/50\n",
            "597412/597412 [==============================] - 1472s 2ms/sample - loss: 0.7279 - categorical_accuracy: 0.7138 - val_loss: 0.7596 - val_categorical_accuracy: 0.7021\n",
            "Epoch 3/50\n",
            "597412/597412 [==============================] - 1498s 3ms/sample - loss: 0.6813 - categorical_accuracy: 0.7332 - val_loss: 0.7693 - val_categorical_accuracy: 0.6996\n",
            "Epoch 4/50\n",
            "597412/597412 [==============================] - 1486s 2ms/sample - loss: 0.6407 - categorical_accuracy: 0.7513 - val_loss: 0.7910 - val_categorical_accuracy: 0.6979\n",
            "Epoch 00004: early stopping\n"
          ],
          "name": "stdout"
        }
      ]
    },
    {
      "cell_type": "code",
      "metadata": {
        "id": "2VHBrsPjJXiS",
        "colab_type": "code",
        "colab": {
          "base_uri": "https://localhost:8080/",
          "height": 1000
        },
        "outputId": "22eab3ff-2c22-48e2-d363-1cfed58aef82"
      },
      "source": [
        "\n",
        "scores = mw.evaluate(X_test, y_test)\n",
        "print(\"Accuracy: %.2f%%\" % (mw.scores[1]*100))\n",
        "\n",
        "pu.plot_network_history(mw.network_history, \"categorical_accuracy\", \"val_categorical_accuracy\")\n",
        "plt.show()\n",
        "\n",
        "print(\"\\nConfusion Matrix\")\n",
        "print(mw.confusion_matrix)\n",
        "\n",
        "print(\"\\nClassification Report\")\n",
        "print(mw.classification_report)\n",
        "\n",
        "fig = plt.figure(figsize=(5,5))\n",
        "pu.plot_roc_auc(mw.model_name, mw.roc_auc, mw.fpr, mw.tpr)\n",
        "\n"
      ],
      "execution_count": 8,
      "outputs": [
        {
          "output_type": "stream",
          "text": [
            "Number of test: 248922\n",
            "Running model.evaluate...\n",
            "248922/248922 [==============================] - 51s 205us/sample - loss: 0.7866 - categorical_accuracy: 0.6987\n",
            "Running model.predict...\n",
            "Unencode predictions...\n",
            "Generating confusion matrix...\n",
            "Calculating ROC AUC...\n",
            "(248922, 5)\n",
            "Getting classification report...\n",
            "Accuracy: 69.87%\n"
          ],
          "name": "stdout"
        },
        {
          "output_type": "display_data",
          "data": {
            "image/png": "[encoded data removed]",
            "text/plain": [
              "<Figure size 720x360 with 2 Axes>"
            ]
          },
          "metadata": {
            "tags": []
          }
        },
        {
          "output_type": "stream",
          "text": [
            "\n",
            "Confusion Matrix\n",
            "[[ 27936   2855   2173    525   1674]\n",
            " [  7192   3019   3760   1020   1507]\n",
            " [  3435   2156   7710   4474   4584]\n",
            " [   993    579   3998  12597  23148]\n",
            " [  1280    313   1770   7552 122672]]\n",
            "\n",
            "Classification Report\n",
            "              precision    recall  f1-score   support\n",
            "\n",
            "           1       0.68      0.79      0.74     35163\n",
            "           2       0.34      0.18      0.24     16498\n",
            "           3       0.40      0.34      0.37     22359\n",
            "           4       0.48      0.30      0.37     41315\n",
            "           5       0.80      0.92      0.85    133587\n",
            "\n",
            "    accuracy                           0.70    248922\n",
            "   macro avg       0.54      0.51      0.51    248922\n",
            "weighted avg       0.66      0.70      0.67    248922\n",
            "\n"
          ],
          "name": "stdout"
        },
        {
          "output_type": "stream",
          "text": [
            "drive/My Drive/Springboard/capstone/util/plot_util.py:267: MatplotlibDeprecationWarning: The 'withdash' parameter of text() is deprecated since Matplotlib 3.1 and will be removed in 3.3.  If any parameter follows 'withdash', they should be pass as keyword, not positionally.\n",
            "  withdash=True)\n",
            "drive/My Drive/Springboard/capstone/util/plot_util.py:267: MatplotlibDeprecationWarning: \n",
            "The TextWithDash class was deprecated in Matplotlib 3.1 and will be removed in 3.3. Use Annotation instead.\n",
            "  withdash=True)\n",
            "drive/My Drive/Springboard/capstone/util/plot_util.py:271: MatplotlibDeprecationWarning: The 'withdash' parameter of text() is deprecated since Matplotlib 3.1 and will be removed in 3.3.  If any parameter follows 'withdash', they should be pass as keyword, not positionally.\n",
            "  withdash=True)\n",
            "drive/My Drive/Springboard/capstone/util/plot_util.py:271: MatplotlibDeprecationWarning: \n",
            "The TextWithDash class was deprecated in Matplotlib 3.1 and will be removed in 3.3. Use Annotation instead.\n",
            "  withdash=True)\n",
            "drive/My Drive/Springboard/capstone/util/plot_util.py:275: MatplotlibDeprecationWarning: The 'withdash' parameter of text() is deprecated since Matplotlib 3.1 and will be removed in 3.3.  If any parameter follows 'withdash', they should be pass as keyword, not positionally.\n",
            "  withdash=True)\n",
            "drive/My Drive/Springboard/capstone/util/plot_util.py:275: MatplotlibDeprecationWarning: \n",
            "The TextWithDash class was deprecated in Matplotlib 3.1 and will be removed in 3.3. Use Annotation instead.\n",
            "  withdash=True)\n"
          ],
          "name": "stderr"
        },
        {
          "output_type": "display_data",
          "data": {
            "image/png": "[encoded data removed]",
            "text/plain": [
              "<Figure size 360x360 with 1 Axes>"
            ]
          },
          "metadata": {
            "tags": []
          }
        }
      ]
    },
    {
      "cell_type": "code",
      "metadata": {
        "id": "YOA18O7wN63j",
        "colab_type": "code",
        "colab": {
          "base_uri": "https://localhost:8080/",
          "height": 34
        },
        "outputId": "5ef5b8ab-a09d-48e9-fc64-cced8576beaf"
      },
      "source": [
        "print(f'Score: {ru.calculate_metric(mw.crd)}')"
      ],
      "execution_count": 9,
      "outputs": [
        {
          "output_type": "stream",
          "text": [
            "Score: 0.3532278758036526\n"
          ],
          "name": "stdout"
        }
      ]
    },
    {
      "cell_type": "markdown",
      "metadata": {
        "id": "z2ot_Nqg1U4w",
        "colab_type": "text"
      },
      "source": [
        "**Save off various files**"
      ]
    },
    {
      "cell_type": "code",
      "metadata": {
        "id": "xW38WixDyNOZ",
        "colab_type": "code",
        "colab": {}
      },
      "source": [
        ""
      ],
      "execution_count": 0,
      "outputs": []
    },
    {
      "cell_type": "code",
      "metadata": {
        "id": "Al3bCFrI1P5m",
        "colab_type": "code",
        "colab": {
          "base_uri": "https://localhost:8080/",
          "height": 384
        },
        "outputId": "e5613540-72d8-40e7-a891-25d1cf62067d"
      },
      "source": [
        "mw.save(DRIVE_DIR, append_report=True)"
      ],
      "execution_count": 10,
      "outputs": [
        {
          "output_type": "stream",
          "text": [
            "description: LSTMB16-1x16-random_embedding-sampling_none-995688-100-star_rating\n",
            "Saving model file: drive/My Drive/Springboard/capstone/models/LSTMB16-1x16-random_embedding-sampling_none-995688-100-star_rating-model.h5\n",
            "Saving json config file: drive/My Drive/Springboard/capstone/models/LSTMB16-1x16-random_embedding-sampling_none-995688-100-star_rating-model.json\n",
            "Saving weights file: drive/My Drive/Springboard/capstone/models/LSTMB16-1x16-random_embedding-sampling_none-995688-100-star_rating-weights.h5\n",
            "Saving history file: drive/My Drive/Springboard/capstone/models/LSTMB16-1x16-random_embedding-sampling_none-995688-100-star_rating-history.h5\n"
          ],
          "name": "stdout"
        },
        {
          "output_type": "error",
          "ename": "TypeError",
          "evalue": "ignored",
          "traceback": [
            "\u001b[0;31m---------------------------------------------------------------------------\u001b[0m",
            "\u001b[0;31mTypeError\u001b[0m                                 Traceback (most recent call last)",
            "\u001b[0;32m<ipython-input-10-213b5f7a623c>\u001b[0m in \u001b[0;36m<module>\u001b[0;34m()\u001b[0m\n\u001b[0;32m----> 1\u001b[0;31m \u001b[0mmw\u001b[0m\u001b[0;34m.\u001b[0m\u001b[0msave\u001b[0m\u001b[0;34m(\u001b[0m\u001b[0mDRIVE_DIR\u001b[0m\u001b[0;34m,\u001b[0m \u001b[0mappend_report\u001b[0m\u001b[0;34m=\u001b[0m\u001b[0;32mTrue\u001b[0m\u001b[0;34m)\u001b[0m\u001b[0;34m\u001b[0m\u001b[0;34m\u001b[0m\u001b[0m\n\u001b[0m",
            "\u001b[0;32m/content/drive/My Drive/Springboard/capstone/util/keras_util.py\u001b[0m in \u001b[0;36msave\u001b[0;34m(self, save_dir, save_format, append_report)\u001b[0m\n\u001b[1;32m    369\u001b[0m             \u001b[0mmodel_json\u001b[0m \u001b[0;34m=\u001b[0m \u001b[0mself\u001b[0m\u001b[0;34m.\u001b[0m\u001b[0mmodel\u001b[0m\u001b[0;34m.\u001b[0m\u001b[0mto_json\u001b[0m\u001b[0;34m(\u001b[0m\u001b[0;34m)\u001b[0m\u001b[0;34m\u001b[0m\u001b[0;34m\u001b[0m\u001b[0m\n\u001b[1;32m    370\u001b[0m             \u001b[0;32mwith\u001b[0m \u001b[0mopen\u001b[0m\u001b[0;34m(\u001b[0m\u001b[0mself\u001b[0m\u001b[0;34m.\u001b[0m\u001b[0mmodel_json_file\u001b[0m\u001b[0;34m,\u001b[0m \u001b[0;34m'w'\u001b[0m\u001b[0;34m)\u001b[0m \u001b[0;32mas\u001b[0m \u001b[0mjson_file\u001b[0m\u001b[0;34m:\u001b[0m\u001b[0;34m\u001b[0m\u001b[0;34m\u001b[0m\u001b[0m\n\u001b[0;32m--> 371\u001b[0;31m                 \u001b[0mjson_file\u001b[0m\u001b[0;34m.\u001b[0m\u001b[0mwrite\u001b[0m\u001b[0;34m(\u001b[0m\u001b[0mmodel_json\u001b[0m\u001b[0;34m)\u001b[0m\u001b[0;34m\u001b[0m\u001b[0;34m\u001b[0m\u001b[0m\n\u001b[0m\u001b[1;32m    372\u001b[0m \u001b[0;34m\u001b[0m\u001b[0m\n\u001b[1;32m    373\u001b[0m         \u001b[0mprint\u001b[0m\u001b[0;34m(\u001b[0m\u001b[0;34mf\"Saving weights file: {self.weights_file}\"\u001b[0m\u001b[0;34m)\u001b[0m\u001b[0;34m\u001b[0m\u001b[0;34m\u001b[0m\u001b[0m\n",
            "\u001b[0;31mTypeError\u001b[0m: can't pickle _thread.RLock objects"
          ]
        }
      ]
    },
    {
      "cell_type": "code",
      "metadata": {
        "id": "BfPZ8CKYyOVN",
        "colab_type": "code",
        "colab": {}
      },
      "source": [
        "# manully save these since there was a bug with saving network file\n",
        "import pickle\n",
        "pickle.dump(mw.tokenizer, open(mw.tokenizer_file, 'wb'))\n"
      ],
      "execution_count": 0,
      "outputs": []
    },
    {
      "cell_type": "code",
      "metadata": {
        "id": "Bg5XYPcayOGp",
        "colab_type": "code",
        "colab": {
          "base_uri": "https://localhost:8080/",
          "height": 1000
        },
        "outputId": "22379843-4e66-4bed-cdc9-f06a9dd07305"
      },
      "source": [
        "# manually save report file\n",
        "report = mw.get_report()\n",
        "report.save(mw.report_file, append=True)\n"
      ],
      "execution_count": 12,
      "outputs": [
        {
          "output_type": "stream",
          "text": [
            "Loading to append to: drive/My Drive/Springboard/capstone/reports/2020-02-dl_prototype-report.csv\n",
            "{'model_name': 'LSTMB16', 'architecture': '1x16', 'description': '1 Layer 16 LSTM Units and 20% 1D Spatial Dropout - Balanced Weights', 'classification_report': '{\"1\": {\"precision\": 0.6841022627093741, \"recall\": 0.794471461479396, \"f1-score\": 0.7351675679943157, \"support\": 35163}, \"2\": {\"precision\": 0.338377045505492, \"recall\": 0.18299187780337012, \"f1-score\": 0.23752950432730138, \"support\": 16498}, \"3\": {\"precision\": 0.3971974653546958, \"recall\": 0.3448275862068966, \"f1-score\": 0.3691644721091693, \"support\": 22359}, \"4\": {\"precision\": 0.4813894833384286, \"recall\": 0.30490136754205494, \"f1-score\": 0.3733384704295897, \"support\": 41315}, \"5\": {\"precision\": 0.7987238337077188, \"recall\": 0.9182929476670634, \"f1-score\": 0.8543451311409189, \"support\": 133587}, \"accuracy\": 0.6987490057126329, \"macro avg\": {\"precision\": 0.5399580181231419, \"recall\": 0.5090970481397562, \"f1-score\": 0.513909029200259, \"support\": 248922}, \"weighted avg\": {\"precision\": 0.6632852771788158, \"recall\": 0.6987490057126329, \"f1-score\": 0.6732128511227826, \"support\": 248922}}', 'roc_auc': '{\"auc_1\": 0.9597467080829458, \"auc_2\": 0.8836794703656642, \"auc_3\": 0.8542380920338982, \"auc_4\": 0.7751967176068078, \"auc_5\": 0.9041006620098395, \"auc_micro\": 0.9236856044162953, \"auc_macro\": 0.875394566437325}', 'loss': 0.7866360202633177, 'accuracy': 0.698749, 'confusion_matrix': '[[27936, 2855, 2173, 525, 1674], [7192, 3019, 3760, 1020, 1507], [3435, 2156, 7710, 4474, 4584], [993, 579, 3998, 12597, 23148], [1280, 313, 1770, 7552, 122672]]', 'file': 'drive/My Drive/Springboard/capstone/data/amazon_reviews_us_Wireless_v1_00-1m-preprocessed.csv', 'tokenizer_file': 'drive/My Drive/Springboard/capstone/models/dl-tokenizer.pkl', 'max_sequence_length': 100, 'batch_size': 128, 'epochs': 4, 'feature_set_name': 'random_embedding', 'class_weight': '[1.4228484463085092, 3.0270973626206583, 2.2103804999334016, 1.200130175375158, 0.3729699357961058]', 'sampling_type': 'none', 'embedding': 300, 'model_file': 'drive/My Drive/Springboard/capstone/models/LSTMB16-1x16-random_embedding-sampling_none-995688-100-star_rating-model.h5', 'model_json_file': 'drive/My Drive/Springboard/capstone/models/LSTMB16-1x16-random_embedding-sampling_none-995688-100-star_rating-model.json', 'weights_file': 'drive/My Drive/Springboard/capstone/models/LSTMB16-1x16-random_embedding-sampling_none-995688-100-star_rating-weights.h5', 'test_examples': 248922, 'test_features': 100, 'train_examples': 746766, 'train_features': 100, 'train_time_min': 118.43, 'evaluate_time_min': 1.02, 'predict_time_min': 0.64, 'status': 'success', 'status_date': '2020-02-07 00:18:44'}\n",
            "Saving report file...\n"
          ],
          "name": "stdout"
        },
        {
          "output_type": "execute_result",
          "data": {
            "text/html": [
              "<div>\n",
              "<style scoped>\n",
              "    .dataframe tbody tr th:only-of-type {\n",
              "        vertical-align: middle;\n",
              "    }\n",
              "\n",
              "    .dataframe tbody tr th {\n",
              "        vertical-align: top;\n",
              "    }\n",
              "\n",
              "    .dataframe thead th {\n",
              "        text-align: right;\n",
              "    }\n",
              "</style>\n",
              "<table border=\"1\" class=\"dataframe\">\n",
              "  <thead>\n",
              "    <tr style=\"text-align: right;\">\n",
              "      <th></th>\n",
              "      <th>accuracy</th>\n",
              "      <th>architecture</th>\n",
              "      <th>batch_size</th>\n",
              "      <th>class_weight</th>\n",
              "      <th>classification_report</th>\n",
              "      <th>confusion_matrix</th>\n",
              "      <th>description</th>\n",
              "      <th>embedding</th>\n",
              "      <th>epochs</th>\n",
              "      <th>evaluate_time_min</th>\n",
              "      <th>feature_set_name</th>\n",
              "      <th>file</th>\n",
              "      <th>loss</th>\n",
              "      <th>max_sequence_length</th>\n",
              "      <th>model_file</th>\n",
              "      <th>model_json_file</th>\n",
              "      <th>model_name</th>\n",
              "      <th>predict_time_min</th>\n",
              "      <th>roc_auc</th>\n",
              "      <th>sampling_type</th>\n",
              "      <th>status</th>\n",
              "      <th>status_date</th>\n",
              "      <th>test_examples</th>\n",
              "      <th>test_features</th>\n",
              "      <th>tokenizer_file</th>\n",
              "      <th>train_examples</th>\n",
              "      <th>train_features</th>\n",
              "      <th>train_time_min</th>\n",
              "      <th>weights_file</th>\n",
              "    </tr>\n",
              "  </thead>\n",
              "  <tbody>\n",
              "    <tr>\n",
              "      <th>0</th>\n",
              "      <td>0.676502</td>\n",
              "      <td>1x64</td>\n",
              "      <td>128.0</td>\n",
              "      <td>[1.4363387189844201, 3.078518976578805, 2.1884...</td>\n",
              "      <td>{\"1\": {\"precision\": 0.664646198445118, \"recall...</td>\n",
              "      <td>[[5044, 789, 546, 139, 463], [1320, 655, 676, ...</td>\n",
              "      <td>1 Layer 64 LSTM Units with no Dropout - Balanc...</td>\n",
              "      <td>300.0</td>\n",
              "      <td>4.0</td>\n",
              "      <td>0.16</td>\n",
              "      <td>random_embedding</td>\n",
              "      <td>drive/My Drive/Springboard/capstone/data/amazo...</td>\n",
              "      <td>0.877478</td>\n",
              "      <td>100.0</td>\n",
              "      <td>drive/My Drive/Springboard/capstone/models/LST...</td>\n",
              "      <td>drive/My Drive/Springboard/capstone/models/LST...</td>\n",
              "      <td>LSTMB_nodropout</td>\n",
              "      <td>0.12</td>\n",
              "      <td>{\"auc_1\": 0.9479297646580732, \"auc_2\": 0.86543...</td>\n",
              "      <td>none</td>\n",
              "      <td>success</td>\n",
              "      <td>2020-02-05 01:44:49</td>\n",
              "      <td>49784.0</td>\n",
              "      <td>100.0</td>\n",
              "      <td>drive/My Drive/Springboard/capstone/models/dl-...</td>\n",
              "      <td>149350.0</td>\n",
              "      <td>100.0</td>\n",
              "      <td>11.22</td>\n",
              "      <td>drive/My Drive/Springboard/capstone/models/LST...</td>\n",
              "    </tr>\n",
              "    <tr>\n",
              "      <th>1</th>\n",
              "      <td>0.680178</td>\n",
              "      <td>1x64</td>\n",
              "      <td>128.0</td>\n",
              "      <td>[1.4363387189844201, 3.078518976578805, 2.1884...</td>\n",
              "      <td>{\"1\": {\"precision\": 0.6407869934024505, \"recal...</td>\n",
              "      <td>[[5439, 603, 407, 102, 430], [1477, 563, 626, ...</td>\n",
              "      <td>1 Layer 64 LSTM Units with no Dropout - Balanc...</td>\n",
              "      <td>300.0</td>\n",
              "      <td>4.0</td>\n",
              "      <td>0.16</td>\n",
              "      <td>random_embedding</td>\n",
              "      <td>drive/My Drive/Springboard/capstone/data/amazo...</td>\n",
              "      <td>0.817394</td>\n",
              "      <td>100.0</td>\n",
              "      <td>drive/My Drive/Springboard/capstone/models/LST...</td>\n",
              "      <td>drive/My Drive/Springboard/capstone/models/LST...</td>\n",
              "      <td>LSTMB_nodropout_restore</td>\n",
              "      <td>0.12</td>\n",
              "      <td>{\"auc_1\": 0.9524739842501337, \"auc_2\": 0.86877...</td>\n",
              "      <td>none</td>\n",
              "      <td>success</td>\n",
              "      <td>2020-02-05 02:00:57</td>\n",
              "      <td>49784.0</td>\n",
              "      <td>100.0</td>\n",
              "      <td>drive/My Drive/Springboard/capstone/models/dl-...</td>\n",
              "      <td>149350.0</td>\n",
              "      <td>100.0</td>\n",
              "      <td>10.99</td>\n",
              "      <td>drive/My Drive/Springboard/capstone/models/LST...</td>\n",
              "    </tr>\n",
              "    <tr>\n",
              "      <th>2</th>\n",
              "      <td>0.700486</td>\n",
              "      <td>1x64</td>\n",
              "      <td>128.0</td>\n",
              "      <td>[1.4190206082718126, 3.030958904109589, 2.2082...</td>\n",
              "      <td>{\"1\": {\"precision\": 0.7025432616675407, \"recal...</td>\n",
              "      <td>[[5359, 544, 513, 127, 403], [1289, 612, 872, ...</td>\n",
              "      <td>1 Layer 64 LSTM Units No Dropout - Balanced We...</td>\n",
              "      <td>300.0</td>\n",
              "      <td>4.0</td>\n",
              "      <td>0.16</td>\n",
              "      <td>random_embedding</td>\n",
              "      <td>drive/My Drive/Springboard/capstone/data/amazo...</td>\n",
              "      <td>0.761258</td>\n",
              "      <td>100.0</td>\n",
              "      <td>drive/My Drive/Springboard/capstone/models/LST...</td>\n",
              "      <td>drive/My Drive/Springboard/capstone/models/LST...</td>\n",
              "      <td>LSTMB_nodropout</td>\n",
              "      <td>0.13</td>\n",
              "      <td>{\"auc_1\": 0.9613279508344518, \"auc_2\": 0.89276...</td>\n",
              "      <td>none</td>\n",
              "      <td>success</td>\n",
              "      <td>2020-02-05 03:11:06</td>\n",
              "      <td>49784.0</td>\n",
              "      <td>100.0</td>\n",
              "      <td>drive/My Drive/Springboard/capstone/models/dl-...</td>\n",
              "      <td>448051.0</td>\n",
              "      <td>100.0</td>\n",
              "      <td>54.90</td>\n",
              "      <td>drive/My Drive/Springboard/capstone/models/LST...</td>\n",
              "    </tr>\n",
              "    <tr>\n",
              "      <th>3</th>\n",
              "      <td>0.694460</td>\n",
              "      <td>1x64</td>\n",
              "      <td>128.0</td>\n",
              "      <td>[1.4190206082718126, 3.030958904109589, 2.2082...</td>\n",
              "      <td>{\"1\": {\"precision\": 0.6945244956772334, \"recal...</td>\n",
              "      <td>[[5302, 752, 401, 145, 346], [1262, 875, 644, ...</td>\n",
              "      <td>1 Layer 64 LSTM Units No Dropout, restore best...</td>\n",
              "      <td>300.0</td>\n",
              "      <td>9.0</td>\n",
              "      <td>0.14</td>\n",
              "      <td>random_embedding</td>\n",
              "      <td>drive/My Drive/Springboard/capstone/data/amazo...</td>\n",
              "      <td>0.785522</td>\n",
              "      <td>100.0</td>\n",
              "      <td>drive/My Drive/Springboard/capstone/models/LST...</td>\n",
              "      <td>drive/My Drive/Springboard/capstone/models/LST...</td>\n",
              "      <td>LSTMB_nodropout_restore_patience8</td>\n",
              "      <td>0.11</td>\n",
              "      <td>{\"auc_1\": 0.9596540140170374, \"auc_2\": 0.88933...</td>\n",
              "      <td>none</td>\n",
              "      <td>success</td>\n",
              "      <td>2020-02-05 05:30:45</td>\n",
              "      <td>49784.0</td>\n",
              "      <td>100.0</td>\n",
              "      <td>drive/My Drive/Springboard/capstone/models/dl-...</td>\n",
              "      <td>448051.0</td>\n",
              "      <td>100.0</td>\n",
              "      <td>119.93</td>\n",
              "      <td>drive/My Drive/Springboard/capstone/models/LST...</td>\n",
              "    </tr>\n",
              "    <tr>\n",
              "      <th>4</th>\n",
              "      <td>0.711416</td>\n",
              "      <td>1x64</td>\n",
              "      <td>128.0</td>\n",
              "      <td>[1.4228484463085092, 3.0270973626206583, 2.210...</td>\n",
              "      <td>{\"1\": {\"precision\": 0.6798441617967228, \"recal...</td>\n",
              "      <td>[[11866, 729, 820, 137, 644], [3154, 967, 1544...</td>\n",
              "      <td>1 Layer 64 LSTM Units, no Dropout - Balanced W...</td>\n",
              "      <td>300.0</td>\n",
              "      <td>10.0</td>\n",
              "      <td>0.28</td>\n",
              "      <td>random_embedding</td>\n",
              "      <td>drive/My Drive/Springboard/capstone/data/amazo...</td>\n",
              "      <td>0.735806</td>\n",
              "      <td>100.0</td>\n",
              "      <td>drive/My Drive/Springboard/capstone/models/LST...</td>\n",
              "      <td>drive/My Drive/Springboard/capstone/models/LST...</td>\n",
              "      <td>LSTMB_nodropout</td>\n",
              "      <td>0.21</td>\n",
              "      <td>{\"auc_1\": 0.9650483217403132, \"auc_2\": 0.89383...</td>\n",
              "      <td>none</td>\n",
              "      <td>success</td>\n",
              "      <td>2020-02-05 11:21:35</td>\n",
              "      <td>99569.0</td>\n",
              "      <td>100.0</td>\n",
              "      <td>drive/My Drive/Springboard/capstone/models/dl-...</td>\n",
              "      <td>896119.0</td>\n",
              "      <td>100.0</td>\n",
              "      <td>375.71</td>\n",
              "      <td>drive/My Drive/Springboard/capstone/models/LST...</td>\n",
              "    </tr>\n",
              "    <tr>\n",
              "      <th>5</th>\n",
              "      <td>0.677226</td>\n",
              "      <td>1x32</td>\n",
              "      <td>128.0</td>\n",
              "      <td>[1.4363387189844201, 3.078518976578805, 2.1884...</td>\n",
              "      <td>{\"1\": {\"precision\": 0.6662372794022929, \"recal...</td>\n",
              "      <td>[[5172, 659, 460, 107, 583], [1340, 606, 661, ...</td>\n",
              "      <td>1 Layer 32 LSTM Units and 20% 1D Spatial Dropo...</td>\n",
              "      <td>300.0</td>\n",
              "      <td>4.0</td>\n",
              "      <td>0.17</td>\n",
              "      <td>random_embedding</td>\n",
              "      <td>drive/My Drive/Springboard/capstone/data/amazo...</td>\n",
              "      <td>0.891127</td>\n",
              "      <td>100.0</td>\n",
              "      <td>drive/My Drive/Springboard/capstone/models/LST...</td>\n",
              "      <td>drive/My Drive/Springboard/capstone/models/LST...</td>\n",
              "      <td>LSTMB32</td>\n",
              "      <td>0.13</td>\n",
              "      <td>{\"auc_1\": 0.947998660128429, \"auc_2\": 0.863344...</td>\n",
              "      <td>none</td>\n",
              "      <td>success</td>\n",
              "      <td>2020-02-06 05:25:51</td>\n",
              "      <td>49784.0</td>\n",
              "      <td>100.0</td>\n",
              "      <td>drive/My Drive/Springboard/capstone/models/dl-...</td>\n",
              "      <td>149350.0</td>\n",
              "      <td>100.0</td>\n",
              "      <td>10.62</td>\n",
              "      <td>drive/My Drive/Springboard/capstone/models/LST...</td>\n",
              "    </tr>\n",
              "    <tr>\n",
              "      <th>6</th>\n",
              "      <td>0.672365</td>\n",
              "      <td>1x16</td>\n",
              "      <td>128.0</td>\n",
              "      <td>[1.4363387189844201, 3.078518976578805, 2.1884...</td>\n",
              "      <td>{\"1\": {\"precision\": 0.6561085972850679, \"recal...</td>\n",
              "      <td>[[5220, 513, 548, 151, 549], [1389, 421, 738, ...</td>\n",
              "      <td>1 Layer 16 LSTM Units and 20% 1D Spatial Dropo...</td>\n",
              "      <td>300.0</td>\n",
              "      <td>3.0</td>\n",
              "      <td>1.20</td>\n",
              "      <td>random_embedding</td>\n",
              "      <td>drive/My Drive/Springboard/capstone/data/amazo...</td>\n",
              "      <td>0.847878</td>\n",
              "      <td>100.0</td>\n",
              "      <td>drive/My Drive/Springboard/capstone/models/LST...</td>\n",
              "      <td>drive/My Drive/Springboard/capstone/models/LST...</td>\n",
              "      <td>LSTMB16</td>\n",
              "      <td>1.04</td>\n",
              "      <td>{\"auc_1\": 0.9481831583594538, \"auc_2\": 0.86221...</td>\n",
              "      <td>none</td>\n",
              "      <td>success</td>\n",
              "      <td>2020-02-06 05:45:55</td>\n",
              "      <td>49784.0</td>\n",
              "      <td>100.0</td>\n",
              "      <td>drive/My Drive/Springboard/capstone/models/dl-...</td>\n",
              "      <td>149350.0</td>\n",
              "      <td>100.0</td>\n",
              "      <td>9.88</td>\n",
              "      <td>drive/My Drive/Springboard/capstone/models/LST...</td>\n",
              "    </tr>\n",
              "    <tr>\n",
              "      <th>7</th>\n",
              "      <td>0.688492</td>\n",
              "      <td>1x32</td>\n",
              "      <td>128.0</td>\n",
              "      <td>[1.4190206082718126, 3.030958904109589, 2.2082...</td>\n",
              "      <td>{\"1\": {\"precision\": 0.6989414029084687, \"recal...</td>\n",
              "      <td>[[13073, 2215, 1141, 325, 906], [3013, 2138, 1...</td>\n",
              "      <td>1 Layer 32 LSTM Units - Balanced Weights</td>\n",
              "      <td>300.0</td>\n",
              "      <td>4.0</td>\n",
              "      <td>0.35</td>\n",
              "      <td>random_embedding</td>\n",
              "      <td>drive/My Drive/Springboard/capstone/data/amazo...</td>\n",
              "      <td>0.815346</td>\n",
              "      <td>100.0</td>\n",
              "      <td>drive/My Drive/Springboard/capstone/models/LST...</td>\n",
              "      <td>drive/My Drive/Springboard/capstone/models/LST...</td>\n",
              "      <td>LSTMB32</td>\n",
              "      <td>0.26</td>\n",
              "      <td>{\"auc_1\": 0.9567393631777276, \"auc_2\": 0.88182...</td>\n",
              "      <td>none</td>\n",
              "      <td>success</td>\n",
              "      <td>2020-02-06 06:26:26</td>\n",
              "      <td>124459.0</td>\n",
              "      <td>100.0</td>\n",
              "      <td>drive/My Drive/Springboard/capstone/models/dl-...</td>\n",
              "      <td>373376.0</td>\n",
              "      <td>100.0</td>\n",
              "      <td>40.30</td>\n",
              "      <td>drive/My Drive/Springboard/capstone/models/LST...</td>\n",
              "    </tr>\n",
              "    <tr>\n",
              "      <th>8</th>\n",
              "      <td>0.709187</td>\n",
              "      <td>1x32</td>\n",
              "      <td>128.0</td>\n",
              "      <td>[1.4228484463085092, 3.0270973626206583, 2.210...</td>\n",
              "      <td>{\"1\": {\"precision\": 0.6837513001271236, \"recal...</td>\n",
              "      <td>[[11833, 698, 801, 153, 711], [3149, 896, 1530...</td>\n",
              "      <td>1 Layer 32 LSTM Units, no Dropout - Balanced W...</td>\n",
              "      <td>300.0</td>\n",
              "      <td>6.0</td>\n",
              "      <td>0.42</td>\n",
              "      <td>random_embedding</td>\n",
              "      <td>drive/My Drive/Springboard/capstone/data/amazo...</td>\n",
              "      <td>0.743794</td>\n",
              "      <td>100.0</td>\n",
              "      <td>drive/My Drive/Springboard/capstone/models/LST...</td>\n",
              "      <td>drive/My Drive/Springboard/capstone/models/LST...</td>\n",
              "      <td>LSTMB32</td>\n",
              "      <td>0.25</td>\n",
              "      <td>{\"auc_1\": 0.9646238270568022, \"auc_2\": 0.89142...</td>\n",
              "      <td>none</td>\n",
              "      <td>success</td>\n",
              "      <td>2020-02-06 08:35:16</td>\n",
              "      <td>99569.0</td>\n",
              "      <td>100.0</td>\n",
              "      <td>drive/My Drive/Springboard/capstone/models/dl-...</td>\n",
              "      <td>896119.0</td>\n",
              "      <td>100.0</td>\n",
              "      <td>236.28</td>\n",
              "      <td>drive/My Drive/Springboard/capstone/models/LST...</td>\n",
              "    </tr>\n",
              "    <tr>\n",
              "      <th>9</th>\n",
              "      <td>0.685615</td>\n",
              "      <td>1x16</td>\n",
              "      <td>128.0</td>\n",
              "      <td>[1.4190206082718126, 3.030958904109589, 2.2082...</td>\n",
              "      <td>{\"1\": {\"precision\": 0.6914212548015365, \"recal...</td>\n",
              "      <td>[[13500, 1862, 1026, 370, 902], [3271, 1924, 1...</td>\n",
              "      <td>1 Layer 16 LSTM Units and 20% 1D Spatial Dropo...</td>\n",
              "      <td>300.0</td>\n",
              "      <td>4.0</td>\n",
              "      <td>0.43</td>\n",
              "      <td>random_embedding</td>\n",
              "      <td>drive/My Drive/Springboard/capstone/data/amazo...</td>\n",
              "      <td>0.819259</td>\n",
              "      <td>100.0</td>\n",
              "      <td>drive/My Drive/Springboard/capstone/models/LST...</td>\n",
              "      <td>drive/My Drive/Springboard/capstone/models/LST...</td>\n",
              "      <td>LSTMB16</td>\n",
              "      <td>0.30</td>\n",
              "      <td>{\"auc_1\": 0.956569422007877, \"auc_2\": 0.878025...</td>\n",
              "      <td>none</td>\n",
              "      <td>success</td>\n",
              "      <td>2020-02-06 23:11:05</td>\n",
              "      <td>124459.0</td>\n",
              "      <td>100.0</td>\n",
              "      <td>drive/My Drive/Springboard/capstone/models/dl-...</td>\n",
              "      <td>373376.0</td>\n",
              "      <td>100.0</td>\n",
              "      <td>41.86</td>\n",
              "      <td>drive/My Drive/Springboard/capstone/models/LST...</td>\n",
              "    </tr>\n",
              "    <tr>\n",
              "      <th>10</th>\n",
              "      <td>0.698749</td>\n",
              "      <td>1x16</td>\n",
              "      <td>128.0</td>\n",
              "      <td>[1.4228484463085092, 3.0270973626206583, 2.210...</td>\n",
              "      <td>{\"1\": {\"precision\": 0.6841022627093741, \"recal...</td>\n",
              "      <td>[[27936, 2855, 2173, 525, 1674], [7192, 3019, ...</td>\n",
              "      <td>1 Layer 16 LSTM Units and 20% 1D Spatial Dropo...</td>\n",
              "      <td>300.0</td>\n",
              "      <td>4.0</td>\n",
              "      <td>1.02</td>\n",
              "      <td>random_embedding</td>\n",
              "      <td>drive/My Drive/Springboard/capstone/data/amazo...</td>\n",
              "      <td>0.786636</td>\n",
              "      <td>100.0</td>\n",
              "      <td>drive/My Drive/Springboard/capstone/models/LST...</td>\n",
              "      <td>drive/My Drive/Springboard/capstone/models/LST...</td>\n",
              "      <td>LSTMB16</td>\n",
              "      <td>0.64</td>\n",
              "      <td>{\"auc_1\": 0.9597467080829458, \"auc_2\": 0.88367...</td>\n",
              "      <td>none</td>\n",
              "      <td>success</td>\n",
              "      <td>2020-02-07 00:18:44</td>\n",
              "      <td>248922.0</td>\n",
              "      <td>100.0</td>\n",
              "      <td>drive/My Drive/Springboard/capstone/models/dl-...</td>\n",
              "      <td>746766.0</td>\n",
              "      <td>100.0</td>\n",
              "      <td>118.43</td>\n",
              "      <td>drive/My Drive/Springboard/capstone/models/LST...</td>\n",
              "    </tr>\n",
              "  </tbody>\n",
              "</table>\n",
              "</div>"
            ],
            "text/plain": [
              "    accuracy  ...                                       weights_file\n",
              "0   0.676502  ...  drive/My Drive/Springboard/capstone/models/LST...\n",
              "1   0.680178  ...  drive/My Drive/Springboard/capstone/models/LST...\n",
              "2   0.700486  ...  drive/My Drive/Springboard/capstone/models/LST...\n",
              "3   0.694460  ...  drive/My Drive/Springboard/capstone/models/LST...\n",
              "4   0.711416  ...  drive/My Drive/Springboard/capstone/models/LST...\n",
              "5   0.677226  ...  drive/My Drive/Springboard/capstone/models/LST...\n",
              "6   0.672365  ...  drive/My Drive/Springboard/capstone/models/LST...\n",
              "7   0.688492  ...  drive/My Drive/Springboard/capstone/models/LST...\n",
              "8   0.709187  ...  drive/My Drive/Springboard/capstone/models/LST...\n",
              "9   0.685615  ...  drive/My Drive/Springboard/capstone/models/LST...\n",
              "10  0.698749  ...  drive/My Drive/Springboard/capstone/models/LST...\n",
              "\n",
              "[11 rows x 29 columns]"
            ]
          },
          "metadata": {
            "tags": []
          },
          "execution_count": 12
        }
      ]
    },
    {
      "cell_type": "code",
      "metadata": {
        "id": "96A-A5CBJXiy",
        "colab_type": "code",
        "colab": {
          "base_uri": "https://localhost:8080/",
          "height": 34
        },
        "outputId": "a73e4c9b-a98d-4897-9cf2-8b6bac26e3a6"
      },
      "source": [
        "print(datetime.now())"
      ],
      "execution_count": 13,
      "outputs": [
        {
          "output_type": "stream",
          "text": [
            "2020-02-07 00:18:48.685153\n"
          ],
          "name": "stdout"
        }
      ]
    }
  ]
}