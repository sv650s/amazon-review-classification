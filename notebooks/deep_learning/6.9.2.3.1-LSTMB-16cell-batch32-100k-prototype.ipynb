{
  "nbformat": 4,
  "nbformat_minor": 0,
  "metadata": {
    "colab": {
      "name": "6.9.2.3.1-LSTMB-16cell-batch32-100k-prototype.ipynb",
      "provenance": [],
      "collapsed_sections": [],
      "machine_shape": "hm",
      "include_colab_link": true
    },
    "language_info": {
      "codemirror_mode": {
        "name": "ipython",
        "version": 3
      },
      "file_extension": ".py",
      "mimetype": "text/x-python",
      "name": "python",
      "nbconvert_exporter": "python",
      "pygments_lexer": "ipython3",
      "version": "3.7.3"
    },
    "kernelspec": {
      "name": "python3",
      "display_name": "Python 3"
    },
    "accelerator": "GPU"
  },
  "cells": [
    {
      "cell_type": "markdown",
      "metadata": {
        "id": "view-in-github",
        "colab_type": "text"
      },
      "source": [
        "<a href=\"https://colab.research.google.com/github/sv650s/amazon-review-classification/blob/master/notebooks/deep_learning/6.9.2.3.1-LSTMB-16cell-batch32-100k-prototype.ipynb\" target=\"_parent\"><img src=\"https://colab.research.google.com/assets/colab-badge.svg\" alt=\"Open In Colab\"/></a>"
      ]
    },
    {
      "cell_type": "markdown",
      "metadata": {
        "id": "W7_sb1roJXhx",
        "colab_type": "text"
      },
      "source": [
        "# 16 Cell LSTM Network with Batch Size 32\n",
        "\n",
        "In this series of notebooks, we will vary batch sizes in our runs and see the affect it has on our model results\n",
        "\n",
        "All runs in this series will run with the following parameters fixed:\n",
        "\n",
        "* 16 cells 1 layer LSTM network with softmax fully connected output layer\n",
        "* learning_rate: 0.01\n",
        "* dropout: 0.2\n",
        "* recurrent dropout: 0.2\n",
        "* max epochs: 20\n",
        "* early stopping patience: 4\n",
        "\n",
        "For this notebook, we will set batch size to 32\n",
        "\n",
        "\n",
        "\n"
      ]
    },
    {
      "cell_type": "code",
      "metadata": {
        "id": "pF_xRedK9O1Q",
        "colab_type": "code",
        "outputId": "5b1c4b3e-b139-499b-e323-219e60d04ca9",
        "colab": {
          "base_uri": "https://localhost:8080/",
          "height": 50
        }
      },
      "source": [
        "from google.colab import drive\n",
        "drive.mount('/content/drive')\n",
        "\n",
        "import sys\n",
        "DRIVE_DIR = \"drive/My Drive/Springboard/capstone\"\n",
        "sys.path.append(DRIVE_DIR)\n",
        "\n",
        "\n",
        "%tensorflow_version 2.x\n",
        "\n",
        "\n",
        "import tensorflow as tf\n",
        "# checl to make sure we are using GPU here\n",
        "tf.test.gpu_device_name()"
      ],
      "execution_count": 1,
      "outputs": [
        {
          "output_type": "stream",
          "text": [
            "Drive already mounted at /content/drive; to attempt to forcibly remount, call drive.mount(\"/content/drive\", force_remount=True).\n"
          ],
          "name": "stdout"
        },
        {
          "output_type": "execute_result",
          "data": {
            "text/plain": [
              "'/device:GPU:0'"
            ]
          },
          "metadata": {
            "tags": []
          },
          "execution_count": 1
        }
      ]
    },
    {
      "cell_type": "code",
      "metadata": {
        "id": "SyhcVd4ec1sq",
        "colab_type": "code",
        "outputId": "8bc14a8e-387d-4e2e-f811-9ff5ae4e43a4",
        "colab": {
          "base_uri": "https://localhost:8080/",
          "height": 336
        }
      },
      "source": [
        "# check what GPU we got\n",
        "gpu_info = !nvidia-smi\n",
        "gpu_info = '\\n'.join(gpu_info)\n",
        "if gpu_info.find('failed') >= 0:\n",
        "  print('Select the Runtime → \"Change runtime type\" menu to enable a GPU accelerator, ')\n",
        "  print('and then re-execute this cell.')\n",
        "else:\n",
        "  print(gpu_info)\n",
        "\n",
        "# check that we are using high RAM runtime\n",
        "from psutil import virtual_memory\n",
        "ram_gb = virtual_memory().total / 1e9\n",
        "print('Your runtime has {:.1f} gigabytes of available RAM\\n'.format(ram_gb))\n",
        "\n",
        "if ram_gb < 20:\n",
        "  print('To enable a high-RAM runtime, select the Runtime → \"Change runtime type\"')\n",
        "  print('menu, and then select High-RAM in the Runtime shape dropdown. Then, ')\n",
        "  print('re-execute this cell.')\n",
        "else:\n",
        "  print('You are using a high-RAM runtime!')"
      ],
      "execution_count": 2,
      "outputs": [
        {
          "output_type": "stream",
          "text": [
            "Thu Apr 30 13:22:26 2020       \n",
            "+-----------------------------------------------------------------------------+\n",
            "| NVIDIA-SMI 440.64.00    Driver Version: 418.67       CUDA Version: 10.1     |\n",
            "|-------------------------------+----------------------+----------------------+\n",
            "| GPU  Name        Persistence-M| Bus-Id        Disp.A | Volatile Uncorr. ECC |\n",
            "| Fan  Temp  Perf  Pwr:Usage/Cap|         Memory-Usage | GPU-Util  Compute M. |\n",
            "|===============================+======================+======================|\n",
            "|   0  Tesla P100-PCIE...  Off  | 00000000:00:04.0 Off |                    0 |\n",
            "| N/A   45C    P0    34W / 250W |    353MiB / 16280MiB |      0%      Default |\n",
            "+-------------------------------+----------------------+----------------------+\n",
            "                                                                               \n",
            "+-----------------------------------------------------------------------------+\n",
            "| Processes:                                                       GPU Memory |\n",
            "|  GPU       PID   Type   Process name                             Usage      |\n",
            "|=============================================================================|\n",
            "+-----------------------------------------------------------------------------+\n",
            "Your runtime has 27.4 gigabytes of available RAM\n",
            "\n",
            "You are using a high-RAM runtime!\n"
          ],
          "name": "stdout"
        }
      ]
    },
    {
      "cell_type": "code",
      "metadata": {
        "id": "pAHGtniuJXhy",
        "colab_type": "code",
        "outputId": "42c65362-9499-4c01-e911-c2756767db9b",
        "colab": {
          "base_uri": "https://localhost:8080/",
          "height": 70
        }
      },
      "source": [
        "from __future__ import absolute_import, division, print_function, unicode_literals\n",
        "\n",
        "\n",
        "from tensorflow.keras.models import Sequential\n",
        "from tensorflow.keras.layers import Dense, Activation, Dropout\n",
        "from tensorflow.keras.layers import BatchNormalization\n",
        "from tensorflow.keras.callbacks import EarlyStopping, ReduceLROnPlateau\n",
        "from tensorflow.keras.models import load_model\n",
        "from tensorflow.keras.optimizers import SGD, Adam\n",
        "from tensorflow.keras.layers import Conv1D, MaxPooling1D, Embedding, \\\n",
        "    SpatialDropout1D, Flatten, LSTM\n",
        "from tensorflow.keras.preprocessing.text import Tokenizer\n",
        "from tensorflow.keras.preprocessing import sequence\n",
        "from tensorflow.keras.utils import model_to_dot\n",
        "from tensorflow.keras.initializers import Constant\n",
        "\n",
        "\n",
        "from sklearn.model_selection import train_test_split\n",
        "from sklearn.preprocessing import OneHotEncoder\n",
        "from sklearn.preprocessing import LabelEncoder\n",
        "from sklearn.metrics import confusion_matrix, classification_report\n",
        "from sklearn.utils.class_weight import compute_class_weight\n",
        "\n",
        "\n",
        "import pandas as pd\n",
        "import numpy as np\n",
        "from IPython.display import SVG\n",
        "import pickle\n",
        "from datetime import datetime\n",
        "import matplotlib.pyplot as plt\n",
        "import seaborn as sns\n",
        "import os\n",
        "import logging\n",
        "\n",
        "\n",
        "import util.dict_util as du\n",
        "import util.plot_util as pu\n",
        "import util.file_util as fu\n",
        "import util.keras_util as ku\n",
        "import util.report_util as ru\n",
        "\n",
        "import random\n",
        "\n",
        "# fix random seeds\n",
        "tf.compat.v1.reset_default_graph()\n",
        "tf.compat.v1.set_random_seed(1)\n",
        "random.seed(1)\n",
        "np.random.seed(1)\n",
        "\n",
        "logging.basicConfig(level=logging.ERROR)\n",
        "\n",
        "%matplotlib inline\n",
        "sns.set()\n",
        "\n",
        "\n",
        "DATE_FORMAT = '%Y-%m-%d'\n",
        "TIME_FORMAT = '%Y-%m-%d %H:%M:%S'\n",
        "LABEL_COLUMN = \"star_rating\"\n",
        "REVIEW_COLUMN = \"review_body\"\n",
        "\n",
        "\n",
        "DEBUG = False\n",
        "\n",
        "\n",
        "LSTM_DIM = 16 # total LSTM units\n",
        "MODEL_NAME = f\"LSTMB{LSTM_DIM}\"\n",
        "ARCHITECTURE = f\"1x{LSTM_DIM}\"\n",
        "DESCRIPTION = f\"Batch 32\"\n",
        "FEATURE_SET_NAME = \"batch_32\"\n",
        "\n",
        "SAMPLES = \"100k\"\n",
        "# length of our embedding - 300 is standard\n",
        "EMBED_SIZE = 300\n",
        "EPOCHS  = 20\n",
        "BATCH_SIZE = 32\n",
        "LEARNING_RATE = 0.01\n",
        "DROPOUT_RATE = 0.2\n",
        "RECURRENT_DROPOUT_RATE = 0.2\n",
        "PATIENCE = 4\n",
        "REPORT_FILE = 'LSTM-batch-tuning-report.csv'\n",
        "\n",
        "if DEBUG:\n",
        "  DATA_FILE = f'{DRIVE_DIR}/data/amazon_reviews_us_Wireless_v1_00-test-preprocessed.csv'\n",
        "  MODEL_NAME = f'test-{MODEL_NAME}'\n",
        "  MISSING_WORDS_FILE = f'{DRIVE_DIR}/reports/glove_embedding-missing_words-test.csv'\n",
        "  ku.ModelWrapper.set_report_filename(f'test-{REPORT_FILE}')\n",
        "else:\n",
        "  DATA_FILE = f\"{DRIVE_DIR}/data/amazon_reviews_us_Wireless_v1_00-{SAMPLES}-with_stop_nonlemmatized-preprocessed.csv\"\n",
        "  MISSING_WORDS_FILE = f'{DRIVE_DIR}/reports/glove_embedding-missing_words-{SAMPLES}.csv'\n",
        "  ku.ModelWrapper.set_report_filename(REPORT_FILE)\n",
        "\n",
        "\n",
        "EMBEDDING_FILE = f'{DRIVE_DIR}/data/embeddings/glove.840B.300d.txt'\n",
        "\n",
        "\n",
        "# From EDA, we know that 90% of review bodies have 100 words or less, \n",
        "# we will use this as our sequence length\n",
        "MAX_SEQUENCE_LENGTH = 100\n",
        "\n",
        "\n"
      ],
      "execution_count": 3,
      "outputs": [
        {
          "output_type": "stream",
          "text": [
            "/usr/local/lib/python3.6/dist-packages/statsmodels/tools/_testing.py:19: FutureWarning: pandas.util.testing is deprecated. Use the functions in the public API at pandas.testing instead.\n",
            "  import pandas.util.testing as tm\n"
          ],
          "name": "stderr"
        }
      ]
    },
    {
      "cell_type": "code",
      "metadata": {
        "hide_input": false,
        "id": "k6fwJp9OJXh5",
        "colab_type": "code",
        "colab": {}
      },
      "source": [
        "df = pd.read_csv(DATA_FILE)\n",
        "\n",
        "rating = df[LABEL_COLUMN]\n",
        "reviews = df[REVIEW_COLUMN]"
      ],
      "execution_count": 0,
      "outputs": []
    },
    {
      "cell_type": "code",
      "metadata": {
        "id": "GKdUpCsshGk8",
        "colab_type": "code",
        "colab": {}
      },
      "source": [
        ""
      ],
      "execution_count": 0,
      "outputs": []
    },
    {
      "cell_type": "code",
      "metadata": {
        "id": "rMdM2TS7hGgc",
        "colab_type": "code",
        "colab": {}
      },
      "source": [
        ""
      ],
      "execution_count": 0,
      "outputs": []
    },
    {
      "cell_type": "code",
      "metadata": {
        "id": "kHMW5sNShGce",
        "colab_type": "code",
        "colab": {}
      },
      "source": [
        ""
      ],
      "execution_count": 0,
      "outputs": []
    },
    {
      "cell_type": "code",
      "metadata": {
        "id": "HvcwW1AmhGNU",
        "colab_type": "code",
        "colab": {}
      },
      "source": [
        ""
      ],
      "execution_count": 0,
      "outputs": []
    },
    {
      "cell_type": "markdown",
      "metadata": {
        "id": "EBQR0ZpoOiQk",
        "colab_type": "text"
      },
      "source": [
        "# Preprocessing"
      ]
    },
    {
      "cell_type": "code",
      "metadata": {
        "id": "_g2Wm80MCgGZ",
        "colab_type": "code",
        "colab": {}
      },
      "source": [
        ""
      ],
      "execution_count": 0,
      "outputs": []
    },
    {
      "cell_type": "code",
      "metadata": {
        "id": "lytdvF4neJ4r",
        "colab_type": "code",
        "outputId": "55bb0e50-0255-4be6-f802-007696365499",
        "colab": {
          "base_uri": "https://localhost:8080/",
          "height": 67
        }
      },
      "source": [
        "\n",
        "\n",
        "# pre-process our lables\n",
        "# one hot encode our star ratings since Keras/TF requires this for the labels\n",
        "y = OneHotEncoder().fit_transform(rating.values.reshape(len(rating), 1)).toarray()\n",
        "\n",
        "\n",
        "# split our data into train and test sets\n",
        "reviews_train, reviews_test, y_train, y_test = train_test_split(reviews, y, random_state=1)\n",
        "\n",
        "\n",
        "# Pre-process our features (review body)\n",
        "t = Tokenizer(oov_token=\"<UNK>\")\n",
        "# fit the tokenizer on the documents\n",
        "t.fit_on_texts(reviews_train)\n",
        "# tokenize both our training and test data\n",
        "train_sequences = t.texts_to_sequences(reviews_train)\n",
        "test_sequences = t.texts_to_sequences(reviews_test)\n",
        "\n",
        "print(\"Vocabulary size={}\".format(len(t.word_counts)))\n",
        "print(\"Number of Documents={}\".format(t.document_count))\n",
        "\n",
        "\n",
        "# pad our reviews to the max sequence length\n",
        "X_train = sequence.pad_sequences(train_sequences, maxlen=MAX_SEQUENCE_LENGTH)\n",
        "X_test = sequence.pad_sequences(test_sequences, maxlen=MAX_SEQUENCE_LENGTH)\n",
        "\n",
        "print('Train review vectors shape:', X_train.shape, ' Test review vectors shape:', X_test.shape)\n"
      ],
      "execution_count": 5,
      "outputs": [
        {
          "output_type": "stream",
          "text": [
            "Vocabulary size=35063\n",
            "Number of Documents=74829\n",
            "Train review vectors shape: (74829, 100)  Test review vectors shape: (24943, 100)\n"
          ],
          "name": "stdout"
        }
      ]
    },
    {
      "cell_type": "markdown",
      "metadata": {
        "id": "TgorpmIPnQH9",
        "colab_type": "text"
      },
      "source": [
        "## Load our pre-trained embedding\n",
        "\n",
        "embeddings_index will be a map where key == word, value == the embedding vector"
      ]
    },
    {
      "cell_type": "code",
      "metadata": {
        "id": "5j7D7LLinP0r",
        "colab_type": "code",
        "outputId": "b9e67f3a-70cf-4338-a5b6-e0bffb4c3456",
        "colab": {
          "base_uri": "https://localhost:8080/",
          "height": 84
        }
      },
      "source": [
        "\n",
        "EMBEDDING_INDEX_FILE = f'{DRIVE_DIR}/models/glove.840B.300d-embedding_index'\n",
        "\n",
        "embeddings_index = {}\n",
        "\n",
        "if os.path.exists(f'{EMBEDDING_INDEX_FILE}.npy'):\n",
        "  print(f'Loading {EMBEDDING_INDEX_FILE}.npy')\n",
        "  embeddings_index = np.load(f'{EMBEDDING_INDEX_FILE}.npy', \n",
        "                             allow_pickle = True).item()\n",
        "else:\n",
        "  print('Indexing word vectors.')\n",
        "\n",
        "  with open(EMBEDDING_FILE) as f:\n",
        "      for line in f:\n",
        "          word, coefs = line.split(maxsplit=1)\n",
        "          coefs = np.fromstring(coefs, 'f', sep=' ')\n",
        "          embeddings_index[word] = coefs\n",
        "  np.save(EMBEDDING_INDEX_FILE, embeddings_index)\n",
        "\n",
        "print(type(embeddings_index))\n",
        "print(np.shape(embeddings_index))\n",
        "print('Found %s word vectors.' % len(embeddings_index))\n",
        "\n",
        "\n"
      ],
      "execution_count": 6,
      "outputs": [
        {
          "output_type": "stream",
          "text": [
            "Loading drive/My Drive/Springboard/capstone/models/glove.840B.300d-embedding_index.npy\n",
            "<class 'dict'>\n",
            "()\n",
            "Found 2195884 word vectors.\n"
          ],
          "name": "stdout"
        }
      ]
    },
    {
      "cell_type": "code",
      "metadata": {
        "id": "pchOfR6qnPxB",
        "colab_type": "code",
        "colab": {}
      },
      "source": [
        ""
      ],
      "execution_count": 0,
      "outputs": []
    },
    {
      "cell_type": "code",
      "metadata": {
        "id": "G7L7HL6EnPtA",
        "colab_type": "code",
        "colab": {}
      },
      "source": [
        ""
      ],
      "execution_count": 0,
      "outputs": []
    },
    {
      "cell_type": "markdown",
      "metadata": {
        "id": "rYvqmy4xmQWD",
        "colab_type": "text"
      },
      "source": [
        "## Create Embedding Matrix based on our tokenizer\n",
        "\n",
        "For every word in our vocabulary, we will look up the embedding vector and add the it to our embedding matrix\n",
        "\n",
        "The matrix will be passed in as weights in our embedding layer later\n",
        "\n",
        "If there is word that does not exist in the pre-trained embedding vocabulary, we will leave the weights as 0 vector and save off the word into a CSV file later for analysis"
      ]
    },
    {
      "cell_type": "code",
      "metadata": {
        "id": "bIrMqj-HmPwk",
        "colab_type": "code",
        "outputId": "12f75d37-e84f-471c-f714-7e8723f92a1e",
        "colab": {
          "base_uri": "https://localhost:8080/",
          "height": 67
        }
      },
      "source": [
        "# this is a map with key == word, value == index in the vocabulary\n",
        "word_index = t.word_index\n",
        "print(f'word_index length: {len(word_index)}')\n",
        "\n",
        "# we are going to use the entire vocab so we can alter this from the example\n",
        "# num_words = min(MAX_NUM_WORDS, len(word_index) + 1)\n",
        "\n",
        "# start with a matrix of 0's\n",
        "embedding_matrix = np.zeros((len(word_index) + 1, EMBED_SIZE))\n",
        "\n",
        "# if a word doesn't exist in our vocabulary, let's save it off\n",
        "missing_words = []\n",
        "print(f'embedding_matrix shape: {np.shape(embedding_matrix)}')\n",
        "for word, i in word_index.items():\n",
        "    # print(f'word: {word} i: {i}')\n",
        "    embedding_vector = embeddings_index.get(word)\n",
        "    if embedding_vector is not None and np.shape(embedding_vector)[0] == EMBED_SIZE:\n",
        "        # words not found in embedding index will be all-zeros.\n",
        "        # print(f'i: {i} embedding_vector shape: {np.shape(embedding_vector)}')\n",
        "        embedding_matrix[i] = embedding_vector\n",
        "    else:\n",
        "      missing_words.append(word)\n",
        "\n",
        "print(f'Number of missing words from our vocabulary: {len(missing_words)}')\n",
        "\n"
      ],
      "execution_count": 7,
      "outputs": [
        {
          "output_type": "stream",
          "text": [
            "word_index length: 35064\n",
            "embedding_matrix shape: (35065, 300)\n",
            "Number of missing words from our vocabulary: 6293\n"
          ],
          "name": "stdout"
        }
      ]
    },
    {
      "cell_type": "markdown",
      "metadata": {
        "id": "TIw5aJS8trK-",
        "colab_type": "text"
      },
      "source": [
        "Save off our missing words into a csv file so we can analyze this later"
      ]
    },
    {
      "cell_type": "code",
      "metadata": {
        "id": "XN1Vr2oSto2f",
        "colab_type": "code",
        "colab": {}
      },
      "source": [
        "# save missing words into a file so we can analyze it later\n",
        "missing_words_df = pd.DataFrame(missing_words)\n",
        "missing_words_df.to_csv(MISSING_WORDS_FILE, index=False)"
      ],
      "execution_count": 0,
      "outputs": []
    },
    {
      "cell_type": "markdown",
      "metadata": {
        "id": "6hWLBCjqucDJ",
        "colab_type": "text"
      },
      "source": [
        "**Build LSTM Model Architecture**"
      ]
    },
    {
      "cell_type": "code",
      "metadata": {
        "id": "653DtCuBJXiF",
        "colab_type": "code",
        "colab": {
          "base_uri": "https://localhost:8080/",
          "height": 70
        },
        "outputId": "ad53ace6-4278-4994-f972-0aaeea20d047"
      },
      "source": [
        "vocab_size = len(t.word_index)+1\n",
        "\n",
        "# building our network\n",
        "model = Sequential()\n",
        "# load pre-trained word embeddings into an Embedding layer\n",
        "# note that we set trainable = False so as to keep the embeddings fixed\n",
        "model.add(Embedding(input_dim=vocab_size,\n",
        "                            output_dim=EMBED_SIZE,\n",
        "                            embeddings_initializer=Constant(embedding_matrix),\n",
        "                            input_length=MAX_SEQUENCE_LENGTH,\n",
        "                            trainable=False))\n",
        "# model.add(Embedding(input_dim=vocab_size, output_dim=EMBED_SIZE, input_length=MAX_SEQUENCE_LENGTH))\n",
        "model.add(LSTM(LSTM_DIM, dropout=DROPOUT_RATE, recurrent_dropout=RECURRENT_DROPOUT_RATE))\n",
        "model.add(Dense(5, activation=\"softmax\"))\n",
        "\n",
        "model.compile(loss=\"categorical_crossentropy\", optimizer=Adam(learning_rate=0.001),\n",
        "              metrics=[\"categorical_accuracy\"])\n"
      ],
      "execution_count": 9,
      "outputs": [
        {
          "output_type": "stream",
          "text": [
            "WARNING:tensorflow:Layer lstm will not use cuDNN kernel since it doesn't meet the cuDNN kernel criteria. It will use generic GPU kernel as fallback when running on GPU\n"
          ],
          "name": "stdout"
        },
        {
          "output_type": "stream",
          "text": [
            "WARNING:tensorflow:Layer lstm will not use cuDNN kernel since it doesn't meet the cuDNN kernel criteria. It will use generic GPU kernel as fallback when running on GPU\n"
          ],
          "name": "stderr"
        }
      ]
    },
    {
      "cell_type": "code",
      "metadata": {
        "id": "iZitdxXPJXiI",
        "colab_type": "code",
        "outputId": "b7795abf-ef5a-4ec4-db5d-f099e5e4ed45",
        "colab": {
          "base_uri": "https://localhost:8080/",
          "height": 269
        }
      },
      "source": [
        "print(model.summary())"
      ],
      "execution_count": 10,
      "outputs": [
        {
          "output_type": "stream",
          "text": [
            "Model: \"sequential\"\n",
            "_________________________________________________________________\n",
            "Layer (type)                 Output Shape              Param #   \n",
            "=================================================================\n",
            "embedding (Embedding)        (None, 100, 300)          10519500  \n",
            "_________________________________________________________________\n",
            "lstm (LSTM)                  (None, 16)                20288     \n",
            "_________________________________________________________________\n",
            "dense (Dense)                (None, 5)                 85        \n",
            "=================================================================\n",
            "Total params: 10,539,873\n",
            "Trainable params: 20,373\n",
            "Non-trainable params: 10,519,500\n",
            "_________________________________________________________________\n",
            "None\n"
          ],
          "name": "stdout"
        }
      ]
    },
    {
      "cell_type": "code",
      "metadata": {
        "scrolled": false,
        "id": "60eC_0fRJXiQ",
        "colab_type": "code",
        "outputId": "72ab6603-ef24-407a-b5ff-42a0372d3669",
        "colab": {
          "base_uri": "https://localhost:8080/",
          "height": 524
        }
      },
      "source": [
        "\n",
        "# reduce learning rate if we sense a plateau\n",
        "reduce_lr = ReduceLROnPlateau(monitor='val_loss', \n",
        "                              restore_best_weights=True)\n",
        "\n",
        "early_stop = EarlyStopping(monitor='val_loss', \n",
        "                           patience=PATIENCE, \n",
        "                           verbose=1,\n",
        "                           restore_best_weights=True)\n",
        "\n",
        "weights = compute_class_weight('balanced', np.arange(1, 6), rating)\n",
        "weights_dict = {i: weights[i] for i in np.arange(0, len(weights))}\n",
        "print(f'class weights: {weights}')\n",
        "print(f'class weights_dict: {weights_dict}')\n",
        "\n",
        "\n",
        "\n",
        "mw = ku.ModelWrapper(model, \n",
        "                     MODEL_NAME, \n",
        "                     ARCHITECTURE,\n",
        "                     FEATURE_SET_NAME,\n",
        "                     LABEL_COLUMN, \n",
        "                     REVIEW_COLUMN,\n",
        "                     DATA_FILE, \n",
        "                     embed_size=EMBED_SIZE,\n",
        "                     tokenizer=t,\n",
        "                     description=DESCRIPTION)\n",
        "\n",
        "network_history = mw.fit(X_train, y_train,\n",
        "                      batch_size=BATCH_SIZE,\n",
        "                      epochs=EPOCHS,\n",
        "                      verbose=1,\n",
        "                      validation_split=0.2,\n",
        "                      class_weight=weights_dict,\n",
        "                      callbacks=[early_stop, reduce_lr])"
      ],
      "execution_count": 11,
      "outputs": [
        {
          "output_type": "stream",
          "text": [
            "class weights: [1.43608492 3.05253174 2.17700196 1.18634958 0.37400007]\n",
            "class weights_dict: {0: 1.436084922634041, 1: 3.0525317423894753, 2: 2.1770019637791838, 3: 1.1863495838287752, 4: 0.3740000749709488}\n",
            "Number of training examples: 74829\n",
            "Epoch 1/20\n",
            "1871/1871 [==============================] - 779s 416ms/step - loss: 1.3016 - categorical_accuracy: 0.5128 - val_loss: 1.0967 - val_categorical_accuracy: 0.5551 - lr: 0.0010\n",
            "Epoch 2/20\n",
            "1871/1871 [==============================] - 775s 414ms/step - loss: 1.1714 - categorical_accuracy: 0.5744 - val_loss: 0.9949 - val_categorical_accuracy: 0.5953 - lr: 0.0010\n",
            "Epoch 3/20\n",
            "1871/1871 [==============================] - 771s 412ms/step - loss: 1.1306 - categorical_accuracy: 0.5922 - val_loss: 0.9959 - val_categorical_accuracy: 0.6011 - lr: 0.0010\n",
            "Epoch 4/20\n",
            "1871/1871 [==============================] - 764s 409ms/step - loss: 1.1021 - categorical_accuracy: 0.6015 - val_loss: 0.9967 - val_categorical_accuracy: 0.5903 - lr: 0.0010\n",
            "Epoch 5/20\n",
            "1871/1871 [==============================] - 763s 408ms/step - loss: 1.0851 - categorical_accuracy: 0.6068 - val_loss: 0.9985 - val_categorical_accuracy: 0.5918 - lr: 0.0010\n",
            "Epoch 6/20\n",
            "1871/1871 [==============================] - 766s 410ms/step - loss: 1.0686 - categorical_accuracy: 0.6113 - val_loss: 0.9333 - val_categorical_accuracy: 0.6255 - lr: 0.0010\n",
            "Epoch 7/20\n",
            "1871/1871 [==============================] - 763s 408ms/step - loss: 1.0571 - categorical_accuracy: 0.6133 - val_loss: 0.9922 - val_categorical_accuracy: 0.5987 - lr: 0.0010\n",
            "Epoch 8/20\n",
            "1871/1871 [==============================] - 766s 409ms/step - loss: 1.0457 - categorical_accuracy: 0.6191 - val_loss: 0.8864 - val_categorical_accuracy: 0.6445 - lr: 0.0010\n",
            "Epoch 9/20\n",
            "1871/1871 [==============================] - 755s 404ms/step - loss: 1.0376 - categorical_accuracy: 0.6211 - val_loss: 0.8977 - val_categorical_accuracy: 0.6384 - lr: 0.0010\n",
            "Epoch 10/20\n",
            "1871/1871 [==============================] - 764s 408ms/step - loss: 1.0275 - categorical_accuracy: 0.6242 - val_loss: 0.8925 - val_categorical_accuracy: 0.6437 - lr: 0.0010\n",
            "Epoch 11/20\n",
            "1871/1871 [==============================] - 759s 406ms/step - loss: 1.0252 - categorical_accuracy: 0.6240 - val_loss: 0.9426 - val_categorical_accuracy: 0.6072 - lr: 0.0010\n",
            "Epoch 12/20\n",
            "1871/1871 [==============================] - ETA: 0s - loss: 1.0148 - categorical_accuracy: 0.6258Restoring model weights from the end of the best epoch.\n",
            "1871/1871 [==============================] - 755s 404ms/step - loss: 1.0148 - categorical_accuracy: 0.6258 - val_loss: 0.9738 - val_categorical_accuracy: 0.5988 - lr: 0.0010\n",
            "Epoch 00012: early stopping\n"
          ],
          "name": "stdout"
        }
      ]
    },
    {
      "cell_type": "code",
      "metadata": {
        "id": "2VHBrsPjJXiS",
        "colab_type": "code",
        "outputId": "911e83ab-b65d-49f6-9e2c-d2235571a8c7",
        "colab": {
          "base_uri": "https://localhost:8080/",
          "height": 1000
        }
      },
      "source": [
        "\n",
        "scores = mw.evaluate(X_test, y_test)\n",
        "print(\"Accuracy: %.2f%%\" % (mw.scores[1]*100))\n",
        "\n",
        "pu.plot_network_history(mw.network_history, \"categorical_accuracy\", \"val_categorical_accuracy\")\n",
        "plt.show()\n",
        "\n",
        "print(\"\\nConfusion Matrix\")\n",
        "print(mw.confusion_matrix)\n",
        "\n",
        "print(\"\\nClassification Report\")\n",
        "print(mw.classification_report)\n",
        "\n",
        "fig = plt.figure(figsize=(5,5))\n",
        "pu.plot_roc_auc(mw.model_name, mw.roc_auc, mw.fpr, mw.tpr)\n",
        "\n"
      ],
      "execution_count": 12,
      "outputs": [
        {
          "output_type": "stream",
          "text": [
            "Number of test: 24943\n",
            "Running model.evaluate...\n",
            "780/780 [==============================] - 26s 33ms/step - loss: 0.8785 - categorical_accuracy: 0.6416\n",
            "Running model.predict...\n",
            "Unencode predictions...\n",
            "Generating confusion matrix...\n",
            "Calculating ROC AUC...\n",
            "(24943, 5)\n",
            "Getting classification report...\n",
            "Accuracy: 64.16%\n"
          ],
          "name": "stdout"
        },
        {
          "output_type": "display_data",
          "data": {
            "image/png": "[encoded data removed]",
            "text/plain": [
              "<Figure size 720x360 with 2 Axes>"
            ]
          },
          "metadata": {
            "tags": []
          }
        },
        {
          "output_type": "stream",
          "text": [
            "\n",
            "Confusion Matrix\n",
            "[[ 2451   467   305    73   108]\n",
            " [  613   420   434   117    66]\n",
            " [  279   395   867   610   235]\n",
            " [   91   146   639  1732  1584]\n",
            " [  208   130   324  2115 10534]]\n",
            "\n",
            "Classification Report\n",
            "              precision    recall  f1-score   support\n",
            "\n",
            "           1       0.67      0.72      0.70      3404\n",
            "           2       0.27      0.25      0.26      1650\n",
            "           3       0.34      0.36      0.35      2386\n",
            "           4       0.37      0.41      0.39      4192\n",
            "           5       0.84      0.79      0.82     13311\n",
            "\n",
            "    accuracy                           0.64     24943\n",
            "   macro avg       0.50      0.51      0.50     24943\n",
            "weighted avg       0.65      0.64      0.65     24943\n",
            "\n"
          ],
          "name": "stdout"
        },
        {
          "output_type": "stream",
          "text": [
            "drive/My Drive/Springboard/capstone/util/plot_util.py:267: MatplotlibDeprecationWarning: The 'withdash' parameter of text() is deprecated since Matplotlib 3.1 and will be removed in 3.3.  If any parameter follows 'withdash', they should be pass as keyword, not positionally.\n",
            "  withdash=True)\n",
            "drive/My Drive/Springboard/capstone/util/plot_util.py:267: MatplotlibDeprecationWarning: \n",
            "The TextWithDash class was deprecated in Matplotlib 3.1 and will be removed in 3.3. Use Annotation instead.\n",
            "  withdash=True)\n",
            "drive/My Drive/Springboard/capstone/util/plot_util.py:271: MatplotlibDeprecationWarning: The 'withdash' parameter of text() is deprecated since Matplotlib 3.1 and will be removed in 3.3.  If any parameter follows 'withdash', they should be pass as keyword, not positionally.\n",
            "  withdash=True)\n",
            "drive/My Drive/Springboard/capstone/util/plot_util.py:271: MatplotlibDeprecationWarning: \n",
            "The TextWithDash class was deprecated in Matplotlib 3.1 and will be removed in 3.3. Use Annotation instead.\n",
            "  withdash=True)\n",
            "drive/My Drive/Springboard/capstone/util/plot_util.py:275: MatplotlibDeprecationWarning: The 'withdash' parameter of text() is deprecated since Matplotlib 3.1 and will be removed in 3.3.  If any parameter follows 'withdash', they should be pass as keyword, not positionally.\n",
            "  withdash=True)\n",
            "drive/My Drive/Springboard/capstone/util/plot_util.py:275: MatplotlibDeprecationWarning: \n",
            "The TextWithDash class was deprecated in Matplotlib 3.1 and will be removed in 3.3. Use Annotation instead.\n",
            "  withdash=True)\n"
          ],
          "name": "stderr"
        },
        {
          "output_type": "display_data",
          "data": {
            "image/png": "[encoded data removed]",
            "text/plain": [
              "<Figure size 360x360 with 1 Axes>"
            ]
          },
          "metadata": {
            "tags": []
          }
        }
      ]
    },
    {
      "cell_type": "code",
      "metadata": {
        "id": "YOA18O7wN63j",
        "colab_type": "code",
        "outputId": "b607b8e8-caab-4c61-f044-233442e2c144",
        "colab": {
          "base_uri": "https://localhost:8080/",
          "height": 34
        }
      },
      "source": [
        "print(f'Score: {ru.calculate_metric(mw.crd)}')"
      ],
      "execution_count": 13,
      "outputs": [
        {
          "output_type": "stream",
          "text": [
            "Score: 0.4281213757234116\n"
          ],
          "name": "stdout"
        }
      ]
    },
    {
      "cell_type": "markdown",
      "metadata": {
        "id": "z2ot_Nqg1U4w",
        "colab_type": "text"
      },
      "source": [
        "**Save off various files**"
      ]
    },
    {
      "cell_type": "code",
      "metadata": {
        "id": "Al3bCFrI1P5m",
        "colab_type": "code",
        "outputId": "67f5f254-efd4-42f3-8cfd-addd93ad325c",
        "colab": {
          "base_uri": "https://localhost:8080/",
          "height": 188
        }
      },
      "source": [
        "mw.save(DRIVE_DIR, append_report=True)"
      ],
      "execution_count": 14,
      "outputs": [
        {
          "output_type": "stream",
          "text": [
            "description: LSTMB16-1x16-batch_32-sampling_none-99772-100-review_body\n",
            "Saving to report file: drive/My Drive/Springboard/capstone//reports/LSTM-batch-tuning-report.csv\n",
            "Loading to append to: drive/My Drive/Springboard/capstone//reports/LSTM-batch-tuning-report.csv\n",
            "{'model_name': 'LSTMB16', 'architecture': '1x16', 'description': 'Batch 32', 'feature_column': '{\"1\": {\"precision\": 0.6729818780889621, \"recall\": 0.7200352526439483, \"f1-score\": 0.6957138802157253, \"support\": 3404}, \"2\": {\"precision\": 0.26957637997432604, \"recall\": 0.2545454545454545, \"f1-score\": 0.2618453865336658, \"support\": 1650}, \"3\": {\"precision\": 0.3374854028804983, \"recall\": 0.3633696563285834, \"f1-score\": 0.34994954591321903, \"support\": 2386}, \"4\": {\"precision\": 0.37271357865289434, \"recall\": 0.4131679389312977, \"f1-score\": 0.39189953614662293, \"support\": 4192}, \"5\": {\"precision\": 0.8409036481200607, \"recall\": 0.7913755540530388, \"f1-score\": 0.8153881879402429, \"support\": 13311}, \"accuracy\": 0.6416229002124845, \"macro avg\": {\"precision\": 0.49873217754334825, \"recall\": 0.5084987713004645, \"f1-score\": 0.5029593073498951, \"support\": 24943}, \"weighted avg\": {\"precision\": 0.6533518539503826, \"recall\": 0.6416229002124845, \"f1-score\": 0.6467429570534031, \"support\": 24943}}', 'label_column': '{\"1\": {\"precision\": 0.6729818780889621, \"recall\": 0.7200352526439483, \"f1-score\": 0.6957138802157253, \"support\": 3404}, \"2\": {\"precision\": 0.26957637997432604, \"recall\": 0.2545454545454545, \"f1-score\": 0.2618453865336658, \"support\": 1650}, \"3\": {\"precision\": 0.3374854028804983, \"recall\": 0.3633696563285834, \"f1-score\": 0.34994954591321903, \"support\": 2386}, \"4\": {\"precision\": 0.37271357865289434, \"recall\": 0.4131679389312977, \"f1-score\": 0.39189953614662293, \"support\": 4192}, \"5\": {\"precision\": 0.8409036481200607, \"recall\": 0.7913755540530388, \"f1-score\": 0.8153881879402429, \"support\": 13311}, \"accuracy\": 0.6416229002124845, \"macro avg\": {\"precision\": 0.49873217754334825, \"recall\": 0.5084987713004645, \"f1-score\": 0.5029593073498951, \"support\": 24943}, \"weighted avg\": {\"precision\": 0.6533518539503826, \"recall\": 0.6416229002124845, \"f1-score\": 0.6467429570534031, \"support\": 24943}}', 'classification_report': '{\"1\": {\"precision\": 0.6729818780889621, \"recall\": 0.7200352526439483, \"f1-score\": 0.6957138802157253, \"support\": 3404}, \"2\": {\"precision\": 0.26957637997432604, \"recall\": 0.2545454545454545, \"f1-score\": 0.2618453865336658, \"support\": 1650}, \"3\": {\"precision\": 0.3374854028804983, \"recall\": 0.3633696563285834, \"f1-score\": 0.34994954591321903, \"support\": 2386}, \"4\": {\"precision\": 0.37271357865289434, \"recall\": 0.4131679389312977, \"f1-score\": 0.39189953614662293, \"support\": 4192}, \"5\": {\"precision\": 0.8409036481200607, \"recall\": 0.7913755540530388, \"f1-score\": 0.8153881879402429, \"support\": 13311}, \"accuracy\": 0.6416229002124845, \"macro avg\": {\"precision\": 0.49873217754334825, \"recall\": 0.5084987713004645, \"f1-score\": 0.5029593073498951, \"support\": 24943}, \"weighted avg\": {\"precision\": 0.6533518539503826, \"recall\": 0.6416229002124845, \"f1-score\": 0.6467429570534031, \"support\": 24943}}', 'roc_auc': '{\"auc_1\": 0.9514116551568332, \"auc_2\": 0.8738769093068668, \"auc_3\": 0.839357171388225, \"auc_4\": 0.7351345973485689, \"auc_5\": 0.8968165569178442, \"auc_micro\": 0.9016922943048071, \"auc_macro\": 0.8593425352927415}', 'loss': 0.8784699440002441, 'accuracy': 0.6416229009628296, 'confusion_matrix': '[[2451, 467, 305, 73, 108], [613, 420, 434, 117, 66], [279, 395, 867, 610, 235], [91, 146, 639, 1732, 1584], [208, 130, 324, 2115, 10534]]', 'file': 'drive/My Drive/Springboard/capstone/data/amazon_reviews_us_Wireless_v1_00-100k-with_stop_nonlemmatized-preprocessed.csv', 'network_history_file': 'drive/My Drive/Springboard/capstone//reports/LSTMB16-1x16-batch_32-sampling_none-99772-100-review_body-history.pkl', 'tokenizer_file': 'drive/My Drive/Springboard/capstone//models/LSTMB16-1x16-batch_32-sampling_none-99772-100-review_body-tokenizer.pkl', 'max_sequence_length': 100, 'batch_size': 32, 'epochs': 12, 'feature_set_name': 'batch_32', 'class_weight': '{\"0\": 1.436084922634041, \"1\": 3.0525317423894753, \"2\": 2.1770019637791838, \"3\": 1.1863495838287752, \"4\": 0.3740000749709488}', 'sampling_type': 'none', 'embedding': 300, 'model_file': 'drive/My Drive/Springboard/capstone//models/LSTMB16-1x16-batch_32-sampling_none-99772-100-review_body-model.h5', 'model_json_file': 'drive/My Drive/Springboard/capstone//models/LSTMB16-1x16-batch_32-sampling_none-99772-100-review_body-model.json', 'weights_file': 'drive/My Drive/Springboard/capstone//models/LSTMB16-1x16-batch_32-sampling_none-99772-100-review_body-weights.h5', 'test_examples': 24943, 'test_features': 100, 'train_examples': 74829, 'train_features': 100, 'train_time_min': 183.82, 'evaluate_time_min': 0.53, 'predict_time_min': 0.48, 'status': 'success', 'status_date': '2020-04-30 15:57:32'}\n",
            "Saving report file...\n",
            "Saving json config file: drive/My Drive/Springboard/capstone//models/LSTMB16-1x16-batch_32-sampling_none-99772-100-review_body-model.json\n",
            "Saving weights file: drive/My Drive/Springboard/capstone//models/LSTMB16-1x16-batch_32-sampling_none-99772-100-review_body-weights.h5\n",
            "Saving history file: drive/My Drive/Springboard/capstone//reports/LSTMB16-1x16-batch_32-sampling_none-99772-100-review_body-history.pkl\n",
            "Saving model file: drive/My Drive/Springboard/capstone//models/LSTMB16-1x16-batch_32-sampling_none-99772-100-review_body-model.h5\n"
          ],
          "name": "stdout"
        }
      ]
    },
    {
      "cell_type": "markdown",
      "metadata": {
        "id": "jyLHNyTcfvHp",
        "colab_type": "text"
      },
      "source": [
        "# Test That Our Models Saved Correctly"
      ]
    },
    {
      "cell_type": "code",
      "metadata": {
        "id": "aOF5a51SfyqM",
        "colab_type": "code",
        "outputId": "92326036-c38f-4572-ce70-5e60d734b683",
        "colab": {
          "base_uri": "https://localhost:8080/",
          "height": 104
        }
      },
      "source": [
        "from tensorflow.keras.models import load_model\n",
        "\n",
        "model_loaded = load_model(mw.model_file)\n",
        "scores = model_loaded.evaluate(X_test, y_test, verbose=1)\n",
        "print(\"Accuracy: %.2f%%\" % (scores[1]*100))\n",
        "\n",
        "# this takes too long for real models\n",
        "if DEBUG == True:\n",
        "  y_predict = model_loaded.predict(X_test)\n",
        "  y_predict_unencoded = ku.unencode(y_predict)\n",
        "  y_test_unencoded = ku.unencode(y_test)\n",
        "\n",
        "  # classification report\n",
        "  print(classification_report(y_test_unencoded, y_predict_unencoded))\n",
        "\n",
        "  # confusion matrix\n",
        "  print(confusion_matrix(y_test_unencoded, y_predict_unencoded))\n"
      ],
      "execution_count": 15,
      "outputs": [
        {
          "output_type": "stream",
          "text": [
            "WARNING:tensorflow:Layer lstm will not use cuDNN kernel since it doesn't meet the cuDNN kernel criteria. It will use generic GPU kernel as fallback when running on GPU\n"
          ],
          "name": "stdout"
        },
        {
          "output_type": "stream",
          "text": [
            "WARNING:tensorflow:Layer lstm will not use cuDNN kernel since it doesn't meet the cuDNN kernel criteria. It will use generic GPU kernel as fallback when running on GPU\n"
          ],
          "name": "stderr"
        },
        {
          "output_type": "stream",
          "text": [
            "780/780 [==============================] - 27s 34ms/step - loss: 0.8785 - categorical_accuracy: 0.6416\n",
            "Accuracy: 64.16%\n"
          ],
          "name": "stdout"
        }
      ]
    },
    {
      "cell_type": "code",
      "metadata": {
        "id": "96A-A5CBJXiy",
        "colab_type": "code",
        "outputId": "d955d893-143c-479a-e247-a81fb06e4360",
        "colab": {
          "base_uri": "https://localhost:8080/",
          "height": 34
        }
      },
      "source": [
        "print(datetime.now())"
      ],
      "execution_count": 16,
      "outputs": [
        {
          "output_type": "stream",
          "text": [
            "2020-04-30 15:58:23.890332\n"
          ],
          "name": "stdout"
        }
      ]
    }
  ]
}