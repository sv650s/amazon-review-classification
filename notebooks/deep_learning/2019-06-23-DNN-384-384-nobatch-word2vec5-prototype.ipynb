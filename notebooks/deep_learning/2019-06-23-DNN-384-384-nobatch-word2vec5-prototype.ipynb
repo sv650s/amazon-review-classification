{
  "nbformat": 4,
  "nbformat_minor": 0,
  "metadata": {
    "hide_input": false,
    "kernelspec": {
      "display_name": "Python 3",
      "language": "python",
      "name": "python3"
    },
    "language_info": {
      "codemirror_mode": {
        "name": "ipython",
        "version": 3
      },
      "file_extension": ".py",
      "mimetype": "text/x-python",
      "name": "python",
      "nbconvert_exporter": "python",
      "pygments_lexer": "ipython3",
      "version": "3.7.3"
    },
    "colab": {
      "name": "2019-06-23-DNN_384_384-nobatch-word2vec5-prototype.ipynb",
      "version": "0.3.2",
      "provenance": [],
      "include_colab_link": true
    }
  },
  "cells": [
    {
      "cell_type": "markdown",
      "metadata": {
        "id": "view-in-github",
        "colab_type": "text"
      },
      "source": [
        "<a href=\"https://colab.research.google.com/github/sv650s/sb-capstone/blob/master/2019-06-23-DNN_384_384-nobatch-word2vec5-prototype.ipynb\" target=\"_parent\"><img src=\"https://colab.research.google.com/assets/colab-badge.svg\" alt=\"Open In Colab\"/></a>"
      ]
    },
    {
      "cell_type": "markdown",
      "metadata": {
        "id": "RYE-Ch-PbO5N",
        "colab_type": "text"
      },
      "source": [
        "# DNN Prototype\n",
        "\n",
        "Trying out a 2 layer network using word2vec embedding. Embedding was creating with word_context == 5\n",
        "\n",
        "Network Architecture:\n",
        "\n",
        "Was having trouble coming up with guidelines for architecture starting point but I did find the following article:\n",
        "\n",
        "From this doc:\n",
        "\n",
        "https://www.heatonresearch.com/2017/06/01/hidden-layers.html\n",
        "\n",
        "Number of hidden layers:\n",
        "\n",
        "* none    Only capable of representing linear separable functions or decisions.\n",
        "* 1   Can approximate any function that contains a continuous mapping from one finite space to another.\n",
        "* 2   Can represent an arbitrary decision boundary to arbitrary accuracy with rational activation functions and can approximate any smooth mapping to any accuracy.\n",
        "* 2+  Additional layers can learn complex representations (sort of automatic feature engineering) for layer layers.\n",
        "\n",
        "Number of hidden neurons:\n",
        "\n",
        "* The number of hidden neurons should be between the size of the input layer and the size of the output layer.\n",
        "* The number of hidden neurons should be 2/3 the size of the input layer, plus the size of the output layer.\n",
        "* The number of hidden neurons should be less than twice the size of the input layer.\n",
        "\n",
        "\n",
        "From this I chose 2 hidden layers - will be exper\n",
        "\n",
        "Also, I've been looking at Stanford's videos on NLP/Deep Learning\n",
        "\n",
        "* 2 hidden layers"
      ]
    },
    {
      "cell_type": "code",
      "metadata": {
        "id": "EgZJoG5ibQrj",
        "colab_type": "code",
        "colab": {
          "base_uri": "https://localhost:8080/",
          "height": 34
        },
        "outputId": "1caaf5a7-0e89-41da-b0bb-227f96a07d09"
      },
      "source": [
        "from google.colab import drive\n",
        "import sys\n",
        "drive.mount('/content/drive')\n",
        "# add this to sys patch so we can import utility functions\n",
        "DRIVE_DIR = \"drive/My Drive/Springboard/capstone\"\n",
        "sys.path.append(DRIVE_DIR)\n"
      ],
      "execution_count": 1,
      "outputs": [
        {
          "output_type": "stream",
          "text": [
            "Drive already mounted at /content/drive; to attempt to forcibly remount, call drive.mount(\"/content/drive\", force_remount=True).\n"
          ],
          "name": "stdout"
        }
      ]
    },
    {
      "cell_type": "code",
      "metadata": {
        "id": "W3cp3i0mbO5O",
        "colab_type": "code",
        "colab": {
          "base_uri": "https://localhost:8080/",
          "height": 34
        },
        "outputId": "36cc116f-af0b-4e4e-d180-53317375c1c7"
      },
      "source": [
        "from keras.models import Sequential\n",
        "from keras.layers import Dense, Activation, Dropout\n",
        "from keras.layers.normalization import BatchNormalization\n",
        "from keras.callbacks import EarlyStopping\n",
        "from keras.models import load_model\n",
        "from sklearn.model_selection import train_test_split\n",
        "from keras.optimizers import SGD\n",
        "from sklearn.preprocessing import OneHotEncoder\n",
        "import pandas as pd\n",
        "from IPython.display import SVG\n",
        "from keras.utils.vis_utils import model_to_dot\n",
        "from util import dict_util as du\n",
        "from util import file_util as fu\n",
        "from util import plot_util as pu\n",
        "import pickle\n",
        "from datetime import datetime\n",
        "from sklearn.metrics import confusion_matrix, classification_report\n",
        "import os\n",
        "import seaborn as sns\n",
        "\n",
        "\n",
        "\n",
        "\n",
        "import util.file_util as fu\n",
        "import util.keras_util as ku\n",
        "import util.plot_util as pu\n",
        "import util.dict_util as du\n",
        "\n",
        "\n",
        "%matplotlib inline\n",
        "sns.set()\n",
        "\n",
        "\n",
        "import logging\n",
        "logging.basicConfig(level=logging.INFO)\n"
      ],
      "execution_count": 2,
      "outputs": [
        {
          "output_type": "stream",
          "text": [
            "Using TensorFlow backend.\n"
          ],
          "name": "stderr"
        }
      ]
    },
    {
      "cell_type": "code",
      "metadata": {
        "id": "IdD0XUDkbO5S",
        "colab_type": "code",
        "colab": {}
      },
      "source": [
        "DATE_FORMAT = '%Y-%m-%d'\n",
        "TIME_FORMAT = '%Y-%m-%d %H:%M:%S'\n",
        "\n",
        "DATA_DIR = \"dataset/feature_files\"\n",
        "DATA_FILE = \"review_body-word2vec5-111909-512-nolda.csv\"\n",
        "MODEL_NAME = \"DNN_384_384\"\n",
        "LABEL_COLUMN = \"star_rating\""
      ],
      "execution_count": 0,
      "outputs": []
    },
    {
      "cell_type": "code",
      "metadata": {
        "hide_input": false,
        "id": "tHEA6Fd2bO5U",
        "colab_type": "code",
        "colab": {}
      },
      "source": [
        "df = pd.read_csv(f\"{DRIVE_DIR}/data/{DATA_FILE}\")\n",
        "rating = df[LABEL_COLUMN]\n",
        "df = df.drop(columns=[\"helpful_votes\", \"total_votes\", \"helpful_product\", \"star_rating\"])"
      ],
      "execution_count": 0,
      "outputs": []
    },
    {
      "cell_type": "code",
      "metadata": {
        "id": "z0p7Y9E0bO5W",
        "colab_type": "code",
        "colab": {
          "base_uri": "https://localhost:8080/",
          "height": 253
        },
        "outputId": "d7baa659-92c0-4ae2-ab87-1ff3e2fc84f1"
      },
      "source": [
        "df.head()"
      ],
      "execution_count": 5,
      "outputs": [
        {
          "output_type": "execute_result",
          "data": {
            "text/html": [
              "<div>\n",
              "<style scoped>\n",
              "    .dataframe tbody tr th:only-of-type {\n",
              "        vertical-align: middle;\n",
              "    }\n",
              "\n",
              "    .dataframe tbody tr th {\n",
              "        vertical-align: top;\n",
              "    }\n",
              "\n",
              "    .dataframe thead th {\n",
              "        text-align: right;\n",
              "    }\n",
              "</style>\n",
              "<table border=\"1\" class=\"dataframe\">\n",
              "  <thead>\n",
              "    <tr style=\"text-align: right;\">\n",
              "      <th></th>\n",
              "      <th>0</th>\n",
              "      <th>1</th>\n",
              "      <th>2</th>\n",
              "      <th>3</th>\n",
              "      <th>4</th>\n",
              "      <th>5</th>\n",
              "      <th>6</th>\n",
              "      <th>7</th>\n",
              "      <th>8</th>\n",
              "      <th>9</th>\n",
              "      <th>10</th>\n",
              "      <th>11</th>\n",
              "      <th>12</th>\n",
              "      <th>13</th>\n",
              "      <th>14</th>\n",
              "      <th>15</th>\n",
              "      <th>16</th>\n",
              "      <th>17</th>\n",
              "      <th>18</th>\n",
              "      <th>19</th>\n",
              "      <th>20</th>\n",
              "      <th>21</th>\n",
              "      <th>22</th>\n",
              "      <th>23</th>\n",
              "      <th>24</th>\n",
              "      <th>25</th>\n",
              "      <th>26</th>\n",
              "      <th>27</th>\n",
              "      <th>28</th>\n",
              "      <th>29</th>\n",
              "      <th>30</th>\n",
              "      <th>31</th>\n",
              "      <th>32</th>\n",
              "      <th>33</th>\n",
              "      <th>34</th>\n",
              "      <th>35</th>\n",
              "      <th>36</th>\n",
              "      <th>37</th>\n",
              "      <th>38</th>\n",
              "      <th>39</th>\n",
              "      <th>...</th>\n",
              "      <th>472</th>\n",
              "      <th>473</th>\n",
              "      <th>474</th>\n",
              "      <th>475</th>\n",
              "      <th>476</th>\n",
              "      <th>477</th>\n",
              "      <th>478</th>\n",
              "      <th>479</th>\n",
              "      <th>480</th>\n",
              "      <th>481</th>\n",
              "      <th>482</th>\n",
              "      <th>483</th>\n",
              "      <th>484</th>\n",
              "      <th>485</th>\n",
              "      <th>486</th>\n",
              "      <th>487</th>\n",
              "      <th>488</th>\n",
              "      <th>489</th>\n",
              "      <th>490</th>\n",
              "      <th>491</th>\n",
              "      <th>492</th>\n",
              "      <th>493</th>\n",
              "      <th>494</th>\n",
              "      <th>495</th>\n",
              "      <th>496</th>\n",
              "      <th>497</th>\n",
              "      <th>498</th>\n",
              "      <th>499</th>\n",
              "      <th>500</th>\n",
              "      <th>501</th>\n",
              "      <th>502</th>\n",
              "      <th>503</th>\n",
              "      <th>504</th>\n",
              "      <th>505</th>\n",
              "      <th>506</th>\n",
              "      <th>507</th>\n",
              "      <th>508</th>\n",
              "      <th>509</th>\n",
              "      <th>510</th>\n",
              "      <th>511</th>\n",
              "    </tr>\n",
              "  </thead>\n",
              "  <tbody>\n",
              "    <tr>\n",
              "      <th>0</th>\n",
              "      <td>-0.288502</td>\n",
              "      <td>-0.481055</td>\n",
              "      <td>0.258424</td>\n",
              "      <td>0.362731</td>\n",
              "      <td>0.475364</td>\n",
              "      <td>0.421039</td>\n",
              "      <td>0.014504</td>\n",
              "      <td>0.213545</td>\n",
              "      <td>-0.390066</td>\n",
              "      <td>0.103808</td>\n",
              "      <td>0.092057</td>\n",
              "      <td>-0.045284</td>\n",
              "      <td>0.178335</td>\n",
              "      <td>0.163173</td>\n",
              "      <td>-0.825025</td>\n",
              "      <td>-0.117711</td>\n",
              "      <td>0.193103</td>\n",
              "      <td>-0.039416</td>\n",
              "      <td>0.232813</td>\n",
              "      <td>-0.626957</td>\n",
              "      <td>0.255899</td>\n",
              "      <td>-0.086203</td>\n",
              "      <td>-0.112010</td>\n",
              "      <td>-0.049405</td>\n",
              "      <td>-0.168732</td>\n",
              "      <td>-0.066539</td>\n",
              "      <td>-0.313819</td>\n",
              "      <td>-0.177017</td>\n",
              "      <td>0.028803</td>\n",
              "      <td>-0.097103</td>\n",
              "      <td>0.623241</td>\n",
              "      <td>0.014126</td>\n",
              "      <td>0.023108</td>\n",
              "      <td>0.058664</td>\n",
              "      <td>-0.216553</td>\n",
              "      <td>0.400928</td>\n",
              "      <td>0.303050</td>\n",
              "      <td>-0.222227</td>\n",
              "      <td>-0.287176</td>\n",
              "      <td>0.037768</td>\n",
              "      <td>...</td>\n",
              "      <td>0.329862</td>\n",
              "      <td>0.034904</td>\n",
              "      <td>-0.214976</td>\n",
              "      <td>0.167887</td>\n",
              "      <td>-0.085614</td>\n",
              "      <td>-0.093523</td>\n",
              "      <td>-0.529687</td>\n",
              "      <td>0.326094</td>\n",
              "      <td>0.163124</td>\n",
              "      <td>-0.068303</td>\n",
              "      <td>-0.531376</td>\n",
              "      <td>-0.006876</td>\n",
              "      <td>-0.179367</td>\n",
              "      <td>0.017102</td>\n",
              "      <td>0.018383</td>\n",
              "      <td>-0.121967</td>\n",
              "      <td>0.012128</td>\n",
              "      <td>-0.409407</td>\n",
              "      <td>-0.597547</td>\n",
              "      <td>-0.159906</td>\n",
              "      <td>-0.358888</td>\n",
              "      <td>-0.042565</td>\n",
              "      <td>0.285005</td>\n",
              "      <td>0.432336</td>\n",
              "      <td>-0.005819</td>\n",
              "      <td>-0.093201</td>\n",
              "      <td>0.208513</td>\n",
              "      <td>-0.279186</td>\n",
              "      <td>-0.242795</td>\n",
              "      <td>0.565175</td>\n",
              "      <td>0.193389</td>\n",
              "      <td>-0.345230</td>\n",
              "      <td>-0.041291</td>\n",
              "      <td>0.063343</td>\n",
              "      <td>-0.230869</td>\n",
              "      <td>-0.018990</td>\n",
              "      <td>-0.462915</td>\n",
              "      <td>-0.762691</td>\n",
              "      <td>0.271782</td>\n",
              "      <td>-0.653218</td>\n",
              "    </tr>\n",
              "    <tr>\n",
              "      <th>1</th>\n",
              "      <td>0.173821</td>\n",
              "      <td>-0.214929</td>\n",
              "      <td>-0.098004</td>\n",
              "      <td>0.432866</td>\n",
              "      <td>0.370673</td>\n",
              "      <td>0.000804</td>\n",
              "      <td>-0.735449</td>\n",
              "      <td>0.162931</td>\n",
              "      <td>0.113988</td>\n",
              "      <td>0.468011</td>\n",
              "      <td>0.091182</td>\n",
              "      <td>-0.015925</td>\n",
              "      <td>-0.367213</td>\n",
              "      <td>-0.148326</td>\n",
              "      <td>-0.570235</td>\n",
              "      <td>0.235001</td>\n",
              "      <td>0.474639</td>\n",
              "      <td>0.056680</td>\n",
              "      <td>0.336305</td>\n",
              "      <td>-0.118116</td>\n",
              "      <td>0.086382</td>\n",
              "      <td>-0.023839</td>\n",
              "      <td>0.352665</td>\n",
              "      <td>0.201555</td>\n",
              "      <td>-0.232855</td>\n",
              "      <td>0.139960</td>\n",
              "      <td>-0.107633</td>\n",
              "      <td>-0.274393</td>\n",
              "      <td>-0.098784</td>\n",
              "      <td>0.033530</td>\n",
              "      <td>0.202761</td>\n",
              "      <td>-0.214515</td>\n",
              "      <td>-0.363571</td>\n",
              "      <td>0.180008</td>\n",
              "      <td>0.160661</td>\n",
              "      <td>0.698344</td>\n",
              "      <td>0.403793</td>\n",
              "      <td>-0.036676</td>\n",
              "      <td>-0.124082</td>\n",
              "      <td>-0.088976</td>\n",
              "      <td>...</td>\n",
              "      <td>0.558337</td>\n",
              "      <td>-0.285610</td>\n",
              "      <td>-0.147095</td>\n",
              "      <td>0.117567</td>\n",
              "      <td>0.064415</td>\n",
              "      <td>-0.074428</td>\n",
              "      <td>0.022359</td>\n",
              "      <td>0.361806</td>\n",
              "      <td>0.115827</td>\n",
              "      <td>-0.102381</td>\n",
              "      <td>-0.170256</td>\n",
              "      <td>0.033135</td>\n",
              "      <td>0.093055</td>\n",
              "      <td>0.162718</td>\n",
              "      <td>-0.243858</td>\n",
              "      <td>0.281852</td>\n",
              "      <td>0.290611</td>\n",
              "      <td>-0.160803</td>\n",
              "      <td>-0.242895</td>\n",
              "      <td>0.113361</td>\n",
              "      <td>-0.758359</td>\n",
              "      <td>0.122067</td>\n",
              "      <td>0.039228</td>\n",
              "      <td>0.199917</td>\n",
              "      <td>-0.438904</td>\n",
              "      <td>-0.207233</td>\n",
              "      <td>-0.046206</td>\n",
              "      <td>-0.307828</td>\n",
              "      <td>-0.336320</td>\n",
              "      <td>0.378690</td>\n",
              "      <td>0.133606</td>\n",
              "      <td>-0.374622</td>\n",
              "      <td>-0.360892</td>\n",
              "      <td>-0.394297</td>\n",
              "      <td>-0.168498</td>\n",
              "      <td>-0.262506</td>\n",
              "      <td>-0.958892</td>\n",
              "      <td>0.099089</td>\n",
              "      <td>0.487517</td>\n",
              "      <td>-0.307144</td>\n",
              "    </tr>\n",
              "    <tr>\n",
              "      <th>2</th>\n",
              "      <td>-0.257559</td>\n",
              "      <td>-0.065606</td>\n",
              "      <td>0.344815</td>\n",
              "      <td>0.411276</td>\n",
              "      <td>0.090839</td>\n",
              "      <td>0.738248</td>\n",
              "      <td>0.282006</td>\n",
              "      <td>0.331116</td>\n",
              "      <td>-0.213441</td>\n",
              "      <td>0.092032</td>\n",
              "      <td>-0.173409</td>\n",
              "      <td>-0.434767</td>\n",
              "      <td>0.065186</td>\n",
              "      <td>0.196101</td>\n",
              "      <td>-0.671928</td>\n",
              "      <td>-0.195213</td>\n",
              "      <td>0.074474</td>\n",
              "      <td>0.323334</td>\n",
              "      <td>0.292436</td>\n",
              "      <td>0.468960</td>\n",
              "      <td>-0.193369</td>\n",
              "      <td>0.157990</td>\n",
              "      <td>-0.180058</td>\n",
              "      <td>0.095284</td>\n",
              "      <td>-0.294818</td>\n",
              "      <td>-0.140939</td>\n",
              "      <td>-0.202958</td>\n",
              "      <td>-0.144758</td>\n",
              "      <td>-0.270722</td>\n",
              "      <td>0.155839</td>\n",
              "      <td>0.314211</td>\n",
              "      <td>-0.097944</td>\n",
              "      <td>0.396810</td>\n",
              "      <td>0.310496</td>\n",
              "      <td>-0.448204</td>\n",
              "      <td>0.575355</td>\n",
              "      <td>0.241816</td>\n",
              "      <td>-0.428021</td>\n",
              "      <td>-0.066452</td>\n",
              "      <td>0.207896</td>\n",
              "      <td>...</td>\n",
              "      <td>-0.253060</td>\n",
              "      <td>-0.023285</td>\n",
              "      <td>0.387593</td>\n",
              "      <td>-0.257498</td>\n",
              "      <td>-0.219196</td>\n",
              "      <td>0.463819</td>\n",
              "      <td>-0.047877</td>\n",
              "      <td>-0.002297</td>\n",
              "      <td>-0.023295</td>\n",
              "      <td>0.096966</td>\n",
              "      <td>0.185142</td>\n",
              "      <td>-0.053014</td>\n",
              "      <td>0.580751</td>\n",
              "      <td>0.230906</td>\n",
              "      <td>-0.090283</td>\n",
              "      <td>-0.549747</td>\n",
              "      <td>0.448878</td>\n",
              "      <td>-0.358442</td>\n",
              "      <td>-0.267432</td>\n",
              "      <td>0.062992</td>\n",
              "      <td>-0.650513</td>\n",
              "      <td>0.471424</td>\n",
              "      <td>-0.207576</td>\n",
              "      <td>0.421068</td>\n",
              "      <td>-0.340663</td>\n",
              "      <td>-0.287685</td>\n",
              "      <td>0.239766</td>\n",
              "      <td>-0.012972</td>\n",
              "      <td>-0.408097</td>\n",
              "      <td>0.380892</td>\n",
              "      <td>0.273857</td>\n",
              "      <td>-0.094201</td>\n",
              "      <td>0.245259</td>\n",
              "      <td>0.438028</td>\n",
              "      <td>-0.413395</td>\n",
              "      <td>0.425271</td>\n",
              "      <td>-0.417884</td>\n",
              "      <td>-0.886485</td>\n",
              "      <td>0.458968</td>\n",
              "      <td>-0.380352</td>\n",
              "    </tr>\n",
              "    <tr>\n",
              "      <th>3</th>\n",
              "      <td>-0.023537</td>\n",
              "      <td>0.186004</td>\n",
              "      <td>-0.018319</td>\n",
              "      <td>0.046002</td>\n",
              "      <td>0.285380</td>\n",
              "      <td>0.824158</td>\n",
              "      <td>0.240865</td>\n",
              "      <td>0.177934</td>\n",
              "      <td>-0.293685</td>\n",
              "      <td>0.369762</td>\n",
              "      <td>-0.286876</td>\n",
              "      <td>-0.115853</td>\n",
              "      <td>0.074393</td>\n",
              "      <td>-0.267145</td>\n",
              "      <td>-0.400384</td>\n",
              "      <td>0.067620</td>\n",
              "      <td>0.081379</td>\n",
              "      <td>0.260510</td>\n",
              "      <td>-0.002243</td>\n",
              "      <td>0.159411</td>\n",
              "      <td>0.212635</td>\n",
              "      <td>-0.261783</td>\n",
              "      <td>0.071453</td>\n",
              "      <td>-0.525530</td>\n",
              "      <td>0.149235</td>\n",
              "      <td>-0.563100</td>\n",
              "      <td>-0.378368</td>\n",
              "      <td>-0.396288</td>\n",
              "      <td>-0.265716</td>\n",
              "      <td>-0.028256</td>\n",
              "      <td>0.035099</td>\n",
              "      <td>-0.282228</td>\n",
              "      <td>0.121753</td>\n",
              "      <td>-0.244408</td>\n",
              "      <td>-0.323249</td>\n",
              "      <td>0.133777</td>\n",
              "      <td>0.099915</td>\n",
              "      <td>-0.073891</td>\n",
              "      <td>0.044732</td>\n",
              "      <td>0.229217</td>\n",
              "      <td>...</td>\n",
              "      <td>-0.164505</td>\n",
              "      <td>-0.436309</td>\n",
              "      <td>-0.089114</td>\n",
              "      <td>-0.515013</td>\n",
              "      <td>-0.356831</td>\n",
              "      <td>0.644965</td>\n",
              "      <td>0.151415</td>\n",
              "      <td>-0.040290</td>\n",
              "      <td>0.202163</td>\n",
              "      <td>0.065799</td>\n",
              "      <td>-0.013578</td>\n",
              "      <td>0.264860</td>\n",
              "      <td>0.562417</td>\n",
              "      <td>-0.322598</td>\n",
              "      <td>0.117282</td>\n",
              "      <td>-0.137634</td>\n",
              "      <td>0.454603</td>\n",
              "      <td>0.114935</td>\n",
              "      <td>-0.076333</td>\n",
              "      <td>0.362280</td>\n",
              "      <td>-0.349352</td>\n",
              "      <td>0.368029</td>\n",
              "      <td>0.062586</td>\n",
              "      <td>0.346775</td>\n",
              "      <td>-0.227782</td>\n",
              "      <td>-0.668857</td>\n",
              "      <td>0.477370</td>\n",
              "      <td>-0.349774</td>\n",
              "      <td>-0.566387</td>\n",
              "      <td>0.270867</td>\n",
              "      <td>0.076834</td>\n",
              "      <td>0.171872</td>\n",
              "      <td>0.258420</td>\n",
              "      <td>0.169574</td>\n",
              "      <td>-0.280809</td>\n",
              "      <td>0.322120</td>\n",
              "      <td>-0.102916</td>\n",
              "      <td>-0.606135</td>\n",
              "      <td>0.186568</td>\n",
              "      <td>-0.477317</td>\n",
              "    </tr>\n",
              "    <tr>\n",
              "      <th>4</th>\n",
              "      <td>-0.832218</td>\n",
              "      <td>0.451893</td>\n",
              "      <td>0.474038</td>\n",
              "      <td>-0.018249</td>\n",
              "      <td>-0.478648</td>\n",
              "      <td>0.178108</td>\n",
              "      <td>-0.472869</td>\n",
              "      <td>-0.532138</td>\n",
              "      <td>-0.491469</td>\n",
              "      <td>-0.466011</td>\n",
              "      <td>0.395096</td>\n",
              "      <td>-0.386877</td>\n",
              "      <td>-0.798011</td>\n",
              "      <td>-0.271923</td>\n",
              "      <td>-0.168703</td>\n",
              "      <td>0.567564</td>\n",
              "      <td>0.918460</td>\n",
              "      <td>-0.283334</td>\n",
              "      <td>0.052681</td>\n",
              "      <td>0.335400</td>\n",
              "      <td>0.102989</td>\n",
              "      <td>-0.569144</td>\n",
              "      <td>-0.027434</td>\n",
              "      <td>-0.390786</td>\n",
              "      <td>-0.411513</td>\n",
              "      <td>-0.004615</td>\n",
              "      <td>0.059425</td>\n",
              "      <td>0.129107</td>\n",
              "      <td>0.058133</td>\n",
              "      <td>0.178414</td>\n",
              "      <td>-0.222867</td>\n",
              "      <td>0.336164</td>\n",
              "      <td>0.079755</td>\n",
              "      <td>0.220411</td>\n",
              "      <td>0.184255</td>\n",
              "      <td>0.723972</td>\n",
              "      <td>0.306105</td>\n",
              "      <td>0.653465</td>\n",
              "      <td>-0.934595</td>\n",
              "      <td>-0.013150</td>\n",
              "      <td>...</td>\n",
              "      <td>0.484666</td>\n",
              "      <td>-0.181744</td>\n",
              "      <td>0.296147</td>\n",
              "      <td>0.775699</td>\n",
              "      <td>0.239380</td>\n",
              "      <td>-0.016156</td>\n",
              "      <td>0.329073</td>\n",
              "      <td>-0.023605</td>\n",
              "      <td>-0.197673</td>\n",
              "      <td>-1.308118</td>\n",
              "      <td>0.593427</td>\n",
              "      <td>0.109318</td>\n",
              "      <td>-0.387851</td>\n",
              "      <td>0.090579</td>\n",
              "      <td>-0.265281</td>\n",
              "      <td>-0.083823</td>\n",
              "      <td>0.498955</td>\n",
              "      <td>-0.115021</td>\n",
              "      <td>0.705434</td>\n",
              "      <td>0.536024</td>\n",
              "      <td>0.319468</td>\n",
              "      <td>0.083369</td>\n",
              "      <td>-0.067807</td>\n",
              "      <td>-0.206901</td>\n",
              "      <td>0.215812</td>\n",
              "      <td>0.166634</td>\n",
              "      <td>0.071825</td>\n",
              "      <td>0.669192</td>\n",
              "      <td>0.043907</td>\n",
              "      <td>0.346249</td>\n",
              "      <td>0.594541</td>\n",
              "      <td>-0.302686</td>\n",
              "      <td>-0.511276</td>\n",
              "      <td>-0.590193</td>\n",
              "      <td>0.299716</td>\n",
              "      <td>-0.181081</td>\n",
              "      <td>-0.436865</td>\n",
              "      <td>0.996631</td>\n",
              "      <td>0.330113</td>\n",
              "      <td>-0.327735</td>\n",
              "    </tr>\n",
              "  </tbody>\n",
              "</table>\n",
              "<p>5 rows × 512 columns</p>\n",
              "</div>"
            ],
            "text/plain": [
              "          0         1         2  ...       509       510       511\n",
              "0 -0.288502 -0.481055  0.258424  ... -0.762691  0.271782 -0.653218\n",
              "1  0.173821 -0.214929 -0.098004  ...  0.099089  0.487517 -0.307144\n",
              "2 -0.257559 -0.065606  0.344815  ... -0.886485  0.458968 -0.380352\n",
              "3 -0.023537  0.186004 -0.018319  ... -0.606135  0.186568 -0.477317\n",
              "4 -0.832218  0.451893  0.474038  ...  0.996631  0.330113 -0.327735\n",
              "\n",
              "[5 rows x 512 columns]"
            ]
          },
          "metadata": {
            "tags": []
          },
          "execution_count": 5
        }
      ]
    },
    {
      "cell_type": "code",
      "metadata": {
        "id": "jcpiIBNKbO5Z",
        "colab_type": "code",
        "colab": {
          "base_uri": "https://localhost:8080/",
          "height": 119
        },
        "outputId": "19ba481f-11de-4563-fb39-28fd29d67396"
      },
      "source": [
        "rating.head()"
      ],
      "execution_count": 6,
      "outputs": [
        {
          "output_type": "execute_result",
          "data": {
            "text/plain": [
              "0    5\n",
              "1    5\n",
              "2    5\n",
              "3    5\n",
              "4    3\n",
              "Name: star_rating, dtype: int64"
            ]
          },
          "metadata": {
            "tags": []
          },
          "execution_count": 6
        }
      ]
    },
    {
      "cell_type": "code",
      "metadata": {
        "id": "XtAgWHxKbO5c",
        "colab_type": "code",
        "colab": {
          "base_uri": "https://localhost:8080/",
          "height": 309
        },
        "outputId": "bb0a0659-a533-45e3-96fa-893b68c8b7cc"
      },
      "source": [
        "model = Sequential()\n",
        "\n",
        "model.add(Dense(384, input_shape=(df.shape[1],), kernel_initializer='glorot_uniform'))\n",
        "model.add(Activation('relu'))\n",
        "model.add(Dropout(0.2))\n",
        "\n",
        "model.add(Dense(384, kernel_initializer='glorot_uniform'))\n",
        "model.add(Activation('relu'))\n",
        "model.add(Dropout(0.2))\n",
        "\n",
        "model.add(Dense(5, activation='relu'))\n",
        "model.add(Activation('softmax'))\n",
        "model.compile(optimizer=SGD(), loss='categorical_crossentropy', metrics=['accuracy'])"
      ],
      "execution_count": 7,
      "outputs": [
        {
          "output_type": "stream",
          "text": [
            "WARNING: Logging before flag parsing goes to stderr.\n",
            "W0730 01:36:02.008654 140375745927040 deprecation_wrapper.py:119] From /usr/local/lib/python3.6/dist-packages/keras/backend/tensorflow_backend.py:74: The name tf.get_default_graph is deprecated. Please use tf.compat.v1.get_default_graph instead.\n",
            "\n",
            "W0730 01:36:02.098989 140375745927040 deprecation_wrapper.py:119] From /usr/local/lib/python3.6/dist-packages/keras/backend/tensorflow_backend.py:517: The name tf.placeholder is deprecated. Please use tf.compat.v1.placeholder instead.\n",
            "\n",
            "W0730 01:36:02.109533 140375745927040 deprecation_wrapper.py:119] From /usr/local/lib/python3.6/dist-packages/keras/backend/tensorflow_backend.py:4138: The name tf.random_uniform is deprecated. Please use tf.random.uniform instead.\n",
            "\n",
            "W0730 01:36:02.156378 140375745927040 deprecation_wrapper.py:119] From /usr/local/lib/python3.6/dist-packages/keras/backend/tensorflow_backend.py:133: The name tf.placeholder_with_default is deprecated. Please use tf.compat.v1.placeholder_with_default instead.\n",
            "\n",
            "W0730 01:36:02.181267 140375745927040 deprecation.py:506] From /usr/local/lib/python3.6/dist-packages/keras/backend/tensorflow_backend.py:3445: calling dropout (from tensorflow.python.ops.nn_ops) with keep_prob is deprecated and will be removed in a future version.\n",
            "Instructions for updating:\n",
            "Please use `rate` instead of `keep_prob`. Rate should be set to `rate = 1 - keep_prob`.\n",
            "W0730 01:36:02.559397 140375745927040 deprecation_wrapper.py:119] From /usr/local/lib/python3.6/dist-packages/keras/optimizers.py:790: The name tf.train.Optimizer is deprecated. Please use tf.compat.v1.train.Optimizer instead.\n",
            "\n",
            "W0730 01:36:02.601309 140375745927040 deprecation_wrapper.py:119] From /usr/local/lib/python3.6/dist-packages/keras/backend/tensorflow_backend.py:3295: The name tf.log is deprecated. Please use tf.math.log instead.\n",
            "\n"
          ],
          "name": "stderr"
        }
      ]
    },
    {
      "cell_type": "code",
      "metadata": {
        "id": "ShqCCojqbO5e",
        "colab_type": "code",
        "colab": {
          "base_uri": "https://localhost:8080/",
          "height": 425
        },
        "outputId": "369abe47-2507-4aa9-c100-6630102bf5b9"
      },
      "source": [
        "print(model.summary())"
      ],
      "execution_count": 8,
      "outputs": [
        {
          "output_type": "stream",
          "text": [
            "_________________________________________________________________\n",
            "Layer (type)                 Output Shape              Param #   \n",
            "=================================================================\n",
            "dense_1 (Dense)              (None, 384)               196992    \n",
            "_________________________________________________________________\n",
            "activation_1 (Activation)    (None, 384)               0         \n",
            "_________________________________________________________________\n",
            "dropout_1 (Dropout)          (None, 384)               0         \n",
            "_________________________________________________________________\n",
            "dense_2 (Dense)              (None, 384)               147840    \n",
            "_________________________________________________________________\n",
            "activation_2 (Activation)    (None, 384)               0         \n",
            "_________________________________________________________________\n",
            "dropout_2 (Dropout)          (None, 384)               0         \n",
            "_________________________________________________________________\n",
            "dense_3 (Dense)              (None, 5)                 1925      \n",
            "_________________________________________________________________\n",
            "activation_3 (Activation)    (None, 5)                 0         \n",
            "=================================================================\n",
            "Total params: 346,757\n",
            "Trainable params: 346,757\n",
            "Non-trainable params: 0\n",
            "_________________________________________________________________\n",
            "None\n"
          ],
          "name": "stdout"
        }
      ]
    },
    {
      "cell_type": "code",
      "metadata": {
        "id": "z8gG18tAbO5h",
        "colab_type": "code",
        "colab": {
          "base_uri": "https://localhost:8080/",
          "height": 966
        },
        "outputId": "c24f3b41-1fbb-4b70-dff7-949cbe6239eb"
      },
      "source": [
        "SVG(model_to_dot(model, show_shapes=True, show_layer_names=False, \n",
        "                 rankdir='TB').create(prog='dot', format='svg'))"
      ],
      "execution_count": 9,
      "outputs": [
        {
          "output_type": "execute_result",
          "data": {
            "text/plain": [
              "<IPython.core.display.SVG object>"
            ],
            "image/svg+xml": "<svg height=\"709pt\" viewBox=\"0.00 0.00 230.00 709.00\" width=\"230pt\" xmlns=\"http://www.w3.org/2000/svg\" xmlns:xlink=\"http://www.w3.org/1999/xlink\">\n<g class=\"graph\" id=\"graph0\" transform=\"scale(1 1) rotate(0) translate(4 705)\">\n<title>G</title>\n<polygon fill=\"#ffffff\" points=\"-4,4 -4,-705 226,-705 226,4 -4,4\" stroke=\"transparent\"/>\n<!-- 140374622221144 -->\n<g class=\"node\" id=\"node1\">\n<title>140374622221144</title>\n<polygon fill=\"none\" points=\"12.5,-581.5 12.5,-627.5 209.5,-627.5 209.5,-581.5 12.5,-581.5\" stroke=\"#000000\"/>\n<text fill=\"#000000\" font-family=\"Times,serif\" font-size=\"14.00\" text-anchor=\"middle\" x=\"38.5\" y=\"-600.8\">Dense</text>\n<polyline fill=\"none\" points=\"64.5,-581.5 64.5,-627.5 \" stroke=\"#000000\"/>\n<text fill=\"#000000\" font-family=\"Times,serif\" font-size=\"14.00\" text-anchor=\"middle\" x=\"93.5\" y=\"-612.3\">input:</text>\n<polyline fill=\"none\" points=\"64.5,-604.5 122.5,-604.5 \" stroke=\"#000000\"/>\n<text fill=\"#000000\" font-family=\"Times,serif\" font-size=\"14.00\" text-anchor=\"middle\" x=\"93.5\" y=\"-589.3\">output:</text>\n<polyline fill=\"none\" points=\"122.5,-581.5 122.5,-627.5 \" stroke=\"#000000\"/>\n<text fill=\"#000000\" font-family=\"Times,serif\" font-size=\"14.00\" text-anchor=\"middle\" x=\"166\" y=\"-612.3\">(None, 512)</text>\n<polyline fill=\"none\" points=\"122.5,-604.5 209.5,-604.5 \" stroke=\"#000000\"/>\n<text fill=\"#000000\" font-family=\"Times,serif\" font-size=\"14.00\" text-anchor=\"middle\" x=\"166\" y=\"-589.3\">(None, 384)</text>\n</g>\n<!-- 140374622221480 -->\n<g class=\"node\" id=\"node2\">\n<title>140374622221480</title>\n<polygon fill=\"none\" points=\"0,-498.5 0,-544.5 222,-544.5 222,-498.5 0,-498.5\" stroke=\"#000000\"/>\n<text fill=\"#000000\" font-family=\"Times,serif\" font-size=\"14.00\" text-anchor=\"middle\" x=\"38.5\" y=\"-517.8\">Activation</text>\n<polyline fill=\"none\" points=\"77,-498.5 77,-544.5 \" stroke=\"#000000\"/>\n<text fill=\"#000000\" font-family=\"Times,serif\" font-size=\"14.00\" text-anchor=\"middle\" x=\"106\" y=\"-529.3\">input:</text>\n<polyline fill=\"none\" points=\"77,-521.5 135,-521.5 \" stroke=\"#000000\"/>\n<text fill=\"#000000\" font-family=\"Times,serif\" font-size=\"14.00\" text-anchor=\"middle\" x=\"106\" y=\"-506.3\">output:</text>\n<polyline fill=\"none\" points=\"135,-498.5 135,-544.5 \" stroke=\"#000000\"/>\n<text fill=\"#000000\" font-family=\"Times,serif\" font-size=\"14.00\" text-anchor=\"middle\" x=\"178.5\" y=\"-529.3\">(None, 384)</text>\n<polyline fill=\"none\" points=\"135,-521.5 222,-521.5 \" stroke=\"#000000\"/>\n<text fill=\"#000000\" font-family=\"Times,serif\" font-size=\"14.00\" text-anchor=\"middle\" x=\"178.5\" y=\"-506.3\">(None, 384)</text>\n</g>\n<!-- 140374622221144&#45;&gt;140374622221480 -->\n<g class=\"edge\" id=\"edge2\">\n<title>140374622221144-&gt;140374622221480</title>\n<path d=\"M111,-581.3799C111,-573.1745 111,-563.7679 111,-554.8786\" fill=\"none\" stroke=\"#000000\"/>\n<polygon fill=\"#000000\" points=\"114.5001,-554.784 111,-544.784 107.5001,-554.784 114.5001,-554.784\" stroke=\"#000000\"/>\n</g>\n<!-- 140374622222264 -->\n<g class=\"node\" id=\"node3\">\n<title>140374622222264</title>\n<polygon fill=\"none\" points=\"6,-415.5 6,-461.5 216,-461.5 216,-415.5 6,-415.5\" stroke=\"#000000\"/>\n<text fill=\"#000000\" font-family=\"Times,serif\" font-size=\"14.00\" text-anchor=\"middle\" x=\"38.5\" y=\"-434.8\">Dropout</text>\n<polyline fill=\"none\" points=\"71,-415.5 71,-461.5 \" stroke=\"#000000\"/>\n<text fill=\"#000000\" font-family=\"Times,serif\" font-size=\"14.00\" text-anchor=\"middle\" x=\"100\" y=\"-446.3\">input:</text>\n<polyline fill=\"none\" points=\"71,-438.5 129,-438.5 \" stroke=\"#000000\"/>\n<text fill=\"#000000\" font-family=\"Times,serif\" font-size=\"14.00\" text-anchor=\"middle\" x=\"100\" y=\"-423.3\">output:</text>\n<polyline fill=\"none\" points=\"129,-415.5 129,-461.5 \" stroke=\"#000000\"/>\n<text fill=\"#000000\" font-family=\"Times,serif\" font-size=\"14.00\" text-anchor=\"middle\" x=\"172.5\" y=\"-446.3\">(None, 384)</text>\n<polyline fill=\"none\" points=\"129,-438.5 216,-438.5 \" stroke=\"#000000\"/>\n<text fill=\"#000000\" font-family=\"Times,serif\" font-size=\"14.00\" text-anchor=\"middle\" x=\"172.5\" y=\"-423.3\">(None, 384)</text>\n</g>\n<!-- 140374622221480&#45;&gt;140374622222264 -->\n<g class=\"edge\" id=\"edge3\">\n<title>140374622221480-&gt;140374622222264</title>\n<path d=\"M111,-498.3799C111,-490.1745 111,-480.7679 111,-471.8786\" fill=\"none\" stroke=\"#000000\"/>\n<polygon fill=\"#000000\" points=\"114.5001,-471.784 111,-461.784 107.5001,-471.784 114.5001,-471.784\" stroke=\"#000000\"/>\n</g>\n<!-- 140374622222320 -->\n<g class=\"node\" id=\"node4\">\n<title>140374622222320</title>\n<polygon fill=\"none\" points=\"12.5,-332.5 12.5,-378.5 209.5,-378.5 209.5,-332.5 12.5,-332.5\" stroke=\"#000000\"/>\n<text fill=\"#000000\" font-family=\"Times,serif\" font-size=\"14.00\" text-anchor=\"middle\" x=\"38.5\" y=\"-351.8\">Dense</text>\n<polyline fill=\"none\" points=\"64.5,-332.5 64.5,-378.5 \" stroke=\"#000000\"/>\n<text fill=\"#000000\" font-family=\"Times,serif\" font-size=\"14.00\" text-anchor=\"middle\" x=\"93.5\" y=\"-363.3\">input:</text>\n<polyline fill=\"none\" points=\"64.5,-355.5 122.5,-355.5 \" stroke=\"#000000\"/>\n<text fill=\"#000000\" font-family=\"Times,serif\" font-size=\"14.00\" text-anchor=\"middle\" x=\"93.5\" y=\"-340.3\">output:</text>\n<polyline fill=\"none\" points=\"122.5,-332.5 122.5,-378.5 \" stroke=\"#000000\"/>\n<text fill=\"#000000\" font-family=\"Times,serif\" font-size=\"14.00\" text-anchor=\"middle\" x=\"166\" y=\"-363.3\">(None, 384)</text>\n<polyline fill=\"none\" points=\"122.5,-355.5 209.5,-355.5 \" stroke=\"#000000\"/>\n<text fill=\"#000000\" font-family=\"Times,serif\" font-size=\"14.00\" text-anchor=\"middle\" x=\"166\" y=\"-340.3\">(None, 384)</text>\n</g>\n<!-- 140374622222264&#45;&gt;140374622222320 -->\n<g class=\"edge\" id=\"edge4\">\n<title>140374622222264-&gt;140374622222320</title>\n<path d=\"M111,-415.3799C111,-407.1745 111,-397.7679 111,-388.8786\" fill=\"none\" stroke=\"#000000\"/>\n<polygon fill=\"#000000\" points=\"114.5001,-388.784 111,-378.784 107.5001,-388.784 114.5001,-388.784\" stroke=\"#000000\"/>\n</g>\n<!-- 140374622222544 -->\n<g class=\"node\" id=\"node5\">\n<title>140374622222544</title>\n<polygon fill=\"none\" points=\"0,-249.5 0,-295.5 222,-295.5 222,-249.5 0,-249.5\" stroke=\"#000000\"/>\n<text fill=\"#000000\" font-family=\"Times,serif\" font-size=\"14.00\" text-anchor=\"middle\" x=\"38.5\" y=\"-268.8\">Activation</text>\n<polyline fill=\"none\" points=\"77,-249.5 77,-295.5 \" stroke=\"#000000\"/>\n<text fill=\"#000000\" font-family=\"Times,serif\" font-size=\"14.00\" text-anchor=\"middle\" x=\"106\" y=\"-280.3\">input:</text>\n<polyline fill=\"none\" points=\"77,-272.5 135,-272.5 \" stroke=\"#000000\"/>\n<text fill=\"#000000\" font-family=\"Times,serif\" font-size=\"14.00\" text-anchor=\"middle\" x=\"106\" y=\"-257.3\">output:</text>\n<polyline fill=\"none\" points=\"135,-249.5 135,-295.5 \" stroke=\"#000000\"/>\n<text fill=\"#000000\" font-family=\"Times,serif\" font-size=\"14.00\" text-anchor=\"middle\" x=\"178.5\" y=\"-280.3\">(None, 384)</text>\n<polyline fill=\"none\" points=\"135,-272.5 222,-272.5 \" stroke=\"#000000\"/>\n<text fill=\"#000000\" font-family=\"Times,serif\" font-size=\"14.00\" text-anchor=\"middle\" x=\"178.5\" y=\"-257.3\">(None, 384)</text>\n</g>\n<!-- 140374622222320&#45;&gt;140374622222544 -->\n<g class=\"edge\" id=\"edge5\">\n<title>140374622222320-&gt;140374622222544</title>\n<path d=\"M111,-332.3799C111,-324.1745 111,-314.7679 111,-305.8786\" fill=\"none\" stroke=\"#000000\"/>\n<polygon fill=\"#000000\" points=\"114.5001,-305.784 111,-295.784 107.5001,-305.784 114.5001,-305.784\" stroke=\"#000000\"/>\n</g>\n<!-- 140374623644080 -->\n<g class=\"node\" id=\"node6\">\n<title>140374623644080</title>\n<polygon fill=\"none\" points=\"6,-166.5 6,-212.5 216,-212.5 216,-166.5 6,-166.5\" stroke=\"#000000\"/>\n<text fill=\"#000000\" font-family=\"Times,serif\" font-size=\"14.00\" text-anchor=\"middle\" x=\"38.5\" y=\"-185.8\">Dropout</text>\n<polyline fill=\"none\" points=\"71,-166.5 71,-212.5 \" stroke=\"#000000\"/>\n<text fill=\"#000000\" font-family=\"Times,serif\" font-size=\"14.00\" text-anchor=\"middle\" x=\"100\" y=\"-197.3\">input:</text>\n<polyline fill=\"none\" points=\"71,-189.5 129,-189.5 \" stroke=\"#000000\"/>\n<text fill=\"#000000\" font-family=\"Times,serif\" font-size=\"14.00\" text-anchor=\"middle\" x=\"100\" y=\"-174.3\">output:</text>\n<polyline fill=\"none\" points=\"129,-166.5 129,-212.5 \" stroke=\"#000000\"/>\n<text fill=\"#000000\" font-family=\"Times,serif\" font-size=\"14.00\" text-anchor=\"middle\" x=\"172.5\" y=\"-197.3\">(None, 384)</text>\n<polyline fill=\"none\" points=\"129,-189.5 216,-189.5 \" stroke=\"#000000\"/>\n<text fill=\"#000000\" font-family=\"Times,serif\" font-size=\"14.00\" text-anchor=\"middle\" x=\"172.5\" y=\"-174.3\">(None, 384)</text>\n</g>\n<!-- 140374622222544&#45;&gt;140374623644080 -->\n<g class=\"edge\" id=\"edge6\">\n<title>140374622222544-&gt;140374623644080</title>\n<path d=\"M111,-249.3799C111,-241.1745 111,-231.7679 111,-222.8786\" fill=\"none\" stroke=\"#000000\"/>\n<polygon fill=\"#000000\" points=\"114.5001,-222.784 111,-212.784 107.5001,-222.784 114.5001,-222.784\" stroke=\"#000000\"/>\n</g>\n<!-- 140374623645144 -->\n<g class=\"node\" id=\"node7\">\n<title>140374623645144</title>\n<polygon fill=\"none\" points=\"12.5,-83.5 12.5,-129.5 209.5,-129.5 209.5,-83.5 12.5,-83.5\" stroke=\"#000000\"/>\n<text fill=\"#000000\" font-family=\"Times,serif\" font-size=\"14.00\" text-anchor=\"middle\" x=\"38.5\" y=\"-102.8\">Dense</text>\n<polyline fill=\"none\" points=\"64.5,-83.5 64.5,-129.5 \" stroke=\"#000000\"/>\n<text fill=\"#000000\" font-family=\"Times,serif\" font-size=\"14.00\" text-anchor=\"middle\" x=\"93.5\" y=\"-114.3\">input:</text>\n<polyline fill=\"none\" points=\"64.5,-106.5 122.5,-106.5 \" stroke=\"#000000\"/>\n<text fill=\"#000000\" font-family=\"Times,serif\" font-size=\"14.00\" text-anchor=\"middle\" x=\"93.5\" y=\"-91.3\">output:</text>\n<polyline fill=\"none\" points=\"122.5,-83.5 122.5,-129.5 \" stroke=\"#000000\"/>\n<text fill=\"#000000\" font-family=\"Times,serif\" font-size=\"14.00\" text-anchor=\"middle\" x=\"166\" y=\"-114.3\">(None, 384)</text>\n<polyline fill=\"none\" points=\"122.5,-106.5 209.5,-106.5 \" stroke=\"#000000\"/>\n<text fill=\"#000000\" font-family=\"Times,serif\" font-size=\"14.00\" text-anchor=\"middle\" x=\"166\" y=\"-91.3\">(None, 5)</text>\n</g>\n<!-- 140374623644080&#45;&gt;140374623645144 -->\n<g class=\"edge\" id=\"edge7\">\n<title>140374623644080-&gt;140374623645144</title>\n<path d=\"M111,-166.3799C111,-158.1745 111,-148.7679 111,-139.8786\" fill=\"none\" stroke=\"#000000\"/>\n<polygon fill=\"#000000\" points=\"114.5001,-139.784 111,-129.784 107.5001,-139.784 114.5001,-139.784\" stroke=\"#000000\"/>\n</g>\n<!-- 140374623781776 -->\n<g class=\"node\" id=\"node8\">\n<title>140374623781776</title>\n<polygon fill=\"none\" points=\"7.5,-.5 7.5,-46.5 214.5,-46.5 214.5,-.5 7.5,-.5\" stroke=\"#000000\"/>\n<text fill=\"#000000\" font-family=\"Times,serif\" font-size=\"14.00\" text-anchor=\"middle\" x=\"46\" y=\"-19.8\">Activation</text>\n<polyline fill=\"none\" points=\"84.5,-.5 84.5,-46.5 \" stroke=\"#000000\"/>\n<text fill=\"#000000\" font-family=\"Times,serif\" font-size=\"14.00\" text-anchor=\"middle\" x=\"113.5\" y=\"-31.3\">input:</text>\n<polyline fill=\"none\" points=\"84.5,-23.5 142.5,-23.5 \" stroke=\"#000000\"/>\n<text fill=\"#000000\" font-family=\"Times,serif\" font-size=\"14.00\" text-anchor=\"middle\" x=\"113.5\" y=\"-8.3\">output:</text>\n<polyline fill=\"none\" points=\"142.5,-.5 142.5,-46.5 \" stroke=\"#000000\"/>\n<text fill=\"#000000\" font-family=\"Times,serif\" font-size=\"14.00\" text-anchor=\"middle\" x=\"178.5\" y=\"-31.3\">(None, 5)</text>\n<polyline fill=\"none\" points=\"142.5,-23.5 214.5,-23.5 \" stroke=\"#000000\"/>\n<text fill=\"#000000\" font-family=\"Times,serif\" font-size=\"14.00\" text-anchor=\"middle\" x=\"178.5\" y=\"-8.3\">(None, 5)</text>\n</g>\n<!-- 140374623645144&#45;&gt;140374623781776 -->\n<g class=\"edge\" id=\"edge8\">\n<title>140374623645144-&gt;140374623781776</title>\n<path d=\"M111,-83.3799C111,-75.1745 111,-65.7679 111,-56.8786\" fill=\"none\" stroke=\"#000000\"/>\n<polygon fill=\"#000000\" points=\"114.5001,-56.784 111,-46.784 107.5001,-56.784 114.5001,-56.784\" stroke=\"#000000\"/>\n</g>\n<!-- 140374622221368 -->\n<g class=\"node\" id=\"node9\">\n<title>140374622221368</title>\n<polygon fill=\"none\" points=\"46.5,-664.5 46.5,-700.5 175.5,-700.5 175.5,-664.5 46.5,-664.5\" stroke=\"#000000\"/>\n<text fill=\"#000000\" font-family=\"Times,serif\" font-size=\"14.00\" text-anchor=\"middle\" x=\"111\" y=\"-678.8\">140374622221368</text>\n</g>\n<!-- 140374622221368&#45;&gt;140374622221144 -->\n<g class=\"edge\" id=\"edge1\">\n<title>140374622221368-&gt;140374622221144</title>\n<path d=\"M111,-664.4092C111,-656.4308 111,-646.795 111,-637.606\" fill=\"none\" stroke=\"#000000\"/>\n<polygon fill=\"#000000\" points=\"114.5001,-637.5333 111,-627.5333 107.5001,-637.5334 114.5001,-637.5333\" stroke=\"#000000\"/>\n</g>\n</g>\n</svg>"
          },
          "metadata": {
            "tags": []
          },
          "execution_count": 9
        }
      ]
    },
    {
      "cell_type": "code",
      "metadata": {
        "id": "fi_c1-tTbO5k",
        "colab_type": "code",
        "colab": {
          "base_uri": "https://localhost:8080/",
          "height": 258
        },
        "outputId": "7d98e854-0fa7-4e99-8231-6b59335f5d33"
      },
      "source": [
        "# one hot encode rating\n",
        "print(rating.shape)\n",
        "print(type(rating))\n",
        "y = OneHotEncoder().fit_transform(rating.values.reshape(len(rating), 1)).toarray()\n",
        "y"
      ],
      "execution_count": 10,
      "outputs": [
        {
          "output_type": "stream",
          "text": [
            "(111909,)\n",
            "<class 'pandas.core.series.Series'>\n"
          ],
          "name": "stdout"
        },
        {
          "output_type": "stream",
          "text": [
            "/usr/local/lib/python3.6/dist-packages/sklearn/preprocessing/_encoders.py:415: FutureWarning: The handling of integer data will change in version 0.22. Currently, the categories are determined based on the range [0, max(values)], while in the future they will be determined based on the unique values.\n",
            "If you want the future behaviour and silence this warning, you can specify \"categories='auto'\".\n",
            "In case you used a LabelEncoder before this OneHotEncoder to convert the categories to integers, then you can now use the OneHotEncoder directly.\n",
            "  warnings.warn(msg, FutureWarning)\n"
          ],
          "name": "stderr"
        },
        {
          "output_type": "execute_result",
          "data": {
            "text/plain": [
              "array([[0., 0., 0., 0., 1.],\n",
              "       [0., 0., 0., 0., 1.],\n",
              "       [0., 0., 0., 0., 1.],\n",
              "       ...,\n",
              "       [0., 0., 1., 0., 0.],\n",
              "       [0., 0., 0., 0., 1.],\n",
              "       [0., 0., 0., 1., 0.]])"
            ]
          },
          "metadata": {
            "tags": []
          },
          "execution_count": 10
        }
      ]
    },
    {
      "cell_type": "code",
      "metadata": {
        "id": "geR4gR3QbO5n",
        "colab_type": "code",
        "colab": {}
      },
      "source": [
        "x_train, x_test, y_train, y_test = train_test_split(df, y, random_state=1)"
      ],
      "execution_count": 0,
      "outputs": []
    },
    {
      "cell_type": "code",
      "metadata": {
        "scrolled": false,
        "id": "rvEVrtncbO5p",
        "colab_type": "code",
        "colab": {
          "base_uri": "https://localhost:8080/",
          "height": 1000
        },
        "outputId": "e3c8b14b-23a9-4e1f-f008-3714c23bc839"
      },
      "source": [
        "early_stop = EarlyStopping(monitor='val_loss', patience=2, verbose=1)\n",
        "\n",
        "# use our model wrapper the wrap the model so we can save things for later\n",
        "mw = ku.ModelWrapper(model=model, \n",
        "                     name=MODEL_NAME, \n",
        "                     label_name=LABEL_COLUMN, \n",
        "                     data_file=DATA_FILE, \n",
        "                     embedding=\"word2vec\")\n",
        "\n",
        "network_history = mw.fit(x_train, y_train,\n",
        "                      batch_size=128,\n",
        "                      epochs=50,\n",
        "                      verbose=1,\n",
        "                      validation_split=0.2,\n",
        "                      callbacks=[early_stop])"
      ],
      "execution_count": 12,
      "outputs": [
        {
          "output_type": "stream",
          "text": [
            "W0730 01:36:05.200056 140375745927040 deprecation.py:323] From /usr/local/lib/python3.6/dist-packages/tensorflow/python/ops/math_grad.py:1250: add_dispatch_support.<locals>.wrapper (from tensorflow.python.ops.array_ops) is deprecated and will be removed in a future version.\n",
            "Instructions for updating:\n",
            "Use tf.where in 2.0, which has the same broadcast rule as np.where\n"
          ],
          "name": "stderr"
        },
        {
          "output_type": "stream",
          "text": [
            "Train on 67144 samples, validate on 16787 samples\n",
            "Epoch 1/50\n",
            "67144/67144 [==============================] - 18s 273us/step - loss: 1.1634 - acc: 0.5759 - val_loss: 1.0321 - val_acc: 0.6279\n",
            "Epoch 2/50\n",
            "67144/67144 [==============================] - 18s 272us/step - loss: 1.0230 - acc: 0.6234 - val_loss: 0.9779 - val_acc: 0.6376\n",
            "Epoch 3/50\n",
            "67144/67144 [==============================] - 19s 279us/step - loss: 0.9874 - acc: 0.6310 - val_loss: 0.9540 - val_acc: 0.6439\n",
            "Epoch 4/50\n",
            "67144/67144 [==============================] - 19s 282us/step - loss: 0.9660 - acc: 0.6374 - val_loss: 0.9379 - val_acc: 0.6519\n",
            "Epoch 5/50\n",
            "67144/67144 [==============================] - 19s 278us/step - loss: 0.9500 - acc: 0.6419 - val_loss: 0.9262 - val_acc: 0.6559\n",
            "Epoch 6/50\n",
            "67144/67144 [==============================] - 19s 278us/step - loss: 0.9384 - acc: 0.6460 - val_loss: 0.9109 - val_acc: 0.6582\n",
            "Epoch 7/50\n",
            "67144/67144 [==============================] - 18s 275us/step - loss: 0.9199 - acc: 0.6488 - val_loss: 0.8954 - val_acc: 0.6600\n",
            "Epoch 8/50\n",
            "67144/67144 [==============================] - 18s 274us/step - loss: 0.9100 - acc: 0.6504 - val_loss: 0.8879 - val_acc: 0.6615\n",
            "Epoch 9/50\n",
            "67144/67144 [==============================] - 19s 279us/step - loss: 0.9025 - acc: 0.6517 - val_loss: 0.8839 - val_acc: 0.6622\n",
            "Epoch 10/50\n",
            "67144/67144 [==============================] - 18s 273us/step - loss: 0.8965 - acc: 0.6527 - val_loss: 0.8779 - val_acc: 0.6633\n",
            "Epoch 11/50\n",
            "67144/67144 [==============================] - 18s 275us/step - loss: 0.8905 - acc: 0.6557 - val_loss: 0.8749 - val_acc: 0.6645\n",
            "Epoch 12/50\n",
            "67144/67144 [==============================] - 19s 276us/step - loss: 0.8842 - acc: 0.6576 - val_loss: 0.8721 - val_acc: 0.6646\n",
            "Epoch 13/50\n",
            "67144/67144 [==============================] - 20s 294us/step - loss: 0.8842 - acc: 0.6578 - val_loss: 0.8700 - val_acc: 0.6653\n",
            "Epoch 14/50\n",
            "67144/67144 [==============================] - 24s 353us/step - loss: 0.8775 - acc: 0.6600 - val_loss: 0.8675 - val_acc: 0.6663\n",
            "Epoch 15/50\n",
            "67144/67144 [==============================] - 23s 347us/step - loss: 0.8764 - acc: 0.6615 - val_loss: 0.8664 - val_acc: 0.6657\n",
            "Epoch 16/50\n",
            "67144/67144 [==============================] - 23s 339us/step - loss: 0.8727 - acc: 0.6611 - val_loss: 0.8652 - val_acc: 0.6667\n",
            "Epoch 17/50\n",
            "67144/67144 [==============================] - 19s 290us/step - loss: 0.8692 - acc: 0.6625 - val_loss: 0.8634 - val_acc: 0.6666\n",
            "Epoch 18/50\n",
            "67144/67144 [==============================] - 20s 303us/step - loss: 0.8663 - acc: 0.6636 - val_loss: 0.8616 - val_acc: 0.6669\n",
            "Epoch 19/50\n",
            "67144/67144 [==============================] - 20s 293us/step - loss: 0.8652 - acc: 0.6636 - val_loss: 0.8608 - val_acc: 0.6673\n",
            "Epoch 20/50\n",
            "67144/67144 [==============================] - 20s 293us/step - loss: 0.8623 - acc: 0.6643 - val_loss: 0.8597 - val_acc: 0.6675\n",
            "Epoch 21/50\n",
            "67144/67144 [==============================] - 20s 294us/step - loss: 0.8589 - acc: 0.6662 - val_loss: 0.8586 - val_acc: 0.6694\n",
            "Epoch 22/50\n",
            "67144/67144 [==============================] - 19s 282us/step - loss: 0.8572 - acc: 0.6662 - val_loss: 0.8579 - val_acc: 0.6693\n",
            "Epoch 23/50\n",
            "67144/67144 [==============================] - 18s 270us/step - loss: 0.8548 - acc: 0.6681 - val_loss: 0.8567 - val_acc: 0.6694\n",
            "Epoch 24/50\n",
            "67144/67144 [==============================] - 17s 260us/step - loss: 0.8531 - acc: 0.6679 - val_loss: 0.8558 - val_acc: 0.6698\n",
            "Epoch 25/50\n",
            "67144/67144 [==============================] - 17s 250us/step - loss: 0.8519 - acc: 0.6685 - val_loss: 0.8552 - val_acc: 0.6705\n",
            "Epoch 26/50\n",
            "67144/67144 [==============================] - 17s 260us/step - loss: 0.8492 - acc: 0.6697 - val_loss: 0.8545 - val_acc: 0.6714\n",
            "Epoch 27/50\n",
            "67144/67144 [==============================] - 18s 266us/step - loss: 0.8483 - acc: 0.6697 - val_loss: 0.8537 - val_acc: 0.6705\n",
            "Epoch 28/50\n",
            "67144/67144 [==============================] - 18s 265us/step - loss: 0.8476 - acc: 0.6702 - val_loss: 0.8535 - val_acc: 0.6714\n",
            "Epoch 29/50\n",
            "67144/67144 [==============================] - 20s 293us/step - loss: 0.8442 - acc: 0.6720 - val_loss: 0.8526 - val_acc: 0.6714\n",
            "Epoch 30/50\n",
            "67144/67144 [==============================] - 21s 306us/step - loss: 0.8417 - acc: 0.6723 - val_loss: 0.8517 - val_acc: 0.6719\n",
            "Epoch 31/50\n",
            "67144/67144 [==============================] - 20s 300us/step - loss: 0.8430 - acc: 0.6709 - val_loss: 0.8516 - val_acc: 0.6725\n",
            "Epoch 32/50\n",
            "67144/67144 [==============================] - 20s 302us/step - loss: 0.8398 - acc: 0.6724 - val_loss: 0.8509 - val_acc: 0.6716\n",
            "Epoch 33/50\n",
            "67144/67144 [==============================] - 20s 299us/step - loss: 0.8369 - acc: 0.6731 - val_loss: 0.8504 - val_acc: 0.6718\n",
            "Epoch 34/50\n",
            "67144/67144 [==============================] - 20s 292us/step - loss: 0.8362 - acc: 0.6742 - val_loss: 0.8504 - val_acc: 0.6729\n",
            "Epoch 35/50\n",
            "67144/67144 [==============================] - 20s 298us/step - loss: 0.8357 - acc: 0.6744 - val_loss: 0.8498 - val_acc: 0.6727\n",
            "Epoch 36/50\n",
            "67144/67144 [==============================] - 20s 296us/step - loss: 0.8332 - acc: 0.6738 - val_loss: 0.8498 - val_acc: 0.6727\n",
            "Epoch 37/50\n",
            "67144/67144 [==============================] - 21s 311us/step - loss: 0.8310 - acc: 0.6759 - val_loss: 0.8491 - val_acc: 0.6733\n",
            "Epoch 38/50\n",
            "67144/67144 [==============================] - 21s 306us/step - loss: 0.8301 - acc: 0.6760 - val_loss: 0.8492 - val_acc: 0.6731\n",
            "Epoch 39/50\n",
            "67144/67144 [==============================] - 21s 309us/step - loss: 0.8286 - acc: 0.6770 - val_loss: 0.8482 - val_acc: 0.6733\n",
            "Epoch 40/50\n",
            "67144/67144 [==============================] - 20s 295us/step - loss: 0.8252 - acc: 0.6773 - val_loss: 0.8482 - val_acc: 0.6734\n",
            "Epoch 41/50\n",
            "67144/67144 [==============================] - 18s 264us/step - loss: 0.8267 - acc: 0.6781 - val_loss: 0.8476 - val_acc: 0.6738\n",
            "Epoch 42/50\n",
            "67144/67144 [==============================] - 16s 240us/step - loss: 0.8228 - acc: 0.6795 - val_loss: 0.8473 - val_acc: 0.6739\n",
            "Epoch 43/50\n",
            "67144/67144 [==============================] - 16s 243us/step - loss: 0.8222 - acc: 0.6796 - val_loss: 0.8469 - val_acc: 0.6734\n",
            "Epoch 44/50\n",
            "67144/67144 [==============================] - 15s 231us/step - loss: 0.8203 - acc: 0.6799 - val_loss: 0.8467 - val_acc: 0.6740\n",
            "Epoch 45/50\n",
            "67144/67144 [==============================] - 16s 238us/step - loss: 0.8187 - acc: 0.6802 - val_loss: 0.8462 - val_acc: 0.6739\n",
            "Epoch 46/50\n",
            "67144/67144 [==============================] - 17s 256us/step - loss: 0.8199 - acc: 0.6799 - val_loss: 0.8467 - val_acc: 0.6737\n",
            "Epoch 47/50\n",
            "67144/67144 [==============================] - 14s 211us/step - loss: 0.8174 - acc: 0.6800 - val_loss: 0.8463 - val_acc: 0.6739\n",
            "Epoch 00047: early stopping\n"
          ],
          "name": "stdout"
        }
      ]
    },
    {
      "cell_type": "code",
      "metadata": {
        "id": "OtTst2mtbO5s",
        "colab_type": "code",
        "colab": {
          "base_uri": "https://localhost:8080/",
          "height": 153
        },
        "outputId": "4b166aed-d434-42d2-c373-8593ebc77bda"
      },
      "source": [
        "mw.evaluate(x_test, y_test)\n",
        "print(\"Accuracy: %.2f%%\" % (mw.scores[1]*100))\n"
      ],
      "execution_count": 13,
      "outputs": [
        {
          "output_type": "stream",
          "text": [
            "Running model.evaluate...\n",
            "27978/27978 [==============================] - 3s 105us/step\n",
            "Running model.predict...\n",
            "Unencode predictions...\n",
            "Generating confusion matrix...\n",
            "Calculating ROC AUC...\n",
            "Getting classification report...\n",
            "Accuracy: 66.90%\n"
          ],
          "name": "stdout"
        }
      ]
    },
    {
      "cell_type": "code",
      "metadata": {
        "id": "9TDnCglUbO5v",
        "colab_type": "code",
        "colab": {
          "base_uri": "https://localhost:8080/",
          "height": 345
        },
        "outputId": "c8b4ef0c-e2ec-4432-f058-dc846b2c1af7"
      },
      "source": [
        "pu.plot_network_history(mw.network_history)"
      ],
      "execution_count": 14,
      "outputs": [
        {
          "output_type": "display_data",
          "data": {
            "image/png": "[encoded data removed]",
            "text/plain": [
              "<Figure size 720x360 with 2 Axes>"
            ]
          },
          "metadata": {
            "tags": []
          }
        }
      ]
    },
    {
      "cell_type": "code",
      "metadata": {
        "id": "4o2wtWuBbO58",
        "colab_type": "code",
        "colab": {
          "base_uri": "https://localhost:8080/",
          "height": 102
        },
        "outputId": "7a211260-f4a2-4e41-a3ca-08ab9ee61714"
      },
      "source": [
        "mw.confusion_matrix"
      ],
      "execution_count": 15,
      "outputs": [
        {
          "output_type": "execute_result",
          "data": {
            "text/plain": [
              "array([[ 3109,   147,   201,    93,   325],\n",
              "       [  911,   128,   310,   191,   347],\n",
              "       [  507,   132,   546,   605,   770],\n",
              "       [  229,    55,   288,  1108,  2957],\n",
              "       [  312,    27,   163,   691, 13826]])"
            ]
          },
          "metadata": {
            "tags": []
          },
          "execution_count": 15
        }
      ]
    },
    {
      "cell_type": "code",
      "metadata": {
        "id": "5RW_0E9lbO6A",
        "colab_type": "code",
        "colab": {
          "base_uri": "https://localhost:8080/",
          "height": 221
        },
        "outputId": "efeb150c-0b59-444e-e892-f1d55308289e"
      },
      "source": [
        "print(mw.classification_report)"
      ],
      "execution_count": 26,
      "outputs": [
        {
          "output_type": "stream",
          "text": [
            "              precision    recall  f1-score   support\n",
            "\n",
            "           1       0.61      0.80      0.70      3875\n",
            "           2       0.26      0.07      0.11      1887\n",
            "           3       0.36      0.21      0.27      2560\n",
            "           4       0.41      0.24      0.30      4637\n",
            "           5       0.76      0.92      0.83     15019\n",
            "\n",
            "    accuracy                           0.67     27978\n",
            "   macro avg       0.48      0.45      0.44     27978\n",
            "weighted avg       0.61      0.67      0.62     27978\n",
            "\n"
          ],
          "name": "stdout"
        }
      ]
    },
    {
      "cell_type": "code",
      "metadata": {
        "id": "jUMS4xHTb7_L",
        "colab_type": "code",
        "colab": {
          "base_uri": "https://localhost:8080/",
          "height": 366
        },
        "outputId": "fb79e528-4d82-4892-95cd-1630bb30da52"
      },
      "source": [
        "pu.plot_roc_auc(mw.name, mw.roc_auc, mw.fpr, mw.tpr)"
      ],
      "execution_count": 17,
      "outputs": [
        {
          "output_type": "display_data",
          "data": {
            "image/png": "[encoded data removed]",
            "text/plain": [
              "<Figure size 432x288 with 1 Axes>"
            ]
          },
          "metadata": {
            "tags": []
          }
        }
      ]
    },
    {
      "cell_type": "markdown",
      "metadata": {
        "id": "jrQBFEkWbO6E",
        "colab_type": "text"
      },
      "source": [
        "# Save off various files"
      ]
    },
    {
      "cell_type": "code",
      "metadata": {
        "id": "hOQtoc1RbO6F",
        "colab_type": "code",
        "colab": {
          "base_uri": "https://localhost:8080/",
          "height": 119
        },
        "outputId": "d355dd15-abef-4dd4-e280-bb2a65f1d67d"
      },
      "source": [
        "mw.save(DRIVE_DIR, append_report=True)\n"
      ],
      "execution_count": 22,
      "outputs": [
        {
          "output_type": "stream",
          "text": [
            "description: review_body-word2vec5-111909-512-nolda-DNN_384_384-512-star_rating\n",
            "Saving model file: drive/My Drive/Springboard/capstone/models/review_body-word2vec5-111909-512-nolda-DNN_384_384-512-star_rating-model.h5\n",
            "Saving network history file: drive/My Drive/Springboard/capstone/models/review_body-word2vec5-111909-512-nolda-DNN_384_384-512-star_rating-history.pkl\n",
            "Saving to report file: drive/My Drive/Springboard/capstone/reports/2019-07-30-dl_protype-report.csv\n",
            "Loading to append to: drive/My Drive/Springboard/capstone/reports/2019-07-30-dl_protype-report.csv\n",
            "Saving report file...\n"
          ],
          "name": "stdout"
        }
      ]
    },
    {
      "cell_type": "code",
      "metadata": {
        "id": "5q21BcAWeQHw",
        "colab_type": "code",
        "colab": {
          "base_uri": "https://localhost:8080/",
          "height": 168
        },
        "outputId": "2b3b9b8c-28b0-48a6-b4bf-0f1db0e54864"
      },
      "source": [
        "mw.get_report().to_df()"
      ],
      "execution_count": 23,
      "outputs": [
        {
          "output_type": "execute_result",
          "data": {
            "text/html": [
              "<div>\n",
              "<style scoped>\n",
              "    .dataframe tbody tr th:only-of-type {\n",
              "        vertical-align: middle;\n",
              "    }\n",
              "\n",
              "    .dataframe tbody tr th {\n",
              "        vertical-align: top;\n",
              "    }\n",
              "\n",
              "    .dataframe thead th {\n",
              "        text-align: right;\n",
              "    }\n",
              "</style>\n",
              "<table border=\"1\" class=\"dataframe\">\n",
              "  <thead>\n",
              "    <tr style=\"text-align: right;\">\n",
              "      <th></th>\n",
              "      <th>accuracy</th>\n",
              "      <th>classification_report</th>\n",
              "      <th>confusion_matrix</th>\n",
              "      <th>description</th>\n",
              "      <th>embedding</th>\n",
              "      <th>evaluate_time_min</th>\n",
              "      <th>file</th>\n",
              "      <th>fpr</th>\n",
              "      <th>loss</th>\n",
              "      <th>max_sequence_length</th>\n",
              "      <th>model_file</th>\n",
              "      <th>model_name</th>\n",
              "      <th>network_history_file</th>\n",
              "      <th>predict_time_min</th>\n",
              "      <th>roc_auc</th>\n",
              "      <th>status</th>\n",
              "      <th>status_date</th>\n",
              "      <th>test_examples</th>\n",
              "      <th>test_features</th>\n",
              "      <th>tokenizer_file</th>\n",
              "      <th>tpr</th>\n",
              "      <th>train_examples</th>\n",
              "      <th>train_features</th>\n",
              "      <th>train_time_min</th>\n",
              "    </tr>\n",
              "  </thead>\n",
              "  <tbody>\n",
              "    <tr>\n",
              "      <th>0</th>\n",
              "      <td>0.66899</td>\n",
              "      <td>{\"1\": {\"precision\": 0.6134569850039463, \"recal...</td>\n",
              "      <td>[[3109, 147, 201, 93, 325], [911, 128, 310, 19...</td>\n",
              "      <td>review_body-word2vec5-111909-512-nolda-DNN_384...</td>\n",
              "      <td>word2vec</td>\n",
              "      <td>17.84</td>\n",
              "      <td>review_body-word2vec5-111909-512-nolda.csv</td>\n",
              "      <td>{\"0\": [0.0, 0.0, 0.0, 0.0, 0.0, 4.148861137617...</td>\n",
              "      <td>0.846571</td>\n",
              "      <td>512.0</td>\n",
              "      <td>drive/My Drive/Springboard/capstone/models/rev...</td>\n",
              "      <td>DNN_384_384</td>\n",
              "      <td>&lt;keras.callbacks.History object at 0x7fab83bd1...</td>\n",
              "      <td>17.84</td>\n",
              "      <td>{\"auc_1\": 0.9488228396143968, \"auc_2\": 0.85419...</td>\n",
              "      <td>success</td>\n",
              "      <td>2019-07-30 01:58:08</td>\n",
              "      <td>27978.0</td>\n",
              "      <td>512.0</td>\n",
              "      <td>None</td>\n",
              "      <td>{\"0\": [0.0, 0.00025806451612903227, 0.00077419...</td>\n",
              "      <td>83931.0</td>\n",
              "      <td>512.0</td>\n",
              "      <td>17.84</td>\n",
              "    </tr>\n",
              "  </tbody>\n",
              "</table>\n",
              "</div>"
            ],
            "text/plain": [
              "   accuracy  ... train_time_min\n",
              "0   0.66899  ...          17.84\n",
              "\n",
              "[1 rows x 24 columns]"
            ]
          },
          "metadata": {
            "tags": []
          },
          "execution_count": 23
        }
      ]
    },
    {
      "cell_type": "code",
      "metadata": {
        "id": "wewQmFCbbO6R",
        "colab_type": "code",
        "colab": {
          "base_uri": "https://localhost:8080/",
          "height": 329
        },
        "outputId": "49ddb8cb-7c5a-40eb-fc6e-4950264b9e3d"
      },
      "source": [
        "# test saving\n",
        "loaded = pd.read_csv(mw.report_file, quotechar=\"'\")\n",
        "loaded"
      ],
      "execution_count": 24,
      "outputs": [
        {
          "output_type": "execute_result",
          "data": {
            "text/html": [
              "<div>\n",
              "<style scoped>\n",
              "    .dataframe tbody tr th:only-of-type {\n",
              "        vertical-align: middle;\n",
              "    }\n",
              "\n",
              "    .dataframe tbody tr th {\n",
              "        vertical-align: top;\n",
              "    }\n",
              "\n",
              "    .dataframe thead th {\n",
              "        text-align: right;\n",
              "    }\n",
              "</style>\n",
              "<table border=\"1\" class=\"dataframe\">\n",
              "  <thead>\n",
              "    <tr style=\"text-align: right;\">\n",
              "      <th></th>\n",
              "      <th>accuracy</th>\n",
              "      <th>classification_report</th>\n",
              "      <th>confusion_matrix</th>\n",
              "      <th>description</th>\n",
              "      <th>embedding</th>\n",
              "      <th>evaluate_time_min</th>\n",
              "      <th>file</th>\n",
              "      <th>fpr</th>\n",
              "      <th>loss</th>\n",
              "      <th>max_sequence_length</th>\n",
              "      <th>model_file</th>\n",
              "      <th>model_name</th>\n",
              "      <th>network_history_file</th>\n",
              "      <th>predict_time_min</th>\n",
              "      <th>roc_auc</th>\n",
              "      <th>status</th>\n",
              "      <th>status_date</th>\n",
              "      <th>test_examples</th>\n",
              "      <th>test_features</th>\n",
              "      <th>tokenizer_file</th>\n",
              "      <th>tpr</th>\n",
              "      <th>train_examples</th>\n",
              "      <th>train_features</th>\n",
              "      <th>train_time_min</th>\n",
              "    </tr>\n",
              "  </thead>\n",
              "  <tbody>\n",
              "    <tr>\n",
              "      <th>0</th>\n",
              "      <td>0.677591</td>\n",
              "      <td>{\"1\": {\"precision\": 0.5852581521739131, \"recal...</td>\n",
              "      <td>[[3446, 71, 158, 50, 243], [1141, 90, 287, 120...</td>\n",
              "      <td>amazon_reviews_us_Wireless_v1_00-preprocessed-...</td>\n",
              "      <td>300.0</td>\n",
              "      <td>32.59</td>\n",
              "      <td>drive/My Drive/Springboard/capstone/data/amazo...</td>\n",
              "      <td>{\"0\": [0.0, 0.0, 0.0, 4.159214740257039e-05, 4...</td>\n",
              "      <td>0.835665</td>\n",
              "      <td>186.0</td>\n",
              "      <td>drive/My Drive/Springboard/capstone/models/ama...</td>\n",
              "      <td>GRU_1layer</td>\n",
              "      <td>&lt;keras.callbacks.History object at 0x7f5403610...</td>\n",
              "      <td>32.59</td>\n",
              "      <td>{\"auc_1\": 0.9527249533513878, \"auc_2\": 0.86096...</td>\n",
              "      <td>success</td>\n",
              "      <td>2019-07-30 01:46:31</td>\n",
              "      <td>28011.0</td>\n",
              "      <td>186.0</td>\n",
              "      <td>&lt;keras_preprocessing.text.Tokenizer object at ...</td>\n",
              "      <td>{\"0\": [0.0, 0.00025201612903225806, 0.0078125,...</td>\n",
              "      <td>84032.0</td>\n",
              "      <td>186.0</td>\n",
              "      <td>32.59</td>\n",
              "    </tr>\n",
              "    <tr>\n",
              "      <th>1</th>\n",
              "      <td>0.666845</td>\n",
              "      <td>{\"1\": {\"precision\": 0.6141875505254648, \"recal...</td>\n",
              "      <td>[[3039, 150, 206, 95, 385], [892, 132, 293, 16...</td>\n",
              "      <td>review_body-word2vec5-111909-512-nolda-DNN_340...</td>\n",
              "      <td>word2vec</td>\n",
              "      <td>10.98</td>\n",
              "      <td>review_body-word2vec5-111909-512-nolda.csv</td>\n",
              "      <td>{\"0\": [0.0, 0.0, 0.0, 0.0, 0.0, 4.148861137617...</td>\n",
              "      <td>0.866301</td>\n",
              "      <td>512.0</td>\n",
              "      <td>drive/My Drive/Springboard/capstone/models/rev...</td>\n",
              "      <td>DNN_340_batchnorm</td>\n",
              "      <td>&lt;keras.callbacks.History object at 0x7f976c0f4...</td>\n",
              "      <td>10.98</td>\n",
              "      <td>{\"auc_1\": 0.9450905669619495, \"auc_2\": 0.84615...</td>\n",
              "      <td>success</td>\n",
              "      <td>2019-07-30 01:50:37</td>\n",
              "      <td>27978.0</td>\n",
              "      <td>512.0</td>\n",
              "      <td>NaN</td>\n",
              "      <td>{\"0\": [0.0, 0.00025806451612903227, 0.00103225...</td>\n",
              "      <td>83931.0</td>\n",
              "      <td>512.0</td>\n",
              "      <td>10.98</td>\n",
              "    </tr>\n",
              "    <tr>\n",
              "      <th>2</th>\n",
              "      <td>0.679019</td>\n",
              "      <td>{\"1\": {\"precision\": 0.6480066102045032, \"recal...</td>\n",
              "      <td>[[3137, 62, 476, 40, 253], [843, 60, 603, 132,...</td>\n",
              "      <td>amazon_reviews_us_Wireless_v1_00-preprocessed-...</td>\n",
              "      <td>300.0</td>\n",
              "      <td>8.79</td>\n",
              "      <td>drive/My Drive/Springboard/capstone/data/amazo...</td>\n",
              "      <td>{\"0\": [0.0, 0.0, 0.0, 4.159214740257039e-05, 4...</td>\n",
              "      <td>0.823435</td>\n",
              "      <td>186.0</td>\n",
              "      <td>drive/My Drive/Springboard/capstone/models/ama...</td>\n",
              "      <td>biGRU_1layer_attention</td>\n",
              "      <td>&lt;keras.callbacks.History object at 0x7f6df2f58...</td>\n",
              "      <td>8.79</td>\n",
              "      <td>{\"auc_1\": 0.9540099546947473, \"auc_2\": 0.86369...</td>\n",
              "      <td>success</td>\n",
              "      <td>2019-07-30 01:51:39</td>\n",
              "      <td>28011.0</td>\n",
              "      <td>186.0</td>\n",
              "      <td>&lt;keras_preprocessing.text.Tokenizer object at ...</td>\n",
              "      <td>{\"0\": [0.0, 0.00025201612903225806, 0.01058467...</td>\n",
              "      <td>84032.0</td>\n",
              "      <td>186.0</td>\n",
              "      <td>8.79</td>\n",
              "    </tr>\n",
              "    <tr>\n",
              "      <th>3</th>\n",
              "      <td>0.668990</td>\n",
              "      <td>{\"1\": {\"precision\": 0.6134569850039463, \"recal...</td>\n",
              "      <td>[[3109, 147, 201, 93, 325], [911, 128, 310, 19...</td>\n",
              "      <td>review_body-word2vec5-111909-512-nolda-DNN_384...</td>\n",
              "      <td>word2vec</td>\n",
              "      <td>17.84</td>\n",
              "      <td>review_body-word2vec5-111909-512-nolda.csv</td>\n",
              "      <td>{\"0\": [0.0, 0.0, 0.0, 0.0, 0.0, 4.148861137617...</td>\n",
              "      <td>0.846571</td>\n",
              "      <td>512.0</td>\n",
              "      <td>drive/My Drive/Springboard/capstone/models/rev...</td>\n",
              "      <td>DNN_384_384</td>\n",
              "      <td>&lt;keras.callbacks.History object at 0x7fab83bd1...</td>\n",
              "      <td>17.84</td>\n",
              "      <td>{\"auc_1\": 0.9488228396143968, \"auc_2\": 0.85419...</td>\n",
              "      <td>success</td>\n",
              "      <td>2019-07-30 01:58:04</td>\n",
              "      <td>27978.0</td>\n",
              "      <td>512.0</td>\n",
              "      <td>NaN</td>\n",
              "      <td>{\"0\": [0.0, 0.00025806451612903227, 0.00077419...</td>\n",
              "      <td>83931.0</td>\n",
              "      <td>512.0</td>\n",
              "      <td>17.84</td>\n",
              "    </tr>\n",
              "  </tbody>\n",
              "</table>\n",
              "</div>"
            ],
            "text/plain": [
              "   accuracy  ... train_time_min\n",
              "0  0.677591  ...          32.59\n",
              "1  0.666845  ...          10.98\n",
              "2  0.679019  ...           8.79\n",
              "3  0.668990  ...          17.84\n",
              "\n",
              "[4 rows x 24 columns]"
            ]
          },
          "metadata": {
            "tags": []
          },
          "execution_count": 24
        }
      ]
    },
    {
      "cell_type": "code",
      "metadata": {
        "id": "eD14sT0NbO6U",
        "colab_type": "code",
        "colab": {
          "base_uri": "https://localhost:8080/",
          "height": 34
        },
        "outputId": "d392939b-979f-4e0d-e857-a0f79ff0026f"
      },
      "source": [
        "print(datetime.now())"
      ],
      "execution_count": 25,
      "outputs": [
        {
          "output_type": "stream",
          "text": [
            "2019-07-30 01:58:25.017912\n"
          ],
          "name": "stdout"
        }
      ]
    },
    {
      "cell_type": "code",
      "metadata": {
        "id": "hCmPP8d6hOs_",
        "colab_type": "code",
        "colab": {}
      },
      "source": [
        ""
      ],
      "execution_count": 0,
      "outputs": []
    }
  ]
}