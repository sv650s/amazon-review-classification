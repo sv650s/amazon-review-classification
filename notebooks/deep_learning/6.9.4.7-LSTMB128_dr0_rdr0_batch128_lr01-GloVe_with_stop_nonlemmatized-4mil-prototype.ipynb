{
  "nbformat": 4,
  "nbformat_minor": 0,
  "metadata": {
    "colab": {
      "name": "6.9.4.7-LSTMB128_dr0_rdr0_batch128_lr01-GloVe_with_stop_nonlemmatized-4mil-prototype.ipynb",
      "provenance": [],
      "collapsed_sections": [],
      "machine_shape": "hm",
      "include_colab_link": true
    },
    "language_info": {
      "codemirror_mode": {
        "name": "ipython",
        "version": 3
      },
      "file_extension": ".py",
      "mimetype": "text/x-python",
      "name": "python",
      "nbconvert_exporter": "python",
      "pygments_lexer": "ipython3",
      "version": "3.7.3"
    },
    "kernelspec": {
      "name": "python3",
      "display_name": "Python 3"
    },
    "accelerator": "GPU"
  },
  "cells": [
    {
      "cell_type": "markdown",
      "metadata": {
        "id": "view-in-github",
        "colab_type": "text"
      },
      "source": [
        "<a href=\"https://colab.research.google.com/github/sv650s/amazon-review-classification/blob/master/notebooks/deep_learning/6.9.4.7-LSTMB128_dr0_rdr0_batch128_lr01-GloVe_with_stop_nonlemmatized-4mil-prototype.ipynb\" target=\"_parent\"><img src=\"https://colab.research.google.com/assets/colab-badge.svg\" alt=\"Open In Colab\"/></a>"
      ]
    },
    {
      "cell_type": "markdown",
      "metadata": {
        "id": "W7_sb1roJXhx",
        "colab_type": "text"
      },
      "source": [
        "# Pre-trained GloVe embedding using LSTM with 4mil samples without removing stop words\n",
        "\n",
        "In this notebook, we will LSTM with the following configuration\n",
        "\n",
        "* Glove embedding with 300 dimension vectors\n",
        "  * includes stop words\n",
        "  * words are not lemmatized\n",
        "* max sequence length of 100 words (this is same as what we've been doing)\n",
        "* 128 LSTM cells \n",
        "* dropout rate: 0\n",
        "* recurrent dropout rate: 0\n",
        "* learning rate of 0.01\n",
        "* batch size of 128\n",
        "* 20 epochs\n",
        "\n",
        "\n"
      ]
    },
    {
      "cell_type": "code",
      "metadata": {
        "id": "pF_xRedK9O1Q",
        "colab_type": "code",
        "outputId": "bd0d1169-c6b7-4eae-afae-d3b7d1bd58b2",
        "colab": {
          "base_uri": "https://localhost:8080/",
          "height": 50
        }
      },
      "source": [
        "from google.colab import drive\n",
        "drive.mount('/content/drive')\n",
        "\n",
        "import sys\n",
        "DRIVE_DIR = \"drive/My Drive/Springboard/capstone\"\n",
        "sys.path.append(DRIVE_DIR)\n",
        "\n",
        "\n",
        "%tensorflow_version 2.x\n",
        "\n",
        "\n",
        "import tensorflow as tf\n",
        "# checl to make sure we are using GPU here\n",
        "tf.test.gpu_device_name()"
      ],
      "execution_count": 1,
      "outputs": [
        {
          "output_type": "stream",
          "text": [
            "Drive already mounted at /content/drive; to attempt to forcibly remount, call drive.mount(\"/content/drive\", force_remount=True).\n"
          ],
          "name": "stdout"
        },
        {
          "output_type": "execute_result",
          "data": {
            "text/plain": [
              "'/device:GPU:0'"
            ]
          },
          "metadata": {
            "tags": []
          },
          "execution_count": 1
        }
      ]
    },
    {
      "cell_type": "code",
      "metadata": {
        "id": "SyhcVd4ec1sq",
        "colab_type": "code",
        "outputId": "47e29115-91fd-46c2-ddfe-71fe3408d816",
        "colab": {
          "base_uri": "https://localhost:8080/",
          "height": 326
        }
      },
      "source": [
        "# check what GPU we got\n",
        "gpu_info = !nvidia-smi\n",
        "gpu_info = '\\n'.join(gpu_info)\n",
        "if gpu_info.find('failed') >= 0:\n",
        "  print('Select the Runtime → \"Change runtime type\" menu to enable a GPU accelerator, ')\n",
        "  print('and then re-execute this cell.')\n",
        "else:\n",
        "  print(gpu_info)\n",
        "\n",
        "# check that we are using high RAM runtime\n",
        "from psutil import virtual_memory\n",
        "ram_gb = virtual_memory().total / 1e9\n",
        "print('Your runtime has {:.1f} gigabytes of available RAM\\n'.format(ram_gb))\n",
        "\n",
        "if ram_gb < 20:\n",
        "  print('To enable a high-RAM runtime, select the Runtime → \"Change runtime type\"')\n",
        "  print('menu, and then select High-RAM in the Runtime shape dropdown. Then, ')\n",
        "  print('re-execute this cell.')\n",
        "else:\n",
        "  print('You are using a high-RAM runtime!')"
      ],
      "execution_count": 2,
      "outputs": [
        {
          "output_type": "stream",
          "text": [
            "Fri May 29 05:27:11 2020       \n",
            "+-----------------------------------------------------------------------------+\n",
            "| NVIDIA-SMI 440.82       Driver Version: 418.67       CUDA Version: 10.1     |\n",
            "|-------------------------------+----------------------+----------------------+\n",
            "| GPU  Name        Persistence-M| Bus-Id        Disp.A | Volatile Uncorr. ECC |\n",
            "| Fan  Temp  Perf  Pwr:Usage/Cap|         Memory-Usage | GPU-Util  Compute M. |\n",
            "|===============================+======================+======================|\n",
            "|   0  Tesla P100-PCIE...  Off  | 00000000:00:04.0 Off |                    0 |\n",
            "| N/A   48C    P0    35W / 250W |    353MiB / 16280MiB |      0%      Default |\n",
            "+-------------------------------+----------------------+----------------------+\n",
            "                                                                               \n",
            "+-----------------------------------------------------------------------------+\n",
            "| Processes:                                                       GPU Memory |\n",
            "|  GPU       PID   Type   Process name                             Usage      |\n",
            "|=============================================================================|\n",
            "+-----------------------------------------------------------------------------+\n",
            "Your runtime has 27.4 gigabytes of available RAM\n",
            "\n",
            "You are using a high-RAM runtime!\n"
          ],
          "name": "stdout"
        }
      ]
    },
    {
      "cell_type": "code",
      "metadata": {
        "id": "pAHGtniuJXhy",
        "colab_type": "code",
        "outputId": "e8575964-22ad-4512-9524-1c6ca961bc3c",
        "colab": {
          "base_uri": "https://localhost:8080/",
          "height": 70
        }
      },
      "source": [
        "from __future__ import absolute_import, division, print_function, unicode_literals\n",
        "\n",
        "\n",
        "from tensorflow.keras.models import Sequential\n",
        "from tensorflow.keras.layers import Dense, Activation, Dropout\n",
        "from tensorflow.keras.layers import BatchNormalization\n",
        "from tensorflow.keras.callbacks import EarlyStopping, ReduceLROnPlateau\n",
        "from tensorflow.keras.models import load_model\n",
        "from tensorflow.keras.optimizers import SGD, Adam\n",
        "from tensorflow.keras.layers import Conv1D, MaxPooling1D, Embedding, \\\n",
        "    SpatialDropout1D, Flatten, LSTM\n",
        "from tensorflow.keras.preprocessing.text import Tokenizer\n",
        "from tensorflow.keras.preprocessing import sequence\n",
        "from tensorflow.keras.utils import model_to_dot\n",
        "from tensorflow.keras.initializers import Constant\n",
        "\n",
        "\n",
        "from sklearn.model_selection import train_test_split\n",
        "from sklearn.preprocessing import OneHotEncoder\n",
        "from sklearn.preprocessing import LabelEncoder\n",
        "from sklearn.metrics import confusion_matrix, classification_report\n",
        "from sklearn.utils.class_weight import compute_class_weight\n",
        "\n",
        "\n",
        "import pandas as pd\n",
        "import numpy as np\n",
        "from IPython.display import SVG\n",
        "import pickle\n",
        "from datetime import datetime\n",
        "import matplotlib.pyplot as plt\n",
        "import seaborn as sns\n",
        "import os\n",
        "import logging\n",
        "\n",
        "\n",
        "import util.dict_util as du\n",
        "import util.plot_util as pu\n",
        "import util.file_util as fu\n",
        "import util.keras_util as ku\n",
        "import util.report_util as ru\n",
        "\n",
        "import random\n",
        "\n",
        "# fix random seeds\n",
        "tf.compat.v1.reset_default_graph()\n",
        "tf.compat.v1.set_random_seed(1)\n",
        "random.seed(1)\n",
        "np.random.seed(1)\n",
        "\n",
        "logging.basicConfig(level=logging.ERROR)\n",
        "\n",
        "%matplotlib inline\n",
        "sns.set()\n",
        "\n",
        "\n",
        "DATE_FORMAT = '%Y-%m-%d'\n",
        "TIME_FORMAT = '%Y-%m-%d %H:%M:%S'\n",
        "LABEL_COLUMN = \"star_rating\"\n",
        "FEATURE_COLUMN = \"review_body\"\n",
        "\n",
        "\n",
        "DEBUG = False\n",
        "\n",
        "\n",
        "LSTM_DIM = 128 # total LSTM units\n",
        "# length of our embedding - 300 is standard\n",
        "EMBED_SIZE = 300\n",
        "EPOCHS  = 20\n",
        "BATCH_SIZE = 128\n",
        "LEARNING_RATE = 0.01\n",
        "DROPOUT_RATE = 0.0\n",
        "RECURRENT_DROPOUT_RATE = 0.0\n",
        "PATIENCE = 6\n",
        "BIDIRECTIONAL = False\n",
        "BALANCE_CLASS_WEIGHTS = True\n",
        "TRAIN_EMBEDDINGS = False\n",
        "MODEL_VERSION = 1\n",
        "PLATEAU_PATIENCE = 3\n",
        "ENVIRONMENT = \"6.9.4.7-LSTMB128_dr0_rdr0_batch128_lr01-GloVe_with_stop_nonlemmatized-4mil-prototype.ipynb\"\n",
        "\n",
        "SAMPLES = \"4m\"\n",
        "FEATURE_SET_NAME = \"glove_with_stop_nonlemmatized\"\n",
        "\n",
        "\n",
        "# From EDA, we know that 90% of review bodies have 100 words or less, \n",
        "# we will use this as our sequence length\n",
        "MAX_SEQUENCE_LENGTH = 100\n",
        "\n",
        "if BIDIRECTIONAL:\n",
        "  bidirectional_name = \"bi\"\n",
        "else:\n",
        "  bidirectional_name = \"\"\n",
        "\n",
        "if BALANCE_CLASS_WEIGHTS:\n",
        "  balanced_name = \"B\"\n",
        "else:\n",
        "  balanced_name = \"\"\n",
        "\n",
        "MODEL_NAME = f\"{bidirectional_name}LSTM{balanced_name}{LSTM_DIM}\"\n",
        "ARCHITECTURE = f\"1x{LSTM_DIM}\"\n",
        "DESCRIPTION = f\"1 Layer {LSTM_DIM} LSTM Units, Dropout {DROPOUT_RATE}, Recurrent Dropout {RECURRENT_DROPOUT_RATE}, Batch Size {BATCH_SIZE}, Learning Rate {LEARNING_RATE}\"\n",
        "\n",
        "REPORT_FILE = f\"{MODEL_NAME}_\" \\\n",
        "              f\"dr{ku.get_decimal_str(DROPOUT_RATE)}_\" \\\n",
        "              f\"rdr{ku.get_decimal_str(RECURRENT_DROPOUT_RATE)}_\" \\\n",
        "              f\"batch{BATCH_SIZE}_\" \\\n",
        "              f\"lr{ku.get_decimal_str(LEARNING_RATE)}-{FEATURE_SET_NAME}-dl_prototype-report.csv\"\n",
        "\n",
        "if DEBUG:\n",
        "  DATA_FILE = f'{DRIVE_DIR}/data/amazon_reviews_us_Wireless_v1_00-test-preprocessed.csv'\n",
        "  MODEL_NAME = f'test-{MODEL_NAME}'\n",
        "  MISSING_WORDS_FILE = f'{DRIVE_DIR}/reports/glove_embedding-missing_words-test.csv'\n",
        "  ku.ModelWrapper.set_report_filename(f\"test-{REPORT_FILE}\")\n",
        "\n",
        "else:\n",
        "  DATA_FILE = f\"{DRIVE_DIR}/data/amazon_reviews_us_Wireless_v1_00-{SAMPLES}-with_stop_nonlemmatized-preprocessed.csv\"\n",
        "  MISSING_WORDS_FILE = f'{DRIVE_DIR}/reports/glove_embedding-missing_words-{SAMPLES}.csv'\n",
        "  ku.ModelWrapper.set_report_filename(REPORT_FILE)\n",
        "\n",
        "\n",
        "EMBEDDING_FILE = f'{DRIVE_DIR}/data/embeddings/glove.840B.300d.txt'\n",
        "\n",
        "start_time = datetime.now()\n",
        "\n",
        "\n",
        "\n"
      ],
      "execution_count": 3,
      "outputs": [
        {
          "output_type": "stream",
          "text": [
            "/usr/local/lib/python3.6/dist-packages/statsmodels/tools/_testing.py:19: FutureWarning: pandas.util.testing is deprecated. Use the functions in the public API at pandas.testing instead.\n",
            "  import pandas.util.testing as tm\n"
          ],
          "name": "stderr"
        }
      ]
    },
    {
      "cell_type": "code",
      "metadata": {
        "hide_input": false,
        "id": "k6fwJp9OJXh5",
        "colab_type": "code",
        "colab": {}
      },
      "source": [
        "df = pd.read_csv(DATA_FILE)\n",
        "\n",
        "rating = df[LABEL_COLUMN]\n",
        "reviews = df[FEATURE_COLUMN]"
      ],
      "execution_count": 0,
      "outputs": []
    },
    {
      "cell_type": "code",
      "metadata": {
        "id": "GKdUpCsshGk8",
        "colab_type": "code",
        "colab": {}
      },
      "source": [
        ""
      ],
      "execution_count": 0,
      "outputs": []
    },
    {
      "cell_type": "code",
      "metadata": {
        "id": "rMdM2TS7hGgc",
        "colab_type": "code",
        "colab": {}
      },
      "source": [
        ""
      ],
      "execution_count": 0,
      "outputs": []
    },
    {
      "cell_type": "code",
      "metadata": {
        "id": "kHMW5sNShGce",
        "colab_type": "code",
        "colab": {}
      },
      "source": [
        ""
      ],
      "execution_count": 0,
      "outputs": []
    },
    {
      "cell_type": "code",
      "metadata": {
        "id": "HvcwW1AmhGNU",
        "colab_type": "code",
        "colab": {}
      },
      "source": [
        ""
      ],
      "execution_count": 0,
      "outputs": []
    },
    {
      "cell_type": "markdown",
      "metadata": {
        "id": "EBQR0ZpoOiQk",
        "colab_type": "text"
      },
      "source": [
        "# Preprocessing"
      ]
    },
    {
      "cell_type": "code",
      "metadata": {
        "id": "_g2Wm80MCgGZ",
        "colab_type": "code",
        "colab": {}
      },
      "source": [
        ""
      ],
      "execution_count": 0,
      "outputs": []
    },
    {
      "cell_type": "code",
      "metadata": {
        "id": "lytdvF4neJ4r",
        "colab_type": "code",
        "outputId": "567c377c-215d-429f-b01c-d6b6fc2750d5",
        "colab": {
          "base_uri": "https://localhost:8080/",
          "height": 66
        }
      },
      "source": [
        "\n",
        "\n",
        "# pre-process our lables\n",
        "# one hot encode our star ratings since Keras/TF requires this for the labels\n",
        "y = OneHotEncoder().fit_transform(rating.values.reshape(len(rating), 1)).toarray()\n",
        "\n",
        "\n",
        "# split our data into train and test sets\n",
        "reviews_train, reviews_test, y_train, y_test = train_test_split(reviews, y, random_state=1)\n",
        "\n",
        "\n",
        "# Pre-process our features (review body)\n",
        "t = Tokenizer(oov_token=\"<UNK>\")\n",
        "# fit the tokenizer on the documents\n",
        "t.fit_on_texts(reviews_train)\n",
        "# tokenize both our training and test data\n",
        "train_sequences = t.texts_to_sequences(reviews_train)\n",
        "test_sequences = t.texts_to_sequences(reviews_test)\n",
        "\n",
        "print(\"Vocabulary size={}\".format(len(t.word_counts)))\n",
        "print(\"Number of Documents={}\".format(t.document_count))\n",
        "\n",
        "\n",
        "# pad our reviews to the max sequence length\n",
        "X_train = sequence.pad_sequences(train_sequences, maxlen=MAX_SEQUENCE_LENGTH)\n",
        "X_test = sequence.pad_sequences(test_sequences, maxlen=MAX_SEQUENCE_LENGTH)\n",
        "\n",
        "print('Train review vectors shape:', X_train.shape, ' Test review vectors shape:', X_test.shape)\n"
      ],
      "execution_count": 5,
      "outputs": [
        {
          "output_type": "stream",
          "text": [
            "Vocabulary size=282132\n",
            "Number of Documents=3366993\n",
            "Train review vectors shape: (3366993, 100)  Test review vectors shape: (1122331, 100)\n"
          ],
          "name": "stdout"
        }
      ]
    },
    {
      "cell_type": "markdown",
      "metadata": {
        "id": "TgorpmIPnQH9",
        "colab_type": "text"
      },
      "source": [
        "## Load our pre-trained embedding\n",
        "\n",
        "embeddings_index will be a map where key == word, value == the embedding vector"
      ]
    },
    {
      "cell_type": "code",
      "metadata": {
        "id": "5j7D7LLinP0r",
        "colab_type": "code",
        "outputId": "30189f67-d51e-45aa-9c08-388a738a54d2",
        "colab": {
          "base_uri": "https://localhost:8080/",
          "height": 82
        }
      },
      "source": [
        "\n",
        "EMBEDDING_INDEX_FILE = f'{DRIVE_DIR}/models/glove.840B.300d-embedding_index'\n",
        "\n",
        "embeddings_index = {}\n",
        "\n",
        "if os.path.exists(f'{EMBEDDING_INDEX_FILE}.npy'):\n",
        "  print(f'Loading {EMBEDDING_INDEX_FILE}.npy')\n",
        "  embeddings_index = np.load(f'{EMBEDDING_INDEX_FILE}.npy', \n",
        "                             allow_pickle = True).item()\n",
        "else:\n",
        "  print('Indexing word vectors.')\n",
        "\n",
        "  with open(EMBEDDING_FILE) as f:\n",
        "      for line in f:\n",
        "          word, coefs = line.split(maxsplit=1)\n",
        "          coefs = np.fromstring(coefs, 'f', sep=' ')\n",
        "          embeddings_index[word] = coefs\n",
        "  np.save(EMBEDDING_INDEX_FILE, embeddings_index)\n",
        "\n",
        "print(type(embeddings_index))\n",
        "print(np.shape(embeddings_index))\n",
        "print('Found %s word vectors.' % len(embeddings_index))\n",
        "\n",
        "\n"
      ],
      "execution_count": 6,
      "outputs": [
        {
          "output_type": "stream",
          "text": [
            "Loading drive/My Drive/Springboard/capstone/models/glove.840B.300d-embedding_index.npy\n",
            "<class 'dict'>\n",
            "()\n",
            "Found 2195884 word vectors.\n"
          ],
          "name": "stdout"
        }
      ]
    },
    {
      "cell_type": "code",
      "metadata": {
        "id": "pchOfR6qnPxB",
        "colab_type": "code",
        "colab": {}
      },
      "source": [
        ""
      ],
      "execution_count": 0,
      "outputs": []
    },
    {
      "cell_type": "code",
      "metadata": {
        "id": "G7L7HL6EnPtA",
        "colab_type": "code",
        "colab": {}
      },
      "source": [
        ""
      ],
      "execution_count": 0,
      "outputs": []
    },
    {
      "cell_type": "markdown",
      "metadata": {
        "id": "rYvqmy4xmQWD",
        "colab_type": "text"
      },
      "source": [
        "## Create Embedding Matrix based on our tokenizer\n",
        "\n",
        "For every word in our vocabulary, we will look up the embedding vector and add the it to our embedding matrix\n",
        "\n",
        "The matrix will be passed in as weights in our embedding layer later\n",
        "\n",
        "If there is word that does not exist in the pre-trained embedding vocabulary, we will leave the weights as 0 vector and save off the word into a CSV file later for analysis"
      ]
    },
    {
      "cell_type": "code",
      "metadata": {
        "id": "bIrMqj-HmPwk",
        "colab_type": "code",
        "outputId": "a9ed931d-0f2a-48a5-b306-b910c3ccbaf5",
        "colab": {
          "base_uri": "https://localhost:8080/",
          "height": 66
        }
      },
      "source": [
        "# this is a map with key == word, value == index in the vocabulary\n",
        "word_index = t.word_index\n",
        "print(f'word_index length: {len(word_index)}')\n",
        "\n",
        "# we are going to use the entire vocab so we can alter this from the example\n",
        "# num_words = min(MAX_NUM_WORDS, len(word_index) + 1)\n",
        "\n",
        "# start with a matrix of 0's\n",
        "embedding_matrix = np.zeros((len(word_index) + 1, EMBED_SIZE))\n",
        "\n",
        "# if a word doesn't exist in our vocabulary, let's save it off\n",
        "missing_words = []\n",
        "print(f'embedding_matrix shape: {np.shape(embedding_matrix)}')\n",
        "for word, i in word_index.items():\n",
        "    # print(f'word: {word} i: {i}')\n",
        "    embedding_vector = embeddings_index.get(word)\n",
        "    if embedding_vector is not None and np.shape(embedding_vector)[0] == EMBED_SIZE:\n",
        "        # words not found in embedding index will be all-zeros.\n",
        "        # print(f'i: {i} embedding_vector shape: {np.shape(embedding_vector)}')\n",
        "        embedding_matrix[i] = embedding_vector\n",
        "    else:\n",
        "      missing_words.append(word)\n",
        "\n",
        "print(f'Number of missing words from our vocabulary: {len(missing_words)}')\n",
        "\n"
      ],
      "execution_count": 7,
      "outputs": [
        {
          "output_type": "stream",
          "text": [
            "word_index length: 282133\n",
            "embedding_matrix shape: (282134, 300)\n",
            "Number of missing words from our vocabulary: 164935\n"
          ],
          "name": "stdout"
        }
      ]
    },
    {
      "cell_type": "markdown",
      "metadata": {
        "id": "TIw5aJS8trK-",
        "colab_type": "text"
      },
      "source": [
        "Save off our missing words into a csv file so we can analyze this later"
      ]
    },
    {
      "cell_type": "code",
      "metadata": {
        "id": "XN1Vr2oSto2f",
        "colab_type": "code",
        "colab": {}
      },
      "source": [
        "# save missing words into a file so we can analyze it later\n",
        "missing_words_df = pd.DataFrame(missing_words).sort_values(0)\n",
        "missing_words_df.to_csv(MISSING_WORDS_FILE, index=False)"
      ],
      "execution_count": 0,
      "outputs": []
    },
    {
      "cell_type": "markdown",
      "metadata": {
        "id": "6hWLBCjqucDJ",
        "colab_type": "text"
      },
      "source": [
        "**Build LSTM Model Architecture**"
      ]
    },
    {
      "cell_type": "code",
      "metadata": {
        "scrolled": false,
        "id": "60eC_0fRJXiQ",
        "colab_type": "code",
        "outputId": "5721c216-353f-4f49-bac2-ee78b98d1897",
        "colab": {
          "base_uri": "https://localhost:8080/",
          "height": 1000
        }
      },
      "source": [
        "vocab_size = len(t.word_index)+1\n",
        "\n",
        "# reduce learning rate if we sense a plateau\n",
        "reduce_lr = ReduceLROnPlateau(monitor='val_loss', \n",
        "                              restore_best_weights=True,\n",
        "                              factor = 0.5,\n",
        "                              patience = PLATEAU_PATIENCE,\n",
        "                              verbose = 1)\n",
        "\n",
        "early_stop = EarlyStopping(monitor='val_loss', \n",
        "                           patience=PATIENCE, \n",
        "                           verbose=1,\n",
        "                           restore_best_weights=True)\n",
        "\n",
        "mw = ku.LSTM1LayerModelWrapper(\n",
        "                        lstm_dim = LSTM_DIM, # LSTM dim - LSTM1LyerModelWrapper\n",
        "                          dropout_rate = DROPOUT_RATE, # dropout rate - LSTM1LyerModelWrapper\n",
        "                          recurrent_dropout_rate = RECURRENT_DROPOUT_RATE, # recurrent dropout rate - LSTM1LyerModelWrapper\n",
        "                          bidirectional = BIDIRECTIONAL, # bidirectional - LSTM1LyerModelWrapper\n",
        "                          vocab_size = vocab_size,       # vocab size - EmbeddingModelWrapper\n",
        "                          max_sequence_length = MAX_SEQUENCE_LENGTH, # max sequence length - EmbeddingModelWrapper\n",
        "                          embed_size = EMBED_SIZE, # embed size - EmbeddingModelWrapper\n",
        "                        train_embeddings  =  TRAIN_EMBEDDINGS, # trainable embedding - EmbeddingModelWrapper\n",
        "                        embedding_matrix = embedding_matrix, # embedding matrix weights - EmbeddingModelWrapper\n",
        "                        model_name = MODEL_NAME, # model name - ModelWrapper\n",
        "                        architecture = ARCHITECTURE, # architecture - ModelWrapper\n",
        "                        feature_set_name = FEATURE_SET_NAME, # feature_set_name - ModelWrapper\n",
        "                        label_column = LABEL_COLUMN, # label_column - ModelWrapper\n",
        "                        feature_column = FEATURE_COLUMN, # feature_column - ModelWrapper\n",
        "                        data_file = DATA_FILE, # data file - ModelWrapper\n",
        "                        sample_size_str = SAMPLES, # sample size\n",
        "                        tokenizer = t, # tokenizer - ModelWrapper\n",
        "                        description = DESCRIPTION, #description - ModelWrapper\n",
        "                        optimizer_name = \"Adam\", # string optimizer name\n",
        "                        learning_rate = LEARNING_RATE, # learning rate - ModelWrapper\n",
        "                        # TODO: this should be in fit instead but need it to define name for the\n",
        "                        # checkpoint location - move later\n",
        "                        batch_size = BATCH_SIZE, # batch size - ModelWrapper\n",
        "                        model_version= MODEL_VERSION, # model version - ModelWrapper\n",
        "                        save_dir = DRIVE_DIR # where to save outputs - ModelWrapper\n",
        ")\n",
        "\n",
        "mw.add(\"environment\", ENVIRONMENT)\n",
        "mw.add(\"patience\", PATIENCE)\n",
        "mw.add(\"plateau_patience\", PLATEAU_PATIENCE)\n",
        "\n",
        "\n",
        "network_history = mw.fit(X_train, y_train,\n",
        "                      epochs = EPOCHS,\n",
        "                      verbose = 1,\n",
        "                      validation_split = 0.2,\n",
        "                      balance_class_weights = BALANCE_CLASS_WEIGHTS,\n",
        "                      callbacks=[early_stop, reduce_lr])\n",
        "\n"
      ],
      "execution_count": 9,
      "outputs": [
        {
          "output_type": "stream",
          "text": [
            "Model: \"sequential\"\n",
            "_________________________________________________________________\n",
            "Layer (type)                 Output Shape              Param #   \n",
            "=================================================================\n",
            "embedding (Embedding)        (None, 100, 300)          84640200  \n",
            "_________________________________________________________________\n",
            "lstm (LSTM)                  (None, 128)               219648    \n",
            "_________________________________________________________________\n",
            "dense (Dense)                (None, 5)                 645       \n",
            "=================================================================\n",
            "Total params: 84,860,493\n",
            "Trainable params: 220,293\n",
            "Non-trainable params: 84,640,200\n",
            "_________________________________________________________________\n",
            "Build model:\n",
            "None\n",
            "Starting training on model:\n",
            "\n",
            "ModelWrapper parameters:\n",
            "\ttf_version:\t\t\t2.2.0\n",
            "\tmodel_name:\t\t\tLSTMB128\n",
            "\tdescription:\t\t\t1 Layer 128 LSTM Units, Dropout 0.0, Recurrent Dropout 0.0, Batch Size 128, Learning Rate 0.01\n",
            "\tarchitecture:\t\t\t1x128\n",
            "\tfeature_set_name:\t\tglove_with_stop_nonlemmatized\n",
            "\tlabel_column:\t\t\tstar_rating\n",
            "\tfeature_column:\t\t\treview_body\n",
            "\tdata_file:\t\t\tdrive/My Drive/Springboard/capstone/data/amazon_reviews_us_Wireless_v1_00-4m-with_stop_nonlemmatized-preprocessed.csv\n",
            "\tbatch_size:\t\t\t128\n",
            "\tsample_size:\t\t\t4m\n",
            "\tsampling_type:\t\t\tnone\n",
            "\ttokenizer:\t\t\t<keras_preprocessing.text.Tokenizer object at 0x7f27fa019b00>\n",
            "\tsave_weights:\t\t\tTrue\n",
            "\toptimizer:\t\t\tAdam\n",
            "\tlearning_rate:\t\t\t0.01\n",
            "\tversion:\t\t\t1\n",
            "\tsave_dir:\t\t\tdrive/My Drive/Springboard/capstone\n",
            "\tload_model_file:\t\t\tNone\n",
            "\n",
            "\tReport Output:\n",
            "\t\treport_file:\t\t\tdrive/My Drive/Springboard/capstone/reports/LSTMB128_dr0_rdr0_batch128_lr01-glove_with_stop_nonlemmatized-dl_prototype-report.csv\n",
            "\n",
            "\tModel Output:\n",
            "\t\ttokenizer_file:\t\t\tdrive/My Drive/Springboard/capstone/models/LSTMB128-1x128-dr0-rdr0-batch128-lr01-glove_with_stop_nonlemmatized-sampling_none-4m-review_body-tf2-2-0-v1/LSTMB128-1x128-dr0-rdr0-batch128-lr01-glove_with_stop_nonlemmatized-sampling_none-4m-review_body-tf2-2-0-v1-tokenizer.pkl\n",
            "\t\tsave_json:\t\t\tTrue\n",
            "\t\tsave_savedmodel:\t\tFalse\n",
            "\t\tsave_h5:\t\t\tFalse\n",
            "\t\tcheckpoint_file:\t\tdrive/My Drive/Springboard/capstone/models/LSTMB128-1x128-dr0-rdr0-batch128-lr01-glove_with_stop_nonlemmatized-sampling_none-4m-review_body-tf2-2-0-v1/checkpoints\n",
            "\t\tmodel_json_file:\t\tdrive/My Drive/Springboard/capstone/models/LSTMB128-1x128-dr0-rdr0-batch128-lr01-glove_with_stop_nonlemmatized-sampling_none-4m-review_body-tf2-2-0-v1/LSTMB128-1x128-dr0-rdr0-batch128-lr01-glove_with_stop_nonlemmatized-sampling_none-4m-review_body-tf2-2-0-v1-model.json\n",
            "\t\tweights_file:\t\t\tdrive/My Drive/Springboard/capstone/models/LSTMB128-1x128-dr0-rdr0-batch128-lr01-glove_with_stop_nonlemmatized-sampling_none-4m-review_body-tf2-2-0-v1/LSTMB128-1x128-dr0-rdr0-batch128-lr01-glove_with_stop_nonlemmatized-sampling_none-4m-review_body-tf2-2-0-v1-weights.h5\n",
            "\n",
            "\n",
            "EmbeddingModelWrapper parameters:\n",
            "\tvocab_size:\t\t\t282134\n",
            "\tembed_size:\t\t\t300\n",
            "\tmax_sequence_length:\t\t100\n",
            "\ttrain_embeddings:\t\tFalse\n",
            "\tembedding_matrix_shape:\t\t(282134, 300)\n",
            "\n",
            "LSTM1LayerModelWrapper parameters:\n",
            "\tlstm_dim:\t\t\t128\n",
            "\tbidirectional:\t\t\tFalse\n",
            "\tdropout_rate:\t\t\t0.0\n",
            "\trecurrent_dropout_rate:\t\t0.0\n",
            "\n",
            "Epoch 1/20\n",
            "21044/21044 [==============================] - 325s 15ms/step - loss: 1.0511 - categorical_accuracy: 0.6239 - val_loss: 0.8645 - val_categorical_accuracy: 0.6487 - lr: 0.0100\n",
            "Epoch 2/20\n",
            "21044/21044 [==============================] - 324s 15ms/step - loss: 1.0270 - categorical_accuracy: 0.6330 - val_loss: 0.9016 - val_categorical_accuracy: 0.6390 - lr: 0.0100\n",
            "Epoch 3/20\n",
            "21044/21044 [==============================] - 321s 15ms/step - loss: 1.0247 - categorical_accuracy: 0.6345 - val_loss: 0.8807 - val_categorical_accuracy: 0.6486 - lr: 0.0100\n",
            "Epoch 4/20\n",
            "21044/21044 [==============================] - 322s 15ms/step - loss: 1.0227 - categorical_accuracy: 0.6353 - val_loss: 0.8574 - val_categorical_accuracy: 0.6539 - lr: 0.0100\n",
            "Epoch 5/20\n",
            "21044/21044 [==============================] - 321s 15ms/step - loss: 1.0233 - categorical_accuracy: 0.6346 - val_loss: 0.8955 - val_categorical_accuracy: 0.6306 - lr: 0.0100\n",
            "Epoch 6/20\n",
            "21044/21044 [==============================] - 322s 15ms/step - loss: 1.0302 - categorical_accuracy: 0.6298 - val_loss: 0.9048 - val_categorical_accuracy: 0.6317 - lr: 0.0100\n",
            "Epoch 7/20\n",
            "21044/21044 [==============================] - ETA: 0s - loss: 1.0306 - categorical_accuracy: 0.6287\n",
            "Epoch 00007: ReduceLROnPlateau reducing learning rate to 0.004999999888241291.\n",
            "21044/21044 [==============================] - 322s 15ms/step - loss: 1.0306 - categorical_accuracy: 0.6287 - val_loss: 0.9287 - val_categorical_accuracy: 0.6113 - lr: 0.0100\n",
            "Epoch 8/20\n",
            "21044/21044 [==============================] - 321s 15ms/step - loss: 1.0123 - categorical_accuracy: 0.6387 - val_loss: 0.8906 - val_categorical_accuracy: 0.6338 - lr: 0.0050\n",
            "Epoch 9/20\n",
            "21044/21044 [==============================] - 324s 15ms/step - loss: 1.0050 - categorical_accuracy: 0.6415 - val_loss: 0.8554 - val_categorical_accuracy: 0.6535 - lr: 0.0050\n",
            "Epoch 10/20\n",
            "21044/21044 [==============================] - 323s 15ms/step - loss: 1.0008 - categorical_accuracy: 0.6428 - val_loss: 0.8708 - val_categorical_accuracy: 0.6500 - lr: 0.0050\n",
            "Epoch 11/20\n",
            "21044/21044 [==============================] - 323s 15ms/step - loss: 0.9967 - categorical_accuracy: 0.6447 - val_loss: 0.8657 - val_categorical_accuracy: 0.6470 - lr: 0.0050\n",
            "Epoch 12/20\n",
            "21043/21044 [============================>.] - ETA: 0s - loss: 0.9960 - categorical_accuracy: 0.6446\n",
            "Epoch 00012: ReduceLROnPlateau reducing learning rate to 0.0024999999441206455.\n",
            "21044/21044 [==============================] - 323s 15ms/step - loss: 0.9960 - categorical_accuracy: 0.6446 - val_loss: 0.8619 - val_categorical_accuracy: 0.6514 - lr: 0.0050\n",
            "Epoch 13/20\n",
            "21044/21044 [==============================] - 322s 15ms/step - loss: 0.9876 - categorical_accuracy: 0.6483 - val_loss: 0.8736 - val_categorical_accuracy: 0.6423 - lr: 0.0025\n",
            "Epoch 14/20\n",
            "21044/21044 [==============================] - 322s 15ms/step - loss: 0.9836 - categorical_accuracy: 0.6503 - val_loss: 0.8639 - val_categorical_accuracy: 0.6509 - lr: 0.0025\n",
            "Epoch 15/20\n",
            "21042/21044 [============================>.] - ETA: 0s - loss: 0.9809 - categorical_accuracy: 0.6510Restoring model weights from the end of the best epoch.\n",
            "\n",
            "Epoch 00015: ReduceLROnPlateau reducing learning rate to 0.0012499999720603228.\n",
            "21044/21044 [==============================] - 323s 15ms/step - loss: 0.9809 - categorical_accuracy: 0.6510 - val_loss: 0.8803 - val_categorical_accuracy: 0.6381 - lr: 0.0025\n",
            "Epoch 00015: early stopping\n",
            "Total training time: 80.79 mins\n"
          ],
          "name": "stdout"
        }
      ]
    },
    {
      "cell_type": "code",
      "metadata": {
        "id": "9ODVYfOYzZ-K",
        "colab_type": "code",
        "outputId": "b557fb5b-5872-40e1-fee2-8f444ea13d4d",
        "colab": {
          "base_uri": "https://localhost:8080/",
          "height": 460
        }
      },
      "source": [
        "scores = mw.evaluate(X_test, y_test)\n",
        "print(\"Training Accuracy: %.2f%%\" % (mw.train_scores[1]*100))\n",
        "print(\"Test Accuracy: %.2f%%\" % (mw.test_scores[1]*100))\n",
        "print(f'Training Score: {ru.calculate_metric(mw.train_crd)}')\n",
        "print(f'Test Score: {ru.calculate_metric(mw.test_crd)}')\n",
        "mw.save(append_report=True)"
      ],
      "execution_count": 10,
      "outputs": [
        {
          "output_type": "stream",
          "text": [
            "Number of test: 1122331\n",
            "Running model.evaluate on test set...\n",
            "35073/35073 [==============================] - 196s 6ms/step - loss: 0.8535 - categorical_accuracy: 0.6541\n",
            "Running model.predict on test set...\n",
            "Unencode test set predictions...\n",
            "Generating test set confusion matrix...\n",
            "Calculating test set ROC AUC...\n",
            "(1122331, 5)\n",
            "Getting test set classification report...\n",
            "Running model.evaluate on training set...\n",
            "105219/105219 [==============================] - 585s 6ms/step - loss: 0.8494 - categorical_accuracy: 0.6561\n",
            "Running model.predict on training set...\n",
            "Unencode training set predictions...\n",
            "Generating training set confusion matrix...\n",
            "Calculating training set ROC AUC...\n",
            "(3366993, 5)\n",
            "Getting training set classification report...\n",
            "Training Accuracy: 65.61%\n",
            "Test Accuracy: 65.41%\n",
            "Training Score: 0.52163358559363\n",
            "Test Score: 0.5171913197951477\n",
            "Saving to report file: drive/My Drive/Springboard/capstone/reports/LSTMB128_dr0_rdr0_batch128_lr01-glove_with_stop_nonlemmatized-dl_prototype-report.csv\n",
            "Loading to append to: drive/My Drive/Springboard/capstone/reports/LSTMB128_dr0_rdr0_batch128_lr01-glove_with_stop_nonlemmatized-dl_prototype-report.csv\n",
            "Saving report file...\n",
            "Saving json config file: drive/My Drive/Springboard/capstone/models/LSTMB128-1x128-dr0-rdr0-batch128-lr01-glove_with_stop_nonlemmatized-sampling_none-4m-review_body-tf2-2-0-v1/LSTMB128-1x128-dr0-rdr0-batch128-lr01-glove_with_stop_nonlemmatized-sampling_none-4m-review_body-tf2-2-0-v1-model.json\n",
            "Saving weights file: drive/My Drive/Springboard/capstone/models/LSTMB128-1x128-dr0-rdr0-batch128-lr01-glove_with_stop_nonlemmatized-sampling_none-4m-review_body-tf2-2-0-v1/LSTMB128-1x128-dr0-rdr0-batch128-lr01-glove_with_stop_nonlemmatized-sampling_none-4m-review_body-tf2-2-0-v1-weights.h5\n"
          ],
          "name": "stdout"
        }
      ]
    },
    {
      "cell_type": "code",
      "metadata": {
        "id": "2VHBrsPjJXiS",
        "colab_type": "code",
        "outputId": "b1531819-662d-4a6a-949c-9e60b22971ed",
        "colab": {
          "base_uri": "https://localhost:8080/",
          "height": 1000
        }
      },
      "source": [
        "\n",
        "\n",
        "pu.plot_network_history(mw.network_history, \"categorical_accuracy\", \"val_categorical_accuracy\")\n",
        "plt.show()\n",
        "\n",
        "print(\"\\nConfusion Matrix\")\n",
        "print(mw.test_confusion_matrix)\n",
        "\n",
        "print(\"\\nClassification Report\")\n",
        "print(mw.test_classification_report)\n",
        "\n",
        "fig = plt.figure(figsize=(5,5))\n",
        "pu.plot_roc_auc(mw.model_name, mw.test_roc_auc, mw.test_fpr, mw.test_tpr)\n",
        "\n"
      ],
      "execution_count": 11,
      "outputs": [
        {
          "output_type": "display_data",
          "data": {
            "image/png": "[encoded data removed]",
            "text/plain": [
              "<Figure size 720x360 with 2 Axes>"
            ]
          },
          "metadata": {
            "tags": []
          }
        },
        {
          "output_type": "stream",
          "text": [
            "\n",
            "Confusion Matrix\n",
            "[[118766  25642   9211   1782   2357]\n",
            " [ 26358  26269  16973   3148   1655]\n",
            " [ 10956  19324  45249  19978   6069]\n",
            " [  3740   5716  31999  88647  57304]\n",
            " [  7974   5203  19811 113048 455152]]\n",
            "\n",
            "Classification Report\n",
            "              precision    recall  f1-score   support\n",
            "\n",
            "           1       0.71      0.75      0.73    157758\n",
            "           2       0.32      0.35      0.34     74403\n",
            "           3       0.37      0.45      0.40    101576\n",
            "           4       0.39      0.47      0.43    187406\n",
            "           5       0.87      0.76      0.81    601188\n",
            "\n",
            "    accuracy                           0.65   1122331\n",
            "   macro avg       0.53      0.56      0.54   1122331\n",
            "weighted avg       0.69      0.65      0.67   1122331\n",
            "\n"
          ],
          "name": "stdout"
        },
        {
          "output_type": "stream",
          "text": [
            "drive/My Drive/Springboard/capstone/util/plot_util.py:283: MatplotlibDeprecationWarning: The 'withdash' parameter of text() is deprecated since Matplotlib 3.1 and will be removed in 3.3.  If any parameter follows 'withdash', they should be pass as keyword, not positionally.\n",
            "  withdash=True)\n",
            "drive/My Drive/Springboard/capstone/util/plot_util.py:283: MatplotlibDeprecationWarning: \n",
            "The TextWithDash class was deprecated in Matplotlib 3.1 and will be removed in 3.3. Use Annotation instead.\n",
            "  withdash=True)\n",
            "drive/My Drive/Springboard/capstone/util/plot_util.py:287: MatplotlibDeprecationWarning: The 'withdash' parameter of text() is deprecated since Matplotlib 3.1 and will be removed in 3.3.  If any parameter follows 'withdash', they should be pass as keyword, not positionally.\n",
            "  withdash=True)\n",
            "drive/My Drive/Springboard/capstone/util/plot_util.py:287: MatplotlibDeprecationWarning: \n",
            "The TextWithDash class was deprecated in Matplotlib 3.1 and will be removed in 3.3. Use Annotation instead.\n",
            "  withdash=True)\n",
            "drive/My Drive/Springboard/capstone/util/plot_util.py:291: MatplotlibDeprecationWarning: The 'withdash' parameter of text() is deprecated since Matplotlib 3.1 and will be removed in 3.3.  If any parameter follows 'withdash', they should be pass as keyword, not positionally.\n",
            "  withdash=True)\n",
            "drive/My Drive/Springboard/capstone/util/plot_util.py:291: MatplotlibDeprecationWarning: \n",
            "The TextWithDash class was deprecated in Matplotlib 3.1 and will be removed in 3.3. Use Annotation instead.\n",
            "  withdash=True)\n"
          ],
          "name": "stderr"
        },
        {
          "output_type": "display_data",
          "data": {
            "image/png": "[encoded data removed]",
            "text/plain": [
              "<Figure size 360x360 with 1 Axes>"
            ]
          },
          "metadata": {
            "tags": []
          }
        }
      ]
    },
    {
      "cell_type": "code",
      "metadata": {
        "id": "Al3bCFrI1P5m",
        "colab_type": "code",
        "colab": {}
      },
      "source": [
        ""
      ],
      "execution_count": 0,
      "outputs": []
    },
    {
      "cell_type": "markdown",
      "metadata": {
        "id": "jyLHNyTcfvHp",
        "colab_type": "text"
      },
      "source": [
        "# Test That Our Models Saved Correctly"
      ]
    },
    {
      "cell_type": "code",
      "metadata": {
        "id": "aOF5a51SfyqM",
        "colab_type": "code",
        "colab": {}
      },
      "source": [
        "# from tensorflow.keras.models import load_model\n",
        "\n",
        "# model_loaded = load_model(mw.model_file)\n",
        "# scores = model_loaded.evaluate(X_test, y_test, verbose=1)\n",
        "# print(\"Accuracy: %.2f%%\" % (scores[1]*100))\n",
        "\n",
        "# # this takes too long for real models\n",
        "# if DEBUG == True:\n",
        "#   y_predict = model_loaded.predict(X_test)\n",
        "#   y_predict_unencoded = ku.unencode(y_predict)\n",
        "#   y_test_unencoded = ku.unencode(y_test)\n",
        "\n",
        "#   # classification report\n",
        "#   print(classification_report(y_test_unencoded, y_predict_unencoded))\n",
        "\n",
        "#   # confusion matrix\n",
        "#   print(confusion_matrix(y_test_unencoded, y_predict_unencoded))\n"
      ],
      "execution_count": 0,
      "outputs": []
    },
    {
      "cell_type": "code",
      "metadata": {
        "id": "96A-A5CBJXiy",
        "colab_type": "code",
        "outputId": "da31d7e4-9fba-4c00-cda2-f83c31d5c1f6",
        "colab": {
          "base_uri": "https://localhost:8080/",
          "height": 866
        }
      },
      "source": [
        "end_time = datetime.now()\n",
        "print(f\"Model:\\n{mw}\")\n",
        "print(f\"Start Time: {start_time}\")\n",
        "print(f\"End Time: {end_time}\")\n",
        "print(f\"Total Duraction {round((end_time - start_time).total_seconds() / 60, 2)} mins\")"
      ],
      "execution_count": 13,
      "outputs": [
        {
          "output_type": "stream",
          "text": [
            "Model:\n",
            "\n",
            "ModelWrapper parameters:\n",
            "\ttf_version:\t\t\t2.2.0\n",
            "\tmodel_name:\t\t\tLSTMB128\n",
            "\tdescription:\t\t\t1 Layer 128 LSTM Units, Dropout 0.0, Recurrent Dropout 0.0, Batch Size 128, Learning Rate 0.01\n",
            "\tarchitecture:\t\t\t1x128\n",
            "\tfeature_set_name:\t\tglove_with_stop_nonlemmatized\n",
            "\tlabel_column:\t\t\tstar_rating\n",
            "\tfeature_column:\t\t\treview_body\n",
            "\tdata_file:\t\t\tdrive/My Drive/Springboard/capstone/data/amazon_reviews_us_Wireless_v1_00-4m-with_stop_nonlemmatized-preprocessed.csv\n",
            "\tbatch_size:\t\t\t128\n",
            "\tsample_size:\t\t\t4m\n",
            "\tsampling_type:\t\t\tnone\n",
            "\ttokenizer:\t\t\t<keras_preprocessing.text.Tokenizer object at 0x7f27fa019b00>\n",
            "\tsave_weights:\t\t\tTrue\n",
            "\toptimizer:\t\t\tAdam\n",
            "\tlearning_rate:\t\t\t0.01\n",
            "\tversion:\t\t\t1\n",
            "\tsave_dir:\t\t\tdrive/My Drive/Springboard/capstone\n",
            "\tload_model_file:\t\t\tNone\n",
            "\n",
            "\tReport Output:\n",
            "\t\treport_file:\t\t\tdrive/My Drive/Springboard/capstone/reports/LSTMB128_dr0_rdr0_batch128_lr01-glove_with_stop_nonlemmatized-dl_prototype-report.csv\n",
            "\n",
            "\tModel Output:\n",
            "\t\ttokenizer_file:\t\t\tdrive/My Drive/Springboard/capstone/models/LSTMB128-1x128-dr0-rdr0-batch128-lr01-glove_with_stop_nonlemmatized-sampling_none-4m-review_body-tf2-2-0-v1/LSTMB128-1x128-dr0-rdr0-batch128-lr01-glove_with_stop_nonlemmatized-sampling_none-4m-review_body-tf2-2-0-v1-tokenizer.pkl\n",
            "\t\tsave_json:\t\t\tTrue\n",
            "\t\tsave_savedmodel:\t\tFalse\n",
            "\t\tsave_h5:\t\t\tFalse\n",
            "\t\tcheckpoint_file:\t\tdrive/My Drive/Springboard/capstone/models/LSTMB128-1x128-dr0-rdr0-batch128-lr01-glove_with_stop_nonlemmatized-sampling_none-4m-review_body-tf2-2-0-v1/checkpoints\n",
            "\t\tmodel_json_file:\t\tdrive/My Drive/Springboard/capstone/models/LSTMB128-1x128-dr0-rdr0-batch128-lr01-glove_with_stop_nonlemmatized-sampling_none-4m-review_body-tf2-2-0-v1/LSTMB128-1x128-dr0-rdr0-batch128-lr01-glove_with_stop_nonlemmatized-sampling_none-4m-review_body-tf2-2-0-v1-model.json\n",
            "\t\tweights_file:\t\t\tdrive/My Drive/Springboard/capstone/models/LSTMB128-1x128-dr0-rdr0-batch128-lr01-glove_with_stop_nonlemmatized-sampling_none-4m-review_body-tf2-2-0-v1/LSTMB128-1x128-dr0-rdr0-batch128-lr01-glove_with_stop_nonlemmatized-sampling_none-4m-review_body-tf2-2-0-v1-weights.h5\n",
            "\n",
            "\n",
            "EmbeddingModelWrapper parameters:\n",
            "\tvocab_size:\t\t\t282134\n",
            "\tembed_size:\t\t\t300\n",
            "\tmax_sequence_length:\t\t100\n",
            "\ttrain_embeddings:\t\tFalse\n",
            "\tembedding_matrix_shape:\t\t(282134, 300)\n",
            "\n",
            "LSTM1LayerModelWrapper parameters:\n",
            "\tlstm_dim:\t\t\t128\n",
            "\tbidirectional:\t\t\tFalse\n",
            "\tdropout_rate:\t\t\t0.0\n",
            "\trecurrent_dropout_rate:\t\t0.0\n",
            "\n",
            "Start Time: 2020-05-29 05:27:15.340842\n",
            "End Time: 2020-05-29 07:46:33.737649\n",
            "Total Duraction 139.31 mins\n"
          ],
          "name": "stdout"
        }
      ]
    },
    {
      "cell_type": "code",
      "metadata": {
        "id": "qPbmc8qe-ja_",
        "colab_type": "code",
        "colab": {}
      },
      "source": [
        ""
      ],
      "execution_count": 0,
      "outputs": []
    }
  ]
}