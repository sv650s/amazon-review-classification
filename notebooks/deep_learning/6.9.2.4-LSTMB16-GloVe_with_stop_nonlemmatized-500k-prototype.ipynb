{
  "nbformat": 4,
  "nbformat_minor": 0,
  "metadata": {
    "colab": {
      "name": "6.9.2.4-LSTMB16-GloVe_with_stop_nonlemmatized-500k-prototype.ipynb",
      "provenance": [],
      "collapsed_sections": [],
      "machine_shape": "hm",
      "include_colab_link": true
    },
    "language_info": {
      "codemirror_mode": {
        "name": "ipython",
        "version": 3
      },
      "file_extension": ".py",
      "mimetype": "text/x-python",
      "name": "python",
      "nbconvert_exporter": "python",
      "pygments_lexer": "ipython3",
      "version": "3.7.3"
    },
    "kernelspec": {
      "name": "python3",
      "display_name": "Python 3"
    },
    "accelerator": "GPU"
  },
  "cells": [
    {
      "cell_type": "markdown",
      "metadata": {
        "id": "view-in-github",
        "colab_type": "text"
      },
      "source": [
        "<a href=\"https://colab.research.google.com/github/sv650s/amazon-review-classification/blob/master/notebooks/deep_learning/6.9.2.4-LSTMB16-GloVe_with_stop_nonlemmatized-500k-prototype.ipynb\" target=\"_parent\"><img src=\"https://colab.research.google.com/assets/colab-badge.svg\" alt=\"Open In Colab\"/></a>"
      ]
    },
    {
      "cell_type": "markdown",
      "metadata": {
        "id": "W7_sb1roJXhx",
        "colab_type": "text"
      },
      "source": [
        "# Pre-trained GloVe embedding using LSTM with 500k samples without removing stop words\n",
        "\n",
        "For this notebook, we will use 500k samples using architecture that was suggested by Wanliang Tan et al in [Sentiment Analysis for Amazon Reviews](http://cs229.stanford.edu/proj2018/report/122.pdf)\n",
        "\n",
        "In this paper, they were able to achieve test set accuracy of 70%:\n",
        "* Glove embedding with 300 dimension vectors\n",
        "* max sequence length of 100 words (this is same as what we've been doing)\n",
        "* 128 LSTM hidden units with 0.2 dropout rate\n",
        "* learning rate of 0.01\n",
        "* batch size of 32\n",
        "* 20 epochs\n",
        "* 37k samples\n",
        "\n",
        "\n",
        "I want to see if we can generate similar results using the same network architecture with our dataset\n",
        "\n",
        "Score for previous runs: 0.2959231917086992\n",
        "\n",
        "\n",
        "# Result\n",
        "\n",
        "Our score: \n"
      ]
    },
    {
      "cell_type": "code",
      "metadata": {
        "id": "pF_xRedK9O1Q",
        "colab_type": "code",
        "outputId": "d3cf52e5-2081-4ed3-d5cc-efad4db7ccd6",
        "colab": {
          "base_uri": "https://localhost:8080/",
          "height": 141
        }
      },
      "source": [
        "from google.colab import drive\n",
        "drive.mount('/content/drive')\n",
        "\n",
        "import sys\n",
        "DRIVE_DIR = \"drive/My Drive/Springboard/capstone\"\n",
        "sys.path.append(DRIVE_DIR)\n",
        "\n",
        "\n",
        "%tensorflow_version 2.x\n",
        "\n",
        "\n",
        "import tensorflow as tf\n",
        "# checl to make sure we are using GPU here\n",
        "tf.test.gpu_device_name()"
      ],
      "execution_count": 1,
      "outputs": [
        {
          "output_type": "stream",
          "text": [
            "Go to this URL in a browser: https://accounts.google.com/o/oauth2/auth?client_id=947318989803-6bn6qk8qdgf4n4g3pfee6491hc0brc4i.apps.googleusercontent.com&redirect_uri=urn%3aietf%3awg%3aoauth%3a2.0%3aoob&response_type=code&scope=email%20https%3a%2f%2fwww.googleapis.com%2fauth%2fdocs.test%20https%3a%2f%2fwww.googleapis.com%2fauth%2fdrive%20https%3a%2f%2fwww.googleapis.com%2fauth%2fdrive.photos.readonly%20https%3a%2f%2fwww.googleapis.com%2fauth%2fpeopleapi.readonly\n",
            "\n",
            "Enter your authorization code:\n",
            "··········\n",
            "Mounted at /content/drive\n"
          ],
          "name": "stdout"
        },
        {
          "output_type": "execute_result",
          "data": {
            "text/plain": [
              "'/device:GPU:0'"
            ]
          },
          "metadata": {
            "tags": []
          },
          "execution_count": 1
        }
      ]
    },
    {
      "cell_type": "code",
      "metadata": {
        "id": "SyhcVd4ec1sq",
        "colab_type": "code",
        "outputId": "cb183136-463b-42bc-e353-2f1d3636f673",
        "colab": {
          "base_uri": "https://localhost:8080/",
          "height": 345
        }
      },
      "source": [
        "# check what GPU we got\n",
        "gpu_info = !nvidia-smi\n",
        "gpu_info = '\\n'.join(gpu_info)\n",
        "if gpu_info.find('failed') >= 0:\n",
        "  print('Select the Runtime → \"Change runtime type\" menu to enable a GPU accelerator, ')\n",
        "  print('and then re-execute this cell.')\n",
        "else:\n",
        "  print(gpu_info)\n",
        "\n",
        "# check that we are using high RAM runtime\n",
        "from psutil import virtual_memory\n",
        "ram_gb = virtual_memory().total / 1e9\n",
        "print('Your runtime has {:.1f} gigabytes of available RAM\\n'.format(ram_gb))\n",
        "\n",
        "if ram_gb < 20:\n",
        "  print('To enable a high-RAM runtime, select the Runtime → \"Change runtime type\"')\n",
        "  print('menu, and then select High-RAM in the Runtime shape dropdown. Then, ')\n",
        "  print('re-execute this cell.')\n",
        "else:\n",
        "  print('You are using a high-RAM runtime!')"
      ],
      "execution_count": 2,
      "outputs": [
        {
          "output_type": "stream",
          "text": [
            "Sun May  3 09:20:34 2020       \n",
            "+-----------------------------------------------------------------------------+\n",
            "| NVIDIA-SMI 440.64.00    Driver Version: 418.67       CUDA Version: 10.1     |\n",
            "|-------------------------------+----------------------+----------------------+\n",
            "| GPU  Name        Persistence-M| Bus-Id        Disp.A | Volatile Uncorr. ECC |\n",
            "| Fan  Temp  Perf  Pwr:Usage/Cap|         Memory-Usage | GPU-Util  Compute M. |\n",
            "|===============================+======================+======================|\n",
            "|   0  Tesla P100-PCIE...  Off  | 00000000:00:04.0 Off |                    0 |\n",
            "| N/A   39C    P0    32W / 250W |    353MiB / 16280MiB |      0%      Default |\n",
            "+-------------------------------+----------------------+----------------------+\n",
            "                                                                               \n",
            "+-----------------------------------------------------------------------------+\n",
            "| Processes:                                                       GPU Memory |\n",
            "|  GPU       PID   Type   Process name                             Usage      |\n",
            "|=============================================================================|\n",
            "+-----------------------------------------------------------------------------+\n",
            "Your runtime has 27.4 gigabytes of available RAM\n",
            "\n",
            "You are using a high-RAM runtime!\n"
          ],
          "name": "stdout"
        }
      ]
    },
    {
      "cell_type": "code",
      "metadata": {
        "id": "pAHGtniuJXhy",
        "colab_type": "code",
        "outputId": "51fe64ef-88b9-4633-d155-16f32965a42e",
        "colab": {
          "base_uri": "https://localhost:8080/",
          "height": 72
        }
      },
      "source": [
        "from __future__ import absolute_import, division, print_function, unicode_literals\n",
        "\n",
        "\n",
        "from tensorflow.keras.models import Sequential\n",
        "from tensorflow.keras.layers import Dense, Activation, Dropout\n",
        "from tensorflow.keras.layers import BatchNormalization\n",
        "from tensorflow.keras.callbacks import EarlyStopping, ReduceLROnPlateau\n",
        "from tensorflow.keras.models import load_model\n",
        "from tensorflow.keras.optimizers import SGD, Adam\n",
        "from tensorflow.keras.layers import Conv1D, MaxPooling1D, Embedding, \\\n",
        "    SpatialDropout1D, Flatten, LSTM\n",
        "from tensorflow.keras.preprocessing.text import Tokenizer\n",
        "from tensorflow.keras.preprocessing import sequence\n",
        "from tensorflow.keras.utils import model_to_dot\n",
        "from tensorflow.keras.initializers import Constant\n",
        "\n",
        "\n",
        "from sklearn.model_selection import train_test_split\n",
        "from sklearn.preprocessing import OneHotEncoder\n",
        "from sklearn.preprocessing import LabelEncoder\n",
        "from sklearn.metrics import confusion_matrix, classification_report\n",
        "from sklearn.utils.class_weight import compute_class_weight\n",
        "\n",
        "\n",
        "import pandas as pd\n",
        "import numpy as np\n",
        "from IPython.display import SVG\n",
        "import pickle\n",
        "from datetime import datetime\n",
        "import matplotlib.pyplot as plt\n",
        "import seaborn as sns\n",
        "import os\n",
        "import logging\n",
        "\n",
        "\n",
        "import util.dict_util as du\n",
        "import util.plot_util as pu\n",
        "import util.file_util as fu\n",
        "import util.keras_util as ku\n",
        "import util.report_util as ru\n",
        "\n",
        "import random\n",
        "\n",
        "# fix random seeds\n",
        "tf.compat.v1.reset_default_graph()\n",
        "tf.compat.v1.set_random_seed(1)\n",
        "random.seed(1)\n",
        "np.random.seed(1)\n",
        "\n",
        "logging.basicConfig(level=logging.ERROR)\n",
        "\n",
        "%matplotlib inline\n",
        "sns.set()\n",
        "\n",
        "\n",
        "DATE_FORMAT = '%Y-%m-%d'\n",
        "TIME_FORMAT = '%Y-%m-%d %H:%M:%S'\n",
        "LABEL_COLUMN = \"star_rating\"\n",
        "REVIEW_COLUMN = \"review_body\"\n",
        "\n",
        "\n",
        "DEBUG = False\n",
        "\n",
        "\n",
        "LSTM_DIM = 16 # total LSTM units\n",
        "MODEL_NAME = f\"LSTMB{LSTM_DIM}\"\n",
        "ARCHITECTURE = f\"1x{LSTM_DIM}\"\n",
        "DESCRIPTION = f\"1 Layer {LSTM_DIM} LSTM Units, No Dropout, GloVe Embedding (with stop words, nonlemmatized), Balanced Weights\"\n",
        "FEATURE_SET_NAME = \"glove_with_stop_nonlemmatized\"\n",
        "PATIENCE = 4\n",
        "\n",
        "SAMPLES = \"500k\"\n",
        "\n",
        "if DEBUG:\n",
        "  DATA_FILE = f'{DRIVE_DIR}/data/amazon_reviews_us_Wireless_v1_00-test-preprocessed.csv'\n",
        "  MODEL_NAME = f'test-{MODEL_NAME}'\n",
        "  MISSING_WORDS_FILE = f'{DRIVE_DIR}/reports/glove_embedding-missing_words-test.csv'\n",
        "else:\n",
        "  DATA_FILE = f\"{DRIVE_DIR}/data/amazon_reviews_us_Wireless_v1_00-{SAMPLES}-with_stop_nonlemmatized-preprocessed.csv\"\n",
        "  MISSING_WORDS_FILE = f'{DRIVE_DIR}/reports/glove_embedding-missing_words-{SAMPLES}.csv'\n",
        "  ku.ModelWrapper.set_report_filename('LSTM16-love_embedding_with_stop_nonlemmatized-dl_prototype-report.csv')\n",
        "\n",
        "\n",
        "EMBEDDING_FILE = f'{DRIVE_DIR}/data/embeddings/glove.840B.300d.txt'\n",
        "\n",
        "# first layer filter\n",
        "FILTER1 = 32\n",
        "# Network Settings\n",
        "KERNEL_SIZE=3\n",
        "\n",
        "\n",
        "\n",
        "# length of our embedding - 300 is standard\n",
        "EMBED_SIZE = 300\n",
        "EPOCHS  = 20\n",
        "BATCH_SIZE = 32\n",
        "LEARNING_RATE = 0.01\n",
        "DROPOUT_RATE = 0.2\n",
        "\n",
        "# From EDA, we know that 90% of review bodies have 100 words or less, \n",
        "# we will use this as our sequence length\n",
        "MAX_SEQUENCE_LENGTH = 100\n",
        "\n",
        "\n"
      ],
      "execution_count": 3,
      "outputs": [
        {
          "output_type": "stream",
          "text": [
            "/usr/local/lib/python3.6/dist-packages/statsmodels/tools/_testing.py:19: FutureWarning: pandas.util.testing is deprecated. Use the functions in the public API at pandas.testing instead.\n",
            "  import pandas.util.testing as tm\n"
          ],
          "name": "stderr"
        }
      ]
    },
    {
      "cell_type": "code",
      "metadata": {
        "hide_input": false,
        "id": "k6fwJp9OJXh5",
        "colab_type": "code",
        "colab": {}
      },
      "source": [
        "df = pd.read_csv(DATA_FILE)\n",
        "\n",
        "rating = df[LABEL_COLUMN]\n",
        "reviews = df[REVIEW_COLUMN]"
      ],
      "execution_count": 0,
      "outputs": []
    },
    {
      "cell_type": "code",
      "metadata": {
        "id": "GKdUpCsshGk8",
        "colab_type": "code",
        "colab": {}
      },
      "source": [
        ""
      ],
      "execution_count": 0,
      "outputs": []
    },
    {
      "cell_type": "code",
      "metadata": {
        "id": "rMdM2TS7hGgc",
        "colab_type": "code",
        "colab": {}
      },
      "source": [
        ""
      ],
      "execution_count": 0,
      "outputs": []
    },
    {
      "cell_type": "code",
      "metadata": {
        "id": "kHMW5sNShGce",
        "colab_type": "code",
        "colab": {}
      },
      "source": [
        ""
      ],
      "execution_count": 0,
      "outputs": []
    },
    {
      "cell_type": "code",
      "metadata": {
        "id": "HvcwW1AmhGNU",
        "colab_type": "code",
        "colab": {}
      },
      "source": [
        ""
      ],
      "execution_count": 0,
      "outputs": []
    },
    {
      "cell_type": "markdown",
      "metadata": {
        "id": "EBQR0ZpoOiQk",
        "colab_type": "text"
      },
      "source": [
        "# Preprocessing"
      ]
    },
    {
      "cell_type": "code",
      "metadata": {
        "id": "_g2Wm80MCgGZ",
        "colab_type": "code",
        "colab": {}
      },
      "source": [
        ""
      ],
      "execution_count": 0,
      "outputs": []
    },
    {
      "cell_type": "code",
      "metadata": {
        "id": "lytdvF4neJ4r",
        "colab_type": "code",
        "outputId": "5b50accf-5c72-4990-8f49-3aa7c1de4bfb",
        "colab": {
          "base_uri": "https://localhost:8080/",
          "height": 69
        }
      },
      "source": [
        "\n",
        "\n",
        "# pre-process our lables\n",
        "# one hot encode our star ratings since Keras/TF requires this for the labels\n",
        "y = OneHotEncoder().fit_transform(rating.values.reshape(len(rating), 1)).toarray()\n",
        "\n",
        "\n",
        "# split our data into train and test sets\n",
        "reviews_train, reviews_test, y_train, y_test = train_test_split(reviews, y, random_state=1)\n",
        "\n",
        "\n",
        "# Pre-process our features (review body)\n",
        "t = Tokenizer(oov_token=\"<UNK>\")\n",
        "# fit the tokenizer on the documents\n",
        "t.fit_on_texts(reviews_train)\n",
        "# tokenize both our training and test data\n",
        "train_sequences = t.texts_to_sequences(reviews_train)\n",
        "test_sequences = t.texts_to_sequences(reviews_test)\n",
        "\n",
        "print(\"Vocabulary size={}\".format(len(t.word_counts)))\n",
        "print(\"Number of Documents={}\".format(t.document_count))\n",
        "\n",
        "\n",
        "# pad our reviews to the max sequence length\n",
        "X_train = sequence.pad_sequences(train_sequences, maxlen=MAX_SEQUENCE_LENGTH)\n",
        "X_test = sequence.pad_sequences(test_sequences, maxlen=MAX_SEQUENCE_LENGTH)\n",
        "\n",
        "print('Train review vectors shape:', X_train.shape, ' Test review vectors shape:', X_test.shape)\n"
      ],
      "execution_count": 5,
      "outputs": [
        {
          "output_type": "stream",
          "text": [
            "Vocabulary size=80202\n",
            "Number of Documents=374123\n",
            "Train review vectors shape: (374123, 100)  Test review vectors shape: (124708, 100)\n"
          ],
          "name": "stdout"
        }
      ]
    },
    {
      "cell_type": "markdown",
      "metadata": {
        "id": "TgorpmIPnQH9",
        "colab_type": "text"
      },
      "source": [
        "## Load our pre-trained embedding\n",
        "\n",
        "embeddings_index will be a map where key == word, value == the embedding vector"
      ]
    },
    {
      "cell_type": "code",
      "metadata": {
        "id": "5j7D7LLinP0r",
        "colab_type": "code",
        "outputId": "cd11cf04-95ba-4dc5-9635-0c846af3ea91",
        "colab": {
          "base_uri": "https://localhost:8080/",
          "height": 86
        }
      },
      "source": [
        "\n",
        "EMBEDDING_INDEX_FILE = f'{DRIVE_DIR}/models/glove.840B.300d-embedding_index'\n",
        "\n",
        "embeddings_index = {}\n",
        "\n",
        "if os.path.exists(f'{EMBEDDING_INDEX_FILE}.npy'):\n",
        "  print(f'Loading {EMBEDDING_INDEX_FILE}.npy')\n",
        "  embeddings_index = np.load(f'{EMBEDDING_INDEX_FILE}.npy', \n",
        "                             allow_pickle = True).item()\n",
        "else:\n",
        "  print('Indexing word vectors.')\n",
        "\n",
        "  with open(EMBEDDING_FILE) as f:\n",
        "      for line in f:\n",
        "          word, coefs = line.split(maxsplit=1)\n",
        "          coefs = np.fromstring(coefs, 'f', sep=' ')\n",
        "          embeddings_index[word] = coefs\n",
        "  np.save(EMBEDDING_INDEX_FILE, embeddings_index)\n",
        "\n",
        "print(type(embeddings_index))\n",
        "print(np.shape(embeddings_index))\n",
        "print('Found %s word vectors.' % len(embeddings_index))\n",
        "\n",
        "\n"
      ],
      "execution_count": 6,
      "outputs": [
        {
          "output_type": "stream",
          "text": [
            "Loading drive/My Drive/Springboard/capstone/models/glove.840B.300d-embedding_index.npy\n",
            "<class 'dict'>\n",
            "()\n",
            "Found 2195884 word vectors.\n"
          ],
          "name": "stdout"
        }
      ]
    },
    {
      "cell_type": "code",
      "metadata": {
        "id": "pchOfR6qnPxB",
        "colab_type": "code",
        "colab": {}
      },
      "source": [
        ""
      ],
      "execution_count": 0,
      "outputs": []
    },
    {
      "cell_type": "code",
      "metadata": {
        "id": "G7L7HL6EnPtA",
        "colab_type": "code",
        "colab": {}
      },
      "source": [
        ""
      ],
      "execution_count": 0,
      "outputs": []
    },
    {
      "cell_type": "markdown",
      "metadata": {
        "id": "rYvqmy4xmQWD",
        "colab_type": "text"
      },
      "source": [
        "## Create Embedding Matrix based on our tokenizer\n",
        "\n",
        "For every word in our vocabulary, we will look up the embedding vector and add the it to our embedding matrix\n",
        "\n",
        "The matrix will be passed in as weights in our embedding layer later\n",
        "\n",
        "If there is word that does not exist in the pre-trained embedding vocabulary, we will leave the weights as 0 vector and save off the word into a CSV file later for analysis"
      ]
    },
    {
      "cell_type": "code",
      "metadata": {
        "id": "bIrMqj-HmPwk",
        "colab_type": "code",
        "outputId": "d09a779a-c49a-424c-e2fa-37e893a4ab7d",
        "colab": {
          "base_uri": "https://localhost:8080/",
          "height": 69
        }
      },
      "source": [
        "# this is a map with key == word, value == index in the vocabulary\n",
        "word_index = t.word_index\n",
        "print(f'word_index length: {len(word_index)}')\n",
        "\n",
        "# we are going to use the entire vocab so we can alter this from the example\n",
        "# num_words = min(MAX_NUM_WORDS, len(word_index) + 1)\n",
        "\n",
        "# start with a matrix of 0's\n",
        "embedding_matrix = np.zeros((len(word_index) + 1, EMBED_SIZE))\n",
        "\n",
        "# if a word doesn't exist in our vocabulary, let's save it off\n",
        "missing_words = []\n",
        "print(f'embedding_matrix shape: {np.shape(embedding_matrix)}')\n",
        "for word, i in word_index.items():\n",
        "    # print(f'word: {word} i: {i}')\n",
        "    embedding_vector = embeddings_index.get(word)\n",
        "    if embedding_vector is not None and np.shape(embedding_vector)[0] == EMBED_SIZE:\n",
        "        # words not found in embedding index will be all-zeros.\n",
        "        # print(f'i: {i} embedding_vector shape: {np.shape(embedding_vector)}')\n",
        "        embedding_matrix[i] = embedding_vector\n",
        "    else:\n",
        "      missing_words.append(word)\n",
        "\n",
        "print(f'Number of missing words from our vocabulary: {len(missing_words)}')\n",
        "\n"
      ],
      "execution_count": 7,
      "outputs": [
        {
          "output_type": "stream",
          "text": [
            "word_index length: 80203\n",
            "embedding_matrix shape: (80204, 300)\n",
            "Number of missing words from our vocabulary: 25805\n"
          ],
          "name": "stdout"
        }
      ]
    },
    {
      "cell_type": "markdown",
      "metadata": {
        "id": "TIw5aJS8trK-",
        "colab_type": "text"
      },
      "source": [
        "Save off our missing words into a csv file so we can analyze this later"
      ]
    },
    {
      "cell_type": "code",
      "metadata": {
        "id": "XN1Vr2oSto2f",
        "colab_type": "code",
        "colab": {}
      },
      "source": [
        "# save missing words into a file so we can analyze it later\n",
        "missing_words_df = pd.DataFrame(missing_words)\n",
        "missing_words_df.to_csv(MISSING_WORDS_FILE, index=False)"
      ],
      "execution_count": 0,
      "outputs": []
    },
    {
      "cell_type": "markdown",
      "metadata": {
        "id": "6hWLBCjqucDJ",
        "colab_type": "text"
      },
      "source": [
        "**Build LSTM Model Architecture**"
      ]
    },
    {
      "cell_type": "code",
      "metadata": {
        "id": "653DtCuBJXiF",
        "colab_type": "code",
        "outputId": "a1ca475c-740f-4880-db32-d3eb54718862",
        "colab": {
          "base_uri": "https://localhost:8080/",
          "height": 72
        }
      },
      "source": [
        "vocab_size = len(t.word_index)+1\n",
        "\n",
        "# building our network\n",
        "model = Sequential()\n",
        "# load pre-trained word embeddings into an Embedding layer\n",
        "# note that we set trainable = False so as to keep the embeddings fixed\n",
        "model.add(Embedding(input_dim=vocab_size,\n",
        "                            output_dim=EMBED_SIZE,\n",
        "                            embeddings_initializer=Constant(embedding_matrix),\n",
        "                            input_length=MAX_SEQUENCE_LENGTH,\n",
        "                            trainable=False))\n",
        "# model.add(Embedding(input_dim=vocab_size, output_dim=EMBED_SIZE, input_length=MAX_SEQUENCE_LENGTH))\n",
        "model.add(LSTM(LSTM_DIM, recurrent_dropout=DROPOUT_RATE))\n",
        "model.add(Dense(5, activation=\"softmax\"))\n",
        "\n",
        "model.compile(loss=\"categorical_crossentropy\", optimizer=Adam(learning_rate=0.001),\n",
        "              metrics=[\"categorical_accuracy\"])\n"
      ],
      "execution_count": 9,
      "outputs": [
        {
          "output_type": "stream",
          "text": [
            "WARNING:tensorflow:Layer lstm will not use cuDNN kernel since it doesn't meet the cuDNN kernel criteria. It will use generic GPU kernel as fallback when running on GPU\n"
          ],
          "name": "stdout"
        },
        {
          "output_type": "stream",
          "text": [
            "WARNING:tensorflow:Layer lstm will not use cuDNN kernel since it doesn't meet the cuDNN kernel criteria. It will use generic GPU kernel as fallback when running on GPU\n"
          ],
          "name": "stderr"
        }
      ]
    },
    {
      "cell_type": "code",
      "metadata": {
        "id": "iZitdxXPJXiI",
        "colab_type": "code",
        "outputId": "7192d079-2962-46c7-9242-c7f751062a22",
        "colab": {
          "base_uri": "https://localhost:8080/",
          "height": 276
        }
      },
      "source": [
        "print(model.summary())"
      ],
      "execution_count": 10,
      "outputs": [
        {
          "output_type": "stream",
          "text": [
            "Model: \"sequential\"\n",
            "_________________________________________________________________\n",
            "Layer (type)                 Output Shape              Param #   \n",
            "=================================================================\n",
            "embedding (Embedding)        (None, 100, 300)          24061200  \n",
            "_________________________________________________________________\n",
            "lstm (LSTM)                  (None, 16)                20288     \n",
            "_________________________________________________________________\n",
            "dense (Dense)                (None, 5)                 85        \n",
            "=================================================================\n",
            "Total params: 24,081,573\n",
            "Trainable params: 20,373\n",
            "Non-trainable params: 24,061,200\n",
            "_________________________________________________________________\n",
            "None\n"
          ],
          "name": "stdout"
        }
      ]
    },
    {
      "cell_type": "code",
      "metadata": {
        "scrolled": false,
        "id": "60eC_0fRJXiQ",
        "colab_type": "code",
        "outputId": "05a0c3d8-8899-4b7d-db1a-5fa97839834f",
        "colab": {
          "base_uri": "https://localhost:8080/",
          "height": 607
        }
      },
      "source": [
        "\n",
        "# reduce learning rate if we sense a plateau\n",
        "reduce_lr = ReduceLROnPlateau(monitor='val_loss', \n",
        "                              restore_best_weights=True)\n",
        "\n",
        "early_stop = EarlyStopping(monitor='val_loss', \n",
        "                           patience=PATIENCE, \n",
        "                           verbose=1,\n",
        "                           restore_best_weights=True)\n",
        "\n",
        "weights = compute_class_weight('balanced', np.arange(1, 6), rating)\n",
        "weights_dict = {i: weights[i] for i in np.arange(0, len(weights))}\n",
        "print(f'class weights: {weights}')\n",
        "print(f'class weights_dict: {weights_dict}')\n",
        "\n",
        "\n",
        "\n",
        "mw = ku.ModelWrapper(model, \n",
        "                     MODEL_NAME, \n",
        "                     ARCHITECTURE,\n",
        "                     FEATURE_SET_NAME,\n",
        "                     LABEL_COLUMN, \n",
        "                     REVIEW_COLUMN,\n",
        "                     DATA_FILE, \n",
        "                     embed_size=EMBED_SIZE,\n",
        "                     tokenizer=t,\n",
        "                     description=DESCRIPTION)\n",
        "\n",
        "network_history = mw.fit(X_train, y_train,\n",
        "                      batch_size=BATCH_SIZE,\n",
        "                      epochs=EPOCHS,\n",
        "                      verbose=1,\n",
        "                      validation_split=0.2,\n",
        "                      class_weight=weights_dict,\n",
        "                      callbacks=[early_stop, reduce_lr])"
      ],
      "execution_count": 11,
      "outputs": [
        {
          "output_type": "stream",
          "text": [
            "class weights: [1.42032118 3.02854107 2.20287929 1.20285745 0.37307351]\n",
            "class weights_dict: {0: 1.420321175365166, 1: 3.028541072187481, 2: 2.2028792863609263, 3: 1.2028574528881977, 4: 0.3730735143988602}\n",
            "Number of training examples: 374123\n",
            "Epoch 1/20\n",
            "9354/9354 [==============================] - 2202s 235ms/step - loss: 1.1651 - categorical_accuracy: 0.5803 - val_loss: 0.9775 - val_categorical_accuracy: 0.6030 - lr: 0.0010\n",
            "Epoch 2/20\n",
            "9354/9354 [==============================] - 2181s 233ms/step - loss: 1.0664 - categorical_accuracy: 0.6166 - val_loss: 0.9506 - val_categorical_accuracy: 0.5989 - lr: 0.0010\n",
            "Epoch 3/20\n",
            "9354/9354 [==============================] - 2156s 231ms/step - loss: 1.0400 - categorical_accuracy: 0.6290 - val_loss: 0.9468 - val_categorical_accuracy: 0.6173 - lr: 0.0010\n",
            "Epoch 4/20\n",
            "9354/9354 [==============================] - 2137s 228ms/step - loss: 1.0238 - categorical_accuracy: 0.6349 - val_loss: 0.8945 - val_categorical_accuracy: 0.6276 - lr: 0.0010\n",
            "Epoch 5/20\n",
            "9354/9354 [==============================] - 2139s 229ms/step - loss: 1.0137 - categorical_accuracy: 0.6381 - val_loss: 0.8751 - val_categorical_accuracy: 0.6427 - lr: 0.0010\n",
            "Epoch 6/20\n",
            "9354/9354 [==============================] - 2166s 232ms/step - loss: 1.0048 - categorical_accuracy: 0.6417 - val_loss: 0.8739 - val_categorical_accuracy: 0.6414 - lr: 0.0010\n",
            "Epoch 7/20\n",
            "9354/9354 [==============================] - 2178s 233ms/step - loss: 0.9986 - categorical_accuracy: 0.6445 - val_loss: 0.8936 - val_categorical_accuracy: 0.6345 - lr: 0.0010\n",
            "Epoch 8/20\n",
            "9354/9354 [==============================] - 2170s 232ms/step - loss: 0.9931 - categorical_accuracy: 0.6453 - val_loss: 0.8900 - val_categorical_accuracy: 0.6383 - lr: 0.0010\n",
            "Epoch 9/20\n",
            "9354/9354 [==============================] - 2169s 232ms/step - loss: 0.9882 - categorical_accuracy: 0.6466 - val_loss: 0.8929 - val_categorical_accuracy: 0.6322 - lr: 0.0010\n",
            "Epoch 10/20\n",
            "9354/9354 [==============================] - 2152s 230ms/step - loss: 0.9843 - categorical_accuracy: 0.6485 - val_loss: 0.8652 - val_categorical_accuracy: 0.6518 - lr: 0.0010\n",
            "Epoch 11/20\n",
            "9354/9354 [==============================] - 2149s 230ms/step - loss: 0.9809 - categorical_accuracy: 0.6494 - val_loss: 0.8713 - val_categorical_accuracy: 0.6356 - lr: 0.0010\n",
            "Epoch 12/20\n",
            "9354/9354 [==============================] - 2150s 230ms/step - loss: 0.9777 - categorical_accuracy: 0.6496 - val_loss: 0.9046 - val_categorical_accuracy: 0.6272 - lr: 0.0010\n",
            "Epoch 13/20\n",
            "9354/9354 [==============================] - 2174s 232ms/step - loss: 0.9747 - categorical_accuracy: 0.6507 - val_loss: 0.8963 - val_categorical_accuracy: 0.6348 - lr: 0.0010\n",
            "Epoch 14/20\n",
            "9354/9354 [==============================] - ETA: 0s - loss: 0.9720 - categorical_accuracy: 0.6512Restoring model weights from the end of the best epoch.\n",
            "9354/9354 [==============================] - 2158s 231ms/step - loss: 0.9720 - categorical_accuracy: 0.6512 - val_loss: 0.8955 - val_categorical_accuracy: 0.6347 - lr: 0.0010\n",
            "Epoch 00014: early stopping\n"
          ],
          "name": "stdout"
        }
      ]
    },
    {
      "cell_type": "code",
      "metadata": {
        "id": "2VHBrsPjJXiS",
        "colab_type": "code",
        "outputId": "70807dce-8fe2-4d3e-974e-4a01787b41ab",
        "colab": {
          "base_uri": "https://localhost:8080/",
          "height": 1000
        }
      },
      "source": [
        "\n",
        "scores = mw.evaluate(X_test, y_test)\n",
        "print(\"Accuracy: %.2f%%\" % (mw.scores[1]*100))\n",
        "\n",
        "pu.plot_network_history(mw.network_history, \"categorical_accuracy\", \"val_categorical_accuracy\")\n",
        "plt.show()\n",
        "\n",
        "print(\"\\nConfusion Matrix\")\n",
        "print(mw.confusion_matrix)\n",
        "\n",
        "print(\"\\nClassification Report\")\n",
        "print(mw.classification_report)\n",
        "\n",
        "fig = plt.figure(figsize=(5,5))\n",
        "pu.plot_roc_auc(mw.model_name, mw.roc_auc, mw.fpr, mw.tpr)\n",
        "\n"
      ],
      "execution_count": 12,
      "outputs": [
        {
          "output_type": "stream",
          "text": [
            "Number of test: 124708\n",
            "Running model.evaluate...\n",
            "3898/3898 [==============================] - 95s 24ms/step - loss: 0.8689 - categorical_accuracy: 0.6516\n",
            "Running model.predict...\n",
            "Unencode predictions...\n",
            "Generating confusion matrix...\n",
            "Calculating ROC AUC...\n",
            "(124708, 5)\n",
            "Getting classification report...\n",
            "Accuracy: 65.16%\n"
          ],
          "name": "stdout"
        },
        {
          "output_type": "display_data",
          "data": {
            "image/png": "[encoded data removed]",
            "text/plain": [
              "<Figure size 720x360 with 2 Axes>"
            ]
          },
          "metadata": {
            "tags": []
          }
        },
        {
          "output_type": "stream",
          "text": [
            "\n",
            "Confusion Matrix\n",
            "[[12968  3152   895   163   257]\n",
            " [ 2787  3230  1605   322   187]\n",
            " [ 1243  2621  4646  2061   683]\n",
            " [  494   880  3538  9312  6597]\n",
            " [ 1070   840  2259 11792 51106]]\n",
            "\n",
            "Classification Report\n",
            "              precision    recall  f1-score   support\n",
            "\n",
            "           1       0.70      0.74      0.72     17435\n",
            "           2       0.30      0.40      0.34      8131\n",
            "           3       0.36      0.41      0.38     11254\n",
            "           4       0.39      0.45      0.42     20821\n",
            "           5       0.87      0.76      0.81     67067\n",
            "\n",
            "    accuracy                           0.65    124708\n",
            "   macro avg       0.52      0.55      0.54    124708\n",
            "weighted avg       0.68      0.65      0.66    124708\n",
            "\n"
          ],
          "name": "stdout"
        },
        {
          "output_type": "stream",
          "text": [
            "drive/My Drive/Springboard/capstone/util/plot_util.py:267: MatplotlibDeprecationWarning: The 'withdash' parameter of text() is deprecated since Matplotlib 3.1 and will be removed in 3.3.  If any parameter follows 'withdash', they should be pass as keyword, not positionally.\n",
            "  withdash=True)\n",
            "drive/My Drive/Springboard/capstone/util/plot_util.py:267: MatplotlibDeprecationWarning: \n",
            "The TextWithDash class was deprecated in Matplotlib 3.1 and will be removed in 3.3. Use Annotation instead.\n",
            "  withdash=True)\n",
            "drive/My Drive/Springboard/capstone/util/plot_util.py:271: MatplotlibDeprecationWarning: The 'withdash' parameter of text() is deprecated since Matplotlib 3.1 and will be removed in 3.3.  If any parameter follows 'withdash', they should be pass as keyword, not positionally.\n",
            "  withdash=True)\n",
            "drive/My Drive/Springboard/capstone/util/plot_util.py:271: MatplotlibDeprecationWarning: \n",
            "The TextWithDash class was deprecated in Matplotlib 3.1 and will be removed in 3.3. Use Annotation instead.\n",
            "  withdash=True)\n",
            "drive/My Drive/Springboard/capstone/util/plot_util.py:275: MatplotlibDeprecationWarning: The 'withdash' parameter of text() is deprecated since Matplotlib 3.1 and will be removed in 3.3.  If any parameter follows 'withdash', they should be pass as keyword, not positionally.\n",
            "  withdash=True)\n",
            "drive/My Drive/Springboard/capstone/util/plot_util.py:275: MatplotlibDeprecationWarning: \n",
            "The TextWithDash class was deprecated in Matplotlib 3.1 and will be removed in 3.3. Use Annotation instead.\n",
            "  withdash=True)\n"
          ],
          "name": "stderr"
        },
        {
          "output_type": "display_data",
          "data": {
            "image/png": "[encoded data removed]",
            "text/plain": [
              "<Figure size 360x360 with 1 Axes>"
            ]
          },
          "metadata": {
            "tags": []
          }
        }
      ]
    },
    {
      "cell_type": "code",
      "metadata": {
        "id": "YOA18O7wN63j",
        "colab_type": "code",
        "outputId": "d4a83e5c-df34-4219-d2d2-697a624ca8ea",
        "colab": {
          "base_uri": "https://localhost:8080/",
          "height": 35
        }
      },
      "source": [
        "print(f'Score: {ru.calculate_metric(mw.crd)}')"
      ],
      "execution_count": 13,
      "outputs": [
        {
          "output_type": "stream",
          "text": [
            "Score: 0.5170006090651338\n"
          ],
          "name": "stdout"
        }
      ]
    },
    {
      "cell_type": "markdown",
      "metadata": {
        "id": "z2ot_Nqg1U4w",
        "colab_type": "text"
      },
      "source": [
        "**Save off various files**"
      ]
    },
    {
      "cell_type": "code",
      "metadata": {
        "id": "Al3bCFrI1P5m",
        "colab_type": "code",
        "outputId": "11fa95c5-be88-49f1-fd64-3256cbe0f02c",
        "colab": {
          "base_uri": "https://localhost:8080/",
          "height": 175
        }
      },
      "source": [
        "mw.save(DRIVE_DIR, append_report=True)"
      ],
      "execution_count": 14,
      "outputs": [
        {
          "output_type": "stream",
          "text": [
            "description: LSTMB16-1x16-glove_with_stop_nonlemmatized-sampling_none-498831-100-review_body\n",
            "Saving to report file: drive/My Drive/Springboard/capstone/reports/LSTM16-love_embedding_with_stop_nonlemmatized-dl_prototype-report.csv\n",
            "{'model_name': 'LSTMB16', 'architecture': '1x16', 'description': '1 Layer 16 LSTM Units, No Dropout, GloVe Embedding (with stop words, nonlemmatized), Balanced Weights', 'feature_column': '{\"1\": {\"precision\": 0.69863161297274, \"recall\": 0.7437912245483224, \"f1-score\": 0.7205044864849849, \"support\": 17435}, \"2\": {\"precision\": 0.3012216730392614, \"recall\": 0.39724511130242285, \"f1-score\": 0.34263286305293306, \"support\": 8131}, \"3\": {\"precision\": 0.35895851039171756, \"recall\": 0.41283099342456014, \"f1-score\": 0.38401454725792455, \"support\": 11254}, \"4\": {\"precision\": 0.39374207188160676, \"recall\": 0.447240766533788, \"f1-score\": 0.4187897731105665, \"support\": 20821}, \"5\": {\"precision\": 0.868706442291348, \"recall\": 0.7620141052976874, \"f1-score\": 0.8118700207312327, \"support\": 67067}, \"accuracy\": 0.6516181800686404, \"macro avg\": {\"precision\": 0.5242520621153347, \"recall\": 0.5526244402213563, \"f1-score\": 0.5355623381275284, \"support\": 124708}, \"weighted avg\": {\"precision\": 0.6826284866681457, \"recall\": 0.6516181800686404, \"f1-score\": 0.6642633334870777, \"support\": 124708}}', 'label_column': '{\"1\": {\"precision\": 0.69863161297274, \"recall\": 0.7437912245483224, \"f1-score\": 0.7205044864849849, \"support\": 17435}, \"2\": {\"precision\": 0.3012216730392614, \"recall\": 0.39724511130242285, \"f1-score\": 0.34263286305293306, \"support\": 8131}, \"3\": {\"precision\": 0.35895851039171756, \"recall\": 0.41283099342456014, \"f1-score\": 0.38401454725792455, \"support\": 11254}, \"4\": {\"precision\": 0.39374207188160676, \"recall\": 0.447240766533788, \"f1-score\": 0.4187897731105665, \"support\": 20821}, \"5\": {\"precision\": 0.868706442291348, \"recall\": 0.7620141052976874, \"f1-score\": 0.8118700207312327, \"support\": 67067}, \"accuracy\": 0.6516181800686404, \"macro avg\": {\"precision\": 0.5242520621153347, \"recall\": 0.5526244402213563, \"f1-score\": 0.5355623381275284, \"support\": 124708}, \"weighted avg\": {\"precision\": 0.6826284866681457, \"recall\": 0.6516181800686404, \"f1-score\": 0.6642633334870777, \"support\": 124708}}', 'classification_report': '{\"1\": {\"precision\": 0.69863161297274, \"recall\": 0.7437912245483224, \"f1-score\": 0.7205044864849849, \"support\": 17435}, \"2\": {\"precision\": 0.3012216730392614, \"recall\": 0.39724511130242285, \"f1-score\": 0.34263286305293306, \"support\": 8131}, \"3\": {\"precision\": 0.35895851039171756, \"recall\": 0.41283099342456014, \"f1-score\": 0.38401454725792455, \"support\": 11254}, \"4\": {\"precision\": 0.39374207188160676, \"recall\": 0.447240766533788, \"f1-score\": 0.4187897731105665, \"support\": 20821}, \"5\": {\"precision\": 0.868706442291348, \"recall\": 0.7620141052976874, \"f1-score\": 0.8118700207312327, \"support\": 67067}, \"accuracy\": 0.6516181800686404, \"macro avg\": {\"precision\": 0.5242520621153347, \"recall\": 0.5526244402213563, \"f1-score\": 0.5355623381275284, \"support\": 124708}, \"weighted avg\": {\"precision\": 0.6826284866681457, \"recall\": 0.6516181800686404, \"f1-score\": 0.6642633334870777, \"support\": 124708}}', 'roc_auc': '{\"auc_1\": 0.9612450434581716, \"auc_2\": 0.8910402958995601, \"auc_3\": 0.8485055782509998, \"auc_4\": 0.7475736125838186, \"auc_5\": 0.9063980886120082, \"auc_micro\": 0.9048136799586157, \"auc_macro\": 0.8709571769328003}', 'loss': 0.8688611388206482, 'accuracy': 0.6516181826591492, 'confusion_matrix': '[[12968, 3152, 895, 163, 257], [2787, 3230, 1605, 322, 187], [1243, 2621, 4646, 2061, 683], [494, 880, 3538, 9312, 6597], [1070, 840, 2259, 11792, 51106]]', 'file': 'drive/My Drive/Springboard/capstone/data/amazon_reviews_us_Wireless_v1_00-500k-with_stop_nonlemmatized-preprocessed.csv', 'network_history_file': 'drive/My Drive/Springboard/capstone/reports/LSTMB16-1x16-glove_with_stop_nonlemmatized-sampling_none-498831-100-review_body-history.pkl', 'tokenizer_file': 'drive/My Drive/Springboard/capstone/models/LSTMB16-1x16-glove_with_stop_nonlemmatized-sampling_none-498831-100-review_body-tokenizer.pkl', 'max_sequence_length': 100, 'batch_size': 32, 'epochs': 14, 'feature_set_name': 'glove_with_stop_nonlemmatized', 'class_weight': '{\"0\": 1.420321175365166, \"1\": 3.028541072187481, \"2\": 2.2028792863609263, \"3\": 1.2028574528881977, \"4\": 0.3730735143988602}', 'sampling_type': 'none', 'embedding': 300, 'model_file': 'drive/My Drive/Springboard/capstone/models/LSTMB16-1x16-glove_with_stop_nonlemmatized-sampling_none-498831-100-review_body-model.h5', 'model_json_file': 'drive/My Drive/Springboard/capstone/models/LSTMB16-1x16-glove_with_stop_nonlemmatized-sampling_none-498831-100-review_body-model.json', 'weights_file': 'drive/My Drive/Springboard/capstone/models/LSTMB16-1x16-glove_with_stop_nonlemmatized-sampling_none-498831-100-review_body-weights.h5', 'test_examples': 124708, 'test_features': 100, 'train_examples': 374123, 'train_features': 100, 'train_time_min': 605.72, 'evaluate_time_min': 1.9, 'predict_time_min': 1.76, 'status': 'success', 'status_date': '2020-05-03 17:50:42'}\n",
            "Saving report file...\n",
            "Saving json config file: drive/My Drive/Springboard/capstone/models/LSTMB16-1x16-glove_with_stop_nonlemmatized-sampling_none-498831-100-review_body-model.json\n",
            "Saving weights file: drive/My Drive/Springboard/capstone/models/LSTMB16-1x16-glove_with_stop_nonlemmatized-sampling_none-498831-100-review_body-weights.h5\n",
            "Saving history file: drive/My Drive/Springboard/capstone/reports/LSTMB16-1x16-glove_with_stop_nonlemmatized-sampling_none-498831-100-review_body-history.pkl\n",
            "Saving model file: drive/My Drive/Springboard/capstone/models/LSTMB16-1x16-glove_with_stop_nonlemmatized-sampling_none-498831-100-review_body-model.h5\n"
          ],
          "name": "stdout"
        }
      ]
    },
    {
      "cell_type": "markdown",
      "metadata": {
        "id": "jyLHNyTcfvHp",
        "colab_type": "text"
      },
      "source": [
        "# Test That Our Models Saved Correctly"
      ]
    },
    {
      "cell_type": "code",
      "metadata": {
        "id": "aOF5a51SfyqM",
        "colab_type": "code",
        "outputId": "cef05488-6bd8-4dfa-b329-f57e61858b2d",
        "colab": {
          "base_uri": "https://localhost:8080/",
          "height": 106
        }
      },
      "source": [
        "from tensorflow.keras.models import load_model\n",
        "\n",
        "model_loaded = load_model(mw.model_file)\n",
        "scores = model_loaded.evaluate(X_test, y_test, verbose=1)\n",
        "print(\"Accuracy: %.2f%%\" % (scores[1]*100))\n",
        "\n",
        "# this takes too long for real models\n",
        "if DEBUG == True:\n",
        "  y_predict = model_loaded.predict(X_test)\n",
        "  y_predict_unencoded = ku.unencode(y_predict)\n",
        "  y_test_unencoded = ku.unencode(y_test)\n",
        "\n",
        "  # classification report\n",
        "  print(classification_report(y_test_unencoded, y_predict_unencoded))\n",
        "\n",
        "  # confusion matrix\n",
        "  print(confusion_matrix(y_test_unencoded, y_predict_unencoded))\n"
      ],
      "execution_count": 15,
      "outputs": [
        {
          "output_type": "stream",
          "text": [
            "WARNING:tensorflow:Layer lstm will not use cuDNN kernel since it doesn't meet the cuDNN kernel criteria. It will use generic GPU kernel as fallback when running on GPU\n"
          ],
          "name": "stdout"
        },
        {
          "output_type": "stream",
          "text": [
            "WARNING:tensorflow:Layer lstm will not use cuDNN kernel since it doesn't meet the cuDNN kernel criteria. It will use generic GPU kernel as fallback when running on GPU\n"
          ],
          "name": "stderr"
        },
        {
          "output_type": "stream",
          "text": [
            "3898/3898 [==============================] - 97s 25ms/step - loss: 0.8689 - categorical_accuracy: 0.6516\n",
            "Accuracy: 65.16%\n"
          ],
          "name": "stdout"
        }
      ]
    },
    {
      "cell_type": "code",
      "metadata": {
        "id": "96A-A5CBJXiy",
        "colab_type": "code",
        "outputId": "8557601b-e04f-44ab-d391-f403956295a5",
        "colab": {
          "base_uri": "https://localhost:8080/",
          "height": 35
        }
      },
      "source": [
        "print(datetime.now())"
      ],
      "execution_count": 16,
      "outputs": [
        {
          "output_type": "stream",
          "text": [
            "2020-05-03 17:53:07.544287\n"
          ],
          "name": "stdout"
        }
      ]
    }
  ]
}