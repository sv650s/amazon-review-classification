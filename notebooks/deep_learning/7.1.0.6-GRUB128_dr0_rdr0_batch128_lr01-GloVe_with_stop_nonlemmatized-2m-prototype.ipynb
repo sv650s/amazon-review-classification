{
  "nbformat": 4,
  "nbformat_minor": 0,
  "metadata": {
    "colab": {
      "name": "7.1.0.6-GRUB128_dr0_rdr0_batch128_lr01-GloVe_with_stop_nonlemmatized-2m-prototype.ipynb",
      "provenance": [],
      "collapsed_sections": [],
      "machine_shape": "hm",
      "include_colab_link": true
    },
    "language_info": {
      "codemirror_mode": {
        "name": "ipython",
        "version": 3
      },
      "file_extension": ".py",
      "mimetype": "text/x-python",
      "name": "python",
      "nbconvert_exporter": "python",
      "pygments_lexer": "ipython3",
      "version": "3.7.3"
    },
    "kernelspec": {
      "name": "python3",
      "display_name": "Python 3"
    },
    "accelerator": "GPU"
  },
  "cells": [
    {
      "cell_type": "markdown",
      "metadata": {
        "id": "view-in-github",
        "colab_type": "text"
      },
      "source": [
        "<a href=\"https://colab.research.google.com/github/sv650s/amazon-review-classification/blob/master/notebooks/deep_learning/7.1.0.6-GRUB128_dr0_rdr0_batch128_lr01-GloVe_with_stop_nonlemmatized-2m-prototype.ipynb\" target=\"_parent\"><img src=\"https://colab.research.google.com/assets/colab-badge.svg\" alt=\"Open In Colab\"/></a>"
      ]
    },
    {
      "cell_type": "markdown",
      "metadata": {
        "id": "W7_sb1roJXhx",
        "colab_type": "text"
      },
      "source": [
        "# Pre-trained GloVe embedding using GRU with 2mil\n",
        " samples without removing stop words\n",
        "\n",
        "In this notebook, we will LSTM with the following configuration\n",
        "\n",
        "* Glove embedding with 300 dimension vectors\n",
        "  * includes stop words\n",
        "  * words are not lemmatized\n",
        "* max sequence length of 100 words (this is same as what we've been doing)\n",
        "* 128 cells \n",
        "* dropout rate: 0\n",
        "* recurrent dropout rate: 0\n",
        "* learning rate of 0.01\n",
        "* batch size of 128\n",
        "* 20 epochs\n",
        "\n",
        "\n"
      ]
    },
    {
      "cell_type": "code",
      "metadata": {
        "id": "pF_xRedK9O1Q",
        "colab_type": "code",
        "outputId": "234ac791-e896-46d8-b75d-fdb5aa7d4afa",
        "colab": {
          "base_uri": "https://localhost:8080/",
          "height": 50
        }
      },
      "source": [
        "from google.colab import drive\n",
        "drive.mount('/content/drive')\n",
        "\n",
        "import sys\n",
        "DRIVE_DIR = \"drive/My Drive/Springboard/capstone\"\n",
        "sys.path.append(DRIVE_DIR)\n",
        "\n",
        "\n",
        "%tensorflow_version 2.x\n",
        "\n",
        "\n",
        "import tensorflow as tf\n",
        "# checl to make sure we are using GPU here\n",
        "tf.test.gpu_device_name()"
      ],
      "execution_count": 1,
      "outputs": [
        {
          "output_type": "stream",
          "text": [
            "Drive already mounted at /content/drive; to attempt to forcibly remount, call drive.mount(\"/content/drive\", force_remount=True).\n"
          ],
          "name": "stdout"
        },
        {
          "output_type": "execute_result",
          "data": {
            "text/plain": [
              "'/device:GPU:0'"
            ]
          },
          "metadata": {
            "tags": []
          },
          "execution_count": 1
        }
      ]
    },
    {
      "cell_type": "code",
      "metadata": {
        "id": "SyhcVd4ec1sq",
        "colab_type": "code",
        "outputId": "6d52f10b-5a9d-41d5-a560-8da954d6e794",
        "colab": {
          "base_uri": "https://localhost:8080/",
          "height": 326
        }
      },
      "source": [
        "# check what GPU we got\n",
        "gpu_info = !nvidia-smi\n",
        "gpu_info = '\\n'.join(gpu_info)\n",
        "if gpu_info.find('failed') >= 0:\n",
        "  print('Select the Runtime → \"Change runtime type\" menu to enable a GPU accelerator, ')\n",
        "  print('and then re-execute this cell.')\n",
        "else:\n",
        "  print(gpu_info)\n",
        "\n",
        "# check that we are using high RAM runtime\n",
        "from psutil import virtual_memory\n",
        "ram_gb = virtual_memory().total / 1e9\n",
        "print('Your runtime has {:.1f} gigabytes of available RAM\\n'.format(ram_gb))\n",
        "\n",
        "if ram_gb < 20:\n",
        "  print('To enable a high-RAM runtime, select the Runtime → \"Change runtime type\"')\n",
        "  print('menu, and then select High-RAM in the Runtime shape dropdown. Then, ')\n",
        "  print('re-execute this cell.')\n",
        "else:\n",
        "  print('You are using a high-RAM runtime!')"
      ],
      "execution_count": 2,
      "outputs": [
        {
          "output_type": "stream",
          "text": [
            "Fri May 29 08:21:35 2020       \n",
            "+-----------------------------------------------------------------------------+\n",
            "| NVIDIA-SMI 440.82       Driver Version: 418.67       CUDA Version: 10.1     |\n",
            "|-------------------------------+----------------------+----------------------+\n",
            "| GPU  Name        Persistence-M| Bus-Id        Disp.A | Volatile Uncorr. ECC |\n",
            "| Fan  Temp  Perf  Pwr:Usage/Cap|         Memory-Usage | GPU-Util  Compute M. |\n",
            "|===============================+======================+======================|\n",
            "|   0  Tesla P100-PCIE...  Off  | 00000000:00:04.0 Off |                    0 |\n",
            "| N/A   45C    P0    33W / 250W |    353MiB / 16280MiB |      0%      Default |\n",
            "+-------------------------------+----------------------+----------------------+\n",
            "                                                                               \n",
            "+-----------------------------------------------------------------------------+\n",
            "| Processes:                                                       GPU Memory |\n",
            "|  GPU       PID   Type   Process name                             Usage      |\n",
            "|=============================================================================|\n",
            "+-----------------------------------------------------------------------------+\n",
            "Your runtime has 27.4 gigabytes of available RAM\n",
            "\n",
            "You are using a high-RAM runtime!\n"
          ],
          "name": "stdout"
        }
      ]
    },
    {
      "cell_type": "code",
      "metadata": {
        "id": "pAHGtniuJXhy",
        "colab_type": "code",
        "outputId": "bd793b0b-c9ee-41e5-fa4e-b560980a381f",
        "colab": {
          "base_uri": "https://localhost:8080/",
          "height": 70
        }
      },
      "source": [
        "from __future__ import absolute_import, division, print_function, unicode_literals\n",
        "\n",
        "\n",
        "from tensorflow.keras.models import Sequential\n",
        "from tensorflow.keras.layers import Dense, Activation, Dropout\n",
        "from tensorflow.keras.layers import BatchNormalization\n",
        "from tensorflow.keras.callbacks import EarlyStopping, ReduceLROnPlateau\n",
        "from tensorflow.keras.models import load_model\n",
        "from tensorflow.keras.optimizers import SGD, Adam\n",
        "from tensorflow.keras.layers import Conv1D, MaxPooling1D, Embedding, \\\n",
        "    SpatialDropout1D, Flatten, LSTM\n",
        "from tensorflow.keras.preprocessing.text import Tokenizer\n",
        "from tensorflow.keras.preprocessing import sequence\n",
        "from tensorflow.keras.utils import model_to_dot\n",
        "from tensorflow.keras.initializers import Constant\n",
        "\n",
        "\n",
        "from sklearn.model_selection import train_test_split\n",
        "from sklearn.preprocessing import OneHotEncoder\n",
        "from sklearn.preprocessing import LabelEncoder\n",
        "from sklearn.metrics import confusion_matrix, classification_report\n",
        "from sklearn.utils.class_weight import compute_class_weight\n",
        "\n",
        "\n",
        "import pandas as pd\n",
        "import numpy as np\n",
        "from IPython.display import SVG\n",
        "import pickle\n",
        "from datetime import datetime\n",
        "import matplotlib.pyplot as plt\n",
        "import seaborn as sns\n",
        "import os\n",
        "import logging\n",
        "\n",
        "\n",
        "import util.dict_util as du\n",
        "import util.plot_util as pu\n",
        "import util.file_util as fu\n",
        "import util.keras_util as ku\n",
        "import util.report_util as ru\n",
        "\n",
        "import random\n",
        "\n",
        "# fix random seeds\n",
        "tf.compat.v1.reset_default_graph()\n",
        "tf.compat.v1.set_random_seed(1)\n",
        "random.seed(1)\n",
        "np.random.seed(1)\n",
        "\n",
        "logging.basicConfig(level=logging.ERROR)\n",
        "\n",
        "%matplotlib inline\n",
        "sns.set()\n",
        "\n",
        "\n",
        "DATE_FORMAT = '%Y-%m-%d'\n",
        "TIME_FORMAT = '%Y-%m-%d %H:%M:%S'\n",
        "LABEL_COLUMN = \"star_rating\"\n",
        "FEATURE_COLUMN = \"review_body\"\n",
        "\n",
        "\n",
        "DEBUG = False\n",
        "\n",
        "\n",
        "DIM = 128 # total LSTM units\n",
        "# length of our embedding - 300 is standard\n",
        "EMBED_SIZE = 300\n",
        "EPOCHS  = 20\n",
        "BATCH_SIZE = 128\n",
        "LEARNING_RATE = 0.01\n",
        "DROPOUT_RATE = 0.0\n",
        "RECURRENT_DROPOUT_RATE = 0.0\n",
        "PATIENCE = 6\n",
        "BIDIRECTIONAL = False\n",
        "BALANCE_CLASS_WEIGHTS = True\n",
        "TRAIN_EMBEDDINGS = False\n",
        "MODEL_VERSION = 1\n",
        "PLATEAU_PATIENCE = 3\n",
        "ENVIRONMENT = \"7.1.0.6-GRU128_dr0_rdr0_batch128_lr01-GloVe_with_stop_nonlemmatized-2m-prototype.ipynb\"\n",
        "\n",
        "SAMPLES = \"2m\"\n",
        "FEATURE_SET_NAME = \"glove_with_stop_nonlemmatized\"\n",
        "\n",
        "\n",
        "# From EDA, we know that 90% of review bodies have 100 words or less, \n",
        "# we will use this as our sequence length\n",
        "MAX_SEQUENCE_LENGTH = 100\n",
        "\n",
        "if BIDIRECTIONAL:\n",
        "  bidirectional_name = \"bi\"\n",
        "else:\n",
        "  bidirectional_name = \"\"\n",
        "\n",
        "if BALANCE_CLASS_WEIGHTS:\n",
        "  balanced_name = \"B\"\n",
        "else:\n",
        "  balanced_name = \"\"\n",
        "\n",
        "MODEL_NAME = f\"{bidirectional_name}GRU{balanced_name}{DIM}\"\n",
        "ARCHITECTURE = f\"1x{DIM}\"\n",
        "DESCRIPTION = f\"1 Layer {DIM} GRU Units, Dropout {DROPOUT_RATE}, Recurrent Dropout {RECURRENT_DROPOUT_RATE}, Batch Size {BATCH_SIZE}, Learning Rate {LEARNING_RATE}\"\n",
        "\n",
        "REPORT_FILE = f\"{MODEL_NAME}_\" \\\n",
        "              f\"dr{ku.get_decimal_str(DROPOUT_RATE)}_\" \\\n",
        "              f\"rdr{ku.get_decimal_str(RECURRENT_DROPOUT_RATE)}_\" \\\n",
        "              f\"batch{BATCH_SIZE}_\" \\\n",
        "              f\"lr{ku.get_decimal_str(LEARNING_RATE)}-{FEATURE_SET_NAME}-dl_prototype-report.csv\"\n",
        "\n",
        "if DEBUG:\n",
        "  DATA_FILE = f'{DRIVE_DIR}/data/amazon_reviews_us_Wireless_v1_00-test-preprocessed.csv'\n",
        "  MODEL_NAME = f'test-{MODEL_NAME}'\n",
        "  MISSING_WORDS_FILE = f'{DRIVE_DIR}/reports/glove_embedding-missing_words-test.csv'\n",
        "  ku.ModelWrapper.set_report_filename(f\"test-{REPORT_FILE}\")\n",
        "\n",
        "else:\n",
        "  DATA_FILE = f\"{DRIVE_DIR}/data/amazon_reviews_us_Wireless_v1_00-{SAMPLES}-with_stop_nonlemmatized-preprocessed.csv\"\n",
        "  MISSING_WORDS_FILE = f'{DRIVE_DIR}/reports/glove_embedding-missing_words-{SAMPLES}.csv'\n",
        "  ku.ModelWrapper.set_report_filename(REPORT_FILE)\n",
        "\n",
        "\n",
        "EMBEDDING_FILE = f'{DRIVE_DIR}/data/embeddings/glove.840B.300d.txt'\n",
        "\n",
        "start_time = datetime.now()\n",
        "\n",
        "\n",
        "\n"
      ],
      "execution_count": 3,
      "outputs": [
        {
          "output_type": "stream",
          "text": [
            "/usr/local/lib/python3.6/dist-packages/statsmodels/tools/_testing.py:19: FutureWarning: pandas.util.testing is deprecated. Use the functions in the public API at pandas.testing instead.\n",
            "  import pandas.util.testing as tm\n"
          ],
          "name": "stderr"
        }
      ]
    },
    {
      "cell_type": "code",
      "metadata": {
        "hide_input": false,
        "id": "k6fwJp9OJXh5",
        "colab_type": "code",
        "colab": {}
      },
      "source": [
        "df = pd.read_csv(DATA_FILE)\n",
        "\n",
        "rating = df[LABEL_COLUMN]\n",
        "reviews = df[FEATURE_COLUMN]"
      ],
      "execution_count": 0,
      "outputs": []
    },
    {
      "cell_type": "code",
      "metadata": {
        "id": "GKdUpCsshGk8",
        "colab_type": "code",
        "colab": {}
      },
      "source": [
        ""
      ],
      "execution_count": 0,
      "outputs": []
    },
    {
      "cell_type": "code",
      "metadata": {
        "id": "rMdM2TS7hGgc",
        "colab_type": "code",
        "colab": {}
      },
      "source": [
        ""
      ],
      "execution_count": 0,
      "outputs": []
    },
    {
      "cell_type": "code",
      "metadata": {
        "id": "kHMW5sNShGce",
        "colab_type": "code",
        "colab": {}
      },
      "source": [
        ""
      ],
      "execution_count": 0,
      "outputs": []
    },
    {
      "cell_type": "code",
      "metadata": {
        "id": "HvcwW1AmhGNU",
        "colab_type": "code",
        "colab": {}
      },
      "source": [
        ""
      ],
      "execution_count": 0,
      "outputs": []
    },
    {
      "cell_type": "markdown",
      "metadata": {
        "id": "EBQR0ZpoOiQk",
        "colab_type": "text"
      },
      "source": [
        "# Preprocessing"
      ]
    },
    {
      "cell_type": "code",
      "metadata": {
        "id": "_g2Wm80MCgGZ",
        "colab_type": "code",
        "colab": {}
      },
      "source": [
        ""
      ],
      "execution_count": 0,
      "outputs": []
    },
    {
      "cell_type": "code",
      "metadata": {
        "id": "lytdvF4neJ4r",
        "colab_type": "code",
        "outputId": "3e3ea584-54d3-4111-b1e1-0020197a3507",
        "colab": {
          "base_uri": "https://localhost:8080/",
          "height": 66
        }
      },
      "source": [
        "\n",
        "\n",
        "# pre-process our lables\n",
        "# one hot encode our star ratings since Keras/TF requires this for the labels\n",
        "y = OneHotEncoder().fit_transform(rating.values.reshape(len(rating), 1)).toarray()\n",
        "\n",
        "\n",
        "# split our data into train and test sets\n",
        "reviews_train, reviews_test, y_train, y_test = train_test_split(reviews, y, random_state=1)\n",
        "\n",
        "\n",
        "# Pre-process our features (review body)\n",
        "t = Tokenizer(oov_token=\"<UNK>\")\n",
        "# fit the tokenizer on the documents\n",
        "t.fit_on_texts(reviews_train)\n",
        "# tokenize both our training and test data\n",
        "train_sequences = t.texts_to_sequences(reviews_train)\n",
        "test_sequences = t.texts_to_sequences(reviews_test)\n",
        "\n",
        "print(\"Vocabulary size={}\".format(len(t.word_counts)))\n",
        "print(\"Number of Documents={}\".format(t.document_count))\n",
        "\n",
        "\n",
        "# pad our reviews to the max sequence length\n",
        "X_train = sequence.pad_sequences(train_sequences, maxlen=MAX_SEQUENCE_LENGTH)\n",
        "X_test = sequence.pad_sequences(test_sequences, maxlen=MAX_SEQUENCE_LENGTH)\n",
        "\n",
        "print('Train review vectors shape:', X_train.shape, ' Test review vectors shape:', X_test.shape)\n"
      ],
      "execution_count": 5,
      "outputs": [
        {
          "output_type": "stream",
          "text": [
            "Vocabulary size=186038\n",
            "Number of Documents=1683481\n",
            "Train review vectors shape: (1683481, 100)  Test review vectors shape: (561161, 100)\n"
          ],
          "name": "stdout"
        }
      ]
    },
    {
      "cell_type": "markdown",
      "metadata": {
        "id": "TgorpmIPnQH9",
        "colab_type": "text"
      },
      "source": [
        "## Load our pre-trained embedding\n",
        "\n",
        "embeddings_index will be a map where key == word, value == the embedding vector"
      ]
    },
    {
      "cell_type": "code",
      "metadata": {
        "id": "5j7D7LLinP0r",
        "colab_type": "code",
        "outputId": "e659b682-eaf8-4338-a534-8fbc3765efba",
        "colab": {
          "base_uri": "https://localhost:8080/",
          "height": 82
        }
      },
      "source": [
        "\n",
        "EMBEDDING_INDEX_FILE = f'{DRIVE_DIR}/models/glove.840B.300d-embedding_index'\n",
        "\n",
        "embeddings_index = {}\n",
        "\n",
        "if os.path.exists(f'{EMBEDDING_INDEX_FILE}.npy'):\n",
        "  print(f'Loading {EMBEDDING_INDEX_FILE}.npy')\n",
        "  embeddings_index = np.load(f'{EMBEDDING_INDEX_FILE}.npy', \n",
        "                             allow_pickle = True).item()\n",
        "else:\n",
        "  print('Indexing word vectors.')\n",
        "\n",
        "  with open(EMBEDDING_FILE) as f:\n",
        "      for line in f:\n",
        "          word, coefs = line.split(maxsplit=1)\n",
        "          coefs = np.fromstring(coefs, 'f', sep=' ')\n",
        "          embeddings_index[word] = coefs\n",
        "  np.save(EMBEDDING_INDEX_FILE, embeddings_index)\n",
        "\n",
        "print(type(embeddings_index))\n",
        "print(np.shape(embeddings_index))\n",
        "print('Found %s word vectors.' % len(embeddings_index))\n",
        "\n",
        "\n"
      ],
      "execution_count": 6,
      "outputs": [
        {
          "output_type": "stream",
          "text": [
            "Loading drive/My Drive/Springboard/capstone/models/glove.840B.300d-embedding_index.npy\n",
            "<class 'dict'>\n",
            "()\n",
            "Found 2195884 word vectors.\n"
          ],
          "name": "stdout"
        }
      ]
    },
    {
      "cell_type": "code",
      "metadata": {
        "id": "pchOfR6qnPxB",
        "colab_type": "code",
        "colab": {}
      },
      "source": [
        ""
      ],
      "execution_count": 0,
      "outputs": []
    },
    {
      "cell_type": "code",
      "metadata": {
        "id": "G7L7HL6EnPtA",
        "colab_type": "code",
        "colab": {}
      },
      "source": [
        ""
      ],
      "execution_count": 0,
      "outputs": []
    },
    {
      "cell_type": "markdown",
      "metadata": {
        "id": "rYvqmy4xmQWD",
        "colab_type": "text"
      },
      "source": [
        "## Create Embedding Matrix based on our tokenizer\n",
        "\n",
        "For every word in our vocabulary, we will look up the embedding vector and add the it to our embedding matrix\n",
        "\n",
        "The matrix will be passed in as weights in our embedding layer later\n",
        "\n",
        "If there is word that does not exist in the pre-trained embedding vocabulary, we will leave the weights as 0 vector and save off the word into a CSV file later for analysis"
      ]
    },
    {
      "cell_type": "code",
      "metadata": {
        "id": "bIrMqj-HmPwk",
        "colab_type": "code",
        "outputId": "aa5d8764-4de7-4c78-e1d8-aff868845528",
        "colab": {
          "base_uri": "https://localhost:8080/",
          "height": 66
        }
      },
      "source": [
        "# this is a map with key == word, value == index in the vocabulary\n",
        "word_index = t.word_index\n",
        "print(f'word_index length: {len(word_index)}')\n",
        "\n",
        "# we are going to use the entire vocab so we can alter this from the example\n",
        "# num_words = min(MAX_NUM_WORDS, len(word_index) + 1)\n",
        "\n",
        "# start with a matrix of 0's\n",
        "embedding_matrix = np.zeros((len(word_index) + 1, EMBED_SIZE))\n",
        "\n",
        "# if a word doesn't exist in our vocabulary, let's save it off\n",
        "missing_words = []\n",
        "print(f'embedding_matrix shape: {np.shape(embedding_matrix)}')\n",
        "for word, i in word_index.items():\n",
        "    # print(f'word: {word} i: {i}')\n",
        "    embedding_vector = embeddings_index.get(word)\n",
        "    if embedding_vector is not None and np.shape(embedding_vector)[0] == EMBED_SIZE:\n",
        "        # words not found in embedding index will be all-zeros.\n",
        "        # print(f'i: {i} embedding_vector shape: {np.shape(embedding_vector)}')\n",
        "        embedding_matrix[i] = embedding_vector\n",
        "    else:\n",
        "      missing_words.append(word)\n",
        "\n",
        "print(f'Number of missing words from our vocabulary: {len(missing_words)}')\n",
        "\n"
      ],
      "execution_count": 7,
      "outputs": [
        {
          "output_type": "stream",
          "text": [
            "word_index length: 186039\n",
            "embedding_matrix shape: (186040, 300)\n",
            "Number of missing words from our vocabulary: 93887\n"
          ],
          "name": "stdout"
        }
      ]
    },
    {
      "cell_type": "markdown",
      "metadata": {
        "id": "TIw5aJS8trK-",
        "colab_type": "text"
      },
      "source": [
        "Save off our missing words into a csv file so we can analyze this later"
      ]
    },
    {
      "cell_type": "code",
      "metadata": {
        "id": "XN1Vr2oSto2f",
        "colab_type": "code",
        "colab": {}
      },
      "source": [
        "# save missing words into a file so we can analyze it later\n",
        "missing_words_df = pd.DataFrame(missing_words).sort_values(0)\n",
        "missing_words_df.to_csv(MISSING_WORDS_FILE, index=False)"
      ],
      "execution_count": 0,
      "outputs": []
    },
    {
      "cell_type": "markdown",
      "metadata": {
        "id": "6hWLBCjqucDJ",
        "colab_type": "text"
      },
      "source": [
        "**Build LSTM Model Architecture**"
      ]
    },
    {
      "cell_type": "code",
      "metadata": {
        "scrolled": false,
        "id": "60eC_0fRJXiQ",
        "colab_type": "code",
        "outputId": "de193271-5eed-43d8-8bb2-07acd219abe7",
        "colab": {
          "base_uri": "https://localhost:8080/",
          "height": 1000
        }
      },
      "source": [
        "vocab_size = len(t.word_index)+1\n",
        "\n",
        "# reduce learning rate if we sense a plateau\n",
        "reduce_lr = ReduceLROnPlateau(monitor='val_loss', \n",
        "                              restore_best_weights=True,\n",
        "                              factor = 0.5,\n",
        "                              patience = PLATEAU_PATIENCE,\n",
        "                              verbose = 1)\n",
        "\n",
        "early_stop = EarlyStopping(monitor='val_loss', \n",
        "                           patience=PATIENCE, \n",
        "                           verbose=1,\n",
        "                           restore_best_weights=True)\n",
        "\n",
        "mw = ku.GRU1LayerModelWrapper(\n",
        "                        dimension = DIM, # LSTM dim - LSTM1LyerModelWrapper\n",
        "                          dropout_rate = DROPOUT_RATE, # dropout rate - LSTM1LyerModelWrapper\n",
        "                          recurrent_dropout_rate = RECURRENT_DROPOUT_RATE, # recurrent dropout rate - LSTM1LyerModelWrapper\n",
        "                          bidirectional = BIDIRECTIONAL, # bidirectional - LSTM1LyerModelWrapper\n",
        "                          vocab_size = vocab_size,       # vocab size - EmbeddingModelWrapper\n",
        "                          max_sequence_length = MAX_SEQUENCE_LENGTH, # max sequence length - EmbeddingModelWrapper\n",
        "                          embed_size = EMBED_SIZE, # embed size - EmbeddingModelWrapper\n",
        "                        train_embeddings  =  TRAIN_EMBEDDINGS, # trainable embedding - EmbeddingModelWrapper\n",
        "                        embedding_matrix = embedding_matrix, # embedding matrix weights - EmbeddingModelWrapper\n",
        "                        model_name = MODEL_NAME, # model name - ModelWrapper\n",
        "                        architecture = ARCHITECTURE, # architecture - ModelWrapper\n",
        "                        feature_set_name = FEATURE_SET_NAME, # feature_set_name - ModelWrapper\n",
        "                        label_column = LABEL_COLUMN, # label_column - ModelWrapper\n",
        "                        feature_column = FEATURE_COLUMN, # feature_column - ModelWrapper\n",
        "                        data_file = DATA_FILE, # data file - ModelWrapper\n",
        "                        sample_size_str = SAMPLES, # sample size\n",
        "                        tokenizer = t, # tokenizer - ModelWrapper\n",
        "                        description = DESCRIPTION, #description - ModelWrapper\n",
        "                        optimizer_name = \"Adam\", # string optimizer name\n",
        "                        learning_rate = LEARNING_RATE, # learning rate - ModelWrapper\n",
        "                        # TODO: this should be in fit instead but need it to define name for the\n",
        "                        # checkpoint location - move later\n",
        "                        batch_size = BATCH_SIZE, # batch size - ModelWrapper\n",
        "                        model_version= MODEL_VERSION, # model version - ModelWrapper\n",
        "                        save_dir = DRIVE_DIR # where to save outputs - ModelWrapper\n",
        ")\n",
        "\n",
        "mw.add(\"environment\", ENVIRONMENT)\n",
        "mw.add(\"patience\", PATIENCE)\n",
        "mw.add(\"plateau_patience\", PLATEAU_PATIENCE)\n",
        "\n",
        "\n",
        "network_history = mw.fit(X_train, y_train,\n",
        "                      epochs = EPOCHS,\n",
        "                      verbose = 1,\n",
        "                      validation_split = 0.2,\n",
        "                      balance_class_weights = BALANCE_CLASS_WEIGHTS,\n",
        "                      callbacks=[early_stop, reduce_lr])\n",
        "\n"
      ],
      "execution_count": 9,
      "outputs": [
        {
          "output_type": "stream",
          "text": [
            "Model: \"sequential\"\n",
            "_________________________________________________________________\n",
            "Layer (type)                 Output Shape              Param #   \n",
            "=================================================================\n",
            "embedding (Embedding)        (None, 100, 300)          55812000  \n",
            "_________________________________________________________________\n",
            "gru (GRU)                    (None, 128)               165120    \n",
            "_________________________________________________________________\n",
            "dense (Dense)                (None, 5)                 645       \n",
            "=================================================================\n",
            "Total params: 55,977,765\n",
            "Trainable params: 165,765\n",
            "Non-trainable params: 55,812,000\n",
            "_________________________________________________________________\n",
            "Build model:\n",
            "None\n",
            "Starting training on model:\n",
            "\n",
            "ModelWrapper parameters:\n",
            "\ttf_version:\t\t\t2.2.0\n",
            "\tmodel_name:\t\t\tGRUB128\n",
            "\tdescription:\t\t\t1 Layer 128 GRU Units, Dropout 0.0, Recurrent Dropout 0.0, Batch Size 128, Learning Rate 0.01\n",
            "\tarchitecture:\t\t\t1x128\n",
            "\tfeature_set_name:\t\tglove_with_stop_nonlemmatized\n",
            "\tlabel_column:\t\t\tstar_rating\n",
            "\tfeature_column:\t\t\treview_body\n",
            "\tdata_file:\t\t\tdrive/My Drive/Springboard/capstone/data/amazon_reviews_us_Wireless_v1_00-2m-with_stop_nonlemmatized-preprocessed.csv\n",
            "\tbatch_size:\t\t\t128\n",
            "\tsample_size:\t\t\t2m\n",
            "\tsampling_type:\t\t\tnone\n",
            "\ttokenizer:\t\t\t<keras_preprocessing.text.Tokenizer object at 0x7fc6a61cc080>\n",
            "\tsave_weights:\t\t\tTrue\n",
            "\toptimizer:\t\t\tAdam\n",
            "\tlearning_rate:\t\t\t0.01\n",
            "\tversion:\t\t\t1\n",
            "\tsave_dir:\t\t\tdrive/My Drive/Springboard/capstone\n",
            "\tload_model_file:\t\t\tNone\n",
            "\n",
            "\tReport Output:\n",
            "\t\treport_file:\t\t\tdrive/My Drive/Springboard/capstone/reports/GRUB128_dr0_rdr0_batch128_lr01-glove_with_stop_nonlemmatized-dl_prototype-report.csv\n",
            "\n",
            "\tModel Output:\n",
            "\t\ttokenizer_file:\t\t\tdrive/My Drive/Springboard/capstone/models/GRUB128-1x128-dr0-rdr0-batch128-lr01-glove_with_stop_nonlemmatized-sampling_none-2m-review_body-tf2-2-0-v1/GRUB128-1x128-dr0-rdr0-batch128-lr01-glove_with_stop_nonlemmatized-sampling_none-2m-review_body-tf2-2-0-v1-tokenizer.pkl\n",
            "\t\tsave_json:\t\t\tTrue\n",
            "\t\tsave_savedmodel:\t\tFalse\n",
            "\t\tsave_h5:\t\t\tFalse\n",
            "\t\tcheckpoint_file:\t\tdrive/My Drive/Springboard/capstone/models/GRUB128-1x128-dr0-rdr0-batch128-lr01-glove_with_stop_nonlemmatized-sampling_none-2m-review_body-tf2-2-0-v1/checkpoints\n",
            "\t\tmodel_json_file:\t\tdrive/My Drive/Springboard/capstone/models/GRUB128-1x128-dr0-rdr0-batch128-lr01-glove_with_stop_nonlemmatized-sampling_none-2m-review_body-tf2-2-0-v1/GRUB128-1x128-dr0-rdr0-batch128-lr01-glove_with_stop_nonlemmatized-sampling_none-2m-review_body-tf2-2-0-v1-model.json\n",
            "\t\tweights_file:\t\t\tdrive/My Drive/Springboard/capstone/models/GRUB128-1x128-dr0-rdr0-batch128-lr01-glove_with_stop_nonlemmatized-sampling_none-2m-review_body-tf2-2-0-v1/GRUB128-1x128-dr0-rdr0-batch128-lr01-glove_with_stop_nonlemmatized-sampling_none-2m-review_body-tf2-2-0-v1-weights.h5\n",
            "\n",
            "\n",
            "EmbeddingModelWrapper parameters:\n",
            "\tvocab_size:\t\t\t186040\n",
            "\tembed_size:\t\t\t300\n",
            "\tmax_sequence_length:\t\t100\n",
            "\ttrain_embeddings:\t\tFalse\n",
            "\tembedding_matrix_shape:\t\t(186040, 300)\n",
            "\n",
            "GRU1LayerModelWrapper parameters:\n",
            "\tdimension:\t\t\t128\n",
            "\tbidirectional:\t\t\tFalse\n",
            "\tdropout_rate:\t\t\t0.0\n",
            "\trecurrent_dropout_rate:\t\t0.0\n",
            "\n",
            "Epoch 1/20\n",
            "10522/10522 [==============================] - 148s 14ms/step - loss: 1.0850 - categorical_accuracy: 0.6073 - val_loss: 0.9564 - val_categorical_accuracy: 0.6078 - lr: 0.0100\n",
            "Epoch 2/20\n",
            "10522/10522 [==============================] - 147s 14ms/step - loss: 1.0630 - categorical_accuracy: 0.6187 - val_loss: 0.9285 - val_categorical_accuracy: 0.6172 - lr: 0.0100\n",
            "Epoch 3/20\n",
            "10522/10522 [==============================] - 148s 14ms/step - loss: 1.0592 - categorical_accuracy: 0.6196 - val_loss: 0.9076 - val_categorical_accuracy: 0.6317 - lr: 0.0100\n",
            "Epoch 4/20\n",
            "10522/10522 [==============================] - 147s 14ms/step - loss: 1.0581 - categorical_accuracy: 0.6207 - val_loss: 0.9093 - val_categorical_accuracy: 0.6300 - lr: 0.0100\n",
            "Epoch 5/20\n",
            "10522/10522 [==============================] - 147s 14ms/step - loss: 1.0580 - categorical_accuracy: 0.6207 - val_loss: 0.9317 - val_categorical_accuracy: 0.6263 - lr: 0.0100\n",
            "Epoch 6/20\n",
            "10520/10522 [============================>.] - ETA: 0s - loss: 1.0594 - categorical_accuracy: 0.6193\n",
            "Epoch 00006: ReduceLROnPlateau reducing learning rate to 0.004999999888241291.\n",
            "10522/10522 [==============================] - 147s 14ms/step - loss: 1.0593 - categorical_accuracy: 0.6193 - val_loss: 0.9842 - val_categorical_accuracy: 0.5987 - lr: 0.0100\n",
            "Epoch 7/20\n",
            "10522/10522 [==============================] - 147s 14ms/step - loss: 1.0407 - categorical_accuracy: 0.6277 - val_loss: 0.8622 - val_categorical_accuracy: 0.6572 - lr: 0.0050\n",
            "Epoch 8/20\n",
            "10522/10522 [==============================] - 147s 14ms/step - loss: 1.0282 - categorical_accuracy: 0.6324 - val_loss: 0.9040 - val_categorical_accuracy: 0.6304 - lr: 0.0050\n",
            "Epoch 9/20\n",
            "10522/10522 [==============================] - 147s 14ms/step - loss: 1.0235 - categorical_accuracy: 0.6347 - val_loss: 0.9075 - val_categorical_accuracy: 0.6286 - lr: 0.0050\n",
            "Epoch 10/20\n",
            "10519/10522 [============================>.] - ETA: 0s - loss: 1.0241 - categorical_accuracy: 0.6339\n",
            "Epoch 00010: ReduceLROnPlateau reducing learning rate to 0.0024999999441206455.\n",
            "10522/10522 [==============================] - 148s 14ms/step - loss: 1.0241 - categorical_accuracy: 0.6339 - val_loss: 0.9004 - val_categorical_accuracy: 0.6321 - lr: 0.0050\n",
            "Epoch 11/20\n",
            "10522/10522 [==============================] - 147s 14ms/step - loss: 1.0069 - categorical_accuracy: 0.6404 - val_loss: 0.9025 - val_categorical_accuracy: 0.6333 - lr: 0.0025\n",
            "Epoch 12/20\n",
            "10522/10522 [==============================] - 148s 14ms/step - loss: 1.0027 - categorical_accuracy: 0.6425 - val_loss: 0.8900 - val_categorical_accuracy: 0.6403 - lr: 0.0025\n",
            "Epoch 13/20\n",
            "10521/10522 [============================>.] - ETA: 0s - loss: 0.9998 - categorical_accuracy: 0.6431Restoring model weights from the end of the best epoch.\n",
            "\n",
            "Epoch 00013: ReduceLROnPlateau reducing learning rate to 0.0012499999720603228.\n",
            "10522/10522 [==============================] - 147s 14ms/step - loss: 0.9998 - categorical_accuracy: 0.6431 - val_loss: 0.8998 - val_categorical_accuracy: 0.6288 - lr: 0.0025\n",
            "Epoch 00013: early stopping\n",
            "Total training time: 32.08 mins\n"
          ],
          "name": "stdout"
        }
      ]
    },
    {
      "cell_type": "code",
      "metadata": {
        "id": "9ODVYfOYzZ-K",
        "colab_type": "code",
        "outputId": "8d6e0f23-8c05-404f-b189-e097e433b61e",
        "colab": {
          "base_uri": "https://localhost:8080/",
          "height": 460
        }
      },
      "source": [
        "scores = mw.evaluate(X_test, y_test)\n",
        "print(\"Training Accuracy: %.2f%%\" % (mw.train_scores[1]*100))\n",
        "print(\"Test Accuracy: %.2f%%\" % (mw.test_scores[1]*100))\n",
        "print(f'Training Score: {ru.calculate_metric(mw.train_crd)}')\n",
        "print(f'Test Score: {ru.calculate_metric(mw.test_crd)}')\n",
        "mw.save(append_report=True)"
      ],
      "execution_count": 10,
      "outputs": [
        {
          "output_type": "stream",
          "text": [
            "Number of test: 561161\n",
            "Running model.evaluate on test set...\n",
            "17537/17537 [==============================] - 93s 5ms/step - loss: 0.8637 - categorical_accuracy: 0.6567\n",
            "Running model.predict on test set...\n",
            "Unencode test set predictions...\n",
            "Generating test set confusion matrix...\n",
            "Calculating test set ROC AUC...\n",
            "(561161, 5)\n",
            "Getting test set classification report...\n",
            "Running model.evaluate on training set...\n",
            "52609/52609 [==============================] - 279s 5ms/step - loss: 0.8555 - categorical_accuracy: 0.6597\n",
            "Running model.predict on training set...\n",
            "Unencode training set predictions...\n",
            "Generating training set confusion matrix...\n",
            "Calculating training set ROC AUC...\n",
            "(1683481, 5)\n",
            "Getting training set classification report...\n",
            "Training Accuracy: 65.97%\n",
            "Test Accuracy: 65.67%\n",
            "Training Score: 0.5036191109230046\n",
            "Test Score: 0.49752847090701935\n",
            "Saving to report file: drive/My Drive/Springboard/capstone/reports/GRUB128_dr0_rdr0_batch128_lr01-glove_with_stop_nonlemmatized-dl_prototype-report.csv\n",
            "Loading to append to: drive/My Drive/Springboard/capstone/reports/GRUB128_dr0_rdr0_batch128_lr01-glove_with_stop_nonlemmatized-dl_prototype-report.csv\n",
            "Saving report file...\n",
            "Saving json config file: drive/My Drive/Springboard/capstone/models/GRUB128-1x128-dr0-rdr0-batch128-lr01-glove_with_stop_nonlemmatized-sampling_none-2m-review_body-tf2-2-0-v1/GRUB128-1x128-dr0-rdr0-batch128-lr01-glove_with_stop_nonlemmatized-sampling_none-2m-review_body-tf2-2-0-v1-model.json\n",
            "Saving weights file: drive/My Drive/Springboard/capstone/models/GRUB128-1x128-dr0-rdr0-batch128-lr01-glove_with_stop_nonlemmatized-sampling_none-2m-review_body-tf2-2-0-v1/GRUB128-1x128-dr0-rdr0-batch128-lr01-glove_with_stop_nonlemmatized-sampling_none-2m-review_body-tf2-2-0-v1-weights.h5\n"
          ],
          "name": "stdout"
        }
      ]
    },
    {
      "cell_type": "code",
      "metadata": {
        "id": "2VHBrsPjJXiS",
        "colab_type": "code",
        "colab": {
          "base_uri": "https://localhost:8080/",
          "height": 1000
        },
        "outputId": "bbe03bd0-f08e-42e9-9c7f-86121bab20b9"
      },
      "source": [
        "\n",
        "\n",
        "pu.plot_network_history(mw.network_history, \"categorical_accuracy\", \"val_categorical_accuracy\")\n",
        "plt.show()\n",
        "\n",
        "print(\"\\nConfusion Matrix\")\n",
        "print(mw.test_confusion_matrix)\n",
        "\n",
        "print(\"\\nClassification Report\")\n",
        "print(mw.test_classification_report)\n",
        "\n",
        "fig = plt.figure(figsize=(5,5))\n",
        "pu.plot_roc_auc(mw.model_name, mw.test_roc_auc, mw.test_fpr, mw.test_tpr)\n",
        "\n"
      ],
      "execution_count": 11,
      "outputs": [
        {
          "output_type": "display_data",
          "data": {
            "image/png": "[encoded data removed]",
            "text/plain": [
              "<Figure size 720x360 with 2 Axes>"
            ]
          },
          "metadata": {
            "tags": []
          }
        },
        {
          "output_type": "stream",
          "text": [
            "\n",
            "Confusion Matrix\n",
            "[[ 52997  17931   5519    718   1926]\n",
            " [ 10324  15204   9000   1189   1379]\n",
            " [  4214  10948  23663   7525   4740]\n",
            " [  1440   3889  18935  33829  35867]\n",
            " [  3359   3937  12970  36861 242797]]\n",
            "\n",
            "Classification Report\n",
            "              precision    recall  f1-score   support\n",
            "\n",
            "           1       0.73      0.67      0.70     79091\n",
            "           2       0.29      0.41      0.34     37096\n",
            "           3       0.34      0.46      0.39     51090\n",
            "           4       0.42      0.36      0.39     93960\n",
            "           5       0.85      0.81      0.83    299924\n",
            "\n",
            "    accuracy                           0.66    561161\n",
            "   macro avg       0.53      0.54      0.53    561161\n",
            "weighted avg       0.68      0.66      0.66    561161\n",
            "\n"
          ],
          "name": "stdout"
        },
        {
          "output_type": "stream",
          "text": [
            "drive/My Drive/Springboard/capstone/util/plot_util.py:283: MatplotlibDeprecationWarning: The 'withdash' parameter of text() is deprecated since Matplotlib 3.1 and will be removed in 3.3.  If any parameter follows 'withdash', they should be pass as keyword, not positionally.\n",
            "  withdash=True)\n",
            "drive/My Drive/Springboard/capstone/util/plot_util.py:283: MatplotlibDeprecationWarning: \n",
            "The TextWithDash class was deprecated in Matplotlib 3.1 and will be removed in 3.3. Use Annotation instead.\n",
            "  withdash=True)\n",
            "drive/My Drive/Springboard/capstone/util/plot_util.py:287: MatplotlibDeprecationWarning: The 'withdash' parameter of text() is deprecated since Matplotlib 3.1 and will be removed in 3.3.  If any parameter follows 'withdash', they should be pass as keyword, not positionally.\n",
            "  withdash=True)\n",
            "drive/My Drive/Springboard/capstone/util/plot_util.py:287: MatplotlibDeprecationWarning: \n",
            "The TextWithDash class was deprecated in Matplotlib 3.1 and will be removed in 3.3. Use Annotation instead.\n",
            "  withdash=True)\n",
            "drive/My Drive/Springboard/capstone/util/plot_util.py:291: MatplotlibDeprecationWarning: The 'withdash' parameter of text() is deprecated since Matplotlib 3.1 and will be removed in 3.3.  If any parameter follows 'withdash', they should be pass as keyword, not positionally.\n",
            "  withdash=True)\n",
            "drive/My Drive/Springboard/capstone/util/plot_util.py:291: MatplotlibDeprecationWarning: \n",
            "The TextWithDash class was deprecated in Matplotlib 3.1 and will be removed in 3.3. Use Annotation instead.\n",
            "  withdash=True)\n"
          ],
          "name": "stderr"
        },
        {
          "output_type": "display_data",
          "data": {
            "image/png": "[encoded data removed]",
            "text/plain": [
              "<Figure size 360x360 with 1 Axes>"
            ]
          },
          "metadata": {
            "tags": []
          }
        }
      ]
    },
    {
      "cell_type": "code",
      "metadata": {
        "id": "Al3bCFrI1P5m",
        "colab_type": "code",
        "colab": {}
      },
      "source": [
        ""
      ],
      "execution_count": 0,
      "outputs": []
    },
    {
      "cell_type": "markdown",
      "metadata": {
        "id": "jyLHNyTcfvHp",
        "colab_type": "text"
      },
      "source": [
        "# Test That Our Models Saved Correctly"
      ]
    },
    {
      "cell_type": "code",
      "metadata": {
        "id": "aOF5a51SfyqM",
        "colab_type": "code",
        "colab": {}
      },
      "source": [
        "# from tensorflow.keras.models import load_model\n",
        "\n",
        "# model_loaded = load_model(mw.model_file)\n",
        "# scores = model_loaded.evaluate(X_test, y_test, verbose=1)\n",
        "# print(\"Accuracy: %.2f%%\" % (scores[1]*100))\n",
        "\n",
        "# # this takes too long for real models\n",
        "# if DEBUG == True:\n",
        "#   y_predict = model_loaded.predict(X_test)\n",
        "#   y_predict_unencoded = ku.unencode(y_predict)\n",
        "#   y_test_unencoded = ku.unencode(y_test)\n",
        "\n",
        "#   # classification report\n",
        "#   print(classification_report(y_test_unencoded, y_predict_unencoded))\n",
        "\n",
        "#   # confusion matrix\n",
        "#   print(confusion_matrix(y_test_unencoded, y_predict_unencoded))\n"
      ],
      "execution_count": 0,
      "outputs": []
    },
    {
      "cell_type": "code",
      "metadata": {
        "id": "96A-A5CBJXiy",
        "colab_type": "code",
        "colab": {
          "base_uri": "https://localhost:8080/",
          "height": 866
        },
        "outputId": "9aa4c48a-608f-498a-824a-78e2ab38c129"
      },
      "source": [
        "end_time = datetime.now()\n",
        "print(f\"Model:\\n{mw}\")\n",
        "print(f\"Start Time: {start_time}\")\n",
        "print(f\"End Time: {end_time}\")\n",
        "print(f\"Total Duraction {round((end_time - start_time).total_seconds() / 60, 2)} mins\")"
      ],
      "execution_count": 13,
      "outputs": [
        {
          "output_type": "stream",
          "text": [
            "Model:\n",
            "\n",
            "ModelWrapper parameters:\n",
            "\ttf_version:\t\t\t2.2.0\n",
            "\tmodel_name:\t\t\tGRUB128\n",
            "\tdescription:\t\t\t1 Layer 128 GRU Units, Dropout 0.0, Recurrent Dropout 0.0, Batch Size 128, Learning Rate 0.01\n",
            "\tarchitecture:\t\t\t1x128\n",
            "\tfeature_set_name:\t\tglove_with_stop_nonlemmatized\n",
            "\tlabel_column:\t\t\tstar_rating\n",
            "\tfeature_column:\t\t\treview_body\n",
            "\tdata_file:\t\t\tdrive/My Drive/Springboard/capstone/data/amazon_reviews_us_Wireless_v1_00-2m-with_stop_nonlemmatized-preprocessed.csv\n",
            "\tbatch_size:\t\t\t128\n",
            "\tsample_size:\t\t\t2m\n",
            "\tsampling_type:\t\t\tnone\n",
            "\ttokenizer:\t\t\t<keras_preprocessing.text.Tokenizer object at 0x7fc6a61cc080>\n",
            "\tsave_weights:\t\t\tTrue\n",
            "\toptimizer:\t\t\tAdam\n",
            "\tlearning_rate:\t\t\t0.01\n",
            "\tversion:\t\t\t1\n",
            "\tsave_dir:\t\t\tdrive/My Drive/Springboard/capstone\n",
            "\tload_model_file:\t\t\tNone\n",
            "\n",
            "\tReport Output:\n",
            "\t\treport_file:\t\t\tdrive/My Drive/Springboard/capstone/reports/GRUB128_dr0_rdr0_batch128_lr01-glove_with_stop_nonlemmatized-dl_prototype-report.csv\n",
            "\n",
            "\tModel Output:\n",
            "\t\ttokenizer_file:\t\t\tdrive/My Drive/Springboard/capstone/models/GRUB128-1x128-dr0-rdr0-batch128-lr01-glove_with_stop_nonlemmatized-sampling_none-2m-review_body-tf2-2-0-v1/GRUB128-1x128-dr0-rdr0-batch128-lr01-glove_with_stop_nonlemmatized-sampling_none-2m-review_body-tf2-2-0-v1-tokenizer.pkl\n",
            "\t\tsave_json:\t\t\tTrue\n",
            "\t\tsave_savedmodel:\t\tFalse\n",
            "\t\tsave_h5:\t\t\tFalse\n",
            "\t\tcheckpoint_file:\t\tdrive/My Drive/Springboard/capstone/models/GRUB128-1x128-dr0-rdr0-batch128-lr01-glove_with_stop_nonlemmatized-sampling_none-2m-review_body-tf2-2-0-v1/checkpoints\n",
            "\t\tmodel_json_file:\t\tdrive/My Drive/Springboard/capstone/models/GRUB128-1x128-dr0-rdr0-batch128-lr01-glove_with_stop_nonlemmatized-sampling_none-2m-review_body-tf2-2-0-v1/GRUB128-1x128-dr0-rdr0-batch128-lr01-glove_with_stop_nonlemmatized-sampling_none-2m-review_body-tf2-2-0-v1-model.json\n",
            "\t\tweights_file:\t\t\tdrive/My Drive/Springboard/capstone/models/GRUB128-1x128-dr0-rdr0-batch128-lr01-glove_with_stop_nonlemmatized-sampling_none-2m-review_body-tf2-2-0-v1/GRUB128-1x128-dr0-rdr0-batch128-lr01-glove_with_stop_nonlemmatized-sampling_none-2m-review_body-tf2-2-0-v1-weights.h5\n",
            "\n",
            "\n",
            "EmbeddingModelWrapper parameters:\n",
            "\tvocab_size:\t\t\t186040\n",
            "\tembed_size:\t\t\t300\n",
            "\tmax_sequence_length:\t\t100\n",
            "\ttrain_embeddings:\t\tFalse\n",
            "\tembedding_matrix_shape:\t\t(186040, 300)\n",
            "\n",
            "GRU1LayerModelWrapper parameters:\n",
            "\tdimension:\t\t\t128\n",
            "\tbidirectional:\t\t\tFalse\n",
            "\tdropout_rate:\t\t\t0.0\n",
            "\trecurrent_dropout_rate:\t\t0.0\n",
            "\n",
            "Start Time: 2020-05-29 08:21:38.494262\n",
            "End Time: 2020-05-29 09:22:01.830180\n",
            "Total Duraction 60.39 mins\n"
          ],
          "name": "stdout"
        }
      ]
    },
    {
      "cell_type": "code",
      "metadata": {
        "id": "qPbmc8qe-ja_",
        "colab_type": "code",
        "colab": {}
      },
      "source": [
        ""
      ],
      "execution_count": 0,
      "outputs": []
    }
  ]
}