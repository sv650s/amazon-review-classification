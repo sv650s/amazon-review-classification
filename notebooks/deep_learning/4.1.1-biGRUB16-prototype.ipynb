{
  "nbformat": 4,
  "nbformat_minor": 0,
  "metadata": {
    "colab": {
      "name": "4.1.1-biGRUB16-prototype.ipynb",
      "provenance": [],
      "collapsed_sections": [],
      "machine_shape": "hm",
      "include_colab_link": true
    },
    "kernelspec": {
      "name": "python3",
      "display_name": "Python 3"
    },
    "accelerator": "GPU"
  },
  "cells": [
    {
      "cell_type": "markdown",
      "metadata": {
        "id": "view-in-github",
        "colab_type": "text"
      },
      "source": [
        "<a href=\"https://colab.research.google.com/github/sv650s/amazon-review-classification/blob/master/notebooks/deep_learning/4.1.1-biGRUB16-prototype.ipynb\" target=\"_parent\"><img src=\"https://colab.research.google.com/assets/colab-badge.svg\" alt=\"Open In Colab\"/></a>"
      ]
    },
    {
      "cell_type": "markdown",
      "metadata": {
        "id": "wYIgDlPPzDPh",
        "colab_type": "text"
      },
      "source": [
        "# 1 Layer biDirectional GRU using TensorFlow 2\n",
        "\n",
        "\n"
      ]
    },
    {
      "cell_type": "code",
      "metadata": {
        "id": "a_k5CJnDzleX",
        "colab_type": "code",
        "outputId": "db35503b-bbcf-487f-a67a-820b266cb891",
        "colab": {
          "base_uri": "https://localhost:8080/",
          "height": 72
        }
      },
      "source": [
        "from google.colab import drive\n",
        "import sys\n",
        "drive.mount('/content/drive')\n",
        "# add this to sys patch so we can import utility functions\n",
        "DRIVE_DIR = 'drive/My Drive/Springboard/capstone'\n",
        "sys.path.append(DRIVE_DIR)\n",
        "\n",
        "\n",
        "%tensorflow_version 2.x\n",
        "\n",
        "\n",
        "import tensorflow as tf\n",
        "# checl to make sure we are using GPU here\n",
        "tf.test.gpu_device_name()"
      ],
      "execution_count": 1,
      "outputs": [
        {
          "output_type": "stream",
          "text": [
            "Drive already mounted at /content/drive; to attempt to forcibly remount, call drive.mount(\"/content/drive\", force_remount=True).\n"
          ],
          "name": "stdout"
        },
        {
          "output_type": "execute_result",
          "data": {
            "text/plain": [
              "'/device:GPU:0'"
            ]
          },
          "metadata": {
            "tags": []
          },
          "execution_count": 1
        }
      ]
    },
    {
      "cell_type": "code",
      "metadata": {
        "id": "k_udVOUia9Oo",
        "colab_type": "code",
        "colab": {}
      },
      "source": [
        ""
      ],
      "execution_count": 0,
      "outputs": []
    },
    {
      "cell_type": "code",
      "metadata": {
        "id": "cejIhV8G2TA7",
        "colab_type": "code",
        "outputId": "a32cad9b-3e06-4715-fd8d-3b9fa11e54ba",
        "colab": {
          "base_uri": "https://localhost:8080/",
          "height": 227
        }
      },
      "source": [
        "from __future__ import absolute_import, division, print_function, unicode_literals\n",
        "\n",
        "import tensorflow as tf\n",
        "\n",
        "from tensorflow import keras\n",
        "from tensorflow.keras import layers\n",
        "\n",
        "\n",
        "from tensorflow.keras.models import Sequential\n",
        "from tensorflow.keras.layers import Dense, Activation, Dropout, GRU, \\\n",
        "                                    Dropout, Bidirectional, Embedding\n",
        "from tensorflow.keras.callbacks import EarlyStopping, ReduceLROnPlateau\n",
        "from tensorflow.keras.optimizers import Adam\n",
        "from tensorflow.keras.preprocessing import sequence\n",
        "from tensorflow.keras.preprocessing.text import Tokenizer\n",
        "\n",
        "from sklearn.model_selection import train_test_split\n",
        "from sklearn.preprocessing import OneHotEncoder\n",
        "from sklearn.preprocessing import LabelEncoder\n",
        "from sklearn.metrics import confusion_matrix, classification_report\n",
        "from sklearn.utils.class_weight import compute_class_weight\n",
        "\n",
        "\n",
        "import matplotlib.pyplot as plt\n",
        "import pandas as pd\n",
        "import numpy as np\n",
        "import seaborn as sns\n",
        "import logging\n",
        "import importlib\n",
        "import json\n",
        "import re\n",
        "from datetime import datetime\n",
        "\n",
        "# custom utilities\n",
        "import util.dict_util as du\n",
        "import util.plot_util as pu\n",
        "import util.keras_util as ku\n",
        "import util.file_util as fu\n",
        "import util.report_util as ru\n",
        "\n",
        "logging.basicConfig(level=logging.ERROR)\n",
        "\n",
        "%matplotlib inline\n",
        "sns.set()\n",
        "\n",
        "RSTATE = 1\n",
        "import random\n",
        "\n",
        "# fix random seeds\n",
        "tf.compat.v1.reset_default_graph()\n",
        "tf.compat.v1.set_random_seed(RSTATE)\n",
        "random.seed(RSTATE)\n",
        "np.random.seed(RSTATE)\n",
        "\n",
        "\n",
        "\n",
        "# check to see if we are using GPU - must be placed at the beginning of the program\n",
        "tf.debugging.set_log_device_placement(True)\n",
        "print(\"GPU Available: \", tf.test.is_gpu_available())\n",
        "print(f'Tensorflow Version: {tf.version.VERSION}')\n",
        "print(f'Keras Version: {tf.keras.__version__}')\n",
        "\n",
        "\n",
        "DATE_FORMAT = '%Y-%m-%d'\n",
        "TIME_FORMAT = '%Y-%m-%d %H:%M:%S'\n",
        "LABEL_COLUMN = \"star_rating\"\n",
        "FEATURE_COLUMN = \"review_body\"\n",
        "\n",
        "\n",
        "DEBUG = False\n",
        "\n",
        "GRU_DIM = 16\n",
        "MODEL_NAME = f\"biGRUB{GRU_DIM}\"\n",
        "ARCHITECTURE = f\"1x{GRU_DIM}\"\n",
        "DESCRIPTION = f\"1 Layer Bi-directional {GRU_DIM} units, balanced weights\"\n",
        "FEATURE_SET_NAME = \"random_embedding\"\n",
        "SAMPLES = \"200k\"\n",
        "REPORT_FILE = 'dl_prototype-report.csv'\n",
        "REPORT_DIR = f'{DRIVE_DIR}/reports'\n",
        "\n",
        "\n",
        "if DEBUG:\n",
        "  DATA_FILE = f'{DRIVE_DIR}/data/amazon_reviews_us_Wireless_v1_00-test-preprocessed.csv'\n",
        "  MODEL_NAME = f'test-{MODEL_NAME}'\n",
        "  MISSING_WORDS_FILE = f'{REPORT_DIR}/glove_embedding-missing_words-test.csv'\n",
        "  ku.ModelWrapper.set_report_filename(f'test-{REPORT_FILE}')\n",
        "else:\n",
        "  DATA_FILE = f\"{DRIVE_DIR}/data/amazon_reviews_us_Wireless_v1_00-{SAMPLES}-with_stop_nonlemmatized-preprocessed.csv\"\n",
        "  MISSING_WORDS_FILE = f'{REPORT_DIR}/glove_embedding-missing_words-{SAMPLES}.csv'\n",
        "  ku.ModelWrapper.set_report_filename(REPORT_FILE)\n",
        "\n",
        "\n",
        "EMBED_SIZE = 300\n",
        "EPOCHS  = 20\n",
        "BATCH_SIZE = 128\n",
        "LEARNING_RATE = 0.01\n",
        "# from our previous notebook, we saw that 90% of our reviews have 100 or less\n",
        "MAX_SEQUENCE_LENGTH = 100\n",
        "PATIENCE = 8\n",
        "\n",
        "start_time = datetime.now()"
      ],
      "execution_count": 2,
      "outputs": [
        {
          "output_type": "stream",
          "text": [
            "WARNING:tensorflow:From <ipython-input-2-c3baf5df0248>:58: is_gpu_available (from tensorflow.python.framework.test_util) is deprecated and will be removed in a future version.\n",
            "Instructions for updating:\n",
            "Use `tf.config.list_physical_devices('GPU')` instead.\n"
          ],
          "name": "stdout"
        },
        {
          "output_type": "stream",
          "text": [
            "/usr/local/lib/python3.6/dist-packages/statsmodels/tools/_testing.py:19: FutureWarning: pandas.util.testing is deprecated. Use the functions in the public API at pandas.testing instead.\n",
            "  import pandas.util.testing as tm\n",
            "WARNING:tensorflow:From <ipython-input-2-c3baf5df0248>:58: is_gpu_available (from tensorflow.python.framework.test_util) is deprecated and will be removed in a future version.\n",
            "Instructions for updating:\n",
            "Use `tf.config.list_physical_devices('GPU')` instead.\n"
          ],
          "name": "stderr"
        },
        {
          "output_type": "stream",
          "text": [
            "GPU Available:  True\n",
            "Tensorflow Version: 2.2.0-rc3\n",
            "Keras Version: 2.3.0-tf\n"
          ],
          "name": "stdout"
        }
      ]
    },
    {
      "cell_type": "code",
      "metadata": {
        "id": "4mQJffiK5PAg",
        "colab_type": "code",
        "colab": {}
      },
      "source": [
        "\n",
        "df = pd.read_csv(DATA_FILE)\n",
        "\n",
        "ratings = df[LABEL_COLUMN]\n",
        "\n"
      ],
      "execution_count": 0,
      "outputs": []
    },
    {
      "cell_type": "markdown",
      "metadata": {
        "id": "X88WVRLDcTb9",
        "colab_type": "text"
      },
      "source": [
        "# Pre-process our data\n"
      ]
    },
    {
      "cell_type": "code",
      "metadata": {
        "id": "2Nnj_ujhOtiJ",
        "colab_type": "code",
        "outputId": "0e61fbf9-be75-4885-b59a-174f314b6b2e",
        "colab": {
          "base_uri": "https://localhost:8080/",
          "height": 155
        }
      },
      "source": [
        "\n",
        "X_train, X_test, y_train, y_test, tokenizer = \\\n",
        "                                  ku.preprocess_file(data_df=df, \n",
        "                                                      feature_column=FEATURE_COLUMN, \n",
        "                                                      label_column=LABEL_COLUMN, \n",
        "                                                     report_dir = REPORT_DIR,\n",
        "                                                      max_sequence_length = MAX_SEQUENCE_LENGTH)"
      ],
      "execution_count": 4,
      "outputs": [
        {
          "output_type": "stream",
          "text": [
            "Vocabulary size=57430\n",
            "Number of Documents=199538\n",
            "Splitting data into training and test sets...\n",
            "Training X type <class 'numpy.ndarray'> y type <class 'pandas.core.series.Series'>\n",
            "Training X shape (149653, 100) y shape (149653,)\n",
            "Test X shape (49885, 100) y shape (49885,)\n",
            "Shape of y_train (149653,)\n",
            "One hot enocde label data...\n"
          ],
          "name": "stdout"
        }
      ]
    },
    {
      "cell_type": "code",
      "metadata": {
        "id": "L3ZwOrAYMgGa",
        "colab_type": "code",
        "outputId": "b84f9de9-914f-42d7-8909-1bd58b576ab9",
        "colab": {
          "base_uri": "https://localhost:8080/",
          "height": 35
        }
      },
      "source": [
        "np.shape(X_train)"
      ],
      "execution_count": 5,
      "outputs": [
        {
          "output_type": "execute_result",
          "data": {
            "text/plain": [
              "(149653, 100)"
            ]
          },
          "metadata": {
            "tags": []
          },
          "execution_count": 5
        }
      ]
    },
    {
      "cell_type": "code",
      "metadata": {
        "id": "L6J5GAr9BDZV",
        "colab_type": "code",
        "outputId": "b33ac2c7-9a87-4e37-d51e-6dd0313c3c66",
        "colab": {
          "base_uri": "https://localhost:8080/",
          "height": 587
        }
      },
      "source": [
        "# Might have to play with this\n",
        "vocab_size = len(tokenizer.word_counts)\n",
        "\n",
        "\n",
        "# use functional syntax to create our graph\n",
        "inp = layers.Input(shape=(MAX_SEQUENCE_LENGTH, ))\n",
        "# since we are using OOV - we have to add 2 since there is an extra index plus\n",
        "# we add 1 according to documentation\n",
        "x = Embedding(vocab_size + 2, EMBED_SIZE, trainable=True)(inp)\n",
        "x = Bidirectional(GRU(units=GRU_DIM, return_sequences=False))(x)\n",
        "# x = Dense(GRU_DIM*2, activation='relu')(x)\n",
        "# x = Dropout(0.2)(x)\n",
        "# x = Dense(GRU_DIM, activation='relu')(x)\n",
        "outp = Dense(5, activation='softmax')(x)\n",
        "\n",
        "model = keras.models.Model(inputs=inp, outputs=outp)\n",
        "\n",
        "model.compile(loss='categorical_crossentropy', \n",
        "              optimizer=Adam(learning_rate = LEARNING_RATE), \n",
        "              metrics=['categorical_accuracy'])"
      ],
      "execution_count": 6,
      "outputs": [
        {
          "output_type": "stream",
          "text": [
            "Executing op RandomUniform in device /job:localhost/replica:0/task:0/device:CPU:0\n",
            "Executing op Sub in device /job:localhost/replica:0/task:0/device:CPU:0\n",
            "Executing op Mul in device /job:localhost/replica:0/task:0/device:CPU:0\n",
            "Executing op Add in device /job:localhost/replica:0/task:0/device:CPU:0\n",
            "Executing op VarHandleOp in device /job:localhost/replica:0/task:0/device:CPU:0\n",
            "Executing op VarIsInitializedOp in device /job:localhost/replica:0/task:0/device:CPU:0\n",
            "Executing op LogicalNot in device /job:localhost/replica:0/task:0/device:CPU:0\n",
            "Executing op Assert in device /job:localhost/replica:0/task:0/device:CPU:0\n",
            "Executing op AssignVariableOp in device /job:localhost/replica:0/task:0/device:CPU:0\n",
            "Executing op RandomUniform in device /job:localhost/replica:0/task:0/device:GPU:0\n",
            "Executing op Sub in device /job:localhost/replica:0/task:0/device:GPU:0\n",
            "Executing op Mul in device /job:localhost/replica:0/task:0/device:GPU:0\n",
            "Executing op Add in device /job:localhost/replica:0/task:0/device:GPU:0\n",
            "Executing op VarHandleOp in device /job:localhost/replica:0/task:0/device:GPU:0\n",
            "Executing op VarIsInitializedOp in device /job:localhost/replica:0/task:0/device:GPU:0\n",
            "Executing op LogicalNot in device /job:localhost/replica:0/task:0/device:GPU:0\n",
            "Executing op Assert in device /job:localhost/replica:0/task:0/device:GPU:0\n",
            "Executing op AssignVariableOp in device /job:localhost/replica:0/task:0/device:GPU:0\n",
            "Executing op RandomStandardNormal in device /job:localhost/replica:0/task:0/device:GPU:0\n",
            "Executing op Qr in device /job:localhost/replica:0/task:0/device:GPU:0\n",
            "Executing op DiagPart in device /job:localhost/replica:0/task:0/device:GPU:0\n",
            "Executing op Sign in device /job:localhost/replica:0/task:0/device:GPU:0\n",
            "Executing op Transpose in device /job:localhost/replica:0/task:0/device:GPU:0\n",
            "Executing op Reshape in device /job:localhost/replica:0/task:0/device:GPU:0\n",
            "Executing op VarHandleOp in device /job:localhost/replica:0/task:0/device:GPU:0\n",
            "Executing op Fill in device /job:localhost/replica:0/task:0/device:GPU:0\n",
            "Executing op VarHandleOp in device /job:localhost/replica:0/task:0/device:GPU:0\n",
            "Executing op RandomUniform in device /job:localhost/replica:0/task:0/device:GPU:0\n",
            "Executing op RandomStandardNormal in device /job:localhost/replica:0/task:0/device:GPU:0\n",
            "Executing op RandomUniform in device /job:localhost/replica:0/task:0/device:GPU:0\n",
            "Executing op VarHandleOp in device /job:localhost/replica:0/task:0/device:GPU:0\n",
            "Executing op VarHandleOp in device /job:localhost/replica:0/task:0/device:GPU:0\n",
            "Executing op VarHandleOp in device /job:localhost/replica:0/task:0/device:GPU:0\n"
          ],
          "name": "stdout"
        }
      ]
    },
    {
      "cell_type": "code",
      "metadata": {
        "id": "-QL-kgLzIiL3",
        "colab_type": "code",
        "colab": {
          "base_uri": "https://localhost:8080/",
          "height": 294
        },
        "outputId": "72bc1d90-1d3c-41e8-fbe6-637f622a5c98"
      },
      "source": [
        "model.summary()"
      ],
      "execution_count": 7,
      "outputs": [
        {
          "output_type": "stream",
          "text": [
            "Model: \"model\"\n",
            "_________________________________________________________________\n",
            "Layer (type)                 Output Shape              Param #   \n",
            "=================================================================\n",
            "input_1 (InputLayer)         [(None, 100)]             0         \n",
            "_________________________________________________________________\n",
            "embedding (Embedding)        (None, 100, 300)          17229300  \n",
            "_________________________________________________________________\n",
            "bidirectional (Bidirectional (None, 32)                30528     \n",
            "_________________________________________________________________\n",
            "dense (Dense)                (None, 5)                 165       \n",
            "=================================================================\n",
            "Total params: 17,259,993\n",
            "Trainable params: 17,259,993\n",
            "Non-trainable params: 0\n",
            "_________________________________________________________________\n"
          ],
          "name": "stdout"
        }
      ]
    },
    {
      "cell_type": "code",
      "metadata": {
        "id": "uYB-5-t1AFBF",
        "colab_type": "code",
        "colab": {
          "base_uri": "https://localhost:8080/",
          "height": 1000
        },
        "outputId": "930a0c6d-dbd9-4482-aa7f-81e601bc4727"
      },
      "source": [
        "# reduce learning rate if we sense a plateau\n",
        "reduce_lr = ReduceLROnPlateau(monitor='val_loss', \n",
        "                              restore_best_weights=True)\n",
        "\n",
        "early_stop = EarlyStopping(monitor='val_loss', \n",
        "                           patience=PATIENCE, \n",
        "                           verbose=1,\n",
        "                           restore_best_weights=True)\n",
        "\n",
        "weights = compute_class_weight('balanced', np.arange(1, 6), ratings)\n",
        "weights_dict = {i: weights[i] for i in np.arange(0, len(weights))}\n",
        "print(f'class weights: {weights}')\n",
        "print(f'class weights_dict: {weights_dict}')\n",
        "\n",
        "\n",
        "mw = ku.ModelWrapper(model, \n",
        "                     MODEL_NAME,\n",
        "                     ARCHITECTURE,\n",
        "                     FEATURE_SET_NAME,\n",
        "                     LABEL_COLUMN,\n",
        "                     FEATURE_COLUMN,\n",
        "                     DATA_FILE,\n",
        "                     embed_size=EMBED_SIZE,\n",
        "                     tokenizer=tokenizer,\n",
        "                     description=DESCRIPTION)\n",
        "\n",
        "history = mw.fit(X_train, \n",
        "                y_train,\n",
        "                batch_size=BATCH_SIZE,\n",
        "                epochs=EPOCHS,\n",
        "                verbose=1,\n",
        "                validation_split=0.2,\n",
        "                 class_weight = weights_dict,\n",
        "                callbacks=[early_stop, reduce_lr])"
      ],
      "execution_count": 8,
      "outputs": [
        {
          "output_type": "stream",
          "text": [
            "class weights: [1.43769724 3.07691596 2.18277088 1.19627098 0.37238702]\n",
            "class weights_dict: {0: 1.4376972404351898, 1: 3.076915959907479, 2: 2.182770880052508, 3: 1.1962709832134293, 4: 0.372387022124348}\n",
            "Number of training examples: 149653\n",
            "Executing op Range in device /job:localhost/replica:0/task:0/device:GPU:0\n",
            "Executing op StridedSlice in device /job:localhost/replica:0/task:0/device:GPU:0\n",
            "Executing op StridedSlice in device /job:localhost/replica:0/task:0/device:GPU:0\n",
            "Executing op GatherV2 in device /job:localhost/replica:0/task:0/device:GPU:0\n",
            "Executing op GatherV2 in device /job:localhost/replica:0/task:0/device:GPU:0\n",
            "Executing op RangeDataset in device /job:localhost/replica:0/task:0/device:CPU:0\n",
            "Executing op RepeatDataset in device /job:localhost/replica:0/task:0/device:CPU:0\n",
            "Executing op MapDataset in device /job:localhost/replica:0/task:0/device:CPU:0\n",
            "Executing op PrefetchDataset in device /job:localhost/replica:0/task:0/device:CPU:0\n",
            "Executing op FlatMapDataset in device /job:localhost/replica:0/task:0/device:CPU:0\n",
            "Executing op TensorDataset in device /job:localhost/replica:0/task:0/device:CPU:0\n",
            "Executing op RepeatDataset in device /job:localhost/replica:0/task:0/device:CPU:0\n",
            "Executing op ZipDataset in device /job:localhost/replica:0/task:0/device:CPU:0\n",
            "Executing op ParallelMapDataset in device /job:localhost/replica:0/task:0/device:CPU:0\n",
            "Executing op MapDataset in device /job:localhost/replica:0/task:0/device:CPU:0\n",
            "Executing op ModelDataset in device /job:localhost/replica:0/task:0/device:CPU:0\n",
            "Executing op AnonymousIteratorV2 in device /job:localhost/replica:0/task:0/device:CPU:0\n",
            "Executing op MakeIterator in device /job:localhost/replica:0/task:0/device:CPU:0\n",
            "Epoch 1/20\n",
            "Executing op Fill in device /job:localhost/replica:0/task:0/device:GPU:0\n",
            "Executing op VarHandleOp in device /job:localhost/replica:0/task:0/device:GPU:0\n",
            "Executing op AssignVariableOp in device /job:localhost/replica:0/task:0/device:GPU:0\n",
            "Executing op VarHandleOp in device /job:localhost/replica:0/task:0/device:GPU:0\n",
            "Executing op VarHandleOp in device /job:localhost/replica:0/task:0/device:GPU:0\n",
            "Executing op VarHandleOp in device /job:localhost/replica:0/task:0/device:GPU:0\n",
            "Executing op VarHandleOp in device /job:localhost/replica:0/task:0/device:GPU:0\n",
            "Executing op VarHandleOp in device /job:localhost/replica:0/task:0/device:CPU:0\n",
            "Executing op VarHandleOp in device /job:localhost/replica:0/task:0/device:GPU:0\n",
            "Executing op LogicalNot in device /job:localhost/replica:0/task:0/device:GPU:0\n",
            "Executing op Assert in device /job:localhost/replica:0/task:0/device:GPU:0\n",
            "Executing op VarHandleOp in device /job:localhost/replica:0/task:0/device:GPU:0\n",
            "Executing op VarHandleOp in device /job:localhost/replica:0/task:0/device:GPU:0\n",
            "Executing op VarHandleOp in device /job:localhost/replica:0/task:0/device:GPU:0\n",
            "Executing op VarHandleOp in device /job:localhost/replica:0/task:0/device:GPU:0\n",
            "Executing op VarHandleOp in device /job:localhost/replica:0/task:0/device:GPU:0\n",
            "Executing op VarHandleOp in device /job:localhost/replica:0/task:0/device:GPU:0\n",
            "Executing op VarHandleOp in device /job:localhost/replica:0/task:0/device:GPU:0\n",
            "Executing op VarHandleOp in device /job:localhost/replica:0/task:0/device:CPU:0\n",
            "Executing op VarHandleOp in device /job:localhost/replica:0/task:0/device:GPU:0\n",
            "Executing op VarHandleOp in device /job:localhost/replica:0/task:0/device:GPU:0\n",
            "Executing op VarHandleOp in device /job:localhost/replica:0/task:0/device:GPU:0\n",
            "Executing op VarHandleOp in device /job:localhost/replica:0/task:0/device:GPU:0\n",
            "Executing op VarHandleOp in device /job:localhost/replica:0/task:0/device:GPU:0\n",
            "Executing op VarHandleOp in device /job:localhost/replica:0/task:0/device:GPU:0\n",
            "Executing op VarHandleOp in device /job:localhost/replica:0/task:0/device:GPU:0\n",
            "Executing op VarHandleOp in device /job:localhost/replica:0/task:0/device:GPU:0\n",
            "Executing op VarHandleOp in device /job:localhost/replica:0/task:0/device:GPU:0\n",
            "Executing op VarHandleOp in device /job:localhost/replica:0/task:0/device:GPU:0\n",
            "Executing op __inference_train_function_5847 in device /job:localhost/replica:0/task:0/device:GPU:0\n",
            "936/936 [==============================] - ETA: 0s - loss: 1.1600 - categorical_accuracy: 0.5758Executing op RangeDataset in device /job:localhost/replica:0/task:0/device:CPU:0\n",
            "Executing op RepeatDataset in device /job:localhost/replica:0/task:0/device:CPU:0\n",
            "Executing op MapDataset in device /job:localhost/replica:0/task:0/device:CPU:0\n",
            "Executing op PrefetchDataset in device /job:localhost/replica:0/task:0/device:CPU:0\n",
            "Executing op FlatMapDataset in device /job:localhost/replica:0/task:0/device:CPU:0\n",
            "Executing op TensorDataset in device /job:localhost/replica:0/task:0/device:CPU:0\n",
            "Executing op RepeatDataset in device /job:localhost/replica:0/task:0/device:CPU:0\n",
            "Executing op ZipDataset in device /job:localhost/replica:0/task:0/device:CPU:0\n",
            "Executing op ParallelMapDataset in device /job:localhost/replica:0/task:0/device:CPU:0\n",
            "Executing op ModelDataset in device /job:localhost/replica:0/task:0/device:CPU:0\n",
            "Executing op AnonymousIteratorV2 in device /job:localhost/replica:0/task:0/device:CPU:0\n",
            "Executing op __inference_test_function_8654 in device /job:localhost/replica:0/task:0/device:GPU:0\n",
            "Executing op DeleteIterator in device /job:localhost/replica:0/task:0/device:CPU:0\n",
            "Executing op ReadVariableOp in device /job:localhost/replica:0/task:0/device:CPU:0\n",
            "Executing op Identity in device /job:localhost/replica:0/task:0/device:GPU:0\n",
            "Executing op ReadVariableOp in device /job:localhost/replica:0/task:0/device:GPU:0\n",
            "936/936 [==============================] - 117s 125ms/step - loss: 1.1600 - categorical_accuracy: 0.5758 - val_loss: 0.9846 - val_categorical_accuracy: 0.6003 - lr: 0.0100\n",
            "Epoch 2/20\n",
            "936/936 [==============================] - ETA: 0s - loss: 1.0659 - categorical_accuracy: 0.6130Executing op RangeDataset in device /job:localhost/replica:0/task:0/device:CPU:0\n",
            "Executing op RepeatDataset in device /job:localhost/replica:0/task:0/device:CPU:0\n",
            "Executing op MapDataset in device /job:localhost/replica:0/task:0/device:CPU:0\n",
            "Executing op PrefetchDataset in device /job:localhost/replica:0/task:0/device:CPU:0\n",
            "Executing op FlatMapDataset in device /job:localhost/replica:0/task:0/device:CPU:0\n",
            "Executing op TensorDataset in device /job:localhost/replica:0/task:0/device:CPU:0\n",
            "Executing op RepeatDataset in device /job:localhost/replica:0/task:0/device:CPU:0\n",
            "Executing op ZipDataset in device /job:localhost/replica:0/task:0/device:CPU:0\n",
            "Executing op ParallelMapDataset in device /job:localhost/replica:0/task:0/device:CPU:0\n",
            "Executing op ModelDataset in device /job:localhost/replica:0/task:0/device:CPU:0\n",
            "936/936 [==============================] - 115s 123ms/step - loss: 1.0659 - categorical_accuracy: 0.6130 - val_loss: 0.9115 - val_categorical_accuracy: 0.6298 - lr: 0.0100\n",
            "Epoch 3/20\n",
            "936/936 [==============================] - ETA: 0s - loss: 1.0178 - categorical_accuracy: 0.6309Executing op RangeDataset in device /job:localhost/replica:0/task:0/device:CPU:0\n",
            "Executing op RepeatDataset in device /job:localhost/replica:0/task:0/device:CPU:0\n",
            "Executing op MapDataset in device /job:localhost/replica:0/task:0/device:CPU:0\n",
            "Executing op PrefetchDataset in device /job:localhost/replica:0/task:0/device:CPU:0\n",
            "Executing op FlatMapDataset in device /job:localhost/replica:0/task:0/device:CPU:0\n",
            "Executing op TensorDataset in device /job:localhost/replica:0/task:0/device:CPU:0\n",
            "Executing op RepeatDataset in device /job:localhost/replica:0/task:0/device:CPU:0\n",
            "Executing op ZipDataset in device /job:localhost/replica:0/task:0/device:CPU:0\n",
            "Executing op ParallelMapDataset in device /job:localhost/replica:0/task:0/device:CPU:0\n",
            "Executing op ModelDataset in device /job:localhost/replica:0/task:0/device:CPU:0\n",
            "936/936 [==============================] - 115s 123ms/step - loss: 1.0178 - categorical_accuracy: 0.6309 - val_loss: 0.9982 - val_categorical_accuracy: 0.5829 - lr: 0.0100\n",
            "Epoch 4/20\n",
            "936/936 [==============================] - ETA: 0s - loss: 0.9883 - categorical_accuracy: 0.6441Executing op RangeDataset in device /job:localhost/replica:0/task:0/device:CPU:0\n",
            "Executing op RepeatDataset in device /job:localhost/replica:0/task:0/device:CPU:0\n",
            "Executing op MapDataset in device /job:localhost/replica:0/task:0/device:CPU:0\n",
            "Executing op PrefetchDataset in device /job:localhost/replica:0/task:0/device:CPU:0\n",
            "Executing op FlatMapDataset in device /job:localhost/replica:0/task:0/device:CPU:0\n",
            "Executing op TensorDataset in device /job:localhost/replica:0/task:0/device:CPU:0\n",
            "Executing op RepeatDataset in device /job:localhost/replica:0/task:0/device:CPU:0\n",
            "Executing op ZipDataset in device /job:localhost/replica:0/task:0/device:CPU:0\n",
            "Executing op ParallelMapDataset in device /job:localhost/replica:0/task:0/device:CPU:0\n",
            "Executing op ModelDataset in device /job:localhost/replica:0/task:0/device:CPU:0\n",
            "936/936 [==============================] - 115s 123ms/step - loss: 0.9883 - categorical_accuracy: 0.6441 - val_loss: 1.0885 - val_categorical_accuracy: 0.5516 - lr: 0.0100\n",
            "Epoch 5/20\n",
            "936/936 [==============================] - ETA: 0s - loss: 0.9619 - categorical_accuracy: 0.6549Executing op RangeDataset in device /job:localhost/replica:0/task:0/device:CPU:0\n",
            "Executing op RepeatDataset in device /job:localhost/replica:0/task:0/device:CPU:0\n",
            "Executing op MapDataset in device /job:localhost/replica:0/task:0/device:CPU:0\n",
            "Executing op PrefetchDataset in device /job:localhost/replica:0/task:0/device:CPU:0\n",
            "Executing op FlatMapDataset in device /job:localhost/replica:0/task:0/device:CPU:0\n",
            "Executing op TensorDataset in device /job:localhost/replica:0/task:0/device:CPU:0\n",
            "Executing op RepeatDataset in device /job:localhost/replica:0/task:0/device:CPU:0\n",
            "Executing op ZipDataset in device /job:localhost/replica:0/task:0/device:CPU:0\n",
            "Executing op ParallelMapDataset in device /job:localhost/replica:0/task:0/device:CPU:0\n",
            "Executing op ModelDataset in device /job:localhost/replica:0/task:0/device:CPU:0\n",
            "936/936 [==============================] - 115s 122ms/step - loss: 0.9619 - categorical_accuracy: 0.6549 - val_loss: 1.0507 - val_categorical_accuracy: 0.5926 - lr: 0.0100\n",
            "Epoch 6/20\n",
            "936/936 [==============================] - ETA: 0s - loss: 0.9461 - categorical_accuracy: 0.6632Executing op RangeDataset in device /job:localhost/replica:0/task:0/device:CPU:0\n",
            "Executing op RepeatDataset in device /job:localhost/replica:0/task:0/device:CPU:0\n",
            "Executing op MapDataset in device /job:localhost/replica:0/task:0/device:CPU:0\n",
            "Executing op PrefetchDataset in device /job:localhost/replica:0/task:0/device:CPU:0\n",
            "Executing op FlatMapDataset in device /job:localhost/replica:0/task:0/device:CPU:0\n",
            "Executing op TensorDataset in device /job:localhost/replica:0/task:0/device:CPU:0\n",
            "Executing op RepeatDataset in device /job:localhost/replica:0/task:0/device:CPU:0\n",
            "Executing op ZipDataset in device /job:localhost/replica:0/task:0/device:CPU:0\n",
            "Executing op ParallelMapDataset in device /job:localhost/replica:0/task:0/device:CPU:0\n",
            "Executing op ModelDataset in device /job:localhost/replica:0/task:0/device:CPU:0\n",
            "936/936 [==============================] - 114s 122ms/step - loss: 0.9461 - categorical_accuracy: 0.6632 - val_loss: 1.0266 - val_categorical_accuracy: 0.5888 - lr: 0.0100\n",
            "Epoch 7/20\n",
            "936/936 [==============================] - ETA: 0s - loss: 0.9401 - categorical_accuracy: 0.6643Executing op RangeDataset in device /job:localhost/replica:0/task:0/device:CPU:0\n",
            "Executing op RepeatDataset in device /job:localhost/replica:0/task:0/device:CPU:0\n",
            "Executing op MapDataset in device /job:localhost/replica:0/task:0/device:CPU:0\n",
            "Executing op PrefetchDataset in device /job:localhost/replica:0/task:0/device:CPU:0\n",
            "Executing op FlatMapDataset in device /job:localhost/replica:0/task:0/device:CPU:0\n",
            "Executing op TensorDataset in device /job:localhost/replica:0/task:0/device:CPU:0\n",
            "Executing op RepeatDataset in device /job:localhost/replica:0/task:0/device:CPU:0\n",
            "Executing op ZipDataset in device /job:localhost/replica:0/task:0/device:CPU:0\n",
            "Executing op ParallelMapDataset in device /job:localhost/replica:0/task:0/device:CPU:0\n",
            "Executing op ModelDataset in device /job:localhost/replica:0/task:0/device:CPU:0\n",
            "936/936 [==============================] - 114s 122ms/step - loss: 0.9401 - categorical_accuracy: 0.6643 - val_loss: 1.1207 - val_categorical_accuracy: 0.5519 - lr: 0.0100\n",
            "Epoch 8/20\n",
            "936/936 [==============================] - ETA: 0s - loss: 0.9273 - categorical_accuracy: 0.6718Executing op RangeDataset in device /job:localhost/replica:0/task:0/device:CPU:0\n",
            "Executing op RepeatDataset in device /job:localhost/replica:0/task:0/device:CPU:0\n",
            "Executing op MapDataset in device /job:localhost/replica:0/task:0/device:CPU:0\n",
            "Executing op PrefetchDataset in device /job:localhost/replica:0/task:0/device:CPU:0\n",
            "Executing op FlatMapDataset in device /job:localhost/replica:0/task:0/device:CPU:0\n",
            "Executing op TensorDataset in device /job:localhost/replica:0/task:0/device:CPU:0\n",
            "Executing op RepeatDataset in device /job:localhost/replica:0/task:0/device:CPU:0\n",
            "Executing op ZipDataset in device /job:localhost/replica:0/task:0/device:CPU:0\n",
            "Executing op ParallelMapDataset in device /job:localhost/replica:0/task:0/device:CPU:0\n",
            "Executing op ModelDataset in device /job:localhost/replica:0/task:0/device:CPU:0\n",
            "936/936 [==============================] - 113s 121ms/step - loss: 0.9273 - categorical_accuracy: 0.6718 - val_loss: 1.0901 - val_categorical_accuracy: 0.5731 - lr: 0.0100\n",
            "Epoch 9/20\n",
            "936/936 [==============================] - ETA: 0s - loss: 0.9317 - categorical_accuracy: 0.6679Executing op RangeDataset in device /job:localhost/replica:0/task:0/device:CPU:0\n",
            "Executing op RepeatDataset in device /job:localhost/replica:0/task:0/device:CPU:0\n",
            "Executing op MapDataset in device /job:localhost/replica:0/task:0/device:CPU:0\n",
            "Executing op PrefetchDataset in device /job:localhost/replica:0/task:0/device:CPU:0\n",
            "Executing op FlatMapDataset in device /job:localhost/replica:0/task:0/device:CPU:0\n",
            "Executing op TensorDataset in device /job:localhost/replica:0/task:0/device:CPU:0\n",
            "Executing op RepeatDataset in device /job:localhost/replica:0/task:0/device:CPU:0\n",
            "Executing op ZipDataset in device /job:localhost/replica:0/task:0/device:CPU:0\n",
            "Executing op ParallelMapDataset in device /job:localhost/replica:0/task:0/device:CPU:0\n",
            "Executing op ModelDataset in device /job:localhost/replica:0/task:0/device:CPU:0\n",
            "936/936 [==============================] - 114s 122ms/step - loss: 0.9317 - categorical_accuracy: 0.6679 - val_loss: 1.1516 - val_categorical_accuracy: 0.5355 - lr: 0.0100\n",
            "Epoch 10/20\n",
            "936/936 [==============================] - ETA: 0s - loss: 0.9365 - categorical_accuracy: 0.6646Executing op RangeDataset in device /job:localhost/replica:0/task:0/device:CPU:0\n",
            "Executing op RepeatDataset in device /job:localhost/replica:0/task:0/device:CPU:0\n",
            "Executing op MapDataset in device /job:localhost/replica:0/task:0/device:CPU:0\n",
            "Executing op PrefetchDataset in device /job:localhost/replica:0/task:0/device:CPU:0\n",
            "Executing op FlatMapDataset in device /job:localhost/replica:0/task:0/device:CPU:0\n",
            "Executing op TensorDataset in device /job:localhost/replica:0/task:0/device:CPU:0\n",
            "Executing op RepeatDataset in device /job:localhost/replica:0/task:0/device:CPU:0\n",
            "Executing op ZipDataset in device /job:localhost/replica:0/task:0/device:CPU:0\n",
            "Executing op ParallelMapDataset in device /job:localhost/replica:0/task:0/device:CPU:0\n",
            "Executing op ModelDataset in device /job:localhost/replica:0/task:0/device:CPU:0\n",
            "Restoring model weights from the end of the best epoch.\n",
            "936/936 [==============================] - 115s 123ms/step - loss: 0.9365 - categorical_accuracy: 0.6646 - val_loss: 1.0799 - val_categorical_accuracy: 0.5797 - lr: 0.0100\n",
            "Epoch 00010: early stopping\n"
          ],
          "name": "stdout"
        }
      ]
    },
    {
      "cell_type": "code",
      "metadata": {
        "id": "nD2ABmiSY18E",
        "colab_type": "code",
        "colab": {}
      },
      "source": [
        ""
      ],
      "execution_count": 0,
      "outputs": []
    },
    {
      "cell_type": "code",
      "metadata": {
        "id": "-Wc39JRBxHDL",
        "colab_type": "code",
        "colab": {
          "base_uri": "https://localhost:8080/",
          "height": 1000
        },
        "outputId": "dbc6614c-abaa-484f-a6ef-ebd27d34eb78"
      },
      "source": [
        "importlib.reload(pu)\n",
        "\n",
        "scores = mw.evaluate(X_test, y_test)\n",
        "print(\"Accuracy: %.2f%%\" % (mw.scores[1]*100))\n",
        "\n",
        "\n",
        "\n",
        "pu.plot_network_history(mw.network_history, \"categorical_accuracy\", \"val_categorical_accuracy\")\n",
        "plt.show()\n",
        "\n",
        "print(\"\\nConfusion Matrix\")\n",
        "print(mw.confusion_matrix)\n",
        "\n",
        "print(\"\\nClassification Report\")\n",
        "print(mw.classification_report)\n",
        "\n",
        "fig = plt.figure(figsize=(5,5))\n",
        "pu.plot_roc_auc(mw.model_name, mw.roc_auc, mw.fpr, mw.tpr)\n",
        "\n"
      ],
      "execution_count": 9,
      "outputs": [
        {
          "output_type": "stream",
          "text": [
            "Number of test: 49885\n",
            "Running model.evaluate...\n",
            "Executing op RangeDataset in device /job:localhost/replica:0/task:0/device:CPU:0\n",
            "Executing op RepeatDataset in device /job:localhost/replica:0/task:0/device:CPU:0\n",
            "Executing op MapDataset in device /job:localhost/replica:0/task:0/device:CPU:0\n",
            "Executing op PrefetchDataset in device /job:localhost/replica:0/task:0/device:CPU:0\n",
            "Executing op FlatMapDataset in device /job:localhost/replica:0/task:0/device:CPU:0\n",
            "Executing op TensorDataset in device /job:localhost/replica:0/task:0/device:CPU:0\n",
            "Executing op RepeatDataset in device /job:localhost/replica:0/task:0/device:CPU:0\n",
            "Executing op ZipDataset in device /job:localhost/replica:0/task:0/device:CPU:0\n",
            "Executing op ParallelMapDataset in device /job:localhost/replica:0/task:0/device:CPU:0\n",
            "Executing op ModelDataset in device /job:localhost/replica:0/task:0/device:CPU:0\n",
            "Executing op AnonymousIteratorV2 in device /job:localhost/replica:0/task:0/device:CPU:0\n",
            "Executing op __inference_test_function_31730 in device /job:localhost/replica:0/task:0/device:GPU:0\n",
            "1559/1559 [==============================] - 11s 7ms/step - loss: 0.9138 - categorical_accuracy: 0.6306\n",
            "Running model.predict...\n",
            "Executing op RangeDataset in device /job:localhost/replica:0/task:0/device:CPU:0\n",
            "Executing op RepeatDataset in device /job:localhost/replica:0/task:0/device:CPU:0\n",
            "Executing op MapDataset in device /job:localhost/replica:0/task:0/device:CPU:0\n",
            "Executing op PrefetchDataset in device /job:localhost/replica:0/task:0/device:CPU:0\n",
            "Executing op FlatMapDataset in device /job:localhost/replica:0/task:0/device:CPU:0\n",
            "Executing op TensorDataset in device /job:localhost/replica:0/task:0/device:CPU:0\n",
            "Executing op RepeatDataset in device /job:localhost/replica:0/task:0/device:CPU:0\n",
            "Executing op ZipDataset in device /job:localhost/replica:0/task:0/device:CPU:0\n",
            "Executing op ParallelMapDataset in device /job:localhost/replica:0/task:0/device:CPU:0\n",
            "Executing op ModelDataset in device /job:localhost/replica:0/task:0/device:CPU:0\n",
            "Executing op AnonymousIteratorV2 in device /job:localhost/replica:0/task:0/device:CPU:0\n",
            "Executing op __inference_predict_function_35704 in device /job:localhost/replica:0/task:0/device:GPU:0\n",
            "Executing op ConcatV2 in device /job:localhost/replica:0/task:0/device:GPU:0\n",
            "Unencode predictions...\n",
            "Generating confusion matrix...\n",
            "Calculating ROC AUC...\n",
            "(49885, 5)\n",
            "Getting classification report...\n",
            "Accuracy: 63.06%\n"
          ],
          "name": "stdout"
        },
        {
          "output_type": "display_data",
          "data": {
            "image/png": "[encoded data removed]",
            "text/plain": [
              "<Figure size 720x360 with 2 Axes>"
            ]
          },
          "metadata": {
            "tags": []
          }
        },
        {
          "output_type": "stream",
          "text": [
            "\n",
            "Confusion Matrix\n",
            "[[ 4053  2025   421   201   258]\n",
            " [  810  1358   602   281   182]\n",
            " [  366  1176  1432  1071   509]\n",
            " [  152   511  1114  3043  3548]\n",
            " [  374   547   762  3520 21569]]\n",
            "\n",
            "Classification Report\n",
            "              precision    recall  f1-score   support\n",
            "\n",
            "           1       0.70      0.58      0.64      6958\n",
            "           2       0.24      0.42      0.31      3233\n",
            "           3       0.33      0.31      0.32      4554\n",
            "           4       0.37      0.36      0.37      8368\n",
            "           5       0.83      0.81      0.82     26772\n",
            "\n",
            "    accuracy                           0.63     49885\n",
            "   macro avg       0.50      0.50      0.49     49885\n",
            "weighted avg       0.65      0.63      0.64     49885\n",
            "\n"
          ],
          "name": "stdout"
        },
        {
          "output_type": "stream",
          "text": [
            "drive/My Drive/Springboard/capstone/util/plot_util.py:267: MatplotlibDeprecationWarning: The 'withdash' parameter of text() is deprecated since Matplotlib 3.1 and will be removed in 3.3.  If any parameter follows 'withdash', they should be pass as keyword, not positionally.\n",
            "  withdash=True)\n",
            "drive/My Drive/Springboard/capstone/util/plot_util.py:267: MatplotlibDeprecationWarning: \n",
            "The TextWithDash class was deprecated in Matplotlib 3.1 and will be removed in 3.3. Use Annotation instead.\n",
            "  withdash=True)\n",
            "drive/My Drive/Springboard/capstone/util/plot_util.py:271: MatplotlibDeprecationWarning: The 'withdash' parameter of text() is deprecated since Matplotlib 3.1 and will be removed in 3.3.  If any parameter follows 'withdash', they should be pass as keyword, not positionally.\n",
            "  withdash=True)\n",
            "drive/My Drive/Springboard/capstone/util/plot_util.py:271: MatplotlibDeprecationWarning: \n",
            "The TextWithDash class was deprecated in Matplotlib 3.1 and will be removed in 3.3. Use Annotation instead.\n",
            "  withdash=True)\n",
            "drive/My Drive/Springboard/capstone/util/plot_util.py:275: MatplotlibDeprecationWarning: The 'withdash' parameter of text() is deprecated since Matplotlib 3.1 and will be removed in 3.3.  If any parameter follows 'withdash', they should be pass as keyword, not positionally.\n",
            "  withdash=True)\n",
            "drive/My Drive/Springboard/capstone/util/plot_util.py:275: MatplotlibDeprecationWarning: \n",
            "The TextWithDash class was deprecated in Matplotlib 3.1 and will be removed in 3.3. Use Annotation instead.\n",
            "  withdash=True)\n"
          ],
          "name": "stderr"
        },
        {
          "output_type": "display_data",
          "data": {
            "image/png": "[encoded data removed]",
            "text/plain": [
              "<Figure size 360x360 with 1 Axes>"
            ]
          },
          "metadata": {
            "tags": []
          }
        }
      ]
    },
    {
      "cell_type": "code",
      "metadata": {
        "id": "AjSe9jrdUs4C",
        "colab_type": "code",
        "colab": {
          "base_uri": "https://localhost:8080/",
          "height": 35
        },
        "outputId": "ea984969-5704-4b16-9e42-40a05493bbac"
      },
      "source": [
        "print(f'Score: {ru.calculate_metric(mw.crd)}')"
      ],
      "execution_count": 10,
      "outputs": [
        {
          "output_type": "stream",
          "text": [
            "Score: 0.4449966731380292\n"
          ],
          "name": "stdout"
        }
      ]
    },
    {
      "cell_type": "markdown",
      "metadata": {
        "id": "45HR9tBDmFx2",
        "colab_type": "text"
      },
      "source": [
        "# Save off files so we can load later"
      ]
    },
    {
      "cell_type": "code",
      "metadata": {
        "id": "eQN_7QjbWQjG",
        "colab_type": "code",
        "colab": {
          "base_uri": "https://localhost:8080/",
          "height": 210
        },
        "outputId": "7280790c-3bb8-4b2f-f55b-3ff784318146"
      },
      "source": [
        "mw.save(DRIVE_DIR, append_report=False)\n"
      ],
      "execution_count": 11,
      "outputs": [
        {
          "output_type": "stream",
          "text": [
            "description: biGRUB16-1x16-random_embedding-sampling_none-199538-100-review_body\n",
            "Saving to report file: drive/My Drive/Springboard/capstone/reports/dl_prototype-report.csv\n",
            "{'model_name': 'biGRUB16', 'architecture': '1x16', 'description': '1 Layer Bi-directional GRU (16 units), balanced weights', 'feature_column': '{\"1\": {\"precision\": 0.704257167680278, \"recall\": 0.5824949698189135, \"f1-score\": 0.6376150397231181, \"support\": 6958}, \"2\": {\"precision\": 0.24176606729570946, \"recall\": 0.4200433034333436, \"f1-score\": 0.3068926553672316, \"support\": 3233}, \"3\": {\"precision\": 0.3306395751558531, \"recall\": 0.3144488361879666, \"f1-score\": 0.32234102419808663, \"support\": 4554}, \"4\": {\"precision\": 0.37493839329719075, \"recall\": 0.3636472275334608, \"f1-score\": 0.3692065032759039, \"support\": 8368}, \"5\": {\"precision\": 0.8274764060461904, \"recall\": 0.8056551621096668, \"f1-score\": 0.816420000757031, \"support\": 26772}, \"accuracy\": 0.6305502656109051, \"macro avg\": {\"precision\": 0.4958155218950444, \"recall\": 0.49725789981667023, \"f1-score\": 0.4904950446642742, \"support\": 49885}, \"weighted avg\": {\"precision\": 0.6510627746081118, \"recall\": 0.6305502656109051, \"f1-score\": 0.6383355057647349, \"support\": 49885}}', 'label_column': '{\"1\": {\"precision\": 0.704257167680278, \"recall\": 0.5824949698189135, \"f1-score\": 0.6376150397231181, \"support\": 6958}, \"2\": {\"precision\": 0.24176606729570946, \"recall\": 0.4200433034333436, \"f1-score\": 0.3068926553672316, \"support\": 3233}, \"3\": {\"precision\": 0.3306395751558531, \"recall\": 0.3144488361879666, \"f1-score\": 0.32234102419808663, \"support\": 4554}, \"4\": {\"precision\": 0.37493839329719075, \"recall\": 0.3636472275334608, \"f1-score\": 0.3692065032759039, \"support\": 8368}, \"5\": {\"precision\": 0.8274764060461904, \"recall\": 0.8056551621096668, \"f1-score\": 0.816420000757031, \"support\": 26772}, \"accuracy\": 0.6305502656109051, \"macro avg\": {\"precision\": 0.4958155218950444, \"recall\": 0.49725789981667023, \"f1-score\": 0.4904950446642742, \"support\": 49885}, \"weighted avg\": {\"precision\": 0.6510627746081118, \"recall\": 0.6305502656109051, \"f1-score\": 0.6383355057647349, \"support\": 49885}}', 'classification_report': '{\"1\": {\"precision\": 0.704257167680278, \"recall\": 0.5824949698189135, \"f1-score\": 0.6376150397231181, \"support\": 6958}, \"2\": {\"precision\": 0.24176606729570946, \"recall\": 0.4200433034333436, \"f1-score\": 0.3068926553672316, \"support\": 3233}, \"3\": {\"precision\": 0.3306395751558531, \"recall\": 0.3144488361879666, \"f1-score\": 0.32234102419808663, \"support\": 4554}, \"4\": {\"precision\": 0.37493839329719075, \"recall\": 0.3636472275334608, \"f1-score\": 0.3692065032759039, \"support\": 8368}, \"5\": {\"precision\": 0.8274764060461904, \"recall\": 0.8056551621096668, \"f1-score\": 0.816420000757031, \"support\": 26772}, \"accuracy\": 0.6305502656109051, \"macro avg\": {\"precision\": 0.4958155218950444, \"recall\": 0.49725789981667023, \"f1-score\": 0.4904950446642742, \"support\": 49885}, \"weighted avg\": {\"precision\": 0.6510627746081118, \"recall\": 0.6305502656109051, \"f1-score\": 0.6383355057647349, \"support\": 49885}}', 'roc_auc': '{\"auc_1\": 0.9462979183635569, \"auc_2\": 0.8593009208046182, \"auc_3\": 0.8291642650908745, \"auc_4\": 0.7234011562841567, \"auc_5\": 0.8868044780207266, \"auc_micro\": 0.8938212534514458, \"auc_macro\": 0.8490055368580136}', 'loss': 0.9138216972351074, 'accuracy': 0.6305502653121948, 'confusion_matrix': '[[4053, 2025, 421, 201, 258], [810, 1358, 602, 281, 182], [366, 1176, 1432, 1071, 509], [152, 511, 1114, 3043, 3548], [374, 547, 762, 3520, 21569]]', 'file': 'drive/My Drive/Springboard/capstone/data/amazon_reviews_us_Wireless_v1_00-200k-with_stop_nonlemmatized-preprocessed.csv', 'network_history_file': 'drive/My Drive/Springboard/capstone/reports/biGRUB16-1x16-random_embedding-sampling_none-199538-100-review_body-history.pkl', 'tokenizer_file': 'drive/My Drive/Springboard/capstone/models/biGRUB16-1x16-random_embedding-sampling_none-199538-100-review_body-tokenizer.pkl', 'max_sequence_length': 100, 'batch_size': 128, 'epochs': 10, 'feature_set_name': 'random_embedding', 'class_weight': '{\"0\": 1.4376972404351898, \"1\": 3.076915959907479, \"2\": 2.182770880052508, \"3\": 1.1962709832134293, \"4\": 0.372387022124348}', 'sampling_type': 'none', 'embedding': 300, 'model_file': 'drive/My Drive/Springboard/capstone/models/biGRUB16-1x16-random_embedding-sampling_none-199538-100-review_body-model.h5', 'model_json_file': 'drive/My Drive/Springboard/capstone/models/biGRUB16-1x16-random_embedding-sampling_none-199538-100-review_body-model.json', 'weights_file': 'drive/My Drive/Springboard/capstone/models/biGRUB16-1x16-random_embedding-sampling_none-199538-100-review_body-weights.h5', 'test_examples': 49885, 'test_features': 100, 'train_examples': 149653, 'train_features': 100, 'train_time_min': 23.16, 'evaluate_time_min': 0.24, 'predict_time_min': 0.18, 'status': 'success', 'status_date': '2020-05-02 13:10:21'}\n",
            "Saving report file...\n",
            "Saving json config file: drive/My Drive/Springboard/capstone/models/biGRUB16-1x16-random_embedding-sampling_none-199538-100-review_body-model.json\n",
            "Saving weights file: drive/My Drive/Springboard/capstone/models/biGRUB16-1x16-random_embedding-sampling_none-199538-100-review_body-weights.h5\n",
            "Saving history file: drive/My Drive/Springboard/capstone/reports/biGRUB16-1x16-random_embedding-sampling_none-199538-100-review_body-history.pkl\n",
            "Saving model file: drive/My Drive/Springboard/capstone/models/biGRUB16-1x16-random_embedding-sampling_none-199538-100-review_body-model.h5\n",
            "Executing op ReadVariableOp in device /job:localhost/replica:0/task:0/device:GPU:0\n",
            "Executing op Identity in device /job:localhost/replica:0/task:0/device:GPU:0\n"
          ],
          "name": "stdout"
        }
      ]
    },
    {
      "cell_type": "code",
      "metadata": {
        "id": "bSTCgBJL7SQO",
        "colab_type": "code",
        "colab": {
          "base_uri": "https://localhost:8080/",
          "height": 538
        },
        "outputId": "18d0e198-55b0-4f28-9772-d21479fcd289"
      },
      "source": [
        "from tensorflow.keras.models import load_model\n",
        "\n",
        "model_loaded = load_model(mw.model_file)\n",
        "scores = model_loaded.evaluate(X_test, y_test, verbose=1)\n",
        "print(\"Accuracy: %.2f%%\" % (scores[1]*100))\n",
        "\n",
        "# this takes too long for real models\n",
        "if DEBUG == True:\n",
        "  y_predict = model_loaded.predict(X_test)\n",
        "  y_predict_unencoded = ku.unencode(y_predict)\n",
        "  y_test_unencoded = ku.unencode(y_test)\n",
        "\n",
        "  # classification report\n",
        "  print(classification_report(y_test_unencoded, y_predict_unencoded))\n",
        "\n",
        "  # confusion matrix\n",
        "  print(confusion_matrix(y_test_unencoded, y_predict))"
      ],
      "execution_count": 15,
      "outputs": [
        {
          "output_type": "stream",
          "text": [
            "Executing op RandomUniform in device /job:localhost/replica:0/task:0/device:CPU:0\n",
            "Executing op RandomUniform in device /job:localhost/replica:0/task:0/device:GPU:0\n",
            "Executing op RandomStandardNormal in device /job:localhost/replica:0/task:0/device:GPU:0\n",
            "Executing op RandomUniform in device /job:localhost/replica:0/task:0/device:GPU:0\n",
            "Executing op RandomStandardNormal in device /job:localhost/replica:0/task:0/device:GPU:0\n",
            "Executing op RandomUniform in device /job:localhost/replica:0/task:0/device:GPU:0\n",
            "Executing op VarHandleOp in device /job:localhost/replica:0/task:0/device:GPU:0\n",
            "Executing op Fill in device /job:localhost/replica:0/task:0/device:CPU:0\n",
            "Executing op Fill in device /job:localhost/replica:0/task:0/device:GPU:0\n",
            "Executing op VarHandleOp in device /job:localhost/replica:0/task:0/device:GPU:0\n",
            "Executing op VarHandleOp in device /job:localhost/replica:0/task:0/device:GPU:0\n",
            "Executing op VarHandleOp in device /job:localhost/replica:0/task:0/device:GPU:0\n",
            "Executing op VarHandleOp in device /job:localhost/replica:0/task:0/device:GPU:0\n",
            "Executing op VarHandleOp in device /job:localhost/replica:0/task:0/device:GPU:0\n",
            "Executing op RangeDataset in device /job:localhost/replica:0/task:0/device:CPU:0\n",
            "Executing op RepeatDataset in device /job:localhost/replica:0/task:0/device:CPU:0\n",
            "Executing op MapDataset in device /job:localhost/replica:0/task:0/device:CPU:0\n",
            "Executing op PrefetchDataset in device /job:localhost/replica:0/task:0/device:CPU:0\n",
            "Executing op FlatMapDataset in device /job:localhost/replica:0/task:0/device:CPU:0\n",
            "Executing op TensorDataset in device /job:localhost/replica:0/task:0/device:CPU:0\n",
            "Executing op RepeatDataset in device /job:localhost/replica:0/task:0/device:CPU:0\n",
            "Executing op ZipDataset in device /job:localhost/replica:0/task:0/device:CPU:0\n",
            "Executing op ParallelMapDataset in device /job:localhost/replica:0/task:0/device:CPU:0\n",
            "Executing op ModelDataset in device /job:localhost/replica:0/task:0/device:CPU:0\n",
            "Executing op VarHandleOp in device /job:localhost/replica:0/task:0/device:GPU:0\n",
            "Executing op VarHandleOp in device /job:localhost/replica:0/task:0/device:GPU:0\n",
            "Executing op __inference_test_function_40310 in device /job:localhost/replica:0/task:0/device:GPU:0\n",
            "1559/1559 [==============================] - 11s 7ms/step - loss: 0.9138 - categorical_accuracy: 0.6306\n",
            "Accuracy: 63.06%\n"
          ],
          "name": "stdout"
        }
      ]
    },
    {
      "cell_type": "code",
      "metadata": {
        "id": "Cy-VEfDfFSr4",
        "colab_type": "code",
        "colab": {
          "base_uri": "https://localhost:8080/",
          "height": 86
        },
        "outputId": "a433c730-0d93-419d-8cc9-4efde4555ada"
      },
      "source": [
        "  end_time = datetime.now()\n",
        "  print(f'Report filename: {ku.ModelWrapper.get_report_file_name(DRIVE_DIR, use_date=False)}')\n",
        "  print(f'Star Time: {start_time }\\nEnd time: {end_time}\\nTotal Duration: {round((end_time - start_time).total_seconds() / 60, 2)} mins')\n"
      ],
      "execution_count": 16,
      "outputs": [
        {
          "output_type": "stream",
          "text": [
            "Report filename: drive/My Drive/Springboard/capstone/reports/dl_prototype-report.csv\n",
            "Star Time: 2020-05-02 12:50:02.919084\n",
            "End time: 2020-05-02 13:17:10.394481\n",
            "Total Duration: 27.12 mins\n"
          ],
          "name": "stdout"
        }
      ]
    },
    {
      "cell_type": "code",
      "metadata": {
        "id": "VxSlB6uUr_2R",
        "colab_type": "code",
        "colab": {}
      },
      "source": [
        ""
      ],
      "execution_count": 0,
      "outputs": []
    }
  ]
}