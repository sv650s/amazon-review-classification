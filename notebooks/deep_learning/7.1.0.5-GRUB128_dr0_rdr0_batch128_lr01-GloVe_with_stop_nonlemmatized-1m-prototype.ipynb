{
  "nbformat": 4,
  "nbformat_minor": 0,
  "metadata": {
    "colab": {
      "name": "7.1.0.5-GRUB128_dr0_rdr0_batch128_lr01-GloVe_with_stop_nonlemmatized-1m-prototype.ipynb",
      "provenance": [],
      "collapsed_sections": [],
      "machine_shape": "hm",
      "include_colab_link": true
    },
    "language_info": {
      "codemirror_mode": {
        "name": "ipython",
        "version": 3
      },
      "file_extension": ".py",
      "mimetype": "text/x-python",
      "name": "python",
      "nbconvert_exporter": "python",
      "pygments_lexer": "ipython3",
      "version": "3.7.3"
    },
    "kernelspec": {
      "name": "python3",
      "display_name": "Python 3"
    },
    "accelerator": "GPU"
  },
  "cells": [
    {
      "cell_type": "markdown",
      "metadata": {
        "id": "view-in-github",
        "colab_type": "text"
      },
      "source": [
        "<a href=\"https://colab.research.google.com/github/sv650s/amazon-review-classification/blob/master/notebooks/deep_learning/7.1.0.5-GRUB128_dr0_rdr0_batch128_lr01-GloVe_with_stop_nonlemmatized-1m-prototype.ipynb\" target=\"_parent\"><img src=\"https://colab.research.google.com/assets/colab-badge.svg\" alt=\"Open In Colab\"/></a>"
      ]
    },
    {
      "cell_type": "markdown",
      "metadata": {
        "id": "W7_sb1roJXhx",
        "colab_type": "text"
      },
      "source": [
        "# Pre-trained GloVe embedding using GRU with 1mil\n",
        " samples without removing stop words\n",
        "\n",
        "In this notebook, we will LSTM with the following configuration\n",
        "\n",
        "* Glove embedding with 300 dimension vectors\n",
        "  * includes stop words\n",
        "  * words are not lemmatized\n",
        "* max sequence length of 100 words (this is same as what we've been doing)\n",
        "* 128 cells \n",
        "* dropout rate: 0\n",
        "* recurrent dropout rate: 0\n",
        "* learning rate of 0.01\n",
        "* batch size of 128\n",
        "* 20 epochs\n",
        "\n",
        "\n"
      ]
    },
    {
      "cell_type": "code",
      "metadata": {
        "id": "pF_xRedK9O1Q",
        "colab_type": "code",
        "outputId": "0919667b-4763-4594-b8a3-4959b33c168e",
        "colab": {
          "base_uri": "https://localhost:8080/",
          "height": 50
        }
      },
      "source": [
        "from google.colab import drive\n",
        "drive.mount('/content/drive')\n",
        "\n",
        "import sys\n",
        "DRIVE_DIR = \"drive/My Drive/Springboard/capstone\"\n",
        "sys.path.append(DRIVE_DIR)\n",
        "\n",
        "\n",
        "%tensorflow_version 2.x\n",
        "\n",
        "\n",
        "import tensorflow as tf\n",
        "# checl to make sure we are using GPU here\n",
        "tf.test.gpu_device_name()"
      ],
      "execution_count": 1,
      "outputs": [
        {
          "output_type": "stream",
          "text": [
            "Drive already mounted at /content/drive; to attempt to forcibly remount, call drive.mount(\"/content/drive\", force_remount=True).\n"
          ],
          "name": "stdout"
        },
        {
          "output_type": "execute_result",
          "data": {
            "text/plain": [
              "'/device:GPU:0'"
            ]
          },
          "metadata": {
            "tags": []
          },
          "execution_count": 1
        }
      ]
    },
    {
      "cell_type": "code",
      "metadata": {
        "id": "SyhcVd4ec1sq",
        "colab_type": "code",
        "outputId": "c5c79021-a0c3-49ad-c110-3ff6c731f9a2",
        "colab": {
          "base_uri": "https://localhost:8080/",
          "height": 326
        }
      },
      "source": [
        "# check what GPU we got\n",
        "gpu_info = !nvidia-smi\n",
        "gpu_info = '\\n'.join(gpu_info)\n",
        "if gpu_info.find('failed') >= 0:\n",
        "  print('Select the Runtime → \"Change runtime type\" menu to enable a GPU accelerator, ')\n",
        "  print('and then re-execute this cell.')\n",
        "else:\n",
        "  print(gpu_info)\n",
        "\n",
        "# check that we are using high RAM runtime\n",
        "from psutil import virtual_memory\n",
        "ram_gb = virtual_memory().total / 1e9\n",
        "print('Your runtime has {:.1f} gigabytes of available RAM\\n'.format(ram_gb))\n",
        "\n",
        "if ram_gb < 20:\n",
        "  print('To enable a high-RAM runtime, select the Runtime → \"Change runtime type\"')\n",
        "  print('menu, and then select High-RAM in the Runtime shape dropdown. Then, ')\n",
        "  print('re-execute this cell.')\n",
        "else:\n",
        "  print('You are using a high-RAM runtime!')"
      ],
      "execution_count": 2,
      "outputs": [
        {
          "output_type": "stream",
          "text": [
            "Fri May 29 07:53:05 2020       \n",
            "+-----------------------------------------------------------------------------+\n",
            "| NVIDIA-SMI 440.82       Driver Version: 418.67       CUDA Version: 10.1     |\n",
            "|-------------------------------+----------------------+----------------------+\n",
            "| GPU  Name        Persistence-M| Bus-Id        Disp.A | Volatile Uncorr. ECC |\n",
            "| Fan  Temp  Perf  Pwr:Usage/Cap|         Memory-Usage | GPU-Util  Compute M. |\n",
            "|===============================+======================+======================|\n",
            "|   0  Tesla P100-PCIE...  Off  | 00000000:00:04.0 Off |                    0 |\n",
            "| N/A   38C    P0    34W / 250W |    353MiB / 16280MiB |      0%      Default |\n",
            "+-------------------------------+----------------------+----------------------+\n",
            "                                                                               \n",
            "+-----------------------------------------------------------------------------+\n",
            "| Processes:                                                       GPU Memory |\n",
            "|  GPU       PID   Type   Process name                             Usage      |\n",
            "|=============================================================================|\n",
            "+-----------------------------------------------------------------------------+\n",
            "Your runtime has 27.4 gigabytes of available RAM\n",
            "\n",
            "You are using a high-RAM runtime!\n"
          ],
          "name": "stdout"
        }
      ]
    },
    {
      "cell_type": "code",
      "metadata": {
        "id": "pAHGtniuJXhy",
        "colab_type": "code",
        "outputId": "5c78bfa0-8f96-49e1-a23b-63822509351f",
        "colab": {
          "base_uri": "https://localhost:8080/",
          "height": 70
        }
      },
      "source": [
        "from __future__ import absolute_import, division, print_function, unicode_literals\n",
        "\n",
        "\n",
        "from tensorflow.keras.models import Sequential\n",
        "from tensorflow.keras.layers import Dense, Activation, Dropout\n",
        "from tensorflow.keras.layers import BatchNormalization\n",
        "from tensorflow.keras.callbacks import EarlyStopping, ReduceLROnPlateau\n",
        "from tensorflow.keras.models import load_model\n",
        "from tensorflow.keras.optimizers import SGD, Adam\n",
        "from tensorflow.keras.layers import Conv1D, MaxPooling1D, Embedding, \\\n",
        "    SpatialDropout1D, Flatten, LSTM\n",
        "from tensorflow.keras.preprocessing.text import Tokenizer\n",
        "from tensorflow.keras.preprocessing import sequence\n",
        "from tensorflow.keras.utils import model_to_dot\n",
        "from tensorflow.keras.initializers import Constant\n",
        "\n",
        "\n",
        "from sklearn.model_selection import train_test_split\n",
        "from sklearn.preprocessing import OneHotEncoder\n",
        "from sklearn.preprocessing import LabelEncoder\n",
        "from sklearn.metrics import confusion_matrix, classification_report\n",
        "from sklearn.utils.class_weight import compute_class_weight\n",
        "\n",
        "\n",
        "import pandas as pd\n",
        "import numpy as np\n",
        "from IPython.display import SVG\n",
        "import pickle\n",
        "from datetime import datetime\n",
        "import matplotlib.pyplot as plt\n",
        "import seaborn as sns\n",
        "import os\n",
        "import logging\n",
        "\n",
        "\n",
        "import util.dict_util as du\n",
        "import util.plot_util as pu\n",
        "import util.file_util as fu\n",
        "import util.keras_util as ku\n",
        "import util.report_util as ru\n",
        "\n",
        "import random\n",
        "\n",
        "# fix random seeds\n",
        "tf.compat.v1.reset_default_graph()\n",
        "tf.compat.v1.set_random_seed(1)\n",
        "random.seed(1)\n",
        "np.random.seed(1)\n",
        "\n",
        "logging.basicConfig(level=logging.ERROR)\n",
        "\n",
        "%matplotlib inline\n",
        "sns.set()\n",
        "\n",
        "\n",
        "DATE_FORMAT = '%Y-%m-%d'\n",
        "TIME_FORMAT = '%Y-%m-%d %H:%M:%S'\n",
        "LABEL_COLUMN = \"star_rating\"\n",
        "FEATURE_COLUMN = \"review_body\"\n",
        "\n",
        "\n",
        "DEBUG = False\n",
        "\n",
        "\n",
        "DIM = 128 # total LSTM units\n",
        "# length of our embedding - 300 is standard\n",
        "EMBED_SIZE = 300\n",
        "EPOCHS  = 20\n",
        "BATCH_SIZE = 128\n",
        "LEARNING_RATE = 0.01\n",
        "DROPOUT_RATE = 0.0\n",
        "RECURRENT_DROPOUT_RATE = 0.0\n",
        "PATIENCE = 6\n",
        "BIDIRECTIONAL = False\n",
        "BALANCE_CLASS_WEIGHTS = True\n",
        "TRAIN_EMBEDDINGS = False\n",
        "MODEL_VERSION = 1\n",
        "PLATEAU_PATIENCE = 3\n",
        "ENVIRONMENT = \"7.1.0.5-GRU128_dr0_rdr0_batch128_lr01-GloVe_with_stop_nonlemmatized-1m-prototype.ipynb\"\n",
        "\n",
        "SAMPLES = \"1m\"\n",
        "FEATURE_SET_NAME = \"glove_with_stop_nonlemmatized\"\n",
        "\n",
        "\n",
        "# From EDA, we know that 90% of review bodies have 100 words or less, \n",
        "# we will use this as our sequence length\n",
        "MAX_SEQUENCE_LENGTH = 100\n",
        "\n",
        "if BIDIRECTIONAL:\n",
        "  bidirectional_name = \"bi\"\n",
        "else:\n",
        "  bidirectional_name = \"\"\n",
        "\n",
        "if BALANCE_CLASS_WEIGHTS:\n",
        "  balanced_name = \"B\"\n",
        "else:\n",
        "  balanced_name = \"\"\n",
        "\n",
        "MODEL_NAME = f\"{bidirectional_name}GRU{balanced_name}{DIM}\"\n",
        "ARCHITECTURE = f\"1x{DIM}\"\n",
        "DESCRIPTION = f\"1 Layer {DIM} GRU Units, Dropout {DROPOUT_RATE}, Recurrent Dropout {RECURRENT_DROPOUT_RATE}, Batch Size {BATCH_SIZE}, Learning Rate {LEARNING_RATE}\"\n",
        "\n",
        "REPORT_FILE = f\"{MODEL_NAME}_\" \\\n",
        "              f\"dr{ku.get_decimal_str(DROPOUT_RATE)}_\" \\\n",
        "              f\"rdr{ku.get_decimal_str(RECURRENT_DROPOUT_RATE)}_\" \\\n",
        "              f\"batch{BATCH_SIZE}_\" \\\n",
        "              f\"lr{ku.get_decimal_str(LEARNING_RATE)}-{FEATURE_SET_NAME}-dl_prototype-report.csv\"\n",
        "\n",
        "if DEBUG:\n",
        "  DATA_FILE = f'{DRIVE_DIR}/data/amazon_reviews_us_Wireless_v1_00-test-preprocessed.csv'\n",
        "  MODEL_NAME = f'test-{MODEL_NAME}'\n",
        "  MISSING_WORDS_FILE = f'{DRIVE_DIR}/reports/glove_embedding-missing_words-test.csv'\n",
        "  ku.ModelWrapper.set_report_filename(f\"test-{REPORT_FILE}\")\n",
        "\n",
        "else:\n",
        "  DATA_FILE = f\"{DRIVE_DIR}/data/amazon_reviews_us_Wireless_v1_00-{SAMPLES}-with_stop_nonlemmatized-preprocessed.csv\"\n",
        "  MISSING_WORDS_FILE = f'{DRIVE_DIR}/reports/glove_embedding-missing_words-{SAMPLES}.csv'\n",
        "  ku.ModelWrapper.set_report_filename(REPORT_FILE)\n",
        "\n",
        "\n",
        "EMBEDDING_FILE = f'{DRIVE_DIR}/data/embeddings/glove.840B.300d.txt'\n",
        "\n",
        "start_time = datetime.now()\n",
        "\n",
        "\n",
        "\n"
      ],
      "execution_count": 3,
      "outputs": [
        {
          "output_type": "stream",
          "text": [
            "/usr/local/lib/python3.6/dist-packages/statsmodels/tools/_testing.py:19: FutureWarning: pandas.util.testing is deprecated. Use the functions in the public API at pandas.testing instead.\n",
            "  import pandas.util.testing as tm\n"
          ],
          "name": "stderr"
        }
      ]
    },
    {
      "cell_type": "code",
      "metadata": {
        "hide_input": false,
        "id": "k6fwJp9OJXh5",
        "colab_type": "code",
        "colab": {}
      },
      "source": [
        "df = pd.read_csv(DATA_FILE)\n",
        "\n",
        "rating = df[LABEL_COLUMN]\n",
        "reviews = df[FEATURE_COLUMN]"
      ],
      "execution_count": 0,
      "outputs": []
    },
    {
      "cell_type": "code",
      "metadata": {
        "id": "GKdUpCsshGk8",
        "colab_type": "code",
        "colab": {}
      },
      "source": [
        ""
      ],
      "execution_count": 0,
      "outputs": []
    },
    {
      "cell_type": "code",
      "metadata": {
        "id": "rMdM2TS7hGgc",
        "colab_type": "code",
        "colab": {}
      },
      "source": [
        ""
      ],
      "execution_count": 0,
      "outputs": []
    },
    {
      "cell_type": "code",
      "metadata": {
        "id": "kHMW5sNShGce",
        "colab_type": "code",
        "colab": {}
      },
      "source": [
        ""
      ],
      "execution_count": 0,
      "outputs": []
    },
    {
      "cell_type": "code",
      "metadata": {
        "id": "HvcwW1AmhGNU",
        "colab_type": "code",
        "colab": {}
      },
      "source": [
        ""
      ],
      "execution_count": 0,
      "outputs": []
    },
    {
      "cell_type": "markdown",
      "metadata": {
        "id": "EBQR0ZpoOiQk",
        "colab_type": "text"
      },
      "source": [
        "# Preprocessing"
      ]
    },
    {
      "cell_type": "code",
      "metadata": {
        "id": "_g2Wm80MCgGZ",
        "colab_type": "code",
        "colab": {}
      },
      "source": [
        ""
      ],
      "execution_count": 0,
      "outputs": []
    },
    {
      "cell_type": "code",
      "metadata": {
        "id": "lytdvF4neJ4r",
        "colab_type": "code",
        "outputId": "286e1779-5d8c-4a9d-9693-ce764e3a365e",
        "colab": {
          "base_uri": "https://localhost:8080/",
          "height": 66
        }
      },
      "source": [
        "\n",
        "\n",
        "# pre-process our lables\n",
        "# one hot encode our star ratings since Keras/TF requires this for the labels\n",
        "y = OneHotEncoder().fit_transform(rating.values.reshape(len(rating), 1)).toarray()\n",
        "\n",
        "\n",
        "# split our data into train and test sets\n",
        "reviews_train, reviews_test, y_train, y_test = train_test_split(reviews, y, random_state=1)\n",
        "\n",
        "\n",
        "# Pre-process our features (review body)\n",
        "t = Tokenizer(oov_token=\"<UNK>\")\n",
        "# fit the tokenizer on the documents\n",
        "t.fit_on_texts(reviews_train)\n",
        "# tokenize both our training and test data\n",
        "train_sequences = t.texts_to_sequences(reviews_train)\n",
        "test_sequences = t.texts_to_sequences(reviews_test)\n",
        "\n",
        "print(\"Vocabulary size={}\".format(len(t.word_counts)))\n",
        "print(\"Number of Documents={}\".format(t.document_count))\n",
        "\n",
        "\n",
        "# pad our reviews to the max sequence length\n",
        "X_train = sequence.pad_sequences(train_sequences, maxlen=MAX_SEQUENCE_LENGTH)\n",
        "X_test = sequence.pad_sequences(test_sequences, maxlen=MAX_SEQUENCE_LENGTH)\n",
        "\n",
        "print('Train review vectors shape:', X_train.shape, ' Test review vectors shape:', X_test.shape)\n"
      ],
      "execution_count": 5,
      "outputs": [
        {
          "output_type": "stream",
          "text": [
            "Vocabulary size=116983\n",
            "Number of Documents=748261\n",
            "Train review vectors shape: (748261, 100)  Test review vectors shape: (249421, 100)\n"
          ],
          "name": "stdout"
        }
      ]
    },
    {
      "cell_type": "markdown",
      "metadata": {
        "id": "TgorpmIPnQH9",
        "colab_type": "text"
      },
      "source": [
        "## Load our pre-trained embedding\n",
        "\n",
        "embeddings_index will be a map where key == word, value == the embedding vector"
      ]
    },
    {
      "cell_type": "code",
      "metadata": {
        "id": "5j7D7LLinP0r",
        "colab_type": "code",
        "outputId": "72a9e781-edba-4322-b4e2-1907bc15a40a",
        "colab": {
          "base_uri": "https://localhost:8080/",
          "height": 82
        }
      },
      "source": [
        "\n",
        "EMBEDDING_INDEX_FILE = f'{DRIVE_DIR}/models/glove.840B.300d-embedding_index'\n",
        "\n",
        "embeddings_index = {}\n",
        "\n",
        "if os.path.exists(f'{EMBEDDING_INDEX_FILE}.npy'):\n",
        "  print(f'Loading {EMBEDDING_INDEX_FILE}.npy')\n",
        "  embeddings_index = np.load(f'{EMBEDDING_INDEX_FILE}.npy', \n",
        "                             allow_pickle = True).item()\n",
        "else:\n",
        "  print('Indexing word vectors.')\n",
        "\n",
        "  with open(EMBEDDING_FILE) as f:\n",
        "      for line in f:\n",
        "          word, coefs = line.split(maxsplit=1)\n",
        "          coefs = np.fromstring(coefs, 'f', sep=' ')\n",
        "          embeddings_index[word] = coefs\n",
        "  np.save(EMBEDDING_INDEX_FILE, embeddings_index)\n",
        "\n",
        "print(type(embeddings_index))\n",
        "print(np.shape(embeddings_index))\n",
        "print('Found %s word vectors.' % len(embeddings_index))\n",
        "\n",
        "\n"
      ],
      "execution_count": 6,
      "outputs": [
        {
          "output_type": "stream",
          "text": [
            "Loading drive/My Drive/Springboard/capstone/models/glove.840B.300d-embedding_index.npy\n",
            "<class 'dict'>\n",
            "()\n",
            "Found 2195884 word vectors.\n"
          ],
          "name": "stdout"
        }
      ]
    },
    {
      "cell_type": "code",
      "metadata": {
        "id": "pchOfR6qnPxB",
        "colab_type": "code",
        "colab": {}
      },
      "source": [
        ""
      ],
      "execution_count": 0,
      "outputs": []
    },
    {
      "cell_type": "code",
      "metadata": {
        "id": "G7L7HL6EnPtA",
        "colab_type": "code",
        "colab": {}
      },
      "source": [
        ""
      ],
      "execution_count": 0,
      "outputs": []
    },
    {
      "cell_type": "markdown",
      "metadata": {
        "id": "rYvqmy4xmQWD",
        "colab_type": "text"
      },
      "source": [
        "## Create Embedding Matrix based on our tokenizer\n",
        "\n",
        "For every word in our vocabulary, we will look up the embedding vector and add the it to our embedding matrix\n",
        "\n",
        "The matrix will be passed in as weights in our embedding layer later\n",
        "\n",
        "If there is word that does not exist in the pre-trained embedding vocabulary, we will leave the weights as 0 vector and save off the word into a CSV file later for analysis"
      ]
    },
    {
      "cell_type": "code",
      "metadata": {
        "id": "bIrMqj-HmPwk",
        "colab_type": "code",
        "outputId": "11fe5df3-4054-4993-c2ab-9bf458389731",
        "colab": {
          "base_uri": "https://localhost:8080/",
          "height": 66
        }
      },
      "source": [
        "# this is a map with key == word, value == index in the vocabulary\n",
        "word_index = t.word_index\n",
        "print(f'word_index length: {len(word_index)}')\n",
        "\n",
        "# we are going to use the entire vocab so we can alter this from the example\n",
        "# num_words = min(MAX_NUM_WORDS, len(word_index) + 1)\n",
        "\n",
        "# start with a matrix of 0's\n",
        "embedding_matrix = np.zeros((len(word_index) + 1, EMBED_SIZE))\n",
        "\n",
        "# if a word doesn't exist in our vocabulary, let's save it off\n",
        "missing_words = []\n",
        "print(f'embedding_matrix shape: {np.shape(embedding_matrix)}')\n",
        "for word, i in word_index.items():\n",
        "    # print(f'word: {word} i: {i}')\n",
        "    embedding_vector = embeddings_index.get(word)\n",
        "    if embedding_vector is not None and np.shape(embedding_vector)[0] == EMBED_SIZE:\n",
        "        # words not found in embedding index will be all-zeros.\n",
        "        # print(f'i: {i} embedding_vector shape: {np.shape(embedding_vector)}')\n",
        "        embedding_matrix[i] = embedding_vector\n",
        "    else:\n",
        "      missing_words.append(word)\n",
        "\n",
        "print(f'Number of missing words from our vocabulary: {len(missing_words)}')\n",
        "\n"
      ],
      "execution_count": 7,
      "outputs": [
        {
          "output_type": "stream",
          "text": [
            "word_index length: 116984\n",
            "embedding_matrix shape: (116985, 300)\n",
            "Number of missing words from our vocabulary: 47763\n"
          ],
          "name": "stdout"
        }
      ]
    },
    {
      "cell_type": "markdown",
      "metadata": {
        "id": "TIw5aJS8trK-",
        "colab_type": "text"
      },
      "source": [
        "Save off our missing words into a csv file so we can analyze this later"
      ]
    },
    {
      "cell_type": "code",
      "metadata": {
        "id": "XN1Vr2oSto2f",
        "colab_type": "code",
        "colab": {}
      },
      "source": [
        "# save missing words into a file so we can analyze it later\n",
        "missing_words_df = pd.DataFrame(missing_words).sort_values(0)\n",
        "missing_words_df.to_csv(MISSING_WORDS_FILE, index=False)"
      ],
      "execution_count": 0,
      "outputs": []
    },
    {
      "cell_type": "markdown",
      "metadata": {
        "id": "6hWLBCjqucDJ",
        "colab_type": "text"
      },
      "source": [
        "**Build LSTM Model Architecture**"
      ]
    },
    {
      "cell_type": "code",
      "metadata": {
        "scrolled": false,
        "id": "60eC_0fRJXiQ",
        "colab_type": "code",
        "outputId": "51bb2435-5d34-418e-b11d-852db2acfa50",
        "colab": {
          "base_uri": "https://localhost:8080/",
          "height": 1000
        }
      },
      "source": [
        "vocab_size = len(t.word_index)+1\n",
        "\n",
        "# reduce learning rate if we sense a plateau\n",
        "reduce_lr = ReduceLROnPlateau(monitor='val_loss', \n",
        "                              restore_best_weights=True,\n",
        "                              factor = 0.5,\n",
        "                              patience = PLATEAU_PATIENCE,\n",
        "                              verbose = 1)\n",
        "\n",
        "early_stop = EarlyStopping(monitor='val_loss', \n",
        "                           patience=PATIENCE, \n",
        "                           verbose=1,\n",
        "                           restore_best_weights=True)\n",
        "\n",
        "mw = ku.GRU1LayerModelWrapper(\n",
        "                        dimension = DIM, # LSTM dim - LSTM1LyerModelWrapper\n",
        "                          dropout_rate = DROPOUT_RATE, # dropout rate - LSTM1LyerModelWrapper\n",
        "                          recurrent_dropout_rate = RECURRENT_DROPOUT_RATE, # recurrent dropout rate - LSTM1LyerModelWrapper\n",
        "                          bidirectional = BIDIRECTIONAL, # bidirectional - LSTM1LyerModelWrapper\n",
        "                          vocab_size = vocab_size,       # vocab size - EmbeddingModelWrapper\n",
        "                          max_sequence_length = MAX_SEQUENCE_LENGTH, # max sequence length - EmbeddingModelWrapper\n",
        "                          embed_size = EMBED_SIZE, # embed size - EmbeddingModelWrapper\n",
        "                        train_embeddings  =  TRAIN_EMBEDDINGS, # trainable embedding - EmbeddingModelWrapper\n",
        "                        embedding_matrix = embedding_matrix, # embedding matrix weights - EmbeddingModelWrapper\n",
        "                        model_name = MODEL_NAME, # model name - ModelWrapper\n",
        "                        architecture = ARCHITECTURE, # architecture - ModelWrapper\n",
        "                        feature_set_name = FEATURE_SET_NAME, # feature_set_name - ModelWrapper\n",
        "                        label_column = LABEL_COLUMN, # label_column - ModelWrapper\n",
        "                        feature_column = FEATURE_COLUMN, # feature_column - ModelWrapper\n",
        "                        data_file = DATA_FILE, # data file - ModelWrapper\n",
        "                        sample_size_str = SAMPLES, # sample size\n",
        "                        tokenizer = t, # tokenizer - ModelWrapper\n",
        "                        description = DESCRIPTION, #description - ModelWrapper\n",
        "                        optimizer_name = \"Adam\", # string optimizer name\n",
        "                        learning_rate = LEARNING_RATE, # learning rate - ModelWrapper\n",
        "                        # TODO: this should be in fit instead but need it to define name for the\n",
        "                        # checkpoint location - move later\n",
        "                        batch_size = BATCH_SIZE, # batch size - ModelWrapper\n",
        "                        model_version= MODEL_VERSION, # model version - ModelWrapper\n",
        "                        save_dir = DRIVE_DIR # where to save outputs - ModelWrapper\n",
        ")\n",
        "\n",
        "mw.add(\"environment\", ENVIRONMENT)\n",
        "mw.add(\"patience\", PATIENCE)\n",
        "mw.add(\"plateau_patience\", PLATEAU_PATIENCE)\n",
        "\n",
        "\n",
        "network_history = mw.fit(X_train, y_train,\n",
        "                      epochs = EPOCHS,\n",
        "                      verbose = 1,\n",
        "                      validation_split = 0.2,\n",
        "                      balance_class_weights = BALANCE_CLASS_WEIGHTS,\n",
        "                      callbacks=[early_stop, reduce_lr])\n",
        "\n"
      ],
      "execution_count": 9,
      "outputs": [
        {
          "output_type": "stream",
          "text": [
            "Model: \"sequential\"\n",
            "_________________________________________________________________\n",
            "Layer (type)                 Output Shape              Param #   \n",
            "=================================================================\n",
            "embedding (Embedding)        (None, 100, 300)          35095500  \n",
            "_________________________________________________________________\n",
            "gru (GRU)                    (None, 128)               165120    \n",
            "_________________________________________________________________\n",
            "dense (Dense)                (None, 5)                 645       \n",
            "=================================================================\n",
            "Total params: 35,261,265\n",
            "Trainable params: 165,765\n",
            "Non-trainable params: 35,095,500\n",
            "_________________________________________________________________\n",
            "Build model:\n",
            "None\n",
            "Starting training on model:\n",
            "\n",
            "ModelWrapper parameters:\n",
            "\ttf_version:\t\t\t2.2.0\n",
            "\tmodel_name:\t\t\tGRUB128\n",
            "\tdescription:\t\t\t1 Layer 128 GRU Units, Dropout 0.0, Recurrent Dropout 0.0, Batch Size 128, Learning Rate 0.01\n",
            "\tarchitecture:\t\t\t1x128\n",
            "\tfeature_set_name:\t\tglove_with_stop_nonlemmatized\n",
            "\tlabel_column:\t\t\tstar_rating\n",
            "\tfeature_column:\t\t\treview_body\n",
            "\tdata_file:\t\t\tdrive/My Drive/Springboard/capstone/data/amazon_reviews_us_Wireless_v1_00-1m-with_stop_nonlemmatized-preprocessed.csv\n",
            "\tbatch_size:\t\t\t128\n",
            "\tsample_size:\t\t\t1m\n",
            "\tsampling_type:\t\t\tnone\n",
            "\ttokenizer:\t\t\t<keras_preprocessing.text.Tokenizer object at 0x7f8c4bf4d160>\n",
            "\tsave_weights:\t\t\tTrue\n",
            "\toptimizer:\t\t\tAdam\n",
            "\tlearning_rate:\t\t\t0.01\n",
            "\tversion:\t\t\t1\n",
            "\tsave_dir:\t\t\tdrive/My Drive/Springboard/capstone\n",
            "\tload_model_file:\t\t\tNone\n",
            "\n",
            "\tReport Output:\n",
            "\t\treport_file:\t\t\tdrive/My Drive/Springboard/capstone/reports/GRUB128_dr0_rdr0_batch128_lr01-glove_with_stop_nonlemmatized-dl_prototype-report.csv\n",
            "\n",
            "\tModel Output:\n",
            "\t\ttokenizer_file:\t\t\tdrive/My Drive/Springboard/capstone/models/GRUB128-1x128-dr0-rdr0-batch128-lr01-glove_with_stop_nonlemmatized-sampling_none-1m-review_body-tf2-2-0-v1/GRUB128-1x128-dr0-rdr0-batch128-lr01-glove_with_stop_nonlemmatized-sampling_none-1m-review_body-tf2-2-0-v1-tokenizer.pkl\n",
            "\t\tsave_json:\t\t\tTrue\n",
            "\t\tsave_savedmodel:\t\tFalse\n",
            "\t\tsave_h5:\t\t\tFalse\n",
            "\t\tcheckpoint_file:\t\tdrive/My Drive/Springboard/capstone/models/GRUB128-1x128-dr0-rdr0-batch128-lr01-glove_with_stop_nonlemmatized-sampling_none-1m-review_body-tf2-2-0-v1/checkpoints\n",
            "\t\tmodel_json_file:\t\tdrive/My Drive/Springboard/capstone/models/GRUB128-1x128-dr0-rdr0-batch128-lr01-glove_with_stop_nonlemmatized-sampling_none-1m-review_body-tf2-2-0-v1/GRUB128-1x128-dr0-rdr0-batch128-lr01-glove_with_stop_nonlemmatized-sampling_none-1m-review_body-tf2-2-0-v1-model.json\n",
            "\t\tweights_file:\t\t\tdrive/My Drive/Springboard/capstone/models/GRUB128-1x128-dr0-rdr0-batch128-lr01-glove_with_stop_nonlemmatized-sampling_none-1m-review_body-tf2-2-0-v1/GRUB128-1x128-dr0-rdr0-batch128-lr01-glove_with_stop_nonlemmatized-sampling_none-1m-review_body-tf2-2-0-v1-weights.h5\n",
            "\n",
            "\n",
            "EmbeddingModelWrapper parameters:\n",
            "\tvocab_size:\t\t\t116985\n",
            "\tembed_size:\t\t\t300\n",
            "\tmax_sequence_length:\t\t100\n",
            "\ttrain_embeddings:\t\tFalse\n",
            "\tembedding_matrix_shape:\t\t(116985, 300)\n",
            "\n",
            "GRU1LayerModelWrapper parameters:\n",
            "\tdimension:\t\t\t128\n",
            "\tbidirectional:\t\t\tFalse\n",
            "\tdropout_rate:\t\t\t0.0\n",
            "\trecurrent_dropout_rate:\t\t0.0\n",
            "\n",
            "Epoch 1/20\n",
            "4677/4677 [==============================] - 60s 13ms/step - loss: 1.0999 - categorical_accuracy: 0.6003 - val_loss: 0.9103 - val_categorical_accuracy: 0.6359 - lr: 0.0100\n",
            "Epoch 2/20\n",
            "4677/4677 [==============================] - 59s 13ms/step - loss: 1.0710 - categorical_accuracy: 0.6136 - val_loss: 0.9284 - val_categorical_accuracy: 0.6248 - lr: 0.0100\n",
            "Epoch 3/20\n",
            "4677/4677 [==============================] - 59s 13ms/step - loss: 1.0678 - categorical_accuracy: 0.6141 - val_loss: 0.9728 - val_categorical_accuracy: 0.5944 - lr: 0.0100\n",
            "Epoch 4/20\n",
            "4676/4677 [============================>.] - ETA: 0s - loss: 1.0636 - categorical_accuracy: 0.6171\n",
            "Epoch 00004: ReduceLROnPlateau reducing learning rate to 0.004999999888241291.\n",
            "4677/4677 [==============================] - 59s 13ms/step - loss: 1.0636 - categorical_accuracy: 0.6171 - val_loss: 0.9613 - val_categorical_accuracy: 0.6082 - lr: 0.0100\n",
            "Epoch 5/20\n",
            "4677/4677 [==============================] - 59s 13ms/step - loss: 1.0278 - categorical_accuracy: 0.6308 - val_loss: 0.8909 - val_categorical_accuracy: 0.6393 - lr: 0.0050\n",
            "Epoch 6/20\n",
            "4677/4677 [==============================] - 60s 13ms/step - loss: 1.0159 - categorical_accuracy: 0.6353 - val_loss: 0.8900 - val_categorical_accuracy: 0.6509 - lr: 0.0050\n",
            "Epoch 7/20\n",
            "4677/4677 [==============================] - 60s 13ms/step - loss: 1.0071 - categorical_accuracy: 0.6381 - val_loss: 0.9190 - val_categorical_accuracy: 0.6206 - lr: 0.0050\n",
            "Epoch 8/20\n",
            "4677/4677 [==============================] - 59s 13ms/step - loss: 1.0024 - categorical_accuracy: 0.6394 - val_loss: 0.9135 - val_categorical_accuracy: 0.6255 - lr: 0.0050\n",
            "Epoch 9/20\n",
            "4673/4677 [============================>.] - ETA: 0s - loss: 0.9976 - categorical_accuracy: 0.6414\n",
            "Epoch 00009: ReduceLROnPlateau reducing learning rate to 0.0024999999441206455.\n",
            "4677/4677 [==============================] - 59s 13ms/step - loss: 0.9976 - categorical_accuracy: 0.6414 - val_loss: 0.9212 - val_categorical_accuracy: 0.6227 - lr: 0.0050\n",
            "Epoch 10/20\n",
            "4677/4677 [==============================] - 59s 13ms/step - loss: 0.9757 - categorical_accuracy: 0.6493 - val_loss: 0.9130 - val_categorical_accuracy: 0.6192 - lr: 0.0025\n",
            "Epoch 11/20\n",
            "4677/4677 [==============================] - 60s 13ms/step - loss: 0.9660 - categorical_accuracy: 0.6522 - val_loss: 0.8562 - val_categorical_accuracy: 0.6546 - lr: 0.0025\n",
            "Epoch 12/20\n",
            "4677/4677 [==============================] - 59s 13ms/step - loss: 0.9597 - categorical_accuracy: 0.6537 - val_loss: 0.8932 - val_categorical_accuracy: 0.6281 - lr: 0.0025\n",
            "Epoch 13/20\n",
            "4677/4677 [==============================] - 60s 13ms/step - loss: 0.9539 - categorical_accuracy: 0.6559 - val_loss: 0.9018 - val_categorical_accuracy: 0.6311 - lr: 0.0025\n",
            "Epoch 14/20\n",
            "4675/4677 [============================>.] - ETA: 0s - loss: 0.9493 - categorical_accuracy: 0.6574\n",
            "Epoch 00014: ReduceLROnPlateau reducing learning rate to 0.0012499999720603228.\n",
            "4677/4677 [==============================] - 60s 13ms/step - loss: 0.9493 - categorical_accuracy: 0.6573 - val_loss: 0.9129 - val_categorical_accuracy: 0.6220 - lr: 0.0025\n",
            "Epoch 15/20\n",
            "4677/4677 [==============================] - 60s 13ms/step - loss: 0.9341 - categorical_accuracy: 0.6627 - val_loss: 0.8682 - val_categorical_accuracy: 0.6431 - lr: 0.0012\n",
            "Epoch 16/20\n",
            "4677/4677 [==============================] - 60s 13ms/step - loss: 0.9281 - categorical_accuracy: 0.6642 - val_loss: 0.8914 - val_categorical_accuracy: 0.6334 - lr: 0.0012\n",
            "Epoch 17/20\n",
            "4674/4677 [============================>.] - ETA: 0s - loss: 0.9236 - categorical_accuracy: 0.6661Restoring model weights from the end of the best epoch.\n",
            "\n",
            "Epoch 00017: ReduceLROnPlateau reducing learning rate to 0.0006249999860301614.\n",
            "4677/4677 [==============================] - 60s 13ms/step - loss: 0.9236 - categorical_accuracy: 0.6661 - val_loss: 0.8576 - val_categorical_accuracy: 0.6503 - lr: 0.0012\n",
            "Epoch 00017: early stopping\n",
            "Total training time: 17.03 mins\n"
          ],
          "name": "stdout"
        }
      ]
    },
    {
      "cell_type": "code",
      "metadata": {
        "id": "9ODVYfOYzZ-K",
        "colab_type": "code",
        "outputId": "2a9650ed-2aee-42ab-bac0-ad56adb2facc",
        "colab": {
          "base_uri": "https://localhost:8080/",
          "height": 460
        }
      },
      "source": [
        "scores = mw.evaluate(X_test, y_test)\n",
        "print(\"Training Accuracy: %.2f%%\" % (mw.train_scores[1]*100))\n",
        "print(\"Test Accuracy: %.2f%%\" % (mw.test_scores[1]*100))\n",
        "print(f'Training Score: {ru.calculate_metric(mw.train_crd)}')\n",
        "print(f'Test Score: {ru.calculate_metric(mw.test_crd)}')\n",
        "mw.save(append_report=True)"
      ],
      "execution_count": 10,
      "outputs": [
        {
          "output_type": "stream",
          "text": [
            "Number of test: 249421\n",
            "Running model.evaluate on test set...\n",
            "7795/7795 [==============================] - 35s 4ms/step - loss: 0.8563 - categorical_accuracy: 0.6553\n",
            "Running model.predict on test set...\n",
            "Unencode test set predictions...\n",
            "Generating test set confusion matrix...\n",
            "Calculating test set ROC AUC...\n",
            "(249421, 5)\n",
            "Getting test set classification report...\n",
            "Running model.evaluate on training set...\n",
            "23384/23384 [==============================] - 102s 4ms/step - loss: 0.8232 - categorical_accuracy: 0.6688\n",
            "Running model.predict on training set...\n",
            "Unencode training set predictions...\n",
            "Generating training set confusion matrix...\n",
            "Calculating training set ROC AUC...\n",
            "(748261, 5)\n",
            "Getting training set classification report...\n",
            "Training Accuracy: 66.88%\n",
            "Test Accuracy: 65.53%\n",
            "Training Score: 0.5531843800051008\n",
            "Test Score: 0.5244222402883483\n",
            "Saving to report file: drive/My Drive/Springboard/capstone/reports/GRUB128_dr0_rdr0_batch128_lr01-glove_with_stop_nonlemmatized-dl_prototype-report.csv\n",
            "Loading to append to: drive/My Drive/Springboard/capstone/reports/GRUB128_dr0_rdr0_batch128_lr01-glove_with_stop_nonlemmatized-dl_prototype-report.csv\n",
            "Saving report file...\n",
            "Saving json config file: drive/My Drive/Springboard/capstone/models/GRUB128-1x128-dr0-rdr0-batch128-lr01-glove_with_stop_nonlemmatized-sampling_none-1m-review_body-tf2-2-0-v1/GRUB128-1x128-dr0-rdr0-batch128-lr01-glove_with_stop_nonlemmatized-sampling_none-1m-review_body-tf2-2-0-v1-model.json\n",
            "Saving weights file: drive/My Drive/Springboard/capstone/models/GRUB128-1x128-dr0-rdr0-batch128-lr01-glove_with_stop_nonlemmatized-sampling_none-1m-review_body-tf2-2-0-v1/GRUB128-1x128-dr0-rdr0-batch128-lr01-glove_with_stop_nonlemmatized-sampling_none-1m-review_body-tf2-2-0-v1-weights.h5\n"
          ],
          "name": "stdout"
        }
      ]
    },
    {
      "cell_type": "code",
      "metadata": {
        "id": "2VHBrsPjJXiS",
        "colab_type": "code",
        "outputId": "486e1388-660c-4d56-8050-831a2ea386f3",
        "colab": {
          "base_uri": "https://localhost:8080/",
          "height": 1000
        }
      },
      "source": [
        "\n",
        "\n",
        "pu.plot_network_history(mw.network_history, \"categorical_accuracy\", \"val_categorical_accuracy\")\n",
        "plt.show()\n",
        "\n",
        "print(\"\\nConfusion Matrix\")\n",
        "print(mw.test_confusion_matrix)\n",
        "\n",
        "print(\"\\nClassification Report\")\n",
        "print(mw.test_classification_report)\n",
        "\n",
        "fig = plt.figure(figsize=(5,5))\n",
        "pu.plot_roc_auc(mw.model_name, mw.test_roc_auc, mw.test_fpr, mw.test_tpr)\n",
        "\n"
      ],
      "execution_count": 11,
      "outputs": [
        {
          "output_type": "display_data",
          "data": {
            "image/png": "[encoded data removed]",
            "text/plain": [
              "<Figure size 720x360 with 2 Axes>"
            ]
          },
          "metadata": {
            "tags": []
          }
        },
        {
          "output_type": "stream",
          "text": [
            "\n",
            "Confusion Matrix\n",
            "[[ 23165   8858   2069    333    594]\n",
            " [  4366   7547   3764    504    419]\n",
            " [  1675   5296  10466   3302   1532]\n",
            " [   702   1687   8389  16426  14431]\n",
            " [  1531   1622   5960  18943 105840]]\n",
            "\n",
            "Classification Report\n",
            "              precision    recall  f1-score   support\n",
            "\n",
            "           1       0.74      0.66      0.70     35019\n",
            "           2       0.30      0.45      0.36     16600\n",
            "           3       0.34      0.47      0.40     22271\n",
            "           4       0.42      0.39      0.40     41635\n",
            "           5       0.86      0.79      0.82    133896\n",
            "\n",
            "    accuracy                           0.66    249421\n",
            "   macro avg       0.53      0.55      0.54    249421\n",
            "weighted avg       0.69      0.66      0.67    249421\n",
            "\n"
          ],
          "name": "stdout"
        },
        {
          "output_type": "stream",
          "text": [
            "drive/My Drive/Springboard/capstone/util/plot_util.py:283: MatplotlibDeprecationWarning: The 'withdash' parameter of text() is deprecated since Matplotlib 3.1 and will be removed in 3.3.  If any parameter follows 'withdash', they should be pass as keyword, not positionally.\n",
            "  withdash=True)\n",
            "drive/My Drive/Springboard/capstone/util/plot_util.py:283: MatplotlibDeprecationWarning: \n",
            "The TextWithDash class was deprecated in Matplotlib 3.1 and will be removed in 3.3. Use Annotation instead.\n",
            "  withdash=True)\n",
            "drive/My Drive/Springboard/capstone/util/plot_util.py:287: MatplotlibDeprecationWarning: The 'withdash' parameter of text() is deprecated since Matplotlib 3.1 and will be removed in 3.3.  If any parameter follows 'withdash', they should be pass as keyword, not positionally.\n",
            "  withdash=True)\n",
            "drive/My Drive/Springboard/capstone/util/plot_util.py:287: MatplotlibDeprecationWarning: \n",
            "The TextWithDash class was deprecated in Matplotlib 3.1 and will be removed in 3.3. Use Annotation instead.\n",
            "  withdash=True)\n",
            "drive/My Drive/Springboard/capstone/util/plot_util.py:291: MatplotlibDeprecationWarning: The 'withdash' parameter of text() is deprecated since Matplotlib 3.1 and will be removed in 3.3.  If any parameter follows 'withdash', they should be pass as keyword, not positionally.\n",
            "  withdash=True)\n",
            "drive/My Drive/Springboard/capstone/util/plot_util.py:291: MatplotlibDeprecationWarning: \n",
            "The TextWithDash class was deprecated in Matplotlib 3.1 and will be removed in 3.3. Use Annotation instead.\n",
            "  withdash=True)\n"
          ],
          "name": "stderr"
        },
        {
          "output_type": "display_data",
          "data": {
            "image/png": "[encoded data removed]",
            "text/plain": [
              "<Figure size 360x360 with 1 Axes>"
            ]
          },
          "metadata": {
            "tags": []
          }
        }
      ]
    },
    {
      "cell_type": "code",
      "metadata": {
        "id": "Al3bCFrI1P5m",
        "colab_type": "code",
        "colab": {}
      },
      "source": [
        ""
      ],
      "execution_count": 0,
      "outputs": []
    },
    {
      "cell_type": "markdown",
      "metadata": {
        "id": "jyLHNyTcfvHp",
        "colab_type": "text"
      },
      "source": [
        "# Test That Our Models Saved Correctly"
      ]
    },
    {
      "cell_type": "code",
      "metadata": {
        "id": "aOF5a51SfyqM",
        "colab_type": "code",
        "colab": {}
      },
      "source": [
        "# from tensorflow.keras.models import load_model\n",
        "\n",
        "# model_loaded = load_model(mw.model_file)\n",
        "# scores = model_loaded.evaluate(X_test, y_test, verbose=1)\n",
        "# print(\"Accuracy: %.2f%%\" % (scores[1]*100))\n",
        "\n",
        "# # this takes too long for real models\n",
        "# if DEBUG == True:\n",
        "#   y_predict = model_loaded.predict(X_test)\n",
        "#   y_predict_unencoded = ku.unencode(y_predict)\n",
        "#   y_test_unencoded = ku.unencode(y_test)\n",
        "\n",
        "#   # classification report\n",
        "#   print(classification_report(y_test_unencoded, y_predict_unencoded))\n",
        "\n",
        "#   # confusion matrix\n",
        "#   print(confusion_matrix(y_test_unencoded, y_predict_unencoded))\n"
      ],
      "execution_count": 0,
      "outputs": []
    },
    {
      "cell_type": "code",
      "metadata": {
        "id": "96A-A5CBJXiy",
        "colab_type": "code",
        "outputId": "4cff9ea7-9af2-4af8-cfb0-e40e2f75c66e",
        "colab": {
          "base_uri": "https://localhost:8080/",
          "height": 866
        }
      },
      "source": [
        "end_time = datetime.now()\n",
        "print(f\"Model:\\n{mw}\")\n",
        "print(f\"Start Time: {start_time}\")\n",
        "print(f\"End Time: {end_time}\")\n",
        "print(f\"Total Duraction {round((end_time - start_time).total_seconds() / 60, 2)} mins\")"
      ],
      "execution_count": 13,
      "outputs": [
        {
          "output_type": "stream",
          "text": [
            "Model:\n",
            "\n",
            "ModelWrapper parameters:\n",
            "\ttf_version:\t\t\t2.2.0\n",
            "\tmodel_name:\t\t\tGRUB128\n",
            "\tdescription:\t\t\t1 Layer 128 GRU Units, Dropout 0.0, Recurrent Dropout 0.0, Batch Size 128, Learning Rate 0.01\n",
            "\tarchitecture:\t\t\t1x128\n",
            "\tfeature_set_name:\t\tglove_with_stop_nonlemmatized\n",
            "\tlabel_column:\t\t\tstar_rating\n",
            "\tfeature_column:\t\t\treview_body\n",
            "\tdata_file:\t\t\tdrive/My Drive/Springboard/capstone/data/amazon_reviews_us_Wireless_v1_00-1m-with_stop_nonlemmatized-preprocessed.csv\n",
            "\tbatch_size:\t\t\t128\n",
            "\tsample_size:\t\t\t1m\n",
            "\tsampling_type:\t\t\tnone\n",
            "\ttokenizer:\t\t\t<keras_preprocessing.text.Tokenizer object at 0x7f8c4bf4d160>\n",
            "\tsave_weights:\t\t\tTrue\n",
            "\toptimizer:\t\t\tAdam\n",
            "\tlearning_rate:\t\t\t0.01\n",
            "\tversion:\t\t\t1\n",
            "\tsave_dir:\t\t\tdrive/My Drive/Springboard/capstone\n",
            "\tload_model_file:\t\t\tNone\n",
            "\n",
            "\tReport Output:\n",
            "\t\treport_file:\t\t\tdrive/My Drive/Springboard/capstone/reports/GRUB128_dr0_rdr0_batch128_lr01-glove_with_stop_nonlemmatized-dl_prototype-report.csv\n",
            "\n",
            "\tModel Output:\n",
            "\t\ttokenizer_file:\t\t\tdrive/My Drive/Springboard/capstone/models/GRUB128-1x128-dr0-rdr0-batch128-lr01-glove_with_stop_nonlemmatized-sampling_none-1m-review_body-tf2-2-0-v1/GRUB128-1x128-dr0-rdr0-batch128-lr01-glove_with_stop_nonlemmatized-sampling_none-1m-review_body-tf2-2-0-v1-tokenizer.pkl\n",
            "\t\tsave_json:\t\t\tTrue\n",
            "\t\tsave_savedmodel:\t\tFalse\n",
            "\t\tsave_h5:\t\t\tFalse\n",
            "\t\tcheckpoint_file:\t\tdrive/My Drive/Springboard/capstone/models/GRUB128-1x128-dr0-rdr0-batch128-lr01-glove_with_stop_nonlemmatized-sampling_none-1m-review_body-tf2-2-0-v1/checkpoints\n",
            "\t\tmodel_json_file:\t\tdrive/My Drive/Springboard/capstone/models/GRUB128-1x128-dr0-rdr0-batch128-lr01-glove_with_stop_nonlemmatized-sampling_none-1m-review_body-tf2-2-0-v1/GRUB128-1x128-dr0-rdr0-batch128-lr01-glove_with_stop_nonlemmatized-sampling_none-1m-review_body-tf2-2-0-v1-model.json\n",
            "\t\tweights_file:\t\t\tdrive/My Drive/Springboard/capstone/models/GRUB128-1x128-dr0-rdr0-batch128-lr01-glove_with_stop_nonlemmatized-sampling_none-1m-review_body-tf2-2-0-v1/GRUB128-1x128-dr0-rdr0-batch128-lr01-glove_with_stop_nonlemmatized-sampling_none-1m-review_body-tf2-2-0-v1-weights.h5\n",
            "\n",
            "\n",
            "EmbeddingModelWrapper parameters:\n",
            "\tvocab_size:\t\t\t116985\n",
            "\tembed_size:\t\t\t300\n",
            "\tmax_sequence_length:\t\t100\n",
            "\ttrain_embeddings:\t\tFalse\n",
            "\tembedding_matrix_shape:\t\t(116985, 300)\n",
            "\n",
            "GRU1LayerModelWrapper parameters:\n",
            "\tdimension:\t\t\t128\n",
            "\tbidirectional:\t\t\tFalse\n",
            "\tdropout_rate:\t\t\t0.0\n",
            "\trecurrent_dropout_rate:\t\t0.0\n",
            "\n",
            "Start Time: 2020-05-29 07:53:08.256684\n",
            "End Time: 2020-05-29 08:20:50.328850\n",
            "Total Duraction 27.7 mins\n"
          ],
          "name": "stdout"
        }
      ]
    },
    {
      "cell_type": "code",
      "metadata": {
        "id": "qPbmc8qe-ja_",
        "colab_type": "code",
        "colab": {}
      },
      "source": [
        ""
      ],
      "execution_count": 0,
      "outputs": []
    }
  ]
}