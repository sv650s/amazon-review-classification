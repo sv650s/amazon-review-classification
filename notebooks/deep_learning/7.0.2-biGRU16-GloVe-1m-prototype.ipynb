{
  "nbformat": 4,
  "nbformat_minor": 0,
  "metadata": {
    "colab": {
      "name": "7.0.2-biGRU16-GloVe-1m-prototype.ipynb",
      "provenance": [],
      "collapsed_sections": [],
      "include_colab_link": true
    },
    "language_info": {
      "codemirror_mode": {
        "name": "ipython",
        "version": 3
      },
      "file_extension": ".py",
      "mimetype": "text/x-python",
      "name": "python",
      "nbconvert_exporter": "python",
      "pygments_lexer": "ipython3",
      "version": "3.7.3"
    },
    "kernelspec": {
      "name": "python3",
      "display_name": "Python 3"
    },
    "accelerator": "GPU"
  },
  "cells": [
    {
      "cell_type": "markdown",
      "metadata": {
        "id": "view-in-github",
        "colab_type": "text"
      },
      "source": [
        "<a href=\"https://colab.research.google.com/github/sv650s/amazon-review-classification/blob/master/notebooks/deep_learning/7.0.2-biGRU16-GloVe-1m-prototype.ipynb\" target=\"_parent\"><img src=\"https://colab.research.google.com/assets/colab-badge.svg\" alt=\"Open In Colab\"/></a>"
      ]
    },
    {
      "cell_type": "markdown",
      "metadata": {
        "id": "W7_sb1roJXhx",
        "colab_type": "text"
      },
      "source": [
        "# Pre-trained embedding using GRU\n",
        "\n",
        "In this notebook, we will train a biGRU network with 1 million samples.\n",
        "\n",
        "Architecture is the same as previous notebook:\n",
        "\n",
        "* Embedding: GloVe\n",
        "* Class Weights: balanced\n",
        "* Bidirectional GRU Units: 16\n",
        "* Dropout: None\n",
        "\n",
        "# Result\n",
        "\n",
        "Our score: 0.29134436633997374\n",
        "\n",
        "Slightly down from GRU score with 500k entries: 0.29524863768924137\n",
        "\n",
        "\n",
        "\n"
      ]
    },
    {
      "cell_type": "code",
      "metadata": {
        "id": "pF_xRedK9O1Q",
        "colab_type": "code",
        "outputId": "b112741c-322b-403a-b64c-d6e145ac35af",
        "colab": {
          "base_uri": "https://localhost:8080/",
          "height": 156
        }
      },
      "source": [
        "from google.colab import drive\n",
        "drive.mount('/content/drive')\n",
        "\n",
        "import sys\n",
        "DRIVE_DIR = \"drive/My Drive/Springboard/capstone\"\n",
        "sys.path.append(DRIVE_DIR)\n",
        "\n",
        "\n",
        "%tensorflow_version 2.x\n",
        "\n",
        "\n",
        "import tensorflow as tf\n",
        "# checl to make sure we are using GPU here\n",
        "tf.test.gpu_device_name()"
      ],
      "execution_count": 1,
      "outputs": [
        {
          "output_type": "stream",
          "text": [
            "Go to this URL in a browser: https://accounts.google.com/o/oauth2/auth?client_id=947318989803-6bn6qk8qdgf4n4g3pfee6491hc0brc4i.apps.googleusercontent.com&redirect_uri=urn%3aietf%3awg%3aoauth%3a2.0%3aoob&response_type=code&scope=email%20https%3a%2f%2fwww.googleapis.com%2fauth%2fdocs.test%20https%3a%2f%2fwww.googleapis.com%2fauth%2fdrive%20https%3a%2f%2fwww.googleapis.com%2fauth%2fdrive.photos.readonly%20https%3a%2f%2fwww.googleapis.com%2fauth%2fpeopleapi.readonly\n",
            "\n",
            "Enter your authorization code:\n",
            "··········\n",
            "Mounted at /content/drive\n",
            "TensorFlow 2.x selected.\n"
          ],
          "name": "stdout"
        },
        {
          "output_type": "execute_result",
          "data": {
            "text/plain": [
              "'/device:GPU:0'"
            ]
          },
          "metadata": {
            "tags": []
          },
          "execution_count": 1
        }
      ]
    },
    {
      "cell_type": "code",
      "metadata": {
        "id": "pAHGtniuJXhy",
        "colab_type": "code",
        "colab": {}
      },
      "source": [
        "from __future__ import absolute_import, division, print_function, unicode_literals\n",
        "\n",
        "\n",
        "from tensorflow.keras.models import Sequential\n",
        "from tensorflow.keras.layers import Dense, Activation, Dropout\n",
        "from tensorflow.keras.layers import BatchNormalization\n",
        "from tensorflow.keras.callbacks import EarlyStopping, ReduceLROnPlateau\n",
        "from tensorflow.keras.models import load_model\n",
        "from tensorflow.keras.optimizers import SGD\n",
        "from tensorflow.keras.layers import Conv1D, MaxPooling1D, Embedding, \\\n",
        "    SpatialDropout1D, Flatten, LSTM, GRU, Bidirectional\n",
        "from tensorflow.keras.preprocessing.text import Tokenizer\n",
        "from tensorflow.keras.preprocessing import sequence\n",
        "from tensorflow.keras.utils import model_to_dot\n",
        "from tensorflow.keras.initializers import Constant\n",
        "\n",
        "\n",
        "from sklearn.model_selection import train_test_split\n",
        "from sklearn.preprocessing import OneHotEncoder\n",
        "from sklearn.preprocessing import LabelEncoder\n",
        "from sklearn.metrics import confusion_matrix, classification_report\n",
        "from sklearn.utils.class_weight import compute_class_weight\n",
        "\n",
        "\n",
        "import pandas as pd\n",
        "import numpy as np\n",
        "from IPython.display import SVG\n",
        "import pickle\n",
        "from datetime import datetime\n",
        "import matplotlib.pyplot as plt\n",
        "import seaborn as sns\n",
        "import os\n",
        "import logging\n",
        "\n",
        "\n",
        "import util.dict_util as du\n",
        "import util.plot_util as pu\n",
        "import util.file_util as fu\n",
        "import util.keras_util as ku\n",
        "import util.report_util as ru\n",
        "\n",
        "import random\n",
        "\n",
        "# fix random seeds\n",
        "tf.compat.v1.reset_default_graph()\n",
        "tf.compat.v1.set_random_seed(1)\n",
        "random.seed(1)\n",
        "np.random.seed(1)\n",
        "\n",
        "logging.basicConfig(level=logging.ERROR)\n",
        "\n",
        "%matplotlib inline\n",
        "sns.set()\n",
        "\n",
        "\n",
        "DATE_FORMAT = '%Y-%m-%d'\n",
        "TIME_FORMAT = '%Y-%m-%d %H:%M:%S'\n",
        "LABEL_COLUMN = \"star_rating\"\n",
        "REVIEW_COLUMN = \"review_body\"\n",
        "\n",
        "\n",
        "DEBUG = False\n",
        "\n",
        "\n",
        "GRU_DIM = 16 # total LSTM units\n",
        "MODEL_NAME = f\"biGRU{GRU_DIM}\"\n",
        "ARCHITECTURE = f\"1x{GRU_DIM}\"\n",
        "DESCRIPTION = f\"1 Layer {GRU_DIM} GRU Units, No Dropout, GloVe Embedding, Balanced Weights\"\n",
        "FEATURE_SET_NAME = \"glove\"\n",
        "PATIENCE = 4\n",
        "\n",
        "SAMPLES = \"1m\"\n",
        "\n",
        "if DEBUG:\n",
        "  DATA_FILE = f'{DRIVE_DIR}/data/amazon_reviews_us_Wireless_v1_00-test-preprocessed.csv'\n",
        "  MODEL_NAME = f'test-{MODEL_NAME}'\n",
        "  MISSING_WORDS_FILE = f'{DRIVE_DIR}/reports/glove_embedding-missing_words-test.csv'\n",
        "  ku.ModelWrapper.set_report_filename('test-dl_prototype-report.csv')\n",
        "else:\n",
        "  DATA_FILE = f\"{DRIVE_DIR}/data/amazon_reviews_us_Wireless_v1_00-{SAMPLES}-preprocessed.csv\"\n",
        "  MISSING_WORDS_FILE = f'{DRIVE_DIR}/reports/glove_embedding-missing_words-{SAMPLES}.csv'\n",
        "  ku.ModelWrapper.set_report_filename('glove_embedding-dl_prototype-report.csv')\n",
        "\n",
        "\n",
        "EMBEDDING_FILE = f'{DRIVE_DIR}/data/embeddings/glove.840B.300d.txt'\n",
        "\n",
        "# first layer filter\n",
        "FILTER1 = 32\n",
        "# Network Settings\n",
        "KERNEL_SIZE=3\n",
        "\n",
        "\n",
        "\n",
        "# length of our embedding - 300 is standard\n",
        "EMBED_SIZE = 300\n",
        "EPOCHS  = 50\n",
        "BATCH_SIZE = 128\n",
        "\n",
        "# From EDA, we know that 90% of review bodies have 100 words or less, \n",
        "# we will use this as our sequence length\n",
        "MAX_SEQUENCE_LENGTH = 100\n",
        "\n",
        "\n"
      ],
      "execution_count": 0,
      "outputs": []
    },
    {
      "cell_type": "code",
      "metadata": {
        "hide_input": false,
        "id": "k6fwJp9OJXh5",
        "colab_type": "code",
        "colab": {}
      },
      "source": [
        "df = pd.read_csv(DATA_FILE)\n",
        "\n",
        "rating = df[LABEL_COLUMN]\n",
        "reviews = df[REVIEW_COLUMN]"
      ],
      "execution_count": 0,
      "outputs": []
    },
    {
      "cell_type": "code",
      "metadata": {
        "id": "GKdUpCsshGk8",
        "colab_type": "code",
        "colab": {}
      },
      "source": [
        ""
      ],
      "execution_count": 0,
      "outputs": []
    },
    {
      "cell_type": "code",
      "metadata": {
        "id": "rMdM2TS7hGgc",
        "colab_type": "code",
        "colab": {}
      },
      "source": [
        ""
      ],
      "execution_count": 0,
      "outputs": []
    },
    {
      "cell_type": "code",
      "metadata": {
        "id": "kHMW5sNShGce",
        "colab_type": "code",
        "colab": {}
      },
      "source": [
        ""
      ],
      "execution_count": 0,
      "outputs": []
    },
    {
      "cell_type": "code",
      "metadata": {
        "id": "HvcwW1AmhGNU",
        "colab_type": "code",
        "colab": {}
      },
      "source": [
        ""
      ],
      "execution_count": 0,
      "outputs": []
    },
    {
      "cell_type": "markdown",
      "metadata": {
        "id": "EBQR0ZpoOiQk",
        "colab_type": "text"
      },
      "source": [
        "# Preprocessing"
      ]
    },
    {
      "cell_type": "code",
      "metadata": {
        "id": "_g2Wm80MCgGZ",
        "colab_type": "code",
        "colab": {}
      },
      "source": [
        ""
      ],
      "execution_count": 0,
      "outputs": []
    },
    {
      "cell_type": "code",
      "metadata": {
        "id": "lytdvF4neJ4r",
        "colab_type": "code",
        "outputId": "464003a1-3012-4bdb-d850-fc5ec9333cc4",
        "colab": {
          "base_uri": "https://localhost:8080/",
          "height": 68
        }
      },
      "source": [
        "\n",
        "\n",
        "# pre-process our lables\n",
        "# one hot encode our star ratings since Keras/TF requires this for the labels\n",
        "y = OneHotEncoder().fit_transform(rating.values.reshape(len(rating), 1)).toarray()\n",
        "\n",
        "\n",
        "# split our data into train and test sets\n",
        "reviews_train, reviews_test, y_train, y_test = train_test_split(reviews, y, random_state=1)\n",
        "\n",
        "\n",
        "# Pre-process our features (review body)\n",
        "t = Tokenizer(oov_token=\"<UNK>\")\n",
        "# fit the tokenizer on the documents\n",
        "t.fit_on_texts(reviews_train)\n",
        "# tokenize both our training and test data\n",
        "train_sequences = t.texts_to_sequences(reviews_train)\n",
        "test_sequences = t.texts_to_sequences(reviews_test)\n",
        "\n",
        "print(\"Vocabulary size={}\".format(len(t.word_counts)))\n",
        "print(\"Number of Documents={}\".format(t.document_count))\n",
        "\n",
        "\n",
        "# pad our reviews to the max sequence length\n",
        "X_train = sequence.pad_sequences(train_sequences, maxlen=MAX_SEQUENCE_LENGTH)\n",
        "X_test = sequence.pad_sequences(test_sequences, maxlen=MAX_SEQUENCE_LENGTH)\n",
        "\n",
        "print('Train review vectors shape:', X_train.shape, ' Test review vectors shape:', X_test.shape)\n"
      ],
      "execution_count": 4,
      "outputs": [
        {
          "output_type": "stream",
          "text": [
            "Vocabulary size=109547\n",
            "Number of Documents=746766\n",
            "Train review vectors shape: (746766, 100)  Test review vectors shape: (248922, 100)\n"
          ],
          "name": "stdout"
        }
      ]
    },
    {
      "cell_type": "markdown",
      "metadata": {
        "id": "TgorpmIPnQH9",
        "colab_type": "text"
      },
      "source": [
        "## Load our pre-trained embedding\n",
        "\n",
        "embeddings_index will be a map where key == word, value == the embedding vector"
      ]
    },
    {
      "cell_type": "code",
      "metadata": {
        "id": "5j7D7LLinP0r",
        "colab_type": "code",
        "outputId": "d215a7b0-549b-457e-a51d-d7f39b5fe86b",
        "colab": {
          "base_uri": "https://localhost:8080/",
          "height": 68
        }
      },
      "source": [
        "print('Indexing word vectors.')\n",
        "\n",
        "embeddings_index = {}\n",
        "with open(EMBEDDING_FILE) as f:\n",
        "    print(f'Opened file: {EMBEDDING_FILE}')\n",
        "    for line in f:\n",
        "        word, coefs = line.split(maxsplit=1)\n",
        "        coefs = np.fromstring(coefs, 'f', sep=' ')\n",
        "        embeddings_index[word] = coefs\n",
        "\n",
        "print('Found %s word vectors.' % len(embeddings_index))"
      ],
      "execution_count": 5,
      "outputs": [
        {
          "output_type": "stream",
          "text": [
            "Indexing word vectors.\n",
            "Opened file: drive/My Drive/Springboard/capstone/data/embeddings/glove.840B.300d.txt\n",
            "Found 2195884 word vectors.\n"
          ],
          "name": "stdout"
        }
      ]
    },
    {
      "cell_type": "code",
      "metadata": {
        "id": "pchOfR6qnPxB",
        "colab_type": "code",
        "colab": {}
      },
      "source": [
        ""
      ],
      "execution_count": 0,
      "outputs": []
    },
    {
      "cell_type": "code",
      "metadata": {
        "id": "G7L7HL6EnPtA",
        "colab_type": "code",
        "colab": {}
      },
      "source": [
        ""
      ],
      "execution_count": 0,
      "outputs": []
    },
    {
      "cell_type": "markdown",
      "metadata": {
        "id": "rYvqmy4xmQWD",
        "colab_type": "text"
      },
      "source": [
        "## Create Embedding Matrix based on our tokenizer\n",
        "\n",
        "For every word in our vocabulary, we will look up the embedding vector and add the it to our embedding matrix\n",
        "\n",
        "The matrix will be passed in as weights in our embedding layer later\n",
        "\n",
        "If there is word that does not exist in the pre-trained embedding vocabulary, we will leave the weights as 0 vector and save off the word into a CSV file later for analysis"
      ]
    },
    {
      "cell_type": "code",
      "metadata": {
        "id": "bIrMqj-HmPwk",
        "colab_type": "code",
        "colab": {
          "base_uri": "https://localhost:8080/",
          "height": 68
        },
        "outputId": "c636804a-7520-4991-d898-95e8b3a77026"
      },
      "source": [
        "# this is a map with key == word, value == index in the vocabulary\n",
        "word_index = t.word_index\n",
        "print(f'word_index length: {len(word_index)}')\n",
        "\n",
        "# we are going to use the entire vocab so we can alter this from the example\n",
        "# num_words = min(MAX_NUM_WORDS, len(word_index) + 1)\n",
        "\n",
        "# start with a matrix of 0's\n",
        "embedding_matrix = np.zeros((len(word_index) + 1, EMBED_SIZE))\n",
        "\n",
        "# if a word doesn't exist in our vocabulary, let's save it off\n",
        "missing_words = []\n",
        "print(f'embedding_matrix shape: {np.shape(embedding_matrix)}')\n",
        "for word, i in word_index.items():\n",
        "    # print(f'word: {word} i: {i}')\n",
        "    embedding_vector = embeddings_index.get(word)\n",
        "    if embedding_vector is not None and np.shape(embedding_vector)[0] == EMBED_SIZE:\n",
        "        # words not found in embedding index will be all-zeros.\n",
        "        # print(f'i: {i} embedding_vector shape: {np.shape(embedding_vector)}')\n",
        "        embedding_matrix[i] = embedding_vector\n",
        "    else:\n",
        "      missing_words.append(word)\n",
        "\n",
        "print(f'Number of missing words from our vocabulary: {len(missing_words)}')\n",
        "\n"
      ],
      "execution_count": 6,
      "outputs": [
        {
          "output_type": "stream",
          "text": [
            "word_index length: 109548\n",
            "embedding_matrix shape: (109549, 300)\n",
            "Number of missing words from our vocabulary: 47120\n"
          ],
          "name": "stdout"
        }
      ]
    },
    {
      "cell_type": "markdown",
      "metadata": {
        "id": "TIw5aJS8trK-",
        "colab_type": "text"
      },
      "source": [
        "Save off our missing words into a csv file so we can analyze this later"
      ]
    },
    {
      "cell_type": "code",
      "metadata": {
        "id": "XN1Vr2oSto2f",
        "colab_type": "code",
        "colab": {}
      },
      "source": [
        "# save missing words into a file so we can analyze it later\n",
        "missing_words_df = pd.DataFrame(missing_words)\n",
        "missing_words_df.to_csv(MISSING_WORDS_FILE, index=False)"
      ],
      "execution_count": 0,
      "outputs": []
    },
    {
      "cell_type": "markdown",
      "metadata": {
        "id": "6hWLBCjqucDJ",
        "colab_type": "text"
      },
      "source": [
        "**Build LSTM Model Architecture**"
      ]
    },
    {
      "cell_type": "code",
      "metadata": {
        "id": "653DtCuBJXiF",
        "colab_type": "code",
        "colab": {}
      },
      "source": [
        "vocab_size = len(t.word_index)+1\n",
        "\n",
        "# building our network\n",
        "model = Sequential()\n",
        "# load pre-trained word embeddings into an Embedding layer\n",
        "# note that we set trainable = False so as to keep the embeddings fixed\n",
        "model.add(Embedding(input_dim=vocab_size,\n",
        "                            output_dim=EMBED_SIZE,\n",
        "                            embeddings_initializer=Constant(embedding_matrix),\n",
        "                            input_length=MAX_SEQUENCE_LENGTH,\n",
        "                            trainable=False))\n",
        "model.add(Bidirectional(GRU(units=GRU_DIM)))\n",
        "model.add(Dense(5, activation=\"softmax\"))\n",
        "\n",
        "model.compile(loss=\"categorical_crossentropy\", optimizer=\"adam\",\n",
        "              metrics=[\"categorical_accuracy\"])\n"
      ],
      "execution_count": 0,
      "outputs": []
    },
    {
      "cell_type": "code",
      "metadata": {
        "id": "iZitdxXPJXiI",
        "colab_type": "code",
        "colab": {
          "base_uri": "https://localhost:8080/",
          "height": 272
        },
        "outputId": "eea5811f-32aa-46b9-a840-2e54500bb426"
      },
      "source": [
        "print(model.summary())"
      ],
      "execution_count": 9,
      "outputs": [
        {
          "output_type": "stream",
          "text": [
            "Model: \"sequential\"\n",
            "_________________________________________________________________\n",
            "Layer (type)                 Output Shape              Param #   \n",
            "=================================================================\n",
            "embedding (Embedding)        (None, 100, 300)          32864700  \n",
            "_________________________________________________________________\n",
            "bidirectional (Bidirectional (None, 32)                30528     \n",
            "_________________________________________________________________\n",
            "dense (Dense)                (None, 5)                 165       \n",
            "=================================================================\n",
            "Total params: 32,895,393\n",
            "Trainable params: 30,693\n",
            "Non-trainable params: 32,864,700\n",
            "_________________________________________________________________\n",
            "None\n"
          ],
          "name": "stdout"
        }
      ]
    },
    {
      "cell_type": "code",
      "metadata": {
        "scrolled": false,
        "id": "60eC_0fRJXiQ",
        "colab_type": "code",
        "colab": {
          "base_uri": "https://localhost:8080/",
          "height": 697
        },
        "outputId": "2ef4b8db-1eba-43da-9dca-1b57564eb6d4"
      },
      "source": [
        "\n",
        "# reduce learning rate if we sense a plateau\n",
        "reduce_lr = ReduceLROnPlateau(monitor='val_loss', \n",
        "                              patience=2,\n",
        "                              restore_best_weights=True)\n",
        "\n",
        "early_stop = EarlyStopping(monitor='val_loss', patience=PATIENCE, verbose=1)\n",
        "\n",
        "weights = compute_class_weight('balanced', np.arange(1, 6), rating)\n",
        "print(f'class weights: {weights}')\n",
        "\n",
        "\n",
        "mw = ku.ModelWrapper(model, \n",
        "                     MODEL_NAME, \n",
        "                     ARCHITECTURE,\n",
        "                     FEATURE_SET_NAME,\n",
        "                     LABEL_COLUMN, \n",
        "                     DATA_FILE, \n",
        "                     embed_size=EMBED_SIZE,\n",
        "                     tokenizer=t,\n",
        "                     description=DESCRIPTION)\n",
        "\n",
        "network_history = mw.fit(X_train, y_train,\n",
        "                      batch_size=BATCH_SIZE,\n",
        "                      epochs=EPOCHS,\n",
        "                      verbose=1,\n",
        "                      validation_split=0.2,\n",
        "                      class_weight=weights,\n",
        "                      callbacks=[early_stop, reduce_lr])"
      ],
      "execution_count": 10,
      "outputs": [
        {
          "output_type": "stream",
          "text": [
            "class weights: [1.42284845 3.02709736 2.2103805  1.20013018 0.37296994]\n",
            "Number of training examples: 746766\n",
            "Train on 597412 samples, validate on 149354 samples\n",
            "Epoch 1/50\n",
            "597412/597412 [==============================] - 82s 137us/sample - loss: 0.8552 - categorical_accuracy: 0.6685 - val_loss: 0.7943 - val_categorical_accuracy: 0.6896\n",
            "Epoch 2/50\n",
            "597412/597412 [==============================] - 72s 121us/sample - loss: 0.7854 - categorical_accuracy: 0.6927 - val_loss: 0.7804 - val_categorical_accuracy: 0.6947\n",
            "Epoch 3/50\n",
            "597412/597412 [==============================] - 73s 121us/sample - loss: 0.7722 - categorical_accuracy: 0.6974 - val_loss: 0.7731 - val_categorical_accuracy: 0.6974\n",
            "Epoch 4/50\n",
            "597412/597412 [==============================] - 72s 120us/sample - loss: 0.7640 - categorical_accuracy: 0.7007 - val_loss: 0.7680 - val_categorical_accuracy: 0.6994\n",
            "Epoch 5/50\n",
            "597412/597412 [==============================] - 72s 120us/sample - loss: 0.7579 - categorical_accuracy: 0.7034 - val_loss: 0.7676 - val_categorical_accuracy: 0.6991\n",
            "Epoch 6/50\n",
            "597412/597412 [==============================] - 72s 120us/sample - loss: 0.7527 - categorical_accuracy: 0.7053 - val_loss: 0.7640 - val_categorical_accuracy: 0.7009\n",
            "Epoch 7/50\n",
            "597412/597412 [==============================] - 71s 119us/sample - loss: 0.7480 - categorical_accuracy: 0.7073 - val_loss: 0.7643 - val_categorical_accuracy: 0.7016\n",
            "Epoch 8/50\n",
            "597412/597412 [==============================] - 71s 120us/sample - loss: 0.7446 - categorical_accuracy: 0.7090 - val_loss: 0.7611 - val_categorical_accuracy: 0.7029\n",
            "Epoch 9/50\n",
            "597412/597412 [==============================] - 72s 120us/sample - loss: 0.7413 - categorical_accuracy: 0.7100 - val_loss: 0.7630 - val_categorical_accuracy: 0.7033\n",
            "Epoch 10/50\n",
            "597412/597412 [==============================] - 72s 121us/sample - loss: 0.7384 - categorical_accuracy: 0.7111 - val_loss: 0.7630 - val_categorical_accuracy: 0.7024\n",
            "Epoch 11/50\n",
            "597412/597412 [==============================] - 72s 121us/sample - loss: 0.7263 - categorical_accuracy: 0.7165 - val_loss: 0.7584 - val_categorical_accuracy: 0.7046\n",
            "Epoch 12/50\n",
            "597412/597412 [==============================] - 73s 122us/sample - loss: 0.7245 - categorical_accuracy: 0.7171 - val_loss: 0.7585 - val_categorical_accuracy: 0.7041\n",
            "Epoch 13/50\n",
            "597412/597412 [==============================] - 72s 121us/sample - loss: 0.7238 - categorical_accuracy: 0.7173 - val_loss: 0.7587 - val_categorical_accuracy: 0.7042\n",
            "Epoch 14/50\n",
            "597412/597412 [==============================] - 71s 119us/sample - loss: 0.7220 - categorical_accuracy: 0.7177 - val_loss: 0.7583 - val_categorical_accuracy: 0.7044\n",
            "Epoch 15/50\n",
            "597412/597412 [==============================] - 71s 119us/sample - loss: 0.7218 - categorical_accuracy: 0.7179 - val_loss: 0.7584 - val_categorical_accuracy: 0.7043\n",
            "Epoch 16/50\n",
            "597412/597412 [==============================] - 72s 121us/sample - loss: 0.7217 - categorical_accuracy: 0.7180 - val_loss: 0.7584 - val_categorical_accuracy: 0.7044\n",
            "Epoch 17/50\n",
            "597412/597412 [==============================] - 72s 120us/sample - loss: 0.7215 - categorical_accuracy: 0.7181 - val_loss: 0.7584 - val_categorical_accuracy: 0.7042\n",
            "Epoch 18/50\n",
            "597412/597412 [==============================] - 73s 122us/sample - loss: 0.7215 - categorical_accuracy: 0.7180 - val_loss: 0.7584 - val_categorical_accuracy: 0.7042\n",
            "Epoch 00018: early stopping\n"
          ],
          "name": "stdout"
        }
      ]
    },
    {
      "cell_type": "code",
      "metadata": {
        "id": "2VHBrsPjJXiS",
        "colab_type": "code",
        "colab": {
          "base_uri": "https://localhost:8080/",
          "height": 1000
        },
        "outputId": "63b6c48c-9434-452e-c021-a220cdebc5f9"
      },
      "source": [
        "\n",
        "scores = mw.evaluate(X_test, y_test)\n",
        "print(\"Accuracy: %.2f%%\" % (mw.scores[1]*100))\n",
        "\n",
        "pu.plot_network_history(mw.network_history, \"categorical_accuracy\", \"val_categorical_accuracy\")\n",
        "plt.show()\n",
        "\n",
        "print(\"\\nConfusion Matrix\")\n",
        "print(mw.confusion_matrix)\n",
        "\n",
        "print(\"\\nClassification Report\")\n",
        "print(mw.classification_report)\n",
        "\n",
        "fig = plt.figure(figsize=(5,5))\n",
        "pu.plot_roc_auc(mw.model_name, mw.roc_auc, mw.fpr, mw.tpr)\n",
        "\n"
      ],
      "execution_count": 11,
      "outputs": [
        {
          "output_type": "stream",
          "text": [
            "Number of test: 248922\n",
            "Running model.evaluate...\n",
            "248922/248922 [==============================] - 52s 208us/sample - loss: 0.7566 - categorical_accuracy: 0.7043\n",
            "Running model.predict...\n",
            "Unencode predictions...\n",
            "Generating confusion matrix...\n",
            "Calculating ROC AUC...\n",
            "(248922, 5)\n",
            "Getting classification report...\n",
            "Accuracy: 70.43%\n"
          ],
          "name": "stdout"
        },
        {
          "output_type": "display_data",
          "data": {
            "image/png": "[encoded data removed]",
            "text/plain": [
              "<Figure size 720x360 with 2 Axes>"
            ]
          },
          "metadata": {
            "tags": []
          }
        },
        {
          "output_type": "stream",
          "text": [
            "\n",
            "Confusion Matrix\n",
            "[[ 29152   1629   2093    376   1913]\n",
            " [  7993   1964   4064    815   1662]\n",
            " [  3964   1442   7952   4175   4826]\n",
            " [  1139    305   4018  11861  23992]\n",
            " [  1471    153   1727   5845 124391]]\n",
            "\n",
            "Classification Report\n",
            "              precision    recall  f1-score   support\n",
            "\n",
            "           1       0.67      0.83      0.74     35163\n",
            "           2       0.36      0.12      0.18     16498\n",
            "           3       0.40      0.36      0.38     22359\n",
            "           4       0.51      0.29      0.37     41315\n",
            "           5       0.79      0.93      0.86    133587\n",
            "\n",
            "    accuracy                           0.70    248922\n",
            "   macro avg       0.55      0.50      0.50    248922\n",
            "weighted avg       0.66      0.70      0.67    248922\n",
            "\n"
          ],
          "name": "stdout"
        },
        {
          "output_type": "stream",
          "text": [
            "drive/My Drive/Springboard/capstone/util/plot_util.py:267: MatplotlibDeprecationWarning: The 'withdash' parameter of text() is deprecated since Matplotlib 3.1 and will be removed in 3.3.  If any parameter follows 'withdash', they should be pass as keyword, not positionally.\n",
            "  withdash=True)\n",
            "drive/My Drive/Springboard/capstone/util/plot_util.py:267: MatplotlibDeprecationWarning: \n",
            "The TextWithDash class was deprecated in Matplotlib 3.1 and will be removed in 3.3. Use Annotation instead.\n",
            "  withdash=True)\n",
            "drive/My Drive/Springboard/capstone/util/plot_util.py:271: MatplotlibDeprecationWarning: The 'withdash' parameter of text() is deprecated since Matplotlib 3.1 and will be removed in 3.3.  If any parameter follows 'withdash', they should be pass as keyword, not positionally.\n",
            "  withdash=True)\n",
            "drive/My Drive/Springboard/capstone/util/plot_util.py:271: MatplotlibDeprecationWarning: \n",
            "The TextWithDash class was deprecated in Matplotlib 3.1 and will be removed in 3.3. Use Annotation instead.\n",
            "  withdash=True)\n",
            "drive/My Drive/Springboard/capstone/util/plot_util.py:275: MatplotlibDeprecationWarning: The 'withdash' parameter of text() is deprecated since Matplotlib 3.1 and will be removed in 3.3.  If any parameter follows 'withdash', they should be pass as keyword, not positionally.\n",
            "  withdash=True)\n",
            "drive/My Drive/Springboard/capstone/util/plot_util.py:275: MatplotlibDeprecationWarning: \n",
            "The TextWithDash class was deprecated in Matplotlib 3.1 and will be removed in 3.3. Use Annotation instead.\n",
            "  withdash=True)\n"
          ],
          "name": "stderr"
        },
        {
          "output_type": "display_data",
          "data": {
            "image/png": "[encoded data removed]",
            "text/plain": [
              "<Figure size 360x360 with 1 Axes>"
            ]
          },
          "metadata": {
            "tags": []
          }
        }
      ]
    },
    {
      "cell_type": "code",
      "metadata": {
        "id": "YOA18O7wN63j",
        "colab_type": "code",
        "colab": {
          "base_uri": "https://localhost:8080/",
          "height": 34
        },
        "outputId": "e6962cc8-b790-4bad-eb3b-c4face088cd4"
      },
      "source": [
        "print(f'Score: {ru.calculate_metric(mw.crd)}')"
      ],
      "execution_count": 12,
      "outputs": [
        {
          "output_type": "stream",
          "text": [
            "Score: 0.29134436633997374\n"
          ],
          "name": "stdout"
        }
      ]
    },
    {
      "cell_type": "markdown",
      "metadata": {
        "id": "z2ot_Nqg1U4w",
        "colab_type": "text"
      },
      "source": [
        "**Save off various files**"
      ]
    },
    {
      "cell_type": "code",
      "metadata": {
        "id": "Al3bCFrI1P5m",
        "colab_type": "code",
        "colab": {
          "base_uri": "https://localhost:8080/",
          "height": 190
        },
        "outputId": "e19efe72-8c7c-42b9-c1db-bfe93f2adc6b"
      },
      "source": [
        "mw.save(DRIVE_DIR, append_report=True)"
      ],
      "execution_count": 13,
      "outputs": [
        {
          "output_type": "stream",
          "text": [
            "description: biGRU16-1x16-glove-sampling_none-995688-100-star_rating\n",
            "Saving to report file: drive/My Drive/Springboard/capstone/reports/glove_embedding-dl_prototype-report.csv\n",
            "Loading to append to: drive/My Drive/Springboard/capstone/reports/glove_embedding-dl_prototype-report.csv\n",
            "{'model_name': 'biGRU16', 'architecture': '1x16', 'description': '1 Layer 16 GRU Units, No Dropout, GloVe Embedding, Balanced Weights', 'classification_report': '{\"1\": {\"precision\": 0.6668039067682243, \"recall\": 0.8290532662173307, \"f1-score\": 0.7391293324205775, \"support\": 35163}, \"2\": {\"precision\": 0.3575459675951211, \"recall\": 0.1190447326948721, \"f1-score\": 0.17861852576053838, \"support\": 16498}, \"3\": {\"precision\": 0.4005238239145764, \"recall\": 0.35565096829017395, \"f1-score\": 0.3767559756473124, \"support\": 22359}, \"4\": {\"precision\": 0.5140863384188626, \"recall\": 0.2870870144015491, \"f1-score\": 0.3684284094615373, \"support\": 41315}, \"5\": {\"precision\": 0.7933909072354322, \"recall\": 0.9311609662616871, \"f1-score\": 0.8567728870996071, \"support\": 133587}, \"accuracy\": 0.7043170149685444, \"macro avg\": {\"precision\": 0.5464701887864434, \"recall\": 0.5043993895731227, \"f1-score\": 0.5039410260779145, \"support\": 248922}, \"weighted avg\": {\"precision\": 0.6649758539727962, \"recall\": 0.7043170149685444, \"f1-score\": 0.6710378328122022, \"support\": 248922}}', 'roc_auc': '{\"auc_1\": 0.9619604922637008, \"auc_2\": 0.8870569925415487, \"auc_3\": 0.8597833599840945, \"auc_4\": 0.7853829236480248, \"auc_5\": 0.9092548102031048, \"auc_micro\": 0.9269718376113049, \"auc_macro\": 0.880689869167456}', 'loss': 0.756570962419844, 'accuracy': 0.70431703, 'confusion_matrix': '[[29152, 1629, 2093, 376, 1913], [7993, 1964, 4064, 815, 1662], [3964, 1442, 7952, 4175, 4826], [1139, 305, 4018, 11861, 23992], [1471, 153, 1727, 5845, 124391]]', 'file': 'drive/My Drive/Springboard/capstone/data/amazon_reviews_us_Wireless_v1_00-1m-preprocessed.csv', 'network_history_file': 'drive/My Drive/Springboard/capstone/models/biGRU16-1x16-glove-sampling_none-995688-100-star_rating-history.pkl', 'tokenizer_file': 'drive/My Drive/Springboard/capstone/models/biGRU16-1x16-glove-sampling_none-995688-100-star_rating-tokenizer.pkl', 'max_sequence_length': 100, 'batch_size': 128, 'epochs': 18, 'feature_set_name': 'glove', 'class_weight': '[1.4228484463085092, 3.0270973626206583, 2.2103804999334016, 1.200130175375158, 0.3729699357961058]', 'sampling_type': 'none', 'embedding': 300, 'model_file': 'drive/My Drive/Springboard/capstone/models/biGRU16-1x16-glove-sampling_none-995688-100-star_rating-model.h5', 'model_json_file': 'drive/My Drive/Springboard/capstone/models/biGRU16-1x16-glove-sampling_none-995688-100-star_rating-model.json', 'weights_file': 'drive/My Drive/Springboard/capstone/models/biGRU16-1x16-glove-sampling_none-995688-100-star_rating-weights.h5', 'test_examples': 248922, 'test_features': 100, 'train_examples': 746766, 'train_features': 100, 'train_time_min': 26.1, 'evaluate_time_min': 1.04, 'predict_time_min': 0.81, 'status': 'success', 'status_date': '2020-02-09 20:21:15'}\n",
            "Saving report file...\n",
            "Saving json config file: drive/My Drive/Springboard/capstone/models/biGRU16-1x16-glove-sampling_none-995688-100-star_rating-model.json\n",
            "Saving weights file: drive/My Drive/Springboard/capstone/models/biGRU16-1x16-glove-sampling_none-995688-100-star_rating-weights.h5\n",
            "Saving history file: drive/My Drive/Springboard/capstone/models/biGRU16-1x16-glove-sampling_none-995688-100-star_rating-history.pkl\n",
            "Saving model file: drive/My Drive/Springboard/capstone/models/biGRU16-1x16-glove-sampling_none-995688-100-star_rating-model.h5\n"
          ],
          "name": "stdout"
        }
      ]
    },
    {
      "cell_type": "code",
      "metadata": {
        "id": "96A-A5CBJXiy",
        "colab_type": "code",
        "colab": {
          "base_uri": "https://localhost:8080/",
          "height": 34
        },
        "outputId": "2a584ef7-3541-4d4c-c457-dbe5f398603a"
      },
      "source": [
        "print(datetime.now())"
      ],
      "execution_count": 14,
      "outputs": [
        {
          "output_type": "stream",
          "text": [
            "2020-02-09 20:22:05.827572\n"
          ],
          "name": "stdout"
        }
      ]
    }
  ]
}