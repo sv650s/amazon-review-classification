{
  "nbformat": 4,
  "nbformat_minor": 0,
  "metadata": {
    "colab": {
      "name": "6.5.2-LSTMB16-GloVe-500k-prototype.ipynb",
      "provenance": [],
      "collapsed_sections": [],
      "include_colab_link": true
    },
    "language_info": {
      "codemirror_mode": {
        "name": "ipython",
        "version": 3
      },
      "file_extension": ".py",
      "mimetype": "text/x-python",
      "name": "python",
      "nbconvert_exporter": "python",
      "pygments_lexer": "ipython3",
      "version": "3.7.3"
    },
    "kernelspec": {
      "name": "python3",
      "display_name": "Python 3"
    },
    "accelerator": "GPU"
  },
  "cells": [
    {
      "cell_type": "markdown",
      "metadata": {
        "id": "view-in-github",
        "colab_type": "text"
      },
      "source": [
        "<a href=\"https://colab.research.google.com/github/sv650s/amazon-review-classification/blob/master/notebooks/deep_learning/6.5.2-LSTMB16-GloVe-500k-prototype.ipynb\" target=\"_parent\"><img src=\"https://colab.research.google.com/assets/colab-badge.svg\" alt=\"Open In Colab\"/></a>"
      ]
    },
    {
      "cell_type": "markdown",
      "metadata": {
        "id": "W7_sb1roJXhx",
        "colab_type": "text"
      },
      "source": [
        "# Pre-trained embedding using LSTM\n",
        "\n",
        "We are debugging our deep learning network. We think there might be some issues with our embedding layer of the network. \n",
        "\n",
        "In this notebook, we will use pre-trained embedding (GloVe) for our embedding layer and see how our network performs.\n",
        "\n",
        "For speed of iterations, we will use 16 LSTM units in our architecture since in our previous sets of notebooks, the number of LSTM nodes did not affect our score very much.\n",
        "\n",
        "We will use 500k samples in this notebook\n",
        "\n",
        "## Embedding\n",
        "You can download GloVe embedding here: https://nlp.stanford.edu/projects/glove/\n",
        "\n",
        "We will be using the 840B dataset since that has the most comprehensive vocabulary.\n",
        "\n",
        "Length of our embedding vector will be 300 - this is same as our random embedding\n",
        "\n",
        "The embedding matrix will be created based on the training set so that we can have a more accurate sense of how the embedding space will perform on new reviews.\n",
        "\n",
        "For further documentation on how to use pre-trained embedding, please refer to this doc: https://keras.io/examples/pretrained_word_embeddings/\n",
        "\n",
        "\n",
        "# Result\n",
        "\n",
        "For our random embedding LSTM model with 16 units, our score was: 0.3849584800258859\n",
        "\n",
        "Using GloVe, our score is: 0.32439214411478845 - we are still performing below our random embedding mode.\n",
        "\n",
        "Next notebook will be with 1 million examples to see if we see the same behavior as before where performance starts to decrease as we increase more examples\n",
        "\n"
      ]
    },
    {
      "cell_type": "code",
      "metadata": {
        "id": "pF_xRedK9O1Q",
        "colab_type": "code",
        "outputId": "7ebe5db2-994a-4190-a04d-545c5626e690",
        "colab": {
          "base_uri": "https://localhost:8080/",
          "height": 88
        }
      },
      "source": [
        "from google.colab import drive\n",
        "drive.mount('/content/drive')\n",
        "\n",
        "import sys\n",
        "DRIVE_DIR = \"drive/My Drive/Springboard/capstone\"\n",
        "sys.path.append(DRIVE_DIR)\n",
        "\n",
        "\n",
        "%tensorflow_version 2.x\n",
        "\n",
        "\n",
        "import tensorflow as tf\n",
        "# checl to make sure we are using GPU here\n",
        "tf.test.gpu_device_name()"
      ],
      "execution_count": 1,
      "outputs": [
        {
          "output_type": "stream",
          "text": [
            "Drive already mounted at /content/drive; to attempt to forcibly remount, call drive.mount(\"/content/drive\", force_remount=True).\n",
            "TensorFlow 2.x selected.\n"
          ],
          "name": "stdout"
        },
        {
          "output_type": "execute_result",
          "data": {
            "text/plain": [
              "'/device:GPU:0'"
            ]
          },
          "metadata": {
            "tags": []
          },
          "execution_count": 1
        }
      ]
    },
    {
      "cell_type": "code",
      "metadata": {
        "id": "pAHGtniuJXhy",
        "colab_type": "code",
        "colab": {}
      },
      "source": [
        "from __future__ import absolute_import, division, print_function, unicode_literals\n",
        "\n",
        "\n",
        "from tensorflow.keras.models import Sequential\n",
        "from tensorflow.keras.layers import Dense, Activation, Dropout\n",
        "from tensorflow.keras.layers import BatchNormalization\n",
        "from tensorflow.keras.callbacks import EarlyStopping, ReduceLROnPlateau\n",
        "from tensorflow.keras.models import load_model\n",
        "from tensorflow.keras.optimizers import SGD\n",
        "from tensorflow.keras.layers import Conv1D, MaxPooling1D, Embedding, \\\n",
        "    SpatialDropout1D, Flatten, LSTM\n",
        "from tensorflow.keras.preprocessing.text import Tokenizer\n",
        "from tensorflow.keras.preprocessing import sequence\n",
        "from tensorflow.keras.utils import model_to_dot\n",
        "from tensorflow.keras.initializers import Constant\n",
        "\n",
        "\n",
        "from sklearn.model_selection import train_test_split\n",
        "from sklearn.preprocessing import OneHotEncoder\n",
        "from sklearn.preprocessing import LabelEncoder\n",
        "from sklearn.metrics import confusion_matrix, classification_report\n",
        "from sklearn.utils.class_weight import compute_class_weight\n",
        "\n",
        "\n",
        "import pandas as pd\n",
        "import numpy as np\n",
        "from IPython.display import SVG\n",
        "import pickle\n",
        "from datetime import datetime\n",
        "import matplotlib.pyplot as plt\n",
        "import seaborn as sns\n",
        "import os\n",
        "import logging\n",
        "\n",
        "\n",
        "import util.dict_util as du\n",
        "import util.plot_util as pu\n",
        "import util.file_util as fu\n",
        "import util.keras_util as ku\n",
        "import util.report_util as ru\n",
        "\n",
        "import random\n",
        "\n",
        "# fix random seeds\n",
        "tf.compat.v1.reset_default_graph()\n",
        "tf.compat.v1.set_random_seed(1)\n",
        "random.seed(1)\n",
        "np.random.seed(1)\n",
        "\n",
        "logging.basicConfig(level=logging.ERROR)\n",
        "\n",
        "%matplotlib inline\n",
        "sns.set()\n",
        "\n",
        "\n",
        "DATE_FORMAT = '%Y-%m-%d'\n",
        "TIME_FORMAT = '%Y-%m-%d %H:%M:%S'\n",
        "LABEL_COLUMN = \"star_rating\"\n",
        "REVIEW_COLUMN = \"review_body\"\n",
        "\n",
        "\n",
        "DEBUG = False\n",
        "\n",
        "\n",
        "LSTM_DIM = 16 # total LSTM units\n",
        "MODEL_NAME = f\"LSTMB{LSTM_DIM}\"\n",
        "ARCHITECTURE = f\"1x{LSTM_DIM}\"\n",
        "DESCRIPTION = f\"1 Layer {LSTM_DIM} LSTM Units, No Dropout, GloVe Embedding, Balanced Weights\"\n",
        "FEATURE_SET_NAME = \"glove\"\n",
        "PATIENCE = 4\n",
        "\n",
        "SAMPLES = \"500k\"\n",
        "\n",
        "if DEBUG:\n",
        "  DATA_FILE = f'{DRIVE_DIR}/data/amazon_reviews_us_Wireless_v1_00-test-preprocessed.csv'\n",
        "  MODEL_NAME = f'test-{MODEL_NAME}'\n",
        "  MISSING_WORDS_FILE = f'{DRIVE_DIR}/reports/glove_embedding-missing_words-test.csv'\n",
        "else:\n",
        "  DATA_FILE = f\"{DRIVE_DIR}/data/amazon_reviews_us_Wireless_v1_00-{SAMPLES}-preprocessed.csv\"\n",
        "  MISSING_WORDS_FILE = f'{DRIVE_DIR}/reports/glove_embedding-missing_words-{SAMPLES}.csv'\n",
        "  ku.ModelWrapper.set_report_filename('glove_embedding-dl_prototype-report.csv')\n",
        "\n",
        "\n",
        "EMBEDDING_FILE = f'{DRIVE_DIR}/data/embeddings/glove.840B.300d.txt'\n",
        "\n",
        "# first layer filter\n",
        "FILTER1 = 32\n",
        "# Network Settings\n",
        "KERNEL_SIZE=3\n",
        "\n",
        "\n",
        "\n",
        "# length of our embedding - 300 is standard\n",
        "EMBED_SIZE = 300\n",
        "EPOCHS  = 50\n",
        "BATCH_SIZE = 128\n",
        "\n",
        "# From EDA, we know that 90% of review bodies have 100 words or less, \n",
        "# we will use this as our sequence length\n",
        "MAX_SEQUENCE_LENGTH = 100\n",
        "\n",
        "\n"
      ],
      "execution_count": 0,
      "outputs": []
    },
    {
      "cell_type": "code",
      "metadata": {
        "hide_input": false,
        "id": "k6fwJp9OJXh5",
        "colab_type": "code",
        "colab": {}
      },
      "source": [
        "df = pd.read_csv(DATA_FILE)\n",
        "\n",
        "rating = df[LABEL_COLUMN]\n",
        "reviews = df[REVIEW_COLUMN]"
      ],
      "execution_count": 0,
      "outputs": []
    },
    {
      "cell_type": "code",
      "metadata": {
        "id": "GKdUpCsshGk8",
        "colab_type": "code",
        "colab": {}
      },
      "source": [
        ""
      ],
      "execution_count": 0,
      "outputs": []
    },
    {
      "cell_type": "code",
      "metadata": {
        "id": "rMdM2TS7hGgc",
        "colab_type": "code",
        "colab": {}
      },
      "source": [
        ""
      ],
      "execution_count": 0,
      "outputs": []
    },
    {
      "cell_type": "code",
      "metadata": {
        "id": "kHMW5sNShGce",
        "colab_type": "code",
        "colab": {}
      },
      "source": [
        ""
      ],
      "execution_count": 0,
      "outputs": []
    },
    {
      "cell_type": "code",
      "metadata": {
        "id": "HvcwW1AmhGNU",
        "colab_type": "code",
        "colab": {}
      },
      "source": [
        ""
      ],
      "execution_count": 0,
      "outputs": []
    },
    {
      "cell_type": "markdown",
      "metadata": {
        "id": "EBQR0ZpoOiQk",
        "colab_type": "text"
      },
      "source": [
        "# Preprocessing"
      ]
    },
    {
      "cell_type": "code",
      "metadata": {
        "id": "_g2Wm80MCgGZ",
        "colab_type": "code",
        "colab": {}
      },
      "source": [
        ""
      ],
      "execution_count": 0,
      "outputs": []
    },
    {
      "cell_type": "code",
      "metadata": {
        "id": "lytdvF4neJ4r",
        "colab_type": "code",
        "outputId": "a54b888a-edc3-4b4a-a7f7-d6f2a4373326",
        "colab": {
          "base_uri": "https://localhost:8080/",
          "height": 68
        }
      },
      "source": [
        "\n",
        "\n",
        "# pre-process our lables\n",
        "# one hot encode our star ratings since Keras/TF requires this for the labels\n",
        "y = OneHotEncoder().fit_transform(rating.values.reshape(len(rating), 1)).toarray()\n",
        "\n",
        "\n",
        "# split our data into train and test sets\n",
        "reviews_train, reviews_test, y_train, y_test = train_test_split(reviews, y, random_state=1)\n",
        "\n",
        "\n",
        "# Pre-process our features (review body)\n",
        "t = Tokenizer(oov_token=\"<UNK>\")\n",
        "# fit the tokenizer on the documents\n",
        "t.fit_on_texts(reviews_train)\n",
        "# tokenize both our training and test data\n",
        "train_sequences = t.texts_to_sequences(reviews_train)\n",
        "test_sequences = t.texts_to_sequences(reviews_test)\n",
        "\n",
        "print(\"Vocabulary size={}\".format(len(t.word_counts)))\n",
        "print(\"Number of Documents={}\".format(t.document_count))\n",
        "\n",
        "\n",
        "# pad our reviews to the max sequence length\n",
        "X_train = sequence.pad_sequences(train_sequences, maxlen=MAX_SEQUENCE_LENGTH)\n",
        "X_test = sequence.pad_sequences(test_sequences, maxlen=MAX_SEQUENCE_LENGTH)\n",
        "\n",
        "print('Train review vectors shape:', X_train.shape, ' Test review vectors shape:', X_test.shape)\n"
      ],
      "execution_count": 4,
      "outputs": [
        {
          "output_type": "stream",
          "text": [
            "Vocabulary size=73964\n",
            "Number of Documents=373376\n",
            "Train review vectors shape: (373376, 100)  Test review vectors shape: (124459, 100)\n"
          ],
          "name": "stdout"
        }
      ]
    },
    {
      "cell_type": "markdown",
      "metadata": {
        "id": "TgorpmIPnQH9",
        "colab_type": "text"
      },
      "source": [
        "## Load our pre-trained embedding\n",
        "\n",
        "embeddings_index will be a map where key == word, value == the embedding vector"
      ]
    },
    {
      "cell_type": "code",
      "metadata": {
        "id": "5j7D7LLinP0r",
        "colab_type": "code",
        "outputId": "466ee883-c85c-4b04-904e-5491718ef6a7",
        "colab": {
          "base_uri": "https://localhost:8080/",
          "height": 51
        }
      },
      "source": [
        "print('Indexing word vectors.')\n",
        "\n",
        "embeddings_index = {}\n",
        "with open(EMBEDDING_FILE) as f:\n",
        "    for line in f:\n",
        "        word, coefs = line.split(maxsplit=1)\n",
        "        coefs = np.fromstring(coefs, 'f', sep=' ')\n",
        "        embeddings_index[word] = coefs\n",
        "\n",
        "print('Found %s word vectors.' % len(embeddings_index))"
      ],
      "execution_count": 5,
      "outputs": [
        {
          "output_type": "stream",
          "text": [
            "Indexing word vectors.\n",
            "Found 2195884 word vectors.\n"
          ],
          "name": "stdout"
        }
      ]
    },
    {
      "cell_type": "code",
      "metadata": {
        "id": "pchOfR6qnPxB",
        "colab_type": "code",
        "colab": {}
      },
      "source": [
        ""
      ],
      "execution_count": 0,
      "outputs": []
    },
    {
      "cell_type": "code",
      "metadata": {
        "id": "G7L7HL6EnPtA",
        "colab_type": "code",
        "colab": {}
      },
      "source": [
        ""
      ],
      "execution_count": 0,
      "outputs": []
    },
    {
      "cell_type": "markdown",
      "metadata": {
        "id": "rYvqmy4xmQWD",
        "colab_type": "text"
      },
      "source": [
        "## Create Embedding Matrix based on our tokenizer\n",
        "\n",
        "For every word in our vocabulary, we will look up the embedding vector and add the it to our embedding matrix\n",
        "\n",
        "The matrix will be passed in as weights in our embedding layer later\n",
        "\n",
        "If there is word that does not exist in the pre-trained embedding vocabulary, we will leave the weights as 0 vector and save off the word into a CSV file later for analysis"
      ]
    },
    {
      "cell_type": "code",
      "metadata": {
        "id": "bIrMqj-HmPwk",
        "colab_type": "code",
        "outputId": "654af4fc-1754-47b7-9a7a-02b1505de9ab",
        "colab": {
          "base_uri": "https://localhost:8080/",
          "height": 68
        }
      },
      "source": [
        "# this is a map with key == word, value == index in the vocabulary\n",
        "word_index = t.word_index\n",
        "print(f'word_index length: {len(word_index)}')\n",
        "\n",
        "# we are going to use the entire vocab so we can alter this from the example\n",
        "# num_words = min(MAX_NUM_WORDS, len(word_index) + 1)\n",
        "\n",
        "# start with a matrix of 0's\n",
        "embedding_matrix = np.zeros((len(word_index) + 1, EMBED_SIZE))\n",
        "\n",
        "# if a word doesn't exist in our vocabulary, let's save it off\n",
        "missing_words = []\n",
        "print(f'embedding_matrix shape: {np.shape(embedding_matrix)}')\n",
        "for word, i in word_index.items():\n",
        "    # print(f'word: {word} i: {i}')\n",
        "    embedding_vector = embeddings_index.get(word)\n",
        "    if embedding_vector is not None and np.shape(embedding_vector)[0] == EMBED_SIZE:\n",
        "        # words not found in embedding index will be all-zeros.\n",
        "        # print(f'i: {i} embedding_vector shape: {np.shape(embedding_vector)}')\n",
        "        embedding_matrix[i] = embedding_vector\n",
        "    else:\n",
        "      missing_words.append(word)\n",
        "\n",
        "print(f'Number of missing words from our vocabulary: {len(missing_words)}')\n",
        "\n"
      ],
      "execution_count": 6,
      "outputs": [
        {
          "output_type": "stream",
          "text": [
            "word_index length: 73965\n",
            "embedding_matrix shape: (73966, 300)\n",
            "Number of missing words from our vocabulary: 26049\n"
          ],
          "name": "stdout"
        }
      ]
    },
    {
      "cell_type": "markdown",
      "metadata": {
        "id": "TIw5aJS8trK-",
        "colab_type": "text"
      },
      "source": [
        "Save off our missing words into a csv file so we can analyze this later"
      ]
    },
    {
      "cell_type": "code",
      "metadata": {
        "id": "XN1Vr2oSto2f",
        "colab_type": "code",
        "colab": {}
      },
      "source": [
        "# save missing words into a file so we can analyze it later\n",
        "missing_words_df = pd.DataFrame(missing_words)\n",
        "missing_words_df.to_csv(MISSING_WORDS_FILE, index=False)"
      ],
      "execution_count": 0,
      "outputs": []
    },
    {
      "cell_type": "markdown",
      "metadata": {
        "id": "6hWLBCjqucDJ",
        "colab_type": "text"
      },
      "source": [
        "**Build LSTM Model Architecture**"
      ]
    },
    {
      "cell_type": "code",
      "metadata": {
        "id": "653DtCuBJXiF",
        "colab_type": "code",
        "colab": {}
      },
      "source": [
        "vocab_size = len(t.word_index)+1\n",
        "\n",
        "# building our network\n",
        "model = Sequential()\n",
        "# load pre-trained word embeddings into an Embedding layer\n",
        "# note that we set trainable = False so as to keep the embeddings fixed\n",
        "model.add(Embedding(input_dim=vocab_size,\n",
        "                            output_dim=EMBED_SIZE,\n",
        "                            embeddings_initializer=Constant(embedding_matrix),\n",
        "                            input_length=MAX_SEQUENCE_LENGTH,\n",
        "                            trainable=False))\n",
        "# model.add(Embedding(input_dim=vocab_size, output_dim=EMBED_SIZE, input_length=MAX_SEQUENCE_LENGTH))\n",
        "model.add(LSTM(LSTM_DIM))\n",
        "model.add(Dense(5, activation=\"softmax\"))\n",
        "\n",
        "model.compile(loss=\"categorical_crossentropy\", optimizer=\"adam\",\n",
        "              metrics=[\"categorical_accuracy\"])\n"
      ],
      "execution_count": 0,
      "outputs": []
    },
    {
      "cell_type": "code",
      "metadata": {
        "id": "iZitdxXPJXiI",
        "colab_type": "code",
        "outputId": "ce69377c-8d18-45ef-a36c-7f5579cc7c28",
        "colab": {
          "base_uri": "https://localhost:8080/",
          "height": 274
        }
      },
      "source": [
        "print(model.summary())"
      ],
      "execution_count": 9,
      "outputs": [
        {
          "output_type": "stream",
          "text": [
            "Model: \"sequential\"\n",
            "_________________________________________________________________\n",
            "Layer (type)                 Output Shape              Param #   \n",
            "=================================================================\n",
            "embedding (Embedding)        (None, 100, 300)          22189800  \n",
            "_________________________________________________________________\n",
            "lstm (LSTM)                  (None, 16)                20288     \n",
            "_________________________________________________________________\n",
            "dense (Dense)                (None, 5)                 85        \n",
            "=================================================================\n",
            "Total params: 22,210,173\n",
            "Trainable params: 20,373\n",
            "Non-trainable params: 22,189,800\n",
            "_________________________________________________________________\n",
            "None\n"
          ],
          "name": "stdout"
        }
      ]
    },
    {
      "cell_type": "code",
      "metadata": {
        "scrolled": false,
        "id": "60eC_0fRJXiQ",
        "colab_type": "code",
        "outputId": "5134a9f6-e80c-43a4-ba1e-285aa90c74fa",
        "colab": {
          "base_uri": "https://localhost:8080/",
          "height": 740
        }
      },
      "source": [
        "\n",
        "# reduce learning rate if we sense a plateau\n",
        "reduce_lr = ReduceLROnPlateau(monitor='val_loss', \n",
        "                            #   factor=0.4,\n",
        "                            #   patience=PATIENCE, \n",
        "                            #   min_lr=0.00001,\n",
        "                            #  mode='auto',\n",
        "                              restore_best_weights=True)\n",
        "\n",
        "early_stop = EarlyStopping(monitor='val_loss', patience=PATIENCE, verbose=1,\n",
        "                           restore_best_weights=True)\n",
        "\n",
        "weights = compute_class_weight('balanced', np.arange(1, 6), rating)\n",
        "print(f'class weights: {weights}')\n",
        "\n",
        "\n",
        "mw = ku.ModelWrapper(model, \n",
        "                     MODEL_NAME, \n",
        "                     ARCHITECTURE,\n",
        "                     FEATURE_SET_NAME,\n",
        "                     LABEL_COLUMN, \n",
        "                     DATA_FILE, \n",
        "                     embed_size=EMBED_SIZE,\n",
        "                     tokenizer=t,\n",
        "                     description=DESCRIPTION)\n",
        "\n",
        "network_history = mw.fit(X_train, y_train,\n",
        "                      batch_size=BATCH_SIZE,\n",
        "                      epochs=EPOCHS,\n",
        "                      verbose=1,\n",
        "                      validation_split=0.2,\n",
        "                      class_weight=weights,\n",
        "                      callbacks=[early_stop, reduce_lr])"
      ],
      "execution_count": 10,
      "outputs": [
        {
          "output_type": "stream",
          "text": [
            "class weights: [1.41902061 3.0309589  2.20828158 1.20167276 0.37308618]\n",
            "Number of training examples: 373376\n",
            "Train on 298700 samples, validate on 74676 samples\n",
            "Epoch 1/50\n",
            "298700/298700 [==============================] - 43s 145us/sample - loss: 0.9097 - categorical_accuracy: 0.6500 - val_loss: 0.8383 - val_categorical_accuracy: 0.6712\n",
            "Epoch 2/50\n",
            "298700/298700 [==============================] - 32s 108us/sample - loss: 0.8199 - categorical_accuracy: 0.6806 - val_loss: 0.8038 - val_categorical_accuracy: 0.6849\n",
            "Epoch 3/50\n",
            "298700/298700 [==============================] - 32s 107us/sample - loss: 0.7947 - categorical_accuracy: 0.6890 - val_loss: 0.7906 - val_categorical_accuracy: 0.6898\n",
            "Epoch 4/50\n",
            "298700/298700 [==============================] - 32s 105us/sample - loss: 0.7808 - categorical_accuracy: 0.6943 - val_loss: 0.7837 - val_categorical_accuracy: 0.6933\n",
            "Epoch 5/50\n",
            "298700/298700 [==============================] - 31s 105us/sample - loss: 0.7711 - categorical_accuracy: 0.6977 - val_loss: 0.7801 - val_categorical_accuracy: 0.6931\n",
            "Epoch 6/50\n",
            "298700/298700 [==============================] - 30s 100us/sample - loss: 0.7640 - categorical_accuracy: 0.6999 - val_loss: 0.7739 - val_categorical_accuracy: 0.6966\n",
            "Epoch 7/50\n",
            "298700/298700 [==============================] - 28s 94us/sample - loss: 0.7580 - categorical_accuracy: 0.7022 - val_loss: 0.7701 - val_categorical_accuracy: 0.6998\n",
            "Epoch 8/50\n",
            "298700/298700 [==============================] - 29s 98us/sample - loss: 0.7530 - categorical_accuracy: 0.7041 - val_loss: 0.7694 - val_categorical_accuracy: 0.6986\n",
            "Epoch 9/50\n",
            "298700/298700 [==============================] - 35s 116us/sample - loss: 0.7488 - categorical_accuracy: 0.7059 - val_loss: 0.7672 - val_categorical_accuracy: 0.7000\n",
            "Epoch 10/50\n",
            "298700/298700 [==============================] - 31s 104us/sample - loss: 0.7462 - categorical_accuracy: 0.7064 - val_loss: 0.7672 - val_categorical_accuracy: 0.6982\n",
            "Epoch 11/50\n",
            "298700/298700 [==============================] - 34s 114us/sample - loss: 0.7432 - categorical_accuracy: 0.7076 - val_loss: 0.7663 - val_categorical_accuracy: 0.7000\n",
            "Epoch 12/50\n",
            "298700/298700 [==============================] - 34s 114us/sample - loss: 0.7407 - categorical_accuracy: 0.7087 - val_loss: 0.7693 - val_categorical_accuracy: 0.6985\n",
            "Epoch 13/50\n",
            "298700/298700 [==============================] - 34s 113us/sample - loss: 0.7380 - categorical_accuracy: 0.7091 - val_loss: 0.7691 - val_categorical_accuracy: 0.6971\n",
            "Epoch 14/50\n",
            "298700/298700 [==============================] - 34s 115us/sample - loss: 0.7360 - categorical_accuracy: 0.7103 - val_loss: 0.7657 - val_categorical_accuracy: 0.6996\n",
            "Epoch 15/50\n",
            "298700/298700 [==============================] - 34s 114us/sample - loss: 0.7336 - categorical_accuracy: 0.7110 - val_loss: 0.7699 - val_categorical_accuracy: 0.6986\n",
            "Epoch 16/50\n",
            "298700/298700 [==============================] - 34s 114us/sample - loss: 0.7320 - categorical_accuracy: 0.7117 - val_loss: 0.7667 - val_categorical_accuracy: 0.6996\n",
            "Epoch 17/50\n",
            "298700/298700 [==============================] - 34s 113us/sample - loss: 0.7304 - categorical_accuracy: 0.7122 - val_loss: 0.7674 - val_categorical_accuracy: 0.6990\n",
            "Epoch 18/50\n",
            "298368/298700 [============================>.] - ETA: 0s - loss: 0.7285 - categorical_accuracy: 0.7133Restoring model weights from the end of the best epoch.\n",
            "298700/298700 [==============================] - 35s 116us/sample - loss: 0.7285 - categorical_accuracy: 0.7133 - val_loss: 0.7683 - val_categorical_accuracy: 0.6997\n",
            "Epoch 00018: early stopping\n"
          ],
          "name": "stdout"
        }
      ]
    },
    {
      "cell_type": "code",
      "metadata": {
        "id": "2VHBrsPjJXiS",
        "colab_type": "code",
        "outputId": "8ddc6ee4-6bb0-44bd-ded0-8d6d3a70a397",
        "colab": {
          "base_uri": "https://localhost:8080/",
          "height": 1000
        }
      },
      "source": [
        "\n",
        "scores = mw.evaluate(X_test, y_test)\n",
        "print(\"Accuracy: %.2f%%\" % (mw.scores[1]*100))\n",
        "\n",
        "pu.plot_network_history(mw.network_history, \"categorical_accuracy\", \"val_categorical_accuracy\")\n",
        "plt.show()\n",
        "\n",
        "print(\"\\nConfusion Matrix\")\n",
        "print(mw.confusion_matrix)\n",
        "\n",
        "print(\"\\nClassification Report\")\n",
        "print(mw.classification_report)\n",
        "\n",
        "fig = plt.figure(figsize=(5,5))\n",
        "pu.plot_roc_auc(mw.model_name, mw.roc_auc, mw.fpr, mw.tpr)\n",
        "\n"
      ],
      "execution_count": 11,
      "outputs": [
        {
          "output_type": "stream",
          "text": [
            "Number of test: 124459\n",
            "Running model.evaluate...\n",
            "124459/124459 [==============================] - 26s 213us/sample - loss: 0.7736 - categorical_accuracy: 0.6986\n",
            "Running model.predict...\n",
            "Unencode predictions...\n",
            "Generating confusion matrix...\n",
            "Calculating ROC AUC...\n",
            "(124459, 5)\n",
            "Getting classification report...\n",
            "Accuracy: 69.86%\n"
          ],
          "name": "stdout"
        },
        {
          "output_type": "display_data",
          "data": {
            "image/png": "[encoded data removed]",
            "text/plain": [
              "<Figure size 720x360 with 2 Axes>"
            ]
          },
          "metadata": {
            "tags": []
          }
        },
        {
          "output_type": "stream",
          "text": [
            "\n",
            "Confusion Matrix\n",
            "[[14403   704  1057   176  1320]\n",
            " [ 3971   876  1898   437  1018]\n",
            " [ 2019   567  3563  2164  2990]\n",
            " [  588   139  1745  5444 12847]\n",
            " [  669    56   662  2488 62658]]\n",
            "\n",
            "Classification Report\n",
            "              precision    recall  f1-score   support\n",
            "\n",
            "           1       0.67      0.82      0.73     17660\n",
            "           2       0.37      0.11      0.17      8200\n",
            "           3       0.40      0.32      0.35     11303\n",
            "           4       0.51      0.26      0.35     20763\n",
            "           5       0.78      0.94      0.85     66533\n",
            "\n",
            "    accuracy                           0.70    124459\n",
            "   macro avg       0.54      0.49      0.49    124459\n",
            "weighted avg       0.65      0.70      0.66    124459\n",
            "\n"
          ],
          "name": "stdout"
        },
        {
          "output_type": "stream",
          "text": [
            "drive/My Drive/Springboard/capstone/util/plot_util.py:267: MatplotlibDeprecationWarning: The 'withdash' parameter of text() is deprecated since Matplotlib 3.1 and will be removed in 3.3.  If any parameter follows 'withdash', they should be pass as keyword, not positionally.\n",
            "  withdash=True)\n",
            "drive/My Drive/Springboard/capstone/util/plot_util.py:267: MatplotlibDeprecationWarning: \n",
            "The TextWithDash class was deprecated in Matplotlib 3.1 and will be removed in 3.3. Use Annotation instead.\n",
            "  withdash=True)\n",
            "drive/My Drive/Springboard/capstone/util/plot_util.py:271: MatplotlibDeprecationWarning: The 'withdash' parameter of text() is deprecated since Matplotlib 3.1 and will be removed in 3.3.  If any parameter follows 'withdash', they should be pass as keyword, not positionally.\n",
            "  withdash=True)\n",
            "drive/My Drive/Springboard/capstone/util/plot_util.py:271: MatplotlibDeprecationWarning: \n",
            "The TextWithDash class was deprecated in Matplotlib 3.1 and will be removed in 3.3. Use Annotation instead.\n",
            "  withdash=True)\n",
            "drive/My Drive/Springboard/capstone/util/plot_util.py:275: MatplotlibDeprecationWarning: The 'withdash' parameter of text() is deprecated since Matplotlib 3.1 and will be removed in 3.3.  If any parameter follows 'withdash', they should be pass as keyword, not positionally.\n",
            "  withdash=True)\n",
            "drive/My Drive/Springboard/capstone/util/plot_util.py:275: MatplotlibDeprecationWarning: \n",
            "The TextWithDash class was deprecated in Matplotlib 3.1 and will be removed in 3.3. Use Annotation instead.\n",
            "  withdash=True)\n"
          ],
          "name": "stderr"
        },
        {
          "output_type": "display_data",
          "data": {
            "image/png": "[encoded data removed]",
            "text/plain": [
              "<Figure size 360x360 with 1 Axes>"
            ]
          },
          "metadata": {
            "tags": []
          }
        }
      ]
    },
    {
      "cell_type": "code",
      "metadata": {
        "id": "YOA18O7wN63j",
        "colab_type": "code",
        "outputId": "6a6221e0-7fc3-484c-955e-62cec23e75a8",
        "colab": {
          "base_uri": "https://localhost:8080/",
          "height": 34
        }
      },
      "source": [
        "print(f'Score: {ru.calculate_metric(mw.crd)}')"
      ],
      "execution_count": 12,
      "outputs": [
        {
          "output_type": "stream",
          "text": [
            "Score: 0.2650666392437057\n"
          ],
          "name": "stdout"
        }
      ]
    },
    {
      "cell_type": "markdown",
      "metadata": {
        "id": "z2ot_Nqg1U4w",
        "colab_type": "text"
      },
      "source": [
        "**Save off various files**"
      ]
    },
    {
      "cell_type": "code",
      "metadata": {
        "id": "Al3bCFrI1P5m",
        "colab_type": "code",
        "outputId": "f82b9cd0-2f98-4d05-8b2f-ac1726515410",
        "colab": {
          "base_uri": "https://localhost:8080/",
          "height": 191
        }
      },
      "source": [
        "mw.save(DRIVE_DIR, append_report=True)"
      ],
      "execution_count": 13,
      "outputs": [
        {
          "output_type": "stream",
          "text": [
            "description: LSTMB16-1x16-glove-sampling_none-497835-100-star_rating\n",
            "Saving to report file: drive/My Drive/Springboard/capstone/reports/glove_embedding-dl_prototype-report.csv\n",
            "Loading to append to: drive/My Drive/Springboard/capstone/reports/glove_embedding-dl_prototype-report.csv\n",
            "{'model_name': 'LSTMB16', 'architecture': '1x16', 'description': '1 Layer 16 LSTM Units, No Dropout, GloVe Embedding, Balanced Weights', 'classification_report': '{\"1\": {\"precision\": 0.6652655889145497, \"recall\": 0.8155719139297848, \"f1-score\": 0.7327906385143729, \"support\": 17660}, \"2\": {\"precision\": 0.3740392826643894, \"recall\": 0.10682926829268292, \"f1-score\": 0.1661923733636881, \"support\": 8200}, \"3\": {\"precision\": 0.3992156862745098, \"recall\": 0.31522604618242944, \"f1-score\": 0.35228396282380864, \"support\": 11303}, \"4\": {\"precision\": 0.5083574563451303, \"recall\": 0.26219717767182005, \"f1-score\": 0.34595831215048295, \"support\": 20763}, \"5\": {\"precision\": 0.77515371197407, \"recall\": 0.9417582252416095, \"f1-score\": 0.850372541834616, \"support\": 66533}, \"accuracy\": 0.6985754344804314, \"macro avg\": {\"precision\": 0.5444063452345298, \"recall\": 0.4883165262636653, \"f1-score\": 0.48951956573739375, \"support\": 124459}, \"weighted avg\": {\"precision\": 0.6544836058855082, \"recall\": 0.6985754344804314, \"f1-score\": 0.659226689356387, \"support\": 124459}}', 'roc_auc': '{\"auc_1\": 0.9601084318520167, \"auc_2\": 0.8863719871464448, \"auc_3\": 0.8532126387128502, \"auc_4\": 0.7752074932607105, \"auc_5\": 0.9053329334856144, \"auc_micro\": 0.923722823036552, \"auc_macro\": 0.8760511312175944}', 'loss': 0.7735733960940095, 'accuracy': 0.69857544, 'confusion_matrix': '[[14403, 704, 1057, 176, 1320], [3971, 876, 1898, 437, 1018], [2019, 567, 3563, 2164, 2990], [588, 139, 1745, 5444, 12847], [669, 56, 662, 2488, 62658]]', 'file': 'drive/My Drive/Springboard/capstone/data/amazon_reviews_us_Wireless_v1_00-500k-preprocessed.csv', 'network_history_file': 'drive/My Drive/Springboard/capstone/models/LSTMB16-1x16-glove-sampling_none-497835-100-star_rating-history.pkl', 'tokenizer_file': 'drive/My Drive/Springboard/capstone/models/LSTMB16-1x16-glove-sampling_none-497835-100-star_rating-tokenizer.pkl', 'max_sequence_length': 100, 'batch_size': 128, 'epochs': 18, 'feature_set_name': 'glove', 'class_weight': '[1.4190206082718126, 3.030958904109589, 2.2082815826827535, 1.2016727615047613, 0.3730861754985499]', 'sampling_type': 'none', 'embedding': 300, 'model_file': 'drive/My Drive/Springboard/capstone/models/LSTMB16-1x16-glove-sampling_none-497835-100-star_rating-model.h5', 'model_json_file': 'drive/My Drive/Springboard/capstone/models/LSTMB16-1x16-glove-sampling_none-497835-100-star_rating-model.json', 'weights_file': 'drive/My Drive/Springboard/capstone/models/LSTMB16-1x16-glove-sampling_none-497835-100-star_rating-weights.h5', 'test_examples': 124459, 'test_features': 100, 'train_examples': 373376, 'train_features': 100, 'train_time_min': 11.93, 'evaluate_time_min': 0.53, 'predict_time_min': 0.35, 'status': 'success', 'status_date': '2020-02-14 03:07:12'}\n",
            "Saving report file...\n",
            "Saving json config file: drive/My Drive/Springboard/capstone/models/LSTMB16-1x16-glove-sampling_none-497835-100-star_rating-model.json\n",
            "Saving weights file: drive/My Drive/Springboard/capstone/models/LSTMB16-1x16-glove-sampling_none-497835-100-star_rating-weights.h5\n",
            "Saving history file: drive/My Drive/Springboard/capstone/models/LSTMB16-1x16-glove-sampling_none-497835-100-star_rating-history.pkl\n",
            "Saving model file: drive/My Drive/Springboard/capstone/models/LSTMB16-1x16-glove-sampling_none-497835-100-star_rating-model.h5\n"
          ],
          "name": "stdout"
        }
      ]
    },
    {
      "cell_type": "markdown",
      "metadata": {
        "id": "wykaRKMPmUfN",
        "colab_type": "text"
      },
      "source": [
        "# Test to make sure our model saved correctly"
      ]
    },
    {
      "cell_type": "code",
      "metadata": {
        "id": "op7AFbnTmULd",
        "colab_type": "code",
        "colab": {
          "base_uri": "https://localhost:8080/",
          "height": 363
        },
        "outputId": "e377c5fa-2706-4613-a31a-326ad4da5d57"
      },
      "source": [
        "from tensorflow.keras.models import load_model\n",
        "\n",
        "# if DEBUG == True:\n",
        "model_loaded = load_model(mw.model_file)\n",
        "scores = model_loaded.evaluate(X_test, y_test, verbose=1)\n",
        "print(\"Accuracy: %.2f%%\" % (scores[1]*100))\n",
        "y_predict = model_loaded.predict(X_test)\n",
        "y_predict_unencoded = ku.unencode(y_predict)\n",
        "y_test_unencoded = ku.unencode(y_test)\n",
        "\n",
        "# classification report\n",
        "print(classification_report(y_test_unencoded, y_predict_unencoded))\n",
        "\n",
        "# confusion matrix\n",
        "print(confusion_matrix(y_test_unencoded, y_predict_unencoded))\n"
      ],
      "execution_count": 14,
      "outputs": [
        {
          "output_type": "stream",
          "text": [
            "124459/124459 [==============================] - 73s 584us/sample - loss: 0.7736 - categorical_accuracy: 0.6986\n",
            "Accuracy: 69.86%\n",
            "              precision    recall  f1-score   support\n",
            "\n",
            "           1       0.67      0.82      0.73     17660\n",
            "           2       0.37      0.11      0.17      8200\n",
            "           3       0.40      0.32      0.35     11303\n",
            "           4       0.51      0.26      0.35     20763\n",
            "           5       0.78      0.94      0.85     66533\n",
            "\n",
            "    accuracy                           0.70    124459\n",
            "   macro avg       0.54      0.49      0.49    124459\n",
            "weighted avg       0.65      0.70      0.66    124459\n",
            "\n",
            "[[14403   704  1057   176  1320]\n",
            " [ 3971   876  1898   437  1018]\n",
            " [ 2019   567  3563  2164  2990]\n",
            " [  588   139  1745  5444 12847]\n",
            " [  669    56   662  2488 62658]]\n"
          ],
          "name": "stdout"
        }
      ]
    },
    {
      "cell_type": "code",
      "metadata": {
        "id": "96A-A5CBJXiy",
        "colab_type": "code",
        "outputId": "e624dedc-77bf-4863-a704-6fcbf1aa3f45",
        "colab": {
          "base_uri": "https://localhost:8080/",
          "height": 34
        }
      },
      "source": [
        "print(datetime.now())"
      ],
      "execution_count": 15,
      "outputs": [
        {
          "output_type": "stream",
          "text": [
            "2020-02-14 03:10:43.810857\n"
          ],
          "name": "stdout"
        }
      ]
    }
  ]
}