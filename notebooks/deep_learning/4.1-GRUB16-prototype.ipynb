{
  "nbformat": 4,
  "nbformat_minor": 0,
  "metadata": {
    "colab": {
      "name": "4.1-GRUB16-prototype.ipynb",
      "provenance": [],
      "collapsed_sections": [],
      "include_colab_link": true
    },
    "kernelspec": {
      "name": "python3",
      "display_name": "Python 3"
    },
    "accelerator": "GPU"
  },
  "cells": [
    {
      "cell_type": "markdown",
      "metadata": {
        "id": "view-in-github",
        "colab_type": "text"
      },
      "source": [
        "<a href=\"https://colab.research.google.com/github/sv650s/amazon-review-classification/blob/master/notebooks/deep_learning/4.1-GRUB16-prototype.ipynb\" target=\"_parent\"><img src=\"https://colab.research.google.com/assets/colab-badge.svg\" alt=\"Open In Colab\"/></a>"
      ]
    },
    {
      "cell_type": "markdown",
      "metadata": {
        "id": "wYIgDlPPzDPh",
        "colab_type": "text"
      },
      "source": [
        "# 1 Layer GRU with Balanced Weights using TensorFlow 2\n",
        "\n",
        "\n"
      ]
    },
    {
      "cell_type": "code",
      "metadata": {
        "id": "a_k5CJnDzleX",
        "colab_type": "code",
        "outputId": "1da56488-25e9-4ab1-b78e-d332d9ac5d95",
        "colab": {
          "base_uri": "https://localhost:8080/",
          "height": 141
        }
      },
      "source": [
        "from google.colab import drive\n",
        "import sys\n",
        "drive.mount('/content/drive')\n",
        "# add this to sys patch so we can import utility functions\n",
        "DRIVE_DIR = 'drive/My Drive/Springboard/capstone'\n",
        "sys.path.append(DRIVE_DIR)\n",
        "\n",
        "\n",
        "%tensorflow_version 2.x\n",
        "\n",
        "\n",
        "import tensorflow as tf\n",
        "# checl to make sure we are using GPU here\n",
        "tf.test.gpu_device_name()"
      ],
      "execution_count": 1,
      "outputs": [
        {
          "output_type": "stream",
          "text": [
            "Go to this URL in a browser: https://accounts.google.com/o/oauth2/auth?client_id=947318989803-6bn6qk8qdgf4n4g3pfee6491hc0brc4i.apps.googleusercontent.com&redirect_uri=urn%3aietf%3awg%3aoauth%3a2.0%3aoob&response_type=code&scope=email%20https%3a%2f%2fwww.googleapis.com%2fauth%2fdocs.test%20https%3a%2f%2fwww.googleapis.com%2fauth%2fdrive%20https%3a%2f%2fwww.googleapis.com%2fauth%2fdrive.photos.readonly%20https%3a%2f%2fwww.googleapis.com%2fauth%2fpeopleapi.readonly\n",
            "\n",
            "Enter your authorization code:\n",
            "··········\n",
            "Mounted at /content/drive\n"
          ],
          "name": "stdout"
        },
        {
          "output_type": "execute_result",
          "data": {
            "text/plain": [
              "'/device:GPU:0'"
            ]
          },
          "metadata": {
            "tags": []
          },
          "execution_count": 1
        }
      ]
    },
    {
      "cell_type": "code",
      "metadata": {
        "id": "k_udVOUia9Oo",
        "colab_type": "code",
        "colab": {}
      },
      "source": [
        ""
      ],
      "execution_count": 0,
      "outputs": []
    },
    {
      "cell_type": "code",
      "metadata": {
        "id": "cejIhV8G2TA7",
        "colab_type": "code",
        "outputId": "cf3cc738-b8e7-43b6-a8f1-53b1c593a3b3",
        "colab": {
          "base_uri": "https://localhost:8080/",
          "height": 227
        }
      },
      "source": [
        "from __future__ import absolute_import, division, print_function, unicode_literals\n",
        "\n",
        "import tensorflow as tf\n",
        "\n",
        "from tensorflow import keras\n",
        "from tensorflow.keras import layers\n",
        "\n",
        "\n",
        "from tensorflow.keras.models import Sequential\n",
        "from tensorflow.keras.layers import Dense, Activation, Dropout, GRU, \\\n",
        "                                    Dropout, Bidirectional, Embedding\n",
        "from tensorflow.keras.optimizers import SGD, Adam\n",
        "from tensorflow.keras.callbacks import EarlyStopping, ReduceLROnPlateau\n",
        "from tensorflow.keras.preprocessing import sequence\n",
        "from tensorflow.keras.preprocessing.text import Tokenizer\n",
        "\n",
        "from sklearn.model_selection import train_test_split\n",
        "from sklearn.preprocessing import OneHotEncoder\n",
        "from sklearn.preprocessing import LabelEncoder\n",
        "from sklearn.metrics import confusion_matrix, classification_report\n",
        "from sklearn.utils.class_weight import compute_class_weight\n",
        "\n",
        "\n",
        "from datetime import datetime\n",
        "\n",
        "\n",
        "import matplotlib.pyplot as plt\n",
        "import pandas as pd\n",
        "import numpy as np\n",
        "import seaborn as sns\n",
        "import logging\n",
        "import importlib\n",
        "import json\n",
        "import re\n",
        "\n",
        "# custom utilities\n",
        "import util.dict_util as du\n",
        "import util.plot_util as pu\n",
        "import util.keras_util as ku\n",
        "import util.file_util as fu\n",
        "import util.report_util as ru\n",
        "\n",
        "import random\n",
        "\n",
        "# fix random seeds\n",
        "RSTATE = 1\n",
        "tf.compat.v1.reset_default_graph()\n",
        "tf.compat.v1.set_random_seed(RSTATE)\n",
        "random.seed(RSTATE)\n",
        "np.random.seed(RSTATE)\n",
        "\n",
        "\n",
        "logging.basicConfig(level=logging.ERROR)\n",
        "\n",
        "%matplotlib inline\n",
        "sns.set()\n",
        "\n",
        "import random\n",
        "\n",
        "RSTATE = 1\n",
        "# fix random seeds\n",
        "tf.compat.v1.reset_default_graph()\n",
        "tf.compat.v1.set_random_seed(RSTATE)\n",
        "random.seed(RSTATE)\n",
        "np.random.seed(RSTATE)\n",
        "\n",
        "\n",
        "\n",
        "\n",
        "# check to see if we are using GPU - must be placed at the beginning of the program\n",
        "tf.debugging.set_log_device_placement(True)\n",
        "print(\"GPU Available: \", tf.test.is_gpu_available())\n",
        "print(f'Tensorflow Version: {tf.version.VERSION}')\n",
        "print(f'Keras Version: {tf.keras.__version__}')\n",
        "\n",
        "\n",
        "DATE_FORMAT = '%Y-%m-%d'\n",
        "TIME_FORMAT = '%Y-%m-%d %H:%M:%S'\n",
        "LABEL_COLUMN = \"star_rating\"\n",
        "FEATURE_COLUMN = \"review_body\"\n",
        "\n",
        "\n",
        "DEBUG = False\n",
        "\n",
        "REPORT_DIR = f'{DRIVE_DIR}/reports'\n",
        "\n",
        "GRU_DIM = 16 # total GRU units\n",
        "SAMPLES = \"200k\"\n",
        "\n",
        "\n",
        "MODEL_NAME = f\"GRU{GRU_DIM}\"\n",
        "ARCHITECTURE = f\"1x{GRU_DIM}\"\n",
        "DESCRIPTION = r\"1 Layer GRU ({GRU_DIM} units)\"\n",
        "FEATURE_SET_NAME = \"random_embedding\"\n",
        "REPORT_FILE = \"dl_prototype-report.csv\"\n",
        "\n",
        "if DEBUG:\n",
        "  DATA_FILE = f\"{DRIVE_DIR}/data/amazon_reviews_us_Wireless_v1_00-test1k-preprocessed.csv\"\n",
        "  MODEL_NAME = f'test-{MODEL_NAME}'\n",
        "  REPORT_FILE = f'test-{REPORT_FILE}'\n",
        "else:\n",
        "  DATA_FILE = f\"{DRIVE_DIR}/data/amazon_reviews_us_Wireless_v1_00-{SAMPLES}-with_stop_nonlemmatized-preprocessed.csv\"\n",
        "\n",
        "ku.ModelWrapper.set_report_filename(REPORT_FILE)\n",
        "\n",
        "LEARNING_RATE = 0.01\n",
        "EMBED_SIZE = 300\n",
        "EPOCHS  = 20\n",
        "BATCH_SIZE = 128\n",
        "# from our previous notebook, we saw that 90% of our reviews have 100 or less\n",
        "MAX_SEQUENCE_LENGTH = 100\n",
        "PATIENCE = 4\n",
        "\n",
        "\n",
        "start_time = datetime.now()"
      ],
      "execution_count": 2,
      "outputs": [
        {
          "output_type": "stream",
          "text": [
            "/usr/local/lib/python3.6/dist-packages/statsmodels/tools/_testing.py:19: FutureWarning: pandas.util.testing is deprecated. Use the functions in the public API at pandas.testing instead.\n",
            "  import pandas.util.testing as tm\n"
          ],
          "name": "stderr"
        },
        {
          "output_type": "stream",
          "text": [
            "WARNING:tensorflow:From <ipython-input-2-df104c0fda90>:71: is_gpu_available (from tensorflow.python.framework.test_util) is deprecated and will be removed in a future version.\n",
            "Instructions for updating:\n",
            "Use `tf.config.list_physical_devices('GPU')` instead.\n"
          ],
          "name": "stdout"
        },
        {
          "output_type": "stream",
          "text": [
            "WARNING:tensorflow:From <ipython-input-2-df104c0fda90>:71: is_gpu_available (from tensorflow.python.framework.test_util) is deprecated and will be removed in a future version.\n",
            "Instructions for updating:\n",
            "Use `tf.config.list_physical_devices('GPU')` instead.\n"
          ],
          "name": "stderr"
        },
        {
          "output_type": "stream",
          "text": [
            "GPU Available:  True\n",
            "Tensorflow Version: 2.2.0-rc3\n",
            "Keras Version: 2.3.0-tf\n"
          ],
          "name": "stdout"
        }
      ]
    },
    {
      "cell_type": "code",
      "metadata": {
        "id": "4mQJffiK5PAg",
        "colab_type": "code",
        "colab": {}
      },
      "source": [
        "\n",
        "df = pd.read_csv(DATA_FILE)\n",
        "\n",
        "rating = df[LABEL_COLUMN]\n",
        "reviews = df[FEATURE_COLUMN]\n",
        "\n"
      ],
      "execution_count": 0,
      "outputs": []
    },
    {
      "cell_type": "markdown",
      "metadata": {
        "id": "X88WVRLDcTb9",
        "colab_type": "text"
      },
      "source": [
        "# Pre-process our data\n"
      ]
    },
    {
      "cell_type": "code",
      "metadata": {
        "id": "2Nnj_ujhOtiJ",
        "colab_type": "code",
        "outputId": "dab7cd21-1dd7-46cc-c8f7-e9ca20a99301",
        "colab": {
          "base_uri": "https://localhost:8080/",
          "height": 155
        }
      },
      "source": [
        "\n",
        "X_train, X_test, y_train, y_test, tokenizer = \\\n",
        "                                  ku.preprocess_file(data_df=df, \n",
        "                                                      feature_column=FEATURE_COLUMN, \n",
        "                                                      label_column=LABEL_COLUMN, \n",
        "                                                     report_dir = REPORT_DIR,\n",
        "                                                      max_sequence_length = MAX_SEQUENCE_LENGTH)"
      ],
      "execution_count": 4,
      "outputs": [
        {
          "output_type": "stream",
          "text": [
            "Vocabulary size=57430\n",
            "Number of Documents=199538\n",
            "Splitting data into training and test sets...\n",
            "Training X type <class 'numpy.ndarray'> y type <class 'pandas.core.series.Series'>\n",
            "Training X shape (149653, 100) y shape (149653,)\n",
            "Test X shape (49885, 100) y shape (49885,)\n",
            "Shape of y_train (149653,)\n",
            "One hot enocde label data...\n"
          ],
          "name": "stdout"
        }
      ]
    },
    {
      "cell_type": "code",
      "metadata": {
        "id": "L3ZwOrAYMgGa",
        "colab_type": "code",
        "outputId": "2088db56-6da9-4982-faf1-9e0e95f7fd58",
        "colab": {
          "base_uri": "https://localhost:8080/",
          "height": 35
        }
      },
      "source": [
        "np.shape(X_train)"
      ],
      "execution_count": 5,
      "outputs": [
        {
          "output_type": "execute_result",
          "data": {
            "text/plain": [
              "(149653, 100)"
            ]
          },
          "metadata": {
            "tags": []
          },
          "execution_count": 5
        }
      ]
    },
    {
      "cell_type": "code",
      "metadata": {
        "id": "L6J5GAr9BDZV",
        "colab_type": "code",
        "outputId": "1643af17-1804-49b9-8844-3b6a648f206d",
        "colab": {
          "base_uri": "https://localhost:8080/",
          "height": 553
        }
      },
      "source": [
        "# Might have to play with this\n",
        "vocab_size = len(tokenizer.word_counts)\n",
        "\n",
        "\n",
        "# use functional syntax to create our graph\n",
        "inp = layers.Input(shape=(MAX_SEQUENCE_LENGTH, ))\n",
        "# since we are using OOV - we have to add 2 since there is an extra index plus\n",
        "# we add 1 according to documentation\n",
        "x = Embedding(vocab_size + 2, EMBED_SIZE, trainable=True)(inp)\n",
        "x = GRU(units=GRU_DIM, return_sequences=False)(x)\n",
        "outp = Dense(5, activation='softmax')(x)\n",
        "\n",
        "model = keras.models.Model(inputs=inp, outputs=outp)\n",
        "\n",
        "model.compile(loss='categorical_crossentropy', \n",
        "              optimizer=Adam(learning_rate = LEARNING_RATE), \n",
        "              metrics=['categorical_accuracy'])"
      ],
      "execution_count": 6,
      "outputs": [
        {
          "output_type": "stream",
          "text": [
            "Executing op RandomUniform in device /job:localhost/replica:0/task:0/device:CPU:0\n",
            "Executing op Sub in device /job:localhost/replica:0/task:0/device:CPU:0\n",
            "Executing op Mul in device /job:localhost/replica:0/task:0/device:CPU:0\n",
            "Executing op Add in device /job:localhost/replica:0/task:0/device:CPU:0\n",
            "Executing op VarHandleOp in device /job:localhost/replica:0/task:0/device:CPU:0\n",
            "Executing op VarIsInitializedOp in device /job:localhost/replica:0/task:0/device:CPU:0\n",
            "Executing op LogicalNot in device /job:localhost/replica:0/task:0/device:CPU:0\n",
            "Executing op Assert in device /job:localhost/replica:0/task:0/device:CPU:0\n",
            "Executing op AssignVariableOp in device /job:localhost/replica:0/task:0/device:CPU:0\n",
            "Executing op RandomUniform in device /job:localhost/replica:0/task:0/device:GPU:0\n",
            "Executing op Sub in device /job:localhost/replica:0/task:0/device:GPU:0\n",
            "Executing op Mul in device /job:localhost/replica:0/task:0/device:GPU:0\n",
            "Executing op Add in device /job:localhost/replica:0/task:0/device:GPU:0\n",
            "Executing op VarHandleOp in device /job:localhost/replica:0/task:0/device:GPU:0\n",
            "Executing op VarIsInitializedOp in device /job:localhost/replica:0/task:0/device:GPU:0\n",
            "Executing op LogicalNot in device /job:localhost/replica:0/task:0/device:GPU:0\n",
            "Executing op Assert in device /job:localhost/replica:0/task:0/device:GPU:0\n",
            "Executing op AssignVariableOp in device /job:localhost/replica:0/task:0/device:GPU:0\n",
            "Executing op RandomStandardNormal in device /job:localhost/replica:0/task:0/device:GPU:0\n",
            "Executing op Qr in device /job:localhost/replica:0/task:0/device:GPU:0\n",
            "Executing op DiagPart in device /job:localhost/replica:0/task:0/device:GPU:0\n",
            "Executing op Sign in device /job:localhost/replica:0/task:0/device:GPU:0\n",
            "Executing op Transpose in device /job:localhost/replica:0/task:0/device:GPU:0\n",
            "Executing op Reshape in device /job:localhost/replica:0/task:0/device:GPU:0\n",
            "Executing op VarHandleOp in device /job:localhost/replica:0/task:0/device:GPU:0\n",
            "Executing op Fill in device /job:localhost/replica:0/task:0/device:GPU:0\n",
            "Executing op VarHandleOp in device /job:localhost/replica:0/task:0/device:GPU:0\n",
            "Executing op RandomUniform in device /job:localhost/replica:0/task:0/device:GPU:0\n",
            "Executing op VarHandleOp in device /job:localhost/replica:0/task:0/device:GPU:0\n",
            "Executing op VarHandleOp in device /job:localhost/replica:0/task:0/device:GPU:0\n",
            "Executing op VarHandleOp in device /job:localhost/replica:0/task:0/device:GPU:0\n"
          ],
          "name": "stdout"
        }
      ]
    },
    {
      "cell_type": "code",
      "metadata": {
        "id": "-QL-kgLzIiL3",
        "colab_type": "code",
        "outputId": "38bdec3b-3b18-4195-d33e-335e7c3f986a",
        "colab": {
          "base_uri": "https://localhost:8080/",
          "height": 294
        }
      },
      "source": [
        "model.summary()"
      ],
      "execution_count": 7,
      "outputs": [
        {
          "output_type": "stream",
          "text": [
            "Model: \"model\"\n",
            "_________________________________________________________________\n",
            "Layer (type)                 Output Shape              Param #   \n",
            "=================================================================\n",
            "input_1 (InputLayer)         [(None, 100)]             0         \n",
            "_________________________________________________________________\n",
            "embedding (Embedding)        (None, 100, 300)          17229300  \n",
            "_________________________________________________________________\n",
            "gru (GRU)                    (None, 16)                15264     \n",
            "_________________________________________________________________\n",
            "dense (Dense)                (None, 5)                 85        \n",
            "=================================================================\n",
            "Total params: 17,244,649\n",
            "Trainable params: 17,244,649\n",
            "Non-trainable params: 0\n",
            "_________________________________________________________________\n"
          ],
          "name": "stdout"
        }
      ]
    },
    {
      "cell_type": "code",
      "metadata": {
        "id": "uYB-5-t1AFBF",
        "colab_type": "code",
        "outputId": "1057ab64-9bc0-4edc-cf40-48436a725328",
        "colab": {
          "base_uri": "https://localhost:8080/",
          "height": 1000
        }
      },
      "source": [
        "reduce_lr = ReduceLROnPlateau(monitor='val_loss', \n",
        "                              restore_best_weights = True)\n",
        "\n",
        "\n",
        "early_stop = EarlyStopping(monitor='val_loss', \n",
        "                           patience=PATIENCE, \n",
        "                           verbose=1, \n",
        "                           restore_best_weights=True)\n",
        "\n",
        "weights = compute_class_weight('balanced', np.arange(1, 6), rating)\n",
        "weights_dict = {i: weights[i] for i in np.arange(0, len(weights))}\n",
        "print(f'class weights: {weights}')\n",
        "print(f'class weights_dict: {weights_dict}')\n",
        "\n",
        "\n",
        "mw = ku.ModelWrapper(model, \n",
        "                     MODEL_NAME,\n",
        "                     ARCHITECTURE,\n",
        "                     FEATURE_SET_NAME,\n",
        "                     LABEL_COLUMN,\n",
        "                     FEATURE_COLUMN,\n",
        "                     DATA_FILE,\n",
        "                     embed_size=EMBED_SIZE,\n",
        "                     tokenizer=tokenizer,\n",
        "                     description=DESCRIPTION)\n",
        "\n",
        "history = mw.fit(X_train, \n",
        "                y_train,\n",
        "                batch_size=BATCH_SIZE,\n",
        "                epochs=EPOCHS,\n",
        "                verbose=1,\n",
        "                validation_split=0.2,\n",
        "                class_weight=weights_dict,\n",
        "                callbacks=[early_stop, reduce_lr])"
      ],
      "execution_count": 8,
      "outputs": [
        {
          "output_type": "stream",
          "text": [
            "class weights: [1.43769724 3.07691596 2.18277088 1.19627098 0.37238702]\n",
            "class weights_dict: {0: 1.4376972404351898, 1: 3.076915959907479, 2: 2.182770880052508, 3: 1.1962709832134293, 4: 0.372387022124348}\n",
            "Number of training examples: 149653\n",
            "Executing op Range in device /job:localhost/replica:0/task:0/device:GPU:0\n",
            "Executing op StridedSlice in device /job:localhost/replica:0/task:0/device:GPU:0\n",
            "Executing op StridedSlice in device /job:localhost/replica:0/task:0/device:GPU:0\n",
            "Executing op GatherV2 in device /job:localhost/replica:0/task:0/device:GPU:0\n",
            "Executing op GatherV2 in device /job:localhost/replica:0/task:0/device:GPU:0\n",
            "Executing op RangeDataset in device /job:localhost/replica:0/task:0/device:CPU:0\n",
            "Executing op RepeatDataset in device /job:localhost/replica:0/task:0/device:CPU:0\n",
            "Executing op MapDataset in device /job:localhost/replica:0/task:0/device:CPU:0\n",
            "Executing op PrefetchDataset in device /job:localhost/replica:0/task:0/device:CPU:0\n",
            "Executing op FlatMapDataset in device /job:localhost/replica:0/task:0/device:CPU:0\n",
            "Executing op TensorDataset in device /job:localhost/replica:0/task:0/device:CPU:0\n",
            "Executing op RepeatDataset in device /job:localhost/replica:0/task:0/device:CPU:0\n",
            "Executing op ZipDataset in device /job:localhost/replica:0/task:0/device:CPU:0\n",
            "Executing op ParallelMapDataset in device /job:localhost/replica:0/task:0/device:CPU:0\n",
            "Executing op MapDataset in device /job:localhost/replica:0/task:0/device:CPU:0\n",
            "Executing op ModelDataset in device /job:localhost/replica:0/task:0/device:CPU:0\n",
            "Executing op AnonymousIteratorV2 in device /job:localhost/replica:0/task:0/device:CPU:0\n",
            "Executing op MakeIterator in device /job:localhost/replica:0/task:0/device:CPU:0\n",
            "Epoch 1/20\n",
            "Executing op Fill in device /job:localhost/replica:0/task:0/device:GPU:0\n",
            "Executing op VarHandleOp in device /job:localhost/replica:0/task:0/device:GPU:0\n",
            "Executing op AssignVariableOp in device /job:localhost/replica:0/task:0/device:GPU:0\n",
            "Executing op VarHandleOp in device /job:localhost/replica:0/task:0/device:GPU:0\n",
            "Executing op VarHandleOp in device /job:localhost/replica:0/task:0/device:GPU:0\n",
            "Executing op VarHandleOp in device /job:localhost/replica:0/task:0/device:GPU:0\n",
            "Executing op VarHandleOp in device /job:localhost/replica:0/task:0/device:GPU:0\n",
            "Executing op VarHandleOp in device /job:localhost/replica:0/task:0/device:CPU:0\n",
            "Executing op VarHandleOp in device /job:localhost/replica:0/task:0/device:GPU:0\n",
            "Executing op LogicalNot in device /job:localhost/replica:0/task:0/device:GPU:0\n",
            "Executing op Assert in device /job:localhost/replica:0/task:0/device:GPU:0\n",
            "Executing op VarHandleOp in device /job:localhost/replica:0/task:0/device:GPU:0\n",
            "Executing op VarHandleOp in device /job:localhost/replica:0/task:0/device:GPU:0\n",
            "Executing op VarHandleOp in device /job:localhost/replica:0/task:0/device:GPU:0\n",
            "Executing op VarHandleOp in device /job:localhost/replica:0/task:0/device:GPU:0\n",
            "Executing op VarHandleOp in device /job:localhost/replica:0/task:0/device:CPU:0\n",
            "Executing op VarHandleOp in device /job:localhost/replica:0/task:0/device:GPU:0\n",
            "Executing op VarHandleOp in device /job:localhost/replica:0/task:0/device:GPU:0\n",
            "Executing op VarHandleOp in device /job:localhost/replica:0/task:0/device:GPU:0\n",
            "Executing op VarHandleOp in device /job:localhost/replica:0/task:0/device:GPU:0\n",
            "Executing op VarHandleOp in device /job:localhost/replica:0/task:0/device:GPU:0\n",
            "Executing op VarHandleOp in device /job:localhost/replica:0/task:0/device:GPU:0\n",
            "Executing op VarHandleOp in device /job:localhost/replica:0/task:0/device:GPU:0\n",
            "Executing op __inference_train_function_3264 in device /job:localhost/replica:0/task:0/device:GPU:0\n",
            "936/936 [==============================] - ETA: 0s - loss: 1.1563 - categorical_accuracy: 0.5759Executing op RangeDataset in device /job:localhost/replica:0/task:0/device:CPU:0\n",
            "Executing op RepeatDataset in device /job:localhost/replica:0/task:0/device:CPU:0\n",
            "Executing op MapDataset in device /job:localhost/replica:0/task:0/device:CPU:0\n",
            "Executing op PrefetchDataset in device /job:localhost/replica:0/task:0/device:CPU:0\n",
            "Executing op FlatMapDataset in device /job:localhost/replica:0/task:0/device:CPU:0\n",
            "Executing op TensorDataset in device /job:localhost/replica:0/task:0/device:CPU:0\n",
            "Executing op RepeatDataset in device /job:localhost/replica:0/task:0/device:CPU:0\n",
            "Executing op ZipDataset in device /job:localhost/replica:0/task:0/device:CPU:0\n",
            "Executing op ParallelMapDataset in device /job:localhost/replica:0/task:0/device:CPU:0\n",
            "Executing op ModelDataset in device /job:localhost/replica:0/task:0/device:CPU:0\n",
            "Executing op AnonymousIteratorV2 in device /job:localhost/replica:0/task:0/device:CPU:0\n",
            "Executing op __inference_test_function_5675 in device /job:localhost/replica:0/task:0/device:GPU:0\n",
            "Executing op DeleteIterator in device /job:localhost/replica:0/task:0/device:CPU:0\n",
            "Executing op ReadVariableOp in device /job:localhost/replica:0/task:0/device:CPU:0\n",
            "Executing op Identity in device /job:localhost/replica:0/task:0/device:GPU:0\n",
            "Executing op ReadVariableOp in device /job:localhost/replica:0/task:0/device:GPU:0\n",
            "936/936 [==============================] - 157s 168ms/step - loss: 1.1563 - categorical_accuracy: 0.5759 - val_loss: 0.9811 - val_categorical_accuracy: 0.5993 - lr: 0.0100\n",
            "Epoch 2/20\n",
            "936/936 [==============================] - ETA: 0s - loss: 1.0473 - categorical_accuracy: 0.6202Executing op RangeDataset in device /job:localhost/replica:0/task:0/device:CPU:0\n",
            "Executing op RepeatDataset in device /job:localhost/replica:0/task:0/device:CPU:0\n",
            "Executing op MapDataset in device /job:localhost/replica:0/task:0/device:CPU:0\n",
            "Executing op PrefetchDataset in device /job:localhost/replica:0/task:0/device:CPU:0\n",
            "Executing op FlatMapDataset in device /job:localhost/replica:0/task:0/device:CPU:0\n",
            "Executing op TensorDataset in device /job:localhost/replica:0/task:0/device:CPU:0\n",
            "Executing op RepeatDataset in device /job:localhost/replica:0/task:0/device:CPU:0\n",
            "Executing op ZipDataset in device /job:localhost/replica:0/task:0/device:CPU:0\n",
            "Executing op ParallelMapDataset in device /job:localhost/replica:0/task:0/device:CPU:0\n",
            "Executing op ModelDataset in device /job:localhost/replica:0/task:0/device:CPU:0\n",
            "936/936 [==============================] - 156s 167ms/step - loss: 1.0473 - categorical_accuracy: 0.6202 - val_loss: 0.9443 - val_categorical_accuracy: 0.6162 - lr: 0.0100\n",
            "Epoch 3/20\n",
            "936/936 [==============================] - ETA: 0s - loss: 1.0092 - categorical_accuracy: 0.6339Executing op RangeDataset in device /job:localhost/replica:0/task:0/device:CPU:0\n",
            "Executing op RepeatDataset in device /job:localhost/replica:0/task:0/device:CPU:0\n",
            "Executing op MapDataset in device /job:localhost/replica:0/task:0/device:CPU:0\n",
            "Executing op PrefetchDataset in device /job:localhost/replica:0/task:0/device:CPU:0\n",
            "Executing op FlatMapDataset in device /job:localhost/replica:0/task:0/device:CPU:0\n",
            "Executing op TensorDataset in device /job:localhost/replica:0/task:0/device:CPU:0\n",
            "Executing op RepeatDataset in device /job:localhost/replica:0/task:0/device:CPU:0\n",
            "Executing op ZipDataset in device /job:localhost/replica:0/task:0/device:CPU:0\n",
            "Executing op ParallelMapDataset in device /job:localhost/replica:0/task:0/device:CPU:0\n",
            "Executing op ModelDataset in device /job:localhost/replica:0/task:0/device:CPU:0\n",
            "936/936 [==============================] - 155s 166ms/step - loss: 1.0092 - categorical_accuracy: 0.6339 - val_loss: 0.9953 - val_categorical_accuracy: 0.5811 - lr: 0.0100\n",
            "Epoch 4/20\n",
            "936/936 [==============================] - ETA: 0s - loss: 0.9817 - categorical_accuracy: 0.6444Executing op RangeDataset in device /job:localhost/replica:0/task:0/device:CPU:0\n",
            "Executing op RepeatDataset in device /job:localhost/replica:0/task:0/device:CPU:0\n",
            "Executing op MapDataset in device /job:localhost/replica:0/task:0/device:CPU:0\n",
            "Executing op PrefetchDataset in device /job:localhost/replica:0/task:0/device:CPU:0\n",
            "Executing op FlatMapDataset in device /job:localhost/replica:0/task:0/device:CPU:0\n",
            "Executing op TensorDataset in device /job:localhost/replica:0/task:0/device:CPU:0\n",
            "Executing op RepeatDataset in device /job:localhost/replica:0/task:0/device:CPU:0\n",
            "Executing op ZipDataset in device /job:localhost/replica:0/task:0/device:CPU:0\n",
            "Executing op ParallelMapDataset in device /job:localhost/replica:0/task:0/device:CPU:0\n",
            "Executing op ModelDataset in device /job:localhost/replica:0/task:0/device:CPU:0\n",
            "936/936 [==============================] - 155s 165ms/step - loss: 0.9817 - categorical_accuracy: 0.6444 - val_loss: 1.0673 - val_categorical_accuracy: 0.5679 - lr: 0.0100\n",
            "Epoch 5/20\n",
            "936/936 [==============================] - ETA: 0s - loss: 0.9588 - categorical_accuracy: 0.6507Executing op RangeDataset in device /job:localhost/replica:0/task:0/device:CPU:0\n",
            "Executing op RepeatDataset in device /job:localhost/replica:0/task:0/device:CPU:0\n",
            "Executing op MapDataset in device /job:localhost/replica:0/task:0/device:CPU:0\n",
            "Executing op PrefetchDataset in device /job:localhost/replica:0/task:0/device:CPU:0\n",
            "Executing op FlatMapDataset in device /job:localhost/replica:0/task:0/device:CPU:0\n",
            "Executing op TensorDataset in device /job:localhost/replica:0/task:0/device:CPU:0\n",
            "Executing op RepeatDataset in device /job:localhost/replica:0/task:0/device:CPU:0\n",
            "Executing op ZipDataset in device /job:localhost/replica:0/task:0/device:CPU:0\n",
            "Executing op ParallelMapDataset in device /job:localhost/replica:0/task:0/device:CPU:0\n",
            "Executing op ModelDataset in device /job:localhost/replica:0/task:0/device:CPU:0\n",
            "936/936 [==============================] - 156s 166ms/step - loss: 0.9588 - categorical_accuracy: 0.6507 - val_loss: 1.0696 - val_categorical_accuracy: 0.5658 - lr: 0.0100\n",
            "Epoch 6/20\n",
            "936/936 [==============================] - ETA: 0s - loss: 0.9460 - categorical_accuracy: 0.6539Executing op RangeDataset in device /job:localhost/replica:0/task:0/device:CPU:0\n",
            "Executing op RepeatDataset in device /job:localhost/replica:0/task:0/device:CPU:0\n",
            "Executing op MapDataset in device /job:localhost/replica:0/task:0/device:CPU:0\n",
            "Executing op PrefetchDataset in device /job:localhost/replica:0/task:0/device:CPU:0\n",
            "Executing op FlatMapDataset in device /job:localhost/replica:0/task:0/device:CPU:0\n",
            "Executing op TensorDataset in device /job:localhost/replica:0/task:0/device:CPU:0\n",
            "Executing op RepeatDataset in device /job:localhost/replica:0/task:0/device:CPU:0\n",
            "Executing op ZipDataset in device /job:localhost/replica:0/task:0/device:CPU:0\n",
            "Executing op ParallelMapDataset in device /job:localhost/replica:0/task:0/device:CPU:0\n",
            "Executing op ModelDataset in device /job:localhost/replica:0/task:0/device:CPU:0\n",
            "Restoring model weights from the end of the best epoch.\n",
            "936/936 [==============================] - 156s 166ms/step - loss: 0.9460 - categorical_accuracy: 0.6539 - val_loss: 1.0577 - val_categorical_accuracy: 0.5797 - lr: 0.0100\n",
            "Epoch 00006: early stopping\n"
          ],
          "name": "stdout"
        }
      ]
    },
    {
      "cell_type": "code",
      "metadata": {
        "id": "nD2ABmiSY18E",
        "colab_type": "code",
        "colab": {}
      },
      "source": [
        ""
      ],
      "execution_count": 0,
      "outputs": []
    },
    {
      "cell_type": "code",
      "metadata": {
        "id": "-Wc39JRBxHDL",
        "colab_type": "code",
        "outputId": "f1e2d35f-5a81-44da-a882-45605bb17382",
        "colab": {
          "base_uri": "https://localhost:8080/",
          "height": 1000
        }
      },
      "source": [
        "importlib.reload(pu)\n",
        "\n",
        "scores = mw.evaluate(X_test, y_test)\n",
        "print(\"Accuracy: %.2f%%\" % (mw.scores[1]*100))\n",
        "\n",
        "\n",
        "\n",
        "pu.plot_network_history(mw.network_history, \"categorical_accuracy\", \"val_categorical_accuracy\")\n",
        "plt.show()\n",
        "\n",
        "print(\"\\nConfusion Matrix\")\n",
        "print(mw.confusion_matrix)\n",
        "\n",
        "print(\"\\nClassification Report\")\n",
        "print(mw.classification_report)\n",
        "\n",
        "fig = plt.figure(figsize=(5,5))\n",
        "pu.plot_roc_auc(mw.model_name, mw.roc_auc, mw.fpr, mw.tpr)\n",
        "\n"
      ],
      "execution_count": 9,
      "outputs": [
        {
          "output_type": "stream",
          "text": [
            "Number of test: 49885\n",
            "Running model.evaluate...\n",
            "Executing op RangeDataset in device /job:localhost/replica:0/task:0/device:CPU:0\n",
            "Executing op RepeatDataset in device /job:localhost/replica:0/task:0/device:CPU:0\n",
            "Executing op MapDataset in device /job:localhost/replica:0/task:0/device:CPU:0\n",
            "Executing op PrefetchDataset in device /job:localhost/replica:0/task:0/device:CPU:0\n",
            "Executing op FlatMapDataset in device /job:localhost/replica:0/task:0/device:CPU:0\n",
            "Executing op TensorDataset in device /job:localhost/replica:0/task:0/device:CPU:0\n",
            "Executing op RepeatDataset in device /job:localhost/replica:0/task:0/device:CPU:0\n",
            "Executing op ZipDataset in device /job:localhost/replica:0/task:0/device:CPU:0\n",
            "Executing op ParallelMapDataset in device /job:localhost/replica:0/task:0/device:CPU:0\n",
            "Executing op ModelDataset in device /job:localhost/replica:0/task:0/device:CPU:0\n",
            "Executing op AnonymousIteratorV2 in device /job:localhost/replica:0/task:0/device:CPU:0\n",
            "Executing op __inference_test_function_18728 in device /job:localhost/replica:0/task:0/device:GPU:0\n",
            "1559/1559 [==============================] - 6s 4ms/step - loss: 0.9444 - categorical_accuracy: 0.6173\n",
            "Running model.predict...\n",
            "Executing op RangeDataset in device /job:localhost/replica:0/task:0/device:CPU:0\n",
            "Executing op RepeatDataset in device /job:localhost/replica:0/task:0/device:CPU:0\n",
            "Executing op MapDataset in device /job:localhost/replica:0/task:0/device:CPU:0\n",
            "Executing op PrefetchDataset in device /job:localhost/replica:0/task:0/device:CPU:0\n",
            "Executing op FlatMapDataset in device /job:localhost/replica:0/task:0/device:CPU:0\n",
            "Executing op TensorDataset in device /job:localhost/replica:0/task:0/device:CPU:0\n",
            "Executing op RepeatDataset in device /job:localhost/replica:0/task:0/device:CPU:0\n",
            "Executing op ZipDataset in device /job:localhost/replica:0/task:0/device:CPU:0\n",
            "Executing op ParallelMapDataset in device /job:localhost/replica:0/task:0/device:CPU:0\n",
            "Executing op ModelDataset in device /job:localhost/replica:0/task:0/device:CPU:0\n",
            "Executing op AnonymousIteratorV2 in device /job:localhost/replica:0/task:0/device:CPU:0\n",
            "Executing op __inference_predict_function_22306 in device /job:localhost/replica:0/task:0/device:GPU:0\n",
            "Executing op ConcatV2 in device /job:localhost/replica:0/task:0/device:GPU:0\n",
            "Unencode predictions...\n",
            "Generating confusion matrix...\n",
            "Calculating ROC AUC...\n",
            "(49885, 5)\n",
            "Getting classification report...\n",
            "Accuracy: 61.73%\n"
          ],
          "name": "stdout"
        },
        {
          "output_type": "display_data",
          "data": {
            "image/png": "[encoded data removed]",
            "text/plain": [
              "<Figure size 720x360 with 2 Axes>"
            ]
          },
          "metadata": {
            "tags": []
          }
        },
        {
          "output_type": "stream",
          "text": [
            "\n",
            "Confusion Matrix\n",
            "[[ 4775  1110   713   180   180]\n",
            " [ 1146   836   875   237   139]\n",
            " [  559   718  1858  1057   362]\n",
            " [  239   290  1524  3383  2932]\n",
            " [  577   299  1153  4800 19943]]\n",
            "\n",
            "Classification Report\n",
            "              precision    recall  f1-score   support\n",
            "\n",
            "           1       0.65      0.69      0.67      6958\n",
            "           2       0.26      0.26      0.26      3233\n",
            "           3       0.30      0.41      0.35      4554\n",
            "           4       0.35      0.40      0.38      8368\n",
            "           5       0.85      0.74      0.79     26772\n",
            "\n",
            "    accuracy                           0.62     49885\n",
            "   macro avg       0.48      0.50      0.49     49885\n",
            "weighted avg       0.65      0.62      0.63     49885\n",
            "\n"
          ],
          "name": "stdout"
        },
        {
          "output_type": "stream",
          "text": [
            "drive/My Drive/Springboard/capstone/util/plot_util.py:267: MatplotlibDeprecationWarning: The 'withdash' parameter of text() is deprecated since Matplotlib 3.1 and will be removed in 3.3.  If any parameter follows 'withdash', they should be pass as keyword, not positionally.\n",
            "  withdash=True)\n",
            "drive/My Drive/Springboard/capstone/util/plot_util.py:267: MatplotlibDeprecationWarning: \n",
            "The TextWithDash class was deprecated in Matplotlib 3.1 and will be removed in 3.3. Use Annotation instead.\n",
            "  withdash=True)\n",
            "drive/My Drive/Springboard/capstone/util/plot_util.py:271: MatplotlibDeprecationWarning: The 'withdash' parameter of text() is deprecated since Matplotlib 3.1 and will be removed in 3.3.  If any parameter follows 'withdash', they should be pass as keyword, not positionally.\n",
            "  withdash=True)\n",
            "drive/My Drive/Springboard/capstone/util/plot_util.py:271: MatplotlibDeprecationWarning: \n",
            "The TextWithDash class was deprecated in Matplotlib 3.1 and will be removed in 3.3. Use Annotation instead.\n",
            "  withdash=True)\n",
            "drive/My Drive/Springboard/capstone/util/plot_util.py:275: MatplotlibDeprecationWarning: The 'withdash' parameter of text() is deprecated since Matplotlib 3.1 and will be removed in 3.3.  If any parameter follows 'withdash', they should be pass as keyword, not positionally.\n",
            "  withdash=True)\n",
            "drive/My Drive/Springboard/capstone/util/plot_util.py:275: MatplotlibDeprecationWarning: \n",
            "The TextWithDash class was deprecated in Matplotlib 3.1 and will be removed in 3.3. Use Annotation instead.\n",
            "  withdash=True)\n"
          ],
          "name": "stderr"
        },
        {
          "output_type": "display_data",
          "data": {
            "image/png": "[encoded data removed]",
            "text/plain": [
              "<Figure size 360x360 with 1 Axes>"
            ]
          },
          "metadata": {
            "tags": []
          }
        }
      ]
    },
    {
      "cell_type": "code",
      "metadata": {
        "id": "AjSe9jrdUs4C",
        "colab_type": "code",
        "outputId": "f0b4633b-7ce9-4433-bd70-7306b2380c77",
        "colab": {
          "base_uri": "https://localhost:8080/",
          "height": 35
        }
      },
      "source": [
        "print(f'Score: {ru.calculate_metric(mw.crd)}')"
      ],
      "execution_count": 10,
      "outputs": [
        {
          "output_type": "stream",
          "text": [
            "Score: 0.43744031438362196\n"
          ],
          "name": "stdout"
        }
      ]
    },
    {
      "cell_type": "markdown",
      "metadata": {
        "id": "45HR9tBDmFx2",
        "colab_type": "text"
      },
      "source": [
        "# Save off files so we can load later"
      ]
    },
    {
      "cell_type": "code",
      "metadata": {
        "id": "eQN_7QjbWQjG",
        "colab_type": "code",
        "outputId": "b1ae4a38-24b0-4d61-cb79-b84ecf30bcf7",
        "colab": {
          "base_uri": "https://localhost:8080/",
          "height": 227
        }
      },
      "source": [
        "mw.save(DRIVE_DIR, append_report=True)\n"
      ],
      "execution_count": 11,
      "outputs": [
        {
          "output_type": "stream",
          "text": [
            "description: GRU16-1x16-random_embedding-sampling_none-199538-100-review_body\n",
            "Saving to report file: drive/My Drive/Springboard/capstone/reports/dl_prototype-report.csv\n",
            "Loading to append to: drive/My Drive/Springboard/capstone/reports/dl_prototype-report.csv\n",
            "{'model_name': 'GRU16', 'architecture': '1x16', 'description': '1 Layer GRU ({GRU_DIM} units)', 'feature_column': '{\"1\": {\"precision\": 0.6544682017543859, \"recall\": 0.6862604196608221, \"f1-score\": 0.669987371965764, \"support\": 6958}, \"2\": {\"precision\": 0.2569935444205349, \"recall\": 0.2585833591091865, \"f1-score\": 0.2577860006167129, \"support\": 3233}, \"3\": {\"precision\": 0.30344602319124614, \"recall\": 0.40799297321036454, \"f1-score\": 0.3480378383441042, \"support\": 4554}, \"4\": {\"precision\": 0.35031583307445374, \"recall\": 0.40427820267686426, \"f1-score\": 0.3753675450762829, \"support\": 8368}, \"5\": {\"precision\": 0.8466208184751232, \"recall\": 0.7449200657403258, \"f1-score\": 0.7925210618343665, \"support\": 26772}, \"accuracy\": 0.6173198356219305, \"macro avg\": {\"precision\": 0.48236888418314877, \"recall\": 0.5004070040795126, \"f1-score\": 0.4887399635674461, \"support\": 49885}, \"weighted avg\": {\"precision\": 0.6487665332247082, \"recall\": 0.6173198356219305, \"f1-score\": 0.6302216713356453, \"support\": 49885}}', 'label_column': '{\"1\": {\"precision\": 0.6544682017543859, \"recall\": 0.6862604196608221, \"f1-score\": 0.669987371965764, \"support\": 6958}, \"2\": {\"precision\": 0.2569935444205349, \"recall\": 0.2585833591091865, \"f1-score\": 0.2577860006167129, \"support\": 3233}, \"3\": {\"precision\": 0.30344602319124614, \"recall\": 0.40799297321036454, \"f1-score\": 0.3480378383441042, \"support\": 4554}, \"4\": {\"precision\": 0.35031583307445374, \"recall\": 0.40427820267686426, \"f1-score\": 0.3753675450762829, \"support\": 8368}, \"5\": {\"precision\": 0.8466208184751232, \"recall\": 0.7449200657403258, \"f1-score\": 0.7925210618343665, \"support\": 26772}, \"accuracy\": 0.6173198356219305, \"macro avg\": {\"precision\": 0.48236888418314877, \"recall\": 0.5004070040795126, \"f1-score\": 0.4887399635674461, \"support\": 49885}, \"weighted avg\": {\"precision\": 0.6487665332247082, \"recall\": 0.6173198356219305, \"f1-score\": 0.6302216713356453, \"support\": 49885}}', 'classification_report': '{\"1\": {\"precision\": 0.6544682017543859, \"recall\": 0.6862604196608221, \"f1-score\": 0.669987371965764, \"support\": 6958}, \"2\": {\"precision\": 0.2569935444205349, \"recall\": 0.2585833591091865, \"f1-score\": 0.2577860006167129, \"support\": 3233}, \"3\": {\"precision\": 0.30344602319124614, \"recall\": 0.40799297321036454, \"f1-score\": 0.3480378383441042, \"support\": 4554}, \"4\": {\"precision\": 0.35031583307445374, \"recall\": 0.40427820267686426, \"f1-score\": 0.3753675450762829, \"support\": 8368}, \"5\": {\"precision\": 0.8466208184751232, \"recall\": 0.7449200657403258, \"f1-score\": 0.7925210618343665, \"support\": 26772}, \"accuracy\": 0.6173198356219305, \"macro avg\": {\"precision\": 0.48236888418314877, \"recall\": 0.5004070040795126, \"f1-score\": 0.4887399635674461, \"support\": 49885}, \"weighted avg\": {\"precision\": 0.6487665332247082, \"recall\": 0.6173198356219305, \"f1-score\": 0.6302216713356453, \"support\": 49885}}', 'roc_auc': '{\"auc_1\": 0.9428408438042101, \"auc_2\": 0.863247338076833, \"auc_3\": 0.8282627883069275, \"auc_4\": 0.716110725749838, \"auc_5\": 0.8849290074465025, \"auc_micro\": 0.886809045388939, \"auc_macro\": 0.8470899758420252}', 'loss': 0.9444260001182556, 'accuracy': 0.6173198223114014, 'confusion_matrix': '[[4775, 1110, 713, 180, 180], [1146, 836, 875, 237, 139], [559, 718, 1858, 1057, 362], [239, 290, 1524, 3383, 2932], [577, 299, 1153, 4800, 19943]]', 'file': 'drive/My Drive/Springboard/capstone/data/amazon_reviews_us_Wireless_v1_00-200k-with_stop_nonlemmatized-preprocessed.csv', 'network_history_file': 'drive/My Drive/Springboard/capstone/reports/GRU16-1x16-random_embedding-sampling_none-199538-100-review_body-history.pkl', 'tokenizer_file': 'drive/My Drive/Springboard/capstone/models/GRU16-1x16-random_embedding-sampling_none-199538-100-review_body-tokenizer.pkl', 'max_sequence_length': 100, 'batch_size': 128, 'epochs': 6, 'feature_set_name': 'random_embedding', 'class_weight': '{\"0\": 1.4376972404351898, \"1\": 3.076915959907479, \"2\": 2.182770880052508, \"3\": 1.1962709832134293, \"4\": 0.372387022124348}', 'sampling_type': 'none', 'embedding': 300, 'model_file': 'drive/My Drive/Springboard/capstone/models/GRU16-1x16-random_embedding-sampling_none-199538-100-review_body-model.h5', 'model_json_file': 'drive/My Drive/Springboard/capstone/models/GRU16-1x16-random_embedding-sampling_none-199538-100-review_body-model.json', 'weights_file': 'drive/My Drive/Springboard/capstone/models/GRU16-1x16-random_embedding-sampling_none-199538-100-review_body-weights.h5', 'test_examples': 49885, 'test_features': 100, 'train_examples': 149653, 'train_features': 100, 'train_time_min': 18.85, 'evaluate_time_min': 0.13, 'predict_time_min': 0.09, 'status': 'success', 'status_date': '2020-05-02 12:31:01'}\n",
            "Saving report file...\n",
            "Saving json config file: drive/My Drive/Springboard/capstone/models/GRU16-1x16-random_embedding-sampling_none-199538-100-review_body-model.json\n",
            "Saving weights file: drive/My Drive/Springboard/capstone/models/GRU16-1x16-random_embedding-sampling_none-199538-100-review_body-weights.h5\n",
            "Saving history file: drive/My Drive/Springboard/capstone/reports/GRU16-1x16-random_embedding-sampling_none-199538-100-review_body-history.pkl\n",
            "Saving model file: drive/My Drive/Springboard/capstone/models/GRU16-1x16-random_embedding-sampling_none-199538-100-review_body-model.h5\n",
            "Executing op ReadVariableOp in device /job:localhost/replica:0/task:0/device:GPU:0\n",
            "Executing op Identity in device /job:localhost/replica:0/task:0/device:GPU:0\n"
          ],
          "name": "stdout"
        }
      ]
    },
    {
      "cell_type": "code",
      "metadata": {
        "id": "0qWxSRCRlyyU",
        "colab_type": "code",
        "outputId": "3899a286-05e6-4384-f671-31e6fcc3f5cd",
        "colab": {
          "base_uri": "https://localhost:8080/",
          "height": 504
        }
      },
      "source": [
        "from tensorflow.keras.models import load_model\n",
        "\n",
        "model_loaded = load_model(mw.model_file)\n",
        "scores = model_loaded.evaluate(X_test, y_test, verbose=1)\n",
        "print(\"Accuracy: %.2f%%\" % (scores[1]*100))\n",
        "\n",
        "# this takes too long for real models\n",
        "if DEBUG == True:\n",
        "  y_predict = model_loaded.predict(X_test)\n",
        "  y_predict_unencoded = ku.unencode(y_predict)\n",
        "  y_test_unencoded = ku.unencode(y_test)\n",
        "\n",
        "  # classification report\n",
        "  print(classification_report(y_test_unencoded, y_predict_unencoded))\n",
        "\n",
        "  # confusion matrix\n",
        "  print(confusion_matrix(y_test_unencoded, y_predict_unencoded))\n"
      ],
      "execution_count": 12,
      "outputs": [
        {
          "output_type": "stream",
          "text": [
            "Executing op RandomUniform in device /job:localhost/replica:0/task:0/device:CPU:0\n",
            "Executing op RandomUniform in device /job:localhost/replica:0/task:0/device:GPU:0\n",
            "Executing op RandomStandardNormal in device /job:localhost/replica:0/task:0/device:GPU:0\n",
            "Executing op RandomUniform in device /job:localhost/replica:0/task:0/device:GPU:0\n",
            "Executing op VarHandleOp in device /job:localhost/replica:0/task:0/device:GPU:0\n",
            "Executing op Fill in device /job:localhost/replica:0/task:0/device:CPU:0\n",
            "Executing op Fill in device /job:localhost/replica:0/task:0/device:GPU:0\n",
            "Executing op VarHandleOp in device /job:localhost/replica:0/task:0/device:GPU:0\n",
            "Executing op VarHandleOp in device /job:localhost/replica:0/task:0/device:GPU:0\n",
            "Executing op VarHandleOp in device /job:localhost/replica:0/task:0/device:GPU:0\n",
            "Executing op VarHandleOp in device /job:localhost/replica:0/task:0/device:GPU:0\n",
            "Executing op VarHandleOp in device /job:localhost/replica:0/task:0/device:GPU:0\n",
            "Executing op RangeDataset in device /job:localhost/replica:0/task:0/device:CPU:0\n",
            "Executing op RepeatDataset in device /job:localhost/replica:0/task:0/device:CPU:0\n",
            "Executing op MapDataset in device /job:localhost/replica:0/task:0/device:CPU:0\n",
            "Executing op PrefetchDataset in device /job:localhost/replica:0/task:0/device:CPU:0\n",
            "Executing op FlatMapDataset in device /job:localhost/replica:0/task:0/device:CPU:0\n",
            "Executing op TensorDataset in device /job:localhost/replica:0/task:0/device:CPU:0\n",
            "Executing op RepeatDataset in device /job:localhost/replica:0/task:0/device:CPU:0\n",
            "Executing op ZipDataset in device /job:localhost/replica:0/task:0/device:CPU:0\n",
            "Executing op ParallelMapDataset in device /job:localhost/replica:0/task:0/device:CPU:0\n",
            "Executing op ModelDataset in device /job:localhost/replica:0/task:0/device:CPU:0\n",
            "Executing op VarHandleOp in device /job:localhost/replica:0/task:0/device:GPU:0\n",
            "Executing op VarHandleOp in device /job:localhost/replica:0/task:0/device:GPU:0\n",
            "Executing op __inference_test_function_25596 in device /job:localhost/replica:0/task:0/device:GPU:0\n",
            "1559/1559 [==============================] - 7s 5ms/step - loss: 0.9444 - categorical_accuracy: 0.6173\n",
            "Accuracy: 61.73%\n"
          ],
          "name": "stdout"
        }
      ]
    },
    {
      "cell_type": "code",
      "metadata": {
        "id": "Cy-VEfDfFSr4",
        "colab_type": "code",
        "outputId": "3b1dd5da-7a02-436d-9bee-3bf1acf2eb35",
        "colab": {
          "base_uri": "https://localhost:8080/",
          "height": 86
        }
      },
      "source": [
        "end_time = datetime.now()\n",
        "print(f'Start Time: {start_time}\\n' \\\n",
        "      f'End Time: {end_time}\\n' \\\n",
        "      f'Total Duration: {round((end_time - start_time).total_seconds() / 60, 2)} mins')\n",
        "print(datetime.now())"
      ],
      "execution_count": 13,
      "outputs": [
        {
          "output_type": "stream",
          "text": [
            "Start Time: 2020-05-02 12:14:38.905667\n",
            "End Time: 2020-05-02 12:31:21.317993\n",
            "Total Duration: 16.71 mins\n",
            "2020-05-02 12:31:21.318657\n"
          ],
          "name": "stdout"
        }
      ]
    },
    {
      "cell_type": "code",
      "metadata": {
        "id": "VxSlB6uUr_2R",
        "colab_type": "code",
        "colab": {}
      },
      "source": [
        ""
      ],
      "execution_count": 0,
      "outputs": []
    }
  ]
}