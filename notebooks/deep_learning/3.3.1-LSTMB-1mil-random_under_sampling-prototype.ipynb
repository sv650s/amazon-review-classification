{
  "nbformat": 4,
  "nbformat_minor": 0,
  "metadata": {
    "colab": {
      "name": "3.3.1-LSTMB-1mil-random_under_sampling-prototype.ipynb",
      "provenance": [],
      "collapsed_sections": [],
      "include_colab_link": true
    },
    "language_info": {
      "codemirror_mode": {
        "name": "ipython",
        "version": 3
      },
      "file_extension": ".py",
      "mimetype": "text/x-python",
      "name": "python",
      "nbconvert_exporter": "python",
      "pygments_lexer": "ipython3",
      "version": "3.7.3"
    },
    "kernelspec": {
      "name": "python3",
      "display_name": "Python 3"
    },
    "accelerator": "GPU"
  },
  "cells": [
    {
      "cell_type": "markdown",
      "metadata": {
        "id": "view-in-github",
        "colab_type": "text"
      },
      "source": [
        "<a href=\"https://colab.research.google.com/github/sv650s/amazon-review-classification/blob/master/notebooks/deep_learning/3.3.1-LSTMB-1mil-random_under_sampling-prototype.ipynb\" target=\"_parent\"><img src=\"https://colab.research.google.com/assets/colab-badge.svg\" alt=\"Open In Colab\"/></a>"
      ]
    },
    {
      "cell_type": "markdown",
      "metadata": {
        "id": "W7_sb1roJXhx",
        "colab_type": "text"
      },
      "source": [
        "# LSTM Prototype (Balanced Weights)\n",
        "\n",
        "LSTM is generally doing pretty good in our deep learning models. In our last notebook, we ran LSTM network with default weights - ie, penalty for mis-classification is the same across all classes.\n",
        "\n",
        "In this notebook, we will use 'balanced' weights calculated by sklearn's compute_class_weight with 1 million training examples to see how this affects our performance"
      ]
    },
    {
      "cell_type": "code",
      "metadata": {
        "id": "pF_xRedK9O1Q",
        "colab_type": "code",
        "outputId": "a960586a-9db9-49f6-e084-18a886b4168d",
        "colab": {
          "base_uri": "https://localhost:8080/",
          "height": 68
        }
      },
      "source": [
        "from google.colab import drive\n",
        "drive.mount('/content/drive')\n",
        "\n",
        "import sys\n",
        "DRIVE_DIR = \"drive/My Drive/Springboard/capstone\"\n",
        "sys.path.append(DRIVE_DIR)\n",
        "\n",
        "\n",
        "%tensorflow_version 2.x\n",
        "\n",
        "\n",
        "import tensorflow as tf\n",
        "# checl to make sure we are using GPU here\n",
        "tf.test.gpu_device_name()"
      ],
      "execution_count": 1,
      "outputs": [
        {
          "output_type": "stream",
          "text": [
            "Drive already mounted at /content/drive; to attempt to forcibly remount, call drive.mount(\"/content/drive\", force_remount=True).\n",
            "TensorFlow 2.x selected.\n"
          ],
          "name": "stdout"
        },
        {
          "output_type": "execute_result",
          "data": {
            "text/plain": [
              "'/device:GPU:0'"
            ]
          },
          "metadata": {
            "tags": []
          },
          "execution_count": 1
        }
      ]
    },
    {
      "cell_type": "code",
      "metadata": {
        "id": "pAHGtniuJXhy",
        "colab_type": "code",
        "colab": {
          "base_uri": "https://localhost:8080/",
          "height": 71
        },
        "outputId": "c511184d-6251-4e6c-9799-097f9673d6f6"
      },
      "source": [
        "from __future__ import absolute_import, division, print_function, unicode_literals\n",
        "\n",
        "\n",
        "from tensorflow.keras.models import Sequential\n",
        "from tensorflow.keras.layers import Dense, Activation, Dropout\n",
        "from tensorflow.keras.layers import BatchNormalization\n",
        "from tensorflow.keras.callbacks import EarlyStopping, ReduceLROnPlateau\n",
        "from tensorflow.keras.models import load_model\n",
        "from tensorflow.keras.optimizers import SGD\n",
        "from tensorflow.keras.layers import Conv1D, MaxPooling1D, Embedding, \\\n",
        "    SpatialDropout1D, Flatten, LSTM\n",
        "from tensorflow.keras.preprocessing.text import Tokenizer\n",
        "from tensorflow.keras.preprocessing import sequence\n",
        "from tensorflow.keras.utils import model_to_dot\n",
        "\n",
        "from sklearn.model_selection import train_test_split\n",
        "from sklearn.preprocessing import OneHotEncoder\n",
        "from sklearn.preprocessing import LabelEncoder\n",
        "from sklearn.metrics import confusion_matrix, classification_report\n",
        "from sklearn.utils.class_weight import compute_class_weight\n",
        "from imblearn.over_sampling import SMOTE, ADASYN, RandomOverSampler\n",
        "from imblearn.under_sampling import RandomUnderSampler, NearMiss\n",
        "\n",
        "\n",
        "import pandas as pd\n",
        "import numpy as np\n",
        "from IPython.display import SVG\n",
        "import pickle\n",
        "from datetime import datetime\n",
        "import matplotlib.pyplot as plt\n",
        "import seaborn as sns\n",
        "import os\n",
        "import logging\n",
        "import importlib\n",
        "\n",
        "\n",
        "import util.dict_util as du\n",
        "import util.plot_util as pu\n",
        "import util.file_util as fu\n",
        "import util.keras_util as ku\n",
        "import util.report_util as ru\n",
        "import util.metric_util as mu\n",
        "\n",
        "\n",
        "\n",
        "logging.basicConfig(level=logging.INFO)\n",
        "\n",
        "%matplotlib inline\n",
        "sns.set()\n",
        "\n",
        "\n",
        "DATE_FORMAT = '%Y-%m-%d'\n",
        "TIME_FORMAT = '%Y-%m-%d %H:%M:%S'\n",
        "LABEL_COLUMN = \"star_rating\"\n",
        "FEATURE_COLUMN = \"review_body\"\n",
        "\n",
        "\n",
        "DEBUG = False\n",
        "RSTATE=1\n",
        "\n",
        "\n",
        "MODEL_NAME = \"LSTMB\"\n",
        "LSTM_DIM = 64 # total LSTM units\n",
        "ARCHITECTURE = f\"1x{LSTM_DIM}\"\n",
        "DESCRIPTION = f\"1 Layer {LSTM_DIM} LSTM Units and 20% 1D Spatial Dropout - Balanced Weights - Random Under Sampling\"\n",
        "FEATURE_SET_NAME = \"random_embedding\"\n",
        "PATIENCE = 8\n",
        "sampler = RandomUnderSampler(random_state=RSTATE, sampling_strategy='not majority')\n",
        "\n",
        "if DEBUG:\n",
        "  DATA_FILE = f'{DRIVE_DIR}/data/amazon_reviews_us_Wireless_v1_00-test-preprocessed.csv'\n",
        "  MODEL_NAME = f'test-{MODEL_NAME}'\n",
        "else:\n",
        "  DATA_FILE = f\"{DRIVE_DIR}/data/amazon_reviews_us_Wireless_v1_00-1m-preprocessed.csv\"\n",
        "\n",
        "\n",
        "# first layer filter\n",
        "FILTER1 = 32\n",
        "# Network Settings\n",
        "KERNEL_SIZE=3\n",
        "\n",
        "\n",
        "\n",
        "# length of our embedding - 300 is standard\n",
        "EMBED_SIZE = 300\n",
        "EPOCHS  = 50\n",
        "BATCH_SIZE = 128\n",
        "\n",
        "# From EDA, we know that 90% of review bodies have 100 words or less, \n",
        "# we will use this as our sequence length\n",
        "MAX_SEQUENCE_LENGTH = 100\n",
        "\n"
      ],
      "execution_count": 2,
      "outputs": [
        {
          "output_type": "stream",
          "text": [
            "/usr/local/lib/python3.6/dist-packages/sklearn/externals/six.py:31: DeprecationWarning: The module is deprecated in version 0.21 and will be removed in version 0.23 since we've dropped support for Python 2.7. Please rely on the official version of six (https://pypi.org/project/six/).\n",
            "  \"(https://pypi.org/project/six/).\", DeprecationWarning)\n"
          ],
          "name": "stderr"
        }
      ]
    },
    {
      "cell_type": "code",
      "metadata": {
        "hide_input": false,
        "id": "k6fwJp9OJXh5",
        "colab_type": "code",
        "colab": {}
      },
      "source": [
        "df = pd.read_csv(DATA_FILE)\n",
        "\n",
        "rating = df[LABEL_COLUMN]\n",
        "reviews = df[FEATURE_COLUMN]\n",
        "\n"
      ],
      "execution_count": 0,
      "outputs": []
    },
    {
      "cell_type": "markdown",
      "metadata": {
        "id": "EBQR0ZpoOiQk",
        "colab_type": "text"
      },
      "source": [
        "# Preprocessing"
      ]
    },
    {
      "cell_type": "code",
      "metadata": {
        "id": "_g2Wm80MCgGZ",
        "colab_type": "code",
        "colab": {}
      },
      "source": [
        ""
      ],
      "execution_count": 0,
      "outputs": []
    },
    {
      "cell_type": "markdown",
      "metadata": {
        "id": "urmGIxPLGSSu",
        "colab_type": "text"
      },
      "source": [
        "# Under sample"
      ]
    },
    {
      "cell_type": "code",
      "metadata": {
        "id": "p9IsXJagGDvW",
        "colab_type": "code",
        "colab": {}
      },
      "source": [
        "\n",
        "\n"
      ],
      "execution_count": 0,
      "outputs": []
    },
    {
      "cell_type": "code",
      "metadata": {
        "id": "lytdvF4neJ4r",
        "colab_type": "code",
        "outputId": "8039de01-c1bd-4e74-931b-a52b52dcb330",
        "colab": {
          "base_uri": "https://localhost:8080/",
          "height": 289
        }
      },
      "source": [
        "# def sample_data(X_train, y_train, description: str):\n",
        "#   print(f'X_train shape {X_train.shape}')\n",
        "#   print(f'y_train shape {y_train.shape}')\n",
        "#   print(f'y_train columns {y_train.columns}')\n",
        "#   original_size = X_train.shape[0]\n",
        "#   sampler = RandomUnderSampler(random_state=RSTATE, sampling_strategy='not majority')\n",
        "#   X_train_res, y_train_res = sampler.fit_resample(X_train, y_train.ravel())\n",
        "\n",
        "#   X_train = pd.DataFrame(X_train_res, columns=X_train.columns)\n",
        "#   y_train = pd.DataFrame(y_train_res, columns=[\"star_rating\"])\n",
        "\n",
        "#   # get distribution of samples after samping\n",
        "#   dist = y_train.reset_index().groupby(\"star_rating\").count()\n",
        "\n",
        "#   log.info(f'Distribution after sampling with {SAMPLING_METHOD}\\n{dist}')\n",
        "\n",
        "#   log.debug(dist.head())\n",
        "#   dist.to_csv(f'{DATA_DIR}/reports/{description}-{original_size}-histogram-{SAMPLING_METHOD}.csv')\n",
        "#   return X_train, y_train\n",
        "\n",
        "\n",
        "# # split our data into train and test sets\n",
        "# reviews_train, reviews_test, y_train_unencoded, y_test_unencoded = \\\n",
        "#                 train_test_split(reviews, rating, random_state=1, test_size=0.1)\n",
        "\n",
        "\n",
        "# # Pre-process our features (review body)\n",
        "# t = Tokenizer()\n",
        "# # fit the tokenizer on the documents\n",
        "# t.fit_on_texts(reviews_train)\n",
        "# # tokenize both our training and test data\n",
        "# train_sequences = t.texts_to_sequences(reviews_train)\n",
        "# test_sequences = t.texts_to_sequences(reviews_test)\n",
        "\n",
        "# print(\"Vocabulary size={}\".format(len(t.word_counts)))\n",
        "# print(\"Number of Documents={}\".format(t.document_count))\n",
        "\n",
        "\n",
        "# # pad our reviews to the max sequence length\n",
        "# X_train_unsampled = sequence.pad_sequences(train_sequences, maxlen=MAX_SEQUENCE_LENGTH)\n",
        "# X_test = sequence.pad_sequences(test_sequences, maxlen=MAX_SEQUENCE_LENGTH)\n",
        "\n",
        "# X_train, y_train_sampled_unencoded = sample_data(X_train_unsampled, y_train_unencoded, MODEL_NAME)\n",
        "\n",
        "# # pre-process our lables\n",
        "# # one hot encode our star ratings since Keras/TF requires this for the labels\n",
        "# y_train = OneHotEncoder().fit_transform(y_train_sampled_unencoded.values.reshape(len(rating), 1)).toarray()\n",
        "# y_test = OneHotEncoder().fit_transform(y_test_unencoded.values.reshape(len(rating), 1)).toarray()\n",
        "\n",
        "\n",
        "# print('Train review vectors shape:', X_train.shape, ' Test review vectors shape:', X_test.shape)\n",
        "import importlib\n",
        "importlib.reload(ku)\n",
        "\n",
        "X_train, X_test, y_train, y_test, t = ku.preprocess_file(df, \n",
        "                                                      FEATURE_COLUMN, \n",
        "                                                      LABEL_COLUMN,\n",
        "                                                      report_dir = f'{DRIVE_DIR}/reports',\n",
        "                                                      use_oov_token = True,\n",
        "                                                      sampler = sampler,\n",
        "                                                      )\n"
      ],
      "execution_count": 4,
      "outputs": [
        {
          "output_type": "stream",
          "text": [
            "Vocabulary size=129436\n",
            "Number of Documents=995688\n",
            "Splitting data into training and test sets...\n",
            "Training X shape (746766, 100) y shape (746766,)\n",
            "Test X shape (248922, 100) y shape (248922,)\n",
            "Start sampling with RandomUnderSampler\n",
            "Resampled X shape (597485, 100) y shape (597485,)\n",
            "Resampled distribution:\n",
            "    index\n",
            "0        \n",
            "1   49287\n",
            "2   49287\n",
            "3   49287\n",
            "4   49287\n",
            "5  400337\n",
            "One hot enocde label data...\n"
          ],
          "name": "stdout"
        }
      ]
    },
    {
      "cell_type": "markdown",
      "metadata": {
        "id": "6hWLBCjqucDJ",
        "colab_type": "text"
      },
      "source": [
        "**Build LSTM Model Architecture**"
      ]
    },
    {
      "cell_type": "code",
      "metadata": {
        "id": "653DtCuBJXiF",
        "colab_type": "code",
        "colab": {}
      },
      "source": [
        "vocab_size = len(t.word_counts) + 1\n",
        "\n",
        "# building our network\n",
        "model = Sequential()\n",
        "model.add(Embedding(input_dim=vocab_size + 1, output_dim=EMBED_SIZE, input_length=MAX_SEQUENCE_LENGTH))\n",
        "model.add(SpatialDropout1D(0.2))\n",
        "model.add(LSTM(LSTM_DIM, dropout=0.2, recurrent_dropout=0.2))\n",
        "model.add(Dense(5, activation=\"softmax\"))\n",
        "\n",
        "model.compile(loss=\"categorical_crossentropy\", optimizer=\"adam\",\n",
        "              metrics=[\"categorical_accuracy\"])\n"
      ],
      "execution_count": 0,
      "outputs": []
    },
    {
      "cell_type": "code",
      "metadata": {
        "id": "iZitdxXPJXiI",
        "colab_type": "code",
        "outputId": "adfed197-700d-4efc-8184-374cf67f37b7",
        "colab": {
          "base_uri": "https://localhost:8080/",
          "height": 306
        }
      },
      "source": [
        "print(model.summary())"
      ],
      "execution_count": 6,
      "outputs": [
        {
          "output_type": "stream",
          "text": [
            "Model: \"sequential\"\n",
            "_________________________________________________________________\n",
            "Layer (type)                 Output Shape              Param #   \n",
            "=================================================================\n",
            "embedding (Embedding)        (None, 100, 300)          38831100  \n",
            "_________________________________________________________________\n",
            "spatial_dropout1d (SpatialDr (None, 100, 300)          0         \n",
            "_________________________________________________________________\n",
            "lstm (LSTM)                  (None, 64)                93440     \n",
            "_________________________________________________________________\n",
            "dense (Dense)                (None, 5)                 325       \n",
            "=================================================================\n",
            "Total params: 38,924,865\n",
            "Trainable params: 38,924,865\n",
            "Non-trainable params: 0\n",
            "_________________________________________________________________\n",
            "None\n"
          ],
          "name": "stdout"
        }
      ]
    },
    {
      "cell_type": "code",
      "metadata": {
        "scrolled": false,
        "id": "60eC_0fRJXiQ",
        "colab_type": "code",
        "outputId": "bea33f22-07c2-43a6-9e00-e4e3c3b4e28a",
        "colab": {
          "base_uri": "https://localhost:8080/",
          "height": 275
        }
      },
      "source": [
        "\n",
        "# reduce learning rate if we sense a plateau\n",
        "reduce_lr = ReduceLROnPlateau(monitor='val_loss', \n",
        "                              factor=0.4,\n",
        "                              patience=PATIENCE, \n",
        "                              min_lr=0.00001,\n",
        "                             mode='auto')\n",
        "\n",
        "early_stop = EarlyStopping(monitor='val_loss', patience=2, verbose=1)\n",
        "\n",
        "weights = compute_class_weight('balanced', np.arange(1, 6), rating)\n",
        "print(f'class weights: {weights}')\n",
        "\n",
        "\n",
        "\n",
        "mw = ku.ModelWrapper(model, \n",
        "                     MODEL_NAME, \n",
        "                     ARCHITECTURE,\n",
        "                     FEATURE_SET_NAME,\n",
        "                     LABEL_COLUMN, \n",
        "                     DATA_FILE, \n",
        "                     embed_size=EMBED_SIZE,\n",
        "                     tokenizer=t,\n",
        "                     description=DESCRIPTION)\n",
        "\n",
        "network_history = mw.fit(X_train, y_train,\n",
        "                      batch_size=BATCH_SIZE,\n",
        "                      epochs=EPOCHS,\n",
        "                      verbose=1,\n",
        "                      validation_split=0.2,\n",
        "                      class_weight=weights,\n",
        "                      callbacks=[early_stop, reduce_lr])"
      ],
      "execution_count": 7,
      "outputs": [
        {
          "output_type": "stream",
          "text": [
            "class weights: [1.42284845 3.02709736 2.2103805  1.20013018 0.37296994]\n",
            "Number of training examples: 597485\n",
            "Train on 477988 samples, validate on 119497 samples\n",
            "Epoch 1/50\n",
            "477988/477988 [==============================] - 2022s 4ms/sample - loss: 0.7957 - categorical_accuracy: 0.6980 - val_loss: 0.2123 - val_categorical_accuracy: 0.9680\n",
            "Epoch 2/50\n",
            "477988/477988 [==============================] - 2020s 4ms/sample - loss: 0.6966 - categorical_accuracy: 0.7333 - val_loss: 0.2360 - val_categorical_accuracy: 0.9582\n",
            "Epoch 3/50\n",
            "477988/477988 [==============================] - 2018s 4ms/sample - loss: 0.6505 - categorical_accuracy: 0.7523 - val_loss: 0.2119 - val_categorical_accuracy: 0.9557\n",
            "Epoch 4/50\n",
            "477988/477988 [==============================] - 2002s 4ms/sample - loss: 0.6076 - categorical_accuracy: 0.7703 - val_loss: 0.2544 - val_categorical_accuracy: 0.9405\n",
            "Epoch 5/50\n",
            "477988/477988 [==============================] - 1998s 4ms/sample - loss: 0.5677 - categorical_accuracy: 0.7867 - val_loss: 0.2430 - val_categorical_accuracy: 0.9401\n",
            "Epoch 00005: early stopping\n"
          ],
          "name": "stdout"
        }
      ]
    },
    {
      "cell_type": "code",
      "metadata": {
        "id": "2VHBrsPjJXiS",
        "colab_type": "code",
        "outputId": "8147ea45-f1f6-42bf-8f86-59c75c460bdd",
        "colab": {
          "base_uri": "https://localhost:8080/",
          "height": 1000
        }
      },
      "source": [
        "\n",
        "scores = mw.evaluate(X_test, y_test)\n",
        "print(\"Accuracy: %.2f%%\" % (mw.scores[1]*100))\n",
        "\n",
        "pu.plot_network_history(mw.network_history, \"categorical_accuracy\", \"val_categorical_accuracy\")\n",
        "plt.show()\n",
        "\n",
        "print(\"\\nConfusion Matrix\")\n",
        "print(mw.confusion_matrix)\n",
        "\n",
        "print(\"\\nClassification Report\")\n",
        "print(mw.classification_report)\n",
        "\n",
        "fig = plt.figure(figsize=(5,5))\n",
        "pu.plot_roc_auc(mw.model_name, mw.roc_auc, mw.fpr, mw.tpr)\n",
        "\n"
      ],
      "execution_count": 8,
      "outputs": [
        {
          "output_type": "stream",
          "text": [
            "Number of test: 248922\n",
            "Running model.evaluate...\n"
          ],
          "name": "stdout"
        },
        {
          "output_type": "stream",
          "text": [
            "IOPub data rate exceeded.\n",
            "The notebook server will temporarily stop sending output\n",
            "to the client in order to avoid crashing it.\n",
            "To change this limit, set the config variable\n",
            "`--NotebookApp.iopub_data_rate_limit`.\n",
            "\n",
            "Current values:\n",
            "NotebookApp.iopub_data_rate_limit=1000000.0 (bytes/sec)\n",
            "NotebookApp.rate_limit_window=3.0 (secs)\n",
            "\n"
          ],
          "name": "stderr"
        },
        {
          "output_type": "stream",
          "text": [
            "Running model.predict...\n",
            "Unencode predictions...\n",
            "Generating confusion matrix...\n",
            "Calculating ROC AUC...\n",
            "(248922, 5)\n",
            "Getting classification report...\n",
            "Accuracy: 68.90%\n"
          ],
          "name": "stdout"
        },
        {
          "output_type": "display_data",
          "data": {
            "image/png": "[encoded data removed]",
            "text/plain": [
              "<Figure size 720x360 with 2 Axes>"
            ]
          },
          "metadata": {
            "tags": []
          }
        },
        {
          "output_type": "stream",
          "text": [
            "\n",
            "Confusion Matrix\n",
            "[[ 22701   8520   1775    269   1898]\n",
            " [  4233   7018   3083    454   1710]\n",
            " [  1818   4950   7911   2305   5375]\n",
            " [   565   1451   4887   8226  26186]\n",
            " [   772    987   2282   3904 125642]]\n",
            "\n",
            "Classification Report\n",
            "              precision    recall  f1-score   support\n",
            "\n",
            "           1       0.75      0.65      0.70     35163\n",
            "           2       0.31      0.43      0.36     16498\n",
            "           3       0.40      0.35      0.37     22359\n",
            "           4       0.54      0.20      0.29     41315\n",
            "           5       0.78      0.94      0.85    133587\n",
            "\n",
            "    accuracy                           0.69    248922\n",
            "   macro avg       0.56      0.51      0.51    248922\n",
            "weighted avg       0.67      0.69      0.66    248922\n",
            "\n"
          ],
          "name": "stdout"
        },
        {
          "output_type": "stream",
          "text": [
            "drive/My Drive/Springboard/capstone/util/plot_util.py:267: MatplotlibDeprecationWarning: The 'withdash' parameter of text() is deprecated since Matplotlib 3.1 and will be removed in 3.3.  If any parameter follows 'withdash', they should be pass as keyword, not positionally.\n",
            "  withdash=True)\n",
            "drive/My Drive/Springboard/capstone/util/plot_util.py:267: MatplotlibDeprecationWarning: \n",
            "The TextWithDash class was deprecated in Matplotlib 3.1 and will be removed in 3.3. Use Annotation instead.\n",
            "  withdash=True)\n",
            "drive/My Drive/Springboard/capstone/util/plot_util.py:271: MatplotlibDeprecationWarning: The 'withdash' parameter of text() is deprecated since Matplotlib 3.1 and will be removed in 3.3.  If any parameter follows 'withdash', they should be pass as keyword, not positionally.\n",
            "  withdash=True)\n",
            "drive/My Drive/Springboard/capstone/util/plot_util.py:271: MatplotlibDeprecationWarning: \n",
            "The TextWithDash class was deprecated in Matplotlib 3.1 and will be removed in 3.3. Use Annotation instead.\n",
            "  withdash=True)\n",
            "drive/My Drive/Springboard/capstone/util/plot_util.py:275: MatplotlibDeprecationWarning: The 'withdash' parameter of text() is deprecated since Matplotlib 3.1 and will be removed in 3.3.  If any parameter follows 'withdash', they should be pass as keyword, not positionally.\n",
            "  withdash=True)\n",
            "drive/My Drive/Springboard/capstone/util/plot_util.py:275: MatplotlibDeprecationWarning: \n",
            "The TextWithDash class was deprecated in Matplotlib 3.1 and will be removed in 3.3. Use Annotation instead.\n",
            "  withdash=True)\n"
          ],
          "name": "stderr"
        },
        {
          "output_type": "display_data",
          "data": {
            "image/png": "[encoded data removed]",
            "text/plain": [
              "<Figure size 360x360 with 1 Axes>"
            ]
          },
          "metadata": {
            "tags": []
          }
        }
      ]
    },
    {
      "cell_type": "code",
      "metadata": {
        "id": "YOA18O7wN63j",
        "colab_type": "code",
        "outputId": "99630090-0945-44fd-cbba-1001b08d012a",
        "colab": {
          "base_uri": "https://localhost:8080/",
          "height": 68
        }
      },
      "source": [
        "print(f'Score: {ru.calculate_metric(mw.crd)}')"
      ],
      "execution_count": 9,
      "outputs": [
        {
          "output_type": "stream",
          "text": [
            "INFO:util.report_util:calculating metric from dictionary\n",
            "INFO:util.report_util:got all values to calculate\n"
          ],
          "name": "stderr"
        },
        {
          "output_type": "stream",
          "text": [
            "Score: 0.3837741337036844\n"
          ],
          "name": "stdout"
        }
      ]
    },
    {
      "cell_type": "markdown",
      "metadata": {
        "id": "z2ot_Nqg1U4w",
        "colab_type": "text"
      },
      "source": [
        "**Save off various files**"
      ]
    },
    {
      "cell_type": "code",
      "metadata": {
        "id": "Al3bCFrI1P5m",
        "colab_type": "code",
        "outputId": "27aec2ed-e41f-44a2-b8c0-25604c7bd44c",
        "colab": {
          "base_uri": "https://localhost:8080/",
          "height": 190
        }
      },
      "source": [
        "mw.save(DRIVE_DIR, append_report=True)"
      ],
      "execution_count": 10,
      "outputs": [
        {
          "output_type": "stream",
          "text": [
            "description: LSTMB-1x64-random_embedding-sampling_none-846407-100-star_rating\n",
            "Saving model file: drive/My Drive/Springboard/capstone/models/LSTMB-1x64-random_embedding-sampling_none-846407-100-star_rating-model.h5\n",
            "Saving json config file: drive/My Drive/Springboard/capstone/models/LSTMB-1x64-random_embedding-sampling_none-846407-100-star_rating-model.json\n",
            "Saving weights file: drive/My Drive/Springboard/capstone/models/LSTMB-1x64-random_embedding-sampling_none-846407-100-star_rating-weights.h5\n"
          ],
          "name": "stdout"
        },
        {
          "output_type": "stream",
          "text": [
            "INFO:root:Saving tokenizer file: drive/My Drive/Springboard/capstone/models/dl-tokenizer.pkl\n"
          ],
          "name": "stderr"
        },
        {
          "output_type": "stream",
          "text": [
            "Saving to report file: drive/My Drive/Springboard/capstone/reports/2019-11-dl_prototype-report.csv\n",
            "Loading to append to: drive/My Drive/Springboard/capstone/reports/2019-11-dl_prototype-report.csv\n",
            "{'model_name': 'LSTMB', 'architecture': '1x64', 'description': '1 Layer 64 LSTM Units and 20% 1D Spatial Dropout - Balanced Weights - Random Under Sampling', 'classification_report': '{\"1\": {\"precision\": 0.7544617634351424, \"recall\": 0.6455933794044877, \"f1-score\": 0.6957947649114204, \"support\": 35163}, \"2\": {\"precision\": 0.3061153275756783, \"recall\": 0.42538489513880473, \"f1-score\": 0.3560267857142857, \"support\": 16498}, \"3\": {\"precision\": 0.3967800180559735, \"recall\": 0.35381725479672615, \"f1-score\": 0.3740690829136818, \"support\": 22359}, \"4\": {\"precision\": 0.5426837313629767, \"recall\": 0.19910444148614304, \"f1-score\": 0.2913250579923149, \"support\": 41315}, \"5\": {\"precision\": 0.7813022740981649, \"recall\": 0.9405256499509683, \"f1-score\": 0.8535519942390913, \"support\": 133587}, \"accuracy\": 0.6889628076264854, \"macro avg\": {\"precision\": 0.5562686229055871, \"recall\": 0.512885124155426, \"f1-score\": 0.5141535371541589, \"support\": 248922}, \"weighted avg\": {\"precision\": 0.6718724714446289, \"recall\": 0.6889628076264854, \"f1-score\": 0.661907412279877, \"support\": 248922}}', 'roc_auc': '{\"auc_1\": 0.9579106433004585, \"auc_2\": 0.8833792697793683, \"auc_3\": 0.8517202943329155, \"auc_4\": 0.7695206131415129, \"auc_5\": 0.9020733326338383, \"auc_micro\": 0.9193850696578607, \"auc_macro\": 0.8729231733353962}', 'loss': 0.8297573682832028, 'accuracy': 0.6889628, 'confusion_matrix': '[[22701, 8520, 1775, 269, 1898], [4233, 7018, 3083, 454, 1710], [1818, 4950, 7911, 2305, 5375], [565, 1451, 4887, 8226, 26186], [772, 987, 2282, 3904, 125642]]', 'file': 'drive/My Drive/Springboard/capstone/data/amazon_reviews_us_Wireless_v1_00-1m-preprocessed.csv', 'tokenizer_file': 'drive/My Drive/Springboard/capstone/models/dl-tokenizer.pkl', 'max_sequence_length': 100, 'batch_size': 128, 'epochs': 5, 'feature_set_name': 'random_embedding', 'class_weight': '[1.4228484463085092, 3.0270973626206583, 2.2103804999334016, 1.200130175375158, 0.3729699357961058]', 'sampling_type': 'none', 'embedding': 300, 'model_file': 'drive/My Drive/Springboard/capstone/models/LSTMB-1x64-random_embedding-sampling_none-846407-100-star_rating-model.h5', 'model_json_file': 'drive/My Drive/Springboard/capstone/models/LSTMB-1x64-random_embedding-sampling_none-846407-100-star_rating-model.json', 'weights_file': 'drive/My Drive/Springboard/capstone/models/LSTMB-1x64-random_embedding-sampling_none-846407-100-star_rating-weights.h5', 'test_examples': 248922, 'test_features': 100, 'train_examples': 597485, 'train_features': 100, 'train_time_min': 201.21, 'evaluate_time_min': 11.52, 'predict_time_min': 11.41, 'status': 'success', 'status_date': '2019-11-09 23:14:08'}\n",
            "Saving report file...\n"
          ],
          "name": "stdout"
        }
      ]
    },
    {
      "cell_type": "code",
      "metadata": {
        "id": "96A-A5CBJXiy",
        "colab_type": "code",
        "outputId": "b687554c-9fb7-4f1e-8051-a776cb072282",
        "colab": {
          "base_uri": "https://localhost:8080/",
          "height": 34
        }
      },
      "source": [
        "print(datetime.now())"
      ],
      "execution_count": 11,
      "outputs": [
        {
          "output_type": "stream",
          "text": [
            "2019-11-09 23:14:09.069620\n"
          ],
          "name": "stdout"
        }
      ]
    }
  ]
}