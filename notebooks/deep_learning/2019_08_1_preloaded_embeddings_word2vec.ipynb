{
  "nbformat": 4,
  "nbformat_minor": 0,
  "metadata": {
    "colab": {
      "name": "2019-08-1-preloaded_embeddings-word2vec.ipynb",
      "version": "0.3.2",
      "provenance": [],
      "include_colab_link": true
    },
    "kernelspec": {
      "name": "python3",
      "display_name": "Python 3"
    }
  },
  "cells": [
    {
      "cell_type": "markdown",
      "metadata": {
        "id": "view-in-github",
        "colab_type": "text"
      },
      "source": [
        "<a href=\"https://colab.research.google.com/github/sv650s/sb-capstone/blob/master/2019_08_1_preloaded_embeddings_word2vec.ipynb\" target=\"_parent\"><img src=\"https://colab.research.google.com/assets/colab-badge.svg\" alt=\"Open In Colab\"/></a>"
      ]
    },
    {
      "cell_type": "markdown",
      "metadata": {
        "id": "0LuXEa7txF9u",
        "colab_type": "text"
      },
      "source": [
        "# Pre-trained Embeddings notebook\n",
        "\n",
        "\n",
        "In the previous notebook [2019-07-30_deep_learning_summary](https://github.com/sv650s/sb-capstone/blob/master/2019_07_30_deep_learning_summary.ipynb) we looked at the results for various deep learning models. There were 2 models that came back with the best results:\n",
        "\n",
        "* 1 layer bi direcitonal GRU with attention\n",
        "* 3 layer CNN with maxpooling - we train this with 15 epoch without early stopping\n",
        "\n",
        "Overall, GRU model offered better precision however poor recall\n",
        "\n",
        "CNN had a good balance for F1 (precision and recall) scores for class 2, 3, 4 - our problem classes, but did poorly for our class 1 and 5\n",
        "\n",
        "In this notebook, we will use pre-trained word embeddings for both models. Idea is that in our previous notebooks, embeddings were random to start with and as we train the model as well as embeddings.\n",
        "\n",
        "With pre-trained embeddings, we should see improvements in our model in term of training time since the embedding vectors are pre-trained\n",
        "\n",
        "\n",
        "Pre-trained word vectors will come from Google's Word2Vec model pre-trained on Google News: https://github.com/mmihaltz/word2vec-GoogleNews-vectors"
      ]
    },
    {
      "cell_type": "code",
      "metadata": {
        "id": "JnVhbl5Mw8eB",
        "colab_type": "code",
        "outputId": "92c9c820-ae8c-4a68-b449-5331ad527f65",
        "colab": {
          "base_uri": "https://localhost:8080/",
          "height": 34
        }
      },
      "source": [
        "from google.colab import drive\n",
        "import sys\n",
        "drive.mount('/content/drive')\n",
        "DRIVE_DIR = \"drive/My Drive/Springboard/capstone\"\n",
        "\n",
        "# add this to sys patch so we can import utility functions\n",
        "sys.path.append(DRIVE_DIR)\n"
      ],
      "execution_count": 1,
      "outputs": [
        {
          "output_type": "stream",
          "text": [
            "Drive already mounted at /content/drive; to attempt to forcibly remount, call drive.mount(\"/content/drive\", force_remount=True).\n"
          ],
          "name": "stdout"
        }
      ]
    },
    {
      "cell_type": "code",
      "metadata": {
        "id": "Z5ahyjedytpD",
        "colab_type": "code",
        "outputId": "4ce9e3d5-8850-4ab9-93b3-b20c293dcff2",
        "colab": {
          "base_uri": "https://localhost:8080/",
          "height": 34
        }
      },
      "source": [
        "from keras.models import Sequential\n",
        "from keras.layers import Dense, Activation, Dropout, GRU, SpatialDropout1D, Bidirectional\n",
        "from keras.layers.normalization import BatchNormalization\n",
        "from keras.callbacks import EarlyStopping\n",
        "from keras.models import load_model\n",
        "from sklearn.model_selection import train_test_split\n",
        "from keras.optimizers import SGD\n",
        "from sklearn.preprocessing import OneHotEncoder\n",
        "from keras.layers import Flatten\n",
        "from keras.layers.convolutional import Conv1D\n",
        "from keras.layers.convolutional import MaxPooling1D\n",
        "from keras.layers.embeddings import Embedding\n",
        "import pandas as pd\n",
        "from IPython.display import SVG\n",
        "from keras.utils.vis_utils import model_to_dot\n",
        "import pickle\n",
        "from datetime import datetime\n",
        "from sklearn.metrics import confusion_matrix, classification_report\n",
        "import os\n",
        "import seaborn as sns\n",
        "import matplotlib.pyplot as plt\n",
        "\n",
        "\n",
        "# custom utility functions\n",
        "import util.dict_util as du\n",
        "import util.plot_util as pu\n",
        "import util.file_util as fu\n",
        "import util.keras_util as ku\n",
        "\n",
        "\n",
        "sns.set()\n",
        "\n",
        "import logging\n",
        "logging.basicConfig(level=logging.INFO)\n",
        "\n",
        "DATE_FORMAT = '%Y-%m-%d'\n",
        "TIME_FORMAT = '%Y-%m-%d %H:%M:%S'\n",
        "DATA_FILE = f\"{DRIVE_DIR}/data/amazon_reviews_us_Wireless_v1_00-preprocessed-110k.csv\"\n",
        "LABEL_COLUMN = \"star_rating\"\n",
        "REVIEW_COLUMN = \"review_body\"\n"
      ],
      "execution_count": 2,
      "outputs": [
        {
          "output_type": "stream",
          "text": [
            "Using TensorFlow backend.\n"
          ],
          "name": "stderr"
        }
      ]
    },
    {
      "cell_type": "code",
      "metadata": {
        "id": "zrDqbbyp0AlH",
        "colab_type": "code",
        "outputId": "01f659f9-4de9-4e3d-ad1e-ed03416d163a",
        "colab": {
          "base_uri": "https://localhost:8080/",
          "height": 34
        }
      },
      "source": [
        "import tensorflow as tf\n",
        "# checl to make sure we are using GPU here\n",
        "tf.test.gpu_device_name()"
      ],
      "execution_count": 3,
      "outputs": [
        {
          "output_type": "execute_result",
          "data": {
            "text/plain": [
              "''"
            ]
          },
          "metadata": {
            "tags": []
          },
          "execution_count": 3
        }
      ]
    },
    {
      "cell_type": "code",
      "metadata": {
        "id": "e7eDc4zE0DAI",
        "colab_type": "code",
        "colab": {}
      },
      "source": [
        "df = pd.read_csv(f\"{DATA_FILE}\")\n",
        "ratings = df[LABEL_COLUMN]\n",
        "reviews = df[REVIEW_COLUMN]"
      ],
      "execution_count": 0,
      "outputs": []
    },
    {
      "cell_type": "markdown",
      "metadata": {
        "id": "vjf2Cy7N0i8W",
        "colab_type": "text"
      },
      "source": [
        "## Preprocessing our Data\n",
        "\n",
        "Put code from previous notebooks into [keras_util.py](https://github.com/sv650s/sb-capstone/blob/master/util/keras_util.py)"
      ]
    },
    {
      "cell_type": "code",
      "metadata": {
        "id": "byGoym9iDakc",
        "colab_type": "code",
        "outputId": "0f0d73d6-487b-4b0a-c428-9f655f8620a6",
        "colab": {
          "base_uri": "https://localhost:8080/",
          "height": 190
        }
      },
      "source": [
        "X_train, X_test, y_train, y_test, t, max_sequence_length = ku.preprocess_file(df, \n",
        "                                                                              REVIEW_COLUMN, LABEL_COLUMN, \n",
        "                                                                              0.99, \n",
        "                                                                              use_oov_token=False)\n"
      ],
      "execution_count": 5,
      "outputs": [
        {
          "output_type": "stream",
          "text": [
            "One hot enocde label data...\n",
            "Splitting data into training and test sets...\n"
          ],
          "name": "stdout"
        },
        {
          "output_type": "stream",
          "text": [
            "/usr/local/lib/python3.6/dist-packages/sklearn/preprocessing/_encoders.py:415: FutureWarning: The handling of integer data will change in version 0.22. Currently, the categories are determined based on the range [0, max(values)], while in the future they will be determined based on the unique values.\n",
            "If you want the future behaviour and silence this warning, you can specify \"categories='auto'\".\n",
            "In case you used a LabelEncoder before this OneHotEncoder to convert the categories to integers, then you can now use the OneHotEncoder directly.\n",
            "  warnings.warn(msg, FutureWarning)\n"
          ],
          "name": "stderr"
        },
        {
          "output_type": "stream",
          "text": [
            "Vocabulary size=40788\n",
            "Number of Documents=84032\n",
            "Max Sequence Length: 186\n"
          ],
          "name": "stdout"
        }
      ]
    },
    {
      "cell_type": "code",
      "metadata": {
        "id": "Md9uSVflBDeL",
        "colab_type": "code",
        "colab": {}
      },
      "source": [
        "import numpy as np\n",
        "from gensim.models import KeyedVectors\n",
        "\n",
        "def load_pretrained_embeddings(word_to_index, max_features, embedding_size, embedding_file_path, normalize=True):    \n",
        "    \"\"\"\n",
        "    This builds a matrix of word vectors that are in our vocabulary\n",
        "    :return: matrix of word vectors - index is the index in our vocabulary, each row is the word vector    \n",
        "    \"\"\"\n",
        "    \n",
        "    # def get_coefs(word,*arr): \n",
        "    #     return word, np.asarray(arr, dtype='float32')\n",
        "\n",
        "\n",
        "    key_vectors = KeyedVectors.load_word2vec_format(embedding_file_path, \n",
        "                                                    binary=True)\n",
        "    if normalize:\n",
        "      # normalize our vectors to make training faster\n",
        "      key_vectors.init_sims(replace=True)\n",
        "\n",
        "\n",
        "    # turns the embedding file into a dictionary key = word, value = word vector\n",
        "    # embeddings_index = dict(get_coefs(*row.split(\" \")) \n",
        "    #                             for row in open(embedding_file_path, encoding=\"utf8\", errors='ignore') \n",
        "    #                                 if len(row)>100)\n",
        "\n",
        "    # convert the values into a array of word vectors\n",
        "    # all_embs = np.stack(embeddings_index.values())\n",
        "    # # get mean and std of embedding vectors so we can normalize them later\n",
        "    # emb_mean, emb_std = all_embs.mean(), all_embs.std()\n",
        "    # embed_size = all_embs.shape[1]\n",
        "    # print(f'embed_size {embed_size}')\n",
        "    # print(f'max_features {max_features}')\n",
        "    \n",
        "    \n",
        "    # nb_words = min(max_features, len(word_to_index))\n",
        "    nb_words = max_features\n",
        "    # print(f'({nb_words}, {embedding_size})')\n",
        "\n",
        "    embedding_matrix = np.random.normal(size=(nb_words, embedding_size))\n",
        "\n",
        "    not_found = []\n",
        "    \n",
        "    print(\"Create our matrix of embeddings...\")\n",
        "    # loop through all words in our vocabulary\n",
        "    found_counter = 0\n",
        "    notfound_counter = 0\n",
        "    for word, idx in word_to_index.items():\n",
        "        if idx >= max_features - 1 or word not in key_vectors.wv.vocab: \n",
        "            notfound_counter += 1\n",
        "            if word not in key_vectors.wv.vocab:\n",
        "              not_found.append(word)\n",
        "            continue\n",
        "        if normalize:\n",
        "          embedding_vector = key_vectors.word_vec(word, use_norm=True)\n",
        "        else:\n",
        "          embedding_vector = key_vectors.get_vector(word)\n",
        "\n",
        "        if embedding_vector is not None: \n",
        "            found_counter += 1\n",
        "            embedding_matrix[idx] = embedding_vector\n",
        "    print(f'found: {found_counter} not found: {notfound_counter}')\n",
        "\n",
        "    return embedding_matrix, not_found"
      ],
      "execution_count": 0,
      "outputs": []
    },
    {
      "cell_type": "code",
      "metadata": {
        "id": "pPLgA1lwE-sF",
        "colab_type": "code",
        "outputId": "f37fcc9b-5cfa-4403-d207-e74e06ecabf5",
        "colab": {
          "base_uri": "https://localhost:8080/",
          "height": 139
        }
      },
      "source": [
        "# total umber of words in our corpus\n",
        "# adding 1 because Embedding layer suggests that we pass in vocab size + 1\n",
        "# the shape of the embedding matrix/weights need to match this\n",
        "MAX_FEATURES = len(t.word_index) + 1\n",
        "EMBED_SIZE = 300\n",
        "pg_embeddings, words_not_found = load_pretrained_embeddings(word_to_index=t.word_index, \n",
        "                                           max_features=MAX_FEATURES, \n",
        "                                           embedding_size=EMBED_SIZE, \n",
        "                                           embedding_file_path=f'{DRIVE_DIR}/data/embeddings/GoogleNews-vectors-negative300.bin',\n",
        "                                           normalize=False)"
      ],
      "execution_count": 7,
      "outputs": [
        {
          "output_type": "stream",
          "text": [
            "/usr/local/lib/python3.6/dist-packages/smart_open/smart_open_lib.py:398: UserWarning: This function is deprecated, use smart_open.open instead. See the migration notes for details: https://github.com/RaRe-Technologies/smart_open/blob/master/README.rst#migrating-to-the-new-open-function\n",
            "  'See the migration notes for details: %s' % _MIGRATION_NOTES_URL\n"
          ],
          "name": "stderr"
        },
        {
          "output_type": "stream",
          "text": [
            "Create our matrix of embeddings...\n"
          ],
          "name": "stdout"
        },
        {
          "output_type": "stream",
          "text": [
            "/usr/local/lib/python3.6/dist-packages/ipykernel_launcher.py:48: DeprecationWarning: Call to deprecated `wv` (Attribute will be removed in 4.0.0, use self instead).\n",
            "/usr/local/lib/python3.6/dist-packages/ipykernel_launcher.py:50: DeprecationWarning: Call to deprecated `wv` (Attribute will be removed in 4.0.0, use self instead).\n"
          ],
          "name": "stderr"
        },
        {
          "output_type": "stream",
          "text": [
            "found: 25259 not found: 15529\n"
          ],
          "name": "stdout"
        }
      ]
    },
    {
      "cell_type": "code",
      "metadata": {
        "id": "8L1AFUHvjuSM",
        "colab_type": "code",
        "outputId": "4c4722e4-a122-47e4-fa0c-445f5ec9ce96",
        "colab": {
          "base_uri": "https://localhost:8080/",
          "height": 68
        }
      },
      "source": [
        "print(max([value for key, value in list(t.word_index.items())]))\n",
        "print(min([value for key, value in list(t.word_index.items())]))\n",
        "len(pg_embeddings)"
      ],
      "execution_count": 8,
      "outputs": [
        {
          "output_type": "stream",
          "text": [
            "40788\n",
            "1\n"
          ],
          "name": "stdout"
        },
        {
          "output_type": "execute_result",
          "data": {
            "text/plain": [
              "40789"
            ]
          },
          "metadata": {
            "tags": []
          },
          "execution_count": 8
        }
      ]
    },
    {
      "cell_type": "code",
      "metadata": {
        "id": "xn0PsCM_G_GF",
        "colab_type": "code",
        "colab": {}
      },
      "source": [
        "MODEL_NAME = \"biGRU_1layer_attention-word2vec\"\n",
        "EPOCHS  = 50\n",
        "BATCH_SIZE = 128\n",
        "GRU_DIM = 250 # total GRU units"
      ],
      "execution_count": 0,
      "outputs": []
    },
    {
      "cell_type": "code",
      "metadata": {
        "id": "EkXJplHZNzRZ",
        "colab_type": "code",
        "outputId": "0748462e-c251-43de-811b-139d143a08c2",
        "colab": {
          "base_uri": "https://localhost:8080/",
          "height": 85
        }
      },
      "source": [
        "print(f'Max Features: {MAX_FEATURES}')\n",
        "print(f'max_sequence_length {max_sequence_length}')\n",
        "print(f'pg_embeddings.shape {pg_embeddings.shape}')\n",
        "print(f'EMBED_SIZE {EMBED_SIZE}')"
      ],
      "execution_count": 10,
      "outputs": [
        {
          "output_type": "stream",
          "text": [
            "Max Features: 40789\n",
            "max_sequence_length 186\n",
            "pg_embeddings.shape (40789, 300)\n",
            "EMBED_SIZE 300\n"
          ],
          "name": "stdout"
        }
      ]
    },
    {
      "cell_type": "code",
      "metadata": {
        "id": "3bFyJk_BHG1Z",
        "colab_type": "code",
        "outputId": "22710859-3cbc-45be-b8fa-ff2a68bc5f1c",
        "colab": {
          "base_uri": "https://localhost:8080/",
          "height": 615
        }
      },
      "source": [
        "import keras\n",
        "from keras.layers import CuDNNGRU\n",
        "from keras.callbacks import EarlyStopping, ReduceLROnPlateau\n",
        "\n",
        "# slow down the learnig rate if we are seeing a plateau to get a better model\n",
        "reduce_lr = ReduceLROnPlateau(monitor='val_loss', \n",
        "                              factor=0.4,\n",
        "                              patience=2, \n",
        "                              min_lr=0.00001,\n",
        "                             mode='auto')\n",
        "\n",
        "early_stop = EarlyStopping(monitor='val_loss', \n",
        "                           patience=2, \n",
        "                           mode='auto', \n",
        "                           verbose=1,\n",
        "                          restore_best_weights=True)\n",
        "\n",
        "\n",
        "inp = keras.layers.Input(shape=(max_sequence_length,))\n",
        "x = keras.layers.Embedding(MAX_FEATURES, \n",
        "                    EMBED_SIZE, \n",
        "                    input_length=max_sequence_length, \n",
        "                    weights=[pg_embeddings], trainable=True)(inp)\n",
        "x = ku.AttentionLayer(max_sequence_length)(x)\n",
        "x = keras.layers.Dense(GRU_DIM*2, activation='relu')(x)\n",
        "x = keras.layers.Dropout(rate=0.2)(x)\n",
        "x = keras.layers.Dense(GRU_DIM, activation='relu')(x)\n",
        "x = keras.layers.Dropout(rate=0.2)(x)\n",
        "\n",
        "outp = keras.layers.Dense(5, activation='softmax')(x)\n",
        "# initialize the model\n",
        "model = keras.models.Model(inputs=inp, outputs=outp)\n",
        "model.compile(loss='categorical_crossentropy', \n",
        "              optimizer='adam', \n",
        "              metrics=['accuracy'])\n",
        "\n",
        "\n",
        "\n",
        "# wrap our model in our class so we can record metrics\n",
        "mw = ku.ModelWrapper(model, MODEL_NAME, LABEL_COLUMN, DATA_FILE,\n",
        "                     embedding=EMBED_SIZE,\n",
        "                     tokenizer=t, description=\"Pre-trained Embedding - word2vec (not normalized)\")\n",
        "\n",
        "network_history = mw.fit(X_train, y_train,\n",
        "                      batch_size=BATCH_SIZE,\n",
        "                      epochs=EPOCHS,\n",
        "                      verbose=1,\n",
        "                      validation_split=0.2,\n",
        "                      callbacks=[reduce_lr, early_stop])\n"
      ],
      "execution_count": 11,
      "outputs": [
        {
          "output_type": "stream",
          "text": [
            "WARNING: Logging before flag parsing goes to stderr.\n",
            "W0802 18:50:08.983992 139755072759680 deprecation_wrapper.py:119] From /usr/local/lib/python3.6/dist-packages/keras/backend/tensorflow_backend.py:74: The name tf.get_default_graph is deprecated. Please use tf.compat.v1.get_default_graph instead.\n",
            "\n",
            "W0802 18:50:08.994601 139755072759680 deprecation_wrapper.py:119] From /usr/local/lib/python3.6/dist-packages/keras/backend/tensorflow_backend.py:517: The name tf.placeholder is deprecated. Please use tf.compat.v1.placeholder instead.\n",
            "\n",
            "W0802 18:50:09.044988 139755072759680 deprecation_wrapper.py:119] From /usr/local/lib/python3.6/dist-packages/keras/backend/tensorflow_backend.py:4138: The name tf.random_uniform is deprecated. Please use tf.random.uniform instead.\n",
            "\n",
            "W0802 18:50:09.064046 139755072759680 deprecation_wrapper.py:119] From /usr/local/lib/python3.6/dist-packages/keras/backend/tensorflow_backend.py:174: The name tf.get_default_session is deprecated. Please use tf.compat.v1.get_default_session instead.\n",
            "\n",
            "W0802 18:50:09.065423 139755072759680 deprecation_wrapper.py:119] From /usr/local/lib/python3.6/dist-packages/keras/backend/tensorflow_backend.py:181: The name tf.ConfigProto is deprecated. Please use tf.compat.v1.ConfigProto instead.\n",
            "\n",
            "W0802 18:50:09.716747 139755072759680 deprecation.py:506] From /usr/local/lib/python3.6/dist-packages/keras/backend/tensorflow_backend.py:3445: calling dropout (from tensorflow.python.ops.nn_ops) with keep_prob is deprecated and will be removed in a future version.\n",
            "Instructions for updating:\n",
            "Please use `rate` instead of `keep_prob`. Rate should be set to `rate = 1 - keep_prob`.\n",
            "W0802 18:50:09.786491 139755072759680 deprecation_wrapper.py:119] From /usr/local/lib/python3.6/dist-packages/keras/optimizers.py:790: The name tf.train.Optimizer is deprecated. Please use tf.compat.v1.train.Optimizer instead.\n",
            "\n",
            "W0802 18:50:09.934996 139755072759680 deprecation.py:323] From /usr/local/lib/python3.6/dist-packages/tensorflow/python/ops/math_grad.py:1250: add_dispatch_support.<locals>.wrapper (from tensorflow.python.ops.array_ops) is deprecated and will be removed in a future version.\n",
            "Instructions for updating:\n",
            "Use tf.where in 2.0, which has the same broadcast rule as np.where\n"
          ],
          "name": "stderr"
        },
        {
          "output_type": "stream",
          "text": [
            "Train on 67225 samples, validate on 16807 samples\n",
            "Epoch 1/50\n",
            "67225/67225 [==============================] - 277s 4ms/step - loss: 1.1924 - acc: 0.5632 - val_loss: 0.9510 - val_acc: 0.6328\n",
            "Epoch 2/50\n",
            "67225/67225 [==============================] - 262s 4ms/step - loss: 0.9167 - acc: 0.6424 - val_loss: 0.9065 - val_acc: 0.6458\n",
            "Epoch 3/50\n",
            "67225/67225 [==============================] - 250s 4ms/step - loss: 0.8602 - acc: 0.6663 - val_loss: 0.8839 - val_acc: 0.6586\n",
            "Epoch 4/50\n",
            "67225/67225 [==============================] - 256s 4ms/step - loss: 0.8156 - acc: 0.6831 - val_loss: 0.8697 - val_acc: 0.6638\n",
            "Epoch 5/50\n",
            "67225/67225 [==============================] - 259s 4ms/step - loss: 0.7890 - acc: 0.6952 - val_loss: 0.8873 - val_acc: 0.6599\n",
            "Epoch 6/50\n",
            "67225/67225 [==============================] - 262s 4ms/step - loss: 0.7559 - acc: 0.7085 - val_loss: 0.8871 - val_acc: 0.6663\n",
            "Restoring model weights from the end of the best epoch\n",
            "Epoch 00006: early stopping\n"
          ],
          "name": "stdout"
        }
      ]
    },
    {
      "cell_type": "markdown",
      "metadata": {
        "id": "6sOo57e6VsxA",
        "colab_type": "text"
      },
      "source": [
        "## Evaluate our Model"
      ]
    },
    {
      "cell_type": "code",
      "metadata": {
        "id": "zXi8fOwOLuSY",
        "colab_type": "code",
        "outputId": "ede9883c-c487-4e4b-d43f-0f820d9b55eb",
        "colab": {
          "base_uri": "https://localhost:8080/",
          "height": 136
        }
      },
      "source": [
        "mw.evaluate(X_test, y_test)"
      ],
      "execution_count": 12,
      "outputs": [
        {
          "output_type": "stream",
          "text": [
            "Running model.evaluate...\n",
            "28011/28011 [==============================] - 7s 238us/step\n",
            "Running model.predict...\n",
            "Unencode predictions...\n",
            "Generating confusion matrix...\n",
            "Calculating ROC AUC...\n",
            "Getting classification report...\n"
          ],
          "name": "stdout"
        }
      ]
    },
    {
      "cell_type": "code",
      "metadata": {
        "id": "Uk6qElNqVzyG",
        "colab_type": "code",
        "outputId": "ff67bcc1-7399-400e-d763-9222a95fec0f",
        "colab": {
          "base_uri": "https://localhost:8080/",
          "height": 345
        }
      },
      "source": [
        "pu.plot_network_history(mw.network_history)"
      ],
      "execution_count": 13,
      "outputs": [
        {
          "output_type": "display_data",
          "data": {
            "image/png": "[encoded data removed]",
            "text/plain": [
              "<Figure size 720x360 with 2 Axes>"
            ]
          },
          "metadata": {
            "tags": []
          }
        }
      ]
    },
    {
      "cell_type": "code",
      "metadata": {
        "id": "aPDqVZ7eV59t",
        "colab_type": "code",
        "outputId": "5cc7b596-63f1-4895-c44b-2e0fecf544a8",
        "colab": {
          "base_uri": "https://localhost:8080/",
          "height": 34
        }
      },
      "source": [
        "print(f'Accuracy: {mw.scores[1]}')"
      ],
      "execution_count": 14,
      "outputs": [
        {
          "output_type": "stream",
          "text": [
            "Accuracy: 0.6663096640669314\n"
          ],
          "name": "stdout"
        }
      ]
    },
    {
      "cell_type": "code",
      "metadata": {
        "id": "hYdmGwr0V86N",
        "colab_type": "code",
        "outputId": "f5623120-2c55-4b23-e320-3b57f7180bc5",
        "colab": {
          "base_uri": "https://localhost:8080/",
          "height": 102
        }
      },
      "source": [
        "mw.confusion_matrix"
      ],
      "execution_count": 15,
      "outputs": [
        {
          "output_type": "execute_result",
          "data": {
            "text/plain": [
              "array([[ 3335,    52,   151,    36,   394],\n",
              "       [ 1081,    69,   250,   123,   348],\n",
              "       [  715,    73,   478,   460,   805],\n",
              "       [  268,    41,   319,   987,  3137],\n",
              "       [  300,     9,   158,   627, 13795]])"
            ]
          },
          "metadata": {
            "tags": []
          },
          "execution_count": 15
        }
      ]
    },
    {
      "cell_type": "code",
      "metadata": {
        "id": "eDoNqckVV-UX",
        "colab_type": "code",
        "outputId": "fa135717-e03d-43fc-ad18-c3c2f44f5f67",
        "colab": {
          "base_uri": "https://localhost:8080/",
          "height": 221
        }
      },
      "source": [
        "print(mw.classification_report)"
      ],
      "execution_count": 16,
      "outputs": [
        {
          "output_type": "stream",
          "text": [
            "              precision    recall  f1-score   support\n",
            "\n",
            "           1       0.59      0.84      0.69      3968\n",
            "           2       0.28      0.04      0.07      1871\n",
            "           3       0.35      0.19      0.25      2531\n",
            "           4       0.44      0.21      0.28      4752\n",
            "           5       0.75      0.93      0.83     14889\n",
            "\n",
            "    accuracy                           0.67     28011\n",
            "   macro avg       0.48      0.44      0.42     28011\n",
            "weighted avg       0.61      0.67      0.61     28011\n",
            "\n"
          ],
          "name": "stdout"
        }
      ]
    },
    {
      "cell_type": "code",
      "metadata": {
        "id": "_ee2_G5kV_7M",
        "colab_type": "code",
        "outputId": "7359c94a-7a83-47da-8587-881e140c128d",
        "colab": {
          "base_uri": "https://localhost:8080/",
          "height": 366
        }
      },
      "source": [
        "pu.plot_roc_auc(MODEL_NAME, mw.roc_auc, mw.fpr, mw.tpr)"
      ],
      "execution_count": 17,
      "outputs": [
        {
          "output_type": "display_data",
          "data": {
            "image/png": "[encoded data removed]",
            "text/plain": [
              "<Figure size 432x288 with 1 Axes>"
            ]
          },
          "metadata": {
            "tags": []
          }
        }
      ]
    },
    {
      "cell_type": "code",
      "metadata": {
        "id": "urwmZibdWFrV",
        "colab_type": "code",
        "outputId": "38024ca9-23aa-4701-a416-10b47d5a1110",
        "colab": {
          "base_uri": "https://localhost:8080/",
          "height": 275
        }
      },
      "source": [
        "mw.save(DRIVE_DIR, append_report=True)"
      ],
      "execution_count": 18,
      "outputs": [
        {
          "output_type": "stream",
          "text": [
            "description: amazon_reviews_us_Wireless_v1_00-preprocessed-110k-biGRU_1layer_attention-word2vec-186-star_rating\n",
            "Saving model file: drive/My Drive/Springboard/capstone/models/amazon_reviews_us_Wireless_v1_00-preprocessed-110k-biGRU_1layer_attention-word2vec-186-star_rating-model.h5\n",
            "Saving network history file: drive/My Drive/Springboard/capstone/models/amazon_reviews_us_Wireless_v1_00-preprocessed-110k-biGRU_1layer_attention-word2vec-186-star_rating-history.pkl\n",
            "Saving to report file: drive/My Drive/Springboard/capstone/reports/2019-08-02-dl_prototype-report.csv\n",
            "Loading to append to: drive/My Drive/Springboard/capstone/reports/2019-08-02-dl_prototype-report.csv\n"
          ],
          "name": "stdout"
        },
        {
          "output_type": "stream",
          "text": [
            "/usr/local/lib/python3.6/dist-packages/pandas/core/frame.py:6692: FutureWarning: Sorting because non-concatenation axis is not aligned. A future version\n",
            "of pandas will change to not sort by default.\n",
            "\n",
            "To accept the future behavior, pass 'sort=False'.\n",
            "\n",
            "To retain the current behavior and silence the warning, pass 'sort=True'.\n",
            "\n",
            "  sort=sort)\n"
          ],
          "name": "stderr"
        },
        {
          "output_type": "stream",
          "text": [
            "Saving report file...\n"
          ],
          "name": "stdout"
        }
      ]
    },
    {
      "cell_type": "code",
      "metadata": {
        "id": "6tm9bBLnWJw2",
        "colab_type": "code",
        "colab": {
          "base_uri": "https://localhost:8080/",
          "height": 884
        },
        "outputId": "3168ba43-c83e-41c0-f24d-d6ab741dc394"
      },
      "source": [
        "print(f'Unable to find {len(words_not_found)} words:')\n",
        "words_not_found[:50]"
      ],
      "execution_count": 20,
      "outputs": [
        {
          "output_type": "stream",
          "text": [
            "Unable to find 15528 words:\n"
          ],
          "name": "stdout"
        },
        {
          "output_type": "execute_result",
          "data": {
            "text/plain": [
              "['10',\n",
              " 'otterbox',\n",
              " 'someti',\n",
              " '30',\n",
              " '100',\n",
              " '20',\n",
              " 'fli',\n",
              " 'amsy',\n",
              " 'amilar',\n",
              " 'ampressed',\n",
              " 'aments',\n",
              " '15',\n",
              " '12',\n",
              " 'ammediately',\n",
              " '50',\n",
              " 'didnt',\n",
              " 'anker',\n",
              " 'doesnt',\n",
              " 'amportant',\n",
              " 'ampossible',\n",
              " '00',\n",
              " 'amited',\n",
              " '40',\n",
              " '25',\n",
              " '99',\n",
              " 'amage',\n",
              " 'spigen',\n",
              " 'lifeproof',\n",
              " '24',\n",
              " 'lifeti',\n",
              " 'tpu',\n",
              " 'amely',\n",
              " '11',\n",
              " 'ampact',\n",
              " '90',\n",
              " 'amagine',\n",
              " '60',\n",
              " 'selfie',\n",
              " 'plantronics',\n",
              " 'amprovement',\n",
              " '14',\n",
              " '200',\n",
              " 'amum',\n",
              " '13',\n",
              " 'amproved',\n",
              " 'jabra',\n",
              " 'lumia',\n",
              " '16',\n",
              " 'zagg',\n",
              " '18']"
            ]
          },
          "metadata": {
            "tags": []
          },
          "execution_count": 20
        }
      ]
    },
    {
      "cell_type": "code",
      "metadata": {
        "id": "Yj77_oalxAhz",
        "colab_type": "code",
        "colab": {}
      },
      "source": [
        ""
      ],
      "execution_count": 0,
      "outputs": []
    }
  ]
}