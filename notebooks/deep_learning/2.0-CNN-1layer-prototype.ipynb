{
  "nbformat": 4,
  "nbformat_minor": 0,
  "metadata": {
    "colab": {
      "name": "2.0-CNN-1layer-prototype.ipynb",
      "provenance": [],
      "collapsed_sections": [],
      "include_colab_link": true
    },
    "language_info": {
      "codemirror_mode": {
        "name": "ipython",
        "version": 3
      },
      "file_extension": ".py",
      "mimetype": "text/x-python",
      "name": "python",
      "nbconvert_exporter": "python",
      "pygments_lexer": "ipython3",
      "version": "3.7.3"
    },
    "kernelspec": {
      "name": "python3",
      "display_name": "Python 3"
    },
    "accelerator": "GPU"
  },
  "cells": [
    {
      "cell_type": "markdown",
      "metadata": {
        "id": "view-in-github",
        "colab_type": "text"
      },
      "source": [
        "<a href=\"https://colab.research.google.com/github/sv650s/amazon-review-classification/blob/master/notebooks/deep_learning/2.0-CNN-1layer-prototype.ipynb\" target=\"_parent\"><img src=\"https://colab.research.google.com/assets/colab-badge.svg\" alt=\"Open In Colab\"/></a>"
      ]
    },
    {
      "cell_type": "markdown",
      "metadata": {
        "id": "W7_sb1roJXhx",
        "colab_type": "text"
      },
      "source": [
        "# 1 Layer CNN x 32 Filters\n"
      ]
    },
    {
      "cell_type": "code",
      "metadata": {
        "id": "PQAdmLZOro8c",
        "colab_type": "code",
        "outputId": "2212a730-75b6-4a91-f3f6-1f64c5ae2247",
        "colab": {
          "base_uri": "https://localhost:8080/",
          "height": 72
        }
      },
      "source": [
        "from google.colab import drive\n",
        "drive.mount('/content/drive')\n",
        "\n",
        "import sys\n",
        "DRIVE_DIR = \"drive/My Drive/Springboard/capstone\"\n",
        "sys.path.append(DRIVE_DIR)\n",
        "\n",
        "\n",
        "%tensorflow_version 2.x\n",
        "\n",
        "\n",
        "import tensorflow as tf\n",
        "# checl to make sure we are using GPU here\n",
        "tf.test.gpu_device_name()"
      ],
      "execution_count": 1,
      "outputs": [
        {
          "output_type": "stream",
          "text": [
            "Drive already mounted at /content/drive; to attempt to forcibly remount, call drive.mount(\"/content/drive\", force_remount=True).\n"
          ],
          "name": "stdout"
        },
        {
          "output_type": "execute_result",
          "data": {
            "text/plain": [
              "'/device:GPU:0'"
            ]
          },
          "metadata": {
            "tags": []
          },
          "execution_count": 1
        }
      ]
    },
    {
      "cell_type": "code",
      "metadata": {
        "id": "At8OhHNfJXh3",
        "colab_type": "code",
        "colab": {
          "base_uri": "https://localhost:8080/",
          "height": 72
        },
        "outputId": "969db613-895d-43a0-8086-8d01b0c639e4"
      },
      "source": [
        "from tensorflow.keras.models import Sequential\n",
        "from tensorflow.keras.layers import Dense, Activation, Dropout, BatchNormalization\n",
        "from tensorflow.keras.callbacks import EarlyStopping, ReduceLROnPlateau\n",
        "from tensorflow.keras.models import load_model\n",
        "from tensorflow.keras.optimizers import SGD, Adam\n",
        "from tensorflow.keras.layers import Flatten\n",
        "from tensorflow.keras.layers import Conv1D, MaxPooling1D, Embedding\n",
        "from tensorflow.keras.utils import model_to_dot\n",
        "from tensorflow.keras.preprocessing.text import Tokenizer\n",
        "from tensorflow.keras.preprocessing import sequence\n",
        "\n",
        "\n",
        "from sklearn.model_selection import train_test_split\n",
        "from sklearn.preprocessing import OneHotEncoder, LabelEncoder\n",
        "from sklearn.metrics import confusion_matrix, classification_report\n",
        "from sklearn.utils.class_weight import compute_class_weight\n",
        "\n",
        "\n",
        "import pandas as pd\n",
        "import numpy as np\n",
        "from IPython.display import SVG\n",
        "import pickle\n",
        "from datetime import datetime\n",
        "import matplotlib.pyplot as plt\n",
        "import seaborn as sns\n",
        "import os\n",
        "import logging\n",
        "import importlib\n",
        "import json\n",
        "\n",
        "import util.dict_util as du\n",
        "import util.plot_util as pu\n",
        "import util.file_util as fu\n",
        "import util.keras_util as ku\n",
        "import util.report_util as ru\n",
        "\n",
        "import random\n",
        "\n",
        "RSTATE = 1\n",
        "# fix random seeds\n",
        "tf.compat.v1.reset_default_graph()\n",
        "tf.compat.v1.set_random_seed(RSTATE)\n",
        "random.seed(RSTATE)\n",
        "np.random.seed(RSTATE)\n",
        "\n",
        "\n",
        "logging.basicConfig(level=logging.INFO)\n",
        "\n",
        "%matplotlib inline\n",
        "sns.set()\n",
        "\n",
        "\n",
        "\n",
        "DATE_FORMAT = '%Y-%m-%d'\n",
        "TIME_FORMAT = '%Y-%m-%d %H:%M:%S'\n",
        "LABEL_COLUMN = \"star_rating\"\n",
        "REVIEW_COLUMN = \"review_body\"\n",
        "\n",
        "SAMPLE_SIZE = \"100k\"\n",
        "\n",
        "LEARNING_RATE = 0.01\n",
        "# first layer filter\n",
        "FILTER1 = 32\n",
        "# Network Settings\n",
        "KERNEL_SIZE = 3\n",
        "PATIENCE = 4\n",
        "\n",
        "# length of our embedding - 300 is standard\n",
        "EMBED_SIZE = 300\n",
        "EPOCHS  = 20\n",
        "BATCH_SIZE = 128\n",
        "\n",
        "# From EDA, we know that 90% of review bodies have 100 words or less, \n",
        "# we will use this as our sequence length\n",
        "MAX_SEQUENCE_LENGTH = 100\n",
        "\n",
        "DEBUG = False\n",
        "\n",
        "MODEL_NAME = \"CNN\"\n",
        "ARCHITECTURE = f\"1x{FILTER1}\"\n",
        "FEATURE_SET_NAME = \"embedding_random\"\n",
        "REPORT_FILE = \"dl_prototype-report.csv\"\n",
        "if DEBUG:\n",
        "  DATA_FILE = f'{DRIVE_DIR}/data/amazon_reviews_us_Wireless_v1_00-test-preprocessed.csv'\n",
        "  MODEL_NAME = f'test-{MODEL_NAME}'\n",
        "  REPORT_FILE = f'test-{REPORT_FILE}'\n",
        "else:\n",
        "  DATA_FILE = f\"{DRIVE_DIR}/data/amazon_reviews_us_Wireless_v1_00-{SAMPLE_SIZE}-preprocessed.csv\"\n",
        "\n",
        "ku.ModelWrapper.set_report_filename(REPORT_FILE)\n",
        "\n",
        "directory, INBASENAME = fu.get_dir_basename(DATA_FILE)\n",
        "DESCRIPTION = f\"1 Layer CNN with {FILTER1} filters, kernel size 3\"\n",
        "\n",
        "\n",
        "\n",
        "\n",
        "\n",
        "start_time = datetime.now()"
      ],
      "execution_count": 2,
      "outputs": [
        {
          "output_type": "stream",
          "text": [
            "/usr/local/lib/python3.6/dist-packages/statsmodels/tools/_testing.py:19: FutureWarning: pandas.util.testing is deprecated. Use the functions in the public API at pandas.testing instead.\n",
            "  import pandas.util.testing as tm\n"
          ],
          "name": "stderr"
        }
      ]
    },
    {
      "cell_type": "code",
      "metadata": {
        "hide_input": false,
        "id": "k6fwJp9OJXh5",
        "colab_type": "code",
        "colab": {}
      },
      "source": [
        "df = pd.read_csv(f\"{DATA_FILE}\")"
      ],
      "execution_count": 0,
      "outputs": []
    },
    {
      "cell_type": "code",
      "metadata": {
        "id": "nb3whPNGNsu6",
        "colab_type": "code",
        "outputId": "86997f5a-2961-4e99-d5b1-3efb624962fd",
        "colab": {
          "base_uri": "https://localhost:8080/",
          "height": 233
        }
      },
      "source": [
        "df.head()"
      ],
      "execution_count": 4,
      "outputs": [
        {
          "output_type": "execute_result",
          "data": {
            "text/html": [
              "<div>\n",
              "<style scoped>\n",
              "    .dataframe tbody tr th:only-of-type {\n",
              "        vertical-align: middle;\n",
              "    }\n",
              "\n",
              "    .dataframe tbody tr th {\n",
              "        vertical-align: top;\n",
              "    }\n",
              "\n",
              "    .dataframe thead th {\n",
              "        text-align: right;\n",
              "    }\n",
              "</style>\n",
              "<table border=\"1\" class=\"dataframe\">\n",
              "  <thead>\n",
              "    <tr style=\"text-align: right;\">\n",
              "      <th></th>\n",
              "      <th>star_rating</th>\n",
              "      <th>helpful_votes</th>\n",
              "      <th>total_votes</th>\n",
              "      <th>review_headline</th>\n",
              "      <th>review_body</th>\n",
              "      <th>review_date</th>\n",
              "    </tr>\n",
              "  </thead>\n",
              "  <tbody>\n",
              "    <tr>\n",
              "      <th>0</th>\n",
              "      <td>5</td>\n",
              "      <td>0</td>\n",
              "      <td>0</td>\n",
              "      <td>five star</td>\n",
              "      <td>very good quality price</td>\n",
              "      <td>2015-08-31</td>\n",
              "    </tr>\n",
              "    <tr>\n",
              "      <th>1</th>\n",
              "      <td>5</td>\n",
              "      <td>0</td>\n",
              "      <td>0</td>\n",
              "      <td>perfect</td>\n",
              "      <td>finished using trip loved able keep tablet ope...</td>\n",
              "      <td>2015-08-31</td>\n",
              "    </tr>\n",
              "    <tr>\n",
              "      <th>2</th>\n",
              "      <td>5</td>\n",
              "      <td>0</td>\n",
              "      <td>0</td>\n",
              "      <td>five star</td>\n",
              "      <td>great product arrived early exactly advertised</td>\n",
              "      <td>2015-08-31</td>\n",
              "    </tr>\n",
              "    <tr>\n",
              "      <th>3</th>\n",
              "      <td>5</td>\n",
              "      <td>0</td>\n",
              "      <td>0</td>\n",
              "      <td>five star</td>\n",
              "      <td>work perfectly</td>\n",
              "      <td>2015-08-31</td>\n",
              "    </tr>\n",
              "    <tr>\n",
              "      <th>4</th>\n",
              "      <td>2</td>\n",
              "      <td>0</td>\n",
              "      <td>0</td>\n",
              "      <td>expected amazon make better product little</td>\n",
              "      <td>cord still work see crack cord cord would fina...</td>\n",
              "      <td>2015-08-31</td>\n",
              "    </tr>\n",
              "  </tbody>\n",
              "</table>\n",
              "</div>"
            ],
            "text/plain": [
              "   star_rating  ...  review_date\n",
              "0            5  ...   2015-08-31\n",
              "1            5  ...   2015-08-31\n",
              "2            5  ...   2015-08-31\n",
              "3            5  ...   2015-08-31\n",
              "4            2  ...   2015-08-31\n",
              "\n",
              "[5 rows x 6 columns]"
            ]
          },
          "metadata": {
            "tags": []
          },
          "execution_count": 4
        }
      ]
    },
    {
      "cell_type": "code",
      "metadata": {
        "id": "pqHfMf6mJXh7",
        "colab_type": "code",
        "colab": {}
      },
      "source": [
        "rating = df[LABEL_COLUMN]\n",
        "reviews = df[REVIEW_COLUMN]"
      ],
      "execution_count": 0,
      "outputs": []
    },
    {
      "cell_type": "markdown",
      "metadata": {
        "id": "EBQR0ZpoOiQk",
        "colab_type": "text"
      },
      "source": [
        "**Preprocessing**"
      ]
    },
    {
      "cell_type": "code",
      "metadata": {
        "id": "lytdvF4neJ4r",
        "colab_type": "code",
        "outputId": "86a94157-17e3-4803-c36b-3a84caf6a7b2",
        "colab": {
          "base_uri": "https://localhost:8080/",
          "height": 69
        }
      },
      "source": [
        "# one hot encode ratings\n",
        "print(rating.shape)\n",
        "print(type(rating))\n",
        "y = OneHotEncoder().fit_transform(rating.values.reshape(len(rating), 1)).toarray()\n",
        "print(y.shape)"
      ],
      "execution_count": 6,
      "outputs": [
        {
          "output_type": "stream",
          "text": [
            "(99567,)\n",
            "<class 'pandas.core.series.Series'>\n",
            "(99567, 5)\n"
          ],
          "name": "stdout"
        }
      ]
    },
    {
      "cell_type": "code",
      "metadata": {
        "id": "8sdvF7lKPRfD",
        "colab_type": "code",
        "colab": {}
      },
      "source": [
        ""
      ],
      "execution_count": 0,
      "outputs": []
    },
    {
      "cell_type": "code",
      "metadata": {
        "id": "i0mwVXPjOpi5",
        "colab_type": "code",
        "outputId": "305722c8-6e24-403e-e3ca-18b2dc03c8fa",
        "colab": {
          "base_uri": "https://localhost:8080/",
          "height": 52
        }
      },
      "source": [
        "\n",
        "\n",
        "t = Tokenizer()\n",
        "# fit the tokenizer on the documents\n",
        "t.fit_on_texts(reviews)\n",
        "\n",
        "\n",
        "reviews_sequences = t.texts_to_sequences(reviews)\n",
        "reviews_padded = sequence.pad_sequences(reviews_sequences, maxlen=MAX_SEQUENCE_LENGTH)\n",
        "\n",
        "print(\"Vocabulary size={}\".format(len(t.word_counts)))\n",
        "print(\"Number of Documents={}\".format(t.document_count))\n",
        "\n",
        "\n",
        "X_train, X_test, y_train, y_test = train_test_split(reviews_padded, y, random_state=RSTATE)"
      ],
      "execution_count": 7,
      "outputs": [
        {
          "output_type": "stream",
          "text": [
            "Vocabulary size=36517\n",
            "Number of Documents=99567\n"
          ],
          "name": "stdout"
        }
      ]
    },
    {
      "cell_type": "code",
      "metadata": {
        "id": "Ou3A0O2aOwcb",
        "colab_type": "code",
        "colab": {}
      },
      "source": [
        ""
      ],
      "execution_count": 0,
      "outputs": []
    },
    {
      "cell_type": "code",
      "metadata": {
        "id": "LxDcAouddq88",
        "colab_type": "code",
        "colab": {}
      },
      "source": [
        "\n"
      ],
      "execution_count": 0,
      "outputs": []
    },
    {
      "cell_type": "markdown",
      "metadata": {
        "id": "OFdBCYCf3kle",
        "colab_type": "text"
      },
      "source": [
        "# Build our Model"
      ]
    },
    {
      "cell_type": "code",
      "metadata": {
        "id": "653DtCuBJXiF",
        "colab_type": "code",
        "colab": {}
      },
      "source": [
        "model = Sequential()\n",
        "model.add(Embedding(len(t.word_counts)+1, EMBED_SIZE, input_length=MAX_SEQUENCE_LENGTH))\n",
        "model.add(Conv1D(filters=FILTER1, kernel_size=KERNEL_SIZE, padding='same', activation='relu'))\n",
        "model.add(MaxPooling1D(pool_size=2))\n",
        "model.add(Flatten())\n",
        "model.add(Dense(250, activation='relu'))\n",
        "model.add(Dense(5, activation='softmax'))\n",
        "model.compile(loss='categorical_crossentropy', \n",
        "              optimizer=Adam(learning_rate=LEARNING_RATE), \n",
        "              metrics=['categorical_accuracy'])\n"
      ],
      "execution_count": 0,
      "outputs": []
    },
    {
      "cell_type": "code",
      "metadata": {
        "id": "iZitdxXPJXiI",
        "colab_type": "code",
        "outputId": "dee244f2-f74b-4a4c-b3c8-d1a9ffaaf7d1",
        "colab": {
          "base_uri": "https://localhost:8080/",
          "height": 380
        }
      },
      "source": [
        "print(model.summary())"
      ],
      "execution_count": 9,
      "outputs": [
        {
          "output_type": "stream",
          "text": [
            "Model: \"sequential\"\n",
            "_________________________________________________________________\n",
            "Layer (type)                 Output Shape              Param #   \n",
            "=================================================================\n",
            "embedding (Embedding)        (None, 100, 300)          10955400  \n",
            "_________________________________________________________________\n",
            "conv1d (Conv1D)              (None, 100, 32)           28832     \n",
            "_________________________________________________________________\n",
            "max_pooling1d (MaxPooling1D) (None, 50, 32)            0         \n",
            "_________________________________________________________________\n",
            "flatten (Flatten)            (None, 1600)              0         \n",
            "_________________________________________________________________\n",
            "dense (Dense)                (None, 250)               400250    \n",
            "_________________________________________________________________\n",
            "dense_1 (Dense)              (None, 5)                 1255      \n",
            "=================================================================\n",
            "Total params: 11,385,737\n",
            "Trainable params: 11,385,737\n",
            "Non-trainable params: 0\n",
            "_________________________________________________________________\n",
            "None\n"
          ],
          "name": "stdout"
        }
      ]
    },
    {
      "cell_type": "code",
      "metadata": {
        "scrolled": false,
        "id": "60eC_0fRJXiQ",
        "colab_type": "code",
        "outputId": "bcdfce19-8045-4de6-aa7e-15dd4819d194",
        "colab": {
          "base_uri": "https://localhost:8080/",
          "height": 331
        }
      },
      "source": [
        "# reduce learning rate if we sense a plateau\n",
        "reduce_lr = ReduceLROnPlateau(monitor='val_loss', \n",
        "                              restore_best_weights=True)\n",
        "\n",
        "early_stop = EarlyStopping(monitor='val_loss', \n",
        "                           patience=PATIENCE, \n",
        "                           verbose=1, \n",
        "                           restore_best_weights=True)\n",
        "\n",
        "weights = compute_class_weight('balanced', np.arange(1, 6), rating)\n",
        "weights_dict = {i: weights[i] for i in np.arange(0, len(weights))}\n",
        "print(f'class weights: {weights}')\n",
        "print(f'class weights_dict: {weights_dict}')\n",
        "\n",
        "\n",
        "mw = ku.ModelWrapper(model, \n",
        "                     model_name = MODEL_NAME, \n",
        "                     architecture = ARCHITECTURE,\n",
        "                     feature_set_name = FEATURE_SET_NAME,\n",
        "                     label_column = LABEL_COLUMN, \n",
        "                     feature_column = REVIEW_COLUMN,\n",
        "                     data_file = DATA_FILE, \n",
        "                     embed_size=EMBED_SIZE,\n",
        "                     tokenizer=t,\n",
        "                     description=DESCRIPTION)\n",
        "\n",
        "network_history = mw.fit(X_train, y_train,\n",
        "                      batch_size=BATCH_SIZE,\n",
        "                      epochs=EPOCHS,\n",
        "                      verbose=1,\n",
        "                      validation_split=0.2,\n",
        "                      class_weight=weights_dict,\n",
        "                      callbacks=[early_stop, reduce_lr])"
      ],
      "execution_count": 10,
      "outputs": [
        {
          "output_type": "stream",
          "text": [
            "class weights: [1.4344763  3.05560841 2.18300811 1.18525088 0.37399568]\n",
            "class weights_dict: {0: 1.4344763002449215, 1: 3.0556084087770445, 2: 2.183008112256084, 3: 1.185250877923933, 4: 0.37399568034557235}\n",
            "Number of training examples: 74675\n",
            "Epoch 1/20\n",
            "467/467 [==============================] - 60s 129ms/step - loss: 1.3119 - categorical_accuracy: 0.4962 - val_loss: 1.1486 - val_categorical_accuracy: 0.5165 - lr: 0.0100\n",
            "Epoch 2/20\n",
            "467/467 [==============================] - 59s 127ms/step - loss: 1.1442 - categorical_accuracy: 0.5493 - val_loss: 1.1404 - val_categorical_accuracy: 0.5335 - lr: 0.0100\n",
            "Epoch 3/20\n",
            "467/467 [==============================] - 58s 124ms/step - loss: 1.0572 - categorical_accuracy: 0.5706 - val_loss: 1.1601 - val_categorical_accuracy: 0.5077 - lr: 0.0100\n",
            "Epoch 4/20\n",
            "467/467 [==============================] - 58s 124ms/step - loss: 0.9922 - categorical_accuracy: 0.5968 - val_loss: 1.1683 - val_categorical_accuracy: 0.5602 - lr: 0.0100\n",
            "Epoch 5/20\n",
            "467/467 [==============================] - 58s 124ms/step - loss: 0.9245 - categorical_accuracy: 0.6177 - val_loss: 1.2721 - val_categorical_accuracy: 0.4513 - lr: 0.0100\n",
            "Epoch 6/20\n",
            "467/467 [==============================] - ETA: 0s - loss: 0.8767 - categorical_accuracy: 0.6333Restoring model weights from the end of the best epoch.\n",
            "467/467 [==============================] - 58s 124ms/step - loss: 0.8767 - categorical_accuracy: 0.6333 - val_loss: 1.2602 - val_categorical_accuracy: 0.5214 - lr: 0.0100\n",
            "Epoch 00006: early stopping\n"
          ],
          "name": "stdout"
        }
      ]
    },
    {
      "cell_type": "code",
      "metadata": {
        "id": "2VHBrsPjJXiS",
        "colab_type": "code",
        "outputId": "c4e25ca0-7f04-472f-c2a9-16f5fdbc485e",
        "colab": {
          "base_uri": "https://localhost:8080/",
          "height": 1000
        }
      },
      "source": [
        "\n",
        "scores = mw.evaluate(X_test, y_test)\n",
        "print(\"Accuracy: %.2f%%\" % (mw.scores[1]*100))\n",
        "\n",
        "\n",
        "\n",
        "pu.plot_network_history(mw.network_history, \"categorical_accuracy\", \"val_categorical_accuracy\")\n",
        "plt.show()\n",
        "\n",
        "print(\"\\nConfusion Matrix\")\n",
        "print(mw.confusion_matrix)\n",
        "\n",
        "print(\"\\nClassification Report\")\n",
        "print(mw.classification_report)\n",
        "\n",
        "fig = plt.figure(figsize=(5,5))\n",
        "pu.plot_roc_auc(mw.model_name, mw.roc_auc, mw.fpr, mw.tpr)\n",
        "\n"
      ],
      "execution_count": 11,
      "outputs": [
        {
          "output_type": "stream",
          "text": [
            "Number of test: 24892\n",
            "Running model.evaluate...\n",
            "778/778 [==============================] - 3s 4ms/step - loss: 1.1211 - categorical_accuracy: 0.5390\n",
            "Running model.predict...\n",
            "Unencode predictions...\n",
            "Generating confusion matrix...\n",
            "Calculating ROC AUC...\n",
            "(24892, 5)\n",
            "Getting classification report...\n",
            "Accuracy: 53.90%\n"
          ],
          "name": "stdout"
        },
        {
          "output_type": "display_data",
          "data": {
            "image/png": "[encoded data removed]",
            "text/plain": [
              "<Figure size 720x360 with 2 Axes>"
            ]
          },
          "metadata": {
            "tags": []
          }
        },
        {
          "output_type": "stream",
          "text": [
            "\n",
            "Confusion Matrix\n",
            "[[2141  938  340   35   46]\n",
            " [ 510  572  495   46   29]\n",
            " [ 233  629 1008  197  169]\n",
            " [  86  342 1415  770 1505]\n",
            " [ 116  660 1978 1707 8925]]\n",
            "\n",
            "Classification Report\n",
            "              precision    recall  f1-score   support\n",
            "\n",
            "           1       0.69      0.61      0.65      3500\n",
            "           2       0.18      0.35      0.24      1652\n",
            "           3       0.19      0.45      0.27      2236\n",
            "           4       0.28      0.19      0.22      4118\n",
            "           5       0.84      0.67      0.74     13386\n",
            "\n",
            "    accuracy                           0.54     24892\n",
            "   macro avg       0.44      0.45      0.42     24892\n",
            "weighted avg       0.62      0.54      0.57     24892\n",
            "\n"
          ],
          "name": "stdout"
        },
        {
          "output_type": "stream",
          "text": [
            "drive/My Drive/Springboard/capstone/util/plot_util.py:267: MatplotlibDeprecationWarning: The 'withdash' parameter of text() is deprecated since Matplotlib 3.1 and will be removed in 3.3.  If any parameter follows 'withdash', they should be pass as keyword, not positionally.\n",
            "  withdash=True)\n",
            "drive/My Drive/Springboard/capstone/util/plot_util.py:267: MatplotlibDeprecationWarning: \n",
            "The TextWithDash class was deprecated in Matplotlib 3.1 and will be removed in 3.3. Use Annotation instead.\n",
            "  withdash=True)\n",
            "drive/My Drive/Springboard/capstone/util/plot_util.py:271: MatplotlibDeprecationWarning: The 'withdash' parameter of text() is deprecated since Matplotlib 3.1 and will be removed in 3.3.  If any parameter follows 'withdash', they should be pass as keyword, not positionally.\n",
            "  withdash=True)\n",
            "drive/My Drive/Springboard/capstone/util/plot_util.py:271: MatplotlibDeprecationWarning: \n",
            "The TextWithDash class was deprecated in Matplotlib 3.1 and will be removed in 3.3. Use Annotation instead.\n",
            "  withdash=True)\n",
            "drive/My Drive/Springboard/capstone/util/plot_util.py:275: MatplotlibDeprecationWarning: The 'withdash' parameter of text() is deprecated since Matplotlib 3.1 and will be removed in 3.3.  If any parameter follows 'withdash', they should be pass as keyword, not positionally.\n",
            "  withdash=True)\n",
            "drive/My Drive/Springboard/capstone/util/plot_util.py:275: MatplotlibDeprecationWarning: \n",
            "The TextWithDash class was deprecated in Matplotlib 3.1 and will be removed in 3.3. Use Annotation instead.\n",
            "  withdash=True)\n"
          ],
          "name": "stderr"
        },
        {
          "output_type": "display_data",
          "data": {
            "image/png": "[encoded data removed]",
            "text/plain": [
              "<Figure size 360x360 with 1 Axes>"
            ]
          },
          "metadata": {
            "tags": []
          }
        }
      ]
    },
    {
      "cell_type": "code",
      "metadata": {
        "id": "uB28-_Bdo7Mj",
        "colab_type": "code",
        "outputId": "d11c010e-6b98-40d4-d808-8e8dd58c7f0f",
        "colab": {
          "base_uri": "https://localhost:8080/",
          "height": 69
        }
      },
      "source": [
        "print(f'Overall Score: {ru.calculate_metric(mw.crd)}')"
      ],
      "execution_count": 12,
      "outputs": [
        {
          "output_type": "stream",
          "text": [
            "INFO:util.report_util:calculating metric from dictionary\n",
            "INFO:util.report_util:got all values to calculate\n"
          ],
          "name": "stderr"
        },
        {
          "output_type": "stream",
          "text": [
            "Overall Score: 0.37636051575984897\n"
          ],
          "name": "stdout"
        }
      ]
    },
    {
      "cell_type": "markdown",
      "metadata": {
        "id": "VQ4GRUTq6t6e",
        "colab_type": "text"
      },
      "source": [
        "**Save off various files**"
      ]
    },
    {
      "cell_type": "code",
      "metadata": {
        "id": "VjW8V1MR61kJ",
        "colab_type": "code",
        "outputId": "bd818478-021a-4db8-a03d-1e8f4679e11f",
        "colab": {
          "base_uri": "https://localhost:8080/",
          "height": 193
        }
      },
      "source": [
        "\n",
        "mw.save(DRIVE_DIR, append_report=True)\n"
      ],
      "execution_count": 13,
      "outputs": [
        {
          "output_type": "stream",
          "text": [
            "description: CNN-1x32-embedding_random-sampling_none-99567-100-review_body\n",
            "Saving to report file: drive/My Drive/Springboard/capstone//reports/dl_prototype-report.csv\n",
            "{'model_name': 'CNN', 'architecture': '1x32', 'description': '1 Layer CNN with 32 filters, kernel size 3', 'feature_column': '{\"1\": {\"precision\": 0.6937783538561244, \"recall\": 0.6117142857142858, \"f1-score\": 0.650167020953538, \"support\": 3500}, \"2\": {\"precision\": 0.18210760904170648, \"recall\": 0.34624697336561744, \"f1-score\": 0.23868141039015234, \"support\": 1652}, \"3\": {\"precision\": 0.1925133689839572, \"recall\": 0.45080500894454384, \"f1-score\": 0.26980728051391867, \"support\": 2236}, \"4\": {\"precision\": 0.279491833030853, \"recall\": 0.18698397280233123, \"f1-score\": 0.22406518259857414, \"support\": 4118}, \"5\": {\"precision\": 0.8361439010680157, \"recall\": 0.6667413715822501, \"f1-score\": 0.7418952618453865, \"support\": 13386}, \"accuracy\": 0.538968343242809, \"macro avg\": {\"precision\": 0.43680701319613136, \"recall\": 0.45249832248180566, \"f1-score\": 0.4249232312603139, \"support\": 24892}, \"weighted avg\": {\"precision\": 0.6228143793105807, \"recall\": 0.538968343242809, \"f1-score\": 0.5675271468557893, \"support\": 24892}}', 'label_column': '{\"1\": {\"precision\": 0.6937783538561244, \"recall\": 0.6117142857142858, \"f1-score\": 0.650167020953538, \"support\": 3500}, \"2\": {\"precision\": 0.18210760904170648, \"recall\": 0.34624697336561744, \"f1-score\": 0.23868141039015234, \"support\": 1652}, \"3\": {\"precision\": 0.1925133689839572, \"recall\": 0.45080500894454384, \"f1-score\": 0.26980728051391867, \"support\": 2236}, \"4\": {\"precision\": 0.279491833030853, \"recall\": 0.18698397280233123, \"f1-score\": 0.22406518259857414, \"support\": 4118}, \"5\": {\"precision\": 0.8361439010680157, \"recall\": 0.6667413715822501, \"f1-score\": 0.7418952618453865, \"support\": 13386}, \"accuracy\": 0.538968343242809, \"macro avg\": {\"precision\": 0.43680701319613136, \"recall\": 0.45249832248180566, \"f1-score\": 0.4249232312603139, \"support\": 24892}, \"weighted avg\": {\"precision\": 0.6228143793105807, \"recall\": 0.538968343242809, \"f1-score\": 0.5675271468557893, \"support\": 24892}}', 'classification_report': '{\"1\": {\"precision\": 0.6937783538561244, \"recall\": 0.6117142857142858, \"f1-score\": 0.650167020953538, \"support\": 3500}, \"2\": {\"precision\": 0.18210760904170648, \"recall\": 0.34624697336561744, \"f1-score\": 0.23868141039015234, \"support\": 1652}, \"3\": {\"precision\": 0.1925133689839572, \"recall\": 0.45080500894454384, \"f1-score\": 0.26980728051391867, \"support\": 2236}, \"4\": {\"precision\": 0.279491833030853, \"recall\": 0.18698397280233123, \"f1-score\": 0.22406518259857414, \"support\": 4118}, \"5\": {\"precision\": 0.8361439010680157, \"recall\": 0.6667413715822501, \"f1-score\": 0.7418952618453865, \"support\": 13386}, \"accuracy\": 0.538968343242809, \"macro avg\": {\"precision\": 0.43680701319613136, \"recall\": 0.45249832248180566, \"f1-score\": 0.4249232312603139, \"support\": 24892}, \"weighted avg\": {\"precision\": 0.6228143793105807, \"recall\": 0.538968343242809, \"f1-score\": 0.5675271468557893, \"support\": 24892}}', 'roc_auc': '{\"auc_1\": 0.9367683446415215, \"auc_2\": 0.8286418850774944, \"auc_3\": 0.7665322754483643, \"auc_4\": 0.6458658757470075, \"auc_5\": 0.8577994950970954, \"auc_micro\": 0.8375747184126605, \"auc_macro\": 0.8071476494617283}', 'loss': 1.1211436986923218, 'accuracy': 0.5389683246612549, 'confusion_matrix': '[[2141, 938, 340, 35, 46], [510, 572, 495, 46, 29], [233, 629, 1008, 197, 169], [86, 342, 1415, 770, 1505], [116, 660, 1978, 1707, 8925]]', 'file': 'drive/My Drive/Springboard/capstone/data/amazon_reviews_us_Wireless_v1_00-100k-preprocessed.csv', 'network_history_file': 'drive/My Drive/Springboard/capstone//reports/CNN-1x32-embedding_random-sampling_none-99567-100-review_body-history.pkl', 'tokenizer_file': 'drive/My Drive/Springboard/capstone//models/CNN-1x32-embedding_random-sampling_none-99567-100-review_body-tokenizer.pkl', 'max_sequence_length': 100, 'batch_size': 128, 'epochs': 6, 'feature_set_name': 'embedding_random', 'class_weight': '{\"0\": 1.4344763002449215, \"1\": 3.0556084087770445, \"2\": 2.183008112256084, \"3\": 1.185250877923933, \"4\": 0.37399568034557235}', 'sampling_type': 'none', 'embedding': 300, 'model_file': 'drive/My Drive/Springboard/capstone//models/CNN-1x32-embedding_random-sampling_none-99567-100-review_body-model.h5', 'model_json_file': 'drive/My Drive/Springboard/capstone//models/CNN-1x32-embedding_random-sampling_none-99567-100-review_body-model.json', 'weights_file': 'drive/My Drive/Springboard/capstone//models/CNN-1x32-embedding_random-sampling_none-99567-100-review_body-weights.h5', 'test_examples': 24892, 'test_features': 100, 'train_examples': 74675, 'train_features': 100, 'train_time_min': 7.08, 'evaluate_time_min': 0.07, 'predict_time_min': 0.03, 'status': 'success', 'status_date': '2020-05-01 09:43:37'}\n",
            "Saving report file...\n",
            "Saving json config file: drive/My Drive/Springboard/capstone//models/CNN-1x32-embedding_random-sampling_none-99567-100-review_body-model.json\n",
            "Saving weights file: drive/My Drive/Springboard/capstone//models/CNN-1x32-embedding_random-sampling_none-99567-100-review_body-weights.h5\n",
            "Saving history file: drive/My Drive/Springboard/capstone//reports/CNN-1x32-embedding_random-sampling_none-99567-100-review_body-history.pkl\n",
            "Saving model file: drive/My Drive/Springboard/capstone//models/CNN-1x32-embedding_random-sampling_none-99567-100-review_body-model.h5\n"
          ],
          "name": "stdout"
        },
        {
          "output_type": "stream",
          "text": [
            "INFO:util.keras_util:Saving tokenizer file: drive/My Drive/Springboard/capstone//models/CNN-1x32-embedding_random-sampling_none-99567-100-review_body-tokenizer.pkl\n"
          ],
          "name": "stderr"
        }
      ]
    },
    {
      "cell_type": "code",
      "metadata": {
        "id": "S0kvbmASiMmF",
        "colab_type": "code",
        "colab": {
          "base_uri": "https://localhost:8080/",
          "height": 52
        },
        "outputId": "6b5de203-af25-4164-a62e-cf05d2f61249"
      },
      "source": [
        "from tensorflow.keras.models import load_model\n",
        "\n",
        "model_loaded = load_model(mw.model_file)\n",
        "scores = model_loaded.evaluate(X_test, y_test, verbose=1)\n",
        "print(\"Accuracy: %.2f%%\" % (scores[1]*100))\n",
        "\n",
        "# this takes too long for real models\n",
        "if DEBUG == True:\n",
        "  y_predict = model_loaded.predict(X_test)\n",
        "  y_predict_unencoded = ku.unencode(y_predict)\n",
        "  y_test_unencoded = ku.unencode(y_test)\n",
        "\n",
        "  # classification report\n",
        "  print(classification_report(y_test_unencoded, y_predict_unencoded))\n",
        "\n",
        "  # confusion matrix\n",
        "  print(confusion_matrix(y_test_unencoded, y_predict_unencoded))\n"
      ],
      "execution_count": 14,
      "outputs": [
        {
          "output_type": "stream",
          "text": [
            "778/778 [==============================] - 3s 4ms/step - loss: 1.1211 - categorical_accuracy: 0.5390\n",
            "Accuracy: 53.90%\n"
          ],
          "name": "stdout"
        }
      ]
    },
    {
      "cell_type": "code",
      "metadata": {
        "id": "GjVjezXPJXin",
        "colab_type": "code",
        "outputId": "3fa6ee06-b285-483c-c1ed-35d0e8d48ac5",
        "colab": {
          "base_uri": "https://localhost:8080/",
          "height": 86
        }
      },
      "source": [
        "end_time = datetime.now()\n",
        "print(f'Start Time: {start_time}\\n' \\\n",
        "      f'End Time: {end_time}\\n' \\\n",
        "      f'Total Duration: {round((end_time - start_time).total_seconds() / 60, 2)} mins')\n",
        "print(datetime.now())"
      ],
      "execution_count": 15,
      "outputs": [
        {
          "output_type": "stream",
          "text": [
            "Start Time: 2020-05-01 09:37:20.180485\n",
            "End Time: 2020-05-01 09:43:42.048229\n",
            "Total Duration: 6.36 mins\n",
            "2020-05-01 09:43:42.048431\n"
          ],
          "name": "stdout"
        }
      ]
    },
    {
      "cell_type": "code",
      "metadata": {
        "id": "wSV9DYUgNHwo",
        "colab_type": "code",
        "colab": {}
      },
      "source": [
        ""
      ],
      "execution_count": 0,
      "outputs": []
    }
  ]
}