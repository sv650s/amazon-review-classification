{
  "nbformat": 4,
  "nbformat_minor": 0,
  "metadata": {
    "colab": {
      "name": "2019-06-23-LSTM_prototype.ipynb",
      "version": "0.3.2",
      "provenance": [],
      "collapsed_sections": [],
      "include_colab_link": true
    },
    "language_info": {
      "codemirror_mode": {
        "name": "ipython",
        "version": 3
      },
      "file_extension": ".py",
      "mimetype": "text/x-python",
      "name": "python",
      "nbconvert_exporter": "python",
      "pygments_lexer": "ipython3",
      "version": "3.7.3"
    },
    "kernelspec": {
      "name": "python3",
      "display_name": "Python 3"
    },
    "accelerator": "GPU"
  },
  "cells": [
    {
      "cell_type": "markdown",
      "metadata": {
        "id": "view-in-github",
        "colab_type": "text"
      },
      "source": [
        "<a href=\"https://colab.research.google.com/github/sv650s/sb-capstone/blob/master/2019-06-23-LSTM_prototype.ipynb\" target=\"_parent\"><img src=\"https://colab.research.google.com/assets/colab-badge.svg\" alt=\"Open In Colab\"/></a>"
      ]
    },
    {
      "cell_type": "markdown",
      "metadata": {
        "id": "W7_sb1roJXhx",
        "colab_type": "text"
      },
      "source": [
        "# LSTM Prototype\n",
        "\n",
        "Modeling this notebook after the following:\n",
        "\n",
        "https://nbviewer.jupyter.org/github/dipanjanS/nlp_workshop_dhs18/blob/master/Unit%2012%20-%20Project%209%20-%20Sentiment%20Analysis%20-%20Supervised%20Learning/12C%20-%20Sentiment%20Analysis%20-%20Advanced%20Deep%20Learning%20-%20LSTMs.ipynb\n",
        "\n",
        "\n",
        "\n",
        "Making the following changes:\n",
        "\n",
        "* last layer is a 5 node layer with softmax activation function since we are doing a 5 class classification\n",
        "* Changing the loss function from binary_crossentropy to categorical_crossentropy since we are doing multi-class classification\n",
        "* running fit with 50 epochs with early stopping with patience of 2"
      ]
    },
    {
      "cell_type": "code",
      "metadata": {
        "id": "v2AR3xjPc9Cf",
        "colab_type": "code",
        "outputId": "2873c573-5a90-4b24-c6bf-49e803fa76b8",
        "colab": {
          "base_uri": "https://localhost:8080/",
          "height": 34
        }
      },
      "source": [
        "# attach google drive to access data files and to save models and reports\n",
        "from google.colab import drive\n",
        "import sys\n",
        "drive.mount('/content/drive')\n",
        "DRIVE_DIR = \"drive/My Drive/Springboard/capstone\"\n",
        "# add this to sys patch so we can import utility functions\n",
        "sys.path.append(DRIVE_DIR)\n"
      ],
      "execution_count": 1,
      "outputs": [
        {
          "output_type": "stream",
          "text": [
            "Drive already mounted at /content/drive; to attempt to forcibly remount, call drive.mount(\"/content/drive\", force_remount=True).\n"
          ],
          "name": "stdout"
        }
      ]
    },
    {
      "cell_type": "code",
      "metadata": {
        "id": "pAHGtniuJXhy",
        "colab_type": "code",
        "outputId": "0beb2974-7486-4c67-b2dd-68ab0f74d1e0",
        "colab": {
          "base_uri": "https://localhost:8080/",
          "height": 34
        }
      },
      "source": [
        "from keras.models import Sequential\n",
        "from keras.layers.normalization import BatchNormalization\n",
        "from keras.callbacks import EarlyStopping\n",
        "from keras.models import load_model\n",
        "from sklearn.model_selection import train_test_split\n",
        "from keras.optimizers import SGD\n",
        "from sklearn.preprocessing import OneHotEncoder\n",
        "from keras.layers import Flatten\n",
        "from keras.layers import Dense, Embedding, Dropout, SpatialDropout1D, Activation\n",
        "from keras.layers import LSTM\n",
        "import pandas as pd\n",
        "from IPython.display import SVG\n",
        "from keras.utils.vis_utils import model_to_dot\n",
        "import pickle\n",
        "from datetime import datetime\n",
        "from sklearn.metrics import confusion_matrix, classification_report\n",
        "import os\n",
        "import seaborn as sns\n",
        "import matplotlib.pyplot as plt\n",
        "import logging\n",
        "\n",
        "\n",
        "%matplotlib inline\n",
        "sns.set()\n",
        "\n",
        "# import custom utilities\n",
        "import util.dict_util as du\n",
        "import util.plot_util as pu\n",
        "import util.file_util as fu\n",
        "import util.keras_util as ku\n",
        "\n",
        "\n",
        "logging.basicConfig(level=logging.INFO)\n"
      ],
      "execution_count": 2,
      "outputs": [
        {
          "output_type": "stream",
          "text": [
            "Using TensorFlow backend.\n"
          ],
          "name": "stderr"
        }
      ]
    },
    {
      "cell_type": "code",
      "metadata": {
        "id": "At8OhHNfJXh3",
        "colab_type": "code",
        "colab": {}
      },
      "source": [
        "DATE_FORMAT = '%Y-%m-%d'\n",
        "TIME_FORMAT = '%Y-%m-%d %H:%M:%S'\n",
        "DATA_FILE = f\"{DRIVE_DIR}/data/amazon_reviews_us_Wireless_v1_00-preprocessed-110k.csv\"\n",
        "LABEL_COLUMN = \"star_rating\"\n",
        "REVIEW_COLUMN = \"review_body\"\n",
        "directory, INBASENAME = fu.get_dir_basename(DATA_FILE)\n",
        "# keep words under this qunatile length as features\n",
        "QUANTILE = 0.99"
      ],
      "execution_count": 0,
      "outputs": []
    },
    {
      "cell_type": "code",
      "metadata": {
        "id": "KfGVl2gXLMV_",
        "colab_type": "code",
        "outputId": "b8be30d2-0602-413b-cf4e-e5a06d8398cc",
        "colab": {
          "base_uri": "https://localhost:8080/",
          "height": 34
        }
      },
      "source": [
        "import tensorflow as tf\n",
        "# checl to make sure we are using GPU here\n",
        "tf.test.gpu_device_name()"
      ],
      "execution_count": 4,
      "outputs": [
        {
          "output_type": "execute_result",
          "data": {
            "text/plain": [
              "'/device:GPU:0'"
            ]
          },
          "metadata": {
            "tags": []
          },
          "execution_count": 4
        }
      ]
    },
    {
      "cell_type": "code",
      "metadata": {
        "hide_input": false,
        "id": "k6fwJp9OJXh5",
        "colab_type": "code",
        "colab": {}
      },
      "source": [
        "# df = pd.read_csv(f\"{DATA_DIR}/{DATA_FILE}\")\n",
        "df = pd.read_csv(f\"{DATA_FILE}\")"
      ],
      "execution_count": 0,
      "outputs": []
    },
    {
      "cell_type": "code",
      "metadata": {
        "id": "nb3whPNGNsu6",
        "colab_type": "code",
        "outputId": "0ec6097b-abf3-4369-f47d-2a213dffa9f0",
        "colab": {
          "base_uri": "https://localhost:8080/",
          "height": 442
        }
      },
      "source": [
        "df.head()"
      ],
      "execution_count": 6,
      "outputs": [
        {
          "output_type": "execute_result",
          "data": {
            "text/html": [
              "<div>\n",
              "<style scoped>\n",
              "    .dataframe tbody tr th:only-of-type {\n",
              "        vertical-align: middle;\n",
              "    }\n",
              "\n",
              "    .dataframe tbody tr th {\n",
              "        vertical-align: top;\n",
              "    }\n",
              "\n",
              "    .dataframe thead th {\n",
              "        text-align: right;\n",
              "    }\n",
              "</style>\n",
              "<table border=\"1\" class=\"dataframe\">\n",
              "  <thead>\n",
              "    <tr style=\"text-align: right;\">\n",
              "      <th></th>\n",
              "      <th>customer_id</th>\n",
              "      <th>review_id</th>\n",
              "      <th>product_id</th>\n",
              "      <th>product_parent</th>\n",
              "      <th>product_title</th>\n",
              "      <th>product_category</th>\n",
              "      <th>star_rating</th>\n",
              "      <th>helpful_votes</th>\n",
              "      <th>total_votes</th>\n",
              "      <th>review_headline</th>\n",
              "      <th>review_body</th>\n",
              "      <th>review_date</th>\n",
              "    </tr>\n",
              "  </thead>\n",
              "  <tbody>\n",
              "    <tr>\n",
              "      <th>0</th>\n",
              "      <td>48623501</td>\n",
              "      <td>R1G7J2VAMI4AEC</td>\n",
              "      <td>B00LBK7QBY</td>\n",
              "      <td>361030039</td>\n",
              "      <td>universal waterproof case joto cellphone dry b...</td>\n",
              "      <td>Wireless</td>\n",
              "      <td>5</td>\n",
              "      <td>0</td>\n",
              "      <td>0</td>\n",
              "      <td>good product please note not</td>\n",
              "      <td>good product please note not floating case do ...</td>\n",
              "      <td>2015-08-31</td>\n",
              "    </tr>\n",
              "    <tr>\n",
              "      <th>1</th>\n",
              "      <td>533148</td>\n",
              "      <td>R3Q4JAPXWCCJU7</td>\n",
              "      <td>B00W661MOO</td>\n",
              "      <td>360205932</td>\n",
              "      <td>car mount alpatronix mx101 universal charging ...</td>\n",
              "      <td>Wireless</td>\n",
              "      <td>5</td>\n",
              "      <td>0</td>\n",
              "      <td>0</td>\n",
              "      <td>great product holds phone place</td>\n",
              "      <td>great product holds phone place does not slip ...</td>\n",
              "      <td>2015-08-31</td>\n",
              "    </tr>\n",
              "    <tr>\n",
              "      <th>2</th>\n",
              "      <td>40266813</td>\n",
              "      <td>RJQWVO0QV2WQ4</td>\n",
              "      <td>B00USN9L0E</td>\n",
              "      <td>105913119</td>\n",
              "      <td>synthetic leather galaxy s6 sleeve thin</td>\n",
              "      <td>Wireless</td>\n",
              "      <td>5</td>\n",
              "      <td>0</td>\n",
              "      <td>0</td>\n",
              "      <td>exactly described</td>\n",
              "      <td>quality looks good prompt postage cannot argue...</td>\n",
              "      <td>2015-08-31</td>\n",
              "    </tr>\n",
              "    <tr>\n",
              "      <th>3</th>\n",
              "      <td>228806</td>\n",
              "      <td>R3RFPR7X60WN6C</td>\n",
              "      <td>B00YPAOKMU</td>\n",
              "      <td>564491128</td>\n",
              "      <td>jiake s6 5 0 inch unlocked smart phone quad co...</td>\n",
              "      <td>Wireless</td>\n",
              "      <td>5</td>\n",
              "      <td>0</td>\n",
              "      <td>0</td>\n",
              "      <td>powerful attractive really do love mode</td>\n",
              "      <td>works much like jiake phone love price great b...</td>\n",
              "      <td>2015-08-31</td>\n",
              "    </tr>\n",
              "    <tr>\n",
              "      <th>4</th>\n",
              "      <td>10866798</td>\n",
              "      <td>R3QL2UPH2B7YFT</td>\n",
              "      <td>B00O0S97SE</td>\n",
              "      <td>742788022</td>\n",
              "      <td>tfy universal car headrest mount holder portab...</td>\n",
              "      <td>Wireless</td>\n",
              "      <td>3</td>\n",
              "      <td>0</td>\n",
              "      <td>1</td>\n",
              "      <td>good enough</td>\n",
              "      <td>serves purpose loud whoever sitting seat attached</td>\n",
              "      <td>2015-08-31</td>\n",
              "    </tr>\n",
              "  </tbody>\n",
              "</table>\n",
              "</div>"
            ],
            "text/plain": [
              "   customer_id  ... review_date\n",
              "0     48623501  ...  2015-08-31\n",
              "1       533148  ...  2015-08-31\n",
              "2     40266813  ...  2015-08-31\n",
              "3       228806  ...  2015-08-31\n",
              "4     10866798  ...  2015-08-31\n",
              "\n",
              "[5 rows x 12 columns]"
            ]
          },
          "metadata": {
            "tags": []
          },
          "execution_count": 6
        }
      ]
    },
    {
      "cell_type": "code",
      "metadata": {
        "id": "pqHfMf6mJXh7",
        "colab_type": "code",
        "colab": {}
      },
      "source": [
        "rating = df[LABEL_COLUMN]\n",
        "reviews = df[REVIEW_COLUMN]"
      ],
      "execution_count": 0,
      "outputs": []
    },
    {
      "cell_type": "markdown",
      "metadata": {
        "id": "EBQR0ZpoOiQk",
        "colab_type": "text"
      },
      "source": [
        "**Preprocessing**"
      ]
    },
    {
      "cell_type": "code",
      "metadata": {
        "id": "lytdvF4neJ4r",
        "colab_type": "code",
        "outputId": "1fc83ed3-b62b-4dc1-cd12-c1cf48954a99",
        "colab": {
          "base_uri": "https://localhost:8080/",
          "height": 258
        }
      },
      "source": [
        "# one hot encode ratings\n",
        "print(rating.shape)\n",
        "print(type(rating))\n",
        "y = OneHotEncoder().fit_transform(rating.values.reshape(len(rating), 1)).toarray()\n",
        "y"
      ],
      "execution_count": 8,
      "outputs": [
        {
          "output_type": "stream",
          "text": [
            "(112043,)\n",
            "<class 'pandas.core.series.Series'>\n"
          ],
          "name": "stdout"
        },
        {
          "output_type": "stream",
          "text": [
            "/usr/local/lib/python3.6/dist-packages/sklearn/preprocessing/_encoders.py:415: FutureWarning: The handling of integer data will change in version 0.22. Currently, the categories are determined based on the range [0, max(values)], while in the future they will be determined based on the unique values.\n",
            "If you want the future behaviour and silence this warning, you can specify \"categories='auto'\".\n",
            "In case you used a LabelEncoder before this OneHotEncoder to convert the categories to integers, then you can now use the OneHotEncoder directly.\n",
            "  warnings.warn(msg, FutureWarning)\n"
          ],
          "name": "stderr"
        },
        {
          "output_type": "execute_result",
          "data": {
            "text/plain": [
              "array([[0., 0., 0., 0., 1.],\n",
              "       [0., 0., 0., 0., 1.],\n",
              "       [0., 0., 0., 0., 1.],\n",
              "       ...,\n",
              "       [0., 0., 1., 0., 0.],\n",
              "       [0., 0., 0., 0., 1.],\n",
              "       [0., 0., 0., 1., 0.]])"
            ]
          },
          "metadata": {
            "tags": []
          },
          "execution_count": 8
        }
      ]
    },
    {
      "cell_type": "code",
      "metadata": {
        "id": "8sdvF7lKPRfD",
        "colab_type": "code",
        "colab": {}
      },
      "source": [
        "reviews_train, reviews_test, y_train, y_test = train_test_split(reviews, y, random_state=1)"
      ],
      "execution_count": 0,
      "outputs": []
    },
    {
      "cell_type": "code",
      "metadata": {
        "id": "i0mwVXPjOpi5",
        "colab_type": "code",
        "colab": {}
      },
      "source": [
        "from keras.preprocessing.text import Tokenizer\n",
        "from keras.preprocessing import sequence\n",
        "from sklearn.preprocessing import LabelEncoder\n",
        "\n",
        "t = Tokenizer()\n",
        "# fit the tokenizer on the documents\n",
        "t.fit_on_texts(reviews_train)"
      ],
      "execution_count": 0,
      "outputs": []
    },
    {
      "cell_type": "code",
      "metadata": {
        "id": "Ou3A0O2aOwcb",
        "colab_type": "code",
        "colab": {}
      },
      "source": [
        "train_sequences = t.texts_to_sequences(reviews_train)"
      ],
      "execution_count": 0,
      "outputs": []
    },
    {
      "cell_type": "code",
      "metadata": {
        "id": "DuDHcMvNcZW_",
        "colab_type": "code",
        "outputId": "d3b70741-2806-4e18-ca1e-f74c1c1406de",
        "colab": {
          "base_uri": "https://localhost:8080/",
          "height": 493
        }
      },
      "source": [
        "train_sequences[:2]"
      ],
      "execution_count": 12,
      "outputs": [
        {
          "output_type": "execute_result",
          "data": {
            "text/plain": [
              "[[20,\n",
              "  24,\n",
              "  16,\n",
              "  11,\n",
              "  1,\n",
              "  21,\n",
              "  2629,\n",
              "  398,\n",
              "  710,\n",
              "  67,\n",
              "  341,\n",
              "  30,\n",
              "  2290,\n",
              "  153,\n",
              "  140,\n",
              "  13,\n",
              "  1,\n",
              "  28,\n",
              "  186,\n",
              "  396,\n",
              "  20,\n",
              "  16,\n",
              "  93,\n",
              "  370,\n",
              "  1346,\n",
              "  408,\n",
              "  992],\n",
              " [99, 70, 31, 1, 168, 44, 1744, 452]]"
            ]
          },
          "metadata": {
            "tags": []
          },
          "execution_count": 12
        }
      ]
    },
    {
      "cell_type": "code",
      "metadata": {
        "id": "HuIWpmJasPVx",
        "colab_type": "code",
        "colab": {}
      },
      "source": [
        "# from collections import Counter\n",
        "\n",
        "# tokenized_train = [tn.tokenizer.tokenize(text) for text in reviews_train]\n",
        "# tokenized_test = [tn.tokenizer.tokenize(text) for text in reviews_test]\n",
        "\n",
        "# # build word to index vocabulary\n",
        "# token_counter = Counter([token for review in tokenized_train for token in review])\n",
        "# vocab_map = {item[0]: index+1 for index, item in enumerate(dict(token_counter).items())}\n",
        "# max_index = np.max(list(vocab_map.values()))\n",
        "# vocab_map['PAD_INDEX'] = 0\n",
        "# vocab_map['NOT_FOUND_INDEX'] = max_index+1\n",
        "# vocab_size = len(vocab_map)\n",
        "# # view vocabulary size and part of the vocabulary map\n",
        "# print('Vocabulary Size:', vocab_size)\n",
        "# print('Sample slice of vocabulary map:', dict(list(vocab_map.items())[10:20]))\n",
        "\n",
        "# max_len = np.max([len(review) for review in tokenized_train])\n",
        "\n",
        "# ## Train reviews data corpus\n",
        "# # Convert tokenized text reviews to numeric vectors\n",
        "# train_X = [[vocab_map[token] for token in tokenized_review] for tokenized_review in tokenized_train]\n",
        "# train_X = sequence.pad_sequences(train_X, maxlen=max_len) # pad \n",
        "\n",
        "# ## Test reviews data corpus\n",
        "# # Convert tokenized text reviews to numeric vectors\n",
        "# test_X = [[vocab_map[token] if vocab_map.get(token) else vocab_map['NOT_FOUND_INDEX'] \n",
        "#            for token in tokenized_review] \n",
        "#               for tokenized_review in tokenized_test]\n",
        "# test_X = sequence.pad_sequences(test_X, maxlen=max_len)\n",
        "\n",
        "# # view vector shapes\n",
        "# print('Max length of train review vectors:', max_len)\n",
        "# print('Train review vectors shape:', train_X.shape, ' Test review vectors shape:', test_X.shape)"
      ],
      "execution_count": 0,
      "outputs": []
    },
    {
      "cell_type": "code",
      "metadata": {
        "id": "Xx9whgnmPXkC",
        "colab_type": "code",
        "outputId": "6955e681-c735-4d68-a1bc-2f08468814ca",
        "colab": {
          "base_uri": "https://localhost:8080/",
          "height": 816
        }
      },
      "source": [
        "test_sequences = t.texts_to_sequences(reviews_test)\n",
        "test_sequences[:2]"
      ],
      "execution_count": 14,
      "outputs": [
        {
          "output_type": "execute_result",
          "data": {
            "text/plain": [
              "[[9,\n",
              "  608,\n",
              "  2584,\n",
              "  670,\n",
              "  437,\n",
              "  246,\n",
              "  2,\n",
              "  323,\n",
              "  5,\n",
              "  31,\n",
              "  203,\n",
              "  340,\n",
              "  1414,\n",
              "  643,\n",
              "  342,\n",
              "  147,\n",
              "  242,\n",
              "  272,\n",
              "  54,\n",
              "  128,\n",
              "  278,\n",
              "  908,\n",
              "  27],\n",
              " [764,\n",
              "  1621,\n",
              "  4,\n",
              "  783,\n",
              "  2,\n",
              "  11,\n",
              "  1,\n",
              "  149,\n",
              "  260,\n",
              "  3,\n",
              "  914,\n",
              "  243,\n",
              "  249,\n",
              "  2369,\n",
              "  2,\n",
              "  9,\n",
              "  105,\n",
              "  11,\n",
              "  3,\n",
              "  131,\n",
              "  94,\n",
              "  128,\n",
              "  10,\n",
              "  21]]"
            ]
          },
          "metadata": {
            "tags": []
          },
          "execution_count": 14
        }
      ]
    },
    {
      "cell_type": "code",
      "metadata": {
        "id": "bt_xMQApPd_f",
        "colab_type": "code",
        "outputId": "5b2dea31-b1bb-4454-8838-42f06f16f623",
        "colab": {
          "base_uri": "https://localhost:8080/",
          "height": 51
        }
      },
      "source": [
        "print(\"Vocabulary size={}\".format(len(t.word_counts)))\n",
        "print(\"Number of Documents={}\".format(t.document_count))\n"
      ],
      "execution_count": 15,
      "outputs": [
        {
          "output_type": "stream",
          "text": [
            "Vocabulary size=40788\n",
            "Number of Documents=84032\n"
          ],
          "name": "stdout"
        }
      ]
    },
    {
      "cell_type": "markdown",
      "metadata": {
        "id": "vyaOznruPjq-",
        "colab_type": "text"
      },
      "source": [
        "**Sequence Normalization**\n",
        "\n",
        "Figure out max length of review and pad the rest so they are all the same length"
      ]
    },
    {
      "cell_type": "code",
      "metadata": {
        "id": "HbmXj-JuPvCT",
        "colab_type": "code",
        "outputId": "dcc915ef-69bf-4be1-de4f-71e9dbfc6e51",
        "colab": {
          "base_uri": "https://localhost:8080/",
          "height": 34
        }
      },
      "source": [
        "df[\"review_length\"] = df.review_body.apply(lambda x: len(x.split()))\n",
        "df.review_length.max()"
      ],
      "execution_count": 16,
      "outputs": [
        {
          "output_type": "execute_result",
          "data": {
            "text/plain": [
              "2864"
            ]
          },
          "metadata": {
            "tags": []
          },
          "execution_count": 16
        }
      ]
    },
    {
      "cell_type": "code",
      "metadata": {
        "id": "tR3hDNoCQnvR",
        "colab_type": "code",
        "outputId": "de1bec91-da0e-4d10-c78d-61d29b8e4bd5",
        "colab": {
          "base_uri": "https://localhost:8080/",
          "height": 297
        }
      },
      "source": [
        "df.describe()"
      ],
      "execution_count": 17,
      "outputs": [
        {
          "output_type": "execute_result",
          "data": {
            "text/html": [
              "<div>\n",
              "<style scoped>\n",
              "    .dataframe tbody tr th:only-of-type {\n",
              "        vertical-align: middle;\n",
              "    }\n",
              "\n",
              "    .dataframe tbody tr th {\n",
              "        vertical-align: top;\n",
              "    }\n",
              "\n",
              "    .dataframe thead th {\n",
              "        text-align: right;\n",
              "    }\n",
              "</style>\n",
              "<table border=\"1\" class=\"dataframe\">\n",
              "  <thead>\n",
              "    <tr style=\"text-align: right;\">\n",
              "      <th></th>\n",
              "      <th>customer_id</th>\n",
              "      <th>product_parent</th>\n",
              "      <th>star_rating</th>\n",
              "      <th>helpful_votes</th>\n",
              "      <th>total_votes</th>\n",
              "      <th>review_length</th>\n",
              "    </tr>\n",
              "  </thead>\n",
              "  <tbody>\n",
              "    <tr>\n",
              "      <th>count</th>\n",
              "      <td>1.120430e+05</td>\n",
              "      <td>1.120430e+05</td>\n",
              "      <td>112043.000000</td>\n",
              "      <td>112043.000000</td>\n",
              "      <td>112043.000000</td>\n",
              "      <td>112043.000000</td>\n",
              "    </tr>\n",
              "    <tr>\n",
              "      <th>mean</th>\n",
              "      <td>2.547598e+07</td>\n",
              "      <td>4.994998e+08</td>\n",
              "      <td>3.889078</td>\n",
              "      <td>0.912435</td>\n",
              "      <td>1.189704</td>\n",
              "      <td>26.322965</td>\n",
              "    </tr>\n",
              "    <tr>\n",
              "      <th>std</th>\n",
              "      <td>1.582173e+07</td>\n",
              "      <td>2.879968e+08</td>\n",
              "      <td>1.463196</td>\n",
              "      <td>10.304687</td>\n",
              "      <td>11.167197</td>\n",
              "      <td>47.248166</td>\n",
              "    </tr>\n",
              "    <tr>\n",
              "      <th>min</th>\n",
              "      <td>1.014100e+04</td>\n",
              "      <td>1.365700e+04</td>\n",
              "      <td>1.000000</td>\n",
              "      <td>0.000000</td>\n",
              "      <td>0.000000</td>\n",
              "      <td>1.000000</td>\n",
              "    </tr>\n",
              "    <tr>\n",
              "      <th>25%</th>\n",
              "      <td>1.231110e+07</td>\n",
              "      <td>2.493906e+08</td>\n",
              "      <td>3.000000</td>\n",
              "      <td>0.000000</td>\n",
              "      <td>0.000000</td>\n",
              "      <td>8.000000</td>\n",
              "    </tr>\n",
              "    <tr>\n",
              "      <th>50%</th>\n",
              "      <td>2.344848e+07</td>\n",
              "      <td>4.990693e+08</td>\n",
              "      <td>5.000000</td>\n",
              "      <td>0.000000</td>\n",
              "      <td>0.000000</td>\n",
              "      <td>15.000000</td>\n",
              "    </tr>\n",
              "    <tr>\n",
              "      <th>75%</th>\n",
              "      <td>4.040851e+07</td>\n",
              "      <td>7.481358e+08</td>\n",
              "      <td>5.000000</td>\n",
              "      <td>0.000000</td>\n",
              "      <td>1.000000</td>\n",
              "      <td>29.000000</td>\n",
              "    </tr>\n",
              "    <tr>\n",
              "      <th>max</th>\n",
              "      <td>5.309655e+07</td>\n",
              "      <td>9.999930e+08</td>\n",
              "      <td>5.000000</td>\n",
              "      <td>1447.000000</td>\n",
              "      <td>1524.000000</td>\n",
              "      <td>2864.000000</td>\n",
              "    </tr>\n",
              "  </tbody>\n",
              "</table>\n",
              "</div>"
            ],
            "text/plain": [
              "        customer_id  product_parent  ...    total_votes  review_length\n",
              "count  1.120430e+05    1.120430e+05  ...  112043.000000  112043.000000\n",
              "mean   2.547598e+07    4.994998e+08  ...       1.189704      26.322965\n",
              "std    1.582173e+07    2.879968e+08  ...      11.167197      47.248166\n",
              "min    1.014100e+04    1.365700e+04  ...       0.000000       1.000000\n",
              "25%    1.231110e+07    2.493906e+08  ...       0.000000       8.000000\n",
              "50%    2.344848e+07    4.990693e+08  ...       0.000000      15.000000\n",
              "75%    4.040851e+07    7.481358e+08  ...       1.000000      29.000000\n",
              "max    5.309655e+07    9.999930e+08  ...    1524.000000    2864.000000\n",
              "\n",
              "[8 rows x 6 columns]"
            ]
          },
          "metadata": {
            "tags": []
          },
          "execution_count": 17
        }
      ]
    },
    {
      "cell_type": "code",
      "metadata": {
        "id": "-fUrtXcnzrYz",
        "colab_type": "code",
        "outputId": "ab9bb547-d4f1-46d7-f8da-7f226de6397f",
        "colab": {
          "base_uri": "https://localhost:8080/",
          "height": 119
        }
      },
      "source": [
        "df.review_length.quantile([0.95, 0.96, 0.97, 0.98, 0.99])"
      ],
      "execution_count": 18,
      "outputs": [
        {
          "output_type": "execute_result",
          "data": {
            "text/plain": [
              "0.95     84.0\n",
              "0.96     95.0\n",
              "0.97    110.0\n",
              "0.98    136.0\n",
              "0.99    186.0\n",
              "Name: review_length, dtype: float64"
            ]
          },
          "metadata": {
            "tags": []
          },
          "execution_count": 18
        }
      ]
    },
    {
      "cell_type": "code",
      "metadata": {
        "id": "JnBz2oaMa_uq",
        "colab_type": "code",
        "outputId": "2a54376e-db00-45f5-c7ad-83d56296d834",
        "colab": {
          "base_uri": "https://localhost:8080/",
          "height": 34
        }
      },
      "source": [
        "MAX_SEQUENCE_LENGTH = int(df.review_length.quantile([QUANTILE]).values[0])\n",
        "MAX_SEQUENCE_LENGTH"
      ],
      "execution_count": 19,
      "outputs": [
        {
          "output_type": "execute_result",
          "data": {
            "text/plain": [
              "186"
            ]
          },
          "metadata": {
            "tags": []
          },
          "execution_count": 19
        }
      ]
    },
    {
      "cell_type": "markdown",
      "metadata": {
        "id": "FzomQClub7Qo",
        "colab_type": "text"
      },
      "source": [
        "Looks like 99% of our reviews have 186 words or less. If we keep our sequence length to around 186 words, this should allow us to keep most of our content\n",
        "\n",
        "NOTE: no need to do encoding for our star_ratings since this is already in a number format"
      ]
    },
    {
      "cell_type": "code",
      "metadata": {
        "id": "W9HZDo9Lbna9",
        "colab_type": "code",
        "colab": {}
      },
      "source": [
        "# pad dataset to a maximum review length in words\n",
        "X_train = sequence.pad_sequences(train_sequences, maxlen=MAX_SEQUENCE_LENGTH)\n",
        "X_test = sequence.pad_sequences(test_sequences, maxlen=MAX_SEQUENCE_LENGTH)"
      ],
      "execution_count": 0,
      "outputs": []
    },
    {
      "cell_type": "markdown",
      "metadata": {
        "id": "F6YI8EiNb5CF",
        "colab_type": "text"
      },
      "source": [
        ""
      ]
    },
    {
      "cell_type": "code",
      "metadata": {
        "id": "_yP1USpSJXh9",
        "colab_type": "code",
        "outputId": "7d2a0a6b-8c90-41ab-b366-61430778c302",
        "colab": {
          "base_uri": "https://localhost:8080/",
          "height": 612
        }
      },
      "source": [
        "X_train[:2]"
      ],
      "execution_count": 21,
      "outputs": [
        {
          "output_type": "execute_result",
          "data": {
            "text/plain": [
              "array([[   0,    0,    0,    0,    0,    0,    0,    0,    0,    0,    0,\n",
              "           0,    0,    0,    0,    0,    0,    0,    0,    0,    0,    0,\n",
              "           0,    0,    0,    0,    0,    0,    0,    0,    0,    0,    0,\n",
              "           0,    0,    0,    0,    0,    0,    0,    0,    0,    0,    0,\n",
              "           0,    0,    0,    0,    0,    0,    0,    0,    0,    0,    0,\n",
              "           0,    0,    0,    0,    0,    0,    0,    0,    0,    0,    0,\n",
              "           0,    0,    0,    0,    0,    0,    0,    0,    0,    0,    0,\n",
              "           0,    0,    0,    0,    0,    0,    0,    0,    0,    0,    0,\n",
              "           0,    0,    0,    0,    0,    0,    0,    0,    0,    0,    0,\n",
              "           0,    0,    0,    0,    0,    0,    0,    0,    0,    0,    0,\n",
              "           0,    0,    0,    0,    0,    0,    0,    0,    0,    0,    0,\n",
              "           0,    0,    0,    0,    0,    0,    0,    0,    0,    0,    0,\n",
              "           0,    0,    0,    0,    0,    0,    0,    0,    0,    0,    0,\n",
              "           0,    0,    0,    0,    0,    0,    0,    0,    0,    0,    0,\n",
              "           0,    0,    0,    0,    0,   20,   24,   16,   11,    1,   21,\n",
              "        2629,  398,  710,   67,  341,   30, 2290,  153,  140,   13,    1,\n",
              "          28,  186,  396,   20,   16,   93,  370, 1346,  408,  992],\n",
              "       [   0,    0,    0,    0,    0,    0,    0,    0,    0,    0,    0,\n",
              "           0,    0,    0,    0,    0,    0,    0,    0,    0,    0,    0,\n",
              "           0,    0,    0,    0,    0,    0,    0,    0,    0,    0,    0,\n",
              "           0,    0,    0,    0,    0,    0,    0,    0,    0,    0,    0,\n",
              "           0,    0,    0,    0,    0,    0,    0,    0,    0,    0,    0,\n",
              "           0,    0,    0,    0,    0,    0,    0,    0,    0,    0,    0,\n",
              "           0,    0,    0,    0,    0,    0,    0,    0,    0,    0,    0,\n",
              "           0,    0,    0,    0,    0,    0,    0,    0,    0,    0,    0,\n",
              "           0,    0,    0,    0,    0,    0,    0,    0,    0,    0,    0,\n",
              "           0,    0,    0,    0,    0,    0,    0,    0,    0,    0,    0,\n",
              "           0,    0,    0,    0,    0,    0,    0,    0,    0,    0,    0,\n",
              "           0,    0,    0,    0,    0,    0,    0,    0,    0,    0,    0,\n",
              "           0,    0,    0,    0,    0,    0,    0,    0,    0,    0,    0,\n",
              "           0,    0,    0,    0,    0,    0,    0,    0,    0,    0,    0,\n",
              "           0,    0,    0,    0,    0,    0,    0,    0,    0,    0,    0,\n",
              "           0,    0,    0,    0,    0,    0,    0,    0,    0,    0,    0,\n",
              "           0,    0,   99,   70,   31,    1,  168,   44, 1744,  452]],\n",
              "      dtype=int32)"
            ]
          },
          "metadata": {
            "tags": []
          },
          "execution_count": 21
        }
      ]
    },
    {
      "cell_type": "code",
      "metadata": {
        "id": "0eJWZ7ZZuUsR",
        "colab_type": "code",
        "outputId": "d1b62e81-68ee-4fc9-c383-6539058c65f8",
        "colab": {
          "base_uri": "https://localhost:8080/",
          "height": 34
        }
      },
      "source": [
        "print('Train review vectors shape:', X_train.shape, ' Test review vectors shape:', X_test.shape)"
      ],
      "execution_count": 22,
      "outputs": [
        {
          "output_type": "stream",
          "text": [
            "Train review vectors shape: (84032, 186)  Test review vectors shape: (28011, 186)\n"
          ],
          "name": "stdout"
        }
      ]
    },
    {
      "cell_type": "markdown",
      "metadata": {
        "id": "t-ED8tmnbLd7",
        "colab_type": "text"
      },
      "source": [
        ""
      ]
    },
    {
      "cell_type": "code",
      "metadata": {
        "id": "lvkxqTmcJXiA",
        "colab_type": "code",
        "outputId": "ff1f56cb-cdba-4bcd-abf0-76bfb524a520",
        "colab": {
          "base_uri": "https://localhost:8080/",
          "height": 119
        }
      },
      "source": [
        "rating.head()"
      ],
      "execution_count": 23,
      "outputs": [
        {
          "output_type": "execute_result",
          "data": {
            "text/plain": [
              "0    5\n",
              "1    5\n",
              "2    5\n",
              "3    5\n",
              "4    3\n",
              "Name: star_rating, dtype: int64"
            ]
          },
          "metadata": {
            "tags": []
          },
          "execution_count": 23
        }
      ]
    },
    {
      "cell_type": "code",
      "metadata": {
        "id": "LxDcAouddq88",
        "colab_type": "code",
        "colab": {}
      },
      "source": [
        "MODEL_NAME = \"LSTM_1layer\"\n",
        "EMBED_SIZE = 300\n",
        "EPOCHS  = 50\n",
        "BATCH_SIZE = 128\n",
        "VOCAB_SIZE = len(t.word_counts)+1\n",
        "LSTM_DIM = 64 # total LSTM units\n",
        "\n"
      ],
      "execution_count": 0,
      "outputs": []
    },
    {
      "cell_type": "markdown",
      "metadata": {
        "id": "6hWLBCjqucDJ",
        "colab_type": "text"
      },
      "source": [
        "**Build LSTM Model Architecture**"
      ]
    },
    {
      "cell_type": "code",
      "metadata": {
        "id": "653DtCuBJXiF",
        "colab_type": "code",
        "outputId": "e4648612-cbf6-4df6-ab85-b3736d10f38c",
        "colab": {
          "base_uri": "https://localhost:8080/",
          "height": 309
        }
      },
      "source": [
        "model = Sequential()\n",
        "model.add(Embedding(input_dim=VOCAB_SIZE, output_dim=EMBED_SIZE, input_length=MAX_SEQUENCE_LENGTH))\n",
        "model.add(SpatialDropout1D(0.2))\n",
        "model.add(LSTM(LSTM_DIM, dropout=0.2, recurrent_dropout=0.2))\n",
        "model.add(Dense(5, activation=\"softmax\"))\n",
        "\n",
        "model.compile(loss=\"categorical_crossentropy\", optimizer=\"adam\",\n",
        "              metrics=[\"accuracy\"])"
      ],
      "execution_count": 25,
      "outputs": [
        {
          "output_type": "stream",
          "text": [
            "WARNING: Logging before flag parsing goes to stderr.\n",
            "W0730 02:12:05.476282 139727301986176 deprecation_wrapper.py:119] From /usr/local/lib/python3.6/dist-packages/keras/backend/tensorflow_backend.py:74: The name tf.get_default_graph is deprecated. Please use tf.compat.v1.get_default_graph instead.\n",
            "\n",
            "W0730 02:12:05.482543 139727301986176 deprecation_wrapper.py:119] From /usr/local/lib/python3.6/dist-packages/keras/backend/tensorflow_backend.py:517: The name tf.placeholder is deprecated. Please use tf.compat.v1.placeholder instead.\n",
            "\n",
            "W0730 02:12:05.485697 139727301986176 deprecation_wrapper.py:119] From /usr/local/lib/python3.6/dist-packages/keras/backend/tensorflow_backend.py:4138: The name tf.random_uniform is deprecated. Please use tf.random.uniform instead.\n",
            "\n",
            "W0730 02:12:05.528120 139727301986176 deprecation_wrapper.py:119] From /usr/local/lib/python3.6/dist-packages/keras/backend/tensorflow_backend.py:133: The name tf.placeholder_with_default is deprecated. Please use tf.compat.v1.placeholder_with_default instead.\n",
            "\n",
            "W0730 02:12:05.537635 139727301986176 deprecation.py:506] From /usr/local/lib/python3.6/dist-packages/keras/backend/tensorflow_backend.py:3445: calling dropout (from tensorflow.python.ops.nn_ops) with keep_prob is deprecated and will be removed in a future version.\n",
            "Instructions for updating:\n",
            "Please use `rate` instead of `keep_prob`. Rate should be set to `rate = 1 - keep_prob`.\n",
            "W0730 02:12:06.208961 139727301986176 deprecation_wrapper.py:119] From /usr/local/lib/python3.6/dist-packages/keras/optimizers.py:790: The name tf.train.Optimizer is deprecated. Please use tf.compat.v1.train.Optimizer instead.\n",
            "\n",
            "W0730 02:12:06.240401 139727301986176 deprecation_wrapper.py:119] From /usr/local/lib/python3.6/dist-packages/keras/backend/tensorflow_backend.py:3295: The name tf.log is deprecated. Please use tf.math.log instead.\n",
            "\n"
          ],
          "name": "stderr"
        }
      ]
    },
    {
      "cell_type": "code",
      "metadata": {
        "id": "iZitdxXPJXiI",
        "colab_type": "code",
        "outputId": "37050122-3fce-47fa-a8ee-1ae06afde41d",
        "colab": {
          "base_uri": "https://localhost:8080/",
          "height": 289
        }
      },
      "source": [
        "print(model.summary())"
      ],
      "execution_count": 26,
      "outputs": [
        {
          "output_type": "stream",
          "text": [
            "_________________________________________________________________\n",
            "Layer (type)                 Output Shape              Param #   \n",
            "=================================================================\n",
            "embedding_1 (Embedding)      (None, 186, 300)          12236700  \n",
            "_________________________________________________________________\n",
            "spatial_dropout1d_1 (Spatial (None, 186, 300)          0         \n",
            "_________________________________________________________________\n",
            "lstm_1 (LSTM)                (None, 64)                93440     \n",
            "_________________________________________________________________\n",
            "dense_1 (Dense)              (None, 5)                 325       \n",
            "=================================================================\n",
            "Total params: 12,330,465\n",
            "Trainable params: 12,330,465\n",
            "Non-trainable params: 0\n",
            "_________________________________________________________________\n",
            "None\n"
          ],
          "name": "stdout"
        }
      ]
    },
    {
      "cell_type": "code",
      "metadata": {
        "id": "RqLc7s0BJXiK",
        "colab_type": "code",
        "outputId": "fe6007f1-ac59-46a7-ffc1-c2c52be94fb7",
        "colab": {
          "base_uri": "https://localhost:8080/",
          "height": 524
        }
      },
      "source": [
        "SVG(model_to_dot(model, show_shapes=True, show_layer_names=False, \n",
        "                 rankdir='TB').create(prog='dot', format='svg'))"
      ],
      "execution_count": 27,
      "outputs": [
        {
          "output_type": "execute_result",
          "data": {
            "text/plain": [
              "<IPython.core.display.SVG object>"
            ],
            "image/svg+xml": "<svg height=\"377pt\" viewBox=\"0.00 0.00 305.00 377.00\" width=\"305pt\" xmlns=\"http://www.w3.org/2000/svg\" xmlns:xlink=\"http://www.w3.org/1999/xlink\">\n<g class=\"graph\" id=\"graph0\" transform=\"scale(1 1) rotate(0) translate(4 373)\">\n<title>G</title>\n<polygon fill=\"#ffffff\" points=\"-4,4 -4,-373 301,-373 301,4 -4,4\" stroke=\"transparent\"/>\n<!-- 139724384927928 -->\n<g class=\"node\" id=\"node1\">\n<title>139724384927928</title>\n<polygon fill=\"none\" points=\"19,-249.5 19,-295.5 278,-295.5 278,-249.5 19,-249.5\" stroke=\"#000000\"/>\n<text fill=\"#000000\" font-family=\"Times,serif\" font-size=\"14.00\" text-anchor=\"middle\" x=\"61\" y=\"-268.8\">Embedding</text>\n<polyline fill=\"none\" points=\"103,-249.5 103,-295.5 \" stroke=\"#000000\"/>\n<text fill=\"#000000\" font-family=\"Times,serif\" font-size=\"14.00\" text-anchor=\"middle\" x=\"132\" y=\"-280.3\">input:</text>\n<polyline fill=\"none\" points=\"103,-272.5 161,-272.5 \" stroke=\"#000000\"/>\n<text fill=\"#000000\" font-family=\"Times,serif\" font-size=\"14.00\" text-anchor=\"middle\" x=\"132\" y=\"-257.3\">output:</text>\n<polyline fill=\"none\" points=\"161,-249.5 161,-295.5 \" stroke=\"#000000\"/>\n<text fill=\"#000000\" font-family=\"Times,serif\" font-size=\"14.00\" text-anchor=\"middle\" x=\"219.5\" y=\"-280.3\">(None, 186)</text>\n<polyline fill=\"none\" points=\"161,-272.5 278,-272.5 \" stroke=\"#000000\"/>\n<text fill=\"#000000\" font-family=\"Times,serif\" font-size=\"14.00\" text-anchor=\"middle\" x=\"219.5\" y=\"-257.3\">(None, 186, 300)</text>\n</g>\n<!-- 139724384929272 -->\n<g class=\"node\" id=\"node2\">\n<title>139724384929272</title>\n<polygon fill=\"none\" points=\"0,-166.5 0,-212.5 297,-212.5 297,-166.5 0,-166.5\" stroke=\"#000000\"/>\n<text fill=\"#000000\" font-family=\"Times,serif\" font-size=\"14.00\" text-anchor=\"middle\" x=\"61\" y=\"-185.8\">SpatialDropout1D</text>\n<polyline fill=\"none\" points=\"122,-166.5 122,-212.5 \" stroke=\"#000000\"/>\n<text fill=\"#000000\" font-family=\"Times,serif\" font-size=\"14.00\" text-anchor=\"middle\" x=\"151\" y=\"-197.3\">input:</text>\n<polyline fill=\"none\" points=\"122,-189.5 180,-189.5 \" stroke=\"#000000\"/>\n<text fill=\"#000000\" font-family=\"Times,serif\" font-size=\"14.00\" text-anchor=\"middle\" x=\"151\" y=\"-174.3\">output:</text>\n<polyline fill=\"none\" points=\"180,-166.5 180,-212.5 \" stroke=\"#000000\"/>\n<text fill=\"#000000\" font-family=\"Times,serif\" font-size=\"14.00\" text-anchor=\"middle\" x=\"238.5\" y=\"-197.3\">(None, 186, 300)</text>\n<polyline fill=\"none\" points=\"180,-189.5 297,-189.5 \" stroke=\"#000000\"/>\n<text fill=\"#000000\" font-family=\"Times,serif\" font-size=\"14.00\" text-anchor=\"middle\" x=\"238.5\" y=\"-174.3\">(None, 186, 300)</text>\n</g>\n<!-- 139724384927928&#45;&gt;139724384929272 -->\n<g class=\"edge\" id=\"edge2\">\n<title>139724384927928-&gt;139724384929272</title>\n<path d=\"M148.5,-249.3799C148.5,-241.1745 148.5,-231.7679 148.5,-222.8786\" fill=\"none\" stroke=\"#000000\"/>\n<polygon fill=\"#000000\" points=\"152.0001,-222.784 148.5,-212.784 145.0001,-222.784 152.0001,-222.784\" stroke=\"#000000\"/>\n</g>\n<!-- 139724384930560 -->\n<g class=\"node\" id=\"node3\">\n<title>139724384930560</title>\n<polygon fill=\"none\" points=\"33,-83.5 33,-129.5 264,-129.5 264,-83.5 33,-83.5\" stroke=\"#000000\"/>\n<text fill=\"#000000\" font-family=\"Times,serif\" font-size=\"14.00\" text-anchor=\"middle\" x=\"61\" y=\"-102.8\">LSTM</text>\n<polyline fill=\"none\" points=\"89,-83.5 89,-129.5 \" stroke=\"#000000\"/>\n<text fill=\"#000000\" font-family=\"Times,serif\" font-size=\"14.00\" text-anchor=\"middle\" x=\"118\" y=\"-114.3\">input:</text>\n<polyline fill=\"none\" points=\"89,-106.5 147,-106.5 \" stroke=\"#000000\"/>\n<text fill=\"#000000\" font-family=\"Times,serif\" font-size=\"14.00\" text-anchor=\"middle\" x=\"118\" y=\"-91.3\">output:</text>\n<polyline fill=\"none\" points=\"147,-83.5 147,-129.5 \" stroke=\"#000000\"/>\n<text fill=\"#000000\" font-family=\"Times,serif\" font-size=\"14.00\" text-anchor=\"middle\" x=\"205.5\" y=\"-114.3\">(None, 186, 300)</text>\n<polyline fill=\"none\" points=\"147,-106.5 264,-106.5 \" stroke=\"#000000\"/>\n<text fill=\"#000000\" font-family=\"Times,serif\" font-size=\"14.00\" text-anchor=\"middle\" x=\"205.5\" y=\"-91.3\">(None, 64)</text>\n</g>\n<!-- 139724384929272&#45;&gt;139724384930560 -->\n<g class=\"edge\" id=\"edge3\">\n<title>139724384929272-&gt;139724384930560</title>\n<path d=\"M148.5,-166.3799C148.5,-158.1745 148.5,-148.7679 148.5,-139.8786\" fill=\"none\" stroke=\"#000000\"/>\n<polygon fill=\"#000000\" points=\"152.0001,-139.784 148.5,-129.784 145.0001,-139.784 152.0001,-139.784\" stroke=\"#000000\"/>\n</g>\n<!-- 139724384928376 -->\n<g class=\"node\" id=\"node4\">\n<title>139724384928376</title>\n<polygon fill=\"none\" points=\"53.5,-.5 53.5,-46.5 243.5,-46.5 243.5,-.5 53.5,-.5\" stroke=\"#000000\"/>\n<text fill=\"#000000\" font-family=\"Times,serif\" font-size=\"14.00\" text-anchor=\"middle\" x=\"79.5\" y=\"-19.8\">Dense</text>\n<polyline fill=\"none\" points=\"105.5,-.5 105.5,-46.5 \" stroke=\"#000000\"/>\n<text fill=\"#000000\" font-family=\"Times,serif\" font-size=\"14.00\" text-anchor=\"middle\" x=\"134.5\" y=\"-31.3\">input:</text>\n<polyline fill=\"none\" points=\"105.5,-23.5 163.5,-23.5 \" stroke=\"#000000\"/>\n<text fill=\"#000000\" font-family=\"Times,serif\" font-size=\"14.00\" text-anchor=\"middle\" x=\"134.5\" y=\"-8.3\">output:</text>\n<polyline fill=\"none\" points=\"163.5,-.5 163.5,-46.5 \" stroke=\"#000000\"/>\n<text fill=\"#000000\" font-family=\"Times,serif\" font-size=\"14.00\" text-anchor=\"middle\" x=\"203.5\" y=\"-31.3\">(None, 64)</text>\n<polyline fill=\"none\" points=\"163.5,-23.5 243.5,-23.5 \" stroke=\"#000000\"/>\n<text fill=\"#000000\" font-family=\"Times,serif\" font-size=\"14.00\" text-anchor=\"middle\" x=\"203.5\" y=\"-8.3\">(None, 5)</text>\n</g>\n<!-- 139724384930560&#45;&gt;139724384928376 -->\n<g class=\"edge\" id=\"edge4\">\n<title>139724384930560-&gt;139724384928376</title>\n<path d=\"M148.5,-83.3799C148.5,-75.1745 148.5,-65.7679 148.5,-56.8786\" fill=\"none\" stroke=\"#000000\"/>\n<polygon fill=\"#000000\" points=\"152.0001,-56.784 148.5,-46.784 145.0001,-56.784 152.0001,-56.784\" stroke=\"#000000\"/>\n</g>\n<!-- 139724384928992 -->\n<g class=\"node\" id=\"node5\">\n<title>139724384928992</title>\n<polygon fill=\"none\" points=\"84,-332.5 84,-368.5 213,-368.5 213,-332.5 84,-332.5\" stroke=\"#000000\"/>\n<text fill=\"#000000\" font-family=\"Times,serif\" font-size=\"14.00\" text-anchor=\"middle\" x=\"148.5\" y=\"-346.8\">139724384928992</text>\n</g>\n<!-- 139724384928992&#45;&gt;139724384927928 -->\n<g class=\"edge\" id=\"edge1\">\n<title>139724384928992-&gt;139724384927928</title>\n<path d=\"M148.5,-332.4092C148.5,-324.4308 148.5,-314.795 148.5,-305.606\" fill=\"none\" stroke=\"#000000\"/>\n<polygon fill=\"#000000\" points=\"152.0001,-305.5333 148.5,-295.5333 145.0001,-305.5334 152.0001,-305.5333\" stroke=\"#000000\"/>\n</g>\n</g>\n</svg>"
          },
          "metadata": {
            "tags": []
          },
          "execution_count": 27
        }
      ]
    },
    {
      "cell_type": "code",
      "metadata": {
        "scrolled": false,
        "id": "60eC_0fRJXiQ",
        "colab_type": "code",
        "colab": {}
      },
      "source": [
        "early_stop = EarlyStopping(monitor='val_loss', patience=2, verbose=1, restore_best_weights=True)"
      ],
      "execution_count": 0,
      "outputs": []
    },
    {
      "cell_type": "code",
      "metadata": {
        "id": "l6i69i3_cEdS",
        "colab_type": "code",
        "outputId": "bc584b8c-09d0-43e5-9855-9265b5f3fcce",
        "colab": {
          "base_uri": "https://localhost:8080/",
          "height": 275
        }
      },
      "source": [
        "# wrap the model in our object to make reporting and metrics gathering easier\n",
        "mw = ku.ModelWrapper(name=MODEL_NAME, \n",
        "                     label_name=LABEL_COLUMN, \n",
        "                     model=model, \n",
        "                     data_file=DATA_FILE, \n",
        "                     embedding=EMBED_SIZE,\n",
        "                     tokenizer=t)\n",
        "network_history = mw.fit(X_train, y_train,\n",
        "                      batch_size=BATCH_SIZE,\n",
        "                      epochs=EPOCHS,\n",
        "                      verbose=1,\n",
        "                      validation_split=0.2,\n",
        "                      callbacks=[early_stop])"
      ],
      "execution_count": 29,
      "outputs": [
        {
          "output_type": "stream",
          "text": [
            "W0730 02:12:06.557322 139727301986176 deprecation.py:323] From /usr/local/lib/python3.6/dist-packages/tensorflow/python/ops/math_grad.py:1250: add_dispatch_support.<locals>.wrapper (from tensorflow.python.ops.array_ops) is deprecated and will be removed in a future version.\n",
            "Instructions for updating:\n",
            "Use tf.where in 2.0, which has the same broadcast rule as np.where\n"
          ],
          "name": "stderr"
        },
        {
          "output_type": "stream",
          "text": [
            "Train on 67225 samples, validate on 16807 samples\n",
            "Epoch 1/50\n",
            "67225/67225 [==============================] - 436s 6ms/step - loss: 0.9645 - acc: 0.6310 - val_loss: 0.8734 - val_acc: 0.6597\n",
            "Epoch 2/50\n",
            "67225/67225 [==============================] - 176s 3ms/step - loss: 0.7977 - acc: 0.6890 - val_loss: 0.8636 - val_acc: 0.6661\n",
            "Epoch 3/50\n",
            "67225/67225 [==============================] - 176s 3ms/step - loss: 0.7207 - acc: 0.7210 - val_loss: 0.8840 - val_acc: 0.6641\n",
            "Epoch 4/50\n",
            "67225/67225 [==============================] - 176s 3ms/step - loss: 0.6521 - acc: 0.7520 - val_loss: 0.9130 - val_acc: 0.6585\n",
            "Restoring model weights from the end of the best epoch\n",
            "Epoch 00004: early stopping\n"
          ],
          "name": "stdout"
        }
      ]
    },
    {
      "cell_type": "code",
      "metadata": {
        "id": "2VHBrsPjJXiS",
        "colab_type": "code",
        "outputId": "a7b97efc-77a8-438f-d328-bfcca63a0ee2",
        "colab": {
          "base_uri": "https://localhost:8080/",
          "height": 136
        }
      },
      "source": [
        "mw.evaluate(X_test, y_test)\n"
      ],
      "execution_count": 30,
      "outputs": [
        {
          "output_type": "stream",
          "text": [
            "Running model.evaluate...\n",
            "28011/28011 [==============================] - 95s 3ms/step\n",
            "Running model.predict...\n",
            "Unencode predictions...\n",
            "Generating confusion matrix...\n",
            "Calculating ROC AUC...\n",
            "Getting classification report...\n"
          ],
          "name": "stdout"
        }
      ]
    },
    {
      "cell_type": "code",
      "metadata": {
        "id": "xgG-5KLrd0Bt",
        "colab_type": "code",
        "outputId": "ccb64177-f456-4cd5-ffbe-2a2fe292ce73",
        "colab": {
          "base_uri": "https://localhost:8080/",
          "height": 34
        }
      },
      "source": [
        "print(\"Accuracy: %.2f%%\" % (mw.scores[1]*100))"
      ],
      "execution_count": 31,
      "outputs": [
        {
          "output_type": "stream",
          "text": [
            "Accuracy: 67.28%\n"
          ],
          "name": "stdout"
        }
      ]
    },
    {
      "cell_type": "code",
      "metadata": {
        "id": "CsBholvaJXiU",
        "colab_type": "code",
        "outputId": "64797845-7802-4f27-dee8-84a1198ecd36",
        "colab": {
          "base_uri": "https://localhost:8080/",
          "height": 345
        }
      },
      "source": [
        "pu.plot_network_history(mw.network_history)"
      ],
      "execution_count": 32,
      "outputs": [
        {
          "output_type": "display_data",
          "data": {
            "image/png": "[encoded data removed]",
            "text/plain": [
              "<Figure size 720x360 with 2 Axes>"
            ]
          },
          "metadata": {
            "tags": []
          }
        }
      ]
    },
    {
      "cell_type": "code",
      "metadata": {
        "id": "QyaOAdhqJXih",
        "colab_type": "code",
        "outputId": "d3a6f2b3-890c-4d0d-f7cc-26c577535123",
        "colab": {
          "base_uri": "https://localhost:8080/",
          "height": 102
        }
      },
      "source": [
        "print(mw.confusion_matrix)"
      ],
      "execution_count": 33,
      "outputs": [
        {
          "output_type": "stream",
          "text": [
            "[[ 3168   179   251    41   329]\n",
            " [  877   178   379   102   335]\n",
            " [  515   144   739   395   738]\n",
            " [  170    72   446   875  3189]\n",
            " [  255    45   224   480 13885]]\n"
          ],
          "name": "stdout"
        }
      ]
    },
    {
      "cell_type": "code",
      "metadata": {
        "id": "6emER3oBJXil",
        "colab_type": "code",
        "outputId": "9ea7219a-3dcb-4591-d2ab-6d18f10966d2",
        "colab": {
          "base_uri": "https://localhost:8080/",
          "height": 221
        }
      },
      "source": [
        "print(mw.classification_report)"
      ],
      "execution_count": 34,
      "outputs": [
        {
          "output_type": "stream",
          "text": [
            "              precision    recall  f1-score   support\n",
            "\n",
            "           1       0.64      0.80      0.71      3968\n",
            "           2       0.29      0.10      0.14      1871\n",
            "           3       0.36      0.29      0.32      2531\n",
            "           4       0.46      0.18      0.26      4752\n",
            "           5       0.75      0.93      0.83     14889\n",
            "\n",
            "    accuracy                           0.67     28011\n",
            "   macro avg       0.50      0.46      0.45     28011\n",
            "weighted avg       0.62      0.67      0.63     28011\n",
            "\n"
          ],
          "name": "stdout"
        }
      ]
    },
    {
      "cell_type": "code",
      "metadata": {
        "id": "N4JPtpCXiwf2",
        "colab_type": "code",
        "outputId": "433e3a75-f523-4c88-b226-dc605d90826d",
        "colab": {
          "base_uri": "https://localhost:8080/",
          "height": 445
        }
      },
      "source": [
        "fig = plt.figure(figsize=(5,5))\n",
        "pu.plot_roc_auc(MODEL_NAME, mw.roc_auc, mw.fpr, mw.tpr)"
      ],
      "execution_count": 35,
      "outputs": [
        {
          "output_type": "display_data",
          "data": {
            "image/png": "[encoded data removed]",
            "text/plain": [
              "<Figure size 360x360 with 1 Axes>"
            ]
          },
          "metadata": {
            "tags": []
          }
        }
      ]
    },
    {
      "cell_type": "markdown",
      "metadata": {
        "id": "z2ot_Nqg1U4w",
        "colab_type": "text"
      },
      "source": [
        "**Save off various files**"
      ]
    },
    {
      "cell_type": "code",
      "metadata": {
        "id": "FjZyrapNmkZc",
        "colab_type": "code",
        "colab": {
          "base_uri": "https://localhost:8080/",
          "height": 119
        },
        "outputId": "50d5ebc6-4f98-40f6-c144-ae5a2c5f6c1d"
      },
      "source": [
        "# _, inbasename = fu.get_dir_basename(mw.data_file)\n",
        "mw.save(DRIVE_DIR, append_report=True)"
      ],
      "execution_count": 36,
      "outputs": [
        {
          "output_type": "stream",
          "text": [
            "description: amazon_reviews_us_Wireless_v1_00-preprocessed-110k-LSTM_1layer-186-star_rating\n",
            "Saving model file: drive/My Drive/Springboard/capstone/models/amazon_reviews_us_Wireless_v1_00-preprocessed-110k-LSTM_1layer-186-star_rating-model.h5\n",
            "Saving network history file: drive/My Drive/Springboard/capstone/models/amazon_reviews_us_Wireless_v1_00-preprocessed-110k-LSTM_1layer-186-star_rating-history.pkl\n",
            "Saving to report file: drive/My Drive/Springboard/capstone/reports/2019-07-30-dl_protype-report.csv\n",
            "Loading to append to: drive/My Drive/Springboard/capstone/reports/2019-07-30-dl_protype-report.csv\n",
            "Saving report file...\n"
          ],
          "name": "stdout"
        }
      ]
    },
    {
      "cell_type": "code",
      "metadata": {
        "id": "yyEl1a8ZXzUq",
        "colab_type": "code",
        "outputId": "9abb74e1-2f60-4403-cfd0-55131c6dd665",
        "colab": {
          "base_uri": "https://localhost:8080/",
          "height": 134
        }
      },
      "source": [
        "mw.get_report().to_df()"
      ],
      "execution_count": 37,
      "outputs": [
        {
          "output_type": "execute_result",
          "data": {
            "text/html": [
              "<div>\n",
              "<style scoped>\n",
              "    .dataframe tbody tr th:only-of-type {\n",
              "        vertical-align: middle;\n",
              "    }\n",
              "\n",
              "    .dataframe tbody tr th {\n",
              "        vertical-align: top;\n",
              "    }\n",
              "\n",
              "    .dataframe thead th {\n",
              "        text-align: right;\n",
              "    }\n",
              "</style>\n",
              "<table border=\"1\" class=\"dataframe\">\n",
              "  <thead>\n",
              "    <tr style=\"text-align: right;\">\n",
              "      <th></th>\n",
              "      <th>accuracy</th>\n",
              "      <th>classification_report</th>\n",
              "      <th>confusion_matrix</th>\n",
              "      <th>description</th>\n",
              "      <th>embedding</th>\n",
              "      <th>evaluate_time_min</th>\n",
              "      <th>file</th>\n",
              "      <th>fpr</th>\n",
              "      <th>loss</th>\n",
              "      <th>max_sequence_length</th>\n",
              "      <th>model_file</th>\n",
              "      <th>model_name</th>\n",
              "      <th>network_history_file</th>\n",
              "      <th>predict_time_min</th>\n",
              "      <th>roc_auc</th>\n",
              "      <th>status</th>\n",
              "      <th>status_date</th>\n",
              "      <th>test_examples</th>\n",
              "      <th>test_features</th>\n",
              "      <th>tokenizer_file</th>\n",
              "      <th>tpr</th>\n",
              "      <th>train_examples</th>\n",
              "      <th>train_features</th>\n",
              "      <th>train_time_min</th>\n",
              "    </tr>\n",
              "  </thead>\n",
              "  <tbody>\n",
              "    <tr>\n",
              "      <th>0</th>\n",
              "      <td>0.672771</td>\n",
              "      <td>{\"1\": {\"precision\": 0.635506519558676, \"recall...</td>\n",
              "      <td>[[3168, 179, 251, 41, 329], [877, 178, 379, 10...</td>\n",
              "      <td>amazon_reviews_us_Wireless_v1_00-preprocessed-...</td>\n",
              "      <td>300.0</td>\n",
              "      <td>19.33</td>\n",
              "      <td>drive/My Drive/Springboard/capstone/data/amazo...</td>\n",
              "      <td>{\"0\": [0.0, 0.0, 0.0, 4.159214740257039e-05, 4...</td>\n",
              "      <td>0.851762</td>\n",
              "      <td>186.0</td>\n",
              "      <td>drive/My Drive/Springboard/capstone/models/ama...</td>\n",
              "      <td>LSTM_1layer</td>\n",
              "      <td>&lt;keras.callbacks.History object at 0x7f141a65a...</td>\n",
              "      <td>19.33</td>\n",
              "      <td>{\"auc_1\": 0.949565040265559, \"auc_2\": 0.854623...</td>\n",
              "      <td>success</td>\n",
              "      <td>2019-07-30 02:31:39</td>\n",
              "      <td>28011.0</td>\n",
              "      <td>186.0</td>\n",
              "      <td>&lt;keras_preprocessing.text.Tokenizer object at ...</td>\n",
              "      <td>{\"0\": [0.0, 0.00025201612903225806, 0.00831653...</td>\n",
              "      <td>84032.0</td>\n",
              "      <td>186.0</td>\n",
              "      <td>19.33</td>\n",
              "    </tr>\n",
              "  </tbody>\n",
              "</table>\n",
              "</div>"
            ],
            "text/plain": [
              "   accuracy  ... train_time_min\n",
              "0  0.672771  ...          19.33\n",
              "\n",
              "[1 rows x 24 columns]"
            ]
          },
          "metadata": {
            "tags": []
          },
          "execution_count": 37
        }
      ]
    },
    {
      "cell_type": "code",
      "metadata": {
        "id": "oz4FzsvmJXit",
        "colab_type": "code",
        "colab": {
          "base_uri": "https://localhost:8080/",
          "height": 34
        },
        "outputId": "9c62a351-2c56-4b2d-827d-65de37ec0189"
      },
      "source": [
        "print(datetime.now())"
      ],
      "execution_count": 41,
      "outputs": [
        {
          "output_type": "stream",
          "text": [
            "2019-07-30 02:38:24.420429\n"
          ],
          "name": "stdout"
        }
      ]
    },
    {
      "cell_type": "code",
      "metadata": {
        "id": "Ng6WLZ6FpVdc",
        "colab_type": "code",
        "colab": {
          "base_uri": "https://localhost:8080/",
          "height": 589
        },
        "outputId": "4191a88b-747e-467f-e108-b828b9b36153"
      },
      "source": [
        "# test report\n",
        "pd.read_csv(mw.report_file, quotechar=\"'\")"
      ],
      "execution_count": 40,
      "outputs": [
        {
          "output_type": "execute_result",
          "data": {
            "text/html": [
              "<div>\n",
              "<style scoped>\n",
              "    .dataframe tbody tr th:only-of-type {\n",
              "        vertical-align: middle;\n",
              "    }\n",
              "\n",
              "    .dataframe tbody tr th {\n",
              "        vertical-align: top;\n",
              "    }\n",
              "\n",
              "    .dataframe thead th {\n",
              "        text-align: right;\n",
              "    }\n",
              "</style>\n",
              "<table border=\"1\" class=\"dataframe\">\n",
              "  <thead>\n",
              "    <tr style=\"text-align: right;\">\n",
              "      <th></th>\n",
              "      <th>accuracy</th>\n",
              "      <th>classification_report</th>\n",
              "      <th>confusion_matrix</th>\n",
              "      <th>description</th>\n",
              "      <th>embedding</th>\n",
              "      <th>evaluate_time_min</th>\n",
              "      <th>file</th>\n",
              "      <th>fpr</th>\n",
              "      <th>loss</th>\n",
              "      <th>max_sequence_length</th>\n",
              "      <th>model_file</th>\n",
              "      <th>model_name</th>\n",
              "      <th>network_history_file</th>\n",
              "      <th>predict_time_min</th>\n",
              "      <th>roc_auc</th>\n",
              "      <th>status</th>\n",
              "      <th>status_date</th>\n",
              "      <th>test_examples</th>\n",
              "      <th>test_features</th>\n",
              "      <th>tokenizer_file</th>\n",
              "      <th>tpr</th>\n",
              "      <th>train_examples</th>\n",
              "      <th>train_features</th>\n",
              "      <th>train_time_min</th>\n",
              "    </tr>\n",
              "  </thead>\n",
              "  <tbody>\n",
              "    <tr>\n",
              "      <th>0</th>\n",
              "      <td>0.677591</td>\n",
              "      <td>{\"1\": {\"precision\": 0.5852581521739131, \"recal...</td>\n",
              "      <td>[[3446, 71, 158, 50, 243], [1141, 90, 287, 120...</td>\n",
              "      <td>amazon_reviews_us_Wireless_v1_00-preprocessed-...</td>\n",
              "      <td>300.0</td>\n",
              "      <td>32.59</td>\n",
              "      <td>drive/My Drive/Springboard/capstone/data/amazo...</td>\n",
              "      <td>{\"0\": [0.0, 0.0, 0.0, 4.159214740257039e-05, 4...</td>\n",
              "      <td>0.835665</td>\n",
              "      <td>186.0</td>\n",
              "      <td>drive/My Drive/Springboard/capstone/models/ama...</td>\n",
              "      <td>GRU_1layer</td>\n",
              "      <td>&lt;keras.callbacks.History object at 0x7f5403610...</td>\n",
              "      <td>32.59</td>\n",
              "      <td>{\"auc_1\": 0.9527249533513878, \"auc_2\": 0.86096...</td>\n",
              "      <td>success</td>\n",
              "      <td>2019-07-30 01:46:31</td>\n",
              "      <td>28011.0</td>\n",
              "      <td>186.0</td>\n",
              "      <td>&lt;keras_preprocessing.text.Tokenizer object at ...</td>\n",
              "      <td>{\"0\": [0.0, 0.00025201612903225806, 0.0078125,...</td>\n",
              "      <td>84032.0</td>\n",
              "      <td>186.0</td>\n",
              "      <td>32.59</td>\n",
              "    </tr>\n",
              "    <tr>\n",
              "      <th>1</th>\n",
              "      <td>0.666845</td>\n",
              "      <td>{\"1\": {\"precision\": 0.6141875505254648, \"recal...</td>\n",
              "      <td>[[3039, 150, 206, 95, 385], [892, 132, 293, 16...</td>\n",
              "      <td>review_body-word2vec5-111909-512-nolda-DNN_340...</td>\n",
              "      <td>word2vec</td>\n",
              "      <td>10.98</td>\n",
              "      <td>review_body-word2vec5-111909-512-nolda.csv</td>\n",
              "      <td>{\"0\": [0.0, 0.0, 0.0, 0.0, 0.0, 4.148861137617...</td>\n",
              "      <td>0.866301</td>\n",
              "      <td>512.0</td>\n",
              "      <td>drive/My Drive/Springboard/capstone/models/rev...</td>\n",
              "      <td>DNN_340_batchnorm</td>\n",
              "      <td>&lt;keras.callbacks.History object at 0x7f976c0f4...</td>\n",
              "      <td>10.98</td>\n",
              "      <td>{\"auc_1\": 0.9450905669619495, \"auc_2\": 0.84615...</td>\n",
              "      <td>success</td>\n",
              "      <td>2019-07-30 01:50:37</td>\n",
              "      <td>27978.0</td>\n",
              "      <td>512.0</td>\n",
              "      <td>NaN</td>\n",
              "      <td>{\"0\": [0.0, 0.00025806451612903227, 0.00103225...</td>\n",
              "      <td>83931.0</td>\n",
              "      <td>512.0</td>\n",
              "      <td>10.98</td>\n",
              "    </tr>\n",
              "    <tr>\n",
              "      <th>2</th>\n",
              "      <td>0.679019</td>\n",
              "      <td>{\"1\": {\"precision\": 0.6480066102045032, \"recal...</td>\n",
              "      <td>[[3137, 62, 476, 40, 253], [843, 60, 603, 132,...</td>\n",
              "      <td>amazon_reviews_us_Wireless_v1_00-preprocessed-...</td>\n",
              "      <td>300.0</td>\n",
              "      <td>8.79</td>\n",
              "      <td>drive/My Drive/Springboard/capstone/data/amazo...</td>\n",
              "      <td>{\"0\": [0.0, 0.0, 0.0, 4.159214740257039e-05, 4...</td>\n",
              "      <td>0.823435</td>\n",
              "      <td>186.0</td>\n",
              "      <td>drive/My Drive/Springboard/capstone/models/ama...</td>\n",
              "      <td>biGRU_1layer_attention</td>\n",
              "      <td>&lt;keras.callbacks.History object at 0x7f6df2f58...</td>\n",
              "      <td>8.79</td>\n",
              "      <td>{\"auc_1\": 0.9540099546947473, \"auc_2\": 0.86369...</td>\n",
              "      <td>success</td>\n",
              "      <td>2019-07-30 01:51:39</td>\n",
              "      <td>28011.0</td>\n",
              "      <td>186.0</td>\n",
              "      <td>&lt;keras_preprocessing.text.Tokenizer object at ...</td>\n",
              "      <td>{\"0\": [0.0, 0.00025201612903225806, 0.01058467...</td>\n",
              "      <td>84032.0</td>\n",
              "      <td>186.0</td>\n",
              "      <td>8.79</td>\n",
              "    </tr>\n",
              "    <tr>\n",
              "      <th>3</th>\n",
              "      <td>0.668990</td>\n",
              "      <td>{\"1\": {\"precision\": 0.6134569850039463, \"recal...</td>\n",
              "      <td>[[3109, 147, 201, 93, 325], [911, 128, 310, 19...</td>\n",
              "      <td>review_body-word2vec5-111909-512-nolda-DNN_384...</td>\n",
              "      <td>word2vec</td>\n",
              "      <td>17.84</td>\n",
              "      <td>review_body-word2vec5-111909-512-nolda.csv</td>\n",
              "      <td>{\"0\": [0.0, 0.0, 0.0, 0.0, 0.0, 4.148861137617...</td>\n",
              "      <td>0.846571</td>\n",
              "      <td>512.0</td>\n",
              "      <td>drive/My Drive/Springboard/capstone/models/rev...</td>\n",
              "      <td>DNN_384_384</td>\n",
              "      <td>&lt;keras.callbacks.History object at 0x7fab83bd1...</td>\n",
              "      <td>17.84</td>\n",
              "      <td>{\"auc_1\": 0.9488228396143968, \"auc_2\": 0.85419...</td>\n",
              "      <td>success</td>\n",
              "      <td>2019-07-30 01:58:04</td>\n",
              "      <td>27978.0</td>\n",
              "      <td>512.0</td>\n",
              "      <td>NaN</td>\n",
              "      <td>{\"0\": [0.0, 0.00025806451612903227, 0.00077419...</td>\n",
              "      <td>83931.0</td>\n",
              "      <td>512.0</td>\n",
              "      <td>17.84</td>\n",
              "    </tr>\n",
              "    <tr>\n",
              "      <th>4</th>\n",
              "      <td>0.668704</td>\n",
              "      <td>{\"1\": {\"precision\": 0.5902151922015818, \"recal...</td>\n",
              "      <td>[[3209, 64, 239, 83, 280], [994, 75, 341, 179,...</td>\n",
              "      <td>review_body-word2vec5-111909-512-nolda-DNN_128...</td>\n",
              "      <td>word2vec</td>\n",
              "      <td>4.85</td>\n",
              "      <td>review_body-word2vec5-111909-512-nolda.csv</td>\n",
              "      <td>{\"0\": [0.0, 0.0, 0.0, 0.0, 0.0, 4.148861137617...</td>\n",
              "      <td>0.848801</td>\n",
              "      <td>512.0</td>\n",
              "      <td>drive/My Drive/Springboard/capstone/models/rev...</td>\n",
              "      <td>DNN_128_128</td>\n",
              "      <td>&lt;keras.callbacks.History object at 0x7f87970b1...</td>\n",
              "      <td>4.85</td>\n",
              "      <td>{\"auc_1\": 0.9489704320035117, \"auc_2\": 0.85306...</td>\n",
              "      <td>success</td>\n",
              "      <td>2019-07-30 01:58:55</td>\n",
              "      <td>27978.0</td>\n",
              "      <td>512.0</td>\n",
              "      <td>NaN</td>\n",
              "      <td>{\"0\": [0.0, 0.00025806451612903227, 0.00051612...</td>\n",
              "      <td>83931.0</td>\n",
              "      <td>512.0</td>\n",
              "      <td>4.85</td>\n",
              "    </tr>\n",
              "    <tr>\n",
              "      <th>5</th>\n",
              "      <td>0.667918</td>\n",
              "      <td>{\"1\": {\"precision\": 0.5995067349649023, \"recal...</td>\n",
              "      <td>[[3160, 127, 223, 80, 285], [972, 119, 316, 18...</td>\n",
              "      <td>review_body-word2vec5-111909-512-nolda-DNN_128...</td>\n",
              "      <td>word2vec</td>\n",
              "      <td>6.92</td>\n",
              "      <td>review_body-word2vec5-111909-512-nolda.csv</td>\n",
              "      <td>{\"0\": [0.0, 0.0, 0.0, 0.0, 0.0, 4.148861137617...</td>\n",
              "      <td>0.846016</td>\n",
              "      <td>512.0</td>\n",
              "      <td>drive/My Drive/Springboard/capstone/models/rev...</td>\n",
              "      <td>DNN_128_128_batchnorm</td>\n",
              "      <td>&lt;keras.callbacks.History object at 0x7f62cd50f...</td>\n",
              "      <td>6.92</td>\n",
              "      <td>{\"auc_1\": 0.949632140558062, \"auc_2\": 0.854176...</td>\n",
              "      <td>success</td>\n",
              "      <td>2019-07-30 02:08:19</td>\n",
              "      <td>27978.0</td>\n",
              "      <td>512.0</td>\n",
              "      <td>NaN</td>\n",
              "      <td>{\"0\": [0.0, 0.00025806451612903227, 0.00077419...</td>\n",
              "      <td>83931.0</td>\n",
              "      <td>512.0</td>\n",
              "      <td>6.92</td>\n",
              "    </tr>\n",
              "    <tr>\n",
              "      <th>6</th>\n",
              "      <td>0.676877</td>\n",
              "      <td>{\"1\": {\"precision\": 0.6334449478038211, \"recal...</td>\n",
              "      <td>[[3216, 54, 297, 67, 334], [947, 52, 436, 176,...</td>\n",
              "      <td>amazon_reviews_us_Wireless_v1_00-preprocessed-...</td>\n",
              "      <td>300.0</td>\n",
              "      <td>13.37</td>\n",
              "      <td>drive/My Drive/Springboard/capstone/data/amazo...</td>\n",
              "      <td>{\"0\": [0.0, 0.0, 0.0, 4.159214740257039e-05, 4...</td>\n",
              "      <td>0.830913</td>\n",
              "      <td>186.0</td>\n",
              "      <td>drive/My Drive/Springboard/capstone/models/ama...</td>\n",
              "      <td>biGRU_2layer_attention</td>\n",
              "      <td>&lt;keras.callbacks.History object at 0x7f469db69...</td>\n",
              "      <td>13.37</td>\n",
              "      <td>{\"auc_1\": 0.9543024780953614, \"auc_2\": 0.86158...</td>\n",
              "      <td>success</td>\n",
              "      <td>2019-07-30 02:17:58</td>\n",
              "      <td>28011.0</td>\n",
              "      <td>186.0</td>\n",
              "      <td>&lt;keras_preprocessing.text.Tokenizer object at ...</td>\n",
              "      <td>{\"0\": [0.0, 0.00025201612903225806, 0.00806451...</td>\n",
              "      <td>84032.0</td>\n",
              "      <td>186.0</td>\n",
              "      <td>13.37</td>\n",
              "    </tr>\n",
              "    <tr>\n",
              "      <th>7</th>\n",
              "      <td>0.672771</td>\n",
              "      <td>{\"1\": {\"precision\": 0.635506519558676, \"recall...</td>\n",
              "      <td>[[3168, 179, 251, 41, 329], [877, 178, 379, 10...</td>\n",
              "      <td>amazon_reviews_us_Wireless_v1_00-preprocessed-...</td>\n",
              "      <td>300.0</td>\n",
              "      <td>19.33</td>\n",
              "      <td>drive/My Drive/Springboard/capstone/data/amazo...</td>\n",
              "      <td>{\"0\": [0.0, 0.0, 0.0, 4.159214740257039e-05, 4...</td>\n",
              "      <td>0.851762</td>\n",
              "      <td>186.0</td>\n",
              "      <td>drive/My Drive/Springboard/capstone/models/ama...</td>\n",
              "      <td>LSTM_1layer</td>\n",
              "      <td>&lt;keras.callbacks.History object at 0x7f141a65a...</td>\n",
              "      <td>19.33</td>\n",
              "      <td>{\"auc_1\": 0.949565040265559, \"auc_2\": 0.854623...</td>\n",
              "      <td>success</td>\n",
              "      <td>2019-07-30 02:31:38</td>\n",
              "      <td>28011.0</td>\n",
              "      <td>186.0</td>\n",
              "      <td>&lt;keras_preprocessing.text.Tokenizer object at ...</td>\n",
              "      <td>{\"0\": [0.0, 0.00025201612903225806, 0.00831653...</td>\n",
              "      <td>84032.0</td>\n",
              "      <td>186.0</td>\n",
              "      <td>19.33</td>\n",
              "    </tr>\n",
              "  </tbody>\n",
              "</table>\n",
              "</div>"
            ],
            "text/plain": [
              "   accuracy  ... train_time_min\n",
              "0  0.677591  ...          32.59\n",
              "1  0.666845  ...          10.98\n",
              "2  0.679019  ...           8.79\n",
              "3  0.668990  ...          17.84\n",
              "4  0.668704  ...           4.85\n",
              "5  0.667918  ...           6.92\n",
              "6  0.676877  ...          13.37\n",
              "7  0.672771  ...          19.33\n",
              "\n",
              "[8 rows x 24 columns]"
            ]
          },
          "metadata": {
            "tags": []
          },
          "execution_count": 40
        }
      ]
    },
    {
      "cell_type": "code",
      "metadata": {
        "id": "DTXN7CfXvdUi",
        "colab_type": "code",
        "colab": {}
      },
      "source": [
        ""
      ],
      "execution_count": 0,
      "outputs": []
    }
  ]
}