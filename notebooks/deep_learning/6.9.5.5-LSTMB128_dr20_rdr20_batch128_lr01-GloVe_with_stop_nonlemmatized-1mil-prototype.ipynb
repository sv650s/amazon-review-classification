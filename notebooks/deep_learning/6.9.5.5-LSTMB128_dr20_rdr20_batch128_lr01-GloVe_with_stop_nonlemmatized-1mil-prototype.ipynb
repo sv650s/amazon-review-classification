{
  "nbformat": 4,
  "nbformat_minor": 0,
  "metadata": {
    "colab": {
      "name": "6.9.5.5-LSTMB128_dr20_rdr20_batch128_lr01-GloVe_with_stop_nonlemmatized-1mil-prototype.ipynb",
      "provenance": [],
      "collapsed_sections": [],
      "machine_shape": "hm",
      "include_colab_link": true
    },
    "language_info": {
      "codemirror_mode": {
        "name": "ipython",
        "version": 3
      },
      "file_extension": ".py",
      "mimetype": "text/x-python",
      "name": "python",
      "nbconvert_exporter": "python",
      "pygments_lexer": "ipython3",
      "version": "3.7.3"
    },
    "kernelspec": {
      "name": "python3",
      "display_name": "Python 3"
    },
    "accelerator": "GPU"
  },
  "cells": [
    {
      "cell_type": "markdown",
      "metadata": {
        "id": "view-in-github",
        "colab_type": "text"
      },
      "source": [
        "<a href=\"https://colab.research.google.com/github/sv650s/amazon-review-classification/blob/master/notebooks/deep_learning/6.9.5.5-LSTMB128_dr20_rdr20_batch128_lr01-GloVe_with_stop_nonlemmatized-1mil-prototype.ipynb\" target=\"_parent\"><img src=\"https://colab.research.google.com/assets/colab-badge.svg\" alt=\"Open In Colab\"/></a>"
      ]
    },
    {
      "cell_type": "markdown",
      "metadata": {
        "id": "W7_sb1roJXhx",
        "colab_type": "text"
      },
      "source": [
        "# Pre-trained GloVe embedding using LSTM with 500k samples without removing stop words\n",
        "\n",
        "For this notebookw, we will train 500k total samples with the following LSTM architectuure\n",
        "\n",
        "* Glove embedding with 300 dimension vectors\n",
        "* max sequence length of 100 words (this is same as what we've been doing)\n",
        "* 128 LSTM cells \n",
        "* dropout rate: 0.2\n",
        "* recurrent dropout rate: 0.2\n",
        "* learning rate of 0.01\n",
        "* batch size of 128\n",
        "* 20 epochs\n",
        "\n",
        "\n"
      ]
    },
    {
      "cell_type": "code",
      "metadata": {
        "id": "pF_xRedK9O1Q",
        "colab_type": "code",
        "outputId": "3babb2dc-df40-4cb9-c89b-3e88729a8f10",
        "colab": {
          "base_uri": "https://localhost:8080/",
          "height": 51
        }
      },
      "source": [
        "from google.colab import drive\n",
        "drive.mount('/content/drive')\n",
        "\n",
        "import sys\n",
        "DRIVE_DIR = \"drive/My Drive/Springboard/capstone\"\n",
        "sys.path.append(DRIVE_DIR)\n",
        "\n",
        "\n",
        "%tensorflow_version 2.x\n",
        "\n",
        "\n",
        "import tensorflow as tf\n",
        "# checl to make sure we are using GPU here\n",
        "tf.test.gpu_device_name()"
      ],
      "execution_count": 1,
      "outputs": [
        {
          "output_type": "stream",
          "text": [
            "Drive already mounted at /content/drive; to attempt to forcibly remount, call drive.mount(\"/content/drive\", force_remount=True).\n"
          ],
          "name": "stdout"
        },
        {
          "output_type": "execute_result",
          "data": {
            "text/plain": [
              "'/device:GPU:0'"
            ]
          },
          "metadata": {
            "tags": []
          },
          "execution_count": 1
        }
      ]
    },
    {
      "cell_type": "code",
      "metadata": {
        "id": "SyhcVd4ec1sq",
        "colab_type": "code",
        "outputId": "6e7d2241-e77e-4ea3-d24d-00f476558f14",
        "colab": {
          "base_uri": "https://localhost:8080/",
          "height": 340
        }
      },
      "source": [
        "# check what GPU we got\n",
        "gpu_info = !nvidia-smi\n",
        "gpu_info = '\\n'.join(gpu_info)\n",
        "if gpu_info.find('failed') >= 0:\n",
        "  print('Select the Runtime → \"Change runtime type\" menu to enable a GPU accelerator, ')\n",
        "  print('and then re-execute this cell.')\n",
        "else:\n",
        "  print(gpu_info)\n",
        "\n",
        "# check that we are using high RAM runtime\n",
        "from psutil import virtual_memory\n",
        "ram_gb = virtual_memory().total / 1e9\n",
        "print('Your runtime has {:.1f} gigabytes of available RAM\\n'.format(ram_gb))\n",
        "\n",
        "if ram_gb < 20:\n",
        "  print('To enable a high-RAM runtime, select the Runtime → \"Change runtime type\"')\n",
        "  print('menu, and then select High-RAM in the Runtime shape dropdown. Then, ')\n",
        "  print('re-execute this cell.')\n",
        "else:\n",
        "  print('You are using a high-RAM runtime!')"
      ],
      "execution_count": 2,
      "outputs": [
        {
          "output_type": "stream",
          "text": [
            "Wed May 13 04:38:23 2020       \n",
            "+-----------------------------------------------------------------------------+\n",
            "| NVIDIA-SMI 440.82       Driver Version: 418.67       CUDA Version: 10.1     |\n",
            "|-------------------------------+----------------------+----------------------+\n",
            "| GPU  Name        Persistence-M| Bus-Id        Disp.A | Volatile Uncorr. ECC |\n",
            "| Fan  Temp  Perf  Pwr:Usage/Cap|         Memory-Usage | GPU-Util  Compute M. |\n",
            "|===============================+======================+======================|\n",
            "|   0  Tesla P100-PCIE...  Off  | 00000000:00:04.0 Off |                    0 |\n",
            "| N/A   35C    P0    31W / 250W |    353MiB / 16280MiB |      2%      Default |\n",
            "+-------------------------------+----------------------+----------------------+\n",
            "                                                                               \n",
            "+-----------------------------------------------------------------------------+\n",
            "| Processes:                                                       GPU Memory |\n",
            "|  GPU       PID   Type   Process name                             Usage      |\n",
            "|=============================================================================|\n",
            "+-----------------------------------------------------------------------------+\n",
            "Your runtime has 27.4 gigabytes of available RAM\n",
            "\n",
            "You are using a high-RAM runtime!\n"
          ],
          "name": "stdout"
        }
      ]
    },
    {
      "cell_type": "code",
      "metadata": {
        "id": "pAHGtniuJXhy",
        "colab_type": "code",
        "outputId": "339e9549-c58b-422f-b3d4-e15bdbb78f96",
        "colab": {
          "base_uri": "https://localhost:8080/",
          "height": 71
        }
      },
      "source": [
        "from __future__ import absolute_import, division, print_function, unicode_literals\n",
        "\n",
        "\n",
        "from tensorflow.keras.models import Sequential\n",
        "from tensorflow.keras.layers import Dense, Activation, Dropout\n",
        "from tensorflow.keras.layers import BatchNormalization\n",
        "from tensorflow.keras.callbacks import EarlyStopping, ReduceLROnPlateau\n",
        "from tensorflow.keras.models import load_model\n",
        "from tensorflow.keras.optimizers import SGD, Adam\n",
        "from tensorflow.keras.layers import Conv1D, MaxPooling1D, Embedding, \\\n",
        "    SpatialDropout1D, Flatten, LSTM\n",
        "from tensorflow.keras.preprocessing.text import Tokenizer\n",
        "from tensorflow.keras.preprocessing import sequence\n",
        "from tensorflow.keras.utils import model_to_dot\n",
        "from tensorflow.keras.initializers import Constant\n",
        "\n",
        "\n",
        "from sklearn.model_selection import train_test_split\n",
        "from sklearn.preprocessing import OneHotEncoder\n",
        "from sklearn.preprocessing import LabelEncoder\n",
        "from sklearn.metrics import confusion_matrix, classification_report\n",
        "from sklearn.utils.class_weight import compute_class_weight\n",
        "\n",
        "\n",
        "import pandas as pd\n",
        "import numpy as np\n",
        "from IPython.display import SVG\n",
        "import pickle\n",
        "from datetime import datetime\n",
        "import matplotlib.pyplot as plt\n",
        "import seaborn as sns\n",
        "import os\n",
        "import logging\n",
        "from datetime import datetime\n",
        "\n",
        "\n",
        "import util.dict_util as du\n",
        "import util.plot_util as pu\n",
        "import util.file_util as fu\n",
        "import util.keras_util as ku\n",
        "import util.report_util as ru\n",
        "\n",
        "import random\n",
        "\n",
        "# fix random seeds\n",
        "tf.compat.v1.reset_default_graph()\n",
        "tf.compat.v1.set_random_seed(1)\n",
        "random.seed(1)\n",
        "np.random.seed(1)\n",
        "\n",
        "logging.basicConfig(level=logging.ERROR)\n",
        "\n",
        "%matplotlib inline\n",
        "sns.set()\n",
        "\n",
        "\n",
        "DATE_FORMAT = '%Y-%m-%d'\n",
        "TIME_FORMAT = '%Y-%m-%d %H:%M:%S'\n",
        "LABEL_COLUMN = \"star_rating\"\n",
        "FEATURE_COLUMN = \"review_body\"\n",
        "\n",
        "\n",
        "DEBUG = False\n",
        "\n",
        "\n",
        "# length of our embedding - 300 is standard\n",
        "EMBED_SIZE = 300\n",
        "# From EDA, we know that 90% of review bodies have 100 words or less, \n",
        "# we will use this as our sequence length\n",
        "MAX_SEQUENCE_LENGTH = 100\n",
        "\n",
        "LSTM_DIM = 128 # total LSTM units\n",
        "EPOCHS  = 20\n",
        "BATCH_SIZE = 128\n",
        "LEARNING_RATE = 0.01\n",
        "DROPOUT_RATE = 0.2\n",
        "RECURRENT_DROPOUT_RATE = 0.2\n",
        "PATIENCE = 4\n",
        "BIDIRECTIONAL = False\n",
        "BALANCE_CLASS_WEIGHTS = True\n",
        "TRAIN_EMBEDDINGS = False\n",
        "FEATURE_SET_NAME = \"glove_with_stop_nonlemmatized\"\n",
        "SAMPLES = \"1m\"\n",
        "BALANCE_CLASS_WEIGHTS = True\n",
        "MODEL_VERSION = 1\n",
        "\n",
        "\n",
        "\n",
        "\n",
        "if BIDIRECTIONAL:\n",
        "  bidirectional_name = \"bi\"\n",
        "else:\n",
        "  bidirectional_name = \"\"\n",
        "\n",
        "if BALANCE_CLASS_WEIGHTS:\n",
        "  balanced_name = \"B\"\n",
        "else:\n",
        "  balanced_name = \"\"\n",
        "\n",
        "MODEL_NAME = f\"{bidirectional_name}LSTM{balanced_name}{LSTM_DIM}\"\n",
        "ARCHITECTURE = f\"1x{LSTM_DIM}\"\n",
        "DESCRIPTION = f\"1 Layer {LSTM_DIM} LSTM Units, Dropout {DROPOUT_RATE}, Recurrent Dropout {RECURRENT_DROPOUT_RATE}, Batch Size {BATCH_SIZE}, Learning Rate {LEARNING_RATE}\"\n",
        "\n",
        "REPORT_FILE = f\"{MODEL_NAME}_\" \\\n",
        "              f\"dr{ku.get_decimal_str(DROPOUT_RATE)}_\" \\\n",
        "              f\"rdr{ku.get_decimal_str(RECURRENT_DROPOUT_RATE)}_\" \\\n",
        "              f\"batch{BATCH_SIZE}_\" \\\n",
        "              f\"lr{ku.get_decimal_str(LEARNING_RATE)}-{FEATURE_SET_NAME}-dl_prototype-report.csv\"\n",
        "\n",
        "\n",
        "if DEBUG:\n",
        "  DATA_FILE = f'{DRIVE_DIR}/data/amazon_reviews_us_Wireless_v1_00-test-preprocessed.csv'\n",
        "  MODEL_NAME = f'test-{MODEL_NAME}'\n",
        "  MISSING_WORDS_FILE = f'{DRIVE_DIR}/reports/glove_embedding-missing_words-test.csv'\n",
        "  ku.ModelWrapper.set_report_filename(f\"test-{REPORT_FILE}\")\n",
        "\n",
        "else:\n",
        "  DATA_FILE = f\"{DRIVE_DIR}/data/amazon_reviews_us_Wireless_v1_00-{SAMPLES}-with_stop_nonlemmatized-preprocessed.csv\"\n",
        "  MISSING_WORDS_FILE = f'{DRIVE_DIR}/reports/glove_embedding-missing_words-{SAMPLES}.csv'\n",
        "  ku.ModelWrapper.set_report_filename(REPORT_FILE)\n",
        "\n",
        "\n",
        "EMBEDDING_FILE = f'{DRIVE_DIR}/data/embeddings/glove.840B.300d.txt'\n",
        "\n",
        "\n",
        "\n",
        "\n",
        "start_time = datetime.now()"
      ],
      "execution_count": 3,
      "outputs": [
        {
          "output_type": "stream",
          "text": [
            "/usr/local/lib/python3.6/dist-packages/statsmodels/tools/_testing.py:19: FutureWarning: pandas.util.testing is deprecated. Use the functions in the public API at pandas.testing instead.\n",
            "  import pandas.util.testing as tm\n"
          ],
          "name": "stderr"
        }
      ]
    },
    {
      "cell_type": "code",
      "metadata": {
        "hide_input": false,
        "id": "k6fwJp9OJXh5",
        "colab_type": "code",
        "colab": {}
      },
      "source": [
        "df = pd.read_csv(DATA_FILE)\n",
        "\n",
        "rating = df[LABEL_COLUMN]\n",
        "reviews = df[FEATURE_COLUMN]"
      ],
      "execution_count": 0,
      "outputs": []
    },
    {
      "cell_type": "code",
      "metadata": {
        "id": "GKdUpCsshGk8",
        "colab_type": "code",
        "colab": {}
      },
      "source": [
        ""
      ],
      "execution_count": 0,
      "outputs": []
    },
    {
      "cell_type": "code",
      "metadata": {
        "id": "rMdM2TS7hGgc",
        "colab_type": "code",
        "colab": {}
      },
      "source": [
        ""
      ],
      "execution_count": 0,
      "outputs": []
    },
    {
      "cell_type": "code",
      "metadata": {
        "id": "kHMW5sNShGce",
        "colab_type": "code",
        "colab": {}
      },
      "source": [
        ""
      ],
      "execution_count": 0,
      "outputs": []
    },
    {
      "cell_type": "code",
      "metadata": {
        "id": "HvcwW1AmhGNU",
        "colab_type": "code",
        "colab": {}
      },
      "source": [
        ""
      ],
      "execution_count": 0,
      "outputs": []
    },
    {
      "cell_type": "markdown",
      "metadata": {
        "id": "EBQR0ZpoOiQk",
        "colab_type": "text"
      },
      "source": [
        "# Preprocessing"
      ]
    },
    {
      "cell_type": "code",
      "metadata": {
        "id": "_g2Wm80MCgGZ",
        "colab_type": "code",
        "colab": {}
      },
      "source": [
        ""
      ],
      "execution_count": 0,
      "outputs": []
    },
    {
      "cell_type": "code",
      "metadata": {
        "id": "lytdvF4neJ4r",
        "colab_type": "code",
        "outputId": "b201e235-b592-476f-da3e-5b0dba7faef9",
        "colab": {
          "base_uri": "https://localhost:8080/",
          "height": 68
        }
      },
      "source": [
        "\n",
        "\n",
        "# pre-process our lables\n",
        "# one hot encode our star ratings since Keras/TF requires this for the labels\n",
        "y = OneHotEncoder().fit_transform(rating.values.reshape(len(rating), 1)).toarray()\n",
        "\n",
        "\n",
        "# split our data into train and test sets\n",
        "reviews_train, reviews_test, y_train, y_test = train_test_split(reviews, y, random_state=1)\n",
        "\n",
        "\n",
        "# Pre-process our features (review body)\n",
        "t = Tokenizer(oov_token=\"<UNK>\")\n",
        "# fit the tokenizer on the documents\n",
        "t.fit_on_texts(reviews_train)\n",
        "# tokenize both our training and test data\n",
        "train_sequences = t.texts_to_sequences(reviews_train)\n",
        "test_sequences = t.texts_to_sequences(reviews_test)\n",
        "\n",
        "print(\"Vocabulary size={}\".format(len(t.word_counts)))\n",
        "print(\"Number of Documents={}\".format(t.document_count))\n",
        "\n",
        "\n",
        "# pad our reviews to the max sequence length\n",
        "X_train = sequence.pad_sequences(train_sequences, maxlen=MAX_SEQUENCE_LENGTH)\n",
        "X_test = sequence.pad_sequences(test_sequences, maxlen=MAX_SEQUENCE_LENGTH)\n",
        "\n",
        "print('Train review vectors shape:', X_train.shape, ' Test review vectors shape:', X_test.shape)\n"
      ],
      "execution_count": 5,
      "outputs": [
        {
          "output_type": "stream",
          "text": [
            "Vocabulary size=116983\n",
            "Number of Documents=748261\n",
            "Train review vectors shape: (748261, 100)  Test review vectors shape: (249421, 100)\n"
          ],
          "name": "stdout"
        }
      ]
    },
    {
      "cell_type": "markdown",
      "metadata": {
        "id": "TgorpmIPnQH9",
        "colab_type": "text"
      },
      "source": [
        "## Load our pre-trained embedding\n",
        "\n",
        "embeddings_index will be a map where key == word, value == the embedding vector"
      ]
    },
    {
      "cell_type": "code",
      "metadata": {
        "id": "5j7D7LLinP0r",
        "colab_type": "code",
        "outputId": "7459d8b5-ba09-4fe7-ad34-569145a65b1e",
        "colab": {
          "base_uri": "https://localhost:8080/",
          "height": 85
        }
      },
      "source": [
        "\n",
        "EMBEDDING_INDEX_FILE = f'{DRIVE_DIR}/models/glove.840B.300d-embedding_index'\n",
        "\n",
        "embeddings_index = {}\n",
        "\n",
        "if os.path.exists(f'{EMBEDDING_INDEX_FILE}.npy'):\n",
        "  print(f'Loading {EMBEDDING_INDEX_FILE}.npy')\n",
        "  embeddings_index = np.load(f'{EMBEDDING_INDEX_FILE}.npy', \n",
        "                             allow_pickle = True).item()\n",
        "else:\n",
        "  print('Indexing word vectors.')\n",
        "\n",
        "  with open(EMBEDDING_FILE) as f:\n",
        "      for line in f:\n",
        "          word, coefs = line.split(maxsplit=1)\n",
        "          coefs = np.fromstring(coefs, 'f', sep=' ')\n",
        "          embeddings_index[word] = coefs\n",
        "  np.save(EMBEDDING_INDEX_FILE, embeddings_index)\n",
        "\n",
        "print(type(embeddings_index))\n",
        "print(np.shape(embeddings_index))\n",
        "print('Found %s word vectors.' % len(embeddings_index))\n",
        "\n",
        "\n"
      ],
      "execution_count": 6,
      "outputs": [
        {
          "output_type": "stream",
          "text": [
            "Loading drive/My Drive/Springboard/capstone/models/glove.840B.300d-embedding_index.npy\n",
            "<class 'dict'>\n",
            "()\n",
            "Found 2195884 word vectors.\n"
          ],
          "name": "stdout"
        }
      ]
    },
    {
      "cell_type": "code",
      "metadata": {
        "id": "pchOfR6qnPxB",
        "colab_type": "code",
        "colab": {}
      },
      "source": [
        ""
      ],
      "execution_count": 0,
      "outputs": []
    },
    {
      "cell_type": "code",
      "metadata": {
        "id": "G7L7HL6EnPtA",
        "colab_type": "code",
        "colab": {}
      },
      "source": [
        ""
      ],
      "execution_count": 0,
      "outputs": []
    },
    {
      "cell_type": "markdown",
      "metadata": {
        "id": "rYvqmy4xmQWD",
        "colab_type": "text"
      },
      "source": [
        "## Create Embedding Matrix based on our tokenizer\n",
        "\n",
        "For every word in our vocabulary, we will look up the embedding vector and add the it to our embedding matrix\n",
        "\n",
        "The matrix will be passed in as weights in our embedding layer later\n",
        "\n",
        "If there is word that does not exist in the pre-trained embedding vocabulary, we will leave the weights as 0 vector and save off the word into a CSV file later for analysis"
      ]
    },
    {
      "cell_type": "code",
      "metadata": {
        "id": "bIrMqj-HmPwk",
        "colab_type": "code",
        "outputId": "8eaa327a-e883-46ab-b73e-6a106ede7389",
        "colab": {
          "base_uri": "https://localhost:8080/",
          "height": 68
        }
      },
      "source": [
        "# this is a map with key == word, value == index in the vocabulary\n",
        "word_index = t.word_index\n",
        "print(f'word_index length: {len(word_index)}')\n",
        "\n",
        "# we are going to use the entire vocab so we can alter this from the example\n",
        "# num_words = min(MAX_NUM_WORDS, len(word_index) + 1)\n",
        "\n",
        "# start with a matrix of 0's\n",
        "embedding_matrix = np.zeros((len(word_index) + 1, EMBED_SIZE))\n",
        "\n",
        "# if a word doesn't exist in our vocabulary, let's save it off\n",
        "missing_words = []\n",
        "print(f'embedding_matrix shape: {np.shape(embedding_matrix)}')\n",
        "for word, i in word_index.items():\n",
        "    # print(f'word: {word} i: {i}')\n",
        "    embedding_vector = embeddings_index.get(word)\n",
        "    if embedding_vector is not None and np.shape(embedding_vector)[0] == EMBED_SIZE:\n",
        "        # words not found in embedding index will be all-zeros.\n",
        "        # print(f'i: {i} embedding_vector shape: {np.shape(embedding_vector)}')\n",
        "        embedding_matrix[i] = embedding_vector\n",
        "    else:\n",
        "      missing_words.append(word)\n",
        "\n",
        "print(f'Number of missing words from our vocabulary: {len(missing_words)}')\n",
        "\n"
      ],
      "execution_count": 7,
      "outputs": [
        {
          "output_type": "stream",
          "text": [
            "word_index length: 116984\n",
            "embedding_matrix shape: (116985, 300)\n",
            "Number of missing words from our vocabulary: 47763\n"
          ],
          "name": "stdout"
        }
      ]
    },
    {
      "cell_type": "markdown",
      "metadata": {
        "id": "TIw5aJS8trK-",
        "colab_type": "text"
      },
      "source": [
        "Save off our missing words into a csv file so we can analyze this later"
      ]
    },
    {
      "cell_type": "code",
      "metadata": {
        "id": "XN1Vr2oSto2f",
        "colab_type": "code",
        "colab": {}
      },
      "source": [
        "# save missing words into a file so we can analyze it later\n",
        "missing_words_df = pd.DataFrame(missing_words)\n",
        "missing_words_df.to_csv(MISSING_WORDS_FILE, index=False)"
      ],
      "execution_count": 0,
      "outputs": []
    },
    {
      "cell_type": "markdown",
      "metadata": {
        "id": "6hWLBCjqucDJ",
        "colab_type": "text"
      },
      "source": [
        "**Build LSTM Model Architecture**"
      ]
    },
    {
      "cell_type": "code",
      "metadata": {
        "scrolled": false,
        "id": "60eC_0fRJXiQ",
        "colab_type": "code",
        "outputId": "d3e46b93-9752-422d-e325-158602558ab9",
        "colab": {
          "base_uri": "https://localhost:8080/",
          "height": 1000
        }
      },
      "source": [
        "vocab_size = len(t.word_index)+1\n",
        "\n",
        "# reduce learning rate if we sense a plateau\n",
        "reduce_lr = ReduceLROnPlateau(monitor='val_loss', \n",
        "                              restore_best_weights=True)\n",
        "\n",
        "early_stop = EarlyStopping(monitor='val_loss', \n",
        "                           patience=PATIENCE, \n",
        "                           verbose=1,\n",
        "                           restore_best_weights=True)\n",
        "\n",
        "\n",
        "mw = ku.LSTM1LayerModelWrapper(\n",
        "                        lstm_dim = LSTM_DIM, # LSTM dim - LSTM1LyerModelWrapper\n",
        "                          dropout_rate = DROPOUT_RATE, # dropout rate - LSTM1LyerModelWrapper\n",
        "                          recurrent_dropout_rate = RECURRENT_DROPOUT_RATE, # recurrent dropout rate - LSTM1LyerModelWrapper\n",
        "                          bidirectional = BIDIRECTIONAL, # bidirectional - LSTM1LyerModelWrapper\n",
        "                          vocab_size = vocab_size,       # vocab size - EmbeddingModelWrapper\n",
        "                          max_sequence_length = MAX_SEQUENCE_LENGTH, # max sequence length - EmbeddingModelWrapper\n",
        "                          embed_size = EMBED_SIZE, # embed size - EmbeddingModelWrapper\n",
        "                          train_embeddings = TRAIN_EMBEDDINGS, \n",
        "                        model_name = MODEL_NAME, # model name - ModelWrapper\n",
        "                        architecture = ARCHITECTURE, # architecture - ModelWrapper\n",
        "                        feature_set_name = FEATURE_SET_NAME, # feature_set_name - ModelWrapper\n",
        "                        label_column = LABEL_COLUMN, # label_column - ModelWrapper\n",
        "                        feature_column = FEATURE_COLUMN, # feature_column - ModelWrapper\n",
        "                        data_file = DATA_FILE, # data file - ModelWrapper\n",
        "                        sample_size_str = SAMPLES, # sample_size_str - ModelWrapper\n",
        "                        tokenizer = t, # tokenizer - ModelWrapper\n",
        "                        description = DESCRIPTION, #description - ModelWrapper\n",
        "                        learning_rate = LEARNING_RATE, # learning rate - ModelWrapper\n",
        "                        optimizer_name = \"Adam\", # optimizer - ModelWrapper\n",
        "                        batch_size = BATCH_SIZE, # batch size - ModelWrapper\n",
        "                        model_version= MODEL_VERSION, # model version - ModelWrapper\n",
        "                        save_dir = DRIVE_DIR # where to save outputs - ModelWrapper\n",
        ")\n",
        "\n",
        "mw.add(\"environment\", \"(TODO) 6.9.5.5-LSTMB128_dr20_rdr20_batch128_lr01-GloVe_with_stop_nonlemmatized-1mil-prototype.ipynb\")\n",
        "mw.add(\"patience\", PATIENCE)\n",
        "\n",
        "network_history = mw.fit(X_train, y_train,\n",
        "                      epochs = EPOCHS,\n",
        "                      verbose = 1,\n",
        "                      validation_split = 0.2,\n",
        "                      balance_class_weights = BALANCE_CLASS_WEIGHTS,\n",
        "                      callbacks=[early_stop, reduce_lr])"
      ],
      "execution_count": 9,
      "outputs": [
        {
          "output_type": "stream",
          "text": [
            "WARNING:tensorflow:Layer lstm will not use cuDNN kernel since it doesn't meet the cuDNN kernel criteria. It will use generic GPU kernel as fallback when running on GPU\n"
          ],
          "name": "stdout"
        },
        {
          "output_type": "stream",
          "text": [
            "WARNING:tensorflow:Layer lstm will not use cuDNN kernel since it doesn't meet the cuDNN kernel criteria. It will use generic GPU kernel as fallback when running on GPU\n"
          ],
          "name": "stderr"
        },
        {
          "output_type": "stream",
          "text": [
            "Model: \"sequential\"\n",
            "_________________________________________________________________\n",
            "Layer (type)                 Output Shape              Param #   \n",
            "=================================================================\n",
            "embedding (Embedding)        (None, 100, 300)          35095500  \n",
            "_________________________________________________________________\n",
            "lstm (LSTM)                  (None, 128)               219648    \n",
            "_________________________________________________________________\n",
            "dense (Dense)                (None, 5)                 645       \n",
            "=================================================================\n",
            "Total params: 35,315,793\n",
            "Trainable params: 220,293\n",
            "Non-trainable params: 35,095,500\n",
            "_________________________________________________________________\n",
            "Build model:\n",
            "None\n",
            "Epoch 1/20\n",
            "4677/4677 [==============================] - ETA: 0s - loss: 1.1572 - categorical_accuracy: 0.5803\n",
            "Epoch 00001: val_loss improved from inf to 0.91554, saving model to drive/My Drive/Springboard/capstone/models/LSTMB128-1x128-dr2-rdr2-batch128-lr01-glove_with_stop_nonlemmatized-sampling_none-1m-review_body-v1/checkpoints\n",
            "WARNING:tensorflow:From /usr/local/lib/python3.6/dist-packages/tensorflow/python/ops/resource_variable_ops.py:1817: calling BaseResourceVariable.__init__ (from tensorflow.python.ops.resource_variable_ops) with constraint is deprecated and will be removed in a future version.\n",
            "Instructions for updating:\n",
            "If using Keras pass *_constraint arguments to layers.\n"
          ],
          "name": "stdout"
        },
        {
          "output_type": "stream",
          "text": [
            "WARNING:tensorflow:From /usr/local/lib/python3.6/dist-packages/tensorflow/python/ops/resource_variable_ops.py:1817: calling BaseResourceVariable.__init__ (from tensorflow.python.ops.resource_variable_ops) with constraint is deprecated and will be removed in a future version.\n",
            "Instructions for updating:\n",
            "If using Keras pass *_constraint arguments to layers.\n"
          ],
          "name": "stderr"
        },
        {
          "output_type": "stream",
          "text": [
            "INFO:tensorflow:Assets written to: drive/My Drive/Springboard/capstone/models/LSTMB128-1x128-dr2-rdr2-batch128-lr01-glove_with_stop_nonlemmatized-sampling_none-1m-review_body-v1/checkpoints/assets\n"
          ],
          "name": "stdout"
        },
        {
          "output_type": "stream",
          "text": [
            "INFO:tensorflow:Assets written to: drive/My Drive/Springboard/capstone/models/LSTMB128-1x128-dr2-rdr2-batch128-lr01-glove_with_stop_nonlemmatized-sampling_none-1m-review_body-v1/checkpoints/assets\n"
          ],
          "name": "stderr"
        },
        {
          "output_type": "stream",
          "text": [
            "\b\b\b\b\b\b\b\b\b\b\b\b\b\b\b\b\b\b\b\b\b\b\b\b\b\b\b\b\b\b\b\b\b\b\b\b\b\b\b\b\b\b\b\b\b\b\b\b\b\b\b\b\b\b\b\b\b\b\b\b\b\b\b\b\b\b\b\b\b\b\b\b\b\b\b\b\b\b\b\b\b\b\b\b\b\b\b\b\b\b\b\b\b\b\b\b\b\b\r4677/4677 [==============================] - 1291s 276ms/step - loss: 1.1572 - categorical_accuracy: 0.5803 - val_loss: 0.9155 - val_categorical_accuracy: 0.6344 - lr: 0.0100\n",
            "Epoch 2/20\n",
            "4677/4677 [==============================] - ETA: 0s - loss: 1.0308 - categorical_accuracy: 0.6357\n",
            "Epoch 00002: val_loss improved from 0.91554 to 0.86267, saving model to drive/My Drive/Springboard/capstone/models/LSTMB128-1x128-dr2-rdr2-batch128-lr01-glove_with_stop_nonlemmatized-sampling_none-1m-review_body-v1/checkpoints\n",
            "INFO:tensorflow:Assets written to: drive/My Drive/Springboard/capstone/models/LSTMB128-1x128-dr2-rdr2-batch128-lr01-glove_with_stop_nonlemmatized-sampling_none-1m-review_body-v1/checkpoints/assets\n"
          ],
          "name": "stdout"
        },
        {
          "output_type": "stream",
          "text": [
            "INFO:tensorflow:Assets written to: drive/My Drive/Springboard/capstone/models/LSTMB128-1x128-dr2-rdr2-batch128-lr01-glove_with_stop_nonlemmatized-sampling_none-1m-review_body-v1/checkpoints/assets\n"
          ],
          "name": "stderr"
        },
        {
          "output_type": "stream",
          "text": [
            "\b\b\b\b\b\b\b\b\b\b\b\b\b\b\b\b\b\b\b\b\b\b\b\b\b\b\b\b\b\b\b\b\b\b\b\b\b\b\b\b\b\b\b\b\b\b\b\b\b\b\b\b\b\b\b\b\b\b\b\b\b\b\b\b\b\b\b\b\b\b\b\b\b\b\b\b\b\b\b\b\b\b\b\b\b\b\b\b\b\b\b\b\b\b\b\b\b\b\r4677/4677 [==============================] - 1277s 273ms/step - loss: 1.0308 - categorical_accuracy: 0.6357 - val_loss: 0.8627 - val_categorical_accuracy: 0.6567 - lr: 0.0100\n",
            "Epoch 3/20\n",
            "4677/4677 [==============================] - ETA: 0s - loss: 1.1955 - categorical_accuracy: 0.5636\n",
            "Epoch 00003: val_loss did not improve from 0.86267\n",
            "4677/4677 [==============================] - 1276s 273ms/step - loss: 1.1955 - categorical_accuracy: 0.5636 - val_loss: 0.9564 - val_categorical_accuracy: 0.6113 - lr: 0.0100\n",
            "Epoch 4/20\n",
            "4677/4677 [==============================] - ETA: 0s - loss: 1.0482 - categorical_accuracy: 0.6263\n",
            "Epoch 00004: val_loss did not improve from 0.86267\n",
            "4677/4677 [==============================] - 1273s 272ms/step - loss: 1.0482 - categorical_accuracy: 0.6263 - val_loss: 0.8919 - val_categorical_accuracy: 0.6373 - lr: 0.0100\n",
            "Epoch 5/20\n",
            "4677/4677 [==============================] - ETA: 0s - loss: 0.9982 - categorical_accuracy: 0.6466\n",
            "Epoch 00005: val_loss improved from 0.86267 to 0.85700, saving model to drive/My Drive/Springboard/capstone/models/LSTMB128-1x128-dr2-rdr2-batch128-lr01-glove_with_stop_nonlemmatized-sampling_none-1m-review_body-v1/checkpoints\n",
            "INFO:tensorflow:Assets written to: drive/My Drive/Springboard/capstone/models/LSTMB128-1x128-dr2-rdr2-batch128-lr01-glove_with_stop_nonlemmatized-sampling_none-1m-review_body-v1/checkpoints/assets\n"
          ],
          "name": "stdout"
        },
        {
          "output_type": "stream",
          "text": [
            "INFO:tensorflow:Assets written to: drive/My Drive/Springboard/capstone/models/LSTMB128-1x128-dr2-rdr2-batch128-lr01-glove_with_stop_nonlemmatized-sampling_none-1m-review_body-v1/checkpoints/assets\n"
          ],
          "name": "stderr"
        },
        {
          "output_type": "stream",
          "text": [
            "\b\b\b\b\b\b\b\b\b\b\b\b\b\b\b\b\b\b\b\b\b\b\b\b\b\b\b\b\b\b\b\b\b\b\b\b\b\b\b\b\b\b\b\b\b\b\b\b\b\b\b\b\b\b\b\b\b\b\b\b\b\b\b\b\b\b\b\b\b\b\b\b\b\b\b\b\b\b\b\b\b\b\b\b\b\b\b\b\b\b\b\b\b\b\b\b\b\b\r4677/4677 [==============================] - 1286s 275ms/step - loss: 0.9982 - categorical_accuracy: 0.6466 - val_loss: 0.8570 - val_categorical_accuracy: 0.6516 - lr: 0.0100\n",
            "Epoch 6/20\n",
            "4677/4677 [==============================] - ETA: 0s - loss: 0.9853 - categorical_accuracy: 0.6521\n",
            "Epoch 00006: val_loss improved from 0.85700 to 0.84267, saving model to drive/My Drive/Springboard/capstone/models/LSTMB128-1x128-dr2-rdr2-batch128-lr01-glove_with_stop_nonlemmatized-sampling_none-1m-review_body-v1/checkpoints\n",
            "INFO:tensorflow:Assets written to: drive/My Drive/Springboard/capstone/models/LSTMB128-1x128-dr2-rdr2-batch128-lr01-glove_with_stop_nonlemmatized-sampling_none-1m-review_body-v1/checkpoints/assets\n"
          ],
          "name": "stdout"
        },
        {
          "output_type": "stream",
          "text": [
            "INFO:tensorflow:Assets written to: drive/My Drive/Springboard/capstone/models/LSTMB128-1x128-dr2-rdr2-batch128-lr01-glove_with_stop_nonlemmatized-sampling_none-1m-review_body-v1/checkpoints/assets\n"
          ],
          "name": "stderr"
        },
        {
          "output_type": "stream",
          "text": [
            "\b\b\b\b\b\b\b\b\b\b\b\b\b\b\b\b\b\b\b\b\b\b\b\b\b\b\b\b\b\b\b\b\b\b\b\b\b\b\b\b\b\b\b\b\b\b\b\b\b\b\b\b\b\b\b\b\b\b\b\b\b\b\b\b\b\b\b\b\b\b\b\b\b\b\b\b\b\b\b\b\b\b\b\b\b\b\b\b\b\b\b\b\b\b\b\b\b\b\r4677/4677 [==============================] - 1291s 276ms/step - loss: 0.9853 - categorical_accuracy: 0.6521 - val_loss: 0.8427 - val_categorical_accuracy: 0.6633 - lr: 0.0100\n",
            "Epoch 7/20\n",
            "4677/4677 [==============================] - ETA: 0s - loss: 0.9735 - categorical_accuracy: 0.6566\n",
            "Epoch 00007: val_loss did not improve from 0.84267\n",
            "4677/4677 [==============================] - 1276s 273ms/step - loss: 0.9735 - categorical_accuracy: 0.6566 - val_loss: 0.8514 - val_categorical_accuracy: 0.6500 - lr: 0.0100\n",
            "Epoch 8/20\n",
            "4677/4677 [==============================] - ETA: 0s - loss: 0.9676 - categorical_accuracy: 0.6581\n",
            "Epoch 00008: val_loss did not improve from 0.84267\n",
            "4677/4677 [==============================] - 1266s 271ms/step - loss: 0.9676 - categorical_accuracy: 0.6581 - val_loss: 0.8444 - val_categorical_accuracy: 0.6587 - lr: 0.0100\n",
            "Epoch 9/20\n",
            "4677/4677 [==============================] - ETA: 0s - loss: 0.9567 - categorical_accuracy: 0.6618\n",
            "Epoch 00009: val_loss improved from 0.84267 to 0.83174, saving model to drive/My Drive/Springboard/capstone/models/LSTMB128-1x128-dr2-rdr2-batch128-lr01-glove_with_stop_nonlemmatized-sampling_none-1m-review_body-v1/checkpoints\n",
            "INFO:tensorflow:Assets written to: drive/My Drive/Springboard/capstone/models/LSTMB128-1x128-dr2-rdr2-batch128-lr01-glove_with_stop_nonlemmatized-sampling_none-1m-review_body-v1/checkpoints/assets\n"
          ],
          "name": "stdout"
        },
        {
          "output_type": "stream",
          "text": [
            "INFO:tensorflow:Assets written to: drive/My Drive/Springboard/capstone/models/LSTMB128-1x128-dr2-rdr2-batch128-lr01-glove_with_stop_nonlemmatized-sampling_none-1m-review_body-v1/checkpoints/assets\n"
          ],
          "name": "stderr"
        },
        {
          "output_type": "stream",
          "text": [
            "\b\b\b\b\b\b\b\b\b\b\b\b\b\b\b\b\b\b\b\b\b\b\b\b\b\b\b\b\b\b\b\b\b\b\b\b\b\b\b\b\b\b\b\b\b\b\b\b\b\b\b\b\b\b\b\b\b\b\b\b\b\b\b\b\b\b\b\b\b\b\b\b\b\b\b\b\b\b\b\b\b\b\b\b\b\b\b\b\b\b\b\b\b\b\b\b\b\b\r4677/4677 [==============================] - 1273s 272ms/step - loss: 0.9567 - categorical_accuracy: 0.6618 - val_loss: 0.8317 - val_categorical_accuracy: 0.6657 - lr: 0.0100\n",
            "Epoch 10/20\n",
            "4677/4677 [==============================] - ETA: 0s - loss: 0.9486 - categorical_accuracy: 0.6631\n",
            "Epoch 00010: val_loss improved from 0.83174 to 0.83144, saving model to drive/My Drive/Springboard/capstone/models/LSTMB128-1x128-dr2-rdr2-batch128-lr01-glove_with_stop_nonlemmatized-sampling_none-1m-review_body-v1/checkpoints\n",
            "INFO:tensorflow:Assets written to: drive/My Drive/Springboard/capstone/models/LSTMB128-1x128-dr2-rdr2-batch128-lr01-glove_with_stop_nonlemmatized-sampling_none-1m-review_body-v1/checkpoints/assets\n"
          ],
          "name": "stdout"
        },
        {
          "output_type": "stream",
          "text": [
            "INFO:tensorflow:Assets written to: drive/My Drive/Springboard/capstone/models/LSTMB128-1x128-dr2-rdr2-batch128-lr01-glove_with_stop_nonlemmatized-sampling_none-1m-review_body-v1/checkpoints/assets\n"
          ],
          "name": "stderr"
        },
        {
          "output_type": "stream",
          "text": [
            "\b\b\b\b\b\b\b\b\b\b\b\b\b\b\b\b\b\b\b\b\b\b\b\b\b\b\b\b\b\b\b\b\b\b\b\b\b\b\b\b\b\b\b\b\b\b\b\b\b\b\b\b\b\b\b\b\b\b\b\b\b\b\b\b\b\b\b\b\b\b\b\b\b\b\b\b\b\b\b\b\b\b\b\b\b\b\b\b\b\b\b\b\b\b\b\b\b\b\r4677/4677 [==============================] - 1277s 273ms/step - loss: 0.9486 - categorical_accuracy: 0.6631 - val_loss: 0.8314 - val_categorical_accuracy: 0.6587 - lr: 0.0100\n",
            "Epoch 11/20\n",
            "4677/4677 [==============================] - ETA: 0s - loss: 1.4184 - categorical_accuracy: 0.4815\n",
            "Epoch 00011: val_loss did not improve from 0.83144\n",
            "4677/4677 [==============================] - 1269s 271ms/step - loss: 1.4184 - categorical_accuracy: 0.4815 - val_loss: 1.2889 - val_categorical_accuracy: 0.5556 - lr: 0.0100\n",
            "Epoch 12/20\n",
            "4677/4677 [==============================] - ETA: 0s - loss: 1.4219 - categorical_accuracy: 0.4764\n",
            "Epoch 00012: val_loss did not improve from 0.83144\n",
            "4677/4677 [==============================] - 1286s 275ms/step - loss: 1.4219 - categorical_accuracy: 0.4764 - val_loss: 1.3262 - val_categorical_accuracy: 0.5127 - lr: 0.0100\n",
            "Epoch 13/20\n",
            "4677/4677 [==============================] - ETA: 0s - loss: 1.4241 - categorical_accuracy: 0.4643\n",
            "Epoch 00013: val_loss did not improve from 0.83144\n",
            "4677/4677 [==============================] - 1270s 272ms/step - loss: 1.4241 - categorical_accuracy: 0.4643 - val_loss: 1.3810 - val_categorical_accuracy: 0.4534 - lr: 0.0100\n",
            "Epoch 14/20\n",
            "4677/4677 [==============================] - ETA: 0s - loss: nan - categorical_accuracy: 0.3455Restoring model weights from the end of the best epoch.\n",
            "\n",
            "Epoch 00014: val_loss did not improve from 0.83144\n",
            "4677/4677 [==============================] - 1282s 274ms/step - loss: nan - categorical_accuracy: 0.3455 - val_loss: nan - val_categorical_accuracy: 0.1413 - lr: 0.0100\n",
            "Epoch 00014: early stopping\n",
            "Total training time: 298.36 mins\n"
          ],
          "name": "stdout"
        }
      ]
    },
    {
      "cell_type": "code",
      "metadata": {
        "id": "q4EzQ967TNvm",
        "colab_type": "code",
        "outputId": "89ab8ec2-697a-4090-b9c9-757874d22dcb",
        "colab": {
          "base_uri": "https://localhost:8080/",
          "height": 530
        }
      },
      "source": [
        "scores = mw.evaluate(X_test, y_test)\n",
        "print(\"Training Accuracy: %.2f%%\" % (mw.train_scores[1]*100))\n",
        "print(\"Test Accuracy: %.2f%%\" % (mw.test_scores[1]*100))\n",
        "\n",
        "mw.save(append_report=True)"
      ],
      "execution_count": 10,
      "outputs": [
        {
          "output_type": "stream",
          "text": [
            "Number of test: 249421\n",
            "Running model.evaluate on test set...\n",
            "7795/7795 [==============================] - 185s 24ms/step - loss: 0.8292 - categorical_accuracy: 0.6601\n",
            "Running model.predict on test set...\n",
            "Unencode test set predictions...\n",
            "Generating test set confusion matrix...\n",
            "Calculating test set ROC AUC...\n",
            "(249421, 5)\n",
            "Getting test set classification report...\n",
            "Running model.evaluate on training set...\n",
            "23384/23384 [==============================] - 553s 24ms/step - loss: 0.7959 - categorical_accuracy: 0.6735\n",
            "Running model.predict on training set...\n",
            "Unencode training set predictions...\n",
            "Generating training set confusion matrix...\n",
            "Calculating training set ROC AUC...\n",
            "(748261, 5)\n",
            "Getting training set classification report...\n",
            "Training Accuracy: 67.35%\n",
            "Test Accuracy: 66.01%\n",
            "Saving to report file: drive/My Drive/Springboard/capstone/reports/LSTMB128_dr2_rdr2_batch128_lr01-glove_with_stop_nonlemmatized-dl_prototype-report.csv\n",
            "Loading to append to: drive/My Drive/Springboard/capstone/reports/LSTMB128_dr2_rdr2_batch128_lr01-glove_with_stop_nonlemmatized-dl_prototype-report.csv\n",
            "Saving report file...\n",
            "Saving json config file: drive/My Drive/Springboard/capstone/models/LSTMB128-1x128-dr2-rdr2-batch128-lr01-glove_with_stop_nonlemmatized-sampling_none-1m-review_body-v1/LSTMB128-1x128-dr2-rdr2-batch128-lr01-glove_with_stop_nonlemmatized-sampling_none-1m-review_body-v1-model.json\n",
            "Saving weights file: drive/My Drive/Springboard/capstone/models/LSTMB128-1x128-dr2-rdr2-batch128-lr01-glove_with_stop_nonlemmatized-sampling_none-1m-review_body-v1/LSTMB128-1x128-dr2-rdr2-batch128-lr01-glove_with_stop_nonlemmatized-sampling_none-1m-review_body-v1-weights.h5\n",
            "Saving history file: drive/My Drive/Springboard/capstone/reports/LSTMB128-1x128-dr2-rdr2-batch128-lr01-glove_with_stop_nonlemmatized-sampling_none-1m-review_body-v1-history.pkl\n",
            "Saving model file: drive/My Drive/Springboard/capstone/models/LSTMB128-1x128-dr2-rdr2-batch128-lr01-glove_with_stop_nonlemmatized-sampling_none-1m-review_body-v1/LSTMB128-1x128-dr2-rdr2-batch128-lr01-glove_with_stop_nonlemmatized-sampling_none-1m-review_body-v1-model.h5\n",
            "Saving SavedModel to: drive/My Drive/Springboard/capstone/models/LSTMB128-1x128-dr2-rdr2-batch128-lr01-glove_with_stop_nonlemmatized-sampling_none-1m-review_body-v1/1\n",
            "INFO:tensorflow:Assets written to: drive/My Drive/Springboard/capstone/models/LSTMB128-1x128-dr2-rdr2-batch128-lr01-glove_with_stop_nonlemmatized-sampling_none-1m-review_body-v1/1/assets\n"
          ],
          "name": "stdout"
        },
        {
          "output_type": "stream",
          "text": [
            "INFO:tensorflow:Assets written to: drive/My Drive/Springboard/capstone/models/LSTMB128-1x128-dr2-rdr2-batch128-lr01-glove_with_stop_nonlemmatized-sampling_none-1m-review_body-v1/1/assets\n"
          ],
          "name": "stderr"
        }
      ]
    },
    {
      "cell_type": "code",
      "metadata": {
        "id": "i4o0U5INtE_1",
        "colab_type": "code",
        "colab": {
          "base_uri": "https://localhost:8080/",
          "height": 34
        },
        "outputId": "0269d2b2-5741-4199-80d2-49082bc7db10"
      },
      "source": [
        "print(f'Score: {ru.calculate_metric(mw.test_crd)}')\n"
      ],
      "execution_count": 14,
      "outputs": [
        {
          "output_type": "stream",
          "text": [
            "Score: 0.559386228527724\n"
          ],
          "name": "stdout"
        }
      ]
    },
    {
      "cell_type": "code",
      "metadata": {
        "id": "2VHBrsPjJXiS",
        "colab_type": "code",
        "outputId": "7998eddd-117a-4ab8-d8ab-a09476d603d5",
        "colab": {
          "base_uri": "https://localhost:8080/",
          "height": 1000
        }
      },
      "source": [
        "\n",
        "pu.plot_network_history(mw.network_history, \"categorical_accuracy\", \"val_categorical_accuracy\")\n",
        "plt.show()\n",
        "\n",
        "print(\"\\nConfusion Matrix\")\n",
        "print(mw.test_confusion_matrix)\n",
        "\n",
        "print(\"\\nClassification Report\")\n",
        "print(mw.test_classification_report)\n",
        "\n",
        "fig = plt.figure(figsize=(5,5))\n",
        "pu.plot_roc_auc(mw.model_name, mw.test_roc_auc, mw.test_fpr, mw.test_tpr)\n",
        "\n"
      ],
      "execution_count": 11,
      "outputs": [
        {
          "output_type": "display_data",
          "data": {
            "image/png": "[encoded data removed]",
            "text/plain": [
              "<Figure size 720x360 with 2 Axes>"
            ]
          },
          "metadata": {
            "tags": []
          }
        },
        {
          "output_type": "stream",
          "text": [
            "\n",
            "Confusion Matrix\n",
            "[[ 21916   9132   2943    434    594]\n",
            " [  3498   7011   4969    771    351]\n",
            " [  1123   3875  11529   4563   1181]\n",
            " [   385    833   6694  21863  11860]\n",
            " [   858    873   4148  25698 102319]]\n",
            "\n",
            "Classification Report\n",
            "              precision    recall  f1-score   support\n",
            "\n",
            "           1       0.79      0.63      0.70     35019\n",
            "           2       0.32      0.42      0.37     16600\n",
            "           3       0.38      0.52      0.44     22271\n",
            "           4       0.41      0.53      0.46     41635\n",
            "           5       0.88      0.76      0.82    133896\n",
            "\n",
            "    accuracy                           0.66    249421\n",
            "   macro avg       0.56      0.57      0.56    249421\n",
            "weighted avg       0.71      0.66      0.68    249421\n",
            "\n"
          ],
          "name": "stdout"
        },
        {
          "output_type": "stream",
          "text": [
            "drive/My Drive/Springboard/capstone/util/plot_util.py:267: MatplotlibDeprecationWarning: The 'withdash' parameter of text() is deprecated since Matplotlib 3.1 and will be removed in 3.3.  If any parameter follows 'withdash', they should be pass as keyword, not positionally.\n",
            "  withdash=True)\n",
            "drive/My Drive/Springboard/capstone/util/plot_util.py:267: MatplotlibDeprecationWarning: \n",
            "The TextWithDash class was deprecated in Matplotlib 3.1 and will be removed in 3.3. Use Annotation instead.\n",
            "  withdash=True)\n",
            "drive/My Drive/Springboard/capstone/util/plot_util.py:271: MatplotlibDeprecationWarning: The 'withdash' parameter of text() is deprecated since Matplotlib 3.1 and will be removed in 3.3.  If any parameter follows 'withdash', they should be pass as keyword, not positionally.\n",
            "  withdash=True)\n",
            "drive/My Drive/Springboard/capstone/util/plot_util.py:271: MatplotlibDeprecationWarning: \n",
            "The TextWithDash class was deprecated in Matplotlib 3.1 and will be removed in 3.3. Use Annotation instead.\n",
            "  withdash=True)\n",
            "drive/My Drive/Springboard/capstone/util/plot_util.py:275: MatplotlibDeprecationWarning: The 'withdash' parameter of text() is deprecated since Matplotlib 3.1 and will be removed in 3.3.  If any parameter follows 'withdash', they should be pass as keyword, not positionally.\n",
            "  withdash=True)\n",
            "drive/My Drive/Springboard/capstone/util/plot_util.py:275: MatplotlibDeprecationWarning: \n",
            "The TextWithDash class was deprecated in Matplotlib 3.1 and will be removed in 3.3. Use Annotation instead.\n",
            "  withdash=True)\n"
          ],
          "name": "stderr"
        },
        {
          "output_type": "display_data",
          "data": {
            "image/png": "[encoded data removed]",
            "text/plain": [
              "<Figure size 360x360 with 1 Axes>"
            ]
          },
          "metadata": {
            "tags": []
          }
        }
      ]
    },
    {
      "cell_type": "markdown",
      "metadata": {
        "id": "jyLHNyTcfvHp",
        "colab_type": "text"
      },
      "source": [
        "# Test That Our Models Saved Correctly"
      ]
    },
    {
      "cell_type": "code",
      "metadata": {
        "id": "aOF5a51SfyqM",
        "colab_type": "code",
        "outputId": "579b976b-fb57-46ad-fde1-a49119eeafa9",
        "colab": {
          "base_uri": "https://localhost:8080/",
          "height": 105
        }
      },
      "source": [
        "from tensorflow.keras.models import load_model\n",
        "\n",
        "model_loaded = load_model(mw.model_file)\n",
        "scores = model_loaded.evaluate(X_test, y_test, verbose=1)\n",
        "print(\"Accuracy: %.2f%%\" % (scores[1]*100))\n",
        "\n",
        "# this takes too long for real models\n",
        "if DEBUG == True:\n",
        "  y_predict = model_loaded.predict(X_test)\n",
        "  y_predict_unencoded = ku.unencode(y_predict)\n",
        "  y_test_unencoded = ku.unencode(y_test)\n",
        "\n",
        "  # classification report\n",
        "  print(classification_report(y_test_unencoded, y_predict_unencoded))\n",
        "\n",
        "  # confusion matrix\n",
        "  print(confusion_matrix(y_test_unencoded, y_predict_unencoded))\n"
      ],
      "execution_count": 12,
      "outputs": [
        {
          "output_type": "stream",
          "text": [
            "WARNING:tensorflow:Layer lstm will not use cuDNN kernel since it doesn't meet the cuDNN kernel criteria. It will use generic GPU kernel as fallback when running on GPU\n"
          ],
          "name": "stdout"
        },
        {
          "output_type": "stream",
          "text": [
            "WARNING:tensorflow:Layer lstm will not use cuDNN kernel since it doesn't meet the cuDNN kernel criteria. It will use generic GPU kernel as fallback when running on GPU\n"
          ],
          "name": "stderr"
        },
        {
          "output_type": "stream",
          "text": [
            "7795/7795 [==============================] - 187s 24ms/step - loss: 0.8292 - categorical_accuracy: 0.6601\n",
            "Accuracy: 66.01%\n"
          ],
          "name": "stdout"
        }
      ]
    },
    {
      "cell_type": "code",
      "metadata": {
        "id": "96A-A5CBJXiy",
        "colab_type": "code",
        "outputId": "8fbe9111-f375-4b55-85df-1a430114c9ea",
        "colab": {
          "base_uri": "https://localhost:8080/",
          "height": 68
        }
      },
      "source": [
        "end_time = datetime.now()\n",
        "print(f\"Start time: {start_time}\")\n",
        "print(f\"End time: {end_time}\")\n",
        "print(f\"Total Duration: {round((end_time - start_time).total_seconds() / 60, 2)} mins\")"
      ],
      "execution_count": 13,
      "outputs": [
        {
          "output_type": "stream",
          "text": [
            "Start time: 2020-05-13 04:38:24.366151\n",
            "End time: 2020-05-13 10:08:31.905070\n",
            "Total Duration: 330.13 mins\n"
          ],
          "name": "stdout"
        }
      ]
    }
  ]
}