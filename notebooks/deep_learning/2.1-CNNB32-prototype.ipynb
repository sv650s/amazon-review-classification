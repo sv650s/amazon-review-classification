{
  "nbformat": 4,
  "nbformat_minor": 0,
  "metadata": {
    "colab": {
      "name": "2.1-CNNB32-prototype.ipynb",
      "provenance": [],
      "collapsed_sections": [],
      "include_colab_link": true
    },
    "language_info": {
      "codemirror_mode": {
        "name": "ipython",
        "version": 3
      },
      "file_extension": ".py",
      "mimetype": "text/x-python",
      "name": "python",
      "nbconvert_exporter": "python",
      "pygments_lexer": "ipython3",
      "version": "3.7.3"
    },
    "kernelspec": {
      "name": "python3",
      "display_name": "Python 3"
    },
    "accelerator": "GPU"
  },
  "cells": [
    {
      "cell_type": "markdown",
      "metadata": {
        "id": "view-in-github",
        "colab_type": "text"
      },
      "source": [
        "<a href=\"https://colab.research.google.com/github/sv650s/amazon-review-classification/blob/master/notebooks/deep_learning/2.1-CNNB32-prototype.ipynb\" target=\"_parent\"><img src=\"https://colab.research.google.com/assets/colab-badge.svg\" alt=\"Open In Colab\"/></a>"
      ]
    },
    {
      "cell_type": "markdown",
      "metadata": {
        "id": "W7_sb1roJXhx",
        "colab_type": "text"
      },
      "source": [
        "# 1 Layer CNN x 32 Filters (balanced weights)\n"
      ]
    },
    {
      "cell_type": "code",
      "metadata": {
        "id": "PQAdmLZOro8c",
        "colab_type": "code",
        "outputId": "d6985ab4-0934-432f-f713-4b32768dd179",
        "colab": {
          "base_uri": "https://localhost:8080/",
          "height": 72
        }
      },
      "source": [
        "from google.colab import drive\n",
        "drive.mount('/content/drive')\n",
        "\n",
        "import sys\n",
        "DRIVE_DIR = \"drive/My Drive/Springboard/capstone\"\n",
        "sys.path.append(DRIVE_DIR)\n",
        "\n",
        "\n",
        "%tensorflow_version 2.x\n",
        "\n",
        "\n",
        "import tensorflow as tf\n",
        "# checl to make sure we are using GPU here\n",
        "tf.test.gpu_device_name()"
      ],
      "execution_count": 1,
      "outputs": [
        {
          "output_type": "stream",
          "text": [
            "Drive already mounted at /content/drive; to attempt to forcibly remount, call drive.mount(\"/content/drive\", force_remount=True).\n"
          ],
          "name": "stdout"
        },
        {
          "output_type": "execute_result",
          "data": {
            "text/plain": [
              "'/device:GPU:0'"
            ]
          },
          "metadata": {
            "tags": []
          },
          "execution_count": 1
        }
      ]
    },
    {
      "cell_type": "code",
      "metadata": {
        "id": "At8OhHNfJXh3",
        "colab_type": "code",
        "outputId": "a998a903-4afc-44e6-d513-eb7beb924dd8",
        "colab": {
          "base_uri": "https://localhost:8080/",
          "height": 72
        }
      },
      "source": [
        "from tensorflow.keras.models import Sequential\n",
        "from tensorflow.keras.layers import Dense, Activation, Dropout, BatchNormalization\n",
        "from tensorflow.keras.callbacks import EarlyStopping, ReduceLROnPlateau\n",
        "from tensorflow.keras.models import load_model\n",
        "from tensorflow.keras.optimizers import SGD, Adam\n",
        "from tensorflow.keras.layers import Flatten\n",
        "from tensorflow.keras.layers import Conv1D, MaxPooling1D, Embedding\n",
        "from tensorflow.keras.utils import model_to_dot\n",
        "from tensorflow.keras.preprocessing.text import Tokenizer\n",
        "from tensorflow.keras.preprocessing import sequence\n",
        "\n",
        "\n",
        "from sklearn.model_selection import train_test_split\n",
        "from sklearn.preprocessing import OneHotEncoder, LabelEncoder\n",
        "from sklearn.metrics import confusion_matrix, classification_report\n",
        "from sklearn.utils.class_weight import compute_class_weight\n",
        "\n",
        "\n",
        "import pandas as pd\n",
        "import numpy as np\n",
        "from IPython.display import SVG\n",
        "import pickle\n",
        "from datetime import datetime\n",
        "import matplotlib.pyplot as plt\n",
        "import seaborn as sns\n",
        "import os\n",
        "import logging\n",
        "import importlib\n",
        "import json\n",
        "\n",
        "import util.dict_util as du\n",
        "import util.plot_util as pu\n",
        "import util.file_util as fu\n",
        "import util.keras_util as ku\n",
        "import util.report_util as ru\n",
        "\n",
        "import random\n",
        "\n",
        "RSTATE = 1\n",
        "# fix random seeds\n",
        "tf.compat.v1.reset_default_graph()\n",
        "tf.compat.v1.set_random_seed(RSTATE)\n",
        "random.seed(RSTATE)\n",
        "np.random.seed(RSTATE)\n",
        "\n",
        "\n",
        "logging.basicConfig(level=logging.INFO)\n",
        "\n",
        "%matplotlib inline\n",
        "sns.set()\n",
        "\n",
        "\n",
        "\n",
        "DATE_FORMAT = '%Y-%m-%d'\n",
        "TIME_FORMAT = '%Y-%m-%d %H:%M:%S'\n",
        "LABEL_COLUMN = \"star_rating\"\n",
        "REVIEW_COLUMN = \"review_body\"\n",
        "\n",
        "SAMPLE_SIZE = \"200k\"\n",
        "\n",
        "LEARNING_RATE = 0.01\n",
        "# first layer filter\n",
        "FILTER1 = 32\n",
        "# Network Settings\n",
        "KERNEL_SIZE = 3\n",
        "PATIENCE = 4\n",
        "PLATEAU_PATIENCE = 2\n",
        "BALANCE_CLASS_WEIGHTS = True\n",
        "MODEL_VERSION = 1\n",
        "ENVIRONMENT = \"2.1-CNNB32-prototype.ipynb\"\n",
        "\n",
        "\n",
        "# length of our embedding - 300 is standard\n",
        "EMBED_SIZE = 300\n",
        "EPOCHS  = 20\n",
        "BATCH_SIZE = 128\n",
        "\n",
        "# From EDA, we know that 90% of review bodies have 100 words or less, \n",
        "# we will use this as our sequence length\n",
        "MAX_SEQUENCE_LENGTH = 100\n",
        "\n",
        "DEBUG = False\n",
        "\n",
        "MODEL_NAME = f\"CNNB{FILTER1}\"\n",
        "ARCHITECTURE = f\"1x{FILTER1}\"\n",
        "FEATURE_SET_NAME = \"embedding_random\"\n",
        "REPORT_FILE = \"dl_prototype-report.csv\"\n",
        "if DEBUG:\n",
        "  DATA_FILE = f'{DRIVE_DIR}/data/amazon_reviews_us_Wireless_v1_00-test-preprocessed.csv'\n",
        "  MODEL_NAME = f'test-{MODEL_NAME}'\n",
        "  REPORT_FILE = f'test-{REPORT_FILE}'\n",
        "else:\n",
        "  DATA_FILE = f\"{DRIVE_DIR}/data/amazon_reviews_us_Wireless_v1_00-{SAMPLE_SIZE}-with_stop_nonlemmatized-preprocessed.csv\"\n",
        "\n",
        "ku.ModelWrapper.set_report_filename(REPORT_FILE)\n",
        "\n",
        "directory, INBASENAME = fu.get_dir_basename(DATA_FILE)\n",
        "DESCRIPTION = f\"1 Layer CNN with {FILTER1} filters, kernel size {KERNEL_SIZE} (balanced weights)\"\n",
        "\n",
        "\n",
        "\n",
        "\n",
        "\n",
        "start_time = datetime.now()"
      ],
      "execution_count": 2,
      "outputs": [
        {
          "output_type": "stream",
          "text": [
            "/usr/local/lib/python3.6/dist-packages/statsmodels/tools/_testing.py:19: FutureWarning: pandas.util.testing is deprecated. Use the functions in the public API at pandas.testing instead.\n",
            "  import pandas.util.testing as tm\n"
          ],
          "name": "stderr"
        }
      ]
    },
    {
      "cell_type": "code",
      "metadata": {
        "hide_input": false,
        "id": "k6fwJp9OJXh5",
        "colab_type": "code",
        "colab": {}
      },
      "source": [
        "df = pd.read_csv(f\"{DATA_FILE}\")"
      ],
      "execution_count": 0,
      "outputs": []
    },
    {
      "cell_type": "code",
      "metadata": {
        "id": "nb3whPNGNsu6",
        "colab_type": "code",
        "outputId": "fa766e84-fab2-4919-e962-eb23d11e7ab7",
        "colab": {
          "base_uri": "https://localhost:8080/",
          "height": 381
        }
      },
      "source": [
        "df.head()"
      ],
      "execution_count": 4,
      "outputs": [
        {
          "output_type": "execute_result",
          "data": {
            "text/html": [
              "<div>\n",
              "<style scoped>\n",
              "    .dataframe tbody tr th:only-of-type {\n",
              "        vertical-align: middle;\n",
              "    }\n",
              "\n",
              "    .dataframe tbody tr th {\n",
              "        vertical-align: top;\n",
              "    }\n",
              "\n",
              "    .dataframe thead th {\n",
              "        text-align: right;\n",
              "    }\n",
              "</style>\n",
              "<table border=\"1\" class=\"dataframe\">\n",
              "  <thead>\n",
              "    <tr style=\"text-align: right;\">\n",
              "      <th></th>\n",
              "      <th>star_rating</th>\n",
              "      <th>helpful_votes</th>\n",
              "      <th>total_votes</th>\n",
              "      <th>review_headline_orig</th>\n",
              "      <th>review_headline</th>\n",
              "      <th>review_body_orig</th>\n",
              "      <th>review_body</th>\n",
              "      <th>review_date</th>\n",
              "    </tr>\n",
              "  </thead>\n",
              "  <tbody>\n",
              "    <tr>\n",
              "      <th>0</th>\n",
              "      <td>3</td>\n",
              "      <td>0</td>\n",
              "      <td>0</td>\n",
              "      <td>love polka dots</td>\n",
              "      <td>love polka dots</td>\n",
              "      <td>Best quality</td>\n",
              "      <td>best quality</td>\n",
              "      <td>2015-08-31</td>\n",
              "    </tr>\n",
              "    <tr>\n",
              "      <th>1</th>\n",
              "      <td>5</td>\n",
              "      <td>0</td>\n",
              "      <td>0</td>\n",
              "      <td>Five Stars</td>\n",
              "      <td>five stars</td>\n",
              "      <td>Very good quality for the price.</td>\n",
              "      <td>very good quality for the price</td>\n",
              "      <td>2015-08-31</td>\n",
              "    </tr>\n",
              "    <tr>\n",
              "      <th>2</th>\n",
              "      <td>5</td>\n",
              "      <td>0</td>\n",
              "      <td>0</td>\n",
              "      <td>but the case works great. Fits great and very ...</td>\n",
              "      <td>but the case works great fits great and very slim</td>\n",
              "      <td>I wish the bottom and top edges were a little ...</td>\n",
              "      <td>i wish the bottom and top edges were a little ...</td>\n",
              "      <td>2015-08-31</td>\n",
              "    </tr>\n",
              "    <tr>\n",
              "      <th>3</th>\n",
              "      <td>5</td>\n",
              "      <td>0</td>\n",
              "      <td>0</td>\n",
              "      <td>Perfect</td>\n",
              "      <td>perfect</td>\n",
              "      <td>Just finished using it while on a trip. Loved ...</td>\n",
              "      <td>just finished using it while on a trip loved b...</td>\n",
              "      <td>2015-08-31</td>\n",
              "    </tr>\n",
              "    <tr>\n",
              "      <th>4</th>\n",
              "      <td>1</td>\n",
              "      <td>0</td>\n",
              "      <td>0</td>\n",
              "      <td>cheaply made!</td>\n",
              "      <td>cheaply made</td>\n",
              "      <td>low quality earbuds! They do not stay in the e...</td>\n",
              "      <td>low quality earbuds they do not stay in the ea...</td>\n",
              "      <td>2015-08-31</td>\n",
              "    </tr>\n",
              "  </tbody>\n",
              "</table>\n",
              "</div>"
            ],
            "text/plain": [
              "   star_rating  ...  review_date\n",
              "0            3  ...   2015-08-31\n",
              "1            5  ...   2015-08-31\n",
              "2            5  ...   2015-08-31\n",
              "3            5  ...   2015-08-31\n",
              "4            1  ...   2015-08-31\n",
              "\n",
              "[5 rows x 8 columns]"
            ]
          },
          "metadata": {
            "tags": []
          },
          "execution_count": 4
        }
      ]
    },
    {
      "cell_type": "code",
      "metadata": {
        "id": "pqHfMf6mJXh7",
        "colab_type": "code",
        "colab": {}
      },
      "source": [
        "rating = df[LABEL_COLUMN]\n",
        "reviews = df[REVIEW_COLUMN]"
      ],
      "execution_count": 0,
      "outputs": []
    },
    {
      "cell_type": "markdown",
      "metadata": {
        "id": "EBQR0ZpoOiQk",
        "colab_type": "text"
      },
      "source": [
        "**Preprocessing**"
      ]
    },
    {
      "cell_type": "code",
      "metadata": {
        "id": "lytdvF4neJ4r",
        "colab_type": "code",
        "outputId": "b53383f6-abd5-4094-b1a3-116b1a10c55f",
        "colab": {
          "base_uri": "https://localhost:8080/",
          "height": 70
        }
      },
      "source": [
        "# one hot encode ratings\n",
        "print(rating.shape)\n",
        "print(type(rating))\n",
        "y = OneHotEncoder().fit_transform(rating.values.reshape(len(rating), 1)).toarray()\n",
        "print(y.shape)"
      ],
      "execution_count": 6,
      "outputs": [
        {
          "output_type": "stream",
          "text": [
            "(199538,)\n",
            "<class 'pandas.core.series.Series'>\n",
            "(199538, 5)\n"
          ],
          "name": "stdout"
        }
      ]
    },
    {
      "cell_type": "code",
      "metadata": {
        "id": "8sdvF7lKPRfD",
        "colab_type": "code",
        "colab": {}
      },
      "source": [
        ""
      ],
      "execution_count": 0,
      "outputs": []
    },
    {
      "cell_type": "code",
      "metadata": {
        "id": "i0mwVXPjOpi5",
        "colab_type": "code",
        "outputId": "be7e7b65-5dc0-4fdf-8dd9-693f868280df",
        "colab": {
          "base_uri": "https://localhost:8080/",
          "height": 52
        }
      },
      "source": [
        "\n",
        "\n",
        "t = Tokenizer()\n",
        "# fit the tokenizer on the documents\n",
        "t.fit_on_texts(reviews)\n",
        "\n",
        "\n",
        "reviews_sequences = t.texts_to_sequences(reviews)\n",
        "reviews_padded = sequence.pad_sequences(reviews_sequences, maxlen=MAX_SEQUENCE_LENGTH)\n",
        "\n",
        "print(\"Vocabulary size={}\".format(len(t.word_counts)))\n",
        "print(\"Number of Documents={}\".format(t.document_count))\n",
        "\n",
        "\n",
        "X_train, X_test, y_train, y_test = train_test_split(reviews_padded, y, random_state=RSTATE)"
      ],
      "execution_count": 7,
      "outputs": [
        {
          "output_type": "stream",
          "text": [
            "Vocabulary size=57429\n",
            "Number of Documents=199538\n"
          ],
          "name": "stdout"
        }
      ]
    },
    {
      "cell_type": "code",
      "metadata": {
        "id": "Ou3A0O2aOwcb",
        "colab_type": "code",
        "colab": {}
      },
      "source": [
        ""
      ],
      "execution_count": 0,
      "outputs": []
    },
    {
      "cell_type": "code",
      "metadata": {
        "id": "LxDcAouddq88",
        "colab_type": "code",
        "colab": {}
      },
      "source": [
        "\n"
      ],
      "execution_count": 0,
      "outputs": []
    },
    {
      "cell_type": "markdown",
      "metadata": {
        "id": "OFdBCYCf3kle",
        "colab_type": "text"
      },
      "source": [
        "# Build our Model"
      ]
    },
    {
      "cell_type": "code",
      "metadata": {
        "id": "653DtCuBJXiF",
        "colab_type": "code",
        "colab": {}
      },
      "source": [
        "model = Sequential()\n",
        "model.add(Embedding(len(t.word_counts)+1, EMBED_SIZE, input_length=MAX_SEQUENCE_LENGTH))\n",
        "model.add(Conv1D(filters=FILTER1, kernel_size=KERNEL_SIZE, padding='same', activation='relu'))\n",
        "model.add(MaxPooling1D(pool_size=2))\n",
        "model.add(Flatten())\n",
        "model.add(Dense(250, activation='relu'))\n",
        "model.add(Dense(5, activation='softmax'))\n",
        "model.compile(loss='categorical_crossentropy', \n",
        "              optimizer=Adam(learning_rate=LEARNING_RATE), \n",
        "              metrics=['categorical_accuracy'])\n"
      ],
      "execution_count": 0,
      "outputs": []
    },
    {
      "cell_type": "code",
      "metadata": {
        "id": "iZitdxXPJXiI",
        "colab_type": "code",
        "outputId": "423c83a6-2be3-410a-8e78-908eb13f8657",
        "colab": {
          "base_uri": "https://localhost:8080/",
          "height": 390
        }
      },
      "source": [
        "print(model.summary())"
      ],
      "execution_count": 9,
      "outputs": [
        {
          "output_type": "stream",
          "text": [
            "Model: \"sequential\"\n",
            "_________________________________________________________________\n",
            "Layer (type)                 Output Shape              Param #   \n",
            "=================================================================\n",
            "embedding (Embedding)        (None, 100, 300)          17229000  \n",
            "_________________________________________________________________\n",
            "conv1d (Conv1D)              (None, 100, 32)           28832     \n",
            "_________________________________________________________________\n",
            "max_pooling1d (MaxPooling1D) (None, 50, 32)            0         \n",
            "_________________________________________________________________\n",
            "flatten (Flatten)            (None, 1600)              0         \n",
            "_________________________________________________________________\n",
            "dense (Dense)                (None, 250)               400250    \n",
            "_________________________________________________________________\n",
            "dense_1 (Dense)              (None, 5)                 1255      \n",
            "=================================================================\n",
            "Total params: 17,659,337\n",
            "Trainable params: 17,659,337\n",
            "Non-trainable params: 0\n",
            "_________________________________________________________________\n",
            "None\n"
          ],
          "name": "stdout"
        }
      ]
    },
    {
      "cell_type": "code",
      "metadata": {
        "scrolled": false,
        "id": "60eC_0fRJXiQ",
        "colab_type": "code",
        "outputId": "4318fdcb-f0f5-4340-b358-fe473c8d9958",
        "colab": {
          "base_uri": "https://localhost:8080/",
          "height": 1000
        }
      },
      "source": [
        "# reduce learning rate if we sense a plateau\n",
        "reduce_lr = ReduceLROnPlateau(monitor='val_loss', \n",
        "                              restore_best_weights=True)\n",
        "\n",
        "early_stop = EarlyStopping(monitor='val_loss', \n",
        "                           patience=PATIENCE, \n",
        "                           verbose=1, \n",
        "                           restore_best_weights=True)\n",
        "\n",
        "weights = compute_class_weight('balanced', np.arange(1, 6), rating)\n",
        "weights_dict = {i: weights[i] for i in np.arange(0, len(weights))}\n",
        "print(f'class weights: {weights}')\n",
        "print(f'class weights_dict: {weights_dict}')\n",
        "\n",
        "\n",
        "mw = ku.ModelWrapper(model, \n",
        "                     model_name = MODEL_NAME, \n",
        "                     architecture = ARCHITECTURE,\n",
        "                     feature_set_name = FEATURE_SET_NAME,\n",
        "                     label_column = LABEL_COLUMN, \n",
        "                     feature_column = REVIEW_COLUMN,\n",
        "                     data_file = DATA_FILE,\n",
        "                     sample_size_str = SAMPLE_SIZE, \n",
        "                     tokenizer=t,\n",
        "                     description=DESCRIPTION,\n",
        "                     batch_size = BATCH_SIZE,\n",
        "                     model_version = MODEL_VERSION,\n",
        "                     save_dir = DRIVE_DIR)\n",
        "\n",
        "mw.add(\"environment\", ENVIRONMENT)\n",
        "mw.add(\"patience\", PATIENCE)\n",
        "mw.add(\"plateau_patience\", PLATEAU_PATIENCE)\n",
        "mw.add(\"embed_size\", EMBED_SIZE)\n",
        "mw.add(\"filters\", FILTER1)\n",
        "mw.add(\"kernel_size\", KERNEL_SIZE)\n",
        "\n",
        "\n",
        "\n",
        "network_history = mw.fit(X_train, y_train,\n",
        "                      epochs=EPOCHS,\n",
        "                      verbose=1,\n",
        "                      validation_split=0.2,\n",
        "                      balance_class_weights = True,\n",
        "                      callbacks=[early_stop, reduce_lr])"
      ],
      "execution_count": 10,
      "outputs": [
        {
          "output_type": "stream",
          "text": [
            "INFO:util.keras_util:saved file basename: CNNB32-1x32-embedding_random-sampling_none-200k-review_body-v1\n",
            "INFO:util.keras_util:Creating drive/My Drive/Springboard/capstone/models/CNNB32-1x32-embedding_random-sampling_none-200k-review_body-v1/1\n",
            "INFO:util.keras_util:Number of training examples: 149653\n"
          ],
          "name": "stderr"
        },
        {
          "output_type": "stream",
          "text": [
            "class weights: [1.43769724 3.07691596 2.18277088 1.19627098 0.37238702]\n",
            "class weights_dict: {0: 1.4376972404351898, 1: 3.076915959907479, 2: 2.182770880052508, 3: 1.1962709832134293, 4: 0.372387022124348}\n"
          ],
          "name": "stdout"
        },
        {
          "output_type": "stream",
          "text": [
            "INFO:util.keras_util:Computed class weight dictionary: {0: 1.4389711538461538, 1: 3.073903666427031, 2: 2.1801005171534706, 3: 1.1976072343149808, 4: 0.3722942969090118}\n",
            "INFO:util.keras_util:Adding checkpoint callback...\n",
            "INFO:util.keras_util:model: <tensorflow.python.keras.engine.sequential.Sequential object at 0x7fa341bcc780>\n"
          ],
          "name": "stderr"
        },
        {
          "output_type": "stream",
          "text": [
            "Epoch 1/20\n",
            "936/936 [==============================] - ETA: 0s - loss: 1.3107 - categorical_accuracy: 0.4868\n",
            "Epoch 00001: val_loss improved from inf to 1.13249, saving model to drive/My Drive/Springboard/capstone/models/CNNB32-1x32-embedding_random-sampling_none-200k-review_body-v1/checkpoints\n",
            "WARNING:tensorflow:From /usr/local/lib/python3.6/dist-packages/tensorflow/python/ops/resource_variable_ops.py:1817: calling BaseResourceVariable.__init__ (from tensorflow.python.ops.resource_variable_ops) with constraint is deprecated and will be removed in a future version.\n",
            "Instructions for updating:\n",
            "If using Keras pass *_constraint arguments to layers.\n"
          ],
          "name": "stdout"
        },
        {
          "output_type": "stream",
          "text": [
            "WARNING:tensorflow:From /usr/local/lib/python3.6/dist-packages/tensorflow/python/ops/resource_variable_ops.py:1817: calling BaseResourceVariable.__init__ (from tensorflow.python.ops.resource_variable_ops) with constraint is deprecated and will be removed in a future version.\n",
            "Instructions for updating:\n",
            "If using Keras pass *_constraint arguments to layers.\n"
          ],
          "name": "stderr"
        },
        {
          "output_type": "stream",
          "text": [
            "INFO:tensorflow:Assets written to: drive/My Drive/Springboard/capstone/models/CNNB32-1x32-embedding_random-sampling_none-200k-review_body-v1/checkpoints/assets\n"
          ],
          "name": "stdout"
        },
        {
          "output_type": "stream",
          "text": [
            "INFO:tensorflow:Assets written to: drive/My Drive/Springboard/capstone/models/CNNB32-1x32-embedding_random-sampling_none-200k-review_body-v1/checkpoints/assets\n"
          ],
          "name": "stderr"
        },
        {
          "output_type": "stream",
          "text": [
            "936/936 [==============================] - 158s 169ms/step - loss: 1.3107 - categorical_accuracy: 0.4868 - val_loss: 1.1325 - val_categorical_accuracy: 0.5288 - lr: 0.0100\n",
            "Epoch 2/20\n",
            "936/936 [==============================] - ETA: 0s - loss: 1.1593 - categorical_accuracy: 0.5435\n",
            "Epoch 00002: val_loss improved from 1.13249 to 1.10682, saving model to drive/My Drive/Springboard/capstone/models/CNNB32-1x32-embedding_random-sampling_none-200k-review_body-v1/checkpoints\n",
            "INFO:tensorflow:Assets written to: drive/My Drive/Springboard/capstone/models/CNNB32-1x32-embedding_random-sampling_none-200k-review_body-v1/checkpoints/assets\n"
          ],
          "name": "stdout"
        },
        {
          "output_type": "stream",
          "text": [
            "INFO:tensorflow:Assets written to: drive/My Drive/Springboard/capstone/models/CNNB32-1x32-embedding_random-sampling_none-200k-review_body-v1/checkpoints/assets\n"
          ],
          "name": "stderr"
        },
        {
          "output_type": "stream",
          "text": [
            "\b\b\b\b\b\b\b\b\b\b\b\b\b\b\b\b\b\b\b\b\b\b\b\b\b\b\b\b\b\b\b\b\b\b\b\b\b\b\b\b\b\b\b\b\b\b\b\b\b\b\b\b\b\b\b\b\b\b\b\b\b\b\b\b\b\b\b\b\b\b\b\b\b\b\b\b\b\b\b\b\b\b\b\b\b\b\b\b\b\b\b\b\b\b\b\b\r936/936 [==============================] - 155s 165ms/step - loss: 1.1593 - categorical_accuracy: 0.5435 - val_loss: 1.1068 - val_categorical_accuracy: 0.5521 - lr: 0.0100\n",
            "Epoch 3/20\n",
            "936/936 [==============================] - ETA: 0s - loss: 1.0945 - categorical_accuracy: 0.5674\n",
            "Epoch 00003: val_loss improved from 1.10682 to 1.06819, saving model to drive/My Drive/Springboard/capstone/models/CNNB32-1x32-embedding_random-sampling_none-200k-review_body-v1/checkpoints\n",
            "INFO:tensorflow:Assets written to: drive/My Drive/Springboard/capstone/models/CNNB32-1x32-embedding_random-sampling_none-200k-review_body-v1/checkpoints/assets\n"
          ],
          "name": "stdout"
        },
        {
          "output_type": "stream",
          "text": [
            "INFO:tensorflow:Assets written to: drive/My Drive/Springboard/capstone/models/CNNB32-1x32-embedding_random-sampling_none-200k-review_body-v1/checkpoints/assets\n"
          ],
          "name": "stderr"
        },
        {
          "output_type": "stream",
          "text": [
            "936/936 [==============================] - 152s 162ms/step - loss: 1.0945 - categorical_accuracy: 0.5674 - val_loss: 1.0682 - val_categorical_accuracy: 0.5226 - lr: 0.0100\n",
            "Epoch 4/20\n",
            "936/936 [==============================] - ETA: 0s - loss: 1.0586 - categorical_accuracy: 0.5808\n",
            "Epoch 00004: val_loss improved from 1.06819 to 1.02997, saving model to drive/My Drive/Springboard/capstone/models/CNNB32-1x32-embedding_random-sampling_none-200k-review_body-v1/checkpoints\n",
            "INFO:tensorflow:Assets written to: drive/My Drive/Springboard/capstone/models/CNNB32-1x32-embedding_random-sampling_none-200k-review_body-v1/checkpoints/assets\n"
          ],
          "name": "stdout"
        },
        {
          "output_type": "stream",
          "text": [
            "INFO:tensorflow:Assets written to: drive/My Drive/Springboard/capstone/models/CNNB32-1x32-embedding_random-sampling_none-200k-review_body-v1/checkpoints/assets\n"
          ],
          "name": "stderr"
        },
        {
          "output_type": "stream",
          "text": [
            "\b\b\b\b\b\b\b\b\b\b\b\b\b\b\b\b\b\b\b\b\b\b\b\b\b\b\b\b\b\b\b\b\b\b\b\b\b\b\b\b\b\b\b\b\b\b\b\b\b\b\b\b\b\b\b\b\b\b\b\b\b\b\b\b\b\b\b\b\b\b\b\b\b\b\b\b\b\b\b\b\b\b\b\b\b\b\b\b\b\b\b\b\b\b\b\b\r936/936 [==============================] - 151s 161ms/step - loss: 1.0586 - categorical_accuracy: 0.5808 - val_loss: 1.0300 - val_categorical_accuracy: 0.5566 - lr: 0.0100\n",
            "Epoch 5/20\n",
            "936/936 [==============================] - ETA: 0s - loss: 1.0183 - categorical_accuracy: 0.5924\n",
            "Epoch 00005: val_loss did not improve from 1.02997\n",
            "936/936 [==============================] - 149s 159ms/step - loss: 1.0183 - categorical_accuracy: 0.5924 - val_loss: 1.0587 - val_categorical_accuracy: 0.5453 - lr: 0.0100\n",
            "Epoch 6/20\n",
            "936/936 [==============================] - ETA: 0s - loss: 0.9984 - categorical_accuracy: 0.5987\n",
            "Epoch 00006: val_loss did not improve from 1.02997\n",
            "936/936 [==============================] - 148s 159ms/step - loss: 0.9984 - categorical_accuracy: 0.5987 - val_loss: 1.1915 - val_categorical_accuracy: 0.4064 - lr: 0.0100\n",
            "Epoch 7/20\n",
            "936/936 [==============================] - ETA: 0s - loss: 0.9628 - categorical_accuracy: 0.6132\n",
            "Epoch 00007: val_loss did not improve from 1.02997\n",
            "936/936 [==============================] - 150s 161ms/step - loss: 0.9628 - categorical_accuracy: 0.6132 - val_loss: 1.0931 - val_categorical_accuracy: 0.5830 - lr: 0.0100\n",
            "Epoch 8/20\n",
            "936/936 [==============================] - ETA: 0s - loss: 0.9452 - categorical_accuracy: 0.6220Restoring model weights from the end of the best epoch.\n",
            "\n",
            "Epoch 00008: val_loss did not improve from 1.02997\n",
            "936/936 [==============================] - 148s 158ms/step - loss: 0.9452 - categorical_accuracy: 0.6220 - val_loss: 1.1090 - val_categorical_accuracy: 0.5803 - lr: 0.0100\n",
            "Epoch 00008: early stopping\n",
            "Total training time: 20.24 mins\n"
          ],
          "name": "stdout"
        }
      ]
    },
    {
      "cell_type": "code",
      "metadata": {
        "id": "PCrKBtvs-2nZ",
        "colab_type": "code",
        "colab": {
          "base_uri": "https://localhost:8080/",
          "height": 623
        },
        "outputId": "5814efb5-e47c-42bc-f897-11118ec293cc"
      },
      "source": [
        "scores = mw.evaluate(X_test, y_test)\n",
        "print(\"Test Accuracy: %.2f%%\" % (mw.test_scores[1]*100))\n",
        "print(\"Train Accuracy: %.2f%%\" % (mw.train_scores[1]*100))\n",
        "print(f'Overall Score: {ru.calculate_metric(mw.test_crd)}')\n",
        "\n",
        "mw.save(append_report=True)\n"
      ],
      "execution_count": 11,
      "outputs": [
        {
          "output_type": "stream",
          "text": [
            "Number of test: 49885\n",
            "Running model.evaluate on test set...\n",
            "1559/1559 [==============================] - 5s 3ms/step - loss: 1.0362 - categorical_accuracy: 0.5544\n",
            "Running model.predict on test set...\n",
            "Unencode test set predictions...\n",
            "Generating test set confusion matrix...\n",
            "Calculating test set ROC AUC...\n",
            "(49885, 5)\n",
            "Getting test set classification report...\n",
            "Running model.evaluate on training set...\n",
            "4677/4677 [==============================] - 14s 3ms/step - loss: 0.8714 - categorical_accuracy: 0.6201\n",
            "Running model.predict on training set...\n",
            "Unencode training set predictions...\n",
            "Generating training set confusion matrix...\n",
            "Calculating training set ROC AUC...\n",
            "(149653, 5)\n",
            "Getting training set classification report...\n"
          ],
          "name": "stdout"
        },
        {
          "output_type": "stream",
          "text": [
            "INFO:util.report_util:calculating metric from dictionary\n",
            "INFO:util.report_util:got all values to calculate\n",
            "INFO:util.keras_util:saved file basename: CNNB32-1x32-embedding_random-sampling_none-200k-review_body-v1\n"
          ],
          "name": "stderr"
        },
        {
          "output_type": "stream",
          "text": [
            "Test Accuracy: 55.44%\n",
            "Train Accuracy: 62.01%\n",
            "Overall Score: 0.4325665774817775\n",
            "Saving to report file: drive/My Drive/Springboard/capstone/reports/dl_prototype-report.csv\n",
            "Loading to append to: drive/My Drive/Springboard/capstone/reports/dl_prototype-report.csv\n",
            "Saving report file...\n",
            "Saving json config file: drive/My Drive/Springboard/capstone/models/CNNB32-1x32-embedding_random-sampling_none-200k-review_body-v1/CNNB32-1x32-embedding_random-sampling_none-200k-review_body-v1-model.json\n",
            "Saving weights file: drive/My Drive/Springboard/capstone/models/CNNB32-1x32-embedding_random-sampling_none-200k-review_body-v1/CNNB32-1x32-embedding_random-sampling_none-200k-review_body-v1-weights.h5\n",
            "Saving model file: drive/My Drive/Springboard/capstone/models/CNNB32-1x32-embedding_random-sampling_none-200k-review_body-v1/CNNB32-1x32-embedding_random-sampling_none-200k-review_body-v1-model.h5\n",
            "Saving SavedModel to: drive/My Drive/Springboard/capstone/models/CNNB32-1x32-embedding_random-sampling_none-200k-review_body-v1/1\n",
            "INFO:tensorflow:Assets written to: drive/My Drive/Springboard/capstone/models/CNNB32-1x32-embedding_random-sampling_none-200k-review_body-v1/1/assets\n"
          ],
          "name": "stdout"
        },
        {
          "output_type": "stream",
          "text": [
            "INFO:tensorflow:Assets written to: drive/My Drive/Springboard/capstone/models/CNNB32-1x32-embedding_random-sampling_none-200k-review_body-v1/1/assets\n",
            "INFO:util.keras_util:Saving tokenizer file: drive/My Drive/Springboard/capstone/models/CNNB32-1x32-embedding_random-sampling_none-200k-review_body-v1/CNNB32-1x32-embedding_random-sampling_none-200k-review_body-v1-tokenizer.pkl\n"
          ],
          "name": "stderr"
        }
      ]
    },
    {
      "cell_type": "code",
      "metadata": {
        "id": "2VHBrsPjJXiS",
        "colab_type": "code",
        "outputId": "8ac46816-bcea-4ca7-db27-e99d3be3f3ee",
        "colab": {
          "base_uri": "https://localhost:8080/",
          "height": 1000
        }
      },
      "source": [
        "\n",
        "\n",
        "\n",
        "\n",
        "pu.plot_network_history(mw.network_history, \"categorical_accuracy\", \"val_categorical_accuracy\")\n",
        "plt.show()\n",
        "\n",
        "print(\"\\nConfusion Matrix\")\n",
        "print(mw.test_confusion_matrix)\n",
        "\n",
        "print(\"\\nClassification Report\")\n",
        "print(mw.test_classification_report)\n",
        "\n",
        "fig = plt.figure(figsize=(5,5))\n",
        "pu.plot_roc_auc(mw.model_name, mw.test_roc_auc, mw.test_fpr, mw.test_tpr)\n",
        "\n"
      ],
      "execution_count": 12,
      "outputs": [
        {
          "output_type": "display_data",
          "data": {
            "image/png": "[encoded data removed]",
            "text/plain": [
              "<Figure size 720x360 with 2 Axes>"
            ]
          },
          "metadata": {
            "tags": []
          }
        },
        {
          "output_type": "stream",
          "text": [
            "\n",
            "Confusion Matrix\n",
            "[[ 2631  3174   964   114    75]\n",
            " [  338  1573  1128   141    53]\n",
            " [  114  1090  2449   591   310]\n",
            " [   24   510  2826  2187  2821]\n",
            " [   68   550  3014  4324 18816]]\n",
            "\n",
            "Classification Report\n",
            "              precision    recall  f1-score   support\n",
            "\n",
            "           1       0.83      0.38      0.52      6958\n",
            "           2       0.23      0.49      0.31      3233\n",
            "           3       0.24      0.54      0.33      4554\n",
            "           4       0.30      0.26      0.28      8368\n",
            "           5       0.85      0.70      0.77     26772\n",
            "\n",
            "    accuracy                           0.55     49885\n",
            "   macro avg       0.49      0.47      0.44     49885\n",
            "weighted avg       0.66      0.55      0.58     49885\n",
            "\n"
          ],
          "name": "stdout"
        },
        {
          "output_type": "stream",
          "text": [
            "drive/My Drive/Springboard/capstone/util/plot_util.py:267: MatplotlibDeprecationWarning: The 'withdash' parameter of text() is deprecated since Matplotlib 3.1 and will be removed in 3.3.  If any parameter follows 'withdash', they should be pass as keyword, not positionally.\n",
            "  withdash=True)\n",
            "drive/My Drive/Springboard/capstone/util/plot_util.py:267: MatplotlibDeprecationWarning: \n",
            "The TextWithDash class was deprecated in Matplotlib 3.1 and will be removed in 3.3. Use Annotation instead.\n",
            "  withdash=True)\n",
            "drive/My Drive/Springboard/capstone/util/plot_util.py:271: MatplotlibDeprecationWarning: The 'withdash' parameter of text() is deprecated since Matplotlib 3.1 and will be removed in 3.3.  If any parameter follows 'withdash', they should be pass as keyword, not positionally.\n",
            "  withdash=True)\n",
            "drive/My Drive/Springboard/capstone/util/plot_util.py:271: MatplotlibDeprecationWarning: \n",
            "The TextWithDash class was deprecated in Matplotlib 3.1 and will be removed in 3.3. Use Annotation instead.\n",
            "  withdash=True)\n",
            "drive/My Drive/Springboard/capstone/util/plot_util.py:275: MatplotlibDeprecationWarning: The 'withdash' parameter of text() is deprecated since Matplotlib 3.1 and will be removed in 3.3.  If any parameter follows 'withdash', they should be pass as keyword, not positionally.\n",
            "  withdash=True)\n",
            "drive/My Drive/Springboard/capstone/util/plot_util.py:275: MatplotlibDeprecationWarning: \n",
            "The TextWithDash class was deprecated in Matplotlib 3.1 and will be removed in 3.3. Use Annotation instead.\n",
            "  withdash=True)\n"
          ],
          "name": "stderr"
        },
        {
          "output_type": "display_data",
          "data": {
            "image/png": "[encoded data removed]",
            "text/plain": [
              "<Figure size 360x360 with 1 Axes>"
            ]
          },
          "metadata": {
            "tags": []
          }
        }
      ]
    },
    {
      "cell_type": "code",
      "metadata": {
        "id": "uB28-_Bdo7Mj",
        "colab_type": "code",
        "colab": {}
      },
      "source": [
        ""
      ],
      "execution_count": 0,
      "outputs": []
    },
    {
      "cell_type": "markdown",
      "metadata": {
        "id": "kQzvzEoZAjRt",
        "colab_type": "text"
      },
      "source": [
        "### Test that we can load the model back"
      ]
    },
    {
      "cell_type": "code",
      "metadata": {
        "id": "S0kvbmASiMmF",
        "colab_type": "code",
        "outputId": "1873f502-aa7e-4ac4-9c96-5a0f84491a23",
        "colab": {
          "base_uri": "https://localhost:8080/",
          "height": 52
        }
      },
      "source": [
        "from tensorflow.keras.models import load_model\n",
        "\n",
        "model_loaded = load_model(mw.model_file)\n",
        "scores = model_loaded.evaluate(X_test, y_test, verbose=1)\n",
        "print(\"Accuracy: %.2f%%\" % (scores[1]*100))\n",
        "\n",
        "# this takes too long for real models\n",
        "if DEBUG == True:\n",
        "  y_predict = model_loaded.predict(X_test)\n",
        "  y_predict_unencoded = ku.unencode(y_predict)\n",
        "  y_test_unencoded = ku.unencode(y_test)\n",
        "\n",
        "  # classification report\n",
        "  print(classification_report(y_test_unencoded, y_predict_unencoded))\n",
        "\n",
        "  # confusion matrix\n",
        "  print(confusion_matrix(y_test_unencoded, y_predict_unencoded))\n"
      ],
      "execution_count": 13,
      "outputs": [
        {
          "output_type": "stream",
          "text": [
            "1559/1559 [==============================] - 5s 3ms/step - loss: 1.0362 - categorical_accuracy: 0.5544\n",
            "Accuracy: 55.44%\n"
          ],
          "name": "stdout"
        }
      ]
    },
    {
      "cell_type": "code",
      "metadata": {
        "id": "GjVjezXPJXin",
        "colab_type": "code",
        "outputId": "70a43894-604f-4764-9ad8-7053e369a32d",
        "colab": {
          "base_uri": "https://localhost:8080/",
          "height": 87
        }
      },
      "source": [
        "end_time = datetime.now()\n",
        "print(f'Start Time: {start_time}\\n' \\\n",
        "      f'End Time: {end_time}\\n' \\\n",
        "      f'Total Duration: {round((end_time - start_time).total_seconds() / 60, 2)} mins')\n",
        "print(datetime.now())"
      ],
      "execution_count": 14,
      "outputs": [
        {
          "output_type": "stream",
          "text": [
            "Start Time: 2020-05-15 06:43:21.061367\n",
            "End Time: 2020-05-15 07:05:18.504905\n",
            "Total Duration: 21.96 mins\n",
            "2020-05-15 07:05:18.505251\n"
          ],
          "name": "stdout"
        }
      ]
    },
    {
      "cell_type": "code",
      "metadata": {
        "id": "wSV9DYUgNHwo",
        "colab_type": "code",
        "colab": {}
      },
      "source": [
        ""
      ],
      "execution_count": 0,
      "outputs": []
    }
  ]
}