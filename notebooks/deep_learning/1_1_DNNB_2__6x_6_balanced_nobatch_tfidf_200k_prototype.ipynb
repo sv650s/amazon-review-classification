{
  "nbformat": 4,
  "nbformat_minor": 0,
  "metadata": {
    "hide_input": false,
    "kernelspec": {
      "name": "python3",
      "display_name": "Python 3"
    },
    "language_info": {
      "codemirror_mode": {
        "name": "ipython",
        "version": 3
      },
      "file_extension": ".py",
      "mimetype": "text/x-python",
      "name": "python",
      "nbconvert_exporter": "python",
      "pygments_lexer": "ipython3",
      "version": "3.7.3"
    },
    "colab": {
      "name": "1.1-DNNB_2_.6x.6-balanced-nobatch-tfidf-200k-prototype.ipynb",
      "provenance": [],
      "collapsed_sections": [],
      "machine_shape": "hm",
      "include_colab_link": true
    },
    "accelerator": "GPU"
  },
  "cells": [
    {
      "cell_type": "markdown",
      "metadata": {
        "id": "view-in-github",
        "colab_type": "text"
      },
      "source": [
        "<a href=\"https://colab.research.google.com/github/sv650s/amazon-review-classification/blob/master/notebooks/deep_learning/1_1_DNNB_2__6x_6_balanced_nobatch_tfidf_200k_prototype.ipynb\" target=\"_parent\"><img src=\"https://colab.research.google.com/assets/colab-badge.svg\" alt=\"Open In Colab\"/></a>"
      ]
    },
    {
      "cell_type": "markdown",
      "metadata": {
        "id": "lbCz80nowIiZ",
        "colab_type": "text"
      },
      "source": [
        "# 2 Layer DNN TFIDF Prototype - balanced\n",
        "\n",
        "Trying out a 2 layer network using word2vec average embedding. Embedding was creating with word_context == 5\n",
        "Recommendation that I read for NN is the number of neurons should not exceed 2/3 of the number of features which would be around 340 for 512 features\n",
        "\n",
        "\n",
        "\n",
        "Number of hidden layers guidelines:\n",
        "\n",
        "* none - Only capable of representing linear separable functions or decisions.\n",
        "* 1\t- Can approximate any function that contains a continuous mapping from one finite space to another.\n",
        "* 2\t- Can represent an arbitrary decision boundary to arbitrary accuracy with rational activation functions and can approximate any smooth mapping to any accuracy.\n",
        "* 2+ - Additional layers can learn complex representations (sort of automatic feature engineering) for layer layers.\n",
        "\n",
        "\n",
        "Hidden units guidelines:\n",
        "\n",
        "* The number of hidden neurons should be between the size of the input layer and the size of the output layer.\n",
        "* The number of hidden neurons should be 2/3 the size of the input layer, plus the size of the output layer.\n",
        "* The number of hidden neurons should be less than twice the size of the input layer.\n",
        "\n",
        "https://www.heatonresearch.com/2017/06/01/hidden-layers.html\n",
        "\n",
        "\n",
        "Since our decision boundaries do not look linear, I have chosen to use 2 hidden layers. For each layer, there is the same number of hiddent units (10k) as input features.\n",
        "\n",
        "Number of samples: 50k\n",
        "\n"
      ]
    },
    {
      "cell_type": "code",
      "metadata": {
        "id": "Dh6ie2wHy64N",
        "colab_type": "code",
        "outputId": "2cc6c98c-09df-4079-b4ba-caed6c21bbea",
        "colab": {
          "base_uri": "https://localhost:8080/",
          "height": 68
        }
      },
      "source": [
        "from google.colab import drive\n",
        "drive.mount('/content/drive')\n",
        "\n",
        "import sys\n",
        "DRIVE_DIR = \"drive/My Drive/Springboard/capstone\"\n",
        "sys.path.append(DRIVE_DIR)\n",
        "\n",
        "\n",
        "%tensorflow_version 2.x\n",
        "\n",
        "\n",
        "import tensorflow as tf\n",
        "# checl to make sure we are using GPU here\n",
        "tf.test.gpu_device_name()"
      ],
      "execution_count": 1,
      "outputs": [
        {
          "output_type": "stream",
          "text": [
            "Drive already mounted at /content/drive; to attempt to forcibly remount, call drive.mount(\"/content/drive\", force_remount=True).\n",
            "TensorFlow 2.x selected.\n"
          ],
          "name": "stdout"
        },
        {
          "output_type": "execute_result",
          "data": {
            "text/plain": [
              "'/device:GPU:0'"
            ]
          },
          "metadata": {
            "tags": []
          },
          "execution_count": 1
        }
      ]
    },
    {
      "cell_type": "code",
      "metadata": {
        "id": "wCgiR6gSwIic",
        "colab_type": "code",
        "outputId": "8abd94cf-2285-4538-8614-ebf1a99421cd",
        "colab": {
          "base_uri": "https://localhost:8080/",
          "height": 34
        }
      },
      "source": [
        "import tensorflow as tf\n",
        "from tensorflow.keras.models import Sequential\n",
        "from tensorflow.keras.layers import Dense, Activation, Dropout\n",
        "from tensorflow.keras.layers import BatchNormalization\n",
        "from tensorflow.keras.callbacks import EarlyStopping, ReduceLROnPlateau\n",
        "from tensorflow.keras.models import load_model\n",
        "from tensorflow.keras.optimizers import SGD\n",
        "import tensorflow.keras as K\n",
        "\n",
        "from sklearn.model_selection import train_test_split\n",
        "from sklearn.preprocessing import OneHotEncoder\n",
        "from sklearn.metrics import confusion_matrix, classification_report\n",
        "import pandas as pd\n",
        "import importlib\n",
        "from IPython.display import SVG\n",
        "from keras.utils.vis_utils import model_to_dot\n",
        "from util import dict_util as du\n",
        "from util import file_util as fu\n",
        "from util import plot_util as pu\n",
        "from util import keras_util as ku\n",
        "import util.report_util as ru\n",
        "\n",
        "\n",
        "import pickle\n",
        "import json\n",
        "from datetime import datetime\n",
        "import os\n",
        "\n",
        "import matplotlib.pyplot as plt\n",
        "import seaborn as sns\n",
        "import logging\n",
        "\n",
        "logging.basicConfig(level=logging.INFO)\n",
        "\n",
        "%matplotlib inline\n",
        "sns.set()"
      ],
      "execution_count": 2,
      "outputs": [
        {
          "output_type": "stream",
          "text": [
            "Using TensorFlow backend.\n"
          ],
          "name": "stderr"
        }
      ]
    },
    {
      "cell_type": "code",
      "metadata": {
        "id": "cu2OWgeVwIig",
        "colab_type": "code",
        "colab": {}
      },
      "source": [
        "DATE_FORMAT = '%Y-%m-%d'\n",
        "TIME_FORMAT = '%Y-%m-%d %H:%M:%S'\n",
        "DATA_DIR = f\"{DRIVE_DIR}/data\"\n",
        "LABEL_COLUMN = \"star_rating\"\n",
        "FEATURE_COLUMN = \"review_body\"\n",
        "\n",
        "\n",
        "RSTATE = 1\n",
        "EPOCH=200\n",
        "BATCH_SIZE = 128\n",
        "# there is no embeddings used for this model\n",
        "EMBED_SIZE = 0\n",
        "PATIENCE=8\n",
        "\n",
        "DEBUG = False\n",
        "\n",
        "MODEL_NAME = \"DNN\"\n",
        "ARCHITECTURE = \"2_.6x_.6x\"\n",
        "FEATURE_SET_NAME = \"tfidf\"\n",
        "if DEBUG:\n",
        "  DATA_FILE = f'{DATA_DIR}/review_body-word2vec-df_none-ngram_none-89-100-nolda.csv'\n",
        "else:\n",
        "  # DATA_FILE = f'{DATA_DIR}/review_body-word2vec-df_none-ngram_none-47523-1000-nolda.csv'\n",
        "  DATA_FILE = f'{DATA_DIR}/review_body-tfidf-df_none-ngram13-199134-4000-nolda.csv'\n",
        "\n",
        "directory, INBASENAME = fu.get_dir_basename(DATA_FILE)\n"
      ],
      "execution_count": 0,
      "outputs": []
    },
    {
      "cell_type": "code",
      "metadata": {
        "hide_input": false,
        "id": "EsSlqc4DwIij",
        "colab_type": "code",
        "colab": {}
      },
      "source": [
        "df = pd.read_csv(f\"{DATA_FILE}\")\n",
        "rating = df[LABEL_COLUMN]\n",
        "df = df.drop(columns=[\"helpful_votes\", \"total_votes\", \"helpful_product\", \"star_rating\"])"
      ],
      "execution_count": 0,
      "outputs": []
    },
    {
      "cell_type": "code",
      "metadata": {
        "id": "bLSHSo2mwIil",
        "colab_type": "code",
        "outputId": "c63c6ef7-5fac-4e84-ba76-7401cc84c555",
        "colab": {
          "base_uri": "https://localhost:8080/",
          "height": 287
        }
      },
      "source": [
        "df.head()"
      ],
      "execution_count": 5,
      "outputs": [
        {
          "output_type": "execute_result",
          "data": {
            "text/html": [
              "<div>\n",
              "<style scoped>\n",
              "    .dataframe tbody tr th:only-of-type {\n",
              "        vertical-align: middle;\n",
              "    }\n",
              "\n",
              "    .dataframe tbody tr th {\n",
              "        vertical-align: top;\n",
              "    }\n",
              "\n",
              "    .dataframe thead th {\n",
              "        text-align: right;\n",
              "    }\n",
              "</style>\n",
              "<table border=\"1\" class=\"dataframe\">\n",
              "  <thead>\n",
              "    <tr style=\"text-align: right;\">\n",
              "      <th></th>\n",
              "      <th>ability</th>\n",
              "      <th>able</th>\n",
              "      <th>able charge</th>\n",
              "      <th>able get</th>\n",
              "      <th>able use</th>\n",
              "      <th>absolute</th>\n",
              "      <th>absolutely</th>\n",
              "      <th>absolutely love</th>\n",
              "      <th>absolutely love case</th>\n",
              "      <th>absolutely no</th>\n",
              "      <th>abuse</th>\n",
              "      <th>ac</th>\n",
              "      <th>accept</th>\n",
              "      <th>acceptable</th>\n",
              "      <th>access</th>\n",
              "      <th>accessible</th>\n",
              "      <th>accessory</th>\n",
              "      <th>accident</th>\n",
              "      <th>accidentally</th>\n",
              "      <th>according</th>\n",
              "      <th>account</th>\n",
              "      <th>accuracy</th>\n",
              "      <th>accurate</th>\n",
              "      <th>across</th>\n",
              "      <th>act</th>\n",
              "      <th>action</th>\n",
              "      <th>activate</th>\n",
              "      <th>activated</th>\n",
              "      <th>active</th>\n",
              "      <th>activity</th>\n",
              "      <th>actual</th>\n",
              "      <th>actually</th>\n",
              "      <th>actually work</th>\n",
              "      <th>ad</th>\n",
              "      <th>adapter</th>\n",
              "      <th>adaptor</th>\n",
              "      <th>add</th>\n",
              "      <th>add bulk</th>\n",
              "      <th>add much</th>\n",
              "      <th>added</th>\n",
              "      <th>...</th>\n",
              "      <th>would probably</th>\n",
              "      <th>would purchase</th>\n",
              "      <th>would rather</th>\n",
              "      <th>would recommend</th>\n",
              "      <th>would recommend anyone</th>\n",
              "      <th>would recommend case</th>\n",
              "      <th>would recommend product</th>\n",
              "      <th>would say</th>\n",
              "      <th>would still</th>\n",
              "      <th>would suggest</th>\n",
              "      <th>would take</th>\n",
              "      <th>would think</th>\n",
              "      <th>would work</th>\n",
              "      <th>wouldnt</th>\n",
              "      <th>wow</th>\n",
              "      <th>wrap</th>\n",
              "      <th>wrap around</th>\n",
              "      <th>wrist</th>\n",
              "      <th>write</th>\n",
              "      <th>write review</th>\n",
              "      <th>writing</th>\n",
              "      <th>written</th>\n",
              "      <th>wrong</th>\n",
              "      <th>wrote</th>\n",
              "      <th>xm</th>\n",
              "      <th>yeah</th>\n",
              "      <th>year</th>\n",
              "      <th>year ago</th>\n",
              "      <th>year old</th>\n",
              "      <th>year still</th>\n",
              "      <th>yellow</th>\n",
              "      <th>yes</th>\n",
              "      <th>yesterday</th>\n",
              "      <th>yet</th>\n",
              "      <th>youtube</th>\n",
              "      <th>youtube video</th>\n",
              "      <th>yr</th>\n",
              "      <th>zagg</th>\n",
              "      <th>zero</th>\n",
              "      <th>zune</th>\n",
              "    </tr>\n",
              "  </thead>\n",
              "  <tbody>\n",
              "    <tr>\n",
              "      <th>0</th>\n",
              "      <td>0.0</td>\n",
              "      <td>0.00</td>\n",
              "      <td>0.0</td>\n",
              "      <td>0.0</td>\n",
              "      <td>0.0</td>\n",
              "      <td>0.0</td>\n",
              "      <td>0.0</td>\n",
              "      <td>0.0</td>\n",
              "      <td>0.0</td>\n",
              "      <td>0.0</td>\n",
              "      <td>0.0</td>\n",
              "      <td>0.0</td>\n",
              "      <td>0.0</td>\n",
              "      <td>0.0</td>\n",
              "      <td>0.0</td>\n",
              "      <td>0.0</td>\n",
              "      <td>0.0</td>\n",
              "      <td>0.0</td>\n",
              "      <td>0.0</td>\n",
              "      <td>0.0</td>\n",
              "      <td>0.0</td>\n",
              "      <td>0.0</td>\n",
              "      <td>0.0</td>\n",
              "      <td>0.0</td>\n",
              "      <td>0.0</td>\n",
              "      <td>0.0</td>\n",
              "      <td>0.0</td>\n",
              "      <td>0.0</td>\n",
              "      <td>0.0</td>\n",
              "      <td>0.0</td>\n",
              "      <td>0.0</td>\n",
              "      <td>0.0</td>\n",
              "      <td>0.0</td>\n",
              "      <td>0.0</td>\n",
              "      <td>0.0</td>\n",
              "      <td>0.0</td>\n",
              "      <td>0.0</td>\n",
              "      <td>0.0</td>\n",
              "      <td>0.0</td>\n",
              "      <td>0.0</td>\n",
              "      <td>...</td>\n",
              "      <td>0.0</td>\n",
              "      <td>0.0</td>\n",
              "      <td>0.0</td>\n",
              "      <td>0.0</td>\n",
              "      <td>0.0</td>\n",
              "      <td>0.0</td>\n",
              "      <td>0.0</td>\n",
              "      <td>0.0</td>\n",
              "      <td>0.0</td>\n",
              "      <td>0.0</td>\n",
              "      <td>0.0</td>\n",
              "      <td>0.0</td>\n",
              "      <td>0.0</td>\n",
              "      <td>0.0</td>\n",
              "      <td>0.0</td>\n",
              "      <td>0.0</td>\n",
              "      <td>0.0</td>\n",
              "      <td>0.0</td>\n",
              "      <td>0.0</td>\n",
              "      <td>0.0</td>\n",
              "      <td>0.0</td>\n",
              "      <td>0.0</td>\n",
              "      <td>0.0</td>\n",
              "      <td>0.0</td>\n",
              "      <td>0.0</td>\n",
              "      <td>0.0</td>\n",
              "      <td>0.0</td>\n",
              "      <td>0.0</td>\n",
              "      <td>0.0</td>\n",
              "      <td>0.0</td>\n",
              "      <td>0.0</td>\n",
              "      <td>0.0</td>\n",
              "      <td>0.0</td>\n",
              "      <td>0.0</td>\n",
              "      <td>0.0</td>\n",
              "      <td>0.0</td>\n",
              "      <td>0.0</td>\n",
              "      <td>0.0</td>\n",
              "      <td>0.0</td>\n",
              "      <td>0.0</td>\n",
              "    </tr>\n",
              "    <tr>\n",
              "      <th>1</th>\n",
              "      <td>0.0</td>\n",
              "      <td>0.00</td>\n",
              "      <td>0.0</td>\n",
              "      <td>0.0</td>\n",
              "      <td>0.0</td>\n",
              "      <td>0.0</td>\n",
              "      <td>0.0</td>\n",
              "      <td>0.0</td>\n",
              "      <td>0.0</td>\n",
              "      <td>0.0</td>\n",
              "      <td>0.0</td>\n",
              "      <td>0.0</td>\n",
              "      <td>0.0</td>\n",
              "      <td>0.0</td>\n",
              "      <td>0.0</td>\n",
              "      <td>0.0</td>\n",
              "      <td>0.0</td>\n",
              "      <td>0.0</td>\n",
              "      <td>0.0</td>\n",
              "      <td>0.0</td>\n",
              "      <td>0.0</td>\n",
              "      <td>0.0</td>\n",
              "      <td>0.0</td>\n",
              "      <td>0.0</td>\n",
              "      <td>0.0</td>\n",
              "      <td>0.0</td>\n",
              "      <td>0.0</td>\n",
              "      <td>0.0</td>\n",
              "      <td>0.0</td>\n",
              "      <td>0.0</td>\n",
              "      <td>0.0</td>\n",
              "      <td>0.0</td>\n",
              "      <td>0.0</td>\n",
              "      <td>0.0</td>\n",
              "      <td>0.0</td>\n",
              "      <td>0.0</td>\n",
              "      <td>0.0</td>\n",
              "      <td>0.0</td>\n",
              "      <td>0.0</td>\n",
              "      <td>0.0</td>\n",
              "      <td>...</td>\n",
              "      <td>0.0</td>\n",
              "      <td>0.0</td>\n",
              "      <td>0.0</td>\n",
              "      <td>0.0</td>\n",
              "      <td>0.0</td>\n",
              "      <td>0.0</td>\n",
              "      <td>0.0</td>\n",
              "      <td>0.0</td>\n",
              "      <td>0.0</td>\n",
              "      <td>0.0</td>\n",
              "      <td>0.0</td>\n",
              "      <td>0.0</td>\n",
              "      <td>0.0</td>\n",
              "      <td>0.0</td>\n",
              "      <td>0.0</td>\n",
              "      <td>0.0</td>\n",
              "      <td>0.0</td>\n",
              "      <td>0.0</td>\n",
              "      <td>0.0</td>\n",
              "      <td>0.0</td>\n",
              "      <td>0.0</td>\n",
              "      <td>0.0</td>\n",
              "      <td>0.0</td>\n",
              "      <td>0.0</td>\n",
              "      <td>0.0</td>\n",
              "      <td>0.0</td>\n",
              "      <td>0.0</td>\n",
              "      <td>0.0</td>\n",
              "      <td>0.0</td>\n",
              "      <td>0.0</td>\n",
              "      <td>0.0</td>\n",
              "      <td>0.0</td>\n",
              "      <td>0.0</td>\n",
              "      <td>0.0</td>\n",
              "      <td>0.0</td>\n",
              "      <td>0.0</td>\n",
              "      <td>0.0</td>\n",
              "      <td>0.0</td>\n",
              "      <td>0.0</td>\n",
              "      <td>0.0</td>\n",
              "    </tr>\n",
              "    <tr>\n",
              "      <th>2</th>\n",
              "      <td>0.0</td>\n",
              "      <td>0.00</td>\n",
              "      <td>0.0</td>\n",
              "      <td>0.0</td>\n",
              "      <td>0.0</td>\n",
              "      <td>0.0</td>\n",
              "      <td>0.0</td>\n",
              "      <td>0.0</td>\n",
              "      <td>0.0</td>\n",
              "      <td>0.0</td>\n",
              "      <td>0.0</td>\n",
              "      <td>0.0</td>\n",
              "      <td>0.0</td>\n",
              "      <td>0.0</td>\n",
              "      <td>0.0</td>\n",
              "      <td>0.0</td>\n",
              "      <td>0.0</td>\n",
              "      <td>0.0</td>\n",
              "      <td>0.0</td>\n",
              "      <td>0.0</td>\n",
              "      <td>0.0</td>\n",
              "      <td>0.0</td>\n",
              "      <td>0.0</td>\n",
              "      <td>0.0</td>\n",
              "      <td>0.0</td>\n",
              "      <td>0.0</td>\n",
              "      <td>0.0</td>\n",
              "      <td>0.0</td>\n",
              "      <td>0.0</td>\n",
              "      <td>0.0</td>\n",
              "      <td>0.0</td>\n",
              "      <td>0.0</td>\n",
              "      <td>0.0</td>\n",
              "      <td>0.0</td>\n",
              "      <td>0.0</td>\n",
              "      <td>0.0</td>\n",
              "      <td>0.0</td>\n",
              "      <td>0.0</td>\n",
              "      <td>0.0</td>\n",
              "      <td>0.0</td>\n",
              "      <td>...</td>\n",
              "      <td>0.0</td>\n",
              "      <td>0.0</td>\n",
              "      <td>0.0</td>\n",
              "      <td>0.0</td>\n",
              "      <td>0.0</td>\n",
              "      <td>0.0</td>\n",
              "      <td>0.0</td>\n",
              "      <td>0.0</td>\n",
              "      <td>0.0</td>\n",
              "      <td>0.0</td>\n",
              "      <td>0.0</td>\n",
              "      <td>0.0</td>\n",
              "      <td>0.0</td>\n",
              "      <td>0.0</td>\n",
              "      <td>0.0</td>\n",
              "      <td>0.0</td>\n",
              "      <td>0.0</td>\n",
              "      <td>0.0</td>\n",
              "      <td>0.0</td>\n",
              "      <td>0.0</td>\n",
              "      <td>0.0</td>\n",
              "      <td>0.0</td>\n",
              "      <td>0.0</td>\n",
              "      <td>0.0</td>\n",
              "      <td>0.0</td>\n",
              "      <td>0.0</td>\n",
              "      <td>0.0</td>\n",
              "      <td>0.0</td>\n",
              "      <td>0.0</td>\n",
              "      <td>0.0</td>\n",
              "      <td>0.0</td>\n",
              "      <td>0.0</td>\n",
              "      <td>0.0</td>\n",
              "      <td>0.0</td>\n",
              "      <td>0.0</td>\n",
              "      <td>0.0</td>\n",
              "      <td>0.0</td>\n",
              "      <td>0.0</td>\n",
              "      <td>0.0</td>\n",
              "      <td>0.0</td>\n",
              "    </tr>\n",
              "    <tr>\n",
              "      <th>3</th>\n",
              "      <td>0.0</td>\n",
              "      <td>0.22</td>\n",
              "      <td>0.0</td>\n",
              "      <td>0.0</td>\n",
              "      <td>0.0</td>\n",
              "      <td>0.0</td>\n",
              "      <td>0.0</td>\n",
              "      <td>0.0</td>\n",
              "      <td>0.0</td>\n",
              "      <td>0.0</td>\n",
              "      <td>0.0</td>\n",
              "      <td>0.0</td>\n",
              "      <td>0.0</td>\n",
              "      <td>0.0</td>\n",
              "      <td>0.0</td>\n",
              "      <td>0.0</td>\n",
              "      <td>0.0</td>\n",
              "      <td>0.0</td>\n",
              "      <td>0.0</td>\n",
              "      <td>0.0</td>\n",
              "      <td>0.0</td>\n",
              "      <td>0.0</td>\n",
              "      <td>0.0</td>\n",
              "      <td>0.0</td>\n",
              "      <td>0.0</td>\n",
              "      <td>0.0</td>\n",
              "      <td>0.0</td>\n",
              "      <td>0.0</td>\n",
              "      <td>0.0</td>\n",
              "      <td>0.0</td>\n",
              "      <td>0.0</td>\n",
              "      <td>0.0</td>\n",
              "      <td>0.0</td>\n",
              "      <td>0.0</td>\n",
              "      <td>0.0</td>\n",
              "      <td>0.0</td>\n",
              "      <td>0.0</td>\n",
              "      <td>0.0</td>\n",
              "      <td>0.0</td>\n",
              "      <td>0.0</td>\n",
              "      <td>...</td>\n",
              "      <td>0.0</td>\n",
              "      <td>0.0</td>\n",
              "      <td>0.0</td>\n",
              "      <td>0.0</td>\n",
              "      <td>0.0</td>\n",
              "      <td>0.0</td>\n",
              "      <td>0.0</td>\n",
              "      <td>0.0</td>\n",
              "      <td>0.0</td>\n",
              "      <td>0.0</td>\n",
              "      <td>0.0</td>\n",
              "      <td>0.0</td>\n",
              "      <td>0.0</td>\n",
              "      <td>0.0</td>\n",
              "      <td>0.0</td>\n",
              "      <td>0.0</td>\n",
              "      <td>0.0</td>\n",
              "      <td>0.0</td>\n",
              "      <td>0.0</td>\n",
              "      <td>0.0</td>\n",
              "      <td>0.0</td>\n",
              "      <td>0.0</td>\n",
              "      <td>0.0</td>\n",
              "      <td>0.0</td>\n",
              "      <td>0.0</td>\n",
              "      <td>0.0</td>\n",
              "      <td>0.0</td>\n",
              "      <td>0.0</td>\n",
              "      <td>0.0</td>\n",
              "      <td>0.0</td>\n",
              "      <td>0.0</td>\n",
              "      <td>0.0</td>\n",
              "      <td>0.0</td>\n",
              "      <td>0.0</td>\n",
              "      <td>0.0</td>\n",
              "      <td>0.0</td>\n",
              "      <td>0.0</td>\n",
              "      <td>0.0</td>\n",
              "      <td>0.0</td>\n",
              "      <td>0.0</td>\n",
              "    </tr>\n",
              "    <tr>\n",
              "      <th>4</th>\n",
              "      <td>0.0</td>\n",
              "      <td>0.00</td>\n",
              "      <td>0.0</td>\n",
              "      <td>0.0</td>\n",
              "      <td>0.0</td>\n",
              "      <td>0.0</td>\n",
              "      <td>0.0</td>\n",
              "      <td>0.0</td>\n",
              "      <td>0.0</td>\n",
              "      <td>0.0</td>\n",
              "      <td>0.0</td>\n",
              "      <td>0.0</td>\n",
              "      <td>0.0</td>\n",
              "      <td>0.0</td>\n",
              "      <td>0.0</td>\n",
              "      <td>0.0</td>\n",
              "      <td>0.0</td>\n",
              "      <td>0.0</td>\n",
              "      <td>0.0</td>\n",
              "      <td>0.0</td>\n",
              "      <td>0.0</td>\n",
              "      <td>0.0</td>\n",
              "      <td>0.0</td>\n",
              "      <td>0.0</td>\n",
              "      <td>0.0</td>\n",
              "      <td>0.0</td>\n",
              "      <td>0.0</td>\n",
              "      <td>0.0</td>\n",
              "      <td>0.0</td>\n",
              "      <td>0.0</td>\n",
              "      <td>0.0</td>\n",
              "      <td>0.0</td>\n",
              "      <td>0.0</td>\n",
              "      <td>0.0</td>\n",
              "      <td>0.0</td>\n",
              "      <td>0.0</td>\n",
              "      <td>0.0</td>\n",
              "      <td>0.0</td>\n",
              "      <td>0.0</td>\n",
              "      <td>0.0</td>\n",
              "      <td>...</td>\n",
              "      <td>0.0</td>\n",
              "      <td>0.0</td>\n",
              "      <td>0.0</td>\n",
              "      <td>0.0</td>\n",
              "      <td>0.0</td>\n",
              "      <td>0.0</td>\n",
              "      <td>0.0</td>\n",
              "      <td>0.0</td>\n",
              "      <td>0.0</td>\n",
              "      <td>0.0</td>\n",
              "      <td>0.0</td>\n",
              "      <td>0.0</td>\n",
              "      <td>0.0</td>\n",
              "      <td>0.0</td>\n",
              "      <td>0.0</td>\n",
              "      <td>0.0</td>\n",
              "      <td>0.0</td>\n",
              "      <td>0.0</td>\n",
              "      <td>0.0</td>\n",
              "      <td>0.0</td>\n",
              "      <td>0.0</td>\n",
              "      <td>0.0</td>\n",
              "      <td>0.0</td>\n",
              "      <td>0.0</td>\n",
              "      <td>0.0</td>\n",
              "      <td>0.0</td>\n",
              "      <td>0.0</td>\n",
              "      <td>0.0</td>\n",
              "      <td>0.0</td>\n",
              "      <td>0.0</td>\n",
              "      <td>0.0</td>\n",
              "      <td>0.0</td>\n",
              "      <td>0.0</td>\n",
              "      <td>0.0</td>\n",
              "      <td>0.0</td>\n",
              "      <td>0.0</td>\n",
              "      <td>0.0</td>\n",
              "      <td>0.0</td>\n",
              "      <td>0.0</td>\n",
              "      <td>0.0</td>\n",
              "    </tr>\n",
              "  </tbody>\n",
              "</table>\n",
              "<p>5 rows × 4000 columns</p>\n",
              "</div>"
            ],
            "text/plain": [
              "   ability  able  able charge  able get  ...   yr  zagg  zero  zune\n",
              "0      0.0  0.00          0.0       0.0  ...  0.0   0.0   0.0   0.0\n",
              "1      0.0  0.00          0.0       0.0  ...  0.0   0.0   0.0   0.0\n",
              "2      0.0  0.00          0.0       0.0  ...  0.0   0.0   0.0   0.0\n",
              "3      0.0  0.22          0.0       0.0  ...  0.0   0.0   0.0   0.0\n",
              "4      0.0  0.00          0.0       0.0  ...  0.0   0.0   0.0   0.0\n",
              "\n",
              "[5 rows x 4000 columns]"
            ]
          },
          "metadata": {
            "tags": []
          },
          "execution_count": 5
        }
      ]
    },
    {
      "cell_type": "code",
      "metadata": {
        "id": "2CKvu2yZwIin",
        "colab_type": "code",
        "outputId": "3611ab9e-6cf6-4e9c-a7eb-e345b19629bd",
        "colab": {
          "base_uri": "https://localhost:8080/",
          "height": 119
        }
      },
      "source": [
        "rating.head()"
      ],
      "execution_count": 14,
      "outputs": [
        {
          "output_type": "execute_result",
          "data": {
            "text/plain": [
              "0    3\n",
              "1    5\n",
              "2    5\n",
              "3    5\n",
              "4    1\n",
              "Name: star_rating, dtype: int64"
            ]
          },
          "metadata": {
            "tags": []
          },
          "execution_count": 14
        }
      ]
    },
    {
      "cell_type": "code",
      "metadata": {
        "id": "4f4vuyP6wIis",
        "colab_type": "code",
        "colab": {}
      },
      "source": [
        "\n",
        "import keras\n",
        "import numpy as np\n",
        "import sklearn.metrics as sklm\n",
        "\n",
        "\n",
        "\n",
        "model = Sequential()\n",
        "\n",
        "model.add(Dense(2/3 * df.shape[1], input_shape=(df.shape[1],), kernel_initializer='glorot_uniform'))\n",
        "model.add(Activation('relu'))\n",
        "model.add(Dropout(0.2))\n",
        "\n",
        "model.add(Dense(2/3 * df.shape[1], kernel_initializer='glorot_uniform'))\n",
        "model.add(Activation('relu'))\n",
        "model.add(Dropout(0.2))\n",
        "\n",
        "model.add(Dense(5, activation='relu'))\n",
        "model.add(Activation('softmax'))\n",
        "model.compile(optimizer=SGD(), loss='categorical_crossentropy', metrics=['categorical_accuracy'])"
      ],
      "execution_count": 0,
      "outputs": []
    },
    {
      "cell_type": "code",
      "metadata": {
        "id": "n7tm341LwIiu",
        "colab_type": "code",
        "outputId": "f968515c-3ea0-45a2-efb6-c5959c44e569",
        "colab": {
          "base_uri": "https://localhost:8080/",
          "height": 442
        }
      },
      "source": [
        "print(model.summary())"
      ],
      "execution_count": 16,
      "outputs": [
        {
          "output_type": "stream",
          "text": [
            "Model: \"sequential_2\"\n",
            "_________________________________________________________________\n",
            "Layer (type)                 Output Shape              Param #   \n",
            "=================================================================\n",
            "dense_6 (Dense)              (None, 2666)              10666666  \n",
            "_________________________________________________________________\n",
            "activation_6 (Activation)    (None, 2666)              0         \n",
            "_________________________________________________________________\n",
            "dropout_4 (Dropout)          (None, 2666)              0         \n",
            "_________________________________________________________________\n",
            "dense_7 (Dense)              (None, 2666)              7110222   \n",
            "_________________________________________________________________\n",
            "activation_7 (Activation)    (None, 2666)              0         \n",
            "_________________________________________________________________\n",
            "dropout_5 (Dropout)          (None, 2666)              0         \n",
            "_________________________________________________________________\n",
            "dense_8 (Dense)              (None, 5)                 13335     \n",
            "_________________________________________________________________\n",
            "activation_8 (Activation)    (None, 5)                 0         \n",
            "=================================================================\n",
            "Total params: 17,790,223\n",
            "Trainable params: 17,790,223\n",
            "Non-trainable params: 0\n",
            "_________________________________________________________________\n",
            "None\n"
          ],
          "name": "stdout"
        }
      ]
    },
    {
      "cell_type": "code",
      "metadata": {
        "id": "Q5BCqturwIiy",
        "colab_type": "code",
        "outputId": "4af42bd2-7313-4730-f48b-d8befeda35fc",
        "colab": {
          "base_uri": "https://localhost:8080/",
          "height": 224
        }
      },
      "source": [
        "# one hot encode rating\n",
        "print(rating.shape)\n",
        "print(type(rating))\n",
        "y = OneHotEncoder().fit_transform(rating.values.reshape(len(rating), 1)).toarray()\n",
        "y[:5]"
      ],
      "execution_count": 17,
      "outputs": [
        {
          "output_type": "stream",
          "text": [
            "(199134,)\n",
            "<class 'pandas.core.series.Series'>\n"
          ],
          "name": "stdout"
        },
        {
          "output_type": "stream",
          "text": [
            "/usr/local/lib/python3.6/dist-packages/sklearn/preprocessing/_encoders.py:415: FutureWarning: The handling of integer data will change in version 0.22. Currently, the categories are determined based on the range [0, max(values)], while in the future they will be determined based on the unique values.\n",
            "If you want the future behaviour and silence this warning, you can specify \"categories='auto'\".\n",
            "In case you used a LabelEncoder before this OneHotEncoder to convert the categories to integers, then you can now use the OneHotEncoder directly.\n",
            "  warnings.warn(msg, FutureWarning)\n"
          ],
          "name": "stderr"
        },
        {
          "output_type": "execute_result",
          "data": {
            "text/plain": [
              "array([[0., 0., 1., 0., 0.],\n",
              "       [0., 0., 0., 0., 1.],\n",
              "       [0., 0., 0., 0., 1.],\n",
              "       [0., 0., 0., 0., 1.],\n",
              "       [1., 0., 0., 0., 0.]])"
            ]
          },
          "metadata": {
            "tags": []
          },
          "execution_count": 17
        }
      ]
    },
    {
      "cell_type": "code",
      "metadata": {
        "id": "GrqdTqPzwIi0",
        "colab_type": "code",
        "colab": {}
      },
      "source": [
        "x_train, x_test, y_train, y_test = train_test_split(df, y, random_state=1)"
      ],
      "execution_count": 0,
      "outputs": []
    },
    {
      "cell_type": "code",
      "metadata": {
        "id": "kpZQI3H8_PW0",
        "colab_type": "code",
        "colab": {}
      },
      "source": [
        ""
      ],
      "execution_count": 0,
      "outputs": []
    },
    {
      "cell_type": "code",
      "metadata": {
        "scrolled": false,
        "id": "HhPZ42fMwIi2",
        "colab_type": "code",
        "outputId": "2cef5aeb-388b-423c-ecbb-ef1e4fae27f1",
        "colab": {
          "base_uri": "https://localhost:8080/",
          "height": 1000
        }
      },
      "source": [
        "import tensorflow.keras as keras\n",
        "import numpy as np\n",
        "import sklearn.metrics as sklm\n",
        "\n",
        "\n",
        "\n",
        "# reduce learning rate if we sense a plateau\n",
        "reduce_lr = ReduceLROnPlateau(monitor='val_loss', \n",
        "                              factor=0.4,\n",
        "                              patience=PATIENCE, \n",
        "                              min_lr=0.00001,\n",
        "                             mode='auto')\n",
        "early_stop = EarlyStopping(monitor='val_loss', patience=PATIENCE, verbose=1)\n",
        "\n",
        "mw = ku.ModelWrapper(model, \n",
        "                     MODEL_NAME, \n",
        "                     ARCHITECTURE,\n",
        "                     \"tfidf\",\n",
        "                     LABEL_COLUMN, \n",
        "                     DATA_FILE, \n",
        "                     embedding=EMBED_SIZE\n",
        "                     )\n",
        "\n",
        "from sklearn.utils.class_weight import compute_class_weight\n",
        "\n",
        "weights = compute_class_weight('balanced', np.arange(1, 6), rating)\n",
        "print(f'class weights: {weights}')\n",
        "\n",
        "network_history = mw.fit(x_train, y_train,\n",
        "                      batch_size=BATCH_SIZE,\n",
        "                      epochs=EPOCH,\n",
        "                      verbose=1,\n",
        "                      validation_split=0.2,\n",
        "                      class_weight=weights,\n",
        "                      callbacks=[early_stop, reduce_lr])"
      ],
      "execution_count": 19,
      "outputs": [
        {
          "output_type": "stream",
          "text": [
            "class weights: [1.43633872 3.07851898 2.18840596 1.19528211 0.3723871 ]\n",
            "Number of training examples: 149350\n",
            "WARNING:tensorflow:Falling back from v2 loop because of error: Failed to find data adapter that can handle input: <class 'pandas.core.frame.DataFrame'>, <class 'NoneType'>\n"
          ],
          "name": "stdout"
        },
        {
          "output_type": "stream",
          "text": [
            "WARNING:tensorflow:Falling back from v2 loop because of error: Failed to find data adapter that can handle input: <class 'pandas.core.frame.DataFrame'>, <class 'NoneType'>\n"
          ],
          "name": "stderr"
        },
        {
          "output_type": "stream",
          "text": [
            "Train on 119480 samples, validate on 29870 samples\n",
            "Epoch 1/200\n",
            "119480/119480 [==============================] - 43s 363us/sample - loss: 1.3477 - categorical_accuracy: 0.5345 - val_loss: 1.2998 - val_categorical_accuracy: 0.5383\n",
            "Epoch 2/200\n",
            "119480/119480 [==============================] - 44s 366us/sample - loss: 1.2923 - categorical_accuracy: 0.5368 - val_loss: 1.2835 - val_categorical_accuracy: 0.5383\n",
            "Epoch 3/200\n",
            "119480/119480 [==============================] - 44s 368us/sample - loss: 1.2729 - categorical_accuracy: 0.5368 - val_loss: 1.2579 - val_categorical_accuracy: 0.5383\n",
            "Epoch 4/200\n",
            "119480/119480 [==============================] - 44s 366us/sample - loss: 1.2373 - categorical_accuracy: 0.5368 - val_loss: 1.2097 - val_categorical_accuracy: 0.5390\n",
            "Epoch 5/200\n",
            "119480/119480 [==============================] - 44s 365us/sample - loss: 1.1792 - categorical_accuracy: 0.5502 - val_loss: 1.1428 - val_categorical_accuracy: 0.5722\n",
            "Epoch 6/200\n",
            "119480/119480 [==============================] - 44s 365us/sample - loss: 1.1152 - categorical_accuracy: 0.5874 - val_loss: 1.0846 - val_categorical_accuracy: 0.6032\n",
            "Epoch 7/200\n",
            "119480/119480 [==============================] - 43s 356us/sample - loss: 1.0659 - categorical_accuracy: 0.6083 - val_loss: 1.0431 - val_categorical_accuracy: 0.6198\n",
            "Epoch 8/200\n",
            "119480/119480 [==============================] - 41s 344us/sample - loss: 1.0289 - categorical_accuracy: 0.6189 - val_loss: 1.0064 - val_categorical_accuracy: 0.6284\n",
            "Epoch 9/200\n",
            "119480/119480 [==============================] - 41s 342us/sample - loss: 0.9940 - categorical_accuracy: 0.6266 - val_loss: 0.9791 - val_categorical_accuracy: 0.6336\n",
            "Epoch 10/200\n",
            "119480/119480 [==============================] - 41s 344us/sample - loss: 0.9702 - categorical_accuracy: 0.6328 - val_loss: 0.9599 - val_categorical_accuracy: 0.6385\n",
            "Epoch 11/200\n",
            "119480/119480 [==============================] - 41s 343us/sample - loss: 0.9511 - categorical_accuracy: 0.6378 - val_loss: 0.9437 - val_categorical_accuracy: 0.6443\n",
            "Epoch 12/200\n",
            "119480/119480 [==============================] - 41s 343us/sample - loss: 0.9366 - categorical_accuracy: 0.6419 - val_loss: 0.9328 - val_categorical_accuracy: 0.6445\n",
            "Epoch 13/200\n",
            "119480/119480 [==============================] - 41s 341us/sample - loss: 0.9244 - categorical_accuracy: 0.6460 - val_loss: 0.9236 - val_categorical_accuracy: 0.6535\n",
            "Epoch 14/200\n",
            "119480/119480 [==============================] - 41s 344us/sample - loss: 0.9132 - categorical_accuracy: 0.6494 - val_loss: 0.9114 - val_categorical_accuracy: 0.6541\n",
            "Epoch 15/200\n",
            "119480/119480 [==============================] - 41s 342us/sample - loss: 0.9034 - categorical_accuracy: 0.6534 - val_loss: 0.9041 - val_categorical_accuracy: 0.6590\n",
            "Epoch 16/200\n",
            "119480/119480 [==============================] - 41s 341us/sample - loss: 0.8954 - categorical_accuracy: 0.6566 - val_loss: 0.8963 - val_categorical_accuracy: 0.6614\n",
            "Epoch 17/200\n",
            "119480/119480 [==============================] - 41s 342us/sample - loss: 0.8870 - categorical_accuracy: 0.6612 - val_loss: 0.8896 - val_categorical_accuracy: 0.6634\n",
            "Epoch 18/200\n",
            "119480/119480 [==============================] - 41s 344us/sample - loss: 0.8799 - categorical_accuracy: 0.6645 - val_loss: 0.8848 - val_categorical_accuracy: 0.6683\n",
            "Epoch 19/200\n",
            "119480/119480 [==============================] - 41s 343us/sample - loss: 0.8738 - categorical_accuracy: 0.6668 - val_loss: 0.8790 - val_categorical_accuracy: 0.6673\n",
            "Epoch 20/200\n",
            "119480/119480 [==============================] - 41s 341us/sample - loss: 0.8677 - categorical_accuracy: 0.6695 - val_loss: 0.8770 - val_categorical_accuracy: 0.6723\n",
            "Epoch 21/200\n",
            "119480/119480 [==============================] - 41s 341us/sample - loss: 0.8628 - categorical_accuracy: 0.6724 - val_loss: 0.8703 - val_categorical_accuracy: 0.6728\n",
            "Epoch 22/200\n",
            "119480/119480 [==============================] - 41s 342us/sample - loss: 0.8578 - categorical_accuracy: 0.6736 - val_loss: 0.8667 - val_categorical_accuracy: 0.6725\n",
            "Epoch 23/200\n",
            "119480/119480 [==============================] - 41s 342us/sample - loss: 0.8530 - categorical_accuracy: 0.6763 - val_loss: 0.8645 - val_categorical_accuracy: 0.6751\n",
            "Epoch 24/200\n",
            "119480/119480 [==============================] - 41s 342us/sample - loss: 0.8490 - categorical_accuracy: 0.6777 - val_loss: 0.8601 - val_categorical_accuracy: 0.6753\n",
            "Epoch 25/200\n",
            "119480/119480 [==============================] - 41s 345us/sample - loss: 0.8454 - categorical_accuracy: 0.6795 - val_loss: 0.8579 - val_categorical_accuracy: 0.6751\n",
            "Epoch 26/200\n",
            "119480/119480 [==============================] - 42s 348us/sample - loss: 0.8415 - categorical_accuracy: 0.6806 - val_loss: 0.8477 - val_categorical_accuracy: 0.6774\n",
            "Epoch 27/200\n",
            "119480/119480 [==============================] - 41s 344us/sample - loss: 0.8257 - categorical_accuracy: 0.6814 - val_loss: 0.8349 - val_categorical_accuracy: 0.6778\n",
            "Epoch 28/200\n",
            "119480/119480 [==============================] - 41s 343us/sample - loss: 0.8174 - categorical_accuracy: 0.6829 - val_loss: 0.8309 - val_categorical_accuracy: 0.6797\n",
            "Epoch 29/200\n",
            "119480/119480 [==============================] - 42s 348us/sample - loss: 0.8118 - categorical_accuracy: 0.6842 - val_loss: 0.8286 - val_categorical_accuracy: 0.6776\n",
            "Epoch 30/200\n",
            "119480/119480 [==============================] - 41s 345us/sample - loss: 0.8082 - categorical_accuracy: 0.6846 - val_loss: 0.8276 - val_categorical_accuracy: 0.6789\n",
            "Epoch 31/200\n",
            "119480/119480 [==============================] - 41s 344us/sample - loss: 0.8035 - categorical_accuracy: 0.6863 - val_loss: 0.8227 - val_categorical_accuracy: 0.6803\n",
            "Epoch 32/200\n",
            "119480/119480 [==============================] - 41s 346us/sample - loss: 0.8012 - categorical_accuracy: 0.6872 - val_loss: 0.8189 - val_categorical_accuracy: 0.6810\n",
            "Epoch 33/200\n",
            "119480/119480 [==============================] - 42s 348us/sample - loss: 0.7979 - categorical_accuracy: 0.6885 - val_loss: 0.8177 - val_categorical_accuracy: 0.6820\n",
            "Epoch 34/200\n",
            "119480/119480 [==============================] - 41s 345us/sample - loss: 0.7952 - categorical_accuracy: 0.6883 - val_loss: 0.8160 - val_categorical_accuracy: 0.6816\n",
            "Epoch 35/200\n",
            "119480/119480 [==============================] - 41s 342us/sample - loss: 0.7936 - categorical_accuracy: 0.6896 - val_loss: 0.8159 - val_categorical_accuracy: 0.6821\n",
            "Epoch 36/200\n",
            "119480/119480 [==============================] - 41s 345us/sample - loss: 0.7910 - categorical_accuracy: 0.6900 - val_loss: 0.8137 - val_categorical_accuracy: 0.6820\n",
            "Epoch 37/200\n",
            "119480/119480 [==============================] - 41s 344us/sample - loss: 0.7886 - categorical_accuracy: 0.6911 - val_loss: 0.8145 - val_categorical_accuracy: 0.6817\n",
            "Epoch 38/200\n",
            "119480/119480 [==============================] - 41s 347us/sample - loss: 0.7869 - categorical_accuracy: 0.6918 - val_loss: 0.8125 - val_categorical_accuracy: 0.6830\n",
            "Epoch 39/200\n",
            "119480/119480 [==============================] - 43s 359us/sample - loss: 0.7847 - categorical_accuracy: 0.6913 - val_loss: 0.8109 - val_categorical_accuracy: 0.6833\n",
            "Epoch 40/200\n",
            "119480/119480 [==============================] - 44s 369us/sample - loss: 0.7836 - categorical_accuracy: 0.6925 - val_loss: 0.8110 - val_categorical_accuracy: 0.6825\n",
            "Epoch 41/200\n",
            "119480/119480 [==============================] - 44s 369us/sample - loss: 0.7810 - categorical_accuracy: 0.6935 - val_loss: 0.8109 - val_categorical_accuracy: 0.6839\n",
            "Epoch 42/200\n",
            "119480/119480 [==============================] - 44s 366us/sample - loss: 0.7794 - categorical_accuracy: 0.6945 - val_loss: 0.8091 - val_categorical_accuracy: 0.6840\n",
            "Epoch 43/200\n",
            "119480/119480 [==============================] - 44s 366us/sample - loss: 0.7770 - categorical_accuracy: 0.6953 - val_loss: 0.8118 - val_categorical_accuracy: 0.6824\n",
            "Epoch 44/200\n",
            "119480/119480 [==============================] - 44s 367us/sample - loss: 0.7765 - categorical_accuracy: 0.6962 - val_loss: 0.8108 - val_categorical_accuracy: 0.6841\n",
            "Epoch 45/200\n",
            "119480/119480 [==============================] - 43s 356us/sample - loss: 0.7747 - categorical_accuracy: 0.6965 - val_loss: 0.8088 - val_categorical_accuracy: 0.6831\n",
            "Epoch 46/200\n",
            "119480/119480 [==============================] - 41s 346us/sample - loss: 0.7725 - categorical_accuracy: 0.6961 - val_loss: 0.8073 - val_categorical_accuracy: 0.6847\n",
            "Epoch 47/200\n",
            "119480/119480 [==============================] - 41s 345us/sample - loss: 0.7710 - categorical_accuracy: 0.6978 - val_loss: 0.8075 - val_categorical_accuracy: 0.6846\n",
            "Epoch 48/200\n",
            "119480/119480 [==============================] - 41s 346us/sample - loss: 0.7693 - categorical_accuracy: 0.6984 - val_loss: 0.8066 - val_categorical_accuracy: 0.6847\n",
            "Epoch 49/200\n",
            "119480/119480 [==============================] - 41s 344us/sample - loss: 0.7688 - categorical_accuracy: 0.6977 - val_loss: 0.8088 - val_categorical_accuracy: 0.6850\n",
            "Epoch 50/200\n",
            "119480/119480 [==============================] - 41s 344us/sample - loss: 0.7667 - categorical_accuracy: 0.6994 - val_loss: 0.8055 - val_categorical_accuracy: 0.6847\n",
            "Epoch 51/200\n",
            "119480/119480 [==============================] - 41s 345us/sample - loss: 0.7653 - categorical_accuracy: 0.6990 - val_loss: 0.8053 - val_categorical_accuracy: 0.6854\n",
            "Epoch 52/200\n",
            "119480/119480 [==============================] - 41s 343us/sample - loss: 0.7641 - categorical_accuracy: 0.7004 - val_loss: 0.8073 - val_categorical_accuracy: 0.6852\n",
            "Epoch 53/200\n",
            "119480/119480 [==============================] - 41s 342us/sample - loss: 0.7629 - categorical_accuracy: 0.7006 - val_loss: 0.8058 - val_categorical_accuracy: 0.6845\n",
            "Epoch 54/200\n",
            "119480/119480 [==============================] - 41s 343us/sample - loss: 0.7610 - categorical_accuracy: 0.7017 - val_loss: 0.8045 - val_categorical_accuracy: 0.6856\n",
            "Epoch 55/200\n",
            "119480/119480 [==============================] - 41s 347us/sample - loss: 0.7603 - categorical_accuracy: 0.7013 - val_loss: 0.8045 - val_categorical_accuracy: 0.6857\n",
            "Epoch 56/200\n",
            "119480/119480 [==============================] - 41s 345us/sample - loss: 0.7586 - categorical_accuracy: 0.7025 - val_loss: 0.8081 - val_categorical_accuracy: 0.6853\n",
            "Epoch 57/200\n",
            "119480/119480 [==============================] - 41s 343us/sample - loss: 0.7566 - categorical_accuracy: 0.7035 - val_loss: 0.8052 - val_categorical_accuracy: 0.6846\n",
            "Epoch 58/200\n",
            "119480/119480 [==============================] - 41s 343us/sample - loss: 0.7553 - categorical_accuracy: 0.7036 - val_loss: 0.8056 - val_categorical_accuracy: 0.6857\n",
            "Epoch 59/200\n",
            "119480/119480 [==============================] - 41s 345us/sample - loss: 0.7538 - categorical_accuracy: 0.7036 - val_loss: 0.8039 - val_categorical_accuracy: 0.6859\n",
            "Epoch 60/200\n",
            "119480/119480 [==============================] - 41s 345us/sample - loss: 0.7527 - categorical_accuracy: 0.7050 - val_loss: 0.8045 - val_categorical_accuracy: 0.6858\n",
            "Epoch 61/200\n",
            "119480/119480 [==============================] - 41s 346us/sample - loss: 0.7516 - categorical_accuracy: 0.7045 - val_loss: 0.8053 - val_categorical_accuracy: 0.6866\n",
            "Epoch 62/200\n",
            "119480/119480 [==============================] - 41s 344us/sample - loss: 0.7503 - categorical_accuracy: 0.7060 - val_loss: 0.8053 - val_categorical_accuracy: 0.6856\n",
            "Epoch 63/200\n",
            "119480/119480 [==============================] - 41s 347us/sample - loss: 0.7485 - categorical_accuracy: 0.7067 - val_loss: 0.8044 - val_categorical_accuracy: 0.6859\n",
            "Epoch 64/200\n",
            "119480/119480 [==============================] - 41s 345us/sample - loss: 0.7477 - categorical_accuracy: 0.7066 - val_loss: 0.8035 - val_categorical_accuracy: 0.6867\n",
            "Epoch 65/200\n",
            "119480/119480 [==============================] - 41s 346us/sample - loss: 0.7450 - categorical_accuracy: 0.7074 - val_loss: 0.8032 - val_categorical_accuracy: 0.6867\n",
            "Epoch 66/200\n",
            "119480/119480 [==============================] - 41s 345us/sample - loss: 0.7449 - categorical_accuracy: 0.7079 - val_loss: 0.8082 - val_categorical_accuracy: 0.6863\n",
            "Epoch 67/200\n",
            "119480/119480 [==============================] - 41s 345us/sample - loss: 0.7436 - categorical_accuracy: 0.7083 - val_loss: 0.8037 - val_categorical_accuracy: 0.6875\n",
            "Epoch 68/200\n",
            "119480/119480 [==============================] - 41s 347us/sample - loss: 0.7419 - categorical_accuracy: 0.7091 - val_loss: 0.8045 - val_categorical_accuracy: 0.6878\n",
            "Epoch 69/200\n",
            "119480/119480 [==============================] - 41s 347us/sample - loss: 0.7404 - categorical_accuracy: 0.7103 - val_loss: 0.8059 - val_categorical_accuracy: 0.6852\n",
            "Epoch 70/200\n",
            "119480/119480 [==============================] - 42s 349us/sample - loss: 0.7392 - categorical_accuracy: 0.7102 - val_loss: 0.8042 - val_categorical_accuracy: 0.6864\n",
            "Epoch 71/200\n",
            "119480/119480 [==============================] - 41s 347us/sample - loss: 0.7378 - categorical_accuracy: 0.7111 - val_loss: 0.8035 - val_categorical_accuracy: 0.6864\n",
            "Epoch 72/200\n",
            "119480/119480 [==============================] - 41s 346us/sample - loss: 0.7364 - categorical_accuracy: 0.7114 - val_loss: 0.8063 - val_categorical_accuracy: 0.6864\n",
            "Epoch 73/200\n",
            "119480/119480 [==============================] - 41s 347us/sample - loss: 0.7347 - categorical_accuracy: 0.7112 - val_loss: 0.8084 - val_categorical_accuracy: 0.6879\n",
            "Epoch 00073: early stopping\n"
          ],
          "name": "stdout"
        }
      ]
    },
    {
      "cell_type": "code",
      "metadata": {
        "id": "4AFkPh27wIi4",
        "colab_type": "code",
        "outputId": "9dbef83b-96cf-439b-f322-387702b409c1",
        "colab": {
          "base_uri": "https://localhost:8080/",
          "height": 258
        }
      },
      "source": [
        "scores = mw.evaluate(x_test, y_test)\n",
        "print(\"Accuracy: %.2f%%\" % (mw.scores[1]*100))\n"
      ],
      "execution_count": 20,
      "outputs": [
        {
          "output_type": "stream",
          "text": [
            "Number of test: 49784\n",
            "Running model.evaluate...\n",
            "WARNING:tensorflow:Falling back from v2 loop because of error: Failed to find data adapter that can handle input: <class 'pandas.core.frame.DataFrame'>, <class 'NoneType'>\n"
          ],
          "name": "stdout"
        },
        {
          "output_type": "stream",
          "text": [
            "WARNING:tensorflow:Falling back from v2 loop because of error: Failed to find data adapter that can handle input: <class 'pandas.core.frame.DataFrame'>, <class 'NoneType'>\n"
          ],
          "name": "stderr"
        },
        {
          "output_type": "stream",
          "text": [
            "49784/49784 [==============================] - 14s 278us/sample - loss: 0.8054 - categorical_accuracy: 0.6868\n",
            "Running model.predict...\n",
            "WARNING:tensorflow:Falling back from v2 loop because of error: Failed to find data adapter that can handle input: <class 'pandas.core.frame.DataFrame'>, <class 'NoneType'>\n"
          ],
          "name": "stdout"
        },
        {
          "output_type": "stream",
          "text": [
            "WARNING:tensorflow:Falling back from v2 loop because of error: Failed to find data adapter that can handle input: <class 'pandas.core.frame.DataFrame'>, <class 'NoneType'>\n"
          ],
          "name": "stderr"
        },
        {
          "output_type": "stream",
          "text": [
            "Unencode predictions...\n",
            "Generating confusion matrix...\n",
            "Calculating ROC AUC...\n",
            "Getting classification report...\n",
            "Accuracy: 68.68%\n"
          ],
          "name": "stdout"
        }
      ]
    },
    {
      "cell_type": "code",
      "metadata": {
        "id": "Sy0qCyklwIi7",
        "colab_type": "code",
        "outputId": "c766cb5b-ff20-4945-db96-7058e3a0eb0e",
        "colab": {
          "base_uri": "https://localhost:8080/",
          "height": 339
        }
      },
      "source": [
        "\n",
        "importlib.reload(pu)\n",
        "pu.plot_network_history(mw.network_history, \"categorical_accuracy\", \"val_categorical_accuracy\")\n"
      ],
      "execution_count": 21,
      "outputs": [
        {
          "output_type": "display_data",
          "data": {
            "image/png": "[encoded data removed]",
            "text/plain": [
              "<Figure size 720x360 with 2 Axes>"
            ]
          },
          "metadata": {
            "tags": []
          }
        }
      ]
    },
    {
      "cell_type": "code",
      "metadata": {
        "id": "cWzmvCIPwIjB",
        "colab_type": "code",
        "outputId": "b2f8811d-df93-4cab-bc06-a9f1172395e9",
        "colab": {
          "base_uri": "https://localhost:8080/",
          "height": 102
        }
      },
      "source": [
        "mw.confusion_matrix"
      ],
      "execution_count": 22,
      "outputs": [
        {
          "output_type": "execute_result",
          "data": {
            "text/plain": [
              "array([[ 5721,   122,   374,    95,   669],\n",
              "       [ 1739,   156,   605,   198,   527],\n",
              "       [  947,   113,  1205,   831,  1444],\n",
              "       [  295,    32,   599,  1933,  5439],\n",
              "       [  417,     8,   225,   914, 25176]])"
            ]
          },
          "metadata": {
            "tags": []
          },
          "execution_count": 22
        }
      ]
    },
    {
      "cell_type": "code",
      "metadata": {
        "id": "W3FJ8vqTwIjJ",
        "colab_type": "code",
        "outputId": "e4870113-04ef-40b4-a372-89bfa916eb61",
        "colab": {
          "base_uri": "https://localhost:8080/",
          "height": 221
        }
      },
      "source": [
        "print(mw.classification_report)\n"
      ],
      "execution_count": 23,
      "outputs": [
        {
          "output_type": "stream",
          "text": [
            "              precision    recall  f1-score   support\n",
            "\n",
            "           1       0.63      0.82      0.71      6981\n",
            "           2       0.36      0.05      0.09      3225\n",
            "           3       0.40      0.27      0.32      4540\n",
            "           4       0.49      0.23      0.32      8298\n",
            "           5       0.76      0.94      0.84     26740\n",
            "\n",
            "    accuracy                           0.69     49784\n",
            "   macro avg       0.53      0.46      0.45     49784\n",
            "weighted avg       0.64      0.69      0.64     49784\n",
            "\n"
          ],
          "name": "stdout"
        }
      ]
    },
    {
      "cell_type": "code",
      "metadata": {
        "id": "XdsmH8xEx3Fa",
        "colab_type": "code",
        "outputId": "09b5094a-3935-44ef-c66c-94ca3953828d",
        "colab": {
          "base_uri": "https://localhost:8080/",
          "height": 720
        }
      },
      "source": [
        "fig = plt.figure(figsize=(5,5))\n",
        "pu.plot_roc_auc(mw.model_name, mw.roc_auc, mw.fpr, mw.tpr)"
      ],
      "execution_count": 24,
      "outputs": [
        {
          "output_type": "stream",
          "text": [
            "drive/My Drive/Springboard/capstone/util/plot_util.py:252: MatplotlibDeprecationWarning: The 'withdash' parameter of text() is deprecated since Matplotlib 3.1 and will be removed in 3.3.  If any parameter follows 'withdash', they should be pass as keyword, not positionally.\n",
            "  withdash=True)\n",
            "drive/My Drive/Springboard/capstone/util/plot_util.py:252: MatplotlibDeprecationWarning: \n",
            "The TextWithDash class was deprecated in Matplotlib 3.1 and will be removed in 3.3. Use Annotation instead.\n",
            "  withdash=True)\n",
            "drive/My Drive/Springboard/capstone/util/plot_util.py:256: MatplotlibDeprecationWarning: The 'withdash' parameter of text() is deprecated since Matplotlib 3.1 and will be removed in 3.3.  If any parameter follows 'withdash', they should be pass as keyword, not positionally.\n",
            "  withdash=True)\n",
            "drive/My Drive/Springboard/capstone/util/plot_util.py:256: MatplotlibDeprecationWarning: \n",
            "The TextWithDash class was deprecated in Matplotlib 3.1 and will be removed in 3.3. Use Annotation instead.\n",
            "  withdash=True)\n",
            "drive/My Drive/Springboard/capstone/util/plot_util.py:260: MatplotlibDeprecationWarning: The 'withdash' parameter of text() is deprecated since Matplotlib 3.1 and will be removed in 3.3.  If any parameter follows 'withdash', they should be pass as keyword, not positionally.\n",
            "  withdash=True)\n",
            "drive/My Drive/Springboard/capstone/util/plot_util.py:260: MatplotlibDeprecationWarning: \n",
            "The TextWithDash class was deprecated in Matplotlib 3.1 and will be removed in 3.3. Use Annotation instead.\n",
            "  withdash=True)\n"
          ],
          "name": "stderr"
        },
        {
          "output_type": "display_data",
          "data": {
            "image/png": "[encoded data removed]",
            "text/plain": [
              "<Figure size 360x360 with 1 Axes>"
            ]
          },
          "metadata": {
            "tags": []
          }
        }
      ]
    },
    {
      "cell_type": "markdown",
      "metadata": {
        "id": "r0ehuHKKwIjL",
        "colab_type": "text"
      },
      "source": [
        "# Save our Model"
      ]
    },
    {
      "cell_type": "code",
      "metadata": {
        "id": "Ejwi99Zzm2Kh",
        "colab_type": "code",
        "colab": {}
      },
      "source": [
        ""
      ],
      "execution_count": 0,
      "outputs": []
    },
    {
      "cell_type": "code",
      "metadata": {
        "id": "T2YCQbVn812o",
        "colab_type": "code",
        "outputId": "587e287f-655b-4fd6-e54e-c8e3c9a32bca",
        "colab": {
          "base_uri": "https://localhost:8080/",
          "height": 173
        }
      },
      "source": [
        "\n",
        "mw.save(DRIVE_DIR, append_report=True)\n"
      ],
      "execution_count": 45,
      "outputs": [
        {
          "output_type": "stream",
          "text": [
            "description: DNN-2_.6x_.6x-tfidf-sampling_none-199134-4000-star_rating\n",
            "Saving model file: drive/My Drive/Springboard/capstone/models/DNN-2_.6x_.6x-tfidf-sampling_none-199134-4000-star_rating-model.h5\n",
            "Saving json config file: drive/My Drive/Springboard/capstone/models/DNN-2_.6x_.6x-tfidf-sampling_none-199134-4000-star_rating-model.json\n",
            "Saving weights file: drive/My Drive/Springboard/capstone/models/DNN-2_.6x_.6x-tfidf-sampling_none-199134-4000-star_rating-weights.h5\n",
            "Saving to report file: drive/My Drive/Springboard/capstone/reports/2019-11-dl_prototype-report.csv\n",
            "Loading to append to: drive/My Drive/Springboard/capstone/reports/2019-11-dl_prototype-report.csv\n",
            "{'model_name': 'DNN', 'architecture': '2_.6x_.6x', 'description': 'DNN-2_.6x_.6x-tfidf-sampling_none-199134-4000-star_rating', 'classification_report': '{\"1\": {\"precision\": 0.6273714223050774, \"recall\": 0.8195100988397078, \"f1-score\": 0.7106832298136646, \"support\": 6981}, \"2\": {\"precision\": 0.3619489559164733, \"recall\": 0.04837209302325581, \"f1-score\": 0.08533916849015317, \"support\": 3225}, \"3\": {\"precision\": 0.4005984042553192, \"recall\": 0.2654185022026432, \"f1-score\": 0.3192898781134075, \"support\": 4540}, \"4\": {\"precision\": 0.4867791488290103, \"recall\": 0.2329476982405399, \"f1-score\": 0.31510310538756214, \"support\": 8298}, \"5\": {\"precision\": 0.7570590888588182, \"recall\": 0.9415108451757667, \"f1-score\": 0.8392699391615969, \"support\": 26740}, \"accuracy\": 0.6867869194922064, \"macro avg\": {\"precision\": 0.5267514040329397, \"recall\": 0.46155184749638273, \"f1-score\": 0.4539370641932769, \"support\": 49784}, \"weighted avg\": {\"precision\": 0.6357210238295325, \"recall\": 0.6867869194922064, \"f1-score\": 0.6376120487311565, \"support\": 49784}}', 'roc_auc': '{\"auc_1\": 0.9550678260034245, \"auc_2\": 0.8737652434328969, \"auc_3\": 0.8451384675048305, \"auc_4\": 0.7706660359869926, \"auc_5\": 0.897633918144561, \"auc_micro\": 0.9182185697302334, \"auc_macro\": 0.868464986871959}', 'loss': 0.8053558322560762, 'accuracy': 0.6867869, 'confusion_matrix': '[[5721, 122, 374, 95, 669], [1739, 156, 605, 198, 527], [947, 113, 1205, 831, 1444], [295, 32, 599, 1933, 5439], [417, 8, 225, 914, 25176]]', 'file': 'drive/My Drive/Springboard/capstone/data/review_body-tfidf-df_none-ngram13-199134-4000-nolda.csv', 'tokenizer_file': 'drive/My Drive/Springboard/capstone/models/dl-tokenizer.pkl', 'max_sequence_length': 4000, 'sampling_type': 'none', 'embedding': 0, 'model_file': 'drive/My Drive/Springboard/capstone/models/DNN-2_.6x_.6x-tfidf-sampling_none-199134-4000-star_rating-model.h5', 'model_json_file': 'drive/My Drive/Springboard/capstone/models/DNN-2_.6x_.6x-tfidf-sampling_none-199134-4000-star_rating-model.json', 'weights_file': 'drive/My Drive/Springboard/capstone/models/DNN-2_.6x_.6x-tfidf-sampling_none-199134-4000-star_rating-weights.h5', 'test_examples': 49784, 'test_features': 4000, 'train_examples': 149350, 'train_features': 4000, 'train_time_min': 60.77, 'evaluate_time_min': 0.28, 'predict_time_min': 0.24, 'status': 'success', 'status_date': '2019-11-06 17:06:53'}\n",
            "Saving report file...\n"
          ],
          "name": "stdout"
        }
      ]
    },
    {
      "cell_type": "code",
      "metadata": {
        "id": "zcM2bPcUe9EW",
        "colab_type": "code",
        "outputId": "444f97e3-1aff-4699-e9d4-1bfe77c69080",
        "colab": {
          "base_uri": "https://localhost:8080/",
          "height": 85
        }
      },
      "source": [
        "print(f'\\n\\nOverall score: {ru.calculate_metric(mw.crd)}')"
      ],
      "execution_count": 46,
      "outputs": [
        {
          "output_type": "stream",
          "text": [
            "INFO:util.report_util:calculating metric from dictionary\n"
          ],
          "name": "stderr"
        },
        {
          "output_type": "stream",
          "text": [
            "\n",
            "\n",
            "Overall score: 0.15987382523709548\n"
          ],
          "name": "stdout"
        }
      ]
    },
    {
      "cell_type": "code",
      "metadata": {
        "id": "KBxher6CKfPN",
        "colab_type": "code",
        "colab": {}
      },
      "source": [
        "print(datetime.now())"
      ],
      "execution_count": 0,
      "outputs": []
    },
    {
      "cell_type": "code",
      "metadata": {
        "id": "jnoLVwZWMZxG",
        "colab_type": "code",
        "colab": {}
      },
      "source": [
        ""
      ],
      "execution_count": 0,
      "outputs": []
    },
    {
      "cell_type": "code",
      "metadata": {
        "id": "VZtoMtcKq4eg",
        "colab_type": "code",
        "colab": {}
      },
      "source": [
        ""
      ],
      "execution_count": 0,
      "outputs": []
    }
  ]
}