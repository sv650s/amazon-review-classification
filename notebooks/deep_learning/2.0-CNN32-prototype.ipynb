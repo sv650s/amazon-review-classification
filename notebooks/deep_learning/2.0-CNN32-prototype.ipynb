{
  "nbformat": 4,
  "nbformat_minor": 0,
  "metadata": {
    "colab": {
      "name": "2.0-CNN32-prototype.ipynb",
      "provenance": [],
      "collapsed_sections": [],
      "include_colab_link": true
    },
    "language_info": {
      "codemirror_mode": {
        "name": "ipython",
        "version": 3
      },
      "file_extension": ".py",
      "mimetype": "text/x-python",
      "name": "python",
      "nbconvert_exporter": "python",
      "pygments_lexer": "ipython3",
      "version": "3.7.3"
    },
    "kernelspec": {
      "name": "python3",
      "display_name": "Python 3"
    },
    "accelerator": "GPU"
  },
  "cells": [
    {
      "cell_type": "markdown",
      "metadata": {
        "id": "view-in-github",
        "colab_type": "text"
      },
      "source": [
        "<a href=\"https://colab.research.google.com/github/sv650s/amazon-review-classification/blob/master/notebooks/deep_learning/2.0-CNN32-prototype.ipynb\" target=\"_parent\"><img src=\"https://colab.research.google.com/assets/colab-badge.svg\" alt=\"Open In Colab\"/></a>"
      ]
    },
    {
      "cell_type": "markdown",
      "metadata": {
        "id": "W7_sb1roJXhx",
        "colab_type": "text"
      },
      "source": [
        "# 1 Layer CNN x 32 Filters (unbalanced weights)\n"
      ]
    },
    {
      "cell_type": "code",
      "metadata": {
        "id": "PQAdmLZOro8c",
        "colab_type": "code",
        "outputId": "9e780b91-e331-464e-ad11-66346ea962d0",
        "colab": {
          "base_uri": "https://localhost:8080/",
          "height": 52
        }
      },
      "source": [
        "from google.colab import drive\n",
        "drive.mount('/content/drive')\n",
        "\n",
        "import sys\n",
        "DRIVE_DIR = \"drive/My Drive/Springboard/capstone\"\n",
        "sys.path.append(DRIVE_DIR)\n",
        "\n",
        "\n",
        "%tensorflow_version 2.x\n",
        "\n",
        "\n",
        "import tensorflow as tf\n",
        "# checl to make sure we are using GPU here\n",
        "tf.test.gpu_device_name()"
      ],
      "execution_count": 1,
      "outputs": [
        {
          "output_type": "stream",
          "text": [
            "Drive already mounted at /content/drive; to attempt to forcibly remount, call drive.mount(\"/content/drive\", force_remount=True).\n"
          ],
          "name": "stdout"
        },
        {
          "output_type": "execute_result",
          "data": {
            "text/plain": [
              "'/device:GPU:0'"
            ]
          },
          "metadata": {
            "tags": []
          },
          "execution_count": 1
        }
      ]
    },
    {
      "cell_type": "code",
      "metadata": {
        "id": "At8OhHNfJXh3",
        "colab_type": "code",
        "outputId": "d26da7cf-f0c7-4c2a-a744-df15b57f07a1",
        "colab": {
          "base_uri": "https://localhost:8080/",
          "height": 72
        }
      },
      "source": [
        "from tensorflow.keras.models import Sequential\n",
        "from tensorflow.keras.layers import Dense, Activation, Dropout, BatchNormalization\n",
        "from tensorflow.keras.callbacks import EarlyStopping, ReduceLROnPlateau\n",
        "from tensorflow.keras.models import load_model\n",
        "from tensorflow.keras.optimizers import SGD, Adam\n",
        "from tensorflow.keras.layers import Flatten\n",
        "from tensorflow.keras.layers import Conv1D, MaxPooling1D, Embedding\n",
        "from tensorflow.keras.utils import model_to_dot\n",
        "from tensorflow.keras.preprocessing.text import Tokenizer\n",
        "from tensorflow.keras.preprocessing import sequence\n",
        "\n",
        "\n",
        "from sklearn.model_selection import train_test_split\n",
        "from sklearn.preprocessing import OneHotEncoder, LabelEncoder\n",
        "from sklearn.metrics import confusion_matrix, classification_report\n",
        "from sklearn.utils.class_weight import compute_class_weight\n",
        "\n",
        "\n",
        "import pandas as pd\n",
        "import numpy as np\n",
        "from IPython.display import SVG\n",
        "import pickle\n",
        "from datetime import datetime\n",
        "import matplotlib.pyplot as plt\n",
        "import seaborn as sns\n",
        "import os\n",
        "import logging\n",
        "import importlib\n",
        "import json\n",
        "\n",
        "import util.dict_util as du\n",
        "import util.plot_util as pu\n",
        "import util.file_util as fu\n",
        "import util.keras_util as ku\n",
        "import util.report_util as ru\n",
        "\n",
        "import random\n",
        "\n",
        "RSTATE = 1\n",
        "# fix random seeds\n",
        "tf.compat.v1.reset_default_graph()\n",
        "tf.compat.v1.set_random_seed(RSTATE)\n",
        "random.seed(RSTATE)\n",
        "np.random.seed(RSTATE)\n",
        "\n",
        "\n",
        "logging.basicConfig(level=logging.INFO)\n",
        "\n",
        "%matplotlib inline\n",
        "sns.set()\n",
        "\n",
        "\n",
        "\n",
        "DATE_FORMAT = '%Y-%m-%d'\n",
        "TIME_FORMAT = '%Y-%m-%d %H:%M:%S'\n",
        "LABEL_COLUMN = \"star_rating\"\n",
        "REVIEW_COLUMN = \"review_body\"\n",
        "\n",
        "SAMPLE_SIZE = \"200k\"\n",
        "\n",
        "LEARNING_RATE = 0.01\n",
        "# first layer filter\n",
        "FILTER1 = 32\n",
        "# Network Settings\n",
        "KERNEL_SIZE = 3\n",
        "PATIENCE = 4\n",
        "PLATEAU_PATIENCE = 2\n",
        "BALANCE_CLASS_WEIGHTS = False\n",
        "MODEL_VERSION = 1\n",
        "ENVIRONMENT = \"2.0-CNN32-prototype.ipynb\"\n",
        "\n",
        "\n",
        "\n",
        "# length of our embedding - 300 is standard\n",
        "EMBED_SIZE = 300\n",
        "EPOCHS  = 20\n",
        "BATCH_SIZE = 128\n",
        "\n",
        "# From EDA, we know that 90% of review bodies have 100 words or less, \n",
        "# we will use this as our sequence length\n",
        "MAX_SEQUENCE_LENGTH = 100\n",
        "\n",
        "DEBUG = False\n",
        "\n",
        "MODEL_NAME = f\"CNN{FILTER1}\"\n",
        "ARCHITECTURE = f\"1x{FILTER1}\"\n",
        "FEATURE_SET_NAME = \"embedding_random\"\n",
        "REPORT_FILE = \"dl_prototype-report.csv\"\n",
        "\n",
        "if DEBUG:\n",
        "  DATA_FILE = f'{DRIVE_DIR}/data/amazon_reviews_us_Wireless_v1_00-test-preprocessed.csv'\n",
        "  MODEL_NAME = f'test-{MODEL_NAME}'\n",
        "  REPORT_FILE = f'test-{REPORT_FILE}'\n",
        "else:\n",
        "  DATA_FILE = f\"{DRIVE_DIR}/data/amazon_reviews_us_Wireless_v1_00-{SAMPLE_SIZE}-with_stop_nonlemmatized-preprocessed.csv\"\n",
        "\n",
        "ku.ModelWrapper.set_report_filename(REPORT_FILE)\n",
        "\n",
        "directory, INBASENAME = fu.get_dir_basename(DATA_FILE)\n",
        "DESCRIPTION = f\"1 Layer CNN with {FILTER1} filters, kernel size {KERNEL_SIZE} (unbalanced weights)\"\n",
        "\n",
        "\n",
        "\n",
        "\n",
        "\n",
        "start_time = datetime.now()"
      ],
      "execution_count": 2,
      "outputs": [
        {
          "output_type": "stream",
          "text": [
            "/usr/local/lib/python3.6/dist-packages/statsmodels/tools/_testing.py:19: FutureWarning: pandas.util.testing is deprecated. Use the functions in the public API at pandas.testing instead.\n",
            "  import pandas.util.testing as tm\n"
          ],
          "name": "stderr"
        }
      ]
    },
    {
      "cell_type": "code",
      "metadata": {
        "hide_input": false,
        "id": "k6fwJp9OJXh5",
        "colab_type": "code",
        "colab": {}
      },
      "source": [
        "df = pd.read_csv(f\"{DATA_FILE}\")"
      ],
      "execution_count": 0,
      "outputs": []
    },
    {
      "cell_type": "code",
      "metadata": {
        "id": "nb3whPNGNsu6",
        "colab_type": "code",
        "outputId": "979fe404-aa71-4a29-e749-b4c2fee61b15",
        "colab": {
          "base_uri": "https://localhost:8080/",
          "height": 401
        }
      },
      "source": [
        "df.head()"
      ],
      "execution_count": 4,
      "outputs": [
        {
          "output_type": "execute_result",
          "data": {
            "text/html": [
              "<div>\n",
              "<style scoped>\n",
              "    .dataframe tbody tr th:only-of-type {\n",
              "        vertical-align: middle;\n",
              "    }\n",
              "\n",
              "    .dataframe tbody tr th {\n",
              "        vertical-align: top;\n",
              "    }\n",
              "\n",
              "    .dataframe thead th {\n",
              "        text-align: right;\n",
              "    }\n",
              "</style>\n",
              "<table border=\"1\" class=\"dataframe\">\n",
              "  <thead>\n",
              "    <tr style=\"text-align: right;\">\n",
              "      <th></th>\n",
              "      <th>star_rating</th>\n",
              "      <th>helpful_votes</th>\n",
              "      <th>total_votes</th>\n",
              "      <th>review_headline_orig</th>\n",
              "      <th>review_headline</th>\n",
              "      <th>review_body_orig</th>\n",
              "      <th>review_body</th>\n",
              "      <th>review_date</th>\n",
              "    </tr>\n",
              "  </thead>\n",
              "  <tbody>\n",
              "    <tr>\n",
              "      <th>0</th>\n",
              "      <td>3</td>\n",
              "      <td>0</td>\n",
              "      <td>0</td>\n",
              "      <td>love polka dots</td>\n",
              "      <td>love polka dots</td>\n",
              "      <td>Best quality</td>\n",
              "      <td>best quality</td>\n",
              "      <td>2015-08-31</td>\n",
              "    </tr>\n",
              "    <tr>\n",
              "      <th>1</th>\n",
              "      <td>5</td>\n",
              "      <td>0</td>\n",
              "      <td>0</td>\n",
              "      <td>Five Stars</td>\n",
              "      <td>five stars</td>\n",
              "      <td>Very good quality for the price.</td>\n",
              "      <td>very good quality for the price</td>\n",
              "      <td>2015-08-31</td>\n",
              "    </tr>\n",
              "    <tr>\n",
              "      <th>2</th>\n",
              "      <td>5</td>\n",
              "      <td>0</td>\n",
              "      <td>0</td>\n",
              "      <td>but the case works great. Fits great and very ...</td>\n",
              "      <td>but the case works great fits great and very slim</td>\n",
              "      <td>I wish the bottom and top edges were a little ...</td>\n",
              "      <td>i wish the bottom and top edges were a little ...</td>\n",
              "      <td>2015-08-31</td>\n",
              "    </tr>\n",
              "    <tr>\n",
              "      <th>3</th>\n",
              "      <td>5</td>\n",
              "      <td>0</td>\n",
              "      <td>0</td>\n",
              "      <td>Perfect</td>\n",
              "      <td>perfect</td>\n",
              "      <td>Just finished using it while on a trip. Loved ...</td>\n",
              "      <td>just finished using it while on a trip loved b...</td>\n",
              "      <td>2015-08-31</td>\n",
              "    </tr>\n",
              "    <tr>\n",
              "      <th>4</th>\n",
              "      <td>1</td>\n",
              "      <td>0</td>\n",
              "      <td>0</td>\n",
              "      <td>cheaply made!</td>\n",
              "      <td>cheaply made</td>\n",
              "      <td>low quality earbuds! They do not stay in the e...</td>\n",
              "      <td>low quality earbuds they do not stay in the ea...</td>\n",
              "      <td>2015-08-31</td>\n",
              "    </tr>\n",
              "  </tbody>\n",
              "</table>\n",
              "</div>"
            ],
            "text/plain": [
              "   star_rating  ...  review_date\n",
              "0            3  ...   2015-08-31\n",
              "1            5  ...   2015-08-31\n",
              "2            5  ...   2015-08-31\n",
              "3            5  ...   2015-08-31\n",
              "4            1  ...   2015-08-31\n",
              "\n",
              "[5 rows x 8 columns]"
            ]
          },
          "metadata": {
            "tags": []
          },
          "execution_count": 4
        }
      ]
    },
    {
      "cell_type": "code",
      "metadata": {
        "id": "pqHfMf6mJXh7",
        "colab_type": "code",
        "colab": {}
      },
      "source": [
        "rating = df[LABEL_COLUMN]\n",
        "reviews = df[REVIEW_COLUMN]"
      ],
      "execution_count": 0,
      "outputs": []
    },
    {
      "cell_type": "markdown",
      "metadata": {
        "id": "EBQR0ZpoOiQk",
        "colab_type": "text"
      },
      "source": [
        "**Preprocessing**"
      ]
    },
    {
      "cell_type": "code",
      "metadata": {
        "id": "lytdvF4neJ4r",
        "colab_type": "code",
        "outputId": "e376e26e-24b9-4d2b-f3be-7c3f7a4d039b",
        "colab": {
          "base_uri": "https://localhost:8080/",
          "height": 70
        }
      },
      "source": [
        "# one hot encode ratings\n",
        "print(rating.shape)\n",
        "print(type(rating))\n",
        "y = OneHotEncoder().fit_transform(rating.values.reshape(len(rating), 1)).toarray()\n",
        "print(y.shape)"
      ],
      "execution_count": 6,
      "outputs": [
        {
          "output_type": "stream",
          "text": [
            "(199538,)\n",
            "<class 'pandas.core.series.Series'>\n",
            "(199538, 5)\n"
          ],
          "name": "stdout"
        }
      ]
    },
    {
      "cell_type": "code",
      "metadata": {
        "id": "8sdvF7lKPRfD",
        "colab_type": "code",
        "colab": {}
      },
      "source": [
        ""
      ],
      "execution_count": 0,
      "outputs": []
    },
    {
      "cell_type": "code",
      "metadata": {
        "id": "i0mwVXPjOpi5",
        "colab_type": "code",
        "outputId": "9400bd02-b945-4c49-ee6f-3884206f8877",
        "colab": {
          "base_uri": "https://localhost:8080/",
          "height": 52
        }
      },
      "source": [
        "\n",
        "\n",
        "t = Tokenizer()\n",
        "# fit the tokenizer on the documents\n",
        "t.fit_on_texts(reviews)\n",
        "\n",
        "\n",
        "reviews_sequences = t.texts_to_sequences(reviews)\n",
        "reviews_padded = sequence.pad_sequences(reviews_sequences, maxlen=MAX_SEQUENCE_LENGTH)\n",
        "\n",
        "print(\"Vocabulary size={}\".format(len(t.word_counts)))\n",
        "print(\"Number of Documents={}\".format(t.document_count))\n",
        "\n",
        "\n",
        "X_train, X_test, y_train, y_test = train_test_split(reviews_padded, y, random_state=RSTATE)"
      ],
      "execution_count": 7,
      "outputs": [
        {
          "output_type": "stream",
          "text": [
            "Vocabulary size=57429\n",
            "Number of Documents=199538\n"
          ],
          "name": "stdout"
        }
      ]
    },
    {
      "cell_type": "code",
      "metadata": {
        "id": "Ou3A0O2aOwcb",
        "colab_type": "code",
        "colab": {}
      },
      "source": [
        ""
      ],
      "execution_count": 0,
      "outputs": []
    },
    {
      "cell_type": "code",
      "metadata": {
        "id": "LxDcAouddq88",
        "colab_type": "code",
        "colab": {}
      },
      "source": [
        "\n"
      ],
      "execution_count": 0,
      "outputs": []
    },
    {
      "cell_type": "markdown",
      "metadata": {
        "id": "OFdBCYCf3kle",
        "colab_type": "text"
      },
      "source": [
        "# Build our Model"
      ]
    },
    {
      "cell_type": "code",
      "metadata": {
        "id": "653DtCuBJXiF",
        "colab_type": "code",
        "colab": {}
      },
      "source": [
        "model = Sequential()\n",
        "model.add(Embedding(len(t.word_counts)+1, EMBED_SIZE, input_length=MAX_SEQUENCE_LENGTH))\n",
        "model.add(Conv1D(filters=FILTER1, kernel_size=KERNEL_SIZE, padding='same', activation='relu'))\n",
        "model.add(MaxPooling1D(pool_size=2))\n",
        "model.add(Flatten())\n",
        "# model.add(Dense(250, activation='relu'))\n",
        "model.add(Dense(5, activation='softmax'))\n",
        "model.compile(loss='categorical_crossentropy', \n",
        "              optimizer=Adam(learning_rate=LEARNING_RATE), \n",
        "              metrics=['categorical_accuracy'])\n"
      ],
      "execution_count": 0,
      "outputs": []
    },
    {
      "cell_type": "code",
      "metadata": {
        "id": "iZitdxXPJXiI",
        "colab_type": "code",
        "outputId": "9e6866ed-4624-4b9a-f6ed-37d684ec6d7b",
        "colab": {
          "base_uri": "https://localhost:8080/",
          "height": 354
        }
      },
      "source": [
        "print(model.summary())"
      ],
      "execution_count": 9,
      "outputs": [
        {
          "output_type": "stream",
          "text": [
            "Model: \"sequential\"\n",
            "_________________________________________________________________\n",
            "Layer (type)                 Output Shape              Param #   \n",
            "=================================================================\n",
            "embedding (Embedding)        (None, 100, 300)          17229000  \n",
            "_________________________________________________________________\n",
            "conv1d (Conv1D)              (None, 100, 32)           28832     \n",
            "_________________________________________________________________\n",
            "max_pooling1d (MaxPooling1D) (None, 50, 32)            0         \n",
            "_________________________________________________________________\n",
            "flatten (Flatten)            (None, 1600)              0         \n",
            "_________________________________________________________________\n",
            "dense (Dense)                (None, 5)                 8005      \n",
            "=================================================================\n",
            "Total params: 17,265,837\n",
            "Trainable params: 17,265,837\n",
            "Non-trainable params: 0\n",
            "_________________________________________________________________\n",
            "None\n"
          ],
          "name": "stdout"
        }
      ]
    },
    {
      "cell_type": "code",
      "metadata": {
        "scrolled": false,
        "id": "60eC_0fRJXiQ",
        "colab_type": "code",
        "outputId": "aef9a6e3-9310-4f86-e743-91365498744f",
        "colab": {
          "base_uri": "https://localhost:8080/",
          "height": 978
        }
      },
      "source": [
        "# reduce learning rate if we sense a plateau\n",
        "reduce_lr = ReduceLROnPlateau(monitor='val_loss', \n",
        "                              restore_best_weights=True,\n",
        "                              patience = PLATEAU_PATIENCE,\n",
        "                              verbose = 1)\n",
        "\n",
        "early_stop = EarlyStopping(monitor='val_loss', \n",
        "                           patience=PATIENCE, \n",
        "                           verbose=1, \n",
        "                           restore_best_weights=True)\n",
        "\n",
        "# weights = compute_class_weight('balanced', np.arange(1, 6), rating)\n",
        "# weights_dict = {i: weights[i] for i in np.arange(0, len(weights))}\n",
        "# print(f'class weights: {weights}')\n",
        "# print(f'class weights_dict: {weights_dict}')\n",
        "\n",
        "\n",
        "mw = ku.ModelWrapper(model, \n",
        "                     model_name = MODEL_NAME, \n",
        "                     architecture = ARCHITECTURE,\n",
        "                     feature_set_name = FEATURE_SET_NAME,\n",
        "                     label_column = LABEL_COLUMN, \n",
        "                     feature_column = REVIEW_COLUMN,\n",
        "                     data_file = DATA_FILE,\n",
        "                     sample_size_str = SAMPLE_SIZE, \n",
        "                     tokenizer=t,\n",
        "                     description=DESCRIPTION,\n",
        "                     batch_size = BATCH_SIZE,\n",
        "                     model_version = MODEL_VERSION,\n",
        "                     save_dir = DRIVE_DIR)\n",
        "\n",
        "mw.add(\"environment\", ENVIRONMENT)\n",
        "mw.add(\"patience\", PATIENCE)\n",
        "mw.add(\"plateau_patience\", PLATEAU_PATIENCE)\n",
        "mw.add(\"embed_size\", EMBED_SIZE)\n",
        "\n",
        "\n",
        "network_history = mw.fit(X_train, y_train,\n",
        "                      epochs=EPOCHS,\n",
        "                      verbose=1,\n",
        "                      validation_split=0.2,\n",
        "                      # class_weight=weights_dict,\n",
        "                      callbacks=[early_stop, reduce_lr])"
      ],
      "execution_count": 10,
      "outputs": [
        {
          "output_type": "stream",
          "text": [
            "INFO:util.keras_util:saved file basename: CNN32-1x32-embedding_random-sampling_none-200k-review_body-v1\n",
            "INFO:util.keras_util:Creating drive/My Drive/Springboard/capstone/models/CNN32-1x32-embedding_random-sampling_none-200k-review_body-v1/1\n",
            "INFO:util.keras_util:Number of training examples: 149653\n",
            "INFO:util.keras_util:Computed class weight dictionary: {0: 1.4389711538461538, 1: 3.073903666427031, 2: 2.1801005171534706, 3: 1.1976072343149808, 4: 0.3722942969090118}\n",
            "INFO:util.keras_util:Adding checkpoint callback...\n",
            "INFO:util.keras_util:model: <tensorflow.python.keras.engine.sequential.Sequential object at 0x7f494e24a080>\n"
          ],
          "name": "stderr"
        },
        {
          "output_type": "stream",
          "text": [
            "Epoch 1/20\n",
            "936/936 [==============================] - ETA: 0s - loss: 1.3347 - categorical_accuracy: 0.5184\n",
            "Epoch 00001: val_loss improved from inf to 1.23498, saving model to drive/My Drive/Springboard/capstone/models/CNN32-1x32-embedding_random-sampling_none-200k-review_body-v1/checkpoints\n",
            "WARNING:tensorflow:From /usr/local/lib/python3.6/dist-packages/tensorflow/python/ops/resource_variable_ops.py:1817: calling BaseResourceVariable.__init__ (from tensorflow.python.ops.resource_variable_ops) with constraint is deprecated and will be removed in a future version.\n",
            "Instructions for updating:\n",
            "If using Keras pass *_constraint arguments to layers.\n"
          ],
          "name": "stdout"
        },
        {
          "output_type": "stream",
          "text": [
            "WARNING:tensorflow:From /usr/local/lib/python3.6/dist-packages/tensorflow/python/ops/resource_variable_ops.py:1817: calling BaseResourceVariable.__init__ (from tensorflow.python.ops.resource_variable_ops) with constraint is deprecated and will be removed in a future version.\n",
            "Instructions for updating:\n",
            "If using Keras pass *_constraint arguments to layers.\n"
          ],
          "name": "stderr"
        },
        {
          "output_type": "stream",
          "text": [
            "INFO:tensorflow:Assets written to: drive/My Drive/Springboard/capstone/models/CNN32-1x32-embedding_random-sampling_none-200k-review_body-v1/checkpoints/assets\n"
          ],
          "name": "stdout"
        },
        {
          "output_type": "stream",
          "text": [
            "INFO:tensorflow:Assets written to: drive/My Drive/Springboard/capstone/models/CNN32-1x32-embedding_random-sampling_none-200k-review_body-v1/checkpoints/assets\n"
          ],
          "name": "stderr"
        },
        {
          "output_type": "stream",
          "text": [
            "\b\b\b\b\b\b\b\b\b\b\b\b\b\b\b\b\b\b\b\b\b\b\b\b\b\b\b\b\b\b\b\b\b\b\b\b\b\b\b\b\b\b\b\b\b\b\b\b\b\b\b\b\b\b\b\b\b\b\b\b\b\b\b\b\b\b\b\b\b\b\b\b\b\b\b\b\b\b\b\b\b\b\b\b\b\b\b\b\b\b\b\b\b\b\b\b\r936/936 [==============================] - 184s 197ms/step - loss: 1.3347 - categorical_accuracy: 0.5184 - val_loss: 1.2350 - val_categorical_accuracy: 0.5205 - lr: 0.0100\n",
            "Epoch 2/20\n",
            "936/936 [==============================] - ETA: 0s - loss: 1.2725 - categorical_accuracy: 0.5449\n",
            "Epoch 00002: val_loss improved from 1.23498 to 1.23124, saving model to drive/My Drive/Springboard/capstone/models/CNN32-1x32-embedding_random-sampling_none-200k-review_body-v1/checkpoints\n",
            "INFO:tensorflow:Assets written to: drive/My Drive/Springboard/capstone/models/CNN32-1x32-embedding_random-sampling_none-200k-review_body-v1/checkpoints/assets\n"
          ],
          "name": "stdout"
        },
        {
          "output_type": "stream",
          "text": [
            "INFO:tensorflow:Assets written to: drive/My Drive/Springboard/capstone/models/CNN32-1x32-embedding_random-sampling_none-200k-review_body-v1/checkpoints/assets\n"
          ],
          "name": "stderr"
        },
        {
          "output_type": "stream",
          "text": [
            "936/936 [==============================] - 183s 196ms/step - loss: 1.2725 - categorical_accuracy: 0.5449 - val_loss: 1.2312 - val_categorical_accuracy: 0.5190 - lr: 0.0100\n",
            "Epoch 3/20\n",
            "936/936 [==============================] - ETA: 0s - loss: 1.2430 - categorical_accuracy: 0.5507\n",
            "Epoch 00003: val_loss improved from 1.23124 to 1.14883, saving model to drive/My Drive/Springboard/capstone/models/CNN32-1x32-embedding_random-sampling_none-200k-review_body-v1/checkpoints\n",
            "INFO:tensorflow:Assets written to: drive/My Drive/Springboard/capstone/models/CNN32-1x32-embedding_random-sampling_none-200k-review_body-v1/checkpoints/assets\n"
          ],
          "name": "stdout"
        },
        {
          "output_type": "stream",
          "text": [
            "INFO:tensorflow:Assets written to: drive/My Drive/Springboard/capstone/models/CNN32-1x32-embedding_random-sampling_none-200k-review_body-v1/checkpoints/assets\n"
          ],
          "name": "stderr"
        },
        {
          "output_type": "stream",
          "text": [
            "\b\b\b\b\b\b\b\b\b\b\b\b\b\b\b\b\b\b\b\b\b\b\b\b\b\b\b\b\b\b\b\b\b\b\b\b\b\b\b\b\b\b\b\b\b\b\b\b\b\b\b\b\b\b\b\b\b\b\b\b\b\b\b\b\b\b\b\b\b\b\b\b\b\b\b\b\b\b\b\b\b\b\b\b\b\b\b\b\b\b\b\b\b\b\b\b\r936/936 [==============================] - 181s 194ms/step - loss: 1.2430 - categorical_accuracy: 0.5507 - val_loss: 1.1488 - val_categorical_accuracy: 0.5381 - lr: 0.0100\n",
            "Epoch 4/20\n",
            "936/936 [==============================] - ETA: 0s - loss: 1.1815 - categorical_accuracy: 0.5693\n",
            "Epoch 00004: val_loss did not improve from 1.14883\n",
            "936/936 [==============================] - 179s 191ms/step - loss: 1.1815 - categorical_accuracy: 0.5693 - val_loss: 1.2921 - val_categorical_accuracy: 0.5124 - lr: 0.0100\n",
            "Epoch 5/20\n",
            "936/936 [==============================] - ETA: 0s - loss: 1.1545 - categorical_accuracy: 0.5744\n",
            "Epoch 00005: ReduceLROnPlateau reducing learning rate to 0.0009999999776482583.\n",
            "\n",
            "Epoch 00005: val_loss did not improve from 1.14883\n",
            "936/936 [==============================] - 178s 190ms/step - loss: 1.1545 - categorical_accuracy: 0.5744 - val_loss: 1.2267 - val_categorical_accuracy: 0.5209 - lr: 0.0100\n",
            "Epoch 6/20\n",
            "936/936 [==============================] - ETA: 0s - loss: 0.9972 - categorical_accuracy: 0.6350\n",
            "Epoch 00006: val_loss did not improve from 1.14883\n",
            "936/936 [==============================] - 178s 190ms/step - loss: 0.9972 - categorical_accuracy: 0.6350 - val_loss: 1.1524 - val_categorical_accuracy: 0.5659 - lr: 1.0000e-03\n",
            "Epoch 7/20\n",
            "936/936 [==============================] - ETA: 0s - loss: 0.9259 - categorical_accuracy: 0.6587Restoring model weights from the end of the best epoch.\n",
            "\n",
            "Epoch 00007: ReduceLROnPlateau reducing learning rate to 9.999999310821295e-05.\n",
            "\n",
            "Epoch 00007: val_loss did not improve from 1.14883\n",
            "936/936 [==============================] - 178s 190ms/step - loss: 0.9259 - categorical_accuracy: 0.6587 - val_loss: 1.1615 - val_categorical_accuracy: 0.5665 - lr: 1.0000e-03\n",
            "Epoch 00007: early stopping\n",
            "Total training time: 21.08 mins\n"
          ],
          "name": "stdout"
        }
      ]
    },
    {
      "cell_type": "code",
      "metadata": {
        "id": "1IFBqe9d_SU0",
        "colab_type": "code",
        "colab": {}
      },
      "source": [
        ""
      ],
      "execution_count": 0,
      "outputs": []
    },
    {
      "cell_type": "code",
      "metadata": {
        "id": "2VHBrsPjJXiS",
        "colab_type": "code",
        "outputId": "981a4c40-a0a8-4f6c-cc68-9cd432a9e2ad",
        "colab": {
          "base_uri": "https://localhost:8080/",
          "height": 562
        }
      },
      "source": [
        "\n",
        "scores = mw.evaluate(X_test, y_test)\n",
        "\n"
      ],
      "execution_count": 11,
      "outputs": [
        {
          "output_type": "stream",
          "text": [
            "Number of test: 49885\n",
            "Running model.evaluate on test set...\n",
            "1559/1559 [==============================] - 6s 4ms/step - loss: 1.1537 - categorical_accuracy: 0.5338\n",
            "Running model.predict on test set...\n",
            "Unencode test set predictions...\n",
            "Generating test set confusion matrix...\n",
            "Calculating test set ROC AUC...\n",
            "(49885, 5)\n",
            "Getting test set classification report...\n",
            "Running model.evaluate on training set...\n",
            "4677/4677 [==============================] - 19s 4ms/step - loss: 1.0413 - categorical_accuracy: 0.5712\n",
            "Running model.predict on training set...\n",
            "Unencode training set predictions...\n",
            "Generating training set confusion matrix...\n",
            "Calculating training set ROC AUC...\n",
            "(149653, 5)\n",
            "Getting training set classification report...\n"
          ],
          "name": "stdout"
        },
        {
          "output_type": "error",
          "ename": "AttributeError",
          "evalue": "ignored",
          "traceback": [
            "\u001b[0;31m---------------------------------------------------------------------------\u001b[0m",
            "\u001b[0;31mAttributeError\u001b[0m                            Traceback (most recent call last)",
            "\u001b[0;32m<ipython-input-11-049f8df3be69>\u001b[0m in \u001b[0;36m<module>\u001b[0;34m()\u001b[0m\n\u001b[1;32m      1\u001b[0m \u001b[0;34m\u001b[0m\u001b[0m\n\u001b[1;32m      2\u001b[0m \u001b[0mscores\u001b[0m \u001b[0;34m=\u001b[0m \u001b[0mmw\u001b[0m\u001b[0;34m.\u001b[0m\u001b[0mevaluate\u001b[0m\u001b[0;34m(\u001b[0m\u001b[0mX_test\u001b[0m\u001b[0;34m,\u001b[0m \u001b[0my_test\u001b[0m\u001b[0;34m)\u001b[0m\u001b[0;34m\u001b[0m\u001b[0;34m\u001b[0m\u001b[0m\n\u001b[0;32m----> 3\u001b[0;31m \u001b[0mprint\u001b[0m\u001b[0;34m(\u001b[0m\u001b[0;34m\"Accuracy: %.2f%%\"\u001b[0m \u001b[0;34m%\u001b[0m \u001b[0;34m(\u001b[0m\u001b[0mmw\u001b[0m\u001b[0;34m.\u001b[0m\u001b[0mscores\u001b[0m\u001b[0;34m[\u001b[0m\u001b[0;36m1\u001b[0m\u001b[0;34m]\u001b[0m\u001b[0;34m*\u001b[0m\u001b[0;36m100\u001b[0m\u001b[0;34m)\u001b[0m\u001b[0;34m)\u001b[0m\u001b[0;34m\u001b[0m\u001b[0;34m\u001b[0m\u001b[0m\n\u001b[0m\u001b[1;32m      4\u001b[0m \u001b[0;34m\u001b[0m\u001b[0m\n\u001b[1;32m      5\u001b[0m \u001b[0;34m\u001b[0m\u001b[0m\n",
            "\u001b[0;31mAttributeError\u001b[0m: 'ModelWrapper' object has no attribute 'scores'"
          ]
        }
      ]
    },
    {
      "cell_type": "code",
      "metadata": {
        "id": "7XQx-UUS_U64",
        "colab_type": "code",
        "colab": {
          "base_uri": "https://localhost:8080/",
          "height": 321
        },
        "outputId": "128cfa6e-362a-445c-edd7-5586ac5b2e2a"
      },
      "source": [
        "print(\"Accuracy: %.2f%%\" % (mw.test_scores[1]*100))\n",
        "print(\"Accuracy: %.2f%%\" % (mw.train_scores[1]*100))\n",
        "print(f'Overall Score: {ru.calculate_metric(mw.test_crd)}')\n",
        "\n",
        "\n",
        "mw.save(append_report=True)\n"
      ],
      "execution_count": 14,
      "outputs": [
        {
          "output_type": "stream",
          "text": [
            "INFO:util.report_util:calculating metric from dictionary\n",
            "INFO:util.report_util:got all values to calculate\n"
          ],
          "name": "stderr"
        },
        {
          "output_type": "stream",
          "text": [
            "Accuracy: 53.38%\n",
            "Accuracy: 57.12%\n",
            "Overall Score: 0.41246180888861833\n",
            "Saving to report file: drive/My Drive/Springboard/capstone/reports/dl_prototype-report.csv\n",
            "Loading to append to: drive/My Drive/Springboard/capstone/reports/dl_prototype-report.csv\n",
            "Saving report file...\n",
            "Saving json config file: drive/My Drive/Springboard/capstone/models/CNN32-1x32-embedding_random-sampling_none-200k-review_body-v1/CNN32-1x32-embedding_random-sampling_none-200k-review_body-v1-model.json\n",
            "Saving weights file: drive/My Drive/Springboard/capstone/models/CNN32-1x32-embedding_random-sampling_none-200k-review_body-v1/CNN32-1x32-embedding_random-sampling_none-200k-review_body-v1-weights.h5\n",
            "Saving history file: drive/My Drive/Springboard/capstone/reports/CNN32-1x32-embedding_random-sampling_none-200k-review_body-v1-history.pkl\n",
            "Saving model file: drive/My Drive/Springboard/capstone/models/CNN32-1x32-embedding_random-sampling_none-200k-review_body-v1/CNN32-1x32-embedding_random-sampling_none-200k-review_body-v1-model.h5\n",
            "Saving SavedModel to: drive/My Drive/Springboard/capstone/models/CNN32-1x32-embedding_random-sampling_none-200k-review_body-v1/1\n",
            "INFO:tensorflow:Assets written to: drive/My Drive/Springboard/capstone/models/CNN32-1x32-embedding_random-sampling_none-200k-review_body-v1/1/assets\n"
          ],
          "name": "stdout"
        },
        {
          "output_type": "stream",
          "text": [
            "INFO:tensorflow:Assets written to: drive/My Drive/Springboard/capstone/models/CNN32-1x32-embedding_random-sampling_none-200k-review_body-v1/1/assets\n",
            "INFO:util.keras_util:Saving tokenizer file: drive/My Drive/Springboard/capstone/models/CNN32-1x32-embedding_random-sampling_none-200k-review_body-v1/CNN32-1x32-embedding_random-sampling_none-200k-review_body-v1-tokenizer.pkl\n"
          ],
          "name": "stderr"
        }
      ]
    },
    {
      "cell_type": "code",
      "metadata": {
        "id": "uB28-_Bdo7Mj",
        "colab_type": "code",
        "outputId": "bf9f207b-cacd-47be-e049-a488abe26086",
        "colab": {
          "base_uri": "https://localhost:8080/",
          "height": 1000
        }
      },
      "source": [
        "pu.plot_network_history(mw.network_history, \"categorical_accuracy\", \"val_categorical_accuracy\")\n",
        "plt.show()\n",
        "\n",
        "print(\"\\nConfusion Matrix\")\n",
        "print(mw.test_confusion_matrix)\n",
        "\n",
        "print(\"\\nClassification Report\")\n",
        "print(mw.test_classification_report)\n",
        "\n",
        "fig = plt.figure(figsize=(5,5))\n",
        "pu.plot_roc_auc(mw.model_name, mw.test_roc_auc, mw.test_fpr, mw.test_tpr)\n"
      ],
      "execution_count": 16,
      "outputs": [
        {
          "output_type": "display_data",
          "data": {
            "image/png": "[encoded data removed]",
            "text/plain": [
              "<Figure size 720x360 with 2 Axes>"
            ]
          },
          "metadata": {
            "tags": []
          }
        },
        {
          "output_type": "stream",
          "text": [
            "\n",
            "Confusion Matrix\n",
            "[[ 3263  2790   512   275   118]\n",
            " [  774  1452   573   335    99]\n",
            " [  365  1498  1251  1005   435]\n",
            " [  174   995  1140  2878  3181]\n",
            " [  204  1334  1437  6010 17787]]\n",
            "\n",
            "Classification Report\n",
            "              precision    recall  f1-score   support\n",
            "\n",
            "           1       0.68      0.47      0.56      6958\n",
            "           2       0.18      0.45      0.26      3233\n",
            "           3       0.25      0.27      0.26      4554\n",
            "           4       0.27      0.34      0.31      8368\n",
            "           5       0.82      0.66      0.74     26772\n",
            "\n",
            "    accuracy                           0.53     49885\n",
            "   macro avg       0.44      0.44      0.42     49885\n",
            "weighted avg       0.62      0.53      0.56     49885\n",
            "\n"
          ],
          "name": "stdout"
        },
        {
          "output_type": "stream",
          "text": [
            "drive/My Drive/Springboard/capstone/util/plot_util.py:267: MatplotlibDeprecationWarning: The 'withdash' parameter of text() is deprecated since Matplotlib 3.1 and will be removed in 3.3.  If any parameter follows 'withdash', they should be pass as keyword, not positionally.\n",
            "  withdash=True)\n",
            "drive/My Drive/Springboard/capstone/util/plot_util.py:267: MatplotlibDeprecationWarning: \n",
            "The TextWithDash class was deprecated in Matplotlib 3.1 and will be removed in 3.3. Use Annotation instead.\n",
            "  withdash=True)\n",
            "drive/My Drive/Springboard/capstone/util/plot_util.py:271: MatplotlibDeprecationWarning: The 'withdash' parameter of text() is deprecated since Matplotlib 3.1 and will be removed in 3.3.  If any parameter follows 'withdash', they should be pass as keyword, not positionally.\n",
            "  withdash=True)\n",
            "drive/My Drive/Springboard/capstone/util/plot_util.py:271: MatplotlibDeprecationWarning: \n",
            "The TextWithDash class was deprecated in Matplotlib 3.1 and will be removed in 3.3. Use Annotation instead.\n",
            "  withdash=True)\n",
            "drive/My Drive/Springboard/capstone/util/plot_util.py:275: MatplotlibDeprecationWarning: The 'withdash' parameter of text() is deprecated since Matplotlib 3.1 and will be removed in 3.3.  If any parameter follows 'withdash', they should be pass as keyword, not positionally.\n",
            "  withdash=True)\n",
            "drive/My Drive/Springboard/capstone/util/plot_util.py:275: MatplotlibDeprecationWarning: \n",
            "The TextWithDash class was deprecated in Matplotlib 3.1 and will be removed in 3.3. Use Annotation instead.\n",
            "  withdash=True)\n"
          ],
          "name": "stderr"
        },
        {
          "output_type": "display_data",
          "data": {
            "image/png": "[encoded data removed]",
            "text/plain": [
              "<Figure size 360x360 with 1 Axes>"
            ]
          },
          "metadata": {
            "tags": []
          }
        }
      ]
    },
    {
      "cell_type": "markdown",
      "metadata": {
        "id": "VQ4GRUTq6t6e",
        "colab_type": "text"
      },
      "source": [
        "**Save off various files**"
      ]
    },
    {
      "cell_type": "code",
      "metadata": {
        "id": "VjW8V1MR61kJ",
        "colab_type": "code",
        "colab": {}
      },
      "source": [
        "\n"
      ],
      "execution_count": 0,
      "outputs": []
    },
    {
      "cell_type": "code",
      "metadata": {
        "id": "S0kvbmASiMmF",
        "colab_type": "code",
        "outputId": "8ecd0852-2529-48d7-bff3-71bfd2b6cdd7",
        "colab": {
          "base_uri": "https://localhost:8080/",
          "height": 72
        }
      },
      "source": [
        "from tensorflow.keras.models import load_model\n",
        "\n",
        "model_loaded = load_model(mw.model_file)\n",
        "scores = model_loaded.evaluate(X_test, y_test, verbose=1)\n",
        "print(\"Accuracy: %.2f%%\" % (scores[1]*100))\n",
        "\n",
        "# this takes too long for real models\n",
        "if DEBUG == True:\n",
        "  y_predict = model_loaded.predict(X_test)\n",
        "  y_predict_unencoded = ku.unencode(y_predict)\n",
        "  y_test_unencoded = ku.unencode(y_test)\n",
        "\n",
        "  # classification report\n",
        "  print(classification_report(y_test_unencoded, y_predict_unencoded))\n",
        "\n",
        "  # confusion matrix\n",
        "  print(confusion_matrix(y_test_unencoded, y_predict_unencoded))\n"
      ],
      "execution_count": 17,
      "outputs": [
        {
          "output_type": "stream",
          "text": [
            "1559/1559 [==============================] - 6s 4ms/step - loss: 1.1537 - categorical_accuracy: 0.5338\n",
            "Accuracy: 53.38%\n"
          ],
          "name": "stdout"
        }
      ]
    },
    {
      "cell_type": "code",
      "metadata": {
        "id": "GjVjezXPJXin",
        "colab_type": "code",
        "outputId": "dce5b2c2-e8fb-42c5-f12d-9ea3c2efe0a6",
        "colab": {
          "base_uri": "https://localhost:8080/",
          "height": 87
        }
      },
      "source": [
        "end_time = datetime.now()\n",
        "print(f'Start Time: {start_time}\\n' \\\n",
        "      f'End Time: {end_time}\\n' \\\n",
        "      f'Total Duration: {round((end_time - start_time).total_seconds() / 60, 2)} mins')\n",
        "print(datetime.now())"
      ],
      "execution_count": 18,
      "outputs": [
        {
          "output_type": "stream",
          "text": [
            "Start Time: 2020-05-15 05:55:50.481336\n",
            "End Time: 2020-05-15 06:23:37.505356\n",
            "Total Duration: 27.78 mins\n",
            "2020-05-15 06:23:37.505595\n"
          ],
          "name": "stdout"
        }
      ]
    },
    {
      "cell_type": "code",
      "metadata": {
        "id": "wSV9DYUgNHwo",
        "colab_type": "code",
        "colab": {}
      },
      "source": [
        ""
      ],
      "execution_count": 0,
      "outputs": []
    }
  ]
}