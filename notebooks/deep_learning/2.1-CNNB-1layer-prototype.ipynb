{
  "nbformat": 4,
  "nbformat_minor": 0,
  "metadata": {
    "colab": {
      "name": "2.1-CNNB-1layer-prototype.ipynb",
      "provenance": [],
      "collapsed_sections": [],
      "include_colab_link": true
    },
    "language_info": {
      "codemirror_mode": {
        "name": "ipython",
        "version": 3
      },
      "file_extension": ".py",
      "mimetype": "text/x-python",
      "name": "python",
      "nbconvert_exporter": "python",
      "pygments_lexer": "ipython3",
      "version": "3.7.3"
    },
    "kernelspec": {
      "name": "python3",
      "display_name": "Python 3"
    },
    "accelerator": "GPU"
  },
  "cells": [
    {
      "cell_type": "markdown",
      "metadata": {
        "id": "view-in-github",
        "colab_type": "text"
      },
      "source": [
        "<a href=\"https://colab.research.google.com/github/sv650s/amazon-review-classification/blob/master/notebooks/deep_learning/2.1-CNNB-1layer-prototype.ipynb\" target=\"_parent\"><img src=\"https://colab.research.google.com/assets/colab-badge.svg\" alt=\"Open In Colab\"/></a>"
      ]
    },
    {
      "cell_type": "markdown",
      "metadata": {
        "id": "W7_sb1roJXhx",
        "colab_type": "text"
      },
      "source": [
        "# 1 Layer CNN x 32 Filters (balanced weights)\n"
      ]
    },
    {
      "cell_type": "code",
      "metadata": {
        "id": "PQAdmLZOro8c",
        "colab_type": "code",
        "outputId": "8017528a-5e4f-4643-f25f-d74cb9f9c7ba",
        "colab": {
          "base_uri": "https://localhost:8080/",
          "height": 141
        }
      },
      "source": [
        "from google.colab import drive\n",
        "drive.mount('/content/drive')\n",
        "\n",
        "import sys\n",
        "DRIVE_DIR = \"drive/My Drive/Springboard/capstone\"\n",
        "sys.path.append(DRIVE_DIR)\n",
        "\n",
        "\n",
        "%tensorflow_version 2.x\n",
        "\n",
        "\n",
        "import tensorflow as tf\n",
        "# checl to make sure we are using GPU here\n",
        "tf.test.gpu_device_name()"
      ],
      "execution_count": 1,
      "outputs": [
        {
          "output_type": "stream",
          "text": [
            "Go to this URL in a browser: https://accounts.google.com/o/oauth2/auth?client_id=947318989803-6bn6qk8qdgf4n4g3pfee6491hc0brc4i.apps.googleusercontent.com&redirect_uri=urn%3aietf%3awg%3aoauth%3a2.0%3aoob&response_type=code&scope=email%20https%3a%2f%2fwww.googleapis.com%2fauth%2fdocs.test%20https%3a%2f%2fwww.googleapis.com%2fauth%2fdrive%20https%3a%2f%2fwww.googleapis.com%2fauth%2fdrive.photos.readonly%20https%3a%2f%2fwww.googleapis.com%2fauth%2fpeopleapi.readonly\n",
            "\n",
            "Enter your authorization code:\n",
            "··········\n",
            "Mounted at /content/drive\n"
          ],
          "name": "stdout"
        },
        {
          "output_type": "execute_result",
          "data": {
            "text/plain": [
              "'/device:GPU:0'"
            ]
          },
          "metadata": {
            "tags": []
          },
          "execution_count": 1
        }
      ]
    },
    {
      "cell_type": "code",
      "metadata": {
        "id": "At8OhHNfJXh3",
        "colab_type": "code",
        "outputId": "2f39d27a-5eb1-4a27-c2f8-28bb14a00be2",
        "colab": {
          "base_uri": "https://localhost:8080/",
          "height": 72
        }
      },
      "source": [
        "from tensorflow.keras.models import Sequential\n",
        "from tensorflow.keras.layers import Dense, Activation, Dropout, BatchNormalization\n",
        "from tensorflow.keras.callbacks import EarlyStopping, ReduceLROnPlateau\n",
        "from tensorflow.keras.models import load_model\n",
        "from tensorflow.keras.optimizers import SGD, Adam\n",
        "from tensorflow.keras.layers import Flatten\n",
        "from tensorflow.keras.layers import Conv1D, MaxPooling1D, Embedding\n",
        "from tensorflow.keras.utils import model_to_dot\n",
        "from tensorflow.keras.preprocessing.text import Tokenizer\n",
        "from tensorflow.keras.preprocessing import sequence\n",
        "\n",
        "\n",
        "from sklearn.model_selection import train_test_split\n",
        "from sklearn.preprocessing import OneHotEncoder, LabelEncoder\n",
        "from sklearn.metrics import confusion_matrix, classification_report\n",
        "from sklearn.utils.class_weight import compute_class_weight\n",
        "\n",
        "\n",
        "import pandas as pd\n",
        "import numpy as np\n",
        "from IPython.display import SVG\n",
        "import pickle\n",
        "from datetime import datetime\n",
        "import matplotlib.pyplot as plt\n",
        "import seaborn as sns\n",
        "import os\n",
        "import logging\n",
        "import importlib\n",
        "import json\n",
        "\n",
        "import util.dict_util as du\n",
        "import util.plot_util as pu\n",
        "import util.file_util as fu\n",
        "import util.keras_util as ku\n",
        "import util.report_util as ru\n",
        "\n",
        "import random\n",
        "\n",
        "RSTATE = 1\n",
        "# fix random seeds\n",
        "tf.compat.v1.reset_default_graph()\n",
        "tf.compat.v1.set_random_seed(RSTATE)\n",
        "random.seed(RSTATE)\n",
        "np.random.seed(RSTATE)\n",
        "\n",
        "\n",
        "logging.basicConfig(level=logging.INFO)\n",
        "\n",
        "%matplotlib inline\n",
        "sns.set()\n",
        "\n",
        "\n",
        "\n",
        "DATE_FORMAT = '%Y-%m-%d'\n",
        "TIME_FORMAT = '%Y-%m-%d %H:%M:%S'\n",
        "LABEL_COLUMN = \"star_rating\"\n",
        "REVIEW_COLUMN = \"review_body\"\n",
        "\n",
        "SAMPLE_SIZE = \"100k\"\n",
        "\n",
        "LEARNING_RATE = 0.01\n",
        "# first layer filter\n",
        "FILTER1 = 32\n",
        "# Network Settings\n",
        "KERNEL_SIZE = 3\n",
        "PATIENCE = 4\n",
        "\n",
        "# length of our embedding - 300 is standard\n",
        "EMBED_SIZE = 300\n",
        "EPOCHS  = 20\n",
        "BATCH_SIZE = 128\n",
        "\n",
        "# From EDA, we know that 90% of review bodies have 100 words or less, \n",
        "# we will use this as our sequence length\n",
        "MAX_SEQUENCE_LENGTH = 100\n",
        "\n",
        "DEBUG = False\n",
        "\n",
        "MODEL_NAME = f\"CNNB{FILTER1}\"\n",
        "ARCHITECTURE = f\"1x{FILTER1}\"\n",
        "FEATURE_SET_NAME = \"embedding_random\"\n",
        "REPORT_FILE = \"dl_prototype-report.csv\"\n",
        "if DEBUG:\n",
        "  DATA_FILE = f'{DRIVE_DIR}/data/amazon_reviews_us_Wireless_v1_00-test-preprocessed.csv'\n",
        "  MODEL_NAME = f'test-{MODEL_NAME}'\n",
        "  REPORT_FILE = f'test-{REPORT_FILE}'\n",
        "else:\n",
        "  DATA_FILE = f\"{DRIVE_DIR}/data/amazon_reviews_us_Wireless_v1_00-{SAMPLE_SIZE}-with_stop_nonlemmatized-preprocessed.csv\"\n",
        "\n",
        "ku.ModelWrapper.set_report_filename(REPORT_FILE)\n",
        "\n",
        "directory, INBASENAME = fu.get_dir_basename(DATA_FILE)\n",
        "DESCRIPTION = f\"1 Layer CNN with {FILTER1} filters, kernel size 3 (balanced weights)\"\n",
        "\n",
        "\n",
        "\n",
        "\n",
        "\n",
        "start_time = datetime.now()"
      ],
      "execution_count": 2,
      "outputs": [
        {
          "output_type": "stream",
          "text": [
            "/usr/local/lib/python3.6/dist-packages/statsmodels/tools/_testing.py:19: FutureWarning: pandas.util.testing is deprecated. Use the functions in the public API at pandas.testing instead.\n",
            "  import pandas.util.testing as tm\n"
          ],
          "name": "stderr"
        }
      ]
    },
    {
      "cell_type": "code",
      "metadata": {
        "hide_input": false,
        "id": "k6fwJp9OJXh5",
        "colab_type": "code",
        "colab": {}
      },
      "source": [
        "df = pd.read_csv(f\"{DATA_FILE}\")"
      ],
      "execution_count": 0,
      "outputs": []
    },
    {
      "cell_type": "code",
      "metadata": {
        "id": "nb3whPNGNsu6",
        "colab_type": "code",
        "outputId": "9421807d-52a8-4927-e41d-d8fb1970d4c0",
        "colab": {
          "base_uri": "https://localhost:8080/",
          "height": 250
        }
      },
      "source": [
        "df.head()"
      ],
      "execution_count": 4,
      "outputs": [
        {
          "output_type": "execute_result",
          "data": {
            "text/html": [
              "<div>\n",
              "<style scoped>\n",
              "    .dataframe tbody tr th:only-of-type {\n",
              "        vertical-align: middle;\n",
              "    }\n",
              "\n",
              "    .dataframe tbody tr th {\n",
              "        vertical-align: top;\n",
              "    }\n",
              "\n",
              "    .dataframe thead th {\n",
              "        text-align: right;\n",
              "    }\n",
              "</style>\n",
              "<table border=\"1\" class=\"dataframe\">\n",
              "  <thead>\n",
              "    <tr style=\"text-align: right;\">\n",
              "      <th></th>\n",
              "      <th>star_rating</th>\n",
              "      <th>helpful_votes</th>\n",
              "      <th>total_votes</th>\n",
              "      <th>review_headline_orig</th>\n",
              "      <th>review_headline</th>\n",
              "      <th>review_body_orig</th>\n",
              "      <th>review_body</th>\n",
              "      <th>review_date</th>\n",
              "    </tr>\n",
              "  </thead>\n",
              "  <tbody>\n",
              "    <tr>\n",
              "      <th>0</th>\n",
              "      <td>5</td>\n",
              "      <td>0</td>\n",
              "      <td>0</td>\n",
              "      <td>Five Stars</td>\n",
              "      <td>five stars</td>\n",
              "      <td>Very good quality for the price.</td>\n",
              "      <td>very good quality for the price</td>\n",
              "      <td>2015-08-31</td>\n",
              "    </tr>\n",
              "    <tr>\n",
              "      <th>1</th>\n",
              "      <td>5</td>\n",
              "      <td>0</td>\n",
              "      <td>0</td>\n",
              "      <td>Perfect</td>\n",
              "      <td>perfect</td>\n",
              "      <td>Just finished using it while on a trip. Loved ...</td>\n",
              "      <td>just finished using it while on a trip loved b...</td>\n",
              "      <td>2015-08-31</td>\n",
              "    </tr>\n",
              "    <tr>\n",
              "      <th>2</th>\n",
              "      <td>5</td>\n",
              "      <td>0</td>\n",
              "      <td>0</td>\n",
              "      <td>Five Stars</td>\n",
              "      <td>five stars</td>\n",
              "      <td>Great product! Arrived early and exactly as ad...</td>\n",
              "      <td>great product arrived early and exactly as adv...</td>\n",
              "      <td>2015-08-31</td>\n",
              "    </tr>\n",
              "    <tr>\n",
              "      <th>3</th>\n",
              "      <td>5</td>\n",
              "      <td>0</td>\n",
              "      <td>0</td>\n",
              "      <td>Five Stars</td>\n",
              "      <td>five stars</td>\n",
              "      <td>Works perfectly!</td>\n",
              "      <td>works perfectly</td>\n",
              "      <td>2015-08-31</td>\n",
              "    </tr>\n",
              "    <tr>\n",
              "      <th>4</th>\n",
              "      <td>2</td>\n",
              "      <td>0</td>\n",
              "      <td>0</td>\n",
              "      <td>I expected amazon to make better products. I h...</td>\n",
              "      <td>i expected amazon to make better products i ha...</td>\n",
              "      <td>The cord still works but I can see it cracks o...</td>\n",
              "      <td>the cord still works but i can see it cracks o...</td>\n",
              "      <td>2015-08-31</td>\n",
              "    </tr>\n",
              "  </tbody>\n",
              "</table>\n",
              "</div>"
            ],
            "text/plain": [
              "   star_rating  ...  review_date\n",
              "0            5  ...   2015-08-31\n",
              "1            5  ...   2015-08-31\n",
              "2            5  ...   2015-08-31\n",
              "3            5  ...   2015-08-31\n",
              "4            2  ...   2015-08-31\n",
              "\n",
              "[5 rows x 8 columns]"
            ]
          },
          "metadata": {
            "tags": []
          },
          "execution_count": 4
        }
      ]
    },
    {
      "cell_type": "code",
      "metadata": {
        "id": "pqHfMf6mJXh7",
        "colab_type": "code",
        "colab": {}
      },
      "source": [
        "rating = df[LABEL_COLUMN]\n",
        "reviews = df[REVIEW_COLUMN]"
      ],
      "execution_count": 0,
      "outputs": []
    },
    {
      "cell_type": "markdown",
      "metadata": {
        "id": "EBQR0ZpoOiQk",
        "colab_type": "text"
      },
      "source": [
        "**Preprocessing**"
      ]
    },
    {
      "cell_type": "code",
      "metadata": {
        "id": "lytdvF4neJ4r",
        "colab_type": "code",
        "outputId": "c098fa14-3bf8-4339-fc02-282bfc08ac47",
        "colab": {
          "base_uri": "https://localhost:8080/",
          "height": 69
        }
      },
      "source": [
        "# one hot encode ratings\n",
        "print(rating.shape)\n",
        "print(type(rating))\n",
        "y = OneHotEncoder().fit_transform(rating.values.reshape(len(rating), 1)).toarray()\n",
        "print(y.shape)"
      ],
      "execution_count": 6,
      "outputs": [
        {
          "output_type": "stream",
          "text": [
            "(99772,)\n",
            "<class 'pandas.core.series.Series'>\n",
            "(99772, 5)\n"
          ],
          "name": "stdout"
        }
      ]
    },
    {
      "cell_type": "code",
      "metadata": {
        "id": "8sdvF7lKPRfD",
        "colab_type": "code",
        "colab": {}
      },
      "source": [
        ""
      ],
      "execution_count": 0,
      "outputs": []
    },
    {
      "cell_type": "code",
      "metadata": {
        "id": "i0mwVXPjOpi5",
        "colab_type": "code",
        "outputId": "a2ffd820-b875-4f17-d7fb-7275461606fb",
        "colab": {
          "base_uri": "https://localhost:8080/",
          "height": 52
        }
      },
      "source": [
        "\n",
        "\n",
        "t = Tokenizer()\n",
        "# fit the tokenizer on the documents\n",
        "t.fit_on_texts(reviews)\n",
        "\n",
        "\n",
        "reviews_sequences = t.texts_to_sequences(reviews)\n",
        "reviews_padded = sequence.pad_sequences(reviews_sequences, maxlen=MAX_SEQUENCE_LENGTH)\n",
        "\n",
        "print(\"Vocabulary size={}\".format(len(t.word_counts)))\n",
        "print(\"Number of Documents={}\".format(t.document_count))\n",
        "\n",
        "\n",
        "X_train, X_test, y_train, y_test = train_test_split(reviews_padded, y, random_state=RSTATE)"
      ],
      "execution_count": 7,
      "outputs": [
        {
          "output_type": "stream",
          "text": [
            "Vocabulary size=40324\n",
            "Number of Documents=99772\n"
          ],
          "name": "stdout"
        }
      ]
    },
    {
      "cell_type": "code",
      "metadata": {
        "id": "Ou3A0O2aOwcb",
        "colab_type": "code",
        "colab": {}
      },
      "source": [
        ""
      ],
      "execution_count": 0,
      "outputs": []
    },
    {
      "cell_type": "code",
      "metadata": {
        "id": "LxDcAouddq88",
        "colab_type": "code",
        "colab": {}
      },
      "source": [
        "\n"
      ],
      "execution_count": 0,
      "outputs": []
    },
    {
      "cell_type": "markdown",
      "metadata": {
        "id": "OFdBCYCf3kle",
        "colab_type": "text"
      },
      "source": [
        "# Build our Model"
      ]
    },
    {
      "cell_type": "code",
      "metadata": {
        "id": "653DtCuBJXiF",
        "colab_type": "code",
        "colab": {}
      },
      "source": [
        "model = Sequential()\n",
        "model.add(Embedding(len(t.word_counts)+1, EMBED_SIZE, input_length=MAX_SEQUENCE_LENGTH))\n",
        "model.add(Conv1D(filters=FILTER1, kernel_size=KERNEL_SIZE, padding='same', activation='relu'))\n",
        "model.add(MaxPooling1D(pool_size=2))\n",
        "model.add(Flatten())\n",
        "model.add(Dense(250, activation='relu'))\n",
        "model.add(Dense(5, activation='softmax'))\n",
        "model.compile(loss='categorical_crossentropy', \n",
        "              optimizer=Adam(learning_rate=LEARNING_RATE), \n",
        "              metrics=['categorical_accuracy'])\n"
      ],
      "execution_count": 0,
      "outputs": []
    },
    {
      "cell_type": "code",
      "metadata": {
        "id": "iZitdxXPJXiI",
        "colab_type": "code",
        "outputId": "7830a768-1273-4bcf-f339-ec311b7af447",
        "colab": {
          "base_uri": "https://localhost:8080/",
          "height": 380
        }
      },
      "source": [
        "print(model.summary())"
      ],
      "execution_count": 9,
      "outputs": [
        {
          "output_type": "stream",
          "text": [
            "Model: \"sequential\"\n",
            "_________________________________________________________________\n",
            "Layer (type)                 Output Shape              Param #   \n",
            "=================================================================\n",
            "embedding (Embedding)        (None, 100, 300)          12097500  \n",
            "_________________________________________________________________\n",
            "conv1d (Conv1D)              (None, 100, 32)           28832     \n",
            "_________________________________________________________________\n",
            "max_pooling1d (MaxPooling1D) (None, 50, 32)            0         \n",
            "_________________________________________________________________\n",
            "flatten (Flatten)            (None, 1600)              0         \n",
            "_________________________________________________________________\n",
            "dense (Dense)                (None, 250)               400250    \n",
            "_________________________________________________________________\n",
            "dense_1 (Dense)              (None, 5)                 1255      \n",
            "=================================================================\n",
            "Total params: 12,527,837\n",
            "Trainable params: 12,527,837\n",
            "Non-trainable params: 0\n",
            "_________________________________________________________________\n",
            "None\n"
          ],
          "name": "stdout"
        }
      ]
    },
    {
      "cell_type": "code",
      "metadata": {
        "scrolled": false,
        "id": "60eC_0fRJXiQ",
        "colab_type": "code",
        "outputId": "80058fa7-1fe3-4b41-e11e-8db46bbbd1be",
        "colab": {
          "base_uri": "https://localhost:8080/",
          "height": 311
        }
      },
      "source": [
        "# reduce learning rate if we sense a plateau\n",
        "reduce_lr = ReduceLROnPlateau(monitor='val_loss', \n",
        "                              restore_best_weights=True)\n",
        "\n",
        "early_stop = EarlyStopping(monitor='val_loss', \n",
        "                           patience=PATIENCE, \n",
        "                           verbose=1, \n",
        "                           restore_best_weights=True)\n",
        "\n",
        "weights = compute_class_weight('balanced', np.arange(1, 6), rating)\n",
        "weights_dict = {i: weights[i] for i in np.arange(0, len(weights))}\n",
        "print(f'class weights: {weights}')\n",
        "print(f'class weights_dict: {weights_dict}')\n",
        "\n",
        "\n",
        "mw = ku.ModelWrapper(model, \n",
        "                     model_name = MODEL_NAME, \n",
        "                     architecture = ARCHITECTURE,\n",
        "                     feature_set_name = FEATURE_SET_NAME,\n",
        "                     label_column = LABEL_COLUMN, \n",
        "                     feature_column = REVIEW_COLUMN,\n",
        "                     data_file = DATA_FILE, \n",
        "                     embed_size=EMBED_SIZE,\n",
        "                     tokenizer=t,\n",
        "                     description=DESCRIPTION)\n",
        "\n",
        "network_history = mw.fit(X_train, y_train,\n",
        "                      batch_size=BATCH_SIZE,\n",
        "                      epochs=EPOCHS,\n",
        "                      verbose=1,\n",
        "                      validation_split=0.2,\n",
        "                      class_weight=weights_dict,\n",
        "                      callbacks=[early_stop, reduce_lr])"
      ],
      "execution_count": 10,
      "outputs": [
        {
          "output_type": "stream",
          "text": [
            "class weights: [1.43608492 3.05253174 2.17700196 1.18634958 0.37400007]\n",
            "class weights_dict: {0: 1.436084922634041, 1: 3.0525317423894753, 2: 2.1770019637791838, 3: 1.1863495838287752, 4: 0.3740000749709488}\n",
            "Number of training examples: 74829\n",
            "Epoch 1/20\n",
            "468/468 [==============================] - 56s 120ms/step - loss: 1.3122 - categorical_accuracy: 0.4805 - val_loss: 1.2074 - val_categorical_accuracy: 0.4566 - lr: 0.0100\n",
            "Epoch 2/20\n",
            "468/468 [==============================] - 56s 119ms/step - loss: 1.1304 - categorical_accuracy: 0.5812 - val_loss: 0.9801 - val_categorical_accuracy: 0.5853 - lr: 0.0100\n",
            "Epoch 3/20\n",
            "468/468 [==============================] - 55s 118ms/step - loss: 1.0697 - categorical_accuracy: 0.6007 - val_loss: 1.0317 - val_categorical_accuracy: 0.5800 - lr: 0.0100\n",
            "Epoch 4/20\n",
            "468/468 [==============================] - 55s 118ms/step - loss: 0.9923 - categorical_accuracy: 0.6223 - val_loss: 1.1902 - val_categorical_accuracy: 0.4829 - lr: 0.0100\n",
            "Epoch 5/20\n",
            "468/468 [==============================] - 55s 118ms/step - loss: 0.9319 - categorical_accuracy: 0.6361 - val_loss: 1.2694 - val_categorical_accuracy: 0.4836 - lr: 0.0100\n",
            "Epoch 6/20\n",
            "468/468 [==============================] - ETA: 0s - loss: 0.8685 - categorical_accuracy: 0.6558Restoring model weights from the end of the best epoch.\n",
            "468/468 [==============================] - 55s 118ms/step - loss: 0.8685 - categorical_accuracy: 0.6558 - val_loss: 1.1448 - val_categorical_accuracy: 0.5425 - lr: 0.0100\n",
            "Epoch 00006: early stopping\n"
          ],
          "name": "stdout"
        }
      ]
    },
    {
      "cell_type": "code",
      "metadata": {
        "id": "2VHBrsPjJXiS",
        "colab_type": "code",
        "colab": {
          "base_uri": "https://localhost:8080/",
          "height": 1000
        },
        "outputId": "61d708df-c9dc-474e-ef59-9c21b437e117"
      },
      "source": [
        "\n",
        "scores = mw.evaluate(X_test, y_test)\n",
        "print(\"Accuracy: %.2f%%\" % (mw.scores[1]*100))\n",
        "\n",
        "\n",
        "\n",
        "pu.plot_network_history(mw.network_history, \"categorical_accuracy\", \"val_categorical_accuracy\")\n",
        "plt.show()\n",
        "\n",
        "print(\"\\nConfusion Matrix\")\n",
        "print(mw.confusion_matrix)\n",
        "\n",
        "print(\"\\nClassification Report\")\n",
        "print(mw.classification_report)\n",
        "\n",
        "fig = plt.figure(figsize=(5,5))\n",
        "pu.plot_roc_auc(mw.model_name, mw.roc_auc, mw.fpr, mw.tpr)\n",
        "\n"
      ],
      "execution_count": 11,
      "outputs": [
        {
          "output_type": "stream",
          "text": [
            "Number of test: 24943\n",
            "Running model.evaluate...\n",
            "780/780 [==============================] - 2s 3ms/step - loss: 0.9732 - categorical_accuracy: 0.5886\n",
            "Running model.predict...\n",
            "Unencode predictions...\n",
            "Generating confusion matrix...\n",
            "Calculating ROC AUC...\n",
            "(24943, 5)\n",
            "Getting classification report...\n",
            "Accuracy: 58.86%\n"
          ],
          "name": "stdout"
        },
        {
          "output_type": "display_data",
          "data": {
            "image/png": "[encoded data removed]",
            "text/plain": [
              "<Figure size 720x360 with 2 Axes>"
            ]
          },
          "metadata": {
            "tags": []
          }
        },
        {
          "output_type": "stream",
          "text": [
            "\n",
            "Confusion Matrix\n",
            "[[ 1091  1463   514   165   171]\n",
            " [  176   632   472   269   101]\n",
            " [   74   428   713   898   273]\n",
            " [   17   135   474  1874  1692]\n",
            " [   45   177   522  2195 10372]]\n",
            "\n",
            "Classification Report\n",
            "              precision    recall  f1-score   support\n",
            "\n",
            "           1       0.78      0.32      0.45      3404\n",
            "           2       0.22      0.38      0.28      1650\n",
            "           3       0.26      0.30      0.28      2386\n",
            "           4       0.35      0.45      0.39      4192\n",
            "           5       0.82      0.78      0.80     13311\n",
            "\n",
            "    accuracy                           0.59     24943\n",
            "   macro avg       0.49      0.45      0.44     24943\n",
            "weighted avg       0.64      0.59      0.60     24943\n",
            "\n"
          ],
          "name": "stdout"
        },
        {
          "output_type": "stream",
          "text": [
            "drive/My Drive/Springboard/capstone/util/plot_util.py:267: MatplotlibDeprecationWarning: The 'withdash' parameter of text() is deprecated since Matplotlib 3.1 and will be removed in 3.3.  If any parameter follows 'withdash', they should be pass as keyword, not positionally.\n",
            "  withdash=True)\n",
            "drive/My Drive/Springboard/capstone/util/plot_util.py:267: MatplotlibDeprecationWarning: \n",
            "The TextWithDash class was deprecated in Matplotlib 3.1 and will be removed in 3.3. Use Annotation instead.\n",
            "  withdash=True)\n",
            "drive/My Drive/Springboard/capstone/util/plot_util.py:271: MatplotlibDeprecationWarning: The 'withdash' parameter of text() is deprecated since Matplotlib 3.1 and will be removed in 3.3.  If any parameter follows 'withdash', they should be pass as keyword, not positionally.\n",
            "  withdash=True)\n",
            "drive/My Drive/Springboard/capstone/util/plot_util.py:271: MatplotlibDeprecationWarning: \n",
            "The TextWithDash class was deprecated in Matplotlib 3.1 and will be removed in 3.3. Use Annotation instead.\n",
            "  withdash=True)\n",
            "drive/My Drive/Springboard/capstone/util/plot_util.py:275: MatplotlibDeprecationWarning: The 'withdash' parameter of text() is deprecated since Matplotlib 3.1 and will be removed in 3.3.  If any parameter follows 'withdash', they should be pass as keyword, not positionally.\n",
            "  withdash=True)\n",
            "drive/My Drive/Springboard/capstone/util/plot_util.py:275: MatplotlibDeprecationWarning: \n",
            "The TextWithDash class was deprecated in Matplotlib 3.1 and will be removed in 3.3. Use Annotation instead.\n",
            "  withdash=True)\n"
          ],
          "name": "stderr"
        },
        {
          "output_type": "display_data",
          "data": {
            "image/png": "[encoded data removed]",
            "text/plain": [
              "<Figure size 360x360 with 1 Axes>"
            ]
          },
          "metadata": {
            "tags": []
          }
        }
      ]
    },
    {
      "cell_type": "code",
      "metadata": {
        "id": "uB28-_Bdo7Mj",
        "colab_type": "code",
        "colab": {
          "base_uri": "https://localhost:8080/",
          "height": 69
        },
        "outputId": "8d0cbf8b-9a83-483c-a943-ce2e20659de3"
      },
      "source": [
        "print(f'Overall Score: {ru.calculate_metric(mw.crd)}')"
      ],
      "execution_count": 12,
      "outputs": [
        {
          "output_type": "stream",
          "text": [
            "INFO:util.report_util:calculating metric from dictionary\n",
            "INFO:util.report_util:got all values to calculate\n"
          ],
          "name": "stderr"
        },
        {
          "output_type": "stream",
          "text": [
            "Overall Score: 0.3990467709206966\n"
          ],
          "name": "stdout"
        }
      ]
    },
    {
      "cell_type": "markdown",
      "metadata": {
        "id": "VQ4GRUTq6t6e",
        "colab_type": "text"
      },
      "source": [
        "**Save off various files**"
      ]
    },
    {
      "cell_type": "code",
      "metadata": {
        "id": "VjW8V1MR61kJ",
        "colab_type": "code",
        "colab": {
          "base_uri": "https://localhost:8080/",
          "height": 210
        },
        "outputId": "4600395d-f33b-4014-b68c-ae5f947e7424"
      },
      "source": [
        "\n",
        "mw.save(DRIVE_DIR, append_report=True)\n"
      ],
      "execution_count": 13,
      "outputs": [
        {
          "output_type": "stream",
          "text": [
            "description: CNNB32-1x32-embedding_random-sampling_none-99772-100-review_body\n",
            "Saving to report file: drive/My Drive/Springboard/capstone//reports/dl_prototype-report.csv\n",
            "Loading to append to: drive/My Drive/Springboard/capstone//reports/dl_prototype-report.csv\n",
            "{'model_name': 'CNNB32', 'architecture': '1x32', 'description': '1 Layer CNN with 32 filters, kernel size 3 (balanced weights)', 'feature_column': '{\"1\": {\"precision\": 0.7776193870277975, \"recall\": 0.3205052878965922, \"f1-score\": 0.45392136467651334, \"support\": 3404}, \"2\": {\"precision\": 0.22292768959435627, \"recall\": 0.38303030303030305, \"f1-score\": 0.28182831661092533, \"support\": 1650}, \"3\": {\"precision\": 0.26456400742115027, \"recall\": 0.298826487845767, \"f1-score\": 0.28065341468214916, \"support\": 2386}, \"4\": {\"precision\": 0.34697278281799665, \"recall\": 0.4470419847328244, \"f1-score\": 0.39070155321588657, \"support\": 4192}, \"5\": {\"precision\": 0.8225870410024586, \"recall\": 0.7792051686575013, \"f1-score\": 0.8003086419753087, \"support\": 13311}, \"accuracy\": 0.5886220582929078, \"macro avg\": {\"precision\": 0.48693418157275187, \"recall\": 0.4457218464325976, \"f1-score\": 0.44148265823215666, \"support\": 24943}, \"weighted avg\": {\"precision\": 0.6434696231943609, \"recall\": 0.5886220582929078, \"f1-score\": 0.6001897662515663, \"support\": 24943}}', 'label_column': '{\"1\": {\"precision\": 0.7776193870277975, \"recall\": 0.3205052878965922, \"f1-score\": 0.45392136467651334, \"support\": 3404}, \"2\": {\"precision\": 0.22292768959435627, \"recall\": 0.38303030303030305, \"f1-score\": 0.28182831661092533, \"support\": 1650}, \"3\": {\"precision\": 0.26456400742115027, \"recall\": 0.298826487845767, \"f1-score\": 0.28065341468214916, \"support\": 2386}, \"4\": {\"precision\": 0.34697278281799665, \"recall\": 0.4470419847328244, \"f1-score\": 0.39070155321588657, \"support\": 4192}, \"5\": {\"precision\": 0.8225870410024586, \"recall\": 0.7792051686575013, \"f1-score\": 0.8003086419753087, \"support\": 13311}, \"accuracy\": 0.5886220582929078, \"macro avg\": {\"precision\": 0.48693418157275187, \"recall\": 0.4457218464325976, \"f1-score\": 0.44148265823215666, \"support\": 24943}, \"weighted avg\": {\"precision\": 0.6434696231943609, \"recall\": 0.5886220582929078, \"f1-score\": 0.6001897662515663, \"support\": 24943}}', 'classification_report': '{\"1\": {\"precision\": 0.7776193870277975, \"recall\": 0.3205052878965922, \"f1-score\": 0.45392136467651334, \"support\": 3404}, \"2\": {\"precision\": 0.22292768959435627, \"recall\": 0.38303030303030305, \"f1-score\": 0.28182831661092533, \"support\": 1650}, \"3\": {\"precision\": 0.26456400742115027, \"recall\": 0.298826487845767, \"f1-score\": 0.28065341468214916, \"support\": 2386}, \"4\": {\"precision\": 0.34697278281799665, \"recall\": 0.4470419847328244, \"f1-score\": 0.39070155321588657, \"support\": 4192}, \"5\": {\"precision\": 0.8225870410024586, \"recall\": 0.7792051686575013, \"f1-score\": 0.8003086419753087, \"support\": 13311}, \"accuracy\": 0.5886220582929078, \"macro avg\": {\"precision\": 0.48693418157275187, \"recall\": 0.4457218464325976, \"f1-score\": 0.44148265823215666, \"support\": 24943}, \"weighted avg\": {\"precision\": 0.6434696231943609, \"recall\": 0.5886220582929078, \"f1-score\": 0.6001897662515663, \"support\": 24943}}', 'roc_auc': '{\"auc_1\": 0.9340186363773003, \"auc_2\": 0.8363930378355312, \"auc_3\": 0.8009575982996378, \"auc_4\": 0.7280925266270621, \"auc_5\": 0.8753158359371618, \"auc_micro\": 0.8792020627621926, \"auc_macro\": 0.8349802114535707}', 'loss': 0.9732328653335571, 'accuracy': 0.5886220335960388, 'confusion_matrix': '[[1091, 1463, 514, 165, 171], [176, 632, 472, 269, 101], [74, 428, 713, 898, 273], [17, 135, 474, 1874, 1692], [45, 177, 522, 2195, 10372]]', 'file': 'drive/My Drive/Springboard/capstone/data/amazon_reviews_us_Wireless_v1_00-100k-with_stop_nonlemmatized-preprocessed.csv', 'network_history_file': 'drive/My Drive/Springboard/capstone//reports/CNNB32-1x32-embedding_random-sampling_none-99772-100-review_body-history.pkl', 'tokenizer_file': 'drive/My Drive/Springboard/capstone//models/CNNB32-1x32-embedding_random-sampling_none-99772-100-review_body-tokenizer.pkl', 'max_sequence_length': 100, 'batch_size': 128, 'epochs': 6, 'feature_set_name': 'embedding_random', 'class_weight': '{\"0\": 1.436084922634041, \"1\": 3.0525317423894753, \"2\": 2.1770019637791838, \"3\": 1.1863495838287752, \"4\": 0.3740000749709488}', 'sampling_type': 'none', 'embedding': 300, 'model_file': 'drive/My Drive/Springboard/capstone//models/CNNB32-1x32-embedding_random-sampling_none-99772-100-review_body-model.h5', 'model_json_file': 'drive/My Drive/Springboard/capstone//models/CNNB32-1x32-embedding_random-sampling_none-99772-100-review_body-model.json', 'weights_file': 'drive/My Drive/Springboard/capstone//models/CNNB32-1x32-embedding_random-sampling_none-99772-100-review_body-weights.h5', 'test_examples': 24943, 'test_features': 100, 'train_examples': 74829, 'train_features': 100, 'train_time_min': 6.79, 'evaluate_time_min': 0.05, 'predict_time_min': 0.03, 'status': 'success', 'status_date': '2020-05-01 10:24:04'}\n",
            "Saving report file...\n",
            "Saving json config file: drive/My Drive/Springboard/capstone//models/CNNB32-1x32-embedding_random-sampling_none-99772-100-review_body-model.json\n",
            "Saving weights file: drive/My Drive/Springboard/capstone//models/CNNB32-1x32-embedding_random-sampling_none-99772-100-review_body-weights.h5\n",
            "Saving history file: drive/My Drive/Springboard/capstone//reports/CNNB32-1x32-embedding_random-sampling_none-99772-100-review_body-history.pkl\n",
            "Saving model file: drive/My Drive/Springboard/capstone//models/CNNB32-1x32-embedding_random-sampling_none-99772-100-review_body-model.h5\n"
          ],
          "name": "stdout"
        },
        {
          "output_type": "stream",
          "text": [
            "INFO:util.keras_util:Saving tokenizer file: drive/My Drive/Springboard/capstone//models/CNNB32-1x32-embedding_random-sampling_none-99772-100-review_body-tokenizer.pkl\n"
          ],
          "name": "stderr"
        }
      ]
    },
    {
      "cell_type": "code",
      "metadata": {
        "id": "S0kvbmASiMmF",
        "colab_type": "code",
        "colab": {
          "base_uri": "https://localhost:8080/",
          "height": 52
        },
        "outputId": "60724239-d2ab-485c-a182-6c5e48ee5b79"
      },
      "source": [
        "from tensorflow.keras.models import load_model\n",
        "\n",
        "model_loaded = load_model(mw.model_file)\n",
        "scores = model_loaded.evaluate(X_test, y_test, verbose=1)\n",
        "print(\"Accuracy: %.2f%%\" % (scores[1]*100))\n",
        "\n",
        "# this takes too long for real models\n",
        "if DEBUG == True:\n",
        "  y_predict = model_loaded.predict(X_test)\n",
        "  y_predict_unencoded = ku.unencode(y_predict)\n",
        "  y_test_unencoded = ku.unencode(y_test)\n",
        "\n",
        "  # classification report\n",
        "  print(classification_report(y_test_unencoded, y_predict_unencoded))\n",
        "\n",
        "  # confusion matrix\n",
        "  print(confusion_matrix(y_test_unencoded, y_predict_unencoded))\n"
      ],
      "execution_count": 14,
      "outputs": [
        {
          "output_type": "stream",
          "text": [
            "780/780 [==============================] - 2s 3ms/step - loss: 0.9732 - categorical_accuracy: 0.5886\n",
            "Accuracy: 58.86%\n"
          ],
          "name": "stdout"
        }
      ]
    },
    {
      "cell_type": "code",
      "metadata": {
        "id": "GjVjezXPJXin",
        "colab_type": "code",
        "colab": {
          "base_uri": "https://localhost:8080/",
          "height": 86
        },
        "outputId": "97ea9b62-0fb9-4fbc-cae3-ca35b5e41fd5"
      },
      "source": [
        "end_time = datetime.now()\n",
        "print(f'Start Time: {start_time}\\n' \\\n",
        "      f'End Time: {end_time}\\n' \\\n",
        "      f'Total Duration: {round((end_time - start_time).total_seconds() / 60, 2)} mins')\n",
        "print(datetime.now())"
      ],
      "execution_count": 15,
      "outputs": [
        {
          "output_type": "stream",
          "text": [
            "Start Time: 2020-05-01 10:18:06.172869\n",
            "End Time: 2020-05-01 10:24:09.134562\n",
            "Total Duration: 6.05 mins\n",
            "2020-05-01 10:24:09.134717\n"
          ],
          "name": "stdout"
        }
      ]
    },
    {
      "cell_type": "code",
      "metadata": {
        "id": "wSV9DYUgNHwo",
        "colab_type": "code",
        "colab": {}
      },
      "source": [
        ""
      ],
      "execution_count": 0,
      "outputs": []
    }
  ]
}