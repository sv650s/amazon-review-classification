{
  "nbformat": 4,
  "nbformat_minor": 0,
  "metadata": {
    "hide_input": false,
    "kernelspec": {
      "name": "python3",
      "display_name": "Python 3"
    },
    "language_info": {
      "codemirror_mode": {
        "name": "ipython",
        "version": 3
      },
      "file_extension": ".py",
      "mimetype": "text/x-python",
      "name": "python",
      "nbconvert_exporter": "python",
      "pygments_lexer": "ipython3",
      "version": "3.7.3"
    },
    "colab": {
      "name": "1.0-DNN_2_.6x.6-norm_none-tfidf-200k-prototype.ipynb",
      "provenance": [],
      "collapsed_sections": [],
      "machine_shape": "hm",
      "include_colab_link": true
    },
    "accelerator": "GPU"
  },
  "cells": [
    {
      "cell_type": "markdown",
      "metadata": {
        "id": "view-in-github",
        "colab_type": "text"
      },
      "source": [
        "<a href=\"https://colab.research.google.com/github/sv650s/amazon-review-classification/blob/master/notebooks/deep_learning/1.0-DNN_2_.6x.6-norm_none-tfidf-200k-prototype.ipynb\" target=\"_parent\"><img src=\"https://colab.research.google.com/assets/colab-badge.svg\" alt=\"Open In Colab\"/></a>"
      ]
    },
    {
      "cell_type": "markdown",
      "metadata": {
        "id": "lbCz80nowIiZ",
        "colab_type": "text"
      },
      "source": [
        "# 2 Layer DNN TFIDF Prototype\n",
        "\n",
        "Trying out a 2 layer network using word2vec average embedding. Embedding was creating with word_context == 5\n",
        "Recommendation that I read for NN is the number of neurons should not exceed 2/3 of the number of features which would be around 340 for 512 features\n",
        "\n",
        "\n",
        "\n",
        "Number of hidden layers guidelines:\n",
        "\n",
        "* none - Only capable of representing linear separable functions or decisions.\n",
        "* 1\t- Can approximate any function that contains a continuous mapping from one finite space to another.\n",
        "* 2\t- Can represent an arbitrary decision boundary to arbitrary accuracy with rational activation functions and can approximate any smooth mapping to any accuracy.\n",
        "* 2+ - Additional layers can learn complex representations (sort of automatic feature engineering) for layer layers.\n",
        "\n",
        "\n",
        "Hidden units guidelines:\n",
        "\n",
        "* The number of hidden neurons should be between the size of the input layer and the size of the output layer.\n",
        "* The number of hidden neurons should be 2/3 the size of the input layer, plus the size of the output layer.\n",
        "* The number of hidden neurons should be less than twice the size of the input layer.\n",
        "\n",
        "https://www.heatonresearch.com/2017/06/01/hidden-layers.html\n",
        "\n",
        "\n",
        "Since our decision boundaries do not look linear, I have chosen to use 2 hidden layers. For each layer, there is the same number of hiddent units (10k) as input features.\n",
        "\n",
        "Number of samples: 50k\n",
        "\n"
      ]
    },
    {
      "cell_type": "code",
      "metadata": {
        "id": "Dh6ie2wHy64N",
        "colab_type": "code",
        "outputId": "3913af33-ec79-40c8-d30d-daf479d6d42b",
        "colab": {
          "base_uri": "https://localhost:8080/",
          "height": 156
        }
      },
      "source": [
        "from google.colab import drive\n",
        "drive.mount('/content/drive')\n",
        "\n",
        "import sys\n",
        "DRIVE_DIR = \"drive/My Drive/Springboard/capstone\"\n",
        "sys.path.append(DRIVE_DIR)\n",
        "\n",
        "\n",
        "%tensorflow_version 2.x\n",
        "\n",
        "\n",
        "import tensorflow as tf\n",
        "# checl to make sure we are using GPU here\n",
        "tf.test.gpu_device_name()"
      ],
      "execution_count": 0,
      "outputs": [
        {
          "output_type": "stream",
          "text": [
            "Go to this URL in a browser: https://accounts.google.com/o/oauth2/auth?client_id=947318989803-6bn6qk8qdgf4n4g3pfee6491hc0brc4i.apps.googleusercontent.com&redirect_uri=urn%3Aietf%3Awg%3Aoauth%3A2.0%3Aoob&scope=email%20https%3A%2F%2Fwww.googleapis.com%2Fauth%2Fdocs.test%20https%3A%2F%2Fwww.googleapis.com%2Fauth%2Fdrive%20https%3A%2F%2Fwww.googleapis.com%2Fauth%2Fdrive.photos.readonly%20https%3A%2F%2Fwww.googleapis.com%2Fauth%2Fpeopleapi.readonly&response_type=code\n",
            "\n",
            "Enter your authorization code:\n",
            "··········\n",
            "Mounted at /content/drive\n",
            "TensorFlow 2.x selected.\n"
          ],
          "name": "stdout"
        },
        {
          "output_type": "execute_result",
          "data": {
            "text/plain": [
              "'/device:GPU:0'"
            ]
          },
          "metadata": {
            "tags": []
          },
          "execution_count": 1
        }
      ]
    },
    {
      "cell_type": "code",
      "metadata": {
        "id": "wCgiR6gSwIic",
        "colab_type": "code",
        "outputId": "1f3ea3b4-9056-494e-8a34-4dc82f026f10",
        "colab": {
          "base_uri": "https://localhost:8080/",
          "height": 34
        }
      },
      "source": [
        "import tensorflow as tf\n",
        "from tensorflow.keras.models import Sequential\n",
        "from tensorflow.keras.layers import Dense, Activation, Dropout\n",
        "from tensorflow.keras.layers import BatchNormalization\n",
        "from tensorflow.keras.callbacks import EarlyStopping, ReduceLROnPlateau\n",
        "from tensorflow.keras.models import load_model\n",
        "from tensorflow.keras.optimizers import SGD\n",
        "import tensorflow.keras as K\n",
        "\n",
        "from sklearn.model_selection import train_test_split\n",
        "from sklearn.preprocessing import OneHotEncoder\n",
        "from sklearn.metrics import confusion_matrix, classification_report\n",
        "import pandas as pd\n",
        "import importlib\n",
        "from IPython.display import SVG\n",
        "from keras.utils.vis_utils import model_to_dot\n",
        "from util import dict_util as du\n",
        "from util import file_util as fu\n",
        "from util import plot_util as pu\n",
        "from util import keras_util as ku\n",
        "import util.report_util as ru\n",
        "\n",
        "\n",
        "import pickle\n",
        "import json\n",
        "from datetime import datetime\n",
        "import os\n",
        "\n",
        "import matplotlib.pyplot as plt\n",
        "import seaborn as sns\n",
        "import logging\n",
        "\n",
        "logging.basicConfig(level=logging.INFO)\n",
        "\n",
        "%matplotlib inline\n",
        "sns.set()"
      ],
      "execution_count": 0,
      "outputs": [
        {
          "output_type": "stream",
          "text": [
            "Using TensorFlow backend.\n"
          ],
          "name": "stderr"
        }
      ]
    },
    {
      "cell_type": "code",
      "metadata": {
        "id": "cu2OWgeVwIig",
        "colab_type": "code",
        "colab": {}
      },
      "source": [
        "DATE_FORMAT = '%Y-%m-%d'\n",
        "TIME_FORMAT = '%Y-%m-%d %H:%M:%S'\n",
        "DATA_DIR = f\"{DRIVE_DIR}/data\"\n",
        "LABEL_COLUMN = \"star_rating\"\n",
        "FEATURE_COLUMN = \"review_body\"\n",
        "RSTATE = 1\n",
        "# there is no embeddings used for this model\n",
        "EPOCH=50\n",
        "BATCH_SIZE = 128\n",
        "EMBED_SIZE = 300\n",
        "PATIENCE=8\n",
        "\n",
        "DEBUG = False\n",
        "\n",
        "MODEL_NAME = \"DNN\"\n",
        "ARCHITECTURE = \"2_.6x_.6x\"\n",
        "if DEBUG:\n",
        "  DATA_FILE = f'{DATA_DIR}/review_body-word2vec-df_none-ngram_none-89-100-nolda.csv'\n",
        "else:\n",
        "  # DATA_FILE = f'{DATA_DIR}/review_body-word2vec-df_none-ngram_none-47523-1000-nolda.csv'\n",
        "  DATA_FILE = f'{DATA_DIR}/review_body-tfidf-df_none-ngram13-199134-4000-nolda.csv'\n",
        "\n",
        "directory, INBASENAME = fu.get_dir_basename(DATA_FILE)\n",
        "DESCRIPTION = f\"{MODEL_NAME}-{ARCHITECTURE}-batch_none-tfidf-sampling_none-{FEATURE_COLUMN}\"\n"
      ],
      "execution_count": 0,
      "outputs": []
    },
    {
      "cell_type": "code",
      "metadata": {
        "hide_input": false,
        "id": "EsSlqc4DwIij",
        "colab_type": "code",
        "colab": {}
      },
      "source": [
        "df = pd.read_csv(f\"{DATA_FILE}\")\n",
        "rating = df[LABEL_COLUMN]\n",
        "df = df.drop(columns=[\"helpful_votes\", \"total_votes\", \"helpful_product\", \"star_rating\"])"
      ],
      "execution_count": 0,
      "outputs": []
    },
    {
      "cell_type": "code",
      "metadata": {
        "id": "bLSHSo2mwIil",
        "colab_type": "code",
        "outputId": "c2e3383e-a7e8-4c8f-d51f-8378de846028",
        "colab": {
          "base_uri": "https://localhost:8080/",
          "height": 287
        }
      },
      "source": [
        "df.head()"
      ],
      "execution_count": 0,
      "outputs": [
        {
          "output_type": "execute_result",
          "data": {
            "text/html": [
              "<div>\n",
              "<style scoped>\n",
              "    .dataframe tbody tr th:only-of-type {\n",
              "        vertical-align: middle;\n",
              "    }\n",
              "\n",
              "    .dataframe tbody tr th {\n",
              "        vertical-align: top;\n",
              "    }\n",
              "\n",
              "    .dataframe thead th {\n",
              "        text-align: right;\n",
              "    }\n",
              "</style>\n",
              "<table border=\"1\" class=\"dataframe\">\n",
              "  <thead>\n",
              "    <tr style=\"text-align: right;\">\n",
              "      <th></th>\n",
              "      <th>ability</th>\n",
              "      <th>able</th>\n",
              "      <th>able charge</th>\n",
              "      <th>able get</th>\n",
              "      <th>able use</th>\n",
              "      <th>absolute</th>\n",
              "      <th>absolutely</th>\n",
              "      <th>absolutely love</th>\n",
              "      <th>absolutely love case</th>\n",
              "      <th>absolutely no</th>\n",
              "      <th>abuse</th>\n",
              "      <th>ac</th>\n",
              "      <th>accept</th>\n",
              "      <th>acceptable</th>\n",
              "      <th>access</th>\n",
              "      <th>accessible</th>\n",
              "      <th>accessory</th>\n",
              "      <th>accident</th>\n",
              "      <th>accidentally</th>\n",
              "      <th>according</th>\n",
              "      <th>account</th>\n",
              "      <th>accuracy</th>\n",
              "      <th>accurate</th>\n",
              "      <th>across</th>\n",
              "      <th>act</th>\n",
              "      <th>action</th>\n",
              "      <th>activate</th>\n",
              "      <th>activated</th>\n",
              "      <th>active</th>\n",
              "      <th>activity</th>\n",
              "      <th>actual</th>\n",
              "      <th>actually</th>\n",
              "      <th>actually work</th>\n",
              "      <th>ad</th>\n",
              "      <th>adapter</th>\n",
              "      <th>adaptor</th>\n",
              "      <th>add</th>\n",
              "      <th>add bulk</th>\n",
              "      <th>add much</th>\n",
              "      <th>added</th>\n",
              "      <th>...</th>\n",
              "      <th>would probably</th>\n",
              "      <th>would purchase</th>\n",
              "      <th>would rather</th>\n",
              "      <th>would recommend</th>\n",
              "      <th>would recommend anyone</th>\n",
              "      <th>would recommend case</th>\n",
              "      <th>would recommend product</th>\n",
              "      <th>would say</th>\n",
              "      <th>would still</th>\n",
              "      <th>would suggest</th>\n",
              "      <th>would take</th>\n",
              "      <th>would think</th>\n",
              "      <th>would work</th>\n",
              "      <th>wouldnt</th>\n",
              "      <th>wow</th>\n",
              "      <th>wrap</th>\n",
              "      <th>wrap around</th>\n",
              "      <th>wrist</th>\n",
              "      <th>write</th>\n",
              "      <th>write review</th>\n",
              "      <th>writing</th>\n",
              "      <th>written</th>\n",
              "      <th>wrong</th>\n",
              "      <th>wrote</th>\n",
              "      <th>xm</th>\n",
              "      <th>yeah</th>\n",
              "      <th>year</th>\n",
              "      <th>year ago</th>\n",
              "      <th>year old</th>\n",
              "      <th>year still</th>\n",
              "      <th>yellow</th>\n",
              "      <th>yes</th>\n",
              "      <th>yesterday</th>\n",
              "      <th>yet</th>\n",
              "      <th>youtube</th>\n",
              "      <th>youtube video</th>\n",
              "      <th>yr</th>\n",
              "      <th>zagg</th>\n",
              "      <th>zero</th>\n",
              "      <th>zune</th>\n",
              "    </tr>\n",
              "  </thead>\n",
              "  <tbody>\n",
              "    <tr>\n",
              "      <th>0</th>\n",
              "      <td>0.0</td>\n",
              "      <td>0.00</td>\n",
              "      <td>0.0</td>\n",
              "      <td>0.0</td>\n",
              "      <td>0.0</td>\n",
              "      <td>0.0</td>\n",
              "      <td>0.0</td>\n",
              "      <td>0.0</td>\n",
              "      <td>0.0</td>\n",
              "      <td>0.0</td>\n",
              "      <td>0.0</td>\n",
              "      <td>0.0</td>\n",
              "      <td>0.0</td>\n",
              "      <td>0.0</td>\n",
              "      <td>0.0</td>\n",
              "      <td>0.0</td>\n",
              "      <td>0.0</td>\n",
              "      <td>0.0</td>\n",
              "      <td>0.0</td>\n",
              "      <td>0.0</td>\n",
              "      <td>0.0</td>\n",
              "      <td>0.0</td>\n",
              "      <td>0.0</td>\n",
              "      <td>0.0</td>\n",
              "      <td>0.0</td>\n",
              "      <td>0.0</td>\n",
              "      <td>0.0</td>\n",
              "      <td>0.0</td>\n",
              "      <td>0.0</td>\n",
              "      <td>0.0</td>\n",
              "      <td>0.0</td>\n",
              "      <td>0.0</td>\n",
              "      <td>0.0</td>\n",
              "      <td>0.0</td>\n",
              "      <td>0.0</td>\n",
              "      <td>0.0</td>\n",
              "      <td>0.0</td>\n",
              "      <td>0.0</td>\n",
              "      <td>0.0</td>\n",
              "      <td>0.0</td>\n",
              "      <td>...</td>\n",
              "      <td>0.0</td>\n",
              "      <td>0.0</td>\n",
              "      <td>0.0</td>\n",
              "      <td>0.0</td>\n",
              "      <td>0.0</td>\n",
              "      <td>0.0</td>\n",
              "      <td>0.0</td>\n",
              "      <td>0.0</td>\n",
              "      <td>0.0</td>\n",
              "      <td>0.0</td>\n",
              "      <td>0.0</td>\n",
              "      <td>0.0</td>\n",
              "      <td>0.0</td>\n",
              "      <td>0.0</td>\n",
              "      <td>0.0</td>\n",
              "      <td>0.0</td>\n",
              "      <td>0.0</td>\n",
              "      <td>0.0</td>\n",
              "      <td>0.0</td>\n",
              "      <td>0.0</td>\n",
              "      <td>0.0</td>\n",
              "      <td>0.0</td>\n",
              "      <td>0.0</td>\n",
              "      <td>0.0</td>\n",
              "      <td>0.0</td>\n",
              "      <td>0.0</td>\n",
              "      <td>0.0</td>\n",
              "      <td>0.0</td>\n",
              "      <td>0.0</td>\n",
              "      <td>0.0</td>\n",
              "      <td>0.0</td>\n",
              "      <td>0.0</td>\n",
              "      <td>0.0</td>\n",
              "      <td>0.0</td>\n",
              "      <td>0.0</td>\n",
              "      <td>0.0</td>\n",
              "      <td>0.0</td>\n",
              "      <td>0.0</td>\n",
              "      <td>0.0</td>\n",
              "      <td>0.0</td>\n",
              "    </tr>\n",
              "    <tr>\n",
              "      <th>1</th>\n",
              "      <td>0.0</td>\n",
              "      <td>0.00</td>\n",
              "      <td>0.0</td>\n",
              "      <td>0.0</td>\n",
              "      <td>0.0</td>\n",
              "      <td>0.0</td>\n",
              "      <td>0.0</td>\n",
              "      <td>0.0</td>\n",
              "      <td>0.0</td>\n",
              "      <td>0.0</td>\n",
              "      <td>0.0</td>\n",
              "      <td>0.0</td>\n",
              "      <td>0.0</td>\n",
              "      <td>0.0</td>\n",
              "      <td>0.0</td>\n",
              "      <td>0.0</td>\n",
              "      <td>0.0</td>\n",
              "      <td>0.0</td>\n",
              "      <td>0.0</td>\n",
              "      <td>0.0</td>\n",
              "      <td>0.0</td>\n",
              "      <td>0.0</td>\n",
              "      <td>0.0</td>\n",
              "      <td>0.0</td>\n",
              "      <td>0.0</td>\n",
              "      <td>0.0</td>\n",
              "      <td>0.0</td>\n",
              "      <td>0.0</td>\n",
              "      <td>0.0</td>\n",
              "      <td>0.0</td>\n",
              "      <td>0.0</td>\n",
              "      <td>0.0</td>\n",
              "      <td>0.0</td>\n",
              "      <td>0.0</td>\n",
              "      <td>0.0</td>\n",
              "      <td>0.0</td>\n",
              "      <td>0.0</td>\n",
              "      <td>0.0</td>\n",
              "      <td>0.0</td>\n",
              "      <td>0.0</td>\n",
              "      <td>...</td>\n",
              "      <td>0.0</td>\n",
              "      <td>0.0</td>\n",
              "      <td>0.0</td>\n",
              "      <td>0.0</td>\n",
              "      <td>0.0</td>\n",
              "      <td>0.0</td>\n",
              "      <td>0.0</td>\n",
              "      <td>0.0</td>\n",
              "      <td>0.0</td>\n",
              "      <td>0.0</td>\n",
              "      <td>0.0</td>\n",
              "      <td>0.0</td>\n",
              "      <td>0.0</td>\n",
              "      <td>0.0</td>\n",
              "      <td>0.0</td>\n",
              "      <td>0.0</td>\n",
              "      <td>0.0</td>\n",
              "      <td>0.0</td>\n",
              "      <td>0.0</td>\n",
              "      <td>0.0</td>\n",
              "      <td>0.0</td>\n",
              "      <td>0.0</td>\n",
              "      <td>0.0</td>\n",
              "      <td>0.0</td>\n",
              "      <td>0.0</td>\n",
              "      <td>0.0</td>\n",
              "      <td>0.0</td>\n",
              "      <td>0.0</td>\n",
              "      <td>0.0</td>\n",
              "      <td>0.0</td>\n",
              "      <td>0.0</td>\n",
              "      <td>0.0</td>\n",
              "      <td>0.0</td>\n",
              "      <td>0.0</td>\n",
              "      <td>0.0</td>\n",
              "      <td>0.0</td>\n",
              "      <td>0.0</td>\n",
              "      <td>0.0</td>\n",
              "      <td>0.0</td>\n",
              "      <td>0.0</td>\n",
              "    </tr>\n",
              "    <tr>\n",
              "      <th>2</th>\n",
              "      <td>0.0</td>\n",
              "      <td>0.00</td>\n",
              "      <td>0.0</td>\n",
              "      <td>0.0</td>\n",
              "      <td>0.0</td>\n",
              "      <td>0.0</td>\n",
              "      <td>0.0</td>\n",
              "      <td>0.0</td>\n",
              "      <td>0.0</td>\n",
              "      <td>0.0</td>\n",
              "      <td>0.0</td>\n",
              "      <td>0.0</td>\n",
              "      <td>0.0</td>\n",
              "      <td>0.0</td>\n",
              "      <td>0.0</td>\n",
              "      <td>0.0</td>\n",
              "      <td>0.0</td>\n",
              "      <td>0.0</td>\n",
              "      <td>0.0</td>\n",
              "      <td>0.0</td>\n",
              "      <td>0.0</td>\n",
              "      <td>0.0</td>\n",
              "      <td>0.0</td>\n",
              "      <td>0.0</td>\n",
              "      <td>0.0</td>\n",
              "      <td>0.0</td>\n",
              "      <td>0.0</td>\n",
              "      <td>0.0</td>\n",
              "      <td>0.0</td>\n",
              "      <td>0.0</td>\n",
              "      <td>0.0</td>\n",
              "      <td>0.0</td>\n",
              "      <td>0.0</td>\n",
              "      <td>0.0</td>\n",
              "      <td>0.0</td>\n",
              "      <td>0.0</td>\n",
              "      <td>0.0</td>\n",
              "      <td>0.0</td>\n",
              "      <td>0.0</td>\n",
              "      <td>0.0</td>\n",
              "      <td>...</td>\n",
              "      <td>0.0</td>\n",
              "      <td>0.0</td>\n",
              "      <td>0.0</td>\n",
              "      <td>0.0</td>\n",
              "      <td>0.0</td>\n",
              "      <td>0.0</td>\n",
              "      <td>0.0</td>\n",
              "      <td>0.0</td>\n",
              "      <td>0.0</td>\n",
              "      <td>0.0</td>\n",
              "      <td>0.0</td>\n",
              "      <td>0.0</td>\n",
              "      <td>0.0</td>\n",
              "      <td>0.0</td>\n",
              "      <td>0.0</td>\n",
              "      <td>0.0</td>\n",
              "      <td>0.0</td>\n",
              "      <td>0.0</td>\n",
              "      <td>0.0</td>\n",
              "      <td>0.0</td>\n",
              "      <td>0.0</td>\n",
              "      <td>0.0</td>\n",
              "      <td>0.0</td>\n",
              "      <td>0.0</td>\n",
              "      <td>0.0</td>\n",
              "      <td>0.0</td>\n",
              "      <td>0.0</td>\n",
              "      <td>0.0</td>\n",
              "      <td>0.0</td>\n",
              "      <td>0.0</td>\n",
              "      <td>0.0</td>\n",
              "      <td>0.0</td>\n",
              "      <td>0.0</td>\n",
              "      <td>0.0</td>\n",
              "      <td>0.0</td>\n",
              "      <td>0.0</td>\n",
              "      <td>0.0</td>\n",
              "      <td>0.0</td>\n",
              "      <td>0.0</td>\n",
              "      <td>0.0</td>\n",
              "    </tr>\n",
              "    <tr>\n",
              "      <th>3</th>\n",
              "      <td>0.0</td>\n",
              "      <td>0.22</td>\n",
              "      <td>0.0</td>\n",
              "      <td>0.0</td>\n",
              "      <td>0.0</td>\n",
              "      <td>0.0</td>\n",
              "      <td>0.0</td>\n",
              "      <td>0.0</td>\n",
              "      <td>0.0</td>\n",
              "      <td>0.0</td>\n",
              "      <td>0.0</td>\n",
              "      <td>0.0</td>\n",
              "      <td>0.0</td>\n",
              "      <td>0.0</td>\n",
              "      <td>0.0</td>\n",
              "      <td>0.0</td>\n",
              "      <td>0.0</td>\n",
              "      <td>0.0</td>\n",
              "      <td>0.0</td>\n",
              "      <td>0.0</td>\n",
              "      <td>0.0</td>\n",
              "      <td>0.0</td>\n",
              "      <td>0.0</td>\n",
              "      <td>0.0</td>\n",
              "      <td>0.0</td>\n",
              "      <td>0.0</td>\n",
              "      <td>0.0</td>\n",
              "      <td>0.0</td>\n",
              "      <td>0.0</td>\n",
              "      <td>0.0</td>\n",
              "      <td>0.0</td>\n",
              "      <td>0.0</td>\n",
              "      <td>0.0</td>\n",
              "      <td>0.0</td>\n",
              "      <td>0.0</td>\n",
              "      <td>0.0</td>\n",
              "      <td>0.0</td>\n",
              "      <td>0.0</td>\n",
              "      <td>0.0</td>\n",
              "      <td>0.0</td>\n",
              "      <td>...</td>\n",
              "      <td>0.0</td>\n",
              "      <td>0.0</td>\n",
              "      <td>0.0</td>\n",
              "      <td>0.0</td>\n",
              "      <td>0.0</td>\n",
              "      <td>0.0</td>\n",
              "      <td>0.0</td>\n",
              "      <td>0.0</td>\n",
              "      <td>0.0</td>\n",
              "      <td>0.0</td>\n",
              "      <td>0.0</td>\n",
              "      <td>0.0</td>\n",
              "      <td>0.0</td>\n",
              "      <td>0.0</td>\n",
              "      <td>0.0</td>\n",
              "      <td>0.0</td>\n",
              "      <td>0.0</td>\n",
              "      <td>0.0</td>\n",
              "      <td>0.0</td>\n",
              "      <td>0.0</td>\n",
              "      <td>0.0</td>\n",
              "      <td>0.0</td>\n",
              "      <td>0.0</td>\n",
              "      <td>0.0</td>\n",
              "      <td>0.0</td>\n",
              "      <td>0.0</td>\n",
              "      <td>0.0</td>\n",
              "      <td>0.0</td>\n",
              "      <td>0.0</td>\n",
              "      <td>0.0</td>\n",
              "      <td>0.0</td>\n",
              "      <td>0.0</td>\n",
              "      <td>0.0</td>\n",
              "      <td>0.0</td>\n",
              "      <td>0.0</td>\n",
              "      <td>0.0</td>\n",
              "      <td>0.0</td>\n",
              "      <td>0.0</td>\n",
              "      <td>0.0</td>\n",
              "      <td>0.0</td>\n",
              "    </tr>\n",
              "    <tr>\n",
              "      <th>4</th>\n",
              "      <td>0.0</td>\n",
              "      <td>0.00</td>\n",
              "      <td>0.0</td>\n",
              "      <td>0.0</td>\n",
              "      <td>0.0</td>\n",
              "      <td>0.0</td>\n",
              "      <td>0.0</td>\n",
              "      <td>0.0</td>\n",
              "      <td>0.0</td>\n",
              "      <td>0.0</td>\n",
              "      <td>0.0</td>\n",
              "      <td>0.0</td>\n",
              "      <td>0.0</td>\n",
              "      <td>0.0</td>\n",
              "      <td>0.0</td>\n",
              "      <td>0.0</td>\n",
              "      <td>0.0</td>\n",
              "      <td>0.0</td>\n",
              "      <td>0.0</td>\n",
              "      <td>0.0</td>\n",
              "      <td>0.0</td>\n",
              "      <td>0.0</td>\n",
              "      <td>0.0</td>\n",
              "      <td>0.0</td>\n",
              "      <td>0.0</td>\n",
              "      <td>0.0</td>\n",
              "      <td>0.0</td>\n",
              "      <td>0.0</td>\n",
              "      <td>0.0</td>\n",
              "      <td>0.0</td>\n",
              "      <td>0.0</td>\n",
              "      <td>0.0</td>\n",
              "      <td>0.0</td>\n",
              "      <td>0.0</td>\n",
              "      <td>0.0</td>\n",
              "      <td>0.0</td>\n",
              "      <td>0.0</td>\n",
              "      <td>0.0</td>\n",
              "      <td>0.0</td>\n",
              "      <td>0.0</td>\n",
              "      <td>...</td>\n",
              "      <td>0.0</td>\n",
              "      <td>0.0</td>\n",
              "      <td>0.0</td>\n",
              "      <td>0.0</td>\n",
              "      <td>0.0</td>\n",
              "      <td>0.0</td>\n",
              "      <td>0.0</td>\n",
              "      <td>0.0</td>\n",
              "      <td>0.0</td>\n",
              "      <td>0.0</td>\n",
              "      <td>0.0</td>\n",
              "      <td>0.0</td>\n",
              "      <td>0.0</td>\n",
              "      <td>0.0</td>\n",
              "      <td>0.0</td>\n",
              "      <td>0.0</td>\n",
              "      <td>0.0</td>\n",
              "      <td>0.0</td>\n",
              "      <td>0.0</td>\n",
              "      <td>0.0</td>\n",
              "      <td>0.0</td>\n",
              "      <td>0.0</td>\n",
              "      <td>0.0</td>\n",
              "      <td>0.0</td>\n",
              "      <td>0.0</td>\n",
              "      <td>0.0</td>\n",
              "      <td>0.0</td>\n",
              "      <td>0.0</td>\n",
              "      <td>0.0</td>\n",
              "      <td>0.0</td>\n",
              "      <td>0.0</td>\n",
              "      <td>0.0</td>\n",
              "      <td>0.0</td>\n",
              "      <td>0.0</td>\n",
              "      <td>0.0</td>\n",
              "      <td>0.0</td>\n",
              "      <td>0.0</td>\n",
              "      <td>0.0</td>\n",
              "      <td>0.0</td>\n",
              "      <td>0.0</td>\n",
              "    </tr>\n",
              "  </tbody>\n",
              "</table>\n",
              "<p>5 rows × 4000 columns</p>\n",
              "</div>"
            ],
            "text/plain": [
              "   ability  able  able charge  able get  ...   yr  zagg  zero  zune\n",
              "0      0.0  0.00          0.0       0.0  ...  0.0   0.0   0.0   0.0\n",
              "1      0.0  0.00          0.0       0.0  ...  0.0   0.0   0.0   0.0\n",
              "2      0.0  0.00          0.0       0.0  ...  0.0   0.0   0.0   0.0\n",
              "3      0.0  0.22          0.0       0.0  ...  0.0   0.0   0.0   0.0\n",
              "4      0.0  0.00          0.0       0.0  ...  0.0   0.0   0.0   0.0\n",
              "\n",
              "[5 rows x 4000 columns]"
            ]
          },
          "metadata": {
            "tags": []
          },
          "execution_count": 5
        }
      ]
    },
    {
      "cell_type": "code",
      "metadata": {
        "id": "2CKvu2yZwIin",
        "colab_type": "code",
        "outputId": "7343e61b-3121-49be-caa7-c737e6ca30d7",
        "colab": {
          "base_uri": "https://localhost:8080/",
          "height": 119
        }
      },
      "source": [
        "rating.head()"
      ],
      "execution_count": 0,
      "outputs": [
        {
          "output_type": "execute_result",
          "data": {
            "text/plain": [
              "0    3\n",
              "1    5\n",
              "2    5\n",
              "3    5\n",
              "4    1\n",
              "Name: star_rating, dtype: int64"
            ]
          },
          "metadata": {
            "tags": []
          },
          "execution_count": 6
        }
      ]
    },
    {
      "cell_type": "code",
      "metadata": {
        "id": "4f4vuyP6wIis",
        "colab_type": "code",
        "colab": {}
      },
      "source": [
        "\n",
        "import keras\n",
        "import numpy as np\n",
        "import sklearn.metrics as sklm\n",
        "\n",
        "\n",
        "\n",
        "model = Sequential()\n",
        "\n",
        "model.add(Dense(2/3 * df.shape[1], input_shape=(df.shape[1],), kernel_initializer='glorot_uniform'))\n",
        "model.add(Activation('relu'))\n",
        "model.add(Dropout(0.2))\n",
        "\n",
        "model.add(Dense(2/3 * df.shape[1], kernel_initializer='glorot_uniform'))\n",
        "model.add(Activation('relu'))\n",
        "model.add(Dropout(0.2))\n",
        "\n",
        "model.add(Dense(5, activation='relu'))\n",
        "model.add(Activation('softmax'))\n",
        "model.compile(optimizer=SGD(), loss='categorical_crossentropy', metrics=['categorical_accuracy'])"
      ],
      "execution_count": 0,
      "outputs": []
    },
    {
      "cell_type": "code",
      "metadata": {
        "id": "n7tm341LwIiu",
        "colab_type": "code",
        "outputId": "5c57b550-8ba1-49e6-e342-2611fa53c16e",
        "colab": {
          "base_uri": "https://localhost:8080/",
          "height": 442
        }
      },
      "source": [
        "print(model.summary())"
      ],
      "execution_count": 0,
      "outputs": [
        {
          "output_type": "stream",
          "text": [
            "Model: \"sequential\"\n",
            "_________________________________________________________________\n",
            "Layer (type)                 Output Shape              Param #   \n",
            "=================================================================\n",
            "dense (Dense)                (None, 2666)              10666666  \n",
            "_________________________________________________________________\n",
            "activation (Activation)      (None, 2666)              0         \n",
            "_________________________________________________________________\n",
            "dropout (Dropout)            (None, 2666)              0         \n",
            "_________________________________________________________________\n",
            "dense_1 (Dense)              (None, 2666)              7110222   \n",
            "_________________________________________________________________\n",
            "activation_1 (Activation)    (None, 2666)              0         \n",
            "_________________________________________________________________\n",
            "dropout_1 (Dropout)          (None, 2666)              0         \n",
            "_________________________________________________________________\n",
            "dense_2 (Dense)              (None, 5)                 13335     \n",
            "_________________________________________________________________\n",
            "activation_2 (Activation)    (None, 5)                 0         \n",
            "=================================================================\n",
            "Total params: 17,790,223\n",
            "Trainable params: 17,790,223\n",
            "Non-trainable params: 0\n",
            "_________________________________________________________________\n",
            "None\n"
          ],
          "name": "stdout"
        }
      ]
    },
    {
      "cell_type": "code",
      "metadata": {
        "id": "Q5BCqturwIiy",
        "colab_type": "code",
        "outputId": "ab333283-3dd8-430e-8eb4-f936d1f7e3f8",
        "colab": {
          "base_uri": "https://localhost:8080/",
          "height": 224
        }
      },
      "source": [
        "# one hot encode rating\n",
        "print(rating.shape)\n",
        "print(type(rating))\n",
        "y = OneHotEncoder().fit_transform(rating.values.reshape(len(rating), 1)).toarray()\n",
        "y[:5]"
      ],
      "execution_count": 0,
      "outputs": [
        {
          "output_type": "stream",
          "text": [
            "(199134,)\n",
            "<class 'pandas.core.series.Series'>\n"
          ],
          "name": "stdout"
        },
        {
          "output_type": "stream",
          "text": [
            "/usr/local/lib/python3.6/dist-packages/sklearn/preprocessing/_encoders.py:415: FutureWarning: The handling of integer data will change in version 0.22. Currently, the categories are determined based on the range [0, max(values)], while in the future they will be determined based on the unique values.\n",
            "If you want the future behaviour and silence this warning, you can specify \"categories='auto'\".\n",
            "In case you used a LabelEncoder before this OneHotEncoder to convert the categories to integers, then you can now use the OneHotEncoder directly.\n",
            "  warnings.warn(msg, FutureWarning)\n"
          ],
          "name": "stderr"
        },
        {
          "output_type": "execute_result",
          "data": {
            "text/plain": [
              "array([[0., 0., 1., 0., 0.],\n",
              "       [0., 0., 0., 0., 1.],\n",
              "       [0., 0., 0., 0., 1.],\n",
              "       [0., 0., 0., 0., 1.],\n",
              "       [1., 0., 0., 0., 0.]])"
            ]
          },
          "metadata": {
            "tags": []
          },
          "execution_count": 9
        }
      ]
    },
    {
      "cell_type": "code",
      "metadata": {
        "id": "GrqdTqPzwIi0",
        "colab_type": "code",
        "colab": {}
      },
      "source": [
        "x_train, x_test, y_train, y_test = train_test_split(df, y, random_state=1)"
      ],
      "execution_count": 0,
      "outputs": []
    },
    {
      "cell_type": "code",
      "metadata": {
        "id": "kpZQI3H8_PW0",
        "colab_type": "code",
        "colab": {}
      },
      "source": [
        ""
      ],
      "execution_count": 0,
      "outputs": []
    },
    {
      "cell_type": "code",
      "metadata": {
        "scrolled": false,
        "id": "HhPZ42fMwIi2",
        "colab_type": "code",
        "outputId": "0570735a-54a4-4342-820e-92f5724bc116",
        "colab": {
          "base_uri": "https://localhost:8080/",
          "height": 1000
        }
      },
      "source": [
        "import tensorflow.keras as keras\n",
        "import numpy as np\n",
        "import sklearn.metrics as sklm\n",
        "\n",
        "\n",
        "\n",
        "# reduce learning rate if we sense a plateau\n",
        "reduce_lr = ReduceLROnPlateau(monitor='val_loss', \n",
        "                              factor=0.4,\n",
        "                              patience=PATIENCE, \n",
        "                              min_lr=0.00001,\n",
        "                             mode='auto')\n",
        "early_stop = EarlyStopping(monitor='val_loss', patience=PATIENCE, verbose=1)\n",
        "\n",
        "mw = ku.ModelWrapper(model, MODEL_NAME, LABEL_COLUMN, DATA_FILE, \n",
        "                     embedding=EMBED_SIZE,\n",
        "                     tokenizer=None,\n",
        "                     description=DESCRIPTION)\n",
        "\n",
        "from sklearn.utils.class_weight import compute_class_weight\n",
        "\n",
        "# weights = compute_class_weight('balanced', np.arange(1, 6), rating)\n",
        "# print(f'class weights: {weights}')\n",
        "\n",
        "network_history = mw.fit(x_train, y_train,\n",
        "                      batch_size=BATCH_SIZE,\n",
        "                      epochs=EPOCH,\n",
        "                      verbose=1,\n",
        "                      validation_split=0.2,\n",
        "                      callbacks=[early_stop, reduce_lr])"
      ],
      "execution_count": 0,
      "outputs": [
        {
          "output_type": "stream",
          "text": [
            "Number of training examples: 149350\n",
            "WARNING:tensorflow:Falling back from v2 loop because of error: Failed to find data adapter that can handle input: <class 'pandas.core.frame.DataFrame'>, <class 'NoneType'>\n"
          ],
          "name": "stdout"
        },
        {
          "output_type": "stream",
          "text": [
            "WARNING:tensorflow:Falling back from v2 loop because of error: Failed to find data adapter that can handle input: <class 'pandas.core.frame.DataFrame'>, <class 'NoneType'>\n"
          ],
          "name": "stderr"
        },
        {
          "output_type": "stream",
          "text": [
            "Train on 119480 samples, validate on 29870 samples\n",
            "Epoch 1/50\n",
            "119480/119480 [==============================] - 31s 256us/sample - loss: 1.3478 - categorical_accuracy: 0.5341 - val_loss: 1.2999 - val_categorical_accuracy: 0.5383\n",
            "Epoch 2/50\n",
            "119480/119480 [==============================] - 31s 257us/sample - loss: 1.2927 - categorical_accuracy: 0.5368 - val_loss: 1.2840 - val_categorical_accuracy: 0.5383\n",
            "Epoch 3/50\n",
            "119480/119480 [==============================] - 31s 256us/sample - loss: 1.2722 - categorical_accuracy: 0.5368 - val_loss: 1.2564 - val_categorical_accuracy: 0.5383\n",
            "Epoch 4/50\n",
            "119480/119480 [==============================] - 30s 254us/sample - loss: 1.2347 - categorical_accuracy: 0.5368 - val_loss: 1.2068 - val_categorical_accuracy: 0.5384\n",
            "Epoch 5/50\n",
            "119480/119480 [==============================] - 30s 254us/sample - loss: 1.1748 - categorical_accuracy: 0.5497 - val_loss: 1.1380 - val_categorical_accuracy: 0.5663\n",
            "Epoch 6/50\n",
            "119480/119480 [==============================] - 31s 255us/sample - loss: 1.1065 - categorical_accuracy: 0.5878 - val_loss: 1.0738 - val_categorical_accuracy: 0.6011\n",
            "Epoch 7/50\n",
            "119480/119480 [==============================] - 31s 257us/sample - loss: 1.0517 - categorical_accuracy: 0.6086 - val_loss: 1.0265 - val_categorical_accuracy: 0.6172\n",
            "Epoch 8/50\n",
            "119480/119480 [==============================] - 30s 254us/sample - loss: 1.0100 - categorical_accuracy: 0.6196 - val_loss: 0.9886 - val_categorical_accuracy: 0.6291\n",
            "Epoch 9/50\n",
            "119480/119480 [==============================] - 31s 256us/sample - loss: 0.9765 - categorical_accuracy: 0.6278 - val_loss: 0.9594 - val_categorical_accuracy: 0.6351\n",
            "Epoch 10/50\n",
            "119480/119480 [==============================] - 31s 255us/sample - loss: 0.9492 - categorical_accuracy: 0.6343 - val_loss: 0.9375 - val_categorical_accuracy: 0.6397\n",
            "Epoch 11/50\n",
            "119480/119480 [==============================] - 30s 255us/sample - loss: 0.9282 - categorical_accuracy: 0.6391 - val_loss: 0.9204 - val_categorical_accuracy: 0.6422\n",
            "Epoch 12/50\n",
            "119480/119480 [==============================] - 30s 254us/sample - loss: 0.9105 - categorical_accuracy: 0.6445 - val_loss: 0.9039 - val_categorical_accuracy: 0.6497\n",
            "Epoch 13/50\n",
            "119480/119480 [==============================] - 31s 257us/sample - loss: 0.8970 - categorical_accuracy: 0.6483 - val_loss: 0.8917 - val_categorical_accuracy: 0.6532\n",
            "Epoch 14/50\n",
            "119480/119480 [==============================] - 31s 257us/sample - loss: 0.8844 - categorical_accuracy: 0.6526 - val_loss: 0.8814 - val_categorical_accuracy: 0.6559\n",
            "Epoch 15/50\n",
            "119480/119480 [==============================] - 30s 255us/sample - loss: 0.8731 - categorical_accuracy: 0.6566 - val_loss: 0.8734 - val_categorical_accuracy: 0.6625\n",
            "Epoch 16/50\n",
            "119480/119480 [==============================] - 30s 253us/sample - loss: 0.8637 - categorical_accuracy: 0.6610 - val_loss: 0.8639 - val_categorical_accuracy: 0.6627\n",
            "Epoch 17/50\n",
            "119480/119480 [==============================] - 31s 258us/sample - loss: 0.8551 - categorical_accuracy: 0.6641 - val_loss: 0.8570 - val_categorical_accuracy: 0.6660\n",
            "Epoch 18/50\n",
            "119480/119480 [==============================] - 31s 258us/sample - loss: 0.8471 - categorical_accuracy: 0.6676 - val_loss: 0.8515 - val_categorical_accuracy: 0.6704\n",
            "Epoch 19/50\n",
            "119480/119480 [==============================] - 30s 255us/sample - loss: 0.8406 - categorical_accuracy: 0.6707 - val_loss: 0.8499 - val_categorical_accuracy: 0.6730\n",
            "Epoch 20/50\n",
            "119480/119480 [==============================] - 30s 254us/sample - loss: 0.8341 - categorical_accuracy: 0.6729 - val_loss: 0.8435 - val_categorical_accuracy: 0.6742\n",
            "Epoch 21/50\n",
            "119480/119480 [==============================] - 31s 257us/sample - loss: 0.8291 - categorical_accuracy: 0.6750 - val_loss: 0.8371 - val_categorical_accuracy: 0.6749\n",
            "Epoch 22/50\n",
            "119480/119480 [==============================] - 31s 257us/sample - loss: 0.8248 - categorical_accuracy: 0.6765 - val_loss: 0.8333 - val_categorical_accuracy: 0.6740\n",
            "Epoch 23/50\n",
            "119480/119480 [==============================] - 31s 255us/sample - loss: 0.8204 - categorical_accuracy: 0.6779 - val_loss: 0.8322 - val_categorical_accuracy: 0.6772\n",
            "Epoch 24/50\n",
            "119480/119480 [==============================] - 31s 257us/sample - loss: 0.8161 - categorical_accuracy: 0.6793 - val_loss: 0.8275 - val_categorical_accuracy: 0.6775\n",
            "Epoch 25/50\n",
            "119480/119480 [==============================] - 31s 256us/sample - loss: 0.8120 - categorical_accuracy: 0.6804 - val_loss: 0.8259 - val_categorical_accuracy: 0.6763\n",
            "Epoch 26/50\n",
            "119480/119480 [==============================] - 30s 252us/sample - loss: 0.8088 - categorical_accuracy: 0.6824 - val_loss: 0.8232 - val_categorical_accuracy: 0.6778\n",
            "Epoch 27/50\n",
            "119480/119480 [==============================] - 30s 254us/sample - loss: 0.8061 - categorical_accuracy: 0.6837 - val_loss: 0.8219 - val_categorical_accuracy: 0.6788\n",
            "Epoch 28/50\n",
            "119480/119480 [==============================] - 31s 259us/sample - loss: 0.8022 - categorical_accuracy: 0.6850 - val_loss: 0.8199 - val_categorical_accuracy: 0.6786\n",
            "Epoch 29/50\n",
            "119480/119480 [==============================] - 30s 254us/sample - loss: 0.7999 - categorical_accuracy: 0.6855 - val_loss: 0.8187 - val_categorical_accuracy: 0.6800\n",
            "Epoch 30/50\n",
            "119480/119480 [==============================] - 31s 255us/sample - loss: 0.7975 - categorical_accuracy: 0.6865 - val_loss: 0.8166 - val_categorical_accuracy: 0.6814\n",
            "Epoch 31/50\n",
            "119480/119480 [==============================] - 31s 257us/sample - loss: 0.7951 - categorical_accuracy: 0.6870 - val_loss: 0.8157 - val_categorical_accuracy: 0.6811\n",
            "Epoch 32/50\n",
            "119480/119480 [==============================] - 31s 260us/sample - loss: 0.7929 - categorical_accuracy: 0.6884 - val_loss: 0.8138 - val_categorical_accuracy: 0.6812\n",
            "Epoch 33/50\n",
            "119480/119480 [==============================] - 31s 258us/sample - loss: 0.7896 - categorical_accuracy: 0.6905 - val_loss: 0.8143 - val_categorical_accuracy: 0.6801\n",
            "Epoch 34/50\n",
            "119480/119480 [==============================] - 30s 254us/sample - loss: 0.7882 - categorical_accuracy: 0.6903 - val_loss: 0.8119 - val_categorical_accuracy: 0.6816\n",
            "Epoch 35/50\n",
            "119480/119480 [==============================] - 30s 254us/sample - loss: 0.7861 - categorical_accuracy: 0.6906 - val_loss: 0.8115 - val_categorical_accuracy: 0.6826\n",
            "Epoch 36/50\n",
            "119480/119480 [==============================] - 31s 255us/sample - loss: 0.7844 - categorical_accuracy: 0.6909 - val_loss: 0.8104 - val_categorical_accuracy: 0.6820\n",
            "Epoch 37/50\n",
            "119480/119480 [==============================] - 31s 257us/sample - loss: 0.7826 - categorical_accuracy: 0.6927 - val_loss: 0.8099 - val_categorical_accuracy: 0.6831\n",
            "Epoch 38/50\n",
            "119480/119480 [==============================] - 31s 260us/sample - loss: 0.7806 - categorical_accuracy: 0.6933 - val_loss: 0.8110 - val_categorical_accuracy: 0.6824\n",
            "Epoch 39/50\n",
            "119480/119480 [==============================] - 30s 255us/sample - loss: 0.7787 - categorical_accuracy: 0.6932 - val_loss: 0.8083 - val_categorical_accuracy: 0.6837\n",
            "Epoch 40/50\n",
            "119480/119480 [==============================] - 30s 254us/sample - loss: 0.7777 - categorical_accuracy: 0.6950 - val_loss: 0.8091 - val_categorical_accuracy: 0.6844\n",
            "Epoch 41/50\n",
            "119480/119480 [==============================] - 31s 258us/sample - loss: 0.7754 - categorical_accuracy: 0.6951 - val_loss: 0.8073 - val_categorical_accuracy: 0.6839\n",
            "Epoch 42/50\n",
            "119480/119480 [==============================] - 31s 258us/sample - loss: 0.7741 - categorical_accuracy: 0.6956 - val_loss: 0.8067 - val_categorical_accuracy: 0.6850\n",
            "Epoch 43/50\n",
            "119480/119480 [==============================] - 31s 260us/sample - loss: 0.7722 - categorical_accuracy: 0.6968 - val_loss: 0.8063 - val_categorical_accuracy: 0.6838\n",
            "Epoch 44/50\n",
            "119480/119480 [==============================] - 31s 260us/sample - loss: 0.7712 - categorical_accuracy: 0.6975 - val_loss: 0.8086 - val_categorical_accuracy: 0.6844\n",
            "Epoch 45/50\n",
            "119480/119480 [==============================] - 30s 255us/sample - loss: 0.7696 - categorical_accuracy: 0.6973 - val_loss: 0.8061 - val_categorical_accuracy: 0.6842\n",
            "Epoch 46/50\n",
            "119480/119480 [==============================] - 31s 257us/sample - loss: 0.7677 - categorical_accuracy: 0.6987 - val_loss: 0.8071 - val_categorical_accuracy: 0.6850\n",
            "Epoch 47/50\n",
            "119480/119480 [==============================] - 30s 255us/sample - loss: 0.7663 - categorical_accuracy: 0.6988 - val_loss: 0.8081 - val_categorical_accuracy: 0.6842\n",
            "Epoch 48/50\n",
            "119480/119480 [==============================] - 31s 258us/sample - loss: 0.7651 - categorical_accuracy: 0.7003 - val_loss: 0.8058 - val_categorical_accuracy: 0.6851\n",
            "Epoch 49/50\n",
            "119480/119480 [==============================] - 31s 257us/sample - loss: 0.7639 - categorical_accuracy: 0.7000 - val_loss: 0.8043 - val_categorical_accuracy: 0.6859\n",
            "Epoch 50/50\n",
            "119480/119480 [==============================] - 31s 257us/sample - loss: 0.7627 - categorical_accuracy: 0.6993 - val_loss: 0.8076 - val_categorical_accuracy: 0.6850\n"
          ],
          "name": "stdout"
        }
      ]
    },
    {
      "cell_type": "code",
      "metadata": {
        "id": "4AFkPh27wIi4",
        "colab_type": "code",
        "outputId": "115a86fa-9860-4efc-a644-7d4c61e9c2c4",
        "colab": {
          "base_uri": "https://localhost:8080/",
          "height": 258
        }
      },
      "source": [
        "scores = mw.evaluate(x_test, y_test)\n",
        "print(\"Accuracy: %.2f%%\" % (mw.scores[1]*100))\n"
      ],
      "execution_count": 0,
      "outputs": [
        {
          "output_type": "stream",
          "text": [
            "Number of test: 49784\n",
            "Running model.evaluate...\n",
            "WARNING:tensorflow:Falling back from v2 loop because of error: Failed to find data adapter that can handle input: <class 'pandas.core.frame.DataFrame'>, <class 'NoneType'>\n"
          ],
          "name": "stdout"
        },
        {
          "output_type": "stream",
          "text": [
            "WARNING:tensorflow:Falling back from v2 loop because of error: Failed to find data adapter that can handle input: <class 'pandas.core.frame.DataFrame'>, <class 'NoneType'>\n"
          ],
          "name": "stderr"
        },
        {
          "output_type": "stream",
          "text": [
            "49784/49784 [==============================] - 8s 165us/sample - loss: 0.8035 - categorical_accuracy: 0.6852\n",
            "Running model.predict...\n",
            "WARNING:tensorflow:Falling back from v2 loop because of error: Failed to find data adapter that can handle input: <class 'pandas.core.frame.DataFrame'>, <class 'NoneType'>\n"
          ],
          "name": "stdout"
        },
        {
          "output_type": "stream",
          "text": [
            "WARNING:tensorflow:Falling back from v2 loop because of error: Failed to find data adapter that can handle input: <class 'pandas.core.frame.DataFrame'>, <class 'NoneType'>\n"
          ],
          "name": "stderr"
        },
        {
          "output_type": "stream",
          "text": [
            "Unencode predictions...\n",
            "Generating confusion matrix...\n",
            "Calculating ROC AUC...\n",
            "Getting classification report...\n",
            "Accuracy: 68.52%\n"
          ],
          "name": "stdout"
        }
      ]
    },
    {
      "cell_type": "code",
      "metadata": {
        "id": "Sy0qCyklwIi7",
        "colab_type": "code",
        "outputId": "7949ff90-75ac-4e65-dcb8-bb8770c7c337",
        "colab": {
          "base_uri": "https://localhost:8080/",
          "height": 339
        }
      },
      "source": [
        "\n",
        "importlib.reload(pu)\n",
        "pu.plot_network_history(mw.network_history, \"categorical_accuracy\", \"val_categorical_accuracy\")\n"
      ],
      "execution_count": 0,
      "outputs": [
        {
          "output_type": "display_data",
          "data": {
            "image/png": "[encoded data removed]",
            "text/plain": [
              "<Figure size 720x360 with 2 Axes>"
            ]
          },
          "metadata": {
            "tags": []
          }
        }
      ]
    },
    {
      "cell_type": "code",
      "metadata": {
        "id": "cWzmvCIPwIjB",
        "colab_type": "code",
        "outputId": "ceecc351-bf0a-4024-808b-5a2c3fa4cde8",
        "colab": {
          "base_uri": "https://localhost:8080/",
          "height": 102
        }
      },
      "source": [
        "mw.confusion_matrix"
      ],
      "execution_count": 0,
      "outputs": [
        {
          "output_type": "execute_result",
          "data": {
            "text/plain": [
              "array([[ 5497,   132,   509,   113,   730],\n",
              "       [ 1570,   168,   698,   243,   546],\n",
              "       [  792,   106,  1280,   979,  1383],\n",
              "       [  232,    18,   622,  2163,  5263],\n",
              "       [  342,     7,   253,  1134, 25004]])"
            ]
          },
          "metadata": {
            "tags": []
          },
          "execution_count": 19
        }
      ]
    },
    {
      "cell_type": "code",
      "metadata": {
        "id": "W3FJ8vqTwIjJ",
        "colab_type": "code",
        "outputId": "f4c65433-6adf-43a1-aa23-3d231c9f5d59",
        "colab": {
          "base_uri": "https://localhost:8080/",
          "height": 221
        }
      },
      "source": [
        "print(mw.classification_report)\n"
      ],
      "execution_count": 0,
      "outputs": [
        {
          "output_type": "stream",
          "text": [
            "              precision    recall  f1-score   support\n",
            "\n",
            "           1       0.65      0.79      0.71      6981\n",
            "           2       0.39      0.05      0.09      3225\n",
            "           3       0.38      0.28      0.32      4540\n",
            "           4       0.47      0.26      0.33      8298\n",
            "           5       0.76      0.94      0.84     26740\n",
            "\n",
            "    accuracy                           0.69     49784\n",
            "   macro avg       0.53      0.46      0.46     49784\n",
            "weighted avg       0.64      0.69      0.64     49784\n",
            "\n"
          ],
          "name": "stdout"
        }
      ]
    },
    {
      "cell_type": "code",
      "metadata": {
        "id": "XdsmH8xEx3Fa",
        "colab_type": "code",
        "outputId": "d6586b3f-ffbe-4680-e6bd-699bfa14f789",
        "colab": {
          "base_uri": "https://localhost:8080/",
          "height": 720
        }
      },
      "source": [
        "fig = plt.figure(figsize=(5,5))\n",
        "pu.plot_roc_auc(mw.name, mw.roc_auc, mw.fpr, mw.tpr)"
      ],
      "execution_count": 0,
      "outputs": [
        {
          "output_type": "stream",
          "text": [
            "drive/My Drive/Springboard/capstone/util/plot_util.py:252: MatplotlibDeprecationWarning: The 'withdash' parameter of text() is deprecated since Matplotlib 3.1 and will be removed in 3.3.  If any parameter follows 'withdash', they should be pass as keyword, not positionally.\n",
            "  withdash=True)\n",
            "drive/My Drive/Springboard/capstone/util/plot_util.py:252: MatplotlibDeprecationWarning: \n",
            "The TextWithDash class was deprecated in Matplotlib 3.1 and will be removed in 3.3. Use Annotation instead.\n",
            "  withdash=True)\n",
            "drive/My Drive/Springboard/capstone/util/plot_util.py:256: MatplotlibDeprecationWarning: The 'withdash' parameter of text() is deprecated since Matplotlib 3.1 and will be removed in 3.3.  If any parameter follows 'withdash', they should be pass as keyword, not positionally.\n",
            "  withdash=True)\n",
            "drive/My Drive/Springboard/capstone/util/plot_util.py:256: MatplotlibDeprecationWarning: \n",
            "The TextWithDash class was deprecated in Matplotlib 3.1 and will be removed in 3.3. Use Annotation instead.\n",
            "  withdash=True)\n",
            "drive/My Drive/Springboard/capstone/util/plot_util.py:260: MatplotlibDeprecationWarning: The 'withdash' parameter of text() is deprecated since Matplotlib 3.1 and will be removed in 3.3.  If any parameter follows 'withdash', they should be pass as keyword, not positionally.\n",
            "  withdash=True)\n",
            "drive/My Drive/Springboard/capstone/util/plot_util.py:260: MatplotlibDeprecationWarning: \n",
            "The TextWithDash class was deprecated in Matplotlib 3.1 and will be removed in 3.3. Use Annotation instead.\n",
            "  withdash=True)\n"
          ],
          "name": "stderr"
        },
        {
          "output_type": "display_data",
          "data": {
            "image/png": "[encoded data removed]",
            "text/plain": [
              "<Figure size 360x360 with 1 Axes>"
            ]
          },
          "metadata": {
            "tags": []
          }
        }
      ]
    },
    {
      "cell_type": "markdown",
      "metadata": {
        "id": "r0ehuHKKwIjL",
        "colab_type": "text"
      },
      "source": [
        "# Save our Model"
      ]
    },
    {
      "cell_type": "code",
      "metadata": {
        "id": "T2YCQbVn812o",
        "colab_type": "code",
        "outputId": "ff34ca34-bc4a-4530-d507-6e49fb43e80a",
        "colab": {
          "base_uri": "https://localhost:8080/",
          "height": 632
        }
      },
      "source": [
        "importlib.reload(ku)\n",
        "importlib.reload(ru)\n",
        "\n",
        "mw.save(DRIVE_DIR, append_report=True)\n",
        "report = mw.get_report().to_df()\n",
        "print(report.tail())\n",
        "\n",
        "cr = json.loads(report.classification_report.values[0])\n",
        "print(f'\\n\\nOverall score: {ru.calculate_metric(cr)}')"
      ],
      "execution_count": 0,
      "outputs": [
        {
          "output_type": "stream",
          "text": [
            "description: review_body-tfidf-df_none-ngram13-199134-4000-nolda-DNN-4000-star_rating\n",
            "Saving model file: drive/My Drive/Springboard/capstone/models/review_body-tfidf-df_none-ngram13-199134-4000-nolda-DNN-4000-star_rating-model.h5\n",
            "Saving json config file: drive/My Drive/Springboard/capstone/models/review_body-tfidf-df_none-ngram13-199134-4000-nolda-DNN-4000-star_rating-model.json\n",
            "Saving weights file: drive/My Drive/Springboard/capstone/models/review_body-tfidf-df_none-ngram13-199134-4000-nolda-DNN-4000-star_rating-weights.h5\n",
            "Saving to report file: drive/My Drive/Springboard/capstone/reports/2019-11-dl_prototype-report.csv\n",
            "Loading to append to: drive/My Drive/Springboard/capstone/reports/2019-11-dl_prototype-report.csv\n"
          ],
          "name": "stdout"
        },
        {
          "output_type": "stream",
          "text": [
            "IOPub data rate exceeded.\n",
            "The notebook server will temporarily stop sending output\n",
            "to the client in order to avoid crashing it.\n",
            "To change this limit, set the config variable\n",
            "`--NotebookApp.iopub_data_rate_limit`.\n",
            "\n",
            "Current values:\n",
            "NotebookApp.iopub_data_rate_limit=1000000.0 (bytes/sec)\n",
            "NotebookApp.rate_limit_window=3.0 (secs)\n",
            "\n",
            "/usr/local/lib/python3.6/dist-packages/pandas/core/frame.py:7138: FutureWarning: Sorting because non-concatenation axis is not aligned. A future version\n",
            "of pandas will change to not sort by default.\n",
            "\n",
            "To accept the future behavior, pass 'sort=False'.\n",
            "\n",
            "To retain the current behavior and silence the warning, pass 'sort=True'.\n",
            "\n",
            "  sort=sort,\n",
            "INFO:util.report_util:calculating metric from dictionary\n",
            "IOPub data rate exceeded.\n",
            "The notebook server will temporarily stop sending output\n",
            "to the client in order to avoid crashing it.\n",
            "To change this limit, set the config variable\n",
            "`--NotebookApp.iopub_data_rate_limit`.\n",
            "\n",
            "Current values:\n",
            "NotebookApp.iopub_data_rate_limit=1000000.0 (bytes/sec)\n",
            "NotebookApp.rate_limit_window=3.0 (secs)\n",
            "\n"
          ],
          "name": "stderr"
        }
      ]
    },
    {
      "cell_type": "code",
      "metadata": {
        "id": "7jmW9mBufGmS",
        "colab_type": "code",
        "outputId": "5343adeb-4463-4a19-e54d-b48248eefafc",
        "colab": {
          "base_uri": "https://localhost:8080/",
          "height": 221
        }
      },
      "source": [
        "print(mw.classification_report)"
      ],
      "execution_count": 0,
      "outputs": [
        {
          "output_type": "stream",
          "text": [
            "              precision    recall  f1-score   support\n",
            "\n",
            "           1       0.65      0.79      0.71      6981\n",
            "           2       0.39      0.05      0.09      3225\n",
            "           3       0.38      0.28      0.32      4540\n",
            "           4       0.47      0.26      0.33      8298\n",
            "           5       0.76      0.94      0.84     26740\n",
            "\n",
            "    accuracy                           0.69     49784\n",
            "   macro avg       0.53      0.46      0.46     49784\n",
            "weighted avg       0.64      0.69      0.64     49784\n",
            "\n"
          ],
          "name": "stdout"
        }
      ]
    },
    {
      "cell_type": "code",
      "metadata": {
        "id": "zcM2bPcUe9EW",
        "colab_type": "code",
        "outputId": "86740b12-7ef8-47b1-d7f4-fdbc19e71fb7",
        "colab": {
          "base_uri": "https://localhost:8080/",
          "height": 85
        }
      },
      "source": [
        "print(f'\\n\\nOverall score: {ru.calculate_metric(mw.crd)}')"
      ],
      "execution_count": 0,
      "outputs": [
        {
          "output_type": "stream",
          "text": [
            "INFO:util.report_util:calculating metric from dictionary\n"
          ],
          "name": "stderr"
        },
        {
          "output_type": "stream",
          "text": [
            "\n",
            "\n",
            "Overall score: 0.171429922884353\n"
          ],
          "name": "stdout"
        }
      ]
    },
    {
      "cell_type": "code",
      "metadata": {
        "id": "KBxher6CKfPN",
        "colab_type": "code",
        "outputId": "c228abc6-7c98-4384-b390-eb40ff415d4a",
        "colab": {
          "base_uri": "https://localhost:8080/",
          "height": 34
        }
      },
      "source": [
        "print(datetime.now())"
      ],
      "execution_count": 0,
      "outputs": [
        {
          "output_type": "stream",
          "text": [
            "2019-11-06 06:16:41.219095\n"
          ],
          "name": "stdout"
        }
      ]
    },
    {
      "cell_type": "code",
      "metadata": {
        "id": "jnoLVwZWMZxG",
        "colab_type": "code",
        "colab": {}
      },
      "source": [
        ""
      ],
      "execution_count": 0,
      "outputs": []
    },
    {
      "cell_type": "code",
      "metadata": {
        "id": "N6vSYl8RnZ7W",
        "colab_type": "code",
        "colab": {}
      },
      "source": [
        ""
      ],
      "execution_count": 0,
      "outputs": []
    }
  ]
}