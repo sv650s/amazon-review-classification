{
  "nbformat": 4,
  "nbformat_minor": 0,
  "metadata": {
    "colab": {
      "name": "6.9.9.4-LSTMB128_dr0_rdr0_batch32_lr01-glove_with_stop_nonlemmatized-500k-prototype.ipynb",
      "provenance": [],
      "collapsed_sections": [],
      "machine_shape": "hm",
      "include_colab_link": true
    },
    "language_info": {
      "codemirror_mode": {
        "name": "ipython",
        "version": 3
      },
      "file_extension": ".py",
      "mimetype": "text/x-python",
      "name": "python",
      "nbconvert_exporter": "python",
      "pygments_lexer": "ipython3",
      "version": "3.7.3"
    },
    "kernelspec": {
      "name": "python3",
      "display_name": "Python 3"
    },
    "accelerator": "GPU"
  },
  "cells": [
    {
      "cell_type": "markdown",
      "metadata": {
        "id": "view-in-github",
        "colab_type": "text"
      },
      "source": [
        "<a href=\"https://colab.research.google.com/github/sv650s/amazon-review-classification/blob/master/notebooks/deep_learning/6.9.9.4-LSTMB128_dr0_rdr0_batch32_lr01-glove_with_stop_nonlemmatized-500k-prototype.ipynb\" target=\"_parent\"><img src=\"https://colab.research.google.com/assets/colab-badge.svg\" alt=\"Open In Colab\"/></a>"
      ]
    },
    {
      "cell_type": "markdown",
      "metadata": {
        "id": "W7_sb1roJXhx",
        "colab_type": "text"
      },
      "source": [
        "# Pre-trained GloVe embedding using LSTM with 500k samples without removing stop words\n",
        "\n",
        "* Glove embedding with 300 dimension vectors\n",
        "* max sequence length of 100 words (this is same as what we've been doing)\n",
        "* 128 LSTM hidden units \n",
        "* dropout rate: 0\n",
        "* recurrent dropout rate: 0\n",
        "* learning rate of 0.01\n",
        "* batch size of 32\n",
        "* 20 epochs\n",
        "* early stopping patience: 4\n",
        "* 500k samples\n"
      ]
    },
    {
      "cell_type": "code",
      "metadata": {
        "id": "pF_xRedK9O1Q",
        "colab_type": "code",
        "outputId": "a39a47f7-1476-4812-d096-96614c8c20a9",
        "colab": {
          "base_uri": "https://localhost:8080/",
          "height": 52
        }
      },
      "source": [
        "from google.colab import drive\n",
        "drive.mount('/content/drive')\n",
        "\n",
        "import sys\n",
        "DRIVE_DIR = \"drive/My Drive/Springboard/capstone\"\n",
        "sys.path.append(DRIVE_DIR)\n",
        "\n",
        "\n",
        "%tensorflow_version 2.x\n",
        "\n",
        "\n",
        "import tensorflow as tf\n",
        "# checl to make sure we are using GPU here\n",
        "tf.test.gpu_device_name()"
      ],
      "execution_count": 1,
      "outputs": [
        {
          "output_type": "stream",
          "text": [
            "Drive already mounted at /content/drive; to attempt to forcibly remount, call drive.mount(\"/content/drive\", force_remount=True).\n"
          ],
          "name": "stdout"
        },
        {
          "output_type": "execute_result",
          "data": {
            "text/plain": [
              "'/device:GPU:0'"
            ]
          },
          "metadata": {
            "tags": []
          },
          "execution_count": 1
        }
      ]
    },
    {
      "cell_type": "code",
      "metadata": {
        "id": "SyhcVd4ec1sq",
        "colab_type": "code",
        "outputId": "66d72605-0c73-4797-e4e2-5a31e18a995b",
        "colab": {
          "base_uri": "https://localhost:8080/",
          "height": 354
        }
      },
      "source": [
        "# check what GPU we got\n",
        "gpu_info = !nvidia-smi\n",
        "gpu_info = '\\n'.join(gpu_info)\n",
        "if gpu_info.find('failed') >= 0:\n",
        "  print('Select the Runtime → \"Change runtime type\" menu to enable a GPU accelerator, ')\n",
        "  print('and then re-execute this cell.')\n",
        "else:\n",
        "  print(gpu_info)\n",
        "\n",
        "# check that we are using high RAM runtime\n",
        "from psutil import virtual_memory\n",
        "ram_gb = virtual_memory().total / 1e9\n",
        "print('Your runtime has {:.1f} gigabytes of available RAM\\n'.format(ram_gb))\n",
        "\n",
        "if ram_gb < 20:\n",
        "  print('To enable a high-RAM runtime, select the Runtime → \"Change runtime type\"')\n",
        "  print('menu, and then select High-RAM in the Runtime shape dropdown. Then, ')\n",
        "  print('re-execute this cell.')\n",
        "else:\n",
        "  print('You are using a high-RAM runtime!')"
      ],
      "execution_count": 2,
      "outputs": [
        {
          "output_type": "stream",
          "text": [
            "Thu May 14 12:30:19 2020       \n",
            "+-----------------------------------------------------------------------------+\n",
            "| NVIDIA-SMI 440.82       Driver Version: 418.67       CUDA Version: 10.1     |\n",
            "|-------------------------------+----------------------+----------------------+\n",
            "| GPU  Name        Persistence-M| Bus-Id        Disp.A | Volatile Uncorr. ECC |\n",
            "| Fan  Temp  Perf  Pwr:Usage/Cap|         Memory-Usage | GPU-Util  Compute M. |\n",
            "|===============================+======================+======================|\n",
            "|   0  Tesla P100-PCIE...  Off  | 00000000:00:04.0 Off |                    0 |\n",
            "| N/A   36C    P0    31W / 250W |    353MiB / 16280MiB |      0%      Default |\n",
            "+-------------------------------+----------------------+----------------------+\n",
            "                                                                               \n",
            "+-----------------------------------------------------------------------------+\n",
            "| Processes:                                                       GPU Memory |\n",
            "|  GPU       PID   Type   Process name                             Usage      |\n",
            "|=============================================================================|\n",
            "+-----------------------------------------------------------------------------+\n",
            "Your runtime has 27.4 gigabytes of available RAM\n",
            "\n",
            "You are using a high-RAM runtime!\n"
          ],
          "name": "stdout"
        }
      ]
    },
    {
      "cell_type": "code",
      "metadata": {
        "id": "pAHGtniuJXhy",
        "colab_type": "code",
        "outputId": "2f1b3e8e-30a4-4e7b-93dd-0c9e7a56a199",
        "colab": {
          "base_uri": "https://localhost:8080/",
          "height": 72
        }
      },
      "source": [
        "from __future__ import absolute_import, division, print_function, unicode_literals\n",
        "\n",
        "\n",
        "from tensorflow.keras.models import Sequential\n",
        "from tensorflow.keras.layers import Dense, Activation, Dropout\n",
        "from tensorflow.keras.layers import BatchNormalization\n",
        "from tensorflow.keras.callbacks import EarlyStopping, ReduceLROnPlateau\n",
        "from tensorflow.keras.models import load_model\n",
        "from tensorflow.keras.optimizers import SGD, Adam\n",
        "from tensorflow.keras.layers import Conv1D, MaxPooling1D, Embedding, \\\n",
        "    SpatialDropout1D, Flatten, LSTM\n",
        "from tensorflow.keras.preprocessing.text import Tokenizer\n",
        "from tensorflow.keras.preprocessing import sequence\n",
        "from tensorflow.keras.utils import model_to_dot\n",
        "from tensorflow.keras.initializers import Constant\n",
        "\n",
        "\n",
        "from sklearn.model_selection import train_test_split\n",
        "from sklearn.preprocessing import OneHotEncoder\n",
        "from sklearn.preprocessing import LabelEncoder\n",
        "from sklearn.metrics import confusion_matrix, classification_report\n",
        "from sklearn.utils.class_weight import compute_class_weight\n",
        "\n",
        "\n",
        "import pandas as pd\n",
        "import numpy as np\n",
        "from IPython.display import SVG\n",
        "import pickle\n",
        "from datetime import datetime\n",
        "import matplotlib.pyplot as plt\n",
        "import seaborn as sns\n",
        "import os\n",
        "import logging\n",
        "\n",
        "\n",
        "import util.dict_util as du\n",
        "import util.plot_util as pu\n",
        "import util.file_util as fu\n",
        "import util.keras_util as ku\n",
        "import util.report_util as ru\n",
        "\n",
        "import random\n",
        "\n",
        "# fix random seeds\n",
        "tf.compat.v1.reset_default_graph()\n",
        "tf.compat.v1.set_random_seed(1)\n",
        "random.seed(1)\n",
        "np.random.seed(1)\n",
        "\n",
        "logging.basicConfig(level=logging.ERROR)\n",
        "\n",
        "%matplotlib inline\n",
        "sns.set()\n",
        "\n",
        "\n",
        "DATE_FORMAT = '%Y-%m-%d'\n",
        "TIME_FORMAT = '%Y-%m-%d %H:%M:%S'\n",
        "LABEL_COLUMN = \"star_rating\"\n",
        "FEATURE_COLUMN = \"review_body\"\n",
        "\n",
        "\n",
        "DEBUG = False\n",
        "\n",
        "\n",
        "LSTM_DIM = 128 # total LSTM units\n",
        "# length of our embedding - 300 is standard\n",
        "EMBED_SIZE = 300\n",
        "EPOCHS  = 20\n",
        "BATCH_SIZE = 32\n",
        "LEARNING_RATE = 0.01\n",
        "DROPOUT_RATE = 0.0\n",
        "RECURRENT_DROPOUT_RATE = 0.0\n",
        "PATIENCE = 4\n",
        "BIDIRECTIONAL = False\n",
        "BALANCE_CLASS_WEIGHTS = True\n",
        "TRAIN_EMBEDDINGS = False\n",
        "MODEL_VERSION = 1\n",
        "ENVIRONMENT = \"6.9.9.4-LSTMB128_dr0_rdr0_batch32_lr01-glove_with_stop_nonlemmatized-500k-prototype.ipynb\"\n",
        "SAMPLES = \"500k\"\n",
        "\n",
        "\n",
        "# From EDA, we know that 90% of review bodies have 100 words or less, \n",
        "# we will use this as our sequence length\n",
        "MAX_SEQUENCE_LENGTH = 100\n",
        "\n",
        "\n",
        "if BIDIRECTIONAL:\n",
        "  bidirectional_name = \"bi\"\n",
        "else:\n",
        "  bidirectional_name = \"\"\n",
        "\n",
        "if BALANCE_CLASS_WEIGHTS:\n",
        "  balanced_name = \"B\"\n",
        "else:\n",
        "  balanced_name = \"\"\n",
        "\n",
        "MODEL_NAME = f\"{bidirectional_name}LSTM{balanced_name}{LSTM_DIM}\"\n",
        "ARCHITECTURE = f\"1x{LSTM_DIM}\"\n",
        "DESCRIPTION = f\"1 Layer {LSTM_DIM} LSTM Units, Dropout {DROPOUT_RATE}, Recurrent Dropout {RECURRENT_DROPOUT_RATE}, Batch Size {BATCH_SIZE}, Learning Rate {LEARNING_RATE}\"\n",
        "FEATURE_SET_NAME = \"glove_with_stop_nonlemmatized\"\n",
        "\n",
        "\n",
        "REPORT_FILE = f\"{MODEL_NAME}_\" \\\n",
        "              f\"dr{ku.get_decimal_str(DROPOUT_RATE)}_\" \\\n",
        "              f\"rdr{ku.get_decimal_str(RECURRENT_DROPOUT_RATE)}_\" \\\n",
        "              f\"batch{BATCH_SIZE}_\" \\\n",
        "              f\"lr{ku.get_decimal_str(LEARNING_RATE)}-{FEATURE_SET_NAME}-dl_prototype-report.csv\"\n",
        "\n",
        "if DEBUG:\n",
        "  DATA_FILE = f'{DRIVE_DIR}/data/amazon_reviews_us_Wireless_v1_00-test-preprocessed.csv'\n",
        "  MODEL_NAME = f'test-{MODEL_NAME}'\n",
        "  MISSING_WORDS_FILE = f'{DRIVE_DIR}/reports/glove_embedding-missing_words-test.csv'\n",
        "  ku.ModelWrapper.set_report_filename(f\"test-{REPORT_FILE}\")\n",
        "else:\n",
        "  DATA_FILE = f\"{DRIVE_DIR}/data/amazon_reviews_us_Wireless_v1_00-{SAMPLES}-with_stop_nonlemmatized-preprocessed.csv\"\n",
        "  MISSING_WORDS_FILE = f'{DRIVE_DIR}/reports/glove_embedding-missing_words-{SAMPLES}.csv'\n",
        "  ku.ModelWrapper.set_report_filename(REPORT_FILE)\n",
        "\n",
        "\n",
        "EMBEDDING_FILE = f'{DRIVE_DIR}/data/embeddings/glove.840B.300d.txt'\n",
        "\n",
        "\n",
        "start_time = datetime.now()\n",
        "\n",
        "\n"
      ],
      "execution_count": 3,
      "outputs": [
        {
          "output_type": "stream",
          "text": [
            "/usr/local/lib/python3.6/dist-packages/statsmodels/tools/_testing.py:19: FutureWarning: pandas.util.testing is deprecated. Use the functions in the public API at pandas.testing instead.\n",
            "  import pandas.util.testing as tm\n"
          ],
          "name": "stderr"
        }
      ]
    },
    {
      "cell_type": "code",
      "metadata": {
        "hide_input": false,
        "id": "k6fwJp9OJXh5",
        "colab_type": "code",
        "colab": {}
      },
      "source": [
        "df = pd.read_csv(DATA_FILE)\n",
        "\n",
        "rating = df[LABEL_COLUMN]\n",
        "reviews = df[FEATURE_COLUMN]"
      ],
      "execution_count": 0,
      "outputs": []
    },
    {
      "cell_type": "code",
      "metadata": {
        "id": "GKdUpCsshGk8",
        "colab_type": "code",
        "colab": {}
      },
      "source": [
        ""
      ],
      "execution_count": 0,
      "outputs": []
    },
    {
      "cell_type": "code",
      "metadata": {
        "id": "rMdM2TS7hGgc",
        "colab_type": "code",
        "colab": {}
      },
      "source": [
        ""
      ],
      "execution_count": 0,
      "outputs": []
    },
    {
      "cell_type": "code",
      "metadata": {
        "id": "kHMW5sNShGce",
        "colab_type": "code",
        "colab": {}
      },
      "source": [
        ""
      ],
      "execution_count": 0,
      "outputs": []
    },
    {
      "cell_type": "code",
      "metadata": {
        "id": "HvcwW1AmhGNU",
        "colab_type": "code",
        "colab": {}
      },
      "source": [
        ""
      ],
      "execution_count": 0,
      "outputs": []
    },
    {
      "cell_type": "markdown",
      "metadata": {
        "id": "EBQR0ZpoOiQk",
        "colab_type": "text"
      },
      "source": [
        "# Preprocessing"
      ]
    },
    {
      "cell_type": "code",
      "metadata": {
        "id": "_g2Wm80MCgGZ",
        "colab_type": "code",
        "colab": {}
      },
      "source": [
        ""
      ],
      "execution_count": 0,
      "outputs": []
    },
    {
      "cell_type": "code",
      "metadata": {
        "id": "lytdvF4neJ4r",
        "colab_type": "code",
        "outputId": "4e724a30-0435-4619-d165-88e1e75eeedc",
        "colab": {
          "base_uri": "https://localhost:8080/",
          "height": 70
        }
      },
      "source": [
        "\n",
        "\n",
        "# pre-process our lables\n",
        "# one hot encode our star ratings since Keras/TF requires this for the labels\n",
        "y = OneHotEncoder().fit_transform(rating.values.reshape(len(rating), 1)).toarray()\n",
        "\n",
        "\n",
        "# split our data into train and test sets\n",
        "reviews_train, reviews_test, y_train, y_test = train_test_split(reviews, y, random_state=1)\n",
        "\n",
        "\n",
        "# Pre-process our features (review body)\n",
        "t = Tokenizer(oov_token=\"<UNK>\")\n",
        "# fit the tokenizer on the documents\n",
        "t.fit_on_texts(reviews_train)\n",
        "# tokenize both our training and test data\n",
        "train_sequences = t.texts_to_sequences(reviews_train)\n",
        "test_sequences = t.texts_to_sequences(reviews_test)\n",
        "\n",
        "print(\"Vocabulary size={}\".format(len(t.word_counts)))\n",
        "print(\"Number of Documents={}\".format(t.document_count))\n",
        "\n",
        "\n",
        "# pad our reviews to the max sequence length\n",
        "X_train = sequence.pad_sequences(train_sequences, maxlen=MAX_SEQUENCE_LENGTH)\n",
        "X_test = sequence.pad_sequences(test_sequences, maxlen=MAX_SEQUENCE_LENGTH)\n",
        "\n",
        "print('Train review vectors shape:', X_train.shape, ' Test review vectors shape:', X_test.shape)\n"
      ],
      "execution_count": 5,
      "outputs": [
        {
          "output_type": "stream",
          "text": [
            "Vocabulary size=80202\n",
            "Number of Documents=374123\n",
            "Train review vectors shape: (374123, 100)  Test review vectors shape: (124708, 100)\n"
          ],
          "name": "stdout"
        }
      ]
    },
    {
      "cell_type": "markdown",
      "metadata": {
        "id": "TgorpmIPnQH9",
        "colab_type": "text"
      },
      "source": [
        "## Load our pre-trained embedding\n",
        "\n",
        "embeddings_index will be a map where key == word, value == the embedding vector"
      ]
    },
    {
      "cell_type": "code",
      "metadata": {
        "id": "5j7D7LLinP0r",
        "colab_type": "code",
        "outputId": "eaed4731-9eab-49a0-c4bf-7c4e331d232a",
        "colab": {
          "base_uri": "https://localhost:8080/",
          "height": 87
        }
      },
      "source": [
        "\n",
        "EMBEDDING_INDEX_FILE = f'{DRIVE_DIR}/models/glove.840B.300d-embedding_index'\n",
        "\n",
        "embeddings_index = {}\n",
        "\n",
        "if os.path.exists(f'{EMBEDDING_INDEX_FILE}.npy'):\n",
        "  print(f'Loading {EMBEDDING_INDEX_FILE}.npy')\n",
        "  embeddings_index = np.load(f'{EMBEDDING_INDEX_FILE}.npy', \n",
        "                             allow_pickle = True).item()\n",
        "else:\n",
        "  print('Indexing word vectors.')\n",
        "\n",
        "  with open(EMBEDDING_FILE) as f:\n",
        "      for line in f:\n",
        "          word, coefs = line.split(maxsplit=1)\n",
        "          coefs = np.fromstring(coefs, 'f', sep=' ')\n",
        "          embeddings_index[word] = coefs\n",
        "  np.save(EMBEDDING_INDEX_FILE, embeddings_index)\n",
        "\n",
        "print(type(embeddings_index))\n",
        "print(np.shape(embeddings_index))\n",
        "print('Found %s word vectors.' % len(embeddings_index))\n",
        "\n",
        "\n"
      ],
      "execution_count": 6,
      "outputs": [
        {
          "output_type": "stream",
          "text": [
            "Loading drive/My Drive/Springboard/capstone/models/glove.840B.300d-embedding_index.npy\n",
            "<class 'dict'>\n",
            "()\n",
            "Found 2195884 word vectors.\n"
          ],
          "name": "stdout"
        }
      ]
    },
    {
      "cell_type": "code",
      "metadata": {
        "id": "pchOfR6qnPxB",
        "colab_type": "code",
        "colab": {}
      },
      "source": [
        ""
      ],
      "execution_count": 0,
      "outputs": []
    },
    {
      "cell_type": "code",
      "metadata": {
        "id": "G7L7HL6EnPtA",
        "colab_type": "code",
        "colab": {}
      },
      "source": [
        ""
      ],
      "execution_count": 0,
      "outputs": []
    },
    {
      "cell_type": "markdown",
      "metadata": {
        "id": "rYvqmy4xmQWD",
        "colab_type": "text"
      },
      "source": [
        "## Create Embedding Matrix based on our tokenizer\n",
        "\n",
        "For every word in our vocabulary, we will look up the embedding vector and add the it to our embedding matrix\n",
        "\n",
        "The matrix will be passed in as weights in our embedding layer later\n",
        "\n",
        "If there is word that does not exist in the pre-trained embedding vocabulary, we will leave the weights as 0 vector and save off the word into a CSV file later for analysis"
      ]
    },
    {
      "cell_type": "code",
      "metadata": {
        "id": "bIrMqj-HmPwk",
        "colab_type": "code",
        "outputId": "450edb15-e2eb-4c6d-b108-53e4af4c33bc",
        "colab": {
          "base_uri": "https://localhost:8080/",
          "height": 70
        }
      },
      "source": [
        "# this is a map with key == word, value == index in the vocabulary\n",
        "word_index = t.word_index\n",
        "print(f'word_index length: {len(word_index)}')\n",
        "\n",
        "# we are going to use the entire vocab so we can alter this from the example\n",
        "# num_words = min(MAX_NUM_WORDS, len(word_index) + 1)\n",
        "\n",
        "# start with a matrix of 0's\n",
        "embedding_matrix = np.zeros((len(word_index) + 1, EMBED_SIZE))\n",
        "\n",
        "# if a word doesn't exist in our vocabulary, let's save it off\n",
        "missing_words = []\n",
        "print(f'embedding_matrix shape: {np.shape(embedding_matrix)}')\n",
        "for word, i in word_index.items():\n",
        "    # print(f'word: {word} i: {i}')\n",
        "    embedding_vector = embeddings_index.get(word)\n",
        "    if embedding_vector is not None and np.shape(embedding_vector)[0] == EMBED_SIZE:\n",
        "        # words not found in embedding index will be all-zeros.\n",
        "        # print(f'i: {i} embedding_vector shape: {np.shape(embedding_vector)}')\n",
        "        embedding_matrix[i] = embedding_vector\n",
        "    else:\n",
        "      missing_words.append(word)\n",
        "\n",
        "print(f'Number of missing words from our vocabulary: {len(missing_words)}')\n",
        "\n"
      ],
      "execution_count": 7,
      "outputs": [
        {
          "output_type": "stream",
          "text": [
            "word_index length: 80203\n",
            "embedding_matrix shape: (80204, 300)\n",
            "Number of missing words from our vocabulary: 25805\n"
          ],
          "name": "stdout"
        }
      ]
    },
    {
      "cell_type": "markdown",
      "metadata": {
        "id": "TIw5aJS8trK-",
        "colab_type": "text"
      },
      "source": [
        "Save off our missing words into a csv file so we can analyze this later"
      ]
    },
    {
      "cell_type": "code",
      "metadata": {
        "id": "XN1Vr2oSto2f",
        "colab_type": "code",
        "colab": {}
      },
      "source": [
        "# save missing words into a file so we can analyze it later\n",
        "missing_words_df = pd.DataFrame(missing_words)\n",
        "missing_words_df.to_csv(MISSING_WORDS_FILE, index=False)"
      ],
      "execution_count": 0,
      "outputs": []
    },
    {
      "cell_type": "markdown",
      "metadata": {
        "id": "6hWLBCjqucDJ",
        "colab_type": "text"
      },
      "source": [
        "**Build LSTM Model Architecture**"
      ]
    },
    {
      "cell_type": "code",
      "metadata": {
        "scrolled": false,
        "id": "60eC_0fRJXiQ",
        "colab_type": "code",
        "outputId": "7d6eefc3-2741-473c-afad-7a6330ce8e41",
        "colab": {
          "base_uri": "https://localhost:8080/",
          "height": 978
        }
      },
      "source": [
        "vocab_size = len(t.word_index)+1\n",
        "\n",
        "# reduce learning rate if we sense a plateau\n",
        "reduce_lr = ReduceLROnPlateau(monitor='val_loss', \n",
        "                              restore_best_weights=True)\n",
        "\n",
        "early_stop = EarlyStopping(monitor='val_loss', \n",
        "                           patience=PATIENCE, \n",
        "                           verbose=1,\n",
        "                           restore_best_weights=True)\n",
        "\n",
        "\n",
        "\n",
        "mw = ku.LSTM1LayerModelWrapper(\n",
        "                        lstm_dim = LSTM_DIM, # LSTM dim - LSTM1LyerModelWrapper\n",
        "                          dropout_rate = DROPOUT_RATE, # dropout rate - LSTM1LyerModelWrapper\n",
        "                          recurrent_dropout_rate = RECURRENT_DROPOUT_RATE, # recurrent dropout rate - LSTM1LyerModelWrapper\n",
        "                          bidirectional = BIDIRECTIONAL, # bidirectional - LSTM1LyerModelWrapper\n",
        "                          vocab_size = vocab_size,       # vocab size - EmbeddingModelWrapper\n",
        "                          max_sequence_length = MAX_SEQUENCE_LENGTH, # max sequence length - EmbeddingModelWrapper\n",
        "                          embed_size = EMBED_SIZE, # embed size - EmbeddingModelWrapper\n",
        "                        train_embeddings  =  TRAIN_EMBEDDINGS, # trainable embedding - EmbeddingModelWrapper\n",
        "                        model_name = MODEL_NAME, # model name - ModelWrapper\n",
        "                        architecture = ARCHITECTURE, # architecture - ModelWrapper\n",
        "                        feature_set_name = FEATURE_SET_NAME, # feature_set_name - ModelWrapper\n",
        "                        label_column = LABEL_COLUMN, # label_column - ModelWrapper\n",
        "                        feature_column = FEATURE_COLUMN, # feature_column - ModelWrapper\n",
        "                        data_file = DATA_FILE, # data file - ModelWrapper\n",
        "                        sample_size_str = SAMPLES, # sample size\n",
        "                        tokenizer = t, # tokenizer - ModelWrapper\n",
        "                        description = DESCRIPTION, #description - ModelWrapper\n",
        "                        optimizer_name = \"Adam\", # string optimizer name\n",
        "                        learning_rate = LEARNING_RATE, # learning rate - ModelWrapper\n",
        "                        # TODO: this should be in fit instead but need it to define name for the\n",
        "                        # checkpoint location - move later\n",
        "                        batch_size = BATCH_SIZE, # batch size - ModelWrapper\n",
        "                        model_version= MODEL_VERSION, # model version - ModelWrapper\n",
        "                        save_dir = DRIVE_DIR # where to save outputs - ModelWrapper\n",
        ")\n",
        "\n",
        "mw.add(\"environment\", ENVIRONMENT)\n",
        "mw.add(\"patience\", PATIENCE)\n",
        "\n",
        "network_history = mw.fit(X_train, y_train,\n",
        "                      epochs = EPOCHS,\n",
        "                      verbose = 1,\n",
        "                      validation_split = 0.2,\n",
        "                      balance_class_weights = BALANCE_CLASS_WEIGHTS,\n",
        "                      callbacks=[early_stop, reduce_lr])\n",
        "\n",
        "                      "
      ],
      "execution_count": 9,
      "outputs": [
        {
          "output_type": "stream",
          "text": [
            "Model: \"sequential\"\n",
            "_________________________________________________________________\n",
            "Layer (type)                 Output Shape              Param #   \n",
            "=================================================================\n",
            "embedding (Embedding)        (None, 100, 300)          24061200  \n",
            "_________________________________________________________________\n",
            "lstm (LSTM)                  (None, 128)               219648    \n",
            "_________________________________________________________________\n",
            "dense (Dense)                (None, 5)                 645       \n",
            "=================================================================\n",
            "Total params: 24,281,493\n",
            "Trainable params: 220,293\n",
            "Non-trainable params: 24,061,200\n",
            "_________________________________________________________________\n",
            "Build model:\n",
            "None\n",
            "Epoch 1/20\n",
            "9352/9354 [============================>.] - ETA: 0s - loss: 1.1810 - categorical_accuracy: 0.5680\n",
            "Epoch 00001: val_loss improved from inf to 0.95979, saving model to drive/My Drive/Springboard/capstone/models/LSTMB128-1x128-dr0-rdr0-batch32-lr01-glove_with_stop_nonlemmatized-sampling_none-500k-review_body-v1/checkpoints\n",
            "WARNING:tensorflow:From /usr/local/lib/python3.6/dist-packages/tensorflow/python/ops/resource_variable_ops.py:1817: calling BaseResourceVariable.__init__ (from tensorflow.python.ops.resource_variable_ops) with constraint is deprecated and will be removed in a future version.\n",
            "Instructions for updating:\n",
            "If using Keras pass *_constraint arguments to layers.\n"
          ],
          "name": "stdout"
        },
        {
          "output_type": "stream",
          "text": [
            "WARNING:tensorflow:From /usr/local/lib/python3.6/dist-packages/tensorflow/python/ops/resource_variable_ops.py:1817: calling BaseResourceVariable.__init__ (from tensorflow.python.ops.resource_variable_ops) with constraint is deprecated and will be removed in a future version.\n",
            "Instructions for updating:\n",
            "If using Keras pass *_constraint arguments to layers.\n"
          ],
          "name": "stderr"
        },
        {
          "output_type": "stream",
          "text": [
            "INFO:tensorflow:Assets written to: drive/My Drive/Springboard/capstone/models/LSTMB128-1x128-dr0-rdr0-batch32-lr01-glove_with_stop_nonlemmatized-sampling_none-500k-review_body-v1/checkpoints/assets\n"
          ],
          "name": "stdout"
        },
        {
          "output_type": "stream",
          "text": [
            "INFO:tensorflow:Assets written to: drive/My Drive/Springboard/capstone/models/LSTMB128-1x128-dr0-rdr0-batch32-lr01-glove_with_stop_nonlemmatized-sampling_none-500k-review_body-v1/checkpoints/assets\n"
          ],
          "name": "stderr"
        },
        {
          "output_type": "stream",
          "text": [
            "9354/9354 [==============================] - 88s 9ms/step - loss: 1.1810 - categorical_accuracy: 0.5680 - val_loss: 0.9598 - val_categorical_accuracy: 0.6200 - lr: 0.0100\n",
            "Epoch 2/20\n",
            "9353/9354 [============================>.] - ETA: 0s - loss: 1.0657 - categorical_accuracy: 0.6179\n",
            "Epoch 00002: val_loss improved from 0.95979 to 0.94617, saving model to drive/My Drive/Springboard/capstone/models/LSTMB128-1x128-dr0-rdr0-batch32-lr01-glove_with_stop_nonlemmatized-sampling_none-500k-review_body-v1/checkpoints\n",
            "INFO:tensorflow:Assets written to: drive/My Drive/Springboard/capstone/models/LSTMB128-1x128-dr0-rdr0-batch32-lr01-glove_with_stop_nonlemmatized-sampling_none-500k-review_body-v1/checkpoints/assets\n"
          ],
          "name": "stdout"
        },
        {
          "output_type": "stream",
          "text": [
            "INFO:tensorflow:Assets written to: drive/My Drive/Springboard/capstone/models/LSTMB128-1x128-dr0-rdr0-batch32-lr01-glove_with_stop_nonlemmatized-sampling_none-500k-review_body-v1/checkpoints/assets\n"
          ],
          "name": "stderr"
        },
        {
          "output_type": "stream",
          "text": [
            "9354/9354 [==============================] - 86s 9ms/step - loss: 1.0657 - categorical_accuracy: 0.6179 - val_loss: 0.9462 - val_categorical_accuracy: 0.6132 - lr: 0.0100\n",
            "Epoch 3/20\n",
            "9354/9354 [==============================] - ETA: 0s - loss: 1.2643 - categorical_accuracy: 0.5096\n",
            "Epoch 00003: val_loss did not improve from 0.94617\n",
            "9354/9354 [==============================] - 83s 9ms/step - loss: 1.2643 - categorical_accuracy: 0.5096 - val_loss: 1.3551 - val_categorical_accuracy: 0.4152 - lr: 0.0100\n",
            "Epoch 4/20\n",
            "9348/9354 [============================>.] - ETA: 0s - loss: 1.4201 - categorical_accuracy: 0.4227\n",
            "Epoch 00004: val_loss did not improve from 0.94617\n",
            "9354/9354 [==============================] - 83s 9ms/step - loss: 1.4200 - categorical_accuracy: 0.4227 - val_loss: 1.3897 - val_categorical_accuracy: 0.4162 - lr: 0.0100\n",
            "Epoch 5/20\n",
            "9351/9354 [============================>.] - ETA: 0s - loss: 1.3316 - categorical_accuracy: 0.4817\n",
            "Epoch 00005: val_loss did not improve from 0.94617\n",
            "9354/9354 [==============================] - 84s 9ms/step - loss: 1.3316 - categorical_accuracy: 0.4818 - val_loss: 1.2237 - val_categorical_accuracy: 0.5068 - lr: 0.0100\n",
            "Epoch 6/20\n",
            "9349/9354 [============================>.] - ETA: 0s - loss: 1.3944 - categorical_accuracy: 0.4551Restoring model weights from the end of the best epoch.\n",
            "\n",
            "Epoch 00006: val_loss did not improve from 0.94617\n",
            "9354/9354 [==============================] - 83s 9ms/step - loss: 1.3945 - categorical_accuracy: 0.4551 - val_loss: 1.3467 - val_categorical_accuracy: 0.4382 - lr: 0.0100\n",
            "Epoch 00006: early stopping\n",
            "Total training time: 8.49 mins\n"
          ],
          "name": "stdout"
        }
      ]
    },
    {
      "cell_type": "code",
      "metadata": {
        "id": "2VHBrsPjJXiS",
        "colab_type": "code",
        "outputId": "93c45e38-44a0-49c7-be89-2a9d430b16f8",
        "colab": {
          "base_uri": "https://localhost:8080/",
          "height": 552
        }
      },
      "source": [
        "\n",
        "scores = mw.evaluate(X_test, y_test)\n",
        "print(\"Training Accuracy: %.2f%%\" % (mw.train_scores[1]*100))\n",
        "print(\"Test Accuracy: %.2f%%\" % (mw.test_scores[1]*100))\n",
        "print(f'Score: {ru.calculate_metric(mw.test_crd)}')\n",
        "mw.save(append_report=True)\n",
        "\n"
      ],
      "execution_count": 10,
      "outputs": [
        {
          "output_type": "stream",
          "text": [
            "Number of test: 124708\n",
            "Running model.evaluate on test set...\n",
            "3898/3898 [==============================] - 17s 4ms/step - loss: 0.9538 - categorical_accuracy: 0.6110\n",
            "Running model.predict on test set...\n",
            "Unencode test set predictions...\n",
            "Generating test set confusion matrix...\n",
            "Calculating test set ROC AUC...\n",
            "(124708, 5)\n",
            "Getting test set classification report...\n",
            "Running model.evaluate on training set...\n",
            "11692/11692 [==============================] - 53s 5ms/step - loss: 0.9281 - categorical_accuracy: 0.6215\n",
            "Running model.predict on training set...\n",
            "Unencode training set predictions...\n",
            "Generating training set confusion matrix...\n",
            "Calculating training set ROC AUC...\n",
            "(374123, 5)\n",
            "Getting training set classification report...\n",
            "Training Accuracy: 62.15%\n",
            "Test Accuracy: 61.10%\n",
            "Score: 0.5111504597976685\n",
            "Saving to report file: drive/My Drive/Springboard/capstone/reports/LSTMB128_dr0_rdr0_batch32_lr01-glove_with_stop_nonlemmatized-dl_prototype-report.csv\n",
            "Saving report file...\n",
            "Saving json config file: drive/My Drive/Springboard/capstone/models/LSTMB128-1x128-dr0-rdr0-batch32-lr01-glove_with_stop_nonlemmatized-sampling_none-500k-review_body-v1/LSTMB128-1x128-dr0-rdr0-batch32-lr01-glove_with_stop_nonlemmatized-sampling_none-500k-review_body-v1-model.json\n",
            "Saving weights file: drive/My Drive/Springboard/capstone/models/LSTMB128-1x128-dr0-rdr0-batch32-lr01-glove_with_stop_nonlemmatized-sampling_none-500k-review_body-v1/LSTMB128-1x128-dr0-rdr0-batch32-lr01-glove_with_stop_nonlemmatized-sampling_none-500k-review_body-v1-weights.h5\n",
            "Saving history file: drive/My Drive/Springboard/capstone/reports/LSTMB128-1x128-dr0-rdr0-batch32-lr01-glove_with_stop_nonlemmatized-sampling_none-500k-review_body-v1-history.pkl\n",
            "Saving model file: drive/My Drive/Springboard/capstone/models/LSTMB128-1x128-dr0-rdr0-batch32-lr01-glove_with_stop_nonlemmatized-sampling_none-500k-review_body-v1/LSTMB128-1x128-dr0-rdr0-batch32-lr01-glove_with_stop_nonlemmatized-sampling_none-500k-review_body-v1-model.h5\n",
            "Saving SavedModel to: drive/My Drive/Springboard/capstone/models/LSTMB128-1x128-dr0-rdr0-batch32-lr01-glove_with_stop_nonlemmatized-sampling_none-500k-review_body-v1/1\n",
            "INFO:tensorflow:Assets written to: drive/My Drive/Springboard/capstone/models/LSTMB128-1x128-dr0-rdr0-batch32-lr01-glove_with_stop_nonlemmatized-sampling_none-500k-review_body-v1/1/assets\n"
          ],
          "name": "stdout"
        },
        {
          "output_type": "stream",
          "text": [
            "INFO:tensorflow:Assets written to: drive/My Drive/Springboard/capstone/models/LSTMB128-1x128-dr0-rdr0-batch32-lr01-glove_with_stop_nonlemmatized-sampling_none-500k-review_body-v1/1/assets\n"
          ],
          "name": "stderr"
        }
      ]
    },
    {
      "cell_type": "code",
      "metadata": {
        "id": "qMqYwkWjAiBj",
        "colab_type": "code",
        "outputId": "3f8bcd44-3ba7-42c6-b181-b2687513648a",
        "colab": {
          "base_uri": "https://localhost:8080/",
          "height": 1000
        }
      },
      "source": [
        "pu.plot_network_history(mw.network_history, \"categorical_accuracy\", \"val_categorical_accuracy\")\n",
        "plt.show()\n",
        "\n",
        "print(\"\\nConfusion Matrix\")\n",
        "print(mw.test_confusion_matrix)\n",
        "\n",
        "print(\"\\nClassification Report\")\n",
        "print(mw.test_classification_report)\n",
        "\n",
        "fig = plt.figure(figsize=(5,5))\n",
        "pu.plot_roc_auc(mw.model_name, mw.test_roc_auc, mw.test_fpr, mw.test_tpr)\n",
        "\n"
      ],
      "execution_count": 11,
      "outputs": [
        {
          "output_type": "display_data",
          "data": {
            "image/png": "[encoded data removed]",
            "text/plain": [
              "<Figure size 720x360 with 2 Axes>"
            ]
          },
          "metadata": {
            "tags": []
          }
        },
        {
          "output_type": "stream",
          "text": [
            "\n",
            "Confusion Matrix\n",
            "[[12395  3148  1248   366   278]\n",
            " [ 2760  2724  1974   505   168]\n",
            " [ 1184  2164  4845  2547   514]\n",
            " [  474   844  3401 10791  5311]\n",
            " [ 1273  1006  2639 16709 45440]]\n",
            "\n",
            "Classification Report\n",
            "              precision    recall  f1-score   support\n",
            "\n",
            "           1       0.69      0.71      0.70     17435\n",
            "           2       0.28      0.34      0.30      8131\n",
            "           3       0.34      0.43      0.38     11254\n",
            "           4       0.35      0.52      0.42     20821\n",
            "           5       0.88      0.68      0.77     67067\n",
            "\n",
            "    accuracy                           0.61    124708\n",
            "   macro avg       0.51      0.53      0.51    124708\n",
            "weighted avg       0.68      0.61      0.63    124708\n",
            "\n"
          ],
          "name": "stdout"
        },
        {
          "output_type": "stream",
          "text": [
            "drive/My Drive/Springboard/capstone/util/plot_util.py:267: MatplotlibDeprecationWarning: The 'withdash' parameter of text() is deprecated since Matplotlib 3.1 and will be removed in 3.3.  If any parameter follows 'withdash', they should be pass as keyword, not positionally.\n",
            "  withdash=True)\n",
            "drive/My Drive/Springboard/capstone/util/plot_util.py:267: MatplotlibDeprecationWarning: \n",
            "The TextWithDash class was deprecated in Matplotlib 3.1 and will be removed in 3.3. Use Annotation instead.\n",
            "  withdash=True)\n",
            "drive/My Drive/Springboard/capstone/util/plot_util.py:271: MatplotlibDeprecationWarning: The 'withdash' parameter of text() is deprecated since Matplotlib 3.1 and will be removed in 3.3.  If any parameter follows 'withdash', they should be pass as keyword, not positionally.\n",
            "  withdash=True)\n",
            "drive/My Drive/Springboard/capstone/util/plot_util.py:271: MatplotlibDeprecationWarning: \n",
            "The TextWithDash class was deprecated in Matplotlib 3.1 and will be removed in 3.3. Use Annotation instead.\n",
            "  withdash=True)\n",
            "drive/My Drive/Springboard/capstone/util/plot_util.py:275: MatplotlibDeprecationWarning: The 'withdash' parameter of text() is deprecated since Matplotlib 3.1 and will be removed in 3.3.  If any parameter follows 'withdash', they should be pass as keyword, not positionally.\n",
            "  withdash=True)\n",
            "drive/My Drive/Springboard/capstone/util/plot_util.py:275: MatplotlibDeprecationWarning: \n",
            "The TextWithDash class was deprecated in Matplotlib 3.1 and will be removed in 3.3. Use Annotation instead.\n",
            "  withdash=True)\n"
          ],
          "name": "stderr"
        },
        {
          "output_type": "display_data",
          "data": {
            "image/png": "[encoded data removed]",
            "text/plain": [
              "<Figure size 360x360 with 1 Axes>"
            ]
          },
          "metadata": {
            "tags": []
          }
        }
      ]
    },
    {
      "cell_type": "code",
      "metadata": {
        "id": "YOA18O7wN63j",
        "colab_type": "code",
        "colab": {}
      },
      "source": [
        ""
      ],
      "execution_count": 0,
      "outputs": []
    },
    {
      "cell_type": "markdown",
      "metadata": {
        "id": "z2ot_Nqg1U4w",
        "colab_type": "text"
      },
      "source": [
        "**Save off various files**"
      ]
    },
    {
      "cell_type": "code",
      "metadata": {
        "id": "Al3bCFrI1P5m",
        "colab_type": "code",
        "colab": {}
      },
      "source": [
        ""
      ],
      "execution_count": 0,
      "outputs": []
    },
    {
      "cell_type": "markdown",
      "metadata": {
        "id": "jyLHNyTcfvHp",
        "colab_type": "text"
      },
      "source": [
        "# Test That Our Models Saved Correctly"
      ]
    },
    {
      "cell_type": "code",
      "metadata": {
        "id": "aOF5a51SfyqM",
        "colab_type": "code",
        "outputId": "96b857a4-3baf-47d6-db8f-32e246549953",
        "colab": {
          "base_uri": "https://localhost:8080/",
          "height": 52
        }
      },
      "source": [
        "from tensorflow.keras.models import load_model\n",
        "\n",
        "model_loaded = load_model(mw.model_file)\n",
        "scores = model_loaded.evaluate(X_test, y_test, verbose=1)\n",
        "print(\"Accuracy: %.2f%%\" % (scores[1]*100))\n",
        "\n",
        "# this takes too long for real models\n",
        "if DEBUG == True:\n",
        "  y_predict = model_loaded.predict(X_test)\n",
        "  y_predict_unencoded = ku.unencode(y_predict)\n",
        "  y_test_unencoded = ku.unencode(y_test)\n",
        "\n",
        "  # classification report\n",
        "  print(classification_report(y_test_unencoded, y_predict_unencoded))\n",
        "\n",
        "  # confusion matrix\n",
        "  print(confusion_matrix(y_test_unencoded, y_predict_unencoded))\n"
      ],
      "execution_count": 12,
      "outputs": [
        {
          "output_type": "stream",
          "text": [
            "3898/3898 [==============================] - 18s 4ms/step - loss: 0.9538 - categorical_accuracy: 0.6110\n",
            "Accuracy: 61.10%\n"
          ],
          "name": "stdout"
        }
      ]
    },
    {
      "cell_type": "code",
      "metadata": {
        "id": "96A-A5CBJXiy",
        "colab_type": "code",
        "outputId": "fff39f85-d48f-4a9b-fdc2-927eaab51da9",
        "colab": {
          "base_uri": "https://localhost:8080/",
          "height": 70
        }
      },
      "source": [
        "end_time = datetime.now()\n",
        "print(f\"Start Time: {start_time}\")\n",
        "print(f\"End Time: {end_time}\")\n",
        "print(f\"Total Duraction {round((end_time - start_time).total_seconds() / 60, 2)} mins\")"
      ],
      "execution_count": 13,
      "outputs": [
        {
          "output_type": "stream",
          "text": [
            "Start Time: 2020-05-14 12:30:23.290725\n",
            "End Time: 2020-05-14 12:43:51.851617\n",
            "Total Duraction 13.48 mins\n"
          ],
          "name": "stdout"
        }
      ]
    }
  ]
}