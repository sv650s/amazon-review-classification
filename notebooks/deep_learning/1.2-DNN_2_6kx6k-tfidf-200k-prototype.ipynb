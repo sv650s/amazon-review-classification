{
  "nbformat": 4,
  "nbformat_minor": 0,
  "metadata": {
    "hide_input": false,
    "kernelspec": {
      "name": "python3",
      "display_name": "Python 3"
    },
    "language_info": {
      "codemirror_mode": {
        "name": "ipython",
        "version": 3
      },
      "file_extension": ".py",
      "mimetype": "text/x-python",
      "name": "python",
      "nbconvert_exporter": "python",
      "pygments_lexer": "ipython3",
      "version": "3.7.3"
    },
    "colab": {
      "name": "1.2-DNN_2_1.5x1.5-tfidf-200k-prototype.ipynb",
      "provenance": [],
      "collapsed_sections": [],
      "machine_shape": "hm",
      "include_colab_link": true
    },
    "accelerator": "GPU"
  },
  "cells": [
    {
      "cell_type": "markdown",
      "metadata": {
        "id": "view-in-github",
        "colab_type": "text"
      },
      "source": [
        "<a href=\"https://colab.research.google.com/github/sv650s/amazon-review-classification/blob/master/notebooks/deep_learning/1.2-DNN_2_6kx6k-tfidf-200k-prototype.ipynb\" target=\"_parent\"><img src=\"https://colab.research.google.com/assets/colab-badge.svg\" alt=\"Open In Colab\"/></a>"
      ]
    },
    {
      "cell_type": "markdown",
      "metadata": {
        "id": "lbCz80nowIiZ",
        "colab_type": "text"
      },
      "source": [
        "# 2 Layer DNN 6k x 6k TFIDF Prototype\n",
        "\n",
        "Trying out a 2 layer network using word2vec average embedding. Embedding was creating with word_context == 5\n",
        "Recommendation that I read for NN is the number of neurons should not exceed 2/3 of the number of features which would be around 340 for 512 features\n",
        "\n",
        "\n",
        "\n",
        "Number of hidden layers guidelines:\n",
        "\n",
        "* none - Only capable of representing linear separable functions or decisions.\n",
        "* 1\t- Can approximate any function that contains a continuous mapping from one finite space to another.\n",
        "* 2\t- Can represent an arbitrary decision boundary to arbitrary accuracy with rational activation functions and can approximate any smooth mapping to any accuracy.\n",
        "* 2+ - Additional layers can learn complex representations (sort of automatic feature engineering) for layer layers.\n",
        "\n",
        "\n",
        "Hidden units guidelines:\n",
        "\n",
        "* The number of hidden neurons should be between the size of the input layer and the size of the output layer.\n",
        "* The number of hidden neurons should be 2/3 the size of the input layer, plus the size of the output layer.\n",
        "* The number of hidden neurons should be less than twice the size of the input layer.\n",
        "\n",
        "https://www.heatonresearch.com/2017/06/01/hidden-layers.html\n",
        "\n",
        "\n",
        "Since our decision boundaries do not look linear, I have chosen to use 2 hidden layers. For each layer, there is the same number of hiddent units (10k) as input features.\n",
        "\n",
        "Number of samples: 50k\n",
        "\n"
      ]
    },
    {
      "cell_type": "code",
      "metadata": {
        "id": "Dh6ie2wHy64N",
        "colab_type": "code",
        "outputId": "998c8693-4e77-4719-914f-555b511000e0",
        "colab": {
          "base_uri": "https://localhost:8080/",
          "height": 156
        }
      },
      "source": [
        "from google.colab import drive\n",
        "drive.mount('/content/drive')\n",
        "\n",
        "import sys\n",
        "DRIVE_DIR = \"drive/My Drive/Springboard/capstone\"\n",
        "sys.path.append(DRIVE_DIR)\n",
        "\n",
        "\n",
        "%tensorflow_version 2.x\n",
        "\n",
        "\n",
        "import tensorflow as tf\n",
        "# checl to make sure we are using GPU here\n",
        "tf.test.gpu_device_name()"
      ],
      "execution_count": 0,
      "outputs": [
        {
          "output_type": "stream",
          "text": [
            "Go to this URL in a browser: https://accounts.google.com/o/oauth2/auth?client_id=947318989803-6bn6qk8qdgf4n4g3pfee6491hc0brc4i.apps.googleusercontent.com&redirect_uri=urn%3Aietf%3Awg%3Aoauth%3A2.0%3Aoob&scope=email%20https%3A%2F%2Fwww.googleapis.com%2Fauth%2Fdocs.test%20https%3A%2F%2Fwww.googleapis.com%2Fauth%2Fdrive%20https%3A%2F%2Fwww.googleapis.com%2Fauth%2Fdrive.photos.readonly%20https%3A%2F%2Fwww.googleapis.com%2Fauth%2Fpeopleapi.readonly&response_type=code\n",
            "\n",
            "Enter your authorization code:\n",
            "··········\n",
            "Mounted at /content/drive\n",
            "TensorFlow 2.x selected.\n"
          ],
          "name": "stdout"
        },
        {
          "output_type": "execute_result",
          "data": {
            "text/plain": [
              "'/device:GPU:0'"
            ]
          },
          "metadata": {
            "tags": []
          },
          "execution_count": 1
        }
      ]
    },
    {
      "cell_type": "code",
      "metadata": {
        "id": "wCgiR6gSwIic",
        "colab_type": "code",
        "outputId": "9f6d1586-c040-42ba-b7a6-99cdcbfba5c3",
        "colab": {
          "base_uri": "https://localhost:8080/",
          "height": 34
        }
      },
      "source": [
        "import tensorflow as tf\n",
        "from tensorflow.keras.models import Sequential\n",
        "from tensorflow.keras.layers import Dense, Activation, Dropout\n",
        "from tensorflow.keras.layers import BatchNormalization\n",
        "from tensorflow.keras.callbacks import EarlyStopping, ReduceLROnPlateau\n",
        "from tensorflow.keras.models import load_model\n",
        "from tensorflow.keras.optimizers import SGD\n",
        "import tensorflow.keras as K\n",
        "\n",
        "from sklearn.model_selection import train_test_split\n",
        "from sklearn.preprocessing import OneHotEncoder\n",
        "from sklearn.metrics import confusion_matrix, classification_report\n",
        "import pandas as pd\n",
        "import importlib\n",
        "from IPython.display import SVG\n",
        "from keras.utils.vis_utils import model_to_dot\n",
        "from util import dict_util as du\n",
        "from util import file_util as fu\n",
        "from util import plot_util as pu\n",
        "from util import keras_util as ku\n",
        "import util.report_util as ru\n",
        "\n",
        "\n",
        "import pickle\n",
        "import json\n",
        "from datetime import datetime\n",
        "import os\n",
        "\n",
        "import matplotlib.pyplot as plt\n",
        "import seaborn as sns\n",
        "import logging\n",
        "\n",
        "logging.basicConfig(level=logging.INFO)\n",
        "\n",
        "%matplotlib inline\n",
        "sns.set()"
      ],
      "execution_count": 0,
      "outputs": [
        {
          "output_type": "stream",
          "text": [
            "Using TensorFlow backend.\n"
          ],
          "name": "stderr"
        }
      ]
    },
    {
      "cell_type": "code",
      "metadata": {
        "id": "cu2OWgeVwIig",
        "colab_type": "code",
        "colab": {}
      },
      "source": [
        "DATE_FORMAT = '%Y-%m-%d'\n",
        "TIME_FORMAT = '%Y-%m-%d %H:%M:%S'\n",
        "DATA_DIR = f\"{DRIVE_DIR}/data\"\n",
        "LABEL_COLUMN = \"star_rating\"\n",
        "FEATURE_COLUMN = \"review_body\"\n",
        "RSTATE = 1\n",
        "EPOCH=200\n",
        "BATCH_SIZE = 128\n",
        "EMBED_SIZE = 0\n",
        "PATIENCE=8\n",
        "\n",
        "DEBUG = False\n",
        "\n",
        "MODEL_NAME = \"DNN\"\n",
        "ARCHITECTURE = \"2_1.5x1\"\n",
        "FEATURE_SET_NAME = \"tfidf_ngram13\"\n",
        "DESCRIPTION = \"2 Layer NN with the following hidden units - layer 1: 6k, layer 2: 6k\"\n",
        "if DEBUG:\n",
        "  DATA_FILE = f'{DATA_DIR}/review_body-word2vec-df_none-ngram_none-89-100-nolda.csv'\n",
        "  MODEL_NAME = f\"test-{MODEL_NAME}\"\n",
        "else:\n",
        "  DATA_FILE = f'{DATA_DIR}/review_body-tfidf-df_none-ngram13-199134-4000-nolda.csv'\n",
        "\n",
        "directory, INBASENAME = fu.get_dir_basename(DATA_FILE)\n",
        "DESCRIPTION = f\"{MODEL_NAME}-{ARCHITECTURE}-nobatch-{INBASENAME}-sampling_none-{FEATURE_COLUMN}\"\n"
      ],
      "execution_count": 0,
      "outputs": []
    },
    {
      "cell_type": "code",
      "metadata": {
        "hide_input": false,
        "id": "EsSlqc4DwIij",
        "colab_type": "code",
        "colab": {}
      },
      "source": [
        "df = pd.read_csv(f\"{DATA_FILE}\")\n",
        "rating = df[LABEL_COLUMN]\n",
        "df = df.drop(columns=[\"helpful_votes\", \"total_votes\", \"helpful_product\", \"star_rating\"])"
      ],
      "execution_count": 0,
      "outputs": []
    },
    {
      "cell_type": "code",
      "metadata": {
        "id": "bLSHSo2mwIil",
        "colab_type": "code",
        "outputId": "0eef786a-e47f-4ca4-b737-26f92621a832",
        "colab": {
          "base_uri": "https://localhost:8080/",
          "height": 287
        }
      },
      "source": [
        "df.head()"
      ],
      "execution_count": 0,
      "outputs": [
        {
          "output_type": "execute_result",
          "data": {
            "text/html": [
              "<div>\n",
              "<style scoped>\n",
              "    .dataframe tbody tr th:only-of-type {\n",
              "        vertical-align: middle;\n",
              "    }\n",
              "\n",
              "    .dataframe tbody tr th {\n",
              "        vertical-align: top;\n",
              "    }\n",
              "\n",
              "    .dataframe thead th {\n",
              "        text-align: right;\n",
              "    }\n",
              "</style>\n",
              "<table border=\"1\" class=\"dataframe\">\n",
              "  <thead>\n",
              "    <tr style=\"text-align: right;\">\n",
              "      <th></th>\n",
              "      <th>ability</th>\n",
              "      <th>able</th>\n",
              "      <th>able charge</th>\n",
              "      <th>able get</th>\n",
              "      <th>able use</th>\n",
              "      <th>absolute</th>\n",
              "      <th>absolutely</th>\n",
              "      <th>absolutely love</th>\n",
              "      <th>absolutely love case</th>\n",
              "      <th>absolutely no</th>\n",
              "      <th>abuse</th>\n",
              "      <th>ac</th>\n",
              "      <th>accept</th>\n",
              "      <th>acceptable</th>\n",
              "      <th>access</th>\n",
              "      <th>accessible</th>\n",
              "      <th>accessory</th>\n",
              "      <th>accident</th>\n",
              "      <th>accidentally</th>\n",
              "      <th>according</th>\n",
              "      <th>account</th>\n",
              "      <th>accuracy</th>\n",
              "      <th>accurate</th>\n",
              "      <th>across</th>\n",
              "      <th>act</th>\n",
              "      <th>action</th>\n",
              "      <th>activate</th>\n",
              "      <th>activated</th>\n",
              "      <th>active</th>\n",
              "      <th>activity</th>\n",
              "      <th>actual</th>\n",
              "      <th>actually</th>\n",
              "      <th>actually work</th>\n",
              "      <th>ad</th>\n",
              "      <th>adapter</th>\n",
              "      <th>adaptor</th>\n",
              "      <th>add</th>\n",
              "      <th>add bulk</th>\n",
              "      <th>add much</th>\n",
              "      <th>added</th>\n",
              "      <th>...</th>\n",
              "      <th>would probably</th>\n",
              "      <th>would purchase</th>\n",
              "      <th>would rather</th>\n",
              "      <th>would recommend</th>\n",
              "      <th>would recommend anyone</th>\n",
              "      <th>would recommend case</th>\n",
              "      <th>would recommend product</th>\n",
              "      <th>would say</th>\n",
              "      <th>would still</th>\n",
              "      <th>would suggest</th>\n",
              "      <th>would take</th>\n",
              "      <th>would think</th>\n",
              "      <th>would work</th>\n",
              "      <th>wouldnt</th>\n",
              "      <th>wow</th>\n",
              "      <th>wrap</th>\n",
              "      <th>wrap around</th>\n",
              "      <th>wrist</th>\n",
              "      <th>write</th>\n",
              "      <th>write review</th>\n",
              "      <th>writing</th>\n",
              "      <th>written</th>\n",
              "      <th>wrong</th>\n",
              "      <th>wrote</th>\n",
              "      <th>xm</th>\n",
              "      <th>yeah</th>\n",
              "      <th>year</th>\n",
              "      <th>year ago</th>\n",
              "      <th>year old</th>\n",
              "      <th>year still</th>\n",
              "      <th>yellow</th>\n",
              "      <th>yes</th>\n",
              "      <th>yesterday</th>\n",
              "      <th>yet</th>\n",
              "      <th>youtube</th>\n",
              "      <th>youtube video</th>\n",
              "      <th>yr</th>\n",
              "      <th>zagg</th>\n",
              "      <th>zero</th>\n",
              "      <th>zune</th>\n",
              "    </tr>\n",
              "  </thead>\n",
              "  <tbody>\n",
              "    <tr>\n",
              "      <th>0</th>\n",
              "      <td>0.0</td>\n",
              "      <td>0.00</td>\n",
              "      <td>0.0</td>\n",
              "      <td>0.0</td>\n",
              "      <td>0.0</td>\n",
              "      <td>0.0</td>\n",
              "      <td>0.0</td>\n",
              "      <td>0.0</td>\n",
              "      <td>0.0</td>\n",
              "      <td>0.0</td>\n",
              "      <td>0.0</td>\n",
              "      <td>0.0</td>\n",
              "      <td>0.0</td>\n",
              "      <td>0.0</td>\n",
              "      <td>0.0</td>\n",
              "      <td>0.0</td>\n",
              "      <td>0.0</td>\n",
              "      <td>0.0</td>\n",
              "      <td>0.0</td>\n",
              "      <td>0.0</td>\n",
              "      <td>0.0</td>\n",
              "      <td>0.0</td>\n",
              "      <td>0.0</td>\n",
              "      <td>0.0</td>\n",
              "      <td>0.0</td>\n",
              "      <td>0.0</td>\n",
              "      <td>0.0</td>\n",
              "      <td>0.0</td>\n",
              "      <td>0.0</td>\n",
              "      <td>0.0</td>\n",
              "      <td>0.0</td>\n",
              "      <td>0.0</td>\n",
              "      <td>0.0</td>\n",
              "      <td>0.0</td>\n",
              "      <td>0.0</td>\n",
              "      <td>0.0</td>\n",
              "      <td>0.0</td>\n",
              "      <td>0.0</td>\n",
              "      <td>0.0</td>\n",
              "      <td>0.0</td>\n",
              "      <td>...</td>\n",
              "      <td>0.0</td>\n",
              "      <td>0.0</td>\n",
              "      <td>0.0</td>\n",
              "      <td>0.0</td>\n",
              "      <td>0.0</td>\n",
              "      <td>0.0</td>\n",
              "      <td>0.0</td>\n",
              "      <td>0.0</td>\n",
              "      <td>0.0</td>\n",
              "      <td>0.0</td>\n",
              "      <td>0.0</td>\n",
              "      <td>0.0</td>\n",
              "      <td>0.0</td>\n",
              "      <td>0.0</td>\n",
              "      <td>0.0</td>\n",
              "      <td>0.0</td>\n",
              "      <td>0.0</td>\n",
              "      <td>0.0</td>\n",
              "      <td>0.0</td>\n",
              "      <td>0.0</td>\n",
              "      <td>0.0</td>\n",
              "      <td>0.0</td>\n",
              "      <td>0.0</td>\n",
              "      <td>0.0</td>\n",
              "      <td>0.0</td>\n",
              "      <td>0.0</td>\n",
              "      <td>0.0</td>\n",
              "      <td>0.0</td>\n",
              "      <td>0.0</td>\n",
              "      <td>0.0</td>\n",
              "      <td>0.0</td>\n",
              "      <td>0.0</td>\n",
              "      <td>0.0</td>\n",
              "      <td>0.0</td>\n",
              "      <td>0.0</td>\n",
              "      <td>0.0</td>\n",
              "      <td>0.0</td>\n",
              "      <td>0.0</td>\n",
              "      <td>0.0</td>\n",
              "      <td>0.0</td>\n",
              "    </tr>\n",
              "    <tr>\n",
              "      <th>1</th>\n",
              "      <td>0.0</td>\n",
              "      <td>0.00</td>\n",
              "      <td>0.0</td>\n",
              "      <td>0.0</td>\n",
              "      <td>0.0</td>\n",
              "      <td>0.0</td>\n",
              "      <td>0.0</td>\n",
              "      <td>0.0</td>\n",
              "      <td>0.0</td>\n",
              "      <td>0.0</td>\n",
              "      <td>0.0</td>\n",
              "      <td>0.0</td>\n",
              "      <td>0.0</td>\n",
              "      <td>0.0</td>\n",
              "      <td>0.0</td>\n",
              "      <td>0.0</td>\n",
              "      <td>0.0</td>\n",
              "      <td>0.0</td>\n",
              "      <td>0.0</td>\n",
              "      <td>0.0</td>\n",
              "      <td>0.0</td>\n",
              "      <td>0.0</td>\n",
              "      <td>0.0</td>\n",
              "      <td>0.0</td>\n",
              "      <td>0.0</td>\n",
              "      <td>0.0</td>\n",
              "      <td>0.0</td>\n",
              "      <td>0.0</td>\n",
              "      <td>0.0</td>\n",
              "      <td>0.0</td>\n",
              "      <td>0.0</td>\n",
              "      <td>0.0</td>\n",
              "      <td>0.0</td>\n",
              "      <td>0.0</td>\n",
              "      <td>0.0</td>\n",
              "      <td>0.0</td>\n",
              "      <td>0.0</td>\n",
              "      <td>0.0</td>\n",
              "      <td>0.0</td>\n",
              "      <td>0.0</td>\n",
              "      <td>...</td>\n",
              "      <td>0.0</td>\n",
              "      <td>0.0</td>\n",
              "      <td>0.0</td>\n",
              "      <td>0.0</td>\n",
              "      <td>0.0</td>\n",
              "      <td>0.0</td>\n",
              "      <td>0.0</td>\n",
              "      <td>0.0</td>\n",
              "      <td>0.0</td>\n",
              "      <td>0.0</td>\n",
              "      <td>0.0</td>\n",
              "      <td>0.0</td>\n",
              "      <td>0.0</td>\n",
              "      <td>0.0</td>\n",
              "      <td>0.0</td>\n",
              "      <td>0.0</td>\n",
              "      <td>0.0</td>\n",
              "      <td>0.0</td>\n",
              "      <td>0.0</td>\n",
              "      <td>0.0</td>\n",
              "      <td>0.0</td>\n",
              "      <td>0.0</td>\n",
              "      <td>0.0</td>\n",
              "      <td>0.0</td>\n",
              "      <td>0.0</td>\n",
              "      <td>0.0</td>\n",
              "      <td>0.0</td>\n",
              "      <td>0.0</td>\n",
              "      <td>0.0</td>\n",
              "      <td>0.0</td>\n",
              "      <td>0.0</td>\n",
              "      <td>0.0</td>\n",
              "      <td>0.0</td>\n",
              "      <td>0.0</td>\n",
              "      <td>0.0</td>\n",
              "      <td>0.0</td>\n",
              "      <td>0.0</td>\n",
              "      <td>0.0</td>\n",
              "      <td>0.0</td>\n",
              "      <td>0.0</td>\n",
              "    </tr>\n",
              "    <tr>\n",
              "      <th>2</th>\n",
              "      <td>0.0</td>\n",
              "      <td>0.00</td>\n",
              "      <td>0.0</td>\n",
              "      <td>0.0</td>\n",
              "      <td>0.0</td>\n",
              "      <td>0.0</td>\n",
              "      <td>0.0</td>\n",
              "      <td>0.0</td>\n",
              "      <td>0.0</td>\n",
              "      <td>0.0</td>\n",
              "      <td>0.0</td>\n",
              "      <td>0.0</td>\n",
              "      <td>0.0</td>\n",
              "      <td>0.0</td>\n",
              "      <td>0.0</td>\n",
              "      <td>0.0</td>\n",
              "      <td>0.0</td>\n",
              "      <td>0.0</td>\n",
              "      <td>0.0</td>\n",
              "      <td>0.0</td>\n",
              "      <td>0.0</td>\n",
              "      <td>0.0</td>\n",
              "      <td>0.0</td>\n",
              "      <td>0.0</td>\n",
              "      <td>0.0</td>\n",
              "      <td>0.0</td>\n",
              "      <td>0.0</td>\n",
              "      <td>0.0</td>\n",
              "      <td>0.0</td>\n",
              "      <td>0.0</td>\n",
              "      <td>0.0</td>\n",
              "      <td>0.0</td>\n",
              "      <td>0.0</td>\n",
              "      <td>0.0</td>\n",
              "      <td>0.0</td>\n",
              "      <td>0.0</td>\n",
              "      <td>0.0</td>\n",
              "      <td>0.0</td>\n",
              "      <td>0.0</td>\n",
              "      <td>0.0</td>\n",
              "      <td>...</td>\n",
              "      <td>0.0</td>\n",
              "      <td>0.0</td>\n",
              "      <td>0.0</td>\n",
              "      <td>0.0</td>\n",
              "      <td>0.0</td>\n",
              "      <td>0.0</td>\n",
              "      <td>0.0</td>\n",
              "      <td>0.0</td>\n",
              "      <td>0.0</td>\n",
              "      <td>0.0</td>\n",
              "      <td>0.0</td>\n",
              "      <td>0.0</td>\n",
              "      <td>0.0</td>\n",
              "      <td>0.0</td>\n",
              "      <td>0.0</td>\n",
              "      <td>0.0</td>\n",
              "      <td>0.0</td>\n",
              "      <td>0.0</td>\n",
              "      <td>0.0</td>\n",
              "      <td>0.0</td>\n",
              "      <td>0.0</td>\n",
              "      <td>0.0</td>\n",
              "      <td>0.0</td>\n",
              "      <td>0.0</td>\n",
              "      <td>0.0</td>\n",
              "      <td>0.0</td>\n",
              "      <td>0.0</td>\n",
              "      <td>0.0</td>\n",
              "      <td>0.0</td>\n",
              "      <td>0.0</td>\n",
              "      <td>0.0</td>\n",
              "      <td>0.0</td>\n",
              "      <td>0.0</td>\n",
              "      <td>0.0</td>\n",
              "      <td>0.0</td>\n",
              "      <td>0.0</td>\n",
              "      <td>0.0</td>\n",
              "      <td>0.0</td>\n",
              "      <td>0.0</td>\n",
              "      <td>0.0</td>\n",
              "    </tr>\n",
              "    <tr>\n",
              "      <th>3</th>\n",
              "      <td>0.0</td>\n",
              "      <td>0.22</td>\n",
              "      <td>0.0</td>\n",
              "      <td>0.0</td>\n",
              "      <td>0.0</td>\n",
              "      <td>0.0</td>\n",
              "      <td>0.0</td>\n",
              "      <td>0.0</td>\n",
              "      <td>0.0</td>\n",
              "      <td>0.0</td>\n",
              "      <td>0.0</td>\n",
              "      <td>0.0</td>\n",
              "      <td>0.0</td>\n",
              "      <td>0.0</td>\n",
              "      <td>0.0</td>\n",
              "      <td>0.0</td>\n",
              "      <td>0.0</td>\n",
              "      <td>0.0</td>\n",
              "      <td>0.0</td>\n",
              "      <td>0.0</td>\n",
              "      <td>0.0</td>\n",
              "      <td>0.0</td>\n",
              "      <td>0.0</td>\n",
              "      <td>0.0</td>\n",
              "      <td>0.0</td>\n",
              "      <td>0.0</td>\n",
              "      <td>0.0</td>\n",
              "      <td>0.0</td>\n",
              "      <td>0.0</td>\n",
              "      <td>0.0</td>\n",
              "      <td>0.0</td>\n",
              "      <td>0.0</td>\n",
              "      <td>0.0</td>\n",
              "      <td>0.0</td>\n",
              "      <td>0.0</td>\n",
              "      <td>0.0</td>\n",
              "      <td>0.0</td>\n",
              "      <td>0.0</td>\n",
              "      <td>0.0</td>\n",
              "      <td>0.0</td>\n",
              "      <td>...</td>\n",
              "      <td>0.0</td>\n",
              "      <td>0.0</td>\n",
              "      <td>0.0</td>\n",
              "      <td>0.0</td>\n",
              "      <td>0.0</td>\n",
              "      <td>0.0</td>\n",
              "      <td>0.0</td>\n",
              "      <td>0.0</td>\n",
              "      <td>0.0</td>\n",
              "      <td>0.0</td>\n",
              "      <td>0.0</td>\n",
              "      <td>0.0</td>\n",
              "      <td>0.0</td>\n",
              "      <td>0.0</td>\n",
              "      <td>0.0</td>\n",
              "      <td>0.0</td>\n",
              "      <td>0.0</td>\n",
              "      <td>0.0</td>\n",
              "      <td>0.0</td>\n",
              "      <td>0.0</td>\n",
              "      <td>0.0</td>\n",
              "      <td>0.0</td>\n",
              "      <td>0.0</td>\n",
              "      <td>0.0</td>\n",
              "      <td>0.0</td>\n",
              "      <td>0.0</td>\n",
              "      <td>0.0</td>\n",
              "      <td>0.0</td>\n",
              "      <td>0.0</td>\n",
              "      <td>0.0</td>\n",
              "      <td>0.0</td>\n",
              "      <td>0.0</td>\n",
              "      <td>0.0</td>\n",
              "      <td>0.0</td>\n",
              "      <td>0.0</td>\n",
              "      <td>0.0</td>\n",
              "      <td>0.0</td>\n",
              "      <td>0.0</td>\n",
              "      <td>0.0</td>\n",
              "      <td>0.0</td>\n",
              "    </tr>\n",
              "    <tr>\n",
              "      <th>4</th>\n",
              "      <td>0.0</td>\n",
              "      <td>0.00</td>\n",
              "      <td>0.0</td>\n",
              "      <td>0.0</td>\n",
              "      <td>0.0</td>\n",
              "      <td>0.0</td>\n",
              "      <td>0.0</td>\n",
              "      <td>0.0</td>\n",
              "      <td>0.0</td>\n",
              "      <td>0.0</td>\n",
              "      <td>0.0</td>\n",
              "      <td>0.0</td>\n",
              "      <td>0.0</td>\n",
              "      <td>0.0</td>\n",
              "      <td>0.0</td>\n",
              "      <td>0.0</td>\n",
              "      <td>0.0</td>\n",
              "      <td>0.0</td>\n",
              "      <td>0.0</td>\n",
              "      <td>0.0</td>\n",
              "      <td>0.0</td>\n",
              "      <td>0.0</td>\n",
              "      <td>0.0</td>\n",
              "      <td>0.0</td>\n",
              "      <td>0.0</td>\n",
              "      <td>0.0</td>\n",
              "      <td>0.0</td>\n",
              "      <td>0.0</td>\n",
              "      <td>0.0</td>\n",
              "      <td>0.0</td>\n",
              "      <td>0.0</td>\n",
              "      <td>0.0</td>\n",
              "      <td>0.0</td>\n",
              "      <td>0.0</td>\n",
              "      <td>0.0</td>\n",
              "      <td>0.0</td>\n",
              "      <td>0.0</td>\n",
              "      <td>0.0</td>\n",
              "      <td>0.0</td>\n",
              "      <td>0.0</td>\n",
              "      <td>...</td>\n",
              "      <td>0.0</td>\n",
              "      <td>0.0</td>\n",
              "      <td>0.0</td>\n",
              "      <td>0.0</td>\n",
              "      <td>0.0</td>\n",
              "      <td>0.0</td>\n",
              "      <td>0.0</td>\n",
              "      <td>0.0</td>\n",
              "      <td>0.0</td>\n",
              "      <td>0.0</td>\n",
              "      <td>0.0</td>\n",
              "      <td>0.0</td>\n",
              "      <td>0.0</td>\n",
              "      <td>0.0</td>\n",
              "      <td>0.0</td>\n",
              "      <td>0.0</td>\n",
              "      <td>0.0</td>\n",
              "      <td>0.0</td>\n",
              "      <td>0.0</td>\n",
              "      <td>0.0</td>\n",
              "      <td>0.0</td>\n",
              "      <td>0.0</td>\n",
              "      <td>0.0</td>\n",
              "      <td>0.0</td>\n",
              "      <td>0.0</td>\n",
              "      <td>0.0</td>\n",
              "      <td>0.0</td>\n",
              "      <td>0.0</td>\n",
              "      <td>0.0</td>\n",
              "      <td>0.0</td>\n",
              "      <td>0.0</td>\n",
              "      <td>0.0</td>\n",
              "      <td>0.0</td>\n",
              "      <td>0.0</td>\n",
              "      <td>0.0</td>\n",
              "      <td>0.0</td>\n",
              "      <td>0.0</td>\n",
              "      <td>0.0</td>\n",
              "      <td>0.0</td>\n",
              "      <td>0.0</td>\n",
              "    </tr>\n",
              "  </tbody>\n",
              "</table>\n",
              "<p>5 rows × 4000 columns</p>\n",
              "</div>"
            ],
            "text/plain": [
              "   ability  able  able charge  able get  ...   yr  zagg  zero  zune\n",
              "0      0.0  0.00          0.0       0.0  ...  0.0   0.0   0.0   0.0\n",
              "1      0.0  0.00          0.0       0.0  ...  0.0   0.0   0.0   0.0\n",
              "2      0.0  0.00          0.0       0.0  ...  0.0   0.0   0.0   0.0\n",
              "3      0.0  0.22          0.0       0.0  ...  0.0   0.0   0.0   0.0\n",
              "4      0.0  0.00          0.0       0.0  ...  0.0   0.0   0.0   0.0\n",
              "\n",
              "[5 rows x 4000 columns]"
            ]
          },
          "metadata": {
            "tags": []
          },
          "execution_count": 5
        }
      ]
    },
    {
      "cell_type": "code",
      "metadata": {
        "id": "2CKvu2yZwIin",
        "colab_type": "code",
        "outputId": "a917af28-3d1c-4a48-bc44-b277febe69f4",
        "colab": {
          "base_uri": "https://localhost:8080/",
          "height": 119
        }
      },
      "source": [
        "rating.head()"
      ],
      "execution_count": 0,
      "outputs": [
        {
          "output_type": "execute_result",
          "data": {
            "text/plain": [
              "0    3\n",
              "1    5\n",
              "2    5\n",
              "3    5\n",
              "4    1\n",
              "Name: star_rating, dtype: int64"
            ]
          },
          "metadata": {
            "tags": []
          },
          "execution_count": 6
        }
      ]
    },
    {
      "cell_type": "code",
      "metadata": {
        "id": "4f4vuyP6wIis",
        "colab_type": "code",
        "colab": {}
      },
      "source": [
        "\n",
        "\n",
        "\n",
        "model = Sequential()\n",
        "\n",
        "model.add(Dense(1.5 * df.shape[1], input_shape=(df.shape[1],), kernel_initializer='glorot_uniform'))\n",
        "model.add(Activation('relu'))\n",
        "model.add(Dropout(0.2))\n",
        "\n",
        "model.add(Dense(1.5 * df.shape[1], kernel_initializer='glorot_uniform'))\n",
        "model.add(Activation('relu'))\n",
        "model.add(Dropout(0.2))\n",
        "\n",
        "model.add(Dense(5, activation='relu'))\n",
        "model.add(Activation('softmax'))\n",
        "# model.compile(optimizer=SGD(), loss='categorical_crossentropy', metrics=[custom_metric])\n",
        "model.compile(optimizer=SGD(), loss='categorical_crossentropy', metrics=['categorical_accuracy'])"
      ],
      "execution_count": 0,
      "outputs": []
    },
    {
      "cell_type": "code",
      "metadata": {
        "id": "n7tm341LwIiu",
        "colab_type": "code",
        "outputId": "86f45b03-5ee3-4b74-f825-4f4de05f5901",
        "colab": {
          "base_uri": "https://localhost:8080/",
          "height": 442
        }
      },
      "source": [
        "print(model.summary())"
      ],
      "execution_count": 0,
      "outputs": [
        {
          "output_type": "stream",
          "text": [
            "Model: \"sequential\"\n",
            "_________________________________________________________________\n",
            "Layer (type)                 Output Shape              Param #   \n",
            "=================================================================\n",
            "dense (Dense)                (None, 6000)              24006000  \n",
            "_________________________________________________________________\n",
            "activation (Activation)      (None, 6000)              0         \n",
            "_________________________________________________________________\n",
            "dropout (Dropout)            (None, 6000)              0         \n",
            "_________________________________________________________________\n",
            "dense_1 (Dense)              (None, 6000)              36006000  \n",
            "_________________________________________________________________\n",
            "activation_1 (Activation)    (None, 6000)              0         \n",
            "_________________________________________________________________\n",
            "dropout_1 (Dropout)          (None, 6000)              0         \n",
            "_________________________________________________________________\n",
            "dense_2 (Dense)              (None, 5)                 30005     \n",
            "_________________________________________________________________\n",
            "activation_2 (Activation)    (None, 5)                 0         \n",
            "=================================================================\n",
            "Total params: 60,042,005\n",
            "Trainable params: 60,042,005\n",
            "Non-trainable params: 0\n",
            "_________________________________________________________________\n",
            "None\n"
          ],
          "name": "stdout"
        }
      ]
    },
    {
      "cell_type": "code",
      "metadata": {
        "id": "Q5BCqturwIiy",
        "colab_type": "code",
        "outputId": "a11331ba-831e-4769-b3e0-f228b83edd7c",
        "colab": {
          "base_uri": "https://localhost:8080/",
          "height": 224
        }
      },
      "source": [
        "# one hot encode rating\n",
        "print(rating.shape)\n",
        "print(type(rating))\n",
        "y = OneHotEncoder().fit_transform(rating.values.reshape(len(rating), 1)).toarray()\n",
        "y[:5]"
      ],
      "execution_count": 0,
      "outputs": [
        {
          "output_type": "stream",
          "text": [
            "(199134,)\n",
            "<class 'pandas.core.series.Series'>\n"
          ],
          "name": "stdout"
        },
        {
          "output_type": "stream",
          "text": [
            "/usr/local/lib/python3.6/dist-packages/sklearn/preprocessing/_encoders.py:415: FutureWarning: The handling of integer data will change in version 0.22. Currently, the categories are determined based on the range [0, max(values)], while in the future they will be determined based on the unique values.\n",
            "If you want the future behaviour and silence this warning, you can specify \"categories='auto'\".\n",
            "In case you used a LabelEncoder before this OneHotEncoder to convert the categories to integers, then you can now use the OneHotEncoder directly.\n",
            "  warnings.warn(msg, FutureWarning)\n"
          ],
          "name": "stderr"
        },
        {
          "output_type": "execute_result",
          "data": {
            "text/plain": [
              "array([[0., 0., 1., 0., 0.],\n",
              "       [0., 0., 0., 0., 1.],\n",
              "       [0., 0., 0., 0., 1.],\n",
              "       [0., 0., 0., 0., 1.],\n",
              "       [1., 0., 0., 0., 0.]])"
            ]
          },
          "metadata": {
            "tags": []
          },
          "execution_count": 9
        }
      ]
    },
    {
      "cell_type": "code",
      "metadata": {
        "id": "GrqdTqPzwIi0",
        "colab_type": "code",
        "colab": {}
      },
      "source": [
        "x_train, x_test, y_train, y_test = train_test_split(df, y, random_state=1)"
      ],
      "execution_count": 0,
      "outputs": []
    },
    {
      "cell_type": "code",
      "metadata": {
        "id": "kpZQI3H8_PW0",
        "colab_type": "code",
        "colab": {}
      },
      "source": [
        ""
      ],
      "execution_count": 0,
      "outputs": []
    },
    {
      "cell_type": "code",
      "metadata": {
        "scrolled": false,
        "id": "HhPZ42fMwIi2",
        "colab_type": "code",
        "outputId": "1f6ae517-7b0a-4fcd-fe98-ea1d204fc42f",
        "colab": {
          "base_uri": "https://localhost:8080/",
          "height": 1000
        }
      },
      "source": [
        "import tensorflow.keras as keras\n",
        "import numpy as np\n",
        "import sklearn.metrics as sklm\n",
        "\n",
        "\n",
        "\n",
        "# reduce learning rate if we sense a plateau\n",
        "reduce_lr = ReduceLROnPlateau(monitor='val_loss', \n",
        "                              factor=0.4,\n",
        "                              patience=PATIENCE, \n",
        "                              min_lr=0.00001,\n",
        "                             mode='auto')\n",
        "early_stop = EarlyStopping(monitor='val_loss', patience=PATIENCE, verbose=1)\n",
        "\n",
        "# metric = Metrics()\n",
        "\n",
        "mw = ku.ModelWrapper(model, MODEL_NAME, \n",
        "                     ARCHITECTURE,\n",
        "                     FEATURE_SET_NAME,\n",
        "                     LABEL_COLUMN, DATA_FILE, \n",
        "                     embed_size=EMBED_SIZE,\n",
        "                     tokenizer=None,\n",
        "                     description=DESCRIPTION)\n",
        "\n",
        "from sklearn.utils.class_weight import compute_class_weight\n",
        "\n",
        "weights = compute_class_weight('balanced', np.arange(1, 6), rating)\n",
        "print(f'class weights: {weights}')\n",
        "\n",
        "network_history = mw.fit(x_train, \n",
        "                         y_train,\n",
        "                      batch_size=BATCH_SIZE,\n",
        "                      epochs=EPOCH,\n",
        "                      verbose=1,\n",
        "                      validation_split=0.2,\n",
        "                      callbacks=[early_stop, reduce_lr])"
      ],
      "execution_count": 0,
      "outputs": [
        {
          "output_type": "stream",
          "text": [
            "class weights: [1.43633872 3.07851898 2.18840596 1.19528211 0.3723871 ]\n",
            "Number of training examples: 149350\n",
            "WARNING:tensorflow:Falling back from v2 loop because of error: Failed to find data adapter that can handle input: <class 'pandas.core.frame.DataFrame'>, <class 'NoneType'>\n"
          ],
          "name": "stdout"
        },
        {
          "output_type": "stream",
          "text": [
            "WARNING:tensorflow:Falling back from v2 loop because of error: Failed to find data adapter that can handle input: <class 'pandas.core.frame.DataFrame'>, <class 'NoneType'>\n"
          ],
          "name": "stderr"
        },
        {
          "output_type": "stream",
          "text": [
            "Train on 119480 samples, validate on 29870 samples\n",
            "Epoch 1/200\n",
            "119480/119480 [==============================] - 33s 275us/sample - loss: 1.3490 - categorical_accuracy: 0.5359 - val_loss: 1.3081 - val_categorical_accuracy: 0.5383\n",
            "Epoch 2/200\n",
            "119480/119480 [==============================] - 32s 265us/sample - loss: 1.2944 - categorical_accuracy: 0.5368 - val_loss: 1.2817 - val_categorical_accuracy: 0.5383\n",
            "Epoch 3/200\n",
            "119480/119480 [==============================] - 32s 264us/sample - loss: 1.2696 - categorical_accuracy: 0.5368 - val_loss: 1.2536 - val_categorical_accuracy: 0.5383\n",
            "Epoch 4/200\n",
            "119480/119480 [==============================] - 32s 264us/sample - loss: 1.2313 - categorical_accuracy: 0.5368 - val_loss: 1.2028 - val_categorical_accuracy: 0.5397\n",
            "Epoch 5/200\n",
            "119480/119480 [==============================] - 31s 261us/sample - loss: 1.1713 - categorical_accuracy: 0.5531 - val_loss: 1.1356 - val_categorical_accuracy: 0.5747\n",
            "Epoch 6/200\n",
            "119480/119480 [==============================] - 31s 262us/sample - loss: 1.1077 - categorical_accuracy: 0.5905 - val_loss: 1.0788 - val_categorical_accuracy: 0.6067\n",
            "Epoch 7/200\n",
            "119480/119480 [==============================] - 31s 263us/sample - loss: 1.0592 - categorical_accuracy: 0.6097 - val_loss: 1.0385 - val_categorical_accuracy: 0.6207\n",
            "Epoch 8/200\n",
            "119480/119480 [==============================] - 31s 261us/sample - loss: 1.0234 - categorical_accuracy: 0.6206 - val_loss: 1.0082 - val_categorical_accuracy: 0.6302\n",
            "Epoch 9/200\n",
            "119480/119480 [==============================] - 31s 261us/sample - loss: 0.9959 - categorical_accuracy: 0.6282 - val_loss: 0.9868 - val_categorical_accuracy: 0.6364\n",
            "Epoch 10/200\n",
            "119480/119480 [==============================] - 31s 263us/sample - loss: 0.9748 - categorical_accuracy: 0.6350 - val_loss: 0.9671 - val_categorical_accuracy: 0.6417\n",
            "Epoch 11/200\n",
            "119480/119480 [==============================] - 31s 262us/sample - loss: 0.9581 - categorical_accuracy: 0.6395 - val_loss: 0.9532 - val_categorical_accuracy: 0.6450\n",
            "Epoch 12/200\n",
            "119480/119480 [==============================] - 31s 264us/sample - loss: 0.9446 - categorical_accuracy: 0.6447 - val_loss: 0.9420 - val_categorical_accuracy: 0.6485\n",
            "Epoch 13/200\n",
            "119480/119480 [==============================] - 31s 261us/sample - loss: 0.9341 - categorical_accuracy: 0.6481 - val_loss: 0.9328 - val_categorical_accuracy: 0.6522\n",
            "Epoch 14/200\n",
            "119480/119480 [==============================] - 31s 260us/sample - loss: 0.9245 - categorical_accuracy: 0.6511 - val_loss: 0.9250 - val_categorical_accuracy: 0.6558\n",
            "Epoch 15/200\n",
            "119480/119480 [==============================] - 31s 261us/sample - loss: 0.9147 - categorical_accuracy: 0.6545 - val_loss: 0.9096 - val_categorical_accuracy: 0.6546\n",
            "Epoch 16/200\n",
            "119480/119480 [==============================] - 31s 264us/sample - loss: 0.8953 - categorical_accuracy: 0.6568 - val_loss: 0.8986 - val_categorical_accuracy: 0.6611\n",
            "Epoch 17/200\n",
            "119480/119480 [==============================] - 31s 262us/sample - loss: 0.8873 - categorical_accuracy: 0.6604 - val_loss: 0.8918 - val_categorical_accuracy: 0.6637\n",
            "Epoch 18/200\n",
            "119480/119480 [==============================] - 31s 261us/sample - loss: 0.8797 - categorical_accuracy: 0.6639 - val_loss: 0.8862 - val_categorical_accuracy: 0.6667\n",
            "Epoch 19/200\n",
            "119480/119480 [==============================] - 31s 263us/sample - loss: 0.8735 - categorical_accuracy: 0.6667 - val_loss: 0.8839 - val_categorical_accuracy: 0.6682\n",
            "Epoch 20/200\n",
            "119480/119480 [==============================] - 31s 263us/sample - loss: 0.8669 - categorical_accuracy: 0.6697 - val_loss: 0.8762 - val_categorical_accuracy: 0.6707\n",
            "Epoch 21/200\n",
            "119480/119480 [==============================] - 31s 264us/sample - loss: 0.8614 - categorical_accuracy: 0.6719 - val_loss: 0.8722 - val_categorical_accuracy: 0.6703\n",
            "Epoch 22/200\n",
            "119480/119480 [==============================] - 32s 265us/sample - loss: 0.8566 - categorical_accuracy: 0.6747 - val_loss: 0.8699 - val_categorical_accuracy: 0.6723\n",
            "Epoch 23/200\n",
            "119480/119480 [==============================] - 31s 262us/sample - loss: 0.8519 - categorical_accuracy: 0.6764 - val_loss: 0.8665 - val_categorical_accuracy: 0.6737\n",
            "Epoch 24/200\n",
            "119480/119480 [==============================] - 32s 264us/sample - loss: 0.8482 - categorical_accuracy: 0.6779 - val_loss: 0.8615 - val_categorical_accuracy: 0.6751\n",
            "Epoch 25/200\n",
            "119480/119480 [==============================] - 31s 263us/sample - loss: 0.8440 - categorical_accuracy: 0.6805 - val_loss: 0.8586 - val_categorical_accuracy: 0.6754\n",
            "Epoch 26/200\n",
            "119480/119480 [==============================] - 31s 264us/sample - loss: 0.8407 - categorical_accuracy: 0.6813 - val_loss: 0.8647 - val_categorical_accuracy: 0.6744\n",
            "Epoch 27/200\n",
            "119480/119480 [==============================] - 32s 264us/sample - loss: 0.8374 - categorical_accuracy: 0.6827 - val_loss: 0.8564 - val_categorical_accuracy: 0.6775\n",
            "Epoch 28/200\n",
            "119480/119480 [==============================] - 32s 264us/sample - loss: 0.8340 - categorical_accuracy: 0.6843 - val_loss: 0.8528 - val_categorical_accuracy: 0.6771\n",
            "Epoch 29/200\n",
            "119480/119480 [==============================] - 31s 262us/sample - loss: 0.8311 - categorical_accuracy: 0.6862 - val_loss: 0.8512 - val_categorical_accuracy: 0.6786\n",
            "Epoch 30/200\n",
            "119480/119480 [==============================] - 31s 263us/sample - loss: 0.8288 - categorical_accuracy: 0.6867 - val_loss: 0.8500 - val_categorical_accuracy: 0.6797\n",
            "Epoch 31/200\n",
            "119480/119480 [==============================] - 31s 263us/sample - loss: 0.8260 - categorical_accuracy: 0.6871 - val_loss: 0.8485 - val_categorical_accuracy: 0.6793\n",
            "Epoch 32/200\n",
            "119480/119480 [==============================] - 31s 263us/sample - loss: 0.8238 - categorical_accuracy: 0.6884 - val_loss: 0.8463 - val_categorical_accuracy: 0.6788\n",
            "Epoch 33/200\n",
            "119480/119480 [==============================] - 31s 263us/sample - loss: 0.8214 - categorical_accuracy: 0.6896 - val_loss: 0.8447 - val_categorical_accuracy: 0.6799\n",
            "Epoch 34/200\n",
            "119480/119480 [==============================] - 31s 263us/sample - loss: 0.8195 - categorical_accuracy: 0.6900 - val_loss: 0.8443 - val_categorical_accuracy: 0.6808\n",
            "Epoch 35/200\n",
            "119480/119480 [==============================] - 31s 263us/sample - loss: 0.8176 - categorical_accuracy: 0.6911 - val_loss: 0.8426 - val_categorical_accuracy: 0.6804\n",
            "Epoch 36/200\n",
            "119480/119480 [==============================] - 31s 262us/sample - loss: 0.8159 - categorical_accuracy: 0.6905 - val_loss: 0.8433 - val_categorical_accuracy: 0.6810\n",
            "Epoch 37/200\n",
            "119480/119480 [==============================] - 32s 264us/sample - loss: 0.8138 - categorical_accuracy: 0.6920 - val_loss: 0.8412 - val_categorical_accuracy: 0.6808\n",
            "Epoch 38/200\n",
            "119480/119480 [==============================] - 31s 263us/sample - loss: 0.8125 - categorical_accuracy: 0.6926 - val_loss: 0.8410 - val_categorical_accuracy: 0.6821\n",
            "Epoch 39/200\n",
            "119480/119480 [==============================] - 31s 262us/sample - loss: 0.8105 - categorical_accuracy: 0.6936 - val_loss: 0.8396 - val_categorical_accuracy: 0.6820\n",
            "Epoch 40/200\n",
            "119480/119480 [==============================] - 31s 262us/sample - loss: 0.8093 - categorical_accuracy: 0.6940 - val_loss: 0.8393 - val_categorical_accuracy: 0.6825\n",
            "Epoch 41/200\n",
            "119480/119480 [==============================] - 31s 263us/sample - loss: 0.8080 - categorical_accuracy: 0.6948 - val_loss: 0.8402 - val_categorical_accuracy: 0.6832\n",
            "Epoch 42/200\n",
            "119480/119480 [==============================] - 31s 262us/sample - loss: 0.8059 - categorical_accuracy: 0.6949 - val_loss: 0.8379 - val_categorical_accuracy: 0.6828\n",
            "Epoch 43/200\n",
            "119480/119480 [==============================] - 31s 262us/sample - loss: 0.8049 - categorical_accuracy: 0.6959 - val_loss: 0.8379 - val_categorical_accuracy: 0.6835\n",
            "Epoch 44/200\n",
            "119480/119480 [==============================] - 31s 262us/sample - loss: 0.8033 - categorical_accuracy: 0.6965 - val_loss: 0.8380 - val_categorical_accuracy: 0.6827\n",
            "Epoch 45/200\n",
            "119480/119480 [==============================] - 31s 262us/sample - loss: 0.8019 - categorical_accuracy: 0.6968 - val_loss: 0.8389 - val_categorical_accuracy: 0.6836\n",
            "Epoch 46/200\n",
            "119480/119480 [==============================] - 31s 261us/sample - loss: 0.8005 - categorical_accuracy: 0.6975 - val_loss: 0.8477 - val_categorical_accuracy: 0.6806\n",
            "Epoch 47/200\n",
            "119480/119480 [==============================] - 31s 262us/sample - loss: 0.7993 - categorical_accuracy: 0.6980 - val_loss: 0.8367 - val_categorical_accuracy: 0.6828\n",
            "Epoch 48/200\n",
            "119480/119480 [==============================] - 31s 261us/sample - loss: 0.7980 - categorical_accuracy: 0.6991 - val_loss: 0.8373 - val_categorical_accuracy: 0.6835\n",
            "Epoch 49/200\n",
            "119480/119480 [==============================] - 31s 262us/sample - loss: 0.7961 - categorical_accuracy: 0.6988 - val_loss: 0.8352 - val_categorical_accuracy: 0.6841\n",
            "Epoch 50/200\n",
            "119480/119480 [==============================] - 31s 264us/sample - loss: 0.7950 - categorical_accuracy: 0.6994 - val_loss: 0.8382 - val_categorical_accuracy: 0.6842\n",
            "Epoch 51/200\n",
            "119480/119480 [==============================] - 31s 261us/sample - loss: 0.7937 - categorical_accuracy: 0.7012 - val_loss: 0.8351 - val_categorical_accuracy: 0.6844\n",
            "Epoch 52/200\n",
            "119480/119480 [==============================] - 31s 260us/sample - loss: 0.7922 - categorical_accuracy: 0.7013 - val_loss: 0.8373 - val_categorical_accuracy: 0.6845\n",
            "Epoch 53/200\n",
            "119480/119480 [==============================] - 31s 260us/sample - loss: 0.7918 - categorical_accuracy: 0.7018 - val_loss: 0.8350 - val_categorical_accuracy: 0.6841\n",
            "Epoch 54/200\n",
            "119480/119480 [==============================] - 31s 261us/sample - loss: 0.7899 - categorical_accuracy: 0.7017 - val_loss: 0.8359 - val_categorical_accuracy: 0.6847\n",
            "Epoch 55/200\n",
            "119480/119480 [==============================] - 31s 262us/sample - loss: 0.7892 - categorical_accuracy: 0.7025 - val_loss: 0.8345 - val_categorical_accuracy: 0.6851\n",
            "Epoch 56/200\n",
            "119480/119480 [==============================] - 31s 262us/sample - loss: 0.7876 - categorical_accuracy: 0.7035 - val_loss: 0.8352 - val_categorical_accuracy: 0.6844\n",
            "Epoch 57/200\n",
            "119480/119480 [==============================] - 31s 263us/sample - loss: 0.7867 - categorical_accuracy: 0.7028 - val_loss: 0.8340 - val_categorical_accuracy: 0.6852\n",
            "Epoch 58/200\n",
            "119480/119480 [==============================] - 31s 261us/sample - loss: 0.7858 - categorical_accuracy: 0.7036 - val_loss: 0.8338 - val_categorical_accuracy: 0.6856\n",
            "Epoch 59/200\n",
            "119480/119480 [==============================] - 31s 263us/sample - loss: 0.7842 - categorical_accuracy: 0.7043 - val_loss: 0.8337 - val_categorical_accuracy: 0.6856\n",
            "Epoch 60/200\n",
            "119480/119480 [==============================] - 31s 263us/sample - loss: 0.7800 - categorical_accuracy: 0.7050 - val_loss: 0.8205 - val_categorical_accuracy: 0.6853\n",
            "Epoch 61/200\n",
            "119480/119480 [==============================] - 31s 262us/sample - loss: 0.7637 - categorical_accuracy: 0.7060 - val_loss: 0.8141 - val_categorical_accuracy: 0.6852\n",
            "Epoch 62/200\n",
            "119480/119480 [==============================] - 31s 262us/sample - loss: 0.7588 - categorical_accuracy: 0.7061 - val_loss: 0.8121 - val_categorical_accuracy: 0.6839\n",
            "Epoch 63/200\n",
            "119480/119480 [==============================] - 31s 262us/sample - loss: 0.7562 - categorical_accuracy: 0.7063 - val_loss: 0.8119 - val_categorical_accuracy: 0.6846\n",
            "Epoch 64/200\n",
            "119480/119480 [==============================] - 31s 263us/sample - loss: 0.7532 - categorical_accuracy: 0.7072 - val_loss: 0.8102 - val_categorical_accuracy: 0.6846\n",
            "Epoch 65/200\n",
            "119480/119480 [==============================] - 31s 263us/sample - loss: 0.7520 - categorical_accuracy: 0.7065 - val_loss: 0.8081 - val_categorical_accuracy: 0.6848\n",
            "Epoch 66/200\n",
            "119480/119480 [==============================] - 31s 263us/sample - loss: 0.7500 - categorical_accuracy: 0.7076 - val_loss: 0.8143 - val_categorical_accuracy: 0.6842\n",
            "Epoch 67/200\n",
            "119480/119480 [==============================] - 31s 263us/sample - loss: 0.7475 - categorical_accuracy: 0.7088 - val_loss: 0.8162 - val_categorical_accuracy: 0.6827\n",
            "Epoch 68/200\n",
            "119480/119480 [==============================] - 31s 262us/sample - loss: 0.7465 - categorical_accuracy: 0.7090 - val_loss: 0.8070 - val_categorical_accuracy: 0.6859\n",
            "Epoch 69/200\n",
            "119480/119480 [==============================] - 31s 262us/sample - loss: 0.7448 - categorical_accuracy: 0.7095 - val_loss: 0.8081 - val_categorical_accuracy: 0.6855\n",
            "Epoch 70/200\n",
            "119480/119480 [==============================] - 31s 262us/sample - loss: 0.7432 - categorical_accuracy: 0.7107 - val_loss: 0.8067 - val_categorical_accuracy: 0.6860\n",
            "Epoch 71/200\n",
            "119480/119480 [==============================] - 31s 262us/sample - loss: 0.7418 - categorical_accuracy: 0.7100 - val_loss: 0.8079 - val_categorical_accuracy: 0.6857\n",
            "Epoch 72/200\n",
            "119480/119480 [==============================] - 31s 263us/sample - loss: 0.7401 - categorical_accuracy: 0.7110 - val_loss: 0.8092 - val_categorical_accuracy: 0.6853\n",
            "Epoch 73/200\n",
            "119480/119480 [==============================] - 31s 260us/sample - loss: 0.7389 - categorical_accuracy: 0.7124 - val_loss: 0.8074 - val_categorical_accuracy: 0.6862\n",
            "Epoch 74/200\n",
            "119480/119480 [==============================] - 31s 260us/sample - loss: 0.7367 - categorical_accuracy: 0.7126 - val_loss: 0.8064 - val_categorical_accuracy: 0.6865\n",
            "Epoch 75/200\n",
            "119480/119480 [==============================] - 31s 261us/sample - loss: 0.7356 - categorical_accuracy: 0.7129 - val_loss: 0.8062 - val_categorical_accuracy: 0.6871\n",
            "Epoch 76/200\n",
            "119480/119480 [==============================] - 31s 262us/sample - loss: 0.7334 - categorical_accuracy: 0.7139 - val_loss: 0.8070 - val_categorical_accuracy: 0.6861\n",
            "Epoch 77/200\n",
            "119480/119480 [==============================] - 31s 263us/sample - loss: 0.7323 - categorical_accuracy: 0.7145 - val_loss: 0.8074 - val_categorical_accuracy: 0.6864\n",
            "Epoch 78/200\n",
            "119480/119480 [==============================] - 31s 263us/sample - loss: 0.7307 - categorical_accuracy: 0.7146 - val_loss: 0.8088 - val_categorical_accuracy: 0.6856\n",
            "Epoch 79/200\n",
            "119480/119480 [==============================] - 31s 263us/sample - loss: 0.7292 - categorical_accuracy: 0.7149 - val_loss: 0.8061 - val_categorical_accuracy: 0.6872\n",
            "Epoch 80/200\n",
            "119480/119480 [==============================] - 31s 264us/sample - loss: 0.7277 - categorical_accuracy: 0.7168 - val_loss: 0.8085 - val_categorical_accuracy: 0.6848\n",
            "Epoch 81/200\n",
            "119480/119480 [==============================] - 31s 262us/sample - loss: 0.7255 - categorical_accuracy: 0.7168 - val_loss: 0.8103 - val_categorical_accuracy: 0.6846\n",
            "Epoch 82/200\n",
            "119480/119480 [==============================] - 31s 261us/sample - loss: 0.7243 - categorical_accuracy: 0.7175 - val_loss: 0.8082 - val_categorical_accuracy: 0.6887\n",
            "Epoch 83/200\n",
            "119480/119480 [==============================] - 31s 263us/sample - loss: 0.7228 - categorical_accuracy: 0.7187 - val_loss: 0.8072 - val_categorical_accuracy: 0.6883\n",
            "Epoch 84/200\n",
            "119480/119480 [==============================] - 31s 263us/sample - loss: 0.7182 - categorical_accuracy: 0.7190 - val_loss: 0.8070 - val_categorical_accuracy: 0.6866\n",
            "Epoch 85/200\n",
            "119480/119480 [==============================] - 32s 264us/sample - loss: 0.7178 - categorical_accuracy: 0.7209 - val_loss: 0.8072 - val_categorical_accuracy: 0.6870\n",
            "Epoch 86/200\n",
            "119480/119480 [==============================] - 31s 263us/sample - loss: 0.7167 - categorical_accuracy: 0.7209 - val_loss: 0.8089 - val_categorical_accuracy: 0.6855\n",
            "Epoch 87/200\n",
            "119480/119480 [==============================] - 31s 263us/sample - loss: 0.7166 - categorical_accuracy: 0.7211 - val_loss: 0.8071 - val_categorical_accuracy: 0.6868\n",
            "Epoch 00087: early stopping\n"
          ],
          "name": "stdout"
        }
      ]
    },
    {
      "cell_type": "code",
      "metadata": {
        "id": "4AFkPh27wIi4",
        "colab_type": "code",
        "outputId": "ad5b43bb-3b27-4674-8a3f-31890bd62055",
        "colab": {
          "base_uri": "https://localhost:8080/",
          "height": 258
        }
      },
      "source": [
        "scores = mw.evaluate(x_test, y_test)\n",
        "print(\"Accuracy: %.2f%%\" % (mw.scores[1]*100))\n"
      ],
      "execution_count": 0,
      "outputs": [
        {
          "output_type": "stream",
          "text": [
            "Number of test: 49784\n",
            "Running model.evaluate...\n",
            "WARNING:tensorflow:Falling back from v2 loop because of error: Failed to find data adapter that can handle input: <class 'pandas.core.frame.DataFrame'>, <class 'NoneType'>\n"
          ],
          "name": "stdout"
        },
        {
          "output_type": "stream",
          "text": [
            "WARNING:tensorflow:Falling back from v2 loop because of error: Failed to find data adapter that can handle input: <class 'pandas.core.frame.DataFrame'>, <class 'NoneType'>\n"
          ],
          "name": "stderr"
        },
        {
          "output_type": "stream",
          "text": [
            "49784/49784 [==============================] - 6s 116us/sample - loss: 0.8035 - categorical_accuracy: 0.6871\n",
            "Running model.predict...\n",
            "WARNING:tensorflow:Falling back from v2 loop because of error: Failed to find data adapter that can handle input: <class 'pandas.core.frame.DataFrame'>, <class 'NoneType'>\n"
          ],
          "name": "stdout"
        },
        {
          "output_type": "stream",
          "text": [
            "WARNING:tensorflow:Falling back from v2 loop because of error: Failed to find data adapter that can handle input: <class 'pandas.core.frame.DataFrame'>, <class 'NoneType'>\n"
          ],
          "name": "stderr"
        },
        {
          "output_type": "stream",
          "text": [
            "Unencode predictions...\n",
            "Generating confusion matrix...\n",
            "Calculating ROC AUC...\n",
            "Getting classification report...\n",
            "Accuracy: 68.71%\n"
          ],
          "name": "stdout"
        }
      ]
    },
    {
      "cell_type": "code",
      "metadata": {
        "id": "Sy0qCyklwIi7",
        "colab_type": "code",
        "outputId": "1aeba1e7-e509-4d15-d04f-2b7c164472ac",
        "colab": {
          "base_uri": "https://localhost:8080/",
          "height": 339
        }
      },
      "source": [
        "\n",
        "importlib.reload(pu)\n",
        "pu.plot_network_history(mw.network_history, \"categorical_accuracy\", \"val_categorical_accuracy\")\n"
      ],
      "execution_count": 0,
      "outputs": [
        {
          "output_type": "display_data",
          "data": {
            "image/png": "[encoded data removed]",
            "text/plain": [
              "<Figure size 720x360 with 2 Axes>"
            ]
          },
          "metadata": {
            "tags": []
          }
        }
      ]
    },
    {
      "cell_type": "code",
      "metadata": {
        "id": "cWzmvCIPwIjB",
        "colab_type": "code",
        "outputId": "504957f7-f60e-4a41-87dd-faa8556a5506",
        "colab": {
          "base_uri": "https://localhost:8080/",
          "height": 102
        }
      },
      "source": [
        "\n",
        "mw.confusion_matrix"
      ],
      "execution_count": 0,
      "outputs": [
        {
          "output_type": "execute_result",
          "data": {
            "text/plain": [
              "array([[ 5796,   120,   482,    88,   495],\n",
              "       [ 1747,   162,   731,   198,   387],\n",
              "       [  974,   120,  1520,   848,  1078],\n",
              "       [  313,    35,   864,  2297,  4789],\n",
              "       [  501,    11,   443,  1352, 24433]])"
            ]
          },
          "metadata": {
            "tags": []
          },
          "execution_count": 14
        }
      ]
    },
    {
      "cell_type": "code",
      "metadata": {
        "id": "W3FJ8vqTwIjJ",
        "colab_type": "code",
        "outputId": "dd3f6869-aecd-423b-83f0-8f74e00f8cff",
        "colab": {
          "base_uri": "https://localhost:8080/",
          "height": 221
        }
      },
      "source": [
        "# print(classification_report(y_test_unencoded, y_predict_unencoded))\n",
        "print(mw.classification_report)\n"
      ],
      "execution_count": 0,
      "outputs": [
        {
          "output_type": "stream",
          "text": [
            "              precision    recall  f1-score   support\n",
            "\n",
            "           1       0.62      0.83      0.71      6981\n",
            "           2       0.36      0.05      0.09      3225\n",
            "           3       0.38      0.33      0.35      4540\n",
            "           4       0.48      0.28      0.35      8298\n",
            "           5       0.78      0.91      0.84     26740\n",
            "\n",
            "    accuracy                           0.69     49784\n",
            "   macro avg       0.52      0.48      0.47     49784\n",
            "weighted avg       0.65      0.69      0.65     49784\n",
            "\n"
          ],
          "name": "stdout"
        }
      ]
    },
    {
      "cell_type": "code",
      "metadata": {
        "id": "XdsmH8xEx3Fa",
        "colab_type": "code",
        "outputId": "979362e0-b851-4fad-80c1-6e8dc0e87ca7",
        "colab": {
          "base_uri": "https://localhost:8080/",
          "height": 720
        }
      },
      "source": [
        "fig = plt.figure(figsize=(5,5))\n",
        "pu.plot_roc_auc(mw.model_name, mw.roc_auc, mw.fpr, mw.tpr)"
      ],
      "execution_count": 0,
      "outputs": [
        {
          "output_type": "stream",
          "text": [
            "drive/My Drive/Springboard/capstone/util/plot_util.py:252: MatplotlibDeprecationWarning: The 'withdash' parameter of text() is deprecated since Matplotlib 3.1 and will be removed in 3.3.  If any parameter follows 'withdash', they should be pass as keyword, not positionally.\n",
            "  withdash=True)\n",
            "drive/My Drive/Springboard/capstone/util/plot_util.py:252: MatplotlibDeprecationWarning: \n",
            "The TextWithDash class was deprecated in Matplotlib 3.1 and will be removed in 3.3. Use Annotation instead.\n",
            "  withdash=True)\n",
            "drive/My Drive/Springboard/capstone/util/plot_util.py:256: MatplotlibDeprecationWarning: The 'withdash' parameter of text() is deprecated since Matplotlib 3.1 and will be removed in 3.3.  If any parameter follows 'withdash', they should be pass as keyword, not positionally.\n",
            "  withdash=True)\n",
            "drive/My Drive/Springboard/capstone/util/plot_util.py:256: MatplotlibDeprecationWarning: \n",
            "The TextWithDash class was deprecated in Matplotlib 3.1 and will be removed in 3.3. Use Annotation instead.\n",
            "  withdash=True)\n",
            "drive/My Drive/Springboard/capstone/util/plot_util.py:260: MatplotlibDeprecationWarning: The 'withdash' parameter of text() is deprecated since Matplotlib 3.1 and will be removed in 3.3.  If any parameter follows 'withdash', they should be pass as keyword, not positionally.\n",
            "  withdash=True)\n",
            "drive/My Drive/Springboard/capstone/util/plot_util.py:260: MatplotlibDeprecationWarning: \n",
            "The TextWithDash class was deprecated in Matplotlib 3.1 and will be removed in 3.3. Use Annotation instead.\n",
            "  withdash=True)\n"
          ],
          "name": "stderr"
        },
        {
          "output_type": "display_data",
          "data": {
            "image/png": "[encoded data removed]",
            "text/plain": [
              "<Figure size 360x360 with 1 Axes>"
            ]
          },
          "metadata": {
            "tags": []
          }
        }
      ]
    },
    {
      "cell_type": "code",
      "metadata": {
        "id": "uO1VIM60wu9h",
        "colab_type": "code",
        "outputId": "421cf794-9fb0-4289-b246-f558aa770ff5",
        "colab": {
          "base_uri": "https://localhost:8080/",
          "height": 68
        }
      },
      "source": [
        "print(f'Score {ru.calculate_metric(mw.crd)}')"
      ],
      "execution_count": 0,
      "outputs": [
        {
          "output_type": "stream",
          "text": [
            "INFO:util.report_util:calculating metric from dictionary\n",
            "INFO:util.report_util:got all values to calculate\n"
          ],
          "name": "stderr"
        },
        {
          "output_type": "stream",
          "text": [
            "Score 0.17248835726535203\n"
          ],
          "name": "stdout"
        }
      ]
    },
    {
      "cell_type": "markdown",
      "metadata": {
        "id": "r0ehuHKKwIjL",
        "colab_type": "text"
      },
      "source": [
        "# Save off various files"
      ]
    },
    {
      "cell_type": "code",
      "metadata": {
        "id": "T2YCQbVn812o",
        "colab_type": "code",
        "outputId": "bae38f95-c3fd-4e11-f514-ecbd32642b8b",
        "colab": {
          "base_uri": "https://localhost:8080/",
          "height": 173
        }
      },
      "source": [
        "mw.save(DRIVE_DIR, append_report=True)\n"
      ],
      "execution_count": 0,
      "outputs": [
        {
          "output_type": "stream",
          "text": [
            "description: DNN-2_1.5x1-tfidf_ngram13-sampling_none-199134-4000-star_rating\n",
            "Saving model file: drive/My Drive/Springboard/capstone/models/DNN-2_1.5x1-tfidf_ngram13-sampling_none-199134-4000-star_rating-model.h5\n",
            "Saving json config file: drive/My Drive/Springboard/capstone/models/DNN-2_1.5x1-tfidf_ngram13-sampling_none-199134-4000-star_rating-model.json\n",
            "Saving weights file: drive/My Drive/Springboard/capstone/models/DNN-2_1.5x1-tfidf_ngram13-sampling_none-199134-4000-star_rating-weights.h5\n",
            "Saving to report file: drive/My Drive/Springboard/capstone/reports/2019-11-dl_prototype-report.csv\n",
            "Loading to append to: drive/My Drive/Springboard/capstone/reports/2019-11-dl_prototype-report.csv\n",
            "{'model_name': 'DNN', 'architecture': '2_1.5x1', 'description': 'DNN-2_1.5x1-nobatch-review_body-tfidf-df_none-ngram13-199134-4000-nolda-sampling_none-review_body', 'classification_report': '{\"1\": {\"precision\": 0.6211552888222055, \"recall\": 0.8302535453373442, \"f1-score\": 0.7106424717999018, \"support\": 6981}, \"2\": {\"precision\": 0.36160714285714285, \"recall\": 0.05023255813953489, \"f1-score\": 0.0882112714402396, \"support\": 3225}, \"3\": {\"precision\": 0.37623762376237624, \"recall\": 0.33480176211453744, \"f1-score\": 0.35431235431235425, \"support\": 4540}, \"4\": {\"precision\": 0.48024252561154085, \"recall\": 0.27681369004579415, \"f1-score\": 0.3511963917131717, \"support\": 8298}, \"5\": {\"precision\": 0.7835610287986658, \"recall\": 0.9137247569184742, \"f1-score\": 0.8436518076033285, \"support\": 26740}, \"accuracy\": 0.6871283946649526, \"macro avg\": {\"precision\": 0.5245607219703862, \"recall\": 0.481165262511137, \"f1-score\": 0.4696028593737992, \"support\": 49784}, \"weighted avg\": {\"precision\": 0.6457508698871963, \"recall\": 0.6871283946649526, \"f1-score\": 0.6493558478297621, \"support\": 49784}}', 'roc_auc': '{\"auc_1\": 0.9550272882319519, \"auc_2\": 0.8727321789424136, \"auc_3\": 0.8448057390821067, \"auc_4\": 0.7705471154306127, \"auc_5\": 0.8973950016858256, \"auc_micro\": 0.9178979522789454, \"auc_macro\": 0.8681124626922435}', 'loss': 0.8035006058114567, 'accuracy': 0.68712837, 'confusion_matrix': '[[5796, 120, 482, 88, 495], [1747, 162, 731, 198, 387], [974, 120, 1520, 848, 1078], [313, 35, 864, 2297, 4789], [501, 11, 443, 1352, 24433]]', 'file': 'drive/My Drive/Springboard/capstone/data/review_body-tfidf-df_none-ngram13-199134-4000-nolda.csv', 'tokenizer_file': 'drive/My Drive/Springboard/capstone/models/dl-tokenizer.pkl', 'max_sequence_length': 4000, 'batch_size': 128, 'epochs': 87, 'feature_set_name': 'tfidf_ngram13', 'sampling_type': 'none', 'embedding': 0, 'model_file': 'drive/My Drive/Springboard/capstone/models/DNN-2_1.5x1-tfidf_ngram13-sampling_none-199134-4000-star_rating-model.h5', 'model_json_file': 'drive/My Drive/Springboard/capstone/models/DNN-2_1.5x1-tfidf_ngram13-sampling_none-199134-4000-star_rating-model.json', 'weights_file': 'drive/My Drive/Springboard/capstone/models/DNN-2_1.5x1-tfidf_ngram13-sampling_none-199134-4000-star_rating-weights.h5', 'test_examples': 49784, 'test_features': 4000, 'train_examples': 149350, 'train_features': 4000, 'train_time_min': 54.59, 'evaluate_time_min': 0.12, 'predict_time_min': 0.09, 'status': 'success', 'status_date': '2019-11-07 20:12:30'}\n",
            "Saving report file...\n"
          ],
          "name": "stdout"
        }
      ]
    },
    {
      "cell_type": "code",
      "metadata": {
        "id": "KBxher6CKfPN",
        "colab_type": "code",
        "outputId": "2dc92e77-37ae-4f23-9a0a-05988b57bfa0",
        "colab": {
          "base_uri": "https://localhost:8080/",
          "height": 34
        }
      },
      "source": [
        "print(datetime.now())"
      ],
      "execution_count": 0,
      "outputs": [
        {
          "output_type": "stream",
          "text": [
            "2019-11-07 20:12:33.755165\n"
          ],
          "name": "stdout"
        }
      ]
    },
    {
      "cell_type": "code",
      "metadata": {
        "id": "lbMyu7wDL-7B",
        "colab_type": "code",
        "colab": {}
      },
      "source": [
        ""
      ],
      "execution_count": 0,
      "outputs": []
    }
  ]
}