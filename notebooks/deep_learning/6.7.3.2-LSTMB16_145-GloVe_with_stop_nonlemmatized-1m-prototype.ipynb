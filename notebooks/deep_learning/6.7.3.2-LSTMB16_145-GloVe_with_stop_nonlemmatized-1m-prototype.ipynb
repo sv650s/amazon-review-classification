{
  "nbformat": 4,
  "nbformat_minor": 0,
  "metadata": {
    "colab": {
      "name": "6.7.3.2-LSTMB16_145-GloVe_with_stop_nonlemmatized-1m-prototype.ipynb",
      "provenance": [],
      "collapsed_sections": [],
      "include_colab_link": true
    },
    "language_info": {
      "codemirror_mode": {
        "name": "ipython",
        "version": 3
      },
      "file_extension": ".py",
      "mimetype": "text/x-python",
      "name": "python",
      "nbconvert_exporter": "python",
      "pygments_lexer": "ipython3",
      "version": "3.7.3"
    },
    "kernelspec": {
      "name": "python3",
      "display_name": "Python 3"
    },
    "accelerator": "GPU"
  },
  "cells": [
    {
      "cell_type": "markdown",
      "metadata": {
        "id": "view-in-github",
        "colab_type": "text"
      },
      "source": [
        "<a href=\"https://colab.research.google.com/github/sv650s/amazon-review-classification/blob/master/notebooks/deep_learning/6.7.3.2-LSTMB16_145-GloVe_with_stop_nonlemmatized-1m-prototype.ipynb\" target=\"_parent\"><img src=\"https://colab.research.google.com/assets/colab-badge.svg\" alt=\"Open In Colab\"/></a>"
      ]
    },
    {
      "cell_type": "markdown",
      "metadata": {
        "id": "W7_sb1roJXhx",
        "colab_type": "text"
      },
      "source": [
        "# Train LSTM with only 1, 4, and 5 star reviews (with stop words, nonlemmatized)\n",
        "\n",
        "For this notebook, we will run our 16 unit LSTM using GloVe embedding with 1 million examples to see how to model does.\n",
        "\n",
        "We are going to only keep 1-star, 4-star, and 5-star ratings to look at model noise\n",
        "\n",
        "We classifying all ratings, our score with the same architecture is: 0.2959231917086992\n",
        "\n",
        "\n",
        "# Result\n",
        "\n",
        "\n",
        "\n"
      ]
    },
    {
      "cell_type": "code",
      "metadata": {
        "id": "pF_xRedK9O1Q",
        "colab_type": "code",
        "outputId": "520b5181-ac65-4c39-de33-38d696a1bc38",
        "colab": {
          "base_uri": "https://localhost:8080/",
          "height": 156
        }
      },
      "source": [
        "from google.colab import drive\n",
        "drive.mount('/content/drive')\n",
        "\n",
        "import sys\n",
        "DRIVE_DIR = \"drive/My Drive/Springboard/capstone\"\n",
        "sys.path.append(DRIVE_DIR)\n",
        "\n",
        "\n",
        "%tensorflow_version 2.x\n",
        "\n",
        "\n",
        "import tensorflow as tf\n",
        "# checl to make sure we are using GPU here\n",
        "tf.test.gpu_device_name()"
      ],
      "execution_count": 1,
      "outputs": [
        {
          "output_type": "stream",
          "text": [
            "Go to this URL in a browser: https://accounts.google.com/o/oauth2/auth?client_id=947318989803-6bn6qk8qdgf4n4g3pfee6491hc0brc4i.apps.googleusercontent.com&redirect_uri=urn%3aietf%3awg%3aoauth%3a2.0%3aoob&response_type=code&scope=email%20https%3a%2f%2fwww.googleapis.com%2fauth%2fdocs.test%20https%3a%2f%2fwww.googleapis.com%2fauth%2fdrive%20https%3a%2f%2fwww.googleapis.com%2fauth%2fdrive.photos.readonly%20https%3a%2f%2fwww.googleapis.com%2fauth%2fpeopleapi.readonly\n",
            "\n",
            "Enter your authorization code:\n",
            "··········\n",
            "Mounted at /content/drive\n",
            "TensorFlow 2.x selected.\n"
          ],
          "name": "stdout"
        },
        {
          "output_type": "execute_result",
          "data": {
            "text/plain": [
              "'/device:GPU:0'"
            ]
          },
          "metadata": {
            "tags": []
          },
          "execution_count": 1
        }
      ]
    },
    {
      "cell_type": "code",
      "metadata": {
        "id": "pAHGtniuJXhy",
        "colab_type": "code",
        "colab": {}
      },
      "source": [
        "from __future__ import absolute_import, division, print_function, unicode_literals\n",
        "\n",
        "\n",
        "from tensorflow.keras.models import Sequential\n",
        "from tensorflow.keras.layers import Dense, Activation, Dropout\n",
        "from tensorflow.keras.layers import BatchNormalization\n",
        "from tensorflow.keras.callbacks import EarlyStopping, ReduceLROnPlateau\n",
        "from tensorflow.keras.models import load_model\n",
        "from tensorflow.keras.optimizers import SGD\n",
        "from tensorflow.keras.layers import Conv1D, MaxPooling1D, Embedding, \\\n",
        "    SpatialDropout1D, Flatten, LSTM\n",
        "from tensorflow.keras.preprocessing.text import Tokenizer\n",
        "from tensorflow.keras.preprocessing import sequence\n",
        "from tensorflow.keras.utils import model_to_dot\n",
        "from tensorflow.keras.initializers import Constant\n",
        "\n",
        "\n",
        "from sklearn.model_selection import train_test_split\n",
        "from sklearn.preprocessing import OneHotEncoder\n",
        "from sklearn.preprocessing import LabelEncoder\n",
        "from sklearn.metrics import confusion_matrix, classification_report\n",
        "from sklearn.utils.class_weight import compute_class_weight\n",
        "\n",
        "\n",
        "import pandas as pd\n",
        "import numpy as np\n",
        "from IPython.display import SVG\n",
        "import pickle\n",
        "from datetime import datetime\n",
        "import matplotlib.pyplot as plt\n",
        "import seaborn as sns\n",
        "import os\n",
        "import logging\n",
        "\n",
        "\n",
        "import util.dict_util as du\n",
        "import util.plot_util as pu\n",
        "import util.file_util as fu\n",
        "import util.keras_util as ku\n",
        "import util.report_util as ru\n",
        "\n",
        "import random\n",
        "\n",
        "# fix random seeds\n",
        "tf.compat.v1.reset_default_graph()\n",
        "tf.compat.v1.set_random_seed(1)\n",
        "random.seed(1)\n",
        "np.random.seed(1)\n",
        "\n",
        "logging.basicConfig(level=logging.ERROR)\n",
        "\n",
        "%matplotlib inline\n",
        "sns.set()\n",
        "\n",
        "\n",
        "DATE_FORMAT = '%Y-%m-%d'\n",
        "TIME_FORMAT = '%Y-%m-%d %H:%M:%S'\n",
        "LABEL_COLUMN = \"star_rating\"\n",
        "REVIEW_COLUMN = \"review_body\"\n",
        "\n",
        "\n",
        "DEBUG = False\n",
        "\n",
        "\n",
        "LSTM_DIM = 16 # total LSTM units\n",
        "MODEL_NAME = f\"LSTMB{LSTM_DIM}_145\"\n",
        "ARCHITECTURE = f\"1x{LSTM_DIM}\"\n",
        "DESCRIPTION = f\"1 Layer {LSTM_DIM} (1 and 5 star rating only) LSTM Units, No Dropout, GloVe Embedding (with stop words, nonlemmatized), Balanced Weights\"\n",
        "FEATURE_SET_NAME = \"glove_with_stop_nonlemmatized\"\n",
        "PATIENCE = 4\n",
        "\n",
        "SAMPLES = \"1m\"\n",
        "\n",
        "if DEBUG:\n",
        "  DATA_FILE = f'{DRIVE_DIR}/data/amazon_reviews_us_Wireless_v1_00-test-preprocessed.csv'\n",
        "  MODEL_NAME = f'test-{MODEL_NAME}'\n",
        "  MISSING_WORDS_FILE = f'{DRIVE_DIR}/reports/test-glove_embedding-missing_words.csv'\n",
        "  ku.ModelWrapper.set_report_filename('test-glove_embedding-dl_prototype-report.csv')\n",
        "else:\n",
        "  DATA_FILE = f\"{DRIVE_DIR}/data/amazon_reviews_us_Wireless_v1_00-{SAMPLES}-with_stop_nonlemmatized-preprocessed.csv\"\n",
        "  MISSING_WORDS_FILE = f'{DRIVE_DIR}/reports/glove_embedding-missing_words-{SAMPLES}.csv'\n",
        "  ku.ModelWrapper.set_report_filename('glove_embedding_with_stop_nonlemmatized-dl_prototype-report.csv')\n",
        "\n",
        "\n",
        "EMBEDDING_FILE = f'{DRIVE_DIR}/data/embeddings/glove.840B.300d.txt'\n",
        "EMBEDDING_INDEX_FILE = f'{DRIVE_DIR}/models/glove.840B.300d-embedding_index'\n",
        "\n",
        "\n",
        "# first layer filter\n",
        "FILTER1 = 32\n",
        "# Network Settings\n",
        "KERNEL_SIZE=3\n",
        "\n",
        "\n",
        "\n",
        "# length of our embedding - 300 is standard\n",
        "EMBED_SIZE = 300\n",
        "EPOCHS  = 50\n",
        "BATCH_SIZE = 128\n",
        "\n",
        "# From EDA, we know that 90% of review bodies have 100 words or less, \n",
        "# we will use this as our sequence length\n",
        "MAX_SEQUENCE_LENGTH = 100\n",
        "\n",
        "\n"
      ],
      "execution_count": 0,
      "outputs": []
    },
    {
      "cell_type": "markdown",
      "metadata": {
        "id": "0e70BBV1Q3WB",
        "colab_type": "text"
      },
      "source": [
        "# Read file and only keep 1 and 5 star reviews"
      ]
    },
    {
      "cell_type": "code",
      "metadata": {
        "id": "YBiBHMtCWVUE",
        "colab_type": "code",
        "colab": {}
      },
      "source": [
        "def map_ratings(data: pd.DataFrame, label_column: str):\n",
        "  \"\"\"\n",
        "  mpas labels: 4 -> , 5 -> 3\n",
        "  so we can pass this to our model\n",
        "  :param data: dataframe with label colum for us to map\n",
        "  :return: dataframe with mapped labels\n",
        "  \"\"\"\n",
        "  data.loc[df[label_column] == 4, label_column] = 2\n",
        "  data.loc[df[label_column] == 5, label_column] = 3\n",
        "  return data\n",
        "\n",
        "def retore_ratings(data: pd.DataFrame, label_column: str):\n",
        "  \"\"\"\n",
        "  map classes: 3 -> 5, 2 -> 4\n",
        "  :param data: dataframe with 1 column\n",
        "  :return: dataframe with rating labels retored to original\n",
        "  \"\"\"\n",
        "  data.loc[df[label_column] == 3, label_column] = 5\n",
        "  data.loc[df[label_column] == 2, label_column] = 4\n",
        "  return data\n"
      ],
      "execution_count": 0,
      "outputs": []
    },
    {
      "cell_type": "code",
      "metadata": {
        "hide_input": false,
        "id": "k6fwJp9OJXh5",
        "colab_type": "code",
        "colab": {}
      },
      "source": [
        "df = pd.read_csv(DATA_FILE)\n",
        "\n",
        "CLASSES = 3\n",
        "df = df[(df[LABEL_COLUMN] == 1) | (df[LABEL_COLUMN] == 4) | (df[LABEL_COLUMN] == 5)]\n",
        "df = map_ratings(df, LABEL_COLUMN)\n",
        "\n",
        "rating = df[LABEL_COLUMN]\n",
        "reviews = df[REVIEW_COLUMN]"
      ],
      "execution_count": 0,
      "outputs": []
    },
    {
      "cell_type": "markdown",
      "metadata": {
        "id": "2HtIFlAEnRcm",
        "colab_type": "text"
      },
      "source": [
        "# Define our score function"
      ]
    },
    {
      "cell_type": "code",
      "metadata": {
        "id": "GO6Ih0bUnQ4L",
        "colab_type": "code",
        "colab": {}
      },
      "source": [
        "def calculate_metric(crd: dict):\n",
        "  \"\"\"\n",
        "  Calculates our model score based on classification report dictionary\n",
        "  :param crd: classification report dictionary\n",
        "  :return: model score - float\n",
        "  \"\"\"\n",
        "  metric_1 = mw.crd[\"1\"][\"precision\"]\n",
        "  metric_4 = mw.crd[\"2\"][\"recall\"]\n",
        "  metric_5 = mw.crd[\"3\"][\"precision\"]\n",
        "  if metric_1 > 0 and metric_5 > 0:\n",
        "    model_score = CLASSES / (1 / metric_1 + 1 / metric_4 + 1 / metric_5)\n",
        "  else:\n",
        "    model_score = 0\n",
        "  return model_score"
      ],
      "execution_count": 0,
      "outputs": []
    },
    {
      "cell_type": "code",
      "metadata": {
        "id": "rMdM2TS7hGgc",
        "colab_type": "code",
        "colab": {}
      },
      "source": [
        ""
      ],
      "execution_count": 0,
      "outputs": []
    },
    {
      "cell_type": "code",
      "metadata": {
        "id": "kHMW5sNShGce",
        "colab_type": "code",
        "colab": {}
      },
      "source": [
        ""
      ],
      "execution_count": 0,
      "outputs": []
    },
    {
      "cell_type": "code",
      "metadata": {
        "id": "HvcwW1AmhGNU",
        "colab_type": "code",
        "colab": {}
      },
      "source": [
        ""
      ],
      "execution_count": 0,
      "outputs": []
    },
    {
      "cell_type": "markdown",
      "metadata": {
        "id": "EBQR0ZpoOiQk",
        "colab_type": "text"
      },
      "source": [
        "# Preprocessing"
      ]
    },
    {
      "cell_type": "code",
      "metadata": {
        "id": "_g2Wm80MCgGZ",
        "colab_type": "code",
        "colab": {}
      },
      "source": [
        ""
      ],
      "execution_count": 0,
      "outputs": []
    },
    {
      "cell_type": "code",
      "metadata": {
        "id": "lytdvF4neJ4r",
        "colab_type": "code",
        "outputId": "df677c0a-951c-4ade-9f58-eed6044716cf",
        "colab": {
          "base_uri": "https://localhost:8080/",
          "height": 68
        }
      },
      "source": [
        "\n",
        "\n",
        "# pre-process our lables\n",
        "# one hot encode our star ratings since Keras/TF requires this for the labels\n",
        "y = OneHotEncoder().fit_transform(rating.values.reshape(len(rating), 1)).toarray()\n",
        "\n",
        "\n",
        "# split our data into train and test sets\n",
        "reviews_train, reviews_test, y_train, y_test = train_test_split(reviews, y, random_state=1)\n",
        "\n",
        "\n",
        "# Pre-process our features (review body)\n",
        "t = Tokenizer(oov_token=\"<UNK>\")\n",
        "# fit the tokenizer on the documents\n",
        "t.fit_on_texts(reviews_train)\n",
        "# tokenize both our training and test data\n",
        "train_sequences = t.texts_to_sequences(reviews_train)\n",
        "test_sequences = t.texts_to_sequences(reviews_test)\n",
        "\n",
        "print(\"Vocabulary size={}\".format(len(t.word_counts)))\n",
        "print(\"Number of Documents={}\".format(t.document_count))\n",
        "\n",
        "\n",
        "# pad our reviews to the max sequence length\n",
        "X_train = sequence.pad_sequences(train_sequences, maxlen=MAX_SEQUENCE_LENGTH)\n",
        "X_test = sequence.pad_sequences(test_sequences, maxlen=MAX_SEQUENCE_LENGTH)\n",
        "\n",
        "print('Train review vectors shape:', X_train.shape, ' Test review vectors shape:', X_test.shape)\n"
      ],
      "execution_count": 6,
      "outputs": [
        {
          "output_type": "stream",
          "text": [
            "Vocabulary size=104958\n",
            "Number of Documents=630924\n",
            "Train review vectors shape: (630924, 100)  Test review vectors shape: (210309, 100)\n"
          ],
          "name": "stdout"
        }
      ]
    },
    {
      "cell_type": "markdown",
      "metadata": {
        "id": "TgorpmIPnQH9",
        "colab_type": "text"
      },
      "source": [
        "## Load our pre-trained embedding\n",
        "\n",
        "embeddings_index will be a map where key == word, value == the embedding vector"
      ]
    },
    {
      "cell_type": "code",
      "metadata": {
        "id": "5j7D7LLinP0r",
        "colab_type": "code",
        "outputId": "87eb1be9-8f08-4d37-e9e8-0e7f7e13eac8",
        "colab": {
          "base_uri": "https://localhost:8080/",
          "height": 85
        }
      },
      "source": [
        "EMBEDDING_INDEX_FILE = f'{DRIVE_DIR}/models/glove.840B.300d-embedding_index'\n",
        "\n",
        "embeddings_index = {}\n",
        "\n",
        "if os.path.exists(f'{EMBEDDING_INDEX_FILE}.npy'):\n",
        "  print(f'Loading {EMBEDDING_INDEX_FILE}.npy')\n",
        "  embeddings_index = np.load(f'{EMBEDDING_INDEX_FILE}.npy', \n",
        "                             allow_pickle = True).item()\n",
        "else:\n",
        "  print('Indexing word vectors.')\n",
        "\n",
        "  with open(EMBEDDING_FILE) as f:\n",
        "      for line in f:\n",
        "          word, coefs = line.split(maxsplit=1)\n",
        "          coefs = np.fromstring(coefs, 'f', sep=' ')\n",
        "          embeddings_index[word] = coefs\n",
        "  np.save(EMBEDDING_INDEX_FILE, embeddings_index)\n",
        "\n",
        "print(type(embeddings_index))\n",
        "print(np.shape(embeddings_index))\n",
        "print('Found %s word vectors.' % len(embeddings_index))\n",
        "\n",
        "\n"
      ],
      "execution_count": 7,
      "outputs": [
        {
          "output_type": "stream",
          "text": [
            "Loading drive/My Drive/Springboard/capstone/models/glove.840B.300d-embedding_index.npy\n",
            "<class 'dict'>\n",
            "()\n",
            "Found 2195884 word vectors.\n"
          ],
          "name": "stdout"
        }
      ]
    },
    {
      "cell_type": "code",
      "metadata": {
        "id": "G7L7HL6EnPtA",
        "colab_type": "code",
        "colab": {}
      },
      "source": [
        ""
      ],
      "execution_count": 0,
      "outputs": []
    },
    {
      "cell_type": "markdown",
      "metadata": {
        "id": "rYvqmy4xmQWD",
        "colab_type": "text"
      },
      "source": [
        "## Create Embedding Matrix based on our tokenizer\n",
        "\n",
        "For every word in our vocabulary, we will look up the embedding vector and add the it to our embedding matrix\n",
        "\n",
        "The matrix will be passed in as weights in our embedding layer later\n",
        "\n",
        "If there is word that does not exist in the pre-trained embedding vocabulary, we will leave the weights as 0 vector and save off the word into a CSV file later for analysis"
      ]
    },
    {
      "cell_type": "code",
      "metadata": {
        "id": "bIrMqj-HmPwk",
        "colab_type": "code",
        "outputId": "d732ae6e-7471-4576-bca8-0674a05c8f41",
        "colab": {
          "base_uri": "https://localhost:8080/",
          "height": 68
        }
      },
      "source": [
        "# this is a map with key == word, value == index in the vocabulary\n",
        "word_index = t.word_index\n",
        "print(f'word_index length: {len(word_index)}')\n",
        "\n",
        "# we are going to use the entire vocab so we can alter this from the example\n",
        "# num_words = min(MAX_NUM_WORDS, len(word_index) + 1)\n",
        "\n",
        "# start with a matrix of 0's\n",
        "embedding_matrix = np.zeros((len(word_index) + 1, EMBED_SIZE))\n",
        "\n",
        "# if a word doesn't exist in our vocabulary, let's save it off\n",
        "missing_words = []\n",
        "print(f'embedding_matrix shape: {np.shape(embedding_matrix)}')\n",
        "for word, i in word_index.items():\n",
        "    # print(f'word: {word} i: {i}')\n",
        "    embedding_vector = embeddings_index.get(word)\n",
        "    if embedding_vector is not None and np.shape(embedding_vector)[0] == EMBED_SIZE:\n",
        "        # words not found in embedding index will be all-zeros.\n",
        "        # print(f'i: {i} embedding_vector shape: {np.shape(embedding_vector)}')\n",
        "        embedding_matrix[i] = embedding_vector\n",
        "    else:\n",
        "      missing_words.append(word)\n",
        "\n",
        "print(f'Number of missing words from our vocabulary: {len(missing_words)}')\n",
        "\n"
      ],
      "execution_count": 8,
      "outputs": [
        {
          "output_type": "stream",
          "text": [
            "word_index length: 104959\n",
            "embedding_matrix shape: (104960, 300)\n",
            "Number of missing words from our vocabulary: 40471\n"
          ],
          "name": "stdout"
        }
      ]
    },
    {
      "cell_type": "markdown",
      "metadata": {
        "id": "TIw5aJS8trK-",
        "colab_type": "text"
      },
      "source": [
        "Save off our missing words into a csv file so we can analyze this later"
      ]
    },
    {
      "cell_type": "code",
      "metadata": {
        "id": "XN1Vr2oSto2f",
        "colab_type": "code",
        "colab": {}
      },
      "source": [
        "# save missing words into a file so we can analyze it later\n",
        "missing_words_df = pd.DataFrame(missing_words)\n",
        "missing_words_df.to_csv(MISSING_WORDS_FILE, index=False)"
      ],
      "execution_count": 0,
      "outputs": []
    },
    {
      "cell_type": "markdown",
      "metadata": {
        "id": "6hWLBCjqucDJ",
        "colab_type": "text"
      },
      "source": [
        "**Build LSTM Model Architecture**"
      ]
    },
    {
      "cell_type": "code",
      "metadata": {
        "id": "653DtCuBJXiF",
        "colab_type": "code",
        "colab": {}
      },
      "source": [
        "tf.compat.v1.reset_default_graph()\n",
        "\n",
        "\n",
        "vocab_size = len(t.word_index)+1\n",
        "\n",
        "# building our network\n",
        "model = Sequential()\n",
        "# load pre-trained word embeddings into an Embedding layer\n",
        "# note that we set trainable = False so as to keep the embeddings fixed\n",
        "model.add(Embedding(input_dim=vocab_size,\n",
        "                            output_dim=EMBED_SIZE,\n",
        "                            embeddings_initializer=Constant(embedding_matrix),\n",
        "                            input_length=MAX_SEQUENCE_LENGTH,\n",
        "                            trainable=False))\n",
        "# model.add(Embedding(input_dim=vocab_size, output_dim=EMBED_SIZE, input_length=MAX_SEQUENCE_LENGTH))\n",
        "model.add(LSTM(LSTM_DIM))\n",
        "model.add(Dense(CLASSES, activation=\"softmax\"))\n",
        "\n",
        "model.compile(loss=\"categorical_crossentropy\", optimizer=\"adam\",\n",
        "              metrics=[\"categorical_accuracy\"])\n"
      ],
      "execution_count": 0,
      "outputs": []
    },
    {
      "cell_type": "code",
      "metadata": {
        "id": "iZitdxXPJXiI",
        "colab_type": "code",
        "outputId": "c1f62368-21da-49be-b354-fbd8ddf4daeb",
        "colab": {
          "base_uri": "https://localhost:8080/",
          "height": 272
        }
      },
      "source": [
        "print(model.summary())"
      ],
      "execution_count": 11,
      "outputs": [
        {
          "output_type": "stream",
          "text": [
            "Model: \"sequential\"\n",
            "_________________________________________________________________\n",
            "Layer (type)                 Output Shape              Param #   \n",
            "=================================================================\n",
            "embedding (Embedding)        (None, 100, 300)          31488000  \n",
            "_________________________________________________________________\n",
            "lstm (LSTM)                  (None, 16)                20288     \n",
            "_________________________________________________________________\n",
            "dense (Dense)                (None, 3)                 51        \n",
            "=================================================================\n",
            "Total params: 31,508,339\n",
            "Trainable params: 20,339\n",
            "Non-trainable params: 31,488,000\n",
            "_________________________________________________________________\n",
            "None\n"
          ],
          "name": "stdout"
        }
      ]
    },
    {
      "cell_type": "code",
      "metadata": {
        "id": "HRYkk2eYWcge",
        "colab_type": "code",
        "outputId": "b26de7d6-9829-4a29-82d2-842e7740c9d7",
        "colab": {
          "base_uri": "https://localhost:8080/",
          "height": 34
        }
      },
      "source": [
        "np.shape(y_train)"
      ],
      "execution_count": 12,
      "outputs": [
        {
          "output_type": "execute_result",
          "data": {
            "text/plain": [
              "(630924, 3)"
            ]
          },
          "metadata": {
            "tags": []
          },
          "execution_count": 12
        }
      ]
    },
    {
      "cell_type": "code",
      "metadata": {
        "scrolled": false,
        "id": "60eC_0fRJXiQ",
        "colab_type": "code",
        "outputId": "df7c86e5-5cf9-42dc-82ed-fa8243851c4f",
        "colab": {
          "base_uri": "https://localhost:8080/",
          "height": 564
        }
      },
      "source": [
        "\n",
        "# reduce learning rate if we sense a plateau\n",
        "reduce_lr = ReduceLROnPlateau(monitor='val_loss', \n",
        "                            #   factor=0.4,\n",
        "                            #   patience=PATIENCE, \n",
        "                            #   min_lr=0.00001,\n",
        "                            #  mode='auto',\n",
        "                              restore_best_weights=True)\n",
        "\n",
        "early_stop = EarlyStopping(monitor='val_loss', \n",
        "                           patience=PATIENCE, \n",
        "                           verbose=1,\n",
        "                           restore_best_weights=True)\n",
        "\n",
        "weights = compute_class_weight('balanced', np.arange(1, CLASSES + 1), rating)\n",
        "print(f'class weights: {weights}')\n",
        "\n",
        "\n",
        "mw = ku.ModelWrapper(model, \n",
        "                     MODEL_NAME, \n",
        "                     ARCHITECTURE,\n",
        "                     FEATURE_SET_NAME,\n",
        "                     LABEL_COLUMN, \n",
        "                     DATA_FILE, \n",
        "                     embed_size=EMBED_SIZE,\n",
        "                     tokenizer=t,\n",
        "                     description=DESCRIPTION)\n",
        "\n",
        "network_history = mw.fit(X_train, y_train,\n",
        "                      batch_size=BATCH_SIZE,\n",
        "                      epochs=EPOCHS,\n",
        "                      verbose=1,\n",
        "                      validation_split=0.2,\n",
        "                      class_weight=weights,\n",
        "                      callbacks=[early_stop, reduce_lr])"
      ],
      "execution_count": 13,
      "outputs": [
        {
          "output_type": "stream",
          "text": [
            "class weights: [2.00139178 1.68808394 0.52411997]\n",
            "Number of training examples: 630924\n",
            "Train on 504739 samples, validate on 126185 samples\n",
            "Epoch 1/50\n",
            "504739/504739 [==============================] - 55s 109us/sample - loss: 0.5368 - categorical_accuracy: 0.7759 - val_loss: 0.4862 - val_categorical_accuracy: 0.7988\n",
            "Epoch 2/50\n",
            "504739/504739 [==============================] - 47s 93us/sample - loss: 0.4705 - categorical_accuracy: 0.8058 - val_loss: 0.4689 - val_categorical_accuracy: 0.8071\n",
            "Epoch 3/50\n",
            "504739/504739 [==============================] - 47s 92us/sample - loss: 0.4548 - categorical_accuracy: 0.8134 - val_loss: 0.4539 - val_categorical_accuracy: 0.8141\n",
            "Epoch 4/50\n",
            "504739/504739 [==============================] - 46s 92us/sample - loss: 0.4462 - categorical_accuracy: 0.8174 - val_loss: 0.4538 - val_categorical_accuracy: 0.8143\n",
            "Epoch 5/50\n",
            "504739/504739 [==============================] - 47s 92us/sample - loss: 0.4398 - categorical_accuracy: 0.8206 - val_loss: 0.4509 - val_categorical_accuracy: 0.8157\n",
            "Epoch 6/50\n",
            "504739/504739 [==============================] - 46s 92us/sample - loss: 0.4351 - categorical_accuracy: 0.8227 - val_loss: 0.4452 - val_categorical_accuracy: 0.8176\n",
            "Epoch 7/50\n",
            "504739/504739 [==============================] - 47s 92us/sample - loss: 0.4314 - categorical_accuracy: 0.8240 - val_loss: 0.4473 - val_categorical_accuracy: 0.8182\n",
            "Epoch 8/50\n",
            "504739/504739 [==============================] - 47s 93us/sample - loss: 0.4286 - categorical_accuracy: 0.8256 - val_loss: 0.4417 - val_categorical_accuracy: 0.8200\n",
            "Epoch 9/50\n",
            "504739/504739 [==============================] - 46s 92us/sample - loss: 0.4257 - categorical_accuracy: 0.8268 - val_loss: 0.4394 - val_categorical_accuracy: 0.8208\n",
            "Epoch 10/50\n",
            "504739/504739 [==============================] - 46s 92us/sample - loss: 0.4236 - categorical_accuracy: 0.8276 - val_loss: 0.4433 - val_categorical_accuracy: 0.8198\n",
            "Epoch 11/50\n",
            "504739/504739 [==============================] - 46s 92us/sample - loss: 0.4218 - categorical_accuracy: 0.8285 - val_loss: 0.4421 - val_categorical_accuracy: 0.8187\n",
            "Epoch 12/50\n",
            "504739/504739 [==============================] - 46s 92us/sample - loss: 0.4200 - categorical_accuracy: 0.8292 - val_loss: 0.4430 - val_categorical_accuracy: 0.8200\n",
            "Epoch 13/50\n",
            "504576/504739 [============================>.] - ETA: 0s - loss: 0.4182 - categorical_accuracy: 0.8303Restoring model weights from the end of the best epoch.\n",
            "504739/504739 [==============================] - 46s 92us/sample - loss: 0.4182 - categorical_accuracy: 0.8303 - val_loss: 0.4412 - val_categorical_accuracy: 0.8200\n",
            "Epoch 00013: early stopping\n"
          ],
          "name": "stdout"
        }
      ]
    },
    {
      "cell_type": "code",
      "metadata": {
        "id": "2VHBrsPjJXiS",
        "colab_type": "code",
        "outputId": "5f46188f-1f05-4aae-cf9d-ca3e9aef398b",
        "colab": {
          "base_uri": "https://localhost:8080/",
          "height": 1000
        }
      },
      "source": [
        "\n",
        "scores = mw.evaluate(X_test, y_test)\n",
        "print(\"Accuracy: %.2f%%\" % (mw.scores[1]*100))\n",
        "\n",
        "pu.plot_network_history(mw.network_history, \"categorical_accuracy\", \"val_categorical_accuracy\")\n",
        "plt.show()\n",
        "\n",
        "print(\"\\nConfusion Matrix\")\n",
        "print(mw.confusion_matrix)\n",
        "\n",
        "print(\"\\nClassification Report\")\n",
        "print(mw.classification_report)\n",
        "\n",
        "fig = plt.figure(figsize=(5,5))\n",
        "pu.plot_roc_auc(mw.model_name, mw.roc_auc, mw.fpr, mw.tpr)\n",
        "\n"
      ],
      "execution_count": 14,
      "outputs": [
        {
          "output_type": "stream",
          "text": [
            "Number of test: 210309\n",
            "Running model.evaluate...\n",
            "210309/210309 [==============================] - 32s 150us/sample - loss: 0.4349 - categorical_accuracy: 0.8229\n",
            "Running model.predict...\n",
            "Unencode predictions...\n",
            "Generating confusion matrix...\n",
            "Calculating ROC AUC...\n",
            "(210309, 3)\n",
            "Getting classification report...\n",
            "Accuracy: 82.29%\n"
          ],
          "name": "stdout"
        },
        {
          "output_type": "display_data",
          "data": {
            "image/png": "[encoded data removed]",
            "text/plain": [
              "<Figure size 720x360 with 2 Axes>"
            ]
          },
          "metadata": {
            "tags": []
          }
        },
        {
          "output_type": "stream",
          "text": [
            "\n",
            "Confusion Matrix\n",
            "[[ 32077   1079   1853]\n",
            " [  2015  14975  24488]\n",
            " [  1646   6165 126011]]\n",
            "\n",
            "Classification Report\n",
            "              precision    recall  f1-score   support\n",
            "\n",
            "           1       0.90      0.92      0.91     35009\n",
            "           2       0.67      0.36      0.47     41478\n",
            "           3       0.83      0.94      0.88    133822\n",
            "\n",
            "    accuracy                           0.82    210309\n",
            "   macro avg       0.80      0.74      0.75    210309\n",
            "weighted avg       0.81      0.82      0.80    210309\n",
            "\n"
          ],
          "name": "stdout"
        },
        {
          "output_type": "stream",
          "text": [
            "drive/My Drive/Springboard/capstone/util/plot_util.py:267: MatplotlibDeprecationWarning: The 'withdash' parameter of text() is deprecated since Matplotlib 3.1 and will be removed in 3.3.  If any parameter follows 'withdash', they should be pass as keyword, not positionally.\n",
            "  withdash=True)\n",
            "drive/My Drive/Springboard/capstone/util/plot_util.py:267: MatplotlibDeprecationWarning: \n",
            "The TextWithDash class was deprecated in Matplotlib 3.1 and will be removed in 3.3. Use Annotation instead.\n",
            "  withdash=True)\n",
            "drive/My Drive/Springboard/capstone/util/plot_util.py:271: MatplotlibDeprecationWarning: The 'withdash' parameter of text() is deprecated since Matplotlib 3.1 and will be removed in 3.3.  If any parameter follows 'withdash', they should be pass as keyword, not positionally.\n",
            "  withdash=True)\n",
            "drive/My Drive/Springboard/capstone/util/plot_util.py:271: MatplotlibDeprecationWarning: \n",
            "The TextWithDash class was deprecated in Matplotlib 3.1 and will be removed in 3.3. Use Annotation instead.\n",
            "  withdash=True)\n",
            "drive/My Drive/Springboard/capstone/util/plot_util.py:275: MatplotlibDeprecationWarning: The 'withdash' parameter of text() is deprecated since Matplotlib 3.1 and will be removed in 3.3.  If any parameter follows 'withdash', they should be pass as keyword, not positionally.\n",
            "  withdash=True)\n",
            "drive/My Drive/Springboard/capstone/util/plot_util.py:275: MatplotlibDeprecationWarning: \n",
            "The TextWithDash class was deprecated in Matplotlib 3.1 and will be removed in 3.3. Use Annotation instead.\n",
            "  withdash=True)\n"
          ],
          "name": "stderr"
        },
        {
          "output_type": "display_data",
          "data": {
            "image/png": "[encoded data removed]",
            "text/plain": [
              "<Figure size 360x360 with 1 Axes>"
            ]
          },
          "metadata": {
            "tags": []
          }
        }
      ]
    },
    {
      "cell_type": "code",
      "metadata": {
        "id": "YOA18O7wN63j",
        "colab_type": "code",
        "outputId": "0d6c9bf5-2d8f-49cc-f413-8d5dbdae8820",
        "colab": {
          "base_uri": "https://localhost:8080/",
          "height": 34
        }
      },
      "source": [
        "model_score = calculate_metric(mw.crd)\n",
        "\n",
        "print(f'Score: {model_score}')"
      ],
      "execution_count": 15,
      "outputs": [
        {
          "output_type": "stream",
          "text": [
            "Score: 0.5890454871863725\n"
          ],
          "name": "stdout"
        }
      ]
    },
    {
      "cell_type": "markdown",
      "metadata": {
        "id": "z2ot_Nqg1U4w",
        "colab_type": "text"
      },
      "source": [
        "**Save off various files**"
      ]
    },
    {
      "cell_type": "code",
      "metadata": {
        "id": "Al3bCFrI1P5m",
        "colab_type": "code",
        "outputId": "16995055-1e01-47d1-e545-8319aa4263e4",
        "colab": {
          "base_uri": "https://localhost:8080/",
          "height": 190
        }
      },
      "source": [
        "mw.save(DRIVE_DIR, append_report=True)"
      ],
      "execution_count": 16,
      "outputs": [
        {
          "output_type": "stream",
          "text": [
            "description: LSTMB16_145-1x16-glove_with_stop_nonlemmatized-sampling_none-841233-100-star_rating\n",
            "Saving to report file: drive/My Drive/Springboard/capstone/reports/glove_embedding_with_stop_nonlemmatized-dl_prototype-report.csv\n",
            "Loading to append to: drive/My Drive/Springboard/capstone/reports/glove_embedding_with_stop_nonlemmatized-dl_prototype-report.csv\n",
            "{'model_name': 'LSTMB16_145', 'architecture': '1x16', 'description': '1 Layer 16 (1 and 5 star rating only) LSTM Units, No Dropout, GloVe Embedding (with stop words, nonlemmatized), Balanced Weights', 'classification_report': '{\"1\": {\"precision\": 0.8975600201466226, \"recall\": 0.9162501071153132, \"f1-score\": 0.9068087692764357, \"support\": 35009}, \"2\": {\"precision\": 0.6739727260452766, \"recall\": 0.3610347654178119, \"f1-score\": 0.4701948286418513, \"support\": 41478}, \"3\": {\"precision\": 0.8271043373240916, \"recall\": 0.9416314208426119, \"f1-score\": 0.8806600180309881, \"support\": 133822}, \"accuracy\": 0.8228986871698311, \"macro avg\": {\"precision\": 0.7995456945053303, \"recall\": 0.739638764458579, \"f1-score\": 0.7525545386497584, \"support\": 210309}, \"weighted avg\": {\"precision\": 0.808631471337906, \"recall\": 0.8228986871698311, \"f1-score\": 0.8040592377832064, \"support\": 210309}}', 'roc_auc': '{\"auc_1\": 0.9905476489241778, \"auc_2\": 0.8230458822700493, \"auc_3\": 0.8900727738371834, \"auc_micro\": 0.9458296427427375, \"auc_macro\": 0.9012258101221413}', 'loss': 0.4348705947880661, 'accuracy': 0.8228987, 'confusion_matrix': '[[32077, 1079, 1853], [2015, 14975, 24488], [1646, 6165, 126011]]', 'file': 'drive/My Drive/Springboard/capstone/data/amazon_reviews_us_Wireless_v1_00-1m-with_stop_nonlemmatized-preprocessed.csv', 'network_history_file': 'drive/My Drive/Springboard/capstone/reports/LSTMB16_145-1x16-glove_with_stop_nonlemmatized-sampling_none-841233-100-star_rating-history.pkl', 'tokenizer_file': 'drive/My Drive/Springboard/capstone/models/LSTMB16_145-1x16-glove_with_stop_nonlemmatized-sampling_none-841233-100-star_rating-tokenizer.pkl', 'max_sequence_length': 100, 'batch_size': 128, 'epochs': 13, 'feature_set_name': 'glove_with_stop_nonlemmatized', 'class_weight': '[2.0013917834813144, 1.6880839433635138, 0.5241199746548215]', 'sampling_type': 'none', 'embedding': 300, 'model_file': 'drive/My Drive/Springboard/capstone/models/LSTMB16_145-1x16-glove_with_stop_nonlemmatized-sampling_none-841233-100-star_rating-model.h5', 'model_json_file': 'drive/My Drive/Springboard/capstone/models/LSTMB16_145-1x16-glove_with_stop_nonlemmatized-sampling_none-841233-100-star_rating-model.json', 'weights_file': 'drive/My Drive/Springboard/capstone/models/LSTMB16_145-1x16-glove_with_stop_nonlemmatized-sampling_none-841233-100-star_rating-weights.h5', 'test_examples': 210309, 'test_features': 100, 'train_examples': 630924, 'train_features': 100, 'train_time_min': 12.27, 'evaluate_time_min': 0.63, 'predict_time_min': 0.48, 'status': 'success', 'status_date': '2020-02-23 00:28:00'}\n",
            "Saving report file...\n",
            "Saving json config file: drive/My Drive/Springboard/capstone/models/LSTMB16_145-1x16-glove_with_stop_nonlemmatized-sampling_none-841233-100-star_rating-model.json\n",
            "Saving weights file: drive/My Drive/Springboard/capstone/models/LSTMB16_145-1x16-glove_with_stop_nonlemmatized-sampling_none-841233-100-star_rating-weights.h5\n",
            "Saving history file: drive/My Drive/Springboard/capstone/reports/LSTMB16_145-1x16-glove_with_stop_nonlemmatized-sampling_none-841233-100-star_rating-history.pkl\n",
            "Saving model file: drive/My Drive/Springboard/capstone/models/LSTMB16_145-1x16-glove_with_stop_nonlemmatized-sampling_none-841233-100-star_rating-model.h5\n"
          ],
          "name": "stdout"
        }
      ]
    },
    {
      "cell_type": "markdown",
      "metadata": {
        "id": "jyLHNyTcfvHp",
        "colab_type": "text"
      },
      "source": [
        "# Test That Our Models Saved Correctly"
      ]
    },
    {
      "cell_type": "code",
      "metadata": {
        "id": "aOF5a51SfyqM",
        "colab_type": "code",
        "outputId": "fd9bc6ff-0f6c-43de-9c93-cc738a6701fc",
        "colab": {
          "base_uri": "https://localhost:8080/",
          "height": 51
        }
      },
      "source": [
        "from tensorflow.keras.models import load_model\n",
        "\n",
        "model_loaded = load_model(mw.model_file)\n",
        "scores = model_loaded.evaluate(X_test, y_test, verbose=1)\n",
        "print(\"Accuracy: %.2f%%\" % (scores[1]*100))\n",
        "\n",
        "\n",
        "if DEBUG == True:\n",
        "  y_predict = model_loaded.predict(X_test)\n",
        "  y_predict_unencoded = ku.unencode(y_predict)\n",
        "  y_test_unencoded = ku.unencode(y_test)\n",
        "\n",
        "  # classification report\n",
        "  print(classification_report(y_test_unencoded, y_predict_unencoded))\n",
        "\n",
        "  # confusion matrix\n",
        "  print(confusion_matrix(y_test_unencoded, y_predict_unencoded))\n"
      ],
      "execution_count": 17,
      "outputs": [
        {
          "output_type": "stream",
          "text": [
            "210309/210309 [==============================] - 101s 478us/sample - loss: 0.4349 - categorical_accuracy: 0.8229\n",
            "Accuracy: 82.29%\n"
          ],
          "name": "stdout"
        }
      ]
    },
    {
      "cell_type": "code",
      "metadata": {
        "id": "365dDMegVLbh",
        "colab_type": "code",
        "colab": {}
      },
      "source": [
        ""
      ],
      "execution_count": 0,
      "outputs": []
    },
    {
      "cell_type": "code",
      "metadata": {
        "id": "glrmNAu0VLY3",
        "colab_type": "code",
        "colab": {}
      },
      "source": [
        ""
      ],
      "execution_count": 0,
      "outputs": []
    },
    {
      "cell_type": "code",
      "metadata": {
        "id": "LYbzjk04VLRv",
        "colab_type": "code",
        "colab": {}
      },
      "source": [
        ""
      ],
      "execution_count": 0,
      "outputs": []
    },
    {
      "cell_type": "code",
      "metadata": {
        "id": "K-OiazT2VLP9",
        "colab_type": "code",
        "colab": {}
      },
      "source": [
        ""
      ],
      "execution_count": 0,
      "outputs": []
    },
    {
      "cell_type": "code",
      "metadata": {
        "id": "LQnB1uVLVLOC",
        "colab_type": "code",
        "colab": {}
      },
      "source": [
        ""
      ],
      "execution_count": 0,
      "outputs": []
    },
    {
      "cell_type": "code",
      "metadata": {
        "id": "om5vV5bLVLMQ",
        "colab_type": "code",
        "colab": {}
      },
      "source": [
        ""
      ],
      "execution_count": 0,
      "outputs": []
    },
    {
      "cell_type": "code",
      "metadata": {
        "id": "LrD2AxFwVLFB",
        "colab_type": "code",
        "colab": {}
      },
      "source": [
        ""
      ],
      "execution_count": 0,
      "outputs": []
    },
    {
      "cell_type": "code",
      "metadata": {
        "id": "W6RImEZXVLDr",
        "colab_type": "code",
        "colab": {}
      },
      "source": [
        ""
      ],
      "execution_count": 0,
      "outputs": []
    },
    {
      "cell_type": "code",
      "metadata": {
        "id": "riSYnYkGVLBn",
        "colab_type": "code",
        "colab": {}
      },
      "source": [
        ""
      ],
      "execution_count": 0,
      "outputs": []
    },
    {
      "cell_type": "code",
      "metadata": {
        "id": "x4-5q1NdVK7q",
        "colab_type": "code",
        "colab": {}
      },
      "source": [
        ""
      ],
      "execution_count": 0,
      "outputs": []
    },
    {
      "cell_type": "code",
      "metadata": {
        "id": "o6TSPR0RVKwd",
        "colab_type": "code",
        "colab": {}
      },
      "source": [
        ""
      ],
      "execution_count": 0,
      "outputs": []
    },
    {
      "cell_type": "code",
      "metadata": {
        "id": "96A-A5CBJXiy",
        "colab_type": "code",
        "outputId": "24639e89-2f5b-4937-f0d8-97f7f6a752d1",
        "colab": {
          "base_uri": "https://localhost:8080/",
          "height": 34
        }
      },
      "source": [
        "print(datetime.now())"
      ],
      "execution_count": 18,
      "outputs": [
        {
          "output_type": "stream",
          "text": [
            "2020-02-23 00:30:56.788745\n"
          ],
          "name": "stdout"
        }
      ]
    }
  ]
}