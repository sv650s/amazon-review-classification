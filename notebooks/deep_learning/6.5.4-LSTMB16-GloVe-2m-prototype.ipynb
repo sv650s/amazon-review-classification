{
  "nbformat": 4,
  "nbformat_minor": 0,
  "metadata": {
    "colab": {
      "name": "6.5.4-LSTMB16-GloVe-2m-prototype.ipynb",
      "provenance": [],
      "collapsed_sections": [],
      "include_colab_link": true
    },
    "language_info": {
      "codemirror_mode": {
        "name": "ipython",
        "version": 3
      },
      "file_extension": ".py",
      "mimetype": "text/x-python",
      "name": "python",
      "nbconvert_exporter": "python",
      "pygments_lexer": "ipython3",
      "version": "3.7.3"
    },
    "kernelspec": {
      "name": "python3",
      "display_name": "Python 3"
    },
    "accelerator": "GPU"
  },
  "cells": [
    {
      "cell_type": "markdown",
      "metadata": {
        "id": "view-in-github",
        "colab_type": "text"
      },
      "source": [
        "<a href=\"https://colab.research.google.com/github/sv650s/amazon-review-classification/blob/master/notebooks/deep_learning/6.5.4-LSTMB16-GloVe-2m-prototype.ipynb\" target=\"_parent\"><img src=\"https://colab.research.google.com/assets/colab-badge.svg\" alt=\"Open In Colab\"/></a>"
      ]
    },
    {
      "cell_type": "markdown",
      "metadata": {
        "id": "W7_sb1roJXhx",
        "colab_type": "text"
      },
      "source": [
        "# Pre-trained embedding using LSTM\n",
        "\n",
        "For this notebook, we will run our 16 unit LSTM using GloVe embedding with 2 million examples to see how to model does.\n",
        "\n",
        "We are seeing similar behavior as random embedding where our performance starts to decrease after 1 million examples, although the drop off was not as much as random embedding. We will run the model with 2 million examples just to make sure the our score trend is decreasing with more samples.\n",
        "\n",
        "\n",
        "# Result\n",
        "\n",
        "Random embedding with 2 million samples: 0.3532278758036526\n",
        "\n",
        "Glove embedding with 1 mil samples: 0.2959231917086992\n",
        "\n",
        "Our score: \n",
        "\n",
        "\n",
        "\n"
      ]
    },
    {
      "cell_type": "code",
      "metadata": {
        "id": "pF_xRedK9O1Q",
        "colab_type": "code",
        "outputId": "8e253926-84d6-49e2-a887-6e573b99cfe8",
        "colab": {
          "base_uri": "https://localhost:8080/",
          "height": 154
        }
      },
      "source": [
        "from google.colab import drive\n",
        "drive.mount('/content/drive')\n",
        "\n",
        "import sys\n",
        "DRIVE_DIR = \"drive/My Drive/Springboard/capstone\"\n",
        "sys.path.append(DRIVE_DIR)\n",
        "\n",
        "\n",
        "%tensorflow_version 2.x\n",
        "\n",
        "\n",
        "import tensorflow as tf\n",
        "# checl to make sure we are using GPU here\n",
        "tf.test.gpu_device_name()"
      ],
      "execution_count": 1,
      "outputs": [
        {
          "output_type": "stream",
          "text": [
            "Go to this URL in a browser: https://accounts.google.com/o/oauth2/auth?client_id=947318989803-6bn6qk8qdgf4n4g3pfee6491hc0brc4i.apps.googleusercontent.com&redirect_uri=urn%3aietf%3awg%3aoauth%3a2.0%3aoob&response_type=code&scope=email%20https%3a%2f%2fwww.googleapis.com%2fauth%2fdocs.test%20https%3a%2f%2fwww.googleapis.com%2fauth%2fdrive%20https%3a%2f%2fwww.googleapis.com%2fauth%2fdrive.photos.readonly%20https%3a%2f%2fwww.googleapis.com%2fauth%2fpeopleapi.readonly\n",
            "\n",
            "Enter your authorization code:\n",
            "··········\n",
            "Mounted at /content/drive\n",
            "TensorFlow 2.x selected.\n"
          ],
          "name": "stdout"
        },
        {
          "output_type": "execute_result",
          "data": {
            "text/plain": [
              "'/device:GPU:0'"
            ]
          },
          "metadata": {
            "tags": []
          },
          "execution_count": 1
        }
      ]
    },
    {
      "cell_type": "code",
      "metadata": {
        "id": "pAHGtniuJXhy",
        "colab_type": "code",
        "colab": {}
      },
      "source": [
        "from __future__ import absolute_import, division, print_function, unicode_literals\n",
        "\n",
        "\n",
        "from tensorflow.keras.models import Sequential\n",
        "from tensorflow.keras.layers import Dense, Activation, Dropout\n",
        "from tensorflow.keras.layers import BatchNormalization\n",
        "from tensorflow.keras.callbacks import EarlyStopping, ReduceLROnPlateau\n",
        "from tensorflow.keras.models import load_model\n",
        "from tensorflow.keras.optimizers import SGD\n",
        "from tensorflow.keras.layers import Conv1D, MaxPooling1D, Embedding, \\\n",
        "    SpatialDropout1D, Flatten, LSTM\n",
        "from tensorflow.keras.preprocessing.text import Tokenizer\n",
        "from tensorflow.keras.preprocessing import sequence\n",
        "from tensorflow.keras.utils import model_to_dot\n",
        "from tensorflow.keras.initializers import Constant\n",
        "\n",
        "\n",
        "from sklearn.model_selection import train_test_split\n",
        "from sklearn.preprocessing import OneHotEncoder\n",
        "from sklearn.preprocessing import LabelEncoder\n",
        "from sklearn.metrics import confusion_matrix, classification_report\n",
        "from sklearn.utils.class_weight import compute_class_weight\n",
        "\n",
        "\n",
        "import pandas as pd\n",
        "import numpy as np\n",
        "from IPython.display import SVG\n",
        "import pickle\n",
        "from datetime import datetime\n",
        "import matplotlib.pyplot as plt\n",
        "import seaborn as sns\n",
        "import os\n",
        "import logging\n",
        "\n",
        "\n",
        "import util.dict_util as du\n",
        "import util.plot_util as pu\n",
        "import util.file_util as fu\n",
        "import util.keras_util as ku\n",
        "import util.report_util as ru\n",
        "\n",
        "import random\n",
        "\n",
        "# fix random seeds\n",
        "tf.compat.v1.reset_default_graph()\n",
        "tf.compat.v1.set_random_seed(1)\n",
        "random.seed(1)\n",
        "np.random.seed(1)\n",
        "\n",
        "logging.basicConfig(level=logging.ERROR)\n",
        "\n",
        "%matplotlib inline\n",
        "sns.set()\n",
        "\n",
        "\n",
        "DATE_FORMAT = '%Y-%m-%d'\n",
        "TIME_FORMAT = '%Y-%m-%d %H:%M:%S'\n",
        "LABEL_COLUMN = \"star_rating\"\n",
        "REVIEW_COLUMN = \"review_body\"\n",
        "\n",
        "\n",
        "DEBUG = False\n",
        "\n",
        "\n",
        "LSTM_DIM = 16 # total LSTM units\n",
        "MODEL_NAME = f\"LSTMB{LSTM_DIM}\"\n",
        "ARCHITECTURE = f\"1x{LSTM_DIM}\"\n",
        "DESCRIPTION = f\"1 Layer {LSTM_DIM} LSTM Units, No Dropout, GloVe Embedding, Balanced Weights\"\n",
        "FEATURE_SET_NAME = \"glove\"\n",
        "PATIENCE = 4\n",
        "\n",
        "SAMPLES = \"2m\"\n",
        "\n",
        "if DEBUG:\n",
        "  DATA_FILE = f'{DRIVE_DIR}/data/amazon_reviews_us_Wireless_v1_00-test-preprocessed.csv'\n",
        "  MODEL_NAME = f'test-{MODEL_NAME}'\n",
        "  MISSING_WORDS_FILE = f'{DRIVE_DIR}/reports/glove_embedding-missing_words-test.csv'\n",
        "  ku.ModelWrapper.set_report_filename('test-dl_prototype-report.csv')\n",
        "else:\n",
        "  DATA_FILE = f\"{DRIVE_DIR}/data/amazon_reviews_us_Wireless_v1_00-{SAMPLES}-preprocessed.csv\"\n",
        "  MISSING_WORDS_FILE = f'{DRIVE_DIR}/reports/glove_embedding-missing_words-{SAMPLES}.csv'\n",
        "  ku.ModelWrapper.set_report_filename('glove_embedding-dl_prototype-report.csv')\n",
        "\n",
        "\n",
        "EMBEDDING_FILE = f'{DRIVE_DIR}/data/embeddings/glove.840B.300d.txt'\n",
        "\n",
        "# first layer filter\n",
        "FILTER1 = 32\n",
        "# Network Settings\n",
        "KERNEL_SIZE=3\n",
        "\n",
        "\n",
        "\n",
        "# length of our embedding - 300 is standard\n",
        "EMBED_SIZE = 300\n",
        "EPOCHS  = 50\n",
        "BATCH_SIZE = 128\n",
        "\n",
        "# From EDA, we know that 90% of review bodies have 100 words or less, \n",
        "# we will use this as our sequence length\n",
        "MAX_SEQUENCE_LENGTH = 100\n",
        "\n",
        "\n"
      ],
      "execution_count": 0,
      "outputs": []
    },
    {
      "cell_type": "code",
      "metadata": {
        "hide_input": false,
        "id": "k6fwJp9OJXh5",
        "colab_type": "code",
        "colab": {}
      },
      "source": [
        "df = pd.read_csv(DATA_FILE)\n",
        "\n",
        "rating = df[LABEL_COLUMN]\n",
        "reviews = df[REVIEW_COLUMN]"
      ],
      "execution_count": 0,
      "outputs": []
    },
    {
      "cell_type": "code",
      "metadata": {
        "id": "GKdUpCsshGk8",
        "colab_type": "code",
        "colab": {}
      },
      "source": [
        ""
      ],
      "execution_count": 0,
      "outputs": []
    },
    {
      "cell_type": "code",
      "metadata": {
        "id": "rMdM2TS7hGgc",
        "colab_type": "code",
        "colab": {}
      },
      "source": [
        ""
      ],
      "execution_count": 0,
      "outputs": []
    },
    {
      "cell_type": "code",
      "metadata": {
        "id": "kHMW5sNShGce",
        "colab_type": "code",
        "colab": {}
      },
      "source": [
        ""
      ],
      "execution_count": 0,
      "outputs": []
    },
    {
      "cell_type": "code",
      "metadata": {
        "id": "HvcwW1AmhGNU",
        "colab_type": "code",
        "colab": {}
      },
      "source": [
        ""
      ],
      "execution_count": 0,
      "outputs": []
    },
    {
      "cell_type": "markdown",
      "metadata": {
        "id": "EBQR0ZpoOiQk",
        "colab_type": "text"
      },
      "source": [
        "# Preprocessing"
      ]
    },
    {
      "cell_type": "code",
      "metadata": {
        "id": "_g2Wm80MCgGZ",
        "colab_type": "code",
        "colab": {}
      },
      "source": [
        ""
      ],
      "execution_count": 0,
      "outputs": []
    },
    {
      "cell_type": "code",
      "metadata": {
        "id": "lytdvF4neJ4r",
        "colab_type": "code",
        "outputId": "5aa63cb6-50b0-45a7-c2a0-2ef6851217cb",
        "colab": {
          "base_uri": "https://localhost:8080/",
          "height": 67
        }
      },
      "source": [
        "\n",
        "\n",
        "# pre-process our lables\n",
        "# one hot encode our star ratings since Keras/TF requires this for the labels\n",
        "y = OneHotEncoder().fit_transform(rating.values.reshape(len(rating), 1)).toarray()\n",
        "\n",
        "\n",
        "# split our data into train and test sets\n",
        "reviews_train, reviews_test, y_train, y_test = train_test_split(reviews, y, random_state=1)\n",
        "\n",
        "\n",
        "# Pre-process our features (review body)\n",
        "t = Tokenizer(oov_token=\"<UNK>\")\n",
        "# fit the tokenizer on the documents\n",
        "t.fit_on_texts(reviews_train)\n",
        "# tokenize both our training and test data\n",
        "train_sequences = t.texts_to_sequences(reviews_train)\n",
        "test_sequences = t.texts_to_sequences(reviews_test)\n",
        "\n",
        "print(\"Vocabulary size={}\".format(len(t.word_counts)))\n",
        "print(\"Number of Documents={}\".format(t.document_count))\n",
        "\n",
        "\n",
        "# pad our reviews to the max sequence length\n",
        "X_train = sequence.pad_sequences(train_sequences, maxlen=MAX_SEQUENCE_LENGTH)\n",
        "X_test = sequence.pad_sequences(test_sequences, maxlen=MAX_SEQUENCE_LENGTH)\n",
        "\n",
        "print('Train review vectors shape:', X_train.shape, ' Test review vectors shape:', X_test.shape)\n"
      ],
      "execution_count": 4,
      "outputs": [
        {
          "output_type": "stream",
          "text": [
            "Vocabulary size=164816\n",
            "Number of Documents=1500000\n",
            "Train review vectors shape: (1500000, 100)  Test review vectors shape: (500000, 100)\n"
          ],
          "name": "stdout"
        }
      ]
    },
    {
      "cell_type": "markdown",
      "metadata": {
        "id": "TgorpmIPnQH9",
        "colab_type": "text"
      },
      "source": [
        "## Load our pre-trained embedding\n",
        "\n",
        "embeddings_index will be a map where key == word, value == the embedding vector"
      ]
    },
    {
      "cell_type": "code",
      "metadata": {
        "id": "5j7D7LLinP0r",
        "colab_type": "code",
        "outputId": "4abdb68f-5b5d-4a5c-fbb4-27a46e404cd7",
        "colab": {
          "base_uri": "https://localhost:8080/",
          "height": 50
        }
      },
      "source": [
        "print('Indexing word vectors.')\n",
        "\n",
        "embeddings_index = {}\n",
        "with open(EMBEDDING_FILE) as f:\n",
        "    for line in f:\n",
        "        word, coefs = line.split(maxsplit=1)\n",
        "        coefs = np.fromstring(coefs, 'f', sep=' ')\n",
        "        embeddings_index[word] = coefs\n",
        "\n",
        "print('Found %s word vectors.' % len(embeddings_index))"
      ],
      "execution_count": 5,
      "outputs": [
        {
          "output_type": "stream",
          "text": [
            "Indexing word vectors.\n",
            "Found 2195884 word vectors.\n"
          ],
          "name": "stdout"
        }
      ]
    },
    {
      "cell_type": "code",
      "metadata": {
        "id": "pchOfR6qnPxB",
        "colab_type": "code",
        "colab": {}
      },
      "source": [
        ""
      ],
      "execution_count": 0,
      "outputs": []
    },
    {
      "cell_type": "code",
      "metadata": {
        "id": "G7L7HL6EnPtA",
        "colab_type": "code",
        "colab": {}
      },
      "source": [
        ""
      ],
      "execution_count": 0,
      "outputs": []
    },
    {
      "cell_type": "markdown",
      "metadata": {
        "id": "rYvqmy4xmQWD",
        "colab_type": "text"
      },
      "source": [
        "## Create Embedding Matrix based on our tokenizer\n",
        "\n",
        "For every word in our vocabulary, we will look up the embedding vector and add the it to our embedding matrix\n",
        "\n",
        "The matrix will be passed in as weights in our embedding layer later\n",
        "\n",
        "If there is word that does not exist in the pre-trained embedding vocabulary, we will leave the weights as 0 vector and save off the word into a CSV file later for analysis"
      ]
    },
    {
      "cell_type": "code",
      "metadata": {
        "id": "bIrMqj-HmPwk",
        "colab_type": "code",
        "outputId": "731e2b8d-77a0-4fe5-d20b-2553ac9d6469",
        "colab": {
          "base_uri": "https://localhost:8080/",
          "height": 67
        }
      },
      "source": [
        "# this is a map with key == word, value == index in the vocabulary\n",
        "word_index = t.word_index\n",
        "print(f'word_index length: {len(word_index)}')\n",
        "\n",
        "# we are going to use the entire vocab so we can alter this from the example\n",
        "# num_words = min(MAX_NUM_WORDS, len(word_index) + 1)\n",
        "\n",
        "# start with a matrix of 0's\n",
        "embedding_matrix = np.zeros((len(word_index) + 1, EMBED_SIZE))\n",
        "\n",
        "# if a word doesn't exist in our vocabulary, let's save it off\n",
        "missing_words = []\n",
        "print(f'embedding_matrix shape: {np.shape(embedding_matrix)}')\n",
        "for word, i in word_index.items():\n",
        "    # print(f'word: {word} i: {i}')\n",
        "    embedding_vector = embeddings_index.get(word)\n",
        "    if embedding_vector is not None and np.shape(embedding_vector)[0] == EMBED_SIZE:\n",
        "        # words not found in embedding index will be all-zeros.\n",
        "        # print(f'i: {i} embedding_vector shape: {np.shape(embedding_vector)}')\n",
        "        embedding_matrix[i] = embedding_vector\n",
        "    else:\n",
        "      missing_words.append(word)\n",
        "\n",
        "print(f'Number of missing words from our vocabulary: {len(missing_words)}')\n",
        "\n"
      ],
      "execution_count": 6,
      "outputs": [
        {
          "output_type": "stream",
          "text": [
            "word_index length: 164817\n",
            "embedding_matrix shape: (164818, 300)\n",
            "Number of missing words from our vocabulary: 84541\n"
          ],
          "name": "stdout"
        }
      ]
    },
    {
      "cell_type": "markdown",
      "metadata": {
        "id": "TIw5aJS8trK-",
        "colab_type": "text"
      },
      "source": [
        "Save off our missing words into a csv file so we can analyze this later"
      ]
    },
    {
      "cell_type": "code",
      "metadata": {
        "id": "XN1Vr2oSto2f",
        "colab_type": "code",
        "colab": {}
      },
      "source": [
        "# save missing words into a file so we can analyze it later\n",
        "missing_words_df = pd.DataFrame(missing_words)\n",
        "missing_words_df.to_csv(MISSING_WORDS_FILE, index=False)"
      ],
      "execution_count": 0,
      "outputs": []
    },
    {
      "cell_type": "markdown",
      "metadata": {
        "id": "6hWLBCjqucDJ",
        "colab_type": "text"
      },
      "source": [
        "**Build LSTM Model Architecture**"
      ]
    },
    {
      "cell_type": "code",
      "metadata": {
        "id": "653DtCuBJXiF",
        "colab_type": "code",
        "colab": {}
      },
      "source": [
        "vocab_size = len(t.word_index)+1\n",
        "\n",
        "# building our network\n",
        "model = Sequential()\n",
        "# load pre-trained word embeddings into an Embedding layer\n",
        "# note that we set trainable = False so as to keep the embeddings fixed\n",
        "model.add(Embedding(input_dim=vocab_size,\n",
        "                            output_dim=EMBED_SIZE,\n",
        "                            embeddings_initializer=Constant(embedding_matrix),\n",
        "                            input_length=MAX_SEQUENCE_LENGTH,\n",
        "                            trainable=False))\n",
        "# model.add(Embedding(input_dim=vocab_size, output_dim=EMBED_SIZE, input_length=MAX_SEQUENCE_LENGTH))\n",
        "model.add(LSTM(LSTM_DIM))\n",
        "model.add(Dense(5, activation=\"softmax\"))\n",
        "\n",
        "model.compile(loss=\"categorical_crossentropy\", optimizer=\"adam\",\n",
        "              metrics=[\"categorical_accuracy\"])\n"
      ],
      "execution_count": 0,
      "outputs": []
    },
    {
      "cell_type": "code",
      "metadata": {
        "id": "iZitdxXPJXiI",
        "colab_type": "code",
        "outputId": "e80bd6c9-420e-49f2-8606-dbb51655e61f",
        "colab": {
          "base_uri": "https://localhost:8080/",
          "height": 269
        }
      },
      "source": [
        "print(model.summary())"
      ],
      "execution_count": 9,
      "outputs": [
        {
          "output_type": "stream",
          "text": [
            "Model: \"sequential\"\n",
            "_________________________________________________________________\n",
            "Layer (type)                 Output Shape              Param #   \n",
            "=================================================================\n",
            "embedding (Embedding)        (None, 100, 300)          49445400  \n",
            "_________________________________________________________________\n",
            "lstm (LSTM)                  (None, 16)                20288     \n",
            "_________________________________________________________________\n",
            "dense (Dense)                (None, 5)                 85        \n",
            "=================================================================\n",
            "Total params: 49,465,773\n",
            "Trainable params: 20,373\n",
            "Non-trainable params: 49,445,400\n",
            "_________________________________________________________________\n",
            "None\n"
          ],
          "name": "stdout"
        }
      ]
    },
    {
      "cell_type": "code",
      "metadata": {
        "scrolled": false,
        "id": "60eC_0fRJXiQ",
        "colab_type": "code",
        "outputId": "4014775e-06ff-4d38-de48-48a8d46a84c9",
        "colab": {
          "base_uri": "https://localhost:8080/",
          "height": 1000
        }
      },
      "source": [
        "\n",
        "# reduce learning rate if we sense a plateau\n",
        "reduce_lr = ReduceLROnPlateau(monitor='val_loss', \n",
        "                            #   factor=0.4,\n",
        "                              patience=2, \n",
        "                            #   min_lr=0.00001,\n",
        "                            #  mode='auto',\n",
        "                              restore_best_weights=True)\n",
        "\n",
        "early_stop = EarlyStopping(monitor='val_loss', patience=PATIENCE, verbose=1)\n",
        "\n",
        "weights = compute_class_weight('balanced', np.arange(1, 6), rating)\n",
        "print(f'class weights: {weights}')\n",
        "\n",
        "\n",
        "mw = ku.ModelWrapper(model, \n",
        "                     MODEL_NAME, \n",
        "                     ARCHITECTURE,\n",
        "                     FEATURE_SET_NAME,\n",
        "                     LABEL_COLUMN, \n",
        "                     DATA_FILE, \n",
        "                     embed_size=EMBED_SIZE,\n",
        "                     tokenizer=t,\n",
        "                     description=DESCRIPTION)\n",
        "\n",
        "network_history = mw.fit(X_train, y_train,\n",
        "                      batch_size=BATCH_SIZE,\n",
        "                      epochs=EPOCHS,\n",
        "                      verbose=1,\n",
        "                      validation_split=0.2,\n",
        "                      class_weight=weights,\n",
        "                      callbacks=[early_stop, reduce_lr])"
      ],
      "execution_count": 10,
      "outputs": [
        {
          "output_type": "stream",
          "text": [
            "class weights: [1.42593345 3.00543985 2.2162261  1.19794911 0.37313468]\n",
            "Number of training examples: 1500000\n",
            "Train on 1200000 samples, validate on 300000 samples\n",
            "Epoch 1/50\n",
            "1200000/1200000 [==============================] - 113s 94us/sample - loss: 0.8308 - categorical_accuracy: 0.6763 - val_loss: 0.7837 - val_categorical_accuracy: 0.6935\n",
            "Epoch 2/50\n",
            "1200000/1200000 [==============================] - 104s 87us/sample - loss: 0.7743 - categorical_accuracy: 0.6963 - val_loss: 0.7669 - val_categorical_accuracy: 0.6991\n",
            "Epoch 3/50\n",
            "1200000/1200000 [==============================] - 104s 86us/sample - loss: 0.7612 - categorical_accuracy: 0.7014 - val_loss: 0.7603 - val_categorical_accuracy: 0.7018\n",
            "Epoch 4/50\n",
            "1200000/1200000 [==============================] - 104s 86us/sample - loss: 0.7535 - categorical_accuracy: 0.7042 - val_loss: 0.7556 - val_categorical_accuracy: 0.7045\n",
            "Epoch 5/50\n",
            "1200000/1200000 [==============================] - 104s 87us/sample - loss: 0.7485 - categorical_accuracy: 0.7063 - val_loss: 0.7512 - val_categorical_accuracy: 0.7061\n",
            "Epoch 6/50\n",
            "1200000/1200000 [==============================] - 106s 88us/sample - loss: 0.7452 - categorical_accuracy: 0.7075 - val_loss: 0.7514 - val_categorical_accuracy: 0.7053\n",
            "Epoch 7/50\n",
            "1200000/1200000 [==============================] - 105s 88us/sample - loss: 0.7422 - categorical_accuracy: 0.7084 - val_loss: 0.7477 - val_categorical_accuracy: 0.7073\n",
            "Epoch 8/50\n",
            "1200000/1200000 [==============================] - 105s 87us/sample - loss: 0.7399 - categorical_accuracy: 0.7093 - val_loss: 0.7494 - val_categorical_accuracy: 0.7070\n",
            "Epoch 9/50\n",
            "1200000/1200000 [==============================] - 104s 87us/sample - loss: 0.7379 - categorical_accuracy: 0.7102 - val_loss: 0.7457 - val_categorical_accuracy: 0.7083\n",
            "Epoch 10/50\n",
            "1200000/1200000 [==============================] - 104s 86us/sample - loss: 0.7364 - categorical_accuracy: 0.7106 - val_loss: 0.7458 - val_categorical_accuracy: 0.7080\n",
            "Epoch 11/50\n",
            "1200000/1200000 [==============================] - 103s 86us/sample - loss: 0.7351 - categorical_accuracy: 0.7113 - val_loss: 0.7452 - val_categorical_accuracy: 0.7088\n",
            "Epoch 12/50\n",
            "1200000/1200000 [==============================] - 103s 86us/sample - loss: 0.7339 - categorical_accuracy: 0.7117 - val_loss: 0.7429 - val_categorical_accuracy: 0.7093\n",
            "Epoch 13/50\n",
            "1200000/1200000 [==============================] - 103s 86us/sample - loss: 0.7327 - categorical_accuracy: 0.7122 - val_loss: 0.7433 - val_categorical_accuracy: 0.7089\n",
            "Epoch 14/50\n",
            "1200000/1200000 [==============================] - 105s 87us/sample - loss: 0.7319 - categorical_accuracy: 0.7126 - val_loss: 0.7422 - val_categorical_accuracy: 0.7102\n",
            "Epoch 15/50\n",
            "1200000/1200000 [==============================] - 104s 86us/sample - loss: 0.7310 - categorical_accuracy: 0.7128 - val_loss: 0.7422 - val_categorical_accuracy: 0.7090\n",
            "Epoch 16/50\n",
            "1200000/1200000 [==============================] - 104s 87us/sample - loss: 0.7302 - categorical_accuracy: 0.7132 - val_loss: 0.7416 - val_categorical_accuracy: 0.7099\n",
            "Epoch 17/50\n",
            "1200000/1200000 [==============================] - 103s 86us/sample - loss: 0.7294 - categorical_accuracy: 0.7134 - val_loss: 0.7411 - val_categorical_accuracy: 0.7100\n",
            "Epoch 18/50\n",
            "1200000/1200000 [==============================] - 107s 89us/sample - loss: 0.7287 - categorical_accuracy: 0.7135 - val_loss: 0.7406 - val_categorical_accuracy: 0.7100\n",
            "Epoch 19/50\n",
            "1200000/1200000 [==============================] - 106s 88us/sample - loss: 0.7283 - categorical_accuracy: 0.7139 - val_loss: 0.7407 - val_categorical_accuracy: 0.7102\n",
            "Epoch 20/50\n",
            "1200000/1200000 [==============================] - 105s 88us/sample - loss: 0.7278 - categorical_accuracy: 0.7142 - val_loss: 0.7424 - val_categorical_accuracy: 0.7099\n",
            "Epoch 21/50\n",
            "1200000/1200000 [==============================] - 104s 87us/sample - loss: 0.7195 - categorical_accuracy: 0.7168 - val_loss: 0.7364 - val_categorical_accuracy: 0.7113\n",
            "Epoch 22/50\n",
            "1200000/1200000 [==============================] - 104s 87us/sample - loss: 0.7184 - categorical_accuracy: 0.7173 - val_loss: 0.7362 - val_categorical_accuracy: 0.7116\n",
            "Epoch 23/50\n",
            "1200000/1200000 [==============================] - 107s 89us/sample - loss: 0.7180 - categorical_accuracy: 0.7173 - val_loss: 0.7364 - val_categorical_accuracy: 0.7117\n",
            "Epoch 24/50\n",
            "1200000/1200000 [==============================] - 104s 87us/sample - loss: 0.7178 - categorical_accuracy: 0.7175 - val_loss: 0.7362 - val_categorical_accuracy: 0.7116\n",
            "Epoch 25/50\n",
            "1200000/1200000 [==============================] - 104s 87us/sample - loss: 0.7166 - categorical_accuracy: 0.7178 - val_loss: 0.7358 - val_categorical_accuracy: 0.7117\n",
            "Epoch 26/50\n",
            "1200000/1200000 [==============================] - 103s 86us/sample - loss: 0.7165 - categorical_accuracy: 0.7178 - val_loss: 0.7359 - val_categorical_accuracy: 0.7119\n",
            "Epoch 27/50\n",
            "1200000/1200000 [==============================] - 103s 86us/sample - loss: 0.7165 - categorical_accuracy: 0.7178 - val_loss: 0.7358 - val_categorical_accuracy: 0.7118\n",
            "Epoch 28/50\n",
            "1200000/1200000 [==============================] - 103s 86us/sample - loss: 0.7163 - categorical_accuracy: 0.7178 - val_loss: 0.7358 - val_categorical_accuracy: 0.7119\n",
            "Epoch 29/50\n",
            "1200000/1200000 [==============================] - 104s 86us/sample - loss: 0.7163 - categorical_accuracy: 0.7178 - val_loss: 0.7358 - val_categorical_accuracy: 0.7118\n",
            "Epoch 00029: early stopping\n"
          ],
          "name": "stdout"
        }
      ]
    },
    {
      "cell_type": "code",
      "metadata": {
        "id": "2VHBrsPjJXiS",
        "colab_type": "code",
        "outputId": "3ba7d69e-3f22-4276-effe-02e8fe1b98c6",
        "colab": {
          "base_uri": "https://localhost:8080/",
          "height": 1000
        }
      },
      "source": [
        "\n",
        "scores = mw.evaluate(X_test, y_test)\n",
        "print(\"Accuracy: %.2f%%\" % (mw.scores[1]*100))\n",
        "\n",
        "pu.plot_network_history(mw.network_history, \"categorical_accuracy\", \"val_categorical_accuracy\")\n",
        "plt.show()\n",
        "\n",
        "print(\"\\nConfusion Matrix\")\n",
        "print(mw.confusion_matrix)\n",
        "\n",
        "print(\"\\nClassification Report\")\n",
        "print(mw.classification_report)\n",
        "\n",
        "fig = plt.figure(figsize=(5,5))\n",
        "pu.plot_roc_auc(mw.model_name, mw.roc_auc, mw.fpr, mw.tpr)\n",
        "\n"
      ],
      "execution_count": 11,
      "outputs": [
        {
          "output_type": "stream",
          "text": [
            "Number of test: 500000\n",
            "Running model.evaluate...\n",
            "500000/500000 [==============================] - 74s 148us/sample - loss: 0.7347 - categorical_accuracy: 0.7121\n",
            "Running model.predict...\n",
            "Unencode predictions...\n",
            "Generating confusion matrix...\n",
            "Calculating ROC AUC...\n",
            "(500000, 5)\n",
            "Getting classification report...\n",
            "Accuracy: 71.21%\n"
          ],
          "name": "stdout"
        },
        {
          "output_type": "display_data",
          "data": {
            "image/png": "[encoded data removed]",
            "text/plain": [
              "<Figure size 720x360 with 2 Axes>"
            ]
          },
          "metadata": {
            "tags": []
          }
        },
        {
          "output_type": "stream",
          "text": [
            "\n",
            "Confusion Matrix\n",
            "[[ 59005   3303   3891    645   3436]\n",
            " [ 16058   4747   7931   1493   2994]\n",
            " [  7424   3197  16623   8202   9520]\n",
            " [  2124    591   8003  24712  47908]\n",
            " [  2782    259   3096  11113 250943]]\n",
            "\n",
            "Classification Report\n",
            "              precision    recall  f1-score   support\n",
            "\n",
            "           1       0.68      0.84      0.75     70280\n",
            "           2       0.39      0.14      0.21     33223\n",
            "           3       0.42      0.37      0.39     44966\n",
            "           4       0.54      0.30      0.38     83338\n",
            "           5       0.80      0.94      0.86    268193\n",
            "\n",
            "    accuracy                           0.71    500000\n",
            "   macro avg       0.56      0.52      0.52    500000\n",
            "weighted avg       0.68      0.71      0.68    500000\n",
            "\n"
          ],
          "name": "stdout"
        },
        {
          "output_type": "stream",
          "text": [
            "drive/My Drive/Springboard/capstone/util/plot_util.py:267: MatplotlibDeprecationWarning: The 'withdash' parameter of text() is deprecated since Matplotlib 3.1 and will be removed in 3.3.  If any parameter follows 'withdash', they should be pass as keyword, not positionally.\n",
            "  withdash=True)\n",
            "drive/My Drive/Springboard/capstone/util/plot_util.py:267: MatplotlibDeprecationWarning: \n",
            "The TextWithDash class was deprecated in Matplotlib 3.1 and will be removed in 3.3. Use Annotation instead.\n",
            "  withdash=True)\n",
            "drive/My Drive/Springboard/capstone/util/plot_util.py:271: MatplotlibDeprecationWarning: The 'withdash' parameter of text() is deprecated since Matplotlib 3.1 and will be removed in 3.3.  If any parameter follows 'withdash', they should be pass as keyword, not positionally.\n",
            "  withdash=True)\n",
            "drive/My Drive/Springboard/capstone/util/plot_util.py:271: MatplotlibDeprecationWarning: \n",
            "The TextWithDash class was deprecated in Matplotlib 3.1 and will be removed in 3.3. Use Annotation instead.\n",
            "  withdash=True)\n",
            "drive/My Drive/Springboard/capstone/util/plot_util.py:275: MatplotlibDeprecationWarning: The 'withdash' parameter of text() is deprecated since Matplotlib 3.1 and will be removed in 3.3.  If any parameter follows 'withdash', they should be pass as keyword, not positionally.\n",
            "  withdash=True)\n",
            "drive/My Drive/Springboard/capstone/util/plot_util.py:275: MatplotlibDeprecationWarning: \n",
            "The TextWithDash class was deprecated in Matplotlib 3.1 and will be removed in 3.3. Use Annotation instead.\n",
            "  withdash=True)\n"
          ],
          "name": "stderr"
        },
        {
          "output_type": "display_data",
          "data": {
            "image/png": "[encoded data removed]",
            "text/plain": [
              "<Figure size 360x360 with 1 Axes>"
            ]
          },
          "metadata": {
            "tags": []
          }
        }
      ]
    },
    {
      "cell_type": "code",
      "metadata": {
        "id": "YOA18O7wN63j",
        "colab_type": "code",
        "outputId": "d0145555-097f-4ed8-da58-3789f7a44923",
        "colab": {
          "base_uri": "https://localhost:8080/",
          "height": 34
        }
      },
      "source": [
        "print(f'Score: {ru.calculate_metric(mw.crd)}')"
      ],
      "execution_count": 12,
      "outputs": [
        {
          "output_type": "stream",
          "text": [
            "Score: 0.3221294436695955\n"
          ],
          "name": "stdout"
        }
      ]
    },
    {
      "cell_type": "markdown",
      "metadata": {
        "id": "z2ot_Nqg1U4w",
        "colab_type": "text"
      },
      "source": [
        "**Save off various files**"
      ]
    },
    {
      "cell_type": "code",
      "metadata": {
        "id": "Al3bCFrI1P5m",
        "colab_type": "code",
        "outputId": "9c485ea0-3ef0-433a-e3f4-78309c2c738c",
        "colab": {
          "base_uri": "https://localhost:8080/",
          "height": 188
        }
      },
      "source": [
        "mw.save(DRIVE_DIR, append_report=True)"
      ],
      "execution_count": 0,
      "outputs": [
        {
          "output_type": "stream",
          "text": [
            "description: LSTMB16-1x16-glove-sampling_none-2000000-100-star_rating\n",
            "Saving to report file: drive/My Drive/Springboard/capstone/reports/glove_embedding-dl_prototype-report.csv\n",
            "Loading to append to: drive/My Drive/Springboard/capstone/reports/glove_embedding-dl_prototype-report.csv\n",
            "{'model_name': 'LSTMB16', 'architecture': '1x16', 'description': '1 Layer 16 LSTM Units, No Dropout, GloVe Embedding, Balanced Weights', 'classification_report': '{\"1\": {\"precision\": 0.6751684917556326, \"recall\": 0.8395702902675014, \"f1-score\": 0.7484477367716731, \"support\": 70280}, \"2\": {\"precision\": 0.3924113416549558, \"recall\": 0.14288294253980677, \"f1-score\": 0.2094880847308032, \"support\": 33223}, \"3\": {\"precision\": 0.4203671859194821, \"recall\": 0.36967931325890674, \"f1-score\": 0.3933972310969116, \"support\": 44966}, \"4\": {\"precision\": 0.5352973031517383, \"recall\": 0.2965273944659099, \"f1-score\": 0.3816436684864443, \"support\": 83338}, \"5\": {\"precision\": 0.7971480395551476, \"recall\": 0.9356806478916303, \"f1-score\": 0.860876784323681, \"support\": 268193}, \"accuracy\": 0.71206, \"macro avg\": {\"precision\": 0.5640784724073913, \"recall\": 0.516868117684751, \"f1-score\": 0.5187707010819026, \"support\": 500000}, \"weighted avg\": {\"precision\": 0.6755805706178344, \"recall\": 0.71206, \"f1-score\": 0.6798735538705454, \"support\": 500000}}', 'roc_auc': '{\"auc_1\": 0.965007572269399, \"auc_2\": 0.895257179604684, \"auc_3\": 0.8680291090706762, \"auc_4\": 0.7948266333645405, \"auc_5\": 0.9134079116492126, \"auc_micro\": 0.9308859775155, \"auc_macro\": 0.887306682584183}', 'loss': 0.7347000379638672, 'accuracy': 0.71206, 'confusion_matrix': '[[59005, 3303, 3891, 645, 3436], [16058, 4747, 7931, 1493, 2994], [7424, 3197, 16623, 8202, 9520], [2124, 591, 8003, 24712, 47908], [2782, 259, 3096, 11113, 250943]]', 'file': 'drive/My Drive/Springboard/capstone/data/amazon_reviews_us_Wireless_v1_00-2m-preprocessed.csv', 'network_history_file': 'drive/My Drive/Springboard/capstone/models/LSTMB16-1x16-glove-sampling_none-2000000-100-star_rating-history.pkl', 'tokenizer_file': 'drive/My Drive/Springboard/capstone/models/LSTMB16-1x16-glove-sampling_none-2000000-100-star_rating-tokenizer.pkl', 'max_sequence_length': 100, 'batch_size': 128, 'epochs': 29, 'feature_set_name': 'glove', 'class_weight': '[1.4259334516858098, 3.00543984612148, 2.2162260993866596, 1.1979491111217595, 0.37313467643160114]', 'sampling_type': 'none', 'embedding': 300, 'model_file': 'drive/My Drive/Springboard/capstone/models/LSTMB16-1x16-glove-sampling_none-2000000-100-star_rating-model.h5', 'model_json_file': 'drive/My Drive/Springboard/capstone/models/LSTMB16-1x16-glove-sampling_none-2000000-100-star_rating-model.json', 'weights_file': 'drive/My Drive/Springboard/capstone/models/LSTMB16-1x16-glove-sampling_none-2000000-100-star_rating-weights.h5', 'test_examples': 500000, 'test_features': 100, 'train_examples': 1500000, 'train_features': 100, 'train_time_min': 60.61, 'evaluate_time_min': 1.48, 'predict_time_min': 1.12, 'status': 'success', 'status_date': '2020-02-08 07:10:21'}\n",
            "Saving report file...\n",
            "Saving json config file: drive/My Drive/Springboard/capstone/models/LSTMB16-1x16-glove-sampling_none-2000000-100-star_rating-model.json\n",
            "Saving weights file: drive/My Drive/Springboard/capstone/models/LSTMB16-1x16-glove-sampling_none-2000000-100-star_rating-weights.h5\n",
            "Saving history file: drive/My Drive/Springboard/capstone/models/LSTMB16-1x16-glove-sampling_none-2000000-100-star_rating-history.pkl\n",
            "Saving model file: drive/My Drive/Springboard/capstone/models/LSTMB16-1x16-glove-sampling_none-2000000-100-star_rating-model.h5\n"
          ],
          "name": "stdout"
        }
      ]
    },
    {
      "cell_type": "code",
      "metadata": {
        "id": "96A-A5CBJXiy",
        "colab_type": "code",
        "colab": {}
      },
      "source": [
        "print(datetime.now())"
      ],
      "execution_count": 0,
      "outputs": []
    }
  ]
}