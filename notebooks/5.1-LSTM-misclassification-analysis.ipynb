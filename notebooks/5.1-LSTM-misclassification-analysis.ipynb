{
  "nbformat": 4,
  "nbformat_minor": 0,
  "metadata": {
    "colab": {
      "name": "5.1-LSTM-misclassification-analysis.ipynb",
      "provenance": [],
      "collapsed_sections": [],
      "machine_shape": "hm",
      "authorship_tag": "ABX9TyNXLkmoyhC76zjOS6x7J+WJ",
      "include_colab_link": true
    },
    "kernelspec": {
      "name": "python3",
      "display_name": "Python 3"
    }
  },
  "cells": [
    {
      "cell_type": "markdown",
      "metadata": {
        "id": "view-in-github",
        "colab_type": "text"
      },
      "source": [
        "<a href=\"https://colab.research.google.com/github/sv650s/amazon-review-classification/blob/master/notebooks/5.1-LSTM-misclassification-analysis.ipynb\" target=\"_parent\"><img src=\"https://colab.research.google.com/assets/colab-badge.svg\" alt=\"Open In Colab\"/></a>"
      ]
    },
    {
      "cell_type": "markdown",
      "metadata": {
        "id": "CXa4QqXuMoIp",
        "colab_type": "text"
      },
      "source": [
        "# Miscategorized Reviews by LSTM\n",
        "\n",
        "In previous notebooks, we filtered and trained LSTM network with 16 nodes based on original sample size of 1 million samples\n",
        "\n",
        "Variations and links to notebooks:\n",
        "\n",
        "\n",
        "* [1 and 5 star ratings](deep_learning/6.6.3-LSTMB16_15-GloVe-1m-prototype.ipynb)\n",
        "* [1, 4, 5 star ratings](deep_learning/6.7.3-LSTMB16_145-GloVe-1m-prototype.ipynb)\n",
        "* [1, 3, 4, 5 star ratings](deep_learning/6.8.3-LSTMB16_1345-GloVe-1m-prototype.ipynb)\n",
        "* [All star ratings](deep_learning/6.5.3-LSTMB16-GloVe-1m-prototype.ipynb)\n",
        "\n",
        "In this notebook, we will look at the model performance as well as look at specific reviews that were miscategorized"
      ]
    },
    {
      "cell_type": "code",
      "metadata": {
        "id": "1hrLATotMjpw",
        "colab_type": "code",
        "outputId": "0a91aa1e-aeaa-4254-c69b-e39be1e547e8",
        "colab": {
          "base_uri": "https://localhost:8080/",
          "height": 71
        }
      },
      "source": [
        "from google.colab import drive\n",
        "drive.mount('/content/drive')\n",
        "\n",
        "import sys\n",
        "DRIVE_DIR = \"drive/My Drive/Springboard/capstone\"\n",
        "sys.path.append(DRIVE_DIR)\n",
        "\n",
        "\n",
        "%tensorflow_version 2.x\n",
        "\n",
        "\n",
        "import tensorflow as tf\n",
        "# checl to make sure we are using GPU here\n",
        "tf.test.gpu_device_name()"
      ],
      "execution_count": 2,
      "outputs": [
        {
          "output_type": "stream",
          "text": [
            "Drive already mounted at /content/drive; to attempt to forcibly remount, call drive.mount(\"/content/drive\", force_remount=True).\n"
          ],
          "name": "stdout"
        },
        {
          "output_type": "execute_result",
          "data": {
            "text/plain": [
              "''"
            ]
          },
          "metadata": {
            "tags": []
          },
          "execution_count": 2
        }
      ]
    },
    {
      "cell_type": "code",
      "metadata": {
        "id": "HMXUREP8NuoH",
        "colab_type": "code",
        "colab": {}
      },
      "source": [
        "from __future__ import absolute_import, division, print_function, unicode_literals\n",
        "\n",
        "\n",
        "from tensorflow.keras.models import Sequential\n",
        "from tensorflow.keras.layers import Dense, Activation, Dropout\n",
        "from tensorflow.keras.layers import BatchNormalization\n",
        "from tensorflow.keras.callbacks import EarlyStopping, ReduceLROnPlateau\n",
        "from tensorflow.keras.models import load_model\n",
        "from tensorflow.keras.optimizers import SGD\n",
        "from tensorflow.keras.layers import Conv1D, MaxPooling1D, Embedding, \\\n",
        "    SpatialDropout1D, Flatten, LSTM\n",
        "from tensorflow.keras.preprocessing.text import Tokenizer\n",
        "from tensorflow.keras.preprocessing import sequence\n",
        "from tensorflow.keras.utils import model_to_dot\n",
        "from tensorflow.keras.initializers import Constant\n",
        "from tensorflow.keras.models import load_model\n",
        "\n",
        "\n",
        "\n",
        "from sklearn.model_selection import train_test_split\n",
        "from sklearn.preprocessing import OneHotEncoder\n",
        "from sklearn.preprocessing import LabelEncoder\n",
        "from sklearn.metrics import confusion_matrix, classification_report\n",
        "from sklearn.utils.class_weight import compute_class_weight\n",
        "\n",
        "\n",
        "import pandas as pd\n",
        "import numpy as np\n",
        "from IPython.display import SVG\n",
        "import pickle\n",
        "from datetime import datetime\n",
        "import matplotlib.pyplot as plt\n",
        "import seaborn as sns\n",
        "import os\n",
        "import logging\n",
        "import json\n",
        "from pprint import pprint\n",
        "\n",
        "\n",
        "import util.dict_util as du\n",
        "import util.plot_util as pu\n",
        "import util.file_util as fu\n",
        "import util.keras_util as ku\n",
        "import util.report_util as ru\n",
        "\n",
        "import random\n",
        "\n",
        "# fix random seeds\n",
        "tf.compat.v1.reset_default_graph()\n",
        "tf.compat.v1.set_random_seed(1)\n",
        "random.seed(1)\n",
        "np.random.seed(1)\n",
        "\n",
        "logging.basicConfig(level=logging.ERROR)\n",
        "\n",
        "%matplotlib inline\n",
        "sns.set(font_scale=1.5)\n",
        "\n",
        "\n",
        "DATE_FORMAT = '%Y-%m-%d'\n",
        "TIME_FORMAT = '%Y-%m-%d %H:%M:%S'\n",
        "LABEL_COLUMN = \"star_rating\"\n",
        "REVIEW_COLUMN = \"review_body\"\n",
        "\n",
        "\n",
        "DEBUG = False\n",
        "\n",
        "pd.set_option(\"max_colwidth\", 300)\n",
        "REPORT_FILE = f'{DRIVE_DIR}/reports/glove_embedding_with_stop-dl_prototype-report.csv'\n",
        "\n"
      ],
      "execution_count": 0,
      "outputs": []
    },
    {
      "cell_type": "markdown",
      "metadata": {
        "id": "a0dyvGOhQQEI",
        "colab_type": "text"
      },
      "source": [
        "Read in report file"
      ]
    },
    {
      "cell_type": "code",
      "metadata": {
        "id": "DMIo50QGOEvA",
        "colab_type": "code",
        "colab": {}
      },
      "source": [
        "report = pd.read_csv(REPORT_FILE, quotechar=\"'\")\n",
        "report[\"train_examples\"] = report.train_examples.astype(int)\n",
        "# 1-star and 5-star only\n",
        "lstm_15 = report[report.model_name == \"LSTMB16_15\"].copy().reset_index()\n",
        "# 1-star, 4-star, and 5-star\n",
        "lstm_145 = report[report.model_name == \"LSTMB16_145\"].copy().reset_index()\n",
        "# 1-star, 3-star, 4-star, and 5-star\n",
        "lstm_1345 = report[report.model_name == \"LSTMB16_1345\"].copy().reset_index()\n",
        "# all reviews\n",
        "lstm_all = report[report.model_name == \"LSTMB16\"].copy().reset_index()\n",
        "\n",
        "data_file = lstm_15.file.values[0]"
      ],
      "execution_count": 0,
      "outputs": []
    },
    {
      "cell_type": "markdown",
      "metadata": {
        "id": "91NObLfmQa0w",
        "colab_type": "text"
      },
      "source": [
        "# Fix Classification Report For Various Runs\n",
        "\n",
        "Have to remap classes from classification to the real class labels"
      ]
    },
    {
      "cell_type": "code",
      "metadata": {
        "id": "bQGnn1PJQakq",
        "colab_type": "code",
        "colab": {}
      },
      "source": [
        "# map 2->5\n",
        "cr15 = json.loads(lstm_15.classification_report.values[0])\n",
        "cr15[\"5\"] = cr15.pop(\"2\")\n",
        "lstm_15.loc[lstm_15.index, \"classification_report\"] = json.dumps(cr15)\n",
        "lstm_15[\"label\"] = \"1,5 Star\"\n",
        "lstm_15 = ru.convert_dnn_report_format(lstm_15)\n",
        "\n",
        "# map 3->5, 2->4\n",
        "cr145 = json.loads(lstm_145.classification_report.values[0])\n",
        "cr145[\"5\"] = cr145.pop(\"3\")\n",
        "cr145[\"4\"] = cr145.pop(\"2\")\n",
        "lstm_145.loc[lstm_145.index, \"classification_report\"] = json.dumps(cr145)\n",
        "lstm_145[\"label\"] = \"1,4,5 Star\"\n",
        "lstm_145 = ru.convert_dnn_report_format(lstm_145)\n",
        "\n",
        "# map 4->5, 3->4, 2->3\n",
        "cr1345 = json.loads(lstm_1345.classification_report.values[0])\n",
        "cr1345[\"5\"] = cr1345.pop(\"4\")\n",
        "cr1345[\"4\"] = cr1345.pop(\"3\")\n",
        "cr1345[\"3\"] = cr1345.pop(\"2\")\n",
        "lstm_1345.loc[lstm_1345.index, \"classification_report\"] = json.dumps(cr1345)\n",
        "lstm_1345[\"label\"] = \"1,3,4,5 Star\"\n",
        "lstm_1345 = ru.convert_dnn_report_format(lstm_1345)\n",
        "\n",
        "\n",
        "lstm_all[\"label\"] = \"All\"\n",
        "lstm_all = ru.convert_dnn_report_format(lstm_all)"
      ],
      "execution_count": 0,
      "outputs": []
    },
    {
      "cell_type": "markdown",
      "metadata": {
        "id": "IG-fvBbhnMQk",
        "colab_type": "text"
      },
      "source": [
        "## Calculate Scores For Our Models"
      ]
    },
    {
      "cell_type": "code",
      "metadata": {
        "id": "Xzs9GagfnL0M",
        "colab_type": "code",
        "colab": {}
      },
      "source": [
        "lstm_15[\"eval_metric\"] = 2 / (1 / lstm_15[\"1_precision\"] + 1 / lstm_15[\"5_precision\"])\n",
        "lstm_145[\"eval_metric\"] = 3 / (1 / lstm_145[\"1_precision\"] + 1 / lstm_145[\"4_recall\"] + 1 / lstm_145[\"5_precision\"])\n",
        "lstm_1345[\"eval_metric\"] = 4 / (1 / lstm_1345[\"1_precision\"] + \n",
        "                               1 / lstm_1345[\"3_recall\"] + \n",
        "                               1 / lstm_1345[\"4_recall\"] + \n",
        "                               1 / lstm_1345[\"5_precision\"])\n",
        "lstm_all[\"eval_metric\"] = 5 / (1 / lstm_all[\"1_precision\"] + \n",
        "                               1 / lstm_all[\"2_recall\"] + \n",
        "                               1 / lstm_all[\"3_recall\"] + \n",
        "                               1 / lstm_all[\"4_recall\"] + \n",
        "                               1 / lstm_all[\"5_precision\"])"
      ],
      "execution_count": 0,
      "outputs": []
    },
    {
      "cell_type": "code",
      "metadata": {
        "id": "G7A-nLuyWAjL",
        "colab_type": "code",
        "colab": {}
      },
      "source": [
        "report_all = pd.DataFrame()\n",
        "report_all = report_all.append(lstm_15, sort=False)\n",
        "report_all = report_all.append(lstm_145, sort=False)\n",
        "report_all = report_all.append(lstm_1345, sort=False)\n",
        "report_all = report_all.append(lstm_all, sort=False)"
      ],
      "execution_count": 0,
      "outputs": []
    },
    {
      "cell_type": "markdown",
      "metadata": {
        "id": "AyHeEiivoLix",
        "colab_type": "text"
      },
      "source": [
        "# Print Model Scores"
      ]
    },
    {
      "cell_type": "code",
      "metadata": {
        "id": "-nWo3i_Plrx2",
        "colab_type": "code",
        "outputId": "d81bb061-3827-49dd-8db6-e799ab0eb1dd",
        "colab": {
          "base_uri": "https://localhost:8080/",
          "height": 392
        }
      },
      "source": [
        "f, a = plt.subplots(1, 1, figsize=(20, 5))\n",
        "_ = sns.lineplot(report_all.label, report_all.eval_metric, marker=\"o\", sort=False)\n",
        "_ = a.set_title(\"Model Score\")\n",
        "_ = a.set_xlabel(\"Star Ratings\")\n",
        "_ = a.set_ylabel(\"Score\")"
      ],
      "execution_count": 8,
      "outputs": [
        {
          "output_type": "display_data",
          "data": {
            "image/png": "[encoded data removed]",
            "text/plain": [
              "<Figure size 1440x360 with 1 Axes>"
            ]
          },
          "metadata": {
            "tags": []
          }
        }
      ]
    },
    {
      "cell_type": "markdown",
      "metadata": {
        "id": "DnO25o6Bop5f",
        "colab_type": "text"
      },
      "source": [
        "# Classification Report\n",
        "\n",
        "* Recall stays roughly the same across\n",
        "* Precision drops as we introduce more classes\n",
        "  * 1-star and 3-star review precision drops pretty quickly as we introduct more classes"
      ]
    },
    {
      "cell_type": "code",
      "metadata": {
        "id": "9ux0PG85T0Lm",
        "colab_type": "code",
        "outputId": "58095f51-733d-4bb1-fde9-28a71dea2a9b",
        "colab": {
          "base_uri": "https://localhost:8080/",
          "height": 392
        }
      },
      "source": [
        "f, a = plt.subplots(1, 2, figsize=(20, 5), sharey=True)\n",
        "sns.lineplot(report_all.label, report_all[\"1_recall\"], sort=False, label=\"1-star\", marker=\"o\", ax=a[0])\n",
        "sns.lineplot(report_all.label, report_all[\"2_recall\"], sort=False, label=\"2-star\", marker=\"o\", ax=a[0])\n",
        "sns.lineplot(report_all.label, report_all[\"3_recall\"], sort=False, label=\"3-star\", marker=\"o\", ax=a[0])\n",
        "sns.lineplot(report_all.label, report_all[\"4_recall\"], sort=False, label=\"4-star\", marker=\"o\", ax=a[0])\n",
        "sns.lineplot(report_all.label, report_all[\"5_recall\"], sort=False, label=\"5-star\", marker=\"o\", ax=a[0])\n",
        "_ = a[0].set_xlabel(\"Star Ratings\")\n",
        "_ = a[0].set_ylabel(\"\")\n",
        "_ = a[0].set_title(\"Recall\")\n",
        "\n",
        "sns.lineplot(report_all.label, report_all[\"1_precision\"], sort=False, label=\"1-star\", marker=\"o\", ax=a[1])\n",
        "sns.lineplot(report_all.label, report_all[\"2_precision\"], sort=False, label=\"2-star\", marker=\"o\", ax=a[1])\n",
        "sns.lineplot(report_all.label, report_all[\"3_precision\"], sort=False, label=\"3-star\", marker=\"o\", ax=a[1])\n",
        "sns.lineplot(report_all.label, report_all[\"4_precision\"], sort=False, label=\"4-star\", marker=\"o\", ax=a[1])\n",
        "sns.lineplot(report_all.label, report_all[\"5_precision\"], sort=False, label=\"5-star\", marker=\"o\", ax=a[1])\n",
        "_ = a[1].set_xlabel(\"Star Ratings\")\n",
        "_ = a[1].set_ylabel(\"\")\n",
        "_ = a[1].set_title(\"Precision\")"
      ],
      "execution_count": 9,
      "outputs": [
        {
          "output_type": "display_data",
          "data": {
            "image/png": "[encoded data removed]",
            "text/plain": [
              "<Figure size 1440x360 with 2 Axes>"
            ]
          },
          "metadata": {
            "tags": []
          }
        }
      ]
    },
    {
      "cell_type": "markdown",
      "metadata": {
        "id": "OtwCbsqXdrJw",
        "colab_type": "text"
      },
      "source": [
        "# Confusion Matrix For Various Runs"
      ]
    },
    {
      "cell_type": "markdown",
      "metadata": {
        "id": "93-sRr74d3kD",
        "colab_type": "text"
      },
      "source": [
        "## 1-star and 5-star Only\n",
        "\n",
        "* This is our baseline. We do have some 1-star misclassified as 5-star and vice versa but numbers look pretty reasonable. < 10% for both classes."
      ]
    },
    {
      "cell_type": "code",
      "metadata": {
        "id": "msgNLTKRZY0y",
        "colab_type": "code",
        "outputId": "819a789f-f406-405e-c513-860e9a43cd4c",
        "colab": {
          "base_uri": "https://localhost:8080/",
          "height": 111
        }
      },
      "source": [
        "pd.DataFrame(json.loads(lstm_15.confusion_matrix.values[0])).rename({0: 1, 1: 5}, axis=1)"
      ],
      "execution_count": 10,
      "outputs": [
        {
          "output_type": "execute_result",
          "data": {
            "text/html": [
              "<div>\n",
              "<style scoped>\n",
              "    .dataframe tbody tr th:only-of-type {\n",
              "        vertical-align: middle;\n",
              "    }\n",
              "\n",
              "    .dataframe tbody tr th {\n",
              "        vertical-align: top;\n",
              "    }\n",
              "\n",
              "    .dataframe thead th {\n",
              "        text-align: right;\n",
              "    }\n",
              "</style>\n",
              "<table border=\"1\" class=\"dataframe\">\n",
              "  <thead>\n",
              "    <tr style=\"text-align: right;\">\n",
              "      <th></th>\n",
              "      <th>1</th>\n",
              "      <th>5</th>\n",
              "    </tr>\n",
              "  </thead>\n",
              "  <tbody>\n",
              "    <tr>\n",
              "      <th>0</th>\n",
              "      <td>32605</td>\n",
              "      <td>2285</td>\n",
              "    </tr>\n",
              "    <tr>\n",
              "      <th>1</th>\n",
              "      <td>2242</td>\n",
              "      <td>131649</td>\n",
              "    </tr>\n",
              "  </tbody>\n",
              "</table>\n",
              "</div>"
            ],
            "text/plain": [
              "       1       5\n",
              "0  32605    2285\n",
              "1   2242  131649"
            ]
          },
          "metadata": {
            "tags": []
          },
          "execution_count": 10
        }
      ]
    },
    {
      "cell_type": "markdown",
      "metadata": {
        "id": "uw0JvvqoeF6G",
        "colab_type": "text"
      },
      "source": [
        "## 1-star, 4-star, 5-star\n",
        "\n",
        "* 1-star most likely misclassified as 5-star\n",
        "* 4-star most likely misclassified as 5-star\n",
        "* 5-star most likely misclassified as 4-star"
      ]
    },
    {
      "cell_type": "code",
      "metadata": {
        "id": "A5kWF5I7d894",
        "colab_type": "code",
        "outputId": "92d1d607-de81-4765-eb38-2fa670f3ff47",
        "colab": {
          "base_uri": "https://localhost:8080/",
          "height": 142
        }
      },
      "source": [
        "pd.DataFrame(json.loads(lstm_145.confusion_matrix.values[0])).rename({0: 1, 2: 5, 1: 4}, axis=1)"
      ],
      "execution_count": 11,
      "outputs": [
        {
          "output_type": "execute_result",
          "data": {
            "text/html": [
              "<div>\n",
              "<style scoped>\n",
              "    .dataframe tbody tr th:only-of-type {\n",
              "        vertical-align: middle;\n",
              "    }\n",
              "\n",
              "    .dataframe tbody tr th {\n",
              "        vertical-align: top;\n",
              "    }\n",
              "\n",
              "    .dataframe thead th {\n",
              "        text-align: right;\n",
              "    }\n",
              "</style>\n",
              "<table border=\"1\" class=\"dataframe\">\n",
              "  <thead>\n",
              "    <tr style=\"text-align: right;\">\n",
              "      <th></th>\n",
              "      <th>1</th>\n",
              "      <th>4</th>\n",
              "      <th>5</th>\n",
              "    </tr>\n",
              "  </thead>\n",
              "  <tbody>\n",
              "    <tr>\n",
              "      <th>0</th>\n",
              "      <td>32021</td>\n",
              "      <td>1068</td>\n",
              "      <td>1920</td>\n",
              "    </tr>\n",
              "    <tr>\n",
              "      <th>1</th>\n",
              "      <td>2007</td>\n",
              "      <td>15086</td>\n",
              "      <td>24385</td>\n",
              "    </tr>\n",
              "    <tr>\n",
              "      <th>2</th>\n",
              "      <td>1751</td>\n",
              "      <td>6323</td>\n",
              "      <td>125748</td>\n",
              "    </tr>\n",
              "  </tbody>\n",
              "</table>\n",
              "</div>"
            ],
            "text/plain": [
              "       1      4       5\n",
              "0  32021   1068    1920\n",
              "1   2007  15086   24385\n",
              "2   1751   6323  125748"
            ]
          },
          "metadata": {
            "tags": []
          },
          "execution_count": 11
        }
      ]
    },
    {
      "cell_type": "markdown",
      "metadata": {
        "id": "nwJrCjxzeVFS",
        "colab_type": "text"
      },
      "source": [
        "## 1-star, 3-star, 4-star, 5-star\n",
        "\n",
        "* 1-star most likely misclassified as 3-star\n",
        "* <b>3-star most likely misclassified as 4-star (but 1 and 5 are pretty close)</b>\n",
        "* 4-star most likely misclassified as 5-star\n",
        "* 5-star most likely misclassified as 4-star"
      ]
    },
    {
      "cell_type": "code",
      "metadata": {
        "id": "wpbyGJS1d83E",
        "colab_type": "code",
        "outputId": "fa069b44-6678-4ad0-f30a-3f8456d1b0ad",
        "colab": {
          "base_uri": "https://localhost:8080/",
          "height": 173
        }
      },
      "source": [
        "pd.DataFrame(json.loads(lstm_1345.confusion_matrix.values[0])).rename({0: 1, 1: 3, 2: 4, 3: 5}, axis=1)"
      ],
      "execution_count": 12,
      "outputs": [
        {
          "output_type": "execute_result",
          "data": {
            "text/html": [
              "<div>\n",
              "<style scoped>\n",
              "    .dataframe tbody tr th:only-of-type {\n",
              "        vertical-align: middle;\n",
              "    }\n",
              "\n",
              "    .dataframe tbody tr th {\n",
              "        vertical-align: top;\n",
              "    }\n",
              "\n",
              "    .dataframe thead th {\n",
              "        text-align: right;\n",
              "    }\n",
              "</style>\n",
              "<table border=\"1\" class=\"dataframe\">\n",
              "  <thead>\n",
              "    <tr style=\"text-align: right;\">\n",
              "      <th></th>\n",
              "      <th>1</th>\n",
              "      <th>3</th>\n",
              "      <th>4</th>\n",
              "      <th>5</th>\n",
              "    </tr>\n",
              "  </thead>\n",
              "  <tbody>\n",
              "    <tr>\n",
              "      <th>0</th>\n",
              "      <td>29495</td>\n",
              "      <td>2987</td>\n",
              "      <td>413</td>\n",
              "      <td>1948</td>\n",
              "    </tr>\n",
              "    <tr>\n",
              "      <th>1</th>\n",
              "      <td>4041</td>\n",
              "      <td>9568</td>\n",
              "      <td>4664</td>\n",
              "      <td>4507</td>\n",
              "    </tr>\n",
              "    <tr>\n",
              "      <th>2</th>\n",
              "      <td>980</td>\n",
              "      <td>4205</td>\n",
              "      <td>12645</td>\n",
              "      <td>23480</td>\n",
              "    </tr>\n",
              "    <tr>\n",
              "      <th>3</th>\n",
              "      <td>1060</td>\n",
              "      <td>1466</td>\n",
              "      <td>5636</td>\n",
              "      <td>125839</td>\n",
              "    </tr>\n",
              "  </tbody>\n",
              "</table>\n",
              "</div>"
            ],
            "text/plain": [
              "       1     3      4       5\n",
              "0  29495  2987    413    1948\n",
              "1   4041  9568   4664    4507\n",
              "2    980  4205  12645   23480\n",
              "3   1060  1466   5636  125839"
            ]
          },
          "metadata": {
            "tags": []
          },
          "execution_count": 12
        }
      ]
    },
    {
      "cell_type": "markdown",
      "metadata": {
        "id": "BJC2r6tredmr",
        "colab_type": "text"
      },
      "source": [
        "## All star ratings\n",
        "\n",
        "* 1-star most likely misclassified as 3-star\n",
        "* <b>2-star most likely misclassified as 1-star, 2-star is more likely to be misclassified as 1-star than itself</b>\n",
        "* <b>3-star most likley misclassified as 5-star, then 4-star and 1-star</b>\n",
        "* 4-star most likely misclassified as 5-star\n",
        "* 5-star most likely misclassified as 4-star"
      ]
    },
    {
      "cell_type": "code",
      "metadata": {
        "id": "6xkKQyFKd8zU",
        "colab_type": "code",
        "outputId": "b7d83be3-4e8a-491b-e3b4-5bc47f865b0e",
        "colab": {
          "base_uri": "https://localhost:8080/",
          "height": 204
        }
      },
      "source": [
        "pd.DataFrame(json.loads(lstm_all.confusion_matrix.values[0])).rename({0: 1, 1: 2, 2: 3, 3: 4, 4: 5}, axis=1)"
      ],
      "execution_count": 13,
      "outputs": [
        {
          "output_type": "execute_result",
          "data": {
            "text/html": [
              "<div>\n",
              "<style scoped>\n",
              "    .dataframe tbody tr th:only-of-type {\n",
              "        vertical-align: middle;\n",
              "    }\n",
              "\n",
              "    .dataframe tbody tr th {\n",
              "        vertical-align: top;\n",
              "    }\n",
              "\n",
              "    .dataframe thead th {\n",
              "        text-align: right;\n",
              "    }\n",
              "</style>\n",
              "<table border=\"1\" class=\"dataframe\">\n",
              "  <thead>\n",
              "    <tr style=\"text-align: right;\">\n",
              "      <th></th>\n",
              "      <th>1</th>\n",
              "      <th>2</th>\n",
              "      <th>3</th>\n",
              "      <th>4</th>\n",
              "      <th>5</th>\n",
              "    </tr>\n",
              "  </thead>\n",
              "  <tbody>\n",
              "    <tr>\n",
              "      <th>0</th>\n",
              "      <td>28724</td>\n",
              "      <td>1969</td>\n",
              "      <td>2486</td>\n",
              "      <td>249</td>\n",
              "      <td>1591</td>\n",
              "    </tr>\n",
              "    <tr>\n",
              "      <th>1</th>\n",
              "      <td>7608</td>\n",
              "      <td>2420</td>\n",
              "      <td>4668</td>\n",
              "      <td>668</td>\n",
              "      <td>1236</td>\n",
              "    </tr>\n",
              "    <tr>\n",
              "      <th>2</th>\n",
              "      <td>3319</td>\n",
              "      <td>1542</td>\n",
              "      <td>9435</td>\n",
              "      <td>3982</td>\n",
              "      <td>3993</td>\n",
              "    </tr>\n",
              "    <tr>\n",
              "      <th>3</th>\n",
              "      <td>936</td>\n",
              "      <td>305</td>\n",
              "      <td>4613</td>\n",
              "      <td>12555</td>\n",
              "      <td>23226</td>\n",
              "    </tr>\n",
              "    <tr>\n",
              "      <th>4</th>\n",
              "      <td>1248</td>\n",
              "      <td>144</td>\n",
              "      <td>1726</td>\n",
              "      <td>5933</td>\n",
              "      <td>124845</td>\n",
              "    </tr>\n",
              "  </tbody>\n",
              "</table>\n",
              "</div>"
            ],
            "text/plain": [
              "       1     2     3      4       5\n",
              "0  28724  1969  2486    249    1591\n",
              "1   7608  2420  4668    668    1236\n",
              "2   3319  1542  9435   3982    3993\n",
              "3    936   305  4613  12555   23226\n",
              "4   1248   144  1726   5933  124845"
            ]
          },
          "metadata": {
            "tags": []
          },
          "execution_count": 13
        }
      ]
    },
    {
      "cell_type": "markdown",
      "metadata": {
        "id": "1eoEW6aTfgpB",
        "colab_type": "text"
      },
      "source": [
        "# Look at Specific Reviews That Are Misclassified"
      ]
    },
    {
      "cell_type": "code",
      "metadata": {
        "id": "2WGdbXavd8vY",
        "colab_type": "code",
        "outputId": "4f13cd4a-ded6-4922-e862-75eda98fbd3f",
        "colab": {
          "base_uri": "https://localhost:8080/",
          "height": 54
        }
      },
      "source": [
        "# Read data file - we know they all started with the same data file so let's just pick one to start with\n",
        "DATA_FILE = lstm_15.file.values[0]\n",
        "print(f'Reading datafile: {DATA_FILE}')\n",
        "df = pd.read_csv(DATA_FILE, encoding='utf8', engine='python')"
      ],
      "execution_count": 14,
      "outputs": [
        {
          "output_type": "stream",
          "text": [
            "Reading datafile: drive/My Drive/Springboard/capstone/data/amazon_reviews_us_Wireless_v1_00-1m-with_stop-preprocessed.csv\n"
          ],
          "name": "stdout"
        }
      ]
    },
    {
      "cell_type": "markdown",
      "metadata": {
        "id": "lkwuRSqFvCuw",
        "colab_type": "text"
      },
      "source": [
        "# 1-Star and 5-Star Only"
      ]
    },
    {
      "cell_type": "code",
      "metadata": {
        "id": "FBoLSxc_hT63",
        "colab_type": "code",
        "colab": {}
      },
      "source": [
        "MAX_SEQUENCE_LENGTH = 100\n",
        "\n",
        "def load_and_predict(report: pd.DataFrame, reviews_test):\n",
        "  \"\"\"\n",
        "  :param report: report DF\n",
        "  :param classes: list of classes to keep\n",
        "  \"\"\"\n",
        "  print(f'Loading tokenizer file: {report.tokenizer_file.values[0]}')\n",
        "  with open(report.tokenizer_file.values[0], 'rb') as file:\n",
        "    t = pickle.load(file)\n",
        "\n",
        "  # Pre-process our features (review body)\n",
        "  # t = Tokenizer(oov_token=\"<UNK>\")\n",
        "  # fit the tokenizer on the documents\n",
        "  # t.fit_on_texts(reviews_train)\n",
        "  # tokenize both our training and test data\n",
        "  test_sequences = t.texts_to_sequences(reviews_test)\n",
        "\n",
        "  print(\"Vocabulary size={}\".format(len(t.word_counts)))\n",
        "  print(\"Number of Documents={}\".format(t.document_count))\n",
        "\n",
        "\n",
        "  # pad our reviews to the max sequence length\n",
        "  X_test = sequence.pad_sequences(test_sequences, maxlen=MAX_SEQUENCE_LENGTH)\n",
        "\n",
        "  print('Test review vectors shape:', X_test.shape)\n",
        "\n",
        "  print(f'Loading model file: {report.model_file.values[0]}')\n",
        "  model = load_model(report.model_file.values[0])\n",
        "  print(f'Predicting test set...')\n",
        "  y_predict = model.predict(X_test)\n",
        "\n",
        "  print(f'Unencoding predictions...')\n",
        "  y_predict_unencoded = ku.unencode(y_predict)\n",
        "\n",
        "  return model, y_predict, y_predict_unencoded\n",
        "\n",
        "\n"
      ],
      "execution_count": 0,
      "outputs": []
    },
    {
      "cell_type": "markdown",
      "metadata": {
        "id": "cy2BRHmOuTwE",
        "colab_type": "text"
      },
      "source": [
        "### Incorrect Results For 1-Star and 5-Star only\n",
        "\n",
        "* Unmap predictions to original star ratings\n",
        "* merge with reviews so we can look at the text"
      ]
    },
    {
      "cell_type": "code",
      "metadata": {
        "id": "N-5BXvISwNld",
        "colab_type": "code",
        "outputId": "2d7c9d6f-48aa-4516-98d4-aed4f157bb25",
        "colab": {
          "base_uri": "https://localhost:8080/",
          "height": 258
        }
      },
      "source": [
        "# predict 15\n",
        "df_15 = df[(df[LABEL_COLUMN] == 1) | (df[LABEL_COLUMN] == 5)]\n",
        "# have to set 5's to 2's so we can compute class weights later\n",
        "df_15.loc[df[LABEL_COLUMN] == 5, LABEL_COLUMN] = 2\n",
        "CLASSES = 2\n",
        "\n",
        "ratings_15 = df_15[LABEL_COLUMN]\n",
        "reviews_15 = df_15[REVIEW_COLUMN]\n",
        "\n",
        "reviews_train_15, reviews_test_15, y_train_15, y_test_15 = train_test_split(reviews_15, ratings_15, random_state=1)\n",
        "\n",
        "model_15, y_predict_15, y_predict_unencoded_15 = load_and_predict(lstm_15, reviews_test_15)"
      ],
      "execution_count": 16,
      "outputs": [
        {
          "output_type": "stream",
          "text": [
            "/usr/local/lib/python3.6/dist-packages/pandas/core/indexing.py:494: SettingWithCopyWarning: \n",
            "A value is trying to be set on a copy of a slice from a DataFrame.\n",
            "Try using .loc[row_indexer,col_indexer] = value instead\n",
            "\n",
            "See the caveats in the documentation: http://pandas.pydata.org/pandas-docs/stable/user_guide/indexing.html#returning-a-view-versus-a-copy\n",
            "  self.obj[item] = s\n"
          ],
          "name": "stderr"
        },
        {
          "output_type": "stream",
          "text": [
            "Loading tokenizer file: drive/My Drive/Springboard/capstone/models/LSTMB16_15-1x16-glove_with_stop-sampling_none-675121-100-star_rating-tokenizer.pkl\n",
            "Vocabulary size=83300\n",
            "Number of Documents=506340\n",
            "Test review vectors shape: (168781, 100)\n",
            "Loading model file: drive/My Drive/Springboard/capstone/models/LSTMB16_15-1x16-glove_with_stop-sampling_none-675121-100-star_rating-model.h5\n",
            "Predicting test set...\n",
            "Unencoding predictions...\n"
          ],
          "name": "stdout"
        }
      ]
    },
    {
      "cell_type": "code",
      "metadata": {
        "id": "seAuQcWqrPsB",
        "colab_type": "code",
        "colab": {}
      },
      "source": [
        "def unmap_15(y_unencoded: pd.DataFrame):\n",
        "  # unmap preidctions 2->5\n",
        "  y_unencoded.loc[results_15.true_15 == 2, \"true_15\"] = 5\n",
        "  y_unencoded.loc[results_15.predict_15 == 2, \"predict_15\"] = 5\n",
        "  return y_unencoded\n",
        "\n",
        "\n",
        "results_15 = pd.DataFrame({\"true_15\": y_test_15, \"predict_15\": y_predict_unencoded_15})\n",
        "unmap_15(results_15)\n",
        "\n",
        "results_15 = results_15.join(reviews_test_15).reset_index().rename({\"index\": \"index_orig\"}, axis=1)\n"
      ],
      "execution_count": 0,
      "outputs": []
    },
    {
      "cell_type": "code",
      "metadata": {
        "id": "8a7nc5aK8nRo",
        "colab_type": "code",
        "outputId": "13c92546-8fc0-4fab-d046-7866eb605981",
        "colab": {
          "base_uri": "https://localhost:8080/",
          "height": 529
        }
      },
      "source": [
        "results_15[results_15.true_15 != results_15.predict_15].head(10)"
      ],
      "execution_count": 18,
      "outputs": [
        {
          "output_type": "execute_result",
          "data": {
            "text/html": [
              "<div>\n",
              "<style scoped>\n",
              "    .dataframe tbody tr th:only-of-type {\n",
              "        vertical-align: middle;\n",
              "    }\n",
              "\n",
              "    .dataframe tbody tr th {\n",
              "        vertical-align: top;\n",
              "    }\n",
              "\n",
              "    .dataframe thead th {\n",
              "        text-align: right;\n",
              "    }\n",
              "</style>\n",
              "<table border=\"1\" class=\"dataframe\">\n",
              "  <thead>\n",
              "    <tr style=\"text-align: right;\">\n",
              "      <th></th>\n",
              "      <th>index_orig</th>\n",
              "      <th>true_15</th>\n",
              "      <th>predict_15</th>\n",
              "      <th>review_body</th>\n",
              "    </tr>\n",
              "  </thead>\n",
              "  <tbody>\n",
              "    <tr>\n",
              "      <th>19</th>\n",
              "      <td>947004</td>\n",
              "      <td>1</td>\n",
              "      <td>5</td>\n",
              "      <td>very misleading this is not an otterbox like i have purchased from the store it doe not say otterbox on it it is not made like an otterbox either it is kind of a knock off the clear plastic insterts that cover the camera lens you have to glue these on yourself it is like performing surgery cause...</td>\n",
              "    </tr>\n",
              "    <tr>\n",
              "      <th>30</th>\n",
              "      <td>875542</td>\n",
              "      <td>5</td>\n",
              "      <td>1</td>\n",
              "      <td>the mount work great and look real nice the wire for it deffinently wa a rip off though they also had no wireing diagram so if you cant use a voltmeter wire and mount are kind of worthless</td>\n",
              "    </tr>\n",
              "    <tr>\n",
              "      <th>61</th>\n",
              "      <td>528773</td>\n",
              "      <td>5</td>\n",
              "      <td>1</td>\n",
              "      <td>after it wa in my drawer for a long ti ame i installed it on my htc and it is not that good all the corner and side have air in them like a long bubble and also in the bottom left corner the whole protector is turning up so a lot of dust got in there until it sticked it get scratch pretty easily...</td>\n",
              "    </tr>\n",
              "    <tr>\n",
              "      <th>85</th>\n",
              "      <td>326416</td>\n",
              "      <td>5</td>\n",
              "      <td>1</td>\n",
              "      <td>poor quality</td>\n",
              "    </tr>\n",
              "    <tr>\n",
              "      <th>117</th>\n",
              "      <td>587687</td>\n",
              "      <td>5</td>\n",
              "      <td>1</td>\n",
              "      <td>bought them for my worker and they are fine with it nobody report the product is bad not hard to use</td>\n",
              "    </tr>\n",
              "    <tr>\n",
              "      <th>154</th>\n",
              "      <td>756433</td>\n",
              "      <td>5</td>\n",
              "      <td>1</td>\n",
              "      <td>love the color and design of this case i would not recommend the case if you are looking for something that cover the front</td>\n",
              "    </tr>\n",
              "    <tr>\n",
              "      <th>163</th>\n",
              "      <td>357692</td>\n",
              "      <td>5</td>\n",
              "      <td>1</td>\n",
              "      <td>let me just say i dropped it in the tub and after being submersed for a minute or two i did not even have to worry about water leakage</td>\n",
              "    </tr>\n",
              "    <tr>\n",
              "      <th>178</th>\n",
              "      <td>823493</td>\n",
              "      <td>5</td>\n",
              "      <td>1</td>\n",
              "      <td>cant wait to get my dock extender to try it out just like previous one i bought through apple awesome and cheap but high quality</td>\n",
              "    </tr>\n",
              "    <tr>\n",
              "      <th>183</th>\n",
              "      <td>38302</td>\n",
              "      <td>1</td>\n",
              "      <td>5</td>\n",
              "      <td>the screen doe not extend edge to edge which may be why it cracked day two i am not careless with my phone the cover i had on my last phone lasted over a year without any damage i am here to order a replacement and wanted to leave a comment on why</td>\n",
              "    </tr>\n",
              "    <tr>\n",
              "      <th>193</th>\n",
              "      <td>762066</td>\n",
              "      <td>1</td>\n",
              "      <td>5</td>\n",
              "      <td>front rubber come out everyone i use the pen why would amazon let this pensell on their website site</td>\n",
              "    </tr>\n",
              "  </tbody>\n",
              "</table>\n",
              "</div>"
            ],
            "text/plain": [
              "     index_orig  ...                                                                                                                                                                                                                                                                                                  review_body\n",
              "19       947004  ...  very misleading this is not an otterbox like i have purchased from the store it doe not say otterbox on it it is not made like an otterbox either it is kind of a knock off the clear plastic insterts that cover the camera lens you have to glue these on yourself it is like performing surgery cause...\n",
              "30       875542  ...                                                                                                                 the mount work great and look real nice the wire for it deffinently wa a rip off though they also had no wireing diagram so if you cant use a voltmeter wire and mount are kind of worthless\n",
              "61       528773  ...  after it wa in my drawer for a long ti ame i installed it on my htc and it is not that good all the corner and side have air in them like a long bubble and also in the bottom left corner the whole protector is turning up so a lot of dust got in there until it sticked it get scratch pretty easily...\n",
              "85       326416  ...                                                                                                                                                                                                                                                                                                 poor quality\n",
              "117      587687  ...                                                                                                                                                                                                         bought them for my worker and they are fine with it nobody report the product is bad not hard to use\n",
              "154      756433  ...                                                                                                                                                                                  love the color and design of this case i would not recommend the case if you are looking for something that cover the front\n",
              "163      357692  ...                                                                                                                                                                       let me just say i dropped it in the tub and after being submersed for a minute or two i did not even have to worry about water leakage\n",
              "178      823493  ...                                                                                                                                                                             cant wait to get my dock extender to try it out just like previous one i bought through apple awesome and cheap but high quality\n",
              "183       38302  ...                                                      the screen doe not extend edge to edge which may be why it cracked day two i am not careless with my phone the cover i had on my last phone lasted over a year without any damage i am here to order a replacement and wanted to leave a comment on why\n",
              "193      762066  ...                                                                                                                                                                                                         front rubber come out everyone i use the pen why would amazon let this pensell on their website site\n",
              "\n",
              "[10 rows x 4 columns]"
            ]
          },
          "metadata": {
            "tags": []
          },
          "execution_count": 18
        }
      ]
    },
    {
      "cell_type": "markdown",
      "metadata": {
        "id": "vQ6B_rpQvHX1",
        "colab_type": "text"
      },
      "source": [
        "# 1-Star, 4-Star, and 5-Star"
      ]
    },
    {
      "cell_type": "code",
      "metadata": {
        "id": "CaYgwuyPd8uG",
        "colab_type": "code",
        "outputId": "0f1b1a5f-eeec-4f88-eae3-cf9c71e499fa",
        "colab": {
          "base_uri": "https://localhost:8080/",
          "height": 258
        }
      },
      "source": [
        "# predict 145\n",
        "df_145 = df[(df[LABEL_COLUMN] == 1) | (df[LABEL_COLUMN] == 4) | (df[LABEL_COLUMN] == 5)]\n",
        "# have to set 4->2, 5->3\n",
        "df_145.loc[df[LABEL_COLUMN] == 4, LABEL_COLUMN] = 2\n",
        "df_145.loc[df[LABEL_COLUMN] == 5, LABEL_COLUMN] = 3\n",
        "\n",
        "ratings_145 = df_145[LABEL_COLUMN]\n",
        "reviews_145 = df_145[REVIEW_COLUMN]\n",
        "\n",
        "reviews_train_145, reviews_test_145, y_train_145, y_test_145 = train_test_split(reviews_145, ratings_145, random_state=1)\n",
        "\n",
        "model_145, y_predict_145, y_predict_unencoded_145 = load_and_predict(lstm_145, \n",
        "                                                                     reviews_test_145)\n",
        "\n"
      ],
      "execution_count": 19,
      "outputs": [
        {
          "output_type": "stream",
          "text": [
            "/usr/local/lib/python3.6/dist-packages/pandas/core/indexing.py:494: SettingWithCopyWarning: \n",
            "A value is trying to be set on a copy of a slice from a DataFrame.\n",
            "Try using .loc[row_indexer,col_indexer] = value instead\n",
            "\n",
            "See the caveats in the documentation: http://pandas.pydata.org/pandas-docs/stable/user_guide/indexing.html#returning-a-view-versus-a-copy\n",
            "  self.obj[item] = s\n"
          ],
          "name": "stderr"
        },
        {
          "output_type": "stream",
          "text": [
            "Loading tokenizer file: drive/My Drive/Springboard/capstone/models/LSTMB16_145-1x16-glove_with_stop-sampling_none-841233-100-star_rating-tokenizer.pkl\n",
            "Vocabulary size=98360\n",
            "Number of Documents=630924\n",
            "Test review vectors shape: (210309, 100)\n",
            "Loading model file: drive/My Drive/Springboard/capstone/models/LSTMB16_145-1x16-glove_with_stop-sampling_none-841233-100-star_rating-model.h5\n",
            "Predicting test set...\n",
            "Unencoding predictions...\n"
          ],
          "name": "stdout"
        }
      ]
    },
    {
      "cell_type": "code",
      "metadata": {
        "id": "UzHByqejwcka",
        "colab_type": "code",
        "colab": {}
      },
      "source": [
        "def unmap_145(y_encoded: pd.DataFrame):\n",
        "  y_encoded.loc[y_encoded.true_145 == 2, \"true_145\"] = 4\n",
        "  y_encoded.loc[y_encoded.true_145 == 3, \"true_145\"] = 5\n",
        "  y_encoded.loc[y_encoded.predict_145 == 2, \"predict_145\"] = 4\n",
        "  y_encoded.loc[y_encoded.predict_145 == 3, \"predict_145\"] = 5\n",
        "  return y_encoded\n",
        "\n",
        "\n",
        "results_145 = pd.DataFrame({\"true_145\": y_test_145, \"predict_145\": y_predict_unencoded_145})\n",
        "\n",
        "# unmap preidctions 2->4, 3->5\n",
        "# results_145.loc[results_145.true_145 == 2, \"true_145\"] = 4\n",
        "# results_145.loc[results_145.true_145 == 3, \"true_145\"] = 5\n",
        "# results_145.loc[results_145.predict_145 == 2, \"predict_145\"] = 4\n",
        "# results_145.loc[results_145.predict_145 == 3, \"predict_145\"] = 5\n",
        "unmap_145(results_145)\n",
        "\n",
        "results_145 = results_145.join(reviews_test_145).reset_index().rename({\"index\": \"index_orig\"}, axis=1)\n"
      ],
      "execution_count": 0,
      "outputs": []
    },
    {
      "cell_type": "markdown",
      "metadata": {
        "id": "9RCHd98RxG6i",
        "colab_type": "text"
      },
      "source": [
        "### Misclassified 1-Star Reviews"
      ]
    },
    {
      "cell_type": "code",
      "metadata": {
        "id": "OyXqIEjfwcbF",
        "colab_type": "code",
        "outputId": "a6bf2ef7-3164-43be-e569-f6d3182957b2",
        "colab": {
          "base_uri": "https://localhost:8080/",
          "height": 597
        }
      },
      "source": [
        "results_145[(results_145.true_145 == 1) & \n",
        "            (results_145.true_145 != results_145.predict_145)].head(10)"
      ],
      "execution_count": 21,
      "outputs": [
        {
          "output_type": "execute_result",
          "data": {
            "text/html": [
              "<div>\n",
              "<style scoped>\n",
              "    .dataframe tbody tr th:only-of-type {\n",
              "        vertical-align: middle;\n",
              "    }\n",
              "\n",
              "    .dataframe tbody tr th {\n",
              "        vertical-align: top;\n",
              "    }\n",
              "\n",
              "    .dataframe thead th {\n",
              "        text-align: right;\n",
              "    }\n",
              "</style>\n",
              "<table border=\"1\" class=\"dataframe\">\n",
              "  <thead>\n",
              "    <tr style=\"text-align: right;\">\n",
              "      <th></th>\n",
              "      <th>index_orig</th>\n",
              "      <th>true_145</th>\n",
              "      <th>predict_145</th>\n",
              "      <th>review_body</th>\n",
              "    </tr>\n",
              "  </thead>\n",
              "  <tbody>\n",
              "    <tr>\n",
              "      <th>7</th>\n",
              "      <td>165367</td>\n",
              "      <td>1</td>\n",
              "      <td>5</td>\n",
              "      <td>it is degree here in florida and the smart watch continuously show i must say i wish i hope that is wa just that one i am checking into the gear live watch maybe that will work for me</td>\n",
              "    </tr>\n",
              "    <tr>\n",
              "      <th>16</th>\n",
              "      <td>637381</td>\n",
              "      <td>1</td>\n",
              "      <td>5</td>\n",
              "      <td>i had it applied perfectly with a perfectly flush surface to surface contact but the stickiness only lasted a day they have sacrificed a sticky permanent surface for an endlessly redoable one</td>\n",
              "    </tr>\n",
              "    <tr>\n",
              "      <th>160</th>\n",
              "      <td>210353</td>\n",
              "      <td>1</td>\n",
              "      <td>5</td>\n",
              "      <td>what you are seeing on everyone el review is accurate the sound quality of these headphone is on par with a tin can and a string i bought a pair at the dollar store and chose the brand name over an equally priced competitor that i would never heard of i am regretting my decision i ammensely</td>\n",
              "    </tr>\n",
              "    <tr>\n",
              "      <th>226</th>\n",
              "      <td>929899</td>\n",
              "      <td>1</td>\n",
              "      <td>5</td>\n",
              "      <td>received this a a gift when i opened it it appear to be used not shiny and new now i know why amazon sent a replacement but it too looked used so i thought it wa just the terrible packaging of garmin and went to use it no satellite signal troubleshot the heck out of it calibrated it etc nothing ...</td>\n",
              "    </tr>\n",
              "    <tr>\n",
              "      <th>237</th>\n",
              "      <td>753082</td>\n",
              "      <td>1</td>\n",
              "      <td>5</td>\n",
              "      <td>update day beyond warranty one year and day after purchase the flip out stand ceased to remain closed the magnet in the stand became detached i stuck it back in but it will not stay in not that seidio would have done anything because they do not stand behind their product even from normal use it...</td>\n",
              "    </tr>\n",
              "    <tr>\n",
              "      <th>256</th>\n",
              "      <td>965049</td>\n",
              "      <td>1</td>\n",
              "      <td>4</td>\n",
              "      <td>my iphone dropped from mint condition after several week in this case i purchased it a a replacement to a si amilar seidio case whose clasp had broken off after about a year of use i loved this case but not the price at first glance i thought i had a great bargain with the casecrown model it fit...</td>\n",
              "    </tr>\n",
              "    <tr>\n",
              "      <th>374</th>\n",
              "      <td>880078</td>\n",
              "      <td>1</td>\n",
              "      <td>4</td>\n",
              "      <td>frustration is the keyword to describe this bluetooth earpiece because it will not stay on my head or in my ear this is not my first bluetooth unit my jabra and motorola have problem free earpiece human ear are certainly rich and varied in size and shape but that is a given not a surprise and th...</td>\n",
              "    </tr>\n",
              "    <tr>\n",
              "      <th>480</th>\n",
              "      <td>165662</td>\n",
              "      <td>1</td>\n",
              "      <td>5</td>\n",
              "      <td>way to small for an adult man</td>\n",
              "    </tr>\n",
              "    <tr>\n",
              "      <th>586</th>\n",
              "      <td>34964</td>\n",
              "      <td>1</td>\n",
              "      <td>4</td>\n",
              "      <td>doe not have built in blue tooth surely this unit doe an excellent job a a cd player and plug in usb medium player and the package came in good shape all part included new and clean i bought it specifically for the blue tooth however and wa very disappointed</td>\n",
              "    </tr>\n",
              "    <tr>\n",
              "      <th>675</th>\n",
              "      <td>184622</td>\n",
              "      <td>1</td>\n",
              "      <td>5</td>\n",
              "      <td>look very cheap color wa slightly off this is something a teeny bopper would love</td>\n",
              "    </tr>\n",
              "  </tbody>\n",
              "</table>\n",
              "</div>"
            ],
            "text/plain": [
              "     index_orig  ...                                                                                                                                                                                                                                                                                                  review_body\n",
              "7        165367  ...                                                                                                                      it is degree here in florida and the smart watch continuously show i must say i wish i hope that is wa just that one i am checking into the gear live watch maybe that will work for me\n",
              "16       637381  ...                                                                                                              i had it applied perfectly with a perfectly flush surface to surface contact but the stickiness only lasted a day they have sacrificed a sticky permanent surface for an endlessly redoable one\n",
              "160      210353  ...          what you are seeing on everyone el review is accurate the sound quality of these headphone is on par with a tin can and a string i bought a pair at the dollar store and chose the brand name over an equally priced competitor that i would never heard of i am regretting my decision i ammensely\n",
              "226      929899  ...  received this a a gift when i opened it it appear to be used not shiny and new now i know why amazon sent a replacement but it too looked used so i thought it wa just the terrible packaging of garmin and went to use it no satellite signal troubleshot the heck out of it calibrated it etc nothing ...\n",
              "237      753082  ...  update day beyond warranty one year and day after purchase the flip out stand ceased to remain closed the magnet in the stand became detached i stuck it back in but it will not stay in not that seidio would have done anything because they do not stand behind their product even from normal use it...\n",
              "256      965049  ...  my iphone dropped from mint condition after several week in this case i purchased it a a replacement to a si amilar seidio case whose clasp had broken off after about a year of use i loved this case but not the price at first glance i thought i had a great bargain with the casecrown model it fit...\n",
              "374      880078  ...  frustration is the keyword to describe this bluetooth earpiece because it will not stay on my head or in my ear this is not my first bluetooth unit my jabra and motorola have problem free earpiece human ear are certainly rich and varied in size and shape but that is a given not a surprise and th...\n",
              "480      165662  ...                                                                                                                                                                                                                                                                                way to small for an adult man\n",
              "586       34964  ...                                           doe not have built in blue tooth surely this unit doe an excellent job a a cd player and plug in usb medium player and the package came in good shape all part included new and clean i bought it specifically for the blue tooth however and wa very disappointed\n",
              "675      184622  ...                                                                                                                                                                                                                            look very cheap color wa slightly off this is something a teeny bopper would love\n",
              "\n",
              "[10 rows x 4 columns]"
            ]
          },
          "metadata": {
            "tags": []
          },
          "execution_count": 21
        }
      ]
    },
    {
      "cell_type": "markdown",
      "metadata": {
        "id": "NKmgGfPHinD_",
        "colab_type": "text"
      },
      "source": [
        "### Misclassified 4-Star Reviews\n",
        "\n",
        "* 4 misclassified as 5"
      ]
    },
    {
      "cell_type": "code",
      "metadata": {
        "id": "930QH6xIwcYR",
        "colab_type": "code",
        "outputId": "a0dd5887-6056-41d2-f3f5-7ae30862c148",
        "colab": {
          "base_uri": "https://localhost:8080/",
          "height": 975
        }
      },
      "source": [
        "results_145[(results_145.true_145 == 4) & \n",
        "            (results_145.predict_145 == 5) & \n",
        "            (results_145.true_145 != results_145.predict_145)].head(20)"
      ],
      "execution_count": 22,
      "outputs": [
        {
          "output_type": "execute_result",
          "data": {
            "text/html": [
              "<div>\n",
              "<style scoped>\n",
              "    .dataframe tbody tr th:only-of-type {\n",
              "        vertical-align: middle;\n",
              "    }\n",
              "\n",
              "    .dataframe tbody tr th {\n",
              "        vertical-align: top;\n",
              "    }\n",
              "\n",
              "    .dataframe thead th {\n",
              "        text-align: right;\n",
              "    }\n",
              "</style>\n",
              "<table border=\"1\" class=\"dataframe\">\n",
              "  <thead>\n",
              "    <tr style=\"text-align: right;\">\n",
              "      <th></th>\n",
              "      <th>index_orig</th>\n",
              "      <th>true_145</th>\n",
              "      <th>predict_145</th>\n",
              "      <th>review_body</th>\n",
              "    </tr>\n",
              "  </thead>\n",
              "  <tbody>\n",
              "    <tr>\n",
              "      <th>2</th>\n",
              "      <td>292311</td>\n",
              "      <td>4</td>\n",
              "      <td>5</td>\n",
              "      <td>work effectively just do not get a cri amp in them</td>\n",
              "    </tr>\n",
              "    <tr>\n",
              "      <th>4</th>\n",
              "      <td>569553</td>\n",
              "      <td>4</td>\n",
              "      <td>5</td>\n",
              "      <td>used 2 out of the pack a far a i can tell they do the job would buy again if i did not hate the phone</td>\n",
              "    </tr>\n",
              "    <tr>\n",
              "      <th>23</th>\n",
              "      <td>814850</td>\n",
              "      <td>4</td>\n",
              "      <td>5</td>\n",
              "      <td>this is a lovely cellphone case that really protects my phone and it wa very affordable i am very pleased with it</td>\n",
              "    </tr>\n",
              "    <tr>\n",
              "      <th>26</th>\n",
              "      <td>783777</td>\n",
              "      <td>4</td>\n",
              "      <td>5</td>\n",
              "      <td>bought this case for my i phone 4 and it fit perfect it keep my phone from getting scratch it is durable</td>\n",
              "    </tr>\n",
              "    <tr>\n",
              "      <th>29</th>\n",
              "      <td>280042</td>\n",
              "      <td>4</td>\n",
              "      <td>5</td>\n",
              "      <td>great for phone</td>\n",
              "    </tr>\n",
              "    <tr>\n",
              "      <th>30</th>\n",
              "      <td>746017</td>\n",
              "      <td>4</td>\n",
              "      <td>5</td>\n",
              "      <td>i have gotten so many compli ament over this case it is so tiny so it slide easily into my pocket too the shipping wa fast just be careful not to be a person dropping around your phone a lot plastic clip ons are more for look</td>\n",
              "    </tr>\n",
              "    <tr>\n",
              "      <th>45</th>\n",
              "      <td>684282</td>\n",
              "      <td>4</td>\n",
              "      <td>5</td>\n",
              "      <td>unit ha clear sound but switching to fm could be a choir and hard to hear caller with window open while driving i would recommend this unit to others</td>\n",
              "    </tr>\n",
              "    <tr>\n",
              "      <th>57</th>\n",
              "      <td>623423</td>\n",
              "      <td>4</td>\n",
              "      <td>5</td>\n",
              "      <td>this battery is amazing can not kill it all day now no matter what i do back cover is not perfect but it is not a bad a everyone here clai am the only problem i had is that the power button wa being constantly pressed i had to fix that myself other than that best 7 spend ever finally i can actua...</td>\n",
              "    </tr>\n",
              "    <tr>\n",
              "      <th>60</th>\n",
              "      <td>345057</td>\n",
              "      <td>4</td>\n",
              "      <td>5</td>\n",
              "      <td>work well grandson very pleased with product exceeds expectation</td>\n",
              "    </tr>\n",
              "    <tr>\n",
              "      <th>62</th>\n",
              "      <td>448612</td>\n",
              "      <td>4</td>\n",
              "      <td>5</td>\n",
              "      <td>these are helpful plenty in a package at a good price not a sticky a you would like though</td>\n",
              "    </tr>\n",
              "    <tr>\n",
              "      <th>64</th>\n",
              "      <td>450524</td>\n",
              "      <td>4</td>\n",
              "      <td>5</td>\n",
              "      <td>this is a very nice case it fit the iphone 6 perfectly and doe add bulk to the phone the only issue is if you want to place the phone on it is face let say on a table i would not do that the edge of the case do not have enough thickness to keep the phone face from being scratched by something on...</td>\n",
              "    </tr>\n",
              "    <tr>\n",
              "      <th>75</th>\n",
              "      <td>876180</td>\n",
              "      <td>4</td>\n",
              "      <td>5</td>\n",
              "      <td>love this case for my droid razr just wish itcame in another color besides black and pink also amazon ha best price for this case would definitely recommend this purchase</td>\n",
              "    </tr>\n",
              "    <tr>\n",
              "      <th>84</th>\n",
              "      <td>124006</td>\n",
              "      <td>4</td>\n",
              "      <td>5</td>\n",
              "      <td>this is the second ti ame i bought this product for my family member for le than it is such a great iphone case out there si amplicity clear and sli am but also durable and protective i dropped my phone so many ti ames the case wa chipped at the corner while safely protect my iphone</td>\n",
              "    </tr>\n",
              "    <tr>\n",
              "      <th>90</th>\n",
              "      <td>625878</td>\n",
              "      <td>4</td>\n",
              "      <td>5</td>\n",
              "      <td>this phone arrived packaged very well it arrived in the allotted ti ame i like almost everything about this phone i did not want a big phone that stuck out of my hand so the size is favorable i agree with some of the review that the battery drain fast if your running apps but that is understood ...</td>\n",
              "    </tr>\n",
              "    <tr>\n",
              "      <th>92</th>\n",
              "      <td>868771</td>\n",
              "      <td>4</td>\n",
              "      <td>5</td>\n",
              "      <td>prosfits iphone 5 wellsleek lookingnice leatherconsonly hold about 3 card max including license any more and you can not fold casemagnet not very strongoverall look very good and cant beat price got a lot of compli ament on it already if it could hold 1 more card or two and had a better magnet a...</td>\n",
              "    </tr>\n",
              "    <tr>\n",
              "      <th>93</th>\n",
              "      <td>600954</td>\n",
              "      <td>4</td>\n",
              "      <td>5</td>\n",
              "      <td>i got it a a gift it really bulky and my friend stopped using it it protects your phone tho and ha that nifty kick stand</td>\n",
              "    </tr>\n",
              "    <tr>\n",
              "      <th>107</th>\n",
              "      <td>184163</td>\n",
              "      <td>4</td>\n",
              "      <td>5</td>\n",
              "      <td>nice</td>\n",
              "    </tr>\n",
              "    <tr>\n",
              "      <th>113</th>\n",
              "      <td>993732</td>\n",
              "      <td>4</td>\n",
              "      <td>5</td>\n",
              "      <td>the item wa shipped very quickly the company also actually took the the ti ame to call and let me know the item wa shipped i will definitely do business with this seller again</td>\n",
              "    </tr>\n",
              "    <tr>\n",
              "      <th>114</th>\n",
              "      <td>441783</td>\n",
              "      <td>4</td>\n",
              "      <td>5</td>\n",
              "      <td>cute and a expected for the price</td>\n",
              "    </tr>\n",
              "    <tr>\n",
              "      <th>129</th>\n",
              "      <td>688382</td>\n",
              "      <td>4</td>\n",
              "      <td>5</td>\n",
              "      <td>i have had my phone for year and the battery would not stay charged i could not find a battery near me and wa happy i wa able to get a new one at such a low price work great so far</td>\n",
              "    </tr>\n",
              "  </tbody>\n",
              "</table>\n",
              "</div>"
            ],
            "text/plain": [
              "     index_orig  ...                                                                                                                                                                                                                                                                                                  review_body\n",
              "2        292311  ...                                                                                                                                                                                                                                                           work effectively just do not get a cri amp in them\n",
              "4        569553  ...                                                                                                                                                                                                        used 2 out of the pack a far a i can tell they do the job would buy again if i did not hate the phone\n",
              "23       814850  ...                                                                                                                                                                                            this is a lovely cellphone case that really protects my phone and it wa very affordable i am very pleased with it\n",
              "26       783777  ...                                                                                                                                                                                                     bought this case for my i phone 4 and it fit perfect it keep my phone from getting scratch it is durable\n",
              "29       280042  ...                                                                                                                                                                                                                                                                                              great for phone\n",
              "30       746017  ...                                                                            i have gotten so many compli ament over this case it is so tiny so it slide easily into my pocket too the shipping wa fast just be careful not to be a person dropping around your phone a lot plastic clip ons are more for look\n",
              "45       684282  ...                                                                                                                                                        unit ha clear sound but switching to fm could be a choir and hard to hear caller with window open while driving i would recommend this unit to others\n",
              "57       623423  ...  this battery is amazing can not kill it all day now no matter what i do back cover is not perfect but it is not a bad a everyone here clai am the only problem i had is that the power button wa being constantly pressed i had to fix that myself other than that best 7 spend ever finally i can actua...\n",
              "60       345057  ...                                                                                                                                                                                                                                             work well grandson very pleased with product exceeds expectation\n",
              "62       448612  ...                                                                                                                                                                                                                   these are helpful plenty in a package at a good price not a sticky a you would like though\n",
              "64       450524  ...  this is a very nice case it fit the iphone 6 perfectly and doe add bulk to the phone the only issue is if you want to place the phone on it is face let say on a table i would not do that the edge of the case do not have enough thickness to keep the phone face from being scratched by something on...\n",
              "75       876180  ...                                                                                                                                   love this case for my droid razr just wish itcame in another color besides black and pink also amazon ha best price for this case would definitely recommend this purchase\n",
              "84       124006  ...                  this is the second ti ame i bought this product for my family member for le than it is such a great iphone case out there si amplicity clear and sli am but also durable and protective i dropped my phone so many ti ames the case wa chipped at the corner while safely protect my iphone\n",
              "90       625878  ...  this phone arrived packaged very well it arrived in the allotted ti ame i like almost everything about this phone i did not want a big phone that stuck out of my hand so the size is favorable i agree with some of the review that the battery drain fast if your running apps but that is understood ...\n",
              "92       868771  ...  prosfits iphone 5 wellsleek lookingnice leatherconsonly hold about 3 card max including license any more and you can not fold casemagnet not very strongoverall look very good and cant beat price got a lot of compli ament on it already if it could hold 1 more card or two and had a better magnet a...\n",
              "93       600954  ...                                                                                                                                                                                     i got it a a gift it really bulky and my friend stopped using it it protects your phone tho and ha that nifty kick stand\n",
              "107      184163  ...                                                                                                                                                                                                                                                                                                         nice\n",
              "113      993732  ...                                                                                                                              the item wa shipped very quickly the company also actually took the the ti ame to call and let me know the item wa shipped i will definitely do business with this seller again\n",
              "114      441783  ...                                                                                                                                                                                                                                                                            cute and a expected for the price\n",
              "129      688382  ...                                                                                                                         i have had my phone for year and the battery would not stay charged i could not find a battery near me and wa happy i wa able to get a new one at such a low price work great so far\n",
              "\n",
              "[20 rows x 4 columns]"
            ]
          },
          "metadata": {
            "tags": []
          },
          "execution_count": 22
        }
      ]
    },
    {
      "cell_type": "markdown",
      "metadata": {
        "id": "Z_ylbWXRvQPL",
        "colab_type": "text"
      },
      "source": [
        "* 4 misclassified as 1"
      ]
    },
    {
      "cell_type": "code",
      "metadata": {
        "id": "NWq4nxUpvAYp",
        "colab_type": "code",
        "outputId": "49867692-0f7d-4abd-99a2-cfab1610553d",
        "colab": {
          "base_uri": "https://localhost:8080/",
          "height": 529
        }
      },
      "source": [
        "results_145[(results_145.true_145 == 4) & \n",
        "            (results_145.predict_145 == 1) & \n",
        "            (results_145.true_145 != results_145.predict_145)].head(10)"
      ],
      "execution_count": 23,
      "outputs": [
        {
          "output_type": "execute_result",
          "data": {
            "text/html": [
              "<div>\n",
              "<style scoped>\n",
              "    .dataframe tbody tr th:only-of-type {\n",
              "        vertical-align: middle;\n",
              "    }\n",
              "\n",
              "    .dataframe tbody tr th {\n",
              "        vertical-align: top;\n",
              "    }\n",
              "\n",
              "    .dataframe thead th {\n",
              "        text-align: right;\n",
              "    }\n",
              "</style>\n",
              "<table border=\"1\" class=\"dataframe\">\n",
              "  <thead>\n",
              "    <tr style=\"text-align: right;\">\n",
              "      <th></th>\n",
              "      <th>index_orig</th>\n",
              "      <th>true_145</th>\n",
              "      <th>predict_145</th>\n",
              "      <th>review_body</th>\n",
              "    </tr>\n",
              "  </thead>\n",
              "  <tbody>\n",
              "    <tr>\n",
              "      <th>77</th>\n",
              "      <td>204145</td>\n",
              "      <td>4</td>\n",
              "      <td>1</td>\n",
              "      <td>doe not fit ulti amate phone</td>\n",
              "    </tr>\n",
              "    <tr>\n",
              "      <th>109</th>\n",
              "      <td>943114</td>\n",
              "      <td>4</td>\n",
              "      <td>1</td>\n",
              "      <td>everything pictured arrived exactly a seen it is been almost a year i think or more since my purchase and the screen guard ha remained in place despite the fact that it doe not initially fit correctly the small cylindrical shaped hole used for the ear speaker at the top wa actually placed too hi...</td>\n",
              "    </tr>\n",
              "    <tr>\n",
              "      <th>128</th>\n",
              "      <td>892926</td>\n",
              "      <td>4</td>\n",
              "      <td>1</td>\n",
              "      <td>i received this charger in the mail and i ammediately plugged it in to charge the battery it came with however much to my chagrin the light would come on and flash between amber and green then shut off thinking that the battery might be bad i tried it in my phone i wa unable to even power up the...</td>\n",
              "    </tr>\n",
              "    <tr>\n",
              "      <th>331</th>\n",
              "      <td>259822</td>\n",
              "      <td>4</td>\n",
              "      <td>1</td>\n",
              "      <td>only 4 start every thing ok why no battery came with</td>\n",
              "    </tr>\n",
              "    <tr>\n",
              "      <th>358</th>\n",
              "      <td>842844</td>\n",
              "      <td>4</td>\n",
              "      <td>1</td>\n",
              "      <td>bought for my senior parent to keep in car hoping they will use it if they get lost disoriented or have car failure phone emits beep when turned on then emergency button can be pushed and is dialed automatically phone emits a signal when the off button is pressed should be easy for them to use</td>\n",
              "    </tr>\n",
              "    <tr>\n",
              "      <th>424</th>\n",
              "      <td>429481</td>\n",
              "      <td>4</td>\n",
              "      <td>1</td>\n",
              "      <td>look cute but hard to push the button on the side through the case get what you pay for i guess</td>\n",
              "    </tr>\n",
              "    <tr>\n",
              "      <th>855</th>\n",
              "      <td>865437</td>\n",
              "      <td>4</td>\n",
              "      <td>1</td>\n",
              "      <td>didnt really think much of the gold ri amming doesnt look so flashy in the picture leather pattern is also kinda plasticy but i really like the design which is why i bought it and it just buck too</td>\n",
              "    </tr>\n",
              "    <tr>\n",
              "      <th>1130</th>\n",
              "      <td>336317</td>\n",
              "      <td>4</td>\n",
              "      <td>1</td>\n",
              "      <td>i wore this case for 3 month straight and it turned white at the edge and it started chipping and etc</td>\n",
              "    </tr>\n",
              "    <tr>\n",
              "      <th>1210</th>\n",
              "      <td>294593</td>\n",
              "      <td>4</td>\n",
              "      <td>1</td>\n",
              "      <td>i wa somewhat happy with this phone when i had it no bell whistle but you knew it wa a pretty tough little phone it took picture pretty good then it got stolen i hope the sli amy vermin choked on his own vomit</td>\n",
              "    </tr>\n",
              "    <tr>\n",
              "      <th>1240</th>\n",
              "      <td>75984</td>\n",
              "      <td>4</td>\n",
              "      <td>1</td>\n",
              "      <td>it helped that read the others review to apply because if you follow their direction you will think you are doing it wrong and get frustrated it went on easily enough with patience crystal clear with no bubble on the top one on the end but you hardly noticed i do not advise applying this product...</td>\n",
              "    </tr>\n",
              "  </tbody>\n",
              "</table>\n",
              "</div>"
            ],
            "text/plain": [
              "      index_orig  ...                                                                                                                                                                                                                                                                                                  review_body\n",
              "77        204145  ...                                                                                                                                                                                                                                                                                 doe not fit ulti amate phone\n",
              "109       943114  ...  everything pictured arrived exactly a seen it is been almost a year i think or more since my purchase and the screen guard ha remained in place despite the fact that it doe not initially fit correctly the small cylindrical shaped hole used for the ear speaker at the top wa actually placed too hi...\n",
              "128       892926  ...  i received this charger in the mail and i ammediately plugged it in to charge the battery it came with however much to my chagrin the light would come on and flash between amber and green then shut off thinking that the battery might be bad i tried it in my phone i wa unable to even power up the...\n",
              "331       259822  ...                                                                                                                                                                                                                                                         only 4 start every thing ok why no battery came with\n",
              "358       842844  ...       bought for my senior parent to keep in car hoping they will use it if they get lost disoriented or have car failure phone emits beep when turned on then emergency button can be pushed and is dialed automatically phone emits a signal when the off button is pressed should be easy for them to use\n",
              "424       429481  ...                                                                                                                                                                                                              look cute but hard to push the button on the side through the case get what you pay for i guess\n",
              "855       865437  ...                                                                                                         didnt really think much of the gold ri amming doesnt look so flashy in the picture leather pattern is also kinda plasticy but i really like the design which is why i bought it and it just buck too\n",
              "1130      336317  ...                                                                                                                                                                                                        i wore this case for 3 month straight and it turned white at the edge and it started chipping and etc\n",
              "1210      294593  ...                                                                                            i wa somewhat happy with this phone when i had it no bell whistle but you knew it wa a pretty tough little phone it took picture pretty good then it got stolen i hope the sli amy vermin choked on his own vomit\n",
              "1240       75984  ...  it helped that read the others review to apply because if you follow their direction you will think you are doing it wrong and get frustrated it went on easily enough with patience crystal clear with no bubble on the top one on the end but you hardly noticed i do not advise applying this product...\n",
              "\n",
              "[10 rows x 4 columns]"
            ]
          },
          "metadata": {
            "tags": []
          },
          "execution_count": 23
        }
      ]
    },
    {
      "cell_type": "markdown",
      "metadata": {
        "id": "T-fy0CfLutS7",
        "colab_type": "text"
      },
      "source": [
        "# 1-Star, 3-Star, 4-Star, 5-Star Ratings"
      ]
    },
    {
      "cell_type": "code",
      "metadata": {
        "id": "gZk_jRvfwcWb",
        "colab_type": "code",
        "outputId": "0e05af58-fc56-486d-e40c-325951c19485",
        "colab": {
          "base_uri": "https://localhost:8080/",
          "height": 258
        }
      },
      "source": [
        "# predict 1345\n",
        "df_1345 = df[(df[LABEL_COLUMN] == 1) | (df[LABEL_COLUMN] == 3) | (df[LABEL_COLUMN] == 4) | (df[LABEL_COLUMN] == 5)]\n",
        "# have to set 3->2, 4->3, 5->4\n",
        "df_1345.loc[df[LABEL_COLUMN] == 3, LABEL_COLUMN] = 2\n",
        "df_1345.loc[df[LABEL_COLUMN] == 4, LABEL_COLUMN] = 3\n",
        "df_1345.loc[df[LABEL_COLUMN] == 5, LABEL_COLUMN] = 4\n",
        "\n",
        "ratings_1345 = df_1345[LABEL_COLUMN]\n",
        "reviews_1345 = df_1345[REVIEW_COLUMN]\n",
        "\n",
        "reviews_train_1345, reviews_test_1345, y_train_1345, y_test_1345 = train_test_split(reviews_1345, ratings_1345, random_state=1)\n",
        "\n",
        "model_1345, y_predict_1345, y_predict_unencoded_1345 = load_and_predict(lstm_1345, \n",
        "                                                                     reviews_test_1345)\n",
        "\n"
      ],
      "execution_count": 24,
      "outputs": [
        {
          "output_type": "stream",
          "text": [
            "/usr/local/lib/python3.6/dist-packages/pandas/core/indexing.py:494: SettingWithCopyWarning: \n",
            "A value is trying to be set on a copy of a slice from a DataFrame.\n",
            "Try using .loc[row_indexer,col_indexer] = value instead\n",
            "\n",
            "See the caveats in the documentation: http://pandas.pydata.org/pandas-docs/stable/user_guide/indexing.html#returning-a-view-versus-a-copy\n",
            "  self.obj[item] = s\n"
          ],
          "name": "stderr"
        },
        {
          "output_type": "stream",
          "text": [
            "Loading tokenizer file: drive/My Drive/Springboard/capstone/models/LSTMB16_1345-1x16-glove_with_stop-sampling_none-931734-100-star_rating-tokenizer.pkl\n",
            "Vocabulary size=104931\n",
            "Number of Documents=698800\n",
            "Test review vectors shape: (232934, 100)\n",
            "Loading model file: drive/My Drive/Springboard/capstone/models/LSTMB16_1345-1x16-glove_with_stop-sampling_none-931734-100-star_rating-model.h5\n",
            "Predicting test set...\n",
            "Unencoding predictions...\n"
          ],
          "name": "stdout"
        }
      ]
    },
    {
      "cell_type": "code",
      "metadata": {
        "id": "WHTIzcVjwcTC",
        "colab_type": "code",
        "colab": {}
      },
      "source": [
        "def unmap_1345(y_encoded: pd.DataFrame):\n",
        "  # unmap preidctions 2->3, 3->4, 4->5\n",
        "\n",
        "  y_encoded.loc[y_encoded.true_1345 == 4, \"true_1345\"] = 5\n",
        "  y_encoded.loc[y_encoded.true_1345 == 3, \"true_1345\"] = 4\n",
        "  y_encoded.loc[y_encoded.true_1345 == 2, \"true_1345\"] = 3\n",
        "  y_encoded.loc[y_encoded.predict_1345 == 4, \"predict_1345\"] = 5\n",
        "  y_encoded.loc[y_encoded.predict_1345 == 3, \"predict_1345\"] = 4\n",
        "  y_encoded.loc[y_encoded.predict_1345 == 2, \"predict_1345\"] = 3\n",
        "  return y_encoded\n",
        "\n",
        "\n",
        "results_1345 = pd.DataFrame({\"true_1345\": y_test_1345, \"predict_1345\": y_predict_unencoded_1345})\n",
        "\n",
        "# results_1345.loc[results_1345.true_1345 == 4, \"true_1345\"] = 5\n",
        "# results_1345.loc[results_1345.true_1345 == 3, \"true_1345\"] = 4\n",
        "# results_1345.loc[results_1345.true_1345 == 2, \"true_1345\"] = 3\n",
        "# results_1345.loc[results_1345.predict_1345 == 4, \"predict_1345\"] = 5\n",
        "# results_1345.loc[results_1345.predict_1345 == 3, \"predict_1345\"] = 4\n",
        "# results_1345.loc[results_1345.predict_1345 == 2, \"predict_1345\"] = 3\n",
        "unmap_1345(results_1345)\n",
        "\n",
        "results_1345 = results_1345.join(reviews_test_1345).reset_index().rename({\"index\": \"index_orig\"}, axis=1)"
      ],
      "execution_count": 0,
      "outputs": []
    },
    {
      "cell_type": "markdown",
      "metadata": {
        "id": "nuAAXlJc2pIg",
        "colab_type": "text"
      },
      "source": [
        "### Misclassified 3-Star Reviews\n",
        "\n",
        "* 3 as 4"
      ]
    },
    {
      "cell_type": "code",
      "metadata": {
        "id": "8aG683oXwcO9",
        "colab_type": "code",
        "outputId": "5225a91a-f7b1-492d-f1b2-1f1d5709970a",
        "colab": {
          "base_uri": "https://localhost:8080/",
          "height": 512
        }
      },
      "source": [
        "results_1345[(results_1345.true_1345 == 3) & \n",
        "            (results_1345.predict_1345 == 4) & \n",
        "             (results_1345.true_1345 != results_1345.predict_1345)].head(10)"
      ],
      "execution_count": 26,
      "outputs": [
        {
          "output_type": "execute_result",
          "data": {
            "text/html": [
              "<div>\n",
              "<style scoped>\n",
              "    .dataframe tbody tr th:only-of-type {\n",
              "        vertical-align: middle;\n",
              "    }\n",
              "\n",
              "    .dataframe tbody tr th {\n",
              "        vertical-align: top;\n",
              "    }\n",
              "\n",
              "    .dataframe thead th {\n",
              "        text-align: right;\n",
              "    }\n",
              "</style>\n",
              "<table border=\"1\" class=\"dataframe\">\n",
              "  <thead>\n",
              "    <tr style=\"text-align: right;\">\n",
              "      <th></th>\n",
              "      <th>index_orig</th>\n",
              "      <th>true_1345</th>\n",
              "      <th>predict_1345</th>\n",
              "      <th>review_body</th>\n",
              "    </tr>\n",
              "  </thead>\n",
              "  <tbody>\n",
              "    <tr>\n",
              "      <th>53</th>\n",
              "      <td>423802</td>\n",
              "      <td>3</td>\n",
              "      <td>4</td>\n",
              "      <td>look and feel amazing only gripe is that a few day in the edge started chipping i recommend using this with a case of your going buy so it can protect the edge</td>\n",
              "    </tr>\n",
              "    <tr>\n",
              "      <th>96</th>\n",
              "      <td>672600</td>\n",
              "      <td>3</td>\n",
              "      <td>4</td>\n",
              "      <td>go in an out someti ame can not here someti ames it ha static someti ame an the phone can be in your pocket an it still sound like it is breaking up not all tha ti ame but i think it is just dis headset</td>\n",
              "    </tr>\n",
              "    <tr>\n",
              "      <th>117</th>\n",
              "      <td>822267</td>\n",
              "      <td>3</td>\n",
              "      <td>4</td>\n",
              "      <td>i do not drop my phone or treat them like a toy but it did start to peel on the back after purchase</td>\n",
              "    </tr>\n",
              "    <tr>\n",
              "      <th>134</th>\n",
              "      <td>768691</td>\n",
              "      <td>3</td>\n",
              "      <td>4</td>\n",
              "      <td>it is a good case but to big for my samsung galaxyit arrived on ti ame but i can t really use it</td>\n",
              "    </tr>\n",
              "    <tr>\n",
              "      <th>410</th>\n",
              "      <td>743767</td>\n",
              "      <td>3</td>\n",
              "      <td>4</td>\n",
              "      <td>the lip surrounding the longer side of the screen is not raised much at all so i am concerned that if phone drop flat on the screen or on an uneven surface for example gravel there is a possibility the screen will scratch or crack along with others i would recommend a screen protector a a must h...</td>\n",
              "    </tr>\n",
              "    <tr>\n",
              "      <th>426</th>\n",
              "      <td>749313</td>\n",
              "      <td>3</td>\n",
              "      <td>4</td>\n",
              "      <td>i help nominally but i can not tell much difference between it and no antenna i get static when i expect a strong signal depends on which way i am pointing</td>\n",
              "    </tr>\n",
              "    <tr>\n",
              "      <th>450</th>\n",
              "      <td>662888</td>\n",
              "      <td>3</td>\n",
              "      <td>4</td>\n",
              "      <td>a case go this is not too bad i generally use an otterbox defender while i think the otterbox is far superior for protecting the phone i have used case like this the mostly protect the back of the phone while leaving the screen open the cost of more protection is the bulk it add to the size of t...</td>\n",
              "    </tr>\n",
              "    <tr>\n",
              "      <th>477</th>\n",
              "      <td>225870</td>\n",
              "      <td>3</td>\n",
              "      <td>4</td>\n",
              "      <td>good charger but cord need to be longer</td>\n",
              "    </tr>\n",
              "    <tr>\n",
              "      <th>478</th>\n",
              "      <td>648906</td>\n",
              "      <td>3</td>\n",
              "      <td>4</td>\n",
              "      <td>i like this cover because it interesting looking and it actually doe a pretty good job of prodecting my phone i am a person who tends to drop my phone and it ha not shattered or broken yet the only thing about this case is that the front part when you put it together tends to get caught on the s...</td>\n",
              "    </tr>\n",
              "    <tr>\n",
              "      <th>522</th>\n",
              "      <td>63147</td>\n",
              "      <td>3</td>\n",
              "      <td>4</td>\n",
              "      <td>very loose replacement function perfectly well but it easy to come off</td>\n",
              "    </tr>\n",
              "  </tbody>\n",
              "</table>\n",
              "</div>"
            ],
            "text/plain": [
              "     index_orig  ...                                                                                                                                                                                                                                                                                                  review_body\n",
              "53       423802  ...                                                                                                                                              look and feel amazing only gripe is that a few day in the edge started chipping i recommend using this with a case of your going buy so it can protect the edge\n",
              "96       672600  ...                                                                                                   go in an out someti ame can not here someti ames it ha static someti ame an the phone can be in your pocket an it still sound like it is breaking up not all tha ti ame but i think it is just dis headset\n",
              "117      822267  ...                                                                                                                                                                                                          i do not drop my phone or treat them like a toy but it did start to peel on the back after purchase\n",
              "134      768691  ...                                                                                                                                                                                                             it is a good case but to big for my samsung galaxyit arrived on ti ame but i can t really use it\n",
              "410      743767  ...  the lip surrounding the longer side of the screen is not raised much at all so i am concerned that if phone drop flat on the screen or on an uneven surface for example gravel there is a possibility the screen will scratch or crack along with others i would recommend a screen protector a a must h...\n",
              "426      749313  ...                                                                                                                                                  i help nominally but i can not tell much difference between it and no antenna i get static when i expect a strong signal depends on which way i am pointing\n",
              "450      662888  ...  a case go this is not too bad i generally use an otterbox defender while i think the otterbox is far superior for protecting the phone i have used case like this the mostly protect the back of the phone while leaving the screen open the cost of more protection is the bulk it add to the size of t...\n",
              "477      225870  ...                                                                                                                                                                                                                                                                      good charger but cord need to be longer\n",
              "478      648906  ...  i like this cover because it interesting looking and it actually doe a pretty good job of prodecting my phone i am a person who tends to drop my phone and it ha not shattered or broken yet the only thing about this case is that the front part when you put it together tends to get caught on the s...\n",
              "522       63147  ...                                                                                                                                                                                                                                       very loose replacement function perfectly well but it easy to come off\n",
              "\n",
              "[10 rows x 4 columns]"
            ]
          },
          "metadata": {
            "tags": []
          },
          "execution_count": 26
        }
      ]
    },
    {
      "cell_type": "markdown",
      "metadata": {
        "id": "HKbPFfHT2PgC",
        "colab_type": "text"
      },
      "source": [
        "* 3 as 1"
      ]
    },
    {
      "cell_type": "code",
      "metadata": {
        "id": "nE_1XX4d2PLf",
        "colab_type": "code",
        "outputId": "df6fc6f8-92c4-4917-866a-15e42e357b40",
        "colab": {
          "base_uri": "https://localhost:8080/",
          "height": 614
        }
      },
      "source": [
        "results_1345[(results_1345.true_1345 == 3) & \n",
        "            (results_1345.predict_1345 == 1) & \n",
        "             (results_1345.true_1345 != results_1345.predict_1345)].head(10)"
      ],
      "execution_count": 27,
      "outputs": [
        {
          "output_type": "execute_result",
          "data": {
            "text/html": [
              "<div>\n",
              "<style scoped>\n",
              "    .dataframe tbody tr th:only-of-type {\n",
              "        vertical-align: middle;\n",
              "    }\n",
              "\n",
              "    .dataframe tbody tr th {\n",
              "        vertical-align: top;\n",
              "    }\n",
              "\n",
              "    .dataframe thead th {\n",
              "        text-align: right;\n",
              "    }\n",
              "</style>\n",
              "<table border=\"1\" class=\"dataframe\">\n",
              "  <thead>\n",
              "    <tr style=\"text-align: right;\">\n",
              "      <th></th>\n",
              "      <th>index_orig</th>\n",
              "      <th>true_1345</th>\n",
              "      <th>predict_1345</th>\n",
              "      <th>review_body</th>\n",
              "    </tr>\n",
              "  </thead>\n",
              "  <tbody>\n",
              "    <tr>\n",
              "      <th>3</th>\n",
              "      <td>479273</td>\n",
              "      <td>3</td>\n",
              "      <td>1</td>\n",
              "      <td>very cheaply made do not last long</td>\n",
              "    </tr>\n",
              "    <tr>\n",
              "      <th>123</th>\n",
              "      <td>623719</td>\n",
              "      <td>3</td>\n",
              "      <td>1</td>\n",
              "      <td>i bought this detector to replace my beltronics an older midrange model while the older unit did a great job of warning me about threat oftenti ames my passenger became irritated with all the false alarm driving around town this wa especially true of my girlfriend she initially rolled her eye wh...</td>\n",
              "    </tr>\n",
              "    <tr>\n",
              "      <th>194</th>\n",
              "      <td>738261</td>\n",
              "      <td>3</td>\n",
              "      <td>1</td>\n",
              "      <td>wa a good product and had me relying on it more and more unfortunately after 2 month of use it stopped working it will not charge up or give charge no led nothing customer support wa willing to give me a new one in exchange of the old one but i am on vacationing abroad this summer which mean i a...</td>\n",
              "    </tr>\n",
              "    <tr>\n",
              "      <th>322</th>\n",
              "      <td>870011</td>\n",
              "      <td>3</td>\n",
              "      <td>1</td>\n",
              "      <td>nice price good look i can not get the bluetooth to work streaming nor phonecalls no idea samsung galaxy s say it is paired pairing worked fine unit tell me nothing i am the only one using a galaxy s this is a very confusing unit menu are confusing i can not even figure out if the bluetooth is t...</td>\n",
              "    </tr>\n",
              "    <tr>\n",
              "      <th>327</th>\n",
              "      <td>617054</td>\n",
              "      <td>3</td>\n",
              "      <td>1</td>\n",
              "      <td>it wa tough to use a the clamp that hold the phone wa not well shaped and barely opened wide enough to fit the phone my i ampression is that this designed for a generic cellphone and not specifically for the fairly large galaxy note phone i ulti amately gave it away to someone else with a more n...</td>\n",
              "    </tr>\n",
              "    <tr>\n",
              "      <th>357</th>\n",
              "      <td>982415</td>\n",
              "      <td>3</td>\n",
              "      <td>1</td>\n",
              "      <td>i thought since these radio cost a little more than what we had been using they would be awesome i do not know if it is because our building is concrete or what but someti ames message do not go through to all radio also the cheap ear piece pretty much all snapped in the same place two day after...</td>\n",
              "    </tr>\n",
              "    <tr>\n",
              "      <th>443</th>\n",
              "      <td>733237</td>\n",
              "      <td>3</td>\n",
              "      <td>1</td>\n",
              "      <td>if you drop your phone slot this case is not for you mine ha been on for two day and is cracked and i did not drop it</td>\n",
              "    </tr>\n",
              "    <tr>\n",
              "      <th>485</th>\n",
              "      <td>583306</td>\n",
              "      <td>3</td>\n",
              "      <td>1</td>\n",
              "      <td>i love the way the case fit around my ipad perfect snug but the track where you put the bottom of your ipad into so it can stand up are too shallow so the weight of the ipad cause it to fall backward the cover the part with the track in it is too thin fli amsy so the slightest movement make the ...</td>\n",
              "    </tr>\n",
              "    <tr>\n",
              "      <th>503</th>\n",
              "      <td>108629</td>\n",
              "      <td>3</td>\n",
              "      <td>1</td>\n",
              "      <td>the clip broke the same day</td>\n",
              "    </tr>\n",
              "    <tr>\n",
              "      <th>514</th>\n",
              "      <td>931723</td>\n",
              "      <td>3</td>\n",
              "      <td>1</td>\n",
              "      <td>the case look very stylish i love the design but the physical construction leaf a bit to be desired the plastic band that fit around the iphone is a little fli amsy especially on the bottom around the usb connector port the plastic is very thin and break easy the first ti ame i put it around my ...</td>\n",
              "    </tr>\n",
              "  </tbody>\n",
              "</table>\n",
              "</div>"
            ],
            "text/plain": [
              "     index_orig  ...                                                                                                                                                                                                                                                                                                  review_body\n",
              "3        479273  ...                                                                                                                                                                                                                                                                           very cheaply made do not last long\n",
              "123      623719  ...  i bought this detector to replace my beltronics an older midrange model while the older unit did a great job of warning me about threat oftenti ames my passenger became irritated with all the false alarm driving around town this wa especially true of my girlfriend she initially rolled her eye wh...\n",
              "194      738261  ...  wa a good product and had me relying on it more and more unfortunately after 2 month of use it stopped working it will not charge up or give charge no led nothing customer support wa willing to give me a new one in exchange of the old one but i am on vacationing abroad this summer which mean i a...\n",
              "322      870011  ...  nice price good look i can not get the bluetooth to work streaming nor phonecalls no idea samsung galaxy s say it is paired pairing worked fine unit tell me nothing i am the only one using a galaxy s this is a very confusing unit menu are confusing i can not even figure out if the bluetooth is t...\n",
              "327      617054  ...  it wa tough to use a the clamp that hold the phone wa not well shaped and barely opened wide enough to fit the phone my i ampression is that this designed for a generic cellphone and not specifically for the fairly large galaxy note phone i ulti amately gave it away to someone else with a more n...\n",
              "357      982415  ...  i thought since these radio cost a little more than what we had been using they would be awesome i do not know if it is because our building is concrete or what but someti ames message do not go through to all radio also the cheap ear piece pretty much all snapped in the same place two day after...\n",
              "443      733237  ...                                                                                                                                                                                        if you drop your phone slot this case is not for you mine ha been on for two day and is cracked and i did not drop it\n",
              "485      583306  ...  i love the way the case fit around my ipad perfect snug but the track where you put the bottom of your ipad into so it can stand up are too shallow so the weight of the ipad cause it to fall backward the cover the part with the track in it is too thin fli amsy so the slightest movement make the ...\n",
              "503      108629  ...                                                                                                                                                                                                                                                                                  the clip broke the same day\n",
              "514      931723  ...  the case look very stylish i love the design but the physical construction leaf a bit to be desired the plastic band that fit around the iphone is a little fli amsy especially on the bottom around the usb connector port the plastic is very thin and break easy the first ti ame i put it around my ...\n",
              "\n",
              "[10 rows x 4 columns]"
            ]
          },
          "metadata": {
            "tags": []
          },
          "execution_count": 27
        }
      ]
    },
    {
      "cell_type": "markdown",
      "metadata": {
        "id": "vSiyaWri2WiV",
        "colab_type": "text"
      },
      "source": [
        "# All Star Ratings"
      ]
    },
    {
      "cell_type": "code",
      "metadata": {
        "id": "IPJVJsLz2PJF",
        "colab_type": "code",
        "outputId": "a88a3f53-3a43-4080-ae7e-6c0293433cf6",
        "colab": {
          "base_uri": "https://localhost:8080/",
          "height": 156
        }
      },
      "source": [
        "# # predict 1345\n",
        "# df_1345 = df[(df[LABEL_COLUMN] == 1) | (df[LABEL_COLUMN] == 3) | (df[LABEL_COLUMN] == 4) | (df[LABEL_COLUMN] == 5)]\n",
        "# # have to set 3->2, 4->3, 5->4\n",
        "# df_1345.loc[df[LABEL_COLUMN] == 3, LABEL_COLUMN] = 2\n",
        "# df_1345.loc[df[LABEL_COLUMN] == 4, LABEL_COLUMN] = 3\n",
        "# df_1345.loc[df[LABEL_COLUMN] == 5, LABEL_COLUMN] = 4\n",
        "\n",
        "ratings_all = df[LABEL_COLUMN]\n",
        "reviews_all = df[REVIEW_COLUMN]\n",
        "\n",
        "reviews_train_all, reviews_test_all, y_train_all, y_test_all = train_test_split(reviews_all, ratings_all, random_state=1)\n",
        "\n",
        "model_all, y_predict_all, y_predict_unencoded_all = load_and_predict(lstm_all, \n",
        "                                                                     reviews_test_all)\n",
        "\n"
      ],
      "execution_count": 28,
      "outputs": [
        {
          "output_type": "stream",
          "text": [
            "Loading tokenizer file: drive/My Drive/Springboard/capstone/models/LSTMB16-1x16-glove_with_stop-sampling_none-997682-100-star_rating-tokenizer.pkl\n",
            "Vocabulary size=110014\n",
            "Number of Documents=748261\n",
            "Test review vectors shape: (249421, 100)\n",
            "Loading model file: drive/My Drive/Springboard/capstone/models/LSTMB16-1x16-glove_with_stop-sampling_none-997682-100-star_rating-model.h5\n",
            "Predicting test set...\n",
            "Unencoding predictions...\n"
          ],
          "name": "stdout"
        }
      ]
    },
    {
      "cell_type": "code",
      "metadata": {
        "id": "XZ2ylwou2PF7",
        "colab_type": "code",
        "colab": {}
      },
      "source": [
        "results_all = pd.DataFrame({\"true_all\": y_test_all, \"predict_all\": y_predict_unencoded_all})\n",
        "\n",
        "# don't have to unmap predictions\n",
        "\n",
        "results_all = results_all.join(reviews_test_all).reset_index().rename({\"index\": \"index_orig\"}, axis=1)"
      ],
      "execution_count": 0,
      "outputs": []
    },
    {
      "cell_type": "code",
      "metadata": {
        "id": "HHrYdz63cCSj",
        "colab_type": "code",
        "outputId": "439ef742-8ad7-4ded-b35b-5f0fcdc38a5c",
        "colab": {
          "base_uri": "https://localhost:8080/",
          "height": 119
        }
      },
      "source": [
        "y_test_all.head()"
      ],
      "execution_count": 30,
      "outputs": [
        {
          "output_type": "execute_result",
          "data": {
            "text/plain": [
              "421030    2\n",
              "402901    5\n",
              "604078    5\n",
              "740512    2\n",
              "737066    5\n",
              "Name: star_rating, dtype: int64"
            ]
          },
          "metadata": {
            "tags": []
          },
          "execution_count": 30
        }
      ]
    },
    {
      "cell_type": "code",
      "metadata": {
        "id": "criVOl9fcii3",
        "colab_type": "code",
        "outputId": "dc819f2a-fef2-4039-883e-31b2a76cb6c1",
        "colab": {
          "base_uri": "https://localhost:8080/",
          "height": 156
        }
      },
      "source": [
        "df.iloc[629436]"
      ],
      "execution_count": 31,
      "outputs": [
        {
          "output_type": "execute_result",
          "data": {
            "text/plain": [
              "star_rating                                                                                                                                      5\n",
              "helpful_votes                                                                                                                                    0\n",
              "total_votes                                                                                                                                      0\n",
              "review_headline                                                                                                                exactly a described\n",
              "review_body        exactly a described never used though because i ended up doing a warranty exchange getting a new battery satisfied with product\n",
              "review_date                                                                                                                             2014-01-22\n",
              "Name: 629436, dtype: object"
            ]
          },
          "metadata": {
            "tags": []
          },
          "execution_count": 31
        }
      ]
    },
    {
      "cell_type": "code",
      "metadata": {
        "id": "xhkwiX85bbnM",
        "colab_type": "code",
        "outputId": "87969c4e-20bc-4c19-8797-20f065ec372f",
        "colab": {
          "base_uri": "https://localhost:8080/",
          "height": 49
        }
      },
      "source": [
        "results_all[results_all.index_orig == 629436]"
      ],
      "execution_count": 32,
      "outputs": [
        {
          "output_type": "execute_result",
          "data": {
            "text/html": [
              "<div>\n",
              "<style scoped>\n",
              "    .dataframe tbody tr th:only-of-type {\n",
              "        vertical-align: middle;\n",
              "    }\n",
              "\n",
              "    .dataframe tbody tr th {\n",
              "        vertical-align: top;\n",
              "    }\n",
              "\n",
              "    .dataframe thead th {\n",
              "        text-align: right;\n",
              "    }\n",
              "</style>\n",
              "<table border=\"1\" class=\"dataframe\">\n",
              "  <thead>\n",
              "    <tr style=\"text-align: right;\">\n",
              "      <th></th>\n",
              "      <th>index_orig</th>\n",
              "      <th>true_all</th>\n",
              "      <th>predict_all</th>\n",
              "      <th>review_body</th>\n",
              "    </tr>\n",
              "  </thead>\n",
              "  <tbody>\n",
              "  </tbody>\n",
              "</table>\n",
              "</div>"
            ],
            "text/plain": [
              "Empty DataFrame\n",
              "Columns: [index_orig, true_all, predict_all, review_body]\n",
              "Index: []"
            ]
          },
          "metadata": {
            "tags": []
          },
          "execution_count": 32
        }
      ]
    },
    {
      "cell_type": "markdown",
      "metadata": {
        "id": "Z1u5slFN78D9",
        "colab_type": "text"
      },
      "source": [
        "### Misclassified Samples\n",
        "\n",
        "* 1 as 5"
      ]
    },
    {
      "cell_type": "code",
      "metadata": {
        "id": "AhxlQNv72PDW",
        "colab_type": "code",
        "outputId": "a03c01b7-af01-483e-c551-5926f14c33f9",
        "colab": {
          "base_uri": "https://localhost:8080/",
          "height": 478
        }
      },
      "source": [
        "results_all[(results_all.true_all == 1) & \n",
        "            (results_all.predict_all == 5) & \n",
        "             (results_all.true_all != results_all.predict_all)].head(10)"
      ],
      "execution_count": 33,
      "outputs": [
        {
          "output_type": "execute_result",
          "data": {
            "text/html": [
              "<div>\n",
              "<style scoped>\n",
              "    .dataframe tbody tr th:only-of-type {\n",
              "        vertical-align: middle;\n",
              "    }\n",
              "\n",
              "    .dataframe tbody tr th {\n",
              "        vertical-align: top;\n",
              "    }\n",
              "\n",
              "    .dataframe thead th {\n",
              "        text-align: right;\n",
              "    }\n",
              "</style>\n",
              "<table border=\"1\" class=\"dataframe\">\n",
              "  <thead>\n",
              "    <tr style=\"text-align: right;\">\n",
              "      <th></th>\n",
              "      <th>index_orig</th>\n",
              "      <th>true_all</th>\n",
              "      <th>predict_all</th>\n",
              "      <th>review_body</th>\n",
              "    </tr>\n",
              "  </thead>\n",
              "  <tbody>\n",
              "    <tr>\n",
              "      <th>422</th>\n",
              "      <td>872381</td>\n",
              "      <td>1</td>\n",
              "      <td>5</td>\n",
              "      <td>i knew what i wa getting before i ordered but that wa based solely on the first two product review not on the official product description it appears to be about 5 gauge wire not 4 the wire diameter is approxi amately inch here are the official awg wire size for reference 4 awg gauge 5 awg gauge...</td>\n",
              "    </tr>\n",
              "    <tr>\n",
              "      <th>596</th>\n",
              "      <td>800238</td>\n",
              "      <td>1</td>\n",
              "      <td>5</td>\n",
              "      <td>my husband tried all three and all three had to be trashed tried a pricey screen cover and no problem he had it on in le than a minute will not but these again</td>\n",
              "    </tr>\n",
              "    <tr>\n",
              "      <th>614</th>\n",
              "      <td>908098</td>\n",
              "      <td>1</td>\n",
              "      <td>5</td>\n",
              "      <td>i have yet to receive this order i realize it is coming from hong kong but it ha been about 5 week since the order</td>\n",
              "    </tr>\n",
              "    <tr>\n",
              "      <th>739</th>\n",
              "      <td>967529</td>\n",
              "      <td>1</td>\n",
              "      <td>5</td>\n",
              "      <td>this come up in the search for skin case and cover for your blackberry read the fine print it is a set of sticker and they charge 5 in shipping for something should ship in an envelope for 0</td>\n",
              "    </tr>\n",
              "    <tr>\n",
              "      <th>808</th>\n",
              "      <td>586211</td>\n",
              "      <td>1</td>\n",
              "      <td>5</td>\n",
              "      <td>i ordered this pouch to carry my samsung note 3 around my neck but got a totally different style one i would never have picked the measurement shown are smaller than described will not fit my note 3 with the otterbox i took a good deal of ti ame looking for something large enough for the phone w...</td>\n",
              "    </tr>\n",
              "    <tr>\n",
              "      <th>836</th>\n",
              "      <td>627372</td>\n",
              "      <td>1</td>\n",
              "      <td>5</td>\n",
              "      <td>wa not the correct size loved the case just what i wanted but to small all the rest ordered worked perfect</td>\n",
              "    </tr>\n",
              "    <tr>\n",
              "      <th>853</th>\n",
              "      <td>297393</td>\n",
              "      <td>1</td>\n",
              "      <td>5</td>\n",
              "      <td>i have problem they send me u staff i wa order new</td>\n",
              "    </tr>\n",
              "    <tr>\n",
              "      <th>1148</th>\n",
              "      <td>204265</td>\n",
              "      <td>1</td>\n",
              "      <td>5</td>\n",
              "      <td>do not purchase cheaply made only had it two month and it look like i had it for 3 year</td>\n",
              "    </tr>\n",
              "    <tr>\n",
              "      <th>1158</th>\n",
              "      <td>171792</td>\n",
              "      <td>1</td>\n",
              "      <td>5</td>\n",
              "      <td>it is not sweat proof what so ever i can not i amagine ever going out in the rain with this thing</td>\n",
              "    </tr>\n",
              "    <tr>\n",
              "      <th>1301</th>\n",
              "      <td>308883</td>\n",
              "      <td>1</td>\n",
              "      <td>5</td>\n",
              "      <td>so far i have not been able to pair it with anything what is the secret no instruction to help</td>\n",
              "    </tr>\n",
              "  </tbody>\n",
              "</table>\n",
              "</div>"
            ],
            "text/plain": [
              "      index_orig  ...                                                                                                                                                                                                                                                                                                  review_body\n",
              "422       872381  ...  i knew what i wa getting before i ordered but that wa based solely on the first two product review not on the official product description it appears to be about 5 gauge wire not 4 the wire diameter is approxi amately inch here are the official awg wire size for reference 4 awg gauge 5 awg gauge...\n",
              "596       800238  ...                                                                                                                                              my husband tried all three and all three had to be trashed tried a pricey screen cover and no problem he had it on in le than a minute will not but these again\n",
              "614       908098  ...                                                                                                                                                                                           i have yet to receive this order i realize it is coming from hong kong but it ha been about 5 week since the order\n",
              "739       967529  ...                                                                                                               this come up in the search for skin case and cover for your blackberry read the fine print it is a set of sticker and they charge 5 in shipping for something should ship in an envelope for 0\n",
              "808       586211  ...  i ordered this pouch to carry my samsung note 3 around my neck but got a totally different style one i would never have picked the measurement shown are smaller than described will not fit my note 3 with the otterbox i took a good deal of ti ame looking for something large enough for the phone w...\n",
              "836       627372  ...                                                                                                                                                                                                   wa not the correct size loved the case just what i wanted but to small all the rest ordered worked perfect\n",
              "853       297393  ...                                                                                                                                                                                                                                                           i have problem they send me u staff i wa order new\n",
              "1148      204265  ...                                                                                                                                                                                                                      do not purchase cheaply made only had it two month and it look like i had it for 3 year\n",
              "1158      171792  ...                                                                                                                                                                                                            it is not sweat proof what so ever i can not i amagine ever going out in the rain with this thing\n",
              "1301      308883  ...                                                                                                                                                                                                               so far i have not been able to pair it with anything what is the secret no instruction to help\n",
              "\n",
              "[10 rows x 4 columns]"
            ]
          },
          "metadata": {
            "tags": []
          },
          "execution_count": 33
        }
      ]
    },
    {
      "cell_type": "code",
      "metadata": {
        "id": "Q0HEs7Kh2PBr",
        "colab_type": "code",
        "colab": {}
      },
      "source": [
        ""
      ],
      "execution_count": 0,
      "outputs": []
    },
    {
      "cell_type": "code",
      "metadata": {
        "id": "pDD9kJ3b2O_s",
        "colab_type": "code",
        "colab": {}
      },
      "source": [
        ""
      ],
      "execution_count": 0,
      "outputs": []
    },
    {
      "cell_type": "code",
      "metadata": {
        "id": "DMaQXo-t805C",
        "colab_type": "code",
        "colab": {}
      },
      "source": [
        ""
      ],
      "execution_count": 0,
      "outputs": []
    },
    {
      "cell_type": "markdown",
      "metadata": {
        "id": "w2X0FplU81lq",
        "colab_type": "text"
      },
      "source": [
        "# Join all Results Dataframe Into One"
      ]
    },
    {
      "cell_type": "code",
      "metadata": {
        "id": "Czz971SE802f",
        "colab_type": "code",
        "outputId": "e83c0b91-5bfe-45b3-9f32-5dc5fab27a0e",
        "colab": {
          "base_uri": "https://localhost:8080/",
          "height": 408
        }
      },
      "source": [
        "results_comprehensive = pd.merge(pd.merge(pd.merge(results_15.drop(\"review_body\", axis=1), \n",
        "                                                results_145.drop(\"review_body\", axis=1), how='outer', \n",
        "                                                left_on=\"index_orig\", right_on=\"index_orig\"),\n",
        "                                      results_1345.drop(\"review_body\", axis=1), how='outer', \n",
        "                                                left_on=\"index_orig\", right_on=\"index_orig\"),\n",
        "                                      results_all, how='outer', \n",
        "                                                left_on=\"index_orig\", right_on=\"index_orig\")\n",
        "\n",
        "results_comprehensive = results_comprehensive.dropna(subset=[\"review_body\"])\n",
        "results_comprehensive.head()\n",
        "\n"
      ],
      "execution_count": 34,
      "outputs": [
        {
          "output_type": "execute_result",
          "data": {
            "text/html": [
              "<div>\n",
              "<style scoped>\n",
              "    .dataframe tbody tr th:only-of-type {\n",
              "        vertical-align: middle;\n",
              "    }\n",
              "\n",
              "    .dataframe tbody tr th {\n",
              "        vertical-align: top;\n",
              "    }\n",
              "\n",
              "    .dataframe thead th {\n",
              "        text-align: right;\n",
              "    }\n",
              "</style>\n",
              "<table border=\"1\" class=\"dataframe\">\n",
              "  <thead>\n",
              "    <tr style=\"text-align: right;\">\n",
              "      <th></th>\n",
              "      <th>index_orig</th>\n",
              "      <th>true_15</th>\n",
              "      <th>predict_15</th>\n",
              "      <th>true_145</th>\n",
              "      <th>predict_145</th>\n",
              "      <th>true_1345</th>\n",
              "      <th>predict_1345</th>\n",
              "      <th>true_all</th>\n",
              "      <th>predict_all</th>\n",
              "      <th>review_body</th>\n",
              "    </tr>\n",
              "  </thead>\n",
              "  <tbody>\n",
              "    <tr>\n",
              "      <th>6</th>\n",
              "      <td>567377</td>\n",
              "      <td>5.0</td>\n",
              "      <td>5.0</td>\n",
              "      <td>NaN</td>\n",
              "      <td>NaN</td>\n",
              "      <td>NaN</td>\n",
              "      <td>NaN</td>\n",
              "      <td>5.0</td>\n",
              "      <td>5.0</td>\n",
              "      <td>i love these connector they take a lot of the hassle of splicing stereo wire together i am very glad i found these on amazon</td>\n",
              "    </tr>\n",
              "    <tr>\n",
              "      <th>10</th>\n",
              "      <td>494240</td>\n",
              "      <td>5.0</td>\n",
              "      <td>5.0</td>\n",
              "      <td>NaN</td>\n",
              "      <td>NaN</td>\n",
              "      <td>NaN</td>\n",
              "      <td>NaN</td>\n",
              "      <td>5.0</td>\n",
              "      <td>5.0</td>\n",
              "      <td>fast shipping great price</td>\n",
              "    </tr>\n",
              "    <tr>\n",
              "      <th>12</th>\n",
              "      <td>309913</td>\n",
              "      <td>1.0</td>\n",
              "      <td>1.0</td>\n",
              "      <td>NaN</td>\n",
              "      <td>NaN</td>\n",
              "      <td>1.0</td>\n",
              "      <td>1.0</td>\n",
              "      <td>1.0</td>\n",
              "      <td>1.0</td>\n",
              "      <td>did not fit the phone</td>\n",
              "    </tr>\n",
              "    <tr>\n",
              "      <th>14</th>\n",
              "      <td>333089</td>\n",
              "      <td>5.0</td>\n",
              "      <td>5.0</td>\n",
              "      <td>5.0</td>\n",
              "      <td>5.0</td>\n",
              "      <td>NaN</td>\n",
              "      <td>NaN</td>\n",
              "      <td>5.0</td>\n",
              "      <td>5.0</td>\n",
              "      <td>i love this case compact and efficient nice leather</td>\n",
              "    </tr>\n",
              "    <tr>\n",
              "      <th>15</th>\n",
              "      <td>450253</td>\n",
              "      <td>5.0</td>\n",
              "      <td>5.0</td>\n",
              "      <td>NaN</td>\n",
              "      <td>NaN</td>\n",
              "      <td>NaN</td>\n",
              "      <td>NaN</td>\n",
              "      <td>5.0</td>\n",
              "      <td>5.0</td>\n",
              "      <td>future project</td>\n",
              "    </tr>\n",
              "  </tbody>\n",
              "</table>\n",
              "</div>"
            ],
            "text/plain": [
              "    index_orig  ...                                                                                                                   review_body\n",
              "6       567377  ...  i love these connector they take a lot of the hassle of splicing stereo wire together i am very glad i found these on amazon\n",
              "10      494240  ...                                                                                                     fast shipping great price\n",
              "12      309913  ...                                                                                                         did not fit the phone\n",
              "14      333089  ...                                                                           i love this case compact and efficient nice leather\n",
              "15      450253  ...                                                                                                                future project\n",
              "\n",
              "[5 rows x 10 columns]"
            ]
          },
          "metadata": {
            "tags": []
          },
          "execution_count": 34
        }
      ]
    },
    {
      "cell_type": "markdown",
      "metadata": {
        "id": "SHpZVToTmFen",
        "colab_type": "text"
      },
      "source": [
        "* we have 2k 5-star samples that were in all runs"
      ]
    },
    {
      "cell_type": "code",
      "metadata": {
        "id": "d7Ksz-ONSUvN",
        "colab_type": "code",
        "outputId": "fd5780b4-d693-4e9c-b5ae-3e9edb77677f",
        "colab": {
          "base_uri": "https://localhost:8080/",
          "height": 34
        }
      },
      "source": [
        "results_comprehensive[(results_comprehensive.true_all == 5) &\n",
        "                      results_comprehensive.true_15.notnull() &\n",
        "                      results_comprehensive.true_145.notnull() &\n",
        "                      results_comprehensive.true_1345.notnull()].shape"
      ],
      "execution_count": 35,
      "outputs": [
        {
          "output_type": "execute_result",
          "data": {
            "text/plain": [
              "(1976, 10)"
            ]
          },
          "metadata": {
            "tags": []
          },
          "execution_count": 35
        }
      ]
    },
    {
      "cell_type": "markdown",
      "metadata": {
        "id": "JXOldI75mOr5",
        "colab_type": "text"
      },
      "source": [
        "* we have 2.6k 4-star samples that were in all relevant runs"
      ]
    },
    {
      "cell_type": "code",
      "metadata": {
        "id": "NwkwB6ZUSUoq",
        "colab_type": "code",
        "outputId": "3668d84f-fc8e-45fc-aafc-d5f480f078f1",
        "colab": {
          "base_uri": "https://localhost:8080/",
          "height": 34
        }
      },
      "source": [
        "results_comprehensive[(results_comprehensive.true_all == 4) &\n",
        "                      results_comprehensive.true_145.notnull() &\n",
        "                      results_comprehensive.true_1345.notnull()].shape"
      ],
      "execution_count": 36,
      "outputs": [
        {
          "output_type": "execute_result",
          "data": {
            "text/plain": [
              "(2583, 10)"
            ]
          },
          "metadata": {
            "tags": []
          },
          "execution_count": 36
        }
      ]
    },
    {
      "cell_type": "markdown",
      "metadata": {
        "id": "YGyTN7e8maF9",
        "colab_type": "text"
      },
      "source": [
        "* we have 5k 3-star samples that were in all relevant runs"
      ]
    },
    {
      "cell_type": "code",
      "metadata": {
        "id": "jfCLtJb1mWcB",
        "colab_type": "code",
        "outputId": "eb18baa9-df18-4084-8f9f-b517c1e917d7",
        "colab": {
          "base_uri": "https://localhost:8080/",
          "height": 34
        }
      },
      "source": [
        "results_comprehensive[(results_comprehensive.true_all == 3) &\n",
        "                      results_comprehensive.true_1345.notnull()].shape"
      ],
      "execution_count": 37,
      "outputs": [
        {
          "output_type": "execute_result",
          "data": {
            "text/plain": [
              "(5668, 10)"
            ]
          },
          "metadata": {
            "tags": []
          },
          "execution_count": 37
        }
      ]
    },
    {
      "cell_type": "code",
      "metadata": {
        "id": "aGSfqj-pmWZl",
        "colab_type": "code",
        "colab": {}
      },
      "source": [
        ""
      ],
      "execution_count": 0,
      "outputs": []
    },
    {
      "cell_type": "code",
      "metadata": {
        "id": "LZmuMENQmWVQ",
        "colab_type": "code",
        "colab": {}
      },
      "source": [
        ""
      ],
      "execution_count": 0,
      "outputs": []
    },
    {
      "cell_type": "code",
      "metadata": {
        "id": "yZ1cpXDySUlj",
        "colab_type": "code",
        "colab": {}
      },
      "source": [
        ""
      ],
      "execution_count": 0,
      "outputs": []
    },
    {
      "cell_type": "markdown",
      "metadata": {
        "id": "LQCj4842mky3",
        "colab_type": "text"
      },
      "source": [
        "# Testing specifically what the model is doing"
      ]
    },
    {
      "cell_type": "code",
      "metadata": {
        "id": "HSDsTPBz80vS",
        "colab_type": "code",
        "outputId": "04e4e849-1f2c-4f41-fb86-31dd0f8cf389",
        "colab": {
          "base_uri": "https://localhost:8080/",
          "height": 1000
        }
      },
      "source": [
        "results_comprehensive[(results_comprehensive.true_145 == 4) & (results_comprehensive.predict_145 == 5)].head(20)"
      ],
      "execution_count": 38,
      "outputs": [
        {
          "output_type": "execute_result",
          "data": {
            "text/html": [
              "<div>\n",
              "<style scoped>\n",
              "    .dataframe tbody tr th:only-of-type {\n",
              "        vertical-align: middle;\n",
              "    }\n",
              "\n",
              "    .dataframe tbody tr th {\n",
              "        vertical-align: top;\n",
              "    }\n",
              "\n",
              "    .dataframe thead th {\n",
              "        text-align: right;\n",
              "    }\n",
              "</style>\n",
              "<table border=\"1\" class=\"dataframe\">\n",
              "  <thead>\n",
              "    <tr style=\"text-align: right;\">\n",
              "      <th></th>\n",
              "      <th>index_orig</th>\n",
              "      <th>true_15</th>\n",
              "      <th>predict_15</th>\n",
              "      <th>true_145</th>\n",
              "      <th>predict_145</th>\n",
              "      <th>true_1345</th>\n",
              "      <th>predict_1345</th>\n",
              "      <th>true_all</th>\n",
              "      <th>predict_all</th>\n",
              "      <th>review_body</th>\n",
              "    </tr>\n",
              "  </thead>\n",
              "  <tbody>\n",
              "    <tr>\n",
              "      <th>168801</th>\n",
              "      <td>783777</td>\n",
              "      <td>NaN</td>\n",
              "      <td>NaN</td>\n",
              "      <td>4.0</td>\n",
              "      <td>5.0</td>\n",
              "      <td>NaN</td>\n",
              "      <td>NaN</td>\n",
              "      <td>4.0</td>\n",
              "      <td>5.0</td>\n",
              "      <td>bought this case for my i phone 4 and it fit perfect it keep my phone from getting scratch it is durable</td>\n",
              "    </tr>\n",
              "    <tr>\n",
              "      <th>168804</th>\n",
              "      <td>280042</td>\n",
              "      <td>NaN</td>\n",
              "      <td>NaN</td>\n",
              "      <td>4.0</td>\n",
              "      <td>5.0</td>\n",
              "      <td>4.0</td>\n",
              "      <td>5.0</td>\n",
              "      <td>4.0</td>\n",
              "      <td>5.0</td>\n",
              "      <td>great for phone</td>\n",
              "    </tr>\n",
              "    <tr>\n",
              "      <th>168822</th>\n",
              "      <td>623423</td>\n",
              "      <td>NaN</td>\n",
              "      <td>NaN</td>\n",
              "      <td>4.0</td>\n",
              "      <td>5.0</td>\n",
              "      <td>NaN</td>\n",
              "      <td>NaN</td>\n",
              "      <td>4.0</td>\n",
              "      <td>5.0</td>\n",
              "      <td>this battery is amazing can not kill it all day now no matter what i do back cover is not perfect but it is not a bad a everyone here clai am the only problem i had is that the power button wa being constantly pressed i had to fix that myself other than that best 7 spend ever finally i can actua...</td>\n",
              "    </tr>\n",
              "    <tr>\n",
              "      <th>168825</th>\n",
              "      <td>345057</td>\n",
              "      <td>NaN</td>\n",
              "      <td>NaN</td>\n",
              "      <td>4.0</td>\n",
              "      <td>5.0</td>\n",
              "      <td>NaN</td>\n",
              "      <td>NaN</td>\n",
              "      <td>4.0</td>\n",
              "      <td>5.0</td>\n",
              "      <td>work well grandson very pleased with product exceeds expectation</td>\n",
              "    </tr>\n",
              "    <tr>\n",
              "      <th>168839</th>\n",
              "      <td>876180</td>\n",
              "      <td>NaN</td>\n",
              "      <td>NaN</td>\n",
              "      <td>4.0</td>\n",
              "      <td>5.0</td>\n",
              "      <td>NaN</td>\n",
              "      <td>NaN</td>\n",
              "      <td>4.0</td>\n",
              "      <td>5.0</td>\n",
              "      <td>love this case for my droid razr just wish itcame in another color besides black and pink also amazon ha best price for this case would definitely recommend this purchase</td>\n",
              "    </tr>\n",
              "    <tr>\n",
              "      <th>168881</th>\n",
              "      <td>688382</td>\n",
              "      <td>NaN</td>\n",
              "      <td>NaN</td>\n",
              "      <td>4.0</td>\n",
              "      <td>5.0</td>\n",
              "      <td>NaN</td>\n",
              "      <td>NaN</td>\n",
              "      <td>4.0</td>\n",
              "      <td>5.0</td>\n",
              "      <td>i have had my phone for year and the battery would not stay charged i could not find a battery near me and wa happy i wa able to get a new one at such a low price work great so far</td>\n",
              "    </tr>\n",
              "    <tr>\n",
              "      <th>168900</th>\n",
              "      <td>370874</td>\n",
              "      <td>NaN</td>\n",
              "      <td>NaN</td>\n",
              "      <td>4.0</td>\n",
              "      <td>5.0</td>\n",
              "      <td>4.0</td>\n",
              "      <td>3.0</td>\n",
              "      <td>4.0</td>\n",
              "      <td>4.0</td>\n",
              "      <td>when i transferred my day minute from a non smartphone tracfone i also got pot of text and data mb a nice bonus it is also nice that it come with a storage card installed it ha been pretty reliable snappy websurfing on either wifi or i also installed a few apps from google play without problem b...</td>\n",
              "    </tr>\n",
              "    <tr>\n",
              "      <th>168904</th>\n",
              "      <td>740083</td>\n",
              "      <td>NaN</td>\n",
              "      <td>NaN</td>\n",
              "      <td>4.0</td>\n",
              "      <td>5.0</td>\n",
              "      <td>NaN</td>\n",
              "      <td>NaN</td>\n",
              "      <td>4.0</td>\n",
              "      <td>5.0</td>\n",
              "      <td>these are wonderful case 5 in 1 you can even match them your outfit at a good price a well</td>\n",
              "    </tr>\n",
              "    <tr>\n",
              "      <th>168919</th>\n",
              "      <td>303307</td>\n",
              "      <td>NaN</td>\n",
              "      <td>NaN</td>\n",
              "      <td>4.0</td>\n",
              "      <td>5.0</td>\n",
              "      <td>NaN</td>\n",
              "      <td>NaN</td>\n",
              "      <td>4.0</td>\n",
              "      <td>5.0</td>\n",
              "      <td>bought for my momma defiantly be buying in a different color</td>\n",
              "    </tr>\n",
              "    <tr>\n",
              "      <th>168949</th>\n",
              "      <td>626852</td>\n",
              "      <td>NaN</td>\n",
              "      <td>NaN</td>\n",
              "      <td>4.0</td>\n",
              "      <td>5.0</td>\n",
              "      <td>NaN</td>\n",
              "      <td>NaN</td>\n",
              "      <td>4.0</td>\n",
              "      <td>5.0</td>\n",
              "      <td>after my cat swatted the fone into a cup of water the battery dy shortly after that this is a nice replacement and seems to last a long ti ame thank goodness the fone survived</td>\n",
              "    </tr>\n",
              "    <tr>\n",
              "      <th>169007</th>\n",
              "      <td>548011</td>\n",
              "      <td>NaN</td>\n",
              "      <td>NaN</td>\n",
              "      <td>4.0</td>\n",
              "      <td>5.0</td>\n",
              "      <td>4.0</td>\n",
              "      <td>5.0</td>\n",
              "      <td>4.0</td>\n",
              "      <td>5.0</td>\n",
              "      <td>high output sound clear vocal responsive no complaint rome from milwaukee wi got the speaker coming in a couple say</td>\n",
              "    </tr>\n",
              "    <tr>\n",
              "      <th>169052</th>\n",
              "      <td>996536</td>\n",
              "      <td>NaN</td>\n",
              "      <td>NaN</td>\n",
              "      <td>4.0</td>\n",
              "      <td>5.0</td>\n",
              "      <td>4.0</td>\n",
              "      <td>5.0</td>\n",
              "      <td>4.0</td>\n",
              "      <td>5.0</td>\n",
              "      <td>get this phone unlocked and use on t mobile reception on is excellent comaprable with original n gage voice is good both from phone itself and bt headset bluetooth is reliable no problem with dell axi am like nokia but the gprs setting ha some problem that you may have headache if you have more ...</td>\n",
              "    </tr>\n",
              "    <tr>\n",
              "      <th>169130</th>\n",
              "      <td>166546</td>\n",
              "      <td>NaN</td>\n",
              "      <td>NaN</td>\n",
              "      <td>4.0</td>\n",
              "      <td>5.0</td>\n",
              "      <td>NaN</td>\n",
              "      <td>NaN</td>\n",
              "      <td>4.0</td>\n",
              "      <td>5.0</td>\n",
              "      <td>fast ship decent functional case great for when your grocery shopping or just shopping in general did not give it a 5 because i did not feel like the magnet wa strong enough to completely keep my phone secure so i added a small piece of double sided velcro for extra measure just to make sure my ...</td>\n",
              "    </tr>\n",
              "    <tr>\n",
              "      <th>169169</th>\n",
              "      <td>100345</td>\n",
              "      <td>NaN</td>\n",
              "      <td>NaN</td>\n",
              "      <td>4.0</td>\n",
              "      <td>5.0</td>\n",
              "      <td>4.0</td>\n",
              "      <td>5.0</td>\n",
              "      <td>4.0</td>\n",
              "      <td>5.0</td>\n",
              "      <td>this phone come unlocked</td>\n",
              "    </tr>\n",
              "    <tr>\n",
              "      <th>169171</th>\n",
              "      <td>817671</td>\n",
              "      <td>NaN</td>\n",
              "      <td>NaN</td>\n",
              "      <td>4.0</td>\n",
              "      <td>5.0</td>\n",
              "      <td>NaN</td>\n",
              "      <td>NaN</td>\n",
              "      <td>4.0</td>\n",
              "      <td>5.0</td>\n",
              "      <td>i gave this to my mom who work construction so far it ha stood up to her ruthless throwing and dropping</td>\n",
              "    </tr>\n",
              "    <tr>\n",
              "      <th>169177</th>\n",
              "      <td>880026</td>\n",
              "      <td>NaN</td>\n",
              "      <td>NaN</td>\n",
              "      <td>4.0</td>\n",
              "      <td>5.0</td>\n",
              "      <td>NaN</td>\n",
              "      <td>NaN</td>\n",
              "      <td>4.0</td>\n",
              "      <td>5.0</td>\n",
              "      <td>these are high quality screen protector i can not complain about the price either i will have plenty of them for a while to come</td>\n",
              "    </tr>\n",
              "    <tr>\n",
              "      <th>169178</th>\n",
              "      <td>106354</td>\n",
              "      <td>NaN</td>\n",
              "      <td>NaN</td>\n",
              "      <td>4.0</td>\n",
              "      <td>5.0</td>\n",
              "      <td>NaN</td>\n",
              "      <td>NaN</td>\n",
              "      <td>4.0</td>\n",
              "      <td>5.0</td>\n",
              "      <td>nice product doe the job</td>\n",
              "    </tr>\n",
              "    <tr>\n",
              "      <th>169209</th>\n",
              "      <td>122134</td>\n",
              "      <td>NaN</td>\n",
              "      <td>NaN</td>\n",
              "      <td>4.0</td>\n",
              "      <td>5.0</td>\n",
              "      <td>NaN</td>\n",
              "      <td>NaN</td>\n",
              "      <td>4.0</td>\n",
              "      <td>5.0</td>\n",
              "      <td>i like</td>\n",
              "    </tr>\n",
              "    <tr>\n",
              "      <th>169269</th>\n",
              "      <td>500739</td>\n",
              "      <td>NaN</td>\n",
              "      <td>NaN</td>\n",
              "      <td>4.0</td>\n",
              "      <td>5.0</td>\n",
              "      <td>NaN</td>\n",
              "      <td>NaN</td>\n",
              "      <td>4.0</td>\n",
              "      <td>5.0</td>\n",
              "      <td>went on easily doe the job when i am out in the sun</td>\n",
              "    </tr>\n",
              "    <tr>\n",
              "      <th>169311</th>\n",
              "      <td>253104</td>\n",
              "      <td>NaN</td>\n",
              "      <td>NaN</td>\n",
              "      <td>4.0</td>\n",
              "      <td>5.0</td>\n",
              "      <td>NaN</td>\n",
              "      <td>NaN</td>\n",
              "      <td>4.0</td>\n",
              "      <td>5.0</td>\n",
              "      <td>we like charger</td>\n",
              "    </tr>\n",
              "  </tbody>\n",
              "</table>\n",
              "</div>"
            ],
            "text/plain": [
              "        index_orig  ...                                                                                                                                                                                                                                                                                                  review_body\n",
              "168801      783777  ...                                                                                                                                                                                                     bought this case for my i phone 4 and it fit perfect it keep my phone from getting scratch it is durable\n",
              "168804      280042  ...                                                                                                                                                                                                                                                                                              great for phone\n",
              "168822      623423  ...  this battery is amazing can not kill it all day now no matter what i do back cover is not perfect but it is not a bad a everyone here clai am the only problem i had is that the power button wa being constantly pressed i had to fix that myself other than that best 7 spend ever finally i can actua...\n",
              "168825      345057  ...                                                                                                                                                                                                                                             work well grandson very pleased with product exceeds expectation\n",
              "168839      876180  ...                                                                                                                                   love this case for my droid razr just wish itcame in another color besides black and pink also amazon ha best price for this case would definitely recommend this purchase\n",
              "168881      688382  ...                                                                                                                         i have had my phone for year and the battery would not stay charged i could not find a battery near me and wa happy i wa able to get a new one at such a low price work great so far\n",
              "168900      370874  ...  when i transferred my day minute from a non smartphone tracfone i also got pot of text and data mb a nice bonus it is also nice that it come with a storage card installed it ha been pretty reliable snappy websurfing on either wifi or i also installed a few apps from google play without problem b...\n",
              "168904      740083  ...                                                                                                                                                                                                                   these are wonderful case 5 in 1 you can even match them your outfit at a good price a well\n",
              "168919      303307  ...                                                                                                                                                                                                                                                 bought for my momma defiantly be buying in a different color\n",
              "168949      626852  ...                                                                                                                              after my cat swatted the fone into a cup of water the battery dy shortly after that this is a nice replacement and seems to last a long ti ame thank goodness the fone survived\n",
              "169007      548011  ...                                                                                                                                                                                          high output sound clear vocal responsive no complaint rome from milwaukee wi got the speaker coming in a couple say\n",
              "169052      996536  ...  get this phone unlocked and use on t mobile reception on is excellent comaprable with original n gage voice is good both from phone itself and bt headset bluetooth is reliable no problem with dell axi am like nokia but the gprs setting ha some problem that you may have headache if you have more ...\n",
              "169130      166546  ...  fast ship decent functional case great for when your grocery shopping or just shopping in general did not give it a 5 because i did not feel like the magnet wa strong enough to completely keep my phone secure so i added a small piece of double sided velcro for extra measure just to make sure my ...\n",
              "169169      100345  ...                                                                                                                                                                                                                                                                                     this phone come unlocked\n",
              "169171      817671  ...                                                                                                                                                                                                      i gave this to my mom who work construction so far it ha stood up to her ruthless throwing and dropping\n",
              "169177      880026  ...                                                                                                                                                                             these are high quality screen protector i can not complain about the price either i will have plenty of them for a while to come\n",
              "169178      106354  ...                                                                                                                                                                                                                                                                                     nice product doe the job\n",
              "169209      122134  ...                                                                                                                                                                                                                                                                                                       i like\n",
              "169269      500739  ...                                                                                                                                                                                                                                                          went on easily doe the job when i am out in the sun\n",
              "169311      253104  ...                                                                                                                                                                                                                                                                                              we like charger\n",
              "\n",
              "[20 rows x 10 columns]"
            ]
          },
          "metadata": {
            "tags": []
          },
          "execution_count": 38
        }
      ]
    },
    {
      "cell_type": "code",
      "metadata": {
        "id": "s19meate2O6w",
        "colab_type": "code",
        "colab": {
          "base_uri": "https://localhost:8080/",
          "height": 190
        },
        "outputId": "3684c604-cb5f-4cbd-fb7d-a15ebe68aaf6"
      },
      "source": [
        "review_temp = ['this is a really good product']\n",
        "\n",
        "_, y_predict_temp, y_predict_unencoded_temp = load_and_predict(lstm_145, review_temp)\n",
        "\n",
        "\n",
        "\n",
        "print(y_predict_temp)\n",
        "print(y_predict_unencoded_temp)"
      ],
      "execution_count": 39,
      "outputs": [
        {
          "output_type": "stream",
          "text": [
            "Loading tokenizer file: drive/My Drive/Springboard/capstone/models/LSTMB16_145-1x16-glove_with_stop-sampling_none-841233-100-star_rating-tokenizer.pkl\n",
            "Vocabulary size=98360\n",
            "Number of Documents=630924\n",
            "Test review vectors shape: (1, 100)\n",
            "Loading model file: drive/My Drive/Springboard/capstone/models/LSTMB16_145-1x16-glove_with_stop-sampling_none-841233-100-star_rating-model.h5\n",
            "Predicting test set...\n",
            "Unencoding predictions...\n",
            "[[6.9829519e-04 1.7275687e-01 8.2654476e-01]]\n",
            "[3]\n"
          ],
          "name": "stdout"
        }
      ]
    },
    {
      "cell_type": "code",
      "metadata": {
        "id": "iL1RWOjod8p3",
        "colab_type": "code",
        "colab": {}
      },
      "source": [
        ""
      ],
      "execution_count": 0,
      "outputs": []
    },
    {
      "cell_type": "code",
      "metadata": {
        "id": "PfYqzih2SNLp",
        "colab_type": "code",
        "colab": {}
      },
      "source": [
        ""
      ],
      "execution_count": 0,
      "outputs": []
    },
    {
      "cell_type": "code",
      "metadata": {
        "id": "oDUdvk7ASNGU",
        "colab_type": "code",
        "colab": {}
      },
      "source": [
        ""
      ],
      "execution_count": 0,
      "outputs": []
    },
    {
      "cell_type": "code",
      "metadata": {
        "id": "2c_R01EmSNDg",
        "colab_type": "code",
        "colab": {}
      },
      "source": [
        ""
      ],
      "execution_count": 0,
      "outputs": []
    },
    {
      "cell_type": "code",
      "metadata": {
        "id": "tD4cNEz4SM_s",
        "colab_type": "code",
        "colab": {}
      },
      "source": [
        ""
      ],
      "execution_count": 0,
      "outputs": []
    },
    {
      "cell_type": "code",
      "metadata": {
        "id": "aDLCky9zSM4f",
        "colab_type": "code",
        "colab": {}
      },
      "source": [
        ""
      ],
      "execution_count": 0,
      "outputs": []
    },
    {
      "cell_type": "code",
      "metadata": {
        "id": "2iDVXz-RSMug",
        "colab_type": "code",
        "colab": {}
      },
      "source": [
        ""
      ],
      "execution_count": 0,
      "outputs": []
    },
    {
      "cell_type": "code",
      "metadata": {
        "id": "S_I2KgkWd8mL",
        "colab_type": "code",
        "colab": {
          "base_uri": "https://localhost:8080/",
          "height": 34
        },
        "outputId": "661691bb-b59d-48ea-c6b1-22feec090d82"
      },
      "source": [
        "print(datetime.now())"
      ],
      "execution_count": 40,
      "outputs": [
        {
          "output_type": "stream",
          "text": [
            "2020-02-22 22:19:28.756672\n"
          ],
          "name": "stdout"
        }
      ]
    }
  ]
}