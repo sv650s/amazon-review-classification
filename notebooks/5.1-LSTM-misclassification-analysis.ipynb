{
  "nbformat": 4,
  "nbformat_minor": 0,
  "metadata": {
    "colab": {
      "name": "5.1-LSTM-misclassification-analysis.ipynb",
      "provenance": [],
      "authorship_tag": "ABX9TyMjYo5MRMYqFuaUwDg0kyiQ",
      "include_colab_link": true
    },
    "kernelspec": {
      "name": "python3",
      "display_name": "Python 3"
    }
  },
  "cells": [
    {
      "cell_type": "markdown",
      "metadata": {
        "id": "view-in-github",
        "colab_type": "text"
      },
      "source": [
        "<a href=\"https://colab.research.google.com/github/sv650s/amazon-review-classification/blob/master/notebooks/5.1-LSTM-misclassification-analysis.ipynb\" target=\"_parent\"><img src=\"https://colab.research.google.com/assets/colab-badge.svg\" alt=\"Open In Colab\"/></a>"
      ]
    },
    {
      "cell_type": "markdown",
      "metadata": {
        "id": "CXa4QqXuMoIp",
        "colab_type": "text"
      },
      "source": [
        "# Miscategorized Reviews by LSTM\n",
        "\n",
        "In previous notebooks, we filtered and trained LSTM network with 16 nodes based on original sample size of 1 million samples\n",
        "\n",
        "Variations that we ran:\n",
        "\n",
        "* 1-star and 5-star reviews only\n",
        "* 1-star, 4-star, 5-star reviews only\n",
        "* 1-star, 3-star, 4-star, 5-star reviews only\n",
        "* All reviews\n",
        "\n",
        "In this notebook, we will look at the model performance as well as look at specific reviews that were miscategorized"
      ]
    },
    {
      "cell_type": "code",
      "metadata": {
        "id": "1hrLATotMjpw",
        "colab_type": "code",
        "colab": {
          "base_uri": "https://localhost:8080/",
          "height": 154
        },
        "outputId": "6ccd5fa5-6ef5-4079-e024-3515a8985ae3"
      },
      "source": [
        "from google.colab import drive\n",
        "drive.mount('/content/drive')\n",
        "\n",
        "import sys\n",
        "DRIVE_DIR = \"drive/My Drive/Springboard/capstone\"\n",
        "sys.path.append(DRIVE_DIR)\n",
        "\n",
        "\n",
        "%tensorflow_version 2.x\n",
        "\n",
        "\n",
        "import tensorflow as tf\n",
        "# checl to make sure we are using GPU here\n",
        "tf.test.gpu_device_name()"
      ],
      "execution_count": 1,
      "outputs": [
        {
          "output_type": "stream",
          "text": [
            "Go to this URL in a browser: https://accounts.google.com/o/oauth2/auth?client_id=947318989803-6bn6qk8qdgf4n4g3pfee6491hc0brc4i.apps.googleusercontent.com&redirect_uri=urn%3aietf%3awg%3aoauth%3a2.0%3aoob&response_type=code&scope=email%20https%3a%2f%2fwww.googleapis.com%2fauth%2fdocs.test%20https%3a%2f%2fwww.googleapis.com%2fauth%2fdrive%20https%3a%2f%2fwww.googleapis.com%2fauth%2fdrive.photos.readonly%20https%3a%2f%2fwww.googleapis.com%2fauth%2fpeopleapi.readonly\n",
            "\n",
            "Enter your authorization code:\n",
            "··········\n",
            "Mounted at /content/drive\n",
            "TensorFlow 2.x selected.\n"
          ],
          "name": "stdout"
        },
        {
          "output_type": "execute_result",
          "data": {
            "text/plain": [
              "''"
            ]
          },
          "metadata": {
            "tags": []
          },
          "execution_count": 1
        }
      ]
    },
    {
      "cell_type": "code",
      "metadata": {
        "id": "HMXUREP8NuoH",
        "colab_type": "code",
        "colab": {}
      },
      "source": [
        "from __future__ import absolute_import, division, print_function, unicode_literals\n",
        "\n",
        "\n",
        "from tensorflow.keras.models import Sequential\n",
        "from tensorflow.keras.layers import Dense, Activation, Dropout\n",
        "from tensorflow.keras.layers import BatchNormalization\n",
        "from tensorflow.keras.callbacks import EarlyStopping, ReduceLROnPlateau\n",
        "from tensorflow.keras.models import load_model\n",
        "from tensorflow.keras.optimizers import SGD\n",
        "from tensorflow.keras.layers import Conv1D, MaxPooling1D, Embedding, \\\n",
        "    SpatialDropout1D, Flatten, LSTM\n",
        "from tensorflow.keras.preprocessing.text import Tokenizer\n",
        "from tensorflow.keras.preprocessing import sequence\n",
        "from tensorflow.keras.utils import model_to_dot\n",
        "from tensorflow.keras.initializers import Constant\n",
        "\n",
        "\n",
        "from sklearn.model_selection import train_test_split\n",
        "from sklearn.preprocessing import OneHotEncoder\n",
        "from sklearn.preprocessing import LabelEncoder\n",
        "from sklearn.metrics import confusion_matrix, classification_report\n",
        "from sklearn.utils.class_weight import compute_class_weight\n",
        "\n",
        "\n",
        "import pandas as pd\n",
        "import numpy as np\n",
        "from IPython.display import SVG\n",
        "import pickle\n",
        "from datetime import datetime\n",
        "import matplotlib.pyplot as plt\n",
        "import seaborn as sns\n",
        "import os\n",
        "import logging\n",
        "import json\n",
        "from pprint import pprint\n",
        "\n",
        "\n",
        "import util.dict_util as du\n",
        "import util.plot_util as pu\n",
        "import util.file_util as fu\n",
        "import util.keras_util as ku\n",
        "import util.report_util as ru\n",
        "\n",
        "import random\n",
        "\n",
        "# fix random seeds\n",
        "tf.compat.v1.reset_default_graph()\n",
        "tf.compat.v1.set_random_seed(1)\n",
        "random.seed(1)\n",
        "np.random.seed(1)\n",
        "\n",
        "logging.basicConfig(level=logging.ERROR)\n",
        "\n",
        "%matplotlib inline\n",
        "sns.set(font_scale=1.5)\n",
        "\n",
        "\n",
        "DATE_FORMAT = '%Y-%m-%d'\n",
        "TIME_FORMAT = '%Y-%m-%d %H:%M:%S'\n",
        "LABEL_COLUMN = \"star_rating\"\n",
        "REVIEW_COLUMN = \"review_body\"\n",
        "\n",
        "\n",
        "DEBUG = False\n",
        "\n",
        "\n",
        "REPORT_FILE = f'{DRIVE_DIR}/reports/glove_embedding-dl_prototype-report.csv'\n",
        "\n",
        "\n"
      ],
      "execution_count": 0,
      "outputs": []
    },
    {
      "cell_type": "markdown",
      "metadata": {
        "id": "a0dyvGOhQQEI",
        "colab_type": "text"
      },
      "source": [
        "Read in report file"
      ]
    },
    {
      "cell_type": "code",
      "metadata": {
        "id": "DMIo50QGOEvA",
        "colab_type": "code",
        "colab": {}
      },
      "source": [
        "report = pd.read_csv(REPORT_FILE, quotechar=\"'\")\n",
        "report[\"train_examples\"] = report.train_examples.astype(int)\n",
        "# 1-star and 5-star only\n",
        "lstm_15 = report[(report.model_name == \"LSTMB16_15\") & (report.train_examples == 505410)].copy().reset_index()\n",
        "# 1-star, 4-star, and 5-star\n",
        "lstm_145 = report[report.model_name == \"LSTMB16_145\"].copy().reset_index()\n",
        "# 1-star, 3-star, 4-star, and 5-star\n",
        "lstm_1345 = report[report.model_name == \"LSTMB16_1345\"].copy().reset_index()\n",
        "# all reviews\n",
        "lstm_all = report[(report.model_name == \"LSTMB16\") & (report.train_examples == 746766)].copy().reset_index()\n",
        "\n",
        "data_file = lstm_15.file.values[0]"
      ],
      "execution_count": 0,
      "outputs": []
    },
    {
      "cell_type": "markdown",
      "metadata": {
        "id": "91NObLfmQa0w",
        "colab_type": "text"
      },
      "source": [
        "# Classification Report For Various Runs\n",
        "\n",
        "Fix Classification Report so they display the proper categories"
      ]
    },
    {
      "cell_type": "code",
      "metadata": {
        "id": "bQGnn1PJQakq",
        "colab_type": "code",
        "colab": {}
      },
      "source": [
        "# map 2->5\n",
        "cr15 = json.loads(lstm_15.classification_report.values[0])\n",
        "cr15[\"5\"] = cr15.pop(\"2\")\n",
        "lstm_15.loc[lstm_15.index, \"classification_report\"] = json.dumps(cr15)\n",
        "\n",
        "# map 3->5, 2->4\n",
        "cr145 = json.loads(lstm_145.classification_report.values[0])\n",
        "cr145[\"5\"] = cr145.pop(\"3\")\n",
        "cr145[\"4\"] = cr145.pop(\"2\")\n",
        "lstm_145.loc[lstm_145.index, \"classification_report\"] = json.dumps(cr145)\n",
        "\n",
        "# map 4->5, 3->4, 2->3\n",
        "cr1345 = json.loads(lstm_1345.classification_report.values[0])\n",
        "cr1345[\"5\"] = cr1345.pop(\"4\")\n",
        "cr1345[\"4\"] = cr1345.pop(\"3\")\n",
        "cr1345[\"3\"] = cr1345.pop(\"2\")\n",
        "lstm_1345.loc[lstm_1345.index, \"classification_report\"] = json.dumps(cr1345)\n",
        "\n"
      ],
      "execution_count": 0,
      "outputs": []
    },
    {
      "cell_type": "code",
      "metadata": {
        "id": "G7A-nLuyWAjL",
        "colab_type": "code",
        "colab": {
          "base_uri": "https://localhost:8080/",
          "height": 438
        },
        "outputId": "d3cc84c2-28cd-4728-ca5c-0fd77b24d236"
      },
      "source": [
        "report_all = pd.DataFrame()\n",
        "report_all = report_all.append(lstm_15)\n",
        "report_all = report_all.append(lstm_145)\n",
        "report_all = report_all.append(lstm_1345)\n",
        "report_all = report_all.append(lstm_all)\n",
        "report_all = ru.convert_dnn_report_format(report_all)"
      ],
      "execution_count": 78,
      "outputs": [
        {
          "output_type": "execute_result",
          "data": {
            "text/html": [
              "<div>\n",
              "<style scoped>\n",
              "    .dataframe tbody tr th:only-of-type {\n",
              "        vertical-align: middle;\n",
              "    }\n",
              "\n",
              "    .dataframe tbody tr th {\n",
              "        vertical-align: top;\n",
              "    }\n",
              "\n",
              "    .dataframe thead th {\n",
              "        text-align: right;\n",
              "    }\n",
              "</style>\n",
              "<table border=\"1\" class=\"dataframe\">\n",
              "  <thead>\n",
              "    <tr style=\"text-align: right;\">\n",
              "      <th></th>\n",
              "      <th>1_f1-score</th>\n",
              "      <th>1_precision</th>\n",
              "      <th>1_recall</th>\n",
              "      <th>1_support</th>\n",
              "      <th>5_f1-score</th>\n",
              "      <th>5_precision</th>\n",
              "      <th>5_recall</th>\n",
              "      <th>5_support</th>\n",
              "      <th>accuracy</th>\n",
              "      <th>architecture</th>\n",
              "      <th>batch_size</th>\n",
              "      <th>class_weight</th>\n",
              "      <th>classification_report</th>\n",
              "      <th>confusion_matrix</th>\n",
              "      <th>description</th>\n",
              "      <th>embedding</th>\n",
              "      <th>epochs</th>\n",
              "      <th>evaluate_time_min</th>\n",
              "      <th>feature_set_name</th>\n",
              "      <th>file</th>\n",
              "      <th>index</th>\n",
              "      <th>loss</th>\n",
              "      <th>macro avg_f1-score</th>\n",
              "      <th>macro avg_precision</th>\n",
              "      <th>macro avg_recall</th>\n",
              "      <th>macro avg_support</th>\n",
              "      <th>max_sequence_length</th>\n",
              "      <th>model_file</th>\n",
              "      <th>model_json_file</th>\n",
              "      <th>model_name</th>\n",
              "      <th>network_history_file</th>\n",
              "      <th>predict_time_min</th>\n",
              "      <th>roc_auc</th>\n",
              "      <th>sampling_type</th>\n",
              "      <th>status</th>\n",
              "      <th>status_date</th>\n",
              "      <th>test_examples</th>\n",
              "      <th>test_features</th>\n",
              "      <th>tokenizer_file</th>\n",
              "      <th>train_examples</th>\n",
              "      <th>train_features</th>\n",
              "      <th>train_time_min</th>\n",
              "      <th>weighted avg_f1-score</th>\n",
              "      <th>weighted avg_precision</th>\n",
              "      <th>weighted avg_recall</th>\n",
              "      <th>weighted avg_support</th>\n",
              "      <th>weights_file</th>\n",
              "      <th>4_f1-score</th>\n",
              "      <th>4_precision</th>\n",
              "      <th>4_recall</th>\n",
              "      <th>4_support</th>\n",
              "      <th>3_f1-score</th>\n",
              "      <th>3_precision</th>\n",
              "      <th>3_recall</th>\n",
              "      <th>3_support</th>\n",
              "      <th>2_f1-score</th>\n",
              "      <th>2_precision</th>\n",
              "      <th>2_recall</th>\n",
              "      <th>2_support</th>\n",
              "    </tr>\n",
              "  </thead>\n",
              "  <tbody>\n",
              "    <tr>\n",
              "      <th>0</th>\n",
              "      <td>0.925178</td>\n",
              "      <td>0.930437</td>\n",
              "      <td>0.919978</td>\n",
              "      <td>35053.0</td>\n",
              "      <td>0.980481</td>\n",
              "      <td>0.979038</td>\n",
              "      <td>0.981929</td>\n",
              "      <td>133418.0</td>\n",
              "      <td>0.969039</td>\n",
              "      <td>1x16</td>\n",
              "      <td>128.0</td>\n",
              "      <td>[2.4074572904534963, 0.6310645335291165]</td>\n",
              "      <td>{\"1\": {\"precision\": 0.9304365388499379, \"recal...</td>\n",
              "      <td>[[32248, 2805], [2411, 131007]]</td>\n",
              "      <td>1 Layer 16 (1 and 5 star rating only) LSTM Uni...</td>\n",
              "      <td>300.0</td>\n",
              "      <td>13.0</td>\n",
              "      <td>0.61</td>\n",
              "      <td>glove</td>\n",
              "      <td>drive/My Drive/Springboard/capstone/data/amazo...</td>\n",
              "      <td>7.0</td>\n",
              "      <td>0.087616</td>\n",
              "      <td>0.952830</td>\n",
              "      <td>0.954737</td>\n",
              "      <td>0.950954</td>\n",
              "      <td>168471.0</td>\n",
              "      <td>100.0</td>\n",
              "      <td>drive/My Drive/Springboard/capstone/models/LST...</td>\n",
              "      <td>drive/My Drive/Springboard/capstone/models/LST...</td>\n",
              "      <td>LSTMB16_15</td>\n",
              "      <td>drive/My Drive/Springboard/capstone/reports/LS...</td>\n",
              "      <td>0.42</td>\n",
              "      <td>{\"auc_1\": 0.991486317237537, \"auc_2\": 0.991486...</td>\n",
              "      <td>none</td>\n",
              "      <td>success</td>\n",
              "      <td>2020-02-14 08:44:07</td>\n",
              "      <td>168471.0</td>\n",
              "      <td>100.0</td>\n",
              "      <td>drive/My Drive/Springboard/capstone/models/LST...</td>\n",
              "      <td>505410.0</td>\n",
              "      <td>100.0</td>\n",
              "      <td>10.72</td>\n",
              "      <td>0.968975</td>\n",
              "      <td>0.968926</td>\n",
              "      <td>0.969039</td>\n",
              "      <td>168471.0</td>\n",
              "      <td>drive/My Drive/Springboard/capstone/models/LST...</td>\n",
              "      <td>NaN</td>\n",
              "      <td>NaN</td>\n",
              "      <td>NaN</td>\n",
              "      <td>NaN</td>\n",
              "      <td>NaN</td>\n",
              "      <td>NaN</td>\n",
              "      <td>NaN</td>\n",
              "      <td>NaN</td>\n",
              "      <td>NaN</td>\n",
              "      <td>NaN</td>\n",
              "      <td>NaN</td>\n",
              "      <td>NaN</td>\n",
              "    </tr>\n",
              "    <tr>\n",
              "      <th>1</th>\n",
              "      <td>0.894772</td>\n",
              "      <td>0.883377</td>\n",
              "      <td>0.906466</td>\n",
              "      <td>35046.0</td>\n",
              "      <td>0.875201</td>\n",
              "      <td>0.825150</td>\n",
              "      <td>0.931715</td>\n",
              "      <td>133353.0</td>\n",
              "      <td>0.814682</td>\n",
              "      <td>1x16</td>\n",
              "      <td>128.0</td>\n",
              "      <td>[2.0001643361889725, 1.687078888688001, 0.5243...</td>\n",
              "      <td>{\"1\": {\"precision\": 0.8833768978366053, \"recal...</td>\n",
              "      <td>[[31768, 1322, 1956], [2152, 15030, 24372], [2...</td>\n",
              "      <td>1 Layer 16 (1 and 5 star rating only) LSTM Uni...</td>\n",
              "      <td>300.0</td>\n",
              "      <td>13.0</td>\n",
              "      <td>0.69</td>\n",
              "      <td>glove</td>\n",
              "      <td>drive/My Drive/Springboard/capstone/data/amazo...</td>\n",
              "      <td>12.0</td>\n",
              "      <td>0.453427</td>\n",
              "      <td>0.744216</td>\n",
              "      <td>0.783465</td>\n",
              "      <td>0.733293</td>\n",
              "      <td>209953.0</td>\n",
              "      <td>100.0</td>\n",
              "      <td>drive/My Drive/Springboard/capstone/models/LST...</td>\n",
              "      <td>drive/My Drive/Springboard/capstone/models/LST...</td>\n",
              "      <td>LSTMB16_145</td>\n",
              "      <td>drive/My Drive/Springboard/capstone/reports/LS...</td>\n",
              "      <td>0.50</td>\n",
              "      <td>{\"auc_1\": 0.9884221430683942, \"auc_2\": 0.81103...</td>\n",
              "      <td>none</td>\n",
              "      <td>success</td>\n",
              "      <td>2020-02-16 23:57:42</td>\n",
              "      <td>209953.0</td>\n",
              "      <td>100.0</td>\n",
              "      <td>drive/My Drive/Springboard/capstone/models/LST...</td>\n",
              "      <td>629858.0</td>\n",
              "      <td>100.0</td>\n",
              "      <td>12.49</td>\n",
              "      <td>0.796820</td>\n",
              "      <td>0.798594</td>\n",
              "      <td>0.814682</td>\n",
              "      <td>209953.0</td>\n",
              "      <td>drive/My Drive/Springboard/capstone/models/LST...</td>\n",
              "      <td>0.462675</td>\n",
              "      <td>0.641869</td>\n",
              "      <td>0.361698</td>\n",
              "      <td>41554.0</td>\n",
              "      <td>NaN</td>\n",
              "      <td>NaN</td>\n",
              "      <td>NaN</td>\n",
              "      <td>NaN</td>\n",
              "      <td>NaN</td>\n",
              "      <td>NaN</td>\n",
              "      <td>NaN</td>\n",
              "      <td>NaN</td>\n",
              "    </tr>\n",
              "    <tr>\n",
              "      <th>2</th>\n",
              "      <td>0.828671</td>\n",
              "      <td>0.810455</td>\n",
              "      <td>0.847724</td>\n",
              "      <td>35186.0</td>\n",
              "      <td>0.860027</td>\n",
              "      <td>0.801042</td>\n",
              "      <td>0.928389</td>\n",
              "      <td>133290.0</td>\n",
              "      <td>0.750912</td>\n",
              "      <td>1x16</td>\n",
              "      <td>128.0</td>\n",
              "      <td>[1.6610512514558042, 2.5804261199662566, 1.401...</td>\n",
              "      <td>{\"1\": {\"precision\": 0.8104553852842082, \"recal...</td>\n",
              "      <td>[[29828, 2752, 471, 2135], [4375, 8373, 4651, ...</td>\n",
              "      <td>1 Layer 16 (1, 3, 4, and 5 star rating only) L...</td>\n",
              "      <td>300.0</td>\n",
              "      <td>12.0</td>\n",
              "      <td>0.77</td>\n",
              "      <td>glove</td>\n",
              "      <td>drive/My Drive/Springboard/capstone/data/amazo...</td>\n",
              "      <td>13.0</td>\n",
              "      <td>0.629099</td>\n",
              "      <td>0.624478</td>\n",
              "      <td>0.656751</td>\n",
              "      <td>0.613196</td>\n",
              "      <td>232476.0</td>\n",
              "      <td>100.0</td>\n",
              "      <td>drive/My Drive/Springboard/capstone/models/LST...</td>\n",
              "      <td>drive/My Drive/Springboard/capstone/models/LST...</td>\n",
              "      <td>LSTMB16_1345</td>\n",
              "      <td>drive/My Drive/Springboard/capstone/reports/LS...</td>\n",
              "      <td>0.57</td>\n",
              "      <td>{\"auc_1\": 0.978209699652309, \"auc_2\": 0.879778...</td>\n",
              "      <td>none</td>\n",
              "      <td>success</td>\n",
              "      <td>2020-02-17 00:54:16</td>\n",
              "      <td>232476.0</td>\n",
              "      <td>100.0</td>\n",
              "      <td>drive/My Drive/Springboard/capstone/models/LST...</td>\n",
              "      <td>697427.0</td>\n",
              "      <td>100.0</td>\n",
              "      <td>12.89</td>\n",
              "      <td>0.728147</td>\n",
              "      <td>0.722608</td>\n",
              "      <td>0.750912</td>\n",
              "      <td>232476.0</td>\n",
              "      <td>drive/My Drive/Springboard/capstone/models/LST...</td>\n",
              "      <td>0.383183</td>\n",
              "      <td>0.518505</td>\n",
              "      <td>0.303876</td>\n",
              "      <td>41540.0</td>\n",
              "      <td>0.426031</td>\n",
              "      <td>0.497002</td>\n",
              "      <td>0.372796</td>\n",
              "      <td>22460.0</td>\n",
              "      <td>NaN</td>\n",
              "      <td>NaN</td>\n",
              "      <td>NaN</td>\n",
              "      <td>NaN</td>\n",
              "    </tr>\n",
              "    <tr>\n",
              "      <th>3</th>\n",
              "      <td>0.742133</td>\n",
              "      <td>0.664903</td>\n",
              "      <td>0.839661</td>\n",
              "      <td>35163.0</td>\n",
              "      <td>0.857720</td>\n",
              "      <td>0.793793</td>\n",
              "      <td>0.932845</td>\n",
              "      <td>133587.0</td>\n",
              "      <td>0.707173</td>\n",
              "      <td>1x16</td>\n",
              "      <td>128.0</td>\n",
              "      <td>[1.4228484463085092, 3.0270973626206583, 2.210...</td>\n",
              "      <td>{\"1\": {\"precision\": 0.6649026010584393, \"recal...</td>\n",
              "      <td>[[29525, 1480, 1969, 398, 1791], [8086, 1991, ...</td>\n",
              "      <td>1 Layer 16 LSTM Units, No Dropout, GloVe Embed...</td>\n",
              "      <td>300.0</td>\n",
              "      <td>23.0</td>\n",
              "      <td>0.69</td>\n",
              "      <td>glove</td>\n",
              "      <td>drive/My Drive/Springboard/capstone/data/amazo...</td>\n",
              "      <td>11.0</td>\n",
              "      <td>0.749220</td>\n",
              "      <td>0.506833</td>\n",
              "      <td>0.553783</td>\n",
              "      <td>0.506506</td>\n",
              "      <td>248922.0</td>\n",
              "      <td>100.0</td>\n",
              "      <td>drive/My Drive/Springboard/capstone/models/LST...</td>\n",
              "      <td>drive/My Drive/Springboard/capstone/models/LST...</td>\n",
              "      <td>LSTMB16</td>\n",
              "      <td>drive/My Drive/Springboard/capstone/reports/LS...</td>\n",
              "      <td>0.53</td>\n",
              "      <td>{\"auc_1\": 0.9631105248092278, \"auc_2\": 0.89129...</td>\n",
              "      <td>none</td>\n",
              "      <td>success</td>\n",
              "      <td>2020-02-15 01:27:05</td>\n",
              "      <td>248922.0</td>\n",
              "      <td>100.0</td>\n",
              "      <td>drive/My Drive/Springboard/capstone/models/LST...</td>\n",
              "      <td>746766.0</td>\n",
              "      <td>100.0</td>\n",
              "      <td>24.46</td>\n",
              "      <td>0.673348</td>\n",
              "      <td>0.667828</td>\n",
              "      <td>0.707173</td>\n",
              "      <td>248922.0</td>\n",
              "      <td>drive/My Drive/Springboard/capstone/models/LST...</td>\n",
              "      <td>0.375613</td>\n",
              "      <td>0.514924</td>\n",
              "      <td>0.295631</td>\n",
              "      <td>41315.0</td>\n",
              "      <td>0.375272</td>\n",
              "      <td>0.413216</td>\n",
              "      <td>0.343709</td>\n",
              "      <td>22359.0</td>\n",
              "      <td>0.183426</td>\n",
              "      <td>0.382076</td>\n",
              "      <td>0.120681</td>\n",
              "      <td>16498.0</td>\n",
              "    </tr>\n",
              "  </tbody>\n",
              "</table>\n",
              "</div>"
            ],
            "text/plain": [
              "   1_f1-score  1_precision  1_recall  ...  2_precision  2_recall  2_support\n",
              "0    0.925178     0.930437  0.919978  ...          NaN       NaN        NaN\n",
              "1    0.894772     0.883377  0.906466  ...          NaN       NaN        NaN\n",
              "2    0.828671     0.810455  0.847724  ...          NaN       NaN        NaN\n",
              "3    0.742133     0.664903  0.839661  ...     0.382076  0.120681    16498.0\n",
              "\n",
              "[4 rows x 59 columns]"
            ]
          },
          "metadata": {
            "tags": []
          },
          "execution_count": 78
        }
      ]
    },
    {
      "cell_type": "code",
      "metadata": {
        "id": "9ux0PG85T0Lm",
        "colab_type": "code",
        "colab": {
          "base_uri": "https://localhost:8080/",
          "height": 392
        },
        "outputId": "18d0d1a1-28bc-47b4-8f61-9b561ec41db4"
      },
      "source": [
        "f, a = plt.subplots(1, 2, figsize=(20, 5))\n",
        "sns.lineplot(report_all.model_name, report_all[\"1_recall\"], sort=False, label=\"1-star\", marker=\"o\", ax=a[0])\n",
        "sns.lineplot(report_all.model_name, report_all[\"2_recall\"], sort=False, label=\"2-star\", marker=\"o\", ax=a[0])\n",
        "sns.lineplot(report_all.model_name, report_all[\"3_recall\"], sort=False, label=\"3-star\", marker=\"o\", ax=a[0])\n",
        "sns.lineplot(report_all.model_name, report_all[\"4_recall\"], sort=False, label=\"4-star\", marker=\"o\", ax=a[0])\n",
        "sns.lineplot(report_all.model_name, report_all[\"5_recall\"], sort=False, label=\"5-star\", marker=\"o\", ax=a[0])\n",
        "_ = a[0].set_title(\"Recall\")\n",
        "\n",
        "sns.lineplot(report_all.model_name, report_all[\"1_precision\"], sort=False, label=\"1-star\", marker=\"o\", ax=a[1])\n",
        "sns.lineplot(report_all.model_name, report_all[\"2_precision\"], sort=False, label=\"2-star\", marker=\"o\", ax=a[1])\n",
        "sns.lineplot(report_all.model_name, report_all[\"3_precision\"], sort=False, label=\"3-star\", marker=\"o\", ax=a[1])\n",
        "sns.lineplot(report_all.model_name, report_all[\"4_precision\"], sort=False, label=\"4-star\", marker=\"o\", ax=a[1])\n",
        "sns.lineplot(report_all.model_name, report_all[\"5_precision\"], sort=False, label=\"5-star\", marker=\"o\", ax=a[1])\n",
        "_ = a[1].set_title(\"Precision\")"
      ],
      "execution_count": 87,
      "outputs": [
        {
          "output_type": "display_data",
          "data": {
            "image/png": "[encoded data removed]",
            "text/plain": [
              "<Figure size 1440x360 with 2 Axes>"
            ]
          },
          "metadata": {
            "tags": []
          }
        }
      ]
    },
    {
      "cell_type": "markdown",
      "metadata": {
        "id": "OtwCbsqXdrJw",
        "colab_type": "text"
      },
      "source": [
        "# Confusion Matrix For Various Runs"
      ]
    },
    {
      "cell_type": "markdown",
      "metadata": {
        "id": "93-sRr74d3kD",
        "colab_type": "text"
      },
      "source": [
        "## 1-star and 5-star Only"
      ]
    },
    {
      "cell_type": "code",
      "metadata": {
        "id": "msgNLTKRZY0y",
        "colab_type": "code",
        "colab": {
          "base_uri": "https://localhost:8080/",
          "height": 106
        },
        "outputId": "edd62761-92ea-49ab-dd8f-b71412dc1cf3"
      },
      "source": [
        "pd.DataFrame(json.loads(lstm_15.confusion_matrix.values[0])).rename({0: 1, 1: 5}, axis=1)"
      ],
      "execution_count": 95,
      "outputs": [
        {
          "output_type": "execute_result",
          "data": {
            "text/html": [
              "<div>\n",
              "<style scoped>\n",
              "    .dataframe tbody tr th:only-of-type {\n",
              "        vertical-align: middle;\n",
              "    }\n",
              "\n",
              "    .dataframe tbody tr th {\n",
              "        vertical-align: top;\n",
              "    }\n",
              "\n",
              "    .dataframe thead th {\n",
              "        text-align: right;\n",
              "    }\n",
              "</style>\n",
              "<table border=\"1\" class=\"dataframe\">\n",
              "  <thead>\n",
              "    <tr style=\"text-align: right;\">\n",
              "      <th></th>\n",
              "      <th>1</th>\n",
              "      <th>5</th>\n",
              "    </tr>\n",
              "  </thead>\n",
              "  <tbody>\n",
              "    <tr>\n",
              "      <th>0</th>\n",
              "      <td>32248</td>\n",
              "      <td>2805</td>\n",
              "    </tr>\n",
              "    <tr>\n",
              "      <th>1</th>\n",
              "      <td>2411</td>\n",
              "      <td>131007</td>\n",
              "    </tr>\n",
              "  </tbody>\n",
              "</table>\n",
              "</div>"
            ],
            "text/plain": [
              "       1       5\n",
              "0  32248    2805\n",
              "1   2411  131007"
            ]
          },
          "metadata": {
            "tags": []
          },
          "execution_count": 95
        }
      ]
    },
    {
      "cell_type": "markdown",
      "metadata": {
        "id": "uw0JvvqoeF6G",
        "colab_type": "text"
      },
      "source": [
        "## 1-star, 4-star, 5-star\n",
        "\n",
        "* 1-star most likely misclassified as 5-star\n",
        "* 4-star most likely misclassified as 5-star\n",
        "* 5-star most likely misclassified as 4-star"
      ]
    },
    {
      "cell_type": "code",
      "metadata": {
        "id": "A5kWF5I7d894",
        "colab_type": "code",
        "colab": {
          "base_uri": "https://localhost:8080/",
          "height": 136
        },
        "outputId": "c7a358c9-ba03-4665-a6c3-591f50185a62"
      },
      "source": [
        "pd.DataFrame(json.loads(lstm_145.confusion_matrix.values[0])).rename({0: 1, 2: 5, 1: 4}, axis=1)"
      ],
      "execution_count": 96,
      "outputs": [
        {
          "output_type": "execute_result",
          "data": {
            "text/html": [
              "<div>\n",
              "<style scoped>\n",
              "    .dataframe tbody tr th:only-of-type {\n",
              "        vertical-align: middle;\n",
              "    }\n",
              "\n",
              "    .dataframe tbody tr th {\n",
              "        vertical-align: top;\n",
              "    }\n",
              "\n",
              "    .dataframe thead th {\n",
              "        text-align: right;\n",
              "    }\n",
              "</style>\n",
              "<table border=\"1\" class=\"dataframe\">\n",
              "  <thead>\n",
              "    <tr style=\"text-align: right;\">\n",
              "      <th></th>\n",
              "      <th>1</th>\n",
              "      <th>4</th>\n",
              "      <th>5</th>\n",
              "    </tr>\n",
              "  </thead>\n",
              "  <tbody>\n",
              "    <tr>\n",
              "      <th>0</th>\n",
              "      <td>31768</td>\n",
              "      <td>1322</td>\n",
              "      <td>1956</td>\n",
              "    </tr>\n",
              "    <tr>\n",
              "      <th>1</th>\n",
              "      <td>2152</td>\n",
              "      <td>15030</td>\n",
              "      <td>24372</td>\n",
              "    </tr>\n",
              "    <tr>\n",
              "      <th>2</th>\n",
              "      <td>2042</td>\n",
              "      <td>7064</td>\n",
              "      <td>124247</td>\n",
              "    </tr>\n",
              "  </tbody>\n",
              "</table>\n",
              "</div>"
            ],
            "text/plain": [
              "       1      4       5\n",
              "0  31768   1322    1956\n",
              "1   2152  15030   24372\n",
              "2   2042   7064  124247"
            ]
          },
          "metadata": {
            "tags": []
          },
          "execution_count": 96
        }
      ]
    },
    {
      "cell_type": "markdown",
      "metadata": {
        "id": "nwJrCjxzeVFS",
        "colab_type": "text"
      },
      "source": [
        "## 1-star, 3-star, 4-star, 5-star\n",
        "\n",
        "* 1-star most likely misclassified as 3-star\n",
        "* <font color=\"red\">3-star most likely misclassified as 4-star (but 1 and 5 are pretty close)</font>\n",
        "* 4-star most likely misclassified as 5-star\n",
        "* 5-star most likely misclassified as 4-star"
      ]
    },
    {
      "cell_type": "code",
      "metadata": {
        "id": "wpbyGJS1d83E",
        "colab_type": "code",
        "colab": {
          "base_uri": "https://localhost:8080/",
          "height": 166
        },
        "outputId": "b5c02ebf-942b-4728-e7e1-40ac5c0b554a"
      },
      "source": [
        "pd.DataFrame(json.loads(lstm_1345.confusion_matrix.values[0])).rename({0: 1, 1: 3, 2: 4, 3: 5}, axis=1)"
      ],
      "execution_count": 97,
      "outputs": [
        {
          "output_type": "execute_result",
          "data": {
            "text/html": [
              "<div>\n",
              "<style scoped>\n",
              "    .dataframe tbody tr th:only-of-type {\n",
              "        vertical-align: middle;\n",
              "    }\n",
              "\n",
              "    .dataframe tbody tr th {\n",
              "        vertical-align: top;\n",
              "    }\n",
              "\n",
              "    .dataframe thead th {\n",
              "        text-align: right;\n",
              "    }\n",
              "</style>\n",
              "<table border=\"1\" class=\"dataframe\">\n",
              "  <thead>\n",
              "    <tr style=\"text-align: right;\">\n",
              "      <th></th>\n",
              "      <th>1</th>\n",
              "      <th>3</th>\n",
              "      <th>4</th>\n",
              "      <th>5</th>\n",
              "    </tr>\n",
              "  </thead>\n",
              "  <tbody>\n",
              "    <tr>\n",
              "      <th>0</th>\n",
              "      <td>29828</td>\n",
              "      <td>2752</td>\n",
              "      <td>471</td>\n",
              "      <td>2135</td>\n",
              "    </tr>\n",
              "    <tr>\n",
              "      <th>1</th>\n",
              "      <td>4375</td>\n",
              "      <td>8373</td>\n",
              "      <td>4651</td>\n",
              "      <td>5061</td>\n",
              "    </tr>\n",
              "    <tr>\n",
              "      <th>2</th>\n",
              "      <td>1241</td>\n",
              "      <td>4137</td>\n",
              "      <td>12623</td>\n",
              "      <td>23539</td>\n",
              "    </tr>\n",
              "    <tr>\n",
              "      <th>3</th>\n",
              "      <td>1360</td>\n",
              "      <td>1585</td>\n",
              "      <td>6600</td>\n",
              "      <td>123745</td>\n",
              "    </tr>\n",
              "  </tbody>\n",
              "</table>\n",
              "</div>"
            ],
            "text/plain": [
              "       1     3      4       5\n",
              "0  29828  2752    471    2135\n",
              "1   4375  8373   4651    5061\n",
              "2   1241  4137  12623   23539\n",
              "3   1360  1585   6600  123745"
            ]
          },
          "metadata": {
            "tags": []
          },
          "execution_count": 97
        }
      ]
    },
    {
      "cell_type": "markdown",
      "metadata": {
        "id": "BJC2r6tredmr",
        "colab_type": "text"
      },
      "source": [
        "## All star ratings\n",
        "\n",
        "* 1-star most likely misclassified as 3-star\n",
        "* <font color=\"red\">2-star most likely misclassified as 1-star, 2-star is more likely to be misclassified as 1-star than itself</font>\n",
        "* <font color=\"red\">3-star most likley misclassified as 5-star, then 4-star and 1-star</font>\n",
        "* 4-star most likely misclassified as 5-star\n",
        "* 5-star most likely misclassified as 4-star"
      ]
    },
    {
      "cell_type": "code",
      "metadata": {
        "id": "6xkKQyFKd8zU",
        "colab_type": "code",
        "colab": {
          "base_uri": "https://localhost:8080/",
          "height": 195
        },
        "outputId": "41d8402a-ec64-4723-98fe-ed9b170662d7"
      },
      "source": [
        "pd.DataFrame(json.loads(lstm_all.confusion_matrix.values[0])).rename({0: 1, 1: 2, 2: 3, 3: 4, 4: 5}, axis=1)"
      ],
      "execution_count": 98,
      "outputs": [
        {
          "output_type": "execute_result",
          "data": {
            "text/html": [
              "<div>\n",
              "<style scoped>\n",
              "    .dataframe tbody tr th:only-of-type {\n",
              "        vertical-align: middle;\n",
              "    }\n",
              "\n",
              "    .dataframe tbody tr th {\n",
              "        vertical-align: top;\n",
              "    }\n",
              "\n",
              "    .dataframe thead th {\n",
              "        text-align: right;\n",
              "    }\n",
              "</style>\n",
              "<table border=\"1\" class=\"dataframe\">\n",
              "  <thead>\n",
              "    <tr style=\"text-align: right;\">\n",
              "      <th></th>\n",
              "      <th>1</th>\n",
              "      <th>2</th>\n",
              "      <th>3</th>\n",
              "      <th>4</th>\n",
              "      <th>5</th>\n",
              "    </tr>\n",
              "  </thead>\n",
              "  <tbody>\n",
              "    <tr>\n",
              "      <th>0</th>\n",
              "      <td>29525</td>\n",
              "      <td>1480</td>\n",
              "      <td>1969</td>\n",
              "      <td>398</td>\n",
              "      <td>1791</td>\n",
              "    </tr>\n",
              "    <tr>\n",
              "      <th>1</th>\n",
              "      <td>8086</td>\n",
              "      <td>1991</td>\n",
              "      <td>3933</td>\n",
              "      <td>837</td>\n",
              "      <td>1651</td>\n",
              "    </tr>\n",
              "    <tr>\n",
              "      <th>2</th>\n",
              "      <td>4024</td>\n",
              "      <td>1369</td>\n",
              "      <td>7685</td>\n",
              "      <td>4346</td>\n",
              "      <td>4935</td>\n",
              "    </tr>\n",
              "    <tr>\n",
              "      <th>3</th>\n",
              "      <td>1236</td>\n",
              "      <td>248</td>\n",
              "      <td>3622</td>\n",
              "      <td>12214</td>\n",
              "      <td>23995</td>\n",
              "    </tr>\n",
              "    <tr>\n",
              "      <th>4</th>\n",
              "      <td>1534</td>\n",
              "      <td>123</td>\n",
              "      <td>1389</td>\n",
              "      <td>5925</td>\n",
              "      <td>124616</td>\n",
              "    </tr>\n",
              "  </tbody>\n",
              "</table>\n",
              "</div>"
            ],
            "text/plain": [
              "       1     2     3      4       5\n",
              "0  29525  1480  1969    398    1791\n",
              "1   8086  1991  3933    837    1651\n",
              "2   4024  1369  7685   4346    4935\n",
              "3   1236   248  3622  12214   23995\n",
              "4   1534   123  1389   5925  124616"
            ]
          },
          "metadata": {
            "tags": []
          },
          "execution_count": 98
        }
      ]
    },
    {
      "cell_type": "code",
      "metadata": {
        "id": "2WGdbXavd8vY",
        "colab_type": "code",
        "colab": {}
      },
      "source": [
        ""
      ],
      "execution_count": 0,
      "outputs": []
    },
    {
      "cell_type": "code",
      "metadata": {
        "id": "CaYgwuyPd8uG",
        "colab_type": "code",
        "colab": {}
      },
      "source": [
        ""
      ],
      "execution_count": 0,
      "outputs": []
    },
    {
      "cell_type": "code",
      "metadata": {
        "id": "iL1RWOjod8p3",
        "colab_type": "code",
        "colab": {}
      },
      "source": [
        ""
      ],
      "execution_count": 0,
      "outputs": []
    },
    {
      "cell_type": "code",
      "metadata": {
        "id": "S_I2KgkWd8mL",
        "colab_type": "code",
        "colab": {}
      },
      "source": [
        ""
      ],
      "execution_count": 0,
      "outputs": []
    }
  ]
}