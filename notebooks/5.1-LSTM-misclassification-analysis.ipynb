{
  "nbformat": 4,
  "nbformat_minor": 0,
  "metadata": {
    "colab": {
      "name": "5.1-LSTM-misclassification-analysis.ipynb",
      "provenance": [],
      "authorship_tag": "ABX9TyNbdlCeNPbrwpzwKRLc1o1l",
      "include_colab_link": true
    },
    "kernelspec": {
      "name": "python3",
      "display_name": "Python 3"
    }
  },
  "cells": [
    {
      "cell_type": "markdown",
      "metadata": {
        "id": "view-in-github",
        "colab_type": "text"
      },
      "source": [
        "<a href=\"https://colab.research.google.com/github/sv650s/amazon-review-classification/blob/master/notebooks/5.1-LSTM-misclassification-analysis.ipynb\" target=\"_parent\"><img src=\"https://colab.research.google.com/assets/colab-badge.svg\" alt=\"Open In Colab\"/></a>"
      ]
    },
    {
      "cell_type": "markdown",
      "metadata": {
        "id": "CXa4QqXuMoIp",
        "colab_type": "text"
      },
      "source": [
        "# Miscategorized Reviews by LSTM\n",
        "\n",
        "In previous notebooks, we filtered and trained LSTM network with 16 nodes based on original sample size of 1 million samples\n",
        "\n",
        "Variations that we ran:\n",
        "\n",
        "* 1-star and 5-star reviews only\n",
        "* 1-star, 4-star, 5-star reviews only\n",
        "* 1-star, 3-star, 4-star, 5-star reviews only\n",
        "* All reviews\n",
        "\n",
        "In this notebook, we will look at the model performance as well as look at specific reviews that were miscategorized"
      ]
    },
    {
      "cell_type": "code",
      "metadata": {
        "id": "1hrLATotMjpw",
        "colab_type": "code",
        "colab": {
          "base_uri": "https://localhost:8080/",
          "height": 67
        },
        "outputId": "348509cc-862b-4657-945c-71500d3ba7c6"
      },
      "source": [
        "from google.colab import drive\n",
        "drive.mount('/content/drive')\n",
        "\n",
        "import sys\n",
        "DRIVE_DIR = \"drive/My Drive/Springboard/capstone\"\n",
        "sys.path.append(DRIVE_DIR)\n",
        "\n",
        "\n",
        "%tensorflow_version 2.x\n",
        "\n",
        "\n",
        "import tensorflow as tf\n",
        "# checl to make sure we are using GPU here\n",
        "tf.test.gpu_device_name()"
      ],
      "execution_count": 1,
      "outputs": [
        {
          "output_type": "stream",
          "text": [
            "Drive already mounted at /content/drive; to attempt to forcibly remount, call drive.mount(\"/content/drive\", force_remount=True).\n",
            "TensorFlow 2.x selected.\n"
          ],
          "name": "stdout"
        },
        {
          "output_type": "execute_result",
          "data": {
            "text/plain": [
              "''"
            ]
          },
          "metadata": {
            "tags": []
          },
          "execution_count": 1
        }
      ]
    },
    {
      "cell_type": "code",
      "metadata": {
        "id": "HMXUREP8NuoH",
        "colab_type": "code",
        "colab": {}
      },
      "source": [
        "from __future__ import absolute_import, division, print_function, unicode_literals\n",
        "\n",
        "\n",
        "from tensorflow.keras.models import Sequential\n",
        "from tensorflow.keras.layers import Dense, Activation, Dropout\n",
        "from tensorflow.keras.layers import BatchNormalization\n",
        "from tensorflow.keras.callbacks import EarlyStopping, ReduceLROnPlateau\n",
        "from tensorflow.keras.models import load_model\n",
        "from tensorflow.keras.optimizers import SGD\n",
        "from tensorflow.keras.layers import Conv1D, MaxPooling1D, Embedding, \\\n",
        "    SpatialDropout1D, Flatten, LSTM\n",
        "from tensorflow.keras.preprocessing.text import Tokenizer\n",
        "from tensorflow.keras.preprocessing import sequence\n",
        "from tensorflow.keras.utils import model_to_dot\n",
        "from tensorflow.keras.initializers import Constant\n",
        "\n",
        "\n",
        "from sklearn.model_selection import train_test_split\n",
        "from sklearn.preprocessing import OneHotEncoder\n",
        "from sklearn.preprocessing import LabelEncoder\n",
        "from sklearn.metrics import confusion_matrix, classification_report\n",
        "from sklearn.utils.class_weight import compute_class_weight\n",
        "\n",
        "\n",
        "import pandas as pd\n",
        "import numpy as np\n",
        "from IPython.display import SVG\n",
        "import pickle\n",
        "from datetime import datetime\n",
        "import matplotlib.pyplot as plt\n",
        "import seaborn as sns\n",
        "import os\n",
        "import logging\n",
        "import json\n",
        "from pprint import pprint\n",
        "\n",
        "\n",
        "import util.dict_util as du\n",
        "import util.plot_util as pu\n",
        "import util.file_util as fu\n",
        "import util.keras_util as ku\n",
        "import util.report_util as ru\n",
        "\n",
        "import random\n",
        "\n",
        "# fix random seeds\n",
        "tf.compat.v1.reset_default_graph()\n",
        "tf.compat.v1.set_random_seed(1)\n",
        "random.seed(1)\n",
        "np.random.seed(1)\n",
        "\n",
        "logging.basicConfig(level=logging.ERROR)\n",
        "\n",
        "%matplotlib inline\n",
        "sns.set(font_scale=1.5)\n",
        "\n",
        "\n",
        "DATE_FORMAT = '%Y-%m-%d'\n",
        "TIME_FORMAT = '%Y-%m-%d %H:%M:%S'\n",
        "LABEL_COLUMN = \"star_rating\"\n",
        "REVIEW_COLUMN = \"review_body\"\n",
        "\n",
        "\n",
        "DEBUG = False\n",
        "\n",
        "\n",
        "REPORT_FILE = f'{DRIVE_DIR}/reports/glove_embedding-dl_prototype-report.csv'\n",
        "\n",
        "\n"
      ],
      "execution_count": 0,
      "outputs": []
    },
    {
      "cell_type": "markdown",
      "metadata": {
        "id": "a0dyvGOhQQEI",
        "colab_type": "text"
      },
      "source": [
        "Read in report file"
      ]
    },
    {
      "cell_type": "code",
      "metadata": {
        "id": "DMIo50QGOEvA",
        "colab_type": "code",
        "colab": {}
      },
      "source": [
        "report = pd.read_csv(REPORT_FILE, quotechar=\"'\")\n",
        "report[\"train_examples\"] = report.train_examples.astype(int)\n",
        "# 1-star and 5-star only\n",
        "lstm_15 = report[(report.model_name == \"LSTMB16_15\") & (report.train_examples == 505410)].copy().reset_index()\n",
        "# 1-star, 4-star, and 5-star\n",
        "lstm_145 = report[report.model_name == \"LSTMB16_145\"].copy().reset_index()\n",
        "# 1-star, 3-star, 4-star, and 5-star\n",
        "lstm_1345 = report[report.model_name == \"LSTMB16_1345\"].copy().reset_index()\n",
        "# all reviews\n",
        "lstm_all = report[(report.model_name == \"LSTMB16\") & (report.train_examples == 746766)].copy().reset_index()\n",
        "\n",
        "data_file = lstm_15.file.values[0]"
      ],
      "execution_count": 0,
      "outputs": []
    },
    {
      "cell_type": "markdown",
      "metadata": {
        "id": "91NObLfmQa0w",
        "colab_type": "text"
      },
      "source": [
        "# Classification Report For Various Runs\n",
        "\n",
        "Fix Classification Report so they display the proper categories"
      ]
    },
    {
      "cell_type": "code",
      "metadata": {
        "id": "bQGnn1PJQakq",
        "colab_type": "code",
        "colab": {}
      },
      "source": [
        "# map 2->5\n",
        "cr15 = json.loads(lstm_15.classification_report.values[0])\n",
        "cr15[\"5\"] = cr15.pop(\"2\")\n",
        "lstm_15.loc[lstm_15.index, \"classification_report\"] = json.dumps(cr15)\n",
        "lstm_15[\"label\"] = \"1,5 Star\"\n",
        "\n",
        "# map 3->5, 2->4\n",
        "cr145 = json.loads(lstm_145.classification_report.values[0])\n",
        "cr145[\"5\"] = cr145.pop(\"3\")\n",
        "cr145[\"4\"] = cr145.pop(\"2\")\n",
        "lstm_145.loc[lstm_145.index, \"classification_report\"] = json.dumps(cr145)\n",
        "lstm_145[\"label\"] = \"1,4,5 Star\"\n",
        "\n",
        "# map 4->5, 3->4, 2->3\n",
        "cr1345 = json.loads(lstm_1345.classification_report.values[0])\n",
        "cr1345[\"5\"] = cr1345.pop(\"4\")\n",
        "cr1345[\"4\"] = cr1345.pop(\"3\")\n",
        "cr1345[\"3\"] = cr1345.pop(\"2\")\n",
        "lstm_1345.loc[lstm_1345.index, \"classification_report\"] = json.dumps(cr1345)\n",
        "lstm_1345[\"label\"] = \"1,3,4,5 Star\"\n",
        "\n",
        "lstm_all[\"label\"] = \"All\""
      ],
      "execution_count": 0,
      "outputs": []
    },
    {
      "cell_type": "code",
      "metadata": {
        "id": "G7A-nLuyWAjL",
        "colab_type": "code",
        "colab": {}
      },
      "source": [
        "report_all = pd.DataFrame()\n",
        "report_all = report_all.append(lstm_15)\n",
        "report_all = report_all.append(lstm_145)\n",
        "report_all = report_all.append(lstm_1345)\n",
        "report_all = report_all.append(lstm_all)\n",
        "report_all = ru.convert_dnn_report_format(report_all)"
      ],
      "execution_count": 0,
      "outputs": []
    },
    {
      "cell_type": "code",
      "metadata": {
        "id": "9ux0PG85T0Lm",
        "colab_type": "code",
        "colab": {
          "base_uri": "https://localhost:8080/",
          "height": 392
        },
        "outputId": "b9c871e9-8d26-49b2-8e7f-5edfb0581974"
      },
      "source": [
        "f, a = plt.subplots(1, 2, figsize=(20, 5), sharey=True)\n",
        "sns.lineplot(report_all.label, report_all[\"1_recall\"], sort=False, label=\"1-star\", marker=\"o\", ax=a[0])\n",
        "sns.lineplot(report_all.label, report_all[\"2_recall\"], sort=False, label=\"2-star\", marker=\"o\", ax=a[0])\n",
        "sns.lineplot(report_all.label, report_all[\"3_recall\"], sort=False, label=\"3-star\", marker=\"o\", ax=a[0])\n",
        "sns.lineplot(report_all.label, report_all[\"4_recall\"], sort=False, label=\"4-star\", marker=\"o\", ax=a[0])\n",
        "sns.lineplot(report_all.label, report_all[\"5_recall\"], sort=False, label=\"5-star\", marker=\"o\", ax=a[0])\n",
        "_ = a[0].set_xlabel(\"Star Ratings\")\n",
        "_ = a[0].set_ylabel(\"\")\n",
        "_ = a[0].set_title(\"Recall\")\n",
        "\n",
        "sns.lineplot(report_all.label, report_all[\"1_precision\"], sort=False, label=\"1-star\", marker=\"o\", ax=a[1])\n",
        "sns.lineplot(report_all.label, report_all[\"2_precision\"], sort=False, label=\"2-star\", marker=\"o\", ax=a[1])\n",
        "sns.lineplot(report_all.label, report_all[\"3_precision\"], sort=False, label=\"3-star\", marker=\"o\", ax=a[1])\n",
        "sns.lineplot(report_all.label, report_all[\"4_precision\"], sort=False, label=\"4-star\", marker=\"o\", ax=a[1])\n",
        "sns.lineplot(report_all.label, report_all[\"5_precision\"], sort=False, label=\"5-star\", marker=\"o\", ax=a[1])\n",
        "_ = a[1].set_xlabel(\"Star Ratings\")\n",
        "_ = a[1].set_ylabel(\"\")\n",
        "_ = a[1].set_title(\"Precision\")"
      ],
      "execution_count": 6,
      "outputs": [
        {
          "output_type": "display_data",
          "data": {
            "image/png": "[encoded data removed]",
            "text/plain": [
              "<Figure size 1440x360 with 2 Axes>"
            ]
          },
          "metadata": {
            "tags": []
          }
        }
      ]
    },
    {
      "cell_type": "markdown",
      "metadata": {
        "id": "OtwCbsqXdrJw",
        "colab_type": "text"
      },
      "source": [
        "# Confusion Matrix For Various Runs"
      ]
    },
    {
      "cell_type": "markdown",
      "metadata": {
        "id": "93-sRr74d3kD",
        "colab_type": "text"
      },
      "source": [
        "## 1-star and 5-star Only"
      ]
    },
    {
      "cell_type": "code",
      "metadata": {
        "id": "msgNLTKRZY0y",
        "colab_type": "code",
        "colab": {
          "base_uri": "https://localhost:8080/",
          "height": 106
        },
        "outputId": "e74388ad-e924-48b0-a683-3009b042316f"
      },
      "source": [
        "pd.DataFrame(json.loads(lstm_15.confusion_matrix.values[0])).rename({0: 1, 1: 5}, axis=1)"
      ],
      "execution_count": 7,
      "outputs": [
        {
          "output_type": "execute_result",
          "data": {
            "text/html": [
              "<div>\n",
              "<style scoped>\n",
              "    .dataframe tbody tr th:only-of-type {\n",
              "        vertical-align: middle;\n",
              "    }\n",
              "\n",
              "    .dataframe tbody tr th {\n",
              "        vertical-align: top;\n",
              "    }\n",
              "\n",
              "    .dataframe thead th {\n",
              "        text-align: right;\n",
              "    }\n",
              "</style>\n",
              "<table border=\"1\" class=\"dataframe\">\n",
              "  <thead>\n",
              "    <tr style=\"text-align: right;\">\n",
              "      <th></th>\n",
              "      <th>1</th>\n",
              "      <th>5</th>\n",
              "    </tr>\n",
              "  </thead>\n",
              "  <tbody>\n",
              "    <tr>\n",
              "      <th>0</th>\n",
              "      <td>32248</td>\n",
              "      <td>2805</td>\n",
              "    </tr>\n",
              "    <tr>\n",
              "      <th>1</th>\n",
              "      <td>2411</td>\n",
              "      <td>131007</td>\n",
              "    </tr>\n",
              "  </tbody>\n",
              "</table>\n",
              "</div>"
            ],
            "text/plain": [
              "       1       5\n",
              "0  32248    2805\n",
              "1   2411  131007"
            ]
          },
          "metadata": {
            "tags": []
          },
          "execution_count": 7
        }
      ]
    },
    {
      "cell_type": "markdown",
      "metadata": {
        "id": "uw0JvvqoeF6G",
        "colab_type": "text"
      },
      "source": [
        "## 1-star, 4-star, 5-star\n",
        "\n",
        "* 1-star most likely misclassified as 5-star\n",
        "* 4-star most likely misclassified as 5-star\n",
        "* 5-star most likely misclassified as 4-star"
      ]
    },
    {
      "cell_type": "code",
      "metadata": {
        "id": "A5kWF5I7d894",
        "colab_type": "code",
        "colab": {
          "base_uri": "https://localhost:8080/",
          "height": 136
        },
        "outputId": "36c0d006-f111-4ecd-c844-5c134da95890"
      },
      "source": [
        "pd.DataFrame(json.loads(lstm_145.confusion_matrix.values[0])).rename({0: 1, 2: 5, 1: 4}, axis=1)"
      ],
      "execution_count": 8,
      "outputs": [
        {
          "output_type": "execute_result",
          "data": {
            "text/html": [
              "<div>\n",
              "<style scoped>\n",
              "    .dataframe tbody tr th:only-of-type {\n",
              "        vertical-align: middle;\n",
              "    }\n",
              "\n",
              "    .dataframe tbody tr th {\n",
              "        vertical-align: top;\n",
              "    }\n",
              "\n",
              "    .dataframe thead th {\n",
              "        text-align: right;\n",
              "    }\n",
              "</style>\n",
              "<table border=\"1\" class=\"dataframe\">\n",
              "  <thead>\n",
              "    <tr style=\"text-align: right;\">\n",
              "      <th></th>\n",
              "      <th>1</th>\n",
              "      <th>4</th>\n",
              "      <th>5</th>\n",
              "    </tr>\n",
              "  </thead>\n",
              "  <tbody>\n",
              "    <tr>\n",
              "      <th>0</th>\n",
              "      <td>31768</td>\n",
              "      <td>1322</td>\n",
              "      <td>1956</td>\n",
              "    </tr>\n",
              "    <tr>\n",
              "      <th>1</th>\n",
              "      <td>2152</td>\n",
              "      <td>15030</td>\n",
              "      <td>24372</td>\n",
              "    </tr>\n",
              "    <tr>\n",
              "      <th>2</th>\n",
              "      <td>2042</td>\n",
              "      <td>7064</td>\n",
              "      <td>124247</td>\n",
              "    </tr>\n",
              "  </tbody>\n",
              "</table>\n",
              "</div>"
            ],
            "text/plain": [
              "       1      4       5\n",
              "0  31768   1322    1956\n",
              "1   2152  15030   24372\n",
              "2   2042   7064  124247"
            ]
          },
          "metadata": {
            "tags": []
          },
          "execution_count": 8
        }
      ]
    },
    {
      "cell_type": "markdown",
      "metadata": {
        "id": "nwJrCjxzeVFS",
        "colab_type": "text"
      },
      "source": [
        "## 1-star, 3-star, 4-star, 5-star\n",
        "\n",
        "* 1-star most likely misclassified as 3-star\n",
        "* <font color=\"red\">3-star most likely misclassified as 4-star (but 1 and 5 are pretty close)</font>\n",
        "* 4-star most likely misclassified as 5-star\n",
        "* 5-star most likely misclassified as 4-star"
      ]
    },
    {
      "cell_type": "code",
      "metadata": {
        "id": "wpbyGJS1d83E",
        "colab_type": "code",
        "colab": {
          "base_uri": "https://localhost:8080/",
          "height": 166
        },
        "outputId": "129d68a2-4f22-458e-c9a0-f653c6f83317"
      },
      "source": [
        "pd.DataFrame(json.loads(lstm_1345.confusion_matrix.values[0])).rename({0: 1, 1: 3, 2: 4, 3: 5}, axis=1)"
      ],
      "execution_count": 9,
      "outputs": [
        {
          "output_type": "execute_result",
          "data": {
            "text/html": [
              "<div>\n",
              "<style scoped>\n",
              "    .dataframe tbody tr th:only-of-type {\n",
              "        vertical-align: middle;\n",
              "    }\n",
              "\n",
              "    .dataframe tbody tr th {\n",
              "        vertical-align: top;\n",
              "    }\n",
              "\n",
              "    .dataframe thead th {\n",
              "        text-align: right;\n",
              "    }\n",
              "</style>\n",
              "<table border=\"1\" class=\"dataframe\">\n",
              "  <thead>\n",
              "    <tr style=\"text-align: right;\">\n",
              "      <th></th>\n",
              "      <th>1</th>\n",
              "      <th>3</th>\n",
              "      <th>4</th>\n",
              "      <th>5</th>\n",
              "    </tr>\n",
              "  </thead>\n",
              "  <tbody>\n",
              "    <tr>\n",
              "      <th>0</th>\n",
              "      <td>29828</td>\n",
              "      <td>2752</td>\n",
              "      <td>471</td>\n",
              "      <td>2135</td>\n",
              "    </tr>\n",
              "    <tr>\n",
              "      <th>1</th>\n",
              "      <td>4375</td>\n",
              "      <td>8373</td>\n",
              "      <td>4651</td>\n",
              "      <td>5061</td>\n",
              "    </tr>\n",
              "    <tr>\n",
              "      <th>2</th>\n",
              "      <td>1241</td>\n",
              "      <td>4137</td>\n",
              "      <td>12623</td>\n",
              "      <td>23539</td>\n",
              "    </tr>\n",
              "    <tr>\n",
              "      <th>3</th>\n",
              "      <td>1360</td>\n",
              "      <td>1585</td>\n",
              "      <td>6600</td>\n",
              "      <td>123745</td>\n",
              "    </tr>\n",
              "  </tbody>\n",
              "</table>\n",
              "</div>"
            ],
            "text/plain": [
              "       1     3      4       5\n",
              "0  29828  2752    471    2135\n",
              "1   4375  8373   4651    5061\n",
              "2   1241  4137  12623   23539\n",
              "3   1360  1585   6600  123745"
            ]
          },
          "metadata": {
            "tags": []
          },
          "execution_count": 9
        }
      ]
    },
    {
      "cell_type": "markdown",
      "metadata": {
        "id": "BJC2r6tredmr",
        "colab_type": "text"
      },
      "source": [
        "## All star ratings\n",
        "\n",
        "* 1-star most likely misclassified as 3-star\n",
        "* <font color=\"red\">2-star most likely misclassified as 1-star, 2-star is more likely to be misclassified as 1-star than itself</font>\n",
        "* <font color=\"red\">3-star most likley misclassified as 5-star, then 4-star and 1-star</font>\n",
        "* 4-star most likely misclassified as 5-star\n",
        "* 5-star most likely misclassified as 4-star"
      ]
    },
    {
      "cell_type": "code",
      "metadata": {
        "id": "6xkKQyFKd8zU",
        "colab_type": "code",
        "colab": {
          "base_uri": "https://localhost:8080/",
          "height": 195
        },
        "outputId": "6a1cef73-1a41-4893-89b7-347d7bdd7600"
      },
      "source": [
        "pd.DataFrame(json.loads(lstm_all.confusion_matrix.values[0])).rename({0: 1, 1: 2, 2: 3, 3: 4, 4: 5}, axis=1)"
      ],
      "execution_count": 10,
      "outputs": [
        {
          "output_type": "execute_result",
          "data": {
            "text/html": [
              "<div>\n",
              "<style scoped>\n",
              "    .dataframe tbody tr th:only-of-type {\n",
              "        vertical-align: middle;\n",
              "    }\n",
              "\n",
              "    .dataframe tbody tr th {\n",
              "        vertical-align: top;\n",
              "    }\n",
              "\n",
              "    .dataframe thead th {\n",
              "        text-align: right;\n",
              "    }\n",
              "</style>\n",
              "<table border=\"1\" class=\"dataframe\">\n",
              "  <thead>\n",
              "    <tr style=\"text-align: right;\">\n",
              "      <th></th>\n",
              "      <th>1</th>\n",
              "      <th>2</th>\n",
              "      <th>3</th>\n",
              "      <th>4</th>\n",
              "      <th>5</th>\n",
              "    </tr>\n",
              "  </thead>\n",
              "  <tbody>\n",
              "    <tr>\n",
              "      <th>0</th>\n",
              "      <td>29525</td>\n",
              "      <td>1480</td>\n",
              "      <td>1969</td>\n",
              "      <td>398</td>\n",
              "      <td>1791</td>\n",
              "    </tr>\n",
              "    <tr>\n",
              "      <th>1</th>\n",
              "      <td>8086</td>\n",
              "      <td>1991</td>\n",
              "      <td>3933</td>\n",
              "      <td>837</td>\n",
              "      <td>1651</td>\n",
              "    </tr>\n",
              "    <tr>\n",
              "      <th>2</th>\n",
              "      <td>4024</td>\n",
              "      <td>1369</td>\n",
              "      <td>7685</td>\n",
              "      <td>4346</td>\n",
              "      <td>4935</td>\n",
              "    </tr>\n",
              "    <tr>\n",
              "      <th>3</th>\n",
              "      <td>1236</td>\n",
              "      <td>248</td>\n",
              "      <td>3622</td>\n",
              "      <td>12214</td>\n",
              "      <td>23995</td>\n",
              "    </tr>\n",
              "    <tr>\n",
              "      <th>4</th>\n",
              "      <td>1534</td>\n",
              "      <td>123</td>\n",
              "      <td>1389</td>\n",
              "      <td>5925</td>\n",
              "      <td>124616</td>\n",
              "    </tr>\n",
              "  </tbody>\n",
              "</table>\n",
              "</div>"
            ],
            "text/plain": [
              "       1     2     3      4       5\n",
              "0  29525  1480  1969    398    1791\n",
              "1   8086  1991  3933    837    1651\n",
              "2   4024  1369  7685   4346    4935\n",
              "3   1236   248  3622  12214   23995\n",
              "4   1534   123  1389   5925  124616"
            ]
          },
          "metadata": {
            "tags": []
          },
          "execution_count": 10
        }
      ]
    },
    {
      "cell_type": "code",
      "metadata": {
        "id": "2WGdbXavd8vY",
        "colab_type": "code",
        "colab": {}
      },
      "source": [
        ""
      ],
      "execution_count": 0,
      "outputs": []
    },
    {
      "cell_type": "code",
      "metadata": {
        "id": "CaYgwuyPd8uG",
        "colab_type": "code",
        "colab": {}
      },
      "source": [
        ""
      ],
      "execution_count": 0,
      "outputs": []
    },
    {
      "cell_type": "code",
      "metadata": {
        "id": "iL1RWOjod8p3",
        "colab_type": "code",
        "colab": {}
      },
      "source": [
        ""
      ],
      "execution_count": 0,
      "outputs": []
    },
    {
      "cell_type": "code",
      "metadata": {
        "id": "S_I2KgkWd8mL",
        "colab_type": "code",
        "colab": {}
      },
      "source": [
        ""
      ],
      "execution_count": 0,
      "outputs": []
    }
  ]
}