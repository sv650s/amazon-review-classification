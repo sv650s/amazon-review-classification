{
  "nbformat": 4,
  "nbformat_minor": 0,
  "metadata": {
    "colab": {
      "name": "5.1-LSTM-misclassification-analysis.ipynb",
      "provenance": [],
      "collapsed_sections": [],
      "machine_shape": "hm",
      "authorship_tag": "ABX9TyM/v9W3wfEyXii3WVomVP3K",
      "include_colab_link": true
    },
    "kernelspec": {
      "name": "python3",
      "display_name": "Python 3"
    }
  },
  "cells": [
    {
      "cell_type": "markdown",
      "metadata": {
        "id": "view-in-github",
        "colab_type": "text"
      },
      "source": [
        "<a href=\"https://colab.research.google.com/github/sv650s/amazon-review-classification/blob/master/notebooks/5.1-LSTM-misclassification-analysis.ipynb\" target=\"_parent\"><img src=\"https://colab.research.google.com/assets/colab-badge.svg\" alt=\"Open In Colab\"/></a>"
      ]
    },
    {
      "cell_type": "markdown",
      "metadata": {
        "id": "CXa4QqXuMoIp",
        "colab_type": "text"
      },
      "source": [
        "# Miscategorized Reviews by LSTM\n",
        "\n",
        "In previous notebooks, we filtered and trained LSTM network with 16 nodes based on original sample size of 1 million samples\n",
        "\n",
        "Variations and links to notebooks:\n",
        "\n",
        "\n",
        "* [1 and 5 star ratings](deep_learning/6.6.3.2-LSTMB16_15-GloVe_with_stop_nonlemmatized-1m-prototype.ipynb)\n",
        "* [1, 4, 5 star ratings](deep_learning/6.7.3.2-LSTMB16_145-GloVe_with_stop_nonlemmatized-1m-prototype.ipynb)\n",
        "* [1, 3, 4, 5 star ratings](deep_learning/6.8.3.2-LSTMB16_1345-GloVe_with_stop_nonlemmatized-1m-prototype.ipynb)\n",
        "* [All star ratings](deep_learning/6.5.3.2-LSTMB16-GloVe_with_stop_nonlemmatized-1m-prototype.ipynb)\n",
        "\n",
        "In this notebook, we will look at the model performance as well as look at specific reviews that were miscategorized\n",
        "\n",
        "For specifics, see [debugging the model](#model-debugging) section"
      ]
    },
    {
      "cell_type": "code",
      "metadata": {
        "id": "1hrLATotMjpw",
        "colab_type": "code",
        "outputId": "ddb5f909-ac60-4583-b7ec-cc878c2210ac",
        "colab": {
          "base_uri": "https://localhost:8080/",
          "height": 161
        }
      },
      "source": [
        "from google.colab import drive\n",
        "drive.mount('/content/drive')\n",
        "\n",
        "import sys\n",
        "DRIVE_DIR = \"drive/My Drive/Springboard/capstone\"\n",
        "sys.path.append(DRIVE_DIR)\n",
        "\n",
        "\n",
        "%tensorflow_version 2.x\n",
        "\n",
        "\n",
        "import tensorflow as tf\n",
        "# checl to make sure we are using GPU here\n",
        "tf.test.gpu_device_name()"
      ],
      "execution_count": 1,
      "outputs": [
        {
          "output_type": "stream",
          "text": [
            "Go to this URL in a browser: https://accounts.google.com/o/oauth2/auth?client_id=947318989803-6bn6qk8qdgf4n4g3pfee6491hc0brc4i.apps.googleusercontent.com&redirect_uri=urn%3aietf%3awg%3aoauth%3a2.0%3aoob&response_type=code&scope=email%20https%3a%2f%2fwww.googleapis.com%2fauth%2fdocs.test%20https%3a%2f%2fwww.googleapis.com%2fauth%2fdrive%20https%3a%2f%2fwww.googleapis.com%2fauth%2fdrive.photos.readonly%20https%3a%2f%2fwww.googleapis.com%2fauth%2fpeopleapi.readonly\n",
            "\n",
            "Enter your authorization code:\n",
            "··········\n",
            "Mounted at /content/drive\n",
            "TensorFlow 2.x selected.\n"
          ],
          "name": "stdout"
        },
        {
          "output_type": "execute_result",
          "data": {
            "text/plain": [
              "''"
            ]
          },
          "metadata": {
            "tags": []
          },
          "execution_count": 1
        }
      ]
    },
    {
      "cell_type": "code",
      "metadata": {
        "id": "HMXUREP8NuoH",
        "colab_type": "code",
        "colab": {}
      },
      "source": [
        "from __future__ import absolute_import, division, print_function, unicode_literals\n",
        "\n",
        "\n",
        "from tensorflow.keras.models import Sequential\n",
        "from tensorflow.keras.layers import Dense, Activation, Dropout\n",
        "from tensorflow.keras.layers import BatchNormalization\n",
        "from tensorflow.keras.callbacks import EarlyStopping, ReduceLROnPlateau\n",
        "from tensorflow.keras.models import load_model\n",
        "from tensorflow.keras.optimizers import SGD\n",
        "from tensorflow.keras.layers import Conv1D, MaxPooling1D, Embedding, \\\n",
        "    SpatialDropout1D, Flatten, LSTM\n",
        "from tensorflow.keras.preprocessing.text import Tokenizer\n",
        "from tensorflow.keras.preprocessing import sequence\n",
        "from tensorflow.keras.utils import model_to_dot\n",
        "from tensorflow.keras.initializers import Constant\n",
        "from tensorflow.keras.models import load_model\n",
        "\n",
        "\n",
        "\n",
        "from sklearn.model_selection import train_test_split\n",
        "from sklearn.preprocessing import OneHotEncoder\n",
        "from sklearn.preprocessing import LabelEncoder\n",
        "from sklearn.metrics import confusion_matrix, classification_report\n",
        "from sklearn.utils.class_weight import compute_class_weight\n",
        "\n",
        "\n",
        "import pandas as pd\n",
        "import numpy as np\n",
        "from IPython.display import SVG\n",
        "import pickle\n",
        "from datetime import datetime\n",
        "import matplotlib.pyplot as plt\n",
        "import seaborn as sns\n",
        "import os\n",
        "import logging\n",
        "import json\n",
        "from pprint import pprint\n",
        "\n",
        "\n",
        "import util.dict_util as du\n",
        "import util.plot_util as pu\n",
        "import util.file_util as fu\n",
        "import util.keras_util as ku\n",
        "import util.report_util as ru\n",
        "\n",
        "import random\n",
        "\n",
        "# fix random seeds\n",
        "tf.compat.v1.reset_default_graph()\n",
        "tf.compat.v1.set_random_seed(1)\n",
        "random.seed(1)\n",
        "np.random.seed(1)\n",
        "\n",
        "logging.basicConfig(level=logging.ERROR)\n",
        "\n",
        "%matplotlib inline\n",
        "sns.set(font_scale=1.5)\n",
        "\n",
        "\n",
        "DATE_FORMAT = '%Y-%m-%d'\n",
        "TIME_FORMAT = '%Y-%m-%d %H:%M:%S'\n",
        "LABEL_COLUMN = \"star_rating\"\n",
        "REVIEW_COLUMN = \"review_body\"\n",
        "\n",
        "\n",
        "DEBUG = False\n",
        "\n",
        "pd.set_option(\"max_colwidth\", 300)\n",
        "REPORT_FILE = f'{DRIVE_DIR}/reports/glove_embedding_with_stop_nonlemmatized-dl_prototype-report.csv'\n",
        "\n",
        "# set to True if you want to re-created out of vocab list and comprehensive dataframe from scratch\n",
        "FORCE_LOAD = False"
      ],
      "execution_count": 0,
      "outputs": []
    },
    {
      "cell_type": "markdown",
      "metadata": {
        "id": "a0dyvGOhQQEI",
        "colab_type": "text"
      },
      "source": [
        "Read in report file"
      ]
    },
    {
      "cell_type": "code",
      "metadata": {
        "id": "DMIo50QGOEvA",
        "colab_type": "code",
        "colab": {}
      },
      "source": [
        "report = pd.read_csv(REPORT_FILE, quotechar=\"'\")\n",
        "report[\"train_examples\"] = report.train_examples.astype(int)\n",
        "# 1-star and 5-star only\n",
        "lstm_15 = report[report.model_name == \"LSTMB16_15\"].copy().reset_index()\n",
        "# 1-star, 4-star, and 5-star\n",
        "lstm_145 = report[report.model_name == \"LSTMB16_145\"].copy().reset_index()\n",
        "# 1-star, 3-star, 4-star, and 5-star\n",
        "lstm_1345 = report[report.model_name == \"LSTMB16_1345\"].copy().reset_index()\n",
        "# all reviews\n",
        "lstm_all = report[report.model_name == \"LSTMB16\"].copy().reset_index()\n",
        "\n",
        "# all training used the same base sample file so we will just load one\n",
        "data_file = lstm_15.file.values[0]"
      ],
      "execution_count": 0,
      "outputs": []
    },
    {
      "cell_type": "markdown",
      "metadata": {
        "id": "91NObLfmQa0w",
        "colab_type": "text"
      },
      "source": [
        "# Fix Classification Report For Various Runs\n",
        "\n",
        "Have to remap classes from classification to the real class labels"
      ]
    },
    {
      "cell_type": "code",
      "metadata": {
        "id": "bQGnn1PJQakq",
        "colab_type": "code",
        "colab": {}
      },
      "source": [
        "# map 2->5\n",
        "cr15 = json.loads(lstm_15.classification_report.values[0])\n",
        "cr15[\"5\"] = cr15.pop(\"2\")\n",
        "lstm_15.loc[lstm_15.index, \"classification_report\"] = json.dumps(cr15)\n",
        "lstm_15[\"label\"] = \"1,5 Star\"\n",
        "lstm_15 = ru.convert_dnn_report_format(lstm_15)\n",
        "\n",
        "# map 3->5, 2->4\n",
        "cr145 = json.loads(lstm_145.classification_report.values[0])\n",
        "cr145[\"5\"] = cr145.pop(\"3\")\n",
        "cr145[\"4\"] = cr145.pop(\"2\")\n",
        "lstm_145.loc[lstm_145.index, \"classification_report\"] = json.dumps(cr145)\n",
        "lstm_145[\"label\"] = \"1,4,5 Star\"\n",
        "lstm_145 = ru.convert_dnn_report_format(lstm_145)\n",
        "\n",
        "# map 4->5, 3->4, 2->3\n",
        "cr1345 = json.loads(lstm_1345.classification_report.values[0])\n",
        "cr1345[\"5\"] = cr1345.pop(\"4\")\n",
        "cr1345[\"4\"] = cr1345.pop(\"3\")\n",
        "cr1345[\"3\"] = cr1345.pop(\"2\")\n",
        "lstm_1345.loc[lstm_1345.index, \"classification_report\"] = json.dumps(cr1345)\n",
        "lstm_1345[\"label\"] = \"1,3,4,5 Star\"\n",
        "lstm_1345 = ru.convert_dnn_report_format(lstm_1345)\n",
        "\n",
        "\n",
        "lstm_all[\"label\"] = \"All\"\n",
        "lstm_all = ru.convert_dnn_report_format(lstm_all)"
      ],
      "execution_count": 0,
      "outputs": []
    },
    {
      "cell_type": "markdown",
      "metadata": {
        "id": "IG-fvBbhnMQk",
        "colab_type": "text"
      },
      "source": [
        "## Calculate Scores For Our Models"
      ]
    },
    {
      "cell_type": "code",
      "metadata": {
        "id": "Xzs9GagfnL0M",
        "colab_type": "code",
        "colab": {}
      },
      "source": [
        "lstm_15[\"eval_metric\"] = 2 / (1 / lstm_15[\"1_precision\"] + 1 / lstm_15[\"5_precision\"])\n",
        "lstm_145[\"eval_metric\"] = 3 / (1 / lstm_145[\"1_precision\"] + 1 / lstm_145[\"4_recall\"] + 1 / lstm_145[\"5_precision\"])\n",
        "lstm_1345[\"eval_metric\"] = 4 / (1 / lstm_1345[\"1_precision\"] + \n",
        "                               1 / lstm_1345[\"3_recall\"] + \n",
        "                               1 / lstm_1345[\"4_recall\"] + \n",
        "                               1 / lstm_1345[\"5_precision\"])\n",
        "lstm_all[\"eval_metric\"] = 5 / (1 / lstm_all[\"1_precision\"] + \n",
        "                               1 / lstm_all[\"2_recall\"] + \n",
        "                               1 / lstm_all[\"3_recall\"] + \n",
        "                               1 / lstm_all[\"4_recall\"] + \n",
        "                               1 / lstm_all[\"5_precision\"])"
      ],
      "execution_count": 0,
      "outputs": []
    },
    {
      "cell_type": "code",
      "metadata": {
        "id": "G7A-nLuyWAjL",
        "colab_type": "code",
        "colab": {}
      },
      "source": [
        "report_all = pd.DataFrame()\n",
        "report_all = report_all.append(lstm_15, sort=False)\n",
        "report_all = report_all.append(lstm_145, sort=False)\n",
        "report_all = report_all.append(lstm_1345, sort=False)\n",
        "report_all = report_all.append(lstm_all, sort=False)"
      ],
      "execution_count": 0,
      "outputs": []
    },
    {
      "cell_type": "markdown",
      "metadata": {
        "id": "AyHeEiivoLix",
        "colab_type": "text"
      },
      "source": [
        "# Print Model Scores"
      ]
    },
    {
      "cell_type": "code",
      "metadata": {
        "id": "-nWo3i_Plrx2",
        "colab_type": "code",
        "outputId": "c92b2848-37bd-4e63-910b-17a367397db4",
        "colab": {
          "base_uri": "https://localhost:8080/",
          "height": 372
        }
      },
      "source": [
        "f, a = plt.subplots(1, 1, figsize=(15, 5))\n",
        "_ = sns.lineplot(report_all.label, report_all.eval_metric, marker=\"o\", sort=False)\n",
        "_ = a.set_title(\"Model Score\")\n",
        "_ = a.set_xlabel(\"Star Ratings\")\n",
        "_ = a.set_ylabel(\"Score\")"
      ],
      "execution_count": 7,
      "outputs": [
        {
          "output_type": "display_data",
          "data": {
            "image/png": "[encoded data removed]",
            "text/plain": [
              "<Figure size 1080x360 with 1 Axes>"
            ]
          },
          "metadata": {
            "tags": []
          }
        }
      ]
    },
    {
      "cell_type": "markdown",
      "metadata": {
        "id": "DnO25o6Bop5f",
        "colab_type": "text"
      },
      "source": [
        "# Classification Report\n",
        "\n",
        "* Recall stays roughly the same across\n",
        "* Precision drops as we introduce more classes\n",
        "  * 1-star and 3-star review precision drops pretty quickly as we introduct more classes"
      ]
    },
    {
      "cell_type": "code",
      "metadata": {
        "id": "9ux0PG85T0Lm",
        "colab_type": "code",
        "outputId": "94ed9710-418b-40df-e743-ddf62ca5bf07",
        "colab": {
          "base_uri": "https://localhost:8080/",
          "height": 372
        }
      },
      "source": [
        "f, a = plt.subplots(1, 2, figsize=(15, 5), sharey=True)\n",
        "sns.lineplot(report_all.label, report_all[\"1_recall\"], sort=False, label=\"1-star\", marker=\"o\", ax=a[0])\n",
        "sns.lineplot(report_all.label, report_all[\"2_recall\"], sort=False, label=\"2-star\", marker=\"o\", ax=a[0])\n",
        "sns.lineplot(report_all.label, report_all[\"3_recall\"], sort=False, label=\"3-star\", marker=\"o\", ax=a[0])\n",
        "sns.lineplot(report_all.label, report_all[\"4_recall\"], sort=False, label=\"4-star\", marker=\"o\", ax=a[0])\n",
        "sns.lineplot(report_all.label, report_all[\"5_recall\"], sort=False, label=\"5-star\", marker=\"o\", ax=a[0])\n",
        "_ = a[0].set_xlabel(\"Star Ratings\")\n",
        "_ = a[0].set_ylabel(\"\")\n",
        "_ = a[0].set_title(\"Recall\")\n",
        "\n",
        "sns.lineplot(report_all.label, report_all[\"1_precision\"], sort=False, label=\"1-star\", marker=\"o\", ax=a[1])\n",
        "sns.lineplot(report_all.label, report_all[\"2_precision\"], sort=False, label=\"2-star\", marker=\"o\", ax=a[1])\n",
        "sns.lineplot(report_all.label, report_all[\"3_precision\"], sort=False, label=\"3-star\", marker=\"o\", ax=a[1])\n",
        "sns.lineplot(report_all.label, report_all[\"4_precision\"], sort=False, label=\"4-star\", marker=\"o\", ax=a[1])\n",
        "sns.lineplot(report_all.label, report_all[\"5_precision\"], sort=False, label=\"5-star\", marker=\"o\", ax=a[1])\n",
        "_ = a[1].set_xlabel(\"Star Ratings\")\n",
        "_ = a[1].set_ylabel(\"\")\n",
        "_ = a[1].set_title(\"Precision\")"
      ],
      "execution_count": 8,
      "outputs": [
        {
          "output_type": "display_data",
          "data": {
            "image/png": "[encoded data removed]",
            "text/plain": [
              "<Figure size 1080x360 with 2 Axes>"
            ]
          },
          "metadata": {
            "tags": []
          }
        }
      ]
    },
    {
      "cell_type": "markdown",
      "metadata": {
        "id": "OtwCbsqXdrJw",
        "colab_type": "text"
      },
      "source": [
        "# Confusion Matrix For Various Runs"
      ]
    },
    {
      "cell_type": "markdown",
      "metadata": {
        "id": "93-sRr74d3kD",
        "colab_type": "text"
      },
      "source": [
        "## 1-star and 5-star Only\n",
        "\n",
        "* This is our baseline. We do have some 1-star misclassified as 5-star and vice versa but numbers look pretty reasonable. < 10% for both classes."
      ]
    },
    {
      "cell_type": "code",
      "metadata": {
        "id": "msgNLTKRZY0y",
        "colab_type": "code",
        "outputId": "8e0ab770-9f4e-4ac2-d137-9bc1d0008be3",
        "colab": {
          "base_uri": "https://localhost:8080/",
          "height": 107
        }
      },
      "source": [
        "pd.DataFrame(json.loads(lstm_15.confusion_matrix.values[0])).rename({0: 1, 1: 5}, axis=1)"
      ],
      "execution_count": 9,
      "outputs": [
        {
          "output_type": "execute_result",
          "data": {
            "text/html": [
              "<div>\n",
              "<style scoped>\n",
              "    .dataframe tbody tr th:only-of-type {\n",
              "        vertical-align: middle;\n",
              "    }\n",
              "\n",
              "    .dataframe tbody tr th {\n",
              "        vertical-align: top;\n",
              "    }\n",
              "\n",
              "    .dataframe thead th {\n",
              "        text-align: right;\n",
              "    }\n",
              "</style>\n",
              "<table border=\"1\" class=\"dataframe\">\n",
              "  <thead>\n",
              "    <tr style=\"text-align: right;\">\n",
              "      <th></th>\n",
              "      <th>1</th>\n",
              "      <th>5</th>\n",
              "    </tr>\n",
              "  </thead>\n",
              "  <tbody>\n",
              "    <tr>\n",
              "      <th>0</th>\n",
              "      <td>32550</td>\n",
              "      <td>2340</td>\n",
              "    </tr>\n",
              "    <tr>\n",
              "      <th>1</th>\n",
              "      <td>2161</td>\n",
              "      <td>131730</td>\n",
              "    </tr>\n",
              "  </tbody>\n",
              "</table>\n",
              "</div>"
            ],
            "text/plain": [
              "       1       5\n",
              "0  32550    2340\n",
              "1   2161  131730"
            ]
          },
          "metadata": {
            "tags": []
          },
          "execution_count": 9
        }
      ]
    },
    {
      "cell_type": "markdown",
      "metadata": {
        "id": "uw0JvvqoeF6G",
        "colab_type": "text"
      },
      "source": [
        "## 1-star, 4-star, 5-star\n",
        "\n",
        "* 1-star most likely misclassified as 5-star\n",
        "* 4-star most likely misclassified as 5-star\n",
        "* 5-star most likely misclassified as 4-star"
      ]
    },
    {
      "cell_type": "code",
      "metadata": {
        "id": "A5kWF5I7d894",
        "colab_type": "code",
        "outputId": "72de6107-a04b-40ef-fc52-8b8fceabcc2e",
        "colab": {
          "base_uri": "https://localhost:8080/",
          "height": 137
        }
      },
      "source": [
        "pd.DataFrame(json.loads(lstm_145.confusion_matrix.values[0])).rename({0: 1, 2: 5, 1: 4}, axis=1)"
      ],
      "execution_count": 10,
      "outputs": [
        {
          "output_type": "execute_result",
          "data": {
            "text/html": [
              "<div>\n",
              "<style scoped>\n",
              "    .dataframe tbody tr th:only-of-type {\n",
              "        vertical-align: middle;\n",
              "    }\n",
              "\n",
              "    .dataframe tbody tr th {\n",
              "        vertical-align: top;\n",
              "    }\n",
              "\n",
              "    .dataframe thead th {\n",
              "        text-align: right;\n",
              "    }\n",
              "</style>\n",
              "<table border=\"1\" class=\"dataframe\">\n",
              "  <thead>\n",
              "    <tr style=\"text-align: right;\">\n",
              "      <th></th>\n",
              "      <th>1</th>\n",
              "      <th>4</th>\n",
              "      <th>5</th>\n",
              "    </tr>\n",
              "  </thead>\n",
              "  <tbody>\n",
              "    <tr>\n",
              "      <th>0</th>\n",
              "      <td>32077</td>\n",
              "      <td>1079</td>\n",
              "      <td>1853</td>\n",
              "    </tr>\n",
              "    <tr>\n",
              "      <th>1</th>\n",
              "      <td>2015</td>\n",
              "      <td>14975</td>\n",
              "      <td>24488</td>\n",
              "    </tr>\n",
              "    <tr>\n",
              "      <th>2</th>\n",
              "      <td>1646</td>\n",
              "      <td>6165</td>\n",
              "      <td>126011</td>\n",
              "    </tr>\n",
              "  </tbody>\n",
              "</table>\n",
              "</div>"
            ],
            "text/plain": [
              "       1      4       5\n",
              "0  32077   1079    1853\n",
              "1   2015  14975   24488\n",
              "2   1646   6165  126011"
            ]
          },
          "metadata": {
            "tags": []
          },
          "execution_count": 10
        }
      ]
    },
    {
      "cell_type": "markdown",
      "metadata": {
        "id": "nwJrCjxzeVFS",
        "colab_type": "text"
      },
      "source": [
        "## 1-star, 3-star, 4-star, 5-star\n",
        "\n",
        "* 1-star most likely misclassified as 3-star\n",
        "* <b>3-star most likely misclassified as 4-star (but 1 and 5 are pretty close)</b>\n",
        "* 4-star most likely misclassified as 5-star\n",
        "* 5-star most likely misclassified as 4-star"
      ]
    },
    {
      "cell_type": "code",
      "metadata": {
        "id": "wpbyGJS1d83E",
        "colab_type": "code",
        "outputId": "8c4bb1dd-abf4-480d-98f3-0fd0be424306",
        "colab": {
          "base_uri": "https://localhost:8080/",
          "height": 167
        }
      },
      "source": [
        "pd.DataFrame(json.loads(lstm_1345.confusion_matrix.values[0])).rename({0: 1, 1: 3, 2: 4, 3: 5}, axis=1)"
      ],
      "execution_count": 11,
      "outputs": [
        {
          "output_type": "execute_result",
          "data": {
            "text/html": [
              "<div>\n",
              "<style scoped>\n",
              "    .dataframe tbody tr th:only-of-type {\n",
              "        vertical-align: middle;\n",
              "    }\n",
              "\n",
              "    .dataframe tbody tr th {\n",
              "        vertical-align: top;\n",
              "    }\n",
              "\n",
              "    .dataframe thead th {\n",
              "        text-align: right;\n",
              "    }\n",
              "</style>\n",
              "<table border=\"1\" class=\"dataframe\">\n",
              "  <thead>\n",
              "    <tr style=\"text-align: right;\">\n",
              "      <th></th>\n",
              "      <th>1</th>\n",
              "      <th>3</th>\n",
              "      <th>4</th>\n",
              "      <th>5</th>\n",
              "    </tr>\n",
              "  </thead>\n",
              "  <tbody>\n",
              "    <tr>\n",
              "      <th>0</th>\n",
              "      <td>30286</td>\n",
              "      <td>2461</td>\n",
              "      <td>444</td>\n",
              "      <td>1652</td>\n",
              "    </tr>\n",
              "    <tr>\n",
              "      <th>1</th>\n",
              "      <td>4608</td>\n",
              "      <td>9151</td>\n",
              "      <td>4710</td>\n",
              "      <td>4311</td>\n",
              "    </tr>\n",
              "    <tr>\n",
              "      <th>2</th>\n",
              "      <td>1236</td>\n",
              "      <td>4007</td>\n",
              "      <td>13028</td>\n",
              "      <td>23039</td>\n",
              "    </tr>\n",
              "    <tr>\n",
              "      <th>3</th>\n",
              "      <td>1318</td>\n",
              "      <td>1268</td>\n",
              "      <td>6071</td>\n",
              "      <td>125344</td>\n",
              "    </tr>\n",
              "  </tbody>\n",
              "</table>\n",
              "</div>"
            ],
            "text/plain": [
              "       1     3      4       5\n",
              "0  30286  2461    444    1652\n",
              "1   4608  9151   4710    4311\n",
              "2   1236  4007  13028   23039\n",
              "3   1318  1268   6071  125344"
            ]
          },
          "metadata": {
            "tags": []
          },
          "execution_count": 11
        }
      ]
    },
    {
      "cell_type": "markdown",
      "metadata": {
        "id": "BJC2r6tredmr",
        "colab_type": "text"
      },
      "source": [
        "## All star ratings\n",
        "\n",
        "* 1-star most likely misclassified as 3-star\n",
        "* <b>2-star most likely misclassified as 1-star, 2-star is more likely to be misclassified as 1-star than itself</b>\n",
        "* <b>3-star most likley misclassified as 5-star, then 4-star and 1-star</b>\n",
        "* 4-star most likely misclassified as 5-star\n",
        "* 5-star most likely misclassified as 4-star"
      ]
    },
    {
      "cell_type": "code",
      "metadata": {
        "id": "6xkKQyFKd8zU",
        "colab_type": "code",
        "outputId": "db9feab9-4767-494b-c53c-2eb17b1db69e",
        "colab": {
          "base_uri": "https://localhost:8080/",
          "height": 197
        }
      },
      "source": [
        "pd.DataFrame(json.loads(lstm_all.confusion_matrix.values[0])).rename({0: 1, 1: 2, 2: 3, 3: 4, 4: 5}, axis=1)"
      ],
      "execution_count": 12,
      "outputs": [
        {
          "output_type": "execute_result",
          "data": {
            "text/html": [
              "<div>\n",
              "<style scoped>\n",
              "    .dataframe tbody tr th:only-of-type {\n",
              "        vertical-align: middle;\n",
              "    }\n",
              "\n",
              "    .dataframe tbody tr th {\n",
              "        vertical-align: top;\n",
              "    }\n",
              "\n",
              "    .dataframe thead th {\n",
              "        text-align: right;\n",
              "    }\n",
              "</style>\n",
              "<table border=\"1\" class=\"dataframe\">\n",
              "  <thead>\n",
              "    <tr style=\"text-align: right;\">\n",
              "      <th></th>\n",
              "      <th>1</th>\n",
              "      <th>2</th>\n",
              "      <th>3</th>\n",
              "      <th>4</th>\n",
              "      <th>5</th>\n",
              "    </tr>\n",
              "  </thead>\n",
              "  <tbody>\n",
              "    <tr>\n",
              "      <th>0</th>\n",
              "      <td>29386</td>\n",
              "      <td>1772</td>\n",
              "      <td>2041</td>\n",
              "      <td>219</td>\n",
              "      <td>1601</td>\n",
              "    </tr>\n",
              "    <tr>\n",
              "      <th>1</th>\n",
              "      <td>8135</td>\n",
              "      <td>2428</td>\n",
              "      <td>4045</td>\n",
              "      <td>643</td>\n",
              "      <td>1349</td>\n",
              "    </tr>\n",
              "    <tr>\n",
              "      <th>2</th>\n",
              "      <td>3751</td>\n",
              "      <td>1679</td>\n",
              "      <td>8794</td>\n",
              "      <td>3673</td>\n",
              "      <td>4374</td>\n",
              "    </tr>\n",
              "    <tr>\n",
              "      <th>3</th>\n",
              "      <td>1132</td>\n",
              "      <td>344</td>\n",
              "      <td>4585</td>\n",
              "      <td>11357</td>\n",
              "      <td>24217</td>\n",
              "    </tr>\n",
              "    <tr>\n",
              "      <th>4</th>\n",
              "      <td>1346</td>\n",
              "      <td>144</td>\n",
              "      <td>1599</td>\n",
              "      <td>5223</td>\n",
              "      <td>125584</td>\n",
              "    </tr>\n",
              "  </tbody>\n",
              "</table>\n",
              "</div>"
            ],
            "text/plain": [
              "       1     2     3      4       5\n",
              "0  29386  1772  2041    219    1601\n",
              "1   8135  2428  4045    643    1349\n",
              "2   3751  1679  8794   3673    4374\n",
              "3   1132   344  4585  11357   24217\n",
              "4   1346   144  1599   5223  125584"
            ]
          },
          "metadata": {
            "tags": []
          },
          "execution_count": 12
        }
      ]
    },
    {
      "cell_type": "markdown",
      "metadata": {
        "id": "1eoEW6aTfgpB",
        "colab_type": "text"
      },
      "source": [
        "# Look at Specific Reviews That Are Misclassified"
      ]
    },
    {
      "cell_type": "code",
      "metadata": {
        "id": "2WGdbXavd8vY",
        "colab_type": "code",
        "outputId": "447ac0e0-187a-41e4-a6bc-3e711da43d7e",
        "colab": {
          "base_uri": "https://localhost:8080/",
          "height": 34
        }
      },
      "source": [
        "# Read data file - we know they all started with the same data file so let's just pick one to start with\n",
        "DATA_FILE = lstm_15.file.values[0]\n",
        "print(f'Reading datafile: {DATA_FILE}')\n",
        "df = pd.read_csv(DATA_FILE, encoding='utf8', engine='python')"
      ],
      "execution_count": 13,
      "outputs": [
        {
          "output_type": "stream",
          "text": [
            "Reading datafile: drive/My Drive/Springboard/capstone/data/amazon_reviews_us_Wireless_v1_00-1m-with_stop_nonlemmatized-preprocessed.csv\n"
          ],
          "name": "stdout"
        }
      ]
    },
    {
      "cell_type": "markdown",
      "metadata": {
        "id": "lkwuRSqFvCuw",
        "colab_type": "text"
      },
      "source": [
        "# 1-Star and 5-Star Only"
      ]
    },
    {
      "cell_type": "code",
      "metadata": {
        "id": "FBoLSxc_hT63",
        "colab_type": "code",
        "colab": {}
      },
      "source": [
        "MAX_SEQUENCE_LENGTH = 100\n",
        "\n",
        "def load_and_predict(report: pd.DataFrame, reviews_test):\n",
        "  \"\"\"\n",
        "  :param report: report DF\n",
        "  :param classes: list of classes to keep\n",
        "  :return: mode, tokenizer, predictions, unencoded predictions\n",
        "  \"\"\"\n",
        "  print(f'Loading tokenizer file: {report.tokenizer_file.values[0]}')\n",
        "  with open(report.tokenizer_file.values[0], 'rb') as file:\n",
        "    t = pickle.load(file)\n",
        "\n",
        "  # Pre-process our features (review body)\n",
        "  # t = Tokenizer(oov_token=\"<UNK>\")\n",
        "  # fit the tokenizer on the documents\n",
        "  # t.fit_on_texts(reviews_train)\n",
        "  # tokenize both our training and test data\n",
        "  test_sequences = t.texts_to_sequences(reviews_test)\n",
        "\n",
        "  print(\"Vocabulary size={}\".format(len(t.word_counts)))\n",
        "  print(\"Number of Documents={}\".format(t.document_count))\n",
        "\n",
        "\n",
        "  # pad our reviews to the max sequence length\n",
        "  X_test = sequence.pad_sequences(test_sequences, maxlen=MAX_SEQUENCE_LENGTH)\n",
        "\n",
        "  print('Test review vectors shape:', X_test.shape)\n",
        "\n",
        "  print(f'Loading model file: {report.model_file.values[0]}')\n",
        "  model = load_model(report.model_file.values[0])\n",
        "  print(f'Predicting test set...')\n",
        "  y_predict = model.predict(X_test)\n",
        "\n",
        "  print(f'Unencoding predictions...')\n",
        "  y_predict_unencoded = ku.unencode(y_predict)\n",
        "\n",
        "  return model, t, y_predict, y_predict_unencoded\n",
        "\n",
        "\n"
      ],
      "execution_count": 0,
      "outputs": []
    },
    {
      "cell_type": "markdown",
      "metadata": {
        "id": "cy2BRHmOuTwE",
        "colab_type": "text"
      },
      "source": [
        "### Incorrect Results For 1-Star and 5-Star only\n",
        "\n",
        "* Unmap predictions to original star ratings\n",
        "* merge with reviews so we can look at the text"
      ]
    },
    {
      "cell_type": "code",
      "metadata": {
        "id": "N-5BXvISwNld",
        "colab_type": "code",
        "outputId": "b42787d7-e563-4ae5-fdd1-3885c9eb6bf5",
        "colab": {
          "base_uri": "https://localhost:8080/",
          "height": 267
        }
      },
      "source": [
        "# predict 15\n",
        "df_15 = df[(df[LABEL_COLUMN] == 1) | (df[LABEL_COLUMN] == 5)]\n",
        "# have to set 5's to 2's so we can compute class weights later\n",
        "df_15.loc[df[LABEL_COLUMN] == 5, LABEL_COLUMN] = 2\n",
        "CLASSES = 2\n",
        "\n",
        "ratings_15 = df_15[LABEL_COLUMN]\n",
        "reviews_15 = df_15[REVIEW_COLUMN]\n",
        "\n",
        "reviews_train_15, reviews_test_15, y_train_15, y_test_15 = train_test_split(reviews_15, ratings_15, random_state=1)\n",
        "\n",
        "model_15, t_15, y_predict_15, y_predict_unencoded_15 = load_and_predict(lstm_15, reviews_test_15)"
      ],
      "execution_count": 15,
      "outputs": [
        {
          "output_type": "stream",
          "text": [
            "/usr/local/lib/python3.6/dist-packages/pandas/core/indexing.py:494: SettingWithCopyWarning: \n",
            "A value is trying to be set on a copy of a slice from a DataFrame.\n",
            "Try using .loc[row_indexer,col_indexer] = value instead\n",
            "\n",
            "See the caveats in the documentation: http://pandas.pydata.org/pandas-docs/stable/user_guide/indexing.html#returning-a-view-versus-a-copy\n",
            "  self.obj[item] = s\n"
          ],
          "name": "stderr"
        },
        {
          "output_type": "stream",
          "text": [
            "Loading tokenizer file: drive/My Drive/Springboard/capstone/models/LSTMB16_15-1x16-glove_with_stop_nonlemmatized-sampling_none-675121-100-star_rating-tokenizer.pkl\n",
            "Vocabulary size=89257\n",
            "Number of Documents=506340\n",
            "Test review vectors shape: (168781, 100)\n",
            "Loading model file: drive/My Drive/Springboard/capstone/models/LSTMB16_15-1x16-glove_with_stop_nonlemmatized-sampling_none-675121-100-star_rating-model.h5\n",
            "Predicting test set...\n",
            "Unencoding predictions...\n"
          ],
          "name": "stdout"
        }
      ]
    },
    {
      "cell_type": "code",
      "metadata": {
        "id": "seAuQcWqrPsB",
        "colab_type": "code",
        "colab": {}
      },
      "source": [
        "def unmap_15(y_unencoded: pd.DataFrame):\n",
        "  # unmap preidctions 2->5\n",
        "  y_unencoded.loc[results_15.true_15 == 2, \"true_15\"] = 5\n",
        "  y_unencoded.loc[results_15.predict_15 == 2, \"predict_15\"] = 5\n",
        "  return y_unencoded\n",
        "\n",
        "\n",
        "results_15 = pd.DataFrame({\"true_15\": y_test_15, \"predict_15\": y_predict_unencoded_15})\n",
        "unmap_15(results_15)\n",
        "\n",
        "results_15 = results_15.join(reviews_test_15).reset_index().rename({\"index\": \"index_orig\"}, axis=1)\n"
      ],
      "execution_count": 0,
      "outputs": []
    },
    {
      "cell_type": "code",
      "metadata": {
        "id": "8a7nc5aK8nRo",
        "colab_type": "code",
        "outputId": "8c7d839f-600b-4150-bf00-b9ebb8d91f17",
        "colab": {
          "base_uri": "https://localhost:8080/",
          "height": 481
        }
      },
      "source": [
        "results_15[results_15.true_15 != results_15.predict_15].head(10)"
      ],
      "execution_count": 17,
      "outputs": [
        {
          "output_type": "execute_result",
          "data": {
            "text/html": [
              "<div>\n",
              "<style scoped>\n",
              "    .dataframe tbody tr th:only-of-type {\n",
              "        vertical-align: middle;\n",
              "    }\n",
              "\n",
              "    .dataframe tbody tr th {\n",
              "        vertical-align: top;\n",
              "    }\n",
              "\n",
              "    .dataframe thead th {\n",
              "        text-align: right;\n",
              "    }\n",
              "</style>\n",
              "<table border=\"1\" class=\"dataframe\">\n",
              "  <thead>\n",
              "    <tr style=\"text-align: right;\">\n",
              "      <th></th>\n",
              "      <th>index_orig</th>\n",
              "      <th>true_15</th>\n",
              "      <th>predict_15</th>\n",
              "      <th>review_body</th>\n",
              "    </tr>\n",
              "  </thead>\n",
              "  <tbody>\n",
              "    <tr>\n",
              "      <th>9</th>\n",
              "      <td>284842</td>\n",
              "      <td>5</td>\n",
              "      <td>1</td>\n",
              "      <td>i have purchased a number of after market chargers and they all eventually fail i am very happy to report that it worked from the get go and keeping my fingers crossed the ubiquitous your phone does not support the is device has not popped up</td>\n",
              "    </tr>\n",
              "    <tr>\n",
              "      <th>19</th>\n",
              "      <td>947004</td>\n",
              "      <td>1</td>\n",
              "      <td>5</td>\n",
              "      <td>very misleading this is not an otterbox like i have purchased from the store it does not say otterbox on it it is not made like an otterbox either it is kind of a knock off the clear plastic insterts that cover the camera lenses you have to glue these on yourself it is like performing surgery ca...</td>\n",
              "    </tr>\n",
              "    <tr>\n",
              "      <th>30</th>\n",
              "      <td>875542</td>\n",
              "      <td>5</td>\n",
              "      <td>1</td>\n",
              "      <td>the mount works great and looks real nice the wire for it deffinently was a rip off though they also had no wireing diagram so if you cant use a voltmeter wire and mount are kind of worthless</td>\n",
              "    </tr>\n",
              "    <tr>\n",
              "      <th>61</th>\n",
              "      <td>528773</td>\n",
              "      <td>5</td>\n",
              "      <td>1</td>\n",
              "      <td>after it was in my drawer for a long ti ame i installed it on my htc and it is not that good all the corners and sides have air in them like a long bubble and also in the bottom left corner the whole protector is turning up so a lot of dust got in there until it sticked it get scratches pretty e...</td>\n",
              "    </tr>\n",
              "    <tr>\n",
              "      <th>85</th>\n",
              "      <td>326416</td>\n",
              "      <td>5</td>\n",
              "      <td>1</td>\n",
              "      <td>poor quality</td>\n",
              "    </tr>\n",
              "    <tr>\n",
              "      <th>117</th>\n",
              "      <td>587687</td>\n",
              "      <td>5</td>\n",
              "      <td>1</td>\n",
              "      <td>bought them for my workers and they are fine with it nobody report the product is bad not hard to use</td>\n",
              "    </tr>\n",
              "    <tr>\n",
              "      <th>154</th>\n",
              "      <td>756433</td>\n",
              "      <td>5</td>\n",
              "      <td>1</td>\n",
              "      <td>love the colors and design of this case i would not recommend the case if you are looking for something that covers the front</td>\n",
              "    </tr>\n",
              "    <tr>\n",
              "      <th>178</th>\n",
              "      <td>823493</td>\n",
              "      <td>5</td>\n",
              "      <td>1</td>\n",
              "      <td>cant wait to get my dock extender to try it out just like previous one i bought through apple awesome and cheap but high quality</td>\n",
              "    </tr>\n",
              "    <tr>\n",
              "      <th>179</th>\n",
              "      <td>936181</td>\n",
              "      <td>1</td>\n",
              "      <td>5</td>\n",
              "      <td>samsung has left this model out to dry the sprint model already has the new honycomb os update this model no word or care from t mobile or samsung on if the device will ever have the modern software all other devices can use or be left in the dark forever also the front camera does work it might...</td>\n",
              "    </tr>\n",
              "    <tr>\n",
              "      <th>193</th>\n",
              "      <td>762066</td>\n",
              "      <td>1</td>\n",
              "      <td>5</td>\n",
              "      <td>front rubber comes out everyone i use the pen why would amazon let this pensell on their website site</td>\n",
              "    </tr>\n",
              "  </tbody>\n",
              "</table>\n",
              "</div>"
            ],
            "text/plain": [
              "     index_orig  ...                                                                                                                                                                                                                                                                                                  review_body\n",
              "9        284842  ...                                                           i have purchased a number of after market chargers and they all eventually fail i am very happy to report that it worked from the get go and keeping my fingers crossed the ubiquitous your phone does not support the is device has not popped up\n",
              "19       947004  ...  very misleading this is not an otterbox like i have purchased from the store it does not say otterbox on it it is not made like an otterbox either it is kind of a knock off the clear plastic insterts that cover the camera lenses you have to glue these on yourself it is like performing surgery ca...\n",
              "30       875542  ...                                                                                                              the mount works great and looks real nice the wire for it deffinently was a rip off though they also had no wireing diagram so if you cant use a voltmeter wire and mount are kind of worthless\n",
              "61       528773  ...  after it was in my drawer for a long ti ame i installed it on my htc and it is not that good all the corners and sides have air in them like a long bubble and also in the bottom left corner the whole protector is turning up so a lot of dust got in there until it sticked it get scratches pretty e...\n",
              "85       326416  ...                                                                                                                                                                                                                                                                                                 poor quality\n",
              "117      587687  ...                                                                                                                                                                                                        bought them for my workers and they are fine with it nobody report the product is bad not hard to use\n",
              "154      756433  ...                                                                                                                                                                                love the colors and design of this case i would not recommend the case if you are looking for something that covers the front\n",
              "178      823493  ...                                                                                                                                                                             cant wait to get my dock extender to try it out just like previous one i bought through apple awesome and cheap but high quality\n",
              "179      936181  ...  samsung has left this model out to dry the sprint model already has the new honycomb os update this model no word or care from t mobile or samsung on if the device will ever have the modern software all other devices can use or be left in the dark forever also the front camera does work it might...\n",
              "193      762066  ...                                                                                                                                                                                                        front rubber comes out everyone i use the pen why would amazon let this pensell on their website site\n",
              "\n",
              "[10 rows x 4 columns]"
            ]
          },
          "metadata": {
            "tags": []
          },
          "execution_count": 17
        }
      ]
    },
    {
      "cell_type": "code",
      "metadata": {
        "id": "ZpItFBTBoQpk",
        "colab_type": "code",
        "outputId": "04c7771a-5894-4547-812c-fb20fd38522b",
        "colab": {
          "base_uri": "https://localhost:8080/",
          "height": 54
        }
      },
      "source": [
        "reviews_15.iloc[326416]"
      ],
      "execution_count": 18,
      "outputs": [
        {
          "output_type": "execute_result",
          "data": {
            "text/plain": [
              "'worked like a charm for fixing my smashed up phone face my friend did the total replacement for me in under an hour it was his second ti ame going through it the first ti ame he said it took hi am over 2 hours to get the hang of it make a template for where all of the items that you take off go back in place and it will be much easier'"
            ]
          },
          "metadata": {
            "tags": []
          },
          "execution_count": 18
        }
      ]
    },
    {
      "cell_type": "markdown",
      "metadata": {
        "id": "vQ6B_rpQvHX1",
        "colab_type": "text"
      },
      "source": [
        "# 1-Star, 4-Star, and 5-Star"
      ]
    },
    {
      "cell_type": "code",
      "metadata": {
        "id": "CaYgwuyPd8uG",
        "colab_type": "code",
        "outputId": "c7afbd7a-6c0a-4b20-c6b9-553ddbf70450",
        "colab": {
          "base_uri": "https://localhost:8080/",
          "height": 267
        }
      },
      "source": [
        "# predict 145\n",
        "df_145 = df[(df[LABEL_COLUMN] == 1) | (df[LABEL_COLUMN] == 4) | (df[LABEL_COLUMN] == 5)]\n",
        "# have to set 4->2, 5->3\n",
        "df_145.loc[df[LABEL_COLUMN] == 4, LABEL_COLUMN] = 2\n",
        "df_145.loc[df[LABEL_COLUMN] == 5, LABEL_COLUMN] = 3\n",
        "\n",
        "ratings_145 = df_145[LABEL_COLUMN]\n",
        "reviews_145 = df_145[REVIEW_COLUMN]\n",
        "\n",
        "reviews_train_145, reviews_test_145, y_train_145, y_test_145 = train_test_split(reviews_145, ratings_145, random_state=1)\n",
        "\n",
        "model_145, t_145, y_predict_145, y_predict_unencoded_145 = load_and_predict(lstm_145, \n",
        "                                                                     reviews_test_145)\n",
        "\n"
      ],
      "execution_count": 19,
      "outputs": [
        {
          "output_type": "stream",
          "text": [
            "/usr/local/lib/python3.6/dist-packages/pandas/core/indexing.py:494: SettingWithCopyWarning: \n",
            "A value is trying to be set on a copy of a slice from a DataFrame.\n",
            "Try using .loc[row_indexer,col_indexer] = value instead\n",
            "\n",
            "See the caveats in the documentation: http://pandas.pydata.org/pandas-docs/stable/user_guide/indexing.html#returning-a-view-versus-a-copy\n",
            "  self.obj[item] = s\n"
          ],
          "name": "stderr"
        },
        {
          "output_type": "stream",
          "text": [
            "Loading tokenizer file: drive/My Drive/Springboard/capstone/models/LSTMB16_145-1x16-glove_with_stop_nonlemmatized-sampling_none-841233-100-star_rating-tokenizer.pkl\n",
            "Vocabulary size=104958\n",
            "Number of Documents=630924\n",
            "Test review vectors shape: (210309, 100)\n",
            "Loading model file: drive/My Drive/Springboard/capstone/models/LSTMB16_145-1x16-glove_with_stop_nonlemmatized-sampling_none-841233-100-star_rating-model.h5\n",
            "Predicting test set...\n",
            "Unencoding predictions...\n"
          ],
          "name": "stdout"
        }
      ]
    },
    {
      "cell_type": "code",
      "metadata": {
        "id": "UzHByqejwcka",
        "colab_type": "code",
        "colab": {}
      },
      "source": [
        "def unmap_145(y_encoded: pd.DataFrame):\n",
        "  y_encoded.loc[y_encoded.true_145 == 2, \"true_145\"] = 4\n",
        "  y_encoded.loc[y_encoded.true_145 == 3, \"true_145\"] = 5\n",
        "  y_encoded.loc[y_encoded.predict_145 == 2, \"predict_145\"] = 4\n",
        "  y_encoded.loc[y_encoded.predict_145 == 3, \"predict_145\"] = 5\n",
        "  return y_encoded\n",
        "\n",
        "\n",
        "results_145 = pd.DataFrame({\"true_145\": y_test_145, \"predict_145\": y_predict_unencoded_145})\n",
        "\n",
        "# unmap preidctions 2->4, 3->5\n",
        "# results_145.loc[results_145.true_145 == 2, \"true_145\"] = 4\n",
        "# results_145.loc[results_145.true_145 == 3, \"true_145\"] = 5\n",
        "# results_145.loc[results_145.predict_145 == 2, \"predict_145\"] = 4\n",
        "# results_145.loc[results_145.predict_145 == 3, \"predict_145\"] = 5\n",
        "unmap_145(results_145)\n",
        "\n",
        "results_145 = results_145.join(reviews_test_145).reset_index().rename({\"index\": \"index_orig\"}, axis=1)\n"
      ],
      "execution_count": 0,
      "outputs": []
    },
    {
      "cell_type": "markdown",
      "metadata": {
        "id": "9RCHd98RxG6i",
        "colab_type": "text"
      },
      "source": [
        "### Misclassified 1-Star Reviews"
      ]
    },
    {
      "cell_type": "code",
      "metadata": {
        "id": "OyXqIEjfwcbF",
        "colab_type": "code",
        "outputId": "2a101dad-fa05-46da-ae55-5e75f48a355b",
        "colab": {
          "base_uri": "https://localhost:8080/",
          "height": 497
        }
      },
      "source": [
        "results_145[(results_145.true_145 == 1) & \n",
        "            (results_145.true_145 != results_145.predict_145)].head(10)"
      ],
      "execution_count": 21,
      "outputs": [
        {
          "output_type": "execute_result",
          "data": {
            "text/html": [
              "<div>\n",
              "<style scoped>\n",
              "    .dataframe tbody tr th:only-of-type {\n",
              "        vertical-align: middle;\n",
              "    }\n",
              "\n",
              "    .dataframe tbody tr th {\n",
              "        vertical-align: top;\n",
              "    }\n",
              "\n",
              "    .dataframe thead th {\n",
              "        text-align: right;\n",
              "    }\n",
              "</style>\n",
              "<table border=\"1\" class=\"dataframe\">\n",
              "  <thead>\n",
              "    <tr style=\"text-align: right;\">\n",
              "      <th></th>\n",
              "      <th>index_orig</th>\n",
              "      <th>true_145</th>\n",
              "      <th>predict_145</th>\n",
              "      <th>review_body</th>\n",
              "    </tr>\n",
              "  </thead>\n",
              "  <tbody>\n",
              "    <tr>\n",
              "      <th>7</th>\n",
              "      <td>165367</td>\n",
              "      <td>1</td>\n",
              "      <td>5</td>\n",
              "      <td>it is degrees here in florida and the smart watch continuously shows i must say i wish i hope that is was just that one i am checking into the gear live watch maybe that will work for me</td>\n",
              "    </tr>\n",
              "    <tr>\n",
              "      <th>160</th>\n",
              "      <td>210353</td>\n",
              "      <td>1</td>\n",
              "      <td>5</td>\n",
              "      <td>what you are seeing on everyone elses review is accurate the sound quality of these headphones is on par with a tin can and a string i bought a pair at the dollar store and chose the brand name over an equally priced competitor that i would never heard of i am regretting my decision i ammensely</td>\n",
              "    </tr>\n",
              "    <tr>\n",
              "      <th>237</th>\n",
              "      <td>753082</td>\n",
              "      <td>1</td>\n",
              "      <td>5</td>\n",
              "      <td>update days beyond warranty one year and days after purchase the flip out stand ceased to remain closed the magnet in the stand became detached i stuck it back in but it will not stay in not that seidio would have done anything because they do not stand behind their products even from normal use...</td>\n",
              "    </tr>\n",
              "    <tr>\n",
              "      <th>337</th>\n",
              "      <td>267399</td>\n",
              "      <td>1</td>\n",
              "      <td>5</td>\n",
              "      <td>the leather printed with mk is crooked the mk s are running down hill</td>\n",
              "    </tr>\n",
              "    <tr>\n",
              "      <th>374</th>\n",
              "      <td>880078</td>\n",
              "      <td>1</td>\n",
              "      <td>4</td>\n",
              "      <td>frustration is the keyword to describe this bluetooth earpiece because it will not stay on my head or in my ear this is not my first bluetooth unit my jabra and motorola have problem free earpieces human ears are certainly rich and varied in size and shape but that is a given not a surprise and ...</td>\n",
              "    </tr>\n",
              "    <tr>\n",
              "      <th>480</th>\n",
              "      <td>165662</td>\n",
              "      <td>1</td>\n",
              "      <td>5</td>\n",
              "      <td>way to small for an adult man</td>\n",
              "    </tr>\n",
              "    <tr>\n",
              "      <th>586</th>\n",
              "      <td>34964</td>\n",
              "      <td>1</td>\n",
              "      <td>5</td>\n",
              "      <td>does not have built in blue tooth surely this unit does an excellent job as a cd player and plug in usb media player and the package came in good shape all parts included new and clean i bought it specifically for the blue tooth however and was very disappointed</td>\n",
              "    </tr>\n",
              "    <tr>\n",
              "      <th>629</th>\n",
              "      <td>746840</td>\n",
              "      <td>1</td>\n",
              "      <td>5</td>\n",
              "      <td>black extreme rugged i ampact armor hybrid hard case cover belt clip holster i bought this item because i needed a belt clip holster for my new i received just a case with a stupid stand no belt clip i buy an item and its not what i even wanted</td>\n",
              "    </tr>\n",
              "    <tr>\n",
              "      <th>675</th>\n",
              "      <td>184622</td>\n",
              "      <td>1</td>\n",
              "      <td>5</td>\n",
              "      <td>looks very cheap color was slightly off this is something a teeny bopper would love</td>\n",
              "    </tr>\n",
              "    <tr>\n",
              "      <th>684</th>\n",
              "      <td>349748</td>\n",
              "      <td>1</td>\n",
              "      <td>5</td>\n",
              "      <td>1 port usb ok rubber cap good interesting part</td>\n",
              "    </tr>\n",
              "  </tbody>\n",
              "</table>\n",
              "</div>"
            ],
            "text/plain": [
              "     index_orig  ...                                                                                                                                                                                                                                                                                                  review_body\n",
              "7        165367  ...                                                                                                                   it is degrees here in florida and the smart watch continuously shows i must say i wish i hope that is was just that one i am checking into the gear live watch maybe that will work for me\n",
              "160      210353  ...      what you are seeing on everyone elses review is accurate the sound quality of these headphones is on par with a tin can and a string i bought a pair at the dollar store and chose the brand name over an equally priced competitor that i would never heard of i am regretting my decision i ammensely\n",
              "237      753082  ...  update days beyond warranty one year and days after purchase the flip out stand ceased to remain closed the magnet in the stand became detached i stuck it back in but it will not stay in not that seidio would have done anything because they do not stand behind their products even from normal use...\n",
              "337      267399  ...                                                                                                                                                                                                                                        the leather printed with mk is crooked the mk s are running down hill\n",
              "374      880078  ...  frustration is the keyword to describe this bluetooth earpiece because it will not stay on my head or in my ear this is not my first bluetooth unit my jabra and motorola have problem free earpieces human ears are certainly rich and varied in size and shape but that is a given not a surprise and ...\n",
              "480      165662  ...                                                                                                                                                                                                                                                                                way to small for an adult man\n",
              "586       34964  ...                                       does not have built in blue tooth surely this unit does an excellent job as a cd player and plug in usb media player and the package came in good shape all parts included new and clean i bought it specifically for the blue tooth however and was very disappointed\n",
              "629      746840  ...                                                         black extreme rugged i ampact armor hybrid hard case cover belt clip holster i bought this item because i needed a belt clip holster for my new i received just a case with a stupid stand no belt clip i buy an item and its not what i even wanted\n",
              "675      184622  ...                                                                                                                                                                                                                          looks very cheap color was slightly off this is something a teeny bopper would love\n",
              "684      349748  ...                                                                                                                                                                                                                                                               1 port usb ok rubber cap good interesting part\n",
              "\n",
              "[10 rows x 4 columns]"
            ]
          },
          "metadata": {
            "tags": []
          },
          "execution_count": 21
        }
      ]
    },
    {
      "cell_type": "markdown",
      "metadata": {
        "id": "NKmgGfPHinD_",
        "colab_type": "text"
      },
      "source": [
        "### Misclassified 4-Star Reviews\n",
        "\n",
        "* 4 misclassified as 5"
      ]
    },
    {
      "cell_type": "code",
      "metadata": {
        "id": "930QH6xIwcYR",
        "colab_type": "code",
        "outputId": "9bb2d242-b800-4c29-e2b4-2a7c839518d2",
        "colab": {
          "base_uri": "https://localhost:8080/",
          "height": 881
        }
      },
      "source": [
        "results_145[(results_145.true_145 == 4) & \n",
        "            (results_145.predict_145 == 5) & \n",
        "            (results_145.true_145 != results_145.predict_145)].head(20)"
      ],
      "execution_count": 22,
      "outputs": [
        {
          "output_type": "execute_result",
          "data": {
            "text/html": [
              "<div>\n",
              "<style scoped>\n",
              "    .dataframe tbody tr th:only-of-type {\n",
              "        vertical-align: middle;\n",
              "    }\n",
              "\n",
              "    .dataframe tbody tr th {\n",
              "        vertical-align: top;\n",
              "    }\n",
              "\n",
              "    .dataframe thead th {\n",
              "        text-align: right;\n",
              "    }\n",
              "</style>\n",
              "<table border=\"1\" class=\"dataframe\">\n",
              "  <thead>\n",
              "    <tr style=\"text-align: right;\">\n",
              "      <th></th>\n",
              "      <th>index_orig</th>\n",
              "      <th>true_145</th>\n",
              "      <th>predict_145</th>\n",
              "      <th>review_body</th>\n",
              "    </tr>\n",
              "  </thead>\n",
              "  <tbody>\n",
              "    <tr>\n",
              "      <th>2</th>\n",
              "      <td>292311</td>\n",
              "      <td>4</td>\n",
              "      <td>5</td>\n",
              "      <td>works effectively just do not get a cri amp in them</td>\n",
              "    </tr>\n",
              "    <tr>\n",
              "      <th>4</th>\n",
              "      <td>569553</td>\n",
              "      <td>4</td>\n",
              "      <td>5</td>\n",
              "      <td>used 2 out of the pack as far as i can tell they do the job would buy again if i did not hate the phone</td>\n",
              "    </tr>\n",
              "    <tr>\n",
              "      <th>23</th>\n",
              "      <td>814850</td>\n",
              "      <td>4</td>\n",
              "      <td>5</td>\n",
              "      <td>this is a lovely cellphone case that really protects my phone and it was very affordable i am very pleased with it</td>\n",
              "    </tr>\n",
              "    <tr>\n",
              "      <th>26</th>\n",
              "      <td>783777</td>\n",
              "      <td>4</td>\n",
              "      <td>5</td>\n",
              "      <td>bought this case for my i phone 4 and it fits perfect it keeps my phone from getting scratches it is durable</td>\n",
              "    </tr>\n",
              "    <tr>\n",
              "      <th>29</th>\n",
              "      <td>280042</td>\n",
              "      <td>4</td>\n",
              "      <td>5</td>\n",
              "      <td>great for phones</td>\n",
              "    </tr>\n",
              "    <tr>\n",
              "      <th>30</th>\n",
              "      <td>746017</td>\n",
              "      <td>4</td>\n",
              "      <td>5</td>\n",
              "      <td>i have gotten so many compli aments over this case it is so tiny so it slides easily into my pocket too the shipping was fast just be careful not to be a person dropping around your phone a lot plastic clip ons are more for looks</td>\n",
              "    </tr>\n",
              "    <tr>\n",
              "      <th>57</th>\n",
              "      <td>623423</td>\n",
              "      <td>4</td>\n",
              "      <td>5</td>\n",
              "      <td>this battery is amazing cannot kill it all day now no matter what i do back cover is not perfect but it is not as bad as everyone here clai ams the only problem i had is that the power button was being constantly pressed i had to fix that myself other than that best 7 spend ever finally i can ac...</td>\n",
              "    </tr>\n",
              "    <tr>\n",
              "      <th>60</th>\n",
              "      <td>345057</td>\n",
              "      <td>4</td>\n",
              "      <td>5</td>\n",
              "      <td>works well grandson very pleased with product exceeds expectations</td>\n",
              "    </tr>\n",
              "    <tr>\n",
              "      <th>62</th>\n",
              "      <td>448612</td>\n",
              "      <td>4</td>\n",
              "      <td>5</td>\n",
              "      <td>these are helpful plenty in a package at a good price not as sticky as you would like though</td>\n",
              "    </tr>\n",
              "    <tr>\n",
              "      <th>64</th>\n",
              "      <td>450524</td>\n",
              "      <td>4</td>\n",
              "      <td>5</td>\n",
              "      <td>this is a very nice case it fits the iphone 6 perfectly and does add bulk to the phone the only issue is if you want to place the phone on it is face lets say on a table i would not do that the edges of the case do not have enough thickness to keep the phones face from being scratched by somethi...</td>\n",
              "    </tr>\n",
              "    <tr>\n",
              "      <th>75</th>\n",
              "      <td>876180</td>\n",
              "      <td>4</td>\n",
              "      <td>5</td>\n",
              "      <td>love this case for my droid razr just wish itcame in another color besides black and pink also amazon has best price for this case would definitely recommend this purchase</td>\n",
              "    </tr>\n",
              "    <tr>\n",
              "      <th>84</th>\n",
              "      <td>124006</td>\n",
              "      <td>4</td>\n",
              "      <td>5</td>\n",
              "      <td>this is the second ti ame i bought this product for my familys member for less than it is such a great iphone case out there si amplicity clear and sli am but also durable and protective i dropped my phone so many ti ames the case was chipped at the corner while safely protect my iphone</td>\n",
              "    </tr>\n",
              "    <tr>\n",
              "      <th>90</th>\n",
              "      <td>625878</td>\n",
              "      <td>4</td>\n",
              "      <td>5</td>\n",
              "      <td>this phone arrived packaged very well it arrived in the allotted ti ame i like almost everything about this phone i did not want a big phone that stuck out of my hand so the size is favorable i agree with some of the reviews that the battery drains fast if your running apps but that is understoo...</td>\n",
              "    </tr>\n",
              "    <tr>\n",
              "      <th>92</th>\n",
              "      <td>868771</td>\n",
              "      <td>4</td>\n",
              "      <td>5</td>\n",
              "      <td>prosfits iphone 5 wellsleek lookingnice leatherconsonly holds about 3 cards max including license any more and you can not fold casemagnet not very strongoverall looks very good and cant beat price got a lot of compli aments on it already if it could hold 1 more card or two and had a better magn...</td>\n",
              "    </tr>\n",
              "    <tr>\n",
              "      <th>93</th>\n",
              "      <td>600954</td>\n",
              "      <td>4</td>\n",
              "      <td>5</td>\n",
              "      <td>i got it as a gift its really bulky and my friend stopped using it it protects your phone tho and has that nifty kick stand</td>\n",
              "    </tr>\n",
              "    <tr>\n",
              "      <th>107</th>\n",
              "      <td>184163</td>\n",
              "      <td>4</td>\n",
              "      <td>5</td>\n",
              "      <td>nice</td>\n",
              "    </tr>\n",
              "    <tr>\n",
              "      <th>113</th>\n",
              "      <td>993732</td>\n",
              "      <td>4</td>\n",
              "      <td>5</td>\n",
              "      <td>the item was shipped very quickly the company also actually took the the ti ame to call and let me know the item was shipped i will definitely do business with this seller again</td>\n",
              "    </tr>\n",
              "    <tr>\n",
              "      <th>114</th>\n",
              "      <td>441783</td>\n",
              "      <td>4</td>\n",
              "      <td>5</td>\n",
              "      <td>cute and as expected for the price</td>\n",
              "    </tr>\n",
              "    <tr>\n",
              "      <th>129</th>\n",
              "      <td>688382</td>\n",
              "      <td>4</td>\n",
              "      <td>5</td>\n",
              "      <td>i have had my phone for years and the battery would not stay charged i could not find a battery near me and was happy i was able to get a new one at such a low price works great so far</td>\n",
              "    </tr>\n",
              "    <tr>\n",
              "      <th>130</th>\n",
              "      <td>976708</td>\n",
              "      <td>4</td>\n",
              "      <td>5</td>\n",
              "      <td>took abit longet then i would have liked to arrive but it works perfectly so no complaints about the actual product itself</td>\n",
              "    </tr>\n",
              "  </tbody>\n",
              "</table>\n",
              "</div>"
            ],
            "text/plain": [
              "     index_orig  ...                                                                                                                                                                                                                                                                                                  review_body\n",
              "2        292311  ...                                                                                                                                                                                                                                                          works effectively just do not get a cri amp in them\n",
              "4        569553  ...                                                                                                                                                                                                      used 2 out of the pack as far as i can tell they do the job would buy again if i did not hate the phone\n",
              "23       814850  ...                                                                                                                                                                                           this is a lovely cellphone case that really protects my phone and it was very affordable i am very pleased with it\n",
              "26       783777  ...                                                                                                                                                                                                 bought this case for my i phone 4 and it fits perfect it keeps my phone from getting scratches it is durable\n",
              "29       280042  ...                                                                                                                                                                                                                                                                                             great for phones\n",
              "30       746017  ...                                                                        i have gotten so many compli aments over this case it is so tiny so it slides easily into my pocket too the shipping was fast just be careful not to be a person dropping around your phone a lot plastic clip ons are more for looks\n",
              "57       623423  ...  this battery is amazing cannot kill it all day now no matter what i do back cover is not perfect but it is not as bad as everyone here clai ams the only problem i had is that the power button was being constantly pressed i had to fix that myself other than that best 7 spend ever finally i can ac...\n",
              "60       345057  ...                                                                                                                                                                                                                                           works well grandson very pleased with product exceeds expectations\n",
              "62       448612  ...                                                                                                                                                                                                                 these are helpful plenty in a package at a good price not as sticky as you would like though\n",
              "64       450524  ...  this is a very nice case it fits the iphone 6 perfectly and does add bulk to the phone the only issue is if you want to place the phone on it is face lets say on a table i would not do that the edges of the case do not have enough thickness to keep the phones face from being scratched by somethi...\n",
              "75       876180  ...                                                                                                                                  love this case for my droid razr just wish itcame in another color besides black and pink also amazon has best price for this case would definitely recommend this purchase\n",
              "84       124006  ...              this is the second ti ame i bought this product for my familys member for less than it is such a great iphone case out there si amplicity clear and sli am but also durable and protective i dropped my phone so many ti ames the case was chipped at the corner while safely protect my iphone\n",
              "90       625878  ...  this phone arrived packaged very well it arrived in the allotted ti ame i like almost everything about this phone i did not want a big phone that stuck out of my hand so the size is favorable i agree with some of the reviews that the battery drains fast if your running apps but that is understoo...\n",
              "92       868771  ...  prosfits iphone 5 wellsleek lookingnice leatherconsonly holds about 3 cards max including license any more and you can not fold casemagnet not very strongoverall looks very good and cant beat price got a lot of compli aments on it already if it could hold 1 more card or two and had a better magn...\n",
              "93       600954  ...                                                                                                                                                                                  i got it as a gift its really bulky and my friend stopped using it it protects your phone tho and has that nifty kick stand\n",
              "107      184163  ...                                                                                                                                                                                                                                                                                                         nice\n",
              "113      993732  ...                                                                                                                            the item was shipped very quickly the company also actually took the the ti ame to call and let me know the item was shipped i will definitely do business with this seller again\n",
              "114      441783  ...                                                                                                                                                                                                                                                                           cute and as expected for the price\n",
              "129      688382  ...                                                                                                                     i have had my phone for years and the battery would not stay charged i could not find a battery near me and was happy i was able to get a new one at such a low price works great so far\n",
              "130      976708  ...                                                                                                                                                                                   took abit longet then i would have liked to arrive but it works perfectly so no complaints about the actual product itself\n",
              "\n",
              "[20 rows x 4 columns]"
            ]
          },
          "metadata": {
            "tags": []
          },
          "execution_count": 22
        }
      ]
    },
    {
      "cell_type": "markdown",
      "metadata": {
        "id": "Z_ylbWXRvQPL",
        "colab_type": "text"
      },
      "source": [
        "* 4 misclassified as 1"
      ]
    },
    {
      "cell_type": "code",
      "metadata": {
        "id": "NWq4nxUpvAYp",
        "colab_type": "code",
        "outputId": "d15bbab4-2629-4243-cdab-06956027ea9c",
        "colab": {
          "base_uri": "https://localhost:8080/",
          "height": 497
        }
      },
      "source": [
        "results_145[(results_145.true_145 == 4) & \n",
        "            (results_145.predict_145 == 1) & \n",
        "            (results_145.true_145 != results_145.predict_145)].head(10)"
      ],
      "execution_count": 23,
      "outputs": [
        {
          "output_type": "execute_result",
          "data": {
            "text/html": [
              "<div>\n",
              "<style scoped>\n",
              "    .dataframe tbody tr th:only-of-type {\n",
              "        vertical-align: middle;\n",
              "    }\n",
              "\n",
              "    .dataframe tbody tr th {\n",
              "        vertical-align: top;\n",
              "    }\n",
              "\n",
              "    .dataframe thead th {\n",
              "        text-align: right;\n",
              "    }\n",
              "</style>\n",
              "<table border=\"1\" class=\"dataframe\">\n",
              "  <thead>\n",
              "    <tr style=\"text-align: right;\">\n",
              "      <th></th>\n",
              "      <th>index_orig</th>\n",
              "      <th>true_145</th>\n",
              "      <th>predict_145</th>\n",
              "      <th>review_body</th>\n",
              "    </tr>\n",
              "  </thead>\n",
              "  <tbody>\n",
              "    <tr>\n",
              "      <th>77</th>\n",
              "      <td>204145</td>\n",
              "      <td>4</td>\n",
              "      <td>1</td>\n",
              "      <td>does not fit ulti amate phone</td>\n",
              "    </tr>\n",
              "    <tr>\n",
              "      <th>109</th>\n",
              "      <td>943114</td>\n",
              "      <td>4</td>\n",
              "      <td>1</td>\n",
              "      <td>everything pictured arrived exactly as seen it is been almost a year i think or more since my purchase and the screen guard has remained in place despite the fact that it does not initially fit correctly the small cylindrical shaped hole used for the ear speaker at the top was actually placed to...</td>\n",
              "    </tr>\n",
              "    <tr>\n",
              "      <th>128</th>\n",
              "      <td>892926</td>\n",
              "      <td>4</td>\n",
              "      <td>1</td>\n",
              "      <td>i received this charger in the mail and i ammediately plugged it in to charge the battery it came with however much to my chagrin the lights would come on and flash between amber and green then shut off thinking that the battery might be bad i tried it in my phone i was unable to even power up t...</td>\n",
              "    </tr>\n",
              "    <tr>\n",
              "      <th>331</th>\n",
              "      <td>259822</td>\n",
              "      <td>4</td>\n",
              "      <td>1</td>\n",
              "      <td>only 4 start every thing ok why no battery came with</td>\n",
              "    </tr>\n",
              "    <tr>\n",
              "      <th>358</th>\n",
              "      <td>842844</td>\n",
              "      <td>4</td>\n",
              "      <td>1</td>\n",
              "      <td>bought for my senior parents to keep in car hoping they will use it if they get lost disoriented or have car failure phone emits beep when turned on then emergency button can be pushed and is dialed automatically phone emits a signal when the off button is pressed should be easy for them to use</td>\n",
              "    </tr>\n",
              "    <tr>\n",
              "      <th>417</th>\n",
              "      <td>705184</td>\n",
              "      <td>4</td>\n",
              "      <td>1</td>\n",
              "      <td>i wish this mount were twice as stiff and about three ti ames as long as it is it will only put your phone about lap level which is not safe to drive with i crafted my own extension and from there had a workable solution</td>\n",
              "    </tr>\n",
              "    <tr>\n",
              "      <th>424</th>\n",
              "      <td>429481</td>\n",
              "      <td>4</td>\n",
              "      <td>1</td>\n",
              "      <td>looks cute but hard to push the buttons on the side through the case get what you pay for i guess</td>\n",
              "    </tr>\n",
              "    <tr>\n",
              "      <th>749</th>\n",
              "      <td>716800</td>\n",
              "      <td>4</td>\n",
              "      <td>1</td>\n",
              "      <td>when you put the phone in the holster you cannot charge it you have to put the phone in upside down so the charging port is up other than that it is pretty good</td>\n",
              "    </tr>\n",
              "    <tr>\n",
              "      <th>855</th>\n",
              "      <td>865437</td>\n",
              "      <td>4</td>\n",
              "      <td>1</td>\n",
              "      <td>didnt really think much of the gold ri amming doesnt look so flashy in the picture leather pattern is also kinda plasticy but i really like the design which is why i bought it and its just bucks too</td>\n",
              "    </tr>\n",
              "    <tr>\n",
              "      <th>1130</th>\n",
              "      <td>336317</td>\n",
              "      <td>4</td>\n",
              "      <td>1</td>\n",
              "      <td>i wore this case for 3 months straight and it turned white at the edges and it started chipping and etc</td>\n",
              "    </tr>\n",
              "  </tbody>\n",
              "</table>\n",
              "</div>"
            ],
            "text/plain": [
              "      index_orig  ...                                                                                                                                                                                                                                                                                                  review_body\n",
              "77        204145  ...                                                                                                                                                                                                                                                                                does not fit ulti amate phone\n",
              "109       943114  ...  everything pictured arrived exactly as seen it is been almost a year i think or more since my purchase and the screen guard has remained in place despite the fact that it does not initially fit correctly the small cylindrical shaped hole used for the ear speaker at the top was actually placed to...\n",
              "128       892926  ...  i received this charger in the mail and i ammediately plugged it in to charge the battery it came with however much to my chagrin the lights would come on and flash between amber and green then shut off thinking that the battery might be bad i tried it in my phone i was unable to even power up t...\n",
              "331       259822  ...                                                                                                                                                                                                                                                         only 4 start every thing ok why no battery came with\n",
              "358       842844  ...      bought for my senior parents to keep in car hoping they will use it if they get lost disoriented or have car failure phone emits beep when turned on then emergency button can be pushed and is dialed automatically phone emits a signal when the off button is pressed should be easy for them to use\n",
              "417       705184  ...                                                                                 i wish this mount were twice as stiff and about three ti ames as long as it is it will only put your phone about lap level which is not safe to drive with i crafted my own extension and from there had a workable solution\n",
              "424       429481  ...                                                                                                                                                                                                            looks cute but hard to push the buttons on the side through the case get what you pay for i guess\n",
              "749       716800  ...                                                                                                                                             when you put the phone in the holster you cannot charge it you have to put the phone in upside down so the charging port is up other than that it is pretty good\n",
              "855       865437  ...                                                                                                       didnt really think much of the gold ri amming doesnt look so flashy in the picture leather pattern is also kinda plasticy but i really like the design which is why i bought it and its just bucks too\n",
              "1130      336317  ...                                                                                                                                                                                                      i wore this case for 3 months straight and it turned white at the edges and it started chipping and etc\n",
              "\n",
              "[10 rows x 4 columns]"
            ]
          },
          "metadata": {
            "tags": []
          },
          "execution_count": 23
        }
      ]
    },
    {
      "cell_type": "markdown",
      "metadata": {
        "id": "T-fy0CfLutS7",
        "colab_type": "text"
      },
      "source": [
        "# 1-Star, 3-Star, 4-Star, 5-Star Ratings"
      ]
    },
    {
      "cell_type": "code",
      "metadata": {
        "id": "gZk_jRvfwcWb",
        "colab_type": "code",
        "outputId": "64aff822-4988-4302-db9d-c500d48b4071",
        "colab": {
          "base_uri": "https://localhost:8080/",
          "height": 267
        }
      },
      "source": [
        "# predict 1345\n",
        "df_1345 = df[(df[LABEL_COLUMN] == 1) | (df[LABEL_COLUMN] == 3) | (df[LABEL_COLUMN] == 4) | (df[LABEL_COLUMN] == 5)]\n",
        "# have to set 3->2, 4->3, 5->4\n",
        "df_1345.loc[df[LABEL_COLUMN] == 3, LABEL_COLUMN] = 2\n",
        "df_1345.loc[df[LABEL_COLUMN] == 4, LABEL_COLUMN] = 3\n",
        "df_1345.loc[df[LABEL_COLUMN] == 5, LABEL_COLUMN] = 4\n",
        "\n",
        "ratings_1345 = df_1345[LABEL_COLUMN]\n",
        "reviews_1345 = df_1345[REVIEW_COLUMN]\n",
        "\n",
        "reviews_train_1345, reviews_test_1345, y_train_1345, y_test_1345 = train_test_split(reviews_1345, ratings_1345, random_state=1)\n",
        "\n",
        "model_1345, t_1345, y_predict_1345, y_predict_unencoded_1345 = load_and_predict(lstm_1345, \n",
        "                                                                     reviews_test_1345)\n",
        "\n"
      ],
      "execution_count": 24,
      "outputs": [
        {
          "output_type": "stream",
          "text": [
            "/usr/local/lib/python3.6/dist-packages/pandas/core/indexing.py:494: SettingWithCopyWarning: \n",
            "A value is trying to be set on a copy of a slice from a DataFrame.\n",
            "Try using .loc[row_indexer,col_indexer] = value instead\n",
            "\n",
            "See the caveats in the documentation: http://pandas.pydata.org/pandas-docs/stable/user_guide/indexing.html#returning-a-view-versus-a-copy\n",
            "  self.obj[item] = s\n"
          ],
          "name": "stderr"
        },
        {
          "output_type": "stream",
          "text": [
            "Loading tokenizer file: drive/My Drive/Springboard/capstone/models/LSTMB16_1345-1x16-glove_with_stop_nonlemmatized-sampling_none-931734-100-star_rating-tokenizer.pkl\n",
            "Vocabulary size=111768\n",
            "Number of Documents=698800\n",
            "Test review vectors shape: (232934, 100)\n",
            "Loading model file: drive/My Drive/Springboard/capstone/models/LSTMB16_1345-1x16-glove_with_stop_nonlemmatized-sampling_none-931734-100-star_rating-model.h5\n",
            "Predicting test set...\n",
            "Unencoding predictions...\n"
          ],
          "name": "stdout"
        }
      ]
    },
    {
      "cell_type": "code",
      "metadata": {
        "id": "WHTIzcVjwcTC",
        "colab_type": "code",
        "colab": {}
      },
      "source": [
        "def unmap_1345(y_encoded: pd.DataFrame):\n",
        "  # unmap preidctions 2->3, 3->4, 4->5\n",
        "\n",
        "  y_encoded.loc[y_encoded.true_1345 == 4, \"true_1345\"] = 5\n",
        "  y_encoded.loc[y_encoded.true_1345 == 3, \"true_1345\"] = 4\n",
        "  y_encoded.loc[y_encoded.true_1345 == 2, \"true_1345\"] = 3\n",
        "  y_encoded.loc[y_encoded.predict_1345 == 4, \"predict_1345\"] = 5\n",
        "  y_encoded.loc[y_encoded.predict_1345 == 3, \"predict_1345\"] = 4\n",
        "  y_encoded.loc[y_encoded.predict_1345 == 2, \"predict_1345\"] = 3\n",
        "  return y_encoded\n",
        "\n",
        "\n",
        "results_1345 = pd.DataFrame({\"true_1345\": y_test_1345, \"predict_1345\": y_predict_unencoded_1345})\n",
        "\n",
        "# results_1345.loc[results_1345.true_1345 == 4, \"true_1345\"] = 5\n",
        "# results_1345.loc[results_1345.true_1345 == 3, \"true_1345\"] = 4\n",
        "# results_1345.loc[results_1345.true_1345 == 2, \"true_1345\"] = 3\n",
        "# results_1345.loc[results_1345.predict_1345 == 4, \"predict_1345\"] = 5\n",
        "# results_1345.loc[results_1345.predict_1345 == 3, \"predict_1345\"] = 4\n",
        "# results_1345.loc[results_1345.predict_1345 == 2, \"predict_1345\"] = 3\n",
        "unmap_1345(results_1345)\n",
        "\n",
        "results_1345 = results_1345.join(reviews_test_1345).reset_index().rename({\"index\": \"index_orig\"}, axis=1)"
      ],
      "execution_count": 0,
      "outputs": []
    },
    {
      "cell_type": "markdown",
      "metadata": {
        "id": "nuAAXlJc2pIg",
        "colab_type": "text"
      },
      "source": [
        "### Misclassified 3-Star Reviews\n",
        "\n",
        "* 3 as 4"
      ]
    },
    {
      "cell_type": "code",
      "metadata": {
        "id": "8aG683oXwcO9",
        "colab_type": "code",
        "outputId": "e32009a9-5976-4363-b2cf-4967ec7d1edf",
        "colab": {
          "base_uri": "https://localhost:8080/",
          "height": 497
        }
      },
      "source": [
        "results_1345[(results_1345.true_1345 == 3) & \n",
        "            (results_1345.predict_1345 == 4) & \n",
        "             (results_1345.true_1345 != results_1345.predict_1345)].head(10)"
      ],
      "execution_count": 26,
      "outputs": [
        {
          "output_type": "execute_result",
          "data": {
            "text/html": [
              "<div>\n",
              "<style scoped>\n",
              "    .dataframe tbody tr th:only-of-type {\n",
              "        vertical-align: middle;\n",
              "    }\n",
              "\n",
              "    .dataframe tbody tr th {\n",
              "        vertical-align: top;\n",
              "    }\n",
              "\n",
              "    .dataframe thead th {\n",
              "        text-align: right;\n",
              "    }\n",
              "</style>\n",
              "<table border=\"1\" class=\"dataframe\">\n",
              "  <thead>\n",
              "    <tr style=\"text-align: right;\">\n",
              "      <th></th>\n",
              "      <th>index_orig</th>\n",
              "      <th>true_1345</th>\n",
              "      <th>predict_1345</th>\n",
              "      <th>review_body</th>\n",
              "    </tr>\n",
              "  </thead>\n",
              "  <tbody>\n",
              "    <tr>\n",
              "      <th>53</th>\n",
              "      <td>423802</td>\n",
              "      <td>3</td>\n",
              "      <td>4</td>\n",
              "      <td>looks and feels amazing only gripe is that a few days in the edges started chipping i recommend using this with a case of your going buy so it can protect the edges</td>\n",
              "    </tr>\n",
              "    <tr>\n",
              "      <th>117</th>\n",
              "      <td>822267</td>\n",
              "      <td>3</td>\n",
              "      <td>4</td>\n",
              "      <td>i do not drop my phones or treat them like a toy but it did start to peel on the back after purchase</td>\n",
              "    </tr>\n",
              "    <tr>\n",
              "      <th>134</th>\n",
              "      <td>768691</td>\n",
              "      <td>3</td>\n",
              "      <td>4</td>\n",
              "      <td>it is a good case but to big for my samsung galaxyit arrived on ti ame but i can t really use it</td>\n",
              "    </tr>\n",
              "    <tr>\n",
              "      <th>205</th>\n",
              "      <td>648701</td>\n",
              "      <td>3</td>\n",
              "      <td>4</td>\n",
              "      <td>it looks just like the picture and for cents you get exactly what you pay for cheap plastic that breaks the first ti ame you drop it</td>\n",
              "    </tr>\n",
              "    <tr>\n",
              "      <th>213</th>\n",
              "      <td>65178</td>\n",
              "      <td>3</td>\n",
              "      <td>4</td>\n",
              "      <td>the concept for this case is amazing it looks cool and i have received several compli aments on it however an air bubble appeared within two days of putting the case on the small air bubble has slowly become worse but it is still a decent case</td>\n",
              "    </tr>\n",
              "    <tr>\n",
              "      <th>351</th>\n",
              "      <td>863654</td>\n",
              "      <td>3</td>\n",
              "      <td>4</td>\n",
              "      <td>my daughter loves the color but she cannot use her ipod very well with the front cover she has a hard ti ame selecting songs because the cover is over the controls as well</td>\n",
              "    </tr>\n",
              "    <tr>\n",
              "      <th>410</th>\n",
              "      <td>743767</td>\n",
              "      <td>3</td>\n",
              "      <td>4</td>\n",
              "      <td>the lip surrounding the longer sides of the screen is not raised much at all so i am concerned that if phone drops flat on the screen or on an uneven surface for example gravel there is a possibility the screen will scratch or crack along with others i would recommend a screen protector as a mus...</td>\n",
              "    </tr>\n",
              "    <tr>\n",
              "      <th>450</th>\n",
              "      <td>662888</td>\n",
              "      <td>3</td>\n",
              "      <td>4</td>\n",
              "      <td>as cases go this is not too bad i generally use an otterbox defender while i think the otterbox is far superior for protecting the phone i have used cases like this the mostly protect the back of the phone while leaving the screen open the cost of more protection is the bulk it adds to the size ...</td>\n",
              "    </tr>\n",
              "    <tr>\n",
              "      <th>478</th>\n",
              "      <td>648906</td>\n",
              "      <td>3</td>\n",
              "      <td>4</td>\n",
              "      <td>i like this cover because its interesting looking and it actually does a pretty good job of prodecting my phone i am a person who tends to drop my phone and it has not shattered or broken yet the only thing about this case is that the front part when you put it together tends to get caught on th...</td>\n",
              "    </tr>\n",
              "    <tr>\n",
              "      <th>522</th>\n",
              "      <td>63147</td>\n",
              "      <td>3</td>\n",
              "      <td>4</td>\n",
              "      <td>very loose replacement functions perfectly well but its easy to come off</td>\n",
              "    </tr>\n",
              "  </tbody>\n",
              "</table>\n",
              "</div>"
            ],
            "text/plain": [
              "     index_orig  ...                                                                                                                                                                                                                                                                                                  review_body\n",
              "53       423802  ...                                                                                                                                         looks and feels amazing only gripe is that a few days in the edges started chipping i recommend using this with a case of your going buy so it can protect the edges\n",
              "117      822267  ...                                                                                                                                                                                                         i do not drop my phones or treat them like a toy but it did start to peel on the back after purchase\n",
              "134      768691  ...                                                                                                                                                                                                             it is a good case but to big for my samsung galaxyit arrived on ti ame but i can t really use it\n",
              "205      648701  ...                                                                                                                                                                         it looks just like the picture and for cents you get exactly what you pay for cheap plastic that breaks the first ti ame you drop it\n",
              "213       65178  ...                                                          the concept for this case is amazing it looks cool and i have received several compli aments on it however an air bubble appeared within two days of putting the case on the small air bubble has slowly become worse but it is still a decent case\n",
              "351      863654  ...                                                                                                                                  my daughter loves the color but she cannot use her ipod very well with the front cover she has a hard ti ame selecting songs because the cover is over the controls as well\n",
              "410      743767  ...  the lip surrounding the longer sides of the screen is not raised much at all so i am concerned that if phone drops flat on the screen or on an uneven surface for example gravel there is a possibility the screen will scratch or crack along with others i would recommend a screen protector as a mus...\n",
              "450      662888  ...  as cases go this is not too bad i generally use an otterbox defender while i think the otterbox is far superior for protecting the phone i have used cases like this the mostly protect the back of the phone while leaving the screen open the cost of more protection is the bulk it adds to the size ...\n",
              "478      648906  ...  i like this cover because its interesting looking and it actually does a pretty good job of prodecting my phone i am a person who tends to drop my phone and it has not shattered or broken yet the only thing about this case is that the front part when you put it together tends to get caught on th...\n",
              "522       63147  ...                                                                                                                                                                                                                                     very loose replacement functions perfectly well but its easy to come off\n",
              "\n",
              "[10 rows x 4 columns]"
            ]
          },
          "metadata": {
            "tags": []
          },
          "execution_count": 26
        }
      ]
    },
    {
      "cell_type": "markdown",
      "metadata": {
        "id": "HKbPFfHT2PgC",
        "colab_type": "text"
      },
      "source": [
        "* 3 as 1"
      ]
    },
    {
      "cell_type": "code",
      "metadata": {
        "id": "nE_1XX4d2PLf",
        "colab_type": "code",
        "outputId": "26666bc9-c5f6-4e79-f1ee-adcd54bbb132",
        "colab": {
          "base_uri": "https://localhost:8080/",
          "height": 564
        }
      },
      "source": [
        "results_1345[(results_1345.true_1345 == 3) & \n",
        "            (results_1345.predict_1345 == 1) & \n",
        "             (results_1345.true_1345 != results_1345.predict_1345)].head(10)"
      ],
      "execution_count": 27,
      "outputs": [
        {
          "output_type": "execute_result",
          "data": {
            "text/html": [
              "<div>\n",
              "<style scoped>\n",
              "    .dataframe tbody tr th:only-of-type {\n",
              "        vertical-align: middle;\n",
              "    }\n",
              "\n",
              "    .dataframe tbody tr th {\n",
              "        vertical-align: top;\n",
              "    }\n",
              "\n",
              "    .dataframe thead th {\n",
              "        text-align: right;\n",
              "    }\n",
              "</style>\n",
              "<table border=\"1\" class=\"dataframe\">\n",
              "  <thead>\n",
              "    <tr style=\"text-align: right;\">\n",
              "      <th></th>\n",
              "      <th>index_orig</th>\n",
              "      <th>true_1345</th>\n",
              "      <th>predict_1345</th>\n",
              "      <th>review_body</th>\n",
              "    </tr>\n",
              "  </thead>\n",
              "  <tbody>\n",
              "    <tr>\n",
              "      <th>3</th>\n",
              "      <td>479273</td>\n",
              "      <td>3</td>\n",
              "      <td>1</td>\n",
              "      <td>very cheaply made do not last long</td>\n",
              "    </tr>\n",
              "    <tr>\n",
              "      <th>194</th>\n",
              "      <td>738261</td>\n",
              "      <td>3</td>\n",
              "      <td>1</td>\n",
              "      <td>was a good product and had me relying on it more and more unfortunately after 2 months of use it stopped working it will not charge up or give charge no leds nothing customer support was willing to give me a new one in exchange of the old one but i am on vacationing abroad this summer which mean...</td>\n",
              "    </tr>\n",
              "    <tr>\n",
              "      <th>306</th>\n",
              "      <td>522951</td>\n",
              "      <td>3</td>\n",
              "      <td>1</td>\n",
              "      <td>when you are listening to the radio and switch to the fm transmitter for a 3 device the volume is not as loud plus the batteries that come with it dont last long at all</td>\n",
              "    </tr>\n",
              "    <tr>\n",
              "      <th>322</th>\n",
              "      <td>870011</td>\n",
              "      <td>3</td>\n",
              "      <td>1</td>\n",
              "      <td>nice price good looks i cannot get the bluetooth to work streaming nor phonecalls no idea samsung galaxy s says it is paired pairing worked fine unit tells me nothing i am the only one using a galaxy s this is a very confusing unit menus are confusing i cannot even figure out if the bluetooth is...</td>\n",
              "    </tr>\n",
              "    <tr>\n",
              "      <th>327</th>\n",
              "      <td>617054</td>\n",
              "      <td>3</td>\n",
              "      <td>1</td>\n",
              "      <td>it was tough to use as the clamp that holds the phone was not well shaped and barely opened wide enough to fit the phone my i ampression is that this designed for a generic cellphone and not specifically for the fairly large galaxy note phones i ulti amately gave it away to someone else with a m...</td>\n",
              "    </tr>\n",
              "    <tr>\n",
              "      <th>357</th>\n",
              "      <td>982415</td>\n",
              "      <td>3</td>\n",
              "      <td>1</td>\n",
              "      <td>i thought since these radios cost a little more than what we had been using they would be awesome i do not know if it is because our building is concrete or what but someti ames messages do not go through to all radios also the cheap ear pieces pretty much all snapped in the same place two days ...</td>\n",
              "    </tr>\n",
              "    <tr>\n",
              "      <th>443</th>\n",
              "      <td>733237</td>\n",
              "      <td>3</td>\n",
              "      <td>1</td>\n",
              "      <td>if you drop your phone slot this case is not for you mine has been on for two days and is cracked and i did not drop it</td>\n",
              "    </tr>\n",
              "    <tr>\n",
              "      <th>503</th>\n",
              "      <td>108629</td>\n",
              "      <td>3</td>\n",
              "      <td>1</td>\n",
              "      <td>the clip broke the same day</td>\n",
              "    </tr>\n",
              "    <tr>\n",
              "      <th>514</th>\n",
              "      <td>931723</td>\n",
              "      <td>3</td>\n",
              "      <td>1</td>\n",
              "      <td>the case looks very stylish i love the design but the physical construction leaves a bit to be desired the plastic band that fits around the iphone is a little fli amsy especially on the bottom around the usb connector port the plastic is very thin and breaks easy the first ti ame i put it aroun...</td>\n",
              "    </tr>\n",
              "    <tr>\n",
              "      <th>525</th>\n",
              "      <td>892843</td>\n",
              "      <td>3</td>\n",
              "      <td>1</td>\n",
              "      <td>i received this case about a month ago it is a very nice looking case and love the feel of it i have also received many compli aments on it however just a few days ago all the edges started peeling off for no reason my phone never gets wet and i take very good care of it even with a case on this...</td>\n",
              "    </tr>\n",
              "  </tbody>\n",
              "</table>\n",
              "</div>"
            ],
            "text/plain": [
              "     index_orig  ...                                                                                                                                                                                                                                                                                                  review_body\n",
              "3        479273  ...                                                                                                                                                                                                                                                                           very cheaply made do not last long\n",
              "194      738261  ...  was a good product and had me relying on it more and more unfortunately after 2 months of use it stopped working it will not charge up or give charge no leds nothing customer support was willing to give me a new one in exchange of the old one but i am on vacationing abroad this summer which mean...\n",
              "306      522951  ...                                                                                                                                     when you are listening to the radio and switch to the fm transmitter for a 3 device the volume is not as loud plus the batteries that come with it dont last long at all\n",
              "322      870011  ...  nice price good looks i cannot get the bluetooth to work streaming nor phonecalls no idea samsung galaxy s says it is paired pairing worked fine unit tells me nothing i am the only one using a galaxy s this is a very confusing unit menus are confusing i cannot even figure out if the bluetooth is...\n",
              "327      617054  ...  it was tough to use as the clamp that holds the phone was not well shaped and barely opened wide enough to fit the phone my i ampression is that this designed for a generic cellphone and not specifically for the fairly large galaxy note phones i ulti amately gave it away to someone else with a m...\n",
              "357      982415  ...  i thought since these radios cost a little more than what we had been using they would be awesome i do not know if it is because our building is concrete or what but someti ames messages do not go through to all radios also the cheap ear pieces pretty much all snapped in the same place two days ...\n",
              "443      733237  ...                                                                                                                                                                                      if you drop your phone slot this case is not for you mine has been on for two days and is cracked and i did not drop it\n",
              "503      108629  ...                                                                                                                                                                                                                                                                                  the clip broke the same day\n",
              "514      931723  ...  the case looks very stylish i love the design but the physical construction leaves a bit to be desired the plastic band that fits around the iphone is a little fli amsy especially on the bottom around the usb connector port the plastic is very thin and breaks easy the first ti ame i put it aroun...\n",
              "525      892843  ...  i received this case about a month ago it is a very nice looking case and love the feel of it i have also received many compli aments on it however just a few days ago all the edges started peeling off for no reason my phone never gets wet and i take very good care of it even with a case on this...\n",
              "\n",
              "[10 rows x 4 columns]"
            ]
          },
          "metadata": {
            "tags": []
          },
          "execution_count": 27
        }
      ]
    },
    {
      "cell_type": "markdown",
      "metadata": {
        "id": "vSiyaWri2WiV",
        "colab_type": "text"
      },
      "source": [
        "# All Star Ratings"
      ]
    },
    {
      "cell_type": "code",
      "metadata": {
        "id": "IPJVJsLz2PJF",
        "colab_type": "code",
        "outputId": "2a5d95f7-da78-4672-cff1-4148cd24a47b",
        "colab": {
          "base_uri": "https://localhost:8080/",
          "height": 161
        }
      },
      "source": [
        "ratings_all = df[LABEL_COLUMN]\n",
        "reviews_all = df[REVIEW_COLUMN]\n",
        "\n",
        "reviews_train_all, reviews_test_all, y_train_all, y_test_all = train_test_split(reviews_all, ratings_all, random_state=1)\n",
        "\n",
        "model_all, t_all, y_predict_all, y_predict_unencoded_all = load_and_predict(lstm_all, \n",
        "                                                                     reviews_test_all)\n",
        "\n"
      ],
      "execution_count": 28,
      "outputs": [
        {
          "output_type": "stream",
          "text": [
            "Loading tokenizer file: drive/My Drive/Springboard/capstone/models/LSTMB16-1x16-glove_with_stop_nonlemmatized-sampling_none-997682-100-star_rating-tokenizer.pkl\n",
            "Vocabulary size=116983\n",
            "Number of Documents=748261\n",
            "Test review vectors shape: (249421, 100)\n",
            "Loading model file: drive/My Drive/Springboard/capstone/models/LSTMB16-1x16-glove_with_stop_nonlemmatized-sampling_none-997682-100-star_rating-model.h5\n",
            "Predicting test set...\n",
            "Unencoding predictions...\n"
          ],
          "name": "stdout"
        }
      ]
    },
    {
      "cell_type": "code",
      "metadata": {
        "id": "XZ2ylwou2PF7",
        "colab_type": "code",
        "colab": {}
      },
      "source": [
        "results_all = pd.DataFrame({\"true_all\": y_test_all, \"predict_all\": y_predict_unencoded_all})\n",
        "\n",
        "# don't have to unmap predictions\n",
        "\n",
        "results_all = results_all.join(reviews_test_all).reset_index().rename({\"index\": \"index_orig\"}, axis=1)"
      ],
      "execution_count": 0,
      "outputs": []
    },
    {
      "cell_type": "code",
      "metadata": {
        "id": "xhkwiX85bbnM",
        "colab_type": "code",
        "outputId": "7d9fd8b5-1475-4630-bfe9-32e3defaa2f9",
        "colab": {
          "base_uri": "https://localhost:8080/",
          "height": 47
        }
      },
      "source": [
        "results_all[results_all.index_orig == 629436]"
      ],
      "execution_count": 30,
      "outputs": [
        {
          "output_type": "execute_result",
          "data": {
            "text/html": [
              "<div>\n",
              "<style scoped>\n",
              "    .dataframe tbody tr th:only-of-type {\n",
              "        vertical-align: middle;\n",
              "    }\n",
              "\n",
              "    .dataframe tbody tr th {\n",
              "        vertical-align: top;\n",
              "    }\n",
              "\n",
              "    .dataframe thead th {\n",
              "        text-align: right;\n",
              "    }\n",
              "</style>\n",
              "<table border=\"1\" class=\"dataframe\">\n",
              "  <thead>\n",
              "    <tr style=\"text-align: right;\">\n",
              "      <th></th>\n",
              "      <th>index_orig</th>\n",
              "      <th>true_all</th>\n",
              "      <th>predict_all</th>\n",
              "      <th>review_body</th>\n",
              "    </tr>\n",
              "  </thead>\n",
              "  <tbody>\n",
              "  </tbody>\n",
              "</table>\n",
              "</div>"
            ],
            "text/plain": [
              "Empty DataFrame\n",
              "Columns: [index_orig, true_all, predict_all, review_body]\n",
              "Index: []"
            ]
          },
          "metadata": {
            "tags": []
          },
          "execution_count": 30
        }
      ]
    },
    {
      "cell_type": "markdown",
      "metadata": {
        "id": "Z1u5slFN78D9",
        "colab_type": "text"
      },
      "source": [
        "### Misclassified Samples\n",
        "\n",
        "* 1 as 5"
      ]
    },
    {
      "cell_type": "code",
      "metadata": {
        "id": "AhxlQNv72PDW",
        "colab_type": "code",
        "outputId": "3ac37d89-1cb3-4492-f701-0a509320fa92",
        "colab": {
          "base_uri": "https://localhost:8080/",
          "height": 514
        }
      },
      "source": [
        "results_all[(results_all.true_all == 1) & \n",
        "            (results_all.predict_all == 5) & \n",
        "             (results_all.true_all != results_all.predict_all)].head(10)"
      ],
      "execution_count": 31,
      "outputs": [
        {
          "output_type": "execute_result",
          "data": {
            "text/html": [
              "<div>\n",
              "<style scoped>\n",
              "    .dataframe tbody tr th:only-of-type {\n",
              "        vertical-align: middle;\n",
              "    }\n",
              "\n",
              "    .dataframe tbody tr th {\n",
              "        vertical-align: top;\n",
              "    }\n",
              "\n",
              "    .dataframe thead th {\n",
              "        text-align: right;\n",
              "    }\n",
              "</style>\n",
              "<table border=\"1\" class=\"dataframe\">\n",
              "  <thead>\n",
              "    <tr style=\"text-align: right;\">\n",
              "      <th></th>\n",
              "      <th>index_orig</th>\n",
              "      <th>true_all</th>\n",
              "      <th>predict_all</th>\n",
              "      <th>review_body</th>\n",
              "    </tr>\n",
              "  </thead>\n",
              "  <tbody>\n",
              "    <tr>\n",
              "      <th>82</th>\n",
              "      <td>732849</td>\n",
              "      <td>1</td>\n",
              "      <td>5</td>\n",
              "      <td>fully extended or at least as far as i could get it to go it still only measured a little more than a foot long the cord when retracted twisted up on both sides and i had to struggle with it to make it retract fully and for all that trouble it worked only one ti ame do not bother with this one</td>\n",
              "    </tr>\n",
              "    <tr>\n",
              "      <th>422</th>\n",
              "      <td>872381</td>\n",
              "      <td>1</td>\n",
              "      <td>5</td>\n",
              "      <td>i knew what i was getting before i ordered but that was based solely on the first two product reviews not on the official product description it appears to be about 5 gauge wire not 4 the wire diameter is approxi amately inches here are the official awg wire sizes for reference 4 awg gauge 5 awg...</td>\n",
              "    </tr>\n",
              "    <tr>\n",
              "      <th>596</th>\n",
              "      <td>800238</td>\n",
              "      <td>1</td>\n",
              "      <td>5</td>\n",
              "      <td>my husband tried all three and all three had to be trashed tried a pricey screen cover and no problems he had it on in less than a minute will not but these again</td>\n",
              "    </tr>\n",
              "    <tr>\n",
              "      <th>614</th>\n",
              "      <td>908098</td>\n",
              "      <td>1</td>\n",
              "      <td>5</td>\n",
              "      <td>i have yet to receive this order i realize it is coming from hong kong but it has been about 5 weeks since the order</td>\n",
              "    </tr>\n",
              "    <tr>\n",
              "      <th>739</th>\n",
              "      <td>967529</td>\n",
              "      <td>1</td>\n",
              "      <td>5</td>\n",
              "      <td>this comes up in the search for skins cases and covers for your blackberry read the fine print it is a set of stickers and they charge 5 in shipping for something should ship in an envelope for 0</td>\n",
              "    </tr>\n",
              "    <tr>\n",
              "      <th>792</th>\n",
              "      <td>931138</td>\n",
              "      <td>1</td>\n",
              "      <td>5</td>\n",
              "      <td>the stones fell of in the plastic they were also made of plastic and lacked luster the good news is that when i wrote my first review the company refunded my money yeah</td>\n",
              "    </tr>\n",
              "    <tr>\n",
              "      <th>808</th>\n",
              "      <td>586211</td>\n",
              "      <td>1</td>\n",
              "      <td>5</td>\n",
              "      <td>i ordered this pouch to carry my samsung note 3 around my neck but got a totally different style one i would never have picked the measurements shown are smaller than described will not fit my note 3 with the otterbox i took a good deal of ti ame looking for something large enough for the phone ...</td>\n",
              "    </tr>\n",
              "    <tr>\n",
              "      <th>836</th>\n",
              "      <td>627372</td>\n",
              "      <td>1</td>\n",
              "      <td>5</td>\n",
              "      <td>was not the correct size loved the case just what i wanted but to small all the rest ordered worked perfect</td>\n",
              "    </tr>\n",
              "    <tr>\n",
              "      <th>853</th>\n",
              "      <td>297393</td>\n",
              "      <td>1</td>\n",
              "      <td>5</td>\n",
              "      <td>i have problems they send me us staff i was order new</td>\n",
              "    </tr>\n",
              "    <tr>\n",
              "      <th>933</th>\n",
              "      <td>788903</td>\n",
              "      <td>1</td>\n",
              "      <td>5</td>\n",
              "      <td>me estafaron jueves pague un envio rapido me cobraron pasaron 5 dias y todavia no llego se me va el vuelo y no tengo el telefono muy desconformetengo que molestar vecinos devuelvanme el dinero de mi envio</td>\n",
              "    </tr>\n",
              "  </tbody>\n",
              "</table>\n",
              "</div>"
            ],
            "text/plain": [
              "     index_orig  ...                                                                                                                                                                                                                                                                                                  review_body\n",
              "82       732849  ...       fully extended or at least as far as i could get it to go it still only measured a little more than a foot long the cord when retracted twisted up on both sides and i had to struggle with it to make it retract fully and for all that trouble it worked only one ti ame do not bother with this one\n",
              "422      872381  ...  i knew what i was getting before i ordered but that was based solely on the first two product reviews not on the official product description it appears to be about 5 gauge wire not 4 the wire diameter is approxi amately inches here are the official awg wire sizes for reference 4 awg gauge 5 awg...\n",
              "596      800238  ...                                                                                                                                           my husband tried all three and all three had to be trashed tried a pricey screen cover and no problems he had it on in less than a minute will not but these again\n",
              "614      908098  ...                                                                                                                                                                                         i have yet to receive this order i realize it is coming from hong kong but it has been about 5 weeks since the order\n",
              "739      967529  ...                                                                                                          this comes up in the search for skins cases and covers for your blackberry read the fine print it is a set of stickers and they charge 5 in shipping for something should ship in an envelope for 0\n",
              "792      931138  ...                                                                                                                                     the stones fell of in the plastic they were also made of plastic and lacked luster the good news is that when i wrote my first review the company refunded my money yeah\n",
              "808      586211  ...  i ordered this pouch to carry my samsung note 3 around my neck but got a totally different style one i would never have picked the measurements shown are smaller than described will not fit my note 3 with the otterbox i took a good deal of ti ame looking for something large enough for the phone ...\n",
              "836      627372  ...                                                                                                                                                                                                  was not the correct size loved the case just what i wanted but to small all the rest ordered worked perfect\n",
              "853      297393  ...                                                                                                                                                                                                                                                        i have problems they send me us staff i was order new\n",
              "933      788903  ...                                                                                                 me estafaron jueves pague un envio rapido me cobraron pasaron 5 dias y todavia no llego se me va el vuelo y no tengo el telefono muy desconformetengo que molestar vecinos devuelvanme el dinero de mi envio\n",
              "\n",
              "[10 rows x 4 columns]"
            ]
          },
          "metadata": {
            "tags": []
          },
          "execution_count": 31
        }
      ]
    },
    {
      "cell_type": "code",
      "metadata": {
        "id": "Q0HEs7Kh2PBr",
        "colab_type": "code",
        "colab": {}
      },
      "source": [
        ""
      ],
      "execution_count": 0,
      "outputs": []
    },
    {
      "cell_type": "code",
      "metadata": {
        "id": "pDD9kJ3b2O_s",
        "colab_type": "code",
        "colab": {}
      },
      "source": [
        ""
      ],
      "execution_count": 0,
      "outputs": []
    },
    {
      "cell_type": "code",
      "metadata": {
        "id": "DMaQXo-t805C",
        "colab_type": "code",
        "colab": {}
      },
      "source": [
        ""
      ],
      "execution_count": 0,
      "outputs": []
    },
    {
      "cell_type": "markdown",
      "metadata": {
        "id": "w2X0FplU81lq",
        "colab_type": "text"
      },
      "source": [
        "# Join all Results Dataframe Into One"
      ]
    },
    {
      "cell_type": "code",
      "metadata": {
        "id": "Czz971SE802f",
        "colab_type": "code",
        "outputId": "e7efb170-176b-4dd2-e135-a52d38bd670d",
        "colab": {
          "base_uri": "https://localhost:8080/",
          "height": 214
        }
      },
      "source": [
        "results_comprehensive = pd.merge(pd.merge(pd.merge(results_15.drop([\"review_body\", \"true_15\"], axis=1), \n",
        "                                                results_145.drop([\"review_body\", \"true_145\"], axis=1), how='outer', \n",
        "                                                left_on=\"index_orig\", right_on=\"index_orig\"),\n",
        "                                      results_1345.drop([\"review_body\", \"true_1345\"], axis=1), how='outer', \n",
        "                                                left_on=\"index_orig\", right_on=\"index_orig\"),\n",
        "                                      results_all, how='outer', \n",
        "                                                left_on=\"index_orig\", right_on=\"index_orig\")\n",
        "\n",
        "results_comprehensive = results_comprehensive.dropna(subset=[\"review_body\"])\n",
        "results_comprehensive.head()\n",
        "\n"
      ],
      "execution_count": 32,
      "outputs": [
        {
          "output_type": "execute_result",
          "data": {
            "text/html": [
              "<div>\n",
              "<style scoped>\n",
              "    .dataframe tbody tr th:only-of-type {\n",
              "        vertical-align: middle;\n",
              "    }\n",
              "\n",
              "    .dataframe tbody tr th {\n",
              "        vertical-align: top;\n",
              "    }\n",
              "\n",
              "    .dataframe thead th {\n",
              "        text-align: right;\n",
              "    }\n",
              "</style>\n",
              "<table border=\"1\" class=\"dataframe\">\n",
              "  <thead>\n",
              "    <tr style=\"text-align: right;\">\n",
              "      <th></th>\n",
              "      <th>index_orig</th>\n",
              "      <th>predict_15</th>\n",
              "      <th>predict_145</th>\n",
              "      <th>predict_1345</th>\n",
              "      <th>true_all</th>\n",
              "      <th>predict_all</th>\n",
              "      <th>review_body</th>\n",
              "    </tr>\n",
              "  </thead>\n",
              "  <tbody>\n",
              "    <tr>\n",
              "      <th>6</th>\n",
              "      <td>567377</td>\n",
              "      <td>5.0</td>\n",
              "      <td>NaN</td>\n",
              "      <td>NaN</td>\n",
              "      <td>5.0</td>\n",
              "      <td>5.0</td>\n",
              "      <td>i love these connectors they take a lot of the hassle of splicing stereo wires together i am very glad i found these on amazon</td>\n",
              "    </tr>\n",
              "    <tr>\n",
              "      <th>10</th>\n",
              "      <td>494240</td>\n",
              "      <td>5.0</td>\n",
              "      <td>NaN</td>\n",
              "      <td>NaN</td>\n",
              "      <td>5.0</td>\n",
              "      <td>5.0</td>\n",
              "      <td>fast shipping great price</td>\n",
              "    </tr>\n",
              "    <tr>\n",
              "      <th>12</th>\n",
              "      <td>309913</td>\n",
              "      <td>1.0</td>\n",
              "      <td>NaN</td>\n",
              "      <td>1.0</td>\n",
              "      <td>1.0</td>\n",
              "      <td>1.0</td>\n",
              "      <td>did not fit the phone</td>\n",
              "    </tr>\n",
              "    <tr>\n",
              "      <th>14</th>\n",
              "      <td>333089</td>\n",
              "      <td>5.0</td>\n",
              "      <td>5.0</td>\n",
              "      <td>NaN</td>\n",
              "      <td>5.0</td>\n",
              "      <td>5.0</td>\n",
              "      <td>i love this case compact and efficient nice leather</td>\n",
              "    </tr>\n",
              "    <tr>\n",
              "      <th>15</th>\n",
              "      <td>450253</td>\n",
              "      <td>5.0</td>\n",
              "      <td>NaN</td>\n",
              "      <td>NaN</td>\n",
              "      <td>5.0</td>\n",
              "      <td>5.0</td>\n",
              "      <td>future project</td>\n",
              "    </tr>\n",
              "  </tbody>\n",
              "</table>\n",
              "</div>"
            ],
            "text/plain": [
              "    index_orig  ...                                                                                                                     review_body\n",
              "6       567377  ...  i love these connectors they take a lot of the hassle of splicing stereo wires together i am very glad i found these on amazon\n",
              "10      494240  ...                                                                                                       fast shipping great price\n",
              "12      309913  ...                                                                                                           did not fit the phone\n",
              "14      333089  ...                                                                             i love this case compact and efficient nice leather\n",
              "15      450253  ...                                                                                                                  future project\n",
              "\n",
              "[5 rows x 7 columns]"
            ]
          },
          "metadata": {
            "tags": []
          },
          "execution_count": 32
        }
      ]
    },
    {
      "cell_type": "markdown",
      "metadata": {
        "id": "8eMwdQ5CEe28",
        "colab_type": "text"
      },
      "source": [
        "## Add Column for Out of Vocab Words"
      ]
    },
    {
      "cell_type": "code",
      "metadata": {
        "id": "27TnZUQBEefu",
        "colab_type": "code",
        "colab": {
          "base_uri": "https://localhost:8080/",
          "height": 87
        },
        "outputId": "3f744e3c-b172-48f0-ba00-a0a009cdce94"
      },
      "source": [
        "EMBEDDING_INDEX_FILE = f'{DRIVE_DIR}/models/glove.840B.300d-embedding_index'\n",
        "\n",
        "embeddings_index = {}\n",
        "\n",
        "if os.path.exists(f'{EMBEDDING_INDEX_FILE}.npy'):\n",
        "  print(f'Loading {EMBEDDING_INDEX_FILE}.npy')\n",
        "  embeddings_index = np.load(f'{EMBEDDING_INDEX_FILE}.npy', \n",
        "                             allow_pickle = True).item()\n",
        "else:\n",
        "  print('Indexing word vectors.')\n",
        "\n",
        "  with open(EMBEDDING_FILE) as f:\n",
        "      for line in f:\n",
        "          word, coefs = line.split(maxsplit=1)\n",
        "          coefs = np.fromstring(coefs, 'f', sep=' ')\n",
        "          embeddings_index[word] = coefs\n",
        "  np.save(EMBEDDING_INDEX_FILE, embeddings_index)\n",
        "\n",
        "print(type(embeddings_index))\n",
        "print(np.shape(embeddings_index))\n",
        "print('Found %s word vectors.' % len(embeddings_index))"
      ],
      "execution_count": 44,
      "outputs": [
        {
          "output_type": "stream",
          "text": [
            "Loading drive/My Drive/Springboard/capstone/models/glove.840B.300d-embedding_index.npy\n",
            "<class 'dict'>\n",
            "()\n",
            "Found 2195884 word vectors.\n"
          ],
          "name": "stdout"
        }
      ]
    },
    {
      "cell_type": "code",
      "metadata": {
        "id": "WiXdDHgJEeSZ",
        "colab_type": "code",
        "colab": {
          "base_uri": "https://localhost:8080/",
          "height": 1000
        },
        "outputId": "24fdd32f-9901-48b5-8093-30460004dd98"
      },
      "source": [
        "import os\n",
        "\n",
        "results_comprehensive_file = f'{DRIVE_DIR}/reports/5.1-LSTM-misclassification-analysis-results_comprehensive.csv'\n",
        "\n",
        "if os.path.exists(results_comprehensive_file) and not FORCE_LOAD:\n",
        "  results_comprehensive = pd.read_csv(results_comprehensive_file)\n",
        "else:\n",
        "  total_count = len(results_comprehensive)\n",
        "  count = 0\n",
        "  for index, row in results_comprehensive.iterrows():\n",
        "    review_body = row.review_body\n",
        "    review_body_word_list = review_body.split()\n",
        "    review_body_wc = len(review_body_word_list)\n",
        "    missing_words = {word for word in review_body_word_list if word not in embeddings_index.keys()}\n",
        "    training_text = [word for word in review_body_word_list if word in embeddings_index.keys()]\n",
        "    if len(missing_words) > 0:\n",
        "      results_comprehensive.loc[index, \"out_of_vocab\"] = \" \".join(missing_words)\n",
        "      results_comprehensive.loc[index, \"review_body_train\"] = \" \".join(training_text[:review_body_wc - len(missing_words)])\n",
        "    else:\n",
        "      results_comprehensive.loc[index, \"review_body_train\"] = \" \".join(review_body_word_list[:min(review_body_wc, MAX_SEQUENCE_LENGTH)])\n",
        "    \n",
        "    count += 1\n",
        "    if count % 10000:\n",
        "      print(f'Processing {count} of {total_count}')\n",
        "\n",
        "  print(f'Saving to {results_comprehensive_file}...')\n",
        "  results_comprehensive.to_csv(results_comprehensive_file, index=False)\n",
        "\n",
        "results_comprehensive.head(20)"
      ],
      "execution_count": 63,
      "outputs": [
        {
          "output_type": "execute_result",
          "data": {
            "text/html": [
              "<div>\n",
              "<style scoped>\n",
              "    .dataframe tbody tr th:only-of-type {\n",
              "        vertical-align: middle;\n",
              "    }\n",
              "\n",
              "    .dataframe tbody tr th {\n",
              "        vertical-align: top;\n",
              "    }\n",
              "\n",
              "    .dataframe thead th {\n",
              "        text-align: right;\n",
              "    }\n",
              "</style>\n",
              "<table border=\"1\" class=\"dataframe\">\n",
              "  <thead>\n",
              "    <tr style=\"text-align: right;\">\n",
              "      <th></th>\n",
              "      <th>index_orig</th>\n",
              "      <th>predict_15</th>\n",
              "      <th>predict_145</th>\n",
              "      <th>predict_1345</th>\n",
              "      <th>true_all</th>\n",
              "      <th>predict_all</th>\n",
              "      <th>review_body</th>\n",
              "      <th>out_of_vocab</th>\n",
              "      <th>review_body_train</th>\n",
              "    </tr>\n",
              "  </thead>\n",
              "  <tbody>\n",
              "    <tr>\n",
              "      <th>6</th>\n",
              "      <td>567377</td>\n",
              "      <td>5.0</td>\n",
              "      <td>NaN</td>\n",
              "      <td>NaN</td>\n",
              "      <td>5.0</td>\n",
              "      <td>5.0</td>\n",
              "      <td>i love these connectors they take a lot of the hassle of splicing stereo wires together i am very glad i found these on amazon</td>\n",
              "      <td>NaN</td>\n",
              "      <td>i love these connectors they take a lot of the hassle of splicing stereo wires together i am very glad i found these on amazon</td>\n",
              "    </tr>\n",
              "    <tr>\n",
              "      <th>10</th>\n",
              "      <td>494240</td>\n",
              "      <td>5.0</td>\n",
              "      <td>NaN</td>\n",
              "      <td>NaN</td>\n",
              "      <td>5.0</td>\n",
              "      <td>5.0</td>\n",
              "      <td>fast shipping great price</td>\n",
              "      <td>NaN</td>\n",
              "      <td>fast shipping great price</td>\n",
              "    </tr>\n",
              "    <tr>\n",
              "      <th>12</th>\n",
              "      <td>309913</td>\n",
              "      <td>1.0</td>\n",
              "      <td>NaN</td>\n",
              "      <td>1.0</td>\n",
              "      <td>1.0</td>\n",
              "      <td>1.0</td>\n",
              "      <td>did not fit the phone</td>\n",
              "      <td>NaN</td>\n",
              "      <td>did not fit the phone</td>\n",
              "    </tr>\n",
              "    <tr>\n",
              "      <th>14</th>\n",
              "      <td>333089</td>\n",
              "      <td>5.0</td>\n",
              "      <td>5.0</td>\n",
              "      <td>NaN</td>\n",
              "      <td>5.0</td>\n",
              "      <td>5.0</td>\n",
              "      <td>i love this case compact and efficient nice leather</td>\n",
              "      <td>NaN</td>\n",
              "      <td>i love this case compact and efficient nice leather</td>\n",
              "    </tr>\n",
              "    <tr>\n",
              "      <th>15</th>\n",
              "      <td>450253</td>\n",
              "      <td>5.0</td>\n",
              "      <td>NaN</td>\n",
              "      <td>NaN</td>\n",
              "      <td>5.0</td>\n",
              "      <td>5.0</td>\n",
              "      <td>future project</td>\n",
              "      <td>NaN</td>\n",
              "      <td>future project</td>\n",
              "    </tr>\n",
              "    <tr>\n",
              "      <th>30</th>\n",
              "      <td>875542</td>\n",
              "      <td>1.0</td>\n",
              "      <td>NaN</td>\n",
              "      <td>NaN</td>\n",
              "      <td>5.0</td>\n",
              "      <td>5.0</td>\n",
              "      <td>the mount works great and looks real nice the wire for it deffinently was a rip off though they also had no wireing diagram so if you cant use a voltmeter wire and mount are kind of worthless</td>\n",
              "      <td>NaN</td>\n",
              "      <td>the mount works great and looks real nice the wire for it deffinently was a rip off though they also had no wireing diagram so if you cant use a voltmeter wire and mount are kind of worthless</td>\n",
              "    </tr>\n",
              "    <tr>\n",
              "      <th>34</th>\n",
              "      <td>447088</td>\n",
              "      <td>5.0</td>\n",
              "      <td>NaN</td>\n",
              "      <td>NaN</td>\n",
              "      <td>5.0</td>\n",
              "      <td>5.0</td>\n",
              "      <td>review for the alixo s iphone 6 case ive been using the alixo case for a few days now so it is ti ame to post my pros and possibly a con i will start with the con of the case and first off the case comes in two pieces front and back and both pieces are hard the inside being harder than the outsi...</td>\n",
              "      <td>seenthe alixo sensordirt prosincludes</td>\n",
              "      <td>review for the s iphone 6 case ive been using the case for a few days now so it is ti ame to post my pros and possibly a con i will start with the con of the case and first off the case comes in two pieces front and back and both pieces are hard the inside being harder than the outside so i am n...</td>\n",
              "    </tr>\n",
              "    <tr>\n",
              "      <th>39</th>\n",
              "      <td>343036</td>\n",
              "      <td>1.0</td>\n",
              "      <td>NaN</td>\n",
              "      <td>NaN</td>\n",
              "      <td>1.0</td>\n",
              "      <td>1.0</td>\n",
              "      <td>this does not work on most phones with an otterbox defender case</td>\n",
              "      <td>NaN</td>\n",
              "      <td>this does not work on most phones with an otterbox defender case</td>\n",
              "    </tr>\n",
              "    <tr>\n",
              "      <th>43</th>\n",
              "      <td>674249</td>\n",
              "      <td>5.0</td>\n",
              "      <td>NaN</td>\n",
              "      <td>NaN</td>\n",
              "      <td>5.0</td>\n",
              "      <td>5.0</td>\n",
              "      <td>looks fancy but it is economical it does not look cheap at all must have if you have a samsung galaxy note 2 make sure not to lose it because you will lose your phone credit cards and drivers license all together</td>\n",
              "      <td>NaN</td>\n",
              "      <td>looks fancy but it is economical it does not look cheap at all must have if you have a samsung galaxy note 2 make sure not to lose it because you will lose your phone credit cards and drivers license all together</td>\n",
              "    </tr>\n",
              "    <tr>\n",
              "      <th>44</th>\n",
              "      <td>724688</td>\n",
              "      <td>1.0</td>\n",
              "      <td>NaN</td>\n",
              "      <td>1.0</td>\n",
              "      <td>1.0</td>\n",
              "      <td>1.0</td>\n",
              "      <td>the picture that is on amazon com is not what i received i received a pin female to micro usb 5 pin male charger what is on the picture is a pin female to mini usb 5 pin male charger</td>\n",
              "      <td>NaN</td>\n",
              "      <td>the picture that is on amazon com is not what i received i received a pin female to micro usb 5 pin male charger what is on the picture is a pin female to mini usb 5 pin male charger</td>\n",
              "    </tr>\n",
              "    <tr>\n",
              "      <th>46</th>\n",
              "      <td>70888</td>\n",
              "      <td>5.0</td>\n",
              "      <td>1.0</td>\n",
              "      <td>3.0</td>\n",
              "      <td>5.0</td>\n",
              "      <td>3.0</td>\n",
              "      <td>comes with cd software but as soon as i plugged it in software was downloaded and it started working</td>\n",
              "      <td>NaN</td>\n",
              "      <td>comes with cd software but as soon as i plugged it in software was downloaded and it started working</td>\n",
              "    </tr>\n",
              "    <tr>\n",
              "      <th>51</th>\n",
              "      <td>642158</td>\n",
              "      <td>5.0</td>\n",
              "      <td>NaN</td>\n",
              "      <td>NaN</td>\n",
              "      <td>5.0</td>\n",
              "      <td>5.0</td>\n",
              "      <td>this is a nice unit and is easy to use it recharges every thing i have tried 3 phones and 5 tablets 7 and it recharged in about 4 hours for me when the final charge light becomes solid it is recharged</td>\n",
              "      <td>NaN</td>\n",
              "      <td>this is a nice unit and is easy to use it recharges every thing i have tried 3 phones and 5 tablets 7 and it recharged in about 4 hours for me when the final charge light becomes solid it is recharged</td>\n",
              "    </tr>\n",
              "    <tr>\n",
              "      <th>55</th>\n",
              "      <td>852855</td>\n",
              "      <td>5.0</td>\n",
              "      <td>NaN</td>\n",
              "      <td>NaN</td>\n",
              "      <td>5.0</td>\n",
              "      <td>5.0</td>\n",
              "      <td>with two small children this case has protected my iphone on many a falls i had a defender series for my old iphone but decided that it was too bulky this one is nice and convenient and also protects</td>\n",
              "      <td>NaN</td>\n",
              "      <td>with two small children this case has protected my iphone on many a falls i had a defender series for my old iphone but decided that it was too bulky this one is nice and convenient and also protects</td>\n",
              "    </tr>\n",
              "    <tr>\n",
              "      <th>68</th>\n",
              "      <td>308397</td>\n",
              "      <td>5.0</td>\n",
              "      <td>NaN</td>\n",
              "      <td>NaN</td>\n",
              "      <td>5.0</td>\n",
              "      <td>5.0</td>\n",
              "      <td>if you are looking for a cool leather case this is it</td>\n",
              "      <td>NaN</td>\n",
              "      <td>if you are looking for a cool leather case this is it</td>\n",
              "    </tr>\n",
              "    <tr>\n",
              "      <th>71</th>\n",
              "      <td>242755</td>\n",
              "      <td>1.0</td>\n",
              "      <td>1.0</td>\n",
              "      <td>NaN</td>\n",
              "      <td>1.0</td>\n",
              "      <td>1.0</td>\n",
              "      <td>less than 2 weeks the colors have worn off</td>\n",
              "      <td>NaN</td>\n",
              "      <td>less than 2 weeks the colors have worn off</td>\n",
              "    </tr>\n",
              "    <tr>\n",
              "      <th>74</th>\n",
              "      <td>77099</td>\n",
              "      <td>5.0</td>\n",
              "      <td>NaN</td>\n",
              "      <td>NaN</td>\n",
              "      <td>5.0</td>\n",
              "      <td>5.0</td>\n",
              "      <td>the phone is outstanding and may be used with or without the si am card the owners manual states that it comes with a verizon si am card installed but both the owners manuals and the si am card were removed by</td>\n",
              "      <td>NaN</td>\n",
              "      <td>the phone is outstanding and may be used with or without the si am card the owners manual states that it comes with a verizon si am card installed but both the owners manuals and the si am card were removed by</td>\n",
              "    </tr>\n",
              "    <tr>\n",
              "      <th>77</th>\n",
              "      <td>783185</td>\n",
              "      <td>1.0</td>\n",
              "      <td>NaN</td>\n",
              "      <td>NaN</td>\n",
              "      <td>1.0</td>\n",
              "      <td>1.0</td>\n",
              "      <td>i read the review from the gentleman who said you can not see the monitor in any day light and then i ordered it like a dummy and just like he said you will return this product after buying it and i did i live in anchorage alaska it is now hours of sun light and gaining more every day until summ...</td>\n",
              "      <td>NaN</td>\n",
              "      <td>i read the review from the gentleman who said you can not see the monitor in any day light and then i ordered it like a dummy and just like he said you will return this product after buying it and i did i live in anchorage alaska it is now hours of sun light and gaining more every day until summ...</td>\n",
              "    </tr>\n",
              "    <tr>\n",
              "      <th>82</th>\n",
              "      <td>248062</td>\n",
              "      <td>5.0</td>\n",
              "      <td>NaN</td>\n",
              "      <td>NaN</td>\n",
              "      <td>5.0</td>\n",
              "      <td>5.0</td>\n",
              "      <td>great product</td>\n",
              "      <td>NaN</td>\n",
              "      <td>great product</td>\n",
              "    </tr>\n",
              "    <tr>\n",
              "      <th>87</th>\n",
              "      <td>832809</td>\n",
              "      <td>5.0</td>\n",
              "      <td>NaN</td>\n",
              "      <td>5.0</td>\n",
              "      <td>5.0</td>\n",
              "      <td>5.0</td>\n",
              "      <td>my partner had this on wish list she is very happy with it it is a live saver in emergency situations as like super storm sandy</td>\n",
              "      <td>NaN</td>\n",
              "      <td>my partner had this on wish list she is very happy with it it is a live saver in emergency situations as like super storm sandy</td>\n",
              "    </tr>\n",
              "    <tr>\n",
              "      <th>90</th>\n",
              "      <td>50524</td>\n",
              "      <td>5.0</td>\n",
              "      <td>5.0</td>\n",
              "      <td>NaN</td>\n",
              "      <td>5.0</td>\n",
              "      <td>5.0</td>\n",
              "      <td>works great traffic not a nice as previous models</td>\n",
              "      <td>NaN</td>\n",
              "      <td>works great traffic not a nice as previous models</td>\n",
              "    </tr>\n",
              "  </tbody>\n",
              "</table>\n",
              "</div>"
            ],
            "text/plain": [
              "    index_orig  ...                                                                                                                                                                                                                                                                                            review_body_train\n",
              "6       567377  ...                                                                                                                                                                               i love these connectors they take a lot of the hassle of splicing stereo wires together i am very glad i found these on amazon\n",
              "10      494240  ...                                                                                                                                                                                                                                                                                    fast shipping great price\n",
              "12      309913  ...                                                                                                                                                                                                                                                                                        did not fit the phone\n",
              "14      333089  ...                                                                                                                                                                                                                                                          i love this case compact and efficient nice leather\n",
              "15      450253  ...                                                                                                                                                                                                                                                                                               future project\n",
              "30      875542  ...                                                                                                              the mount works great and looks real nice the wire for it deffinently was a rip off though they also had no wireing diagram so if you cant use a voltmeter wire and mount are kind of worthless\n",
              "34      447088  ...  review for the s iphone 6 case ive been using the case for a few days now so it is ti ame to post my pros and possibly a con i will start with the con of the case and first off the case comes in two pieces front and back and both pieces are hard the inside being harder than the outside so i am n...\n",
              "39      343036  ...                                                                                                                                                                                                                                             this does not work on most phones with an otterbox defender case\n",
              "43      674249  ...                                                                                         looks fancy but it is economical it does not look cheap at all must have if you have a samsung galaxy note 2 make sure not to lose it because you will lose your phone credit cards and drivers license all together\n",
              "44      724688  ...                                                                                                                       the picture that is on amazon com is not what i received i received a pin female to micro usb 5 pin male charger what is on the picture is a pin female to mini usb 5 pin male charger\n",
              "46       70888  ...                                                                                                                                                                                                         comes with cd software but as soon as i plugged it in software was downloaded and it started working\n",
              "51      642158  ...                                                                                                     this is a nice unit and is easy to use it recharges every thing i have tried 3 phones and 5 tablets 7 and it recharged in about 4 hours for me when the final charge light becomes solid it is recharged\n",
              "55      852855  ...                                                                                                      with two small children this case has protected my iphone on many a falls i had a defender series for my old iphone but decided that it was too bulky this one is nice and convenient and also protects\n",
              "68      308397  ...                                                                                                                                                                                                                                                        if you are looking for a cool leather case this is it\n",
              "71      242755  ...                                                                                                                                                                                                                                                                   less than 2 weeks the colors have worn off\n",
              "74       77099  ...                                                                                            the phone is outstanding and may be used with or without the si am card the owners manual states that it comes with a verizon si am card installed but both the owners manuals and the si am card were removed by\n",
              "77      783185  ...  i read the review from the gentleman who said you can not see the monitor in any day light and then i ordered it like a dummy and just like he said you will return this product after buying it and i did i live in anchorage alaska it is now hours of sun light and gaining more every day until summ...\n",
              "82      248062  ...                                                                                                                                                                                                                                                                                                great product\n",
              "87      832809  ...                                                                                                                                                                              my partner had this on wish list she is very happy with it it is a live saver in emergency situations as like super storm sandy\n",
              "90       50524  ...                                                                                                                                                                                                                                                            works great traffic not a nice as previous models\n",
              "\n",
              "[20 rows x 9 columns]"
            ]
          },
          "metadata": {
            "tags": []
          },
          "execution_count": 63
        }
      ]
    },
    {
      "cell_type": "markdown",
      "metadata": {
        "id": "SHpZVToTmFen",
        "colab_type": "text"
      },
      "source": [
        "## Aggregate common reviews that were in various runs of our models\n",
        "\n",
        "* 2k 5-star samples that were in all runs\n",
        "* 2.6k 4-star samples that were in all relevant runs\n",
        "* 5.6k 3-star samples\n",
        "* 16k 2-star samples\n",
        "* 570 1-star samples"
      ]
    },
    {
      "cell_type": "code",
      "metadata": {
        "id": "d7Ksz-ONSUvN",
        "colab_type": "code",
        "outputId": "c756645f-35c1-4fcc-c570-81cdd56520e2",
        "colab": {
          "base_uri": "https://localhost:8080/",
          "height": 105
        }
      },
      "source": [
        "results_5 = results_comprehensive[(results_comprehensive.true_all == 5) &\n",
        "                      results_comprehensive.predict_15.notnull() &\n",
        "                      results_comprehensive.predict_145.notnull() &\n",
        "                      results_comprehensive.predict_1345.notnull()]\n",
        "print(f'5-star shape: {results_5.shape}')\n",
        "\n",
        "results_4 = results_comprehensive[(results_comprehensive.true_all == 4) &\n",
        "                      results_comprehensive.predict_145.notnull() &\n",
        "                      results_comprehensive.predict_1345.notnull()]\n",
        "print(f'4-star shape: {results_4.shape}')\n",
        "\n",
        "results_3 = results_comprehensive[(results_comprehensive.true_all == 3) &\n",
        "                      results_comprehensive.predict_1345.notnull()]\n",
        "print(f'3-star shape: {results_3.shape}')\n",
        "\n",
        "results_2 = results_comprehensive[(results_comprehensive.true_all == 2)]\n",
        "print(f'2-star shape: {results_2.shape}')\n",
        "\n",
        "results_1 = results_comprehensive[(results_comprehensive.true_all == 1) &\n",
        "                      results_comprehensive.predict_15.notnull() &\n",
        "                      results_comprehensive.predict_145.notnull() &\n",
        "                      results_comprehensive.predict_1345.notnull()]\n",
        "print(f'1-star shape: {results_1.shape}')"
      ],
      "execution_count": 64,
      "outputs": [
        {
          "output_type": "stream",
          "text": [
            "5-star shape: (1976, 9)\n",
            "4-star shape: (2583, 9)\n",
            "3-star shape: (5668, 9)\n",
            "2-star shape: (16600, 9)\n",
            "1-star shape: (570, 9)\n"
          ],
          "name": "stdout"
        }
      ]
    },
    {
      "cell_type": "code",
      "metadata": {
        "id": "yZ1cpXDySUlj",
        "colab_type": "code",
        "colab": {}
      },
      "source": [
        ""
      ],
      "execution_count": 0,
      "outputs": []
    },
    {
      "cell_type": "markdown",
      "metadata": {
        "id": "LQCj4842mky3",
        "colab_type": "text"
      },
      "source": [
        "<a id='model-debugging'></a>\n",
        "# Debugging The Model\n",
        "\n",
        "\n"
      ]
    },
    {
      "cell_type": "markdown",
      "metadata": {
        "id": "HR20KF3530eY",
        "colab_type": "text"
      },
      "source": [
        "### 4-Star Reviews That Were Misclassified as 5\n",
        "\n",
        "Our theory is that for 4-star reviews, the model is not correcting negative context correctly. We will pick a couple reviews that have clear negative fragments and run the through the model and look at their probabilities"
      ]
    },
    {
      "cell_type": "code",
      "metadata": {
        "id": "HSDsTPBz80vS",
        "colab_type": "code",
        "outputId": "0c1c2f69-6ec1-4375-d606-5c6b9b1e9dd6",
        "colab": {
          "base_uri": "https://localhost:8080/",
          "height": 1000
        }
      },
      "source": [
        "results_4[(results_4.predict_145 == 5) |\n",
        "          (results_4.predict_1345 == 5) |\n",
        "          (results_4.predict_all == 5)][[\"index_orig\", \"true_all\", \"predict_145\", \"predict_1345\", \"review_body\", \"out_of_vocab\"]].sample(20, random_state=3)"
      ],
      "execution_count": 73,
      "outputs": [
        {
          "output_type": "execute_result",
          "data": {
            "text/html": [
              "<div>\n",
              "<style scoped>\n",
              "    .dataframe tbody tr th:only-of-type {\n",
              "        vertical-align: middle;\n",
              "    }\n",
              "\n",
              "    .dataframe tbody tr th {\n",
              "        vertical-align: top;\n",
              "    }\n",
              "\n",
              "    .dataframe thead th {\n",
              "        text-align: right;\n",
              "    }\n",
              "</style>\n",
              "<table border=\"1\" class=\"dataframe\">\n",
              "  <thead>\n",
              "    <tr style=\"text-align: right;\">\n",
              "      <th></th>\n",
              "      <th>index_orig</th>\n",
              "      <th>true_all</th>\n",
              "      <th>predict_145</th>\n",
              "      <th>predict_1345</th>\n",
              "      <th>review_body</th>\n",
              "      <th>out_of_vocab</th>\n",
              "    </tr>\n",
              "  </thead>\n",
              "  <tbody>\n",
              "    <tr>\n",
              "      <th>270595</th>\n",
              "      <td>958840</td>\n",
              "      <td>4.0</td>\n",
              "      <td>5.0</td>\n",
              "      <td>5.0</td>\n",
              "      <td>okay so i read a gazillion reviews before purchasing these bluetooth headphones i heard a lot of bad and i heard a lot of good keep in mind that i have only had these for a day or so and will update if things change pros i do not know what people are talking about i have the iphone 4 with the ne...</td>\n",
              "      <td>NaN</td>\n",
              "    </tr>\n",
              "    <tr>\n",
              "      <th>245208</th>\n",
              "      <td>846885</td>\n",
              "      <td>4.0</td>\n",
              "      <td>5.0</td>\n",
              "      <td>5.0</td>\n",
              "      <td>military family stationed overseas and ordered this for a trip back stateside got to our apo quickly despite the mail lag from storm sandy and was easy to activate google activate si am with zeroes i amei thanks and a for service quality value</td>\n",
              "      <td>NaN</td>\n",
              "    </tr>\n",
              "    <tr>\n",
              "      <th>205184</th>\n",
              "      <td>298675</td>\n",
              "      <td>4.0</td>\n",
              "      <td>5.0</td>\n",
              "      <td>5.0</td>\n",
              "      <td>the case feels great in the hand and i feels very natural it looks adorable and was easy to install it fixes my problem with my previous case which was that i had to take my case off to charge my phone this phone has a good sized acess port for charging however i am the most accident prone human...</td>\n",
              "      <td>NaN</td>\n",
              "    </tr>\n",
              "    <tr>\n",
              "      <th>270356</th>\n",
              "      <td>851267</td>\n",
              "      <td>4.0</td>\n",
              "      <td>5.0</td>\n",
              "      <td>5.0</td>\n",
              "      <td>have to say this thing is what i thought it would be not the best internet but on my it gets the job done</td>\n",
              "      <td>NaN</td>\n",
              "    </tr>\n",
              "    <tr>\n",
              "      <th>201795</th>\n",
              "      <td>59863</td>\n",
              "      <td>4.0</td>\n",
              "      <td>5.0</td>\n",
              "      <td>5.0</td>\n",
              "      <td>arrived faster than i thought it would fit the phone perfectly</td>\n",
              "      <td>NaN</td>\n",
              "    </tr>\n",
              "    <tr>\n",
              "      <th>262241</th>\n",
              "      <td>793327</td>\n",
              "      <td>4.0</td>\n",
              "      <td>5.0</td>\n",
              "      <td>4.0</td>\n",
              "      <td>what a great cover it reminds me of the old days only issue i have with this item is that its slightly too large but not enough to keep off my iphone</td>\n",
              "      <td>NaN</td>\n",
              "    </tr>\n",
              "    <tr>\n",
              "      <th>183496</th>\n",
              "      <td>536569</td>\n",
              "      <td>4.0</td>\n",
              "      <td>5.0</td>\n",
              "      <td>5.0</td>\n",
              "      <td>really give it a 4 5 so far i have really enjoyed the i previously purchased three of the original li ameade and still use and was very satisfied with that product i have been using this unit daily for the past few weeks nothing has been a deal breaker but there are a couple of small things tobe...</td>\n",
              "      <td>ameade ameblast ofpros</td>\n",
              "    </tr>\n",
              "    <tr>\n",
              "      <th>175822</th>\n",
              "      <td>145305</td>\n",
              "      <td>4.0</td>\n",
              "      <td>4.0</td>\n",
              "      <td>3.0</td>\n",
              "      <td>it is beautiful but fragil</td>\n",
              "      <td>NaN</td>\n",
              "    </tr>\n",
              "    <tr>\n",
              "      <th>286565</th>\n",
              "      <td>20890</td>\n",
              "      <td>4.0</td>\n",
              "      <td>5.0</td>\n",
              "      <td>5.0</td>\n",
              "      <td>it is better than i expected not fli amsy and really fits my phone</td>\n",
              "      <td>amsy</td>\n",
              "    </tr>\n",
              "    <tr>\n",
              "      <th>309219</th>\n",
              "      <td>795326</td>\n",
              "      <td>4.0</td>\n",
              "      <td>5.0</td>\n",
              "      <td>5.0</td>\n",
              "      <td>very good product installed it and wow the bass from such a little amp but that is polk audio i had heard this exact amp in a jeep grand cheeroke and it was pushing 3 ten inch woofer amazing how technology has evolved i used to have a orion great amp but just to big but it was amazing also this ...</td>\n",
              "      <td>cheeroke</td>\n",
              "    </tr>\n",
              "    <tr>\n",
              "      <th>260695</th>\n",
              "      <td>798342</td>\n",
              "      <td>4.0</td>\n",
              "      <td>5.0</td>\n",
              "      <td>5.0</td>\n",
              "      <td>get accessory for charging and being able to still work on device a must have while traveling or home with non stop working or play</td>\n",
              "      <td>NaN</td>\n",
              "    </tr>\n",
              "    <tr>\n",
              "      <th>283708</th>\n",
              "      <td>742853</td>\n",
              "      <td>4.0</td>\n",
              "      <td>5.0</td>\n",
              "      <td>5.0</td>\n",
              "      <td>fits perfectly around the phone although it gets a lil harder to press the dedicated keys around the phone you will have to get used to that but great product</td>\n",
              "      <td>NaN</td>\n",
              "    </tr>\n",
              "    <tr>\n",
              "      <th>217664</th>\n",
              "      <td>567185</td>\n",
              "      <td>4.0</td>\n",
              "      <td>5.0</td>\n",
              "      <td>4.0</td>\n",
              "      <td>nice coolers and good for the price would recommend this if ur just looking for changes on ur cases nice and like how it holds other lil things i e money credit card</td>\n",
              "      <td>NaN</td>\n",
              "    </tr>\n",
              "    <tr>\n",
              "      <th>209246</th>\n",
              "      <td>183464</td>\n",
              "      <td>4.0</td>\n",
              "      <td>5.0</td>\n",
              "      <td>5.0</td>\n",
              "      <td>selfie sticks are so much fun and when i saw this was offered as a promotion i went for it the case is just as pictured each piece has a pocket where it is stored do not forget to charge it when you get it so you can use it when you want there is a on off bluetooth button at the bottom of the st...</td>\n",
              "      <td>NaN</td>\n",
              "    </tr>\n",
              "    <tr>\n",
              "      <th>202145</th>\n",
              "      <td>897483</td>\n",
              "      <td>4.0</td>\n",
              "      <td>5.0</td>\n",
              "      <td>5.0</td>\n",
              "      <td>this si amply has to be one of the best cases ever i love the optional silicone outer layer it will protect from drops and everything that you can throw at it although the bubbles in the screen makes me want to punch babies you cannot beat the most protective case at an economic price</td>\n",
              "      <td>NaN</td>\n",
              "    </tr>\n",
              "    <tr>\n",
              "      <th>171613</th>\n",
              "      <td>270208</td>\n",
              "      <td>4.0</td>\n",
              "      <td>5.0</td>\n",
              "      <td>5.0</td>\n",
              "      <td>just what i needed for my note 3</td>\n",
              "      <td>NaN</td>\n",
              "    </tr>\n",
              "    <tr>\n",
              "      <th>200453</th>\n",
              "      <td>46444</td>\n",
              "      <td>4.0</td>\n",
              "      <td>5.0</td>\n",
              "      <td>5.0</td>\n",
              "      <td>when i got this through the mail it came next day it is really cool case although it is not worth the trust of any protection it fell off the first ti ame i dropped it the fact that it does not lay flat on the back of the phone is a minor inconvenience the fetch is an awesome little guy it fits ...</td>\n",
              "      <td>NaN</td>\n",
              "    </tr>\n",
              "    <tr>\n",
              "      <th>255206</th>\n",
              "      <td>134231</td>\n",
              "      <td>4.0</td>\n",
              "      <td>4.0</td>\n",
              "      <td>5.0</td>\n",
              "      <td>surprisingly solid case for the price love that the clip extends to be a kickstand as well because the one on the actually case is not as sturdy</td>\n",
              "      <td>NaN</td>\n",
              "    </tr>\n",
              "    <tr>\n",
              "      <th>327851</th>\n",
              "      <td>338372</td>\n",
              "      <td>4.0</td>\n",
              "      <td>5.0</td>\n",
              "      <td>5.0</td>\n",
              "      <td>i like this screen protector as the installation was easy enough there is only one bubble on it which annoys me but it looks good nonetheless</td>\n",
              "      <td>NaN</td>\n",
              "    </tr>\n",
              "    <tr>\n",
              "      <th>185877</th>\n",
              "      <td>463557</td>\n",
              "      <td>4.0</td>\n",
              "      <td>5.0</td>\n",
              "      <td>5.0</td>\n",
              "      <td>great purchase i am very satsified</td>\n",
              "      <td>NaN</td>\n",
              "    </tr>\n",
              "  </tbody>\n",
              "</table>\n",
              "</div>"
            ],
            "text/plain": [
              "        index_orig  ...            out_of_vocab\n",
              "270595      958840  ...                     NaN\n",
              "245208      846885  ...                     NaN\n",
              "205184      298675  ...                     NaN\n",
              "270356      851267  ...                     NaN\n",
              "201795       59863  ...                     NaN\n",
              "262241      793327  ...                     NaN\n",
              "183496      536569  ...  ameade ameblast ofpros\n",
              "175822      145305  ...                     NaN\n",
              "286565       20890  ...                    amsy\n",
              "309219      795326  ...                cheeroke\n",
              "260695      798342  ...                     NaN\n",
              "283708      742853  ...                     NaN\n",
              "217664      567185  ...                     NaN\n",
              "209246      183464  ...                     NaN\n",
              "202145      897483  ...                     NaN\n",
              "171613      270208  ...                     NaN\n",
              "200453       46444  ...                     NaN\n",
              "255206      134231  ...                     NaN\n",
              "327851      338372  ...                     NaN\n",
              "185877      463557  ...                     NaN\n",
              "\n",
              "[20 rows x 6 columns]"
            ]
          },
          "metadata": {
            "tags": []
          },
          "execution_count": 73
        }
      ]
    },
    {
      "cell_type": "markdown",
      "metadata": {
        "id": "d6Z5skv1EU-s",
        "colab_type": "text"
      },
      "source": [
        "#### Edit Review and see if it detects negative\n",
        "\n",
        "The following review has a negative (original index: 851267) - let's see if the model detects this: \"have to say this thing is what i thought it would be not the best internet but on my it gets the job done\" the model is not detecting **not the best** as a negative\n",
        "\n",
        "Probability for star ratings:\n",
        "\n",
        "* entire review - 60% 5-star, 38% 4-star\n",
        "* have to say this thing is what i thought it would be - 80% 5-star \n",
        "* gets the job done - 64% 5-star, 36% 4-star\n",
        "* not the best internet - 77% 1-star\n",
        "* not the best internet but on my gets the job done - 69% 4-star\n"
      ]
    },
    {
      "cell_type": "code",
      "metadata": {
        "id": "s19meate2O6w",
        "colab_type": "code",
        "outputId": "24ce95ce-a21a-4a43-d465-db6bd1db8840",
        "colab": {
          "base_uri": "https://localhost:8080/",
          "height": 158
        }
      },
      "source": [
        "# 406428 - this is a good case just not as protective as some of the others it \n",
        "#           keeps the sli am look and fits in my purse better than the bulky cases\n",
        "# cleaned up review - this is a good case \n",
        "#           it keeps the sli am look and fits in my purse better \n",
        "#           than the bulky cases\n",
        "review_temp = [reviews_145.loc[851267],\n",
        "               'have to say this thing is what i thought it would be',\n",
        "               'gets the job done', \n",
        "               'not the best internet',\n",
        "               'not the best internet but on my gets the job done',\n",
        "               ]\n",
        "\n",
        "# train both using 145 model\n",
        "sequences_temp = t_145.texts_to_sequences(review_temp)\n",
        "\n",
        "# pad our reviews to the max sequence length\n",
        "X_temp = sequence.pad_sequences(sequences_temp, maxlen=MAX_SEQUENCE_LENGTH)\n",
        "\n",
        "print('Test review vectors shape:', X_temp.shape)\n",
        "\n",
        "print(f'Predicting test set...')\n",
        "y_predict_temp = model_145.predict(X_temp)\n",
        "y_predict_unencoded_temp = ku.unencode(y_predict_temp)\n",
        "\n",
        "# unmap predictions\n",
        "y_predict_unencoded_temp[y_predict_unencoded_temp == 3] = 5\n",
        "\n",
        "print(y_predict_temp)\n",
        "print(y_predict_unencoded_temp)\n",
        "\n"
      ],
      "execution_count": 69,
      "outputs": [
        {
          "output_type": "stream",
          "text": [
            "Test review vectors shape: (5, 100)\n",
            "Predicting test set...\n",
            "[[0.02217765 0.37673366 0.60108864]\n",
            " [0.03176164 0.16336995 0.8048684 ]\n",
            " [0.00186574 0.3592106  0.6389236 ]\n",
            " [0.77564967 0.06021775 0.16413254]\n",
            " [0.05728094 0.6886509  0.25406817]]\n",
            "[5, 3, 3, 1, 2]\n"
          ],
          "name": "stdout"
        }
      ]
    },
    {
      "cell_type": "markdown",
      "metadata": {
        "id": "sFV3f81etsuc",
        "colab_type": "text"
      },
      "source": [
        "Original Index: 338372\n",
        "\n",
        "Review: i like this screen protector as the installation was easy enough there is only one bubble on it which annoys me but it looks good nonetheless\t\n",
        "\n",
        "Probability for Star Ratings:\n",
        "\n",
        "| text | 1-star prob | 4-star prob | 5-star prob | notes |\n",
        "|------|-------------|-------------|-------------|-------|\n",
        "| full reviews | 0% | 36% | 64% | |\n",
        "| i like this screen protector as the installation was easy enough | 1.4% | 19% | 80% | |\n",
        "| there is only one bubble on it which annoys me | 55% | 14% | 31% | |\n",
        "| it looks good | 0.3% | 35% | 65% | |\n",
        "| but it looks good | 0.4% | 71% | 29% | adding but drops the class to 4-stars |\n",
        "| i like this screen protector as the installation was easy enough there is only one bubble on it which annoys me | 0.4% | 29% | 71% | when mixed with a positive fragment, the negative fragement </br> does not bring down the probability for 5-star review enough |\n",
        "| there is only one bubble on it which annoys me but it looks good | .8% | 65% | 35% | |\n",
        "| but | 17% | 57% | 26% | model does attribute but as a negative |\n",
        "| like | .3% | 30% | 67% | |\n",
        "| easy | 1.5% | 27% | 71% | |"
      ]
    },
    {
      "cell_type": "code",
      "metadata": {
        "id": "r9Hbb4iuthOQ",
        "colab_type": "code",
        "colab": {
          "base_uri": "https://localhost:8080/",
          "height": 247
        },
        "outputId": "560f5b82-b77c-4ece-de0d-c86aa53fcfc2"
      },
      "source": [
        "\n",
        "# full review: i like this screen protector as the \n",
        "# installation was easy enough there is only one bubble on it \n",
        "# which annoys me but it looks good nonetheless\n",
        "review_temp = [reviews_145.loc[338372],\n",
        "               'i like this screen protector as the installation was easy enough',\n",
        "               'there is only one bubble on it which annoys me', \n",
        "               'it looks good',\n",
        "               'but it looks good',\n",
        "               'i like this screen protector as the installation was easy enough there is only one bubble on it which annoys me',\n",
        "               'there is only one bubble on it which annoys me but it looks good',\n",
        "               'but',\n",
        "               'like',\n",
        "               'easy'\n",
        "               ]\n",
        "\n",
        "# train both using 145 model\n",
        "sequences_temp = t_145.texts_to_sequences(review_temp)\n",
        "\n",
        "# pad our reviews to the max sequence length\n",
        "X_temp = sequence.pad_sequences(sequences_temp, maxlen=MAX_SEQUENCE_LENGTH)\n",
        "\n",
        "print('Test review vectors shape:', X_temp.shape)\n",
        "\n",
        "print(f'Predicting test set...')\n",
        "y_predict_temp = model_145.predict(X_temp)\n",
        "y_predict_unencoded_temp = ku.unencode(y_predict_temp)\n",
        "\n",
        "# unmap predictions\n",
        "y_predict_unencoded_temp[y_predict_unencoded_temp == 3] = 5\n",
        "\n",
        "print(y_predict_temp)\n",
        "print(y_predict_unencoded_temp)"
      ],
      "execution_count": 88,
      "outputs": [
        {
          "output_type": "stream",
          "text": [
            "Test review vectors shape: (10, 100)\n",
            "Predicting test set...\n",
            "[[6.1976153e-04 3.6378387e-01 6.3559645e-01]\n",
            " [1.4228715e-03 1.9989388e-01 7.9868329e-01]\n",
            " [5.5278003e-01 1.3719454e-01 3.1002536e-01]\n",
            " [2.8627028e-03 3.4625372e-01 6.5088362e-01]\n",
            " [4.1445233e-03 7.0925033e-01 2.8660515e-01]\n",
            " [4.0471260e-03 2.8821608e-01 7.0773679e-01]\n",
            " [7.6065003e-03 6.4681494e-01 3.4557858e-01]\n",
            " [1.6839622e-01 5.7011735e-01 2.6148644e-01]\n",
            " [3.1544831e-02 3.0229831e-01 6.6615683e-01]\n",
            " [1.5321432e-02 2.7683428e-01 7.0784432e-01]]\n",
            "[5, 3, 1, 3, 2, 3, 2, 2, 3, 3]\n"
          ],
          "name": "stdout"
        }
      ]
    },
    {
      "cell_type": "markdown",
      "metadata": {
        "id": "mT037rC772zp",
        "colab_type": "text"
      },
      "source": [
        "# 5-Star that were correctly classified as 5-stars but misclassified as 4-star once we introduct 4-star reviews"
      ]
    },
    {
      "cell_type": "code",
      "metadata": {
        "id": "PfYqzih2SNLp",
        "colab_type": "code",
        "colab": {
          "base_uri": "https://localhost:8080/",
          "height": 697
        },
        "outputId": "ddf3d20c-3ada-472d-ac01-2f3bc094d475"
      },
      "source": [
        "results_5[(results_5.true_all == 5) &\n",
        "          (results_5.predict_15 == 5) &\n",
        "          (results_5.predict_145 != 5) &\n",
        "          (results_5.predict_1345.notnull()) &\n",
        "          (results_5.predict_all.notnull())][[\"index_orig\", \"true_all\", \"predict_145\", \"predict_1345\", \"predict_all\", \"review_body\", \"out_of_vocab\"]].sample(10, random_state=1)"
      ],
      "execution_count": 80,
      "outputs": [
        {
          "output_type": "execute_result",
          "data": {
            "text/html": [
              "<div>\n",
              "<style scoped>\n",
              "    .dataframe tbody tr th:only-of-type {\n",
              "        vertical-align: middle;\n",
              "    }\n",
              "\n",
              "    .dataframe tbody tr th {\n",
              "        vertical-align: top;\n",
              "    }\n",
              "\n",
              "    .dataframe thead th {\n",
              "        text-align: right;\n",
              "    }\n",
              "</style>\n",
              "<table border=\"1\" class=\"dataframe\">\n",
              "  <thead>\n",
              "    <tr style=\"text-align: right;\">\n",
              "      <th></th>\n",
              "      <th>index_orig</th>\n",
              "      <th>true_all</th>\n",
              "      <th>predict_145</th>\n",
              "      <th>predict_1345</th>\n",
              "      <th>predict_all</th>\n",
              "      <th>review_body</th>\n",
              "      <th>out_of_vocab</th>\n",
              "    </tr>\n",
              "  </thead>\n",
              "  <tbody>\n",
              "    <tr>\n",
              "      <th>138584</th>\n",
              "      <td>14214</td>\n",
              "      <td>5.0</td>\n",
              "      <td>4.0</td>\n",
              "      <td>4.0</td>\n",
              "      <td>3.0</td>\n",
              "      <td>i like it but it had quirks however after letting hisbox know of my difficulty they requested that i return their hi ambox and quickly replaced it with a new unit subsequently i have not encountered any problems and recd superior customer support</td>\n",
              "      <td>ambox hisbox</td>\n",
              "    </tr>\n",
              "    <tr>\n",
              "      <th>81101</th>\n",
              "      <td>989310</td>\n",
              "      <td>5.0</td>\n",
              "      <td>4.0</td>\n",
              "      <td>4.0</td>\n",
              "      <td>4.0</td>\n",
              "      <td>2 miles into a summer driving trip our new has transformed our route planning swept away the challenges of navigating unfamiliar territory and unexpected detours and has made exploring side roads enjoyable the user interface is very well executed with lots of convenience at your fingertips it re...</td>\n",
              "      <td>amperfect amportance relegetes</td>\n",
              "    </tr>\n",
              "    <tr>\n",
              "      <th>95527</th>\n",
              "      <td>969355</td>\n",
              "      <td>5.0</td>\n",
              "      <td>4.0</td>\n",
              "      <td>4.0</td>\n",
              "      <td>4.0</td>\n",
              "      <td>does what is is supposed to do be careful some underpowered usb ports will not work correctly but overall a very good purchase</td>\n",
              "      <td>NaN</td>\n",
              "    </tr>\n",
              "    <tr>\n",
              "      <th>126540</th>\n",
              "      <td>78447</td>\n",
              "      <td>5.0</td>\n",
              "      <td>4.0</td>\n",
              "      <td>4.0</td>\n",
              "      <td>4.0</td>\n",
              "      <td>honestly love this case the only complaint would be that the film that you gotta tear off is annoying to get off but hey at least that means it is protected well</td>\n",
              "      <td>NaN</td>\n",
              "    </tr>\n",
              "    <tr>\n",
              "      <th>114014</th>\n",
              "      <td>802285</td>\n",
              "      <td>5.0</td>\n",
              "      <td>4.0</td>\n",
              "      <td>5.0</td>\n",
              "      <td>4.0</td>\n",
              "      <td>color matches the picture a little slicker than i envisioned but great fit now when my kids drop the phone the case will not pop apart like non silicone</td>\n",
              "      <td>NaN</td>\n",
              "    </tr>\n",
              "    <tr>\n",
              "      <th>153273</th>\n",
              "      <td>329502</td>\n",
              "      <td>5.0</td>\n",
              "      <td>4.0</td>\n",
              "      <td>4.0</td>\n",
              "      <td>5.0</td>\n",
              "      <td>must have for techies all the basic stuff for phone tablet and laptop disassembly the drivers could be better made but no top quality manufacturer is going to challenge apples proprietary pentalobe it is a good quality kit for a great price hence my 5 star rating</td>\n",
              "      <td>NaN</td>\n",
              "    </tr>\n",
              "    <tr>\n",
              "      <th>147751</th>\n",
              "      <td>482879</td>\n",
              "      <td>5.0</td>\n",
              "      <td>4.0</td>\n",
              "      <td>5.0</td>\n",
              "      <td>4.0</td>\n",
              "      <td>could not figure out the vent attachment but others are great</td>\n",
              "      <td>NaN</td>\n",
              "    </tr>\n",
              "    <tr>\n",
              "      <th>98281</th>\n",
              "      <td>798564</td>\n",
              "      <td>5.0</td>\n",
              "      <td>4.0</td>\n",
              "      <td>5.0</td>\n",
              "      <td>4.0</td>\n",
              "      <td>i love this case it looks cool even though it is not as bright of a purple as the picture shows other reviews said it was kind of hard to put on but i did not have any trouble you just have to put both pieces on at the same ti ame i have only been using it for a week but it seems very durable be...</td>\n",
              "      <td>NaN</td>\n",
              "    </tr>\n",
              "    <tr>\n",
              "      <th>70306</th>\n",
              "      <td>949808</td>\n",
              "      <td>5.0</td>\n",
              "      <td>4.0</td>\n",
              "      <td>5.0</td>\n",
              "      <td>5.0</td>\n",
              "      <td>for i thought why not try it you could not find a better deal for these type of headphones opened the box read the instructions and paired the headphones with my iphone 4 flawlessly just make sure you read the instructions on how to pair the device because the lights have to blink red and blue i...</td>\n",
              "      <td>NaN</td>\n",
              "    </tr>\n",
              "    <tr>\n",
              "      <th>72039</th>\n",
              "      <td>866424</td>\n",
              "      <td>5.0</td>\n",
              "      <td>4.0</td>\n",
              "      <td>3.0</td>\n",
              "      <td>3.0</td>\n",
              "      <td>i got this specifically for the macro lens and while it does work rather incredibly the range is extremely li amited you literally have to be within 1 2 of what you are photographing and then the field of depth is also very very small you can take close ups of parts of flowers but not the whole ...</td>\n",
              "      <td>amited ampossible</td>\n",
              "    </tr>\n",
              "  </tbody>\n",
              "</table>\n",
              "</div>"
            ],
            "text/plain": [
              "        index_orig  ...                    out_of_vocab\n",
              "138584       14214  ...                    ambox hisbox\n",
              "81101       989310  ...  amperfect amportance relegetes\n",
              "95527       969355  ...                             NaN\n",
              "126540       78447  ...                             NaN\n",
              "114014      802285  ...                             NaN\n",
              "153273      329502  ...                             NaN\n",
              "147751      482879  ...                             NaN\n",
              "98281       798564  ...                             NaN\n",
              "70306       949808  ...                             NaN\n",
              "72039       866424  ...               amited ampossible\n",
              "\n",
              "[10 rows x 7 columns]"
            ]
          },
          "metadata": {
            "tags": []
          },
          "execution_count": 80
        }
      ]
    },
    {
      "cell_type": "markdown",
      "metadata": {
        "id": "rnxNQ8zg9his",
        "colab_type": "text"
      },
      "source": [
        ""
      ]
    },
    {
      "cell_type": "code",
      "metadata": {
        "id": "PGZXzgJU-Gox",
        "colab_type": "code",
        "colab": {
          "base_uri": "https://localhost:8080/",
          "height": 54
        },
        "outputId": "80a8b74a-bcd4-486a-ca75-3d2e89580eac"
      },
      "source": [
        "print(results_5[results_5.index_orig == 329502].review_body_train.values[0])"
      ],
      "execution_count": 86,
      "outputs": [
        {
          "output_type": "stream",
          "text": [
            "must have for techies all the basic stuff for phone tablet and laptop disassembly the drivers could be better made but no top quality manufacturer is going to challenge apples proprietary pentalobe it is a good quality kit for a great price hence my 5 star rating\n"
          ],
          "name": "stdout"
        }
      ]
    },
    {
      "cell_type": "markdown",
      "metadata": {
        "id": "Bcb3YW0j_ZqL",
        "colab_type": "text"
      },
      "source": [
        "Probability for various star ratings\n",
        "\n",
        "| Reviews | 1-star Prob | 4-star Prob | 5-star Prob | Notes |\n",
        "|---------|-------------|-------------|-------------|-------| \n",
        "| entire review | 23% | 61% | 15% | |\n",
        "| must have for techies all the basic stuff for phone tablet and laptop disassembly | 4% | 24% | 72% | |\n",
        "| **the drivers could be better made** | 23% | 31% | **46%** | would probably classify this as 3 or 4 |\n",
        "| **but no top quality manufacturer is going to challenge apples proprietary pentalobe** | **96%** | 3% | 0.5% | confused positive with a negative |\n",
        "| it is a good quality kit for a great price hence my 5 star rating | 0.1% | 16% | 84% | |\n",
        "\n",
        "Looks like the model is probably mis-classifying 2 fragments of the sentence\n",
        "\n"
      ]
    },
    {
      "cell_type": "code",
      "metadata": {
        "id": "oDUdvk7ASNGU",
        "colab_type": "code",
        "colab": {
          "base_uri": "https://localhost:8080/",
          "height": 158
        },
        "outputId": "851e350e-8094-4057-bb8a-e20d077464bc"
      },
      "source": [
        "\n",
        "# full review: i like this screen protector as the \n",
        "# installation was easy enough there is only one bubble on it \n",
        "# which annoys me but it looks good nonetheless\n",
        "review_temp = [results_5[results_5.index_orig == 329502].review_body.values[0],\n",
        "               'must have for techies all the basic stuff for phone tablet and laptop disassembly',\n",
        "               'the drivers could be better made',\n",
        "               'but no top quality manufacturer is going to challenge apples proprietary pentalobe',\n",
        "               'it is a good quality kit for a great price hence my 5 star rating'\n",
        "               ]\n",
        "\n",
        "# train both using 145 model\n",
        "sequences_temp = t_145.texts_to_sequences(review_temp)\n",
        "\n",
        "# pad our reviews to the max sequence length\n",
        "X_temp = sequence.pad_sequences(sequences_temp, maxlen=MAX_SEQUENCE_LENGTH)\n",
        "\n",
        "print('Test review vectors shape:', X_temp.shape)\n",
        "\n",
        "print(f'Predicting test set...')\n",
        "y_predict_temp = model_145.predict(X_temp)\n",
        "y_predict_unencoded_temp = ku.unencode(y_predict_temp)\n",
        "\n",
        "# unmap predictions\n",
        "y_predict_unencoded_temp[y_predict_unencoded_temp == 3] = 5\n",
        "\n",
        "print(y_predict_temp)\n",
        "print(y_predict_unencoded_temp)"
      ],
      "execution_count": 87,
      "outputs": [
        {
          "output_type": "stream",
          "text": [
            "Test review vectors shape: (5, 100)\n",
            "Predicting test set...\n",
            "[[0.23874527 0.61447966 0.14677505]\n",
            " [0.04357148 0.23882134 0.71760714]\n",
            " [0.23128337 0.30988884 0.4588278 ]\n",
            " [0.96015    0.03460958 0.00524042]\n",
            " [0.00169701 0.15537992 0.842923  ]]\n",
            "[5, 3, 3, 1, 3]\n"
          ],
          "name": "stdout"
        }
      ]
    },
    {
      "cell_type": "code",
      "metadata": {
        "id": "2c_R01EmSNDg",
        "colab_type": "code",
        "colab": {}
      },
      "source": [
        ""
      ],
      "execution_count": 0,
      "outputs": []
    },
    {
      "cell_type": "code",
      "metadata": {
        "id": "tD4cNEz4SM_s",
        "colab_type": "code",
        "colab": {}
      },
      "source": [
        ""
      ],
      "execution_count": 0,
      "outputs": []
    },
    {
      "cell_type": "code",
      "metadata": {
        "id": "aDLCky9zSM4f",
        "colab_type": "code",
        "colab": {}
      },
      "source": [
        ""
      ],
      "execution_count": 0,
      "outputs": []
    },
    {
      "cell_type": "code",
      "metadata": {
        "id": "2iDVXz-RSMug",
        "colab_type": "code",
        "colab": {}
      },
      "source": [
        ""
      ],
      "execution_count": 0,
      "outputs": []
    },
    {
      "cell_type": "code",
      "metadata": {
        "id": "S_I2KgkWd8mL",
        "colab_type": "code",
        "outputId": "2d950458-585c-48f3-a246-ef95d7d8011a",
        "colab": {
          "base_uri": "https://localhost:8080/",
          "height": 34
        }
      },
      "source": [
        "print(datetime.now())"
      ],
      "execution_count": 43,
      "outputs": [
        {
          "output_type": "stream",
          "text": [
            "2020-02-23 21:27:02.185542\n"
          ],
          "name": "stdout"
        }
      ]
    }
  ]
}