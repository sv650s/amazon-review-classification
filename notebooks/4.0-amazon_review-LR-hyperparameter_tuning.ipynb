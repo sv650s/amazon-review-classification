{
 "cells": [
  {
   "cell_type": "markdown",
   "metadata": {},
   "source": [
    "# Hyper Parameter Tuning for Logistic Regression\n",
    "\n",
    "Since Logistic Regression preforms the best on our dataset using class_weight = 'balanced', in this notebook we will tune parameters for LR using LogisticRegressionCV and GridSearchCV to see if we can improve our performance\n",
    "\n",
    "For both methods, we will use a custom scorer - score will be harmonic mean of recall for minority classes and precision of majority class - this is the same metric we have been using to evaluate our models so far\n",
    "\n",
    "We will compare the results from our Logsitic Regression run from before to see if our performance has improved\n",
    "\n",
    "Parameters that we will tune for grid search is C (regularization parameter) and max_iter\n",
    "\n",
    "# Results\n",
    "\n",
    "\n",
    "Using grid search and Logistic Regression CV yielded similar results. The best parameter for Logistic Regression actually turned out to be the default parameters for C = 1.0 and max_iter = 100\n",
    "\n"
   ]
  },
  {
   "cell_type": "code",
   "execution_count": 15,
   "metadata": {},
   "outputs": [
    {
     "name": "stderr",
     "output_type": "stream",
     "text": [
      "DEBUG:matplotlib.pyplot:Loaded backend module://ipykernel.pylab.backend_inline version unknown.\n"
     ]
    }
   ],
   "source": [
    "import os\n",
    "import sys\n",
    "module_path = os.path.abspath(os.path.join('..'))\n",
    "if module_path not in sys.path:\n",
    "    sys.path.append(module_path)\n",
    "    \n",
    "import importlib\n",
    "import re\n",
    "import pandas as pd\n",
    "import matplotlib.pyplot as plt\n",
    "import seaborn as sns\n",
    "import util.model_util as mu\n",
    "import util.report_util as ru\n",
    "from datetime import datetime\n",
    "import logging\n",
    "\n",
    "from sklearn.model_selection import train_test_split, GridSearchCV\n",
    "from sklearn.linear_model import LogisticRegression\n",
    "\n",
    "%matplotlib inline\n",
    "sns.set()\n",
    "# If you set this GridSearchCV spews out a bunch of stuff\n",
    "logging.basicConfig(level=logging.ERROR)\n",
    "log = logging.getLogger(__name__)\n",
    "\n",
    "pd.set_option('max_colwidth', 150)\n",
    "\n",
    "\n",
    "RSTATE=1\n",
    "N_JOBS=4\n",
    "CV=5\n",
    "REPORT_DIR=\"../reports\"\n",
    "DATASET_DIR=\"../dataset/feature_files\"\n",
    "\n",
    "# set to True for debug mode\n",
    "# also you can set the environment variable via command line if using nbconvert\n",
    "DEBUG = bool(os.environ.get(\"IPYNB_DEBUG\", False))\n",
    "\n",
    "if DEBUG:\n",
    "    BASE = \"review_body-tfidf-df_none-ngram22-99-2282-nolda\"\n",
    "    REPORT_FILE_CV = f'{REPORT_DIR}/2019-11-04-run_classifiers-50k-lr_cv-report-test.csv'\n",
    "else:\n",
    "    BASE = \"review_body-tfidf-df_none-ngram11-49784-10000-nolda\"\n",
    "    REPORT_FILE_CV = f'{REPORT_DIR}/2019-11-04-run_classifiers-50k-lr_cv-report.csv'\n",
    "\n",
    "DESCRIPTION = f\"{BASE}-nosmote\"    \n",
    "DATA_FILE = f'{DATASET_DIR}/{BASE}.csv'\n",
    "REPORT_FILE_LR = f'{REPORT_DIR}/2019-11-01-run_classifiers-50k-report.csv'"
   ]
  },
  {
   "cell_type": "code",
   "execution_count": 2,
   "metadata": {},
   "outputs": [],
   "source": [
    "data = pd.read_csv(DATA_FILE)"
   ]
  },
  {
   "cell_type": "markdown",
   "metadata": {},
   "source": [
    "# Prepare our data into training and test sets"
   ]
  },
  {
   "cell_type": "code",
   "execution_count": 3,
   "metadata": {},
   "outputs": [
    {
     "data": {
      "text/plain": [
       "\u001b[0;31mSignature:\u001b[0m\n",
       "\u001b[0mmu\u001b[0m\u001b[0;34m.\u001b[0m\u001b[0mcreate_training_data\u001b[0m\u001b[0;34m(\u001b[0m\u001b[0;34m\u001b[0m\n",
       "\u001b[0;34m\u001b[0m    \u001b[0mdata\u001b[0m\u001b[0;34m:\u001b[0m \u001b[0mpandas\u001b[0m\u001b[0;34m.\u001b[0m\u001b[0mcore\u001b[0m\u001b[0;34m.\u001b[0m\u001b[0mframe\u001b[0m\u001b[0;34m.\u001b[0m\u001b[0mDataFrame\u001b[0m\u001b[0;34m,\u001b[0m\u001b[0;34m\u001b[0m\n",
       "\u001b[0;34m\u001b[0m    \u001b[0mclass_column\u001b[0m\u001b[0;34m:\u001b[0m \u001b[0mstr\u001b[0m\u001b[0;34m,\u001b[0m\u001b[0;34m\u001b[0m\n",
       "\u001b[0;34m\u001b[0m    \u001b[0mdrop_columns\u001b[0m\u001b[0;34m:\u001b[0m \u001b[0mstr\u001b[0m \u001b[0;34m=\u001b[0m \u001b[0;32mNone\u001b[0m\u001b[0;34m,\u001b[0m\u001b[0;34m\u001b[0m\n",
       "\u001b[0;34m\u001b[0m\u001b[0;34m)\u001b[0m\u001b[0;34m\u001b[0m\u001b[0;34m\u001b[0m\u001b[0m\n",
       "\u001b[0;31mSource:\u001b[0m   \n",
       "\u001b[0;32mdef\u001b[0m \u001b[0mcreate_training_data\u001b[0m\u001b[0;34m(\u001b[0m\u001b[0mdata\u001b[0m\u001b[0;34m:\u001b[0m \u001b[0mpd\u001b[0m\u001b[0;34m.\u001b[0m\u001b[0mDataFrame\u001b[0m\u001b[0;34m,\u001b[0m \u001b[0mclass_column\u001b[0m\u001b[0;34m:\u001b[0m \u001b[0mstr\u001b[0m\u001b[0;34m,\u001b[0m \u001b[0mdrop_columns\u001b[0m\u001b[0;34m:\u001b[0m \u001b[0mstr\u001b[0m \u001b[0;34m=\u001b[0m \u001b[0;32mNone\u001b[0m\u001b[0;34m)\u001b[0m\u001b[0;34m:\u001b[0m\u001b[0;34m\u001b[0m\n",
       "\u001b[0;34m\u001b[0m    \u001b[0;34m\"\"\"\u001b[0m\n",
       "\u001b[0;34m    Make a copy of dataframe and:\u001b[0m\n",
       "\u001b[0;34m    1. split between features and predictions\u001b[0m\n",
       "\u001b[0;34m    2. drop any extra columns\u001b[0m\n",
       "\u001b[0;34m    3. create test and training sets\u001b[0m\n",
       "\u001b[0;34m    :param data: dataframe with data to split\u001b[0m\n",
       "\u001b[0;34m    :param class_column: use this column as labels for training\u001b[0m\n",
       "\u001b[0;34m    :param drop_columns: specify a comma delimited list of strings here if there are any extra columns to be dropped (optional)\u001b[0m\n",
       "\u001b[0;34m    :return: X_train, X_test, y_train, y_test\u001b[0m\n",
       "\u001b[0;34m    \"\"\"\u001b[0m\u001b[0;34m\u001b[0m\n",
       "\u001b[0;34m\u001b[0m    \u001b[0;31m# make a copy so we can reuse original DF if need be\u001b[0m\u001b[0;34m\u001b[0m\n",
       "\u001b[0;34m\u001b[0m    \u001b[0mx\u001b[0m \u001b[0;34m=\u001b[0m \u001b[0mdata\u001b[0m\u001b[0;34m.\u001b[0m\u001b[0mcopy\u001b[0m\u001b[0;34m(\u001b[0m\u001b[0;34m)\u001b[0m\u001b[0;34m\u001b[0m\n",
       "\u001b[0;34m\u001b[0m\u001b[0;34m\u001b[0m\n",
       "\u001b[0;34m\u001b[0m    \u001b[0my\u001b[0m \u001b[0;34m=\u001b[0m \u001b[0mx\u001b[0m\u001b[0;34m[\u001b[0m\u001b[0mclass_column\u001b[0m\u001b[0;34m]\u001b[0m\u001b[0;34m\u001b[0m\n",
       "\u001b[0;34m\u001b[0m    \u001b[0mx\u001b[0m\u001b[0;34m.\u001b[0m\u001b[0mdrop\u001b[0m\u001b[0;34m(\u001b[0m\u001b[0mclass_column\u001b[0m\u001b[0;34m,\u001b[0m \u001b[0maxis\u001b[0m\u001b[0;34m=\u001b[0m\u001b[0;36m1\u001b[0m\u001b[0;34m,\u001b[0m \u001b[0minplace\u001b[0m\u001b[0;34m=\u001b[0m\u001b[0;32mTrue\u001b[0m\u001b[0;34m)\u001b[0m\u001b[0;34m\u001b[0m\n",
       "\u001b[0;34m\u001b[0m\u001b[0;34m\u001b[0m\n",
       "\u001b[0;34m\u001b[0m    \u001b[0;32mif\u001b[0m \u001b[0mdrop_columns\u001b[0m\u001b[0;34m:\u001b[0m\u001b[0;34m\u001b[0m\n",
       "\u001b[0;34m\u001b[0m        \u001b[0mdrop_list\u001b[0m \u001b[0;34m=\u001b[0m \u001b[0mdrop_columns\u001b[0m\u001b[0;34m.\u001b[0m\u001b[0mreplace\u001b[0m\u001b[0;34m(\u001b[0m\u001b[0;34m\" \"\u001b[0m\u001b[0;34m,\u001b[0m \u001b[0;34m\"\"\u001b[0m\u001b[0;34m)\u001b[0m\u001b[0;34m.\u001b[0m\u001b[0msplit\u001b[0m\u001b[0;34m(\u001b[0m\u001b[0;34m\",\"\u001b[0m\u001b[0;34m)\u001b[0m\u001b[0;34m\u001b[0m\n",
       "\u001b[0;34m\u001b[0m        \u001b[0mlog\u001b[0m\u001b[0;34m.\u001b[0m\u001b[0minfo\u001b[0m\u001b[0;34m(\u001b[0m\u001b[0;34mf\"Dropping columns from features {drop_list}\"\u001b[0m\u001b[0;34m)\u001b[0m\u001b[0;34m\u001b[0m\n",
       "\u001b[0;34m\u001b[0m        \u001b[0mx\u001b[0m\u001b[0;34m.\u001b[0m\u001b[0mdrop\u001b[0m\u001b[0;34m(\u001b[0m\u001b[0mdrop_list\u001b[0m\u001b[0;34m,\u001b[0m \u001b[0maxis\u001b[0m\u001b[0;34m=\u001b[0m\u001b[0;36m1\u001b[0m\u001b[0;34m,\u001b[0m \u001b[0minplace\u001b[0m\u001b[0;34m=\u001b[0m\u001b[0;32mTrue\u001b[0m\u001b[0;34m)\u001b[0m\u001b[0;34m\u001b[0m\n",
       "\u001b[0;34m\u001b[0m\u001b[0;34m\u001b[0m\n",
       "\u001b[0;34m\u001b[0m    \u001b[0mlog\u001b[0m\u001b[0;34m.\u001b[0m\u001b[0minfo\u001b[0m\u001b[0;34m(\u001b[0m\u001b[0;34mf'shape of x: {x.shape}'\u001b[0m\u001b[0;34m)\u001b[0m\u001b[0;34m\u001b[0m\n",
       "\u001b[0;34m\u001b[0m    \u001b[0mlog\u001b[0m\u001b[0;34m.\u001b[0m\u001b[0minfo\u001b[0m\u001b[0;34m(\u001b[0m\u001b[0;34mf'shape of y: {y.shape}'\u001b[0m\u001b[0;34m)\u001b[0m\u001b[0;34m\u001b[0m\n",
       "\u001b[0;34m\u001b[0m\u001b[0;34m\u001b[0m\n",
       "\u001b[0;34m\u001b[0m    \u001b[0;32mreturn\u001b[0m \u001b[0mtrain_test_split\u001b[0m\u001b[0;34m(\u001b[0m\u001b[0mx\u001b[0m\u001b[0;34m,\u001b[0m \u001b[0my\u001b[0m\u001b[0;34m,\u001b[0m \u001b[0mrandom_state\u001b[0m\u001b[0;34m=\u001b[0m\u001b[0mRSTATE\u001b[0m\u001b[0;34m,\u001b[0m \u001b[0mstratify\u001b[0m\u001b[0;34m=\u001b[0m\u001b[0my\u001b[0m\u001b[0;34m)\u001b[0m\u001b[0;34m\u001b[0m\u001b[0;34m\u001b[0m\u001b[0m\n",
       "\u001b[0;31mFile:\u001b[0m      ~/Dropbox/0_springboard/capstone/util/model_util.py\n",
       "\u001b[0;31mType:\u001b[0m      function\n"
      ]
     },
     "metadata": {},
     "output_type": "display_data"
    }
   ],
   "source": [
    "??mu.create_training_data"
   ]
  },
  {
   "cell_type": "code",
   "execution_count": 4,
   "metadata": {},
   "outputs": [],
   "source": [
    "X_train, X_test, y_train, y_test = mu.create_training_data(data, \"star_rating\", \"helpful_votes, total_votes, helpful_product\")"
   ]
  },
  {
   "cell_type": "markdown",
   "metadata": {},
   "source": [
    "# Use LogisticRegressionCV to find best C parameters for Logistic Regression\n",
    "\n",
    "But first, lets define our scoring function. Since we want to find the the model that can help us improve minority class recall"
   ]
  },
  {
   "cell_type": "code",
   "execution_count": 5,
   "metadata": {},
   "outputs": [
    {
     "name": "stderr",
     "output_type": "stream",
     "text": [
      "INFO:util.time_util:Start timer for: train_time_min\n",
      "[Parallel(n_jobs=4)]: Using backend LokyBackend with 4 concurrent workers.\n",
      "[Parallel(n_jobs=4)]: Done   5 out of   5 | elapsed: 17.6min finished\n",
      "/Users/vinceluk/anaconda3/envs/capstone/lib/python3.7/site-packages/sklearn/linear_model/logistic.py:947: ConvergenceWarning: lbfgs failed to converge. Increase the number of iterations.\n",
      "  \"of iterations.\", ConvergenceWarning)\n",
      "INFO:util.time_util:End timer for: train_time_min\n",
      "INFO:util.time_util:Total time for train_time_min: 21.76\n"
     ]
    },
    {
     "data": {
      "text/plain": [
       "21.76"
      ]
     },
     "execution_count": 5,
     "metadata": {},
     "output_type": "execute_result"
    }
   ],
   "source": [
    "from sklearn.linear_model import LogisticRegressionCV\n",
    "import util.time_util as tu\n",
    "from sklearn.metrics import make_scorer, classification_report\n",
    "import numpy as np\n",
    "\n",
    "\n",
    "def custom_scoring_function_lr_cv(y, y_predict):\n",
    "    \"\"\"\n",
    "    Calculate the harmonic mean of recall for minority classes and precision for majority class\n",
    "    \"\"\"\n",
    "#     print(f'y {y.shape}')\n",
    "#     print(f'y_predict {y_predict.shape}')\n",
    "#     print(f'y classes {np.unique(y)}')\n",
    "    cr = classification_report(y, y_predict, output_dict=True)\n",
    "#     print(f'cr {cr}')\n",
    "    \n",
    "    recall1 = cr[\"0\"][\"recall\"]\n",
    "    recall2 = cr[\"1\"][\"recall\"]\n",
    "    recall3 = cr[\"2\"][\"recall\"]\n",
    "    recall4 = cr[\"3\"][\"recall\"]\n",
    "    precision5 = cr[\"4\"][\"precision\"]\n",
    "    \n",
    "    if recall1 > 0 and recall2 > 0 and recall3 > 0 and recall4 > 0 and precision5 > 0:\n",
    "        score = 5 / (1/recall1 +\n",
    "                     1/recall2 +\n",
    "                     1/recall3 +\n",
    "                     1/recall4 +\n",
    "                     1/precision5)\n",
    "    else:\n",
    "        score = 0\n",
    "        \n",
    "    print(f'Scorer score: {score}')\n",
    "    return score\n",
    "\n",
    "\n",
    "my_scorer = make_scorer(custom_scoring_function_lr_cv, greater_is_better=True)\n",
    "\n",
    "\n",
    "logging.basicConfig(level=logging.DEBUG)\n",
    "\n",
    "lr = LogisticRegressionCV(cv=CV,\n",
    "                         verbose=1,\n",
    "                         scoring=my_scorer,\n",
    "                         class_weight='balanced',\n",
    "                         multi_class='multinomial',\n",
    "                          solver=\"lbfgs\",\n",
    "                         n_jobs=N_JOBS,\n",
    "                         random_state=RSTATE)\n",
    "\n",
    "timer = tu.Timer()\n",
    "\n",
    "timer.start_timer(tu.Keys.TRAIN_TIME_MIN)\n",
    "lr.fit(X_train, y_train)\n",
    "timer.end_timer(tu.Keys.TRAIN_TIME_MIN)"
   ]
  },
  {
   "cell_type": "markdown",
   "metadata": {},
   "source": [
    "# Create a report in the same format as our other runs"
   ]
  },
  {
   "cell_type": "code",
   "execution_count": 6,
   "metadata": {},
   "outputs": [],
   "source": [
    "def generate_report_df(fit_timer, report_dict):\n",
    "    \"\"\"\n",
    "    Put fit timer and the report_dict from predict into a DataFrame\n",
    "    :param fit_timer: timer object from fitting our CV\n",
    "    :param report_dict: report_dict from Model.run()\n",
    "    :return: dataframe with report info\n",
    "    \"\"\"\n",
    "    report_dict.update(timer.timer_dict)\n",
    "    report_dict[\"total_time_min\"] = report_dict[\"train_time_min\"] + report_dict[\"predict_time_min\"]\n",
    "    df = pd.DataFrame(columns=report_dict.keys())\n",
    "    df = df.append(report_dict, ignore_index=True)\n",
    "    return df"
   ]
  },
  {
   "cell_type": "code",
   "execution_count": 7,
   "metadata": {},
   "outputs": [
    {
     "name": "stderr",
     "output_type": "stream",
     "text": [
      "INFO:util.model_util:####################\n",
      "INFO:util.model_util:Running model: name: LRB_LRCV\n",
      "\twith file: ../dataset/feature_files/review_body-tfidf-df_none-ngram11-49784-10000-nolda.csv\n",
      "\twith description: review_body-tfidf-df_none-ngram11-49784-10000-nolda-nosmote-LRB_LRCV-star_rating\n",
      "\twith parameters: {'cv': 5, 'random_state': 1, 'solver': 'lbfgs', 'multi_class': 'multimonial', 'class_weight': 'balanced', 'n_jobs': 4, 'verbose': 1, 'scoring': 'custom_scoring_function_lr_cv'}\n",
      "\tstatus: new\n",
      "INFO:util.model_util:####################\n",
      "DEBUG:util.time_util:Recording key model_file value ../models/review_body-tfidf-df_none-ngram11-49784-10000-nolda-nosmote-LRB_LRCV-star_rating.jbl\n",
      "INFO:util.time_util:Start timer for: model_save_time_min\n",
      "INFO:util.time_util:End timer for: model_save_time_min\n",
      "INFO:util.time_util:Total time for model_save_time_min: 0.0\n",
      "INFO:util.time_util:Start timer for: predict_time_min\n",
      "INFO:util.time_util:End timer for: predict_time_min\n",
      "INFO:util.time_util:Total time for predict_time_min: 0.01\n",
      "DEBUG:util.time_util:Recording key status value success\n",
      "DEBUG:util.time_util:Recording key status_date value 2019-11-04 05:28:19\n",
      "INFO:util.model_util:Finished running model: name: LRB_LRCV\n",
      "\twith file: ../dataset/feature_files/review_body-tfidf-df_none-ngram11-49784-10000-nolda.csv\n",
      "\twith description: review_body-tfidf-df_none-ngram11-49784-10000-nolda-nosmote-LRB_LRCV-star_rating\n",
      "\twith parameters: {'cv': 5, 'random_state': 1, 'solver': 'lbfgs', 'multi_class': 'multimonial', 'class_weight': 'balanced', 'n_jobs': 4, 'verbose': 1, 'scoring': 'custom_scoring_function_lr_cv'}\n",
      "\tstatus: new\n",
      "DEBUG:util.model_util:y_predict [4 4 5 ... 1 5 5]\n",
      "DEBUG:util.model_util:y_test 40557    3\n",
      "42321    5\n",
      "9306     5\n",
      "11380    5\n",
      "48374    5\n",
      "        ..\n",
      "4604     5\n",
      "32504    5\n",
      "47546    2\n",
      "49718    5\n",
      "35142    5\n",
      "Name: star_rating, Length: 12446, dtype: int64\n",
      "DEBUG:util.model_util:getting classificaiton report for name: LRB_LRCV\n",
      "\twith file: ../dataset/feature_files/review_body-tfidf-df_none-ngram11-49784-10000-nolda.csv\n",
      "\twith description: review_body-tfidf-df_none-ngram11-49784-10000-nolda-nosmote-LRB_LRCV-star_rating\n",
      "\twith parameters: {'cv': 5, 'random_state': 1, 'solver': 'lbfgs', 'multi_class': 'multimonial', 'class_weight': 'balanced', 'n_jobs': 4, 'verbose': 1, 'scoring': 'custom_scoring_function_lr_cv'}\n",
      "\tstatus: new\n",
      "DEBUG:util.model_util:getting confusion matrix for name: LRB_LRCV\n",
      "\twith file: ../dataset/feature_files/review_body-tfidf-df_none-ngram11-49784-10000-nolda.csv\n",
      "\twith description: review_body-tfidf-df_none-ngram11-49784-10000-nolda-nosmote-LRB_LRCV-star_rating\n",
      "\twith parameters: {'cv': 5, 'random_state': 1, 'solver': 'lbfgs', 'multi_class': 'multimonial', 'class_weight': 'balanced', 'n_jobs': 4, 'verbose': 1, 'scoring': 'custom_scoring_function_lr_cv'}\n",
      "\tstatus: new\n",
      "DEBUG:util.time_util:Recording key confusion_matrix value [[1152, 357, 143, 36, 47], [242, 271, 201, 61, 31], [141, 269, 395, 264, 98], [88, 178, 395, 851, 591], [227, 221, 398, 1253, 4536]]\n",
      "DEBUG:util.time_util:merged report {'model_name': 'LRB_LRCV', 'description': 'review_body-tfidf-df_none-ngram11-49784-10000-nolda-nosmote-LRB_LRCV-star_rating', 'file': '../dataset/feature_files/review_body-tfidf-df_none-ngram11-49784-10000-nolda.csv', 'train_examples': 37338, 'train_features': 10000, 'test_examples': 12446, 'test_features': 10000, 'param': '{\"cv\": 5, \"random_state\": 1, \"solver\": \"lbfgs\", \"multi_class\": \"multimonial\", \"class_weight\": \"balanced\", \"n_jobs\": 4, \"verbose\": 1, \"scoring\": \"custom_scoring_function_lr_cv\"}', 'model_file': '../models/review_body-tfidf-df_none-ngram11-49784-10000-nolda-nosmote-LRB_LRCV-star_rating.jbl', 'status': 'success', 'status_date': '2019-11-04 05:28:19', '1_precision': 0.6227027027027027, '1_recall': 0.6639769452449568, '1_f1-score': 0.6426778242677824, '1_support': 1735, '2_precision': 0.20910493827160495, '2_recall': 0.3362282878411911, '2_f1-score': 0.25784966698382494, '2_support': 806, '3_precision': 0.25783289817232374, '3_recall': 0.3384747215081405, '3_f1-score': 0.2927010003705076, '3_support': 1167, '4_precision': 0.3452332657200811, '4_recall': 0.4046600095102235, '4_f1-score': 0.37259194395796846, '4_support': 2103, '5_precision': 0.8553648877993588, '5_recall': 0.6836473247927657, '5_f1-score': 0.7599262858100185, '5_support': 6635, 'accuracy': 0.5789008516792544, 'macro avg_precision': 0.45804773853321423, 'macro avg_recall': 0.48539745777945553, 'macro avg_f1-score': 0.4651493442780204, 'macro avg_support': 12446, 'weighted avg_precision': 0.6388550819509305, 'weighted avg_recall': 0.5789008516792544, 'weighted avg_f1-score': 0.6018099540911963, 'weighted avg_support': 12446, 'confusion_matrix': '[[1152, 357, 143, 36, 47], [242, 271, 201, 61, 31], [141, 269, 395, 264, 98], [88, 178, 395, 851, 591], [227, 221, 398, 1253, 4536]]', 'model_save_time_min': 0.0, 'total_time_min': 0.01, 'predict_time_min': 0.01}\n"
     ]
    }
   ],
   "source": [
    "import importlib\n",
    "importlib.reload(mu)\n",
    "model = mu.Model(lr,\n",
    "              X_train,\n",
    "              y_train,\n",
    "              X_test,\n",
    "              y_test,\n",
    "              name=\"LRB_LRCV\",\n",
    "              class_column=\"star_rating\",\n",
    "              description=DESCRIPTION,\n",
    "              file=DATA_FILE,\n",
    "              parameters={\n",
    "                        \"cv\": CV,\n",
    "                        \"random_state\": RSTATE, \n",
    "                        \"solver\": 'lbfgs',\n",
    "                        \"multi_class\": 'multimonial',\n",
    "                        \"class_weight\": 'balanced',\n",
    "                        \"n_jobs\": N_JOBS,\n",
    "                        \"verbose\": 1,\n",
    "                          \"scoring\": custom_scoring_function_lr_cv.__name__\n",
    "                    }\n",
    "              )\n",
    "# report_dict has stats and info about our model\n",
    "report_dict, y_predict = model.run(fit=False)\n"
   ]
  },
  {
   "cell_type": "markdown",
   "metadata": {},
   "source": [
    "Since our timer object for training will overwrite the total_time_min. We will re-calculate it again"
   ]
  },
  {
   "cell_type": "code",
   "execution_count": 8,
   "metadata": {},
   "outputs": [],
   "source": [
    "report_df = generate_report_df(timer, report_dict)\n",
    "report_df.to_csv(REPORT_FILE_CV, index=False)"
   ]
  },
  {
   "cell_type": "markdown",
   "metadata": {},
   "source": [
    "# Grid Search"
   ]
  },
  {
   "cell_type": "code",
   "execution_count": null,
   "metadata": {},
   "outputs": [],
   "source": []
  },
  {
   "cell_type": "code",
   "execution_count": 9,
   "metadata": {},
   "outputs": [
    {
     "name": "stderr",
     "output_type": "stream",
     "text": [
      "INFO:util.time_util:Start timer for: train_time_min\n",
      "[Parallel(n_jobs=1)]: Using backend SequentialBackend with 1 concurrent workers.\n"
     ]
    },
    {
     "name": "stdout",
     "output_type": "stream",
     "text": [
      "Fitting 5 folds for each of 16 candidates, totalling 80 fits\n"
     ]
    },
    {
     "name": "stderr",
     "output_type": "stream",
     "text": [
      "[Parallel(n_jobs=4)]: Using backend LokyBackend with 4 concurrent workers.\n",
      "[Parallel(n_jobs=4)]: Done   1 out of   1 | elapsed:   26.4s finished\n"
     ]
    },
    {
     "name": "stdout",
     "output_type": "stream",
     "text": [
      "Scorer score: 0.351750396579147\n"
     ]
    },
    {
     "name": "stderr",
     "output_type": "stream",
     "text": [
      "[Parallel(n_jobs=4)]: Using backend LokyBackend with 4 concurrent workers.\n",
      "[Parallel(n_jobs=4)]: Done   1 out of   1 | elapsed:   26.6s finished\n"
     ]
    },
    {
     "name": "stdout",
     "output_type": "stream",
     "text": [
      "Scorer score: 0.3111906907447486\n"
     ]
    },
    {
     "name": "stderr",
     "output_type": "stream",
     "text": [
      "[Parallel(n_jobs=4)]: Using backend LokyBackend with 4 concurrent workers.\n",
      "[Parallel(n_jobs=4)]: Done   1 out of   1 | elapsed:   26.1s finished\n"
     ]
    },
    {
     "name": "stdout",
     "output_type": "stream",
     "text": [
      "Scorer score: 0.324538860254477\n"
     ]
    },
    {
     "name": "stderr",
     "output_type": "stream",
     "text": [
      "[Parallel(n_jobs=4)]: Using backend LokyBackend with 4 concurrent workers.\n",
      "[Parallel(n_jobs=4)]: Done   1 out of   1 | elapsed:   26.3s finished\n"
     ]
    },
    {
     "name": "stdout",
     "output_type": "stream",
     "text": [
      "Scorer score: 0.32585622747637627\n"
     ]
    },
    {
     "name": "stderr",
     "output_type": "stream",
     "text": [
      "[Parallel(n_jobs=4)]: Using backend LokyBackend with 4 concurrent workers.\n",
      "[Parallel(n_jobs=4)]: Done   1 out of   1 | elapsed:   26.2s finished\n"
     ]
    },
    {
     "name": "stdout",
     "output_type": "stream",
     "text": [
      "Scorer score: 0.34644467237257637\n"
     ]
    },
    {
     "name": "stderr",
     "output_type": "stream",
     "text": [
      "[Parallel(n_jobs=4)]: Using backend LokyBackend with 4 concurrent workers.\n",
      "[Parallel(n_jobs=4)]: Done   1 out of   1 | elapsed:   26.5s finished\n"
     ]
    },
    {
     "name": "stdout",
     "output_type": "stream",
     "text": [
      "Scorer score: 0.351750396579147\n"
     ]
    },
    {
     "name": "stderr",
     "output_type": "stream",
     "text": [
      "[Parallel(n_jobs=4)]: Using backend LokyBackend with 4 concurrent workers.\n",
      "[Parallel(n_jobs=4)]: Done   1 out of   1 | elapsed:   26.2s finished\n"
     ]
    },
    {
     "name": "stdout",
     "output_type": "stream",
     "text": [
      "Scorer score: 0.3111906907447486\n"
     ]
    },
    {
     "name": "stderr",
     "output_type": "stream",
     "text": [
      "[Parallel(n_jobs=4)]: Using backend LokyBackend with 4 concurrent workers.\n",
      "[Parallel(n_jobs=4)]: Done   1 out of   1 | elapsed:   26.1s finished\n"
     ]
    },
    {
     "name": "stdout",
     "output_type": "stream",
     "text": [
      "Scorer score: 0.324538860254477\n"
     ]
    },
    {
     "name": "stderr",
     "output_type": "stream",
     "text": [
      "[Parallel(n_jobs=4)]: Using backend LokyBackend with 4 concurrent workers.\n",
      "[Parallel(n_jobs=4)]: Done   1 out of   1 | elapsed:   26.4s finished\n"
     ]
    },
    {
     "name": "stdout",
     "output_type": "stream",
     "text": [
      "Scorer score: 0.32585622747637627\n"
     ]
    },
    {
     "name": "stderr",
     "output_type": "stream",
     "text": [
      "[Parallel(n_jobs=4)]: Using backend LokyBackend with 4 concurrent workers.\n",
      "[Parallel(n_jobs=4)]: Done   1 out of   1 | elapsed:   26.4s finished\n"
     ]
    },
    {
     "name": "stdout",
     "output_type": "stream",
     "text": [
      "Scorer score: 0.34644467237257637\n"
     ]
    },
    {
     "name": "stderr",
     "output_type": "stream",
     "text": [
      "[Parallel(n_jobs=4)]: Using backend LokyBackend with 4 concurrent workers.\n",
      "[Parallel(n_jobs=4)]: Done   1 out of   1 | elapsed:   26.2s finished\n"
     ]
    },
    {
     "name": "stdout",
     "output_type": "stream",
     "text": [
      "Scorer score: 0.351750396579147\n"
     ]
    },
    {
     "name": "stderr",
     "output_type": "stream",
     "text": [
      "[Parallel(n_jobs=4)]: Using backend LokyBackend with 4 concurrent workers.\n",
      "[Parallel(n_jobs=4)]: Done   1 out of   1 | elapsed:   26.3s finished\n"
     ]
    },
    {
     "name": "stdout",
     "output_type": "stream",
     "text": [
      "Scorer score: 0.3111906907447486\n"
     ]
    },
    {
     "name": "stderr",
     "output_type": "stream",
     "text": [
      "[Parallel(n_jobs=4)]: Using backend LokyBackend with 4 concurrent workers.\n",
      "[Parallel(n_jobs=4)]: Done   1 out of   1 | elapsed:   26.4s finished\n"
     ]
    },
    {
     "name": "stdout",
     "output_type": "stream",
     "text": [
      "Scorer score: 0.324538860254477\n"
     ]
    },
    {
     "name": "stderr",
     "output_type": "stream",
     "text": [
      "[Parallel(n_jobs=4)]: Using backend LokyBackend with 4 concurrent workers.\n",
      "[Parallel(n_jobs=4)]: Done   1 out of   1 | elapsed:   26.6s finished\n"
     ]
    },
    {
     "name": "stdout",
     "output_type": "stream",
     "text": [
      "Scorer score: 0.32585622747637627\n"
     ]
    },
    {
     "name": "stderr",
     "output_type": "stream",
     "text": [
      "[Parallel(n_jobs=4)]: Using backend LokyBackend with 4 concurrent workers.\n",
      "[Parallel(n_jobs=4)]: Done   1 out of   1 | elapsed:   26.3s finished\n"
     ]
    },
    {
     "name": "stdout",
     "output_type": "stream",
     "text": [
      "Scorer score: 0.34644467237257637\n"
     ]
    },
    {
     "name": "stderr",
     "output_type": "stream",
     "text": [
      "[Parallel(n_jobs=4)]: Using backend LokyBackend with 4 concurrent workers.\n",
      "[Parallel(n_jobs=4)]: Done   1 out of   1 | elapsed:   26.4s finished\n"
     ]
    },
    {
     "name": "stdout",
     "output_type": "stream",
     "text": [
      "Scorer score: 0.351750396579147\n"
     ]
    },
    {
     "name": "stderr",
     "output_type": "stream",
     "text": [
      "[Parallel(n_jobs=4)]: Using backend LokyBackend with 4 concurrent workers.\n",
      "[Parallel(n_jobs=4)]: Done   1 out of   1 | elapsed:   26.6s finished\n"
     ]
    },
    {
     "name": "stdout",
     "output_type": "stream",
     "text": [
      "Scorer score: 0.3111906907447486\n"
     ]
    },
    {
     "name": "stderr",
     "output_type": "stream",
     "text": [
      "[Parallel(n_jobs=4)]: Using backend LokyBackend with 4 concurrent workers.\n",
      "[Parallel(n_jobs=4)]: Done   1 out of   1 | elapsed:   26.6s finished\n"
     ]
    },
    {
     "name": "stdout",
     "output_type": "stream",
     "text": [
      "Scorer score: 0.324538860254477\n"
     ]
    },
    {
     "name": "stderr",
     "output_type": "stream",
     "text": [
      "[Parallel(n_jobs=4)]: Using backend LokyBackend with 4 concurrent workers.\n",
      "[Parallel(n_jobs=4)]: Done   1 out of   1 | elapsed:   26.4s finished\n"
     ]
    },
    {
     "name": "stdout",
     "output_type": "stream",
     "text": [
      "Scorer score: 0.32585622747637627\n"
     ]
    },
    {
     "name": "stderr",
     "output_type": "stream",
     "text": [
      "[Parallel(n_jobs=4)]: Using backend LokyBackend with 4 concurrent workers.\n",
      "[Parallel(n_jobs=4)]: Done   1 out of   1 | elapsed:   26.6s finished\n"
     ]
    },
    {
     "name": "stdout",
     "output_type": "stream",
     "text": [
      "Scorer score: 0.34644467237257637\n"
     ]
    },
    {
     "name": "stderr",
     "output_type": "stream",
     "text": [
      "[Parallel(n_jobs=4)]: Using backend LokyBackend with 4 concurrent workers.\n",
      "[Parallel(n_jobs=4)]: Done   1 out of   1 | elapsed:  1.0min finished\n"
     ]
    },
    {
     "name": "stdout",
     "output_type": "stream",
     "text": [
      "Scorer score: 0.39657410001593885\n"
     ]
    },
    {
     "name": "stderr",
     "output_type": "stream",
     "text": [
      "[Parallel(n_jobs=4)]: Using backend LokyBackend with 4 concurrent workers.\n",
      "[Parallel(n_jobs=4)]: Done   1 out of   1 | elapsed:  1.1min finished\n"
     ]
    },
    {
     "name": "stdout",
     "output_type": "stream",
     "text": [
      "Scorer score: 0.36585590789844225\n"
     ]
    },
    {
     "name": "stderr",
     "output_type": "stream",
     "text": [
      "[Parallel(n_jobs=4)]: Using backend LokyBackend with 4 concurrent workers.\n",
      "[Parallel(n_jobs=4)]: Done   1 out of   1 | elapsed:  1.2min finished\n"
     ]
    },
    {
     "name": "stdout",
     "output_type": "stream",
     "text": [
      "Scorer score: 0.3798240612054128\n"
     ]
    },
    {
     "name": "stderr",
     "output_type": "stream",
     "text": [
      "[Parallel(n_jobs=4)]: Using backend LokyBackend with 4 concurrent workers.\n",
      "[Parallel(n_jobs=4)]: Done   1 out of   1 | elapsed:  1.1min finished\n"
     ]
    },
    {
     "name": "stdout",
     "output_type": "stream",
     "text": [
      "Scorer score: 0.37500039729032\n"
     ]
    },
    {
     "name": "stderr",
     "output_type": "stream",
     "text": [
      "[Parallel(n_jobs=4)]: Using backend LokyBackend with 4 concurrent workers.\n",
      "[Parallel(n_jobs=4)]: Done   1 out of   1 | elapsed:  1.2min finished\n"
     ]
    },
    {
     "name": "stdout",
     "output_type": "stream",
     "text": [
      "Scorer score: 0.39152409524094667\n"
     ]
    },
    {
     "name": "stderr",
     "output_type": "stream",
     "text": [
      "[Parallel(n_jobs=4)]: Using backend LokyBackend with 4 concurrent workers.\n",
      "[Parallel(n_jobs=4)]: Done   1 out of   1 | elapsed:  1.0min finished\n"
     ]
    },
    {
     "name": "stdout",
     "output_type": "stream",
     "text": [
      "Scorer score: 0.39657410001593885\n"
     ]
    },
    {
     "name": "stderr",
     "output_type": "stream",
     "text": [
      "[Parallel(n_jobs=4)]: Using backend LokyBackend with 4 concurrent workers.\n",
      "[Parallel(n_jobs=4)]: Done   1 out of   1 | elapsed:  1.1min finished\n"
     ]
    },
    {
     "name": "stdout",
     "output_type": "stream",
     "text": [
      "Scorer score: 0.36585590789844225\n"
     ]
    },
    {
     "name": "stderr",
     "output_type": "stream",
     "text": [
      "[Parallel(n_jobs=4)]: Using backend LokyBackend with 4 concurrent workers.\n",
      "[Parallel(n_jobs=4)]: Done   1 out of   1 | elapsed:  1.2min finished\n"
     ]
    },
    {
     "name": "stdout",
     "output_type": "stream",
     "text": [
      "Scorer score: 0.3798240612054128\n"
     ]
    },
    {
     "name": "stderr",
     "output_type": "stream",
     "text": [
      "[Parallel(n_jobs=4)]: Using backend LokyBackend with 4 concurrent workers.\n",
      "[Parallel(n_jobs=4)]: Done   1 out of   1 | elapsed:  1.1min finished\n"
     ]
    },
    {
     "name": "stdout",
     "output_type": "stream",
     "text": [
      "Scorer score: 0.37500039729032\n"
     ]
    },
    {
     "name": "stderr",
     "output_type": "stream",
     "text": [
      "[Parallel(n_jobs=4)]: Using backend LokyBackend with 4 concurrent workers.\n",
      "[Parallel(n_jobs=4)]: Done   1 out of   1 | elapsed:  1.2min finished\n"
     ]
    },
    {
     "name": "stdout",
     "output_type": "stream",
     "text": [
      "Scorer score: 0.39152409524094667\n"
     ]
    },
    {
     "name": "stderr",
     "output_type": "stream",
     "text": [
      "[Parallel(n_jobs=4)]: Using backend LokyBackend with 4 concurrent workers.\n",
      "[Parallel(n_jobs=4)]: Done   1 out of   1 | elapsed:  1.0min finished\n"
     ]
    },
    {
     "name": "stdout",
     "output_type": "stream",
     "text": [
      "Scorer score: 0.39657410001593885\n"
     ]
    },
    {
     "name": "stderr",
     "output_type": "stream",
     "text": [
      "[Parallel(n_jobs=4)]: Using backend LokyBackend with 4 concurrent workers.\n",
      "[Parallel(n_jobs=4)]: Done   1 out of   1 | elapsed:  1.1min finished\n"
     ]
    },
    {
     "name": "stdout",
     "output_type": "stream",
     "text": [
      "Scorer score: 0.36585590789844225\n"
     ]
    },
    {
     "name": "stderr",
     "output_type": "stream",
     "text": [
      "[Parallel(n_jobs=4)]: Using backend LokyBackend with 4 concurrent workers.\n",
      "[Parallel(n_jobs=4)]: Done   1 out of   1 | elapsed:  1.2min finished\n"
     ]
    },
    {
     "name": "stdout",
     "output_type": "stream",
     "text": [
      "Scorer score: 0.3798240612054128\n"
     ]
    },
    {
     "name": "stderr",
     "output_type": "stream",
     "text": [
      "[Parallel(n_jobs=4)]: Using backend LokyBackend with 4 concurrent workers.\n",
      "[Parallel(n_jobs=4)]: Done   1 out of   1 | elapsed:  1.1min finished\n"
     ]
    },
    {
     "name": "stdout",
     "output_type": "stream",
     "text": [
      "Scorer score: 0.37500039729032\n"
     ]
    },
    {
     "name": "stderr",
     "output_type": "stream",
     "text": [
      "[Parallel(n_jobs=4)]: Using backend LokyBackend with 4 concurrent workers.\n",
      "[Parallel(n_jobs=4)]: Done   1 out of   1 | elapsed:  1.1min finished\n"
     ]
    },
    {
     "name": "stdout",
     "output_type": "stream",
     "text": [
      "Scorer score: 0.39152409524094667\n"
     ]
    },
    {
     "name": "stderr",
     "output_type": "stream",
     "text": [
      "[Parallel(n_jobs=4)]: Using backend LokyBackend with 4 concurrent workers.\n",
      "[Parallel(n_jobs=4)]: Done   1 out of   1 | elapsed:  1.0min finished\n"
     ]
    },
    {
     "name": "stdout",
     "output_type": "stream",
     "text": [
      "Scorer score: 0.39657410001593885\n"
     ]
    },
    {
     "name": "stderr",
     "output_type": "stream",
     "text": [
      "[Parallel(n_jobs=4)]: Using backend LokyBackend with 4 concurrent workers.\n",
      "[Parallel(n_jobs=4)]: Done   1 out of   1 | elapsed:  1.1min finished\n"
     ]
    },
    {
     "name": "stdout",
     "output_type": "stream",
     "text": [
      "Scorer score: 0.36585590789844225\n"
     ]
    },
    {
     "name": "stderr",
     "output_type": "stream",
     "text": [
      "[Parallel(n_jobs=4)]: Using backend LokyBackend with 4 concurrent workers.\n",
      "[Parallel(n_jobs=4)]: Done   1 out of   1 | elapsed:  1.2min finished\n"
     ]
    },
    {
     "name": "stdout",
     "output_type": "stream",
     "text": [
      "Scorer score: 0.3798240612054128\n"
     ]
    },
    {
     "name": "stderr",
     "output_type": "stream",
     "text": [
      "[Parallel(n_jobs=4)]: Using backend LokyBackend with 4 concurrent workers.\n",
      "[Parallel(n_jobs=4)]: Done   1 out of   1 | elapsed:  1.1min finished\n"
     ]
    },
    {
     "name": "stdout",
     "output_type": "stream",
     "text": [
      "Scorer score: 0.37500039729032\n"
     ]
    },
    {
     "name": "stderr",
     "output_type": "stream",
     "text": [
      "[Parallel(n_jobs=4)]: Using backend LokyBackend with 4 concurrent workers.\n",
      "[Parallel(n_jobs=4)]: Done   1 out of   1 | elapsed:  1.2min finished\n"
     ]
    },
    {
     "name": "stdout",
     "output_type": "stream",
     "text": [
      "Scorer score: 0.39152409524094667\n"
     ]
    },
    {
     "name": "stderr",
     "output_type": "stream",
     "text": [
      "[Parallel(n_jobs=4)]: Using backend LokyBackend with 4 concurrent workers.\n",
      "[Parallel(n_jobs=4)]: Done   1 out of   1 | elapsed:  3.8min finished\n"
     ]
    },
    {
     "name": "stdout",
     "output_type": "stream",
     "text": [
      "Scorer score: 0.4667518784585096\n"
     ]
    },
    {
     "name": "stderr",
     "output_type": "stream",
     "text": [
      "[Parallel(n_jobs=4)]: Using backend LokyBackend with 4 concurrent workers.\n",
      "[Parallel(n_jobs=4)]: Done   1 out of   1 | elapsed:  3.6min finished\n"
     ]
    },
    {
     "name": "stdout",
     "output_type": "stream",
     "text": [
      "Scorer score: 0.44313375335476785\n"
     ]
    },
    {
     "name": "stderr",
     "output_type": "stream",
     "text": [
      "[Parallel(n_jobs=4)]: Using backend LokyBackend with 4 concurrent workers.\n",
      "[Parallel(n_jobs=4)]: Done   1 out of   1 | elapsed:  3.6min finished\n"
     ]
    },
    {
     "name": "stdout",
     "output_type": "stream",
     "text": [
      "Scorer score: 0.4470046699145212\n"
     ]
    },
    {
     "name": "stderr",
     "output_type": "stream",
     "text": [
      "[Parallel(n_jobs=4)]: Using backend LokyBackend with 4 concurrent workers.\n",
      "[Parallel(n_jobs=4)]: Done   1 out of   1 | elapsed:  3.7min finished\n"
     ]
    },
    {
     "name": "stdout",
     "output_type": "stream",
     "text": [
      "Scorer score: 0.4344078606852145\n"
     ]
    },
    {
     "name": "stderr",
     "output_type": "stream",
     "text": [
      "[Parallel(n_jobs=4)]: Using backend LokyBackend with 4 concurrent workers.\n",
      "[Parallel(n_jobs=4)]: Done   1 out of   1 | elapsed:  3.7min finished\n"
     ]
    },
    {
     "name": "stdout",
     "output_type": "stream",
     "text": [
      "Scorer score: 0.4575137685596308\n"
     ]
    },
    {
     "name": "stderr",
     "output_type": "stream",
     "text": [
      "[Parallel(n_jobs=4)]: Using backend LokyBackend with 4 concurrent workers.\n",
      "[Parallel(n_jobs=4)]: Done   1 out of   1 | elapsed:  3.7min finished\n"
     ]
    },
    {
     "name": "stdout",
     "output_type": "stream",
     "text": [
      "Scorer score: 0.4667518784585096\n"
     ]
    },
    {
     "name": "stderr",
     "output_type": "stream",
     "text": [
      "[Parallel(n_jobs=4)]: Using backend LokyBackend with 4 concurrent workers.\n",
      "[Parallel(n_jobs=4)]: Done   1 out of   1 | elapsed:  3.7min finished\n"
     ]
    },
    {
     "name": "stdout",
     "output_type": "stream",
     "text": [
      "Scorer score: 0.44313375335476785\n"
     ]
    },
    {
     "name": "stderr",
     "output_type": "stream",
     "text": [
      "[Parallel(n_jobs=4)]: Using backend LokyBackend with 4 concurrent workers.\n",
      "[Parallel(n_jobs=4)]: Done   1 out of   1 | elapsed:  3.6min finished\n"
     ]
    },
    {
     "name": "stdout",
     "output_type": "stream",
     "text": [
      "Scorer score: 0.4470046699145212\n"
     ]
    },
    {
     "name": "stderr",
     "output_type": "stream",
     "text": [
      "[Parallel(n_jobs=4)]: Using backend LokyBackend with 4 concurrent workers.\n",
      "[Parallel(n_jobs=4)]: Done   1 out of   1 | elapsed:  3.7min finished\n"
     ]
    },
    {
     "name": "stdout",
     "output_type": "stream",
     "text": [
      "Scorer score: 0.4344078606852145\n"
     ]
    },
    {
     "name": "stderr",
     "output_type": "stream",
     "text": [
      "[Parallel(n_jobs=4)]: Using backend LokyBackend with 4 concurrent workers.\n",
      "[Parallel(n_jobs=4)]: Done   1 out of   1 | elapsed:  3.7min finished\n"
     ]
    },
    {
     "name": "stdout",
     "output_type": "stream",
     "text": [
      "Scorer score: 0.4575137685596308\n"
     ]
    },
    {
     "name": "stderr",
     "output_type": "stream",
     "text": [
      "[Parallel(n_jobs=4)]: Using backend LokyBackend with 4 concurrent workers.\n",
      "[Parallel(n_jobs=4)]: Done   1 out of   1 | elapsed:  3.7min finished\n"
     ]
    },
    {
     "name": "stdout",
     "output_type": "stream",
     "text": [
      "Scorer score: 0.4667518784585096\n"
     ]
    },
    {
     "name": "stderr",
     "output_type": "stream",
     "text": [
      "[Parallel(n_jobs=4)]: Using backend LokyBackend with 4 concurrent workers.\n",
      "[Parallel(n_jobs=4)]: Done   1 out of   1 | elapsed:  3.6min finished\n"
     ]
    },
    {
     "name": "stdout",
     "output_type": "stream",
     "text": [
      "Scorer score: 0.44313375335476785\n"
     ]
    },
    {
     "name": "stderr",
     "output_type": "stream",
     "text": [
      "[Parallel(n_jobs=4)]: Using backend LokyBackend with 4 concurrent workers.\n",
      "[Parallel(n_jobs=4)]: Done   1 out of   1 | elapsed:  3.6min finished\n"
     ]
    },
    {
     "name": "stdout",
     "output_type": "stream",
     "text": [
      "Scorer score: 0.4470046699145212\n"
     ]
    },
    {
     "name": "stderr",
     "output_type": "stream",
     "text": [
      "[Parallel(n_jobs=4)]: Using backend LokyBackend with 4 concurrent workers.\n",
      "[Parallel(n_jobs=4)]: Done   1 out of   1 | elapsed:  3.7min finished\n"
     ]
    },
    {
     "name": "stdout",
     "output_type": "stream",
     "text": [
      "Scorer score: 0.4344078606852145\n"
     ]
    },
    {
     "name": "stderr",
     "output_type": "stream",
     "text": [
      "[Parallel(n_jobs=4)]: Using backend LokyBackend with 4 concurrent workers.\n",
      "[Parallel(n_jobs=4)]: Done   1 out of   1 | elapsed:  3.7min finished\n"
     ]
    },
    {
     "name": "stdout",
     "output_type": "stream",
     "text": [
      "Scorer score: 0.4575137685596308\n"
     ]
    },
    {
     "name": "stderr",
     "output_type": "stream",
     "text": [
      "[Parallel(n_jobs=4)]: Using backend LokyBackend with 4 concurrent workers.\n",
      "[Parallel(n_jobs=4)]: Done   1 out of   1 | elapsed:  3.7min finished\n"
     ]
    },
    {
     "name": "stdout",
     "output_type": "stream",
     "text": [
      "Scorer score: 0.4667518784585096\n"
     ]
    },
    {
     "name": "stderr",
     "output_type": "stream",
     "text": [
      "[Parallel(n_jobs=4)]: Using backend LokyBackend with 4 concurrent workers.\n",
      "[Parallel(n_jobs=4)]: Done   1 out of   1 | elapsed:  3.7min finished\n"
     ]
    },
    {
     "name": "stdout",
     "output_type": "stream",
     "text": [
      "Scorer score: 0.44313375335476785\n"
     ]
    },
    {
     "name": "stderr",
     "output_type": "stream",
     "text": [
      "[Parallel(n_jobs=4)]: Using backend LokyBackend with 4 concurrent workers.\n",
      "[Parallel(n_jobs=4)]: Done   1 out of   1 | elapsed:  3.6min finished\n"
     ]
    },
    {
     "name": "stdout",
     "output_type": "stream",
     "text": [
      "Scorer score: 0.4470046699145212\n"
     ]
    },
    {
     "name": "stderr",
     "output_type": "stream",
     "text": [
      "[Parallel(n_jobs=4)]: Using backend LokyBackend with 4 concurrent workers.\n",
      "[Parallel(n_jobs=4)]: Done   1 out of   1 | elapsed:  3.7min finished\n"
     ]
    },
    {
     "name": "stdout",
     "output_type": "stream",
     "text": [
      "Scorer score: 0.4344078606852145\n"
     ]
    },
    {
     "name": "stderr",
     "output_type": "stream",
     "text": [
      "[Parallel(n_jobs=4)]: Using backend LokyBackend with 4 concurrent workers.\n",
      "[Parallel(n_jobs=4)]: Done   1 out of   1 | elapsed:  3.7min finished\n"
     ]
    },
    {
     "name": "stdout",
     "output_type": "stream",
     "text": [
      "Scorer score: 0.4575137685596308\n"
     ]
    },
    {
     "name": "stderr",
     "output_type": "stream",
     "text": [
      "[Parallel(n_jobs=4)]: Using backend LokyBackend with 4 concurrent workers.\n",
      "[Parallel(n_jobs=4)]: Done   1 out of   1 | elapsed:  4.5min finished\n"
     ]
    },
    {
     "name": "stdout",
     "output_type": "stream",
     "text": [
      "Scorer score: 0.45107307923589984\n"
     ]
    },
    {
     "name": "stderr",
     "output_type": "stream",
     "text": [
      "[Parallel(n_jobs=4)]: Using backend LokyBackend with 4 concurrent workers.\n",
      "[Parallel(n_jobs=4)]: Done   1 out of   1 | elapsed:  4.5min finished\n"
     ]
    },
    {
     "name": "stdout",
     "output_type": "stream",
     "text": [
      "Scorer score: 0.42781403336970836\n"
     ]
    },
    {
     "name": "stderr",
     "output_type": "stream",
     "text": [
      "[Parallel(n_jobs=4)]: Using backend LokyBackend with 4 concurrent workers.\n",
      "[Parallel(n_jobs=4)]: Done   1 out of   1 | elapsed:  4.6min finished\n"
     ]
    },
    {
     "name": "stdout",
     "output_type": "stream",
     "text": [
      "Scorer score: 0.449230163432474\n"
     ]
    },
    {
     "name": "stderr",
     "output_type": "stream",
     "text": [
      "[Parallel(n_jobs=4)]: Using backend LokyBackend with 4 concurrent workers.\n",
      "[Parallel(n_jobs=4)]: Done   1 out of   1 | elapsed:  4.4min finished\n"
     ]
    },
    {
     "name": "stdout",
     "output_type": "stream",
     "text": [
      "Scorer score: 0.4400699388160834\n"
     ]
    },
    {
     "name": "stderr",
     "output_type": "stream",
     "text": [
      "[Parallel(n_jobs=4)]: Using backend LokyBackend with 4 concurrent workers.\n",
      "[Parallel(n_jobs=4)]: Done   1 out of   1 | elapsed:  4.5min finished\n"
     ]
    },
    {
     "name": "stdout",
     "output_type": "stream",
     "text": [
      "Scorer score: 0.43745933543837084\n"
     ]
    },
    {
     "name": "stderr",
     "output_type": "stream",
     "text": [
      "[Parallel(n_jobs=4)]: Using backend LokyBackend with 4 concurrent workers.\n",
      "[Parallel(n_jobs=4)]: Done   1 out of   1 | elapsed:  8.9min finished\n"
     ]
    },
    {
     "name": "stdout",
     "output_type": "stream",
     "text": [
      "Scorer score: 0.44664994567410093\n"
     ]
    },
    {
     "name": "stderr",
     "output_type": "stream",
     "text": [
      "[Parallel(n_jobs=4)]: Using backend LokyBackend with 4 concurrent workers.\n",
      "[Parallel(n_jobs=4)]: Done   1 out of   1 | elapsed:  9.0min finished\n"
     ]
    },
    {
     "name": "stdout",
     "output_type": "stream",
     "text": [
      "Scorer score: 0.4268054802828322\n"
     ]
    },
    {
     "name": "stderr",
     "output_type": "stream",
     "text": [
      "[Parallel(n_jobs=4)]: Using backend LokyBackend with 4 concurrent workers.\n",
      "[Parallel(n_jobs=4)]: Done   1 out of   1 | elapsed:  9.0min finished\n"
     ]
    },
    {
     "name": "stdout",
     "output_type": "stream",
     "text": [
      "Scorer score: 0.450469005407657\n"
     ]
    },
    {
     "name": "stderr",
     "output_type": "stream",
     "text": [
      "[Parallel(n_jobs=4)]: Using backend LokyBackend with 4 concurrent workers.\n",
      "[Parallel(n_jobs=4)]: Done   1 out of   1 | elapsed:  8.7min finished\n"
     ]
    },
    {
     "name": "stdout",
     "output_type": "stream",
     "text": [
      "Scorer score: 0.43850539430523583\n"
     ]
    },
    {
     "name": "stderr",
     "output_type": "stream",
     "text": [
      "[Parallel(n_jobs=4)]: Using backend LokyBackend with 4 concurrent workers.\n",
      "[Parallel(n_jobs=4)]: Done   1 out of   1 | elapsed:  8.8min finished\n"
     ]
    },
    {
     "name": "stdout",
     "output_type": "stream",
     "text": [
      "Scorer score: 0.4431657823659852\n"
     ]
    },
    {
     "name": "stderr",
     "output_type": "stream",
     "text": [
      "[Parallel(n_jobs=4)]: Using backend LokyBackend with 4 concurrent workers.\n",
      "[Parallel(n_jobs=4)]: Done   1 out of   1 | elapsed: 11.6min finished\n"
     ]
    },
    {
     "name": "stdout",
     "output_type": "stream",
     "text": [
      "Scorer score: 0.4465597895471654\n"
     ]
    },
    {
     "name": "stderr",
     "output_type": "stream",
     "text": [
      "[Parallel(n_jobs=4)]: Using backend LokyBackend with 4 concurrent workers.\n",
      "[Parallel(n_jobs=4)]: Done   1 out of   1 | elapsed: 11.0min finished\n"
     ]
    },
    {
     "name": "stdout",
     "output_type": "stream",
     "text": [
      "Scorer score: 0.42697320769732333\n"
     ]
    },
    {
     "name": "stderr",
     "output_type": "stream",
     "text": [
      "[Parallel(n_jobs=4)]: Using backend LokyBackend with 4 concurrent workers.\n",
      "[Parallel(n_jobs=4)]: Done   1 out of   1 | elapsed: 10.7min finished\n"
     ]
    },
    {
     "name": "stdout",
     "output_type": "stream",
     "text": [
      "Scorer score: 0.44987213616422395\n"
     ]
    },
    {
     "name": "stderr",
     "output_type": "stream",
     "text": [
      "[Parallel(n_jobs=4)]: Using backend LokyBackend with 4 concurrent workers.\n",
      "[Parallel(n_jobs=4)]: Done   1 out of   1 | elapsed: 10.8min finished\n"
     ]
    },
    {
     "name": "stdout",
     "output_type": "stream",
     "text": [
      "Scorer score: 0.4392453951910202\n"
     ]
    },
    {
     "name": "stderr",
     "output_type": "stream",
     "text": [
      "[Parallel(n_jobs=4)]: Using backend LokyBackend with 4 concurrent workers.\n",
      "[Parallel(n_jobs=4)]: Done   1 out of   1 | elapsed: 11.5min finished\n"
     ]
    },
    {
     "name": "stdout",
     "output_type": "stream",
     "text": [
      "Scorer score: 0.44321525924846705\n"
     ]
    },
    {
     "name": "stderr",
     "output_type": "stream",
     "text": [
      "[Parallel(n_jobs=4)]: Using backend LokyBackend with 4 concurrent workers.\n",
      "[Parallel(n_jobs=4)]: Done   1 out of   1 | elapsed: 11.6min finished\n"
     ]
    },
    {
     "name": "stdout",
     "output_type": "stream",
     "text": [
      "Scorer score: 0.4465597895471654\n"
     ]
    },
    {
     "name": "stderr",
     "output_type": "stream",
     "text": [
      "[Parallel(n_jobs=4)]: Using backend LokyBackend with 4 concurrent workers.\n",
      "[Parallel(n_jobs=4)]: Done   1 out of   1 | elapsed: 11.0min finished\n"
     ]
    },
    {
     "name": "stdout",
     "output_type": "stream",
     "text": [
      "Scorer score: 0.42697320769732333\n"
     ]
    },
    {
     "name": "stderr",
     "output_type": "stream",
     "text": [
      "[Parallel(n_jobs=4)]: Using backend LokyBackend with 4 concurrent workers.\n",
      "[Parallel(n_jobs=4)]: Done   1 out of   1 | elapsed: 10.8min finished\n"
     ]
    },
    {
     "name": "stdout",
     "output_type": "stream",
     "text": [
      "Scorer score: 0.44987213616422395\n"
     ]
    },
    {
     "name": "stderr",
     "output_type": "stream",
     "text": [
      "[Parallel(n_jobs=4)]: Using backend LokyBackend with 4 concurrent workers.\n",
      "[Parallel(n_jobs=4)]: Done   1 out of   1 | elapsed: 10.9min finished\n"
     ]
    },
    {
     "name": "stdout",
     "output_type": "stream",
     "text": [
      "Scorer score: 0.4392453951910202\n"
     ]
    },
    {
     "name": "stderr",
     "output_type": "stream",
     "text": [
      "[Parallel(n_jobs=4)]: Using backend LokyBackend with 4 concurrent workers.\n",
      "[Parallel(n_jobs=4)]: Done   1 out of   1 | elapsed: 11.5min finished\n"
     ]
    },
    {
     "name": "stdout",
     "output_type": "stream",
     "text": [
      "Scorer score: 0.44321525924846705\n"
     ]
    },
    {
     "name": "stderr",
     "output_type": "stream",
     "text": [
      "[Parallel(n_jobs=1)]: Done  80 out of  80 | elapsed: 288.6min finished\n",
      "[Parallel(n_jobs=4)]: Using backend LokyBackend with 4 concurrent workers.\n",
      "[Parallel(n_jobs=4)]: Done   1 out of   1 | elapsed:  5.1min finished\n",
      "INFO:util.time_util:End timer for: train_time_min\n",
      "INFO:util.time_util:Total time for train_time_min: 352.55\n",
      "INFO:util.model_util:####################\n",
      "INFO:util.model_util:Running model: name: LRB_GSCV\n",
      "\twith file: ../dataset/feature_files/review_body-tfidf-df_none-ngram11-49784-10000-nolda.csv\n",
      "\twith description: review_body-tfidf-df_none-ngram11-49784-10000-nolda-nosmote-LRB_GSCV-star_rating\n",
      "\twith parameters: {'random_state': 1, 'solver': 'lbfgs', 'multi_class': 'auto', 'class_weight': 'balanced', 'n_jobs': 4, 'verbose': 1, 'socring': 'custom_scoring_function_gs_cv'}\n",
      "\tstatus: new\n",
      "INFO:util.model_util:####################\n",
      "DEBUG:util.time_util:Recording key model_file value ../models/review_body-tfidf-df_none-ngram11-49784-10000-nolda-nosmote-LRB_GSCV-star_rating.jbl\n",
      "INFO:util.time_util:Start timer for: model_save_time_min\n",
      "INFO:util.time_util:End timer for: model_save_time_min\n",
      "INFO:util.time_util:Total time for model_save_time_min: 0.0\n",
      "INFO:util.time_util:Start timer for: predict_time_min\n",
      "INFO:util.time_util:End timer for: predict_time_min\n",
      "INFO:util.time_util:Total time for predict_time_min: 0.0\n",
      "DEBUG:util.time_util:Recording key status value success\n",
      "DEBUG:util.time_util:Recording key status_date value 2019-11-04 10:22:07\n",
      "INFO:util.model_util:Finished running model: name: LRB_GSCV\n",
      "\twith file: ../dataset/feature_files/review_body-tfidf-df_none-ngram11-49784-10000-nolda.csv\n",
      "\twith description: review_body-tfidf-df_none-ngram11-49784-10000-nolda-nosmote-LRB_GSCV-star_rating\n",
      "\twith parameters: {'random_state': 1, 'solver': 'lbfgs', 'multi_class': 'auto', 'class_weight': 'balanced', 'n_jobs': 4, 'verbose': 1, 'socring': 'custom_scoring_function_gs_cv'}\n",
      "\tstatus: new\n",
      "DEBUG:util.model_util:y_predict [4 4 5 ... 1 4 5]\n",
      "DEBUG:util.model_util:y_test 40557    3\n",
      "42321    5\n",
      "9306     5\n",
      "11380    5\n",
      "48374    5\n",
      "        ..\n",
      "4604     5\n",
      "32504    5\n",
      "47546    2\n",
      "49718    5\n",
      "35142    5\n",
      "Name: star_rating, Length: 12446, dtype: int64\n",
      "DEBUG:util.model_util:getting classificaiton report for name: LRB_GSCV\n",
      "\twith file: ../dataset/feature_files/review_body-tfidf-df_none-ngram11-49784-10000-nolda.csv\n",
      "\twith description: review_body-tfidf-df_none-ngram11-49784-10000-nolda-nosmote-LRB_GSCV-star_rating\n",
      "\twith parameters: {'random_state': 1, 'solver': 'lbfgs', 'multi_class': 'auto', 'class_weight': 'balanced', 'n_jobs': 4, 'verbose': 1, 'socring': 'custom_scoring_function_gs_cv'}\n",
      "\tstatus: new\n",
      "DEBUG:util.model_util:getting confusion matrix for name: LRB_GSCV\n",
      "\twith file: ../dataset/feature_files/review_body-tfidf-df_none-ngram11-49784-10000-nolda.csv\n",
      "\twith description: review_body-tfidf-df_none-ngram11-49784-10000-nolda-nosmote-LRB_GSCV-star_rating\n",
      "\twith parameters: {'random_state': 1, 'solver': 'lbfgs', 'multi_class': 'auto', 'class_weight': 'balanced', 'n_jobs': 4, 'verbose': 1, 'socring': 'custom_scoring_function_gs_cv'}\n",
      "\tstatus: new\n",
      "DEBUG:util.time_util:Recording key confusion_matrix value [[1157, 352, 130, 38, 58], [247, 282, 173, 65, 39], [152, 261, 396, 247, 111], [116, 185, 370, 850, 582], [268, 256, 400, 1181, 4530]]\n",
      "DEBUG:util.time_util:merged report {'model_name': 'LRB_GSCV', 'description': 'review_body-tfidf-df_none-ngram11-49784-10000-nolda-nosmote-LRB_GSCV-star_rating', 'file': '../dataset/feature_files/review_body-tfidf-df_none-ngram11-49784-10000-nolda.csv', 'train_examples': 37338, 'train_features': 10000, 'test_examples': 12446, 'test_features': 10000, 'param': '{\"random_state\": 1, \"solver\": \"lbfgs\", \"multi_class\": \"auto\", \"class_weight\": \"balanced\", \"n_jobs\": 4, \"verbose\": 1, \"socring\": \"custom_scoring_function_gs_cv\"}', 'model_file': '../models/review_body-tfidf-df_none-ngram11-49784-10000-nolda-nosmote-LRB_GSCV-star_rating.jbl', 'status': 'success', 'status_date': '2019-11-04 10:22:07', '1_precision': 0.5963917525773196, '1_recall': 0.6668587896253603, '1_f1-score': 0.6296598639455783, '1_support': 1735, '2_precision': 0.21107784431137724, '2_recall': 0.34987593052109184, '2_f1-score': 0.26330532212885155, '2_support': 806, '3_precision': 0.269571136827774, '3_recall': 0.3393316195372751, '3_f1-score': 0.3004552352048559, '3_support': 1167, '4_precision': 0.35699286014279713, '4_recall': 0.4041844983357109, '4_f1-score': 0.3791257805530776, '4_support': 2103, '5_precision': 0.8515037593984962, '5_recall': 0.6827430293896006, '5_f1-score': 0.7578419071518193, '5_support': 6635, 'accuracy': 0.5797043226739514, 'macro avg_precision': 0.4571074706515528, 'macro avg_recall': 0.4885987734818077, 'macro avg_f1-score': 0.46607762179683654, 'macro avg_support': 12446, 'weighted avg_precision': 0.636344317724888, 'weighted avg_recall': 0.5797043226739514, 'weighted avg_f1-score': 0.6010684383352839, 'weighted avg_support': 12446, 'confusion_matrix': '[[1157, 352, 130, 38, 58], [247, 282, 173, 65, 39], [152, 261, 396, 247, 111], [116, 185, 370, 850, 582], [268, 256, 400, 1181, 4530]]', 'model_save_time_min': 0.0, 'total_time_min': 0.0, 'predict_time_min': 0.0}\n"
     ]
    }
   ],
   "source": [
    "from sklearn.model_selection import RandomizedSearchCV\n",
    "\n",
    "\n",
    "def custom_scoring_function_gs_cv(y, y_predict):\n",
    "    \"\"\"\n",
    "    Calculate the harmonic mean of recall for minority classes and precision for majority class\n",
    "    \n",
    "    For some reason the labeling of classes is different from LogisticRegressionCV to GridSearch. So we have to duplicate the funcation\n",
    "    \"\"\"\n",
    "#     log.info(f'y {y.shape}')\n",
    "#     log.info(f'y_predict {y_predict.shape}')\n",
    "#     log.info(f'y classes {np.unique(y)}')\n",
    "    cr = classification_report(y, y_predict, output_dict=True)\n",
    "#     log.debug(f'cr {cr}')\n",
    "    \n",
    "    recall1 = cr[\"1\"][\"recall\"]\n",
    "    recall2 = cr[\"2\"][\"recall\"]\n",
    "    recall3 = cr[\"3\"][\"recall\"]\n",
    "    recall4 = cr[\"4\"][\"recall\"]\n",
    "    precision5 = cr[\"5\"][\"precision\"]\n",
    "    \n",
    "    if recall1 > 0 and recall2 > 0 and recall3 > 0 and recall4 > 0 and precision5 > 0:\n",
    "        score = 5 / (1/recall1 +\n",
    "                     1/recall2 +\n",
    "                     1/recall3 +\n",
    "                     1/recall4 +\n",
    "                     1/precision5)\n",
    "    else:\n",
    "        score = 0\n",
    "        \n",
    "    print(f'Scorer score: {score}')\n",
    "    return score\n",
    "\n",
    "\n",
    "\n",
    "\n",
    "\n",
    "\n",
    "lr_grid = LogisticRegression(random_state=RSTATE, \n",
    "                        solver='lbfgs',\n",
    "                        multi_class='auto',\n",
    "                        class_weight='balanced',\n",
    "                        n_jobs=N_JOBS,\n",
    "                        verbose=1)\n",
    "\n",
    "params = {\n",
    "    \"max_iter\": [100, 200, 400, 800],\n",
    "    \"C\": [0.001, 0.01, 0.1, 1.0]\n",
    "         }\n",
    "\n",
    "\n",
    "\n",
    "my_scorer_grid = make_scorer(custom_scoring_function_gs_cv, greater_is_better=True)\n",
    "\n",
    "# 5 fold cross validation\n",
    "cv = GridSearchCV(lr_grid, \n",
    "                  cv=CV, \n",
    "                  verbose=1, \n",
    "                  param_grid=params,\n",
    "                 scoring=my_scorer_grid)\n",
    "\n",
    "timer_grid = tu.Timer()\n",
    "timer_grid.start_timer(tu.Keys.TRAIN_TIME_MIN)\n",
    "cv.fit(X_train, y_train)\n",
    "timer_grid.end_timer(tu.Keys.TRAIN_TIME_MIN)\n",
    "\n",
    "\n",
    "model = mu.Model(cv,\n",
    "              X_train,\n",
    "              y_train,\n",
    "              X_test,\n",
    "              y_test,\n",
    "              name=\"LRB_GSCV\",\n",
    "              class_column=\"star_rating\",\n",
    "              description=DESCRIPTION,\n",
    "              file=DATA_FILE,\n",
    "              parameters={\n",
    "                        \"random_state\": RSTATE, \n",
    "                        \"solver\": 'lbfgs',\n",
    "                        \"multi_class\": 'auto',\n",
    "                        \"class_weight\": 'balanced',\n",
    "                        \"n_jobs\": N_JOBS,\n",
    "                        \"verbose\": 1,\n",
    "                          \"socring\": custom_scoring_function_gs_cv.__name__\n",
    "                    }\n",
    "              )\n",
    "report_dict_grid, y_predict_grid = model.run(fit=False)\n",
    "\n",
    "\n"
   ]
  },
  {
   "cell_type": "code",
   "execution_count": 10,
   "metadata": {},
   "outputs": [],
   "source": [
    "report_df = report_df.append(generate_report_df(timer_grid, report_dict_grid), ignore_index=True)\n",
    "report_df.to_csv(REPORT_FILE_CV, index=False)"
   ]
  },
  {
   "cell_type": "markdown",
   "metadata": {},
   "source": [
    "# Load Our Report so We can analyze results"
   ]
  },
  {
   "cell_type": "code",
   "execution_count": 11,
   "metadata": {},
   "outputs": [
    {
     "name": "stderr",
     "output_type": "stream",
     "text": [
      "INFO:numexpr.utils:Note: NumExpr detected 12 cores but \"NUMEXPR_MAX_THREADS\" not set, so enforcing safe limit of 8.\n",
      "INFO:numexpr.utils:NumExpr defaulting to 8 threads.\n"
     ]
    },
    {
     "data": {
      "text/html": [
       "<div>\n",
       "<style scoped>\n",
       "    .dataframe tbody tr th:only-of-type {\n",
       "        vertical-align: middle;\n",
       "    }\n",
       "\n",
       "    .dataframe tbody tr th {\n",
       "        vertical-align: top;\n",
       "    }\n",
       "\n",
       "    .dataframe thead th {\n",
       "        text-align: right;\n",
       "    }\n",
       "</style>\n",
       "<table border=\"1\" class=\"dataframe\">\n",
       "  <thead>\n",
       "    <tr style=\"text-align: right;\">\n",
       "      <th></th>\n",
       "      <th>model_name</th>\n",
       "      <th>description</th>\n",
       "      <th>file</th>\n",
       "      <th>train_examples</th>\n",
       "      <th>train_features</th>\n",
       "      <th>test_examples</th>\n",
       "      <th>test_features</th>\n",
       "      <th>param</th>\n",
       "      <th>model_file</th>\n",
       "      <th>status</th>\n",
       "      <th>...</th>\n",
       "      <th>has_lda</th>\n",
       "      <th>lda_str</th>\n",
       "      <th>has_sampling</th>\n",
       "      <th>sampling_str</th>\n",
       "      <th>label_column</th>\n",
       "      <th>feature_summary</th>\n",
       "      <th>feature_summary_sampling</th>\n",
       "      <th>config_file</th>\n",
       "      <th>file_load_time_min</th>\n",
       "      <th>smote_time_min</th>\n",
       "    </tr>\n",
       "  </thead>\n",
       "  <tbody>\n",
       "    <tr>\n",
       "      <th>5</th>\n",
       "      <td>LRB</td>\n",
       "      <td>review_body-tfidf-df_none-ngram11-49784-10000-nolda-nosmote-LRB-star_rating</td>\n",
       "      <td>review_body-tfidf-df_none-ngram11-49784-10000-nolda.csv</td>\n",
       "      <td>37338</td>\n",
       "      <td>10000</td>\n",
       "      <td>12446</td>\n",
       "      <td>10000</td>\n",
       "      <td>{'n_jobs': -1, 'c': 1, 'class_weight': 'balanced', 'max_iter': 100, 'verbose': 1}</td>\n",
       "      <td>../models/review_body-tfidf-df_none-ngram11-49784-10000-nolda-nosmote-LRB-star_rating.jbl</td>\n",
       "      <td>success</td>\n",
       "      <td>...</td>\n",
       "      <td>False</td>\n",
       "      <td>nolda</td>\n",
       "      <td>True</td>\n",
       "      <td>nosmote</td>\n",
       "      <td>star_rating</td>\n",
       "      <td>tfidf-ngram11-10000</td>\n",
       "      <td>tfidf-ngram11-nosmote</td>\n",
       "      <td>../config/2019-11-01-run_classifiers-50k.csv</td>\n",
       "      <td>3.1</td>\n",
       "      <td>0.0</td>\n",
       "    </tr>\n",
       "    <tr>\n",
       "      <th>1</th>\n",
       "      <td>LRB_GSCV</td>\n",
       "      <td>review_body-tfidf-df_none-ngram11-49784-10000-nolda-nosmote-LRB_GSCV-star_rating</td>\n",
       "      <td>../dataset/feature_files/review_body-tfidf-df_none-ngram11-49784-10000-nolda.csv</td>\n",
       "      <td>37338</td>\n",
       "      <td>10000</td>\n",
       "      <td>12446</td>\n",
       "      <td>10000</td>\n",
       "      <td>{\"random_state\": 1, \"solver\": \"lbfgs\", \"multi_class\": \"auto\", \"class_weight\": \"balanced\", \"n_jobs\": 4, \"verbose\": 1, \"socring\": \"custom_scoring_fu...</td>\n",
       "      <td>../models/review_body-tfidf-df_none-ngram11-49784-10000-nolda-nosmote-LRB_GSCV-star_rating.jbl</td>\n",
       "      <td>success</td>\n",
       "      <td>...</td>\n",
       "      <td>False</td>\n",
       "      <td>nolda</td>\n",
       "      <td>True</td>\n",
       "      <td>nosmote</td>\n",
       "      <td>star_rating</td>\n",
       "      <td>tfidf-ngram11-10000</td>\n",
       "      <td>tfidf-ngram11-nosmote</td>\n",
       "      <td>NaN</td>\n",
       "      <td>NaN</td>\n",
       "      <td>NaN</td>\n",
       "    </tr>\n",
       "    <tr>\n",
       "      <th>0</th>\n",
       "      <td>LRB_LRCV</td>\n",
       "      <td>review_body-tfidf-df_none-ngram11-49784-10000-nolda-nosmote-LRB_LRCV-star_rating</td>\n",
       "      <td>../dataset/feature_files/review_body-tfidf-df_none-ngram11-49784-10000-nolda.csv</td>\n",
       "      <td>37338</td>\n",
       "      <td>10000</td>\n",
       "      <td>12446</td>\n",
       "      <td>10000</td>\n",
       "      <td>{\"cv\": 5, \"random_state\": 1, \"solver\": \"lbfgs\", \"multi_class\": \"multimonial\", \"class_weight\": \"balanced\", \"n_jobs\": 4, \"verbose\": 1, \"scoring\": \"c...</td>\n",
       "      <td>../models/review_body-tfidf-df_none-ngram11-49784-10000-nolda-nosmote-LRB_LRCV-star_rating.jbl</td>\n",
       "      <td>success</td>\n",
       "      <td>...</td>\n",
       "      <td>False</td>\n",
       "      <td>nolda</td>\n",
       "      <td>True</td>\n",
       "      <td>nosmote</td>\n",
       "      <td>star_rating</td>\n",
       "      <td>tfidf-ngram11-10000</td>\n",
       "      <td>tfidf-ngram11-nosmote</td>\n",
       "      <td>NaN</td>\n",
       "      <td>NaN</td>\n",
       "      <td>NaN</td>\n",
       "    </tr>\n",
       "  </tbody>\n",
       "</table>\n",
       "<p>3 rows × 62 columns</p>\n",
       "</div>"
      ],
      "text/plain": [
       "  model_name  \\\n",
       "5        LRB   \n",
       "1   LRB_GSCV   \n",
       "0   LRB_LRCV   \n",
       "\n",
       "                                                                           description  \\\n",
       "5       review_body-tfidf-df_none-ngram11-49784-10000-nolda-nosmote-LRB-star_rating   \n",
       "1  review_body-tfidf-df_none-ngram11-49784-10000-nolda-nosmote-LRB_GSCV-star_rating   \n",
       "0  review_body-tfidf-df_none-ngram11-49784-10000-nolda-nosmote-LRB_LRCV-star_rating   \n",
       "\n",
       "                                                                                  file  \\\n",
       "5                           review_body-tfidf-df_none-ngram11-49784-10000-nolda.csv   \n",
       "1  ../dataset/feature_files/review_body-tfidf-df_none-ngram11-49784-10000-nolda.csv   \n",
       "0  ../dataset/feature_files/review_body-tfidf-df_none-ngram11-49784-10000-nolda.csv   \n",
       "\n",
       "   train_examples  train_features  test_examples  test_features  \\\n",
       "5           37338           10000          12446          10000   \n",
       "1           37338           10000          12446          10000   \n",
       "0           37338           10000          12446          10000   \n",
       "\n",
       "                                                                                                                                                   param  \\\n",
       "5                                                                      {'n_jobs': -1, 'c': 1, 'class_weight': 'balanced', 'max_iter': 100, 'verbose': 1}   \n",
       "1  {\"random_state\": 1, \"solver\": \"lbfgs\", \"multi_class\": \"auto\", \"class_weight\": \"balanced\", \"n_jobs\": 4, \"verbose\": 1, \"socring\": \"custom_scoring_fu...   \n",
       "0  {\"cv\": 5, \"random_state\": 1, \"solver\": \"lbfgs\", \"multi_class\": \"multimonial\", \"class_weight\": \"balanced\", \"n_jobs\": 4, \"verbose\": 1, \"scoring\": \"c...   \n",
       "\n",
       "                                                                                          model_file  \\\n",
       "5       ../models/review_body-tfidf-df_none-ngram11-49784-10000-nolda-nosmote-LRB-star_rating.jbl   \n",
       "1  ../models/review_body-tfidf-df_none-ngram11-49784-10000-nolda-nosmote-LRB_GSCV-star_rating.jbl   \n",
       "0  ../models/review_body-tfidf-df_none-ngram11-49784-10000-nolda-nosmote-LRB_LRCV-star_rating.jbl   \n",
       "\n",
       "    status  ... has_lda  lda_str  has_sampling  sampling_str  label_column  \\\n",
       "5  success  ...   False    nolda          True       nosmote   star_rating   \n",
       "1  success  ...   False    nolda          True       nosmote   star_rating   \n",
       "0  success  ...   False    nolda          True       nosmote   star_rating   \n",
       "\n",
       "       feature_summary  feature_summary_sampling  \\\n",
       "5  tfidf-ngram11-10000     tfidf-ngram11-nosmote   \n",
       "1  tfidf-ngram11-10000     tfidf-ngram11-nosmote   \n",
       "0  tfidf-ngram11-10000     tfidf-ngram11-nosmote   \n",
       "\n",
       "                                    config_file  file_load_time_min  \\\n",
       "5  ../config/2019-11-01-run_classifiers-50k.csv                 3.1   \n",
       "1                                           NaN                 NaN   \n",
       "0                                           NaN                 NaN   \n",
       "\n",
       "   smote_time_min  \n",
       "5             0.0  \n",
       "1             NaN  \n",
       "0             NaN  \n",
       "\n",
       "[3 rows x 62 columns]"
      ]
     },
     "execution_count": 11,
     "metadata": {},
     "output_type": "execute_result"
    }
   ],
   "source": [
    "report_cv = ru.load_report(REPORT_FILE_CV)\n",
    "report_compare = report_cv.append(ru.load_best_from_report(REPORT_FILE_LR)).sort_values(\"model_name\")\n",
    "report_compare"
   ]
  },
  {
   "cell_type": "markdown",
   "metadata": {},
   "source": [
    "# Grid Search Gave us Slightly Higher Performance Than LogisticRegressionCV\n",
    "\n",
    "Although improvement is ~.5% which is probably not statistically significant"
   ]
  },
  {
   "cell_type": "code",
   "execution_count": 52,
   "metadata": {},
   "outputs": [
    {
     "data": {
      "image/png": "[encoded data removed]",
      "text/plain": [
       "<Figure size 1440x360 with 1 Axes>"
      ]
     },
     "metadata": {},
     "output_type": "display_data"
    }
   ],
   "source": [
    "f, a = plt.subplots(1, 1, figsize=(20, 5))\n",
    "\n",
    "sns.lineplot(data=report_compare, x=\"model_name\", y=\"eval_metric\", marker=\"o\", sort=True)\n",
    "_ = plt.title(\"Model Performance by Search Method\")\n",
    "_ = plt.xlabel(\"Search Method\")\n",
    "_ = plt.ylabel(\"Custom Evaluation Metric\")"
   ]
  },
  {
   "cell_type": "markdown",
   "metadata": {},
   "source": [
    "### F1 Score, Precision, and Recall Are Roughly The Same"
   ]
  },
  {
   "cell_type": "code",
   "execution_count": 13,
   "metadata": {},
   "outputs": [
    {
     "data": {
      "text/html": [
       "<div>\n",
       "<style scoped>\n",
       "    .dataframe tbody tr th:only-of-type {\n",
       "        vertical-align: middle;\n",
       "    }\n",
       "\n",
       "    .dataframe tbody tr th {\n",
       "        vertical-align: top;\n",
       "    }\n",
       "\n",
       "    .dataframe thead th {\n",
       "        text-align: right;\n",
       "    }\n",
       "</style>\n",
       "<table border=\"1\" class=\"dataframe\">\n",
       "  <thead>\n",
       "    <tr style=\"text-align: right;\">\n",
       "      <th></th>\n",
       "      <th>1_recall</th>\n",
       "      <th>2_recall</th>\n",
       "      <th>3_recall</th>\n",
       "      <th>4_recall</th>\n",
       "      <th>5_precision</th>\n",
       "    </tr>\n",
       "  </thead>\n",
       "  <tbody>\n",
       "    <tr>\n",
       "      <th>5</th>\n",
       "      <td>0.652450</td>\n",
       "      <td>0.346154</td>\n",
       "      <td>0.333333</td>\n",
       "      <td>0.400380</td>\n",
       "      <td>0.852980</td>\n",
       "    </tr>\n",
       "    <tr>\n",
       "      <th>1</th>\n",
       "      <td>0.666859</td>\n",
       "      <td>0.349876</td>\n",
       "      <td>0.339332</td>\n",
       "      <td>0.404184</td>\n",
       "      <td>0.851504</td>\n",
       "    </tr>\n",
       "    <tr>\n",
       "      <th>0</th>\n",
       "      <td>0.663977</td>\n",
       "      <td>0.336228</td>\n",
       "      <td>0.338475</td>\n",
       "      <td>0.404660</td>\n",
       "      <td>0.855365</td>\n",
       "    </tr>\n",
       "  </tbody>\n",
       "</table>\n",
       "</div>"
      ],
      "text/plain": [
       "   1_recall  2_recall  3_recall  4_recall  5_precision\n",
       "5  0.652450  0.346154  0.333333  0.400380     0.852980\n",
       "1  0.666859  0.349876  0.339332  0.404184     0.851504\n",
       "0  0.663977  0.336228  0.338475  0.404660     0.855365"
      ]
     },
     "execution_count": 13,
     "metadata": {},
     "output_type": "execute_result"
    }
   ],
   "source": [
    "report_compare[ru.EVAL_COLS]"
   ]
  },
  {
   "cell_type": "code",
   "execution_count": 49,
   "metadata": {},
   "outputs": [
    {
     "data": {
      "image/png": "[encoded data removed]",
      "text/plain": [
       "<Figure size 1440x72 with 3 Axes>"
      ]
     },
     "metadata": {},
     "output_type": "display_data"
    },
    {
     "data": {
      "image/png": "[encoded data removed]",
      "text/plain": [
       "<Figure size 1440x72 with 3 Axes>"
      ]
     },
     "metadata": {},
     "output_type": "display_data"
    },
    {
     "data": {
      "image/png": "[encoded data removed]",
      "text/plain": [
       "<Figure size 1440x72 with 3 Axes>"
      ]
     },
     "metadata": {},
     "output_type": "display_data"
    }
   ],
   "source": [
    "import util.plot_util as pu\n",
    "importlib.reload(pu)\n",
    "logging.basicConfig(level=logging.ERROR)\n",
    "pu.plot_score_histograms(report_compare, version=2)"
   ]
  },
  {
   "cell_type": "markdown",
   "metadata": {},
   "source": [
    "# Grid Search Results\n",
    "\n",
    "Our best parameters actually came from the default values for Logistic Regression\n",
    "\n",
    "* Number of iterations did not have an effect on our model\n",
    "* Increasing C improves performance slightly"
   ]
  },
  {
   "cell_type": "code",
   "execution_count": 47,
   "metadata": {},
   "outputs": [
    {
     "data": {
      "text/plain": [
       "{'C': 0.1, 'max_iter': 100}"
      ]
     },
     "execution_count": 47,
     "metadata": {},
     "output_type": "execute_result"
    }
   ],
   "source": [
    "cv.best_params_"
   ]
  },
  {
   "cell_type": "code",
   "execution_count": 50,
   "metadata": {},
   "outputs": [
    {
     "data": {
      "image/png": "[encoded data removed]",
      "text/plain": [
       "<Figure size 1440x360 with 2 Axes>"
      ]
     },
     "metadata": {},
     "output_type": "display_data"
    }
   ],
   "source": [
    "grid_params = pd.DataFrame(cv.cv_results_[\"params\"])\n",
    "grid_params = pd.concat([grid_params, pd.DataFrame(cv.cv_results_[\"mean_test_score\"]).rename({0:\"scores\"}, axis=1)], axis=1)\n",
    "\n",
    "f, a = plt.subplots(1, 1, figsize=(20, 5))\n",
    "\n",
    "a.grid(False)\n",
    "sns.lineplot(data=grid_params, x=np.arange(0, len(grid_params)), y=\"C\", label=\"C\", ax=a, color=\"blue\", sort=False)\n",
    "sns.lineplot(data=grid_params, x=np.arange(0, len(grid_params)), y=\"scores\", label=\"Custom Evaluation Metric\", ax=a, color=\"red\", linewidth=4, sort=False)\n",
    "a.lines[1].set_linestyle(\"--\")\n",
    "\n",
    "\n",
    "a2 = a.twinx()\n",
    "sns.lineplot(data=grid_params, x=np.arange(0, len(grid_params)), y=\"max_iter\", label=\"Max Iter\", ax=a2, color=\"orange\", sort=False)\n",
    "a2.set_ylabel(\"Max Iterations\")\n",
    "a2.legend(loc='lower right')\n",
    "\n",
    "\n",
    "\n",
    "_ = a.set_xlabel(\"Iteration Number\")\n"
   ]
  },
  {
   "cell_type": "code",
   "execution_count": 46,
   "metadata": {},
   "outputs": [
    {
     "data": {
      "text/html": [
       "<div>\n",
       "<style scoped>\n",
       "    .dataframe tbody tr th:only-of-type {\n",
       "        vertical-align: middle;\n",
       "    }\n",
       "\n",
       "    .dataframe tbody tr th {\n",
       "        vertical-align: top;\n",
       "    }\n",
       "\n",
       "    .dataframe thead th {\n",
       "        text-align: right;\n",
       "    }\n",
       "</style>\n",
       "<table border=\"1\" class=\"dataframe\">\n",
       "  <thead>\n",
       "    <tr style=\"text-align: right;\">\n",
       "      <th></th>\n",
       "      <th>0</th>\n",
       "      <th>1</th>\n",
       "      <th>2</th>\n",
       "      <th>3</th>\n",
       "      <th>4</th>\n",
       "      <th>5</th>\n",
       "      <th>6</th>\n",
       "      <th>7</th>\n",
       "      <th>8</th>\n",
       "      <th>9</th>\n",
       "      <th>10</th>\n",
       "      <th>11</th>\n",
       "      <th>12</th>\n",
       "      <th>13</th>\n",
       "      <th>14</th>\n",
       "      <th>15</th>\n",
       "    </tr>\n",
       "  </thead>\n",
       "  <tbody>\n",
       "    <tr>\n",
       "      <th>C</th>\n",
       "      <td>0.001000</td>\n",
       "      <td>0.001000</td>\n",
       "      <td>0.001000</td>\n",
       "      <td>0.001000</td>\n",
       "      <td>0.010000</td>\n",
       "      <td>0.010000</td>\n",
       "      <td>0.010000</td>\n",
       "      <td>0.010000</td>\n",
       "      <td>0.100000</td>\n",
       "      <td>0.100000</td>\n",
       "      <td>0.100000</td>\n",
       "      <td>0.100000</td>\n",
       "      <td>1.000000</td>\n",
       "      <td>1.000000</td>\n",
       "      <td>1.000000</td>\n",
       "      <td>1.000000</td>\n",
       "    </tr>\n",
       "    <tr>\n",
       "      <th>max_iter</th>\n",
       "      <td>100.000000</td>\n",
       "      <td>200.000000</td>\n",
       "      <td>400.000000</td>\n",
       "      <td>800.000000</td>\n",
       "      <td>100.000000</td>\n",
       "      <td>200.000000</td>\n",
       "      <td>400.000000</td>\n",
       "      <td>800.000000</td>\n",
       "      <td>100.000000</td>\n",
       "      <td>200.000000</td>\n",
       "      <td>400.000000</td>\n",
       "      <td>800.000000</td>\n",
       "      <td>100.000000</td>\n",
       "      <td>200.000000</td>\n",
       "      <td>400.000000</td>\n",
       "      <td>800.000000</td>\n",
       "    </tr>\n",
       "    <tr>\n",
       "      <th>scores</th>\n",
       "      <td>0.331956</td>\n",
       "      <td>0.331956</td>\n",
       "      <td>0.331956</td>\n",
       "      <td>0.331956</td>\n",
       "      <td>0.381755</td>\n",
       "      <td>0.381755</td>\n",
       "      <td>0.381755</td>\n",
       "      <td>0.381755</td>\n",
       "      <td>0.449763</td>\n",
       "      <td>0.449763</td>\n",
       "      <td>0.449763</td>\n",
       "      <td>0.449763</td>\n",
       "      <td>0.441129</td>\n",
       "      <td>0.441119</td>\n",
       "      <td>0.441173</td>\n",
       "      <td>0.441173</td>\n",
       "    </tr>\n",
       "  </tbody>\n",
       "</table>\n",
       "</div>"
      ],
      "text/plain": [
       "                   0           1           2           3           4  \\\n",
       "C           0.001000    0.001000    0.001000    0.001000    0.010000   \n",
       "max_iter  100.000000  200.000000  400.000000  800.000000  100.000000   \n",
       "scores      0.331956    0.331956    0.331956    0.331956    0.381755   \n",
       "\n",
       "                   5           6           7           8           9  \\\n",
       "C           0.010000    0.010000    0.010000    0.100000    0.100000   \n",
       "max_iter  200.000000  400.000000  800.000000  100.000000  200.000000   \n",
       "scores      0.381755    0.381755    0.381755    0.449763    0.449763   \n",
       "\n",
       "                  10          11          12          13          14  \\\n",
       "C           0.100000    0.100000    1.000000    1.000000    1.000000   \n",
       "max_iter  400.000000  800.000000  100.000000  200.000000  400.000000   \n",
       "scores      0.449763    0.449763    0.441129    0.441119    0.441173   \n",
       "\n",
       "                  15  \n",
       "C           1.000000  \n",
       "max_iter  800.000000  \n",
       "scores      0.441173  "
      ]
     },
     "execution_count": 46,
     "metadata": {},
     "output_type": "execute_result"
    }
   ],
   "source": [
    "grid_params.T"
   ]
  },
  {
   "cell_type": "code",
   "execution_count": null,
   "metadata": {},
   "outputs": [],
   "source": []
  }
 ],
 "metadata": {
  "kernelspec": {
   "display_name": "Python 3",
   "language": "python",
   "name": "python3"
  },
  "language_info": {
   "codemirror_mode": {
    "name": "ipython",
    "version": 3
   },
   "file_extension": ".py",
   "mimetype": "text/x-python",
   "name": "python",
   "nbconvert_exporter": "python",
   "pygments_lexer": "ipython3",
   "version": "3.7.5"
  }
 },
 "nbformat": 4,
 "nbformat_minor": 4
}
