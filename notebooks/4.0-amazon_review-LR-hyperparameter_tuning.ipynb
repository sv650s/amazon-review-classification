{
 "cells": [
  {
   "cell_type": "markdown",
   "metadata": {},
   "source": [
    "# Hyper Parameter Tuning for Logistic Regression\n",
    "\n",
    "Since Logistic Regression preforms the best on our dataset using class_weight = 'balanced', in this notebook we will tune parameters for LR using LogisticRegressionCV and GridSearchCV to see if we can improve our performance\n",
    "\n",
    "For both methods, we will use a custom scorer - score will be harmonic mean of recall for minority classes and precision of majority class - this is the same metric we have been using to evaluate our models so far\n",
    "\n",
    "We will compare the results from our Logsitic Regression run from before to see if our performance has improved\n",
    "\n",
    "Parameters that we will tune for grid search is C (regularization parameter) and max_iter\n",
    "\n",
    "# Results\n",
    "\n",
    "\n",
    "Using grid search and Logistic Regression CV yielded similar results. The best parameter for Logistic Regression actually turned out to be the default parameters for C = 1.0 and max_iter = 100\n",
    "\n"
   ]
  },
  {
   "cell_type": "code",
   "execution_count": 2,
   "metadata": {},
   "outputs": [
    {
     "name": "stderr",
     "output_type": "stream",
     "text": [
      "/Users/vinceluk/anaconda3/envs/capstone/lib/python3.7/site-packages/sklearn/externals/joblib/__init__.py:15: DeprecationWarning: sklearn.externals.joblib is deprecated in 0.21 and will be removed in 0.23. Please import this functionality directly from joblib, which can be installed with: pip install joblib. If this warning is raised when loading pickled models, you may need to re-serialize those models with scikit-learn 0.21+.\n",
      "  warnings.warn(msg, category=DeprecationWarning)\n",
      "/Users/vinceluk/anaconda3/envs/capstone/lib/python3.7/site-packages/tensorflow/python/framework/dtypes.py:516: FutureWarning: Passing (type, 1) or '1type' as a synonym of type is deprecated; in a future version of numpy, it will be understood as (type, (1,)) / '(1,)type'.\n",
      "  _np_qint8 = np.dtype([(\"qint8\", np.int8, 1)])\n",
      "/Users/vinceluk/anaconda3/envs/capstone/lib/python3.7/site-packages/tensorflow/python/framework/dtypes.py:517: FutureWarning: Passing (type, 1) or '1type' as a synonym of type is deprecated; in a future version of numpy, it will be understood as (type, (1,)) / '(1,)type'.\n",
      "  _np_quint8 = np.dtype([(\"quint8\", np.uint8, 1)])\n",
      "/Users/vinceluk/anaconda3/envs/capstone/lib/python3.7/site-packages/tensorflow/python/framework/dtypes.py:518: FutureWarning: Passing (type, 1) or '1type' as a synonym of type is deprecated; in a future version of numpy, it will be understood as (type, (1,)) / '(1,)type'.\n",
      "  _np_qint16 = np.dtype([(\"qint16\", np.int16, 1)])\n",
      "/Users/vinceluk/anaconda3/envs/capstone/lib/python3.7/site-packages/tensorflow/python/framework/dtypes.py:519: FutureWarning: Passing (type, 1) or '1type' as a synonym of type is deprecated; in a future version of numpy, it will be understood as (type, (1,)) / '(1,)type'.\n",
      "  _np_quint16 = np.dtype([(\"quint16\", np.uint16, 1)])\n",
      "/Users/vinceluk/anaconda3/envs/capstone/lib/python3.7/site-packages/tensorflow/python/framework/dtypes.py:520: FutureWarning: Passing (type, 1) or '1type' as a synonym of type is deprecated; in a future version of numpy, it will be understood as (type, (1,)) / '(1,)type'.\n",
      "  _np_qint32 = np.dtype([(\"qint32\", np.int32, 1)])\n",
      "/Users/vinceluk/anaconda3/envs/capstone/lib/python3.7/site-packages/tensorflow/python/framework/dtypes.py:525: FutureWarning: Passing (type, 1) or '1type' as a synonym of type is deprecated; in a future version of numpy, it will be understood as (type, (1,)) / '(1,)type'.\n",
      "  np_resource = np.dtype([(\"resource\", np.ubyte, 1)])\n",
      "/Users/vinceluk/anaconda3/envs/capstone/lib/python3.7/site-packages/tensorboard/compat/tensorflow_stub/dtypes.py:541: FutureWarning: Passing (type, 1) or '1type' as a synonym of type is deprecated; in a future version of numpy, it will be understood as (type, (1,)) / '(1,)type'.\n",
      "  _np_qint8 = np.dtype([(\"qint8\", np.int8, 1)])\n",
      "/Users/vinceluk/anaconda3/envs/capstone/lib/python3.7/site-packages/tensorboard/compat/tensorflow_stub/dtypes.py:542: FutureWarning: Passing (type, 1) or '1type' as a synonym of type is deprecated; in a future version of numpy, it will be understood as (type, (1,)) / '(1,)type'.\n",
      "  _np_quint8 = np.dtype([(\"quint8\", np.uint8, 1)])\n",
      "/Users/vinceluk/anaconda3/envs/capstone/lib/python3.7/site-packages/tensorboard/compat/tensorflow_stub/dtypes.py:543: FutureWarning: Passing (type, 1) or '1type' as a synonym of type is deprecated; in a future version of numpy, it will be understood as (type, (1,)) / '(1,)type'.\n",
      "  _np_qint16 = np.dtype([(\"qint16\", np.int16, 1)])\n",
      "/Users/vinceluk/anaconda3/envs/capstone/lib/python3.7/site-packages/tensorboard/compat/tensorflow_stub/dtypes.py:544: FutureWarning: Passing (type, 1) or '1type' as a synonym of type is deprecated; in a future version of numpy, it will be understood as (type, (1,)) / '(1,)type'.\n",
      "  _np_quint16 = np.dtype([(\"quint16\", np.uint16, 1)])\n",
      "/Users/vinceluk/anaconda3/envs/capstone/lib/python3.7/site-packages/tensorboard/compat/tensorflow_stub/dtypes.py:545: FutureWarning: Passing (type, 1) or '1type' as a synonym of type is deprecated; in a future version of numpy, it will be understood as (type, (1,)) / '(1,)type'.\n",
      "  _np_qint32 = np.dtype([(\"qint32\", np.int32, 1)])\n",
      "/Users/vinceluk/anaconda3/envs/capstone/lib/python3.7/site-packages/tensorboard/compat/tensorflow_stub/dtypes.py:550: FutureWarning: Passing (type, 1) or '1type' as a synonym of type is deprecated; in a future version of numpy, it will be understood as (type, (1,)) / '(1,)type'.\n",
      "  np_resource = np.dtype([(\"resource\", np.ubyte, 1)])\n"
     ]
    }
   ],
   "source": [
    "import os\n",
    "import sys\n",
    "module_path = os.path.abspath(os.path.join('..'))\n",
    "if module_path not in sys.path:\n",
    "    sys.path.append(module_path)\n",
    "    \n",
    "import importlib\n",
    "import re\n",
    "import pandas as pd\n",
    "import matplotlib.pyplot as plt\n",
    "import seaborn as sns\n",
    "import util.model_util as mu\n",
    "import util.report_util as ru\n",
    "from datetime import datetime\n",
    "import logging\n",
    "\n",
    "from sklearn.model_selection import train_test_split, GridSearchCV\n",
    "from sklearn.linear_model import LogisticRegression\n",
    "\n",
    "%matplotlib inline\n",
    "sns.set()\n",
    "# If you set this GridSearchCV spews out a bunch of stuff - comment out if you are debugging\n",
    "# logging.basicConfig(level=logging.ERROR)\n",
    "# log = logging.getLogger(__name__)\n",
    "\n",
    "pd.set_option('max_colwidth', 150)\n",
    "\n",
    "\n",
    "RSTATE=1\n",
    "N_JOBS=4\n",
    "CV=5\n",
    "REPORT_DIR=\"../reports\"\n",
    "DATASET_DIR=\"../dataset/feature_files\"\n",
    "\n",
    "# set to True for debug mode\n",
    "# also you can set the environment variable via command line if using nbconvert\n",
    "DEBUG = bool(os.environ.get(\"IPYNB_DEBUG\", False))\n",
    "\n",
    "if DEBUG:\n",
    "    BASE = \"review_body-tfidf-df_none-ngram22-99-2282-nolda\"\n",
    "    REPORT_FILE_CV = f'{REPORT_DIR}/201911-run_classifiers-50k-lr_cv-report-test.csv'\n",
    "else:\n",
    "    BASE = \"review_body-tfidf-df_none-ngram13-49784-4000-nolda\"\n",
    "    REPORT_FILE_CV = f'{REPORT_DIR}/201911-run_classifiers-50k-lr_cv-report.csv'\n",
    "\n",
    "DESCRIPTION = f\"{BASE}-nosmote\"    \n",
    "DATA_FILE = f'{DATASET_DIR}/{BASE}.csv'\n",
    "# we will load our best results from previous training round from this file\n",
    "REPORT_FILE_LR = f'{REPORT_DIR}/2019-11-01-run_classifiers-50k-report.csv'"
   ]
  },
  {
   "cell_type": "code",
   "execution_count": 2,
   "metadata": {},
   "outputs": [],
   "source": [
    "data = pd.read_csv(DATA_FILE)"
   ]
  },
  {
   "cell_type": "markdown",
   "metadata": {},
   "source": [
    "# Prepare our data into training and test sets"
   ]
  },
  {
   "cell_type": "code",
   "execution_count": 3,
   "metadata": {},
   "outputs": [
    {
     "data": {
      "text/plain": [
       "\u001b[0;31mSignature:\u001b[0m\n",
       "\u001b[0mmu\u001b[0m\u001b[0;34m.\u001b[0m\u001b[0mcreate_training_data\u001b[0m\u001b[0;34m(\u001b[0m\u001b[0;34m\u001b[0m\n",
       "\u001b[0;34m\u001b[0m    \u001b[0mdata\u001b[0m\u001b[0;34m:\u001b[0m \u001b[0mpandas\u001b[0m\u001b[0;34m.\u001b[0m\u001b[0mcore\u001b[0m\u001b[0;34m.\u001b[0m\u001b[0mframe\u001b[0m\u001b[0;34m.\u001b[0m\u001b[0mDataFrame\u001b[0m\u001b[0;34m,\u001b[0m\u001b[0;34m\u001b[0m\n",
       "\u001b[0;34m\u001b[0m    \u001b[0mclass_column\u001b[0m\u001b[0;34m:\u001b[0m \u001b[0mstr\u001b[0m\u001b[0;34m,\u001b[0m\u001b[0;34m\u001b[0m\n",
       "\u001b[0;34m\u001b[0m    \u001b[0mdrop_columns\u001b[0m\u001b[0;34m:\u001b[0m \u001b[0mstr\u001b[0m \u001b[0;34m=\u001b[0m \u001b[0;32mNone\u001b[0m\u001b[0;34m,\u001b[0m\u001b[0;34m\u001b[0m\n",
       "\u001b[0;34m\u001b[0m\u001b[0;34m)\u001b[0m\u001b[0;34m\u001b[0m\u001b[0;34m\u001b[0m\u001b[0m\n",
       "\u001b[0;31mSource:\u001b[0m   \n",
       "\u001b[0;32mdef\u001b[0m \u001b[0mcreate_training_data\u001b[0m\u001b[0;34m(\u001b[0m\u001b[0mdata\u001b[0m\u001b[0;34m:\u001b[0m \u001b[0mpd\u001b[0m\u001b[0;34m.\u001b[0m\u001b[0mDataFrame\u001b[0m\u001b[0;34m,\u001b[0m \u001b[0mclass_column\u001b[0m\u001b[0;34m:\u001b[0m \u001b[0mstr\u001b[0m\u001b[0;34m,\u001b[0m \u001b[0mdrop_columns\u001b[0m\u001b[0;34m:\u001b[0m \u001b[0mstr\u001b[0m \u001b[0;34m=\u001b[0m \u001b[0;32mNone\u001b[0m\u001b[0;34m)\u001b[0m\u001b[0;34m:\u001b[0m\u001b[0;34m\u001b[0m\n",
       "\u001b[0;34m\u001b[0m    \u001b[0;34m\"\"\"\u001b[0m\n",
       "\u001b[0;34m    Make a copy of dataframe and:\u001b[0m\n",
       "\u001b[0;34m    1. split between features and predictions\u001b[0m\n",
       "\u001b[0;34m    2. drop any extra columns\u001b[0m\n",
       "\u001b[0;34m    3. create test and training sets\u001b[0m\n",
       "\u001b[0;34m    :param data: dataframe with data to split\u001b[0m\n",
       "\u001b[0;34m    :param class_column: use this column as labels for training\u001b[0m\n",
       "\u001b[0;34m    :param drop_columns: specify a comma delimited list of strings here if there are any extra columns to be dropped (optional)\u001b[0m\n",
       "\u001b[0;34m    :return: X_train, X_test, y_train, y_test\u001b[0m\n",
       "\u001b[0;34m    \"\"\"\u001b[0m\u001b[0;34m\u001b[0m\n",
       "\u001b[0;34m\u001b[0m    \u001b[0;31m# make a copy so we can reuse original DF if need be\u001b[0m\u001b[0;34m\u001b[0m\n",
       "\u001b[0;34m\u001b[0m    \u001b[0mx\u001b[0m \u001b[0;34m=\u001b[0m \u001b[0mdata\u001b[0m\u001b[0;34m.\u001b[0m\u001b[0mcopy\u001b[0m\u001b[0;34m(\u001b[0m\u001b[0;34m)\u001b[0m\u001b[0;34m\u001b[0m\n",
       "\u001b[0;34m\u001b[0m\u001b[0;34m\u001b[0m\n",
       "\u001b[0;34m\u001b[0m    \u001b[0my\u001b[0m \u001b[0;34m=\u001b[0m \u001b[0mx\u001b[0m\u001b[0;34m[\u001b[0m\u001b[0mclass_column\u001b[0m\u001b[0;34m]\u001b[0m\u001b[0;34m\u001b[0m\n",
       "\u001b[0;34m\u001b[0m    \u001b[0mx\u001b[0m\u001b[0;34m.\u001b[0m\u001b[0mdrop\u001b[0m\u001b[0;34m(\u001b[0m\u001b[0mclass_column\u001b[0m\u001b[0;34m,\u001b[0m \u001b[0maxis\u001b[0m\u001b[0;34m=\u001b[0m\u001b[0;36m1\u001b[0m\u001b[0;34m,\u001b[0m \u001b[0minplace\u001b[0m\u001b[0;34m=\u001b[0m\u001b[0;32mTrue\u001b[0m\u001b[0;34m)\u001b[0m\u001b[0;34m\u001b[0m\n",
       "\u001b[0;34m\u001b[0m\u001b[0;34m\u001b[0m\n",
       "\u001b[0;34m\u001b[0m    \u001b[0;32mif\u001b[0m \u001b[0mdrop_columns\u001b[0m\u001b[0;34m:\u001b[0m\u001b[0;34m\u001b[0m\n",
       "\u001b[0;34m\u001b[0m        \u001b[0mdrop_list\u001b[0m \u001b[0;34m=\u001b[0m \u001b[0mdrop_columns\u001b[0m\u001b[0;34m.\u001b[0m\u001b[0mreplace\u001b[0m\u001b[0;34m(\u001b[0m\u001b[0;34m\" \"\u001b[0m\u001b[0;34m,\u001b[0m \u001b[0;34m\"\"\u001b[0m\u001b[0;34m)\u001b[0m\u001b[0;34m.\u001b[0m\u001b[0msplit\u001b[0m\u001b[0;34m(\u001b[0m\u001b[0;34m\",\"\u001b[0m\u001b[0;34m)\u001b[0m\u001b[0;34m\u001b[0m\n",
       "\u001b[0;34m\u001b[0m        \u001b[0mlog\u001b[0m\u001b[0;34m.\u001b[0m\u001b[0minfo\u001b[0m\u001b[0;34m(\u001b[0m\u001b[0;34mf\"Dropping columns from features {drop_list}\"\u001b[0m\u001b[0;34m)\u001b[0m\u001b[0;34m\u001b[0m\n",
       "\u001b[0;34m\u001b[0m        \u001b[0mx\u001b[0m\u001b[0;34m.\u001b[0m\u001b[0mdrop\u001b[0m\u001b[0;34m(\u001b[0m\u001b[0mdrop_list\u001b[0m\u001b[0;34m,\u001b[0m \u001b[0maxis\u001b[0m\u001b[0;34m=\u001b[0m\u001b[0;36m1\u001b[0m\u001b[0;34m,\u001b[0m \u001b[0minplace\u001b[0m\u001b[0;34m=\u001b[0m\u001b[0;32mTrue\u001b[0m\u001b[0;34m)\u001b[0m\u001b[0;34m\u001b[0m\n",
       "\u001b[0;34m\u001b[0m\u001b[0;34m\u001b[0m\n",
       "\u001b[0;34m\u001b[0m    \u001b[0mlog\u001b[0m\u001b[0;34m.\u001b[0m\u001b[0minfo\u001b[0m\u001b[0;34m(\u001b[0m\u001b[0;34mf'shape of x: {x.shape}'\u001b[0m\u001b[0;34m)\u001b[0m\u001b[0;34m\u001b[0m\n",
       "\u001b[0;34m\u001b[0m    \u001b[0mlog\u001b[0m\u001b[0;34m.\u001b[0m\u001b[0minfo\u001b[0m\u001b[0;34m(\u001b[0m\u001b[0;34mf'shape of y: {y.shape}'\u001b[0m\u001b[0;34m)\u001b[0m\u001b[0;34m\u001b[0m\n",
       "\u001b[0;34m\u001b[0m\u001b[0;34m\u001b[0m\n",
       "\u001b[0;34m\u001b[0m    \u001b[0;32mreturn\u001b[0m \u001b[0mtrain_test_split\u001b[0m\u001b[0;34m(\u001b[0m\u001b[0mx\u001b[0m\u001b[0;34m,\u001b[0m \u001b[0my\u001b[0m\u001b[0;34m,\u001b[0m \u001b[0mrandom_state\u001b[0m\u001b[0;34m=\u001b[0m\u001b[0mRSTATE\u001b[0m\u001b[0;34m,\u001b[0m \u001b[0mstratify\u001b[0m\u001b[0;34m=\u001b[0m\u001b[0my\u001b[0m\u001b[0;34m)\u001b[0m\u001b[0;34m\u001b[0m\u001b[0;34m\u001b[0m\u001b[0m\n",
       "\u001b[0;31mFile:\u001b[0m      ~/Dropbox/0_springboard/capstone/util/model_util.py\n",
       "\u001b[0;31mType:\u001b[0m      function\n"
      ]
     },
     "metadata": {},
     "output_type": "display_data"
    }
   ],
   "source": [
    "??mu.create_training_data"
   ]
  },
  {
   "cell_type": "code",
   "execution_count": 4,
   "metadata": {},
   "outputs": [],
   "source": [
    "X_train, X_test, y_train, y_test = mu.create_training_data(data, \"star_rating\", \"helpful_votes, total_votes, helpful_product\")"
   ]
  },
  {
   "cell_type": "markdown",
   "metadata": {},
   "source": [
    "# Use LogisticRegressionCV to find best C parameters for Logistic Regression\n",
    "\n",
    "But first, lets define our scoring function. Since we want to find the the model that can help us improve minority class recall"
   ]
  },
  {
   "cell_type": "code",
   "execution_count": 5,
   "metadata": {},
   "outputs": [
    {
     "name": "stderr",
     "output_type": "stream",
     "text": [
      "[Parallel(n_jobs=4)]: Using backend LokyBackend with 4 concurrent workers.\n",
      "[Parallel(n_jobs=4)]: Done   5 out of   5 | elapsed:  5.4min finished\n",
      "/Users/vinceluk/anaconda3/envs/capstone/lib/python3.7/site-packages/sklearn/linear_model/_logistic.py:940: ConvergenceWarning: lbfgs failed to converge (status=1):\n",
      "STOP: TOTAL NO. of ITERATIONS REACHED LIMIT.\n",
      "\n",
      "Increase the number of iterations (max_iter) or scale the data as shown in:\n",
      "    https://scikit-learn.org/stable/modules/preprocessing.html\n",
      "Please also refer to the documentation for alternative solver options:\n",
      "    https://scikit-learn.org/stable/modules/linear_model.html#logistic-regression\n",
      "  extra_warning_msg=_LOGISTIC_SOLVER_CONVERGENCE_MSG)\n"
     ]
    },
    {
     "data": {
      "text/plain": [
       "6.74"
      ]
     },
     "execution_count": 5,
     "metadata": {},
     "output_type": "execute_result"
    }
   ],
   "source": [
    "from sklearn.linear_model import LogisticRegressionCV\n",
    "import util.time_util as tu\n",
    "from sklearn.metrics import make_scorer, classification_report\n",
    "import numpy as np\n",
    "\n",
    "\n",
    "def custom_scoring_function_lr_cv(y, y_predict):\n",
    "    \"\"\"\n",
    "    Calculate the harmonic mean of recall for minority classes and precision for majority class\n",
    "    \"\"\"\n",
    "#     print(f'y {y.shape}')\n",
    "#     print(f'y_predict {y_predict.shape}')\n",
    "#     print(f'y classes {np.unique(y)}')\n",
    "    cr = classification_report(y, y_predict, output_dict=True)\n",
    "#     print(f'cr {cr}')\n",
    "    \n",
    "    recall1 = cr[\"0\"][\"recall\"]\n",
    "    recall2 = cr[\"1\"][\"recall\"]\n",
    "    recall3 = cr[\"2\"][\"recall\"]\n",
    "    recall4 = cr[\"3\"][\"recall\"]\n",
    "    precision5 = cr[\"4\"][\"precision\"]\n",
    "    \n",
    "    if recall1 > 0 and recall2 > 0 and recall3 > 0 and recall4 > 0 and precision5 > 0:\n",
    "        score = 5 / (1/recall1 +\n",
    "                     1/recall2 +\n",
    "                     1/recall3 +\n",
    "                     1/recall4 +\n",
    "                     1/precision5)\n",
    "    else:\n",
    "        score = 0\n",
    "        \n",
    "    print(f'Scorer score: {score}')\n",
    "    return score\n",
    "\n",
    "\n",
    "my_scorer = make_scorer(custom_scoring_function_lr_cv, greater_is_better=True)\n",
    "\n",
    "\n",
    "lr = LogisticRegressionCV(cv=CV,\n",
    "                         verbose=1,\n",
    "                         scoring=my_scorer,\n",
    "                         class_weight='balanced',\n",
    "                         multi_class='multinomial',\n",
    "                          solver=\"lbfgs\",\n",
    "                         n_jobs=N_JOBS,\n",
    "                         random_state=RSTATE)\n",
    "\n",
    "timer = tu.Timer()\n",
    "\n",
    "timer.start_timer(tu.Keys.TRAIN_TIME_MIN)\n",
    "lr.fit(X_train, y_train)\n",
    "timer.end_timer(tu.Keys.TRAIN_TIME_MIN)"
   ]
  },
  {
   "cell_type": "markdown",
   "metadata": {},
   "source": [
    "# Create a report in the same format as our other runs"
   ]
  },
  {
   "cell_type": "code",
   "execution_count": 6,
   "metadata": {},
   "outputs": [],
   "source": [
    "def generate_report_df(fit_timer, report_dict):\n",
    "    \"\"\"\n",
    "    Put fit timer and the report_dict from predict into a DataFrame\n",
    "    :param fit_timer: timer object from fitting our CV\n",
    "    :param report_dict: report_dict from Model.run()\n",
    "    :return: dataframe with report info\n",
    "    \"\"\"\n",
    "    report_dict.update(timer.timer_dict)\n",
    "    report_dict[\"total_time_min\"] = report_dict[\"train_time_min\"] + report_dict[\"predict_time_min\"]\n",
    "    df = pd.DataFrame(columns=report_dict.keys())\n",
    "    df = df.append(report_dict, ignore_index=True)\n",
    "    return df"
   ]
  },
  {
   "cell_type": "code",
   "execution_count": 7,
   "metadata": {},
   "outputs": [],
   "source": [
    "import importlib\n",
    "importlib.reload(mu)\n",
    "model = mu.Model(lr,\n",
    "              X_train,\n",
    "              y_train,\n",
    "              X_test,\n",
    "              y_test,\n",
    "              name=\"LRB_LRCV\",\n",
    "              class_column=\"star_rating\",\n",
    "              description=DESCRIPTION,\n",
    "              file=DATA_FILE,\n",
    "              parameters={\n",
    "                        \"cv\": CV,\n",
    "                        \"random_state\": RSTATE, \n",
    "                        \"solver\": 'lbfgs',\n",
    "                        \"multi_class\": 'multimonial',\n",
    "                        \"class_weight\": 'balanced',\n",
    "                        \"n_jobs\": N_JOBS,\n",
    "                        \"verbose\": 1,\n",
    "                          \"scoring\": custom_scoring_function_lr_cv.__name__\n",
    "                    }\n",
    "              )\n",
    "# report_dict has stats and info about our model\n",
    "report_dict, y_predict = model.run(fit=False)\n"
   ]
  },
  {
   "cell_type": "markdown",
   "metadata": {},
   "source": [
    "Since our timer object for training will overwrite the total_time_min. We will re-calculate it again"
   ]
  },
  {
   "cell_type": "code",
   "execution_count": 8,
   "metadata": {},
   "outputs": [],
   "source": [
    "report_df = generate_report_df(timer, report_dict)\n",
    "report_df.to_csv(REPORT_FILE_CV, index=False)"
   ]
  },
  {
   "cell_type": "markdown",
   "metadata": {},
   "source": [
    "# Grid Search"
   ]
  },
  {
   "cell_type": "code",
   "execution_count": null,
   "metadata": {},
   "outputs": [],
   "source": []
  },
  {
   "cell_type": "code",
   "execution_count": 9,
   "metadata": {},
   "outputs": [
    {
     "name": "stdout",
     "output_type": "stream",
     "text": [
      "Fitting 5 folds for each of 16 candidates, totalling 80 fits\n"
     ]
    },
    {
     "name": "stderr",
     "output_type": "stream",
     "text": [
      "[Parallel(n_jobs=1)]: Using backend SequentialBackend with 1 concurrent workers.\n",
      "[Parallel(n_jobs=4)]: Using backend LokyBackend with 4 concurrent workers.\n",
      "[Parallel(n_jobs=4)]: Done   1 out of   1 | elapsed:   12.3s finished\n"
     ]
    },
    {
     "name": "stdout",
     "output_type": "stream",
     "text": [
      "Scorer score: 0.35066479151183483\n"
     ]
    },
    {
     "name": "stderr",
     "output_type": "stream",
     "text": [
      "[Parallel(n_jobs=4)]: Using backend LokyBackend with 4 concurrent workers.\n",
      "[Parallel(n_jobs=4)]: Done   1 out of   1 | elapsed:   11.7s finished\n"
     ]
    },
    {
     "name": "stdout",
     "output_type": "stream",
     "text": [
      "Scorer score: 0.32320922794539714\n"
     ]
    },
    {
     "name": "stderr",
     "output_type": "stream",
     "text": [
      "[Parallel(n_jobs=4)]: Using backend LokyBackend with 4 concurrent workers.\n",
      "[Parallel(n_jobs=4)]: Done   1 out of   1 | elapsed:    9.9s finished\n"
     ]
    },
    {
     "name": "stdout",
     "output_type": "stream",
     "text": [
      "Scorer score: 0.34211539386151024\n"
     ]
    },
    {
     "name": "stderr",
     "output_type": "stream",
     "text": [
      "[Parallel(n_jobs=4)]: Using backend LokyBackend with 4 concurrent workers.\n",
      "[Parallel(n_jobs=4)]: Done   1 out of   1 | elapsed:   10.8s finished\n"
     ]
    },
    {
     "name": "stdout",
     "output_type": "stream",
     "text": [
      "Scorer score: 0.331593376083387\n"
     ]
    },
    {
     "name": "stderr",
     "output_type": "stream",
     "text": [
      "[Parallel(n_jobs=4)]: Using backend LokyBackend with 4 concurrent workers.\n",
      "[Parallel(n_jobs=4)]: Done   1 out of   1 | elapsed:    9.8s finished\n"
     ]
    },
    {
     "name": "stdout",
     "output_type": "stream",
     "text": [
      "Scorer score: 0.3448787932559702\n"
     ]
    },
    {
     "name": "stderr",
     "output_type": "stream",
     "text": [
      "[Parallel(n_jobs=4)]: Using backend LokyBackend with 4 concurrent workers.\n",
      "[Parallel(n_jobs=4)]: Done   1 out of   1 | elapsed:   10.8s finished\n"
     ]
    },
    {
     "name": "stdout",
     "output_type": "stream",
     "text": [
      "Scorer score: 0.35066479151183483\n"
     ]
    },
    {
     "name": "stderr",
     "output_type": "stream",
     "text": [
      "[Parallel(n_jobs=4)]: Using backend LokyBackend with 4 concurrent workers.\n",
      "[Parallel(n_jobs=4)]: Done   1 out of   1 | elapsed:   11.1s finished\n"
     ]
    },
    {
     "name": "stdout",
     "output_type": "stream",
     "text": [
      "Scorer score: 0.32320922794539714\n"
     ]
    },
    {
     "name": "stderr",
     "output_type": "stream",
     "text": [
      "[Parallel(n_jobs=4)]: Using backend LokyBackend with 4 concurrent workers.\n",
      "[Parallel(n_jobs=4)]: Done   1 out of   1 | elapsed:    9.9s finished\n"
     ]
    },
    {
     "name": "stdout",
     "output_type": "stream",
     "text": [
      "Scorer score: 0.34211539386151024\n"
     ]
    },
    {
     "name": "stderr",
     "output_type": "stream",
     "text": [
      "[Parallel(n_jobs=4)]: Using backend LokyBackend with 4 concurrent workers.\n",
      "[Parallel(n_jobs=4)]: Done   1 out of   1 | elapsed:   10.7s finished\n"
     ]
    },
    {
     "name": "stdout",
     "output_type": "stream",
     "text": [
      "Scorer score: 0.331593376083387\n"
     ]
    },
    {
     "name": "stderr",
     "output_type": "stream",
     "text": [
      "[Parallel(n_jobs=4)]: Using backend LokyBackend with 4 concurrent workers.\n",
      "[Parallel(n_jobs=4)]: Done   1 out of   1 | elapsed:    9.8s finished\n"
     ]
    },
    {
     "name": "stdout",
     "output_type": "stream",
     "text": [
      "Scorer score: 0.3448787932559702\n"
     ]
    },
    {
     "name": "stderr",
     "output_type": "stream",
     "text": [
      "[Parallel(n_jobs=4)]: Using backend LokyBackend with 4 concurrent workers.\n",
      "[Parallel(n_jobs=4)]: Done   1 out of   1 | elapsed:   10.9s finished\n"
     ]
    },
    {
     "name": "stdout",
     "output_type": "stream",
     "text": [
      "Scorer score: 0.35066479151183483\n"
     ]
    },
    {
     "name": "stderr",
     "output_type": "stream",
     "text": [
      "[Parallel(n_jobs=4)]: Using backend LokyBackend with 4 concurrent workers.\n",
      "[Parallel(n_jobs=4)]: Done   1 out of   1 | elapsed:   10.8s finished\n"
     ]
    },
    {
     "name": "stdout",
     "output_type": "stream",
     "text": [
      "Scorer score: 0.32320922794539714\n"
     ]
    },
    {
     "name": "stderr",
     "output_type": "stream",
     "text": [
      "[Parallel(n_jobs=4)]: Using backend LokyBackend with 4 concurrent workers.\n",
      "[Parallel(n_jobs=4)]: Done   1 out of   1 | elapsed:    9.8s finished\n"
     ]
    },
    {
     "name": "stdout",
     "output_type": "stream",
     "text": [
      "Scorer score: 0.34211539386151024\n"
     ]
    },
    {
     "name": "stderr",
     "output_type": "stream",
     "text": [
      "[Parallel(n_jobs=4)]: Using backend LokyBackend with 4 concurrent workers.\n",
      "[Parallel(n_jobs=4)]: Done   1 out of   1 | elapsed:   10.8s finished\n"
     ]
    },
    {
     "name": "stdout",
     "output_type": "stream",
     "text": [
      "Scorer score: 0.331593376083387\n"
     ]
    },
    {
     "name": "stderr",
     "output_type": "stream",
     "text": [
      "[Parallel(n_jobs=4)]: Using backend LokyBackend with 4 concurrent workers.\n",
      "[Parallel(n_jobs=4)]: Done   1 out of   1 | elapsed:    9.8s finished\n"
     ]
    },
    {
     "name": "stdout",
     "output_type": "stream",
     "text": [
      "Scorer score: 0.3448787932559702\n"
     ]
    },
    {
     "name": "stderr",
     "output_type": "stream",
     "text": [
      "[Parallel(n_jobs=4)]: Using backend LokyBackend with 4 concurrent workers.\n",
      "[Parallel(n_jobs=4)]: Done   1 out of   1 | elapsed:   10.7s finished\n"
     ]
    },
    {
     "name": "stdout",
     "output_type": "stream",
     "text": [
      "Scorer score: 0.35066479151183483\n"
     ]
    },
    {
     "name": "stderr",
     "output_type": "stream",
     "text": [
      "[Parallel(n_jobs=4)]: Using backend LokyBackend with 4 concurrent workers.\n",
      "[Parallel(n_jobs=4)]: Done   1 out of   1 | elapsed:   10.8s finished\n"
     ]
    },
    {
     "name": "stdout",
     "output_type": "stream",
     "text": [
      "Scorer score: 0.32320922794539714\n"
     ]
    },
    {
     "name": "stderr",
     "output_type": "stream",
     "text": [
      "[Parallel(n_jobs=4)]: Using backend LokyBackend with 4 concurrent workers.\n",
      "[Parallel(n_jobs=4)]: Done   1 out of   1 | elapsed:    9.8s finished\n"
     ]
    },
    {
     "name": "stdout",
     "output_type": "stream",
     "text": [
      "Scorer score: 0.34211539386151024\n"
     ]
    },
    {
     "name": "stderr",
     "output_type": "stream",
     "text": [
      "[Parallel(n_jobs=4)]: Using backend LokyBackend with 4 concurrent workers.\n",
      "[Parallel(n_jobs=4)]: Done   1 out of   1 | elapsed:   10.7s finished\n"
     ]
    },
    {
     "name": "stdout",
     "output_type": "stream",
     "text": [
      "Scorer score: 0.331593376083387\n"
     ]
    },
    {
     "name": "stderr",
     "output_type": "stream",
     "text": [
      "[Parallel(n_jobs=4)]: Using backend LokyBackend with 4 concurrent workers.\n",
      "[Parallel(n_jobs=4)]: Done   1 out of   1 | elapsed:    9.6s finished\n"
     ]
    },
    {
     "name": "stdout",
     "output_type": "stream",
     "text": [
      "Scorer score: 0.3448787932559702\n"
     ]
    },
    {
     "name": "stderr",
     "output_type": "stream",
     "text": [
      "[Parallel(n_jobs=4)]: Using backend LokyBackend with 4 concurrent workers.\n",
      "[Parallel(n_jobs=4)]: Done   1 out of   1 | elapsed:   27.1s finished\n"
     ]
    },
    {
     "name": "stdout",
     "output_type": "stream",
     "text": [
      "Scorer score: 0.40334060496750207\n"
     ]
    },
    {
     "name": "stderr",
     "output_type": "stream",
     "text": [
      "[Parallel(n_jobs=4)]: Using backend LokyBackend with 4 concurrent workers.\n",
      "[Parallel(n_jobs=4)]: Done   1 out of   1 | elapsed:   28.1s finished\n"
     ]
    },
    {
     "name": "stdout",
     "output_type": "stream",
     "text": [
      "Scorer score: 0.3794411017776972\n"
     ]
    },
    {
     "name": "stderr",
     "output_type": "stream",
     "text": [
      "[Parallel(n_jobs=4)]: Using backend LokyBackend with 4 concurrent workers.\n",
      "[Parallel(n_jobs=4)]: Done   1 out of   1 | elapsed:   28.3s finished\n"
     ]
    },
    {
     "name": "stdout",
     "output_type": "stream",
     "text": [
      "Scorer score: 0.38734353509243535\n"
     ]
    },
    {
     "name": "stderr",
     "output_type": "stream",
     "text": [
      "[Parallel(n_jobs=4)]: Using backend LokyBackend with 4 concurrent workers.\n",
      "[Parallel(n_jobs=4)]: Done   1 out of   1 | elapsed:   28.0s finished\n"
     ]
    },
    {
     "name": "stdout",
     "output_type": "stream",
     "text": [
      "Scorer score: 0.3794063978270404\n"
     ]
    },
    {
     "name": "stderr",
     "output_type": "stream",
     "text": [
      "[Parallel(n_jobs=4)]: Using backend LokyBackend with 4 concurrent workers.\n",
      "[Parallel(n_jobs=4)]: Done   1 out of   1 | elapsed:   26.1s finished\n"
     ]
    },
    {
     "name": "stdout",
     "output_type": "stream",
     "text": [
      "Scorer score: 0.39687359319317433\n"
     ]
    },
    {
     "name": "stderr",
     "output_type": "stream",
     "text": [
      "[Parallel(n_jobs=4)]: Using backend LokyBackend with 4 concurrent workers.\n",
      "[Parallel(n_jobs=4)]: Done   1 out of   1 | elapsed:   27.1s finished\n"
     ]
    },
    {
     "name": "stdout",
     "output_type": "stream",
     "text": [
      "Scorer score: 0.40334060496750207\n"
     ]
    },
    {
     "name": "stderr",
     "output_type": "stream",
     "text": [
      "[Parallel(n_jobs=4)]: Using backend LokyBackend with 4 concurrent workers.\n",
      "[Parallel(n_jobs=4)]: Done   1 out of   1 | elapsed:   28.3s finished\n"
     ]
    },
    {
     "name": "stdout",
     "output_type": "stream",
     "text": [
      "Scorer score: 0.3794411017776972\n"
     ]
    },
    {
     "name": "stderr",
     "output_type": "stream",
     "text": [
      "[Parallel(n_jobs=4)]: Using backend LokyBackend with 4 concurrent workers.\n",
      "[Parallel(n_jobs=4)]: Done   1 out of   1 | elapsed:   28.0s finished\n"
     ]
    },
    {
     "name": "stdout",
     "output_type": "stream",
     "text": [
      "Scorer score: 0.38734353509243535\n"
     ]
    },
    {
     "name": "stderr",
     "output_type": "stream",
     "text": [
      "[Parallel(n_jobs=4)]: Using backend LokyBackend with 4 concurrent workers.\n",
      "[Parallel(n_jobs=4)]: Done   1 out of   1 | elapsed:   28.1s finished\n"
     ]
    },
    {
     "name": "stdout",
     "output_type": "stream",
     "text": [
      "Scorer score: 0.3794063978270404\n"
     ]
    },
    {
     "name": "stderr",
     "output_type": "stream",
     "text": [
      "[Parallel(n_jobs=4)]: Using backend LokyBackend with 4 concurrent workers.\n",
      "[Parallel(n_jobs=4)]: Done   1 out of   1 | elapsed:   26.1s finished\n"
     ]
    },
    {
     "name": "stdout",
     "output_type": "stream",
     "text": [
      "Scorer score: 0.39687359319317433\n"
     ]
    },
    {
     "name": "stderr",
     "output_type": "stream",
     "text": [
      "[Parallel(n_jobs=4)]: Using backend LokyBackend with 4 concurrent workers.\n",
      "[Parallel(n_jobs=4)]: Done   1 out of   1 | elapsed:   27.4s finished\n"
     ]
    },
    {
     "name": "stdout",
     "output_type": "stream",
     "text": [
      "Scorer score: 0.40334060496750207\n"
     ]
    },
    {
     "name": "stderr",
     "output_type": "stream",
     "text": [
      "[Parallel(n_jobs=4)]: Using backend LokyBackend with 4 concurrent workers.\n",
      "[Parallel(n_jobs=4)]: Done   1 out of   1 | elapsed:   28.0s finished\n"
     ]
    },
    {
     "name": "stdout",
     "output_type": "stream",
     "text": [
      "Scorer score: 0.3794411017776972\n"
     ]
    },
    {
     "name": "stderr",
     "output_type": "stream",
     "text": [
      "[Parallel(n_jobs=4)]: Using backend LokyBackend with 4 concurrent workers.\n",
      "[Parallel(n_jobs=4)]: Done   1 out of   1 | elapsed:   28.1s finished\n"
     ]
    },
    {
     "name": "stdout",
     "output_type": "stream",
     "text": [
      "Scorer score: 0.38734353509243535\n"
     ]
    },
    {
     "name": "stderr",
     "output_type": "stream",
     "text": [
      "[Parallel(n_jobs=4)]: Using backend LokyBackend with 4 concurrent workers.\n",
      "[Parallel(n_jobs=4)]: Done   1 out of   1 | elapsed:   28.0s finished\n"
     ]
    },
    {
     "name": "stdout",
     "output_type": "stream",
     "text": [
      "Scorer score: 0.3794063978270404\n"
     ]
    },
    {
     "name": "stderr",
     "output_type": "stream",
     "text": [
      "[Parallel(n_jobs=4)]: Using backend LokyBackend with 4 concurrent workers.\n",
      "[Parallel(n_jobs=4)]: Done   1 out of   1 | elapsed:   26.5s finished\n"
     ]
    },
    {
     "name": "stdout",
     "output_type": "stream",
     "text": [
      "Scorer score: 0.39687359319317433\n"
     ]
    },
    {
     "name": "stderr",
     "output_type": "stream",
     "text": [
      "[Parallel(n_jobs=4)]: Using backend LokyBackend with 4 concurrent workers.\n",
      "[Parallel(n_jobs=4)]: Done   1 out of   1 | elapsed:   27.0s finished\n"
     ]
    },
    {
     "name": "stdout",
     "output_type": "stream",
     "text": [
      "Scorer score: 0.40334060496750207\n"
     ]
    },
    {
     "name": "stderr",
     "output_type": "stream",
     "text": [
      "[Parallel(n_jobs=4)]: Using backend LokyBackend with 4 concurrent workers.\n",
      "[Parallel(n_jobs=4)]: Done   1 out of   1 | elapsed:   28.5s finished\n"
     ]
    },
    {
     "name": "stdout",
     "output_type": "stream",
     "text": [
      "Scorer score: 0.3794411017776972\n"
     ]
    },
    {
     "name": "stderr",
     "output_type": "stream",
     "text": [
      "[Parallel(n_jobs=4)]: Using backend LokyBackend with 4 concurrent workers.\n",
      "[Parallel(n_jobs=4)]: Done   1 out of   1 | elapsed:   28.4s finished\n"
     ]
    },
    {
     "name": "stdout",
     "output_type": "stream",
     "text": [
      "Scorer score: 0.38734353509243535\n"
     ]
    },
    {
     "name": "stderr",
     "output_type": "stream",
     "text": [
      "[Parallel(n_jobs=4)]: Using backend LokyBackend with 4 concurrent workers.\n",
      "[Parallel(n_jobs=4)]: Done   1 out of   1 | elapsed:   28.2s finished\n"
     ]
    },
    {
     "name": "stdout",
     "output_type": "stream",
     "text": [
      "Scorer score: 0.3794063978270404\n"
     ]
    },
    {
     "name": "stderr",
     "output_type": "stream",
     "text": [
      "[Parallel(n_jobs=4)]: Using backend LokyBackend with 4 concurrent workers.\n",
      "[Parallel(n_jobs=4)]: Done   1 out of   1 | elapsed:   27.2s finished\n"
     ]
    },
    {
     "name": "stdout",
     "output_type": "stream",
     "text": [
      "Scorer score: 0.39687359319317433\n"
     ]
    },
    {
     "name": "stderr",
     "output_type": "stream",
     "text": [
      "[Parallel(n_jobs=4)]: Using backend LokyBackend with 4 concurrent workers.\n",
      "[Parallel(n_jobs=4)]: Done   1 out of   1 | elapsed:  1.6min finished\n"
     ]
    },
    {
     "name": "stdout",
     "output_type": "stream",
     "text": [
      "Scorer score: 0.4704006315789262\n"
     ]
    },
    {
     "name": "stderr",
     "output_type": "stream",
     "text": [
      "[Parallel(n_jobs=4)]: Using backend LokyBackend with 4 concurrent workers.\n",
      "[Parallel(n_jobs=4)]: Done   1 out of   1 | elapsed:  1.4min finished\n"
     ]
    },
    {
     "name": "stdout",
     "output_type": "stream",
     "text": [
      "Scorer score: 0.45151937592980224\n"
     ]
    },
    {
     "name": "stderr",
     "output_type": "stream",
     "text": [
      "[Parallel(n_jobs=4)]: Using backend LokyBackend with 4 concurrent workers.\n",
      "[Parallel(n_jobs=4)]: Done   1 out of   1 | elapsed:  1.4min finished\n"
     ]
    },
    {
     "name": "stdout",
     "output_type": "stream",
     "text": [
      "Scorer score: 0.4558126783850943\n"
     ]
    },
    {
     "name": "stderr",
     "output_type": "stream",
     "text": [
      "[Parallel(n_jobs=4)]: Using backend LokyBackend with 4 concurrent workers.\n",
      "[Parallel(n_jobs=4)]: Done   1 out of   1 | elapsed:  1.4min finished\n"
     ]
    },
    {
     "name": "stdout",
     "output_type": "stream",
     "text": [
      "Scorer score: 0.4452054620548877\n"
     ]
    },
    {
     "name": "stderr",
     "output_type": "stream",
     "text": [
      "[Parallel(n_jobs=4)]: Using backend LokyBackend with 4 concurrent workers.\n",
      "[Parallel(n_jobs=4)]: Done   1 out of   1 | elapsed:  1.5min finished\n"
     ]
    },
    {
     "name": "stdout",
     "output_type": "stream",
     "text": [
      "Scorer score: 0.44694255372039987\n"
     ]
    },
    {
     "name": "stderr",
     "output_type": "stream",
     "text": [
      "[Parallel(n_jobs=4)]: Using backend LokyBackend with 4 concurrent workers.\n",
      "[Parallel(n_jobs=4)]: Done   1 out of   1 | elapsed:  1.6min finished\n"
     ]
    },
    {
     "name": "stdout",
     "output_type": "stream",
     "text": [
      "Scorer score: 0.4704006315789262\n"
     ]
    },
    {
     "name": "stderr",
     "output_type": "stream",
     "text": [
      "[Parallel(n_jobs=4)]: Using backend LokyBackend with 4 concurrent workers.\n",
      "[Parallel(n_jobs=4)]: Done   1 out of   1 | elapsed:  1.4min finished\n"
     ]
    },
    {
     "name": "stdout",
     "output_type": "stream",
     "text": [
      "Scorer score: 0.45151937592980224\n"
     ]
    },
    {
     "name": "stderr",
     "output_type": "stream",
     "text": [
      "[Parallel(n_jobs=4)]: Using backend LokyBackend with 4 concurrent workers.\n",
      "[Parallel(n_jobs=4)]: Done   1 out of   1 | elapsed:  1.4min finished\n"
     ]
    },
    {
     "name": "stdout",
     "output_type": "stream",
     "text": [
      "Scorer score: 0.4558126783850943\n"
     ]
    },
    {
     "name": "stderr",
     "output_type": "stream",
     "text": [
      "[Parallel(n_jobs=4)]: Using backend LokyBackend with 4 concurrent workers.\n",
      "[Parallel(n_jobs=4)]: Done   1 out of   1 | elapsed:  1.4min finished\n"
     ]
    },
    {
     "name": "stdout",
     "output_type": "stream",
     "text": [
      "Scorer score: 0.4452054620548877\n"
     ]
    },
    {
     "name": "stderr",
     "output_type": "stream",
     "text": [
      "[Parallel(n_jobs=4)]: Using backend LokyBackend with 4 concurrent workers.\n",
      "[Parallel(n_jobs=4)]: Done   1 out of   1 | elapsed:  1.6min finished\n"
     ]
    },
    {
     "name": "stdout",
     "output_type": "stream",
     "text": [
      "Scorer score: 0.44694255372039987\n"
     ]
    },
    {
     "name": "stderr",
     "output_type": "stream",
     "text": [
      "[Parallel(n_jobs=4)]: Using backend LokyBackend with 4 concurrent workers.\n",
      "[Parallel(n_jobs=4)]: Done   1 out of   1 | elapsed:  1.6min finished\n"
     ]
    },
    {
     "name": "stdout",
     "output_type": "stream",
     "text": [
      "Scorer score: 0.4704006315789262\n"
     ]
    },
    {
     "name": "stderr",
     "output_type": "stream",
     "text": [
      "[Parallel(n_jobs=4)]: Using backend LokyBackend with 4 concurrent workers.\n",
      "[Parallel(n_jobs=4)]: Done   1 out of   1 | elapsed:  1.4min finished\n"
     ]
    },
    {
     "name": "stdout",
     "output_type": "stream",
     "text": [
      "Scorer score: 0.45151937592980224\n"
     ]
    },
    {
     "name": "stderr",
     "output_type": "stream",
     "text": [
      "[Parallel(n_jobs=4)]: Using backend LokyBackend with 4 concurrent workers.\n",
      "[Parallel(n_jobs=4)]: Done   1 out of   1 | elapsed:  1.4min finished\n"
     ]
    },
    {
     "name": "stdout",
     "output_type": "stream",
     "text": [
      "Scorer score: 0.4558126783850943\n"
     ]
    },
    {
     "name": "stderr",
     "output_type": "stream",
     "text": [
      "[Parallel(n_jobs=4)]: Using backend LokyBackend with 4 concurrent workers.\n",
      "[Parallel(n_jobs=4)]: Done   1 out of   1 | elapsed:  1.4min finished\n"
     ]
    },
    {
     "name": "stdout",
     "output_type": "stream",
     "text": [
      "Scorer score: 0.4452054620548877\n"
     ]
    },
    {
     "name": "stderr",
     "output_type": "stream",
     "text": [
      "[Parallel(n_jobs=4)]: Using backend LokyBackend with 4 concurrent workers.\n",
      "[Parallel(n_jobs=4)]: Done   1 out of   1 | elapsed:  1.5min finished\n"
     ]
    },
    {
     "name": "stdout",
     "output_type": "stream",
     "text": [
      "Scorer score: 0.44694255372039987\n"
     ]
    },
    {
     "name": "stderr",
     "output_type": "stream",
     "text": [
      "[Parallel(n_jobs=4)]: Using backend LokyBackend with 4 concurrent workers.\n",
      "[Parallel(n_jobs=4)]: Done   1 out of   1 | elapsed:  1.6min finished\n"
     ]
    },
    {
     "name": "stdout",
     "output_type": "stream",
     "text": [
      "Scorer score: 0.4704006315789262\n"
     ]
    },
    {
     "name": "stderr",
     "output_type": "stream",
     "text": [
      "[Parallel(n_jobs=4)]: Using backend LokyBackend with 4 concurrent workers.\n",
      "[Parallel(n_jobs=4)]: Done   1 out of   1 | elapsed:  1.5min finished\n"
     ]
    },
    {
     "name": "stdout",
     "output_type": "stream",
     "text": [
      "Scorer score: 0.45151937592980224\n"
     ]
    },
    {
     "name": "stderr",
     "output_type": "stream",
     "text": [
      "[Parallel(n_jobs=4)]: Using backend LokyBackend with 4 concurrent workers.\n",
      "[Parallel(n_jobs=4)]: Done   1 out of   1 | elapsed:  1.3min finished\n"
     ]
    },
    {
     "name": "stdout",
     "output_type": "stream",
     "text": [
      "Scorer score: 0.4558126783850943\n"
     ]
    },
    {
     "name": "stderr",
     "output_type": "stream",
     "text": [
      "[Parallel(n_jobs=4)]: Using backend LokyBackend with 4 concurrent workers.\n",
      "[Parallel(n_jobs=4)]: Done   1 out of   1 | elapsed:  1.4min finished\n"
     ]
    },
    {
     "name": "stdout",
     "output_type": "stream",
     "text": [
      "Scorer score: 0.4452054620548877\n"
     ]
    },
    {
     "name": "stderr",
     "output_type": "stream",
     "text": [
      "[Parallel(n_jobs=4)]: Using backend LokyBackend with 4 concurrent workers.\n",
      "[Parallel(n_jobs=4)]: Done   1 out of   1 | elapsed:  1.6min finished\n"
     ]
    },
    {
     "name": "stdout",
     "output_type": "stream",
     "text": [
      "Scorer score: 0.44694255372039987\n"
     ]
    },
    {
     "name": "stderr",
     "output_type": "stream",
     "text": [
      "[Parallel(n_jobs=4)]: Using backend LokyBackend with 4 concurrent workers.\n",
      "[Parallel(n_jobs=4)]: Done   1 out of   1 | elapsed:  1.8min finished\n"
     ]
    },
    {
     "name": "stdout",
     "output_type": "stream",
     "text": [
      "Scorer score: 0.45826070865748264\n"
     ]
    },
    {
     "name": "stderr",
     "output_type": "stream",
     "text": [
      "[Parallel(n_jobs=4)]: Using backend LokyBackend with 4 concurrent workers.\n",
      "[Parallel(n_jobs=4)]: Done   1 out of   1 | elapsed:  1.8min finished\n"
     ]
    },
    {
     "name": "stdout",
     "output_type": "stream",
     "text": [
      "Scorer score: 0.45434092834462336\n"
     ]
    },
    {
     "name": "stderr",
     "output_type": "stream",
     "text": [
      "[Parallel(n_jobs=4)]: Using backend LokyBackend with 4 concurrent workers.\n",
      "[Parallel(n_jobs=4)]: Done   1 out of   1 | elapsed:  1.9min finished\n"
     ]
    },
    {
     "name": "stdout",
     "output_type": "stream",
     "text": [
      "Scorer score: 0.4584674977593085\n"
     ]
    },
    {
     "name": "stderr",
     "output_type": "stream",
     "text": [
      "[Parallel(n_jobs=4)]: Using backend LokyBackend with 4 concurrent workers.\n",
      "[Parallel(n_jobs=4)]: Done   1 out of   1 | elapsed:  1.8min finished\n"
     ]
    },
    {
     "name": "stdout",
     "output_type": "stream",
     "text": [
      "Scorer score: 0.443526681446116\n"
     ]
    },
    {
     "name": "stderr",
     "output_type": "stream",
     "text": [
      "[Parallel(n_jobs=4)]: Using backend LokyBackend with 4 concurrent workers.\n",
      "[Parallel(n_jobs=4)]: Done   1 out of   1 | elapsed:  1.8min finished\n"
     ]
    },
    {
     "name": "stdout",
     "output_type": "stream",
     "text": [
      "Scorer score: 0.44151993940224377\n"
     ]
    },
    {
     "name": "stderr",
     "output_type": "stream",
     "text": [
      "[Parallel(n_jobs=4)]: Using backend LokyBackend with 4 concurrent workers.\n",
      "[Parallel(n_jobs=4)]: Done   1 out of   1 | elapsed:  3.7min finished\n"
     ]
    },
    {
     "name": "stdout",
     "output_type": "stream",
     "text": [
      "Scorer score: 0.45890770011123905\n"
     ]
    },
    {
     "name": "stderr",
     "output_type": "stream",
     "text": [
      "[Parallel(n_jobs=4)]: Using backend LokyBackend with 4 concurrent workers.\n",
      "[Parallel(n_jobs=4)]: Done   1 out of   1 | elapsed:  3.7min finished\n"
     ]
    },
    {
     "name": "stdout",
     "output_type": "stream",
     "text": [
      "Scorer score: 0.45204368586282395\n"
     ]
    },
    {
     "name": "stderr",
     "output_type": "stream",
     "text": [
      "[Parallel(n_jobs=4)]: Using backend LokyBackend with 4 concurrent workers.\n",
      "[Parallel(n_jobs=4)]: Done   1 out of   1 | elapsed:  3.7min finished\n"
     ]
    },
    {
     "name": "stdout",
     "output_type": "stream",
     "text": [
      "Scorer score: 0.4594570673442911\n"
     ]
    },
    {
     "name": "stderr",
     "output_type": "stream",
     "text": [
      "[Parallel(n_jobs=4)]: Using backend LokyBackend with 4 concurrent workers.\n",
      "[Parallel(n_jobs=4)]: Done   1 out of   1 | elapsed:  3.7min finished\n"
     ]
    },
    {
     "name": "stdout",
     "output_type": "stream",
     "text": [
      "Scorer score: 0.44297987270369354\n"
     ]
    },
    {
     "name": "stderr",
     "output_type": "stream",
     "text": [
      "[Parallel(n_jobs=4)]: Using backend LokyBackend with 4 concurrent workers.\n",
      "[Parallel(n_jobs=4)]: Done   1 out of   1 | elapsed:  3.7min finished\n"
     ]
    },
    {
     "name": "stdout",
     "output_type": "stream",
     "text": [
      "Scorer score: 0.4437949558918654\n"
     ]
    },
    {
     "name": "stderr",
     "output_type": "stream",
     "text": [
      "[Parallel(n_jobs=4)]: Using backend LokyBackend with 4 concurrent workers.\n",
      "[Parallel(n_jobs=4)]: Done   1 out of   1 | elapsed:  4.4min finished\n"
     ]
    },
    {
     "name": "stdout",
     "output_type": "stream",
     "text": [
      "Scorer score: 0.4591783951805215\n"
     ]
    },
    {
     "name": "stderr",
     "output_type": "stream",
     "text": [
      "[Parallel(n_jobs=4)]: Using backend LokyBackend with 4 concurrent workers.\n",
      "[Parallel(n_jobs=4)]: Done   1 out of   1 | elapsed:  4.3min finished\n"
     ]
    },
    {
     "name": "stdout",
     "output_type": "stream",
     "text": [
      "Scorer score: 0.4513899130247686\n"
     ]
    },
    {
     "name": "stderr",
     "output_type": "stream",
     "text": [
      "[Parallel(n_jobs=4)]: Using backend LokyBackend with 4 concurrent workers.\n",
      "[Parallel(n_jobs=4)]: Done   1 out of   1 | elapsed:  4.5min finished\n"
     ]
    },
    {
     "name": "stdout",
     "output_type": "stream",
     "text": [
      "Scorer score: 0.4592657673790641\n"
     ]
    },
    {
     "name": "stderr",
     "output_type": "stream",
     "text": [
      "[Parallel(n_jobs=4)]: Using backend LokyBackend with 4 concurrent workers.\n",
      "[Parallel(n_jobs=4)]: Done   1 out of   1 | elapsed:  4.5min finished\n"
     ]
    },
    {
     "name": "stdout",
     "output_type": "stream",
     "text": [
      "Scorer score: 0.44297987270369354\n"
     ]
    },
    {
     "name": "stderr",
     "output_type": "stream",
     "text": [
      "[Parallel(n_jobs=4)]: Using backend LokyBackend with 4 concurrent workers.\n",
      "[Parallel(n_jobs=4)]: Done   1 out of   1 | elapsed:  4.5min finished\n"
     ]
    },
    {
     "name": "stdout",
     "output_type": "stream",
     "text": [
      "Scorer score: 0.44370855875060866\n"
     ]
    },
    {
     "name": "stderr",
     "output_type": "stream",
     "text": [
      "[Parallel(n_jobs=4)]: Using backend LokyBackend with 4 concurrent workers.\n",
      "[Parallel(n_jobs=4)]: Done   1 out of   1 | elapsed:  4.4min finished\n"
     ]
    },
    {
     "name": "stdout",
     "output_type": "stream",
     "text": [
      "Scorer score: 0.4591783951805215\n"
     ]
    },
    {
     "name": "stderr",
     "output_type": "stream",
     "text": [
      "[Parallel(n_jobs=4)]: Using backend LokyBackend with 4 concurrent workers.\n",
      "[Parallel(n_jobs=4)]: Done   1 out of   1 | elapsed:  4.4min finished\n"
     ]
    },
    {
     "name": "stdout",
     "output_type": "stream",
     "text": [
      "Scorer score: 0.4513899130247686\n"
     ]
    },
    {
     "name": "stderr",
     "output_type": "stream",
     "text": [
      "[Parallel(n_jobs=4)]: Using backend LokyBackend with 4 concurrent workers.\n",
      "[Parallel(n_jobs=4)]: Done   1 out of   1 | elapsed:  4.6min finished\n"
     ]
    },
    {
     "name": "stdout",
     "output_type": "stream",
     "text": [
      "Scorer score: 0.4592657673790641\n"
     ]
    },
    {
     "name": "stderr",
     "output_type": "stream",
     "text": [
      "[Parallel(n_jobs=4)]: Using backend LokyBackend with 4 concurrent workers.\n",
      "[Parallel(n_jobs=4)]: Done   1 out of   1 | elapsed:  4.4min finished\n"
     ]
    },
    {
     "name": "stdout",
     "output_type": "stream",
     "text": [
      "Scorer score: 0.44297987270369354\n"
     ]
    },
    {
     "name": "stderr",
     "output_type": "stream",
     "text": [
      "[Parallel(n_jobs=4)]: Using backend LokyBackend with 4 concurrent workers.\n",
      "[Parallel(n_jobs=4)]: Done   1 out of   1 | elapsed:  4.4min finished\n"
     ]
    },
    {
     "name": "stdout",
     "output_type": "stream",
     "text": [
      "Scorer score: 0.44370855875060866\n"
     ]
    },
    {
     "name": "stderr",
     "output_type": "stream",
     "text": [
      "[Parallel(n_jobs=1)]: Done  80 out of  80 | elapsed: 116.6min finished\n",
      "[Parallel(n_jobs=4)]: Using backend LokyBackend with 4 concurrent workers.\n",
      "[Parallel(n_jobs=4)]: Done   1 out of   1 | elapsed:  2.3min finished\n"
     ]
    }
   ],
   "source": [
    "from sklearn.model_selection import RandomizedSearchCV\n",
    "\n",
    "\n",
    "def custom_scoring_function_gs_cv(y, y_predict):\n",
    "    \"\"\"\n",
    "    Calculate the harmonic mean of recall for minority classes and precision for majority class\n",
    "    \n",
    "    For some reason the labeling of classes is different from LogisticRegressionCV to GridSearch. So we have to duplicate the funcation\n",
    "    \"\"\"\n",
    "#     log.info(f'y {y.shape}')\n",
    "#     log.info(f'y_predict {y_predict.shape}')\n",
    "#     log.info(f'y classes {np.unique(y)}')\n",
    "    cr = classification_report(y, y_predict, output_dict=True)\n",
    "#     log.debug(f'cr {cr}')\n",
    "    \n",
    "    recall1 = cr[\"1\"][\"recall\"]\n",
    "    recall2 = cr[\"2\"][\"recall\"]\n",
    "    recall3 = cr[\"3\"][\"recall\"]\n",
    "    recall4 = cr[\"4\"][\"recall\"]\n",
    "    precision5 = cr[\"5\"][\"precision\"]\n",
    "    \n",
    "    if recall1 > 0 and recall2 > 0 and recall3 > 0 and recall4 > 0 and precision5 > 0:\n",
    "        score = 5 / (1/recall1 +\n",
    "                     1/recall2 +\n",
    "                     1/recall3 +\n",
    "                     1/recall4 +\n",
    "                     1/precision5)\n",
    "    else:\n",
    "        score = 0\n",
    "        \n",
    "    print(f'Scorer score: {score}')\n",
    "    return score\n",
    "\n",
    "\n",
    "\n",
    "\n",
    "\n",
    "\n",
    "lr_grid = LogisticRegression(random_state=RSTATE, \n",
    "                        solver='lbfgs',\n",
    "                        multi_class='auto',\n",
    "                        class_weight='balanced',\n",
    "                        n_jobs=N_JOBS,\n",
    "                        verbose=1)\n",
    "\n",
    "params = {\n",
    "    \"max_iter\": [100, 200, 400, 800],\n",
    "    \"C\": [0.001, 0.01, 0.1, 1.0]\n",
    "         }\n",
    "\n",
    "\n",
    "\n",
    "my_scorer_grid = make_scorer(custom_scoring_function_gs_cv, greater_is_better=True)\n",
    "\n",
    "# 5 fold cross validation\n",
    "cv = GridSearchCV(lr_grid, \n",
    "                  cv=CV, \n",
    "                  verbose=1, \n",
    "                  param_grid=params,\n",
    "                 scoring=my_scorer_grid)\n",
    "\n",
    "timer_grid = tu.Timer()\n",
    "timer_grid.start_timer(tu.Keys.TRAIN_TIME_MIN)\n",
    "cv.fit(X_train, y_train)\n",
    "timer_grid.end_timer(tu.Keys.TRAIN_TIME_MIN)\n",
    "\n",
    "\n",
    "model = mu.Model(cv,\n",
    "              X_train,\n",
    "              y_train,\n",
    "              X_test,\n",
    "              y_test,\n",
    "              name=\"LRB_GSCV\",\n",
    "              class_column=\"star_rating\",\n",
    "              description=DESCRIPTION,\n",
    "              file=DATA_FILE,\n",
    "              parameters={\n",
    "                        \"random_state\": RSTATE, \n",
    "                        \"solver\": 'lbfgs',\n",
    "                        \"multi_class\": 'auto',\n",
    "                        \"class_weight\": 'balanced',\n",
    "                        \"n_jobs\": N_JOBS,\n",
    "                        \"verbose\": 1,\n",
    "                          \"socring\": custom_scoring_function_gs_cv.__name__\n",
    "                    }\n",
    "              )\n",
    "report_dict_grid, y_predict_grid = model.run(fit=False)\n",
    "\n",
    "\n"
   ]
  },
  {
   "cell_type": "code",
   "execution_count": 10,
   "metadata": {},
   "outputs": [],
   "source": [
    "report_df = report_df.append(generate_report_df(timer_grid, report_dict_grid), ignore_index=True)\n",
    "report_df.to_csv(REPORT_FILE_CV, index=False)"
   ]
  },
  {
   "cell_type": "markdown",
   "metadata": {},
   "source": [
    "# Load Our Report so We can analyze results"
   ]
  },
  {
   "cell_type": "code",
   "execution_count": 11,
   "metadata": {},
   "outputs": [
    {
     "data": {
      "text/html": [
       "<div>\n",
       "<style scoped>\n",
       "    .dataframe tbody tr th:only-of-type {\n",
       "        vertical-align: middle;\n",
       "    }\n",
       "\n",
       "    .dataframe tbody tr th {\n",
       "        vertical-align: top;\n",
       "    }\n",
       "\n",
       "    .dataframe thead th {\n",
       "        text-align: right;\n",
       "    }\n",
       "</style>\n",
       "<table border=\"1\" class=\"dataframe\">\n",
       "  <thead>\n",
       "    <tr style=\"text-align: right;\">\n",
       "      <th></th>\n",
       "      <th>model_name</th>\n",
       "      <th>description</th>\n",
       "      <th>file</th>\n",
       "      <th>train_examples</th>\n",
       "      <th>train_features</th>\n",
       "      <th>test_examples</th>\n",
       "      <th>test_features</th>\n",
       "      <th>param</th>\n",
       "      <th>model_file</th>\n",
       "      <th>status</th>\n",
       "      <th>...</th>\n",
       "      <th>has_lda</th>\n",
       "      <th>lda_str</th>\n",
       "      <th>has_sampling</th>\n",
       "      <th>sampling_type</th>\n",
       "      <th>label_column</th>\n",
       "      <th>feature_summary</th>\n",
       "      <th>feature_summary_sampling</th>\n",
       "      <th>file_load_time_min</th>\n",
       "      <th>smote_time_min</th>\n",
       "      <th>config_file</th>\n",
       "    </tr>\n",
       "  </thead>\n",
       "  <tbody>\n",
       "    <tr>\n",
       "      <th>0</th>\n",
       "      <td>LRB</td>\n",
       "      <td>review_body-tfidf-df_none-ngram13-49784-4000-nolda-sampling_none-LRB-star_rating</td>\n",
       "      <td>review_body-tfidf-df_none-ngram13-49784-4000-nolda.csv</td>\n",
       "      <td>37338</td>\n",
       "      <td>4000</td>\n",
       "      <td>12446</td>\n",
       "      <td>4000</td>\n",
       "      <td>{\"n_jobs\": 6, \"c\": 1, \"class_weight\": \"balanced\", \"max_iter\": 100, \"verbose\": 1}</td>\n",
       "      <td>../models/review_body-tfidf-df_none-ngram13-49784-4000-nolda-sampling_none-LRB-star_rating.jbl</td>\n",
       "      <td>success</td>\n",
       "      <td>...</td>\n",
       "      <td>False</td>\n",
       "      <td>nolda</td>\n",
       "      <td>False</td>\n",
       "      <td>sampling_none</td>\n",
       "      <td>star_rating</td>\n",
       "      <td>tfidf-ngram13-4000</td>\n",
       "      <td>tfidf-ngram13-sampling_none</td>\n",
       "      <td>0.47</td>\n",
       "      <td>0.0</td>\n",
       "      <td>../config/2019-11-01-run_classifiers-50k.csv</td>\n",
       "    </tr>\n",
       "    <tr>\n",
       "      <th>1</th>\n",
       "      <td>LRB_GSCV</td>\n",
       "      <td>review_body-tfidf-df_none-ngram13-49784-4000-nolda-nosmote-LRB_GSCV-star_rating</td>\n",
       "      <td>../dataset/feature_files/review_body-tfidf-df_none-ngram13-49784-4000-nolda.csv</td>\n",
       "      <td>37338</td>\n",
       "      <td>4000</td>\n",
       "      <td>12446</td>\n",
       "      <td>4000</td>\n",
       "      <td>{\"random_state\": 1, \"solver\": \"lbfgs\", \"multi_class\": \"auto\", \"class_weight\": \"balanced\", \"n_jobs\": 4, \"verbose\": 1, \"socring\": \"custom_scoring_fu...</td>\n",
       "      <td>../models/review_body-tfidf-df_none-ngram13-49784-4000-nolda-nosmote-LRB_GSCV-star_rating.jbl</td>\n",
       "      <td>success</td>\n",
       "      <td>...</td>\n",
       "      <td>False</td>\n",
       "      <td>nolda</td>\n",
       "      <td>True</td>\n",
       "      <td>nosmote</td>\n",
       "      <td>star_rating</td>\n",
       "      <td>tfidf-ngram13-4000</td>\n",
       "      <td>tfidf-ngram13-nosmote</td>\n",
       "      <td>NaN</td>\n",
       "      <td>NaN</td>\n",
       "      <td>NaN</td>\n",
       "    </tr>\n",
       "    <tr>\n",
       "      <th>0</th>\n",
       "      <td>LRB_LRCV</td>\n",
       "      <td>review_body-tfidf-df_none-ngram13-49784-4000-nolda-nosmote-LRB_LRCV-star_rating</td>\n",
       "      <td>../dataset/feature_files/review_body-tfidf-df_none-ngram13-49784-4000-nolda.csv</td>\n",
       "      <td>37338</td>\n",
       "      <td>4000</td>\n",
       "      <td>12446</td>\n",
       "      <td>4000</td>\n",
       "      <td>{\"cv\": 5, \"random_state\": 1, \"solver\": \"lbfgs\", \"multi_class\": \"multimonial\", \"class_weight\": \"balanced\", \"n_jobs\": 4, \"verbose\": 1, \"scoring\": \"c...</td>\n",
       "      <td>../models/review_body-tfidf-df_none-ngram13-49784-4000-nolda-nosmote-LRB_LRCV-star_rating.jbl</td>\n",
       "      <td>success</td>\n",
       "      <td>...</td>\n",
       "      <td>False</td>\n",
       "      <td>nolda</td>\n",
       "      <td>True</td>\n",
       "      <td>nosmote</td>\n",
       "      <td>star_rating</td>\n",
       "      <td>tfidf-ngram13-4000</td>\n",
       "      <td>tfidf-ngram13-nosmote</td>\n",
       "      <td>NaN</td>\n",
       "      <td>NaN</td>\n",
       "      <td>NaN</td>\n",
       "    </tr>\n",
       "  </tbody>\n",
       "</table>\n",
       "<p>3 rows × 62 columns</p>\n",
       "</div>"
      ],
      "text/plain": [
       "  model_name  \\\n",
       "0        LRB   \n",
       "1   LRB_GSCV   \n",
       "0   LRB_LRCV   \n",
       "\n",
       "                                                                        description  \\\n",
       "0  review_body-tfidf-df_none-ngram13-49784-4000-nolda-sampling_none-LRB-star_rating   \n",
       "1   review_body-tfidf-df_none-ngram13-49784-4000-nolda-nosmote-LRB_GSCV-star_rating   \n",
       "0   review_body-tfidf-df_none-ngram13-49784-4000-nolda-nosmote-LRB_LRCV-star_rating   \n",
       "\n",
       "                                                                              file  \\\n",
       "0                           review_body-tfidf-df_none-ngram13-49784-4000-nolda.csv   \n",
       "1  ../dataset/feature_files/review_body-tfidf-df_none-ngram13-49784-4000-nolda.csv   \n",
       "0  ../dataset/feature_files/review_body-tfidf-df_none-ngram13-49784-4000-nolda.csv   \n",
       "\n",
       "   train_examples  train_features  test_examples  test_features  \\\n",
       "0           37338            4000          12446           4000   \n",
       "1           37338            4000          12446           4000   \n",
       "0           37338            4000          12446           4000   \n",
       "\n",
       "                                                                                                                                                   param  \\\n",
       "0                                                                       {\"n_jobs\": 6, \"c\": 1, \"class_weight\": \"balanced\", \"max_iter\": 100, \"verbose\": 1}   \n",
       "1  {\"random_state\": 1, \"solver\": \"lbfgs\", \"multi_class\": \"auto\", \"class_weight\": \"balanced\", \"n_jobs\": 4, \"verbose\": 1, \"socring\": \"custom_scoring_fu...   \n",
       "0  {\"cv\": 5, \"random_state\": 1, \"solver\": \"lbfgs\", \"multi_class\": \"multimonial\", \"class_weight\": \"balanced\", \"n_jobs\": 4, \"verbose\": 1, \"scoring\": \"c...   \n",
       "\n",
       "                                                                                       model_file  \\\n",
       "0  ../models/review_body-tfidf-df_none-ngram13-49784-4000-nolda-sampling_none-LRB-star_rating.jbl   \n",
       "1   ../models/review_body-tfidf-df_none-ngram13-49784-4000-nolda-nosmote-LRB_GSCV-star_rating.jbl   \n",
       "0   ../models/review_body-tfidf-df_none-ngram13-49784-4000-nolda-nosmote-LRB_LRCV-star_rating.jbl   \n",
       "\n",
       "    status  ... has_lda  lda_str  has_sampling  sampling_type  label_column  \\\n",
       "0  success  ...   False    nolda         False  sampling_none   star_rating   \n",
       "1  success  ...   False    nolda          True        nosmote   star_rating   \n",
       "0  success  ...   False    nolda          True        nosmote   star_rating   \n",
       "\n",
       "      feature_summary     feature_summary_sampling  file_load_time_min  \\\n",
       "0  tfidf-ngram13-4000  tfidf-ngram13-sampling_none                0.47   \n",
       "1  tfidf-ngram13-4000        tfidf-ngram13-nosmote                 NaN   \n",
       "0  tfidf-ngram13-4000        tfidf-ngram13-nosmote                 NaN   \n",
       "\n",
       "   smote_time_min                                   config_file  \n",
       "0             0.0  ../config/2019-11-01-run_classifiers-50k.csv  \n",
       "1             NaN                                           NaN  \n",
       "0             NaN                                           NaN  \n",
       "\n",
       "[3 rows x 62 columns]"
      ]
     },
     "execution_count": 11,
     "metadata": {},
     "output_type": "execute_result"
    }
   ],
   "source": [
    "report_cv = ru.load_report(REPORT_FILE_CV)\n",
    "report_compare = report_cv.append(ru.load_best_from_report(REPORT_FILE_LR), sort=False).sort_values(\"model_name\")\n",
    "report_compare"
   ]
  },
  {
   "cell_type": "markdown",
   "metadata": {},
   "source": [
    "# Grid Search Gave us Slightly Higher Performance Than LogisticRegressionCV\n",
    "\n",
    "Although improvement is ~.005 which is probably not statistically significant"
   ]
  },
  {
   "cell_type": "code",
   "execution_count": 12,
   "metadata": {},
   "outputs": [
    {
     "data": {
      "image/png": "[encoded data removed]",
      "text/plain": [
       "<Figure size 1440x360 with 1 Axes>"
      ]
     },
     "metadata": {},
     "output_type": "display_data"
    }
   ],
   "source": [
    "f, a = plt.subplots(1, 1, figsize=(20, 5))\n",
    "\n",
    "sns.lineplot(data=report_compare, x=\"model_name\", y=\"eval_metric\", marker=\"o\", sort=True)\n",
    "_ = plt.title(\"Model Performance by Search Method\")\n",
    "_ = plt.xlabel(\"Search Method\")\n",
    "_ = plt.ylabel(\"Custom Evaluation Metric\")"
   ]
  },
  {
   "cell_type": "markdown",
   "metadata": {},
   "source": [
    "### F1 Score, Precision, and Recall Are Roughly The Same"
   ]
  },
  {
   "cell_type": "code",
   "execution_count": 13,
   "metadata": {},
   "outputs": [
    {
     "data": {
      "text/html": [
       "<div>\n",
       "<style scoped>\n",
       "    .dataframe tbody tr th:only-of-type {\n",
       "        vertical-align: middle;\n",
       "    }\n",
       "\n",
       "    .dataframe tbody tr th {\n",
       "        vertical-align: top;\n",
       "    }\n",
       "\n",
       "    .dataframe thead th {\n",
       "        text-align: right;\n",
       "    }\n",
       "</style>\n",
       "<table border=\"1\" class=\"dataframe\">\n",
       "  <thead>\n",
       "    <tr style=\"text-align: right;\">\n",
       "      <th></th>\n",
       "      <th>1_recall</th>\n",
       "      <th>2_recall</th>\n",
       "      <th>3_recall</th>\n",
       "      <th>4_recall</th>\n",
       "      <th>5_precision</th>\n",
       "    </tr>\n",
       "  </thead>\n",
       "  <tbody>\n",
       "    <tr>\n",
       "      <th>0</th>\n",
       "      <td>0.653602</td>\n",
       "      <td>0.347395</td>\n",
       "      <td>0.354756</td>\n",
       "      <td>0.426534</td>\n",
       "      <td>0.856404</td>\n",
       "    </tr>\n",
       "    <tr>\n",
       "      <th>1</th>\n",
       "      <td>0.658790</td>\n",
       "      <td>0.349876</td>\n",
       "      <td>0.349614</td>\n",
       "      <td>0.418450</td>\n",
       "      <td>0.850923</td>\n",
       "    </tr>\n",
       "    <tr>\n",
       "      <th>0</th>\n",
       "      <td>0.661095</td>\n",
       "      <td>0.348635</td>\n",
       "      <td>0.358183</td>\n",
       "      <td>0.431764</td>\n",
       "      <td>0.858301</td>\n",
       "    </tr>\n",
       "  </tbody>\n",
       "</table>\n",
       "</div>"
      ],
      "text/plain": [
       "   1_recall  2_recall  3_recall  4_recall  5_precision\n",
       "0  0.653602  0.347395  0.354756  0.426534     0.856404\n",
       "1  0.658790  0.349876  0.349614  0.418450     0.850923\n",
       "0  0.661095  0.348635  0.358183  0.431764     0.858301"
      ]
     },
     "execution_count": 13,
     "metadata": {},
     "output_type": "execute_result"
    }
   ],
   "source": [
    "report_compare[ru.EVAL_COLS]"
   ]
  },
  {
   "cell_type": "code",
   "execution_count": 14,
   "metadata": {},
   "outputs": [
    {
     "data": {
      "image/png": "[encoded data removed]",
      "text/plain": [
       "<Figure size 1440x216 with 3 Axes>"
      ]
     },
     "metadata": {},
     "output_type": "display_data"
    }
   ],
   "source": [
    "import util.plot_util as pu\n",
    "\n",
    "pu.plot_score_histograms(report_compare, version=2)"
   ]
  },
  {
   "cell_type": "markdown",
   "metadata": {},
   "source": [
    "# Grid Search Results\n",
    "\n",
    "Our best parameters actually came from the default values for Logistic Regression\n",
    "\n",
    "* Number of iterations did not have an effect on our model\n",
    "* Increasing C improves performance slightly"
   ]
  },
  {
   "cell_type": "code",
   "execution_count": 15,
   "metadata": {},
   "outputs": [
    {
     "data": {
      "text/plain": [
       "{'C': 0.1, 'max_iter': 100}"
      ]
     },
     "execution_count": 15,
     "metadata": {},
     "output_type": "execute_result"
    }
   ],
   "source": [
    "cv.best_params_"
   ]
  },
  {
   "cell_type": "code",
   "execution_count": 18,
   "metadata": {},
   "outputs": [
    {
     "data": {
      "image/png": "[encoded data removed]",
      "text/plain": [
       "<Figure size 1440x360 with 2 Axes>"
      ]
     },
     "metadata": {},
     "output_type": "display_data"
    }
   ],
   "source": [
    "grid_params = pd.DataFrame(cv.cv_results_[\"params\"])\n",
    "grid_params = pd.concat([grid_params, pd.DataFrame(cv.cv_results_[\"mean_test_score\"]).rename({0:\"scores\"}, axis=1)], axis=1)\n",
    "\n",
    "f, a = plt.subplots(1, 1, figsize=(20, 5))\n",
    "\n",
    "a.grid(False)\n",
    "sns.lineplot(data=grid_params, x=np.arange(0, len(grid_params)), y=\"C\", label=\"C\", ax=a, color=\"blue\", sort=False)\n",
    "sns.lineplot(data=grid_params, x=np.arange(0, len(grid_params)), y=\"scores\", label=\"Custom Score\", ax=a, color=\"red\", linewidth=4, sort=False)\n",
    "a.lines[1].set_linestyle(\"--\")\n",
    "\n",
    "\n",
    "a2 = a.twinx()\n",
    "sns.lineplot(data=grid_params, x=np.arange(0, len(grid_params)), y=\"max_iter\", label=\"Max Iter\", ax=a2, color=\"orange\", sort=False)\n",
    "a2.set_ylabel(\"Max Iterations\")\n",
    "a2.legend(loc='lower right')\n",
    "\n",
    "\n",
    "\n",
    "_ = a.set_xlabel(\"Iteration Number\")\n"
   ]
  },
  {
   "cell_type": "code",
   "execution_count": 17,
   "metadata": {},
   "outputs": [
    {
     "data": {
      "text/html": [
       "<div>\n",
       "<style scoped>\n",
       "    .dataframe tbody tr th:only-of-type {\n",
       "        vertical-align: middle;\n",
       "    }\n",
       "\n",
       "    .dataframe tbody tr th {\n",
       "        vertical-align: top;\n",
       "    }\n",
       "\n",
       "    .dataframe thead th {\n",
       "        text-align: right;\n",
       "    }\n",
       "</style>\n",
       "<table border=\"1\" class=\"dataframe\">\n",
       "  <thead>\n",
       "    <tr style=\"text-align: right;\">\n",
       "      <th></th>\n",
       "      <th>0</th>\n",
       "      <th>1</th>\n",
       "      <th>2</th>\n",
       "      <th>3</th>\n",
       "      <th>4</th>\n",
       "      <th>5</th>\n",
       "      <th>6</th>\n",
       "      <th>7</th>\n",
       "      <th>8</th>\n",
       "      <th>9</th>\n",
       "      <th>10</th>\n",
       "      <th>11</th>\n",
       "      <th>12</th>\n",
       "      <th>13</th>\n",
       "      <th>14</th>\n",
       "      <th>15</th>\n",
       "    </tr>\n",
       "  </thead>\n",
       "  <tbody>\n",
       "    <tr>\n",
       "      <th>C</th>\n",
       "      <td>0.001000</td>\n",
       "      <td>0.001000</td>\n",
       "      <td>0.001000</td>\n",
       "      <td>0.001000</td>\n",
       "      <td>0.010000</td>\n",
       "      <td>0.010000</td>\n",
       "      <td>0.010000</td>\n",
       "      <td>0.010000</td>\n",
       "      <td>0.100000</td>\n",
       "      <td>0.100000</td>\n",
       "      <td>0.100000</td>\n",
       "      <td>0.100000</td>\n",
       "      <td>1.000000</td>\n",
       "      <td>1.000000</td>\n",
       "      <td>1.000000</td>\n",
       "      <td>1.000000</td>\n",
       "    </tr>\n",
       "    <tr>\n",
       "      <th>max_iter</th>\n",
       "      <td>100.000000</td>\n",
       "      <td>200.000000</td>\n",
       "      <td>400.000000</td>\n",
       "      <td>800.000000</td>\n",
       "      <td>100.000000</td>\n",
       "      <td>200.000000</td>\n",
       "      <td>400.000000</td>\n",
       "      <td>800.000000</td>\n",
       "      <td>100.000000</td>\n",
       "      <td>200.000000</td>\n",
       "      <td>400.000000</td>\n",
       "      <td>800.000000</td>\n",
       "      <td>100.000000</td>\n",
       "      <td>200.000000</td>\n",
       "      <td>400.000000</td>\n",
       "      <td>800.000000</td>\n",
       "    </tr>\n",
       "    <tr>\n",
       "      <th>scores</th>\n",
       "      <td>0.338492</td>\n",
       "      <td>0.338492</td>\n",
       "      <td>0.338492</td>\n",
       "      <td>0.338492</td>\n",
       "      <td>0.389281</td>\n",
       "      <td>0.389281</td>\n",
       "      <td>0.389281</td>\n",
       "      <td>0.389281</td>\n",
       "      <td>0.453976</td>\n",
       "      <td>0.453976</td>\n",
       "      <td>0.453976</td>\n",
       "      <td>0.453976</td>\n",
       "      <td>0.451223</td>\n",
       "      <td>0.451437</td>\n",
       "      <td>0.451305</td>\n",
       "      <td>0.451305</td>\n",
       "    </tr>\n",
       "  </tbody>\n",
       "</table>\n",
       "</div>"
      ],
      "text/plain": [
       "                   0           1           2           3           4  \\\n",
       "C           0.001000    0.001000    0.001000    0.001000    0.010000   \n",
       "max_iter  100.000000  200.000000  400.000000  800.000000  100.000000   \n",
       "scores      0.338492    0.338492    0.338492    0.338492    0.389281   \n",
       "\n",
       "                   5           6           7           8           9  \\\n",
       "C           0.010000    0.010000    0.010000    0.100000    0.100000   \n",
       "max_iter  200.000000  400.000000  800.000000  100.000000  200.000000   \n",
       "scores      0.389281    0.389281    0.389281    0.453976    0.453976   \n",
       "\n",
       "                  10          11          12          13          14  \\\n",
       "C           0.100000    0.100000    1.000000    1.000000    1.000000   \n",
       "max_iter  400.000000  800.000000  100.000000  200.000000  400.000000   \n",
       "scores      0.453976    0.453976    0.451223    0.451437    0.451305   \n",
       "\n",
       "                  15  \n",
       "C           1.000000  \n",
       "max_iter  800.000000  \n",
       "scores      0.451305  "
      ]
     },
     "execution_count": 17,
     "metadata": {},
     "output_type": "execute_result"
    }
   ],
   "source": [
    "grid_params.T"
   ]
  },
  {
   "cell_type": "code",
   "execution_count": 3,
   "metadata": {},
   "outputs": [
    {
     "name": "stdout",
     "output_type": "stream",
     "text": [
      "Last executed: 2020-01-25 13:09:16.060071\n"
     ]
    }
   ],
   "source": [
    "print(f'Last executed: {datetime.now()}')"
   ]
  },
  {
   "cell_type": "code",
   "execution_count": null,
   "metadata": {},
   "outputs": [],
   "source": []
  }
 ],
 "metadata": {
  "kernelspec": {
   "display_name": "Python 3",
   "language": "python",
   "name": "python3"
  },
  "language_info": {
   "codemirror_mode": {
    "name": "ipython",
    "version": 3
   },
   "file_extension": ".py",
   "mimetype": "text/x-python",
   "name": "python",
   "nbconvert_exporter": "python",
   "pygments_lexer": "ipython3",
   "version": "3.7.6"
  }
 },
 "nbformat": 4,
 "nbformat_minor": 4
}
