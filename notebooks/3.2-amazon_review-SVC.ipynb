{
 "cells": [
  {
   "cell_type": "markdown",
   "metadata": {},
   "source": [
    "# SVC Model Performance\n",
    "\n",
    "In this notebook, I'm going to use the data set that gave us the best results when running logistic regression (unigram TFIDF with 10k features) and run it through SVC model\n",
    "\n",
    "SVC is non-linear. And from looking at our data in our previous notebook, it looks to be non-linear so hopefully results will be better\n",
    "\n",
    "# Results\n",
    "\n",
    "Unfortunately, not only did SVC take significantly longer to train and predict. It was did not do well at all in our classification. All predictions came back with result of Star rating 4"
   ]
  },
  {
   "cell_type": "code",
   "execution_count": 25,
   "metadata": {},
   "outputs": [],
   "source": [
    "import os\n",
    "import sys\n",
    "module_path = os.path.abspath(os.path.join('..'))\n",
    "if module_path not in sys.path:\n",
    "    sys.path.append(module_path)\n",
    "    \n",
    "import importlib\n",
    "import re\n",
    "import pandas as pd\n",
    "import matplotlib.pyplot as plt\n",
    "import seaborn as sns\n",
    "import util.model_util as mu\n",
    "import util.report_util as ru\n",
    "import logging\n",
    "import json\n",
    "\n",
    "%matplotlib inline\n",
    "sns.set()\n",
    "logging.basicConfig(level=logging.INFO)\n",
    "\n",
    "log = logging.getLogger(__name__)\n",
    "\n",
    "pd.set_option('max_colwidth', 150)\n",
    "\n",
    "CONFIG_DIR = \"../config\"\n",
    "CONFIG_FILE_SVC = f'{CONFIG_DIR}/2019-11-01-run_classifiers-svc.csv'\n",
    "REPORT_DIR = \"../reports\"\n",
    "REPORT_FILE_SVC = f'{REPORT_DIR}/2019-11-01-run_classifiers-svc-report.csv'\n",
    "REPORT_FILE_LR = f'{REPORT_DIR}/2019-11-01-run_classifiers-50k-report.csv'"
   ]
  },
  {
   "cell_type": "markdown",
   "metadata": {},
   "source": [
    "# configuration file \n"
   ]
  },
  {
   "cell_type": "code",
   "execution_count": 23,
   "metadata": {},
   "outputs": [
    {
     "data": {
      "text/html": [
       "<div>\n",
       "<style scoped>\n",
       "    .dataframe tbody tr th:only-of-type {\n",
       "        vertical-align: middle;\n",
       "    }\n",
       "\n",
       "    .dataframe tbody tr th {\n",
       "        vertical-align: top;\n",
       "    }\n",
       "\n",
       "    .dataframe thead th {\n",
       "        text-align: right;\n",
       "    }\n",
       "</style>\n",
       "<table border=\"1\" class=\"dataframe\">\n",
       "  <thead>\n",
       "    <tr style=\"text-align: right;\">\n",
       "      <th></th>\n",
       "      <th>data_dir</th>\n",
       "      <th>data_file</th>\n",
       "      <th>class_column</th>\n",
       "      <th>dtype</th>\n",
       "      <th>drop_columns</th>\n",
       "      <th>model_name</th>\n",
       "      <th>sampling</th>\n",
       "      <th>status</th>\n",
       "      <th>status_date</th>\n",
       "      <th>message</th>\n",
       "    </tr>\n",
       "  </thead>\n",
       "  <tbody>\n",
       "    <tr>\n",
       "      <th>0</th>\n",
       "      <td>../dataset/feature_files</td>\n",
       "      <td>review_body-tfidf-df_default-ngram11-49784-10000-nolda.csv</td>\n",
       "      <td>star_rating</td>\n",
       "      <td>NaN</td>\n",
       "      <td>helpful_votes, total_votes, helpful_product</td>\n",
       "      <td>SVC_RBF</td>\n",
       "      <td>NaN</td>\n",
       "      <td>success</td>\n",
       "      <td>2019-11-04 00:29:17</td>\n",
       "      <td>NaN</td>\n",
       "    </tr>\n",
       "  </tbody>\n",
       "</table>\n",
       "</div>"
      ],
      "text/plain": [
       "                   data_dir  \\\n",
       "0  ../dataset/feature_files   \n",
       "\n",
       "                                                    data_file class_column  \\\n",
       "0  review_body-tfidf-df_default-ngram11-49784-10000-nolda.csv  star_rating   \n",
       "\n",
       "   dtype                                 drop_columns model_name  sampling  \\\n",
       "0    NaN  helpful_votes, total_votes, helpful_product    SVC_RBF       NaN   \n",
       "\n",
       "    status          status_date  message  \n",
       "0  success  2019-11-04 00:29:17      NaN  "
      ]
     },
     "execution_count": 23,
     "metadata": {},
     "output_type": "execute_result"
    }
   ],
   "source": [
    "config_svc = pd.read_csv(CONFIG_FILE_SVC)\n",
    "config_svc"
   ]
  },
  {
   "cell_type": "markdown",
   "metadata": {},
   "source": [
    "Our SVC Classifier was created in the following manner:\n",
    "\n",
    "```python\n",
    " classifier = SVC(class_weight='balanced', verbose=1, random_state=1, decision_function_shape='ovo')\n",
    "```"
   ]
  },
  {
   "cell_type": "markdown",
   "metadata": {},
   "source": [
    "\n",
    "## Loading our report\n"
   ]
  },
  {
   "cell_type": "code",
   "execution_count": 28,
   "metadata": {},
   "outputs": [],
   "source": [
    "report_svc = ru.load_report(REPORT_FILE_SVC)\n",
    "report_lr = ru.load_report(REPORT_FILE_LR)"
   ]
  },
  {
   "cell_type": "code",
   "execution_count": 44,
   "metadata": {},
   "outputs": [
    {
     "data": {
      "text/html": [
       "<div>\n",
       "<style scoped>\n",
       "    .dataframe tbody tr th:only-of-type {\n",
       "        vertical-align: middle;\n",
       "    }\n",
       "\n",
       "    .dataframe tbody tr th {\n",
       "        vertical-align: top;\n",
       "    }\n",
       "\n",
       "    .dataframe thead th {\n",
       "        text-align: right;\n",
       "    }\n",
       "</style>\n",
       "<table border=\"1\" class=\"dataframe\">\n",
       "  <thead>\n",
       "    <tr style=\"text-align: right;\">\n",
       "      <th></th>\n",
       "      <th>1_f1-score</th>\n",
       "      <th>1_precision</th>\n",
       "      <th>1_recall</th>\n",
       "      <th>1_support</th>\n",
       "      <th>2_f1-score</th>\n",
       "      <th>2_precision</th>\n",
       "      <th>2_recall</th>\n",
       "      <th>2_support</th>\n",
       "      <th>3_f1-score</th>\n",
       "      <th>3_precision</th>\n",
       "      <th>...</th>\n",
       "      <th>config_ngram</th>\n",
       "      <th>sample_size</th>\n",
       "      <th>feature_size</th>\n",
       "      <th>has_lda</th>\n",
       "      <th>lda_str</th>\n",
       "      <th>has_sampling</th>\n",
       "      <th>sampling_str</th>\n",
       "      <th>label_column</th>\n",
       "      <th>feature_summary</th>\n",
       "      <th>feature_summary_sampling</th>\n",
       "    </tr>\n",
       "  </thead>\n",
       "  <tbody>\n",
       "    <tr>\n",
       "      <th>0</th>\n",
       "      <td>0.000000</td>\n",
       "      <td>0.000000</td>\n",
       "      <td>0.00000</td>\n",
       "      <td>1735.0</td>\n",
       "      <td>0.000000</td>\n",
       "      <td>0.000000</td>\n",
       "      <td>0.000000</td>\n",
       "      <td>806.0</td>\n",
       "      <td>0.000000</td>\n",
       "      <td>0.000000</td>\n",
       "      <td>...</td>\n",
       "      <td>ngram11</td>\n",
       "      <td>49784</td>\n",
       "      <td>10000</td>\n",
       "      <td>False</td>\n",
       "      <td>nolda</td>\n",
       "      <td>False</td>\n",
       "      <td>sampling_none</td>\n",
       "      <td>star_rating</td>\n",
       "      <td>tfidf-ngram11-10000</td>\n",
       "      <td>tfidf-ngram11-sampling_none</td>\n",
       "    </tr>\n",
       "    <tr>\n",
       "      <th>5</th>\n",
       "      <td>0.641905</td>\n",
       "      <td>0.631696</td>\n",
       "      <td>0.65245</td>\n",
       "      <td>1735.0</td>\n",
       "      <td>0.266348</td>\n",
       "      <td>0.216447</td>\n",
       "      <td>0.346154</td>\n",
       "      <td>806.0</td>\n",
       "      <td>0.288041</td>\n",
       "      <td>0.253585</td>\n",
       "      <td>...</td>\n",
       "      <td>ngram11</td>\n",
       "      <td>49784</td>\n",
       "      <td>10000</td>\n",
       "      <td>False</td>\n",
       "      <td>nolda</td>\n",
       "      <td>True</td>\n",
       "      <td>nosmote</td>\n",
       "      <td>star_rating</td>\n",
       "      <td>tfidf-ngram11-10000</td>\n",
       "      <td>tfidf-ngram11-nosmote</td>\n",
       "    </tr>\n",
       "  </tbody>\n",
       "</table>\n",
       "<p>2 rows × 62 columns</p>\n",
       "</div>"
      ],
      "text/plain": [
       "   1_f1-score  1_precision  1_recall  1_support  2_f1-score  2_precision  \\\n",
       "0    0.000000     0.000000   0.00000     1735.0    0.000000     0.000000   \n",
       "5    0.641905     0.631696   0.65245     1735.0    0.266348     0.216447   \n",
       "\n",
       "   2_recall  2_support  3_f1-score  3_precision  ...  config_ngram  \\\n",
       "0  0.000000      806.0    0.000000     0.000000  ...       ngram11   \n",
       "5  0.346154      806.0    0.288041     0.253585  ...       ngram11   \n",
       "\n",
       "   sample_size  feature_size  has_lda  lda_str  has_sampling   sampling_str  \\\n",
       "0        49784         10000    False    nolda         False  sampling_none   \n",
       "5        49784         10000    False    nolda          True        nosmote   \n",
       "\n",
       "   label_column      feature_summary     feature_summary_sampling  \n",
       "0   star_rating  tfidf-ngram11-10000  tfidf-ngram11-sampling_none  \n",
       "5   star_rating  tfidf-ngram11-10000        tfidf-ngram11-nosmote  \n",
       "\n",
       "[2 rows x 62 columns]"
      ]
     },
     "execution_count": 44,
     "metadata": {},
     "output_type": "execute_result"
    }
   ],
   "source": [
    "# combine LR results with SVC so we can graph later\n",
    "report_lr[(report_lr.model_name == 'LRB') & (report_lr.feature_engineering == 'tfidf') & (report_lr.config_ngram == 'ngram11')]\n",
    "report = report_svc.append(report_lr[(report_lr.model_name == 'LRB') & \n",
    "                                     (report_lr.feature_engineering == 'tfidf') & \n",
    "                                     (report_lr.config_ngram == 'ngram11')])\n",
    "report"
   ]
  },
  {
   "cell_type": "markdown",
   "metadata": {},
   "source": [
    "# Training Time\n",
    "\n",
    "SVC took significantly longer to train and to predict\n",
    "\n",
    "14 hours to train\n",
    "2.5 hours to predict"
   ]
  },
  {
   "cell_type": "code",
   "execution_count": 39,
   "metadata": {},
   "outputs": [
    {
     "data": {
      "text/html": [
       "<div>\n",
       "<style scoped>\n",
       "    .dataframe tbody tr th:only-of-type {\n",
       "        vertical-align: middle;\n",
       "    }\n",
       "\n",
       "    .dataframe tbody tr th {\n",
       "        vertical-align: top;\n",
       "    }\n",
       "\n",
       "    .dataframe thead th {\n",
       "        text-align: right;\n",
       "    }\n",
       "</style>\n",
       "<table border=\"1\" class=\"dataframe\">\n",
       "  <thead>\n",
       "    <tr style=\"text-align: right;\">\n",
       "      <th></th>\n",
       "      <th>train_time_min</th>\n",
       "      <th>predict_time_min</th>\n",
       "      <th>total_time_min</th>\n",
       "    </tr>\n",
       "  </thead>\n",
       "  <tbody>\n",
       "    <tr>\n",
       "      <th>0</th>\n",
       "      <td>843.89</td>\n",
       "      <td>153.64</td>\n",
       "      <td>7.1</td>\n",
       "    </tr>\n",
       "    <tr>\n",
       "      <th>5</th>\n",
       "      <td>8.34</td>\n",
       "      <td>0.01</td>\n",
       "      <td>6.2</td>\n",
       "    </tr>\n",
       "  </tbody>\n",
       "</table>\n",
       "</div>"
      ],
      "text/plain": [
       "   train_time_min  predict_time_min  total_time_min\n",
       "0          843.89            153.64             7.1\n",
       "5            8.34              0.01             6.2"
      ]
     },
     "execution_count": 39,
     "metadata": {},
     "output_type": "execute_result"
    }
   ],
   "source": [
    "report[[\"train_time_min\", \"predict_time_min\"]"
   ]
  },
  {
   "cell_type": "code",
   "execution_count": 43,
   "metadata": {},
   "outputs": [
    {
     "data": {
      "image/png": "[encoded data removed]",
      "text/plain": [
       "<Figure size 1440x360 with 2 Axes>"
      ]
     },
     "metadata": {},
     "output_type": "display_data"
    }
   ],
   "source": [
    "f, a = plt.subplots(1, 2, figsize=(20, 5))\n",
    "\n",
    "sns.barplot(data=report, x=\"model_name\", y=\"train_time_min\", ax=a[0])\n",
    "_ = a[0].set_title(\"Training Time by Model\")\n",
    "sns.barplot(data=report, x=\"model_name\", y=\"predict_time_min\", ax=a[1])\n",
    "_ = a[1].set_title(\"Predict Time by Model\")\n"
   ]
  },
  {
   "cell_type": "markdown",
   "metadata": {},
   "source": [
    "# Model Result\n",
    "\n",
    "Looks like SVC was not able to classify at all"
   ]
  },
  {
   "cell_type": "code",
   "execution_count": 19,
   "metadata": {},
   "outputs": [
    {
     "data": {
      "image/png": "[encoded data removed]",
      "text/plain": [
       "<Figure size 1440x360 with 1 Axes>"
      ]
     },
     "metadata": {},
     "output_type": "display_data"
    }
   ],
   "source": [
    "f, a = plt.subplots(1, 1, figsize=(20, 5))\n",
    "\n",
    "sns.lineplot(data=report, x=\"model_name\", y=\"eval_metric\")\n",
    "_ = plt.title(\"Eval Metric by Model\")"
   ]
  },
  {
   "cell_type": "markdown",
   "metadata": {},
   "source": [
    "# Confusion Matrix for SVC\n",
    "\n",
    "Looking everything got classified as star-4"
   ]
  },
  {
   "cell_type": "code",
   "execution_count": 32,
   "metadata": {},
   "outputs": [
    {
     "data": {
      "text/html": [
       "<div>\n",
       "<style scoped>\n",
       "    .dataframe tbody tr th:only-of-type {\n",
       "        vertical-align: middle;\n",
       "    }\n",
       "\n",
       "    .dataframe tbody tr th {\n",
       "        vertical-align: top;\n",
       "    }\n",
       "\n",
       "    .dataframe thead th {\n",
       "        text-align: right;\n",
       "    }\n",
       "</style>\n",
       "<table border=\"1\" class=\"dataframe\">\n",
       "  <thead>\n",
       "    <tr style=\"text-align: right;\">\n",
       "      <th></th>\n",
       "      <th>0</th>\n",
       "      <th>1</th>\n",
       "      <th>2</th>\n",
       "      <th>3</th>\n",
       "      <th>4</th>\n",
       "    </tr>\n",
       "  </thead>\n",
       "  <tbody>\n",
       "    <tr>\n",
       "      <th>0</th>\n",
       "      <td>0</td>\n",
       "      <td>0</td>\n",
       "      <td>0</td>\n",
       "      <td>1735</td>\n",
       "      <td>0</td>\n",
       "    </tr>\n",
       "    <tr>\n",
       "      <th>1</th>\n",
       "      <td>0</td>\n",
       "      <td>0</td>\n",
       "      <td>0</td>\n",
       "      <td>806</td>\n",
       "      <td>0</td>\n",
       "    </tr>\n",
       "    <tr>\n",
       "      <th>2</th>\n",
       "      <td>0</td>\n",
       "      <td>0</td>\n",
       "      <td>0</td>\n",
       "      <td>1167</td>\n",
       "      <td>0</td>\n",
       "    </tr>\n",
       "    <tr>\n",
       "      <th>3</th>\n",
       "      <td>0</td>\n",
       "      <td>0</td>\n",
       "      <td>0</td>\n",
       "      <td>2103</td>\n",
       "      <td>0</td>\n",
       "    </tr>\n",
       "    <tr>\n",
       "      <th>4</th>\n",
       "      <td>0</td>\n",
       "      <td>0</td>\n",
       "      <td>0</td>\n",
       "      <td>6635</td>\n",
       "      <td>0</td>\n",
       "    </tr>\n",
       "  </tbody>\n",
       "</table>\n",
       "</div>"
      ],
      "text/plain": [
       "   0  1  2     3  4\n",
       "0  0  0  0  1735  0\n",
       "1  0  0  0   806  0\n",
       "2  0  0  0  1167  0\n",
       "3  0  0  0  2103  0\n",
       "4  0  0  0  6635  0"
      ]
     },
     "execution_count": 32,
     "metadata": {},
     "output_type": "execute_result"
    }
   ],
   "source": [
    "pd.DataFrame(json.loads(report_svc.confusion_matrix.values[0])).rename(\n",
    "                {\"0\":\"1\", \"1\":\"2\", \"2\":\"3\", \"3\":\"4\", \"4\":\"5\"}, axis=1\n",
    ")"
   ]
  },
  {
   "cell_type": "code",
   "execution_count": null,
   "metadata": {},
   "outputs": [],
   "source": []
  },
  {
   "cell_type": "code",
   "execution_count": null,
   "metadata": {},
   "outputs": [],
   "source": []
  }
 ],
 "metadata": {
  "kernelspec": {
   "display_name": "Python 3",
   "language": "python",
   "name": "python3"
  },
  "language_info": {
   "codemirror_mode": {
    "name": "ipython",
    "version": 3
   },
   "file_extension": ".py",
   "mimetype": "text/x-python",
   "name": "python",
   "nbconvert_exporter": "python",
   "pygments_lexer": "ipython3",
   "version": "3.7.5"
  }
 },
 "nbformat": 4,
 "nbformat_minor": 4
}
