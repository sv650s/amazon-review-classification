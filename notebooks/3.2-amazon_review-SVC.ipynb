{
 "cells": [
  {
   "cell_type": "markdown",
   "metadata": {},
   "source": [
    "# SVC Model Performance\n",
    "\n",
    "As a test, I'm going to use the data set that gave us the best results when running logistic regression (TFIDF with unigrams, bi-grams, and tri-grams with 4k features) and run it through SVC model\n",
    "\n",
    "SVC is non-linear. And from looking at our data in our previous notebook, it looks to be non-linear so hopefully results will be better\n",
    "\n",
    "\n",
    "# Results\n",
    "\n",
    "Unfortunately, not only did SVC take significantly longer to train and predict. The preformance of the SVC model is worse that Logistic Regression\n",
    "* SVC took around 5 hours to train and predict vs LR that takes less an hour to train\n",
    "* SVC performed about 15% worse using our custom metric\n",
    "    * SVC not do well at all in our classification - while some of our majority class precision and recall increased. Our manority class recall especially for 2-star reviews reduces\n",
    "\n",
    "\n",
    "We will not be using SVC moving forward"
   ]
  },
  {
   "cell_type": "code",
   "execution_count": 1,
   "metadata": {},
   "outputs": [
    {
     "name": "stderr",
     "output_type": "stream",
     "text": [
      "/Users/vinceluk/anaconda3/envs/capstone/lib/python3.7/site-packages/sklearn/externals/joblib/__init__.py:15: DeprecationWarning: sklearn.externals.joblib is deprecated in 0.21 and will be removed in 0.23. Please import this functionality directly from joblib, which can be installed with: pip install joblib. If this warning is raised when loading pickled models, you may need to re-serialize those models with scikit-learn 0.21+.\n",
      "  warnings.warn(msg, category=DeprecationWarning)\n",
      "/Users/vinceluk/anaconda3/envs/capstone/lib/python3.7/site-packages/tensorflow/python/framework/dtypes.py:516: FutureWarning: Passing (type, 1) or '1type' as a synonym of type is deprecated; in a future version of numpy, it will be understood as (type, (1,)) / '(1,)type'.\n",
      "  _np_qint8 = np.dtype([(\"qint8\", np.int8, 1)])\n",
      "/Users/vinceluk/anaconda3/envs/capstone/lib/python3.7/site-packages/tensorflow/python/framework/dtypes.py:517: FutureWarning: Passing (type, 1) or '1type' as a synonym of type is deprecated; in a future version of numpy, it will be understood as (type, (1,)) / '(1,)type'.\n",
      "  _np_quint8 = np.dtype([(\"quint8\", np.uint8, 1)])\n",
      "/Users/vinceluk/anaconda3/envs/capstone/lib/python3.7/site-packages/tensorflow/python/framework/dtypes.py:518: FutureWarning: Passing (type, 1) or '1type' as a synonym of type is deprecated; in a future version of numpy, it will be understood as (type, (1,)) / '(1,)type'.\n",
      "  _np_qint16 = np.dtype([(\"qint16\", np.int16, 1)])\n",
      "/Users/vinceluk/anaconda3/envs/capstone/lib/python3.7/site-packages/tensorflow/python/framework/dtypes.py:519: FutureWarning: Passing (type, 1) or '1type' as a synonym of type is deprecated; in a future version of numpy, it will be understood as (type, (1,)) / '(1,)type'.\n",
      "  _np_quint16 = np.dtype([(\"quint16\", np.uint16, 1)])\n",
      "/Users/vinceluk/anaconda3/envs/capstone/lib/python3.7/site-packages/tensorflow/python/framework/dtypes.py:520: FutureWarning: Passing (type, 1) or '1type' as a synonym of type is deprecated; in a future version of numpy, it will be understood as (type, (1,)) / '(1,)type'.\n",
      "  _np_qint32 = np.dtype([(\"qint32\", np.int32, 1)])\n",
      "/Users/vinceluk/anaconda3/envs/capstone/lib/python3.7/site-packages/tensorflow/python/framework/dtypes.py:525: FutureWarning: Passing (type, 1) or '1type' as a synonym of type is deprecated; in a future version of numpy, it will be understood as (type, (1,)) / '(1,)type'.\n",
      "  np_resource = np.dtype([(\"resource\", np.ubyte, 1)])\n",
      "/Users/vinceluk/anaconda3/envs/capstone/lib/python3.7/site-packages/tensorboard/compat/tensorflow_stub/dtypes.py:541: FutureWarning: Passing (type, 1) or '1type' as a synonym of type is deprecated; in a future version of numpy, it will be understood as (type, (1,)) / '(1,)type'.\n",
      "  _np_qint8 = np.dtype([(\"qint8\", np.int8, 1)])\n",
      "/Users/vinceluk/anaconda3/envs/capstone/lib/python3.7/site-packages/tensorboard/compat/tensorflow_stub/dtypes.py:542: FutureWarning: Passing (type, 1) or '1type' as a synonym of type is deprecated; in a future version of numpy, it will be understood as (type, (1,)) / '(1,)type'.\n",
      "  _np_quint8 = np.dtype([(\"quint8\", np.uint8, 1)])\n",
      "/Users/vinceluk/anaconda3/envs/capstone/lib/python3.7/site-packages/tensorboard/compat/tensorflow_stub/dtypes.py:543: FutureWarning: Passing (type, 1) or '1type' as a synonym of type is deprecated; in a future version of numpy, it will be understood as (type, (1,)) / '(1,)type'.\n",
      "  _np_qint16 = np.dtype([(\"qint16\", np.int16, 1)])\n",
      "/Users/vinceluk/anaconda3/envs/capstone/lib/python3.7/site-packages/tensorboard/compat/tensorflow_stub/dtypes.py:544: FutureWarning: Passing (type, 1) or '1type' as a synonym of type is deprecated; in a future version of numpy, it will be understood as (type, (1,)) / '(1,)type'.\n",
      "  _np_quint16 = np.dtype([(\"quint16\", np.uint16, 1)])\n",
      "/Users/vinceluk/anaconda3/envs/capstone/lib/python3.7/site-packages/tensorboard/compat/tensorflow_stub/dtypes.py:545: FutureWarning: Passing (type, 1) or '1type' as a synonym of type is deprecated; in a future version of numpy, it will be understood as (type, (1,)) / '(1,)type'.\n",
      "  _np_qint32 = np.dtype([(\"qint32\", np.int32, 1)])\n",
      "/Users/vinceluk/anaconda3/envs/capstone/lib/python3.7/site-packages/tensorboard/compat/tensorflow_stub/dtypes.py:550: FutureWarning: Passing (type, 1) or '1type' as a synonym of type is deprecated; in a future version of numpy, it will be understood as (type, (1,)) / '(1,)type'.\n",
      "  np_resource = np.dtype([(\"resource\", np.ubyte, 1)])\n"
     ]
    }
   ],
   "source": [
    "import os\n",
    "import sys\n",
    "module_path = os.path.abspath(os.path.join('..'))\n",
    "if module_path not in sys.path:\n",
    "    sys.path.append(module_path)\n",
    "    \n",
    "import importlib\n",
    "import re\n",
    "import pandas as pd\n",
    "import matplotlib.pyplot as plt\n",
    "import seaborn as sns\n",
    "import util.model_util as mu\n",
    "import util.report_util as ru\n",
    "import logging\n",
    "import json\n",
    "\n",
    "plt.rcParams.update({'font.size': 22})\n",
    "%matplotlib inline\n",
    "sns.set()\n",
    "logging.basicConfig(level=logging.INFO)\n",
    "\n",
    "log = logging.getLogger(__name__)\n",
    "\n",
    "pd.set_option('max_colwidth', 150)\n",
    "\n",
    "CONFIG_DIR = \"../config\"\n",
    "CONFIG_FILE_SVC = f'{CONFIG_DIR}/2019-11-01-run_classifiers-svc.csv'\n",
    "REPORT_DIR = \"../reports\"\n",
    "REPORT_FILE_SVC = f'{REPORT_DIR}/2019-11-01-run_classifiers-svc-report.csv'\n",
    "REPORT_FILE_LR = f'{REPORT_DIR}/2019-11-01-run_classifiers-50k-report.csv'"
   ]
  },
  {
   "cell_type": "markdown",
   "metadata": {},
   "source": [
    "# configuration file \n"
   ]
  },
  {
   "cell_type": "code",
   "execution_count": 2,
   "metadata": {},
   "outputs": [
    {
     "data": {
      "text/html": [
       "<div>\n",
       "<style scoped>\n",
       "    .dataframe tbody tr th:only-of-type {\n",
       "        vertical-align: middle;\n",
       "    }\n",
       "\n",
       "    .dataframe tbody tr th {\n",
       "        vertical-align: top;\n",
       "    }\n",
       "\n",
       "    .dataframe thead th {\n",
       "        text-align: right;\n",
       "    }\n",
       "</style>\n",
       "<table border=\"1\" class=\"dataframe\">\n",
       "  <thead>\n",
       "    <tr style=\"text-align: right;\">\n",
       "      <th></th>\n",
       "      <th>data_dir</th>\n",
       "      <th>data_file</th>\n",
       "      <th>class_column</th>\n",
       "      <th>dtype</th>\n",
       "      <th>drop_columns</th>\n",
       "      <th>model_name</th>\n",
       "      <th>max_iter</th>\n",
       "      <th>sampling</th>\n",
       "      <th>status</th>\n",
       "      <th>status_date</th>\n",
       "      <th>message</th>\n",
       "    </tr>\n",
       "  </thead>\n",
       "  <tbody>\n",
       "    <tr>\n",
       "      <th>0</th>\n",
       "      <td>../dataset/feature_files</td>\n",
       "      <td>review_body-tfidf-df_none-ngram13-49784-4000-nolda.csv</td>\n",
       "      <td>star_rating</td>\n",
       "      <td>NaN</td>\n",
       "      <td>helpful_votes, total_votes, helpful_product</td>\n",
       "      <td>SVC_RBF</td>\n",
       "      <td>NaN</td>\n",
       "      <td>NaN</td>\n",
       "      <td>success</td>\n",
       "      <td>2020-01-14 03:18:33</td>\n",
       "      <td>NaN</td>\n",
       "    </tr>\n",
       "  </tbody>\n",
       "</table>\n",
       "</div>"
      ],
      "text/plain": [
       "                   data_dir  \\\n",
       "0  ../dataset/feature_files   \n",
       "\n",
       "                                                data_file class_column  dtype  \\\n",
       "0  review_body-tfidf-df_none-ngram13-49784-4000-nolda.csv  star_rating    NaN   \n",
       "\n",
       "                                  drop_columns model_name  max_iter  sampling  \\\n",
       "0  helpful_votes, total_votes, helpful_product    SVC_RBF       NaN       NaN   \n",
       "\n",
       "    status          status_date  message  \n",
       "0  success  2020-01-14 03:18:33      NaN  "
      ]
     },
     "execution_count": 2,
     "metadata": {},
     "output_type": "execute_result"
    }
   ],
   "source": [
    "config_svc = pd.read_csv(CONFIG_FILE_SVC)\n",
    "config_svc"
   ]
  },
  {
   "cell_type": "markdown",
   "metadata": {},
   "source": [
    "## Running the Model\n",
    "\n",
    "```\n",
    "cd ../tools\n",
    "python run_classifiers.py ../config/2019-11-01-run_classifiers-svc.csv\n",
    "```"
   ]
  },
  {
   "cell_type": "markdown",
   "metadata": {},
   "source": [
    "Our SVC Classifier was created in the following manner:\n",
    "\n",
    "```python\n",
    " classifier = SVC(class_weight='balanced', verbose=1, random_state=1, decision_function_shape='ovo')\n",
    "```"
   ]
  },
  {
   "cell_type": "markdown",
   "metadata": {},
   "source": [
    "\n",
    "## Loading our report\n"
   ]
  },
  {
   "cell_type": "code",
   "execution_count": 3,
   "metadata": {},
   "outputs": [
    {
     "name": "stderr",
     "output_type": "stream",
     "text": [
      "INFO:util.report_util:Calculating metric for ML report\n",
      "INFO:util.report_util:Calculating metric for ML report\n"
     ]
    }
   ],
   "source": [
    "report_svc = ru.load_report(REPORT_FILE_SVC)\n",
    "report_lr = ru.load_report(REPORT_FILE_LR)"
   ]
  },
  {
   "cell_type": "code",
   "execution_count": 4,
   "metadata": {},
   "outputs": [
    {
     "data": {
      "text/html": [
       "<div>\n",
       "<style scoped>\n",
       "    .dataframe tbody tr th:only-of-type {\n",
       "        vertical-align: middle;\n",
       "    }\n",
       "\n",
       "    .dataframe tbody tr th {\n",
       "        vertical-align: top;\n",
       "    }\n",
       "\n",
       "    .dataframe thead th {\n",
       "        text-align: right;\n",
       "    }\n",
       "</style>\n",
       "<table border=\"1\" class=\"dataframe\">\n",
       "  <thead>\n",
       "    <tr style=\"text-align: right;\">\n",
       "      <th></th>\n",
       "      <th>1_f1-score</th>\n",
       "      <th>1_precision</th>\n",
       "      <th>1_recall</th>\n",
       "      <th>1_support</th>\n",
       "      <th>2_f1-score</th>\n",
       "      <th>2_precision</th>\n",
       "      <th>2_recall</th>\n",
       "      <th>2_support</th>\n",
       "      <th>3_f1-score</th>\n",
       "      <th>3_precision</th>\n",
       "      <th>...</th>\n",
       "      <th>config_ngram</th>\n",
       "      <th>sample_size</th>\n",
       "      <th>feature_size</th>\n",
       "      <th>has_lda</th>\n",
       "      <th>lda_str</th>\n",
       "      <th>has_sampling</th>\n",
       "      <th>sampling_type</th>\n",
       "      <th>label_column</th>\n",
       "      <th>feature_summary</th>\n",
       "      <th>feature_summary_sampling</th>\n",
       "    </tr>\n",
       "  </thead>\n",
       "  <tbody>\n",
       "    <tr>\n",
       "      <th>0</th>\n",
       "      <td>0.684713</td>\n",
       "      <td>0.634530</td>\n",
       "      <td>0.743516</td>\n",
       "      <td>1735.0</td>\n",
       "      <td>0.219986</td>\n",
       "      <td>0.261538</td>\n",
       "      <td>0.189826</td>\n",
       "      <td>806.0</td>\n",
       "      <td>0.331226</td>\n",
       "      <td>0.325871</td>\n",
       "      <td>...</td>\n",
       "      <td>ngram13</td>\n",
       "      <td>49784</td>\n",
       "      <td>4000</td>\n",
       "      <td>False</td>\n",
       "      <td>nolda</td>\n",
       "      <td>False</td>\n",
       "      <td>sampling_none</td>\n",
       "      <td>star_rating</td>\n",
       "      <td>tfidf-ngram13-4000</td>\n",
       "      <td>tfidf-ngram13-sampling_none</td>\n",
       "    </tr>\n",
       "    <tr>\n",
       "      <th>21</th>\n",
       "      <td>0.656060</td>\n",
       "      <td>0.658537</td>\n",
       "      <td>0.653602</td>\n",
       "      <td>1735.0</td>\n",
       "      <td>0.273304</td>\n",
       "      <td>0.225261</td>\n",
       "      <td>0.347395</td>\n",
       "      <td>806.0</td>\n",
       "      <td>0.311161</td>\n",
       "      <td>0.277108</td>\n",
       "      <td>...</td>\n",
       "      <td>ngram13</td>\n",
       "      <td>49784</td>\n",
       "      <td>4000</td>\n",
       "      <td>False</td>\n",
       "      <td>nolda</td>\n",
       "      <td>False</td>\n",
       "      <td>sampling_none</td>\n",
       "      <td>star_rating</td>\n",
       "      <td>tfidf-ngram13-4000</td>\n",
       "      <td>tfidf-ngram13-sampling_none</td>\n",
       "    </tr>\n",
       "  </tbody>\n",
       "</table>\n",
       "<p>2 rows × 62 columns</p>\n",
       "</div>"
      ],
      "text/plain": [
       "    1_f1-score  1_precision  1_recall  1_support  2_f1-score  2_precision  \\\n",
       "0     0.684713     0.634530  0.743516     1735.0    0.219986     0.261538   \n",
       "21    0.656060     0.658537  0.653602     1735.0    0.273304     0.225261   \n",
       "\n",
       "    2_recall  2_support  3_f1-score  3_precision  ...  config_ngram  \\\n",
       "0   0.189826      806.0    0.331226     0.325871  ...       ngram13   \n",
       "21  0.347395      806.0    0.311161     0.277108  ...       ngram13   \n",
       "\n",
       "    sample_size  feature_size  has_lda  lda_str  has_sampling  sampling_type  \\\n",
       "0         49784          4000    False    nolda         False  sampling_none   \n",
       "21        49784          4000    False    nolda         False  sampling_none   \n",
       "\n",
       "    label_column     feature_summary     feature_summary_sampling  \n",
       "0    star_rating  tfidf-ngram13-4000  tfidf-ngram13-sampling_none  \n",
       "21   star_rating  tfidf-ngram13-4000  tfidf-ngram13-sampling_none  \n",
       "\n",
       "[2 rows x 62 columns]"
      ]
     },
     "execution_count": 4,
     "metadata": {},
     "output_type": "execute_result"
    }
   ],
   "source": [
    "# combine LR results with SVC so we can graph later\n",
    "report_lr_best = report_lr[(report_lr.model_name == 'LRB') & (report_lr.feature_engineering == 'tfidf') & (report_lr.config_ngram == 'ngram13')]\n",
    "report = report_svc.append(report_lr_best)\n",
    "report"
   ]
  },
  {
   "cell_type": "markdown",
   "metadata": {},
   "source": [
    "# Training Time\n",
    "\n",
    "SVC took significantly longer to train and to predict\n",
    "\n",
    "* 5 hours to train\n",
    "* 30 minutes to predict"
   ]
  },
  {
   "cell_type": "code",
   "execution_count": 5,
   "metadata": {},
   "outputs": [
    {
     "data": {
      "text/html": [
       "<div>\n",
       "<style scoped>\n",
       "    .dataframe tbody tr th:only-of-type {\n",
       "        vertical-align: middle;\n",
       "    }\n",
       "\n",
       "    .dataframe tbody tr th {\n",
       "        vertical-align: top;\n",
       "    }\n",
       "\n",
       "    .dataframe thead th {\n",
       "        text-align: right;\n",
       "    }\n",
       "</style>\n",
       "<table border=\"1\" class=\"dataframe\">\n",
       "  <thead>\n",
       "    <tr style=\"text-align: right;\">\n",
       "      <th></th>\n",
       "      <th>train_time_min</th>\n",
       "      <th>predict_time_min</th>\n",
       "    </tr>\n",
       "  </thead>\n",
       "  <tbody>\n",
       "    <tr>\n",
       "      <th>0</th>\n",
       "      <td>281.03</td>\n",
       "      <td>33.49</td>\n",
       "    </tr>\n",
       "    <tr>\n",
       "      <th>21</th>\n",
       "      <td>3.02</td>\n",
       "      <td>0.00</td>\n",
       "    </tr>\n",
       "  </tbody>\n",
       "</table>\n",
       "</div>"
      ],
      "text/plain": [
       "    train_time_min  predict_time_min\n",
       "0           281.03             33.49\n",
       "21            3.02              0.00"
      ]
     },
     "execution_count": 5,
     "metadata": {},
     "output_type": "execute_result"
    }
   ],
   "source": [
    "report[[\"train_time_min\", \"predict_time_min\"]]"
   ]
  },
  {
   "cell_type": "code",
   "execution_count": 6,
   "metadata": {},
   "outputs": [
    {
     "data": {
      "image/png": "[encoded data removed]",
      "text/plain": [
       "<Figure size 1440x360 with 2 Axes>"
      ]
     },
     "metadata": {
      "needs_background": "light"
     },
     "output_type": "display_data"
    }
   ],
   "source": [
    "f, a = plt.subplots(1, 2, figsize=(20, 5))\n",
    "\n",
    "sns.barplot(data=report, x=\"model_name\", y=\"train_time_min\", ax=a[0])\n",
    "_ = a[0].set_title(\"Training Time by Model\")\n",
    "sns.barplot(data=report, x=\"model_name\", y=\"predict_time_min\", ax=a[1])\n",
    "_ = a[1].set_title(\"Predict Time by Model\")\n"
   ]
  },
  {
   "cell_type": "markdown",
   "metadata": {},
   "source": [
    "# Model Result\n",
    "\n",
    "Looking at our custom metric, SVC performs 6% worse than Logistic Regression with balanced weight"
   ]
  },
  {
   "cell_type": "code",
   "execution_count": 7,
   "metadata": {},
   "outputs": [
    {
     "data": {
      "image/png": "[encoded data removed]",
      "text/plain": [
       "<Figure size 1440x360 with 1 Axes>"
      ]
     },
     "metadata": {
      "needs_background": "light"
     },
     "output_type": "display_data"
    }
   ],
   "source": [
    "f, a = plt.subplots(1, 1, figsize=(20, 5))\n",
    "\n",
    "sns.lineplot(data=report, x=\"model_name\", y=\"eval_metric\")\n",
    "_ = plt.title(\"Eval Metric by Model\")"
   ]
  },
  {
   "cell_type": "markdown",
   "metadata": {},
   "source": [
    "# Confusion Matrix for SVC\n",
    "\n",
    "* 1-star reviews tend to be classified as 2-star reviews\n",
    "* 2-star reviews tend to be classified as 1-star reviews\n",
    "* 3-star reviews tend to be classified as 4-star reviews\n",
    "* 4-star reviews tend to be classified as 5-star reviews\n",
    "* 5-star reviews tend to be classified as 4-star reviews"
   ]
  },
  {
   "cell_type": "code",
   "execution_count": 8,
   "metadata": {},
   "outputs": [
    {
     "data": {
      "text/html": [
       "<div>\n",
       "<style scoped>\n",
       "    .dataframe tbody tr th:only-of-type {\n",
       "        vertical-align: middle;\n",
       "    }\n",
       "\n",
       "    .dataframe tbody tr th {\n",
       "        vertical-align: top;\n",
       "    }\n",
       "\n",
       "    .dataframe thead th {\n",
       "        text-align: right;\n",
       "    }\n",
       "</style>\n",
       "<table border=\"1\" class=\"dataframe\">\n",
       "  <thead>\n",
       "    <tr style=\"text-align: right;\">\n",
       "      <th></th>\n",
       "      <th>1</th>\n",
       "      <th>2</th>\n",
       "      <th>3</th>\n",
       "      <th>4</th>\n",
       "      <th>5</th>\n",
       "    </tr>\n",
       "  </thead>\n",
       "  <tbody>\n",
       "    <tr>\n",
       "      <th>0</th>\n",
       "      <td>1290</td>\n",
       "      <td>188</td>\n",
       "      <td>130</td>\n",
       "      <td>54</td>\n",
       "      <td>73</td>\n",
       "    </tr>\n",
       "    <tr>\n",
       "      <th>1</th>\n",
       "      <td>330</td>\n",
       "      <td>153</td>\n",
       "      <td>179</td>\n",
       "      <td>100</td>\n",
       "      <td>44</td>\n",
       "    </tr>\n",
       "    <tr>\n",
       "      <th>2</th>\n",
       "      <td>170</td>\n",
       "      <td>136</td>\n",
       "      <td>393</td>\n",
       "      <td>339</td>\n",
       "      <td>129</td>\n",
       "    </tr>\n",
       "    <tr>\n",
       "      <th>3</th>\n",
       "      <td>85</td>\n",
       "      <td>62</td>\n",
       "      <td>278</td>\n",
       "      <td>969</td>\n",
       "      <td>709</td>\n",
       "    </tr>\n",
       "    <tr>\n",
       "      <th>4</th>\n",
       "      <td>158</td>\n",
       "      <td>46</td>\n",
       "      <td>226</td>\n",
       "      <td>1190</td>\n",
       "      <td>5015</td>\n",
       "    </tr>\n",
       "  </tbody>\n",
       "</table>\n",
       "</div>"
      ],
      "text/plain": [
       "      1    2    3     4     5\n",
       "0  1290  188  130    54    73\n",
       "1   330  153  179   100    44\n",
       "2   170  136  393   339   129\n",
       "3    85   62  278   969   709\n",
       "4   158   46  226  1190  5015"
      ]
     },
     "execution_count": 8,
     "metadata": {},
     "output_type": "execute_result"
    }
   ],
   "source": [
    "pd.DataFrame(json.loads(report_svc.confusion_matrix.values[0])).rename(\n",
    "                {0:\"1\", 1:\"2\", 2:\"3\", 3:\"4\", 4:\"5\"}, axis=1\n",
    ")"
   ]
  },
  {
   "cell_type": "markdown",
   "metadata": {},
   "source": [
    "# Classification Report\n",
    "\n",
    "* Precision for SVC is roughly the same with minority classes being slightly higher and majority classess being slightly lower\n",
    "* SVC recall is lower for 2-star looks to be really low compared to LR. \n",
    "    * Recall for 3-star rating is roughly the same\n",
    "    * Recall for 1-star, 4-star and 5-tar seem to be slightly higher than LR"
   ]
  },
  {
   "cell_type": "code",
   "execution_count": 9,
   "metadata": {},
   "outputs": [
    {
     "name": "stdout",
     "output_type": "stream",
     "text": [
      "Logistic Regression Classification Report\n"
     ]
    },
    {
     "data": {
      "image/png": "[encoded data removed]",
      "text/plain": [
       "<Figure size 1440x72 with 3 Axes>"
      ]
     },
     "metadata": {
      "needs_background": "light"
     },
     "output_type": "display_data"
    },
    {
     "name": "stdout",
     "output_type": "stream",
     "text": [
      "\n",
      "SVC Classification Report\n"
     ]
    },
    {
     "data": {
      "image/png": "[encoded data removed]",
      "text/plain": [
       "<Figure size 1440x72 with 3 Axes>"
      ]
     },
     "metadata": {
      "needs_background": "light"
     },
     "output_type": "display_data"
    }
   ],
   "source": [
    "import util.plot_util as pu\n",
    "\n",
    "print('Logistic Regression Classification Report')\n",
    "pu.plot_score_histograms(report_lr_best, version=2)\n",
    "plt.show()\n",
    "\n",
    "print('\\nSVC Classification Report')\n",
    "pu.plot_score_histograms(report_svc, version=2)\n"
   ]
  },
  {
   "cell_type": "code",
   "execution_count": null,
   "metadata": {},
   "outputs": [],
   "source": []
  }
 ],
 "metadata": {
  "kernelspec": {
   "display_name": "Python 3",
   "language": "python",
   "name": "python3"
  },
  "language_info": {
   "codemirror_mode": {
    "name": "ipython",
    "version": 3
   },
   "file_extension": ".py",
   "mimetype": "text/x-python",
   "name": "python",
   "nbconvert_exporter": "python",
   "pygments_lexer": "ipython3",
   "version": "3.7.5"
  }
 },
 "nbformat": 4,
 "nbformat_minor": 4
}
