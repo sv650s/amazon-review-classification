{
 "nbformat": 4,
 "nbformat_minor": 0,
 "metadata": {
  "accelerator": "GPU",
  "colab": {
   "name": "2019_07_25_biGRU_2layer_with_attention.ipynb",
   "version": "0.3.2",
   "provenance": [],
   "collapsed_sections": [],
   "include_colab_link": true
  },
  "kernelspec": {
   "display_name": "Python 3",
   "language": "python",
   "name": "python3"
  },
  "language_info": {
   "codemirror_mode": {
    "name": "ipython",
    "version": 3
   },
   "file_extension": ".py",
   "mimetype": "text/x-python",
   "name": "python",
   "nbconvert_exporter": "python",
   "pygments_lexer": "ipython3",
   "version": "3.7.3"
  },
  "pycharm": {
   "stem_cell": {
    "cell_type": "raw",
    "source": [],
    "metadata": {
     "collapsed": false
    }
   }
  }
 },
 "cells": [
  {
   "cell_type": "markdown",
   "source": [
    "<a href=\"https://colab.research.google.com/github/sv650s/sb-capstone/blob/master/2019_07_25_biGRU_2layer_with_attention.ipynb\" target=\"_parent\"><img src=\"https://colab.research.google.com/assets/colab-badge.svg\" alt=\"Open In Colab\"/></a>"
   ],
   "metadata": {
    "collapsed": false
   }
  },
  {
   "cell_type": "markdown",
   "metadata": {
    "colab_type": "text",
    "id": "W7_sb1roJXhx"
   },
   "source": [
    "# GRU Prototype With Attention\n",
    "\n",
    "Previous notebook we implemented a [single layer GRU](https://github.com/sv650s/sb-capstone/blob/master/2019-07-22-GRU_prototype.ipynb) without attention\n",
    "\n",
    "For this notebook, we will implement a 2 layer GRU network with attention and 3 dense layer architecture\n",
    "\n",
    "\n",
    "As before, I am using some utility functions so I don't have copy so much code around. Source code for the modules are here:\n",
    "* [dict_util](https://github.com/sv650s/sb-capstone/blob/master/util/dict_util.py)\n",
    "* [plot_util](https://github.com/sv650s/sb-capstone/blob/master/util/plot_util.py)\n",
    "* [keras_util](https://github.com/sv650s/sb-capstone/blob/master/util/keras_util.py)\n",
    "* [file_util](https://github.com/sv650s/sb-capstone/blob/master/util/file_util.py)"
   ]
  },
  {
   "cell_type": "code",
   "metadata": {
    "colab_type": "code",
    "id": "gwrIhSxpG--S",
    "outputId": "ab351bc8-22bb-4898-af15-750e130fc549",
    "colab": {
     "base_uri": "https://localhost:8080/",
     "height": 34
    }
   },
   "source": [
    "from google.colab import drive\n",
    "import sys\n",
    "drive.mount('/content/drive')\n",
    "DRIVE_DIR = \"drive/My Drive/Springboard/capstone\"\n",
    "# add this to sys patch so we can import utility functions\n",
    "sys.path.append(DRIVE_DIR)\n"
   ],
   "execution_count": 8,
   "outputs": [
    {
     "output_type": "stream",
     "text": [
      "Drive already mounted at /content/drive; to attempt to forcibly remount, call drive.mount(\"/content/drive\", force_remount=True).\n"
     ],
     "name": "stdout"
    }
   ]
  },
  {
   "cell_type": "code",
   "metadata": {
    "colab_type": "code",
    "id": "pAHGtniuJXhy",
    "colab": {}
   },
   "source": [
    "from keras.models import Sequential\n",
    "from keras.layers import Dense, Activation, Dropout, GRU, Dropout, Bidirectional\n",
    "from keras.layers.normalization import BatchNormalization\n",
    "from keras.callbacks import EarlyStopping, ReduceLROnPlateau\n",
    "from keras.models import load_model\n",
    "from sklearn.model_selection import train_test_split\n",
    "from keras.optimizers import SGD\n",
    "from sklearn.preprocessing import OneHotEncoder\n",
    "from keras.layers import Flatten\n",
    "from keras.layers.convolutional import Conv1D\n",
    "from keras.layers.convolutional import MaxPooling1D\n",
    "from keras.layers.embeddings import Embedding\n",
    "import pandas as pd\n",
    "from IPython.display import SVG\n",
    "from keras.utils.vis_utils import model_to_dot\n",
    "import pickle\n",
    "from datetime import datetime\n",
    "from sklearn.metrics import confusion_matrix, classification_report\n",
    "import os\n",
    "import seaborn as sns\n",
    "import matplotlib.pyplot as plt\n",
    "\n",
    "\n",
    "# custom utility functions\n",
    "import util.dict_util as du\n",
    "import util.plot_util as pu\n",
    "import util.file_util as fu\n",
    "import util.keras_util as ku\n",
    "\n",
    "\n",
    "sns.set()\n"
   ],
   "execution_count": 0,
   "outputs": []
  },
  {
   "cell_type": "code",
   "metadata": {
    "colab_type": "code",
    "id": "At8OhHNfJXh3",
    "colab": {}
   },
   "source": [
    "DATE_FORMAT = '%Y-%m-%d'\n",
    "TIME_FORMAT = '%Y-%m-%d %H:%M:%S'\n",
    "DATA_FILE = f\"{DRIVE_DIR}/data/amazon_reviews_us_Wireless_v1_00-preprocessed-110k.csv\"\n",
    "LABEL_COLUMN = \"star_rating\"\n",
    "FEATURE_COLUMN = \"review_body\"\n",
    "\n",
    "\n"
   ],
   "execution_count": 0,
   "outputs": []
  },
  {
   "cell_type": "code",
   "metadata": {
    "colab_type": "code",
    "id": "KfGVl2gXLMV_",
    "outputId": "f2527b69-d902-4fe9-db99-3c69ad61a591",
    "colab": {
     "base_uri": "https://localhost:8080/",
     "height": 34
    }
   },
   "source": [
    "import tensorflow as tf\n",
    "# checl to make sure we are using GPU here\n",
    "tf.test.gpu_device_name()"
   ],
   "execution_count": 11,
   "outputs": [
    {
     "output_type": "execute_result",
     "data": {
      "text/plain": [
       "'/device:GPU:0'"
      ]
     },
     "metadata": {
      "tags": []
     },
     "execution_count": 11
    }
   ]
  },
  {
   "cell_type": "code",
   "metadata": {
    "colab_type": "code",
    "hide_input": false,
    "id": "k6fwJp9OJXh5",
    "colab": {}
   },
   "source": [
    "df = pd.read_csv(f\"{DATA_FILE}\")"
   ],
   "execution_count": 0,
   "outputs": []
  },
  {
   "cell_type": "markdown",
   "metadata": {
    "colab_type": "text",
    "id": "EBQR0ZpoOiQk"
   },
   "source": [
    "## Preprocessing\n",
    "\n",
    "*  Preprocessing data file and create the right inputs for Keras models\n",
    "     *   Features:\n",
    "        * tokenize\n",
    "        * pad features into sequence\n",
    "     *   Labels:\n",
    "       *  one hot encoder\n",
    "* split between training and testing\n",
    "\n",
    "See [keras_util](https://github.com/sv650s/sb-capstone/blob/master/util/keras_util.py) for souce code"
   ]
  },
  {
   "cell_type": "code",
   "metadata": {
    "id": "PzGwNuPXAzNa",
    "colab_type": "code",
    "colab": {
     "base_uri": "https://localhost:8080/",
     "height": 190
    },
    "outputId": "256cff31-75b6-406c-b99b-16d6da0d41e0"
   },
   "source": [
    "X_train, X_test, y_train, y_test, tokenizer, max_sequence_length = \\\n",
    "                                  ku.preprocess_file(data_df=df, \n",
    "                                                      feature_column=FEATURE_COLUMN, \n",
    "                                                      label_column=LABEL_COLUMN, \n",
    "                                                      keep_percentile=0.99)"
   ],
   "execution_count": 13,
   "outputs": [
    {
     "output_type": "stream",
     "text": [
      "One hot enocde label data...\n",
      "Splitting data into training and test sets...\n"
     ],
     "name": "stdout"
    },
    {
     "output_type": "stream",
     "text": [
      "/usr/local/lib/python3.6/dist-packages/sklearn/preprocessing/_encoders.py:415: FutureWarning: The handling of integer data will change in version 0.22. Currently, the categories are determined based on the range [0, max(values)], while in the future they will be determined based on the unique values.\n",
      "If you want the future behaviour and silence this warning, you can specify \"categories='auto'\".\n",
      "In case you used a LabelEncoder before this OneHotEncoder to convert the categories to integers, then you can now use the OneHotEncoder directly.\n",
      "  warnings.warn(msg, FutureWarning)\n"
     ],
     "name": "stderr"
    },
    {
     "output_type": "stream",
     "text": [
      "Vocabulary size=40788\n",
      "Number of Documents=84032\n",
      "Max Sequence Length: 186\n"
     ],
     "name": "stdout"
    }
   ]
  },
  {
   "cell_type": "markdown",
   "metadata": {
    "id": "qd8t1zSvBzgh",
    "colab_type": "text"
   },
   "source": [
    "# Building Our GRU Model"
   ]
  },
  {
   "cell_type": "code",
   "metadata": {
    "id": "xulwNtQpGF6J",
    "colab_type": "code",
    "colab": {}
   },
   "source": [
    "from keras.engine.topology import Layer\n",
    "from keras import backend as K\n",
    "import keras\n",
    "\n",
    "\n",
    "class AttentionLayer(Layer):\n",
    "    \n",
    "    def __init__(self, step_dim,\n",
    "                 W_regularizer=None, b_regularizer=None,\n",
    "                 W_constraint=None, b_constraint=None,\n",
    "                 bias=True, **kwargs):\n",
    "        \n",
    "        \"\"\"\n",
    "        Keras Layer that implements an Attention mechanism for temporal data.\n",
    "        Supports Masking.\n",
    "        Follows the work of Raffel et al. [https://arxiv.org/abs/1512.08756]\n",
    "        # Input shape\n",
    "            3D tensor with shape: `(samples, steps, features)`.\n",
    "        # Output shape\n",
    "            2D tensor with shape: `(samples, features)`.\n",
    "        :param kwargs:\n",
    "        Just put it on top of an RNN Layer (GRU/LSTM/SimpleRNN) with return_sequences=True.\n",
    "        The dimensions are inferred based on the output shape of the RNN.\n",
    "        \"\"\"\n",
    "        \n",
    "        self.supports_masking = True\n",
    "        self.init = keras.initializers.get('glorot_uniform')\n",
    "\n",
    "        self.W_regularizer = keras.regularizers.get(W_regularizer)\n",
    "        self.b_regularizer = keras.regularizers.get(b_regularizer)\n",
    "\n",
    "        self.W_constraint = keras.constraints.get(W_constraint)\n",
    "        self.b_constraint = keras.constraints.get(b_constraint)\n",
    "\n",
    "        self.bias = bias\n",
    "        self.step_dim = step_dim\n",
    "        self.features_dim = 0\n",
    "        super(AttentionLayer, self).__init__(**kwargs)\n",
    "        \n",
    "\n",
    "    def build(self, input_shape):\n",
    "        assert len(input_shape) == 3\n",
    "\n",
    "        self.W = self.add_weight((input_shape[-1],),\n",
    "                                 initializer=self.init,\n",
    "                                 name='{}_W'.format(self.name),\n",
    "                                 regularizer=self.W_regularizer,\n",
    "                                 constraint=self.W_constraint)\n",
    "        self.features_dim = input_shape[-1]\n",
    "\n",
    "        if self.bias:\n",
    "            self.b = self.add_weight((input_shape[1],),\n",
    "                                     initializer='zero',\n",
    "                                     name='{}_b'.format(self.name),\n",
    "                                     regularizer=self.b_regularizer,\n",
    "                                     constraint=self.b_constraint)\n",
    "        else:\n",
    "            self.b = None\n",
    "\n",
    "        self.built = True\n",
    "        \n",
    "\n",
    "    def compute_mask(self, input, input_mask=None):\n",
    "        # do not pass the mask to the next layers\n",
    "        return None\n",
    "\n",
    "    \n",
    "    def call(self, x, mask=None):\n",
    "        # TF backend doesn't support it\n",
    "        # eij = K.dot(x, self.W) \n",
    "        # features_dim = self.W.shape[0]\n",
    "        # step_dim = x._keras_shape[1]\n",
    "\n",
    "        features_dim = self.features_dim\n",
    "        step_dim = self.step_dim\n",
    "\n",
    "        eij = K.reshape(K.dot(K.reshape(x, (-1, features_dim)), \n",
    "                              K.reshape(self.W, (features_dim, 1))),\n",
    "                        (-1, step_dim))\n",
    "\n",
    "        if self.bias:\n",
    "            eij += self.b\n",
    "\n",
    "        eij = K.tanh(eij)\n",
    "\n",
    "        a = K.exp(eij)\n",
    "\n",
    "        # apply mask after the exp. will be re-normalized next\n",
    "        if mask is not None:\n",
    "            # Cast the mask to floatX to avoid float64 upcasting in theano\n",
    "            a *= K.cast(mask, K.floatx())\n",
    "\n",
    "        # in some cases especially in the early stages of training the sum may be almost zero\n",
    "        a /= K.cast(K.sum(a, axis=1, keepdims=True) + K.epsilon(), K.floatx())\n",
    "        a = K.expand_dims(a)\n",
    "        weighted_input = x * a\n",
    "        \n",
    "        return K.sum(weighted_input, axis=1)\n",
    "\n",
    "    \n",
    "    def compute_output_shape(self, input_shape):\n",
    "        return input_shape[0],  self.features_dim\n",
    "    \n",
    "    \n",
    "    def get_config(self):\n",
    "        config = {'step_dim': self.step_dim}\n",
    "        base_config = super(AttentionLayer, self).get_config()\n",
    "        return dict(list(base_config.items()) + list(config.items()))"
   ],
   "execution_count": 0,
   "outputs": []
  },
  {
   "cell_type": "code",
   "metadata": {
    "colab_type": "code",
    "id": "LxDcAouddq88",
    "colab": {}
   },
   "source": [
    "MODEL_NAME = \"GRU_bi2layer_attention\"\n",
    "EMBED_SIZE = 300\n",
    "EPOCHS  = 50\n",
    "BATCH_SIZE = 128\n",
    "VOCAB_SIZE = len(tokenizer.word_counts)+1\n",
    "GRU_DIM = 250 # total GRU units"
   ],
   "execution_count": 0,
   "outputs": []
  },
  {
   "cell_type": "code",
   "metadata": {
    "colab_type": "code",
    "id": "653DtCuBJXiF",
    "colab": {}
   },
   "source": [
    "from keras.layers import CuDNNGRU\n",
    "\n",
    "model = Sequential()\n",
    "model.add(Embedding(VOCAB_SIZE, EMBED_SIZE, input_length=max_sequence_length))\n",
    "model.add(Bidirectional(CuDNNGRU(GRU_DIM*2, return_sequences=True)))\n",
    "model.add(Bidirectional(CuDNNGRU(GRU_DIM, return_sequences=True)))\n",
    "model.add(AttentionLayer(max_sequence_length))\n",
    "# model.add(Bidirectional(GRU(units=GRU_DIM, \n",
    "#                             activation='tanh', \n",
    "#                             use_bias=True, \n",
    "#                             dropout=0.2, \n",
    "#                             recurrent_dropout=0.2)))\n",
    "model.add(Dense(GRU_DIM*2, activation='relu'))\n",
    "model.add(Dropout(0.2))\n",
    "model.add(Dense(GRU_DIM, activation='relu'))\n",
    "model.add(Dense(5, activation='softmax'))\n",
    "model.compile(loss='categorical_crossentropy', \n",
    "              optimizer='adam', \n",
    "              metrics=['accuracy'])\n"
   ],
   "execution_count": 0,
   "outputs": []
  },
  {
   "cell_type": "code",
   "metadata": {
    "colab_type": "code",
    "id": "iZitdxXPJXiI",
    "outputId": "d8d529ec-39b6-4bce-9c70-7235ab7f06ec",
    "colab": {
     "base_uri": "https://localhost:8080/",
     "height": 425
    }
   },
   "source": [
    "print(model.summary())"
   ],
   "execution_count": 39,
   "outputs": [
    {
     "output_type": "stream",
     "text": [
      "_________________________________________________________________\n",
      "Layer (type)                 Output Shape              Param #   \n",
      "=================================================================\n",
      "embedding_12 (Embedding)     (None, 186, 300)          12236700  \n",
      "_________________________________________________________________\n",
      "bidirectional_21 (Bidirectio (None, 186, 1000)         2406000   \n",
      "_________________________________________________________________\n",
      "bidirectional_22 (Bidirectio (None, 186, 500)          1878000   \n",
      "_________________________________________________________________\n",
      "attention_layer_8 (Attention (None, 500)               686       \n",
      "_________________________________________________________________\n",
      "dense_10 (Dense)             (None, 500)               250500    \n",
      "_________________________________________________________________\n",
      "dropout_3 (Dropout)          (None, 500)               0         \n",
      "_________________________________________________________________\n",
      "dense_11 (Dense)             (None, 250)               125250    \n",
      "_________________________________________________________________\n",
      "dense_12 (Dense)             (None, 5)                 1255      \n",
      "=================================================================\n",
      "Total params: 16,898,391\n",
      "Trainable params: 16,898,391\n",
      "Non-trainable params: 0\n",
      "_________________________________________________________________\n",
      "None\n"
     ],
     "name": "stdout"
    }
   ]
  },
  {
   "cell_type": "code",
   "metadata": {
    "colab_type": "code",
    "id": "60eC_0fRJXiQ",
    "outputId": "7db317bd-3935-46db-cd45-ee77d45673b6",
    "colab": {
     "base_uri": "https://localhost:8080/",
     "height": 204
    }
   },
   "source": [
    "# reduce learning rate if we sense a plateau\n",
    "reduce_lr = ReduceLROnPlateau(monitor='val_loss', \n",
    "                              factor=0.4,\n",
    "                              patience=2, \n",
    "                              min_lr=0.00001,\n",
    "                             mode='auto')\n",
    "early_stop = EarlyStopping(monitor='val_loss', \n",
    "                           patience=2, \n",
    "                           mode='auto', \n",
    "                           verbose=1,\n",
    "                          restore_best_weights=True)\n",
    "network_history = model.fit(X_train, y_train,\n",
    "                      batch_size=BATCH_SIZE,\n",
    "                      epochs=EPOCHS,\n",
    "                      verbose=1,\n",
    "                      validation_split=0.2,\n",
    "                      callbacks=[reduce_lr, early_stop])"
   ],
   "execution_count": 40,
   "outputs": [
    {
     "output_type": "stream",
     "text": [
      "Train on 67225 samples, validate on 16807 samples\n",
      "Epoch 1/50\n",
      "67225/67225 [==============================] - 161s 2ms/step - loss: 0.9728 - acc: 0.6305 - val_loss: 0.8506 - val_acc: 0.6697\n",
      "Epoch 2/50\n",
      "67225/67225 [==============================] - 158s 2ms/step - loss: 0.7761 - acc: 0.6960 - val_loss: 0.8435 - val_acc: 0.6722\n",
      "Epoch 3/50\n",
      "67225/67225 [==============================] - 158s 2ms/step - loss: 0.6855 - acc: 0.7340 - val_loss: 0.8584 - val_acc: 0.6630\n",
      "Epoch 4/50\n",
      "67225/67225 [==============================] - 159s 2ms/step - loss: 0.6049 - acc: 0.7696 - val_loss: 0.8914 - val_acc: 0.6689\n",
      "Restoring model weights from the end of the best epoch\n",
      "Epoch 00004: early stopping\n"
     ],
     "name": "stdout"
    }
   ]
  },
  {
   "cell_type": "markdown",
   "metadata": {
    "id": "I9-JeeLQDoFm",
    "colab_type": "text"
   },
   "source": [
    "## Evaluating the Model"
   ]
  },
  {
   "cell_type": "code",
   "metadata": {
    "id": "kkYmBlpADrKV",
    "colab_type": "code",
    "colab": {
     "base_uri": "https://localhost:8080/",
     "height": 119
    },
    "outputId": "b5cef8db-a048-4b31-9e0b-890281a5c5fe"
   },
   "source": [
    "from util.keras_util import ModelEvaluator\n",
    "\n",
    "me = ModelEvaluator(MODEL_NAME, model, network_history)\n",
    "me.evaluate(X_test, y_test)"
   ],
   "execution_count": 57,
   "outputs": [
    {
     "output_type": "stream",
     "text": [
      "Running model.evaluate...\n",
      "28011/28011 [==============================] - 35s 1ms/step\n",
      "Running model.predict...\n",
      "Unencode predictions...\n",
      "Generating confusion matrix...\n",
      "Calculating ROC AUC...\n"
     ],
     "name": "stdout"
    }
   ]
  },
  {
   "cell_type": "code",
   "metadata": {
    "colab_type": "code",
    "id": "2VHBrsPjJXiS",
    "outputId": "4719b6e1-fdb6-4487-a989-6f0536183f8f",
    "colab": {
     "base_uri": "https://localhost:8080/",
     "height": 34
    }
   },
   "source": [
    "print(\"Accuracy: %.2f%%\" % (me.scores[1]*100))\n"
   ],
   "execution_count": 58,
   "outputs": [
    {
     "output_type": "stream",
     "text": [
      "Accuracy: 67.83%\n"
     ],
     "name": "stdout"
    }
   ]
  },
  {
   "cell_type": "code",
   "metadata": {
    "colab_type": "code",
    "id": "CsBholvaJXiU",
    "outputId": "382c1e0b-ba14-4f46-98f5-6d48b012f39d",
    "colab": {
     "base_uri": "https://localhost:8080/",
     "height": 345
    }
   },
   "source": [
    "pu.plot_network_history(me.network_history)"
   ],
   "execution_count": 59,
   "outputs": [
    {
     "output_type": "display_data",
     "data": {
      "image/png": "[encoded data removed]",
      "text/plain": [
       "<Figure size 720x360 with 2 Axes>"
      ]
     },
     "metadata": {
      "tags": []
     }
    }
   ]
  },
  {
   "cell_type": "code",
   "metadata": {
    "colab_type": "code",
    "id": "QyaOAdhqJXih",
    "outputId": "9fc85527-f964-497b-9576-16b672e1c97f",
    "colab": {
     "base_uri": "https://localhost:8080/",
     "height": 102
    }
   },
   "source": [
    "me.confusion_matrix"
   ],
   "execution_count": 60,
   "outputs": [
    {
     "output_type": "execute_result",
     "data": {
      "text/plain": [
       "array([[ 3099,   132,   359,    98,   280],\n",
       "       [  777,   157,   415,   255,   267],\n",
       "       [  419,    80,   552,   798,   682],\n",
       "       [  122,    23,   216,  1280,  3111],\n",
       "       [  194,    15,    90,   678, 13912]])"
      ]
     },
     "metadata": {
      "tags": []
     },
     "execution_count": 60
    }
   ]
  },
  {
   "cell_type": "code",
   "metadata": {
    "colab_type": "code",
    "id": "6emER3oBJXil",
    "outputId": "d6e153f0-c588-42d7-e9c2-2992fc51469b",
    "colab": {
     "base_uri": "https://localhost:8080/",
     "height": 221
    }
   },
   "source": [
    "print(me.classification_report)"
   ],
   "execution_count": 61,
   "outputs": [
    {
     "output_type": "stream",
     "text": [
      "              precision    recall  f1-score   support\n",
      "\n",
      "           1       0.67      0.78      0.72      3968\n",
      "           2       0.39      0.08      0.14      1871\n",
      "           3       0.34      0.22      0.27      2531\n",
      "           4       0.41      0.27      0.33      4752\n",
      "           5       0.76      0.93      0.84     14889\n",
      "\n",
      "    accuracy                           0.68     28011\n",
      "   macro avg       0.51      0.46      0.46     28011\n",
      "weighted avg       0.63      0.68      0.64     28011\n",
      "\n"
     ],
     "name": "stdout"
    }
   ]
  },
  {
   "cell_type": "code",
   "metadata": {
    "colab_type": "code",
    "id": "H12pYFCj1Hbn",
    "outputId": "757ed25b-98ca-49a6-ede6-1b5ec0d021c1",
    "colab": {
     "base_uri": "https://localhost:8080/",
     "height": 445
    }
   },
   "source": [
    "fig = plt.figure(figsize=(5,5))\n",
    "pu.plot_roc_auc(me.name, me.roc_auc, me.fpr, me.tpr)"
   ],
   "execution_count": 62,
   "outputs": [
    {
     "output_type": "display_data",
     "data": {
      "image/png": "[encoded data removed]",
      "text/plain": [
       "<Figure size 360x360 with 1 Axes>"
      ]
     },
     "metadata": {
      "tags": []
     }
    }
   ]
  },
  {
   "cell_type": "markdown",
   "metadata": {
    "id": "cISHAzDmSo73",
    "colab_type": "text"
   },
   "source": [
    "## Save off filees"
   ]
  },
  {
   "cell_type": "code",
   "metadata": {
    "colab_type": "code",
    "id": "VjW8V1MR61kJ",
    "colab": {}
   },
   "source": [
    "directory, INBASENAME = fu.get_dir_basename(DATA_FILE)\n",
    "DESCRIPTION = f\"{INBASENAME}-{MODEL_NAME}-{max_sequence_length}-{FEATURE_COLUMN}\"\n",
    "MODEL_FILE = f\"{DRIVE_DIR}/models/{datetime.now().strftime(DATE_FORMAT)}-{DESCRIPTION}.h5\"\n",
    "NETWORK_HISTORY_FILE = f'{DRIVE_DIR}/models/{datetime.now().strftime(DATE_FORMAT)}-{DESCRIPTION}-history.pkl'\n",
    "REPORT_FILE = f\"{DRIVE_DIR}/reports/{datetime.now().strftime(DATE_FORMAT)}-dl_protype-report.csv\"\n",
    "TOKENIZER_FILE = f'{DRIVE_DIR}/models/dl-tokenizer.pkl'\n"
   ],
   "execution_count": 0,
   "outputs": []
  },
  {
   "cell_type": "code",
   "metadata": {
    "colab_type": "code",
    "id": "GjVjezXPJXin",
    "colab": {}
   },
   "source": [
    "me.model.save(MODEL_FILE)"
   ],
   "execution_count": 0,
   "outputs": []
  },
  {
   "cell_type": "code",
   "metadata": {
    "colab_type": "code",
    "id": "Cad0ykC2JXip",
    "colab": {}
   },
   "source": [
    "pickle.dump(me.network_history, open(NETWORK_HISTORY_FILE, \"wb\"))\n",
    "pickle.dump(tokenizer, open(TOKENIZER_FILE, \"wb\"))"
   ],
   "execution_count": 0,
   "outputs": []
  },
  {
   "cell_type": "code",
   "metadata": {
    "colab_type": "code",
    "id": "oz4FzsvmJXit",
    "colab": {}
   },
   "source": [
    "# saving off report in the same format as other report just in case we want to compare for later\n",
    "flattened = {}\n",
    "flattened = du.add_dict_to_dict(flattened, me.crd)\n",
    "flattened = du.add_dict_to_dict(flattened, me.roc_auc)\n",
    "flattened[\"tpr\"] = me.tpr\n",
    "flattened[\"fpr\"] = me.fpr\n",
    "flattened[\"loss\"] = me.scores[0]\n",
    "flattened[\"accuracy\"] = me.scores[1]\n",
    "flattened[\"confusion_matrix\"] = me.confusion_matrix\n",
    "flattened[\"description\"] = DESCRIPTION\n",
    "flattened[\"file\"] = DATA_FILE\n",
    "flattened[\"network_history_file\"] = NETWORK_HISTORY_FILE\n",
    "flattened[\"tokenizer_file\"] = TOKENIZER_FILE\n",
    "flattened[\"max_sequence_length\"] = max_sequence_length\n",
    "flattened[\"embedding\"] = EMBED_SIZE\n",
    "flattened[\"model_file\"] = MODEL_FILE\n",
    "flattened[\"model_name\"] = MODEL_NAME\n",
    "flattened[\"test_examples\"] = X_test.shape[0]\n",
    "flattened[\"test_features\"] = X_test.shape[1]\n",
    "flattened[\"train_examples\"] = X_train.shape[0]\n",
    "flattened[\"train_features\"] = X_train.shape[1]\n",
    "flattened[\"status\"] = \"success\"\n",
    "flattened[\"status_date\"] = datetime.now().strftime(TIME_FORMAT)\n"
   ],
   "execution_count": 0,
   "outputs": []
  },
  {
   "cell_type": "code",
   "metadata": {
    "colab_type": "code",
    "id": "n_tWTK57JXiv",
    "outputId": "ea897052-b8f9-4769-e9e6-ec09af926b1c",
    "colab": {
     "base_uri": "https://localhost:8080/",
     "height": 705
    }
   },
   "source": [
    "# check to see if report file exisits, if so load it and append\n",
    "print(f'Loading {REPORT_FILE}')\n",
    "exists = os.path.isfile(REPORT_FILE)\n",
    "if exists:\n",
    "    report_df = pd.read_csv(REPORT_FILE)\n",
    "else:\n",
    "    report_df = pd.DataFrame()\n",
    "    \n",
    "report_df = report_df.append(flattened, ignore_index=True)\n",
    "report_df.head(20)"
   ],
   "execution_count": 135,
   "outputs": [
    {
     "output_type": "stream",
     "text": [
      "Loading drive/My Drive/Springboard/capstone/reports/2019-07-26-dl_protype-report.csv\n"
     ],
     "name": "stdout"
    },
    {
     "output_type": "execute_result",
     "data": {
      "text/html": [
       "<div>\n",
       "<style scoped>\n",
       "    .dataframe tbody tr th:only-of-type {\n",
       "        vertical-align: middle;\n",
       "    }\n",
       "\n",
       "    .dataframe tbody tr th {\n",
       "        vertical-align: top;\n",
       "    }\n",
       "\n",
       "    .dataframe thead th {\n",
       "        text-align: right;\n",
       "    }\n",
       "</style>\n",
       "<table border=\"1\" class=\"dataframe\">\n",
       "  <thead>\n",
       "    <tr style=\"text-align: right;\">\n",
       "      <th></th>\n",
       "      <th>1_f1-score</th>\n",
       "      <th>1_precision</th>\n",
       "      <th>1_recall</th>\n",
       "      <th>1_support</th>\n",
       "      <th>2_f1-score</th>\n",
       "      <th>2_precision</th>\n",
       "      <th>2_recall</th>\n",
       "      <th>2_support</th>\n",
       "      <th>3_f1-score</th>\n",
       "      <th>3_precision</th>\n",
       "      <th>3_recall</th>\n",
       "      <th>3_support</th>\n",
       "      <th>4_f1-score</th>\n",
       "      <th>4_precision</th>\n",
       "      <th>4_recall</th>\n",
       "      <th>4_support</th>\n",
       "      <th>5_f1-score</th>\n",
       "      <th>5_precision</th>\n",
       "      <th>5_recall</th>\n",
       "      <th>5_support</th>\n",
       "      <th>accuracy</th>\n",
       "      <th>auc_1</th>\n",
       "      <th>auc_2</th>\n",
       "      <th>auc_3</th>\n",
       "      <th>auc_4</th>\n",
       "      <th>auc_5</th>\n",
       "      <th>auc_macro</th>\n",
       "      <th>auc_micro</th>\n",
       "      <th>confusion_matrix</th>\n",
       "      <th>description</th>\n",
       "      <th>embedding</th>\n",
       "      <th>file</th>\n",
       "      <th>fpr</th>\n",
       "      <th>loss</th>\n",
       "      <th>macro avg_f1-score</th>\n",
       "      <th>macro avg_precision</th>\n",
       "      <th>macro avg_recall</th>\n",
       "      <th>macro avg_support</th>\n",
       "      <th>max_sequence_length</th>\n",
       "      <th>model_file</th>\n",
       "      <th>model_name</th>\n",
       "      <th>network_history_file</th>\n",
       "      <th>status</th>\n",
       "      <th>status_date</th>\n",
       "      <th>test_examples</th>\n",
       "      <th>test_features</th>\n",
       "      <th>tokenizer_file</th>\n",
       "      <th>tpr</th>\n",
       "      <th>train_examples</th>\n",
       "      <th>train_features</th>\n",
       "      <th>weighted avg_f1-score</th>\n",
       "      <th>weighted avg_precision</th>\n",
       "      <th>weighted avg_recall</th>\n",
       "      <th>weighted avg_support</th>\n",
       "    </tr>\n",
       "  </thead>\n",
       "  <tbody>\n",
       "    <tr>\n",
       "      <th>0</th>\n",
       "      <td>0.699892</td>\n",
       "      <td>0.668502</td>\n",
       "      <td>0.734375</td>\n",
       "      <td>3968</td>\n",
       "      <td>0.208247</td>\n",
       "      <td>0.291627</td>\n",
       "      <td>0.161945</td>\n",
       "      <td>1871</td>\n",
       "      <td>0.309842</td>\n",
       "      <td>0.317823</td>\n",
       "      <td>0.302252</td>\n",
       "      <td>2531</td>\n",
       "      <td>0.349922</td>\n",
       "      <td>0.409360</td>\n",
       "      <td>0.305556</td>\n",
       "      <td>4752</td>\n",
       "      <td>0.826930</td>\n",
       "      <td>0.783000</td>\n",
       "      <td>0.876083</td>\n",
       "      <td>14889</td>\n",
       "      <td>0.659669</td>\n",
       "      <td>0.944717</td>\n",
       "      <td>0.847903</td>\n",
       "      <td>0.809665</td>\n",
       "      <td>0.731212</td>\n",
       "      <td>0.872641</td>\n",
       "      <td>0.841251</td>\n",
       "      <td>0.899640</td>\n",
       "      <td>[[ 2914   352   369    86   247]\\n [  721   30...</td>\n",
       "      <td>amazon_reviews_us_Wireless_v1_00-preprocessed-...</td>\n",
       "      <td>300</td>\n",
       "      <td>drive/My Drive/Springboard/capstone/data/amazo...</td>\n",
       "      <td>{0: array([0.       , 0.       , 0.       , .....</td>\n",
       "      <td>1.011368</td>\n",
       "      <td>0.478967</td>\n",
       "      <td>0.494062</td>\n",
       "      <td>0.476042</td>\n",
       "      <td>28011</td>\n",
       "      <td>186</td>\n",
       "      <td>drive/My Drive/Springboard/capstone/models/201...</td>\n",
       "      <td>CNN_3layer_with_pooling_early_stop</td>\n",
       "      <td>drive/My Drive/Springboard/capstone/models/201...</td>\n",
       "      <td>success</td>\n",
       "      <td>7/25/19 18:13</td>\n",
       "      <td>28011</td>\n",
       "      <td>186</td>\n",
       "      <td>drive/My Drive/Springboard/capstone/models/201...</td>\n",
       "      <td>{0: array([0.00000000e+00, 2.52016129e-04, 2.2...</td>\n",
       "      <td>84032</td>\n",
       "      <td>186</td>\n",
       "      <td>0.639963</td>\n",
       "      <td>0.628540</td>\n",
       "      <td>0.659669</td>\n",
       "      <td>28011</td>\n",
       "    </tr>\n",
       "    <tr>\n",
       "      <th>1</th>\n",
       "      <td>0.585552</td>\n",
       "      <td>0.613875</td>\n",
       "      <td>0.559728</td>\n",
       "      <td>3968</td>\n",
       "      <td>0.237802</td>\n",
       "      <td>0.228868</td>\n",
       "      <td>0.247461</td>\n",
       "      <td>1871</td>\n",
       "      <td>0.260959</td>\n",
       "      <td>0.272337</td>\n",
       "      <td>0.250494</td>\n",
       "      <td>2531</td>\n",
       "      <td>0.316089</td>\n",
       "      <td>0.344682</td>\n",
       "      <td>0.291877</td>\n",
       "      <td>4752</td>\n",
       "      <td>0.780017</td>\n",
       "      <td>0.752528</td>\n",
       "      <td>0.809591</td>\n",
       "      <td>14889</td>\n",
       "      <td>0.598301</td>\n",
       "      <td>0.859891</td>\n",
       "      <td>0.741051</td>\n",
       "      <td>0.701313</td>\n",
       "      <td>0.653234</td>\n",
       "      <td>0.813515</td>\n",
       "      <td>0.753827</td>\n",
       "      <td>0.827750</td>\n",
       "      <td>[[ 2221   734   346   122   545]\\n [  534   46...</td>\n",
       "      <td>amazon_reviews_us_Wireless_v1_00-preprocessed-...</td>\n",
       "      <td>300</td>\n",
       "      <td>drive/My Drive/Springboard/capstone/data/amazo...</td>\n",
       "      <td>{0: array([0.        , 0.00141413, 0.00191324,...</td>\n",
       "      <td>2.646713</td>\n",
       "      <td>0.436084</td>\n",
       "      <td>0.442458</td>\n",
       "      <td>0.431830</td>\n",
       "      <td>28011</td>\n",
       "      <td>186</td>\n",
       "      <td>drive/My Drive/Springboard/capstone/models/201...</td>\n",
       "      <td>CNN_3layer_with_pooling_15_epoch</td>\n",
       "      <td>drive/My Drive/Springboard/capstone/models/201...</td>\n",
       "      <td>success</td>\n",
       "      <td>7/25/19 19:46</td>\n",
       "      <td>28011</td>\n",
       "      <td>186</td>\n",
       "      <td>drive/My Drive/Springboard/capstone/models/201...</td>\n",
       "      <td>{0: array([0.        , 0.08341734, 0.09299395,...</td>\n",
       "      <td>84032</td>\n",
       "      <td>186</td>\n",
       "      <td>0.590647</td>\n",
       "      <td>0.585330</td>\n",
       "      <td>0.598301</td>\n",
       "      <td>28011</td>\n",
       "    </tr>\n",
       "    <tr>\n",
       "      <th>2</th>\n",
       "      <td>0.699142</td>\n",
       "      <td>0.647615</td>\n",
       "      <td>0.759577</td>\n",
       "      <td>3968</td>\n",
       "      <td>0.217936</td>\n",
       "      <td>0.273387</td>\n",
       "      <td>0.181187</td>\n",
       "      <td>1871</td>\n",
       "      <td>0.288655</td>\n",
       "      <td>0.332817</td>\n",
       "      <td>0.254840</td>\n",
       "      <td>2531</td>\n",
       "      <td>0.313079</td>\n",
       "      <td>0.403183</td>\n",
       "      <td>0.255892</td>\n",
       "      <td>4752</td>\n",
       "      <td>0.826345</td>\n",
       "      <td>0.771602</td>\n",
       "      <td>0.889449</td>\n",
       "      <td>14889</td>\n",
       "      <td>0.658920</td>\n",
       "      <td>0.941683</td>\n",
       "      <td>0.843724</td>\n",
       "      <td>0.806022</td>\n",
       "      <td>0.726704</td>\n",
       "      <td>0.871740</td>\n",
       "      <td>0.837998</td>\n",
       "      <td>0.899241</td>\n",
       "      <td>[[ 3014   371   230    81   272]\\n [  805   33...</td>\n",
       "      <td>amazon_reviews_us_Wireless_v1_00-preprocessed-...</td>\n",
       "      <td>32</td>\n",
       "      <td>drive/My Drive/Springboard/capstone/data/amazo...</td>\n",
       "      <td>{0: array([0.        , 0.        , 0.        ,...</td>\n",
       "      <td>0.994809</td>\n",
       "      <td>0.469031</td>\n",
       "      <td>0.485721</td>\n",
       "      <td>0.468189</td>\n",
       "      <td>28011</td>\n",
       "      <td>186</td>\n",
       "      <td>drive/My Drive/Springboard/capstone/models/201...</td>\n",
       "      <td>CNN_1layerEmbedding32</td>\n",
       "      <td>drive/My Drive/Springboard/capstone/models/201...</td>\n",
       "      <td>success</td>\n",
       "      <td>7/24/19 5:28</td>\n",
       "      <td>28011</td>\n",
       "      <td>186</td>\n",
       "      <td>drive/My Drive/Springboard/capstone/models/201...</td>\n",
       "      <td>{0: array([0.00000000e+00, 2.52016129e-04, 7.5...</td>\n",
       "      <td>84032</td>\n",
       "      <td>186</td>\n",
       "      <td>0.632028</td>\n",
       "      <td>0.618611</td>\n",
       "      <td>0.658920</td>\n",
       "      <td>28011</td>\n",
       "    </tr>\n",
       "    <tr>\n",
       "      <th>3</th>\n",
       "      <td>0.696838</td>\n",
       "      <td>0.668597</td>\n",
       "      <td>0.727571</td>\n",
       "      <td>3968</td>\n",
       "      <td>0.197038</td>\n",
       "      <td>0.277132</td>\n",
       "      <td>0.152859</td>\n",
       "      <td>1871</td>\n",
       "      <td>0.324192</td>\n",
       "      <td>0.308987</td>\n",
       "      <td>0.340972</td>\n",
       "      <td>2531</td>\n",
       "      <td>0.350047</td>\n",
       "      <td>0.392521</td>\n",
       "      <td>0.315867</td>\n",
       "      <td>4752</td>\n",
       "      <td>0.814664</td>\n",
       "      <td>0.785340</td>\n",
       "      <td>0.846262</td>\n",
       "      <td>14889</td>\n",
       "      <td>0.647496</td>\n",
       "      <td>0.947877</td>\n",
       "      <td>0.851681</td>\n",
       "      <td>0.808577</td>\n",
       "      <td>0.728379</td>\n",
       "      <td>0.871871</td>\n",
       "      <td>0.841699</td>\n",
       "      <td>0.898781</td>\n",
       "      <td>[[ 2887   355   413    73   240]\\n [  725   28...</td>\n",
       "      <td>amazon_reviews_us_Wireless_v1_00-preprocessed-...</td>\n",
       "      <td>300</td>\n",
       "      <td>drive/My Drive/Springboard/capstone/data/amazo...</td>\n",
       "      <td>{0: array([0.        , 0.        , 0.        ,...</td>\n",
       "      <td>0.964895</td>\n",
       "      <td>0.476556</td>\n",
       "      <td>0.486515</td>\n",
       "      <td>0.476706</td>\n",
       "      <td>28011</td>\n",
       "      <td>186</td>\n",
       "      <td>2019-07-24-amazon_reviews_us_Wireless_v1_00-pr...</td>\n",
       "      <td>CNN_1layerEmbedding300</td>\n",
       "      <td>2019-07-24-amazon_reviews_us_Wireless_v1_00-pr...</td>\n",
       "      <td>success</td>\n",
       "      <td>7/24/19 5:30</td>\n",
       "      <td>28011</td>\n",
       "      <td>186</td>\n",
       "      <td>2019-07-24-amazon_reviews_us_Wireless_v1_00-pr...</td>\n",
       "      <td>{0: array([0.00000000e+00, 2.52016129e-04, 8.5...</td>\n",
       "      <td>84032</td>\n",
       "      <td>186</td>\n",
       "      <td>0.633579</td>\n",
       "      <td>0.625174</td>\n",
       "      <td>0.647496</td>\n",
       "      <td>28011</td>\n",
       "    </tr>\n",
       "    <tr>\n",
       "      <th>4</th>\n",
       "      <td>0.713225</td>\n",
       "      <td>0.660791</td>\n",
       "      <td>0.774698</td>\n",
       "      <td>3968</td>\n",
       "      <td>0.169296</td>\n",
       "      <td>0.302198</td>\n",
       "      <td>0.117584</td>\n",
       "      <td>1871</td>\n",
       "      <td>0.308936</td>\n",
       "      <td>0.345552</td>\n",
       "      <td>0.279336</td>\n",
       "      <td>2531</td>\n",
       "      <td>0.303829</td>\n",
       "      <td>0.436686</td>\n",
       "      <td>0.232955</td>\n",
       "      <td>4752</td>\n",
       "      <td>0.831112</td>\n",
       "      <td>0.758338</td>\n",
       "      <td>0.919336</td>\n",
       "      <td>14889</td>\n",
       "      <td>0.671022</td>\n",
       "      <td>0.948909</td>\n",
       "      <td>0.853113</td>\n",
       "      <td>0.813873</td>\n",
       "      <td>0.740059</td>\n",
       "      <td>0.877310</td>\n",
       "      <td>0.846676</td>\n",
       "      <td>0.906195</td>\n",
       "      <td>[[ 3074   203   268    52   371]\\n [  845   22...</td>\n",
       "      <td>amazon_reviews_us_Wireless_v1_00-preprocessed-...</td>\n",
       "      <td>300</td>\n",
       "      <td>drive/My Drive/Springboard/capstone/data/amazo...</td>\n",
       "      <td>{0: array([0.        , 0.        , 0.        ,...</td>\n",
       "      <td>0.922682</td>\n",
       "      <td>0.465280</td>\n",
       "      <td>0.500713</td>\n",
       "      <td>0.464782</td>\n",
       "      <td>28011</td>\n",
       "      <td>186</td>\n",
       "      <td>drive/My Drive/Springboard/capstone/models/201...</td>\n",
       "      <td>CNN_2layer</td>\n",
       "      <td>drive/My Drive/Springboard/capstone/models/201...</td>\n",
       "      <td>success</td>\n",
       "      <td>7/24/19 15:35</td>\n",
       "      <td>28011</td>\n",
       "      <td>186</td>\n",
       "      <td>drive/My Drive/Springboard/capstone/models/201...</td>\n",
       "      <td>{0: array([0.00000000e+00, 2.52016129e-04, 2.5...</td>\n",
       "      <td>84032</td>\n",
       "      <td>186</td>\n",
       "      <td>0.633571</td>\n",
       "      <td>0.622186</td>\n",
       "      <td>0.671022</td>\n",
       "      <td>28011</td>\n",
       "    </tr>\n",
       "    <tr>\n",
       "      <th>5</th>\n",
       "      <td>0.697318</td>\n",
       "      <td>0.684211</td>\n",
       "      <td>0.710938</td>\n",
       "      <td>3968</td>\n",
       "      <td>0.250698</td>\n",
       "      <td>0.298817</td>\n",
       "      <td>0.215927</td>\n",
       "      <td>1871</td>\n",
       "      <td>0.324250</td>\n",
       "      <td>0.324122</td>\n",
       "      <td>0.324378</td>\n",
       "      <td>2531</td>\n",
       "      <td>0.359692</td>\n",
       "      <td>0.403454</td>\n",
       "      <td>0.324495</td>\n",
       "      <td>4752</td>\n",
       "      <td>0.823560</td>\n",
       "      <td>0.790680</td>\n",
       "      <td>0.859292</td>\n",
       "      <td>14889</td>\n",
       "      <td>0.671022</td>\n",
       "      <td>0.942648</td>\n",
       "      <td>0.849668</td>\n",
       "      <td>0.808197</td>\n",
       "      <td>0.737883</td>\n",
       "      <td>0.875173</td>\n",
       "      <td>0.842738</td>\n",
       "      <td>0.898059</td>\n",
       "      <td>[[ 2821   477   357    83   230]\\n [  672   40...</td>\n",
       "      <td>amazon_reviews_us_Wireless_v1_00-preprocessed-...</td>\n",
       "      <td>300</td>\n",
       "      <td>drive/My Drive/Springboard/capstone/data/amazo...</td>\n",
       "      <td>{0: array([0.        , 0.        , 0.        ,...</td>\n",
       "      <td>0.922682</td>\n",
       "      <td>0.491104</td>\n",
       "      <td>0.500257</td>\n",
       "      <td>0.487006</td>\n",
       "      <td>28011</td>\n",
       "      <td>186</td>\n",
       "      <td>drive/My Drive/Springboard/capstone/models/201...</td>\n",
       "      <td>CNN_3layer</td>\n",
       "      <td>drive/My Drive/Springboard/capstone/models/201...</td>\n",
       "      <td>success</td>\n",
       "      <td>7/24/19 16:07</td>\n",
       "      <td>28011</td>\n",
       "      <td>186</td>\n",
       "      <td>drive/My Drive/Springboard/capstone/models/201...</td>\n",
       "      <td>{0: array([0.00000000e+00, 2.52016129e-04, 3.7...</td>\n",
       "      <td>84032</td>\n",
       "      <td>186</td>\n",
       "      <td>0.643602</td>\n",
       "      <td>0.634895</td>\n",
       "      <td>0.656242</td>\n",
       "      <td>28011</td>\n",
       "    </tr>\n",
       "    <tr>\n",
       "      <th>6</th>\n",
       "      <td>0.710614</td>\n",
       "      <td>0.649948</td>\n",
       "      <td>0.783770</td>\n",
       "      <td>3968</td>\n",
       "      <td>0.150563</td>\n",
       "      <td>0.274788</td>\n",
       "      <td>0.103688</td>\n",
       "      <td>1871</td>\n",
       "      <td>0.288155</td>\n",
       "      <td>0.346667</td>\n",
       "      <td>0.246543</td>\n",
       "      <td>2531</td>\n",
       "      <td>0.346005</td>\n",
       "      <td>0.424335</td>\n",
       "      <td>0.292088</td>\n",
       "      <td>4752</td>\n",
       "      <td>0.829921</td>\n",
       "      <td>0.769041</td>\n",
       "      <td>0.901269</td>\n",
       "      <td>14889</td>\n",
       "      <td>0.668844</td>\n",
       "      <td>0.948884</td>\n",
       "      <td>0.855739</td>\n",
       "      <td>0.818787</td>\n",
       "      <td>0.740204</td>\n",
       "      <td>0.878942</td>\n",
       "      <td>0.848532</td>\n",
       "      <td>0.906253</td>\n",
       "      <td>[[ 3110   206   255    95   302]\\n [  836   19...</td>\n",
       "      <td>amazon_reviews_us_Wireless_v1_00-preprocessed-...</td>\n",
       "      <td>300</td>\n",
       "      <td>drive/My Drive/Springboard/capstone/data/amazo...</td>\n",
       "      <td>{0: array([0.        , 0.        , 0.        ,...</td>\n",
       "      <td>0.919215</td>\n",
       "      <td>0.465052</td>\n",
       "      <td>0.492956</td>\n",
       "      <td>0.465472</td>\n",
       "      <td>28011</td>\n",
       "      <td>186</td>\n",
       "      <td>drive/My Drive/Springboard/capstone/models/201...</td>\n",
       "      <td>GRU_1layer</td>\n",
       "      <td>drive/My Drive/Springboard/capstone/models/201...</td>\n",
       "      <td>success</td>\n",
       "      <td>7/25/19 4:08</td>\n",
       "      <td>28011</td>\n",
       "      <td>186</td>\n",
       "      <td>drive/My Drive/Springboard/capstone/models/201...</td>\n",
       "      <td>{0: array([0.00000000e+00, 2.52016129e-04, 1.0...</td>\n",
       "      <td>84032</td>\n",
       "      <td>186</td>\n",
       "      <td>0.636595</td>\n",
       "      <td>0.622514</td>\n",
       "      <td>0.668844</td>\n",
       "      <td>28011</td>\n",
       "    </tr>\n",
       "    <tr>\n",
       "      <th>7</th>\n",
       "      <td>0.712649</td>\n",
       "      <td>0.670593</td>\n",
       "      <td>0.760333</td>\n",
       "      <td>3968</td>\n",
       "      <td>0.206433</td>\n",
       "      <td>0.304802</td>\n",
       "      <td>0.156066</td>\n",
       "      <td>1871</td>\n",
       "      <td>0.348639</td>\n",
       "      <td>0.358846</td>\n",
       "      <td>0.338996</td>\n",
       "      <td>2531</td>\n",
       "      <td>0.301807</td>\n",
       "      <td>0.458405</td>\n",
       "      <td>0.224958</td>\n",
       "      <td>4752</td>\n",
       "      <td>0.839548</td>\n",
       "      <td>0.770288</td>\n",
       "      <td>0.922493</td>\n",
       "      <td>14889</td>\n",
       "      <td>0.677270</td>\n",
       "      <td>0.953787</td>\n",
       "      <td>0.862784</td>\n",
       "      <td>0.833407</td>\n",
       "      <td>0.754537</td>\n",
       "      <td>0.892991</td>\n",
       "      <td>0.859522</td>\n",
       "      <td>0.912754</td>\n",
       "      <td>[[ 3017   310   278    45   318]\\n [  762   29...</td>\n",
       "      <td>amazon_reviews_us_Wireless_v1_00-preprocessed-...</td>\n",
       "      <td>300</td>\n",
       "      <td>drive/My Drive/Springboard/capstone/data/amazo...</td>\n",
       "      <td>{0: array([0.        , 0.        , 0.        ,...</td>\n",
       "      <td>0.835059</td>\n",
       "      <td>0.481815</td>\n",
       "      <td>0.512587</td>\n",
       "      <td>0.480569</td>\n",
       "      <td>28011</td>\n",
       "      <td>186</td>\n",
       "      <td>drive/My Drive/Springboard/capstone/models/201...</td>\n",
       "      <td>GRU_bi1layer_attention</td>\n",
       "      <td>drive/My Drive/Springboard/capstone/models/201...</td>\n",
       "      <td>success</td>\n",
       "      <td>7/26/19 4:38</td>\n",
       "      <td>28011</td>\n",
       "      <td>186</td>\n",
       "      <td>drive/My Drive/Springboard/capstone/models/dl-...</td>\n",
       "      <td>{0: array([0.00000000e+00, 2.52016129e-04, 7.5...</td>\n",
       "      <td>84032</td>\n",
       "      <td>186</td>\n",
       "      <td>0.643699</td>\n",
       "      <td>0.634986</td>\n",
       "      <td>0.677270</td>\n",
       "      <td>28011</td>\n",
       "    </tr>\n",
       "    <tr>\n",
       "      <th>8</th>\n",
       "      <td>0.722462</td>\n",
       "      <td>0.672088</td>\n",
       "      <td>0.780998</td>\n",
       "      <td>3968</td>\n",
       "      <td>0.137840</td>\n",
       "      <td>0.385749</td>\n",
       "      <td>0.083912</td>\n",
       "      <td>1871</td>\n",
       "      <td>0.265193</td>\n",
       "      <td>0.338235</td>\n",
       "      <td>0.218096</td>\n",
       "      <td>2531</td>\n",
       "      <td>0.325658</td>\n",
       "      <td>0.411708</td>\n",
       "      <td>0.269360</td>\n",
       "      <td>4752</td>\n",
       "      <td>0.839564</td>\n",
       "      <td>0.762218</td>\n",
       "      <td>0.934381</td>\n",
       "      <td>14889</td>\n",
       "      <td>0.678305</td>\n",
       "      <td>0.955639</td>\n",
       "      <td>0.867413</td>\n",
       "      <td>0.828632</td>\n",
       "      <td>0.750316</td>\n",
       "      <td>0.893508</td>\n",
       "      <td>0.859122</td>\n",
       "      <td>0.912822</td>\n",
       "      <td>[[ 3099   132   359    98   280]\\n [  777   15...</td>\n",
       "      <td>amazon_reviews_us_Wireless_v1_00-preprocessed-...</td>\n",
       "      <td>300</td>\n",
       "      <td>drive/My Drive/Springboard/capstone/data/amazo...</td>\n",
       "      <td>{0: array([0.        , 0.        , 0.        ,...</td>\n",
       "      <td>0.831876</td>\n",
       "      <td>0.458144</td>\n",
       "      <td>0.514000</td>\n",
       "      <td>0.457349</td>\n",
       "      <td>28011</td>\n",
       "      <td>186</td>\n",
       "      <td>drive/My Drive/Springboard/capstone/models/201...</td>\n",
       "      <td>GRU_bi2layer_attention</td>\n",
       "      <td>drive/My Drive/Springboard/capstone/models/201...</td>\n",
       "      <td>success</td>\n",
       "      <td>7/26/19 3:29</td>\n",
       "      <td>28011</td>\n",
       "      <td>186</td>\n",
       "      <td>drive/My Drive/Springboard/capstone/models/dl-...</td>\n",
       "      <td>{0: array([0.00000000e+00, 2.52016129e-04, 6.5...</td>\n",
       "      <td>84032</td>\n",
       "      <td>186</td>\n",
       "      <td>0.637022</td>\n",
       "      <td>0.626531</td>\n",
       "      <td>0.678305</td>\n",
       "      <td>28011</td>\n",
       "    </tr>\n",
       "  </tbody>\n",
       "</table>\n",
       "</div>"
      ],
      "text/plain": [
       "   1_f1-score  1_precision  ...  weighted avg_recall  weighted avg_support\n",
       "0    0.699892     0.668502  ...             0.659669                 28011\n",
       "1    0.585552     0.613875  ...             0.598301                 28011\n",
       "2    0.699142     0.647615  ...             0.658920                 28011\n",
       "3    0.696838     0.668597  ...             0.647496                 28011\n",
       "4    0.713225     0.660791  ...             0.671022                 28011\n",
       "5    0.697318     0.684211  ...             0.656242                 28011\n",
       "6    0.710614     0.649948  ...             0.668844                 28011\n",
       "7    0.712649     0.670593  ...             0.677270                 28011\n",
       "8    0.722462     0.672088  ...             0.678305                 28011\n",
       "\n",
       "[9 rows x 54 columns]"
      ]
     },
     "metadata": {
      "tags": []
     },
     "execution_count": 135
    }
   ]
  },
  {
   "cell_type": "code",
   "metadata": {
    "colab_type": "code",
    "id": "w0FY2QZvJXiw",
    "colab": {}
   },
   "source": [
    "report_df.to_csv(REPORT_FILE, index=False)"
   ],
   "execution_count": 0,
   "outputs": []
  },
  {
   "cell_type": "markdown",
   "metadata": {
    "id": "-Zfgf9XNVww4",
    "colab_type": "text"
   },
   "source": [
    "# Compare 2 Layeer GRU with Attention to 1 Layer GRU without Attention"
   ]
  },
  {
   "cell_type": "code",
   "metadata": {
    "colab_type": "code",
    "id": "Q3brst7TTblA",
    "colab": {
     "base_uri": "https://localhost:8080/",
     "height": 187
    },
    "outputId": "e6981543-818f-40ec-e7a8-856c2cd328a9"
   },
   "source": [
    "# let's see all the model repoorts that we saved off from before\n",
    "report_df.model_name"
   ],
   "execution_count": 136,
   "outputs": [
    {
     "output_type": "execute_result",
     "data": {
      "text/plain": [
       "0    CNN_3layer_with_pooling_early_stop\n",
       "1      CNN_3layer_with_pooling_15_epoch\n",
       "2                 CNN_1layerEmbedding32\n",
       "3                CNN_1layerEmbedding300\n",
       "4                            CNN_2layer\n",
       "5                            CNN_3layer\n",
       "6                            GRU_1layer\n",
       "7                GRU_bi1layer_attention\n",
       "8                GRU_bi2layer_attention\n",
       "Name: model_name, dtype: object"
      ]
     },
     "metadata": {
      "tags": []
     },
     "execution_count": 136
    }
   ]
  },
  {
   "cell_type": "code",
   "metadata": {
    "id": "0NeFe1DsWIgL",
    "colab_type": "code",
    "colab": {}
   },
   "source": [
    "display_df = report_df[report_df.model_name.str.startswith(\"GRU\")]"
   ],
   "execution_count": 0,
   "outputs": []
  },
  {
   "cell_type": "code",
   "metadata": {
    "id": "xFpUA_BibInv",
    "colab_type": "code",
    "colab": {
     "base_uri": "https://localhost:8080/",
     "height": 111
    },
    "outputId": "c7174eed-280c-453d-ff67-313cdfd519d9"
   },
   "source": [
    "display_df[[\"model_name\", \"accuracy\"]].T"
   ],
   "execution_count": 140,
   "outputs": [
    {
     "output_type": "execute_result",
     "data": {
      "text/html": [
       "<div>\n",
       "<style scoped>\n",
       "    .dataframe tbody tr th:only-of-type {\n",
       "        vertical-align: middle;\n",
       "    }\n",
       "\n",
       "    .dataframe tbody tr th {\n",
       "        vertical-align: top;\n",
       "    }\n",
       "\n",
       "    .dataframe thead th {\n",
       "        text-align: right;\n",
       "    }\n",
       "</style>\n",
       "<table border=\"1\" class=\"dataframe\">\n",
       "  <thead>\n",
       "    <tr style=\"text-align: right;\">\n",
       "      <th></th>\n",
       "      <th>6</th>\n",
       "      <th>7</th>\n",
       "      <th>8</th>\n",
       "    </tr>\n",
       "  </thead>\n",
       "  <tbody>\n",
       "    <tr>\n",
       "      <th>model_name</th>\n",
       "      <td>GRU_1layer</td>\n",
       "      <td>GRU_bi1layer_attention</td>\n",
       "      <td>GRU_bi2layer_attention</td>\n",
       "    </tr>\n",
       "    <tr>\n",
       "      <th>accuracy</th>\n",
       "      <td>0.668844</td>\n",
       "      <td>0.67727</td>\n",
       "      <td>0.678305</td>\n",
       "    </tr>\n",
       "  </tbody>\n",
       "</table>\n",
       "</div>"
      ],
      "text/plain": [
       "                     6                       7                       8\n",
       "model_name  GRU_1layer  GRU_bi1layer_attention  GRU_bi2layer_attention\n",
       "accuracy      0.668844                 0.67727                0.678305"
      ]
     },
     "metadata": {
      "tags": []
     },
     "execution_count": 140
    }
   ]
  },
  {
   "cell_type": "code",
   "metadata": {
    "id": "AnNfbz7PhJi5",
    "colab_type": "code",
    "colab": {
     "base_uri": "https://localhost:8080/",
     "height": 374
    },
    "outputId": "33da84cf-d6e1-45a2-e4ae-747f3340889f"
   },
   "source": [
    "for index, row in display_df.iterrows():\n",
    "  print(f'Confusion Matrix - {row.model_name}:\\n{row.confusion_matrix}\\n')\n"
   ],
   "execution_count": 141,
   "outputs": [
    {
     "output_type": "stream",
     "text": [
      "Confusion Matrix - GRU_1layer:\n",
      "[[ 3110   206   255    95   302]\n",
      " [  836   194   376   191   274]\n",
      " [  456   197   624   574   680]\n",
      " [  158    67   365  1388  2774]\n",
      " [  225    42   180  1023 13419]]\n",
      "\n",
      "Confusion Matrix - GRU_bi1layer_attention:\n",
      "[[ 3017   310   278    45   318]\n",
      " [  762   292   450   117   250]\n",
      " [  416   231   858   420   606]\n",
      " [  130    80   551  1069  2922]\n",
      " [  174    45   254   681 13735]]\n",
      "\n",
      "Confusion Matrix - GRU_bi2layer_attention:\n",
      "[[ 3099   132   359    98   280]\n",
      " [  777   157   415   255   267]\n",
      " [  419    80   552   798   682]\n",
      " [  122    23   216  1280  3111]\n",
      " [  194    15    90   678 13912]]\n",
      "\n"
     ],
     "name": "stdout"
    }
   ]
  },
  {
   "cell_type": "code",
   "metadata": {
    "id": "VyBS87vIZsRb",
    "colab_type": "code",
    "colab": {
     "base_uri": "https://localhost:8080/",
     "height": 700
    },
    "outputId": "480234da-24b6-49e6-bf40-1772a722c96a"
   },
   "source": [
    "cr_columns = sorted([col for col in display_df.columns if col[0].isdigit()])\n",
    "cr_columns.insert(0, \"model_name\")\n",
    "display_df[cr_columns].T\n"
   ],
   "execution_count": 142,
   "outputs": [
    {
     "output_type": "execute_result",
     "data": {
      "text/html": [
       "<div>\n",
       "<style scoped>\n",
       "    .dataframe tbody tr th:only-of-type {\n",
       "        vertical-align: middle;\n",
       "    }\n",
       "\n",
       "    .dataframe tbody tr th {\n",
       "        vertical-align: top;\n",
       "    }\n",
       "\n",
       "    .dataframe thead th {\n",
       "        text-align: right;\n",
       "    }\n",
       "</style>\n",
       "<table border=\"1\" class=\"dataframe\">\n",
       "  <thead>\n",
       "    <tr style=\"text-align: right;\">\n",
       "      <th></th>\n",
       "      <th>6</th>\n",
       "      <th>7</th>\n",
       "      <th>8</th>\n",
       "    </tr>\n",
       "  </thead>\n",
       "  <tbody>\n",
       "    <tr>\n",
       "      <th>model_name</th>\n",
       "      <td>GRU_1layer</td>\n",
       "      <td>GRU_bi1layer_attention</td>\n",
       "      <td>GRU_bi2layer_attention</td>\n",
       "    </tr>\n",
       "    <tr>\n",
       "      <th>1_f1-score</th>\n",
       "      <td>0.710614</td>\n",
       "      <td>0.712649</td>\n",
       "      <td>0.722462</td>\n",
       "    </tr>\n",
       "    <tr>\n",
       "      <th>1_precision</th>\n",
       "      <td>0.649948</td>\n",
       "      <td>0.670593</td>\n",
       "      <td>0.672088</td>\n",
       "    </tr>\n",
       "    <tr>\n",
       "      <th>1_recall</th>\n",
       "      <td>0.78377</td>\n",
       "      <td>0.760333</td>\n",
       "      <td>0.780998</td>\n",
       "    </tr>\n",
       "    <tr>\n",
       "      <th>1_support</th>\n",
       "      <td>3968</td>\n",
       "      <td>3968</td>\n",
       "      <td>3968</td>\n",
       "    </tr>\n",
       "    <tr>\n",
       "      <th>2_f1-score</th>\n",
       "      <td>0.150563</td>\n",
       "      <td>0.206433</td>\n",
       "      <td>0.13784</td>\n",
       "    </tr>\n",
       "    <tr>\n",
       "      <th>2_precision</th>\n",
       "      <td>0.274788</td>\n",
       "      <td>0.304802</td>\n",
       "      <td>0.385749</td>\n",
       "    </tr>\n",
       "    <tr>\n",
       "      <th>2_recall</th>\n",
       "      <td>0.103688</td>\n",
       "      <td>0.156066</td>\n",
       "      <td>0.0839123</td>\n",
       "    </tr>\n",
       "    <tr>\n",
       "      <th>2_support</th>\n",
       "      <td>1871</td>\n",
       "      <td>1871</td>\n",
       "      <td>1871</td>\n",
       "    </tr>\n",
       "    <tr>\n",
       "      <th>3_f1-score</th>\n",
       "      <td>0.288155</td>\n",
       "      <td>0.348639</td>\n",
       "      <td>0.265193</td>\n",
       "    </tr>\n",
       "    <tr>\n",
       "      <th>3_precision</th>\n",
       "      <td>0.346667</td>\n",
       "      <td>0.358846</td>\n",
       "      <td>0.338235</td>\n",
       "    </tr>\n",
       "    <tr>\n",
       "      <th>3_recall</th>\n",
       "      <td>0.246543</td>\n",
       "      <td>0.338996</td>\n",
       "      <td>0.218096</td>\n",
       "    </tr>\n",
       "    <tr>\n",
       "      <th>3_support</th>\n",
       "      <td>2531</td>\n",
       "      <td>2531</td>\n",
       "      <td>2531</td>\n",
       "    </tr>\n",
       "    <tr>\n",
       "      <th>4_f1-score</th>\n",
       "      <td>0.346005</td>\n",
       "      <td>0.301807</td>\n",
       "      <td>0.325658</td>\n",
       "    </tr>\n",
       "    <tr>\n",
       "      <th>4_precision</th>\n",
       "      <td>0.424335</td>\n",
       "      <td>0.458405</td>\n",
       "      <td>0.411708</td>\n",
       "    </tr>\n",
       "    <tr>\n",
       "      <th>4_recall</th>\n",
       "      <td>0.292088</td>\n",
       "      <td>0.224958</td>\n",
       "      <td>0.26936</td>\n",
       "    </tr>\n",
       "    <tr>\n",
       "      <th>4_support</th>\n",
       "      <td>4752</td>\n",
       "      <td>4752</td>\n",
       "      <td>4752</td>\n",
       "    </tr>\n",
       "    <tr>\n",
       "      <th>5_f1-score</th>\n",
       "      <td>0.829921</td>\n",
       "      <td>0.839548</td>\n",
       "      <td>0.839564</td>\n",
       "    </tr>\n",
       "    <tr>\n",
       "      <th>5_precision</th>\n",
       "      <td>0.769041</td>\n",
       "      <td>0.770288</td>\n",
       "      <td>0.762218</td>\n",
       "    </tr>\n",
       "    <tr>\n",
       "      <th>5_recall</th>\n",
       "      <td>0.901269</td>\n",
       "      <td>0.922493</td>\n",
       "      <td>0.934381</td>\n",
       "    </tr>\n",
       "    <tr>\n",
       "      <th>5_support</th>\n",
       "      <td>14889</td>\n",
       "      <td>14889</td>\n",
       "      <td>14889</td>\n",
       "    </tr>\n",
       "  </tbody>\n",
       "</table>\n",
       "</div>"
      ],
      "text/plain": [
       "                      6                       7                       8\n",
       "model_name   GRU_1layer  GRU_bi1layer_attention  GRU_bi2layer_attention\n",
       "1_f1-score     0.710614                0.712649                0.722462\n",
       "1_precision    0.649948                0.670593                0.672088\n",
       "1_recall        0.78377                0.760333                0.780998\n",
       "1_support          3968                    3968                    3968\n",
       "2_f1-score     0.150563                0.206433                 0.13784\n",
       "2_precision    0.274788                0.304802                0.385749\n",
       "2_recall       0.103688                0.156066               0.0839123\n",
       "2_support          1871                    1871                    1871\n",
       "3_f1-score     0.288155                0.348639                0.265193\n",
       "3_precision    0.346667                0.358846                0.338235\n",
       "3_recall       0.246543                0.338996                0.218096\n",
       "3_support          2531                    2531                    2531\n",
       "4_f1-score     0.346005                0.301807                0.325658\n",
       "4_precision    0.424335                0.458405                0.411708\n",
       "4_recall       0.292088                0.224958                 0.26936\n",
       "4_support          4752                    4752                    4752\n",
       "5_f1-score     0.829921                0.839548                0.839564\n",
       "5_precision    0.769041                0.770288                0.762218\n",
       "5_recall       0.901269                0.922493                0.934381\n",
       "5_support         14889                   14889                   14889"
      ]
     },
     "metadata": {
      "tags": []
     },
     "execution_count": 142
    }
   ]
  },
  {
   "cell_type": "code",
   "metadata": {
    "id": "D5hiqMOKeVaW",
    "colab_type": "code",
    "colab": {
     "base_uri": "https://localhost:8080/",
     "height": 297
    },
    "outputId": "3363aac2-5c16-4260-b036-f39b092de174"
   },
   "source": [
    "auc_columns = sorted([col for col in display_df.columns if col.startswith('auc')])\n",
    "auc_columns.insert(0, \"model_name\")\n",
    "display_df[auc_columns].T\n"
   ],
   "execution_count": 143,
   "outputs": [
    {
     "output_type": "execute_result",
     "data": {
      "text/html": [
       "<div>\n",
       "<style scoped>\n",
       "    .dataframe tbody tr th:only-of-type {\n",
       "        vertical-align: middle;\n",
       "    }\n",
       "\n",
       "    .dataframe tbody tr th {\n",
       "        vertical-align: top;\n",
       "    }\n",
       "\n",
       "    .dataframe thead th {\n",
       "        text-align: right;\n",
       "    }\n",
       "</style>\n",
       "<table border=\"1\" class=\"dataframe\">\n",
       "  <thead>\n",
       "    <tr style=\"text-align: right;\">\n",
       "      <th></th>\n",
       "      <th>6</th>\n",
       "      <th>7</th>\n",
       "      <th>8</th>\n",
       "    </tr>\n",
       "  </thead>\n",
       "  <tbody>\n",
       "    <tr>\n",
       "      <th>model_name</th>\n",
       "      <td>GRU_1layer</td>\n",
       "      <td>GRU_bi1layer_attention</td>\n",
       "      <td>GRU_bi2layer_attention</td>\n",
       "    </tr>\n",
       "    <tr>\n",
       "      <th>auc_1</th>\n",
       "      <td>0.948884</td>\n",
       "      <td>0.953787</td>\n",
       "      <td>0.955639</td>\n",
       "    </tr>\n",
       "    <tr>\n",
       "      <th>auc_2</th>\n",
       "      <td>0.855739</td>\n",
       "      <td>0.862784</td>\n",
       "      <td>0.867413</td>\n",
       "    </tr>\n",
       "    <tr>\n",
       "      <th>auc_3</th>\n",
       "      <td>0.818787</td>\n",
       "      <td>0.833407</td>\n",
       "      <td>0.828632</td>\n",
       "    </tr>\n",
       "    <tr>\n",
       "      <th>auc_4</th>\n",
       "      <td>0.740204</td>\n",
       "      <td>0.754537</td>\n",
       "      <td>0.750316</td>\n",
       "    </tr>\n",
       "    <tr>\n",
       "      <th>auc_5</th>\n",
       "      <td>0.878942</td>\n",
       "      <td>0.892991</td>\n",
       "      <td>0.893508</td>\n",
       "    </tr>\n",
       "    <tr>\n",
       "      <th>auc_macro</th>\n",
       "      <td>0.848532</td>\n",
       "      <td>0.859522</td>\n",
       "      <td>0.859122</td>\n",
       "    </tr>\n",
       "    <tr>\n",
       "      <th>auc_micro</th>\n",
       "      <td>0.906253</td>\n",
       "      <td>0.912754</td>\n",
       "      <td>0.912822</td>\n",
       "    </tr>\n",
       "  </tbody>\n",
       "</table>\n",
       "</div>"
      ],
      "text/plain": [
       "                     6                       7                       8\n",
       "model_name  GRU_1layer  GRU_bi1layer_attention  GRU_bi2layer_attention\n",
       "auc_1         0.948884                0.953787                0.955639\n",
       "auc_2         0.855739                0.862784                0.867413\n",
       "auc_3         0.818787                0.833407                0.828632\n",
       "auc_4         0.740204                0.754537                0.750316\n",
       "auc_5         0.878942                0.892991                0.893508\n",
       "auc_macro     0.848532                0.859522                0.859122\n",
       "auc_micro     0.906253                0.912754                0.912822"
      ]
     },
     "metadata": {
      "tags": []
     },
     "execution_count": 143
    }
   ]
  },
  {
   "cell_type": "markdown",
   "metadata": {
    "id": "h9HZApICfnAl",
    "colab_type": "text"
   },
   "source": [
    "# Conclusion\n",
    "\n",
    "Generally we are seeing the 2 Layer GRU Attention is performing better than 1 Layer GRU with and without Attention\n",
    "\n",
    "* Accuracy increased by overall 1% when we implemented the 2 layer bidirecitonal GRU with attention compared to 1 layer without attention and only slightly better than 1 layer with Attentiion\n",
    "* 1 layer GRU with attention identified the most number of Star 2 ratings which has the highest recall however, the precision is not as high as 2 layer with attention \n",
    "* 2 layer GRU with attention classifies star 2 ratings less but they tend to be more accurate - precision increased by around 10% from 1 layer without attention. Although since we are now less likely to classify something as star 2 rating, the recall has dropped by a couple perent - I think this is a reasonable trade-off\n",
    "* 1 layer GRU with attentions did the best for Star rating 3 where as 2 layer GRU with attention did the worse for this class\n",
    "* Both models with attention, recall was worse than 1 layer without attention meaning they tended not to classify reviews at star 4. However, 1 layer GRU with attention was the most accurate when it did classify a review into this class\n",
    "* AUC for 2 layer with attention did better than the other 2 models except it did slightly worse 0.4% than 1 layer with attention\n",
    "\n",
    "Overall, I would choose 2 layer GRU with attention over the other 2 models as it performs better in star rating 2 with small tradeoffs in class 4 ratings"
   ]
  },
  {
   "cell_type": "code",
   "metadata": {
    "id": "60Qp-HKUidpp",
    "colab_type": "code",
    "colab": {}
   },
   "source": [
    ""
   ],
   "execution_count": 0,
   "outputs": []
  }
 ]
}
