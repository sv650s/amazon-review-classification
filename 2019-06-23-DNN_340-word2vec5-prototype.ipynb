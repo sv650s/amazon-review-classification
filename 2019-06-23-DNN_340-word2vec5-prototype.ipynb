{
  "nbformat": 4,
  "nbformat_minor": 0,
  "metadata": {
    "hide_input": false,
    "kernelspec": {
      "display_name": "Python 3",
      "language": "python",
      "name": "python3"
    },
    "language_info": {
      "codemirror_mode": {
        "name": "ipython",
        "version": 3
      },
      "file_extension": ".py",
      "mimetype": "text/x-python",
      "name": "python",
      "nbconvert_exporter": "python",
      "pygments_lexer": "ipython3",
      "version": "3.7.3"
    },
    "colab": {
      "name": "2019-06-23-DNN_340-word2vec5-prototype.ipynb",
      "version": "0.3.2",
      "provenance": [],
      "include_colab_link": true
    }
  },
  "cells": [
    {
      "cell_type": "markdown",
      "metadata": {
        "id": "view-in-github",
        "colab_type": "text"
      },
      "source": [
        "<a href=\"https://colab.research.google.com/github/sv650s/sb-capstone/blob/master/2019-06-23-DNN_340-word2vec5-prototype.ipynb\" target=\"_parent\"><img src=\"https://colab.research.google.com/assets/colab-badge.svg\" alt=\"Open In Colab\"/></a>"
      ]
    },
    {
      "cell_type": "markdown",
      "metadata": {
        "id": "5rz_1x33qRgm",
        "colab_type": "text"
      },
      "source": [
        "# DNN with 1 layer NN with 340 neurons Prototype\n",
        "\n",
        "Exprimenting with 1 layer NN with 340 neruons. Came up with this number since we want to keep number of neurons to be around 2/3 of input features"
      ]
    },
    {
      "cell_type": "code",
      "metadata": {
        "id": "zV9oHkqwq3Tg",
        "colab_type": "code",
        "outputId": "9eb59777-da90-42bb-fcbf-1858dc6799ec",
        "colab": {
          "base_uri": "https://localhost:8080/",
          "height": 34
        }
      },
      "source": [
        "from google.colab import drive\n",
        "import sys\n",
        "drive.mount('/content/drive')\n",
        "# add this to sys patch so we can import utility functions\n",
        "DRIVE_DIR = \"drive/My Drive/Springboard/capstone\"\n",
        "sys.path.append('drive/My Drive/Springboard/capstone')\n"
      ],
      "execution_count": 1,
      "outputs": [
        {
          "output_type": "stream",
          "text": [
            "Drive already mounted at /content/drive; to attempt to forcibly remount, call drive.mount(\"/content/drive\", force_remount=True).\n"
          ],
          "name": "stdout"
        }
      ]
    },
    {
      "cell_type": "code",
      "metadata": {
        "id": "nRJxK9lGqRgo",
        "colab_type": "code",
        "outputId": "5ea91316-635b-4ca8-cb73-a2b830221826",
        "colab": {
          "base_uri": "https://localhost:8080/",
          "height": 34
        }
      },
      "source": [
        "from keras.models import Sequential\n",
        "from keras.layers import Dense, Activation, Dropout\n",
        "from keras.layers.normalization import BatchNormalization\n",
        "from keras.callbacks import EarlyStopping\n",
        "from keras.models import load_model\n",
        "from sklearn.model_selection import train_test_split\n",
        "from keras.optimizers import SGD\n",
        "from sklearn.preprocessing import OneHotEncoder\n",
        "import pandas as pd\n",
        "from IPython.display import SVG\n",
        "from keras.utils.vis_utils import model_to_dot\n",
        "from util import dict_util as du\n",
        "from util import file_util as fu\n",
        "from util import plot_util as pu\n",
        "import pickle\n",
        "from datetime import datetime\n",
        "from sklearn.metrics import confusion_matrix, classification_report\n",
        "import os\n",
        "import matplotlib.pyplot as plt\n",
        "import seaborn as sns\n",
        "\n",
        "\n",
        "import util.file_util as fu\n",
        "import util.keras_util as ku\n",
        "import util.plot_util as pu\n",
        "import util.dict_util as du\n",
        "\n",
        "\n",
        "%matplotlib inline\n",
        "sns.set()\n",
        "\n",
        "\n",
        "import logging\n",
        "logging.basicConfig(level=logging.INFO)\n"
      ],
      "execution_count": 2,
      "outputs": [
        {
          "output_type": "stream",
          "text": [
            "Using TensorFlow backend.\n"
          ],
          "name": "stderr"
        }
      ]
    },
    {
      "cell_type": "code",
      "metadata": {
        "id": "JOAe73v0qRgt",
        "colab_type": "code",
        "colab": {}
      },
      "source": [
        "DATE_FORMAT = '%Y-%m-%d'\n",
        "TIME_FORMAT = '%Y-%m-%d %H:%M:%S'\n",
        "DATA_FILE = \"review_body-word2vec5-111909-512-nolda.csv\"\n",
        "MODEL_NAME = \"DNN_340\"\n",
        "LABEL_COLUMN = \"star_rating\""
      ],
      "execution_count": 0,
      "outputs": []
    },
    {
      "cell_type": "code",
      "metadata": {
        "hide_input": false,
        "id": "GV71itojqRgv",
        "colab_type": "code",
        "colab": {}
      },
      "source": [
        "df = pd.read_csv(f\"{DRIVE_DIR}/data/{DATA_FILE}\")\n",
        "rating = df[LABEL_COLUMN]\n",
        "df = df.drop(columns=[\"helpful_votes\", \"total_votes\", \"helpful_product\", \"star_rating\"])"
      ],
      "execution_count": 0,
      "outputs": []
    },
    {
      "cell_type": "code",
      "metadata": {
        "id": "Be3cDIl3qRgx",
        "colab_type": "code",
        "outputId": "3b6ce7d0-5094-4e1b-8f3e-0f45fde2c520",
        "colab": {
          "base_uri": "https://localhost:8080/",
          "height": 253
        }
      },
      "source": [
        "df.head()"
      ],
      "execution_count": 5,
      "outputs": [
        {
          "output_type": "execute_result",
          "data": {
            "text/html": [
              "<div>\n",
              "<style scoped>\n",
              "    .dataframe tbody tr th:only-of-type {\n",
              "        vertical-align: middle;\n",
              "    }\n",
              "\n",
              "    .dataframe tbody tr th {\n",
              "        vertical-align: top;\n",
              "    }\n",
              "\n",
              "    .dataframe thead th {\n",
              "        text-align: right;\n",
              "    }\n",
              "</style>\n",
              "<table border=\"1\" class=\"dataframe\">\n",
              "  <thead>\n",
              "    <tr style=\"text-align: right;\">\n",
              "      <th></th>\n",
              "      <th>0</th>\n",
              "      <th>1</th>\n",
              "      <th>2</th>\n",
              "      <th>3</th>\n",
              "      <th>4</th>\n",
              "      <th>5</th>\n",
              "      <th>6</th>\n",
              "      <th>7</th>\n",
              "      <th>8</th>\n",
              "      <th>9</th>\n",
              "      <th>10</th>\n",
              "      <th>11</th>\n",
              "      <th>12</th>\n",
              "      <th>13</th>\n",
              "      <th>14</th>\n",
              "      <th>15</th>\n",
              "      <th>16</th>\n",
              "      <th>17</th>\n",
              "      <th>18</th>\n",
              "      <th>19</th>\n",
              "      <th>20</th>\n",
              "      <th>21</th>\n",
              "      <th>22</th>\n",
              "      <th>23</th>\n",
              "      <th>24</th>\n",
              "      <th>25</th>\n",
              "      <th>26</th>\n",
              "      <th>27</th>\n",
              "      <th>28</th>\n",
              "      <th>29</th>\n",
              "      <th>30</th>\n",
              "      <th>31</th>\n",
              "      <th>32</th>\n",
              "      <th>33</th>\n",
              "      <th>34</th>\n",
              "      <th>35</th>\n",
              "      <th>36</th>\n",
              "      <th>37</th>\n",
              "      <th>38</th>\n",
              "      <th>39</th>\n",
              "      <th>...</th>\n",
              "      <th>472</th>\n",
              "      <th>473</th>\n",
              "      <th>474</th>\n",
              "      <th>475</th>\n",
              "      <th>476</th>\n",
              "      <th>477</th>\n",
              "      <th>478</th>\n",
              "      <th>479</th>\n",
              "      <th>480</th>\n",
              "      <th>481</th>\n",
              "      <th>482</th>\n",
              "      <th>483</th>\n",
              "      <th>484</th>\n",
              "      <th>485</th>\n",
              "      <th>486</th>\n",
              "      <th>487</th>\n",
              "      <th>488</th>\n",
              "      <th>489</th>\n",
              "      <th>490</th>\n",
              "      <th>491</th>\n",
              "      <th>492</th>\n",
              "      <th>493</th>\n",
              "      <th>494</th>\n",
              "      <th>495</th>\n",
              "      <th>496</th>\n",
              "      <th>497</th>\n",
              "      <th>498</th>\n",
              "      <th>499</th>\n",
              "      <th>500</th>\n",
              "      <th>501</th>\n",
              "      <th>502</th>\n",
              "      <th>503</th>\n",
              "      <th>504</th>\n",
              "      <th>505</th>\n",
              "      <th>506</th>\n",
              "      <th>507</th>\n",
              "      <th>508</th>\n",
              "      <th>509</th>\n",
              "      <th>510</th>\n",
              "      <th>511</th>\n",
              "    </tr>\n",
              "  </thead>\n",
              "  <tbody>\n",
              "    <tr>\n",
              "      <th>0</th>\n",
              "      <td>-0.288502</td>\n",
              "      <td>-0.481055</td>\n",
              "      <td>0.258424</td>\n",
              "      <td>0.362731</td>\n",
              "      <td>0.475364</td>\n",
              "      <td>0.421039</td>\n",
              "      <td>0.014504</td>\n",
              "      <td>0.213545</td>\n",
              "      <td>-0.390066</td>\n",
              "      <td>0.103808</td>\n",
              "      <td>0.092057</td>\n",
              "      <td>-0.045284</td>\n",
              "      <td>0.178335</td>\n",
              "      <td>0.163173</td>\n",
              "      <td>-0.825025</td>\n",
              "      <td>-0.117711</td>\n",
              "      <td>0.193103</td>\n",
              "      <td>-0.039416</td>\n",
              "      <td>0.232813</td>\n",
              "      <td>-0.626957</td>\n",
              "      <td>0.255899</td>\n",
              "      <td>-0.086203</td>\n",
              "      <td>-0.112010</td>\n",
              "      <td>-0.049405</td>\n",
              "      <td>-0.168732</td>\n",
              "      <td>-0.066539</td>\n",
              "      <td>-0.313819</td>\n",
              "      <td>-0.177017</td>\n",
              "      <td>0.028803</td>\n",
              "      <td>-0.097103</td>\n",
              "      <td>0.623241</td>\n",
              "      <td>0.014126</td>\n",
              "      <td>0.023108</td>\n",
              "      <td>0.058664</td>\n",
              "      <td>-0.216553</td>\n",
              "      <td>0.400928</td>\n",
              "      <td>0.303050</td>\n",
              "      <td>-0.222227</td>\n",
              "      <td>-0.287176</td>\n",
              "      <td>0.037768</td>\n",
              "      <td>...</td>\n",
              "      <td>0.329862</td>\n",
              "      <td>0.034904</td>\n",
              "      <td>-0.214976</td>\n",
              "      <td>0.167887</td>\n",
              "      <td>-0.085614</td>\n",
              "      <td>-0.093523</td>\n",
              "      <td>-0.529687</td>\n",
              "      <td>0.326094</td>\n",
              "      <td>0.163124</td>\n",
              "      <td>-0.068303</td>\n",
              "      <td>-0.531376</td>\n",
              "      <td>-0.006876</td>\n",
              "      <td>-0.179367</td>\n",
              "      <td>0.017102</td>\n",
              "      <td>0.018383</td>\n",
              "      <td>-0.121967</td>\n",
              "      <td>0.012128</td>\n",
              "      <td>-0.409407</td>\n",
              "      <td>-0.597547</td>\n",
              "      <td>-0.159906</td>\n",
              "      <td>-0.358888</td>\n",
              "      <td>-0.042565</td>\n",
              "      <td>0.285005</td>\n",
              "      <td>0.432336</td>\n",
              "      <td>-0.005819</td>\n",
              "      <td>-0.093201</td>\n",
              "      <td>0.208513</td>\n",
              "      <td>-0.279186</td>\n",
              "      <td>-0.242795</td>\n",
              "      <td>0.565175</td>\n",
              "      <td>0.193389</td>\n",
              "      <td>-0.345230</td>\n",
              "      <td>-0.041291</td>\n",
              "      <td>0.063343</td>\n",
              "      <td>-0.230869</td>\n",
              "      <td>-0.018990</td>\n",
              "      <td>-0.462915</td>\n",
              "      <td>-0.762691</td>\n",
              "      <td>0.271782</td>\n",
              "      <td>-0.653218</td>\n",
              "    </tr>\n",
              "    <tr>\n",
              "      <th>1</th>\n",
              "      <td>0.173821</td>\n",
              "      <td>-0.214929</td>\n",
              "      <td>-0.098004</td>\n",
              "      <td>0.432866</td>\n",
              "      <td>0.370673</td>\n",
              "      <td>0.000804</td>\n",
              "      <td>-0.735449</td>\n",
              "      <td>0.162931</td>\n",
              "      <td>0.113988</td>\n",
              "      <td>0.468011</td>\n",
              "      <td>0.091182</td>\n",
              "      <td>-0.015925</td>\n",
              "      <td>-0.367213</td>\n",
              "      <td>-0.148326</td>\n",
              "      <td>-0.570235</td>\n",
              "      <td>0.235001</td>\n",
              "      <td>0.474639</td>\n",
              "      <td>0.056680</td>\n",
              "      <td>0.336305</td>\n",
              "      <td>-0.118116</td>\n",
              "      <td>0.086382</td>\n",
              "      <td>-0.023839</td>\n",
              "      <td>0.352665</td>\n",
              "      <td>0.201555</td>\n",
              "      <td>-0.232855</td>\n",
              "      <td>0.139960</td>\n",
              "      <td>-0.107633</td>\n",
              "      <td>-0.274393</td>\n",
              "      <td>-0.098784</td>\n",
              "      <td>0.033530</td>\n",
              "      <td>0.202761</td>\n",
              "      <td>-0.214515</td>\n",
              "      <td>-0.363571</td>\n",
              "      <td>0.180008</td>\n",
              "      <td>0.160661</td>\n",
              "      <td>0.698344</td>\n",
              "      <td>0.403793</td>\n",
              "      <td>-0.036676</td>\n",
              "      <td>-0.124082</td>\n",
              "      <td>-0.088976</td>\n",
              "      <td>...</td>\n",
              "      <td>0.558337</td>\n",
              "      <td>-0.285610</td>\n",
              "      <td>-0.147095</td>\n",
              "      <td>0.117567</td>\n",
              "      <td>0.064415</td>\n",
              "      <td>-0.074428</td>\n",
              "      <td>0.022359</td>\n",
              "      <td>0.361806</td>\n",
              "      <td>0.115827</td>\n",
              "      <td>-0.102381</td>\n",
              "      <td>-0.170256</td>\n",
              "      <td>0.033135</td>\n",
              "      <td>0.093055</td>\n",
              "      <td>0.162718</td>\n",
              "      <td>-0.243858</td>\n",
              "      <td>0.281852</td>\n",
              "      <td>0.290611</td>\n",
              "      <td>-0.160803</td>\n",
              "      <td>-0.242895</td>\n",
              "      <td>0.113361</td>\n",
              "      <td>-0.758359</td>\n",
              "      <td>0.122067</td>\n",
              "      <td>0.039228</td>\n",
              "      <td>0.199917</td>\n",
              "      <td>-0.438904</td>\n",
              "      <td>-0.207233</td>\n",
              "      <td>-0.046206</td>\n",
              "      <td>-0.307828</td>\n",
              "      <td>-0.336320</td>\n",
              "      <td>0.378690</td>\n",
              "      <td>0.133606</td>\n",
              "      <td>-0.374622</td>\n",
              "      <td>-0.360892</td>\n",
              "      <td>-0.394297</td>\n",
              "      <td>-0.168498</td>\n",
              "      <td>-0.262506</td>\n",
              "      <td>-0.958892</td>\n",
              "      <td>0.099089</td>\n",
              "      <td>0.487517</td>\n",
              "      <td>-0.307144</td>\n",
              "    </tr>\n",
              "    <tr>\n",
              "      <th>2</th>\n",
              "      <td>-0.257559</td>\n",
              "      <td>-0.065606</td>\n",
              "      <td>0.344815</td>\n",
              "      <td>0.411276</td>\n",
              "      <td>0.090839</td>\n",
              "      <td>0.738248</td>\n",
              "      <td>0.282006</td>\n",
              "      <td>0.331116</td>\n",
              "      <td>-0.213441</td>\n",
              "      <td>0.092032</td>\n",
              "      <td>-0.173409</td>\n",
              "      <td>-0.434767</td>\n",
              "      <td>0.065186</td>\n",
              "      <td>0.196101</td>\n",
              "      <td>-0.671928</td>\n",
              "      <td>-0.195213</td>\n",
              "      <td>0.074474</td>\n",
              "      <td>0.323334</td>\n",
              "      <td>0.292436</td>\n",
              "      <td>0.468960</td>\n",
              "      <td>-0.193369</td>\n",
              "      <td>0.157990</td>\n",
              "      <td>-0.180058</td>\n",
              "      <td>0.095284</td>\n",
              "      <td>-0.294818</td>\n",
              "      <td>-0.140939</td>\n",
              "      <td>-0.202958</td>\n",
              "      <td>-0.144758</td>\n",
              "      <td>-0.270722</td>\n",
              "      <td>0.155839</td>\n",
              "      <td>0.314211</td>\n",
              "      <td>-0.097944</td>\n",
              "      <td>0.396810</td>\n",
              "      <td>0.310496</td>\n",
              "      <td>-0.448204</td>\n",
              "      <td>0.575355</td>\n",
              "      <td>0.241816</td>\n",
              "      <td>-0.428021</td>\n",
              "      <td>-0.066452</td>\n",
              "      <td>0.207896</td>\n",
              "      <td>...</td>\n",
              "      <td>-0.253060</td>\n",
              "      <td>-0.023285</td>\n",
              "      <td>0.387593</td>\n",
              "      <td>-0.257498</td>\n",
              "      <td>-0.219196</td>\n",
              "      <td>0.463819</td>\n",
              "      <td>-0.047877</td>\n",
              "      <td>-0.002297</td>\n",
              "      <td>-0.023295</td>\n",
              "      <td>0.096966</td>\n",
              "      <td>0.185142</td>\n",
              "      <td>-0.053014</td>\n",
              "      <td>0.580751</td>\n",
              "      <td>0.230906</td>\n",
              "      <td>-0.090283</td>\n",
              "      <td>-0.549747</td>\n",
              "      <td>0.448878</td>\n",
              "      <td>-0.358442</td>\n",
              "      <td>-0.267432</td>\n",
              "      <td>0.062992</td>\n",
              "      <td>-0.650513</td>\n",
              "      <td>0.471424</td>\n",
              "      <td>-0.207576</td>\n",
              "      <td>0.421068</td>\n",
              "      <td>-0.340663</td>\n",
              "      <td>-0.287685</td>\n",
              "      <td>0.239766</td>\n",
              "      <td>-0.012972</td>\n",
              "      <td>-0.408097</td>\n",
              "      <td>0.380892</td>\n",
              "      <td>0.273857</td>\n",
              "      <td>-0.094201</td>\n",
              "      <td>0.245259</td>\n",
              "      <td>0.438028</td>\n",
              "      <td>-0.413395</td>\n",
              "      <td>0.425271</td>\n",
              "      <td>-0.417884</td>\n",
              "      <td>-0.886485</td>\n",
              "      <td>0.458968</td>\n",
              "      <td>-0.380352</td>\n",
              "    </tr>\n",
              "    <tr>\n",
              "      <th>3</th>\n",
              "      <td>-0.023537</td>\n",
              "      <td>0.186004</td>\n",
              "      <td>-0.018319</td>\n",
              "      <td>0.046002</td>\n",
              "      <td>0.285380</td>\n",
              "      <td>0.824158</td>\n",
              "      <td>0.240865</td>\n",
              "      <td>0.177934</td>\n",
              "      <td>-0.293685</td>\n",
              "      <td>0.369762</td>\n",
              "      <td>-0.286876</td>\n",
              "      <td>-0.115853</td>\n",
              "      <td>0.074393</td>\n",
              "      <td>-0.267145</td>\n",
              "      <td>-0.400384</td>\n",
              "      <td>0.067620</td>\n",
              "      <td>0.081379</td>\n",
              "      <td>0.260510</td>\n",
              "      <td>-0.002243</td>\n",
              "      <td>0.159411</td>\n",
              "      <td>0.212635</td>\n",
              "      <td>-0.261783</td>\n",
              "      <td>0.071453</td>\n",
              "      <td>-0.525530</td>\n",
              "      <td>0.149235</td>\n",
              "      <td>-0.563100</td>\n",
              "      <td>-0.378368</td>\n",
              "      <td>-0.396288</td>\n",
              "      <td>-0.265716</td>\n",
              "      <td>-0.028256</td>\n",
              "      <td>0.035099</td>\n",
              "      <td>-0.282228</td>\n",
              "      <td>0.121753</td>\n",
              "      <td>-0.244408</td>\n",
              "      <td>-0.323249</td>\n",
              "      <td>0.133777</td>\n",
              "      <td>0.099915</td>\n",
              "      <td>-0.073891</td>\n",
              "      <td>0.044732</td>\n",
              "      <td>0.229217</td>\n",
              "      <td>...</td>\n",
              "      <td>-0.164505</td>\n",
              "      <td>-0.436309</td>\n",
              "      <td>-0.089114</td>\n",
              "      <td>-0.515013</td>\n",
              "      <td>-0.356831</td>\n",
              "      <td>0.644965</td>\n",
              "      <td>0.151415</td>\n",
              "      <td>-0.040290</td>\n",
              "      <td>0.202163</td>\n",
              "      <td>0.065799</td>\n",
              "      <td>-0.013578</td>\n",
              "      <td>0.264860</td>\n",
              "      <td>0.562417</td>\n",
              "      <td>-0.322598</td>\n",
              "      <td>0.117282</td>\n",
              "      <td>-0.137634</td>\n",
              "      <td>0.454603</td>\n",
              "      <td>0.114935</td>\n",
              "      <td>-0.076333</td>\n",
              "      <td>0.362280</td>\n",
              "      <td>-0.349352</td>\n",
              "      <td>0.368029</td>\n",
              "      <td>0.062586</td>\n",
              "      <td>0.346775</td>\n",
              "      <td>-0.227782</td>\n",
              "      <td>-0.668857</td>\n",
              "      <td>0.477370</td>\n",
              "      <td>-0.349774</td>\n",
              "      <td>-0.566387</td>\n",
              "      <td>0.270867</td>\n",
              "      <td>0.076834</td>\n",
              "      <td>0.171872</td>\n",
              "      <td>0.258420</td>\n",
              "      <td>0.169574</td>\n",
              "      <td>-0.280809</td>\n",
              "      <td>0.322120</td>\n",
              "      <td>-0.102916</td>\n",
              "      <td>-0.606135</td>\n",
              "      <td>0.186568</td>\n",
              "      <td>-0.477317</td>\n",
              "    </tr>\n",
              "    <tr>\n",
              "      <th>4</th>\n",
              "      <td>-0.832218</td>\n",
              "      <td>0.451893</td>\n",
              "      <td>0.474038</td>\n",
              "      <td>-0.018249</td>\n",
              "      <td>-0.478648</td>\n",
              "      <td>0.178108</td>\n",
              "      <td>-0.472869</td>\n",
              "      <td>-0.532138</td>\n",
              "      <td>-0.491469</td>\n",
              "      <td>-0.466011</td>\n",
              "      <td>0.395096</td>\n",
              "      <td>-0.386877</td>\n",
              "      <td>-0.798011</td>\n",
              "      <td>-0.271923</td>\n",
              "      <td>-0.168703</td>\n",
              "      <td>0.567564</td>\n",
              "      <td>0.918460</td>\n",
              "      <td>-0.283334</td>\n",
              "      <td>0.052681</td>\n",
              "      <td>0.335400</td>\n",
              "      <td>0.102989</td>\n",
              "      <td>-0.569144</td>\n",
              "      <td>-0.027434</td>\n",
              "      <td>-0.390786</td>\n",
              "      <td>-0.411513</td>\n",
              "      <td>-0.004615</td>\n",
              "      <td>0.059425</td>\n",
              "      <td>0.129107</td>\n",
              "      <td>0.058133</td>\n",
              "      <td>0.178414</td>\n",
              "      <td>-0.222867</td>\n",
              "      <td>0.336164</td>\n",
              "      <td>0.079755</td>\n",
              "      <td>0.220411</td>\n",
              "      <td>0.184255</td>\n",
              "      <td>0.723972</td>\n",
              "      <td>0.306105</td>\n",
              "      <td>0.653465</td>\n",
              "      <td>-0.934595</td>\n",
              "      <td>-0.013150</td>\n",
              "      <td>...</td>\n",
              "      <td>0.484666</td>\n",
              "      <td>-0.181744</td>\n",
              "      <td>0.296147</td>\n",
              "      <td>0.775699</td>\n",
              "      <td>0.239380</td>\n",
              "      <td>-0.016156</td>\n",
              "      <td>0.329073</td>\n",
              "      <td>-0.023605</td>\n",
              "      <td>-0.197673</td>\n",
              "      <td>-1.308118</td>\n",
              "      <td>0.593427</td>\n",
              "      <td>0.109318</td>\n",
              "      <td>-0.387851</td>\n",
              "      <td>0.090579</td>\n",
              "      <td>-0.265281</td>\n",
              "      <td>-0.083823</td>\n",
              "      <td>0.498955</td>\n",
              "      <td>-0.115021</td>\n",
              "      <td>0.705434</td>\n",
              "      <td>0.536024</td>\n",
              "      <td>0.319468</td>\n",
              "      <td>0.083369</td>\n",
              "      <td>-0.067807</td>\n",
              "      <td>-0.206901</td>\n",
              "      <td>0.215812</td>\n",
              "      <td>0.166634</td>\n",
              "      <td>0.071825</td>\n",
              "      <td>0.669192</td>\n",
              "      <td>0.043907</td>\n",
              "      <td>0.346249</td>\n",
              "      <td>0.594541</td>\n",
              "      <td>-0.302686</td>\n",
              "      <td>-0.511276</td>\n",
              "      <td>-0.590193</td>\n",
              "      <td>0.299716</td>\n",
              "      <td>-0.181081</td>\n",
              "      <td>-0.436865</td>\n",
              "      <td>0.996631</td>\n",
              "      <td>0.330113</td>\n",
              "      <td>-0.327735</td>\n",
              "    </tr>\n",
              "  </tbody>\n",
              "</table>\n",
              "<p>5 rows × 512 columns</p>\n",
              "</div>"
            ],
            "text/plain": [
              "          0         1         2  ...       509       510       511\n",
              "0 -0.288502 -0.481055  0.258424  ... -0.762691  0.271782 -0.653218\n",
              "1  0.173821 -0.214929 -0.098004  ...  0.099089  0.487517 -0.307144\n",
              "2 -0.257559 -0.065606  0.344815  ... -0.886485  0.458968 -0.380352\n",
              "3 -0.023537  0.186004 -0.018319  ... -0.606135  0.186568 -0.477317\n",
              "4 -0.832218  0.451893  0.474038  ...  0.996631  0.330113 -0.327735\n",
              "\n",
              "[5 rows x 512 columns]"
            ]
          },
          "metadata": {
            "tags": []
          },
          "execution_count": 5
        }
      ]
    },
    {
      "cell_type": "code",
      "metadata": {
        "id": "O6rz6-lXqRg0",
        "colab_type": "code",
        "outputId": "dd035ce9-41ae-49cf-9a45-cd38b129a91d",
        "colab": {
          "base_uri": "https://localhost:8080/",
          "height": 119
        }
      },
      "source": [
        "rating.head()"
      ],
      "execution_count": 6,
      "outputs": [
        {
          "output_type": "execute_result",
          "data": {
            "text/plain": [
              "0    5\n",
              "1    5\n",
              "2    5\n",
              "3    5\n",
              "4    3\n",
              "Name: star_rating, dtype: int64"
            ]
          },
          "metadata": {
            "tags": []
          },
          "execution_count": 6
        }
      ]
    },
    {
      "cell_type": "markdown",
      "metadata": {
        "id": "VKTpfiPbUubf",
        "colab_type": "text"
      },
      "source": [
        "# Create our Model"
      ]
    },
    {
      "cell_type": "code",
      "metadata": {
        "id": "QoD2qw6eqRg3",
        "colab_type": "code",
        "outputId": "f33ac22a-1155-43e8-ce8f-6da51126e5e7",
        "colab": {
          "base_uri": "https://localhost:8080/",
          "height": 309
        }
      },
      "source": [
        "model = Sequential()\n",
        "\n",
        "model.add(Dense(340, input_shape=(df.shape[1],), kernel_initializer='glorot_uniform'))\n",
        "model.add(BatchNormalization())\n",
        "model.add(Activation('relu'))\n",
        "model.add(Dropout(0.2))\n",
        "\n",
        "model.add(Dense(5, activation='softmax'))\n",
        "model.compile(optimizer=SGD(), loss='categorical_crossentropy', metrics=['accuracy'])"
      ],
      "execution_count": 7,
      "outputs": [
        {
          "output_type": "stream",
          "text": [
            "WARNING: Logging before flag parsing goes to stderr.\n",
            "W0730 00:32:59.741179 140293516511104 deprecation_wrapper.py:119] From /usr/local/lib/python3.6/dist-packages/keras/backend/tensorflow_backend.py:74: The name tf.get_default_graph is deprecated. Please use tf.compat.v1.get_default_graph instead.\n",
            "\n",
            "W0730 00:32:59.764701 140293516511104 deprecation_wrapper.py:119] From /usr/local/lib/python3.6/dist-packages/keras/backend/tensorflow_backend.py:517: The name tf.placeholder is deprecated. Please use tf.compat.v1.placeholder instead.\n",
            "\n",
            "W0730 00:32:59.771994 140293516511104 deprecation_wrapper.py:119] From /usr/local/lib/python3.6/dist-packages/keras/backend/tensorflow_backend.py:4138: The name tf.random_uniform is deprecated. Please use tf.random.uniform instead.\n",
            "\n",
            "W0730 00:32:59.872035 140293516511104 deprecation_wrapper.py:119] From /usr/local/lib/python3.6/dist-packages/keras/backend/tensorflow_backend.py:133: The name tf.placeholder_with_default is deprecated. Please use tf.compat.v1.placeholder_with_default instead.\n",
            "\n",
            "W0730 00:32:59.905800 140293516511104 deprecation.py:506] From /usr/local/lib/python3.6/dist-packages/keras/backend/tensorflow_backend.py:3445: calling dropout (from tensorflow.python.ops.nn_ops) with keep_prob is deprecated and will be removed in a future version.\n",
            "Instructions for updating:\n",
            "Please use `rate` instead of `keep_prob`. Rate should be set to `rate = 1 - keep_prob`.\n",
            "W0730 00:32:59.950817 140293516511104 deprecation_wrapper.py:119] From /usr/local/lib/python3.6/dist-packages/keras/optimizers.py:790: The name tf.train.Optimizer is deprecated. Please use tf.compat.v1.train.Optimizer instead.\n",
            "\n",
            "W0730 00:32:59.961567 140293516511104 deprecation_wrapper.py:119] From /usr/local/lib/python3.6/dist-packages/keras/backend/tensorflow_backend.py:3295: The name tf.log is deprecated. Please use tf.math.log instead.\n",
            "\n"
          ],
          "name": "stderr"
        }
      ]
    },
    {
      "cell_type": "code",
      "metadata": {
        "id": "-68txk5RqRg6",
        "colab_type": "code",
        "outputId": "91f9af30-4f75-4f5e-8177-63d4601a8bc9",
        "colab": {
          "base_uri": "https://localhost:8080/",
          "height": 323
        }
      },
      "source": [
        "print(model.summary())"
      ],
      "execution_count": 8,
      "outputs": [
        {
          "output_type": "stream",
          "text": [
            "_________________________________________________________________\n",
            "Layer (type)                 Output Shape              Param #   \n",
            "=================================================================\n",
            "dense_1 (Dense)              (None, 340)               174420    \n",
            "_________________________________________________________________\n",
            "batch_normalization_1 (Batch (None, 340)               1360      \n",
            "_________________________________________________________________\n",
            "activation_1 (Activation)    (None, 340)               0         \n",
            "_________________________________________________________________\n",
            "dropout_1 (Dropout)          (None, 340)               0         \n",
            "_________________________________________________________________\n",
            "dense_2 (Dense)              (None, 5)                 1705      \n",
            "=================================================================\n",
            "Total params: 177,485\n",
            "Trainable params: 176,805\n",
            "Non-trainable params: 680\n",
            "_________________________________________________________________\n",
            "None\n"
          ],
          "name": "stdout"
        }
      ]
    },
    {
      "cell_type": "code",
      "metadata": {
        "id": "8Dr4JqeDqRg-",
        "colab_type": "code",
        "outputId": "a6c0cc3e-97e5-440f-95ac-1b403d68688b",
        "colab": {
          "base_uri": "https://localhost:8080/",
          "height": 634
        }
      },
      "source": [
        "SVG(model_to_dot(model, show_shapes=True, show_layer_names=False, \n",
        "                 rankdir='TB').create(prog='dot', format='svg'))"
      ],
      "execution_count": 9,
      "outputs": [
        {
          "output_type": "execute_result",
          "data": {
            "text/plain": [
              "<IPython.core.display.SVG object>"
            ],
            "image/svg+xml": "<svg height=\"460pt\" viewBox=\"0.00 0.00 284.00 460.00\" width=\"284pt\" xmlns=\"http://www.w3.org/2000/svg\" xmlns:xlink=\"http://www.w3.org/1999/xlink\">\n<g class=\"graph\" id=\"graph0\" transform=\"scale(1 1) rotate(0) translate(4 456)\">\n<title>G</title>\n<polygon fill=\"#ffffff\" points=\"-4,4 -4,-456 280,-456 280,4 -4,4\" stroke=\"transparent\"/>\n<!-- 140292392849984 -->\n<g class=\"node\" id=\"node1\">\n<title>140292392849984</title>\n<polygon fill=\"none\" points=\"39.5,-332.5 39.5,-378.5 236.5,-378.5 236.5,-332.5 39.5,-332.5\" stroke=\"#000000\"/>\n<text fill=\"#000000\" font-family=\"Times,serif\" font-size=\"14.00\" text-anchor=\"middle\" x=\"65.5\" y=\"-351.8\">Dense</text>\n<polyline fill=\"none\" points=\"91.5,-332.5 91.5,-378.5 \" stroke=\"#000000\"/>\n<text fill=\"#000000\" font-family=\"Times,serif\" font-size=\"14.00\" text-anchor=\"middle\" x=\"120.5\" y=\"-363.3\">input:</text>\n<polyline fill=\"none\" points=\"91.5,-355.5 149.5,-355.5 \" stroke=\"#000000\"/>\n<text fill=\"#000000\" font-family=\"Times,serif\" font-size=\"14.00\" text-anchor=\"middle\" x=\"120.5\" y=\"-340.3\">output:</text>\n<polyline fill=\"none\" points=\"149.5,-332.5 149.5,-378.5 \" stroke=\"#000000\"/>\n<text fill=\"#000000\" font-family=\"Times,serif\" font-size=\"14.00\" text-anchor=\"middle\" x=\"193\" y=\"-363.3\">(None, 512)</text>\n<polyline fill=\"none\" points=\"149.5,-355.5 236.5,-355.5 \" stroke=\"#000000\"/>\n<text fill=\"#000000\" font-family=\"Times,serif\" font-size=\"14.00\" text-anchor=\"middle\" x=\"193\" y=\"-340.3\">(None, 340)</text>\n</g>\n<!-- 140292392850992 -->\n<g class=\"node\" id=\"node2\">\n<title>140292392850992</title>\n<polygon fill=\"none\" points=\"0,-249.5 0,-295.5 276,-295.5 276,-249.5 0,-249.5\" stroke=\"#000000\"/>\n<text fill=\"#000000\" font-family=\"Times,serif\" font-size=\"14.00\" text-anchor=\"middle\" x=\"65.5\" y=\"-268.8\">BatchNormalization</text>\n<polyline fill=\"none\" points=\"131,-249.5 131,-295.5 \" stroke=\"#000000\"/>\n<text fill=\"#000000\" font-family=\"Times,serif\" font-size=\"14.00\" text-anchor=\"middle\" x=\"160\" y=\"-280.3\">input:</text>\n<polyline fill=\"none\" points=\"131,-272.5 189,-272.5 \" stroke=\"#000000\"/>\n<text fill=\"#000000\" font-family=\"Times,serif\" font-size=\"14.00\" text-anchor=\"middle\" x=\"160\" y=\"-257.3\">output:</text>\n<polyline fill=\"none\" points=\"189,-249.5 189,-295.5 \" stroke=\"#000000\"/>\n<text fill=\"#000000\" font-family=\"Times,serif\" font-size=\"14.00\" text-anchor=\"middle\" x=\"232.5\" y=\"-280.3\">(None, 340)</text>\n<polyline fill=\"none\" points=\"189,-272.5 276,-272.5 \" stroke=\"#000000\"/>\n<text fill=\"#000000\" font-family=\"Times,serif\" font-size=\"14.00\" text-anchor=\"middle\" x=\"232.5\" y=\"-257.3\">(None, 340)</text>\n</g>\n<!-- 140292392849984&#45;&gt;140292392850992 -->\n<g class=\"edge\" id=\"edge2\">\n<title>140292392849984-&gt;140292392850992</title>\n<path d=\"M138,-332.3799C138,-324.1745 138,-314.7679 138,-305.8786\" fill=\"none\" stroke=\"#000000\"/>\n<polygon fill=\"#000000\" points=\"141.5001,-305.784 138,-295.784 134.5001,-305.784 141.5001,-305.784\" stroke=\"#000000\"/>\n</g>\n<!-- 140292392887184 -->\n<g class=\"node\" id=\"node3\">\n<title>140292392887184</title>\n<polygon fill=\"none\" points=\"27,-166.5 27,-212.5 249,-212.5 249,-166.5 27,-166.5\" stroke=\"#000000\"/>\n<text fill=\"#000000\" font-family=\"Times,serif\" font-size=\"14.00\" text-anchor=\"middle\" x=\"65.5\" y=\"-185.8\">Activation</text>\n<polyline fill=\"none\" points=\"104,-166.5 104,-212.5 \" stroke=\"#000000\"/>\n<text fill=\"#000000\" font-family=\"Times,serif\" font-size=\"14.00\" text-anchor=\"middle\" x=\"133\" y=\"-197.3\">input:</text>\n<polyline fill=\"none\" points=\"104,-189.5 162,-189.5 \" stroke=\"#000000\"/>\n<text fill=\"#000000\" font-family=\"Times,serif\" font-size=\"14.00\" text-anchor=\"middle\" x=\"133\" y=\"-174.3\">output:</text>\n<polyline fill=\"none\" points=\"162,-166.5 162,-212.5 \" stroke=\"#000000\"/>\n<text fill=\"#000000\" font-family=\"Times,serif\" font-size=\"14.00\" text-anchor=\"middle\" x=\"205.5\" y=\"-197.3\">(None, 340)</text>\n<polyline fill=\"none\" points=\"162,-189.5 249,-189.5 \" stroke=\"#000000\"/>\n<text fill=\"#000000\" font-family=\"Times,serif\" font-size=\"14.00\" text-anchor=\"middle\" x=\"205.5\" y=\"-174.3\">(None, 340)</text>\n</g>\n<!-- 140292392850992&#45;&gt;140292392887184 -->\n<g class=\"edge\" id=\"edge3\">\n<title>140292392850992-&gt;140292392887184</title>\n<path d=\"M138,-249.3799C138,-241.1745 138,-231.7679 138,-222.8786\" fill=\"none\" stroke=\"#000000\"/>\n<polygon fill=\"#000000\" points=\"141.5001,-222.784 138,-212.784 134.5001,-222.784 141.5001,-222.784\" stroke=\"#000000\"/>\n</g>\n<!-- 140292392889704 -->\n<g class=\"node\" id=\"node4\">\n<title>140292392889704</title>\n<polygon fill=\"none\" points=\"33,-83.5 33,-129.5 243,-129.5 243,-83.5 33,-83.5\" stroke=\"#000000\"/>\n<text fill=\"#000000\" font-family=\"Times,serif\" font-size=\"14.00\" text-anchor=\"middle\" x=\"65.5\" y=\"-102.8\">Dropout</text>\n<polyline fill=\"none\" points=\"98,-83.5 98,-129.5 \" stroke=\"#000000\"/>\n<text fill=\"#000000\" font-family=\"Times,serif\" font-size=\"14.00\" text-anchor=\"middle\" x=\"127\" y=\"-114.3\">input:</text>\n<polyline fill=\"none\" points=\"98,-106.5 156,-106.5 \" stroke=\"#000000\"/>\n<text fill=\"#000000\" font-family=\"Times,serif\" font-size=\"14.00\" text-anchor=\"middle\" x=\"127\" y=\"-91.3\">output:</text>\n<polyline fill=\"none\" points=\"156,-83.5 156,-129.5 \" stroke=\"#000000\"/>\n<text fill=\"#000000\" font-family=\"Times,serif\" font-size=\"14.00\" text-anchor=\"middle\" x=\"199.5\" y=\"-114.3\">(None, 340)</text>\n<polyline fill=\"none\" points=\"156,-106.5 243,-106.5 \" stroke=\"#000000\"/>\n<text fill=\"#000000\" font-family=\"Times,serif\" font-size=\"14.00\" text-anchor=\"middle\" x=\"199.5\" y=\"-91.3\">(None, 340)</text>\n</g>\n<!-- 140292392887184&#45;&gt;140292392889704 -->\n<g class=\"edge\" id=\"edge4\">\n<title>140292392887184-&gt;140292392889704</title>\n<path d=\"M138,-166.3799C138,-158.1745 138,-148.7679 138,-139.8786\" fill=\"none\" stroke=\"#000000\"/>\n<polygon fill=\"#000000\" points=\"141.5001,-139.784 138,-129.784 134.5001,-139.784 141.5001,-139.784\" stroke=\"#000000\"/>\n</g>\n<!-- 140292397771464 -->\n<g class=\"node\" id=\"node5\">\n<title>140292397771464</title>\n<polygon fill=\"none\" points=\"39.5,-.5 39.5,-46.5 236.5,-46.5 236.5,-.5 39.5,-.5\" stroke=\"#000000\"/>\n<text fill=\"#000000\" font-family=\"Times,serif\" font-size=\"14.00\" text-anchor=\"middle\" x=\"65.5\" y=\"-19.8\">Dense</text>\n<polyline fill=\"none\" points=\"91.5,-.5 91.5,-46.5 \" stroke=\"#000000\"/>\n<text fill=\"#000000\" font-family=\"Times,serif\" font-size=\"14.00\" text-anchor=\"middle\" x=\"120.5\" y=\"-31.3\">input:</text>\n<polyline fill=\"none\" points=\"91.5,-23.5 149.5,-23.5 \" stroke=\"#000000\"/>\n<text fill=\"#000000\" font-family=\"Times,serif\" font-size=\"14.00\" text-anchor=\"middle\" x=\"120.5\" y=\"-8.3\">output:</text>\n<polyline fill=\"none\" points=\"149.5,-.5 149.5,-46.5 \" stroke=\"#000000\"/>\n<text fill=\"#000000\" font-family=\"Times,serif\" font-size=\"14.00\" text-anchor=\"middle\" x=\"193\" y=\"-31.3\">(None, 340)</text>\n<polyline fill=\"none\" points=\"149.5,-23.5 236.5,-23.5 \" stroke=\"#000000\"/>\n<text fill=\"#000000\" font-family=\"Times,serif\" font-size=\"14.00\" text-anchor=\"middle\" x=\"193\" y=\"-8.3\">(None, 5)</text>\n</g>\n<!-- 140292392889704&#45;&gt;140292397771464 -->\n<g class=\"edge\" id=\"edge5\">\n<title>140292392889704-&gt;140292397771464</title>\n<path d=\"M138,-83.3799C138,-75.1745 138,-65.7679 138,-56.8786\" fill=\"none\" stroke=\"#000000\"/>\n<polygon fill=\"#000000\" points=\"141.5001,-56.784 138,-46.784 134.5001,-56.784 141.5001,-56.784\" stroke=\"#000000\"/>\n</g>\n<!-- 140292926749888 -->\n<g class=\"node\" id=\"node6\">\n<title>140292926749888</title>\n<polygon fill=\"none\" points=\"73.5,-415.5 73.5,-451.5 202.5,-451.5 202.5,-415.5 73.5,-415.5\" stroke=\"#000000\"/>\n<text fill=\"#000000\" font-family=\"Times,serif\" font-size=\"14.00\" text-anchor=\"middle\" x=\"138\" y=\"-429.8\">140292926749888</text>\n</g>\n<!-- 140292926749888&#45;&gt;140292392849984 -->\n<g class=\"edge\" id=\"edge1\">\n<title>140292926749888-&gt;140292392849984</title>\n<path d=\"M138,-415.4092C138,-407.4308 138,-397.795 138,-388.606\" fill=\"none\" stroke=\"#000000\"/>\n<polygon fill=\"#000000\" points=\"141.5001,-388.5333 138,-378.5333 134.5001,-388.5334 141.5001,-388.5333\" stroke=\"#000000\"/>\n</g>\n</g>\n</svg>"
          },
          "metadata": {
            "tags": []
          },
          "execution_count": 9
        }
      ]
    },
    {
      "cell_type": "code",
      "metadata": {
        "id": "tq5Zkm05qRhA",
        "colab_type": "code",
        "outputId": "6928e435-6988-458a-a9e2-6ac77df51b69",
        "colab": {
          "base_uri": "https://localhost:8080/",
          "height": 258
        }
      },
      "source": [
        "# one hot encode rating\n",
        "print(rating.shape)\n",
        "print(type(rating))\n",
        "y = OneHotEncoder().fit_transform(rating.values.reshape(len(rating), 1)).toarray()\n",
        "y"
      ],
      "execution_count": 10,
      "outputs": [
        {
          "output_type": "stream",
          "text": [
            "(111909,)\n",
            "<class 'pandas.core.series.Series'>\n"
          ],
          "name": "stdout"
        },
        {
          "output_type": "stream",
          "text": [
            "/usr/local/lib/python3.6/dist-packages/sklearn/preprocessing/_encoders.py:415: FutureWarning: The handling of integer data will change in version 0.22. Currently, the categories are determined based on the range [0, max(values)], while in the future they will be determined based on the unique values.\n",
            "If you want the future behaviour and silence this warning, you can specify \"categories='auto'\".\n",
            "In case you used a LabelEncoder before this OneHotEncoder to convert the categories to integers, then you can now use the OneHotEncoder directly.\n",
            "  warnings.warn(msg, FutureWarning)\n"
          ],
          "name": "stderr"
        },
        {
          "output_type": "execute_result",
          "data": {
            "text/plain": [
              "array([[0., 0., 0., 0., 1.],\n",
              "       [0., 0., 0., 0., 1.],\n",
              "       [0., 0., 0., 0., 1.],\n",
              "       ...,\n",
              "       [0., 0., 1., 0., 0.],\n",
              "       [0., 0., 0., 0., 1.],\n",
              "       [0., 0., 0., 1., 0.]])"
            ]
          },
          "metadata": {
            "tags": []
          },
          "execution_count": 10
        }
      ]
    },
    {
      "cell_type": "code",
      "metadata": {
        "id": "vmwhVSk_qRhD",
        "colab_type": "code",
        "colab": {}
      },
      "source": [
        "x_train, x_test, y_train, y_test = train_test_split(df, y, random_state=1)"
      ],
      "execution_count": 0,
      "outputs": []
    },
    {
      "cell_type": "code",
      "metadata": {
        "id": "Wo4ULKdP_X7_",
        "colab_type": "code",
        "outputId": "360e1473-7802-42c3-bb2e-7eb8b96e3844",
        "colab": {
          "base_uri": "https://localhost:8080/",
          "height": 34
        }
      },
      "source": [
        "import importlib\n",
        "importlib.reload(ku)"
      ],
      "execution_count": 12,
      "outputs": [
        {
          "output_type": "execute_result",
          "data": {
            "text/plain": [
              "<module 'util.keras_util' from 'drive/My Drive/Springboard/capstone/util/keras_util.py'>"
            ]
          },
          "metadata": {
            "tags": []
          },
          "execution_count": 12
        }
      ]
    },
    {
      "cell_type": "code",
      "metadata": {
        "scrolled": false,
        "id": "nIgpUbmlqRhF",
        "colab_type": "code",
        "outputId": "c26c9039-2d39-4aaf-f329-a93e346bef58",
        "colab": {
          "base_uri": "https://localhost:8080/",
          "height": 1000
        }
      },
      "source": [
        "early_stop = EarlyStopping(monitor='val_loss', patience=2, verbose=1, restore_best_weights=True)\n",
        "\n",
        "# use our model wrapper the wrap the model so we can save things for later\n",
        "mw = ku.ModelWrapper(model=model, \n",
        "                     name=MODEL_NAME, \n",
        "                     label_name=LABEL_COLUMN, \n",
        "                     data_file=DATA_FILE, \n",
        "                     embedding=\"word2vec\")\n",
        "network_history = mw.fit(x_train, y_train,\n",
        "                      batch_size=128,\n",
        "                      epochs=50,\n",
        "                      verbose=1,\n",
        "                      validation_split=0.2,\n",
        "                      callbacks=[early_stop])"
      ],
      "execution_count": 13,
      "outputs": [
        {
          "output_type": "stream",
          "text": [
            "W0730 00:33:00.924568 140293516511104 deprecation.py:323] From /usr/local/lib/python3.6/dist-packages/tensorflow/python/ops/math_grad.py:1250: add_dispatch_support.<locals>.wrapper (from tensorflow.python.ops.array_ops) is deprecated and will be removed in a future version.\n",
            "Instructions for updating:\n",
            "Use tf.where in 2.0, which has the same broadcast rule as np.where\n"
          ],
          "name": "stderr"
        },
        {
          "output_type": "stream",
          "text": [
            "Train on 67144 samples, validate on 16787 samples\n",
            "Epoch 1/50\n",
            "67144/67144 [==============================] - 7s 105us/step - loss: 1.1206 - acc: 0.5876 - val_loss: 0.9858 - val_acc: 0.6376\n",
            "Epoch 2/50\n",
            "67144/67144 [==============================] - 7s 99us/step - loss: 1.0045 - acc: 0.6271 - val_loss: 0.9469 - val_acc: 0.6493\n",
            "Epoch 3/50\n",
            "67144/67144 [==============================] - 7s 99us/step - loss: 0.9677 - acc: 0.6373 - val_loss: 0.9284 - val_acc: 0.6560\n",
            "Epoch 4/50\n",
            "67144/67144 [==============================] - 7s 97us/step - loss: 0.9428 - acc: 0.6450 - val_loss: 0.9157 - val_acc: 0.6552\n",
            "Epoch 5/50\n",
            "67144/67144 [==============================] - 7s 98us/step - loss: 0.9286 - acc: 0.6492 - val_loss: 0.9046 - val_acc: 0.6578\n",
            "Epoch 6/50\n",
            "67144/67144 [==============================] - 7s 99us/step - loss: 0.9165 - acc: 0.6519 - val_loss: 0.8991 - val_acc: 0.6610\n",
            "Epoch 7/50\n",
            "67144/67144 [==============================] - 7s 98us/step - loss: 0.9088 - acc: 0.6555 - val_loss: 0.8933 - val_acc: 0.6638\n",
            "Epoch 8/50\n",
            "67144/67144 [==============================] - 7s 97us/step - loss: 0.9016 - acc: 0.6565 - val_loss: 0.8878 - val_acc: 0.6637\n",
            "Epoch 9/50\n",
            "67144/67144 [==============================] - 6s 96us/step - loss: 0.8930 - acc: 0.6598 - val_loss: 0.8860 - val_acc: 0.6649\n",
            "Epoch 10/50\n",
            "67144/67144 [==============================] - 6s 97us/step - loss: 0.8880 - acc: 0.6616 - val_loss: 0.8815 - val_acc: 0.6655\n",
            "Epoch 11/50\n",
            "67144/67144 [==============================] - 7s 99us/step - loss: 0.8834 - acc: 0.6613 - val_loss: 0.8802 - val_acc: 0.6668\n",
            "Epoch 12/50\n",
            "67144/67144 [==============================] - 7s 102us/step - loss: 0.8780 - acc: 0.6647 - val_loss: 0.8783 - val_acc: 0.6686\n",
            "Epoch 13/50\n",
            "67144/67144 [==============================] - 6s 96us/step - loss: 0.8740 - acc: 0.6650 - val_loss: 0.8767 - val_acc: 0.6675\n",
            "Epoch 14/50\n",
            "67144/67144 [==============================] - 7s 97us/step - loss: 0.8707 - acc: 0.6658 - val_loss: 0.8756 - val_acc: 0.6696\n",
            "Epoch 15/50\n",
            "67144/67144 [==============================] - 7s 97us/step - loss: 0.8677 - acc: 0.6665 - val_loss: 0.8747 - val_acc: 0.6685\n",
            "Epoch 16/50\n",
            "67144/67144 [==============================] - 6s 95us/step - loss: 0.8640 - acc: 0.6685 - val_loss: 0.8709 - val_acc: 0.6703\n",
            "Epoch 17/50\n",
            "67144/67144 [==============================] - 7s 97us/step - loss: 0.8599 - acc: 0.6681 - val_loss: 0.8709 - val_acc: 0.6717\n",
            "Epoch 18/50\n",
            "67144/67144 [==============================] - 6s 97us/step - loss: 0.8600 - acc: 0.6692 - val_loss: 0.8707 - val_acc: 0.6690\n",
            "Epoch 19/50\n",
            "67144/67144 [==============================] - 6s 96us/step - loss: 0.8561 - acc: 0.6690 - val_loss: 0.8695 - val_acc: 0.6713\n",
            "Epoch 20/50\n",
            "67144/67144 [==============================] - 7s 97us/step - loss: 0.8533 - acc: 0.6713 - val_loss: 0.8688 - val_acc: 0.6702\n",
            "Epoch 21/50\n",
            "67144/67144 [==============================] - 6s 96us/step - loss: 0.8508 - acc: 0.6710 - val_loss: 0.8674 - val_acc: 0.6731\n",
            "Epoch 22/50\n",
            "67144/67144 [==============================] - 6s 96us/step - loss: 0.8498 - acc: 0.6729 - val_loss: 0.8676 - val_acc: 0.6702\n",
            "Epoch 23/50\n",
            "67144/67144 [==============================] - 6s 96us/step - loss: 0.8469 - acc: 0.6754 - val_loss: 0.8666 - val_acc: 0.6725\n",
            "Epoch 24/50\n",
            "67144/67144 [==============================] - 6s 96us/step - loss: 0.8445 - acc: 0.6742 - val_loss: 0.8659 - val_acc: 0.6717\n",
            "Epoch 25/50\n",
            "67144/67144 [==============================] - 6s 96us/step - loss: 0.8406 - acc: 0.6754 - val_loss: 0.8657 - val_acc: 0.6703\n",
            "Epoch 26/50\n",
            "67144/67144 [==============================] - 7s 97us/step - loss: 0.8402 - acc: 0.6747 - val_loss: 0.8644 - val_acc: 0.6712\n",
            "Epoch 27/50\n",
            "67144/67144 [==============================] - 6s 95us/step - loss: 0.8382 - acc: 0.6754 - val_loss: 0.8654 - val_acc: 0.6718\n",
            "Epoch 28/50\n",
            "67144/67144 [==============================] - 6s 96us/step - loss: 0.8362 - acc: 0.6759 - val_loss: 0.8641 - val_acc: 0.6717\n",
            "Epoch 29/50\n",
            "67144/67144 [==============================] - 7s 97us/step - loss: 0.8324 - acc: 0.6774 - val_loss: 0.8638 - val_acc: 0.6722\n",
            "Epoch 30/50\n",
            "67144/67144 [==============================] - 7s 98us/step - loss: 0.8313 - acc: 0.6774 - val_loss: 0.8636 - val_acc: 0.6717\n",
            "Epoch 31/50\n",
            "67144/67144 [==============================] - 7s 99us/step - loss: 0.8319 - acc: 0.6787 - val_loss: 0.8628 - val_acc: 0.6731\n",
            "Epoch 32/50\n",
            "67144/67144 [==============================] - 7s 99us/step - loss: 0.8288 - acc: 0.6792 - val_loss: 0.8626 - val_acc: 0.6708\n",
            "Epoch 33/50\n",
            "67144/67144 [==============================] - 7s 99us/step - loss: 0.8275 - acc: 0.6804 - val_loss: 0.8651 - val_acc: 0.6696\n",
            "Epoch 34/50\n",
            "67144/67144 [==============================] - 7s 98us/step - loss: 0.8251 - acc: 0.6800 - val_loss: 0.8630 - val_acc: 0.6702\n",
            "Restoring model weights from the end of the best epoch\n",
            "Epoch 00034: early stopping\n"
          ],
          "name": "stdout"
        }
      ]
    },
    {
      "cell_type": "code",
      "metadata": {
        "id": "vi3rL941ATTK",
        "colab_type": "code",
        "outputId": "ba78dab6-8c3e-4976-b486-667627d19e66",
        "colab": {
          "base_uri": "https://localhost:8080/",
          "height": 136
        }
      },
      "source": [
        "mw.evaluate(x_test, y_test)"
      ],
      "execution_count": 14,
      "outputs": [
        {
          "output_type": "stream",
          "text": [
            "Running model.evaluate...\n",
            "27978/27978 [==============================] - 1s 48us/step\n",
            "Running model.predict...\n",
            "Unencode predictions...\n",
            "Generating confusion matrix...\n",
            "Calculating ROC AUC...\n",
            "Getting classification report...\n"
          ],
          "name": "stdout"
        }
      ]
    },
    {
      "cell_type": "code",
      "metadata": {
        "id": "uWWW7-BvqRhH",
        "colab_type": "code",
        "outputId": "f7d368bc-b4b8-4587-e3f9-9548917f26b1",
        "colab": {
          "base_uri": "https://localhost:8080/",
          "height": 34
        }
      },
      "source": [
        "\n",
        "print(\"Accuracy: %.2f%%\" % (mw.scores[1]*100))\n"
      ],
      "execution_count": 15,
      "outputs": [
        {
          "output_type": "stream",
          "text": [
            "Accuracy: 66.78%\n"
          ],
          "name": "stdout"
        }
      ]
    },
    {
      "cell_type": "code",
      "metadata": {
        "id": "lqKrm3JcqRhJ",
        "colab_type": "code",
        "outputId": "2999fbd5-aa92-4a7c-ce66-0362f25798a1",
        "colab": {
          "base_uri": "https://localhost:8080/",
          "height": 345
        }
      },
      "source": [
        "\n",
        "pu.plot_network_history(mw.network_history)"
      ],
      "execution_count": 16,
      "outputs": [
        {
          "output_type": "display_data",
          "data": {
            "image/png": "[encoded data removed]",
            "text/plain": [
              "<Figure size 720x360 with 2 Axes>"
            ]
          },
          "metadata": {
            "tags": []
          }
        }
      ]
    },
    {
      "cell_type": "code",
      "metadata": {
        "id": "-etlVN4MqRhV",
        "colab_type": "code",
        "outputId": "5468d565-81bb-4448-d131-d4ab95b36fe1",
        "colab": {
          "base_uri": "https://localhost:8080/",
          "height": 102
        }
      },
      "source": [
        "# print confusionn matrix\n",
        "print(mw.confusion_matrix)"
      ],
      "execution_count": 17,
      "outputs": [
        {
          "output_type": "stream",
          "text": [
            "[[ 3087    98   189   100   401]\n",
            " [  930   104   248   184   421]\n",
            " [  537   105   470   578   870]\n",
            " [  230    46   243  1063  3055]\n",
            " [  274    22   134   628 13961]]\n"
          ],
          "name": "stdout"
        }
      ]
    },
    {
      "cell_type": "code",
      "metadata": {
        "id": "2oYC7F0DqRhZ",
        "colab_type": "code",
        "outputId": "ed66f8bd-1545-4e60-ca74-f2da032250f8",
        "colab": {
          "base_uri": "https://localhost:8080/",
          "height": 221
        }
      },
      "source": [
        "print(mw.classification_report)"
      ],
      "execution_count": 18,
      "outputs": [
        {
          "output_type": "stream",
          "text": [
            "              precision    recall  f1-score   support\n",
            "\n",
            "           1       0.61      0.80      0.69      3875\n",
            "           2       0.28      0.06      0.09      1887\n",
            "           3       0.37      0.18      0.24      2560\n",
            "           4       0.42      0.23      0.30      4637\n",
            "           5       0.75      0.93      0.83     15019\n",
            "\n",
            "    accuracy                           0.67     27978\n",
            "   macro avg       0.48      0.44      0.43     27978\n",
            "weighted avg       0.61      0.67      0.62     27978\n",
            "\n"
          ],
          "name": "stdout"
        }
      ]
    },
    {
      "cell_type": "code",
      "metadata": {
        "id": "aB1VrDBRBD0o",
        "colab_type": "code",
        "outputId": "991a3962-675a-46f6-806e-254fedcb6d51",
        "colab": {
          "base_uri": "https://localhost:8080/",
          "height": 366
        }
      },
      "source": [
        "pu.plot_roc_auc(mw.name, mw.roc_auc, mw.fpr, mw.tpr)"
      ],
      "execution_count": 19,
      "outputs": [
        {
          "output_type": "display_data",
          "data": {
            "image/png": "[encoded data removed]",
            "text/plain": [
              "<Figure size 432x288 with 1 Axes>"
            ]
          },
          "metadata": {
            "tags": []
          }
        }
      ]
    },
    {
      "cell_type": "markdown",
      "metadata": {
        "id": "R1ZykmClqRhd",
        "colab_type": "text"
      },
      "source": [
        "# Save off various files"
      ]
    },
    {
      "cell_type": "markdown",
      "metadata": {
        "id": "uigz1oPBJiSy",
        "colab_type": "text"
      },
      "source": [
        ""
      ]
    },
    {
      "cell_type": "code",
      "metadata": {
        "id": "ZUmLiKRXAs1w",
        "colab_type": "code",
        "colab": {
          "base_uri": "https://localhost:8080/",
          "height": 102
        },
        "outputId": "22c0780f-a80b-4e46-a857-b235f0ee3c79"
      },
      "source": [
        "# mw.save(DRIVE_DIR, f\"{MODEL_NAME}-{INBASENAME}-nosmote-{LABEL_COLUMN}\", append_report=True)\n",
        "mw.save(DRIVE_DIR, append_report=True)"
      ],
      "execution_count": 20,
      "outputs": [
        {
          "output_type": "stream",
          "text": [
            "description: review_body-word2vec5-111909-512-nolda-DNN_340-512-star_rating\n",
            "Saving model file: drive/My Drive/Springboard/capstone/models/review_body-word2vec5-111909-512-nolda-DNN_340-512-star_rating-model.h5\n",
            "Saving network history file: drive/My Drive/Springboard/capstone/models/review_body-word2vec5-111909-512-nolda-DNN_340-512-star_rating-history.pkl\n",
            "Saving to report file: drive/My Drive/Springboard/capstone/reports/2019-07-30-dl_protype-report.csv\n",
            "Saving report file...\n"
          ],
          "name": "stdout"
        }
      ]
    },
    {
      "cell_type": "code",
      "metadata": {
        "id": "5TerZ7mhMWdz",
        "colab_type": "code",
        "outputId": "e11926b7-fe4d-4ff1-a3c6-534f6714fbfe",
        "colab": {
          "base_uri": "https://localhost:8080/",
          "height": 168
        }
      },
      "source": [
        "mw.get_report().to_df()"
      ],
      "execution_count": 21,
      "outputs": [
        {
          "output_type": "execute_result",
          "data": {
            "text/html": [
              "<div>\n",
              "<style scoped>\n",
              "    .dataframe tbody tr th:only-of-type {\n",
              "        vertical-align: middle;\n",
              "    }\n",
              "\n",
              "    .dataframe tbody tr th {\n",
              "        vertical-align: top;\n",
              "    }\n",
              "\n",
              "    .dataframe thead th {\n",
              "        text-align: right;\n",
              "    }\n",
              "</style>\n",
              "<table border=\"1\" class=\"dataframe\">\n",
              "  <thead>\n",
              "    <tr style=\"text-align: right;\">\n",
              "      <th></th>\n",
              "      <th>accuracy</th>\n",
              "      <th>classification_report</th>\n",
              "      <th>confusion_matrix</th>\n",
              "      <th>description</th>\n",
              "      <th>embedding</th>\n",
              "      <th>file</th>\n",
              "      <th>fpr</th>\n",
              "      <th>loss</th>\n",
              "      <th>max_sequence_length</th>\n",
              "      <th>model_file</th>\n",
              "      <th>model_name</th>\n",
              "      <th>network_history_file</th>\n",
              "      <th>roc_auc</th>\n",
              "      <th>status</th>\n",
              "      <th>status_date</th>\n",
              "      <th>test_examples</th>\n",
              "      <th>test_features</th>\n",
              "      <th>tokenizer_file</th>\n",
              "      <th>tpr</th>\n",
              "      <th>train_examples</th>\n",
              "      <th>train_features</th>\n",
              "      <th>train_time_min</th>\n",
              "    </tr>\n",
              "  </thead>\n",
              "  <tbody>\n",
              "    <tr>\n",
              "      <th>0</th>\n",
              "      <td>0.667846</td>\n",
              "      <td>{\"1\": {\"precision\": 0.6103202846975089, \"recal...</td>\n",
              "      <td>[[3087, 98, 189, 100, 401], [930, 104, 248, 18...</td>\n",
              "      <td>review_body-word2vec5-111909-512-nolda-DNN_340...</td>\n",
              "      <td>word2vec</td>\n",
              "      <td>review_body-word2vec5-111909-512-nolda.csv</td>\n",
              "      <td>{\"0\": [0.0, 0.0, 0.0, 0.0, 0.0, 4.148861137617...</td>\n",
              "      <td>0.861858</td>\n",
              "      <td>512.0</td>\n",
              "      <td>drive/My Drive/Springboard/capstone/models/rev...</td>\n",
              "      <td>DNN_340</td>\n",
              "      <td>&lt;keras.callbacks.History object at 0x7f985e6b7...</td>\n",
              "      <td>{\"auc_1\": 0.9465612606113815, \"auc_2\": 0.84688...</td>\n",
              "      <td>success</td>\n",
              "      <td>2019-07-30 00:36:57</td>\n",
              "      <td>27978.0</td>\n",
              "      <td>512.0</td>\n",
              "      <td>None</td>\n",
              "      <td>{\"0\": [0.0, 0.00025806451612903227, 0.00103225...</td>\n",
              "      <td>83931.0</td>\n",
              "      <td>512.0</td>\n",
              "      <td>4.47</td>\n",
              "    </tr>\n",
              "  </tbody>\n",
              "</table>\n",
              "</div>"
            ],
            "text/plain": [
              "   accuracy  ... train_time_min\n",
              "0  0.667846  ...           4.47\n",
              "\n",
              "[1 rows x 22 columns]"
            ]
          },
          "metadata": {
            "tags": []
          },
          "execution_count": 21
        }
      ]
    },
    {
      "cell_type": "code",
      "metadata": {
        "id": "sNVn4kd-RUUn",
        "colab_type": "code",
        "colab": {}
      },
      "source": [
        ""
      ],
      "execution_count": 0,
      "outputs": []
    }
  ]
}