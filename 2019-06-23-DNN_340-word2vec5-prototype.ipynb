{
 "cells": [
  {
   "cell_type": "markdown",
   "metadata": {},
   "source": [
    "# DNN Prototype\n",
    "\n",
    "Exprimenting with 1 layer NN with 340 neruons. Came up with this number since we want to keep number of neurons to be around 2/3 of input features"
   ]
  },
  {
   "cell_type": "code",
   "execution_count": 1,
   "metadata": {},
   "outputs": [
    {
     "name": "stderr",
     "output_type": "stream",
     "text": [
      "Using TensorFlow backend.\n"
     ]
    }
   ],
   "source": [
    "from keras.models import Sequential\n",
    "from keras.layers import Dense, Activation, Dropout\n",
    "from keras.layers.normalization import BatchNormalization\n",
    "from keras.callbacks import EarlyStopping\n",
    "from keras.models import load_model\n",
    "from sklearn.model_selection import train_test_split\n",
    "from keras.optimizers import SGD\n",
    "from sklearn.preprocessing import OneHotEncoder\n",
    "import pandas as pd\n",
    "from IPython.display import SVG\n",
    "from keras.utils.vis_utils import model_to_dot\n",
    "from util import dict_util as du\n",
    "from util import file_util as fu\n",
    "from util import plot_util as pu\n",
    "import pickle\n",
    "from datetime import datetime\n",
    "from sklearn.metrics import confusion_matrix, classification_report\n",
    "import os"
   ]
  },
  {
   "cell_type": "code",
   "execution_count": 2,
   "metadata": {},
   "outputs": [],
   "source": [
    "DATE_FORMAT = '%Y-%m-%d'\n",
    "TIME_FORMAT = '%Y-%m-%d %H:%M:%S'\n",
    "DATA_DIR = \"dataset/feature_files\"\n",
    "DATA_FILE = \"review_body-word2vec5-111909-512-nolda.csv\"\n",
    "MODEL_NAME = \"DNN_340\"\n",
    "FEATURE_COLUMN = \"star_rating\"\n",
    "directory, INBASENAME = fu.get_dir_basename(DATA_FILE)\n",
    "DESCRIPTION = f\"{MODEL_NAME}-{INBASENAME}-nosmote-{FEATURE_COLUMN}\"\n",
    "MODEL_FILE = f\"models/{DESCRIPTION}.h5\"\n",
    "NETWORK_HISTORY_FILE = f'models/{DESCRIPTION}-history.pkl'\n",
    "REPORT_FILE = f\"reports/{datetime.now().strftime(DATE_FORMAT)}-NN_notebook_protype-report.csv\""
   ]
  },
  {
   "cell_type": "code",
   "execution_count": 3,
   "metadata": {
    "hide_input": false
   },
   "outputs": [],
   "source": [
    "df = pd.read_csv(f\"{DATA_DIR}/{DATA_FILE}\")\n",
    "rating = df[FEATURE_COLUMN]\n",
    "df = df.drop(columns=[\"helpful_votes\", \"total_votes\", \"helpful_product\", \"star_rating\"])"
   ]
  },
  {
   "cell_type": "code",
   "execution_count": 4,
   "metadata": {},
   "outputs": [
    {
     "data": {
      "text/html": [
       "<div>\n",
       "<style scoped>\n",
       "    .dataframe tbody tr th:only-of-type {\n",
       "        vertical-align: middle;\n",
       "    }\n",
       "\n",
       "    .dataframe tbody tr th {\n",
       "        vertical-align: top;\n",
       "    }\n",
       "\n",
       "    .dataframe thead th {\n",
       "        text-align: right;\n",
       "    }\n",
       "</style>\n",
       "<table border=\"1\" class=\"dataframe\">\n",
       "  <thead>\n",
       "    <tr style=\"text-align: right;\">\n",
       "      <th></th>\n",
       "      <th>0</th>\n",
       "      <th>1</th>\n",
       "      <th>2</th>\n",
       "      <th>3</th>\n",
       "      <th>4</th>\n",
       "      <th>5</th>\n",
       "      <th>6</th>\n",
       "      <th>7</th>\n",
       "      <th>8</th>\n",
       "      <th>9</th>\n",
       "      <th>...</th>\n",
       "      <th>502</th>\n",
       "      <th>503</th>\n",
       "      <th>504</th>\n",
       "      <th>505</th>\n",
       "      <th>506</th>\n",
       "      <th>507</th>\n",
       "      <th>508</th>\n",
       "      <th>509</th>\n",
       "      <th>510</th>\n",
       "      <th>511</th>\n",
       "    </tr>\n",
       "  </thead>\n",
       "  <tbody>\n",
       "    <tr>\n",
       "      <th>0</th>\n",
       "      <td>-0.288502</td>\n",
       "      <td>-0.481055</td>\n",
       "      <td>0.258424</td>\n",
       "      <td>0.362731</td>\n",
       "      <td>0.475364</td>\n",
       "      <td>0.421039</td>\n",
       "      <td>0.014504</td>\n",
       "      <td>0.213545</td>\n",
       "      <td>-0.390066</td>\n",
       "      <td>0.103808</td>\n",
       "      <td>...</td>\n",
       "      <td>0.193389</td>\n",
       "      <td>-0.345230</td>\n",
       "      <td>-0.041291</td>\n",
       "      <td>0.063343</td>\n",
       "      <td>-0.230869</td>\n",
       "      <td>-0.018990</td>\n",
       "      <td>-0.462915</td>\n",
       "      <td>-0.762691</td>\n",
       "      <td>0.271782</td>\n",
       "      <td>-0.653218</td>\n",
       "    </tr>\n",
       "    <tr>\n",
       "      <th>1</th>\n",
       "      <td>0.173821</td>\n",
       "      <td>-0.214929</td>\n",
       "      <td>-0.098004</td>\n",
       "      <td>0.432866</td>\n",
       "      <td>0.370673</td>\n",
       "      <td>0.000804</td>\n",
       "      <td>-0.735449</td>\n",
       "      <td>0.162931</td>\n",
       "      <td>0.113988</td>\n",
       "      <td>0.468011</td>\n",
       "      <td>...</td>\n",
       "      <td>0.133606</td>\n",
       "      <td>-0.374622</td>\n",
       "      <td>-0.360892</td>\n",
       "      <td>-0.394297</td>\n",
       "      <td>-0.168498</td>\n",
       "      <td>-0.262506</td>\n",
       "      <td>-0.958892</td>\n",
       "      <td>0.099089</td>\n",
       "      <td>0.487517</td>\n",
       "      <td>-0.307144</td>\n",
       "    </tr>\n",
       "    <tr>\n",
       "      <th>2</th>\n",
       "      <td>-0.257559</td>\n",
       "      <td>-0.065606</td>\n",
       "      <td>0.344815</td>\n",
       "      <td>0.411276</td>\n",
       "      <td>0.090839</td>\n",
       "      <td>0.738248</td>\n",
       "      <td>0.282006</td>\n",
       "      <td>0.331116</td>\n",
       "      <td>-0.213441</td>\n",
       "      <td>0.092032</td>\n",
       "      <td>...</td>\n",
       "      <td>0.273857</td>\n",
       "      <td>-0.094201</td>\n",
       "      <td>0.245259</td>\n",
       "      <td>0.438028</td>\n",
       "      <td>-0.413395</td>\n",
       "      <td>0.425271</td>\n",
       "      <td>-0.417884</td>\n",
       "      <td>-0.886485</td>\n",
       "      <td>0.458968</td>\n",
       "      <td>-0.380352</td>\n",
       "    </tr>\n",
       "    <tr>\n",
       "      <th>3</th>\n",
       "      <td>-0.023537</td>\n",
       "      <td>0.186004</td>\n",
       "      <td>-0.018319</td>\n",
       "      <td>0.046002</td>\n",
       "      <td>0.285380</td>\n",
       "      <td>0.824158</td>\n",
       "      <td>0.240865</td>\n",
       "      <td>0.177934</td>\n",
       "      <td>-0.293685</td>\n",
       "      <td>0.369762</td>\n",
       "      <td>...</td>\n",
       "      <td>0.076834</td>\n",
       "      <td>0.171872</td>\n",
       "      <td>0.258420</td>\n",
       "      <td>0.169574</td>\n",
       "      <td>-0.280809</td>\n",
       "      <td>0.322120</td>\n",
       "      <td>-0.102916</td>\n",
       "      <td>-0.606135</td>\n",
       "      <td>0.186568</td>\n",
       "      <td>-0.477317</td>\n",
       "    </tr>\n",
       "    <tr>\n",
       "      <th>4</th>\n",
       "      <td>-0.832218</td>\n",
       "      <td>0.451893</td>\n",
       "      <td>0.474038</td>\n",
       "      <td>-0.018249</td>\n",
       "      <td>-0.478648</td>\n",
       "      <td>0.178108</td>\n",
       "      <td>-0.472869</td>\n",
       "      <td>-0.532138</td>\n",
       "      <td>-0.491469</td>\n",
       "      <td>-0.466011</td>\n",
       "      <td>...</td>\n",
       "      <td>0.594541</td>\n",
       "      <td>-0.302686</td>\n",
       "      <td>-0.511276</td>\n",
       "      <td>-0.590193</td>\n",
       "      <td>0.299716</td>\n",
       "      <td>-0.181081</td>\n",
       "      <td>-0.436865</td>\n",
       "      <td>0.996631</td>\n",
       "      <td>0.330113</td>\n",
       "      <td>-0.327735</td>\n",
       "    </tr>\n",
       "  </tbody>\n",
       "</table>\n",
       "<p>5 rows × 512 columns</p>\n",
       "</div>"
      ],
      "text/plain": [
       "          0         1         2         3         4         5         6  \\\n",
       "0 -0.288502 -0.481055  0.258424  0.362731  0.475364  0.421039  0.014504   \n",
       "1  0.173821 -0.214929 -0.098004  0.432866  0.370673  0.000804 -0.735449   \n",
       "2 -0.257559 -0.065606  0.344815  0.411276  0.090839  0.738248  0.282006   \n",
       "3 -0.023537  0.186004 -0.018319  0.046002  0.285380  0.824158  0.240865   \n",
       "4 -0.832218  0.451893  0.474038 -0.018249 -0.478648  0.178108 -0.472869   \n",
       "\n",
       "          7         8         9  ...       502       503       504       505  \\\n",
       "0  0.213545 -0.390066  0.103808  ...  0.193389 -0.345230 -0.041291  0.063343   \n",
       "1  0.162931  0.113988  0.468011  ...  0.133606 -0.374622 -0.360892 -0.394297   \n",
       "2  0.331116 -0.213441  0.092032  ...  0.273857 -0.094201  0.245259  0.438028   \n",
       "3  0.177934 -0.293685  0.369762  ...  0.076834  0.171872  0.258420  0.169574   \n",
       "4 -0.532138 -0.491469 -0.466011  ...  0.594541 -0.302686 -0.511276 -0.590193   \n",
       "\n",
       "        506       507       508       509       510       511  \n",
       "0 -0.230869 -0.018990 -0.462915 -0.762691  0.271782 -0.653218  \n",
       "1 -0.168498 -0.262506 -0.958892  0.099089  0.487517 -0.307144  \n",
       "2 -0.413395  0.425271 -0.417884 -0.886485  0.458968 -0.380352  \n",
       "3 -0.280809  0.322120 -0.102916 -0.606135  0.186568 -0.477317  \n",
       "4  0.299716 -0.181081 -0.436865  0.996631  0.330113 -0.327735  \n",
       "\n",
       "[5 rows x 512 columns]"
      ]
     },
     "execution_count": 4,
     "metadata": {},
     "output_type": "execute_result"
    }
   ],
   "source": [
    "df.head()"
   ]
  },
  {
   "cell_type": "code",
   "execution_count": 5,
   "metadata": {},
   "outputs": [
    {
     "data": {
      "text/plain": [
       "0    5\n",
       "1    5\n",
       "2    5\n",
       "3    5\n",
       "4    3\n",
       "Name: star_rating, dtype: int64"
      ]
     },
     "execution_count": 5,
     "metadata": {},
     "output_type": "execute_result"
    }
   ],
   "source": [
    "rating.head()"
   ]
  },
  {
   "cell_type": "code",
   "execution_count": 6,
   "metadata": {},
   "outputs": [
    {
     "name": "stdout",
     "output_type": "stream",
     "text": [
      "WARNING:tensorflow:From /Users/vinceluk/anaconda3/envs/capstone/lib/python3.7/site-packages/tensorflow/python/framework/op_def_library.py:263: colocate_with (from tensorflow.python.framework.ops) is deprecated and will be removed in a future version.\n",
      "Instructions for updating:\n",
      "Colocations handled automatically by placer.\n",
      "WARNING:tensorflow:From /Users/vinceluk/anaconda3/envs/capstone/lib/python3.7/site-packages/keras/backend/tensorflow_backend.py:3445: calling dropout (from tensorflow.python.ops.nn_ops) with keep_prob is deprecated and will be removed in a future version.\n",
      "Instructions for updating:\n",
      "Please use `rate` instead of `keep_prob`. Rate should be set to `rate = 1 - keep_prob`.\n"
     ]
    }
   ],
   "source": [
    "model = Sequential()\n",
    "\n",
    "model.add(Dense(340, input_shape=(df.shape[1],), kernel_initializer='glorot_uniform'))\n",
    "model.add(BatchNormalization())\n",
    "model.add(Activation('relu'))\n",
    "model.add(Dropout(0.2))\n",
    "\n",
    "model.add(Dense(5, activation='softmax'))\n",
    "model.compile(optimizer=SGD(), loss='categorical_crossentropy', metrics=['accuracy'])"
   ]
  },
  {
   "cell_type": "code",
   "execution_count": 7,
   "metadata": {},
   "outputs": [
    {
     "name": "stdout",
     "output_type": "stream",
     "text": [
      "_________________________________________________________________\n",
      "Layer (type)                 Output Shape              Param #   \n",
      "=================================================================\n",
      "dense_1 (Dense)              (None, 340)               174420    \n",
      "_________________________________________________________________\n",
      "batch_normalization_1 (Batch (None, 340)               1360      \n",
      "_________________________________________________________________\n",
      "activation_1 (Activation)    (None, 340)               0         \n",
      "_________________________________________________________________\n",
      "dropout_1 (Dropout)          (None, 340)               0         \n",
      "_________________________________________________________________\n",
      "dense_2 (Dense)              (None, 5)                 1705      \n",
      "=================================================================\n",
      "Total params: 177,485\n",
      "Trainable params: 176,805\n",
      "Non-trainable params: 680\n",
      "_________________________________________________________________\n",
      "None\n"
     ]
    }
   ],
   "source": [
    "print(model.summary())"
   ]
  },
  {
   "cell_type": "code",
   "execution_count": 8,
   "metadata": {},
   "outputs": [
    {
     "data": {
      "image/svg+xml": [
       "<svg height=\"460pt\" viewBox=\"0.00 0.00 278.00 460.00\" width=\"278pt\" xmlns=\"http://www.w3.org/2000/svg\" xmlns:xlink=\"http://www.w3.org/1999/xlink\">\n",
       "<g class=\"graph\" id=\"graph0\" transform=\"scale(1 1) rotate(0) translate(4 456)\">\n",
       "<title>G</title>\n",
       "<polygon fill=\"#ffffff\" points=\"-4,4 -4,-456 274,-456 274,4 -4,4\" stroke=\"transparent\"/>\n",
       "<!-- 4441630760 -->\n",
       "<g class=\"node\" id=\"node1\">\n",
       "<title>4441630760</title>\n",
       "<polygon fill=\"none\" points=\"39.5,-332.5 39.5,-378.5 230.5,-378.5 230.5,-332.5 39.5,-332.5\" stroke=\"#000000\"/>\n",
       "<text fill=\"#000000\" font-family=\"Times,serif\" font-size=\"14.00\" text-anchor=\"middle\" x=\"65\" y=\"-351.8\">Dense</text>\n",
       "<polyline fill=\"none\" points=\"90.5,-332.5 90.5,-378.5 \" stroke=\"#000000\"/>\n",
       "<text fill=\"#000000\" font-family=\"Times,serif\" font-size=\"14.00\" text-anchor=\"middle\" x=\"118.5\" y=\"-363.3\">input:</text>\n",
       "<polyline fill=\"none\" points=\"90.5,-355.5 146.5,-355.5 \" stroke=\"#000000\"/>\n",
       "<text fill=\"#000000\" font-family=\"Times,serif\" font-size=\"14.00\" text-anchor=\"middle\" x=\"118.5\" y=\"-340.3\">output:</text>\n",
       "<polyline fill=\"none\" points=\"146.5,-332.5 146.5,-378.5 \" stroke=\"#000000\"/>\n",
       "<text fill=\"#000000\" font-family=\"Times,serif\" font-size=\"14.00\" text-anchor=\"middle\" x=\"188.5\" y=\"-363.3\">(None, 512)</text>\n",
       "<polyline fill=\"none\" points=\"146.5,-355.5 230.5,-355.5 \" stroke=\"#000000\"/>\n",
       "<text fill=\"#000000\" font-family=\"Times,serif\" font-size=\"14.00\" text-anchor=\"middle\" x=\"188.5\" y=\"-340.3\">(None, 340)</text>\n",
       "</g>\n",
       "<!-- 4441631376 -->\n",
       "<g class=\"node\" id=\"node2\">\n",
       "<title>4441631376</title>\n",
       "<polygon fill=\"none\" points=\"0,-249.5 0,-295.5 270,-295.5 270,-249.5 0,-249.5\" stroke=\"#000000\"/>\n",
       "<text fill=\"#000000\" font-family=\"Times,serif\" font-size=\"14.00\" text-anchor=\"middle\" x=\"65\" y=\"-268.8\">BatchNormalization</text>\n",
       "<polyline fill=\"none\" points=\"130,-249.5 130,-295.5 \" stroke=\"#000000\"/>\n",
       "<text fill=\"#000000\" font-family=\"Times,serif\" font-size=\"14.00\" text-anchor=\"middle\" x=\"158\" y=\"-280.3\">input:</text>\n",
       "<polyline fill=\"none\" points=\"130,-272.5 186,-272.5 \" stroke=\"#000000\"/>\n",
       "<text fill=\"#000000\" font-family=\"Times,serif\" font-size=\"14.00\" text-anchor=\"middle\" x=\"158\" y=\"-257.3\">output:</text>\n",
       "<polyline fill=\"none\" points=\"186,-249.5 186,-295.5 \" stroke=\"#000000\"/>\n",
       "<text fill=\"#000000\" font-family=\"Times,serif\" font-size=\"14.00\" text-anchor=\"middle\" x=\"228\" y=\"-280.3\">(None, 340)</text>\n",
       "<polyline fill=\"none\" points=\"186,-272.5 270,-272.5 \" stroke=\"#000000\"/>\n",
       "<text fill=\"#000000\" font-family=\"Times,serif\" font-size=\"14.00\" text-anchor=\"middle\" x=\"228\" y=\"-257.3\">(None, 340)</text>\n",
       "</g>\n",
       "<!-- 4441630760&#45;&gt;4441631376 -->\n",
       "<g class=\"edge\" id=\"edge2\">\n",
       "<title>4441630760-&gt;4441631376</title>\n",
       "<path d=\"M135,-332.3799C135,-324.1745 135,-314.7679 135,-305.8786\" fill=\"none\" stroke=\"#000000\"/>\n",
       "<polygon fill=\"#000000\" points=\"138.5001,-305.784 135,-295.784 131.5001,-305.784 138.5001,-305.784\" stroke=\"#000000\"/>\n",
       "</g>\n",
       "<!-- 4460527176 -->\n",
       "<g class=\"node\" id=\"node3\">\n",
       "<title>4460527176</title>\n",
       "<polygon fill=\"none\" points=\"27,-166.5 27,-212.5 243,-212.5 243,-166.5 27,-166.5\" stroke=\"#000000\"/>\n",
       "<text fill=\"#000000\" font-family=\"Times,serif\" font-size=\"14.00\" text-anchor=\"middle\" x=\"65\" y=\"-185.8\">Activation</text>\n",
       "<polyline fill=\"none\" points=\"103,-166.5 103,-212.5 \" stroke=\"#000000\"/>\n",
       "<text fill=\"#000000\" font-family=\"Times,serif\" font-size=\"14.00\" text-anchor=\"middle\" x=\"131\" y=\"-197.3\">input:</text>\n",
       "<polyline fill=\"none\" points=\"103,-189.5 159,-189.5 \" stroke=\"#000000\"/>\n",
       "<text fill=\"#000000\" font-family=\"Times,serif\" font-size=\"14.00\" text-anchor=\"middle\" x=\"131\" y=\"-174.3\">output:</text>\n",
       "<polyline fill=\"none\" points=\"159,-166.5 159,-212.5 \" stroke=\"#000000\"/>\n",
       "<text fill=\"#000000\" font-family=\"Times,serif\" font-size=\"14.00\" text-anchor=\"middle\" x=\"201\" y=\"-197.3\">(None, 340)</text>\n",
       "<polyline fill=\"none\" points=\"159,-189.5 243,-189.5 \" stroke=\"#000000\"/>\n",
       "<text fill=\"#000000\" font-family=\"Times,serif\" font-size=\"14.00\" text-anchor=\"middle\" x=\"201\" y=\"-174.3\">(None, 340)</text>\n",
       "</g>\n",
       "<!-- 4441631376&#45;&gt;4460527176 -->\n",
       "<g class=\"edge\" id=\"edge3\">\n",
       "<title>4441631376-&gt;4460527176</title>\n",
       "<path d=\"M135,-249.3799C135,-241.1745 135,-231.7679 135,-222.8786\" fill=\"none\" stroke=\"#000000\"/>\n",
       "<polygon fill=\"#000000\" points=\"138.5001,-222.784 135,-212.784 131.5001,-222.784 138.5001,-222.784\" stroke=\"#000000\"/>\n",
       "</g>\n",
       "<!-- 112638487800 -->\n",
       "<g class=\"node\" id=\"node4\">\n",
       "<title>112638487800</title>\n",
       "<polygon fill=\"none\" points=\"33.5,-83.5 33.5,-129.5 236.5,-129.5 236.5,-83.5 33.5,-83.5\" stroke=\"#000000\"/>\n",
       "<text fill=\"#000000\" font-family=\"Times,serif\" font-size=\"14.00\" text-anchor=\"middle\" x=\"65\" y=\"-102.8\">Dropout</text>\n",
       "<polyline fill=\"none\" points=\"96.5,-83.5 96.5,-129.5 \" stroke=\"#000000\"/>\n",
       "<text fill=\"#000000\" font-family=\"Times,serif\" font-size=\"14.00\" text-anchor=\"middle\" x=\"124.5\" y=\"-114.3\">input:</text>\n",
       "<polyline fill=\"none\" points=\"96.5,-106.5 152.5,-106.5 \" stroke=\"#000000\"/>\n",
       "<text fill=\"#000000\" font-family=\"Times,serif\" font-size=\"14.00\" text-anchor=\"middle\" x=\"124.5\" y=\"-91.3\">output:</text>\n",
       "<polyline fill=\"none\" points=\"152.5,-83.5 152.5,-129.5 \" stroke=\"#000000\"/>\n",
       "<text fill=\"#000000\" font-family=\"Times,serif\" font-size=\"14.00\" text-anchor=\"middle\" x=\"194.5\" y=\"-114.3\">(None, 340)</text>\n",
       "<polyline fill=\"none\" points=\"152.5,-106.5 236.5,-106.5 \" stroke=\"#000000\"/>\n",
       "<text fill=\"#000000\" font-family=\"Times,serif\" font-size=\"14.00\" text-anchor=\"middle\" x=\"194.5\" y=\"-91.3\">(None, 340)</text>\n",
       "</g>\n",
       "<!-- 4460527176&#45;&gt;112638487800 -->\n",
       "<g class=\"edge\" id=\"edge4\">\n",
       "<title>4460527176-&gt;112638487800</title>\n",
       "<path d=\"M135,-166.3799C135,-158.1745 135,-148.7679 135,-139.8786\" fill=\"none\" stroke=\"#000000\"/>\n",
       "<polygon fill=\"#000000\" points=\"138.5001,-139.784 135,-129.784 131.5001,-139.784 138.5001,-139.784\" stroke=\"#000000\"/>\n",
       "</g>\n",
       "<!-- 112625939568 -->\n",
       "<g class=\"node\" id=\"node5\">\n",
       "<title>112625939568</title>\n",
       "<polygon fill=\"none\" points=\"39.5,-.5 39.5,-46.5 230.5,-46.5 230.5,-.5 39.5,-.5\" stroke=\"#000000\"/>\n",
       "<text fill=\"#000000\" font-family=\"Times,serif\" font-size=\"14.00\" text-anchor=\"middle\" x=\"65\" y=\"-19.8\">Dense</text>\n",
       "<polyline fill=\"none\" points=\"90.5,-.5 90.5,-46.5 \" stroke=\"#000000\"/>\n",
       "<text fill=\"#000000\" font-family=\"Times,serif\" font-size=\"14.00\" text-anchor=\"middle\" x=\"118.5\" y=\"-31.3\">input:</text>\n",
       "<polyline fill=\"none\" points=\"90.5,-23.5 146.5,-23.5 \" stroke=\"#000000\"/>\n",
       "<text fill=\"#000000\" font-family=\"Times,serif\" font-size=\"14.00\" text-anchor=\"middle\" x=\"118.5\" y=\"-8.3\">output:</text>\n",
       "<polyline fill=\"none\" points=\"146.5,-.5 146.5,-46.5 \" stroke=\"#000000\"/>\n",
       "<text fill=\"#000000\" font-family=\"Times,serif\" font-size=\"14.00\" text-anchor=\"middle\" x=\"188.5\" y=\"-31.3\">(None, 340)</text>\n",
       "<polyline fill=\"none\" points=\"146.5,-23.5 230.5,-23.5 \" stroke=\"#000000\"/>\n",
       "<text fill=\"#000000\" font-family=\"Times,serif\" font-size=\"14.00\" text-anchor=\"middle\" x=\"188.5\" y=\"-8.3\">(None, 5)</text>\n",
       "</g>\n",
       "<!-- 112638487800&#45;&gt;112625939568 -->\n",
       "<g class=\"edge\" id=\"edge5\">\n",
       "<title>112638487800-&gt;112625939568</title>\n",
       "<path d=\"M135,-83.3799C135,-75.1745 135,-65.7679 135,-56.8786\" fill=\"none\" stroke=\"#000000\"/>\n",
       "<polygon fill=\"#000000\" points=\"138.5001,-56.784 135,-46.784 131.5001,-56.784 138.5001,-56.784\" stroke=\"#000000\"/>\n",
       "</g>\n",
       "<!-- 4441631880 -->\n",
       "<g class=\"node\" id=\"node6\">\n",
       "<title>4441631880</title>\n",
       "<polygon fill=\"none\" points=\"91.5,-415.5 91.5,-451.5 178.5,-451.5 178.5,-415.5 91.5,-415.5\" stroke=\"#000000\"/>\n",
       "<text fill=\"#000000\" font-family=\"Times,serif\" font-size=\"14.00\" text-anchor=\"middle\" x=\"135\" y=\"-429.8\">4441631880</text>\n",
       "</g>\n",
       "<!-- 4441631880&#45;&gt;4441630760 -->\n",
       "<g class=\"edge\" id=\"edge1\">\n",
       "<title>4441631880-&gt;4441630760</title>\n",
       "<path d=\"M135,-415.4092C135,-407.4308 135,-397.795 135,-388.606\" fill=\"none\" stroke=\"#000000\"/>\n",
       "<polygon fill=\"#000000\" points=\"138.5001,-388.5333 135,-378.5333 131.5001,-388.5334 138.5001,-388.5333\" stroke=\"#000000\"/>\n",
       "</g>\n",
       "</g>\n",
       "</svg>"
      ],
      "text/plain": [
       "<IPython.core.display.SVG object>"
      ]
     },
     "execution_count": 8,
     "metadata": {},
     "output_type": "execute_result"
    }
   ],
   "source": [
    "SVG(model_to_dot(model, show_shapes=True, show_layer_names=False, \n",
    "                 rankdir='TB').create(prog='dot', format='svg'))"
   ]
  },
  {
   "cell_type": "code",
   "execution_count": 9,
   "metadata": {},
   "outputs": [
    {
     "name": "stdout",
     "output_type": "stream",
     "text": [
      "(111909,)\n",
      "<class 'pandas.core.series.Series'>\n"
     ]
    },
    {
     "name": "stderr",
     "output_type": "stream",
     "text": [
      "/Users/vinceluk/anaconda3/envs/capstone/lib/python3.7/site-packages/sklearn/preprocessing/_encoders.py:415: FutureWarning: The handling of integer data will change in version 0.22. Currently, the categories are determined based on the range [0, max(values)], while in the future they will be determined based on the unique values.\n",
      "If you want the future behaviour and silence this warning, you can specify \"categories='auto'\".\n",
      "In case you used a LabelEncoder before this OneHotEncoder to convert the categories to integers, then you can now use the OneHotEncoder directly.\n",
      "  warnings.warn(msg, FutureWarning)\n"
     ]
    },
    {
     "data": {
      "text/plain": [
       "array([[0., 0., 0., 0., 1.],\n",
       "       [0., 0., 0., 0., 1.],\n",
       "       [0., 0., 0., 0., 1.],\n",
       "       ...,\n",
       "       [0., 0., 1., 0., 0.],\n",
       "       [0., 0., 0., 0., 1.],\n",
       "       [0., 0., 0., 1., 0.]])"
      ]
     },
     "execution_count": 9,
     "metadata": {},
     "output_type": "execute_result"
    }
   ],
   "source": [
    "# one hot encode rating\n",
    "print(rating.shape)\n",
    "print(type(rating))\n",
    "y = OneHotEncoder().fit_transform(rating.values.reshape(len(rating), 1)).toarray()\n",
    "y"
   ]
  },
  {
   "cell_type": "code",
   "execution_count": 10,
   "metadata": {},
   "outputs": [],
   "source": [
    "x_train, x_test, y_train, y_test = train_test_split(df, y, random_state=1)"
   ]
  },
  {
   "cell_type": "code",
   "execution_count": 11,
   "metadata": {
    "scrolled": false
   },
   "outputs": [
    {
     "name": "stdout",
     "output_type": "stream",
     "text": [
      "WARNING:tensorflow:From /Users/vinceluk/anaconda3/envs/capstone/lib/python3.7/site-packages/tensorflow/python/ops/math_ops.py:3066: to_int32 (from tensorflow.python.ops.math_ops) is deprecated and will be removed in a future version.\n",
      "Instructions for updating:\n",
      "Use tf.cast instead.\n",
      "Train on 67144 samples, validate on 16787 samples\n",
      "Epoch 1/50\n",
      "67144/67144 [==============================] - 9s 134us/step - loss: 1.1232 - acc: 0.5892 - val_loss: 0.9890 - val_acc: 0.6383\n",
      "Epoch 2/50\n",
      "67144/67144 [==============================] - 8s 115us/step - loss: 1.0061 - acc: 0.6267 - val_loss: 0.9474 - val_acc: 0.6500\n",
      "Epoch 3/50\n",
      "67144/67144 [==============================] - 7s 111us/step - loss: 0.9701 - acc: 0.6366 - val_loss: 0.9284 - val_acc: 0.6546\n",
      "Epoch 4/50\n",
      "67144/67144 [==============================] - 8s 116us/step - loss: 0.9468 - acc: 0.6438 - val_loss: 0.9154 - val_acc: 0.6577\n",
      "Epoch 5/50\n",
      "67144/67144 [==============================] - 8s 112us/step - loss: 0.9324 - acc: 0.6494 - val_loss: 0.9068 - val_acc: 0.6586\n",
      "Epoch 6/50\n",
      "67144/67144 [==============================] - 8s 112us/step - loss: 0.9189 - acc: 0.6522 - val_loss: 0.9000 - val_acc: 0.6585\n",
      "Epoch 7/50\n",
      "67144/67144 [==============================] - 7s 111us/step - loss: 0.9086 - acc: 0.6539 - val_loss: 0.8940 - val_acc: 0.6610\n",
      "Epoch 8/50\n",
      "67144/67144 [==============================] - 8s 113us/step - loss: 0.9035 - acc: 0.6553 - val_loss: 0.8890 - val_acc: 0.6630\n",
      "Epoch 9/50\n",
      "67144/67144 [==============================] - 7s 110us/step - loss: 0.8942 - acc: 0.6581 - val_loss: 0.8857 - val_acc: 0.6643\n",
      "Epoch 10/50\n",
      "67144/67144 [==============================] - 8s 115us/step - loss: 0.8895 - acc: 0.6592 - val_loss: 0.8830 - val_acc: 0.6656\n",
      "Epoch 11/50\n",
      "67144/67144 [==============================] - 8s 123us/step - loss: 0.8861 - acc: 0.6609 - val_loss: 0.8817 - val_acc: 0.6668\n",
      "Epoch 12/50\n",
      "67144/67144 [==============================] - 8s 112us/step - loss: 0.8805 - acc: 0.6625 - val_loss: 0.8794 - val_acc: 0.6662\n",
      "Epoch 13/50\n",
      "67144/67144 [==============================] - 7s 110us/step - loss: 0.8781 - acc: 0.6629 - val_loss: 0.8763 - val_acc: 0.6666\n",
      "Epoch 14/50\n",
      "67144/67144 [==============================] - 7s 110us/step - loss: 0.8728 - acc: 0.6650 - val_loss: 0.8746 - val_acc: 0.6669\n",
      "Epoch 15/50\n",
      "67144/67144 [==============================] - 7s 108us/step - loss: 0.8692 - acc: 0.6653 - val_loss: 0.8741 - val_acc: 0.6677\n",
      "Epoch 16/50\n",
      "67144/67144 [==============================] - 7s 110us/step - loss: 0.8655 - acc: 0.6648 - val_loss: 0.8713 - val_acc: 0.6658\n",
      "Epoch 17/50\n",
      "67144/67144 [==============================] - 7s 109us/step - loss: 0.8618 - acc: 0.6687 - val_loss: 0.8706 - val_acc: 0.6677\n",
      "Epoch 18/50\n",
      "67144/67144 [==============================] - 7s 111us/step - loss: 0.8597 - acc: 0.6679 - val_loss: 0.8695 - val_acc: 0.6677\n",
      "Epoch 19/50\n",
      "67144/67144 [==============================] - 7s 106us/step - loss: 0.8573 - acc: 0.6695 - val_loss: 0.8689 - val_acc: 0.6683\n",
      "Epoch 20/50\n",
      "67144/67144 [==============================] - 7s 106us/step - loss: 0.8549 - acc: 0.6699 - val_loss: 0.8666 - val_acc: 0.6685\n",
      "Epoch 21/50\n",
      "67144/67144 [==============================] - 7s 109us/step - loss: 0.8523 - acc: 0.6697 - val_loss: 0.8662 - val_acc: 0.6684\n",
      "Epoch 22/50\n",
      "67144/67144 [==============================] - 7s 111us/step - loss: 0.8511 - acc: 0.6706 - val_loss: 0.8662 - val_acc: 0.6691\n",
      "Epoch 23/50\n",
      "67144/67144 [==============================] - 7s 108us/step - loss: 0.8466 - acc: 0.6722 - val_loss: 0.8660 - val_acc: 0.6678\n",
      "Epoch 24/50\n",
      "67144/67144 [==============================] - 7s 108us/step - loss: 0.8470 - acc: 0.6719 - val_loss: 0.8657 - val_acc: 0.6694\n",
      "Epoch 25/50\n",
      "67144/67144 [==============================] - 7s 108us/step - loss: 0.8429 - acc: 0.6739 - val_loss: 0.8665 - val_acc: 0.6663\n",
      "Epoch 26/50\n",
      "67144/67144 [==============================] - 7s 109us/step - loss: 0.8419 - acc: 0.6745 - val_loss: 0.8642 - val_acc: 0.6687\n",
      "Epoch 27/50\n",
      "67144/67144 [==============================] - 8s 113us/step - loss: 0.8387 - acc: 0.6753 - val_loss: 0.8647 - val_acc: 0.6697\n",
      "Epoch 28/50\n",
      "67144/67144 [==============================] - 7s 108us/step - loss: 0.8377 - acc: 0.6767 - val_loss: 0.8628 - val_acc: 0.6692\n",
      "Epoch 29/50\n",
      "67144/67144 [==============================] - 7s 108us/step - loss: 0.8340 - acc: 0.6763 - val_loss: 0.8634 - val_acc: 0.6693\n",
      "Epoch 30/50\n",
      "67144/67144 [==============================] - 7s 110us/step - loss: 0.8362 - acc: 0.6751 - val_loss: 0.8641 - val_acc: 0.6709\n",
      "Epoch 00030: early stopping\n"
     ]
    }
   ],
   "source": [
    "early_stop = EarlyStopping(monitor='val_loss', patience=2, verbose=1)\n",
    "network_history = model.fit(x_train, y_train,\n",
    "                      batch_size=128,\n",
    "                      epochs=50,\n",
    "                      verbose=1,\n",
    "                      validation_split=0.2,\n",
    "                      callbacks=[early_stop])"
   ]
  },
  {
   "cell_type": "code",
   "execution_count": 12,
   "metadata": {},
   "outputs": [
    {
     "name": "stdout",
     "output_type": "stream",
     "text": [
      "27978/27978 [==============================] - 2s 70us/step\n",
      "Accuracy: 66.89%\n"
     ]
    }
   ],
   "source": [
    "scores = model.evaluate(x_test, y_test, verbose=1)\n",
    "print(\"Accuracy: %.2f%%\" % (scores[1]*100))\n"
   ]
  },
  {
   "cell_type": "code",
   "execution_count": 13,
   "metadata": {},
   "outputs": [
    {
     "data": {
      "image/png": "[encoded data removed]",
      "text/plain": [
       "<Figure size 432x288 with 1 Axes>"
      ]
     },
     "metadata": {
      "needs_background": "light"
     },
     "output_type": "display_data"
    },
    {
     "data": {
      "image/png": "[encoded data removed]",
      "text/plain": [
       "<Figure size 432x288 with 1 Axes>"
      ]
     },
     "metadata": {
      "needs_background": "light"
     },
     "output_type": "display_data"
    }
   ],
   "source": [
    "import matplotlib.pyplot as plt\n",
    "%matplotlib inline\n",
    "\n",
    "def plot_history(network_history):\n",
    "    plt.figure()\n",
    "    plt.xlabel('Epochs')\n",
    "    plt.ylabel('Loss')\n",
    "    plt.plot(network_history.history['loss'])\n",
    "    plt.plot(network_history.history['val_loss'])\n",
    "    plt.legend(['Training', 'Validation'])\n",
    "\n",
    "    plt.figure()\n",
    "    plt.xlabel('Epochs')\n",
    "    plt.ylabel('Accuracy')\n",
    "    plt.plot(network_history.history['acc'])\n",
    "    plt.plot(network_history.history['val_acc'])\n",
    "    plt.legend(['Training', 'Validation'], loc='lower right')\n",
    "    plt.show()\n",
    "\n",
    "plot_history(network_history)"
   ]
  },
  {
   "cell_type": "code",
   "execution_count": 14,
   "metadata": {},
   "outputs": [],
   "source": [
    "y_predict = model.predict(x_test)"
   ]
  },
  {
   "cell_type": "code",
   "execution_count": 15,
   "metadata": {},
   "outputs": [
    {
     "data": {
      "text/html": [
       "<div>\n",
       "<style scoped>\n",
       "    .dataframe tbody tr th:only-of-type {\n",
       "        vertical-align: middle;\n",
       "    }\n",
       "\n",
       "    .dataframe tbody tr th {\n",
       "        vertical-align: top;\n",
       "    }\n",
       "\n",
       "    .dataframe thead th {\n",
       "        text-align: right;\n",
       "    }\n",
       "</style>\n",
       "<table border=\"1\" class=\"dataframe\">\n",
       "  <thead>\n",
       "    <tr style=\"text-align: right;\">\n",
       "      <th></th>\n",
       "      <th>0</th>\n",
       "      <th>1</th>\n",
       "      <th>2</th>\n",
       "      <th>3</th>\n",
       "      <th>4</th>\n",
       "    </tr>\n",
       "  </thead>\n",
       "  <tbody>\n",
       "    <tr>\n",
       "      <th>0</th>\n",
       "      <td>0.000011</td>\n",
       "      <td>0.000030</td>\n",
       "      <td>0.000978</td>\n",
       "      <td>0.065868</td>\n",
       "      <td>0.933113</td>\n",
       "    </tr>\n",
       "    <tr>\n",
       "      <th>1</th>\n",
       "      <td>0.085632</td>\n",
       "      <td>0.029048</td>\n",
       "      <td>0.040042</td>\n",
       "      <td>0.109053</td>\n",
       "      <td>0.736224</td>\n",
       "    </tr>\n",
       "    <tr>\n",
       "      <th>2</th>\n",
       "      <td>0.007465</td>\n",
       "      <td>0.001083</td>\n",
       "      <td>0.055249</td>\n",
       "      <td>0.435293</td>\n",
       "      <td>0.500910</td>\n",
       "    </tr>\n",
       "    <tr>\n",
       "      <th>3</th>\n",
       "      <td>0.001046</td>\n",
       "      <td>0.002048</td>\n",
       "      <td>0.013796</td>\n",
       "      <td>0.225183</td>\n",
       "      <td>0.757928</td>\n",
       "    </tr>\n",
       "    <tr>\n",
       "      <th>4</th>\n",
       "      <td>0.737277</td>\n",
       "      <td>0.137078</td>\n",
       "      <td>0.088306</td>\n",
       "      <td>0.018010</td>\n",
       "      <td>0.019329</td>\n",
       "    </tr>\n",
       "  </tbody>\n",
       "</table>\n",
       "</div>"
      ],
      "text/plain": [
       "          0         1         2         3         4\n",
       "0  0.000011  0.000030  0.000978  0.065868  0.933113\n",
       "1  0.085632  0.029048  0.040042  0.109053  0.736224\n",
       "2  0.007465  0.001083  0.055249  0.435293  0.500910\n",
       "3  0.001046  0.002048  0.013796  0.225183  0.757928\n",
       "4  0.737277  0.137078  0.088306  0.018010  0.019329"
      ]
     },
     "execution_count": 15,
     "metadata": {},
     "output_type": "execute_result"
    }
   ],
   "source": [
    "y_predict_df = pd.DataFrame(y_predict)\n",
    "y_predict_df.head()"
   ]
  },
  {
   "cell_type": "code",
   "execution_count": 16,
   "metadata": {},
   "outputs": [],
   "source": [
    "y_predict_unencoded = [row.idxmax() + 1 for index, row in y_predict_df.iterrows()]"
   ]
  },
  {
   "cell_type": "code",
   "execution_count": 17,
   "metadata": {},
   "outputs": [],
   "source": [
    "y_test_df = pd.DataFrame(y_test)\n",
    "y_test_unencoded = [row.idxmax() + 1 for index, row in y_test_df.iterrows()]"
   ]
  },
  {
   "cell_type": "code",
   "execution_count": 18,
   "metadata": {},
   "outputs": [
    {
     "data": {
      "text/plain": [
       "array([[ 3091,    74,   252,    90,   368],\n",
       "       [  905,    82,   365,   161,   374],\n",
       "       [  508,    57,   643,   546,   806],\n",
       "       [  243,    27,   334,  1072,  2961],\n",
       "       [  265,    20,   230,   677, 13827]])"
      ]
     },
     "execution_count": 18,
     "metadata": {},
     "output_type": "execute_result"
    }
   ],
   "source": [
    "confusion_matrix(y_test_unencoded, y_predict_unencoded)"
   ]
  },
  {
   "cell_type": "code",
   "execution_count": 19,
   "metadata": {},
   "outputs": [
    {
     "name": "stdout",
     "output_type": "stream",
     "text": [
      "              precision    recall  f1-score   support\n",
      "\n",
      "           1       0.62      0.80      0.70      3875\n",
      "           2       0.32      0.04      0.08      1887\n",
      "           3       0.35      0.25      0.29      2560\n",
      "           4       0.42      0.23      0.30      4637\n",
      "           5       0.75      0.92      0.83     15019\n",
      "\n",
      "    accuracy                           0.67     27978\n",
      "   macro avg       0.49      0.45      0.44     27978\n",
      "weighted avg       0.61      0.67      0.62     27978\n",
      "\n"
     ]
    }
   ],
   "source": [
    "print(classification_report(y_test_unencoded, y_predict_unencoded))"
   ]
  },
  {
   "cell_type": "markdown",
   "metadata": {},
   "source": [
    "# Save off various files"
   ]
  },
  {
   "cell_type": "code",
   "execution_count": 20,
   "metadata": {},
   "outputs": [],
   "source": [
    "model.save(MODEL_FILE)"
   ]
  },
  {
   "cell_type": "code",
   "execution_count": 21,
   "metadata": {},
   "outputs": [],
   "source": [
    "pickle.dump(network_history, open(NETWORK_HISTORY_FILE, \"wb\"))"
   ]
  },
  {
   "cell_type": "code",
   "execution_count": 22,
   "metadata": {},
   "outputs": [],
   "source": [
    "# saving off report in the same format as other report just in case we want to compare for later\n",
    "flattened = {}\n",
    "flattened = du.add_dict_to_dict(flattened, classification_report(y_test_unencoded, y_predict_unencoded, output_dict=True))\n",
    "flattened[\"confusion_matrix\"] = confusion_matrix(y_test_unencoded, y_predict_unencoded)\n",
    "flattened[\"description\"] = DESCRIPTION\n",
    "flattened[\"file\"] = DATA_FILE\n",
    "flattened[\"network_history_file\"] = NETWORK_HISTORY_FILE\n",
    "flattened[\"embedding\"] = \"word2vec5\"\n",
    "flattened[\"model_file\"] = MODEL_FILE\n",
    "flattened[\"model_name\"] = MODEL_NAME\n",
    "flattened[\"test_examples\"] = x_test.shape[0]\n",
    "flattened[\"test_features\"] = x_test.shape[1]\n",
    "flattened[\"train_examples\"] = x_train.shape[0]\n",
    "flattened[\"train_features\"] = x_train.shape[1]\n",
    "flattened[\"normalization\"] = \"batch\"\n",
    "flattened[\"status\"] = \"success\"\n",
    "flattened[\"status_date\"] = datetime.now().strftime(TIME_FORMAT)\n"
   ]
  },
  {
   "cell_type": "code",
   "execution_count": 23,
   "metadata": {},
   "outputs": [
    {
     "data": {
      "text/html": [
       "<div>\n",
       "<style scoped>\n",
       "    .dataframe tbody tr th:only-of-type {\n",
       "        vertical-align: middle;\n",
       "    }\n",
       "\n",
       "    .dataframe tbody tr th {\n",
       "        vertical-align: top;\n",
       "    }\n",
       "\n",
       "    .dataframe thead th {\n",
       "        text-align: right;\n",
       "    }\n",
       "</style>\n",
       "<table border=\"1\" class=\"dataframe\">\n",
       "  <thead>\n",
       "    <tr style=\"text-align: right;\">\n",
       "      <th></th>\n",
       "      <th>1_f1-score</th>\n",
       "      <th>1_precision</th>\n",
       "      <th>1_recall</th>\n",
       "      <th>1_support</th>\n",
       "      <th>2_f1-score</th>\n",
       "      <th>2_precision</th>\n",
       "      <th>2_recall</th>\n",
       "      <th>2_support</th>\n",
       "      <th>3_f1-score</th>\n",
       "      <th>3_precision</th>\n",
       "      <th>...</th>\n",
       "      <th>status_date</th>\n",
       "      <th>test_examples</th>\n",
       "      <th>test_features</th>\n",
       "      <th>tokenizer_file</th>\n",
       "      <th>train_examples</th>\n",
       "      <th>train_features</th>\n",
       "      <th>weighted avg_f1-score</th>\n",
       "      <th>weighted avg_precision</th>\n",
       "      <th>weighted avg_recall</th>\n",
       "      <th>weighted avg_support</th>\n",
       "    </tr>\n",
       "  </thead>\n",
       "  <tbody>\n",
       "    <tr>\n",
       "      <th>0</th>\n",
       "      <td>0.675135</td>\n",
       "      <td>0.609566</td>\n",
       "      <td>0.756511</td>\n",
       "      <td>1651</td>\n",
       "      <td>0.147748</td>\n",
       "      <td>0.273333</td>\n",
       "      <td>0.101235</td>\n",
       "      <td>810</td>\n",
       "      <td>0.238674</td>\n",
       "      <td>0.267658</td>\n",
       "      <td>...</td>\n",
       "      <td>6/23/19 4:04</td>\n",
       "      <td>12500</td>\n",
       "      <td>65</td>\n",
       "      <td>2019-06-23-amazon_reviews_us_Wireless_v1_00-pr...</td>\n",
       "      <td>37500</td>\n",
       "      <td>65</td>\n",
       "      <td>0.645316</td>\n",
       "      <td>0.632393</td>\n",
       "      <td>0.668640</td>\n",
       "      <td>12500</td>\n",
       "    </tr>\n",
       "    <tr>\n",
       "      <th>1</th>\n",
       "      <td>0.692583</td>\n",
       "      <td>0.657311</td>\n",
       "      <td>0.731855</td>\n",
       "      <td>3968</td>\n",
       "      <td>0.227756</td>\n",
       "      <td>0.263713</td>\n",
       "      <td>0.200428</td>\n",
       "      <td>1871</td>\n",
       "      <td>0.283292</td>\n",
       "      <td>0.325307</td>\n",
       "      <td>...</td>\n",
       "      <td>6/23/19 4:20</td>\n",
       "      <td>28011</td>\n",
       "      <td>84</td>\n",
       "      <td>2019-06-23-amazon_reviews_us_Wireless_v1_00-pr...</td>\n",
       "      <td>84032</td>\n",
       "      <td>84</td>\n",
       "      <td>0.624529</td>\n",
       "      <td>0.613148</td>\n",
       "      <td>0.656349</td>\n",
       "      <td>28011</td>\n",
       "    </tr>\n",
       "    <tr>\n",
       "      <th>2</th>\n",
       "      <td>0.684835</td>\n",
       "      <td>0.617518</td>\n",
       "      <td>0.768625</td>\n",
       "      <td>1651</td>\n",
       "      <td>0.126774</td>\n",
       "      <td>0.271255</td>\n",
       "      <td>0.082716</td>\n",
       "      <td>810</td>\n",
       "      <td>0.297452</td>\n",
       "      <td>0.310870</td>\n",
       "      <td>...</td>\n",
       "      <td>6/23/19 5:12</td>\n",
       "      <td>12500</td>\n",
       "      <td>64</td>\n",
       "      <td>2019-06-23-amazon_reviews_us_Wireless_v1_00-pr...</td>\n",
       "      <td>37500</td>\n",
       "      <td>64</td>\n",
       "      <td>0.646121</td>\n",
       "      <td>0.635054</td>\n",
       "      <td>0.686400</td>\n",
       "      <td>12500</td>\n",
       "    </tr>\n",
       "    <tr>\n",
       "      <th>3</th>\n",
       "      <td>0.696852</td>\n",
       "      <td>0.670550</td>\n",
       "      <td>0.725302</td>\n",
       "      <td>3968</td>\n",
       "      <td>0.195760</td>\n",
       "      <td>0.288843</td>\n",
       "      <td>0.148049</td>\n",
       "      <td>1871</td>\n",
       "      <td>0.304048</td>\n",
       "      <td>0.334122</td>\n",
       "      <td>...</td>\n",
       "      <td>6/23/19 5:20</td>\n",
       "      <td>28011</td>\n",
       "      <td>84</td>\n",
       "      <td>2019-06-23-amazon_reviews_us_Wireless_v1_00-pr...</td>\n",
       "      <td>84032</td>\n",
       "      <td>84</td>\n",
       "      <td>0.636563</td>\n",
       "      <td>0.623141</td>\n",
       "      <td>0.661097</td>\n",
       "      <td>28011</td>\n",
       "    </tr>\n",
       "    <tr>\n",
       "      <th>4</th>\n",
       "      <td>0.695561</td>\n",
       "      <td>0.643853</td>\n",
       "      <td>0.756300</td>\n",
       "      <td>3968</td>\n",
       "      <td>0.147661</td>\n",
       "      <td>0.266760</td>\n",
       "      <td>0.102084</td>\n",
       "      <td>1871</td>\n",
       "      <td>0.325938</td>\n",
       "      <td>0.332921</td>\n",
       "      <td>...</td>\n",
       "      <td>6/23/19 5:51</td>\n",
       "      <td>28011</td>\n",
       "      <td>186</td>\n",
       "      <td>2019-06-23-amazon_reviews_us_Wireless_v1_00-pr...</td>\n",
       "      <td>84032</td>\n",
       "      <td>186</td>\n",
       "      <td>0.631473</td>\n",
       "      <td>0.619707</td>\n",
       "      <td>0.663561</td>\n",
       "      <td>28011</td>\n",
       "    </tr>\n",
       "  </tbody>\n",
       "</table>\n",
       "<p>5 rows × 44 columns</p>\n",
       "</div>"
      ],
      "text/plain": [
       "   1_f1-score  1_precision  1_recall  1_support  2_f1-score  2_precision  \\\n",
       "0    0.675135     0.609566  0.756511       1651    0.147748     0.273333   \n",
       "1    0.692583     0.657311  0.731855       3968    0.227756     0.263713   \n",
       "2    0.684835     0.617518  0.768625       1651    0.126774     0.271255   \n",
       "3    0.696852     0.670550  0.725302       3968    0.195760     0.288843   \n",
       "4    0.695561     0.643853  0.756300       3968    0.147661     0.266760   \n",
       "\n",
       "   2_recall  2_support  3_f1-score  3_precision  ...   status_date  \\\n",
       "0  0.101235        810    0.238674     0.267658  ...  6/23/19 4:04   \n",
       "1  0.200428       1871    0.283292     0.325307  ...  6/23/19 4:20   \n",
       "2  0.082716        810    0.297452     0.310870  ...  6/23/19 5:12   \n",
       "3  0.148049       1871    0.304048     0.334122  ...  6/23/19 5:20   \n",
       "4  0.102084       1871    0.325938     0.332921  ...  6/23/19 5:51   \n",
       "\n",
       "   test_examples  test_features  \\\n",
       "0          12500             65   \n",
       "1          28011             84   \n",
       "2          12500             64   \n",
       "3          28011             84   \n",
       "4          28011            186   \n",
       "\n",
       "                                      tokenizer_file  train_examples  \\\n",
       "0  2019-06-23-amazon_reviews_us_Wireless_v1_00-pr...           37500   \n",
       "1  2019-06-23-amazon_reviews_us_Wireless_v1_00-pr...           84032   \n",
       "2  2019-06-23-amazon_reviews_us_Wireless_v1_00-pr...           37500   \n",
       "3  2019-06-23-amazon_reviews_us_Wireless_v1_00-pr...           84032   \n",
       "4  2019-06-23-amazon_reviews_us_Wireless_v1_00-pr...           84032   \n",
       "\n",
       "   train_features  weighted avg_f1-score  weighted avg_precision  \\\n",
       "0              65               0.645316                0.632393   \n",
       "1              84               0.624529                0.613148   \n",
       "2              64               0.646121                0.635054   \n",
       "3              84               0.636563                0.623141   \n",
       "4             186               0.631473                0.619707   \n",
       "\n",
       "   weighted avg_recall  weighted avg_support  \n",
       "0             0.668640                 12500  \n",
       "1             0.656349                 28011  \n",
       "2             0.686400                 12500  \n",
       "3             0.661097                 28011  \n",
       "4             0.663561                 28011  \n",
       "\n",
       "[5 rows x 44 columns]"
      ]
     },
     "execution_count": 23,
     "metadata": {},
     "output_type": "execute_result"
    }
   ],
   "source": [
    "# check to see if report file exisits, if so load it and append\n",
    "exists = os.path.isfile(REPORT_FILE)\n",
    "if exists:\n",
    "    report_df = pd.read_csv(REPORT_FILE)\n",
    "else:\n",
    "    report_df = pd.DataFrame()\n",
    "    \n",
    "report_df = report_df.append(flattened, ignore_index=True)\n",
    "report_df.head()\n",
    "\n"
   ]
  },
  {
   "cell_type": "code",
   "execution_count": 24,
   "metadata": {},
   "outputs": [],
   "source": [
    "report_df.to_csv(REPORT_FILE, index=False)"
   ]
  },
  {
   "cell_type": "code",
   "execution_count": null,
   "metadata": {},
   "outputs": [],
   "source": []
  }
 ],
 "metadata": {
  "hide_input": false,
  "kernelspec": {
   "display_name": "Python 3",
   "language": "python",
   "name": "python3"
  },
  "language_info": {
   "codemirror_mode": {
    "name": "ipython",
    "version": 3
   },
   "file_extension": ".py",
   "mimetype": "text/x-python",
   "name": "python",
   "nbconvert_exporter": "python",
   "pygments_lexer": "ipython3",
   "version": "3.7.3"
  }
 },
 "nbformat": 4,
 "nbformat_minor": 2
}
