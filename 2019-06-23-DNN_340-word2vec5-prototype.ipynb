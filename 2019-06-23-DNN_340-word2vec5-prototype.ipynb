{
  "nbformat": 4,
  "nbformat_minor": 0,
  "metadata": {
    "hide_input": false,
    "kernelspec": {
      "display_name": "Python 3",
      "language": "python",
      "name": "python3"
    },
    "language_info": {
      "codemirror_mode": {
        "name": "ipython",
        "version": 3
      },
      "file_extension": ".py",
      "mimetype": "text/x-python",
      "name": "python",
      "nbconvert_exporter": "python",
      "pygments_lexer": "ipython3",
      "version": "3.7.3"
    },
    "colab": {
      "name": "2019-06-23-DNN_340-word2vec5-prototype.ipynb",
      "version": "0.3.2",
      "provenance": [],
      "include_colab_link": true
    }
  },
  "cells": [
    {
      "cell_type": "markdown",
      "metadata": {
        "id": "view-in-github",
        "colab_type": "text"
      },
      "source": [
        "<a href=\"https://colab.research.google.com/github/sv650s/sb-capstone/blob/master/2019-06-23-DNN_340-word2vec5-prototype.ipynb\" target=\"_parent\"><img src=\"https://colab.research.google.com/assets/colab-badge.svg\" alt=\"Open In Colab\"/></a>"
      ]
    },
    {
      "cell_type": "markdown",
      "metadata": {
        "id": "5rz_1x33qRgm",
        "colab_type": "text"
      },
      "source": [
        "# DNN with 1 layer NN with 340 neurons Prototype\n",
        "\n",
        "Exprimenting with 1 layer NN with 340 neruons. Came up with this number since we want to keep number of neurons to be around 2/3 of input features"
      ]
    },
    {
      "cell_type": "code",
      "metadata": {
        "id": "zV9oHkqwq3Tg",
        "colab_type": "code",
        "outputId": "df4e09d0-6b1b-4dbd-be43-d78fee4855d5",
        "colab": {
          "base_uri": "https://localhost:8080/",
          "height": 34
        }
      },
      "source": [
        "from google.colab import drive\n",
        "import sys\n",
        "drive.mount('/content/drive')\n",
        "# add this to sys patch so we can import utility functions\n",
        "DRIVE_DIR = \"drive/My Drive/Springboard/capstone\"\n",
        "sys.path.append(DRIVE_DIR)\n"
      ],
      "execution_count": 26,
      "outputs": [
        {
          "output_type": "stream",
          "text": [
            "Drive already mounted at /content/drive; to attempt to forcibly remount, call drive.mount(\"/content/drive\", force_remount=True).\n"
          ],
          "name": "stdout"
        }
      ]
    },
    {
      "cell_type": "code",
      "metadata": {
        "id": "nRJxK9lGqRgo",
        "colab_type": "code",
        "colab": {}
      },
      "source": [
        "from keras.models import Sequential\n",
        "from keras.layers import Dense, Activation, Dropout\n",
        "from keras.layers.normalization import BatchNormalization\n",
        "from keras.callbacks import EarlyStopping\n",
        "from keras.models import load_model\n",
        "from sklearn.model_selection import train_test_split\n",
        "from keras.optimizers import SGD\n",
        "from sklearn.preprocessing import OneHotEncoder\n",
        "import pandas as pd\n",
        "from IPython.display import SVG\n",
        "from keras.utils.vis_utils import model_to_dot\n",
        "from util import dict_util as du\n",
        "from util import file_util as fu\n",
        "from util import plot_util as pu\n",
        "import pickle\n",
        "from datetime import datetime\n",
        "from sklearn.metrics import confusion_matrix, classification_report\n",
        "import os\n",
        "import matplotlib.pyplot as plt\n",
        "import seaborn as sns\n",
        "\n",
        "\n",
        "import util.file_util as fu\n",
        "import util.keras_util as ku\n",
        "import util.plot_util as pu\n",
        "import util.dict_util as du\n",
        "\n",
        "\n",
        "%matplotlib inline\n",
        "sns.set()\n",
        "\n",
        "\n",
        "import logging\n",
        "logging.basicConfig(level=logging.INFO)\n"
      ],
      "execution_count": 0,
      "outputs": []
    },
    {
      "cell_type": "code",
      "metadata": {
        "id": "JOAe73v0qRgt",
        "colab_type": "code",
        "colab": {}
      },
      "source": [
        "DATE_FORMAT = '%Y-%m-%d'\n",
        "TIME_FORMAT = '%Y-%m-%d %H:%M:%S'\n",
        "DATA_FILE = \"review_body-word2vec5-111909-512-nolda.csv\"\n",
        "MODEL_NAME = \"DNN_340\"\n",
        "LABEL_COLUMN = \"star_rating\""
      ],
      "execution_count": 0,
      "outputs": []
    },
    {
      "cell_type": "code",
      "metadata": {
        "hide_input": false,
        "id": "GV71itojqRgv",
        "colab_type": "code",
        "colab": {}
      },
      "source": [
        "df = pd.read_csv(f\"{DRIVE_DIR}/data/{DATA_FILE}\")\n",
        "rating = df[LABEL_COLUMN]\n",
        "df = df.drop(columns=[\"helpful_votes\", \"total_votes\", \"helpful_product\", \"star_rating\"])"
      ],
      "execution_count": 0,
      "outputs": []
    },
    {
      "cell_type": "code",
      "metadata": {
        "id": "Be3cDIl3qRgx",
        "colab_type": "code",
        "outputId": "0806d074-8c58-406f-97d8-358ecf98b393",
        "colab": {
          "base_uri": "https://localhost:8080/",
          "height": 253
        }
      },
      "source": [
        "df.head()"
      ],
      "execution_count": 30,
      "outputs": [
        {
          "output_type": "execute_result",
          "data": {
            "text/html": [
              "<div>\n",
              "<style scoped>\n",
              "    .dataframe tbody tr th:only-of-type {\n",
              "        vertical-align: middle;\n",
              "    }\n",
              "\n",
              "    .dataframe tbody tr th {\n",
              "        vertical-align: top;\n",
              "    }\n",
              "\n",
              "    .dataframe thead th {\n",
              "        text-align: right;\n",
              "    }\n",
              "</style>\n",
              "<table border=\"1\" class=\"dataframe\">\n",
              "  <thead>\n",
              "    <tr style=\"text-align: right;\">\n",
              "      <th></th>\n",
              "      <th>0</th>\n",
              "      <th>1</th>\n",
              "      <th>2</th>\n",
              "      <th>3</th>\n",
              "      <th>4</th>\n",
              "      <th>5</th>\n",
              "      <th>6</th>\n",
              "      <th>7</th>\n",
              "      <th>8</th>\n",
              "      <th>9</th>\n",
              "      <th>10</th>\n",
              "      <th>11</th>\n",
              "      <th>12</th>\n",
              "      <th>13</th>\n",
              "      <th>14</th>\n",
              "      <th>15</th>\n",
              "      <th>16</th>\n",
              "      <th>17</th>\n",
              "      <th>18</th>\n",
              "      <th>19</th>\n",
              "      <th>20</th>\n",
              "      <th>21</th>\n",
              "      <th>22</th>\n",
              "      <th>23</th>\n",
              "      <th>24</th>\n",
              "      <th>25</th>\n",
              "      <th>26</th>\n",
              "      <th>27</th>\n",
              "      <th>28</th>\n",
              "      <th>29</th>\n",
              "      <th>30</th>\n",
              "      <th>31</th>\n",
              "      <th>32</th>\n",
              "      <th>33</th>\n",
              "      <th>34</th>\n",
              "      <th>35</th>\n",
              "      <th>36</th>\n",
              "      <th>37</th>\n",
              "      <th>38</th>\n",
              "      <th>39</th>\n",
              "      <th>...</th>\n",
              "      <th>472</th>\n",
              "      <th>473</th>\n",
              "      <th>474</th>\n",
              "      <th>475</th>\n",
              "      <th>476</th>\n",
              "      <th>477</th>\n",
              "      <th>478</th>\n",
              "      <th>479</th>\n",
              "      <th>480</th>\n",
              "      <th>481</th>\n",
              "      <th>482</th>\n",
              "      <th>483</th>\n",
              "      <th>484</th>\n",
              "      <th>485</th>\n",
              "      <th>486</th>\n",
              "      <th>487</th>\n",
              "      <th>488</th>\n",
              "      <th>489</th>\n",
              "      <th>490</th>\n",
              "      <th>491</th>\n",
              "      <th>492</th>\n",
              "      <th>493</th>\n",
              "      <th>494</th>\n",
              "      <th>495</th>\n",
              "      <th>496</th>\n",
              "      <th>497</th>\n",
              "      <th>498</th>\n",
              "      <th>499</th>\n",
              "      <th>500</th>\n",
              "      <th>501</th>\n",
              "      <th>502</th>\n",
              "      <th>503</th>\n",
              "      <th>504</th>\n",
              "      <th>505</th>\n",
              "      <th>506</th>\n",
              "      <th>507</th>\n",
              "      <th>508</th>\n",
              "      <th>509</th>\n",
              "      <th>510</th>\n",
              "      <th>511</th>\n",
              "    </tr>\n",
              "  </thead>\n",
              "  <tbody>\n",
              "    <tr>\n",
              "      <th>0</th>\n",
              "      <td>-0.288502</td>\n",
              "      <td>-0.481055</td>\n",
              "      <td>0.258424</td>\n",
              "      <td>0.362731</td>\n",
              "      <td>0.475364</td>\n",
              "      <td>0.421039</td>\n",
              "      <td>0.014504</td>\n",
              "      <td>0.213545</td>\n",
              "      <td>-0.390066</td>\n",
              "      <td>0.103808</td>\n",
              "      <td>0.092057</td>\n",
              "      <td>-0.045284</td>\n",
              "      <td>0.178335</td>\n",
              "      <td>0.163173</td>\n",
              "      <td>-0.825025</td>\n",
              "      <td>-0.117711</td>\n",
              "      <td>0.193103</td>\n",
              "      <td>-0.039416</td>\n",
              "      <td>0.232813</td>\n",
              "      <td>-0.626957</td>\n",
              "      <td>0.255899</td>\n",
              "      <td>-0.086203</td>\n",
              "      <td>-0.112010</td>\n",
              "      <td>-0.049405</td>\n",
              "      <td>-0.168732</td>\n",
              "      <td>-0.066539</td>\n",
              "      <td>-0.313819</td>\n",
              "      <td>-0.177017</td>\n",
              "      <td>0.028803</td>\n",
              "      <td>-0.097103</td>\n",
              "      <td>0.623241</td>\n",
              "      <td>0.014126</td>\n",
              "      <td>0.023108</td>\n",
              "      <td>0.058664</td>\n",
              "      <td>-0.216553</td>\n",
              "      <td>0.400928</td>\n",
              "      <td>0.303050</td>\n",
              "      <td>-0.222227</td>\n",
              "      <td>-0.287176</td>\n",
              "      <td>0.037768</td>\n",
              "      <td>...</td>\n",
              "      <td>0.329862</td>\n",
              "      <td>0.034904</td>\n",
              "      <td>-0.214976</td>\n",
              "      <td>0.167887</td>\n",
              "      <td>-0.085614</td>\n",
              "      <td>-0.093523</td>\n",
              "      <td>-0.529687</td>\n",
              "      <td>0.326094</td>\n",
              "      <td>0.163124</td>\n",
              "      <td>-0.068303</td>\n",
              "      <td>-0.531376</td>\n",
              "      <td>-0.006876</td>\n",
              "      <td>-0.179367</td>\n",
              "      <td>0.017102</td>\n",
              "      <td>0.018383</td>\n",
              "      <td>-0.121967</td>\n",
              "      <td>0.012128</td>\n",
              "      <td>-0.409407</td>\n",
              "      <td>-0.597547</td>\n",
              "      <td>-0.159906</td>\n",
              "      <td>-0.358888</td>\n",
              "      <td>-0.042565</td>\n",
              "      <td>0.285005</td>\n",
              "      <td>0.432336</td>\n",
              "      <td>-0.005819</td>\n",
              "      <td>-0.093201</td>\n",
              "      <td>0.208513</td>\n",
              "      <td>-0.279186</td>\n",
              "      <td>-0.242795</td>\n",
              "      <td>0.565175</td>\n",
              "      <td>0.193389</td>\n",
              "      <td>-0.345230</td>\n",
              "      <td>-0.041291</td>\n",
              "      <td>0.063343</td>\n",
              "      <td>-0.230869</td>\n",
              "      <td>-0.018990</td>\n",
              "      <td>-0.462915</td>\n",
              "      <td>-0.762691</td>\n",
              "      <td>0.271782</td>\n",
              "      <td>-0.653218</td>\n",
              "    </tr>\n",
              "    <tr>\n",
              "      <th>1</th>\n",
              "      <td>0.173821</td>\n",
              "      <td>-0.214929</td>\n",
              "      <td>-0.098004</td>\n",
              "      <td>0.432866</td>\n",
              "      <td>0.370673</td>\n",
              "      <td>0.000804</td>\n",
              "      <td>-0.735449</td>\n",
              "      <td>0.162931</td>\n",
              "      <td>0.113988</td>\n",
              "      <td>0.468011</td>\n",
              "      <td>0.091182</td>\n",
              "      <td>-0.015925</td>\n",
              "      <td>-0.367213</td>\n",
              "      <td>-0.148326</td>\n",
              "      <td>-0.570235</td>\n",
              "      <td>0.235001</td>\n",
              "      <td>0.474639</td>\n",
              "      <td>0.056680</td>\n",
              "      <td>0.336305</td>\n",
              "      <td>-0.118116</td>\n",
              "      <td>0.086382</td>\n",
              "      <td>-0.023839</td>\n",
              "      <td>0.352665</td>\n",
              "      <td>0.201555</td>\n",
              "      <td>-0.232855</td>\n",
              "      <td>0.139960</td>\n",
              "      <td>-0.107633</td>\n",
              "      <td>-0.274393</td>\n",
              "      <td>-0.098784</td>\n",
              "      <td>0.033530</td>\n",
              "      <td>0.202761</td>\n",
              "      <td>-0.214515</td>\n",
              "      <td>-0.363571</td>\n",
              "      <td>0.180008</td>\n",
              "      <td>0.160661</td>\n",
              "      <td>0.698344</td>\n",
              "      <td>0.403793</td>\n",
              "      <td>-0.036676</td>\n",
              "      <td>-0.124082</td>\n",
              "      <td>-0.088976</td>\n",
              "      <td>...</td>\n",
              "      <td>0.558337</td>\n",
              "      <td>-0.285610</td>\n",
              "      <td>-0.147095</td>\n",
              "      <td>0.117567</td>\n",
              "      <td>0.064415</td>\n",
              "      <td>-0.074428</td>\n",
              "      <td>0.022359</td>\n",
              "      <td>0.361806</td>\n",
              "      <td>0.115827</td>\n",
              "      <td>-0.102381</td>\n",
              "      <td>-0.170256</td>\n",
              "      <td>0.033135</td>\n",
              "      <td>0.093055</td>\n",
              "      <td>0.162718</td>\n",
              "      <td>-0.243858</td>\n",
              "      <td>0.281852</td>\n",
              "      <td>0.290611</td>\n",
              "      <td>-0.160803</td>\n",
              "      <td>-0.242895</td>\n",
              "      <td>0.113361</td>\n",
              "      <td>-0.758359</td>\n",
              "      <td>0.122067</td>\n",
              "      <td>0.039228</td>\n",
              "      <td>0.199917</td>\n",
              "      <td>-0.438904</td>\n",
              "      <td>-0.207233</td>\n",
              "      <td>-0.046206</td>\n",
              "      <td>-0.307828</td>\n",
              "      <td>-0.336320</td>\n",
              "      <td>0.378690</td>\n",
              "      <td>0.133606</td>\n",
              "      <td>-0.374622</td>\n",
              "      <td>-0.360892</td>\n",
              "      <td>-0.394297</td>\n",
              "      <td>-0.168498</td>\n",
              "      <td>-0.262506</td>\n",
              "      <td>-0.958892</td>\n",
              "      <td>0.099089</td>\n",
              "      <td>0.487517</td>\n",
              "      <td>-0.307144</td>\n",
              "    </tr>\n",
              "    <tr>\n",
              "      <th>2</th>\n",
              "      <td>-0.257559</td>\n",
              "      <td>-0.065606</td>\n",
              "      <td>0.344815</td>\n",
              "      <td>0.411276</td>\n",
              "      <td>0.090839</td>\n",
              "      <td>0.738248</td>\n",
              "      <td>0.282006</td>\n",
              "      <td>0.331116</td>\n",
              "      <td>-0.213441</td>\n",
              "      <td>0.092032</td>\n",
              "      <td>-0.173409</td>\n",
              "      <td>-0.434767</td>\n",
              "      <td>0.065186</td>\n",
              "      <td>0.196101</td>\n",
              "      <td>-0.671928</td>\n",
              "      <td>-0.195213</td>\n",
              "      <td>0.074474</td>\n",
              "      <td>0.323334</td>\n",
              "      <td>0.292436</td>\n",
              "      <td>0.468960</td>\n",
              "      <td>-0.193369</td>\n",
              "      <td>0.157990</td>\n",
              "      <td>-0.180058</td>\n",
              "      <td>0.095284</td>\n",
              "      <td>-0.294818</td>\n",
              "      <td>-0.140939</td>\n",
              "      <td>-0.202958</td>\n",
              "      <td>-0.144758</td>\n",
              "      <td>-0.270722</td>\n",
              "      <td>0.155839</td>\n",
              "      <td>0.314211</td>\n",
              "      <td>-0.097944</td>\n",
              "      <td>0.396810</td>\n",
              "      <td>0.310496</td>\n",
              "      <td>-0.448204</td>\n",
              "      <td>0.575355</td>\n",
              "      <td>0.241816</td>\n",
              "      <td>-0.428021</td>\n",
              "      <td>-0.066452</td>\n",
              "      <td>0.207896</td>\n",
              "      <td>...</td>\n",
              "      <td>-0.253060</td>\n",
              "      <td>-0.023285</td>\n",
              "      <td>0.387593</td>\n",
              "      <td>-0.257498</td>\n",
              "      <td>-0.219196</td>\n",
              "      <td>0.463819</td>\n",
              "      <td>-0.047877</td>\n",
              "      <td>-0.002297</td>\n",
              "      <td>-0.023295</td>\n",
              "      <td>0.096966</td>\n",
              "      <td>0.185142</td>\n",
              "      <td>-0.053014</td>\n",
              "      <td>0.580751</td>\n",
              "      <td>0.230906</td>\n",
              "      <td>-0.090283</td>\n",
              "      <td>-0.549747</td>\n",
              "      <td>0.448878</td>\n",
              "      <td>-0.358442</td>\n",
              "      <td>-0.267432</td>\n",
              "      <td>0.062992</td>\n",
              "      <td>-0.650513</td>\n",
              "      <td>0.471424</td>\n",
              "      <td>-0.207576</td>\n",
              "      <td>0.421068</td>\n",
              "      <td>-0.340663</td>\n",
              "      <td>-0.287685</td>\n",
              "      <td>0.239766</td>\n",
              "      <td>-0.012972</td>\n",
              "      <td>-0.408097</td>\n",
              "      <td>0.380892</td>\n",
              "      <td>0.273857</td>\n",
              "      <td>-0.094201</td>\n",
              "      <td>0.245259</td>\n",
              "      <td>0.438028</td>\n",
              "      <td>-0.413395</td>\n",
              "      <td>0.425271</td>\n",
              "      <td>-0.417884</td>\n",
              "      <td>-0.886485</td>\n",
              "      <td>0.458968</td>\n",
              "      <td>-0.380352</td>\n",
              "    </tr>\n",
              "    <tr>\n",
              "      <th>3</th>\n",
              "      <td>-0.023537</td>\n",
              "      <td>0.186004</td>\n",
              "      <td>-0.018319</td>\n",
              "      <td>0.046002</td>\n",
              "      <td>0.285380</td>\n",
              "      <td>0.824158</td>\n",
              "      <td>0.240865</td>\n",
              "      <td>0.177934</td>\n",
              "      <td>-0.293685</td>\n",
              "      <td>0.369762</td>\n",
              "      <td>-0.286876</td>\n",
              "      <td>-0.115853</td>\n",
              "      <td>0.074393</td>\n",
              "      <td>-0.267145</td>\n",
              "      <td>-0.400384</td>\n",
              "      <td>0.067620</td>\n",
              "      <td>0.081379</td>\n",
              "      <td>0.260510</td>\n",
              "      <td>-0.002243</td>\n",
              "      <td>0.159411</td>\n",
              "      <td>0.212635</td>\n",
              "      <td>-0.261783</td>\n",
              "      <td>0.071453</td>\n",
              "      <td>-0.525530</td>\n",
              "      <td>0.149235</td>\n",
              "      <td>-0.563100</td>\n",
              "      <td>-0.378368</td>\n",
              "      <td>-0.396288</td>\n",
              "      <td>-0.265716</td>\n",
              "      <td>-0.028256</td>\n",
              "      <td>0.035099</td>\n",
              "      <td>-0.282228</td>\n",
              "      <td>0.121753</td>\n",
              "      <td>-0.244408</td>\n",
              "      <td>-0.323249</td>\n",
              "      <td>0.133777</td>\n",
              "      <td>0.099915</td>\n",
              "      <td>-0.073891</td>\n",
              "      <td>0.044732</td>\n",
              "      <td>0.229217</td>\n",
              "      <td>...</td>\n",
              "      <td>-0.164505</td>\n",
              "      <td>-0.436309</td>\n",
              "      <td>-0.089114</td>\n",
              "      <td>-0.515013</td>\n",
              "      <td>-0.356831</td>\n",
              "      <td>0.644965</td>\n",
              "      <td>0.151415</td>\n",
              "      <td>-0.040290</td>\n",
              "      <td>0.202163</td>\n",
              "      <td>0.065799</td>\n",
              "      <td>-0.013578</td>\n",
              "      <td>0.264860</td>\n",
              "      <td>0.562417</td>\n",
              "      <td>-0.322598</td>\n",
              "      <td>0.117282</td>\n",
              "      <td>-0.137634</td>\n",
              "      <td>0.454603</td>\n",
              "      <td>0.114935</td>\n",
              "      <td>-0.076333</td>\n",
              "      <td>0.362280</td>\n",
              "      <td>-0.349352</td>\n",
              "      <td>0.368029</td>\n",
              "      <td>0.062586</td>\n",
              "      <td>0.346775</td>\n",
              "      <td>-0.227782</td>\n",
              "      <td>-0.668857</td>\n",
              "      <td>0.477370</td>\n",
              "      <td>-0.349774</td>\n",
              "      <td>-0.566387</td>\n",
              "      <td>0.270867</td>\n",
              "      <td>0.076834</td>\n",
              "      <td>0.171872</td>\n",
              "      <td>0.258420</td>\n",
              "      <td>0.169574</td>\n",
              "      <td>-0.280809</td>\n",
              "      <td>0.322120</td>\n",
              "      <td>-0.102916</td>\n",
              "      <td>-0.606135</td>\n",
              "      <td>0.186568</td>\n",
              "      <td>-0.477317</td>\n",
              "    </tr>\n",
              "    <tr>\n",
              "      <th>4</th>\n",
              "      <td>-0.832218</td>\n",
              "      <td>0.451893</td>\n",
              "      <td>0.474038</td>\n",
              "      <td>-0.018249</td>\n",
              "      <td>-0.478648</td>\n",
              "      <td>0.178108</td>\n",
              "      <td>-0.472869</td>\n",
              "      <td>-0.532138</td>\n",
              "      <td>-0.491469</td>\n",
              "      <td>-0.466011</td>\n",
              "      <td>0.395096</td>\n",
              "      <td>-0.386877</td>\n",
              "      <td>-0.798011</td>\n",
              "      <td>-0.271923</td>\n",
              "      <td>-0.168703</td>\n",
              "      <td>0.567564</td>\n",
              "      <td>0.918460</td>\n",
              "      <td>-0.283334</td>\n",
              "      <td>0.052681</td>\n",
              "      <td>0.335400</td>\n",
              "      <td>0.102989</td>\n",
              "      <td>-0.569144</td>\n",
              "      <td>-0.027434</td>\n",
              "      <td>-0.390786</td>\n",
              "      <td>-0.411513</td>\n",
              "      <td>-0.004615</td>\n",
              "      <td>0.059425</td>\n",
              "      <td>0.129107</td>\n",
              "      <td>0.058133</td>\n",
              "      <td>0.178414</td>\n",
              "      <td>-0.222867</td>\n",
              "      <td>0.336164</td>\n",
              "      <td>0.079755</td>\n",
              "      <td>0.220411</td>\n",
              "      <td>0.184255</td>\n",
              "      <td>0.723972</td>\n",
              "      <td>0.306105</td>\n",
              "      <td>0.653465</td>\n",
              "      <td>-0.934595</td>\n",
              "      <td>-0.013150</td>\n",
              "      <td>...</td>\n",
              "      <td>0.484666</td>\n",
              "      <td>-0.181744</td>\n",
              "      <td>0.296147</td>\n",
              "      <td>0.775699</td>\n",
              "      <td>0.239380</td>\n",
              "      <td>-0.016156</td>\n",
              "      <td>0.329073</td>\n",
              "      <td>-0.023605</td>\n",
              "      <td>-0.197673</td>\n",
              "      <td>-1.308118</td>\n",
              "      <td>0.593427</td>\n",
              "      <td>0.109318</td>\n",
              "      <td>-0.387851</td>\n",
              "      <td>0.090579</td>\n",
              "      <td>-0.265281</td>\n",
              "      <td>-0.083823</td>\n",
              "      <td>0.498955</td>\n",
              "      <td>-0.115021</td>\n",
              "      <td>0.705434</td>\n",
              "      <td>0.536024</td>\n",
              "      <td>0.319468</td>\n",
              "      <td>0.083369</td>\n",
              "      <td>-0.067807</td>\n",
              "      <td>-0.206901</td>\n",
              "      <td>0.215812</td>\n",
              "      <td>0.166634</td>\n",
              "      <td>0.071825</td>\n",
              "      <td>0.669192</td>\n",
              "      <td>0.043907</td>\n",
              "      <td>0.346249</td>\n",
              "      <td>0.594541</td>\n",
              "      <td>-0.302686</td>\n",
              "      <td>-0.511276</td>\n",
              "      <td>-0.590193</td>\n",
              "      <td>0.299716</td>\n",
              "      <td>-0.181081</td>\n",
              "      <td>-0.436865</td>\n",
              "      <td>0.996631</td>\n",
              "      <td>0.330113</td>\n",
              "      <td>-0.327735</td>\n",
              "    </tr>\n",
              "  </tbody>\n",
              "</table>\n",
              "<p>5 rows × 512 columns</p>\n",
              "</div>"
            ],
            "text/plain": [
              "          0         1         2  ...       509       510       511\n",
              "0 -0.288502 -0.481055  0.258424  ... -0.762691  0.271782 -0.653218\n",
              "1  0.173821 -0.214929 -0.098004  ...  0.099089  0.487517 -0.307144\n",
              "2 -0.257559 -0.065606  0.344815  ... -0.886485  0.458968 -0.380352\n",
              "3 -0.023537  0.186004 -0.018319  ... -0.606135  0.186568 -0.477317\n",
              "4 -0.832218  0.451893  0.474038  ...  0.996631  0.330113 -0.327735\n",
              "\n",
              "[5 rows x 512 columns]"
            ]
          },
          "metadata": {
            "tags": []
          },
          "execution_count": 30
        }
      ]
    },
    {
      "cell_type": "code",
      "metadata": {
        "id": "O6rz6-lXqRg0",
        "colab_type": "code",
        "outputId": "d4f2ec23-4f87-427c-c831-2c66d32a338a",
        "colab": {
          "base_uri": "https://localhost:8080/",
          "height": 119
        }
      },
      "source": [
        "rating.head()"
      ],
      "execution_count": 31,
      "outputs": [
        {
          "output_type": "execute_result",
          "data": {
            "text/plain": [
              "0    5\n",
              "1    5\n",
              "2    5\n",
              "3    5\n",
              "4    3\n",
              "Name: star_rating, dtype: int64"
            ]
          },
          "metadata": {
            "tags": []
          },
          "execution_count": 31
        }
      ]
    },
    {
      "cell_type": "markdown",
      "metadata": {
        "id": "VKTpfiPbUubf",
        "colab_type": "text"
      },
      "source": [
        "# Create our Model"
      ]
    },
    {
      "cell_type": "code",
      "metadata": {
        "id": "QoD2qw6eqRg3",
        "colab_type": "code",
        "colab": {}
      },
      "source": [
        "model = Sequential()\n",
        "\n",
        "model.add(Dense(340, input_shape=(df.shape[1],), kernel_initializer='glorot_uniform'))\n",
        "model.add(BatchNormalization())\n",
        "model.add(Activation('relu'))\n",
        "model.add(Dropout(0.2))\n",
        "\n",
        "model.add(Dense(5, activation='softmax'))\n",
        "model.compile(optimizer=SGD(), loss='categorical_crossentropy', metrics=['accuracy'])"
      ],
      "execution_count": 0,
      "outputs": []
    },
    {
      "cell_type": "code",
      "metadata": {
        "id": "-68txk5RqRg6",
        "colab_type": "code",
        "outputId": "28a04069-8be5-44e7-f510-e5993748ced0",
        "colab": {
          "base_uri": "https://localhost:8080/",
          "height": 323
        }
      },
      "source": [
        "print(model.summary())"
      ],
      "execution_count": 33,
      "outputs": [
        {
          "output_type": "stream",
          "text": [
            "_________________________________________________________________\n",
            "Layer (type)                 Output Shape              Param #   \n",
            "=================================================================\n",
            "dense_3 (Dense)              (None, 340)               174420    \n",
            "_________________________________________________________________\n",
            "batch_normalization_2 (Batch (None, 340)               1360      \n",
            "_________________________________________________________________\n",
            "activation_2 (Activation)    (None, 340)               0         \n",
            "_________________________________________________________________\n",
            "dropout_2 (Dropout)          (None, 340)               0         \n",
            "_________________________________________________________________\n",
            "dense_4 (Dense)              (None, 5)                 1705      \n",
            "=================================================================\n",
            "Total params: 177,485\n",
            "Trainable params: 176,805\n",
            "Non-trainable params: 680\n",
            "_________________________________________________________________\n",
            "None\n"
          ],
          "name": "stdout"
        }
      ]
    },
    {
      "cell_type": "code",
      "metadata": {
        "id": "8Dr4JqeDqRg-",
        "colab_type": "code",
        "outputId": "aa333e41-8f88-405d-dbb9-f2d2fe89e769",
        "colab": {
          "base_uri": "https://localhost:8080/",
          "height": 634
        }
      },
      "source": [
        "SVG(model_to_dot(model, show_shapes=True, show_layer_names=False, \n",
        "                 rankdir='TB').create(prog='dot', format='svg'))"
      ],
      "execution_count": 34,
      "outputs": [
        {
          "output_type": "execute_result",
          "data": {
            "text/plain": [
              "<IPython.core.display.SVG object>"
            ],
            "image/svg+xml": "<svg height=\"460pt\" viewBox=\"0.00 0.00 284.00 460.00\" width=\"284pt\" xmlns=\"http://www.w3.org/2000/svg\" xmlns:xlink=\"http://www.w3.org/1999/xlink\">\n<g class=\"graph\" id=\"graph0\" transform=\"scale(1 1) rotate(0) translate(4 456)\">\n<title>G</title>\n<polygon fill=\"#ffffff\" points=\"-4,4 -4,-456 280,-456 280,4 -4,4\" stroke=\"transparent\"/>\n<!-- 140288188946584 -->\n<g class=\"node\" id=\"node1\">\n<title>140288188946584</title>\n<polygon fill=\"none\" points=\"39.5,-332.5 39.5,-378.5 236.5,-378.5 236.5,-332.5 39.5,-332.5\" stroke=\"#000000\"/>\n<text fill=\"#000000\" font-family=\"Times,serif\" font-size=\"14.00\" text-anchor=\"middle\" x=\"65.5\" y=\"-351.8\">Dense</text>\n<polyline fill=\"none\" points=\"91.5,-332.5 91.5,-378.5 \" stroke=\"#000000\"/>\n<text fill=\"#000000\" font-family=\"Times,serif\" font-size=\"14.00\" text-anchor=\"middle\" x=\"120.5\" y=\"-363.3\">input:</text>\n<polyline fill=\"none\" points=\"91.5,-355.5 149.5,-355.5 \" stroke=\"#000000\"/>\n<text fill=\"#000000\" font-family=\"Times,serif\" font-size=\"14.00\" text-anchor=\"middle\" x=\"120.5\" y=\"-340.3\">output:</text>\n<polyline fill=\"none\" points=\"149.5,-332.5 149.5,-378.5 \" stroke=\"#000000\"/>\n<text fill=\"#000000\" font-family=\"Times,serif\" font-size=\"14.00\" text-anchor=\"middle\" x=\"193\" y=\"-363.3\">(None, 512)</text>\n<polyline fill=\"none\" points=\"149.5,-355.5 236.5,-355.5 \" stroke=\"#000000\"/>\n<text fill=\"#000000\" font-family=\"Times,serif\" font-size=\"14.00\" text-anchor=\"middle\" x=\"193\" y=\"-340.3\">(None, 340)</text>\n</g>\n<!-- 140288188945352 -->\n<g class=\"node\" id=\"node2\">\n<title>140288188945352</title>\n<polygon fill=\"none\" points=\"0,-249.5 0,-295.5 276,-295.5 276,-249.5 0,-249.5\" stroke=\"#000000\"/>\n<text fill=\"#000000\" font-family=\"Times,serif\" font-size=\"14.00\" text-anchor=\"middle\" x=\"65.5\" y=\"-268.8\">BatchNormalization</text>\n<polyline fill=\"none\" points=\"131,-249.5 131,-295.5 \" stroke=\"#000000\"/>\n<text fill=\"#000000\" font-family=\"Times,serif\" font-size=\"14.00\" text-anchor=\"middle\" x=\"160\" y=\"-280.3\">input:</text>\n<polyline fill=\"none\" points=\"131,-272.5 189,-272.5 \" stroke=\"#000000\"/>\n<text fill=\"#000000\" font-family=\"Times,serif\" font-size=\"14.00\" text-anchor=\"middle\" x=\"160\" y=\"-257.3\">output:</text>\n<polyline fill=\"none\" points=\"189,-249.5 189,-295.5 \" stroke=\"#000000\"/>\n<text fill=\"#000000\" font-family=\"Times,serif\" font-size=\"14.00\" text-anchor=\"middle\" x=\"232.5\" y=\"-280.3\">(None, 340)</text>\n<polyline fill=\"none\" points=\"189,-272.5 276,-272.5 \" stroke=\"#000000\"/>\n<text fill=\"#000000\" font-family=\"Times,serif\" font-size=\"14.00\" text-anchor=\"middle\" x=\"232.5\" y=\"-257.3\">(None, 340)</text>\n</g>\n<!-- 140288188946584&#45;&gt;140288188945352 -->\n<g class=\"edge\" id=\"edge2\">\n<title>140288188946584-&gt;140288188945352</title>\n<path d=\"M138,-332.3799C138,-324.1745 138,-314.7679 138,-305.8786\" fill=\"none\" stroke=\"#000000\"/>\n<polygon fill=\"#000000\" points=\"141.5001,-305.784 138,-295.784 134.5001,-305.784 141.5001,-305.784\" stroke=\"#000000\"/>\n</g>\n<!-- 140288188948432 -->\n<g class=\"node\" id=\"node3\">\n<title>140288188948432</title>\n<polygon fill=\"none\" points=\"27,-166.5 27,-212.5 249,-212.5 249,-166.5 27,-166.5\" stroke=\"#000000\"/>\n<text fill=\"#000000\" font-family=\"Times,serif\" font-size=\"14.00\" text-anchor=\"middle\" x=\"65.5\" y=\"-185.8\">Activation</text>\n<polyline fill=\"none\" points=\"104,-166.5 104,-212.5 \" stroke=\"#000000\"/>\n<text fill=\"#000000\" font-family=\"Times,serif\" font-size=\"14.00\" text-anchor=\"middle\" x=\"133\" y=\"-197.3\">input:</text>\n<polyline fill=\"none\" points=\"104,-189.5 162,-189.5 \" stroke=\"#000000\"/>\n<text fill=\"#000000\" font-family=\"Times,serif\" font-size=\"14.00\" text-anchor=\"middle\" x=\"133\" y=\"-174.3\">output:</text>\n<polyline fill=\"none\" points=\"162,-166.5 162,-212.5 \" stroke=\"#000000\"/>\n<text fill=\"#000000\" font-family=\"Times,serif\" font-size=\"14.00\" text-anchor=\"middle\" x=\"205.5\" y=\"-197.3\">(None, 340)</text>\n<polyline fill=\"none\" points=\"162,-189.5 249,-189.5 \" stroke=\"#000000\"/>\n<text fill=\"#000000\" font-family=\"Times,serif\" font-size=\"14.00\" text-anchor=\"middle\" x=\"205.5\" y=\"-174.3\">(None, 340)</text>\n</g>\n<!-- 140288188945352&#45;&gt;140288188948432 -->\n<g class=\"edge\" id=\"edge3\">\n<title>140288188945352-&gt;140288188948432</title>\n<path d=\"M138,-249.3799C138,-241.1745 138,-231.7679 138,-222.8786\" fill=\"none\" stroke=\"#000000\"/>\n<polygon fill=\"#000000\" points=\"141.5001,-222.784 138,-212.784 134.5001,-222.784 141.5001,-222.784\" stroke=\"#000000\"/>\n</g>\n<!-- 140288188947592 -->\n<g class=\"node\" id=\"node4\">\n<title>140288188947592</title>\n<polygon fill=\"none\" points=\"33,-83.5 33,-129.5 243,-129.5 243,-83.5 33,-83.5\" stroke=\"#000000\"/>\n<text fill=\"#000000\" font-family=\"Times,serif\" font-size=\"14.00\" text-anchor=\"middle\" x=\"65.5\" y=\"-102.8\">Dropout</text>\n<polyline fill=\"none\" points=\"98,-83.5 98,-129.5 \" stroke=\"#000000\"/>\n<text fill=\"#000000\" font-family=\"Times,serif\" font-size=\"14.00\" text-anchor=\"middle\" x=\"127\" y=\"-114.3\">input:</text>\n<polyline fill=\"none\" points=\"98,-106.5 156,-106.5 \" stroke=\"#000000\"/>\n<text fill=\"#000000\" font-family=\"Times,serif\" font-size=\"14.00\" text-anchor=\"middle\" x=\"127\" y=\"-91.3\">output:</text>\n<polyline fill=\"none\" points=\"156,-83.5 156,-129.5 \" stroke=\"#000000\"/>\n<text fill=\"#000000\" font-family=\"Times,serif\" font-size=\"14.00\" text-anchor=\"middle\" x=\"199.5\" y=\"-114.3\">(None, 340)</text>\n<polyline fill=\"none\" points=\"156,-106.5 243,-106.5 \" stroke=\"#000000\"/>\n<text fill=\"#000000\" font-family=\"Times,serif\" font-size=\"14.00\" text-anchor=\"middle\" x=\"199.5\" y=\"-91.3\">(None, 340)</text>\n</g>\n<!-- 140288188948432&#45;&gt;140288188947592 -->\n<g class=\"edge\" id=\"edge4\">\n<title>140288188948432-&gt;140288188947592</title>\n<path d=\"M138,-166.3799C138,-158.1745 138,-148.7679 138,-139.8786\" fill=\"none\" stroke=\"#000000\"/>\n<polygon fill=\"#000000\" points=\"141.5001,-139.784 138,-129.784 134.5001,-139.784 141.5001,-139.784\" stroke=\"#000000\"/>\n</g>\n<!-- 140288479308880 -->\n<g class=\"node\" id=\"node5\">\n<title>140288479308880</title>\n<polygon fill=\"none\" points=\"39.5,-.5 39.5,-46.5 236.5,-46.5 236.5,-.5 39.5,-.5\" stroke=\"#000000\"/>\n<text fill=\"#000000\" font-family=\"Times,serif\" font-size=\"14.00\" text-anchor=\"middle\" x=\"65.5\" y=\"-19.8\">Dense</text>\n<polyline fill=\"none\" points=\"91.5,-.5 91.5,-46.5 \" stroke=\"#000000\"/>\n<text fill=\"#000000\" font-family=\"Times,serif\" font-size=\"14.00\" text-anchor=\"middle\" x=\"120.5\" y=\"-31.3\">input:</text>\n<polyline fill=\"none\" points=\"91.5,-23.5 149.5,-23.5 \" stroke=\"#000000\"/>\n<text fill=\"#000000\" font-family=\"Times,serif\" font-size=\"14.00\" text-anchor=\"middle\" x=\"120.5\" y=\"-8.3\">output:</text>\n<polyline fill=\"none\" points=\"149.5,-.5 149.5,-46.5 \" stroke=\"#000000\"/>\n<text fill=\"#000000\" font-family=\"Times,serif\" font-size=\"14.00\" text-anchor=\"middle\" x=\"193\" y=\"-31.3\">(None, 340)</text>\n<polyline fill=\"none\" points=\"149.5,-23.5 236.5,-23.5 \" stroke=\"#000000\"/>\n<text fill=\"#000000\" font-family=\"Times,serif\" font-size=\"14.00\" text-anchor=\"middle\" x=\"193\" y=\"-8.3\">(None, 5)</text>\n</g>\n<!-- 140288188947592&#45;&gt;140288479308880 -->\n<g class=\"edge\" id=\"edge5\">\n<title>140288188947592-&gt;140288479308880</title>\n<path d=\"M138,-83.3799C138,-75.1745 138,-65.7679 138,-56.8786\" fill=\"none\" stroke=\"#000000\"/>\n<polygon fill=\"#000000\" points=\"141.5001,-56.784 138,-46.784 134.5001,-56.784 141.5001,-56.784\" stroke=\"#000000\"/>\n</g>\n<!-- 140288188947648 -->\n<g class=\"node\" id=\"node6\">\n<title>140288188947648</title>\n<polygon fill=\"none\" points=\"73.5,-415.5 73.5,-451.5 202.5,-451.5 202.5,-415.5 73.5,-415.5\" stroke=\"#000000\"/>\n<text fill=\"#000000\" font-family=\"Times,serif\" font-size=\"14.00\" text-anchor=\"middle\" x=\"138\" y=\"-429.8\">140288188947648</text>\n</g>\n<!-- 140288188947648&#45;&gt;140288188946584 -->\n<g class=\"edge\" id=\"edge1\">\n<title>140288188947648-&gt;140288188946584</title>\n<path d=\"M138,-415.4092C138,-407.4308 138,-397.795 138,-388.606\" fill=\"none\" stroke=\"#000000\"/>\n<polygon fill=\"#000000\" points=\"141.5001,-388.5333 138,-378.5333 134.5001,-388.5334 141.5001,-388.5333\" stroke=\"#000000\"/>\n</g>\n</g>\n</svg>"
          },
          "metadata": {
            "tags": []
          },
          "execution_count": 34
        }
      ]
    },
    {
      "cell_type": "code",
      "metadata": {
        "id": "tq5Zkm05qRhA",
        "colab_type": "code",
        "outputId": "a6880e70-358f-4fc0-dea1-0ce8910c0113",
        "colab": {
          "base_uri": "https://localhost:8080/",
          "height": 258
        }
      },
      "source": [
        "# one hot encode rating\n",
        "print(rating.shape)\n",
        "print(type(rating))\n",
        "y = OneHotEncoder().fit_transform(rating.values.reshape(len(rating), 1)).toarray()\n",
        "y"
      ],
      "execution_count": 35,
      "outputs": [
        {
          "output_type": "stream",
          "text": [
            "(111909,)\n",
            "<class 'pandas.core.series.Series'>\n"
          ],
          "name": "stdout"
        },
        {
          "output_type": "stream",
          "text": [
            "/usr/local/lib/python3.6/dist-packages/sklearn/preprocessing/_encoders.py:415: FutureWarning: The handling of integer data will change in version 0.22. Currently, the categories are determined based on the range [0, max(values)], while in the future they will be determined based on the unique values.\n",
            "If you want the future behaviour and silence this warning, you can specify \"categories='auto'\".\n",
            "In case you used a LabelEncoder before this OneHotEncoder to convert the categories to integers, then you can now use the OneHotEncoder directly.\n",
            "  warnings.warn(msg, FutureWarning)\n"
          ],
          "name": "stderr"
        },
        {
          "output_type": "execute_result",
          "data": {
            "text/plain": [
              "array([[0., 0., 0., 0., 1.],\n",
              "       [0., 0., 0., 0., 1.],\n",
              "       [0., 0., 0., 0., 1.],\n",
              "       ...,\n",
              "       [0., 0., 1., 0., 0.],\n",
              "       [0., 0., 0., 0., 1.],\n",
              "       [0., 0., 0., 1., 0.]])"
            ]
          },
          "metadata": {
            "tags": []
          },
          "execution_count": 35
        }
      ]
    },
    {
      "cell_type": "code",
      "metadata": {
        "id": "vmwhVSk_qRhD",
        "colab_type": "code",
        "colab": {}
      },
      "source": [
        "x_train, x_test, y_train, y_test = train_test_split(df, y, random_state=1)"
      ],
      "execution_count": 0,
      "outputs": []
    },
    {
      "cell_type": "code",
      "metadata": {
        "id": "Wo4ULKdP_X7_",
        "colab_type": "code",
        "outputId": "12c6caa3-597e-4bdc-c823-8433c34d6e4a",
        "colab": {
          "base_uri": "https://localhost:8080/",
          "height": 34
        }
      },
      "source": [
        "import importlib\n",
        "importlib.reload(ku)"
      ],
      "execution_count": 37,
      "outputs": [
        {
          "output_type": "execute_result",
          "data": {
            "text/plain": [
              "<module 'util.keras_util' from 'drive/My Drive/Springboard/capstone/util/keras_util.py'>"
            ]
          },
          "metadata": {
            "tags": []
          },
          "execution_count": 37
        }
      ]
    },
    {
      "cell_type": "code",
      "metadata": {
        "scrolled": false,
        "id": "nIgpUbmlqRhF",
        "colab_type": "code",
        "outputId": "e61f028d-c151-4450-e82c-f793990303d9",
        "colab": {
          "base_uri": "https://localhost:8080/",
          "height": 1000
        }
      },
      "source": [
        "early_stop = EarlyStopping(monitor='val_loss', patience=2, verbose=1, restore_best_weights=True)\n",
        "\n",
        "# use our model wrapper the wrap the model so we can save things for later\n",
        "mw = ku.ModelWrapper(model=model, \n",
        "                     name=MODEL_NAME, \n",
        "                     label_name=LABEL_COLUMN, \n",
        "                     data_file=DATA_FILE, \n",
        "                     embedding=\"word2vec\")\n",
        "network_history = mw.fit(x_train, y_train,\n",
        "                      batch_size=128,\n",
        "                      epochs=50,\n",
        "                      verbose=1,\n",
        "                      validation_split=0.2,\n",
        "                      callbacks=[early_stop])"
      ],
      "execution_count": 38,
      "outputs": [
        {
          "output_type": "stream",
          "text": [
            "Train on 67144 samples, validate on 16787 samples\n",
            "Epoch 1/50\n",
            "67144/67144 [==============================] - 12s 173us/step - loss: 1.1132 - acc: 0.5904 - val_loss: 0.9826 - val_acc: 0.6366\n",
            "Epoch 2/50\n",
            "67144/67144 [==============================] - 10s 149us/step - loss: 1.0006 - acc: 0.6297 - val_loss: 0.9433 - val_acc: 0.6484\n",
            "Epoch 3/50\n",
            "67144/67144 [==============================] - 10s 148us/step - loss: 0.9647 - acc: 0.6379 - val_loss: 0.9247 - val_acc: 0.6534\n",
            "Epoch 4/50\n",
            "67144/67144 [==============================] - 7s 112us/step - loss: 0.9416 - acc: 0.6467 - val_loss: 0.9125 - val_acc: 0.6575\n",
            "Epoch 5/50\n",
            "67144/67144 [==============================] - 7s 108us/step - loss: 0.9282 - acc: 0.6504 - val_loss: 0.9042 - val_acc: 0.6587\n",
            "Epoch 6/50\n",
            "67144/67144 [==============================] - 7s 107us/step - loss: 0.9175 - acc: 0.6524 - val_loss: 0.8963 - val_acc: 0.6605\n",
            "Epoch 7/50\n",
            "67144/67144 [==============================] - 9s 139us/step - loss: 0.9059 - acc: 0.6567 - val_loss: 0.8933 - val_acc: 0.6612\n",
            "Epoch 8/50\n",
            "67144/67144 [==============================] - 10s 145us/step - loss: 0.8991 - acc: 0.6594 - val_loss: 0.8891 - val_acc: 0.6618\n",
            "Epoch 9/50\n",
            "67144/67144 [==============================] - 10s 148us/step - loss: 0.8937 - acc: 0.6584 - val_loss: 0.8875 - val_acc: 0.6633\n",
            "Epoch 10/50\n",
            "67144/67144 [==============================] - 10s 151us/step - loss: 0.8871 - acc: 0.6619 - val_loss: 0.8815 - val_acc: 0.6634\n",
            "Epoch 11/50\n",
            "67144/67144 [==============================] - 9s 132us/step - loss: 0.8836 - acc: 0.6620 - val_loss: 0.8801 - val_acc: 0.6632\n",
            "Epoch 12/50\n",
            "67144/67144 [==============================] - 7s 111us/step - loss: 0.8788 - acc: 0.6625 - val_loss: 0.8775 - val_acc: 0.6641\n",
            "Epoch 13/50\n",
            "67144/67144 [==============================] - 7s 108us/step - loss: 0.8743 - acc: 0.6639 - val_loss: 0.8763 - val_acc: 0.6665\n",
            "Epoch 14/50\n",
            "67144/67144 [==============================] - 7s 110us/step - loss: 0.8699 - acc: 0.6664 - val_loss: 0.8748 - val_acc: 0.6669\n",
            "Epoch 15/50\n",
            "67144/67144 [==============================] - 7s 110us/step - loss: 0.8662 - acc: 0.6673 - val_loss: 0.8718 - val_acc: 0.6666\n",
            "Epoch 16/50\n",
            "67144/67144 [==============================] - 7s 111us/step - loss: 0.8630 - acc: 0.6688 - val_loss: 0.8703 - val_acc: 0.6671\n",
            "Epoch 17/50\n",
            "67144/67144 [==============================] - 7s 108us/step - loss: 0.8631 - acc: 0.6677 - val_loss: 0.8721 - val_acc: 0.6669\n",
            "Epoch 18/50\n",
            "67144/67144 [==============================] - 7s 109us/step - loss: 0.8576 - acc: 0.6692 - val_loss: 0.8688 - val_acc: 0.6671\n",
            "Epoch 19/50\n",
            "67144/67144 [==============================] - 7s 110us/step - loss: 0.8550 - acc: 0.6706 - val_loss: 0.8675 - val_acc: 0.6682\n",
            "Epoch 20/50\n",
            "67144/67144 [==============================] - 8s 114us/step - loss: 0.8516 - acc: 0.6701 - val_loss: 0.8668 - val_acc: 0.6681\n",
            "Epoch 21/50\n",
            "67144/67144 [==============================] - 8s 112us/step - loss: 0.8505 - acc: 0.6710 - val_loss: 0.8668 - val_acc: 0.6689\n",
            "Epoch 22/50\n",
            "67144/67144 [==============================] - 7s 110us/step - loss: 0.8477 - acc: 0.6729 - val_loss: 0.8654 - val_acc: 0.6693\n",
            "Epoch 23/50\n",
            "67144/67144 [==============================] - 7s 110us/step - loss: 0.8462 - acc: 0.6716 - val_loss: 0.8655 - val_acc: 0.6691\n",
            "Epoch 24/50\n",
            "67144/67144 [==============================] - 7s 107us/step - loss: 0.8434 - acc: 0.6735 - val_loss: 0.8652 - val_acc: 0.6691\n",
            "Epoch 25/50\n",
            "67144/67144 [==============================] - 7s 109us/step - loss: 0.8407 - acc: 0.6750 - val_loss: 0.8642 - val_acc: 0.6675\n",
            "Epoch 26/50\n",
            "67144/67144 [==============================] - 7s 109us/step - loss: 0.8387 - acc: 0.6752 - val_loss: 0.8650 - val_acc: 0.6686\n",
            "Epoch 27/50\n",
            "67144/67144 [==============================] - 7s 111us/step - loss: 0.8359 - acc: 0.6765 - val_loss: 0.8629 - val_acc: 0.6692\n",
            "Epoch 28/50\n",
            "67144/67144 [==============================] - 7s 110us/step - loss: 0.8365 - acc: 0.6764 - val_loss: 0.8636 - val_acc: 0.6711\n",
            "Epoch 29/50\n",
            "67144/67144 [==============================] - 7s 110us/step - loss: 0.8326 - acc: 0.6763 - val_loss: 0.8629 - val_acc: 0.6696\n",
            "Epoch 30/50\n",
            "67144/67144 [==============================] - 7s 109us/step - loss: 0.8295 - acc: 0.6770 - val_loss: 0.8624 - val_acc: 0.6700\n",
            "Epoch 31/50\n",
            "67144/67144 [==============================] - 7s 109us/step - loss: 0.8292 - acc: 0.6786 - val_loss: 0.8626 - val_acc: 0.6693\n",
            "Epoch 32/50\n",
            "67144/67144 [==============================] - 7s 109us/step - loss: 0.8265 - acc: 0.6785 - val_loss: 0.8655 - val_acc: 0.6688\n",
            "Restoring model weights from the end of the best epoch\n",
            "Epoch 00032: early stopping\n"
          ],
          "name": "stdout"
        }
      ]
    },
    {
      "cell_type": "code",
      "metadata": {
        "id": "vi3rL941ATTK",
        "colab_type": "code",
        "outputId": "a58cbd4c-e351-4a3f-dd85-c03855855c43",
        "colab": {
          "base_uri": "https://localhost:8080/",
          "height": 136
        }
      },
      "source": [
        "mw.evaluate(x_test, y_test)"
      ],
      "execution_count": 39,
      "outputs": [
        {
          "output_type": "stream",
          "text": [
            "Running model.evaluate...\n",
            "27978/27978 [==============================] - 2s 58us/step\n",
            "Running model.predict...\n",
            "Unencode predictions...\n",
            "Generating confusion matrix...\n",
            "Calculating ROC AUC...\n",
            "Getting classification report...\n"
          ],
          "name": "stdout"
        }
      ]
    },
    {
      "cell_type": "code",
      "metadata": {
        "id": "uWWW7-BvqRhH",
        "colab_type": "code",
        "outputId": "1be6b699-56db-4480-aaec-61b9c54e11e8",
        "colab": {
          "base_uri": "https://localhost:8080/",
          "height": 34
        }
      },
      "source": [
        "\n",
        "print(\"Accuracy: %.2f%%\" % (mw.scores[1]*100))\n"
      ],
      "execution_count": 40,
      "outputs": [
        {
          "output_type": "stream",
          "text": [
            "Accuracy: 66.75%\n"
          ],
          "name": "stdout"
        }
      ]
    },
    {
      "cell_type": "code",
      "metadata": {
        "id": "lqKrm3JcqRhJ",
        "colab_type": "code",
        "outputId": "c3307ed0-c35c-41de-cfb0-b68fe22d6fb7",
        "colab": {
          "base_uri": "https://localhost:8080/",
          "height": 345
        }
      },
      "source": [
        "\n",
        "pu.plot_network_history(mw.network_history)"
      ],
      "execution_count": 41,
      "outputs": [
        {
          "output_type": "display_data",
          "data": {
            "image/png": "[encoded data removed]",
            "text/plain": [
              "<Figure size 720x360 with 2 Axes>"
            ]
          },
          "metadata": {
            "tags": []
          }
        }
      ]
    },
    {
      "cell_type": "code",
      "metadata": {
        "id": "-etlVN4MqRhV",
        "colab_type": "code",
        "outputId": "451a774e-fcd5-4712-c594-fcaa5a01e250",
        "colab": {
          "base_uri": "https://localhost:8080/",
          "height": 102
        }
      },
      "source": [
        "# print confusionn matrix\n",
        "print(mw.confusion_matrix)"
      ],
      "execution_count": 42,
      "outputs": [
        {
          "output_type": "stream",
          "text": [
            "[[ 3038   141   245    84   367]\n",
            " [  900   129   316   163   379]\n",
            " [  503   119   568   547   823]\n",
            " [  236    30   344  1038  2989]\n",
            " [  274    33   203   606 13903]]\n"
          ],
          "name": "stdout"
        }
      ]
    },
    {
      "cell_type": "code",
      "metadata": {
        "id": "2oYC7F0DqRhZ",
        "colab_type": "code",
        "outputId": "1217e4c1-ccee-4156-af39-bd71d12053f7",
        "colab": {
          "base_uri": "https://localhost:8080/",
          "height": 221
        }
      },
      "source": [
        "print(mw.classification_report)"
      ],
      "execution_count": 43,
      "outputs": [
        {
          "output_type": "stream",
          "text": [
            "              precision    recall  f1-score   support\n",
            "\n",
            "           1       0.61      0.78      0.69      3875\n",
            "           2       0.29      0.07      0.11      1887\n",
            "           3       0.34      0.22      0.27      2560\n",
            "           4       0.43      0.22      0.29      4637\n",
            "           5       0.75      0.93      0.83     15019\n",
            "\n",
            "    accuracy                           0.67     27978\n",
            "   macro avg       0.48      0.44      0.44     27978\n",
            "weighted avg       0.61      0.67      0.62     27978\n",
            "\n"
          ],
          "name": "stdout"
        }
      ]
    },
    {
      "cell_type": "code",
      "metadata": {
        "id": "aB1VrDBRBD0o",
        "colab_type": "code",
        "outputId": "75aa3a11-9757-450c-b892-b030dc99d440",
        "colab": {
          "base_uri": "https://localhost:8080/",
          "height": 366
        }
      },
      "source": [
        "pu.plot_roc_auc(mw.name, mw.roc_auc, mw.fpr, mw.tpr)"
      ],
      "execution_count": 44,
      "outputs": [
        {
          "output_type": "display_data",
          "data": {
            "image/png": "[encoded data removed]",
            "text/plain": [
              "<Figure size 432x288 with 1 Axes>"
            ]
          },
          "metadata": {
            "tags": []
          }
        }
      ]
    },
    {
      "cell_type": "markdown",
      "metadata": {
        "id": "R1ZykmClqRhd",
        "colab_type": "text"
      },
      "source": [
        "# Save off various files"
      ]
    },
    {
      "cell_type": "markdown",
      "metadata": {
        "id": "uigz1oPBJiSy",
        "colab_type": "text"
      },
      "source": [
        ""
      ]
    },
    {
      "cell_type": "code",
      "metadata": {
        "id": "ZUmLiKRXAs1w",
        "colab_type": "code",
        "outputId": "47d94ffb-564c-4982-b8e6-bf934bb19d4e",
        "colab": {
          "base_uri": "https://localhost:8080/",
          "height": 119
        }
      },
      "source": [
        "# mw.save(DRIVE_DIR, f\"{MODEL_NAME}-{INBASENAME}-nosmote-{LABEL_COLUMN}\", append_report=True)\n",
        "mw.save(DRIVE_DIR, append_report=True)"
      ],
      "execution_count": 45,
      "outputs": [
        {
          "output_type": "stream",
          "text": [
            "description: review_body-word2vec5-111909-512-nolda-DNN_340-512-star_rating\n",
            "Saving model file: drive/My Drive/Springboard/capstone/models/review_body-word2vec5-111909-512-nolda-DNN_340-512-star_rating-model.h5\n",
            "Saving network history file: drive/My Drive/Springboard/capstone/models/review_body-word2vec5-111909-512-nolda-DNN_340-512-star_rating-history.pkl\n",
            "Saving to report file: drive/My Drive/Springboard/capstone/reports/2019-07-30-dl_protype-report.csv\n",
            "Loading to append to: drive/My Drive/Springboard/capstone/reports/2019-07-30-dl_protype-report.csv\n",
            "Saving report file...\n"
          ],
          "name": "stdout"
        }
      ]
    },
    {
      "cell_type": "code",
      "metadata": {
        "id": "5TerZ7mhMWdz",
        "colab_type": "code",
        "outputId": "226a6854-40c0-49df-f656-fab41ff93515",
        "colab": {
          "base_uri": "https://localhost:8080/",
          "height": 168
        }
      },
      "source": [
        "mw.get_report().to_df()"
      ],
      "execution_count": 46,
      "outputs": [
        {
          "output_type": "execute_result",
          "data": {
            "text/html": [
              "<div>\n",
              "<style scoped>\n",
              "    .dataframe tbody tr th:only-of-type {\n",
              "        vertical-align: middle;\n",
              "    }\n",
              "\n",
              "    .dataframe tbody tr th {\n",
              "        vertical-align: top;\n",
              "    }\n",
              "\n",
              "    .dataframe thead th {\n",
              "        text-align: right;\n",
              "    }\n",
              "</style>\n",
              "<table border=\"1\" class=\"dataframe\">\n",
              "  <thead>\n",
              "    <tr style=\"text-align: right;\">\n",
              "      <th></th>\n",
              "      <th>accuracy</th>\n",
              "      <th>classification_report</th>\n",
              "      <th>confusion_matrix</th>\n",
              "      <th>description</th>\n",
              "      <th>embedding</th>\n",
              "      <th>evaluate_time_min</th>\n",
              "      <th>file</th>\n",
              "      <th>fpr</th>\n",
              "      <th>loss</th>\n",
              "      <th>max_sequence_length</th>\n",
              "      <th>model_file</th>\n",
              "      <th>model_name</th>\n",
              "      <th>network_history_file</th>\n",
              "      <th>predict_time_min</th>\n",
              "      <th>roc_auc</th>\n",
              "      <th>status</th>\n",
              "      <th>status_date</th>\n",
              "      <th>test_examples</th>\n",
              "      <th>test_features</th>\n",
              "      <th>tokenizer_file</th>\n",
              "      <th>tpr</th>\n",
              "      <th>train_examples</th>\n",
              "      <th>train_features</th>\n",
              "      <th>train_time_min</th>\n",
              "    </tr>\n",
              "  </thead>\n",
              "  <tbody>\n",
              "    <tr>\n",
              "      <th>0</th>\n",
              "      <td>0.667524</td>\n",
              "      <td>{\"1\": {\"precision\": 0.613613411432034, \"recall...</td>\n",
              "      <td>[[3038, 141, 245, 84, 367], [900, 129, 316, 16...</td>\n",
              "      <td>review_body-word2vec5-111909-512-nolda-DNN_340...</td>\n",
              "      <td>word2vec</td>\n",
              "      <td>5.15</td>\n",
              "      <td>review_body-word2vec5-111909-512-nolda.csv</td>\n",
              "      <td>{\"0\": [0.0, 0.0, 0.0, 0.0, 0.0, 4.148861137617...</td>\n",
              "      <td>0.86213</td>\n",
              "      <td>512.0</td>\n",
              "      <td>drive/My Drive/Springboard/capstone/models/rev...</td>\n",
              "      <td>DNN_340</td>\n",
              "      <td>&lt;keras.callbacks.History object at 0x7f976c0f7...</td>\n",
              "      <td>5.15</td>\n",
              "      <td>{\"auc_1\": 0.9463142508026707, \"auc_2\": 0.84773...</td>\n",
              "      <td>success</td>\n",
              "      <td>2019-07-30 04:17:22</td>\n",
              "      <td>27978.0</td>\n",
              "      <td>512.0</td>\n",
              "      <td>drive/My Drive/Springboard/capstone/models/dl-...</td>\n",
              "      <td>{\"0\": [0.0, 0.00025806451612903227, 0.00103225...</td>\n",
              "      <td>83931.0</td>\n",
              "      <td>512.0</td>\n",
              "      <td>5.15</td>\n",
              "    </tr>\n",
              "  </tbody>\n",
              "</table>\n",
              "</div>"
            ],
            "text/plain": [
              "   accuracy  ... train_time_min\n",
              "0  0.667524  ...           5.15\n",
              "\n",
              "[1 rows x 24 columns]"
            ]
          },
          "metadata": {
            "tags": []
          },
          "execution_count": 46
        }
      ]
    },
    {
      "cell_type": "code",
      "metadata": {
        "id": "sNVn4kd-RUUn",
        "colab_type": "code",
        "colab": {
          "base_uri": "https://localhost:8080/",
          "height": 34
        },
        "outputId": "00afbe03-76f7-4bc9-c50c-52348d65f20d"
      },
      "source": [
        "print(datetime.now())"
      ],
      "execution_count": 47,
      "outputs": [
        {
          "output_type": "stream",
          "text": [
            "2019-07-30 04:17:22.591082\n"
          ],
          "name": "stdout"
        }
      ]
    },
    {
      "cell_type": "code",
      "metadata": {
        "id": "CxrGYKbiE0pn",
        "colab_type": "code",
        "colab": {
          "base_uri": "https://localhost:8080/",
          "height": 849
        },
        "outputId": "68ea6229-0ba2-482e-d04d-76f90a64823b"
      },
      "source": [
        "# test report\n",
        "loaded = pd.read_csv(mw.report_file, quotechar=\"'\")\n",
        "loaded"
      ],
      "execution_count": 48,
      "outputs": [
        {
          "output_type": "execute_result",
          "data": {
            "text/html": [
              "<div>\n",
              "<style scoped>\n",
              "    .dataframe tbody tr th:only-of-type {\n",
              "        vertical-align: middle;\n",
              "    }\n",
              "\n",
              "    .dataframe tbody tr th {\n",
              "        vertical-align: top;\n",
              "    }\n",
              "\n",
              "    .dataframe thead th {\n",
              "        text-align: right;\n",
              "    }\n",
              "</style>\n",
              "<table border=\"1\" class=\"dataframe\">\n",
              "  <thead>\n",
              "    <tr style=\"text-align: right;\">\n",
              "      <th></th>\n",
              "      <th>accuracy</th>\n",
              "      <th>classification_report</th>\n",
              "      <th>confusion_matrix</th>\n",
              "      <th>description</th>\n",
              "      <th>embedding</th>\n",
              "      <th>evaluate_time_min</th>\n",
              "      <th>file</th>\n",
              "      <th>fpr</th>\n",
              "      <th>loss</th>\n",
              "      <th>max_sequence_length</th>\n",
              "      <th>model_file</th>\n",
              "      <th>model_name</th>\n",
              "      <th>network_history_file</th>\n",
              "      <th>predict_time_min</th>\n",
              "      <th>roc_auc</th>\n",
              "      <th>status</th>\n",
              "      <th>status_date</th>\n",
              "      <th>test_examples</th>\n",
              "      <th>test_features</th>\n",
              "      <th>tokenizer_file</th>\n",
              "      <th>tpr</th>\n",
              "      <th>train_examples</th>\n",
              "      <th>train_features</th>\n",
              "      <th>train_time_min</th>\n",
              "    </tr>\n",
              "  </thead>\n",
              "  <tbody>\n",
              "    <tr>\n",
              "      <th>0</th>\n",
              "      <td>0.677591</td>\n",
              "      <td>{\"1\": {\"precision\": 0.5852581521739131, \"recal...</td>\n",
              "      <td>[[3446, 71, 158, 50, 243], [1141, 90, 287, 120...</td>\n",
              "      <td>amazon_reviews_us_Wireless_v1_00-preprocessed-...</td>\n",
              "      <td>300.0</td>\n",
              "      <td>32.59</td>\n",
              "      <td>drive/My Drive/Springboard/capstone/data/amazo...</td>\n",
              "      <td>{\"0\": [0.0, 0.0, 0.0, 4.159214740257039e-05, 4...</td>\n",
              "      <td>0.835665</td>\n",
              "      <td>186.0</td>\n",
              "      <td>drive/My Drive/Springboard/capstone/models/ama...</td>\n",
              "      <td>GRU_1layer</td>\n",
              "      <td>&lt;keras.callbacks.History object at 0x7f5403610...</td>\n",
              "      <td>32.59</td>\n",
              "      <td>{\"auc_1\": 0.9527249533513878, \"auc_2\": 0.86096...</td>\n",
              "      <td>success</td>\n",
              "      <td>2019-07-30 01:46:31</td>\n",
              "      <td>28011.0</td>\n",
              "      <td>186.0</td>\n",
              "      <td>&lt;keras_preprocessing.text.Tokenizer object at ...</td>\n",
              "      <td>{\"0\": [0.0, 0.00025201612903225806, 0.0078125,...</td>\n",
              "      <td>84032.0</td>\n",
              "      <td>186.0</td>\n",
              "      <td>32.59</td>\n",
              "    </tr>\n",
              "    <tr>\n",
              "      <th>1</th>\n",
              "      <td>0.666845</td>\n",
              "      <td>{\"1\": {\"precision\": 0.6141875505254648, \"recal...</td>\n",
              "      <td>[[3039, 150, 206, 95, 385], [892, 132, 293, 16...</td>\n",
              "      <td>review_body-word2vec5-111909-512-nolda-DNN_340...</td>\n",
              "      <td>word2vec</td>\n",
              "      <td>10.98</td>\n",
              "      <td>review_body-word2vec5-111909-512-nolda.csv</td>\n",
              "      <td>{\"0\": [0.0, 0.0, 0.0, 0.0, 0.0, 4.148861137617...</td>\n",
              "      <td>0.866301</td>\n",
              "      <td>512.0</td>\n",
              "      <td>drive/My Drive/Springboard/capstone/models/rev...</td>\n",
              "      <td>DNN_340_batchnorm</td>\n",
              "      <td>&lt;keras.callbacks.History object at 0x7f976c0f4...</td>\n",
              "      <td>10.98</td>\n",
              "      <td>{\"auc_1\": 0.9450905669619495, \"auc_2\": 0.84615...</td>\n",
              "      <td>success</td>\n",
              "      <td>2019-07-30 01:50:37</td>\n",
              "      <td>27978.0</td>\n",
              "      <td>512.0</td>\n",
              "      <td>NaN</td>\n",
              "      <td>{\"0\": [0.0, 0.00025806451612903227, 0.00103225...</td>\n",
              "      <td>83931.0</td>\n",
              "      <td>512.0</td>\n",
              "      <td>10.98</td>\n",
              "    </tr>\n",
              "    <tr>\n",
              "      <th>2</th>\n",
              "      <td>0.679019</td>\n",
              "      <td>{\"1\": {\"precision\": 0.6480066102045032, \"recal...</td>\n",
              "      <td>[[3137, 62, 476, 40, 253], [843, 60, 603, 132,...</td>\n",
              "      <td>amazon_reviews_us_Wireless_v1_00-preprocessed-...</td>\n",
              "      <td>300.0</td>\n",
              "      <td>8.79</td>\n",
              "      <td>drive/My Drive/Springboard/capstone/data/amazo...</td>\n",
              "      <td>{\"0\": [0.0, 0.0, 0.0, 4.159214740257039e-05, 4...</td>\n",
              "      <td>0.823435</td>\n",
              "      <td>186.0</td>\n",
              "      <td>drive/My Drive/Springboard/capstone/models/ama...</td>\n",
              "      <td>biGRU_1layer_attention</td>\n",
              "      <td>&lt;keras.callbacks.History object at 0x7f6df2f58...</td>\n",
              "      <td>8.79</td>\n",
              "      <td>{\"auc_1\": 0.9540099546947473, \"auc_2\": 0.86369...</td>\n",
              "      <td>success</td>\n",
              "      <td>2019-07-30 01:51:39</td>\n",
              "      <td>28011.0</td>\n",
              "      <td>186.0</td>\n",
              "      <td>&lt;keras_preprocessing.text.Tokenizer object at ...</td>\n",
              "      <td>{\"0\": [0.0, 0.00025201612903225806, 0.01058467...</td>\n",
              "      <td>84032.0</td>\n",
              "      <td>186.0</td>\n",
              "      <td>8.79</td>\n",
              "    </tr>\n",
              "    <tr>\n",
              "      <th>3</th>\n",
              "      <td>0.668990</td>\n",
              "      <td>{\"1\": {\"precision\": 0.6134569850039463, \"recal...</td>\n",
              "      <td>[[3109, 147, 201, 93, 325], [911, 128, 310, 19...</td>\n",
              "      <td>review_body-word2vec5-111909-512-nolda-DNN_384...</td>\n",
              "      <td>word2vec</td>\n",
              "      <td>17.84</td>\n",
              "      <td>review_body-word2vec5-111909-512-nolda.csv</td>\n",
              "      <td>{\"0\": [0.0, 0.0, 0.0, 0.0, 0.0, 4.148861137617...</td>\n",
              "      <td>0.846571</td>\n",
              "      <td>512.0</td>\n",
              "      <td>drive/My Drive/Springboard/capstone/models/rev...</td>\n",
              "      <td>DNN_384_384</td>\n",
              "      <td>&lt;keras.callbacks.History object at 0x7fab83bd1...</td>\n",
              "      <td>17.84</td>\n",
              "      <td>{\"auc_1\": 0.9488228396143968, \"auc_2\": 0.85419...</td>\n",
              "      <td>success</td>\n",
              "      <td>2019-07-30 01:58:04</td>\n",
              "      <td>27978.0</td>\n",
              "      <td>512.0</td>\n",
              "      <td>NaN</td>\n",
              "      <td>{\"0\": [0.0, 0.00025806451612903227, 0.00077419...</td>\n",
              "      <td>83931.0</td>\n",
              "      <td>512.0</td>\n",
              "      <td>17.84</td>\n",
              "    </tr>\n",
              "    <tr>\n",
              "      <th>4</th>\n",
              "      <td>0.668704</td>\n",
              "      <td>{\"1\": {\"precision\": 0.5902151922015818, \"recal...</td>\n",
              "      <td>[[3209, 64, 239, 83, 280], [994, 75, 341, 179,...</td>\n",
              "      <td>review_body-word2vec5-111909-512-nolda-DNN_128...</td>\n",
              "      <td>word2vec</td>\n",
              "      <td>4.85</td>\n",
              "      <td>review_body-word2vec5-111909-512-nolda.csv</td>\n",
              "      <td>{\"0\": [0.0, 0.0, 0.0, 0.0, 0.0, 4.148861137617...</td>\n",
              "      <td>0.848801</td>\n",
              "      <td>512.0</td>\n",
              "      <td>drive/My Drive/Springboard/capstone/models/rev...</td>\n",
              "      <td>DNN_128_128</td>\n",
              "      <td>&lt;keras.callbacks.History object at 0x7f87970b1...</td>\n",
              "      <td>4.85</td>\n",
              "      <td>{\"auc_1\": 0.9489704320035117, \"auc_2\": 0.85306...</td>\n",
              "      <td>success</td>\n",
              "      <td>2019-07-30 01:58:55</td>\n",
              "      <td>27978.0</td>\n",
              "      <td>512.0</td>\n",
              "      <td>NaN</td>\n",
              "      <td>{\"0\": [0.0, 0.00025806451612903227, 0.00051612...</td>\n",
              "      <td>83931.0</td>\n",
              "      <td>512.0</td>\n",
              "      <td>4.85</td>\n",
              "    </tr>\n",
              "    <tr>\n",
              "      <th>5</th>\n",
              "      <td>0.667918</td>\n",
              "      <td>{\"1\": {\"precision\": 0.5995067349649023, \"recal...</td>\n",
              "      <td>[[3160, 127, 223, 80, 285], [972, 119, 316, 18...</td>\n",
              "      <td>review_body-word2vec5-111909-512-nolda-DNN_128...</td>\n",
              "      <td>word2vec</td>\n",
              "      <td>6.92</td>\n",
              "      <td>review_body-word2vec5-111909-512-nolda.csv</td>\n",
              "      <td>{\"0\": [0.0, 0.0, 0.0, 0.0, 0.0, 4.148861137617...</td>\n",
              "      <td>0.846016</td>\n",
              "      <td>512.0</td>\n",
              "      <td>drive/My Drive/Springboard/capstone/models/rev...</td>\n",
              "      <td>DNN_128_128_batchnorm</td>\n",
              "      <td>&lt;keras.callbacks.History object at 0x7f62cd50f...</td>\n",
              "      <td>6.92</td>\n",
              "      <td>{\"auc_1\": 0.949632140558062, \"auc_2\": 0.854176...</td>\n",
              "      <td>success</td>\n",
              "      <td>2019-07-30 02:08:19</td>\n",
              "      <td>27978.0</td>\n",
              "      <td>512.0</td>\n",
              "      <td>NaN</td>\n",
              "      <td>{\"0\": [0.0, 0.00025806451612903227, 0.00077419...</td>\n",
              "      <td>83931.0</td>\n",
              "      <td>512.0</td>\n",
              "      <td>6.92</td>\n",
              "    </tr>\n",
              "    <tr>\n",
              "      <th>6</th>\n",
              "      <td>0.676877</td>\n",
              "      <td>{\"1\": {\"precision\": 0.6334449478038211, \"recal...</td>\n",
              "      <td>[[3216, 54, 297, 67, 334], [947, 52, 436, 176,...</td>\n",
              "      <td>amazon_reviews_us_Wireless_v1_00-preprocessed-...</td>\n",
              "      <td>300.0</td>\n",
              "      <td>13.37</td>\n",
              "      <td>drive/My Drive/Springboard/capstone/data/amazo...</td>\n",
              "      <td>{\"0\": [0.0, 0.0, 0.0, 4.159214740257039e-05, 4...</td>\n",
              "      <td>0.830913</td>\n",
              "      <td>186.0</td>\n",
              "      <td>drive/My Drive/Springboard/capstone/models/ama...</td>\n",
              "      <td>biGRU_2layer_attention</td>\n",
              "      <td>&lt;keras.callbacks.History object at 0x7f469db69...</td>\n",
              "      <td>13.37</td>\n",
              "      <td>{\"auc_1\": 0.9543024780953614, \"auc_2\": 0.86158...</td>\n",
              "      <td>success</td>\n",
              "      <td>2019-07-30 02:17:58</td>\n",
              "      <td>28011.0</td>\n",
              "      <td>186.0</td>\n",
              "      <td>&lt;keras_preprocessing.text.Tokenizer object at ...</td>\n",
              "      <td>{\"0\": [0.0, 0.00025201612903225806, 0.00806451...</td>\n",
              "      <td>84032.0</td>\n",
              "      <td>186.0</td>\n",
              "      <td>13.37</td>\n",
              "    </tr>\n",
              "    <tr>\n",
              "      <th>7</th>\n",
              "      <td>0.672771</td>\n",
              "      <td>{\"1\": {\"precision\": 0.635506519558676, \"recall...</td>\n",
              "      <td>[[3168, 179, 251, 41, 329], [877, 178, 379, 10...</td>\n",
              "      <td>amazon_reviews_us_Wireless_v1_00-preprocessed-...</td>\n",
              "      <td>300.0</td>\n",
              "      <td>19.33</td>\n",
              "      <td>drive/My Drive/Springboard/capstone/data/amazo...</td>\n",
              "      <td>{\"0\": [0.0, 0.0, 0.0, 4.159214740257039e-05, 4...</td>\n",
              "      <td>0.851762</td>\n",
              "      <td>186.0</td>\n",
              "      <td>drive/My Drive/Springboard/capstone/models/ama...</td>\n",
              "      <td>LSTM_1layer</td>\n",
              "      <td>&lt;keras.callbacks.History object at 0x7f141a65a...</td>\n",
              "      <td>19.33</td>\n",
              "      <td>{\"auc_1\": 0.949565040265559, \"auc_2\": 0.854623...</td>\n",
              "      <td>success</td>\n",
              "      <td>2019-07-30 02:31:38</td>\n",
              "      <td>28011.0</td>\n",
              "      <td>186.0</td>\n",
              "      <td>&lt;keras_preprocessing.text.Tokenizer object at ...</td>\n",
              "      <td>{\"0\": [0.0, 0.00025201612903225806, 0.00831653...</td>\n",
              "      <td>84032.0</td>\n",
              "      <td>186.0</td>\n",
              "      <td>19.33</td>\n",
              "    </tr>\n",
              "    <tr>\n",
              "      <th>8</th>\n",
              "      <td>0.651815</td>\n",
              "      <td>{\"1\": {\"precision\": 0.7151795429815017, \"recal...</td>\n",
              "      <td>[[2629, 417, 411, 116, 395], [567, 293, 484, 2...</td>\n",
              "      <td>amazon_reviews_us_Wireless_v1_00-preprocessed-...</td>\n",
              "      <td>32.0</td>\n",
              "      <td>0.31</td>\n",
              "      <td>drive/My Drive/Springboard/capstone/data/amazo...</td>\n",
              "      <td>{\"0\": [0.0, 0.0, 0.0, 4.159214740257039e-05, 4...</td>\n",
              "      <td>1.011150</td>\n",
              "      <td>186.0</td>\n",
              "      <td>drive/My Drive/Springboard/capstone/models/ama...</td>\n",
              "      <td>CNN_1layerEmbedding32</td>\n",
              "      <td>&lt;keras.callbacks.History object at 0x7f698f214...</td>\n",
              "      <td>0.31</td>\n",
              "      <td>{\"auc_1\": 0.9417336204505233, \"auc_2\": 0.84282...</td>\n",
              "      <td>success</td>\n",
              "      <td>2019-07-30 03:10:37</td>\n",
              "      <td>28011.0</td>\n",
              "      <td>186.0</td>\n",
              "      <td>&lt;keras_preprocessing.text.Tokenizer object at ...</td>\n",
              "      <td>{\"0\": [0.0, 0.00025201612903225806, 0.00352822...</td>\n",
              "      <td>84032.0</td>\n",
              "      <td>186.0</td>\n",
              "      <td>0.31</td>\n",
              "    </tr>\n",
              "    <tr>\n",
              "      <th>9</th>\n",
              "      <td>0.660098</td>\n",
              "      <td>{\"1\": {\"precision\": 0.6489338789575705, \"recal...</td>\n",
              "      <td>[[3013, 358, 281, 56, 260], [799, 312, 421, 11...</td>\n",
              "      <td>amazon_reviews_us_Wireless_v1_00-preprocessed-...</td>\n",
              "      <td>300.0</td>\n",
              "      <td>0.51</td>\n",
              "      <td>drive/My Drive/Springboard/capstone/data/amazo...</td>\n",
              "      <td>{\"0\": [0.0, 0.0, 0.0, 4.159214740257039e-05, 4...</td>\n",
              "      <td>0.946453</td>\n",
              "      <td>186.0</td>\n",
              "      <td>drive/My Drive/Springboard/capstone/models/ama...</td>\n",
              "      <td>CNN_1layerEmbedding300</td>\n",
              "      <td>&lt;keras.callbacks.History object at 0x7f6862141...</td>\n",
              "      <td>0.51</td>\n",
              "      <td>{\"auc_1\": 0.9442655948331147, \"auc_2\": 0.85123...</td>\n",
              "      <td>success</td>\n",
              "      <td>2019-07-30 04:01:36</td>\n",
              "      <td>28011.0</td>\n",
              "      <td>186.0</td>\n",
              "      <td>drive/My Drive/Springboard/capstone/models/dl-...</td>\n",
              "      <td>{\"0\": [0.0, 0.00025201612903225806, 0.00756048...</td>\n",
              "      <td>84032.0</td>\n",
              "      <td>186.0</td>\n",
              "      <td>0.51</td>\n",
              "    </tr>\n",
              "    <tr>\n",
              "      <th>10</th>\n",
              "      <td>0.668525</td>\n",
              "      <td>{\"1\": {\"precision\": 0.5946800595238095, \"recal...</td>\n",
              "      <td>[[3197, 90, 200, 95, 293], [980, 100, 298, 176...</td>\n",
              "      <td>review_body-word2vec5-111909-512-nolda-DNN_128...</td>\n",
              "      <td>word2vec</td>\n",
              "      <td>5.29</td>\n",
              "      <td>review_body-word2vec5-111909-512-nolda.csv</td>\n",
              "      <td>{\"0\": [0.0, 0.0, 0.0, 0.0, 0.0, 4.148861137617...</td>\n",
              "      <td>0.853762</td>\n",
              "      <td>512.0</td>\n",
              "      <td>drive/My Drive/Springboard/capstone/models/rev...</td>\n",
              "      <td>DNN_128_128</td>\n",
              "      <td>&lt;keras.callbacks.History object at 0x7f4346ce7...</td>\n",
              "      <td>5.29</td>\n",
              "      <td>{\"auc_1\": 0.9482033156092202, \"auc_2\": 0.85068...</td>\n",
              "      <td>success</td>\n",
              "      <td>2019-07-30 04:14:21</td>\n",
              "      <td>27978.0</td>\n",
              "      <td>512.0</td>\n",
              "      <td>NaN</td>\n",
              "      <td>{\"0\": [0.0, 0.00025806451612903227, 0.00051612...</td>\n",
              "      <td>83931.0</td>\n",
              "      <td>512.0</td>\n",
              "      <td>5.29</td>\n",
              "    </tr>\n",
              "    <tr>\n",
              "      <th>11</th>\n",
              "      <td>0.667524</td>\n",
              "      <td>{\"1\": {\"precision\": 0.613613411432034, \"recall...</td>\n",
              "      <td>[[3038, 141, 245, 84, 367], [900, 129, 316, 16...</td>\n",
              "      <td>review_body-word2vec5-111909-512-nolda-DNN_340...</td>\n",
              "      <td>word2vec</td>\n",
              "      <td>5.15</td>\n",
              "      <td>review_body-word2vec5-111909-512-nolda.csv</td>\n",
              "      <td>{\"0\": [0.0, 0.0, 0.0, 0.0, 0.0, 4.148861137617...</td>\n",
              "      <td>0.862130</td>\n",
              "      <td>512.0</td>\n",
              "      <td>drive/My Drive/Springboard/capstone/models/rev...</td>\n",
              "      <td>DNN_340</td>\n",
              "      <td>&lt;keras.callbacks.History object at 0x7f976c0f7...</td>\n",
              "      <td>5.15</td>\n",
              "      <td>{\"auc_1\": 0.9463142508026707, \"auc_2\": 0.84773...</td>\n",
              "      <td>success</td>\n",
              "      <td>2019-07-30 04:17:20</td>\n",
              "      <td>27978.0</td>\n",
              "      <td>512.0</td>\n",
              "      <td>drive/My Drive/Springboard/capstone/models/dl-...</td>\n",
              "      <td>{\"0\": [0.0, 0.00025806451612903227, 0.00103225...</td>\n",
              "      <td>83931.0</td>\n",
              "      <td>512.0</td>\n",
              "      <td>5.15</td>\n",
              "    </tr>\n",
              "  </tbody>\n",
              "</table>\n",
              "</div>"
            ],
            "text/plain": [
              "    accuracy  ... train_time_min\n",
              "0   0.677591  ...          32.59\n",
              "1   0.666845  ...          10.98\n",
              "2   0.679019  ...           8.79\n",
              "3   0.668990  ...          17.84\n",
              "4   0.668704  ...           4.85\n",
              "5   0.667918  ...           6.92\n",
              "6   0.676877  ...          13.37\n",
              "7   0.672771  ...          19.33\n",
              "8   0.651815  ...           0.31\n",
              "9   0.660098  ...           0.51\n",
              "10  0.668525  ...           5.29\n",
              "11  0.667524  ...           5.15\n",
              "\n",
              "[12 rows x 24 columns]"
            ]
          },
          "metadata": {
            "tags": []
          },
          "execution_count": 48
        }
      ]
    }
  ]
}