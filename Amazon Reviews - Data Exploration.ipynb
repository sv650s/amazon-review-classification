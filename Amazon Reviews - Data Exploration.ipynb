{
 "cells": [
  {
   "cell_type": "markdown",
   "metadata": {},
   "source": [
    "# Amazon Review Data Exploration\n",
    "\n",
    "https://s3.amazonaws.com/amazon-reviews-pds/tsv/index.txt\n",
    "\n",
    "SAMPLE CONTENT:\n",
    "https://s3.amazonaws.com/amazon-reviews-pds/tsv/sample_us.tsv\n",
    "https://s3.amazonaws.com/amazon-reviews-pds/tsv/sample_fr.tsv\n",
    "\n",
    "|DATA COLUMNS:| Description |\n",
    "|-------------|--------|\n",
    "|marketplace       | 2 letter country code of the marketplace where the review was written. |\n",
    "|customer_id       | Random identifier that can be used to aggregate reviews written by a single author. |\n",
    "|review_id         | The unique ID of the review. |\n",
    "|product_id        | The unique Product ID the review pertains to. In the multilingual dataset the reviews                    for the same product in different countries can be grouped by the same product_id. |\n",
    "|product_parent    | Random identifier that can be used to aggregate reviews for the same product. |\n",
    "|product_title     | Title of the product. |\n",
    "|product_category  | Broad product category that can be used to group reviews (also used to group the dataset into coherent parts). |\n",
    "|star_rating       | The 1-5 star rating of the review. |\n",
    "|helpful_votes     | Number of helpful votes. |\n",
    "|total_votes       | Number of total votes the review received. |\n",
    "|vine              | Review was written as part of the Vine program. |\n",
    "|verified_purchase | The review is on a verified purchase. |\n",
    "|review_headline   | The title of the review. |\n",
    "|review_body       | The review text. |\n",
    "|review_date       | The date the review was written. |\n",
    "\n",
    "DATA FORMAT\n",
    "Tab ('\\t') separated text file, without quote or escape characters.\n",
    "First line in each file is header; 1 line corresponds to 1 record.\n"
   ]
  },
  {
   "cell_type": "code",
   "execution_count": 31,
   "metadata": {},
   "outputs": [],
   "source": [
    "import pandas as pd\n",
    "from pandas import DataFrame\n",
    "from pandas import Series\n",
    "import numpy as np\n",
    "import matplotlib.pyplot as plt\n",
    "%matplotlib inline\n",
    "\n",
    "\n",
    "# global variables\n",
    "COLUMNS_TO_DROP=[\"marketplace\", \"vine\", \"verified_purchase\"]\n",
    "USE_PANDAS=True\n",
    "SEPERATOR=\",\"\n",
    "\n",
    "\n",
    "# full 9mil Wireless reviews - not enough memory locally to do this\n",
    "ORIG_FILE_WIRELESS=\"dataset/amazon_reviews/amazon_reviews_us_Wireless_v1_00.tsv\""
   ]
  },
  {
   "cell_type": "code",
   "execution_count": 2,
   "metadata": {},
   "outputs": [],
   "source": [
    "# sample original file to create smaller files with different sampling rates to inspect\n",
    "\n",
    "from file_util import convert_tsv_to_csv\n",
    "\n",
    "# about 360k\n",
    "DATA_FILE_SMALL = \"dataset/amazon_reviews/amazon_reviews_us_Wireless_v1_00-small.csv\"\n",
    "# about 450k\n",
    "DATA_FILE_MEDIUM = \"dataset/amazon_reviews/amazon_reviews_us_Wireless_v1_00-medium.csv\"\n",
    "# about 900k\n",
    "DATA_FILE_LARGE = \"dataset/amazon_reviews/amazon_reviews_us_Wireless_v1_00-large.csv\"\n",
    "\n",
    "# already ran this\n",
    "# convert_tsv_to_csv(ORIG_FILE_WIRELESS, DATA_FILE_SMALL, 25)\n",
    "# convert_tsv_to_csv(ORIG_FILE_WIRELESS, DATA_FILE_MEDIUM, 20)\n",
    "# convert_tsv_to_csv(ORIG_FILE_WIRELESS, DATA_FILE_LARGE, 10)\n",
    "\n",
    "\n",
    "DATA_FILE=DATA_FILE_MEDIUM"
   ]
  },
  {
   "cell_type": "markdown",
   "metadata": {},
   "source": [
    "# Reading File With Pandas\n",
    "\n",
    "## This method does not seem to work. It starts merging multiple lines into the healine column of the dataframe"
   ]
  },
  {
   "cell_type": "code",
   "execution_count": 30,
   "metadata": {},
   "outputs": [],
   "source": [
    "\n",
    "# if USE_PANDAS == True:\n",
    "\n",
    "#     # pandas is doing something weird. The lines that says have bad number of columns actually have the right columns???\n",
    "#     reviews = pd.read_csv(DATA_FILE, sep=SEPERATOR, \n",
    "#                              parse_dates=[\"review_date\"], \n",
    "#                              warn_bad_lines=True, \n",
    "#                              error_bad_lines=False)\n",
    "#     reviews.info()"
   ]
  },
  {
   "cell_type": "markdown",
   "metadata": {},
   "source": [
    "## pandas for some reason does not read the amazon TSV correctly and starts to merge lines together. Originally, I tried this method to construct the DataFrame but this proved to be very inefficient and slow. Took about 30 minutes to create a DF that had about 100k entries\n",
    "\n",
    "commenting out since we won't be needing this"
   ]
  },
  {
   "cell_type": "code",
   "execution_count": 34,
   "metadata": {},
   "outputs": [],
   "source": [
    "# not quite ready\n",
    "# if USE_PANDAS == False:\n",
    "\n",
    "#     columns = [\"marketplace\", \"customer_id\", \"review_id\", \"product_id\",\n",
    "#               \"product_parent\", \"product_title\", \"product_category\", \n",
    "#               \"star_rating\", \"helpful_votes\", \"total_votes\", \"vine\",\n",
    "#               \"verified_purchase\", \"review_headline\", \"review_body\",\n",
    "#               \"review_date\"]\n",
    "#     reviews = pd.DataFrame(columns = columns)\n",
    "#     count = 0\n",
    "#     with open(DATA_FILE, \"r\") as file:\n",
    "#         for line in file:\n",
    "#             if len(line) > 0:\n",
    "#                 line = line.rstrip(\"\\n\")\n",
    "#                 # skip the header\n",
    "#                 if count > 0:\n",
    "#                     splitted = line.split(\"\\t\")\n",
    "#                     reviews = reviews.append(pd.Series(splitted, index=columns), \n",
    "#                                    ignore_index=True)\n",
    "#                 count += 1\n",
    "#                 if count % 10000 == 0:\n",
    "#                     print(f\"processed {count}\")\n",
    "\n",
    "#     print(len(reviews))\n",
    "\n",
    "    \n",
    "# reviews.info()"
   ]
  },
  {
   "cell_type": "code",
   "execution_count": 37,
   "metadata": {},
   "outputs": [],
   "source": [
    "# if we don't use pandas, we have to set datatypes for the columns\n",
    "# if USE_PANDAS == False:\n",
    "#     reviews = reviews.astype({\n",
    "#         \"review_date\": np.datetime64,\n",
    "#         \"star_rating\": np.int64,\n",
    "#         \"helpful_votes\": np.int64,\n",
    "#         \"total_votes\": np.int64\n",
    "#     })\n",
    "# reviews.info()"
   ]
  },
  {
   "cell_type": "markdown",
   "metadata": {},
   "source": [
    "## Finally, wrote a utility to convert the file from TSV to CSV by stripping newlines and replacing tabs with , without dataframe seems to be more efficient\n",
    "\n",
    "We won't run this again since I've already created the files"
   ]
  },
  {
   "cell_type": "code",
   "execution_count": 36,
   "metadata": {},
   "outputs": [],
   "source": [
    "# sample original file to create smaller files with different sampling rates to inspect\n",
    "\n",
    "from file_util import convert_tsv_to_csv\n",
    "\n",
    "# about 300068 reviews\n",
    "DATA_FILE_SMALL = \"dataset/amazon_reviews/amazon_reviews_us_Wireless_v1_00-small.csv\"\n",
    "# about 450101 reviews\n",
    "DATA_FILE_MEDIUM = \"dataset/amazon_reviews/amazon_reviews_us_Wireless_v1_00-medium.csv\"\n",
    "# about 900203 reviews\n",
    "DATA_FILE_LARGE = \"dataset/amazon_reviews/amazon_reviews_us_Wireless_v1_00-large.csv\"\n",
    "\n",
    "# already ran this\n",
    "# convert_tsv_to_csv(ORIG_FILE_WIRELESS, DATA_FILE_SMALL, 25)\n",
    "# convert_tsv_to_csv(ORIG_FILE_WIRELESS, DATA_FILE_MEDIUM, 20)\n",
    "# convert_tsv_to_csv(ORIG_FILE_WIRELESS, DATA_FILE_LARGE, 10)\n",
    "\n",
    "\n",
    "DATA_FILE=DATA_FILE_MEDIUM"
   ]
  },
  {
   "cell_type": "markdown",
   "metadata": {},
   "source": [
    "# Now that we have data files we can use Pands"
   ]
  },
  {
   "cell_type": "code",
   "execution_count": 35,
   "metadata": {},
   "outputs": [
    {
     "name": "stdout",
     "output_type": "stream",
     "text": [
      "<class 'pandas.core.frame.DataFrame'>\n",
      "RangeIndex: 450101 entries, 0 to 450100\n",
      "Data columns (total 15 columns):\n",
      "marketplace          450101 non-null object\n",
      "customer_id          450101 non-null int64\n",
      "review_id            450101 non-null object\n",
      "product_id           450101 non-null object\n",
      "product_parent       450101 non-null int64\n",
      "product_title        450101 non-null object\n",
      "product_category     450101 non-null object\n",
      "star_rating          450101 non-null int64\n",
      "helpful_votes        450101 non-null int64\n",
      "total_votes          450101 non-null int64\n",
      "vine                 450101 non-null object\n",
      "verified_purchase    450101 non-null object\n",
      "review_headline      450097 non-null object\n",
      "review_body          450076 non-null object\n",
      "review_date          450101 non-null datetime64[ns]\n",
      "dtypes: datetime64[ns](1), int64(5), object(9)\n",
      "memory usage: 51.5+ MB\n"
     ]
    }
   ],
   "source": [
    "reviews = pd.read_csv(DATA_FILE, sep=SEPERATOR, \n",
    "                         parse_dates=[\"review_date\"])\n",
    "reviews.info()"
   ]
  },
  {
   "cell_type": "code",
   "execution_count": 38,
   "metadata": {
    "scrolled": true
   },
   "outputs": [
    {
     "name": "stdout",
     "output_type": "stream",
     "text": [
      "<class 'pandas.core.frame.DataFrame'>\n",
      "Int64Index: 450072 entries, 0 to 450100\n",
      "Data columns (total 12 columns):\n",
      "customer_id         450072 non-null int64\n",
      "review_id           450072 non-null object\n",
      "product_id          450072 non-null object\n",
      "product_parent      450072 non-null int64\n",
      "product_title       450072 non-null object\n",
      "product_category    450072 non-null object\n",
      "star_rating         450072 non-null int64\n",
      "helpful_votes       450072 non-null int64\n",
      "total_votes         450072 non-null int64\n",
      "review_headline     450072 non-null object\n",
      "review_body         450072 non-null object\n",
      "review_date         450072 non-null datetime64[ns]\n",
      "dtypes: datetime64[ns](1), int64(5), object(6)\n",
      "memory usage: 44.6+ MB\n"
     ]
    }
   ],
   "source": [
    "# looks like sometimes we have reviews with no body, no headline, and no review dates\n",
    "# let's drop those rows with missing data\n",
    "# also drop the following columns since they will always be the same\n",
    "clean_df = reviews.dropna().drop(COLUMNS_TO_DROP, axis = 1)\n",
    "clean_df.info()"
   ]
  },
  {
   "cell_type": "markdown",
   "metadata": {},
   "source": [
    "## There are ~ 14k unique products for the 450k reviews. "
   ]
  },
  {
   "cell_type": "code",
   "execution_count": 39,
   "metadata": {},
   "outputs": [
    {
     "name": "stdout",
     "output_type": "stream",
     "text": [
      "unique products: 31% (138858 out of 450072)\n"
     ]
    },
    {
     "data": {
      "text/plain": [
       "<matplotlib.axes._subplots.AxesSubplot at 0x142633a58>"
      ]
     },
     "execution_count": 39,
     "metadata": {},
     "output_type": "execute_result"
    },
    {
     "data": {
      "image/png": "[encoded data removed]",
      "text/plain": [
       "<Figure size 432x288 with 1 Axes>"
      ]
     },
     "metadata": {
      "needs_background": "light"
     },
     "output_type": "display_data"
    }
   ],
   "source": [
    "# how many products do we have?\n",
    "grouped = clean_df.groupby(\"product_parent\")\n",
    "unique_products = len(grouped)\n",
    "unique_product_percentage = round(unique_products / len(clean_df) * 100)\n",
    "print(f\"unique products: {unique_product_percentage}% ({unique_products} out of {len(clean_df)})\")\n",
    "# print(grouped.size().describe())\n",
    "# # 170k products - most only have 1 reviews\n",
    "\n",
    "grouped.size().hist()"
   ]
  },
  {
   "cell_type": "code",
   "execution_count": 48,
   "metadata": {},
   "outputs": [
    {
     "data": {
      "text/plain": [
       "<matplotlib.axes._subplots.AxesSubplot at 0x11ca9c4a8>"
      ]
     },
     "execution_count": 48,
     "metadata": {},
     "output_type": "execute_result"
    },
    {
     "data": {
      "image/png": "[encoded data removed]",
      "text/plain": [
       "<Figure size 432x288 with 1 Axes>"
      ]
     },
     "metadata": {
      "needs_background": "light"
     },
     "output_type": "display_data"
    }
   ],
   "source": [
    "quantile_list = [0., .25, .75, 1.]\n",
    "quantiles = grouped.size().quantile(quantile_list)\n",
    "quantiles.plot(kind='hist')"
   ]
  },
  {
   "cell_type": "markdown",
   "metadata": {},
   "source": [
    "## ??? I want to filter after group by to see what the day looks like, but this code commented below runs super slow"
   ]
  },
  {
   "cell_type": "code",
   "execution_count": 8,
   "metadata": {},
   "outputs": [],
   "source": [
    "# ???is there a better way to do this????\n",
    "# can we do some type of quantile or adaptive binning that would make sense?\n",
    "\n",
    "\n",
    "# # how many products have 1 reviews\n",
    "# products_one_review = len(clean_df.groupby(\"product_parent\").filter(lambda x: len(x) == 1).groupby(\"product_parent\"))\n",
    "\n",
    "# # how many products have 2 to 3 reviews\n",
    "# products_two_reviews = len(clean_df.groupby(\"product_parent\").filter(lambda x: 2 <= len(x) <= 3).groupby(\"product_parent\"))\n",
    "\n",
    "# # only 39k products have > 3 reviews\n",
    "# products_three_plus_reviews = len(clean_df.groupby(\"product_parent\").filter(lambda x: len(x) > 3).groupby(\"product_parent\"))\n",
    "\n",
    "\n",
    "\n",
    "# print(f\"1 review:\\t{round(products_one_review/total_products, 2) * 100}% ({products_one_review})\")\n",
    "# print(f\"2-3 review:\\t {round(products_two_reviews/total_products, 2) * 100}% ({products_two_reviews})\")\n",
    "# print(f\"3+ review:\\t {round(products_three_plus_reviews/total_products, 2) * 100}% ({products_three_plus_reviews})\")\n",
    "\n"
   ]
  },
  {
   "cell_type": "code",
   "execution_count": 9,
   "metadata": {},
   "outputs": [
    {
     "data": {
      "text/plain": [
       "<matplotlib.axes._subplots.AxesSubplot at 0x10bc60fd0>"
      ]
     },
     "execution_count": 9,
     "metadata": {},
     "output_type": "execute_result"
    },
    {
     "data": {
      "image/png": "[encoded data removed]",
      "text/plain": [
       "<Figure size 432x288 with 1 Axes>"
      ]
     },
     "metadata": {
      "needs_background": "light"
     },
     "output_type": "display_data"
    }
   ],
   "source": [
    "# trying some type of binning\n",
    "\n",
    "products_df = pd.DataFrame(clean_df.groupby(\"product_parent\").size(), columns=[\"count\"])\n",
    "products_df = products_df.assign(bin=lambda x: pd.cut(x[\"count\"], [0, 1, 3, x[\"count\"].max()]))\n",
    "products_df.groupby(\"bin\").size().plot(kind='bar')"
   ]
  },
  {
   "cell_type": "markdown",
   "metadata": {},
   "source": [
    "# let's look at review distribution dates"
   ]
  },
  {
   "cell_type": "code",
   "execution_count": 10,
   "metadata": {
    "scrolled": true
   },
   "outputs": [
    {
     "data": {
      "text/plain": [
       "<matplotlib.axes._subplots.AxesSubplot at 0x10c8d94a8>"
      ]
     },
     "execution_count": 10,
     "metadata": {},
     "output_type": "execute_result"
    },
    {
     "data": {
      "image/png": "[encoded data removed]",
      "text/plain": [
       "<Figure size 432x288 with 1 Axes>"
      ]
     },
     "metadata": {
      "needs_background": "light"
     },
     "output_type": "display_data"
    }
   ],
   "source": [
    "# distribution of months\n",
    "\n",
    "df = clean_df\n",
    "df[\"month\"] = df.review_date.dt.month\n",
    "df.groupby(\"month\").size().plot(kind='bar')"
   ]
  },
  {
   "cell_type": "code",
   "execution_count": 11,
   "metadata": {},
   "outputs": [
    {
     "name": "stdout",
     "output_type": "stream",
     "text": [
      "1998-12-26 00:00:00\n",
      "2015-08-31 00:00:00\n"
     ]
    }
   ],
   "source": [
    "# let's check to see if this is correct\n",
    "\n",
    "print(df[\"review_date\"].min())\n",
    "print(df[\"review_date\"].max())"
   ]
  },
  {
   "cell_type": "code",
   "execution_count": 12,
   "metadata": {},
   "outputs": [
    {
     "data": {
      "text/plain": [
       "<matplotlib.axes._subplots.AxesSubplot at 0x10ca21160>"
      ]
     },
     "execution_count": 12,
     "metadata": {},
     "output_type": "execute_result"
    },
    {
     "data": {
      "image/png": "[encoded data removed]",
      "text/plain": [
       "<Figure size 432x288 with 1 Axes>"
      ]
     },
     "metadata": {
      "needs_background": "light"
     },
     "output_type": "display_data"
    }
   ],
   "source": [
    "# distribution of days of the week\n",
    "# distribution of months\n",
    "\n",
    "df = clean_df\n",
    "df[\"day\"] = df.review_date.dt.dayofweek\n",
    "df.groupby(\"day\").size().plot(kind='bar')"
   ]
  },
  {
   "cell_type": "markdown",
   "metadata": {},
   "source": [
    "# Review Stars Distribution"
   ]
  },
  {
   "cell_type": "code",
   "execution_count": 13,
   "metadata": {},
   "outputs": [
    {
     "data": {
      "text/plain": [
       "<matplotlib.axes._subplots.AxesSubplot at 0x11b538e10>"
      ]
     },
     "execution_count": 13,
     "metadata": {},
     "output_type": "execute_result"
    },
    {
     "data": {
      "image/png": "[encoded data removed]",
      "text/plain": [
       "<Figure size 432x288 with 1 Axes>"
      ]
     },
     "metadata": {
      "needs_background": "light"
     },
     "output_type": "display_data"
    }
   ],
   "source": [
    "# let's look at distribution of stars\n",
    "clean_df.groupby(\"star_rating\").size().plot(kind='bar')\n",
    "# reviews lean heavily towards 5-stars"
   ]
  },
  {
   "cell_type": "code",
   "execution_count": 14,
   "metadata": {},
   "outputs": [
    {
     "name": "stdout",
     "output_type": "stream",
     "text": [
      "27.0 percent (119481) has votes\n",
      "21.0 percent (92863) has helpful votes\n"
     ]
    },
    {
     "data": {
      "text/html": [
       "<div>\n",
       "<style scoped>\n",
       "    .dataframe tbody tr th:only-of-type {\n",
       "        vertical-align: middle;\n",
       "    }\n",
       "\n",
       "    .dataframe tbody tr th {\n",
       "        vertical-align: top;\n",
       "    }\n",
       "\n",
       "    .dataframe thead th {\n",
       "        text-align: right;\n",
       "    }\n",
       "</style>\n",
       "<table border=\"1\" class=\"dataframe\">\n",
       "  <thead>\n",
       "    <tr style=\"text-align: right;\">\n",
       "      <th></th>\n",
       "      <th>customer_id</th>\n",
       "      <th>product_parent</th>\n",
       "      <th>star_rating</th>\n",
       "      <th>helpful_votes</th>\n",
       "      <th>total_votes</th>\n",
       "      <th>month</th>\n",
       "      <th>day</th>\n",
       "    </tr>\n",
       "  </thead>\n",
       "  <tbody>\n",
       "    <tr>\n",
       "      <th>count</th>\n",
       "      <td>4.500720e+05</td>\n",
       "      <td>4.500720e+05</td>\n",
       "      <td>450072.000000</td>\n",
       "      <td>450072.000000</td>\n",
       "      <td>450072.000000</td>\n",
       "      <td>450072.000000</td>\n",
       "      <td>450072.000000</td>\n",
       "    </tr>\n",
       "    <tr>\n",
       "      <th>mean</th>\n",
       "      <td>2.549374e+07</td>\n",
       "      <td>5.012325e+08</td>\n",
       "      <td>3.890144</td>\n",
       "      <td>0.886789</td>\n",
       "      <td>1.153622</td>\n",
       "      <td>6.235176</td>\n",
       "      <td>2.826308</td>\n",
       "    </tr>\n",
       "    <tr>\n",
       "      <th>std</th>\n",
       "      <td>1.580683e+07</td>\n",
       "      <td>2.880465e+08</td>\n",
       "      <td>1.463683</td>\n",
       "      <td>9.677613</td>\n",
       "      <td>10.437363</td>\n",
       "      <td>3.441635</td>\n",
       "      <td>1.969155</td>\n",
       "    </tr>\n",
       "    <tr>\n",
       "      <th>min</th>\n",
       "      <td>1.014100e+04</td>\n",
       "      <td>4.101000e+03</td>\n",
       "      <td>1.000000</td>\n",
       "      <td>0.000000</td>\n",
       "      <td>0.000000</td>\n",
       "      <td>1.000000</td>\n",
       "      <td>0.000000</td>\n",
       "    </tr>\n",
       "    <tr>\n",
       "      <th>25%</th>\n",
       "      <td>1.234354e+07</td>\n",
       "      <td>2.519991e+08</td>\n",
       "      <td>3.000000</td>\n",
       "      <td>0.000000</td>\n",
       "      <td>0.000000</td>\n",
       "      <td>3.000000</td>\n",
       "      <td>1.000000</td>\n",
       "    </tr>\n",
       "    <tr>\n",
       "      <th>50%</th>\n",
       "      <td>2.341612e+07</td>\n",
       "      <td>5.007431e+08</td>\n",
       "      <td>5.000000</td>\n",
       "      <td>0.000000</td>\n",
       "      <td>0.000000</td>\n",
       "      <td>6.000000</td>\n",
       "      <td>3.000000</td>\n",
       "    </tr>\n",
       "    <tr>\n",
       "      <th>75%</th>\n",
       "      <td>4.041625e+07</td>\n",
       "      <td>7.501985e+08</td>\n",
       "      <td>5.000000</td>\n",
       "      <td>0.000000</td>\n",
       "      <td>1.000000</td>\n",
       "      <td>9.000000</td>\n",
       "      <td>4.000000</td>\n",
       "    </tr>\n",
       "    <tr>\n",
       "      <th>max</th>\n",
       "      <td>5.309655e+07</td>\n",
       "      <td>9.999930e+08</td>\n",
       "      <td>5.000000</td>\n",
       "      <td>2186.000000</td>\n",
       "      <td>2252.000000</td>\n",
       "      <td>12.000000</td>\n",
       "      <td>6.000000</td>\n",
       "    </tr>\n",
       "  </tbody>\n",
       "</table>\n",
       "</div>"
      ],
      "text/plain": [
       "        customer_id  product_parent    star_rating  helpful_votes  \\\n",
       "count  4.500720e+05    4.500720e+05  450072.000000  450072.000000   \n",
       "mean   2.549374e+07    5.012325e+08       3.890144       0.886789   \n",
       "std    1.580683e+07    2.880465e+08       1.463683       9.677613   \n",
       "min    1.014100e+04    4.101000e+03       1.000000       0.000000   \n",
       "25%    1.234354e+07    2.519991e+08       3.000000       0.000000   \n",
       "50%    2.341612e+07    5.007431e+08       5.000000       0.000000   \n",
       "75%    4.041625e+07    7.501985e+08       5.000000       0.000000   \n",
       "max    5.309655e+07    9.999930e+08       5.000000    2186.000000   \n",
       "\n",
       "         total_votes          month            day  \n",
       "count  450072.000000  450072.000000  450072.000000  \n",
       "mean        1.153622       6.235176       2.826308  \n",
       "std        10.437363       3.441635       1.969155  \n",
       "min         0.000000       1.000000       0.000000  \n",
       "25%         0.000000       3.000000       1.000000  \n",
       "50%         0.000000       6.000000       3.000000  \n",
       "75%         1.000000       9.000000       4.000000  \n",
       "max      2252.000000      12.000000       6.000000  "
      ]
     },
     "execution_count": 14,
     "metadata": {},
     "output_type": "execute_result"
    }
   ],
   "source": [
    "# let's look at what percentage of reviews have votes\n",
    "print(f\"{round(len(clean_df[(clean_df.total_votes > 0)]) / len(clean_df), 2)* 100} percent \"\\\n",
    "      f\"({len(clean_df[(clean_df.total_votes > 0)])}) has votes\")\n",
    "# let's look at what percentage of reviews have votes\n",
    "print(f\"{round(len(clean_df[(clean_df.helpful_votes > 0)]) / len(clean_df), 2)* 100} percent \"\\\n",
    "            f\"({len(clean_df[(clean_df.helpful_votes > 0)])}) has helpful votes\")\n",
    "\n",
    "\n",
    "# let's look at distribution of total_votes\n",
    "clean_df.describe()\n",
    "# looks like most do not have any votes"
   ]
  },
  {
   "cell_type": "markdown",
   "metadata": {},
   "source": [
    "# Review Headlines"
   ]
  },
  {
   "cell_type": "markdown",
   "metadata": {},
   "source": [
    "Looks like the most frequent number of words in headline is 2\n",
    "\n",
    "50% have 2700 words or less in headlines"
   ]
  },
  {
   "cell_type": "code",
   "execution_count": 15,
   "metadata": {},
   "outputs": [
    {
     "name": "stdout",
     "output_type": "stream",
     "text": [
      "count        33.000000\n",
      "mean      13638.545455\n",
      "std       33101.153839\n",
      "min           1.000000\n",
      "25%         135.000000\n",
      "50%         948.000000\n",
      "75%       11019.000000\n",
      "max      180832.000000\n",
      "dtype: float64\n"
     ]
    },
    {
     "data": {
      "text/plain": [
       "<matplotlib.axes._subplots.AxesSubplot at 0x127cd51d0>"
      ]
     },
     "execution_count": 15,
     "metadata": {},
     "output_type": "execute_result"
    },
    {
     "data": {
      "image/png": "[encoded data removed]",
      "text/plain": [
       "<Figure size 432x288 with 1 Axes>"
      ]
     },
     "metadata": {
      "needs_background": "light"
     },
     "output_type": "display_data"
    }
   ],
   "source": [
    "# let's look at wordcount for headlines\n",
    "df = clean_df\n",
    "# this doesn't work\n",
    "# df = df.apply(review_headline_wc=lambda x: len(x[\"review_headline\"].str.split()))\n",
    "# this doesn't work either - seems to be applying split across all headlines\n",
    "# df[\"review_headline_wc\"] = df[\"review_headline\"].str.split().count()\n",
    "\n",
    "\n",
    "df[\"review_headline_wc\"] = df[\"review_headline\"].apply(lambda x: len(x.split()))\n",
    "\n",
    "grouped = df.groupby(\"review_headline_wc\")\n",
    "print(grouped.size().describe())\n",
    "\n",
    "grouped.size().plot(kind='bar')"
   ]
  },
  {
   "cell_type": "code",
   "execution_count": 16,
   "metadata": {},
   "outputs": [
    {
     "data": {
      "text/plain": [
       "review_headline_wc\n",
       "1      38743\n",
       "2     180832\n",
       "3      52599\n",
       "4      42836\n",
       "5      31966\n",
       "6      24460\n",
       "7      16229\n",
       "8      11821\n",
       "9       9096\n",
       "10     11019\n",
       "11     10409\n",
       "12      5315\n",
       "13      4187\n",
       "14      2852\n",
       "15      1772\n",
       "16      1314\n",
       "17       948\n",
       "18       789\n",
       "19       634\n",
       "20       787\n",
       "21       514\n",
       "22       255\n",
       "23       188\n",
       "24       154\n",
       "25       135\n",
       "26       105\n",
       "27        61\n",
       "28        33\n",
       "29        10\n",
       "30         5\n",
       "31         2\n",
       "32         1\n",
       "35         1\n",
       "dtype: int64"
      ]
     },
     "execution_count": 16,
     "metadata": {},
     "output_type": "execute_result"
    }
   ],
   "source": [
    "grouped.size()"
   ]
  },
  {
   "cell_type": "markdown",
   "metadata": {},
   "source": [
    "## Interesting.. If you use Pandas, the ones with largest wc grabbed multiple rows"
   ]
  },
  {
   "cell_type": "code",
   "execution_count": 17,
   "metadata": {},
   "outputs": [
    {
     "name": "stdout",
     "output_type": "stream",
     "text": [
      "384053 headline: [Exactly as described.  Love it! Will do business with them again. ... . . . . . . . . . . . . . . . . . . . .  . . .]\n",
      "384053 body: [Exactly as described.  Love it! Will do business with them again. ... . . . . . . . . . . . . . . . . . . . .  . . .]\n",
      "<class 'pandas.core.frame.DataFrame'>\n",
      "Int64Index: 450072 entries, 0 to 450100\n",
      "Data columns (total 15 columns):\n",
      "customer_id           450072 non-null int64\n",
      "review_id             450072 non-null object\n",
      "product_id            450072 non-null object\n",
      "product_parent        450072 non-null int64\n",
      "product_title         450072 non-null object\n",
      "product_category      450072 non-null object\n",
      "star_rating           450072 non-null int64\n",
      "helpful_votes         450072 non-null int64\n",
      "total_votes           450072 non-null int64\n",
      "review_headline       450072 non-null object\n",
      "review_body           450072 non-null object\n",
      "review_date           450072 non-null datetime64[ns]\n",
      "month                 450072 non-null int64\n",
      "day                   450072 non-null int64\n",
      "review_headline_wc    450072 non-null int64\n",
      "dtypes: datetime64[ns](1), int64(8), object(6)\n",
      "memory usage: 54.9+ MB\n"
     ]
    }
   ],
   "source": [
    "df = clean_df\n",
    "for index, row in df[(df[\"review_headline_wc\"] == df.review_headline_wc.max())].head(1).iterrows():\n",
    "    print(f'{index} headline: [{row[\"review_headline\"]}]')\n",
    "    print(f'{index} body: [{row[\"review_body\"]}]')\n",
    "clean_df.info()"
   ]
  },
  {
   "cell_type": "markdown",
   "metadata": {},
   "source": [
    "# Review Body"
   ]
  },
  {
   "cell_type": "code",
   "execution_count": 18,
   "metadata": {},
   "outputs": [
    {
     "data": {
      "text/html": [
       "<div>\n",
       "<style scoped>\n",
       "    .dataframe tbody tr th:only-of-type {\n",
       "        vertical-align: middle;\n",
       "    }\n",
       "\n",
       "    .dataframe tbody tr th {\n",
       "        vertical-align: top;\n",
       "    }\n",
       "\n",
       "    .dataframe thead th {\n",
       "        text-align: right;\n",
       "    }\n",
       "</style>\n",
       "<table border=\"1\" class=\"dataframe\">\n",
       "  <thead>\n",
       "    <tr style=\"text-align: right;\">\n",
       "      <th></th>\n",
       "      <th>customer_id</th>\n",
       "      <th>review_id</th>\n",
       "      <th>product_id</th>\n",
       "      <th>product_parent</th>\n",
       "      <th>product_title</th>\n",
       "      <th>product_category</th>\n",
       "      <th>star_rating</th>\n",
       "      <th>helpful_votes</th>\n",
       "      <th>total_votes</th>\n",
       "      <th>review_headline</th>\n",
       "      <th>review_body</th>\n",
       "      <th>review_date</th>\n",
       "      <th>month</th>\n",
       "      <th>day</th>\n",
       "      <th>review_headline_wc</th>\n",
       "      <th>review_body_wc</th>\n",
       "    </tr>\n",
       "  </thead>\n",
       "  <tbody>\n",
       "    <tr>\n",
       "      <th>0</th>\n",
       "      <td>6042304</td>\n",
       "      <td>R2DRG0UZXJQ0PE</td>\n",
       "      <td>B00TN4J1TA</td>\n",
       "      <td>716174627</td>\n",
       "      <td>Anker Aluminum Multi-Angle Universal Phone and...</td>\n",
       "      <td>Wireless</td>\n",
       "      <td>5</td>\n",
       "      <td>0</td>\n",
       "      <td>0</td>\n",
       "      <td>Five Stars</td>\n",
       "      <td>This is well worth the money.</td>\n",
       "      <td>2015-08-31</td>\n",
       "      <td>8</td>\n",
       "      <td>0</td>\n",
       "      <td>2</td>\n",
       "      <td>6</td>\n",
       "    </tr>\n",
       "    <tr>\n",
       "      <th>1</th>\n",
       "      <td>1393265</td>\n",
       "      <td>R2ZHHWBPM9FBD8</td>\n",
       "      <td>B00KVAUEFK</td>\n",
       "      <td>91818040</td>\n",
       "      <td>Xperia Z2 Case, MOTOMO [Black] SONY Xperia Z2 ...</td>\n",
       "      <td>Wireless</td>\n",
       "      <td>5</td>\n",
       "      <td>0</td>\n",
       "      <td>0</td>\n",
       "      <td>Five Stars</td>\n",
       "      <td>love it</td>\n",
       "      <td>2015-08-31</td>\n",
       "      <td>8</td>\n",
       "      <td>0</td>\n",
       "      <td>2</td>\n",
       "      <td>2</td>\n",
       "    </tr>\n",
       "    <tr>\n",
       "      <th>2</th>\n",
       "      <td>3834496</td>\n",
       "      <td>R3VKL3BZ460UIX</td>\n",
       "      <td>B00G9AT7LI</td>\n",
       "      <td>66852532</td>\n",
       "      <td>LifeProof FRE iPhone 5c Waterproof Case - Reta...</td>\n",
       "      <td>Wireless</td>\n",
       "      <td>5</td>\n",
       "      <td>0</td>\n",
       "      <td>0</td>\n",
       "      <td>Five Stars</td>\n",
       "      <td>Everything was great. Thank you.</td>\n",
       "      <td>2015-08-31</td>\n",
       "      <td>8</td>\n",
       "      <td>0</td>\n",
       "      <td>2</td>\n",
       "      <td>5</td>\n",
       "    </tr>\n",
       "    <tr>\n",
       "      <th>3</th>\n",
       "      <td>48623501</td>\n",
       "      <td>R1G7J2VAMI4AEC</td>\n",
       "      <td>B00LBK7QBY</td>\n",
       "      <td>361030039</td>\n",
       "      <td>Universal Waterproof Case, JOTO CellPhone Dry ...</td>\n",
       "      <td>Wireless</td>\n",
       "      <td>5</td>\n",
       "      <td>0</td>\n",
       "      <td>0</td>\n",
       "      <td>Good product. Please note that it is not a ...</td>\n",
       "      <td>Good product.  Please note that it is not a fl...</td>\n",
       "      <td>2015-08-31</td>\n",
       "      <td>8</td>\n",
       "      <td>0</td>\n",
       "      <td>10</td>\n",
       "      <td>33</td>\n",
       "    </tr>\n",
       "    <tr>\n",
       "      <th>4</th>\n",
       "      <td>17859156</td>\n",
       "      <td>R348421ZSQV6E4</td>\n",
       "      <td>B00DY6KZ2A</td>\n",
       "      <td>679544351</td>\n",
       "      <td>amPen New Hybrid Stylus Replacement Tip (5-Pack)</td>\n",
       "      <td>Wireless</td>\n",
       "      <td>5</td>\n",
       "      <td>0</td>\n",
       "      <td>0</td>\n",
       "      <td>Five Stars</td>\n",
       "      <td>Works well and the replacement tips make it a ...</td>\n",
       "      <td>2015-08-31</td>\n",
       "      <td>8</td>\n",
       "      <td>0</td>\n",
       "      <td>2</td>\n",
       "      <td>11</td>\n",
       "    </tr>\n",
       "  </tbody>\n",
       "</table>\n",
       "</div>"
      ],
      "text/plain": [
       "   customer_id       review_id  product_id  product_parent  \\\n",
       "0      6042304  R2DRG0UZXJQ0PE  B00TN4J1TA       716174627   \n",
       "1      1393265  R2ZHHWBPM9FBD8  B00KVAUEFK        91818040   \n",
       "2      3834496  R3VKL3BZ460UIX  B00G9AT7LI        66852532   \n",
       "3     48623501  R1G7J2VAMI4AEC  B00LBK7QBY       361030039   \n",
       "4     17859156  R348421ZSQV6E4  B00DY6KZ2A       679544351   \n",
       "\n",
       "                                       product_title product_category  \\\n",
       "0  Anker Aluminum Multi-Angle Universal Phone and...         Wireless   \n",
       "1  Xperia Z2 Case, MOTOMO [Black] SONY Xperia Z2 ...         Wireless   \n",
       "2  LifeProof FRE iPhone 5c Waterproof Case - Reta...         Wireless   \n",
       "3  Universal Waterproof Case, JOTO CellPhone Dry ...         Wireless   \n",
       "4   amPen New Hybrid Stylus Replacement Tip (5-Pack)         Wireless   \n",
       "\n",
       "   star_rating  helpful_votes  total_votes  \\\n",
       "0            5              0            0   \n",
       "1            5              0            0   \n",
       "2            5              0            0   \n",
       "3            5              0            0   \n",
       "4            5              0            0   \n",
       "\n",
       "                                  review_headline  \\\n",
       "0                                      Five Stars   \n",
       "1                                      Five Stars   \n",
       "2                                      Five Stars   \n",
       "3  Good product. Please note that it is not a ...   \n",
       "4                                      Five Stars   \n",
       "\n",
       "                                         review_body review_date  month  day  \\\n",
       "0                      This is well worth the money.  2015-08-31      8    0   \n",
       "1                                            love it  2015-08-31      8    0   \n",
       "2                   Everything was great. Thank you.  2015-08-31      8    0   \n",
       "3  Good product.  Please note that it is not a fl...  2015-08-31      8    0   \n",
       "4  Works well and the replacement tips make it a ...  2015-08-31      8    0   \n",
       "\n",
       "   review_headline_wc  review_body_wc  \n",
       "0                   2               6  \n",
       "1                   2               2  \n",
       "2                   2               5  \n",
       "3                  10              33  \n",
       "4                   2              11  "
      ]
     },
     "execution_count": 18,
     "metadata": {},
     "output_type": "execute_result"
    }
   ],
   "source": [
    "df = clean_df\n",
    "\n",
    "# now let's look at distribution of wc for review body\n",
    "df[\"review_body_wc\"] = df[\"review_body\"].apply(lambda x: len(x.split()))\n",
    "\n",
    "df.head()"
   ]
  },
  {
   "cell_type": "code",
   "execution_count": 19,
   "metadata": {},
   "outputs": [
    {
     "name": "stdout",
     "output_type": "stream",
     "text": [
      "min review wc: 1 max review wc: 6675\n"
     ]
    }
   ],
   "source": [
    "max_wc = df.review_body_wc.max()\n",
    "min_wc = df.review_body_wc.min()\n",
    "print(f\"min review wc: {min_wc} max review wc: {max_wc}\")"
   ]
  },
  {
   "cell_type": "markdown",
   "metadata": {},
   "source": [
    "## we need to strip reviews with 0 wc"
   ]
  },
  {
   "cell_type": "code",
   "execution_count": 20,
   "metadata": {},
   "outputs": [
    {
     "name": "stdout",
     "output_type": "stream",
     "text": [
      "48 headline: [Five Stars]\n",
      "48 body: [Great]\n"
     ]
    }
   ],
   "source": [
    "# min review wc\n",
    "for index, row in df[(df[\"review_body_wc\"] == df.review_body_wc.min())].head(1).iterrows():\n",
    "    print(f'{index} headline: [{row[\"review_headline\"]}]')\n",
    "    print(f'{index} body: [{row[\"review_body\"]}]')\n"
   ]
  },
  {
   "cell_type": "code",
   "execution_count": 21,
   "metadata": {
    "scrolled": false
   },
   "outputs": [
    {
     "name": "stdout",
     "output_type": "stream",
     "text": [
      "323442 headline: [A competent Galaxy Nexus replacement, [KitKat 4.4.4 update]...]\n",
      "323442 body: [[updated Jul 15th 2014; OS update 21.11.21 applied -- see paragraphs marked with /// for my edits]<br />[updated Jan 27th 2014; OS update 19.5.3 applied -- see paragraphs marked with +++ for my edits]<br />[updated Nov 11th 2013; OS update 12.15.15 applied -- increased my rating to 5 stars (from 4) -- see paragraphs marked with >> for my edits]<br /><br />I didn't intend to buy a Droid Maxx on launch day; at least, not until a few minutes before 10am, when I read on Droid Life it would *really* be in stores that morning. I would only stop in to check it out in person. Then... it just happened. If you're like me and coming from a Samsung Galaxy Nexus, I'm betting this latest batch from Motorola caught your eye, too. I fully intended to wait for the first reviews, maybe check out the oversized Note III and HTC One Max, and see what LG was bringing to the table, but...<br /><br />/// The Maxx's oversized battery is only part of the attraction. My Nexus had become fickle -- I weeded out a few apps that were absolute battery hogs on that device. While I didn't expect the full two day battery life promised by Verizon, the Maxx had to be at least 2x better than the Gnex, based alone on double battery capacity. But better! After my first 100% charge, I ended my day at 7% after 16 hours off the charger, heavy \\\\\"first day with a new phone\\\\\" usage, 1.5 hours video, 1+ hours audio streaming, 45 minutes unplugged Nav, forum browsing & posting, futzing with apps, editing this review, Bluetooth headset use, switching between wifi and 4G about 50/50, lots of screen on time, etc. I've since repeated this with up to 23 hour days, 5-8 hours screen time, video & nav, completely off the charger. I've bumped my screen timeout to 5 minutes, and don't bother switching off WiFi or GPS. And if that's not epic enough (for me, it is), there's a \\\\\"Battery Saver\\\\\" slider on the settings menu -- I haven't bothered to flick that On to see what it affects. [edit 7/14 Bbattery life is much reduced; I get about a full day without plugging in, and routinely charge it when using Waze or Nav. To be fair to the phone, I'd have to nuke all apps and restore to like new condition to evaluate, because I have lots of tasks on in the background. And naturally, batteries lose capacity with use, and as they are subjected to never ending charge/discharge cycles.]<br /><br />Amazingly, the extra battery doesn't come at the expense of size. Held back to back, side to side, end to end, these two phones are close to identical in size. You can get the numbers from the spec sheet, but the Maxx is about 3-4 millimeters taller and wider than the Gnex, and more or less identical in thickness. According to my straight edge, the Maxx's screen even has a slight curve to it, ala the overly-hyped curved glass of the Galaxy Nexus.<br /><br />But it's definitely shaped differently. I ran my Gnex without a case for the past year, and I'm starting out caseless with the Maxx. I don't see it visually, but the Maxx has a \\\\\"wedge\\\\\" feel to it, where the top end of the phone is thicker, and it slims down towards the bottom. The top end is also heavier. What this means is that, when I'm holding it in one hand, most of that weight is concentrated on my index finger. I'd prefer it the other way around -- with that weight and thickness at the bottom -- where it's resting more on two fingers. I know, I know... we're only talking about 164g according to my scale, but the phone feels more comfortable and balanced when I hold it flipped around like that. Despite the very similar size to my old phone, the Maxx has a definite chunky feel to it, not UNcomfortable, but -less- comfortable than my previous phone.<br /><br />+++ My wife slipped a Diztronic TPU case onto her Maxx, and despite its slim dimensions, the phone feels bulky and unpocketable. My recommendation is to skip the case if you can.<br /><br />+++ If you need a quality holster for this phone and want to run caseless, and don't mind an easy do-it-yourself mod, check my review for this Sedio spring clip unit: [[ASIN:B00EGR0XM8 Seidio HLSSG4AASA]]<br /><br />The phone's back is interesting. It's not the shiny, hard plasticky finish of the Droid Ultra. Instead, it's a very lightly textured (\\\\\"rubberized\\\\\") but smooth finish, with the appearance of a fiber weave. This finish wraps around the bottom edges of the phone and even around the chin to the face, down by the mic. The bottom corners are all rounded, so they're somewhat comfortable -- not squared off, though not as rounded as the Galaxy Nexus. The back is smooth enough that it -does- gets smudged with fingerprints, but matte enough that they're not easily noticeable. The Verizon and Droid labels are modestly sized, and rather than bright white, are of a dark gray hue that is easy to ignore.<br /><br />All together it creates a package with a hefty, high-quality feel. I never minded the durable all-plastic construction of my Nexus and Samsung's Galaxy lineup -- something many reviewers and forum posters dismiss as \\\\\"cheap.\\\\\" But the Maxx feels anything but, possibly belied by its flat slab appearance.<br /><br />Interrupting the smooth Kevlar wrap are the power and volume buttons -- all stacked on the right side -- that project from the device perhaps a little more than necessary, and with very square edges and textured surfaces. The buttons don't really jive with the carefully crafted, smooth-to-the-touch backside finish, but then again, there's no mistaking when my fingers are resting on them -- even lightly -- so hopefully no accidental presses.<br /><br />/// Boot is about 1 minute 15 seconds to home screen/slide-to-unlock, but 2:25 until I get a PIN pad unlock (time in between, apps still loading and processes running) [post KitKat 4.4.4 update; original boot time was 30 seconds, which increased to 45 seconds with 12.15.15, then 55s w/ 4.4]. That's still pretty quick to phones I've owned previously, but nearly double the stock, Day 1 boot time. The busy (and noisy) Droid boot animation, followed by the default red home screen, put me off at first -- it all just feels very \\\\\"angry\\\\\" -- but as I'm sure you're aware, that's all easily changeable with a good selection of included live and static wallpapers (a soothing blue relaxed the feel of the phone for me; I wonder if the default aggressive red tone -- VZW's Droid branding -- turns off would be buyers at the in-store display).<br /><br />While looking for my next phone, I've been really intrigued by the front-firing speaker on the HTC One. My previous phone (like practically every other phone) was rear-firing, but with speaker placement at the bottom of the phone, where my hand tended to cup it and muffle the volume. Not to mention it was a pretty weak speaker. The Maxx? Surprisingly good, by comparison. The speaker is at the top of the phone, co-located with the camera. It's loud. Even when facing into my passenger seat, the Google Nav directions come through crisply. I've tried to muffle the sound with my hand, like for instance when holding the phone in landscape mode to watch a video, and it comes through loud and clear. The sound is still projecting to the rear, which means the phone is projecting away from me and toward the rest of the room that I'm facing, but it's so much improved over the Gnex that I'm now only partially envious of the HTC speaker.<br /><br />I recall quite a bit of forum debate over the 3.5mm audio jack placement on the Nexus -- some folks absolutely HATE the bottom placement (I, for one, was a fan). The Maxx puts that jack up on the top of the phone, where many users think is its rightful place. I suppose I'm indifferent since I tend to use bluetooth headphones when I'm out. But at home, laying in bed and catching up on some YouTube while plugged in to my charger, I've now got to contend with cords coming out of both sides of my phone.<br /><br />One other design niggle -- wnen using the phone on a flat surface, screen presses anywhere within ahalf inch of the edges causes the phone to rock. The back runs flat for a few inches from top to bottom (down the spine), but is curved side to side all the way across.<br /><br />Let's talk about the Super AMOLED (RGB) screen. The quality is great. Really, I'm don't feel deprived without 1080p. But, don't hate me for this, I preferred some aspects of the Galaxy Nexus Pentile (non-RGB) AMOLED better. Here's what I'm noticing with the Maxx:<br /> - whites look slightly gray, particularly in a dark room<br /> - blacks have sort of a reddish tinge to them, particularly in dark<br /> - in general, pictures look underexposed (for instance when browsing a news website)<br /> - in video playback, the black and darker areas of the screen have better overall consistency than on my Gnex (less noise)<br /> - in bright sunlight, the screen brightness can't meet the challenge (so what's new?)<br /> - but in dark rooms, it's almost as though the screen can't dim enough (but just slightly so)<br /> - the active notifications appearing on the screen aren't ever-present -- the phone needs to be jostled / disturbed for the blank screen to briefly light up and display the current notifications, BUT the phone does not need to be flipped over to activate this (a light tapping of the face-up phone causes the Active Display to light up)<br /> - >> the capacitive buttons now dim during most video playback [as up 12.15.15 update] -- nice; they were originally full bright, which was distracting in a dark setting.<br /> - there's just the slightest amount of light leak from between the screen and capacitive buttons, over the Back button -- but only noticeable in a dark room<br /> - the Maxx pixels per inch (PPI) display density works out to 296 PPI across the 5\\\\\" screen. The Gnex screen was slightly smaller (4.7\\\\\" -- less if you consider on-screen buttons took up some of that space), so despite it being the same resolution, would have been 316 PPI -- except for its shared-pixel Pentile display. I've seen the case made that the Pentile display dropped the effective PPI down to the 200 range. I can't say I ever took issue with that screen by Samsung, but I could see jaggies on certain websites, and those just aren't present on the Maxx -- this display, overall, appears sharper.<br />There's going to be an adjustment period for me, no doubt, but despite some of the negatives I've listed, I don't consider any of these to be deal breakers.<br /><br />I mentioned the capacitive buttons. Versus the on-screen buttons found on the Moto X and Gnex, these ones are ever-present. Accessing Google Now takes a slightly paused press of the home button before swiping up, vs. the simple swipe motion (no hold) of an on-screen home button. And some older apps still call up the 3-dot menu button which takes up a whole 'nother row (a black \\\\\"menu bar\\\\\" across the entire bottom of the display). On phones with the virtual buttons on-screen, the main three (Back, Home, and Task) would simply make room for the skinny 3-dot -- making it all the more obscene that when it appears on the Maxx, it takes up its own row. To get around that, I can go into Settings and enable a \\\\\"long press of task switcher\\\\\" option. That gets rid of the wasted screen, but now I have to remember which apps use this long press to access the menu (and some apps only do this on certain screens). This should be less and less of a problem as developers update their apps, as I believe the standard for the OS v4.0 and higher is to display the menu ellipses at the top right corner of the application.<br /><br />+++ Speaking of OS, my phone came with Jelly Bean 4.2.2, but units shipping now ought to have KitKat 4.4 installed (or otherwise readily downloadable via an easily access \\\\\"Check For Updates\\\\\" selection in the Settings > About Phone > System Updates menu). If you're coming from a Gnex, KitKat is basically the same, only snappier. If you're coming from Ice Cream Sandwich or Gingerbread, I guarantee you'll be impressed with the smoothness and overall look/feel of this operating system.<br /><br />I'm still setting up my various apps and checking them for compatibility. I'm not going to attempt to generate a comprehensive list of what does / doesn't work, but here are some quick notes:<br /> - /// As of the 4.4.4 update, on-againg/off-again FoxFi is no longer compatible for WiFi tethering. You'll have to resort to USB tethering instead.<br /> - >>> As of 11/12/13, FoxFi is compatible for tethering. It *requires* a PIN-enabled lock screen (not pattern) due to some VPN nonsense that I admittedly don't completely understand (FoxFi was great on the Galaxy Nexus, and didn't require this)<br /> - +++ Google Wallet tap-to-pay IS supported with as of the KitKat OS -- an app I've been running on the Gnex since about week one.  Cruel irony, my purchase of the Maxx was my last Google Wallet NFC transaction before the KitKat update (Verizon clerk: \\\\\"Oh, I've never seen THAT before!\\\\\" as I swiped my Nexus across her payment terminal)<br /> - YouTube updated me to version 5.0, which I was not yet able to access on the Play Store from my Gnex or my TF700T tablet<br /> - Swype keyboard is working A-Ok, and pops up nearly instantly when called<br /> - +++ Nova Launcher is working A-Ok; mic icon in \\\\\"persistent search bar\\\\\" (shortcut to Google Now) calls up the voice recognition screen nearly instantly; [new KitKat option for transparent notification bar works as demonstrated on Nexus KitKat devices]<br /> - Sound Profile app by Corcanoe is A-Ok without any of the problems / workarounds experienced by Galaxy S4 users<br /> - The stock Android dialer app has been enhanced to allow dialing by first or last name, or partial phone number -- nothing new for users of skinned versions of Android (Touchwiz, Sense, Motoblur) or other OSs, but a feature requiring an aftermarket app for stock Nexus users; alas, no updated 4.4.4 dialer as seen on Nexus devices<br /> - +++ \\\\\"OK Google Now\\\\\" is quick, responsive, and  pretty awesome... but less so with a lock screen [New with KitKat: with user permission, the phone allows certain voice commands to process even if the phone is locked; actions requiring an unlock allow the user to speak the PIN code]<br /> - \\\\\"Set alarm for ten a.m.\\\\\" used to take me directly to the stock clock app, even though I had alternate alarm applications installed. No longer; I'm now given the option to default to whichever one I choose (tested with Timely and Alarm Clock Xtreme); no such luck with \\\\\"set timer for three minutes\\\\\", which still just sets an alarm for whatever time is closest to 3 minutes from now<br /> - As expected, logging in with my Google credentials automatically downloaded all my apps and contacts, with the exception, oddly enough, of Facebook<br /> - Not exactly an app, but the brightness slider from the main pull-down menu is very picky, doesn't like switching back to \\\\\"Auto,\\\\\" and times out quickly -- but works fine from Power Control widget<br /> - +++ There's a bug in the task switcher where not all open apps appear -- including the app I'm currently using (this originally was the same with the Gnex, but was changed in a recent OS update). [This seems to have been partially resolved with KitKat -- it still happens, but less frequently.]<br /> - +++ [Settings > Apps now has a dedicated \\\\\"Disabled Apps\\\\\" view to allow me to see all the unwanted Verizon pre-installed goodies I've exiled from my app drawer. They used to appear at the bottom of the lists.]<br /> - /// I've been using the LEEF microSD card reader for added storage; with 4.4.4 USB OTG means this reader is natively supported (using your preferred file manager such as Astro)<br /><br />+++ The Camera [post 12.15.15 update & post KitKat observations]: I'm now super happy with the camera. Images were always as sharp as can be expected from a cell phone, with good, natural colors. There's no longer a problem with highly contrasted scenes (original firmware couldn't handle brightbacklighting, such as under a canopy of trees with a bright sky in the background). I'll continue to rely on my compact camera outfitted with an [[ASIN:B00CS4WPHC Eye-Fi Mobi]] when I'm looking for best clarity and dynamic range, but the Maxx's results are definitely suitable for everyday, in-the-moment type shots. Under KitKat, Tap-To-Focus has been replaced with \\\\\"Drag-To-Focus:\\\\\" drag the focal bracket anywhere on the screen to set the focal point and exposure; tapping anywhere on the screen releases the shutter. Holding my finger press captures a multiple exposures at a rate of one frame per second (and displays a convenient counter), great for automatic GIF animation by the magic behind Google Plus (which I have set up to auto-upload my pics). The updated camera UI moves the mode dial to a large arc along the left edge, and utilizes that nifty \\\\\"twist yer wrist\\\\\" technique to pop directly into camera mode from sleep, like the Moto X (and no unlock PIN required). There's also a half-decent slo-mo video mode, which is fun for well-lit scenes of fast moving objects, or just a honey bee landing on a flower. The HDR mode is incrementally improved with OS 4.4 -- still not on par with true 3-frame HDR post-processing, but an acceptable substitute for scenes where compromised lighting would otherwise challenge these rinky-dink sensors. As of the 12.15.15 update, the camera software now appears to be updated as an app in Google Play, which ought to mean no more delays waiting for Verizon to vet the software via their \\\\\"slowest in the biz\\\\\" OS update process.<br /><br />The flash is dimmer and yellower than what I've become accustom to on my Nexus, but this is only evident when I'm using it as a flashlight. In flash-filled photos, the camera's white balance is adjusted appropriately for the non-exactly-white LED, and as long as my expectations aren't too high (i.e. subjects are within 6-10 feet of the camera and I'm not trying to light a whole room), the photos seem to be adequately focused, and in a matter of only a second or two. But don't expect you're going to freeze any poorly-lighted motion with this shooter, and expect to see a good amount of noise at full rez. This isn't a Nokia, after all!<br /><br />The operating system is pretty dang close to stock Android. Motorola threw some extras in there for the camera and photo sharing, plus a widget or two, and of course there's a whole bevy of Verizon bloat including NFL, MyVZW, visual voicemail, VZW nav, etc... even a caller ID service that sneakily activates, then tries to enroll the user for monthly billing. But with 32 gigs of memory on board, a little attention paid, and the ability to quarantine these apps, they're hardly a bother. The phone's interface is pure Google.<br /><br />In that list of apps up above, I pointedly mention the delay-free call-ups of the Swype keyboard and the Google Now microphone icon. Launching these actions had been increasingly bogged down on my Nexus, I believe due to memory management issues. Androids TRIM memory management in Android 4.4 should prevent that on this phone.<br /><br />+++ The \\\\\"OK Google Now\\\\\" voice wake (well, really, it works when the phone is already awake, too) is shaping up to be more than a gimmick. After an initial \\\\\"voice training\\\\\" session in a quiet place, I OK Google Now'd my phone where it sat on the passenger seat cushion. \\\\\"Navigate to work\\\\\" (work already being defined in my Google Now account) and, bingo, I'm hearing Google's familiar, clear directions. Same with text messages to my wife, and setting an alarm. One step closer to hands free. With KitKat, many actions such as Navigation or alarm settings can be voice-initiated without entering a PIN or Pattern unlock. If I dictate a text to my wife, after voice-composing the message and verifying the recipient, the Maxx will prompt \\\\\"Say or type PIN code\\\\\" before sending, for a true hands free interaction!<br /><br />+++ Although regarding pin/pattern unlock, the Maxx offers upa cool option (excuse me if this is old news -- new to me) to recognize trusted Bluetooth devices, and gives the option to leave the phone unlocked as long as it remains in range. Think car, smartwatch, a generic USB dongle in a home or office PC, etc. -- the phone will only lock down when it \\\\\"walks away\\\\\" out of signal range of one of these trusted Bluetooth devices. [However, I've deactivated this built-in feature for a paid app called SkipLock, which does the same, but with WiFi, too, and it works extremely well.]<br /><br />Oh... face unlock makes a reappearance, too. I actually used that a bit on the Gnex.<br /><br />I can't post this review without mentioning the all-important connectivity. The radios are great -- both 4G & wifi.<br /> - In my basement, where I've struggled to pull a 3G signal on the Gnex, I maintained a 4G connection on the Maxx, which allowed me to download apps (initial phone setup) while watching an HD video on YouTube<br /> - On the main floor of the house, where my signal would flip between 3G and 4G on the Gnex, the Maxx operates decidedly in 4G territory<br /> - At work, one room in the office far removed from the wifi antenna would consistently go to zero bars (yet, frustratingly, not lose it completely and therefore would not switch over to the strong 4G signal), I now have at least one wifi bar accompanied by a usable flow of data<br /> - Overall, switching between wifi and 4G on the margins seems improved vs. what I had before, though even with \\\\\"ignore weak wifi connections\\\\\" checked, the Maxx at times seems indecisive about switching from one to the other. If I have one wifi bar that's trickling data, and a 3-bar 4G signal available, the choice should be obvious<br /> - No problem with Bluetooth connections; I'm stoked that I now have full integration with my Ford's Sync system, with artist/track tagging from Pandora, and read-out-loud messaging with canned replies<br /> - Voice call quality overall is excellent. This is one of Motorola's strong suits, I hear. I'm impressed.<br /><br />Do you remember the iPhone 4's \\\\\"death grip\\\\\" problem? It seems that in marginal 4G areas (like that signal-quashing basement I mentioned), turning the Droid Maxx to landscape mode and holding it with both hands causes it to show a drop of 5 to 10 dBm off the signal strength meter (Settings > More > Mobile Networks > Network Type and Strength). If I'm already in the (low strength) -115 to -120 range, this results in me completely losing 3G and 4G connectivity. Releasing one hand brings the signal back to life. Where my 4G signal is strong, the signal drop is there, but my connection remains intact.<br /><br />I've taken GPS accuracy for granted for a few years, so I was surprised to notice the Maxx's sense of direction may be slightly off. I use Google Nav frequently, and on a couple of occasions, the Maxx seemed to think I strayed off course onto the streets vs. getting on the freeway on-ramp, or exited when I really stayed on the highway, and as such gives me a fast re-route and impossible directions. It (well, Google Nav) then quickly corrects itself. I'd chock this up to accepted errors in compacted urban driving environments, except that the Gnex, previous Garmin devices, and Ford GPS simply don't exhibit this behavior. It would only be a problem if I already screwed up and missed a turn, but this nevertheless results in confusing instructions. Though other than those relatively minor blips, location setting is fast and mostly accurate, even in many indoor settings.<br /><br />Another point to mention: Heat. My Galaxy Nexus often ran hot. When it did, I knew it was busy with something that was burning through the battery. This phone has run even hotter, both times in the car plugged in. The first was just downloading apps, the second was also running Nav with the screen on the whole time. But I've yet to see it run this hot outside of the car, and in fact, in the car running Nav but not plugged in, and not downloading apps, is was perfectly cool (and only lost 4% of the charge over about 20 minutes of Nav + screen-on time). So I'm guessing the heat comes from the 4G radio and processor working overtime switching cell sites, transferring data, and unpacking / installing applications, though again, this isn't the case when it's doing those same tasks sitting still in the house (and on 4G).<br /><br />Check back. I'm sure I'll have some more detail to add to this already too-long review as I get to know this phone, particularly with respect to battery life, application compatibility problems & successes, and more observations on the radio switching & possible \\\\\"death grip\\\\\" issue.<br /><br />But in summary, I'm sticking with my title -- this phone may have some issues here and there, and it may not be the fastest/biggest/most beautiful/polished specimen out there this late summer and fall, but in my opinion it's the first suitable contender to supersede the Samsung Galaxy Nexus, and betters that phone in a number of key areas. I have a great deal of confidence in Motorola at this time -- both in their tie to Google, and their strong affiliation with VZW. Thankfully, if you're tied to Verizon, you've suddenly got a few good choices after a long drought.<br /><br />/// The 4.4.4 update continues with minor \\\\\"polishing\\\\\" and not much in the way of big features -- some supposed camera improvements, some slight bug fixes, and couple of minor UI tweaks, and the switchover to the ART runtime -- which I'm seeing is resulting in a couple of apps not running, but should result in snappier performance for those that have addressed this. What I'm not seeing yet? Device mirroring Chromcasting (none of the Droids are on the compatibility list), and an upgrade path to Android L (again, not on any lists I've seen). This continues to be a good phone, and a good buy at a discounted price. We're at that point where the device is stable and mature, but there are new options on the horizon, so although my rating stands, it's probably time to look at newer or up-and-coming phones.and  pretty awesome... but less so with a lock screen [New with KitKat: with user permission, the phone allows certain voice commands to process even if the phone is locked; actions requiring an unlock allow the user to speak the PIN code]<br /> - \\\\\"Set alarm for ten a.m.\\\\\" used to take me directly to the stock clock app, even though I had alternate alarm applications installed. No longer; I'm now given the option to default to whichever one I choose (tested with Timely and Alarm Clock Xtreme); no such luck with \\\\\"set timer for three minutes\\\\\", which still just sets an alarm for whatever time is closest to 3 minutes from now<br /> - As expected, logging in with my Google credentials automatically downloaded all my apps and contacts, with the exception, oddly enough, of Facebook<br /> - Not exactly an app, but the brightness slider from the main pull-down menu is very picky, doesn't like switching back to \\\\\"Auto,\\\\\" and times out quickly -- but works fine from Power Control widget<br /> - +++ There's a bug in the task switcher where not all open apps appear -- including the app I'm currently using (this originally was the same with the Gnex, but was changed in a recent OS update). [This seems to have been partially resolved with KitKat -- it still happens, but less frequently.]<br /> - +++ [Settings > Apps now has a dedicated \\\\\"Disabled Apps\\\\\" view to allow me to see all the unwanted Verizon pre-installed goodies I've exiled from my app drawer. They used to appear at the bottom of the lists.]<br /> - /// I've been using the LEEF microSD card reader for added storage; with 4.4.4 USB OTG means this reader is natively supported (using your preferred file manager such as Astro)<br /><br />+++ The Camera [post 12.15.15 update & post KitKat observations]: I'm now super happy with the camera. Images were always as sharp as can be expected from a cell phone, with good, natural colors. There's no longer a problem with highly contrasted scenes (original firmware couldn't handle brightbacklighting, such as under a canopy of trees with a bright sky in the background). I'll continue to rely on my compact camera outfitted with an [[ASIN:B00CS4WPHC Eye-Fi Mobi]] when I'm looking for best clarity and dynamic range, but the Maxx's results are definitely suitable for everyday, in-the-moment type shots. Under KitKat, Tap-To-Focus has been replaced with \\\\\"Drag-To-Focus:\\\\\" drag the focal bracket anywhere on the screen to set the focal point and exposure; tapping anywhere on the screen releases the shutter. Holding my finger press captures a multiple exposures at a rate of one frame per second (and displays a convenient counter), great for automatic GIF animation by the magic behind Google Plus (which I have set up to auto-upload my pics). The updated camera UI moves the mode dial to a large arc along the left edge, and utilizes that nifty \\\\\"twist yer wrist\\\\\" technique to pop directly into camera mode from sleep, like the Moto X (and no unlock PIN required). There's also a half-decent slo-mo video mode, which is fun for well-lit scenes of fast moving objects, or just a honey bee landing on a flower. The HDR mode is incrementally improved with OS 4.4 -- still not on par with true 3-frame HDR post-processing, but an acceptable substitute for scenes where compromised lighting would otherwise challenge these rinky-dink sensors. As of the 12.15.15 update, the camera software now appears to be updated as an app in Google Play, which ought to mean no more delays waiting for Verizon to vet the software via their \\\\\"slowest in the biz\\\\\" OS update process.<br /><br />The flash is dimmer and yellower than what I've become accustom to on my Nexus, but this is only evident when I'm using it as a flashlight. In flash-filled photos, the camera's white balance is adjusted appropriately for the non-exactly-white LED, and as long as my expectations aren't too high (i.e. subjects are within 6-10 feet of the camera and I'm not trying to light a whole room), the photos seem to be adequately focused, and in a matter of only a second or two. But don't expect you're going to freeze any poorly-lighted motion with this shooter, and expect to see a good amount of noise at full rez. This isn't a Nokia, after all!<br /><br />The operating system is pretty dang close to stock Android. Motorola threw some extras in there for the camera and photo sharing, plus a widget or two, and of course there's a whole bevy of Verizon bloat including NFL, MyVZW, visual voicemail, VZW nav, etc... even a caller ID service that sneakily activates, then tries to enroll the user for monthly billing. But with 32 gigs of memory on board, a little attention paid, and the ability to quarantine these apps, they're hardly a bother. The phone's interface is pure Google.<br /><br />In that list of apps up above, I pointedly mention the delay-free call-ups of the Swype keyboard and the Google Now microphone icon. Launching these actions had been increasingly bogged down on my Nexus, I believe due to memory management issues. Androids TRIM memory management in Android 4.4 should prevent that on this phone.<br /><br />+++ The \\\\\"OK Google Now\\\\\" voice wake (well, really, it works when the phone is already awake, too) is shaping up to be more than a gimmick. After an initial \\\\\"voice training\\\\\" session in a quiet place, I OK Google Now'd my phone where it sat on the passenger seat cushion. \\\\\"Navigate to work\\\\\" (work already being defined in my Google Now account) and, bingo, I'm hearing Google's familiar, clear directions. Same with text messages to my wife, and setting an alarm. One step closer to hands free. With KitKat, many actions such as Navigation or alarm settings can be voice-initiated without entering a PIN or Pattern unlock. If I dictate a text to my wife, after voice-composing the message and verifying the recipient, the Maxx will prompt \\\\\"Say or type PIN code\\\\\" before sending, for a true hands free interaction!<br /><br />+++ Although regarding pin/pattern unlock, the Maxx offers upa cool option (excuse me if this is old news -- new to me) to recognize trusted Bluetooth devices, and gives the option to leave the phone unlocked as long as it remains in range. Think car, smartwatch, a generic USB dongle in a home or office PC, etc. -- the phone will only lock down when it \\\\\"walks away\\\\\" out of signal range of one of these trusted Bluetooth devices. [However, I've deactivated this built-in feature for a paid app called SkipLock, which does the same, but with WiFi, too, and it works extremely well.]<br /><br />Oh... face unlock makes a reappearance, too. I actually used that a bit on the Gnex.<br /><br />I can't post this review without mentioning the all-important connectivity. The radios are great -- both 4G & wifi.<br /> - In my basement, where I've struggled to pull a 3G signal on the Gnex, I maintained a 4G connection on the Maxx, which allowed me to download apps (initial phone setup) while watching an HD video on YouTube<br /> - On the main floor of the house, where my signal would flip between 3G and 4G on the Gnex, the Maxx operates decidedly in 4G territory<br /> - At work, one room in the office far removed from the wifi antenna would consistently go to zero bars (yet, frustratingly, not lose it completely and therefore would not switch over to the strong 4G signal), I now have at least one wifi bar accompanied by a usable flow of data<br /> - Overall, switching between wifi and 4G on the margins seems improved vs. what I had before, though even with \\\\\"ignore weak wifi connections\\\\\" checked, the Maxx at times seems indecisive about switching from one to the other. If I have one wifi bar that's trickling data, and a 3-bar 4G signal available, the choice should be obvious<br /> - No problem with Bluetooth connections; I'm stoked that I now have full integration with my Ford's Sync system, with artist/track tagging from Pandora, and read-out-loud messaging with canned replies<br /> - Voice call quality overall is excellent. This is one of Motorola's strong suits, I hear. I'm impressed.<br /><br />Do you remember the iPhone 4's \\\\\"death grip\\\\\" problem? It seems that in marginal 4G areas (like that signal-quashing basement I mentioned), turning the Droid Maxx to landscape mode and holding it with both hands causes it to show a drop of 5 to 10 dBm off the signal strength meter (Settings > More > Mobile Networks > Network Type and Strength). If I'm already in the (low strength) -115 to -120 range, this results in me completely losing 3G and 4G connectivity. Releasing one hand brings the signal back to life. Where my 4G signal is strong, the signal drop is there, but my connection remains intact.<br /><br />I've taken GPS accuracy for granted for a few years, so I was surprised to notice the Maxx's sense of direction may be slightly off. I use Google Nav frequently, and on a couple of occasions, the Maxx seemed to think I strayed off course onto the streets vs. getting on the freeway on-ramp, or exited when I really stayed on the highway, and as such gives me a fast re-route and impossible directions. It (well, Google Nav) then quickly corrects itself. I'd chock this up to accepted errors in compacted urban driving environments, except that the Gnex, previous Garmin devices, and Ford GPS simply don't exhibit this behavior. It would only be a problem if I already screwed up and missed a turn, but this nevertheless results in confusing instructions. Though other than those relatively minor blips, location setting is fast and mostly accurate, even in many indoor settings.<br /><br />Another point to mention: Heat. My Galaxy Nexus often ran hot. When it did, I knew it was busy with something that was burning through the battery. This phone has run even hotter, both times in the car plugged in. The first was just downloading apps, the second was also running Nav with the screen on the whole time. But I've yet to see it run this hot outside of the car, and in fact, in the car running Nav but not plugged in, and not downloading apps, is was perfectly cool (and only lost 4% of the charge over about 20 minutes of Nav + screen-on time). So I'm guessing the heat comes from the 4G radio and processor working overtime switching cell sites, transferring data, and unpacking / installing applications, though again, this isn't the case when it's doing those same tasks sitting still in the house (and on 4G).<br /><br />Check back. I'm sure I'll have some more detail to add to this already too-long review as I get to know this phone, particularly with respect to battery life, application compatibility problems & successes, and more observations on the radio switching & possible \\\\\"death grip\\\\\" issue.<br /><br />But in summary, I'm sticking with my title -- this phone may have some issues here and there, and it may not be the fastest/biggest/most beautiful/polished specimen out there this late summer and fall, but in my opinion it's the first suitable contender to supersede the Samsung Galaxy Nexus, and betters that phone in a number of key areas. I have a great deal of confidence in Motorola at this time -- both in their tie to Google, and their strong affiliation with VZW. Thankfully, if you're tied to Verizon, you've suddenly got a few good choices after a long drought.<br /><br />/// The 4.4.4 update continues with minor \\\\\"polishing\\\\\" and not much in the way of big features -- some supposed camera improvements, some slight bug fixes, and couple of minor UI tweaks, and the switchover to the ART runtime -- which I'm seeing is resulting in a couple of apps not running, but should result in snappier performance for those that have addressed this. What I'm not seeing yet? Device mirroring Chromcasting (none of the Droids are on the compatibility list), and an upgrade path to Android L (again, not on any lists I've seen). This continues to be a good phone, and a good buy at a discounted price. We're at that point where the device is stable and mature, but there are new options on the horizon, so although my rating stands, it's probably time to look at newer or up-and-coming phones.]\n"
     ]
    }
   ],
   "source": [
    "for index, row in df[(df[\"review_body_wc\"] == df.review_body_wc.max())].head(1).iterrows():\n",
    "    print(f'{index} headline: [{row[\"review_headline\"]}]')\n",
    "    print(f'{index} body: [{row[\"review_body\"]}]')\n"
   ]
  },
  {
   "cell_type": "markdown",
   "metadata": {},
   "source": [
    "## interesting find. We need to strip HTML newlines from the text\n",
    "## also need to strip numeric characters from reviews"
   ]
  },
  {
   "cell_type": "markdown",
   "metadata": {},
   "source": [
    "\n",
    "Looks like most 50% of reviews have 6 words or less\n",
    "\n",
    "At 75% percentile we start seeing reviews with 6+ words"
   ]
  },
  {
   "cell_type": "code",
   "execution_count": 22,
   "metadata": {},
   "outputs": [
    {
     "name": "stdout",
     "output_type": "stream",
     "text": [
      "count     1266.000000\n",
      "mean       355.507109\n",
      "std       1484.914756\n",
      "min          1.000000\n",
      "25%          2.000000\n",
      "50%          5.000000\n",
      "75%         41.000000\n",
      "max      18063.000000\n",
      "dtype: float64\n"
     ]
    }
   ],
   "source": [
    "df = clean_df\n",
    "\n",
    "# now let's look at distribution of wc for review body\n",
    "df[\"review_body_wc\"] = df[\"review_body\"].apply(lambda x: len(x.split()))\n",
    "\n",
    "grouped = df.groupby(\"review_body_wc\")\n",
    "print(grouped.size().describe())"
   ]
  },
  {
   "cell_type": "code",
   "execution_count": 23,
   "metadata": {},
   "outputs": [
    {
     "data": {
      "text/plain": [
       "<matplotlib.axes._subplots.AxesSubplot at 0x127c82518>"
      ]
     },
     "execution_count": 23,
     "metadata": {},
     "output_type": "execute_result"
    },
    {
     "data": {
      "image/png": "[encoded data removed]",
      "text/plain": [
       "<Figure size 432x288 with 1 Axes>"
      ]
     },
     "metadata": {
      "needs_background": "light"
     },
     "output_type": "display_data"
    }
   ],
   "source": [
    "df.groupby(\"review_body_wc\").size().hist()"
   ]
  },
  {
   "cell_type": "code",
   "execution_count": 24,
   "metadata": {
    "scrolled": false
   },
   "outputs": [
    {
     "name": "stdout",
     "output_type": "stream",
     "text": [
      "0.0       1.0\n",
      "0.1       4.0\n",
      "0.2       9.0\n",
      "0.3      18.0\n",
      "0.4      22.0\n",
      "0.5      27.0\n",
      "0.6      34.0\n",
      "0.7      46.0\n",
      "0.8      65.0\n",
      "0.9     106.0\n",
      "1.0    6675.0\n",
      "Name: review_body_wc, dtype: float64\n"
     ]
    },
    {
     "data": {
      "text/html": [
       "<div>\n",
       "<style scoped>\n",
       "    .dataframe tbody tr th:only-of-type {\n",
       "        vertical-align: middle;\n",
       "    }\n",
       "\n",
       "    .dataframe tbody tr th {\n",
       "        vertical-align: top;\n",
       "    }\n",
       "\n",
       "    .dataframe thead th {\n",
       "        text-align: right;\n",
       "    }\n",
       "</style>\n",
       "<table border=\"1\" class=\"dataframe\">\n",
       "  <thead>\n",
       "    <tr style=\"text-align: right;\">\n",
       "      <th></th>\n",
       "      <th>customer_id</th>\n",
       "      <th>review_id</th>\n",
       "      <th>product_id</th>\n",
       "      <th>product_parent</th>\n",
       "      <th>product_title</th>\n",
       "      <th>product_category</th>\n",
       "      <th>star_rating</th>\n",
       "      <th>helpful_votes</th>\n",
       "      <th>total_votes</th>\n",
       "      <th>review_headline</th>\n",
       "      <th>review_body</th>\n",
       "      <th>review_date</th>\n",
       "      <th>month</th>\n",
       "      <th>day</th>\n",
       "      <th>review_headline_wc</th>\n",
       "      <th>review_body_wc</th>\n",
       "      <th>review_body_quantile</th>\n",
       "    </tr>\n",
       "  </thead>\n",
       "  <tbody>\n",
       "    <tr>\n",
       "      <th>0</th>\n",
       "      <td>6042304</td>\n",
       "      <td>R2DRG0UZXJQ0PE</td>\n",
       "      <td>B00TN4J1TA</td>\n",
       "      <td>716174627</td>\n",
       "      <td>Anker Aluminum Multi-Angle Universal Phone and...</td>\n",
       "      <td>Wireless</td>\n",
       "      <td>5</td>\n",
       "      <td>0</td>\n",
       "      <td>0</td>\n",
       "      <td>Five Stars</td>\n",
       "      <td>This is well worth the money.</td>\n",
       "      <td>2015-08-31</td>\n",
       "      <td>8</td>\n",
       "      <td>0</td>\n",
       "      <td>2</td>\n",
       "      <td>6</td>\n",
       "      <td>(4.0, 9.0]</td>\n",
       "    </tr>\n",
       "    <tr>\n",
       "      <th>1</th>\n",
       "      <td>1393265</td>\n",
       "      <td>R2ZHHWBPM9FBD8</td>\n",
       "      <td>B00KVAUEFK</td>\n",
       "      <td>91818040</td>\n",
       "      <td>Xperia Z2 Case, MOTOMO [Black] SONY Xperia Z2 ...</td>\n",
       "      <td>Wireless</td>\n",
       "      <td>5</td>\n",
       "      <td>0</td>\n",
       "      <td>0</td>\n",
       "      <td>Five Stars</td>\n",
       "      <td>love it</td>\n",
       "      <td>2015-08-31</td>\n",
       "      <td>8</td>\n",
       "      <td>0</td>\n",
       "      <td>2</td>\n",
       "      <td>2</td>\n",
       "      <td>(1.0, 4.0]</td>\n",
       "    </tr>\n",
       "    <tr>\n",
       "      <th>2</th>\n",
       "      <td>3834496</td>\n",
       "      <td>R3VKL3BZ460UIX</td>\n",
       "      <td>B00G9AT7LI</td>\n",
       "      <td>66852532</td>\n",
       "      <td>LifeProof FRE iPhone 5c Waterproof Case - Reta...</td>\n",
       "      <td>Wireless</td>\n",
       "      <td>5</td>\n",
       "      <td>0</td>\n",
       "      <td>0</td>\n",
       "      <td>Five Stars</td>\n",
       "      <td>Everything was great. Thank you.</td>\n",
       "      <td>2015-08-31</td>\n",
       "      <td>8</td>\n",
       "      <td>0</td>\n",
       "      <td>2</td>\n",
       "      <td>5</td>\n",
       "      <td>(4.0, 9.0]</td>\n",
       "    </tr>\n",
       "    <tr>\n",
       "      <th>3</th>\n",
       "      <td>48623501</td>\n",
       "      <td>R1G7J2VAMI4AEC</td>\n",
       "      <td>B00LBK7QBY</td>\n",
       "      <td>361030039</td>\n",
       "      <td>Universal Waterproof Case, JOTO CellPhone Dry ...</td>\n",
       "      <td>Wireless</td>\n",
       "      <td>5</td>\n",
       "      <td>0</td>\n",
       "      <td>0</td>\n",
       "      <td>Good product. Please note that it is not a ...</td>\n",
       "      <td>Good product.  Please note that it is not a fl...</td>\n",
       "      <td>2015-08-31</td>\n",
       "      <td>8</td>\n",
       "      <td>0</td>\n",
       "      <td>10</td>\n",
       "      <td>33</td>\n",
       "      <td>(27.0, 34.0]</td>\n",
       "    </tr>\n",
       "    <tr>\n",
       "      <th>4</th>\n",
       "      <td>17859156</td>\n",
       "      <td>R348421ZSQV6E4</td>\n",
       "      <td>B00DY6KZ2A</td>\n",
       "      <td>679544351</td>\n",
       "      <td>amPen New Hybrid Stylus Replacement Tip (5-Pack)</td>\n",
       "      <td>Wireless</td>\n",
       "      <td>5</td>\n",
       "      <td>0</td>\n",
       "      <td>0</td>\n",
       "      <td>Five Stars</td>\n",
       "      <td>Works well and the replacement tips make it a ...</td>\n",
       "      <td>2015-08-31</td>\n",
       "      <td>8</td>\n",
       "      <td>0</td>\n",
       "      <td>2</td>\n",
       "      <td>11</td>\n",
       "      <td>(9.0, 18.0]</td>\n",
       "    </tr>\n",
       "  </tbody>\n",
       "</table>\n",
       "</div>"
      ],
      "text/plain": [
       "   customer_id       review_id  product_id  product_parent  \\\n",
       "0      6042304  R2DRG0UZXJQ0PE  B00TN4J1TA       716174627   \n",
       "1      1393265  R2ZHHWBPM9FBD8  B00KVAUEFK        91818040   \n",
       "2      3834496  R3VKL3BZ460UIX  B00G9AT7LI        66852532   \n",
       "3     48623501  R1G7J2VAMI4AEC  B00LBK7QBY       361030039   \n",
       "4     17859156  R348421ZSQV6E4  B00DY6KZ2A       679544351   \n",
       "\n",
       "                                       product_title product_category  \\\n",
       "0  Anker Aluminum Multi-Angle Universal Phone and...         Wireless   \n",
       "1  Xperia Z2 Case, MOTOMO [Black] SONY Xperia Z2 ...         Wireless   \n",
       "2  LifeProof FRE iPhone 5c Waterproof Case - Reta...         Wireless   \n",
       "3  Universal Waterproof Case, JOTO CellPhone Dry ...         Wireless   \n",
       "4   amPen New Hybrid Stylus Replacement Tip (5-Pack)         Wireless   \n",
       "\n",
       "   star_rating  helpful_votes  total_votes  \\\n",
       "0            5              0            0   \n",
       "1            5              0            0   \n",
       "2            5              0            0   \n",
       "3            5              0            0   \n",
       "4            5              0            0   \n",
       "\n",
       "                                  review_headline  \\\n",
       "0                                      Five Stars   \n",
       "1                                      Five Stars   \n",
       "2                                      Five Stars   \n",
       "3  Good product. Please note that it is not a ...   \n",
       "4                                      Five Stars   \n",
       "\n",
       "                                         review_body review_date  month  day  \\\n",
       "0                      This is well worth the money.  2015-08-31      8    0   \n",
       "1                                            love it  2015-08-31      8    0   \n",
       "2                   Everything was great. Thank you.  2015-08-31      8    0   \n",
       "3  Good product.  Please note that it is not a fl...  2015-08-31      8    0   \n",
       "4  Works well and the replacement tips make it a ...  2015-08-31      8    0   \n",
       "\n",
       "   review_headline_wc  review_body_wc review_body_quantile  \n",
       "0                   2               6           (4.0, 9.0]  \n",
       "1                   2               2           (1.0, 4.0]  \n",
       "2                   2               5           (4.0, 9.0]  \n",
       "3                  10              33         (27.0, 34.0]  \n",
       "4                   2              11          (9.0, 18.0]  "
      ]
     },
     "execution_count": 24,
     "metadata": {},
     "output_type": "execute_result"
    }
   ],
   "source": [
    "# let's plot by quantile\n",
    "\n",
    "quantile_list = [0, .10, .20, .30, .40, .50, .60, .70, .80, .90, 1.]\n",
    "quantiles = df[\"review_body_wc\"].quantile(quantile_list)\n",
    "\n",
    "print(quantiles)\n",
    "\n",
    "df = df.assign(review_body_quantile=lambda x: pd.cut(x[\"review_body_wc\"], quantiles.array))\n",
    "df.head(5)"
   ]
  },
  {
   "cell_type": "code",
   "execution_count": 25,
   "metadata": {},
   "outputs": [
    {
     "data": {
      "text/plain": [
       "<matplotlib.axes._subplots.AxesSubplot at 0x11ac412b0>"
      ]
     },
     "execution_count": 25,
     "metadata": {},
     "output_type": "execute_result"
    },
    {
     "data": {
      "image/png": "[encoded data removed]",
      "text/plain": [
       "<Figure size 432x288 with 1 Axes>"
      ]
     },
     "metadata": {
      "needs_background": "light"
     },
     "output_type": "display_data"
    }
   ],
   "source": [
    "df.groupby(\"review_body_quantile\").size().plot(kind='bar')"
   ]
  },
  {
   "cell_type": "code",
   "execution_count": 26,
   "metadata": {
    "scrolled": false
   },
   "outputs": [
    {
     "data": {
      "text/html": [
       "<div>\n",
       "<style scoped>\n",
       "    .dataframe tbody tr th:only-of-type {\n",
       "        vertical-align: middle;\n",
       "    }\n",
       "\n",
       "    .dataframe tbody tr th {\n",
       "        vertical-align: top;\n",
       "    }\n",
       "\n",
       "    .dataframe thead th {\n",
       "        text-align: right;\n",
       "    }\n",
       "</style>\n",
       "<table border=\"1\" class=\"dataframe\">\n",
       "  <thead>\n",
       "    <tr style=\"text-align: right;\">\n",
       "      <th></th>\n",
       "      <th>customer_id</th>\n",
       "      <th>review_id</th>\n",
       "      <th>product_id</th>\n",
       "      <th>product_parent</th>\n",
       "      <th>product_title</th>\n",
       "      <th>product_category</th>\n",
       "      <th>star_rating</th>\n",
       "      <th>helpful_votes</th>\n",
       "      <th>total_votes</th>\n",
       "      <th>review_headline</th>\n",
       "      <th>review_body</th>\n",
       "      <th>review_date</th>\n",
       "      <th>month</th>\n",
       "      <th>day</th>\n",
       "      <th>review_headline_wc</th>\n",
       "      <th>review_body_wc</th>\n",
       "      <th>review_body_quantile</th>\n",
       "      <th>review_body_fixed_bin</th>\n",
       "    </tr>\n",
       "  </thead>\n",
       "  <tbody>\n",
       "    <tr>\n",
       "      <th>0</th>\n",
       "      <td>6042304</td>\n",
       "      <td>R2DRG0UZXJQ0PE</td>\n",
       "      <td>B00TN4J1TA</td>\n",
       "      <td>716174627</td>\n",
       "      <td>Anker Aluminum Multi-Angle Universal Phone and...</td>\n",
       "      <td>Wireless</td>\n",
       "      <td>5</td>\n",
       "      <td>0</td>\n",
       "      <td>0</td>\n",
       "      <td>Five Stars</td>\n",
       "      <td>This is well worth the money.</td>\n",
       "      <td>2015-08-31</td>\n",
       "      <td>8</td>\n",
       "      <td>0</td>\n",
       "      <td>2</td>\n",
       "      <td>6</td>\n",
       "      <td>(4.0, 9.0]</td>\n",
       "      <td>(0.0, 668.0]</td>\n",
       "    </tr>\n",
       "    <tr>\n",
       "      <th>1</th>\n",
       "      <td>1393265</td>\n",
       "      <td>R2ZHHWBPM9FBD8</td>\n",
       "      <td>B00KVAUEFK</td>\n",
       "      <td>91818040</td>\n",
       "      <td>Xperia Z2 Case, MOTOMO [Black] SONY Xperia Z2 ...</td>\n",
       "      <td>Wireless</td>\n",
       "      <td>5</td>\n",
       "      <td>0</td>\n",
       "      <td>0</td>\n",
       "      <td>Five Stars</td>\n",
       "      <td>love it</td>\n",
       "      <td>2015-08-31</td>\n",
       "      <td>8</td>\n",
       "      <td>0</td>\n",
       "      <td>2</td>\n",
       "      <td>2</td>\n",
       "      <td>(1.0, 4.0]</td>\n",
       "      <td>(0.0, 668.0]</td>\n",
       "    </tr>\n",
       "    <tr>\n",
       "      <th>2</th>\n",
       "      <td>3834496</td>\n",
       "      <td>R3VKL3BZ460UIX</td>\n",
       "      <td>B00G9AT7LI</td>\n",
       "      <td>66852532</td>\n",
       "      <td>LifeProof FRE iPhone 5c Waterproof Case - Reta...</td>\n",
       "      <td>Wireless</td>\n",
       "      <td>5</td>\n",
       "      <td>0</td>\n",
       "      <td>0</td>\n",
       "      <td>Five Stars</td>\n",
       "      <td>Everything was great. Thank you.</td>\n",
       "      <td>2015-08-31</td>\n",
       "      <td>8</td>\n",
       "      <td>0</td>\n",
       "      <td>2</td>\n",
       "      <td>5</td>\n",
       "      <td>(4.0, 9.0]</td>\n",
       "      <td>(0.0, 668.0]</td>\n",
       "    </tr>\n",
       "    <tr>\n",
       "      <th>3</th>\n",
       "      <td>48623501</td>\n",
       "      <td>R1G7J2VAMI4AEC</td>\n",
       "      <td>B00LBK7QBY</td>\n",
       "      <td>361030039</td>\n",
       "      <td>Universal Waterproof Case, JOTO CellPhone Dry ...</td>\n",
       "      <td>Wireless</td>\n",
       "      <td>5</td>\n",
       "      <td>0</td>\n",
       "      <td>0</td>\n",
       "      <td>Good product. Please note that it is not a ...</td>\n",
       "      <td>Good product.  Please note that it is not a fl...</td>\n",
       "      <td>2015-08-31</td>\n",
       "      <td>8</td>\n",
       "      <td>0</td>\n",
       "      <td>10</td>\n",
       "      <td>33</td>\n",
       "      <td>(27.0, 34.0]</td>\n",
       "      <td>(0.0, 668.0]</td>\n",
       "    </tr>\n",
       "    <tr>\n",
       "      <th>4</th>\n",
       "      <td>17859156</td>\n",
       "      <td>R348421ZSQV6E4</td>\n",
       "      <td>B00DY6KZ2A</td>\n",
       "      <td>679544351</td>\n",
       "      <td>amPen New Hybrid Stylus Replacement Tip (5-Pack)</td>\n",
       "      <td>Wireless</td>\n",
       "      <td>5</td>\n",
       "      <td>0</td>\n",
       "      <td>0</td>\n",
       "      <td>Five Stars</td>\n",
       "      <td>Works well and the replacement tips make it a ...</td>\n",
       "      <td>2015-08-31</td>\n",
       "      <td>8</td>\n",
       "      <td>0</td>\n",
       "      <td>2</td>\n",
       "      <td>11</td>\n",
       "      <td>(9.0, 18.0]</td>\n",
       "      <td>(0.0, 668.0]</td>\n",
       "    </tr>\n",
       "  </tbody>\n",
       "</table>\n",
       "</div>"
      ],
      "text/plain": [
       "   customer_id       review_id  product_id  product_parent  \\\n",
       "0      6042304  R2DRG0UZXJQ0PE  B00TN4J1TA       716174627   \n",
       "1      1393265  R2ZHHWBPM9FBD8  B00KVAUEFK        91818040   \n",
       "2      3834496  R3VKL3BZ460UIX  B00G9AT7LI        66852532   \n",
       "3     48623501  R1G7J2VAMI4AEC  B00LBK7QBY       361030039   \n",
       "4     17859156  R348421ZSQV6E4  B00DY6KZ2A       679544351   \n",
       "\n",
       "                                       product_title product_category  \\\n",
       "0  Anker Aluminum Multi-Angle Universal Phone and...         Wireless   \n",
       "1  Xperia Z2 Case, MOTOMO [Black] SONY Xperia Z2 ...         Wireless   \n",
       "2  LifeProof FRE iPhone 5c Waterproof Case - Reta...         Wireless   \n",
       "3  Universal Waterproof Case, JOTO CellPhone Dry ...         Wireless   \n",
       "4   amPen New Hybrid Stylus Replacement Tip (5-Pack)         Wireless   \n",
       "\n",
       "   star_rating  helpful_votes  total_votes  \\\n",
       "0            5              0            0   \n",
       "1            5              0            0   \n",
       "2            5              0            0   \n",
       "3            5              0            0   \n",
       "4            5              0            0   \n",
       "\n",
       "                                  review_headline  \\\n",
       "0                                      Five Stars   \n",
       "1                                      Five Stars   \n",
       "2                                      Five Stars   \n",
       "3  Good product. Please note that it is not a ...   \n",
       "4                                      Five Stars   \n",
       "\n",
       "                                         review_body review_date  month  day  \\\n",
       "0                      This is well worth the money.  2015-08-31      8    0   \n",
       "1                                            love it  2015-08-31      8    0   \n",
       "2                   Everything was great. Thank you.  2015-08-31      8    0   \n",
       "3  Good product.  Please note that it is not a fl...  2015-08-31      8    0   \n",
       "4  Works well and the replacement tips make it a ...  2015-08-31      8    0   \n",
       "\n",
       "   review_headline_wc  review_body_wc review_body_quantile  \\\n",
       "0                   2               6           (4.0, 9.0]   \n",
       "1                   2               2           (1.0, 4.0]   \n",
       "2                   2               5           (4.0, 9.0]   \n",
       "3                  10              33         (27.0, 34.0]   \n",
       "4                   2              11          (9.0, 18.0]   \n",
       "\n",
       "  review_body_fixed_bin  \n",
       "0          (0.0, 668.0]  \n",
       "1          (0.0, 668.0]  \n",
       "2          (0.0, 668.0]  \n",
       "3          (0.0, 668.0]  \n",
       "4          (0.0, 668.0]  "
      ]
     },
     "execution_count": 26,
     "metadata": {},
     "output_type": "execute_result"
    }
   ],
   "source": [
    "# let's try fixed binning - 10 fixed bins\n",
    "max_wc = df.review_body_wc.max()\n",
    "\n",
    "\n",
    "fixed_bin = df.assign(review_body_fixed_bin=lambda x: pd.cut(x[\"review_body_wc\"], \n",
    "                       np.arange(0, max_wc, round(max_wc/10,0))))\n",
    "fixed_bin.head(5)"
   ]
  },
  {
   "cell_type": "code",
   "execution_count": 27,
   "metadata": {},
   "outputs": [
    {
     "data": {
      "text/plain": [
       "<matplotlib.axes._subplots.AxesSubplot at 0x11a584710>"
      ]
     },
     "execution_count": 27,
     "metadata": {},
     "output_type": "execute_result"
    },
    {
     "data": {
      "image/png": "[encoded data removed]",
      "text/plain": [
       "<Figure size 432x288 with 1 Axes>"
      ]
     },
     "metadata": {
      "needs_background": "light"
     },
     "output_type": "display_data"
    }
   ],
   "source": [
    "fixed_bin.groupby(\"review_body_fixed_bin\").size().plot(kind='bar')"
   ]
  },
  {
   "cell_type": "markdown",
   "metadata": {},
   "source": [
    "# Conslusion\n",
    "\n",
    "looks like Yelp reviews tends to be more verbose than Amazon\n",
    "\n",
    "90% of Amazon reviews have ~80 words or less compared to yelp reviews which is around ~55%\n",
    "\n",
    "## Update - 4/25 - Pandas is having issues reading the lines correctly for Amazon reviews so I think some of this data is incorrect\n",
    "\n"
   ]
  },
  {
   "cell_type": "code",
   "execution_count": null,
   "metadata": {},
   "outputs": [],
   "source": []
  }
 ],
 "metadata": {
  "kernelspec": {
   "display_name": "Python 3",
   "language": "python",
   "name": "python3"
  },
  "language_info": {
   "codemirror_mode": {
    "name": "ipython",
    "version": 3
   },
   "file_extension": ".py",
   "mimetype": "text/x-python",
   "name": "python",
   "nbconvert_exporter": "python",
   "pygments_lexer": "ipython3",
   "version": "3.7.3"
  }
 },
 "nbformat": 4,
 "nbformat_minor": 2
}
