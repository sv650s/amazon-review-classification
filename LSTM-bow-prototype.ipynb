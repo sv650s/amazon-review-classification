{
 "cells": [
  {
   "cell_type": "markdown",
   "metadata": {},
   "source": [
    "# LSTM Prototype\n",
    "\n",
    "Modeling this notebook after the following:\n",
    "\n",
    "https://nbviewer.jupyter.org/github/dipanjanS/nlp_workshop_dhs18/blob/master/Unit%2012%20-%20Project%209%20-%20Sentiment%20Analysis%20-%20Supervised%20Learning/12C%20-%20Sentiment%20Analysis%20-%20Advanced%20Deep%20Learning%20-%20LSTMs.ipynb\n",
    "\n",
    "\n",
    "Making the following changes:\n",
    "\n",
    "* I had trouble figuring out the inputs for the Embedding layer if we used word2vec embedding so using review_body-bow-df_default-ngram12-50000-10020-lda20 instead of word 2 vec since we need to create an embedding layer\n",
    "* last layer is a 5 node layer with softmax activation function since we are doing a 5 class classification\n",
    "* Changing the loss function from binary_crossentropy to categorical_crossentropy since we are doing multi-class classification"
   ]
  },
  {
   "cell_type": "code",
   "execution_count": 1,
   "metadata": {},
   "outputs": [
    {
     "name": "stderr",
     "output_type": "stream",
     "text": [
      "Using TensorFlow backend.\n"
     ]
    }
   ],
   "source": [
    "from keras.models import Sequential\n",
    "from keras.layers import Dense, Activation, Dropout\n",
    "from keras.layers.normalization import BatchNormalization\n",
    "from keras.callbacks import EarlyStopping\n",
    "from keras.models import load_model\n",
    "from sklearn.model_selection import train_test_split\n",
    "from keras.optimizers import SGD\n",
    "from sklearn.preprocessing import OneHotEncoder\n",
    "from keras.layers import Flatten\n",
    "from keras.layers.embeddings import Embedding\n",
    "from keras.layers import Dense, Embedding, Dropout, SpatialDropout1D\n",
    "from keras.layers import LSTM\n",
    "import pandas as pd\n",
    "from IPython.display import SVG\n",
    "from keras.utils.vis_utils import model_to_dot\n",
    "from util import dict_util as du\n",
    "from util import file_util as fu\n",
    "from util import plot_util as pu\n",
    "import pickle\n",
    "from datetime import datetime\n",
    "from sklearn.metrics import confusion_matrix, classification_report\n",
    "import os"
   ]
  },
  {
   "cell_type": "code",
   "execution_count": 2,
   "metadata": {},
   "outputs": [],
   "source": [
    "DATE_FORMAT = '%Y-%m-%d'\n",
    "TIME_FORMAT = '%Y-%m-%d %H:%M:%S'\n",
    "DATA_DIR = \"dataset/feature_files\"\n",
    "DATA_FILE = \"review_body-bow-df_default-ngram12-50000-10020-lda20.csv\"\n",
    "MODEL_NAME = \"LSTM\"\n",
    "FEATURE_COLUMN = \"star_rating\"\n",
    "directory, INBASENAME = fu.get_dir_basename(DATA_FILE)\n",
    "DESCRIPTION = f\"{MODEL_NAME}-{INBASENAME}-nosmote-{FEATURE_COLUMN}\"\n",
    "MODEL_FILE = f\"models/{datetime.now().strftime(DATE_FORMAT)}-{DESCRIPTION}.h5\"\n",
    "NETWORK_HISTORY_FILE = f'models/{datetime.now().strftime(DATE_FORMAT)}-{DESCRIPTION}-history.pkl'\n",
    "REPORT_FILE = f\"reports/2019-06-18-NN_notebook_protype-report.csv\""
   ]
  },
  {
   "cell_type": "code",
   "execution_count": 3,
   "metadata": {
    "hide_input": false
   },
   "outputs": [],
   "source": [
    "df = pd.read_csv(f\"{DATA_DIR}/{DATA_FILE}\")"
   ]
  },
  {
   "cell_type": "code",
   "execution_count": 4,
   "metadata": {},
   "outputs": [],
   "source": [
    "rating = df[FEATURE_COLUMN]\n",
    "df = df.drop(columns=[\"helpful_votes\", \"total_votes\",  \"star_rating\"])"
   ]
  },
  {
   "cell_type": "code",
   "execution_count": 5,
   "metadata": {},
   "outputs": [
    {
     "data": {
      "text/html": [
       "<div>\n",
       "<style scoped>\n",
       "    .dataframe tbody tr th:only-of-type {\n",
       "        vertical-align: middle;\n",
       "    }\n",
       "\n",
       "    .dataframe tbody tr th {\n",
       "        vertical-align: top;\n",
       "    }\n",
       "\n",
       "    .dataframe thead th {\n",
       "        text-align: right;\n",
       "    }\n",
       "</style>\n",
       "<table border=\"1\" class=\"dataframe\">\n",
       "  <thead>\n",
       "    <tr style=\"text-align: right;\">\n",
       "      <th></th>\n",
       "      <th>aa</th>\n",
       "      <th>aaa</th>\n",
       "      <th>ability</th>\n",
       "      <th>able</th>\n",
       "      <th>able charge</th>\n",
       "      <th>able do</th>\n",
       "      <th>able find</th>\n",
       "      <th>able get</th>\n",
       "      <th>able hear</th>\n",
       "      <th>able keep</th>\n",
       "      <th>...</th>\n",
       "      <th>10</th>\n",
       "      <th>11</th>\n",
       "      <th>12</th>\n",
       "      <th>13</th>\n",
       "      <th>14</th>\n",
       "      <th>15</th>\n",
       "      <th>16</th>\n",
       "      <th>17</th>\n",
       "      <th>18</th>\n",
       "      <th>19</th>\n",
       "    </tr>\n",
       "  </thead>\n",
       "  <tbody>\n",
       "    <tr>\n",
       "      <th>0</th>\n",
       "      <td>0</td>\n",
       "      <td>0</td>\n",
       "      <td>0</td>\n",
       "      <td>0</td>\n",
       "      <td>0</td>\n",
       "      <td>0</td>\n",
       "      <td>0</td>\n",
       "      <td>0</td>\n",
       "      <td>0</td>\n",
       "      <td>0</td>\n",
       "      <td>...</td>\n",
       "      <td>0.002083</td>\n",
       "      <td>0.002083</td>\n",
       "      <td>0.002083</td>\n",
       "      <td>0.002083</td>\n",
       "      <td>0.002083</td>\n",
       "      <td>0.002083</td>\n",
       "      <td>0.330576</td>\n",
       "      <td>0.405078</td>\n",
       "      <td>0.002083</td>\n",
       "      <td>0.002083</td>\n",
       "    </tr>\n",
       "    <tr>\n",
       "      <th>1</th>\n",
       "      <td>0</td>\n",
       "      <td>0</td>\n",
       "      <td>0</td>\n",
       "      <td>0</td>\n",
       "      <td>0</td>\n",
       "      <td>0</td>\n",
       "      <td>0</td>\n",
       "      <td>0</td>\n",
       "      <td>0</td>\n",
       "      <td>0</td>\n",
       "      <td>...</td>\n",
       "      <td>0.002778</td>\n",
       "      <td>0.002778</td>\n",
       "      <td>0.002778</td>\n",
       "      <td>0.002778</td>\n",
       "      <td>0.002778</td>\n",
       "      <td>0.002778</td>\n",
       "      <td>0.002778</td>\n",
       "      <td>0.620561</td>\n",
       "      <td>0.002778</td>\n",
       "      <td>0.002778</td>\n",
       "    </tr>\n",
       "    <tr>\n",
       "      <th>2</th>\n",
       "      <td>0</td>\n",
       "      <td>0</td>\n",
       "      <td>0</td>\n",
       "      <td>0</td>\n",
       "      <td>0</td>\n",
       "      <td>0</td>\n",
       "      <td>0</td>\n",
       "      <td>0</td>\n",
       "      <td>0</td>\n",
       "      <td>0</td>\n",
       "      <td>...</td>\n",
       "      <td>0.002632</td>\n",
       "      <td>0.002632</td>\n",
       "      <td>0.002632</td>\n",
       "      <td>0.002632</td>\n",
       "      <td>0.002632</td>\n",
       "      <td>0.002632</td>\n",
       "      <td>0.548134</td>\n",
       "      <td>0.002632</td>\n",
       "      <td>0.002632</td>\n",
       "      <td>0.002632</td>\n",
       "    </tr>\n",
       "    <tr>\n",
       "      <th>3</th>\n",
       "      <td>0</td>\n",
       "      <td>0</td>\n",
       "      <td>0</td>\n",
       "      <td>0</td>\n",
       "      <td>0</td>\n",
       "      <td>0</td>\n",
       "      <td>0</td>\n",
       "      <td>0</td>\n",
       "      <td>0</td>\n",
       "      <td>0</td>\n",
       "      <td>...</td>\n",
       "      <td>0.002778</td>\n",
       "      <td>0.002778</td>\n",
       "      <td>0.002778</td>\n",
       "      <td>0.002778</td>\n",
       "      <td>0.002778</td>\n",
       "      <td>0.002778</td>\n",
       "      <td>0.002778</td>\n",
       "      <td>0.002778</td>\n",
       "      <td>0.206143</td>\n",
       "      <td>0.002778</td>\n",
       "    </tr>\n",
       "    <tr>\n",
       "      <th>4</th>\n",
       "      <td>0</td>\n",
       "      <td>0</td>\n",
       "      <td>0</td>\n",
       "      <td>0</td>\n",
       "      <td>0</td>\n",
       "      <td>0</td>\n",
       "      <td>0</td>\n",
       "      <td>0</td>\n",
       "      <td>0</td>\n",
       "      <td>0</td>\n",
       "      <td>...</td>\n",
       "      <td>0.005556</td>\n",
       "      <td>0.005556</td>\n",
       "      <td>0.005556</td>\n",
       "      <td>0.005556</td>\n",
       "      <td>0.005556</td>\n",
       "      <td>0.005556</td>\n",
       "      <td>0.005556</td>\n",
       "      <td>0.005556</td>\n",
       "      <td>0.005556</td>\n",
       "      <td>0.173658</td>\n",
       "    </tr>\n",
       "  </tbody>\n",
       "</table>\n",
       "<p>5 rows × 10020 columns</p>\n",
       "</div>"
      ],
      "text/plain": [
       "   aa  aaa  ability  able  able charge  able do  able find  able get  \\\n",
       "0   0    0        0     0            0        0          0         0   \n",
       "1   0    0        0     0            0        0          0         0   \n",
       "2   0    0        0     0            0        0          0         0   \n",
       "3   0    0        0     0            0        0          0         0   \n",
       "4   0    0        0     0            0        0          0         0   \n",
       "\n",
       "   able hear  able keep  ...        10        11        12        13  \\\n",
       "0          0          0  ...  0.002083  0.002083  0.002083  0.002083   \n",
       "1          0          0  ...  0.002778  0.002778  0.002778  0.002778   \n",
       "2          0          0  ...  0.002632  0.002632  0.002632  0.002632   \n",
       "3          0          0  ...  0.002778  0.002778  0.002778  0.002778   \n",
       "4          0          0  ...  0.005556  0.005556  0.005556  0.005556   \n",
       "\n",
       "         14        15        16        17        18        19  \n",
       "0  0.002083  0.002083  0.330576  0.405078  0.002083  0.002083  \n",
       "1  0.002778  0.002778  0.002778  0.620561  0.002778  0.002778  \n",
       "2  0.002632  0.002632  0.548134  0.002632  0.002632  0.002632  \n",
       "3  0.002778  0.002778  0.002778  0.002778  0.206143  0.002778  \n",
       "4  0.005556  0.005556  0.005556  0.005556  0.005556  0.173658  \n",
       "\n",
       "[5 rows x 10020 columns]"
      ]
     },
     "execution_count": 5,
     "metadata": {},
     "output_type": "execute_result"
    }
   ],
   "source": [
    "df.head()"
   ]
  },
  {
   "cell_type": "code",
   "execution_count": 6,
   "metadata": {},
   "outputs": [
    {
     "data": {
      "text/plain": [
       "0    5\n",
       "1    5\n",
       "2    5\n",
       "3    5\n",
       "4    3\n",
       "Name: star_rating, dtype: int64"
      ]
     },
     "execution_count": 6,
     "metadata": {},
     "output_type": "execute_result"
    }
   ],
   "source": [
    "rating.head()"
   ]
  },
  {
   "cell_type": "code",
   "execution_count": 7,
   "metadata": {},
   "outputs": [
    {
     "name": "stdout",
     "output_type": "stream",
     "text": [
      "WARNING:tensorflow:From /anaconda3/envs/capstone/lib/python3.7/site-packages/tensorflow/python/framework/op_def_library.py:263: colocate_with (from tensorflow.python.framework.ops) is deprecated and will be removed in a future version.\n",
      "Instructions for updating:\n",
      "Colocations handled automatically by placer.\n",
      "WARNING:tensorflow:From /anaconda3/envs/capstone/lib/python3.7/site-packages/keras/backend/tensorflow_backend.py:3445: calling dropout (from tensorflow.python.ops.nn_ops) with keep_prob is deprecated and will be removed in a future version.\n",
      "Instructions for updating:\n",
      "Please use `rate` instead of `keep_prob`. Rate should be set to `rate = 1 - keep_prob`.\n"
     ]
    }
   ],
   "source": [
    "model = Sequential()\n",
    "model.add(Embedding(input_dim=df.shape[1], output_dim=1024, input_length=df.shape[1]))\n",
    "model.add(SpatialDropout1D(0.2))\n",
    "model.add(LSTM(128, dropout=0.2, recurrent_dropout=0.2))\n",
    "model.add(Dense(5, activation=\"softmax\"))\n",
    "\n",
    "model.compile(loss=\"categorical_crossentropy\", optimizer=\"adam\",\n",
    "              metrics=[\"accuracy\"])\n"
   ]
  },
  {
   "cell_type": "code",
   "execution_count": 8,
   "metadata": {},
   "outputs": [
    {
     "name": "stdout",
     "output_type": "stream",
     "text": [
      "_________________________________________________________________\n",
      "Layer (type)                 Output Shape              Param #   \n",
      "=================================================================\n",
      "embedding_1 (Embedding)      (None, 10020, 1024)       10260480  \n",
      "_________________________________________________________________\n",
      "spatial_dropout1d_1 (Spatial (None, 10020, 1024)       0         \n",
      "_________________________________________________________________\n",
      "lstm_1 (LSTM)                (None, 128)               590336    \n",
      "_________________________________________________________________\n",
      "dense_1 (Dense)              (None, 5)                 645       \n",
      "=================================================================\n",
      "Total params: 10,851,461\n",
      "Trainable params: 10,851,461\n",
      "Non-trainable params: 0\n",
      "_________________________________________________________________\n",
      "None\n"
     ]
    }
   ],
   "source": [
    "print(model.summary())"
   ]
  },
  {
   "cell_type": "code",
   "execution_count": 9,
   "metadata": {},
   "outputs": [
    {
     "data": {
      "image/svg+xml": [
       "<svg height=\"377pt\" viewBox=\"0.00 0.00 316.00 377.00\" width=\"316pt\" xmlns=\"http://www.w3.org/2000/svg\" xmlns:xlink=\"http://www.w3.org/1999/xlink\">\n",
       "<g class=\"graph\" id=\"graph0\" transform=\"scale(1 1) rotate(0) translate(4 373)\">\n",
       "<title>G</title>\n",
       "<polygon fill=\"#ffffff\" points=\"-4,4 -4,-373 312,-373 312,4 -4,4\" stroke=\"transparent\"/>\n",
       "<!-- 140363329941688 -->\n",
       "<g class=\"node\" id=\"node1\">\n",
       "<title>140363329941688</title>\n",
       "<polygon fill=\"none\" points=\"19,-249.5 19,-295.5 289,-295.5 289,-249.5 19,-249.5\" stroke=\"#000000\"/>\n",
       "<text fill=\"#000000\" font-family=\"Times,serif\" font-size=\"14.00\" text-anchor=\"middle\" x=\"59.5\" y=\"-268.8\">Embedding</text>\n",
       "<polyline fill=\"none\" points=\"100,-249.5 100,-295.5 \" stroke=\"#000000\"/>\n",
       "<text fill=\"#000000\" font-family=\"Times,serif\" font-size=\"14.00\" text-anchor=\"middle\" x=\"128\" y=\"-280.3\">input:</text>\n",
       "<polyline fill=\"none\" points=\"100,-272.5 156,-272.5 \" stroke=\"#000000\"/>\n",
       "<text fill=\"#000000\" font-family=\"Times,serif\" font-size=\"14.00\" text-anchor=\"middle\" x=\"128\" y=\"-257.3\">output:</text>\n",
       "<polyline fill=\"none\" points=\"156,-249.5 156,-295.5 \" stroke=\"#000000\"/>\n",
       "<text fill=\"#000000\" font-family=\"Times,serif\" font-size=\"14.00\" text-anchor=\"middle\" x=\"222.5\" y=\"-280.3\">(None, 10020)</text>\n",
       "<polyline fill=\"none\" points=\"156,-272.5 289,-272.5 \" stroke=\"#000000\"/>\n",
       "<text fill=\"#000000\" font-family=\"Times,serif\" font-size=\"14.00\" text-anchor=\"middle\" x=\"222.5\" y=\"-257.3\">(None, 10020, 1024)</text>\n",
       "</g>\n",
       "<!-- 140363050766120 -->\n",
       "<g class=\"node\" id=\"node2\">\n",
       "<title>140363050766120</title>\n",
       "<polygon fill=\"none\" points=\"0,-166.5 0,-212.5 308,-212.5 308,-166.5 0,-166.5\" stroke=\"#000000\"/>\n",
       "<text fill=\"#000000\" font-family=\"Times,serif\" font-size=\"14.00\" text-anchor=\"middle\" x=\"59.5\" y=\"-185.8\">SpatialDropout1D</text>\n",
       "<polyline fill=\"none\" points=\"119,-166.5 119,-212.5 \" stroke=\"#000000\"/>\n",
       "<text fill=\"#000000\" font-family=\"Times,serif\" font-size=\"14.00\" text-anchor=\"middle\" x=\"147\" y=\"-197.3\">input:</text>\n",
       "<polyline fill=\"none\" points=\"119,-189.5 175,-189.5 \" stroke=\"#000000\"/>\n",
       "<text fill=\"#000000\" font-family=\"Times,serif\" font-size=\"14.00\" text-anchor=\"middle\" x=\"147\" y=\"-174.3\">output:</text>\n",
       "<polyline fill=\"none\" points=\"175,-166.5 175,-212.5 \" stroke=\"#000000\"/>\n",
       "<text fill=\"#000000\" font-family=\"Times,serif\" font-size=\"14.00\" text-anchor=\"middle\" x=\"241.5\" y=\"-197.3\">(None, 10020, 1024)</text>\n",
       "<polyline fill=\"none\" points=\"175,-189.5 308,-189.5 \" stroke=\"#000000\"/>\n",
       "<text fill=\"#000000\" font-family=\"Times,serif\" font-size=\"14.00\" text-anchor=\"middle\" x=\"241.5\" y=\"-174.3\">(None, 10020, 1024)</text>\n",
       "</g>\n",
       "<!-- 140363329941688&#45;&gt;140363050766120 -->\n",
       "<g class=\"edge\" id=\"edge2\">\n",
       "<title>140363329941688-&gt;140363050766120</title>\n",
       "<path d=\"M154,-249.3799C154,-241.1745 154,-231.7679 154,-222.8786\" fill=\"none\" stroke=\"#000000\"/>\n",
       "<polygon fill=\"#000000\" points=\"157.5001,-222.784 154,-212.784 150.5001,-222.784 157.5001,-222.784\" stroke=\"#000000\"/>\n",
       "</g>\n",
       "<!-- 140363566506616 -->\n",
       "<g class=\"node\" id=\"node3\">\n",
       "<title>140363566506616</title>\n",
       "<polygon fill=\"none\" points=\"32.5,-83.5 32.5,-129.5 275.5,-129.5 275.5,-83.5 32.5,-83.5\" stroke=\"#000000\"/>\n",
       "<text fill=\"#000000\" font-family=\"Times,serif\" font-size=\"14.00\" text-anchor=\"middle\" x=\"59.5\" y=\"-102.8\">LSTM</text>\n",
       "<polyline fill=\"none\" points=\"86.5,-83.5 86.5,-129.5 \" stroke=\"#000000\"/>\n",
       "<text fill=\"#000000\" font-family=\"Times,serif\" font-size=\"14.00\" text-anchor=\"middle\" x=\"114.5\" y=\"-114.3\">input:</text>\n",
       "<polyline fill=\"none\" points=\"86.5,-106.5 142.5,-106.5 \" stroke=\"#000000\"/>\n",
       "<text fill=\"#000000\" font-family=\"Times,serif\" font-size=\"14.00\" text-anchor=\"middle\" x=\"114.5\" y=\"-91.3\">output:</text>\n",
       "<polyline fill=\"none\" points=\"142.5,-83.5 142.5,-129.5 \" stroke=\"#000000\"/>\n",
       "<text fill=\"#000000\" font-family=\"Times,serif\" font-size=\"14.00\" text-anchor=\"middle\" x=\"209\" y=\"-114.3\">(None, 10020, 1024)</text>\n",
       "<polyline fill=\"none\" points=\"142.5,-106.5 275.5,-106.5 \" stroke=\"#000000\"/>\n",
       "<text fill=\"#000000\" font-family=\"Times,serif\" font-size=\"14.00\" text-anchor=\"middle\" x=\"209\" y=\"-91.3\">(None, 128)</text>\n",
       "</g>\n",
       "<!-- 140363050766120&#45;&gt;140363566506616 -->\n",
       "<g class=\"edge\" id=\"edge3\">\n",
       "<title>140363050766120-&gt;140363566506616</title>\n",
       "<path d=\"M154,-166.3799C154,-158.1745 154,-148.7679 154,-139.8786\" fill=\"none\" stroke=\"#000000\"/>\n",
       "<polygon fill=\"#000000\" points=\"157.5001,-139.784 154,-129.784 150.5001,-139.784 157.5001,-139.784\" stroke=\"#000000\"/>\n",
       "</g>\n",
       "<!-- 140363329942920 -->\n",
       "<g class=\"node\" id=\"node4\">\n",
       "<title>140363329942920</title>\n",
       "<polygon fill=\"none\" points=\"58.5,-.5 58.5,-46.5 249.5,-46.5 249.5,-.5 58.5,-.5\" stroke=\"#000000\"/>\n",
       "<text fill=\"#000000\" font-family=\"Times,serif\" font-size=\"14.00\" text-anchor=\"middle\" x=\"84\" y=\"-19.8\">Dense</text>\n",
       "<polyline fill=\"none\" points=\"109.5,-.5 109.5,-46.5 \" stroke=\"#000000\"/>\n",
       "<text fill=\"#000000\" font-family=\"Times,serif\" font-size=\"14.00\" text-anchor=\"middle\" x=\"137.5\" y=\"-31.3\">input:</text>\n",
       "<polyline fill=\"none\" points=\"109.5,-23.5 165.5,-23.5 \" stroke=\"#000000\"/>\n",
       "<text fill=\"#000000\" font-family=\"Times,serif\" font-size=\"14.00\" text-anchor=\"middle\" x=\"137.5\" y=\"-8.3\">output:</text>\n",
       "<polyline fill=\"none\" points=\"165.5,-.5 165.5,-46.5 \" stroke=\"#000000\"/>\n",
       "<text fill=\"#000000\" font-family=\"Times,serif\" font-size=\"14.00\" text-anchor=\"middle\" x=\"207.5\" y=\"-31.3\">(None, 128)</text>\n",
       "<polyline fill=\"none\" points=\"165.5,-23.5 249.5,-23.5 \" stroke=\"#000000\"/>\n",
       "<text fill=\"#000000\" font-family=\"Times,serif\" font-size=\"14.00\" text-anchor=\"middle\" x=\"207.5\" y=\"-8.3\">(None, 5)</text>\n",
       "</g>\n",
       "<!-- 140363566506616&#45;&gt;140363329942920 -->\n",
       "<g class=\"edge\" id=\"edge4\">\n",
       "<title>140363566506616-&gt;140363329942920</title>\n",
       "<path d=\"M154,-83.3799C154,-75.1745 154,-65.7679 154,-56.8786\" fill=\"none\" stroke=\"#000000\"/>\n",
       "<polygon fill=\"#000000\" points=\"157.5001,-56.784 154,-46.784 150.5001,-56.784 157.5001,-56.784\" stroke=\"#000000\"/>\n",
       "</g>\n",
       "<!-- 140363050925976 -->\n",
       "<g class=\"node\" id=\"node5\">\n",
       "<title>140363050925976</title>\n",
       "<polygon fill=\"none\" points=\"93,-332.5 93,-368.5 215,-368.5 215,-332.5 93,-332.5\" stroke=\"#000000\"/>\n",
       "<text fill=\"#000000\" font-family=\"Times,serif\" font-size=\"14.00\" text-anchor=\"middle\" x=\"154\" y=\"-346.8\">140363050925976</text>\n",
       "</g>\n",
       "<!-- 140363050925976&#45;&gt;140363329941688 -->\n",
       "<g class=\"edge\" id=\"edge1\">\n",
       "<title>140363050925976-&gt;140363329941688</title>\n",
       "<path d=\"M154,-332.4092C154,-324.4308 154,-314.795 154,-305.606\" fill=\"none\" stroke=\"#000000\"/>\n",
       "<polygon fill=\"#000000\" points=\"157.5001,-305.5333 154,-295.5333 150.5001,-305.5334 157.5001,-305.5333\" stroke=\"#000000\"/>\n",
       "</g>\n",
       "</g>\n",
       "</svg>"
      ],
      "text/plain": [
       "<IPython.core.display.SVG object>"
      ]
     },
     "execution_count": 9,
     "metadata": {},
     "output_type": "execute_result"
    }
   ],
   "source": [
    "SVG(model_to_dot(model, show_shapes=True, show_layer_names=False, \n",
    "                 rankdir='TB').create(prog='dot', format='svg'))"
   ]
  },
  {
   "cell_type": "code",
   "execution_count": 13,
   "metadata": {},
   "outputs": [
    {
     "name": "stdout",
     "output_type": "stream",
     "text": [
      "(50000,)\n",
      "<class 'pandas.core.series.Series'>\n"
     ]
    },
    {
     "name": "stderr",
     "output_type": "stream",
     "text": [
      "/anaconda3/envs/capstone/lib/python3.7/site-packages/sklearn/preprocessing/_encoders.py:415: FutureWarning: The handling of integer data will change in version 0.22. Currently, the categories are determined based on the range [0, max(values)], while in the future they will be determined based on the unique values.\n",
      "If you want the future behaviour and silence this warning, you can specify \"categories='auto'\".\n",
      "In case you used a LabelEncoder before this OneHotEncoder to convert the categories to integers, then you can now use the OneHotEncoder directly.\n",
      "  warnings.warn(msg, FutureWarning)\n"
     ]
    },
    {
     "data": {
      "text/plain": [
       "array([[0., 0., 0., 0., 1.],\n",
       "       [0., 0., 0., 0., 1.],\n",
       "       [0., 0., 0., 0., 1.],\n",
       "       ...,\n",
       "       [0., 0., 0., 0., 1.],\n",
       "       [1., 0., 0., 0., 0.],\n",
       "       [0., 0., 0., 0., 1.]])"
      ]
     },
     "execution_count": 13,
     "metadata": {},
     "output_type": "execute_result"
    }
   ],
   "source": [
    "# one hot encode rating\n",
    "print(rating.shape)\n",
    "print(type(rating))\n",
    "y = OneHotEncoder().fit_transform(rating.values.reshape(len(rating), 1)).toarray()\n",
    "y"
   ]
  },
  {
   "cell_type": "code",
   "execution_count": 14,
   "metadata": {},
   "outputs": [],
   "source": [
    "x_train, x_test, y_train, y_test = train_test_split(df, y, random_state=1)"
   ]
  },
  {
   "cell_type": "code",
   "execution_count": null,
   "metadata": {
    "scrolled": false
   },
   "outputs": [
    {
     "name": "stdout",
     "output_type": "stream",
     "text": [
      "Train on 30000 samples, validate on 7500 samples\n",
      "Epoch 1/2\n",
      "24064/30000 [=======================>......] - ETA: 3:39:16 - loss: 1.2459 - acc: 0.5776"
     ]
    }
   ],
   "source": [
    "early_stop = EarlyStopping(monitor='val_loss', patience=2, verbose=1)\n",
    "network_history = model.fit(x_train, y_train,\n",
    "                      batch_size=128,\n",
    "                      epochs=2,\n",
    "                      verbose=1,\n",
    "                      validation_split=0.2,\n",
    "                      callbacks=[early_stop])"
   ]
  },
  {
   "cell_type": "code",
   "execution_count": null,
   "metadata": {},
   "outputs": [],
   "source": [
    "scores = model.evaluate(x_test, y_test, verbose=1)\n",
    "print(\"Accuracy: %.2f%%\" % (scores[1]*100))\n"
   ]
  },
  {
   "cell_type": "code",
   "execution_count": null,
   "metadata": {},
   "outputs": [],
   "source": [
    "import matplotlib.pyplot as plt\n",
    "%matplotlib inline\n",
    "\n",
    "def plot_history(network_history):\n",
    "    plt.figure()\n",
    "    plt.xlabel('Epochs')\n",
    "    plt.ylabel('Loss')\n",
    "    plt.plot(network_history.history['loss'])\n",
    "    plt.plot(network_history.history['val_loss'])\n",
    "    plt.legend(['Training', 'Validation'])\n",
    "\n",
    "    plt.figure()\n",
    "    plt.xlabel('Epochs')\n",
    "    plt.ylabel('Accuracy')\n",
    "    plt.plot(network_history.history['acc'])\n",
    "    plt.plot(network_history.history['val_acc'])\n",
    "    plt.legend(['Training', 'Validation'], loc='lower right')\n",
    "    plt.show()\n",
    "\n",
    "plot_history(network_history)"
   ]
  },
  {
   "cell_type": "code",
   "execution_count": null,
   "metadata": {},
   "outputs": [],
   "source": [
    "y_predict = model.predict(x_test)"
   ]
  },
  {
   "cell_type": "code",
   "execution_count": null,
   "metadata": {},
   "outputs": [],
   "source": [
    "y_predict_df = pd.DataFrame(y_predict)\n",
    "y_predict_df.head()"
   ]
  },
  {
   "cell_type": "code",
   "execution_count": null,
   "metadata": {},
   "outputs": [],
   "source": [
    "y_predict_unencoded = [row.idxmax() + 1 for index, row in y_predict_df.iterrows()]"
   ]
  },
  {
   "cell_type": "code",
   "execution_count": null,
   "metadata": {},
   "outputs": [],
   "source": [
    "y_test_df = pd.DataFrame(y_test)\n",
    "y_test_unencoded = [row.idxmax() + 1 for index, row in y_test_df.iterrows()]"
   ]
  },
  {
   "cell_type": "code",
   "execution_count": null,
   "metadata": {},
   "outputs": [],
   "source": [
    "confusion_matrix(y_test_unencoded, y_predict_unencoded)"
   ]
  },
  {
   "cell_type": "code",
   "execution_count": null,
   "metadata": {},
   "outputs": [],
   "source": [
    "print(classification_report(y_test_unencoded, y_predict_unencoded))"
   ]
  },
  {
   "cell_type": "markdown",
   "metadata": {},
   "source": [
    "# Save off various files"
   ]
  },
  {
   "cell_type": "code",
   "execution_count": null,
   "metadata": {},
   "outputs": [],
   "source": [
    "model.save(MODEL_FILE)"
   ]
  },
  {
   "cell_type": "code",
   "execution_count": null,
   "metadata": {},
   "outputs": [],
   "source": [
    "pickle.dump(network_history, open(NETWORK_HISTORY_FILE, \"wb\"))"
   ]
  },
  {
   "cell_type": "code",
   "execution_count": null,
   "metadata": {},
   "outputs": [],
   "source": [
    "# saving off report in the same format as other report just in case we want to compare for later\n",
    "flattened = {}\n",
    "flattened = du.add_dict_to_dict(flattened, classification_report(y_test_unencoded, y_predict_unencoded, output_dict=True))\n",
    "flattened[\"confusion_matrix\"] = confusion_matrix(y_test_unencoded, y_predict_unencoded)\n",
    "flattened[\"description\"] = DESCRIPTION\n",
    "flattened[\"file\"] = DATA_FILE\n",
    "flattened[\"network_history_file\"] = NETWORK_HISTORY_FILE\n",
    "flattened[\"embedding\"] = \"bow\"\n",
    "flattened[\"model_file\"] = MODEL_FILE\n",
    "flattened[\"model_name\"] = MODEL_NAME\n",
    "flattened[\"test_examples\"] = x_test.shape[0]\n",
    "flattened[\"test_features\"] = x_test.shape[1]\n",
    "flattened[\"train_examples\"] = x_train.shape[0]\n",
    "flattened[\"train_features\"] = x_train.shape[1]\n",
    "flattened[\"status\"] = \"success\"\n",
    "flattened[\"status_date\"] = datetime.now().strftime(TIME_FORMAT)\n"
   ]
  },
  {
   "cell_type": "code",
   "execution_count": null,
   "metadata": {},
   "outputs": [],
   "source": [
    "# check to see if report file exisits, if so load it and append\n",
    "exists = os.path.isfile(REPORT_FILE)\n",
    "if exists:\n",
    "    report_df = pd.read_csv(REPORT_FILE)\n",
    "else:\n",
    "    report_df = pd.DataFrame()\n",
    "    \n",
    "report_df = report_df.append(flattened, ignore_index=True)\n",
    "report_df.head()\n",
    "\n"
   ]
  },
  {
   "cell_type": "code",
   "execution_count": null,
   "metadata": {},
   "outputs": [],
   "source": [
    "report_df.to_csv(REPORT_FILE, index=False)"
   ]
  },
  {
   "cell_type": "code",
   "execution_count": null,
   "metadata": {},
   "outputs": [],
   "source": []
  }
 ],
 "metadata": {
  "hide_input": false,
  "kernelspec": {
   "display_name": "Python 3",
   "language": "python",
   "name": "python3"
  },
  "language_info": {
   "codemirror_mode": {
    "name": "ipython",
    "version": 3
   },
   "file_extension": ".py",
   "mimetype": "text/x-python",
   "name": "python",
   "nbconvert_exporter": "python",
   "pygments_lexer": "ipython3",
   "version": "3.7.3"
  }
 },
 "nbformat": 4,
 "nbformat_minor": 2
}
