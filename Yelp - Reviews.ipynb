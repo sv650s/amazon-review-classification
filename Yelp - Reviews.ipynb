{
 "cells": [
  {
   "cell_type": "markdown",
   "metadata": {},
   "source": [
    "# Yelp Data - Let's only look at Reviews"
   ]
  },
  {
   "cell_type": "code",
   "execution_count": 1,
   "metadata": {},
   "outputs": [],
   "source": [
    "import pandas as pd\n",
    "from pandas import DataFrame\n",
    "import numpy as np\n",
    "import matplotlib.pyplot as plt\n",
    "%matplotlib inline"
   ]
  },
  {
   "cell_type": "markdown",
   "metadata": {},
   "source": [
    "# Reviews Dataset\n",
    "\n",
    "Here are the columns\n",
    "\n",
    "| column | description | type |\n",
    "|--------|-------------|------|\n",
    "| business_id | ? | string |\n",
    "| cool | ? | int64 |\n",
    "| date | date of review | datetime64 |\n",
    "| funny | count of people voted funny? | int64 |\n",
    "| review_id | unique identifer | string |\n",
    "| stars | stars of the review - discrete values (1 to 5) | int64 |\n",
    "| text | ? | string |\n",
    "| usefule | vote on usefulness | int64 |\n",
    "| user_id | user unique identifier | string |\n",
    "\n",
    "There are 6685900 unique entries\n",
    "\n",
    "Memory usage for the entire DF = 459.1+ MB\n",
    "\n",
    "1637138 unique users\n",
    "\n",
    "192606 businesses - 3 less that businesses listed in business file\n",
    "\n",
    "Full dataset will take about 30 minutes to load\n",
    "\n",
    "try review_short.json which only has the first 50k entries"
   ]
  },
  {
   "cell_type": "code",
   "execution_count": 2,
   "metadata": {},
   "outputs": [],
   "source": [
    "reviews = pd.read_json('dataset/yelp_dataset2019/review_short.json', lines=True)"
   ]
  },
  {
   "cell_type": "code",
   "execution_count": 3,
   "metadata": {},
   "outputs": [
    {
     "name": "stdout",
     "output_type": "stream",
     "text": [
      "<class 'pandas.core.frame.DataFrame'>\n",
      "RangeIndex: 50000 entries, 0 to 49999\n",
      "Data columns (total 9 columns):\n",
      "business_id    50000 non-null object\n",
      "cool           50000 non-null int64\n",
      "date           50000 non-null datetime64[ns]\n",
      "funny          50000 non-null int64\n",
      "review_id      50000 non-null object\n",
      "stars          50000 non-null int64\n",
      "text           50000 non-null object\n",
      "useful         50000 non-null int64\n",
      "user_id        50000 non-null object\n",
      "dtypes: datetime64[ns](1), int64(4), object(4)\n",
      "memory usage: 3.4+ MB\n",
      "None\n"
     ]
    },
    {
     "data": {
      "text/html": [
       "<div>\n",
       "<style scoped>\n",
       "    .dataframe tbody tr th:only-of-type {\n",
       "        vertical-align: middle;\n",
       "    }\n",
       "\n",
       "    .dataframe tbody tr th {\n",
       "        vertical-align: top;\n",
       "    }\n",
       "\n",
       "    .dataframe thead th {\n",
       "        text-align: right;\n",
       "    }\n",
       "</style>\n",
       "<table border=\"1\" class=\"dataframe\">\n",
       "  <thead>\n",
       "    <tr style=\"text-align: right;\">\n",
       "      <th></th>\n",
       "      <th>business_id</th>\n",
       "      <th>cool</th>\n",
       "      <th>date</th>\n",
       "      <th>funny</th>\n",
       "      <th>review_id</th>\n",
       "      <th>stars</th>\n",
       "      <th>text</th>\n",
       "      <th>useful</th>\n",
       "      <th>user_id</th>\n",
       "    </tr>\n",
       "  </thead>\n",
       "  <tbody>\n",
       "    <tr>\n",
       "      <th>0</th>\n",
       "      <td>ujmEBvifdJM6h6RLv4wQIg</td>\n",
       "      <td>0</td>\n",
       "      <td>2013-05-07 04:34:36</td>\n",
       "      <td>1</td>\n",
       "      <td>Q1sbwvVQXV2734tPgoKj4Q</td>\n",
       "      <td>1</td>\n",
       "      <td>Total bill for this horrible service? Over $8G...</td>\n",
       "      <td>6</td>\n",
       "      <td>hG7b0MtEbXx5QzbzE6C_VA</td>\n",
       "    </tr>\n",
       "    <tr>\n",
       "      <th>1</th>\n",
       "      <td>NZnhc2sEQy3RmzKTZnqtwQ</td>\n",
       "      <td>0</td>\n",
       "      <td>2017-01-14 21:30:33</td>\n",
       "      <td>0</td>\n",
       "      <td>GJXCdrto3ASJOqKeVWPi6Q</td>\n",
       "      <td>5</td>\n",
       "      <td>I *adore* Travis at the Hard Rock's new Kelly ...</td>\n",
       "      <td>0</td>\n",
       "      <td>yXQM5uF2jS6es16SJzNHfg</td>\n",
       "    </tr>\n",
       "  </tbody>\n",
       "</table>\n",
       "</div>"
      ],
      "text/plain": [
       "              business_id  cool                date  funny  \\\n",
       "0  ujmEBvifdJM6h6RLv4wQIg     0 2013-05-07 04:34:36      1   \n",
       "1  NZnhc2sEQy3RmzKTZnqtwQ     0 2017-01-14 21:30:33      0   \n",
       "\n",
       "                review_id  stars  \\\n",
       "0  Q1sbwvVQXV2734tPgoKj4Q      1   \n",
       "1  GJXCdrto3ASJOqKeVWPi6Q      5   \n",
       "\n",
       "                                                text  useful  \\\n",
       "0  Total bill for this horrible service? Over $8G...       6   \n",
       "1  I *adore* Travis at the Hard Rock's new Kelly ...       0   \n",
       "\n",
       "                  user_id  \n",
       "0  hG7b0MtEbXx5QzbzE6C_VA  \n",
       "1  yXQM5uF2jS6es16SJzNHfg  "
      ]
     },
     "execution_count": 3,
     "metadata": {},
     "output_type": "execute_result"
    }
   ],
   "source": [
    "print(reviews.info())\n",
    "reviews.head(2)"
   ]
  },
  {
   "cell_type": "code",
   "execution_count": 4,
   "metadata": {},
   "outputs": [],
   "source": [
    "# let's drop columns that we won't need\n",
    "# keep business_id, review_id, text, and user_id for now\n",
    "# reviews.drop(['cool', 'date', 'funny', 'useful'])\n"
   ]
  },
  {
   "cell_type": "code",
   "execution_count": 5,
   "metadata": {},
   "outputs": [
    {
     "name": "stdout",
     "output_type": "stream",
     "text": [
      "42988\n"
     ]
    },
    {
     "data": {
      "text/plain": [
       "user_id\n",
       "CxDOIDnH8gp9KXzpBHJYXw    25\n",
       "bLbSNkLggFnqwNNzzq-Ijw    17\n",
       "PKEzKWv_FktMm2mGPjwd0Q    16\n",
       "62GNFh5FySkA3MbrQmnqvg    16\n",
       "QJI9OSEn6ujRCtrX06vs1w    15\n",
       "hWDybu_KvYLSdEFzGrniTw    13\n",
       "rCWrxuRC8_pfagpchtHp6A    12\n",
       "-InhDRRVG7wrwsgAUvN4Qw    12\n",
       "cMEtAiW60I5wE_vLfTxoJQ    11\n",
       "Wc5L6iuvSNF5WGBlqIO8nw    11\n",
       "qewG3X2O4X6JKskxyyqFwQ    11\n",
       "ELcQDlf69kb-ihJfxZyL0A    11\n",
       "L8P5OWO1Jh4B2HLa1Fnbng    10\n",
       "ciXjBfJrAEteIKpzZg4I9g    10\n",
       "fiGqQ7pIGKyZ9G0RqWLMpg    10\n",
       "sTcYq6goD1Fa2WS9MSkSvQ    10\n",
       "rKkpHJkJ27xOwnhy_bMkvA     9\n",
       "3nDUQBjKyVor5wV0reJChg     9\n",
       "71XStF5U0kmJw2Iym9fclQ     9\n",
       "QHX3NxFAlda3I32taYzI8w     9\n",
       "dtype: int64"
      ]
     },
     "execution_count": 5,
     "metadata": {},
     "output_type": "execute_result"
    }
   ],
   "source": [
    "reviews_by_users = reviews.groupby('user_id').size().sort_values(ascending=False)\n",
    "print(len(reviews_by_users))\n",
    "reviews_by_users.head(20)"
   ]
  },
  {
   "cell_type": "code",
   "execution_count": 6,
   "metadata": {
    "scrolled": true
   },
   "outputs": [
    {
     "data": {
      "text/plain": [
       "Text(0, 0.5, 'Number of Users')"
      ]
     },
     "execution_count": 6,
     "metadata": {},
     "output_type": "execute_result"
    },
    {
     "data": {
      "image/png": "[encoded data removed]",
      "text/plain": [
       "<Figure size 432x288 with 1 Axes>"
      ]
     },
     "metadata": {
      "needs_background": "light"
     },
     "output_type": "display_data"
    }
   ],
   "source": [
    "# plot user review histogram to see how often users provide reviews\n",
    "fig, ax = plt.subplots()\n",
    "reviews_by_users.hist(bins=25, color='#A9C5D3', \n",
    "                             edgecolor='black', grid=False)\n",
    "ax.set_title('Reviews By Users Histogram', fontsize=12)\n",
    "ax.set_xlabel('Number of Reviews', fontsize=12)\n",
    "ax.set_ylabel('Number of Users', fontsize=12)"
   ]
  },
  {
   "cell_type": "code",
   "execution_count": 7,
   "metadata": {},
   "outputs": [
    {
     "name": "stdout",
     "output_type": "stream",
     "text": [
      "<class 'pandas.core.series.Series'>\n"
     ]
    },
    {
     "data": {
      "text/plain": [
       "0.00     1.0\n",
       "0.25     1.0\n",
       "0.50     1.0\n",
       "0.75     1.0\n",
       "1.00    25.0\n",
       "dtype: float64"
      ]
     },
     "execution_count": 7,
     "metadata": {},
     "output_type": "execute_result"
    }
   ],
   "source": [
    "# quantile binning of businesses and number of reviews\n",
    "quantile_list = [0, .25, .5, .75, 1.]\n",
    "quantiles = reviews_by_users.quantile(quantile_list)\n",
    "\n",
    "# fig, ax = plt.subplots()\n",
    "# reviews.business_id.hist(bins=30, color='#A9C5D3', \n",
    "#                              edgecolor='black', grid=False)\n",
    "\n",
    "# for quantile in quantiles:\n",
    "#     qvl = plt.axvline(quantile, color='r')\n",
    "\n",
    "print(type(quantiles))\n",
    "quantiles.head()\n"
   ]
  },
  {
   "cell_type": "code",
   "execution_count": 15,
   "metadata": {},
   "outputs": [
    {
     "data": {
      "text/plain": [
       "{'whiskers': [<matplotlib.lines.Line2D at 0x121ace470>,\n",
       "  <matplotlib.lines.Line2D at 0x121ace7b8>],\n",
       " 'caps': [<matplotlib.lines.Line2D at 0x121aceb00>,\n",
       "  <matplotlib.lines.Line2D at 0x121acee48>],\n",
       " 'boxes': [<matplotlib.lines.Line2D at 0x121ace080>],\n",
       " 'medians': [<matplotlib.lines.Line2D at 0x121acef28>],\n",
       " 'fliers': [<matplotlib.lines.Line2D at 0x121ade518>],\n",
       " 'means': []}"
      ]
     },
     "execution_count": 15,
     "metadata": {},
     "output_type": "execute_result"
    },
    {
     "data": {
      "image/png": "[encoded data removed]",
      "text/plain": [
       "<Figure size 432x288 with 1 Axes>"
      ]
     },
     "metadata": {
      "needs_background": "light"
     },
     "output_type": "display_data"
    }
   ],
   "source": [
    "fig, ax = plt.subplots()\n",
    "plt.boxplot(reviews_by_users)"
   ]
  },
  {
   "cell_type": "code",
   "execution_count": 8,
   "metadata": {},
   "outputs": [
    {
     "name": "stdout",
     "output_type": "stream",
     "text": [
      "10659\n"
     ]
    },
    {
     "data": {
      "text/plain": [
       "business_id\n",
       "ujHiaprwCQ5ewziu0Vi9rw    376\n",
       "faPVqws-x-5k2CQKDNtHxw    281\n",
       "Wxxvi3LZbHNIDwJ-ZimtnA    279\n",
       "HhVmDybpU7L50Kb5A0jXTg    270\n",
       "XXW_OFaYQkkGOGniujZFHg    264\n",
       "pH0BLkL4cbxKzu471VZnuA    194\n",
       "yNPh5SO-7wr8HPpVCDPbXQ    152\n",
       "uuGL8diLlHfeUeFuod3F-w    150\n",
       "Xg5qEQiB-7L6kGJ5F4K3bQ    148\n",
       "N0apJkxIem2E8irTBRKnHw    147\n",
       "dtype: int64"
      ]
     },
     "execution_count": 8,
     "metadata": {},
     "output_type": "execute_result"
    }
   ],
   "source": [
    "reviews_by_business = reviews.groupby('business_id').size().sort_values(ascending=False)\n",
    "print(len(reviews_by_business))\n",
    "reviews_by_business.head(10)"
   ]
  },
  {
   "cell_type": "code",
   "execution_count": 9,
   "metadata": {},
   "outputs": [
    {
     "data": {
      "text/plain": [
       "Text(0, 0.5, 'Number of Business')"
      ]
     },
     "execution_count": 9,
     "metadata": {},
     "output_type": "execute_result"
    },
    {
     "data": {
      "image/png": "[encoded data removed]",
      "text/plain": [
       "<Figure size 432x288 with 1 Axes>"
      ]
     },
     "metadata": {
      "needs_background": "light"
     },
     "output_type": "display_data"
    }
   ],
   "source": [
    "# plot reviews by business histogram to see how many business have how many review\n",
    "fig, ax = plt.subplots()\n",
    "reviews_by_business.hist(bins=50, color='#A9C5D3', \n",
    "                             edgecolor='black', grid=False)\n",
    "ax.set_title('Reviews By Business Histogram', fontsize=12)\n",
    "ax.set_xlabel('Number of Reviews', fontsize=12)\n",
    "ax.set_ylabel('Number of Business', fontsize=12)"
   ]
  },
  {
   "cell_type": "code",
   "execution_count": 10,
   "metadata": {},
   "outputs": [
    {
     "name": "stdout",
     "output_type": "stream",
     "text": [
      "<class 'pandas.core.series.Series'>\n"
     ]
    },
    {
     "data": {
      "text/plain": [
       "0.00     1.0\n",
       "0.25     1.0\n",
       "0.50     1.0\n",
       "0.75     1.0\n",
       "1.00    25.0\n",
       "dtype: float64"
      ]
     },
     "execution_count": 10,
     "metadata": {},
     "output_type": "execute_result"
    }
   ],
   "source": [
    "# quantile binning of businesses and number of reviews\n",
    "quantile_list = [0, .25, .5, .75, 1.]\n",
    "quantiles = reviews_by_users.quantile(quantile_list)\n",
    "\n",
    "# fig, ax = plt.subplots()\n",
    "# reviews.business_id.hist(bins=30, color='#A9C5D3', \n",
    "#                              edgecolor='black', grid=False)\n",
    "\n",
    "# for quantile in quantiles:\n",
    "#     qvl = plt.axvline(quantile, color='r')\n",
    "\n",
    "print(type(quantiles))\n",
    "quantiles.head()\n"
   ]
  },
  {
   "cell_type": "code",
   "execution_count": 14,
   "metadata": {},
   "outputs": [
    {
     "data": {
      "text/plain": [
       "{'whiskers': [<matplotlib.lines.Line2D at 0x12117bef0>,\n",
       "  <matplotlib.lines.Line2D at 0x12118c550>],\n",
       " 'caps': [<matplotlib.lines.Line2D at 0x12118c828>,\n",
       "  <matplotlib.lines.Line2D at 0x12118cb00>],\n",
       " 'boxes': [<matplotlib.lines.Line2D at 0x12117bda0>],\n",
       " 'medians': [<matplotlib.lines.Line2D at 0x12118cfd0>],\n",
       " 'fliers': [<matplotlib.lines.Line2D at 0x12119b320>],\n",
       " 'means': []}"
      ]
     },
     "execution_count": 14,
     "metadata": {},
     "output_type": "execute_result"
    },
    {
     "data": {
      "image/png": "[encoded data removed]",
      "text/plain": [
       "<Figure size 432x288 with 1 Axes>"
      ]
     },
     "metadata": {
      "needs_background": "light"
     },
     "output_type": "display_data"
    }
   ],
   "source": [
    "fig, ax = plt.subplots()\n",
    "plt.boxplot(reviews_by_business)"
   ]
  },
  {
   "cell_type": "code",
   "execution_count": 11,
   "metadata": {},
   "outputs": [
    {
     "data": {
      "text/plain": [
       "Text(0, 0.5, 'Number of Reviews')"
      ]
     },
     "execution_count": 11,
     "metadata": {},
     "output_type": "execute_result"
    },
    {
     "data": {
      "image/png": "[encoded data removed]",
      "text/plain": [
       "<Figure size 432x288 with 1 Axes>"
      ]
     },
     "metadata": {
      "needs_background": "light"
     },
     "output_type": "display_data"
    }
   ],
   "source": [
    "# reviews.hist(column='stars', grid=False)\n",
    "fig, ax = plt.subplots()\n",
    "reviews.stars.hist(bins=5, color='#A9C5D3', \n",
    "                             edgecolor='black', grid=False)\n",
    "ax.set_title('Number of Reviews By Stars', fontsize=12)\n",
    "ax.set_xlabel('Stars', fontsize=12)\n",
    "ax.set_ylabel('Number of Reviews', fontsize=12)"
   ]
  },
  {
   "cell_type": "code",
   "execution_count": 12,
   "metadata": {},
   "outputs": [
    {
     "data": {
      "text/plain": [
       "0.00      0.0\n",
       "0.25      0.0\n",
       "0.50      0.0\n",
       "0.75      1.0\n",
       "1.00    101.0\n",
       "Name: useful, dtype: float64"
      ]
     },
     "execution_count": 12,
     "metadata": {},
     "output_type": "execute_result"
    }
   ],
   "source": [
    "# let's look at useful reviews\n",
    "# looks like most reviews do not have a useful rating\n",
    "quantile_list = [0, .25, .5, .75, 1.]\n",
    "reviews.useful.quantile(quantile_list)"
   ]
  },
  {
   "cell_type": "markdown",
   "metadata": {},
   "source": [
    "# Let's start looking at reviews. \n",
    "## How many sentences are there? in each review\n",
    "## How many words are in each review?"
   ]
  },
  {
   "cell_type": "code",
   "execution_count": null,
   "metadata": {},
   "outputs": [],
   "source": []
  }
 ],
 "metadata": {
  "kernelspec": {
   "display_name": "Python 3",
   "language": "python",
   "name": "python3"
  },
  "language_info": {
   "codemirror_mode": {
    "name": "ipython",
    "version": 3
   },
   "file_extension": ".py",
   "mimetype": "text/x-python",
   "name": "python",
   "nbconvert_exporter": "python",
   "pygments_lexer": "ipython3",
   "version": "3.7.3"
  }
 },
 "nbformat": 4,
 "nbformat_minor": 2
}
