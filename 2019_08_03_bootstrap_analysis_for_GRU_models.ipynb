{
  "nbformat": 4,
  "nbformat_minor": 0,
  "metadata": {
    "colab": {
      "name": "2019-08-03-bootstrap-analysis-for-GRU-models.ipynb",
      "version": "0.3.2",
      "provenance": [],
      "include_colab_link": true
    },
    "kernelspec": {
      "name": "python3",
      "display_name": "Python 3"
    },
    "accelerator": "GPU"
  },
  "cells": [
    {
      "cell_type": "markdown",
      "metadata": {
        "id": "view-in-github",
        "colab_type": "text"
      },
      "source": [
        "<a href=\"https://colab.research.google.com/github/sv650s/sb-capstone/blob/master/2019_08_03_bootstrap_analysis_for_GRU_models.ipynb\" target=\"_parent\"><img src=\"https://colab.research.google.com/assets/colab-badge.svg\" alt=\"Open In Colab\"/></a>"
      ]
    },
    {
      "cell_type": "markdown",
      "metadata": {
        "id": "eorNYVczOnOi",
        "colab_type": "text"
      },
      "source": [
        "# Use bootstraping to test statistical signifiance of our models\n",
        "\n",
        "In our previous [notebook](https://github.com/sv650s/sb-capstone/blob/master/2019_08_02_biGRU_1layer_random_embedding_vs_pretrained.ipynb) where we compared the difference between pre-trained embeddings and random embeddings for 1 layer bidirectional GRUs we saw that the precision for class 2 was 34% in our base mode (random embedding) compared to 30% in the pargram model\n",
        "\n",
        "We will use p-value to see if the difference in precision is statistically significant\n",
        "\n",
        "\n"
      ]
    },
    {
      "cell_type": "code",
      "metadata": {
        "id": "pSc_bAxPOeNO",
        "colab_type": "code",
        "colab": {}
      },
      "source": [
        ""
      ],
      "execution_count": 0,
      "outputs": []
    },
    {
      "cell_type": "code",
      "metadata": {
        "id": "WIT9fNjeOyPL",
        "colab_type": "code",
        "outputId": "d408b680-f2c3-41bf-d6af-afa02bd0bc20",
        "colab": {
          "base_uri": "https://localhost:8080/",
          "height": 34
        }
      },
      "source": [
        "from google.colab import drive\n",
        "import sys\n",
        "drive.mount('/content/drive')\n",
        "DRIVE_DIR = \"drive/My Drive/Springboard/capstone\"\n",
        "# add this to sys patch so we can import utility functions\n",
        "sys.path.append(DRIVE_DIR)"
      ],
      "execution_count": 1,
      "outputs": [
        {
          "output_type": "stream",
          "text": [
            "Drive already mounted at /content/drive; to attempt to forcibly remount, call drive.mount(\"/content/drive\", force_remount=True).\n"
          ],
          "name": "stdout"
        }
      ]
    },
    {
      "cell_type": "code",
      "metadata": {
        "id": "lywYcW_gOyOn",
        "colab_type": "code",
        "colab": {
          "base_uri": "https://localhost:8080/",
          "height": 34
        },
        "outputId": "1a419f22-1b82-4cef-b2bb-9f4a31e09213"
      },
      "source": [
        "import pandas as pd\n",
        "from sklearn.metrics import classification_report\n",
        "import numpy as np\n",
        "\n",
        "import util.keras_util as ku\n",
        "import util.dict_util as du\n",
        "\n",
        "\n",
        "report = pd.read_csv(f'{DRIVE_DIR}/reports/2019-08-03-dl_prototype-report.csv', quotechar=\"'\")\n",
        "\n",
        "\n",
        "base = report[report.model_name == 'biGRU_1layer_attention']\n",
        "paragram = report[report.model_name == 'biGRU_1layer_attention-paragram']\n",
        "\n",
        "DATA_FILE = f'{DRIVE_DIR}/data/amazon_reviews_us_Wireless_v1_00-preprocessed-110k.csv'\n",
        "data = pd.read_csv(DATA_FILE)\n"
      ],
      "execution_count": 2,
      "outputs": [
        {
          "output_type": "stream",
          "text": [
            "Using TensorFlow backend.\n"
          ],
          "name": "stderr"
        }
      ]
    },
    {
      "cell_type": "markdown",
      "metadata": {
        "id": "vpX8-NTy66ra",
        "colab_type": "text"
      },
      "source": [
        "## Reload our training data so we can create bootstrap samples\n",
        "\n",
        "\n"
      ]
    },
    {
      "cell_type": "code",
      "metadata": {
        "id": "-odQXzblPuLV",
        "colab_type": "code",
        "outputId": "b9021ff7-ec58-4732-f840-06e33e99b161",
        "colab": {
          "base_uri": "https://localhost:8080/",
          "height": 190
        }
      },
      "source": [
        "FEATURE_COLUMN = \"review_body\"\n",
        "LABEL_COLUMN = \"star_rating\"\n",
        "\n",
        "X_train, X_test, y_train, y_test, t, max_sequence_length = ku.preprocess_file(data, FEATURE_COLUMN, LABEL_COLUMN, 0.99)"
      ],
      "execution_count": 3,
      "outputs": [
        {
          "output_type": "stream",
          "text": [
            "One hot enocde label data...\n",
            "Splitting data into training and test sets...\n"
          ],
          "name": "stdout"
        },
        {
          "output_type": "stream",
          "text": [
            "/usr/local/lib/python3.6/dist-packages/sklearn/preprocessing/_encoders.py:415: FutureWarning: The handling of integer data will change in version 0.22. Currently, the categories are determined based on the range [0, max(values)], while in the future they will be determined based on the unique values.\n",
            "If you want the future behaviour and silence this warning, you can specify \"categories='auto'\".\n",
            "In case you used a LabelEncoder before this OneHotEncoder to convert the categories to integers, then you can now use the OneHotEncoder directly.\n",
            "  warnings.warn(msg, FutureWarning)\n"
          ],
          "name": "stderr"
        },
        {
          "output_type": "stream",
          "text": [
            "Vocabulary size=40788\n",
            "Number of Documents=84032\n",
            "Max Sequence Length: 186\n"
          ],
          "name": "stdout"
        }
      ]
    },
    {
      "cell_type": "code",
      "metadata": {
        "id": "hY-pcW0hRwgk",
        "colab_type": "code",
        "outputId": "74f60156-5354-4266-9b46-0eecdb5698a5",
        "colab": {
          "base_uri": "https://localhost:8080/",
          "height": 510
        }
      },
      "source": [
        "base.info()"
      ],
      "execution_count": 4,
      "outputs": [
        {
          "output_type": "stream",
          "text": [
            "<class 'pandas.core.frame.DataFrame'>\n",
            "Int64Index: 1 entries, 3 to 3\n",
            "Data columns (total 24 columns):\n",
            "accuracy                 1 non-null float64\n",
            "classification_report    1 non-null object\n",
            "confusion_matrix         1 non-null object\n",
            "description              1 non-null object\n",
            "embedding                1 non-null float64\n",
            "evaluate_time_min        1 non-null float64\n",
            "file                     1 non-null object\n",
            "fpr                      1 non-null object\n",
            "loss                     1 non-null float64\n",
            "max_sequence_length      1 non-null float64\n",
            "model_file               1 non-null object\n",
            "model_name               1 non-null object\n",
            "network_history_file     1 non-null object\n",
            "predict_time_min         1 non-null float64\n",
            "roc_auc                  1 non-null object\n",
            "status                   1 non-null object\n",
            "status_date              1 non-null object\n",
            "test_examples            1 non-null float64\n",
            "test_features            1 non-null float64\n",
            "tokenizer_file           1 non-null object\n",
            "tpr                      1 non-null object\n",
            "train_examples           1 non-null float64\n",
            "train_features           1 non-null float64\n",
            "train_time_min           1 non-null float64\n",
            "dtypes: float64(11), object(13)\n",
            "memory usage: 200.0+ bytes\n"
          ],
          "name": "stdout"
        }
      ]
    },
    {
      "cell_type": "markdown",
      "metadata": {
        "id": "hgt_s0Gt7Ewq",
        "colab_type": "text"
      },
      "source": [
        "### Load the Paragram model so we can get our predictions again"
      ]
    },
    {
      "cell_type": "code",
      "metadata": {
        "id": "erUaASnFSt_c",
        "colab_type": "code",
        "colab": {}
      },
      "source": [
        "import keras\n",
        "from keras.layers import CuDNNGRU\n",
        "from util.keras_util import AttentionLayer\n"
      ],
      "execution_count": 0,
      "outputs": []
    },
    {
      "cell_type": "code",
      "metadata": {
        "id": "duRQpKUJ7Ufj",
        "colab_type": "code",
        "outputId": "a1f38da9-c6f7-4329-9092-af52edf5c113",
        "colab": {
          "base_uri": "https://localhost:8080/",
          "height": 394
        }
      },
      "source": [
        "base_model = keras.models.load_model(base.model_file.values[0], \n",
        "                                     custom_objects={'AttentionLayer': AttentionLayer})\n",
        "base_predicted = base_model.predict(X_test, verbose=1)\n",
        "base_predicted_unencoded = ku.unencode(base_predicted)\n",
        "y_test_unencoded = ku.unencode(y_test)\n",
        "base_predicted_unencoded[:5]"
      ],
      "execution_count": 6,
      "outputs": [
        {
          "output_type": "stream",
          "text": [
            "WARNING: Logging before flag parsing goes to stderr.\n",
            "W0804 20:01:01.904555 140588288509824 deprecation_wrapper.py:119] From /usr/local/lib/python3.6/dist-packages/keras/backend/tensorflow_backend.py:517: The name tf.placeholder is deprecated. Please use tf.compat.v1.placeholder instead.\n",
            "\n",
            "W0804 20:01:01.920175 140588288509824 deprecation_wrapper.py:119] From /usr/local/lib/python3.6/dist-packages/keras/backend/tensorflow_backend.py:4138: The name tf.random_uniform is deprecated. Please use tf.random.uniform instead.\n",
            "\n",
            "W0804 20:01:03.393652 140588288509824 deprecation_wrapper.py:119] From /usr/local/lib/python3.6/dist-packages/keras/backend/tensorflow_backend.py:131: The name tf.get_default_graph is deprecated. Please use tf.compat.v1.get_default_graph instead.\n",
            "\n",
            "W0804 20:01:03.394838 140588288509824 deprecation_wrapper.py:119] From /usr/local/lib/python3.6/dist-packages/keras/backend/tensorflow_backend.py:133: The name tf.placeholder_with_default is deprecated. Please use tf.compat.v1.placeholder_with_default instead.\n",
            "\n",
            "W0804 20:01:03.405702 140588288509824 deprecation.py:506] From /usr/local/lib/python3.6/dist-packages/keras/backend/tensorflow_backend.py:3445: calling dropout (from tensorflow.python.ops.nn_ops) with keep_prob is deprecated and will be removed in a future version.\n",
            "Instructions for updating:\n",
            "Please use `rate` instead of `keep_prob`. Rate should be set to `rate = 1 - keep_prob`.\n",
            "W0804 20:01:03.539469 140588288509824 deprecation_wrapper.py:119] From /usr/local/lib/python3.6/dist-packages/keras/backend/tensorflow_backend.py:174: The name tf.get_default_session is deprecated. Please use tf.compat.v1.get_default_session instead.\n",
            "\n",
            "W0804 20:01:04.474529 140588288509824 deprecation_wrapper.py:119] From /usr/local/lib/python3.6/dist-packages/keras/optimizers.py:790: The name tf.train.Optimizer is deprecated. Please use tf.compat.v1.train.Optimizer instead.\n",
            "\n",
            "W0804 20:01:04.585132 140588288509824 deprecation.py:323] From /usr/local/lib/python3.6/dist-packages/tensorflow/python/ops/math_grad.py:1250: add_dispatch_support.<locals>.wrapper (from tensorflow.python.ops.array_ops) is deprecated and will be removed in a future version.\n",
            "Instructions for updating:\n",
            "Use tf.where in 2.0, which has the same broadcast rule as np.where\n"
          ],
          "name": "stderr"
        },
        {
          "output_type": "stream",
          "text": [
            "28011/28011 [==============================] - 19s 687us/step\n"
          ],
          "name": "stdout"
        },
        {
          "output_type": "execute_result",
          "data": {
            "text/plain": [
              "[5, 5, 5, 5, 5]"
            ]
          },
          "metadata": {
            "tags": []
          },
          "execution_count": 6
        }
      ]
    },
    {
      "cell_type": "code",
      "metadata": {
        "id": "yBTWGRE7Xip3",
        "colab_type": "code",
        "outputId": "eaf70432-a6cb-4e4e-e4bd-21d093a7c564",
        "colab": {
          "base_uri": "https://localhost:8080/",
          "height": 51
        }
      },
      "source": [
        "paragram_model = keras.models.load_model(paragram.model_file.values[0], \n",
        "                                     custom_objects={'AttentionLayer': AttentionLayer})\n",
        "paragram_predicted = paragram_model.predict(X_test, verbose=1)\n",
        "paragram_predicted_unencoded = ku.unencode(paragram_predicted)\n",
        "paragram_predicted_unencoded[:5]"
      ],
      "execution_count": 7,
      "outputs": [
        {
          "output_type": "stream",
          "text": [
            "28011/28011 [==============================] - 1s 38us/step\n"
          ],
          "name": "stdout"
        },
        {
          "output_type": "execute_result",
          "data": {
            "text/plain": [
              "[5, 5, 5, 1, 5]"
            ]
          },
          "metadata": {
            "tags": []
          },
          "execution_count": 7
        }
      ]
    },
    {
      "cell_type": "markdown",
      "metadata": {
        "id": "x51am3m57PF5",
        "colab_type": "text"
      },
      "source": [
        "## At first, I thought using bootstraping method for the paragram mode and see how likely we are to get the difference between the base class 2 precision and paragram class 2 precision. In hind sight, this is probably not a valid test since we are not accounting potential variations in the base model.\n",
        "\n",
        "Here is the code anyways"
      ]
    },
    {
      "cell_type": "code",
      "metadata": {
        "id": "6og1oUVWYr5L",
        "colab_type": "code",
        "colab": {}
      },
      "source": [
        "import numpy as np\n",
        "from sklearn.metrics import classification_report\n",
        "\n",
        "\n",
        "def bootstrap_classification_report(predictions: np.ndarray,\n",
        "                                    truths: np.ndarray,\n",
        "                                    sample_size: int,\n",
        "                                    ) -> dict:\n",
        "  \"\"\"\n",
        "  Create bootstrap replicates classification report based on sample_size\n",
        "\n",
        "  Parameters\n",
        "  ----------\n",
        "  :predictions: ndarray of predictions\n",
        "  :truths: ndarray of truths\n",
        "  :sample_size: number of samples with replacement \n",
        "\n",
        "  Return\n",
        "  ------\n",
        "  classfication report dictionary\n",
        "  \"\"\"\n",
        "  sample_size = min(sample_size, len(predictions))\n",
        "  indexes = np.random.choice(np.arange(sample_size), sample_size)\n",
        "  truth_replicates = [truths[i] for i in indexes]\n",
        "  prediction_replicates = [predictions[i] for i in indexes]\n",
        "  return classification_report(truth_replicates,\n",
        "                               prediction_replicates,\n",
        "                               output_dict=True)\n",
        "\n",
        "\n",
        "  \n"
      ],
      "execution_count": 0,
      "outputs": []
    },
    {
      "cell_type": "code",
      "metadata": {
        "id": "hOhWeISHoYGB",
        "colab_type": "code",
        "outputId": "e3d3ee5a-4b2b-44dc-a2fb-42791cafe580",
        "colab": {
          "base_uri": "https://localhost:8080/",
          "height": 1000
        }
      },
      "source": [
        "# Create 1000 bootstrap replicate is the class 2 precision\n",
        "from sklearn.metrics import classification_report\n",
        "import pandas as pd\n",
        "import util.dict_util as du\n",
        "\n",
        "SAMPLE_SIZE = 5000\n",
        "\n",
        "cr_df = pd.DataFrame()\n",
        "for i in range(SAMPLE_SIZE):\n",
        "  if i % 100 == 0:\n",
        "    print(f'creating bootstrap replicate {i}')\n",
        "  cr = bootstrap_classification_report(paragram_predicted_unencoded,\n",
        "                                      y_test_unencoded,\n",
        "                                      len(paragram_predicted_unencoded))\n",
        "  d = du.add_dict_to_dict({}, cr)\n",
        "  cr_df = cr_df.append(d, ignore_index=True)\n",
        "cr_df.head()"
      ],
      "execution_count": 9,
      "outputs": [
        {
          "output_type": "stream",
          "text": [
            "creating bootstrap replicate 0\n",
            "creating bootstrap replicate 100\n",
            "creating bootstrap replicate 200\n",
            "creating bootstrap replicate 300\n",
            "creating bootstrap replicate 400\n",
            "creating bootstrap replicate 500\n",
            "creating bootstrap replicate 600\n",
            "creating bootstrap replicate 700\n",
            "creating bootstrap replicate 800\n",
            "creating bootstrap replicate 900\n",
            "creating bootstrap replicate 1000\n",
            "creating bootstrap replicate 1100\n",
            "creating bootstrap replicate 1200\n",
            "creating bootstrap replicate 1300\n",
            "creating bootstrap replicate 1400\n",
            "creating bootstrap replicate 1500\n",
            "creating bootstrap replicate 1600\n",
            "creating bootstrap replicate 1700\n",
            "creating bootstrap replicate 1800\n",
            "creating bootstrap replicate 1900\n",
            "creating bootstrap replicate 2000\n",
            "creating bootstrap replicate 2100\n",
            "creating bootstrap replicate 2200\n",
            "creating bootstrap replicate 2300\n",
            "creating bootstrap replicate 2400\n",
            "creating bootstrap replicate 2500\n",
            "creating bootstrap replicate 2600\n",
            "creating bootstrap replicate 2700\n",
            "creating bootstrap replicate 2800\n",
            "creating bootstrap replicate 2900\n",
            "creating bootstrap replicate 3000\n",
            "creating bootstrap replicate 3100\n",
            "creating bootstrap replicate 3200\n",
            "creating bootstrap replicate 3300\n",
            "creating bootstrap replicate 3400\n",
            "creating bootstrap replicate 3500\n",
            "creating bootstrap replicate 3600\n",
            "creating bootstrap replicate 3700\n",
            "creating bootstrap replicate 3800\n",
            "creating bootstrap replicate 3900\n",
            "creating bootstrap replicate 4000\n",
            "creating bootstrap replicate 4100\n",
            "creating bootstrap replicate 4200\n",
            "creating bootstrap replicate 4300\n",
            "creating bootstrap replicate 4400\n",
            "creating bootstrap replicate 4500\n",
            "creating bootstrap replicate 4600\n",
            "creating bootstrap replicate 4700\n",
            "creating bootstrap replicate 4800\n",
            "creating bootstrap replicate 4900\n"
          ],
          "name": "stdout"
        },
        {
          "output_type": "execute_result",
          "data": {
            "text/html": [
              "<div>\n",
              "<style scoped>\n",
              "    .dataframe tbody tr th:only-of-type {\n",
              "        vertical-align: middle;\n",
              "    }\n",
              "\n",
              "    .dataframe tbody tr th {\n",
              "        vertical-align: top;\n",
              "    }\n",
              "\n",
              "    .dataframe thead th {\n",
              "        text-align: right;\n",
              "    }\n",
              "</style>\n",
              "<table border=\"1\" class=\"dataframe\">\n",
              "  <thead>\n",
              "    <tr style=\"text-align: right;\">\n",
              "      <th></th>\n",
              "      <th>1_f1-score</th>\n",
              "      <th>1_precision</th>\n",
              "      <th>1_recall</th>\n",
              "      <th>1_support</th>\n",
              "      <th>2_f1-score</th>\n",
              "      <th>2_precision</th>\n",
              "      <th>2_recall</th>\n",
              "      <th>2_support</th>\n",
              "      <th>3_f1-score</th>\n",
              "      <th>3_precision</th>\n",
              "      <th>3_recall</th>\n",
              "      <th>3_support</th>\n",
              "      <th>4_f1-score</th>\n",
              "      <th>4_precision</th>\n",
              "      <th>4_recall</th>\n",
              "      <th>4_support</th>\n",
              "      <th>5_f1-score</th>\n",
              "      <th>5_precision</th>\n",
              "      <th>5_recall</th>\n",
              "      <th>5_support</th>\n",
              "      <th>accuracy</th>\n",
              "      <th>macro avg_f1-score</th>\n",
              "      <th>macro avg_precision</th>\n",
              "      <th>macro avg_recall</th>\n",
              "      <th>macro avg_support</th>\n",
              "      <th>weighted avg_f1-score</th>\n",
              "      <th>weighted avg_precision</th>\n",
              "      <th>weighted avg_recall</th>\n",
              "      <th>weighted avg_support</th>\n",
              "    </tr>\n",
              "  </thead>\n",
              "  <tbody>\n",
              "    <tr>\n",
              "      <th>0</th>\n",
              "      <td>0.704268</td>\n",
              "      <td>0.653290</td>\n",
              "      <td>0.763875</td>\n",
              "      <td>3964.0</td>\n",
              "      <td>0.119278</td>\n",
              "      <td>0.268431</td>\n",
              "      <td>0.076674</td>\n",
              "      <td>1852.0</td>\n",
              "      <td>0.308950</td>\n",
              "      <td>0.345691</td>\n",
              "      <td>0.279269</td>\n",
              "      <td>2571.0</td>\n",
              "      <td>0.304949</td>\n",
              "      <td>0.413868</td>\n",
              "      <td>0.241416</td>\n",
              "      <td>4747.0</td>\n",
              "      <td>0.831620</td>\n",
              "      <td>0.759458</td>\n",
              "      <td>0.918935</td>\n",
              "      <td>14877.0</td>\n",
              "      <td>0.667773</td>\n",
              "      <td>0.453813</td>\n",
              "      <td>0.488148</td>\n",
              "      <td>0.456034</td>\n",
              "      <td>28011.0</td>\n",
              "      <td>0.629272</td>\n",
              "      <td>0.615424</td>\n",
              "      <td>0.667773</td>\n",
              "      <td>28011.0</td>\n",
              "    </tr>\n",
              "    <tr>\n",
              "      <th>1</th>\n",
              "      <td>0.699187</td>\n",
              "      <td>0.649661</td>\n",
              "      <td>0.756888</td>\n",
              "      <td>3920.0</td>\n",
              "      <td>0.113775</td>\n",
              "      <td>0.285132</td>\n",
              "      <td>0.071066</td>\n",
              "      <td>1970.0</td>\n",
              "      <td>0.295722</td>\n",
              "      <td>0.328410</td>\n",
              "      <td>0.268952</td>\n",
              "      <td>2480.0</td>\n",
              "      <td>0.310984</td>\n",
              "      <td>0.411318</td>\n",
              "      <td>0.250000</td>\n",
              "      <td>4768.0</td>\n",
              "      <td>0.829863</td>\n",
              "      <td>0.757324</td>\n",
              "      <td>0.917770</td>\n",
              "      <td>14873.0</td>\n",
              "      <td>0.664596</td>\n",
              "      <td>0.449906</td>\n",
              "      <td>0.486369</td>\n",
              "      <td>0.452935</td>\n",
              "      <td>28011.0</td>\n",
              "      <td>0.625599</td>\n",
              "      <td>0.612176</td>\n",
              "      <td>0.664596</td>\n",
              "      <td>28011.0</td>\n",
              "    </tr>\n",
              "    <tr>\n",
              "      <th>2</th>\n",
              "      <td>0.706465</td>\n",
              "      <td>0.654915</td>\n",
              "      <td>0.766825</td>\n",
              "      <td>3997.0</td>\n",
              "      <td>0.116850</td>\n",
              "      <td>0.268482</td>\n",
              "      <td>0.074675</td>\n",
              "      <td>1848.0</td>\n",
              "      <td>0.304056</td>\n",
              "      <td>0.341285</td>\n",
              "      <td>0.274149</td>\n",
              "      <td>2557.0</td>\n",
              "      <td>0.297935</td>\n",
              "      <td>0.401148</td>\n",
              "      <td>0.236965</td>\n",
              "      <td>4718.0</td>\n",
              "      <td>0.832324</td>\n",
              "      <td>0.760903</td>\n",
              "      <td>0.918541</td>\n",
              "      <td>14891.0</td>\n",
              "      <td>0.667595</td>\n",
              "      <td>0.451526</td>\n",
              "      <td>0.485347</td>\n",
              "      <td>0.454231</td>\n",
              "      <td>28011.0</td>\n",
              "      <td>0.628930</td>\n",
              "      <td>0.614392</td>\n",
              "      <td>0.667595</td>\n",
              "      <td>28011.0</td>\n",
              "    </tr>\n",
              "    <tr>\n",
              "      <th>3</th>\n",
              "      <td>0.699895</td>\n",
              "      <td>0.654199</td>\n",
              "      <td>0.752453</td>\n",
              "      <td>3975.0</td>\n",
              "      <td>0.116183</td>\n",
              "      <td>0.283976</td>\n",
              "      <td>0.073031</td>\n",
              "      <td>1917.0</td>\n",
              "      <td>0.300213</td>\n",
              "      <td>0.336520</td>\n",
              "      <td>0.270978</td>\n",
              "      <td>2598.0</td>\n",
              "      <td>0.315155</td>\n",
              "      <td>0.412775</td>\n",
              "      <td>0.254877</td>\n",
              "      <td>4716.0</td>\n",
              "      <td>0.830488</td>\n",
              "      <td>0.757887</td>\n",
              "      <td>0.918473</td>\n",
              "      <td>14805.0</td>\n",
              "      <td>0.665274</td>\n",
              "      <td>0.452387</td>\n",
              "      <td>0.489071</td>\n",
              "      <td>0.453962</td>\n",
              "      <td>28011.0</td>\n",
              "      <td>0.627125</td>\n",
              "      <td>0.613554</td>\n",
              "      <td>0.665274</td>\n",
              "      <td>28011.0</td>\n",
              "    </tr>\n",
              "    <tr>\n",
              "      <th>4</th>\n",
              "      <td>0.710624</td>\n",
              "      <td>0.658605</td>\n",
              "      <td>0.771566</td>\n",
              "      <td>3953.0</td>\n",
              "      <td>0.132309</td>\n",
              "      <td>0.323591</td>\n",
              "      <td>0.083155</td>\n",
              "      <td>1864.0</td>\n",
              "      <td>0.304328</td>\n",
              "      <td>0.339811</td>\n",
              "      <td>0.275556</td>\n",
              "      <td>2475.0</td>\n",
              "      <td>0.313331</td>\n",
              "      <td>0.417382</td>\n",
              "      <td>0.250806</td>\n",
              "      <td>4653.0</td>\n",
              "      <td>0.837293</td>\n",
              "      <td>0.767157</td>\n",
              "      <td>0.921545</td>\n",
              "      <td>15066.0</td>\n",
              "      <td>0.676092</td>\n",
              "      <td>0.459577</td>\n",
              "      <td>0.501309</td>\n",
              "      <td>0.460525</td>\n",
              "      <td>28011.0</td>\n",
              "      <td>0.638375</td>\n",
              "      <td>0.626459</td>\n",
              "      <td>0.676092</td>\n",
              "      <td>28011.0</td>\n",
              "    </tr>\n",
              "  </tbody>\n",
              "</table>\n",
              "</div>"
            ],
            "text/plain": [
              "   1_f1-score  1_precision  ...  weighted avg_recall  weighted avg_support\n",
              "0    0.704268     0.653290  ...             0.667773               28011.0\n",
              "1    0.699187     0.649661  ...             0.664596               28011.0\n",
              "2    0.706465     0.654915  ...             0.667595               28011.0\n",
              "3    0.699895     0.654199  ...             0.665274               28011.0\n",
              "4    0.710624     0.658605  ...             0.676092               28011.0\n",
              "\n",
              "[5 rows x 29 columns]"
            ]
          },
          "metadata": {
            "tags": []
          },
          "execution_count": 9
        }
      ]
    },
    {
      "cell_type": "code",
      "metadata": {
        "id": "rEev-Wwvp0ky",
        "colab_type": "code",
        "outputId": "aed26719-ae9e-4c9c-a9a3-2bc0745a4a82",
        "colab": {
          "base_uri": "https://localhost:8080/",
          "height": 518
        }
      },
      "source": [
        "import matplotlib.pyplot as plt\n",
        "import seaborn as sns\n",
        "import json\n",
        "\n",
        "%matplotlib inline\n",
        "sns.set()\n",
        "\n",
        "base_cr_dict = du.add_dict_to_dict({}, json.loads(base.classification_report.values[0]))\n",
        "\n",
        "\n",
        "precision2 = cr_df[\"2_precision\"]\n",
        "paragram_ci = np.percentile(precision2.to_list(), [2.5, 97.5])\n",
        "\n",
        "print(precision2.describe())\n",
        "\n",
        "f, a = plt.subplots(1, 1, figsize=(25, 5))\n",
        "plt.hist(cr_df[\"2_precision\"].values, bins=30, density=True, alpha=0.25)\n",
        "plt.vlines(precision2.mean(), ymin=0, ymax=20.0, linestyle=\"--\", color=\"b\", label='paragram')\n",
        "plt.vlines(base_cr_dict[\"2_precision\"], ymin=0, ymax=20.0, linestyle=\"--\", color=\"r\", label='base')\n",
        "for i in paragram_ci:\n",
        "  plt.vlines(i, ymin=0, ymax=20.0, linestyle=\"--\", color=\"b\")\n",
        "a.legend(['class 2 precision', 'paragram - mean and 95% confidence interval', 'base - class 2 precision'])\n"
      ],
      "execution_count": 18,
      "outputs": [
        {
          "output_type": "stream",
          "text": [
            "count    5000.000000\n",
            "mean        0.302785\n",
            "std         0.020537\n",
            "min         0.237354\n",
            "25%         0.288802\n",
            "50%         0.302734\n",
            "75%         0.316317\n",
            "max         0.372671\n",
            "Name: 2_precision, dtype: float64\n"
          ],
          "name": "stdout"
        },
        {
          "output_type": "execute_result",
          "data": {
            "text/plain": [
              "<matplotlib.legend.Legend at 0x7fdc075869b0>"
            ]
          },
          "metadata": {
            "tags": []
          },
          "execution_count": 18
        },
        {
          "output_type": "display_data",
          "data": {
            "image/png": "[encoded data removed]",
            "text/plain": [
              "<Figure size 1800x360 with 1 Axes>"
            ]
          },
          "metadata": {
            "tags": []
          }
        }
      ]
    },
    {
      "cell_type": "code",
      "metadata": {
        "id": "IOT7CWCg-GiL",
        "colab_type": "code",
        "outputId": "59ee5b18-35c1-4a5a-e448-a8d6ebc075f1",
        "colab": {
          "base_uri": "https://localhost:8080/",
          "height": 34
        }
      },
      "source": [
        "print(f'p-value: {len(cr_df[cr_df[\"2_precision\"] > base_cr_dict[\"2_precision\"]]) / SAMPLE_SIZE}')"
      ],
      "execution_count": 11,
      "outputs": [
        {
          "output_type": "stream",
          "text": [
            "p-value: 0.017\n"
          ],
          "name": "stdout"
        }
      ]
    },
    {
      "cell_type": "markdown",
      "metadata": {
        "id": "b0teer-r4hZc",
        "colab_type": "text"
      },
      "source": [
        "# Conclusion\n",
        "\n",
        "It looks like that our p-value is 1.4%\n",
        "\n",
        "Genreally we consider p-value of 5% or lower as statistically significant. In this case, there is less than a 1.4% chance that the precision results that we saw in our test that we would generate a difference of ~4% in precision for class 2. This means that the class 2 precision difference between our base model and the paragram model is statistically significant.\n",
        "\n",
        "We can confidently say that the base model is more accurate in predicting class 2 reviews\n",
        "\n",
        "\n",
        "Again, this test may not valid since we are not accounting for variations in class 2 precision for the base model and only using the precision result from our notebook"
      ]
    },
    {
      "cell_type": "markdown",
      "metadata": {
        "id": "sHzevuxfOTUs",
        "colab_type": "text"
      },
      "source": [
        "# Test 2 - Permutations\n",
        "\n",
        "Our null hypothesis is that the difference in class 2 precision (~4%) is due to chance.\n",
        "\n",
        "In order to test this, we are going to combine the predictions for the 2 tests, permutate and split into 2 sets and compare the difference in class 2 precision"
      ]
    },
    {
      "cell_type": "code",
      "metadata": {
        "id": "oisuXomktqO4",
        "colab_type": "code",
        "colab": {}
      },
      "source": [
        "# to test the null hypothesis, we permutate between the 2 groups and see what the difference\n",
        "# in class 2 precision is\n",
        "\n",
        "\n",
        "def permutate(truths, predictions):\n",
        "\n",
        "  indexes = np.random.permutation(len(truths))\n",
        "  indexes1 = indexes[:len(truths) // 2]\n",
        "  indexes2 = indexes[len(truths) // 2:]\n",
        "\n",
        "  # create our permutation sets\n",
        "  truth1 = [truths[i] for i in indexes1]\n",
        "  predictions1 = [predictions[i] for i in indexes1]\n",
        "  truth2 = [truths[i] for i in indexes2]\n",
        "  predictions2 = [predictions[i] for i in indexes2]\n",
        "\n",
        "  class2_precision1 = du.add_dict_to_dict({}, classification_report(truth1, predictions1, output_dict=True))[\"2_precision\"]\n",
        "  class2_precision2 = du.add_dict_to_dict({}, classification_report(truth2, predictions2, output_dict=True))[\"2_precision\"]\n",
        "\n",
        "  class2_precision_diff = class2_precision2 - class2_precision1\n",
        "\n",
        "  return class2_precision_diff\n",
        "\n",
        "\n",
        "\n",
        "\n",
        "\n",
        "  \n",
        "\n"
      ],
      "execution_count": 0,
      "outputs": []
    },
    {
      "cell_type": "code",
      "metadata": {
        "id": "gbF4y5kq7CE2",
        "colab_type": "code",
        "outputId": "f33c7f87-0dd2-4246-fcf8-04d2bf2cafb6",
        "colab": {
          "base_uri": "https://localhost:8080/",
          "height": 102
        }
      },
      "source": [
        "truth_concat = np.hstack((y_test_unencoded, y_test_unencoded))\n",
        "predictions_concat = np.hstack((base_predicted_unencoded, paragram_predicted_unencoded))\n",
        "\n",
        "diffs = []\n",
        "for i in range(10000):\n",
        "  diffs.append(permutate(truth_concat, predictions_concat))\n",
        "\n",
        "diffs[:5]"
      ],
      "execution_count": 13,
      "outputs": [
        {
          "output_type": "execute_result",
          "data": {
            "text/plain": [
              "[-0.051513263107313634,\n",
              " -0.046032329997221955,\n",
              " 0.013977300024021144,\n",
              " 0.07892917267917265,\n",
              " -0.053133093226417794]"
            ]
          },
          "metadata": {
            "tags": []
          },
          "execution_count": 13
        }
      ]
    },
    {
      "cell_type": "code",
      "metadata": {
        "id": "PG6tQ34b_HEJ",
        "colab_type": "code",
        "outputId": "d72a56be-220d-4c75-c4ab-9fba6dd783f9",
        "colab": {
          "base_uri": "https://localhost:8080/",
          "height": 382
        }
      },
      "source": [
        "import matplotlib.pyplot as plt\n",
        "import seaborn as sns\n",
        "import json\n",
        "\n",
        "%matplotlib inline\n",
        "sns.set()\n",
        "\n",
        "base_class2_precision = du.add_dict_to_dict({}, json.loads(base.classification_report.values[0]))[\"2_precision\"]\n",
        "paragram_class2_precision = du.add_dict_to_dict({}, json.loads(paragram.classification_report.values[0]))[\"2_precision\"]\n",
        "\n",
        "class2_diff = base_class2_precision - paragram_class2_precision\n",
        "\n",
        "\n",
        "f, a = plt.subplots(figsize=(10, 5))\n",
        "num_bins = 30\n",
        "# plot histogram\n",
        "# plt.hist(diffs, bins=num_bins, color='b', alpha=0.25, density=True)\n",
        "\n",
        "# plot CDF\n",
        "counts, bin_edges = np.histogram(diffs, bins=num_bins, normed=True) \n",
        "cdf = np.cumsum (counts)\n",
        "plt.plot (bin_edges[1:], cdf/cdf[-1])\n",
        "plt.vlines(class2_diff, ymin=0, ymax=1.0, color='r', linestyles='--')\n",
        "a.legend(['CDF', 'Difference from Notebook'])\n",
        "\n",
        "\n",
        "# plt.hist(diffs, bins=num_bins, density=True)"
      ],
      "execution_count": 28,
      "outputs": [
        {
          "output_type": "stream",
          "text": [
            "/usr/local/lib/python3.6/dist-packages/ipykernel_launcher.py:20: VisibleDeprecationWarning: Passing `normed=True` on non-uniform bins has always been broken, and computes neither the probability density function nor the probability mass function. The result is only correct if the bins are uniform, when density=True will produce the same result anyway. The argument will be removed in a future version of numpy.\n"
          ],
          "name": "stderr"
        },
        {
          "output_type": "execute_result",
          "data": {
            "text/plain": [
              "<matplotlib.legend.Legend at 0x7fdc07060d30>"
            ]
          },
          "metadata": {
            "tags": []
          },
          "execution_count": 28
        },
        {
          "output_type": "display_data",
          "data": {
            "image/png": "[encoded data removed]",
            "text/plain": [
              "<Figure size 720x360 with 1 Axes>"
            ]
          },
          "metadata": {
            "tags": []
          }
        }
      ]
    },
    {
      "cell_type": "markdown",
      "metadata": {
        "id": "LmbYt_yXJwb6",
        "colab_type": "text"
      },
      "source": [
        "# Conclusion\n",
        "\n",
        "Blue line is the CDF of the difference in class 2 precision from our test of 10k iterations. Red line is the difference we saw in our previous notebook. The intersect between these 2 lines tells us the p-value of the difference.\n",
        "\n",
        "The p-value for the difference in class 2 precision we saw between the 2 models is about 10%. This means that if it was by chance, we would expect that the difference to be what we saw 10% of the time. Generally, we consider 5% as statistically significant and 10% is borderline which means our results may not be conclusive enough to say that our base model is definitely better than the paragram model."
      ]
    },
    {
      "cell_type": "code",
      "metadata": {
        "id": "4uCixYeIBT52",
        "colab_type": "code",
        "colab": {}
      },
      "source": [
        ""
      ],
      "execution_count": 0,
      "outputs": []
    }
  ]
}