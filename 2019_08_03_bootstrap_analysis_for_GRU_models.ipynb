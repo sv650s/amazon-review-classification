{
  "nbformat": 4,
  "nbformat_minor": 0,
  "metadata": {
    "colab": {
      "name": "2019-08-03-bootstrap-analysis-for-GRU-models.ipynb",
      "version": "0.3.2",
      "provenance": [],
      "include_colab_link": true
    },
    "kernelspec": {
      "name": "python3",
      "display_name": "Python 3"
    },
    "accelerator": "GPU"
  },
  "cells": [
    {
      "cell_type": "markdown",
      "metadata": {
        "id": "view-in-github",
        "colab_type": "text"
      },
      "source": [
        "<a href=\"https://colab.research.google.com/github/sv650s/sb-capstone/blob/master/2019_08_03_bootstrap_analysis_for_GRU_models.ipynb\" target=\"_parent\"><img src=\"https://colab.research.google.com/assets/colab-badge.svg\" alt=\"Open In Colab\"/></a>"
      ]
    },
    {
      "cell_type": "markdown",
      "metadata": {
        "id": "eorNYVczOnOi",
        "colab_type": "text"
      },
      "source": [
        "# Use bootstraping to test statistical signifiance of our models\n",
        "\n",
        "In our previous [notebook](https://github.com/sv650s/sb-capstone/blob/master/2019_08_02_biGRU_1layer_random_embedding_vs_pretrained.ipynb) where we compared the difference between pre-trained embeddings and random embeddings for 1 layer bidirectional GRUs we saw that the precision for class 2 was 34% in our base mode (random embedding) compared to 30% in the pargram model\n",
        "\n",
        "We will use p-value to see if the difference in precision is statistically significant\n",
        "\n",
        "\n"
      ]
    },
    {
      "cell_type": "code",
      "metadata": {
        "id": "pSc_bAxPOeNO",
        "colab_type": "code",
        "colab": {}
      },
      "source": [
        ""
      ],
      "execution_count": 0,
      "outputs": []
    },
    {
      "cell_type": "code",
      "metadata": {
        "id": "WIT9fNjeOyPL",
        "colab_type": "code",
        "colab": {
          "base_uri": "https://localhost:8080/",
          "height": 34
        },
        "outputId": "8c16c738-427a-422b-b425-4542f36f7147"
      },
      "source": [
        "from google.colab import drive\n",
        "import sys\n",
        "drive.mount('/content/drive')\n",
        "DRIVE_DIR = \"drive/My Drive/Springboard/capstone\"\n",
        "# add this to sys patch so we can import utility functions\n",
        "sys.path.append(DRIVE_DIR)"
      ],
      "execution_count": 11,
      "outputs": [
        {
          "output_type": "stream",
          "text": [
            "Drive already mounted at /content/drive; to attempt to forcibly remount, call drive.mount(\"/content/drive\", force_remount=True).\n"
          ],
          "name": "stdout"
        }
      ]
    },
    {
      "cell_type": "code",
      "metadata": {
        "id": "lywYcW_gOyOn",
        "colab_type": "code",
        "colab": {}
      },
      "source": [
        "import pandas as pd\n",
        "import util.keras_util as ku\n",
        "\n",
        "\n",
        "report = pd.read_csv(f'{DRIVE_DIR}/reports/2019-08-03-dl_prototype-report.csv', quotechar=\"'\")\n",
        "\n",
        "\n",
        "base = report[report.model_name == 'biGRU_1layer_attention']\n",
        "paragram = report[report.model_name == 'biGRU_1layer_attention-paragram']\n",
        "\n",
        "DATA_FILE = f'{DRIVE_DIR}/data/amazon_reviews_us_Wireless_v1_00-preprocessed-110k.csv'\n",
        "data = pd.read_csv(DATA_FILE)\n"
      ],
      "execution_count": 0,
      "outputs": []
    },
    {
      "cell_type": "markdown",
      "metadata": {
        "id": "vpX8-NTy66ra",
        "colab_type": "text"
      },
      "source": [
        "## Reload our training data so we can create bootstrap samples\n",
        "\n",
        "\n"
      ]
    },
    {
      "cell_type": "code",
      "metadata": {
        "id": "-odQXzblPuLV",
        "colab_type": "code",
        "colab": {
          "base_uri": "https://localhost:8080/",
          "height": 190
        },
        "outputId": "fa97091b-e60c-4b51-8896-159ab963531b"
      },
      "source": [
        "FEATURE_COLUMN = \"review_body\"\n",
        "LABEL_COLUMN = \"star_rating\"\n",
        "\n",
        "X_train, X_test, y_train, y_test, t, max_sequence_length = ku.preprocess_file(data, FEATURE_COLUMN, LABEL_COLUMN, 0.99)"
      ],
      "execution_count": 13,
      "outputs": [
        {
          "output_type": "stream",
          "text": [
            "One hot enocde label data...\n",
            "Splitting data into training and test sets...\n"
          ],
          "name": "stdout"
        },
        {
          "output_type": "stream",
          "text": [
            "/usr/local/lib/python3.6/dist-packages/sklearn/preprocessing/_encoders.py:415: FutureWarning: The handling of integer data will change in version 0.22. Currently, the categories are determined based on the range [0, max(values)], while in the future they will be determined based on the unique values.\n",
            "If you want the future behaviour and silence this warning, you can specify \"categories='auto'\".\n",
            "In case you used a LabelEncoder before this OneHotEncoder to convert the categories to integers, then you can now use the OneHotEncoder directly.\n",
            "  warnings.warn(msg, FutureWarning)\n"
          ],
          "name": "stderr"
        },
        {
          "output_type": "stream",
          "text": [
            "Vocabulary size=40788\n",
            "Number of Documents=84032\n",
            "Max Sequence Length: 186\n"
          ],
          "name": "stdout"
        }
      ]
    },
    {
      "cell_type": "code",
      "metadata": {
        "id": "hY-pcW0hRwgk",
        "colab_type": "code",
        "colab": {
          "base_uri": "https://localhost:8080/",
          "height": 510
        },
        "outputId": "743009ed-8c4e-4fcf-937c-99d34dcf0edb"
      },
      "source": [
        "base.info()"
      ],
      "execution_count": 14,
      "outputs": [
        {
          "output_type": "stream",
          "text": [
            "<class 'pandas.core.frame.DataFrame'>\n",
            "Int64Index: 1 entries, 3 to 3\n",
            "Data columns (total 24 columns):\n",
            "accuracy                 1 non-null float64\n",
            "classification_report    1 non-null object\n",
            "confusion_matrix         1 non-null object\n",
            "description              1 non-null object\n",
            "embedding                1 non-null float64\n",
            "evaluate_time_min        1 non-null float64\n",
            "file                     1 non-null object\n",
            "fpr                      1 non-null object\n",
            "loss                     1 non-null float64\n",
            "max_sequence_length      1 non-null float64\n",
            "model_file               1 non-null object\n",
            "model_name               1 non-null object\n",
            "network_history_file     1 non-null object\n",
            "predict_time_min         1 non-null float64\n",
            "roc_auc                  1 non-null object\n",
            "status                   1 non-null object\n",
            "status_date              1 non-null object\n",
            "test_examples            1 non-null float64\n",
            "test_features            1 non-null float64\n",
            "tokenizer_file           1 non-null object\n",
            "tpr                      1 non-null object\n",
            "train_examples           1 non-null float64\n",
            "train_features           1 non-null float64\n",
            "train_time_min           1 non-null float64\n",
            "dtypes: float64(11), object(13)\n",
            "memory usage: 200.0+ bytes\n"
          ],
          "name": "stdout"
        }
      ]
    },
    {
      "cell_type": "markdown",
      "metadata": {
        "id": "hgt_s0Gt7Ewq",
        "colab_type": "text"
      },
      "source": [
        "### Load the Paragram model so we can get our predictions again"
      ]
    },
    {
      "cell_type": "code",
      "metadata": {
        "id": "erUaASnFSt_c",
        "colab_type": "code",
        "colab": {}
      },
      "source": [
        "import keras\n",
        "from keras.layers import CuDNNGRU\n",
        "from util.keras_util import AttentionLayer\n"
      ],
      "execution_count": 0,
      "outputs": []
    },
    {
      "cell_type": "code",
      "metadata": {
        "id": "yBTWGRE7Xip3",
        "colab_type": "code",
        "colab": {
          "base_uri": "https://localhost:8080/",
          "height": 51
        },
        "outputId": "6e7895ed-a821-40e2-d665-0e02140e78ce"
      },
      "source": [
        "paragram_model = keras.models.load_model(paragram.model_file.values[0], \n",
        "                                     custom_objects={'AttentionLayer': AttentionLayer})\n",
        "paragram_predicted = paragram_model.predict(X_test, verbose=1)\n",
        "paragram_predicted_unencoded = ku.unencode(paragram_predicted)\n",
        "y_test_unencoded = ku.unencode(y_test)\n",
        "paragram_predicted_unencoded[:5]"
      ],
      "execution_count": 16,
      "outputs": [
        {
          "output_type": "stream",
          "text": [
            "28011/28011 [==============================] - 2s 63us/step\n"
          ],
          "name": "stdout"
        },
        {
          "output_type": "execute_result",
          "data": {
            "text/plain": [
              "[5, 5, 5, 1, 5]"
            ]
          },
          "metadata": {
            "tags": []
          },
          "execution_count": 16
        }
      ]
    },
    {
      "cell_type": "markdown",
      "metadata": {
        "id": "x51am3m57PF5",
        "colab_type": "text"
      },
      "source": [
        "## Now use bootstraping to calculate distribution of our class 2 precision for the paragram model"
      ]
    },
    {
      "cell_type": "code",
      "metadata": {
        "id": "6og1oUVWYr5L",
        "colab_type": "code",
        "colab": {}
      },
      "source": [
        "import numpy as np\n",
        "from sklearn.metrics import classification_report\n",
        "\n",
        "\n",
        "def bootstrap_classification_report(predictions: np.ndarray,\n",
        "                                    truths: np.ndarray,\n",
        "                                    sample_size: int,\n",
        "                                    ) -> dict:\n",
        "  \"\"\"\n",
        "  Create bootstrap replicates classification report based on sample_size\n",
        "\n",
        "  Parameters\n",
        "  ----------\n",
        "  :predictions: ndarray of predictions\n",
        "  :truths: ndarray of truths\n",
        "  :sample_size: number of samples with replacement \n",
        "\n",
        "  Return\n",
        "  ------\n",
        "  classfication report dictionary\n",
        "  \"\"\"\n",
        "  sample_size = min(sample_size, len(predictions))\n",
        "  indexes = np.random.choice(np.arange(sample_size), sample_size)\n",
        "  truth_replicates = [truths[i] for i in indexes]\n",
        "  prediction_replicates = [predictions[i] for i in indexes]\n",
        "  return classification_report(truth_replicates,\n",
        "                               prediction_replicates,\n",
        "                               output_dict=True)\n",
        "\n",
        "\n",
        "  \n"
      ],
      "execution_count": 0,
      "outputs": []
    },
    {
      "cell_type": "code",
      "metadata": {
        "id": "hOhWeISHoYGB",
        "colab_type": "code",
        "colab": {
          "base_uri": "https://localhost:8080/",
          "height": 1000
        },
        "outputId": "c46ea219-afc3-46d0-a2c6-9d8a1a4c6c7c"
      },
      "source": [
        "# Create 1000 bootstrap replicate is the class 2 precision\n",
        "from sklearn.metrics import classification_report\n",
        "import pandas as pd\n",
        "import util.dict_util as du\n",
        "\n",
        "SAMPLE_SIZE = 5000\n",
        "\n",
        "cr_df = pd.DataFrame()\n",
        "for i in range(SAMPLE_SIZE):\n",
        "  if i % 100 == 0:\n",
        "    print(f'creating bootstrap replicate {i}')\n",
        "  cr = bootstrap_classification_report(paragram_predicted_unencoded,\n",
        "                                      y_test_unencoded,\n",
        "                                      len(paragram_predicted_unencoded))\n",
        "  d = du.add_dict_to_dict({}, cr)\n",
        "  cr_df = cr_df.append(d, ignore_index=True)\n",
        "cr_df.head()"
      ],
      "execution_count": 85,
      "outputs": [
        {
          "output_type": "stream",
          "text": [
            "creating bootstrap replicate 0\n",
            "creating bootstrap replicate 100\n",
            "creating bootstrap replicate 200\n",
            "creating bootstrap replicate 300\n",
            "creating bootstrap replicate 400\n",
            "creating bootstrap replicate 500\n",
            "creating bootstrap replicate 600\n",
            "creating bootstrap replicate 700\n",
            "creating bootstrap replicate 800\n",
            "creating bootstrap replicate 900\n",
            "creating bootstrap replicate 1000\n",
            "creating bootstrap replicate 1100\n",
            "creating bootstrap replicate 1200\n",
            "creating bootstrap replicate 1300\n",
            "creating bootstrap replicate 1400\n",
            "creating bootstrap replicate 1500\n",
            "creating bootstrap replicate 1600\n",
            "creating bootstrap replicate 1700\n",
            "creating bootstrap replicate 1800\n",
            "creating bootstrap replicate 1900\n",
            "creating bootstrap replicate 2000\n",
            "creating bootstrap replicate 2100\n",
            "creating bootstrap replicate 2200\n",
            "creating bootstrap replicate 2300\n",
            "creating bootstrap replicate 2400\n",
            "creating bootstrap replicate 2500\n",
            "creating bootstrap replicate 2600\n",
            "creating bootstrap replicate 2700\n",
            "creating bootstrap replicate 2800\n",
            "creating bootstrap replicate 2900\n",
            "creating bootstrap replicate 3000\n",
            "creating bootstrap replicate 3100\n",
            "creating bootstrap replicate 3200\n",
            "creating bootstrap replicate 3300\n",
            "creating bootstrap replicate 3400\n",
            "creating bootstrap replicate 3500\n",
            "creating bootstrap replicate 3600\n",
            "creating bootstrap replicate 3700\n",
            "creating bootstrap replicate 3800\n",
            "creating bootstrap replicate 3900\n",
            "creating bootstrap replicate 4000\n",
            "creating bootstrap replicate 4100\n",
            "creating bootstrap replicate 4200\n",
            "creating bootstrap replicate 4300\n",
            "creating bootstrap replicate 4400\n",
            "creating bootstrap replicate 4500\n",
            "creating bootstrap replicate 4600\n",
            "creating bootstrap replicate 4700\n",
            "creating bootstrap replicate 4800\n",
            "creating bootstrap replicate 4900\n"
          ],
          "name": "stdout"
        },
        {
          "output_type": "execute_result",
          "data": {
            "text/html": [
              "<div>\n",
              "<style scoped>\n",
              "    .dataframe tbody tr th:only-of-type {\n",
              "        vertical-align: middle;\n",
              "    }\n",
              "\n",
              "    .dataframe tbody tr th {\n",
              "        vertical-align: top;\n",
              "    }\n",
              "\n",
              "    .dataframe thead th {\n",
              "        text-align: right;\n",
              "    }\n",
              "</style>\n",
              "<table border=\"1\" class=\"dataframe\">\n",
              "  <thead>\n",
              "    <tr style=\"text-align: right;\">\n",
              "      <th></th>\n",
              "      <th>1_f1-score</th>\n",
              "      <th>1_precision</th>\n",
              "      <th>1_recall</th>\n",
              "      <th>1_support</th>\n",
              "      <th>2_f1-score</th>\n",
              "      <th>2_precision</th>\n",
              "      <th>2_recall</th>\n",
              "      <th>2_support</th>\n",
              "      <th>3_f1-score</th>\n",
              "      <th>3_precision</th>\n",
              "      <th>3_recall</th>\n",
              "      <th>3_support</th>\n",
              "      <th>4_f1-score</th>\n",
              "      <th>4_precision</th>\n",
              "      <th>4_recall</th>\n",
              "      <th>4_support</th>\n",
              "      <th>5_f1-score</th>\n",
              "      <th>5_precision</th>\n",
              "      <th>5_recall</th>\n",
              "      <th>5_support</th>\n",
              "      <th>accuracy</th>\n",
              "      <th>macro avg_f1-score</th>\n",
              "      <th>macro avg_precision</th>\n",
              "      <th>macro avg_recall</th>\n",
              "      <th>macro avg_support</th>\n",
              "      <th>weighted avg_f1-score</th>\n",
              "      <th>weighted avg_precision</th>\n",
              "      <th>weighted avg_recall</th>\n",
              "      <th>weighted avg_support</th>\n",
              "    </tr>\n",
              "  </thead>\n",
              "  <tbody>\n",
              "    <tr>\n",
              "      <th>0</th>\n",
              "      <td>0.700415</td>\n",
              "      <td>0.647824</td>\n",
              "      <td>0.762299</td>\n",
              "      <td>3984.0</td>\n",
              "      <td>0.140179</td>\n",
              "      <td>0.333981</td>\n",
              "      <td>0.088706</td>\n",
              "      <td>1939.0</td>\n",
              "      <td>0.318299</td>\n",
              "      <td>0.359186</td>\n",
              "      <td>0.285769</td>\n",
              "      <td>2593.0</td>\n",
              "      <td>0.315966</td>\n",
              "      <td>0.412281</td>\n",
              "      <td>0.256131</td>\n",
              "      <td>4771.0</td>\n",
              "      <td>0.827503</td>\n",
              "      <td>0.756369</td>\n",
              "      <td>0.913407</td>\n",
              "      <td>14724.0</td>\n",
              "      <td>0.664775</td>\n",
              "      <td>0.460473</td>\n",
              "      <td>0.501928</td>\n",
              "      <td>0.461262</td>\n",
              "      <td>28011.0</td>\n",
              "      <td>0.627584</td>\n",
              "      <td>0.616317</td>\n",
              "      <td>0.664775</td>\n",
              "      <td>28011.0</td>\n",
              "    </tr>\n",
              "    <tr>\n",
              "      <th>1</th>\n",
              "      <td>0.698849</td>\n",
              "      <td>0.655249</td>\n",
              "      <td>0.748666</td>\n",
              "      <td>3935.0</td>\n",
              "      <td>0.131313</td>\n",
              "      <td>0.305284</td>\n",
              "      <td>0.083646</td>\n",
              "      <td>1865.0</td>\n",
              "      <td>0.300000</td>\n",
              "      <td>0.336143</td>\n",
              "      <td>0.270875</td>\n",
              "      <td>2503.0</td>\n",
              "      <td>0.309826</td>\n",
              "      <td>0.414421</td>\n",
              "      <td>0.247388</td>\n",
              "      <td>4786.0</td>\n",
              "      <td>0.832083</td>\n",
              "      <td>0.758467</td>\n",
              "      <td>0.921525</td>\n",
              "      <td>14922.0</td>\n",
              "      <td>0.668130</td>\n",
              "      <td>0.454414</td>\n",
              "      <td>0.493913</td>\n",
              "      <td>0.454420</td>\n",
              "      <td>28011.0</td>\n",
              "      <td>0.629929</td>\n",
              "      <td>0.617271</td>\n",
              "      <td>0.668130</td>\n",
              "      <td>28011.0</td>\n",
              "    </tr>\n",
              "    <tr>\n",
              "      <th>2</th>\n",
              "      <td>0.715484</td>\n",
              "      <td>0.668644</td>\n",
              "      <td>0.769381</td>\n",
              "      <td>4102.0</td>\n",
              "      <td>0.137280</td>\n",
              "      <td>0.327198</td>\n",
              "      <td>0.086862</td>\n",
              "      <td>1842.0</td>\n",
              "      <td>0.295405</td>\n",
              "      <td>0.324207</td>\n",
              "      <td>0.271302</td>\n",
              "      <td>2488.0</td>\n",
              "      <td>0.315272</td>\n",
              "      <td>0.426518</td>\n",
              "      <td>0.250053</td>\n",
              "      <td>4747.0</td>\n",
              "      <td>0.834508</td>\n",
              "      <td>0.762279</td>\n",
              "      <td>0.921858</td>\n",
              "      <td>14832.0</td>\n",
              "      <td>0.672986</td>\n",
              "      <td>0.459590</td>\n",
              "      <td>0.501769</td>\n",
              "      <td>0.459891</td>\n",
              "      <td>28011.0</td>\n",
              "      <td>0.635350</td>\n",
              "      <td>0.624144</td>\n",
              "      <td>0.672986</td>\n",
              "      <td>28011.0</td>\n",
              "    </tr>\n",
              "    <tr>\n",
              "      <th>3</th>\n",
              "      <td>0.712678</td>\n",
              "      <td>0.661057</td>\n",
              "      <td>0.773044</td>\n",
              "      <td>4014.0</td>\n",
              "      <td>0.116999</td>\n",
              "      <td>0.287500</td>\n",
              "      <td>0.073443</td>\n",
              "      <td>1879.0</td>\n",
              "      <td>0.302736</td>\n",
              "      <td>0.340785</td>\n",
              "      <td>0.272330</td>\n",
              "      <td>2519.0</td>\n",
              "      <td>0.310770</td>\n",
              "      <td>0.415221</td>\n",
              "      <td>0.248307</td>\n",
              "      <td>4724.0</td>\n",
              "      <td>0.831234</td>\n",
              "      <td>0.759098</td>\n",
              "      <td>0.918521</td>\n",
              "      <td>14875.0</td>\n",
              "      <td>0.669844</td>\n",
              "      <td>0.454883</td>\n",
              "      <td>0.492732</td>\n",
              "      <td>0.457129</td>\n",
              "      <td>28011.0</td>\n",
              "      <td>0.631031</td>\n",
              "      <td>0.617801</td>\n",
              "      <td>0.669844</td>\n",
              "      <td>28011.0</td>\n",
              "    </tr>\n",
              "    <tr>\n",
              "      <th>4</th>\n",
              "      <td>0.709270</td>\n",
              "      <td>0.659765</td>\n",
              "      <td>0.766807</td>\n",
              "      <td>4031.0</td>\n",
              "      <td>0.113855</td>\n",
              "      <td>0.262548</td>\n",
              "      <td>0.072688</td>\n",
              "      <td>1871.0</td>\n",
              "      <td>0.316157</td>\n",
              "      <td>0.351115</td>\n",
              "      <td>0.287530</td>\n",
              "      <td>2518.0</td>\n",
              "      <td>0.304634</td>\n",
              "      <td>0.418450</td>\n",
              "      <td>0.239493</td>\n",
              "      <td>4735.0</td>\n",
              "      <td>0.832421</td>\n",
              "      <td>0.759037</td>\n",
              "      <td>0.921513</td>\n",
              "      <td>14856.0</td>\n",
              "      <td>0.670272</td>\n",
              "      <td>0.455268</td>\n",
              "      <td>0.490183</td>\n",
              "      <td>0.457606</td>\n",
              "      <td>28011.0</td>\n",
              "      <td>0.631076</td>\n",
              "      <td>0.617346</td>\n",
              "      <td>0.670272</td>\n",
              "      <td>28011.0</td>\n",
              "    </tr>\n",
              "  </tbody>\n",
              "</table>\n",
              "</div>"
            ],
            "text/plain": [
              "   1_f1-score  1_precision  ...  weighted avg_recall  weighted avg_support\n",
              "0    0.700415     0.647824  ...             0.664775               28011.0\n",
              "1    0.698849     0.655249  ...             0.668130               28011.0\n",
              "2    0.715484     0.668644  ...             0.672986               28011.0\n",
              "3    0.712678     0.661057  ...             0.669844               28011.0\n",
              "4    0.709270     0.659765  ...             0.670272               28011.0\n",
              "\n",
              "[5 rows x 29 columns]"
            ]
          },
          "metadata": {
            "tags": []
          },
          "execution_count": 85
        }
      ]
    },
    {
      "cell_type": "code",
      "metadata": {
        "id": "rEev-Wwvp0ky",
        "colab_type": "code",
        "colab": {
          "base_uri": "https://localhost:8080/",
          "height": 549
        },
        "outputId": "01d16edb-7329-4165-9c2f-fbb11ebf7d7f"
      },
      "source": [
        "import matplotlib.pyplot as plt\n",
        "import seaborn as sns\n",
        "import json\n",
        "\n",
        "%matplotlib inline\n",
        "sns.set()\n",
        "\n",
        "base_cr_dict = du.add_dict_to_dict({}, json.loads(base.classification_report.values[0]))\n",
        "\n",
        "\n",
        "precision2 = cr_df[\"2_precision\"]\n",
        "paragram_ci = np.percentile(precision2.to_list(), [2.5, 97.5])\n",
        "\n",
        "print(precision2.describe())\n",
        "\n",
        "f, a = plt.subplots(1, 1, figsize=(25, 5))\n",
        "precision2.plot(kind='hist', bins=30, normed=True, alpha=0.25)\n",
        "plt.vlines(precision2.mean(), ymin=0, ymax=SAMPLE_SIZE / 500, linestyle=\"--\", color=\"b\", label='paragram')\n",
        "plt.vlines(base_cr_dict[\"2_precision\"], ymin=0, ymax=SAMPLE_SIZE / 500, linestyle=\"--\", color=\"r\", label='base')\n",
        "for i in paragram_ci:\n",
        "  plt.vlines(i, ymin=0, ymax=SAMPLE_SIZE / 500, linestyle=\"--\", color=\"b\")\n",
        "a.legend(['class 2 precision', 'paragram - mean and 95% confidence interval', 'base - class 2 precision'])\n"
      ],
      "execution_count": 93,
      "outputs": [
        {
          "output_type": "stream",
          "text": [
            "count    5000.000000\n",
            "mean        0.302723\n",
            "std         0.020324\n",
            "min         0.230612\n",
            "25%         0.288889\n",
            "50%         0.302349\n",
            "75%         0.315896\n",
            "max         0.384106\n",
            "Name: 2_precision, dtype: float64\n"
          ],
          "name": "stdout"
        },
        {
          "output_type": "stream",
          "text": [
            "/usr/local/lib/python3.6/dist-packages/matplotlib/axes/_axes.py:6521: MatplotlibDeprecationWarning: \n",
            "The 'normed' kwarg was deprecated in Matplotlib 2.1 and will be removed in 3.1. Use 'density' instead.\n",
            "  alternative=\"'density'\", removal=\"3.1\")\n"
          ],
          "name": "stderr"
        },
        {
          "output_type": "execute_result",
          "data": {
            "text/plain": [
              "<matplotlib.legend.Legend at 0x7fd6d4b924e0>"
            ]
          },
          "metadata": {
            "tags": []
          },
          "execution_count": 93
        },
        {
          "output_type": "display_data",
          "data": {
            "image/png": "[encoded data removed]",
            "text/plain": [
              "<Figure size 1800x360 with 1 Axes>"
            ]
          },
          "metadata": {
            "tags": []
          }
        }
      ]
    },
    {
      "cell_type": "code",
      "metadata": {
        "id": "IOT7CWCg-GiL",
        "colab_type": "code",
        "colab": {
          "base_uri": "https://localhost:8080/",
          "height": 34
        },
        "outputId": "d9553bed-b8aa-4121-915d-82b28f6fbf91"
      },
      "source": [
        "print(f'p-value: {len(cr_df[cr_df[\"2_precision\"] > base_cr_dict[\"2_precision\"]]) / SAMPLE_SIZE}')"
      ],
      "execution_count": 96,
      "outputs": [
        {
          "output_type": "stream",
          "text": [
            "p-value: 0.0148\n"
          ],
          "name": "stdout"
        }
      ]
    },
    {
      "cell_type": "markdown",
      "metadata": {
        "id": "b0teer-r4hZc",
        "colab_type": "text"
      },
      "source": [
        "# Conclusion\n",
        "\n",
        "It looks like that our p-value is 1.4%\n",
        "\n",
        "Genreally we consider p-value of 5% or lower as statistically significant. In this case, there is less than a 1.4% chance that the precision results that we saw in our test that we would generate a difference of ~4% in precision for class 2. This means that the class 2 precision difference between our base model and the paragram model is statistically significant.\n",
        "\n",
        "We can confidently say that the base model is more accurate in predicting class 2 reviews"
      ]
    },
    {
      "cell_type": "code",
      "metadata": {
        "id": "oisuXomktqO4",
        "colab_type": "code",
        "colab": {}
      },
      "source": [
        "\n"
      ],
      "execution_count": 0,
      "outputs": []
    }
  ]
}