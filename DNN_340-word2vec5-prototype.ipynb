{
 "cells": [
  {
   "cell_type": "markdown",
   "metadata": {},
   "source": [
    "# DNN Prototype\n",
    "\n",
    "Exprimenting with 1 layer NN with 340 neruons. Came up with this number since we want to keep number of neurons to be around 2/3 of input features"
   ]
  },
  {
   "cell_type": "code",
   "execution_count": 1,
   "metadata": {},
   "outputs": [
    {
     "name": "stderr",
     "output_type": "stream",
     "text": [
      "Using TensorFlow backend.\n"
     ]
    }
   ],
   "source": [
    "from keras.models import Sequential\n",
    "from keras.layers import Dense, Activation, Dropout\n",
    "from keras.layers.normalization import BatchNormalization\n",
    "from keras.callbacks import EarlyStopping\n",
    "from keras.models import load_model\n",
    "from sklearn.model_selection import train_test_split\n",
    "from keras.optimizers import SGD\n",
    "from sklearn.preprocessing import OneHotEncoder\n",
    "import pandas as pd\n",
    "from IPython.display import SVG\n",
    "from keras.utils.vis_utils import model_to_dot\n",
    "from util import dict_util as du\n",
    "from util import file_util as fu\n",
    "from util import plot_util as pu\n",
    "import pickle\n",
    "from datetime import datetime\n",
    "from sklearn.metrics import confusion_matrix, classification_report\n",
    "import os"
   ]
  },
  {
   "cell_type": "code",
   "execution_count": 2,
   "metadata": {},
   "outputs": [],
   "source": [
    "DATE_FORMAT = '%Y-%m-%d'\n",
    "TIME_FORMAT = '%Y-%m-%d %H:%M:%S'\n",
    "DATA_DIR = \"dataset/feature_files\"\n",
    "DATA_FILE = \"review_body-word2vec5-111909-512-nolda.csv\"\n",
    "MODEL_NAME = \"DNN_340\"\n",
    "FEATURE_COLUMN = \"star_rating\"\n",
    "directory, INBASENAME = fu.get_dir_basename(DATA_FILE)\n",
    "DESCRIPTION = f\"{MODEL_NAME}-{INBASENAME}-nosmote-{FEATURE_COLUMN}\"\n",
    "MODEL_FILE = f\"models/{datetime.now().strftime(DATE_FORMAT)}-{DESCRIPTION}.h5\"\n",
    "NETWORK_HISTORY_FILE = f'models/{datetime.now().strftime(DATE_FORMAT)}-{DESCRIPTION}-history.pkl'\n",
    "REPORT_FILE = f\"reports/2019-06-18-NN_notebook_protype-report.csv\""
   ]
  },
  {
   "cell_type": "code",
   "execution_count": 3,
   "metadata": {
    "hide_input": false
   },
   "outputs": [],
   "source": [
    "df = pd.read_csv(f\"{DATA_DIR}/{DATA_FILE}\")\n",
    "rating = df[FEATURE_COLUMN]\n",
    "df = df.drop(columns=[\"helpful_votes\", \"total_votes\", \"helpful_product\", \"star_rating\"])"
   ]
  },
  {
   "cell_type": "code",
   "execution_count": 4,
   "metadata": {},
   "outputs": [
    {
     "data": {
      "text/html": [
       "<div>\n",
       "<style scoped>\n",
       "    .dataframe tbody tr th:only-of-type {\n",
       "        vertical-align: middle;\n",
       "    }\n",
       "\n",
       "    .dataframe tbody tr th {\n",
       "        vertical-align: top;\n",
       "    }\n",
       "\n",
       "    .dataframe thead th {\n",
       "        text-align: right;\n",
       "    }\n",
       "</style>\n",
       "<table border=\"1\" class=\"dataframe\">\n",
       "  <thead>\n",
       "    <tr style=\"text-align: right;\">\n",
       "      <th></th>\n",
       "      <th>0</th>\n",
       "      <th>1</th>\n",
       "      <th>2</th>\n",
       "      <th>3</th>\n",
       "      <th>4</th>\n",
       "      <th>5</th>\n",
       "      <th>6</th>\n",
       "      <th>7</th>\n",
       "      <th>8</th>\n",
       "      <th>9</th>\n",
       "      <th>...</th>\n",
       "      <th>502</th>\n",
       "      <th>503</th>\n",
       "      <th>504</th>\n",
       "      <th>505</th>\n",
       "      <th>506</th>\n",
       "      <th>507</th>\n",
       "      <th>508</th>\n",
       "      <th>509</th>\n",
       "      <th>510</th>\n",
       "      <th>511</th>\n",
       "    </tr>\n",
       "  </thead>\n",
       "  <tbody>\n",
       "    <tr>\n",
       "      <th>0</th>\n",
       "      <td>-0.288502</td>\n",
       "      <td>-0.481055</td>\n",
       "      <td>0.258424</td>\n",
       "      <td>0.362731</td>\n",
       "      <td>0.475364</td>\n",
       "      <td>0.421039</td>\n",
       "      <td>0.014504</td>\n",
       "      <td>0.213545</td>\n",
       "      <td>-0.390066</td>\n",
       "      <td>0.103808</td>\n",
       "      <td>...</td>\n",
       "      <td>0.193389</td>\n",
       "      <td>-0.345230</td>\n",
       "      <td>-0.041291</td>\n",
       "      <td>0.063343</td>\n",
       "      <td>-0.230869</td>\n",
       "      <td>-0.018990</td>\n",
       "      <td>-0.462915</td>\n",
       "      <td>-0.762691</td>\n",
       "      <td>0.271782</td>\n",
       "      <td>-0.653218</td>\n",
       "    </tr>\n",
       "    <tr>\n",
       "      <th>1</th>\n",
       "      <td>0.173821</td>\n",
       "      <td>-0.214929</td>\n",
       "      <td>-0.098004</td>\n",
       "      <td>0.432866</td>\n",
       "      <td>0.370673</td>\n",
       "      <td>0.000804</td>\n",
       "      <td>-0.735449</td>\n",
       "      <td>0.162931</td>\n",
       "      <td>0.113988</td>\n",
       "      <td>0.468011</td>\n",
       "      <td>...</td>\n",
       "      <td>0.133606</td>\n",
       "      <td>-0.374622</td>\n",
       "      <td>-0.360892</td>\n",
       "      <td>-0.394297</td>\n",
       "      <td>-0.168498</td>\n",
       "      <td>-0.262506</td>\n",
       "      <td>-0.958892</td>\n",
       "      <td>0.099089</td>\n",
       "      <td>0.487517</td>\n",
       "      <td>-0.307144</td>\n",
       "    </tr>\n",
       "    <tr>\n",
       "      <th>2</th>\n",
       "      <td>-0.257559</td>\n",
       "      <td>-0.065606</td>\n",
       "      <td>0.344815</td>\n",
       "      <td>0.411276</td>\n",
       "      <td>0.090839</td>\n",
       "      <td>0.738248</td>\n",
       "      <td>0.282006</td>\n",
       "      <td>0.331116</td>\n",
       "      <td>-0.213441</td>\n",
       "      <td>0.092032</td>\n",
       "      <td>...</td>\n",
       "      <td>0.273857</td>\n",
       "      <td>-0.094201</td>\n",
       "      <td>0.245259</td>\n",
       "      <td>0.438028</td>\n",
       "      <td>-0.413395</td>\n",
       "      <td>0.425271</td>\n",
       "      <td>-0.417884</td>\n",
       "      <td>-0.886485</td>\n",
       "      <td>0.458968</td>\n",
       "      <td>-0.380352</td>\n",
       "    </tr>\n",
       "    <tr>\n",
       "      <th>3</th>\n",
       "      <td>-0.023537</td>\n",
       "      <td>0.186004</td>\n",
       "      <td>-0.018319</td>\n",
       "      <td>0.046002</td>\n",
       "      <td>0.285380</td>\n",
       "      <td>0.824158</td>\n",
       "      <td>0.240865</td>\n",
       "      <td>0.177934</td>\n",
       "      <td>-0.293685</td>\n",
       "      <td>0.369762</td>\n",
       "      <td>...</td>\n",
       "      <td>0.076834</td>\n",
       "      <td>0.171872</td>\n",
       "      <td>0.258420</td>\n",
       "      <td>0.169574</td>\n",
       "      <td>-0.280809</td>\n",
       "      <td>0.322120</td>\n",
       "      <td>-0.102916</td>\n",
       "      <td>-0.606135</td>\n",
       "      <td>0.186568</td>\n",
       "      <td>-0.477317</td>\n",
       "    </tr>\n",
       "    <tr>\n",
       "      <th>4</th>\n",
       "      <td>-0.832218</td>\n",
       "      <td>0.451893</td>\n",
       "      <td>0.474038</td>\n",
       "      <td>-0.018249</td>\n",
       "      <td>-0.478648</td>\n",
       "      <td>0.178108</td>\n",
       "      <td>-0.472869</td>\n",
       "      <td>-0.532138</td>\n",
       "      <td>-0.491469</td>\n",
       "      <td>-0.466011</td>\n",
       "      <td>...</td>\n",
       "      <td>0.594541</td>\n",
       "      <td>-0.302686</td>\n",
       "      <td>-0.511276</td>\n",
       "      <td>-0.590193</td>\n",
       "      <td>0.299716</td>\n",
       "      <td>-0.181081</td>\n",
       "      <td>-0.436865</td>\n",
       "      <td>0.996631</td>\n",
       "      <td>0.330113</td>\n",
       "      <td>-0.327735</td>\n",
       "    </tr>\n",
       "  </tbody>\n",
       "</table>\n",
       "<p>5 rows × 512 columns</p>\n",
       "</div>"
      ],
      "text/plain": [
       "          0         1         2         3         4         5         6  \\\n",
       "0 -0.288502 -0.481055  0.258424  0.362731  0.475364  0.421039  0.014504   \n",
       "1  0.173821 -0.214929 -0.098004  0.432866  0.370673  0.000804 -0.735449   \n",
       "2 -0.257559 -0.065606  0.344815  0.411276  0.090839  0.738248  0.282006   \n",
       "3 -0.023537  0.186004 -0.018319  0.046002  0.285380  0.824158  0.240865   \n",
       "4 -0.832218  0.451893  0.474038 -0.018249 -0.478648  0.178108 -0.472869   \n",
       "\n",
       "          7         8         9  ...       502       503       504       505  \\\n",
       "0  0.213545 -0.390066  0.103808  ...  0.193389 -0.345230 -0.041291  0.063343   \n",
       "1  0.162931  0.113988  0.468011  ...  0.133606 -0.374622 -0.360892 -0.394297   \n",
       "2  0.331116 -0.213441  0.092032  ...  0.273857 -0.094201  0.245259  0.438028   \n",
       "3  0.177934 -0.293685  0.369762  ...  0.076834  0.171872  0.258420  0.169574   \n",
       "4 -0.532138 -0.491469 -0.466011  ...  0.594541 -0.302686 -0.511276 -0.590193   \n",
       "\n",
       "        506       507       508       509       510       511  \n",
       "0 -0.230869 -0.018990 -0.462915 -0.762691  0.271782 -0.653218  \n",
       "1 -0.168498 -0.262506 -0.958892  0.099089  0.487517 -0.307144  \n",
       "2 -0.413395  0.425271 -0.417884 -0.886485  0.458968 -0.380352  \n",
       "3 -0.280809  0.322120 -0.102916 -0.606135  0.186568 -0.477317  \n",
       "4  0.299716 -0.181081 -0.436865  0.996631  0.330113 -0.327735  \n",
       "\n",
       "[5 rows x 512 columns]"
      ]
     },
     "execution_count": 4,
     "metadata": {},
     "output_type": "execute_result"
    }
   ],
   "source": [
    "df.head()"
   ]
  },
  {
   "cell_type": "code",
   "execution_count": 5,
   "metadata": {},
   "outputs": [
    {
     "data": {
      "text/plain": [
       "0    5\n",
       "1    5\n",
       "2    5\n",
       "3    5\n",
       "4    3\n",
       "Name: star_rating, dtype: int64"
      ]
     },
     "execution_count": 5,
     "metadata": {},
     "output_type": "execute_result"
    }
   ],
   "source": [
    "rating.head()"
   ]
  },
  {
   "cell_type": "code",
   "execution_count": 6,
   "metadata": {},
   "outputs": [
    {
     "name": "stdout",
     "output_type": "stream",
     "text": [
      "WARNING:tensorflow:From /Users/vinceluk/anaconda3/envs/capstone/lib/python3.7/site-packages/tensorflow/python/framework/op_def_library.py:263: colocate_with (from tensorflow.python.framework.ops) is deprecated and will be removed in a future version.\n",
      "Instructions for updating:\n",
      "Colocations handled automatically by placer.\n",
      "WARNING:tensorflow:From /Users/vinceluk/anaconda3/envs/capstone/lib/python3.7/site-packages/keras/backend/tensorflow_backend.py:3445: calling dropout (from tensorflow.python.ops.nn_ops) with keep_prob is deprecated and will be removed in a future version.\n",
      "Instructions for updating:\n",
      "Please use `rate` instead of `keep_prob`. Rate should be set to `rate = 1 - keep_prob`.\n"
     ]
    }
   ],
   "source": [
    "model = Sequential()\n",
    "\n",
    "model.add(Dense(340, input_shape=(df.shape[1],), kernel_initializer='glorot_uniform'))\n",
    "model.add(BatchNormalization())\n",
    "model.add(Activation('relu'))\n",
    "model.add(Dropout(0.2))\n",
    "\n",
    "model.add(Dense(5, activation='softmax'))\n",
    "model.compile(optimizer=SGD(), loss='categorical_crossentropy', metrics=['accuracy'])"
   ]
  },
  {
   "cell_type": "code",
   "execution_count": 7,
   "metadata": {},
   "outputs": [
    {
     "name": "stdout",
     "output_type": "stream",
     "text": [
      "_________________________________________________________________\n",
      "Layer (type)                 Output Shape              Param #   \n",
      "=================================================================\n",
      "dense_1 (Dense)              (None, 340)               174420    \n",
      "_________________________________________________________________\n",
      "batch_normalization_1 (Batch (None, 340)               1360      \n",
      "_________________________________________________________________\n",
      "activation_1 (Activation)    (None, 340)               0         \n",
      "_________________________________________________________________\n",
      "dropout_1 (Dropout)          (None, 340)               0         \n",
      "_________________________________________________________________\n",
      "dense_2 (Dense)              (None, 5)                 1705      \n",
      "=================================================================\n",
      "Total params: 177,485\n",
      "Trainable params: 176,805\n",
      "Non-trainable params: 680\n",
      "_________________________________________________________________\n",
      "None\n"
     ]
    }
   ],
   "source": [
    "print(model.summary())"
   ]
  },
  {
   "cell_type": "code",
   "execution_count": 8,
   "metadata": {},
   "outputs": [
    {
     "data": {
      "image/svg+xml": [
       "<svg height=\"460pt\" viewBox=\"0.00 0.00 278.00 460.00\" width=\"278pt\" xmlns=\"http://www.w3.org/2000/svg\" xmlns:xlink=\"http://www.w3.org/1999/xlink\">\n",
       "<g class=\"graph\" id=\"graph0\" transform=\"scale(1 1) rotate(0) translate(4 456)\">\n",
       "<title>G</title>\n",
       "<polygon fill=\"#ffffff\" points=\"-4,4 -4,-456 274,-456 274,4 -4,4\" stroke=\"transparent\"/>\n",
       "<!-- 4517199096 -->\n",
       "<g class=\"node\" id=\"node1\">\n",
       "<title>4517199096</title>\n",
       "<polygon fill=\"none\" points=\"39.5,-332.5 39.5,-378.5 230.5,-378.5 230.5,-332.5 39.5,-332.5\" stroke=\"#000000\"/>\n",
       "<text fill=\"#000000\" font-family=\"Times,serif\" font-size=\"14.00\" text-anchor=\"middle\" x=\"65\" y=\"-351.8\">Dense</text>\n",
       "<polyline fill=\"none\" points=\"90.5,-332.5 90.5,-378.5 \" stroke=\"#000000\"/>\n",
       "<text fill=\"#000000\" font-family=\"Times,serif\" font-size=\"14.00\" text-anchor=\"middle\" x=\"118.5\" y=\"-363.3\">input:</text>\n",
       "<polyline fill=\"none\" points=\"90.5,-355.5 146.5,-355.5 \" stroke=\"#000000\"/>\n",
       "<text fill=\"#000000\" font-family=\"Times,serif\" font-size=\"14.00\" text-anchor=\"middle\" x=\"118.5\" y=\"-340.3\">output:</text>\n",
       "<polyline fill=\"none\" points=\"146.5,-332.5 146.5,-378.5 \" stroke=\"#000000\"/>\n",
       "<text fill=\"#000000\" font-family=\"Times,serif\" font-size=\"14.00\" text-anchor=\"middle\" x=\"188.5\" y=\"-363.3\">(None, 512)</text>\n",
       "<polyline fill=\"none\" points=\"146.5,-355.5 230.5,-355.5 \" stroke=\"#000000\"/>\n",
       "<text fill=\"#000000\" font-family=\"Times,serif\" font-size=\"14.00\" text-anchor=\"middle\" x=\"188.5\" y=\"-340.3\">(None, 340)</text>\n",
       "</g>\n",
       "<!-- 112718006032 -->\n",
       "<g class=\"node\" id=\"node2\">\n",
       "<title>112718006032</title>\n",
       "<polygon fill=\"none\" points=\"0,-249.5 0,-295.5 270,-295.5 270,-249.5 0,-249.5\" stroke=\"#000000\"/>\n",
       "<text fill=\"#000000\" font-family=\"Times,serif\" font-size=\"14.00\" text-anchor=\"middle\" x=\"65\" y=\"-268.8\">BatchNormalization</text>\n",
       "<polyline fill=\"none\" points=\"130,-249.5 130,-295.5 \" stroke=\"#000000\"/>\n",
       "<text fill=\"#000000\" font-family=\"Times,serif\" font-size=\"14.00\" text-anchor=\"middle\" x=\"158\" y=\"-280.3\">input:</text>\n",
       "<polyline fill=\"none\" points=\"130,-272.5 186,-272.5 \" stroke=\"#000000\"/>\n",
       "<text fill=\"#000000\" font-family=\"Times,serif\" font-size=\"14.00\" text-anchor=\"middle\" x=\"158\" y=\"-257.3\">output:</text>\n",
       "<polyline fill=\"none\" points=\"186,-249.5 186,-295.5 \" stroke=\"#000000\"/>\n",
       "<text fill=\"#000000\" font-family=\"Times,serif\" font-size=\"14.00\" text-anchor=\"middle\" x=\"228\" y=\"-280.3\">(None, 340)</text>\n",
       "<polyline fill=\"none\" points=\"186,-272.5 270,-272.5 \" stroke=\"#000000\"/>\n",
       "<text fill=\"#000000\" font-family=\"Times,serif\" font-size=\"14.00\" text-anchor=\"middle\" x=\"228\" y=\"-257.3\">(None, 340)</text>\n",
       "</g>\n",
       "<!-- 4517199096&#45;&gt;112718006032 -->\n",
       "<g class=\"edge\" id=\"edge2\">\n",
       "<title>4517199096-&gt;112718006032</title>\n",
       "<path d=\"M135,-332.3799C135,-324.1745 135,-314.7679 135,-305.8786\" fill=\"none\" stroke=\"#000000\"/>\n",
       "<polygon fill=\"#000000\" points=\"138.5001,-305.784 135,-295.784 131.5001,-305.784 138.5001,-305.784\" stroke=\"#000000\"/>\n",
       "</g>\n",
       "<!-- 4545027376 -->\n",
       "<g class=\"node\" id=\"node3\">\n",
       "<title>4545027376</title>\n",
       "<polygon fill=\"none\" points=\"27,-166.5 27,-212.5 243,-212.5 243,-166.5 27,-166.5\" stroke=\"#000000\"/>\n",
       "<text fill=\"#000000\" font-family=\"Times,serif\" font-size=\"14.00\" text-anchor=\"middle\" x=\"65\" y=\"-185.8\">Activation</text>\n",
       "<polyline fill=\"none\" points=\"103,-166.5 103,-212.5 \" stroke=\"#000000\"/>\n",
       "<text fill=\"#000000\" font-family=\"Times,serif\" font-size=\"14.00\" text-anchor=\"middle\" x=\"131\" y=\"-197.3\">input:</text>\n",
       "<polyline fill=\"none\" points=\"103,-189.5 159,-189.5 \" stroke=\"#000000\"/>\n",
       "<text fill=\"#000000\" font-family=\"Times,serif\" font-size=\"14.00\" text-anchor=\"middle\" x=\"131\" y=\"-174.3\">output:</text>\n",
       "<polyline fill=\"none\" points=\"159,-166.5 159,-212.5 \" stroke=\"#000000\"/>\n",
       "<text fill=\"#000000\" font-family=\"Times,serif\" font-size=\"14.00\" text-anchor=\"middle\" x=\"201\" y=\"-197.3\">(None, 340)</text>\n",
       "<polyline fill=\"none\" points=\"159,-189.5 243,-189.5 \" stroke=\"#000000\"/>\n",
       "<text fill=\"#000000\" font-family=\"Times,serif\" font-size=\"14.00\" text-anchor=\"middle\" x=\"201\" y=\"-174.3\">(None, 340)</text>\n",
       "</g>\n",
       "<!-- 112718006032&#45;&gt;4545027376 -->\n",
       "<g class=\"edge\" id=\"edge3\">\n",
       "<title>112718006032-&gt;4545027376</title>\n",
       "<path d=\"M135,-249.3799C135,-241.1745 135,-231.7679 135,-222.8786\" fill=\"none\" stroke=\"#000000\"/>\n",
       "<polygon fill=\"#000000\" points=\"138.5001,-222.784 135,-212.784 131.5001,-222.784 138.5001,-222.784\" stroke=\"#000000\"/>\n",
       "</g>\n",
       "<!-- 4544857984 -->\n",
       "<g class=\"node\" id=\"node4\">\n",
       "<title>4544857984</title>\n",
       "<polygon fill=\"none\" points=\"33.5,-83.5 33.5,-129.5 236.5,-129.5 236.5,-83.5 33.5,-83.5\" stroke=\"#000000\"/>\n",
       "<text fill=\"#000000\" font-family=\"Times,serif\" font-size=\"14.00\" text-anchor=\"middle\" x=\"65\" y=\"-102.8\">Dropout</text>\n",
       "<polyline fill=\"none\" points=\"96.5,-83.5 96.5,-129.5 \" stroke=\"#000000\"/>\n",
       "<text fill=\"#000000\" font-family=\"Times,serif\" font-size=\"14.00\" text-anchor=\"middle\" x=\"124.5\" y=\"-114.3\">input:</text>\n",
       "<polyline fill=\"none\" points=\"96.5,-106.5 152.5,-106.5 \" stroke=\"#000000\"/>\n",
       "<text fill=\"#000000\" font-family=\"Times,serif\" font-size=\"14.00\" text-anchor=\"middle\" x=\"124.5\" y=\"-91.3\">output:</text>\n",
       "<polyline fill=\"none\" points=\"152.5,-83.5 152.5,-129.5 \" stroke=\"#000000\"/>\n",
       "<text fill=\"#000000\" font-family=\"Times,serif\" font-size=\"14.00\" text-anchor=\"middle\" x=\"194.5\" y=\"-114.3\">(None, 340)</text>\n",
       "<polyline fill=\"none\" points=\"152.5,-106.5 236.5,-106.5 \" stroke=\"#000000\"/>\n",
       "<text fill=\"#000000\" font-family=\"Times,serif\" font-size=\"14.00\" text-anchor=\"middle\" x=\"194.5\" y=\"-91.3\">(None, 340)</text>\n",
       "</g>\n",
       "<!-- 4545027376&#45;&gt;4544857984 -->\n",
       "<g class=\"edge\" id=\"edge4\">\n",
       "<title>4545027376-&gt;4544857984</title>\n",
       "<path d=\"M135,-166.3799C135,-158.1745 135,-148.7679 135,-139.8786\" fill=\"none\" stroke=\"#000000\"/>\n",
       "<polygon fill=\"#000000\" points=\"138.5001,-139.784 135,-129.784 131.5001,-139.784 138.5001,-139.784\" stroke=\"#000000\"/>\n",
       "</g>\n",
       "<!-- 4529815168 -->\n",
       "<g class=\"node\" id=\"node5\">\n",
       "<title>4529815168</title>\n",
       "<polygon fill=\"none\" points=\"39.5,-.5 39.5,-46.5 230.5,-46.5 230.5,-.5 39.5,-.5\" stroke=\"#000000\"/>\n",
       "<text fill=\"#000000\" font-family=\"Times,serif\" font-size=\"14.00\" text-anchor=\"middle\" x=\"65\" y=\"-19.8\">Dense</text>\n",
       "<polyline fill=\"none\" points=\"90.5,-.5 90.5,-46.5 \" stroke=\"#000000\"/>\n",
       "<text fill=\"#000000\" font-family=\"Times,serif\" font-size=\"14.00\" text-anchor=\"middle\" x=\"118.5\" y=\"-31.3\">input:</text>\n",
       "<polyline fill=\"none\" points=\"90.5,-23.5 146.5,-23.5 \" stroke=\"#000000\"/>\n",
       "<text fill=\"#000000\" font-family=\"Times,serif\" font-size=\"14.00\" text-anchor=\"middle\" x=\"118.5\" y=\"-8.3\">output:</text>\n",
       "<polyline fill=\"none\" points=\"146.5,-.5 146.5,-46.5 \" stroke=\"#000000\"/>\n",
       "<text fill=\"#000000\" font-family=\"Times,serif\" font-size=\"14.00\" text-anchor=\"middle\" x=\"188.5\" y=\"-31.3\">(None, 340)</text>\n",
       "<polyline fill=\"none\" points=\"146.5,-23.5 230.5,-23.5 \" stroke=\"#000000\"/>\n",
       "<text fill=\"#000000\" font-family=\"Times,serif\" font-size=\"14.00\" text-anchor=\"middle\" x=\"188.5\" y=\"-8.3\">(None, 5)</text>\n",
       "</g>\n",
       "<!-- 4544857984&#45;&gt;4529815168 -->\n",
       "<g class=\"edge\" id=\"edge5\">\n",
       "<title>4544857984-&gt;4529815168</title>\n",
       "<path d=\"M135,-83.3799C135,-75.1745 135,-65.7679 135,-56.8786\" fill=\"none\" stroke=\"#000000\"/>\n",
       "<polygon fill=\"#000000\" points=\"138.5001,-56.784 135,-46.784 131.5001,-56.784 138.5001,-56.784\" stroke=\"#000000\"/>\n",
       "</g>\n",
       "<!-- 4517151128 -->\n",
       "<g class=\"node\" id=\"node6\">\n",
       "<title>4517151128</title>\n",
       "<polygon fill=\"none\" points=\"91.5,-415.5 91.5,-451.5 178.5,-451.5 178.5,-415.5 91.5,-415.5\" stroke=\"#000000\"/>\n",
       "<text fill=\"#000000\" font-family=\"Times,serif\" font-size=\"14.00\" text-anchor=\"middle\" x=\"135\" y=\"-429.8\">4517151128</text>\n",
       "</g>\n",
       "<!-- 4517151128&#45;&gt;4517199096 -->\n",
       "<g class=\"edge\" id=\"edge1\">\n",
       "<title>4517151128-&gt;4517199096</title>\n",
       "<path d=\"M135,-415.4092C135,-407.4308 135,-397.795 135,-388.606\" fill=\"none\" stroke=\"#000000\"/>\n",
       "<polygon fill=\"#000000\" points=\"138.5001,-388.5333 135,-378.5333 131.5001,-388.5334 138.5001,-388.5333\" stroke=\"#000000\"/>\n",
       "</g>\n",
       "</g>\n",
       "</svg>"
      ],
      "text/plain": [
       "<IPython.core.display.SVG object>"
      ]
     },
     "execution_count": 8,
     "metadata": {},
     "output_type": "execute_result"
    }
   ],
   "source": [
    "SVG(model_to_dot(model, show_shapes=True, show_layer_names=False, \n",
    "                 rankdir='TB').create(prog='dot', format='svg'))"
   ]
  },
  {
   "cell_type": "code",
   "execution_count": 9,
   "metadata": {},
   "outputs": [
    {
     "name": "stdout",
     "output_type": "stream",
     "text": [
      "(111909,)\n",
      "<class 'pandas.core.series.Series'>\n"
     ]
    },
    {
     "name": "stderr",
     "output_type": "stream",
     "text": [
      "/Users/vinceluk/anaconda3/envs/capstone/lib/python3.7/site-packages/sklearn/preprocessing/_encoders.py:415: FutureWarning: The handling of integer data will change in version 0.22. Currently, the categories are determined based on the range [0, max(values)], while in the future they will be determined based on the unique values.\n",
      "If you want the future behaviour and silence this warning, you can specify \"categories='auto'\".\n",
      "In case you used a LabelEncoder before this OneHotEncoder to convert the categories to integers, then you can now use the OneHotEncoder directly.\n",
      "  warnings.warn(msg, FutureWarning)\n"
     ]
    },
    {
     "data": {
      "text/plain": [
       "array([[0., 0., 0., 0., 1.],\n",
       "       [0., 0., 0., 0., 1.],\n",
       "       [0., 0., 0., 0., 1.],\n",
       "       ...,\n",
       "       [0., 0., 1., 0., 0.],\n",
       "       [0., 0., 0., 0., 1.],\n",
       "       [0., 0., 0., 1., 0.]])"
      ]
     },
     "execution_count": 9,
     "metadata": {},
     "output_type": "execute_result"
    }
   ],
   "source": [
    "# one hot encode rating\n",
    "print(rating.shape)\n",
    "print(type(rating))\n",
    "y = OneHotEncoder().fit_transform(rating.values.reshape(len(rating), 1)).toarray()\n",
    "y"
   ]
  },
  {
   "cell_type": "code",
   "execution_count": 10,
   "metadata": {},
   "outputs": [],
   "source": [
    "x_train, x_test, y_train, y_test = train_test_split(df, y, random_state=1)"
   ]
  },
  {
   "cell_type": "code",
   "execution_count": 11,
   "metadata": {
    "scrolled": false
   },
   "outputs": [
    {
     "name": "stdout",
     "output_type": "stream",
     "text": [
      "WARNING:tensorflow:From /Users/vinceluk/anaconda3/envs/capstone/lib/python3.7/site-packages/tensorflow/python/ops/math_ops.py:3066: to_int32 (from tensorflow.python.ops.math_ops) is deprecated and will be removed in a future version.\n",
      "Instructions for updating:\n",
      "Use tf.cast instead.\n",
      "Train on 67144 samples, validate on 16787 samples\n",
      "Epoch 1/50\n",
      "67144/67144 [==============================] - 8s 119us/step - loss: 1.1213 - acc: 0.5889 - val_loss: 0.9841 - val_acc: 0.6391\n",
      "Epoch 2/50\n",
      "67144/67144 [==============================] - 7s 108us/step - loss: 1.0005 - acc: 0.6282 - val_loss: 0.9437 - val_acc: 0.6513\n",
      "Epoch 3/50\n",
      "67144/67144 [==============================] - 7s 107us/step - loss: 0.9630 - acc: 0.6384 - val_loss: 0.9244 - val_acc: 0.6547\n",
      "Epoch 4/50\n",
      "67144/67144 [==============================] - 7s 109us/step - loss: 0.9435 - acc: 0.6453 - val_loss: 0.9125 - val_acc: 0.6579\n",
      "Epoch 5/50\n",
      "67144/67144 [==============================] - 7s 107us/step - loss: 0.9256 - acc: 0.6510 - val_loss: 0.9038 - val_acc: 0.6615\n",
      "Epoch 6/50\n",
      "67144/67144 [==============================] - 7s 107us/step - loss: 0.9141 - acc: 0.6537 - val_loss: 0.8984 - val_acc: 0.6595\n",
      "Epoch 7/50\n",
      "67144/67144 [==============================] - 7s 110us/step - loss: 0.9071 - acc: 0.6560 - val_loss: 0.8919 - val_acc: 0.6625\n",
      "Epoch 8/50\n",
      "67144/67144 [==============================] - 7s 108us/step - loss: 0.9004 - acc: 0.6572 - val_loss: 0.8891 - val_acc: 0.6633\n",
      "Epoch 9/50\n",
      "67144/67144 [==============================] - 8s 112us/step - loss: 0.8921 - acc: 0.6584 - val_loss: 0.8859 - val_acc: 0.6646\n",
      "Epoch 10/50\n",
      "67144/67144 [==============================] - 7s 108us/step - loss: 0.8855 - acc: 0.6606 - val_loss: 0.8836 - val_acc: 0.6649\n",
      "Epoch 11/50\n",
      "67144/67144 [==============================] - 7s 111us/step - loss: 0.8820 - acc: 0.6607 - val_loss: 0.8814 - val_acc: 0.6664\n",
      "Epoch 12/50\n",
      "67144/67144 [==============================] - 7s 108us/step - loss: 0.8788 - acc: 0.6635 - val_loss: 0.8779 - val_acc: 0.6661\n",
      "Epoch 13/50\n",
      "67144/67144 [==============================] - 8s 112us/step - loss: 0.8749 - acc: 0.6634 - val_loss: 0.8772 - val_acc: 0.6675\n",
      "Epoch 14/50\n",
      "67144/67144 [==============================] - 7s 108us/step - loss: 0.8711 - acc: 0.6644 - val_loss: 0.8765 - val_acc: 0.6653\n",
      "Epoch 15/50\n",
      "67144/67144 [==============================] - 7s 111us/step - loss: 0.8666 - acc: 0.6649 - val_loss: 0.8739 - val_acc: 0.6671\n",
      "Epoch 16/50\n",
      "67144/67144 [==============================] - 7s 108us/step - loss: 0.8651 - acc: 0.6670 - val_loss: 0.8730 - val_acc: 0.6668\n",
      "Epoch 17/50\n",
      "67144/67144 [==============================] - 7s 107us/step - loss: 0.8620 - acc: 0.6681 - val_loss: 0.8711 - val_acc: 0.6686\n",
      "Epoch 18/50\n",
      "67144/67144 [==============================] - 7s 110us/step - loss: 0.8582 - acc: 0.6685 - val_loss: 0.8702 - val_acc: 0.6672\n",
      "Epoch 19/50\n",
      "67144/67144 [==============================] - 7s 110us/step - loss: 0.8560 - acc: 0.6701 - val_loss: 0.8696 - val_acc: 0.6680\n",
      "Epoch 20/50\n",
      "67144/67144 [==============================] - 7s 111us/step - loss: 0.8533 - acc: 0.6687 - val_loss: 0.8681 - val_acc: 0.6680\n",
      "Epoch 21/50\n",
      "67144/67144 [==============================] - 7s 107us/step - loss: 0.8517 - acc: 0.6698 - val_loss: 0.8675 - val_acc: 0.6672\n",
      "Epoch 22/50\n",
      "67144/67144 [==============================] - 7s 110us/step - loss: 0.8484 - acc: 0.6718 - val_loss: 0.8677 - val_acc: 0.6683\n",
      "Epoch 23/50\n",
      "67144/67144 [==============================] - 7s 106us/step - loss: 0.8452 - acc: 0.6733 - val_loss: 0.8677 - val_acc: 0.6665\n",
      "Epoch 00023: early stopping\n"
     ]
    }
   ],
   "source": [
    "early_stop = EarlyStopping(monitor='val_loss', patience=2, verbose=1)\n",
    "network_history = model.fit(x_train, y_train,\n",
    "                      batch_size=128,\n",
    "                      epochs=50,\n",
    "                      verbose=1,\n",
    "                      validation_split=0.2,\n",
    "                      callbacks=[early_stop])"
   ]
  },
  {
   "cell_type": "code",
   "execution_count": 12,
   "metadata": {},
   "outputs": [
    {
     "name": "stdout",
     "output_type": "stream",
     "text": [
      "27978/27978 [==============================] - 2s 75us/step\n",
      "Accuracy: 66.48%\n"
     ]
    }
   ],
   "source": [
    "scores = model.evaluate(x_test, y_test, verbose=1)\n",
    "print(\"Accuracy: %.2f%%\" % (scores[1]*100))\n"
   ]
  },
  {
   "cell_type": "code",
   "execution_count": 13,
   "metadata": {},
   "outputs": [
    {
     "data": {
      "image/png": "[encoded data removed]",
      "text/plain": [
       "<Figure size 432x288 with 1 Axes>"
      ]
     },
     "metadata": {
      "needs_background": "light"
     },
     "output_type": "display_data"
    },
    {
     "data": {
      "image/png": "[encoded data removed]",
      "text/plain": [
       "<Figure size 432x288 with 1 Axes>"
      ]
     },
     "metadata": {
      "needs_background": "light"
     },
     "output_type": "display_data"
    }
   ],
   "source": [
    "import matplotlib.pyplot as plt\n",
    "%matplotlib inline\n",
    "\n",
    "def plot_history(network_history):\n",
    "    plt.figure()\n",
    "    plt.xlabel('Epochs')\n",
    "    plt.ylabel('Loss')\n",
    "    plt.plot(network_history.history['loss'])\n",
    "    plt.plot(network_history.history['val_loss'])\n",
    "    plt.legend(['Training', 'Validation'])\n",
    "\n",
    "    plt.figure()\n",
    "    plt.xlabel('Epochs')\n",
    "    plt.ylabel('Accuracy')\n",
    "    plt.plot(network_history.history['acc'])\n",
    "    plt.plot(network_history.history['val_acc'])\n",
    "    plt.legend(['Training', 'Validation'], loc='lower right')\n",
    "    plt.show()\n",
    "\n",
    "plot_history(network_history)"
   ]
  },
  {
   "cell_type": "code",
   "execution_count": 14,
   "metadata": {},
   "outputs": [],
   "source": [
    "y_predict = model.predict(x_test)"
   ]
  },
  {
   "cell_type": "code",
   "execution_count": 15,
   "metadata": {},
   "outputs": [
    {
     "data": {
      "text/html": [
       "<div>\n",
       "<style scoped>\n",
       "    .dataframe tbody tr th:only-of-type {\n",
       "        vertical-align: middle;\n",
       "    }\n",
       "\n",
       "    .dataframe tbody tr th {\n",
       "        vertical-align: top;\n",
       "    }\n",
       "\n",
       "    .dataframe thead th {\n",
       "        text-align: right;\n",
       "    }\n",
       "</style>\n",
       "<table border=\"1\" class=\"dataframe\">\n",
       "  <thead>\n",
       "    <tr style=\"text-align: right;\">\n",
       "      <th></th>\n",
       "      <th>0</th>\n",
       "      <th>1</th>\n",
       "      <th>2</th>\n",
       "      <th>3</th>\n",
       "      <th>4</th>\n",
       "    </tr>\n",
       "  </thead>\n",
       "  <tbody>\n",
       "    <tr>\n",
       "      <th>0</th>\n",
       "      <td>0.000054</td>\n",
       "      <td>0.000097</td>\n",
       "      <td>0.003126</td>\n",
       "      <td>0.084362</td>\n",
       "      <td>0.912361</td>\n",
       "    </tr>\n",
       "    <tr>\n",
       "      <th>1</th>\n",
       "      <td>0.076480</td>\n",
       "      <td>0.028378</td>\n",
       "      <td>0.031660</td>\n",
       "      <td>0.129107</td>\n",
       "      <td>0.734376</td>\n",
       "    </tr>\n",
       "    <tr>\n",
       "      <th>2</th>\n",
       "      <td>0.002466</td>\n",
       "      <td>0.002922</td>\n",
       "      <td>0.048019</td>\n",
       "      <td>0.483117</td>\n",
       "      <td>0.463476</td>\n",
       "    </tr>\n",
       "    <tr>\n",
       "      <th>3</th>\n",
       "      <td>0.000617</td>\n",
       "      <td>0.002082</td>\n",
       "      <td>0.012352</td>\n",
       "      <td>0.208716</td>\n",
       "      <td>0.776233</td>\n",
       "    </tr>\n",
       "    <tr>\n",
       "      <th>4</th>\n",
       "      <td>0.697191</td>\n",
       "      <td>0.170243</td>\n",
       "      <td>0.065403</td>\n",
       "      <td>0.021860</td>\n",
       "      <td>0.045302</td>\n",
       "    </tr>\n",
       "  </tbody>\n",
       "</table>\n",
       "</div>"
      ],
      "text/plain": [
       "          0         1         2         3         4\n",
       "0  0.000054  0.000097  0.003126  0.084362  0.912361\n",
       "1  0.076480  0.028378  0.031660  0.129107  0.734376\n",
       "2  0.002466  0.002922  0.048019  0.483117  0.463476\n",
       "3  0.000617  0.002082  0.012352  0.208716  0.776233\n",
       "4  0.697191  0.170243  0.065403  0.021860  0.045302"
      ]
     },
     "execution_count": 15,
     "metadata": {},
     "output_type": "execute_result"
    }
   ],
   "source": [
    "y_predict_df = pd.DataFrame(y_predict)\n",
    "y_predict_df.head()"
   ]
  },
  {
   "cell_type": "code",
   "execution_count": 16,
   "metadata": {},
   "outputs": [],
   "source": [
    "y_predict_unencoded = [row.idxmax() + 1 for index, row in y_predict_df.iterrows()]"
   ]
  },
  {
   "cell_type": "code",
   "execution_count": 17,
   "metadata": {},
   "outputs": [],
   "source": [
    "y_test_df = pd.DataFrame(y_test)\n",
    "y_test_unencoded = [row.idxmax() + 1 for index, row in y_test_df.iterrows()]"
   ]
  },
  {
   "cell_type": "code",
   "execution_count": 18,
   "metadata": {},
   "outputs": [
    {
     "data": {
      "text/plain": [
       "array([[ 3030,   148,   176,   120,   401],\n",
       "       [  881,   139,   261,   210,   396],\n",
       "       [  497,   137,   447,   652,   827],\n",
       "       [  225,    53,   223,  1149,  2987],\n",
       "       [  255,    34,   147,   747, 13836]])"
      ]
     },
     "execution_count": 18,
     "metadata": {},
     "output_type": "execute_result"
    }
   ],
   "source": [
    "confusion_matrix(y_test_unencoded, y_predict_unencoded)"
   ]
  },
  {
   "cell_type": "code",
   "execution_count": 19,
   "metadata": {},
   "outputs": [
    {
     "name": "stdout",
     "output_type": "stream",
     "text": [
      "              precision    recall  f1-score   support\n",
      "\n",
      "           1       0.62      0.78      0.69      3875\n",
      "           2       0.27      0.07      0.12      1887\n",
      "           3       0.36      0.17      0.23      2560\n",
      "           4       0.40      0.25      0.31      4637\n",
      "           5       0.75      0.92      0.83     15019\n",
      "\n",
      "    accuracy                           0.66     27978\n",
      "   macro avg       0.48      0.44      0.43     27978\n",
      "weighted avg       0.61      0.66      0.62     27978\n",
      "\n"
     ]
    }
   ],
   "source": [
    "print(classification_report(y_test_unencoded, y_predict_unencoded))"
   ]
  },
  {
   "cell_type": "markdown",
   "metadata": {},
   "source": [
    "# Save off various files"
   ]
  },
  {
   "cell_type": "code",
   "execution_count": 20,
   "metadata": {},
   "outputs": [],
   "source": [
    "model.save(MODEL_FILE)"
   ]
  },
  {
   "cell_type": "code",
   "execution_count": 21,
   "metadata": {},
   "outputs": [],
   "source": [
    "pickle.dump(network_history, open(NETWORK_HISTORY_FILE, \"wb\"))"
   ]
  },
  {
   "cell_type": "code",
   "execution_count": 22,
   "metadata": {},
   "outputs": [],
   "source": [
    "# saving off report in the same format as other report just in case we want to compare for later\n",
    "flattened = {}\n",
    "flattened = du.add_dict_to_dict(flattened, classification_report(y_test_unencoded, y_predict_unencoded, output_dict=True))\n",
    "flattened[\"confusion_matrix\"] = confusion_matrix(y_test_unencoded, y_predict_unencoded)\n",
    "flattened[\"description\"] = DESCRIPTION\n",
    "flattened[\"file\"] = DATA_FILE\n",
    "flattened[\"network_history_file\"] = NETWORK_HISTORY_FILE\n",
    "flattened[\"embedding\"] = \"word2vec5\"\n",
    "flattened[\"model_file\"] = MODEL_FILE\n",
    "flattened[\"model_name\"] = MODEL_NAME\n",
    "flattened[\"test_examples\"] = x_test.shape[0]\n",
    "flattened[\"test_features\"] = x_test.shape[1]\n",
    "flattened[\"train_examples\"] = x_train.shape[0]\n",
    "flattened[\"train_features\"] = x_train.shape[1]\n",
    "flattened[\"status\"] = \"success\"\n",
    "flattened[\"status_date\"] = datetime.now().strftime(TIME_FORMAT)\n"
   ]
  },
  {
   "cell_type": "code",
   "execution_count": 23,
   "metadata": {},
   "outputs": [
    {
     "data": {
      "text/html": [
       "<div>\n",
       "<style scoped>\n",
       "    .dataframe tbody tr th:only-of-type {\n",
       "        vertical-align: middle;\n",
       "    }\n",
       "\n",
       "    .dataframe tbody tr th {\n",
       "        vertical-align: top;\n",
       "    }\n",
       "\n",
       "    .dataframe thead th {\n",
       "        text-align: right;\n",
       "    }\n",
       "</style>\n",
       "<table border=\"1\" class=\"dataframe\">\n",
       "  <thead>\n",
       "    <tr style=\"text-align: right;\">\n",
       "      <th></th>\n",
       "      <th>1_f1-score</th>\n",
       "      <th>1_precision</th>\n",
       "      <th>1_recall</th>\n",
       "      <th>1_support</th>\n",
       "      <th>2_f1-score</th>\n",
       "      <th>2_precision</th>\n",
       "      <th>2_recall</th>\n",
       "      <th>2_support</th>\n",
       "      <th>3_f1-score</th>\n",
       "      <th>3_precision</th>\n",
       "      <th>...</th>\n",
       "      <th>status</th>\n",
       "      <th>test_examples</th>\n",
       "      <th>test_features</th>\n",
       "      <th>train_examples</th>\n",
       "      <th>train_features</th>\n",
       "      <th>weighted avg_f1-score</th>\n",
       "      <th>weighted avg_precision</th>\n",
       "      <th>weighted avg_recall</th>\n",
       "      <th>weighted avg_support</th>\n",
       "      <th>status_date</th>\n",
       "    </tr>\n",
       "  </thead>\n",
       "  <tbody>\n",
       "    <tr>\n",
       "      <th>0</th>\n",
       "      <td>0.684016</td>\n",
       "      <td>0.579598</td>\n",
       "      <td>0.834323</td>\n",
       "      <td>3875</td>\n",
       "      <td>0.102234</td>\n",
       "      <td>0.269841</td>\n",
       "      <td>0.063063</td>\n",
       "      <td>1887</td>\n",
       "      <td>0.254482</td>\n",
       "      <td>0.350962</td>\n",
       "      <td>...</td>\n",
       "      <td>success</td>\n",
       "      <td>27978</td>\n",
       "      <td>512</td>\n",
       "      <td>83931</td>\n",
       "      <td>512</td>\n",
       "      <td>0.626187</td>\n",
       "      <td>0.614808</td>\n",
       "      <td>0.667024</td>\n",
       "      <td>27978</td>\n",
       "      <td>NaN</td>\n",
       "    </tr>\n",
       "    <tr>\n",
       "      <th>1</th>\n",
       "      <td>0.686399</td>\n",
       "      <td>0.582778</td>\n",
       "      <td>0.834839</td>\n",
       "      <td>3875</td>\n",
       "      <td>0.061751</td>\n",
       "      <td>0.236749</td>\n",
       "      <td>0.035506</td>\n",
       "      <td>1887</td>\n",
       "      <td>0.281108</td>\n",
       "      <td>0.335683</td>\n",
       "      <td>...</td>\n",
       "      <td>success</td>\n",
       "      <td>27978</td>\n",
       "      <td>512</td>\n",
       "      <td>83931</td>\n",
       "      <td>512</td>\n",
       "      <td>0.623634</td>\n",
       "      <td>0.612376</td>\n",
       "      <td>0.667489</td>\n",
       "      <td>27978</td>\n",
       "      <td>2019-06-19 16:41:35</td>\n",
       "    </tr>\n",
       "    <tr>\n",
       "      <th>2</th>\n",
       "      <td>0.692492</td>\n",
       "      <td>0.619951</td>\n",
       "      <td>0.784258</td>\n",
       "      <td>3875</td>\n",
       "      <td>0.094232</td>\n",
       "      <td>0.278646</td>\n",
       "      <td>0.056704</td>\n",
       "      <td>1887</td>\n",
       "      <td>0.274155</td>\n",
       "      <td>0.350792</td>\n",
       "      <td>...</td>\n",
       "      <td>success</td>\n",
       "      <td>27978</td>\n",
       "      <td>512</td>\n",
       "      <td>83931</td>\n",
       "      <td>512</td>\n",
       "      <td>0.621332</td>\n",
       "      <td>0.608507</td>\n",
       "      <td>0.666881</td>\n",
       "      <td>27978</td>\n",
       "      <td>2019-06-19 16:50:36</td>\n",
       "    </tr>\n",
       "    <tr>\n",
       "      <th>3</th>\n",
       "      <td>0.691544</td>\n",
       "      <td>0.619885</td>\n",
       "      <td>0.781935</td>\n",
       "      <td>3875</td>\n",
       "      <td>0.115930</td>\n",
       "      <td>0.272016</td>\n",
       "      <td>0.073662</td>\n",
       "      <td>1887</td>\n",
       "      <td>0.234400</td>\n",
       "      <td>0.356459</td>\n",
       "      <td>...</td>\n",
       "      <td>success</td>\n",
       "      <td>27978</td>\n",
       "      <td>512</td>\n",
       "      <td>83931</td>\n",
       "      <td>512</td>\n",
       "      <td>0.619603</td>\n",
       "      <td>0.605619</td>\n",
       "      <td>0.664844</td>\n",
       "      <td>27978</td>\n",
       "      <td>2019-06-19 17:02:55</td>\n",
       "    </tr>\n",
       "  </tbody>\n",
       "</table>\n",
       "<p>4 rows × 42 columns</p>\n",
       "</div>"
      ],
      "text/plain": [
       "   1_f1-score  1_precision  1_recall  1_support  2_f1-score  2_precision  \\\n",
       "0    0.684016     0.579598  0.834323       3875    0.102234     0.269841   \n",
       "1    0.686399     0.582778  0.834839       3875    0.061751     0.236749   \n",
       "2    0.692492     0.619951  0.784258       3875    0.094232     0.278646   \n",
       "3    0.691544     0.619885  0.781935       3875    0.115930     0.272016   \n",
       "\n",
       "   2_recall  2_support  3_f1-score  3_precision  ...   status  test_examples  \\\n",
       "0  0.063063       1887    0.254482     0.350962  ...  success          27978   \n",
       "1  0.035506       1887    0.281108     0.335683  ...  success          27978   \n",
       "2  0.056704       1887    0.274155     0.350792  ...  success          27978   \n",
       "3  0.073662       1887    0.234400     0.356459  ...  success          27978   \n",
       "\n",
       "   test_features  train_examples  train_features  weighted avg_f1-score  \\\n",
       "0            512           83931             512               0.626187   \n",
       "1            512           83931             512               0.623634   \n",
       "2            512           83931             512               0.621332   \n",
       "3            512           83931             512               0.619603   \n",
       "\n",
       "   weighted avg_precision  weighted avg_recall  weighted avg_support  \\\n",
       "0                0.614808             0.667024                 27978   \n",
       "1                0.612376             0.667489                 27978   \n",
       "2                0.608507             0.666881                 27978   \n",
       "3                0.605619             0.664844                 27978   \n",
       "\n",
       "           status_date  \n",
       "0                  NaN  \n",
       "1  2019-06-19 16:41:35  \n",
       "2  2019-06-19 16:50:36  \n",
       "3  2019-06-19 17:02:55  \n",
       "\n",
       "[4 rows x 42 columns]"
      ]
     },
     "execution_count": 23,
     "metadata": {},
     "output_type": "execute_result"
    }
   ],
   "source": [
    "# check to see if report file exisits, if so load it and append\n",
    "exists = os.path.isfile(REPORT_FILE)\n",
    "if exists:\n",
    "    report_df = pd.read_csv(REPORT_FILE)\n",
    "else:\n",
    "    report_df = pd.DataFrame()\n",
    "    \n",
    "report_df = report_df.append(flattened, ignore_index=True)\n",
    "report_df.head()\n",
    "\n"
   ]
  },
  {
   "cell_type": "code",
   "execution_count": 24,
   "metadata": {},
   "outputs": [],
   "source": [
    "report_df.to_csv(REPORT_FILE, index=False)"
   ]
  },
  {
   "cell_type": "code",
   "execution_count": null,
   "metadata": {},
   "outputs": [],
   "source": []
  }
 ],
 "metadata": {
  "hide_input": false,
  "kernelspec": {
   "display_name": "Python 3",
   "language": "python",
   "name": "python3"
  },
  "language_info": {
   "codemirror_mode": {
    "name": "ipython",
    "version": 3
   },
   "file_extension": ".py",
   "mimetype": "text/x-python",
   "name": "python",
   "nbconvert_exporter": "python",
   "pygments_lexer": "ipython3",
   "version": "3.7.3"
  }
 },
 "nbformat": 4,
 "nbformat_minor": 2
}
