{
 "nbformat": 4,
 "nbformat_minor": 0,
 "metadata": {
  "accelerator": "GPU",
  "colab": {
   "name": "2019-07-25-GRU_bi1layer_with_attention.ipynb",
   "version": "0.3.2",
   "provenance": [],
   "collapsed_sections": [],
   "include_colab_link": true
  },
  "kernelspec": {
   "display_name": "Python 3",
   "language": "python",
   "name": "python3"
  },
  "language_info": {
   "codemirror_mode": {
    "name": "ipython",
    "version": 3
   },
   "file_extension": ".py",
   "mimetype": "text/x-python",
   "name": "python",
   "nbconvert_exporter": "python",
   "pygments_lexer": "ipython3",
   "version": "3.7.3"
  },
  "pycharm": {
   "stem_cell": {
    "cell_type": "raw",
    "source": [],
    "metadata": {
     "collapsed": false
    }
   }
  }
 },
 "cells": [
  {
   "cell_type": "markdown",
   "metadata": {
    "id": "view-in-github",
    "colab_type": "text"
   },
   "source": [
    "<a href=\"https://colab.research.google.com/github/sv650s/sb-capstone/blob/master/2019_07_25_biGRU_1layer_with_attention.ipynb\" target=\"_parent\"><img src=\"https://colab.research.google.com/assets/colab-badge.svg\" alt=\"Open In Colab\"/></a>"
   ]
  },
  {
   "cell_type": "markdown",
   "metadata": {
    "colab_type": "text",
    "id": "W7_sb1roJXhx"
   },
   "source": [
    "# GRU Prototype With Attention\n",
    "\n",
    "Previous notebook we implemented a [single layer GRU](https://github.com/sv650s/sb-capstone/blob/master/2019-07-22-GRU_prototype.ipynb) without attention\n",
    "\n",
    "For this notebook, we will implement a 1 layer bidirectional GRU network with attention and 3 dense layer architecture\n",
    "\n",
    "\n",
    "As before, I am using some utility functions so I don't have copy so much code around. Source code for the modules are here:\n",
    "* [dict_util](https://github.com/sv650s/sb-capstone/blob/master/util/dict_util.py)\n",
    "* [plot_util](https://github.com/sv650s/sb-capstone/blob/master/util/plot_util.py)\n",
    "* [keras_util](https://github.com/sv650s/sb-capstone/blob/master/util/keras_util.py)\n",
    "* [file_util](https://github.com/sv650s/sb-capstone/blob/master/util/file_util.py)"
   ]
  },
  {
   "cell_type": "code",
   "metadata": {
    "colab_type": "code",
    "id": "gwrIhSxpG--S",
    "outputId": "542da1e0-0bee-47f1-949e-4c76c3bbcd95",
    "colab": {
     "base_uri": "https://localhost:8080/",
     "height": 34
    }
   },
   "source": [
    "from google.colab import drive\n",
    "import sys\n",
    "drive.mount('/content/drive')\n",
    "DRIVE_DIR = \"drive/My Drive/Springboard/capstone\"\n",
    "# add this to sys patch so we can import utility functions\n",
    "sys.path.append(DRIVE_DIR)\n"
   ],
   "execution_count": 1,
   "outputs": [
    {
     "output_type": "stream",
     "text": [
      "Drive already mounted at /content/drive; to attempt to forcibly remount, call drive.mount(\"/content/drive\", force_remount=True).\n"
     ],
     "name": "stdout"
    }
   ]
  },
  {
   "cell_type": "code",
   "metadata": {
    "colab_type": "code",
    "id": "pAHGtniuJXhy",
    "colab": {
     "base_uri": "https://localhost:8080/",
     "height": 34
    },
    "outputId": "e4ef411e-9d3a-4729-b411-fb24baae6035"
   },
   "source": [
    "from keras.models import Sequential\n",
    "from keras.layers import Dense, Activation, Dropout, GRU, Dropout, Bidirectional\n",
    "from keras.layers.normalization import BatchNormalization\n",
    "from keras.callbacks import EarlyStopping, ReduceLROnPlateau\n",
    "from keras.models import load_model\n",
    "from sklearn.model_selection import train_test_split\n",
    "from keras.optimizers import SGD\n",
    "from sklearn.preprocessing import OneHotEncoder\n",
    "from keras.layers import Flatten\n",
    "from keras.layers.convolutional import Conv1D\n",
    "from keras.layers.convolutional import MaxPooling1D\n",
    "from keras.layers.embeddings import Embedding\n",
    "import pandas as pd\n",
    "from IPython.display import SVG\n",
    "from keras.utils.vis_utils import model_to_dot\n",
    "import pickle\n",
    "from datetime import datetime\n",
    "from sklearn.metrics import confusion_matrix, classification_report\n",
    "import os\n",
    "import seaborn as sns\n",
    "import matplotlib.pyplot as plt\n",
    "\n",
    "\n",
    "# custom utility functions\n",
    "import util.dict_util as du\n",
    "import util.plot_util as pu\n",
    "import util.file_util as fu\n",
    "import util.keras_util as ku\n",
    "\n",
    "\n",
    "sns.set()\n"
   ],
   "execution_count": 2,
   "outputs": [
    {
     "output_type": "stream",
     "text": [
      "Using TensorFlow backend.\n"
     ],
     "name": "stderr"
    }
   ]
  },
  {
   "cell_type": "code",
   "metadata": {
    "colab_type": "code",
    "id": "At8OhHNfJXh3",
    "colab": {}
   },
   "source": [
    "DATE_FORMAT = '%Y-%m-%d'\n",
    "TIME_FORMAT = '%Y-%m-%d %H:%M:%S'\n",
    "DATA_FILE = f\"{DRIVE_DIR}/data/amazon_reviews_us_Wireless_v1_00-preprocessed-110k.csv\"\n",
    "LABEL_COLUMN = \"star_rating\"\n",
    "FEATURE_COLUMN = \"review_body\"\n",
    "\n",
    "\n"
   ],
   "execution_count": 0,
   "outputs": []
  },
  {
   "cell_type": "code",
   "metadata": {
    "colab_type": "code",
    "id": "KfGVl2gXLMV_",
    "outputId": "a1683a12-0fb0-4a68-da55-dffb065d6e63",
    "colab": {
     "base_uri": "https://localhost:8080/",
     "height": 34
    }
   },
   "source": [
    "import tensorflow as tf\n",
    "# checl to make sure we are using GPU here\n",
    "tf.test.gpu_device_name()"
   ],
   "execution_count": 4,
   "outputs": [
    {
     "output_type": "execute_result",
     "data": {
      "text/plain": [
       "'/device:GPU:0'"
      ]
     },
     "metadata": {
      "tags": []
     },
     "execution_count": 4
    }
   ]
  },
  {
   "cell_type": "code",
   "metadata": {
    "colab_type": "code",
    "hide_input": false,
    "id": "k6fwJp9OJXh5",
    "colab": {}
   },
   "source": [
    "df = pd.read_csv(f\"{DATA_FILE}\")"
   ],
   "execution_count": 0,
   "outputs": []
  },
  {
   "cell_type": "markdown",
   "metadata": {
    "colab_type": "text",
    "id": "EBQR0ZpoOiQk"
   },
   "source": [
    "## Preprocessing\n",
    "\n",
    "*  Preprocessing data file and create the right inputs for Keras models\n",
    "     *   Features:\n",
    "        * tokenize\n",
    "        * pad features into sequence\n",
    "     *   Labels:\n",
    "       *  one hot encoder\n",
    "* split between training and testing\n",
    "\n",
    "See [keras_util](https://github.com/sv650s/sb-capstone/blob/master/util/keras_util.py) for souce code"
   ]
  },
  {
   "cell_type": "code",
   "metadata": {
    "id": "PzGwNuPXAzNa",
    "colab_type": "code",
    "outputId": "5f06c9c7-3611-4618-f88a-54799af4b429",
    "colab": {
     "base_uri": "https://localhost:8080/",
     "height": 190
    }
   },
   "source": [
    "X_train, X_test, y_train, y_test, tokenizer, max_sequence_length = \\\n",
    "                                  ku.preprocess_file(data_df=df, \n",
    "                                                      feature_column=FEATURE_COLUMN, \n",
    "                                                      label_column=LABEL_COLUMN, \n",
    "                                                      keep_percentile=0.99)"
   ],
   "execution_count": 6,
   "outputs": [
    {
     "output_type": "stream",
     "text": [
      "One hot enocde label data...\n",
      "Splitting data into training and test sets...\n"
     ],
     "name": "stdout"
    },
    {
     "output_type": "stream",
     "text": [
      "/usr/local/lib/python3.6/dist-packages/sklearn/preprocessing/_encoders.py:415: FutureWarning: The handling of integer data will change in version 0.22. Currently, the categories are determined based on the range [0, max(values)], while in the future they will be determined based on the unique values.\n",
      "If you want the future behaviour and silence this warning, you can specify \"categories='auto'\".\n",
      "In case you used a LabelEncoder before this OneHotEncoder to convert the categories to integers, then you can now use the OneHotEncoder directly.\n",
      "  warnings.warn(msg, FutureWarning)\n"
     ],
     "name": "stderr"
    },
    {
     "output_type": "stream",
     "text": [
      "Vocabulary size=40788\n",
      "Number of Documents=84032\n",
      "Max Sequence Length: 186\n"
     ],
     "name": "stdout"
    }
   ]
  },
  {
   "cell_type": "markdown",
   "metadata": {
    "id": "qd8t1zSvBzgh",
    "colab_type": "text"
   },
   "source": [
    "# Building Our GRU Model"
   ]
  },
  {
   "cell_type": "code",
   "metadata": {
    "id": "xulwNtQpGF6J",
    "colab_type": "code",
    "colab": {}
   },
   "source": [
    "from keras.engine.topology import Layer\n",
    "from keras import backend as K\n",
    "import keras\n",
    "\n",
    "\n",
    "class AttentionLayer(Layer):\n",
    "    \n",
    "    def __init__(self, step_dim,\n",
    "                 W_regularizer=None, b_regularizer=None,\n",
    "                 W_constraint=None, b_constraint=None,\n",
    "                 bias=True, **kwargs):\n",
    "        \n",
    "        \"\"\"\n",
    "        Keras Layer that implements an Attention mechanism for temporal data.\n",
    "        Supports Masking.\n",
    "        Follows the work of Raffel et al. [https://arxiv.org/abs/1512.08756]\n",
    "        # Input shape\n",
    "            3D tensor with shape: `(samples, steps, features)`.\n",
    "        # Output shape\n",
    "            2D tensor with shape: `(samples, features)`.\n",
    "        :param kwargs:\n",
    "        Just put it on top of an RNN Layer (GRU/LSTM/SimpleRNN) with return_sequences=True.\n",
    "        The dimensions are inferred based on the output shape of the RNN.\n",
    "        \"\"\"\n",
    "        \n",
    "        self.supports_masking = True\n",
    "        self.init = keras.initializers.get('glorot_uniform')\n",
    "\n",
    "        self.W_regularizer = keras.regularizers.get(W_regularizer)\n",
    "        self.b_regularizer = keras.regularizers.get(b_regularizer)\n",
    "\n",
    "        self.W_constraint = keras.constraints.get(W_constraint)\n",
    "        self.b_constraint = keras.constraints.get(b_constraint)\n",
    "\n",
    "        self.bias = bias\n",
    "        self.step_dim = step_dim\n",
    "        self.features_dim = 0\n",
    "        super(AttentionLayer, self).__init__(**kwargs)\n",
    "        \n",
    "\n",
    "    def build(self, input_shape):\n",
    "        assert len(input_shape) == 3\n",
    "\n",
    "        self.W = self.add_weight((input_shape[-1],),\n",
    "                                 initializer=self.init,\n",
    "                                 name='{}_W'.format(self.name),\n",
    "                                 regularizer=self.W_regularizer,\n",
    "                                 constraint=self.W_constraint)\n",
    "        self.features_dim = input_shape[-1]\n",
    "\n",
    "        if self.bias:\n",
    "            self.b = self.add_weight((input_shape[1],),\n",
    "                                     initializer='zero',\n",
    "                                     name='{}_b'.format(self.name),\n",
    "                                     regularizer=self.b_regularizer,\n",
    "                                     constraint=self.b_constraint)\n",
    "        else:\n",
    "            self.b = None\n",
    "\n",
    "        self.built = True\n",
    "        \n",
    "\n",
    "    def compute_mask(self, input, input_mask=None):\n",
    "        # do not pass the mask to the next layers\n",
    "        return None\n",
    "\n",
    "    \n",
    "    def call(self, x, mask=None):\n",
    "        # TF backend doesn't support it\n",
    "        # eij = K.dot(x, self.W) \n",
    "        # features_dim = self.W.shape[0]\n",
    "        # step_dim = x._keras_shape[1]\n",
    "\n",
    "        features_dim = self.features_dim\n",
    "        step_dim = self.step_dim\n",
    "\n",
    "        eij = K.reshape(K.dot(K.reshape(x, (-1, features_dim)), \n",
    "                              K.reshape(self.W, (features_dim, 1))),\n",
    "                        (-1, step_dim))\n",
    "\n",
    "        if self.bias:\n",
    "            eij += self.b\n",
    "\n",
    "        eij = K.tanh(eij)\n",
    "\n",
    "        a = K.exp(eij)\n",
    "\n",
    "        # apply mask after the exp. will be re-normalized next\n",
    "        if mask is not None:\n",
    "            # Cast the mask to floatX to avoid float64 upcasting in theano\n",
    "            a *= K.cast(mask, K.floatx())\n",
    "\n",
    "        # in some cases especially in the early stages of training the sum may be almost zero\n",
    "        a /= K.cast(K.sum(a, axis=1, keepdims=True) + K.epsilon(), K.floatx())\n",
    "        a = K.expand_dims(a)\n",
    "        weighted_input = x * a\n",
    "        \n",
    "        return K.sum(weighted_input, axis=1)\n",
    "\n",
    "    \n",
    "    def compute_output_shape(self, input_shape):\n",
    "        return input_shape[0],  self.features_dim\n",
    "    \n",
    "    \n",
    "    def get_config(self):\n",
    "        config = {'step_dim': self.step_dim}\n",
    "        base_config = super(AttentionLayer, self).get_config()\n",
    "        return dict(list(base_config.items()) + list(config.items()))"
   ],
   "execution_count": 0,
   "outputs": []
  },
  {
   "cell_type": "code",
   "metadata": {
    "colab_type": "code",
    "id": "LxDcAouddq88",
    "colab": {}
   },
   "source": [
    "MODEL_NAME = \"GRU_bi1layer_attention\"\n",
    "EMBED_SIZE = 300\n",
    "EPOCHS  = 50\n",
    "BATCH_SIZE = 128\n",
    "VOCAB_SIZE = len(tokenizer.word_counts)+1\n",
    "GRU_DIM = 250 # total GRU units"
   ],
   "execution_count": 0,
   "outputs": []
  },
  {
   "cell_type": "code",
   "metadata": {
    "colab_type": "code",
    "id": "653DtCuBJXiF",
    "colab": {
     "base_uri": "https://localhost:8080/",
     "height": 309
    },
    "outputId": "78d4e562-6344-41a9-946a-7212c96bf235"
   },
   "source": [
    "from keras.layers import CuDNNGRU\n",
    "\n",
    "model = Sequential()\n",
    "model.add(Embedding(VOCAB_SIZE, EMBED_SIZE, input_length=max_sequence_length))\n",
    "model.add(Bidirectional(CuDNNGRU(GRU_DIM*2, return_sequences=True)))\n",
    "model.add(AttentionLayer(max_sequence_length))\n",
    "model.add(Dense(GRU_DIM*2, activation='relu'))\n",
    "model.add(Dropout(0.2))\n",
    "model.add(Dense(GRU_DIM, activation='relu'))\n",
    "model.add(Dense(5, activation='softmax'))\n",
    "model.compile(loss='categorical_crossentropy', \n",
    "              optimizer='adam', \n",
    "              metrics=['accuracy'])\n"
   ],
   "execution_count": 9,
   "outputs": [
    {
     "output_type": "stream",
     "text": [
      "WARNING: Logging before flag parsing goes to stderr.\n",
      "W0726 04:31:28.883862 139992969680768 deprecation_wrapper.py:119] From /usr/local/lib/python3.6/dist-packages/keras/backend/tensorflow_backend.py:74: The name tf.get_default_graph is deprecated. Please use tf.compat.v1.get_default_graph instead.\n",
      "\n",
      "W0726 04:31:28.891917 139992969680768 deprecation_wrapper.py:119] From /usr/local/lib/python3.6/dist-packages/keras/backend/tensorflow_backend.py:517: The name tf.placeholder is deprecated. Please use tf.compat.v1.placeholder instead.\n",
      "\n",
      "W0726 04:31:28.896095 139992969680768 deprecation_wrapper.py:119] From /usr/local/lib/python3.6/dist-packages/keras/backend/tensorflow_backend.py:4138: The name tf.random_uniform is deprecated. Please use tf.random.uniform instead.\n",
      "\n",
      "W0726 04:31:30.251824 139992969680768 deprecation_wrapper.py:119] From /usr/local/lib/python3.6/dist-packages/keras/backend/tensorflow_backend.py:133: The name tf.placeholder_with_default is deprecated. Please use tf.compat.v1.placeholder_with_default instead.\n",
      "\n",
      "W0726 04:31:30.263010 139992969680768 deprecation.py:506] From /usr/local/lib/python3.6/dist-packages/keras/backend/tensorflow_backend.py:3445: calling dropout (from tensorflow.python.ops.nn_ops) with keep_prob is deprecated and will be removed in a future version.\n",
      "Instructions for updating:\n",
      "Please use `rate` instead of `keep_prob`. Rate should be set to `rate = 1 - keep_prob`.\n",
      "W0726 04:31:30.303079 139992969680768 deprecation_wrapper.py:119] From /usr/local/lib/python3.6/dist-packages/keras/optimizers.py:790: The name tf.train.Optimizer is deprecated. Please use tf.compat.v1.train.Optimizer instead.\n",
      "\n",
      "W0726 04:31:30.326236 139992969680768 deprecation_wrapper.py:119] From /usr/local/lib/python3.6/dist-packages/keras/backend/tensorflow_backend.py:3295: The name tf.log is deprecated. Please use tf.math.log instead.\n",
      "\n"
     ],
     "name": "stderr"
    }
   ]
  },
  {
   "cell_type": "code",
   "metadata": {
    "colab_type": "code",
    "id": "iZitdxXPJXiI",
    "outputId": "039cfe3f-ab85-43a8-9d4d-32f16da94bc4",
    "colab": {
     "base_uri": "https://localhost:8080/",
     "height": 391
    }
   },
   "source": [
    "print(model.summary())"
   ],
   "execution_count": 10,
   "outputs": [
    {
     "output_type": "stream",
     "text": [
      "_________________________________________________________________\n",
      "Layer (type)                 Output Shape              Param #   \n",
      "=================================================================\n",
      "embedding_1 (Embedding)      (None, 186, 300)          12236700  \n",
      "_________________________________________________________________\n",
      "bidirectional_1 (Bidirection (None, 186, 1000)         2406000   \n",
      "_________________________________________________________________\n",
      "attention_layer_1 (Attention (None, 1000)              1186      \n",
      "_________________________________________________________________\n",
      "dense_1 (Dense)              (None, 500)               500500    \n",
      "_________________________________________________________________\n",
      "dropout_1 (Dropout)          (None, 500)               0         \n",
      "_________________________________________________________________\n",
      "dense_2 (Dense)              (None, 250)               125250    \n",
      "_________________________________________________________________\n",
      "dense_3 (Dense)              (None, 5)                 1255      \n",
      "=================================================================\n",
      "Total params: 15,270,891\n",
      "Trainable params: 15,270,891\n",
      "Non-trainable params: 0\n",
      "_________________________________________________________________\n",
      "None\n"
     ],
     "name": "stdout"
    }
   ]
  },
  {
   "cell_type": "code",
   "metadata": {
    "colab_type": "code",
    "id": "60eC_0fRJXiQ",
    "outputId": "204f8ce0-db92-452c-d131-df291fa08e70",
    "colab": {
     "base_uri": "https://localhost:8080/",
     "height": 275
    }
   },
   "source": [
    "# reduce learning rate if we sense a plateau\n",
    "reduce_lr = ReduceLROnPlateau(monitor='val_loss', \n",
    "                              factor=0.4,\n",
    "                              patience=2, \n",
    "                              min_lr=0.00001,\n",
    "                             mode='auto')\n",
    "early_stop = EarlyStopping(monitor='val_loss', \n",
    "                           patience=2, \n",
    "                           mode='auto', \n",
    "                           verbose=1,\n",
    "                          restore_best_weights=True)\n",
    "network_history = model.fit(X_train, y_train,\n",
    "                      batch_size=BATCH_SIZE,\n",
    "                      epochs=EPOCHS,\n",
    "                      verbose=1,\n",
    "                      validation_split=0.2,\n",
    "                      callbacks=[reduce_lr, early_stop])"
   ],
   "execution_count": 11,
   "outputs": [
    {
     "output_type": "stream",
     "text": [
      "W0726 04:31:30.451845 139992969680768 deprecation.py:323] From /usr/local/lib/python3.6/dist-packages/tensorflow/python/ops/math_grad.py:1250: add_dispatch_support.<locals>.wrapper (from tensorflow.python.ops.array_ops) is deprecated and will be removed in a future version.\n",
      "Instructions for updating:\n",
      "Use tf.where in 2.0, which has the same broadcast rule as np.where\n"
     ],
     "name": "stderr"
    },
    {
     "output_type": "stream",
     "text": [
      "Train on 67225 samples, validate on 16807 samples\n",
      "Epoch 1/50\n",
      "67225/67225 [==============================] - 97s 1ms/step - loss: 0.9646 - acc: 0.6312 - val_loss: 0.8689 - val_acc: 0.6639\n",
      "Epoch 2/50\n",
      "67225/67225 [==============================] - 93s 1ms/step - loss: 0.7836 - acc: 0.6936 - val_loss: 0.8385 - val_acc: 0.6759\n",
      "Epoch 3/50\n",
      "67225/67225 [==============================] - 93s 1ms/step - loss: 0.6905 - acc: 0.7316 - val_loss: 0.8634 - val_acc: 0.6729\n",
      "Epoch 4/50\n",
      "67225/67225 [==============================] - 93s 1ms/step - loss: 0.6028 - acc: 0.7687 - val_loss: 0.9202 - val_acc: 0.6560\n",
      "Restoring model weights from the end of the best epoch\n",
      "Epoch 00004: early stopping\n"
     ],
     "name": "stdout"
    }
   ]
  },
  {
   "cell_type": "markdown",
   "metadata": {
    "id": "I9-JeeLQDoFm",
    "colab_type": "text"
   },
   "source": [
    "## Evaluating the Model"
   ]
  },
  {
   "cell_type": "code",
   "metadata": {
    "id": "kkYmBlpADrKV",
    "colab_type": "code",
    "outputId": "f3d7b136-b69a-4f5d-cde6-2211b9d05af7",
    "colab": {
     "base_uri": "https://localhost:8080/",
     "height": 119
    }
   },
   "source": [
    "from util.keras_util import ModelEvaluator\n",
    "\n",
    "me = ModelEvaluator(MODEL_NAME, model, network_history)\n",
    "me.evaluate(X_test, y_test)"
   ],
   "execution_count": 12,
   "outputs": [
    {
     "output_type": "stream",
     "text": [
      "Running model.evaluate...\n",
      "28011/28011 [==============================] - 17s 605us/step\n",
      "Running model.predict...\n",
      "Unencode predictions...\n",
      "Generating confusion matrix...\n",
      "Calculating ROC AUC...\n"
     ],
     "name": "stdout"
    }
   ]
  },
  {
   "cell_type": "code",
   "metadata": {
    "colab_type": "code",
    "id": "2VHBrsPjJXiS",
    "outputId": "86940f82-0d50-45f9-ee67-b128a163b0f4",
    "colab": {
     "base_uri": "https://localhost:8080/",
     "height": 34
    }
   },
   "source": [
    "print(\"Accuracy: %.2f%%\" % (me.scores[1]*100))\n"
   ],
   "execution_count": 13,
   "outputs": [
    {
     "output_type": "stream",
     "text": [
      "Accuracy: 67.73%\n"
     ],
     "name": "stdout"
    }
   ]
  },
  {
   "cell_type": "code",
   "metadata": {
    "colab_type": "code",
    "id": "CsBholvaJXiU",
    "outputId": "a62af9e0-fa5f-4f9a-e64a-224c12775df1",
    "colab": {
     "base_uri": "https://localhost:8080/",
     "height": 345
    }
   },
   "source": [
    "pu.plot_network_history(me.network_history)"
   ],
   "execution_count": 14,
   "outputs": [
    {
     "output_type": "display_data",
     "data": {
      "image/png": "[encoded data removed]",
      "text/plain": [
       "<Figure size 720x360 with 2 Axes>"
      ]
     },
     "metadata": {
      "tags": []
     }
    }
   ]
  },
  {
   "cell_type": "code",
   "metadata": {
    "colab_type": "code",
    "id": "QyaOAdhqJXih",
    "outputId": "9349d8e7-beb2-45ff-bed3-05b5adeea0a1",
    "colab": {
     "base_uri": "https://localhost:8080/",
     "height": 102
    }
   },
   "source": [
    "me.confusion_matrix"
   ],
   "execution_count": 15,
   "outputs": [
    {
     "output_type": "execute_result",
     "data": {
      "text/plain": [
       "array([[ 3017,   310,   278,    45,   318],\n",
       "       [  762,   292,   450,   117,   250],\n",
       "       [  416,   231,   858,   420,   606],\n",
       "       [  130,    80,   551,  1069,  2922],\n",
       "       [  174,    45,   254,   681, 13735]])"
      ]
     },
     "metadata": {
      "tags": []
     },
     "execution_count": 15
    }
   ]
  },
  {
   "cell_type": "code",
   "metadata": {
    "colab_type": "code",
    "id": "6emER3oBJXil",
    "outputId": "b6afc2e8-fa14-48b0-a85f-e76836f9b1e5",
    "colab": {
     "base_uri": "https://localhost:8080/",
     "height": 221
    }
   },
   "source": [
    "print(me.classification_report)"
   ],
   "execution_count": 16,
   "outputs": [
    {
     "output_type": "stream",
     "text": [
      "              precision    recall  f1-score   support\n",
      "\n",
      "           1       0.67      0.76      0.71      3968\n",
      "           2       0.30      0.16      0.21      1871\n",
      "           3       0.36      0.34      0.35      2531\n",
      "           4       0.46      0.22      0.30      4752\n",
      "           5       0.77      0.92      0.84     14889\n",
      "\n",
      "    accuracy                           0.68     28011\n",
      "   macro avg       0.51      0.48      0.48     28011\n",
      "weighted avg       0.63      0.68      0.64     28011\n",
      "\n"
     ],
     "name": "stdout"
    }
   ]
  },
  {
   "cell_type": "code",
   "metadata": {
    "colab_type": "code",
    "id": "H12pYFCj1Hbn",
    "outputId": "38d8b79e-779f-40a7-aba7-8511610d4044",
    "colab": {
     "base_uri": "https://localhost:8080/",
     "height": 445
    }
   },
   "source": [
    "fig = plt.figure(figsize=(5,5))\n",
    "pu.plot_roc_auc(me.name, me.roc_auc, me.fpr, me.tpr)"
   ],
   "execution_count": 17,
   "outputs": [
    {
     "output_type": "display_data",
     "data": {
      "image/png": "[encoded data removed]",
      "text/plain": [
       "<Figure size 360x360 with 1 Axes>"
      ]
     },
     "metadata": {
      "tags": []
     }
    }
   ]
  },
  {
   "cell_type": "markdown",
   "metadata": {
    "id": "cISHAzDmSo73",
    "colab_type": "text"
   },
   "source": [
    "## Save off filees"
   ]
  },
  {
   "cell_type": "code",
   "metadata": {
    "colab_type": "code",
    "id": "VjW8V1MR61kJ",
    "colab": {}
   },
   "source": [
    "directory, INBASENAME = fu.get_dir_basename(DATA_FILE)\n",
    "DESCRIPTION = f\"{INBASENAME}-{MODEL_NAME}-{max_sequence_length}-{FEATURE_COLUMN}\"\n",
    "MODEL_FILE = f\"{DRIVE_DIR}/models/{datetime.now().strftime(DATE_FORMAT)}-{DESCRIPTION}.h5\"\n",
    "NETWORK_HISTORY_FILE = f'{DRIVE_DIR}/models/{datetime.now().strftime(DATE_FORMAT)}-{DESCRIPTION}-history.pkl'\n",
    "REPORT_FILE = f\"{DRIVE_DIR}/reports/{datetime.now().strftime(DATE_FORMAT)}-dl_protype-report.csv\"\n",
    "TOKENIZER_FILE = f'{DRIVE_DIR}/models/dl-tokenizer.pkl'\n"
   ],
   "execution_count": 0,
   "outputs": []
  },
  {
   "cell_type": "code",
   "metadata": {
    "colab_type": "code",
    "id": "GjVjezXPJXin",
    "colab": {}
   },
   "source": [
    "me.model.save(MODEL_FILE)"
   ],
   "execution_count": 0,
   "outputs": []
  },
  {
   "cell_type": "code",
   "metadata": {
    "colab_type": "code",
    "id": "Cad0ykC2JXip",
    "colab": {}
   },
   "source": [
    "pickle.dump(me.network_history, open(NETWORK_HISTORY_FILE, \"wb\"))\n",
    "pickle.dump(tokenizer, open(TOKENIZER_FILE, \"wb\"))"
   ],
   "execution_count": 0,
   "outputs": []
  },
  {
   "cell_type": "code",
   "metadata": {
    "colab_type": "code",
    "id": "oz4FzsvmJXit",
    "colab": {}
   },
   "source": [
    "# saving off report in the same format as other report just in case we want to compare for later\n",
    "flattened = {}\n",
    "flattened = du.add_dict_to_dict(flattened, me.crd)\n",
    "flattened = du.add_dict_to_dict(flattened, me.roc_auc)\n",
    "flattened[\"tpr\"] = me.tpr\n",
    "flattened[\"fpr\"] = me.fpr\n",
    "flattened[\"loss\"] = me.scores[0]\n",
    "flattened[\"accuracy\"] = me.scores[1]\n",
    "flattened[\"confusion_matrix\"] = me.confusion_matrix\n",
    "flattened[\"description\"] = DESCRIPTION\n",
    "flattened[\"file\"] = DATA_FILE\n",
    "flattened[\"network_history_file\"] = NETWORK_HISTORY_FILE\n",
    "flattened[\"tokenizer_file\"] = TOKENIZER_FILE\n",
    "flattened[\"max_sequence_length\"] = max_sequence_length\n",
    "flattened[\"embedding\"] = EMBED_SIZE\n",
    "flattened[\"model_file\"] = MODEL_FILE\n",
    "flattened[\"model_name\"] = MODEL_NAME\n",
    "flattened[\"test_examples\"] = X_test.shape[0]\n",
    "flattened[\"test_features\"] = X_test.shape[1]\n",
    "flattened[\"train_examples\"] = X_train.shape[0]\n",
    "flattened[\"train_features\"] = X_train.shape[1]\n",
    "flattened[\"status\"] = \"success\"\n",
    "flattened[\"status_date\"] = datetime.now().strftime(TIME_FORMAT)\n"
   ],
   "execution_count": 0,
   "outputs": []
  },
  {
   "cell_type": "code",
   "metadata": {
    "colab_type": "code",
    "id": "n_tWTK57JXiv",
    "outputId": "99e40505-88d5-4421-fbc2-2f3b505c682a",
    "colab": {
     "base_uri": "https://localhost:8080/",
     "height": 651
    }
   },
   "source": [
    "# check to see if report file exisits, if so load it and append\n",
    "print(f'Loading {REPORT_FILE}')\n",
    "exists = os.path.isfile(REPORT_FILE)\n",
    "if exists:\n",
    "    report_df = pd.read_csv(REPORT_FILE)\n",
    "else:\n",
    "    report_df = pd.DataFrame()\n",
    "    \n",
    "report_df = report_df.append(flattened, ignore_index=True)\n",
    "report_df.head(20)"
   ],
   "execution_count": 22,
   "outputs": [
    {
     "output_type": "stream",
     "text": [
      "Loading drive/My Drive/Springboard/capstone/reports/2019-07-26-dl_protype-report.csv\n"
     ],
     "name": "stdout"
    },
    {
     "output_type": "execute_result",
     "data": {
      "text/html": [
       "<div>\n",
       "<style scoped>\n",
       "    .dataframe tbody tr th:only-of-type {\n",
       "        vertical-align: middle;\n",
       "    }\n",
       "\n",
       "    .dataframe tbody tr th {\n",
       "        vertical-align: top;\n",
       "    }\n",
       "\n",
       "    .dataframe thead th {\n",
       "        text-align: right;\n",
       "    }\n",
       "</style>\n",
       "<table border=\"1\" class=\"dataframe\">\n",
       "  <thead>\n",
       "    <tr style=\"text-align: right;\">\n",
       "      <th></th>\n",
       "      <th>1_f1-score</th>\n",
       "      <th>1_precision</th>\n",
       "      <th>1_recall</th>\n",
       "      <th>1_support</th>\n",
       "      <th>2_f1-score</th>\n",
       "      <th>2_precision</th>\n",
       "      <th>2_recall</th>\n",
       "      <th>2_support</th>\n",
       "      <th>3_f1-score</th>\n",
       "      <th>3_precision</th>\n",
       "      <th>3_recall</th>\n",
       "      <th>3_support</th>\n",
       "      <th>4_f1-score</th>\n",
       "      <th>4_precision</th>\n",
       "      <th>4_recall</th>\n",
       "      <th>4_support</th>\n",
       "      <th>5_f1-score</th>\n",
       "      <th>5_precision</th>\n",
       "      <th>5_recall</th>\n",
       "      <th>5_support</th>\n",
       "      <th>accuracy</th>\n",
       "      <th>auc_1</th>\n",
       "      <th>auc_2</th>\n",
       "      <th>auc_3</th>\n",
       "      <th>auc_4</th>\n",
       "      <th>auc_5</th>\n",
       "      <th>auc_macro</th>\n",
       "      <th>auc_micro</th>\n",
       "      <th>confusion_matrix</th>\n",
       "      <th>description</th>\n",
       "      <th>embedding</th>\n",
       "      <th>file</th>\n",
       "      <th>fpr</th>\n",
       "      <th>loss</th>\n",
       "      <th>macro avg_f1-score</th>\n",
       "      <th>macro avg_precision</th>\n",
       "      <th>macro avg_recall</th>\n",
       "      <th>macro avg_support</th>\n",
       "      <th>max_sequence_length</th>\n",
       "      <th>model_file</th>\n",
       "      <th>model_name</th>\n",
       "      <th>network_history_file</th>\n",
       "      <th>status</th>\n",
       "      <th>status_date</th>\n",
       "      <th>test_examples</th>\n",
       "      <th>test_features</th>\n",
       "      <th>tokenizer_file</th>\n",
       "      <th>tpr</th>\n",
       "      <th>train_examples</th>\n",
       "      <th>train_features</th>\n",
       "      <th>weighted avg_f1-score</th>\n",
       "      <th>weighted avg_precision</th>\n",
       "      <th>weighted avg_recall</th>\n",
       "      <th>weighted avg_support</th>\n",
       "    </tr>\n",
       "  </thead>\n",
       "  <tbody>\n",
       "    <tr>\n",
       "      <th>0</th>\n",
       "      <td>0.722462</td>\n",
       "      <td>0.672088</td>\n",
       "      <td>0.780998</td>\n",
       "      <td>3968</td>\n",
       "      <td>0.137840</td>\n",
       "      <td>0.385749</td>\n",
       "      <td>0.083912</td>\n",
       "      <td>1871</td>\n",
       "      <td>0.265193</td>\n",
       "      <td>0.338235</td>\n",
       "      <td>0.218096</td>\n",
       "      <td>2531</td>\n",
       "      <td>0.325658</td>\n",
       "      <td>0.411708</td>\n",
       "      <td>0.269360</td>\n",
       "      <td>4752</td>\n",
       "      <td>0.839564</td>\n",
       "      <td>0.762218</td>\n",
       "      <td>0.934381</td>\n",
       "      <td>14889</td>\n",
       "      <td>0.678305</td>\n",
       "      <td>0.955639</td>\n",
       "      <td>0.867413</td>\n",
       "      <td>0.828632</td>\n",
       "      <td>0.750316</td>\n",
       "      <td>0.893508</td>\n",
       "      <td>0.859122</td>\n",
       "      <td>0.912822</td>\n",
       "      <td>[[ 3099   132   359    98   280]\\n [  777   15...</td>\n",
       "      <td>amazon_reviews_us_Wireless_v1_00-preprocessed-...</td>\n",
       "      <td>300</td>\n",
       "      <td>drive/My Drive/Springboard/capstone/data/amazo...</td>\n",
       "      <td>{0: array([0.        , 0.        , 0.        ,...</td>\n",
       "      <td>0.831876</td>\n",
       "      <td>0.458144</td>\n",
       "      <td>0.514000</td>\n",
       "      <td>0.457349</td>\n",
       "      <td>28011</td>\n",
       "      <td>186</td>\n",
       "      <td>drive/My Drive/Springboard/capstone/models/201...</td>\n",
       "      <td>GRU_bi2layer_attention</td>\n",
       "      <td>drive/My Drive/Springboard/capstone/models/201...</td>\n",
       "      <td>success</td>\n",
       "      <td>7/26/19 3:29</td>\n",
       "      <td>28011</td>\n",
       "      <td>186</td>\n",
       "      <td>drive/My Drive/Springboard/capstone/models/dl-...</td>\n",
       "      <td>{0: array([0.00000000e+00, 2.52016129e-04, 6.5...</td>\n",
       "      <td>84032</td>\n",
       "      <td>186</td>\n",
       "      <td>0.637022</td>\n",
       "      <td>0.626531</td>\n",
       "      <td>0.678305</td>\n",
       "      <td>28011</td>\n",
       "    </tr>\n",
       "    <tr>\n",
       "      <th>1</th>\n",
       "      <td>0.699892</td>\n",
       "      <td>0.668502</td>\n",
       "      <td>0.734375</td>\n",
       "      <td>3968</td>\n",
       "      <td>0.208247</td>\n",
       "      <td>0.291627</td>\n",
       "      <td>0.161945</td>\n",
       "      <td>1871</td>\n",
       "      <td>0.309842</td>\n",
       "      <td>0.317823</td>\n",
       "      <td>0.302252</td>\n",
       "      <td>2531</td>\n",
       "      <td>0.349922</td>\n",
       "      <td>0.409360</td>\n",
       "      <td>0.305556</td>\n",
       "      <td>4752</td>\n",
       "      <td>0.826930</td>\n",
       "      <td>0.783000</td>\n",
       "      <td>0.876083</td>\n",
       "      <td>14889</td>\n",
       "      <td>0.659669</td>\n",
       "      <td>0.944717</td>\n",
       "      <td>0.847903</td>\n",
       "      <td>0.809665</td>\n",
       "      <td>0.731212</td>\n",
       "      <td>0.872641</td>\n",
       "      <td>0.841251</td>\n",
       "      <td>0.899640</td>\n",
       "      <td>[[ 2914   352   369    86   247]\\n [  721   30...</td>\n",
       "      <td>amazon_reviews_us_Wireless_v1_00-preprocessed-...</td>\n",
       "      <td>300</td>\n",
       "      <td>drive/My Drive/Springboard/capstone/data/amazo...</td>\n",
       "      <td>{0: array([0.       , 0.       , 0.       , .....</td>\n",
       "      <td>1.011368</td>\n",
       "      <td>0.478967</td>\n",
       "      <td>0.494062</td>\n",
       "      <td>0.476042</td>\n",
       "      <td>28011</td>\n",
       "      <td>186</td>\n",
       "      <td>drive/My Drive/Springboard/capstone/models/201...</td>\n",
       "      <td>CNN_3layer_with_pooling_early_stop</td>\n",
       "      <td>drive/My Drive/Springboard/capstone/models/201...</td>\n",
       "      <td>success</td>\n",
       "      <td>7/25/19 18:13</td>\n",
       "      <td>28011</td>\n",
       "      <td>186</td>\n",
       "      <td>drive/My Drive/Springboard/capstone/models/201...</td>\n",
       "      <td>{0: array([0.00000000e+00, 2.52016129e-04, 2.2...</td>\n",
       "      <td>84032</td>\n",
       "      <td>186</td>\n",
       "      <td>0.639963</td>\n",
       "      <td>0.628540</td>\n",
       "      <td>0.659669</td>\n",
       "      <td>28011</td>\n",
       "    </tr>\n",
       "    <tr>\n",
       "      <th>2</th>\n",
       "      <td>0.585552</td>\n",
       "      <td>0.613875</td>\n",
       "      <td>0.559728</td>\n",
       "      <td>3968</td>\n",
       "      <td>0.237802</td>\n",
       "      <td>0.228868</td>\n",
       "      <td>0.247461</td>\n",
       "      <td>1871</td>\n",
       "      <td>0.260959</td>\n",
       "      <td>0.272337</td>\n",
       "      <td>0.250494</td>\n",
       "      <td>2531</td>\n",
       "      <td>0.316089</td>\n",
       "      <td>0.344682</td>\n",
       "      <td>0.291877</td>\n",
       "      <td>4752</td>\n",
       "      <td>0.780017</td>\n",
       "      <td>0.752528</td>\n",
       "      <td>0.809591</td>\n",
       "      <td>14889</td>\n",
       "      <td>0.598301</td>\n",
       "      <td>0.859891</td>\n",
       "      <td>0.741051</td>\n",
       "      <td>0.701313</td>\n",
       "      <td>0.653234</td>\n",
       "      <td>0.813515</td>\n",
       "      <td>0.753827</td>\n",
       "      <td>0.827750</td>\n",
       "      <td>[[ 2221   734   346   122   545]\\n [  534   46...</td>\n",
       "      <td>amazon_reviews_us_Wireless_v1_00-preprocessed-...</td>\n",
       "      <td>300</td>\n",
       "      <td>drive/My Drive/Springboard/capstone/data/amazo...</td>\n",
       "      <td>{0: array([0.        , 0.00141413, 0.00191324,...</td>\n",
       "      <td>2.646713</td>\n",
       "      <td>0.436084</td>\n",
       "      <td>0.442458</td>\n",
       "      <td>0.431830</td>\n",
       "      <td>28011</td>\n",
       "      <td>186</td>\n",
       "      <td>drive/My Drive/Springboard/capstone/models/201...</td>\n",
       "      <td>CNN_3layer_with_pooling_15_epoch</td>\n",
       "      <td>drive/My Drive/Springboard/capstone/models/201...</td>\n",
       "      <td>success</td>\n",
       "      <td>7/25/19 19:46</td>\n",
       "      <td>28011</td>\n",
       "      <td>186</td>\n",
       "      <td>drive/My Drive/Springboard/capstone/models/201...</td>\n",
       "      <td>{0: array([0.        , 0.08341734, 0.09299395,...</td>\n",
       "      <td>84032</td>\n",
       "      <td>186</td>\n",
       "      <td>0.590647</td>\n",
       "      <td>0.585330</td>\n",
       "      <td>0.598301</td>\n",
       "      <td>28011</td>\n",
       "    </tr>\n",
       "    <tr>\n",
       "      <th>3</th>\n",
       "      <td>0.699142</td>\n",
       "      <td>0.647615</td>\n",
       "      <td>0.759577</td>\n",
       "      <td>3968</td>\n",
       "      <td>0.217936</td>\n",
       "      <td>0.273387</td>\n",
       "      <td>0.181187</td>\n",
       "      <td>1871</td>\n",
       "      <td>0.288655</td>\n",
       "      <td>0.332817</td>\n",
       "      <td>0.254840</td>\n",
       "      <td>2531</td>\n",
       "      <td>0.313079</td>\n",
       "      <td>0.403183</td>\n",
       "      <td>0.255892</td>\n",
       "      <td>4752</td>\n",
       "      <td>0.826345</td>\n",
       "      <td>0.771602</td>\n",
       "      <td>0.889449</td>\n",
       "      <td>14889</td>\n",
       "      <td>0.658920</td>\n",
       "      <td>0.941683</td>\n",
       "      <td>0.843724</td>\n",
       "      <td>0.806022</td>\n",
       "      <td>0.726704</td>\n",
       "      <td>0.871740</td>\n",
       "      <td>0.837998</td>\n",
       "      <td>0.899241</td>\n",
       "      <td>[[ 3014   371   230    81   272]\\n [  805   33...</td>\n",
       "      <td>amazon_reviews_us_Wireless_v1_00-preprocessed-...</td>\n",
       "      <td>32</td>\n",
       "      <td>drive/My Drive/Springboard/capstone/data/amazo...</td>\n",
       "      <td>{0: array([0.        , 0.        , 0.        ,...</td>\n",
       "      <td>0.994809</td>\n",
       "      <td>0.469031</td>\n",
       "      <td>0.485721</td>\n",
       "      <td>0.468189</td>\n",
       "      <td>28011</td>\n",
       "      <td>186</td>\n",
       "      <td>drive/My Drive/Springboard/capstone/models/201...</td>\n",
       "      <td>CNN_1layerEmbedding32</td>\n",
       "      <td>drive/My Drive/Springboard/capstone/models/201...</td>\n",
       "      <td>success</td>\n",
       "      <td>7/24/19 5:28</td>\n",
       "      <td>28011</td>\n",
       "      <td>186</td>\n",
       "      <td>drive/My Drive/Springboard/capstone/models/201...</td>\n",
       "      <td>{0: array([0.00000000e+00, 2.52016129e-04, 7.5...</td>\n",
       "      <td>84032</td>\n",
       "      <td>186</td>\n",
       "      <td>0.632028</td>\n",
       "      <td>0.618611</td>\n",
       "      <td>0.658920</td>\n",
       "      <td>28011</td>\n",
       "    </tr>\n",
       "    <tr>\n",
       "      <th>4</th>\n",
       "      <td>0.696838</td>\n",
       "      <td>0.668597</td>\n",
       "      <td>0.727571</td>\n",
       "      <td>3968</td>\n",
       "      <td>0.197038</td>\n",
       "      <td>0.277132</td>\n",
       "      <td>0.152859</td>\n",
       "      <td>1871</td>\n",
       "      <td>0.324192</td>\n",
       "      <td>0.308987</td>\n",
       "      <td>0.340972</td>\n",
       "      <td>2531</td>\n",
       "      <td>0.350047</td>\n",
       "      <td>0.392521</td>\n",
       "      <td>0.315867</td>\n",
       "      <td>4752</td>\n",
       "      <td>0.814664</td>\n",
       "      <td>0.785340</td>\n",
       "      <td>0.846262</td>\n",
       "      <td>14889</td>\n",
       "      <td>0.647496</td>\n",
       "      <td>0.947877</td>\n",
       "      <td>0.851681</td>\n",
       "      <td>0.808577</td>\n",
       "      <td>0.728379</td>\n",
       "      <td>0.871871</td>\n",
       "      <td>0.841699</td>\n",
       "      <td>0.898781</td>\n",
       "      <td>[[ 2887   355   413    73   240]\\n [  725   28...</td>\n",
       "      <td>amazon_reviews_us_Wireless_v1_00-preprocessed-...</td>\n",
       "      <td>300</td>\n",
       "      <td>drive/My Drive/Springboard/capstone/data/amazo...</td>\n",
       "      <td>{0: array([0.        , 0.        , 0.        ,...</td>\n",
       "      <td>0.964895</td>\n",
       "      <td>0.476556</td>\n",
       "      <td>0.486515</td>\n",
       "      <td>0.476706</td>\n",
       "      <td>28011</td>\n",
       "      <td>186</td>\n",
       "      <td>2019-07-24-amazon_reviews_us_Wireless_v1_00-pr...</td>\n",
       "      <td>CNN_1layerEmbedding300</td>\n",
       "      <td>2019-07-24-amazon_reviews_us_Wireless_v1_00-pr...</td>\n",
       "      <td>success</td>\n",
       "      <td>7/24/19 5:30</td>\n",
       "      <td>28011</td>\n",
       "      <td>186</td>\n",
       "      <td>2019-07-24-amazon_reviews_us_Wireless_v1_00-pr...</td>\n",
       "      <td>{0: array([0.00000000e+00, 2.52016129e-04, 8.5...</td>\n",
       "      <td>84032</td>\n",
       "      <td>186</td>\n",
       "      <td>0.633579</td>\n",
       "      <td>0.625174</td>\n",
       "      <td>0.647496</td>\n",
       "      <td>28011</td>\n",
       "    </tr>\n",
       "    <tr>\n",
       "      <th>5</th>\n",
       "      <td>0.713225</td>\n",
       "      <td>0.660791</td>\n",
       "      <td>0.774698</td>\n",
       "      <td>3968</td>\n",
       "      <td>0.169296</td>\n",
       "      <td>0.302198</td>\n",
       "      <td>0.117584</td>\n",
       "      <td>1871</td>\n",
       "      <td>0.308936</td>\n",
       "      <td>0.345552</td>\n",
       "      <td>0.279336</td>\n",
       "      <td>2531</td>\n",
       "      <td>0.303829</td>\n",
       "      <td>0.436686</td>\n",
       "      <td>0.232955</td>\n",
       "      <td>4752</td>\n",
       "      <td>0.831112</td>\n",
       "      <td>0.758338</td>\n",
       "      <td>0.919336</td>\n",
       "      <td>14889</td>\n",
       "      <td>0.671022</td>\n",
       "      <td>0.948909</td>\n",
       "      <td>0.853113</td>\n",
       "      <td>0.813873</td>\n",
       "      <td>0.740059</td>\n",
       "      <td>0.877310</td>\n",
       "      <td>0.846676</td>\n",
       "      <td>0.906195</td>\n",
       "      <td>[[ 3074   203   268    52   371]\\n [  845   22...</td>\n",
       "      <td>amazon_reviews_us_Wireless_v1_00-preprocessed-...</td>\n",
       "      <td>300</td>\n",
       "      <td>drive/My Drive/Springboard/capstone/data/amazo...</td>\n",
       "      <td>{0: array([0.        , 0.        , 0.        ,...</td>\n",
       "      <td>0.922682</td>\n",
       "      <td>0.465280</td>\n",
       "      <td>0.500713</td>\n",
       "      <td>0.464782</td>\n",
       "      <td>28011</td>\n",
       "      <td>186</td>\n",
       "      <td>drive/My Drive/Springboard/capstone/models/201...</td>\n",
       "      <td>CNN_2layer</td>\n",
       "      <td>drive/My Drive/Springboard/capstone/models/201...</td>\n",
       "      <td>success</td>\n",
       "      <td>7/24/19 15:35</td>\n",
       "      <td>28011</td>\n",
       "      <td>186</td>\n",
       "      <td>drive/My Drive/Springboard/capstone/models/201...</td>\n",
       "      <td>{0: array([0.00000000e+00, 2.52016129e-04, 2.5...</td>\n",
       "      <td>84032</td>\n",
       "      <td>186</td>\n",
       "      <td>0.633571</td>\n",
       "      <td>0.622186</td>\n",
       "      <td>0.671022</td>\n",
       "      <td>28011</td>\n",
       "    </tr>\n",
       "    <tr>\n",
       "      <th>6</th>\n",
       "      <td>0.697318</td>\n",
       "      <td>0.684211</td>\n",
       "      <td>0.710938</td>\n",
       "      <td>3968</td>\n",
       "      <td>0.250698</td>\n",
       "      <td>0.298817</td>\n",
       "      <td>0.215927</td>\n",
       "      <td>1871</td>\n",
       "      <td>0.324250</td>\n",
       "      <td>0.324122</td>\n",
       "      <td>0.324378</td>\n",
       "      <td>2531</td>\n",
       "      <td>0.359692</td>\n",
       "      <td>0.403454</td>\n",
       "      <td>0.324495</td>\n",
       "      <td>4752</td>\n",
       "      <td>0.823560</td>\n",
       "      <td>0.790680</td>\n",
       "      <td>0.859292</td>\n",
       "      <td>14889</td>\n",
       "      <td>0.671022</td>\n",
       "      <td>0.942648</td>\n",
       "      <td>0.849668</td>\n",
       "      <td>0.808197</td>\n",
       "      <td>0.737883</td>\n",
       "      <td>0.875173</td>\n",
       "      <td>0.842738</td>\n",
       "      <td>0.898059</td>\n",
       "      <td>[[ 2821   477   357    83   230]\\n [  672   40...</td>\n",
       "      <td>amazon_reviews_us_Wireless_v1_00-preprocessed-...</td>\n",
       "      <td>300</td>\n",
       "      <td>drive/My Drive/Springboard/capstone/data/amazo...</td>\n",
       "      <td>{0: array([0.        , 0.        , 0.        ,...</td>\n",
       "      <td>0.922682</td>\n",
       "      <td>0.491104</td>\n",
       "      <td>0.500257</td>\n",
       "      <td>0.487006</td>\n",
       "      <td>28011</td>\n",
       "      <td>186</td>\n",
       "      <td>drive/My Drive/Springboard/capstone/models/201...</td>\n",
       "      <td>CNN_3layer</td>\n",
       "      <td>drive/My Drive/Springboard/capstone/models/201...</td>\n",
       "      <td>success</td>\n",
       "      <td>7/24/19 16:07</td>\n",
       "      <td>28011</td>\n",
       "      <td>186</td>\n",
       "      <td>drive/My Drive/Springboard/capstone/models/201...</td>\n",
       "      <td>{0: array([0.00000000e+00, 2.52016129e-04, 3.7...</td>\n",
       "      <td>84032</td>\n",
       "      <td>186</td>\n",
       "      <td>0.643602</td>\n",
       "      <td>0.634895</td>\n",
       "      <td>0.656242</td>\n",
       "      <td>28011</td>\n",
       "    </tr>\n",
       "    <tr>\n",
       "      <th>7</th>\n",
       "      <td>0.710614</td>\n",
       "      <td>0.649948</td>\n",
       "      <td>0.783770</td>\n",
       "      <td>3968</td>\n",
       "      <td>0.150563</td>\n",
       "      <td>0.274788</td>\n",
       "      <td>0.103688</td>\n",
       "      <td>1871</td>\n",
       "      <td>0.288155</td>\n",
       "      <td>0.346667</td>\n",
       "      <td>0.246543</td>\n",
       "      <td>2531</td>\n",
       "      <td>0.346005</td>\n",
       "      <td>0.424335</td>\n",
       "      <td>0.292088</td>\n",
       "      <td>4752</td>\n",
       "      <td>0.829921</td>\n",
       "      <td>0.769041</td>\n",
       "      <td>0.901269</td>\n",
       "      <td>14889</td>\n",
       "      <td>0.668844</td>\n",
       "      <td>0.948884</td>\n",
       "      <td>0.855739</td>\n",
       "      <td>0.818787</td>\n",
       "      <td>0.740204</td>\n",
       "      <td>0.878942</td>\n",
       "      <td>0.848532</td>\n",
       "      <td>0.906253</td>\n",
       "      <td>[[ 3110   206   255    95   302]\\n [  836   19...</td>\n",
       "      <td>amazon_reviews_us_Wireless_v1_00-preprocessed-...</td>\n",
       "      <td>300</td>\n",
       "      <td>drive/My Drive/Springboard/capstone/data/amazo...</td>\n",
       "      <td>{0: array([0.        , 0.        , 0.        ,...</td>\n",
       "      <td>0.919215</td>\n",
       "      <td>0.465052</td>\n",
       "      <td>0.492956</td>\n",
       "      <td>0.465472</td>\n",
       "      <td>28011</td>\n",
       "      <td>186</td>\n",
       "      <td>drive/My Drive/Springboard/capstone/models/201...</td>\n",
       "      <td>GRU_1layer</td>\n",
       "      <td>drive/My Drive/Springboard/capstone/models/201...</td>\n",
       "      <td>success</td>\n",
       "      <td>7/25/19 4:08</td>\n",
       "      <td>28011</td>\n",
       "      <td>186</td>\n",
       "      <td>drive/My Drive/Springboard/capstone/models/201...</td>\n",
       "      <td>{0: array([0.00000000e+00, 2.52016129e-04, 1.0...</td>\n",
       "      <td>84032</td>\n",
       "      <td>186</td>\n",
       "      <td>0.636595</td>\n",
       "      <td>0.622514</td>\n",
       "      <td>0.668844</td>\n",
       "      <td>28011</td>\n",
       "    </tr>\n",
       "    <tr>\n",
       "      <th>8</th>\n",
       "      <td>0.722462</td>\n",
       "      <td>0.672088</td>\n",
       "      <td>0.780998</td>\n",
       "      <td>3968</td>\n",
       "      <td>0.137840</td>\n",
       "      <td>0.385749</td>\n",
       "      <td>0.083912</td>\n",
       "      <td>1871</td>\n",
       "      <td>0.265193</td>\n",
       "      <td>0.338235</td>\n",
       "      <td>0.218096</td>\n",
       "      <td>2531</td>\n",
       "      <td>0.325658</td>\n",
       "      <td>0.411708</td>\n",
       "      <td>0.269360</td>\n",
       "      <td>4752</td>\n",
       "      <td>0.839564</td>\n",
       "      <td>0.762218</td>\n",
       "      <td>0.934381</td>\n",
       "      <td>14889</td>\n",
       "      <td>0.678305</td>\n",
       "      <td>0.955639</td>\n",
       "      <td>0.867413</td>\n",
       "      <td>0.828632</td>\n",
       "      <td>0.750316</td>\n",
       "      <td>0.893508</td>\n",
       "      <td>0.859122</td>\n",
       "      <td>0.912822</td>\n",
       "      <td>[[ 3099   132   359    98   280]\\n [  777   15...</td>\n",
       "      <td>amazon_reviews_us_Wireless_v1_00-preprocessed-...</td>\n",
       "      <td>300</td>\n",
       "      <td>drive/My Drive/Springboard/capstone/data/amazo...</td>\n",
       "      <td>{0: array([0.        , 0.        , 0.        ,...</td>\n",
       "      <td>0.831876</td>\n",
       "      <td>0.458144</td>\n",
       "      <td>0.514000</td>\n",
       "      <td>0.457349</td>\n",
       "      <td>28011</td>\n",
       "      <td>186</td>\n",
       "      <td>drive/My Drive/Springboard/capstone/models/201...</td>\n",
       "      <td>GRU_2layer_attention</td>\n",
       "      <td>drive/My Drive/Springboard/capstone/models/201...</td>\n",
       "      <td>success</td>\n",
       "      <td>2019-07-26 03:29:48</td>\n",
       "      <td>28011</td>\n",
       "      <td>186</td>\n",
       "      <td>drive/My Drive/Springboard/capstone/models/dl-...</td>\n",
       "      <td>{0: array([0.00000000e+00, 2.52016129e-04, 6.5...</td>\n",
       "      <td>84032</td>\n",
       "      <td>186</td>\n",
       "      <td>0.637022</td>\n",
       "      <td>0.626531</td>\n",
       "      <td>0.678305</td>\n",
       "      <td>28011</td>\n",
       "    </tr>\n",
       "    <tr>\n",
       "      <th>9</th>\n",
       "      <td>0.712649</td>\n",
       "      <td>0.670593</td>\n",
       "      <td>0.760333</td>\n",
       "      <td>3968</td>\n",
       "      <td>0.206433</td>\n",
       "      <td>0.304802</td>\n",
       "      <td>0.156066</td>\n",
       "      <td>1871</td>\n",
       "      <td>0.348639</td>\n",
       "      <td>0.358846</td>\n",
       "      <td>0.338996</td>\n",
       "      <td>2531</td>\n",
       "      <td>0.301807</td>\n",
       "      <td>0.458405</td>\n",
       "      <td>0.224958</td>\n",
       "      <td>4752</td>\n",
       "      <td>0.839548</td>\n",
       "      <td>0.770288</td>\n",
       "      <td>0.922493</td>\n",
       "      <td>14889</td>\n",
       "      <td>0.677270</td>\n",
       "      <td>0.953787</td>\n",
       "      <td>0.862784</td>\n",
       "      <td>0.833407</td>\n",
       "      <td>0.754537</td>\n",
       "      <td>0.892991</td>\n",
       "      <td>0.859522</td>\n",
       "      <td>0.912754</td>\n",
       "      <td>[[3017, 310, 278, 45, 318], [762, 292, 450, 11...</td>\n",
       "      <td>amazon_reviews_us_Wireless_v1_00-preprocessed-...</td>\n",
       "      <td>300</td>\n",
       "      <td>drive/My Drive/Springboard/capstone/data/amazo...</td>\n",
       "      <td>{0: [0.0, 0.0, 0.0, 4.159214740257039e-05, 4.1...</td>\n",
       "      <td>0.835059</td>\n",
       "      <td>0.481815</td>\n",
       "      <td>0.512587</td>\n",
       "      <td>0.480569</td>\n",
       "      <td>28011</td>\n",
       "      <td>186</td>\n",
       "      <td>drive/My Drive/Springboard/capstone/models/201...</td>\n",
       "      <td>GRU_bi1layer_attention</td>\n",
       "      <td>drive/My Drive/Springboard/capstone/models/201...</td>\n",
       "      <td>success</td>\n",
       "      <td>2019-07-26 04:38:33</td>\n",
       "      <td>28011</td>\n",
       "      <td>186</td>\n",
       "      <td>drive/My Drive/Springboard/capstone/models/dl-...</td>\n",
       "      <td>{0: [0.0, 0.00025201612903225806, 0.0075604838...</td>\n",
       "      <td>84032</td>\n",
       "      <td>186</td>\n",
       "      <td>0.643699</td>\n",
       "      <td>0.634986</td>\n",
       "      <td>0.677270</td>\n",
       "      <td>28011</td>\n",
       "    </tr>\n",
       "  </tbody>\n",
       "</table>\n",
       "</div>"
      ],
      "text/plain": [
       "   1_f1-score  1_precision  ...  weighted avg_recall  weighted avg_support\n",
       "0    0.722462     0.672088  ...             0.678305                 28011\n",
       "1    0.699892     0.668502  ...             0.659669                 28011\n",
       "2    0.585552     0.613875  ...             0.598301                 28011\n",
       "3    0.699142     0.647615  ...             0.658920                 28011\n",
       "4    0.696838     0.668597  ...             0.647496                 28011\n",
       "5    0.713225     0.660791  ...             0.671022                 28011\n",
       "6    0.697318     0.684211  ...             0.656242                 28011\n",
       "7    0.710614     0.649948  ...             0.668844                 28011\n",
       "8    0.722462     0.672088  ...             0.678305                 28011\n",
       "9    0.712649     0.670593  ...             0.677270                 28011\n",
       "\n",
       "[10 rows x 54 columns]"
      ]
     },
     "metadata": {
      "tags": []
     },
     "execution_count": 22
    }
   ]
  },
  {
   "cell_type": "code",
   "metadata": {
    "colab_type": "code",
    "id": "w0FY2QZvJXiw",
    "colab": {}
   },
   "source": [
    "report_df.to_csv(REPORT_FILE, index=False)"
   ],
   "execution_count": 0,
   "outputs": []
  }
 ]
}