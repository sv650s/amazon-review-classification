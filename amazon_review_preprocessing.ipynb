{
 "cells": [
  {
   "cell_type": "markdown",
   "metadata": {},
   "source": [
    "# This notebook outlines pre-processing of Amazong Reviews\n",
    "\n",
    "Most of the work is done in clases that I wrote, but I'll outline what I did for pre-processing in this notebook. Running pre-processing in the notebook took a lot longer so running it via command line seems to be quicker so I can iterate\n",
    "\n",
    "Add code is checked into my github repo: https://github.com/sv650s/sb-capstone\n",
    "\n",
    "\n",
    "* preprocess_amazon.py - python program that calls TextProcessor with parameters set to handle the amazon review file\n",
    "* TextProcessor.py - processor class that uses various utilities to pre-process the file\n",
    "* text_util.py - has a bunch of text processing methods to clean the data\n",
    "* file_util.py - functiont to handle files (ie, covert tsv to csv)\n",
    "* df_util.py - utility to handle pandas DataFrames\n",
    "\n",
    "\n",
    "Unit Tests:\n",
    "* TestTextUtil.py - tests text_util.py\n",
    "\n",
    "To Be Implemented:\n",
    "* unit tests for file_util.py\n",
    "* unit tests for pd_util.py\n"
   ]
  },
  {
   "cell_type": "markdown",
   "metadata": {},
   "source": [
    "## Before we pre-process, I had to convert tsv to CSV because Pandas was not reading the columns correctly and was putting multiple rows into a column resulting in headline columns that had over 30k words\n",
    "\n",
    "Original Amazon file had 9mil reviews. I added sampling parameter to reduce the size of the file. Currently, the sampling is pretty dumb. It just grabs every nth line in the file and put it in the final csv file. Will probably rewrite this so it's based on random.rand later\n",
    "\n",
    "I already ran this via command line because it was faster. So the commented out lines are how we would generate the other sizes."
   ]
  },
  {
   "cell_type": "code",
   "execution_count": 1,
   "metadata": {},
   "outputs": [],
   "source": [
    "from file_util import convert_tsv_to_csv\n",
    "\n",
    "# only need to run this one time\n",
    "CONVERT_FILE=False\n",
    "\n",
    "# full 9mil Wireless reviews - not enough memory locally to do this\n",
    "ORIG_FILE_WIRELESS=\"dataset/amazon_reviews/amazon_reviews_us_Wireless_v1_00.tsv\"\n",
    "\n",
    "# about 22k reviews\n",
    "DATA_FILE_TEST = \"dataset/amazon_reviews/amazon_reviews_us_Wireless_v1_00-test.csv\"\n",
    "# about 100023 reviews\n",
    "DATA_FILE_TINY = \"dataset/amazon_reviews/amazon_reviews_us_Wireless_v1_00-tiny.csv\"\n",
    "# about 300068 reviews\n",
    "DATA_FILE_SMALL = \"dataset/amazon_reviews/amazon_reviews_us_Wireless_v1_00-small.csv\"\n",
    "# about 450101 reviews\n",
    "DATA_FILE_MEDIUM = \"dataset/amazon_reviews/amazon_reviews_us_Wireless_v1_00-medium.csv\"\n",
    "# about 900203 reviews\n",
    "DATA_FILE_LARGE = \"dataset/amazon_reviews/amazon_reviews_us_Wireless_v1_00-large.csv\"\n",
    "\n",
    "# already ran this\n",
    "if CONVERT_FILE:\n",
    "    convert_tsv_to_csv(ORIG_FILE_WIRELESS, DATA_FILE_TEST, 400)\n",
    "    # convert_tsv_to_csv(ORIG_FILE_WIRELESS, DATA_FILE_TINY, 90)\n",
    "    # convert_tsv_to_csv(ORIG_FILE_WIRELESS, DATA_FILE_SMALL, 25)\n",
    "    # convert_tsv_to_csv(ORIG_FILE_WIRELESS, DATA_FILE_MEDIUM, 20)\n",
    "    # convert_tsv_to_csv(ORIG_FILE_WIRELESS, DATA_FILE_LARGE, 10)\n"
   ]
  },
  {
   "cell_type": "markdown",
   "metadata": {},
   "source": [
    "## sample run and output of preprocess_amazon.py\n",
    "\n",
    "I'm using a file that has only 25k entires so I can run it in the notebook quickly\n",
    "\n",
    "Notice final output is 19889 because after steming and removing stop words some of the review headlines are now blank\n",
    "\n",
    "Pre-processing entails the following (in order):\n",
    "* make everything lowercase\n",
    "* remove newlines\n",
    "* remove amazon tags - amazon embeds these [[VIDDEO:dsfljlsjf]] and [[ASIN:sdfjlsjdfl]] tags that need to be removed\n",
    "* remove html tags - line breaks, etc are represented in reviews as HTML tags\n",
    "* remove accent characters\n",
    "* expand contractions - expands contractions like he's but needs to be done before special charaters because we want to expand don't into do not for our text processing\n",
    "* remove special characters - anything that is not alphanumeric or spaces\n",
    "* remove stop words - see text_util.py for stop words that I removed from nltk stop words because I think they will be important for sentiment analysis\n",
    "* stem or lemmatize words - ONLY Porter stemming is implemented currently (THIS IS TURNED OFF)\n",
    "\n",
    "Columns that it drops right off the bat: marketplace, vine, verified_purchase\n",
    "Columns that it is pre-processing: product_title, review_headline, review_body\n",
    "\n",
    "Also, for convenience, there is a flag to retain the original column so we can see the orignal text next to the pre-processed text so we can look for errors. Will not be using this flag for final data files\n",
    "\n",
    "\n",
    "Here is the list of default stop words from nltk:\n",
    "\n",
    "\n",
    "['i', 'me', 'my', 'myself', 'we', 'our', 'ours', 'ourselves', 'you', \"you're\", \"you've\", \"you'll\", \"you'd\", 'your', 'yours', 'yourself', 'yourselves', 'he', 'him', 'his', 'himself', 'she', \"she's\", 'her', 'hers', 'herself', 'it', \"it's\", 'its', 'itself', 'they', 'them', 'their', 'theirs', 'themselves', 'what', 'which', 'who', 'whom', 'this', 'that', \"that'll\", 'these', 'those', 'am', 'is', 'are', 'was', 'were', 'be', 'been', 'being', 'have', 'has', 'had', 'having', 'do', 'does', 'did', 'doing', 'a', 'an', 'the', 'and', 'but', 'if', 'or', 'because', 'as', 'until', 'while', 'of', 'at', 'by', 'for', 'with', 'about', 'against', 'between', 'into', 'through', 'during', 'before', 'after', 'above', 'below', 'to', 'from', 'up', 'down', 'in', 'out', 'on', 'off', 'over', 'under', 'again', 'further', 'then', 'once', 'here', 'there', 'when', 'where', 'why', 'how', 'all', 'any', 'both', 'each', 'few', 'more', 'most', 'other', 'some', 'such', 'no', 'nor', 'not', 'only', 'own', 'same', 'so', 'than', 'too', 'very', 's', 't', 'can', 'will', 'just', 'don', \"don't\", 'should', \"should've\", 'now', 'd', 'll', 'm', 'o', 're', 've', 'y', 'ain', 'aren', \"aren't\", 'couldn', \"couldn't\", 'didn', \"didn't\", 'doesn', \"doesn't\", 'hadn', \"hadn't\", 'hasn', \"hasn't\", 'haven', \"haven't\", 'isn', \"isn't\", 'ma', 'mightn', \"mightn't\", 'mustn', \"mustn't\", 'needn', \"needn't\", 'shan', \"shan't\", 'shouldn', \"shouldn't\", 'wasn', \"wasn't\", 'weren', \"weren't\", 'won', \"won't\", 'wouldn', \"wouldn't\"]"
   ]
  },
  {
   "cell_type": "code",
   "execution_count": 2,
   "metadata": {},
   "outputs": [
    {
     "name": "stdout",
     "output_type": "stream",
     "text": [
      "Traceback (most recent call last):\r\n",
      "  File \"preprocess_amazon.py\", line 84, in <module>\r\n",
      "    main()\r\n",
      "  File \"preprocess_amazon.py\", line 58, in main\r\n",
      "    logging.setlevel\r\n",
      "AttributeError: module 'logging' has no attribute 'setlevel'\r\n"
     ]
    }
   ],
   "source": [
    "!python preprocess_amazon.py -l INFO -r \\\n",
    "    -o dataset/amazon_reviews/amazon_reviews_us_Wireless_v1_00-testout.csv \\\n",
    "    dataset/amazon_reviews/amazon_reviews_us_Wireless_v1_00-testin.csv\n"
   ]
  },
  {
   "cell_type": "code",
   "execution_count": 3,
   "metadata": {},
   "outputs": [],
   "source": [
    "import pandas as pd\n",
    "\n",
    "PREPROCESSED_CSV = \"dataset/amazon_reviews/amazon_reviews_us_Wireless_v1_00-testout.csv\"\n"
   ]
  },
  {
   "cell_type": "markdown",
   "metadata": {},
   "source": [
    "## Reading the output file back in to look at some data"
   ]
  },
  {
   "cell_type": "code",
   "execution_count": 4,
   "metadata": {},
   "outputs": [
    {
     "name": "stdout",
     "output_type": "stream",
     "text": [
      "<class 'pandas.core.frame.DataFrame'>\n",
      "RangeIndex: 22410 entries, 0 to 22409\n",
      "Data columns (total 15 columns):\n",
      "customer_id             22410 non-null int64\n",
      "review_id               22410 non-null object\n",
      "product_id              22410 non-null object\n",
      "product_parent          22410 non-null int64\n",
      "product_title_orig      22410 non-null object\n",
      "product_title           22410 non-null object\n",
      "product_category        22410 non-null object\n",
      "star_rating             22410 non-null int64\n",
      "helpful_votes           22410 non-null int64\n",
      "total_votes             22410 non-null int64\n",
      "review_headline_orig    22410 non-null object\n",
      "review_headline         22410 non-null object\n",
      "review_body_orig        22410 non-null object\n",
      "review_body             22410 non-null object\n",
      "review_date             22410 non-null datetime64[ns]\n",
      "dtypes: datetime64[ns](1), int64(5), object(9)\n",
      "memory usage: 2.6+ MB\n"
     ]
    }
   ],
   "source": [
    "review_df = pd.read_csv(PREPROCESSED_CSV, parse_dates=[\"review_date\"])\n",
    "review_df.info()"
   ]
  },
  {
   "cell_type": "code",
   "execution_count": 5,
   "metadata": {},
   "outputs": [],
   "source": [
    "# let's sample the dataframe so we can look at some of the data\n",
    "sample_df = review_df.sample(n=10)"
   ]
  },
  {
   "cell_type": "markdown",
   "metadata": {},
   "source": [
    "## Product Title"
   ]
  },
  {
   "cell_type": "code",
   "execution_count": 6,
   "metadata": {},
   "outputs": [
    {
     "data": {
      "text/html": [
       "<div>\n",
       "<style scoped>\n",
       "    .dataframe tbody tr th:only-of-type {\n",
       "        vertical-align: middle;\n",
       "    }\n",
       "\n",
       "    .dataframe tbody tr th {\n",
       "        vertical-align: top;\n",
       "    }\n",
       "\n",
       "    .dataframe thead th {\n",
       "        text-align: right;\n",
       "    }\n",
       "</style>\n",
       "<table border=\"1\" class=\"dataframe\">\n",
       "  <thead>\n",
       "    <tr style=\"text-align: right;\">\n",
       "      <th></th>\n",
       "      <th>product_title_orig_len</th>\n",
       "      <th>product_title_len</th>\n",
       "      <th>product_title_diff</th>\n",
       "      <th>product_title_percent_diff</th>\n",
       "    </tr>\n",
       "  </thead>\n",
       "  <tbody>\n",
       "    <tr>\n",
       "      <th>count</th>\n",
       "      <td>22410.000000</td>\n",
       "      <td>22410.000000</td>\n",
       "      <td>22410.000000</td>\n",
       "      <td>22410.000000</td>\n",
       "    </tr>\n",
       "    <tr>\n",
       "      <th>mean</th>\n",
       "      <td>104.419277</td>\n",
       "      <td>94.322445</td>\n",
       "      <td>-10.096832</td>\n",
       "      <td>-0.088215</td>\n",
       "    </tr>\n",
       "    <tr>\n",
       "      <th>std</th>\n",
       "      <td>61.652263</td>\n",
       "      <td>54.613601</td>\n",
       "      <td>9.132490</td>\n",
       "      <td>0.053863</td>\n",
       "    </tr>\n",
       "    <tr>\n",
       "      <th>min</th>\n",
       "      <td>3.000000</td>\n",
       "      <td>3.000000</td>\n",
       "      <td>-86.000000</td>\n",
       "      <td>-0.470588</td>\n",
       "    </tr>\n",
       "    <tr>\n",
       "      <th>25%</th>\n",
       "      <td>60.000000</td>\n",
       "      <td>55.000000</td>\n",
       "      <td>-14.000000</td>\n",
       "      <td>-0.120879</td>\n",
       "    </tr>\n",
       "    <tr>\n",
       "      <th>50%</th>\n",
       "      <td>90.000000</td>\n",
       "      <td>82.000000</td>\n",
       "      <td>-8.000000</td>\n",
       "      <td>-0.086957</td>\n",
       "    </tr>\n",
       "    <tr>\n",
       "      <th>75%</th>\n",
       "      <td>136.000000</td>\n",
       "      <td>122.000000</td>\n",
       "      <td>-4.000000</td>\n",
       "      <td>-0.053191</td>\n",
       "    </tr>\n",
       "    <tr>\n",
       "      <th>max</th>\n",
       "      <td>400.000000</td>\n",
       "      <td>400.000000</td>\n",
       "      <td>0.000000</td>\n",
       "      <td>0.000000</td>\n",
       "    </tr>\n",
       "  </tbody>\n",
       "</table>\n",
       "</div>"
      ],
      "text/plain": [
       "       product_title_orig_len  product_title_len  product_title_diff  \\\n",
       "count            22410.000000       22410.000000        22410.000000   \n",
       "mean               104.419277          94.322445          -10.096832   \n",
       "std                 61.652263          54.613601            9.132490   \n",
       "min                  3.000000           3.000000          -86.000000   \n",
       "25%                 60.000000          55.000000          -14.000000   \n",
       "50%                 90.000000          82.000000           -8.000000   \n",
       "75%                136.000000         122.000000           -4.000000   \n",
       "max                400.000000         400.000000            0.000000   \n",
       "\n",
       "       product_title_percent_diff  \n",
       "count                22410.000000  \n",
       "mean                    -0.088215  \n",
       "std                      0.053863  \n",
       "min                     -0.470588  \n",
       "25%                     -0.120879  \n",
       "50%                     -0.086957  \n",
       "75%                     -0.053191  \n",
       "max                      0.000000  "
      ]
     },
     "execution_count": 6,
     "metadata": {},
     "output_type": "execute_result"
    }
   ],
   "source": [
    "df = review_df\n",
    "df[\"product_title_orig_len\"] = df[\"product_title_orig\"].apply(lambda x: len(x))\n",
    "df[\"product_title_len\"] = df[\"product_title\"].apply(lambda x: len(x))\n",
    "\n",
    "df[\"product_title_diff\"] = df[\"product_title_len\"] - df[\"product_title_orig_len\"]\n",
    "df[\"product_title_percent_diff\"] = df[\"product_title_diff\"] / df[\"product_title_orig_len\"]\n",
    "\n",
    "\n",
    "\n",
    "df[[\"product_title_orig_len\", \"product_title_len\", \"product_title_diff\", \"product_title_percent_diff\"]].describe()"
   ]
  },
  {
   "cell_type": "code",
   "execution_count": 7,
   "metadata": {},
   "outputs": [
    {
     "name": "stdout",
     "output_type": "stream",
     "text": [
      "product_title_orig\t[Cellet 4\" Bike & Motorcycle Cell Phone Holder Mount for Nokia Lumia 1520]\n",
      "product_title\t\t[cellet 4 bike motorcycle cell phone holder mount nokia lumia 1520]\n",
      "product_title_orig\t[Faber-Castell Duo Tip Washable]\n",
      "product_title\t\t[faber castell duo tip washable]\n",
      "product_title_orig\t[Faber-Castell Duo Tip Washable]\n",
      "product_title\t\t[faber castell duo tip washable]\n"
     ]
    }
   ],
   "source": [
    "import numpy as np\n",
    "\n",
    "rows = len(sample_df)\n",
    "# first let's randomly look at a couple rows\n",
    "for i in np.arange(0,3,1):\n",
    "    row_index = round(np.random.rand() * rows - 1)\n",
    "    row = sample_df.iloc[row_index]\n",
    "    print(f'product_title_orig\\t[{row[\"product_title_orig\"]}]')\n",
    "    print(f'product_title\\t\\t[{row[\"product_title\"]}]')\n",
    "\n",
    "\n"
   ]
  },
  {
   "cell_type": "markdown",
   "metadata": {},
   "source": [
    "## I did notice that in product titles - things like 5.5 get converted to 5 5 - will have to do something about this if we decide to use product title"
   ]
  },
  {
   "cell_type": "markdown",
   "metadata": {},
   "source": [
    "## review headlines\n",
    "\n",
    "average 22% reduction in length with stemming turned on\n",
    "\n",
    "average 17% reduction in length with stemming turned off"
   ]
  },
  {
   "cell_type": "code",
   "execution_count": 8,
   "metadata": {},
   "outputs": [
    {
     "data": {
      "text/html": [
       "<div>\n",
       "<style scoped>\n",
       "    .dataframe tbody tr th:only-of-type {\n",
       "        vertical-align: middle;\n",
       "    }\n",
       "\n",
       "    .dataframe tbody tr th {\n",
       "        vertical-align: top;\n",
       "    }\n",
       "\n",
       "    .dataframe thead th {\n",
       "        text-align: right;\n",
       "    }\n",
       "</style>\n",
       "<table border=\"1\" class=\"dataframe\">\n",
       "  <thead>\n",
       "    <tr style=\"text-align: right;\">\n",
       "      <th></th>\n",
       "      <th>review_headline_orig_len</th>\n",
       "      <th>review_headline_len</th>\n",
       "      <th>review_headline_diff</th>\n",
       "      <th>review_headline_percent_diff</th>\n",
       "    </tr>\n",
       "  </thead>\n",
       "  <tbody>\n",
       "    <tr>\n",
       "      <th>count</th>\n",
       "      <td>22410.000000</td>\n",
       "      <td>22410.000000</td>\n",
       "      <td>22410.000000</td>\n",
       "      <td>22410.000000</td>\n",
       "    </tr>\n",
       "    <tr>\n",
       "      <th>mean</th>\n",
       "      <td>22.041187</td>\n",
       "      <td>16.727755</td>\n",
       "      <td>-5.313432</td>\n",
       "      <td>-0.168167</td>\n",
       "    </tr>\n",
       "    <tr>\n",
       "      <th>std</th>\n",
       "      <td>18.062227</td>\n",
       "      <td>12.014138</td>\n",
       "      <td>8.247019</td>\n",
       "      <td>0.199324</td>\n",
       "    </tr>\n",
       "    <tr>\n",
       "      <th>min</th>\n",
       "      <td>1.000000</td>\n",
       "      <td>1.000000</td>\n",
       "      <td>-68.000000</td>\n",
       "      <td>-0.904762</td>\n",
       "    </tr>\n",
       "    <tr>\n",
       "      <th>25%</th>\n",
       "      <td>10.000000</td>\n",
       "      <td>10.000000</td>\n",
       "      <td>-8.000000</td>\n",
       "      <td>-0.309524</td>\n",
       "    </tr>\n",
       "    <tr>\n",
       "      <th>50%</th>\n",
       "      <td>15.000000</td>\n",
       "      <td>12.000000</td>\n",
       "      <td>-1.000000</td>\n",
       "      <td>-0.083333</td>\n",
       "    </tr>\n",
       "    <tr>\n",
       "      <th>75%</th>\n",
       "      <td>28.000000</td>\n",
       "      <td>21.000000</td>\n",
       "      <td>0.000000</td>\n",
       "      <td>0.000000</td>\n",
       "    </tr>\n",
       "    <tr>\n",
       "      <th>max</th>\n",
       "      <td>128.000000</td>\n",
       "      <td>125.000000</td>\n",
       "      <td>0.000000</td>\n",
       "      <td>0.000000</td>\n",
       "    </tr>\n",
       "  </tbody>\n",
       "</table>\n",
       "</div>"
      ],
      "text/plain": [
       "       review_headline_orig_len  review_headline_len  review_headline_diff  \\\n",
       "count              22410.000000         22410.000000          22410.000000   \n",
       "mean                  22.041187            16.727755             -5.313432   \n",
       "std                   18.062227            12.014138              8.247019   \n",
       "min                    1.000000             1.000000            -68.000000   \n",
       "25%                   10.000000            10.000000             -8.000000   \n",
       "50%                   15.000000            12.000000             -1.000000   \n",
       "75%                   28.000000            21.000000              0.000000   \n",
       "max                  128.000000           125.000000              0.000000   \n",
       "\n",
       "       review_headline_percent_diff  \n",
       "count                  22410.000000  \n",
       "mean                      -0.168167  \n",
       "std                        0.199324  \n",
       "min                       -0.904762  \n",
       "25%                       -0.309524  \n",
       "50%                       -0.083333  \n",
       "75%                        0.000000  \n",
       "max                        0.000000  "
      ]
     },
     "execution_count": 8,
     "metadata": {},
     "output_type": "execute_result"
    }
   ],
   "source": [
    "\n",
    "df = review_df\n",
    "df[\"review_headline_orig_len\"] = df[\"review_headline_orig\"].apply(lambda x: len(x))\n",
    "df[\"review_headline_len\"] = df[\"review_headline\"].apply(lambda x: len(x))\n",
    "\n",
    "df[\"review_headline_diff\"] = df[\"review_headline_len\"] - df[\"review_headline_orig_len\"]\n",
    "df[\"review_headline_percent_diff\"] = df[\"review_headline_diff\"] / df[\"review_headline_orig_len\"]\n",
    "\n",
    "df[[\"review_headline_orig_len\", \"review_headline_len\", \"review_headline_diff\", \"review_headline_percent_diff\"]].describe()"
   ]
  },
  {
   "cell_type": "code",
   "execution_count": 9,
   "metadata": {
    "scrolled": true
   },
   "outputs": [
    {
     "name": "stdout",
     "output_type": "stream",
     "text": [
      "review_headline_orig\t[Cheap]\n",
      "review_headline\t\t[cheap]\n",
      "review_headline_orig\t[BEST OVER THE EAR HEADPHONES... GREAT SOUND AND COMFORTABLE]\n",
      "review_headline\t\t[best ear headphones great sound comfortable]\n",
      "review_headline_orig\t[OtterBox case & Holster]\n",
      "review_headline\t\t[otterbox case holster]\n",
      "review_headline_orig\t[Slim Fit Clear Case]\n",
      "review_headline\t\t[slim fit clear case]\n",
      "review_headline_orig\t[Four Stars]\n",
      "review_headline\t\t[four stars]\n"
     ]
    }
   ],
   "source": [
    "# let's now look at review_headline\n",
    "# first let's randomly look at a couple rows\n",
    "for i in np.arange(0,5,1):\n",
    "    row_index = round(np.random.rand() * rows -1)\n",
    "    row = sample_df.iloc[row_index]\n",
    "    print(f'review_headline_orig\\t[{row[\"review_headline_orig\"]}]')\n",
    "    print(f'review_headline\\t\\t[{row[\"review_headline\"]}]')"
   ]
  },
  {
   "cell_type": "markdown",
   "metadata": {},
   "source": [
    "## review body - pretty significant reduction in length\n",
    "\n",
    "Average 40% reduction in size of review body if stemming is turned on\n",
    "\n",
    "Once you turn off stemming, about 35% average reduction in sbody size"
   ]
  },
  {
   "cell_type": "code",
   "execution_count": 10,
   "metadata": {},
   "outputs": [
    {
     "data": {
      "text/html": [
       "<div>\n",
       "<style scoped>\n",
       "    .dataframe tbody tr th:only-of-type {\n",
       "        vertical-align: middle;\n",
       "    }\n",
       "\n",
       "    .dataframe tbody tr th {\n",
       "        vertical-align: top;\n",
       "    }\n",
       "\n",
       "    .dataframe thead th {\n",
       "        text-align: right;\n",
       "    }\n",
       "</style>\n",
       "<table border=\"1\" class=\"dataframe\">\n",
       "  <thead>\n",
       "    <tr style=\"text-align: right;\">\n",
       "      <th></th>\n",
       "      <th>review_body_orig_len</th>\n",
       "      <th>review_body_len</th>\n",
       "      <th>review_body_diff</th>\n",
       "      <th>review_body_percent_diff</th>\n",
       "    </tr>\n",
       "  </thead>\n",
       "  <tbody>\n",
       "    <tr>\n",
       "      <th>count</th>\n",
       "      <td>22410.000000</td>\n",
       "      <td>22410.000000</td>\n",
       "      <td>22410.000000</td>\n",
       "      <td>22410.000000</td>\n",
       "    </tr>\n",
       "    <tr>\n",
       "      <th>mean</th>\n",
       "      <td>256.354440</td>\n",
       "      <td>158.150959</td>\n",
       "      <td>-98.203481</td>\n",
       "      <td>-0.345040</td>\n",
       "    </tr>\n",
       "    <tr>\n",
       "      <th>std</th>\n",
       "      <td>420.598432</td>\n",
       "      <td>258.101204</td>\n",
       "      <td>164.786304</td>\n",
       "      <td>0.128854</td>\n",
       "    </tr>\n",
       "    <tr>\n",
       "      <th>min</th>\n",
       "      <td>1.000000</td>\n",
       "      <td>1.000000</td>\n",
       "      <td>-3426.000000</td>\n",
       "      <td>-0.891892</td>\n",
       "    </tr>\n",
       "    <tr>\n",
       "      <th>25%</th>\n",
       "      <td>70.000000</td>\n",
       "      <td>45.000000</td>\n",
       "      <td>-109.000000</td>\n",
       "      <td>-0.423313</td>\n",
       "    </tr>\n",
       "    <tr>\n",
       "      <th>50%</th>\n",
       "      <td>141.000000</td>\n",
       "      <td>89.000000</td>\n",
       "      <td>-53.000000</td>\n",
       "      <td>-0.368421</td>\n",
       "    </tr>\n",
       "    <tr>\n",
       "      <th>75%</th>\n",
       "      <td>281.000000</td>\n",
       "      <td>171.000000</td>\n",
       "      <td>-22.000000</td>\n",
       "      <td>-0.295858</td>\n",
       "    </tr>\n",
       "    <tr>\n",
       "      <th>max</th>\n",
       "      <td>9888.000000</td>\n",
       "      <td>6519.000000</td>\n",
       "      <td>0.000000</td>\n",
       "      <td>0.000000</td>\n",
       "    </tr>\n",
       "  </tbody>\n",
       "</table>\n",
       "</div>"
      ],
      "text/plain": [
       "       review_body_orig_len  review_body_len  review_body_diff  \\\n",
       "count          22410.000000     22410.000000      22410.000000   \n",
       "mean             256.354440       158.150959        -98.203481   \n",
       "std              420.598432       258.101204        164.786304   \n",
       "min                1.000000         1.000000      -3426.000000   \n",
       "25%               70.000000        45.000000       -109.000000   \n",
       "50%              141.000000        89.000000        -53.000000   \n",
       "75%              281.000000       171.000000        -22.000000   \n",
       "max             9888.000000      6519.000000          0.000000   \n",
       "\n",
       "       review_body_percent_diff  \n",
       "count              22410.000000  \n",
       "mean                  -0.345040  \n",
       "std                    0.128854  \n",
       "min                   -0.891892  \n",
       "25%                   -0.423313  \n",
       "50%                   -0.368421  \n",
       "75%                   -0.295858  \n",
       "max                    0.000000  "
      ]
     },
     "execution_count": 10,
     "metadata": {},
     "output_type": "execute_result"
    }
   ],
   "source": [
    "df = review_df\n",
    "df[\"review_body_orig_len\"] = df[\"review_body_orig\"].apply(lambda x: len(x))\n",
    "df[\"review_body_len\"] = df[\"review_body\"].apply(lambda x: len(x))\n",
    "df[\"review_body_diff\"] = df[\"review_body_len\"] - df[\"review_body_orig_len\"]\n",
    "df[\"review_body_percent_diff\"] = df[\"review_body_diff\"] / df[\"review_body_orig_len\"]\n",
    "df[[\"review_body_orig_len\", \"review_body_len\", \"review_body_diff\", \"review_body_percent_diff\"]].describe()"
   ]
  },
  {
   "cell_type": "code",
   "execution_count": 11,
   "metadata": {
    "scrolled": false
   },
   "outputs": [
    {
     "name": "stdout",
     "output_type": "stream",
     "text": [
      "review_body_orig\t[This is my 2nd pair of &#34;over the ear&#34; bluetooth headphones. I started back at the gym 6 months ago and used the typical ear buds with a cord. It didn't take long before I was losing my phone on the treadmill because of the cord catching a part of my body. I am huge on quality of sound and how well I can keep sound out. I bought a set of JAMS first and they lasted me for about 4 months. I absolutely loved them but the left side completely went out. I read reviews on this problem shortly after it happened. I really wanted that great sound (bass in particular) and was skeptical to buy another set of JAMS. After research and reviews, I found these bad boys. They are a little bulky but hey, so are the BEATS. Whats better than the BEATS is that they are only $50!!! I have never tried BEATS ($299) but I can tell you, I don't know how you could possibly get any better sound...<br />I use these for mowing the yard and the gym. That said, I do a serious amount of sweating. They are extremely comfortable. They stay on whether I am in another world running to some killer electronics dance music or laying flat on my back doing bench press.<br />If I were able to give 10 stars on here, it still wouldn't be enough...<br />And for the ones that state they can't get theirs to pair with their devices... Its very simple! I have paired them with my Galaxy S5 Active, as well as the IPhone 5S. You have to hold the power button down longer after &#34;she&#34; tells you power is on. Wait for her to say &#34;pairing&#34;. Once you hear that, set your phone to scan. NOTE!!! YOU NEED TO SCROLL ALL THE WAY DOWN AND LOOK FOR &#34;AVAILABLE&#34; DEVICES...]\n",
      "review_body\t\t[2nd pair ear bluetooth headphones started back gym 6 months ago used typical ear buds cord take long losing phone treadmill cord catching part body huge quality sound well keep sound bought set jams first lasted 4 months absolutely loved left side completely went read reviews problem shortly happened really wanted great sound bass particular skeptical buy another set jams research reviews found bad boys little bulky hey beats whats better beats 50 never tried beats 299 tell know could possibly get better sound use mowing yard gym said do serious amount sweating extremely comfortable stay whether another world running killer electronics dance music laying flat back bench press able give 10 stars still enough ones state get pair devices very simple paired galaxy s5 active well iphone 5s hold power button longer tells power wait say pairing hear set phone scan note need scroll way look available devices]\n",
      "\n",
      "review_body_orig\t[I have a classic ipod and i will never get rid of it but the accessories were hard to find. this package contains EVERYTHING you could ever need for your classic ipod....totally worth the price..i will buy a few more just to have backups]\n",
      "review_body\t\t[classic ipod never get rid accessories hard find package contains everything could ever need classic ipod totally worth price buy backups]\n",
      "\n",
      "review_body_orig\t[Love this product and what a great buy!  The Verizon store sells it for a lot more ($50!), so thought this was a deal.  Buy it!]\n",
      "review_body\t\t[love product great buy verizon store sells lot 50 thought deal buy]\n",
      "\n",
      "review_body_orig\t[Love this product and what a great buy!  The Verizon store sells it for a lot more ($50!), so thought this was a deal.  Buy it!]\n",
      "review_body\t\t[love product great buy verizon store sells lot 50 thought deal buy]\n",
      "\n",
      "review_body_orig\t[Love this product and what a great buy!  The Verizon store sells it for a lot more ($50!), so thought this was a deal.  Buy it!]\n",
      "review_body\t\t[love product great buy verizon store sells lot 50 thought deal buy]\n",
      "\n",
      "review_body_orig\t[Amazing little product!!! Portability is astounding, you can put them in your pocket and take them out to wear with no problem and the sound out this unit is BIG. My only drawback is that the connecting cord is just a little to short for my big neck 17 1/2&#34;. Other than that, I would recommend these for anybody. Think about it, sitting in church and listening to music from your phone or anywhere for that matter. I have hearing aids in both ears and the buds fit just fine over them and you get three different sizes and stabilizers for inside your ears too. Really cool device.]\n",
      "review_body\t\t[amazing little product portability astounding put pocket take wear no problem sound unit big drawback connecting cord little short big neck 17 1 2 would recommend anybody think sitting church listening music phone anywhere matter hearing aids ears buds fit fine get three different sizes stabilizers inside ears really cool device]\n",
      "\n",
      "review_body_orig\t[Use screen savers with it]\n",
      "review_body\t\t[use screen savers]\n",
      "\n",
      "review_body_orig\t[I plugged it in the car charger outlet thing and worked fine. When I pulled it out of the outlet the metal tip at the very end broke off.]\n",
      "review_body\t\t[plugged car charger outlet thing worked fine pulled outlet metal tip very end broke]\n",
      "\n",
      "review_body_orig\t[Use screen savers with it]\n",
      "review_body\t\t[use screen savers]\n",
      "\n",
      "review_body_orig\t[Amazing little product!!! Portability is astounding, you can put them in your pocket and take them out to wear with no problem and the sound out this unit is BIG. My only drawback is that the connecting cord is just a little to short for my big neck 17 1/2&#34;. Other than that, I would recommend these for anybody. Think about it, sitting in church and listening to music from your phone or anywhere for that matter. I have hearing aids in both ears and the buds fit just fine over them and you get three different sizes and stabilizers for inside your ears too. Really cool device.]\n",
      "review_body\t\t[amazing little product portability astounding put pocket take wear no problem sound unit big drawback connecting cord little short big neck 17 1 2 would recommend anybody think sitting church listening music phone anywhere matter hearing aids ears buds fit fine get three different sizes stabilizers inside ears really cool device]\n",
      "\n"
     ]
    }
   ],
   "source": [
    "# let's now look at review_body\n",
    "# first let's randomly look at a couple rows\n",
    "for i in np.arange(0,10,1):\n",
    "    row_index = round(np.random.rand() * rows - 1)\n",
    "    row = sample_df.iloc[row_index]\n",
    "    print(f'review_body_orig\\t[{row[\"review_body_orig\"]}]')\n",
    "    print(f'review_body\\t\\t[{row[\"review_body\"]}]\\n')"
   ]
  },
  {
   "cell_type": "code",
   "execution_count": null,
   "metadata": {},
   "outputs": [],
   "source": []
  },
  {
   "cell_type": "code",
   "execution_count": null,
   "metadata": {},
   "outputs": [],
   "source": []
  }
 ],
 "metadata": {
  "kernelspec": {
   "display_name": "Python 3",
   "language": "python",
   "name": "python3"
  },
  "language_info": {
   "codemirror_mode": {
    "name": "ipython",
    "version": 3
   },
   "file_extension": ".py",
   "mimetype": "text/x-python",
   "name": "python",
   "nbconvert_exporter": "python",
   "pygments_lexer": "ipython3",
   "version": "3.7.3"
  }
 },
 "nbformat": 4,
 "nbformat_minor": 2
}
