{
  "nbformat": 4,
  "nbformat_minor": 0,
  "metadata": {
    "colab": {
      "name": "CNN_prototype.ipynb",
      "version": "0.3.2",
      "provenance": [],
      "collapsed_sections": [],
      "include_colab_link": true
    },
    "language_info": {
      "codemirror_mode": {
        "name": "ipython",
        "version": 3
      },
      "file_extension": ".py",
      "mimetype": "text/x-python",
      "name": "python",
      "nbconvert_exporter": "python",
      "pygments_lexer": "ipython3",
      "version": "3.7.3"
    },
    "kernelspec": {
      "name": "python3",
      "display_name": "Python 3"
    },
    "accelerator": "GPU"
  },
  "cells": [
    {
      "cell_type": "markdown",
      "metadata": {
        "id": "view-in-github",
        "colab_type": "text"
      },
      "source": [
        "<a href=\"https://colab.research.google.com/github/sv650s/sb-capstone/blob/master/2019-06-23-CNN_prototype.ipynb\" target=\"_parent\"><img src=\"https://colab.research.google.com/assets/colab-badge.svg\" alt=\"Open In Colab\"/></a>"
      ]
    },
    {
      "cell_type": "markdown",
      "metadata": {
        "id": "W7_sb1roJXhx",
        "colab_type": "text"
      },
      "source": [
        "# CNN Prototype\n",
        "\n",
        "Modeling this notebook after the following:\n",
        "\n",
        "https://nbviewer.jupyter.org/github/dipanjanS/nlp_workshop_dhs18/blob/master/Unit%2012%20-%20Project%209%20-%20Sentiment%20Analysis%20-%20Supervised%20Learning/12B%20-%20Project%2011%20-%20Sentiment%20Analysis%20-%20Advanced%20Deep%20Learning%20-%20CNNs.ipynb\n",
        "\n",
        "\n",
        "Making the following changes:\n",
        "\n",
        "* last layer is a 5 node layer with softmax activation function since we are doing a 5 class classification\n",
        "* Changing the loss function from binary_crossentropy to categorical_crossentropy since we are doing multi-class classification\n",
        "* running fit with 50 epochs with early stopping with patience of 2\n",
        "* also this notebook runs the CNN model twice - once with embedding of 32 (original), one with embedding of 300. At the end of the notebook, it prints a table to compare the two"
      ]
    },
    {
      "cell_type": "code",
      "metadata": {
        "id": "gwrIhSxpG--S",
        "colab_type": "code",
        "colab": {
          "base_uri": "https://localhost:8080/",
          "height": 55
        },
        "outputId": "0a2e51ae-3df9-451a-de4b-fd013b01ad40"
      },
      "source": [
        "from google.colab import drive\n",
        "import sys\n",
        "drive.mount('/content/drive')\n",
        "# add this to sys patch so we can import utility functions\n",
        "sys.path.append('drive/My Drive/Springboard/capstone')\n"
      ],
      "execution_count": 1,
      "outputs": [
        {
          "output_type": "stream",
          "text": [
            "Drive already mounted at /content/drive; to attempt to forcibly remount, call drive.mount(\"/content/drive\", force_remount=True).\n"
          ],
          "name": "stdout"
        }
      ]
    },
    {
      "cell_type": "code",
      "metadata": {
        "id": "pAHGtniuJXhy",
        "colab_type": "code",
        "outputId": "7fcf73c3-9ffd-49c4-d456-7f9e1c17280a",
        "colab": {
          "base_uri": "https://localhost:8080/",
          "height": 35
        }
      },
      "source": [
        "from keras.models import Sequential\n",
        "from keras.layers import Dense, Activation, Dropout\n",
        "from keras.layers.normalization import BatchNormalization\n",
        "from keras.callbacks import EarlyStopping\n",
        "from keras.models import load_model\n",
        "from sklearn.model_selection import train_test_split\n",
        "from keras.optimizers import SGD\n",
        "from sklearn.preprocessing import OneHotEncoder\n",
        "from keras.layers import Flatten\n",
        "from keras.layers.convolutional import Conv1D\n",
        "from keras.layers.convolutional import MaxPooling1D\n",
        "from keras.layers.embeddings import Embedding\n",
        "import pandas as pd\n",
        "from IPython.display import SVG\n",
        "from keras.utils.vis_utils import model_to_dot\n",
        "import util.dict_util as du\n",
        "import util.plot_util as pu\n",
        "import util.file_util as fu\n",
        "import pickle\n",
        "from datetime import datetime\n",
        "from sklearn.metrics import confusion_matrix, classification_report\n",
        "import os\n",
        "import seaborn as sns\n",
        "\n",
        "sns.set()\n"
      ],
      "execution_count": 2,
      "outputs": [
        {
          "output_type": "stream",
          "text": [
            "Using TensorFlow backend.\n"
          ],
          "name": "stderr"
        }
      ]
    },
    {
      "cell_type": "code",
      "metadata": {
        "id": "At8OhHNfJXh3",
        "colab_type": "code",
        "colab": {}
      },
      "source": [
        "DRIVE_DIR = \"drive/My Drive/Springboard/capstone\"\n",
        "DATE_FORMAT = '%Y-%m-%d'\n",
        "TIME_FORMAT = '%Y-%m-%d %H:%M:%S'\n",
        "DATA_FILE = f\"{DRIVE_DIR}/data/amazon_reviews_us_Wireless_v1_00-preprocessed-110k.csv\"\n",
        "MODEL_NAME = \"CNN1layerEmbedding32\"\n",
        "FEATURE_COLUMN = \"star_rating\"\n",
        "REVIEW_COLUMN = \"review_body\"\n",
        "\n",
        "\n"
      ],
      "execution_count": 0,
      "outputs": []
    },
    {
      "cell_type": "code",
      "metadata": {
        "id": "KfGVl2gXLMV_",
        "colab_type": "code",
        "outputId": "1f34cd4f-391a-40ae-f384-df56f292bc9a",
        "colab": {
          "base_uri": "https://localhost:8080/",
          "height": 35
        }
      },
      "source": [
        "import tensorflow as tf\n",
        "# checl to make sure we are using GPU here\n",
        "tf.test.gpu_device_name()"
      ],
      "execution_count": 4,
      "outputs": [
        {
          "output_type": "execute_result",
          "data": {
            "text/plain": [
              "'/device:GPU:0'"
            ]
          },
          "metadata": {
            "tags": []
          },
          "execution_count": 4
        }
      ]
    },
    {
      "cell_type": "code",
      "metadata": {
        "hide_input": false,
        "id": "k6fwJp9OJXh5",
        "colab_type": "code",
        "colab": {}
      },
      "source": [
        "df = pd.read_csv(f\"{DATA_FILE}\")"
      ],
      "execution_count": 0,
      "outputs": []
    },
    {
      "cell_type": "code",
      "metadata": {
        "id": "nb3whPNGNsu6",
        "colab_type": "code",
        "outputId": "1976dcba-8707-4396-f1a5-34f34477f44f",
        "colab": {
          "base_uri": "https://localhost:8080/",
          "height": 517
        }
      },
      "source": [
        "df.head()"
      ],
      "execution_count": 6,
      "outputs": [
        {
          "output_type": "execute_result",
          "data": {
            "text/html": [
              "<div>\n",
              "<style scoped>\n",
              "    .dataframe tbody tr th:only-of-type {\n",
              "        vertical-align: middle;\n",
              "    }\n",
              "\n",
              "    .dataframe tbody tr th {\n",
              "        vertical-align: top;\n",
              "    }\n",
              "\n",
              "    .dataframe thead th {\n",
              "        text-align: right;\n",
              "    }\n",
              "</style>\n",
              "<table border=\"1\" class=\"dataframe\">\n",
              "  <thead>\n",
              "    <tr style=\"text-align: right;\">\n",
              "      <th></th>\n",
              "      <th>customer_id</th>\n",
              "      <th>review_id</th>\n",
              "      <th>product_id</th>\n",
              "      <th>product_parent</th>\n",
              "      <th>product_title</th>\n",
              "      <th>product_category</th>\n",
              "      <th>star_rating</th>\n",
              "      <th>helpful_votes</th>\n",
              "      <th>total_votes</th>\n",
              "      <th>review_headline</th>\n",
              "      <th>review_body</th>\n",
              "      <th>review_date</th>\n",
              "    </tr>\n",
              "  </thead>\n",
              "  <tbody>\n",
              "    <tr>\n",
              "      <th>0</th>\n",
              "      <td>48623501</td>\n",
              "      <td>R1G7J2VAMI4AEC</td>\n",
              "      <td>B00LBK7QBY</td>\n",
              "      <td>361030039</td>\n",
              "      <td>universal waterproof case joto cellphone dry b...</td>\n",
              "      <td>Wireless</td>\n",
              "      <td>5</td>\n",
              "      <td>0</td>\n",
              "      <td>0</td>\n",
              "      <td>good product please note not</td>\n",
              "      <td>good product please note not floating case do ...</td>\n",
              "      <td>2015-08-31</td>\n",
              "    </tr>\n",
              "    <tr>\n",
              "      <th>1</th>\n",
              "      <td>533148</td>\n",
              "      <td>R3Q4JAPXWCCJU7</td>\n",
              "      <td>B00W661MOO</td>\n",
              "      <td>360205932</td>\n",
              "      <td>car mount alpatronix mx101 universal charging ...</td>\n",
              "      <td>Wireless</td>\n",
              "      <td>5</td>\n",
              "      <td>0</td>\n",
              "      <td>0</td>\n",
              "      <td>great product holds phone place</td>\n",
              "      <td>great product holds phone place does not slip ...</td>\n",
              "      <td>2015-08-31</td>\n",
              "    </tr>\n",
              "    <tr>\n",
              "      <th>2</th>\n",
              "      <td>40266813</td>\n",
              "      <td>RJQWVO0QV2WQ4</td>\n",
              "      <td>B00USN9L0E</td>\n",
              "      <td>105913119</td>\n",
              "      <td>synthetic leather galaxy s6 sleeve thin</td>\n",
              "      <td>Wireless</td>\n",
              "      <td>5</td>\n",
              "      <td>0</td>\n",
              "      <td>0</td>\n",
              "      <td>exactly described</td>\n",
              "      <td>quality looks good prompt postage cannot argue...</td>\n",
              "      <td>2015-08-31</td>\n",
              "    </tr>\n",
              "    <tr>\n",
              "      <th>3</th>\n",
              "      <td>228806</td>\n",
              "      <td>R3RFPR7X60WN6C</td>\n",
              "      <td>B00YPAOKMU</td>\n",
              "      <td>564491128</td>\n",
              "      <td>jiake s6 5 0 inch unlocked smart phone quad co...</td>\n",
              "      <td>Wireless</td>\n",
              "      <td>5</td>\n",
              "      <td>0</td>\n",
              "      <td>0</td>\n",
              "      <td>powerful attractive really do love mode</td>\n",
              "      <td>works much like jiake phone love price great b...</td>\n",
              "      <td>2015-08-31</td>\n",
              "    </tr>\n",
              "    <tr>\n",
              "      <th>4</th>\n",
              "      <td>10866798</td>\n",
              "      <td>R3QL2UPH2B7YFT</td>\n",
              "      <td>B00O0S97SE</td>\n",
              "      <td>742788022</td>\n",
              "      <td>tfy universal car headrest mount holder portab...</td>\n",
              "      <td>Wireless</td>\n",
              "      <td>3</td>\n",
              "      <td>0</td>\n",
              "      <td>1</td>\n",
              "      <td>good enough</td>\n",
              "      <td>serves purpose loud whoever sitting seat attached</td>\n",
              "      <td>2015-08-31</td>\n",
              "    </tr>\n",
              "  </tbody>\n",
              "</table>\n",
              "</div>"
            ],
            "text/plain": [
              "   customer_id  ... review_date\n",
              "0     48623501  ...  2015-08-31\n",
              "1       533148  ...  2015-08-31\n",
              "2     40266813  ...  2015-08-31\n",
              "3       228806  ...  2015-08-31\n",
              "4     10866798  ...  2015-08-31\n",
              "\n",
              "[5 rows x 12 columns]"
            ]
          },
          "metadata": {
            "tags": []
          },
          "execution_count": 6
        }
      ]
    },
    {
      "cell_type": "code",
      "metadata": {
        "id": "pqHfMf6mJXh7",
        "colab_type": "code",
        "colab": {}
      },
      "source": [
        "rating = df[FEATURE_COLUMN]\n",
        "reviews = df[REVIEW_COLUMN]"
      ],
      "execution_count": 0,
      "outputs": []
    },
    {
      "cell_type": "markdown",
      "metadata": {
        "id": "EBQR0ZpoOiQk",
        "colab_type": "text"
      },
      "source": [
        "**Preprocessing**"
      ]
    },
    {
      "cell_type": "code",
      "metadata": {
        "id": "lytdvF4neJ4r",
        "colab_type": "code",
        "outputId": "1531ad93-10c4-43de-fc1f-c2bba4055b16",
        "colab": {
          "base_uri": "https://localhost:8080/",
          "height": 263
        }
      },
      "source": [
        "# one hot encode ratings\n",
        "print(rating.shape)\n",
        "print(type(rating))\n",
        "y = OneHotEncoder().fit_transform(rating.values.reshape(len(rating), 1)).toarray()\n",
        "y"
      ],
      "execution_count": 8,
      "outputs": [
        {
          "output_type": "stream",
          "text": [
            "(112043,)\n",
            "<class 'pandas.core.series.Series'>\n"
          ],
          "name": "stdout"
        },
        {
          "output_type": "stream",
          "text": [
            "/usr/local/lib/python3.6/dist-packages/sklearn/preprocessing/_encoders.py:415: FutureWarning: The handling of integer data will change in version 0.22. Currently, the categories are determined based on the range [0, max(values)], while in the future they will be determined based on the unique values.\n",
            "If you want the future behaviour and silence this warning, you can specify \"categories='auto'\".\n",
            "In case you used a LabelEncoder before this OneHotEncoder to convert the categories to integers, then you can now use the OneHotEncoder directly.\n",
            "  warnings.warn(msg, FutureWarning)\n"
          ],
          "name": "stderr"
        },
        {
          "output_type": "execute_result",
          "data": {
            "text/plain": [
              "array([[0., 0., 0., 0., 1.],\n",
              "       [0., 0., 0., 0., 1.],\n",
              "       [0., 0., 0., 0., 1.],\n",
              "       ...,\n",
              "       [0., 0., 1., 0., 0.],\n",
              "       [0., 0., 0., 0., 1.],\n",
              "       [0., 0., 0., 1., 0.]])"
            ]
          },
          "metadata": {
            "tags": []
          },
          "execution_count": 8
        }
      ]
    },
    {
      "cell_type": "code",
      "metadata": {
        "id": "8sdvF7lKPRfD",
        "colab_type": "code",
        "colab": {}
      },
      "source": [
        "reviews_train, reviews_test, y_train, y_test = train_test_split(reviews, y, random_state=1)"
      ],
      "execution_count": 0,
      "outputs": []
    },
    {
      "cell_type": "code",
      "metadata": {
        "id": "i0mwVXPjOpi5",
        "colab_type": "code",
        "colab": {}
      },
      "source": [
        "from keras.preprocessing.text import Tokenizer\n",
        "from keras.preprocessing import sequence\n",
        "from sklearn.preprocessing import LabelEncoder\n",
        "\n",
        "t = Tokenizer()\n",
        "# fit the tokenizer on the documents\n",
        "t.fit_on_texts(reviews_train)"
      ],
      "execution_count": 0,
      "outputs": []
    },
    {
      "cell_type": "code",
      "metadata": {
        "id": "Ou3A0O2aOwcb",
        "colab_type": "code",
        "colab": {}
      },
      "source": [
        "train_sequences = t.texts_to_sequences(reviews_train)"
      ],
      "execution_count": 0,
      "outputs": []
    },
    {
      "cell_type": "code",
      "metadata": {
        "id": "DuDHcMvNcZW_",
        "colab_type": "code",
        "outputId": "0be34055-0c51-46a8-825e-46dbff599f31",
        "colab": {
          "base_uri": "https://localhost:8080/",
          "height": 503
        }
      },
      "source": [
        "train_sequences[:2]"
      ],
      "execution_count": 12,
      "outputs": [
        {
          "output_type": "execute_result",
          "data": {
            "text/plain": [
              "[[20,\n",
              "  24,\n",
              "  16,\n",
              "  11,\n",
              "  1,\n",
              "  21,\n",
              "  2629,\n",
              "  398,\n",
              "  710,\n",
              "  67,\n",
              "  341,\n",
              "  30,\n",
              "  2290,\n",
              "  153,\n",
              "  140,\n",
              "  13,\n",
              "  1,\n",
              "  28,\n",
              "  186,\n",
              "  396,\n",
              "  20,\n",
              "  16,\n",
              "  93,\n",
              "  370,\n",
              "  1346,\n",
              "  408,\n",
              "  992],\n",
              " [99, 70, 31, 1, 168, 44, 1744, 452]]"
            ]
          },
          "metadata": {
            "tags": []
          },
          "execution_count": 12
        }
      ]
    },
    {
      "cell_type": "code",
      "metadata": {
        "id": "Xx9whgnmPXkC",
        "colab_type": "code",
        "outputId": "ddafe694-0080-4371-9c95-8c1d08c4c0f3",
        "colab": {
          "base_uri": "https://localhost:8080/",
          "height": 832
        }
      },
      "source": [
        "test_sequences = t.texts_to_sequences(reviews_test)\n",
        "test_sequences[:2]"
      ],
      "execution_count": 13,
      "outputs": [
        {
          "output_type": "execute_result",
          "data": {
            "text/plain": [
              "[[9,\n",
              "  608,\n",
              "  2584,\n",
              "  670,\n",
              "  437,\n",
              "  246,\n",
              "  2,\n",
              "  323,\n",
              "  5,\n",
              "  31,\n",
              "  203,\n",
              "  340,\n",
              "  1414,\n",
              "  643,\n",
              "  342,\n",
              "  147,\n",
              "  242,\n",
              "  272,\n",
              "  54,\n",
              "  128,\n",
              "  278,\n",
              "  908,\n",
              "  27],\n",
              " [764,\n",
              "  1621,\n",
              "  4,\n",
              "  783,\n",
              "  2,\n",
              "  11,\n",
              "  1,\n",
              "  149,\n",
              "  260,\n",
              "  3,\n",
              "  914,\n",
              "  243,\n",
              "  249,\n",
              "  2369,\n",
              "  2,\n",
              "  9,\n",
              "  105,\n",
              "  11,\n",
              "  3,\n",
              "  131,\n",
              "  94,\n",
              "  128,\n",
              "  10,\n",
              "  21]]"
            ]
          },
          "metadata": {
            "tags": []
          },
          "execution_count": 13
        }
      ]
    },
    {
      "cell_type": "code",
      "metadata": {
        "id": "bt_xMQApPd_f",
        "colab_type": "code",
        "outputId": "e82e6911-d78f-4723-86f5-db7f823f2403",
        "colab": {
          "base_uri": "https://localhost:8080/",
          "height": 52
        }
      },
      "source": [
        "print(\"Vocabulary size={}\".format(len(t.word_counts)))\n",
        "print(\"Number of Documents={}\".format(t.document_count))"
      ],
      "execution_count": 14,
      "outputs": [
        {
          "output_type": "stream",
          "text": [
            "Vocabulary size=40788\n",
            "Number of Documents=84032\n"
          ],
          "name": "stdout"
        }
      ]
    },
    {
      "cell_type": "markdown",
      "metadata": {
        "id": "vyaOznruPjq-",
        "colab_type": "text"
      },
      "source": [
        "**Sequence Normalization**\n",
        "\n",
        "Figure out max length of review and pad the rest so they are all the same length"
      ]
    },
    {
      "cell_type": "code",
      "metadata": {
        "id": "HbmXj-JuPvCT",
        "colab_type": "code",
        "outputId": "6e40fd36-6999-456b-c0cc-0ac51f02af8b",
        "colab": {
          "base_uri": "https://localhost:8080/",
          "height": 35
        }
      },
      "source": [
        "df[\"review_length\"] = df.review_body.apply(lambda x: len(x.split()))\n",
        "df.review_length.max()"
      ],
      "execution_count": 15,
      "outputs": [
        {
          "output_type": "execute_result",
          "data": {
            "text/plain": [
              "2864"
            ]
          },
          "metadata": {
            "tags": []
          },
          "execution_count": 15
        }
      ]
    },
    {
      "cell_type": "code",
      "metadata": {
        "id": "tR3hDNoCQnvR",
        "colab_type": "code",
        "outputId": "8962788b-a19c-4fe6-a2ae-2fa10d907908",
        "colab": {
          "base_uri": "https://localhost:8080/",
          "height": 294
        }
      },
      "source": [
        "df.describe()"
      ],
      "execution_count": 16,
      "outputs": [
        {
          "output_type": "execute_result",
          "data": {
            "text/html": [
              "<div>\n",
              "<style scoped>\n",
              "    .dataframe tbody tr th:only-of-type {\n",
              "        vertical-align: middle;\n",
              "    }\n",
              "\n",
              "    .dataframe tbody tr th {\n",
              "        vertical-align: top;\n",
              "    }\n",
              "\n",
              "    .dataframe thead th {\n",
              "        text-align: right;\n",
              "    }\n",
              "</style>\n",
              "<table border=\"1\" class=\"dataframe\">\n",
              "  <thead>\n",
              "    <tr style=\"text-align: right;\">\n",
              "      <th></th>\n",
              "      <th>customer_id</th>\n",
              "      <th>product_parent</th>\n",
              "      <th>star_rating</th>\n",
              "      <th>helpful_votes</th>\n",
              "      <th>total_votes</th>\n",
              "      <th>review_length</th>\n",
              "    </tr>\n",
              "  </thead>\n",
              "  <tbody>\n",
              "    <tr>\n",
              "      <th>count</th>\n",
              "      <td>1.120430e+05</td>\n",
              "      <td>1.120430e+05</td>\n",
              "      <td>112043.000000</td>\n",
              "      <td>112043.000000</td>\n",
              "      <td>112043.000000</td>\n",
              "      <td>112043.000000</td>\n",
              "    </tr>\n",
              "    <tr>\n",
              "      <th>mean</th>\n",
              "      <td>2.547598e+07</td>\n",
              "      <td>4.994998e+08</td>\n",
              "      <td>3.889078</td>\n",
              "      <td>0.912435</td>\n",
              "      <td>1.189704</td>\n",
              "      <td>26.322965</td>\n",
              "    </tr>\n",
              "    <tr>\n",
              "      <th>std</th>\n",
              "      <td>1.582173e+07</td>\n",
              "      <td>2.879968e+08</td>\n",
              "      <td>1.463196</td>\n",
              "      <td>10.304687</td>\n",
              "      <td>11.167197</td>\n",
              "      <td>47.248166</td>\n",
              "    </tr>\n",
              "    <tr>\n",
              "      <th>min</th>\n",
              "      <td>1.014100e+04</td>\n",
              "      <td>1.365700e+04</td>\n",
              "      <td>1.000000</td>\n",
              "      <td>0.000000</td>\n",
              "      <td>0.000000</td>\n",
              "      <td>1.000000</td>\n",
              "    </tr>\n",
              "    <tr>\n",
              "      <th>25%</th>\n",
              "      <td>1.231110e+07</td>\n",
              "      <td>2.493906e+08</td>\n",
              "      <td>3.000000</td>\n",
              "      <td>0.000000</td>\n",
              "      <td>0.000000</td>\n",
              "      <td>8.000000</td>\n",
              "    </tr>\n",
              "    <tr>\n",
              "      <th>50%</th>\n",
              "      <td>2.344848e+07</td>\n",
              "      <td>4.990693e+08</td>\n",
              "      <td>5.000000</td>\n",
              "      <td>0.000000</td>\n",
              "      <td>0.000000</td>\n",
              "      <td>15.000000</td>\n",
              "    </tr>\n",
              "    <tr>\n",
              "      <th>75%</th>\n",
              "      <td>4.040851e+07</td>\n",
              "      <td>7.481358e+08</td>\n",
              "      <td>5.000000</td>\n",
              "      <td>0.000000</td>\n",
              "      <td>1.000000</td>\n",
              "      <td>29.000000</td>\n",
              "    </tr>\n",
              "    <tr>\n",
              "      <th>max</th>\n",
              "      <td>5.309655e+07</td>\n",
              "      <td>9.999930e+08</td>\n",
              "      <td>5.000000</td>\n",
              "      <td>1447.000000</td>\n",
              "      <td>1524.000000</td>\n",
              "      <td>2864.000000</td>\n",
              "    </tr>\n",
              "  </tbody>\n",
              "</table>\n",
              "</div>"
            ],
            "text/plain": [
              "        customer_id  product_parent  ...    total_votes  review_length\n",
              "count  1.120430e+05    1.120430e+05  ...  112043.000000  112043.000000\n",
              "mean   2.547598e+07    4.994998e+08  ...       1.189704      26.322965\n",
              "std    1.582173e+07    2.879968e+08  ...      11.167197      47.248166\n",
              "min    1.014100e+04    1.365700e+04  ...       0.000000       1.000000\n",
              "25%    1.231110e+07    2.493906e+08  ...       0.000000       8.000000\n",
              "50%    2.344848e+07    4.990693e+08  ...       0.000000      15.000000\n",
              "75%    4.040851e+07    7.481358e+08  ...       1.000000      29.000000\n",
              "max    5.309655e+07    9.999930e+08  ...    1524.000000    2864.000000\n",
              "\n",
              "[8 rows x 6 columns]"
            ]
          },
          "metadata": {
            "tags": []
          },
          "execution_count": 16
        }
      ]
    },
    {
      "cell_type": "markdown",
      "metadata": {
        "id": "FzomQClub7Qo",
        "colab_type": "text"
      },
      "source": [
        "Looks like 95%+ of our reviews have 186 words or less. If we keep our sequence length to around 64 words, this should allow us to keep most of our content\n",
        "\n",
        "NOTE: no need to do encoding for our star_ratings since this is already in a number format"
      ]
    },
    {
      "cell_type": "code",
      "metadata": {
        "id": "JnBz2oaMa_uq",
        "colab_type": "code",
        "outputId": "c74048e2-755f-4ebc-a263-5ad26d87d0a0",
        "colab": {
          "base_uri": "https://localhost:8080/",
          "height": 35
        }
      },
      "source": [
        "MAX_SEQUENCE_LENGTH = int(df.review_length.quantile([0.99]).values[0])\n",
        "MAX_SEQUENCE_LENGTH"
      ],
      "execution_count": 17,
      "outputs": [
        {
          "output_type": "execute_result",
          "data": {
            "text/plain": [
              "186"
            ]
          },
          "metadata": {
            "tags": []
          },
          "execution_count": 17
        }
      ]
    },
    {
      "cell_type": "code",
      "metadata": {
        "id": "W9HZDo9Lbna9",
        "colab_type": "code",
        "colab": {}
      },
      "source": [
        "# pad dataset to a maximum review length in words\n",
        "X_train = sequence.pad_sequences(train_sequences, maxlen=MAX_SEQUENCE_LENGTH)\n",
        "X_test = sequence.pad_sequences(test_sequences, maxlen=MAX_SEQUENCE_LENGTH)"
      ],
      "execution_count": 0,
      "outputs": []
    },
    {
      "cell_type": "markdown",
      "metadata": {
        "id": "F6YI8EiNb5CF",
        "colab_type": "text"
      },
      "source": [
        ""
      ]
    },
    {
      "cell_type": "code",
      "metadata": {
        "id": "_yP1USpSJXh9",
        "colab_type": "code",
        "outputId": "0a2c163c-9861-48fe-afdb-eb9f7362c3f8",
        "colab": {
          "base_uri": "https://localhost:8080/",
          "height": 329
        }
      },
      "source": [
        "X_train[:1]"
      ],
      "execution_count": 19,
      "outputs": [
        {
          "output_type": "execute_result",
          "data": {
            "text/plain": [
              "array([[   0,    0,    0,    0,    0,    0,    0,    0,    0,    0,    0,\n",
              "           0,    0,    0,    0,    0,    0,    0,    0,    0,    0,    0,\n",
              "           0,    0,    0,    0,    0,    0,    0,    0,    0,    0,    0,\n",
              "           0,    0,    0,    0,    0,    0,    0,    0,    0,    0,    0,\n",
              "           0,    0,    0,    0,    0,    0,    0,    0,    0,    0,    0,\n",
              "           0,    0,    0,    0,    0,    0,    0,    0,    0,    0,    0,\n",
              "           0,    0,    0,    0,    0,    0,    0,    0,    0,    0,    0,\n",
              "           0,    0,    0,    0,    0,    0,    0,    0,    0,    0,    0,\n",
              "           0,    0,    0,    0,    0,    0,    0,    0,    0,    0,    0,\n",
              "           0,    0,    0,    0,    0,    0,    0,    0,    0,    0,    0,\n",
              "           0,    0,    0,    0,    0,    0,    0,    0,    0,    0,    0,\n",
              "           0,    0,    0,    0,    0,    0,    0,    0,    0,    0,    0,\n",
              "           0,    0,    0,    0,    0,    0,    0,    0,    0,    0,    0,\n",
              "           0,    0,    0,    0,    0,    0,    0,    0,    0,    0,    0,\n",
              "           0,    0,    0,    0,    0,   20,   24,   16,   11,    1,   21,\n",
              "        2629,  398,  710,   67,  341,   30, 2290,  153,  140,   13,    1,\n",
              "          28,  186,  396,   20,   16,   93,  370, 1346,  408,  992]],\n",
              "      dtype=int32)"
            ]
          },
          "metadata": {
            "tags": []
          },
          "execution_count": 19
        }
      ]
    },
    {
      "cell_type": "code",
      "metadata": {
        "id": "lvkxqTmcJXiA",
        "colab_type": "code",
        "outputId": "5aef89af-c919-48a5-c3a8-f36748828e3d",
        "colab": {
          "base_uri": "https://localhost:8080/",
          "height": 121
        }
      },
      "source": [
        "# this is our star rating column\n",
        "rating.head()"
      ],
      "execution_count": 20,
      "outputs": [
        {
          "output_type": "execute_result",
          "data": {
            "text/plain": [
              "0    5\n",
              "1    5\n",
              "2    5\n",
              "3    5\n",
              "4    3\n",
              "Name: star_rating, dtype: int64"
            ]
          },
          "metadata": {
            "tags": []
          },
          "execution_count": 20
        }
      ]
    },
    {
      "cell_type": "markdown",
      "metadata": {
        "id": "qydtUY2MQF2H",
        "colab_type": "text"
      },
      "source": [
        "**We are going to run this twice with identical networks. The first will have embedding size of 32. The second will have embedding size of 300. And we will compare results later*"
      ]
    },
    {
      "cell_type": "code",
      "metadata": {
        "id": "LxDcAouddq88",
        "colab_type": "code",
        "colab": {}
      },
      "source": [
        "EMBED_SIZE = 32\n",
        "EPOCHS  = 50\n",
        "BATCH_SIZE = 128\n",
        "VOCAB_SIZE = len(t.word_counts)+1\n"
      ],
      "execution_count": 0,
      "outputs": []
    },
    {
      "cell_type": "code",
      "metadata": {
        "id": "653DtCuBJXiF",
        "colab_type": "code",
        "outputId": "2c124c42-5236-4634-90e9-6426e516015e",
        "colab": {
          "base_uri": "https://localhost:8080/",
          "height": 263
        }
      },
      "source": [
        "model = Sequential()\n",
        "model.add(Embedding(VOCAB_SIZE, EMBED_SIZE, input_length=MAX_SEQUENCE_LENGTH))\n",
        "model.add(Conv1D(filters=32, kernel_size=3, padding='same', activation='relu'))\n",
        "model.add(MaxPooling1D(pool_size=2))\n",
        "model.add(Flatten())\n",
        "model.add(Dense(250, activation='relu'))\n",
        "model.add(Dense(5, activation='softmax'))\n",
        "model.compile(loss='categorical_crossentropy', optimizer='adam', metrics=['accuracy'])\n"
      ],
      "execution_count": 22,
      "outputs": [
        {
          "output_type": "stream",
          "text": [
            "WARNING: Logging before flag parsing goes to stderr.\n",
            "W0722 06:30:45.124881 140649388787584 deprecation_wrapper.py:119] From /usr/local/lib/python3.6/dist-packages/keras/backend/tensorflow_backend.py:74: The name tf.get_default_graph is deprecated. Please use tf.compat.v1.get_default_graph instead.\n",
            "\n",
            "W0722 06:30:45.128934 140649388787584 deprecation_wrapper.py:119] From /usr/local/lib/python3.6/dist-packages/keras/backend/tensorflow_backend.py:517: The name tf.placeholder is deprecated. Please use tf.compat.v1.placeholder instead.\n",
            "\n",
            "W0722 06:30:45.132674 140649388787584 deprecation_wrapper.py:119] From /usr/local/lib/python3.6/dist-packages/keras/backend/tensorflow_backend.py:4138: The name tf.random_uniform is deprecated. Please use tf.random.uniform instead.\n",
            "\n",
            "W0722 06:30:45.175050 140649388787584 deprecation_wrapper.py:119] From /usr/local/lib/python3.6/dist-packages/keras/backend/tensorflow_backend.py:3976: The name tf.nn.max_pool is deprecated. Please use tf.nn.max_pool2d instead.\n",
            "\n",
            "W0722 06:30:45.210619 140649388787584 deprecation_wrapper.py:119] From /usr/local/lib/python3.6/dist-packages/keras/optimizers.py:790: The name tf.train.Optimizer is deprecated. Please use tf.compat.v1.train.Optimizer instead.\n",
            "\n",
            "W0722 06:30:45.235320 140649388787584 deprecation_wrapper.py:119] From /usr/local/lib/python3.6/dist-packages/keras/backend/tensorflow_backend.py:3295: The name tf.log is deprecated. Please use tf.math.log instead.\n",
            "\n"
          ],
          "name": "stderr"
        }
      ]
    },
    {
      "cell_type": "code",
      "metadata": {
        "id": "iZitdxXPJXiI",
        "colab_type": "code",
        "outputId": "092b9a75-9317-4ee3-ce7f-54dd76b17c53",
        "colab": {
          "base_uri": "https://localhost:8080/",
          "height": 364
        }
      },
      "source": [
        "print(model.summary())"
      ],
      "execution_count": 23,
      "outputs": [
        {
          "output_type": "stream",
          "text": [
            "_________________________________________________________________\n",
            "Layer (type)                 Output Shape              Param #   \n",
            "=================================================================\n",
            "embedding_1 (Embedding)      (None, 186, 32)           1305248   \n",
            "_________________________________________________________________\n",
            "conv1d_1 (Conv1D)            (None, 186, 32)           3104      \n",
            "_________________________________________________________________\n",
            "max_pooling1d_1 (MaxPooling1 (None, 93, 32)            0         \n",
            "_________________________________________________________________\n",
            "flatten_1 (Flatten)          (None, 2976)              0         \n",
            "_________________________________________________________________\n",
            "dense_1 (Dense)              (None, 250)               744250    \n",
            "_________________________________________________________________\n",
            "dense_2 (Dense)              (None, 5)                 1255      \n",
            "=================================================================\n",
            "Total params: 2,053,857\n",
            "Trainable params: 2,053,857\n",
            "Non-trainable params: 0\n",
            "_________________________________________________________________\n",
            "None\n"
          ],
          "name": "stdout"
        }
      ]
    },
    {
      "cell_type": "code",
      "metadata": {
        "id": "RqLc7s0BJXiK",
        "colab_type": "code",
        "outputId": "503862c0-1d74-4e94-e8b2-25f4de9447ec",
        "colab": {
          "base_uri": "https://localhost:8080/",
          "height": 745
        }
      },
      "source": [
        "SVG(model_to_dot(model, show_shapes=True, show_layer_names=False, \n",
        "                 rankdir='TB').create(prog='dot', format='svg'))"
      ],
      "execution_count": 24,
      "outputs": [
        {
          "output_type": "execute_result",
          "data": {
            "text/plain": [
              "<IPython.core.display.SVG object>"
            ],
            "image/svg+xml": "<svg height=\"543pt\" viewBox=\"0.00 0.00 283.00 543.00\" width=\"283pt\" xmlns=\"http://www.w3.org/2000/svg\" xmlns:xlink=\"http://www.w3.org/1999/xlink\">\n<g class=\"graph\" id=\"graph0\" transform=\"scale(1 1) rotate(0) translate(4 539)\">\n<title>G</title>\n<polygon fill=\"#ffffff\" points=\"-4,4 -4,-539 279,-539 279,4 -4,4\" stroke=\"transparent\"/>\n<!-- 140648799042584 -->\n<g class=\"node\" id=\"node1\">\n<title>140648799042584</title>\n<polygon fill=\"none\" points=\"11.5,-415.5 11.5,-461.5 263.5,-461.5 263.5,-415.5 11.5,-415.5\" stroke=\"#000000\"/>\n<text fill=\"#000000\" font-family=\"Times,serif\" font-size=\"14.00\" text-anchor=\"middle\" x=\"53.5\" y=\"-434.8\">Embedding</text>\n<polyline fill=\"none\" points=\"95.5,-415.5 95.5,-461.5 \" stroke=\"#000000\"/>\n<text fill=\"#000000\" font-family=\"Times,serif\" font-size=\"14.00\" text-anchor=\"middle\" x=\"124.5\" y=\"-446.3\">input:</text>\n<polyline fill=\"none\" points=\"95.5,-438.5 153.5,-438.5 \" stroke=\"#000000\"/>\n<text fill=\"#000000\" font-family=\"Times,serif\" font-size=\"14.00\" text-anchor=\"middle\" x=\"124.5\" y=\"-423.3\">output:</text>\n<polyline fill=\"none\" points=\"153.5,-415.5 153.5,-461.5 \" stroke=\"#000000\"/>\n<text fill=\"#000000\" font-family=\"Times,serif\" font-size=\"14.00\" text-anchor=\"middle\" x=\"208.5\" y=\"-446.3\">(None, 186)</text>\n<polyline fill=\"none\" points=\"153.5,-438.5 263.5,-438.5 \" stroke=\"#000000\"/>\n<text fill=\"#000000\" font-family=\"Times,serif\" font-size=\"14.00\" text-anchor=\"middle\" x=\"208.5\" y=\"-423.3\">(None, 186, 32)</text>\n</g>\n<!-- 140648799043312 -->\n<g class=\"node\" id=\"node2\">\n<title>140648799043312</title>\n<polygon fill=\"none\" points=\"20,-332.5 20,-378.5 255,-378.5 255,-332.5 20,-332.5\" stroke=\"#000000\"/>\n<text fill=\"#000000\" font-family=\"Times,serif\" font-size=\"14.00\" text-anchor=\"middle\" x=\"53.5\" y=\"-351.8\">Conv1D</text>\n<polyline fill=\"none\" points=\"87,-332.5 87,-378.5 \" stroke=\"#000000\"/>\n<text fill=\"#000000\" font-family=\"Times,serif\" font-size=\"14.00\" text-anchor=\"middle\" x=\"116\" y=\"-363.3\">input:</text>\n<polyline fill=\"none\" points=\"87,-355.5 145,-355.5 \" stroke=\"#000000\"/>\n<text fill=\"#000000\" font-family=\"Times,serif\" font-size=\"14.00\" text-anchor=\"middle\" x=\"116\" y=\"-340.3\">output:</text>\n<polyline fill=\"none\" points=\"145,-332.5 145,-378.5 \" stroke=\"#000000\"/>\n<text fill=\"#000000\" font-family=\"Times,serif\" font-size=\"14.00\" text-anchor=\"middle\" x=\"200\" y=\"-363.3\">(None, 186, 32)</text>\n<polyline fill=\"none\" points=\"145,-355.5 255,-355.5 \" stroke=\"#000000\"/>\n<text fill=\"#000000\" font-family=\"Times,serif\" font-size=\"14.00\" text-anchor=\"middle\" x=\"200\" y=\"-340.3\">(None, 186, 32)</text>\n</g>\n<!-- 140648799042584&#45;&gt;140648799043312 -->\n<g class=\"edge\" id=\"edge2\">\n<title>140648799042584-&gt;140648799043312</title>\n<path d=\"M137.5,-415.3799C137.5,-407.1745 137.5,-397.7679 137.5,-388.8786\" fill=\"none\" stroke=\"#000000\"/>\n<polygon fill=\"#000000\" points=\"141.0001,-388.784 137.5,-378.784 134.0001,-388.784 141.0001,-388.784\" stroke=\"#000000\"/>\n</g>\n<!-- 140647568361400 -->\n<g class=\"node\" id=\"node3\">\n<title>140647568361400</title>\n<polygon fill=\"none\" points=\"0,-249.5 0,-295.5 275,-295.5 275,-249.5 0,-249.5\" stroke=\"#000000\"/>\n<text fill=\"#000000\" font-family=\"Times,serif\" font-size=\"14.00\" text-anchor=\"middle\" x=\"53.5\" y=\"-268.8\">MaxPooling1D</text>\n<polyline fill=\"none\" points=\"107,-249.5 107,-295.5 \" stroke=\"#000000\"/>\n<text fill=\"#000000\" font-family=\"Times,serif\" font-size=\"14.00\" text-anchor=\"middle\" x=\"136\" y=\"-280.3\">input:</text>\n<polyline fill=\"none\" points=\"107,-272.5 165,-272.5 \" stroke=\"#000000\"/>\n<text fill=\"#000000\" font-family=\"Times,serif\" font-size=\"14.00\" text-anchor=\"middle\" x=\"136\" y=\"-257.3\">output:</text>\n<polyline fill=\"none\" points=\"165,-249.5 165,-295.5 \" stroke=\"#000000\"/>\n<text fill=\"#000000\" font-family=\"Times,serif\" font-size=\"14.00\" text-anchor=\"middle\" x=\"220\" y=\"-280.3\">(None, 186, 32)</text>\n<polyline fill=\"none\" points=\"165,-272.5 275,-272.5 \" stroke=\"#000000\"/>\n<text fill=\"#000000\" font-family=\"Times,serif\" font-size=\"14.00\" text-anchor=\"middle\" x=\"220\" y=\"-257.3\">(None, 93, 32)</text>\n</g>\n<!-- 140648799043312&#45;&gt;140647568361400 -->\n<g class=\"edge\" id=\"edge3\">\n<title>140648799043312-&gt;140647568361400</title>\n<path d=\"M137.5,-332.3799C137.5,-324.1745 137.5,-314.7679 137.5,-305.8786\" fill=\"none\" stroke=\"#000000\"/>\n<polygon fill=\"#000000\" points=\"141.0001,-305.784 137.5,-295.784 134.0001,-305.784 141.0001,-305.784\" stroke=\"#000000\"/>\n</g>\n<!-- 140647568363192 -->\n<g class=\"node\" id=\"node4\">\n<title>140647568363192</title>\n<polygon fill=\"none\" points=\"29.5,-166.5 29.5,-212.5 245.5,-212.5 245.5,-166.5 29.5,-166.5\" stroke=\"#000000\"/>\n<text fill=\"#000000\" font-family=\"Times,serif\" font-size=\"14.00\" text-anchor=\"middle\" x=\"57.5\" y=\"-185.8\">Flatten</text>\n<polyline fill=\"none\" points=\"85.5,-166.5 85.5,-212.5 \" stroke=\"#000000\"/>\n<text fill=\"#000000\" font-family=\"Times,serif\" font-size=\"14.00\" text-anchor=\"middle\" x=\"114.5\" y=\"-197.3\">input:</text>\n<polyline fill=\"none\" points=\"85.5,-189.5 143.5,-189.5 \" stroke=\"#000000\"/>\n<text fill=\"#000000\" font-family=\"Times,serif\" font-size=\"14.00\" text-anchor=\"middle\" x=\"114.5\" y=\"-174.3\">output:</text>\n<polyline fill=\"none\" points=\"143.5,-166.5 143.5,-212.5 \" stroke=\"#000000\"/>\n<text fill=\"#000000\" font-family=\"Times,serif\" font-size=\"14.00\" text-anchor=\"middle\" x=\"194.5\" y=\"-197.3\">(None, 93, 32)</text>\n<polyline fill=\"none\" points=\"143.5,-189.5 245.5,-189.5 \" stroke=\"#000000\"/>\n<text fill=\"#000000\" font-family=\"Times,serif\" font-size=\"14.00\" text-anchor=\"middle\" x=\"194.5\" y=\"-174.3\">(None, 2976)</text>\n</g>\n<!-- 140647568361400&#45;&gt;140647568363192 -->\n<g class=\"edge\" id=\"edge4\">\n<title>140647568361400-&gt;140647568363192</title>\n<path d=\"M137.5,-249.3799C137.5,-241.1745 137.5,-231.7679 137.5,-222.8786\" fill=\"none\" stroke=\"#000000\"/>\n<polygon fill=\"#000000\" points=\"141.0001,-222.784 137.5,-212.784 134.0001,-222.784 141.0001,-222.784\" stroke=\"#000000\"/>\n</g>\n<!-- 140647568359888 -->\n<g class=\"node\" id=\"node5\">\n<title>140647568359888</title>\n<polygon fill=\"none\" points=\"35,-83.5 35,-129.5 240,-129.5 240,-83.5 35,-83.5\" stroke=\"#000000\"/>\n<text fill=\"#000000\" font-family=\"Times,serif\" font-size=\"14.00\" text-anchor=\"middle\" x=\"61\" y=\"-102.8\">Dense</text>\n<polyline fill=\"none\" points=\"87,-83.5 87,-129.5 \" stroke=\"#000000\"/>\n<text fill=\"#000000\" font-family=\"Times,serif\" font-size=\"14.00\" text-anchor=\"middle\" x=\"116\" y=\"-114.3\">input:</text>\n<polyline fill=\"none\" points=\"87,-106.5 145,-106.5 \" stroke=\"#000000\"/>\n<text fill=\"#000000\" font-family=\"Times,serif\" font-size=\"14.00\" text-anchor=\"middle\" x=\"116\" y=\"-91.3\">output:</text>\n<polyline fill=\"none\" points=\"145,-83.5 145,-129.5 \" stroke=\"#000000\"/>\n<text fill=\"#000000\" font-family=\"Times,serif\" font-size=\"14.00\" text-anchor=\"middle\" x=\"192.5\" y=\"-114.3\">(None, 2976)</text>\n<polyline fill=\"none\" points=\"145,-106.5 240,-106.5 \" stroke=\"#000000\"/>\n<text fill=\"#000000\" font-family=\"Times,serif\" font-size=\"14.00\" text-anchor=\"middle\" x=\"192.5\" y=\"-91.3\">(None, 250)</text>\n</g>\n<!-- 140647568363192&#45;&gt;140647568359888 -->\n<g class=\"edge\" id=\"edge5\">\n<title>140647568363192-&gt;140647568359888</title>\n<path d=\"M137.5,-166.3799C137.5,-158.1745 137.5,-148.7679 137.5,-139.8786\" fill=\"none\" stroke=\"#000000\"/>\n<polygon fill=\"#000000\" points=\"141.0001,-139.784 137.5,-129.784 134.0001,-139.784 141.0001,-139.784\" stroke=\"#000000\"/>\n</g>\n<!-- 140647568371496 -->\n<g class=\"node\" id=\"node6\">\n<title>140647568371496</title>\n<polygon fill=\"none\" points=\"39,-.5 39,-46.5 236,-46.5 236,-.5 39,-.5\" stroke=\"#000000\"/>\n<text fill=\"#000000\" font-family=\"Times,serif\" font-size=\"14.00\" text-anchor=\"middle\" x=\"65\" y=\"-19.8\">Dense</text>\n<polyline fill=\"none\" points=\"91,-.5 91,-46.5 \" stroke=\"#000000\"/>\n<text fill=\"#000000\" font-family=\"Times,serif\" font-size=\"14.00\" text-anchor=\"middle\" x=\"120\" y=\"-31.3\">input:</text>\n<polyline fill=\"none\" points=\"91,-23.5 149,-23.5 \" stroke=\"#000000\"/>\n<text fill=\"#000000\" font-family=\"Times,serif\" font-size=\"14.00\" text-anchor=\"middle\" x=\"120\" y=\"-8.3\">output:</text>\n<polyline fill=\"none\" points=\"149,-.5 149,-46.5 \" stroke=\"#000000\"/>\n<text fill=\"#000000\" font-family=\"Times,serif\" font-size=\"14.00\" text-anchor=\"middle\" x=\"192.5\" y=\"-31.3\">(None, 250)</text>\n<polyline fill=\"none\" points=\"149,-23.5 236,-23.5 \" stroke=\"#000000\"/>\n<text fill=\"#000000\" font-family=\"Times,serif\" font-size=\"14.00\" text-anchor=\"middle\" x=\"192.5\" y=\"-8.3\">(None, 5)</text>\n</g>\n<!-- 140647568359888&#45;&gt;140647568371496 -->\n<g class=\"edge\" id=\"edge6\">\n<title>140647568359888-&gt;140647568371496</title>\n<path d=\"M137.5,-83.3799C137.5,-75.1745 137.5,-65.7679 137.5,-56.8786\" fill=\"none\" stroke=\"#000000\"/>\n<polygon fill=\"#000000\" points=\"141.0001,-56.784 137.5,-46.784 134.0001,-56.784 141.0001,-56.784\" stroke=\"#000000\"/>\n</g>\n<!-- 140647568361624 -->\n<g class=\"node\" id=\"node7\">\n<title>140647568361624</title>\n<polygon fill=\"none\" points=\"73,-498.5 73,-534.5 202,-534.5 202,-498.5 73,-498.5\" stroke=\"#000000\"/>\n<text fill=\"#000000\" font-family=\"Times,serif\" font-size=\"14.00\" text-anchor=\"middle\" x=\"137.5\" y=\"-512.8\">140647568361624</text>\n</g>\n<!-- 140647568361624&#45;&gt;140648799042584 -->\n<g class=\"edge\" id=\"edge1\">\n<title>140647568361624-&gt;140648799042584</title>\n<path d=\"M137.5,-498.4092C137.5,-490.4308 137.5,-480.795 137.5,-471.606\" fill=\"none\" stroke=\"#000000\"/>\n<polygon fill=\"#000000\" points=\"141.0001,-471.5333 137.5,-461.5333 134.0001,-471.5334 141.0001,-471.5333\" stroke=\"#000000\"/>\n</g>\n</g>\n</svg>"
          },
          "metadata": {
            "tags": []
          },
          "execution_count": 24
        }
      ]
    },
    {
      "cell_type": "code",
      "metadata": {
        "scrolled": false,
        "id": "60eC_0fRJXiQ",
        "colab_type": "code",
        "outputId": "e2806850-da45-476b-997a-a09f7f6a4d03",
        "colab": {
          "base_uri": "https://localhost:8080/",
          "height": 297
        }
      },
      "source": [
        "early_stop = EarlyStopping(monitor='val_loss', patience=2, verbose=1)\n",
        "network_history = model.fit(X_train, y_train,\n",
        "                      batch_size=BATCH_SIZE,\n",
        "                      epochs=EPOCHS,\n",
        "                      verbose=1,\n",
        "                      validation_split=0.2,\n",
        "                      callbacks=[early_stop])"
      ],
      "execution_count": 25,
      "outputs": [
        {
          "output_type": "stream",
          "text": [
            "W0722 06:30:45.456428 140649388787584 deprecation.py:323] From /usr/local/lib/python3.6/dist-packages/tensorflow/python/ops/math_grad.py:1250: add_dispatch_support.<locals>.wrapper (from tensorflow.python.ops.array_ops) is deprecated and will be removed in a future version.\n",
            "Instructions for updating:\n",
            "Use tf.where in 2.0, which has the same broadcast rule as np.where\n",
            "W0722 06:30:45.543176 140649388787584 deprecation_wrapper.py:119] From /usr/local/lib/python3.6/dist-packages/keras/backend/tensorflow_backend.py:986: The name tf.assign_add is deprecated. Please use tf.compat.v1.assign_add instead.\n",
            "\n"
          ],
          "name": "stderr"
        },
        {
          "output_type": "stream",
          "text": [
            "Train on 67225 samples, validate on 16807 samples\n",
            "Epoch 1/50\n",
            "67225/67225 [==============================] - 7s 99us/step - loss: 0.9738 - acc: 0.6264 - val_loss: 0.8772 - val_acc: 0.6595\n",
            "Epoch 2/50\n",
            "67225/67225 [==============================] - 3s 46us/step - loss: 0.7658 - acc: 0.7006 - val_loss: 0.8704 - val_acc: 0.6693\n",
            "Epoch 3/50\n",
            "67225/67225 [==============================] - 3s 45us/step - loss: 0.6588 - acc: 0.7436 - val_loss: 0.9090 - val_acc: 0.6650\n",
            "Epoch 4/50\n",
            "67225/67225 [==============================] - 3s 46us/step - loss: 0.5471 - acc: 0.7918 - val_loss: 1.0224 - val_acc: 0.6462\n",
            "Epoch 00004: early stopping\n"
          ],
          "name": "stdout"
        }
      ]
    },
    {
      "cell_type": "code",
      "metadata": {
        "id": "2VHBrsPjJXiS",
        "colab_type": "code",
        "outputId": "dbf57e5f-ba3f-4527-8eda-eef44ab932b5",
        "colab": {
          "base_uri": "https://localhost:8080/",
          "height": 52
        }
      },
      "source": [
        "scores = model.evaluate(X_test, y_test, verbose=1)\n",
        "print(\"Accuracy: %.2f%%\" % (scores[1]*100))\n"
      ],
      "execution_count": 26,
      "outputs": [
        {
          "output_type": "stream",
          "text": [
            "28011/28011 [==============================] - 1s 49us/step\n",
            "Accuracy: 64.78%\n"
          ],
          "name": "stdout"
        }
      ]
    },
    {
      "cell_type": "code",
      "metadata": {
        "id": "CsBholvaJXiU",
        "colab_type": "code",
        "outputId": "cd4729c4-c69c-442a-ac49-8587fd13a4fe",
        "colab": {
          "base_uri": "https://localhost:8080/",
          "height": 565
        }
      },
      "source": [
        "import matplotlib.pyplot as plt\n",
        "%matplotlib inline\n",
        "\n",
        "def plot_history(network_history):\n",
        "    plt.figure()\n",
        "    plt.xlabel('Epochs')\n",
        "    plt.ylabel('Loss')\n",
        "    plt.plot(network_history.history['loss'])\n",
        "    plt.plot(network_history.history['val_loss'])\n",
        "    plt.legend(['Training', 'Validation'])\n",
        "\n",
        "    plt.figure()\n",
        "    plt.xlabel('Epochs')\n",
        "    plt.ylabel('Accuracy')\n",
        "    plt.plot(network_history.history['acc'])\n",
        "    plt.plot(network_history.history['val_acc'])\n",
        "    plt.legend(['Training', 'Validation'], loc='lower right')\n",
        "    plt.show()\n",
        "\n",
        "plot_history(network_history)"
      ],
      "execution_count": 27,
      "outputs": [
        {
          "output_type": "display_data",
          "data": {
            "image/png": "[encoded data removed]",
            "text/plain": [
              "<Figure size 432x288 with 1 Axes>"
            ]
          },
          "metadata": {
            "tags": []
          }
        },
        {
          "output_type": "display_data",
          "data": {
            "image/png": "[encoded data removed]",
            "text/plain": [
              "<Figure size 432x288 with 1 Axes>"
            ]
          },
          "metadata": {
            "tags": []
          }
        }
      ]
    },
    {
      "cell_type": "code",
      "metadata": {
        "id": "PQjt_pC_JXiX",
        "colab_type": "code",
        "colab": {}
      },
      "source": [
        "y_predict = model.predict(X_test)"
      ],
      "execution_count": 0,
      "outputs": []
    },
    {
      "cell_type": "code",
      "metadata": {
        "id": "x76NhB9rJXia",
        "colab_type": "code",
        "outputId": "64e36443-6b12-45b9-d1c1-6574b5188a70",
        "colab": {
          "base_uri": "https://localhost:8080/",
          "height": 202
        }
      },
      "source": [
        "y_predict_df = pd.DataFrame(y_predict)\n",
        "y_predict_df.head()"
      ],
      "execution_count": 29,
      "outputs": [
        {
          "output_type": "execute_result",
          "data": {
            "text/html": [
              "<div>\n",
              "<style scoped>\n",
              "    .dataframe tbody tr th:only-of-type {\n",
              "        vertical-align: middle;\n",
              "    }\n",
              "\n",
              "    .dataframe tbody tr th {\n",
              "        vertical-align: top;\n",
              "    }\n",
              "\n",
              "    .dataframe thead th {\n",
              "        text-align: right;\n",
              "    }\n",
              "</style>\n",
              "<table border=\"1\" class=\"dataframe\">\n",
              "  <thead>\n",
              "    <tr style=\"text-align: right;\">\n",
              "      <th></th>\n",
              "      <th>0</th>\n",
              "      <th>1</th>\n",
              "      <th>2</th>\n",
              "      <th>3</th>\n",
              "      <th>4</th>\n",
              "    </tr>\n",
              "  </thead>\n",
              "  <tbody>\n",
              "    <tr>\n",
              "      <th>0</th>\n",
              "      <td>0.000010</td>\n",
              "      <td>0.000130</td>\n",
              "      <td>0.003002</td>\n",
              "      <td>0.158835</td>\n",
              "      <td>0.838024</td>\n",
              "    </tr>\n",
              "    <tr>\n",
              "      <th>1</th>\n",
              "      <td>0.013354</td>\n",
              "      <td>0.025291</td>\n",
              "      <td>0.094243</td>\n",
              "      <td>0.340273</td>\n",
              "      <td>0.526839</td>\n",
              "    </tr>\n",
              "    <tr>\n",
              "      <th>2</th>\n",
              "      <td>0.000058</td>\n",
              "      <td>0.000287</td>\n",
              "      <td>0.006306</td>\n",
              "      <td>0.120442</td>\n",
              "      <td>0.872907</td>\n",
              "    </tr>\n",
              "    <tr>\n",
              "      <th>3</th>\n",
              "      <td>0.020956</td>\n",
              "      <td>0.006326</td>\n",
              "      <td>0.034162</td>\n",
              "      <td>0.087050</td>\n",
              "      <td>0.851506</td>\n",
              "    </tr>\n",
              "    <tr>\n",
              "      <th>4</th>\n",
              "      <td>0.000264</td>\n",
              "      <td>0.000192</td>\n",
              "      <td>0.003545</td>\n",
              "      <td>0.068431</td>\n",
              "      <td>0.927567</td>\n",
              "    </tr>\n",
              "  </tbody>\n",
              "</table>\n",
              "</div>"
            ],
            "text/plain": [
              "          0         1         2         3         4\n",
              "0  0.000010  0.000130  0.003002  0.158835  0.838024\n",
              "1  0.013354  0.025291  0.094243  0.340273  0.526839\n",
              "2  0.000058  0.000287  0.006306  0.120442  0.872907\n",
              "3  0.020956  0.006326  0.034162  0.087050  0.851506\n",
              "4  0.000264  0.000192  0.003545  0.068431  0.927567"
            ]
          },
          "metadata": {
            "tags": []
          },
          "execution_count": 29
        }
      ]
    },
    {
      "cell_type": "code",
      "metadata": {
        "id": "woC_Rgk4JXid",
        "colab_type": "code",
        "colab": {}
      },
      "source": [
        "y_predict_unencoded = [row.idxmax() + 1 for index, row in y_predict_df.iterrows()]"
      ],
      "execution_count": 0,
      "outputs": []
    },
    {
      "cell_type": "code",
      "metadata": {
        "id": "P0xGW_dOJXie",
        "colab_type": "code",
        "colab": {
          "base_uri": "https://localhost:8080/",
          "height": 35
        },
        "outputId": "3d3b1c1e-f4f2-4a25-9d73-62f5b458b461"
      },
      "source": [
        "# unencode the predictions back into it's classes\n",
        "y_test_df = pd.DataFrame(y_test)\n",
        "y_test_unencoded = [row.idxmax() + 1 for index, row in y_test_df.iterrows()]\n",
        "y_test_unencoded[:3]"
      ],
      "execution_count": 31,
      "outputs": [
        {
          "output_type": "execute_result",
          "data": {
            "text/plain": [
              "[5, 5, 4]"
            ]
          },
          "metadata": {
            "tags": []
          },
          "execution_count": 31
        }
      ]
    },
    {
      "cell_type": "code",
      "metadata": {
        "id": "QyaOAdhqJXih",
        "colab_type": "code",
        "outputId": "3f06cf85-2064-415e-932c-e7b745bf0d6a",
        "colab": {
          "base_uri": "https://localhost:8080/",
          "height": 104
        }
      },
      "source": [
        "confusion_matrix(y_test_unencoded, y_predict_unencoded)"
      ],
      "execution_count": 32,
      "outputs": [
        {
          "output_type": "execute_result",
          "data": {
            "text/plain": [
              "array([[ 3134,   196,   300,    92,   246],\n",
              "       [  892,   186,   426,   159,   208],\n",
              "       [  557,   168,   756,   516,   534],\n",
              "       [  195,    64,   588,  1487,  2418],\n",
              "       [  292,    51,   346,  1617, 12583]])"
            ]
          },
          "metadata": {
            "tags": []
          },
          "execution_count": 32
        }
      ]
    },
    {
      "cell_type": "code",
      "metadata": {
        "id": "6emER3oBJXil",
        "colab_type": "code",
        "outputId": "f97d9fdc-ce32-4bb5-db72-2c8240c910f1",
        "colab": {
          "base_uri": "https://localhost:8080/",
          "height": 225
        }
      },
      "source": [
        "print(classification_report(y_test_unencoded, y_predict_unencoded))"
      ],
      "execution_count": 33,
      "outputs": [
        {
          "output_type": "stream",
          "text": [
            "              precision    recall  f1-score   support\n",
            "\n",
            "           1       0.62      0.79      0.69      3968\n",
            "           2       0.28      0.10      0.15      1871\n",
            "           3       0.31      0.30      0.31      2531\n",
            "           4       0.38      0.31      0.34      4752\n",
            "           5       0.79      0.85      0.82     14889\n",
            "\n",
            "    accuracy                           0.65     28011\n",
            "   macro avg       0.48      0.47      0.46     28011\n",
            "weighted avg       0.62      0.65      0.63     28011\n",
            "\n"
          ],
          "name": "stdout"
        }
      ]
    },
    {
      "cell_type": "code",
      "metadata": {
        "id": "J2xF1HQabEPq",
        "colab_type": "code",
        "colab": {}
      },
      "source": [
        "from sklearn.metrics import roc_curve, auc\n",
        "import numpy as np\n",
        "\n",
        "def plot_roc_auc(y_test, y_score):\n",
        "  n_classes = 5\n",
        "  # to compute the micro RUC/AUC, we need binariized labels (y_test) and probability of predictions y_predict_df\n",
        "\n",
        "  fpr = {}\n",
        "  tpr = {}\n",
        "  roc_auc = {}\n",
        "  for i in np.arange(0, 5):\n",
        "      fpr[i], tpr[i], _ = roc_curve(y_test[:, i], y_score[i].to_list())\n",
        "      roc_auc[f'auc_{i + 1}'] = auc(fpr[i], tpr[i])\n",
        "\n",
        "\n",
        "  # Compute micro-average ROC curve and ROC area\n",
        "  fpr[\"micro\"], tpr[\"micro\"], _ = roc_curve(y_test.ravel(), y_score.values.ravel())\n",
        "  roc_auc[\"auc_micro\"] = auc(fpr[\"micro\"], tpr[\"micro\"])\n",
        "\n",
        "\n",
        "  # Compute macro-average ROC curve and ROC area\n",
        "\n",
        "  # First aggregate all false positive rates\n",
        "  all_fpr = np.unique(np.concatenate([fpr[i] for i in range(n_classes)]))\n",
        "\n",
        "  # Then interpolate all ROC curves at this points\n",
        "  mean_tpr = np.zeros_like(all_fpr)\n",
        "  for i in range(n_classes):\n",
        "      mean_tpr += np.interp(all_fpr, fpr[i], tpr[i])\n",
        "\n",
        "  # Finally aveage it and compute AUC\n",
        "  mean_tpr /= n_classes\n",
        "\n",
        "  fpr[\"macro\"] = all_fpr\n",
        "  tpr[\"macro\"] = mean_tpr\n",
        "  roc_auc[\"auc_macro\"] = auc(fpr[\"macro\"], tpr[\"macro\"])\n",
        "  \n",
        "  for i in np.arange(0, 5):\n",
        "    plt.plot(fpr[i], tpr[i], label=f'Rating {i+1}')\n",
        "  plt.plot(fpr[\"micro\"], tpr[\"micro\"], label=\"Micro Average ROC\", \n",
        "           linestyle=\":\", linewidth=4, color='pink')\n",
        "#   a.lines[5].set_linestyle(\":\")\n",
        "  plt.plot(fpr[\"macro\"], tpr[\"macro\"], label=\"Macro Average ROC\", \n",
        "           linestyle=\":\", linewidth=4, color='black')\n",
        "#   a.lines[6].set_linestyle(\":\")\n",
        "  plt.plot([0, 1], [0, 1], color='navy', linestyle='--')\n",
        "#   a.lines[7].set_linestyle(\"--\")\n",
        "  \n",
        "  plt.legend(loc='lower right')\n",
        "  plt.xlabel('FPR')\n",
        "  plt.ylabel('TPR')\n",
        "  plt.title('ROC AUC')\n",
        "  \n",
        "  return roc_auc\n",
        "  "
      ],
      "execution_count": 0,
      "outputs": []
    },
    {
      "cell_type": "code",
      "metadata": {
        "id": "H12pYFCj1Hbn",
        "colab_type": "code",
        "colab": {
          "base_uri": "https://localhost:8080/",
          "height": 355
        },
        "outputId": "9468a5b0-1b6e-4b04-f915-84c40421daf7"
      },
      "source": [
        "# f, axis = plt.subplots(1, 1, figsize=(5, 5))\n",
        "fig = plt.figure(figsize=(5,5))\n",
        "roc_auc =  plot_roc_auc(y_test, y_predict_df)"
      ],
      "execution_count": 35,
      "outputs": [
        {
          "output_type": "display_data",
          "data": {
            "image/png": "[encoded data removed]",
            "text/plain": [
              "<Figure size 360x360 with 1 Axes>"
            ]
          },
          "metadata": {
            "tags": []
          }
        }
      ]
    },
    {
      "cell_type": "code",
      "metadata": {
        "id": "S-WAgwC60RJ5",
        "colab_type": "code",
        "colab": {
          "base_uri": "https://localhost:8080/",
          "height": 139
        },
        "outputId": "3cd9549a-5a24-4c02-d060-a5403fb7d3d6"
      },
      "source": [
        "roc_auc"
      ],
      "execution_count": 36,
      "outputs": [
        {
          "output_type": "execute_result",
          "data": {
            "text/plain": [
              "{'auc_1': 0.9415715494366276,\n",
              " 'auc_2': 0.8454618104953919,\n",
              " 'auc_3': 0.8003597541195611,\n",
              " 'auc_4': 0.7272127870417779,\n",
              " 'auc_5': 0.8706956576465981,\n",
              " 'auc_macro': 0.8370835082194228,\n",
              " 'auc_micro': 0.8948419842943809}"
            ]
          },
          "metadata": {
            "tags": []
          },
          "execution_count": 36
        }
      ]
    },
    {
      "cell_type": "markdown",
      "metadata": {
        "id": "VQ4GRUTq6t6e",
        "colab_type": "text"
      },
      "source": [
        "**Save off various files**"
      ]
    },
    {
      "cell_type": "code",
      "metadata": {
        "id": "VjW8V1MR61kJ",
        "colab_type": "code",
        "colab": {}
      },
      "source": [
        "directory, INBASENAME = fu.get_dir_basename(DATA_FILE)\n",
        "DESCRIPTION = f\"{INBASENAME}-nosmote-{MODEL_NAME}-{MAX_SEQUENCE_LENGTH}-{FEATURE_COLUMN}\"\n",
        "MODEL_FILE = f\"{DRIVE_DIR}/models/{datetime.now().strftime(DATE_FORMAT)}-{DESCRIPTION}.h5\"\n",
        "NETWORK_HISTORY_FILE = f'{DRIVE_DIR}/models/{datetime.now().strftime(DATE_FORMAT)}-{DESCRIPTION}-history.pkl'\n",
        "REPORT_FILE = f\"{DRIVE_DIR}/reports/{datetime.now().strftime(DATE_FORMAT)}-CNN_notebook_protype-report.csv\"\n",
        "TOKENIZER_FILE = f'{DRIVE_DIR}/models/{datetime.now().strftime(DATE_FORMAT)}-{DESCRIPTION}-tokenizer.pkl'\n"
      ],
      "execution_count": 0,
      "outputs": []
    },
    {
      "cell_type": "code",
      "metadata": {
        "id": "GjVjezXPJXin",
        "colab_type": "code",
        "colab": {}
      },
      "source": [
        "model.save(MODEL_FILE)"
      ],
      "execution_count": 0,
      "outputs": []
    },
    {
      "cell_type": "markdown",
      "metadata": {
        "id": "xzh8GXF7JXim",
        "colab_type": "text"
      },
      "source": [
        "# Save off various files"
      ]
    },
    {
      "cell_type": "code",
      "metadata": {
        "id": "Cad0ykC2JXip",
        "colab_type": "code",
        "colab": {}
      },
      "source": [
        "pickle.dump(network_history, open(NETWORK_HISTORY_FILE, \"wb\"))"
      ],
      "execution_count": 0,
      "outputs": []
    },
    {
      "cell_type": "code",
      "metadata": {
        "id": "yrGApZiwgRgR",
        "colab_type": "code",
        "colab": {}
      },
      "source": [
        "pickle.dump(t, open(TOKENIZER_FILE, \"wb\"))"
      ],
      "execution_count": 0,
      "outputs": []
    },
    {
      "cell_type": "code",
      "metadata": {
        "id": "oz4FzsvmJXit",
        "colab_type": "code",
        "colab": {}
      },
      "source": [
        "# saving off report in the same format as other report just in case we want to compare for later\n",
        "flattened = {}\n",
        "flattened = du.add_dict_to_dict(flattened, classification_report(y_test_unencoded, y_predict_unencoded, output_dict=True))\n",
        "flattened = du.add_dict_to_dict(flattened, roc_auc)\n",
        "flattened[\"confusion_matrix\"] = confusion_matrix(y_test_unencoded, y_predict_unencoded)\n",
        "flattened[\"description\"] = DESCRIPTION\n",
        "flattened[\"file\"] = DATA_FILE\n",
        "flattened[\"network_history_file\"] = NETWORK_HISTORY_FILE\n",
        "flattened[\"tokenizer_file\"] = TOKENIZER_FILE\n",
        "flattened[\"max_sequence_length\"] = MAX_SEQUENCE_LENGTH\n",
        "flattened[\"embedding\"] = EMBED_SIZE\n",
        "flattened[\"model_file\"] = MODEL_FILE\n",
        "flattened[\"model_name\"] = MODEL_NAME\n",
        "flattened[\"test_examples\"] = X_test.shape[0]\n",
        "flattened[\"test_features\"] = X_test.shape[1]\n",
        "flattened[\"train_examples\"] = X_train.shape[0]\n",
        "flattened[\"train_features\"] = X_train.shape[1]\n",
        "flattened[\"status\"] = \"success\"\n",
        "flattened[\"status_date\"] = datetime.now().strftime(TIME_FORMAT)\n"
      ],
      "execution_count": 0,
      "outputs": []
    },
    {
      "cell_type": "code",
      "metadata": {
        "id": "n_tWTK57JXiv",
        "colab_type": "code",
        "outputId": "67ccd5f2-0da3-47e9-e9db-ff005008738e",
        "colab": {
          "base_uri": "https://localhost:8080/",
          "height": 169
        }
      },
      "source": [
        "# check to see if report file exisits, if so load it and append\n",
        "exists = os.path.isfile(REPORT_FILE)\n",
        "if exists:\n",
        "    report_df = pd.read_csv(REPORT_FILE)\n",
        "else:\n",
        "    report_df = pd.DataFrame()\n",
        "    \n",
        "report_df = report_df.append(flattened, ignore_index=True)\n",
        "report_df.head(20)\n",
        "\n"
      ],
      "execution_count": 42,
      "outputs": [
        {
          "output_type": "execute_result",
          "data": {
            "text/html": [
              "<div>\n",
              "<style scoped>\n",
              "    .dataframe tbody tr th:only-of-type {\n",
              "        vertical-align: middle;\n",
              "    }\n",
              "\n",
              "    .dataframe tbody tr th {\n",
              "        vertical-align: top;\n",
              "    }\n",
              "\n",
              "    .dataframe thead th {\n",
              "        text-align: right;\n",
              "    }\n",
              "</style>\n",
              "<table border=\"1\" class=\"dataframe\">\n",
              "  <thead>\n",
              "    <tr style=\"text-align: right;\">\n",
              "      <th></th>\n",
              "      <th>1_f1-score</th>\n",
              "      <th>1_precision</th>\n",
              "      <th>1_recall</th>\n",
              "      <th>1_support</th>\n",
              "      <th>2_f1-score</th>\n",
              "      <th>2_precision</th>\n",
              "      <th>2_recall</th>\n",
              "      <th>2_support</th>\n",
              "      <th>3_f1-score</th>\n",
              "      <th>3_precision</th>\n",
              "      <th>3_recall</th>\n",
              "      <th>3_support</th>\n",
              "      <th>4_f1-score</th>\n",
              "      <th>4_precision</th>\n",
              "      <th>4_recall</th>\n",
              "      <th>4_support</th>\n",
              "      <th>5_f1-score</th>\n",
              "      <th>5_precision</th>\n",
              "      <th>5_recall</th>\n",
              "      <th>5_support</th>\n",
              "      <th>accuracy</th>\n",
              "      <th>auc_1</th>\n",
              "      <th>auc_2</th>\n",
              "      <th>auc_3</th>\n",
              "      <th>auc_4</th>\n",
              "      <th>auc_5</th>\n",
              "      <th>auc_macro</th>\n",
              "      <th>auc_micro</th>\n",
              "      <th>confusion_matrix</th>\n",
              "      <th>description</th>\n",
              "      <th>embedding</th>\n",
              "      <th>file</th>\n",
              "      <th>macro avg_f1-score</th>\n",
              "      <th>macro avg_precision</th>\n",
              "      <th>macro avg_recall</th>\n",
              "      <th>macro avg_support</th>\n",
              "      <th>max_sequence_length</th>\n",
              "      <th>model_file</th>\n",
              "      <th>model_name</th>\n",
              "      <th>network_history_file</th>\n",
              "      <th>status</th>\n",
              "      <th>status_date</th>\n",
              "      <th>test_examples</th>\n",
              "      <th>test_features</th>\n",
              "      <th>tokenizer_file</th>\n",
              "      <th>train_examples</th>\n",
              "      <th>train_features</th>\n",
              "      <th>weighted avg_f1-score</th>\n",
              "      <th>weighted avg_precision</th>\n",
              "      <th>weighted avg_recall</th>\n",
              "      <th>weighted avg_support</th>\n",
              "    </tr>\n",
              "  </thead>\n",
              "  <tbody>\n",
              "    <tr>\n",
              "      <th>0</th>\n",
              "      <td>0.693516</td>\n",
              "      <td>0.618146</td>\n",
              "      <td>0.789819</td>\n",
              "      <td>3968.0</td>\n",
              "      <td>0.146688</td>\n",
              "      <td>0.279699</td>\n",
              "      <td>0.099412</td>\n",
              "      <td>1871.0</td>\n",
              "      <td>0.30564</td>\n",
              "      <td>0.312914</td>\n",
              "      <td>0.298696</td>\n",
              "      <td>2531.0</td>\n",
              "      <td>0.344892</td>\n",
              "      <td>0.384138</td>\n",
              "      <td>0.312921</td>\n",
              "      <td>4752.0</td>\n",
              "      <td>0.815014</td>\n",
              "      <td>0.786979</td>\n",
              "      <td>0.845121</td>\n",
              "      <td>14889.0</td>\n",
              "      <td>0.647817</td>\n",
              "      <td>0.941572</td>\n",
              "      <td>0.845462</td>\n",
              "      <td>0.80036</td>\n",
              "      <td>0.727213</td>\n",
              "      <td>0.870696</td>\n",
              "      <td>0.837084</td>\n",
              "      <td>0.894842</td>\n",
              "      <td>[[3134, 196, 300, 92, 246], [892, 186, 426, 15...</td>\n",
              "      <td>amazon_reviews_us_Wireless_v1_00-preprocessed-...</td>\n",
              "      <td>32.0</td>\n",
              "      <td>drive/My Drive/Springboard/capstone/data/amazo...</td>\n",
              "      <td>0.46115</td>\n",
              "      <td>0.476375</td>\n",
              "      <td>0.469194</td>\n",
              "      <td>28011.0</td>\n",
              "      <td>186.0</td>\n",
              "      <td>drive/My Drive/Springboard/capstone/models/201...</td>\n",
              "      <td>CNN1layerEmbedding32</td>\n",
              "      <td>drive/My Drive/Springboard/capstone/models/201...</td>\n",
              "      <td>success</td>\n",
              "      <td>2019-07-22 06:31:14</td>\n",
              "      <td>28011.0</td>\n",
              "      <td>186.0</td>\n",
              "      <td>drive/My Drive/Springboard/capstone/models/201...</td>\n",
              "      <td>84032.0</td>\n",
              "      <td>186.0</td>\n",
              "      <td>0.627381</td>\n",
              "      <td>0.618002</td>\n",
              "      <td>0.647817</td>\n",
              "      <td>28011.0</td>\n",
              "    </tr>\n",
              "  </tbody>\n",
              "</table>\n",
              "</div>"
            ],
            "text/plain": [
              "   1_f1-score  1_precision  ...  weighted avg_recall  weighted avg_support\n",
              "0    0.693516     0.618146  ...             0.647817               28011.0\n",
              "\n",
              "[1 rows x 51 columns]"
            ]
          },
          "metadata": {
            "tags": []
          },
          "execution_count": 42
        }
      ]
    },
    {
      "cell_type": "code",
      "metadata": {
        "id": "w0FY2QZvJXiw",
        "colab_type": "code",
        "colab": {}
      },
      "source": [
        "report_df.to_csv(REPORT_FILE, index=False)"
      ],
      "execution_count": 0,
      "outputs": []
    },
    {
      "cell_type": "code",
      "metadata": {
        "id": "96A-A5CBJXiy",
        "colab_type": "code",
        "colab": {}
      },
      "source": [
        ""
      ],
      "execution_count": 0,
      "outputs": []
    },
    {
      "cell_type": "markdown",
      "metadata": {
        "id": "N9_HdFxaFbvB",
        "colab_type": "text"
      },
      "source": [
        "**Second Run of this with embedding of size 300 instead of 35**"
      ]
    },
    {
      "cell_type": "code",
      "metadata": {
        "id": "9xV6tWa0Fiky",
        "colab_type": "code",
        "colab": {}
      },
      "source": [
        "EMBED_SIZE_300 = 300\n",
        "model300 = Sequential()\n",
        "model300.add(Embedding(VOCAB_SIZE, EMBED_SIZE_300, input_length=MAX_SEQUENCE_LENGTH))\n",
        "model300.add(Conv1D(filters=32, kernel_size=3, padding='same', activation='relu'))\n",
        "model300.add(MaxPooling1D(pool_size=2))\n",
        "model300.add(Flatten())\n",
        "model300.add(Dense(250, activation='relu'))\n",
        "model300.add(Dense(5, activation='softmax'))\n",
        "model300.compile(loss='categorical_crossentropy', optimizer='adam', metrics=['accuracy'])\n"
      ],
      "execution_count": 0,
      "outputs": []
    },
    {
      "cell_type": "code",
      "metadata": {
        "id": "g3s1EwMSFzCz",
        "colab_type": "code",
        "colab": {
          "base_uri": "https://localhost:8080/",
          "height": 364
        },
        "outputId": "90825b78-7054-4016-d80b-370af1272c89"
      },
      "source": [
        "print(model300.summary())"
      ],
      "execution_count": 45,
      "outputs": [
        {
          "output_type": "stream",
          "text": [
            "_________________________________________________________________\n",
            "Layer (type)                 Output Shape              Param #   \n",
            "=================================================================\n",
            "embedding_2 (Embedding)      (None, 186, 300)          12236700  \n",
            "_________________________________________________________________\n",
            "conv1d_2 (Conv1D)            (None, 186, 32)           28832     \n",
            "_________________________________________________________________\n",
            "max_pooling1d_2 (MaxPooling1 (None, 93, 32)            0         \n",
            "_________________________________________________________________\n",
            "flatten_2 (Flatten)          (None, 2976)              0         \n",
            "_________________________________________________________________\n",
            "dense_3 (Dense)              (None, 250)               744250    \n",
            "_________________________________________________________________\n",
            "dense_4 (Dense)              (None, 5)                 1255      \n",
            "=================================================================\n",
            "Total params: 13,011,037\n",
            "Trainable params: 13,011,037\n",
            "Non-trainable params: 0\n",
            "_________________________________________________________________\n",
            "None\n"
          ],
          "name": "stdout"
        }
      ]
    },
    {
      "cell_type": "code",
      "metadata": {
        "id": "y-gTEUIzF0TJ",
        "colab_type": "code",
        "colab": {
          "base_uri": "https://localhost:8080/",
          "height": 745
        },
        "outputId": "47278736-0444-45de-e1e2-6e6b912b590e"
      },
      "source": [
        "SVG(model_to_dot(model300, show_shapes=True, show_layer_names=False, \n",
        "                 rankdir='TB').create(prog='dot', format='svg'))"
      ],
      "execution_count": 46,
      "outputs": [
        {
          "output_type": "execute_result",
          "data": {
            "text/plain": [
              "<IPython.core.display.SVG object>"
            ],
            "image/svg+xml": "<svg height=\"543pt\" viewBox=\"0.00 0.00 283.00 543.00\" width=\"283pt\" xmlns=\"http://www.w3.org/2000/svg\" xmlns:xlink=\"http://www.w3.org/1999/xlink\">\n<g class=\"graph\" id=\"graph0\" transform=\"scale(1 1) rotate(0) translate(4 539)\">\n<title>G</title>\n<polygon fill=\"#ffffff\" points=\"-4,4 -4,-539 279,-539 279,4 -4,4\" stroke=\"transparent\"/>\n<!-- 140646402126848 -->\n<g class=\"node\" id=\"node1\">\n<title>140646402126848</title>\n<polygon fill=\"none\" points=\"8,-415.5 8,-461.5 267,-461.5 267,-415.5 8,-415.5\" stroke=\"#000000\"/>\n<text fill=\"#000000\" font-family=\"Times,serif\" font-size=\"14.00\" text-anchor=\"middle\" x=\"50\" y=\"-434.8\">Embedding</text>\n<polyline fill=\"none\" points=\"92,-415.5 92,-461.5 \" stroke=\"#000000\"/>\n<text fill=\"#000000\" font-family=\"Times,serif\" font-size=\"14.00\" text-anchor=\"middle\" x=\"121\" y=\"-446.3\">input:</text>\n<polyline fill=\"none\" points=\"92,-438.5 150,-438.5 \" stroke=\"#000000\"/>\n<text fill=\"#000000\" font-family=\"Times,serif\" font-size=\"14.00\" text-anchor=\"middle\" x=\"121\" y=\"-423.3\">output:</text>\n<polyline fill=\"none\" points=\"150,-415.5 150,-461.5 \" stroke=\"#000000\"/>\n<text fill=\"#000000\" font-family=\"Times,serif\" font-size=\"14.00\" text-anchor=\"middle\" x=\"208.5\" y=\"-446.3\">(None, 186)</text>\n<polyline fill=\"none\" points=\"150,-438.5 267,-438.5 \" stroke=\"#000000\"/>\n<text fill=\"#000000\" font-family=\"Times,serif\" font-size=\"14.00\" text-anchor=\"middle\" x=\"208.5\" y=\"-423.3\">(None, 186, 300)</text>\n</g>\n<!-- 140646402126904 -->\n<g class=\"node\" id=\"node2\">\n<title>140646402126904</title>\n<polygon fill=\"none\" points=\"16.5,-332.5 16.5,-378.5 258.5,-378.5 258.5,-332.5 16.5,-332.5\" stroke=\"#000000\"/>\n<text fill=\"#000000\" font-family=\"Times,serif\" font-size=\"14.00\" text-anchor=\"middle\" x=\"50\" y=\"-351.8\">Conv1D</text>\n<polyline fill=\"none\" points=\"83.5,-332.5 83.5,-378.5 \" stroke=\"#000000\"/>\n<text fill=\"#000000\" font-family=\"Times,serif\" font-size=\"14.00\" text-anchor=\"middle\" x=\"112.5\" y=\"-363.3\">input:</text>\n<polyline fill=\"none\" points=\"83.5,-355.5 141.5,-355.5 \" stroke=\"#000000\"/>\n<text fill=\"#000000\" font-family=\"Times,serif\" font-size=\"14.00\" text-anchor=\"middle\" x=\"112.5\" y=\"-340.3\">output:</text>\n<polyline fill=\"none\" points=\"141.5,-332.5 141.5,-378.5 \" stroke=\"#000000\"/>\n<text fill=\"#000000\" font-family=\"Times,serif\" font-size=\"14.00\" text-anchor=\"middle\" x=\"200\" y=\"-363.3\">(None, 186, 300)</text>\n<polyline fill=\"none\" points=\"141.5,-355.5 258.5,-355.5 \" stroke=\"#000000\"/>\n<text fill=\"#000000\" font-family=\"Times,serif\" font-size=\"14.00\" text-anchor=\"middle\" x=\"200\" y=\"-340.3\">(None, 186, 32)</text>\n</g>\n<!-- 140646402126848&#45;&gt;140646402126904 -->\n<g class=\"edge\" id=\"edge2\">\n<title>140646402126848-&gt;140646402126904</title>\n<path d=\"M137.5,-415.3799C137.5,-407.1745 137.5,-397.7679 137.5,-388.8786\" fill=\"none\" stroke=\"#000000\"/>\n<polygon fill=\"#000000\" points=\"141.0001,-388.784 137.5,-378.784 134.0001,-388.784 141.0001,-388.784\" stroke=\"#000000\"/>\n</g>\n<!-- 140646402127744 -->\n<g class=\"node\" id=\"node3\">\n<title>140646402127744</title>\n<polygon fill=\"none\" points=\"0,-249.5 0,-295.5 275,-295.5 275,-249.5 0,-249.5\" stroke=\"#000000\"/>\n<text fill=\"#000000\" font-family=\"Times,serif\" font-size=\"14.00\" text-anchor=\"middle\" x=\"53.5\" y=\"-268.8\">MaxPooling1D</text>\n<polyline fill=\"none\" points=\"107,-249.5 107,-295.5 \" stroke=\"#000000\"/>\n<text fill=\"#000000\" font-family=\"Times,serif\" font-size=\"14.00\" text-anchor=\"middle\" x=\"136\" y=\"-280.3\">input:</text>\n<polyline fill=\"none\" points=\"107,-272.5 165,-272.5 \" stroke=\"#000000\"/>\n<text fill=\"#000000\" font-family=\"Times,serif\" font-size=\"14.00\" text-anchor=\"middle\" x=\"136\" y=\"-257.3\">output:</text>\n<polyline fill=\"none\" points=\"165,-249.5 165,-295.5 \" stroke=\"#000000\"/>\n<text fill=\"#000000\" font-family=\"Times,serif\" font-size=\"14.00\" text-anchor=\"middle\" x=\"220\" y=\"-280.3\">(None, 186, 32)</text>\n<polyline fill=\"none\" points=\"165,-272.5 275,-272.5 \" stroke=\"#000000\"/>\n<text fill=\"#000000\" font-family=\"Times,serif\" font-size=\"14.00\" text-anchor=\"middle\" x=\"220\" y=\"-257.3\">(None, 93, 32)</text>\n</g>\n<!-- 140646402126904&#45;&gt;140646402127744 -->\n<g class=\"edge\" id=\"edge3\">\n<title>140646402126904-&gt;140646402127744</title>\n<path d=\"M137.5,-332.3799C137.5,-324.1745 137.5,-314.7679 137.5,-305.8786\" fill=\"none\" stroke=\"#000000\"/>\n<polygon fill=\"#000000\" points=\"141.0001,-305.784 137.5,-295.784 134.0001,-305.784 141.0001,-305.784\" stroke=\"#000000\"/>\n</g>\n<!-- 140646402129144 -->\n<g class=\"node\" id=\"node4\">\n<title>140646402129144</title>\n<polygon fill=\"none\" points=\"29.5,-166.5 29.5,-212.5 245.5,-212.5 245.5,-166.5 29.5,-166.5\" stroke=\"#000000\"/>\n<text fill=\"#000000\" font-family=\"Times,serif\" font-size=\"14.00\" text-anchor=\"middle\" x=\"57.5\" y=\"-185.8\">Flatten</text>\n<polyline fill=\"none\" points=\"85.5,-166.5 85.5,-212.5 \" stroke=\"#000000\"/>\n<text fill=\"#000000\" font-family=\"Times,serif\" font-size=\"14.00\" text-anchor=\"middle\" x=\"114.5\" y=\"-197.3\">input:</text>\n<polyline fill=\"none\" points=\"85.5,-189.5 143.5,-189.5 \" stroke=\"#000000\"/>\n<text fill=\"#000000\" font-family=\"Times,serif\" font-size=\"14.00\" text-anchor=\"middle\" x=\"114.5\" y=\"-174.3\">output:</text>\n<polyline fill=\"none\" points=\"143.5,-166.5 143.5,-212.5 \" stroke=\"#000000\"/>\n<text fill=\"#000000\" font-family=\"Times,serif\" font-size=\"14.00\" text-anchor=\"middle\" x=\"194.5\" y=\"-197.3\">(None, 93, 32)</text>\n<polyline fill=\"none\" points=\"143.5,-189.5 245.5,-189.5 \" stroke=\"#000000\"/>\n<text fill=\"#000000\" font-family=\"Times,serif\" font-size=\"14.00\" text-anchor=\"middle\" x=\"194.5\" y=\"-174.3\">(None, 2976)</text>\n</g>\n<!-- 140646402127744&#45;&gt;140646402129144 -->\n<g class=\"edge\" id=\"edge4\">\n<title>140646402127744-&gt;140646402129144</title>\n<path d=\"M137.5,-249.3799C137.5,-241.1745 137.5,-231.7679 137.5,-222.8786\" fill=\"none\" stroke=\"#000000\"/>\n<polygon fill=\"#000000\" points=\"141.0001,-222.784 137.5,-212.784 134.0001,-222.784 141.0001,-222.784\" stroke=\"#000000\"/>\n</g>\n<!-- 140646402165672 -->\n<g class=\"node\" id=\"node5\">\n<title>140646402165672</title>\n<polygon fill=\"none\" points=\"35,-83.5 35,-129.5 240,-129.5 240,-83.5 35,-83.5\" stroke=\"#000000\"/>\n<text fill=\"#000000\" font-family=\"Times,serif\" font-size=\"14.00\" text-anchor=\"middle\" x=\"61\" y=\"-102.8\">Dense</text>\n<polyline fill=\"none\" points=\"87,-83.5 87,-129.5 \" stroke=\"#000000\"/>\n<text fill=\"#000000\" font-family=\"Times,serif\" font-size=\"14.00\" text-anchor=\"middle\" x=\"116\" y=\"-114.3\">input:</text>\n<polyline fill=\"none\" points=\"87,-106.5 145,-106.5 \" stroke=\"#000000\"/>\n<text fill=\"#000000\" font-family=\"Times,serif\" font-size=\"14.00\" text-anchor=\"middle\" x=\"116\" y=\"-91.3\">output:</text>\n<polyline fill=\"none\" points=\"145,-83.5 145,-129.5 \" stroke=\"#000000\"/>\n<text fill=\"#000000\" font-family=\"Times,serif\" font-size=\"14.00\" text-anchor=\"middle\" x=\"192.5\" y=\"-114.3\">(None, 2976)</text>\n<polyline fill=\"none\" points=\"145,-106.5 240,-106.5 \" stroke=\"#000000\"/>\n<text fill=\"#000000\" font-family=\"Times,serif\" font-size=\"14.00\" text-anchor=\"middle\" x=\"192.5\" y=\"-91.3\">(None, 250)</text>\n</g>\n<!-- 140646402129144&#45;&gt;140646402165672 -->\n<g class=\"edge\" id=\"edge5\">\n<title>140646402129144-&gt;140646402165672</title>\n<path d=\"M137.5,-166.3799C137.5,-158.1745 137.5,-148.7679 137.5,-139.8786\" fill=\"none\" stroke=\"#000000\"/>\n<polygon fill=\"#000000\" points=\"141.0001,-139.784 137.5,-129.784 134.0001,-139.784 141.0001,-139.784\" stroke=\"#000000\"/>\n</g>\n<!-- 140646402263528 -->\n<g class=\"node\" id=\"node6\">\n<title>140646402263528</title>\n<polygon fill=\"none\" points=\"39,-.5 39,-46.5 236,-46.5 236,-.5 39,-.5\" stroke=\"#000000\"/>\n<text fill=\"#000000\" font-family=\"Times,serif\" font-size=\"14.00\" text-anchor=\"middle\" x=\"65\" y=\"-19.8\">Dense</text>\n<polyline fill=\"none\" points=\"91,-.5 91,-46.5 \" stroke=\"#000000\"/>\n<text fill=\"#000000\" font-family=\"Times,serif\" font-size=\"14.00\" text-anchor=\"middle\" x=\"120\" y=\"-31.3\">input:</text>\n<polyline fill=\"none\" points=\"91,-23.5 149,-23.5 \" stroke=\"#000000\"/>\n<text fill=\"#000000\" font-family=\"Times,serif\" font-size=\"14.00\" text-anchor=\"middle\" x=\"120\" y=\"-8.3\">output:</text>\n<polyline fill=\"none\" points=\"149,-.5 149,-46.5 \" stroke=\"#000000\"/>\n<text fill=\"#000000\" font-family=\"Times,serif\" font-size=\"14.00\" text-anchor=\"middle\" x=\"192.5\" y=\"-31.3\">(None, 250)</text>\n<polyline fill=\"none\" points=\"149,-23.5 236,-23.5 \" stroke=\"#000000\"/>\n<text fill=\"#000000\" font-family=\"Times,serif\" font-size=\"14.00\" text-anchor=\"middle\" x=\"192.5\" y=\"-8.3\">(None, 5)</text>\n</g>\n<!-- 140646402165672&#45;&gt;140646402263528 -->\n<g class=\"edge\" id=\"edge6\">\n<title>140646402165672-&gt;140646402263528</title>\n<path d=\"M137.5,-83.3799C137.5,-75.1745 137.5,-65.7679 137.5,-56.8786\" fill=\"none\" stroke=\"#000000\"/>\n<polygon fill=\"#000000\" points=\"141.0001,-56.784 137.5,-46.784 134.0001,-56.784 141.0001,-56.784\" stroke=\"#000000\"/>\n</g>\n<!-- 140646402127016 -->\n<g class=\"node\" id=\"node7\">\n<title>140646402127016</title>\n<polygon fill=\"none\" points=\"73,-498.5 73,-534.5 202,-534.5 202,-498.5 73,-498.5\" stroke=\"#000000\"/>\n<text fill=\"#000000\" font-family=\"Times,serif\" font-size=\"14.00\" text-anchor=\"middle\" x=\"137.5\" y=\"-512.8\">140646402127016</text>\n</g>\n<!-- 140646402127016&#45;&gt;140646402126848 -->\n<g class=\"edge\" id=\"edge1\">\n<title>140646402127016-&gt;140646402126848</title>\n<path d=\"M137.5,-498.4092C137.5,-490.4308 137.5,-480.795 137.5,-471.606\" fill=\"none\" stroke=\"#000000\"/>\n<polygon fill=\"#000000\" points=\"141.0001,-471.5333 137.5,-461.5333 134.0001,-471.5334 141.0001,-471.5333\" stroke=\"#000000\"/>\n</g>\n</g>\n</svg>"
          },
          "metadata": {
            "tags": []
          },
          "execution_count": 46
        }
      ]
    },
    {
      "cell_type": "code",
      "metadata": {
        "id": "r23FrBd5F5HD",
        "colab_type": "code",
        "colab": {
          "base_uri": "https://localhost:8080/",
          "height": 176
        },
        "outputId": "a63138fb-195d-43b1-cf22-22e60a962234"
      },
      "source": [
        "early_stop = EarlyStopping(monitor='val_loss', patience=2, verbose=1)\n",
        "network_history300 = model300.fit(X_train, y_train,\n",
        "                      batch_size=BATCH_SIZE,\n",
        "                      epochs=EPOCHS,\n",
        "                      verbose=1,\n",
        "                      validation_split=0.2,\n",
        "                      callbacks=[early_stop])"
      ],
      "execution_count": 47,
      "outputs": [
        {
          "output_type": "stream",
          "text": [
            "Train on 67225 samples, validate on 16807 samples\n",
            "Epoch 1/50\n",
            "67225/67225 [==============================] - 9s 135us/step - loss: 0.9355 - acc: 0.6408 - val_loss: 0.8450 - val_acc: 0.6705\n",
            "Epoch 2/50\n",
            "67225/67225 [==============================] - 8s 124us/step - loss: 0.7277 - acc: 0.7158 - val_loss: 0.8635 - val_acc: 0.6690\n",
            "Epoch 3/50\n",
            "67225/67225 [==============================] - 8s 124us/step - loss: 0.5659 - acc: 0.7830 - val_loss: 0.9838 - val_acc: 0.6571\n",
            "Epoch 00003: early stopping\n"
          ],
          "name": "stdout"
        }
      ]
    },
    {
      "cell_type": "code",
      "metadata": {
        "id": "mYuM_NC3GCNL",
        "colab_type": "code",
        "colab": {
          "base_uri": "https://localhost:8080/",
          "height": 52
        },
        "outputId": "19eb4654-7430-4fc2-a7e3-0150730d632e"
      },
      "source": [
        "scores300 = model300.evaluate(X_test, y_test, verbose=1)\n",
        "print(\"Accuracy: %.2f%%\" % (scores[1]*100))\n"
      ],
      "execution_count": 48,
      "outputs": [
        {
          "output_type": "stream",
          "text": [
            "28011/28011 [==============================] - 1s 52us/step\n",
            "Accuracy: 64.78%\n"
          ],
          "name": "stdout"
        }
      ]
    },
    {
      "cell_type": "code",
      "metadata": {
        "id": "LObFrJ2WGJ-B",
        "colab_type": "code",
        "colab": {
          "base_uri": "https://localhost:8080/",
          "height": 565
        },
        "outputId": "ea2099d6-c182-41bf-9fcb-e56be1b55e72"
      },
      "source": [
        "plot_history(network_history300)"
      ],
      "execution_count": 49,
      "outputs": [
        {
          "output_type": "display_data",
          "data": {
            "image/png": "[encoded data removed]",
            "text/plain": [
              "<Figure size 432x288 with 1 Axes>"
            ]
          },
          "metadata": {
            "tags": []
          }
        },
        {
          "output_type": "display_data",
          "data": {
            "image/png": "[encoded data removed]",
            "text/plain": [
              "<Figure size 432x288 with 1 Axes>"
            ]
          },
          "metadata": {
            "tags": []
          }
        }
      ]
    },
    {
      "cell_type": "code",
      "metadata": {
        "id": "uvUQloZ7GOsn",
        "colab_type": "code",
        "colab": {
          "base_uri": "https://localhost:8080/",
          "height": 202
        },
        "outputId": "44b3cae8-5616-4c23-ce18-86cc0f0e4601"
      },
      "source": [
        "y_predict300 = model300.predict(X_test)\n",
        "y_predict300_df = pd.DataFrame(y_predict300)\n",
        "y_predict300_df.head()"
      ],
      "execution_count": 50,
      "outputs": [
        {
          "output_type": "execute_result",
          "data": {
            "text/html": [
              "<div>\n",
              "<style scoped>\n",
              "    .dataframe tbody tr th:only-of-type {\n",
              "        vertical-align: middle;\n",
              "    }\n",
              "\n",
              "    .dataframe tbody tr th {\n",
              "        vertical-align: top;\n",
              "    }\n",
              "\n",
              "    .dataframe thead th {\n",
              "        text-align: right;\n",
              "    }\n",
              "</style>\n",
              "<table border=\"1\" class=\"dataframe\">\n",
              "  <thead>\n",
              "    <tr style=\"text-align: right;\">\n",
              "      <th></th>\n",
              "      <th>0</th>\n",
              "      <th>1</th>\n",
              "      <th>2</th>\n",
              "      <th>3</th>\n",
              "      <th>4</th>\n",
              "    </tr>\n",
              "  </thead>\n",
              "  <tbody>\n",
              "    <tr>\n",
              "      <th>0</th>\n",
              "      <td>0.001036</td>\n",
              "      <td>0.010239</td>\n",
              "      <td>0.051402</td>\n",
              "      <td>0.532208</td>\n",
              "      <td>0.405114</td>\n",
              "    </tr>\n",
              "    <tr>\n",
              "      <th>1</th>\n",
              "      <td>0.000936</td>\n",
              "      <td>0.004983</td>\n",
              "      <td>0.025042</td>\n",
              "      <td>0.485376</td>\n",
              "      <td>0.483663</td>\n",
              "    </tr>\n",
              "    <tr>\n",
              "      <th>2</th>\n",
              "      <td>0.000034</td>\n",
              "      <td>0.000148</td>\n",
              "      <td>0.000684</td>\n",
              "      <td>0.038413</td>\n",
              "      <td>0.960721</td>\n",
              "    </tr>\n",
              "    <tr>\n",
              "      <th>3</th>\n",
              "      <td>0.140537</td>\n",
              "      <td>0.040197</td>\n",
              "      <td>0.060469</td>\n",
              "      <td>0.024620</td>\n",
              "      <td>0.734176</td>\n",
              "    </tr>\n",
              "    <tr>\n",
              "      <th>4</th>\n",
              "      <td>0.000305</td>\n",
              "      <td>0.000217</td>\n",
              "      <td>0.002049</td>\n",
              "      <td>0.044777</td>\n",
              "      <td>0.952651</td>\n",
              "    </tr>\n",
              "  </tbody>\n",
              "</table>\n",
              "</div>"
            ],
            "text/plain": [
              "          0         1         2         3         4\n",
              "0  0.001036  0.010239  0.051402  0.532208  0.405114\n",
              "1  0.000936  0.004983  0.025042  0.485376  0.483663\n",
              "2  0.000034  0.000148  0.000684  0.038413  0.960721\n",
              "3  0.140537  0.040197  0.060469  0.024620  0.734176\n",
              "4  0.000305  0.000217  0.002049  0.044777  0.952651"
            ]
          },
          "metadata": {
            "tags": []
          },
          "execution_count": 50
        }
      ]
    },
    {
      "cell_type": "code",
      "metadata": {
        "id": "b2K8Pok-G_aE",
        "colab_type": "code",
        "colab": {}
      },
      "source": [
        "y_predict300_unencoded = [row.idxmax() + 1 for index, row in y_predict300_df.iterrows()]"
      ],
      "execution_count": 0,
      "outputs": []
    },
    {
      "cell_type": "code",
      "metadata": {
        "id": "EY2mTrAXHFbt",
        "colab_type": "code",
        "colab": {
          "base_uri": "https://localhost:8080/",
          "height": 104
        },
        "outputId": "ed6fc801-c5e7-457c-887b-b4479b3d865e"
      },
      "source": [
        "confusion_matrix(y_test_unencoded, y_predict300_unencoded)"
      ],
      "execution_count": 52,
      "outputs": [
        {
          "output_type": "execute_result",
          "data": {
            "text/plain": [
              "array([[ 2794,   469,   229,    90,   386],\n",
              "       [  652,   407,   286,   182,   344],\n",
              "       [  344,   318,   541,   532,   796],\n",
              "       [   96,   126,   328,  1240,  2962],\n",
              "       [  156,    72,   157,   950, 13554]])"
            ]
          },
          "metadata": {
            "tags": []
          },
          "execution_count": 52
        }
      ]
    },
    {
      "cell_type": "code",
      "metadata": {
        "id": "ifYDa2s3HKV7",
        "colab_type": "code",
        "colab": {
          "base_uri": "https://localhost:8080/",
          "height": 225
        },
        "outputId": "c3e7a479-3959-44cd-9a0e-b23f8962d4ba"
      },
      "source": [
        "print(classification_report(y_test_unencoded, y_predict300_unencoded))"
      ],
      "execution_count": 53,
      "outputs": [
        {
          "output_type": "stream",
          "text": [
            "              precision    recall  f1-score   support\n",
            "\n",
            "           1       0.69      0.70      0.70      3968\n",
            "           2       0.29      0.22      0.25      1871\n",
            "           3       0.35      0.21      0.27      2531\n",
            "           4       0.41      0.26      0.32      4752\n",
            "           5       0.75      0.91      0.82     14889\n",
            "\n",
            "    accuracy                           0.66     28011\n",
            "   macro avg       0.50      0.46      0.47     28011\n",
            "weighted avg       0.62      0.66      0.63     28011\n",
            "\n"
          ],
          "name": "stdout"
        }
      ]
    },
    {
      "cell_type": "code",
      "metadata": {
        "id": "cGWLqe_UHmAB",
        "colab_type": "code",
        "colab": {
          "base_uri": "https://localhost:8080/",
          "height": 355
        },
        "outputId": "9cdd2766-5626-4469-f6db-4ed9e4f74003"
      },
      "source": [
        "fig = plt.figure(figsize=(5,5))\n",
        "roc_auc300 =  plot_roc_auc(y_test, y_predict300_df)"
      ],
      "execution_count": 54,
      "outputs": [
        {
          "output_type": "display_data",
          "data": {
            "image/png": "[encoded data removed]",
            "text/plain": [
              "<Figure size 360x360 with 1 Axes>"
            ]
          },
          "metadata": {
            "tags": []
          }
        }
      ]
    },
    {
      "cell_type": "code",
      "metadata": {
        "id": "_A6lCHfuKQSO",
        "colab_type": "code",
        "colab": {
          "base_uri": "https://localhost:8080/",
          "height": 139
        },
        "outputId": "dd1581d3-9bdf-4538-eaac-55847e01e1fc"
      },
      "source": [
        "roc_auc300"
      ],
      "execution_count": 55,
      "outputs": [
        {
          "output_type": "execute_result",
          "data": {
            "text/plain": [
              "{'auc_1': 0.9468411109950183,\n",
              " 'auc_2': 0.8485342768474811,\n",
              " 'auc_3': 0.81370082406728,\n",
              " 'auc_4': 0.7270587971956259,\n",
              " 'auc_5': 0.8738338577187901,\n",
              " 'auc_macro': 0.8420164571299218,\n",
              " 'auc_micro': 0.9009605633313262}"
            ]
          },
          "metadata": {
            "tags": []
          },
          "execution_count": 55
        }
      ]
    },
    {
      "cell_type": "code",
      "metadata": {
        "id": "cRahiAl8HSq8",
        "colab_type": "code",
        "colab": {}
      },
      "source": [
        "MODEL_NAME = \"CNN1layerEmbedding300\"\n",
        "# directory, INBASENAME = fu.get_dir_basename(DATA_FILE)\n",
        "DESCRIPTION = f\"{INBASENAME}-nosmote-{MODEL_NAME}-{MAX_SEQUENCE_LENGTH}-{FEATURE_COLUMN}\"\n",
        "\n",
        "\n",
        "MODEL_FILE = f\"{datetime.now().strftime(DATE_FORMAT)}-{DESCRIPTION}.h5\"\n",
        "NETWORK_HISTORY_FILE = f'{datetime.now().strftime(DATE_FORMAT)}-{DESCRIPTION}-history.pkl'\n",
        "# REPORT_FILE = f\"{datetime.now().strftime(DATE_FORMAT)}-CNN_notebook_protype-report.csv\"\n",
        "TOKENIZER_FILE = f'{datetime.now().strftime(DATE_FORMAT)}-{DESCRIPTION}-tokenizer.pkl'\n"
      ],
      "execution_count": 0,
      "outputs": []
    },
    {
      "cell_type": "code",
      "metadata": {
        "id": "0gFqG8WNHbCq",
        "colab_type": "code",
        "colab": {}
      },
      "source": [
        "model300.save(MODEL_FILE)\n",
        "pickle.dump(network_history300, open(NETWORK_HISTORY_FILE, \"wb\"))\n",
        "pickle.dump(t, open(TOKENIZER_FILE, \"wb\"))"
      ],
      "execution_count": 0,
      "outputs": []
    },
    {
      "cell_type": "code",
      "metadata": {
        "id": "qfKyTIQuH1VA",
        "colab_type": "code",
        "colab": {}
      },
      "source": [
        "# saving off report in the same format as other report just in case we want to compare for later\n",
        "flattened300 = {}\n",
        "flattened300 = du.add_dict_to_dict(flattened300, classification_report(y_test_unencoded, y_predict300_unencoded, output_dict=True))\n",
        "flattened300 = du.add_dict_to_dict(flattened300, roc_auc300)\n",
        "flattened300[\"confusion_matrix\"] = confusion_matrix(y_test_unencoded, y_predict300_unencoded)\n",
        "flattened300[\"description\"] = DESCRIPTION\n",
        "flattened300[\"file\"] = DATA_FILE\n",
        "flattened300[\"network_history_file\"] = NETWORK_HISTORY_FILE\n",
        "flattened300[\"tokenizer_file\"] = TOKENIZER_FILE\n",
        "flattened300[\"max_sequence_length\"] = MAX_SEQUENCE_LENGTH\n",
        "flattened300[\"embedding\"] = EMBED_SIZE_300\n",
        "flattened300[\"model_file\"] = MODEL_FILE\n",
        "flattened300[\"model_name\"] = MODEL_NAME\n",
        "flattened300[\"test_examples\"] = X_test.shape[0]\n",
        "flattened300[\"test_features\"] = X_test.shape[1]\n",
        "flattened300[\"train_examples\"] = X_train.shape[0]\n",
        "flattened300[\"train_features\"] = X_train.shape[1]\n",
        "flattened300[\"status\"] = \"success\"\n",
        "flattened300[\"status_date\"] = datetime.now().strftime(TIME_FORMAT)\n"
      ],
      "execution_count": 0,
      "outputs": []
    },
    {
      "cell_type": "code",
      "metadata": {
        "id": "KwPisImLIWmK",
        "colab_type": "code",
        "colab": {}
      },
      "source": [
        "report_df = report_df.append(flattened300, ignore_index=True)\n"
      ],
      "execution_count": 0,
      "outputs": []
    },
    {
      "cell_type": "code",
      "metadata": {
        "id": "y5SI9GS0Iev9",
        "colab_type": "code",
        "colab": {}
      },
      "source": [
        "report_df.to_csv(REPORT_FILE, index=False)"
      ],
      "execution_count": 0,
      "outputs": []
    },
    {
      "cell_type": "code",
      "metadata": {
        "id": "4kBC16R6TGpY",
        "colab_type": "code",
        "colab": {
          "base_uri": "https://localhost:8080/",
          "height": 1000
        },
        "outputId": "a8137d8b-bb54-4778-e6f7-d17664f89b33"
      },
      "source": [
        "report_df.T"
      ],
      "execution_count": 61,
      "outputs": [
        {
          "output_type": "execute_result",
          "data": {
            "text/html": [
              "<div>\n",
              "<style scoped>\n",
              "    .dataframe tbody tr th:only-of-type {\n",
              "        vertical-align: middle;\n",
              "    }\n",
              "\n",
              "    .dataframe tbody tr th {\n",
              "        vertical-align: top;\n",
              "    }\n",
              "\n",
              "    .dataframe thead th {\n",
              "        text-align: right;\n",
              "    }\n",
              "</style>\n",
              "<table border=\"1\" class=\"dataframe\">\n",
              "  <thead>\n",
              "    <tr style=\"text-align: right;\">\n",
              "      <th></th>\n",
              "      <th>0</th>\n",
              "      <th>1</th>\n",
              "    </tr>\n",
              "  </thead>\n",
              "  <tbody>\n",
              "    <tr>\n",
              "      <th>1_f1-score</th>\n",
              "      <td>0.693516</td>\n",
              "      <td>0.697628</td>\n",
              "    </tr>\n",
              "    <tr>\n",
              "      <th>1_precision</th>\n",
              "      <td>0.618146</td>\n",
              "      <td>0.691242</td>\n",
              "    </tr>\n",
              "    <tr>\n",
              "      <th>1_recall</th>\n",
              "      <td>0.789819</td>\n",
              "      <td>0.704133</td>\n",
              "    </tr>\n",
              "    <tr>\n",
              "      <th>1_support</th>\n",
              "      <td>3968</td>\n",
              "      <td>3968</td>\n",
              "    </tr>\n",
              "    <tr>\n",
              "      <th>2_f1-score</th>\n",
              "      <td>0.146688</td>\n",
              "      <td>0.249464</td>\n",
              "    </tr>\n",
              "    <tr>\n",
              "      <th>2_precision</th>\n",
              "      <td>0.279699</td>\n",
              "      <td>0.292385</td>\n",
              "    </tr>\n",
              "    <tr>\n",
              "      <th>2_recall</th>\n",
              "      <td>0.0994121</td>\n",
              "      <td>0.217531</td>\n",
              "    </tr>\n",
              "    <tr>\n",
              "      <th>2_support</th>\n",
              "      <td>1871</td>\n",
              "      <td>1871</td>\n",
              "    </tr>\n",
              "    <tr>\n",
              "      <th>3_f1-score</th>\n",
              "      <td>0.30564</td>\n",
              "      <td>0.265717</td>\n",
              "    </tr>\n",
              "    <tr>\n",
              "      <th>3_precision</th>\n",
              "      <td>0.312914</td>\n",
              "      <td>0.351071</td>\n",
              "    </tr>\n",
              "    <tr>\n",
              "      <th>3_recall</th>\n",
              "      <td>0.298696</td>\n",
              "      <td>0.21375</td>\n",
              "    </tr>\n",
              "    <tr>\n",
              "      <th>3_support</th>\n",
              "      <td>2531</td>\n",
              "      <td>2531</td>\n",
              "    </tr>\n",
              "    <tr>\n",
              "      <th>4_f1-score</th>\n",
              "      <td>0.344892</td>\n",
              "      <td>0.320165</td>\n",
              "    </tr>\n",
              "    <tr>\n",
              "      <th>4_precision</th>\n",
              "      <td>0.384138</td>\n",
              "      <td>0.414162</td>\n",
              "    </tr>\n",
              "    <tr>\n",
              "      <th>4_recall</th>\n",
              "      <td>0.312921</td>\n",
              "      <td>0.260943</td>\n",
              "    </tr>\n",
              "    <tr>\n",
              "      <th>4_support</th>\n",
              "      <td>4752</td>\n",
              "      <td>4752</td>\n",
              "    </tr>\n",
              "    <tr>\n",
              "      <th>5_f1-score</th>\n",
              "      <td>0.815014</td>\n",
              "      <td>0.823176</td>\n",
              "    </tr>\n",
              "    <tr>\n",
              "      <th>5_precision</th>\n",
              "      <td>0.786979</td>\n",
              "      <td>0.751247</td>\n",
              "    </tr>\n",
              "    <tr>\n",
              "      <th>5_recall</th>\n",
              "      <td>0.845121</td>\n",
              "      <td>0.910336</td>\n",
              "    </tr>\n",
              "    <tr>\n",
              "      <th>5_support</th>\n",
              "      <td>14889</td>\n",
              "      <td>14889</td>\n",
              "    </tr>\n",
              "    <tr>\n",
              "      <th>accuracy</th>\n",
              "      <td>0.647817</td>\n",
              "      <td>0.66174</td>\n",
              "    </tr>\n",
              "    <tr>\n",
              "      <th>auc_1</th>\n",
              "      <td>0.941572</td>\n",
              "      <td>0.946841</td>\n",
              "    </tr>\n",
              "    <tr>\n",
              "      <th>auc_2</th>\n",
              "      <td>0.845462</td>\n",
              "      <td>0.848534</td>\n",
              "    </tr>\n",
              "    <tr>\n",
              "      <th>auc_3</th>\n",
              "      <td>0.80036</td>\n",
              "      <td>0.813701</td>\n",
              "    </tr>\n",
              "    <tr>\n",
              "      <th>auc_4</th>\n",
              "      <td>0.727213</td>\n",
              "      <td>0.727059</td>\n",
              "    </tr>\n",
              "    <tr>\n",
              "      <th>auc_5</th>\n",
              "      <td>0.870696</td>\n",
              "      <td>0.873834</td>\n",
              "    </tr>\n",
              "    <tr>\n",
              "      <th>auc_macro</th>\n",
              "      <td>0.837084</td>\n",
              "      <td>0.842016</td>\n",
              "    </tr>\n",
              "    <tr>\n",
              "      <th>auc_micro</th>\n",
              "      <td>0.894842</td>\n",
              "      <td>0.900961</td>\n",
              "    </tr>\n",
              "    <tr>\n",
              "      <th>confusion_matrix</th>\n",
              "      <td>[[3134, 196, 300, 92, 246], [892, 186, 426, 15...</td>\n",
              "      <td>[[2794, 469, 229, 90, 386], [652, 407, 286, 18...</td>\n",
              "    </tr>\n",
              "    <tr>\n",
              "      <th>description</th>\n",
              "      <td>amazon_reviews_us_Wireless_v1_00-preprocessed-...</td>\n",
              "      <td>amazon_reviews_us_Wireless_v1_00-preprocessed-...</td>\n",
              "    </tr>\n",
              "    <tr>\n",
              "      <th>embedding</th>\n",
              "      <td>32</td>\n",
              "      <td>300</td>\n",
              "    </tr>\n",
              "    <tr>\n",
              "      <th>file</th>\n",
              "      <td>drive/My Drive/Springboard/capstone/data/amazo...</td>\n",
              "      <td>drive/My Drive/Springboard/capstone/data/amazo...</td>\n",
              "    </tr>\n",
              "    <tr>\n",
              "      <th>macro avg_f1-score</th>\n",
              "      <td>0.46115</td>\n",
              "      <td>0.47123</td>\n",
              "    </tr>\n",
              "    <tr>\n",
              "      <th>macro avg_precision</th>\n",
              "      <td>0.476375</td>\n",
              "      <td>0.500021</td>\n",
              "    </tr>\n",
              "    <tr>\n",
              "      <th>macro avg_recall</th>\n",
              "      <td>0.469194</td>\n",
              "      <td>0.461339</td>\n",
              "    </tr>\n",
              "    <tr>\n",
              "      <th>macro avg_support</th>\n",
              "      <td>28011</td>\n",
              "      <td>28011</td>\n",
              "    </tr>\n",
              "    <tr>\n",
              "      <th>max_sequence_length</th>\n",
              "      <td>186</td>\n",
              "      <td>186</td>\n",
              "    </tr>\n",
              "    <tr>\n",
              "      <th>model_file</th>\n",
              "      <td>drive/My Drive/Springboard/capstone/models/201...</td>\n",
              "      <td>2019-07-22-amazon_reviews_us_Wireless_v1_00-pr...</td>\n",
              "    </tr>\n",
              "    <tr>\n",
              "      <th>model_name</th>\n",
              "      <td>CNN1layerEmbedding32</td>\n",
              "      <td>CNN1layerEmbedding300</td>\n",
              "    </tr>\n",
              "    <tr>\n",
              "      <th>network_history_file</th>\n",
              "      <td>drive/My Drive/Springboard/capstone/models/201...</td>\n",
              "      <td>2019-07-22-amazon_reviews_us_Wireless_v1_00-pr...</td>\n",
              "    </tr>\n",
              "    <tr>\n",
              "      <th>status</th>\n",
              "      <td>success</td>\n",
              "      <td>success</td>\n",
              "    </tr>\n",
              "    <tr>\n",
              "      <th>status_date</th>\n",
              "      <td>2019-07-22 06:31:14</td>\n",
              "      <td>2019-07-22 06:31:49</td>\n",
              "    </tr>\n",
              "    <tr>\n",
              "      <th>test_examples</th>\n",
              "      <td>28011</td>\n",
              "      <td>28011</td>\n",
              "    </tr>\n",
              "    <tr>\n",
              "      <th>test_features</th>\n",
              "      <td>186</td>\n",
              "      <td>186</td>\n",
              "    </tr>\n",
              "    <tr>\n",
              "      <th>tokenizer_file</th>\n",
              "      <td>drive/My Drive/Springboard/capstone/models/201...</td>\n",
              "      <td>2019-07-22-amazon_reviews_us_Wireless_v1_00-pr...</td>\n",
              "    </tr>\n",
              "    <tr>\n",
              "      <th>train_examples</th>\n",
              "      <td>84032</td>\n",
              "      <td>84032</td>\n",
              "    </tr>\n",
              "    <tr>\n",
              "      <th>train_features</th>\n",
              "      <td>186</td>\n",
              "      <td>186</td>\n",
              "    </tr>\n",
              "    <tr>\n",
              "      <th>weighted avg_f1-score</th>\n",
              "      <td>0.627381</td>\n",
              "      <td>0.631365</td>\n",
              "    </tr>\n",
              "    <tr>\n",
              "      <th>weighted avg_precision</th>\n",
              "      <td>0.618002</td>\n",
              "      <td>0.618752</td>\n",
              "    </tr>\n",
              "    <tr>\n",
              "      <th>weighted avg_recall</th>\n",
              "      <td>0.647817</td>\n",
              "      <td>0.66174</td>\n",
              "    </tr>\n",
              "    <tr>\n",
              "      <th>weighted avg_support</th>\n",
              "      <td>28011</td>\n",
              "      <td>28011</td>\n",
              "    </tr>\n",
              "  </tbody>\n",
              "</table>\n",
              "</div>"
            ],
            "text/plain": [
              "                                                                        0                                                  1\n",
              "1_f1-score                                                       0.693516                                           0.697628\n",
              "1_precision                                                      0.618146                                           0.691242\n",
              "1_recall                                                         0.789819                                           0.704133\n",
              "1_support                                                            3968                                               3968\n",
              "2_f1-score                                                       0.146688                                           0.249464\n",
              "2_precision                                                      0.279699                                           0.292385\n",
              "2_recall                                                        0.0994121                                           0.217531\n",
              "2_support                                                            1871                                               1871\n",
              "3_f1-score                                                        0.30564                                           0.265717\n",
              "3_precision                                                      0.312914                                           0.351071\n",
              "3_recall                                                         0.298696                                            0.21375\n",
              "3_support                                                            2531                                               2531\n",
              "4_f1-score                                                       0.344892                                           0.320165\n",
              "4_precision                                                      0.384138                                           0.414162\n",
              "4_recall                                                         0.312921                                           0.260943\n",
              "4_support                                                            4752                                               4752\n",
              "5_f1-score                                                       0.815014                                           0.823176\n",
              "5_precision                                                      0.786979                                           0.751247\n",
              "5_recall                                                         0.845121                                           0.910336\n",
              "5_support                                                           14889                                              14889\n",
              "accuracy                                                         0.647817                                            0.66174\n",
              "auc_1                                                            0.941572                                           0.946841\n",
              "auc_2                                                            0.845462                                           0.848534\n",
              "auc_3                                                             0.80036                                           0.813701\n",
              "auc_4                                                            0.727213                                           0.727059\n",
              "auc_5                                                            0.870696                                           0.873834\n",
              "auc_macro                                                        0.837084                                           0.842016\n",
              "auc_micro                                                        0.894842                                           0.900961\n",
              "confusion_matrix        [[3134, 196, 300, 92, 246], [892, 186, 426, 15...  [[2794, 469, 229, 90, 386], [652, 407, 286, 18...\n",
              "description             amazon_reviews_us_Wireless_v1_00-preprocessed-...  amazon_reviews_us_Wireless_v1_00-preprocessed-...\n",
              "embedding                                                              32                                                300\n",
              "file                    drive/My Drive/Springboard/capstone/data/amazo...  drive/My Drive/Springboard/capstone/data/amazo...\n",
              "macro avg_f1-score                                                0.46115                                            0.47123\n",
              "macro avg_precision                                              0.476375                                           0.500021\n",
              "macro avg_recall                                                 0.469194                                           0.461339\n",
              "macro avg_support                                                   28011                                              28011\n",
              "max_sequence_length                                                   186                                                186\n",
              "model_file              drive/My Drive/Springboard/capstone/models/201...  2019-07-22-amazon_reviews_us_Wireless_v1_00-pr...\n",
              "model_name                                           CNN1layerEmbedding32                              CNN1layerEmbedding300\n",
              "network_history_file    drive/My Drive/Springboard/capstone/models/201...  2019-07-22-amazon_reviews_us_Wireless_v1_00-pr...\n",
              "status                                                            success                                            success\n",
              "status_date                                           2019-07-22 06:31:14                                2019-07-22 06:31:49\n",
              "test_examples                                                       28011                                              28011\n",
              "test_features                                                         186                                                186\n",
              "tokenizer_file          drive/My Drive/Springboard/capstone/models/201...  2019-07-22-amazon_reviews_us_Wireless_v1_00-pr...\n",
              "train_examples                                                      84032                                              84032\n",
              "train_features                                                        186                                                186\n",
              "weighted avg_f1-score                                            0.627381                                           0.631365\n",
              "weighted avg_precision                                           0.618002                                           0.618752\n",
              "weighted avg_recall                                              0.647817                                            0.66174\n",
              "weighted avg_support                                                28011                                              28011"
            ]
          },
          "metadata": {
            "tags": []
          },
          "execution_count": 61
        }
      ]
    },
    {
      "cell_type": "code",
      "metadata": {
        "id": "e6N456vNTHRl",
        "colab_type": "code",
        "colab": {
          "base_uri": "https://localhost:8080/",
          "height": 373
        },
        "outputId": "ce987a05-a691-46c1-dfa9-b8b528f83d57"
      },
      "source": [
        "fig = plt.figure(figsize=(10, 5))\n",
        "gs = fig.add_gridspec(1, 2)\n",
        "\n",
        "ax1  = fig.add_subplot(gs[0,0])\n",
        "plot_roc_auc(y_test, y_predict_df)\n",
        "ax1.set_title(\"ROC AUC - CNN Embedding 32\")\n",
        "\n",
        "ax2  = fig.add_subplot(gs[0,1])\n",
        "plot_roc_auc(y_test, y_predict300_df)\n",
        "ax2.set_title(\"ROC AUC - CNN Embedding 300\")"
      ],
      "execution_count": 62,
      "outputs": [
        {
          "output_type": "execute_result",
          "data": {
            "text/plain": [
              "Text(0.5, 1.0, 'ROC AUC - CNN Embedding 300')"
            ]
          },
          "metadata": {
            "tags": []
          },
          "execution_count": 62
        },
        {
          "output_type": "display_data",
          "data": {
            "image/png": "[encoded data removed]",
            "text/plain": [
              "<Figure size 720x360 with 2 Axes>"
            ]
          },
          "metadata": {
            "tags": []
          }
        }
      ]
    },
    {
      "cell_type": "code",
      "metadata": {
        "id": "Q3brst7TTblA",
        "colab_type": "code",
        "colab": {}
      },
      "source": [
        ""
      ],
      "execution_count": 0,
      "outputs": []
    }
  ]
}