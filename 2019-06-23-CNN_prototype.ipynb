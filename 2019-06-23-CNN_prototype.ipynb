{
 "cells": [
  {
   "cell_type": "markdown",
   "metadata": {
    "colab_type": "text",
    "id": "view-in-github"
   },
   "source": [
    "<a href=\"https://colab.research.google.com/github/sv650s/sb-capstone/blob/master/2019-06-23-CNN_prototype.ipynb\" target=\"_parent\"><img src=\"https://colab.research.google.com/assets/colab-badge.svg\" alt=\"Open In Colab\"/></a>"
   ]
  },
  {
   "cell_type": "markdown",
   "metadata": {
    "colab_type": "text",
    "id": "W7_sb1roJXhx"
   },
   "source": [
    "# CNN Prototype\n",
    "\n",
    "Modeling this notebook after the following:\n",
    "\n",
    "https://nbviewer.jupyter.org/github/dipanjanS/nlp_workshop_dhs18/blob/master/Unit%2012%20-%20Project%209%20-%20Sentiment%20Analysis%20-%20Supervised%20Learning/12B%20-%20Project%2011%20-%20Sentiment%20Analysis%20-%20Advanced%20Deep%20Learning%20-%20CNNs.ipynb\n",
    "\n",
    "\n",
    "Making the following changes:\n",
    "\n",
    "* last layer is a 5 node layer with softmax activation function since we are doing a 5 class classification\n",
    "* Changing the loss function from binary_crossentropy to categorical_crossentropy since we are doing multi-class classification\n",
    "* running fit with 50 epochs with early stopping with patience of 2\n",
    "* also this notebook runs the CNN model twice - once with embedding of 32 (original), one with embedding of 300. At the end of the notebook, it prints a table to compare the two"
   ]
  },
  {
   "cell_type": "code",
   "execution_count": 1,
   "metadata": {
    "colab": {
     "base_uri": "https://localhost:8080/",
     "height": 55
    },
    "colab_type": "code",
    "id": "gwrIhSxpG--S",
    "outputId": "ca311598-416a-4dbd-c7fe-1d04a0afc986"
   },
   "outputs": [
    {
     "name": "stdout",
     "output_type": "stream",
     "text": [
      "Drive already mounted at /content/drive; to attempt to forcibly remount, call drive.mount(\"/content/drive\", force_remount=True).\n"
     ]
    }
   ],
   "source": [
    "from google.colab import drive\n",
    "import sys\n",
    "drive.mount('/content/drive')\n",
    "# add this to sys patch so we can import utility functions\n",
    "sys.path.append('drive/My Drive/Springboard/capstone')\n"
   ]
  },
  {
   "cell_type": "code",
   "execution_count": 2,
   "metadata": {
    "colab": {
     "base_uri": "https://localhost:8080/",
     "height": 35
    },
    "colab_type": "code",
    "id": "pAHGtniuJXhy",
    "outputId": "b9c55d6d-49d4-426d-a168-6dd931f05cdd"
   },
   "outputs": [
    {
     "name": "stderr",
     "output_type": "stream",
     "text": [
      "Using TensorFlow backend.\n"
     ]
    }
   ],
   "source": [
    "from keras.models import Sequential\n",
    "from keras.layers import Dense, Activation, Dropout\n",
    "from keras.layers.normalization import BatchNormalization\n",
    "from keras.callbacks import EarlyStopping\n",
    "from keras.models import load_model\n",
    "from sklearn.model_selection import train_test_split\n",
    "from keras.optimizers import SGD\n",
    "from sklearn.preprocessing import OneHotEncoder\n",
    "from keras.layers import Flatten\n",
    "from keras.layers.convolutional import Conv1D\n",
    "from keras.layers.convolutional import MaxPooling1D\n",
    "from keras.layers.embeddings import Embedding\n",
    "import pandas as pd\n",
    "from IPython.display import SVG\n",
    "from keras.utils.vis_utils import model_to_dot\n",
    "import util.dict_util as du\n",
    "import util.plot_util as pu\n",
    "import util.file_util as fu\n",
    "import pickle\n",
    "from datetime import datetime\n",
    "from sklearn.metrics import confusion_matrix, classification_report\n",
    "import os\n",
    "import seaborn as sns\n",
    "\n",
    "sns.set()\n"
   ]
  },
  {
   "cell_type": "code",
   "execution_count": null,
   "metadata": {
    "colab": {},
    "colab_type": "code",
    "id": "At8OhHNfJXh3"
   },
   "outputs": [],
   "source": [
    "DRIVE_DIR = \"drive/My Drive/Springboard/capstone\"\n",
    "DATE_FORMAT = '%Y-%m-%d'\n",
    "TIME_FORMAT = '%Y-%m-%d %H:%M:%S'\n",
    "DATA_FILE = f\"{DRIVE_DIR}/data/amazon_reviews_us_Wireless_v1_00-preprocessed-110k.csv\"\n",
    "MODEL_NAME = \"CNN1layerEmbedding32\"\n",
    "FEATURE_COLUMN = \"star_rating\"\n",
    "REVIEW_COLUMN = \"review_body\"\n",
    "\n",
    "\n"
   ]
  },
  {
   "cell_type": "code",
   "execution_count": 4,
   "metadata": {
    "colab": {
     "base_uri": "https://localhost:8080/",
     "height": 35
    },
    "colab_type": "code",
    "id": "KfGVl2gXLMV_",
    "outputId": "69a5b140-c20d-4dc8-b15d-cea9c69bc5e2"
   },
   "outputs": [
    {
     "data": {
      "text/plain": [
       "'/device:GPU:0'"
      ]
     },
     "execution_count": 4,
     "metadata": {
      "tags": []
     },
     "output_type": "execute_result"
    }
   ],
   "source": [
    "import tensorflow as tf\n",
    "# checl to make sure we are using GPU here\n",
    "tf.test.gpu_device_name()"
   ]
  },
  {
   "cell_type": "code",
   "execution_count": null,
   "metadata": {
    "colab": {},
    "colab_type": "code",
    "hide_input": false,
    "id": "k6fwJp9OJXh5"
   },
   "outputs": [],
   "source": [
    "df = pd.read_csv(f\"{DATA_FILE}\")"
   ]
  },
  {
   "cell_type": "code",
   "execution_count": 6,
   "metadata": {
    "colab": {
     "base_uri": "https://localhost:8080/",
     "height": 517
    },
    "colab_type": "code",
    "id": "nb3whPNGNsu6",
    "outputId": "81d90da4-e1d5-4587-ec3b-e4276d16c0a1"
   },
   "outputs": [
    {
     "data": {
      "text/html": [
       "<div>\n",
       "<style scoped>\n",
       "    .dataframe tbody tr th:only-of-type {\n",
       "        vertical-align: middle;\n",
       "    }\n",
       "\n",
       "    .dataframe tbody tr th {\n",
       "        vertical-align: top;\n",
       "    }\n",
       "\n",
       "    .dataframe thead th {\n",
       "        text-align: right;\n",
       "    }\n",
       "</style>\n",
       "<table border=\"1\" class=\"dataframe\">\n",
       "  <thead>\n",
       "    <tr style=\"text-align: right;\">\n",
       "      <th></th>\n",
       "      <th>customer_id</th>\n",
       "      <th>review_id</th>\n",
       "      <th>product_id</th>\n",
       "      <th>product_parent</th>\n",
       "      <th>product_title</th>\n",
       "      <th>product_category</th>\n",
       "      <th>star_rating</th>\n",
       "      <th>helpful_votes</th>\n",
       "      <th>total_votes</th>\n",
       "      <th>review_headline</th>\n",
       "      <th>review_body</th>\n",
       "      <th>review_date</th>\n",
       "    </tr>\n",
       "  </thead>\n",
       "  <tbody>\n",
       "    <tr>\n",
       "      <th>0</th>\n",
       "      <td>48623501</td>\n",
       "      <td>R1G7J2VAMI4AEC</td>\n",
       "      <td>B00LBK7QBY</td>\n",
       "      <td>361030039</td>\n",
       "      <td>universal waterproof case joto cellphone dry b...</td>\n",
       "      <td>Wireless</td>\n",
       "      <td>5</td>\n",
       "      <td>0</td>\n",
       "      <td>0</td>\n",
       "      <td>good product please note not</td>\n",
       "      <td>good product please note not floating case do ...</td>\n",
       "      <td>2015-08-31</td>\n",
       "    </tr>\n",
       "    <tr>\n",
       "      <th>1</th>\n",
       "      <td>533148</td>\n",
       "      <td>R3Q4JAPXWCCJU7</td>\n",
       "      <td>B00W661MOO</td>\n",
       "      <td>360205932</td>\n",
       "      <td>car mount alpatronix mx101 universal charging ...</td>\n",
       "      <td>Wireless</td>\n",
       "      <td>5</td>\n",
       "      <td>0</td>\n",
       "      <td>0</td>\n",
       "      <td>great product holds phone place</td>\n",
       "      <td>great product holds phone place does not slip ...</td>\n",
       "      <td>2015-08-31</td>\n",
       "    </tr>\n",
       "    <tr>\n",
       "      <th>2</th>\n",
       "      <td>40266813</td>\n",
       "      <td>RJQWVO0QV2WQ4</td>\n",
       "      <td>B00USN9L0E</td>\n",
       "      <td>105913119</td>\n",
       "      <td>synthetic leather galaxy s6 sleeve thin</td>\n",
       "      <td>Wireless</td>\n",
       "      <td>5</td>\n",
       "      <td>0</td>\n",
       "      <td>0</td>\n",
       "      <td>exactly described</td>\n",
       "      <td>quality looks good prompt postage cannot argue...</td>\n",
       "      <td>2015-08-31</td>\n",
       "    </tr>\n",
       "    <tr>\n",
       "      <th>3</th>\n",
       "      <td>228806</td>\n",
       "      <td>R3RFPR7X60WN6C</td>\n",
       "      <td>B00YPAOKMU</td>\n",
       "      <td>564491128</td>\n",
       "      <td>jiake s6 5 0 inch unlocked smart phone quad co...</td>\n",
       "      <td>Wireless</td>\n",
       "      <td>5</td>\n",
       "      <td>0</td>\n",
       "      <td>0</td>\n",
       "      <td>powerful attractive really do love mode</td>\n",
       "      <td>works much like jiake phone love price great b...</td>\n",
       "      <td>2015-08-31</td>\n",
       "    </tr>\n",
       "    <tr>\n",
       "      <th>4</th>\n",
       "      <td>10866798</td>\n",
       "      <td>R3QL2UPH2B7YFT</td>\n",
       "      <td>B00O0S97SE</td>\n",
       "      <td>742788022</td>\n",
       "      <td>tfy universal car headrest mount holder portab...</td>\n",
       "      <td>Wireless</td>\n",
       "      <td>3</td>\n",
       "      <td>0</td>\n",
       "      <td>1</td>\n",
       "      <td>good enough</td>\n",
       "      <td>serves purpose loud whoever sitting seat attached</td>\n",
       "      <td>2015-08-31</td>\n",
       "    </tr>\n",
       "  </tbody>\n",
       "</table>\n",
       "</div>"
      ],
      "text/plain": [
       "   customer_id  ... review_date\n",
       "0     48623501  ...  2015-08-31\n",
       "1       533148  ...  2015-08-31\n",
       "2     40266813  ...  2015-08-31\n",
       "3       228806  ...  2015-08-31\n",
       "4     10866798  ...  2015-08-31\n",
       "\n",
       "[5 rows x 12 columns]"
      ]
     },
     "execution_count": 6,
     "metadata": {
      "tags": []
     },
     "output_type": "execute_result"
    }
   ],
   "source": [
    "df.head()"
   ]
  },
  {
   "cell_type": "code",
   "execution_count": null,
   "metadata": {
    "colab": {},
    "colab_type": "code",
    "id": "pqHfMf6mJXh7"
   },
   "outputs": [],
   "source": [
    "rating = df[FEATURE_COLUMN]\n",
    "reviews = df[REVIEW_COLUMN]"
   ]
  },
  {
   "cell_type": "markdown",
   "metadata": {
    "colab_type": "text",
    "id": "EBQR0ZpoOiQk"
   },
   "source": [
    "## Preprocessing"
   ]
  },
  {
   "cell_type": "code",
   "execution_count": 8,
   "metadata": {
    "colab": {
     "base_uri": "https://localhost:8080/",
     "height": 263
    },
    "colab_type": "code",
    "id": "lytdvF4neJ4r",
    "outputId": "78c48d48-fd50-4bed-ee5b-11b92888d939"
   },
   "outputs": [
    {
     "name": "stdout",
     "output_type": "stream",
     "text": [
      "(112043,)\n",
      "<class 'pandas.core.series.Series'>\n"
     ]
    },
    {
     "name": "stderr",
     "output_type": "stream",
     "text": [
      "/usr/local/lib/python3.6/dist-packages/sklearn/preprocessing/_encoders.py:415: FutureWarning: The handling of integer data will change in version 0.22. Currently, the categories are determined based on the range [0, max(values)], while in the future they will be determined based on the unique values.\n",
      "If you want the future behaviour and silence this warning, you can specify \"categories='auto'\".\n",
      "In case you used a LabelEncoder before this OneHotEncoder to convert the categories to integers, then you can now use the OneHotEncoder directly.\n",
      "  warnings.warn(msg, FutureWarning)\n"
     ]
    },
    {
     "data": {
      "text/plain": [
       "array([[0., 0., 0., 0., 1.],\n",
       "       [0., 0., 0., 0., 1.],\n",
       "       [0., 0., 0., 0., 1.],\n",
       "       ...,\n",
       "       [0., 0., 1., 0., 0.],\n",
       "       [0., 0., 0., 0., 1.],\n",
       "       [0., 0., 0., 1., 0.]])"
      ]
     },
     "execution_count": 8,
     "metadata": {
      "tags": []
     },
     "output_type": "execute_result"
    }
   ],
   "source": [
    "# one hot encode ratings\n",
    "print(rating.shape)\n",
    "print(type(rating))\n",
    "y = OneHotEncoder().fit_transform(rating.values.reshape(len(rating), 1)).toarray()\n",
    "y"
   ]
  },
  {
   "cell_type": "code",
   "execution_count": null,
   "metadata": {
    "colab": {},
    "colab_type": "code",
    "id": "8sdvF7lKPRfD"
   },
   "outputs": [],
   "source": [
    "reviews_train, reviews_test, y_train, y_test = train_test_split(reviews, y, random_state=1)"
   ]
  },
  {
   "cell_type": "code",
   "execution_count": null,
   "metadata": {
    "colab": {},
    "colab_type": "code",
    "id": "i0mwVXPjOpi5"
   },
   "outputs": [],
   "source": [
    "from keras.preprocessing.text import Tokenizer\n",
    "from keras.preprocessing import sequence\n",
    "from sklearn.preprocessing import LabelEncoder\n",
    "\n",
    "t = Tokenizer()\n",
    "# fit the tokenizer on the documents\n",
    "t.fit_on_texts(reviews_train)"
   ]
  },
  {
   "cell_type": "code",
   "execution_count": null,
   "metadata": {
    "colab": {},
    "colab_type": "code",
    "id": "Ou3A0O2aOwcb"
   },
   "outputs": [],
   "source": [
    "train_sequences = t.texts_to_sequences(reviews_train)"
   ]
  },
  {
   "cell_type": "code",
   "execution_count": 12,
   "metadata": {
    "colab": {
     "base_uri": "https://localhost:8080/",
     "height": 503
    },
    "colab_type": "code",
    "id": "DuDHcMvNcZW_",
    "outputId": "54f6a3a5-5bf3-458e-d391-e79fd472b2f7"
   },
   "outputs": [
    {
     "data": {
      "text/plain": [
       "[[20,\n",
       "  24,\n",
       "  16,\n",
       "  11,\n",
       "  1,\n",
       "  21,\n",
       "  2629,\n",
       "  398,\n",
       "  710,\n",
       "  67,\n",
       "  341,\n",
       "  30,\n",
       "  2290,\n",
       "  153,\n",
       "  140,\n",
       "  13,\n",
       "  1,\n",
       "  28,\n",
       "  186,\n",
       "  396,\n",
       "  20,\n",
       "  16,\n",
       "  93,\n",
       "  370,\n",
       "  1346,\n",
       "  408,\n",
       "  992],\n",
       " [99, 70, 31, 1, 168, 44, 1744, 452]]"
      ]
     },
     "execution_count": 12,
     "metadata": {
      "tags": []
     },
     "output_type": "execute_result"
    }
   ],
   "source": [
    "train_sequences[:2]"
   ]
  },
  {
   "cell_type": "code",
   "execution_count": 13,
   "metadata": {
    "colab": {
     "base_uri": "https://localhost:8080/",
     "height": 832
    },
    "colab_type": "code",
    "id": "Xx9whgnmPXkC",
    "outputId": "dd38f98b-7206-4b0e-8451-2e42ff6afe78"
   },
   "outputs": [
    {
     "data": {
      "text/plain": [
       "[[9,\n",
       "  608,\n",
       "  2584,\n",
       "  670,\n",
       "  437,\n",
       "  246,\n",
       "  2,\n",
       "  323,\n",
       "  5,\n",
       "  31,\n",
       "  203,\n",
       "  340,\n",
       "  1414,\n",
       "  643,\n",
       "  342,\n",
       "  147,\n",
       "  242,\n",
       "  272,\n",
       "  54,\n",
       "  128,\n",
       "  278,\n",
       "  908,\n",
       "  27],\n",
       " [764,\n",
       "  1621,\n",
       "  4,\n",
       "  783,\n",
       "  2,\n",
       "  11,\n",
       "  1,\n",
       "  149,\n",
       "  260,\n",
       "  3,\n",
       "  914,\n",
       "  243,\n",
       "  249,\n",
       "  2369,\n",
       "  2,\n",
       "  9,\n",
       "  105,\n",
       "  11,\n",
       "  3,\n",
       "  131,\n",
       "  94,\n",
       "  128,\n",
       "  10,\n",
       "  21]]"
      ]
     },
     "execution_count": 13,
     "metadata": {
      "tags": []
     },
     "output_type": "execute_result"
    }
   ],
   "source": [
    "test_sequences = t.texts_to_sequences(reviews_test)\n",
    "test_sequences[:2]"
   ]
  },
  {
   "cell_type": "code",
   "execution_count": 14,
   "metadata": {
    "colab": {
     "base_uri": "https://localhost:8080/",
     "height": 52
    },
    "colab_type": "code",
    "id": "bt_xMQApPd_f",
    "outputId": "c774721a-e0da-4ff0-9c87-f2b53e3f10ed"
   },
   "outputs": [
    {
     "name": "stdout",
     "output_type": "stream",
     "text": [
      "Vocabulary size=40788\n",
      "Number of Documents=84032\n"
     ]
    }
   ],
   "source": [
    "print(\"Vocabulary size={}\".format(len(t.word_counts)))\n",
    "print(\"Number of Documents={}\".format(t.document_count))"
   ]
  },
  {
   "cell_type": "markdown",
   "metadata": {
    "colab_type": "text",
    "id": "vyaOznruPjq-"
   },
   "source": [
    "### Sequence Normalization\n",
    "\n",
    "Figure out max length of review and pad the rest so they are all the same length"
   ]
  },
  {
   "cell_type": "code",
   "execution_count": 15,
   "metadata": {
    "colab": {
     "base_uri": "https://localhost:8080/",
     "height": 35
    },
    "colab_type": "code",
    "id": "HbmXj-JuPvCT",
    "outputId": "a15b9d61-3b25-402e-be9b-59030fd0584e"
   },
   "outputs": [
    {
     "data": {
      "text/plain": [
       "2864"
      ]
     },
     "execution_count": 15,
     "metadata": {
      "tags": []
     },
     "output_type": "execute_result"
    }
   ],
   "source": [
    "df[\"review_length\"] = df.review_body.apply(lambda x: len(x.split()))\n",
    "df.review_length.max()"
   ]
  },
  {
   "cell_type": "code",
   "execution_count": 16,
   "metadata": {
    "colab": {
     "base_uri": "https://localhost:8080/",
     "height": 294
    },
    "colab_type": "code",
    "id": "tR3hDNoCQnvR",
    "outputId": "da8ef38b-5bb6-4e7a-b06b-2f2b2c0288a1"
   },
   "outputs": [
    {
     "data": {
      "text/html": [
       "<div>\n",
       "<style scoped>\n",
       "    .dataframe tbody tr th:only-of-type {\n",
       "        vertical-align: middle;\n",
       "    }\n",
       "\n",
       "    .dataframe tbody tr th {\n",
       "        vertical-align: top;\n",
       "    }\n",
       "\n",
       "    .dataframe thead th {\n",
       "        text-align: right;\n",
       "    }\n",
       "</style>\n",
       "<table border=\"1\" class=\"dataframe\">\n",
       "  <thead>\n",
       "    <tr style=\"text-align: right;\">\n",
       "      <th></th>\n",
       "      <th>customer_id</th>\n",
       "      <th>product_parent</th>\n",
       "      <th>star_rating</th>\n",
       "      <th>helpful_votes</th>\n",
       "      <th>total_votes</th>\n",
       "      <th>review_length</th>\n",
       "    </tr>\n",
       "  </thead>\n",
       "  <tbody>\n",
       "    <tr>\n",
       "      <th>count</th>\n",
       "      <td>1.120430e+05</td>\n",
       "      <td>1.120430e+05</td>\n",
       "      <td>112043.000000</td>\n",
       "      <td>112043.000000</td>\n",
       "      <td>112043.000000</td>\n",
       "      <td>112043.000000</td>\n",
       "    </tr>\n",
       "    <tr>\n",
       "      <th>mean</th>\n",
       "      <td>2.547598e+07</td>\n",
       "      <td>4.994998e+08</td>\n",
       "      <td>3.889078</td>\n",
       "      <td>0.912435</td>\n",
       "      <td>1.189704</td>\n",
       "      <td>26.322965</td>\n",
       "    </tr>\n",
       "    <tr>\n",
       "      <th>std</th>\n",
       "      <td>1.582173e+07</td>\n",
       "      <td>2.879968e+08</td>\n",
       "      <td>1.463196</td>\n",
       "      <td>10.304687</td>\n",
       "      <td>11.167197</td>\n",
       "      <td>47.248166</td>\n",
       "    </tr>\n",
       "    <tr>\n",
       "      <th>min</th>\n",
       "      <td>1.014100e+04</td>\n",
       "      <td>1.365700e+04</td>\n",
       "      <td>1.000000</td>\n",
       "      <td>0.000000</td>\n",
       "      <td>0.000000</td>\n",
       "      <td>1.000000</td>\n",
       "    </tr>\n",
       "    <tr>\n",
       "      <th>25%</th>\n",
       "      <td>1.231110e+07</td>\n",
       "      <td>2.493906e+08</td>\n",
       "      <td>3.000000</td>\n",
       "      <td>0.000000</td>\n",
       "      <td>0.000000</td>\n",
       "      <td>8.000000</td>\n",
       "    </tr>\n",
       "    <tr>\n",
       "      <th>50%</th>\n",
       "      <td>2.344848e+07</td>\n",
       "      <td>4.990693e+08</td>\n",
       "      <td>5.000000</td>\n",
       "      <td>0.000000</td>\n",
       "      <td>0.000000</td>\n",
       "      <td>15.000000</td>\n",
       "    </tr>\n",
       "    <tr>\n",
       "      <th>75%</th>\n",
       "      <td>4.040851e+07</td>\n",
       "      <td>7.481358e+08</td>\n",
       "      <td>5.000000</td>\n",
       "      <td>0.000000</td>\n",
       "      <td>1.000000</td>\n",
       "      <td>29.000000</td>\n",
       "    </tr>\n",
       "    <tr>\n",
       "      <th>max</th>\n",
       "      <td>5.309655e+07</td>\n",
       "      <td>9.999930e+08</td>\n",
       "      <td>5.000000</td>\n",
       "      <td>1447.000000</td>\n",
       "      <td>1524.000000</td>\n",
       "      <td>2864.000000</td>\n",
       "    </tr>\n",
       "  </tbody>\n",
       "</table>\n",
       "</div>"
      ],
      "text/plain": [
       "        customer_id  product_parent  ...    total_votes  review_length\n",
       "count  1.120430e+05    1.120430e+05  ...  112043.000000  112043.000000\n",
       "mean   2.547598e+07    4.994998e+08  ...       1.189704      26.322965\n",
       "std    1.582173e+07    2.879968e+08  ...      11.167197      47.248166\n",
       "min    1.014100e+04    1.365700e+04  ...       0.000000       1.000000\n",
       "25%    1.231110e+07    2.493906e+08  ...       0.000000       8.000000\n",
       "50%    2.344848e+07    4.990693e+08  ...       0.000000      15.000000\n",
       "75%    4.040851e+07    7.481358e+08  ...       1.000000      29.000000\n",
       "max    5.309655e+07    9.999930e+08  ...    1524.000000    2864.000000\n",
       "\n",
       "[8 rows x 6 columns]"
      ]
     },
     "execution_count": 16,
     "metadata": {
      "tags": []
     },
     "output_type": "execute_result"
    }
   ],
   "source": [
    "df.describe()"
   ]
  },
  {
   "cell_type": "markdown",
   "metadata": {
    "colab_type": "text",
    "id": "FzomQClub7Qo"
   },
   "source": [
    "Looks like 95%+ of our reviews have 186 words or less. If we keep our sequence length to around 64 words, this should allow us to keep most of our content\n",
    "\n",
    "NOTE: no need to do encoding for our star_ratings since this is already in a number format"
   ]
  },
  {
   "cell_type": "code",
   "execution_count": 17,
   "metadata": {
    "colab": {
     "base_uri": "https://localhost:8080/",
     "height": 35
    },
    "colab_type": "code",
    "id": "JnBz2oaMa_uq",
    "outputId": "87cd0af3-02f7-4717-bb16-3d494805403e"
   },
   "outputs": [
    {
     "data": {
      "text/plain": [
       "186"
      ]
     },
     "execution_count": 17,
     "metadata": {
      "tags": []
     },
     "output_type": "execute_result"
    }
   ],
   "source": [
    "MAX_SEQUENCE_LENGTH = int(df.review_length.quantile([0.99]).values[0])\n",
    "MAX_SEQUENCE_LENGTH"
   ]
  },
  {
   "cell_type": "code",
   "execution_count": null,
   "metadata": {
    "colab": {},
    "colab_type": "code",
    "id": "W9HZDo9Lbna9"
   },
   "outputs": [],
   "source": [
    "# pad dataset to a maximum review length in words\n",
    "X_train = sequence.pad_sequences(train_sequences, maxlen=MAX_SEQUENCE_LENGTH)\n",
    "X_test = sequence.pad_sequences(test_sequences, maxlen=MAX_SEQUENCE_LENGTH)"
   ]
  },
  {
   "cell_type": "markdown",
   "metadata": {
    "colab_type": "text",
    "id": "F6YI8EiNb5CF"
   },
   "source": []
  },
  {
   "cell_type": "code",
   "execution_count": 19,
   "metadata": {
    "colab": {
     "base_uri": "https://localhost:8080/",
     "height": 329
    },
    "colab_type": "code",
    "id": "_yP1USpSJXh9",
    "outputId": "5c678469-a03e-40cf-8791-cb10c9f21b02"
   },
   "outputs": [
    {
     "data": {
      "text/plain": [
       "array([[   0,    0,    0,    0,    0,    0,    0,    0,    0,    0,    0,\n",
       "           0,    0,    0,    0,    0,    0,    0,    0,    0,    0,    0,\n",
       "           0,    0,    0,    0,    0,    0,    0,    0,    0,    0,    0,\n",
       "           0,    0,    0,    0,    0,    0,    0,    0,    0,    0,    0,\n",
       "           0,    0,    0,    0,    0,    0,    0,    0,    0,    0,    0,\n",
       "           0,    0,    0,    0,    0,    0,    0,    0,    0,    0,    0,\n",
       "           0,    0,    0,    0,    0,    0,    0,    0,    0,    0,    0,\n",
       "           0,    0,    0,    0,    0,    0,    0,    0,    0,    0,    0,\n",
       "           0,    0,    0,    0,    0,    0,    0,    0,    0,    0,    0,\n",
       "           0,    0,    0,    0,    0,    0,    0,    0,    0,    0,    0,\n",
       "           0,    0,    0,    0,    0,    0,    0,    0,    0,    0,    0,\n",
       "           0,    0,    0,    0,    0,    0,    0,    0,    0,    0,    0,\n",
       "           0,    0,    0,    0,    0,    0,    0,    0,    0,    0,    0,\n",
       "           0,    0,    0,    0,    0,    0,    0,    0,    0,    0,    0,\n",
       "           0,    0,    0,    0,    0,   20,   24,   16,   11,    1,   21,\n",
       "        2629,  398,  710,   67,  341,   30, 2290,  153,  140,   13,    1,\n",
       "          28,  186,  396,   20,   16,   93,  370, 1346,  408,  992]],\n",
       "      dtype=int32)"
      ]
     },
     "execution_count": 19,
     "metadata": {
      "tags": []
     },
     "output_type": "execute_result"
    }
   ],
   "source": [
    "X_train[:1]"
   ]
  },
  {
   "cell_type": "code",
   "execution_count": 20,
   "metadata": {
    "colab": {
     "base_uri": "https://localhost:8080/",
     "height": 121
    },
    "colab_type": "code",
    "id": "lvkxqTmcJXiA",
    "outputId": "f0910166-0c15-4ef1-c384-c6ec2eb7eedd"
   },
   "outputs": [
    {
     "data": {
      "text/plain": [
       "0    5\n",
       "1    5\n",
       "2    5\n",
       "3    5\n",
       "4    3\n",
       "Name: star_rating, dtype: int64"
      ]
     },
     "execution_count": 20,
     "metadata": {
      "tags": []
     },
     "output_type": "execute_result"
    }
   ],
   "source": [
    "# this is our star rating column\n",
    "rating.head()"
   ]
  },
  {
   "cell_type": "markdown",
   "metadata": {
    "colab_type": "text",
    "id": "qydtUY2MQF2H"
   },
   "source": [
    "**We are going to run this twice with identical networks. The first will have embedding size of 32. The second will have embedding size of 300. And we will compare results later*"
   ]
  },
  {
   "cell_type": "markdown",
   "metadata": {},
   "source": [
    "# Building Our First Model with embedding of 32"
   ]
  },
  {
   "cell_type": "code",
   "execution_count": null,
   "metadata": {
    "colab": {},
    "colab_type": "code",
    "id": "LxDcAouddq88"
   },
   "outputs": [],
   "source": [
    "EMBED_SIZE = 32\n",
    "EPOCHS  = 50\n",
    "BATCH_SIZE = 128\n",
    "VOCAB_SIZE = len(t.word_counts)+1\n"
   ]
  },
  {
   "cell_type": "code",
   "execution_count": 22,
   "metadata": {
    "colab": {
     "base_uri": "https://localhost:8080/",
     "height": 263
    },
    "colab_type": "code",
    "id": "653DtCuBJXiF",
    "outputId": "70413061-2aef-4343-a48e-89ed512c8459"
   },
   "outputs": [
    {
     "name": "stderr",
     "output_type": "stream",
     "text": [
      "WARNING: Logging before flag parsing goes to stderr.\n",
      "W0722 06:48:10.157477 140356388235136 deprecation_wrapper.py:119] From /usr/local/lib/python3.6/dist-packages/keras/backend/tensorflow_backend.py:74: The name tf.get_default_graph is deprecated. Please use tf.compat.v1.get_default_graph instead.\n",
      "\n",
      "W0722 06:48:10.161260 140356388235136 deprecation_wrapper.py:119] From /usr/local/lib/python3.6/dist-packages/keras/backend/tensorflow_backend.py:517: The name tf.placeholder is deprecated. Please use tf.compat.v1.placeholder instead.\n",
      "\n",
      "W0722 06:48:10.165462 140356388235136 deprecation_wrapper.py:119] From /usr/local/lib/python3.6/dist-packages/keras/backend/tensorflow_backend.py:4138: The name tf.random_uniform is deprecated. Please use tf.random.uniform instead.\n",
      "\n",
      "W0722 06:48:10.206290 140356388235136 deprecation_wrapper.py:119] From /usr/local/lib/python3.6/dist-packages/keras/backend/tensorflow_backend.py:3976: The name tf.nn.max_pool is deprecated. Please use tf.nn.max_pool2d instead.\n",
      "\n",
      "W0722 06:48:10.241436 140356388235136 deprecation_wrapper.py:119] From /usr/local/lib/python3.6/dist-packages/keras/optimizers.py:790: The name tf.train.Optimizer is deprecated. Please use tf.compat.v1.train.Optimizer instead.\n",
      "\n",
      "W0722 06:48:10.263873 140356388235136 deprecation_wrapper.py:119] From /usr/local/lib/python3.6/dist-packages/keras/backend/tensorflow_backend.py:3295: The name tf.log is deprecated. Please use tf.math.log instead.\n",
      "\n"
     ]
    }
   ],
   "source": [
    "model = Sequential()\n",
    "model.add(Embedding(VOCAB_SIZE, EMBED_SIZE, input_length=MAX_SEQUENCE_LENGTH))\n",
    "model.add(Conv1D(filters=32, kernel_size=3, padding='same', activation='relu'))\n",
    "model.add(MaxPooling1D(pool_size=2))\n",
    "model.add(Flatten())\n",
    "model.add(Dense(250, activation='relu'))\n",
    "model.add(Dense(5, activation='softmax'))\n",
    "model.compile(loss='categorical_crossentropy', optimizer='adam', metrics=['accuracy'])\n"
   ]
  },
  {
   "cell_type": "code",
   "execution_count": 23,
   "metadata": {
    "colab": {
     "base_uri": "https://localhost:8080/",
     "height": 364
    },
    "colab_type": "code",
    "id": "iZitdxXPJXiI",
    "outputId": "d5600631-a2a8-44ed-f89b-c8b7b9e82d7d"
   },
   "outputs": [
    {
     "name": "stdout",
     "output_type": "stream",
     "text": [
      "_________________________________________________________________\n",
      "Layer (type)                 Output Shape              Param #   \n",
      "=================================================================\n",
      "embedding_1 (Embedding)      (None, 186, 32)           1305248   \n",
      "_________________________________________________________________\n",
      "conv1d_1 (Conv1D)            (None, 186, 32)           3104      \n",
      "_________________________________________________________________\n",
      "max_pooling1d_1 (MaxPooling1 (None, 93, 32)            0         \n",
      "_________________________________________________________________\n",
      "flatten_1 (Flatten)          (None, 2976)              0         \n",
      "_________________________________________________________________\n",
      "dense_1 (Dense)              (None, 250)               744250    \n",
      "_________________________________________________________________\n",
      "dense_2 (Dense)              (None, 5)                 1255      \n",
      "=================================================================\n",
      "Total params: 2,053,857\n",
      "Trainable params: 2,053,857\n",
      "Non-trainable params: 0\n",
      "_________________________________________________________________\n",
      "None\n"
     ]
    }
   ],
   "source": [
    "print(model.summary())"
   ]
  },
  {
   "cell_type": "code",
   "execution_count": 24,
   "metadata": {
    "colab": {
     "base_uri": "https://localhost:8080/",
     "height": 745
    },
    "colab_type": "code",
    "id": "RqLc7s0BJXiK",
    "outputId": "733de8ad-9cb9-4d7e-b3d9-70a8f97b3e27"
   },
   "outputs": [
    {
     "data": {
      "image/svg+xml": [
       "<svg height=\"543pt\" viewBox=\"0.00 0.00 283.00 543.00\" width=\"283pt\" xmlns=\"http://www.w3.org/2000/svg\" xmlns:xlink=\"http://www.w3.org/1999/xlink\">\n",
       "<g class=\"graph\" id=\"graph0\" transform=\"scale(1 1) rotate(0) translate(4 539)\">\n",
       "<title>G</title>\n",
       "<polygon fill=\"#ffffff\" points=\"-4,4 -4,-539 279,-539 279,4 -4,4\" stroke=\"transparent\"/>\n",
       "<!-- 140354702190408 -->\n",
       "<g class=\"node\" id=\"node1\">\n",
       "<title>140354702190408</title>\n",
       "<polygon fill=\"none\" points=\"11.5,-415.5 11.5,-461.5 263.5,-461.5 263.5,-415.5 11.5,-415.5\" stroke=\"#000000\"/>\n",
       "<text fill=\"#000000\" font-family=\"Times,serif\" font-size=\"14.00\" text-anchor=\"middle\" x=\"53.5\" y=\"-434.8\">Embedding</text>\n",
       "<polyline fill=\"none\" points=\"95.5,-415.5 95.5,-461.5 \" stroke=\"#000000\"/>\n",
       "<text fill=\"#000000\" font-family=\"Times,serif\" font-size=\"14.00\" text-anchor=\"middle\" x=\"124.5\" y=\"-446.3\">input:</text>\n",
       "<polyline fill=\"none\" points=\"95.5,-438.5 153.5,-438.5 \" stroke=\"#000000\"/>\n",
       "<text fill=\"#000000\" font-family=\"Times,serif\" font-size=\"14.00\" text-anchor=\"middle\" x=\"124.5\" y=\"-423.3\">output:</text>\n",
       "<polyline fill=\"none\" points=\"153.5,-415.5 153.5,-461.5 \" stroke=\"#000000\"/>\n",
       "<text fill=\"#000000\" font-family=\"Times,serif\" font-size=\"14.00\" text-anchor=\"middle\" x=\"208.5\" y=\"-446.3\">(None, 186)</text>\n",
       "<polyline fill=\"none\" points=\"153.5,-438.5 263.5,-438.5 \" stroke=\"#000000\"/>\n",
       "<text fill=\"#000000\" font-family=\"Times,serif\" font-size=\"14.00\" text-anchor=\"middle\" x=\"208.5\" y=\"-423.3\">(None, 186, 32)</text>\n",
       "</g>\n",
       "<!-- 140354706081328 -->\n",
       "<g class=\"node\" id=\"node2\">\n",
       "<title>140354706081328</title>\n",
       "<polygon fill=\"none\" points=\"20,-332.5 20,-378.5 255,-378.5 255,-332.5 20,-332.5\" stroke=\"#000000\"/>\n",
       "<text fill=\"#000000\" font-family=\"Times,serif\" font-size=\"14.00\" text-anchor=\"middle\" x=\"53.5\" y=\"-351.8\">Conv1D</text>\n",
       "<polyline fill=\"none\" points=\"87,-332.5 87,-378.5 \" stroke=\"#000000\"/>\n",
       "<text fill=\"#000000\" font-family=\"Times,serif\" font-size=\"14.00\" text-anchor=\"middle\" x=\"116\" y=\"-363.3\">input:</text>\n",
       "<polyline fill=\"none\" points=\"87,-355.5 145,-355.5 \" stroke=\"#000000\"/>\n",
       "<text fill=\"#000000\" font-family=\"Times,serif\" font-size=\"14.00\" text-anchor=\"middle\" x=\"116\" y=\"-340.3\">output:</text>\n",
       "<polyline fill=\"none\" points=\"145,-332.5 145,-378.5 \" stroke=\"#000000\"/>\n",
       "<text fill=\"#000000\" font-family=\"Times,serif\" font-size=\"14.00\" text-anchor=\"middle\" x=\"200\" y=\"-363.3\">(None, 186, 32)</text>\n",
       "<polyline fill=\"none\" points=\"145,-355.5 255,-355.5 \" stroke=\"#000000\"/>\n",
       "<text fill=\"#000000\" font-family=\"Times,serif\" font-size=\"14.00\" text-anchor=\"middle\" x=\"200\" y=\"-340.3\">(None, 186, 32)</text>\n",
       "</g>\n",
       "<!-- 140354702190408&#45;&gt;140354706081328 -->\n",
       "<g class=\"edge\" id=\"edge2\">\n",
       "<title>140354702190408-&gt;140354706081328</title>\n",
       "<path d=\"M137.5,-415.3799C137.5,-407.1745 137.5,-397.7679 137.5,-388.8786\" fill=\"none\" stroke=\"#000000\"/>\n",
       "<polygon fill=\"#000000\" points=\"141.0001,-388.784 137.5,-378.784 134.0001,-388.784 141.0001,-388.784\" stroke=\"#000000\"/>\n",
       "</g>\n",
       "<!-- 140354702163640 -->\n",
       "<g class=\"node\" id=\"node3\">\n",
       "<title>140354702163640</title>\n",
       "<polygon fill=\"none\" points=\"0,-249.5 0,-295.5 275,-295.5 275,-249.5 0,-249.5\" stroke=\"#000000\"/>\n",
       "<text fill=\"#000000\" font-family=\"Times,serif\" font-size=\"14.00\" text-anchor=\"middle\" x=\"53.5\" y=\"-268.8\">MaxPooling1D</text>\n",
       "<polyline fill=\"none\" points=\"107,-249.5 107,-295.5 \" stroke=\"#000000\"/>\n",
       "<text fill=\"#000000\" font-family=\"Times,serif\" font-size=\"14.00\" text-anchor=\"middle\" x=\"136\" y=\"-280.3\">input:</text>\n",
       "<polyline fill=\"none\" points=\"107,-272.5 165,-272.5 \" stroke=\"#000000\"/>\n",
       "<text fill=\"#000000\" font-family=\"Times,serif\" font-size=\"14.00\" text-anchor=\"middle\" x=\"136\" y=\"-257.3\">output:</text>\n",
       "<polyline fill=\"none\" points=\"165,-249.5 165,-295.5 \" stroke=\"#000000\"/>\n",
       "<text fill=\"#000000\" font-family=\"Times,serif\" font-size=\"14.00\" text-anchor=\"middle\" x=\"220\" y=\"-280.3\">(None, 186, 32)</text>\n",
       "<polyline fill=\"none\" points=\"165,-272.5 275,-272.5 \" stroke=\"#000000\"/>\n",
       "<text fill=\"#000000\" font-family=\"Times,serif\" font-size=\"14.00\" text-anchor=\"middle\" x=\"220\" y=\"-257.3\">(None, 93, 32)</text>\n",
       "</g>\n",
       "<!-- 140354706081328&#45;&gt;140354702163640 -->\n",
       "<g class=\"edge\" id=\"edge3\">\n",
       "<title>140354706081328-&gt;140354702163640</title>\n",
       "<path d=\"M137.5,-332.3799C137.5,-324.1745 137.5,-314.7679 137.5,-305.8786\" fill=\"none\" stroke=\"#000000\"/>\n",
       "<polygon fill=\"#000000\" points=\"141.0001,-305.784 137.5,-295.784 134.0001,-305.784 141.0001,-305.784\" stroke=\"#000000\"/>\n",
       "</g>\n",
       "<!-- 140354702257456 -->\n",
       "<g class=\"node\" id=\"node4\">\n",
       "<title>140354702257456</title>\n",
       "<polygon fill=\"none\" points=\"29.5,-166.5 29.5,-212.5 245.5,-212.5 245.5,-166.5 29.5,-166.5\" stroke=\"#000000\"/>\n",
       "<text fill=\"#000000\" font-family=\"Times,serif\" font-size=\"14.00\" text-anchor=\"middle\" x=\"57.5\" y=\"-185.8\">Flatten</text>\n",
       "<polyline fill=\"none\" points=\"85.5,-166.5 85.5,-212.5 \" stroke=\"#000000\"/>\n",
       "<text fill=\"#000000\" font-family=\"Times,serif\" font-size=\"14.00\" text-anchor=\"middle\" x=\"114.5\" y=\"-197.3\">input:</text>\n",
       "<polyline fill=\"none\" points=\"85.5,-189.5 143.5,-189.5 \" stroke=\"#000000\"/>\n",
       "<text fill=\"#000000\" font-family=\"Times,serif\" font-size=\"14.00\" text-anchor=\"middle\" x=\"114.5\" y=\"-174.3\">output:</text>\n",
       "<polyline fill=\"none\" points=\"143.5,-166.5 143.5,-212.5 \" stroke=\"#000000\"/>\n",
       "<text fill=\"#000000\" font-family=\"Times,serif\" font-size=\"14.00\" text-anchor=\"middle\" x=\"194.5\" y=\"-197.3\">(None, 93, 32)</text>\n",
       "<polyline fill=\"none\" points=\"143.5,-189.5 245.5,-189.5 \" stroke=\"#000000\"/>\n",
       "<text fill=\"#000000\" font-family=\"Times,serif\" font-size=\"14.00\" text-anchor=\"middle\" x=\"194.5\" y=\"-174.3\">(None, 2976)</text>\n",
       "</g>\n",
       "<!-- 140354702163640&#45;&gt;140354702257456 -->\n",
       "<g class=\"edge\" id=\"edge4\">\n",
       "<title>140354702163640-&gt;140354702257456</title>\n",
       "<path d=\"M137.5,-249.3799C137.5,-241.1745 137.5,-231.7679 137.5,-222.8786\" fill=\"none\" stroke=\"#000000\"/>\n",
       "<polygon fill=\"#000000\" points=\"141.0001,-222.784 137.5,-212.784 134.0001,-222.784 141.0001,-222.784\" stroke=\"#000000\"/>\n",
       "</g>\n",
       "<!-- 140354706081160 -->\n",
       "<g class=\"node\" id=\"node5\">\n",
       "<title>140354706081160</title>\n",
       "<polygon fill=\"none\" points=\"35,-83.5 35,-129.5 240,-129.5 240,-83.5 35,-83.5\" stroke=\"#000000\"/>\n",
       "<text fill=\"#000000\" font-family=\"Times,serif\" font-size=\"14.00\" text-anchor=\"middle\" x=\"61\" y=\"-102.8\">Dense</text>\n",
       "<polyline fill=\"none\" points=\"87,-83.5 87,-129.5 \" stroke=\"#000000\"/>\n",
       "<text fill=\"#000000\" font-family=\"Times,serif\" font-size=\"14.00\" text-anchor=\"middle\" x=\"116\" y=\"-114.3\">input:</text>\n",
       "<polyline fill=\"none\" points=\"87,-106.5 145,-106.5 \" stroke=\"#000000\"/>\n",
       "<text fill=\"#000000\" font-family=\"Times,serif\" font-size=\"14.00\" text-anchor=\"middle\" x=\"116\" y=\"-91.3\">output:</text>\n",
       "<polyline fill=\"none\" points=\"145,-83.5 145,-129.5 \" stroke=\"#000000\"/>\n",
       "<text fill=\"#000000\" font-family=\"Times,serif\" font-size=\"14.00\" text-anchor=\"middle\" x=\"192.5\" y=\"-114.3\">(None, 2976)</text>\n",
       "<polyline fill=\"none\" points=\"145,-106.5 240,-106.5 \" stroke=\"#000000\"/>\n",
       "<text fill=\"#000000\" font-family=\"Times,serif\" font-size=\"14.00\" text-anchor=\"middle\" x=\"192.5\" y=\"-91.3\">(None, 250)</text>\n",
       "</g>\n",
       "<!-- 140354702257456&#45;&gt;140354706081160 -->\n",
       "<g class=\"edge\" id=\"edge5\">\n",
       "<title>140354702257456-&gt;140354706081160</title>\n",
       "<path d=\"M137.5,-166.3799C137.5,-158.1745 137.5,-148.7679 137.5,-139.8786\" fill=\"none\" stroke=\"#000000\"/>\n",
       "<polygon fill=\"#000000\" points=\"141.0001,-139.784 137.5,-129.784 134.0001,-139.784 141.0001,-139.784\" stroke=\"#000000\"/>\n",
       "</g>\n",
       "<!-- 140354702250504 -->\n",
       "<g class=\"node\" id=\"node6\">\n",
       "<title>140354702250504</title>\n",
       "<polygon fill=\"none\" points=\"39,-.5 39,-46.5 236,-46.5 236,-.5 39,-.5\" stroke=\"#000000\"/>\n",
       "<text fill=\"#000000\" font-family=\"Times,serif\" font-size=\"14.00\" text-anchor=\"middle\" x=\"65\" y=\"-19.8\">Dense</text>\n",
       "<polyline fill=\"none\" points=\"91,-.5 91,-46.5 \" stroke=\"#000000\"/>\n",
       "<text fill=\"#000000\" font-family=\"Times,serif\" font-size=\"14.00\" text-anchor=\"middle\" x=\"120\" y=\"-31.3\">input:</text>\n",
       "<polyline fill=\"none\" points=\"91,-23.5 149,-23.5 \" stroke=\"#000000\"/>\n",
       "<text fill=\"#000000\" font-family=\"Times,serif\" font-size=\"14.00\" text-anchor=\"middle\" x=\"120\" y=\"-8.3\">output:</text>\n",
       "<polyline fill=\"none\" points=\"149,-.5 149,-46.5 \" stroke=\"#000000\"/>\n",
       "<text fill=\"#000000\" font-family=\"Times,serif\" font-size=\"14.00\" text-anchor=\"middle\" x=\"192.5\" y=\"-31.3\">(None, 250)</text>\n",
       "<polyline fill=\"none\" points=\"149,-23.5 236,-23.5 \" stroke=\"#000000\"/>\n",
       "<text fill=\"#000000\" font-family=\"Times,serif\" font-size=\"14.00\" text-anchor=\"middle\" x=\"192.5\" y=\"-8.3\">(None, 5)</text>\n",
       "</g>\n",
       "<!-- 140354706081160&#45;&gt;140354702250504 -->\n",
       "<g class=\"edge\" id=\"edge6\">\n",
       "<title>140354706081160-&gt;140354702250504</title>\n",
       "<path d=\"M137.5,-83.3799C137.5,-75.1745 137.5,-65.7679 137.5,-56.8786\" fill=\"none\" stroke=\"#000000\"/>\n",
       "<polygon fill=\"#000000\" points=\"141.0001,-56.784 137.5,-46.784 134.0001,-56.784 141.0001,-56.784\" stroke=\"#000000\"/>\n",
       "</g>\n",
       "<!-- 140354706081888 -->\n",
       "<g class=\"node\" id=\"node7\">\n",
       "<title>140354706081888</title>\n",
       "<polygon fill=\"none\" points=\"73,-498.5 73,-534.5 202,-534.5 202,-498.5 73,-498.5\" stroke=\"#000000\"/>\n",
       "<text fill=\"#000000\" font-family=\"Times,serif\" font-size=\"14.00\" text-anchor=\"middle\" x=\"137.5\" y=\"-512.8\">140354706081888</text>\n",
       "</g>\n",
       "<!-- 140354706081888&#45;&gt;140354702190408 -->\n",
       "<g class=\"edge\" id=\"edge1\">\n",
       "<title>140354706081888-&gt;140354702190408</title>\n",
       "<path d=\"M137.5,-498.4092C137.5,-490.4308 137.5,-480.795 137.5,-471.606\" fill=\"none\" stroke=\"#000000\"/>\n",
       "<polygon fill=\"#000000\" points=\"141.0001,-471.5333 137.5,-461.5333 134.0001,-471.5334 141.0001,-471.5333\" stroke=\"#000000\"/>\n",
       "</g>\n",
       "</g>\n",
       "</svg>"
      ],
      "text/plain": [
       "<IPython.core.display.SVG object>"
      ]
     },
     "execution_count": 24,
     "metadata": {
      "tags": []
     },
     "output_type": "execute_result"
    }
   ],
   "source": [
    "SVG(model_to_dot(model, show_shapes=True, show_layer_names=False, \n",
    "                 rankdir='TB').create(prog='dot', format='svg'))"
   ]
  },
  {
   "cell_type": "code",
   "execution_count": 25,
   "metadata": {
    "colab": {
     "base_uri": "https://localhost:8080/",
     "height": 297
    },
    "colab_type": "code",
    "id": "60eC_0fRJXiQ",
    "outputId": "f702f962-ca37-45ba-832e-4d39ac508065"
   },
   "outputs": [
    {
     "name": "stderr",
     "output_type": "stream",
     "text": [
      "W0722 06:48:10.465028 140356388235136 deprecation.py:323] From /usr/local/lib/python3.6/dist-packages/tensorflow/python/ops/math_grad.py:1250: add_dispatch_support.<locals>.wrapper (from tensorflow.python.ops.array_ops) is deprecated and will be removed in a future version.\n",
      "Instructions for updating:\n",
      "Use tf.where in 2.0, which has the same broadcast rule as np.where\n",
      "W0722 06:48:10.547070 140356388235136 deprecation_wrapper.py:119] From /usr/local/lib/python3.6/dist-packages/keras/backend/tensorflow_backend.py:986: The name tf.assign_add is deprecated. Please use tf.compat.v1.assign_add instead.\n",
      "\n"
     ]
    },
    {
     "name": "stdout",
     "output_type": "stream",
     "text": [
      "Train on 67225 samples, validate on 16807 samples\n",
      "Epoch 1/50\n",
      "67225/67225 [==============================] - 7s 97us/step - loss: 0.9822 - acc: 0.6231 - val_loss: 0.8782 - val_acc: 0.6594\n",
      "Epoch 2/50\n",
      "67225/67225 [==============================] - 3s 46us/step - loss: 0.7812 - acc: 0.6938 - val_loss: 0.8559 - val_acc: 0.6631\n",
      "Epoch 3/50\n",
      "67225/67225 [==============================] - 3s 45us/step - loss: 0.6755 - acc: 0.7374 - val_loss: 0.8948 - val_acc: 0.6622\n",
      "Epoch 4/50\n",
      "67225/67225 [==============================] - 3s 46us/step - loss: 0.5728 - acc: 0.7803 - val_loss: 0.9802 - val_acc: 0.6578\n",
      "Epoch 00004: early stopping\n"
     ]
    }
   ],
   "source": [
    "early_stop = EarlyStopping(monitor='val_loss', patience=2, verbose=1)\n",
    "network_history = model.fit(X_train, y_train,\n",
    "                      batch_size=BATCH_SIZE,\n",
    "                      epochs=EPOCHS,\n",
    "                      verbose=1,\n",
    "                      validation_split=0.2,\n",
    "                      callbacks=[early_stop])"
   ]
  },
  {
   "cell_type": "code",
   "execution_count": 26,
   "metadata": {
    "colab": {
     "base_uri": "https://localhost:8080/",
     "height": 52
    },
    "colab_type": "code",
    "id": "2VHBrsPjJXiS",
    "outputId": "92d45833-1963-4dd8-a183-2a0805158f46"
   },
   "outputs": [
    {
     "name": "stdout",
     "output_type": "stream",
     "text": [
      "28011/28011 [==============================] - 1s 50us/step\n",
      "Accuracy: 66.00%\n"
     ]
    }
   ],
   "source": [
    "scores = model.evaluate(X_test, y_test, verbose=1)\n",
    "print(\"Accuracy: %.2f%%\" % (scores[1]*100))\n"
   ]
  },
  {
   "cell_type": "code",
   "execution_count": 27,
   "metadata": {
    "colab": {
     "base_uri": "https://localhost:8080/",
     "height": 565
    },
    "colab_type": "code",
    "id": "CsBholvaJXiU",
    "outputId": "efa2b2a0-9af9-4b52-dc8c-ba0bc090f0a3"
   },
   "outputs": [
    {
     "data": {
      "image/png": "[encoded data removed]",
      "text/plain": [
       "<Figure size 432x288 with 1 Axes>"
      ]
     },
     "metadata": {
      "tags": []
     },
     "output_type": "display_data"
    },
    {
     "data": {
      "image/png": "[encoded data removed]",
      "text/plain": [
       "<Figure size 432x288 with 1 Axes>"
      ]
     },
     "metadata": {
      "tags": []
     },
     "output_type": "display_data"
    }
   ],
   "source": [
    "import matplotlib.pyplot as plt\n",
    "%matplotlib inline\n",
    "\n",
    "def plot_history(network_history):\n",
    "    plt.figure()\n",
    "    plt.xlabel('Epochs')\n",
    "    plt.ylabel('Loss')\n",
    "    plt.plot(network_history.history['loss'])\n",
    "    plt.plot(network_history.history['val_loss'])\n",
    "    plt.legend(['Training', 'Validation'])\n",
    "\n",
    "    plt.figure()\n",
    "    plt.xlabel('Epochs')\n",
    "    plt.ylabel('Accuracy')\n",
    "    plt.plot(network_history.history['acc'])\n",
    "    plt.plot(network_history.history['val_acc'])\n",
    "    plt.legend(['Training', 'Validation'], loc='lower right')\n",
    "    plt.show()\n",
    "\n",
    "plot_history(network_history)"
   ]
  },
  {
   "cell_type": "code",
   "execution_count": null,
   "metadata": {
    "colab": {},
    "colab_type": "code",
    "id": "PQjt_pC_JXiX"
   },
   "outputs": [],
   "source": [
    "y_predict = model.predict(X_test)"
   ]
  },
  {
   "cell_type": "code",
   "execution_count": 29,
   "metadata": {
    "colab": {
     "base_uri": "https://localhost:8080/",
     "height": 202
    },
    "colab_type": "code",
    "id": "x76NhB9rJXia",
    "outputId": "afa62768-03a9-45a6-fde9-6851c50e833b"
   },
   "outputs": [
    {
     "data": {
      "text/html": [
       "<div>\n",
       "<style scoped>\n",
       "    .dataframe tbody tr th:only-of-type {\n",
       "        vertical-align: middle;\n",
       "    }\n",
       "\n",
       "    .dataframe tbody tr th {\n",
       "        vertical-align: top;\n",
       "    }\n",
       "\n",
       "    .dataframe thead th {\n",
       "        text-align: right;\n",
       "    }\n",
       "</style>\n",
       "<table border=\"1\" class=\"dataframe\">\n",
       "  <thead>\n",
       "    <tr style=\"text-align: right;\">\n",
       "      <th></th>\n",
       "      <th>0</th>\n",
       "      <th>1</th>\n",
       "      <th>2</th>\n",
       "      <th>3</th>\n",
       "      <th>4</th>\n",
       "    </tr>\n",
       "  </thead>\n",
       "  <tbody>\n",
       "    <tr>\n",
       "      <th>0</th>\n",
       "      <td>0.000030</td>\n",
       "      <td>0.000329</td>\n",
       "      <td>0.006626</td>\n",
       "      <td>0.139246</td>\n",
       "      <td>0.853768</td>\n",
       "    </tr>\n",
       "    <tr>\n",
       "      <th>1</th>\n",
       "      <td>0.001568</td>\n",
       "      <td>0.004818</td>\n",
       "      <td>0.033607</td>\n",
       "      <td>0.203701</td>\n",
       "      <td>0.756305</td>\n",
       "    </tr>\n",
       "    <tr>\n",
       "      <th>2</th>\n",
       "      <td>0.000218</td>\n",
       "      <td>0.000896</td>\n",
       "      <td>0.005461</td>\n",
       "      <td>0.107928</td>\n",
       "      <td>0.885496</td>\n",
       "    </tr>\n",
       "    <tr>\n",
       "      <th>3</th>\n",
       "      <td>0.002356</td>\n",
       "      <td>0.002625</td>\n",
       "      <td>0.040927</td>\n",
       "      <td>0.088051</td>\n",
       "      <td>0.866040</td>\n",
       "    </tr>\n",
       "    <tr>\n",
       "      <th>4</th>\n",
       "      <td>0.000409</td>\n",
       "      <td>0.000381</td>\n",
       "      <td>0.005100</td>\n",
       "      <td>0.078809</td>\n",
       "      <td>0.915302</td>\n",
       "    </tr>\n",
       "  </tbody>\n",
       "</table>\n",
       "</div>"
      ],
      "text/plain": [
       "          0         1         2         3         4\n",
       "0  0.000030  0.000329  0.006626  0.139246  0.853768\n",
       "1  0.001568  0.004818  0.033607  0.203701  0.756305\n",
       "2  0.000218  0.000896  0.005461  0.107928  0.885496\n",
       "3  0.002356  0.002625  0.040927  0.088051  0.866040\n",
       "4  0.000409  0.000381  0.005100  0.078809  0.915302"
      ]
     },
     "execution_count": 29,
     "metadata": {
      "tags": []
     },
     "output_type": "execute_result"
    }
   ],
   "source": [
    "y_predict_df = pd.DataFrame(y_predict)\n",
    "y_predict_df.head()"
   ]
  },
  {
   "cell_type": "code",
   "execution_count": null,
   "metadata": {
    "colab": {},
    "colab_type": "code",
    "id": "woC_Rgk4JXid"
   },
   "outputs": [],
   "source": [
    "y_predict_unencoded = [row.idxmax() + 1 for index, row in y_predict_df.iterrows()]"
   ]
  },
  {
   "cell_type": "code",
   "execution_count": 31,
   "metadata": {
    "colab": {
     "base_uri": "https://localhost:8080/",
     "height": 35
    },
    "colab_type": "code",
    "id": "P0xGW_dOJXie",
    "outputId": "9637e73f-5b3d-409f-af79-6cd7f8e5572e"
   },
   "outputs": [
    {
     "data": {
      "text/plain": [
       "[5, 5, 4]"
      ]
     },
     "execution_count": 31,
     "metadata": {
      "tags": []
     },
     "output_type": "execute_result"
    }
   ],
   "source": [
    "# unencode the predictions back into it's classes\n",
    "y_test_df = pd.DataFrame(y_test)\n",
    "y_test_unencoded = [row.idxmax() + 1 for index, row in y_test_df.iterrows()]\n",
    "y_test_unencoded[:3]"
   ]
  },
  {
   "cell_type": "code",
   "execution_count": 32,
   "metadata": {
    "colab": {
     "base_uri": "https://localhost:8080/",
     "height": 104
    },
    "colab_type": "code",
    "id": "QyaOAdhqJXih",
    "outputId": "9900aa09-5c07-4660-f6c9-ef3ad0670fe5"
   },
   "outputs": [
    {
     "data": {
      "text/plain": [
       "array([[ 3143,   181,   270,    54,   320],\n",
       "       [  918,   186,   348,   144,   275],\n",
       "       [  582,   179,   658,   493,   619],\n",
       "       [  172,    85,   451,  1259,  2785],\n",
       "       [  248,    35,   262,  1103, 13241]])"
      ]
     },
     "execution_count": 32,
     "metadata": {
      "tags": []
     },
     "output_type": "execute_result"
    }
   ],
   "source": [
    "confusion_matrix(y_test_unencoded, y_predict_unencoded)"
   ]
  },
  {
   "cell_type": "code",
   "execution_count": 33,
   "metadata": {
    "colab": {
     "base_uri": "https://localhost:8080/",
     "height": 225
    },
    "colab_type": "code",
    "id": "6emER3oBJXil",
    "outputId": "5e5d136d-5bfa-4934-d2ef-05d2543871e7"
   },
   "outputs": [
    {
     "name": "stdout",
     "output_type": "stream",
     "text": [
      "              precision    recall  f1-score   support\n",
      "\n",
      "           1       0.62      0.79      0.70      3968\n",
      "           2       0.28      0.10      0.15      1871\n",
      "           3       0.33      0.26      0.29      2531\n",
      "           4       0.41      0.26      0.32      4752\n",
      "           5       0.77      0.89      0.82     14889\n",
      "\n",
      "    accuracy                           0.66     28011\n",
      "   macro avg       0.48      0.46      0.46     28011\n",
      "weighted avg       0.61      0.66      0.63     28011\n",
      "\n"
     ]
    }
   ],
   "source": [
    "print(classification_report(y_test_unencoded, y_predict_unencoded))"
   ]
  },
  {
   "cell_type": "code",
   "execution_count": null,
   "metadata": {
    "colab": {},
    "colab_type": "code",
    "id": "J2xF1HQabEPq"
   },
   "outputs": [],
   "source": [
    "from sklearn.metrics import roc_curve, auc\n",
    "import numpy as np\n",
    "\n",
    "def plot_roc_auc(y_test, y_score):\n",
    "  n_classes = 5\n",
    "  # to compute the micro RUC/AUC, we need binariized labels (y_test) and probability of predictions y_predict_df\n",
    "\n",
    "  fpr = {}\n",
    "  tpr = {}\n",
    "  roc_auc = {}\n",
    "  for i in np.arange(0, 5):\n",
    "      fpr[i], tpr[i], _ = roc_curve(y_test[:, i], y_score[i].to_list())\n",
    "      roc_auc[f'auc_{i + 1}'] = auc(fpr[i], tpr[i])\n",
    "\n",
    "\n",
    "  # Compute micro-average ROC curve and ROC area\n",
    "  fpr[\"micro\"], tpr[\"micro\"], _ = roc_curve(y_test.ravel(), y_score.values.ravel())\n",
    "  roc_auc[\"auc_micro\"] = auc(fpr[\"micro\"], tpr[\"micro\"])\n",
    "\n",
    "\n",
    "  # Compute macro-average ROC curve and ROC area\n",
    "\n",
    "  # First aggregate all false positive rates\n",
    "  all_fpr = np.unique(np.concatenate([fpr[i] for i in range(n_classes)]))\n",
    "\n",
    "  # Then interpolate all ROC curves at this points\n",
    "  mean_tpr = np.zeros_like(all_fpr)\n",
    "  for i in range(n_classes):\n",
    "      mean_tpr += np.interp(all_fpr, fpr[i], tpr[i])\n",
    "\n",
    "  # Finally aveage it and compute AUC\n",
    "  mean_tpr /= n_classes\n",
    "\n",
    "  fpr[\"macro\"] = all_fpr\n",
    "  tpr[\"macro\"] = mean_tpr\n",
    "  roc_auc[\"auc_macro\"] = auc(fpr[\"macro\"], tpr[\"macro\"])\n",
    "  \n",
    "  for i in np.arange(0, 5):\n",
    "    plt.plot(fpr[i], tpr[i], label=f'Rating {i+1}')\n",
    "  plt.plot(fpr[\"micro\"], tpr[\"micro\"], label=\"Micro Average ROC\", \n",
    "           linestyle=\":\", linewidth=4, color='pink')\n",
    "#   a.lines[5].set_linestyle(\":\")\n",
    "  plt.plot(fpr[\"macro\"], tpr[\"macro\"], label=\"Macro Average ROC\", \n",
    "           linestyle=\":\", linewidth=4, color='black')\n",
    "#   a.lines[6].set_linestyle(\":\")\n",
    "  plt.plot([0, 1], [0, 1], color='navy', linestyle='--')\n",
    "#   a.lines[7].set_linestyle(\"--\")\n",
    "  \n",
    "  plt.legend(loc='lower right')\n",
    "  plt.xlabel('FPR')\n",
    "  plt.ylabel('TPR')\n",
    "  plt.title('ROC AUC')\n",
    "  \n",
    "  return roc_auc\n",
    "  "
   ]
  },
  {
   "cell_type": "code",
   "execution_count": 35,
   "metadata": {
    "colab": {
     "base_uri": "https://localhost:8080/",
     "height": 355
    },
    "colab_type": "code",
    "id": "H12pYFCj1Hbn",
    "outputId": "e6502668-6990-4d06-cb69-6bd303da2446"
   },
   "outputs": [
    {
     "data": {
      "image/png": "[encoded data removed]",
      "text/plain": [
       "<Figure size 360x360 with 1 Axes>"
      ]
     },
     "metadata": {
      "tags": []
     },
     "output_type": "display_data"
    }
   ],
   "source": [
    "# f, axis = plt.subplots(1, 1, figsize=(5, 5))\n",
    "fig = plt.figure(figsize=(5,5))\n",
    "roc_auc =  plot_roc_auc(y_test, y_predict_df)"
   ]
  },
  {
   "cell_type": "code",
   "execution_count": 36,
   "metadata": {
    "colab": {
     "base_uri": "https://localhost:8080/",
     "height": 139
    },
    "colab_type": "code",
    "id": "S-WAgwC60RJ5",
    "outputId": "2253267c-35fb-4f74-a5fa-2f2471461db2"
   },
   "outputs": [
    {
     "data": {
      "text/plain": [
       "{'auc_1': 0.9436163412025229,\n",
       " 'auc_2': 0.844943326175668,\n",
       " 'auc_3': 0.8048566922438064,\n",
       " 'auc_4': 0.7274646852968685,\n",
       " 'auc_5': 0.8705556155944171,\n",
       " 'auc_macro': 0.8383112126780756,\n",
       " 'auc_micro': 0.8997827542406561}"
      ]
     },
     "execution_count": 36,
     "metadata": {
      "tags": []
     },
     "output_type": "execute_result"
    }
   ],
   "source": [
    "roc_auc"
   ]
  },
  {
   "cell_type": "markdown",
   "metadata": {
    "colab_type": "text",
    "id": "VQ4GRUTq6t6e"
   },
   "source": [
    "**Save off various files**"
   ]
  },
  {
   "cell_type": "code",
   "execution_count": null,
   "metadata": {
    "colab": {},
    "colab_type": "code",
    "id": "VjW8V1MR61kJ"
   },
   "outputs": [],
   "source": [
    "directory, INBASENAME = fu.get_dir_basename(DATA_FILE)\n",
    "DESCRIPTION = f\"{INBASENAME}-nosmote-{MODEL_NAME}-{MAX_SEQUENCE_LENGTH}-{FEATURE_COLUMN}\"\n",
    "MODEL_FILE = f\"{DRIVE_DIR}/models/{datetime.now().strftime(DATE_FORMAT)}-{DESCRIPTION}.h5\"\n",
    "NETWORK_HISTORY_FILE = f'{DRIVE_DIR}/models/{datetime.now().strftime(DATE_FORMAT)}-{DESCRIPTION}-history.pkl'\n",
    "REPORT_FILE = f\"{DRIVE_DIR}/reports/{datetime.now().strftime(DATE_FORMAT)}-CNN_notebook_protype-report.csv\"\n",
    "TOKENIZER_FILE = f'{DRIVE_DIR}/models/{datetime.now().strftime(DATE_FORMAT)}-{DESCRIPTION}-tokenizer.pkl'\n"
   ]
  },
  {
   "cell_type": "code",
   "execution_count": null,
   "metadata": {
    "colab": {},
    "colab_type": "code",
    "id": "GjVjezXPJXin"
   },
   "outputs": [],
   "source": [
    "model.save(MODEL_FILE)"
   ]
  },
  {
   "cell_type": "code",
   "execution_count": null,
   "metadata": {
    "colab": {},
    "colab_type": "code",
    "id": "Cad0ykC2JXip"
   },
   "outputs": [],
   "source": [
    "pickle.dump(network_history, open(NETWORK_HISTORY_FILE, \"wb\"))"
   ]
  },
  {
   "cell_type": "code",
   "execution_count": null,
   "metadata": {
    "colab": {},
    "colab_type": "code",
    "id": "yrGApZiwgRgR"
   },
   "outputs": [],
   "source": [
    "pickle.dump(t, open(TOKENIZER_FILE, \"wb\"))"
   ]
  },
  {
   "cell_type": "code",
   "execution_count": null,
   "metadata": {
    "colab": {},
    "colab_type": "code",
    "id": "oz4FzsvmJXit"
   },
   "outputs": [],
   "source": [
    "# saving off report in the same format as other report just in case we want to compare for later\n",
    "flattened = {}\n",
    "flattened = du.add_dict_to_dict(flattened, classification_report(y_test_unencoded, y_predict_unencoded, output_dict=True))\n",
    "flattened = du.add_dict_to_dict(flattened, roc_auc)\n",
    "flattened[\"confusion_matrix\"] = confusion_matrix(y_test_unencoded, y_predict_unencoded)\n",
    "flattened[\"description\"] = DESCRIPTION\n",
    "flattened[\"file\"] = DATA_FILE\n",
    "flattened[\"network_history_file\"] = NETWORK_HISTORY_FILE\n",
    "flattened[\"tokenizer_file\"] = TOKENIZER_FILE\n",
    "flattened[\"max_sequence_length\"] = MAX_SEQUENCE_LENGTH\n",
    "flattened[\"embedding\"] = EMBED_SIZE\n",
    "flattened[\"model_file\"] = MODEL_FILE\n",
    "flattened[\"model_name\"] = MODEL_NAME\n",
    "flattened[\"test_examples\"] = X_test.shape[0]\n",
    "flattened[\"test_features\"] = X_test.shape[1]\n",
    "flattened[\"train_examples\"] = X_train.shape[0]\n",
    "flattened[\"train_features\"] = X_train.shape[1]\n",
    "flattened[\"status\"] = \"success\"\n",
    "flattened[\"status_date\"] = datetime.now().strftime(TIME_FORMAT)\n"
   ]
  },
  {
   "cell_type": "code",
   "execution_count": 42,
   "metadata": {
    "colab": {
     "base_uri": "https://localhost:8080/",
     "height": 169
    },
    "colab_type": "code",
    "id": "n_tWTK57JXiv",
    "outputId": "69f4f324-e79f-42c8-cee0-080dee068a24"
   },
   "outputs": [
    {
     "data": {
      "text/html": [
       "<div>\n",
       "<style scoped>\n",
       "    .dataframe tbody tr th:only-of-type {\n",
       "        vertical-align: middle;\n",
       "    }\n",
       "\n",
       "    .dataframe tbody tr th {\n",
       "        vertical-align: top;\n",
       "    }\n",
       "\n",
       "    .dataframe thead th {\n",
       "        text-align: right;\n",
       "    }\n",
       "</style>\n",
       "<table border=\"1\" class=\"dataframe\">\n",
       "  <thead>\n",
       "    <tr style=\"text-align: right;\">\n",
       "      <th></th>\n",
       "      <th>1_f1-score</th>\n",
       "      <th>1_precision</th>\n",
       "      <th>1_recall</th>\n",
       "      <th>1_support</th>\n",
       "      <th>2_f1-score</th>\n",
       "      <th>2_precision</th>\n",
       "      <th>2_recall</th>\n",
       "      <th>2_support</th>\n",
       "      <th>3_f1-score</th>\n",
       "      <th>3_precision</th>\n",
       "      <th>3_recall</th>\n",
       "      <th>3_support</th>\n",
       "      <th>4_f1-score</th>\n",
       "      <th>4_precision</th>\n",
       "      <th>4_recall</th>\n",
       "      <th>4_support</th>\n",
       "      <th>5_f1-score</th>\n",
       "      <th>5_precision</th>\n",
       "      <th>5_recall</th>\n",
       "      <th>5_support</th>\n",
       "      <th>accuracy</th>\n",
       "      <th>auc_1</th>\n",
       "      <th>auc_2</th>\n",
       "      <th>auc_3</th>\n",
       "      <th>auc_4</th>\n",
       "      <th>auc_5</th>\n",
       "      <th>auc_macro</th>\n",
       "      <th>auc_micro</th>\n",
       "      <th>confusion_matrix</th>\n",
       "      <th>description</th>\n",
       "      <th>embedding</th>\n",
       "      <th>file</th>\n",
       "      <th>macro avg_f1-score</th>\n",
       "      <th>macro avg_precision</th>\n",
       "      <th>macro avg_recall</th>\n",
       "      <th>macro avg_support</th>\n",
       "      <th>max_sequence_length</th>\n",
       "      <th>model_file</th>\n",
       "      <th>model_name</th>\n",
       "      <th>network_history_file</th>\n",
       "      <th>status</th>\n",
       "      <th>status_date</th>\n",
       "      <th>test_examples</th>\n",
       "      <th>test_features</th>\n",
       "      <th>tokenizer_file</th>\n",
       "      <th>train_examples</th>\n",
       "      <th>train_features</th>\n",
       "      <th>weighted avg_f1-score</th>\n",
       "      <th>weighted avg_precision</th>\n",
       "      <th>weighted avg_recall</th>\n",
       "      <th>weighted avg_support</th>\n",
       "    </tr>\n",
       "  </thead>\n",
       "  <tbody>\n",
       "    <tr>\n",
       "      <th>0</th>\n",
       "      <td>0.696047</td>\n",
       "      <td>0.620778</td>\n",
       "      <td>0.792087</td>\n",
       "      <td>3968.0</td>\n",
       "      <td>0.14663</td>\n",
       "      <td>0.279279</td>\n",
       "      <td>0.099412</td>\n",
       "      <td>1871.0</td>\n",
       "      <td>0.29115</td>\n",
       "      <td>0.33082</td>\n",
       "      <td>0.259976</td>\n",
       "      <td>2531.0</td>\n",
       "      <td>0.322614</td>\n",
       "      <td>0.412381</td>\n",
       "      <td>0.264941</td>\n",
       "      <td>4752.0</td>\n",
       "      <td>0.82424</td>\n",
       "      <td>0.768039</td>\n",
       "      <td>0.889314</td>\n",
       "      <td>14889.0</td>\n",
       "      <td>0.659991</td>\n",
       "      <td>0.943616</td>\n",
       "      <td>0.844943</td>\n",
       "      <td>0.804857</td>\n",
       "      <td>0.727465</td>\n",
       "      <td>0.870556</td>\n",
       "      <td>0.838311</td>\n",
       "      <td>0.899783</td>\n",
       "      <td>[[3143, 181, 270, 54, 320], [918, 186, 348, 14...</td>\n",
       "      <td>amazon_reviews_us_Wireless_v1_00-preprocessed-...</td>\n",
       "      <td>32.0</td>\n",
       "      <td>drive/My Drive/Springboard/capstone/data/amazo...</td>\n",
       "      <td>0.456136</td>\n",
       "      <td>0.48226</td>\n",
       "      <td>0.461146</td>\n",
       "      <td>28011.0</td>\n",
       "      <td>186.0</td>\n",
       "      <td>drive/My Drive/Springboard/capstone/models/201...</td>\n",
       "      <td>CNN1layerEmbedding32</td>\n",
       "      <td>drive/My Drive/Springboard/capstone/models/201...</td>\n",
       "      <td>success</td>\n",
       "      <td>2019-07-22 06:48:39</td>\n",
       "      <td>28011.0</td>\n",
       "      <td>186.0</td>\n",
       "      <td>drive/My Drive/Springboard/capstone/models/201...</td>\n",
       "      <td>84032.0</td>\n",
       "      <td>186.0</td>\n",
       "      <td>0.627551</td>\n",
       "      <td>0.614689</td>\n",
       "      <td>0.659991</td>\n",
       "      <td>28011.0</td>\n",
       "    </tr>\n",
       "  </tbody>\n",
       "</table>\n",
       "</div>"
      ],
      "text/plain": [
       "   1_f1-score  1_precision  ...  weighted avg_recall  weighted avg_support\n",
       "0    0.696047     0.620778  ...             0.659991               28011.0\n",
       "\n",
       "[1 rows x 51 columns]"
      ]
     },
     "execution_count": 42,
     "metadata": {
      "tags": []
     },
     "output_type": "execute_result"
    }
   ],
   "source": [
    "# check to see if report file exisits, if so load it and append\n",
    "exists = os.path.isfile(REPORT_FILE)\n",
    "if exists:\n",
    "    report_df = pd.read_csv(REPORT_FILE)\n",
    "else:\n",
    "    report_df = pd.DataFrame()\n",
    "    \n",
    "report_df = report_df.append(flattened, ignore_index=True)\n",
    "report_df.head(20)\n",
    "\n"
   ]
  },
  {
   "cell_type": "code",
   "execution_count": null,
   "metadata": {
    "colab": {},
    "colab_type": "code",
    "id": "w0FY2QZvJXiw"
   },
   "outputs": [],
   "source": [
    "report_df.to_csv(REPORT_FILE, index=False)"
   ]
  },
  {
   "cell_type": "code",
   "execution_count": null,
   "metadata": {
    "colab": {},
    "colab_type": "code",
    "id": "96A-A5CBJXiy"
   },
   "outputs": [],
   "source": []
  },
  {
   "cell_type": "markdown",
   "metadata": {
    "colab_type": "text",
    "id": "N9_HdFxaFbvB"
   },
   "source": [
    "# Second model of this with embedding of size 300 instead of 35"
   ]
  },
  {
   "cell_type": "code",
   "execution_count": null,
   "metadata": {
    "colab": {},
    "colab_type": "code",
    "id": "9xV6tWa0Fiky"
   },
   "outputs": [],
   "source": [
    "EMBED_SIZE_300 = 300\n",
    "model300 = Sequential()\n",
    "model300.add(Embedding(VOCAB_SIZE, EMBED_SIZE_300, input_length=MAX_SEQUENCE_LENGTH))\n",
    "model300.add(Conv1D(filters=32, kernel_size=3, padding='same', activation='relu'))\n",
    "model300.add(MaxPooling1D(pool_size=2))\n",
    "model300.add(Flatten())\n",
    "model300.add(Dense(250, activation='relu'))\n",
    "model300.add(Dense(5, activation='softmax'))\n",
    "model300.compile(loss='categorical_crossentropy', optimizer='adam', metrics=['accuracy'])\n"
   ]
  },
  {
   "cell_type": "code",
   "execution_count": 45,
   "metadata": {
    "colab": {
     "base_uri": "https://localhost:8080/",
     "height": 364
    },
    "colab_type": "code",
    "id": "g3s1EwMSFzCz",
    "outputId": "292cf163-4cba-49f8-e3c7-0291b045ba5f"
   },
   "outputs": [
    {
     "name": "stdout",
     "output_type": "stream",
     "text": [
      "_________________________________________________________________\n",
      "Layer (type)                 Output Shape              Param #   \n",
      "=================================================================\n",
      "embedding_2 (Embedding)      (None, 186, 300)          12236700  \n",
      "_________________________________________________________________\n",
      "conv1d_2 (Conv1D)            (None, 186, 32)           28832     \n",
      "_________________________________________________________________\n",
      "max_pooling1d_2 (MaxPooling1 (None, 93, 32)            0         \n",
      "_________________________________________________________________\n",
      "flatten_2 (Flatten)          (None, 2976)              0         \n",
      "_________________________________________________________________\n",
      "dense_3 (Dense)              (None, 250)               744250    \n",
      "_________________________________________________________________\n",
      "dense_4 (Dense)              (None, 5)                 1255      \n",
      "=================================================================\n",
      "Total params: 13,011,037\n",
      "Trainable params: 13,011,037\n",
      "Non-trainable params: 0\n",
      "_________________________________________________________________\n",
      "None\n"
     ]
    }
   ],
   "source": [
    "print(model300.summary())"
   ]
  },
  {
   "cell_type": "code",
   "execution_count": 46,
   "metadata": {
    "colab": {
     "base_uri": "https://localhost:8080/",
     "height": 745
    },
    "colab_type": "code",
    "id": "y-gTEUIzF0TJ",
    "outputId": "f8cfe046-6a3b-4709-f890-c91e2021460a"
   },
   "outputs": [
    {
     "data": {
      "image/svg+xml": [
       "<svg height=\"543pt\" viewBox=\"0.00 0.00 283.00 543.00\" width=\"283pt\" xmlns=\"http://www.w3.org/2000/svg\" xmlns:xlink=\"http://www.w3.org/1999/xlink\">\n",
       "<g class=\"graph\" id=\"graph0\" transform=\"scale(1 1) rotate(0) translate(4 539)\">\n",
       "<title>G</title>\n",
       "<polygon fill=\"#ffffff\" points=\"-4,4 -4,-539 279,-539 279,4 -4,4\" stroke=\"transparent\"/>\n",
       "<!-- 140353401719104 -->\n",
       "<g class=\"node\" id=\"node1\">\n",
       "<title>140353401719104</title>\n",
       "<polygon fill=\"none\" points=\"8,-415.5 8,-461.5 267,-461.5 267,-415.5 8,-415.5\" stroke=\"#000000\"/>\n",
       "<text fill=\"#000000\" font-family=\"Times,serif\" font-size=\"14.00\" text-anchor=\"middle\" x=\"50\" y=\"-434.8\">Embedding</text>\n",
       "<polyline fill=\"none\" points=\"92,-415.5 92,-461.5 \" stroke=\"#000000\"/>\n",
       "<text fill=\"#000000\" font-family=\"Times,serif\" font-size=\"14.00\" text-anchor=\"middle\" x=\"121\" y=\"-446.3\">input:</text>\n",
       "<polyline fill=\"none\" points=\"92,-438.5 150,-438.5 \" stroke=\"#000000\"/>\n",
       "<text fill=\"#000000\" font-family=\"Times,serif\" font-size=\"14.00\" text-anchor=\"middle\" x=\"121\" y=\"-423.3\">output:</text>\n",
       "<polyline fill=\"none\" points=\"150,-415.5 150,-461.5 \" stroke=\"#000000\"/>\n",
       "<text fill=\"#000000\" font-family=\"Times,serif\" font-size=\"14.00\" text-anchor=\"middle\" x=\"208.5\" y=\"-446.3\">(None, 186)</text>\n",
       "<polyline fill=\"none\" points=\"150,-438.5 267,-438.5 \" stroke=\"#000000\"/>\n",
       "<text fill=\"#000000\" font-family=\"Times,serif\" font-size=\"14.00\" text-anchor=\"middle\" x=\"208.5\" y=\"-423.3\">(None, 186, 300)</text>\n",
       "</g>\n",
       "<!-- 140353401719160 -->\n",
       "<g class=\"node\" id=\"node2\">\n",
       "<title>140353401719160</title>\n",
       "<polygon fill=\"none\" points=\"16.5,-332.5 16.5,-378.5 258.5,-378.5 258.5,-332.5 16.5,-332.5\" stroke=\"#000000\"/>\n",
       "<text fill=\"#000000\" font-family=\"Times,serif\" font-size=\"14.00\" text-anchor=\"middle\" x=\"50\" y=\"-351.8\">Conv1D</text>\n",
       "<polyline fill=\"none\" points=\"83.5,-332.5 83.5,-378.5 \" stroke=\"#000000\"/>\n",
       "<text fill=\"#000000\" font-family=\"Times,serif\" font-size=\"14.00\" text-anchor=\"middle\" x=\"112.5\" y=\"-363.3\">input:</text>\n",
       "<polyline fill=\"none\" points=\"83.5,-355.5 141.5,-355.5 \" stroke=\"#000000\"/>\n",
       "<text fill=\"#000000\" font-family=\"Times,serif\" font-size=\"14.00\" text-anchor=\"middle\" x=\"112.5\" y=\"-340.3\">output:</text>\n",
       "<polyline fill=\"none\" points=\"141.5,-332.5 141.5,-378.5 \" stroke=\"#000000\"/>\n",
       "<text fill=\"#000000\" font-family=\"Times,serif\" font-size=\"14.00\" text-anchor=\"middle\" x=\"200\" y=\"-363.3\">(None, 186, 300)</text>\n",
       "<polyline fill=\"none\" points=\"141.5,-355.5 258.5,-355.5 \" stroke=\"#000000\"/>\n",
       "<text fill=\"#000000\" font-family=\"Times,serif\" font-size=\"14.00\" text-anchor=\"middle\" x=\"200\" y=\"-340.3\">(None, 186, 32)</text>\n",
       "</g>\n",
       "<!-- 140353401719104&#45;&gt;140353401719160 -->\n",
       "<g class=\"edge\" id=\"edge2\">\n",
       "<title>140353401719104-&gt;140353401719160</title>\n",
       "<path d=\"M137.5,-415.3799C137.5,-407.1745 137.5,-397.7679 137.5,-388.8786\" fill=\"none\" stroke=\"#000000\"/>\n",
       "<polygon fill=\"#000000\" points=\"141.0001,-388.784 137.5,-378.784 134.0001,-388.784 141.0001,-388.784\" stroke=\"#000000\"/>\n",
       "</g>\n",
       "<!-- 140353401719440 -->\n",
       "<g class=\"node\" id=\"node3\">\n",
       "<title>140353401719440</title>\n",
       "<polygon fill=\"none\" points=\"0,-249.5 0,-295.5 275,-295.5 275,-249.5 0,-249.5\" stroke=\"#000000\"/>\n",
       "<text fill=\"#000000\" font-family=\"Times,serif\" font-size=\"14.00\" text-anchor=\"middle\" x=\"53.5\" y=\"-268.8\">MaxPooling1D</text>\n",
       "<polyline fill=\"none\" points=\"107,-249.5 107,-295.5 \" stroke=\"#000000\"/>\n",
       "<text fill=\"#000000\" font-family=\"Times,serif\" font-size=\"14.00\" text-anchor=\"middle\" x=\"136\" y=\"-280.3\">input:</text>\n",
       "<polyline fill=\"none\" points=\"107,-272.5 165,-272.5 \" stroke=\"#000000\"/>\n",
       "<text fill=\"#000000\" font-family=\"Times,serif\" font-size=\"14.00\" text-anchor=\"middle\" x=\"136\" y=\"-257.3\">output:</text>\n",
       "<polyline fill=\"none\" points=\"165,-249.5 165,-295.5 \" stroke=\"#000000\"/>\n",
       "<text fill=\"#000000\" font-family=\"Times,serif\" font-size=\"14.00\" text-anchor=\"middle\" x=\"220\" y=\"-280.3\">(None, 186, 32)</text>\n",
       "<polyline fill=\"none\" points=\"165,-272.5 275,-272.5 \" stroke=\"#000000\"/>\n",
       "<text fill=\"#000000\" font-family=\"Times,serif\" font-size=\"14.00\" text-anchor=\"middle\" x=\"220\" y=\"-257.3\">(None, 93, 32)</text>\n",
       "</g>\n",
       "<!-- 140353401719160&#45;&gt;140353401719440 -->\n",
       "<g class=\"edge\" id=\"edge3\">\n",
       "<title>140353401719160-&gt;140353401719440</title>\n",
       "<path d=\"M137.5,-332.3799C137.5,-324.1745 137.5,-314.7679 137.5,-305.8786\" fill=\"none\" stroke=\"#000000\"/>\n",
       "<polygon fill=\"#000000\" points=\"141.0001,-305.784 137.5,-295.784 134.0001,-305.784 141.0001,-305.784\" stroke=\"#000000\"/>\n",
       "</g>\n",
       "<!-- 140353401720784 -->\n",
       "<g class=\"node\" id=\"node4\">\n",
       "<title>140353401720784</title>\n",
       "<polygon fill=\"none\" points=\"29.5,-166.5 29.5,-212.5 245.5,-212.5 245.5,-166.5 29.5,-166.5\" stroke=\"#000000\"/>\n",
       "<text fill=\"#000000\" font-family=\"Times,serif\" font-size=\"14.00\" text-anchor=\"middle\" x=\"57.5\" y=\"-185.8\">Flatten</text>\n",
       "<polyline fill=\"none\" points=\"85.5,-166.5 85.5,-212.5 \" stroke=\"#000000\"/>\n",
       "<text fill=\"#000000\" font-family=\"Times,serif\" font-size=\"14.00\" text-anchor=\"middle\" x=\"114.5\" y=\"-197.3\">input:</text>\n",
       "<polyline fill=\"none\" points=\"85.5,-189.5 143.5,-189.5 \" stroke=\"#000000\"/>\n",
       "<text fill=\"#000000\" font-family=\"Times,serif\" font-size=\"14.00\" text-anchor=\"middle\" x=\"114.5\" y=\"-174.3\">output:</text>\n",
       "<polyline fill=\"none\" points=\"143.5,-166.5 143.5,-212.5 \" stroke=\"#000000\"/>\n",
       "<text fill=\"#000000\" font-family=\"Times,serif\" font-size=\"14.00\" text-anchor=\"middle\" x=\"194.5\" y=\"-197.3\">(None, 93, 32)</text>\n",
       "<polyline fill=\"none\" points=\"143.5,-189.5 245.5,-189.5 \" stroke=\"#000000\"/>\n",
       "<text fill=\"#000000\" font-family=\"Times,serif\" font-size=\"14.00\" text-anchor=\"middle\" x=\"194.5\" y=\"-174.3\">(None, 2976)</text>\n",
       "</g>\n",
       "<!-- 140353401719440&#45;&gt;140353401720784 -->\n",
       "<g class=\"edge\" id=\"edge4\">\n",
       "<title>140353401719440-&gt;140353401720784</title>\n",
       "<path d=\"M137.5,-249.3799C137.5,-241.1745 137.5,-231.7679 137.5,-222.8786\" fill=\"none\" stroke=\"#000000\"/>\n",
       "<polygon fill=\"#000000\" points=\"141.0001,-222.784 137.5,-212.784 134.0001,-222.784 141.0001,-222.784\" stroke=\"#000000\"/>\n",
       "</g>\n",
       "<!-- 140353401719552 -->\n",
       "<g class=\"node\" id=\"node5\">\n",
       "<title>140353401719552</title>\n",
       "<polygon fill=\"none\" points=\"35,-83.5 35,-129.5 240,-129.5 240,-83.5 35,-83.5\" stroke=\"#000000\"/>\n",
       "<text fill=\"#000000\" font-family=\"Times,serif\" font-size=\"14.00\" text-anchor=\"middle\" x=\"61\" y=\"-102.8\">Dense</text>\n",
       "<polyline fill=\"none\" points=\"87,-83.5 87,-129.5 \" stroke=\"#000000\"/>\n",
       "<text fill=\"#000000\" font-family=\"Times,serif\" font-size=\"14.00\" text-anchor=\"middle\" x=\"116\" y=\"-114.3\">input:</text>\n",
       "<polyline fill=\"none\" points=\"87,-106.5 145,-106.5 \" stroke=\"#000000\"/>\n",
       "<text fill=\"#000000\" font-family=\"Times,serif\" font-size=\"14.00\" text-anchor=\"middle\" x=\"116\" y=\"-91.3\">output:</text>\n",
       "<polyline fill=\"none\" points=\"145,-83.5 145,-129.5 \" stroke=\"#000000\"/>\n",
       "<text fill=\"#000000\" font-family=\"Times,serif\" font-size=\"14.00\" text-anchor=\"middle\" x=\"192.5\" y=\"-114.3\">(None, 2976)</text>\n",
       "<polyline fill=\"none\" points=\"145,-106.5 240,-106.5 \" stroke=\"#000000\"/>\n",
       "<text fill=\"#000000\" font-family=\"Times,serif\" font-size=\"14.00\" text-anchor=\"middle\" x=\"192.5\" y=\"-91.3\">(None, 250)</text>\n",
       "</g>\n",
       "<!-- 140353401720784&#45;&gt;140353401719552 -->\n",
       "<g class=\"edge\" id=\"edge5\">\n",
       "<title>140353401720784-&gt;140353401719552</title>\n",
       "<path d=\"M137.5,-166.3799C137.5,-158.1745 137.5,-148.7679 137.5,-139.8786\" fill=\"none\" stroke=\"#000000\"/>\n",
       "<polygon fill=\"#000000\" points=\"141.0001,-139.784 137.5,-129.784 134.0001,-139.784 141.0001,-139.784\" stroke=\"#000000\"/>\n",
       "</g>\n",
       "<!-- 140353401813480 -->\n",
       "<g class=\"node\" id=\"node6\">\n",
       "<title>140353401813480</title>\n",
       "<polygon fill=\"none\" points=\"39,-.5 39,-46.5 236,-46.5 236,-.5 39,-.5\" stroke=\"#000000\"/>\n",
       "<text fill=\"#000000\" font-family=\"Times,serif\" font-size=\"14.00\" text-anchor=\"middle\" x=\"65\" y=\"-19.8\">Dense</text>\n",
       "<polyline fill=\"none\" points=\"91,-.5 91,-46.5 \" stroke=\"#000000\"/>\n",
       "<text fill=\"#000000\" font-family=\"Times,serif\" font-size=\"14.00\" text-anchor=\"middle\" x=\"120\" y=\"-31.3\">input:</text>\n",
       "<polyline fill=\"none\" points=\"91,-23.5 149,-23.5 \" stroke=\"#000000\"/>\n",
       "<text fill=\"#000000\" font-family=\"Times,serif\" font-size=\"14.00\" text-anchor=\"middle\" x=\"120\" y=\"-8.3\">output:</text>\n",
       "<polyline fill=\"none\" points=\"149,-.5 149,-46.5 \" stroke=\"#000000\"/>\n",
       "<text fill=\"#000000\" font-family=\"Times,serif\" font-size=\"14.00\" text-anchor=\"middle\" x=\"192.5\" y=\"-31.3\">(None, 250)</text>\n",
       "<polyline fill=\"none\" points=\"149,-23.5 236,-23.5 \" stroke=\"#000000\"/>\n",
       "<text fill=\"#000000\" font-family=\"Times,serif\" font-size=\"14.00\" text-anchor=\"middle\" x=\"192.5\" y=\"-8.3\">(None, 5)</text>\n",
       "</g>\n",
       "<!-- 140353401719552&#45;&gt;140353401813480 -->\n",
       "<g class=\"edge\" id=\"edge6\">\n",
       "<title>140353401719552-&gt;140353401813480</title>\n",
       "<path d=\"M137.5,-83.3799C137.5,-75.1745 137.5,-65.7679 137.5,-56.8786\" fill=\"none\" stroke=\"#000000\"/>\n",
       "<polygon fill=\"#000000\" points=\"141.0001,-56.784 137.5,-46.784 134.0001,-56.784 141.0001,-56.784\" stroke=\"#000000\"/>\n",
       "</g>\n",
       "<!-- 140353401719272 -->\n",
       "<g class=\"node\" id=\"node7\">\n",
       "<title>140353401719272</title>\n",
       "<polygon fill=\"none\" points=\"73,-498.5 73,-534.5 202,-534.5 202,-498.5 73,-498.5\" stroke=\"#000000\"/>\n",
       "<text fill=\"#000000\" font-family=\"Times,serif\" font-size=\"14.00\" text-anchor=\"middle\" x=\"137.5\" y=\"-512.8\">140353401719272</text>\n",
       "</g>\n",
       "<!-- 140353401719272&#45;&gt;140353401719104 -->\n",
       "<g class=\"edge\" id=\"edge1\">\n",
       "<title>140353401719272-&gt;140353401719104</title>\n",
       "<path d=\"M137.5,-498.4092C137.5,-490.4308 137.5,-480.795 137.5,-471.606\" fill=\"none\" stroke=\"#000000\"/>\n",
       "<polygon fill=\"#000000\" points=\"141.0001,-471.5333 137.5,-461.5333 134.0001,-471.5334 141.0001,-471.5333\" stroke=\"#000000\"/>\n",
       "</g>\n",
       "</g>\n",
       "</svg>"
      ],
      "text/plain": [
       "<IPython.core.display.SVG object>"
      ]
     },
     "execution_count": 46,
     "metadata": {
      "tags": []
     },
     "output_type": "execute_result"
    }
   ],
   "source": [
    "SVG(model_to_dot(model300, show_shapes=True, show_layer_names=False, \n",
    "                 rankdir='TB').create(prog='dot', format='svg'))"
   ]
  },
  {
   "cell_type": "code",
   "execution_count": 47,
   "metadata": {
    "colab": {
     "base_uri": "https://localhost:8080/",
     "height": 211
    },
    "colab_type": "code",
    "id": "r23FrBd5F5HD",
    "outputId": "d5d665f2-e00f-4f00-dea0-33b42db8af0f"
   },
   "outputs": [
    {
     "name": "stdout",
     "output_type": "stream",
     "text": [
      "Train on 67225 samples, validate on 16807 samples\n",
      "Epoch 1/50\n",
      "67225/67225 [==============================] - 9s 134us/step - loss: 0.9397 - acc: 0.6380 - val_loss: 0.8594 - val_acc: 0.6658\n",
      "Epoch 2/50\n",
      "67225/67225 [==============================] - 8s 125us/step - loss: 0.7304 - acc: 0.7124 - val_loss: 0.8544 - val_acc: 0.6720\n",
      "Epoch 3/50\n",
      "67225/67225 [==============================] - 8s 125us/step - loss: 0.5696 - acc: 0.7812 - val_loss: 0.9762 - val_acc: 0.6563\n",
      "Epoch 4/50\n",
      "67225/67225 [==============================] - 8s 125us/step - loss: 0.4076 - acc: 0.8485 - val_loss: 1.2103 - val_acc: 0.6429\n",
      "Epoch 00004: early stopping\n"
     ]
    }
   ],
   "source": [
    "early_stop = EarlyStopping(monitor='val_loss', patience=2, verbose=1)\n",
    "network_history300 = model300.fit(X_train, y_train,\n",
    "                      batch_size=BATCH_SIZE,\n",
    "                      epochs=EPOCHS,\n",
    "                      verbose=1,\n",
    "                      validation_split=0.2,\n",
    "                      callbacks=[early_stop])"
   ]
  },
  {
   "cell_type": "code",
   "execution_count": 48,
   "metadata": {
    "colab": {
     "base_uri": "https://localhost:8080/",
     "height": 52
    },
    "colab_type": "code",
    "id": "mYuM_NC3GCNL",
    "outputId": "1cfdb343-a673-4278-ce68-a511337f854e"
   },
   "outputs": [
    {
     "name": "stdout",
     "output_type": "stream",
     "text": [
      "28011/28011 [==============================] - 2s 56us/step\n",
      "Accuracy: 66.00%\n"
     ]
    }
   ],
   "source": [
    "scores300 = model300.evaluate(X_test, y_test, verbose=1)\n",
    "print(\"Accuracy: %.2f%%\" % (scores[1]*100))\n"
   ]
  },
  {
   "cell_type": "code",
   "execution_count": 49,
   "metadata": {
    "colab": {
     "base_uri": "https://localhost:8080/",
     "height": 565
    },
    "colab_type": "code",
    "id": "LObFrJ2WGJ-B",
    "outputId": "6729d067-b964-486a-9bba-bcb2cc8bf21f"
   },
   "outputs": [
    {
     "data": {
      "image/png": "[encoded data removed]",
      "text/plain": [
       "<Figure size 432x288 with 1 Axes>"
      ]
     },
     "metadata": {
      "tags": []
     },
     "output_type": "display_data"
    },
    {
     "data": {
      "image/png": "[encoded data removed]",
      "text/plain": [
       "<Figure size 432x288 with 1 Axes>"
      ]
     },
     "metadata": {
      "tags": []
     },
     "output_type": "display_data"
    }
   ],
   "source": [
    "plot_history(network_history300)"
   ]
  },
  {
   "cell_type": "code",
   "execution_count": 50,
   "metadata": {
    "colab": {
     "base_uri": "https://localhost:8080/",
     "height": 202
    },
    "colab_type": "code",
    "id": "uvUQloZ7GOsn",
    "outputId": "b6f5dfc8-241b-4578-a11d-eab6de791b81"
   },
   "outputs": [
    {
     "data": {
      "text/html": [
       "<div>\n",
       "<style scoped>\n",
       "    .dataframe tbody tr th:only-of-type {\n",
       "        vertical-align: middle;\n",
       "    }\n",
       "\n",
       "    .dataframe tbody tr th {\n",
       "        vertical-align: top;\n",
       "    }\n",
       "\n",
       "    .dataframe thead th {\n",
       "        text-align: right;\n",
       "    }\n",
       "</style>\n",
       "<table border=\"1\" class=\"dataframe\">\n",
       "  <thead>\n",
       "    <tr style=\"text-align: right;\">\n",
       "      <th></th>\n",
       "      <th>0</th>\n",
       "      <th>1</th>\n",
       "      <th>2</th>\n",
       "      <th>3</th>\n",
       "      <th>4</th>\n",
       "    </tr>\n",
       "  </thead>\n",
       "  <tbody>\n",
       "    <tr>\n",
       "      <th>0</th>\n",
       "      <td>0.000002</td>\n",
       "      <td>0.000009</td>\n",
       "      <td>0.000946</td>\n",
       "      <td>0.247283</td>\n",
       "      <td>0.751760</td>\n",
       "    </tr>\n",
       "    <tr>\n",
       "      <th>1</th>\n",
       "      <td>0.000005</td>\n",
       "      <td>0.000034</td>\n",
       "      <td>0.002224</td>\n",
       "      <td>0.273284</td>\n",
       "      <td>0.724454</td>\n",
       "    </tr>\n",
       "    <tr>\n",
       "      <th>2</th>\n",
       "      <td>0.000178</td>\n",
       "      <td>0.002593</td>\n",
       "      <td>0.030048</td>\n",
       "      <td>0.444010</td>\n",
       "      <td>0.523170</td>\n",
       "    </tr>\n",
       "    <tr>\n",
       "      <th>3</th>\n",
       "      <td>0.000490</td>\n",
       "      <td>0.003546</td>\n",
       "      <td>0.020553</td>\n",
       "      <td>0.068993</td>\n",
       "      <td>0.906419</td>\n",
       "    </tr>\n",
       "    <tr>\n",
       "      <th>4</th>\n",
       "      <td>0.000080</td>\n",
       "      <td>0.000100</td>\n",
       "      <td>0.003963</td>\n",
       "      <td>0.082586</td>\n",
       "      <td>0.913271</td>\n",
       "    </tr>\n",
       "  </tbody>\n",
       "</table>\n",
       "</div>"
      ],
      "text/plain": [
       "          0         1         2         3         4\n",
       "0  0.000002  0.000009  0.000946  0.247283  0.751760\n",
       "1  0.000005  0.000034  0.002224  0.273284  0.724454\n",
       "2  0.000178  0.002593  0.030048  0.444010  0.523170\n",
       "3  0.000490  0.003546  0.020553  0.068993  0.906419\n",
       "4  0.000080  0.000100  0.003963  0.082586  0.913271"
      ]
     },
     "execution_count": 50,
     "metadata": {
      "tags": []
     },
     "output_type": "execute_result"
    }
   ],
   "source": [
    "y_predict300 = model300.predict(X_test)\n",
    "y_predict300_df = pd.DataFrame(y_predict300)\n",
    "y_predict300_df.head()"
   ]
  },
  {
   "cell_type": "code",
   "execution_count": null,
   "metadata": {
    "colab": {},
    "colab_type": "code",
    "id": "b2K8Pok-G_aE"
   },
   "outputs": [],
   "source": [
    "y_predict300_unencoded = [row.idxmax() + 1 for index, row in y_predict300_df.iterrows()]"
   ]
  },
  {
   "cell_type": "code",
   "execution_count": 52,
   "metadata": {
    "colab": {
     "base_uri": "https://localhost:8080/",
     "height": 104
    },
    "colab_type": "code",
    "id": "EY2mTrAXHFbt",
    "outputId": "26b521b9-9d7c-4a75-a5b2-69b3b080dc59"
   },
   "outputs": [
    {
     "data": {
      "text/plain": [
       "array([[ 2842,   452,   276,   107,   291],\n",
       "       [  689,   376,   345,   192,   269],\n",
       "       [  387,   316,   628,   570,   630],\n",
       "       [  121,   137,   404,  1370,  2720],\n",
       "       [  205,    92,   294,  1454, 12844]])"
      ]
     },
     "execution_count": 52,
     "metadata": {
      "tags": []
     },
     "output_type": "execute_result"
    }
   ],
   "source": [
    "confusion_matrix(y_test_unencoded, y_predict300_unencoded)"
   ]
  },
  {
   "cell_type": "code",
   "execution_count": 53,
   "metadata": {
    "colab": {
     "base_uri": "https://localhost:8080/",
     "height": 225
    },
    "colab_type": "code",
    "id": "ifYDa2s3HKV7",
    "outputId": "7e855c96-af54-47fc-9a69-0235c27c92d1"
   },
   "outputs": [
    {
     "name": "stdout",
     "output_type": "stream",
     "text": [
      "              precision    recall  f1-score   support\n",
      "\n",
      "           1       0.67      0.72      0.69      3968\n",
      "           2       0.27      0.20      0.23      1871\n",
      "           3       0.32      0.25      0.28      2531\n",
      "           4       0.37      0.29      0.32      4752\n",
      "           5       0.77      0.86      0.81     14889\n",
      "\n",
      "    accuracy                           0.64     28011\n",
      "   macro avg       0.48      0.46      0.47     28011\n",
      "weighted avg       0.61      0.64      0.63     28011\n",
      "\n"
     ]
    }
   ],
   "source": [
    "print(classification_report(y_test_unencoded, y_predict300_unencoded))"
   ]
  },
  {
   "cell_type": "code",
   "execution_count": 54,
   "metadata": {
    "colab": {
     "base_uri": "https://localhost:8080/",
     "height": 355
    },
    "colab_type": "code",
    "id": "cGWLqe_UHmAB",
    "outputId": "b2eecb92-7dc9-48ae-b29d-e6f4ee3f045e"
   },
   "outputs": [
    {
     "data": {
      "image/png": "[encoded data removed]",
      "text/plain": [
       "<Figure size 360x360 with 1 Axes>"
      ]
     },
     "metadata": {
      "tags": []
     },
     "output_type": "display_data"
    }
   ],
   "source": [
    "fig = plt.figure(figsize=(5,5))\n",
    "roc_auc300 =  plot_roc_auc(y_test, y_predict300_df)"
   ]
  },
  {
   "cell_type": "code",
   "execution_count": 55,
   "metadata": {
    "colab": {
     "base_uri": "https://localhost:8080/",
     "height": 139
    },
    "colab_type": "code",
    "id": "_A6lCHfuKQSO",
    "outputId": "e2a10074-9a4f-46ff-ba1b-e679b633ed38"
   },
   "outputs": [
    {
     "data": {
      "text/plain": [
       "{'auc_1': 0.9396729748229986,\n",
       " 'auc_2': 0.8337377018946208,\n",
       " 'auc_3': 0.7888314414602725,\n",
       " 'auc_4': 0.7097715279252534,\n",
       " 'auc_5': 0.8562694017526168,\n",
       " 'auc_macro': 0.8256816609916899,\n",
       " 'auc_micro': 0.8903534801001114}"
      ]
     },
     "execution_count": 55,
     "metadata": {
      "tags": []
     },
     "output_type": "execute_result"
    }
   ],
   "source": [
    "roc_auc300"
   ]
  },
  {
   "cell_type": "code",
   "execution_count": null,
   "metadata": {
    "colab": {},
    "colab_type": "code",
    "id": "cRahiAl8HSq8"
   },
   "outputs": [],
   "source": [
    "MODEL_NAME = \"CNN1layerEmbedding300\"\n",
    "# directory, INBASENAME = fu.get_dir_basename(DATA_FILE)\n",
    "DESCRIPTION = f\"{INBASENAME}-nosmote-{MODEL_NAME}-{MAX_SEQUENCE_LENGTH}-{FEATURE_COLUMN}\"\n",
    "\n",
    "\n",
    "MODEL_FILE = f\"{datetime.now().strftime(DATE_FORMAT)}-{DESCRIPTION}.h5\"\n",
    "NETWORK_HISTORY_FILE = f'{datetime.now().strftime(DATE_FORMAT)}-{DESCRIPTION}-history.pkl'\n",
    "# REPORT_FILE = f\"{datetime.now().strftime(DATE_FORMAT)}-CNN_notebook_protype-report.csv\"\n",
    "TOKENIZER_FILE = f'{datetime.now().strftime(DATE_FORMAT)}-{DESCRIPTION}-tokenizer.pkl'\n"
   ]
  },
  {
   "cell_type": "code",
   "execution_count": null,
   "metadata": {
    "colab": {},
    "colab_type": "code",
    "id": "0gFqG8WNHbCq"
   },
   "outputs": [],
   "source": [
    "model300.save(MODEL_FILE)\n",
    "pickle.dump(network_history300, open(NETWORK_HISTORY_FILE, \"wb\"))\n",
    "pickle.dump(t, open(TOKENIZER_FILE, \"wb\"))"
   ]
  },
  {
   "cell_type": "code",
   "execution_count": null,
   "metadata": {
    "colab": {},
    "colab_type": "code",
    "id": "qfKyTIQuH1VA"
   },
   "outputs": [],
   "source": [
    "# saving off report in the same format as other report just in case we want to compare for later\n",
    "flattened300 = {}\n",
    "flattened300 = du.add_dict_to_dict(flattened300, classification_report(y_test_unencoded, y_predict300_unencoded, output_dict=True))\n",
    "flattened300 = du.add_dict_to_dict(flattened300, roc_auc300)\n",
    "flattened300[\"confusion_matrix\"] = confusion_matrix(y_test_unencoded, y_predict300_unencoded)\n",
    "flattened300[\"description\"] = DESCRIPTION\n",
    "flattened300[\"file\"] = DATA_FILE\n",
    "flattened300[\"network_history_file\"] = NETWORK_HISTORY_FILE\n",
    "flattened300[\"tokenizer_file\"] = TOKENIZER_FILE\n",
    "flattened300[\"max_sequence_length\"] = MAX_SEQUENCE_LENGTH\n",
    "flattened300[\"embedding\"] = EMBED_SIZE_300\n",
    "flattened300[\"model_file\"] = MODEL_FILE\n",
    "flattened300[\"model_name\"] = MODEL_NAME\n",
    "flattened300[\"test_examples\"] = X_test.shape[0]\n",
    "flattened300[\"test_features\"] = X_test.shape[1]\n",
    "flattened300[\"train_examples\"] = X_train.shape[0]\n",
    "flattened300[\"train_features\"] = X_train.shape[1]\n",
    "flattened300[\"status\"] = \"success\"\n",
    "flattened300[\"status_date\"] = datetime.now().strftime(TIME_FORMAT)\n"
   ]
  },
  {
   "cell_type": "code",
   "execution_count": null,
   "metadata": {
    "colab": {},
    "colab_type": "code",
    "id": "KwPisImLIWmK"
   },
   "outputs": [],
   "source": [
    "report_df = report_df.append(flattened300, ignore_index=True)\n"
   ]
  },
  {
   "cell_type": "code",
   "execution_count": null,
   "metadata": {
    "colab": {},
    "colab_type": "code",
    "id": "y5SI9GS0Iev9"
   },
   "outputs": [],
   "source": [
    "report_df.to_csv(REPORT_FILE, index=False)"
   ]
  },
  {
   "cell_type": "code",
   "execution_count": 61,
   "metadata": {
    "colab": {
     "base_uri": "https://localhost:8080/",
     "height": 1000
    },
    "colab_type": "code",
    "id": "4kBC16R6TGpY",
    "outputId": "448ce8fb-becd-469e-d2b2-45a64934253b"
   },
   "outputs": [
    {
     "data": {
      "text/html": [
       "<div>\n",
       "<style scoped>\n",
       "    .dataframe tbody tr th:only-of-type {\n",
       "        vertical-align: middle;\n",
       "    }\n",
       "\n",
       "    .dataframe tbody tr th {\n",
       "        vertical-align: top;\n",
       "    }\n",
       "\n",
       "    .dataframe thead th {\n",
       "        text-align: right;\n",
       "    }\n",
       "</style>\n",
       "<table border=\"1\" class=\"dataframe\">\n",
       "  <thead>\n",
       "    <tr style=\"text-align: right;\">\n",
       "      <th></th>\n",
       "      <th>0</th>\n",
       "      <th>1</th>\n",
       "    </tr>\n",
       "  </thead>\n",
       "  <tbody>\n",
       "    <tr>\n",
       "      <th>1_f1-score</th>\n",
       "      <td>0.696047</td>\n",
       "      <td>0.692158</td>\n",
       "    </tr>\n",
       "    <tr>\n",
       "      <th>1_precision</th>\n",
       "      <td>0.620778</td>\n",
       "      <td>0.669651</td>\n",
       "    </tr>\n",
       "    <tr>\n",
       "      <th>1_recall</th>\n",
       "      <td>0.792087</td>\n",
       "      <td>0.71623</td>\n",
       "    </tr>\n",
       "    <tr>\n",
       "      <th>1_support</th>\n",
       "      <td>3968</td>\n",
       "      <td>3968</td>\n",
       "    </tr>\n",
       "    <tr>\n",
       "      <th>2_f1-score</th>\n",
       "      <td>0.14663</td>\n",
       "      <td>0.231813</td>\n",
       "    </tr>\n",
       "    <tr>\n",
       "      <th>2_precision</th>\n",
       "      <td>0.279279</td>\n",
       "      <td>0.273853</td>\n",
       "    </tr>\n",
       "    <tr>\n",
       "      <th>2_recall</th>\n",
       "      <td>0.0994121</td>\n",
       "      <td>0.200962</td>\n",
       "    </tr>\n",
       "    <tr>\n",
       "      <th>2_support</th>\n",
       "      <td>1871</td>\n",
       "      <td>1871</td>\n",
       "    </tr>\n",
       "    <tr>\n",
       "      <th>3_f1-score</th>\n",
       "      <td>0.29115</td>\n",
       "      <td>0.280482</td>\n",
       "    </tr>\n",
       "    <tr>\n",
       "      <th>3_precision</th>\n",
       "      <td>0.33082</td>\n",
       "      <td>0.322548</td>\n",
       "    </tr>\n",
       "    <tr>\n",
       "      <th>3_recall</th>\n",
       "      <td>0.259976</td>\n",
       "      <td>0.248123</td>\n",
       "    </tr>\n",
       "    <tr>\n",
       "      <th>3_support</th>\n",
       "      <td>2531</td>\n",
       "      <td>2531</td>\n",
       "    </tr>\n",
       "    <tr>\n",
       "      <th>4_f1-score</th>\n",
       "      <td>0.322614</td>\n",
       "      <td>0.324452</td>\n",
       "    </tr>\n",
       "    <tr>\n",
       "      <th>4_precision</th>\n",
       "      <td>0.412381</td>\n",
       "      <td>0.370972</td>\n",
       "    </tr>\n",
       "    <tr>\n",
       "      <th>4_recall</th>\n",
       "      <td>0.264941</td>\n",
       "      <td>0.2883</td>\n",
       "    </tr>\n",
       "    <tr>\n",
       "      <th>4_support</th>\n",
       "      <td>4752</td>\n",
       "      <td>4752</td>\n",
       "    </tr>\n",
       "    <tr>\n",
       "      <th>5_f1-score</th>\n",
       "      <td>0.82424</td>\n",
       "      <td>0.811807</td>\n",
       "    </tr>\n",
       "    <tr>\n",
       "      <th>5_precision</th>\n",
       "      <td>0.768039</td>\n",
       "      <td>0.766623</td>\n",
       "    </tr>\n",
       "    <tr>\n",
       "      <th>5_recall</th>\n",
       "      <td>0.889314</td>\n",
       "      <td>0.86265</td>\n",
       "    </tr>\n",
       "    <tr>\n",
       "      <th>5_support</th>\n",
       "      <td>14889</td>\n",
       "      <td>14889</td>\n",
       "    </tr>\n",
       "    <tr>\n",
       "      <th>accuracy</th>\n",
       "      <td>0.659991</td>\n",
       "      <td>0.644747</td>\n",
       "    </tr>\n",
       "    <tr>\n",
       "      <th>auc_1</th>\n",
       "      <td>0.943616</td>\n",
       "      <td>0.939673</td>\n",
       "    </tr>\n",
       "    <tr>\n",
       "      <th>auc_2</th>\n",
       "      <td>0.844943</td>\n",
       "      <td>0.833738</td>\n",
       "    </tr>\n",
       "    <tr>\n",
       "      <th>auc_3</th>\n",
       "      <td>0.804857</td>\n",
       "      <td>0.788831</td>\n",
       "    </tr>\n",
       "    <tr>\n",
       "      <th>auc_4</th>\n",
       "      <td>0.727465</td>\n",
       "      <td>0.709772</td>\n",
       "    </tr>\n",
       "    <tr>\n",
       "      <th>auc_5</th>\n",
       "      <td>0.870556</td>\n",
       "      <td>0.856269</td>\n",
       "    </tr>\n",
       "    <tr>\n",
       "      <th>auc_macro</th>\n",
       "      <td>0.838311</td>\n",
       "      <td>0.825682</td>\n",
       "    </tr>\n",
       "    <tr>\n",
       "      <th>auc_micro</th>\n",
       "      <td>0.899783</td>\n",
       "      <td>0.890353</td>\n",
       "    </tr>\n",
       "    <tr>\n",
       "      <th>confusion_matrix</th>\n",
       "      <td>[[3143, 181, 270, 54, 320], [918, 186, 348, 14...</td>\n",
       "      <td>[[2842, 452, 276, 107, 291], [689, 376, 345, 1...</td>\n",
       "    </tr>\n",
       "    <tr>\n",
       "      <th>description</th>\n",
       "      <td>amazon_reviews_us_Wireless_v1_00-preprocessed-...</td>\n",
       "      <td>amazon_reviews_us_Wireless_v1_00-preprocessed-...</td>\n",
       "    </tr>\n",
       "    <tr>\n",
       "      <th>embedding</th>\n",
       "      <td>32</td>\n",
       "      <td>300</td>\n",
       "    </tr>\n",
       "    <tr>\n",
       "      <th>file</th>\n",
       "      <td>drive/My Drive/Springboard/capstone/data/amazo...</td>\n",
       "      <td>drive/My Drive/Springboard/capstone/data/amazo...</td>\n",
       "    </tr>\n",
       "    <tr>\n",
       "      <th>macro avg_f1-score</th>\n",
       "      <td>0.456136</td>\n",
       "      <td>0.468142</td>\n",
       "    </tr>\n",
       "    <tr>\n",
       "      <th>macro avg_precision</th>\n",
       "      <td>0.48226</td>\n",
       "      <td>0.480729</td>\n",
       "    </tr>\n",
       "    <tr>\n",
       "      <th>macro avg_recall</th>\n",
       "      <td>0.461146</td>\n",
       "      <td>0.463253</td>\n",
       "    </tr>\n",
       "    <tr>\n",
       "      <th>macro avg_support</th>\n",
       "      <td>28011</td>\n",
       "      <td>28011</td>\n",
       "    </tr>\n",
       "    <tr>\n",
       "      <th>max_sequence_length</th>\n",
       "      <td>186</td>\n",
       "      <td>186</td>\n",
       "    </tr>\n",
       "    <tr>\n",
       "      <th>model_file</th>\n",
       "      <td>drive/My Drive/Springboard/capstone/models/201...</td>\n",
       "      <td>2019-07-22-amazon_reviews_us_Wireless_v1_00-pr...</td>\n",
       "    </tr>\n",
       "    <tr>\n",
       "      <th>model_name</th>\n",
       "      <td>CNN1layerEmbedding32</td>\n",
       "      <td>CNN1layerEmbedding300</td>\n",
       "    </tr>\n",
       "    <tr>\n",
       "      <th>network_history_file</th>\n",
       "      <td>drive/My Drive/Springboard/capstone/models/201...</td>\n",
       "      <td>2019-07-22-amazon_reviews_us_Wireless_v1_00-pr...</td>\n",
       "    </tr>\n",
       "    <tr>\n",
       "      <th>status</th>\n",
       "      <td>success</td>\n",
       "      <td>success</td>\n",
       "    </tr>\n",
       "    <tr>\n",
       "      <th>status_date</th>\n",
       "      <td>2019-07-22 06:48:39</td>\n",
       "      <td>2019-07-22 06:49:23</td>\n",
       "    </tr>\n",
       "    <tr>\n",
       "      <th>test_examples</th>\n",
       "      <td>28011</td>\n",
       "      <td>28011</td>\n",
       "    </tr>\n",
       "    <tr>\n",
       "      <th>test_features</th>\n",
       "      <td>186</td>\n",
       "      <td>186</td>\n",
       "    </tr>\n",
       "    <tr>\n",
       "      <th>tokenizer_file</th>\n",
       "      <td>drive/My Drive/Springboard/capstone/models/201...</td>\n",
       "      <td>2019-07-22-amazon_reviews_us_Wireless_v1_00-pr...</td>\n",
       "    </tr>\n",
       "    <tr>\n",
       "      <th>train_examples</th>\n",
       "      <td>84032</td>\n",
       "      <td>84032</td>\n",
       "    </tr>\n",
       "    <tr>\n",
       "      <th>train_features</th>\n",
       "      <td>186</td>\n",
       "      <td>186</td>\n",
       "    </tr>\n",
       "    <tr>\n",
       "      <th>weighted avg_f1-score</th>\n",
       "      <td>0.627551</td>\n",
       "      <td>0.625429</td>\n",
       "    </tr>\n",
       "    <tr>\n",
       "      <th>weighted avg_precision</th>\n",
       "      <td>0.614689</td>\n",
       "      <td>0.612725</td>\n",
       "    </tr>\n",
       "    <tr>\n",
       "      <th>weighted avg_recall</th>\n",
       "      <td>0.659991</td>\n",
       "      <td>0.644747</td>\n",
       "    </tr>\n",
       "    <tr>\n",
       "      <th>weighted avg_support</th>\n",
       "      <td>28011</td>\n",
       "      <td>28011</td>\n",
       "    </tr>\n",
       "  </tbody>\n",
       "</table>\n",
       "</div>"
      ],
      "text/plain": [
       "                                                                        0                                                  1\n",
       "1_f1-score                                                       0.696047                                           0.692158\n",
       "1_precision                                                      0.620778                                           0.669651\n",
       "1_recall                                                         0.792087                                            0.71623\n",
       "1_support                                                            3968                                               3968\n",
       "2_f1-score                                                        0.14663                                           0.231813\n",
       "2_precision                                                      0.279279                                           0.273853\n",
       "2_recall                                                        0.0994121                                           0.200962\n",
       "2_support                                                            1871                                               1871\n",
       "3_f1-score                                                        0.29115                                           0.280482\n",
       "3_precision                                                       0.33082                                           0.322548\n",
       "3_recall                                                         0.259976                                           0.248123\n",
       "3_support                                                            2531                                               2531\n",
       "4_f1-score                                                       0.322614                                           0.324452\n",
       "4_precision                                                      0.412381                                           0.370972\n",
       "4_recall                                                         0.264941                                             0.2883\n",
       "4_support                                                            4752                                               4752\n",
       "5_f1-score                                                        0.82424                                           0.811807\n",
       "5_precision                                                      0.768039                                           0.766623\n",
       "5_recall                                                         0.889314                                            0.86265\n",
       "5_support                                                           14889                                              14889\n",
       "accuracy                                                         0.659991                                           0.644747\n",
       "auc_1                                                            0.943616                                           0.939673\n",
       "auc_2                                                            0.844943                                           0.833738\n",
       "auc_3                                                            0.804857                                           0.788831\n",
       "auc_4                                                            0.727465                                           0.709772\n",
       "auc_5                                                            0.870556                                           0.856269\n",
       "auc_macro                                                        0.838311                                           0.825682\n",
       "auc_micro                                                        0.899783                                           0.890353\n",
       "confusion_matrix        [[3143, 181, 270, 54, 320], [918, 186, 348, 14...  [[2842, 452, 276, 107, 291], [689, 376, 345, 1...\n",
       "description             amazon_reviews_us_Wireless_v1_00-preprocessed-...  amazon_reviews_us_Wireless_v1_00-preprocessed-...\n",
       "embedding                                                              32                                                300\n",
       "file                    drive/My Drive/Springboard/capstone/data/amazo...  drive/My Drive/Springboard/capstone/data/amazo...\n",
       "macro avg_f1-score                                               0.456136                                           0.468142\n",
       "macro avg_precision                                               0.48226                                           0.480729\n",
       "macro avg_recall                                                 0.461146                                           0.463253\n",
       "macro avg_support                                                   28011                                              28011\n",
       "max_sequence_length                                                   186                                                186\n",
       "model_file              drive/My Drive/Springboard/capstone/models/201...  2019-07-22-amazon_reviews_us_Wireless_v1_00-pr...\n",
       "model_name                                           CNN1layerEmbedding32                              CNN1layerEmbedding300\n",
       "network_history_file    drive/My Drive/Springboard/capstone/models/201...  2019-07-22-amazon_reviews_us_Wireless_v1_00-pr...\n",
       "status                                                            success                                            success\n",
       "status_date                                           2019-07-22 06:48:39                                2019-07-22 06:49:23\n",
       "test_examples                                                       28011                                              28011\n",
       "test_features                                                         186                                                186\n",
       "tokenizer_file          drive/My Drive/Springboard/capstone/models/201...  2019-07-22-amazon_reviews_us_Wireless_v1_00-pr...\n",
       "train_examples                                                      84032                                              84032\n",
       "train_features                                                        186                                                186\n",
       "weighted avg_f1-score                                            0.627551                                           0.625429\n",
       "weighted avg_precision                                           0.614689                                           0.612725\n",
       "weighted avg_recall                                              0.659991                                           0.644747\n",
       "weighted avg_support                                                28011                                              28011"
      ]
     },
     "execution_count": 61,
     "metadata": {
      "tags": []
     },
     "output_type": "execute_result"
    }
   ],
   "source": [
    "report_df.T"
   ]
  },
  {
   "cell_type": "code",
   "execution_count": 62,
   "metadata": {
    "colab": {
     "base_uri": "https://localhost:8080/",
     "height": 373
    },
    "colab_type": "code",
    "id": "e6N456vNTHRl",
    "outputId": "6470c84c-2521-445b-c6d9-214a3d989533"
   },
   "outputs": [
    {
     "data": {
      "text/plain": [
       "Text(0.5, 1.0, 'ROC AUC - CNN Embedding 300')"
      ]
     },
     "execution_count": 62,
     "metadata": {
      "tags": []
     },
     "output_type": "execute_result"
    },
    {
     "data": {
      "image/png": "[encoded data removed]",
      "text/plain": [
       "<Figure size 720x360 with 2 Axes>"
      ]
     },
     "metadata": {
      "tags": []
     },
     "output_type": "display_data"
    }
   ],
   "source": [
    "fig = plt.figure(figsize=(10, 5))\n",
    "gs = fig.add_gridspec(1, 2)\n",
    "\n",
    "ax1  = fig.add_subplot(gs[0,0])\n",
    "plot_roc_auc(y_test, y_predict_df)\n",
    "ax1.set_title(\"ROC AUC - CNN Embedding 32\")\n",
    "\n",
    "ax2  = fig.add_subplot(gs[0,1])\n",
    "plot_roc_auc(y_test, y_predict300_df)\n",
    "ax2.set_title(\"ROC AUC - CNN Embedding 300\")"
   ]
  },
  {
   "cell_type": "markdown",
   "metadata": {
    "colab_type": "text",
    "id": "_VCHnF1yb0mi"
   },
   "source": [
    "**Looks like there is a slight improvement when we increased embedding size  from 32 to 300 but it's very slight when you compare the numbers**"
   ]
  },
  {
   "cell_type": "code",
   "execution_count": null,
   "metadata": {
    "colab": {},
    "colab_type": "code",
    "id": "Q3brst7TTblA"
   },
   "outputs": [],
   "source": []
  }
 ],
 "metadata": {
  "accelerator": "GPU",
  "colab": {
   "collapsed_sections": [],
   "include_colab_link": true,
   "name": "CNN_prototype.ipynb",
   "provenance": [],
   "version": "0.3.2"
  },
  "kernelspec": {
   "display_name": "Python 3",
   "language": "python",
   "name": "python3"
  },
  "language_info": {
   "codemirror_mode": {
    "name": "ipython",
    "version": 3
   },
   "file_extension": ".py",
   "mimetype": "text/x-python",
   "name": "python",
   "nbconvert_exporter": "python",
   "pygments_lexer": "ipython3",
   "version": "3.7.3"
  }
 },
 "nbformat": 4,
 "nbformat_minor": 4
}
