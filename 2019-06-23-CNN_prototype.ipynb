{
  "nbformat": 4,
  "nbformat_minor": 0,
  "metadata": {
    "accelerator": "GPU",
    "colab": {
      "name": "CNN_prototype.ipynb",
      "version": "0.3.2",
      "provenance": [],
      "collapsed_sections": [],
      "include_colab_link": true
    },
    "kernelspec": {
      "display_name": "Python 3",
      "language": "python",
      "name": "python3"
    },
    "language_info": {
      "codemirror_mode": {
        "name": "ipython",
        "version": 3
      },
      "file_extension": ".py",
      "mimetype": "text/x-python",
      "name": "python",
      "nbconvert_exporter": "python",
      "pygments_lexer": "ipython3",
      "version": "3.7.3"
    }
  },
  "cells": [
    {
      "cell_type": "markdown",
      "metadata": {
        "id": "view-in-github",
        "colab_type": "text"
      },
      "source": [
        "<a href=\"https://colab.research.google.com/github/sv650s/sb-capstone/blob/master/2019-06-23-CNN_prototype.ipynb\" target=\"_parent\"><img src=\"https://colab.research.google.com/assets/colab-badge.svg\" alt=\"Open In Colab\"/></a>"
      ]
    },
    {
      "cell_type": "markdown",
      "metadata": {
        "colab_type": "text",
        "id": "W7_sb1roJXhx"
      },
      "source": [
        "# CNN Prototype\n",
        "\n",
        "Modeling this notebook after the following:\n",
        "\n",
        "https://nbviewer.jupyter.org/github/dipanjanS/nlp_workshop_dhs18/blob/master/Unit%2012%20-%20Project%209%20-%20Sentiment%20Analysis%20-%20Supervised%20Learning/12B%20-%20Project%2011%20-%20Sentiment%20Analysis%20-%20Advanced%20Deep%20Learning%20-%20CNNs.ipynb\n",
        "\n",
        "\n",
        "Making the following changes:\n",
        "\n",
        "* last layer is a 5 node layer with softmax activation function since we are doing a 5 class classification\n",
        "* Changing the loss function from binary_crossentropy to categorical_crossentropy since we are doing multi-class classification\n",
        "* running fit with 50 epochs with early stopping with patience of 2\n",
        "* also this notebook runs the CNN model twice - once with embedding of 32 (original), one with embedding of 300. At the end of the notebook, it prints a table to compare the two"
      ]
    },
    {
      "cell_type": "code",
      "metadata": {
        "colab_type": "code",
        "id": "gwrIhSxpG--S",
        "outputId": "0446fe05-5b81-4293-f153-3e7617505396",
        "colab": {
          "base_uri": "https://localhost:8080/",
          "height": 124
        }
      },
      "source": [
        "from google.colab import drive\n",
        "import sys\n",
        "drive.mount('/content/drive')\n",
        "# add this to sys patch so we can import utility functions\n",
        "sys.path.append('drive/My Drive/Springboard/capstone')\n"
      ],
      "execution_count": 1,
      "outputs": [
        {
          "output_type": "stream",
          "text": [
            "Go to this URL in a browser: https://accounts.google.com/o/oauth2/auth?client_id=947318989803-6bn6qk8qdgf4n4g3pfee6491hc0brc4i.apps.googleusercontent.com&redirect_uri=urn%3Aietf%3Awg%3Aoauth%3A2.0%3Aoob&scope=email%20https%3A%2F%2Fwww.googleapis.com%2Fauth%2Fdocs.test%20https%3A%2F%2Fwww.googleapis.com%2Fauth%2Fdrive%20https%3A%2F%2Fwww.googleapis.com%2Fauth%2Fdrive.photos.readonly%20https%3A%2F%2Fwww.googleapis.com%2Fauth%2Fpeopleapi.readonly&response_type=code\n",
            "\n",
            "Enter your authorization code:\n",
            "··········\n",
            "Mounted at /content/drive\n"
          ],
          "name": "stdout"
        }
      ]
    },
    {
      "cell_type": "code",
      "metadata": {
        "colab_type": "code",
        "id": "pAHGtniuJXhy",
        "outputId": "c8b42f98-4160-413d-d4bf-e07fa70bbb0f",
        "colab": {
          "base_uri": "https://localhost:8080/",
          "height": 35
        }
      },
      "source": [
        "from keras.models import Sequential\n",
        "from keras.layers import Dense, Activation, Dropout\n",
        "from keras.layers.normalization import BatchNormalization\n",
        "from keras.callbacks import EarlyStopping\n",
        "from keras.models import load_model\n",
        "from sklearn.model_selection import train_test_split\n",
        "from keras.optimizers import SGD\n",
        "from sklearn.preprocessing import OneHotEncoder\n",
        "from keras.layers import Flatten\n",
        "from keras.layers.convolutional import Conv1D\n",
        "from keras.layers.convolutional import MaxPooling1D\n",
        "from keras.layers.embeddings import Embedding\n",
        "import pandas as pd\n",
        "from IPython.display import SVG\n",
        "from keras.utils.vis_utils import model_to_dot\n",
        "import util.dict_util as du\n",
        "import util.plot_util as pu\n",
        "import util.file_util as fu\n",
        "import pickle\n",
        "from datetime import datetime\n",
        "from sklearn.metrics import confusion_matrix, classification_report\n",
        "import os\n",
        "import seaborn as sns\n",
        "\n",
        "sns.set()\n"
      ],
      "execution_count": 2,
      "outputs": [
        {
          "output_type": "stream",
          "text": [
            "Using TensorFlow backend.\n"
          ],
          "name": "stderr"
        }
      ]
    },
    {
      "cell_type": "code",
      "metadata": {
        "colab_type": "code",
        "id": "At8OhHNfJXh3",
        "colab": {}
      },
      "source": [
        "DRIVE_DIR = \"drive/My Drive/Springboard/capstone\"\n",
        "DATE_FORMAT = '%Y-%m-%d'\n",
        "TIME_FORMAT = '%Y-%m-%d %H:%M:%S'\n",
        "DATA_FILE = f\"{DRIVE_DIR}/data/amazon_reviews_us_Wireless_v1_00-preprocessed-110k.csv\"\n",
        "MODEL_NAME = \"CNN1layerEmbedding32\"\n",
        "FEATURE_COLUMN = \"star_rating\"\n",
        "REVIEW_COLUMN = \"review_body\"\n",
        "\n",
        "\n"
      ],
      "execution_count": 0,
      "outputs": []
    },
    {
      "cell_type": "code",
      "metadata": {
        "colab_type": "code",
        "id": "KfGVl2gXLMV_",
        "outputId": "d0b915bb-b144-4163-a147-42f1e4b67514",
        "colab": {
          "base_uri": "https://localhost:8080/",
          "height": 35
        }
      },
      "source": [
        "import tensorflow as tf\n",
        "# checl to make sure we are using GPU here\n",
        "tf.test.gpu_device_name()"
      ],
      "execution_count": 4,
      "outputs": [
        {
          "output_type": "execute_result",
          "data": {
            "text/plain": [
              "'/device:GPU:0'"
            ]
          },
          "metadata": {
            "tags": []
          },
          "execution_count": 4
        }
      ]
    },
    {
      "cell_type": "code",
      "metadata": {
        "colab_type": "code",
        "hide_input": false,
        "id": "k6fwJp9OJXh5",
        "colab": {}
      },
      "source": [
        "df = pd.read_csv(f\"{DATA_FILE}\")"
      ],
      "execution_count": 0,
      "outputs": []
    },
    {
      "cell_type": "code",
      "metadata": {
        "colab_type": "code",
        "id": "nb3whPNGNsu6",
        "outputId": "f8b79d25-63dd-495f-8958-266fc5103cb3",
        "colab": {
          "base_uri": "https://localhost:8080/",
          "height": 517
        }
      },
      "source": [
        "df.head()"
      ],
      "execution_count": 6,
      "outputs": [
        {
          "output_type": "execute_result",
          "data": {
            "text/html": [
              "<div>\n",
              "<style scoped>\n",
              "    .dataframe tbody tr th:only-of-type {\n",
              "        vertical-align: middle;\n",
              "    }\n",
              "\n",
              "    .dataframe tbody tr th {\n",
              "        vertical-align: top;\n",
              "    }\n",
              "\n",
              "    .dataframe thead th {\n",
              "        text-align: right;\n",
              "    }\n",
              "</style>\n",
              "<table border=\"1\" class=\"dataframe\">\n",
              "  <thead>\n",
              "    <tr style=\"text-align: right;\">\n",
              "      <th></th>\n",
              "      <th>customer_id</th>\n",
              "      <th>review_id</th>\n",
              "      <th>product_id</th>\n",
              "      <th>product_parent</th>\n",
              "      <th>product_title</th>\n",
              "      <th>product_category</th>\n",
              "      <th>star_rating</th>\n",
              "      <th>helpful_votes</th>\n",
              "      <th>total_votes</th>\n",
              "      <th>review_headline</th>\n",
              "      <th>review_body</th>\n",
              "      <th>review_date</th>\n",
              "    </tr>\n",
              "  </thead>\n",
              "  <tbody>\n",
              "    <tr>\n",
              "      <th>0</th>\n",
              "      <td>48623501</td>\n",
              "      <td>R1G7J2VAMI4AEC</td>\n",
              "      <td>B00LBK7QBY</td>\n",
              "      <td>361030039</td>\n",
              "      <td>universal waterproof case joto cellphone dry b...</td>\n",
              "      <td>Wireless</td>\n",
              "      <td>5</td>\n",
              "      <td>0</td>\n",
              "      <td>0</td>\n",
              "      <td>good product please note not</td>\n",
              "      <td>good product please note not floating case do ...</td>\n",
              "      <td>2015-08-31</td>\n",
              "    </tr>\n",
              "    <tr>\n",
              "      <th>1</th>\n",
              "      <td>533148</td>\n",
              "      <td>R3Q4JAPXWCCJU7</td>\n",
              "      <td>B00W661MOO</td>\n",
              "      <td>360205932</td>\n",
              "      <td>car mount alpatronix mx101 universal charging ...</td>\n",
              "      <td>Wireless</td>\n",
              "      <td>5</td>\n",
              "      <td>0</td>\n",
              "      <td>0</td>\n",
              "      <td>great product holds phone place</td>\n",
              "      <td>great product holds phone place does not slip ...</td>\n",
              "      <td>2015-08-31</td>\n",
              "    </tr>\n",
              "    <tr>\n",
              "      <th>2</th>\n",
              "      <td>40266813</td>\n",
              "      <td>RJQWVO0QV2WQ4</td>\n",
              "      <td>B00USN9L0E</td>\n",
              "      <td>105913119</td>\n",
              "      <td>synthetic leather galaxy s6 sleeve thin</td>\n",
              "      <td>Wireless</td>\n",
              "      <td>5</td>\n",
              "      <td>0</td>\n",
              "      <td>0</td>\n",
              "      <td>exactly described</td>\n",
              "      <td>quality looks good prompt postage cannot argue...</td>\n",
              "      <td>2015-08-31</td>\n",
              "    </tr>\n",
              "    <tr>\n",
              "      <th>3</th>\n",
              "      <td>228806</td>\n",
              "      <td>R3RFPR7X60WN6C</td>\n",
              "      <td>B00YPAOKMU</td>\n",
              "      <td>564491128</td>\n",
              "      <td>jiake s6 5 0 inch unlocked smart phone quad co...</td>\n",
              "      <td>Wireless</td>\n",
              "      <td>5</td>\n",
              "      <td>0</td>\n",
              "      <td>0</td>\n",
              "      <td>powerful attractive really do love mode</td>\n",
              "      <td>works much like jiake phone love price great b...</td>\n",
              "      <td>2015-08-31</td>\n",
              "    </tr>\n",
              "    <tr>\n",
              "      <th>4</th>\n",
              "      <td>10866798</td>\n",
              "      <td>R3QL2UPH2B7YFT</td>\n",
              "      <td>B00O0S97SE</td>\n",
              "      <td>742788022</td>\n",
              "      <td>tfy universal car headrest mount holder portab...</td>\n",
              "      <td>Wireless</td>\n",
              "      <td>3</td>\n",
              "      <td>0</td>\n",
              "      <td>1</td>\n",
              "      <td>good enough</td>\n",
              "      <td>serves purpose loud whoever sitting seat attached</td>\n",
              "      <td>2015-08-31</td>\n",
              "    </tr>\n",
              "  </tbody>\n",
              "</table>\n",
              "</div>"
            ],
            "text/plain": [
              "   customer_id  ... review_date\n",
              "0     48623501  ...  2015-08-31\n",
              "1       533148  ...  2015-08-31\n",
              "2     40266813  ...  2015-08-31\n",
              "3       228806  ...  2015-08-31\n",
              "4     10866798  ...  2015-08-31\n",
              "\n",
              "[5 rows x 12 columns]"
            ]
          },
          "metadata": {
            "tags": []
          },
          "execution_count": 6
        }
      ]
    },
    {
      "cell_type": "code",
      "metadata": {
        "colab_type": "code",
        "id": "pqHfMf6mJXh7",
        "colab": {}
      },
      "source": [
        "rating = df[FEATURE_COLUMN]\n",
        "reviews = df[REVIEW_COLUMN]"
      ],
      "execution_count": 0,
      "outputs": []
    },
    {
      "cell_type": "markdown",
      "metadata": {
        "colab_type": "text",
        "id": "EBQR0ZpoOiQk"
      },
      "source": [
        "## Preprocessing"
      ]
    },
    {
      "cell_type": "code",
      "metadata": {
        "colab_type": "code",
        "id": "lytdvF4neJ4r",
        "outputId": "8b836e28-e516-4861-e79f-9244a4b26f48",
        "colab": {
          "base_uri": "https://localhost:8080/",
          "height": 263
        }
      },
      "source": [
        "# one hot encode ratings\n",
        "print(rating.shape)\n",
        "print(type(rating))\n",
        "y = OneHotEncoder().fit_transform(rating.values.reshape(len(rating), 1)).toarray()\n",
        "y"
      ],
      "execution_count": 8,
      "outputs": [
        {
          "output_type": "stream",
          "text": [
            "(112043,)\n",
            "<class 'pandas.core.series.Series'>\n"
          ],
          "name": "stdout"
        },
        {
          "output_type": "stream",
          "text": [
            "/usr/local/lib/python3.6/dist-packages/sklearn/preprocessing/_encoders.py:415: FutureWarning: The handling of integer data will change in version 0.22. Currently, the categories are determined based on the range [0, max(values)], while in the future they will be determined based on the unique values.\n",
            "If you want the future behaviour and silence this warning, you can specify \"categories='auto'\".\n",
            "In case you used a LabelEncoder before this OneHotEncoder to convert the categories to integers, then you can now use the OneHotEncoder directly.\n",
            "  warnings.warn(msg, FutureWarning)\n"
          ],
          "name": "stderr"
        },
        {
          "output_type": "execute_result",
          "data": {
            "text/plain": [
              "array([[0., 0., 0., 0., 1.],\n",
              "       [0., 0., 0., 0., 1.],\n",
              "       [0., 0., 0., 0., 1.],\n",
              "       ...,\n",
              "       [0., 0., 1., 0., 0.],\n",
              "       [0., 0., 0., 0., 1.],\n",
              "       [0., 0., 0., 1., 0.]])"
            ]
          },
          "metadata": {
            "tags": []
          },
          "execution_count": 8
        }
      ]
    },
    {
      "cell_type": "code",
      "metadata": {
        "colab_type": "code",
        "id": "8sdvF7lKPRfD",
        "colab": {}
      },
      "source": [
        "reviews_train, reviews_test, y_train, y_test = train_test_split(reviews, y, random_state=1)"
      ],
      "execution_count": 0,
      "outputs": []
    },
    {
      "cell_type": "code",
      "metadata": {
        "colab_type": "code",
        "id": "i0mwVXPjOpi5",
        "colab": {}
      },
      "source": [
        "from keras.preprocessing.text import Tokenizer\n",
        "from keras.preprocessing import sequence\n",
        "from sklearn.preprocessing import LabelEncoder\n",
        "\n",
        "t = Tokenizer()\n",
        "# fit the tokenizer on the documents\n",
        "t.fit_on_texts(reviews_train)"
      ],
      "execution_count": 0,
      "outputs": []
    },
    {
      "cell_type": "code",
      "metadata": {
        "colab_type": "code",
        "id": "Ou3A0O2aOwcb",
        "colab": {}
      },
      "source": [
        "train_sequences = t.texts_to_sequences(reviews_train)"
      ],
      "execution_count": 0,
      "outputs": []
    },
    {
      "cell_type": "code",
      "metadata": {
        "colab_type": "code",
        "id": "DuDHcMvNcZW_",
        "outputId": "4e1e22a1-fdf2-461e-c1e0-a44ef3fa6b85",
        "colab": {
          "base_uri": "https://localhost:8080/",
          "height": 503
        }
      },
      "source": [
        "train_sequences[:2]"
      ],
      "execution_count": 12,
      "outputs": [
        {
          "output_type": "execute_result",
          "data": {
            "text/plain": [
              "[[20,\n",
              "  24,\n",
              "  16,\n",
              "  11,\n",
              "  1,\n",
              "  21,\n",
              "  2629,\n",
              "  398,\n",
              "  710,\n",
              "  67,\n",
              "  341,\n",
              "  30,\n",
              "  2290,\n",
              "  153,\n",
              "  140,\n",
              "  13,\n",
              "  1,\n",
              "  28,\n",
              "  186,\n",
              "  396,\n",
              "  20,\n",
              "  16,\n",
              "  93,\n",
              "  370,\n",
              "  1346,\n",
              "  408,\n",
              "  992],\n",
              " [99, 70, 31, 1, 168, 44, 1744, 452]]"
            ]
          },
          "metadata": {
            "tags": []
          },
          "execution_count": 12
        }
      ]
    },
    {
      "cell_type": "code",
      "metadata": {
        "colab_type": "code",
        "id": "Xx9whgnmPXkC",
        "outputId": "34b5e635-7448-42a9-9b56-fe4ffc645c2e",
        "colab": {
          "base_uri": "https://localhost:8080/",
          "height": 832
        }
      },
      "source": [
        "test_sequences = t.texts_to_sequences(reviews_test)\n",
        "test_sequences[:2]"
      ],
      "execution_count": 13,
      "outputs": [
        {
          "output_type": "execute_result",
          "data": {
            "text/plain": [
              "[[9,\n",
              "  608,\n",
              "  2584,\n",
              "  670,\n",
              "  437,\n",
              "  246,\n",
              "  2,\n",
              "  323,\n",
              "  5,\n",
              "  31,\n",
              "  203,\n",
              "  340,\n",
              "  1414,\n",
              "  643,\n",
              "  342,\n",
              "  147,\n",
              "  242,\n",
              "  272,\n",
              "  54,\n",
              "  128,\n",
              "  278,\n",
              "  908,\n",
              "  27],\n",
              " [764,\n",
              "  1621,\n",
              "  4,\n",
              "  783,\n",
              "  2,\n",
              "  11,\n",
              "  1,\n",
              "  149,\n",
              "  260,\n",
              "  3,\n",
              "  914,\n",
              "  243,\n",
              "  249,\n",
              "  2369,\n",
              "  2,\n",
              "  9,\n",
              "  105,\n",
              "  11,\n",
              "  3,\n",
              "  131,\n",
              "  94,\n",
              "  128,\n",
              "  10,\n",
              "  21]]"
            ]
          },
          "metadata": {
            "tags": []
          },
          "execution_count": 13
        }
      ]
    },
    {
      "cell_type": "code",
      "metadata": {
        "colab_type": "code",
        "id": "bt_xMQApPd_f",
        "outputId": "77df3664-970b-4c26-beec-d70bd428b68d",
        "colab": {
          "base_uri": "https://localhost:8080/",
          "height": 52
        }
      },
      "source": [
        "print(\"Vocabulary size={}\".format(len(t.word_counts)))\n",
        "print(\"Number of Documents={}\".format(t.document_count))"
      ],
      "execution_count": 14,
      "outputs": [
        {
          "output_type": "stream",
          "text": [
            "Vocabulary size=40788\n",
            "Number of Documents=84032\n"
          ],
          "name": "stdout"
        }
      ]
    },
    {
      "cell_type": "markdown",
      "metadata": {
        "colab_type": "text",
        "id": "vyaOznruPjq-"
      },
      "source": [
        "### Sequence Normalization\n",
        "\n",
        "Figure out max length of review and pad the rest so they are all the same length"
      ]
    },
    {
      "cell_type": "code",
      "metadata": {
        "colab_type": "code",
        "id": "HbmXj-JuPvCT",
        "outputId": "3e043505-ca10-4449-879d-ecb24bf75c6c",
        "colab": {
          "base_uri": "https://localhost:8080/",
          "height": 35
        }
      },
      "source": [
        "df[\"review_length\"] = df.review_body.apply(lambda x: len(x.split()))\n",
        "df.review_length.max()"
      ],
      "execution_count": 15,
      "outputs": [
        {
          "output_type": "execute_result",
          "data": {
            "text/plain": [
              "2864"
            ]
          },
          "metadata": {
            "tags": []
          },
          "execution_count": 15
        }
      ]
    },
    {
      "cell_type": "code",
      "metadata": {
        "colab_type": "code",
        "id": "tR3hDNoCQnvR",
        "outputId": "3c266883-beda-422a-ac94-383657741fa9",
        "colab": {
          "base_uri": "https://localhost:8080/",
          "height": 294
        }
      },
      "source": [
        "df.describe()"
      ],
      "execution_count": 16,
      "outputs": [
        {
          "output_type": "execute_result",
          "data": {
            "text/html": [
              "<div>\n",
              "<style scoped>\n",
              "    .dataframe tbody tr th:only-of-type {\n",
              "        vertical-align: middle;\n",
              "    }\n",
              "\n",
              "    .dataframe tbody tr th {\n",
              "        vertical-align: top;\n",
              "    }\n",
              "\n",
              "    .dataframe thead th {\n",
              "        text-align: right;\n",
              "    }\n",
              "</style>\n",
              "<table border=\"1\" class=\"dataframe\">\n",
              "  <thead>\n",
              "    <tr style=\"text-align: right;\">\n",
              "      <th></th>\n",
              "      <th>customer_id</th>\n",
              "      <th>product_parent</th>\n",
              "      <th>star_rating</th>\n",
              "      <th>helpful_votes</th>\n",
              "      <th>total_votes</th>\n",
              "      <th>review_length</th>\n",
              "    </tr>\n",
              "  </thead>\n",
              "  <tbody>\n",
              "    <tr>\n",
              "      <th>count</th>\n",
              "      <td>1.120430e+05</td>\n",
              "      <td>1.120430e+05</td>\n",
              "      <td>112043.000000</td>\n",
              "      <td>112043.000000</td>\n",
              "      <td>112043.000000</td>\n",
              "      <td>112043.000000</td>\n",
              "    </tr>\n",
              "    <tr>\n",
              "      <th>mean</th>\n",
              "      <td>2.547598e+07</td>\n",
              "      <td>4.994998e+08</td>\n",
              "      <td>3.889078</td>\n",
              "      <td>0.912435</td>\n",
              "      <td>1.189704</td>\n",
              "      <td>26.322965</td>\n",
              "    </tr>\n",
              "    <tr>\n",
              "      <th>std</th>\n",
              "      <td>1.582173e+07</td>\n",
              "      <td>2.879968e+08</td>\n",
              "      <td>1.463196</td>\n",
              "      <td>10.304687</td>\n",
              "      <td>11.167197</td>\n",
              "      <td>47.248166</td>\n",
              "    </tr>\n",
              "    <tr>\n",
              "      <th>min</th>\n",
              "      <td>1.014100e+04</td>\n",
              "      <td>1.365700e+04</td>\n",
              "      <td>1.000000</td>\n",
              "      <td>0.000000</td>\n",
              "      <td>0.000000</td>\n",
              "      <td>1.000000</td>\n",
              "    </tr>\n",
              "    <tr>\n",
              "      <th>25%</th>\n",
              "      <td>1.231110e+07</td>\n",
              "      <td>2.493906e+08</td>\n",
              "      <td>3.000000</td>\n",
              "      <td>0.000000</td>\n",
              "      <td>0.000000</td>\n",
              "      <td>8.000000</td>\n",
              "    </tr>\n",
              "    <tr>\n",
              "      <th>50%</th>\n",
              "      <td>2.344848e+07</td>\n",
              "      <td>4.990693e+08</td>\n",
              "      <td>5.000000</td>\n",
              "      <td>0.000000</td>\n",
              "      <td>0.000000</td>\n",
              "      <td>15.000000</td>\n",
              "    </tr>\n",
              "    <tr>\n",
              "      <th>75%</th>\n",
              "      <td>4.040851e+07</td>\n",
              "      <td>7.481358e+08</td>\n",
              "      <td>5.000000</td>\n",
              "      <td>0.000000</td>\n",
              "      <td>1.000000</td>\n",
              "      <td>29.000000</td>\n",
              "    </tr>\n",
              "    <tr>\n",
              "      <th>max</th>\n",
              "      <td>5.309655e+07</td>\n",
              "      <td>9.999930e+08</td>\n",
              "      <td>5.000000</td>\n",
              "      <td>1447.000000</td>\n",
              "      <td>1524.000000</td>\n",
              "      <td>2864.000000</td>\n",
              "    </tr>\n",
              "  </tbody>\n",
              "</table>\n",
              "</div>"
            ],
            "text/plain": [
              "        customer_id  product_parent  ...    total_votes  review_length\n",
              "count  1.120430e+05    1.120430e+05  ...  112043.000000  112043.000000\n",
              "mean   2.547598e+07    4.994998e+08  ...       1.189704      26.322965\n",
              "std    1.582173e+07    2.879968e+08  ...      11.167197      47.248166\n",
              "min    1.014100e+04    1.365700e+04  ...       0.000000       1.000000\n",
              "25%    1.231110e+07    2.493906e+08  ...       0.000000       8.000000\n",
              "50%    2.344848e+07    4.990693e+08  ...       0.000000      15.000000\n",
              "75%    4.040851e+07    7.481358e+08  ...       1.000000      29.000000\n",
              "max    5.309655e+07    9.999930e+08  ...    1524.000000    2864.000000\n",
              "\n",
              "[8 rows x 6 columns]"
            ]
          },
          "metadata": {
            "tags": []
          },
          "execution_count": 16
        }
      ]
    },
    {
      "cell_type": "markdown",
      "metadata": {
        "colab_type": "text",
        "id": "FzomQClub7Qo"
      },
      "source": [
        "Looks like 95%+ of our reviews have 186 words or less. If we keep our sequence length to around 64 words, this should allow us to keep most of our content\n",
        "\n",
        "NOTE: no need to do encoding for our star_ratings since this is already in a number format"
      ]
    },
    {
      "cell_type": "code",
      "metadata": {
        "colab_type": "code",
        "id": "JnBz2oaMa_uq",
        "outputId": "7d4e8144-b20f-476b-ff7c-05a70eb460ab",
        "colab": {
          "base_uri": "https://localhost:8080/",
          "height": 35
        }
      },
      "source": [
        "MAX_SEQUENCE_LENGTH = int(df.review_length.quantile([0.99]).values[0])\n",
        "MAX_SEQUENCE_LENGTH"
      ],
      "execution_count": 17,
      "outputs": [
        {
          "output_type": "execute_result",
          "data": {
            "text/plain": [
              "186"
            ]
          },
          "metadata": {
            "tags": []
          },
          "execution_count": 17
        }
      ]
    },
    {
      "cell_type": "code",
      "metadata": {
        "colab_type": "code",
        "id": "W9HZDo9Lbna9",
        "colab": {}
      },
      "source": [
        "# pad dataset to a maximum review length in words\n",
        "X_train = sequence.pad_sequences(train_sequences, maxlen=MAX_SEQUENCE_LENGTH)\n",
        "X_test = sequence.pad_sequences(test_sequences, maxlen=MAX_SEQUENCE_LENGTH)"
      ],
      "execution_count": 0,
      "outputs": []
    },
    {
      "cell_type": "markdown",
      "metadata": {
        "colab_type": "text",
        "id": "F6YI8EiNb5CF"
      },
      "source": [
        ""
      ]
    },
    {
      "cell_type": "code",
      "metadata": {
        "colab_type": "code",
        "id": "_yP1USpSJXh9",
        "outputId": "fb31afab-b8a0-48fa-8b85-2bb4336458b8",
        "colab": {
          "base_uri": "https://localhost:8080/",
          "height": 329
        }
      },
      "source": [
        "X_train[:1]"
      ],
      "execution_count": 19,
      "outputs": [
        {
          "output_type": "execute_result",
          "data": {
            "text/plain": [
              "array([[   0,    0,    0,    0,    0,    0,    0,    0,    0,    0,    0,\n",
              "           0,    0,    0,    0,    0,    0,    0,    0,    0,    0,    0,\n",
              "           0,    0,    0,    0,    0,    0,    0,    0,    0,    0,    0,\n",
              "           0,    0,    0,    0,    0,    0,    0,    0,    0,    0,    0,\n",
              "           0,    0,    0,    0,    0,    0,    0,    0,    0,    0,    0,\n",
              "           0,    0,    0,    0,    0,    0,    0,    0,    0,    0,    0,\n",
              "           0,    0,    0,    0,    0,    0,    0,    0,    0,    0,    0,\n",
              "           0,    0,    0,    0,    0,    0,    0,    0,    0,    0,    0,\n",
              "           0,    0,    0,    0,    0,    0,    0,    0,    0,    0,    0,\n",
              "           0,    0,    0,    0,    0,    0,    0,    0,    0,    0,    0,\n",
              "           0,    0,    0,    0,    0,    0,    0,    0,    0,    0,    0,\n",
              "           0,    0,    0,    0,    0,    0,    0,    0,    0,    0,    0,\n",
              "           0,    0,    0,    0,    0,    0,    0,    0,    0,    0,    0,\n",
              "           0,    0,    0,    0,    0,    0,    0,    0,    0,    0,    0,\n",
              "           0,    0,    0,    0,    0,   20,   24,   16,   11,    1,   21,\n",
              "        2629,  398,  710,   67,  341,   30, 2290,  153,  140,   13,    1,\n",
              "          28,  186,  396,   20,   16,   93,  370, 1346,  408,  992]],\n",
              "      dtype=int32)"
            ]
          },
          "metadata": {
            "tags": []
          },
          "execution_count": 19
        }
      ]
    },
    {
      "cell_type": "code",
      "metadata": {
        "colab_type": "code",
        "id": "lvkxqTmcJXiA",
        "outputId": "ad3c8b86-9067-4587-822c-f4c9b07ae44f",
        "colab": {
          "base_uri": "https://localhost:8080/",
          "height": 121
        }
      },
      "source": [
        "# this is our star rating column\n",
        "rating.head()"
      ],
      "execution_count": 20,
      "outputs": [
        {
          "output_type": "execute_result",
          "data": {
            "text/plain": [
              "0    5\n",
              "1    5\n",
              "2    5\n",
              "3    5\n",
              "4    3\n",
              "Name: star_rating, dtype: int64"
            ]
          },
          "metadata": {
            "tags": []
          },
          "execution_count": 20
        }
      ]
    },
    {
      "cell_type": "markdown",
      "metadata": {
        "colab_type": "text",
        "id": "qydtUY2MQF2H"
      },
      "source": [
        "**We are going to run this twice with identical networks. The first will have embedding size of 32. The second will have embedding size of 300. And we will compare results later*"
      ]
    },
    {
      "cell_type": "markdown",
      "metadata": {
        "id": "_Yg56zjRQsCR",
        "colab_type": "text"
      },
      "source": [
        "# Building Our First Model with embedding of 32"
      ]
    },
    {
      "cell_type": "code",
      "metadata": {
        "colab_type": "code",
        "id": "LxDcAouddq88",
        "colab": {}
      },
      "source": [
        "EMBED_SIZE = 32\n",
        "EPOCHS  = 50\n",
        "BATCH_SIZE = 128\n",
        "VOCAB_SIZE = len(t.word_counts)+1\n"
      ],
      "execution_count": 0,
      "outputs": []
    },
    {
      "cell_type": "code",
      "metadata": {
        "colab_type": "code",
        "id": "653DtCuBJXiF",
        "outputId": "792a2769-1d28-4cbd-dd10-bbdd899d1096",
        "colab": {
          "base_uri": "https://localhost:8080/",
          "height": 263
        }
      },
      "source": [
        "model = Sequential()\n",
        "model.add(Embedding(VOCAB_SIZE, EMBED_SIZE, input_length=MAX_SEQUENCE_LENGTH))\n",
        "model.add(Conv1D(filters=32, kernel_size=3, padding='same', activation='relu'))\n",
        "model.add(MaxPooling1D(pool_size=2))\n",
        "model.add(Flatten())\n",
        "model.add(Dense(250, activation='relu'))\n",
        "model.add(Dense(5, activation='softmax'))\n",
        "model.compile(loss='categorical_crossentropy', optimizer='adam', metrics=['accuracy'])\n"
      ],
      "execution_count": 22,
      "outputs": [
        {
          "output_type": "stream",
          "text": [
            "WARNING: Logging before flag parsing goes to stderr.\n",
            "W0723 05:26:57.718640 139815241701248 deprecation_wrapper.py:119] From /usr/local/lib/python3.6/dist-packages/keras/backend/tensorflow_backend.py:74: The name tf.get_default_graph is deprecated. Please use tf.compat.v1.get_default_graph instead.\n",
            "\n",
            "W0723 05:26:57.728052 139815241701248 deprecation_wrapper.py:119] From /usr/local/lib/python3.6/dist-packages/keras/backend/tensorflow_backend.py:517: The name tf.placeholder is deprecated. Please use tf.compat.v1.placeholder instead.\n",
            "\n",
            "W0723 05:26:57.742167 139815241701248 deprecation_wrapper.py:119] From /usr/local/lib/python3.6/dist-packages/keras/backend/tensorflow_backend.py:4138: The name tf.random_uniform is deprecated. Please use tf.random.uniform instead.\n",
            "\n",
            "W0723 05:26:57.797648 139815241701248 deprecation_wrapper.py:119] From /usr/local/lib/python3.6/dist-packages/keras/backend/tensorflow_backend.py:3976: The name tf.nn.max_pool is deprecated. Please use tf.nn.max_pool2d instead.\n",
            "\n",
            "W0723 05:26:57.842159 139815241701248 deprecation_wrapper.py:119] From /usr/local/lib/python3.6/dist-packages/keras/optimizers.py:790: The name tf.train.Optimizer is deprecated. Please use tf.compat.v1.train.Optimizer instead.\n",
            "\n",
            "W0723 05:26:57.870748 139815241701248 deprecation_wrapper.py:119] From /usr/local/lib/python3.6/dist-packages/keras/backend/tensorflow_backend.py:3295: The name tf.log is deprecated. Please use tf.math.log instead.\n",
            "\n"
          ],
          "name": "stderr"
        }
      ]
    },
    {
      "cell_type": "code",
      "metadata": {
        "colab_type": "code",
        "id": "iZitdxXPJXiI",
        "outputId": "2446f7f1-89a9-47de-bd91-c36487345cd1",
        "colab": {
          "base_uri": "https://localhost:8080/",
          "height": 364
        }
      },
      "source": [
        "print(model.summary())"
      ],
      "execution_count": 23,
      "outputs": [
        {
          "output_type": "stream",
          "text": [
            "_________________________________________________________________\n",
            "Layer (type)                 Output Shape              Param #   \n",
            "=================================================================\n",
            "embedding_1 (Embedding)      (None, 186, 32)           1305248   \n",
            "_________________________________________________________________\n",
            "conv1d_1 (Conv1D)            (None, 186, 32)           3104      \n",
            "_________________________________________________________________\n",
            "max_pooling1d_1 (MaxPooling1 (None, 93, 32)            0         \n",
            "_________________________________________________________________\n",
            "flatten_1 (Flatten)          (None, 2976)              0         \n",
            "_________________________________________________________________\n",
            "dense_1 (Dense)              (None, 250)               744250    \n",
            "_________________________________________________________________\n",
            "dense_2 (Dense)              (None, 5)                 1255      \n",
            "=================================================================\n",
            "Total params: 2,053,857\n",
            "Trainable params: 2,053,857\n",
            "Non-trainable params: 0\n",
            "_________________________________________________________________\n",
            "None\n"
          ],
          "name": "stdout"
        }
      ]
    },
    {
      "cell_type": "code",
      "metadata": {
        "colab_type": "code",
        "id": "RqLc7s0BJXiK",
        "outputId": "d893f0e2-640a-40c0-e994-71fe544d5074",
        "colab": {
          "base_uri": "https://localhost:8080/",
          "height": 745
        }
      },
      "source": [
        "SVG(model_to_dot(model, show_shapes=True, show_layer_names=False, \n",
        "                 rankdir='TB').create(prog='dot', format='svg'))"
      ],
      "execution_count": 24,
      "outputs": [
        {
          "output_type": "execute_result",
          "data": {
            "text/plain": [
              "<IPython.core.display.SVG object>"
            ],
            "image/svg+xml": "<svg height=\"543pt\" viewBox=\"0.00 0.00 283.00 543.00\" width=\"283pt\" xmlns=\"http://www.w3.org/2000/svg\" xmlns:xlink=\"http://www.w3.org/1999/xlink\">\n<g class=\"graph\" id=\"graph0\" transform=\"scale(1 1) rotate(0) translate(4 539)\">\n<title>G</title>\n<polygon fill=\"#ffffff\" points=\"-4,4 -4,-539 279,-539 279,4 -4,4\" stroke=\"transparent\"/>\n<!-- 139812555166104 -->\n<g class=\"node\" id=\"node1\">\n<title>139812555166104</title>\n<polygon fill=\"none\" points=\"11.5,-415.5 11.5,-461.5 263.5,-461.5 263.5,-415.5 11.5,-415.5\" stroke=\"#000000\"/>\n<text fill=\"#000000\" font-family=\"Times,serif\" font-size=\"14.00\" text-anchor=\"middle\" x=\"53.5\" y=\"-434.8\">Embedding</text>\n<polyline fill=\"none\" points=\"95.5,-415.5 95.5,-461.5 \" stroke=\"#000000\"/>\n<text fill=\"#000000\" font-family=\"Times,serif\" font-size=\"14.00\" text-anchor=\"middle\" x=\"124.5\" y=\"-446.3\">input:</text>\n<polyline fill=\"none\" points=\"95.5,-438.5 153.5,-438.5 \" stroke=\"#000000\"/>\n<text fill=\"#000000\" font-family=\"Times,serif\" font-size=\"14.00\" text-anchor=\"middle\" x=\"124.5\" y=\"-423.3\">output:</text>\n<polyline fill=\"none\" points=\"153.5,-415.5 153.5,-461.5 \" stroke=\"#000000\"/>\n<text fill=\"#000000\" font-family=\"Times,serif\" font-size=\"14.00\" text-anchor=\"middle\" x=\"208.5\" y=\"-446.3\">(None, 186)</text>\n<polyline fill=\"none\" points=\"153.5,-438.5 263.5,-438.5 \" stroke=\"#000000\"/>\n<text fill=\"#000000\" font-family=\"Times,serif\" font-size=\"14.00\" text-anchor=\"middle\" x=\"208.5\" y=\"-423.3\">(None, 186, 32)</text>\n</g>\n<!-- 139812555166664 -->\n<g class=\"node\" id=\"node2\">\n<title>139812555166664</title>\n<polygon fill=\"none\" points=\"20,-332.5 20,-378.5 255,-378.5 255,-332.5 20,-332.5\" stroke=\"#000000\"/>\n<text fill=\"#000000\" font-family=\"Times,serif\" font-size=\"14.00\" text-anchor=\"middle\" x=\"53.5\" y=\"-351.8\">Conv1D</text>\n<polyline fill=\"none\" points=\"87,-332.5 87,-378.5 \" stroke=\"#000000\"/>\n<text fill=\"#000000\" font-family=\"Times,serif\" font-size=\"14.00\" text-anchor=\"middle\" x=\"116\" y=\"-363.3\">input:</text>\n<polyline fill=\"none\" points=\"87,-355.5 145,-355.5 \" stroke=\"#000000\"/>\n<text fill=\"#000000\" font-family=\"Times,serif\" font-size=\"14.00\" text-anchor=\"middle\" x=\"116\" y=\"-340.3\">output:</text>\n<polyline fill=\"none\" points=\"145,-332.5 145,-378.5 \" stroke=\"#000000\"/>\n<text fill=\"#000000\" font-family=\"Times,serif\" font-size=\"14.00\" text-anchor=\"middle\" x=\"200\" y=\"-363.3\">(None, 186, 32)</text>\n<polyline fill=\"none\" points=\"145,-355.5 255,-355.5 \" stroke=\"#000000\"/>\n<text fill=\"#000000\" font-family=\"Times,serif\" font-size=\"14.00\" text-anchor=\"middle\" x=\"200\" y=\"-340.3\">(None, 186, 32)</text>\n</g>\n<!-- 139812555166104&#45;&gt;139812555166664 -->\n<g class=\"edge\" id=\"edge2\">\n<title>139812555166104-&gt;139812555166664</title>\n<path d=\"M137.5,-415.3799C137.5,-407.1745 137.5,-397.7679 137.5,-388.8786\" fill=\"none\" stroke=\"#000000\"/>\n<polygon fill=\"#000000\" points=\"141.0001,-388.784 137.5,-378.784 134.0001,-388.784 141.0001,-388.784\" stroke=\"#000000\"/>\n</g>\n<!-- 139812555237472 -->\n<g class=\"node\" id=\"node3\">\n<title>139812555237472</title>\n<polygon fill=\"none\" points=\"0,-249.5 0,-295.5 275,-295.5 275,-249.5 0,-249.5\" stroke=\"#000000\"/>\n<text fill=\"#000000\" font-family=\"Times,serif\" font-size=\"14.00\" text-anchor=\"middle\" x=\"53.5\" y=\"-268.8\">MaxPooling1D</text>\n<polyline fill=\"none\" points=\"107,-249.5 107,-295.5 \" stroke=\"#000000\"/>\n<text fill=\"#000000\" font-family=\"Times,serif\" font-size=\"14.00\" text-anchor=\"middle\" x=\"136\" y=\"-280.3\">input:</text>\n<polyline fill=\"none\" points=\"107,-272.5 165,-272.5 \" stroke=\"#000000\"/>\n<text fill=\"#000000\" font-family=\"Times,serif\" font-size=\"14.00\" text-anchor=\"middle\" x=\"136\" y=\"-257.3\">output:</text>\n<polyline fill=\"none\" points=\"165,-249.5 165,-295.5 \" stroke=\"#000000\"/>\n<text fill=\"#000000\" font-family=\"Times,serif\" font-size=\"14.00\" text-anchor=\"middle\" x=\"220\" y=\"-280.3\">(None, 186, 32)</text>\n<polyline fill=\"none\" points=\"165,-272.5 275,-272.5 \" stroke=\"#000000\"/>\n<text fill=\"#000000\" font-family=\"Times,serif\" font-size=\"14.00\" text-anchor=\"middle\" x=\"220\" y=\"-257.3\">(None, 93, 32)</text>\n</g>\n<!-- 139812555166664&#45;&gt;139812555237472 -->\n<g class=\"edge\" id=\"edge3\">\n<title>139812555166664-&gt;139812555237472</title>\n<path d=\"M137.5,-332.3799C137.5,-324.1745 137.5,-314.7679 137.5,-305.8786\" fill=\"none\" stroke=\"#000000\"/>\n<polygon fill=\"#000000\" points=\"141.0001,-305.784 137.5,-295.784 134.0001,-305.784 141.0001,-305.784\" stroke=\"#000000\"/>\n</g>\n<!-- 139812555238872 -->\n<g class=\"node\" id=\"node4\">\n<title>139812555238872</title>\n<polygon fill=\"none\" points=\"29.5,-166.5 29.5,-212.5 245.5,-212.5 245.5,-166.5 29.5,-166.5\" stroke=\"#000000\"/>\n<text fill=\"#000000\" font-family=\"Times,serif\" font-size=\"14.00\" text-anchor=\"middle\" x=\"57.5\" y=\"-185.8\">Flatten</text>\n<polyline fill=\"none\" points=\"85.5,-166.5 85.5,-212.5 \" stroke=\"#000000\"/>\n<text fill=\"#000000\" font-family=\"Times,serif\" font-size=\"14.00\" text-anchor=\"middle\" x=\"114.5\" y=\"-197.3\">input:</text>\n<polyline fill=\"none\" points=\"85.5,-189.5 143.5,-189.5 \" stroke=\"#000000\"/>\n<text fill=\"#000000\" font-family=\"Times,serif\" font-size=\"14.00\" text-anchor=\"middle\" x=\"114.5\" y=\"-174.3\">output:</text>\n<polyline fill=\"none\" points=\"143.5,-166.5 143.5,-212.5 \" stroke=\"#000000\"/>\n<text fill=\"#000000\" font-family=\"Times,serif\" font-size=\"14.00\" text-anchor=\"middle\" x=\"194.5\" y=\"-197.3\">(None, 93, 32)</text>\n<polyline fill=\"none\" points=\"143.5,-189.5 245.5,-189.5 \" stroke=\"#000000\"/>\n<text fill=\"#000000\" font-family=\"Times,serif\" font-size=\"14.00\" text-anchor=\"middle\" x=\"194.5\" y=\"-174.3\">(None, 2976)</text>\n</g>\n<!-- 139812555237472&#45;&gt;139812555238872 -->\n<g class=\"edge\" id=\"edge4\">\n<title>139812555237472-&gt;139812555238872</title>\n<path d=\"M137.5,-249.3799C137.5,-241.1745 137.5,-231.7679 137.5,-222.8786\" fill=\"none\" stroke=\"#000000\"/>\n<polygon fill=\"#000000\" points=\"141.0001,-222.784 137.5,-212.784 134.0001,-222.784 141.0001,-222.784\" stroke=\"#000000\"/>\n</g>\n<!-- 139812555226976 -->\n<g class=\"node\" id=\"node5\">\n<title>139812555226976</title>\n<polygon fill=\"none\" points=\"35,-83.5 35,-129.5 240,-129.5 240,-83.5 35,-83.5\" stroke=\"#000000\"/>\n<text fill=\"#000000\" font-family=\"Times,serif\" font-size=\"14.00\" text-anchor=\"middle\" x=\"61\" y=\"-102.8\">Dense</text>\n<polyline fill=\"none\" points=\"87,-83.5 87,-129.5 \" stroke=\"#000000\"/>\n<text fill=\"#000000\" font-family=\"Times,serif\" font-size=\"14.00\" text-anchor=\"middle\" x=\"116\" y=\"-114.3\">input:</text>\n<polyline fill=\"none\" points=\"87,-106.5 145,-106.5 \" stroke=\"#000000\"/>\n<text fill=\"#000000\" font-family=\"Times,serif\" font-size=\"14.00\" text-anchor=\"middle\" x=\"116\" y=\"-91.3\">output:</text>\n<polyline fill=\"none\" points=\"145,-83.5 145,-129.5 \" stroke=\"#000000\"/>\n<text fill=\"#000000\" font-family=\"Times,serif\" font-size=\"14.00\" text-anchor=\"middle\" x=\"192.5\" y=\"-114.3\">(None, 2976)</text>\n<polyline fill=\"none\" points=\"145,-106.5 240,-106.5 \" stroke=\"#000000\"/>\n<text fill=\"#000000\" font-family=\"Times,serif\" font-size=\"14.00\" text-anchor=\"middle\" x=\"192.5\" y=\"-91.3\">(None, 250)</text>\n</g>\n<!-- 139812555238872&#45;&gt;139812555226976 -->\n<g class=\"edge\" id=\"edge5\">\n<title>139812555238872-&gt;139812555226976</title>\n<path d=\"M137.5,-166.3799C137.5,-158.1745 137.5,-148.7679 137.5,-139.8786\" fill=\"none\" stroke=\"#000000\"/>\n<polygon fill=\"#000000\" points=\"141.0001,-139.784 137.5,-129.784 134.0001,-139.784 141.0001,-139.784\" stroke=\"#000000\"/>\n</g>\n<!-- 139812555154376 -->\n<g class=\"node\" id=\"node6\">\n<title>139812555154376</title>\n<polygon fill=\"none\" points=\"39,-.5 39,-46.5 236,-46.5 236,-.5 39,-.5\" stroke=\"#000000\"/>\n<text fill=\"#000000\" font-family=\"Times,serif\" font-size=\"14.00\" text-anchor=\"middle\" x=\"65\" y=\"-19.8\">Dense</text>\n<polyline fill=\"none\" points=\"91,-.5 91,-46.5 \" stroke=\"#000000\"/>\n<text fill=\"#000000\" font-family=\"Times,serif\" font-size=\"14.00\" text-anchor=\"middle\" x=\"120\" y=\"-31.3\">input:</text>\n<polyline fill=\"none\" points=\"91,-23.5 149,-23.5 \" stroke=\"#000000\"/>\n<text fill=\"#000000\" font-family=\"Times,serif\" font-size=\"14.00\" text-anchor=\"middle\" x=\"120\" y=\"-8.3\">output:</text>\n<polyline fill=\"none\" points=\"149,-.5 149,-46.5 \" stroke=\"#000000\"/>\n<text fill=\"#000000\" font-family=\"Times,serif\" font-size=\"14.00\" text-anchor=\"middle\" x=\"192.5\" y=\"-31.3\">(None, 250)</text>\n<polyline fill=\"none\" points=\"149,-23.5 236,-23.5 \" stroke=\"#000000\"/>\n<text fill=\"#000000\" font-family=\"Times,serif\" font-size=\"14.00\" text-anchor=\"middle\" x=\"192.5\" y=\"-8.3\">(None, 5)</text>\n</g>\n<!-- 139812555226976&#45;&gt;139812555154376 -->\n<g class=\"edge\" id=\"edge6\">\n<title>139812555226976-&gt;139812555154376</title>\n<path d=\"M137.5,-83.3799C137.5,-75.1745 137.5,-65.7679 137.5,-56.8786\" fill=\"none\" stroke=\"#000000\"/>\n<polygon fill=\"#000000\" points=\"141.0001,-56.784 137.5,-46.784 134.0001,-56.784 141.0001,-56.784\" stroke=\"#000000\"/>\n</g>\n<!-- 139812555168624 -->\n<g class=\"node\" id=\"node7\">\n<title>139812555168624</title>\n<polygon fill=\"none\" points=\"73,-498.5 73,-534.5 202,-534.5 202,-498.5 73,-498.5\" stroke=\"#000000\"/>\n<text fill=\"#000000\" font-family=\"Times,serif\" font-size=\"14.00\" text-anchor=\"middle\" x=\"137.5\" y=\"-512.8\">139812555168624</text>\n</g>\n<!-- 139812555168624&#45;&gt;139812555166104 -->\n<g class=\"edge\" id=\"edge1\">\n<title>139812555168624-&gt;139812555166104</title>\n<path d=\"M137.5,-498.4092C137.5,-490.4308 137.5,-480.795 137.5,-471.606\" fill=\"none\" stroke=\"#000000\"/>\n<polygon fill=\"#000000\" points=\"141.0001,-471.5333 137.5,-461.5333 134.0001,-471.5334 141.0001,-471.5333\" stroke=\"#000000\"/>\n</g>\n</g>\n</svg>"
          },
          "metadata": {
            "tags": []
          },
          "execution_count": 24
        }
      ]
    },
    {
      "cell_type": "code",
      "metadata": {
        "colab_type": "code",
        "id": "60eC_0fRJXiQ",
        "outputId": "73316ef5-b759-4029-8848-2f9705fd1915",
        "colab": {
          "base_uri": "https://localhost:8080/",
          "height": 297
        }
      },
      "source": [
        "early_stop = EarlyStopping(monitor='val_loss', patience=2, verbose=1)\n",
        "network_history = model.fit(X_train, y_train,\n",
        "                      batch_size=BATCH_SIZE,\n",
        "                      epochs=EPOCHS,\n",
        "                      verbose=1,\n",
        "                      validation_split=0.2,\n",
        "                      callbacks=[early_stop])"
      ],
      "execution_count": 25,
      "outputs": [
        {
          "output_type": "stream",
          "text": [
            "W0723 05:26:58.310862 139815241701248 deprecation.py:323] From /usr/local/lib/python3.6/dist-packages/tensorflow/python/ops/math_grad.py:1250: add_dispatch_support.<locals>.wrapper (from tensorflow.python.ops.array_ops) is deprecated and will be removed in a future version.\n",
            "Instructions for updating:\n",
            "Use tf.where in 2.0, which has the same broadcast rule as np.where\n",
            "W0723 05:26:58.424647 139815241701248 deprecation_wrapper.py:119] From /usr/local/lib/python3.6/dist-packages/keras/backend/tensorflow_backend.py:986: The name tf.assign_add is deprecated. Please use tf.compat.v1.assign_add instead.\n",
            "\n"
          ],
          "name": "stderr"
        },
        {
          "output_type": "stream",
          "text": [
            "Train on 67225 samples, validate on 16807 samples\n",
            "Epoch 1/50\n",
            "67225/67225 [==============================] - 11s 162us/step - loss: 0.9777 - acc: 0.6252 - val_loss: 0.8688 - val_acc: 0.6610\n",
            "Epoch 2/50\n",
            "67225/67225 [==============================] - 5s 80us/step - loss: 0.7716 - acc: 0.6973 - val_loss: 0.8502 - val_acc: 0.6679\n",
            "Epoch 3/50\n",
            "67225/67225 [==============================] - 5s 81us/step - loss: 0.6682 - acc: 0.7396 - val_loss: 0.8978 - val_acc: 0.6578\n",
            "Epoch 4/50\n",
            "67225/67225 [==============================] - 5s 79us/step - loss: 0.5650 - acc: 0.7833 - val_loss: 0.9835 - val_acc: 0.6544\n",
            "Epoch 00004: early stopping\n"
          ],
          "name": "stdout"
        }
      ]
    },
    {
      "cell_type": "code",
      "metadata": {
        "colab_type": "code",
        "id": "2VHBrsPjJXiS",
        "outputId": "9e972d6b-16c5-4ba5-da17-5027533a3eff",
        "colab": {
          "base_uri": "https://localhost:8080/",
          "height": 52
        }
      },
      "source": [
        "scores = model.evaluate(X_test, y_test, verbose=1)\n",
        "print(\"Accuracy: %.2f%%\" % (scores[1]*100))\n"
      ],
      "execution_count": 26,
      "outputs": [
        {
          "output_type": "stream",
          "text": [
            "28011/28011 [==============================] - 2s 67us/step\n",
            "Accuracy: 65.94%\n"
          ],
          "name": "stdout"
        }
      ]
    },
    {
      "cell_type": "code",
      "metadata": {
        "colab_type": "code",
        "id": "CsBholvaJXiU",
        "outputId": "680ad26c-27b8-4cb0-b340-daf8bd4886c6",
        "colab": {
          "base_uri": "https://localhost:8080/",
          "height": 565
        }
      },
      "source": [
        "import matplotlib.pyplot as plt\n",
        "%matplotlib inline\n",
        "\n",
        "def plot_history(network_history):\n",
        "    plt.figure()\n",
        "    plt.xlabel('Epochs')\n",
        "    plt.ylabel('Loss')\n",
        "    plt.plot(network_history.history['loss'])\n",
        "    plt.plot(network_history.history['val_loss'])\n",
        "    plt.legend(['Training', 'Validation'])\n",
        "\n",
        "    plt.figure()\n",
        "    plt.xlabel('Epochs')\n",
        "    plt.ylabel('Accuracy')\n",
        "    plt.plot(network_history.history['acc'])\n",
        "    plt.plot(network_history.history['val_acc'])\n",
        "    plt.legend(['Training', 'Validation'], loc='lower right')\n",
        "    plt.show()\n",
        "\n",
        "plot_history(network_history)"
      ],
      "execution_count": 27,
      "outputs": [
        {
          "output_type": "display_data",
          "data": {
            "image/png": "[encoded data removed]",
            "text/plain": [
              "<Figure size 432x288 with 1 Axes>"
            ]
          },
          "metadata": {
            "tags": []
          }
        },
        {
          "output_type": "display_data",
          "data": {
            "image/png": "[encoded data removed]",
            "text/plain": [
              "<Figure size 432x288 with 1 Axes>"
            ]
          },
          "metadata": {
            "tags": []
          }
        }
      ]
    },
    {
      "cell_type": "code",
      "metadata": {
        "colab_type": "code",
        "id": "PQjt_pC_JXiX",
        "colab": {}
      },
      "source": [
        "y_predict = model.predict(X_test)"
      ],
      "execution_count": 0,
      "outputs": []
    },
    {
      "cell_type": "code",
      "metadata": {
        "colab_type": "code",
        "id": "x76NhB9rJXia",
        "outputId": "e83bf601-1e4d-4e97-ebfe-3e94d2c53c1c",
        "colab": {
          "base_uri": "https://localhost:8080/",
          "height": 202
        }
      },
      "source": [
        "y_predict_df = pd.DataFrame(y_predict)\n",
        "y_predict_df.head()"
      ],
      "execution_count": 29,
      "outputs": [
        {
          "output_type": "execute_result",
          "data": {
            "text/html": [
              "<div>\n",
              "<style scoped>\n",
              "    .dataframe tbody tr th:only-of-type {\n",
              "        vertical-align: middle;\n",
              "    }\n",
              "\n",
              "    .dataframe tbody tr th {\n",
              "        vertical-align: top;\n",
              "    }\n",
              "\n",
              "    .dataframe thead th {\n",
              "        text-align: right;\n",
              "    }\n",
              "</style>\n",
              "<table border=\"1\" class=\"dataframe\">\n",
              "  <thead>\n",
              "    <tr style=\"text-align: right;\">\n",
              "      <th></th>\n",
              "      <th>0</th>\n",
              "      <th>1</th>\n",
              "      <th>2</th>\n",
              "      <th>3</th>\n",
              "      <th>4</th>\n",
              "    </tr>\n",
              "  </thead>\n",
              "  <tbody>\n",
              "    <tr>\n",
              "      <th>0</th>\n",
              "      <td>0.000017</td>\n",
              "      <td>0.000100</td>\n",
              "      <td>0.005478</td>\n",
              "      <td>0.271338</td>\n",
              "      <td>0.723067</td>\n",
              "    </tr>\n",
              "    <tr>\n",
              "      <th>1</th>\n",
              "      <td>0.000286</td>\n",
              "      <td>0.000624</td>\n",
              "      <td>0.009268</td>\n",
              "      <td>0.120106</td>\n",
              "      <td>0.869716</td>\n",
              "    </tr>\n",
              "    <tr>\n",
              "      <th>2</th>\n",
              "      <td>0.000099</td>\n",
              "      <td>0.000347</td>\n",
              "      <td>0.007551</td>\n",
              "      <td>0.156686</td>\n",
              "      <td>0.835317</td>\n",
              "    </tr>\n",
              "    <tr>\n",
              "      <th>3</th>\n",
              "      <td>0.024571</td>\n",
              "      <td>0.004796</td>\n",
              "      <td>0.016212</td>\n",
              "      <td>0.048504</td>\n",
              "      <td>0.905916</td>\n",
              "    </tr>\n",
              "    <tr>\n",
              "      <th>4</th>\n",
              "      <td>0.000077</td>\n",
              "      <td>0.000063</td>\n",
              "      <td>0.002618</td>\n",
              "      <td>0.068407</td>\n",
              "      <td>0.928835</td>\n",
              "    </tr>\n",
              "  </tbody>\n",
              "</table>\n",
              "</div>"
            ],
            "text/plain": [
              "          0         1         2         3         4\n",
              "0  0.000017  0.000100  0.005478  0.271338  0.723067\n",
              "1  0.000286  0.000624  0.009268  0.120106  0.869716\n",
              "2  0.000099  0.000347  0.007551  0.156686  0.835317\n",
              "3  0.024571  0.004796  0.016212  0.048504  0.905916\n",
              "4  0.000077  0.000063  0.002618  0.068407  0.928835"
            ]
          },
          "metadata": {
            "tags": []
          },
          "execution_count": 29
        }
      ]
    },
    {
      "cell_type": "code",
      "metadata": {
        "colab_type": "code",
        "id": "woC_Rgk4JXid",
        "colab": {}
      },
      "source": [
        "y_predict_unencoded = [row.idxmax() + 1 for index, row in y_predict_df.iterrows()]"
      ],
      "execution_count": 0,
      "outputs": []
    },
    {
      "cell_type": "code",
      "metadata": {
        "colab_type": "code",
        "id": "P0xGW_dOJXie",
        "outputId": "fa8c37a7-feb1-4216-cb8b-a59165c3b6fd",
        "colab": {
          "base_uri": "https://localhost:8080/",
          "height": 35
        }
      },
      "source": [
        "# unencode the predictions back into it's classes\n",
        "y_test_df = pd.DataFrame(y_test)\n",
        "y_test_unencoded = [row.idxmax() + 1 for index, row in y_test_df.iterrows()]\n",
        "y_test_unencoded[:3]"
      ],
      "execution_count": 31,
      "outputs": [
        {
          "output_type": "execute_result",
          "data": {
            "text/plain": [
              "[5, 5, 4]"
            ]
          },
          "metadata": {
            "tags": []
          },
          "execution_count": 31
        }
      ]
    },
    {
      "cell_type": "code",
      "metadata": {
        "colab_type": "code",
        "id": "QyaOAdhqJXih",
        "outputId": "4579f53c-2588-4bb8-f380-3aa032fbc6b5",
        "colab": {
          "base_uri": "https://localhost:8080/",
          "height": 104
        }
      },
      "source": [
        "confusion_matrix(y_test_unencoded, y_predict_unencoded)"
      ],
      "execution_count": 32,
      "outputs": [
        {
          "output_type": "execute_result",
          "data": {
            "text/plain": [
              "array([[ 2983,   321,   277,    80,   307],\n",
              "       [  783,   302,   332,   178,   276],\n",
              "       [  433,   276,   642,   516,   664],\n",
              "       [  126,   114,   419,  1357,  2736],\n",
              "       [  232,    49,   211,  1211, 13186]])"
            ]
          },
          "metadata": {
            "tags": []
          },
          "execution_count": 32
        }
      ]
    },
    {
      "cell_type": "code",
      "metadata": {
        "colab_type": "code",
        "id": "6emER3oBJXil",
        "outputId": "ff722e67-f801-4fe3-fd3d-9055283f0545",
        "colab": {
          "base_uri": "https://localhost:8080/",
          "height": 225
        }
      },
      "source": [
        "print(classification_report(y_test_unencoded, y_predict_unencoded))"
      ],
      "execution_count": 33,
      "outputs": [
        {
          "output_type": "stream",
          "text": [
            "              precision    recall  f1-score   support\n",
            "\n",
            "           1       0.65      0.75      0.70      3968\n",
            "           2       0.28      0.16      0.21      1871\n",
            "           3       0.34      0.25      0.29      2531\n",
            "           4       0.41      0.29      0.34      4752\n",
            "           5       0.77      0.89      0.82     14889\n",
            "\n",
            "    accuracy                           0.66     28011\n",
            "   macro avg       0.49      0.47      0.47     28011\n",
            "weighted avg       0.62      0.66      0.63     28011\n",
            "\n"
          ],
          "name": "stdout"
        }
      ]
    },
    {
      "cell_type": "code",
      "metadata": {
        "id": "eLM4WXsxRGo5",
        "colab_type": "code",
        "colab": {}
      },
      "source": [
        "from sklearn.metrics import roc_curve, auc\n",
        "import numpy as np\n",
        "\n",
        "\n",
        "def calculate_roc_auc(y_test, y_score):\n",
        "  \"\"\"\n",
        "  Caculates the false positive rate, true positive rate, and roc_auc\n",
        "  Return:\n",
        "    roc_auc - dictinary of AUC values there will be 1 auc per class then a macro \n",
        "        and micro for the overall model\n",
        "        keys: auc_0 to auc_{n_classes} + micro and macro\n",
        "    fpr - dictionary of FPR, each value will be a n_classes x ? interpolated array \n",
        "        so you can plt ROC curve for each class\n",
        "        keys: 0 to {n_classes} + micro and macro\n",
        "    tpr - dictionary of TPR, each value will be a n_classes x ? interpolated array \n",
        "        so used to plt ROC curve for each class\n",
        "        keys: 0 to {n_classes} + micro and macro    \n",
        "  \"\"\"\n",
        "  n_classes = y_test.shape[1]\n",
        "  \n",
        "  # to compute the micro RUC/AUC, we need binariized labels (y_test) and probability of predictions y_predict_df\n",
        "\n",
        "  fpr = {}\n",
        "  tpr = {}\n",
        "  roc_auc = {}\n",
        "  for i in np.arange(0, 5):\n",
        "      fpr[i], tpr[i], _ = roc_curve(y_test[:, i], y_score[i].to_list())\n",
        "      roc_auc[f'auc_{i + 1}'] = auc(fpr[i], tpr[i])\n",
        "\n",
        "\n",
        "  # Compute micro-average ROC curve and ROC area\n",
        "  fpr[\"micro\"], tpr[\"micro\"], _ = roc_curve(y_test.ravel(), y_score.values.ravel())\n",
        "  roc_auc[\"auc_micro\"] = auc(fpr[\"micro\"], tpr[\"micro\"])\n",
        "\n",
        "\n",
        "  # Compute macro-average ROC curve and ROC area\n",
        "\n",
        "  # First aggregate all false positive rates\n",
        "  all_fpr = np.unique(np.concatenate([fpr[i] for i in range(n_classes)]))\n",
        "\n",
        "  # Then interpolate all ROC curves at this points\n",
        "  mean_tpr = np.zeros_like(all_fpr)\n",
        "  for i in range(n_classes):\n",
        "      mean_tpr += np.interp(all_fpr, fpr[i], tpr[i])\n",
        "\n",
        "  # Finally aveage it and compute AUC\n",
        "  mean_tpr /= n_classes\n",
        "\n",
        "  fpr[\"macro\"] = all_fpr\n",
        "  tpr[\"macro\"] = mean_tpr\n",
        "  roc_auc[\"auc_macro\"] = auc(fpr[\"macro\"], tpr[\"macro\"])\n",
        "\n",
        "  return roc_auc, fpr, tpr"
      ],
      "execution_count": 0,
      "outputs": []
    },
    {
      "cell_type": "code",
      "metadata": {
        "id": "zo67lt2ORJ1i",
        "colab_type": "code",
        "colab": {}
      },
      "source": [
        "\n",
        "def plot_roc_auc(model_name, roc_auc, fpr, tpr):\n",
        "  \n",
        "  for i in np.arange(0, len(fpr.keys()) - 2):\n",
        "    plt.plot(fpr[i], tpr[i], label=f'Rating {i+1}')\n",
        "  plt.plot(fpr[\"micro\"], tpr[\"micro\"], label=\"Micro Average ROC\", \n",
        "           linestyle=\":\", linewidth=4, color='pink')\n",
        "  plt.plot(fpr[\"macro\"], tpr[\"macro\"], label=\"Macro Average ROC\", \n",
        "           linestyle=\":\", linewidth=4, color='black')\n",
        "  plt.plot([0, 1], [0, 1], color='navy', linestyle='--')\n",
        "  \n",
        "  space = 0\n",
        "  for i in np.arange(0, len(fpr.keys()) - 2):\n",
        "    plt.text(x=0, y=-0.25+space, \n",
        "      s=f'Rating {i + 1} AUC: {roc_auc[f\"auc_{i + 1}\"]}',\n",
        "      withdash=True)\n",
        "    space -= 0.05\n",
        "  plt.text(x=0, y=-0.25+space, \n",
        "    s=f'Micro AUC: {roc_auc[\"auc_micro\"]}',\n",
        "    withdash=True)\n",
        "  space -= 0.05\n",
        "  plt.text(x=0, y=-0.25+space, \n",
        "    s=f'Macro AUC: {roc_auc[\"auc_macro\"]}',\n",
        "    withdash=True)\n",
        "  \n",
        "  plt.legend(loc='lower right')\n",
        "  plt.xlabel('FPR')\n",
        "  plt.ylabel('TPR')\n",
        "  plt.title(f'{model_name} ROC AUC')\n",
        "  \n"
      ],
      "execution_count": 0,
      "outputs": []
    },
    {
      "cell_type": "code",
      "metadata": {
        "colab_type": "code",
        "id": "H12pYFCj1Hbn",
        "outputId": "0fa5c667-25e8-4123-ece7-387d50815740",
        "colab": {
          "base_uri": "https://localhost:8080/",
          "height": 445
        }
      },
      "source": [
        "roc_auc, fpr, tpr = calculate_roc_auc(y_test, y_predict_df)\n",
        "fig = plt.figure(figsize=(5,5))\n",
        "plot_roc_auc(MODEL_NAME, roc_auc, fpr, tpr)"
      ],
      "execution_count": 91,
      "outputs": [
        {
          "output_type": "display_data",
          "data": {
            "image/png": "[encoded data removed]",
            "text/plain": [
              "<Figure size 360x360 with 1 Axes>"
            ]
          },
          "metadata": {
            "tags": []
          }
        }
      ]
    },
    {
      "cell_type": "code",
      "metadata": {
        "colab_type": "code",
        "id": "S-WAgwC60RJ5",
        "outputId": "bf559cda-c2cd-4889-b548-b7747a6b67d3",
        "colab": {
          "base_uri": "https://localhost:8080/",
          "height": 139
        }
      },
      "source": [
        "roc_auc"
      ],
      "execution_count": 37,
      "outputs": [
        {
          "output_type": "execute_result",
          "data": {
            "text/plain": [
              "{'auc_1': 0.9453120597605364,\n",
              " 'auc_2': 0.8450581234866975,\n",
              " 'auc_3': 0.806119944710705,\n",
              " 'auc_4': 0.7313766697674539,\n",
              " 'auc_5': 0.8715976583676991,\n",
              " 'auc_macro': 0.8399157979115828,\n",
              " 'auc_micro': 0.9002921960419419}"
            ]
          },
          "metadata": {
            "tags": []
          },
          "execution_count": 37
        }
      ]
    },
    {
      "cell_type": "markdown",
      "metadata": {
        "colab_type": "text",
        "id": "VQ4GRUTq6t6e"
      },
      "source": [
        "**Save off various files**"
      ]
    },
    {
      "cell_type": "code",
      "metadata": {
        "colab_type": "code",
        "id": "VjW8V1MR61kJ",
        "colab": {}
      },
      "source": [
        "directory, INBASENAME = fu.get_dir_basename(DATA_FILE)\n",
        "DESCRIPTION = f\"{INBASENAME}-nosmote-{MODEL_NAME}-{MAX_SEQUENCE_LENGTH}-{FEATURE_COLUMN}\"\n",
        "MODEL_FILE = f\"{DRIVE_DIR}/models/{datetime.now().strftime(DATE_FORMAT)}-{DESCRIPTION}.h5\"\n",
        "NETWORK_HISTORY_FILE = f'{DRIVE_DIR}/models/{datetime.now().strftime(DATE_FORMAT)}-{DESCRIPTION}-history.pkl'\n",
        "REPORT_FILE = f\"{DRIVE_DIR}/reports/{datetime.now().strftime(DATE_FORMAT)}-CNN_notebook_protype-report.csv\"\n",
        "TOKENIZER_FILE = f'{DRIVE_DIR}/models/{datetime.now().strftime(DATE_FORMAT)}-{DESCRIPTION}-tokenizer.pkl'\n"
      ],
      "execution_count": 0,
      "outputs": []
    },
    {
      "cell_type": "code",
      "metadata": {
        "colab_type": "code",
        "id": "GjVjezXPJXin",
        "colab": {}
      },
      "source": [
        "model.save(MODEL_FILE)"
      ],
      "execution_count": 0,
      "outputs": []
    },
    {
      "cell_type": "code",
      "metadata": {
        "colab_type": "code",
        "id": "Cad0ykC2JXip",
        "colab": {}
      },
      "source": [
        "pickle.dump(network_history, open(NETWORK_HISTORY_FILE, \"wb\"))"
      ],
      "execution_count": 0,
      "outputs": []
    },
    {
      "cell_type": "code",
      "metadata": {
        "colab_type": "code",
        "id": "yrGApZiwgRgR",
        "colab": {}
      },
      "source": [
        "pickle.dump(t, open(TOKENIZER_FILE, \"wb\"))"
      ],
      "execution_count": 0,
      "outputs": []
    },
    {
      "cell_type": "code",
      "metadata": {
        "colab_type": "code",
        "id": "oz4FzsvmJXit",
        "colab": {}
      },
      "source": [
        "# saving off report in the same format as other report just in case we want to compare for later\n",
        "flattened = {}\n",
        "flattened = du.add_dict_to_dict(flattened, classification_report(y_test_unencoded, y_predict_unencoded, output_dict=True))\n",
        "flattened = du.add_dict_to_dict(flattened, roc_auc)\n",
        "flattened[\"confusion_matrix\"] = confusion_matrix(y_test_unencoded, y_predict_unencoded)\n",
        "flattened[\"loss\"] = scores[0]\n",
        "flattened[\"accuracy\"] = scores[1]\n",
        "flattened[\"description\"] = DESCRIPTION\n",
        "flattened[\"file\"] = DATA_FILE\n",
        "flattened[\"network_history_file\"] = NETWORK_HISTORY_FILE\n",
        "flattened[\"tokenizer_file\"] = TOKENIZER_FILE\n",
        "flattened[\"max_sequence_length\"] = MAX_SEQUENCE_LENGTH\n",
        "flattened[\"embedding\"] = EMBED_SIZE\n",
        "flattened[\"model_file\"] = MODEL_FILE\n",
        "flattened[\"model_name\"] = MODEL_NAME\n",
        "flattened[\"test_examples\"] = X_test.shape[0]\n",
        "flattened[\"test_features\"] = X_test.shape[1]\n",
        "flattened[\"train_examples\"] = X_train.shape[0]\n",
        "flattened[\"train_features\"] = X_train.shape[1]\n",
        "flattened[\"status\"] = \"success\"\n",
        "flattened[\"status_date\"] = datetime.now().strftime(TIME_FORMAT)\n"
      ],
      "execution_count": 0,
      "outputs": []
    },
    {
      "cell_type": "code",
      "metadata": {
        "colab_type": "code",
        "id": "n_tWTK57JXiv",
        "outputId": "c8e48d96-c6c9-45f0-84fb-8a12aa51e305",
        "colab": {
          "base_uri": "https://localhost:8080/",
          "height": 169
        }
      },
      "source": [
        "# check to see if report file exisits, if so load it and append\n",
        "exists = os.path.isfile(REPORT_FILE)\n",
        "if exists:\n",
        "    report_df = pd.read_csv(REPORT_FILE)\n",
        "else:\n",
        "    report_df = pd.DataFrame()\n",
        "    \n",
        "report_df = report_df.append(flattened, ignore_index=True)\n",
        "report_df.head(20)\n",
        "\n"
      ],
      "execution_count": 43,
      "outputs": [
        {
          "output_type": "execute_result",
          "data": {
            "text/html": [
              "<div>\n",
              "<style scoped>\n",
              "    .dataframe tbody tr th:only-of-type {\n",
              "        vertical-align: middle;\n",
              "    }\n",
              "\n",
              "    .dataframe tbody tr th {\n",
              "        vertical-align: top;\n",
              "    }\n",
              "\n",
              "    .dataframe thead th {\n",
              "        text-align: right;\n",
              "    }\n",
              "</style>\n",
              "<table border=\"1\" class=\"dataframe\">\n",
              "  <thead>\n",
              "    <tr style=\"text-align: right;\">\n",
              "      <th></th>\n",
              "      <th>1_f1-score</th>\n",
              "      <th>1_precision</th>\n",
              "      <th>1_recall</th>\n",
              "      <th>1_support</th>\n",
              "      <th>2_f1-score</th>\n",
              "      <th>2_precision</th>\n",
              "      <th>2_recall</th>\n",
              "      <th>2_support</th>\n",
              "      <th>3_f1-score</th>\n",
              "      <th>3_precision</th>\n",
              "      <th>3_recall</th>\n",
              "      <th>3_support</th>\n",
              "      <th>4_f1-score</th>\n",
              "      <th>4_precision</th>\n",
              "      <th>4_recall</th>\n",
              "      <th>4_support</th>\n",
              "      <th>5_f1-score</th>\n",
              "      <th>5_precision</th>\n",
              "      <th>5_recall</th>\n",
              "      <th>5_support</th>\n",
              "      <th>accuracy</th>\n",
              "      <th>auc_1</th>\n",
              "      <th>auc_2</th>\n",
              "      <th>auc_3</th>\n",
              "      <th>auc_4</th>\n",
              "      <th>auc_5</th>\n",
              "      <th>auc_macro</th>\n",
              "      <th>auc_micro</th>\n",
              "      <th>confusion_matrix</th>\n",
              "      <th>description</th>\n",
              "      <th>embedding</th>\n",
              "      <th>file</th>\n",
              "      <th>loss</th>\n",
              "      <th>macro avg_f1-score</th>\n",
              "      <th>macro avg_precision</th>\n",
              "      <th>macro avg_recall</th>\n",
              "      <th>macro avg_support</th>\n",
              "      <th>max_sequence_length</th>\n",
              "      <th>model_file</th>\n",
              "      <th>model_name</th>\n",
              "      <th>network_history_file</th>\n",
              "      <th>status</th>\n",
              "      <th>status_date</th>\n",
              "      <th>test_examples</th>\n",
              "      <th>test_features</th>\n",
              "      <th>tokenizer_file</th>\n",
              "      <th>train_examples</th>\n",
              "      <th>train_features</th>\n",
              "      <th>weighted avg_f1-score</th>\n",
              "      <th>weighted avg_precision</th>\n",
              "      <th>weighted avg_recall</th>\n",
              "      <th>weighted avg_support</th>\n",
              "    </tr>\n",
              "  </thead>\n",
              "  <tbody>\n",
              "    <tr>\n",
              "      <th>0</th>\n",
              "      <td>0.699824</td>\n",
              "      <td>0.654597</td>\n",
              "      <td>0.751764</td>\n",
              "      <td>3968.0</td>\n",
              "      <td>0.205932</td>\n",
              "      <td>0.284369</td>\n",
              "      <td>0.161411</td>\n",
              "      <td>1871.0</td>\n",
              "      <td>0.291024</td>\n",
              "      <td>0.341308</td>\n",
              "      <td>0.253655</td>\n",
              "      <td>2531.0</td>\n",
              "      <td>0.33531</td>\n",
              "      <td>0.406044</td>\n",
              "      <td>0.285564</td>\n",
              "      <td>4752.0</td>\n",
              "      <td>0.822634</td>\n",
              "      <td>0.768012</td>\n",
              "      <td>0.88562</td>\n",
              "      <td>14889.0</td>\n",
              "      <td>0.659384</td>\n",
              "      <td>0.945312</td>\n",
              "      <td>0.845058</td>\n",
              "      <td>0.80612</td>\n",
              "      <td>0.731377</td>\n",
              "      <td>0.871598</td>\n",
              "      <td>0.839916</td>\n",
              "      <td>0.900292</td>\n",
              "      <td>[[2983, 321, 277, 80, 307], [783, 302, 332, 17...</td>\n",
              "      <td>amazon_reviews_us_Wireless_v1_00-preprocessed-...</td>\n",
              "      <td>32.0</td>\n",
              "      <td>drive/My Drive/Springboard/capstone/data/amazo...</td>\n",
              "      <td>0.976456</td>\n",
              "      <td>0.470945</td>\n",
              "      <td>0.490866</td>\n",
              "      <td>0.467603</td>\n",
              "      <td>28011.0</td>\n",
              "      <td>186.0</td>\n",
              "      <td>drive/My Drive/Springboard/capstone/models/201...</td>\n",
              "      <td>CNN1layerEmbedding32</td>\n",
              "      <td>drive/My Drive/Springboard/capstone/models/201...</td>\n",
              "      <td>success</td>\n",
              "      <td>2019-07-23 05:27:42</td>\n",
              "      <td>28011.0</td>\n",
              "      <td>186.0</td>\n",
              "      <td>drive/My Drive/Springboard/capstone/models/201...</td>\n",
              "      <td>84032.0</td>\n",
              "      <td>186.0</td>\n",
              "      <td>0.633336</td>\n",
              "      <td>0.619678</td>\n",
              "      <td>0.659384</td>\n",
              "      <td>28011.0</td>\n",
              "    </tr>\n",
              "  </tbody>\n",
              "</table>\n",
              "</div>"
            ],
            "text/plain": [
              "   1_f1-score  1_precision  ...  weighted avg_recall  weighted avg_support\n",
              "0    0.699824     0.654597  ...             0.659384               28011.0\n",
              "\n",
              "[1 rows x 52 columns]"
            ]
          },
          "metadata": {
            "tags": []
          },
          "execution_count": 43
        }
      ]
    },
    {
      "cell_type": "code",
      "metadata": {
        "colab_type": "code",
        "id": "w0FY2QZvJXiw",
        "colab": {}
      },
      "source": [
        "report_df.to_csv(REPORT_FILE, index=False)"
      ],
      "execution_count": 0,
      "outputs": []
    },
    {
      "cell_type": "code",
      "metadata": {
        "colab_type": "code",
        "id": "96A-A5CBJXiy",
        "colab": {}
      },
      "source": [
        ""
      ],
      "execution_count": 0,
      "outputs": []
    },
    {
      "cell_type": "markdown",
      "metadata": {
        "colab_type": "text",
        "id": "N9_HdFxaFbvB"
      },
      "source": [
        "# Second model of this with embedding of size 300 instead of 35"
      ]
    },
    {
      "cell_type": "code",
      "metadata": {
        "colab_type": "code",
        "id": "9xV6tWa0Fiky",
        "colab": {}
      },
      "source": [
        "MODEL_NAME300 = \"CNN1layerEmbedding300\"\n",
        "EMBED_SIZE300 = 300\n",
        "model300 = Sequential()\n",
        "model300.add(Embedding(VOCAB_SIZE, EMBED_SIZE300, input_length=MAX_SEQUENCE_LENGTH))\n",
        "model300.add(Conv1D(filters=32, kernel_size=3, padding='same', activation='relu'))\n",
        "model300.add(MaxPooling1D(pool_size=2))\n",
        "model300.add(Flatten())\n",
        "model300.add(Dense(250, activation='relu'))\n",
        "model300.add(Dense(5, activation='softmax'))\n",
        "model300.compile(loss='categorical_crossentropy', optimizer='adam', metrics=['accuracy'])\n"
      ],
      "execution_count": 0,
      "outputs": []
    },
    {
      "cell_type": "code",
      "metadata": {
        "colab_type": "code",
        "id": "g3s1EwMSFzCz",
        "outputId": "fd7caeb6-1631-4ece-a722-1f85e4b76ed6",
        "colab": {
          "base_uri": "https://localhost:8080/",
          "height": 364
        }
      },
      "source": [
        "print(model300.summary())"
      ],
      "execution_count": 46,
      "outputs": [
        {
          "output_type": "stream",
          "text": [
            "_________________________________________________________________\n",
            "Layer (type)                 Output Shape              Param #   \n",
            "=================================================================\n",
            "embedding_2 (Embedding)      (None, 186, 300)          12236700  \n",
            "_________________________________________________________________\n",
            "conv1d_2 (Conv1D)            (None, 186, 32)           28832     \n",
            "_________________________________________________________________\n",
            "max_pooling1d_2 (MaxPooling1 (None, 93, 32)            0         \n",
            "_________________________________________________________________\n",
            "flatten_2 (Flatten)          (None, 2976)              0         \n",
            "_________________________________________________________________\n",
            "dense_3 (Dense)              (None, 250)               744250    \n",
            "_________________________________________________________________\n",
            "dense_4 (Dense)              (None, 5)                 1255      \n",
            "=================================================================\n",
            "Total params: 13,011,037\n",
            "Trainable params: 13,011,037\n",
            "Non-trainable params: 0\n",
            "_________________________________________________________________\n",
            "None\n"
          ],
          "name": "stdout"
        }
      ]
    },
    {
      "cell_type": "code",
      "metadata": {
        "colab_type": "code",
        "id": "y-gTEUIzF0TJ",
        "outputId": "e8c56d68-a897-482b-bbc5-0516ab7c969f",
        "colab": {
          "base_uri": "https://localhost:8080/",
          "height": 745
        }
      },
      "source": [
        "SVG(model_to_dot(model300, show_shapes=True, show_layer_names=False, \n",
        "                 rankdir='TB').create(prog='dot', format='svg'))"
      ],
      "execution_count": 47,
      "outputs": [
        {
          "output_type": "execute_result",
          "data": {
            "text/plain": [
              "<IPython.core.display.SVG object>"
            ],
            "image/svg+xml": "<svg height=\"543pt\" viewBox=\"0.00 0.00 283.00 543.00\" width=\"283pt\" xmlns=\"http://www.w3.org/2000/svg\" xmlns:xlink=\"http://www.w3.org/1999/xlink\">\n<g class=\"graph\" id=\"graph0\" transform=\"scale(1 1) rotate(0) translate(4 539)\">\n<title>G</title>\n<polygon fill=\"#ffffff\" points=\"-4,4 -4,-539 279,-539 279,4 -4,4\" stroke=\"transparent\"/>\n<!-- 139812452195128 -->\n<g class=\"node\" id=\"node1\">\n<title>139812452195128</title>\n<polygon fill=\"none\" points=\"8,-415.5 8,-461.5 267,-461.5 267,-415.5 8,-415.5\" stroke=\"#000000\"/>\n<text fill=\"#000000\" font-family=\"Times,serif\" font-size=\"14.00\" text-anchor=\"middle\" x=\"50\" y=\"-434.8\">Embedding</text>\n<polyline fill=\"none\" points=\"92,-415.5 92,-461.5 \" stroke=\"#000000\"/>\n<text fill=\"#000000\" font-family=\"Times,serif\" font-size=\"14.00\" text-anchor=\"middle\" x=\"121\" y=\"-446.3\">input:</text>\n<polyline fill=\"none\" points=\"92,-438.5 150,-438.5 \" stroke=\"#000000\"/>\n<text fill=\"#000000\" font-family=\"Times,serif\" font-size=\"14.00\" text-anchor=\"middle\" x=\"121\" y=\"-423.3\">output:</text>\n<polyline fill=\"none\" points=\"150,-415.5 150,-461.5 \" stroke=\"#000000\"/>\n<text fill=\"#000000\" font-family=\"Times,serif\" font-size=\"14.00\" text-anchor=\"middle\" x=\"208.5\" y=\"-446.3\">(None, 186)</text>\n<polyline fill=\"none\" points=\"150,-438.5 267,-438.5 \" stroke=\"#000000\"/>\n<text fill=\"#000000\" font-family=\"Times,serif\" font-size=\"14.00\" text-anchor=\"middle\" x=\"208.5\" y=\"-423.3\">(None, 186, 300)</text>\n</g>\n<!-- 139812452195240 -->\n<g class=\"node\" id=\"node2\">\n<title>139812452195240</title>\n<polygon fill=\"none\" points=\"16.5,-332.5 16.5,-378.5 258.5,-378.5 258.5,-332.5 16.5,-332.5\" stroke=\"#000000\"/>\n<text fill=\"#000000\" font-family=\"Times,serif\" font-size=\"14.00\" text-anchor=\"middle\" x=\"50\" y=\"-351.8\">Conv1D</text>\n<polyline fill=\"none\" points=\"83.5,-332.5 83.5,-378.5 \" stroke=\"#000000\"/>\n<text fill=\"#000000\" font-family=\"Times,serif\" font-size=\"14.00\" text-anchor=\"middle\" x=\"112.5\" y=\"-363.3\">input:</text>\n<polyline fill=\"none\" points=\"83.5,-355.5 141.5,-355.5 \" stroke=\"#000000\"/>\n<text fill=\"#000000\" font-family=\"Times,serif\" font-size=\"14.00\" text-anchor=\"middle\" x=\"112.5\" y=\"-340.3\">output:</text>\n<polyline fill=\"none\" points=\"141.5,-332.5 141.5,-378.5 \" stroke=\"#000000\"/>\n<text fill=\"#000000\" font-family=\"Times,serif\" font-size=\"14.00\" text-anchor=\"middle\" x=\"200\" y=\"-363.3\">(None, 186, 300)</text>\n<polyline fill=\"none\" points=\"141.5,-355.5 258.5,-355.5 \" stroke=\"#000000\"/>\n<text fill=\"#000000\" font-family=\"Times,serif\" font-size=\"14.00\" text-anchor=\"middle\" x=\"200\" y=\"-340.3\">(None, 186, 32)</text>\n</g>\n<!-- 139812452195128&#45;&gt;139812452195240 -->\n<g class=\"edge\" id=\"edge2\">\n<title>139812452195128-&gt;139812452195240</title>\n<path d=\"M137.5,-415.3799C137.5,-407.1745 137.5,-397.7679 137.5,-388.8786\" fill=\"none\" stroke=\"#000000\"/>\n<polygon fill=\"#000000\" points=\"141.0001,-388.784 137.5,-378.784 134.0001,-388.784 141.0001,-388.784\" stroke=\"#000000\"/>\n</g>\n<!-- 139812452196080 -->\n<g class=\"node\" id=\"node3\">\n<title>139812452196080</title>\n<polygon fill=\"none\" points=\"0,-249.5 0,-295.5 275,-295.5 275,-249.5 0,-249.5\" stroke=\"#000000\"/>\n<text fill=\"#000000\" font-family=\"Times,serif\" font-size=\"14.00\" text-anchor=\"middle\" x=\"53.5\" y=\"-268.8\">MaxPooling1D</text>\n<polyline fill=\"none\" points=\"107,-249.5 107,-295.5 \" stroke=\"#000000\"/>\n<text fill=\"#000000\" font-family=\"Times,serif\" font-size=\"14.00\" text-anchor=\"middle\" x=\"136\" y=\"-280.3\">input:</text>\n<polyline fill=\"none\" points=\"107,-272.5 165,-272.5 \" stroke=\"#000000\"/>\n<text fill=\"#000000\" font-family=\"Times,serif\" font-size=\"14.00\" text-anchor=\"middle\" x=\"136\" y=\"-257.3\">output:</text>\n<polyline fill=\"none\" points=\"165,-249.5 165,-295.5 \" stroke=\"#000000\"/>\n<text fill=\"#000000\" font-family=\"Times,serif\" font-size=\"14.00\" text-anchor=\"middle\" x=\"220\" y=\"-280.3\">(None, 186, 32)</text>\n<polyline fill=\"none\" points=\"165,-272.5 275,-272.5 \" stroke=\"#000000\"/>\n<text fill=\"#000000\" font-family=\"Times,serif\" font-size=\"14.00\" text-anchor=\"middle\" x=\"220\" y=\"-257.3\">(None, 93, 32)</text>\n</g>\n<!-- 139812452195240&#45;&gt;139812452196080 -->\n<g class=\"edge\" id=\"edge3\">\n<title>139812452195240-&gt;139812452196080</title>\n<path d=\"M137.5,-332.3799C137.5,-324.1745 137.5,-314.7679 137.5,-305.8786\" fill=\"none\" stroke=\"#000000\"/>\n<polygon fill=\"#000000\" points=\"141.0001,-305.784 137.5,-295.784 134.0001,-305.784 141.0001,-305.784\" stroke=\"#000000\"/>\n</g>\n<!-- 139812452196192 -->\n<g class=\"node\" id=\"node4\">\n<title>139812452196192</title>\n<polygon fill=\"none\" points=\"29.5,-166.5 29.5,-212.5 245.5,-212.5 245.5,-166.5 29.5,-166.5\" stroke=\"#000000\"/>\n<text fill=\"#000000\" font-family=\"Times,serif\" font-size=\"14.00\" text-anchor=\"middle\" x=\"57.5\" y=\"-185.8\">Flatten</text>\n<polyline fill=\"none\" points=\"85.5,-166.5 85.5,-212.5 \" stroke=\"#000000\"/>\n<text fill=\"#000000\" font-family=\"Times,serif\" font-size=\"14.00\" text-anchor=\"middle\" x=\"114.5\" y=\"-197.3\">input:</text>\n<polyline fill=\"none\" points=\"85.5,-189.5 143.5,-189.5 \" stroke=\"#000000\"/>\n<text fill=\"#000000\" font-family=\"Times,serif\" font-size=\"14.00\" text-anchor=\"middle\" x=\"114.5\" y=\"-174.3\">output:</text>\n<polyline fill=\"none\" points=\"143.5,-166.5 143.5,-212.5 \" stroke=\"#000000\"/>\n<text fill=\"#000000\" font-family=\"Times,serif\" font-size=\"14.00\" text-anchor=\"middle\" x=\"194.5\" y=\"-197.3\">(None, 93, 32)</text>\n<polyline fill=\"none\" points=\"143.5,-189.5 245.5,-189.5 \" stroke=\"#000000\"/>\n<text fill=\"#000000\" font-family=\"Times,serif\" font-size=\"14.00\" text-anchor=\"middle\" x=\"194.5\" y=\"-174.3\">(None, 2976)</text>\n</g>\n<!-- 139812452196080&#45;&gt;139812452196192 -->\n<g class=\"edge\" id=\"edge4\">\n<title>139812452196080-&gt;139812452196192</title>\n<path d=\"M137.5,-249.3799C137.5,-241.1745 137.5,-231.7679 137.5,-222.8786\" fill=\"none\" stroke=\"#000000\"/>\n<polygon fill=\"#000000\" points=\"141.0001,-222.784 137.5,-212.784 134.0001,-222.784 141.0001,-222.784\" stroke=\"#000000\"/>\n</g>\n<!-- 139812452195856 -->\n<g class=\"node\" id=\"node5\">\n<title>139812452195856</title>\n<polygon fill=\"none\" points=\"35,-83.5 35,-129.5 240,-129.5 240,-83.5 35,-83.5\" stroke=\"#000000\"/>\n<text fill=\"#000000\" font-family=\"Times,serif\" font-size=\"14.00\" text-anchor=\"middle\" x=\"61\" y=\"-102.8\">Dense</text>\n<polyline fill=\"none\" points=\"87,-83.5 87,-129.5 \" stroke=\"#000000\"/>\n<text fill=\"#000000\" font-family=\"Times,serif\" font-size=\"14.00\" text-anchor=\"middle\" x=\"116\" y=\"-114.3\">input:</text>\n<polyline fill=\"none\" points=\"87,-106.5 145,-106.5 \" stroke=\"#000000\"/>\n<text fill=\"#000000\" font-family=\"Times,serif\" font-size=\"14.00\" text-anchor=\"middle\" x=\"116\" y=\"-91.3\">output:</text>\n<polyline fill=\"none\" points=\"145,-83.5 145,-129.5 \" stroke=\"#000000\"/>\n<text fill=\"#000000\" font-family=\"Times,serif\" font-size=\"14.00\" text-anchor=\"middle\" x=\"192.5\" y=\"-114.3\">(None, 2976)</text>\n<polyline fill=\"none\" points=\"145,-106.5 240,-106.5 \" stroke=\"#000000\"/>\n<text fill=\"#000000\" font-family=\"Times,serif\" font-size=\"14.00\" text-anchor=\"middle\" x=\"192.5\" y=\"-91.3\">(None, 250)</text>\n</g>\n<!-- 139812452196192&#45;&gt;139812452195856 -->\n<g class=\"edge\" id=\"edge5\">\n<title>139812452196192-&gt;139812452195856</title>\n<path d=\"M137.5,-166.3799C137.5,-158.1745 137.5,-148.7679 137.5,-139.8786\" fill=\"none\" stroke=\"#000000\"/>\n<polygon fill=\"#000000\" points=\"141.0001,-139.784 137.5,-129.784 134.0001,-139.784 141.0001,-139.784\" stroke=\"#000000\"/>\n</g>\n<!-- 139812451752312 -->\n<g class=\"node\" id=\"node6\">\n<title>139812451752312</title>\n<polygon fill=\"none\" points=\"39,-.5 39,-46.5 236,-46.5 236,-.5 39,-.5\" stroke=\"#000000\"/>\n<text fill=\"#000000\" font-family=\"Times,serif\" font-size=\"14.00\" text-anchor=\"middle\" x=\"65\" y=\"-19.8\">Dense</text>\n<polyline fill=\"none\" points=\"91,-.5 91,-46.5 \" stroke=\"#000000\"/>\n<text fill=\"#000000\" font-family=\"Times,serif\" font-size=\"14.00\" text-anchor=\"middle\" x=\"120\" y=\"-31.3\">input:</text>\n<polyline fill=\"none\" points=\"91,-23.5 149,-23.5 \" stroke=\"#000000\"/>\n<text fill=\"#000000\" font-family=\"Times,serif\" font-size=\"14.00\" text-anchor=\"middle\" x=\"120\" y=\"-8.3\">output:</text>\n<polyline fill=\"none\" points=\"149,-.5 149,-46.5 \" stroke=\"#000000\"/>\n<text fill=\"#000000\" font-family=\"Times,serif\" font-size=\"14.00\" text-anchor=\"middle\" x=\"192.5\" y=\"-31.3\">(None, 250)</text>\n<polyline fill=\"none\" points=\"149,-23.5 236,-23.5 \" stroke=\"#000000\"/>\n<text fill=\"#000000\" font-family=\"Times,serif\" font-size=\"14.00\" text-anchor=\"middle\" x=\"192.5\" y=\"-8.3\">(None, 5)</text>\n</g>\n<!-- 139812452195856&#45;&gt;139812451752312 -->\n<g class=\"edge\" id=\"edge6\">\n<title>139812452195856-&gt;139812451752312</title>\n<path d=\"M137.5,-83.3799C137.5,-75.1745 137.5,-65.7679 137.5,-56.8786\" fill=\"none\" stroke=\"#000000\"/>\n<polygon fill=\"#000000\" points=\"141.0001,-56.784 137.5,-46.784 134.0001,-56.784 141.0001,-56.784\" stroke=\"#000000\"/>\n</g>\n<!-- 139812452195352 -->\n<g class=\"node\" id=\"node7\">\n<title>139812452195352</title>\n<polygon fill=\"none\" points=\"73,-498.5 73,-534.5 202,-534.5 202,-498.5 73,-498.5\" stroke=\"#000000\"/>\n<text fill=\"#000000\" font-family=\"Times,serif\" font-size=\"14.00\" text-anchor=\"middle\" x=\"137.5\" y=\"-512.8\">139812452195352</text>\n</g>\n<!-- 139812452195352&#45;&gt;139812452195128 -->\n<g class=\"edge\" id=\"edge1\">\n<title>139812452195352-&gt;139812452195128</title>\n<path d=\"M137.5,-498.4092C137.5,-490.4308 137.5,-480.795 137.5,-471.606\" fill=\"none\" stroke=\"#000000\"/>\n<polygon fill=\"#000000\" points=\"141.0001,-471.5333 137.5,-461.5333 134.0001,-471.5334 141.0001,-471.5333\" stroke=\"#000000\"/>\n</g>\n</g>\n</svg>"
          },
          "metadata": {
            "tags": []
          },
          "execution_count": 47
        }
      ]
    },
    {
      "cell_type": "code",
      "metadata": {
        "colab_type": "code",
        "id": "r23FrBd5F5HD",
        "outputId": "862076dd-68af-47c7-889b-2a40083bcc64",
        "colab": {
          "base_uri": "https://localhost:8080/",
          "height": 176
        }
      },
      "source": [
        "early_stop = EarlyStopping(monitor='val_loss', patience=2, verbose=1)\n",
        "network_history300 = model300.fit(X_train, y_train,\n",
        "                      batch_size=BATCH_SIZE,\n",
        "                      epochs=EPOCHS,\n",
        "                      verbose=1,\n",
        "                      validation_split=0.2,\n",
        "                      callbacks=[early_stop])"
      ],
      "execution_count": 48,
      "outputs": [
        {
          "output_type": "stream",
          "text": [
            "Train on 67225 samples, validate on 16807 samples\n",
            "Epoch 1/50\n",
            "67225/67225 [==============================] - 16s 232us/step - loss: 0.9319 - acc: 0.6419 - val_loss: 0.8426 - val_acc: 0.6724\n",
            "Epoch 2/50\n",
            "67225/67225 [==============================] - 15s 220us/step - loss: 0.7233 - acc: 0.7168 - val_loss: 0.8502 - val_acc: 0.6685\n",
            "Epoch 3/50\n",
            "67225/67225 [==============================] - 15s 220us/step - loss: 0.5675 - acc: 0.7830 - val_loss: 0.9937 - val_acc: 0.6575\n",
            "Epoch 00003: early stopping\n"
          ],
          "name": "stdout"
        }
      ]
    },
    {
      "cell_type": "code",
      "metadata": {
        "colab_type": "code",
        "id": "mYuM_NC3GCNL",
        "outputId": "76061d73-0591-474a-d309-25cf01d8b717",
        "colab": {
          "base_uri": "https://localhost:8080/",
          "height": 52
        }
      },
      "source": [
        "scores300 = model300.evaluate(X_test, y_test, verbose=1)\n",
        "print(\"Accuracy: %.2f%%\" % (scores[1]*100))\n"
      ],
      "execution_count": 49,
      "outputs": [
        {
          "output_type": "stream",
          "text": [
            "28011/28011 [==============================] - 2s 81us/step\n",
            "Accuracy: 65.94%\n"
          ],
          "name": "stdout"
        }
      ]
    },
    {
      "cell_type": "code",
      "metadata": {
        "colab_type": "code",
        "id": "LObFrJ2WGJ-B",
        "outputId": "6425c298-17b1-4157-c952-4f6769402226",
        "colab": {
          "base_uri": "https://localhost:8080/",
          "height": 565
        }
      },
      "source": [
        "plot_history(network_history300)"
      ],
      "execution_count": 50,
      "outputs": [
        {
          "output_type": "display_data",
          "data": {
            "image/png": "[encoded data removed]",
            "text/plain": [
              "<Figure size 432x288 with 1 Axes>"
            ]
          },
          "metadata": {
            "tags": []
          }
        },
        {
          "output_type": "display_data",
          "data": {
            "image/png": "[encoded data removed]",
            "text/plain": [
              "<Figure size 432x288 with 1 Axes>"
            ]
          },
          "metadata": {
            "tags": []
          }
        }
      ]
    },
    {
      "cell_type": "code",
      "metadata": {
        "colab_type": "code",
        "id": "uvUQloZ7GOsn",
        "outputId": "0e5a74c0-b34e-48e1-818c-4b78e94a29e4",
        "colab": {
          "base_uri": "https://localhost:8080/",
          "height": 202
        }
      },
      "source": [
        "y_predict300 = model300.predict(X_test)\n",
        "y_predict300_df = pd.DataFrame(y_predict300)\n",
        "y_predict300_df.head()"
      ],
      "execution_count": 51,
      "outputs": [
        {
          "output_type": "execute_result",
          "data": {
            "text/html": [
              "<div>\n",
              "<style scoped>\n",
              "    .dataframe tbody tr th:only-of-type {\n",
              "        vertical-align: middle;\n",
              "    }\n",
              "\n",
              "    .dataframe tbody tr th {\n",
              "        vertical-align: top;\n",
              "    }\n",
              "\n",
              "    .dataframe thead th {\n",
              "        text-align: right;\n",
              "    }\n",
              "</style>\n",
              "<table border=\"1\" class=\"dataframe\">\n",
              "  <thead>\n",
              "    <tr style=\"text-align: right;\">\n",
              "      <th></th>\n",
              "      <th>0</th>\n",
              "      <th>1</th>\n",
              "      <th>2</th>\n",
              "      <th>3</th>\n",
              "      <th>4</th>\n",
              "    </tr>\n",
              "  </thead>\n",
              "  <tbody>\n",
              "    <tr>\n",
              "      <th>0</th>\n",
              "      <td>6.013400e-07</td>\n",
              "      <td>0.000011</td>\n",
              "      <td>0.000522</td>\n",
              "      <td>0.135412</td>\n",
              "      <td>0.864054</td>\n",
              "    </tr>\n",
              "    <tr>\n",
              "      <th>1</th>\n",
              "      <td>1.269377e-04</td>\n",
              "      <td>0.000803</td>\n",
              "      <td>0.016263</td>\n",
              "      <td>0.335785</td>\n",
              "      <td>0.647023</td>\n",
              "    </tr>\n",
              "    <tr>\n",
              "      <th>2</th>\n",
              "      <td>1.498576e-05</td>\n",
              "      <td>0.000050</td>\n",
              "      <td>0.000778</td>\n",
              "      <td>0.040648</td>\n",
              "      <td>0.958508</td>\n",
              "    </tr>\n",
              "    <tr>\n",
              "      <th>3</th>\n",
              "      <td>1.259667e-03</td>\n",
              "      <td>0.007270</td>\n",
              "      <td>0.026050</td>\n",
              "      <td>0.131014</td>\n",
              "      <td>0.834406</td>\n",
              "    </tr>\n",
              "    <tr>\n",
              "      <th>4</th>\n",
              "      <td>1.690750e-04</td>\n",
              "      <td>0.000286</td>\n",
              "      <td>0.004440</td>\n",
              "      <td>0.108052</td>\n",
              "      <td>0.887052</td>\n",
              "    </tr>\n",
              "  </tbody>\n",
              "</table>\n",
              "</div>"
            ],
            "text/plain": [
              "              0         1         2         3         4\n",
              "0  6.013400e-07  0.000011  0.000522  0.135412  0.864054\n",
              "1  1.269377e-04  0.000803  0.016263  0.335785  0.647023\n",
              "2  1.498576e-05  0.000050  0.000778  0.040648  0.958508\n",
              "3  1.259667e-03  0.007270  0.026050  0.131014  0.834406\n",
              "4  1.690750e-04  0.000286  0.004440  0.108052  0.887052"
            ]
          },
          "metadata": {
            "tags": []
          },
          "execution_count": 51
        }
      ]
    },
    {
      "cell_type": "code",
      "metadata": {
        "colab_type": "code",
        "id": "b2K8Pok-G_aE",
        "colab": {}
      },
      "source": [
        "y_predict300_unencoded = [row.idxmax() + 1 for index, row in y_predict300_df.iterrows()]"
      ],
      "execution_count": 0,
      "outputs": []
    },
    {
      "cell_type": "code",
      "metadata": {
        "colab_type": "code",
        "id": "EY2mTrAXHFbt",
        "outputId": "1c1f6c15-1c1d-4448-d29d-720522825ab3",
        "colab": {
          "base_uri": "https://localhost:8080/",
          "height": 104
        }
      },
      "source": [
        "confusion_matrix(y_test_unencoded, y_predict300_unencoded)"
      ],
      "execution_count": 53,
      "outputs": [
        {
          "output_type": "execute_result",
          "data": {
            "text/plain": [
              "array([[ 2811,   553,   237,    71,   296],\n",
              "       [  654,   468,   334,   144,   271],\n",
              "       [  321,   458,   586,   527,   639],\n",
              "       [  113,   169,   384,  1250,  2836],\n",
              "       [  200,   121,   226,  1040, 13302]])"
            ]
          },
          "metadata": {
            "tags": []
          },
          "execution_count": 53
        }
      ]
    },
    {
      "cell_type": "code",
      "metadata": {
        "colab_type": "code",
        "id": "ifYDa2s3HKV7",
        "outputId": "a847ed73-a1b6-4500-90b3-f85262e88801",
        "colab": {
          "base_uri": "https://localhost:8080/",
          "height": 225
        }
      },
      "source": [
        "print(classification_report(y_test_unencoded, y_predict300_unencoded))"
      ],
      "execution_count": 54,
      "outputs": [
        {
          "output_type": "stream",
          "text": [
            "              precision    recall  f1-score   support\n",
            "\n",
            "           1       0.69      0.71      0.70      3968\n",
            "           2       0.26      0.25      0.26      1871\n",
            "           3       0.33      0.23      0.27      2531\n",
            "           4       0.41      0.26      0.32      4752\n",
            "           5       0.77      0.89      0.83     14889\n",
            "\n",
            "    accuracy                           0.66     28011\n",
            "   macro avg       0.49      0.47      0.47     28011\n",
            "weighted avg       0.62      0.66      0.63     28011\n",
            "\n"
          ],
          "name": "stdout"
        }
      ]
    },
    {
      "cell_type": "code",
      "metadata": {
        "colab_type": "code",
        "id": "cGWLqe_UHmAB",
        "outputId": "02003f45-09d4-4845-a590-0838bd0dec8e",
        "colab": {
          "base_uri": "https://localhost:8080/",
          "height": 445
        }
      },
      "source": [
        "roc_auc300, fpr300, tpr300 = calculate_roc_auc(y_test, y_predict300_df)\n",
        "fig = plt.figure(figsize=(5,5))\n",
        "plot_roc_auc(MODEL_NAME300, roc_auc300, fpr300, tpr300)"
      ],
      "execution_count": 92,
      "outputs": [
        {
          "output_type": "display_data",
          "data": {
            "image/png": "[encoded data removed]",
            "text/plain": [
              "<Figure size 360x360 with 1 Axes>"
            ]
          },
          "metadata": {
            "tags": []
          }
        }
      ]
    },
    {
      "cell_type": "code",
      "metadata": {
        "colab_type": "code",
        "id": "_A6lCHfuKQSO",
        "outputId": "3279fd9a-81e0-4b06-aa95-696eceb562d6",
        "colab": {
          "base_uri": "https://localhost:8080/",
          "height": 139
        }
      },
      "source": [
        "roc_auc300"
      ],
      "execution_count": 56,
      "outputs": [
        {
          "output_type": "execute_result",
          "data": {
            "text/plain": [
              "{'auc_1': 0.9460998315937307,\n",
              " 'auc_2': 0.8486100007483447,\n",
              " 'auc_3': 0.8047571882596154,\n",
              " 'auc_4': 0.7250747167419208,\n",
              " 'auc_5': 0.8703972266283991,\n",
              " 'auc_macro': 0.8390114460873792,\n",
              " 'auc_micro': 0.8992800050433836}"
            ]
          },
          "metadata": {
            "tags": []
          },
          "execution_count": 56
        }
      ]
    },
    {
      "cell_type": "code",
      "metadata": {
        "colab_type": "code",
        "id": "cRahiAl8HSq8",
        "colab": {}
      },
      "source": [
        "# directory, INBASENAME = fu.get_dir_basename(DATA_FILE)\n",
        "DESCRIPTION = f\"{INBASENAME}-nosmote-{MODEL_NAME300}-{MAX_SEQUENCE_LENGTH}-{FEATURE_COLUMN}\"\n",
        "\n",
        "\n",
        "MODEL_FILE = f\"{datetime.now().strftime(DATE_FORMAT)}-{DESCRIPTION}.h5\"\n",
        "NETWORK_HISTORY_FILE = f'{datetime.now().strftime(DATE_FORMAT)}-{DESCRIPTION}-history.pkl'\n",
        "# REPORT_FILE = f\"{datetime.now().strftime(DATE_FORMAT)}-CNN_notebook_protype-report.csv\"\n",
        "TOKENIZER_FILE = f'{datetime.now().strftime(DATE_FORMAT)}-{DESCRIPTION}-tokenizer.pkl'\n"
      ],
      "execution_count": 0,
      "outputs": []
    },
    {
      "cell_type": "code",
      "metadata": {
        "colab_type": "code",
        "id": "0gFqG8WNHbCq",
        "colab": {}
      },
      "source": [
        "model300.save(MODEL_FILE)\n",
        "pickle.dump(network_history300, open(NETWORK_HISTORY_FILE, \"wb\"))\n",
        "pickle.dump(t, open(TOKENIZER_FILE, \"wb\"))"
      ],
      "execution_count": 0,
      "outputs": []
    },
    {
      "cell_type": "code",
      "metadata": {
        "colab_type": "code",
        "id": "qfKyTIQuH1VA",
        "colab": {}
      },
      "source": [
        "# saving off report in the same format as other report just in case we want to compare for later\n",
        "flattened300 = {}\n",
        "flattened300 = du.add_dict_to_dict(flattened300, classification_report(y_test_unencoded, y_predict300_unencoded, output_dict=True))\n",
        "flattened300 = du.add_dict_to_dict(flattened300, roc_auc300)\n",
        "flattened300[\"loss\"] = scores300[0]\n",
        "flattened300[\"accuracy\"] = scores300[1]\n",
        "flattened300[\"confusion_matrix\"] = confusion_matrix(y_test_unencoded, y_predict300_unencoded)\n",
        "flattened300[\"description\"] = DESCRIPTION\n",
        "flattened300[\"file\"] = DATA_FILE\n",
        "flattened300[\"network_history_file\"] = NETWORK_HISTORY_FILE\n",
        "flattened300[\"tokenizer_file\"] = TOKENIZER_FILE\n",
        "flattened300[\"max_sequence_length\"] = MAX_SEQUENCE_LENGTH\n",
        "flattened300[\"embedding\"] = EMBED_SIZE300\n",
        "flattened300[\"model_file\"] = MODEL_FILE\n",
        "flattened300[\"model_name\"] = MODEL_NAME\n",
        "flattened300[\"test_examples\"] = X_test.shape[0]\n",
        "flattened300[\"test_features\"] = X_test.shape[1]\n",
        "flattened300[\"train_examples\"] = X_train.shape[0]\n",
        "flattened300[\"train_features\"] = X_train.shape[1]\n",
        "flattened300[\"status\"] = \"success\"\n",
        "flattened300[\"status_date\"] = datetime.now().strftime(TIME_FORMAT)\n"
      ],
      "execution_count": 0,
      "outputs": []
    },
    {
      "cell_type": "code",
      "metadata": {
        "colab_type": "code",
        "id": "KwPisImLIWmK",
        "colab": {}
      },
      "source": [
        "report_df = report_df.append(flattened300, ignore_index=True)\n"
      ],
      "execution_count": 0,
      "outputs": []
    },
    {
      "cell_type": "code",
      "metadata": {
        "colab_type": "code",
        "id": "y5SI9GS0Iev9",
        "colab": {}
      },
      "source": [
        "report_df.to_csv(REPORT_FILE, index=False)"
      ],
      "execution_count": 0,
      "outputs": []
    },
    {
      "cell_type": "code",
      "metadata": {
        "colab_type": "code",
        "id": "4kBC16R6TGpY",
        "outputId": "114b401f-cbdd-456e-e273-945f9645f1a4",
        "colab": {
          "base_uri": "https://localhost:8080/",
          "height": 1000
        }
      },
      "source": [
        "report_df.T"
      ],
      "execution_count": 63,
      "outputs": [
        {
          "output_type": "execute_result",
          "data": {
            "text/html": [
              "<div>\n",
              "<style scoped>\n",
              "    .dataframe tbody tr th:only-of-type {\n",
              "        vertical-align: middle;\n",
              "    }\n",
              "\n",
              "    .dataframe tbody tr th {\n",
              "        vertical-align: top;\n",
              "    }\n",
              "\n",
              "    .dataframe thead th {\n",
              "        text-align: right;\n",
              "    }\n",
              "</style>\n",
              "<table border=\"1\" class=\"dataframe\">\n",
              "  <thead>\n",
              "    <tr style=\"text-align: right;\">\n",
              "      <th></th>\n",
              "      <th>0</th>\n",
              "      <th>1</th>\n",
              "    </tr>\n",
              "  </thead>\n",
              "  <tbody>\n",
              "    <tr>\n",
              "      <th>1_f1-score</th>\n",
              "      <td>0.699824</td>\n",
              "      <td>0.696913</td>\n",
              "    </tr>\n",
              "    <tr>\n",
              "      <th>1_precision</th>\n",
              "      <td>0.654597</td>\n",
              "      <td>0.685777</td>\n",
              "    </tr>\n",
              "    <tr>\n",
              "      <th>1_recall</th>\n",
              "      <td>0.751764</td>\n",
              "      <td>0.708417</td>\n",
              "    </tr>\n",
              "    <tr>\n",
              "      <th>1_support</th>\n",
              "      <td>3968</td>\n",
              "      <td>3968</td>\n",
              "    </tr>\n",
              "    <tr>\n",
              "      <th>2_f1-score</th>\n",
              "      <td>0.205932</td>\n",
              "      <td>0.257143</td>\n",
              "    </tr>\n",
              "    <tr>\n",
              "      <th>2_precision</th>\n",
              "      <td>0.284369</td>\n",
              "      <td>0.264556</td>\n",
              "    </tr>\n",
              "    <tr>\n",
              "      <th>2_recall</th>\n",
              "      <td>0.161411</td>\n",
              "      <td>0.250134</td>\n",
              "    </tr>\n",
              "    <tr>\n",
              "      <th>2_support</th>\n",
              "      <td>1871</td>\n",
              "      <td>1871</td>\n",
              "    </tr>\n",
              "    <tr>\n",
              "      <th>3_f1-score</th>\n",
              "      <td>0.291024</td>\n",
              "      <td>0.272685</td>\n",
              "    </tr>\n",
              "    <tr>\n",
              "      <th>3_precision</th>\n",
              "      <td>0.341308</td>\n",
              "      <td>0.331636</td>\n",
              "    </tr>\n",
              "    <tr>\n",
              "      <th>3_recall</th>\n",
              "      <td>0.253655</td>\n",
              "      <td>0.231529</td>\n",
              "    </tr>\n",
              "    <tr>\n",
              "      <th>3_support</th>\n",
              "      <td>2531</td>\n",
              "      <td>2531</td>\n",
              "    </tr>\n",
              "    <tr>\n",
              "      <th>4_f1-score</th>\n",
              "      <td>0.33531</td>\n",
              "      <td>0.321172</td>\n",
              "    </tr>\n",
              "    <tr>\n",
              "      <th>4_precision</th>\n",
              "      <td>0.406044</td>\n",
              "      <td>0.412269</td>\n",
              "    </tr>\n",
              "    <tr>\n",
              "      <th>4_recall</th>\n",
              "      <td>0.285564</td>\n",
              "      <td>0.263047</td>\n",
              "    </tr>\n",
              "    <tr>\n",
              "      <th>4_support</th>\n",
              "      <td>4752</td>\n",
              "      <td>4752</td>\n",
              "    </tr>\n",
              "    <tr>\n",
              "      <th>5_f1-score</th>\n",
              "      <td>0.822634</td>\n",
              "      <td>0.825365</td>\n",
              "    </tr>\n",
              "    <tr>\n",
              "      <th>5_precision</th>\n",
              "      <td>0.768012</td>\n",
              "      <td>0.766951</td>\n",
              "    </tr>\n",
              "    <tr>\n",
              "      <th>5_recall</th>\n",
              "      <td>0.88562</td>\n",
              "      <td>0.893411</td>\n",
              "    </tr>\n",
              "    <tr>\n",
              "      <th>5_support</th>\n",
              "      <td>14889</td>\n",
              "      <td>14889</td>\n",
              "    </tr>\n",
              "    <tr>\n",
              "      <th>accuracy</th>\n",
              "      <td>0.659384</td>\n",
              "      <td>0.657492</td>\n",
              "    </tr>\n",
              "    <tr>\n",
              "      <th>auc_1</th>\n",
              "      <td>0.945312</td>\n",
              "      <td>0.9461</td>\n",
              "    </tr>\n",
              "    <tr>\n",
              "      <th>auc_2</th>\n",
              "      <td>0.845058</td>\n",
              "      <td>0.84861</td>\n",
              "    </tr>\n",
              "    <tr>\n",
              "      <th>auc_3</th>\n",
              "      <td>0.80612</td>\n",
              "      <td>0.804757</td>\n",
              "    </tr>\n",
              "    <tr>\n",
              "      <th>auc_4</th>\n",
              "      <td>0.731377</td>\n",
              "      <td>0.725075</td>\n",
              "    </tr>\n",
              "    <tr>\n",
              "      <th>auc_5</th>\n",
              "      <td>0.871598</td>\n",
              "      <td>0.870397</td>\n",
              "    </tr>\n",
              "    <tr>\n",
              "      <th>auc_macro</th>\n",
              "      <td>0.839916</td>\n",
              "      <td>0.839011</td>\n",
              "    </tr>\n",
              "    <tr>\n",
              "      <th>auc_micro</th>\n",
              "      <td>0.900292</td>\n",
              "      <td>0.89928</td>\n",
              "    </tr>\n",
              "    <tr>\n",
              "      <th>confusion_matrix</th>\n",
              "      <td>[[2983, 321, 277, 80, 307], [783, 302, 332, 17...</td>\n",
              "      <td>[[2811, 553, 237, 71, 296], [654, 468, 334, 14...</td>\n",
              "    </tr>\n",
              "    <tr>\n",
              "      <th>description</th>\n",
              "      <td>amazon_reviews_us_Wireless_v1_00-preprocessed-...</td>\n",
              "      <td>amazon_reviews_us_Wireless_v1_00-preprocessed-...</td>\n",
              "    </tr>\n",
              "    <tr>\n",
              "      <th>embedding</th>\n",
              "      <td>32</td>\n",
              "      <td>300</td>\n",
              "    </tr>\n",
              "    <tr>\n",
              "      <th>file</th>\n",
              "      <td>drive/My Drive/Springboard/capstone/data/amazo...</td>\n",
              "      <td>drive/My Drive/Springboard/capstone/data/amazo...</td>\n",
              "    </tr>\n",
              "    <tr>\n",
              "      <th>loss</th>\n",
              "      <td>0.976456</td>\n",
              "      <td>0.974899</td>\n",
              "    </tr>\n",
              "    <tr>\n",
              "      <th>macro avg_f1-score</th>\n",
              "      <td>0.470945</td>\n",
              "      <td>0.474656</td>\n",
              "    </tr>\n",
              "    <tr>\n",
              "      <th>macro avg_precision</th>\n",
              "      <td>0.490866</td>\n",
              "      <td>0.492238</td>\n",
              "    </tr>\n",
              "    <tr>\n",
              "      <th>macro avg_recall</th>\n",
              "      <td>0.467603</td>\n",
              "      <td>0.469308</td>\n",
              "    </tr>\n",
              "    <tr>\n",
              "      <th>macro avg_support</th>\n",
              "      <td>28011</td>\n",
              "      <td>28011</td>\n",
              "    </tr>\n",
              "    <tr>\n",
              "      <th>max_sequence_length</th>\n",
              "      <td>186</td>\n",
              "      <td>186</td>\n",
              "    </tr>\n",
              "    <tr>\n",
              "      <th>model_file</th>\n",
              "      <td>drive/My Drive/Springboard/capstone/models/201...</td>\n",
              "      <td>2019-07-23-amazon_reviews_us_Wireless_v1_00-pr...</td>\n",
              "    </tr>\n",
              "    <tr>\n",
              "      <th>model_name</th>\n",
              "      <td>CNN1layerEmbedding32</td>\n",
              "      <td>CNN1layerEmbedding32</td>\n",
              "    </tr>\n",
              "    <tr>\n",
              "      <th>network_history_file</th>\n",
              "      <td>drive/My Drive/Springboard/capstone/models/201...</td>\n",
              "      <td>2019-07-23-amazon_reviews_us_Wireless_v1_00-pr...</td>\n",
              "    </tr>\n",
              "    <tr>\n",
              "      <th>status</th>\n",
              "      <td>success</td>\n",
              "      <td>success</td>\n",
              "    </tr>\n",
              "    <tr>\n",
              "      <th>status_date</th>\n",
              "      <td>2019-07-23 05:27:42</td>\n",
              "      <td>2019-07-23 05:28:58</td>\n",
              "    </tr>\n",
              "    <tr>\n",
              "      <th>test_examples</th>\n",
              "      <td>28011</td>\n",
              "      <td>28011</td>\n",
              "    </tr>\n",
              "    <tr>\n",
              "      <th>test_features</th>\n",
              "      <td>186</td>\n",
              "      <td>186</td>\n",
              "    </tr>\n",
              "    <tr>\n",
              "      <th>tokenizer_file</th>\n",
              "      <td>drive/My Drive/Springboard/capstone/models/201...</td>\n",
              "      <td>2019-07-23-amazon_reviews_us_Wireless_v1_00-pr...</td>\n",
              "    </tr>\n",
              "    <tr>\n",
              "      <th>train_examples</th>\n",
              "      <td>84032</td>\n",
              "      <td>84032</td>\n",
              "    </tr>\n",
              "    <tr>\n",
              "      <th>train_features</th>\n",
              "      <td>186</td>\n",
              "      <td>186</td>\n",
              "    </tr>\n",
              "    <tr>\n",
              "      <th>weighted avg_f1-score</th>\n",
              "      <td>0.633336</td>\n",
              "      <td>0.63374</td>\n",
              "    </tr>\n",
              "    <tr>\n",
              "      <th>weighted avg_precision</th>\n",
              "      <td>0.619678</td>\n",
              "      <td>0.62239</td>\n",
              "    </tr>\n",
              "    <tr>\n",
              "      <th>weighted avg_recall</th>\n",
              "      <td>0.659384</td>\n",
              "      <td>0.657492</td>\n",
              "    </tr>\n",
              "    <tr>\n",
              "      <th>weighted avg_support</th>\n",
              "      <td>28011</td>\n",
              "      <td>28011</td>\n",
              "    </tr>\n",
              "  </tbody>\n",
              "</table>\n",
              "</div>"
            ],
            "text/plain": [
              "                                                                        0                                                  1\n",
              "1_f1-score                                                       0.699824                                           0.696913\n",
              "1_precision                                                      0.654597                                           0.685777\n",
              "1_recall                                                         0.751764                                           0.708417\n",
              "1_support                                                            3968                                               3968\n",
              "2_f1-score                                                       0.205932                                           0.257143\n",
              "2_precision                                                      0.284369                                           0.264556\n",
              "2_recall                                                         0.161411                                           0.250134\n",
              "2_support                                                            1871                                               1871\n",
              "3_f1-score                                                       0.291024                                           0.272685\n",
              "3_precision                                                      0.341308                                           0.331636\n",
              "3_recall                                                         0.253655                                           0.231529\n",
              "3_support                                                            2531                                               2531\n",
              "4_f1-score                                                        0.33531                                           0.321172\n",
              "4_precision                                                      0.406044                                           0.412269\n",
              "4_recall                                                         0.285564                                           0.263047\n",
              "4_support                                                            4752                                               4752\n",
              "5_f1-score                                                       0.822634                                           0.825365\n",
              "5_precision                                                      0.768012                                           0.766951\n",
              "5_recall                                                          0.88562                                           0.893411\n",
              "5_support                                                           14889                                              14889\n",
              "accuracy                                                         0.659384                                           0.657492\n",
              "auc_1                                                            0.945312                                             0.9461\n",
              "auc_2                                                            0.845058                                            0.84861\n",
              "auc_3                                                             0.80612                                           0.804757\n",
              "auc_4                                                            0.731377                                           0.725075\n",
              "auc_5                                                            0.871598                                           0.870397\n",
              "auc_macro                                                        0.839916                                           0.839011\n",
              "auc_micro                                                        0.900292                                            0.89928\n",
              "confusion_matrix        [[2983, 321, 277, 80, 307], [783, 302, 332, 17...  [[2811, 553, 237, 71, 296], [654, 468, 334, 14...\n",
              "description             amazon_reviews_us_Wireless_v1_00-preprocessed-...  amazon_reviews_us_Wireless_v1_00-preprocessed-...\n",
              "embedding                                                              32                                                300\n",
              "file                    drive/My Drive/Springboard/capstone/data/amazo...  drive/My Drive/Springboard/capstone/data/amazo...\n",
              "loss                                                             0.976456                                           0.974899\n",
              "macro avg_f1-score                                               0.470945                                           0.474656\n",
              "macro avg_precision                                              0.490866                                           0.492238\n",
              "macro avg_recall                                                 0.467603                                           0.469308\n",
              "macro avg_support                                                   28011                                              28011\n",
              "max_sequence_length                                                   186                                                186\n",
              "model_file              drive/My Drive/Springboard/capstone/models/201...  2019-07-23-amazon_reviews_us_Wireless_v1_00-pr...\n",
              "model_name                                           CNN1layerEmbedding32                               CNN1layerEmbedding32\n",
              "network_history_file    drive/My Drive/Springboard/capstone/models/201...  2019-07-23-amazon_reviews_us_Wireless_v1_00-pr...\n",
              "status                                                            success                                            success\n",
              "status_date                                           2019-07-23 05:27:42                                2019-07-23 05:28:58\n",
              "test_examples                                                       28011                                              28011\n",
              "test_features                                                         186                                                186\n",
              "tokenizer_file          drive/My Drive/Springboard/capstone/models/201...  2019-07-23-amazon_reviews_us_Wireless_v1_00-pr...\n",
              "train_examples                                                      84032                                              84032\n",
              "train_features                                                        186                                                186\n",
              "weighted avg_f1-score                                            0.633336                                            0.63374\n",
              "weighted avg_precision                                           0.619678                                            0.62239\n",
              "weighted avg_recall                                              0.659384                                           0.657492\n",
              "weighted avg_support                                                28011                                              28011"
            ]
          },
          "metadata": {
            "tags": []
          },
          "execution_count": 63
        }
      ]
    },
    {
      "cell_type": "code",
      "metadata": {
        "colab_type": "code",
        "id": "e6N456vNTHRl",
        "outputId": "9a434f7a-f17b-4e52-cfc4-64d8b59adcca",
        "colab": {
          "base_uri": "https://localhost:8080/",
          "height": 445
        }
      },
      "source": [
        "fig = plt.figure(figsize=(10, 5))\n",
        "gs = fig.add_gridspec(1, 2)\n",
        "\n",
        "ax1  = fig.add_subplot(gs[0,0])\n",
        "plot_roc_auc(MODEL_NAME, roc_auc, fpr, tpr)\n",
        "\n",
        "ax2  = fig.add_subplot(gs[0,1])\n",
        "plot_roc_auc(MODEL_NAME300, roc_auc300, fpr300, tpr300)\n"
      ],
      "execution_count": 93,
      "outputs": [
        {
          "output_type": "display_data",
          "data": {
            "image/png": "[encoded data removed]",
            "text/plain": [
              "<Figure size 720x360 with 2 Axes>"
            ]
          },
          "metadata": {
            "tags": []
          }
        }
      ]
    },
    {
      "cell_type": "markdown",
      "metadata": {
        "colab_type": "text",
        "id": "_VCHnF1yb0mi"
      },
      "source": [
        "**Looks like there is a slight improvement when we increased embedding size  from 32 to 300 for class 1 and 2 but the AUC actually goes down for ratings 3, 4, and 5 slightly**"
      ]
    },
    {
      "cell_type": "code",
      "metadata": {
        "colab_type": "code",
        "id": "Q3brst7TTblA",
        "colab": {}
      },
      "source": [
        ""
      ],
      "execution_count": 0,
      "outputs": []
    }
  ]
}