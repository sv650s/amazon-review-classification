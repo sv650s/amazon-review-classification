{
  "nbformat": 4,
  "nbformat_minor": 0,
  "metadata": {
    "accelerator": "GPU",
    "colab": {
      "name": "CNN_prototype.ipynb",
      "version": "0.3.2",
      "provenance": [],
      "collapsed_sections": [],
      "include_colab_link": true
    },
    "kernelspec": {
      "display_name": "Python 3",
      "language": "python",
      "name": "python3"
    },
    "language_info": {
      "codemirror_mode": {
        "name": "ipython",
        "version": 3
      },
      "file_extension": ".py",
      "mimetype": "text/x-python",
      "name": "python",
      "nbconvert_exporter": "python",
      "pygments_lexer": "ipython3",
      "version": "3.7.3"
    }
  },
  "cells": [
    {
      "cell_type": "markdown",
      "metadata": {
        "id": "view-in-github",
        "colab_type": "text"
      },
      "source": [
        "<a href=\"https://colab.research.google.com/github/sv650s/sb-capstone/blob/master/2019-06-23-CNN_prototype.ipynb\" target=\"_parent\"><img src=\"https://colab.research.google.com/assets/colab-badge.svg\" alt=\"Open In Colab\"/></a>"
      ]
    },
    {
      "cell_type": "markdown",
      "metadata": {
        "colab_type": "text",
        "id": "W7_sb1roJXhx"
      },
      "source": [
        "# CNN Prototype\n",
        "\n",
        "Modeling this notebook after the following:\n",
        "\n",
        "https://nbviewer.jupyter.org/github/dipanjanS/nlp_workshop_dhs18/blob/master/Unit%2012%20-%20Project%209%20-%20Sentiment%20Analysis%20-%20Supervised%20Learning/12B%20-%20Project%2011%20-%20Sentiment%20Analysis%20-%20Advanced%20Deep%20Learning%20-%20CNNs.ipynb\n",
        "\n",
        "\n",
        "Making the following changes:\n",
        "\n",
        "* last layer is a 5 node layer with softmax activation function since we are doing a 5 class classification\n",
        "* Changing the loss function from binary_crossentropy to categorical_crossentropy since we are doing multi-class classification\n",
        "* running fit with 50 epochs with early stopping with patience of 2\n",
        "* also this notebook runs the CNN model twice - once with embedding of 32 (original), one with embedding of 300. At the end of the notebook, it prints a table to compare the two"
      ]
    },
    {
      "cell_type": "code",
      "metadata": {
        "colab_type": "code",
        "id": "gwrIhSxpG--S",
        "outputId": "a0321a1c-3107-4771-f96a-ad06359f587c",
        "colab": {
          "base_uri": "https://localhost:8080/",
          "height": 55
        }
      },
      "source": [
        "from google.colab import drive\n",
        "import sys\n",
        "drive.mount('/content/drive')\n",
        "# add this to sys patch so we can import utility functions\n",
        "sys.path.append('drive/My Drive/Springboard/capstone')\n"
      ],
      "execution_count": 162,
      "outputs": [
        {
          "output_type": "stream",
          "text": [
            "Drive already mounted at /content/drive; to attempt to forcibly remount, call drive.mount(\"/content/drive\", force_remount=True).\n"
          ],
          "name": "stdout"
        }
      ]
    },
    {
      "cell_type": "code",
      "metadata": {
        "colab_type": "code",
        "id": "pAHGtniuJXhy",
        "colab": {}
      },
      "source": [
        "from keras.models import Sequential\n",
        "from keras.layers import Dense, Activation, Dropout\n",
        "from keras.layers.normalization import BatchNormalization\n",
        "from keras.callbacks import EarlyStopping\n",
        "from keras.models import load_model\n",
        "from sklearn.model_selection import train_test_split\n",
        "from keras.optimizers import SGD\n",
        "from sklearn.preprocessing import OneHotEncoder\n",
        "from keras.layers import Flatten\n",
        "from keras.layers.convolutional import Conv1D\n",
        "from keras.layers.convolutional import MaxPooling1D\n",
        "from keras.layers.embeddings import Embedding\n",
        "import pandas as pd\n",
        "from IPython.display import SVG\n",
        "from keras.utils.vis_utils import model_to_dot\n",
        "import util.dict_util as du\n",
        "import util.plot_util as pu\n",
        "import util.file_util as fu\n",
        "import pickle\n",
        "from datetime import datetime\n",
        "from sklearn.metrics import confusion_matrix, classification_report\n",
        "import os\n",
        "import seaborn as sns\n",
        "\n",
        "sns.set()\n"
      ],
      "execution_count": 0,
      "outputs": []
    },
    {
      "cell_type": "code",
      "metadata": {
        "colab_type": "code",
        "id": "At8OhHNfJXh3",
        "colab": {}
      },
      "source": [
        "DRIVE_DIR = \"drive/My Drive/Springboard/capstone\"\n",
        "DATE_FORMAT = '%Y-%m-%d'\n",
        "TIME_FORMAT = '%Y-%m-%d %H:%M:%S'\n",
        "DATA_FILE = f\"{DRIVE_DIR}/data/amazon_reviews_us_Wireless_v1_00-preprocessed-110k.csv\"\n",
        "MODEL_NAME = \"CNN_1layerEmbedding32\"\n",
        "FEATURE_COLUMN = \"star_rating\"\n",
        "REVIEW_COLUMN = \"review_body\"\n",
        "\n",
        "\n"
      ],
      "execution_count": 0,
      "outputs": []
    },
    {
      "cell_type": "code",
      "metadata": {
        "colab_type": "code",
        "id": "KfGVl2gXLMV_",
        "outputId": "c81b4897-0e18-4d3b-d99e-2b2a9fb25366",
        "colab": {
          "base_uri": "https://localhost:8080/",
          "height": 35
        }
      },
      "source": [
        "import tensorflow as tf\n",
        "# checl to make sure we are using GPU here\n",
        "tf.test.gpu_device_name()"
      ],
      "execution_count": 165,
      "outputs": [
        {
          "output_type": "execute_result",
          "data": {
            "text/plain": [
              "'/device:GPU:0'"
            ]
          },
          "metadata": {
            "tags": []
          },
          "execution_count": 165
        }
      ]
    },
    {
      "cell_type": "code",
      "metadata": {
        "colab_type": "code",
        "hide_input": false,
        "id": "k6fwJp9OJXh5",
        "colab": {}
      },
      "source": [
        "df = pd.read_csv(f\"{DATA_FILE}\")"
      ],
      "execution_count": 0,
      "outputs": []
    },
    {
      "cell_type": "code",
      "metadata": {
        "colab_type": "code",
        "id": "nb3whPNGNsu6",
        "outputId": "c1864f5f-2de4-49c8-a5d3-bad4a479d4ec",
        "colab": {
          "base_uri": "https://localhost:8080/",
          "height": 517
        }
      },
      "source": [
        "df.head()"
      ],
      "execution_count": 167,
      "outputs": [
        {
          "output_type": "execute_result",
          "data": {
            "text/html": [
              "<div>\n",
              "<style scoped>\n",
              "    .dataframe tbody tr th:only-of-type {\n",
              "        vertical-align: middle;\n",
              "    }\n",
              "\n",
              "    .dataframe tbody tr th {\n",
              "        vertical-align: top;\n",
              "    }\n",
              "\n",
              "    .dataframe thead th {\n",
              "        text-align: right;\n",
              "    }\n",
              "</style>\n",
              "<table border=\"1\" class=\"dataframe\">\n",
              "  <thead>\n",
              "    <tr style=\"text-align: right;\">\n",
              "      <th></th>\n",
              "      <th>customer_id</th>\n",
              "      <th>review_id</th>\n",
              "      <th>product_id</th>\n",
              "      <th>product_parent</th>\n",
              "      <th>product_title</th>\n",
              "      <th>product_category</th>\n",
              "      <th>star_rating</th>\n",
              "      <th>helpful_votes</th>\n",
              "      <th>total_votes</th>\n",
              "      <th>review_headline</th>\n",
              "      <th>review_body</th>\n",
              "      <th>review_date</th>\n",
              "    </tr>\n",
              "  </thead>\n",
              "  <tbody>\n",
              "    <tr>\n",
              "      <th>0</th>\n",
              "      <td>48623501</td>\n",
              "      <td>R1G7J2VAMI4AEC</td>\n",
              "      <td>B00LBK7QBY</td>\n",
              "      <td>361030039</td>\n",
              "      <td>universal waterproof case joto cellphone dry b...</td>\n",
              "      <td>Wireless</td>\n",
              "      <td>5</td>\n",
              "      <td>0</td>\n",
              "      <td>0</td>\n",
              "      <td>good product please note not</td>\n",
              "      <td>good product please note not floating case do ...</td>\n",
              "      <td>2015-08-31</td>\n",
              "    </tr>\n",
              "    <tr>\n",
              "      <th>1</th>\n",
              "      <td>533148</td>\n",
              "      <td>R3Q4JAPXWCCJU7</td>\n",
              "      <td>B00W661MOO</td>\n",
              "      <td>360205932</td>\n",
              "      <td>car mount alpatronix mx101 universal charging ...</td>\n",
              "      <td>Wireless</td>\n",
              "      <td>5</td>\n",
              "      <td>0</td>\n",
              "      <td>0</td>\n",
              "      <td>great product holds phone place</td>\n",
              "      <td>great product holds phone place does not slip ...</td>\n",
              "      <td>2015-08-31</td>\n",
              "    </tr>\n",
              "    <tr>\n",
              "      <th>2</th>\n",
              "      <td>40266813</td>\n",
              "      <td>RJQWVO0QV2WQ4</td>\n",
              "      <td>B00USN9L0E</td>\n",
              "      <td>105913119</td>\n",
              "      <td>synthetic leather galaxy s6 sleeve thin</td>\n",
              "      <td>Wireless</td>\n",
              "      <td>5</td>\n",
              "      <td>0</td>\n",
              "      <td>0</td>\n",
              "      <td>exactly described</td>\n",
              "      <td>quality looks good prompt postage cannot argue...</td>\n",
              "      <td>2015-08-31</td>\n",
              "    </tr>\n",
              "    <tr>\n",
              "      <th>3</th>\n",
              "      <td>228806</td>\n",
              "      <td>R3RFPR7X60WN6C</td>\n",
              "      <td>B00YPAOKMU</td>\n",
              "      <td>564491128</td>\n",
              "      <td>jiake s6 5 0 inch unlocked smart phone quad co...</td>\n",
              "      <td>Wireless</td>\n",
              "      <td>5</td>\n",
              "      <td>0</td>\n",
              "      <td>0</td>\n",
              "      <td>powerful attractive really do love mode</td>\n",
              "      <td>works much like jiake phone love price great b...</td>\n",
              "      <td>2015-08-31</td>\n",
              "    </tr>\n",
              "    <tr>\n",
              "      <th>4</th>\n",
              "      <td>10866798</td>\n",
              "      <td>R3QL2UPH2B7YFT</td>\n",
              "      <td>B00O0S97SE</td>\n",
              "      <td>742788022</td>\n",
              "      <td>tfy universal car headrest mount holder portab...</td>\n",
              "      <td>Wireless</td>\n",
              "      <td>3</td>\n",
              "      <td>0</td>\n",
              "      <td>1</td>\n",
              "      <td>good enough</td>\n",
              "      <td>serves purpose loud whoever sitting seat attached</td>\n",
              "      <td>2015-08-31</td>\n",
              "    </tr>\n",
              "  </tbody>\n",
              "</table>\n",
              "</div>"
            ],
            "text/plain": [
              "   customer_id  ... review_date\n",
              "0     48623501  ...  2015-08-31\n",
              "1       533148  ...  2015-08-31\n",
              "2     40266813  ...  2015-08-31\n",
              "3       228806  ...  2015-08-31\n",
              "4     10866798  ...  2015-08-31\n",
              "\n",
              "[5 rows x 12 columns]"
            ]
          },
          "metadata": {
            "tags": []
          },
          "execution_count": 167
        }
      ]
    },
    {
      "cell_type": "code",
      "metadata": {
        "colab_type": "code",
        "id": "pqHfMf6mJXh7",
        "colab": {}
      },
      "source": [
        "rating = df[FEATURE_COLUMN]\n",
        "reviews = df[REVIEW_COLUMN]"
      ],
      "execution_count": 0,
      "outputs": []
    },
    {
      "cell_type": "markdown",
      "metadata": {
        "colab_type": "text",
        "id": "EBQR0ZpoOiQk"
      },
      "source": [
        "## Preprocessing"
      ]
    },
    {
      "cell_type": "code",
      "metadata": {
        "colab_type": "code",
        "id": "lytdvF4neJ4r",
        "outputId": "34f0fa63-d179-49a4-be80-c3dea2bfc2f2",
        "colab": {
          "base_uri": "https://localhost:8080/",
          "height": 263
        }
      },
      "source": [
        "# one hot encode ratings\n",
        "print(rating.shape)\n",
        "print(type(rating))\n",
        "y = OneHotEncoder().fit_transform(rating.values.reshape(len(rating), 1)).toarray()\n",
        "y"
      ],
      "execution_count": 169,
      "outputs": [
        {
          "output_type": "stream",
          "text": [
            "(112043,)\n",
            "<class 'pandas.core.series.Series'>\n"
          ],
          "name": "stdout"
        },
        {
          "output_type": "stream",
          "text": [
            "/usr/local/lib/python3.6/dist-packages/sklearn/preprocessing/_encoders.py:415: FutureWarning: The handling of integer data will change in version 0.22. Currently, the categories are determined based on the range [0, max(values)], while in the future they will be determined based on the unique values.\n",
            "If you want the future behaviour and silence this warning, you can specify \"categories='auto'\".\n",
            "In case you used a LabelEncoder before this OneHotEncoder to convert the categories to integers, then you can now use the OneHotEncoder directly.\n",
            "  warnings.warn(msg, FutureWarning)\n"
          ],
          "name": "stderr"
        },
        {
          "output_type": "execute_result",
          "data": {
            "text/plain": [
              "array([[0., 0., 0., 0., 1.],\n",
              "       [0., 0., 0., 0., 1.],\n",
              "       [0., 0., 0., 0., 1.],\n",
              "       ...,\n",
              "       [0., 0., 1., 0., 0.],\n",
              "       [0., 0., 0., 0., 1.],\n",
              "       [0., 0., 0., 1., 0.]])"
            ]
          },
          "metadata": {
            "tags": []
          },
          "execution_count": 169
        }
      ]
    },
    {
      "cell_type": "code",
      "metadata": {
        "colab_type": "code",
        "id": "8sdvF7lKPRfD",
        "colab": {}
      },
      "source": [
        "reviews_train, reviews_test, y_train, y_test = train_test_split(reviews, y, random_state=1)"
      ],
      "execution_count": 0,
      "outputs": []
    },
    {
      "cell_type": "code",
      "metadata": {
        "colab_type": "code",
        "id": "i0mwVXPjOpi5",
        "colab": {}
      },
      "source": [
        "from keras.preprocessing.text import Tokenizer\n",
        "from keras.preprocessing import sequence\n",
        "from sklearn.preprocessing import LabelEncoder\n",
        "\n",
        "t = Tokenizer()\n",
        "# fit the tokenizer on the documents\n",
        "t.fit_on_texts(reviews_train)"
      ],
      "execution_count": 0,
      "outputs": []
    },
    {
      "cell_type": "code",
      "metadata": {
        "colab_type": "code",
        "id": "Ou3A0O2aOwcb",
        "colab": {}
      },
      "source": [
        "train_sequences = t.texts_to_sequences(reviews_train)"
      ],
      "execution_count": 0,
      "outputs": []
    },
    {
      "cell_type": "code",
      "metadata": {
        "colab_type": "code",
        "id": "DuDHcMvNcZW_",
        "outputId": "5d0c4233-aecd-4c32-8ddb-f8b857833668",
        "colab": {
          "base_uri": "https://localhost:8080/",
          "height": 503
        }
      },
      "source": [
        "train_sequences[:2]"
      ],
      "execution_count": 173,
      "outputs": [
        {
          "output_type": "execute_result",
          "data": {
            "text/plain": [
              "[[20,\n",
              "  24,\n",
              "  16,\n",
              "  11,\n",
              "  1,\n",
              "  21,\n",
              "  2629,\n",
              "  398,\n",
              "  710,\n",
              "  67,\n",
              "  341,\n",
              "  30,\n",
              "  2290,\n",
              "  153,\n",
              "  140,\n",
              "  13,\n",
              "  1,\n",
              "  28,\n",
              "  186,\n",
              "  396,\n",
              "  20,\n",
              "  16,\n",
              "  93,\n",
              "  370,\n",
              "  1346,\n",
              "  408,\n",
              "  992],\n",
              " [99, 70, 31, 1, 168, 44, 1744, 452]]"
            ]
          },
          "metadata": {
            "tags": []
          },
          "execution_count": 173
        }
      ]
    },
    {
      "cell_type": "code",
      "metadata": {
        "colab_type": "code",
        "id": "Xx9whgnmPXkC",
        "outputId": "8cf4b697-8c16-4339-f08a-b2815d4a634f",
        "colab": {
          "base_uri": "https://localhost:8080/",
          "height": 832
        }
      },
      "source": [
        "test_sequences = t.texts_to_sequences(reviews_test)\n",
        "test_sequences[:2]"
      ],
      "execution_count": 174,
      "outputs": [
        {
          "output_type": "execute_result",
          "data": {
            "text/plain": [
              "[[9,\n",
              "  608,\n",
              "  2584,\n",
              "  670,\n",
              "  437,\n",
              "  246,\n",
              "  2,\n",
              "  323,\n",
              "  5,\n",
              "  31,\n",
              "  203,\n",
              "  340,\n",
              "  1414,\n",
              "  643,\n",
              "  342,\n",
              "  147,\n",
              "  242,\n",
              "  272,\n",
              "  54,\n",
              "  128,\n",
              "  278,\n",
              "  908,\n",
              "  27],\n",
              " [764,\n",
              "  1621,\n",
              "  4,\n",
              "  783,\n",
              "  2,\n",
              "  11,\n",
              "  1,\n",
              "  149,\n",
              "  260,\n",
              "  3,\n",
              "  914,\n",
              "  243,\n",
              "  249,\n",
              "  2369,\n",
              "  2,\n",
              "  9,\n",
              "  105,\n",
              "  11,\n",
              "  3,\n",
              "  131,\n",
              "  94,\n",
              "  128,\n",
              "  10,\n",
              "  21]]"
            ]
          },
          "metadata": {
            "tags": []
          },
          "execution_count": 174
        }
      ]
    },
    {
      "cell_type": "code",
      "metadata": {
        "colab_type": "code",
        "id": "bt_xMQApPd_f",
        "outputId": "2eb20072-b78d-4cb6-bdb9-658b4c463c32",
        "colab": {
          "base_uri": "https://localhost:8080/",
          "height": 52
        }
      },
      "source": [
        "print(\"Vocabulary size={}\".format(len(t.word_counts)))\n",
        "print(\"Number of Documents={}\".format(t.document_count))"
      ],
      "execution_count": 175,
      "outputs": [
        {
          "output_type": "stream",
          "text": [
            "Vocabulary size=40788\n",
            "Number of Documents=84032\n"
          ],
          "name": "stdout"
        }
      ]
    },
    {
      "cell_type": "markdown",
      "metadata": {
        "colab_type": "text",
        "id": "vyaOznruPjq-"
      },
      "source": [
        "### Sequence Normalization\n",
        "\n",
        "Figure out max length of review and pad the rest so they are all the same length"
      ]
    },
    {
      "cell_type": "code",
      "metadata": {
        "colab_type": "code",
        "id": "HbmXj-JuPvCT",
        "outputId": "958d32ff-e363-4b57-ad3a-903413d43fa2",
        "colab": {
          "base_uri": "https://localhost:8080/",
          "height": 35
        }
      },
      "source": [
        "df[\"review_length\"] = df.review_body.apply(lambda x: len(x.split()))\n",
        "df.review_length.max()"
      ],
      "execution_count": 176,
      "outputs": [
        {
          "output_type": "execute_result",
          "data": {
            "text/plain": [
              "2864"
            ]
          },
          "metadata": {
            "tags": []
          },
          "execution_count": 176
        }
      ]
    },
    {
      "cell_type": "code",
      "metadata": {
        "colab_type": "code",
        "id": "tR3hDNoCQnvR",
        "outputId": "c9cbce43-dffd-4bd0-e1df-981168136da6",
        "colab": {
          "base_uri": "https://localhost:8080/",
          "height": 294
        }
      },
      "source": [
        "df.describe()"
      ],
      "execution_count": 177,
      "outputs": [
        {
          "output_type": "execute_result",
          "data": {
            "text/html": [
              "<div>\n",
              "<style scoped>\n",
              "    .dataframe tbody tr th:only-of-type {\n",
              "        vertical-align: middle;\n",
              "    }\n",
              "\n",
              "    .dataframe tbody tr th {\n",
              "        vertical-align: top;\n",
              "    }\n",
              "\n",
              "    .dataframe thead th {\n",
              "        text-align: right;\n",
              "    }\n",
              "</style>\n",
              "<table border=\"1\" class=\"dataframe\">\n",
              "  <thead>\n",
              "    <tr style=\"text-align: right;\">\n",
              "      <th></th>\n",
              "      <th>customer_id</th>\n",
              "      <th>product_parent</th>\n",
              "      <th>star_rating</th>\n",
              "      <th>helpful_votes</th>\n",
              "      <th>total_votes</th>\n",
              "      <th>review_length</th>\n",
              "    </tr>\n",
              "  </thead>\n",
              "  <tbody>\n",
              "    <tr>\n",
              "      <th>count</th>\n",
              "      <td>1.120430e+05</td>\n",
              "      <td>1.120430e+05</td>\n",
              "      <td>112043.000000</td>\n",
              "      <td>112043.000000</td>\n",
              "      <td>112043.000000</td>\n",
              "      <td>112043.000000</td>\n",
              "    </tr>\n",
              "    <tr>\n",
              "      <th>mean</th>\n",
              "      <td>2.547598e+07</td>\n",
              "      <td>4.994998e+08</td>\n",
              "      <td>3.889078</td>\n",
              "      <td>0.912435</td>\n",
              "      <td>1.189704</td>\n",
              "      <td>26.322965</td>\n",
              "    </tr>\n",
              "    <tr>\n",
              "      <th>std</th>\n",
              "      <td>1.582173e+07</td>\n",
              "      <td>2.879968e+08</td>\n",
              "      <td>1.463196</td>\n",
              "      <td>10.304687</td>\n",
              "      <td>11.167197</td>\n",
              "      <td>47.248166</td>\n",
              "    </tr>\n",
              "    <tr>\n",
              "      <th>min</th>\n",
              "      <td>1.014100e+04</td>\n",
              "      <td>1.365700e+04</td>\n",
              "      <td>1.000000</td>\n",
              "      <td>0.000000</td>\n",
              "      <td>0.000000</td>\n",
              "      <td>1.000000</td>\n",
              "    </tr>\n",
              "    <tr>\n",
              "      <th>25%</th>\n",
              "      <td>1.231110e+07</td>\n",
              "      <td>2.493906e+08</td>\n",
              "      <td>3.000000</td>\n",
              "      <td>0.000000</td>\n",
              "      <td>0.000000</td>\n",
              "      <td>8.000000</td>\n",
              "    </tr>\n",
              "    <tr>\n",
              "      <th>50%</th>\n",
              "      <td>2.344848e+07</td>\n",
              "      <td>4.990693e+08</td>\n",
              "      <td>5.000000</td>\n",
              "      <td>0.000000</td>\n",
              "      <td>0.000000</td>\n",
              "      <td>15.000000</td>\n",
              "    </tr>\n",
              "    <tr>\n",
              "      <th>75%</th>\n",
              "      <td>4.040851e+07</td>\n",
              "      <td>7.481358e+08</td>\n",
              "      <td>5.000000</td>\n",
              "      <td>0.000000</td>\n",
              "      <td>1.000000</td>\n",
              "      <td>29.000000</td>\n",
              "    </tr>\n",
              "    <tr>\n",
              "      <th>max</th>\n",
              "      <td>5.309655e+07</td>\n",
              "      <td>9.999930e+08</td>\n",
              "      <td>5.000000</td>\n",
              "      <td>1447.000000</td>\n",
              "      <td>1524.000000</td>\n",
              "      <td>2864.000000</td>\n",
              "    </tr>\n",
              "  </tbody>\n",
              "</table>\n",
              "</div>"
            ],
            "text/plain": [
              "        customer_id  product_parent  ...    total_votes  review_length\n",
              "count  1.120430e+05    1.120430e+05  ...  112043.000000  112043.000000\n",
              "mean   2.547598e+07    4.994998e+08  ...       1.189704      26.322965\n",
              "std    1.582173e+07    2.879968e+08  ...      11.167197      47.248166\n",
              "min    1.014100e+04    1.365700e+04  ...       0.000000       1.000000\n",
              "25%    1.231110e+07    2.493906e+08  ...       0.000000       8.000000\n",
              "50%    2.344848e+07    4.990693e+08  ...       0.000000      15.000000\n",
              "75%    4.040851e+07    7.481358e+08  ...       1.000000      29.000000\n",
              "max    5.309655e+07    9.999930e+08  ...    1524.000000    2864.000000\n",
              "\n",
              "[8 rows x 6 columns]"
            ]
          },
          "metadata": {
            "tags": []
          },
          "execution_count": 177
        }
      ]
    },
    {
      "cell_type": "markdown",
      "metadata": {
        "colab_type": "text",
        "id": "FzomQClub7Qo"
      },
      "source": [
        "Looks like 95%+ of our reviews have 186 words or less. If we keep our sequence length to around 64 words, this should allow us to keep most of our content\n",
        "\n",
        "NOTE: no need to do encoding for our star_ratings since this is already in a number format"
      ]
    },
    {
      "cell_type": "code",
      "metadata": {
        "colab_type": "code",
        "id": "JnBz2oaMa_uq",
        "outputId": "7b962ab7-83f0-44f7-d95d-8f7e520548ee",
        "colab": {
          "base_uri": "https://localhost:8080/",
          "height": 35
        }
      },
      "source": [
        "MAX_SEQUENCE_LENGTH = int(df.review_length.quantile([0.99]).values[0])\n",
        "MAX_SEQUENCE_LENGTH"
      ],
      "execution_count": 178,
      "outputs": [
        {
          "output_type": "execute_result",
          "data": {
            "text/plain": [
              "186"
            ]
          },
          "metadata": {
            "tags": []
          },
          "execution_count": 178
        }
      ]
    },
    {
      "cell_type": "code",
      "metadata": {
        "colab_type": "code",
        "id": "W9HZDo9Lbna9",
        "colab": {}
      },
      "source": [
        "# pad dataset to a maximum review length in words\n",
        "X_train = sequence.pad_sequences(train_sequences, maxlen=MAX_SEQUENCE_LENGTH)\n",
        "X_test = sequence.pad_sequences(test_sequences, maxlen=MAX_SEQUENCE_LENGTH)"
      ],
      "execution_count": 0,
      "outputs": []
    },
    {
      "cell_type": "markdown",
      "metadata": {
        "colab_type": "text",
        "id": "F6YI8EiNb5CF"
      },
      "source": [
        ""
      ]
    },
    {
      "cell_type": "code",
      "metadata": {
        "colab_type": "code",
        "id": "_yP1USpSJXh9",
        "outputId": "11206023-90d4-43f5-cea0-23ce71651857",
        "colab": {
          "base_uri": "https://localhost:8080/",
          "height": 329
        }
      },
      "source": [
        "X_train[:1]"
      ],
      "execution_count": 180,
      "outputs": [
        {
          "output_type": "execute_result",
          "data": {
            "text/plain": [
              "array([[   0,    0,    0,    0,    0,    0,    0,    0,    0,    0,    0,\n",
              "           0,    0,    0,    0,    0,    0,    0,    0,    0,    0,    0,\n",
              "           0,    0,    0,    0,    0,    0,    0,    0,    0,    0,    0,\n",
              "           0,    0,    0,    0,    0,    0,    0,    0,    0,    0,    0,\n",
              "           0,    0,    0,    0,    0,    0,    0,    0,    0,    0,    0,\n",
              "           0,    0,    0,    0,    0,    0,    0,    0,    0,    0,    0,\n",
              "           0,    0,    0,    0,    0,    0,    0,    0,    0,    0,    0,\n",
              "           0,    0,    0,    0,    0,    0,    0,    0,    0,    0,    0,\n",
              "           0,    0,    0,    0,    0,    0,    0,    0,    0,    0,    0,\n",
              "           0,    0,    0,    0,    0,    0,    0,    0,    0,    0,    0,\n",
              "           0,    0,    0,    0,    0,    0,    0,    0,    0,    0,    0,\n",
              "           0,    0,    0,    0,    0,    0,    0,    0,    0,    0,    0,\n",
              "           0,    0,    0,    0,    0,    0,    0,    0,    0,    0,    0,\n",
              "           0,    0,    0,    0,    0,    0,    0,    0,    0,    0,    0,\n",
              "           0,    0,    0,    0,    0,   20,   24,   16,   11,    1,   21,\n",
              "        2629,  398,  710,   67,  341,   30, 2290,  153,  140,   13,    1,\n",
              "          28,  186,  396,   20,   16,   93,  370, 1346,  408,  992]],\n",
              "      dtype=int32)"
            ]
          },
          "metadata": {
            "tags": []
          },
          "execution_count": 180
        }
      ]
    },
    {
      "cell_type": "code",
      "metadata": {
        "colab_type": "code",
        "id": "lvkxqTmcJXiA",
        "outputId": "473e20dd-e3e6-4316-9e5a-00071ffd7ddc",
        "colab": {
          "base_uri": "https://localhost:8080/",
          "height": 121
        }
      },
      "source": [
        "# this is our star rating column\n",
        "rating.head()"
      ],
      "execution_count": 181,
      "outputs": [
        {
          "output_type": "execute_result",
          "data": {
            "text/plain": [
              "0    5\n",
              "1    5\n",
              "2    5\n",
              "3    5\n",
              "4    3\n",
              "Name: star_rating, dtype: int64"
            ]
          },
          "metadata": {
            "tags": []
          },
          "execution_count": 181
        }
      ]
    },
    {
      "cell_type": "markdown",
      "metadata": {
        "colab_type": "text",
        "id": "qydtUY2MQF2H"
      },
      "source": [
        "**We are going to run this twice with identical networks. The first will have embedding size of 32. The second will have embedding size of 300. And we will compare results later*"
      ]
    },
    {
      "cell_type": "markdown",
      "metadata": {
        "id": "_Yg56zjRQsCR",
        "colab_type": "text"
      },
      "source": [
        "# Building Our First Model with embedding of 32"
      ]
    },
    {
      "cell_type": "code",
      "metadata": {
        "colab_type": "code",
        "id": "LxDcAouddq88",
        "colab": {}
      },
      "source": [
        "EMBED_SIZE = 32\n",
        "EPOCHS  = 50\n",
        "BATCH_SIZE = 128\n",
        "VOCAB_SIZE = len(t.word_counts)+1\n"
      ],
      "execution_count": 0,
      "outputs": []
    },
    {
      "cell_type": "code",
      "metadata": {
        "colab_type": "code",
        "id": "653DtCuBJXiF",
        "colab": {}
      },
      "source": [
        "model = Sequential()\n",
        "model.add(Embedding(VOCAB_SIZE, EMBED_SIZE, input_length=MAX_SEQUENCE_LENGTH))\n",
        "model.add(Conv1D(filters=32, kernel_size=3, padding='same', activation='relu'))\n",
        "model.add(MaxPooling1D(pool_size=2))\n",
        "model.add(Flatten())\n",
        "model.add(Dense(250, activation='relu'))\n",
        "model.add(Dense(5, activation='softmax'))\n",
        "model.compile(loss='categorical_crossentropy', optimizer='adam', metrics=['accuracy'])\n"
      ],
      "execution_count": 0,
      "outputs": []
    },
    {
      "cell_type": "code",
      "metadata": {
        "colab_type": "code",
        "id": "iZitdxXPJXiI",
        "outputId": "f5b7784c-ff41-4484-e5f2-ae25289bed32",
        "colab": {
          "base_uri": "https://localhost:8080/",
          "height": 364
        }
      },
      "source": [
        "print(model.summary())"
      ],
      "execution_count": 184,
      "outputs": [
        {
          "output_type": "stream",
          "text": [
            "_________________________________________________________________\n",
            "Layer (type)                 Output Shape              Param #   \n",
            "=================================================================\n",
            "embedding_5 (Embedding)      (None, 186, 32)           1305248   \n",
            "_________________________________________________________________\n",
            "conv1d_5 (Conv1D)            (None, 186, 32)           3104      \n",
            "_________________________________________________________________\n",
            "max_pooling1d_5 (MaxPooling1 (None, 93, 32)            0         \n",
            "_________________________________________________________________\n",
            "flatten_5 (Flatten)          (None, 2976)              0         \n",
            "_________________________________________________________________\n",
            "dense_9 (Dense)              (None, 250)               744250    \n",
            "_________________________________________________________________\n",
            "dense_10 (Dense)             (None, 5)                 1255      \n",
            "=================================================================\n",
            "Total params: 2,053,857\n",
            "Trainable params: 2,053,857\n",
            "Non-trainable params: 0\n",
            "_________________________________________________________________\n",
            "None\n"
          ],
          "name": "stdout"
        }
      ]
    },
    {
      "cell_type": "code",
      "metadata": {
        "colab_type": "code",
        "id": "RqLc7s0BJXiK",
        "outputId": "f4f700ac-4611-4530-a70b-e468a3b1d85e",
        "colab": {
          "base_uri": "https://localhost:8080/",
          "height": 745
        }
      },
      "source": [
        "SVG(model_to_dot(model, show_shapes=True, show_layer_names=False, \n",
        "                 rankdir='TB').create(prog='dot', format='svg'))"
      ],
      "execution_count": 185,
      "outputs": [
        {
          "output_type": "execute_result",
          "data": {
            "text/plain": [
              "<IPython.core.display.SVG object>"
            ],
            "image/svg+xml": "<svg height=\"543pt\" viewBox=\"0.00 0.00 283.00 543.00\" width=\"283pt\" xmlns=\"http://www.w3.org/2000/svg\" xmlns:xlink=\"http://www.w3.org/1999/xlink\">\n<g class=\"graph\" id=\"graph0\" transform=\"scale(1 1) rotate(0) translate(4 539)\">\n<title>G</title>\n<polygon fill=\"#ffffff\" points=\"-4,4 -4,-539 279,-539 279,4 -4,4\" stroke=\"transparent\"/>\n<!-- 139812557195528 -->\n<g class=\"node\" id=\"node1\">\n<title>139812557195528</title>\n<polygon fill=\"none\" points=\"11.5,-415.5 11.5,-461.5 263.5,-461.5 263.5,-415.5 11.5,-415.5\" stroke=\"#000000\"/>\n<text fill=\"#000000\" font-family=\"Times,serif\" font-size=\"14.00\" text-anchor=\"middle\" x=\"53.5\" y=\"-434.8\">Embedding</text>\n<polyline fill=\"none\" points=\"95.5,-415.5 95.5,-461.5 \" stroke=\"#000000\"/>\n<text fill=\"#000000\" font-family=\"Times,serif\" font-size=\"14.00\" text-anchor=\"middle\" x=\"124.5\" y=\"-446.3\">input:</text>\n<polyline fill=\"none\" points=\"95.5,-438.5 153.5,-438.5 \" stroke=\"#000000\"/>\n<text fill=\"#000000\" font-family=\"Times,serif\" font-size=\"14.00\" text-anchor=\"middle\" x=\"124.5\" y=\"-423.3\">output:</text>\n<polyline fill=\"none\" points=\"153.5,-415.5 153.5,-461.5 \" stroke=\"#000000\"/>\n<text fill=\"#000000\" font-family=\"Times,serif\" font-size=\"14.00\" text-anchor=\"middle\" x=\"208.5\" y=\"-446.3\">(None, 186)</text>\n<polyline fill=\"none\" points=\"153.5,-438.5 263.5,-438.5 \" stroke=\"#000000\"/>\n<text fill=\"#000000\" font-family=\"Times,serif\" font-size=\"14.00\" text-anchor=\"middle\" x=\"208.5\" y=\"-423.3\">(None, 186, 32)</text>\n</g>\n<!-- 139812557193904 -->\n<g class=\"node\" id=\"node2\">\n<title>139812557193904</title>\n<polygon fill=\"none\" points=\"20,-332.5 20,-378.5 255,-378.5 255,-332.5 20,-332.5\" stroke=\"#000000\"/>\n<text fill=\"#000000\" font-family=\"Times,serif\" font-size=\"14.00\" text-anchor=\"middle\" x=\"53.5\" y=\"-351.8\">Conv1D</text>\n<polyline fill=\"none\" points=\"87,-332.5 87,-378.5 \" stroke=\"#000000\"/>\n<text fill=\"#000000\" font-family=\"Times,serif\" font-size=\"14.00\" text-anchor=\"middle\" x=\"116\" y=\"-363.3\">input:</text>\n<polyline fill=\"none\" points=\"87,-355.5 145,-355.5 \" stroke=\"#000000\"/>\n<text fill=\"#000000\" font-family=\"Times,serif\" font-size=\"14.00\" text-anchor=\"middle\" x=\"116\" y=\"-340.3\">output:</text>\n<polyline fill=\"none\" points=\"145,-332.5 145,-378.5 \" stroke=\"#000000\"/>\n<text fill=\"#000000\" font-family=\"Times,serif\" font-size=\"14.00\" text-anchor=\"middle\" x=\"200\" y=\"-363.3\">(None, 186, 32)</text>\n<polyline fill=\"none\" points=\"145,-355.5 255,-355.5 \" stroke=\"#000000\"/>\n<text fill=\"#000000\" font-family=\"Times,serif\" font-size=\"14.00\" text-anchor=\"middle\" x=\"200\" y=\"-340.3\">(None, 186, 32)</text>\n</g>\n<!-- 139812557195528&#45;&gt;139812557193904 -->\n<g class=\"edge\" id=\"edge2\">\n<title>139812557195528-&gt;139812557193904</title>\n<path d=\"M137.5,-415.3799C137.5,-407.1745 137.5,-397.7679 137.5,-388.8786\" fill=\"none\" stroke=\"#000000\"/>\n<polygon fill=\"#000000\" points=\"141.0001,-388.784 137.5,-378.784 134.0001,-388.784 141.0001,-388.784\" stroke=\"#000000\"/>\n</g>\n<!-- 139812557193960 -->\n<g class=\"node\" id=\"node3\">\n<title>139812557193960</title>\n<polygon fill=\"none\" points=\"0,-249.5 0,-295.5 275,-295.5 275,-249.5 0,-249.5\" stroke=\"#000000\"/>\n<text fill=\"#000000\" font-family=\"Times,serif\" font-size=\"14.00\" text-anchor=\"middle\" x=\"53.5\" y=\"-268.8\">MaxPooling1D</text>\n<polyline fill=\"none\" points=\"107,-249.5 107,-295.5 \" stroke=\"#000000\"/>\n<text fill=\"#000000\" font-family=\"Times,serif\" font-size=\"14.00\" text-anchor=\"middle\" x=\"136\" y=\"-280.3\">input:</text>\n<polyline fill=\"none\" points=\"107,-272.5 165,-272.5 \" stroke=\"#000000\"/>\n<text fill=\"#000000\" font-family=\"Times,serif\" font-size=\"14.00\" text-anchor=\"middle\" x=\"136\" y=\"-257.3\">output:</text>\n<polyline fill=\"none\" points=\"165,-249.5 165,-295.5 \" stroke=\"#000000\"/>\n<text fill=\"#000000\" font-family=\"Times,serif\" font-size=\"14.00\" text-anchor=\"middle\" x=\"220\" y=\"-280.3\">(None, 186, 32)</text>\n<polyline fill=\"none\" points=\"165,-272.5 275,-272.5 \" stroke=\"#000000\"/>\n<text fill=\"#000000\" font-family=\"Times,serif\" font-size=\"14.00\" text-anchor=\"middle\" x=\"220\" y=\"-257.3\">(None, 93, 32)</text>\n</g>\n<!-- 139812557193904&#45;&gt;139812557193960 -->\n<g class=\"edge\" id=\"edge3\">\n<title>139812557193904-&gt;139812557193960</title>\n<path d=\"M137.5,-332.3799C137.5,-324.1745 137.5,-314.7679 137.5,-305.8786\" fill=\"none\" stroke=\"#000000\"/>\n<polygon fill=\"#000000\" points=\"141.0001,-305.784 137.5,-295.784 134.0001,-305.784 141.0001,-305.784\" stroke=\"#000000\"/>\n</g>\n<!-- 139812557110128 -->\n<g class=\"node\" id=\"node4\">\n<title>139812557110128</title>\n<polygon fill=\"none\" points=\"29.5,-166.5 29.5,-212.5 245.5,-212.5 245.5,-166.5 29.5,-166.5\" stroke=\"#000000\"/>\n<text fill=\"#000000\" font-family=\"Times,serif\" font-size=\"14.00\" text-anchor=\"middle\" x=\"57.5\" y=\"-185.8\">Flatten</text>\n<polyline fill=\"none\" points=\"85.5,-166.5 85.5,-212.5 \" stroke=\"#000000\"/>\n<text fill=\"#000000\" font-family=\"Times,serif\" font-size=\"14.00\" text-anchor=\"middle\" x=\"114.5\" y=\"-197.3\">input:</text>\n<polyline fill=\"none\" points=\"85.5,-189.5 143.5,-189.5 \" stroke=\"#000000\"/>\n<text fill=\"#000000\" font-family=\"Times,serif\" font-size=\"14.00\" text-anchor=\"middle\" x=\"114.5\" y=\"-174.3\">output:</text>\n<polyline fill=\"none\" points=\"143.5,-166.5 143.5,-212.5 \" stroke=\"#000000\"/>\n<text fill=\"#000000\" font-family=\"Times,serif\" font-size=\"14.00\" text-anchor=\"middle\" x=\"194.5\" y=\"-197.3\">(None, 93, 32)</text>\n<polyline fill=\"none\" points=\"143.5,-189.5 245.5,-189.5 \" stroke=\"#000000\"/>\n<text fill=\"#000000\" font-family=\"Times,serif\" font-size=\"14.00\" text-anchor=\"middle\" x=\"194.5\" y=\"-174.3\">(None, 2976)</text>\n</g>\n<!-- 139812557193960&#45;&gt;139812557110128 -->\n<g class=\"edge\" id=\"edge4\">\n<title>139812557193960-&gt;139812557110128</title>\n<path d=\"M137.5,-249.3799C137.5,-241.1745 137.5,-231.7679 137.5,-222.8786\" fill=\"none\" stroke=\"#000000\"/>\n<polygon fill=\"#000000\" points=\"141.0001,-222.784 137.5,-212.784 134.0001,-222.784 141.0001,-222.784\" stroke=\"#000000\"/>\n</g>\n<!-- 139812557203328 -->\n<g class=\"node\" id=\"node5\">\n<title>139812557203328</title>\n<polygon fill=\"none\" points=\"35,-83.5 35,-129.5 240,-129.5 240,-83.5 35,-83.5\" stroke=\"#000000\"/>\n<text fill=\"#000000\" font-family=\"Times,serif\" font-size=\"14.00\" text-anchor=\"middle\" x=\"61\" y=\"-102.8\">Dense</text>\n<polyline fill=\"none\" points=\"87,-83.5 87,-129.5 \" stroke=\"#000000\"/>\n<text fill=\"#000000\" font-family=\"Times,serif\" font-size=\"14.00\" text-anchor=\"middle\" x=\"116\" y=\"-114.3\">input:</text>\n<polyline fill=\"none\" points=\"87,-106.5 145,-106.5 \" stroke=\"#000000\"/>\n<text fill=\"#000000\" font-family=\"Times,serif\" font-size=\"14.00\" text-anchor=\"middle\" x=\"116\" y=\"-91.3\">output:</text>\n<polyline fill=\"none\" points=\"145,-83.5 145,-129.5 \" stroke=\"#000000\"/>\n<text fill=\"#000000\" font-family=\"Times,serif\" font-size=\"14.00\" text-anchor=\"middle\" x=\"192.5\" y=\"-114.3\">(None, 2976)</text>\n<polyline fill=\"none\" points=\"145,-106.5 240,-106.5 \" stroke=\"#000000\"/>\n<text fill=\"#000000\" font-family=\"Times,serif\" font-size=\"14.00\" text-anchor=\"middle\" x=\"192.5\" y=\"-91.3\">(None, 250)</text>\n</g>\n<!-- 139812557110128&#45;&gt;139812557203328 -->\n<g class=\"edge\" id=\"edge5\">\n<title>139812557110128-&gt;139812557203328</title>\n<path d=\"M137.5,-166.3799C137.5,-158.1745 137.5,-148.7679 137.5,-139.8786\" fill=\"none\" stroke=\"#000000\"/>\n<polygon fill=\"#000000\" points=\"141.0001,-139.784 137.5,-129.784 134.0001,-139.784 141.0001,-139.784\" stroke=\"#000000\"/>\n</g>\n<!-- 139812557278960 -->\n<g class=\"node\" id=\"node6\">\n<title>139812557278960</title>\n<polygon fill=\"none\" points=\"39,-.5 39,-46.5 236,-46.5 236,-.5 39,-.5\" stroke=\"#000000\"/>\n<text fill=\"#000000\" font-family=\"Times,serif\" font-size=\"14.00\" text-anchor=\"middle\" x=\"65\" y=\"-19.8\">Dense</text>\n<polyline fill=\"none\" points=\"91,-.5 91,-46.5 \" stroke=\"#000000\"/>\n<text fill=\"#000000\" font-family=\"Times,serif\" font-size=\"14.00\" text-anchor=\"middle\" x=\"120\" y=\"-31.3\">input:</text>\n<polyline fill=\"none\" points=\"91,-23.5 149,-23.5 \" stroke=\"#000000\"/>\n<text fill=\"#000000\" font-family=\"Times,serif\" font-size=\"14.00\" text-anchor=\"middle\" x=\"120\" y=\"-8.3\">output:</text>\n<polyline fill=\"none\" points=\"149,-.5 149,-46.5 \" stroke=\"#000000\"/>\n<text fill=\"#000000\" font-family=\"Times,serif\" font-size=\"14.00\" text-anchor=\"middle\" x=\"192.5\" y=\"-31.3\">(None, 250)</text>\n<polyline fill=\"none\" points=\"149,-23.5 236,-23.5 \" stroke=\"#000000\"/>\n<text fill=\"#000000\" font-family=\"Times,serif\" font-size=\"14.00\" text-anchor=\"middle\" x=\"192.5\" y=\"-8.3\">(None, 5)</text>\n</g>\n<!-- 139812557203328&#45;&gt;139812557278960 -->\n<g class=\"edge\" id=\"edge6\">\n<title>139812557203328-&gt;139812557278960</title>\n<path d=\"M137.5,-83.3799C137.5,-75.1745 137.5,-65.7679 137.5,-56.8786\" fill=\"none\" stroke=\"#000000\"/>\n<polygon fill=\"#000000\" points=\"141.0001,-56.784 137.5,-46.784 134.0001,-56.784 141.0001,-56.784\" stroke=\"#000000\"/>\n</g>\n<!-- 139812557193456 -->\n<g class=\"node\" id=\"node7\">\n<title>139812557193456</title>\n<polygon fill=\"none\" points=\"73,-498.5 73,-534.5 202,-534.5 202,-498.5 73,-498.5\" stroke=\"#000000\"/>\n<text fill=\"#000000\" font-family=\"Times,serif\" font-size=\"14.00\" text-anchor=\"middle\" x=\"137.5\" y=\"-512.8\">139812557193456</text>\n</g>\n<!-- 139812557193456&#45;&gt;139812557195528 -->\n<g class=\"edge\" id=\"edge1\">\n<title>139812557193456-&gt;139812557195528</title>\n<path d=\"M137.5,-498.4092C137.5,-490.4308 137.5,-480.795 137.5,-471.606\" fill=\"none\" stroke=\"#000000\"/>\n<polygon fill=\"#000000\" points=\"141.0001,-471.5333 137.5,-461.5333 134.0001,-471.5334 141.0001,-471.5333\" stroke=\"#000000\"/>\n</g>\n</g>\n</svg>"
          },
          "metadata": {
            "tags": []
          },
          "execution_count": 185
        }
      ]
    },
    {
      "cell_type": "code",
      "metadata": {
        "colab_type": "code",
        "id": "60eC_0fRJXiQ",
        "outputId": "a48844cb-5316-43c5-b7f6-51086d303cdc",
        "colab": {
          "base_uri": "https://localhost:8080/",
          "height": 211
        }
      },
      "source": [
        "early_stop = EarlyStopping(monitor='val_loss', patience=2, verbose=1)\n",
        "network_history = model.fit(X_train, y_train,\n",
        "                      batch_size=BATCH_SIZE,\n",
        "                      epochs=EPOCHS,\n",
        "                      verbose=1,\n",
        "                      validation_split=0.2,\n",
        "                      callbacks=[early_stop])"
      ],
      "execution_count": 186,
      "outputs": [
        {
          "output_type": "stream",
          "text": [
            "Train on 67225 samples, validate on 16807 samples\n",
            "Epoch 1/50\n",
            "67225/67225 [==============================] - 7s 109us/step - loss: 0.9751 - acc: 0.6271 - val_loss: 0.8671 - val_acc: 0.6612\n",
            "Epoch 2/50\n",
            "67225/67225 [==============================] - 7s 101us/step - loss: 0.7734 - acc: 0.6965 - val_loss: 0.8517 - val_acc: 0.6669\n",
            "Epoch 3/50\n",
            "67225/67225 [==============================] - 7s 99us/step - loss: 0.6679 - acc: 0.7396 - val_loss: 0.8920 - val_acc: 0.6634\n",
            "Epoch 4/50\n",
            "67225/67225 [==============================] - 6s 95us/step - loss: 0.5657 - acc: 0.7843 - val_loss: 0.9990 - val_acc: 0.6474\n",
            "Epoch 00004: early stopping\n"
          ],
          "name": "stdout"
        }
      ]
    },
    {
      "cell_type": "code",
      "metadata": {
        "colab_type": "code",
        "id": "2VHBrsPjJXiS",
        "outputId": "eb3b7c90-df8e-4d03-962d-255b68aaef4f",
        "colab": {
          "base_uri": "https://localhost:8080/",
          "height": 52
        }
      },
      "source": [
        "scores = model.evaluate(X_test, y_test, verbose=1)\n",
        "print(\"Accuracy: %.2f%%\" % (scores[1]*100))\n"
      ],
      "execution_count": 187,
      "outputs": [
        {
          "output_type": "stream",
          "text": [
            "28011/28011 [==============================] - 2s 69us/step\n",
            "Accuracy: 65.03%\n"
          ],
          "name": "stdout"
        }
      ]
    },
    {
      "cell_type": "code",
      "metadata": {
        "colab_type": "code",
        "id": "CsBholvaJXiU",
        "outputId": "7e68872d-152f-4c4a-aba3-658d98806799",
        "colab": {
          "base_uri": "https://localhost:8080/",
          "height": 565
        }
      },
      "source": [
        "import matplotlib.pyplot as plt\n",
        "%matplotlib inline\n",
        "\n",
        "def plot_history(network_history):\n",
        "    plt.figure()\n",
        "    plt.xlabel('Epochs')\n",
        "    plt.ylabel('Loss')\n",
        "    plt.plot(network_history.history['loss'])\n",
        "    plt.plot(network_history.history['val_loss'])\n",
        "    plt.legend(['Training', 'Validation'])\n",
        "\n",
        "    plt.figure()\n",
        "    plt.xlabel('Epochs')\n",
        "    plt.ylabel('Accuracy')\n",
        "    plt.plot(network_history.history['acc'])\n",
        "    plt.plot(network_history.history['val_acc'])\n",
        "    plt.legend(['Training', 'Validation'], loc='lower right')\n",
        "    plt.show()\n",
        "\n",
        "plot_history(network_history)"
      ],
      "execution_count": 188,
      "outputs": [
        {
          "output_type": "display_data",
          "data": {
            "image/png": "[encoded data removed]",
            "text/plain": [
              "<Figure size 432x288 with 1 Axes>"
            ]
          },
          "metadata": {
            "tags": []
          }
        },
        {
          "output_type": "display_data",
          "data": {
            "image/png": "[encoded data removed]",
            "text/plain": [
              "<Figure size 432x288 with 1 Axes>"
            ]
          },
          "metadata": {
            "tags": []
          }
        }
      ]
    },
    {
      "cell_type": "code",
      "metadata": {
        "colab_type": "code",
        "id": "PQjt_pC_JXiX",
        "colab": {}
      },
      "source": [
        "y_predict = model.predict(X_test)"
      ],
      "execution_count": 0,
      "outputs": []
    },
    {
      "cell_type": "code",
      "metadata": {
        "colab_type": "code",
        "id": "x76NhB9rJXia",
        "outputId": "52857ec6-3ea5-4643-ee72-e96f91f20fda",
        "colab": {
          "base_uri": "https://localhost:8080/",
          "height": 202
        }
      },
      "source": [
        "y_predict_df = pd.DataFrame(y_predict)\n",
        "y_predict_df.head()"
      ],
      "execution_count": 190,
      "outputs": [
        {
          "output_type": "execute_result",
          "data": {
            "text/html": [
              "<div>\n",
              "<style scoped>\n",
              "    .dataframe tbody tr th:only-of-type {\n",
              "        vertical-align: middle;\n",
              "    }\n",
              "\n",
              "    .dataframe tbody tr th {\n",
              "        vertical-align: top;\n",
              "    }\n",
              "\n",
              "    .dataframe thead th {\n",
              "        text-align: right;\n",
              "    }\n",
              "</style>\n",
              "<table border=\"1\" class=\"dataframe\">\n",
              "  <thead>\n",
              "    <tr style=\"text-align: right;\">\n",
              "      <th></th>\n",
              "      <th>0</th>\n",
              "      <th>1</th>\n",
              "      <th>2</th>\n",
              "      <th>3</th>\n",
              "      <th>4</th>\n",
              "    </tr>\n",
              "  </thead>\n",
              "  <tbody>\n",
              "    <tr>\n",
              "      <th>0</th>\n",
              "      <td>0.000002</td>\n",
              "      <td>0.000028</td>\n",
              "      <td>0.001369</td>\n",
              "      <td>0.127818</td>\n",
              "      <td>0.870783</td>\n",
              "    </tr>\n",
              "    <tr>\n",
              "      <th>1</th>\n",
              "      <td>0.000200</td>\n",
              "      <td>0.002180</td>\n",
              "      <td>0.034825</td>\n",
              "      <td>0.468040</td>\n",
              "      <td>0.494755</td>\n",
              "    </tr>\n",
              "    <tr>\n",
              "      <th>2</th>\n",
              "      <td>0.000569</td>\n",
              "      <td>0.002389</td>\n",
              "      <td>0.022906</td>\n",
              "      <td>0.245382</td>\n",
              "      <td>0.728755</td>\n",
              "    </tr>\n",
              "    <tr>\n",
              "      <th>3</th>\n",
              "      <td>0.015699</td>\n",
              "      <td>0.022930</td>\n",
              "      <td>0.061556</td>\n",
              "      <td>0.136959</td>\n",
              "      <td>0.762856</td>\n",
              "    </tr>\n",
              "    <tr>\n",
              "      <th>4</th>\n",
              "      <td>0.000069</td>\n",
              "      <td>0.000117</td>\n",
              "      <td>0.002690</td>\n",
              "      <td>0.063984</td>\n",
              "      <td>0.933140</td>\n",
              "    </tr>\n",
              "  </tbody>\n",
              "</table>\n",
              "</div>"
            ],
            "text/plain": [
              "          0         1         2         3         4\n",
              "0  0.000002  0.000028  0.001369  0.127818  0.870783\n",
              "1  0.000200  0.002180  0.034825  0.468040  0.494755\n",
              "2  0.000569  0.002389  0.022906  0.245382  0.728755\n",
              "3  0.015699  0.022930  0.061556  0.136959  0.762856\n",
              "4  0.000069  0.000117  0.002690  0.063984  0.933140"
            ]
          },
          "metadata": {
            "tags": []
          },
          "execution_count": 190
        }
      ]
    },
    {
      "cell_type": "code",
      "metadata": {
        "colab_type": "code",
        "id": "woC_Rgk4JXid",
        "colab": {}
      },
      "source": [
        "y_predict_unencoded = [row.idxmax() + 1 for index, row in y_predict_df.iterrows()]"
      ],
      "execution_count": 0,
      "outputs": []
    },
    {
      "cell_type": "code",
      "metadata": {
        "colab_type": "code",
        "id": "P0xGW_dOJXie",
        "outputId": "fa040401-afe9-4cd1-8438-663ea0848a00",
        "colab": {
          "base_uri": "https://localhost:8080/",
          "height": 35
        }
      },
      "source": [
        "# unencode the predictions back into it's classes\n",
        "y_test_df = pd.DataFrame(y_test)\n",
        "y_test_unencoded = [row.idxmax() + 1 for index, row in y_test_df.iterrows()]\n",
        "y_test_unencoded[:3]"
      ],
      "execution_count": 192,
      "outputs": [
        {
          "output_type": "execute_result",
          "data": {
            "text/plain": [
              "[5, 5, 4]"
            ]
          },
          "metadata": {
            "tags": []
          },
          "execution_count": 192
        }
      ]
    },
    {
      "cell_type": "code",
      "metadata": {
        "colab_type": "code",
        "id": "QyaOAdhqJXih",
        "outputId": "fa13c68d-4270-4e75-f3eb-2f7ff1be3989",
        "colab": {
          "base_uri": "https://localhost:8080/",
          "height": 104
        }
      },
      "source": [
        "confusion_matrix(y_test_unencoded, y_predict_unencoded)"
      ],
      "execution_count": 193,
      "outputs": [
        {
          "output_type": "execute_result",
          "data": {
            "text/plain": [
              "array([[ 2840,   540,   226,    75,   287],\n",
              "       [  693,   451,   330,   163,   234],\n",
              "       [  391,   380,   666,   510,   584],\n",
              "       [  122,   154,   463,  1390,  2623],\n",
              "       [  198,   133,   239,  1451, 12868]])"
            ]
          },
          "metadata": {
            "tags": []
          },
          "execution_count": 193
        }
      ]
    },
    {
      "cell_type": "code",
      "metadata": {
        "colab_type": "code",
        "id": "6emER3oBJXil",
        "outputId": "456fd708-c838-4e9a-d788-bc86a6ecbe1f",
        "colab": {
          "base_uri": "https://localhost:8080/",
          "height": 225
        }
      },
      "source": [
        "print(classification_report(y_test_unencoded, y_predict_unencoded))"
      ],
      "execution_count": 194,
      "outputs": [
        {
          "output_type": "stream",
          "text": [
            "              precision    recall  f1-score   support\n",
            "\n",
            "           1       0.67      0.72      0.69      3968\n",
            "           2       0.27      0.24      0.26      1871\n",
            "           3       0.35      0.26      0.30      2531\n",
            "           4       0.39      0.29      0.33      4752\n",
            "           5       0.78      0.86      0.82     14889\n",
            "\n",
            "    accuracy                           0.65     28011\n",
            "   macro avg       0.49      0.48      0.48     28011\n",
            "weighted avg       0.62      0.65      0.63     28011\n",
            "\n"
          ],
          "name": "stdout"
        }
      ]
    },
    {
      "cell_type": "code",
      "metadata": {
        "id": "eLM4WXsxRGo5",
        "colab_type": "code",
        "colab": {}
      },
      "source": [
        "from sklearn.metrics import roc_curve, auc\n",
        "import numpy as np\n",
        "\n",
        "\n",
        "def calculate_roc_auc(y_test, y_score):\n",
        "  \"\"\"\n",
        "  Caculates the false positive rate, true positive rate, and roc_auc\n",
        "  Return:\n",
        "    roc_auc - dictinary of AUC values there will be 1 auc per class then a macro \n",
        "        and micro for the overall model\n",
        "        keys: auc_0 to auc_{n_classes} + micro and macro\n",
        "    fpr - dictionary of FPR, each value will be a n_classes x ? interpolated array \n",
        "        so you can plt ROC curve for each class\n",
        "        keys: 0 to {n_classes} + micro and macro\n",
        "    tpr - dictionary of TPR, each value will be a n_classes x ? interpolated array \n",
        "        so used to plt ROC curve for each class\n",
        "        keys: 0 to {n_classes} + micro and macro    \n",
        "  \"\"\"\n",
        "  n_classes = y_test.shape[1]\n",
        "  \n",
        "  # to compute the micro RUC/AUC, we need binariized labels (y_test) and probability of predictions y_predict_df\n",
        "\n",
        "  fpr = {}\n",
        "  tpr = {}\n",
        "  roc_auc = {}\n",
        "  for i in np.arange(0, 5):\n",
        "      fpr[i], tpr[i], _ = roc_curve(y_test[:, i], y_score[i].to_list())\n",
        "      roc_auc[f'auc_{i + 1}'] = auc(fpr[i], tpr[i])\n",
        "\n",
        "\n",
        "  # Compute micro-average ROC curve and ROC area\n",
        "  fpr[\"micro\"], tpr[\"micro\"], _ = roc_curve(y_test.ravel(), y_score.values.ravel())\n",
        "  roc_auc[\"auc_micro\"] = auc(fpr[\"micro\"], tpr[\"micro\"])\n",
        "\n",
        "\n",
        "  # Compute macro-average ROC curve and ROC area\n",
        "\n",
        "  # First aggregate all false positive rates\n",
        "  all_fpr = np.unique(np.concatenate([fpr[i] for i in range(n_classes)]))\n",
        "\n",
        "  # Then interpolate all ROC curves at this points\n",
        "  mean_tpr = np.zeros_like(all_fpr)\n",
        "  for i in range(n_classes):\n",
        "      mean_tpr += np.interp(all_fpr, fpr[i], tpr[i])\n",
        "\n",
        "  # Finally aveage it and compute AUC\n",
        "  mean_tpr /= n_classes\n",
        "\n",
        "  fpr[\"macro\"] = all_fpr\n",
        "  tpr[\"macro\"] = mean_tpr\n",
        "  roc_auc[\"auc_macro\"] = auc(fpr[\"macro\"], tpr[\"macro\"])\n",
        "\n",
        "  return roc_auc, fpr, tpr"
      ],
      "execution_count": 0,
      "outputs": []
    },
    {
      "cell_type": "code",
      "metadata": {
        "id": "zo67lt2ORJ1i",
        "colab_type": "code",
        "colab": {}
      },
      "source": [
        "\n",
        "def plot_roc_auc(model_name, roc_auc, fpr, tpr):\n",
        "  \n",
        "  for i in np.arange(0, len(fpr.keys()) - 2):\n",
        "    plt.plot(fpr[i], tpr[i], label=f'Rating {i+1}')\n",
        "  plt.plot(fpr[\"micro\"], tpr[\"micro\"], label=\"Micro Average ROC\", \n",
        "           linestyle=\":\", linewidth=4, color='pink')\n",
        "  plt.plot(fpr[\"macro\"], tpr[\"macro\"], label=\"Macro Average ROC\", \n",
        "           linestyle=\":\", linewidth=4, color='black')\n",
        "  plt.plot([0, 1], [0, 1], color='navy', linestyle='--')\n",
        "  \n",
        "  space = 0\n",
        "  for i in np.arange(0, len(fpr.keys()) - 2):\n",
        "    plt.text(x=0, y=-0.25+space, \n",
        "      s=f'Rating {i + 1} AUC: {roc_auc[f\"auc_{i + 1}\"]}',\n",
        "      withdash=True)\n",
        "    space -= 0.05\n",
        "  plt.text(x=0, y=-0.25+space, \n",
        "    s=f'Micro AUC: {roc_auc[\"auc_micro\"]}',\n",
        "    withdash=True)\n",
        "  space -= 0.05\n",
        "  plt.text(x=0, y=-0.25+space, \n",
        "    s=f'Macro AUC: {roc_auc[\"auc_macro\"]}',\n",
        "    withdash=True)\n",
        "  \n",
        "  plt.legend(loc='lower right')\n",
        "  plt.xlabel('FPR')\n",
        "  plt.ylabel('TPR')\n",
        "  plt.title(f'{model_name} ROC AUC')\n",
        "  \n"
      ],
      "execution_count": 0,
      "outputs": []
    },
    {
      "cell_type": "code",
      "metadata": {
        "colab_type": "code",
        "id": "H12pYFCj1Hbn",
        "outputId": "8318da71-e396-4e9a-b443-5077b9dc1227",
        "colab": {
          "base_uri": "https://localhost:8080/",
          "height": 445
        }
      },
      "source": [
        "roc_auc, fpr, tpr = calculate_roc_auc(y_test, y_predict_df)\n",
        "fig = plt.figure(figsize=(5,5))\n",
        "plot_roc_auc(MODEL_NAME, roc_auc, fpr, tpr)"
      ],
      "execution_count": 197,
      "outputs": [
        {
          "output_type": "display_data",
          "data": {
            "image/png": "[encoded data removed]",
            "text/plain": [
              "<Figure size 360x360 with 1 Axes>"
            ]
          },
          "metadata": {
            "tags": []
          }
        }
      ]
    },
    {
      "cell_type": "code",
      "metadata": {
        "colab_type": "code",
        "id": "S-WAgwC60RJ5",
        "outputId": "0d4b542e-8c3d-4b15-d0c4-89608ae533fd",
        "colab": {
          "base_uri": "https://localhost:8080/",
          "height": 139
        }
      },
      "source": [
        "roc_auc"
      ],
      "execution_count": 198,
      "outputs": [
        {
          "output_type": "execute_result",
          "data": {
            "text/plain": [
              "{'auc_1': 0.9444894775640553,\n",
              " 'auc_2': 0.8456453798708349,\n",
              " 'auc_3': 0.809653739470441,\n",
              " 'auc_4': 0.7302801254443629,\n",
              " 'auc_5': 0.8724558890696401,\n",
              " 'auc_macro': 0.8405280039381455,\n",
              " 'auc_micro': 0.8978468933982049}"
            ]
          },
          "metadata": {
            "tags": []
          },
          "execution_count": 198
        }
      ]
    },
    {
      "cell_type": "markdown",
      "metadata": {
        "colab_type": "text",
        "id": "VQ4GRUTq6t6e"
      },
      "source": [
        "**Save off various files**"
      ]
    },
    {
      "cell_type": "code",
      "metadata": {
        "colab_type": "code",
        "id": "VjW8V1MR61kJ",
        "colab": {}
      },
      "source": [
        "directory, INBASENAME = fu.get_dir_basename(DATA_FILE)\n",
        "DESCRIPTION = f\"{INBASENAME}-nosmote-{MODEL_NAME}-{MAX_SEQUENCE_LENGTH}-{FEATURE_COLUMN}\"\n",
        "MODEL_FILE = f\"{DRIVE_DIR}/models/{datetime.now().strftime(DATE_FORMAT)}-{DESCRIPTION}.h5\"\n",
        "NETWORK_HISTORY_FILE = f'{DRIVE_DIR}/models/{datetime.now().strftime(DATE_FORMAT)}-{DESCRIPTION}-history.pkl'\n",
        "REPORT_FILE = f\"{DRIVE_DIR}/reports/{datetime.now().strftime(DATE_FORMAT)}-DNN_protype-report.csv\"\n",
        "TOKENIZER_FILE = f'{DRIVE_DIR}/models/{datetime.now().strftime(DATE_FORMAT)}-{DESCRIPTION}-tokenizer.pkl'\n"
      ],
      "execution_count": 0,
      "outputs": []
    },
    {
      "cell_type": "code",
      "metadata": {
        "colab_type": "code",
        "id": "GjVjezXPJXin",
        "colab": {}
      },
      "source": [
        "model.save(MODEL_FILE)"
      ],
      "execution_count": 0,
      "outputs": []
    },
    {
      "cell_type": "code",
      "metadata": {
        "colab_type": "code",
        "id": "Cad0ykC2JXip",
        "colab": {}
      },
      "source": [
        "pickle.dump(network_history, open(NETWORK_HISTORY_FILE, \"wb\"))"
      ],
      "execution_count": 0,
      "outputs": []
    },
    {
      "cell_type": "code",
      "metadata": {
        "colab_type": "code",
        "id": "yrGApZiwgRgR",
        "colab": {}
      },
      "source": [
        "pickle.dump(t, open(TOKENIZER_FILE, \"wb\"))"
      ],
      "execution_count": 0,
      "outputs": []
    },
    {
      "cell_type": "code",
      "metadata": {
        "colab_type": "code",
        "id": "oz4FzsvmJXit",
        "colab": {}
      },
      "source": [
        "# saving off report in the same format as other report just in case we want to compare for later\n",
        "flattened = {}\n",
        "flattened = du.add_dict_to_dict(flattened, classification_report(y_test_unencoded, y_predict_unencoded, output_dict=True))\n",
        "flattened = du.add_dict_to_dict(flattened, roc_auc)\n",
        "flattened[\"confusion_matrix\"] = confusion_matrix(y_test_unencoded, y_predict_unencoded)\n",
        "flattened[\"tpr\"] = tpr\n",
        "flattened[\"fpr\"] = fpr\n",
        "flattened[\"loss\"] = scores[0]\n",
        "flattened[\"accuracy\"] = scores[1]\n",
        "flattened[\"description\"] = DESCRIPTION\n",
        "flattened[\"file\"] = DATA_FILE\n",
        "flattened[\"network_history_file\"] = NETWORK_HISTORY_FILE\n",
        "flattened[\"tokenizer_file\"] = TOKENIZER_FILE\n",
        "flattened[\"max_sequence_length\"] = MAX_SEQUENCE_LENGTH\n",
        "flattened[\"embedding\"] = EMBED_SIZE\n",
        "flattened[\"model_file\"] = MODEL_FILE\n",
        "flattened[\"model_name\"] = MODEL_NAME\n",
        "flattened[\"test_examples\"] = X_test.shape[0]\n",
        "flattened[\"test_features\"] = X_test.shape[1]\n",
        "flattened[\"train_examples\"] = X_train.shape[0]\n",
        "flattened[\"train_features\"] = X_train.shape[1]\n",
        "flattened[\"status\"] = \"success\"\n",
        "flattened[\"status_date\"] = datetime.now().strftime(TIME_FORMAT)\n"
      ],
      "execution_count": 0,
      "outputs": []
    },
    {
      "cell_type": "code",
      "metadata": {
        "colab_type": "code",
        "id": "n_tWTK57JXiv",
        "outputId": "56b0f7a5-6090-438a-d722-28efee1c9a53",
        "colab": {
          "base_uri": "https://localhost:8080/",
          "height": 265
        }
      },
      "source": [
        "# check to see if report file exisits, if so load it and append\n",
        "exists = os.path.isfile(REPORT_FILE)\n",
        "if exists:\n",
        "    report_df = pd.read_csv(REPORT_FILE)\n",
        "else:\n",
        "    report_df = pd.DataFrame()\n",
        "    \n",
        "report_df = report_df.append(flattened, ignore_index=True)\n",
        "report_df.head(20)\n",
        "\n"
      ],
      "execution_count": 204,
      "outputs": [
        {
          "output_type": "execute_result",
          "data": {
            "text/html": [
              "<div>\n",
              "<style scoped>\n",
              "    .dataframe tbody tr th:only-of-type {\n",
              "        vertical-align: middle;\n",
              "    }\n",
              "\n",
              "    .dataframe tbody tr th {\n",
              "        vertical-align: top;\n",
              "    }\n",
              "\n",
              "    .dataframe thead th {\n",
              "        text-align: right;\n",
              "    }\n",
              "</style>\n",
              "<table border=\"1\" class=\"dataframe\">\n",
              "  <thead>\n",
              "    <tr style=\"text-align: right;\">\n",
              "      <th></th>\n",
              "      <th>1_f1-score</th>\n",
              "      <th>1_precision</th>\n",
              "      <th>1_recall</th>\n",
              "      <th>1_support</th>\n",
              "      <th>2_f1-score</th>\n",
              "      <th>2_precision</th>\n",
              "      <th>2_recall</th>\n",
              "      <th>2_support</th>\n",
              "      <th>3_f1-score</th>\n",
              "      <th>3_precision</th>\n",
              "      <th>3_recall</th>\n",
              "      <th>3_support</th>\n",
              "      <th>4_f1-score</th>\n",
              "      <th>4_precision</th>\n",
              "      <th>4_recall</th>\n",
              "      <th>4_support</th>\n",
              "      <th>5_f1-score</th>\n",
              "      <th>5_precision</th>\n",
              "      <th>5_recall</th>\n",
              "      <th>5_support</th>\n",
              "      <th>accuracy</th>\n",
              "      <th>auc_1</th>\n",
              "      <th>auc_2</th>\n",
              "      <th>auc_3</th>\n",
              "      <th>auc_4</th>\n",
              "      <th>auc_5</th>\n",
              "      <th>auc_macro</th>\n",
              "      <th>auc_micro</th>\n",
              "      <th>confusion_matrix</th>\n",
              "      <th>description</th>\n",
              "      <th>embedding</th>\n",
              "      <th>file</th>\n",
              "      <th>fpr</th>\n",
              "      <th>loss</th>\n",
              "      <th>macro avg_f1-score</th>\n",
              "      <th>macro avg_precision</th>\n",
              "      <th>macro avg_recall</th>\n",
              "      <th>macro avg_support</th>\n",
              "      <th>max_sequence_length</th>\n",
              "      <th>model_file</th>\n",
              "      <th>model_name</th>\n",
              "      <th>network_history_file</th>\n",
              "      <th>status</th>\n",
              "      <th>status_date</th>\n",
              "      <th>test_examples</th>\n",
              "      <th>test_features</th>\n",
              "      <th>tokenizer_file</th>\n",
              "      <th>tpr</th>\n",
              "      <th>train_examples</th>\n",
              "      <th>train_features</th>\n",
              "      <th>weighted avg_f1-score</th>\n",
              "      <th>weighted avg_precision</th>\n",
              "      <th>weighted avg_recall</th>\n",
              "      <th>weighted avg_support</th>\n",
              "    </tr>\n",
              "  </thead>\n",
              "  <tbody>\n",
              "    <tr>\n",
              "      <th>0</th>\n",
              "      <td>0.705593</td>\n",
              "      <td>0.659724</td>\n",
              "      <td>0.758317</td>\n",
              "      <td>3968</td>\n",
              "      <td>0.188988</td>\n",
              "      <td>0.281780</td>\n",
              "      <td>0.142170</td>\n",
              "      <td>1871</td>\n",
              "      <td>0.346419</td>\n",
              "      <td>0.327356</td>\n",
              "      <td>0.367839</td>\n",
              "      <td>2531</td>\n",
              "      <td>0.342324</td>\n",
              "      <td>0.436014</td>\n",
              "      <td>0.281776</td>\n",
              "      <td>4752</td>\n",
              "      <td>0.829797</td>\n",
              "      <td>0.787234</td>\n",
              "      <td>0.877225</td>\n",
              "      <td>14889</td>\n",
              "      <td>0.664239</td>\n",
              "      <td>0.948508</td>\n",
              "      <td>0.853672</td>\n",
              "      <td>0.814880</td>\n",
              "      <td>0.741322</td>\n",
              "      <td>0.881056</td>\n",
              "      <td>0.847909</td>\n",
              "      <td>0.904417</td>\n",
              "      <td>[[ 3009   300   380    62   217]\\n [  784   26...</td>\n",
              "      <td>amazon_reviews_us_Wireless_v1_00-preprocessed-...</td>\n",
              "      <td>300</td>\n",
              "      <td>drive/My Drive/Springboard/capstone/data/amazo...</td>\n",
              "      <td>{0: array([0.       , 0.       , 0.       , .....</td>\n",
              "      <td>0.913675</td>\n",
              "      <td>0.482624</td>\n",
              "      <td>0.498422</td>\n",
              "      <td>0.485465</td>\n",
              "      <td>28011</td>\n",
              "      <td>186</td>\n",
              "      <td>drive/My Drive/Springboard/capstone/models/201...</td>\n",
              "      <td>GRU_1layer</td>\n",
              "      <td>drive/My Drive/Springboard/capstone/models/201...</td>\n",
              "      <td>success</td>\n",
              "      <td>7/23/19 6:06</td>\n",
              "      <td>28011</td>\n",
              "      <td>186</td>\n",
              "      <td>drive/My Drive/Springboard/capstone/models/201...</td>\n",
              "      <td>{0: array([0.00000000e+00, 2.52016129e-04, 5.0...</td>\n",
              "      <td>84032</td>\n",
              "      <td>186</td>\n",
              "      <td>0.643024</td>\n",
              "      <td>0.634272</td>\n",
              "      <td>0.664239</td>\n",
              "      <td>28011</td>\n",
              "    </tr>\n",
              "    <tr>\n",
              "      <th>1</th>\n",
              "      <td>0.692118</td>\n",
              "      <td>0.678866</td>\n",
              "      <td>0.705897</td>\n",
              "      <td>3968</td>\n",
              "      <td>0.205214</td>\n",
              "      <td>0.273863</td>\n",
              "      <td>0.164083</td>\n",
              "      <td>1871</td>\n",
              "      <td>0.311031</td>\n",
              "      <td>0.316435</td>\n",
              "      <td>0.305808</td>\n",
              "      <td>2531</td>\n",
              "      <td>0.304622</td>\n",
              "      <td>0.419093</td>\n",
              "      <td>0.239268</td>\n",
              "      <td>4752</td>\n",
              "      <td>0.830676</td>\n",
              "      <td>0.766600</td>\n",
              "      <td>0.906441</td>\n",
              "      <td>14889</td>\n",
              "      <td>0.660990</td>\n",
              "      <td>0.944434</td>\n",
              "      <td>0.847612</td>\n",
              "      <td>0.817435</td>\n",
              "      <td>0.731718</td>\n",
              "      <td>0.880330</td>\n",
              "      <td>0.844327</td>\n",
              "      <td>0.902758</td>\n",
              "      <td>[[ 2801   364   388   103   312]\\n [  663   30...</td>\n",
              "      <td>amazon_reviews_us_Wireless_v1_00-preprocessed-...</td>\n",
              "      <td>300</td>\n",
              "      <td>drive/My Drive/Springboard/capstone/data/amazo...</td>\n",
              "      <td>{0: array([0.        , 0.        , 0.        ,...</td>\n",
              "      <td>0.898048</td>\n",
              "      <td>0.468732</td>\n",
              "      <td>0.490971</td>\n",
              "      <td>0.464299</td>\n",
              "      <td>28011</td>\n",
              "      <td>186</td>\n",
              "      <td>drive/My Drive/Springboard/capstone/models/201...</td>\n",
              "      <td>LSTM_1layer</td>\n",
              "      <td>drive/My Drive/Springboard/capstone/models/201...</td>\n",
              "      <td>success</td>\n",
              "      <td>7/23/19 6:47</td>\n",
              "      <td>28011</td>\n",
              "      <td>186</td>\n",
              "      <td>drive/My Drive/Springboard/capstone/models/201...</td>\n",
              "      <td>{0: array([0.00000000e+00, 2.52016129e-04, 9.5...</td>\n",
              "      <td>84032</td>\n",
              "      <td>186</td>\n",
              "      <td>0.633073</td>\n",
              "      <td>0.621630</td>\n",
              "      <td>0.660990</td>\n",
              "      <td>28011</td>\n",
              "    </tr>\n",
              "    <tr>\n",
              "      <th>2</th>\n",
              "      <td>0.691671</td>\n",
              "      <td>0.669180</td>\n",
              "      <td>0.715726</td>\n",
              "      <td>3968</td>\n",
              "      <td>0.255596</td>\n",
              "      <td>0.272014</td>\n",
              "      <td>0.241048</td>\n",
              "      <td>1871</td>\n",
              "      <td>0.298990</td>\n",
              "      <td>0.346154</td>\n",
              "      <td>0.263137</td>\n",
              "      <td>2531</td>\n",
              "      <td>0.333293</td>\n",
              "      <td>0.387295</td>\n",
              "      <td>0.292508</td>\n",
              "      <td>4752</td>\n",
              "      <td>0.817405</td>\n",
              "      <td>0.775368</td>\n",
              "      <td>0.864262</td>\n",
              "      <td>14889</td>\n",
              "      <td>0.650280</td>\n",
              "      <td>0.944489</td>\n",
              "      <td>0.845645</td>\n",
              "      <td>0.809654</td>\n",
              "      <td>0.730280</td>\n",
              "      <td>0.872456</td>\n",
              "      <td>0.840528</td>\n",
              "      <td>0.897847</td>\n",
              "      <td>[[2840, 540, 226, 75, 287], [693, 451, 330, 16...</td>\n",
              "      <td>amazon_reviews_us_Wireless_v1_00-preprocessed-...</td>\n",
              "      <td>32</td>\n",
              "      <td>drive/My Drive/Springboard/capstone/data/amazo...</td>\n",
              "      <td>{0: [0.0, 0.0, 0.0, 4.159214740257039e-05, 4.1...</td>\n",
              "      <td>0.981083</td>\n",
              "      <td>0.479391</td>\n",
              "      <td>0.490002</td>\n",
              "      <td>0.475336</td>\n",
              "      <td>28011</td>\n",
              "      <td>186</td>\n",
              "      <td>drive/My Drive/Springboard/capstone/models/201...</td>\n",
              "      <td>CNN_1layerEmbedding32</td>\n",
              "      <td>drive/My Drive/Springboard/capstone/models/201...</td>\n",
              "      <td>success</td>\n",
              "      <td>2019-07-23 06:49:47</td>\n",
              "      <td>28011</td>\n",
              "      <td>186</td>\n",
              "      <td>drive/My Drive/Springboard/capstone/models/201...</td>\n",
              "      <td>{0: [0.0, 0.00025201612903225806, 0.0007560483...</td>\n",
              "      <td>84032</td>\n",
              "      <td>186</td>\n",
              "      <td>0.633097</td>\n",
              "      <td>0.622085</td>\n",
              "      <td>0.650280</td>\n",
              "      <td>28011</td>\n",
              "    </tr>\n",
              "  </tbody>\n",
              "</table>\n",
              "</div>"
            ],
            "text/plain": [
              "   1_f1-score  1_precision  ...  weighted avg_recall  weighted avg_support\n",
              "0    0.705593     0.659724  ...             0.664239                 28011\n",
              "1    0.692118     0.678866  ...             0.660990                 28011\n",
              "2    0.691671     0.669180  ...             0.650280                 28011\n",
              "\n",
              "[3 rows x 54 columns]"
            ]
          },
          "metadata": {
            "tags": []
          },
          "execution_count": 204
        }
      ]
    },
    {
      "cell_type": "code",
      "metadata": {
        "colab_type": "code",
        "id": "w0FY2QZvJXiw",
        "colab": {}
      },
      "source": [
        "report_df.to_csv(REPORT_FILE, index=False)"
      ],
      "execution_count": 0,
      "outputs": []
    },
    {
      "cell_type": "code",
      "metadata": {
        "colab_type": "code",
        "id": "96A-A5CBJXiy",
        "colab": {}
      },
      "source": [
        ""
      ],
      "execution_count": 0,
      "outputs": []
    },
    {
      "cell_type": "markdown",
      "metadata": {
        "colab_type": "text",
        "id": "N9_HdFxaFbvB"
      },
      "source": [
        "# Second model of this with embedding of size 300 instead of 35"
      ]
    },
    {
      "cell_type": "code",
      "metadata": {
        "colab_type": "code",
        "id": "9xV6tWa0Fiky",
        "colab": {}
      },
      "source": [
        "MODEL_NAME300 = \"CNN_1layerEmbedding300\"\n",
        "EMBED_SIZE300 = 300\n",
        "model300 = Sequential()\n",
        "model300.add(Embedding(VOCAB_SIZE, EMBED_SIZE300, input_length=MAX_SEQUENCE_LENGTH))\n",
        "model300.add(Conv1D(filters=32, kernel_size=3, padding='same', activation='relu'))\n",
        "model300.add(MaxPooling1D(pool_size=2))\n",
        "model300.add(Flatten())\n",
        "model300.add(Dense(250, activation='relu'))\n",
        "model300.add(Dense(5, activation='softmax'))\n",
        "model300.compile(loss='categorical_crossentropy', optimizer='adam', metrics=['accuracy'])\n"
      ],
      "execution_count": 0,
      "outputs": []
    },
    {
      "cell_type": "code",
      "metadata": {
        "colab_type": "code",
        "id": "g3s1EwMSFzCz",
        "outputId": "0775e75f-700f-43df-90a4-d6eff7f4fb5c",
        "colab": {
          "base_uri": "https://localhost:8080/",
          "height": 364
        }
      },
      "source": [
        "print(model300.summary())"
      ],
      "execution_count": 207,
      "outputs": [
        {
          "output_type": "stream",
          "text": [
            "_________________________________________________________________\n",
            "Layer (type)                 Output Shape              Param #   \n",
            "=================================================================\n",
            "embedding_6 (Embedding)      (None, 186, 300)          12236700  \n",
            "_________________________________________________________________\n",
            "conv1d_6 (Conv1D)            (None, 186, 32)           28832     \n",
            "_________________________________________________________________\n",
            "max_pooling1d_6 (MaxPooling1 (None, 93, 32)            0         \n",
            "_________________________________________________________________\n",
            "flatten_6 (Flatten)          (None, 2976)              0         \n",
            "_________________________________________________________________\n",
            "dense_11 (Dense)             (None, 250)               744250    \n",
            "_________________________________________________________________\n",
            "dense_12 (Dense)             (None, 5)                 1255      \n",
            "=================================================================\n",
            "Total params: 13,011,037\n",
            "Trainable params: 13,011,037\n",
            "Non-trainable params: 0\n",
            "_________________________________________________________________\n",
            "None\n"
          ],
          "name": "stdout"
        }
      ]
    },
    {
      "cell_type": "code",
      "metadata": {
        "colab_type": "code",
        "id": "y-gTEUIzF0TJ",
        "outputId": "13dacea4-c937-448c-ee56-8e2ef635dc15",
        "colab": {
          "base_uri": "https://localhost:8080/",
          "height": 745
        }
      },
      "source": [
        "SVG(model_to_dot(model300, show_shapes=True, show_layer_names=False, \n",
        "                 rankdir='TB').create(prog='dot', format='svg'))"
      ],
      "execution_count": 208,
      "outputs": [
        {
          "output_type": "execute_result",
          "data": {
            "text/plain": [
              "<IPython.core.display.SVG object>"
            ],
            "image/svg+xml": "<svg height=\"543pt\" viewBox=\"0.00 0.00 283.00 543.00\" width=\"283pt\" xmlns=\"http://www.w3.org/2000/svg\" xmlns:xlink=\"http://www.w3.org/1999/xlink\">\n<g class=\"graph\" id=\"graph0\" transform=\"scale(1 1) rotate(0) translate(4 539)\">\n<title>G</title>\n<polygon fill=\"#ffffff\" points=\"-4,4 -4,-539 279,-539 279,4 -4,4\" stroke=\"transparent\"/>\n<!-- 139812546347360 -->\n<g class=\"node\" id=\"node1\">\n<title>139812546347360</title>\n<polygon fill=\"none\" points=\"8,-415.5 8,-461.5 267,-461.5 267,-415.5 8,-415.5\" stroke=\"#000000\"/>\n<text fill=\"#000000\" font-family=\"Times,serif\" font-size=\"14.00\" text-anchor=\"middle\" x=\"50\" y=\"-434.8\">Embedding</text>\n<polyline fill=\"none\" points=\"92,-415.5 92,-461.5 \" stroke=\"#000000\"/>\n<text fill=\"#000000\" font-family=\"Times,serif\" font-size=\"14.00\" text-anchor=\"middle\" x=\"121\" y=\"-446.3\">input:</text>\n<polyline fill=\"none\" points=\"92,-438.5 150,-438.5 \" stroke=\"#000000\"/>\n<text fill=\"#000000\" font-family=\"Times,serif\" font-size=\"14.00\" text-anchor=\"middle\" x=\"121\" y=\"-423.3\">output:</text>\n<polyline fill=\"none\" points=\"150,-415.5 150,-461.5 \" stroke=\"#000000\"/>\n<text fill=\"#000000\" font-family=\"Times,serif\" font-size=\"14.00\" text-anchor=\"middle\" x=\"208.5\" y=\"-446.3\">(None, 186)</text>\n<polyline fill=\"none\" points=\"150,-438.5 267,-438.5 \" stroke=\"#000000\"/>\n<text fill=\"#000000\" font-family=\"Times,serif\" font-size=\"14.00\" text-anchor=\"middle\" x=\"208.5\" y=\"-423.3\">(None, 186, 300)</text>\n</g>\n<!-- 139812546347472 -->\n<g class=\"node\" id=\"node2\">\n<title>139812546347472</title>\n<polygon fill=\"none\" points=\"16.5,-332.5 16.5,-378.5 258.5,-378.5 258.5,-332.5 16.5,-332.5\" stroke=\"#000000\"/>\n<text fill=\"#000000\" font-family=\"Times,serif\" font-size=\"14.00\" text-anchor=\"middle\" x=\"50\" y=\"-351.8\">Conv1D</text>\n<polyline fill=\"none\" points=\"83.5,-332.5 83.5,-378.5 \" stroke=\"#000000\"/>\n<text fill=\"#000000\" font-family=\"Times,serif\" font-size=\"14.00\" text-anchor=\"middle\" x=\"112.5\" y=\"-363.3\">input:</text>\n<polyline fill=\"none\" points=\"83.5,-355.5 141.5,-355.5 \" stroke=\"#000000\"/>\n<text fill=\"#000000\" font-family=\"Times,serif\" font-size=\"14.00\" text-anchor=\"middle\" x=\"112.5\" y=\"-340.3\">output:</text>\n<polyline fill=\"none\" points=\"141.5,-332.5 141.5,-378.5 \" stroke=\"#000000\"/>\n<text fill=\"#000000\" font-family=\"Times,serif\" font-size=\"14.00\" text-anchor=\"middle\" x=\"200\" y=\"-363.3\">(None, 186, 300)</text>\n<polyline fill=\"none\" points=\"141.5,-355.5 258.5,-355.5 \" stroke=\"#000000\"/>\n<text fill=\"#000000\" font-family=\"Times,serif\" font-size=\"14.00\" text-anchor=\"middle\" x=\"200\" y=\"-340.3\">(None, 186, 32)</text>\n</g>\n<!-- 139812546347360&#45;&gt;139812546347472 -->\n<g class=\"edge\" id=\"edge2\">\n<title>139812546347360-&gt;139812546347472</title>\n<path d=\"M137.5,-415.3799C137.5,-407.1745 137.5,-397.7679 137.5,-388.8786\" fill=\"none\" stroke=\"#000000\"/>\n<polygon fill=\"#000000\" points=\"141.0001,-388.784 137.5,-378.784 134.0001,-388.784 141.0001,-388.784\" stroke=\"#000000\"/>\n</g>\n<!-- 139812546347752 -->\n<g class=\"node\" id=\"node3\">\n<title>139812546347752</title>\n<polygon fill=\"none\" points=\"0,-249.5 0,-295.5 275,-295.5 275,-249.5 0,-249.5\" stroke=\"#000000\"/>\n<text fill=\"#000000\" font-family=\"Times,serif\" font-size=\"14.00\" text-anchor=\"middle\" x=\"53.5\" y=\"-268.8\">MaxPooling1D</text>\n<polyline fill=\"none\" points=\"107,-249.5 107,-295.5 \" stroke=\"#000000\"/>\n<text fill=\"#000000\" font-family=\"Times,serif\" font-size=\"14.00\" text-anchor=\"middle\" x=\"136\" y=\"-280.3\">input:</text>\n<polyline fill=\"none\" points=\"107,-272.5 165,-272.5 \" stroke=\"#000000\"/>\n<text fill=\"#000000\" font-family=\"Times,serif\" font-size=\"14.00\" text-anchor=\"middle\" x=\"136\" y=\"-257.3\">output:</text>\n<polyline fill=\"none\" points=\"165,-249.5 165,-295.5 \" stroke=\"#000000\"/>\n<text fill=\"#000000\" font-family=\"Times,serif\" font-size=\"14.00\" text-anchor=\"middle\" x=\"220\" y=\"-280.3\">(None, 186, 32)</text>\n<polyline fill=\"none\" points=\"165,-272.5 275,-272.5 \" stroke=\"#000000\"/>\n<text fill=\"#000000\" font-family=\"Times,serif\" font-size=\"14.00\" text-anchor=\"middle\" x=\"220\" y=\"-257.3\">(None, 93, 32)</text>\n</g>\n<!-- 139812546347472&#45;&gt;139812546347752 -->\n<g class=\"edge\" id=\"edge3\">\n<title>139812546347472-&gt;139812546347752</title>\n<path d=\"M137.5,-332.3799C137.5,-324.1745 137.5,-314.7679 137.5,-305.8786\" fill=\"none\" stroke=\"#000000\"/>\n<polygon fill=\"#000000\" points=\"141.0001,-305.784 137.5,-295.784 134.0001,-305.784 141.0001,-305.784\" stroke=\"#000000\"/>\n</g>\n<!-- 139812546349320 -->\n<g class=\"node\" id=\"node4\">\n<title>139812546349320</title>\n<polygon fill=\"none\" points=\"29.5,-166.5 29.5,-212.5 245.5,-212.5 245.5,-166.5 29.5,-166.5\" stroke=\"#000000\"/>\n<text fill=\"#000000\" font-family=\"Times,serif\" font-size=\"14.00\" text-anchor=\"middle\" x=\"57.5\" y=\"-185.8\">Flatten</text>\n<polyline fill=\"none\" points=\"85.5,-166.5 85.5,-212.5 \" stroke=\"#000000\"/>\n<text fill=\"#000000\" font-family=\"Times,serif\" font-size=\"14.00\" text-anchor=\"middle\" x=\"114.5\" y=\"-197.3\">input:</text>\n<polyline fill=\"none\" points=\"85.5,-189.5 143.5,-189.5 \" stroke=\"#000000\"/>\n<text fill=\"#000000\" font-family=\"Times,serif\" font-size=\"14.00\" text-anchor=\"middle\" x=\"114.5\" y=\"-174.3\">output:</text>\n<polyline fill=\"none\" points=\"143.5,-166.5 143.5,-212.5 \" stroke=\"#000000\"/>\n<text fill=\"#000000\" font-family=\"Times,serif\" font-size=\"14.00\" text-anchor=\"middle\" x=\"194.5\" y=\"-197.3\">(None, 93, 32)</text>\n<polyline fill=\"none\" points=\"143.5,-189.5 245.5,-189.5 \" stroke=\"#000000\"/>\n<text fill=\"#000000\" font-family=\"Times,serif\" font-size=\"14.00\" text-anchor=\"middle\" x=\"194.5\" y=\"-174.3\">(None, 2976)</text>\n</g>\n<!-- 139812546347752&#45;&gt;139812546349320 -->\n<g class=\"edge\" id=\"edge4\">\n<title>139812546347752-&gt;139812546349320</title>\n<path d=\"M137.5,-249.3799C137.5,-241.1745 137.5,-231.7679 137.5,-222.8786\" fill=\"none\" stroke=\"#000000\"/>\n<polygon fill=\"#000000\" points=\"141.0001,-222.784 137.5,-212.784 134.0001,-222.784 141.0001,-222.784\" stroke=\"#000000\"/>\n</g>\n<!-- 139812546347864 -->\n<g class=\"node\" id=\"node5\">\n<title>139812546347864</title>\n<polygon fill=\"none\" points=\"35,-83.5 35,-129.5 240,-129.5 240,-83.5 35,-83.5\" stroke=\"#000000\"/>\n<text fill=\"#000000\" font-family=\"Times,serif\" font-size=\"14.00\" text-anchor=\"middle\" x=\"61\" y=\"-102.8\">Dense</text>\n<polyline fill=\"none\" points=\"87,-83.5 87,-129.5 \" stroke=\"#000000\"/>\n<text fill=\"#000000\" font-family=\"Times,serif\" font-size=\"14.00\" text-anchor=\"middle\" x=\"116\" y=\"-114.3\">input:</text>\n<polyline fill=\"none\" points=\"87,-106.5 145,-106.5 \" stroke=\"#000000\"/>\n<text fill=\"#000000\" font-family=\"Times,serif\" font-size=\"14.00\" text-anchor=\"middle\" x=\"116\" y=\"-91.3\">output:</text>\n<polyline fill=\"none\" points=\"145,-83.5 145,-129.5 \" stroke=\"#000000\"/>\n<text fill=\"#000000\" font-family=\"Times,serif\" font-size=\"14.00\" text-anchor=\"middle\" x=\"192.5\" y=\"-114.3\">(None, 2976)</text>\n<polyline fill=\"none\" points=\"145,-106.5 240,-106.5 \" stroke=\"#000000\"/>\n<text fill=\"#000000\" font-family=\"Times,serif\" font-size=\"14.00\" text-anchor=\"middle\" x=\"192.5\" y=\"-91.3\">(None, 250)</text>\n</g>\n<!-- 139812546349320&#45;&gt;139812546347864 -->\n<g class=\"edge\" id=\"edge5\">\n<title>139812546349320-&gt;139812546347864</title>\n<path d=\"M137.5,-166.3799C137.5,-158.1745 137.5,-148.7679 137.5,-139.8786\" fill=\"none\" stroke=\"#000000\"/>\n<polygon fill=\"#000000\" points=\"141.0001,-139.784 137.5,-129.784 134.0001,-139.784 141.0001,-139.784\" stroke=\"#000000\"/>\n</g>\n<!-- 139812546277840 -->\n<g class=\"node\" id=\"node6\">\n<title>139812546277840</title>\n<polygon fill=\"none\" points=\"39,-.5 39,-46.5 236,-46.5 236,-.5 39,-.5\" stroke=\"#000000\"/>\n<text fill=\"#000000\" font-family=\"Times,serif\" font-size=\"14.00\" text-anchor=\"middle\" x=\"65\" y=\"-19.8\">Dense</text>\n<polyline fill=\"none\" points=\"91,-.5 91,-46.5 \" stroke=\"#000000\"/>\n<text fill=\"#000000\" font-family=\"Times,serif\" font-size=\"14.00\" text-anchor=\"middle\" x=\"120\" y=\"-31.3\">input:</text>\n<polyline fill=\"none\" points=\"91,-23.5 149,-23.5 \" stroke=\"#000000\"/>\n<text fill=\"#000000\" font-family=\"Times,serif\" font-size=\"14.00\" text-anchor=\"middle\" x=\"120\" y=\"-8.3\">output:</text>\n<polyline fill=\"none\" points=\"149,-.5 149,-46.5 \" stroke=\"#000000\"/>\n<text fill=\"#000000\" font-family=\"Times,serif\" font-size=\"14.00\" text-anchor=\"middle\" x=\"192.5\" y=\"-31.3\">(None, 250)</text>\n<polyline fill=\"none\" points=\"149,-23.5 236,-23.5 \" stroke=\"#000000\"/>\n<text fill=\"#000000\" font-family=\"Times,serif\" font-size=\"14.00\" text-anchor=\"middle\" x=\"192.5\" y=\"-8.3\">(None, 5)</text>\n</g>\n<!-- 139812546347864&#45;&gt;139812546277840 -->\n<g class=\"edge\" id=\"edge6\">\n<title>139812546347864-&gt;139812546277840</title>\n<path d=\"M137.5,-83.3799C137.5,-75.1745 137.5,-65.7679 137.5,-56.8786\" fill=\"none\" stroke=\"#000000\"/>\n<polygon fill=\"#000000\" points=\"141.0001,-56.784 137.5,-46.784 134.0001,-56.784 141.0001,-56.784\" stroke=\"#000000\"/>\n</g>\n<!-- 139812546347584 -->\n<g class=\"node\" id=\"node7\">\n<title>139812546347584</title>\n<polygon fill=\"none\" points=\"73,-498.5 73,-534.5 202,-534.5 202,-498.5 73,-498.5\" stroke=\"#000000\"/>\n<text fill=\"#000000\" font-family=\"Times,serif\" font-size=\"14.00\" text-anchor=\"middle\" x=\"137.5\" y=\"-512.8\">139812546347584</text>\n</g>\n<!-- 139812546347584&#45;&gt;139812546347360 -->\n<g class=\"edge\" id=\"edge1\">\n<title>139812546347584-&gt;139812546347360</title>\n<path d=\"M137.5,-498.4092C137.5,-490.4308 137.5,-480.795 137.5,-471.606\" fill=\"none\" stroke=\"#000000\"/>\n<polygon fill=\"#000000\" points=\"141.0001,-471.5333 137.5,-461.5333 134.0001,-471.5334 141.0001,-471.5333\" stroke=\"#000000\"/>\n</g>\n</g>\n</svg>"
          },
          "metadata": {
            "tags": []
          },
          "execution_count": 208
        }
      ]
    },
    {
      "cell_type": "code",
      "metadata": {
        "colab_type": "code",
        "id": "r23FrBd5F5HD",
        "outputId": "5da9c938-a06b-4817-8ca4-d3e3c6a626bc",
        "colab": {
          "base_uri": "https://localhost:8080/",
          "height": 176
        }
      },
      "source": [
        "early_stop = EarlyStopping(monitor='val_loss', patience=2, verbose=1)\n",
        "network_history300 = model300.fit(X_train, y_train,\n",
        "                      batch_size=BATCH_SIZE,\n",
        "                      epochs=EPOCHS,\n",
        "                      verbose=1,\n",
        "                      validation_split=0.2,\n",
        "                      callbacks=[early_stop])"
      ],
      "execution_count": 209,
      "outputs": [
        {
          "output_type": "stream",
          "text": [
            "Train on 67225 samples, validate on 16807 samples\n",
            "Epoch 1/50\n",
            "67225/67225 [==============================] - 17s 248us/step - loss: 0.9350 - acc: 0.6432 - val_loss: 0.8597 - val_acc: 0.6660\n",
            "Epoch 2/50\n",
            "67225/67225 [==============================] - 15s 228us/step - loss: 0.7285 - acc: 0.7133 - val_loss: 0.8652 - val_acc: 0.6688\n",
            "Epoch 3/50\n",
            "67225/67225 [==============================] - 15s 228us/step - loss: 0.5715 - acc: 0.7801 - val_loss: 0.9881 - val_acc: 0.6586\n",
            "Epoch 00003: early stopping\n"
          ],
          "name": "stdout"
        }
      ]
    },
    {
      "cell_type": "code",
      "metadata": {
        "colab_type": "code",
        "id": "mYuM_NC3GCNL",
        "outputId": "00048dfa-a6b2-42ea-f599-ab0a5ebd8c7f",
        "colab": {
          "base_uri": "https://localhost:8080/",
          "height": 52
        }
      },
      "source": [
        "scores300 = model300.evaluate(X_test, y_test, verbose=1)\n",
        "print(\"Accuracy: %.2f%%\" % (scores[1]*100))\n"
      ],
      "execution_count": 210,
      "outputs": [
        {
          "output_type": "stream",
          "text": [
            "28011/28011 [==============================] - 3s 91us/step\n",
            "Accuracy: 65.03%\n"
          ],
          "name": "stdout"
        }
      ]
    },
    {
      "cell_type": "code",
      "metadata": {
        "colab_type": "code",
        "id": "LObFrJ2WGJ-B",
        "outputId": "c6a5a751-ab9a-4ecf-c644-31e540c0b76c",
        "colab": {
          "base_uri": "https://localhost:8080/",
          "height": 565
        }
      },
      "source": [
        "plot_history(network_history300)"
      ],
      "execution_count": 211,
      "outputs": [
        {
          "output_type": "display_data",
          "data": {
            "image/png": "[encoded data removed]",
            "text/plain": [
              "<Figure size 432x288 with 1 Axes>"
            ]
          },
          "metadata": {
            "tags": []
          }
        },
        {
          "output_type": "display_data",
          "data": {
            "image/png": "[encoded data removed]",
            "text/plain": [
              "<Figure size 432x288 with 1 Axes>"
            ]
          },
          "metadata": {
            "tags": []
          }
        }
      ]
    },
    {
      "cell_type": "code",
      "metadata": {
        "colab_type": "code",
        "id": "uvUQloZ7GOsn",
        "outputId": "b603999f-0956-4b25-8977-35fe2b2dcf9c",
        "colab": {
          "base_uri": "https://localhost:8080/",
          "height": 202
        }
      },
      "source": [
        "y_predict300 = model300.predict(X_test)\n",
        "y_predict300_df = pd.DataFrame(y_predict300)\n",
        "y_predict300_df.head()"
      ],
      "execution_count": 212,
      "outputs": [
        {
          "output_type": "execute_result",
          "data": {
            "text/html": [
              "<div>\n",
              "<style scoped>\n",
              "    .dataframe tbody tr th:only-of-type {\n",
              "        vertical-align: middle;\n",
              "    }\n",
              "\n",
              "    .dataframe tbody tr th {\n",
              "        vertical-align: top;\n",
              "    }\n",
              "\n",
              "    .dataframe thead th {\n",
              "        text-align: right;\n",
              "    }\n",
              "</style>\n",
              "<table border=\"1\" class=\"dataframe\">\n",
              "  <thead>\n",
              "    <tr style=\"text-align: right;\">\n",
              "      <th></th>\n",
              "      <th>0</th>\n",
              "      <th>1</th>\n",
              "      <th>2</th>\n",
              "      <th>3</th>\n",
              "      <th>4</th>\n",
              "    </tr>\n",
              "  </thead>\n",
              "  <tbody>\n",
              "    <tr>\n",
              "      <th>0</th>\n",
              "      <td>0.000008</td>\n",
              "      <td>0.000052</td>\n",
              "      <td>0.002556</td>\n",
              "      <td>0.111151</td>\n",
              "      <td>0.886233</td>\n",
              "    </tr>\n",
              "    <tr>\n",
              "      <th>1</th>\n",
              "      <td>0.000232</td>\n",
              "      <td>0.000898</td>\n",
              "      <td>0.020935</td>\n",
              "      <td>0.182245</td>\n",
              "      <td>0.795690</td>\n",
              "    </tr>\n",
              "    <tr>\n",
              "      <th>2</th>\n",
              "      <td>0.000020</td>\n",
              "      <td>0.000103</td>\n",
              "      <td>0.003899</td>\n",
              "      <td>0.082365</td>\n",
              "      <td>0.913613</td>\n",
              "    </tr>\n",
              "    <tr>\n",
              "      <th>3</th>\n",
              "      <td>0.266081</td>\n",
              "      <td>0.053168</td>\n",
              "      <td>0.100419</td>\n",
              "      <td>0.063649</td>\n",
              "      <td>0.516684</td>\n",
              "    </tr>\n",
              "    <tr>\n",
              "      <th>4</th>\n",
              "      <td>0.000057</td>\n",
              "      <td>0.000079</td>\n",
              "      <td>0.004306</td>\n",
              "      <td>0.077015</td>\n",
              "      <td>0.918543</td>\n",
              "    </tr>\n",
              "  </tbody>\n",
              "</table>\n",
              "</div>"
            ],
            "text/plain": [
              "          0         1         2         3         4\n",
              "0  0.000008  0.000052  0.002556  0.111151  0.886233\n",
              "1  0.000232  0.000898  0.020935  0.182245  0.795690\n",
              "2  0.000020  0.000103  0.003899  0.082365  0.913613\n",
              "3  0.266081  0.053168  0.100419  0.063649  0.516684\n",
              "4  0.000057  0.000079  0.004306  0.077015  0.918543"
            ]
          },
          "metadata": {
            "tags": []
          },
          "execution_count": 212
        }
      ]
    },
    {
      "cell_type": "code",
      "metadata": {
        "colab_type": "code",
        "id": "b2K8Pok-G_aE",
        "colab": {}
      },
      "source": [
        "y_predict300_unencoded = [row.idxmax() + 1 for index, row in y_predict300_df.iterrows()]"
      ],
      "execution_count": 0,
      "outputs": []
    },
    {
      "cell_type": "code",
      "metadata": {
        "colab_type": "code",
        "id": "EY2mTrAXHFbt",
        "outputId": "a66a10bc-906e-4a76-ebdf-c38a47833e20",
        "colab": {
          "base_uri": "https://localhost:8080/",
          "height": 104
        }
      },
      "source": [
        "confusion_matrix(y_test_unencoded, y_predict300_unencoded)"
      ],
      "execution_count": 214,
      "outputs": [
        {
          "output_type": "execute_result",
          "data": {
            "text/plain": [
              "array([[ 3131,   190,   293,    56,   298],\n",
              "       [  892,   180,   423,   109,   267],\n",
              "       [  542,   169,   811,   401,   608],\n",
              "       [  177,    72,   626,  1131,  2746],\n",
              "       [  229,    50,   334,  1036, 13240]])"
            ]
          },
          "metadata": {
            "tags": []
          },
          "execution_count": 214
        }
      ]
    },
    {
      "cell_type": "code",
      "metadata": {
        "colab_type": "code",
        "id": "ifYDa2s3HKV7",
        "outputId": "6d08e3d3-d42e-4ad7-d6b4-912aeb6efe2a",
        "colab": {
          "base_uri": "https://localhost:8080/",
          "height": 225
        }
      },
      "source": [
        "print(classification_report(y_test_unencoded, y_predict300_unencoded))"
      ],
      "execution_count": 215,
      "outputs": [
        {
          "output_type": "stream",
          "text": [
            "              precision    recall  f1-score   support\n",
            "\n",
            "           1       0.63      0.79      0.70      3968\n",
            "           2       0.27      0.10      0.14      1871\n",
            "           3       0.33      0.32      0.32      2531\n",
            "           4       0.41      0.24      0.30      4752\n",
            "           5       0.77      0.89      0.83     14889\n",
            "\n",
            "    accuracy                           0.66     28011\n",
            "   macro avg       0.48      0.47      0.46     28011\n",
            "weighted avg       0.62      0.66      0.63     28011\n",
            "\n"
          ],
          "name": "stdout"
        }
      ]
    },
    {
      "cell_type": "code",
      "metadata": {
        "colab_type": "code",
        "id": "cGWLqe_UHmAB",
        "outputId": "1987992f-6f88-463b-bea5-afd6a9bd7277",
        "colab": {
          "base_uri": "https://localhost:8080/",
          "height": 445
        }
      },
      "source": [
        "roc_auc300, fpr300, tpr300 = calculate_roc_auc(y_test, y_predict300_df)\n",
        "fig = plt.figure(figsize=(5,5))\n",
        "plot_roc_auc(MODEL_NAME300, roc_auc300, fpr300, tpr300)"
      ],
      "execution_count": 216,
      "outputs": [
        {
          "output_type": "display_data",
          "data": {
            "image/png": "[encoded data removed]",
            "text/plain": [
              "<Figure size 360x360 with 1 Axes>"
            ]
          },
          "metadata": {
            "tags": []
          }
        }
      ]
    },
    {
      "cell_type": "code",
      "metadata": {
        "colab_type": "code",
        "id": "_A6lCHfuKQSO",
        "outputId": "e3f405e3-10dc-49fe-dcdd-e6698320eefa",
        "colab": {
          "base_uri": "https://localhost:8080/",
          "height": 139
        }
      },
      "source": [
        "roc_auc300"
      ],
      "execution_count": 217,
      "outputs": [
        {
          "output_type": "execute_result",
          "data": {
            "text/plain": [
              "{'auc_1': 0.9461405851897743,\n",
              " 'auc_2': 0.8470128981102046,\n",
              " 'auc_3': 0.8079497821983851,\n",
              " 'auc_4': 0.7273606471511046,\n",
              " 'auc_5': 0.8731894713149828,\n",
              " 'auc_macro': 0.840353623190182,\n",
              " 'auc_micro': 0.9005505148803845}"
            ]
          },
          "metadata": {
            "tags": []
          },
          "execution_count": 217
        }
      ]
    },
    {
      "cell_type": "code",
      "metadata": {
        "colab_type": "code",
        "id": "cRahiAl8HSq8",
        "colab": {}
      },
      "source": [
        "DESCRIPTION = f\"{INBASENAME}-nosmote-{MODEL_NAME300}-{MAX_SEQUENCE_LENGTH}-{FEATURE_COLUMN}\"\n",
        "\n",
        "\n",
        "MODEL_FILE = f\"{datetime.now().strftime(DATE_FORMAT)}-{DESCRIPTION}.h5\"\n",
        "NETWORK_HISTORY_FILE = f'{datetime.now().strftime(DATE_FORMAT)}-{DESCRIPTION}-history.pkl'\n",
        "TOKENIZER_FILE = f'{datetime.now().strftime(DATE_FORMAT)}-{DESCRIPTION}-tokenizer.pkl'\n"
      ],
      "execution_count": 0,
      "outputs": []
    },
    {
      "cell_type": "code",
      "metadata": {
        "colab_type": "code",
        "id": "0gFqG8WNHbCq",
        "colab": {}
      },
      "source": [
        "model300.save(MODEL_FILE)\n",
        "pickle.dump(network_history300, open(NETWORK_HISTORY_FILE, \"wb\"))\n",
        "pickle.dump(t, open(TOKENIZER_FILE, \"wb\"))"
      ],
      "execution_count": 0,
      "outputs": []
    },
    {
      "cell_type": "code",
      "metadata": {
        "colab_type": "code",
        "id": "qfKyTIQuH1VA",
        "colab": {}
      },
      "source": [
        "# saving off report in the same format as other report just in case we want to compare for later\n",
        "flattened300 = {}\n",
        "flattened300 = du.add_dict_to_dict(flattened300, classification_report(y_test_unencoded, y_predict300_unencoded, output_dict=True))\n",
        "flattened300 = du.add_dict_to_dict(flattened300, roc_auc300)\n",
        "flattened300[\"tpr\"] = tpr300\n",
        "flattened300[\"fpr\"] = fpr300\n",
        "flattened300[\"loss\"] = scores300[0]\n",
        "flattened300[\"accuracy\"] = scores300[1]\n",
        "flattened300[\"confusion_matrix\"] = confusion_matrix(y_test_unencoded, y_predict300_unencoded)\n",
        "flattened300[\"description\"] = DESCRIPTION\n",
        "flattened300[\"file\"] = DATA_FILE\n",
        "flattened300[\"network_history_file\"] = NETWORK_HISTORY_FILE\n",
        "flattened300[\"tokenizer_file\"] = TOKENIZER_FILE\n",
        "flattened300[\"max_sequence_length\"] = MAX_SEQUENCE_LENGTH\n",
        "flattened300[\"embedding\"] = EMBED_SIZE300\n",
        "flattened300[\"model_file\"] = MODEL_FILE\n",
        "flattened300[\"model_name\"] = MODEL_NAME300\n",
        "flattened300[\"test_examples\"] = X_test.shape[0]\n",
        "flattened300[\"test_features\"] = X_test.shape[1]\n",
        "flattened300[\"train_examples\"] = X_train.shape[0]\n",
        "flattened300[\"train_features\"] = X_train.shape[1]\n",
        "flattened300[\"status\"] = \"success\"\n",
        "flattened300[\"status_date\"] = datetime.now().strftime(TIME_FORMAT)\n"
      ],
      "execution_count": 0,
      "outputs": []
    },
    {
      "cell_type": "code",
      "metadata": {
        "colab_type": "code",
        "id": "KwPisImLIWmK",
        "colab": {}
      },
      "source": [
        "report_df = report_df.append(flattened300, ignore_index=True)\n"
      ],
      "execution_count": 0,
      "outputs": []
    },
    {
      "cell_type": "code",
      "metadata": {
        "colab_type": "code",
        "id": "y5SI9GS0Iev9",
        "colab": {}
      },
      "source": [
        "report_df.to_csv(REPORT_FILE, index=False)"
      ],
      "execution_count": 0,
      "outputs": []
    },
    {
      "cell_type": "code",
      "metadata": {
        "colab_type": "code",
        "id": "4kBC16R6TGpY",
        "outputId": "750608c1-6c8c-4de8-c285-f9f8b96cb27c",
        "colab": {
          "base_uri": "https://localhost:8080/",
          "height": 1000
        }
      },
      "source": [
        "report_df.T"
      ],
      "execution_count": 223,
      "outputs": [
        {
          "output_type": "execute_result",
          "data": {
            "text/html": [
              "<div>\n",
              "<style scoped>\n",
              "    .dataframe tbody tr th:only-of-type {\n",
              "        vertical-align: middle;\n",
              "    }\n",
              "\n",
              "    .dataframe tbody tr th {\n",
              "        vertical-align: top;\n",
              "    }\n",
              "\n",
              "    .dataframe thead th {\n",
              "        text-align: right;\n",
              "    }\n",
              "</style>\n",
              "<table border=\"1\" class=\"dataframe\">\n",
              "  <thead>\n",
              "    <tr style=\"text-align: right;\">\n",
              "      <th></th>\n",
              "      <th>0</th>\n",
              "      <th>1</th>\n",
              "      <th>2</th>\n",
              "      <th>3</th>\n",
              "    </tr>\n",
              "  </thead>\n",
              "  <tbody>\n",
              "    <tr>\n",
              "      <th>1_f1-score</th>\n",
              "      <td>0.705593</td>\n",
              "      <td>0.692118</td>\n",
              "      <td>0.691671</td>\n",
              "      <td>0.700526</td>\n",
              "    </tr>\n",
              "    <tr>\n",
              "      <th>1_precision</th>\n",
              "      <td>0.659724</td>\n",
              "      <td>0.678866</td>\n",
              "      <td>0.66918</td>\n",
              "      <td>0.629853</td>\n",
              "    </tr>\n",
              "    <tr>\n",
              "      <th>1_recall</th>\n",
              "      <td>0.758317</td>\n",
              "      <td>0.705897</td>\n",
              "      <td>0.715726</td>\n",
              "      <td>0.789062</td>\n",
              "    </tr>\n",
              "    <tr>\n",
              "      <th>1_support</th>\n",
              "      <td>3968</td>\n",
              "      <td>3968</td>\n",
              "      <td>3968</td>\n",
              "      <td>3968</td>\n",
              "    </tr>\n",
              "    <tr>\n",
              "      <th>2_f1-score</th>\n",
              "      <td>0.188988</td>\n",
              "      <td>0.205214</td>\n",
              "      <td>0.255596</td>\n",
              "      <td>0.14218</td>\n",
              "    </tr>\n",
              "    <tr>\n",
              "      <th>2_precision</th>\n",
              "      <td>0.28178</td>\n",
              "      <td>0.273863</td>\n",
              "      <td>0.272014</td>\n",
              "      <td>0.272315</td>\n",
              "    </tr>\n",
              "    <tr>\n",
              "      <th>2_recall</th>\n",
              "      <td>0.14217</td>\n",
              "      <td>0.164083</td>\n",
              "      <td>0.241048</td>\n",
              "      <td>0.0962052</td>\n",
              "    </tr>\n",
              "    <tr>\n",
              "      <th>2_support</th>\n",
              "      <td>1871</td>\n",
              "      <td>1871</td>\n",
              "      <td>1871</td>\n",
              "      <td>1871</td>\n",
              "    </tr>\n",
              "    <tr>\n",
              "      <th>3_f1-score</th>\n",
              "      <td>0.346419</td>\n",
              "      <td>0.311031</td>\n",
              "      <td>0.29899</td>\n",
              "      <td>0.323236</td>\n",
              "    </tr>\n",
              "    <tr>\n",
              "      <th>3_precision</th>\n",
              "      <td>0.327356</td>\n",
              "      <td>0.316435</td>\n",
              "      <td>0.346154</td>\n",
              "      <td>0.326096</td>\n",
              "    </tr>\n",
              "    <tr>\n",
              "      <th>3_recall</th>\n",
              "      <td>0.367839</td>\n",
              "      <td>0.305808</td>\n",
              "      <td>0.263137</td>\n",
              "      <td>0.320427</td>\n",
              "    </tr>\n",
              "    <tr>\n",
              "      <th>3_support</th>\n",
              "      <td>2531</td>\n",
              "      <td>2531</td>\n",
              "      <td>2531</td>\n",
              "      <td>2531</td>\n",
              "    </tr>\n",
              "    <tr>\n",
              "      <th>4_f1-score</th>\n",
              "      <td>0.342324</td>\n",
              "      <td>0.304622</td>\n",
              "      <td>0.333293</td>\n",
              "      <td>0.302204</td>\n",
              "    </tr>\n",
              "    <tr>\n",
              "      <th>4_precision</th>\n",
              "      <td>0.436014</td>\n",
              "      <td>0.419093</td>\n",
              "      <td>0.387295</td>\n",
              "      <td>0.413831</td>\n",
              "    </tr>\n",
              "    <tr>\n",
              "      <th>4_recall</th>\n",
              "      <td>0.281776</td>\n",
              "      <td>0.239268</td>\n",
              "      <td>0.292508</td>\n",
              "      <td>0.238005</td>\n",
              "    </tr>\n",
              "    <tr>\n",
              "      <th>4_support</th>\n",
              "      <td>4752</td>\n",
              "      <td>4752</td>\n",
              "      <td>4752</td>\n",
              "      <td>4752</td>\n",
              "    </tr>\n",
              "    <tr>\n",
              "      <th>5_f1-score</th>\n",
              "      <td>0.829797</td>\n",
              "      <td>0.830676</td>\n",
              "      <td>0.817405</td>\n",
              "      <td>0.826261</td>\n",
              "    </tr>\n",
              "    <tr>\n",
              "      <th>5_precision</th>\n",
              "      <td>0.787234</td>\n",
              "      <td>0.7666</td>\n",
              "      <td>0.775368</td>\n",
              "      <td>0.771607</td>\n",
              "    </tr>\n",
              "    <tr>\n",
              "      <th>5_recall</th>\n",
              "      <td>0.877225</td>\n",
              "      <td>0.906441</td>\n",
              "      <td>0.864262</td>\n",
              "      <td>0.889247</td>\n",
              "    </tr>\n",
              "    <tr>\n",
              "      <th>5_support</th>\n",
              "      <td>14889</td>\n",
              "      <td>14889</td>\n",
              "      <td>14889</td>\n",
              "      <td>14889</td>\n",
              "    </tr>\n",
              "    <tr>\n",
              "      <th>accuracy</th>\n",
              "      <td>0.664239</td>\n",
              "      <td>0.66099</td>\n",
              "      <td>0.65028</td>\n",
              "      <td>0.660205</td>\n",
              "    </tr>\n",
              "    <tr>\n",
              "      <th>auc_1</th>\n",
              "      <td>0.948508</td>\n",
              "      <td>0.944434</td>\n",
              "      <td>0.944489</td>\n",
              "      <td>0.946141</td>\n",
              "    </tr>\n",
              "    <tr>\n",
              "      <th>auc_2</th>\n",
              "      <td>0.853672</td>\n",
              "      <td>0.847612</td>\n",
              "      <td>0.845645</td>\n",
              "      <td>0.847013</td>\n",
              "    </tr>\n",
              "    <tr>\n",
              "      <th>auc_3</th>\n",
              "      <td>0.81488</td>\n",
              "      <td>0.817435</td>\n",
              "      <td>0.809654</td>\n",
              "      <td>0.80795</td>\n",
              "    </tr>\n",
              "    <tr>\n",
              "      <th>auc_4</th>\n",
              "      <td>0.741322</td>\n",
              "      <td>0.731718</td>\n",
              "      <td>0.73028</td>\n",
              "      <td>0.727361</td>\n",
              "    </tr>\n",
              "    <tr>\n",
              "      <th>auc_5</th>\n",
              "      <td>0.881056</td>\n",
              "      <td>0.88033</td>\n",
              "      <td>0.872456</td>\n",
              "      <td>0.873189</td>\n",
              "    </tr>\n",
              "    <tr>\n",
              "      <th>auc_macro</th>\n",
              "      <td>0.847909</td>\n",
              "      <td>0.844327</td>\n",
              "      <td>0.840528</td>\n",
              "      <td>0.840354</td>\n",
              "    </tr>\n",
              "    <tr>\n",
              "      <th>auc_micro</th>\n",
              "      <td>0.904417</td>\n",
              "      <td>0.902758</td>\n",
              "      <td>0.897847</td>\n",
              "      <td>0.900551</td>\n",
              "    </tr>\n",
              "    <tr>\n",
              "      <th>confusion_matrix</th>\n",
              "      <td>[[ 3009   300   380    62   217]\\n [  784   26...</td>\n",
              "      <td>[[ 2801   364   388   103   312]\\n [  663   30...</td>\n",
              "      <td>[[2840, 540, 226, 75, 287], [693, 451, 330, 16...</td>\n",
              "      <td>[[3131, 190, 293, 56, 298], [892, 180, 423, 10...</td>\n",
              "    </tr>\n",
              "    <tr>\n",
              "      <th>description</th>\n",
              "      <td>amazon_reviews_us_Wireless_v1_00-preprocessed-...</td>\n",
              "      <td>amazon_reviews_us_Wireless_v1_00-preprocessed-...</td>\n",
              "      <td>amazon_reviews_us_Wireless_v1_00-preprocessed-...</td>\n",
              "      <td>amazon_reviews_us_Wireless_v1_00-preprocessed-...</td>\n",
              "    </tr>\n",
              "    <tr>\n",
              "      <th>embedding</th>\n",
              "      <td>300</td>\n",
              "      <td>300</td>\n",
              "      <td>32</td>\n",
              "      <td>300</td>\n",
              "    </tr>\n",
              "    <tr>\n",
              "      <th>file</th>\n",
              "      <td>drive/My Drive/Springboard/capstone/data/amazo...</td>\n",
              "      <td>drive/My Drive/Springboard/capstone/data/amazo...</td>\n",
              "      <td>drive/My Drive/Springboard/capstone/data/amazo...</td>\n",
              "      <td>drive/My Drive/Springboard/capstone/data/amazo...</td>\n",
              "    </tr>\n",
              "    <tr>\n",
              "      <th>fpr</th>\n",
              "      <td>{0: array([0.       , 0.       , 0.       , .....</td>\n",
              "      <td>{0: array([0.        , 0.        , 0.        ,...</td>\n",
              "      <td>{0: [0.0, 0.0, 0.0, 4.159214740257039e-05, 4.1...</td>\n",
              "      <td>{0: [0.0, 0.0, 0.0, 4.159214740257039e-05, 4.1...</td>\n",
              "    </tr>\n",
              "    <tr>\n",
              "      <th>loss</th>\n",
              "      <td>0.913675</td>\n",
              "      <td>0.898048</td>\n",
              "      <td>0.981083</td>\n",
              "      <td>0.974376</td>\n",
              "    </tr>\n",
              "    <tr>\n",
              "      <th>macro avg_f1-score</th>\n",
              "      <td>0.482624</td>\n",
              "      <td>0.468732</td>\n",
              "      <td>0.479391</td>\n",
              "      <td>0.458881</td>\n",
              "    </tr>\n",
              "    <tr>\n",
              "      <th>macro avg_precision</th>\n",
              "      <td>0.498422</td>\n",
              "      <td>0.490971</td>\n",
              "      <td>0.490002</td>\n",
              "      <td>0.48274</td>\n",
              "    </tr>\n",
              "    <tr>\n",
              "      <th>macro avg_recall</th>\n",
              "      <td>0.485465</td>\n",
              "      <td>0.464299</td>\n",
              "      <td>0.475336</td>\n",
              "      <td>0.466589</td>\n",
              "    </tr>\n",
              "    <tr>\n",
              "      <th>macro avg_support</th>\n",
              "      <td>28011</td>\n",
              "      <td>28011</td>\n",
              "      <td>28011</td>\n",
              "      <td>28011</td>\n",
              "    </tr>\n",
              "    <tr>\n",
              "      <th>max_sequence_length</th>\n",
              "      <td>186</td>\n",
              "      <td>186</td>\n",
              "      <td>186</td>\n",
              "      <td>186</td>\n",
              "    </tr>\n",
              "    <tr>\n",
              "      <th>model_file</th>\n",
              "      <td>drive/My Drive/Springboard/capstone/models/201...</td>\n",
              "      <td>drive/My Drive/Springboard/capstone/models/201...</td>\n",
              "      <td>drive/My Drive/Springboard/capstone/models/201...</td>\n",
              "      <td>2019-07-23-amazon_reviews_us_Wireless_v1_00-pr...</td>\n",
              "    </tr>\n",
              "    <tr>\n",
              "      <th>model_name</th>\n",
              "      <td>GRU_1layer</td>\n",
              "      <td>LSTM_1layer</td>\n",
              "      <td>CNN_1layerEmbedding32</td>\n",
              "      <td>CNN_1layerEmbedding300</td>\n",
              "    </tr>\n",
              "    <tr>\n",
              "      <th>network_history_file</th>\n",
              "      <td>drive/My Drive/Springboard/capstone/models/201...</td>\n",
              "      <td>drive/My Drive/Springboard/capstone/models/201...</td>\n",
              "      <td>drive/My Drive/Springboard/capstone/models/201...</td>\n",
              "      <td>2019-07-23-amazon_reviews_us_Wireless_v1_00-pr...</td>\n",
              "    </tr>\n",
              "    <tr>\n",
              "      <th>status</th>\n",
              "      <td>success</td>\n",
              "      <td>success</td>\n",
              "      <td>success</td>\n",
              "      <td>success</td>\n",
              "    </tr>\n",
              "    <tr>\n",
              "      <th>status_date</th>\n",
              "      <td>7/23/19 6:06</td>\n",
              "      <td>7/23/19 6:47</td>\n",
              "      <td>2019-07-23 06:49:47</td>\n",
              "      <td>2019-07-23 06:50:49</td>\n",
              "    </tr>\n",
              "    <tr>\n",
              "      <th>test_examples</th>\n",
              "      <td>28011</td>\n",
              "      <td>28011</td>\n",
              "      <td>28011</td>\n",
              "      <td>28011</td>\n",
              "    </tr>\n",
              "    <tr>\n",
              "      <th>test_features</th>\n",
              "      <td>186</td>\n",
              "      <td>186</td>\n",
              "      <td>186</td>\n",
              "      <td>186</td>\n",
              "    </tr>\n",
              "    <tr>\n",
              "      <th>tokenizer_file</th>\n",
              "      <td>drive/My Drive/Springboard/capstone/models/201...</td>\n",
              "      <td>drive/My Drive/Springboard/capstone/models/201...</td>\n",
              "      <td>drive/My Drive/Springboard/capstone/models/201...</td>\n",
              "      <td>2019-07-23-amazon_reviews_us_Wireless_v1_00-pr...</td>\n",
              "    </tr>\n",
              "    <tr>\n",
              "      <th>tpr</th>\n",
              "      <td>{0: array([0.00000000e+00, 2.52016129e-04, 5.0...</td>\n",
              "      <td>{0: array([0.00000000e+00, 2.52016129e-04, 9.5...</td>\n",
              "      <td>{0: [0.0, 0.00025201612903225806, 0.0007560483...</td>\n",
              "      <td>{0: [0.0, 0.00025201612903225806, 0.0045362903...</td>\n",
              "    </tr>\n",
              "    <tr>\n",
              "      <th>train_examples</th>\n",
              "      <td>84032</td>\n",
              "      <td>84032</td>\n",
              "      <td>84032</td>\n",
              "      <td>84032</td>\n",
              "    </tr>\n",
              "    <tr>\n",
              "      <th>train_features</th>\n",
              "      <td>186</td>\n",
              "      <td>186</td>\n",
              "      <td>186</td>\n",
              "      <td>186</td>\n",
              "    </tr>\n",
              "    <tr>\n",
              "      <th>weighted avg_f1-score</th>\n",
              "      <td>0.643024</td>\n",
              "      <td>0.633073</td>\n",
              "      <td>0.633097</td>\n",
              "      <td>0.628399</td>\n",
              "    </tr>\n",
              "    <tr>\n",
              "      <th>weighted avg_precision</th>\n",
              "      <td>0.634272</td>\n",
              "      <td>0.62163</td>\n",
              "      <td>0.622085</td>\n",
              "      <td>0.617225</td>\n",
              "    </tr>\n",
              "    <tr>\n",
              "      <th>weighted avg_recall</th>\n",
              "      <td>0.664239</td>\n",
              "      <td>0.66099</td>\n",
              "      <td>0.65028</td>\n",
              "      <td>0.660205</td>\n",
              "    </tr>\n",
              "    <tr>\n",
              "      <th>weighted avg_support</th>\n",
              "      <td>28011</td>\n",
              "      <td>28011</td>\n",
              "      <td>28011</td>\n",
              "      <td>28011</td>\n",
              "    </tr>\n",
              "  </tbody>\n",
              "</table>\n",
              "</div>"
            ],
            "text/plain": [
              "                                                                        0  ...                                                  3\n",
              "1_f1-score                                                       0.705593  ...                                           0.700526\n",
              "1_precision                                                      0.659724  ...                                           0.629853\n",
              "1_recall                                                         0.758317  ...                                           0.789062\n",
              "1_support                                                            3968  ...                                               3968\n",
              "2_f1-score                                                       0.188988  ...                                            0.14218\n",
              "2_precision                                                       0.28178  ...                                           0.272315\n",
              "2_recall                                                          0.14217  ...                                          0.0962052\n",
              "2_support                                                            1871  ...                                               1871\n",
              "3_f1-score                                                       0.346419  ...                                           0.323236\n",
              "3_precision                                                      0.327356  ...                                           0.326096\n",
              "3_recall                                                         0.367839  ...                                           0.320427\n",
              "3_support                                                            2531  ...                                               2531\n",
              "4_f1-score                                                       0.342324  ...                                           0.302204\n",
              "4_precision                                                      0.436014  ...                                           0.413831\n",
              "4_recall                                                         0.281776  ...                                           0.238005\n",
              "4_support                                                            4752  ...                                               4752\n",
              "5_f1-score                                                       0.829797  ...                                           0.826261\n",
              "5_precision                                                      0.787234  ...                                           0.771607\n",
              "5_recall                                                         0.877225  ...                                           0.889247\n",
              "5_support                                                           14889  ...                                              14889\n",
              "accuracy                                                         0.664239  ...                                           0.660205\n",
              "auc_1                                                            0.948508  ...                                           0.946141\n",
              "auc_2                                                            0.853672  ...                                           0.847013\n",
              "auc_3                                                             0.81488  ...                                            0.80795\n",
              "auc_4                                                            0.741322  ...                                           0.727361\n",
              "auc_5                                                            0.881056  ...                                           0.873189\n",
              "auc_macro                                                        0.847909  ...                                           0.840354\n",
              "auc_micro                                                        0.904417  ...                                           0.900551\n",
              "confusion_matrix        [[ 3009   300   380    62   217]\\n [  784   26...  ...  [[3131, 190, 293, 56, 298], [892, 180, 423, 10...\n",
              "description             amazon_reviews_us_Wireless_v1_00-preprocessed-...  ...  amazon_reviews_us_Wireless_v1_00-preprocessed-...\n",
              "embedding                                                             300  ...                                                300\n",
              "file                    drive/My Drive/Springboard/capstone/data/amazo...  ...  drive/My Drive/Springboard/capstone/data/amazo...\n",
              "fpr                     {0: array([0.       , 0.       , 0.       , .....  ...  {0: [0.0, 0.0, 0.0, 4.159214740257039e-05, 4.1...\n",
              "loss                                                             0.913675  ...                                           0.974376\n",
              "macro avg_f1-score                                               0.482624  ...                                           0.458881\n",
              "macro avg_precision                                              0.498422  ...                                            0.48274\n",
              "macro avg_recall                                                 0.485465  ...                                           0.466589\n",
              "macro avg_support                                                   28011  ...                                              28011\n",
              "max_sequence_length                                                   186  ...                                                186\n",
              "model_file              drive/My Drive/Springboard/capstone/models/201...  ...  2019-07-23-amazon_reviews_us_Wireless_v1_00-pr...\n",
              "model_name                                                     GRU_1layer  ...                             CNN_1layerEmbedding300\n",
              "network_history_file    drive/My Drive/Springboard/capstone/models/201...  ...  2019-07-23-amazon_reviews_us_Wireless_v1_00-pr...\n",
              "status                                                            success  ...                                            success\n",
              "status_date                                                  7/23/19 6:06  ...                                2019-07-23 06:50:49\n",
              "test_examples                                                       28011  ...                                              28011\n",
              "test_features                                                         186  ...                                                186\n",
              "tokenizer_file          drive/My Drive/Springboard/capstone/models/201...  ...  2019-07-23-amazon_reviews_us_Wireless_v1_00-pr...\n",
              "tpr                     {0: array([0.00000000e+00, 2.52016129e-04, 5.0...  ...  {0: [0.0, 0.00025201612903225806, 0.0045362903...\n",
              "train_examples                                                      84032  ...                                              84032\n",
              "train_features                                                        186  ...                                                186\n",
              "weighted avg_f1-score                                            0.643024  ...                                           0.628399\n",
              "weighted avg_precision                                           0.634272  ...                                           0.617225\n",
              "weighted avg_recall                                              0.664239  ...                                           0.660205\n",
              "weighted avg_support                                                28011  ...                                              28011\n",
              "\n",
              "[54 rows x 4 columns]"
            ]
          },
          "metadata": {
            "tags": []
          },
          "execution_count": 223
        }
      ]
    },
    {
      "cell_type": "code",
      "metadata": {
        "colab_type": "code",
        "id": "e6N456vNTHRl",
        "outputId": "4f963f0f-46a5-41bc-d0fe-c184ec49abfe",
        "colab": {
          "base_uri": "https://localhost:8080/",
          "height": 445
        }
      },
      "source": [
        "fig = plt.figure(figsize=(10, 5))\n",
        "gs = fig.add_gridspec(1, 2)\n",
        "\n",
        "ax1  = fig.add_subplot(gs[0,0])\n",
        "plot_roc_auc(MODEL_NAME, roc_auc, fpr, tpr)\n",
        "\n",
        "ax2  = fig.add_subplot(gs[0,1])\n",
        "plot_roc_auc(MODEL_NAME300, roc_auc300, fpr300, tpr300)\n"
      ],
      "execution_count": 224,
      "outputs": [
        {
          "output_type": "display_data",
          "data": {
            "image/png": "[encoded data removed]",
            "text/plain": [
              "<Figure size 720x360 with 2 Axes>"
            ]
          },
          "metadata": {
            "tags": []
          }
        }
      ]
    },
    {
      "cell_type": "markdown",
      "metadata": {
        "colab_type": "text",
        "id": "_VCHnF1yb0mi"
      },
      "source": [
        "**Looks like there is a slight improvement when we increased embedding size  from 32 to 300 for class 1 and 2 but the AUC actually goes down for ratings 3, 4, and 5 slightly**"
      ]
    },
    {
      "cell_type": "code",
      "metadata": {
        "colab_type": "code",
        "id": "Q3brst7TTblA",
        "colab": {}
      },
      "source": [
        ""
      ],
      "execution_count": 0,
      "outputs": []
    }
  ]
}