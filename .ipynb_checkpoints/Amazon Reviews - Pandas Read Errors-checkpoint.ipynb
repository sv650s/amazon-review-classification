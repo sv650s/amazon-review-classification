{
 "cells": [
  {
   "cell_type": "markdown",
   "metadata": {},
   "source": [
    "# Amazon Review Data Exploration\n",
    "\n",
    "https://s3.amazonaws.com/amazon-reviews-pds/tsv/index.txt\n",
    "\n",
    "SAMPLE CONTENT:\n",
    "https://s3.amazonaws.com/amazon-reviews-pds/tsv/sample_us.tsv\n",
    "https://s3.amazonaws.com/amazon-reviews-pds/tsv/sample_fr.tsv\n",
    "\n",
    "|DATA COLUMNS:| Description |\n",
    "|-------------|--------|\n",
    "|marketplace       | 2 letter country code of the marketplace where the review was written. |\n",
    "|customer_id       | Random identifier that can be used to aggregate reviews written by a single author. |\n",
    "|review_id         | The unique ID of the review. |\n",
    "|product_id        | The unique Product ID the review pertains to. In the multilingual dataset the reviews                    for the same product in different countries can be grouped by the same product_id. |\n",
    "|product_parent    | Random identifier that can be used to aggregate reviews for the same product. |\n",
    "|product_title     | Title of the product. |\n",
    "|product_category  | Broad product category that can be used to group reviews (also used to group the dataset into coherent parts). |\n",
    "|star_rating       | The 1-5 star rating of the review. |\n",
    "|helpful_votes     | Number of helpful votes. |\n",
    "|total_votes       | Number of total votes the review received. |\n",
    "|vine              | Review was written as part of the Vine program. |\n",
    "|verified_purchase | The review is on a verified purchase. |\n",
    "|review_headline   | The title of the review. |\n",
    "|review_body       | The review text. |\n",
    "|review_date       | The date the review was written. |\n",
    "\n",
    "DATA FORMAT\n",
    "Tab ('\\t') separated text file, without quote or escape characters.\n",
    "First line in each file is header; 1 line corresponds to 1 record.\n"
   ]
  },
  {
   "cell_type": "code",
   "execution_count": 5,
   "metadata": {},
   "outputs": [],
   "source": [
    "import pandas as pd\n",
    "from pandas import DataFrame\n",
    "from pandas import Series\n",
    "import numpy as np\n",
    "import matplotlib.pyplot as plt\n",
    "%matplotlib inline\n",
    "\n",
    "\n",
    "# global variables\n",
    "COLUMNS_TO_DROP=[\"marketplace\", \"vine\", \"verified_purchase\"]\n",
    "USE_PANDAS=False\n",
    "\n",
    "\n",
    "# sample file\n",
    "# DATA_FILE=\"dataset/amazon_reviews/sample_us.tsv\"\n",
    "\n",
    "# first 10k entries from Wireless category\n",
    "DATA_FILE=\"dataset/amazon_reviews/amazon_reviews_us_Wireless_v1_00_10k.tsv\"\n",
    "\n",
    "# first 500k entries from Wireless category\n",
    "# DATA_FILE=\"dataset/amazon_reviews/amazon_reviews_us_Wireless_v1_00_500k.tsv\"\n",
    "\n",
    "# first 500k entries from Wireless category\n",
    "# DATA_FILE=\"dataset/amazon_reviews/amazon_reviews_us_Wireless_v1_00_500k.tsv\"\n",
    "\n",
    "# first 1mil entries from Wireless category\n",
    "# DATA_FILE=\"dataset/amazon_reviews/amazon_reviews_us_Wireless_v1_00_1mil.tsv\"\n",
    "\n",
    "# full 9mil Wireless reviews - not enough memory locally to do this\n",
    "# DATA_FILE=\"dataset/amazon_reviews/amazon_reviews_us_Wireless_v1_00.tsv\""
   ]
  },
  {
   "cell_type": "markdown",
   "metadata": {},
   "source": [
    "# Read using pandas\n",
    "\n",
    "## This doesn't seem to be working if you look down later for analysis for wc from headlines - lines that are saying that there are 22 columns it's not reading new lines properly even though I checked in vi and they have the right number of columns"
   ]
  },
  {
   "cell_type": "code",
   "execution_count": 2,
   "metadata": {},
   "outputs": [],
   "source": [
    "\n",
    "if USE_PANDAS == True:\n",
    "\n",
    "    # pandas is doing something weird. The lines that says have bad number of columns actually have the right columns???\n",
    "    reviews = pd.read_csv(DATA_FILE, sep=\"\\t\", \n",
    "                             parse_dates=[\"review_date\"], \n",
    "                             warn_bad_lines=True, \n",
    "                             error_bad_lines=False)\n",
    "    reviews.info()"
   ]
  },
  {
   "cell_type": "markdown",
   "metadata": {},
   "source": [
    "# Try reading line by line and see if this will be better"
   ]
  },
  {
   "cell_type": "code",
   "execution_count": 6,
   "metadata": {},
   "outputs": [
    {
     "name": "stdout",
     "output_type": "stream",
     "text": [
      "processed 10000\n",
      "10000\n",
      "<class 'pandas.core.frame.DataFrame'>\n",
      "RangeIndex: 10000 entries, 0 to 9999\n",
      "Data columns (total 15 columns):\n",
      "marketplace          10000 non-null object\n",
      "customer_id          10000 non-null object\n",
      "review_id            10000 non-null object\n",
      "product_id           10000 non-null object\n",
      "product_parent       10000 non-null object\n",
      "product_title        10000 non-null object\n",
      "product_category     10000 non-null object\n",
      "star_rating          10000 non-null object\n",
      "helpful_votes        10000 non-null object\n",
      "total_votes          10000 non-null object\n",
      "vine                 10000 non-null object\n",
      "verified_purchase    10000 non-null object\n",
      "review_headline      10000 non-null object\n",
      "review_body          10000 non-null object\n",
      "review_date          10000 non-null object\n",
      "dtypes: object(15)\n",
      "memory usage: 1.1+ MB\n"
     ]
    }
   ],
   "source": [
    "# not quite ready\n",
    "if USE_PANDAS == False:\n",
    "\n",
    "    columns = [\"marketplace\", \"customer_id\", \"review_id\", \"product_id\",\n",
    "              \"product_parent\", \"product_title\", \"product_category\", \n",
    "              \"star_rating\", \"helpful_votes\", \"total_votes\", \"vine\",\n",
    "              \"verified_purchase\", \"review_headline\", \"review_body\",\n",
    "              \"review_date\"]\n",
    "    reviews = pd.DataFrame(columns = columns)\n",
    "    count = 0\n",
    "    with open(DATA_FILE, \"r\") as file:\n",
    "        for line in file:\n",
    "            if len(line) > 0:\n",
    "                line = line.rstrip(\"\\n\")\n",
    "                # skip the header\n",
    "                if count > 0:\n",
    "                    splitted = line.split(\"\\t\")\n",
    "#                     print(splitted)\n",
    "                    reviews = reviews.append(pd.Series(splitted, index=columns), \n",
    "                                   ignore_index=True)\n",
    "                count += 1\n",
    "                if count % 10000 == 0:\n",
    "                    print(f\"processed {count}\")\n",
    "#                 if count == 3:\n",
    "#                     break\n",
    "\n",
    "    print(len(reviews))\n",
    "\n",
    "    \n",
    "reviews.info()"
   ]
  },
  {
   "cell_type": "code",
   "execution_count": 9,
   "metadata": {},
   "outputs": [
    {
     "name": "stdout",
     "output_type": "stream",
     "text": [
      "<class 'pandas.core.frame.DataFrame'>\n",
      "RangeIndex: 10000 entries, 0 to 9999\n",
      "Data columns (total 15 columns):\n",
      "marketplace          10000 non-null object\n",
      "customer_id          10000 non-null object\n",
      "review_id            10000 non-null object\n",
      "product_id           10000 non-null object\n",
      "product_parent       10000 non-null object\n",
      "product_title        10000 non-null object\n",
      "product_category     10000 non-null object\n",
      "star_rating          10000 non-null int64\n",
      "helpful_votes        10000 non-null int64\n",
      "total_votes          10000 non-null int64\n",
      "vine                 10000 non-null object\n",
      "verified_purchase    10000 non-null object\n",
      "review_headline      10000 non-null object\n",
      "review_body          10000 non-null object\n",
      "review_date          10000 non-null datetime64[ns]\n",
      "dtypes: datetime64[ns](1), int64(3), object(11)\n",
      "memory usage: 1.1+ MB\n"
     ]
    }
   ],
   "source": [
    "# set datatypes for the columns\n",
    "if USE_PANDAS == False:\n",
    "    reviews = reviews.astype({\n",
    "        \"review_date\": np.datetime64,\n",
    "        \"star_rating\": np.int64,\n",
    "        \"helpful_votes\": np.int64,\n",
    "        \"total_votes\": np.int64\n",
    "    })\n",
    "reviews.info()"
   ]
  },
  {
   "cell_type": "code",
   "execution_count": 11,
   "metadata": {},
   "outputs": [
    {
     "name": "stdout",
     "output_type": "stream",
     "text": [
      "<class 'pandas.core.frame.DataFrame'>\n",
      "Int64Index: 10000 entries, 0 to 9999\n",
      "Data columns (total 12 columns):\n",
      "customer_id         10000 non-null object\n",
      "review_id           10000 non-null object\n",
      "product_id          10000 non-null object\n",
      "product_parent      10000 non-null object\n",
      "product_title       10000 non-null object\n",
      "product_category    10000 non-null object\n",
      "star_rating         10000 non-null int64\n",
      "helpful_votes       10000 non-null int64\n",
      "total_votes         10000 non-null int64\n",
      "review_headline     10000 non-null object\n",
      "review_body         10000 non-null object\n",
      "review_date         10000 non-null datetime64[ns]\n",
      "dtypes: datetime64[ns](1), int64(3), object(8)\n",
      "memory usage: 1015.6+ KB\n"
     ]
    }
   ],
   "source": [
    "# looks like sometimes we have reviews with no body, no headline, and no review dates\n",
    "# let's drop those rows with missing data\n",
    "# also drop the following columns since they will always be the same\n",
    "clean_df = reviews.dropna().drop(COLUMNS_TO_DROP, axis = 1)\n",
    "clean_df.info()"
   ]
  },
  {
   "cell_type": "markdown",
   "metadata": {},
   "source": [
    "## 72% reviews are from unique products"
   ]
  },
  {
   "cell_type": "code",
   "execution_count": 30,
   "metadata": {},
   "outputs": [
    {
     "name": "stdout",
     "output_type": "stream",
     "text": [
      "unique products: 72% (7233 out of 10000)\n"
     ]
    },
    {
     "data": {
      "text/plain": [
       "<matplotlib.axes._subplots.AxesSubplot at 0x11b884ac8>"
      ]
     },
     "execution_count": 30,
     "metadata": {},
     "output_type": "execute_result"
    },
    {
     "data": {
      "image/png": "[encoded data removed]",
      "text/plain": [
       "<Figure size 432x288 with 1 Axes>"
      ]
     },
     "metadata": {
      "needs_background": "light"
     },
     "output_type": "display_data"
    }
   ],
   "source": [
    "# how many products do we have?\n",
    "grouped = clean_df.groupby(\"product_parent\")\n",
    "unique_products = len(grouped)\n",
    "unique_product_percentage = round(unique_products / len(clean_df) * 100)\n",
    "print(f\"unique products: {unique_product_percentage}% ({unique_products} out of {len(clean_df)})\")\n",
    "# print(grouped.size().describe())\n",
    "# # 170k products - most only have 1 reviews\n",
    "\n",
    "grouped.size().hist()"
   ]
  },
  {
   "cell_type": "markdown",
   "metadata": {},
   "source": [
    "## ??? I want to filter after group by to see what the day looks like, but this code commented below runs super slow"
   ]
  },
  {
   "cell_type": "code",
   "execution_count": null,
   "metadata": {},
   "outputs": [],
   "source": [
    "# ???is there a better way to do this????\n",
    "# can we do some type of quantile or adaptive binning that would make sense?\n",
    "\n",
    "\n",
    "# # how many products have 1 reviews\n",
    "# products_one_review = len(clean_df.groupby(\"product_parent\").filter(lambda x: len(x) == 1).groupby(\"product_parent\"))\n",
    "\n",
    "# # how many products have 2 to 3 reviews\n",
    "# products_two_reviews = len(clean_df.groupby(\"product_parent\").filter(lambda x: 2 <= len(x) <= 3).groupby(\"product_parent\"))\n",
    "\n",
    "# # only 39k products have > 3 reviews\n",
    "# products_three_plus_reviews = len(clean_df.groupby(\"product_parent\").filter(lambda x: len(x) > 3).groupby(\"product_parent\"))\n",
    "\n",
    "\n",
    "\n",
    "# print(f\"1 review:\\t{round(products_one_review/total_products, 2) * 100}% ({products_one_review})\")\n",
    "# print(f\"2-3 review:\\t {round(products_two_reviews/total_products, 2) * 100}% ({products_two_reviews})\")\n",
    "# print(f\"3+ review:\\t {round(products_three_plus_reviews/total_products, 2) * 100}% ({products_three_plus_reviews})\")\n",
    "\n"
   ]
  },
  {
   "cell_type": "code",
   "execution_count": 31,
   "metadata": {},
   "outputs": [
    {
     "data": {
      "text/plain": [
       "<matplotlib.axes._subplots.AxesSubplot at 0x1206c0cf8>"
      ]
     },
     "execution_count": 31,
     "metadata": {},
     "output_type": "execute_result"
    },
    {
     "data": {
      "image/png": "[encoded data removed]",
      "text/plain": [
       "<Figure size 432x288 with 1 Axes>"
      ]
     },
     "metadata": {
      "needs_background": "light"
     },
     "output_type": "display_data"
    }
   ],
   "source": [
    "# trying some type of binning\n",
    "\n",
    "products_df = pd.DataFrame(clean_df.groupby(\"product_parent\").size(), columns=[\"count\"])\n",
    "products_df = products_df.assign(bin=lambda x: pd.cut(x[\"count\"], [0, 1, 3, x[\"count\"].max()]))\n",
    "products_df.groupby(\"bin\").size().plot(kind='bar')"
   ]
  },
  {
   "cell_type": "markdown",
   "metadata": {},
   "source": [
    "# let's look at review distribution dates"
   ]
  },
  {
   "cell_type": "code",
   "execution_count": 32,
   "metadata": {
    "scrolled": true
   },
   "outputs": [
    {
     "data": {
      "text/plain": [
       "<matplotlib.axes._subplots.AxesSubplot at 0x11b5cf7b8>"
      ]
     },
     "execution_count": 32,
     "metadata": {},
     "output_type": "execute_result"
    },
    {
     "data": {
      "image/png": "[encoded data removed]",
      "text/plain": [
       "<Figure size 432x288 with 1 Axes>"
      ]
     },
     "metadata": {
      "needs_background": "light"
     },
     "output_type": "display_data"
    }
   ],
   "source": [
    "# distribution of months\n",
    "\n",
    "df = clean_df\n",
    "df[\"month\"] = df.review_date.dt.month\n",
    "df.groupby(\"month\").size().plot(kind='bar')"
   ]
  },
  {
   "cell_type": "code",
   "execution_count": 33,
   "metadata": {},
   "outputs": [
    {
     "name": "stdout",
     "output_type": "stream",
     "text": [
      "2015-08-31 00:00:00\n",
      "2015-08-31 00:00:00\n"
     ]
    }
   ],
   "source": [
    "# let's check to see if this is correct\n",
    "\n",
    "print(df[\"review_date\"].min())\n",
    "print(df[\"review_date\"].max())"
   ]
  },
  {
   "cell_type": "code",
   "execution_count": 34,
   "metadata": {},
   "outputs": [
    {
     "data": {
      "text/plain": [
       "<matplotlib.axes._subplots.AxesSubplot at 0x11b96d1d0>"
      ]
     },
     "execution_count": 34,
     "metadata": {},
     "output_type": "execute_result"
    },
    {
     "data": {
      "image/png": "[encoded data removed]",
      "text/plain": [
       "<Figure size 432x288 with 1 Axes>"
      ]
     },
     "metadata": {
      "needs_background": "light"
     },
     "output_type": "display_data"
    }
   ],
   "source": [
    "# distribution of days of the week\n",
    "# distribution of months\n",
    "\n",
    "df = clean_df\n",
    "df[\"day\"] = df.review_date.dt.dayofweek\n",
    "df.groupby(\"day\").size().plot(kind='bar')"
   ]
  },
  {
   "cell_type": "markdown",
   "metadata": {},
   "source": [
    "# Review Stars Distribution"
   ]
  },
  {
   "cell_type": "code",
   "execution_count": 35,
   "metadata": {},
   "outputs": [
    {
     "data": {
      "text/plain": [
       "<matplotlib.axes._subplots.AxesSubplot at 0x11bba2550>"
      ]
     },
     "execution_count": 35,
     "metadata": {},
     "output_type": "execute_result"
    },
    {
     "data": {
      "image/png": "[encoded data removed]",
      "text/plain": [
       "<Figure size 432x288 with 1 Axes>"
      ]
     },
     "metadata": {
      "needs_background": "light"
     },
     "output_type": "display_data"
    }
   ],
   "source": [
    "# let's look at distribution of stars\n",
    "clean_df.groupby(\"star_rating\").size().plot(kind='bar')\n",
    "# reviews lean heavily towards 5-stars"
   ]
  },
  {
   "cell_type": "code",
   "execution_count": 36,
   "metadata": {},
   "outputs": [
    {
     "name": "stdout",
     "output_type": "stream",
     "text": [
      "20.0 percent (1976) has votes\n",
      "15.0 percent (1454) has helpful votes\n"
     ]
    },
    {
     "data": {
      "text/html": [
       "<div>\n",
       "<style scoped>\n",
       "    .dataframe tbody tr th:only-of-type {\n",
       "        vertical-align: middle;\n",
       "    }\n",
       "\n",
       "    .dataframe tbody tr th {\n",
       "        vertical-align: top;\n",
       "    }\n",
       "\n",
       "    .dataframe thead th {\n",
       "        text-align: right;\n",
       "    }\n",
       "</style>\n",
       "<table border=\"1\" class=\"dataframe\">\n",
       "  <thead>\n",
       "    <tr style=\"text-align: right;\">\n",
       "      <th></th>\n",
       "      <th>star_rating</th>\n",
       "      <th>helpful_votes</th>\n",
       "      <th>total_votes</th>\n",
       "      <th>month</th>\n",
       "      <th>day</th>\n",
       "    </tr>\n",
       "  </thead>\n",
       "  <tbody>\n",
       "    <tr>\n",
       "      <th>count</th>\n",
       "      <td>10000.00000</td>\n",
       "      <td>10000.000000</td>\n",
       "      <td>10000.000000</td>\n",
       "      <td>10000.0</td>\n",
       "      <td>10000.0</td>\n",
       "    </tr>\n",
       "    <tr>\n",
       "      <th>mean</th>\n",
       "      <td>3.97860</td>\n",
       "      <td>0.502700</td>\n",
       "      <td>0.671500</td>\n",
       "      <td>8.0</td>\n",
       "      <td>0.0</td>\n",
       "    </tr>\n",
       "    <tr>\n",
       "      <th>std</th>\n",
       "      <td>1.44352</td>\n",
       "      <td>5.000329</td>\n",
       "      <td>5.370705</td>\n",
       "      <td>0.0</td>\n",
       "      <td>0.0</td>\n",
       "    </tr>\n",
       "    <tr>\n",
       "      <th>min</th>\n",
       "      <td>1.00000</td>\n",
       "      <td>0.000000</td>\n",
       "      <td>0.000000</td>\n",
       "      <td>8.0</td>\n",
       "      <td>0.0</td>\n",
       "    </tr>\n",
       "    <tr>\n",
       "      <th>25%</th>\n",
       "      <td>3.00000</td>\n",
       "      <td>0.000000</td>\n",
       "      <td>0.000000</td>\n",
       "      <td>8.0</td>\n",
       "      <td>0.0</td>\n",
       "    </tr>\n",
       "    <tr>\n",
       "      <th>50%</th>\n",
       "      <td>5.00000</td>\n",
       "      <td>0.000000</td>\n",
       "      <td>0.000000</td>\n",
       "      <td>8.0</td>\n",
       "      <td>0.0</td>\n",
       "    </tr>\n",
       "    <tr>\n",
       "      <th>75%</th>\n",
       "      <td>5.00000</td>\n",
       "      <td>0.000000</td>\n",
       "      <td>0.000000</td>\n",
       "      <td>8.0</td>\n",
       "      <td>0.0</td>\n",
       "    </tr>\n",
       "    <tr>\n",
       "      <th>max</th>\n",
       "      <td>5.00000</td>\n",
       "      <td>266.000000</td>\n",
       "      <td>273.000000</td>\n",
       "      <td>8.0</td>\n",
       "      <td>0.0</td>\n",
       "    </tr>\n",
       "  </tbody>\n",
       "</table>\n",
       "</div>"
      ],
      "text/plain": [
       "       star_rating  helpful_votes   total_votes    month      day\n",
       "count  10000.00000   10000.000000  10000.000000  10000.0  10000.0\n",
       "mean       3.97860       0.502700      0.671500      8.0      0.0\n",
       "std        1.44352       5.000329      5.370705      0.0      0.0\n",
       "min        1.00000       0.000000      0.000000      8.0      0.0\n",
       "25%        3.00000       0.000000      0.000000      8.0      0.0\n",
       "50%        5.00000       0.000000      0.000000      8.0      0.0\n",
       "75%        5.00000       0.000000      0.000000      8.0      0.0\n",
       "max        5.00000     266.000000    273.000000      8.0      0.0"
      ]
     },
     "execution_count": 36,
     "metadata": {},
     "output_type": "execute_result"
    }
   ],
   "source": [
    "# let's look at what percentage of reviews have votes\n",
    "print(f\"{round(len(clean_df[(clean_df.total_votes > 0)]) / len(clean_df), 2)* 100} percent \"\\\n",
    "      f\"({len(clean_df[(clean_df.total_votes > 0)])}) has votes\")\n",
    "# let's look at what percentage of reviews have votes\n",
    "print(f\"{round(len(clean_df[(clean_df.helpful_votes > 0)]) / len(clean_df), 2)* 100} percent \"\\\n",
    "            f\"({len(clean_df[(clean_df.helpful_votes > 0)])}) has helpful votes\")\n",
    "\n",
    "\n",
    "# let's look at distribution of total_votes\n",
    "clean_df.describe()\n",
    "# looks like most do not have any votes"
   ]
  },
  {
   "cell_type": "markdown",
   "metadata": {},
   "source": [
    "# Review Headlines"
   ]
  },
  {
   "cell_type": "markdown",
   "metadata": {},
   "source": [
    "Looks like the most frequent number of words in headline is 2\n",
    "\n",
    "50% have 2700 words or less in headlines"
   ]
  },
  {
   "cell_type": "code",
   "execution_count": 37,
   "metadata": {},
   "outputs": [
    {
     "name": "stdout",
     "output_type": "stream",
     "text": [
      "count      27.000000\n",
      "mean      370.370370\n",
      "std       930.972616\n",
      "min         1.000000\n",
      "25%        25.000000\n",
      "50%        91.000000\n",
      "75%       393.000000\n",
      "max      4903.000000\n",
      "dtype: float64\n"
     ]
    },
    {
     "data": {
      "text/plain": [
       "<matplotlib.axes._subplots.AxesSubplot at 0x1253aecf8>"
      ]
     },
     "execution_count": 37,
     "metadata": {},
     "output_type": "execute_result"
    },
    {
     "data": {
      "image/png": "[encoded data removed]",
      "text/plain": [
       "<Figure size 432x288 with 1 Axes>"
      ]
     },
     "metadata": {
      "needs_background": "light"
     },
     "output_type": "display_data"
    }
   ],
   "source": [
    "# let's look at wordcount for headlines\n",
    "df = clean_df\n",
    "# this doesn't work\n",
    "# df = df.apply(review_headline_wc=lambda x: len(x[\"review_headline\"].str.split()))\n",
    "# this doesn't work either - seems to be applying split across all headlines\n",
    "# df[\"review_headline_wc\"] = df[\"review_headline\"].str.split().count()\n",
    "\n",
    "\n",
    "df[\"review_headline_wc\"] = df[\"review_headline\"].apply(lambda x: len(x.split()))\n",
    "\n",
    "grouped = df.groupby(\"review_headline_wc\")\n",
    "print(grouped.size().describe())\n",
    "\n",
    "grouped.size().plot(kind='bar')"
   ]
  },
  {
   "cell_type": "code",
   "execution_count": 38,
   "metadata": {},
   "outputs": [
    {
     "data": {
      "text/plain": [
       "review_headline_wc\n",
       "1      434\n",
       "2     4903\n",
       "3      703\n",
       "4      658\n",
       "5      528\n",
       "6      424\n",
       "7      337\n",
       "8      256\n",
       "9      251\n",
       "10     391\n",
       "11     395\n",
       "12     174\n",
       "13     151\n",
       "14      91\n",
       "15      64\n",
       "16      54\n",
       "17      44\n",
       "18      22\n",
       "19      29\n",
       "20      32\n",
       "21      28\n",
       "22       8\n",
       "23      10\n",
       "24       5\n",
       "25       3\n",
       "26       1\n",
       "29       4\n",
       "dtype: int64"
      ]
     },
     "execution_count": 38,
     "metadata": {},
     "output_type": "execute_result"
    }
   ],
   "source": [
    "grouped.size()"
   ]
  },
  {
   "cell_type": "markdown",
   "metadata": {},
   "source": [
    "## Interesting.. If you use Pandas, the ones with largest wc grabbed multiple rows"
   ]
  },
  {
   "cell_type": "code",
   "execution_count": 44,
   "metadata": {},
   "outputs": [
    {
     "name": "stdout",
     "output_type": "stream",
     "text": [
      "203 headline: [The only thing is you need to push a button to move the leg to the desired position which is fine, but if you do not push the bu]\n",
      "203 body: [Arrived very quickly.  Was exactly what I expected.  Works well.  The only thing is you need to push a button to move the leg to the desired position which is fine, but if you do not push the button you could break.  After knowing this it is very easy to set to desired angle.]\n",
      "<class 'pandas.core.frame.DataFrame'>\n",
      "Int64Index: 10000 entries, 0 to 9999\n",
      "Data columns (total 16 columns):\n",
      "customer_id           10000 non-null object\n",
      "review_id             10000 non-null object\n",
      "product_id            10000 non-null object\n",
      "product_parent        10000 non-null object\n",
      "product_title         10000 non-null object\n",
      "product_category      10000 non-null object\n",
      "star_rating           10000 non-null int64\n",
      "helpful_votes         10000 non-null int64\n",
      "total_votes           10000 non-null int64\n",
      "review_headline       10000 non-null object\n",
      "review_body           10000 non-null object\n",
      "review_date           10000 non-null datetime64[ns]\n",
      "month                 10000 non-null int64\n",
      "day                   10000 non-null int64\n",
      "review_headline_wc    10000 non-null int64\n",
      "review_body_wc        10000 non-null int64\n",
      "dtypes: datetime64[ns](1), int64(7), object(8)\n",
      "memory usage: 1.3+ MB\n"
     ]
    }
   ],
   "source": [
    "df = clean_df\n",
    "for index, row in df[(df[\"review_headline_wc\"] == df.review_headline_wc.max())].head(1).iterrows():\n",
    "    print(f'{index} headline: [{row[\"review_headline\"]}]')\n",
    "    print(f'{index} body: [{row[\"review_body\"]}]')\n",
    "clean_df.info()"
   ]
  },
  {
   "cell_type": "markdown",
   "metadata": {},
   "source": [
    "# Review Body"
   ]
  },
  {
   "cell_type": "code",
   "execution_count": 42,
   "metadata": {},
   "outputs": [
    {
     "data": {
      "text/html": [
       "<div>\n",
       "<style scoped>\n",
       "    .dataframe tbody tr th:only-of-type {\n",
       "        vertical-align: middle;\n",
       "    }\n",
       "\n",
       "    .dataframe tbody tr th {\n",
       "        vertical-align: top;\n",
       "    }\n",
       "\n",
       "    .dataframe thead th {\n",
       "        text-align: right;\n",
       "    }\n",
       "</style>\n",
       "<table border=\"1\" class=\"dataframe\">\n",
       "  <thead>\n",
       "    <tr style=\"text-align: right;\">\n",
       "      <th></th>\n",
       "      <th>customer_id</th>\n",
       "      <th>review_id</th>\n",
       "      <th>product_id</th>\n",
       "      <th>product_parent</th>\n",
       "      <th>product_title</th>\n",
       "      <th>product_category</th>\n",
       "      <th>star_rating</th>\n",
       "      <th>helpful_votes</th>\n",
       "      <th>total_votes</th>\n",
       "      <th>review_headline</th>\n",
       "      <th>review_body</th>\n",
       "      <th>review_date</th>\n",
       "      <th>month</th>\n",
       "      <th>day</th>\n",
       "      <th>review_headline_wc</th>\n",
       "      <th>review_body_wc</th>\n",
       "    </tr>\n",
       "  </thead>\n",
       "  <tbody>\n",
       "    <tr>\n",
       "      <th>0</th>\n",
       "      <td>16414143</td>\n",
       "      <td>R3W4P9UBGNGH1U</td>\n",
       "      <td>B00YL0EKWE</td>\n",
       "      <td>852431543</td>\n",
       "      <td>LG G4 Case Hard Transparent Slim Clear Cover f...</td>\n",
       "      <td>Wireless</td>\n",
       "      <td>2</td>\n",
       "      <td>1</td>\n",
       "      <td>3</td>\n",
       "      <td>Looks good, functions meh</td>\n",
       "      <td>2 issues  -  Once I turned on the circle apps ...</td>\n",
       "      <td>2015-08-31</td>\n",
       "      <td>8</td>\n",
       "      <td>0</td>\n",
       "      <td>4</td>\n",
       "      <td>74</td>\n",
       "    </tr>\n",
       "    <tr>\n",
       "      <th>1</th>\n",
       "      <td>50800750</td>\n",
       "      <td>R15V54KBMTQWAY</td>\n",
       "      <td>B00XK95RPQ</td>\n",
       "      <td>516894650</td>\n",
       "      <td>Selfie Stick Fiblastiq&amp;trade; Extendable Wirel...</td>\n",
       "      <td>Wireless</td>\n",
       "      <td>4</td>\n",
       "      <td>0</td>\n",
       "      <td>0</td>\n",
       "      <td>A fun little gadget</td>\n",
       "      <td>I’m embarrassed to admit that until recently, ...</td>\n",
       "      <td>2015-08-31</td>\n",
       "      <td>8</td>\n",
       "      <td>0</td>\n",
       "      <td>4</td>\n",
       "      <td>318</td>\n",
       "    </tr>\n",
       "    <tr>\n",
       "      <th>2</th>\n",
       "      <td>15184378</td>\n",
       "      <td>RY8I449HNXSVF</td>\n",
       "      <td>B00SXRXUKO</td>\n",
       "      <td>984297154</td>\n",
       "      <td>Tribe AB40 Water Resistant Sports Armband with...</td>\n",
       "      <td>Wireless</td>\n",
       "      <td>5</td>\n",
       "      <td>0</td>\n",
       "      <td>0</td>\n",
       "      <td>Five Stars</td>\n",
       "      <td>Fits iPhone 6 well</td>\n",
       "      <td>2015-08-31</td>\n",
       "      <td>8</td>\n",
       "      <td>0</td>\n",
       "      <td>2</td>\n",
       "      <td>4</td>\n",
       "    </tr>\n",
       "    <tr>\n",
       "      <th>3</th>\n",
       "      <td>10203548</td>\n",
       "      <td>R18TLJYCKJFLSR</td>\n",
       "      <td>B009V5X1CE</td>\n",
       "      <td>279912704</td>\n",
       "      <td>RAVPower® Element 10400mAh External Battery US...</td>\n",
       "      <td>Wireless</td>\n",
       "      <td>5</td>\n",
       "      <td>0</td>\n",
       "      <td>0</td>\n",
       "      <td>Great charger</td>\n",
       "      <td>Great charger.  I easily get 3+ charges on a S...</td>\n",
       "      <td>2015-08-31</td>\n",
       "      <td>8</td>\n",
       "      <td>0</td>\n",
       "      <td>2</td>\n",
       "      <td>23</td>\n",
       "    </tr>\n",
       "    <tr>\n",
       "      <th>4</th>\n",
       "      <td>488280</td>\n",
       "      <td>R1NK26SWS53B8Q</td>\n",
       "      <td>B00D93OVF0</td>\n",
       "      <td>662791300</td>\n",
       "      <td>Fosmon Micro USB Value Pack Bundle for Samsung...</td>\n",
       "      <td>Wireless</td>\n",
       "      <td>5</td>\n",
       "      <td>0</td>\n",
       "      <td>0</td>\n",
       "      <td>Five Stars</td>\n",
       "      <td>Great for the price :-)</td>\n",
       "      <td>2015-08-31</td>\n",
       "      <td>8</td>\n",
       "      <td>0</td>\n",
       "      <td>2</td>\n",
       "      <td>5</td>\n",
       "    </tr>\n",
       "  </tbody>\n",
       "</table>\n",
       "</div>"
      ],
      "text/plain": [
       "  customer_id       review_id  product_id product_parent  \\\n",
       "0    16414143  R3W4P9UBGNGH1U  B00YL0EKWE      852431543   \n",
       "1    50800750  R15V54KBMTQWAY  B00XK95RPQ      516894650   \n",
       "2    15184378   RY8I449HNXSVF  B00SXRXUKO      984297154   \n",
       "3    10203548  R18TLJYCKJFLSR  B009V5X1CE      279912704   \n",
       "4      488280  R1NK26SWS53B8Q  B00D93OVF0      662791300   \n",
       "\n",
       "                                       product_title product_category  \\\n",
       "0  LG G4 Case Hard Transparent Slim Clear Cover f...         Wireless   \n",
       "1  Selfie Stick Fiblastiq&trade; Extendable Wirel...         Wireless   \n",
       "2  Tribe AB40 Water Resistant Sports Armband with...         Wireless   \n",
       "3  RAVPower® Element 10400mAh External Battery US...         Wireless   \n",
       "4  Fosmon Micro USB Value Pack Bundle for Samsung...         Wireless   \n",
       "\n",
       "   star_rating  helpful_votes  total_votes            review_headline  \\\n",
       "0            2              1            3  Looks good, functions meh   \n",
       "1            4              0            0        A fun little gadget   \n",
       "2            5              0            0                 Five Stars   \n",
       "3            5              0            0              Great charger   \n",
       "4            5              0            0                 Five Stars   \n",
       "\n",
       "                                         review_body review_date  month  day  \\\n",
       "0  2 issues  -  Once I turned on the circle apps ...  2015-08-31      8    0   \n",
       "1  I’m embarrassed to admit that until recently, ...  2015-08-31      8    0   \n",
       "2                                 Fits iPhone 6 well  2015-08-31      8    0   \n",
       "3  Great charger.  I easily get 3+ charges on a S...  2015-08-31      8    0   \n",
       "4                            Great for the price :-)  2015-08-31      8    0   \n",
       "\n",
       "   review_headline_wc  review_body_wc  \n",
       "0                   4              74  \n",
       "1                   4             318  \n",
       "2                   2               4  \n",
       "3                   2              23  \n",
       "4                   2               5  "
      ]
     },
     "execution_count": 42,
     "metadata": {},
     "output_type": "execute_result"
    }
   ],
   "source": [
    "df = clean_df\n",
    "\n",
    "# now let's look at distribution of wc for review body\n",
    "df[\"review_body_wc\"] = df[\"review_body\"].apply(lambda x: len(x.split()))\n",
    "\n",
    "df.head()"
   ]
  },
  {
   "cell_type": "code",
   "execution_count": 56,
   "metadata": {},
   "outputs": [
    {
     "name": "stdout",
     "output_type": "stream",
     "text": [
      "min review wc: 0 max review wc: 2299\n"
     ]
    }
   ],
   "source": [
    "max_wc = df.review_body_wc.max()\n",
    "min_wc = df.review_body_wc.min()\n",
    "print(f\"min review wc: {min_wc} max review wc: {max_wc}\")"
   ]
  },
  {
   "cell_type": "markdown",
   "metadata": {},
   "source": [
    "## we need to strip reviews with 0 wc"
   ]
  },
  {
   "cell_type": "code",
   "execution_count": 57,
   "metadata": {},
   "outputs": [
    {
     "name": "stdout",
     "output_type": "stream",
     "text": [
      "7675 headline: [Hola!!]\n",
      "7675 body: []\n"
     ]
    }
   ],
   "source": [
    "# min review wc\n",
    "for index, row in df[(df[\"review_body_wc\"] == df.review_body_wc.min())].head(1).iterrows():\n",
    "    print(f'{index} headline: [{row[\"review_headline\"]}]')\n",
    "    print(f'{index} body: [{row[\"review_body\"]}]')\n"
   ]
  },
  {
   "cell_type": "code",
   "execution_count": 46,
   "metadata": {
    "scrolled": false
   },
   "outputs": [
    {
     "name": "stdout",
     "output_type": "stream",
     "text": [
      "7717 headline: [Decent for what you pay for. More reliable than what I expected.]\n",
      "7717 body: [First of all, I want to point out the following pros and cons. I actually bought mine from Best Buy because I wanted a decent dash-cam that I can return if I disliked it.<br /><br />Pros:<br />1. Cheap<br /><br />2. Not hard to install, and with the very long cable it can go anywhere. You can mount it traditionally on the front of your vehicle, or all the way to the very back of your rear windows. Whoever put this together put a lot of thought into the size of the vehicle of the customer. It's long enough where I was able to stuff it under my center armrest/storage (where carpet meets plastic), and it still had 2 to 3 more feet as it goes back up my rear seat to my rear window.<br /><br />3. Much better performance than I expected. I normally expected that half the time the camera will be offline due to some crappy memory card error, or software bug, or resetted back to some unreadable foreign language that most of these obscurely branded device manufacturers tend to have. But as long as you have a reliable connection to your cigarette lighter, you should be fine.<br /><br />4. Large recording capacity for its relatively low micro-SD card capacity that it came with: Out of a 8GB memory card that was included, I got more than an hour of recording, which completely embarrasses my front-mounted Abeo HDVR (my mirror-cam) that has similar performance and night/day quality, and yet can only record 2 hours while gobbling up all 32 GB of my regular SD card. At least, if securely connected, the H50 can film directly in front without suffering from heat issues (so far) or constant pause-records.<br /><br />5. The author of the manual speaks English. In fact, the manufacturers of the device all speak perfect English. The manual is clear and understandable, and there is little &#34;foreign terminology&#34; for everyday things you buy in the United States (TransFlash instead of MicroSD) If you mounted the device in the back like I did, I didn’t need to turn my head around to look for the green light to verify that it’s working. When you start your car, it will say “Have a safe drive today!”, followed up a few seconds later with… “Continuous recording begins now!”. The website was horrible however, and it took me hours of going through the support page before I realized that the avi converter is in the included microSD card.<br /><br />Cons:<br />1. One chance to &#34;get it right&#34; on the mounting. But I will admit, I shouldn’t have assumed that the manual was all-inclusive. And those adhesives that came originally on the plastic mount are ungodly strong. This was one incident that completely annoyed me as I was mounting the plastic mount onto my rear windows. My intent was to have a “car interior cam” that is still facing me, but can view a wider angle on the sides of my car as well as acting as a witness in the event of a car accident, by showing that I did everything I can to avoid crashing.<br /><br />However, the clear plastic mount only goes “one-way” (you won't be able to plug it in if you reverse the camera, without bending the power cord) and I never “test-mounted” the HD50 by making sure it was facing “the right way” before permanently mounting it. What ensued was a hilarious debacle of frustration as I pulled out a flathead screwdriver as soon as I got home to “pry” it off, causing the mount adhesive to rip off a portion of my rear window’s plastic tint along with it (about soda can sized). It didn’t matter to me though, my tint was falling off anyways. And if some idiot tailgater with those high-beams or HID things pull up really close, they can tell that I am recording them because I positioned it right over where there was no more tint.<br /><br />2. Uses its own proprietary format that must be converted using it's built-in format-to-avi conversion software, there is no online software version you can download. You must search for it inside the memory card's file folders, and hopefully make a backup of both the executable and the .dll file onto your PC. Also, and this happened to me at least once, but constantly fiddling with the settings and downloading your driving videos off of it will sometimes prompt your dashcam to force you to reformat it as soon as you plug it back in. You will lose everything else you didn’t save that was on the memory card. But from what I heard from Googling, it will also install the necessary software like the avi converter through the formatting.<br /><br />3. Requires a PC to change settings. Handling the micro-SD can be pretty tricky, especially since it’s a black one and if your car’s interior is also black. However, there is a micro-SD converter, two different types that you can use. A converter-to-USB 2.0/3.0 and a standard sized SD-card that you can slip it into the back and then plug it into your PC. Which are also black, so don't drop any of them. I am certain that changing settings using the PC software will force your camera to format it again.<br /><br />4. By default, a hyper-sensitive bump/event notification and you need to use the manufacturer’s software with the memory card plugged into your PC to make it stop. It’s a elevator chime-like sound, and it will get annoying pretty quick. Each time your car goes over a pothole, speed bump, ant carrying a pebble, or a relatively smooth up-and-down inclination it will do that “bong” noise.<br /><br />At first, I thought it was really funny how it was converting unpleasant noises into much nicer ones. But if you drive a stick like I do, and you had a slightly rough start from a red light, it’ll bong to that too. Even a downshift from 5th to 4th to overtake a grandma on the leftmost lane will make it go bong. Swerving around a accident occurring right in front of you, and it’ll bong to that.<br /><br />5. Does not have a internal battery. It requires a direct connection to your cigarette lighter port for it to work, or you can have someone hardwire it. It will make your rotation and usage of your OTHER car appliances a pain. For example, I have four “car-appliances” and two cigarette lighter “splitters”. I have a 2-outlet cable “Y-Splitter” that I bought from Amazon years ago, and then I have a three-outlet cigarette lighter splitter that I got from Autozone one day. My four appliances are: my Beltronics radar detector, my original Abeo HDVR mirror dash cam, my corny little red LED interior underglow light strips, and finally this Thinkware H50.<br /><br />What I realized was that your first two highest-power-draw appliances should be connected to your main cigarette lighter splitter. The consequences of it being, if your highest-draw accessories are through your second splitter, then it may suffer constant powering on-off symptoms.<br /><br />This should be both of your dash cams on the first two outlets, your Y-splitter on the third outlet, and then your less important accessories through that Y-splitter. For me, I was fairly frustrated at my original Abeo dash cam (constant freezing, completely unreliable operating under extended heat in Las Vegas), so I left the radar detector and Thinkware on the first two, and my old dash cam and crappy red underglow strips plugged into my Y-splitter.<br /><br />As far as hardwiring any of my car appliances goes. I don't really care for it. I have four non-standard devices, this being one of them, and I cannot foresee any of them operating in a long enough lifespan to require me to hardwire them to my fuse boxes, not to mention I was forced to remove and reinstall them several times depending I where I was going. Both of my cameras will see its end someday, i'm certain of it because it usually would malfunction within a year, although Thinkware appears to assure that due to its file format that it would prevent my memory card from degrading according to the manual (okay, what about heat, which killed my Abeo at one point?). Finally, local police in thearea are adapting to radar detector use, and I usually see them using Power-On Processing before they fire a regular beam to get the speed so I might switch that one out.<br /><br />And in some states my other accessories (radar detector & ricer interior lights) are actually illegal, so in long road trips I often was forced to remove those devices. And finally I am not yet convinced I would like to keep my lousy light strips.<br /><br />6. Horrible video quality at night. Picture is completely out of focus, oncoming headlights, streetlights, and traffic lights both blur and induce glare while the image is grainy with too much focus on artificial light sources. During the day it looks decent, but I doubt you could make out license plates even if you placed it on the front. If some idiot behind you has those high-beams and/or poorly adjusted HID systems at night, the entire image of your recording would take on the hue of that color. For example, blue/white riceboy lights will make the background kind of snowy, purple and green makes it kind of dark and red or cucumber-like. If you are stopped in traffic right under a street light, the background would range from somewhere between pee-yellow to snow-white. In my black car interior facing front, my head looked like it was floating on its own. And then as soon as it becomes a sunny day again everything looks great.<br /><br />7. Also it doesn't properly record audio, but sounds that occur less than a foot away will be exaggerated and extremely loud (like the event-warning bong), yet sound that’s about five-feet away (front seats, assuming you mounted the cam in the back) is extremely faint, even if you are yelling at someone FULL-BLAST (road rage).ces” and two cigarette lighter “splitters”. I have a 2-outlet cable “Y-Splitter” that I bought from Amazon years ago, and then I have a three-outlet cigarette lighter splitter that I got from Autozone one day. My four appliances are: my Beltronics radar detector, my original Abeo HDVR mirror dash cam, my corny little red LED interior underglow light strips, and finally this Thinkware H50.  What I realized was that your first two highest-power-draw appliances should be connected to your main cigarette lighter splitter. The consequences of it being, if your highest-draw accessories are through your second splitter, then it may suffer constant powering on-off symptoms.  This should be both of your dash cams on the first two outlets, your Y-splitter on the third outlet, and then your less important accessories through that Y-splitter. For me, I was fairly frustrated at my original Abeo dash cam (constant freezing, completely unreliable operating under extended heat in Las Vegas), so I left the radar detector and Thinkware on the first two, and my old dash cam and crappy red underglow strips plugged into my Y-splitter.   As far as hardwiring any of my car appliances goes. I don't really care for it. I have four non-standard devices, this being one of them, and I cannot foresee any of them operating in a long enough lifespan to require me to hardwire them to my fuse boxes, not to mention I was forced to remove and reinstall them several times depending I where I was going. Both of my cameras will see its end someday, i'm certain of it because it usually would malfunction within a year, although Thinkware appears to assure that due to its file format that it would prevent my memory card from degrading according to the manual (okay, what about heat, which killed my Abeo at one point?). Finally, local police in the area are adapting to radar detector use, and I usually see them using Power-On Processing before they fire a regular beam to get the speed so I might switch that one out.  And in some states my other accessories (radar detector & ricer interior lights) are actually illegal, so in long road trips I often was forced to remove those devices. And finally I am not yet convinced I would like to keep my lousy light strips.   6. Horrible video quality at night. Picture is completely out of focus, oncoming headlights, streetlights, and traffic lights both blur and induce glare while the image is grainy with too much focus on artificial light sources. During the day it looks decent, but I doubt you could make out license plates even if you placed it on the front. If some idiot behind you has those high-beams and/or poorly adjusted HID systems at night, the entire image of your recording would take on the hue of that color. For example, blue/white riceboy lights will make the background kind of snowy, purple and green makes it kind of dark and red or cucumber-like. If you are stopped in traffic right under a street light, the background would range from somewhere between pee-yellow to snow-white. In my black car interior facing front, my head looked like it was floating on its own. And then as soon as it becomes a sunny day again everything looks great.   7. Also it doesn't properly record audio, but sounds that occur less than a foot away will be exaggerated and extremely loud (like the event-warning bong), yet sound that’s about five-feet away (front seats, assuming you mounted the cam in the back) is extremely faint, even if you are yelling at someone FULL-BLAST (road rage).]\n"
     ]
    }
   ],
   "source": [
    "for index, row in df[(df[\"review_body_wc\"] == df.review_body_wc.max())].head(1).iterrows():\n",
    "    print(f'{index} headline: [{row[\"review_headline\"]}]')\n",
    "    print(f'{index} body: [{row[\"review_body\"]}]')\n"
   ]
  },
  {
   "cell_type": "markdown",
   "metadata": {},
   "source": [
    "## interesting find. We need to strip HTML newlines from the text\n",
    "## also need to strip numeric characters from reviews"
   ]
  },
  {
   "cell_type": "markdown",
   "metadata": {},
   "source": [
    "\n",
    "Looks like most 50% of reviews have 6 words or less\n",
    "\n",
    "At 75% percentile we start seeing reviews with 6+ words"
   ]
  },
  {
   "cell_type": "code",
   "execution_count": 47,
   "metadata": {},
   "outputs": [
    {
     "name": "stdout",
     "output_type": "stream",
     "text": [
      "count    326.000000\n",
      "mean      30.674847\n",
      "std       77.519576\n",
      "min        1.000000\n",
      "25%        1.000000\n",
      "50%        4.000000\n",
      "75%       16.750000\n",
      "max      725.000000\n",
      "dtype: float64\n"
     ]
    }
   ],
   "source": [
    "df = clean_df\n",
    "\n",
    "# now let's look at distribution of wc for review body\n",
    "df[\"review_body_wc\"] = df[\"review_body\"].apply(lambda x: len(x.split()))\n",
    "\n",
    "grouped = df.groupby(\"review_body_wc\")\n",
    "print(grouped.size().describe())"
   ]
  },
  {
   "cell_type": "code",
   "execution_count": 50,
   "metadata": {},
   "outputs": [
    {
     "data": {
      "text/plain": [
       "<matplotlib.axes._subplots.AxesSubplot at 0x11af7ef98>"
      ]
     },
     "execution_count": 50,
     "metadata": {},
     "output_type": "execute_result"
    },
    {
     "data": {
      "image/png": "[encoded data removed]",
      "text/plain": [
       "<Figure size 432x288 with 1 Axes>"
      ]
     },
     "metadata": {
      "needs_background": "light"
     },
     "output_type": "display_data"
    }
   ],
   "source": [
    "df.groupby(\"review_body_wc\").size().hist()"
   ]
  },
  {
   "cell_type": "code",
   "execution_count": 51,
   "metadata": {
    "scrolled": false
   },
   "outputs": [
    {
     "name": "stdout",
     "output_type": "stream",
     "text": [
      "0.0       0.0\n",
      "0.1       2.0\n",
      "0.2       5.0\n",
      "0.3       7.0\n",
      "0.4      11.0\n",
      "0.5      16.0\n",
      "0.6      23.0\n",
      "0.7      32.0\n",
      "0.8      47.0\n",
      "0.9      80.0\n",
      "1.0    2299.0\n",
      "Name: review_body_wc, dtype: float64\n"
     ]
    },
    {
     "data": {
      "text/html": [
       "<div>\n",
       "<style scoped>\n",
       "    .dataframe tbody tr th:only-of-type {\n",
       "        vertical-align: middle;\n",
       "    }\n",
       "\n",
       "    .dataframe tbody tr th {\n",
       "        vertical-align: top;\n",
       "    }\n",
       "\n",
       "    .dataframe thead th {\n",
       "        text-align: right;\n",
       "    }\n",
       "</style>\n",
       "<table border=\"1\" class=\"dataframe\">\n",
       "  <thead>\n",
       "    <tr style=\"text-align: right;\">\n",
       "      <th></th>\n",
       "      <th>customer_id</th>\n",
       "      <th>review_id</th>\n",
       "      <th>product_id</th>\n",
       "      <th>product_parent</th>\n",
       "      <th>product_title</th>\n",
       "      <th>product_category</th>\n",
       "      <th>star_rating</th>\n",
       "      <th>helpful_votes</th>\n",
       "      <th>total_votes</th>\n",
       "      <th>review_headline</th>\n",
       "      <th>review_body</th>\n",
       "      <th>review_date</th>\n",
       "      <th>month</th>\n",
       "      <th>day</th>\n",
       "      <th>review_headline_wc</th>\n",
       "      <th>review_body_wc</th>\n",
       "      <th>review_body_quantile</th>\n",
       "    </tr>\n",
       "  </thead>\n",
       "  <tbody>\n",
       "    <tr>\n",
       "      <th>0</th>\n",
       "      <td>16414143</td>\n",
       "      <td>R3W4P9UBGNGH1U</td>\n",
       "      <td>B00YL0EKWE</td>\n",
       "      <td>852431543</td>\n",
       "      <td>LG G4 Case Hard Transparent Slim Clear Cover f...</td>\n",
       "      <td>Wireless</td>\n",
       "      <td>2</td>\n",
       "      <td>1</td>\n",
       "      <td>3</td>\n",
       "      <td>Looks good, functions meh</td>\n",
       "      <td>2 issues  -  Once I turned on the circle apps ...</td>\n",
       "      <td>2015-08-31</td>\n",
       "      <td>8</td>\n",
       "      <td>0</td>\n",
       "      <td>4</td>\n",
       "      <td>74</td>\n",
       "      <td>(47.0, 80.0]</td>\n",
       "    </tr>\n",
       "    <tr>\n",
       "      <th>1</th>\n",
       "      <td>50800750</td>\n",
       "      <td>R15V54KBMTQWAY</td>\n",
       "      <td>B00XK95RPQ</td>\n",
       "      <td>516894650</td>\n",
       "      <td>Selfie Stick Fiblastiq&amp;trade; Extendable Wirel...</td>\n",
       "      <td>Wireless</td>\n",
       "      <td>4</td>\n",
       "      <td>0</td>\n",
       "      <td>0</td>\n",
       "      <td>A fun little gadget</td>\n",
       "      <td>I’m embarrassed to admit that until recently, ...</td>\n",
       "      <td>2015-08-31</td>\n",
       "      <td>8</td>\n",
       "      <td>0</td>\n",
       "      <td>4</td>\n",
       "      <td>318</td>\n",
       "      <td>(80.0, 2299.0]</td>\n",
       "    </tr>\n",
       "    <tr>\n",
       "      <th>2</th>\n",
       "      <td>15184378</td>\n",
       "      <td>RY8I449HNXSVF</td>\n",
       "      <td>B00SXRXUKO</td>\n",
       "      <td>984297154</td>\n",
       "      <td>Tribe AB40 Water Resistant Sports Armband with...</td>\n",
       "      <td>Wireless</td>\n",
       "      <td>5</td>\n",
       "      <td>0</td>\n",
       "      <td>0</td>\n",
       "      <td>Five Stars</td>\n",
       "      <td>Fits iPhone 6 well</td>\n",
       "      <td>2015-08-31</td>\n",
       "      <td>8</td>\n",
       "      <td>0</td>\n",
       "      <td>2</td>\n",
       "      <td>4</td>\n",
       "      <td>(2.0, 5.0]</td>\n",
       "    </tr>\n",
       "    <tr>\n",
       "      <th>3</th>\n",
       "      <td>10203548</td>\n",
       "      <td>R18TLJYCKJFLSR</td>\n",
       "      <td>B009V5X1CE</td>\n",
       "      <td>279912704</td>\n",
       "      <td>RAVPower® Element 10400mAh External Battery US...</td>\n",
       "      <td>Wireless</td>\n",
       "      <td>5</td>\n",
       "      <td>0</td>\n",
       "      <td>0</td>\n",
       "      <td>Great charger</td>\n",
       "      <td>Great charger.  I easily get 3+ charges on a S...</td>\n",
       "      <td>2015-08-31</td>\n",
       "      <td>8</td>\n",
       "      <td>0</td>\n",
       "      <td>2</td>\n",
       "      <td>23</td>\n",
       "      <td>(16.0, 23.0]</td>\n",
       "    </tr>\n",
       "    <tr>\n",
       "      <th>4</th>\n",
       "      <td>488280</td>\n",
       "      <td>R1NK26SWS53B8Q</td>\n",
       "      <td>B00D93OVF0</td>\n",
       "      <td>662791300</td>\n",
       "      <td>Fosmon Micro USB Value Pack Bundle for Samsung...</td>\n",
       "      <td>Wireless</td>\n",
       "      <td>5</td>\n",
       "      <td>0</td>\n",
       "      <td>0</td>\n",
       "      <td>Five Stars</td>\n",
       "      <td>Great for the price :-)</td>\n",
       "      <td>2015-08-31</td>\n",
       "      <td>8</td>\n",
       "      <td>0</td>\n",
       "      <td>2</td>\n",
       "      <td>5</td>\n",
       "      <td>(2.0, 5.0]</td>\n",
       "    </tr>\n",
       "  </tbody>\n",
       "</table>\n",
       "</div>"
      ],
      "text/plain": [
       "  customer_id       review_id  product_id product_parent  \\\n",
       "0    16414143  R3W4P9UBGNGH1U  B00YL0EKWE      852431543   \n",
       "1    50800750  R15V54KBMTQWAY  B00XK95RPQ      516894650   \n",
       "2    15184378   RY8I449HNXSVF  B00SXRXUKO      984297154   \n",
       "3    10203548  R18TLJYCKJFLSR  B009V5X1CE      279912704   \n",
       "4      488280  R1NK26SWS53B8Q  B00D93OVF0      662791300   \n",
       "\n",
       "                                       product_title product_category  \\\n",
       "0  LG G4 Case Hard Transparent Slim Clear Cover f...         Wireless   \n",
       "1  Selfie Stick Fiblastiq&trade; Extendable Wirel...         Wireless   \n",
       "2  Tribe AB40 Water Resistant Sports Armband with...         Wireless   \n",
       "3  RAVPower® Element 10400mAh External Battery US...         Wireless   \n",
       "4  Fosmon Micro USB Value Pack Bundle for Samsung...         Wireless   \n",
       "\n",
       "   star_rating  helpful_votes  total_votes            review_headline  \\\n",
       "0            2              1            3  Looks good, functions meh   \n",
       "1            4              0            0        A fun little gadget   \n",
       "2            5              0            0                 Five Stars   \n",
       "3            5              0            0              Great charger   \n",
       "4            5              0            0                 Five Stars   \n",
       "\n",
       "                                         review_body review_date  month  day  \\\n",
       "0  2 issues  -  Once I turned on the circle apps ...  2015-08-31      8    0   \n",
       "1  I’m embarrassed to admit that until recently, ...  2015-08-31      8    0   \n",
       "2                                 Fits iPhone 6 well  2015-08-31      8    0   \n",
       "3  Great charger.  I easily get 3+ charges on a S...  2015-08-31      8    0   \n",
       "4                            Great for the price :-)  2015-08-31      8    0   \n",
       "\n",
       "   review_headline_wc  review_body_wc review_body_quantile  \n",
       "0                   4              74         (47.0, 80.0]  \n",
       "1                   4             318       (80.0, 2299.0]  \n",
       "2                   2               4           (2.0, 5.0]  \n",
       "3                   2              23         (16.0, 23.0]  \n",
       "4                   2               5           (2.0, 5.0]  "
      ]
     },
     "execution_count": 51,
     "metadata": {},
     "output_type": "execute_result"
    }
   ],
   "source": [
    "# let's plot by quantile\n",
    "\n",
    "quantile_list = [0, .10, .20, .30, .40, .50, .60, .70, .80, .90, 1.]\n",
    "quantiles = df[\"review_body_wc\"].quantile(quantile_list)\n",
    "\n",
    "print(quantiles)\n",
    "\n",
    "df = df.assign(review_body_quantile=lambda x: pd.cut(x[\"review_body_wc\"], quantiles.array))\n",
    "df.head(5)"
   ]
  },
  {
   "cell_type": "code",
   "execution_count": 52,
   "metadata": {},
   "outputs": [
    {
     "data": {
      "text/plain": [
       "<matplotlib.axes._subplots.AxesSubplot at 0x11b839d68>"
      ]
     },
     "execution_count": 52,
     "metadata": {},
     "output_type": "execute_result"
    },
    {
     "data": {
      "image/png": "[encoded data removed]",
      "text/plain": [
       "<Figure size 432x288 with 1 Axes>"
      ]
     },
     "metadata": {
      "needs_background": "light"
     },
     "output_type": "display_data"
    }
   ],
   "source": [
    "df.groupby(\"review_body_quantile\").size().plot(kind='bar')"
   ]
  },
  {
   "cell_type": "code",
   "execution_count": 58,
   "metadata": {
    "scrolled": false
   },
   "outputs": [
    {
     "data": {
      "text/html": [
       "<div>\n",
       "<style scoped>\n",
       "    .dataframe tbody tr th:only-of-type {\n",
       "        vertical-align: middle;\n",
       "    }\n",
       "\n",
       "    .dataframe tbody tr th {\n",
       "        vertical-align: top;\n",
       "    }\n",
       "\n",
       "    .dataframe thead th {\n",
       "        text-align: right;\n",
       "    }\n",
       "</style>\n",
       "<table border=\"1\" class=\"dataframe\">\n",
       "  <thead>\n",
       "    <tr style=\"text-align: right;\">\n",
       "      <th></th>\n",
       "      <th>customer_id</th>\n",
       "      <th>review_id</th>\n",
       "      <th>product_id</th>\n",
       "      <th>product_parent</th>\n",
       "      <th>product_title</th>\n",
       "      <th>product_category</th>\n",
       "      <th>star_rating</th>\n",
       "      <th>helpful_votes</th>\n",
       "      <th>total_votes</th>\n",
       "      <th>review_headline</th>\n",
       "      <th>review_body</th>\n",
       "      <th>review_date</th>\n",
       "      <th>month</th>\n",
       "      <th>day</th>\n",
       "      <th>review_headline_wc</th>\n",
       "      <th>review_body_wc</th>\n",
       "      <th>review_body_quantile</th>\n",
       "      <th>review_body_fixed_bin</th>\n",
       "    </tr>\n",
       "  </thead>\n",
       "  <tbody>\n",
       "    <tr>\n",
       "      <th>0</th>\n",
       "      <td>16414143</td>\n",
       "      <td>R3W4P9UBGNGH1U</td>\n",
       "      <td>B00YL0EKWE</td>\n",
       "      <td>852431543</td>\n",
       "      <td>LG G4 Case Hard Transparent Slim Clear Cover f...</td>\n",
       "      <td>Wireless</td>\n",
       "      <td>2</td>\n",
       "      <td>1</td>\n",
       "      <td>3</td>\n",
       "      <td>Looks good, functions meh</td>\n",
       "      <td>2 issues  -  Once I turned on the circle apps ...</td>\n",
       "      <td>2015-08-31</td>\n",
       "      <td>8</td>\n",
       "      <td>0</td>\n",
       "      <td>4</td>\n",
       "      <td>74</td>\n",
       "      <td>(47.0, 80.0]</td>\n",
       "      <td>(0.0, 230.0]</td>\n",
       "    </tr>\n",
       "    <tr>\n",
       "      <th>1</th>\n",
       "      <td>50800750</td>\n",
       "      <td>R15V54KBMTQWAY</td>\n",
       "      <td>B00XK95RPQ</td>\n",
       "      <td>516894650</td>\n",
       "      <td>Selfie Stick Fiblastiq&amp;trade; Extendable Wirel...</td>\n",
       "      <td>Wireless</td>\n",
       "      <td>4</td>\n",
       "      <td>0</td>\n",
       "      <td>0</td>\n",
       "      <td>A fun little gadget</td>\n",
       "      <td>I’m embarrassed to admit that until recently, ...</td>\n",
       "      <td>2015-08-31</td>\n",
       "      <td>8</td>\n",
       "      <td>0</td>\n",
       "      <td>4</td>\n",
       "      <td>318</td>\n",
       "      <td>(80.0, 2299.0]</td>\n",
       "      <td>(230.0, 460.0]</td>\n",
       "    </tr>\n",
       "    <tr>\n",
       "      <th>2</th>\n",
       "      <td>15184378</td>\n",
       "      <td>RY8I449HNXSVF</td>\n",
       "      <td>B00SXRXUKO</td>\n",
       "      <td>984297154</td>\n",
       "      <td>Tribe AB40 Water Resistant Sports Armband with...</td>\n",
       "      <td>Wireless</td>\n",
       "      <td>5</td>\n",
       "      <td>0</td>\n",
       "      <td>0</td>\n",
       "      <td>Five Stars</td>\n",
       "      <td>Fits iPhone 6 well</td>\n",
       "      <td>2015-08-31</td>\n",
       "      <td>8</td>\n",
       "      <td>0</td>\n",
       "      <td>2</td>\n",
       "      <td>4</td>\n",
       "      <td>(2.0, 5.0]</td>\n",
       "      <td>(0.0, 230.0]</td>\n",
       "    </tr>\n",
       "    <tr>\n",
       "      <th>3</th>\n",
       "      <td>10203548</td>\n",
       "      <td>R18TLJYCKJFLSR</td>\n",
       "      <td>B009V5X1CE</td>\n",
       "      <td>279912704</td>\n",
       "      <td>RAVPower® Element 10400mAh External Battery US...</td>\n",
       "      <td>Wireless</td>\n",
       "      <td>5</td>\n",
       "      <td>0</td>\n",
       "      <td>0</td>\n",
       "      <td>Great charger</td>\n",
       "      <td>Great charger.  I easily get 3+ charges on a S...</td>\n",
       "      <td>2015-08-31</td>\n",
       "      <td>8</td>\n",
       "      <td>0</td>\n",
       "      <td>2</td>\n",
       "      <td>23</td>\n",
       "      <td>(16.0, 23.0]</td>\n",
       "      <td>(0.0, 230.0]</td>\n",
       "    </tr>\n",
       "    <tr>\n",
       "      <th>4</th>\n",
       "      <td>488280</td>\n",
       "      <td>R1NK26SWS53B8Q</td>\n",
       "      <td>B00D93OVF0</td>\n",
       "      <td>662791300</td>\n",
       "      <td>Fosmon Micro USB Value Pack Bundle for Samsung...</td>\n",
       "      <td>Wireless</td>\n",
       "      <td>5</td>\n",
       "      <td>0</td>\n",
       "      <td>0</td>\n",
       "      <td>Five Stars</td>\n",
       "      <td>Great for the price :-)</td>\n",
       "      <td>2015-08-31</td>\n",
       "      <td>8</td>\n",
       "      <td>0</td>\n",
       "      <td>2</td>\n",
       "      <td>5</td>\n",
       "      <td>(2.0, 5.0]</td>\n",
       "      <td>(0.0, 230.0]</td>\n",
       "    </tr>\n",
       "  </tbody>\n",
       "</table>\n",
       "</div>"
      ],
      "text/plain": [
       "  customer_id       review_id  product_id product_parent  \\\n",
       "0    16414143  R3W4P9UBGNGH1U  B00YL0EKWE      852431543   \n",
       "1    50800750  R15V54KBMTQWAY  B00XK95RPQ      516894650   \n",
       "2    15184378   RY8I449HNXSVF  B00SXRXUKO      984297154   \n",
       "3    10203548  R18TLJYCKJFLSR  B009V5X1CE      279912704   \n",
       "4      488280  R1NK26SWS53B8Q  B00D93OVF0      662791300   \n",
       "\n",
       "                                       product_title product_category  \\\n",
       "0  LG G4 Case Hard Transparent Slim Clear Cover f...         Wireless   \n",
       "1  Selfie Stick Fiblastiq&trade; Extendable Wirel...         Wireless   \n",
       "2  Tribe AB40 Water Resistant Sports Armband with...         Wireless   \n",
       "3  RAVPower® Element 10400mAh External Battery US...         Wireless   \n",
       "4  Fosmon Micro USB Value Pack Bundle for Samsung...         Wireless   \n",
       "\n",
       "   star_rating  helpful_votes  total_votes            review_headline  \\\n",
       "0            2              1            3  Looks good, functions meh   \n",
       "1            4              0            0        A fun little gadget   \n",
       "2            5              0            0                 Five Stars   \n",
       "3            5              0            0              Great charger   \n",
       "4            5              0            0                 Five Stars   \n",
       "\n",
       "                                         review_body review_date  month  day  \\\n",
       "0  2 issues  -  Once I turned on the circle apps ...  2015-08-31      8    0   \n",
       "1  I’m embarrassed to admit that until recently, ...  2015-08-31      8    0   \n",
       "2                                 Fits iPhone 6 well  2015-08-31      8    0   \n",
       "3  Great charger.  I easily get 3+ charges on a S...  2015-08-31      8    0   \n",
       "4                            Great for the price :-)  2015-08-31      8    0   \n",
       "\n",
       "   review_headline_wc  review_body_wc review_body_quantile  \\\n",
       "0                   4              74         (47.0, 80.0]   \n",
       "1                   4             318       (80.0, 2299.0]   \n",
       "2                   2               4           (2.0, 5.0]   \n",
       "3                   2              23         (16.0, 23.0]   \n",
       "4                   2               5           (2.0, 5.0]   \n",
       "\n",
       "  review_body_fixed_bin  \n",
       "0          (0.0, 230.0]  \n",
       "1        (230.0, 460.0]  \n",
       "2          (0.0, 230.0]  \n",
       "3          (0.0, 230.0]  \n",
       "4          (0.0, 230.0]  "
      ]
     },
     "execution_count": 58,
     "metadata": {},
     "output_type": "execute_result"
    }
   ],
   "source": [
    "# let's try fixed binning - 10 fixed bins\n",
    "max_wc = df.review_body_wc.max()\n",
    "\n",
    "\n",
    "fixed_bin = df.assign(review_body_fixed_bin=lambda x: pd.cut(x[\"review_body_wc\"], \n",
    "                       np.arange(0, max_wc, round(max_wc/10,0))))\n",
    "fixed_bin.head(5)"
   ]
  },
  {
   "cell_type": "code",
   "execution_count": 59,
   "metadata": {},
   "outputs": [
    {
     "data": {
      "text/plain": [
       "<matplotlib.axes._subplots.AxesSubplot at 0x11c4d59b0>"
      ]
     },
     "execution_count": 59,
     "metadata": {},
     "output_type": "execute_result"
    },
    {
     "data": {
      "image/png": "[encoded data removed]",
      "text/plain": [
       "<Figure size 432x288 with 1 Axes>"
      ]
     },
     "metadata": {
      "needs_background": "light"
     },
     "output_type": "display_data"
    }
   ],
   "source": [
    "fixed_bin.groupby(\"review_body_fixed_bin\").size().plot(kind='bar')"
   ]
  },
  {
   "cell_type": "markdown",
   "metadata": {},
   "source": [
    "# Conslusion\n",
    "\n",
    "looks like Yelp reviews tends to be more verbose than Amazon\n",
    "\n",
    "90% of Amazon reviews have ~80 words or less compared to yelp reviews which is around ~55%\n",
    "\n",
    "## Update - 4/25 - Pandas is having issues reading the lines correctly for Amazon reviews so I think some of this data is incorrect\n",
    "\n"
   ]
  },
  {
   "cell_type": "code",
   "execution_count": null,
   "metadata": {},
   "outputs": [],
   "source": []
  }
 ],
 "metadata": {
  "kernelspec": {
   "display_name": "Python 3",
   "language": "python",
   "name": "python3"
  },
  "language_info": {
   "codemirror_mode": {
    "name": "ipython",
    "version": 3
   },
   "file_extension": ".py",
   "mimetype": "text/x-python",
   "name": "python",
   "nbconvert_exporter": "python",
   "pygments_lexer": "ipython3",
   "version": "3.7.3"
  }
 },
 "nbformat": 4,
 "nbformat_minor": 2
}
