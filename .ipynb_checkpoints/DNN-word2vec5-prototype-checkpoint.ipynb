{
 "cells": [
  {
   "cell_type": "markdown",
   "metadata": {},
   "source": [
    "# DNN Prototype\n",
    "\n",
    "Trying out a 2 layer network using word2vec embedding. Embedding was creating with word_context == 5\n",
    "\n",
    "Network Architecture:\n",
    "\n",
    "Was having trouble coming up with guidelines for architecture starting point but I did find the following:\n",
    "\n",
    "\n",
    "* 2 hidden layers"
   ]
  },
  {
   "cell_type": "code",
   "execution_count": 1,
   "metadata": {},
   "outputs": [
    {
     "name": "stderr",
     "output_type": "stream",
     "text": [
      "Using TensorFlow backend.\n"
     ]
    }
   ],
   "source": [
    "from keras.models import Sequential\n",
    "from keras.layers import Dense, Activation, Dropout\n",
    "from keras.layers.normalization import BatchNormalization\n",
    "from keras.callbacks import EarlyStopping\n",
    "from keras.models import load_model\n",
    "from sklearn.model_selection import train_test_split\n",
    "from keras.optimizers import SGD\n",
    "from sklearn.preprocessing import OneHotEncoder\n",
    "import pandas as pd\n",
    "from IPython.display import SVG\n",
    "from keras.utils.vis_utils import model_to_dot\n",
    "from util import dict_util as du\n",
    "from util import file_util as fu\n",
    "from util import plot_util as pu\n",
    "import pickle\n",
    "from datetime import datetime\n",
    "from sklearn.metrics import confusion_matrix, classification_report"
   ]
  },
  {
   "cell_type": "code",
   "execution_count": 2,
   "metadata": {},
   "outputs": [],
   "source": [
    "DATE_FORMAT = '%Y-%m-%d'\n",
    "DATA_DIR = \"dataset/feature_files\"\n",
    "DATA_FILE = \"review_body-word2vec5-111909-512-nolda.csv\"\n",
    "MODEL_NAME = \"DNN_384_384\"\n",
    "FEATURE_COLUMN = \"star_rating\"\n",
    "directory, INBASENAME = fu.get_dir_basename(DATA_FILE)\n",
    "DESCRIPTION = f\"{INBASENAME}-nosmote-{MODEL_NAME}-{FEATURE_COLUMN}\"\n",
    "MODEL_FILE = f\"models/{datetime.now().strftime(DATE_FORMAT)}-{DESCRIPTION}.h5\"\n",
    "NETWORK_HISTORY_FILE = f'models/{datetime.now().strftime(DATE_FORMAT)}-{DESCRIPTION}-history.pkl'\n",
    "REPORT_FILE = f\"reports/{datetime.now().strftime(DATE_FORMAT)}-{DESCRIPTION}-report.csv\""
   ]
  },
  {
   "cell_type": "code",
   "execution_count": 3,
   "metadata": {
    "hide_input": false
   },
   "outputs": [],
   "source": [
    "df = pd.read_csv(f\"{DATA_DIR}/{DATA_FILE}\")\n",
    "rating = df[FEATURE_COLUMN]\n",
    "df = df.drop(columns=[\"helpful_votes\", \"total_votes\", \"helpful_product\", \"star_rating\"])"
   ]
  },
  {
   "cell_type": "code",
   "execution_count": 4,
   "metadata": {},
   "outputs": [
    {
     "data": {
      "text/html": [
       "<div>\n",
       "<style scoped>\n",
       "    .dataframe tbody tr th:only-of-type {\n",
       "        vertical-align: middle;\n",
       "    }\n",
       "\n",
       "    .dataframe tbody tr th {\n",
       "        vertical-align: top;\n",
       "    }\n",
       "\n",
       "    .dataframe thead th {\n",
       "        text-align: right;\n",
       "    }\n",
       "</style>\n",
       "<table border=\"1\" class=\"dataframe\">\n",
       "  <thead>\n",
       "    <tr style=\"text-align: right;\">\n",
       "      <th></th>\n",
       "      <th>0</th>\n",
       "      <th>1</th>\n",
       "      <th>2</th>\n",
       "      <th>3</th>\n",
       "      <th>4</th>\n",
       "      <th>5</th>\n",
       "      <th>6</th>\n",
       "      <th>7</th>\n",
       "      <th>8</th>\n",
       "      <th>9</th>\n",
       "      <th>...</th>\n",
       "      <th>502</th>\n",
       "      <th>503</th>\n",
       "      <th>504</th>\n",
       "      <th>505</th>\n",
       "      <th>506</th>\n",
       "      <th>507</th>\n",
       "      <th>508</th>\n",
       "      <th>509</th>\n",
       "      <th>510</th>\n",
       "      <th>511</th>\n",
       "    </tr>\n",
       "  </thead>\n",
       "  <tbody>\n",
       "    <tr>\n",
       "      <th>0</th>\n",
       "      <td>-0.288502</td>\n",
       "      <td>-0.481055</td>\n",
       "      <td>0.258424</td>\n",
       "      <td>0.362731</td>\n",
       "      <td>0.475364</td>\n",
       "      <td>0.421039</td>\n",
       "      <td>0.014504</td>\n",
       "      <td>0.213545</td>\n",
       "      <td>-0.390066</td>\n",
       "      <td>0.103808</td>\n",
       "      <td>...</td>\n",
       "      <td>0.193389</td>\n",
       "      <td>-0.345230</td>\n",
       "      <td>-0.041291</td>\n",
       "      <td>0.063343</td>\n",
       "      <td>-0.230869</td>\n",
       "      <td>-0.018990</td>\n",
       "      <td>-0.462915</td>\n",
       "      <td>-0.762691</td>\n",
       "      <td>0.271782</td>\n",
       "      <td>-0.653218</td>\n",
       "    </tr>\n",
       "    <tr>\n",
       "      <th>1</th>\n",
       "      <td>0.173821</td>\n",
       "      <td>-0.214929</td>\n",
       "      <td>-0.098004</td>\n",
       "      <td>0.432866</td>\n",
       "      <td>0.370673</td>\n",
       "      <td>0.000804</td>\n",
       "      <td>-0.735449</td>\n",
       "      <td>0.162931</td>\n",
       "      <td>0.113988</td>\n",
       "      <td>0.468011</td>\n",
       "      <td>...</td>\n",
       "      <td>0.133606</td>\n",
       "      <td>-0.374622</td>\n",
       "      <td>-0.360892</td>\n",
       "      <td>-0.394297</td>\n",
       "      <td>-0.168498</td>\n",
       "      <td>-0.262506</td>\n",
       "      <td>-0.958892</td>\n",
       "      <td>0.099089</td>\n",
       "      <td>0.487517</td>\n",
       "      <td>-0.307144</td>\n",
       "    </tr>\n",
       "    <tr>\n",
       "      <th>2</th>\n",
       "      <td>-0.257559</td>\n",
       "      <td>-0.065606</td>\n",
       "      <td>0.344815</td>\n",
       "      <td>0.411276</td>\n",
       "      <td>0.090839</td>\n",
       "      <td>0.738248</td>\n",
       "      <td>0.282006</td>\n",
       "      <td>0.331116</td>\n",
       "      <td>-0.213441</td>\n",
       "      <td>0.092032</td>\n",
       "      <td>...</td>\n",
       "      <td>0.273857</td>\n",
       "      <td>-0.094201</td>\n",
       "      <td>0.245259</td>\n",
       "      <td>0.438028</td>\n",
       "      <td>-0.413395</td>\n",
       "      <td>0.425271</td>\n",
       "      <td>-0.417884</td>\n",
       "      <td>-0.886485</td>\n",
       "      <td>0.458968</td>\n",
       "      <td>-0.380352</td>\n",
       "    </tr>\n",
       "    <tr>\n",
       "      <th>3</th>\n",
       "      <td>-0.023537</td>\n",
       "      <td>0.186004</td>\n",
       "      <td>-0.018319</td>\n",
       "      <td>0.046002</td>\n",
       "      <td>0.285380</td>\n",
       "      <td>0.824158</td>\n",
       "      <td>0.240865</td>\n",
       "      <td>0.177934</td>\n",
       "      <td>-0.293685</td>\n",
       "      <td>0.369762</td>\n",
       "      <td>...</td>\n",
       "      <td>0.076834</td>\n",
       "      <td>0.171872</td>\n",
       "      <td>0.258420</td>\n",
       "      <td>0.169574</td>\n",
       "      <td>-0.280809</td>\n",
       "      <td>0.322120</td>\n",
       "      <td>-0.102916</td>\n",
       "      <td>-0.606135</td>\n",
       "      <td>0.186568</td>\n",
       "      <td>-0.477317</td>\n",
       "    </tr>\n",
       "    <tr>\n",
       "      <th>4</th>\n",
       "      <td>-0.832218</td>\n",
       "      <td>0.451893</td>\n",
       "      <td>0.474038</td>\n",
       "      <td>-0.018249</td>\n",
       "      <td>-0.478648</td>\n",
       "      <td>0.178108</td>\n",
       "      <td>-0.472869</td>\n",
       "      <td>-0.532138</td>\n",
       "      <td>-0.491469</td>\n",
       "      <td>-0.466011</td>\n",
       "      <td>...</td>\n",
       "      <td>0.594541</td>\n",
       "      <td>-0.302686</td>\n",
       "      <td>-0.511276</td>\n",
       "      <td>-0.590193</td>\n",
       "      <td>0.299716</td>\n",
       "      <td>-0.181081</td>\n",
       "      <td>-0.436865</td>\n",
       "      <td>0.996631</td>\n",
       "      <td>0.330113</td>\n",
       "      <td>-0.327735</td>\n",
       "    </tr>\n",
       "  </tbody>\n",
       "</table>\n",
       "<p>5 rows × 512 columns</p>\n",
       "</div>"
      ],
      "text/plain": [
       "          0         1         2         3         4         5         6  \\\n",
       "0 -0.288502 -0.481055  0.258424  0.362731  0.475364  0.421039  0.014504   \n",
       "1  0.173821 -0.214929 -0.098004  0.432866  0.370673  0.000804 -0.735449   \n",
       "2 -0.257559 -0.065606  0.344815  0.411276  0.090839  0.738248  0.282006   \n",
       "3 -0.023537  0.186004 -0.018319  0.046002  0.285380  0.824158  0.240865   \n",
       "4 -0.832218  0.451893  0.474038 -0.018249 -0.478648  0.178108 -0.472869   \n",
       "\n",
       "          7         8         9  ...       502       503       504       505  \\\n",
       "0  0.213545 -0.390066  0.103808  ...  0.193389 -0.345230 -0.041291  0.063343   \n",
       "1  0.162931  0.113988  0.468011  ...  0.133606 -0.374622 -0.360892 -0.394297   \n",
       "2  0.331116 -0.213441  0.092032  ...  0.273857 -0.094201  0.245259  0.438028   \n",
       "3  0.177934 -0.293685  0.369762  ...  0.076834  0.171872  0.258420  0.169574   \n",
       "4 -0.532138 -0.491469 -0.466011  ...  0.594541 -0.302686 -0.511276 -0.590193   \n",
       "\n",
       "        506       507       508       509       510       511  \n",
       "0 -0.230869 -0.018990 -0.462915 -0.762691  0.271782 -0.653218  \n",
       "1 -0.168498 -0.262506 -0.958892  0.099089  0.487517 -0.307144  \n",
       "2 -0.413395  0.425271 -0.417884 -0.886485  0.458968 -0.380352  \n",
       "3 -0.280809  0.322120 -0.102916 -0.606135  0.186568 -0.477317  \n",
       "4  0.299716 -0.181081 -0.436865  0.996631  0.330113 -0.327735  \n",
       "\n",
       "[5 rows x 512 columns]"
      ]
     },
     "execution_count": 4,
     "metadata": {},
     "output_type": "execute_result"
    }
   ],
   "source": [
    "df.head()"
   ]
  },
  {
   "cell_type": "code",
   "execution_count": 5,
   "metadata": {},
   "outputs": [
    {
     "data": {
      "text/plain": [
       "0    5\n",
       "1    5\n",
       "2    5\n",
       "3    5\n",
       "4    3\n",
       "Name: star_rating, dtype: int64"
      ]
     },
     "execution_count": 5,
     "metadata": {},
     "output_type": "execute_result"
    }
   ],
   "source": [
    "rating.head()"
   ]
  },
  {
   "cell_type": "code",
   "execution_count": 6,
   "metadata": {},
   "outputs": [
    {
     "name": "stdout",
     "output_type": "stream",
     "text": [
      "WARNING:tensorflow:From /Users/vinceluk/anaconda3/envs/capstone/lib/python3.7/site-packages/tensorflow/python/framework/op_def_library.py:263: colocate_with (from tensorflow.python.framework.ops) is deprecated and will be removed in a future version.\n",
      "Instructions for updating:\n",
      "Colocations handled automatically by placer.\n",
      "WARNING:tensorflow:From /Users/vinceluk/anaconda3/envs/capstone/lib/python3.7/site-packages/keras/backend/tensorflow_backend.py:3445: calling dropout (from tensorflow.python.ops.nn_ops) with keep_prob is deprecated and will be removed in a future version.\n",
      "Instructions for updating:\n",
      "Please use `rate` instead of `keep_prob`. Rate should be set to `rate = 1 - keep_prob`.\n"
     ]
    }
   ],
   "source": [
    "model = Sequential()\n",
    "\n",
    "model.add(Dense(384, input_shape=(df.shape[1],), kernel_initializer='glorot_uniform'))\n",
    "model.add(BatchNormalization())\n",
    "model.add(Activation('relu'))\n",
    "model.add(Dropout(0.2))\n",
    "\n",
    "model.add(Dense(384, kernel_initializer='glorot_uniform'))\n",
    "model.add(BatchNormalization())\n",
    "model.add(Activation('relu'))\n",
    "model.add(Dropout(0.2))\n",
    "\n",
    "model.add(Dense(5, activation='relu'))\n",
    "model.add(Activation('softmax'))\n",
    "model.compile(optimizer=SGD(), loss='categorical_crossentropy', metrics=['accuracy'])"
   ]
  },
  {
   "cell_type": "code",
   "execution_count": 7,
   "metadata": {},
   "outputs": [
    {
     "name": "stdout",
     "output_type": "stream",
     "text": [
      "_________________________________________________________________\n",
      "Layer (type)                 Output Shape              Param #   \n",
      "=================================================================\n",
      "dense_1 (Dense)              (None, 384)               196992    \n",
      "_________________________________________________________________\n",
      "batch_normalization_1 (Batch (None, 384)               1536      \n",
      "_________________________________________________________________\n",
      "activation_1 (Activation)    (None, 384)               0         \n",
      "_________________________________________________________________\n",
      "dropout_1 (Dropout)          (None, 384)               0         \n",
      "_________________________________________________________________\n",
      "dense_2 (Dense)              (None, 384)               147840    \n",
      "_________________________________________________________________\n",
      "batch_normalization_2 (Batch (None, 384)               1536      \n",
      "_________________________________________________________________\n",
      "activation_2 (Activation)    (None, 384)               0         \n",
      "_________________________________________________________________\n",
      "dropout_2 (Dropout)          (None, 384)               0         \n",
      "_________________________________________________________________\n",
      "dense_3 (Dense)              (None, 5)                 1925      \n",
      "_________________________________________________________________\n",
      "activation_3 (Activation)    (None, 5)                 0         \n",
      "=================================================================\n",
      "Total params: 349,829\n",
      "Trainable params: 348,293\n",
      "Non-trainable params: 1,536\n",
      "_________________________________________________________________\n",
      "None\n"
     ]
    }
   ],
   "source": [
    "print(model.summary())"
   ]
  },
  {
   "cell_type": "code",
   "execution_count": 8,
   "metadata": {},
   "outputs": [
    {
     "data": {
      "image/svg+xml": [
       "<svg height=\"875pt\" viewBox=\"0.00 0.00 278.00 875.00\" width=\"278pt\" xmlns=\"http://www.w3.org/2000/svg\" xmlns:xlink=\"http://www.w3.org/1999/xlink\">\n",
       "<g class=\"graph\" id=\"graph0\" transform=\"scale(1 1) rotate(0) translate(4 871)\">\n",
       "<title>G</title>\n",
       "<polygon fill=\"#ffffff\" points=\"-4,4 -4,-871 274,-871 274,4 -4,4\" stroke=\"transparent\"/>\n",
       "<!-- 4411482064 -->\n",
       "<g class=\"node\" id=\"node1\">\n",
       "<title>4411482064</title>\n",
       "<polygon fill=\"none\" points=\"39.5,-747.5 39.5,-793.5 230.5,-793.5 230.5,-747.5 39.5,-747.5\" stroke=\"#000000\"/>\n",
       "<text fill=\"#000000\" font-family=\"Times,serif\" font-size=\"14.00\" text-anchor=\"middle\" x=\"65\" y=\"-766.8\">Dense</text>\n",
       "<polyline fill=\"none\" points=\"90.5,-747.5 90.5,-793.5 \" stroke=\"#000000\"/>\n",
       "<text fill=\"#000000\" font-family=\"Times,serif\" font-size=\"14.00\" text-anchor=\"middle\" x=\"118.5\" y=\"-778.3\">input:</text>\n",
       "<polyline fill=\"none\" points=\"90.5,-770.5 146.5,-770.5 \" stroke=\"#000000\"/>\n",
       "<text fill=\"#000000\" font-family=\"Times,serif\" font-size=\"14.00\" text-anchor=\"middle\" x=\"118.5\" y=\"-755.3\">output:</text>\n",
       "<polyline fill=\"none\" points=\"146.5,-747.5 146.5,-793.5 \" stroke=\"#000000\"/>\n",
       "<text fill=\"#000000\" font-family=\"Times,serif\" font-size=\"14.00\" text-anchor=\"middle\" x=\"188.5\" y=\"-778.3\">(None, 512)</text>\n",
       "<polyline fill=\"none\" points=\"146.5,-770.5 230.5,-770.5 \" stroke=\"#000000\"/>\n",
       "<text fill=\"#000000\" font-family=\"Times,serif\" font-size=\"14.00\" text-anchor=\"middle\" x=\"188.5\" y=\"-755.3\">(None, 384)</text>\n",
       "</g>\n",
       "<!-- 4411481728 -->\n",
       "<g class=\"node\" id=\"node2\">\n",
       "<title>4411481728</title>\n",
       "<polygon fill=\"none\" points=\"0,-664.5 0,-710.5 270,-710.5 270,-664.5 0,-664.5\" stroke=\"#000000\"/>\n",
       "<text fill=\"#000000\" font-family=\"Times,serif\" font-size=\"14.00\" text-anchor=\"middle\" x=\"65\" y=\"-683.8\">BatchNormalization</text>\n",
       "<polyline fill=\"none\" points=\"130,-664.5 130,-710.5 \" stroke=\"#000000\"/>\n",
       "<text fill=\"#000000\" font-family=\"Times,serif\" font-size=\"14.00\" text-anchor=\"middle\" x=\"158\" y=\"-695.3\">input:</text>\n",
       "<polyline fill=\"none\" points=\"130,-687.5 186,-687.5 \" stroke=\"#000000\"/>\n",
       "<text fill=\"#000000\" font-family=\"Times,serif\" font-size=\"14.00\" text-anchor=\"middle\" x=\"158\" y=\"-672.3\">output:</text>\n",
       "<polyline fill=\"none\" points=\"186,-664.5 186,-710.5 \" stroke=\"#000000\"/>\n",
       "<text fill=\"#000000\" font-family=\"Times,serif\" font-size=\"14.00\" text-anchor=\"middle\" x=\"228\" y=\"-695.3\">(None, 384)</text>\n",
       "<polyline fill=\"none\" points=\"186,-687.5 270,-687.5 \" stroke=\"#000000\"/>\n",
       "<text fill=\"#000000\" font-family=\"Times,serif\" font-size=\"14.00\" text-anchor=\"middle\" x=\"228\" y=\"-672.3\">(None, 384)</text>\n",
       "</g>\n",
       "<!-- 4411482064&#45;&gt;4411481728 -->\n",
       "<g class=\"edge\" id=\"edge2\">\n",
       "<title>4411482064-&gt;4411481728</title>\n",
       "<path d=\"M135,-747.3799C135,-739.1745 135,-729.7679 135,-720.8786\" fill=\"none\" stroke=\"#000000\"/>\n",
       "<polygon fill=\"#000000\" points=\"138.5001,-720.784 135,-710.784 131.5001,-720.784 138.5001,-720.784\" stroke=\"#000000\"/>\n",
       "</g>\n",
       "<!-- 4392815864 -->\n",
       "<g class=\"node\" id=\"node3\">\n",
       "<title>4392815864</title>\n",
       "<polygon fill=\"none\" points=\"27,-581.5 27,-627.5 243,-627.5 243,-581.5 27,-581.5\" stroke=\"#000000\"/>\n",
       "<text fill=\"#000000\" font-family=\"Times,serif\" font-size=\"14.00\" text-anchor=\"middle\" x=\"65\" y=\"-600.8\">Activation</text>\n",
       "<polyline fill=\"none\" points=\"103,-581.5 103,-627.5 \" stroke=\"#000000\"/>\n",
       "<text fill=\"#000000\" font-family=\"Times,serif\" font-size=\"14.00\" text-anchor=\"middle\" x=\"131\" y=\"-612.3\">input:</text>\n",
       "<polyline fill=\"none\" points=\"103,-604.5 159,-604.5 \" stroke=\"#000000\"/>\n",
       "<text fill=\"#000000\" font-family=\"Times,serif\" font-size=\"14.00\" text-anchor=\"middle\" x=\"131\" y=\"-589.3\">output:</text>\n",
       "<polyline fill=\"none\" points=\"159,-581.5 159,-627.5 \" stroke=\"#000000\"/>\n",
       "<text fill=\"#000000\" font-family=\"Times,serif\" font-size=\"14.00\" text-anchor=\"middle\" x=\"201\" y=\"-612.3\">(None, 384)</text>\n",
       "<polyline fill=\"none\" points=\"159,-604.5 243,-604.5 \" stroke=\"#000000\"/>\n",
       "<text fill=\"#000000\" font-family=\"Times,serif\" font-size=\"14.00\" text-anchor=\"middle\" x=\"201\" y=\"-589.3\">(None, 384)</text>\n",
       "</g>\n",
       "<!-- 4411481728&#45;&gt;4392815864 -->\n",
       "<g class=\"edge\" id=\"edge3\">\n",
       "<title>4411481728-&gt;4392815864</title>\n",
       "<path d=\"M135,-664.3799C135,-656.1745 135,-646.7679 135,-637.8786\" fill=\"none\" stroke=\"#000000\"/>\n",
       "<polygon fill=\"#000000\" points=\"138.5001,-637.784 135,-627.784 131.5001,-637.784 138.5001,-637.784\" stroke=\"#000000\"/>\n",
       "</g>\n",
       "<!-- 4392815360 -->\n",
       "<g class=\"node\" id=\"node4\">\n",
       "<title>4392815360</title>\n",
       "<polygon fill=\"none\" points=\"33.5,-498.5 33.5,-544.5 236.5,-544.5 236.5,-498.5 33.5,-498.5\" stroke=\"#000000\"/>\n",
       "<text fill=\"#000000\" font-family=\"Times,serif\" font-size=\"14.00\" text-anchor=\"middle\" x=\"65\" y=\"-517.8\">Dropout</text>\n",
       "<polyline fill=\"none\" points=\"96.5,-498.5 96.5,-544.5 \" stroke=\"#000000\"/>\n",
       "<text fill=\"#000000\" font-family=\"Times,serif\" font-size=\"14.00\" text-anchor=\"middle\" x=\"124.5\" y=\"-529.3\">input:</text>\n",
       "<polyline fill=\"none\" points=\"96.5,-521.5 152.5,-521.5 \" stroke=\"#000000\"/>\n",
       "<text fill=\"#000000\" font-family=\"Times,serif\" font-size=\"14.00\" text-anchor=\"middle\" x=\"124.5\" y=\"-506.3\">output:</text>\n",
       "<polyline fill=\"none\" points=\"152.5,-498.5 152.5,-544.5 \" stroke=\"#000000\"/>\n",
       "<text fill=\"#000000\" font-family=\"Times,serif\" font-size=\"14.00\" text-anchor=\"middle\" x=\"194.5\" y=\"-529.3\">(None, 384)</text>\n",
       "<polyline fill=\"none\" points=\"152.5,-521.5 236.5,-521.5 \" stroke=\"#000000\"/>\n",
       "<text fill=\"#000000\" font-family=\"Times,serif\" font-size=\"14.00\" text-anchor=\"middle\" x=\"194.5\" y=\"-506.3\">(None, 384)</text>\n",
       "</g>\n",
       "<!-- 4392815864&#45;&gt;4392815360 -->\n",
       "<g class=\"edge\" id=\"edge4\">\n",
       "<title>4392815864-&gt;4392815360</title>\n",
       "<path d=\"M135,-581.3799C135,-573.1745 135,-563.7679 135,-554.8786\" fill=\"none\" stroke=\"#000000\"/>\n",
       "<polygon fill=\"#000000\" points=\"138.5001,-554.784 135,-544.784 131.5001,-554.784 138.5001,-554.784\" stroke=\"#000000\"/>\n",
       "</g>\n",
       "<!-- 4392815248 -->\n",
       "<g class=\"node\" id=\"node5\">\n",
       "<title>4392815248</title>\n",
       "<polygon fill=\"none\" points=\"39.5,-415.5 39.5,-461.5 230.5,-461.5 230.5,-415.5 39.5,-415.5\" stroke=\"#000000\"/>\n",
       "<text fill=\"#000000\" font-family=\"Times,serif\" font-size=\"14.00\" text-anchor=\"middle\" x=\"65\" y=\"-434.8\">Dense</text>\n",
       "<polyline fill=\"none\" points=\"90.5,-415.5 90.5,-461.5 \" stroke=\"#000000\"/>\n",
       "<text fill=\"#000000\" font-family=\"Times,serif\" font-size=\"14.00\" text-anchor=\"middle\" x=\"118.5\" y=\"-446.3\">input:</text>\n",
       "<polyline fill=\"none\" points=\"90.5,-438.5 146.5,-438.5 \" stroke=\"#000000\"/>\n",
       "<text fill=\"#000000\" font-family=\"Times,serif\" font-size=\"14.00\" text-anchor=\"middle\" x=\"118.5\" y=\"-423.3\">output:</text>\n",
       "<polyline fill=\"none\" points=\"146.5,-415.5 146.5,-461.5 \" stroke=\"#000000\"/>\n",
       "<text fill=\"#000000\" font-family=\"Times,serif\" font-size=\"14.00\" text-anchor=\"middle\" x=\"188.5\" y=\"-446.3\">(None, 384)</text>\n",
       "<polyline fill=\"none\" points=\"146.5,-438.5 230.5,-438.5 \" stroke=\"#000000\"/>\n",
       "<text fill=\"#000000\" font-family=\"Times,serif\" font-size=\"14.00\" text-anchor=\"middle\" x=\"188.5\" y=\"-423.3\">(None, 384)</text>\n",
       "</g>\n",
       "<!-- 4392815360&#45;&gt;4392815248 -->\n",
       "<g class=\"edge\" id=\"edge5\">\n",
       "<title>4392815360-&gt;4392815248</title>\n",
       "<path d=\"M135,-498.3799C135,-490.1745 135,-480.7679 135,-471.8786\" fill=\"none\" stroke=\"#000000\"/>\n",
       "<polygon fill=\"#000000\" points=\"138.5001,-471.784 135,-461.784 131.5001,-471.784 138.5001,-471.784\" stroke=\"#000000\"/>\n",
       "</g>\n",
       "<!-- 112574852064 -->\n",
       "<g class=\"node\" id=\"node6\">\n",
       "<title>112574852064</title>\n",
       "<polygon fill=\"none\" points=\"0,-332.5 0,-378.5 270,-378.5 270,-332.5 0,-332.5\" stroke=\"#000000\"/>\n",
       "<text fill=\"#000000\" font-family=\"Times,serif\" font-size=\"14.00\" text-anchor=\"middle\" x=\"65\" y=\"-351.8\">BatchNormalization</text>\n",
       "<polyline fill=\"none\" points=\"130,-332.5 130,-378.5 \" stroke=\"#000000\"/>\n",
       "<text fill=\"#000000\" font-family=\"Times,serif\" font-size=\"14.00\" text-anchor=\"middle\" x=\"158\" y=\"-363.3\">input:</text>\n",
       "<polyline fill=\"none\" points=\"130,-355.5 186,-355.5 \" stroke=\"#000000\"/>\n",
       "<text fill=\"#000000\" font-family=\"Times,serif\" font-size=\"14.00\" text-anchor=\"middle\" x=\"158\" y=\"-340.3\">output:</text>\n",
       "<polyline fill=\"none\" points=\"186,-332.5 186,-378.5 \" stroke=\"#000000\"/>\n",
       "<text fill=\"#000000\" font-family=\"Times,serif\" font-size=\"14.00\" text-anchor=\"middle\" x=\"228\" y=\"-363.3\">(None, 384)</text>\n",
       "<polyline fill=\"none\" points=\"186,-355.5 270,-355.5 \" stroke=\"#000000\"/>\n",
       "<text fill=\"#000000\" font-family=\"Times,serif\" font-size=\"14.00\" text-anchor=\"middle\" x=\"228\" y=\"-340.3\">(None, 384)</text>\n",
       "</g>\n",
       "<!-- 4392815248&#45;&gt;112574852064 -->\n",
       "<g class=\"edge\" id=\"edge6\">\n",
       "<title>4392815248-&gt;112574852064</title>\n",
       "<path d=\"M135,-415.3799C135,-407.1745 135,-397.7679 135,-388.8786\" fill=\"none\" stroke=\"#000000\"/>\n",
       "<polygon fill=\"#000000\" points=\"138.5001,-388.784 135,-378.784 131.5001,-388.784 138.5001,-388.784\" stroke=\"#000000\"/>\n",
       "</g>\n",
       "<!-- 112590538568 -->\n",
       "<g class=\"node\" id=\"node7\">\n",
       "<title>112590538568</title>\n",
       "<polygon fill=\"none\" points=\"27,-249.5 27,-295.5 243,-295.5 243,-249.5 27,-249.5\" stroke=\"#000000\"/>\n",
       "<text fill=\"#000000\" font-family=\"Times,serif\" font-size=\"14.00\" text-anchor=\"middle\" x=\"65\" y=\"-268.8\">Activation</text>\n",
       "<polyline fill=\"none\" points=\"103,-249.5 103,-295.5 \" stroke=\"#000000\"/>\n",
       "<text fill=\"#000000\" font-family=\"Times,serif\" font-size=\"14.00\" text-anchor=\"middle\" x=\"131\" y=\"-280.3\">input:</text>\n",
       "<polyline fill=\"none\" points=\"103,-272.5 159,-272.5 \" stroke=\"#000000\"/>\n",
       "<text fill=\"#000000\" font-family=\"Times,serif\" font-size=\"14.00\" text-anchor=\"middle\" x=\"131\" y=\"-257.3\">output:</text>\n",
       "<polyline fill=\"none\" points=\"159,-249.5 159,-295.5 \" stroke=\"#000000\"/>\n",
       "<text fill=\"#000000\" font-family=\"Times,serif\" font-size=\"14.00\" text-anchor=\"middle\" x=\"201\" y=\"-280.3\">(None, 384)</text>\n",
       "<polyline fill=\"none\" points=\"159,-272.5 243,-272.5 \" stroke=\"#000000\"/>\n",
       "<text fill=\"#000000\" font-family=\"Times,serif\" font-size=\"14.00\" text-anchor=\"middle\" x=\"201\" y=\"-257.3\">(None, 384)</text>\n",
       "</g>\n",
       "<!-- 112574852064&#45;&gt;112590538568 -->\n",
       "<g class=\"edge\" id=\"edge7\">\n",
       "<title>112574852064-&gt;112590538568</title>\n",
       "<path d=\"M135,-332.3799C135,-324.1745 135,-314.7679 135,-305.8786\" fill=\"none\" stroke=\"#000000\"/>\n",
       "<polygon fill=\"#000000\" points=\"138.5001,-305.784 135,-295.784 131.5001,-305.784 138.5001,-305.784\" stroke=\"#000000\"/>\n",
       "</g>\n",
       "<!-- 4368713936 -->\n",
       "<g class=\"node\" id=\"node8\">\n",
       "<title>4368713936</title>\n",
       "<polygon fill=\"none\" points=\"33.5,-166.5 33.5,-212.5 236.5,-212.5 236.5,-166.5 33.5,-166.5\" stroke=\"#000000\"/>\n",
       "<text fill=\"#000000\" font-family=\"Times,serif\" font-size=\"14.00\" text-anchor=\"middle\" x=\"65\" y=\"-185.8\">Dropout</text>\n",
       "<polyline fill=\"none\" points=\"96.5,-166.5 96.5,-212.5 \" stroke=\"#000000\"/>\n",
       "<text fill=\"#000000\" font-family=\"Times,serif\" font-size=\"14.00\" text-anchor=\"middle\" x=\"124.5\" y=\"-197.3\">input:</text>\n",
       "<polyline fill=\"none\" points=\"96.5,-189.5 152.5,-189.5 \" stroke=\"#000000\"/>\n",
       "<text fill=\"#000000\" font-family=\"Times,serif\" font-size=\"14.00\" text-anchor=\"middle\" x=\"124.5\" y=\"-174.3\">output:</text>\n",
       "<polyline fill=\"none\" points=\"152.5,-166.5 152.5,-212.5 \" stroke=\"#000000\"/>\n",
       "<text fill=\"#000000\" font-family=\"Times,serif\" font-size=\"14.00\" text-anchor=\"middle\" x=\"194.5\" y=\"-197.3\">(None, 384)</text>\n",
       "<polyline fill=\"none\" points=\"152.5,-189.5 236.5,-189.5 \" stroke=\"#000000\"/>\n",
       "<text fill=\"#000000\" font-family=\"Times,serif\" font-size=\"14.00\" text-anchor=\"middle\" x=\"194.5\" y=\"-174.3\">(None, 384)</text>\n",
       "</g>\n",
       "<!-- 112590538568&#45;&gt;4368713936 -->\n",
       "<g class=\"edge\" id=\"edge8\">\n",
       "<title>112590538568-&gt;4368713936</title>\n",
       "<path d=\"M135,-249.3799C135,-241.1745 135,-231.7679 135,-222.8786\" fill=\"none\" stroke=\"#000000\"/>\n",
       "<polygon fill=\"#000000\" points=\"138.5001,-222.784 135,-212.784 131.5001,-222.784 138.5001,-222.784\" stroke=\"#000000\"/>\n",
       "</g>\n",
       "<!-- 4368715728 -->\n",
       "<g class=\"node\" id=\"node9\">\n",
       "<title>4368715728</title>\n",
       "<polygon fill=\"none\" points=\"39.5,-83.5 39.5,-129.5 230.5,-129.5 230.5,-83.5 39.5,-83.5\" stroke=\"#000000\"/>\n",
       "<text fill=\"#000000\" font-family=\"Times,serif\" font-size=\"14.00\" text-anchor=\"middle\" x=\"65\" y=\"-102.8\">Dense</text>\n",
       "<polyline fill=\"none\" points=\"90.5,-83.5 90.5,-129.5 \" stroke=\"#000000\"/>\n",
       "<text fill=\"#000000\" font-family=\"Times,serif\" font-size=\"14.00\" text-anchor=\"middle\" x=\"118.5\" y=\"-114.3\">input:</text>\n",
       "<polyline fill=\"none\" points=\"90.5,-106.5 146.5,-106.5 \" stroke=\"#000000\"/>\n",
       "<text fill=\"#000000\" font-family=\"Times,serif\" font-size=\"14.00\" text-anchor=\"middle\" x=\"118.5\" y=\"-91.3\">output:</text>\n",
       "<polyline fill=\"none\" points=\"146.5,-83.5 146.5,-129.5 \" stroke=\"#000000\"/>\n",
       "<text fill=\"#000000\" font-family=\"Times,serif\" font-size=\"14.00\" text-anchor=\"middle\" x=\"188.5\" y=\"-114.3\">(None, 384)</text>\n",
       "<polyline fill=\"none\" points=\"146.5,-106.5 230.5,-106.5 \" stroke=\"#000000\"/>\n",
       "<text fill=\"#000000\" font-family=\"Times,serif\" font-size=\"14.00\" text-anchor=\"middle\" x=\"188.5\" y=\"-91.3\">(None, 5)</text>\n",
       "</g>\n",
       "<!-- 4368713936&#45;&gt;4368715728 -->\n",
       "<g class=\"edge\" id=\"edge9\">\n",
       "<title>4368713936-&gt;4368715728</title>\n",
       "<path d=\"M135,-166.3799C135,-158.1745 135,-148.7679 135,-139.8786\" fill=\"none\" stroke=\"#000000\"/>\n",
       "<polygon fill=\"#000000\" points=\"138.5001,-139.784 135,-129.784 131.5001,-139.784 138.5001,-139.784\" stroke=\"#000000\"/>\n",
       "</g>\n",
       "<!-- 4368850560 -->\n",
       "<g class=\"node\" id=\"node10\">\n",
       "<title>4368850560</title>\n",
       "<polygon fill=\"none\" points=\"34,-.5 34,-46.5 236,-46.5 236,-.5 34,-.5\" stroke=\"#000000\"/>\n",
       "<text fill=\"#000000\" font-family=\"Times,serif\" font-size=\"14.00\" text-anchor=\"middle\" x=\"72\" y=\"-19.8\">Activation</text>\n",
       "<polyline fill=\"none\" points=\"110,-.5 110,-46.5 \" stroke=\"#000000\"/>\n",
       "<text fill=\"#000000\" font-family=\"Times,serif\" font-size=\"14.00\" text-anchor=\"middle\" x=\"138\" y=\"-31.3\">input:</text>\n",
       "<polyline fill=\"none\" points=\"110,-23.5 166,-23.5 \" stroke=\"#000000\"/>\n",
       "<text fill=\"#000000\" font-family=\"Times,serif\" font-size=\"14.00\" text-anchor=\"middle\" x=\"138\" y=\"-8.3\">output:</text>\n",
       "<polyline fill=\"none\" points=\"166,-.5 166,-46.5 \" stroke=\"#000000\"/>\n",
       "<text fill=\"#000000\" font-family=\"Times,serif\" font-size=\"14.00\" text-anchor=\"middle\" x=\"201\" y=\"-31.3\">(None, 5)</text>\n",
       "<polyline fill=\"none\" points=\"166,-23.5 236,-23.5 \" stroke=\"#000000\"/>\n",
       "<text fill=\"#000000\" font-family=\"Times,serif\" font-size=\"14.00\" text-anchor=\"middle\" x=\"201\" y=\"-8.3\">(None, 5)</text>\n",
       "</g>\n",
       "<!-- 4368715728&#45;&gt;4368850560 -->\n",
       "<g class=\"edge\" id=\"edge10\">\n",
       "<title>4368715728-&gt;4368850560</title>\n",
       "<path d=\"M135,-83.3799C135,-75.1745 135,-65.7679 135,-56.8786\" fill=\"none\" stroke=\"#000000\"/>\n",
       "<polygon fill=\"#000000\" points=\"138.5001,-56.784 135,-46.784 131.5001,-56.784 138.5001,-56.784\" stroke=\"#000000\"/>\n",
       "</g>\n",
       "<!-- 112585330472 -->\n",
       "<g class=\"node\" id=\"node11\">\n",
       "<title>112585330472</title>\n",
       "<polygon fill=\"none\" points=\"84.5,-830.5 84.5,-866.5 185.5,-866.5 185.5,-830.5 84.5,-830.5\" stroke=\"#000000\"/>\n",
       "<text fill=\"#000000\" font-family=\"Times,serif\" font-size=\"14.00\" text-anchor=\"middle\" x=\"135\" y=\"-844.8\">112585330472</text>\n",
       "</g>\n",
       "<!-- 112585330472&#45;&gt;4411482064 -->\n",
       "<g class=\"edge\" id=\"edge1\">\n",
       "<title>112585330472-&gt;4411482064</title>\n",
       "<path d=\"M135,-830.4092C135,-822.4308 135,-812.795 135,-803.606\" fill=\"none\" stroke=\"#000000\"/>\n",
       "<polygon fill=\"#000000\" points=\"138.5001,-803.5333 135,-793.5333 131.5001,-803.5334 138.5001,-803.5333\" stroke=\"#000000\"/>\n",
       "</g>\n",
       "</g>\n",
       "</svg>"
      ],
      "text/plain": [
       "<IPython.core.display.SVG object>"
      ]
     },
     "execution_count": 8,
     "metadata": {},
     "output_type": "execute_result"
    }
   ],
   "source": [
    "SVG(model_to_dot(model, show_shapes=True, show_layer_names=False, \n",
    "                 rankdir='TB').create(prog='dot', format='svg'))"
   ]
  },
  {
   "cell_type": "code",
   "execution_count": 9,
   "metadata": {},
   "outputs": [
    {
     "name": "stdout",
     "output_type": "stream",
     "text": [
      "(111909,)\n",
      "<class 'pandas.core.series.Series'>\n"
     ]
    },
    {
     "name": "stderr",
     "output_type": "stream",
     "text": [
      "/Users/vinceluk/anaconda3/envs/capstone/lib/python3.7/site-packages/sklearn/preprocessing/_encoders.py:415: FutureWarning: The handling of integer data will change in version 0.22. Currently, the categories are determined based on the range [0, max(values)], while in the future they will be determined based on the unique values.\n",
      "If you want the future behaviour and silence this warning, you can specify \"categories='auto'\".\n",
      "In case you used a LabelEncoder before this OneHotEncoder to convert the categories to integers, then you can now use the OneHotEncoder directly.\n",
      "  warnings.warn(msg, FutureWarning)\n"
     ]
    },
    {
     "data": {
      "text/plain": [
       "array([[0., 0., 0., 0., 1.],\n",
       "       [0., 0., 0., 0., 1.],\n",
       "       [0., 0., 0., 0., 1.],\n",
       "       ...,\n",
       "       [0., 0., 1., 0., 0.],\n",
       "       [0., 0., 0., 0., 1.],\n",
       "       [0., 0., 0., 1., 0.]])"
      ]
     },
     "execution_count": 9,
     "metadata": {},
     "output_type": "execute_result"
    }
   ],
   "source": [
    "# one hot encode rating\n",
    "print(rating.shape)\n",
    "print(type(rating))\n",
    "y = OneHotEncoder().fit_transform(rating.values.reshape(len(rating), 1)).toarray()\n",
    "y"
   ]
  },
  {
   "cell_type": "code",
   "execution_count": 10,
   "metadata": {},
   "outputs": [],
   "source": [
    "x_train, x_test, y_train, y_test = train_test_split(df, y, random_state=1)"
   ]
  },
  {
   "cell_type": "code",
   "execution_count": 11,
   "metadata": {
    "scrolled": false
   },
   "outputs": [
    {
     "name": "stdout",
     "output_type": "stream",
     "text": [
      "WARNING:tensorflow:From /Users/vinceluk/anaconda3/envs/capstone/lib/python3.7/site-packages/tensorflow/python/ops/math_ops.py:3066: to_int32 (from tensorflow.python.ops.math_ops) is deprecated and will be removed in a future version.\n",
      "Instructions for updating:\n",
      "Use tf.cast instead.\n",
      "Train on 67144 samples, validate on 16787 samples\n",
      "Epoch 1/50\n",
      "67144/67144 [==============================] - 19s 287us/step - loss: 1.1205 - acc: 0.5900 - val_loss: 0.9913 - val_acc: 0.6369\n",
      "Epoch 2/50\n",
      "67144/67144 [==============================] - 15s 225us/step - loss: 1.0030 - acc: 0.6245 - val_loss: 0.9457 - val_acc: 0.6488\n",
      "Epoch 3/50\n",
      "67144/67144 [==============================] - 15s 228us/step - loss: 0.9705 - acc: 0.6351 - val_loss: 0.9235 - val_acc: 0.6546\n",
      "Epoch 4/50\n",
      "67144/67144 [==============================] - 14s 211us/step - loss: 0.9477 - acc: 0.6427 - val_loss: 0.9098 - val_acc: 0.6569\n",
      "Epoch 5/50\n",
      "67144/67144 [==============================] - 16s 233us/step - loss: 0.9338 - acc: 0.6463 - val_loss: 0.9033 - val_acc: 0.6588\n",
      "Epoch 6/50\n",
      "67144/67144 [==============================] - 16s 234us/step - loss: 0.9219 - acc: 0.6510 - val_loss: 0.8939 - val_acc: 0.6616\n",
      "Epoch 7/50\n",
      "67144/67144 [==============================] - 17s 251us/step - loss: 0.9146 - acc: 0.6509 - val_loss: 0.8832 - val_acc: 0.6626\n",
      "Epoch 8/50\n",
      "67144/67144 [==============================] - 15s 229us/step - loss: 0.9029 - acc: 0.6532 - val_loss: 0.8768 - val_acc: 0.6627\n",
      "Epoch 9/50\n",
      "67144/67144 [==============================] - 15s 222us/step - loss: 0.8928 - acc: 0.6556 - val_loss: 0.8733 - val_acc: 0.6653\n",
      "Epoch 10/50\n",
      "67144/67144 [==============================] - 15s 218us/step - loss: 0.8885 - acc: 0.6570 - val_loss: 0.8683 - val_acc: 0.6657\n",
      "Epoch 11/50\n",
      "67144/67144 [==============================] - 15s 220us/step - loss: 0.8812 - acc: 0.6585 - val_loss: 0.8672 - val_acc: 0.6663\n",
      "Epoch 12/50\n",
      "67144/67144 [==============================] - 15s 225us/step - loss: 0.8758 - acc: 0.6614 - val_loss: 0.8608 - val_acc: 0.6687\n",
      "Epoch 13/50\n",
      "67144/67144 [==============================] - 15s 221us/step - loss: 0.8694 - acc: 0.6637 - val_loss: 0.8606 - val_acc: 0.6674\n",
      "Epoch 14/50\n",
      "67144/67144 [==============================] - 15s 226us/step - loss: 0.8652 - acc: 0.6637 - val_loss: 0.8575 - val_acc: 0.6677\n",
      "Epoch 15/50\n",
      "67144/67144 [==============================] - 15s 222us/step - loss: 0.8625 - acc: 0.6656 - val_loss: 0.8556 - val_acc: 0.6705\n",
      "Epoch 16/50\n",
      "67144/67144 [==============================] - 15s 220us/step - loss: 0.8589 - acc: 0.6662 - val_loss: 0.8551 - val_acc: 0.6697\n",
      "Epoch 17/50\n",
      "67144/67144 [==============================] - 15s 219us/step - loss: 0.8539 - acc: 0.6694 - val_loss: 0.8531 - val_acc: 0.6703\n",
      "Epoch 18/50\n",
      "67144/67144 [==============================] - 15s 222us/step - loss: 0.8510 - acc: 0.6684 - val_loss: 0.8515 - val_acc: 0.6709\n",
      "Epoch 19/50\n",
      "67144/67144 [==============================] - 15s 222us/step - loss: 0.8479 - acc: 0.6699 - val_loss: 0.8493 - val_acc: 0.6714\n",
      "Epoch 20/50\n",
      "67144/67144 [==============================] - 15s 230us/step - loss: 0.8461 - acc: 0.6705 - val_loss: 0.8489 - val_acc: 0.6706\n",
      "Epoch 21/50\n",
      "67144/67144 [==============================] - 15s 218us/step - loss: 0.8410 - acc: 0.6738 - val_loss: 0.8482 - val_acc: 0.6719\n",
      "Epoch 22/50\n",
      "67144/67144 [==============================] - 15s 217us/step - loss: 0.8410 - acc: 0.6728 - val_loss: 0.8506 - val_acc: 0.6712\n",
      "Epoch 23/50\n",
      "67144/67144 [==============================] - 15s 219us/step - loss: 0.8385 - acc: 0.6729 - val_loss: 0.8469 - val_acc: 0.6726\n",
      "Epoch 24/50\n",
      "67144/67144 [==============================] - 15s 218us/step - loss: 0.8345 - acc: 0.6736 - val_loss: 0.8469 - val_acc: 0.6707\n",
      "Epoch 25/50\n",
      "67144/67144 [==============================] - 15s 218us/step - loss: 0.8322 - acc: 0.6748 - val_loss: 0.8450 - val_acc: 0.6730\n",
      "Epoch 26/50\n",
      "67144/67144 [==============================] - 14s 212us/step - loss: 0.8313 - acc: 0.6760 - val_loss: 0.8440 - val_acc: 0.6713\n",
      "Epoch 27/50\n",
      "67144/67144 [==============================] - 14s 215us/step - loss: 0.8300 - acc: 0.6775 - val_loss: 0.8439 - val_acc: 0.6743\n",
      "Epoch 28/50\n",
      "67144/67144 [==============================] - 14s 215us/step - loss: 0.8267 - acc: 0.6794 - val_loss: 0.8457 - val_acc: 0.6724\n",
      "Epoch 29/50\n",
      "67144/67144 [==============================] - 15s 217us/step - loss: 0.8265 - acc: 0.6786 - val_loss: 0.8437 - val_acc: 0.6733\n",
      "Epoch 30/50\n",
      "67144/67144 [==============================] - 15s 216us/step - loss: 0.8225 - acc: 0.6787 - val_loss: 0.8435 - val_acc: 0.6740\n",
      "Epoch 31/50\n",
      "67144/67144 [==============================] - 15s 218us/step - loss: 0.8207 - acc: 0.6809 - val_loss: 0.8439 - val_acc: 0.6734\n",
      "Epoch 32/50\n",
      "67144/67144 [==============================] - 14s 215us/step - loss: 0.8180 - acc: 0.6795 - val_loss: 0.8436 - val_acc: 0.6720\n",
      "Epoch 00032: early stopping\n"
     ]
    }
   ],
   "source": [
    "early_stop = EarlyStopping(monitor='val_loss', patience=2, verbose=1)\n",
    "network_history = model.fit(x_train, y_train,\n",
    "                      batch_size=128,\n",
    "                      epochs=50,\n",
    "                      verbose=1,\n",
    "                      validation_split=0.2,\n",
    "                      callbacks=[early_stop])"
   ]
  },
  {
   "cell_type": "code",
   "execution_count": 12,
   "metadata": {},
   "outputs": [
    {
     "name": "stdout",
     "output_type": "stream",
     "text": [
      "27978/27978 [==============================] - 3s 125us/step\n",
      "Accuracy: 66.79%\n"
     ]
    }
   ],
   "source": [
    "scores = model.evaluate(x_test, y_test, verbose=1)\n",
    "print(\"Accuracy: %.2f%%\" % (scores[1]*100))\n"
   ]
  },
  {
   "cell_type": "code",
   "execution_count": 13,
   "metadata": {},
   "outputs": [
    {
     "data": {
      "image/png": "[encoded data removed]",
      "text/plain": [
       "<Figure size 432x288 with 1 Axes>"
      ]
     },
     "metadata": {
      "needs_background": "light"
     },
     "output_type": "display_data"
    },
    {
     "data": {
      "image/png": "[encoded data removed]",
      "text/plain": [
       "<Figure size 432x288 with 1 Axes>"
      ]
     },
     "metadata": {
      "needs_background": "light"
     },
     "output_type": "display_data"
    }
   ],
   "source": [
    "import matplotlib.pyplot as plt\n",
    "%matplotlib inline\n",
    "\n",
    "def plot_history(network_history):\n",
    "    plt.figure()\n",
    "    plt.xlabel('Epochs')\n",
    "    plt.ylabel('Loss')\n",
    "    plt.plot(network_history.history['loss'])\n",
    "    plt.plot(network_history.history['val_loss'])\n",
    "    plt.legend(['Training', 'Validation'])\n",
    "\n",
    "    plt.figure()\n",
    "    plt.xlabel('Epochs')\n",
    "    plt.ylabel('Accuracy')\n",
    "    plt.plot(network_history.history['acc'])\n",
    "    plt.plot(network_history.history['val_acc'])\n",
    "    plt.legend(['Training', 'Validation'], loc='lower right')\n",
    "    plt.show()\n",
    "\n",
    "plot_history(network_history)"
   ]
  },
  {
   "cell_type": "code",
   "execution_count": 14,
   "metadata": {},
   "outputs": [],
   "source": [
    "y_predict = model.predict(x_test)"
   ]
  },
  {
   "cell_type": "code",
   "execution_count": 15,
   "metadata": {},
   "outputs": [
    {
     "data": {
      "text/html": [
       "<div>\n",
       "<style scoped>\n",
       "    .dataframe tbody tr th:only-of-type {\n",
       "        vertical-align: middle;\n",
       "    }\n",
       "\n",
       "    .dataframe tbody tr th {\n",
       "        vertical-align: top;\n",
       "    }\n",
       "\n",
       "    .dataframe thead th {\n",
       "        text-align: right;\n",
       "    }\n",
       "</style>\n",
       "<table border=\"1\" class=\"dataframe\">\n",
       "  <thead>\n",
       "    <tr style=\"text-align: right;\">\n",
       "      <th></th>\n",
       "      <th>0</th>\n",
       "      <th>1</th>\n",
       "      <th>2</th>\n",
       "      <th>3</th>\n",
       "      <th>4</th>\n",
       "    </tr>\n",
       "  </thead>\n",
       "  <tbody>\n",
       "    <tr>\n",
       "      <th>0</th>\n",
       "      <td>0.000513</td>\n",
       "      <td>0.000513</td>\n",
       "      <td>0.005557</td>\n",
       "      <td>0.093533</td>\n",
       "      <td>0.899884</td>\n",
       "    </tr>\n",
       "    <tr>\n",
       "      <th>1</th>\n",
       "      <td>0.028328</td>\n",
       "      <td>0.015398</td>\n",
       "      <td>0.009536</td>\n",
       "      <td>0.058293</td>\n",
       "      <td>0.888444</td>\n",
       "    </tr>\n",
       "    <tr>\n",
       "      <th>2</th>\n",
       "      <td>0.012108</td>\n",
       "      <td>0.012108</td>\n",
       "      <td>0.062840</td>\n",
       "      <td>0.393549</td>\n",
       "      <td>0.519395</td>\n",
       "    </tr>\n",
       "    <tr>\n",
       "      <th>3</th>\n",
       "      <td>0.000978</td>\n",
       "      <td>0.000978</td>\n",
       "      <td>0.012244</td>\n",
       "      <td>0.191830</td>\n",
       "      <td>0.793970</td>\n",
       "    </tr>\n",
       "    <tr>\n",
       "      <th>4</th>\n",
       "      <td>0.778152</td>\n",
       "      <td>0.134551</td>\n",
       "      <td>0.039317</td>\n",
       "      <td>0.023990</td>\n",
       "      <td>0.023990</td>\n",
       "    </tr>\n",
       "  </tbody>\n",
       "</table>\n",
       "</div>"
      ],
      "text/plain": [
       "          0         1         2         3         4\n",
       "0  0.000513  0.000513  0.005557  0.093533  0.899884\n",
       "1  0.028328  0.015398  0.009536  0.058293  0.888444\n",
       "2  0.012108  0.012108  0.062840  0.393549  0.519395\n",
       "3  0.000978  0.000978  0.012244  0.191830  0.793970\n",
       "4  0.778152  0.134551  0.039317  0.023990  0.023990"
      ]
     },
     "execution_count": 15,
     "metadata": {},
     "output_type": "execute_result"
    }
   ],
   "source": [
    "y_predict_df = pd.DataFrame(y_predict)\n",
    "y_predict_df.head()"
   ]
  },
  {
   "cell_type": "code",
   "execution_count": 16,
   "metadata": {},
   "outputs": [],
   "source": [
    "y_predict_unencoded = [row.idxmax() + 1 for index, row in y_predict_df.iterrows()]"
   ]
  },
  {
   "cell_type": "code",
   "execution_count": 17,
   "metadata": {},
   "outputs": [],
   "source": [
    "y_test_df = pd.DataFrame(y_test)\n",
    "y_test_unencoded = [row.idxmax() + 1 for index, row in y_test_df.iterrows()]"
   ]
  },
  {
   "cell_type": "code",
   "execution_count": 18,
   "metadata": {},
   "outputs": [
    {
     "data": {
      "text/plain": [
       "array([[ 3149,   198,   162,    79,   287],\n",
       "       [  928,   210,   258,   180,   311],\n",
       "       [  577,   224,   507,   580,   672],\n",
       "       [  269,    97,   294,  1200,  2777],\n",
       "       [  368,    69,   178,   783, 13621]])"
      ]
     },
     "execution_count": 18,
     "metadata": {},
     "output_type": "execute_result"
    }
   ],
   "source": [
    "confusion_matrix(y_test_unencoded, y_predict_unencoded)"
   ]
  },
  {
   "cell_type": "code",
   "execution_count": 19,
   "metadata": {},
   "outputs": [
    {
     "name": "stdout",
     "output_type": "stream",
     "text": [
      "              precision    recall  f1-score   support\n",
      "\n",
      "           1       0.60      0.81      0.69      3875\n",
      "           2       0.26      0.11      0.16      1887\n",
      "           3       0.36      0.20      0.26      2560\n",
      "           4       0.43      0.26      0.32      4637\n",
      "           5       0.77      0.91      0.83     15019\n",
      "\n",
      "    accuracy                           0.67     27978\n",
      "   macro avg       0.48      0.46      0.45     27978\n",
      "weighted avg       0.62      0.67      0.63     27978\n",
      "\n"
     ]
    }
   ],
   "source": [
    "print(classification_report(y_test_unencoded, y_predict_unencoded))"
   ]
  },
  {
   "cell_type": "markdown",
   "metadata": {},
   "source": [
    "# Save off various files"
   ]
  },
  {
   "cell_type": "code",
   "execution_count": 20,
   "metadata": {},
   "outputs": [],
   "source": [
    "model.save(MODEL_FILE)"
   ]
  },
  {
   "cell_type": "code",
   "execution_count": 21,
   "metadata": {},
   "outputs": [],
   "source": [
    "pickle.dump(network_history, open(NETWORK_HISTORY_FILE, \"wb\"))"
   ]
  },
  {
   "cell_type": "code",
   "execution_count": 22,
   "metadata": {},
   "outputs": [],
   "source": [
    "# saving off report in the same format as other report just in case we want to compare for later\n",
    "flattened = {}\n",
    "flattened = du.add_dict_to_dict(flattened, classification_report(y_test_unencoded, y_predict_unencoded, output_dict=True))\n",
    "flattened[\"confusion_matrix\"] = confusion_matrix(y_test_unencoded, y_predict_unencoded)\n",
    "flattened[\"description\"] = DESCRIPTION\n",
    "flattened[\"file\"] = DATA_FILE\n",
    "flattened[\"network_history_file\"] = NETWORK_HISTORY_FILE\n",
    "flattened[\"embedding\"] = \"word2vec5\"\n",
    "flattened[\"model_file\"] = MODEL_FILE\n",
    "flattened[\"model_name\"] = MODEL_NAME\n",
    "flattened[\"test_examples\"] = x_test.shape[0]\n",
    "flattened[\"test_features\"] = x_test.shape[1]\n",
    "flattened[\"train_examples\"] = x_train.shape[0]\n",
    "flattened[\"train_features\"] = x_train.shape[1]\n",
    "flattened[\"status\"] = \"success\"\n"
   ]
  },
  {
   "cell_type": "code",
   "execution_count": 23,
   "metadata": {},
   "outputs": [
    {
     "data": {
      "text/html": [
       "<div>\n",
       "<style scoped>\n",
       "    .dataframe tbody tr th:only-of-type {\n",
       "        vertical-align: middle;\n",
       "    }\n",
       "\n",
       "    .dataframe tbody tr th {\n",
       "        vertical-align: top;\n",
       "    }\n",
       "\n",
       "    .dataframe thead th {\n",
       "        text-align: right;\n",
       "    }\n",
       "</style>\n",
       "<table border=\"1\" class=\"dataframe\">\n",
       "  <thead>\n",
       "    <tr style=\"text-align: right;\">\n",
       "      <th></th>\n",
       "      <th>1_f1-score</th>\n",
       "      <th>1_precision</th>\n",
       "      <th>1_recall</th>\n",
       "      <th>1_support</th>\n",
       "      <th>2_f1-score</th>\n",
       "      <th>2_precision</th>\n",
       "      <th>2_recall</th>\n",
       "      <th>2_support</th>\n",
       "      <th>3_f1-score</th>\n",
       "      <th>3_precision</th>\n",
       "      <th>...</th>\n",
       "      <th>network_history_file</th>\n",
       "      <th>status</th>\n",
       "      <th>test_examples</th>\n",
       "      <th>test_features</th>\n",
       "      <th>train_examples</th>\n",
       "      <th>train_features</th>\n",
       "      <th>weighted avg_f1-score</th>\n",
       "      <th>weighted avg_precision</th>\n",
       "      <th>weighted avg_recall</th>\n",
       "      <th>weighted avg_support</th>\n",
       "    </tr>\n",
       "  </thead>\n",
       "  <tbody>\n",
       "    <tr>\n",
       "      <th>0</th>\n",
       "      <td>0.687105</td>\n",
       "      <td>0.595162</td>\n",
       "      <td>0.812645</td>\n",
       "      <td>3875.0</td>\n",
       "      <td>0.156425</td>\n",
       "      <td>0.263158</td>\n",
       "      <td>0.111288</td>\n",
       "      <td>1887.0</td>\n",
       "      <td>0.256125</td>\n",
       "      <td>0.362402</td>\n",
       "      <td>...</td>\n",
       "      <td>models/2019-06-18-review_body-word2vec5-111909...</td>\n",
       "      <td>success</td>\n",
       "      <td>27978.0</td>\n",
       "      <td>512.0</td>\n",
       "      <td>83931.0</td>\n",
       "      <td>512.0</td>\n",
       "      <td>0.62987</td>\n",
       "      <td>0.617669</td>\n",
       "      <td>0.667918</td>\n",
       "      <td>27978.0</td>\n",
       "    </tr>\n",
       "  </tbody>\n",
       "</table>\n",
       "<p>1 rows × 41 columns</p>\n",
       "</div>"
      ],
      "text/plain": [
       "   1_f1-score  1_precision  1_recall  1_support  2_f1-score  2_precision  \\\n",
       "0    0.687105     0.595162  0.812645     3875.0    0.156425     0.263158   \n",
       "\n",
       "   2_recall  2_support  3_f1-score  3_precision  ...  \\\n",
       "0  0.111288     1887.0    0.256125     0.362402  ...   \n",
       "\n",
       "                                network_history_file   status  test_examples  \\\n",
       "0  models/2019-06-18-review_body-word2vec5-111909...  success        27978.0   \n",
       "\n",
       "   test_features  train_examples  train_features  weighted avg_f1-score  \\\n",
       "0          512.0         83931.0           512.0                0.62987   \n",
       "\n",
       "   weighted avg_precision  weighted avg_recall  weighted avg_support  \n",
       "0                0.617669             0.667918               27978.0  \n",
       "\n",
       "[1 rows x 41 columns]"
      ]
     },
     "execution_count": 23,
     "metadata": {},
     "output_type": "execute_result"
    }
   ],
   "source": [
    "report_df = pd.DataFrame()\n",
    "report_df = report_df.append(flattened, ignore_index=True)\n",
    "report_df.head()"
   ]
  },
  {
   "cell_type": "code",
   "execution_count": 24,
   "metadata": {},
   "outputs": [],
   "source": [
    "report_df.to_csv(REPORT_FILE)"
   ]
  },
  {
   "cell_type": "code",
   "execution_count": null,
   "metadata": {},
   "outputs": [],
   "source": []
  }
 ],
 "metadata": {
  "hide_input": false,
  "kernelspec": {
   "display_name": "Python 3",
   "language": "python",
   "name": "python3"
  },
  "language_info": {
   "codemirror_mode": {
    "name": "ipython",
    "version": 3
   },
   "file_extension": ".py",
   "mimetype": "text/x-python",
   "name": "python",
   "nbconvert_exporter": "python",
   "pygments_lexer": "ipython3",
   "version": "3.7.3"
  }
 },
 "nbformat": 4,
 "nbformat_minor": 2
}
