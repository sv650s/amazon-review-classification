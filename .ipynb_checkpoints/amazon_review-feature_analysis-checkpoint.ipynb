{
 "cells": [
  {
   "cell_type": "markdown",
   "metadata": {},
   "source": [
    "# Feature Selection\n",
    "\n",
    "With bi-grams, we generate quite a lot of features from the amazon review text. I want to use this notebook to explore whether there are certain features that are more important than others so that we can reduce the dimensions of our feature matrix and improve our training time for our models"
   ]
  },
  {
   "cell_type": "code",
   "execution_count": 1,
   "metadata": {},
   "outputs": [],
   "source": [
    "import pandas as pd\n",
    "import operator\n",
    "import matplotlib.pyplot as plt\n",
    "import seaborn as sns\n",
    "\n",
    "%matplotlib inline\n",
    "sns.set()"
   ]
  },
  {
   "cell_type": "code",
   "execution_count": 29,
   "metadata": {},
   "outputs": [],
   "source": [
    "# bow_infile = \"dataset/feature_files/review_body-bow-df_default-ngram12-992-10020-lda20.csv\"\n",
    "# tfidf_infile = \"dataset/feature_files/review_body-tfidf-df_default-ngram12-992-10020-lda20.csv\"\n",
    "bow_infile = \"dataset/feature_files/review_body-bow-df_default-ngram12-111909-10020-lda20.csv\"\n",
    "tfidf_infile = \"dataset/feature_files/review_body-tfidf-df_default-ngram12-111909-10020-lda20.csv\"\n",
    "bow_df = pd.read_csv(bow_infile)\n",
    "bow_x = bow_df.drop(labels=[\"star_rating\", \"total_votes\", \"helpful_votes\"], axis=1)\n",
    "bow_x.drop(labels=[str(x) for x in range(0,20)], axis=1, inplace=True)\n",
    "bow_ys = bow_df[[\"star_rating\", \"total_votes\", \"helpful_votes\"]]\n",
    "\n",
    "tfidf_df = pd.read_csv(tfidf_infile)\n",
    "tfidf_x = tfidf_df.drop(labels=[\"star_rating\", \"total_votes\", \"helpful_votes\"], axis=1)\n",
    "tfidf_x.drop(labels=[str(x) for x in range(0,20)], axis=1, inplace=True)\n",
    "tfidf_ys = tfidf_df[[\"star_rating\", \"total_votes\", \"helpful_votes\"]]\n"
   ]
  },
  {
   "cell_type": "markdown",
   "metadata": {},
   "source": [
    "# Feature Variance\n",
    "\n",
    "If we find features that have 0 variance, may be worth while to drop as it does not add anything to our models"
   ]
  },
  {
   "cell_type": "code",
   "execution_count": 30,
   "metadata": {},
   "outputs": [],
   "source": [
    "bow_dict = {key: bow_x[key].std() for key in bow_x.columns}\n",
    "sorted_bow_dict = sorted(bow_dict.items(), reverse=True, key=operator.itemgetter(1))\n",
    "bow_keys = [x[0] for x in sorted_bow_dict]\n",
    "bow_stds = [x[1] for x in sorted_bow_dict]\n",
    "\n",
    "tfidf_dict = {key: tfidf_x[key].std() for key in tfidf_x.columns}\n",
    "sorted_tfidf_dict = sorted(tfidf_dict.items(), reverse=True, key=operator.itemgetter(1))\n",
    "tfidf_keys = [x[0] for x in sorted_tfidf_dict]\n",
    "tfidf_stds = [x[1] for x in sorted_tfidf_dict]"
   ]
  },
  {
   "cell_type": "code",
   "execution_count": 31,
   "metadata": {
    "scrolled": false
   },
   "outputs": [
    {
     "data": {
      "image/png": "[encoded data removed]",
      "text/plain": [
       "<Figure size 1440x360 with 2 Axes>"
      ]
     },
     "metadata": {
      "needs_background": "light"
     },
     "output_type": "display_data"
    }
   ],
   "source": [
    "f, a = plt.subplots(1, 2, figsize=(20,5))\n",
    "_ = sns.lineplot(x=range(0,len(bow_stds)), y=bow_stds, ax=a[0])\n",
    "_ = a[0].set_title(\"BoW\")\n",
    "_ = a[0].set_xlabel(\"Key Index\")\n",
    "_ = a[0].set_ylabel(\"Std\")\n",
    "\n",
    "\n",
    "_ = sns.lineplot(x=range(0,len(tfidf_stds)), y=tfidf_stds, ax=a[1])\n",
    "_ = a[1].set_title(\"TFIDF\")\n",
    "_ = a[1].set_xlabel(\"Key Index\")\n",
    "_ = a[1].set_ylabel(\"Std\")"
   ]
  },
  {
   "cell_type": "markdown",
   "metadata": {},
   "source": [
    "## Looks to be a few features in TFIDF that have 0 variance. We can probably get rid of those. For BoW, there may be some at the tail end that have the same variance. Looking further"
   ]
  },
  {
   "cell_type": "code",
   "execution_count": 32,
   "metadata": {},
   "outputs": [
    {
     "name": "stdout",
     "output_type": "stream",
     "text": [
      "Minimum BoW Standard Deviation: 0.01913734960203535\n"
     ]
    },
    {
     "data": {
      "text/plain": [
       "['already one',\n",
       " 'always used',\n",
       " 'amsy plastic',\n",
       " 'buy amazon',\n",
       " 'buy cheap',\n",
       " 'case probably',\n",
       " 'charger case',\n",
       " 'designed do',\n",
       " 'detachable',\n",
       " 'downsides',\n",
       " 'end phone',\n",
       " 'fast shipment',\n",
       " 'fits case',\n",
       " 'fuss',\n",
       " 'get really',\n",
       " 'gets stuck',\n",
       " 'good customer',\n",
       " 'great came',\n",
       " 'great size',\n",
       " 'made fits',\n",
       " 'money very',\n",
       " 'month later',\n",
       " 'nice item',\n",
       " 'one should',\n",
       " 'otterboxes',\n",
       " 'protector looks',\n",
       " 'returning item',\n",
       " 'review case',\n",
       " 'reviews amazon',\n",
       " 'see will',\n",
       " 'used first',\n",
       " 'wish made',\n",
       " 'work first']"
      ]
     },
     "execution_count": 32,
     "metadata": {},
     "output_type": "execute_result"
    }
   ],
   "source": [
    "# get a count of variables with the lowest variance\n",
    "bow_std_min = min(bow_stds)\n",
    "bow_min_keys = [bow_keys[x] for x in range(len(bow_stds)) if bow_stds[x] == bow_std_min]\n",
    "print(f\"Minimum BoW Standard Deviation: {bow_std_min}\")\n",
    "bow_min_keys"
   ]
  },
  {
   "cell_type": "code",
   "execution_count": 33,
   "metadata": {},
   "outputs": [
    {
     "name": "stdout",
     "output_type": "stream",
     "text": [
      "Maximum BoW Standard Deviation: 1.3907722575860422\n"
     ]
    },
    {
     "data": {
      "text/plain": [
       "['not']"
      ]
     },
     "execution_count": 33,
     "metadata": {},
     "output_type": "execute_result"
    }
   ],
   "source": [
    "# get a count of variables with the lowest variance\n",
    "bow_std_max = max(bow_stds)\n",
    "bow_max_keys = [bow_keys[x] for x in range(len(bow_stds)) if bow_stds[x] == bow_std_max]\n",
    "print(f\"Maximum BoW Standard Deviation: {bow_std_max}\")\n",
    "bow_max_keys"
   ]
  },
  {
   "cell_type": "code",
   "execution_count": 34,
   "metadata": {},
   "outputs": [
    {
     "data": {
      "text/plain": [
       "<matplotlib.axes._subplots.AxesSubplot at 0x1c67e3bf60>"
      ]
     },
     "execution_count": 34,
     "metadata": {},
     "output_type": "execute_result"
    },
    {
     "data": {
      "image/png": "[encoded data removed]",
      "text/plain": [
       "<Figure size 1440x360 with 1 Axes>"
      ]
     },
     "metadata": {
      "needs_background": "light"
     },
     "output_type": "display_data"
    }
   ],
   "source": [
    "f, a = plt.subplots(1, 1, figsize=(20,5))\n",
    "sns.distplot(bow_stds, bins=500, ax=a)"
   ]
  },
  {
   "cell_type": "code",
   "execution_count": 35,
   "metadata": {},
   "outputs": [
    {
     "data": {
      "text/plain": [
       "<matplotlib.axes._subplots.AxesSubplot at 0x1a59dabe80>"
      ]
     },
     "execution_count": 35,
     "metadata": {},
     "output_type": "execute_result"
    },
    {
     "data": {
      "image/png": "[encoded data removed]",
      "text/plain": [
       "<Figure size 1440x360 with 1 Axes>"
      ]
     },
     "metadata": {
      "needs_background": "light"
     },
     "output_type": "display_data"
    }
   ],
   "source": [
    "f, a = plt.subplots(1, 1, figsize=(20,5))\n",
    "sns.distplot(tfidf_stds, bins=500, ax=a)"
   ]
  },
  {
   "cell_type": "code",
   "execution_count": 36,
   "metadata": {},
   "outputs": [
    {
     "name": "stdout",
     "output_type": "stream",
     "text": [
      "Minimum TFIDF Standard Deviation: 0.0008246276315881706\n"
     ]
    },
    {
     "data": {
      "text/plain": [
       "['head kg', 'kg body']"
      ]
     },
     "execution_count": 36,
     "metadata": {},
     "output_type": "execute_result"
    }
   ],
   "source": [
    "tfidf_std_min = min(tfidf_stds)\n",
    "tiidf_min_keys = [tfidf_keys[x] for x in range(len(tfidf_stds)) if tfidf_stds[x] == tfidf_std_min]\n",
    "print(f\"Minimum TFIDF Standard Deviation: {tfidf_std_min}\")\n",
    "tiidf_min_keys"
   ]
  },
  {
   "cell_type": "code",
   "execution_count": 37,
   "metadata": {},
   "outputs": [
    {
     "name": "stdout",
     "output_type": "stream",
     "text": [
      "Maximum TFIDF Standard Deviation: 0.098173209669989\n"
     ]
    },
    {
     "data": {
      "text/plain": [
       "['love']"
      ]
     },
     "execution_count": 37,
     "metadata": {},
     "output_type": "execute_result"
    }
   ],
   "source": [
    "tfidf_std_max = max(tfidf_stds)\n",
    "tiidf_max_keys = [tfidf_keys[x] for x in range(len(tfidf_stds)) if tfidf_stds[x] == tfidf_std_max]\n",
    "print(f\"Maximum TFIDF Standard Deviation: {tfidf_std_max}\")\n",
    "tiidf_max_keys"
   ]
  },
  {
   "cell_type": "markdown",
   "metadata": {},
   "source": [
    "### Looks like we do not have any columns with 0 variance"
   ]
  },
  {
   "cell_type": "markdown",
   "metadata": {},
   "source": [
    "# Pairwise Correlations\n",
    "\n",
    "Let's look at if we have any variables that are highly correlated. We will use 0.65 as a threshold"
   ]
  },
  {
   "cell_type": "code",
   "execution_count": null,
   "metadata": {},
   "outputs": [],
   "source": [
    "\n",
    "bow_corrMatrix = bow_df.corr()\n",
    "print(type(bow_corrMatrix))\n",
    "print(bow_corrMatrix)\n",
    "print(bow_corrMatrix.keys)\n",
    "# print(bow_corrMatrix)\n",
    "# corrTol = 0.65\n",
    "# for col in corrMatrix:\n",
    "#     if col in corrMatrix.keys():\n",
    "#         thisCol = []\n",
    "#         thisVars = []\n",
    "        \n",
    "#         # store corr with dep var for fields that are highly correlated with each other\n",
    "#         for i in range(len(corrMatrix)):\n",
    "#             if abs(corrMatrix[col][i]) == 1.0 and col != corrMatrix.keys()[i]:\n",
    "#                 thisCorr = 0\n",
    "#             else:\n",
    "#                 thisCorr = (1 if abs(corrMatrix[col][i] > corrTol else -1)) * abs(temp[corrMatrix.keys()[i]])\n",
    "#             thisCol.append(thisCorr)\n",
    "#             thisVars.append(corrMatrix.keys()[i])\n",
    "            \n",
    "#         mask = np.ones(len(thisCorr)), dtype = bool)\n",
    "        \n",
    "#         print(mask)"
   ]
  },
  {
   "cell_type": "code",
   "execution_count": null,
   "metadata": {},
   "outputs": [],
   "source": []
  }
 ],
 "metadata": {
  "hide_input": false,
  "kernelspec": {
   "display_name": "Python 3",
   "language": "python",
   "name": "python3"
  },
  "language_info": {
   "codemirror_mode": {
    "name": "ipython",
    "version": 3
   },
   "file_extension": ".py",
   "mimetype": "text/x-python",
   "name": "python",
   "nbconvert_exporter": "python",
   "pygments_lexer": "ipython3",
   "version": "3.7.3"
  }
 },
 "nbformat": 4,
 "nbformat_minor": 2
}
