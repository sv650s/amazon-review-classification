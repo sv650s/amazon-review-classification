{
 "cells": [
  {
   "cell_type": "code",
   "execution_count": 1,
   "metadata": {},
   "outputs": [
    {
     "name": "stderr",
     "output_type": "stream",
     "text": [
      "Using TensorFlow backend.\n"
     ]
    }
   ],
   "source": [
    "from keras.models import Sequential\n",
    "from keras.layers import Dense, Activation, Dropout\n",
    "from keras.layers.normalization import BatchNormalization\n",
    "from keras.callbacks import EarlyStopping\n",
    "from keras.models import load_model\n",
    "from sklearn.model_selection import train_test_split\n",
    "from keras.optimizers import SGD\n",
    "from sklearn.preprocessing import OneHotEncoder\n",
    "import pandas as pd\n",
    "from IPython.display import SVG\n",
    "from keras.utils.vis_utils import model_to_dot"
   ]
  },
  {
   "cell_type": "code",
   "execution_count": 2,
   "metadata": {
    "hide_input": false
   },
   "outputs": [],
   "source": [
    "df = pd.read_csv(\"dataset/feature_files/review_body-word2vec5-111909-512-nolda.csv\")\n",
    "rating = df[\"star_rating\"]\n",
    "df = df.drop(columns=[\"helpful_votes\", \"total_votes\", \"helpful_product\", \"star_rating\"])"
   ]
  },
  {
   "cell_type": "code",
   "execution_count": 21,
   "metadata": {},
   "outputs": [
    {
     "data": {
      "text/html": [
       "<div>\n",
       "<style scoped>\n",
       "    .dataframe tbody tr th:only-of-type {\n",
       "        vertical-align: middle;\n",
       "    }\n",
       "\n",
       "    .dataframe tbody tr th {\n",
       "        vertical-align: top;\n",
       "    }\n",
       "\n",
       "    .dataframe thead th {\n",
       "        text-align: right;\n",
       "    }\n",
       "</style>\n",
       "<table border=\"1\" class=\"dataframe\">\n",
       "  <thead>\n",
       "    <tr style=\"text-align: right;\">\n",
       "      <th></th>\n",
       "      <th>0</th>\n",
       "      <th>1</th>\n",
       "      <th>2</th>\n",
       "      <th>3</th>\n",
       "      <th>4</th>\n",
       "      <th>5</th>\n",
       "      <th>6</th>\n",
       "      <th>7</th>\n",
       "      <th>8</th>\n",
       "      <th>9</th>\n",
       "      <th>...</th>\n",
       "      <th>502</th>\n",
       "      <th>503</th>\n",
       "      <th>504</th>\n",
       "      <th>505</th>\n",
       "      <th>506</th>\n",
       "      <th>507</th>\n",
       "      <th>508</th>\n",
       "      <th>509</th>\n",
       "      <th>510</th>\n",
       "      <th>511</th>\n",
       "    </tr>\n",
       "  </thead>\n",
       "  <tbody>\n",
       "    <tr>\n",
       "      <th>0</th>\n",
       "      <td>-0.288502</td>\n",
       "      <td>-0.481055</td>\n",
       "      <td>0.258424</td>\n",
       "      <td>0.362731</td>\n",
       "      <td>0.475364</td>\n",
       "      <td>0.421039</td>\n",
       "      <td>0.014504</td>\n",
       "      <td>0.213545</td>\n",
       "      <td>-0.390066</td>\n",
       "      <td>0.103808</td>\n",
       "      <td>...</td>\n",
       "      <td>0.193389</td>\n",
       "      <td>-0.345230</td>\n",
       "      <td>-0.041291</td>\n",
       "      <td>0.063343</td>\n",
       "      <td>-0.230869</td>\n",
       "      <td>-0.018990</td>\n",
       "      <td>-0.462915</td>\n",
       "      <td>-0.762691</td>\n",
       "      <td>0.271782</td>\n",
       "      <td>-0.653218</td>\n",
       "    </tr>\n",
       "    <tr>\n",
       "      <th>1</th>\n",
       "      <td>0.173821</td>\n",
       "      <td>-0.214929</td>\n",
       "      <td>-0.098004</td>\n",
       "      <td>0.432866</td>\n",
       "      <td>0.370673</td>\n",
       "      <td>0.000804</td>\n",
       "      <td>-0.735449</td>\n",
       "      <td>0.162931</td>\n",
       "      <td>0.113988</td>\n",
       "      <td>0.468011</td>\n",
       "      <td>...</td>\n",
       "      <td>0.133606</td>\n",
       "      <td>-0.374622</td>\n",
       "      <td>-0.360892</td>\n",
       "      <td>-0.394297</td>\n",
       "      <td>-0.168498</td>\n",
       "      <td>-0.262506</td>\n",
       "      <td>-0.958892</td>\n",
       "      <td>0.099089</td>\n",
       "      <td>0.487517</td>\n",
       "      <td>-0.307144</td>\n",
       "    </tr>\n",
       "    <tr>\n",
       "      <th>2</th>\n",
       "      <td>-0.257559</td>\n",
       "      <td>-0.065606</td>\n",
       "      <td>0.344815</td>\n",
       "      <td>0.411276</td>\n",
       "      <td>0.090839</td>\n",
       "      <td>0.738248</td>\n",
       "      <td>0.282006</td>\n",
       "      <td>0.331116</td>\n",
       "      <td>-0.213441</td>\n",
       "      <td>0.092032</td>\n",
       "      <td>...</td>\n",
       "      <td>0.273857</td>\n",
       "      <td>-0.094201</td>\n",
       "      <td>0.245259</td>\n",
       "      <td>0.438028</td>\n",
       "      <td>-0.413395</td>\n",
       "      <td>0.425271</td>\n",
       "      <td>-0.417884</td>\n",
       "      <td>-0.886485</td>\n",
       "      <td>0.458968</td>\n",
       "      <td>-0.380352</td>\n",
       "    </tr>\n",
       "    <tr>\n",
       "      <th>3</th>\n",
       "      <td>-0.023537</td>\n",
       "      <td>0.186004</td>\n",
       "      <td>-0.018319</td>\n",
       "      <td>0.046002</td>\n",
       "      <td>0.285380</td>\n",
       "      <td>0.824158</td>\n",
       "      <td>0.240865</td>\n",
       "      <td>0.177934</td>\n",
       "      <td>-0.293685</td>\n",
       "      <td>0.369762</td>\n",
       "      <td>...</td>\n",
       "      <td>0.076834</td>\n",
       "      <td>0.171872</td>\n",
       "      <td>0.258420</td>\n",
       "      <td>0.169574</td>\n",
       "      <td>-0.280809</td>\n",
       "      <td>0.322120</td>\n",
       "      <td>-0.102916</td>\n",
       "      <td>-0.606135</td>\n",
       "      <td>0.186568</td>\n",
       "      <td>-0.477317</td>\n",
       "    </tr>\n",
       "    <tr>\n",
       "      <th>4</th>\n",
       "      <td>-0.832218</td>\n",
       "      <td>0.451893</td>\n",
       "      <td>0.474038</td>\n",
       "      <td>-0.018249</td>\n",
       "      <td>-0.478648</td>\n",
       "      <td>0.178108</td>\n",
       "      <td>-0.472869</td>\n",
       "      <td>-0.532138</td>\n",
       "      <td>-0.491469</td>\n",
       "      <td>-0.466011</td>\n",
       "      <td>...</td>\n",
       "      <td>0.594541</td>\n",
       "      <td>-0.302686</td>\n",
       "      <td>-0.511276</td>\n",
       "      <td>-0.590193</td>\n",
       "      <td>0.299716</td>\n",
       "      <td>-0.181081</td>\n",
       "      <td>-0.436865</td>\n",
       "      <td>0.996631</td>\n",
       "      <td>0.330113</td>\n",
       "      <td>-0.327735</td>\n",
       "    </tr>\n",
       "  </tbody>\n",
       "</table>\n",
       "<p>5 rows × 512 columns</p>\n",
       "</div>"
      ],
      "text/plain": [
       "          0         1         2         3         4         5         6  \\\n",
       "0 -0.288502 -0.481055  0.258424  0.362731  0.475364  0.421039  0.014504   \n",
       "1  0.173821 -0.214929 -0.098004  0.432866  0.370673  0.000804 -0.735449   \n",
       "2 -0.257559 -0.065606  0.344815  0.411276  0.090839  0.738248  0.282006   \n",
       "3 -0.023537  0.186004 -0.018319  0.046002  0.285380  0.824158  0.240865   \n",
       "4 -0.832218  0.451893  0.474038 -0.018249 -0.478648  0.178108 -0.472869   \n",
       "\n",
       "          7         8         9  ...       502       503       504       505  \\\n",
       "0  0.213545 -0.390066  0.103808  ...  0.193389 -0.345230 -0.041291  0.063343   \n",
       "1  0.162931  0.113988  0.468011  ...  0.133606 -0.374622 -0.360892 -0.394297   \n",
       "2  0.331116 -0.213441  0.092032  ...  0.273857 -0.094201  0.245259  0.438028   \n",
       "3  0.177934 -0.293685  0.369762  ...  0.076834  0.171872  0.258420  0.169574   \n",
       "4 -0.532138 -0.491469 -0.466011  ...  0.594541 -0.302686 -0.511276 -0.590193   \n",
       "\n",
       "        506       507       508       509       510       511  \n",
       "0 -0.230869 -0.018990 -0.462915 -0.762691  0.271782 -0.653218  \n",
       "1 -0.168498 -0.262506 -0.958892  0.099089  0.487517 -0.307144  \n",
       "2 -0.413395  0.425271 -0.417884 -0.886485  0.458968 -0.380352  \n",
       "3 -0.280809  0.322120 -0.102916 -0.606135  0.186568 -0.477317  \n",
       "4  0.299716 -0.181081 -0.436865  0.996631  0.330113 -0.327735  \n",
       "\n",
       "[5 rows x 512 columns]"
      ]
     },
     "execution_count": 21,
     "metadata": {},
     "output_type": "execute_result"
    }
   ],
   "source": [
    "df.head()"
   ]
  },
  {
   "cell_type": "code",
   "execution_count": 22,
   "metadata": {},
   "outputs": [
    {
     "data": {
      "text/plain": [
       "0    5\n",
       "1    5\n",
       "2    5\n",
       "3    5\n",
       "4    3\n",
       "Name: star_rating, dtype: int64"
      ]
     },
     "execution_count": 22,
     "metadata": {},
     "output_type": "execute_result"
    }
   ],
   "source": [
    "rating.head()"
   ]
  },
  {
   "cell_type": "code",
   "execution_count": 23,
   "metadata": {},
   "outputs": [],
   "source": [
    "model = Sequential()\n",
    "\n",
    "model.add(Dense(384, input_shape=(df.shape[1],), kernel_initializer='glorot_uniform'))\n",
    "model.add(BatchNormalization())\n",
    "model.add(Activation('relu'))\n",
    "model.add(Dropout(0.2))\n",
    "\n",
    "model.add(Dense(384, kernel_initializer='glorot_uniform'))\n",
    "model.add(BatchNormalization())\n",
    "model.add(Activation('relu'))\n",
    "model.add(Dropout(0.2))\n",
    "\n",
    "model.add(Dense(5, activation='relu'))\n",
    "model.add(Activation('softmax'))\n",
    "model.compile(optimizer=SGD(), loss='categorical_crossentropy', metrics=['accuracy'])"
   ]
  },
  {
   "cell_type": "code",
   "execution_count": 24,
   "metadata": {},
   "outputs": [
    {
     "name": "stdout",
     "output_type": "stream",
     "text": [
      "_________________________________________________________________\n",
      "Layer (type)                 Output Shape              Param #   \n",
      "=================================================================\n",
      "dense_4 (Dense)              (None, 384)               196992    \n",
      "_________________________________________________________________\n",
      "batch_normalization_3 (Batch (None, 384)               1536      \n",
      "_________________________________________________________________\n",
      "activation_4 (Activation)    (None, 384)               0         \n",
      "_________________________________________________________________\n",
      "dropout_3 (Dropout)          (None, 384)               0         \n",
      "_________________________________________________________________\n",
      "dense_5 (Dense)              (None, 384)               147840    \n",
      "_________________________________________________________________\n",
      "batch_normalization_4 (Batch (None, 384)               1536      \n",
      "_________________________________________________________________\n",
      "activation_5 (Activation)    (None, 384)               0         \n",
      "_________________________________________________________________\n",
      "dropout_4 (Dropout)          (None, 384)               0         \n",
      "_________________________________________________________________\n",
      "dense_6 (Dense)              (None, 5)                 1925      \n",
      "_________________________________________________________________\n",
      "activation_6 (Activation)    (None, 5)                 0         \n",
      "=================================================================\n",
      "Total params: 349,829\n",
      "Trainable params: 348,293\n",
      "Non-trainable params: 1,536\n",
      "_________________________________________________________________\n",
      "None\n"
     ]
    }
   ],
   "source": [
    "print(model.summary())"
   ]
  },
  {
   "cell_type": "code",
   "execution_count": 25,
   "metadata": {},
   "outputs": [
    {
     "data": {
      "image/svg+xml": [
       "<svg height=\"875pt\" viewBox=\"0.00 0.00 278.00 875.00\" width=\"278pt\" xmlns=\"http://www.w3.org/2000/svg\" xmlns:xlink=\"http://www.w3.org/1999/xlink\">\n",
       "<g class=\"graph\" id=\"graph0\" transform=\"scale(1 1) rotate(0) translate(4 871)\">\n",
       "<title>G</title>\n",
       "<polygon fill=\"#ffffff\" points=\"-4,4 -4,-871 274,-871 274,4 -4,4\" stroke=\"transparent\"/>\n",
       "<!-- 114134841776 -->\n",
       "<g class=\"node\" id=\"node1\">\n",
       "<title>114134841776</title>\n",
       "<polygon fill=\"none\" points=\"39.5,-747.5 39.5,-793.5 230.5,-793.5 230.5,-747.5 39.5,-747.5\" stroke=\"#000000\"/>\n",
       "<text fill=\"#000000\" font-family=\"Times,serif\" font-size=\"14.00\" text-anchor=\"middle\" x=\"65\" y=\"-766.8\">Dense</text>\n",
       "<polyline fill=\"none\" points=\"90.5,-747.5 90.5,-793.5 \" stroke=\"#000000\"/>\n",
       "<text fill=\"#000000\" font-family=\"Times,serif\" font-size=\"14.00\" text-anchor=\"middle\" x=\"118.5\" y=\"-778.3\">input:</text>\n",
       "<polyline fill=\"none\" points=\"90.5,-770.5 146.5,-770.5 \" stroke=\"#000000\"/>\n",
       "<text fill=\"#000000\" font-family=\"Times,serif\" font-size=\"14.00\" text-anchor=\"middle\" x=\"118.5\" y=\"-755.3\">output:</text>\n",
       "<polyline fill=\"none\" points=\"146.5,-747.5 146.5,-793.5 \" stroke=\"#000000\"/>\n",
       "<text fill=\"#000000\" font-family=\"Times,serif\" font-size=\"14.00\" text-anchor=\"middle\" x=\"188.5\" y=\"-778.3\">(None, 512)</text>\n",
       "<polyline fill=\"none\" points=\"146.5,-770.5 230.5,-770.5 \" stroke=\"#000000\"/>\n",
       "<text fill=\"#000000\" font-family=\"Times,serif\" font-size=\"14.00\" text-anchor=\"middle\" x=\"188.5\" y=\"-755.3\">(None, 384)</text>\n",
       "</g>\n",
       "<!-- 114134841944 -->\n",
       "<g class=\"node\" id=\"node2\">\n",
       "<title>114134841944</title>\n",
       "<polygon fill=\"none\" points=\"0,-664.5 0,-710.5 270,-710.5 270,-664.5 0,-664.5\" stroke=\"#000000\"/>\n",
       "<text fill=\"#000000\" font-family=\"Times,serif\" font-size=\"14.00\" text-anchor=\"middle\" x=\"65\" y=\"-683.8\">BatchNormalization</text>\n",
       "<polyline fill=\"none\" points=\"130,-664.5 130,-710.5 \" stroke=\"#000000\"/>\n",
       "<text fill=\"#000000\" font-family=\"Times,serif\" font-size=\"14.00\" text-anchor=\"middle\" x=\"158\" y=\"-695.3\">input:</text>\n",
       "<polyline fill=\"none\" points=\"130,-687.5 186,-687.5 \" stroke=\"#000000\"/>\n",
       "<text fill=\"#000000\" font-family=\"Times,serif\" font-size=\"14.00\" text-anchor=\"middle\" x=\"158\" y=\"-672.3\">output:</text>\n",
       "<polyline fill=\"none\" points=\"186,-664.5 186,-710.5 \" stroke=\"#000000\"/>\n",
       "<text fill=\"#000000\" font-family=\"Times,serif\" font-size=\"14.00\" text-anchor=\"middle\" x=\"228\" y=\"-695.3\">(None, 384)</text>\n",
       "<polyline fill=\"none\" points=\"186,-687.5 270,-687.5 \" stroke=\"#000000\"/>\n",
       "<text fill=\"#000000\" font-family=\"Times,serif\" font-size=\"14.00\" text-anchor=\"middle\" x=\"228\" y=\"-672.3\">(None, 384)</text>\n",
       "</g>\n",
       "<!-- 114134841776&#45;&gt;114134841944 -->\n",
       "<g class=\"edge\" id=\"edge2\">\n",
       "<title>114134841776-&gt;114134841944</title>\n",
       "<path d=\"M135,-747.3799C135,-739.1745 135,-729.7679 135,-720.8786\" fill=\"none\" stroke=\"#000000\"/>\n",
       "<polygon fill=\"#000000\" points=\"138.5001,-720.784 135,-710.784 131.5001,-720.784 138.5001,-720.784\" stroke=\"#000000\"/>\n",
       "</g>\n",
       "<!-- 114134839704 -->\n",
       "<g class=\"node\" id=\"node3\">\n",
       "<title>114134839704</title>\n",
       "<polygon fill=\"none\" points=\"27,-581.5 27,-627.5 243,-627.5 243,-581.5 27,-581.5\" stroke=\"#000000\"/>\n",
       "<text fill=\"#000000\" font-family=\"Times,serif\" font-size=\"14.00\" text-anchor=\"middle\" x=\"65\" y=\"-600.8\">Activation</text>\n",
       "<polyline fill=\"none\" points=\"103,-581.5 103,-627.5 \" stroke=\"#000000\"/>\n",
       "<text fill=\"#000000\" font-family=\"Times,serif\" font-size=\"14.00\" text-anchor=\"middle\" x=\"131\" y=\"-612.3\">input:</text>\n",
       "<polyline fill=\"none\" points=\"103,-604.5 159,-604.5 \" stroke=\"#000000\"/>\n",
       "<text fill=\"#000000\" font-family=\"Times,serif\" font-size=\"14.00\" text-anchor=\"middle\" x=\"131\" y=\"-589.3\">output:</text>\n",
       "<polyline fill=\"none\" points=\"159,-581.5 159,-627.5 \" stroke=\"#000000\"/>\n",
       "<text fill=\"#000000\" font-family=\"Times,serif\" font-size=\"14.00\" text-anchor=\"middle\" x=\"201\" y=\"-612.3\">(None, 384)</text>\n",
       "<polyline fill=\"none\" points=\"159,-604.5 243,-604.5 \" stroke=\"#000000\"/>\n",
       "<text fill=\"#000000\" font-family=\"Times,serif\" font-size=\"14.00\" text-anchor=\"middle\" x=\"201\" y=\"-589.3\">(None, 384)</text>\n",
       "</g>\n",
       "<!-- 114134841944&#45;&gt;114134839704 -->\n",
       "<g class=\"edge\" id=\"edge3\">\n",
       "<title>114134841944-&gt;114134839704</title>\n",
       "<path d=\"M135,-664.3799C135,-656.1745 135,-646.7679 135,-637.8786\" fill=\"none\" stroke=\"#000000\"/>\n",
       "<polygon fill=\"#000000\" points=\"138.5001,-637.784 135,-627.784 131.5001,-637.784 138.5001,-637.784\" stroke=\"#000000\"/>\n",
       "</g>\n",
       "<!-- 114134841608 -->\n",
       "<g class=\"node\" id=\"node4\">\n",
       "<title>114134841608</title>\n",
       "<polygon fill=\"none\" points=\"33.5,-498.5 33.5,-544.5 236.5,-544.5 236.5,-498.5 33.5,-498.5\" stroke=\"#000000\"/>\n",
       "<text fill=\"#000000\" font-family=\"Times,serif\" font-size=\"14.00\" text-anchor=\"middle\" x=\"65\" y=\"-517.8\">Dropout</text>\n",
       "<polyline fill=\"none\" points=\"96.5,-498.5 96.5,-544.5 \" stroke=\"#000000\"/>\n",
       "<text fill=\"#000000\" font-family=\"Times,serif\" font-size=\"14.00\" text-anchor=\"middle\" x=\"124.5\" y=\"-529.3\">input:</text>\n",
       "<polyline fill=\"none\" points=\"96.5,-521.5 152.5,-521.5 \" stroke=\"#000000\"/>\n",
       "<text fill=\"#000000\" font-family=\"Times,serif\" font-size=\"14.00\" text-anchor=\"middle\" x=\"124.5\" y=\"-506.3\">output:</text>\n",
       "<polyline fill=\"none\" points=\"152.5,-498.5 152.5,-544.5 \" stroke=\"#000000\"/>\n",
       "<text fill=\"#000000\" font-family=\"Times,serif\" font-size=\"14.00\" text-anchor=\"middle\" x=\"194.5\" y=\"-529.3\">(None, 384)</text>\n",
       "<polyline fill=\"none\" points=\"152.5,-521.5 236.5,-521.5 \" stroke=\"#000000\"/>\n",
       "<text fill=\"#000000\" font-family=\"Times,serif\" font-size=\"14.00\" text-anchor=\"middle\" x=\"194.5\" y=\"-506.3\">(None, 384)</text>\n",
       "</g>\n",
       "<!-- 114134839704&#45;&gt;114134841608 -->\n",
       "<g class=\"edge\" id=\"edge4\">\n",
       "<title>114134839704-&gt;114134841608</title>\n",
       "<path d=\"M135,-581.3799C135,-573.1745 135,-563.7679 135,-554.8786\" fill=\"none\" stroke=\"#000000\"/>\n",
       "<polygon fill=\"#000000\" points=\"138.5001,-554.784 135,-544.784 131.5001,-554.784 138.5001,-554.784\" stroke=\"#000000\"/>\n",
       "</g>\n",
       "<!-- 114134840264 -->\n",
       "<g class=\"node\" id=\"node5\">\n",
       "<title>114134840264</title>\n",
       "<polygon fill=\"none\" points=\"39.5,-415.5 39.5,-461.5 230.5,-461.5 230.5,-415.5 39.5,-415.5\" stroke=\"#000000\"/>\n",
       "<text fill=\"#000000\" font-family=\"Times,serif\" font-size=\"14.00\" text-anchor=\"middle\" x=\"65\" y=\"-434.8\">Dense</text>\n",
       "<polyline fill=\"none\" points=\"90.5,-415.5 90.5,-461.5 \" stroke=\"#000000\"/>\n",
       "<text fill=\"#000000\" font-family=\"Times,serif\" font-size=\"14.00\" text-anchor=\"middle\" x=\"118.5\" y=\"-446.3\">input:</text>\n",
       "<polyline fill=\"none\" points=\"90.5,-438.5 146.5,-438.5 \" stroke=\"#000000\"/>\n",
       "<text fill=\"#000000\" font-family=\"Times,serif\" font-size=\"14.00\" text-anchor=\"middle\" x=\"118.5\" y=\"-423.3\">output:</text>\n",
       "<polyline fill=\"none\" points=\"146.5,-415.5 146.5,-461.5 \" stroke=\"#000000\"/>\n",
       "<text fill=\"#000000\" font-family=\"Times,serif\" font-size=\"14.00\" text-anchor=\"middle\" x=\"188.5\" y=\"-446.3\">(None, 384)</text>\n",
       "<polyline fill=\"none\" points=\"146.5,-438.5 230.5,-438.5 \" stroke=\"#000000\"/>\n",
       "<text fill=\"#000000\" font-family=\"Times,serif\" font-size=\"14.00\" text-anchor=\"middle\" x=\"188.5\" y=\"-423.3\">(None, 384)</text>\n",
       "</g>\n",
       "<!-- 114134841608&#45;&gt;114134840264 -->\n",
       "<g class=\"edge\" id=\"edge5\">\n",
       "<title>114134841608-&gt;114134840264</title>\n",
       "<path d=\"M135,-498.3799C135,-490.1745 135,-480.7679 135,-471.8786\" fill=\"none\" stroke=\"#000000\"/>\n",
       "<polygon fill=\"#000000\" points=\"138.5001,-471.784 135,-461.784 131.5001,-471.784 138.5001,-471.784\" stroke=\"#000000\"/>\n",
       "</g>\n",
       "<!-- 114134802504 -->\n",
       "<g class=\"node\" id=\"node6\">\n",
       "<title>114134802504</title>\n",
       "<polygon fill=\"none\" points=\"0,-332.5 0,-378.5 270,-378.5 270,-332.5 0,-332.5\" stroke=\"#000000\"/>\n",
       "<text fill=\"#000000\" font-family=\"Times,serif\" font-size=\"14.00\" text-anchor=\"middle\" x=\"65\" y=\"-351.8\">BatchNormalization</text>\n",
       "<polyline fill=\"none\" points=\"130,-332.5 130,-378.5 \" stroke=\"#000000\"/>\n",
       "<text fill=\"#000000\" font-family=\"Times,serif\" font-size=\"14.00\" text-anchor=\"middle\" x=\"158\" y=\"-363.3\">input:</text>\n",
       "<polyline fill=\"none\" points=\"130,-355.5 186,-355.5 \" stroke=\"#000000\"/>\n",
       "<text fill=\"#000000\" font-family=\"Times,serif\" font-size=\"14.00\" text-anchor=\"middle\" x=\"158\" y=\"-340.3\">output:</text>\n",
       "<polyline fill=\"none\" points=\"186,-332.5 186,-378.5 \" stroke=\"#000000\"/>\n",
       "<text fill=\"#000000\" font-family=\"Times,serif\" font-size=\"14.00\" text-anchor=\"middle\" x=\"228\" y=\"-363.3\">(None, 384)</text>\n",
       "<polyline fill=\"none\" points=\"186,-355.5 270,-355.5 \" stroke=\"#000000\"/>\n",
       "<text fill=\"#000000\" font-family=\"Times,serif\" font-size=\"14.00\" text-anchor=\"middle\" x=\"228\" y=\"-340.3\">(None, 384)</text>\n",
       "</g>\n",
       "<!-- 114134840264&#45;&gt;114134802504 -->\n",
       "<g class=\"edge\" id=\"edge6\">\n",
       "<title>114134840264-&gt;114134802504</title>\n",
       "<path d=\"M135,-415.3799C135,-407.1745 135,-397.7679 135,-388.8786\" fill=\"none\" stroke=\"#000000\"/>\n",
       "<polygon fill=\"#000000\" points=\"138.5001,-388.784 135,-378.784 131.5001,-388.784 138.5001,-388.784\" stroke=\"#000000\"/>\n",
       "</g>\n",
       "<!-- 113124698824 -->\n",
       "<g class=\"node\" id=\"node7\">\n",
       "<title>113124698824</title>\n",
       "<polygon fill=\"none\" points=\"27,-249.5 27,-295.5 243,-295.5 243,-249.5 27,-249.5\" stroke=\"#000000\"/>\n",
       "<text fill=\"#000000\" font-family=\"Times,serif\" font-size=\"14.00\" text-anchor=\"middle\" x=\"65\" y=\"-268.8\">Activation</text>\n",
       "<polyline fill=\"none\" points=\"103,-249.5 103,-295.5 \" stroke=\"#000000\"/>\n",
       "<text fill=\"#000000\" font-family=\"Times,serif\" font-size=\"14.00\" text-anchor=\"middle\" x=\"131\" y=\"-280.3\">input:</text>\n",
       "<polyline fill=\"none\" points=\"103,-272.5 159,-272.5 \" stroke=\"#000000\"/>\n",
       "<text fill=\"#000000\" font-family=\"Times,serif\" font-size=\"14.00\" text-anchor=\"middle\" x=\"131\" y=\"-257.3\">output:</text>\n",
       "<polyline fill=\"none\" points=\"159,-249.5 159,-295.5 \" stroke=\"#000000\"/>\n",
       "<text fill=\"#000000\" font-family=\"Times,serif\" font-size=\"14.00\" text-anchor=\"middle\" x=\"201\" y=\"-280.3\">(None, 384)</text>\n",
       "<polyline fill=\"none\" points=\"159,-272.5 243,-272.5 \" stroke=\"#000000\"/>\n",
       "<text fill=\"#000000\" font-family=\"Times,serif\" font-size=\"14.00\" text-anchor=\"middle\" x=\"201\" y=\"-257.3\">(None, 384)</text>\n",
       "</g>\n",
       "<!-- 114134802504&#45;&gt;113124698824 -->\n",
       "<g class=\"edge\" id=\"edge7\">\n",
       "<title>114134802504-&gt;113124698824</title>\n",
       "<path d=\"M135,-332.3799C135,-324.1745 135,-314.7679 135,-305.8786\" fill=\"none\" stroke=\"#000000\"/>\n",
       "<polygon fill=\"#000000\" points=\"138.5001,-305.784 135,-295.784 131.5001,-305.784 138.5001,-305.784\" stroke=\"#000000\"/>\n",
       "</g>\n",
       "<!-- 113124843704 -->\n",
       "<g class=\"node\" id=\"node8\">\n",
       "<title>113124843704</title>\n",
       "<polygon fill=\"none\" points=\"33.5,-166.5 33.5,-212.5 236.5,-212.5 236.5,-166.5 33.5,-166.5\" stroke=\"#000000\"/>\n",
       "<text fill=\"#000000\" font-family=\"Times,serif\" font-size=\"14.00\" text-anchor=\"middle\" x=\"65\" y=\"-185.8\">Dropout</text>\n",
       "<polyline fill=\"none\" points=\"96.5,-166.5 96.5,-212.5 \" stroke=\"#000000\"/>\n",
       "<text fill=\"#000000\" font-family=\"Times,serif\" font-size=\"14.00\" text-anchor=\"middle\" x=\"124.5\" y=\"-197.3\">input:</text>\n",
       "<polyline fill=\"none\" points=\"96.5,-189.5 152.5,-189.5 \" stroke=\"#000000\"/>\n",
       "<text fill=\"#000000\" font-family=\"Times,serif\" font-size=\"14.00\" text-anchor=\"middle\" x=\"124.5\" y=\"-174.3\">output:</text>\n",
       "<polyline fill=\"none\" points=\"152.5,-166.5 152.5,-212.5 \" stroke=\"#000000\"/>\n",
       "<text fill=\"#000000\" font-family=\"Times,serif\" font-size=\"14.00\" text-anchor=\"middle\" x=\"194.5\" y=\"-197.3\">(None, 384)</text>\n",
       "<polyline fill=\"none\" points=\"152.5,-189.5 236.5,-189.5 \" stroke=\"#000000\"/>\n",
       "<text fill=\"#000000\" font-family=\"Times,serif\" font-size=\"14.00\" text-anchor=\"middle\" x=\"194.5\" y=\"-174.3\">(None, 384)</text>\n",
       "</g>\n",
       "<!-- 113124698824&#45;&gt;113124843704 -->\n",
       "<g class=\"edge\" id=\"edge8\">\n",
       "<title>113124698824-&gt;113124843704</title>\n",
       "<path d=\"M135,-249.3799C135,-241.1745 135,-231.7679 135,-222.8786\" fill=\"none\" stroke=\"#000000\"/>\n",
       "<polygon fill=\"#000000\" points=\"138.5001,-222.784 135,-212.784 131.5001,-222.784 138.5001,-222.784\" stroke=\"#000000\"/>\n",
       "</g>\n",
       "<!-- 113127843880 -->\n",
       "<g class=\"node\" id=\"node9\">\n",
       "<title>113127843880</title>\n",
       "<polygon fill=\"none\" points=\"39.5,-83.5 39.5,-129.5 230.5,-129.5 230.5,-83.5 39.5,-83.5\" stroke=\"#000000\"/>\n",
       "<text fill=\"#000000\" font-family=\"Times,serif\" font-size=\"14.00\" text-anchor=\"middle\" x=\"65\" y=\"-102.8\">Dense</text>\n",
       "<polyline fill=\"none\" points=\"90.5,-83.5 90.5,-129.5 \" stroke=\"#000000\"/>\n",
       "<text fill=\"#000000\" font-family=\"Times,serif\" font-size=\"14.00\" text-anchor=\"middle\" x=\"118.5\" y=\"-114.3\">input:</text>\n",
       "<polyline fill=\"none\" points=\"90.5,-106.5 146.5,-106.5 \" stroke=\"#000000\"/>\n",
       "<text fill=\"#000000\" font-family=\"Times,serif\" font-size=\"14.00\" text-anchor=\"middle\" x=\"118.5\" y=\"-91.3\">output:</text>\n",
       "<polyline fill=\"none\" points=\"146.5,-83.5 146.5,-129.5 \" stroke=\"#000000\"/>\n",
       "<text fill=\"#000000\" font-family=\"Times,serif\" font-size=\"14.00\" text-anchor=\"middle\" x=\"188.5\" y=\"-114.3\">(None, 384)</text>\n",
       "<polyline fill=\"none\" points=\"146.5,-106.5 230.5,-106.5 \" stroke=\"#000000\"/>\n",
       "<text fill=\"#000000\" font-family=\"Times,serif\" font-size=\"14.00\" text-anchor=\"middle\" x=\"188.5\" y=\"-91.3\">(None, 5)</text>\n",
       "</g>\n",
       "<!-- 113124843704&#45;&gt;113127843880 -->\n",
       "<g class=\"edge\" id=\"edge9\">\n",
       "<title>113124843704-&gt;113127843880</title>\n",
       "<path d=\"M135,-166.3799C135,-158.1745 135,-148.7679 135,-139.8786\" fill=\"none\" stroke=\"#000000\"/>\n",
       "<polygon fill=\"#000000\" points=\"138.5001,-139.784 135,-129.784 131.5001,-139.784 138.5001,-139.784\" stroke=\"#000000\"/>\n",
       "</g>\n",
       "<!-- 113127748048 -->\n",
       "<g class=\"node\" id=\"node10\">\n",
       "<title>113127748048</title>\n",
       "<polygon fill=\"none\" points=\"34,-.5 34,-46.5 236,-46.5 236,-.5 34,-.5\" stroke=\"#000000\"/>\n",
       "<text fill=\"#000000\" font-family=\"Times,serif\" font-size=\"14.00\" text-anchor=\"middle\" x=\"72\" y=\"-19.8\">Activation</text>\n",
       "<polyline fill=\"none\" points=\"110,-.5 110,-46.5 \" stroke=\"#000000\"/>\n",
       "<text fill=\"#000000\" font-family=\"Times,serif\" font-size=\"14.00\" text-anchor=\"middle\" x=\"138\" y=\"-31.3\">input:</text>\n",
       "<polyline fill=\"none\" points=\"110,-23.5 166,-23.5 \" stroke=\"#000000\"/>\n",
       "<text fill=\"#000000\" font-family=\"Times,serif\" font-size=\"14.00\" text-anchor=\"middle\" x=\"138\" y=\"-8.3\">output:</text>\n",
       "<polyline fill=\"none\" points=\"166,-.5 166,-46.5 \" stroke=\"#000000\"/>\n",
       "<text fill=\"#000000\" font-family=\"Times,serif\" font-size=\"14.00\" text-anchor=\"middle\" x=\"201\" y=\"-31.3\">(None, 5)</text>\n",
       "<polyline fill=\"none\" points=\"166,-23.5 236,-23.5 \" stroke=\"#000000\"/>\n",
       "<text fill=\"#000000\" font-family=\"Times,serif\" font-size=\"14.00\" text-anchor=\"middle\" x=\"201\" y=\"-8.3\">(None, 5)</text>\n",
       "</g>\n",
       "<!-- 113127843880&#45;&gt;113127748048 -->\n",
       "<g class=\"edge\" id=\"edge10\">\n",
       "<title>113127843880-&gt;113127748048</title>\n",
       "<path d=\"M135,-83.3799C135,-75.1745 135,-65.7679 135,-56.8786\" fill=\"none\" stroke=\"#000000\"/>\n",
       "<polygon fill=\"#000000\" points=\"138.5001,-56.784 135,-46.784 131.5001,-56.784 138.5001,-56.784\" stroke=\"#000000\"/>\n",
       "</g>\n",
       "<!-- 114134840152 -->\n",
       "<g class=\"node\" id=\"node11\">\n",
       "<title>114134840152</title>\n",
       "<polygon fill=\"none\" points=\"84.5,-830.5 84.5,-866.5 185.5,-866.5 185.5,-830.5 84.5,-830.5\" stroke=\"#000000\"/>\n",
       "<text fill=\"#000000\" font-family=\"Times,serif\" font-size=\"14.00\" text-anchor=\"middle\" x=\"135\" y=\"-844.8\">114134840152</text>\n",
       "</g>\n",
       "<!-- 114134840152&#45;&gt;114134841776 -->\n",
       "<g class=\"edge\" id=\"edge1\">\n",
       "<title>114134840152-&gt;114134841776</title>\n",
       "<path d=\"M135,-830.4092C135,-822.4308 135,-812.795 135,-803.606\" fill=\"none\" stroke=\"#000000\"/>\n",
       "<polygon fill=\"#000000\" points=\"138.5001,-803.5333 135,-793.5333 131.5001,-803.5334 138.5001,-803.5333\" stroke=\"#000000\"/>\n",
       "</g>\n",
       "</g>\n",
       "</svg>"
      ],
      "text/plain": [
       "<IPython.core.display.SVG object>"
      ]
     },
     "execution_count": 25,
     "metadata": {},
     "output_type": "execute_result"
    }
   ],
   "source": [
    "SVG(model_to_dot(model, show_shapes=True, show_layer_names=False, \n",
    "                 rankdir='TB').create(prog='dot', format='svg'))"
   ]
  },
  {
   "cell_type": "code",
   "execution_count": 26,
   "metadata": {},
   "outputs": [
    {
     "name": "stdout",
     "output_type": "stream",
     "text": [
      "(111909,)\n",
      "<class 'pandas.core.series.Series'>\n"
     ]
    },
    {
     "name": "stderr",
     "output_type": "stream",
     "text": [
      "/Users/vinceluk/anaconda3/envs/capstone/lib/python3.7/site-packages/sklearn/preprocessing/_encoders.py:415: FutureWarning: The handling of integer data will change in version 0.22. Currently, the categories are determined based on the range [0, max(values)], while in the future they will be determined based on the unique values.\n",
      "If you want the future behaviour and silence this warning, you can specify \"categories='auto'\".\n",
      "In case you used a LabelEncoder before this OneHotEncoder to convert the categories to integers, then you can now use the OneHotEncoder directly.\n",
      "  warnings.warn(msg, FutureWarning)\n"
     ]
    },
    {
     "data": {
      "text/plain": [
       "array([[0., 0., 0., 0., 1.],\n",
       "       [0., 0., 0., 0., 1.],\n",
       "       [0., 0., 0., 0., 1.],\n",
       "       ...,\n",
       "       [0., 0., 1., 0., 0.],\n",
       "       [0., 0., 0., 0., 1.],\n",
       "       [0., 0., 0., 1., 0.]])"
      ]
     },
     "execution_count": 26,
     "metadata": {},
     "output_type": "execute_result"
    }
   ],
   "source": [
    "# one hot encode rating\n",
    "print(rating.shape)\n",
    "print(type(rating))\n",
    "y = OneHotEncoder().fit_transform(rating.values.reshape(len(rating), 1)).toarray()\n",
    "y"
   ]
  },
  {
   "cell_type": "code",
   "execution_count": 27,
   "metadata": {},
   "outputs": [],
   "source": [
    "x_train, x_test, y_train, y_test = train_test_split(df, y, random_state=1)"
   ]
  },
  {
   "cell_type": "code",
   "execution_count": 28,
   "metadata": {},
   "outputs": [
    {
     "name": "stdout",
     "output_type": "stream",
     "text": [
      "Train on 67144 samples, validate on 16787 samples\n",
      "Epoch 1/50\n",
      "67144/67144 [==============================] - 20s 294us/step - loss: 1.1566 - acc: 0.5786 - val_loss: 1.0003 - val_acc: 0.6328\n",
      "Epoch 2/50\n",
      "67144/67144 [==============================] - 15s 231us/step - loss: 1.0118 - acc: 0.6214 - val_loss: 0.9524 - val_acc: 0.6458\n",
      "Epoch 3/50\n",
      "67144/67144 [==============================] - 14s 206us/step - loss: 0.9751 - acc: 0.6328 - val_loss: 0.9382 - val_acc: 0.6488\n",
      "Epoch 4/50\n",
      "67144/67144 [==============================] - 14s 213us/step - loss: 0.9566 - acc: 0.6385 - val_loss: 0.9220 - val_acc: 0.6522\n",
      "Epoch 5/50\n",
      "67144/67144 [==============================] - 17s 252us/step - loss: 0.9422 - acc: 0.6433 - val_loss: 0.9127 - val_acc: 0.6567\n",
      "Epoch 6/50\n",
      "67144/67144 [==============================] - 14s 214us/step - loss: 0.9316 - acc: 0.6467 - val_loss: 0.9081 - val_acc: 0.6560\n",
      "Epoch 7/50\n",
      "67144/67144 [==============================] - 15s 222us/step - loss: 0.9221 - acc: 0.6501 - val_loss: 0.8991 - val_acc: 0.6603\n",
      "Epoch 8/50\n",
      "67144/67144 [==============================] - 16s 242us/step - loss: 0.9141 - acc: 0.6511 - val_loss: 0.8921 - val_acc: 0.6604\n",
      "Epoch 9/50\n",
      "67144/67144 [==============================] - 17s 255us/step - loss: 0.9053 - acc: 0.6562 - val_loss: 0.8815 - val_acc: 0.6638\n",
      "Epoch 10/50\n",
      "67144/67144 [==============================] - 16s 241us/step - loss: 0.8969 - acc: 0.6551 - val_loss: 0.8753 - val_acc: 0.6640\n",
      "Epoch 11/50\n",
      "67144/67144 [==============================] - 15s 223us/step - loss: 0.8889 - acc: 0.6566 - val_loss: 0.8699 - val_acc: 0.6655\n",
      "Epoch 12/50\n",
      "67144/67144 [==============================] - 14s 205us/step - loss: 0.8834 - acc: 0.6589 - val_loss: 0.8656 - val_acc: 0.6652\n",
      "Epoch 13/50\n",
      "67144/67144 [==============================] - 15s 221us/step - loss: 0.8782 - acc: 0.6597 - val_loss: 0.8638 - val_acc: 0.6662\n",
      "Epoch 14/50\n",
      "67144/67144 [==============================] - 13s 197us/step - loss: 0.8750 - acc: 0.6614 - val_loss: 0.8596 - val_acc: 0.6675\n",
      "Epoch 15/50\n",
      "67144/67144 [==============================] - 13s 195us/step - loss: 0.8680 - acc: 0.6613 - val_loss: 0.8572 - val_acc: 0.6668\n",
      "Epoch 16/50\n",
      "67144/67144 [==============================] - 13s 197us/step - loss: 0.8643 - acc: 0.6645 - val_loss: 0.8581 - val_acc: 0.6672\n",
      "Epoch 17/50\n",
      "67144/67144 [==============================] - 15s 224us/step - loss: 0.8599 - acc: 0.6645 - val_loss: 0.8542 - val_acc: 0.6682\n",
      "Epoch 18/50\n",
      "67144/67144 [==============================] - 15s 216us/step - loss: 0.8548 - acc: 0.6668 - val_loss: 0.8556 - val_acc: 0.6675\n",
      "Epoch 19/50\n",
      "67144/67144 [==============================] - 13s 196us/step - loss: 0.8535 - acc: 0.6681 - val_loss: 0.8513 - val_acc: 0.6704\n",
      "Epoch 20/50\n",
      "67144/67144 [==============================] - 13s 200us/step - loss: 0.8493 - acc: 0.6692 - val_loss: 0.8499 - val_acc: 0.6709\n",
      "Epoch 21/50\n",
      "67144/67144 [==============================] - 15s 231us/step - loss: 0.8465 - acc: 0.6695 - val_loss: 0.8496 - val_acc: 0.6705\n",
      "Epoch 22/50\n",
      "67144/67144 [==============================] - 15s 226us/step - loss: 0.8424 - acc: 0.6723 - val_loss: 0.8477 - val_acc: 0.6702\n",
      "Epoch 23/50\n",
      "67144/67144 [==============================] - 13s 197us/step - loss: 0.8423 - acc: 0.6724 - val_loss: 0.8471 - val_acc: 0.6706\n",
      "Epoch 24/50\n",
      "67144/67144 [==============================] - 13s 199us/step - loss: 0.8382 - acc: 0.6723 - val_loss: 0.8469 - val_acc: 0.6715\n",
      "Epoch 25/50\n",
      "67144/67144 [==============================] - 14s 208us/step - loss: 0.8379 - acc: 0.6728 - val_loss: 0.8456 - val_acc: 0.6708\n",
      "Epoch 26/50\n",
      "67144/67144 [==============================] - 15s 217us/step - loss: 0.8328 - acc: 0.6764 - val_loss: 0.8454 - val_acc: 0.6705\n",
      "Epoch 27/50\n",
      "67144/67144 [==============================] - 13s 200us/step - loss: 0.8303 - acc: 0.6768 - val_loss: 0.8471 - val_acc: 0.6704\n",
      "Epoch 28/50\n",
      "67144/67144 [==============================] - 13s 196us/step - loss: 0.8312 - acc: 0.6763 - val_loss: 0.8460 - val_acc: 0.6721\n",
      "Epoch 29/50\n",
      "67144/67144 [==============================] - 13s 200us/step - loss: 0.8269 - acc: 0.6768 - val_loss: 0.8443 - val_acc: 0.6704\n",
      "Epoch 30/50\n",
      "67144/67144 [==============================] - 16s 237us/step - loss: 0.8259 - acc: 0.6776 - val_loss: 0.8439 - val_acc: 0.6720\n",
      "Epoch 31/50\n",
      "67144/67144 [==============================] - 13s 197us/step - loss: 0.8227 - acc: 0.6794 - val_loss: 0.8425 - val_acc: 0.6721\n",
      "Epoch 32/50\n",
      "67144/67144 [==============================] - 14s 212us/step - loss: 0.8224 - acc: 0.6799 - val_loss: 0.8468 - val_acc: 0.6705\n",
      "Epoch 33/50\n",
      "67144/67144 [==============================] - 13s 192us/step - loss: 0.8194 - acc: 0.6797 - val_loss: 0.8439 - val_acc: 0.6703\n",
      "Epoch 34/50\n",
      "67144/67144 [==============================] - 14s 216us/step - loss: 0.8175 - acc: 0.6802 - val_loss: 0.8424 - val_acc: 0.6724\n",
      "Epoch 35/50\n",
      "67144/67144 [==============================] - 13s 193us/step - loss: 0.8172 - acc: 0.6808 - val_loss: 0.8433 - val_acc: 0.6725\n",
      "Epoch 36/50\n",
      "67144/67144 [==============================] - 12s 184us/step - loss: 0.8175 - acc: 0.6809 - val_loss: 0.8411 - val_acc: 0.6730\n",
      "Epoch 37/50\n",
      "67144/67144 [==============================] - 12s 185us/step - loss: 0.8121 - acc: 0.6831 - val_loss: 0.8433 - val_acc: 0.6717\n",
      "Epoch 38/50\n",
      "67144/67144 [==============================] - 12s 184us/step - loss: 0.8078 - acc: 0.6844 - val_loss: 0.8436 - val_acc: 0.6725\n",
      "Epoch 39/50\n",
      "67144/67144 [==============================] - 14s 208us/step - loss: 0.8097 - acc: 0.6831 - val_loss: 0.8442 - val_acc: 0.6722\n",
      "Epoch 00039: early stopping\n"
     ]
    }
   ],
   "source": [
    "early_stop = EarlyStopping(monitor='val_loss', patience=3, verbose=1)\n",
    "network_history = model.fit(x_train, y_train,\n",
    "                      batch_size=128,\n",
    "                      epochs=50,\n",
    "                      verbose=1,\n",
    "                      validation_split=0.2,\n",
    "                      callbacks=[early_stop])"
   ]
  },
  {
   "cell_type": "code",
   "execution_count": 29,
   "metadata": {},
   "outputs": [
    {
     "name": "stdout",
     "output_type": "stream",
     "text": [
      "27978/27978 [==============================] - 3s 112us/step\n",
      "Accuracy: 66.61%\n"
     ]
    }
   ],
   "source": [
    "scores = model.evaluate(x_test, y_test, verbose=1)\n",
    "print(\"Accuracy: %.2f%%\" % (scores[1]*100))\n"
   ]
  },
  {
   "cell_type": "code",
   "execution_count": 30,
   "metadata": {},
   "outputs": [
    {
     "data": {
      "image/png": "[encoded data removed]",
      "text/plain": [
       "<Figure size 432x288 with 1 Axes>"
      ]
     },
     "metadata": {
      "needs_background": "light"
     },
     "output_type": "display_data"
    },
    {
     "data": {
      "image/png": "[encoded data removed]",
      "text/plain": [
       "<Figure size 432x288 with 1 Axes>"
      ]
     },
     "metadata": {
      "needs_background": "light"
     },
     "output_type": "display_data"
    }
   ],
   "source": [
    "import matplotlib.pyplot as plt\n",
    "%matplotlib inline\n",
    "\n",
    "def plot_history(network_history):\n",
    "    plt.figure()\n",
    "    plt.xlabel('Epochs')\n",
    "    plt.ylabel('Loss')\n",
    "    plt.plot(network_history.history['loss'])\n",
    "    plt.plot(network_history.history['val_loss'])\n",
    "    plt.legend(['Training', 'Validation'])\n",
    "\n",
    "    plt.figure()\n",
    "    plt.xlabel('Epochs')\n",
    "    plt.ylabel('Accuracy')\n",
    "    plt.plot(network_history.history['acc'])\n",
    "    plt.plot(network_history.history['val_acc'])\n",
    "    plt.legend(['Training', 'Validation'], loc='lower right')\n",
    "    plt.show()\n",
    "\n",
    "plot_history(network_history)"
   ]
  },
  {
   "cell_type": "code",
   "execution_count": 31,
   "metadata": {},
   "outputs": [],
   "source": [
    "y_predict = model.predict(x_test)"
   ]
  },
  {
   "cell_type": "code",
   "execution_count": 32,
   "metadata": {},
   "outputs": [],
   "source": [
    "from sklearn.metrics import confusion_matrix, classification_report"
   ]
  },
  {
   "cell_type": "code",
   "execution_count": 33,
   "metadata": {},
   "outputs": [
    {
     "data": {
      "text/plain": [
       "array([[5.51184930e-04, 5.51184930e-04, 4.88461833e-03, 1.09215736e-01,\n",
       "        8.84797275e-01],\n",
       "       [4.42966186e-02, 1.49234310e-02, 2.06122883e-02, 7.14869723e-02,\n",
       "        8.48680735e-01],\n",
       "       [1.24653541e-02, 1.24653541e-02, 5.50638661e-02, 4.06050056e-01,\n",
       "        5.13955295e-01],\n",
       "       ...,\n",
       "       [8.96837376e-03, 8.96837376e-03, 1.47028696e-02, 6.27649903e-01,\n",
       "        3.39710504e-01],\n",
       "       [7.44049437e-04, 8.03789939e-04, 1.14739975e-02, 1.16189353e-01,\n",
       "        8.70788813e-01],\n",
       "       [3.98871303e-02, 1.20315813e-01, 3.05781424e-01, 1.91824928e-01,\n",
       "        3.42190742e-01]], dtype=float32)"
      ]
     },
     "execution_count": 33,
     "metadata": {},
     "output_type": "execute_result"
    }
   ],
   "source": [
    "y_predict"
   ]
  },
  {
   "cell_type": "code",
   "execution_count": 34,
   "metadata": {},
   "outputs": [
    {
     "data": {
      "text/html": [
       "<div>\n",
       "<style scoped>\n",
       "    .dataframe tbody tr th:only-of-type {\n",
       "        vertical-align: middle;\n",
       "    }\n",
       "\n",
       "    .dataframe tbody tr th {\n",
       "        vertical-align: top;\n",
       "    }\n",
       "\n",
       "    .dataframe thead th {\n",
       "        text-align: right;\n",
       "    }\n",
       "</style>\n",
       "<table border=\"1\" class=\"dataframe\">\n",
       "  <thead>\n",
       "    <tr style=\"text-align: right;\">\n",
       "      <th></th>\n",
       "      <th>0</th>\n",
       "      <th>1</th>\n",
       "      <th>2</th>\n",
       "      <th>3</th>\n",
       "      <th>4</th>\n",
       "    </tr>\n",
       "  </thead>\n",
       "  <tbody>\n",
       "    <tr>\n",
       "      <th>0</th>\n",
       "      <td>0.000551</td>\n",
       "      <td>0.000551</td>\n",
       "      <td>0.004885</td>\n",
       "      <td>0.109216</td>\n",
       "      <td>0.884797</td>\n",
       "    </tr>\n",
       "    <tr>\n",
       "      <th>1</th>\n",
       "      <td>0.044297</td>\n",
       "      <td>0.014923</td>\n",
       "      <td>0.020612</td>\n",
       "      <td>0.071487</td>\n",
       "      <td>0.848681</td>\n",
       "    </tr>\n",
       "    <tr>\n",
       "      <th>2</th>\n",
       "      <td>0.012465</td>\n",
       "      <td>0.012465</td>\n",
       "      <td>0.055064</td>\n",
       "      <td>0.406050</td>\n",
       "      <td>0.513955</td>\n",
       "    </tr>\n",
       "    <tr>\n",
       "      <th>3</th>\n",
       "      <td>0.001217</td>\n",
       "      <td>0.001217</td>\n",
       "      <td>0.015870</td>\n",
       "      <td>0.181987</td>\n",
       "      <td>0.799709</td>\n",
       "    </tr>\n",
       "    <tr>\n",
       "      <th>4</th>\n",
       "      <td>0.820934</td>\n",
       "      <td>0.102687</td>\n",
       "      <td>0.044084</td>\n",
       "      <td>0.016147</td>\n",
       "      <td>0.016147</td>\n",
       "    </tr>\n",
       "  </tbody>\n",
       "</table>\n",
       "</div>"
      ],
      "text/plain": [
       "          0         1         2         3         4\n",
       "0  0.000551  0.000551  0.004885  0.109216  0.884797\n",
       "1  0.044297  0.014923  0.020612  0.071487  0.848681\n",
       "2  0.012465  0.012465  0.055064  0.406050  0.513955\n",
       "3  0.001217  0.001217  0.015870  0.181987  0.799709\n",
       "4  0.820934  0.102687  0.044084  0.016147  0.016147"
      ]
     },
     "execution_count": 34,
     "metadata": {},
     "output_type": "execute_result"
    }
   ],
   "source": [
    "y_predict_df = pd.DataFrame(y_predict)\n",
    "y_predict_df.head()"
   ]
  },
  {
   "cell_type": "code",
   "execution_count": 35,
   "metadata": {},
   "outputs": [],
   "source": [
    "y_predict_unencoded = [row.idxmax() + 1 for index, row in y_predict_df.iterrows()]"
   ]
  },
  {
   "cell_type": "code",
   "execution_count": 36,
   "metadata": {},
   "outputs": [],
   "source": [
    "y_test_df = pd.DataFrame(y_test)\n",
    "y_test_unencoded = [row.idxmax() + 1 for index, row in y_test_df.iterrows()]"
   ]
  },
  {
   "cell_type": "code",
   "execution_count": 37,
   "metadata": {},
   "outputs": [
    {
     "data": {
      "text/plain": [
       "array([[ 3188,   150,   220,    73,   244],\n",
       "       [  954,   157,   323,   182,   271],\n",
       "       [  569,   185,   598,   575,   633],\n",
       "       [  268,    87,   375,  1170,  2737],\n",
       "       [  372,    70,   232,   821, 13524]])"
      ]
     },
     "execution_count": 37,
     "metadata": {},
     "output_type": "execute_result"
    }
   ],
   "source": [
    "confusion_matrix(y_test_unencoded, y_predict_unencoded)"
   ]
  },
  {
   "cell_type": "code",
   "execution_count": 38,
   "metadata": {},
   "outputs": [
    {
     "name": "stdout",
     "output_type": "stream",
     "text": [
      "              precision    recall  f1-score   support\n",
      "\n",
      "           1       0.60      0.82      0.69      3875\n",
      "           2       0.24      0.08      0.12      1887\n",
      "           3       0.34      0.23      0.28      2560\n",
      "           4       0.41      0.25      0.31      4637\n",
      "           5       0.78      0.90      0.83     15019\n",
      "\n",
      "    accuracy                           0.67     27978\n",
      "   macro avg       0.47      0.46      0.45     27978\n",
      "weighted avg       0.62      0.67      0.63     27978\n",
      "\n"
     ]
    }
   ],
   "source": [
    "print(classification_report(y_test_unencoded, y_predict_unencoded))"
   ]
  },
  {
   "cell_type": "code",
   "execution_count": 39,
   "metadata": {},
   "outputs": [],
   "source": [
    "model.save(\"models/word2vec-512-2layer-384neurons.h5\")"
   ]
  },
  {
   "cell_type": "code",
   "execution_count": null,
   "metadata": {},
   "outputs": [],
   "source": []
  }
 ],
 "metadata": {
  "hide_input": false,
  "kernelspec": {
   "display_name": "Python 3",
   "language": "python",
   "name": "python3"
  },
  "language_info": {
   "codemirror_mode": {
    "name": "ipython",
    "version": 3
   },
   "file_extension": ".py",
   "mimetype": "text/x-python",
   "name": "python",
   "nbconvert_exporter": "python",
   "pygments_lexer": "ipython3",
   "version": "3.7.3"
  }
 },
 "nbformat": 4,
 "nbformat_minor": 2
}
