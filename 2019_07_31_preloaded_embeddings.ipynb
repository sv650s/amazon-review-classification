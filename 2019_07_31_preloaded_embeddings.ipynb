{
  "nbformat": 4,
  "nbformat_minor": 0,
  "metadata": {
    "colab": {
      "name": "2019-07-31-preloaded_embeddings.ipynb",
      "version": "0.3.2",
      "provenance": [],
      "include_colab_link": true
    },
    "kernelspec": {
      "name": "python3",
      "display_name": "Python 3"
    }
  },
  "cells": [
    {
      "cell_type": "markdown",
      "metadata": {
        "id": "view-in-github",
        "colab_type": "text"
      },
      "source": [
        "<a href=\"https://colab.research.google.com/github/sv650s/sb-capstone/blob/master/2019_07_31_preloaded_embeddings.ipynb\" target=\"_parent\"><img src=\"https://colab.research.google.com/assets/colab-badge.svg\" alt=\"Open In Colab\"/></a>"
      ]
    },
    {
      "cell_type": "markdown",
      "metadata": {
        "id": "0LuXEa7txF9u",
        "colab_type": "text"
      },
      "source": [
        "# Pre-trained Embeddings notebook\n",
        "\n",
        "\n",
        "In the previous notebook [2019-07-30_deep_learning_summary](https://github.com/sv650s/sb-capstone/blob/master/2019_07_30_deep_learning_summary.ipynb) we looked at the results for various deep learning models. There were 2 models that came back with the best results:\n",
        "\n",
        "* 1 layer bi direcitonal GRU with attention\n",
        "* 3 layer CNN with maxpooling - we train this with 15 epoch without early stopping\n",
        "\n",
        "Overall, GRU model offered better precision however poor recall\n",
        "\n",
        "CNN had a good balance for F1 (precision and recall) scores for class 2, 3, 4 - our problem classes, but did poorly for our class 1 and 5\n",
        "\n",
        "In this notebook, we will use pre-trained word embeddings for both models. Idea is that in our previous notebooks, embeddings were random to start with and as we train the model as well as embeddings.\n",
        "\n",
        "With pre-trained embeddings, we should see improvements in our model in term of training time since the embedding vectors are pre-trained\n",
        "\n",
        "\n",
        "Pre-trained word vectors will come from Google's Word2Vec model pre-trained on Google News: https://github.com/mmihaltz/word2vec-GoogleNews-vectors"
      ]
    },
    {
      "cell_type": "code",
      "metadata": {
        "id": "JnVhbl5Mw8eB",
        "colab_type": "code",
        "outputId": "c97a0a21-169c-4502-e8b7-703dbd28ac15",
        "colab": {
          "base_uri": "https://localhost:8080/",
          "height": 34
        }
      },
      "source": [
        "from google.colab import drive\n",
        "import sys\n",
        "drive.mount('/content/drive')\n",
        "DRIVE_DIR = \"drive/My Drive/Springboard/capstone\"\n",
        "\n",
        "# add this to sys patch so we can import utility functions\n",
        "sys.path.append(DRIVE_DIR)\n"
      ],
      "execution_count": 1,
      "outputs": [
        {
          "output_type": "stream",
          "text": [
            "Drive already mounted at /content/drive; to attempt to forcibly remount, call drive.mount(\"/content/drive\", force_remount=True).\n"
          ],
          "name": "stdout"
        }
      ]
    },
    {
      "cell_type": "code",
      "metadata": {
        "id": "Z5ahyjedytpD",
        "colab_type": "code",
        "colab": {
          "base_uri": "https://localhost:8080/",
          "height": 34
        },
        "outputId": "17126142-b860-4f27-9846-9606f7eafa23"
      },
      "source": [
        "from keras.models import Sequential\n",
        "from keras.layers import Dense, Activation, Dropout, GRU, SpatialDropout1D, Bidirectional\n",
        "from keras.layers.normalization import BatchNormalization\n",
        "from keras.callbacks import EarlyStopping\n",
        "from keras.models import load_model\n",
        "from sklearn.model_selection import train_test_split\n",
        "from keras.optimizers import SGD\n",
        "from sklearn.preprocessing import OneHotEncoder\n",
        "from keras.layers import Flatten\n",
        "from keras.layers.convolutional import Conv1D\n",
        "from keras.layers.convolutional import MaxPooling1D\n",
        "from keras.layers.embeddings import Embedding\n",
        "import pandas as pd\n",
        "from IPython.display import SVG\n",
        "from keras.utils.vis_utils import model_to_dot\n",
        "import pickle\n",
        "from datetime import datetime\n",
        "from sklearn.metrics import confusion_matrix, classification_report\n",
        "import os\n",
        "import seaborn as sns\n",
        "import matplotlib.pyplot as plt\n",
        "\n",
        "\n",
        "# custom utility functions\n",
        "import util.dict_util as du\n",
        "import util.plot_util as pu\n",
        "import util.file_util as fu\n",
        "import util.keras_util as ku\n",
        "\n",
        "\n",
        "sns.set()\n",
        "\n",
        "import logging\n",
        "logging.basicConfig(level=logging.INFO)\n",
        "\n",
        "DATE_FORMAT = '%Y-%m-%d'\n",
        "TIME_FORMAT = '%Y-%m-%d %H:%M:%S'\n",
        "DATA_FILE = f\"{DRIVE_DIR}/data/amazon_reviews_us_Wireless_v1_00-preprocessed-110k.csv\"\n",
        "LABEL_COLUMN = \"star_rating\"\n",
        "REVIEW_COLUMN = \"review_body\"\n"
      ],
      "execution_count": 2,
      "outputs": [
        {
          "output_type": "stream",
          "text": [
            "Using TensorFlow backend.\n"
          ],
          "name": "stderr"
        }
      ]
    },
    {
      "cell_type": "code",
      "metadata": {
        "id": "zrDqbbyp0AlH",
        "colab_type": "code",
        "outputId": "f19716db-e388-44de-cbfd-497ea94ddc46",
        "colab": {
          "base_uri": "https://localhost:8080/",
          "height": 34
        }
      },
      "source": [
        "import tensorflow as tf\n",
        "# checl to make sure we are using GPU here\n",
        "tf.test.gpu_device_name()"
      ],
      "execution_count": 3,
      "outputs": [
        {
          "output_type": "execute_result",
          "data": {
            "text/plain": [
              "''"
            ]
          },
          "metadata": {
            "tags": []
          },
          "execution_count": 3
        }
      ]
    },
    {
      "cell_type": "code",
      "metadata": {
        "id": "e7eDc4zE0DAI",
        "colab_type": "code",
        "colab": {}
      },
      "source": [
        "df = pd.read_csv(f\"{DATA_FILE}\")\n",
        "ratings = df[LABEL_COLUMN]\n",
        "reviews = df[REVIEW_COLUMN]"
      ],
      "execution_count": 0,
      "outputs": []
    },
    {
      "cell_type": "markdown",
      "metadata": {
        "id": "vjf2Cy7N0i8W",
        "colab_type": "text"
      },
      "source": [
        "## Preprocessing our Data"
      ]
    },
    {
      "cell_type": "code",
      "metadata": {
        "id": "iaI2Gt8P0kar",
        "colab_type": "code",
        "outputId": "cdf8dd92-e491-4efc-d678-624c7bb2f4db",
        "colab": {
          "base_uri": "https://localhost:8080/",
          "height": 190
        }
      },
      "source": [
        "from  keras.preprocessing.text import Tokenizer\n",
        "from keras.preprocessing import sequence\n",
        "\n",
        "\n",
        "# one hot encode our lables so we can pass it to our model later\n",
        "print(\"One hot enocde label data...\")\n",
        "y = OneHotEncoder().fit_transform(ratings.values.reshape(len(ratings), 1)).toarray()\n",
        "\n",
        "# split our data into train and test sets\n",
        "print(\"Splitting data into training and test sets...\")\n",
        "X_train, X_test, y_train, y_test = train_test_split(reviews, y, random_state=1)\n",
        "\n",
        "# Pre-process our features (review body)\n",
        "t = Tokenizer(lower=True, oov_token=\"<UNK>\")\n",
        "# fit the tokenizer on the documents so that we can get word index dict - key = word, value = index of tokenizer\n",
        "t.fit_on_texts(X_train)\n",
        "\n",
        "# tokenize both our training and test data\n",
        "train_sequences = t.texts_to_sequences(X_train)\n",
        "test_sequences = t.texts_to_sequences(X_test)\n",
        "\n",
        "print(\"Vocabulary size={}\".format(len(t.word_counts)))\n",
        "print(\"Number of Documents={}\".format(t.document_count))\n",
        "\n",
        "# figure out 99% percentile for our max sequence length\n",
        "df[\"feature_length\"] = df.review_body.apply(lambda x: len(x.split()))\n",
        "max_sequence_length = int(df.feature_length.quantile([0.99]).values[0])\n",
        "print(f'Max Sequence Length: {max_sequence_length}')\n",
        "\n",
        "# pad our reviews to the max sequence length\n",
        "X_train = sequence.pad_sequences(train_sequences, maxlen=max_sequence_length)\n",
        "X_test = sequence.pad_sequences(test_sequences, maxlen=max_sequence_length)"
      ],
      "execution_count": 5,
      "outputs": [
        {
          "output_type": "stream",
          "text": [
            "One hot enocde label data...\n",
            "Splitting data into training and test sets...\n"
          ],
          "name": "stdout"
        },
        {
          "output_type": "stream",
          "text": [
            "/usr/local/lib/python3.6/dist-packages/sklearn/preprocessing/_encoders.py:415: FutureWarning: The handling of integer data will change in version 0.22. Currently, the categories are determined based on the range [0, max(values)], while in the future they will be determined based on the unique values.\n",
            "If you want the future behaviour and silence this warning, you can specify \"categories='auto'\".\n",
            "In case you used a LabelEncoder before this OneHotEncoder to convert the categories to integers, then you can now use the OneHotEncoder directly.\n",
            "  warnings.warn(msg, FutureWarning)\n"
          ],
          "name": "stderr"
        },
        {
          "output_type": "stream",
          "text": [
            "Vocabulary size=40788\n",
            "Number of Documents=84032\n",
            "Max Sequence Length: 186\n"
          ],
          "name": "stdout"
        }
      ]
    },
    {
      "cell_type": "code",
      "metadata": {
        "id": "Md9uSVflBDeL",
        "colab_type": "code",
        "colab": {}
      },
      "source": [
        "import numpy as np\n",
        "\n",
        "def load_pretrained_embeddings(word_to_index, max_features, embedding_size, embedding_file_path):    \n",
        "    \"\"\"\n",
        "    This builds a matrix of word vectors that are in our vocabulary\n",
        "    :return: matrix of word vectors - index is the index in our vocabulary, each row is the word vector    \n",
        "    \"\"\"\n",
        "    \n",
        "    def get_coefs(word,*arr): \n",
        "        return word, np.asarray(arr, dtype='float32')\n",
        "\n",
        "    # turns the embedding file into a dictionary key = word, value = word vector\n",
        "    embeddings_index = dict(get_coefs(*row.split(\" \")) \n",
        "                                for row in open(embedding_file_path, encoding=\"utf8\", errors='ignore') \n",
        "                                    if len(row)>100)\n",
        "\n",
        "    # convert the values into a array of word vectors\n",
        "    all_embs = np.stack(embeddings_index.values())\n",
        "    # get mean and std of embedding vectors so we can normalize them later\n",
        "    emb_mean, emb_std = all_embs.mean(), all_embs.std()\n",
        "    embed_size = all_embs.shape[1]\n",
        "    print(f'embed_size {embed_size}')\n",
        "    print(f'max_features {max_features}')\n",
        "    \n",
        "    \n",
        "    # nb_words = min(max_features, len(word_to_index))\n",
        "    nb_words = max_features\n",
        "    # print(f'({nb_words}, {embedding_size})')\n",
        "\n",
        "    embedding_matrix = np.random.normal(emb_mean, emb_std, (nb_words, embedding_size))\n",
        "    \n",
        "    # loop through all words in our vocabulary\n",
        "    for word, idx in word_to_index.items():\n",
        "        if idx >= max_features - 1: \n",
        "            continue\n",
        "        embedding_vector = embeddings_index.get(word)\n",
        "        if embedding_vector is not None: \n",
        "            embedding_matrix[idx] = embedding_vector\n",
        "\n",
        "    return embedding_matrix"
      ],
      "execution_count": 0,
      "outputs": []
    },
    {
      "cell_type": "code",
      "metadata": {
        "id": "pPLgA1lwE-sF",
        "colab_type": "code",
        "outputId": "05dd5d19-db8a-4c31-fcc0-c81a441c75f9",
        "colab": {
          "base_uri": "https://localhost:8080/",
          "height": 88
        }
      },
      "source": [
        "# total umber of words in our corpus\n",
        "# adding 1 because Embedding layer suggests that we pass in vocab size + 1\n",
        "# the shape of the embedding matrix/weights need to match this\n",
        "MAX_FEATURES = len(t.word_index) + 1\n",
        "EMBED_SIZE = 300\n",
        "pg_embeddings = load_pretrained_embeddings(word_to_index=t.word_index, max_features=MAX_FEATURES, \n",
        "                                            embedding_size=EMBED_SIZE, \n",
        "                                            embedding_file_path=f'{DRIVE_DIR}/data/paragram_300_sl999.txt')"
      ],
      "execution_count": 8,
      "outputs": [
        {
          "output_type": "stream",
          "text": [
            "/usr/local/lib/python3.6/dist-packages/ipykernel_launcher.py:18: FutureWarning: arrays to stack must be passed as a \"sequence\" type such as list or tuple. Support for non-sequence iterables such as generators is deprecated as of NumPy 1.16 and will raise an error in the future.\n"
          ],
          "name": "stderr"
        },
        {
          "output_type": "stream",
          "text": [
            "embed_size 300\n",
            "max_features 40790\n"
          ],
          "name": "stdout"
        }
      ]
    },
    {
      "cell_type": "code",
      "metadata": {
        "id": "8L1AFUHvjuSM",
        "colab_type": "code",
        "colab": {
          "base_uri": "https://localhost:8080/",
          "height": 68
        },
        "outputId": "387cd025-ecba-49cd-c538-b49fc844c2e4"
      },
      "source": [
        "from itertools import islice\n",
        "list(islice(t.word_index, 5))\n",
        "\n",
        "print(max([value for key, value in list(t.word_index.items())]))\n",
        "print(min([value for key, value in list(t.word_index.items())]))\n",
        "len(pg_embeddings)"
      ],
      "execution_count": 9,
      "outputs": [
        {
          "output_type": "stream",
          "text": [
            "40789\n",
            "1\n"
          ],
          "name": "stdout"
        },
        {
          "output_type": "execute_result",
          "data": {
            "text/plain": [
              "40790"
            ]
          },
          "metadata": {
            "tags": []
          },
          "execution_count": 9
        }
      ]
    },
    {
      "cell_type": "code",
      "metadata": {
        "id": "xn0PsCM_G_GF",
        "colab_type": "code",
        "colab": {}
      },
      "source": [
        "MODEL_NAME = \"biGRU_1layer_attention-paragram\"\n",
        "EPOCHS  = 50\n",
        "BATCH_SIZE = 128\n",
        "GRU_DIM = 250 # total GRU units"
      ],
      "execution_count": 0,
      "outputs": []
    },
    {
      "cell_type": "code",
      "metadata": {
        "id": "EkXJplHZNzRZ",
        "colab_type": "code",
        "outputId": "ba7292c5-2b59-4180-c7f1-06fec4d36510",
        "colab": {
          "base_uri": "https://localhost:8080/",
          "height": 85
        }
      },
      "source": [
        "print(f'Max Features: {MAX_FEATURES}')\n",
        "print(f'max_sequence_length {max_sequence_length}')\n",
        "print(f'pg_embeddings.shape {pg_embeddings.shape}')\n",
        "print(f'EMBED_SIZE {EMBED_SIZE}')"
      ],
      "execution_count": 11,
      "outputs": [
        {
          "output_type": "stream",
          "text": [
            "Max Features: 40790\n",
            "max_sequence_length 186\n",
            "pg_embeddings.shape (40790, 300)\n",
            "EMBED_SIZE 300\n"
          ],
          "name": "stdout"
        }
      ]
    },
    {
      "cell_type": "markdown",
      "metadata": {
        "id": "Dxo0j2gkHu8m",
        "colab_type": "text"
      },
      "source": [
        "### Reusing our code from previous notebook that we put into utility class\n",
        "\n",
        "For full source code for ModelWrapper and AttentionLayer, please look at [keras_util.py](https://github.com/sv650s/sb-capstone/blob/master/util/keras_util.py)"
      ]
    },
    {
      "cell_type": "code",
      "metadata": {
        "id": "3bFyJk_BHG1Z",
        "colab_type": "code",
        "outputId": "2c80338b-47dd-4b69-8b37-58b75605973a",
        "colab": {
          "base_uri": "https://localhost:8080/",
          "height": 309
        }
      },
      "source": [
        "from keras.layers import CuDNNGRU\n",
        "from keras.callbacks import EarlyStopping, ReduceLROnPlateau\n",
        "\n",
        "\n",
        "reduce_lr = ReduceLROnPlateau(monitor='val_loss', \n",
        "                              factor=0.4,\n",
        "                              patience=2, \n",
        "                              min_lr=0.00001,\n",
        "                             mode='auto')\n",
        "\n",
        "early_stop = EarlyStopping(monitor='val_loss', \n",
        "                           patience=2, \n",
        "                           mode='auto', \n",
        "                           verbose=1,\n",
        "                          restore_best_weights=True)\n",
        "\n",
        "\n",
        "inp = keras.layers.Input(shape=(max_sequence_length,))\n",
        "x = keras.layers.Embedding(MAX_FEATURES, \n",
        "                    EMBED_SIZE, \n",
        "                    input_length=max_sequence_length, \n",
        "                    weights=[pg_embeddings], trainable=True)(inp)\n",
        "x = ku.AttentionLayer(max_sequence_length)(x)\n",
        "x = keras.layers.Dense(GRU_DIM*2, activation='relu')(x)\n",
        "x = keras.layers.Dropout(rate=0.2)(x)\n",
        "x = keras.layers.Dense(GRU_DIM, activation='relu')(x)\n",
        "x = keras.layers.Dropout(rate=0.2)(x)\n",
        "\n",
        "outp = keras.layers.Dense(5, activation='softmax')(x)\n",
        "# initialize the model\n",
        "model = keras.models.Model(inputs=inp, outputs=outp)\n",
        "model.compile(loss='categorical_crossentropy', \n",
        "              optimizer='adam', \n",
        "              metrics=['accuracy'])\n",
        "\n",
        "\n",
        "# wrap our model in our class so we can record metrics\n",
        "mw = ku.ModelWrapper(model, MODEL_NAME, LABEL_COLUMN, DATA_FILE,\n",
        "                     embedding=EMBED_SIZE,\n",
        "                     tokenizer=t, description=\"Pre-trained Embedding - paragram\")\n",
        "\n",
        "network_history = mw.fit(X_train, y_train,\n",
        "                      batch_size=BATCH_SIZE,\n",
        "                      epochs=EPOCHS,\n",
        "                      verbose=1,\n",
        "                      validation_split=0.2,\n",
        "                      callbacks=[reduce_lr, early_stop])\n"
      ],
      "execution_count": 13,
      "outputs": [
        {
          "output_type": "stream",
          "text": [
            "W0802 06:28:58.665066 140272738895744 deprecation.py:323] From /usr/local/lib/python3.6/dist-packages/tensorflow/python/ops/math_grad.py:1250: add_dispatch_support.<locals>.wrapper (from tensorflow.python.ops.array_ops) is deprecated and will be removed in a future version.\n",
            "Instructions for updating:\n",
            "Use tf.where in 2.0, which has the same broadcast rule as np.where\n"
          ],
          "name": "stderr"
        },
        {
          "output_type": "stream",
          "text": [
            "Train on 67225 samples, validate on 16807 samples\n",
            "Epoch 1/50\n",
            "67225/67225 [==============================] - 151s 2ms/step - loss: 1.0221 - acc: 0.6127 - val_loss: 0.9435 - val_acc: 0.6362\n",
            "Epoch 2/50\n",
            "67225/67225 [==============================] - 149s 2ms/step - loss: 0.8655 - acc: 0.6637 - val_loss: 0.8652 - val_acc: 0.6647\n",
            "Epoch 3/50\n",
            "67225/67225 [==============================] - 148s 2ms/step - loss: 0.8144 - acc: 0.6839 - val_loss: 0.8601 - val_acc: 0.6682\n",
            "Epoch 4/50\n",
            "67225/67225 [==============================] - 150s 2ms/step - loss: 0.7827 - acc: 0.6961 - val_loss: 0.8657 - val_acc: 0.6695\n",
            "Epoch 5/50\n",
            "67225/67225 [==============================] - 150s 2ms/step - loss: 0.7496 - acc: 0.7109 - val_loss: 0.8744 - val_acc: 0.6636\n",
            "Restoring model weights from the end of the best epoch\n",
            "Epoch 00005: early stopping\n"
          ],
          "name": "stdout"
        }
      ]
    },
    {
      "cell_type": "markdown",
      "metadata": {
        "id": "QtvhMNkzEV9u",
        "colab_type": "text"
      },
      "source": [
        "## Evaluate our Model"
      ]
    },
    {
      "cell_type": "code",
      "metadata": {
        "id": "zXi8fOwOLuSY",
        "colab_type": "code",
        "colab": {
          "base_uri": "https://localhost:8080/",
          "height": 136
        },
        "outputId": "f44338a1-51da-4055-9303-10ca8378f86b"
      },
      "source": [
        "mw.evaluate(X_test, y_test)"
      ],
      "execution_count": 15,
      "outputs": [
        {
          "output_type": "stream",
          "text": [
            "Running model.evaluate...\n",
            "28011/28011 [==============================] - 8s 288us/step\n",
            "Running model.predict...\n",
            "Unencode predictions...\n",
            "Generating confusion matrix...\n",
            "Calculating ROC AUC...\n",
            "Getting classification report...\n"
          ],
          "name": "stdout"
        }
      ]
    },
    {
      "cell_type": "code",
      "metadata": {
        "id": "Qg_9M-SDGGXz",
        "colab_type": "code",
        "colab": {
          "base_uri": "https://localhost:8080/",
          "height": 345
        },
        "outputId": "99e1ccc6-0a5e-424f-9beb-fb58c8de933e"
      },
      "source": [
        "pu.plot_network_history(mw.network_history)"
      ],
      "execution_count": 20,
      "outputs": [
        {
          "output_type": "display_data",
          "data": {
            "image/png": "[encoded data removed]",
            "text/plain": [
              "<Figure size 720x360 with 2 Axes>"
            ]
          },
          "metadata": {
            "tags": []
          }
        }
      ]
    },
    {
      "cell_type": "code",
      "metadata": {
        "id": "vrkfnfuaM4lK",
        "colab_type": "code",
        "colab": {
          "base_uri": "https://localhost:8080/",
          "height": 34
        },
        "outputId": "660cc848-68a0-4410-d603-d551130f6d5b"
      },
      "source": [
        "print(f'Accuracy: {mw.scores[1]}')"
      ],
      "execution_count": 17,
      "outputs": [
        {
          "output_type": "stream",
          "text": [
            "Accuracy: 0.668987183612824\n"
          ],
          "name": "stdout"
        }
      ]
    },
    {
      "cell_type": "code",
      "metadata": {
        "id": "t8LfGP7xEOHn",
        "colab_type": "code",
        "colab": {
          "base_uri": "https://localhost:8080/",
          "height": 102
        },
        "outputId": "71a2e843-6e19-4cc1-c3c4-e043665a32eb"
      },
      "source": [
        "mw.confusion_matrix"
      ],
      "execution_count": 18,
      "outputs": [
        {
          "output_type": "execute_result",
          "data": {
            "text/plain": [
              "array([[ 3036,    83,   259,    78,   512],\n",
              "       [  814,    77,   387,   180,   413],\n",
              "       [  477,    61,   575,   639,   779],\n",
              "       [  145,    23,   353,  1093,  3138],\n",
              "       [  191,    10,   125,   605, 13958]])"
            ]
          },
          "metadata": {
            "tags": []
          },
          "execution_count": 18
        }
      ]
    },
    {
      "cell_type": "code",
      "metadata": {
        "id": "IZBKl16JEUaK",
        "colab_type": "code",
        "colab": {
          "base_uri": "https://localhost:8080/",
          "height": 221
        },
        "outputId": "5d7673dc-a406-4125-e760-856d05fd467d"
      },
      "source": [
        "print(mw.classification_report)"
      ],
      "execution_count": 19,
      "outputs": [
        {
          "output_type": "stream",
          "text": [
            "              precision    recall  f1-score   support\n",
            "\n",
            "           1       0.65      0.77      0.70      3968\n",
            "           2       0.30      0.04      0.07      1871\n",
            "           3       0.34      0.23      0.27      2531\n",
            "           4       0.42      0.23      0.30      4752\n",
            "           5       0.74      0.94      0.83     14889\n",
            "\n",
            "    accuracy                           0.67     28011\n",
            "   macro avg       0.49      0.44      0.43     28011\n",
            "weighted avg       0.61      0.67      0.62     28011\n",
            "\n"
          ],
          "name": "stdout"
        }
      ]
    },
    {
      "cell_type": "code",
      "metadata": {
        "id": "zjVmGCTzEcwJ",
        "colab_type": "code",
        "colab": {
          "base_uri": "https://localhost:8080/",
          "height": 366
        },
        "outputId": "db5c7251-7d5e-4123-c070-5095ce717eec"
      },
      "source": [
        "pu.plot_roc_auc(MODEL_NAME, mw.roc_auc, mw.fpr, mw.tpr)"
      ],
      "execution_count": 21,
      "outputs": [
        {
          "output_type": "display_data",
          "data": {
            "image/png": "[encoded data removed]",
            "text/plain": [
              "<Figure size 432x288 with 1 Axes>"
            ]
          },
          "metadata": {
            "tags": []
          }
        }
      ]
    },
    {
      "cell_type": "code",
      "metadata": {
        "id": "U8v-eDMWGPka",
        "colab_type": "code",
        "colab": {
          "base_uri": "https://localhost:8080/",
          "height": 122
        },
        "outputId": "f2f65937-70f9-40da-b4a9-ce9ceffec26d"
      },
      "source": [
        "mw.save(DRIVE_DIR, append_report=True)"
      ],
      "execution_count": 23,
      "outputs": [
        {
          "output_type": "stream",
          "text": [
            "description: amazon_reviews_us_Wireless_v1_00-preprocessed-110k-biGRU_1layer_attention-paragram-186-star_rating\n",
            "Saving model file: drive/My Drive/Springboard/capstone/models/amazon_reviews_us_Wireless_v1_00-preprocessed-110k-biGRU_1layer_attention-paragram-186-star_rating-model.h5\n",
            "Saving network history file: drive/My Drive/Springboard/capstone/models/amazon_reviews_us_Wireless_v1_00-preprocessed-110k-biGRU_1layer_attention-paragram-186-star_rating-history.pkl\n",
            "Saving to report file: drive/My Drive/Springboard/capstone/reports/2019-08-02-dl_protype-report.csv\n",
            "Saving report file...\n"
          ],
          "name": "stdout"
        }
      ]
    },
    {
      "cell_type": "code",
      "metadata": {
        "id": "buOMnhY-Gjve",
        "colab_type": "code",
        "colab": {}
      },
      "source": [
        ""
      ],
      "execution_count": 0,
      "outputs": []
    }
  ]
}