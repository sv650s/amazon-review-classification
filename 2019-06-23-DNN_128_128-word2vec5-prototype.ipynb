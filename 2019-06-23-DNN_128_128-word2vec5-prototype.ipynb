{
  "nbformat": 4,
  "nbformat_minor": 0,
  "metadata": {
    "hide_input": false,
    "kernelspec": {
      "display_name": "Python 3",
      "language": "python",
      "name": "python3"
    },
    "language_info": {
      "codemirror_mode": {
        "name": "ipython",
        "version": 3
      },
      "file_extension": ".py",
      "mimetype": "text/x-python",
      "name": "python",
      "nbconvert_exporter": "python",
      "pygments_lexer": "ipython3",
      "version": "3.7.3"
    },
    "colab": {
      "name": "2019-06-23-DNN_128_128-word2vec5-prototype.ipynb",
      "version": "0.3.2",
      "provenance": [],
      "include_colab_link": true
    }
  },
  "cells": [
    {
      "cell_type": "markdown",
      "metadata": {
        "id": "view-in-github",
        "colab_type": "text"
      },
      "source": [
        "<a href=\"https://colab.research.google.com/github/sv650s/sb-capstone/blob/master/2019-06-23-DNN_128_128-word2vec5-prototype.ipynb\" target=\"_parent\"><img src=\"https://colab.research.google.com/assets/colab-badge.svg\" alt=\"Open In Colab\"/></a>"
      ]
    },
    {
      "cell_type": "markdown",
      "metadata": {
        "id": "kvY1y5nsUOpl",
        "colab_type": "text"
      },
      "source": [
        "# DNN Prototype\n",
        "\n",
        "Trying out a 2 layer network using word2vec embedding. Embedding was creating with word_context == 5\n",
        "Recommendation that I read for NN is the number of neurons should not exceed 2/3 of the number of features which would be around 340 for 512 features\n",
        "\n",
        "Since I have 2 layers in the network, I am choosing powers of 2 and giving each hidden layer 128 neurons"
      ]
    },
    {
      "cell_type": "code",
      "metadata": {
        "id": "r829qGHuU8s4",
        "colab_type": "code",
        "colab": {
          "base_uri": "https://localhost:8080/",
          "height": 34
        },
        "outputId": "c03237c9-2343-4592-dbab-3ff2ac6b6c96"
      },
      "source": [
        "from google.colab import drive\n",
        "import sys\n",
        "drive.mount('/content/drive')\n",
        "# add this to sys patch so we can import utility functions\n",
        "DRIVE_DIR = \"drive/My Drive/Springboard/capstone\"\n",
        "sys.path.append('drive/My Drive/Springboard/capstone')\n"
      ],
      "execution_count": 17,
      "outputs": [
        {
          "output_type": "stream",
          "text": [
            "Drive already mounted at /content/drive; to attempt to forcibly remount, call drive.mount(\"/content/drive\", force_remount=True).\n"
          ],
          "name": "stdout"
        }
      ]
    },
    {
      "cell_type": "code",
      "metadata": {
        "id": "Q1CC3ItAUOpm",
        "colab_type": "code",
        "colab": {}
      },
      "source": [
        "from keras.models import Sequential\n",
        "from keras.layers import Dense, Activation, Dropout\n",
        "from keras.layers.normalization import BatchNormalization\n",
        "from keras.callbacks import EarlyStopping\n",
        "from keras.models import load_model\n",
        "from sklearn.model_selection import train_test_split\n",
        "from keras.optimizers import SGD\n",
        "from sklearn.preprocessing import OneHotEncoder\n",
        "import pandas as pd\n",
        "from IPython.display import SVG\n",
        "from keras.utils.vis_utils import model_to_dot\n",
        "from util import dict_util as du\n",
        "from util import file_util as fu\n",
        "from util import plot_util as pu\n",
        "from util import keras_util as ku\n",
        "from datetime import datetime\n",
        "from sklearn.metrics import confusion_matrix, classification_report\n",
        "import os\n",
        "import seaborn as sns\n",
        "\n",
        "\n",
        "sns.set()\n",
        "\n",
        "import logging\n",
        "logging.basicConfig(level=logging.INFO)\n",
        "\n",
        "\n"
      ],
      "execution_count": 0,
      "outputs": []
    },
    {
      "cell_type": "code",
      "metadata": {
        "id": "V7LcWO75UOpr",
        "colab_type": "code",
        "colab": {}
      },
      "source": [
        "DATE_FORMAT = '%Y-%m-%d'\n",
        "TIME_FORMAT = '%Y-%m-%d %H:%M:%S'\n",
        "DATA_FILE = \"review_body-word2vec5-111909-512-nolda.csv\"\n",
        "MODEL_NAME = \"DNN_128_128\"\n",
        "LABEL_COLUMN = \"star_rating\"\n",
        "EPOCH=100\n"
      ],
      "execution_count": 0,
      "outputs": []
    },
    {
      "cell_type": "code",
      "metadata": {
        "hide_input": false,
        "id": "VtFDJ1gGUOpt",
        "colab_type": "code",
        "colab": {}
      },
      "source": [
        "df = pd.read_csv(f\"{DRIVE_DIR}/data/{DATA_FILE}\")\n",
        "rating = df[LABEL_COLUMN]\n",
        "df = df.drop(columns=[\"helpful_votes\", \"total_votes\", \"helpful_product\", \"star_rating\"])"
      ],
      "execution_count": 0,
      "outputs": []
    },
    {
      "cell_type": "code",
      "metadata": {
        "id": "hpigRg3OUOpv",
        "colab_type": "code",
        "colab": {
          "base_uri": "https://localhost:8080/",
          "height": 253
        },
        "outputId": "03a5bae6-1fe2-40c3-bb92-e5facba4a747"
      },
      "source": [
        "df.head()"
      ],
      "execution_count": 21,
      "outputs": [
        {
          "output_type": "execute_result",
          "data": {
            "text/html": [
              "<div>\n",
              "<style scoped>\n",
              "    .dataframe tbody tr th:only-of-type {\n",
              "        vertical-align: middle;\n",
              "    }\n",
              "\n",
              "    .dataframe tbody tr th {\n",
              "        vertical-align: top;\n",
              "    }\n",
              "\n",
              "    .dataframe thead th {\n",
              "        text-align: right;\n",
              "    }\n",
              "</style>\n",
              "<table border=\"1\" class=\"dataframe\">\n",
              "  <thead>\n",
              "    <tr style=\"text-align: right;\">\n",
              "      <th></th>\n",
              "      <th>0</th>\n",
              "      <th>1</th>\n",
              "      <th>2</th>\n",
              "      <th>3</th>\n",
              "      <th>4</th>\n",
              "      <th>5</th>\n",
              "      <th>6</th>\n",
              "      <th>7</th>\n",
              "      <th>8</th>\n",
              "      <th>9</th>\n",
              "      <th>10</th>\n",
              "      <th>11</th>\n",
              "      <th>12</th>\n",
              "      <th>13</th>\n",
              "      <th>14</th>\n",
              "      <th>15</th>\n",
              "      <th>16</th>\n",
              "      <th>17</th>\n",
              "      <th>18</th>\n",
              "      <th>19</th>\n",
              "      <th>20</th>\n",
              "      <th>21</th>\n",
              "      <th>22</th>\n",
              "      <th>23</th>\n",
              "      <th>24</th>\n",
              "      <th>25</th>\n",
              "      <th>26</th>\n",
              "      <th>27</th>\n",
              "      <th>28</th>\n",
              "      <th>29</th>\n",
              "      <th>30</th>\n",
              "      <th>31</th>\n",
              "      <th>32</th>\n",
              "      <th>33</th>\n",
              "      <th>34</th>\n",
              "      <th>35</th>\n",
              "      <th>36</th>\n",
              "      <th>37</th>\n",
              "      <th>38</th>\n",
              "      <th>39</th>\n",
              "      <th>...</th>\n",
              "      <th>472</th>\n",
              "      <th>473</th>\n",
              "      <th>474</th>\n",
              "      <th>475</th>\n",
              "      <th>476</th>\n",
              "      <th>477</th>\n",
              "      <th>478</th>\n",
              "      <th>479</th>\n",
              "      <th>480</th>\n",
              "      <th>481</th>\n",
              "      <th>482</th>\n",
              "      <th>483</th>\n",
              "      <th>484</th>\n",
              "      <th>485</th>\n",
              "      <th>486</th>\n",
              "      <th>487</th>\n",
              "      <th>488</th>\n",
              "      <th>489</th>\n",
              "      <th>490</th>\n",
              "      <th>491</th>\n",
              "      <th>492</th>\n",
              "      <th>493</th>\n",
              "      <th>494</th>\n",
              "      <th>495</th>\n",
              "      <th>496</th>\n",
              "      <th>497</th>\n",
              "      <th>498</th>\n",
              "      <th>499</th>\n",
              "      <th>500</th>\n",
              "      <th>501</th>\n",
              "      <th>502</th>\n",
              "      <th>503</th>\n",
              "      <th>504</th>\n",
              "      <th>505</th>\n",
              "      <th>506</th>\n",
              "      <th>507</th>\n",
              "      <th>508</th>\n",
              "      <th>509</th>\n",
              "      <th>510</th>\n",
              "      <th>511</th>\n",
              "    </tr>\n",
              "  </thead>\n",
              "  <tbody>\n",
              "    <tr>\n",
              "      <th>0</th>\n",
              "      <td>-0.288502</td>\n",
              "      <td>-0.481055</td>\n",
              "      <td>0.258424</td>\n",
              "      <td>0.362731</td>\n",
              "      <td>0.475364</td>\n",
              "      <td>0.421039</td>\n",
              "      <td>0.014504</td>\n",
              "      <td>0.213545</td>\n",
              "      <td>-0.390066</td>\n",
              "      <td>0.103808</td>\n",
              "      <td>0.092057</td>\n",
              "      <td>-0.045284</td>\n",
              "      <td>0.178335</td>\n",
              "      <td>0.163173</td>\n",
              "      <td>-0.825025</td>\n",
              "      <td>-0.117711</td>\n",
              "      <td>0.193103</td>\n",
              "      <td>-0.039416</td>\n",
              "      <td>0.232813</td>\n",
              "      <td>-0.626957</td>\n",
              "      <td>0.255899</td>\n",
              "      <td>-0.086203</td>\n",
              "      <td>-0.112010</td>\n",
              "      <td>-0.049405</td>\n",
              "      <td>-0.168732</td>\n",
              "      <td>-0.066539</td>\n",
              "      <td>-0.313819</td>\n",
              "      <td>-0.177017</td>\n",
              "      <td>0.028803</td>\n",
              "      <td>-0.097103</td>\n",
              "      <td>0.623241</td>\n",
              "      <td>0.014126</td>\n",
              "      <td>0.023108</td>\n",
              "      <td>0.058664</td>\n",
              "      <td>-0.216553</td>\n",
              "      <td>0.400928</td>\n",
              "      <td>0.303050</td>\n",
              "      <td>-0.222227</td>\n",
              "      <td>-0.287176</td>\n",
              "      <td>0.037768</td>\n",
              "      <td>...</td>\n",
              "      <td>0.329862</td>\n",
              "      <td>0.034904</td>\n",
              "      <td>-0.214976</td>\n",
              "      <td>0.167887</td>\n",
              "      <td>-0.085614</td>\n",
              "      <td>-0.093523</td>\n",
              "      <td>-0.529687</td>\n",
              "      <td>0.326094</td>\n",
              "      <td>0.163124</td>\n",
              "      <td>-0.068303</td>\n",
              "      <td>-0.531376</td>\n",
              "      <td>-0.006876</td>\n",
              "      <td>-0.179367</td>\n",
              "      <td>0.017102</td>\n",
              "      <td>0.018383</td>\n",
              "      <td>-0.121967</td>\n",
              "      <td>0.012128</td>\n",
              "      <td>-0.409407</td>\n",
              "      <td>-0.597547</td>\n",
              "      <td>-0.159906</td>\n",
              "      <td>-0.358888</td>\n",
              "      <td>-0.042565</td>\n",
              "      <td>0.285005</td>\n",
              "      <td>0.432336</td>\n",
              "      <td>-0.005819</td>\n",
              "      <td>-0.093201</td>\n",
              "      <td>0.208513</td>\n",
              "      <td>-0.279186</td>\n",
              "      <td>-0.242795</td>\n",
              "      <td>0.565175</td>\n",
              "      <td>0.193389</td>\n",
              "      <td>-0.345230</td>\n",
              "      <td>-0.041291</td>\n",
              "      <td>0.063343</td>\n",
              "      <td>-0.230869</td>\n",
              "      <td>-0.018990</td>\n",
              "      <td>-0.462915</td>\n",
              "      <td>-0.762691</td>\n",
              "      <td>0.271782</td>\n",
              "      <td>-0.653218</td>\n",
              "    </tr>\n",
              "    <tr>\n",
              "      <th>1</th>\n",
              "      <td>0.173821</td>\n",
              "      <td>-0.214929</td>\n",
              "      <td>-0.098004</td>\n",
              "      <td>0.432866</td>\n",
              "      <td>0.370673</td>\n",
              "      <td>0.000804</td>\n",
              "      <td>-0.735449</td>\n",
              "      <td>0.162931</td>\n",
              "      <td>0.113988</td>\n",
              "      <td>0.468011</td>\n",
              "      <td>0.091182</td>\n",
              "      <td>-0.015925</td>\n",
              "      <td>-0.367213</td>\n",
              "      <td>-0.148326</td>\n",
              "      <td>-0.570235</td>\n",
              "      <td>0.235001</td>\n",
              "      <td>0.474639</td>\n",
              "      <td>0.056680</td>\n",
              "      <td>0.336305</td>\n",
              "      <td>-0.118116</td>\n",
              "      <td>0.086382</td>\n",
              "      <td>-0.023839</td>\n",
              "      <td>0.352665</td>\n",
              "      <td>0.201555</td>\n",
              "      <td>-0.232855</td>\n",
              "      <td>0.139960</td>\n",
              "      <td>-0.107633</td>\n",
              "      <td>-0.274393</td>\n",
              "      <td>-0.098784</td>\n",
              "      <td>0.033530</td>\n",
              "      <td>0.202761</td>\n",
              "      <td>-0.214515</td>\n",
              "      <td>-0.363571</td>\n",
              "      <td>0.180008</td>\n",
              "      <td>0.160661</td>\n",
              "      <td>0.698344</td>\n",
              "      <td>0.403793</td>\n",
              "      <td>-0.036676</td>\n",
              "      <td>-0.124082</td>\n",
              "      <td>-0.088976</td>\n",
              "      <td>...</td>\n",
              "      <td>0.558337</td>\n",
              "      <td>-0.285610</td>\n",
              "      <td>-0.147095</td>\n",
              "      <td>0.117567</td>\n",
              "      <td>0.064415</td>\n",
              "      <td>-0.074428</td>\n",
              "      <td>0.022359</td>\n",
              "      <td>0.361806</td>\n",
              "      <td>0.115827</td>\n",
              "      <td>-0.102381</td>\n",
              "      <td>-0.170256</td>\n",
              "      <td>0.033135</td>\n",
              "      <td>0.093055</td>\n",
              "      <td>0.162718</td>\n",
              "      <td>-0.243858</td>\n",
              "      <td>0.281852</td>\n",
              "      <td>0.290611</td>\n",
              "      <td>-0.160803</td>\n",
              "      <td>-0.242895</td>\n",
              "      <td>0.113361</td>\n",
              "      <td>-0.758359</td>\n",
              "      <td>0.122067</td>\n",
              "      <td>0.039228</td>\n",
              "      <td>0.199917</td>\n",
              "      <td>-0.438904</td>\n",
              "      <td>-0.207233</td>\n",
              "      <td>-0.046206</td>\n",
              "      <td>-0.307828</td>\n",
              "      <td>-0.336320</td>\n",
              "      <td>0.378690</td>\n",
              "      <td>0.133606</td>\n",
              "      <td>-0.374622</td>\n",
              "      <td>-0.360892</td>\n",
              "      <td>-0.394297</td>\n",
              "      <td>-0.168498</td>\n",
              "      <td>-0.262506</td>\n",
              "      <td>-0.958892</td>\n",
              "      <td>0.099089</td>\n",
              "      <td>0.487517</td>\n",
              "      <td>-0.307144</td>\n",
              "    </tr>\n",
              "    <tr>\n",
              "      <th>2</th>\n",
              "      <td>-0.257559</td>\n",
              "      <td>-0.065606</td>\n",
              "      <td>0.344815</td>\n",
              "      <td>0.411276</td>\n",
              "      <td>0.090839</td>\n",
              "      <td>0.738248</td>\n",
              "      <td>0.282006</td>\n",
              "      <td>0.331116</td>\n",
              "      <td>-0.213441</td>\n",
              "      <td>0.092032</td>\n",
              "      <td>-0.173409</td>\n",
              "      <td>-0.434767</td>\n",
              "      <td>0.065186</td>\n",
              "      <td>0.196101</td>\n",
              "      <td>-0.671928</td>\n",
              "      <td>-0.195213</td>\n",
              "      <td>0.074474</td>\n",
              "      <td>0.323334</td>\n",
              "      <td>0.292436</td>\n",
              "      <td>0.468960</td>\n",
              "      <td>-0.193369</td>\n",
              "      <td>0.157990</td>\n",
              "      <td>-0.180058</td>\n",
              "      <td>0.095284</td>\n",
              "      <td>-0.294818</td>\n",
              "      <td>-0.140939</td>\n",
              "      <td>-0.202958</td>\n",
              "      <td>-0.144758</td>\n",
              "      <td>-0.270722</td>\n",
              "      <td>0.155839</td>\n",
              "      <td>0.314211</td>\n",
              "      <td>-0.097944</td>\n",
              "      <td>0.396810</td>\n",
              "      <td>0.310496</td>\n",
              "      <td>-0.448204</td>\n",
              "      <td>0.575355</td>\n",
              "      <td>0.241816</td>\n",
              "      <td>-0.428021</td>\n",
              "      <td>-0.066452</td>\n",
              "      <td>0.207896</td>\n",
              "      <td>...</td>\n",
              "      <td>-0.253060</td>\n",
              "      <td>-0.023285</td>\n",
              "      <td>0.387593</td>\n",
              "      <td>-0.257498</td>\n",
              "      <td>-0.219196</td>\n",
              "      <td>0.463819</td>\n",
              "      <td>-0.047877</td>\n",
              "      <td>-0.002297</td>\n",
              "      <td>-0.023295</td>\n",
              "      <td>0.096966</td>\n",
              "      <td>0.185142</td>\n",
              "      <td>-0.053014</td>\n",
              "      <td>0.580751</td>\n",
              "      <td>0.230906</td>\n",
              "      <td>-0.090283</td>\n",
              "      <td>-0.549747</td>\n",
              "      <td>0.448878</td>\n",
              "      <td>-0.358442</td>\n",
              "      <td>-0.267432</td>\n",
              "      <td>0.062992</td>\n",
              "      <td>-0.650513</td>\n",
              "      <td>0.471424</td>\n",
              "      <td>-0.207576</td>\n",
              "      <td>0.421068</td>\n",
              "      <td>-0.340663</td>\n",
              "      <td>-0.287685</td>\n",
              "      <td>0.239766</td>\n",
              "      <td>-0.012972</td>\n",
              "      <td>-0.408097</td>\n",
              "      <td>0.380892</td>\n",
              "      <td>0.273857</td>\n",
              "      <td>-0.094201</td>\n",
              "      <td>0.245259</td>\n",
              "      <td>0.438028</td>\n",
              "      <td>-0.413395</td>\n",
              "      <td>0.425271</td>\n",
              "      <td>-0.417884</td>\n",
              "      <td>-0.886485</td>\n",
              "      <td>0.458968</td>\n",
              "      <td>-0.380352</td>\n",
              "    </tr>\n",
              "    <tr>\n",
              "      <th>3</th>\n",
              "      <td>-0.023537</td>\n",
              "      <td>0.186004</td>\n",
              "      <td>-0.018319</td>\n",
              "      <td>0.046002</td>\n",
              "      <td>0.285380</td>\n",
              "      <td>0.824158</td>\n",
              "      <td>0.240865</td>\n",
              "      <td>0.177934</td>\n",
              "      <td>-0.293685</td>\n",
              "      <td>0.369762</td>\n",
              "      <td>-0.286876</td>\n",
              "      <td>-0.115853</td>\n",
              "      <td>0.074393</td>\n",
              "      <td>-0.267145</td>\n",
              "      <td>-0.400384</td>\n",
              "      <td>0.067620</td>\n",
              "      <td>0.081379</td>\n",
              "      <td>0.260510</td>\n",
              "      <td>-0.002243</td>\n",
              "      <td>0.159411</td>\n",
              "      <td>0.212635</td>\n",
              "      <td>-0.261783</td>\n",
              "      <td>0.071453</td>\n",
              "      <td>-0.525530</td>\n",
              "      <td>0.149235</td>\n",
              "      <td>-0.563100</td>\n",
              "      <td>-0.378368</td>\n",
              "      <td>-0.396288</td>\n",
              "      <td>-0.265716</td>\n",
              "      <td>-0.028256</td>\n",
              "      <td>0.035099</td>\n",
              "      <td>-0.282228</td>\n",
              "      <td>0.121753</td>\n",
              "      <td>-0.244408</td>\n",
              "      <td>-0.323249</td>\n",
              "      <td>0.133777</td>\n",
              "      <td>0.099915</td>\n",
              "      <td>-0.073891</td>\n",
              "      <td>0.044732</td>\n",
              "      <td>0.229217</td>\n",
              "      <td>...</td>\n",
              "      <td>-0.164505</td>\n",
              "      <td>-0.436309</td>\n",
              "      <td>-0.089114</td>\n",
              "      <td>-0.515013</td>\n",
              "      <td>-0.356831</td>\n",
              "      <td>0.644965</td>\n",
              "      <td>0.151415</td>\n",
              "      <td>-0.040290</td>\n",
              "      <td>0.202163</td>\n",
              "      <td>0.065799</td>\n",
              "      <td>-0.013578</td>\n",
              "      <td>0.264860</td>\n",
              "      <td>0.562417</td>\n",
              "      <td>-0.322598</td>\n",
              "      <td>0.117282</td>\n",
              "      <td>-0.137634</td>\n",
              "      <td>0.454603</td>\n",
              "      <td>0.114935</td>\n",
              "      <td>-0.076333</td>\n",
              "      <td>0.362280</td>\n",
              "      <td>-0.349352</td>\n",
              "      <td>0.368029</td>\n",
              "      <td>0.062586</td>\n",
              "      <td>0.346775</td>\n",
              "      <td>-0.227782</td>\n",
              "      <td>-0.668857</td>\n",
              "      <td>0.477370</td>\n",
              "      <td>-0.349774</td>\n",
              "      <td>-0.566387</td>\n",
              "      <td>0.270867</td>\n",
              "      <td>0.076834</td>\n",
              "      <td>0.171872</td>\n",
              "      <td>0.258420</td>\n",
              "      <td>0.169574</td>\n",
              "      <td>-0.280809</td>\n",
              "      <td>0.322120</td>\n",
              "      <td>-0.102916</td>\n",
              "      <td>-0.606135</td>\n",
              "      <td>0.186568</td>\n",
              "      <td>-0.477317</td>\n",
              "    </tr>\n",
              "    <tr>\n",
              "      <th>4</th>\n",
              "      <td>-0.832218</td>\n",
              "      <td>0.451893</td>\n",
              "      <td>0.474038</td>\n",
              "      <td>-0.018249</td>\n",
              "      <td>-0.478648</td>\n",
              "      <td>0.178108</td>\n",
              "      <td>-0.472869</td>\n",
              "      <td>-0.532138</td>\n",
              "      <td>-0.491469</td>\n",
              "      <td>-0.466011</td>\n",
              "      <td>0.395096</td>\n",
              "      <td>-0.386877</td>\n",
              "      <td>-0.798011</td>\n",
              "      <td>-0.271923</td>\n",
              "      <td>-0.168703</td>\n",
              "      <td>0.567564</td>\n",
              "      <td>0.918460</td>\n",
              "      <td>-0.283334</td>\n",
              "      <td>0.052681</td>\n",
              "      <td>0.335400</td>\n",
              "      <td>0.102989</td>\n",
              "      <td>-0.569144</td>\n",
              "      <td>-0.027434</td>\n",
              "      <td>-0.390786</td>\n",
              "      <td>-0.411513</td>\n",
              "      <td>-0.004615</td>\n",
              "      <td>0.059425</td>\n",
              "      <td>0.129107</td>\n",
              "      <td>0.058133</td>\n",
              "      <td>0.178414</td>\n",
              "      <td>-0.222867</td>\n",
              "      <td>0.336164</td>\n",
              "      <td>0.079755</td>\n",
              "      <td>0.220411</td>\n",
              "      <td>0.184255</td>\n",
              "      <td>0.723972</td>\n",
              "      <td>0.306105</td>\n",
              "      <td>0.653465</td>\n",
              "      <td>-0.934595</td>\n",
              "      <td>-0.013150</td>\n",
              "      <td>...</td>\n",
              "      <td>0.484666</td>\n",
              "      <td>-0.181744</td>\n",
              "      <td>0.296147</td>\n",
              "      <td>0.775699</td>\n",
              "      <td>0.239380</td>\n",
              "      <td>-0.016156</td>\n",
              "      <td>0.329073</td>\n",
              "      <td>-0.023605</td>\n",
              "      <td>-0.197673</td>\n",
              "      <td>-1.308118</td>\n",
              "      <td>0.593427</td>\n",
              "      <td>0.109318</td>\n",
              "      <td>-0.387851</td>\n",
              "      <td>0.090579</td>\n",
              "      <td>-0.265281</td>\n",
              "      <td>-0.083823</td>\n",
              "      <td>0.498955</td>\n",
              "      <td>-0.115021</td>\n",
              "      <td>0.705434</td>\n",
              "      <td>0.536024</td>\n",
              "      <td>0.319468</td>\n",
              "      <td>0.083369</td>\n",
              "      <td>-0.067807</td>\n",
              "      <td>-0.206901</td>\n",
              "      <td>0.215812</td>\n",
              "      <td>0.166634</td>\n",
              "      <td>0.071825</td>\n",
              "      <td>0.669192</td>\n",
              "      <td>0.043907</td>\n",
              "      <td>0.346249</td>\n",
              "      <td>0.594541</td>\n",
              "      <td>-0.302686</td>\n",
              "      <td>-0.511276</td>\n",
              "      <td>-0.590193</td>\n",
              "      <td>0.299716</td>\n",
              "      <td>-0.181081</td>\n",
              "      <td>-0.436865</td>\n",
              "      <td>0.996631</td>\n",
              "      <td>0.330113</td>\n",
              "      <td>-0.327735</td>\n",
              "    </tr>\n",
              "  </tbody>\n",
              "</table>\n",
              "<p>5 rows × 512 columns</p>\n",
              "</div>"
            ],
            "text/plain": [
              "          0         1         2  ...       509       510       511\n",
              "0 -0.288502 -0.481055  0.258424  ... -0.762691  0.271782 -0.653218\n",
              "1  0.173821 -0.214929 -0.098004  ...  0.099089  0.487517 -0.307144\n",
              "2 -0.257559 -0.065606  0.344815  ... -0.886485  0.458968 -0.380352\n",
              "3 -0.023537  0.186004 -0.018319  ... -0.606135  0.186568 -0.477317\n",
              "4 -0.832218  0.451893  0.474038  ...  0.996631  0.330113 -0.327735\n",
              "\n",
              "[5 rows x 512 columns]"
            ]
          },
          "metadata": {
            "tags": []
          },
          "execution_count": 21
        }
      ]
    },
    {
      "cell_type": "code",
      "metadata": {
        "id": "d21gPeQlUOpy",
        "colab_type": "code",
        "colab": {
          "base_uri": "https://localhost:8080/",
          "height": 119
        },
        "outputId": "ef83558e-e123-4730-9a4f-da49828ba8bb"
      },
      "source": [
        "rating.head()"
      ],
      "execution_count": 22,
      "outputs": [
        {
          "output_type": "execute_result",
          "data": {
            "text/plain": [
              "0    5\n",
              "1    5\n",
              "2    5\n",
              "3    5\n",
              "4    3\n",
              "Name: star_rating, dtype: int64"
            ]
          },
          "metadata": {
            "tags": []
          },
          "execution_count": 22
        }
      ]
    },
    {
      "cell_type": "code",
      "metadata": {
        "id": "ZyzFsGMHUOp1",
        "colab_type": "code",
        "colab": {}
      },
      "source": [
        "model = Sequential()\n",
        "\n",
        "model.add(Dense(128, input_shape=(df.shape[1],), kernel_initializer='glorot_uniform'))\n",
        "model.add(BatchNormalization())\n",
        "model.add(Activation('relu'))\n",
        "model.add(Dropout(0.2))\n",
        "\n",
        "model.add(Dense(128, kernel_initializer='glorot_uniform'))\n",
        "model.add(BatchNormalization())\n",
        "model.add(Activation('relu'))\n",
        "model.add(Dropout(0.2))\n",
        "\n",
        "model.add(Dense(5, activation='relu'))\n",
        "model.add(Activation('softmax'))\n",
        "model.compile(optimizer=SGD(), loss='categorical_crossentropy', metrics=['accuracy'])"
      ],
      "execution_count": 0,
      "outputs": []
    },
    {
      "cell_type": "code",
      "metadata": {
        "id": "hS3Pd5h3UOp4",
        "colab_type": "code",
        "colab": {
          "base_uri": "https://localhost:8080/",
          "height": 493
        },
        "outputId": "5eeb33eb-b009-4e24-ad8e-cbcd7ef3d33a"
      },
      "source": [
        "print(model.summary())"
      ],
      "execution_count": 24,
      "outputs": [
        {
          "output_type": "stream",
          "text": [
            "_________________________________________________________________\n",
            "Layer (type)                 Output Shape              Param #   \n",
            "=================================================================\n",
            "dense_4 (Dense)              (None, 128)               65664     \n",
            "_________________________________________________________________\n",
            "batch_normalization_3 (Batch (None, 128)               512       \n",
            "_________________________________________________________________\n",
            "activation_4 (Activation)    (None, 128)               0         \n",
            "_________________________________________________________________\n",
            "dropout_3 (Dropout)          (None, 128)               0         \n",
            "_________________________________________________________________\n",
            "dense_5 (Dense)              (None, 128)               16512     \n",
            "_________________________________________________________________\n",
            "batch_normalization_4 (Batch (None, 128)               512       \n",
            "_________________________________________________________________\n",
            "activation_5 (Activation)    (None, 128)               0         \n",
            "_________________________________________________________________\n",
            "dropout_4 (Dropout)          (None, 128)               0         \n",
            "_________________________________________________________________\n",
            "dense_6 (Dense)              (None, 5)                 645       \n",
            "_________________________________________________________________\n",
            "activation_6 (Activation)    (None, 5)                 0         \n",
            "=================================================================\n",
            "Total params: 83,845\n",
            "Trainable params: 83,333\n",
            "Non-trainable params: 512\n",
            "_________________________________________________________________\n",
            "None\n"
          ],
          "name": "stdout"
        }
      ]
    },
    {
      "cell_type": "code",
      "metadata": {
        "id": "JV1wyEYGUOp6",
        "colab_type": "code",
        "colab": {
          "base_uri": "https://localhost:8080/",
          "height": 1000
        },
        "outputId": "84bee91d-685f-4eca-aacc-0b36dbfe4d20"
      },
      "source": [
        "SVG(model_to_dot(model, show_shapes=True, show_layer_names=False, \n",
        "                 rankdir='TB').create(prog='dot', format='svg'))"
      ],
      "execution_count": 25,
      "outputs": [
        {
          "output_type": "execute_result",
          "data": {
            "text/plain": [
              "<IPython.core.display.SVG object>"
            ],
            "image/svg+xml": "<svg height=\"875pt\" viewBox=\"0.00 0.00 284.00 875.00\" width=\"284pt\" xmlns=\"http://www.w3.org/2000/svg\" xmlns:xlink=\"http://www.w3.org/1999/xlink\">\n<g class=\"graph\" id=\"graph0\" transform=\"scale(1 1) rotate(0) translate(4 871)\">\n<title>G</title>\n<polygon fill=\"#ffffff\" points=\"-4,4 -4,-871 280,-871 280,4 -4,4\" stroke=\"transparent\"/>\n<!-- 140593303122104 -->\n<g class=\"node\" id=\"node1\">\n<title>140593303122104</title>\n<polygon fill=\"none\" points=\"39.5,-747.5 39.5,-793.5 236.5,-793.5 236.5,-747.5 39.5,-747.5\" stroke=\"#000000\"/>\n<text fill=\"#000000\" font-family=\"Times,serif\" font-size=\"14.00\" text-anchor=\"middle\" x=\"65.5\" y=\"-766.8\">Dense</text>\n<polyline fill=\"none\" points=\"91.5,-747.5 91.5,-793.5 \" stroke=\"#000000\"/>\n<text fill=\"#000000\" font-family=\"Times,serif\" font-size=\"14.00\" text-anchor=\"middle\" x=\"120.5\" y=\"-778.3\">input:</text>\n<polyline fill=\"none\" points=\"91.5,-770.5 149.5,-770.5 \" stroke=\"#000000\"/>\n<text fill=\"#000000\" font-family=\"Times,serif\" font-size=\"14.00\" text-anchor=\"middle\" x=\"120.5\" y=\"-755.3\">output:</text>\n<polyline fill=\"none\" points=\"149.5,-747.5 149.5,-793.5 \" stroke=\"#000000\"/>\n<text fill=\"#000000\" font-family=\"Times,serif\" font-size=\"14.00\" text-anchor=\"middle\" x=\"193\" y=\"-778.3\">(None, 512)</text>\n<polyline fill=\"none\" points=\"149.5,-770.5 236.5,-770.5 \" stroke=\"#000000\"/>\n<text fill=\"#000000\" font-family=\"Times,serif\" font-size=\"14.00\" text-anchor=\"middle\" x=\"193\" y=\"-755.3\">(None, 128)</text>\n</g>\n<!-- 140593303121992 -->\n<g class=\"node\" id=\"node2\">\n<title>140593303121992</title>\n<polygon fill=\"none\" points=\"0,-664.5 0,-710.5 276,-710.5 276,-664.5 0,-664.5\" stroke=\"#000000\"/>\n<text fill=\"#000000\" font-family=\"Times,serif\" font-size=\"14.00\" text-anchor=\"middle\" x=\"65.5\" y=\"-683.8\">BatchNormalization</text>\n<polyline fill=\"none\" points=\"131,-664.5 131,-710.5 \" stroke=\"#000000\"/>\n<text fill=\"#000000\" font-family=\"Times,serif\" font-size=\"14.00\" text-anchor=\"middle\" x=\"160\" y=\"-695.3\">input:</text>\n<polyline fill=\"none\" points=\"131,-687.5 189,-687.5 \" stroke=\"#000000\"/>\n<text fill=\"#000000\" font-family=\"Times,serif\" font-size=\"14.00\" text-anchor=\"middle\" x=\"160\" y=\"-672.3\">output:</text>\n<polyline fill=\"none\" points=\"189,-664.5 189,-710.5 \" stroke=\"#000000\"/>\n<text fill=\"#000000\" font-family=\"Times,serif\" font-size=\"14.00\" text-anchor=\"middle\" x=\"232.5\" y=\"-695.3\">(None, 128)</text>\n<polyline fill=\"none\" points=\"189,-687.5 276,-687.5 \" stroke=\"#000000\"/>\n<text fill=\"#000000\" font-family=\"Times,serif\" font-size=\"14.00\" text-anchor=\"middle\" x=\"232.5\" y=\"-672.3\">(None, 128)</text>\n</g>\n<!-- 140593303122104&#45;&gt;140593303121992 -->\n<g class=\"edge\" id=\"edge2\">\n<title>140593303122104-&gt;140593303121992</title>\n<path d=\"M138,-747.3799C138,-739.1745 138,-729.7679 138,-720.8786\" fill=\"none\" stroke=\"#000000\"/>\n<polygon fill=\"#000000\" points=\"141.5001,-720.784 138,-710.784 134.5001,-720.784 141.5001,-720.784\" stroke=\"#000000\"/>\n</g>\n<!-- 140593304881416 -->\n<g class=\"node\" id=\"node3\">\n<title>140593304881416</title>\n<polygon fill=\"none\" points=\"27,-581.5 27,-627.5 249,-627.5 249,-581.5 27,-581.5\" stroke=\"#000000\"/>\n<text fill=\"#000000\" font-family=\"Times,serif\" font-size=\"14.00\" text-anchor=\"middle\" x=\"65.5\" y=\"-600.8\">Activation</text>\n<polyline fill=\"none\" points=\"104,-581.5 104,-627.5 \" stroke=\"#000000\"/>\n<text fill=\"#000000\" font-family=\"Times,serif\" font-size=\"14.00\" text-anchor=\"middle\" x=\"133\" y=\"-612.3\">input:</text>\n<polyline fill=\"none\" points=\"104,-604.5 162,-604.5 \" stroke=\"#000000\"/>\n<text fill=\"#000000\" font-family=\"Times,serif\" font-size=\"14.00\" text-anchor=\"middle\" x=\"133\" y=\"-589.3\">output:</text>\n<polyline fill=\"none\" points=\"162,-581.5 162,-627.5 \" stroke=\"#000000\"/>\n<text fill=\"#000000\" font-family=\"Times,serif\" font-size=\"14.00\" text-anchor=\"middle\" x=\"205.5\" y=\"-612.3\">(None, 128)</text>\n<polyline fill=\"none\" points=\"162,-604.5 249,-604.5 \" stroke=\"#000000\"/>\n<text fill=\"#000000\" font-family=\"Times,serif\" font-size=\"14.00\" text-anchor=\"middle\" x=\"205.5\" y=\"-589.3\">(None, 128)</text>\n</g>\n<!-- 140593303121992&#45;&gt;140593304881416 -->\n<g class=\"edge\" id=\"edge3\">\n<title>140593303121992-&gt;140593304881416</title>\n<path d=\"M138,-664.3799C138,-656.1745 138,-646.7679 138,-637.8786\" fill=\"none\" stroke=\"#000000\"/>\n<polygon fill=\"#000000\" points=\"141.5001,-637.784 138,-627.784 134.5001,-637.784 141.5001,-637.784\" stroke=\"#000000\"/>\n</g>\n<!-- 140593303867120 -->\n<g class=\"node\" id=\"node4\">\n<title>140593303867120</title>\n<polygon fill=\"none\" points=\"33,-498.5 33,-544.5 243,-544.5 243,-498.5 33,-498.5\" stroke=\"#000000\"/>\n<text fill=\"#000000\" font-family=\"Times,serif\" font-size=\"14.00\" text-anchor=\"middle\" x=\"65.5\" y=\"-517.8\">Dropout</text>\n<polyline fill=\"none\" points=\"98,-498.5 98,-544.5 \" stroke=\"#000000\"/>\n<text fill=\"#000000\" font-family=\"Times,serif\" font-size=\"14.00\" text-anchor=\"middle\" x=\"127\" y=\"-529.3\">input:</text>\n<polyline fill=\"none\" points=\"98,-521.5 156,-521.5 \" stroke=\"#000000\"/>\n<text fill=\"#000000\" font-family=\"Times,serif\" font-size=\"14.00\" text-anchor=\"middle\" x=\"127\" y=\"-506.3\">output:</text>\n<polyline fill=\"none\" points=\"156,-498.5 156,-544.5 \" stroke=\"#000000\"/>\n<text fill=\"#000000\" font-family=\"Times,serif\" font-size=\"14.00\" text-anchor=\"middle\" x=\"199.5\" y=\"-529.3\">(None, 128)</text>\n<polyline fill=\"none\" points=\"156,-521.5 243,-521.5 \" stroke=\"#000000\"/>\n<text fill=\"#000000\" font-family=\"Times,serif\" font-size=\"14.00\" text-anchor=\"middle\" x=\"199.5\" y=\"-506.3\">(None, 128)</text>\n</g>\n<!-- 140593304881416&#45;&gt;140593303867120 -->\n<g class=\"edge\" id=\"edge4\">\n<title>140593304881416-&gt;140593303867120</title>\n<path d=\"M138,-581.3799C138,-573.1745 138,-563.7679 138,-554.8786\" fill=\"none\" stroke=\"#000000\"/>\n<polygon fill=\"#000000\" points=\"141.5001,-554.784 138,-544.784 134.5001,-554.784 141.5001,-554.784\" stroke=\"#000000\"/>\n</g>\n<!-- 140593302990632 -->\n<g class=\"node\" id=\"node5\">\n<title>140593302990632</title>\n<polygon fill=\"none\" points=\"39.5,-415.5 39.5,-461.5 236.5,-461.5 236.5,-415.5 39.5,-415.5\" stroke=\"#000000\"/>\n<text fill=\"#000000\" font-family=\"Times,serif\" font-size=\"14.00\" text-anchor=\"middle\" x=\"65.5\" y=\"-434.8\">Dense</text>\n<polyline fill=\"none\" points=\"91.5,-415.5 91.5,-461.5 \" stroke=\"#000000\"/>\n<text fill=\"#000000\" font-family=\"Times,serif\" font-size=\"14.00\" text-anchor=\"middle\" x=\"120.5\" y=\"-446.3\">input:</text>\n<polyline fill=\"none\" points=\"91.5,-438.5 149.5,-438.5 \" stroke=\"#000000\"/>\n<text fill=\"#000000\" font-family=\"Times,serif\" font-size=\"14.00\" text-anchor=\"middle\" x=\"120.5\" y=\"-423.3\">output:</text>\n<polyline fill=\"none\" points=\"149.5,-415.5 149.5,-461.5 \" stroke=\"#000000\"/>\n<text fill=\"#000000\" font-family=\"Times,serif\" font-size=\"14.00\" text-anchor=\"middle\" x=\"193\" y=\"-446.3\">(None, 128)</text>\n<polyline fill=\"none\" points=\"149.5,-438.5 236.5,-438.5 \" stroke=\"#000000\"/>\n<text fill=\"#000000\" font-family=\"Times,serif\" font-size=\"14.00\" text-anchor=\"middle\" x=\"193\" y=\"-423.3\">(None, 128)</text>\n</g>\n<!-- 140593303867120&#45;&gt;140593302990632 -->\n<g class=\"edge\" id=\"edge5\">\n<title>140593303867120-&gt;140593302990632</title>\n<path d=\"M138,-498.3799C138,-490.1745 138,-480.7679 138,-471.8786\" fill=\"none\" stroke=\"#000000\"/>\n<polygon fill=\"#000000\" points=\"141.5001,-471.784 138,-461.784 134.5001,-471.784 141.5001,-471.784\" stroke=\"#000000\"/>\n</g>\n<!-- 140593303639880 -->\n<g class=\"node\" id=\"node6\">\n<title>140593303639880</title>\n<polygon fill=\"none\" points=\"0,-332.5 0,-378.5 276,-378.5 276,-332.5 0,-332.5\" stroke=\"#000000\"/>\n<text fill=\"#000000\" font-family=\"Times,serif\" font-size=\"14.00\" text-anchor=\"middle\" x=\"65.5\" y=\"-351.8\">BatchNormalization</text>\n<polyline fill=\"none\" points=\"131,-332.5 131,-378.5 \" stroke=\"#000000\"/>\n<text fill=\"#000000\" font-family=\"Times,serif\" font-size=\"14.00\" text-anchor=\"middle\" x=\"160\" y=\"-363.3\">input:</text>\n<polyline fill=\"none\" points=\"131,-355.5 189,-355.5 \" stroke=\"#000000\"/>\n<text fill=\"#000000\" font-family=\"Times,serif\" font-size=\"14.00\" text-anchor=\"middle\" x=\"160\" y=\"-340.3\">output:</text>\n<polyline fill=\"none\" points=\"189,-332.5 189,-378.5 \" stroke=\"#000000\"/>\n<text fill=\"#000000\" font-family=\"Times,serif\" font-size=\"14.00\" text-anchor=\"middle\" x=\"232.5\" y=\"-363.3\">(None, 128)</text>\n<polyline fill=\"none\" points=\"189,-355.5 276,-355.5 \" stroke=\"#000000\"/>\n<text fill=\"#000000\" font-family=\"Times,serif\" font-size=\"14.00\" text-anchor=\"middle\" x=\"232.5\" y=\"-340.3\">(None, 128)</text>\n</g>\n<!-- 140593302990632&#45;&gt;140593303639880 -->\n<g class=\"edge\" id=\"edge6\">\n<title>140593302990632-&gt;140593303639880</title>\n<path d=\"M138,-415.3799C138,-407.1745 138,-397.7679 138,-388.8786\" fill=\"none\" stroke=\"#000000\"/>\n<polygon fill=\"#000000\" points=\"141.5001,-388.784 138,-378.784 134.5001,-388.784 141.5001,-388.784\" stroke=\"#000000\"/>\n</g>\n<!-- 140593303498032 -->\n<g class=\"node\" id=\"node7\">\n<title>140593303498032</title>\n<polygon fill=\"none\" points=\"27,-249.5 27,-295.5 249,-295.5 249,-249.5 27,-249.5\" stroke=\"#000000\"/>\n<text fill=\"#000000\" font-family=\"Times,serif\" font-size=\"14.00\" text-anchor=\"middle\" x=\"65.5\" y=\"-268.8\">Activation</text>\n<polyline fill=\"none\" points=\"104,-249.5 104,-295.5 \" stroke=\"#000000\"/>\n<text fill=\"#000000\" font-family=\"Times,serif\" font-size=\"14.00\" text-anchor=\"middle\" x=\"133\" y=\"-280.3\">input:</text>\n<polyline fill=\"none\" points=\"104,-272.5 162,-272.5 \" stroke=\"#000000\"/>\n<text fill=\"#000000\" font-family=\"Times,serif\" font-size=\"14.00\" text-anchor=\"middle\" x=\"133\" y=\"-257.3\">output:</text>\n<polyline fill=\"none\" points=\"162,-249.5 162,-295.5 \" stroke=\"#000000\"/>\n<text fill=\"#000000\" font-family=\"Times,serif\" font-size=\"14.00\" text-anchor=\"middle\" x=\"205.5\" y=\"-280.3\">(None, 128)</text>\n<polyline fill=\"none\" points=\"162,-272.5 249,-272.5 \" stroke=\"#000000\"/>\n<text fill=\"#000000\" font-family=\"Times,serif\" font-size=\"14.00\" text-anchor=\"middle\" x=\"205.5\" y=\"-257.3\">(None, 128)</text>\n</g>\n<!-- 140593303639880&#45;&gt;140593303498032 -->\n<g class=\"edge\" id=\"edge7\">\n<title>140593303639880-&gt;140593303498032</title>\n<path d=\"M138,-332.3799C138,-324.1745 138,-314.7679 138,-305.8786\" fill=\"none\" stroke=\"#000000\"/>\n<polygon fill=\"#000000\" points=\"141.5001,-305.784 138,-295.784 134.5001,-305.784 141.5001,-305.784\" stroke=\"#000000\"/>\n</g>\n<!-- 140593302379936 -->\n<g class=\"node\" id=\"node8\">\n<title>140593302379936</title>\n<polygon fill=\"none\" points=\"33,-166.5 33,-212.5 243,-212.5 243,-166.5 33,-166.5\" stroke=\"#000000\"/>\n<text fill=\"#000000\" font-family=\"Times,serif\" font-size=\"14.00\" text-anchor=\"middle\" x=\"65.5\" y=\"-185.8\">Dropout</text>\n<polyline fill=\"none\" points=\"98,-166.5 98,-212.5 \" stroke=\"#000000\"/>\n<text fill=\"#000000\" font-family=\"Times,serif\" font-size=\"14.00\" text-anchor=\"middle\" x=\"127\" y=\"-197.3\">input:</text>\n<polyline fill=\"none\" points=\"98,-189.5 156,-189.5 \" stroke=\"#000000\"/>\n<text fill=\"#000000\" font-family=\"Times,serif\" font-size=\"14.00\" text-anchor=\"middle\" x=\"127\" y=\"-174.3\">output:</text>\n<polyline fill=\"none\" points=\"156,-166.5 156,-212.5 \" stroke=\"#000000\"/>\n<text fill=\"#000000\" font-family=\"Times,serif\" font-size=\"14.00\" text-anchor=\"middle\" x=\"199.5\" y=\"-197.3\">(None, 128)</text>\n<polyline fill=\"none\" points=\"156,-189.5 243,-189.5 \" stroke=\"#000000\"/>\n<text fill=\"#000000\" font-family=\"Times,serif\" font-size=\"14.00\" text-anchor=\"middle\" x=\"199.5\" y=\"-174.3\">(None, 128)</text>\n</g>\n<!-- 140593303498032&#45;&gt;140593302379936 -->\n<g class=\"edge\" id=\"edge8\">\n<title>140593303498032-&gt;140593302379936</title>\n<path d=\"M138,-249.3799C138,-241.1745 138,-231.7679 138,-222.8786\" fill=\"none\" stroke=\"#000000\"/>\n<polygon fill=\"#000000\" points=\"141.5001,-222.784 138,-212.784 134.5001,-222.784 141.5001,-222.784\" stroke=\"#000000\"/>\n</g>\n<!-- 140593303498536 -->\n<g class=\"node\" id=\"node9\">\n<title>140593303498536</title>\n<polygon fill=\"none\" points=\"39.5,-83.5 39.5,-129.5 236.5,-129.5 236.5,-83.5 39.5,-83.5\" stroke=\"#000000\"/>\n<text fill=\"#000000\" font-family=\"Times,serif\" font-size=\"14.00\" text-anchor=\"middle\" x=\"65.5\" y=\"-102.8\">Dense</text>\n<polyline fill=\"none\" points=\"91.5,-83.5 91.5,-129.5 \" stroke=\"#000000\"/>\n<text fill=\"#000000\" font-family=\"Times,serif\" font-size=\"14.00\" text-anchor=\"middle\" x=\"120.5\" y=\"-114.3\">input:</text>\n<polyline fill=\"none\" points=\"91.5,-106.5 149.5,-106.5 \" stroke=\"#000000\"/>\n<text fill=\"#000000\" font-family=\"Times,serif\" font-size=\"14.00\" text-anchor=\"middle\" x=\"120.5\" y=\"-91.3\">output:</text>\n<polyline fill=\"none\" points=\"149.5,-83.5 149.5,-129.5 \" stroke=\"#000000\"/>\n<text fill=\"#000000\" font-family=\"Times,serif\" font-size=\"14.00\" text-anchor=\"middle\" x=\"193\" y=\"-114.3\">(None, 128)</text>\n<polyline fill=\"none\" points=\"149.5,-106.5 236.5,-106.5 \" stroke=\"#000000\"/>\n<text fill=\"#000000\" font-family=\"Times,serif\" font-size=\"14.00\" text-anchor=\"middle\" x=\"193\" y=\"-91.3\">(None, 5)</text>\n</g>\n<!-- 140593302379936&#45;&gt;140593303498536 -->\n<g class=\"edge\" id=\"edge9\">\n<title>140593302379936-&gt;140593303498536</title>\n<path d=\"M138,-166.3799C138,-158.1745 138,-148.7679 138,-139.8786\" fill=\"none\" stroke=\"#000000\"/>\n<polygon fill=\"#000000\" points=\"141.5001,-139.784 138,-129.784 134.5001,-139.784 141.5001,-139.784\" stroke=\"#000000\"/>\n</g>\n<!-- 140593302500184 -->\n<g class=\"node\" id=\"node10\">\n<title>140593302500184</title>\n<polygon fill=\"none\" points=\"34.5,-.5 34.5,-46.5 241.5,-46.5 241.5,-.5 34.5,-.5\" stroke=\"#000000\"/>\n<text fill=\"#000000\" font-family=\"Times,serif\" font-size=\"14.00\" text-anchor=\"middle\" x=\"73\" y=\"-19.8\">Activation</text>\n<polyline fill=\"none\" points=\"111.5,-.5 111.5,-46.5 \" stroke=\"#000000\"/>\n<text fill=\"#000000\" font-family=\"Times,serif\" font-size=\"14.00\" text-anchor=\"middle\" x=\"140.5\" y=\"-31.3\">input:</text>\n<polyline fill=\"none\" points=\"111.5,-23.5 169.5,-23.5 \" stroke=\"#000000\"/>\n<text fill=\"#000000\" font-family=\"Times,serif\" font-size=\"14.00\" text-anchor=\"middle\" x=\"140.5\" y=\"-8.3\">output:</text>\n<polyline fill=\"none\" points=\"169.5,-.5 169.5,-46.5 \" stroke=\"#000000\"/>\n<text fill=\"#000000\" font-family=\"Times,serif\" font-size=\"14.00\" text-anchor=\"middle\" x=\"205.5\" y=\"-31.3\">(None, 5)</text>\n<polyline fill=\"none\" points=\"169.5,-23.5 241.5,-23.5 \" stroke=\"#000000\"/>\n<text fill=\"#000000\" font-family=\"Times,serif\" font-size=\"14.00\" text-anchor=\"middle\" x=\"205.5\" y=\"-8.3\">(None, 5)</text>\n</g>\n<!-- 140593303498536&#45;&gt;140593302500184 -->\n<g class=\"edge\" id=\"edge10\">\n<title>140593303498536-&gt;140593302500184</title>\n<path d=\"M138,-83.3799C138,-75.1745 138,-65.7679 138,-56.8786\" fill=\"none\" stroke=\"#000000\"/>\n<polygon fill=\"#000000\" points=\"141.5001,-56.784 138,-46.784 134.5001,-56.784 141.5001,-56.784\" stroke=\"#000000\"/>\n</g>\n<!-- 140593303346816 -->\n<g class=\"node\" id=\"node11\">\n<title>140593303346816</title>\n<polygon fill=\"none\" points=\"73.5,-830.5 73.5,-866.5 202.5,-866.5 202.5,-830.5 73.5,-830.5\" stroke=\"#000000\"/>\n<text fill=\"#000000\" font-family=\"Times,serif\" font-size=\"14.00\" text-anchor=\"middle\" x=\"138\" y=\"-844.8\">140593303346816</text>\n</g>\n<!-- 140593303346816&#45;&gt;140593303122104 -->\n<g class=\"edge\" id=\"edge1\">\n<title>140593303346816-&gt;140593303122104</title>\n<path d=\"M138,-830.4092C138,-822.4308 138,-812.795 138,-803.606\" fill=\"none\" stroke=\"#000000\"/>\n<polygon fill=\"#000000\" points=\"141.5001,-803.5333 138,-793.5333 134.5001,-803.5334 141.5001,-803.5333\" stroke=\"#000000\"/>\n</g>\n</g>\n</svg>"
          },
          "metadata": {
            "tags": []
          },
          "execution_count": 25
        }
      ]
    },
    {
      "cell_type": "code",
      "metadata": {
        "id": "cjgsOEP_UOp9",
        "colab_type": "code",
        "colab": {
          "base_uri": "https://localhost:8080/",
          "height": 258
        },
        "outputId": "eeec356b-a3b9-4f0c-fd77-30fceb2a8913"
      },
      "source": [
        "# one hot encode rating\n",
        "print(rating.shape)\n",
        "print(type(rating))\n",
        "y = OneHotEncoder().fit_transform(rating.values.reshape(len(rating), 1)).toarray()\n",
        "y"
      ],
      "execution_count": 26,
      "outputs": [
        {
          "output_type": "stream",
          "text": [
            "(111909,)\n",
            "<class 'pandas.core.series.Series'>\n"
          ],
          "name": "stdout"
        },
        {
          "output_type": "stream",
          "text": [
            "/usr/local/lib/python3.6/dist-packages/sklearn/preprocessing/_encoders.py:415: FutureWarning: The handling of integer data will change in version 0.22. Currently, the categories are determined based on the range [0, max(values)], while in the future they will be determined based on the unique values.\n",
            "If you want the future behaviour and silence this warning, you can specify \"categories='auto'\".\n",
            "In case you used a LabelEncoder before this OneHotEncoder to convert the categories to integers, then you can now use the OneHotEncoder directly.\n",
            "  warnings.warn(msg, FutureWarning)\n"
          ],
          "name": "stderr"
        },
        {
          "output_type": "execute_result",
          "data": {
            "text/plain": [
              "array([[0., 0., 0., 0., 1.],\n",
              "       [0., 0., 0., 0., 1.],\n",
              "       [0., 0., 0., 0., 1.],\n",
              "       ...,\n",
              "       [0., 0., 1., 0., 0.],\n",
              "       [0., 0., 0., 0., 1.],\n",
              "       [0., 0., 0., 1., 0.]])"
            ]
          },
          "metadata": {
            "tags": []
          },
          "execution_count": 26
        }
      ]
    },
    {
      "cell_type": "code",
      "metadata": {
        "id": "0iFfymcJUOp_",
        "colab_type": "code",
        "colab": {}
      },
      "source": [
        "x_train, x_test, y_train, y_test = train_test_split(df, y, random_state=1)"
      ],
      "execution_count": 0,
      "outputs": []
    },
    {
      "cell_type": "code",
      "metadata": {
        "scrolled": false,
        "id": "-rOYnq3JUOqB",
        "colab_type": "code",
        "colab": {
          "base_uri": "https://localhost:8080/",
          "height": 1000
        },
        "outputId": "23dd132f-3181-491c-c2df-7b0191189a18"
      },
      "source": [
        "early_stop = EarlyStopping(monitor='val_loss', patience=2, verbose=1)\n",
        "\n",
        "\n",
        "# use our model wrapper the wrap the model so we can save things for later\n",
        "mw = ku.ModelWrapper(model=model, \n",
        "                     name=MODEL_NAME, \n",
        "                     label_name=LABEL_COLUMN, \n",
        "                     data_file=DATA_FILE, \n",
        "                     embedding=\"word2vec\")\n",
        "\n",
        "\n",
        "network_history = mw.fit(x_train, y_train,\n",
        "                      batch_size=128,\n",
        "                      epochs=100,\n",
        "                      verbose=1,\n",
        "                      validation_split=0.2,\n",
        "                      callbacks=[early_stop])"
      ],
      "execution_count": 28,
      "outputs": [
        {
          "output_type": "stream",
          "text": [
            "W0730 00:44:28.377286 140594426595200 deprecation.py:323] From /usr/local/lib/python3.6/dist-packages/tensorflow/python/ops/math_grad.py:1250: add_dispatch_support.<locals>.wrapper (from tensorflow.python.ops.array_ops) is deprecated and will be removed in a future version.\n",
            "Instructions for updating:\n",
            "Use tf.where in 2.0, which has the same broadcast rule as np.where\n"
          ],
          "name": "stderr"
        },
        {
          "output_type": "stream",
          "text": [
            "Train on 67144 samples, validate on 16787 samples\n",
            "Epoch 1/100\n",
            "67144/67144 [==============================] - 6s 89us/step - loss: 1.2293 - acc: 0.5389 - val_loss: 1.0688 - val_acc: 0.6209\n",
            "Epoch 2/100\n",
            "67144/67144 [==============================] - 5s 77us/step - loss: 1.0674 - acc: 0.6112 - val_loss: 0.9947 - val_acc: 0.6302\n",
            "Epoch 3/100\n",
            "67144/67144 [==============================] - 5s 73us/step - loss: 1.0071 - acc: 0.6211 - val_loss: 0.9609 - val_acc: 0.6413\n",
            "Epoch 4/100\n",
            "67144/67144 [==============================] - 5s 73us/step - loss: 0.9829 - acc: 0.6294 - val_loss: 0.9435 - val_acc: 0.6460\n",
            "Epoch 5/100\n",
            "67144/67144 [==============================] - 5s 74us/step - loss: 0.9650 - acc: 0.6341 - val_loss: 0.9343 - val_acc: 0.6480\n",
            "Epoch 6/100\n",
            "67144/67144 [==============================] - 5s 73us/step - loss: 0.9547 - acc: 0.6394 - val_loss: 0.9254 - val_acc: 0.6506\n",
            "Epoch 7/100\n",
            "67144/67144 [==============================] - 5s 74us/step - loss: 0.9464 - acc: 0.6413 - val_loss: 0.9163 - val_acc: 0.6535\n",
            "Epoch 8/100\n",
            "67144/67144 [==============================] - 5s 73us/step - loss: 0.9392 - acc: 0.6421 - val_loss: 0.9118 - val_acc: 0.6538\n",
            "Epoch 9/100\n",
            "67144/67144 [==============================] - 5s 72us/step - loss: 0.9351 - acc: 0.6443 - val_loss: 0.9071 - val_acc: 0.6561\n",
            "Epoch 10/100\n",
            "67144/67144 [==============================] - 5s 72us/step - loss: 0.9264 - acc: 0.6486 - val_loss: 0.9025 - val_acc: 0.6584\n",
            "Epoch 11/100\n",
            "67144/67144 [==============================] - 5s 72us/step - loss: 0.9205 - acc: 0.6510 - val_loss: 0.8991 - val_acc: 0.6590\n",
            "Epoch 12/100\n",
            "67144/67144 [==============================] - 5s 72us/step - loss: 0.9179 - acc: 0.6519 - val_loss: 0.8962 - val_acc: 0.6607\n",
            "Epoch 13/100\n",
            "67144/67144 [==============================] - 5s 73us/step - loss: 0.9141 - acc: 0.6510 - val_loss: 0.8936 - val_acc: 0.6607\n",
            "Epoch 14/100\n",
            "67144/67144 [==============================] - 5s 73us/step - loss: 0.9099 - acc: 0.6547 - val_loss: 0.8912 - val_acc: 0.6615\n",
            "Epoch 15/100\n",
            "67144/67144 [==============================] - 5s 74us/step - loss: 0.9080 - acc: 0.6540 - val_loss: 0.8892 - val_acc: 0.6628\n",
            "Epoch 16/100\n",
            "67144/67144 [==============================] - 5s 72us/step - loss: 0.9034 - acc: 0.6560 - val_loss: 0.8880 - val_acc: 0.6638\n",
            "Epoch 17/100\n",
            "67144/67144 [==============================] - 5s 73us/step - loss: 0.9001 - acc: 0.6560 - val_loss: 0.8871 - val_acc: 0.6631\n",
            "Epoch 18/100\n",
            "67144/67144 [==============================] - 5s 71us/step - loss: 0.9013 - acc: 0.6555 - val_loss: 0.8852 - val_acc: 0.6638\n",
            "Epoch 19/100\n",
            "67144/67144 [==============================] - 5s 73us/step - loss: 0.8980 - acc: 0.6570 - val_loss: 0.8854 - val_acc: 0.6643\n",
            "Epoch 20/100\n",
            "67144/67144 [==============================] - 5s 72us/step - loss: 0.8953 - acc: 0.6574 - val_loss: 0.8841 - val_acc: 0.6650\n",
            "Epoch 21/100\n",
            "67144/67144 [==============================] - 5s 71us/step - loss: 0.8934 - acc: 0.6598 - val_loss: 0.8823 - val_acc: 0.6657\n",
            "Epoch 22/100\n",
            "67144/67144 [==============================] - 5s 72us/step - loss: 0.8919 - acc: 0.6595 - val_loss: 0.8814 - val_acc: 0.6658\n",
            "Epoch 23/100\n",
            "67144/67144 [==============================] - 5s 73us/step - loss: 0.8884 - acc: 0.6621 - val_loss: 0.8804 - val_acc: 0.6662\n",
            "Epoch 24/100\n",
            "67144/67144 [==============================] - 5s 72us/step - loss: 0.8876 - acc: 0.6619 - val_loss: 0.8797 - val_acc: 0.6673\n",
            "Epoch 25/100\n",
            "67144/67144 [==============================] - 5s 72us/step - loss: 0.8864 - acc: 0.6618 - val_loss: 0.8798 - val_acc: 0.6669\n",
            "Epoch 26/100\n",
            "67144/67144 [==============================] - 5s 75us/step - loss: 0.8833 - acc: 0.6635 - val_loss: 0.8775 - val_acc: 0.6666\n",
            "Epoch 27/100\n",
            "67144/67144 [==============================] - 5s 73us/step - loss: 0.8822 - acc: 0.6632 - val_loss: 0.8781 - val_acc: 0.6688\n",
            "Epoch 28/100\n",
            "67144/67144 [==============================] - 5s 74us/step - loss: 0.8831 - acc: 0.6629 - val_loss: 0.8762 - val_acc: 0.6685\n",
            "Epoch 29/100\n",
            "67144/67144 [==============================] - 5s 73us/step - loss: 0.8811 - acc: 0.6628 - val_loss: 0.8763 - val_acc: 0.6677\n",
            "Epoch 30/100\n",
            "67144/67144 [==============================] - 5s 73us/step - loss: 0.8802 - acc: 0.6650 - val_loss: 0.8754 - val_acc: 0.6681\n",
            "Epoch 31/100\n",
            "67144/67144 [==============================] - 5s 73us/step - loss: 0.8790 - acc: 0.6639 - val_loss: 0.8758 - val_acc: 0.6687\n",
            "Epoch 32/100\n",
            "67144/67144 [==============================] - 5s 72us/step - loss: 0.8782 - acc: 0.6655 - val_loss: 0.8754 - val_acc: 0.6699\n",
            "Epoch 33/100\n",
            "67144/67144 [==============================] - 5s 73us/step - loss: 0.8731 - acc: 0.6674 - val_loss: 0.8753 - val_acc: 0.6690\n",
            "Epoch 34/100\n",
            "67144/67144 [==============================] - 5s 73us/step - loss: 0.8749 - acc: 0.6663 - val_loss: 0.8737 - val_acc: 0.6693\n",
            "Epoch 35/100\n",
            "67144/67144 [==============================] - 5s 73us/step - loss: 0.8741 - acc: 0.6671 - val_loss: 0.8740 - val_acc: 0.6688\n",
            "Epoch 36/100\n",
            "67144/67144 [==============================] - 5s 73us/step - loss: 0.8734 - acc: 0.6673 - val_loss: 0.8739 - val_acc: 0.6694\n",
            "Epoch 00036: early stopping\n"
          ],
          "name": "stdout"
        }
      ]
    },
    {
      "cell_type": "code",
      "metadata": {
        "id": "8TOe4-KsUOqE",
        "colab_type": "code",
        "colab": {
          "base_uri": "https://localhost:8080/",
          "height": 207
        },
        "outputId": "46cfa3d6-a0cc-4a59-d77a-aff80fe01d1a"
      },
      "source": [
        "mw.evaluate(x_test, y_test)\n",
        "print(\"Accuracy: %.2f%%\" % (mw.scores[1]*100))\n"
      ],
      "execution_count": 31,
      "outputs": [
        {
          "output_type": "stream",
          "text": [
            "Running model.evaluate...\n",
            "27978/27978 [==============================] - 1s 36us/step\n",
            "Running model.predict...\n",
            "Unencode predictions...\n",
            "Generating confusion matrix...\n",
            "Calculating ROC AUC...\n",
            "Getting classification report...\n",
            "Accuracy: 66.65%\n"
          ],
          "name": "stdout"
        },
        {
          "output_type": "stream",
          "text": [
            "/usr/local/lib/python3.6/dist-packages/sklearn/metrics/classification.py:1437: UndefinedMetricWarning: Precision and F-score are ill-defined and being set to 0.0 in labels with no predicted samples.\n",
            "  'precision', 'predicted', average, warn_for)\n"
          ],
          "name": "stderr"
        }
      ]
    },
    {
      "cell_type": "code",
      "metadata": {
        "id": "_2HZHMZzUOqH",
        "colab_type": "code",
        "colab": {
          "base_uri": "https://localhost:8080/",
          "height": 345
        },
        "outputId": "353341e0-be33-44b2-8be5-0a4316980f73"
      },
      "source": [
        "\n",
        "\n",
        "pu.plot_network_history(mw.network_history)"
      ],
      "execution_count": 32,
      "outputs": [
        {
          "output_type": "display_data",
          "data": {
            "image/png": "[encoded data removed]",
            "text/plain": [
              "<Figure size 720x360 with 2 Axes>"
            ]
          },
          "metadata": {
            "tags": []
          }
        }
      ]
    },
    {
      "cell_type": "code",
      "metadata": {
        "id": "jYPqwCndUOqV",
        "colab_type": "code",
        "colab": {
          "base_uri": "https://localhost:8080/",
          "height": 102
        },
        "outputId": "2793c6f5-859d-4e9b-8070-29bccab86ac9"
      },
      "source": [
        "mw.confusion_matrix"
      ],
      "execution_count": 33,
      "outputs": [
        {
          "output_type": "execute_result",
          "data": {
            "text/plain": [
              "array([[ 3230,     0,   265,    89,   291],\n",
              "       [ 1024,     0,   382,   168,   313],\n",
              "       [  670,     0,   624,   582,   684],\n",
              "       [  306,     0,   363,  1121,  2847],\n",
              "       [  408,     0,   231,   708, 13672]])"
            ]
          },
          "metadata": {
            "tags": []
          },
          "execution_count": 33
        }
      ]
    },
    {
      "cell_type": "code",
      "metadata": {
        "id": "FFP1wJQvUOqY",
        "colab_type": "code",
        "colab": {
          "base_uri": "https://localhost:8080/",
          "height": 54
        },
        "outputId": "204c2fe4-37b5-4984-ca3e-4a6a40942e14"
      },
      "source": [
        "mw.classification_report"
      ],
      "execution_count": 34,
      "outputs": [
        {
          "output_type": "execute_result",
          "data": {
            "text/plain": [
              "'              precision    recall  f1-score   support\\n\\n           1       0.57      0.83      0.68      3875\\n           2       0.00      0.00      0.00      1887\\n           3       0.33      0.24      0.28      2560\\n           4       0.42      0.24      0.31      4637\\n           5       0.77      0.91      0.83     15019\\n\\n    accuracy                           0.67     27978\\n   macro avg       0.42      0.45      0.42     27978\\nweighted avg       0.59      0.67      0.62     27978\\n'"
            ]
          },
          "metadata": {
            "tags": []
          },
          "execution_count": 34
        }
      ]
    },
    {
      "cell_type": "code",
      "metadata": {
        "id": "XY1bfjEeYGAq",
        "colab_type": "code",
        "colab": {
          "base_uri": "https://localhost:8080/",
          "height": 366
        },
        "outputId": "a91e3d73-6c9c-4001-f976-84d67cc06349"
      },
      "source": [
        "pu.plot_roc_auc(mw.name, mw.roc_auc, mw.fpr, mw.tpr)"
      ],
      "execution_count": 35,
      "outputs": [
        {
          "output_type": "display_data",
          "data": {
            "image/png": "[encoded data removed]",
            "text/plain": [
              "<Figure size 432x288 with 1 Axes>"
            ]
          },
          "metadata": {
            "tags": []
          }
        }
      ]
    },
    {
      "cell_type": "markdown",
      "metadata": {
        "id": "Hp8rTyd4UOqc",
        "colab_type": "text"
      },
      "source": [
        "# Save off various files"
      ]
    },
    {
      "cell_type": "code",
      "metadata": {
        "id": "Ir7tsfjPUOqd",
        "colab_type": "code",
        "colab": {
          "base_uri": "https://localhost:8080/",
          "height": 270
        },
        "outputId": "985fc392-169f-44ee-89b5-f9664e488bd5"
      },
      "source": [
        "mw.save(DRIVE_DIR, append_report=True)\n",
        "mw.get_report().to_df()"
      ],
      "execution_count": 36,
      "outputs": [
        {
          "output_type": "stream",
          "text": [
            "description: review_body-word2vec5-111909-512-nolda-DNN_128_128-512-star_rating\n",
            "Saving model file: drive/My Drive/Springboard/capstone/models/review_body-word2vec5-111909-512-nolda-DNN_128_128-512-star_rating-model.h5\n",
            "Saving network history file: drive/My Drive/Springboard/capstone/models/review_body-word2vec5-111909-512-nolda-DNN_128_128-512-star_rating-history.pkl\n",
            "Saving to report file: drive/My Drive/Springboard/capstone/reports/2019-07-30-dl_protype-report.csv\n",
            "Loading to append to: drive/My Drive/Springboard/capstone/reports/2019-07-30-dl_protype-report.csv\n",
            "Saving report file...\n"
          ],
          "name": "stdout"
        },
        {
          "output_type": "execute_result",
          "data": {
            "text/html": [
              "<div>\n",
              "<style scoped>\n",
              "    .dataframe tbody tr th:only-of-type {\n",
              "        vertical-align: middle;\n",
              "    }\n",
              "\n",
              "    .dataframe tbody tr th {\n",
              "        vertical-align: top;\n",
              "    }\n",
              "\n",
              "    .dataframe thead th {\n",
              "        text-align: right;\n",
              "    }\n",
              "</style>\n",
              "<table border=\"1\" class=\"dataframe\">\n",
              "  <thead>\n",
              "    <tr style=\"text-align: right;\">\n",
              "      <th></th>\n",
              "      <th>accuracy</th>\n",
              "      <th>classification_report</th>\n",
              "      <th>confusion_matrix</th>\n",
              "      <th>description</th>\n",
              "      <th>embedding</th>\n",
              "      <th>file</th>\n",
              "      <th>fpr</th>\n",
              "      <th>loss</th>\n",
              "      <th>max_sequence_length</th>\n",
              "      <th>model_file</th>\n",
              "      <th>model_name</th>\n",
              "      <th>network_history_file</th>\n",
              "      <th>roc_auc</th>\n",
              "      <th>status</th>\n",
              "      <th>status_date</th>\n",
              "      <th>test_examples</th>\n",
              "      <th>test_features</th>\n",
              "      <th>tokenizer_file</th>\n",
              "      <th>tpr</th>\n",
              "      <th>train_examples</th>\n",
              "      <th>train_features</th>\n",
              "      <th>train_time_min</th>\n",
              "    </tr>\n",
              "  </thead>\n",
              "  <tbody>\n",
              "    <tr>\n",
              "      <th>0</th>\n",
              "      <td>0.666488</td>\n",
              "      <td>{\"1\": {\"precision\": 0.5728981908478183, \"recal...</td>\n",
              "      <td>[[3230, 0, 265, 89, 291], [1024, 0, 382, 168, ...</td>\n",
              "      <td>review_body-word2vec5-111909-512-nolda-DNN_128...</td>\n",
              "      <td>word2vec</td>\n",
              "      <td>review_body-word2vec5-111909-512-nolda.csv</td>\n",
              "      <td>{\"0\": [0.0, 0.0, 0.0, 0.0, 0.0, 8.297722275235...</td>\n",
              "      <td>0.873364</td>\n",
              "      <td>512.0</td>\n",
              "      <td>drive/My Drive/Springboard/capstone/models/rev...</td>\n",
              "      <td>DNN_128_128</td>\n",
              "      <td>&lt;keras.callbacks.History object at 0x7fde6cf04...</td>\n",
              "      <td>{\"auc_1\": 0.9476453607033257, \"auc_2\": 0.83851...</td>\n",
              "      <td>success</td>\n",
              "      <td>2019-07-30 00:56:14</td>\n",
              "      <td>27978.0</td>\n",
              "      <td>512.0</td>\n",
              "      <td>None</td>\n",
              "      <td>{\"0\": [0.0, 0.00025806451612903227, 0.00077419...</td>\n",
              "      <td>83931.0</td>\n",
              "      <td>512.0</td>\n",
              "      <td>3.56</td>\n",
              "    </tr>\n",
              "  </tbody>\n",
              "</table>\n",
              "</div>"
            ],
            "text/plain": [
              "   accuracy  ... train_time_min\n",
              "0  0.666488  ...           3.56\n",
              "\n",
              "[1 rows x 22 columns]"
            ]
          },
          "metadata": {
            "tags": []
          },
          "execution_count": 36
        }
      ]
    },
    {
      "cell_type": "code",
      "metadata": {
        "id": "mcAeWpS6UOql",
        "colab_type": "code",
        "colab": {
          "base_uri": "https://localhost:8080/",
          "height": 199
        },
        "outputId": "48bad0c7-6777-4d4c-89f5-5c0d2f3095e9"
      },
      "source": [
        "# test if report is generated\n",
        "loaded = pd.read_csv(mw.report_file, quotechar=\"'\")\n",
        "loaded"
      ],
      "execution_count": 38,
      "outputs": [
        {
          "output_type": "execute_result",
          "data": {
            "text/html": [
              "<div>\n",
              "<style scoped>\n",
              "    .dataframe tbody tr th:only-of-type {\n",
              "        vertical-align: middle;\n",
              "    }\n",
              "\n",
              "    .dataframe tbody tr th {\n",
              "        vertical-align: top;\n",
              "    }\n",
              "\n",
              "    .dataframe thead th {\n",
              "        text-align: right;\n",
              "    }\n",
              "</style>\n",
              "<table border=\"1\" class=\"dataframe\">\n",
              "  <thead>\n",
              "    <tr style=\"text-align: right;\">\n",
              "      <th></th>\n",
              "      <th>accuracy</th>\n",
              "      <th>classification_report</th>\n",
              "      <th>confusion_matrix</th>\n",
              "      <th>description</th>\n",
              "      <th>embedding</th>\n",
              "      <th>file</th>\n",
              "      <th>fpr</th>\n",
              "      <th>loss</th>\n",
              "      <th>max_sequence_length</th>\n",
              "      <th>model_file</th>\n",
              "      <th>model_name</th>\n",
              "      <th>network_history_file</th>\n",
              "      <th>roc_auc</th>\n",
              "      <th>status</th>\n",
              "      <th>status_date</th>\n",
              "      <th>test_examples</th>\n",
              "      <th>test_features</th>\n",
              "      <th>tokenizer_file</th>\n",
              "      <th>tpr</th>\n",
              "      <th>train_examples</th>\n",
              "      <th>train_features</th>\n",
              "      <th>train_time_min</th>\n",
              "    </tr>\n",
              "  </thead>\n",
              "  <tbody>\n",
              "    <tr>\n",
              "      <th>0</th>\n",
              "      <td>0.680697</td>\n",
              "      <td>{\"1\": {\"precision\": 0.6267168391345249, \"recal...</td>\n",
              "      <td>[[3331, 58, 226, 48, 305], [990, 62, 364, 144,...</td>\n",
              "      <td>amazon_reviews_us_Wireless_v1_00-preprocessed-...</td>\n",
              "      <td>300.0</td>\n",
              "      <td>drive/My Drive/Springboard/capstone/data/amazo...</td>\n",
              "      <td>{\"0\": [0.0, 0.0, 0.0, 0.0, 0.0, 4.159214740257...</td>\n",
              "      <td>0.832744</td>\n",
              "      <td>186.0</td>\n",
              "      <td>drive/My Drive/Springboard/capstone/models/ama...</td>\n",
              "      <td>GRU_bi1layer_attention</td>\n",
              "      <td>&lt;keras.callbacks.History object at 0x7fd96547c...</td>\n",
              "      <td>{\"auc_1\": 0.9550504449437365, \"auc_2\": 0.86529...</td>\n",
              "      <td>success</td>\n",
              "      <td>2019-07-30 00:41:39</td>\n",
              "      <td>28011.0</td>\n",
              "      <td>186.0</td>\n",
              "      <td>&lt;keras_preprocessing.text.Tokenizer object at ...</td>\n",
              "      <td>{\"0\": [0.0, 0.00025201612903225806, 0.00151209...</td>\n",
              "      <td>84032.0</td>\n",
              "      <td>186.0</td>\n",
              "      <td>8.67</td>\n",
              "    </tr>\n",
              "    <tr>\n",
              "      <th>1</th>\n",
              "      <td>0.666488</td>\n",
              "      <td>{\"1\": {\"precision\": 0.5728981908478183, \"recal...</td>\n",
              "      <td>[[3230, 0, 265, 89, 291], [1024, 0, 382, 168, ...</td>\n",
              "      <td>review_body-word2vec5-111909-512-nolda-DNN_128...</td>\n",
              "      <td>word2vec</td>\n",
              "      <td>review_body-word2vec5-111909-512-nolda.csv</td>\n",
              "      <td>{\"0\": [0.0, 0.0, 0.0, 0.0, 0.0, 8.297722275235...</td>\n",
              "      <td>0.873364</td>\n",
              "      <td>512.0</td>\n",
              "      <td>drive/My Drive/Springboard/capstone/models/rev...</td>\n",
              "      <td>DNN_128_128</td>\n",
              "      <td>&lt;keras.callbacks.History object at 0x7fde6cf04...</td>\n",
              "      <td>{\"auc_1\": 0.9476453607033257, \"auc_2\": 0.83851...</td>\n",
              "      <td>success</td>\n",
              "      <td>2019-07-30 00:56:12</td>\n",
              "      <td>27978.0</td>\n",
              "      <td>512.0</td>\n",
              "      <td>NaN</td>\n",
              "      <td>{\"0\": [0.0, 0.00025806451612903227, 0.00077419...</td>\n",
              "      <td>83931.0</td>\n",
              "      <td>512.0</td>\n",
              "      <td>3.56</td>\n",
              "    </tr>\n",
              "  </tbody>\n",
              "</table>\n",
              "</div>"
            ],
            "text/plain": [
              "   accuracy  ... train_time_min\n",
              "0  0.680697  ...           8.67\n",
              "1  0.666488  ...           3.56\n",
              "\n",
              "[2 rows x 22 columns]"
            ]
          },
          "metadata": {
            "tags": []
          },
          "execution_count": 38
        }
      ]
    },
    {
      "cell_type": "code",
      "metadata": {
        "id": "9pGuWFK1YReu",
        "colab_type": "code",
        "colab": {}
      },
      "source": [
        ""
      ],
      "execution_count": 0,
      "outputs": []
    }
  ]
}