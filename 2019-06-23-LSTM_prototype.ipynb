{
  "nbformat": 4,
  "nbformat_minor": 0,
  "metadata": {
    "colab": {
      "name": "LSTM_prototype.ipynb",
      "version": "0.3.2",
      "provenance": [],
      "collapsed_sections": [],
      "include_colab_link": true
    },
    "language_info": {
      "codemirror_mode": {
        "name": "ipython",
        "version": 3
      },
      "file_extension": ".py",
      "mimetype": "text/x-python",
      "name": "python",
      "nbconvert_exporter": "python",
      "pygments_lexer": "ipython3",
      "version": "3.7.3"
    },
    "kernelspec": {
      "name": "python3",
      "display_name": "Python 3"
    },
    "accelerator": "GPU"
  },
  "cells": [
    {
      "cell_type": "markdown",
      "metadata": {
        "id": "view-in-github",
        "colab_type": "text"
      },
      "source": [
        "<a href=\"https://colab.research.google.com/github/sv650s/sb-capstone/blob/master/2019-06-23-LSTM_prototype.ipynb\" target=\"_parent\"><img src=\"https://colab.research.google.com/assets/colab-badge.svg\" alt=\"Open In Colab\"/></a>"
      ]
    },
    {
      "cell_type": "markdown",
      "metadata": {
        "id": "W7_sb1roJXhx",
        "colab_type": "text"
      },
      "source": [
        "# LSTM Prototype\n",
        "\n",
        "Modeling this notebook after the following:\n",
        "\n",
        "https://nbviewer.jupyter.org/github/dipanjanS/nlp_workshop_dhs18/blob/master/Unit%2012%20-%20Project%209%20-%20Sentiment%20Analysis%20-%20Supervised%20Learning/12C%20-%20Sentiment%20Analysis%20-%20Advanced%20Deep%20Learning%20-%20LSTMs.ipynb\n",
        "\n",
        "\n",
        "\n",
        "Making the following changes:\n",
        "\n",
        "* last layer is a 5 node layer with softmax activation function since we are doing a 5 class classification\n",
        "* Changing the loss function from binary_crossentropy to categorical_crossentropy since we are doing multi-class classification\n",
        "* running fit with 50 epochs with early stopping with patience of 2"
      ]
    },
    {
      "cell_type": "code",
      "metadata": {
        "id": "v2AR3xjPc9Cf",
        "colab_type": "code",
        "colab": {
          "base_uri": "https://localhost:8080/",
          "height": 55
        },
        "outputId": "0f88b327-89cf-4039-8b92-250720e0c55f"
      },
      "source": [
        "from google.colab import drive\n",
        "import sys\n",
        "drive.mount('/content/drive')\n",
        "# add this to sys patch so we can import utility functions\n",
        "sys.path.append('drive/My Drive/Springboard/capstone')\n"
      ],
      "execution_count": 2,
      "outputs": [
        {
          "output_type": "stream",
          "text": [
            "Drive already mounted at /content/drive; to attempt to forcibly remount, call drive.mount(\"/content/drive\", force_remount=True).\n"
          ],
          "name": "stdout"
        }
      ]
    },
    {
      "cell_type": "code",
      "metadata": {
        "id": "pAHGtniuJXhy",
        "colab_type": "code",
        "colab": {}
      },
      "source": [
        "from keras.models import Sequential\n",
        "from keras.layers.normalization import BatchNormalization\n",
        "from keras.callbacks import EarlyStopping\n",
        "from keras.models import load_model\n",
        "from sklearn.model_selection import train_test_split\n",
        "from keras.optimizers import SGD\n",
        "from sklearn.preprocessing import OneHotEncoder\n",
        "from keras.layers import Flatten\n",
        "from keras.layers import Dense, Embedding, Dropout, SpatialDropout1D, Activation\n",
        "from keras.layers import LSTM\n",
        "import pandas as pd\n",
        "from IPython.display import SVG\n",
        "from keras.utils.vis_utils import model_to_dot\n",
        "import pickle\n",
        "from datetime import datetime\n",
        "from sklearn.metrics import confusion_matrix, classification_report\n",
        "import os\n",
        "import seaborn as sns\n",
        "\n",
        "\n",
        "sns.set()\n",
        "\n",
        "# import custom utilities\n",
        "import util.dict_util as du\n",
        "import util.plot_util as pu\n",
        "import util.file_util as fu\n"
      ],
      "execution_count": 0,
      "outputs": []
    },
    {
      "cell_type": "code",
      "metadata": {
        "id": "At8OhHNfJXh3",
        "colab_type": "code",
        "colab": {}
      },
      "source": [
        "DRIVE_DIR = \"drive/My Drive/Springboard/capstone\"\n",
        "\n",
        "DATE_FORMAT = '%Y-%m-%d'\n",
        "TIME_FORMAT = '%Y-%m-%d %H:%M:%S'\n",
        "DATA_FILE = f\"{DRIVE_DIR}/data/amazon_reviews_us_Wireless_v1_00-preprocessed-110k.csv\"\n",
        "FEATURE_COLUMN = \"star_rating\"\n",
        "REVIEW_COLUMN = \"review_body\"\n",
        "directory, INBASENAME = fu.get_dir_basename(DATA_FILE)\n",
        "QUANTILE = 0.99"
      ],
      "execution_count": 0,
      "outputs": []
    },
    {
      "cell_type": "code",
      "metadata": {
        "id": "KfGVl2gXLMV_",
        "colab_type": "code",
        "outputId": "0e9dda4e-68dc-4b5c-9038-0432660487df",
        "colab": {
          "base_uri": "https://localhost:8080/",
          "height": 35
        }
      },
      "source": [
        "import tensorflow as tf\n",
        "# checl to make sure we are using GPU here\n",
        "tf.test.gpu_device_name()"
      ],
      "execution_count": 8,
      "outputs": [
        {
          "output_type": "execute_result",
          "data": {
            "text/plain": [
              "'/device:GPU:0'"
            ]
          },
          "metadata": {
            "tags": []
          },
          "execution_count": 8
        }
      ]
    },
    {
      "cell_type": "code",
      "metadata": {
        "hide_input": false,
        "id": "k6fwJp9OJXh5",
        "colab_type": "code",
        "colab": {}
      },
      "source": [
        "# df = pd.read_csv(f\"{DATA_DIR}/{DATA_FILE}\")\n",
        "df = pd.read_csv(f\"{DATA_FILE}\")"
      ],
      "execution_count": 0,
      "outputs": []
    },
    {
      "cell_type": "code",
      "metadata": {
        "id": "nb3whPNGNsu6",
        "colab_type": "code",
        "outputId": "18a8c613-492e-409b-bfee-bc218a0f0969",
        "colab": {
          "base_uri": "https://localhost:8080/",
          "height": 517
        }
      },
      "source": [
        "df.head()"
      ],
      "execution_count": 10,
      "outputs": [
        {
          "output_type": "execute_result",
          "data": {
            "text/html": [
              "<div>\n",
              "<style scoped>\n",
              "    .dataframe tbody tr th:only-of-type {\n",
              "        vertical-align: middle;\n",
              "    }\n",
              "\n",
              "    .dataframe tbody tr th {\n",
              "        vertical-align: top;\n",
              "    }\n",
              "\n",
              "    .dataframe thead th {\n",
              "        text-align: right;\n",
              "    }\n",
              "</style>\n",
              "<table border=\"1\" class=\"dataframe\">\n",
              "  <thead>\n",
              "    <tr style=\"text-align: right;\">\n",
              "      <th></th>\n",
              "      <th>customer_id</th>\n",
              "      <th>review_id</th>\n",
              "      <th>product_id</th>\n",
              "      <th>product_parent</th>\n",
              "      <th>product_title</th>\n",
              "      <th>product_category</th>\n",
              "      <th>star_rating</th>\n",
              "      <th>helpful_votes</th>\n",
              "      <th>total_votes</th>\n",
              "      <th>review_headline</th>\n",
              "      <th>review_body</th>\n",
              "      <th>review_date</th>\n",
              "    </tr>\n",
              "  </thead>\n",
              "  <tbody>\n",
              "    <tr>\n",
              "      <th>0</th>\n",
              "      <td>48623501</td>\n",
              "      <td>R1G7J2VAMI4AEC</td>\n",
              "      <td>B00LBK7QBY</td>\n",
              "      <td>361030039</td>\n",
              "      <td>universal waterproof case joto cellphone dry b...</td>\n",
              "      <td>Wireless</td>\n",
              "      <td>5</td>\n",
              "      <td>0</td>\n",
              "      <td>0</td>\n",
              "      <td>good product please note not</td>\n",
              "      <td>good product please note not floating case do ...</td>\n",
              "      <td>2015-08-31</td>\n",
              "    </tr>\n",
              "    <tr>\n",
              "      <th>1</th>\n",
              "      <td>533148</td>\n",
              "      <td>R3Q4JAPXWCCJU7</td>\n",
              "      <td>B00W661MOO</td>\n",
              "      <td>360205932</td>\n",
              "      <td>car mount alpatronix mx101 universal charging ...</td>\n",
              "      <td>Wireless</td>\n",
              "      <td>5</td>\n",
              "      <td>0</td>\n",
              "      <td>0</td>\n",
              "      <td>great product holds phone place</td>\n",
              "      <td>great product holds phone place does not slip ...</td>\n",
              "      <td>2015-08-31</td>\n",
              "    </tr>\n",
              "    <tr>\n",
              "      <th>2</th>\n",
              "      <td>40266813</td>\n",
              "      <td>RJQWVO0QV2WQ4</td>\n",
              "      <td>B00USN9L0E</td>\n",
              "      <td>105913119</td>\n",
              "      <td>synthetic leather galaxy s6 sleeve thin</td>\n",
              "      <td>Wireless</td>\n",
              "      <td>5</td>\n",
              "      <td>0</td>\n",
              "      <td>0</td>\n",
              "      <td>exactly described</td>\n",
              "      <td>quality looks good prompt postage cannot argue...</td>\n",
              "      <td>2015-08-31</td>\n",
              "    </tr>\n",
              "    <tr>\n",
              "      <th>3</th>\n",
              "      <td>228806</td>\n",
              "      <td>R3RFPR7X60WN6C</td>\n",
              "      <td>B00YPAOKMU</td>\n",
              "      <td>564491128</td>\n",
              "      <td>jiake s6 5 0 inch unlocked smart phone quad co...</td>\n",
              "      <td>Wireless</td>\n",
              "      <td>5</td>\n",
              "      <td>0</td>\n",
              "      <td>0</td>\n",
              "      <td>powerful attractive really do love mode</td>\n",
              "      <td>works much like jiake phone love price great b...</td>\n",
              "      <td>2015-08-31</td>\n",
              "    </tr>\n",
              "    <tr>\n",
              "      <th>4</th>\n",
              "      <td>10866798</td>\n",
              "      <td>R3QL2UPH2B7YFT</td>\n",
              "      <td>B00O0S97SE</td>\n",
              "      <td>742788022</td>\n",
              "      <td>tfy universal car headrest mount holder portab...</td>\n",
              "      <td>Wireless</td>\n",
              "      <td>3</td>\n",
              "      <td>0</td>\n",
              "      <td>1</td>\n",
              "      <td>good enough</td>\n",
              "      <td>serves purpose loud whoever sitting seat attached</td>\n",
              "      <td>2015-08-31</td>\n",
              "    </tr>\n",
              "  </tbody>\n",
              "</table>\n",
              "</div>"
            ],
            "text/plain": [
              "   customer_id  ... review_date\n",
              "0     48623501  ...  2015-08-31\n",
              "1       533148  ...  2015-08-31\n",
              "2     40266813  ...  2015-08-31\n",
              "3       228806  ...  2015-08-31\n",
              "4     10866798  ...  2015-08-31\n",
              "\n",
              "[5 rows x 12 columns]"
            ]
          },
          "metadata": {
            "tags": []
          },
          "execution_count": 10
        }
      ]
    },
    {
      "cell_type": "code",
      "metadata": {
        "id": "pqHfMf6mJXh7",
        "colab_type": "code",
        "colab": {}
      },
      "source": [
        "rating = df[FEATURE_COLUMN]\n",
        "reviews = df[REVIEW_COLUMN]"
      ],
      "execution_count": 0,
      "outputs": []
    },
    {
      "cell_type": "markdown",
      "metadata": {
        "id": "EBQR0ZpoOiQk",
        "colab_type": "text"
      },
      "source": [
        "**Preprocessing**"
      ]
    },
    {
      "cell_type": "code",
      "metadata": {
        "id": "lytdvF4neJ4r",
        "colab_type": "code",
        "outputId": "6e256d1d-20de-4b42-9e5e-4c96853e61c7",
        "colab": {
          "base_uri": "https://localhost:8080/",
          "height": 263
        }
      },
      "source": [
        "# one hot encode ratings\n",
        "print(rating.shape)\n",
        "print(type(rating))\n",
        "y = OneHotEncoder().fit_transform(rating.values.reshape(len(rating), 1)).toarray()\n",
        "y"
      ],
      "execution_count": 12,
      "outputs": [
        {
          "output_type": "stream",
          "text": [
            "(112043,)\n",
            "<class 'pandas.core.series.Series'>\n"
          ],
          "name": "stdout"
        },
        {
          "output_type": "stream",
          "text": [
            "/usr/local/lib/python3.6/dist-packages/sklearn/preprocessing/_encoders.py:415: FutureWarning: The handling of integer data will change in version 0.22. Currently, the categories are determined based on the range [0, max(values)], while in the future they will be determined based on the unique values.\n",
            "If you want the future behaviour and silence this warning, you can specify \"categories='auto'\".\n",
            "In case you used a LabelEncoder before this OneHotEncoder to convert the categories to integers, then you can now use the OneHotEncoder directly.\n",
            "  warnings.warn(msg, FutureWarning)\n"
          ],
          "name": "stderr"
        },
        {
          "output_type": "execute_result",
          "data": {
            "text/plain": [
              "array([[0., 0., 0., 0., 1.],\n",
              "       [0., 0., 0., 0., 1.],\n",
              "       [0., 0., 0., 0., 1.],\n",
              "       ...,\n",
              "       [0., 0., 1., 0., 0.],\n",
              "       [0., 0., 0., 0., 1.],\n",
              "       [0., 0., 0., 1., 0.]])"
            ]
          },
          "metadata": {
            "tags": []
          },
          "execution_count": 12
        }
      ]
    },
    {
      "cell_type": "code",
      "metadata": {
        "id": "8sdvF7lKPRfD",
        "colab_type": "code",
        "colab": {}
      },
      "source": [
        "reviews_train, reviews_test, y_train, y_test = train_test_split(reviews, y, random_state=1)"
      ],
      "execution_count": 0,
      "outputs": []
    },
    {
      "cell_type": "code",
      "metadata": {
        "id": "i0mwVXPjOpi5",
        "colab_type": "code",
        "colab": {}
      },
      "source": [
        "from keras.preprocessing.text import Tokenizer\n",
        "from keras.preprocessing import sequence\n",
        "from sklearn.preprocessing import LabelEncoder\n",
        "\n",
        "t = Tokenizer()\n",
        "# fit the tokenizer on the documents\n",
        "t.fit_on_texts(reviews_train)"
      ],
      "execution_count": 0,
      "outputs": []
    },
    {
      "cell_type": "code",
      "metadata": {
        "id": "Ou3A0O2aOwcb",
        "colab_type": "code",
        "colab": {}
      },
      "source": [
        "train_sequences = t.texts_to_sequences(reviews_train)"
      ],
      "execution_count": 0,
      "outputs": []
    },
    {
      "cell_type": "code",
      "metadata": {
        "id": "DuDHcMvNcZW_",
        "colab_type": "code",
        "outputId": "3fb39ee4-94b0-4865-f51f-ade911f26ea9",
        "colab": {
          "base_uri": "https://localhost:8080/",
          "height": 503
        }
      },
      "source": [
        "train_sequences[:2]"
      ],
      "execution_count": 16,
      "outputs": [
        {
          "output_type": "execute_result",
          "data": {
            "text/plain": [
              "[[20,\n",
              "  24,\n",
              "  16,\n",
              "  11,\n",
              "  1,\n",
              "  21,\n",
              "  2629,\n",
              "  398,\n",
              "  710,\n",
              "  67,\n",
              "  341,\n",
              "  30,\n",
              "  2290,\n",
              "  153,\n",
              "  140,\n",
              "  13,\n",
              "  1,\n",
              "  28,\n",
              "  186,\n",
              "  396,\n",
              "  20,\n",
              "  16,\n",
              "  93,\n",
              "  370,\n",
              "  1346,\n",
              "  408,\n",
              "  992],\n",
              " [99, 70, 31, 1, 168, 44, 1744, 452]]"
            ]
          },
          "metadata": {
            "tags": []
          },
          "execution_count": 16
        }
      ]
    },
    {
      "cell_type": "code",
      "metadata": {
        "id": "HuIWpmJasPVx",
        "colab_type": "code",
        "colab": {}
      },
      "source": [
        "# from collections import Counter\n",
        "\n",
        "# tokenized_train = [tn.tokenizer.tokenize(text) for text in reviews_train]\n",
        "# tokenized_test = [tn.tokenizer.tokenize(text) for text in reviews_test]\n",
        "\n",
        "# # build word to index vocabulary\n",
        "# token_counter = Counter([token for review in tokenized_train for token in review])\n",
        "# vocab_map = {item[0]: index+1 for index, item in enumerate(dict(token_counter).items())}\n",
        "# max_index = np.max(list(vocab_map.values()))\n",
        "# vocab_map['PAD_INDEX'] = 0\n",
        "# vocab_map['NOT_FOUND_INDEX'] = max_index+1\n",
        "# vocab_size = len(vocab_map)\n",
        "# # view vocabulary size and part of the vocabulary map\n",
        "# print('Vocabulary Size:', vocab_size)\n",
        "# print('Sample slice of vocabulary map:', dict(list(vocab_map.items())[10:20]))\n",
        "\n",
        "# max_len = np.max([len(review) for review in tokenized_train])\n",
        "\n",
        "# ## Train reviews data corpus\n",
        "# # Convert tokenized text reviews to numeric vectors\n",
        "# train_X = [[vocab_map[token] for token in tokenized_review] for tokenized_review in tokenized_train]\n",
        "# train_X = sequence.pad_sequences(train_X, maxlen=max_len) # pad \n",
        "\n",
        "# ## Test reviews data corpus\n",
        "# # Convert tokenized text reviews to numeric vectors\n",
        "# test_X = [[vocab_map[token] if vocab_map.get(token) else vocab_map['NOT_FOUND_INDEX'] \n",
        "#            for token in tokenized_review] \n",
        "#               for tokenized_review in tokenized_test]\n",
        "# test_X = sequence.pad_sequences(test_X, maxlen=max_len)\n",
        "\n",
        "# # view vector shapes\n",
        "# print('Max length of train review vectors:', max_len)\n",
        "# print('Train review vectors shape:', train_X.shape, ' Test review vectors shape:', test_X.shape)"
      ],
      "execution_count": 0,
      "outputs": []
    },
    {
      "cell_type": "code",
      "metadata": {
        "id": "Xx9whgnmPXkC",
        "colab_type": "code",
        "outputId": "a04744ab-5a90-4560-af65-74f629b0af82",
        "colab": {
          "base_uri": "https://localhost:8080/",
          "height": 832
        }
      },
      "source": [
        "test_sequences = t.texts_to_sequences(reviews_test)\n",
        "test_sequences[:2]"
      ],
      "execution_count": 18,
      "outputs": [
        {
          "output_type": "execute_result",
          "data": {
            "text/plain": [
              "[[9,\n",
              "  608,\n",
              "  2584,\n",
              "  670,\n",
              "  437,\n",
              "  246,\n",
              "  2,\n",
              "  323,\n",
              "  5,\n",
              "  31,\n",
              "  203,\n",
              "  340,\n",
              "  1414,\n",
              "  643,\n",
              "  342,\n",
              "  147,\n",
              "  242,\n",
              "  272,\n",
              "  54,\n",
              "  128,\n",
              "  278,\n",
              "  908,\n",
              "  27],\n",
              " [764,\n",
              "  1621,\n",
              "  4,\n",
              "  783,\n",
              "  2,\n",
              "  11,\n",
              "  1,\n",
              "  149,\n",
              "  260,\n",
              "  3,\n",
              "  914,\n",
              "  243,\n",
              "  249,\n",
              "  2369,\n",
              "  2,\n",
              "  9,\n",
              "  105,\n",
              "  11,\n",
              "  3,\n",
              "  131,\n",
              "  94,\n",
              "  128,\n",
              "  10,\n",
              "  21]]"
            ]
          },
          "metadata": {
            "tags": []
          },
          "execution_count": 18
        }
      ]
    },
    {
      "cell_type": "code",
      "metadata": {
        "id": "bt_xMQApPd_f",
        "colab_type": "code",
        "outputId": "32ab57d1-95f0-418a-fe2f-82bc9cf889c4",
        "colab": {
          "base_uri": "https://localhost:8080/",
          "height": 52
        }
      },
      "source": [
        "print(\"Vocabulary size={}\".format(len(t.word_counts)))\n",
        "print(\"Number of Documents={}\".format(t.document_count))\n"
      ],
      "execution_count": 19,
      "outputs": [
        {
          "output_type": "stream",
          "text": [
            "Vocabulary size=40788\n",
            "Number of Documents=84032\n"
          ],
          "name": "stdout"
        }
      ]
    },
    {
      "cell_type": "markdown",
      "metadata": {
        "id": "vyaOznruPjq-",
        "colab_type": "text"
      },
      "source": [
        "**Sequence Normalization**\n",
        "\n",
        "Figure out max length of review and pad the rest so they are all the same length"
      ]
    },
    {
      "cell_type": "code",
      "metadata": {
        "id": "HbmXj-JuPvCT",
        "colab_type": "code",
        "outputId": "755ea76b-44f5-472c-b87a-76657449e899",
        "colab": {
          "base_uri": "https://localhost:8080/",
          "height": 35
        }
      },
      "source": [
        "df[\"review_length\"] = df.review_body.apply(lambda x: len(x.split()))\n",
        "df.review_length.max()"
      ],
      "execution_count": 20,
      "outputs": [
        {
          "output_type": "execute_result",
          "data": {
            "text/plain": [
              "2864"
            ]
          },
          "metadata": {
            "tags": []
          },
          "execution_count": 20
        }
      ]
    },
    {
      "cell_type": "code",
      "metadata": {
        "id": "tR3hDNoCQnvR",
        "colab_type": "code",
        "outputId": "7b59038b-9b68-4a8d-a546-827fb034d3e2",
        "colab": {
          "base_uri": "https://localhost:8080/",
          "height": 294
        }
      },
      "source": [
        "df.describe()"
      ],
      "execution_count": 21,
      "outputs": [
        {
          "output_type": "execute_result",
          "data": {
            "text/html": [
              "<div>\n",
              "<style scoped>\n",
              "    .dataframe tbody tr th:only-of-type {\n",
              "        vertical-align: middle;\n",
              "    }\n",
              "\n",
              "    .dataframe tbody tr th {\n",
              "        vertical-align: top;\n",
              "    }\n",
              "\n",
              "    .dataframe thead th {\n",
              "        text-align: right;\n",
              "    }\n",
              "</style>\n",
              "<table border=\"1\" class=\"dataframe\">\n",
              "  <thead>\n",
              "    <tr style=\"text-align: right;\">\n",
              "      <th></th>\n",
              "      <th>customer_id</th>\n",
              "      <th>product_parent</th>\n",
              "      <th>star_rating</th>\n",
              "      <th>helpful_votes</th>\n",
              "      <th>total_votes</th>\n",
              "      <th>review_length</th>\n",
              "    </tr>\n",
              "  </thead>\n",
              "  <tbody>\n",
              "    <tr>\n",
              "      <th>count</th>\n",
              "      <td>1.120430e+05</td>\n",
              "      <td>1.120430e+05</td>\n",
              "      <td>112043.000000</td>\n",
              "      <td>112043.000000</td>\n",
              "      <td>112043.000000</td>\n",
              "      <td>112043.000000</td>\n",
              "    </tr>\n",
              "    <tr>\n",
              "      <th>mean</th>\n",
              "      <td>2.547598e+07</td>\n",
              "      <td>4.994998e+08</td>\n",
              "      <td>3.889078</td>\n",
              "      <td>0.912435</td>\n",
              "      <td>1.189704</td>\n",
              "      <td>26.322965</td>\n",
              "    </tr>\n",
              "    <tr>\n",
              "      <th>std</th>\n",
              "      <td>1.582173e+07</td>\n",
              "      <td>2.879968e+08</td>\n",
              "      <td>1.463196</td>\n",
              "      <td>10.304687</td>\n",
              "      <td>11.167197</td>\n",
              "      <td>47.248166</td>\n",
              "    </tr>\n",
              "    <tr>\n",
              "      <th>min</th>\n",
              "      <td>1.014100e+04</td>\n",
              "      <td>1.365700e+04</td>\n",
              "      <td>1.000000</td>\n",
              "      <td>0.000000</td>\n",
              "      <td>0.000000</td>\n",
              "      <td>1.000000</td>\n",
              "    </tr>\n",
              "    <tr>\n",
              "      <th>25%</th>\n",
              "      <td>1.231110e+07</td>\n",
              "      <td>2.493906e+08</td>\n",
              "      <td>3.000000</td>\n",
              "      <td>0.000000</td>\n",
              "      <td>0.000000</td>\n",
              "      <td>8.000000</td>\n",
              "    </tr>\n",
              "    <tr>\n",
              "      <th>50%</th>\n",
              "      <td>2.344848e+07</td>\n",
              "      <td>4.990693e+08</td>\n",
              "      <td>5.000000</td>\n",
              "      <td>0.000000</td>\n",
              "      <td>0.000000</td>\n",
              "      <td>15.000000</td>\n",
              "    </tr>\n",
              "    <tr>\n",
              "      <th>75%</th>\n",
              "      <td>4.040851e+07</td>\n",
              "      <td>7.481358e+08</td>\n",
              "      <td>5.000000</td>\n",
              "      <td>0.000000</td>\n",
              "      <td>1.000000</td>\n",
              "      <td>29.000000</td>\n",
              "    </tr>\n",
              "    <tr>\n",
              "      <th>max</th>\n",
              "      <td>5.309655e+07</td>\n",
              "      <td>9.999930e+08</td>\n",
              "      <td>5.000000</td>\n",
              "      <td>1447.000000</td>\n",
              "      <td>1524.000000</td>\n",
              "      <td>2864.000000</td>\n",
              "    </tr>\n",
              "  </tbody>\n",
              "</table>\n",
              "</div>"
            ],
            "text/plain": [
              "        customer_id  product_parent  ...    total_votes  review_length\n",
              "count  1.120430e+05    1.120430e+05  ...  112043.000000  112043.000000\n",
              "mean   2.547598e+07    4.994998e+08  ...       1.189704      26.322965\n",
              "std    1.582173e+07    2.879968e+08  ...      11.167197      47.248166\n",
              "min    1.014100e+04    1.365700e+04  ...       0.000000       1.000000\n",
              "25%    1.231110e+07    2.493906e+08  ...       0.000000       8.000000\n",
              "50%    2.344848e+07    4.990693e+08  ...       0.000000      15.000000\n",
              "75%    4.040851e+07    7.481358e+08  ...       1.000000      29.000000\n",
              "max    5.309655e+07    9.999930e+08  ...    1524.000000    2864.000000\n",
              "\n",
              "[8 rows x 6 columns]"
            ]
          },
          "metadata": {
            "tags": []
          },
          "execution_count": 21
        }
      ]
    },
    {
      "cell_type": "code",
      "metadata": {
        "id": "-fUrtXcnzrYz",
        "colab_type": "code",
        "outputId": "13fa4659-8711-47c5-f48e-6b66592fa2de",
        "colab": {
          "base_uri": "https://localhost:8080/",
          "height": 121
        }
      },
      "source": [
        "df.review_length.quantile([0.95, 0.96, 0.97, 0.98, 0.99])"
      ],
      "execution_count": 22,
      "outputs": [
        {
          "output_type": "execute_result",
          "data": {
            "text/plain": [
              "0.95     84.0\n",
              "0.96     95.0\n",
              "0.97    110.0\n",
              "0.98    136.0\n",
              "0.99    186.0\n",
              "Name: review_length, dtype: float64"
            ]
          },
          "metadata": {
            "tags": []
          },
          "execution_count": 22
        }
      ]
    },
    {
      "cell_type": "code",
      "metadata": {
        "id": "JnBz2oaMa_uq",
        "colab_type": "code",
        "outputId": "9a7fe85f-6b31-4eae-b01f-81dac3b9c35e",
        "colab": {
          "base_uri": "https://localhost:8080/",
          "height": 35
        }
      },
      "source": [
        "MAX_SEQUENCE_LENGTH = int(df.review_length.quantile([QUANTILE]).values[0])\n",
        "MAX_SEQUENCE_LENGTH"
      ],
      "execution_count": 23,
      "outputs": [
        {
          "output_type": "execute_result",
          "data": {
            "text/plain": [
              "186"
            ]
          },
          "metadata": {
            "tags": []
          },
          "execution_count": 23
        }
      ]
    },
    {
      "cell_type": "markdown",
      "metadata": {
        "id": "FzomQClub7Qo",
        "colab_type": "text"
      },
      "source": [
        "Looks like 99% of our reviews have 186 words or less. If we keep our sequence length to around 186 words, this should allow us to keep most of our content\n",
        "\n",
        "NOTE: no need to do encoding for our star_ratings since this is already in a number format"
      ]
    },
    {
      "cell_type": "code",
      "metadata": {
        "id": "W9HZDo9Lbna9",
        "colab_type": "code",
        "colab": {}
      },
      "source": [
        "# pad dataset to a maximum review length in words\n",
        "X_train = sequence.pad_sequences(train_sequences, maxlen=MAX_SEQUENCE_LENGTH)\n",
        "X_test = sequence.pad_sequences(test_sequences, maxlen=MAX_SEQUENCE_LENGTH)"
      ],
      "execution_count": 0,
      "outputs": []
    },
    {
      "cell_type": "markdown",
      "metadata": {
        "id": "F6YI8EiNb5CF",
        "colab_type": "text"
      },
      "source": [
        ""
      ]
    },
    {
      "cell_type": "code",
      "metadata": {
        "id": "_yP1USpSJXh9",
        "colab_type": "code",
        "outputId": "dc85c6b6-f04a-4fb2-b668-884ce6a761a9",
        "colab": {
          "base_uri": "https://localhost:8080/",
          "height": 624
        }
      },
      "source": [
        "X_train[:2]"
      ],
      "execution_count": 25,
      "outputs": [
        {
          "output_type": "execute_result",
          "data": {
            "text/plain": [
              "array([[   0,    0,    0,    0,    0,    0,    0,    0,    0,    0,    0,\n",
              "           0,    0,    0,    0,    0,    0,    0,    0,    0,    0,    0,\n",
              "           0,    0,    0,    0,    0,    0,    0,    0,    0,    0,    0,\n",
              "           0,    0,    0,    0,    0,    0,    0,    0,    0,    0,    0,\n",
              "           0,    0,    0,    0,    0,    0,    0,    0,    0,    0,    0,\n",
              "           0,    0,    0,    0,    0,    0,    0,    0,    0,    0,    0,\n",
              "           0,    0,    0,    0,    0,    0,    0,    0,    0,    0,    0,\n",
              "           0,    0,    0,    0,    0,    0,    0,    0,    0,    0,    0,\n",
              "           0,    0,    0,    0,    0,    0,    0,    0,    0,    0,    0,\n",
              "           0,    0,    0,    0,    0,    0,    0,    0,    0,    0,    0,\n",
              "           0,    0,    0,    0,    0,    0,    0,    0,    0,    0,    0,\n",
              "           0,    0,    0,    0,    0,    0,    0,    0,    0,    0,    0,\n",
              "           0,    0,    0,    0,    0,    0,    0,    0,    0,    0,    0,\n",
              "           0,    0,    0,    0,    0,    0,    0,    0,    0,    0,    0,\n",
              "           0,    0,    0,    0,    0,   20,   24,   16,   11,    1,   21,\n",
              "        2629,  398,  710,   67,  341,   30, 2290,  153,  140,   13,    1,\n",
              "          28,  186,  396,   20,   16,   93,  370, 1346,  408,  992],\n",
              "       [   0,    0,    0,    0,    0,    0,    0,    0,    0,    0,    0,\n",
              "           0,    0,    0,    0,    0,    0,    0,    0,    0,    0,    0,\n",
              "           0,    0,    0,    0,    0,    0,    0,    0,    0,    0,    0,\n",
              "           0,    0,    0,    0,    0,    0,    0,    0,    0,    0,    0,\n",
              "           0,    0,    0,    0,    0,    0,    0,    0,    0,    0,    0,\n",
              "           0,    0,    0,    0,    0,    0,    0,    0,    0,    0,    0,\n",
              "           0,    0,    0,    0,    0,    0,    0,    0,    0,    0,    0,\n",
              "           0,    0,    0,    0,    0,    0,    0,    0,    0,    0,    0,\n",
              "           0,    0,    0,    0,    0,    0,    0,    0,    0,    0,    0,\n",
              "           0,    0,    0,    0,    0,    0,    0,    0,    0,    0,    0,\n",
              "           0,    0,    0,    0,    0,    0,    0,    0,    0,    0,    0,\n",
              "           0,    0,    0,    0,    0,    0,    0,    0,    0,    0,    0,\n",
              "           0,    0,    0,    0,    0,    0,    0,    0,    0,    0,    0,\n",
              "           0,    0,    0,    0,    0,    0,    0,    0,    0,    0,    0,\n",
              "           0,    0,    0,    0,    0,    0,    0,    0,    0,    0,    0,\n",
              "           0,    0,    0,    0,    0,    0,    0,    0,    0,    0,    0,\n",
              "           0,    0,   99,   70,   31,    1,  168,   44, 1744,  452]],\n",
              "      dtype=int32)"
            ]
          },
          "metadata": {
            "tags": []
          },
          "execution_count": 25
        }
      ]
    },
    {
      "cell_type": "code",
      "metadata": {
        "id": "0eJWZ7ZZuUsR",
        "colab_type": "code",
        "outputId": "4e622fd4-39db-48b3-a475-748810b4dcb7",
        "colab": {
          "base_uri": "https://localhost:8080/",
          "height": 35
        }
      },
      "source": [
        "print('Train review vectors shape:', X_train.shape, ' Test review vectors shape:', X_test.shape)"
      ],
      "execution_count": 26,
      "outputs": [
        {
          "output_type": "stream",
          "text": [
            "Train review vectors shape: (84032, 186)  Test review vectors shape: (28011, 186)\n"
          ],
          "name": "stdout"
        }
      ]
    },
    {
      "cell_type": "markdown",
      "metadata": {
        "id": "t-ED8tmnbLd7",
        "colab_type": "text"
      },
      "source": [
        ""
      ]
    },
    {
      "cell_type": "code",
      "metadata": {
        "id": "lvkxqTmcJXiA",
        "colab_type": "code",
        "outputId": "71e8fca4-6991-48fb-cc62-a37eb756b7e9",
        "colab": {
          "base_uri": "https://localhost:8080/",
          "height": 121
        }
      },
      "source": [
        "rating.head()"
      ],
      "execution_count": 27,
      "outputs": [
        {
          "output_type": "execute_result",
          "data": {
            "text/plain": [
              "0    5\n",
              "1    5\n",
              "2    5\n",
              "3    5\n",
              "4    3\n",
              "Name: star_rating, dtype: int64"
            ]
          },
          "metadata": {
            "tags": []
          },
          "execution_count": 27
        }
      ]
    },
    {
      "cell_type": "code",
      "metadata": {
        "id": "LxDcAouddq88",
        "colab_type": "code",
        "colab": {}
      },
      "source": [
        "MODEL_NAME = \"LSTM_1layer\"\n",
        "EMBED_SIZE = 300\n",
        "EPOCHS  = 50\n",
        "BATCH_SIZE = 128\n",
        "VOCAB_SIZE = len(t.word_counts)+1\n",
        "LSTM_DIM = 64 # total LSTM units\n",
        "\n"
      ],
      "execution_count": 0,
      "outputs": []
    },
    {
      "cell_type": "markdown",
      "metadata": {
        "id": "6hWLBCjqucDJ",
        "colab_type": "text"
      },
      "source": [
        "**Build LSTM Model Architecture**"
      ]
    },
    {
      "cell_type": "code",
      "metadata": {
        "id": "653DtCuBJXiF",
        "colab_type": "code",
        "colab": {
          "base_uri": "https://localhost:8080/",
          "height": 315
        },
        "outputId": "bcf95446-ce89-447c-88ba-48e3e8aca346"
      },
      "source": [
        "model = Sequential()\n",
        "model.add(Embedding(input_dim=VOCAB_SIZE, output_dim=EMBED_SIZE, input_length=MAX_SEQUENCE_LENGTH))\n",
        "model.add(SpatialDropout1D(0.2))\n",
        "model.add(LSTM(LSTM_DIM, dropout=0.2, recurrent_dropout=0.2))\n",
        "model.add(Dense(5, activation=\"softmax\"))\n",
        "\n",
        "model.compile(loss=\"categorical_crossentropy\", optimizer=\"adam\",\n",
        "              metrics=[\"accuracy\"])"
      ],
      "execution_count": 29,
      "outputs": [
        {
          "output_type": "stream",
          "text": [
            "WARNING: Logging before flag parsing goes to stderr.\n",
            "W0723 06:11:56.878184 140325550856064 deprecation_wrapper.py:119] From /usr/local/lib/python3.6/dist-packages/keras/backend/tensorflow_backend.py:74: The name tf.get_default_graph is deprecated. Please use tf.compat.v1.get_default_graph instead.\n",
            "\n",
            "W0723 06:11:56.894606 140325550856064 deprecation_wrapper.py:119] From /usr/local/lib/python3.6/dist-packages/keras/backend/tensorflow_backend.py:517: The name tf.placeholder is deprecated. Please use tf.compat.v1.placeholder instead.\n",
            "\n",
            "W0723 06:11:56.898185 140325550856064 deprecation_wrapper.py:119] From /usr/local/lib/python3.6/dist-packages/keras/backend/tensorflow_backend.py:4138: The name tf.random_uniform is deprecated. Please use tf.random.uniform instead.\n",
            "\n",
            "W0723 06:11:56.928294 140325550856064 deprecation_wrapper.py:119] From /usr/local/lib/python3.6/dist-packages/keras/backend/tensorflow_backend.py:133: The name tf.placeholder_with_default is deprecated. Please use tf.compat.v1.placeholder_with_default instead.\n",
            "\n",
            "W0723 06:11:56.942683 140325550856064 deprecation.py:506] From /usr/local/lib/python3.6/dist-packages/keras/backend/tensorflow_backend.py:3445: calling dropout (from tensorflow.python.ops.nn_ops) with keep_prob is deprecated and will be removed in a future version.\n",
            "Instructions for updating:\n",
            "Please use `rate` instead of `keep_prob`. Rate should be set to `rate = 1 - keep_prob`.\n",
            "W0723 06:11:57.613317 140325550856064 deprecation_wrapper.py:119] From /usr/local/lib/python3.6/dist-packages/keras/optimizers.py:790: The name tf.train.Optimizer is deprecated. Please use tf.compat.v1.train.Optimizer instead.\n",
            "\n",
            "W0723 06:11:57.644598 140325550856064 deprecation_wrapper.py:119] From /usr/local/lib/python3.6/dist-packages/keras/backend/tensorflow_backend.py:3295: The name tf.log is deprecated. Please use tf.math.log instead.\n",
            "\n"
          ],
          "name": "stderr"
        }
      ]
    },
    {
      "cell_type": "code",
      "metadata": {
        "id": "iZitdxXPJXiI",
        "colab_type": "code",
        "outputId": "9b4bf07b-0aa3-430f-9d4c-1f541cbc47d5",
        "colab": {
          "base_uri": "https://localhost:8080/",
          "height": 295
        }
      },
      "source": [
        "print(model.summary())"
      ],
      "execution_count": 30,
      "outputs": [
        {
          "output_type": "stream",
          "text": [
            "_________________________________________________________________\n",
            "Layer (type)                 Output Shape              Param #   \n",
            "=================================================================\n",
            "embedding_1 (Embedding)      (None, 186, 300)          12236700  \n",
            "_________________________________________________________________\n",
            "spatial_dropout1d_1 (Spatial (None, 186, 300)          0         \n",
            "_________________________________________________________________\n",
            "lstm_1 (LSTM)                (None, 64)                93440     \n",
            "_________________________________________________________________\n",
            "dense_1 (Dense)              (None, 5)                 325       \n",
            "=================================================================\n",
            "Total params: 12,330,465\n",
            "Trainable params: 12,330,465\n",
            "Non-trainable params: 0\n",
            "_________________________________________________________________\n",
            "None\n"
          ],
          "name": "stdout"
        }
      ]
    },
    {
      "cell_type": "code",
      "metadata": {
        "id": "RqLc7s0BJXiK",
        "colab_type": "code",
        "outputId": "298ab472-8f58-425f-d932-b20606ac9314",
        "colab": {
          "base_uri": "https://localhost:8080/",
          "height": 524
        }
      },
      "source": [
        "SVG(model_to_dot(model, show_shapes=True, show_layer_names=False, \n",
        "                 rankdir='TB').create(prog='dot', format='svg'))"
      ],
      "execution_count": 31,
      "outputs": [
        {
          "output_type": "execute_result",
          "data": {
            "text/plain": [
              "<IPython.core.display.SVG object>"
            ],
            "image/svg+xml": "<svg height=\"377pt\" viewBox=\"0.00 0.00 305.00 377.00\" width=\"305pt\" xmlns=\"http://www.w3.org/2000/svg\" xmlns:xlink=\"http://www.w3.org/1999/xlink\">\n<g class=\"graph\" id=\"graph0\" transform=\"scale(1 1) rotate(0) translate(4 373)\">\n<title>G</title>\n<polygon fill=\"#ffffff\" points=\"-4,4 -4,-373 301,-373 301,4 -4,4\" stroke=\"transparent\"/>\n<!-- 140322867178072 -->\n<g class=\"node\" id=\"node1\">\n<title>140322867178072</title>\n<polygon fill=\"none\" points=\"19,-249.5 19,-295.5 278,-295.5 278,-249.5 19,-249.5\" stroke=\"#000000\"/>\n<text fill=\"#000000\" font-family=\"Times,serif\" font-size=\"14.00\" text-anchor=\"middle\" x=\"61\" y=\"-268.8\">Embedding</text>\n<polyline fill=\"none\" points=\"103,-249.5 103,-295.5 \" stroke=\"#000000\"/>\n<text fill=\"#000000\" font-family=\"Times,serif\" font-size=\"14.00\" text-anchor=\"middle\" x=\"132\" y=\"-280.3\">input:</text>\n<polyline fill=\"none\" points=\"103,-272.5 161,-272.5 \" stroke=\"#000000\"/>\n<text fill=\"#000000\" font-family=\"Times,serif\" font-size=\"14.00\" text-anchor=\"middle\" x=\"132\" y=\"-257.3\">output:</text>\n<polyline fill=\"none\" points=\"161,-249.5 161,-295.5 \" stroke=\"#000000\"/>\n<text fill=\"#000000\" font-family=\"Times,serif\" font-size=\"14.00\" text-anchor=\"middle\" x=\"219.5\" y=\"-280.3\">(None, 186)</text>\n<polyline fill=\"none\" points=\"161,-272.5 278,-272.5 \" stroke=\"#000000\"/>\n<text fill=\"#000000\" font-family=\"Times,serif\" font-size=\"14.00\" text-anchor=\"middle\" x=\"219.5\" y=\"-257.3\">(None, 186, 300)</text>\n</g>\n<!-- 140324961018936 -->\n<g class=\"node\" id=\"node2\">\n<title>140324961018936</title>\n<polygon fill=\"none\" points=\"0,-166.5 0,-212.5 297,-212.5 297,-166.5 0,-166.5\" stroke=\"#000000\"/>\n<text fill=\"#000000\" font-family=\"Times,serif\" font-size=\"14.00\" text-anchor=\"middle\" x=\"61\" y=\"-185.8\">SpatialDropout1D</text>\n<polyline fill=\"none\" points=\"122,-166.5 122,-212.5 \" stroke=\"#000000\"/>\n<text fill=\"#000000\" font-family=\"Times,serif\" font-size=\"14.00\" text-anchor=\"middle\" x=\"151\" y=\"-197.3\">input:</text>\n<polyline fill=\"none\" points=\"122,-189.5 180,-189.5 \" stroke=\"#000000\"/>\n<text fill=\"#000000\" font-family=\"Times,serif\" font-size=\"14.00\" text-anchor=\"middle\" x=\"151\" y=\"-174.3\">output:</text>\n<polyline fill=\"none\" points=\"180,-166.5 180,-212.5 \" stroke=\"#000000\"/>\n<text fill=\"#000000\" font-family=\"Times,serif\" font-size=\"14.00\" text-anchor=\"middle\" x=\"238.5\" y=\"-197.3\">(None, 186, 300)</text>\n<polyline fill=\"none\" points=\"180,-189.5 297,-189.5 \" stroke=\"#000000\"/>\n<text fill=\"#000000\" font-family=\"Times,serif\" font-size=\"14.00\" text-anchor=\"middle\" x=\"238.5\" y=\"-174.3\">(None, 186, 300)</text>\n</g>\n<!-- 140322867178072&#45;&gt;140324961018936 -->\n<g class=\"edge\" id=\"edge2\">\n<title>140322867178072-&gt;140324961018936</title>\n<path d=\"M148.5,-249.3799C148.5,-241.1745 148.5,-231.7679 148.5,-222.8786\" fill=\"none\" stroke=\"#000000\"/>\n<polygon fill=\"#000000\" points=\"152.0001,-222.784 148.5,-212.784 145.0001,-222.784 152.0001,-222.784\" stroke=\"#000000\"/>\n</g>\n<!-- 140324961019440 -->\n<g class=\"node\" id=\"node3\">\n<title>140324961019440</title>\n<polygon fill=\"none\" points=\"33,-83.5 33,-129.5 264,-129.5 264,-83.5 33,-83.5\" stroke=\"#000000\"/>\n<text fill=\"#000000\" font-family=\"Times,serif\" font-size=\"14.00\" text-anchor=\"middle\" x=\"61\" y=\"-102.8\">LSTM</text>\n<polyline fill=\"none\" points=\"89,-83.5 89,-129.5 \" stroke=\"#000000\"/>\n<text fill=\"#000000\" font-family=\"Times,serif\" font-size=\"14.00\" text-anchor=\"middle\" x=\"118\" y=\"-114.3\">input:</text>\n<polyline fill=\"none\" points=\"89,-106.5 147,-106.5 \" stroke=\"#000000\"/>\n<text fill=\"#000000\" font-family=\"Times,serif\" font-size=\"14.00\" text-anchor=\"middle\" x=\"118\" y=\"-91.3\">output:</text>\n<polyline fill=\"none\" points=\"147,-83.5 147,-129.5 \" stroke=\"#000000\"/>\n<text fill=\"#000000\" font-family=\"Times,serif\" font-size=\"14.00\" text-anchor=\"middle\" x=\"205.5\" y=\"-114.3\">(None, 186, 300)</text>\n<polyline fill=\"none\" points=\"147,-106.5 264,-106.5 \" stroke=\"#000000\"/>\n<text fill=\"#000000\" font-family=\"Times,serif\" font-size=\"14.00\" text-anchor=\"middle\" x=\"205.5\" y=\"-91.3\">(None, 64)</text>\n</g>\n<!-- 140324961018936&#45;&gt;140324961019440 -->\n<g class=\"edge\" id=\"edge3\">\n<title>140324961018936-&gt;140324961019440</title>\n<path d=\"M148.5,-166.3799C148.5,-158.1745 148.5,-148.7679 148.5,-139.8786\" fill=\"none\" stroke=\"#000000\"/>\n<polygon fill=\"#000000\" points=\"152.0001,-139.784 148.5,-129.784 145.0001,-139.784 152.0001,-139.784\" stroke=\"#000000\"/>\n</g>\n<!-- 140324166884376 -->\n<g class=\"node\" id=\"node4\">\n<title>140324166884376</title>\n<polygon fill=\"none\" points=\"53.5,-.5 53.5,-46.5 243.5,-46.5 243.5,-.5 53.5,-.5\" stroke=\"#000000\"/>\n<text fill=\"#000000\" font-family=\"Times,serif\" font-size=\"14.00\" text-anchor=\"middle\" x=\"79.5\" y=\"-19.8\">Dense</text>\n<polyline fill=\"none\" points=\"105.5,-.5 105.5,-46.5 \" stroke=\"#000000\"/>\n<text fill=\"#000000\" font-family=\"Times,serif\" font-size=\"14.00\" text-anchor=\"middle\" x=\"134.5\" y=\"-31.3\">input:</text>\n<polyline fill=\"none\" points=\"105.5,-23.5 163.5,-23.5 \" stroke=\"#000000\"/>\n<text fill=\"#000000\" font-family=\"Times,serif\" font-size=\"14.00\" text-anchor=\"middle\" x=\"134.5\" y=\"-8.3\">output:</text>\n<polyline fill=\"none\" points=\"163.5,-.5 163.5,-46.5 \" stroke=\"#000000\"/>\n<text fill=\"#000000\" font-family=\"Times,serif\" font-size=\"14.00\" text-anchor=\"middle\" x=\"203.5\" y=\"-31.3\">(None, 64)</text>\n<polyline fill=\"none\" points=\"163.5,-23.5 243.5,-23.5 \" stroke=\"#000000\"/>\n<text fill=\"#000000\" font-family=\"Times,serif\" font-size=\"14.00\" text-anchor=\"middle\" x=\"203.5\" y=\"-8.3\">(None, 5)</text>\n</g>\n<!-- 140324961019440&#45;&gt;140324166884376 -->\n<g class=\"edge\" id=\"edge4\">\n<title>140324961019440-&gt;140324166884376</title>\n<path d=\"M148.5,-83.3799C148.5,-75.1745 148.5,-65.7679 148.5,-56.8786\" fill=\"none\" stroke=\"#000000\"/>\n<polygon fill=\"#000000\" points=\"152.0001,-56.784 148.5,-46.784 145.0001,-56.784 152.0001,-56.784\" stroke=\"#000000\"/>\n</g>\n<!-- 140322867176896 -->\n<g class=\"node\" id=\"node5\">\n<title>140322867176896</title>\n<polygon fill=\"none\" points=\"84,-332.5 84,-368.5 213,-368.5 213,-332.5 84,-332.5\" stroke=\"#000000\"/>\n<text fill=\"#000000\" font-family=\"Times,serif\" font-size=\"14.00\" text-anchor=\"middle\" x=\"148.5\" y=\"-346.8\">140322867176896</text>\n</g>\n<!-- 140322867176896&#45;&gt;140322867178072 -->\n<g class=\"edge\" id=\"edge1\">\n<title>140322867176896-&gt;140322867178072</title>\n<path d=\"M148.5,-332.4092C148.5,-324.4308 148.5,-314.795 148.5,-305.606\" fill=\"none\" stroke=\"#000000\"/>\n<polygon fill=\"#000000\" points=\"152.0001,-305.5333 148.5,-295.5333 145.0001,-305.5334 152.0001,-305.5333\" stroke=\"#000000\"/>\n</g>\n</g>\n</svg>"
          },
          "metadata": {
            "tags": []
          },
          "execution_count": 31
        }
      ]
    },
    {
      "cell_type": "code",
      "metadata": {
        "scrolled": false,
        "id": "60eC_0fRJXiQ",
        "colab_type": "code",
        "outputId": "b68fdf3d-b50d-4ac8-ae62-bc9283a122cc",
        "colab": {
          "base_uri": "https://localhost:8080/",
          "height": 263
        }
      },
      "source": [
        "early_stop = EarlyStopping(monitor='val_loss', patience=2, verbose=1)\n",
        "network_history = model.fit(X_train, y_train,\n",
        "                      batch_size=BATCH_SIZE,\n",
        "                      epochs=EPOCHS,\n",
        "                      verbose=1,\n",
        "                      validation_split=0.2,\n",
        "                      callbacks=[early_stop])"
      ],
      "execution_count": 32,
      "outputs": [
        {
          "output_type": "stream",
          "text": [
            "W0723 06:11:57.933832 140325550856064 deprecation.py:323] From /usr/local/lib/python3.6/dist-packages/tensorflow/python/ops/math_grad.py:1250: add_dispatch_support.<locals>.wrapper (from tensorflow.python.ops.array_ops) is deprecated and will be removed in a future version.\n",
            "Instructions for updating:\n",
            "Use tf.where in 2.0, which has the same broadcast rule as np.where\n"
          ],
          "name": "stderr"
        },
        {
          "output_type": "stream",
          "text": [
            "Train on 67225 samples, validate on 16807 samples\n",
            "Epoch 1/50\n",
            "67225/67225 [==============================] - 370s 6ms/step - loss: 0.9621 - acc: 0.6330 - val_loss: 0.8713 - val_acc: 0.6590\n",
            "Epoch 2/50\n",
            "67225/67225 [==============================] - 250s 4ms/step - loss: 0.7950 - acc: 0.6916 - val_loss: 0.8657 - val_acc: 0.6624\n",
            "Epoch 3/50\n",
            "67225/67225 [==============================] - 245s 4ms/step - loss: 0.7196 - acc: 0.7218 - val_loss: 0.8825 - val_acc: 0.6559\n",
            "Epoch 4/50\n",
            "67225/67225 [==============================] - 246s 4ms/step - loss: 0.6499 - acc: 0.7554 - val_loss: 0.9124 - val_acc: 0.6540\n",
            "Epoch 00004: early stopping\n"
          ],
          "name": "stdout"
        }
      ]
    },
    {
      "cell_type": "code",
      "metadata": {
        "id": "2VHBrsPjJXiS",
        "colab_type": "code",
        "outputId": "6d093da4-05ae-414c-957d-cc7b2df69fc1",
        "colab": {
          "base_uri": "https://localhost:8080/",
          "height": 52
        }
      },
      "source": [
        "scores = model.evaluate(X_test, y_test, verbose=1)\n",
        "print(\"Accuracy: %.2f%%\" % (scores[1]*100))\n"
      ],
      "execution_count": 33,
      "outputs": [
        {
          "output_type": "stream",
          "text": [
            "28011/28011 [==============================] - 135s 5ms/step\n",
            "Accuracy: 66.10%\n"
          ],
          "name": "stdout"
        }
      ]
    },
    {
      "cell_type": "code",
      "metadata": {
        "id": "CsBholvaJXiU",
        "colab_type": "code",
        "outputId": "f4893116-74cc-4369-f852-9b23944c4709",
        "colab": {
          "base_uri": "https://localhost:8080/",
          "height": 565
        }
      },
      "source": [
        "import matplotlib.pyplot as plt\n",
        "%matplotlib inline\n",
        "\n",
        "def plot_history(network_history):\n",
        "    plt.figure()\n",
        "    plt.xlabel('Epochs')\n",
        "    plt.ylabel('Loss')\n",
        "    plt.plot(network_history.history['loss'])\n",
        "    plt.plot(network_history.history['val_loss'])\n",
        "    plt.legend(['Training', 'Validation'])\n",
        "\n",
        "    plt.figure()\n",
        "    plt.xlabel('Epochs')\n",
        "    plt.ylabel('Accuracy')\n",
        "    plt.plot(network_history.history['acc'])\n",
        "    plt.plot(network_history.history['val_acc'])\n",
        "    plt.legend(['Training', 'Validation'], loc='lower right')\n",
        "    plt.show()\n",
        "\n",
        "plot_history(network_history)"
      ],
      "execution_count": 34,
      "outputs": [
        {
          "output_type": "display_data",
          "data": {
            "image/png": "[encoded data removed]",
            "text/plain": [
              "<Figure size 432x288 with 1 Axes>"
            ]
          },
          "metadata": {
            "tags": []
          }
        },
        {
          "output_type": "display_data",
          "data": {
            "image/png": "[encoded data removed]",
            "text/plain": [
              "<Figure size 432x288 with 1 Axes>"
            ]
          },
          "metadata": {
            "tags": []
          }
        }
      ]
    },
    {
      "cell_type": "code",
      "metadata": {
        "id": "PQjt_pC_JXiX",
        "colab_type": "code",
        "colab": {}
      },
      "source": [
        "y_predict = model.predict(X_test)"
      ],
      "execution_count": 0,
      "outputs": []
    },
    {
      "cell_type": "code",
      "metadata": {
        "id": "x76NhB9rJXia",
        "colab_type": "code",
        "outputId": "b181156d-b17c-4b53-ef45-ffc9c0cc96f3",
        "colab": {
          "base_uri": "https://localhost:8080/",
          "height": 202
        }
      },
      "source": [
        "y_predict_df = pd.DataFrame(y_predict)\n",
        "y_predict_df.head()"
      ],
      "execution_count": 36,
      "outputs": [
        {
          "output_type": "execute_result",
          "data": {
            "text/html": [
              "<div>\n",
              "<style scoped>\n",
              "    .dataframe tbody tr th:only-of-type {\n",
              "        vertical-align: middle;\n",
              "    }\n",
              "\n",
              "    .dataframe tbody tr th {\n",
              "        vertical-align: top;\n",
              "    }\n",
              "\n",
              "    .dataframe thead th {\n",
              "        text-align: right;\n",
              "    }\n",
              "</style>\n",
              "<table border=\"1\" class=\"dataframe\">\n",
              "  <thead>\n",
              "    <tr style=\"text-align: right;\">\n",
              "      <th></th>\n",
              "      <th>0</th>\n",
              "      <th>1</th>\n",
              "      <th>2</th>\n",
              "      <th>3</th>\n",
              "      <th>4</th>\n",
              "    </tr>\n",
              "  </thead>\n",
              "  <tbody>\n",
              "    <tr>\n",
              "      <th>0</th>\n",
              "      <td>0.003629</td>\n",
              "      <td>0.004617</td>\n",
              "      <td>0.046413</td>\n",
              "      <td>0.291829</td>\n",
              "      <td>0.653511</td>\n",
              "    </tr>\n",
              "    <tr>\n",
              "      <th>1</th>\n",
              "      <td>0.006688</td>\n",
              "      <td>0.012077</td>\n",
              "      <td>0.096973</td>\n",
              "      <td>0.423838</td>\n",
              "      <td>0.460425</td>\n",
              "    </tr>\n",
              "    <tr>\n",
              "      <th>2</th>\n",
              "      <td>0.001060</td>\n",
              "      <td>0.000849</td>\n",
              "      <td>0.003945</td>\n",
              "      <td>0.082374</td>\n",
              "      <td>0.911772</td>\n",
              "    </tr>\n",
              "    <tr>\n",
              "      <th>3</th>\n",
              "      <td>0.086170</td>\n",
              "      <td>0.082153</td>\n",
              "      <td>0.099528</td>\n",
              "      <td>0.064521</td>\n",
              "      <td>0.667628</td>\n",
              "    </tr>\n",
              "    <tr>\n",
              "      <th>4</th>\n",
              "      <td>0.000342</td>\n",
              "      <td>0.000212</td>\n",
              "      <td>0.004047</td>\n",
              "      <td>0.082902</td>\n",
              "      <td>0.912497</td>\n",
              "    </tr>\n",
              "  </tbody>\n",
              "</table>\n",
              "</div>"
            ],
            "text/plain": [
              "          0         1         2         3         4\n",
              "0  0.003629  0.004617  0.046413  0.291829  0.653511\n",
              "1  0.006688  0.012077  0.096973  0.423838  0.460425\n",
              "2  0.001060  0.000849  0.003945  0.082374  0.911772\n",
              "3  0.086170  0.082153  0.099528  0.064521  0.667628\n",
              "4  0.000342  0.000212  0.004047  0.082902  0.912497"
            ]
          },
          "metadata": {
            "tags": []
          },
          "execution_count": 36
        }
      ]
    },
    {
      "cell_type": "code",
      "metadata": {
        "id": "woC_Rgk4JXid",
        "colab_type": "code",
        "colab": {}
      },
      "source": [
        "y_predict_unencoded = [row.idxmax() + 1 for index, row in y_predict_df.iterrows()]"
      ],
      "execution_count": 0,
      "outputs": []
    },
    {
      "cell_type": "code",
      "metadata": {
        "id": "P0xGW_dOJXie",
        "colab_type": "code",
        "colab": {}
      },
      "source": [
        "y_test_df = pd.DataFrame(y_test)\n",
        "y_test_unencoded = [row.idxmax() + 1 for index, row in y_test_df.iterrows()]"
      ],
      "execution_count": 0,
      "outputs": []
    },
    {
      "cell_type": "code",
      "metadata": {
        "id": "QyaOAdhqJXih",
        "colab_type": "code",
        "outputId": "2edfd233-4c58-4938-be06-2dd50331e743",
        "colab": {
          "base_uri": "https://localhost:8080/",
          "height": 104
        }
      },
      "source": [
        "confusion_matrix(y_test_unencoded, y_predict_unencoded)"
      ],
      "execution_count": 39,
      "outputs": [
        {
          "output_type": "execute_result",
          "data": {
            "text/plain": [
              "array([[ 2801,   364,   388,   103,   312],\n",
              "       [  663,   307,   466,   152,   283],\n",
              "       [  361,   264,   774,   493,   639],\n",
              "       [  121,   109,   510,  1137,  2875],\n",
              "       [  180,    77,   308,   828, 13496]])"
            ]
          },
          "metadata": {
            "tags": []
          },
          "execution_count": 39
        }
      ]
    },
    {
      "cell_type": "code",
      "metadata": {
        "id": "6emER3oBJXil",
        "colab_type": "code",
        "outputId": "2d5255a9-1cf9-49e3-82f3-e7f4dd9e0ee6",
        "colab": {
          "base_uri": "https://localhost:8080/",
          "height": 225
        }
      },
      "source": [
        "print(classification_report(y_test_unencoded, y_predict_unencoded))"
      ],
      "execution_count": 40,
      "outputs": [
        {
          "output_type": "stream",
          "text": [
            "              precision    recall  f1-score   support\n",
            "\n",
            "           1       0.68      0.71      0.69      3968\n",
            "           2       0.27      0.16      0.21      1871\n",
            "           3       0.32      0.31      0.31      2531\n",
            "           4       0.42      0.24      0.30      4752\n",
            "           5       0.77      0.91      0.83     14889\n",
            "\n",
            "    accuracy                           0.66     28011\n",
            "   macro avg       0.49      0.46      0.47     28011\n",
            "weighted avg       0.62      0.66      0.63     28011\n",
            "\n"
          ],
          "name": "stdout"
        }
      ]
    },
    {
      "cell_type": "code",
      "metadata": {
        "id": "4uZEUEVfXbUK",
        "colab_type": "code",
        "colab": {}
      },
      "source": [
        "from sklearn.metrics import roc_curve, auc\n",
        "import numpy as np\n",
        "\n",
        "\n",
        "def calculate_roc_auc(y_test, y_score):\n",
        "  \"\"\"\n",
        "  Caculates the false positive rate, true positive rate, and roc_auc\n",
        "  Return:\n",
        "    roc_auc - dictinary of AUC values there will be 1 auc per class then a macro \n",
        "        and micro for the overall model\n",
        "        keys: auc_0 to auc_{n_classes} + micro and macro\n",
        "    fpr - dictionary of FPR, each value will be a n_classes x ? interpolated array \n",
        "        so you can plt ROC curve for each class\n",
        "        keys: 0 to {n_classes} + micro and macro\n",
        "    tpr - dictionary of TPR, each value will be a n_classes x ? interpolated array \n",
        "        so used to plt ROC curve for each class\n",
        "        keys: 0 to {n_classes} + micro and macro    \n",
        "  \"\"\"\n",
        "  n_classes = y_test.shape[1]\n",
        "  \n",
        "  # to compute the micro RUC/AUC, we need binariized labels (y_test) and probability of predictions y_predict_df\n",
        "\n",
        "  fpr = {}\n",
        "  tpr = {}\n",
        "  roc_auc = {}\n",
        "  for i in np.arange(0, 5):\n",
        "      fpr[i], tpr[i], _ = roc_curve(y_test[:, i], y_score[i].to_list())\n",
        "      roc_auc[f'auc_{i + 1}'] = auc(fpr[i], tpr[i])\n",
        "\n",
        "\n",
        "  # Compute micro-average ROC curve and ROC area\n",
        "  fpr[\"micro\"], tpr[\"micro\"], _ = roc_curve(y_test.ravel(), y_score.values.ravel())\n",
        "  roc_auc[\"auc_micro\"] = auc(fpr[\"micro\"], tpr[\"micro\"])\n",
        "\n",
        "\n",
        "  # Compute macro-average ROC curve and ROC area\n",
        "\n",
        "  # First aggregate all false positive rates\n",
        "  all_fpr = np.unique(np.concatenate([fpr[i] for i in range(n_classes)]))\n",
        "\n",
        "  # Then interpolate all ROC curves at this points\n",
        "  mean_tpr = np.zeros_like(all_fpr)\n",
        "  for i in range(n_classes):\n",
        "      mean_tpr += np.interp(all_fpr, fpr[i], tpr[i])\n",
        "\n",
        "  # Finally aveage it and compute AUC\n",
        "  mean_tpr /= n_classes\n",
        "\n",
        "  fpr[\"macro\"] = all_fpr\n",
        "  tpr[\"macro\"] = mean_tpr\n",
        "  roc_auc[\"auc_macro\"] = auc(fpr[\"macro\"], tpr[\"macro\"])\n",
        "\n",
        "  return roc_auc, fpr, tpr\n",
        "\n",
        "\n",
        "def plot_roc_auc(model_name, roc_auc, fpr, tpr):\n",
        "  \n",
        "  for i in np.arange(0, len(fpr.keys()) - 2):\n",
        "    plt.plot(fpr[i], tpr[i], label=f'Rating {i+1}')\n",
        "  plt.plot(fpr[\"micro\"], tpr[\"micro\"], label=\"Micro Average ROC\", \n",
        "           linestyle=\":\", linewidth=4, color='pink')\n",
        "  plt.plot(fpr[\"macro\"], tpr[\"macro\"], label=\"Macro Average ROC\", \n",
        "           linestyle=\":\", linewidth=4, color='black')\n",
        "  plt.plot([0, 1], [0, 1], color='navy', linestyle='--')\n",
        "  \n",
        "  space = 0\n",
        "  for i in np.arange(0, len(fpr.keys()) - 2):\n",
        "    plt.text(x=0, y=-0.25+space, \n",
        "      s=f'Rating {i + 1} AUC: {roc_auc[f\"auc_{i + 1}\"]}',\n",
        "      withdash=True)\n",
        "    space -= 0.05\n",
        "  plt.text(x=0, y=-0.25+space, \n",
        "    s=f'Micro AUC: {roc_auc[\"auc_micro\"]}',\n",
        "    withdash=True)\n",
        "  space -= 0.05\n",
        "  plt.text(x=0, y=-0.25+space, \n",
        "    s=f'Macro AUC: {roc_auc[\"auc_macro\"]}',\n",
        "    withdash=True)\n",
        "  \n",
        "  plt.legend(loc='lower right')\n",
        "  plt.xlabel('FPR')\n",
        "  plt.ylabel('TPR')\n",
        "  plt.title(f'{model_name} ROC AUC')\n",
        "  \n"
      ],
      "execution_count": 0,
      "outputs": []
    },
    {
      "cell_type": "code",
      "metadata": {
        "id": "N4JPtpCXiwf2",
        "colab_type": "code",
        "colab": {
          "base_uri": "https://localhost:8080/",
          "height": 445
        },
        "outputId": "fadd26b4-c3a7-45a8-bc71-87d0785e578d"
      },
      "source": [
        "roc_auc, fpr, tpr = calculate_roc_auc(y_test, y_predict_df)\n",
        "fig = plt.figure(figsize=(5,5))\n",
        "plot_roc_auc(MODEL_NAME, roc_auc, fpr, tpr)"
      ],
      "execution_count": 47,
      "outputs": [
        {
          "output_type": "display_data",
          "data": {
            "image/png": "[encoded data removed]",
            "text/plain": [
              "<Figure size 360x360 with 1 Axes>"
            ]
          },
          "metadata": {
            "tags": []
          }
        }
      ]
    },
    {
      "cell_type": "markdown",
      "metadata": {
        "id": "z2ot_Nqg1U4w",
        "colab_type": "text"
      },
      "source": [
        "**Save off various files**"
      ]
    },
    {
      "cell_type": "code",
      "metadata": {
        "id": "Al3bCFrI1P5m",
        "colab_type": "code",
        "colab": {}
      },
      "source": [
        "DESCRIPTION = f\"{INBASENAME}-nosmote-{MODEL_NAME}-{MAX_SEQUENCE_LENGTH}-{FEATURE_COLUMN}\"\n",
        "MODEL_FILE = f\"{datetime.now().strftime(DATE_FORMAT)}-{DESCRIPTION}.h5\"\n",
        "NETWORK_HISTORY_FILE = f'{datetime.now().strftime(DATE_FORMAT)}-{DESCRIPTION}-history.pkl'\n",
        "REPORT_FILE = f\"{datetime.now().strftime(DATE_FORMAT)}-DNN_protype-report.csv\"\n",
        "TOKENIZER_FILE = f'{datetime.now().strftime(DATE_FORMAT)}-{DESCRIPTION}-tokenizer.pkl'\n"
      ],
      "execution_count": 0,
      "outputs": []
    },
    {
      "cell_type": "code",
      "metadata": {
        "id": "GjVjezXPJXin",
        "colab_type": "code",
        "colab": {}
      },
      "source": [
        "model.save(MODEL_FILE)"
      ],
      "execution_count": 0,
      "outputs": []
    },
    {
      "cell_type": "code",
      "metadata": {
        "id": "Cad0ykC2JXip",
        "colab_type": "code",
        "colab": {}
      },
      "source": [
        "pickle.dump(network_history, open(NETWORK_HISTORY_FILE, \"wb\"))"
      ],
      "execution_count": 0,
      "outputs": []
    },
    {
      "cell_type": "code",
      "metadata": {
        "id": "yrGApZiwgRgR",
        "colab_type": "code",
        "colab": {}
      },
      "source": [
        "pickle.dump(t, open(TOKENIZER_FILE, \"wb\"))"
      ],
      "execution_count": 0,
      "outputs": []
    },
    {
      "cell_type": "code",
      "metadata": {
        "id": "oz4FzsvmJXit",
        "colab_type": "code",
        "colab": {}
      },
      "source": [
        "# saving off report in the same format as other report just in case we want to compare for later\n",
        "flattened = {}\n",
        "flattened = du.add_dict_to_dict(flattened, classification_report(y_test_unencoded, y_predict_unencoded, output_dict=True))\n",
        "flattened = du.add_dict_to_dict(flattened, roc_auc)\n",
        "flattened[\"fpr\"] = fpr\n",
        "flattened[\"tpr\"] = tpr\n",
        "flattened[\"loss\"] = scores[0]\n",
        "flattened[\"accuracy\"] = scores[1]\n",
        "flattened[\"confusion_matrix\"] = confusion_matrix(y_test_unencoded, y_predict_unencoded)\n",
        "flattened[\"description\"] = DESCRIPTION\n",
        "flattened[\"file\"] = DATA_FILE\n",
        "flattened[\"network_history_file\"] = NETWORK_HISTORY_FILE\n",
        "flattened[\"tokenizer_file\"] = TOKENIZER_FILE\n",
        "flattened[\"max_sequence_length\"] = MAX_SEQUENCE_LENGTH\n",
        "flattened[\"embedding\"] = EMBED_SIZE\n",
        "flattened[\"model_file\"] = MODEL_FILE\n",
        "flattened[\"model_name\"] = MODEL_NAME\n",
        "flattened[\"test_examples\"] = X_test.shape[0]\n",
        "flattened[\"test_features\"] = X_test.shape[1]\n",
        "flattened[\"train_examples\"] = X_train.shape[0]\n",
        "flattened[\"train_features\"] = X_train.shape[1]\n",
        "flattened[\"status\"] = \"success\"\n",
        "flattened[\"status_date\"] = datetime.now().strftime(TIME_FORMAT)\n"
      ],
      "execution_count": 0,
      "outputs": []
    },
    {
      "cell_type": "code",
      "metadata": {
        "id": "n_tWTK57JXiv",
        "colab_type": "code",
        "outputId": "f4cff943-1c37-40c2-999a-fec800b3135e",
        "colab": {
          "base_uri": "https://localhost:8080/",
          "height": 169
        }
      },
      "source": [
        "# check to see if report file exisits, if so load it and append\n",
        "exists = os.path.isfile(REPORT_FILE)\n",
        "if exists:\n",
        "    report_df = pd.read_csv(REPORT_FILE)\n",
        "else:\n",
        "    report_df = pd.DataFrame()\n",
        "    \n",
        "report_df = report_df.append(flattened, ignore_index=True)\n",
        "report_df.head()\n",
        "\n"
      ],
      "execution_count": 49,
      "outputs": [
        {
          "output_type": "execute_result",
          "data": {
            "text/html": [
              "<div>\n",
              "<style scoped>\n",
              "    .dataframe tbody tr th:only-of-type {\n",
              "        vertical-align: middle;\n",
              "    }\n",
              "\n",
              "    .dataframe tbody tr th {\n",
              "        vertical-align: top;\n",
              "    }\n",
              "\n",
              "    .dataframe thead th {\n",
              "        text-align: right;\n",
              "    }\n",
              "</style>\n",
              "<table border=\"1\" class=\"dataframe\">\n",
              "  <thead>\n",
              "    <tr style=\"text-align: right;\">\n",
              "      <th></th>\n",
              "      <th>1_f1-score</th>\n",
              "      <th>1_precision</th>\n",
              "      <th>1_recall</th>\n",
              "      <th>1_support</th>\n",
              "      <th>2_f1-score</th>\n",
              "      <th>2_precision</th>\n",
              "      <th>2_recall</th>\n",
              "      <th>2_support</th>\n",
              "      <th>3_f1-score</th>\n",
              "      <th>3_precision</th>\n",
              "      <th>3_recall</th>\n",
              "      <th>3_support</th>\n",
              "      <th>4_f1-score</th>\n",
              "      <th>4_precision</th>\n",
              "      <th>4_recall</th>\n",
              "      <th>4_support</th>\n",
              "      <th>5_f1-score</th>\n",
              "      <th>5_precision</th>\n",
              "      <th>5_recall</th>\n",
              "      <th>5_support</th>\n",
              "      <th>accuracy</th>\n",
              "      <th>auc_1</th>\n",
              "      <th>auc_2</th>\n",
              "      <th>auc_3</th>\n",
              "      <th>auc_4</th>\n",
              "      <th>auc_5</th>\n",
              "      <th>auc_macro</th>\n",
              "      <th>auc_micro</th>\n",
              "      <th>confusion_matrix</th>\n",
              "      <th>description</th>\n",
              "      <th>embedding</th>\n",
              "      <th>file</th>\n",
              "      <th>fpr</th>\n",
              "      <th>loss</th>\n",
              "      <th>macro avg_f1-score</th>\n",
              "      <th>macro avg_precision</th>\n",
              "      <th>macro avg_recall</th>\n",
              "      <th>macro avg_support</th>\n",
              "      <th>max_sequence_length</th>\n",
              "      <th>model_file</th>\n",
              "      <th>model_name</th>\n",
              "      <th>network_history_file</th>\n",
              "      <th>status</th>\n",
              "      <th>status_date</th>\n",
              "      <th>test_examples</th>\n",
              "      <th>test_features</th>\n",
              "      <th>tokenizer_file</th>\n",
              "      <th>tpr</th>\n",
              "      <th>train_examples</th>\n",
              "      <th>train_features</th>\n",
              "      <th>weighted avg_f1-score</th>\n",
              "      <th>weighted avg_precision</th>\n",
              "      <th>weighted avg_recall</th>\n",
              "      <th>weighted avg_support</th>\n",
              "    </tr>\n",
              "  </thead>\n",
              "  <tbody>\n",
              "    <tr>\n",
              "      <th>0</th>\n",
              "      <td>0.692118</td>\n",
              "      <td>0.678866</td>\n",
              "      <td>0.705897</td>\n",
              "      <td>3968.0</td>\n",
              "      <td>0.205214</td>\n",
              "      <td>0.273863</td>\n",
              "      <td>0.164083</td>\n",
              "      <td>1871.0</td>\n",
              "      <td>0.311031</td>\n",
              "      <td>0.316435</td>\n",
              "      <td>0.305808</td>\n",
              "      <td>2531.0</td>\n",
              "      <td>0.304622</td>\n",
              "      <td>0.419093</td>\n",
              "      <td>0.239268</td>\n",
              "      <td>4752.0</td>\n",
              "      <td>0.830676</td>\n",
              "      <td>0.7666</td>\n",
              "      <td>0.906441</td>\n",
              "      <td>14889.0</td>\n",
              "      <td>0.66099</td>\n",
              "      <td>0.944434</td>\n",
              "      <td>0.847612</td>\n",
              "      <td>0.817435</td>\n",
              "      <td>0.731718</td>\n",
              "      <td>0.88033</td>\n",
              "      <td>0.844327</td>\n",
              "      <td>0.902758</td>\n",
              "      <td>[[2801, 364, 388, 103, 312], [663, 307, 466, 1...</td>\n",
              "      <td>amazon_reviews_us_Wireless_v1_00-preprocessed-...</td>\n",
              "      <td>300.0</td>\n",
              "      <td>drive/My Drive/Springboard/capstone/data/amazo...</td>\n",
              "      <td>{0: [0.0, 0.0, 0.0, 4.159214740257039e-05, 4.1...</td>\n",
              "      <td>0.898048</td>\n",
              "      <td>0.468732</td>\n",
              "      <td>0.490971</td>\n",
              "      <td>0.464299</td>\n",
              "      <td>28011.0</td>\n",
              "      <td>186.0</td>\n",
              "      <td>2019-07-23-amazon_reviews_us_Wireless_v1_00-pr...</td>\n",
              "      <td>LSTM_1layer</td>\n",
              "      <td>2019-07-23-amazon_reviews_us_Wireless_v1_00-pr...</td>\n",
              "      <td>success</td>\n",
              "      <td>2019-07-23 06:36:37</td>\n",
              "      <td>28011.0</td>\n",
              "      <td>186.0</td>\n",
              "      <td>2019-07-23-amazon_reviews_us_Wireless_v1_00-pr...</td>\n",
              "      <td>{0: [0.0, 0.00025201612903225806, 0.0095766129...</td>\n",
              "      <td>84032.0</td>\n",
              "      <td>186.0</td>\n",
              "      <td>0.633073</td>\n",
              "      <td>0.62163</td>\n",
              "      <td>0.66099</td>\n",
              "      <td>28011.0</td>\n",
              "    </tr>\n",
              "  </tbody>\n",
              "</table>\n",
              "</div>"
            ],
            "text/plain": [
              "   1_f1-score  1_precision  ...  weighted avg_recall  weighted avg_support\n",
              "0    0.692118     0.678866  ...              0.66099               28011.0\n",
              "\n",
              "[1 rows x 54 columns]"
            ]
          },
          "metadata": {
            "tags": []
          },
          "execution_count": 49
        }
      ]
    },
    {
      "cell_type": "code",
      "metadata": {
        "id": "w0FY2QZvJXiw",
        "colab_type": "code",
        "colab": {}
      },
      "source": [
        "report_df.to_csv(REPORT_FILE, index=False)"
      ],
      "execution_count": 0,
      "outputs": []
    },
    {
      "cell_type": "code",
      "metadata": {
        "id": "96A-A5CBJXiy",
        "colab_type": "code",
        "colab": {}
      },
      "source": [
        ""
      ],
      "execution_count": 0,
      "outputs": []
    }
  ]
}