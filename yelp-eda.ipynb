{
 "cells": [
  {
   "cell_type": "markdown",
   "metadata": {},
   "source": [
    "# Yelp 2019 Data Challenge\n",
    "\n",
    "```\n",
    "-rw-r--r--@  1 vinceluk  staff   138279749 Nov 15 08:22 business.json\n",
    "-rw-r--r--@  1 vinceluk  staff  2485747393 Nov 15 08:24 user.json\n",
    "-rw-r--r--@  1 vinceluk  staff   408807658 Nov 15 08:25 checkin.json\n",
    "-rw-r--r--@  1 vinceluk  staff   244535478 Nov 15 08:26 tip.json\n",
    "-rw-r--r--@  1 vinceluk  staff  5347475638 Nov 15 08:35 review.json\n",
    "-rw-r--r--@  1 vinceluk  staff    25661152 Jan 11 16:06 photo.json\n",
    "```"
   ]
  },
  {
   "cell_type": "code",
   "execution_count": 13,
   "metadata": {},
   "outputs": [],
   "source": [
    "import pandas as pd\n",
    "from pandas import DataFrame\n",
    "import numpy as np\n",
    "import matplotlib.pyplot as plt\n",
    "%matplotlib inline"
   ]
  },
  {
   "cell_type": "markdown",
   "metadata": {},
   "source": [
    "# Business Data\n",
    "\n",
    "| column | description | type | Can be Null? |\n",
    "|--------|-------------|------|--------------|\n",
    "| address | address of business | string | N |\n",
    "| attributes | dictionary of attributes -ie, GoodForKids': 'False ? I wonder if this is finite list of categories. | dictionary | Y |\n",
    "| business_id | unique id | string | N |\n",
    "| categories | comma delimited list of categories - need to get a list | string | Y |\n",
    "| city | city name | string | N |\n",
    "| hours | opening hours -ie, monday: 9 to 5 monday is key hour is value | dictionary | Y |\n",
    "| is_open | not sure if it's based on when data was pulled but 0 or 1 | int64 | N |\n",
    "| latitude | latitude | float64 | N |\n",
    "| longitude | longitude | float64 | N |\n",
    "| name | business name | string | N |\n",
    "| postal_code | zip | string | N |\n",
    "| stars | stars review | float64 | N |\n",
    "| state | 2 letter state code | string | N |\n",
    "\n",
    "There are 192609 unique entries/businesses"
   ]
  },
  {
   "cell_type": "code",
   "execution_count": 36,
   "metadata": {},
   "outputs": [
    {
     "name": "stdout",
     "output_type": "stream",
     "text": [
      "<class 'pandas.core.frame.DataFrame'>\n",
      "RangeIndex: 192609 entries, 0 to 192608\n",
      "Data columns (total 14 columns):\n",
      "address         192609 non-null object\n",
      "attributes      163773 non-null object\n",
      "business_id     192609 non-null object\n",
      "categories      192127 non-null object\n",
      "city            192609 non-null object\n",
      "hours           147779 non-null object\n",
      "is_open         192609 non-null int64\n",
      "latitude        192609 non-null float64\n",
      "longitude       192609 non-null float64\n",
      "name            192609 non-null object\n",
      "postal_code     192609 non-null object\n",
      "review_count    192609 non-null int64\n",
      "stars           192609 non-null float64\n",
      "state           192609 non-null object\n",
      "dtypes: float64(3), int64(2), object(9)\n",
      "memory usage: 20.6+ MB\n",
      "None\n"
     ]
    },
    {
     "data": {
      "text/html": [
       "<div>\n",
       "<style scoped>\n",
       "    .dataframe tbody tr th:only-of-type {\n",
       "        vertical-align: middle;\n",
       "    }\n",
       "\n",
       "    .dataframe tbody tr th {\n",
       "        vertical-align: top;\n",
       "    }\n",
       "\n",
       "    .dataframe thead th {\n",
       "        text-align: right;\n",
       "    }\n",
       "</style>\n",
       "<table border=\"1\" class=\"dataframe\">\n",
       "  <thead>\n",
       "    <tr style=\"text-align: right;\">\n",
       "      <th></th>\n",
       "      <th>address</th>\n",
       "      <th>attributes</th>\n",
       "      <th>business_id</th>\n",
       "      <th>categories</th>\n",
       "      <th>city</th>\n",
       "      <th>hours</th>\n",
       "      <th>is_open</th>\n",
       "      <th>latitude</th>\n",
       "      <th>longitude</th>\n",
       "      <th>name</th>\n",
       "      <th>postal_code</th>\n",
       "      <th>review_count</th>\n",
       "      <th>stars</th>\n",
       "      <th>state</th>\n",
       "    </tr>\n",
       "  </thead>\n",
       "  <tbody>\n",
       "    <tr>\n",
       "      <th>0</th>\n",
       "      <td>2818 E Camino Acequia Drive</td>\n",
       "      <td>{'GoodForKids': 'False'}</td>\n",
       "      <td>1SWheh84yJXfytovILXOAQ</td>\n",
       "      <td>Golf, Active Life</td>\n",
       "      <td>Phoenix</td>\n",
       "      <td>None</td>\n",
       "      <td>0</td>\n",
       "      <td>33.522143</td>\n",
       "      <td>-112.018481</td>\n",
       "      <td>Arizona Biltmore Golf Club</td>\n",
       "      <td>85016</td>\n",
       "      <td>5</td>\n",
       "      <td>3.0</td>\n",
       "      <td>AZ</td>\n",
       "    </tr>\n",
       "    <tr>\n",
       "      <th>1</th>\n",
       "      <td>30 Eglinton Avenue W</td>\n",
       "      <td>{'RestaurantsReservations': 'True', 'GoodForMe...</td>\n",
       "      <td>QXAEGFB4oINsVuTFxEYKFQ</td>\n",
       "      <td>Specialty Food, Restaurants, Dim Sum, Imported...</td>\n",
       "      <td>Mississauga</td>\n",
       "      <td>{'Monday': '9:0-0:0', 'Tuesday': '9:0-0:0', 'W...</td>\n",
       "      <td>1</td>\n",
       "      <td>43.605499</td>\n",
       "      <td>-79.652289</td>\n",
       "      <td>Emerald Chinese Restaurant</td>\n",
       "      <td>L5R 3E7</td>\n",
       "      <td>128</td>\n",
       "      <td>2.5</td>\n",
       "      <td>ON</td>\n",
       "    </tr>\n",
       "    <tr>\n",
       "      <th>2</th>\n",
       "      <td>10110 Johnston Rd, Ste 15</td>\n",
       "      <td>{'GoodForKids': 'True', 'NoiseLevel': 'u'avera...</td>\n",
       "      <td>gnKjwL_1w79qoiV3IC_xQQ</td>\n",
       "      <td>Sushi Bars, Restaurants, Japanese</td>\n",
       "      <td>Charlotte</td>\n",
       "      <td>{'Monday': '17:30-21:30', 'Wednesday': '17:30-...</td>\n",
       "      <td>1</td>\n",
       "      <td>35.092564</td>\n",
       "      <td>-80.859132</td>\n",
       "      <td>Musashi Japanese Restaurant</td>\n",
       "      <td>28210</td>\n",
       "      <td>170</td>\n",
       "      <td>4.0</td>\n",
       "      <td>NC</td>\n",
       "    </tr>\n",
       "    <tr>\n",
       "      <th>3</th>\n",
       "      <td>15655 W Roosevelt St, Ste 237</td>\n",
       "      <td>None</td>\n",
       "      <td>xvX2CttrVhyG2z1dFg_0xw</td>\n",
       "      <td>Insurance, Financial Services</td>\n",
       "      <td>Goodyear</td>\n",
       "      <td>{'Monday': '8:0-17:0', 'Tuesday': '8:0-17:0', ...</td>\n",
       "      <td>1</td>\n",
       "      <td>33.455613</td>\n",
       "      <td>-112.395596</td>\n",
       "      <td>Farmers Insurance - Paul Lorenz</td>\n",
       "      <td>85338</td>\n",
       "      <td>3</td>\n",
       "      <td>5.0</td>\n",
       "      <td>AZ</td>\n",
       "    </tr>\n",
       "    <tr>\n",
       "      <th>4</th>\n",
       "      <td>4209 Stuart Andrew Blvd, Ste F</td>\n",
       "      <td>{'BusinessAcceptsBitcoin': 'False', 'ByAppoint...</td>\n",
       "      <td>HhyxOkGAM07SRYtlQ4wMFQ</td>\n",
       "      <td>Plumbing, Shopping, Local Services, Home Servi...</td>\n",
       "      <td>Charlotte</td>\n",
       "      <td>{'Monday': '7:0-23:0', 'Tuesday': '7:0-23:0', ...</td>\n",
       "      <td>1</td>\n",
       "      <td>35.190012</td>\n",
       "      <td>-80.887223</td>\n",
       "      <td>Queen City Plumbing</td>\n",
       "      <td>28217</td>\n",
       "      <td>4</td>\n",
       "      <td>4.0</td>\n",
       "      <td>NC</td>\n",
       "    </tr>\n",
       "  </tbody>\n",
       "</table>\n",
       "</div>"
      ],
      "text/plain": [
       "                          address  \\\n",
       "0     2818 E Camino Acequia Drive   \n",
       "1            30 Eglinton Avenue W   \n",
       "2       10110 Johnston Rd, Ste 15   \n",
       "3   15655 W Roosevelt St, Ste 237   \n",
       "4  4209 Stuart Andrew Blvd, Ste F   \n",
       "\n",
       "                                          attributes             business_id  \\\n",
       "0                           {'GoodForKids': 'False'}  1SWheh84yJXfytovILXOAQ   \n",
       "1  {'RestaurantsReservations': 'True', 'GoodForMe...  QXAEGFB4oINsVuTFxEYKFQ   \n",
       "2  {'GoodForKids': 'True', 'NoiseLevel': 'u'avera...  gnKjwL_1w79qoiV3IC_xQQ   \n",
       "3                                               None  xvX2CttrVhyG2z1dFg_0xw   \n",
       "4  {'BusinessAcceptsBitcoin': 'False', 'ByAppoint...  HhyxOkGAM07SRYtlQ4wMFQ   \n",
       "\n",
       "                                          categories         city  \\\n",
       "0                                  Golf, Active Life      Phoenix   \n",
       "1  Specialty Food, Restaurants, Dim Sum, Imported...  Mississauga   \n",
       "2                  Sushi Bars, Restaurants, Japanese    Charlotte   \n",
       "3                      Insurance, Financial Services     Goodyear   \n",
       "4  Plumbing, Shopping, Local Services, Home Servi...    Charlotte   \n",
       "\n",
       "                                               hours  is_open   latitude  \\\n",
       "0                                               None        0  33.522143   \n",
       "1  {'Monday': '9:0-0:0', 'Tuesday': '9:0-0:0', 'W...        1  43.605499   \n",
       "2  {'Monday': '17:30-21:30', 'Wednesday': '17:30-...        1  35.092564   \n",
       "3  {'Monday': '8:0-17:0', 'Tuesday': '8:0-17:0', ...        1  33.455613   \n",
       "4  {'Monday': '7:0-23:0', 'Tuesday': '7:0-23:0', ...        1  35.190012   \n",
       "\n",
       "    longitude                             name postal_code  review_count  \\\n",
       "0 -112.018481       Arizona Biltmore Golf Club       85016             5   \n",
       "1  -79.652289       Emerald Chinese Restaurant     L5R 3E7           128   \n",
       "2  -80.859132      Musashi Japanese Restaurant       28210           170   \n",
       "3 -112.395596  Farmers Insurance - Paul Lorenz       85338             3   \n",
       "4  -80.887223              Queen City Plumbing       28217             4   \n",
       "\n",
       "   stars state  \n",
       "0    3.0    AZ  \n",
       "1    2.5    ON  \n",
       "2    4.0    NC  \n",
       "3    5.0    AZ  \n",
       "4    4.0    NC  "
      ]
     },
     "execution_count": 36,
     "metadata": {},
     "output_type": "execute_result"
    }
   ],
   "source": [
    "business = pd.read_json('dataset/yelp_dataset2019/business.json', lines=True)\n",
    "# business = business.replace('None', np.NaN)\n",
    "# business.set_index('business_id', inplace=True)\n",
    "print(business.info())\n",
    "business.head()"
   ]
  },
  {
   "cell_type": "code",
   "execution_count": 38,
   "metadata": {},
   "outputs": [
    {
     "name": "stdout",
     "output_type": "stream",
     "text": [
      "<class 'pandas.core.frame.DataFrame'>\n",
      "RangeIndex: 192609 entries, 0 to 192608\n",
      "Data columns (total 2 columns):\n",
      "business_id    192609 non-null object\n",
      "attributes     163773 non-null object\n",
      "dtypes: object(2)\n",
      "memory usage: 2.9+ MB\n",
      "None\n"
     ]
    },
    {
     "data": {
      "text/html": [
       "<div>\n",
       "<style scoped>\n",
       "    .dataframe tbody tr th:only-of-type {\n",
       "        vertical-align: middle;\n",
       "    }\n",
       "\n",
       "    .dataframe tbody tr th {\n",
       "        vertical-align: top;\n",
       "    }\n",
       "\n",
       "    .dataframe thead th {\n",
       "        text-align: right;\n",
       "    }\n",
       "</style>\n",
       "<table border=\"1\" class=\"dataframe\">\n",
       "  <thead>\n",
       "    <tr style=\"text-align: right;\">\n",
       "      <th></th>\n",
       "      <th>business_id</th>\n",
       "      <th>attributes</th>\n",
       "    </tr>\n",
       "  </thead>\n",
       "  <tbody>\n",
       "    <tr>\n",
       "      <th>0</th>\n",
       "      <td>1SWheh84yJXfytovILXOAQ</td>\n",
       "      <td>{'GoodForKids': 'False'}</td>\n",
       "    </tr>\n",
       "    <tr>\n",
       "      <th>1</th>\n",
       "      <td>QXAEGFB4oINsVuTFxEYKFQ</td>\n",
       "      <td>{'RestaurantsReservations': 'True', 'GoodForMe...</td>\n",
       "    </tr>\n",
       "    <tr>\n",
       "      <th>2</th>\n",
       "      <td>gnKjwL_1w79qoiV3IC_xQQ</td>\n",
       "      <td>{'GoodForKids': 'True', 'NoiseLevel': 'u'avera...</td>\n",
       "    </tr>\n",
       "    <tr>\n",
       "      <th>3</th>\n",
       "      <td>xvX2CttrVhyG2z1dFg_0xw</td>\n",
       "      <td>None</td>\n",
       "    </tr>\n",
       "    <tr>\n",
       "      <th>4</th>\n",
       "      <td>HhyxOkGAM07SRYtlQ4wMFQ</td>\n",
       "      <td>{'BusinessAcceptsBitcoin': 'False', 'ByAppoint...</td>\n",
       "    </tr>\n",
       "  </tbody>\n",
       "</table>\n",
       "</div>"
      ],
      "text/plain": [
       "              business_id                                         attributes\n",
       "0  1SWheh84yJXfytovILXOAQ                           {'GoodForKids': 'False'}\n",
       "1  QXAEGFB4oINsVuTFxEYKFQ  {'RestaurantsReservations': 'True', 'GoodForMe...\n",
       "2  gnKjwL_1w79qoiV3IC_xQQ  {'GoodForKids': 'True', 'NoiseLevel': 'u'avera...\n",
       "3  xvX2CttrVhyG2z1dFg_0xw                                               None\n",
       "4  HhyxOkGAM07SRYtlQ4wMFQ  {'BusinessAcceptsBitcoin': 'False', 'ByAppoint..."
      ]
     },
     "execution_count": 38,
     "metadata": {},
     "output_type": "execute_result"
    }
   ],
   "source": [
    "attributes = business[['business_id','attributes']]\n",
    "print(attributes.info())\n",
    "attributes.head()"
   ]
  },
  {
   "cell_type": "code",
   "execution_count": 39,
   "metadata": {},
   "outputs": [
    {
     "name": "stdout",
     "output_type": "stream",
     "text": [
      "<class 'NoneType'>\n"
     ]
    }
   ],
   "source": [
    "# check None's\n",
    "print(type(attributes.iloc[3]['attributes']))"
   ]
  },
  {
   "cell_type": "markdown",
   "metadata": {},
   "source": [
    "# User Information\n",
    "\n",
    "| columns | description |\n",
    "|---------|-------------|\n",
    "| average_stars | |\n",
    "| compliment_cool | ? |\n",
    "| compliment_cute | ? |\n",
    "| compliment_funny | ? |\n",
    "| compliment_hot | ? |\n",
    "| compliment_list | ? |\n",
    "| compliment_more | ? |\n",
    "| compliment_note | ? |\n",
    "| compliment_photos | ? |\n",
    "| compliment_plain | ? |\n",
    "| compliment_profile | ? |\n",
    "| compliment_writer | ? |\n",
    "| cool | ? |\n",
    "| elite | ? |\n",
    "| fans | ? |\n",
    "| friends | comma delimited list of user_id's that are friends |\n",
    "| funny | ? |\n",
    "| name | user first name |\n",
    "| review_count | number of reviews written by user |\n",
    "| useful | how many reviews were voted useful |\n",
    "| user_id | unique identifier |\n",
    "| yelping_since | yelp account creation date |\n",
    "\n",
    "There are 1637138\n",
    "\n",
    "All columns are non-null"
   ]
  },
  {
   "cell_type": "code",
   "execution_count": 40,
   "metadata": {},
   "outputs": [
    {
     "name": "stdout",
     "output_type": "stream",
     "text": [
      "<class 'pandas.core.frame.DataFrame'>\n",
      "RangeIndex: 1637138 entries, 0 to 1637137\n",
      "Data columns (total 22 columns):\n",
      "average_stars         1637138 non-null float64\n",
      "compliment_cool       1637138 non-null int64\n",
      "compliment_cute       1637138 non-null int64\n",
      "compliment_funny      1637138 non-null int64\n",
      "compliment_hot        1637138 non-null int64\n",
      "compliment_list       1637138 non-null int64\n",
      "compliment_more       1637138 non-null int64\n",
      "compliment_note       1637138 non-null int64\n",
      "compliment_photos     1637138 non-null int64\n",
      "compliment_plain      1637138 non-null int64\n",
      "compliment_profile    1637138 non-null int64\n",
      "compliment_writer     1637138 non-null int64\n",
      "cool                  1637138 non-null int64\n",
      "elite                 1637138 non-null object\n",
      "fans                  1637138 non-null int64\n",
      "friends               1637138 non-null object\n",
      "funny                 1637138 non-null int64\n",
      "name                  1637138 non-null object\n",
      "review_count          1637138 non-null int64\n",
      "useful                1637138 non-null int64\n",
      "user_id               1637138 non-null object\n",
      "yelping_since         1637138 non-null object\n",
      "dtypes: float64(1), int64(16), object(5)\n",
      "memory usage: 274.8+ MB\n",
      "None\n"
     ]
    },
    {
     "data": {
      "text/html": [
       "<div>\n",
       "<style scoped>\n",
       "    .dataframe tbody tr th:only-of-type {\n",
       "        vertical-align: middle;\n",
       "    }\n",
       "\n",
       "    .dataframe tbody tr th {\n",
       "        vertical-align: top;\n",
       "    }\n",
       "\n",
       "    .dataframe thead th {\n",
       "        text-align: right;\n",
       "    }\n",
       "</style>\n",
       "<table border=\"1\" class=\"dataframe\">\n",
       "  <thead>\n",
       "    <tr style=\"text-align: right;\">\n",
       "      <th></th>\n",
       "      <th>average_stars</th>\n",
       "      <th>compliment_cool</th>\n",
       "      <th>compliment_cute</th>\n",
       "      <th>compliment_funny</th>\n",
       "      <th>compliment_hot</th>\n",
       "      <th>compliment_list</th>\n",
       "      <th>compliment_more</th>\n",
       "      <th>compliment_note</th>\n",
       "      <th>compliment_photos</th>\n",
       "      <th>compliment_plain</th>\n",
       "      <th>...</th>\n",
       "      <th>cool</th>\n",
       "      <th>elite</th>\n",
       "      <th>fans</th>\n",
       "      <th>friends</th>\n",
       "      <th>funny</th>\n",
       "      <th>name</th>\n",
       "      <th>review_count</th>\n",
       "      <th>useful</th>\n",
       "      <th>user_id</th>\n",
       "      <th>yelping_since</th>\n",
       "    </tr>\n",
       "  </thead>\n",
       "  <tbody>\n",
       "    <tr>\n",
       "      <th>0</th>\n",
       "      <td>4.03</td>\n",
       "      <td>1</td>\n",
       "      <td>0</td>\n",
       "      <td>1</td>\n",
       "      <td>2</td>\n",
       "      <td>0</td>\n",
       "      <td>0</td>\n",
       "      <td>1</td>\n",
       "      <td>0</td>\n",
       "      <td>1</td>\n",
       "      <td>...</td>\n",
       "      <td>25</td>\n",
       "      <td>2015,2016,2017</td>\n",
       "      <td>5</td>\n",
       "      <td>c78V-rj8NQcQjOI8KP3UEA, alRMgPcngYSCJ5naFRBz5g...</td>\n",
       "      <td>17</td>\n",
       "      <td>Rashmi</td>\n",
       "      <td>95</td>\n",
       "      <td>84</td>\n",
       "      <td>l6BmjZMeQD3rDxWUbiAiow</td>\n",
       "      <td>2013-10-08 23:11:33</td>\n",
       "    </tr>\n",
       "    <tr>\n",
       "      <th>1</th>\n",
       "      <td>3.63</td>\n",
       "      <td>1</td>\n",
       "      <td>0</td>\n",
       "      <td>1</td>\n",
       "      <td>1</td>\n",
       "      <td>0</td>\n",
       "      <td>0</td>\n",
       "      <td>0</td>\n",
       "      <td>0</td>\n",
       "      <td>0</td>\n",
       "      <td>...</td>\n",
       "      <td>16</td>\n",
       "      <td></td>\n",
       "      <td>4</td>\n",
       "      <td>kEBTgDvFX754S68FllfCaA, aB2DynOxNOJK9st2ZeGTPg...</td>\n",
       "      <td>22</td>\n",
       "      <td>Jenna</td>\n",
       "      <td>33</td>\n",
       "      <td>48</td>\n",
       "      <td>4XChL029mKr5hydo79Ljxg</td>\n",
       "      <td>2013-02-21 22:29:06</td>\n",
       "    </tr>\n",
       "    <tr>\n",
       "      <th>2</th>\n",
       "      <td>3.71</td>\n",
       "      <td>0</td>\n",
       "      <td>0</td>\n",
       "      <td>0</td>\n",
       "      <td>0</td>\n",
       "      <td>0</td>\n",
       "      <td>0</td>\n",
       "      <td>1</td>\n",
       "      <td>0</td>\n",
       "      <td>0</td>\n",
       "      <td>...</td>\n",
       "      <td>10</td>\n",
       "      <td></td>\n",
       "      <td>0</td>\n",
       "      <td>4N-HU_T32hLENLntsNKNBg, pSY2vwWLgWfGVAAiKQzMng...</td>\n",
       "      <td>8</td>\n",
       "      <td>David</td>\n",
       "      <td>16</td>\n",
       "      <td>28</td>\n",
       "      <td>bc8C_eETBWL0olvFSJJd0w</td>\n",
       "      <td>2013-10-04 00:16:10</td>\n",
       "    </tr>\n",
       "    <tr>\n",
       "      <th>3</th>\n",
       "      <td>4.85</td>\n",
       "      <td>0</td>\n",
       "      <td>0</td>\n",
       "      <td>0</td>\n",
       "      <td>1</td>\n",
       "      <td>0</td>\n",
       "      <td>0</td>\n",
       "      <td>0</td>\n",
       "      <td>0</td>\n",
       "      <td>2</td>\n",
       "      <td>...</td>\n",
       "      <td>14</td>\n",
       "      <td></td>\n",
       "      <td>5</td>\n",
       "      <td>RZ6wS38wnlXyj-OOdTzBxA, l5jxZh1KsgI8rMunm-GN6A...</td>\n",
       "      <td>4</td>\n",
       "      <td>Angela</td>\n",
       "      <td>17</td>\n",
       "      <td>30</td>\n",
       "      <td>dD0gZpBctWGdWo9WlGuhlA</td>\n",
       "      <td>2014-05-22 15:57:30</td>\n",
       "    </tr>\n",
       "    <tr>\n",
       "      <th>4</th>\n",
       "      <td>4.08</td>\n",
       "      <td>80</td>\n",
       "      <td>0</td>\n",
       "      <td>80</td>\n",
       "      <td>28</td>\n",
       "      <td>1</td>\n",
       "      <td>1</td>\n",
       "      <td>16</td>\n",
       "      <td>5</td>\n",
       "      <td>57</td>\n",
       "      <td>...</td>\n",
       "      <td>665</td>\n",
       "      <td>2015,2016,2017,2018</td>\n",
       "      <td>39</td>\n",
       "      <td>mbwrZ-RS76V1HoJ0bF_Geg, g64lOV39xSLRZO0aQQ6DeQ...</td>\n",
       "      <td>279</td>\n",
       "      <td>Nancy</td>\n",
       "      <td>361</td>\n",
       "      <td>1114</td>\n",
       "      <td>MM4RJAeH6yuaN8oZDSt0RA</td>\n",
       "      <td>2013-10-23 07:02:50</td>\n",
       "    </tr>\n",
       "  </tbody>\n",
       "</table>\n",
       "<p>5 rows × 22 columns</p>\n",
       "</div>"
      ],
      "text/plain": [
       "   average_stars  compliment_cool  compliment_cute  compliment_funny  \\\n",
       "0           4.03                1                0                 1   \n",
       "1           3.63                1                0                 1   \n",
       "2           3.71                0                0                 0   \n",
       "3           4.85                0                0                 0   \n",
       "4           4.08               80                0                80   \n",
       "\n",
       "   compliment_hot  compliment_list  compliment_more  compliment_note  \\\n",
       "0               2                0                0                1   \n",
       "1               1                0                0                0   \n",
       "2               0                0                0                1   \n",
       "3               1                0                0                0   \n",
       "4              28                1                1               16   \n",
       "\n",
       "   compliment_photos  compliment_plain  ...  cool                elite  fans  \\\n",
       "0                  0                 1  ...    25       2015,2016,2017     5   \n",
       "1                  0                 0  ...    16                          4   \n",
       "2                  0                 0  ...    10                          0   \n",
       "3                  0                 2  ...    14                          5   \n",
       "4                  5                57  ...   665  2015,2016,2017,2018    39   \n",
       "\n",
       "                                             friends  funny    name  \\\n",
       "0  c78V-rj8NQcQjOI8KP3UEA, alRMgPcngYSCJ5naFRBz5g...     17  Rashmi   \n",
       "1  kEBTgDvFX754S68FllfCaA, aB2DynOxNOJK9st2ZeGTPg...     22   Jenna   \n",
       "2  4N-HU_T32hLENLntsNKNBg, pSY2vwWLgWfGVAAiKQzMng...      8   David   \n",
       "3  RZ6wS38wnlXyj-OOdTzBxA, l5jxZh1KsgI8rMunm-GN6A...      4  Angela   \n",
       "4  mbwrZ-RS76V1HoJ0bF_Geg, g64lOV39xSLRZO0aQQ6DeQ...    279   Nancy   \n",
       "\n",
       "   review_count useful                 user_id        yelping_since  \n",
       "0            95     84  l6BmjZMeQD3rDxWUbiAiow  2013-10-08 23:11:33  \n",
       "1            33     48  4XChL029mKr5hydo79Ljxg  2013-02-21 22:29:06  \n",
       "2            16     28  bc8C_eETBWL0olvFSJJd0w  2013-10-04 00:16:10  \n",
       "3            17     30  dD0gZpBctWGdWo9WlGuhlA  2014-05-22 15:57:30  \n",
       "4           361   1114  MM4RJAeH6yuaN8oZDSt0RA  2013-10-23 07:02:50  \n",
       "\n",
       "[5 rows x 22 columns]"
      ]
     },
     "execution_count": 40,
     "metadata": {},
     "output_type": "execute_result"
    }
   ],
   "source": [
    "users = pd.read_json('dataset/yelp_dataset2019/user.json', lines=True)\n",
    "# business = business.replace('None', np.NaN)\n",
    "# business.set_index('business_id', inplace=True)\n",
    "print(users.info())\n",
    "users.head()"
   ]
  },
  {
   "cell_type": "markdown",
   "metadata": {},
   "source": [
    "# Tips dataset\n",
    "\n",
    "Looks like this is some type of user tip/recommendation for the business\n",
    "\n",
    "| column | description | type |\n",
    "|--------|-------------|------|\n",
    "| business_id | unique id for user | string |\n",
    "| compliement_count | count of compliements - not sure how it's calculated? | int64 |\n",
    "| date | ? | datetime64(ns) |\n",
    "| text | compliment text | string |\n",
    "| user_id | unique id for user | string |\n",
    "\n",
    "\n",
    "There are 1223094 entries - non of the columns have null values\n"
   ]
  },
  {
   "cell_type": "code",
   "execution_count": 42,
   "metadata": {},
   "outputs": [
    {
     "name": "stdout",
     "output_type": "stream",
     "text": [
      "<class 'pandas.core.frame.DataFrame'>\n",
      "RangeIndex: 1223094 entries, 0 to 1223093\n",
      "Data columns (total 5 columns):\n",
      "business_id         1223094 non-null object\n",
      "compliment_count    1223094 non-null int64\n",
      "date                1223094 non-null datetime64[ns]\n",
      "text                1223094 non-null object\n",
      "user_id             1223094 non-null object\n",
      "dtypes: datetime64[ns](1), int64(1), object(3)\n",
      "memory usage: 46.7+ MB\n",
      "None\n"
     ]
    },
    {
     "data": {
      "text/html": [
       "<div>\n",
       "<style scoped>\n",
       "    .dataframe tbody tr th:only-of-type {\n",
       "        vertical-align: middle;\n",
       "    }\n",
       "\n",
       "    .dataframe tbody tr th {\n",
       "        vertical-align: top;\n",
       "    }\n",
       "\n",
       "    .dataframe thead th {\n",
       "        text-align: right;\n",
       "    }\n",
       "</style>\n",
       "<table border=\"1\" class=\"dataframe\">\n",
       "  <thead>\n",
       "    <tr style=\"text-align: right;\">\n",
       "      <th></th>\n",
       "      <th>business_id</th>\n",
       "      <th>compliment_count</th>\n",
       "      <th>date</th>\n",
       "      <th>text</th>\n",
       "      <th>user_id</th>\n",
       "    </tr>\n",
       "  </thead>\n",
       "  <tbody>\n",
       "    <tr>\n",
       "      <th>0</th>\n",
       "      <td>VaKXUpmWTTWDKbpJ3aQdMw</td>\n",
       "      <td>0</td>\n",
       "      <td>2014-03-27 03:51:24</td>\n",
       "      <td>Great for watching games, ufc, and whatever el...</td>\n",
       "      <td>UPw5DWs_b-e2JRBS-t37Ag</td>\n",
       "    </tr>\n",
       "    <tr>\n",
       "      <th>1</th>\n",
       "      <td>OPiPeoJiv92rENwbq76orA</td>\n",
       "      <td>0</td>\n",
       "      <td>2013-05-25 06:00:56</td>\n",
       "      <td>Happy Hour 2-4 daily with 1/2 price drinks and...</td>\n",
       "      <td>Ocha4kZBHb4JK0lOWvE0sg</td>\n",
       "    </tr>\n",
       "    <tr>\n",
       "      <th>2</th>\n",
       "      <td>5KheTjYPu1HcQzQFtm4_vw</td>\n",
       "      <td>0</td>\n",
       "      <td>2011-12-26 01:46:17</td>\n",
       "      <td>Good chips and salsa. Loud at times. Good serv...</td>\n",
       "      <td>jRyO2V1pA4CdVVqCIOPc1Q</td>\n",
       "    </tr>\n",
       "    <tr>\n",
       "      <th>3</th>\n",
       "      <td>TkoyGi8J7YFjA6SbaRzrxg</td>\n",
       "      <td>0</td>\n",
       "      <td>2014-03-23 21:32:49</td>\n",
       "      <td>The setting and decoration here is amazing. Co...</td>\n",
       "      <td>FuTJWFYm4UKqewaosss1KA</td>\n",
       "    </tr>\n",
       "    <tr>\n",
       "      <th>4</th>\n",
       "      <td>AkL6Ous6A1atZejfZXn1Bg</td>\n",
       "      <td>0</td>\n",
       "      <td>2012-10-06 00:19:27</td>\n",
       "      <td>Molly is definately taking a picture with Sant...</td>\n",
       "      <td>LUlKtaM3nXd-E4N4uOk_fQ</td>\n",
       "    </tr>\n",
       "  </tbody>\n",
       "</table>\n",
       "</div>"
      ],
      "text/plain": [
       "              business_id  compliment_count                date  \\\n",
       "0  VaKXUpmWTTWDKbpJ3aQdMw                 0 2014-03-27 03:51:24   \n",
       "1  OPiPeoJiv92rENwbq76orA                 0 2013-05-25 06:00:56   \n",
       "2  5KheTjYPu1HcQzQFtm4_vw                 0 2011-12-26 01:46:17   \n",
       "3  TkoyGi8J7YFjA6SbaRzrxg                 0 2014-03-23 21:32:49   \n",
       "4  AkL6Ous6A1atZejfZXn1Bg                 0 2012-10-06 00:19:27   \n",
       "\n",
       "                                                text                 user_id  \n",
       "0  Great for watching games, ufc, and whatever el...  UPw5DWs_b-e2JRBS-t37Ag  \n",
       "1  Happy Hour 2-4 daily with 1/2 price drinks and...  Ocha4kZBHb4JK0lOWvE0sg  \n",
       "2  Good chips and salsa. Loud at times. Good serv...  jRyO2V1pA4CdVVqCIOPc1Q  \n",
       "3  The setting and decoration here is amazing. Co...  FuTJWFYm4UKqewaosss1KA  \n",
       "4  Molly is definately taking a picture with Sant...  LUlKtaM3nXd-E4N4uOk_fQ  "
      ]
     },
     "execution_count": 42,
     "metadata": {},
     "output_type": "execute_result"
    }
   ],
   "source": [
    "tips = pd.read_json('dataset/yelp_dataset2019/tip.json', lines=True)\n",
    "print(tips.info())\n",
    "tips.head()"
   ]
  },
  {
   "cell_type": "markdown",
   "metadata": {},
   "source": [
    "# Reviews Dataset\n",
    "\n",
    "Here are the columns\n",
    "\n",
    "| column | description | type |\n",
    "|--------|-------------|------|\n",
    "| business_id | ? | string |\n",
    "| cool | ? | int64 |\n",
    "| date | date of review | datetime64 |\n",
    "| funny | count of people voted funny? | int64 |\n",
    "| review_id | unique identifer | string |\n",
    "| stars | stars of the review - discrete values (1 to 5) | int64 |\n",
    "| text | ? | string |\n",
    "| usefule | vote on usefulness | int64 |\n",
    "| user_id | user unique identifier | string |\n",
    "\n",
    "There are 6685900 unique entries\n",
    "\n",
    "Memory usage for the entire DF = 459.1+ MB\n",
    "\n",
    "1637138 unique users\n",
    "\n",
    "192606 businesses - 3 less that businesses listed in business file\n",
    "\n",
    "Full dataset will take about 30 minutes to load\n",
    "\n",
    "try review_short.json which only has the first 50k entries"
   ]
  },
  {
   "cell_type": "code",
   "execution_count": 3,
   "metadata": {},
   "outputs": [],
   "source": [
    "reviews = pd.read_json('dataset/yelp_dataset2019/review_short.json', lines=True)"
   ]
  },
  {
   "cell_type": "code",
   "execution_count": 5,
   "metadata": {
    "scrolled": true
   },
   "outputs": [
    {
     "name": "stdout",
     "output_type": "stream",
     "text": [
      "<class 'pandas.core.frame.DataFrame'>\n",
      "RangeIndex: 6685900 entries, 0 to 6685899\n",
      "Data columns (total 9 columns):\n",
      "business_id    object\n",
      "cool           int64\n",
      "date           datetime64[ns]\n",
      "funny          int64\n",
      "review_id      object\n",
      "stars          int64\n",
      "text           object\n",
      "useful         int64\n",
      "user_id        object\n",
      "dtypes: datetime64[ns](1), int64(4), object(4)\n",
      "memory usage: 459.1+ MB\n",
      "None\n"
     ]
    },
    {
     "data": {
      "text/html": [
       "<div>\n",
       "<style scoped>\n",
       "    .dataframe tbody tr th:only-of-type {\n",
       "        vertical-align: middle;\n",
       "    }\n",
       "\n",
       "    .dataframe tbody tr th {\n",
       "        vertical-align: top;\n",
       "    }\n",
       "\n",
       "    .dataframe thead th {\n",
       "        text-align: right;\n",
       "    }\n",
       "</style>\n",
       "<table border=\"1\" class=\"dataframe\">\n",
       "  <thead>\n",
       "    <tr style=\"text-align: right;\">\n",
       "      <th></th>\n",
       "      <th>business_id</th>\n",
       "      <th>cool</th>\n",
       "      <th>date</th>\n",
       "      <th>funny</th>\n",
       "      <th>review_id</th>\n",
       "      <th>stars</th>\n",
       "      <th>text</th>\n",
       "      <th>useful</th>\n",
       "      <th>user_id</th>\n",
       "    </tr>\n",
       "  </thead>\n",
       "  <tbody>\n",
       "    <tr>\n",
       "      <th>0</th>\n",
       "      <td>ujmEBvifdJM6h6RLv4wQIg</td>\n",
       "      <td>0</td>\n",
       "      <td>2013-05-07 04:34:36</td>\n",
       "      <td>1</td>\n",
       "      <td>Q1sbwvVQXV2734tPgoKj4Q</td>\n",
       "      <td>1</td>\n",
       "      <td>Total bill for this horrible service? Over $8G...</td>\n",
       "      <td>6</td>\n",
       "      <td>hG7b0MtEbXx5QzbzE6C_VA</td>\n",
       "    </tr>\n",
       "    <tr>\n",
       "      <th>1</th>\n",
       "      <td>NZnhc2sEQy3RmzKTZnqtwQ</td>\n",
       "      <td>0</td>\n",
       "      <td>2017-01-14 21:30:33</td>\n",
       "      <td>0</td>\n",
       "      <td>GJXCdrto3ASJOqKeVWPi6Q</td>\n",
       "      <td>5</td>\n",
       "      <td>I *adore* Travis at the Hard Rock's new Kelly ...</td>\n",
       "      <td>0</td>\n",
       "      <td>yXQM5uF2jS6es16SJzNHfg</td>\n",
       "    </tr>\n",
       "  </tbody>\n",
       "</table>\n",
       "</div>"
      ],
      "text/plain": [
       "              business_id  cool                date  funny  \\\n",
       "0  ujmEBvifdJM6h6RLv4wQIg     0 2013-05-07 04:34:36      1   \n",
       "1  NZnhc2sEQy3RmzKTZnqtwQ     0 2017-01-14 21:30:33      0   \n",
       "\n",
       "                review_id  stars  \\\n",
       "0  Q1sbwvVQXV2734tPgoKj4Q      1   \n",
       "1  GJXCdrto3ASJOqKeVWPi6Q      5   \n",
       "\n",
       "                                                text  useful  \\\n",
       "0  Total bill for this horrible service? Over $8G...       6   \n",
       "1  I *adore* Travis at the Hard Rock's new Kelly ...       0   \n",
       "\n",
       "                  user_id  \n",
       "0  hG7b0MtEbXx5QzbzE6C_VA  \n",
       "1  yXQM5uF2jS6es16SJzNHfg  "
      ]
     },
     "execution_count": 5,
     "metadata": {},
     "output_type": "execute_result"
    }
   ],
   "source": [
    "print(reviews.info())\n",
    "reviews.head(2)"
   ]
  },
  {
   "cell_type": "code",
   "execution_count": 33,
   "metadata": {},
   "outputs": [],
   "source": [
    "# let's drop columns that we won't need\n",
    "# keep business_id, review_id, text, and user_id for now\n",
    "# reviews.drop(['cool', 'date', 'funny', 'useful'])\n"
   ]
  },
  {
   "cell_type": "code",
   "execution_count": 28,
   "metadata": {
    "scrolled": true
   },
   "outputs": [
    {
     "name": "stdout",
     "output_type": "stream",
     "text": [
      "42988\n"
     ]
    },
    {
     "data": {
      "text/plain": [
       "user_id\n",
       "CxDOIDnH8gp9KXzpBHJYXw    25\n",
       "bLbSNkLggFnqwNNzzq-Ijw    17\n",
       "PKEzKWv_FktMm2mGPjwd0Q    16\n",
       "62GNFh5FySkA3MbrQmnqvg    16\n",
       "QJI9OSEn6ujRCtrX06vs1w    15\n",
       "hWDybu_KvYLSdEFzGrniTw    13\n",
       "rCWrxuRC8_pfagpchtHp6A    12\n",
       "-InhDRRVG7wrwsgAUvN4Qw    12\n",
       "cMEtAiW60I5wE_vLfTxoJQ    11\n",
       "Wc5L6iuvSNF5WGBlqIO8nw    11\n",
       "qewG3X2O4X6JKskxyyqFwQ    11\n",
       "ELcQDlf69kb-ihJfxZyL0A    11\n",
       "L8P5OWO1Jh4B2HLa1Fnbng    10\n",
       "ciXjBfJrAEteIKpzZg4I9g    10\n",
       "fiGqQ7pIGKyZ9G0RqWLMpg    10\n",
       "sTcYq6goD1Fa2WS9MSkSvQ    10\n",
       "rKkpHJkJ27xOwnhy_bMkvA     9\n",
       "3nDUQBjKyVor5wV0reJChg     9\n",
       "71XStF5U0kmJw2Iym9fclQ     9\n",
       "QHX3NxFAlda3I32taYzI8w     9\n",
       "dtype: int64"
      ]
     },
     "execution_count": 28,
     "metadata": {},
     "output_type": "execute_result"
    }
   ],
   "source": [
    "reviews_by_users = reviews.groupby('user_id').size().sort_values(ascending=False)\n",
    "print(len(reviews_by_users))\n",
    "reviews_by_users.head(20)"
   ]
  },
  {
   "cell_type": "code",
   "execution_count": 21,
   "metadata": {},
   "outputs": [
    {
     "data": {
      "text/plain": [
       "Text(0, 0.5, 'Number of Users')"
      ]
     },
     "execution_count": 21,
     "metadata": {},
     "output_type": "execute_result"
    },
    {
     "data": {
      "image/png": "[encoded data removed]",
      "text/plain": [
       "<Figure size 432x288 with 1 Axes>"
      ]
     },
     "metadata": {
      "needs_background": "light"
     },
     "output_type": "display_data"
    }
   ],
   "source": [
    "# plot user review histogram to see how often users provide reviews\n",
    "fig, ax = plt.subplots()\n",
    "reviews_by_users.hist(bins=25, color='#A9C5D3', \n",
    "                             edgecolor='black', grid=False)\n",
    "ax.set_title('Reviews By Users Histogram', fontsize=12)\n",
    "ax.set_xlabel('Number of Reviews', fontsize=12)\n",
    "ax.set_ylabel('Number of Users', fontsize=12)"
   ]
  },
  {
   "cell_type": "code",
   "execution_count": 30,
   "metadata": {},
   "outputs": [
    {
     "name": "stdout",
     "output_type": "stream",
     "text": [
      "<class 'pandas.core.series.Series'>\n"
     ]
    },
    {
     "data": {
      "text/plain": [
       "0.00     1.0\n",
       "0.25     1.0\n",
       "0.50     1.0\n",
       "0.75     1.0\n",
       "1.00    25.0\n",
       "dtype: float64"
      ]
     },
     "execution_count": 30,
     "metadata": {},
     "output_type": "execute_result"
    }
   ],
   "source": [
    "# quantile binning of businesses and number of reviews\n",
    "quantile_list = [0, .25, .5, .75, 1.]\n",
    "quantiles = reviews_by_users.quantile(quantile_list)\n",
    "\n",
    "# fig, ax = plt.subplots()\n",
    "# reviews.business_id.hist(bins=30, color='#A9C5D3', \n",
    "#                              edgecolor='black', grid=False)\n",
    "\n",
    "# for quantile in quantiles:\n",
    "#     qvl = plt.axvline(quantile, color='r')\n",
    "\n",
    "print(type(quantiles))\n",
    "quantiles.head()\n"
   ]
  },
  {
   "cell_type": "code",
   "execution_count": 8,
   "metadata": {
    "scrolled": false
   },
   "outputs": [
    {
     "name": "stdout",
     "output_type": "stream",
     "text": [
      "10659\n"
     ]
    },
    {
     "data": {
      "text/plain": [
       "business_id\n",
       "ujHiaprwCQ5ewziu0Vi9rw    376\n",
       "faPVqws-x-5k2CQKDNtHxw    281\n",
       "Wxxvi3LZbHNIDwJ-ZimtnA    279\n",
       "HhVmDybpU7L50Kb5A0jXTg    270\n",
       "XXW_OFaYQkkGOGniujZFHg    264\n",
       "pH0BLkL4cbxKzu471VZnuA    194\n",
       "yNPh5SO-7wr8HPpVCDPbXQ    152\n",
       "uuGL8diLlHfeUeFuod3F-w    150\n",
       "Xg5qEQiB-7L6kGJ5F4K3bQ    148\n",
       "N0apJkxIem2E8irTBRKnHw    147\n",
       "dtype: int64"
      ]
     },
     "execution_count": 8,
     "metadata": {},
     "output_type": "execute_result"
    }
   ],
   "source": [
    "reviews_by_business = reviews.groupby('business_id').size().sort_values(ascending=False)\n",
    "print(len(reviews_by_business))\n",
    "reviews_by_business.head(10)"
   ]
  },
  {
   "cell_type": "code",
   "execution_count": 16,
   "metadata": {},
   "outputs": [
    {
     "data": {
      "text/plain": [
       "Text(0, 0.5, 'Number of Business')"
      ]
     },
     "execution_count": 16,
     "metadata": {},
     "output_type": "execute_result"
    },
    {
     "data": {
      "image/png": "[encoded data removed]",
      "text/plain": [
       "<Figure size 432x288 with 1 Axes>"
      ]
     },
     "metadata": {
      "needs_background": "light"
     },
     "output_type": "display_data"
    }
   ],
   "source": [
    "# plot reviews by business histogram to see how many business have how many review\n",
    "fig, ax = plt.subplots()\n",
    "reviews_by_business.hist(bins=50, color='#A9C5D3', \n",
    "                             edgecolor='black', grid=False)\n",
    "ax.set_title('Reviews By Business Histogram', fontsize=12)\n",
    "ax.set_xlabel('Number of Reviews', fontsize=12)\n",
    "ax.set_ylabel('Number of Business', fontsize=12)"
   ]
  },
  {
   "cell_type": "code",
   "execution_count": 6,
   "metadata": {},
   "outputs": [
    {
     "name": "stdout",
     "output_type": "stream",
     "text": [
      "<class 'pandas.core.series.Series'>\n"
     ]
    },
    {
     "data": {
      "text/plain": [
       "0.00     1.0\n",
       "0.25     1.0\n",
       "0.50     1.0\n",
       "0.75     1.0\n",
       "1.00    25.0\n",
       "dtype: float64"
      ]
     },
     "execution_count": 6,
     "metadata": {},
     "output_type": "execute_result"
    }
   ],
   "source": [
    "# quantile binning of businesses and number of reviews\n",
    "quantile_list = [0, .25, .5, .75, 1.]\n",
    "quantiles = reviews_by_users.quantile(quantile_list)\n",
    "\n",
    "# fig, ax = plt.subplots()\n",
    "# reviews.business_id.hist(bins=30, color='#A9C5D3', \n",
    "#                              edgecolor='black', grid=False)\n",
    "\n",
    "# for quantile in quantiles:\n",
    "#     qvl = plt.axvline(quantile, color='r')\n",
    "\n",
    "print(type(quantiles))\n",
    "quantiles.head()\n"
   ]
  },
  {
   "cell_type": "code",
   "execution_count": 32,
   "metadata": {
    "scrolled": true
   },
   "outputs": [
    {
     "data": {
      "text/plain": [
       "Text(0, 0.5, 'Number of Reviews')"
      ]
     },
     "execution_count": 32,
     "metadata": {},
     "output_type": "execute_result"
    },
    {
     "data": {
      "image/png": "[encoded data removed]",
      "text/plain": [
       "<Figure size 432x288 with 1 Axes>"
      ]
     },
     "metadata": {
      "needs_background": "light"
     },
     "output_type": "display_data"
    }
   ],
   "source": [
    "# reviews.hist(column='stars', grid=False)\n",
    "fig, ax = plt.subplots()\n",
    "reviews.stars.hist(bins=5, color='#A9C5D3', \n",
    "                             edgecolor='black', grid=False)\n",
    "ax.set_title('Number of Reviews By Stars', fontsize=12)\n",
    "ax.set_xlabel('Stars', fontsize=12)\n",
    "ax.set_ylabel('Number of Reviews', fontsize=12)"
   ]
  },
  {
   "cell_type": "code",
   "execution_count": 37,
   "metadata": {},
   "outputs": [
    {
     "data": {
      "text/plain": [
       "0.00      0.0\n",
       "0.25      0.0\n",
       "0.50      0.0\n",
       "0.75      1.0\n",
       "1.00    101.0\n",
       "Name: useful, dtype: float64"
      ]
     },
     "execution_count": 37,
     "metadata": {},
     "output_type": "execute_result"
    }
   ],
   "source": [
    "# let's look at useful reviews\n",
    "# looks like most reviews do not have a useful rating\n",
    "quantile_list = [0, .25, .5, .75, 1.]\n",
    "reviews.useful.quantile(quantile_list)"
   ]
  },
  {
   "cell_type": "code",
   "execution_count": null,
   "metadata": {},
   "outputs": [],
   "source": []
  },
  {
   "cell_type": "code",
   "execution_count": null,
   "metadata": {},
   "outputs": [],
   "source": [
    "reviews.plot(x='stars', kind='hist')"
   ]
  },
  {
   "cell_type": "code",
   "execution_count": null,
   "metadata": {},
   "outputs": [],
   "source": [
    "# print(attributes.head())\n",
    "\n",
    "# def transform_at(x):\n",
    "#     print(f'x: {x}')\n",
    "#     if x is not None:\n",
    "#         d = x['attributes']\n",
    "#         print(type(d))\n",
    "#         print(f'd: {d}')\n",
    "#         for k, v in d.items():\n",
    "#             return DataFrame({k: v})\n",
    "#     else:\n",
    "#         return None\n",
    "        \n",
    "            \n",
    "# new_att = attributes.apply(transform_at, axis=1, result_type='expand')\n",
    "# new_att.head()\n",
    "\n",
    "# # attributes['attributes'].values.todict()"
   ]
  },
  {
   "cell_type": "markdown",
   "metadata": {},
   "source": []
  }
 ],
 "metadata": {
  "kernelspec": {
   "display_name": "Python 3",
   "language": "python",
   "name": "python3"
  },
  "language_info": {
   "codemirror_mode": {
    "name": "ipython",
    "version": 3
   },
   "file_extension": ".py",
   "mimetype": "text/x-python",
   "name": "python",
   "nbconvert_exporter": "python",
   "pygments_lexer": "ipython3",
   "version": "3.7.3"
  }
 },
 "nbformat": 4,
 "nbformat_minor": 2
}
