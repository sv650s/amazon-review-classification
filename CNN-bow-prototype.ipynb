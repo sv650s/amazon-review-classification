{
 "cells": [
  {
   "cell_type": "markdown",
   "metadata": {},
   "source": [
    "# CNN Prototype\n",
    "\n",
    "Modeling this notebook after the following:\n",
    "\n",
    "https://nbviewer.jupyter.org/github/dipanjanS/nlp_workshop_dhs18/blob/master/Unit%2012%20-%20Project%209%20-%20Sentiment%20Analysis%20-%20Supervised%20Learning/12B%20-%20Project%2011%20-%20Sentiment%20Analysis%20-%20Advanced%20Deep%20Learning%20-%20CNNs.ipynb\n",
    "\n",
    "\n",
    "Making the following changes:\n",
    "\n",
    "* I had trouble figuring out the inputs for the Embedding layer if we used word2vec embedding so using review_body-bow-df_default-ngram12-111909-10020-lda20 instead of word 2 vec since we need to create an embedding layer\n",
    "* last layer is a 5 node layer with softmax activation function since we are doing a 5 class classification\n",
    "* Changing the loss function from binary_crossentropy to categorical_crossentropy since we are doing multi-class classification"
   ]
  },
  {
   "cell_type": "code",
   "execution_count": 2,
   "metadata": {},
   "outputs": [
    {
     "name": "stderr",
     "output_type": "stream",
     "text": [
      "Using TensorFlow backend.\n"
     ]
    }
   ],
   "source": [
    "from keras.models import Sequential\n",
    "from keras.layers import Dense, Activation, Dropout\n",
    "from keras.layers.normalization import BatchNormalization\n",
    "from keras.callbacks import EarlyStopping\n",
    "from keras.models import load_model\n",
    "from sklearn.model_selection import train_test_split\n",
    "from keras.optimizers import SGD\n",
    "from sklearn.preprocessing import OneHotEncoder\n",
    "from keras.layers import Flatten\n",
    "from keras.layers.convolutional import Conv1D\n",
    "from keras.layers.convolutional import MaxPooling1D\n",
    "from keras.layers.embeddings import Embedding\n",
    "import pandas as pd\n",
    "from IPython.display import SVG\n",
    "from keras.utils.vis_utils import model_to_dot\n",
    "from util import dict_util as du\n",
    "from util import file_util as fu\n",
    "from util import plot_util as pu\n",
    "import pickle\n",
    "from datetime import datetime\n",
    "from sklearn.metrics import confusion_matrix, classification_report\n",
    "import os"
   ]
  },
  {
   "cell_type": "code",
   "execution_count": 3,
   "metadata": {},
   "outputs": [],
   "source": [
    "DATE_FORMAT = '%Y-%m-%d'\n",
    "TIME_FORMAT = '%Y-%m-%d %H:%M:%S'\n",
    "DATA_DIR = \"dataset/feature_files\"\n",
    "DATA_FILE = \"review_body-bow-df_default-ngram12-50000-10020-lda20.csv\"\n",
    "MODEL_NAME = \"CNN\"\n",
    "FEATURE_COLUMN = \"star_rating\"\n",
    "directory, INBASENAME = fu.get_dir_basename(DATA_FILE)\n",
    "DESCRIPTION = f\"{INBASENAME}-nosmote-{MODEL_NAME}-{FEATURE_COLUMN}\"\n",
    "MODEL_FILE = f\"models/{datetime.now().strftime(DATE_FORMAT)}-{DESCRIPTION}.h5\"\n",
    "NETWORK_HISTORY_FILE = f'models/{datetime.now().strftime(DATE_FORMAT)}-{DESCRIPTION}-history.pkl'\n",
    "REPORT_FILE = f\"reports/2019-06-18-NN_notebook_protype-report.csv\""
   ]
  },
  {
   "cell_type": "code",
   "execution_count": 5,
   "metadata": {
    "hide_input": false
   },
   "outputs": [],
   "source": [
    "df = pd.read_csv(f\"{DATA_DIR}/{DATA_FILE}\")"
   ]
  },
  {
   "cell_type": "code",
   "execution_count": 6,
   "metadata": {},
   "outputs": [],
   "source": [
    "rating = df[FEATURE_COLUMN]\n",
    "df = df.drop(columns=[\"helpful_votes\", \"total_votes\",  \"star_rating\"])"
   ]
  },
  {
   "cell_type": "code",
   "execution_count": 7,
   "metadata": {},
   "outputs": [
    {
     "data": {
      "text/html": [
       "<div>\n",
       "<style scoped>\n",
       "    .dataframe tbody tr th:only-of-type {\n",
       "        vertical-align: middle;\n",
       "    }\n",
       "\n",
       "    .dataframe tbody tr th {\n",
       "        vertical-align: top;\n",
       "    }\n",
       "\n",
       "    .dataframe thead th {\n",
       "        text-align: right;\n",
       "    }\n",
       "</style>\n",
       "<table border=\"1\" class=\"dataframe\">\n",
       "  <thead>\n",
       "    <tr style=\"text-align: right;\">\n",
       "      <th></th>\n",
       "      <th>aa</th>\n",
       "      <th>aaa</th>\n",
       "      <th>ability</th>\n",
       "      <th>able</th>\n",
       "      <th>able charge</th>\n",
       "      <th>able do</th>\n",
       "      <th>able find</th>\n",
       "      <th>able get</th>\n",
       "      <th>able hear</th>\n",
       "      <th>able keep</th>\n",
       "      <th>...</th>\n",
       "      <th>10</th>\n",
       "      <th>11</th>\n",
       "      <th>12</th>\n",
       "      <th>13</th>\n",
       "      <th>14</th>\n",
       "      <th>15</th>\n",
       "      <th>16</th>\n",
       "      <th>17</th>\n",
       "      <th>18</th>\n",
       "      <th>19</th>\n",
       "    </tr>\n",
       "  </thead>\n",
       "  <tbody>\n",
       "    <tr>\n",
       "      <th>0</th>\n",
       "      <td>0</td>\n",
       "      <td>0</td>\n",
       "      <td>0</td>\n",
       "      <td>0</td>\n",
       "      <td>0</td>\n",
       "      <td>0</td>\n",
       "      <td>0</td>\n",
       "      <td>0</td>\n",
       "      <td>0</td>\n",
       "      <td>0</td>\n",
       "      <td>...</td>\n",
       "      <td>0.002083</td>\n",
       "      <td>0.002083</td>\n",
       "      <td>0.002083</td>\n",
       "      <td>0.002083</td>\n",
       "      <td>0.002083</td>\n",
       "      <td>0.002083</td>\n",
       "      <td>0.330576</td>\n",
       "      <td>0.405078</td>\n",
       "      <td>0.002083</td>\n",
       "      <td>0.002083</td>\n",
       "    </tr>\n",
       "    <tr>\n",
       "      <th>1</th>\n",
       "      <td>0</td>\n",
       "      <td>0</td>\n",
       "      <td>0</td>\n",
       "      <td>0</td>\n",
       "      <td>0</td>\n",
       "      <td>0</td>\n",
       "      <td>0</td>\n",
       "      <td>0</td>\n",
       "      <td>0</td>\n",
       "      <td>0</td>\n",
       "      <td>...</td>\n",
       "      <td>0.002778</td>\n",
       "      <td>0.002778</td>\n",
       "      <td>0.002778</td>\n",
       "      <td>0.002778</td>\n",
       "      <td>0.002778</td>\n",
       "      <td>0.002778</td>\n",
       "      <td>0.002778</td>\n",
       "      <td>0.620561</td>\n",
       "      <td>0.002778</td>\n",
       "      <td>0.002778</td>\n",
       "    </tr>\n",
       "    <tr>\n",
       "      <th>2</th>\n",
       "      <td>0</td>\n",
       "      <td>0</td>\n",
       "      <td>0</td>\n",
       "      <td>0</td>\n",
       "      <td>0</td>\n",
       "      <td>0</td>\n",
       "      <td>0</td>\n",
       "      <td>0</td>\n",
       "      <td>0</td>\n",
       "      <td>0</td>\n",
       "      <td>...</td>\n",
       "      <td>0.002632</td>\n",
       "      <td>0.002632</td>\n",
       "      <td>0.002632</td>\n",
       "      <td>0.002632</td>\n",
       "      <td>0.002632</td>\n",
       "      <td>0.002632</td>\n",
       "      <td>0.548134</td>\n",
       "      <td>0.002632</td>\n",
       "      <td>0.002632</td>\n",
       "      <td>0.002632</td>\n",
       "    </tr>\n",
       "    <tr>\n",
       "      <th>3</th>\n",
       "      <td>0</td>\n",
       "      <td>0</td>\n",
       "      <td>0</td>\n",
       "      <td>0</td>\n",
       "      <td>0</td>\n",
       "      <td>0</td>\n",
       "      <td>0</td>\n",
       "      <td>0</td>\n",
       "      <td>0</td>\n",
       "      <td>0</td>\n",
       "      <td>...</td>\n",
       "      <td>0.002778</td>\n",
       "      <td>0.002778</td>\n",
       "      <td>0.002778</td>\n",
       "      <td>0.002778</td>\n",
       "      <td>0.002778</td>\n",
       "      <td>0.002778</td>\n",
       "      <td>0.002778</td>\n",
       "      <td>0.002778</td>\n",
       "      <td>0.206143</td>\n",
       "      <td>0.002778</td>\n",
       "    </tr>\n",
       "    <tr>\n",
       "      <th>4</th>\n",
       "      <td>0</td>\n",
       "      <td>0</td>\n",
       "      <td>0</td>\n",
       "      <td>0</td>\n",
       "      <td>0</td>\n",
       "      <td>0</td>\n",
       "      <td>0</td>\n",
       "      <td>0</td>\n",
       "      <td>0</td>\n",
       "      <td>0</td>\n",
       "      <td>...</td>\n",
       "      <td>0.005556</td>\n",
       "      <td>0.005556</td>\n",
       "      <td>0.005556</td>\n",
       "      <td>0.005556</td>\n",
       "      <td>0.005556</td>\n",
       "      <td>0.005556</td>\n",
       "      <td>0.005556</td>\n",
       "      <td>0.005556</td>\n",
       "      <td>0.005556</td>\n",
       "      <td>0.173658</td>\n",
       "    </tr>\n",
       "  </tbody>\n",
       "</table>\n",
       "<p>5 rows × 10020 columns</p>\n",
       "</div>"
      ],
      "text/plain": [
       "   aa  aaa  ability  able  able charge  able do  able find  able get  \\\n",
       "0   0    0        0     0            0        0          0         0   \n",
       "1   0    0        0     0            0        0          0         0   \n",
       "2   0    0        0     0            0        0          0         0   \n",
       "3   0    0        0     0            0        0          0         0   \n",
       "4   0    0        0     0            0        0          0         0   \n",
       "\n",
       "   able hear  able keep  ...        10        11        12        13  \\\n",
       "0          0          0  ...  0.002083  0.002083  0.002083  0.002083   \n",
       "1          0          0  ...  0.002778  0.002778  0.002778  0.002778   \n",
       "2          0          0  ...  0.002632  0.002632  0.002632  0.002632   \n",
       "3          0          0  ...  0.002778  0.002778  0.002778  0.002778   \n",
       "4          0          0  ...  0.005556  0.005556  0.005556  0.005556   \n",
       "\n",
       "         14        15        16        17        18        19  \n",
       "0  0.002083  0.002083  0.330576  0.405078  0.002083  0.002083  \n",
       "1  0.002778  0.002778  0.002778  0.620561  0.002778  0.002778  \n",
       "2  0.002632  0.002632  0.548134  0.002632  0.002632  0.002632  \n",
       "3  0.002778  0.002778  0.002778  0.002778  0.206143  0.002778  \n",
       "4  0.005556  0.005556  0.005556  0.005556  0.005556  0.173658  \n",
       "\n",
       "[5 rows x 10020 columns]"
      ]
     },
     "execution_count": 7,
     "metadata": {},
     "output_type": "execute_result"
    }
   ],
   "source": [
    "df.head()"
   ]
  },
  {
   "cell_type": "code",
   "execution_count": 8,
   "metadata": {},
   "outputs": [
    {
     "data": {
      "text/plain": [
       "0    5\n",
       "1    5\n",
       "2    5\n",
       "3    5\n",
       "4    3\n",
       "Name: star_rating, dtype: int64"
      ]
     },
     "execution_count": 8,
     "metadata": {},
     "output_type": "execute_result"
    }
   ],
   "source": [
    "rating.head()"
   ]
  },
  {
   "cell_type": "code",
   "execution_count": 9,
   "metadata": {},
   "outputs": [
    {
     "name": "stdout",
     "output_type": "stream",
     "text": [
      "WARNING:tensorflow:From /Users/vinceluk/anaconda3/envs/capstone/lib/python3.7/site-packages/tensorflow/python/framework/op_def_library.py:263: colocate_with (from tensorflow.python.framework.ops) is deprecated and will be removed in a future version.\n",
      "Instructions for updating:\n",
      "Colocations handled automatically by placer.\n"
     ]
    }
   ],
   "source": [
    "model = Sequential()\n",
    "model.add(Embedding(df.shape[1], 1024, input_length=df.shape[1]))\n",
    "model.add(Conv1D(filters=32, kernel_size=3, padding='same', activation='relu'))\n",
    "model.add(MaxPooling1D(pool_size=2))\n",
    "model.add(Flatten())\n",
    "model.add(Dense(250, activation='relu'))\n",
    "model.add(Dense(5, activation='softmax'))\n",
    "model.compile(loss='categorical_crossentropy', optimizer='adam', metrics=['accuracy'])\n"
   ]
  },
  {
   "cell_type": "code",
   "execution_count": null,
   "metadata": {},
   "outputs": [
    {
     "name": "stdout",
     "output_type": "stream",
     "text": [
      "_________________________________________________________________\n",
      "Layer (type)                 Output Shape              Param #   \n",
      "=================================================================\n",
      "embedding_1 (Embedding)      (None, 10020, 1024)       10260480  \n",
      "_________________________________________________________________\n",
      "conv1d_1 (Conv1D)            (None, 10020, 32)         98336     \n",
      "_________________________________________________________________\n",
      "max_pooling1d_1 (MaxPooling1 (None, 5010, 32)          0         \n",
      "_________________________________________________________________\n",
      "flatten_1 (Flatten)          (None, 160320)            0         \n",
      "_________________________________________________________________\n",
      "dense_1 (Dense)              (None, 250)               40080250  \n",
      "_________________________________________________________________\n",
      "dense_2 (Dense)              (None, 5)                 1255      \n",
      "=================================================================\n",
      "Total params: 50,440,321\n",
      "Trainable params: 50,440,321\n",
      "Non-trainable params: 0\n",
      "_________________________________________________________________\n",
      "None\n"
     ]
    }
   ],
   "source": [
    "print(model.summary())"
   ]
  },
  {
   "cell_type": "code",
   "execution_count": null,
   "metadata": {},
   "outputs": [
    {
     "data": {
      "image/svg+xml": [
       "<svg height=\"543pt\" viewBox=\"0.00 0.00 286.00 543.00\" width=\"286pt\" xmlns=\"http://www.w3.org/2000/svg\" xmlns:xlink=\"http://www.w3.org/1999/xlink\">\n",
       "<g class=\"graph\" id=\"graph0\" transform=\"scale(1 1) rotate(0) translate(4 539)\">\n",
       "<title>G</title>\n",
       "<polygon fill=\"#ffffff\" points=\"-4,4 -4,-539 282,-539 282,4 -4,4\" stroke=\"transparent\"/>\n",
       "<!-- 112719900176 -->\n",
       "<g class=\"node\" id=\"node1\">\n",
       "<title>112719900176</title>\n",
       "<polygon fill=\"none\" points=\"4,-415.5 4,-461.5 274,-461.5 274,-415.5 4,-415.5\" stroke=\"#000000\"/>\n",
       "<text fill=\"#000000\" font-family=\"Times,serif\" font-size=\"14.00\" text-anchor=\"middle\" x=\"44.5\" y=\"-434.8\">Embedding</text>\n",
       "<polyline fill=\"none\" points=\"85,-415.5 85,-461.5 \" stroke=\"#000000\"/>\n",
       "<text fill=\"#000000\" font-family=\"Times,serif\" font-size=\"14.00\" text-anchor=\"middle\" x=\"113\" y=\"-446.3\">input:</text>\n",
       "<polyline fill=\"none\" points=\"85,-438.5 141,-438.5 \" stroke=\"#000000\"/>\n",
       "<text fill=\"#000000\" font-family=\"Times,serif\" font-size=\"14.00\" text-anchor=\"middle\" x=\"113\" y=\"-423.3\">output:</text>\n",
       "<polyline fill=\"none\" points=\"141,-415.5 141,-461.5 \" stroke=\"#000000\"/>\n",
       "<text fill=\"#000000\" font-family=\"Times,serif\" font-size=\"14.00\" text-anchor=\"middle\" x=\"207.5\" y=\"-446.3\">(None, 10020)</text>\n",
       "<polyline fill=\"none\" points=\"141,-438.5 274,-438.5 \" stroke=\"#000000\"/>\n",
       "<text fill=\"#000000\" font-family=\"Times,serif\" font-size=\"14.00\" text-anchor=\"middle\" x=\"207.5\" y=\"-423.3\">(None, 10020, 1024)</text>\n",
       "</g>\n",
       "<!-- 56853693552 -->\n",
       "<g class=\"node\" id=\"node2\">\n",
       "<title>56853693552</title>\n",
       "<polygon fill=\"none\" points=\"12.5,-332.5 12.5,-378.5 265.5,-378.5 265.5,-332.5 12.5,-332.5\" stroke=\"#000000\"/>\n",
       "<text fill=\"#000000\" font-family=\"Times,serif\" font-size=\"14.00\" text-anchor=\"middle\" x=\"44.5\" y=\"-351.8\">Conv1D</text>\n",
       "<polyline fill=\"none\" points=\"76.5,-332.5 76.5,-378.5 \" stroke=\"#000000\"/>\n",
       "<text fill=\"#000000\" font-family=\"Times,serif\" font-size=\"14.00\" text-anchor=\"middle\" x=\"104.5\" y=\"-363.3\">input:</text>\n",
       "<polyline fill=\"none\" points=\"76.5,-355.5 132.5,-355.5 \" stroke=\"#000000\"/>\n",
       "<text fill=\"#000000\" font-family=\"Times,serif\" font-size=\"14.00\" text-anchor=\"middle\" x=\"104.5\" y=\"-340.3\">output:</text>\n",
       "<polyline fill=\"none\" points=\"132.5,-332.5 132.5,-378.5 \" stroke=\"#000000\"/>\n",
       "<text fill=\"#000000\" font-family=\"Times,serif\" font-size=\"14.00\" text-anchor=\"middle\" x=\"199\" y=\"-363.3\">(None, 10020, 1024)</text>\n",
       "<polyline fill=\"none\" points=\"132.5,-355.5 265.5,-355.5 \" stroke=\"#000000\"/>\n",
       "<text fill=\"#000000\" font-family=\"Times,serif\" font-size=\"14.00\" text-anchor=\"middle\" x=\"199\" y=\"-340.3\">(None, 10020, 32)</text>\n",
       "</g>\n",
       "<!-- 112719900176&#45;&gt;56853693552 -->\n",
       "<g class=\"edge\" id=\"edge2\">\n",
       "<title>112719900176-&gt;56853693552</title>\n",
       "<path d=\"M139,-415.3799C139,-407.1745 139,-397.7679 139,-388.8786\" fill=\"none\" stroke=\"#000000\"/>\n",
       "<polygon fill=\"#000000\" points=\"142.5001,-388.784 139,-378.784 135.5001,-388.784 142.5001,-388.784\" stroke=\"#000000\"/>\n",
       "</g>\n",
       "<!-- 4541963400 -->\n",
       "<g class=\"node\" id=\"node3\">\n",
       "<title>4541963400</title>\n",
       "<polygon fill=\"none\" points=\"0,-249.5 0,-295.5 278,-295.5 278,-249.5 0,-249.5\" stroke=\"#000000\"/>\n",
       "<text fill=\"#000000\" font-family=\"Times,serif\" font-size=\"14.00\" text-anchor=\"middle\" x=\"51.5\" y=\"-268.8\">MaxPooling1D</text>\n",
       "<polyline fill=\"none\" points=\"103,-249.5 103,-295.5 \" stroke=\"#000000\"/>\n",
       "<text fill=\"#000000\" font-family=\"Times,serif\" font-size=\"14.00\" text-anchor=\"middle\" x=\"131\" y=\"-280.3\">input:</text>\n",
       "<polyline fill=\"none\" points=\"103,-272.5 159,-272.5 \" stroke=\"#000000\"/>\n",
       "<text fill=\"#000000\" font-family=\"Times,serif\" font-size=\"14.00\" text-anchor=\"middle\" x=\"131\" y=\"-257.3\">output:</text>\n",
       "<polyline fill=\"none\" points=\"159,-249.5 159,-295.5 \" stroke=\"#000000\"/>\n",
       "<text fill=\"#000000\" font-family=\"Times,serif\" font-size=\"14.00\" text-anchor=\"middle\" x=\"218.5\" y=\"-280.3\">(None, 10020, 32)</text>\n",
       "<polyline fill=\"none\" points=\"159,-272.5 278,-272.5 \" stroke=\"#000000\"/>\n",
       "<text fill=\"#000000\" font-family=\"Times,serif\" font-size=\"14.00\" text-anchor=\"middle\" x=\"218.5\" y=\"-257.3\">(None, 5010, 32)</text>\n",
       "</g>\n",
       "<!-- 56853693552&#45;&gt;4541963400 -->\n",
       "<g class=\"edge\" id=\"edge3\">\n",
       "<title>56853693552-&gt;4541963400</title>\n",
       "<path d=\"M139,-332.3799C139,-324.1745 139,-314.7679 139,-305.8786\" fill=\"none\" stroke=\"#000000\"/>\n",
       "<polygon fill=\"#000000\" points=\"142.5001,-305.784 139,-295.784 135.5001,-305.784 142.5001,-305.784\" stroke=\"#000000\"/>\n",
       "</g>\n",
       "<!-- 112719895296 -->\n",
       "<g class=\"node\" id=\"node4\">\n",
       "<title>112719895296</title>\n",
       "<polygon fill=\"none\" points=\"27.5,-166.5 27.5,-212.5 250.5,-212.5 250.5,-166.5 27.5,-166.5\" stroke=\"#000000\"/>\n",
       "<text fill=\"#000000\" font-family=\"Times,serif\" font-size=\"14.00\" text-anchor=\"middle\" x=\"55\" y=\"-185.8\">Flatten</text>\n",
       "<polyline fill=\"none\" points=\"82.5,-166.5 82.5,-212.5 \" stroke=\"#000000\"/>\n",
       "<text fill=\"#000000\" font-family=\"Times,serif\" font-size=\"14.00\" text-anchor=\"middle\" x=\"110.5\" y=\"-197.3\">input:</text>\n",
       "<polyline fill=\"none\" points=\"82.5,-189.5 138.5,-189.5 \" stroke=\"#000000\"/>\n",
       "<text fill=\"#000000\" font-family=\"Times,serif\" font-size=\"14.00\" text-anchor=\"middle\" x=\"110.5\" y=\"-174.3\">output:</text>\n",
       "<polyline fill=\"none\" points=\"138.5,-166.5 138.5,-212.5 \" stroke=\"#000000\"/>\n",
       "<text fill=\"#000000\" font-family=\"Times,serif\" font-size=\"14.00\" text-anchor=\"middle\" x=\"194.5\" y=\"-197.3\">(None, 5010, 32)</text>\n",
       "<polyline fill=\"none\" points=\"138.5,-189.5 250.5,-189.5 \" stroke=\"#000000\"/>\n",
       "<text fill=\"#000000\" font-family=\"Times,serif\" font-size=\"14.00\" text-anchor=\"middle\" x=\"194.5\" y=\"-174.3\">(None, 160320)</text>\n",
       "</g>\n",
       "<!-- 4541963400&#45;&gt;112719895296 -->\n",
       "<g class=\"edge\" id=\"edge4\">\n",
       "<title>4541963400-&gt;112719895296</title>\n",
       "<path d=\"M139,-249.3799C139,-241.1745 139,-231.7679 139,-222.8786\" fill=\"none\" stroke=\"#000000\"/>\n",
       "<polygon fill=\"#000000\" points=\"142.5001,-222.784 139,-212.784 135.5001,-222.784 142.5001,-222.784\" stroke=\"#000000\"/>\n",
       "</g>\n",
       "<!-- 112857509560 -->\n",
       "<g class=\"node\" id=\"node5\">\n",
       "<title>112857509560</title>\n",
       "<polygon fill=\"none\" points=\"33,-83.5 33,-129.5 245,-129.5 245,-83.5 33,-83.5\" stroke=\"#000000\"/>\n",
       "<text fill=\"#000000\" font-family=\"Times,serif\" font-size=\"14.00\" text-anchor=\"middle\" x=\"58.5\" y=\"-102.8\">Dense</text>\n",
       "<polyline fill=\"none\" points=\"84,-83.5 84,-129.5 \" stroke=\"#000000\"/>\n",
       "<text fill=\"#000000\" font-family=\"Times,serif\" font-size=\"14.00\" text-anchor=\"middle\" x=\"112\" y=\"-114.3\">input:</text>\n",
       "<polyline fill=\"none\" points=\"84,-106.5 140,-106.5 \" stroke=\"#000000\"/>\n",
       "<text fill=\"#000000\" font-family=\"Times,serif\" font-size=\"14.00\" text-anchor=\"middle\" x=\"112\" y=\"-91.3\">output:</text>\n",
       "<polyline fill=\"none\" points=\"140,-83.5 140,-129.5 \" stroke=\"#000000\"/>\n",
       "<text fill=\"#000000\" font-family=\"Times,serif\" font-size=\"14.00\" text-anchor=\"middle\" x=\"192.5\" y=\"-114.3\">(None, 160320)</text>\n",
       "<polyline fill=\"none\" points=\"140,-106.5 245,-106.5 \" stroke=\"#000000\"/>\n",
       "<text fill=\"#000000\" font-family=\"Times,serif\" font-size=\"14.00\" text-anchor=\"middle\" x=\"192.5\" y=\"-91.3\">(None, 250)</text>\n",
       "</g>\n",
       "<!-- 112719895296&#45;&gt;112857509560 -->\n",
       "<g class=\"edge\" id=\"edge5\">\n",
       "<title>112719895296-&gt;112857509560</title>\n",
       "<path d=\"M139,-166.3799C139,-158.1745 139,-148.7679 139,-139.8786\" fill=\"none\" stroke=\"#000000\"/>\n",
       "<polygon fill=\"#000000\" points=\"142.5001,-139.784 139,-129.784 135.5001,-139.784 142.5001,-139.784\" stroke=\"#000000\"/>\n",
       "</g>\n",
       "<!-- 112718925496 -->\n",
       "<g class=\"node\" id=\"node6\">\n",
       "<title>112718925496</title>\n",
       "<polygon fill=\"none\" points=\"43.5,-.5 43.5,-46.5 234.5,-46.5 234.5,-.5 43.5,-.5\" stroke=\"#000000\"/>\n",
       "<text fill=\"#000000\" font-family=\"Times,serif\" font-size=\"14.00\" text-anchor=\"middle\" x=\"69\" y=\"-19.8\">Dense</text>\n",
       "<polyline fill=\"none\" points=\"94.5,-.5 94.5,-46.5 \" stroke=\"#000000\"/>\n",
       "<text fill=\"#000000\" font-family=\"Times,serif\" font-size=\"14.00\" text-anchor=\"middle\" x=\"122.5\" y=\"-31.3\">input:</text>\n",
       "<polyline fill=\"none\" points=\"94.5,-23.5 150.5,-23.5 \" stroke=\"#000000\"/>\n",
       "<text fill=\"#000000\" font-family=\"Times,serif\" font-size=\"14.00\" text-anchor=\"middle\" x=\"122.5\" y=\"-8.3\">output:</text>\n",
       "<polyline fill=\"none\" points=\"150.5,-.5 150.5,-46.5 \" stroke=\"#000000\"/>\n",
       "<text fill=\"#000000\" font-family=\"Times,serif\" font-size=\"14.00\" text-anchor=\"middle\" x=\"192.5\" y=\"-31.3\">(None, 250)</text>\n",
       "<polyline fill=\"none\" points=\"150.5,-23.5 234.5,-23.5 \" stroke=\"#000000\"/>\n",
       "<text fill=\"#000000\" font-family=\"Times,serif\" font-size=\"14.00\" text-anchor=\"middle\" x=\"192.5\" y=\"-8.3\">(None, 5)</text>\n",
       "</g>\n",
       "<!-- 112857509560&#45;&gt;112718925496 -->\n",
       "<g class=\"edge\" id=\"edge6\">\n",
       "<title>112857509560-&gt;112718925496</title>\n",
       "<path d=\"M139,-83.3799C139,-75.1745 139,-65.7679 139,-56.8786\" fill=\"none\" stroke=\"#000000\"/>\n",
       "<polygon fill=\"#000000\" points=\"142.5001,-56.784 139,-46.784 135.5001,-56.784 142.5001,-56.784\" stroke=\"#000000\"/>\n",
       "</g>\n",
       "<!-- 4541910152 -->\n",
       "<g class=\"node\" id=\"node7\">\n",
       "<title>4541910152</title>\n",
       "<polygon fill=\"none\" points=\"95.5,-498.5 95.5,-534.5 182.5,-534.5 182.5,-498.5 95.5,-498.5\" stroke=\"#000000\"/>\n",
       "<text fill=\"#000000\" font-family=\"Times,serif\" font-size=\"14.00\" text-anchor=\"middle\" x=\"139\" y=\"-512.8\">4541910152</text>\n",
       "</g>\n",
       "<!-- 4541910152&#45;&gt;112719900176 -->\n",
       "<g class=\"edge\" id=\"edge1\">\n",
       "<title>4541910152-&gt;112719900176</title>\n",
       "<path d=\"M139,-498.4092C139,-490.4308 139,-480.795 139,-471.606\" fill=\"none\" stroke=\"#000000\"/>\n",
       "<polygon fill=\"#000000\" points=\"142.5001,-471.5333 139,-461.5333 135.5001,-471.5334 142.5001,-471.5333\" stroke=\"#000000\"/>\n",
       "</g>\n",
       "</g>\n",
       "</svg>"
      ],
      "text/plain": [
       "<IPython.core.display.SVG object>"
      ]
     },
     "execution_count": 11,
     "metadata": {},
     "output_type": "execute_result"
    }
   ],
   "source": [
    "SVG(model_to_dot(model, show_shapes=True, show_layer_names=False, \n",
    "                 rankdir='TB').create(prog='dot', format='svg'))"
   ]
  },
  {
   "cell_type": "code",
   "execution_count": null,
   "metadata": {},
   "outputs": [
    {
     "name": "stdout",
     "output_type": "stream",
     "text": [
      "(50000,)\n",
      "<class 'pandas.core.series.Series'>\n"
     ]
    },
    {
     "name": "stderr",
     "output_type": "stream",
     "text": [
      "/Users/vinceluk/anaconda3/envs/capstone/lib/python3.7/site-packages/sklearn/preprocessing/_encoders.py:415: FutureWarning: The handling of integer data will change in version 0.22. Currently, the categories are determined based on the range [0, max(values)], while in the future they will be determined based on the unique values.\n",
      "If you want the future behaviour and silence this warning, you can specify \"categories='auto'\".\n",
      "In case you used a LabelEncoder before this OneHotEncoder to convert the categories to integers, then you can now use the OneHotEncoder directly.\n",
      "  warnings.warn(msg, FutureWarning)\n"
     ]
    },
    {
     "data": {
      "text/plain": [
       "array([[0., 0., 0., 0., 1.],\n",
       "       [0., 0., 0., 0., 1.],\n",
       "       [0., 0., 0., 0., 1.],\n",
       "       ...,\n",
       "       [0., 0., 0., 0., 1.],\n",
       "       [1., 0., 0., 0., 0.],\n",
       "       [0., 0., 0., 0., 1.]])"
      ]
     },
     "execution_count": 12,
     "metadata": {},
     "output_type": "execute_result"
    }
   ],
   "source": [
    "# one hot encode rating\n",
    "print(rating.shape)\n",
    "print(type(rating))\n",
    "y = OneHotEncoder().fit_transform(rating.values.reshape(len(rating), 1)).toarray()\n",
    "y"
   ]
  },
  {
   "cell_type": "code",
   "execution_count": null,
   "metadata": {},
   "outputs": [],
   "source": [
    "x_train, x_test, y_train, y_test = train_test_split(df, y, random_state=1)"
   ]
  },
  {
   "cell_type": "code",
   "execution_count": null,
   "metadata": {
    "scrolled": false
   },
   "outputs": [],
   "source": [
    "early_stop = EarlyStopping(monitor='val_loss', patience=2, verbose=1)\n",
    "network_history = model.fit(x_train, y_train,\n",
    "                      batch_size=128,\n",
    "                      epochs=1,\n",
    "                      verbose=1,\n",
    "                      validation_split=0.2,\n",
    "                      callbacks=[early_stop])"
   ]
  },
  {
   "cell_type": "code",
   "execution_count": null,
   "metadata": {},
   "outputs": [],
   "source": [
    "scores = model.evaluate(x_test, y_test, verbose=1)\n",
    "print(\"Accuracy: %.2f%%\" % (scores[1]*100))\n"
   ]
  },
  {
   "cell_type": "code",
   "execution_count": null,
   "metadata": {},
   "outputs": [],
   "source": [
    "import matplotlib.pyplot as plt\n",
    "%matplotlib inline\n",
    "\n",
    "def plot_history(network_history):\n",
    "    plt.figure()\n",
    "    plt.xlabel('Epochs')\n",
    "    plt.ylabel('Loss')\n",
    "    plt.plot(network_history.history['loss'])\n",
    "    plt.plot(network_history.history['val_loss'])\n",
    "    plt.legend(['Training', 'Validation'])\n",
    "\n",
    "    plt.figure()\n",
    "    plt.xlabel('Epochs')\n",
    "    plt.ylabel('Accuracy')\n",
    "    plt.plot(network_history.history['acc'])\n",
    "    plt.plot(network_history.history['val_acc'])\n",
    "    plt.legend(['Training', 'Validation'], loc='lower right')\n",
    "    plt.show()\n",
    "\n",
    "plot_history(network_history)"
   ]
  },
  {
   "cell_type": "code",
   "execution_count": null,
   "metadata": {},
   "outputs": [],
   "source": [
    "y_predict = model.predict(x_test)"
   ]
  },
  {
   "cell_type": "code",
   "execution_count": null,
   "metadata": {},
   "outputs": [],
   "source": [
    "y_predict_df = pd.DataFrame(y_predict)\n",
    "y_predict_df.head()"
   ]
  },
  {
   "cell_type": "code",
   "execution_count": null,
   "metadata": {},
   "outputs": [],
   "source": [
    "y_predict_unencoded = [row.idxmax() + 1 for index, row in y_predict_df.iterrows()]"
   ]
  },
  {
   "cell_type": "code",
   "execution_count": null,
   "metadata": {},
   "outputs": [],
   "source": [
    "y_test_df = pd.DataFrame(y_test)\n",
    "y_test_unencoded = [row.idxmax() + 1 for index, row in y_test_df.iterrows()]"
   ]
  },
  {
   "cell_type": "code",
   "execution_count": null,
   "metadata": {},
   "outputs": [],
   "source": [
    "confusion_matrix(y_test_unencoded, y_predict_unencoded)"
   ]
  },
  {
   "cell_type": "code",
   "execution_count": null,
   "metadata": {},
   "outputs": [],
   "source": [
    "print(classification_report(y_test_unencoded, y_predict_unencoded))"
   ]
  },
  {
   "cell_type": "markdown",
   "metadata": {},
   "source": [
    "# Save off various files"
   ]
  },
  {
   "cell_type": "code",
   "execution_count": null,
   "metadata": {},
   "outputs": [],
   "source": [
    "model.save(MODEL_FILE)"
   ]
  },
  {
   "cell_type": "code",
   "execution_count": null,
   "metadata": {},
   "outputs": [],
   "source": [
    "pickle.dump(network_history, open(NETWORK_HISTORY_FILE, \"wb\"))"
   ]
  },
  {
   "cell_type": "code",
   "execution_count": null,
   "metadata": {},
   "outputs": [],
   "source": [
    "# saving off report in the same format as other report just in case we want to compare for later\n",
    "flattened = {}\n",
    "flattened = du.add_dict_to_dict(flattened, classification_report(y_test_unencoded, y_predict_unencoded, output_dict=True))\n",
    "flattened[\"confusion_matrix\"] = confusion_matrix(y_test_unencoded, y_predict_unencoded)\n",
    "flattened[\"description\"] = DESCRIPTION\n",
    "flattened[\"file\"] = DATA_FILE\n",
    "flattened[\"network_history_file\"] = NETWORK_HISTORY_FILE\n",
    "flattened[\"embedding\"] = \"bow\"\n",
    "flattened[\"model_file\"] = MODEL_FILE\n",
    "flattened[\"model_name\"] = MODEL_NAME\n",
    "flattened[\"test_examples\"] = x_test.shape[0]\n",
    "flattened[\"test_features\"] = x_test.shape[1]\n",
    "flattened[\"train_examples\"] = x_train.shape[0]\n",
    "flattened[\"train_features\"] = x_train.shape[1]\n",
    "flattened[\"status\"] = \"success\"\n",
    "flattened[\"status_date\"] = datetime.now().strftime(TIME_FORMAT)\n"
   ]
  },
  {
   "cell_type": "code",
   "execution_count": null,
   "metadata": {},
   "outputs": [],
   "source": [
    "# check to see if report file exisits, if so load it and append\n",
    "exists = os.path.isfile(REPORT_FILE)\n",
    "if exists:\n",
    "    report_df = pd.read_csv(REPORT_FILE)\n",
    "else:\n",
    "    report_df = pd.DataFrame()\n",
    "    \n",
    "report_df = report_df.append(flattened, ignore_index=True)\n",
    "report_df.head()\n",
    "\n"
   ]
  },
  {
   "cell_type": "code",
   "execution_count": null,
   "metadata": {},
   "outputs": [],
   "source": [
    "report_df.to_csv(REPORT_FILE, index=False)"
   ]
  },
  {
   "cell_type": "code",
   "execution_count": null,
   "metadata": {},
   "outputs": [],
   "source": []
  }
 ],
 "metadata": {
  "hide_input": false,
  "kernelspec": {
   "display_name": "Python 3",
   "language": "python",
   "name": "python3"
  },
  "language_info": {
   "codemirror_mode": {
    "name": "ipython",
    "version": 3
   },
   "file_extension": ".py",
   "mimetype": "text/x-python",
   "name": "python",
   "nbconvert_exporter": "python",
   "pygments_lexer": "ipython3",
   "version": "3.7.3"
  }
 },
 "nbformat": 4,
 "nbformat_minor": 2
}
